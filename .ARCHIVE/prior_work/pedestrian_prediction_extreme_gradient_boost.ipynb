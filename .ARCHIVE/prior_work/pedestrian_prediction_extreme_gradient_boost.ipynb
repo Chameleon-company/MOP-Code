{
 "cells": [
  {
   "cell_type": "code",
   "execution_count": 4,
   "metadata": {},
   "outputs": [],
   "source": [
    "import numpy as np\n",
    "import pandas as pd\n",
    "import matplotlib.pyplot as plt\n",
    "import datetime as dt"
   ]
  },
  {
   "cell_type": "code",
   "execution_count": 5,
   "metadata": {},
   "outputs": [],
   "source": [
    "data=pd.read_csv('machine_learning_preprocessed_data.csv')\n",
    "data_complete=pd.read_csv('data-jan-dec.csv')"
   ]
  },
  {
   "cell_type": "code",
   "execution_count": 6,
   "metadata": {},
   "outputs": [],
   "source": [
    "data_future = data[300289:]\n",
    "data = data[:300289]\n",
    "data_future.drop(['Hourly_Counts'],axis=1,inplace=True)\n",
    "X, Y = data.iloc[:,1:], data.iloc[:,0]"
   ]
  },
  {
   "cell_type": "code",
   "execution_count": 7,
   "metadata": {},
   "outputs": [],
   "source": [
    "train_x = X[:250000]\n",
    "test_x = X[250000:]\n",
    "train_y = Y[:250000]\n",
    "test_y = Y[250000:]"
   ]
  },
  {
   "cell_type": "code",
   "execution_count": 8,
   "metadata": {},
   "outputs": [],
   "source": [
    "import xgboost as xgb\n",
    "from sklearn.metrics import make_scorer\n",
    "from sklearn.model_selection import train_test_split\n",
    "from sklearn.model_selection import GridSearchCV\n",
    "from sklearn.metrics import mean_squared_error"
   ]
  },
  {
   "cell_type": "code",
   "execution_count": 5,
   "metadata": {},
   "outputs": [],
   "source": [
    "train_x, test_x, train_y, test_y = train_test_split(X,Y,test_size=0.2, random_state=10)"
   ]
  },
  {
   "cell_type": "code",
   "execution_count": 10,
   "metadata": {},
   "outputs": [],
   "source": [
    "grid_mse=xgb.XGBRegressor(colsample_bytree=0.7,n_estimators=100,max_depth=25,learning_rate=0.01,subsample=0.7)\n",
    "grid_mse.fit(train_x,train_y)"
   ]
  },
  {
   "cell_type": "code",
   "execution_count": 39,
   "metadata": {},
   "outputs": [
    {
     "data": {
      "text/html": [
       "<div>\n",
       "<style scoped>\n",
       "    .dataframe tbody tr th:only-of-type {\n",
       "        vertical-align: middle;\n",
       "    }\n",
       "\n",
       "    .dataframe tbody tr th {\n",
       "        vertical-align: top;\n",
       "    }\n",
       "\n",
       "    .dataframe thead th {\n",
       "        text-align: right;\n",
       "    }\n",
       "</style>\n",
       "<table border=\"1\" class=\"dataframe\">\n",
       "  <thead>\n",
       "    <tr style=\"text-align: right;\">\n",
       "      <th></th>\n",
       "      <th>test</th>\n",
       "      <th>train</th>\n",
       "    </tr>\n",
       "  </thead>\n",
       "  <tbody>\n",
       "    <tr>\n",
       "      <th>RMSE error</th>\n",
       "      <td>344.480977</td>\n",
       "      <td>396.793647</td>\n",
       "    </tr>\n",
       "  </tbody>\n",
       "</table>\n",
       "</div>"
      ],
      "text/plain": [
       "                  test       train\n",
       "RMSE error  344.480977  396.793647"
      ]
     },
     "execution_count": 39,
     "metadata": {},
     "output_type": "execute_result"
    }
   ],
   "source": [
    "#predicting test results\n",
    "pred=grid_mse.predict(test_x)\n",
    "#converting to array\n",
    "pred=np.array(pred)\n",
    "y_test=np.array(test_y)\n",
    "#calculating error RMSE\n",
    "error=pred-y_test\n",
    "error2=error**2\n",
    "test_rmse=np.sqrt(error2.sum()/len(error2))\n",
    "\n",
    "#predicting results for train\n",
    "pred=grid_mse.predict(train_x)\n",
    "#converting to array\n",
    "pred=np.array(pred)\n",
    "y_train=np.array(train_y)\n",
    "#calculating error RMSE\n",
    "error=pred-y_train\n",
    "error2=error**2\n",
    "train_rmse=np.sqrt(error2.sum()/len(error2))\n",
    "\n",
    "    \n",
    "c=[np.mean(test_rmse)]\n",
    "c1=[np.mean(train_rmse)]\n",
    "\n",
    "c=pd.DataFrame(c)\n",
    "c1=pd.DataFrame(c1)\n",
    "result=pd.concat([c,c1],axis=1)\n",
    "result.columns=['test','train']\n",
    "result.index=['RMSE error']\n",
    "result"
   ]
  },
  {
   "cell_type": "code",
   "execution_count": null,
   "metadata": {},
   "outputs": [],
   "source": [
    "grid_mse=xgb.XGBRegressor(colsample_bytree=0.9,n_estimators=110,max_depth=25,learning_rate=0.02,subsample=0.8)\n",
    "grid_mse.fit(train_x,train_y)"
   ]
  },
  {
   "cell_type": "code",
   "execution_count": null,
   "metadata": {},
   "outputs": [],
   "source": [
    "#predicting test results\n",
    "pred=grid_mse.predict(test_x)\n",
    "#converting to array\n",
    "pred=np.array(pred)\n",
    "y_test=np.array(test_y)\n",
    "#calculating error RMSE\n",
    "error=pred-y_test\n",
    "error2=error**2\n",
    "test_rmse=np.sqrt(error2.sum()/len(error2))\n",
    "\n",
    "#predicting results for train\n",
    "pred=grid_mse.predict(train_x)\n",
    "#converting to array\n",
    "pred=np.array(pred)\n",
    "y_train=np.array(train_y)\n",
    "#calculating error RMSE\n",
    "error=pred-y_train\n",
    "error2=error**2\n",
    "train_rmse=np.sqrt(error2.sum()/len(error2))\n",
    "\n",
    "    \n",
    "c=[np.mean(test_rmse)]\n",
    "c1=[np.mean(train_rmse)]\n",
    "\n",
    "c=pd.DataFrame(c)\n",
    "c1=pd.DataFrame(c1)\n",
    "result=pd.concat([c,c1],axis=1)\n",
    "result.columns=['test','train']\n",
    "result.index=['RMSE error']\n",
    "result"
   ]
  },
  {
   "cell_type": "code",
   "execution_count": null,
   "metadata": {},
   "outputs": [],
   "source": [
    "grid_mse=xgb.XGBRegressor(colsample_bytree=0.6,n_estimators=70,max_depth=20,learning_rate=0.005,subsample=0.9)\n",
    "grid_mse.fit(train_x,train_y)"
   ]
  },
  {
   "cell_type": "code",
   "execution_count": null,
   "metadata": {},
   "outputs": [],
   "source": [
    "#predicting test results\n",
    "pred=grid_mse.predict(test_x)\n",
    "#converting to array\n",
    "pred=np.array(pred)\n",
    "y_test=np.array(test_y)\n",
    "#calculating error RMSE\n",
    "error=pred-y_test\n",
    "error2=error**2\n",
    "test_rmse=np.sqrt(error2.sum()/len(error2))\n",
    "\n",
    "#predicting results for train\n",
    "pred=grid_mse.predict(train_x)\n",
    "#converting to array\n",
    "pred=np.array(pred)\n",
    "y_train=np.array(train_y)\n",
    "#calculating error RMSE\n",
    "error=pred-y_train\n",
    "error2=error**2\n",
    "train_rmse=np.sqrt(error2.sum()/len(error2))\n",
    "\n",
    "    \n",
    "c=[np.mean(test_rmse)]\n",
    "c1=[np.mean(train_rmse)]\n",
    "\n",
    "c=pd.DataFrame(c)\n",
    "c1=pd.DataFrame(c1)\n",
    "result=pd.concat([c,c1],axis=1)\n",
    "result.columns=['test','train']\n",
    "result.index=['RMSE error']\n",
    "result"
   ]
  },
  {
   "cell_type": "code",
   "execution_count": null,
   "metadata": {},
   "outputs": [],
   "source": [
    "grid_mse=xgb.XGBRegressor(colsample_bytree=0.5,n_estimators=80,max_depth=18,learning_rate=0.05,subsample=0.6)\n",
    "grid_mse.fit(train_x,train_y)"
   ]
  },
  {
   "cell_type": "code",
   "execution_count": null,
   "metadata": {},
   "outputs": [],
   "source": [
    "#predicting test results\n",
    "pred=grid_mse.predict(test_x)\n",
    "#converting to array\n",
    "pred=np.array(pred)\n",
    "y_test=np.array(test_y)\n",
    "#calculating error RMSE\n",
    "error=pred-y_test\n",
    "error2=error**2\n",
    "test_rmse=np.sqrt(error2.sum()/len(error2))\n",
    "\n",
    "#predicting results for train\n",
    "pred=grid_mse.predict(train_x)\n",
    "#converting to array\n",
    "pred=np.array(pred)\n",
    "y_train=np.array(train_y)\n",
    "#calculating error RMSE\n",
    "error=pred-y_train\n",
    "error2=error**2\n",
    "train_rmse=np.sqrt(error2.sum()/len(error2))\n",
    "\n",
    "    \n",
    "c=[np.mean(test_rmse)]\n",
    "c1=[np.mean(train_rmse)]\n",
    "\n",
    "c=pd.DataFrame(c)\n",
    "c1=pd.DataFrame(c1)\n",
    "result=pd.concat([c,c1],axis=1)\n",
    "result.columns=['test','train']\n",
    "result.index=['RMSE error']\n",
    "result"
   ]
  },
  {
   "cell_type": "code",
   "execution_count": null,
   "metadata": {},
   "outputs": [],
   "source": [
    "grid_mse=xgb.XGBRegressor(colsample_bytree=0.9,n_estimators=90, max_depth=22,learning_rate=0.01,subsample=0.7)\n",
    "grid_mse.fit(train_x,train_y)"
   ]
  },
  {
   "cell_type": "code",
   "execution_count": null,
   "metadata": {},
   "outputs": [],
   "source": [
    "#predicting test results\n",
    "pred=grid_mse.predict(test_x)\n",
    "#converting to array\n",
    "pred=np.array(pred)\n",
    "y_test=np.array(test_y)\n",
    "#calculating error RMSE\n",
    "error=pred-y_test\n",
    "error2=error**2\n",
    "test_rmse=np.sqrt(error2.sum()/len(error2))\n",
    "\n",
    "#predicting results for train\n",
    "pred=grid_mse.predict(train_x)\n",
    "#converting to array\n",
    "pred=np.array(pred)\n",
    "y_train=np.array(train_y)\n",
    "#calculating error RMSE\n",
    "error=pred-y_train\n",
    "error2=error**2\n",
    "train_rmse=np.sqrt(error2.sum()/len(error2))\n",
    "\n",
    "    \n",
    "c=[np.mean(test_rmse)]\n",
    "c1=[np.mean(train_rmse)]\n",
    "\n",
    "c=pd.DataFrame(c)\n",
    "c1=pd.DataFrame(c1)\n",
    "result=pd.concat([c,c1],axis=1)\n",
    "result.columns=['test','train']\n",
    "result.index=['RMSE error']\n",
    "result"
   ]
  },
  {
   "cell_type": "code",
   "execution_count": 21,
   "metadata": {},
   "outputs": [],
   "source": [
    "df = pd.DataFrame({'column_sample_tree':[0.7,0.6,0.5,0.8,0.7,0.4, 0.7,0.5,0.6,0.7],\n",
    "                   'number_estimators':[70,70,100,80,90,90,85,75,110,105],\n",
    "                   'max_depth':[15,25,20,17,23,25,20,25,25,20],\n",
    "                   'learning_rate':[0.01,0.05,0.005,0.1,0.07,0.01,0.02,0.05,0.01,0.01],\n",
    "                   'subsample':[0.7,0.9,0.6,0.5,0.7,0.6,0.7,0.9,0.8,0.7],\n",
    "                   'RMSE for train':[396, 340, 365, 329, 357,367, 320, 430, 391,377],\n",
    "                   'RMSE for test':[344, 370, 390, 378, 411, 388, 339, 410, 430, 395]})"
   ]
  },
  {
   "cell_type": "code",
   "execution_count": 22,
   "metadata": {},
   "outputs": [
    {
     "data": {
      "text/html": [
       "<div>\n",
       "<style scoped>\n",
       "    .dataframe tbody tr th:only-of-type {\n",
       "        vertical-align: middle;\n",
       "    }\n",
       "\n",
       "    .dataframe tbody tr th {\n",
       "        vertical-align: top;\n",
       "    }\n",
       "\n",
       "    .dataframe thead th {\n",
       "        text-align: right;\n",
       "    }\n",
       "</style>\n",
       "<table border=\"1\" class=\"dataframe\">\n",
       "  <thead>\n",
       "    <tr style=\"text-align: right;\">\n",
       "      <th></th>\n",
       "      <th>column_sample_tree</th>\n",
       "      <th>number_estimators</th>\n",
       "      <th>max_depth</th>\n",
       "      <th>learning_rate</th>\n",
       "      <th>subsample</th>\n",
       "      <th>RMSE for train</th>\n",
       "      <th>RMSE for test</th>\n",
       "    </tr>\n",
       "  </thead>\n",
       "  <tbody>\n",
       "    <tr>\n",
       "      <th>0</th>\n",
       "      <td>0.7</td>\n",
       "      <td>70</td>\n",
       "      <td>15</td>\n",
       "      <td>0.010</td>\n",
       "      <td>0.7</td>\n",
       "      <td>396</td>\n",
       "      <td>344</td>\n",
       "    </tr>\n",
       "    <tr>\n",
       "      <th>1</th>\n",
       "      <td>0.6</td>\n",
       "      <td>70</td>\n",
       "      <td>25</td>\n",
       "      <td>0.050</td>\n",
       "      <td>0.9</td>\n",
       "      <td>340</td>\n",
       "      <td>370</td>\n",
       "    </tr>\n",
       "    <tr>\n",
       "      <th>2</th>\n",
       "      <td>0.5</td>\n",
       "      <td>100</td>\n",
       "      <td>20</td>\n",
       "      <td>0.005</td>\n",
       "      <td>0.6</td>\n",
       "      <td>365</td>\n",
       "      <td>390</td>\n",
       "    </tr>\n",
       "    <tr>\n",
       "      <th>3</th>\n",
       "      <td>0.8</td>\n",
       "      <td>80</td>\n",
       "      <td>17</td>\n",
       "      <td>0.100</td>\n",
       "      <td>0.5</td>\n",
       "      <td>329</td>\n",
       "      <td>378</td>\n",
       "    </tr>\n",
       "    <tr>\n",
       "      <th>4</th>\n",
       "      <td>0.7</td>\n",
       "      <td>90</td>\n",
       "      <td>23</td>\n",
       "      <td>0.070</td>\n",
       "      <td>0.7</td>\n",
       "      <td>357</td>\n",
       "      <td>411</td>\n",
       "    </tr>\n",
       "    <tr>\n",
       "      <th>5</th>\n",
       "      <td>0.4</td>\n",
       "      <td>90</td>\n",
       "      <td>25</td>\n",
       "      <td>0.010</td>\n",
       "      <td>0.6</td>\n",
       "      <td>367</td>\n",
       "      <td>388</td>\n",
       "    </tr>\n",
       "    <tr>\n",
       "      <th>6</th>\n",
       "      <td>0.7</td>\n",
       "      <td>85</td>\n",
       "      <td>20</td>\n",
       "      <td>0.020</td>\n",
       "      <td>0.7</td>\n",
       "      <td>320</td>\n",
       "      <td>339</td>\n",
       "    </tr>\n",
       "    <tr>\n",
       "      <th>7</th>\n",
       "      <td>0.5</td>\n",
       "      <td>75</td>\n",
       "      <td>25</td>\n",
       "      <td>0.050</td>\n",
       "      <td>0.9</td>\n",
       "      <td>430</td>\n",
       "      <td>410</td>\n",
       "    </tr>\n",
       "    <tr>\n",
       "      <th>8</th>\n",
       "      <td>0.6</td>\n",
       "      <td>110</td>\n",
       "      <td>25</td>\n",
       "      <td>0.010</td>\n",
       "      <td>0.8</td>\n",
       "      <td>391</td>\n",
       "      <td>430</td>\n",
       "    </tr>\n",
       "    <tr>\n",
       "      <th>9</th>\n",
       "      <td>0.7</td>\n",
       "      <td>105</td>\n",
       "      <td>20</td>\n",
       "      <td>0.010</td>\n",
       "      <td>0.7</td>\n",
       "      <td>377</td>\n",
       "      <td>395</td>\n",
       "    </tr>\n",
       "  </tbody>\n",
       "</table>\n",
       "</div>"
      ],
      "text/plain": [
       "   column_sample_tree  number_estimators  max_depth  learning_rate  subsample  \\\n",
       "0                 0.7                 70         15          0.010        0.7   \n",
       "1                 0.6                 70         25          0.050        0.9   \n",
       "2                 0.5                100         20          0.005        0.6   \n",
       "3                 0.8                 80         17          0.100        0.5   \n",
       "4                 0.7                 90         23          0.070        0.7   \n",
       "5                 0.4                 90         25          0.010        0.6   \n",
       "6                 0.7                 85         20          0.020        0.7   \n",
       "7                 0.5                 75         25          0.050        0.9   \n",
       "8                 0.6                110         25          0.010        0.8   \n",
       "9                 0.7                105         20          0.010        0.7   \n",
       "\n",
       "   RMSE for train  RMSE for test  \n",
       "0             396            344  \n",
       "1             340            370  \n",
       "2             365            390  \n",
       "3             329            378  \n",
       "4             357            411  \n",
       "5             367            388  \n",
       "6             320            339  \n",
       "7             430            410  \n",
       "8             391            430  \n",
       "9             377            395  "
      ]
     },
     "execution_count": 22,
     "metadata": {},
     "output_type": "execute_result"
    }
   ],
   "source": [
    "df"
   ]
  },
  {
   "cell_type": "code",
   "execution_count": 35,
   "metadata": {},
   "outputs": [],
   "source": [
    "pred=grid_mse.predict(test_x)"
   ]
  },
  {
   "cell_type": "code",
   "execution_count": 36,
   "metadata": {},
   "outputs": [],
   "source": [
    "x=pd.DataFrame(test_y)"
   ]
  },
  {
   "cell_type": "code",
   "execution_count": 37,
   "metadata": {},
   "outputs": [],
   "source": [
    "x['pred']=pred"
   ]
  },
  {
   "cell_type": "code",
   "execution_count": 38,
   "metadata": {},
   "outputs": [],
   "source": [
    "x.to_csv('data_predict.csv',index=False)"
   ]
  },
  {
   "cell_type": "code",
   "execution_count": 95,
   "metadata": {},
   "outputs": [
    {
     "name": "stderr",
     "output_type": "stream",
     "text": [
      "C:\\Users\\ausaf\\anaconda3\\lib\\site-packages\\pandas\\core\\frame.py:3997: SettingWithCopyWarning: \n",
      "A value is trying to be set on a copy of a slice from a DataFrame\n",
      "\n",
      "See the caveats in the documentation: https://pandas.pydata.org/pandas-docs/stable/user_guide/indexing.html#returning-a-view-versus-a-copy\n",
      "  errors=errors,\n"
     ]
    }
   ],
   "source": [
    "data_old = data_complete[:300289]\n",
    "data_new = data_complete[300289:]\n",
    "data_new.drop(['Hourly_Counts'],axis=1,inplace=True)"
   ]
  },
  {
   "cell_type": "code",
   "execution_count": 70,
   "metadata": {},
   "outputs": [],
   "source": [
    "new_pred=grid_mse.predict(data_future)"
   ]
  },
  {
   "cell_type": "code",
   "execution_count": 99,
   "metadata": {},
   "outputs": [
    {
     "name": "stderr",
     "output_type": "stream",
     "text": [
      "C:\\Users\\ausaf\\anaconda3\\lib\\site-packages\\ipykernel_launcher.py:1: SettingWithCopyWarning: \n",
      "A value is trying to be set on a copy of a slice from a DataFrame.\n",
      "Try using .loc[row_indexer,col_indexer] = value instead\n",
      "\n",
      "See the caveats in the documentation: https://pandas.pydata.org/pandas-docs/stable/user_guide/indexing.html#returning-a-view-versus-a-copy\n",
      "  \"\"\"Entry point for launching an IPython kernel.\n"
     ]
    }
   ],
   "source": [
    "data_new['Hourly_Counts']=new_pred"
   ]
  },
  {
   "cell_type": "code",
   "execution_count": 101,
   "metadata": {},
   "outputs": [],
   "source": [
    "data_complete=pd.concat([data_old,data_new],axis=0)"
   ]
  },
  {
   "cell_type": "code",
   "execution_count": 103,
   "metadata": {},
   "outputs": [],
   "source": [
    "data_complete.to_csv('data_predict.csv',index=True)"
   ]
  }
 ],
 "metadata": {
  "kernelspec": {
   "display_name": "Python 3",
   "language": "python",
   "name": "python3"
  },
  "language_info": {
   "codemirror_mode": {
    "name": "ipython",
    "version": 3
   },
   "file_extension": ".py",
   "mimetype": "text/x-python",
   "name": "python",
   "nbconvert_exporter": "python",
   "pygments_lexer": "ipython3",
   "version": "3.7.6"
  }
 },
 "nbformat": 4,
 "nbformat_minor": 4
}
