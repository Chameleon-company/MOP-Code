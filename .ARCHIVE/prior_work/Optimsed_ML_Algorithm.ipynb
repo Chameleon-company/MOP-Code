{
  "nbformat": 4,
  "nbformat_minor": 0,
  "metadata": {
    "colab": {
      "name": "Optimsed_ML_Algorithm.ipynb",
      "provenance": []
    },
    "kernelspec": {
      "name": "python3",
      "display_name": "Python 3"
    }
  },
  "cells": [
    {
      "cell_type": "code",
      "metadata": {
        "id": "gLQyk5ULZUZ8",
        "colab_type": "code",
        "colab": {}
      },
      "source": [
        "import pandas as pd\n",
        "import numpy as np \n",
        "import datetime as dt\n",
        "from sklearn.linear_model import LinearRegression\n",
        "from sklearn.metrics import mean_absolute_error\n",
        "from sklearn.preprocessing import scale\n",
        "import matplotlib.pyplot as plt\n",
        "from sklearn.metrics import mean_squared_error\n",
        "from sklearn.model_selection import train_test_split"
      ],
      "execution_count": 22,
      "outputs": []
    },
    {
      "cell_type": "code",
      "metadata": {
        "id": "LTbs-HYzZvz9",
        "colab_type": "code",
        "colab": {}
      },
      "source": [
        "pedestrian_data = pd.read_csv('machine_learning_preprocessed_data.csv')"
      ],
      "execution_count": 15,
      "outputs": []
    },
    {
      "cell_type": "code",
      "metadata": {
        "id": "gufqYjIbd1ua",
        "colab_type": "code",
        "colab": {
          "base_uri": "https://localhost:8080/",
          "height": 34
        },
        "outputId": "6f9c33b7-7dab-451f-81da-a274098a67b0"
      },
      "source": [
        "len(pedestrian_data)"
      ],
      "execution_count": 16,
      "outputs": [
        {
          "output_type": "execute_result",
          "data": {
            "text/plain": [
              "192539"
            ]
          },
          "metadata": {
            "tags": []
          },
          "execution_count": 16
        }
      ]
    },
    {
      "cell_type": "code",
      "metadata": {
        "id": "HIg0xa5ceeqH",
        "colab_type": "code",
        "colab": {
          "base_uri": "https://localhost:8080/",
          "height": 34
        },
        "outputId": "5f946242-5a82-4126-db54-b7cafa2c2eee"
      },
      "source": [
        "data=pedestrian_data.dropna()\n",
        "len(data)"
      ],
      "execution_count": 18,
      "outputs": [
        {
          "output_type": "execute_result",
          "data": {
            "text/plain": [
              "192538"
            ]
          },
          "metadata": {
            "tags": []
          },
          "execution_count": 18
        }
      ]
    },
    {
      "cell_type": "code",
      "metadata": {
        "id": "XyOvCkLrebWN",
        "colab_type": "code",
        "colab": {}
      },
      "source": [
        "Y = data['Hourly_Counts'].values\n",
        "X =data.drop('Hourly_Counts',axis=1).values"
      ],
      "execution_count": 20,
      "outputs": []
    },
    {
      "cell_type": "code",
      "metadata": {
        "id": "yoZBkEqXfV7-",
        "colab_type": "code",
        "colab": {}
      },
      "source": [
        "# Create training and test sets\n",
        "X_train, X_test, y_train, y_test = train_test_split(X,Y, test_size = 0.3, random_state=42)"
      ],
      "execution_count": 24,
      "outputs": []
    },
    {
      "cell_type": "code",
      "metadata": {
        "id": "Iy3ZK5GrfPk4",
        "colab_type": "code",
        "colab": {
          "base_uri": "https://localhost:8080/",
          "height": 34
        },
        "outputId": "3c44d89b-835e-4358-bbe5-ccbc472e39a6"
      },
      "source": [
        "from sklearn.linear_model import LinearRegression\n",
        "from sklearn.metrics import mean_absolute_error\n",
        "from sklearn.model_selection import GridSearchCV\n",
        "\n",
        "# Instantiate the ElasticNet regressor: elastic_net\n",
        "linear_model = LinearRegression(normalize = True)\n",
        "\n",
        "# Fit it to the  same split done in the previous part\n",
        "linear_model.fit(X_train,y_train)\n",
        "pred= linear_model.predict(X_test)\n",
        "# Found the best parameters\n",
        "print(\"Mean Absolute Error is:\",mean_absolute_error(y_test,pred))"
      ],
      "execution_count": 38,
      "outputs": [
        {
          "output_type": "stream",
          "text": [
            "Mean Absolute Error is: 285.3029587257502\n"
          ],
          "name": "stdout"
        }
      ]
    },
    {
      "cell_type": "code",
      "metadata": {
        "id": "xQ--f-YeZpoh",
        "colab_type": "code",
        "colab": {
          "base_uri": "https://localhost:8080/",
          "height": 52
        },
        "outputId": "c22db45a-3a55-42ff-b268-b55c6fd33e26"
      },
      "source": [
        "from sklearn.linear_model import ElasticNet\n",
        "from sklearn.metrics import mean_squared_error\n",
        "from sklearn.model_selection import GridSearchCV\n",
        "\n",
        "# Instantiate the ElasticNet regressor: elastic_net\n",
        "elastic_net = ElasticNet(normalize = True)\n",
        "\n",
        "# Create the hyperparameter grid\n",
        "param_grid = {'alpha':[1e-5,1e-4,1e-3,1e-2,1e-1,1,2,3,4,5], 'l1_ratio':[1e-5,1e-4,1e-3,1e-2,0.1,0.2,0.3,0.4,0.5,0.6,0.7,0.8,0.9]}\n",
        "\n",
        "\n",
        "# Setup the GridSearchCV object: using elastic net\n",
        "gm_cv = GridSearchCV(elastic_net, param_grid, scoring='neg_mean_absolute_error' , cv=10)\n",
        "\n",
        "# Fit it to the  same split done in the previous part\n",
        "gm_cv.fit(X_train,y_train)\n",
        "\n",
        "# Found the best parameters\n",
        "print(\"Best Parameters: \",gm_cv.best_params_)\n",
        "print(\"Mean Absolute Error is:\",-gm_cv.best_score_)"
      ],
      "execution_count": 32,
      "outputs": [
        {
          "output_type": "stream",
          "text": [
            "Best Parameters:  {'alpha': 1e-05, 'l1_ratio': 0.6}\n",
            "Mean Absolute Error is: 263.98173005869023\n"
          ],
          "name": "stdout"
        }
      ]
    }
  ]
}