{
  "nbformat": 4,
  "nbformat_minor": 0,
  "metadata": {
    "colab": {
      "name": "proj_dataset.ipynb",
      "provenance": [],
      "collapsed_sections": []
    },
    "kernelspec": {
      "name": "python3",
      "display_name": "Python 3"
    },
    "language_info": {
      "name": "python"
    }
  },
  "cells": [
    {
      "cell_type": "code",
      "metadata": {
        "id": "AVIOj-WtjIKQ"
      },
      "source": [
        "# installing dependencies\n",
        "!pip install sodapy"
      ],
      "execution_count": null,
      "outputs": []
    },
    {
      "cell_type": "code",
      "metadata": {
        "colab": {
          "base_uri": "https://localhost:8080/"
        },
        "id": "bFQBuO48jG9Z",
        "outputId": "b9a139e2-a5ff-4c3a-83a5-3d33a6ca0eb0"
      },
      "source": [
        "from sodapy import Socrata\n",
        "import pandas as pd\n",
        "\n",
        "\n",
        "# Fetching data\n",
        "client = Socrata('data.melbourne.vic.gov.au', None)\n",
        "results = client.get('b2ak-trbp', limit=3482938)\n",
        "df = pd.DataFrame.from_records(results)\n"
      ],
      "execution_count": null,
      "outputs": [
        {
          "output_type": "stream",
          "text": [
            "WARNING:root:Requests made without an app_token will be subject to strict throttling limits.\n"
          ],
          "name": "stderr"
        }
      ]
    },
    {
      "cell_type": "code",
      "metadata": {
        "colab": {
          "base_uri": "https://localhost:8080/",
          "height": 424
        },
        "id": "lvhjpOvgjnCS",
        "outputId": "db186352-3c54-4112-c538-60aba41bd646"
      },
      "source": [
        "# Datetime conversion\n",
        "df['date'] = df['year'] + '-' + df['month'] + '-' + df['mdate'] \n",
        "df['date'] = pd.to_datetime(df['date'])\n",
        "df.drop(columns=['id',\t'date_time','year',\t'month',\t'mdate',\t'day',\t'time' ], inplace = True)\n",
        "#converting 'sensor_id' and 'hourly_counts' to int\n",
        "df[['sensor_id','hourly_counts']] = df[['sensor_id','hourly_counts']].astype('int')\n",
        "df"
      ],
      "execution_count": null,
      "outputs": [
        {
          "output_type": "execute_result",
          "data": {
            "text/html": [
              "<div>\n",
              "<style scoped>\n",
              "    .dataframe tbody tr th:only-of-type {\n",
              "        vertical-align: middle;\n",
              "    }\n",
              "\n",
              "    .dataframe tbody tr th {\n",
              "        vertical-align: top;\n",
              "    }\n",
              "\n",
              "    .dataframe thead th {\n",
              "        text-align: right;\n",
              "    }\n",
              "</style>\n",
              "<table border=\"1\" class=\"dataframe\">\n",
              "  <thead>\n",
              "    <tr style=\"text-align: right;\">\n",
              "      <th></th>\n",
              "      <th>sensor_id</th>\n",
              "      <th>sensor_name</th>\n",
              "      <th>hourly_counts</th>\n",
              "      <th>date</th>\n",
              "    </tr>\n",
              "  </thead>\n",
              "  <tbody>\n",
              "    <tr>\n",
              "      <th>0</th>\n",
              "      <td>34</td>\n",
              "      <td>Flinders St-Spark La</td>\n",
              "      <td>300</td>\n",
              "      <td>2019-11-01</td>\n",
              "    </tr>\n",
              "    <tr>\n",
              "      <th>1</th>\n",
              "      <td>39</td>\n",
              "      <td>Alfred Place</td>\n",
              "      <td>604</td>\n",
              "      <td>2019-11-01</td>\n",
              "    </tr>\n",
              "    <tr>\n",
              "      <th>2</th>\n",
              "      <td>37</td>\n",
              "      <td>Lygon St (East)</td>\n",
              "      <td>216</td>\n",
              "      <td>2019-11-01</td>\n",
              "    </tr>\n",
              "    <tr>\n",
              "      <th>3</th>\n",
              "      <td>40</td>\n",
              "      <td>Lonsdale St-Spring St (West)</td>\n",
              "      <td>627</td>\n",
              "      <td>2019-11-01</td>\n",
              "    </tr>\n",
              "    <tr>\n",
              "      <th>4</th>\n",
              "      <td>36</td>\n",
              "      <td>Queen St (West)</td>\n",
              "      <td>774</td>\n",
              "      <td>2019-11-01</td>\n",
              "    </tr>\n",
              "    <tr>\n",
              "      <th>...</th>\n",
              "      <td>...</td>\n",
              "      <td>...</td>\n",
              "      <td>...</td>\n",
              "      <td>...</td>\n",
              "    </tr>\n",
              "    <tr>\n",
              "      <th>3482933</th>\n",
              "      <td>68</td>\n",
              "      <td>Flinders Ln -Degraves St (North)</td>\n",
              "      <td>0</td>\n",
              "      <td>2020-12-31</td>\n",
              "    </tr>\n",
              "    <tr>\n",
              "      <th>3482934</th>\n",
              "      <td>69</td>\n",
              "      <td>Flinders Ln -Degraves St (Crossing)</td>\n",
              "      <td>0</td>\n",
              "      <td>2020-12-31</td>\n",
              "    </tr>\n",
              "    <tr>\n",
              "      <th>3482935</th>\n",
              "      <td>70</td>\n",
              "      <td>Errol Street (East)</td>\n",
              "      <td>7</td>\n",
              "      <td>2020-12-31</td>\n",
              "    </tr>\n",
              "    <tr>\n",
              "      <th>3482936</th>\n",
              "      <td>71</td>\n",
              "      <td>Westwood Place</td>\n",
              "      <td>22</td>\n",
              "      <td>2020-12-31</td>\n",
              "    </tr>\n",
              "    <tr>\n",
              "      <th>3482937</th>\n",
              "      <td>73</td>\n",
              "      <td>Bourke St - Spencer St (South)</td>\n",
              "      <td>153</td>\n",
              "      <td>2020-12-31</td>\n",
              "    </tr>\n",
              "  </tbody>\n",
              "</table>\n",
              "<p>3482938 rows × 4 columns</p>\n",
              "</div>"
            ],
            "text/plain": [
              "         sensor_id  ...       date\n",
              "0               34  ... 2019-11-01\n",
              "1               39  ... 2019-11-01\n",
              "2               37  ... 2019-11-01\n",
              "3               40  ... 2019-11-01\n",
              "4               36  ... 2019-11-01\n",
              "...            ...  ...        ...\n",
              "3482933         68  ... 2020-12-31\n",
              "3482934         69  ... 2020-12-31\n",
              "3482935         70  ... 2020-12-31\n",
              "3482936         71  ... 2020-12-31\n",
              "3482937         73  ... 2020-12-31\n",
              "\n",
              "[3482938 rows x 4 columns]"
            ]
          },
          "metadata": {
            "tags": []
          },
          "execution_count": 21
        }
      ]
    },
    {
      "cell_type": "code",
      "metadata": {
        "id": "7A0HWarfkzNW"
      },
      "source": [
        "# getting daily pedestrian count\n",
        "daily_df = df.groupby(['date'], as_index=False)['hourly_counts'].sum()\n",
        "daily_df.rename(columns={'hourly_counts':'Total_Pedestrian_Count'}, inplace=True)\n",
        "daily_df.to_csv('Pedcount_per_day.tsv',index=False,sep='\\t')"
      ],
      "execution_count": null,
      "outputs": []
    },
    {
      "cell_type": "code",
      "metadata": {
        "colab": {
          "base_uri": "https://localhost:8080/",
          "height": 312
        },
        "id": "DCAKVICVpGTd",
        "outputId": "72c03e4e-244d-417b-f0e2-3f7bf88f7bfd"
      },
      "source": [
        "# Yearly Count Visualization\n",
        "from matplotlib import pyplot as plt\n",
        "\n",
        "viz_df = daily_df.copy()\n",
        "viz_df['year'] = viz_df['date'].dt.year\n",
        "year_sales = viz_df.groupby(['year'], as_index=False)['Total_Pedestrian_Count'].sum()\n",
        "year_sales.plot(kind='line', x='year',y='Total_Pedestrian_Count')\n",
        "plt.ylabel('Sales Count')\n",
        "plt.title('Total sales by year')\n",
        "plt.show"
      ],
      "execution_count": null,
      "outputs": [
        {
          "output_type": "execute_result",
          "data": {
            "text/plain": [
              "<function matplotlib.pyplot.show>"
            ]
          },
          "metadata": {
            "tags": []
          },
          "execution_count": 26
        },
        {
          "output_type": "display_data",
          "data": {
            "image/png": "[encoded data removed]",
            "text/plain": [
              "<Figure size 432x288 with 1 Axes>"
            ]
          },
          "metadata": {
            "tags": [],
            "needs_background": "light"
          }
        }
      ]
    },
    {
      "cell_type": "code",
      "metadata": {
        "id": "Mv_PhZV7lJlp"
      },
      "source": [
        "# Merging with weather data"
      ],
      "execution_count": null,
      "outputs": []
    }
  ]
}