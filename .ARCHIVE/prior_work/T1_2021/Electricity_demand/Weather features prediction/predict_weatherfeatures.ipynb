{
  "nbformat": 4,
  "nbformat_minor": 0,
  "metadata": {
    "colab": {
      "name": "Untitled80.ipynb",
      "provenance": []
    },
    "kernelspec": {
      "name": "python3",
      "display_name": "Python 3"
    },
    "language_info": {
      "name": "python"
    }
  },
  "cells": [
    {
      "cell_type": "code",
      "metadata": {
        "id": "R3tCeWHNUm-1"
      },
      "source": [
        "#Import Libraries\n",
        "import joblib\n",
        "import pandas as pd\n",
        "import numpy as np\n",
        "import pickle"
      ],
      "execution_count": 52,
      "outputs": []
    },
    {
      "cell_type": "code",
      "metadata": {
        "id": "lX6OFd6iVUAZ"
      },
      "source": [
        "#Read as a pandas dataframe\n",
        "data = pd.read_csv('Test_set_for_weatherfeatures.csv')"
      ],
      "execution_count": 45,
      "outputs": []
    },
    {
      "cell_type": "code",
      "metadata": {
        "id": "O58UWUtCVYqm"
      },
      "source": [
        "#Loaded the models\n",
        "loaded_model_min_temperature = joblib.load('finalized_svr_model_for_min_temp.sav')\n",
        "loaded_model_max_temperature = joblib.load('finalized_knn_model_for_max_temp.sav')\n",
        "loaded_model_rainfall = joblib.load('finalized_model_decisiontree_rainfall.sav')\n",
        "loaded_model_solar = joblib.load('finalized_svr_model_for_Solar_exposure.sav')\n"
      ],
      "execution_count": 54,
      "outputs": []
    },
    {
      "cell_type": "code",
      "metadata": {
        "id": "l2kMKXLdVy1s"
      },
      "source": [
        "#dropping the first column\n",
        "data.drop(columns=['Unnamed: 0'], inplace=True)"
      ],
      "execution_count": 47,
      "outputs": []
    },
    {
      "cell_type": "code",
      "metadata": {
        "colab": {
          "base_uri": "https://localhost:8080/",
          "height": 194
        },
        "id": "PPhA1SYOWSwD",
        "outputId": "bc7bc5dc-9658-4b0e-85fc-43a7bfd3490e"
      },
      "source": [
        "#View the dataframe\n",
        "data.head()"
      ],
      "execution_count": 20,
      "outputs": [
        {
          "output_type": "execute_result",
          "data": {
            "text/html": [
              "<div>\n",
              "<style scoped>\n",
              "    .dataframe tbody tr th:only-of-type {\n",
              "        vertical-align: middle;\n",
              "    }\n",
              "\n",
              "    .dataframe tbody tr th {\n",
              "        vertical-align: top;\n",
              "    }\n",
              "\n",
              "    .dataframe thead th {\n",
              "        text-align: right;\n",
              "    }\n",
              "</style>\n",
              "<table border=\"1\" class=\"dataframe\">\n",
              "  <thead>\n",
              "    <tr style=\"text-align: right;\">\n",
              "      <th></th>\n",
              "      <th>0</th>\n",
              "      <th>1</th>\n",
              "      <th>2</th>\n",
              "      <th>3</th>\n",
              "    </tr>\n",
              "  </thead>\n",
              "  <tbody>\n",
              "    <tr>\n",
              "      <th>0</th>\n",
              "      <td>1.402762</td>\n",
              "      <td>-1.106255</td>\n",
              "      <td>-0.996755</td>\n",
              "      <td>-1.506305</td>\n",
              "    </tr>\n",
              "    <tr>\n",
              "      <th>1</th>\n",
              "      <td>1.402762</td>\n",
              "      <td>-1.099676</td>\n",
              "      <td>-0.996755</td>\n",
              "      <td>-1.009602</td>\n",
              "    </tr>\n",
              "    <tr>\n",
              "      <th>2</th>\n",
              "      <td>1.402762</td>\n",
              "      <td>-1.093098</td>\n",
              "      <td>-0.996755</td>\n",
              "      <td>-0.512899</td>\n",
              "    </tr>\n",
              "    <tr>\n",
              "      <th>3</th>\n",
              "      <td>1.402762</td>\n",
              "      <td>-1.086520</td>\n",
              "      <td>-0.996755</td>\n",
              "      <td>-0.016197</td>\n",
              "    </tr>\n",
              "    <tr>\n",
              "      <th>4</th>\n",
              "      <td>1.402762</td>\n",
              "      <td>-1.079942</td>\n",
              "      <td>-0.996755</td>\n",
              "      <td>0.480506</td>\n",
              "    </tr>\n",
              "  </tbody>\n",
              "</table>\n",
              "</div>"
            ],
            "text/plain": [
              "          0         1         2         3\n",
              "0  1.402762 -1.106255 -0.996755 -1.506305\n",
              "1  1.402762 -1.099676 -0.996755 -1.009602\n",
              "2  1.402762 -1.093098 -0.996755 -0.512899\n",
              "3  1.402762 -1.086520 -0.996755 -0.016197\n",
              "4  1.402762 -1.079942 -0.996755  0.480506"
            ]
          },
          "metadata": {
            "tags": []
          },
          "execution_count": 20
        }
      ]
    },
    {
      "cell_type": "markdown",
      "metadata": {
        "id": "Ip6h1LI8YZKT"
      },
      "source": [
        "#Rainfall"
      ]
    },
    {
      "cell_type": "code",
      "metadata": {
        "id": "AaXrzwKxYcdK"
      },
      "source": [
        "#Predicting rainfall from March 1 to August 1\n",
        "rainfall = loaded_model_rainfall.predict(data)"
      ],
      "execution_count": 50,
      "outputs": []
    },
    {
      "cell_type": "markdown",
      "metadata": {
        "id": "e9lVx2_hY8y6"
      },
      "source": [
        "#Max temperature"
      ]
    },
    {
      "cell_type": "code",
      "metadata": {
        "id": "x3eWj9QkY79C"
      },
      "source": [
        "#Predicting max temperature from March 1 to August 1\n",
        "max_temp = loaded_model_max_temperature.predict(data)"
      ],
      "execution_count": 51,
      "outputs": []
    },
    {
      "cell_type": "markdown",
      "metadata": {
        "id": "lmSuYMp5ZFKZ"
      },
      "source": [
        "#Minimum temperature"
      ]
    },
    {
      "cell_type": "code",
      "metadata": {
        "id": "C8eo9CUDZDSc"
      },
      "source": [
        "#Predicting min_temperature from March 1 to August 1\n",
        "min_temp = loaded_model_min_temperature.predict(data)"
      ],
      "execution_count": 61,
      "outputs": []
    },
    {
      "cell_type": "markdown",
      "metadata": {
        "id": "hB7Khu9CdgHb"
      },
      "source": [
        "#Solar Exposure"
      ]
    },
    {
      "cell_type": "code",
      "metadata": {
        "id": "IorKlMAQZLHZ"
      },
      "source": [
        "#Predicting the solar exposure from  March 1 to August 1\n",
        "solar = loaded_model_solar.predict(data)"
      ],
      "execution_count": 62,
      "outputs": []
    },
    {
      "cell_type": "code",
      "metadata": {
        "id": "H9zw0ecIdXoV"
      },
      "source": [
        "#Storing into a dataframe\n",
        "df = pd.DataFrame()\n",
        "df['rainfall'] = rainfall\n",
        "df['min_temp'] = min_temp\n",
        "df['max_temp'] = max_temp\n",
        "df['solar'] = solar"
      ],
      "execution_count": 63,
      "outputs": []
    },
    {
      "cell_type": "code",
      "metadata": {
        "id": "8Zvt_Ofwd_g2"
      },
      "source": [
        "#Dataframe to csv\n",
        "df.to_csv('predicted_weather_features.csv')"
      ],
      "execution_count": 65,
      "outputs": []
    }
  ]
}