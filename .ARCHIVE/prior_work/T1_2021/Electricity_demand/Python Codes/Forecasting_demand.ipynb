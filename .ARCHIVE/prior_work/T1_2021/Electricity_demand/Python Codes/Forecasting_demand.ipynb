{
  "nbformat": 4,
  "nbformat_minor": 0,
  "metadata": {
    "colab": {
      "name": "Forecasting_demand",
      "provenance": []
    },
    "kernelspec": {
      "name": "python3",
      "display_name": "Python 3"
    },
    "language_info": {
      "name": "python"
    }
  },
  "cells": [
    {
      "cell_type": "markdown",
      "metadata": {
        "id": "vwZ7_u4zdP-A"
      },
      "source": [
        "#Prophet model"
      ]
    },
    {
      "cell_type": "code",
      "metadata": {
        "id": "7Kk8DyG8fOUX"
      },
      "source": [
        "import pandas as pd\n",
        "import numpy as np\n",
        "import matplotlib.pyplot as plt\n",
        "\n",
        "from fbprophet import Prophet\n",
        "from fbprophet.plot import plot_plotly\n",
        "from keras.metrics import MeanAbsoluteError\n",
        "from sklearn.preprocessing import MinMaxScaler, LabelEncoder\n",
        "from sklearn.model_selection import train_test_split\n",
        "from sklearn.metrics import mean_absolute_error, mean_squared_error, r2_score\n",
        "\n",
        "import seaborn as sns"
      ],
      "execution_count": null,
      "outputs": []
    },
    {
      "cell_type": "code",
      "metadata": {
        "id": "UjCIKReKf-rq"
      },
      "source": [
        "data = pd.read_csv('electricity_demand.csv')"
      ],
      "execution_count": null,
      "outputs": []
    },
    {
      "cell_type": "code",
      "metadata": {
        "id": "Q-TwIdzygJhb"
      },
      "source": [
        "df = data[['date', 'RRP', 'min_temperature', 'max_temperature',\n",
        "       'solar_exposure', 'rainfall', 'school_day', 'holiday', 'demand']]       "
      ],
      "execution_count": null,
      "outputs": []
    },
    {
      "cell_type": "code",
      "metadata": {
        "id": "uzf3qnzemnjs"
      },
      "source": [
        "df['school_day'] = df['school_day'].map({'Y': 1, 'N': 0})\n",
        "df['holiday'] = df['holiday'].map({'Y': 1, 'N': 0})"
      ],
      "execution_count": null,
      "outputs": []
    },
    {
      "cell_type": "code",
      "metadata": {
        "colab": {
          "base_uri": "https://localhost:8080/",
          "height": 405
        },
        "id": "tu80tubJQYCQ",
        "outputId": "89771a44-848f-4389-d05f-6257f80d89dd"
      },
      "source": [
        "df['date'] = df['date'].astype('datetime64[ns]')\n",
        "\n",
        "df"
      ],
      "execution_count": null,
      "outputs": [
        {
          "output_type": "execute_result",
          "data": {
            "text/html": [
              "<div>\n",
              "<style scoped>\n",
              "    .dataframe tbody tr th:only-of-type {\n",
              "        vertical-align: middle;\n",
              "    }\n",
              "\n",
              "    .dataframe tbody tr th {\n",
              "        vertical-align: top;\n",
              "    }\n",
              "\n",
              "    .dataframe thead th {\n",
              "        text-align: right;\n",
              "    }\n",
              "</style>\n",
              "<table border=\"1\" class=\"dataframe\">\n",
              "  <thead>\n",
              "    <tr style=\"text-align: right;\">\n",
              "      <th></th>\n",
              "      <th>date</th>\n",
              "      <th>RRP</th>\n",
              "      <th>min_temperature</th>\n",
              "      <th>max_temperature</th>\n",
              "      <th>solar_exposure</th>\n",
              "      <th>rainfall</th>\n",
              "      <th>school_day</th>\n",
              "      <th>holiday</th>\n",
              "      <th>demand</th>\n",
              "    </tr>\n",
              "  </thead>\n",
              "  <tbody>\n",
              "    <tr>\n",
              "      <th>0</th>\n",
              "      <td>2015-01-01</td>\n",
              "      <td>25.633696</td>\n",
              "      <td>13.3</td>\n",
              "      <td>5.186521</td>\n",
              "      <td>0.000000</td>\n",
              "      <td>0.0</td>\n",
              "      <td>0</td>\n",
              "      <td>1</td>\n",
              "      <td>99635.030</td>\n",
              "    </tr>\n",
              "    <tr>\n",
              "      <th>1</th>\n",
              "      <td>2015-01-02</td>\n",
              "      <td>33.138988</td>\n",
              "      <td>15.4</td>\n",
              "      <td>6.228965</td>\n",
              "      <td>0.880597</td>\n",
              "      <td>0.0</td>\n",
              "      <td>0</td>\n",
              "      <td>0</td>\n",
              "      <td>129606.010</td>\n",
              "    </tr>\n",
              "    <tr>\n",
              "      <th>2</th>\n",
              "      <td>2015-01-03</td>\n",
              "      <td>34.564855</td>\n",
              "      <td>20.0</td>\n",
              "      <td>6.180615</td>\n",
              "      <td>1.011321</td>\n",
              "      <td>0.0</td>\n",
              "      <td>0</td>\n",
              "      <td>0</td>\n",
              "      <td>142300.540</td>\n",
              "    </tr>\n",
              "    <tr>\n",
              "      <th>3</th>\n",
              "      <td>2015-01-04</td>\n",
              "      <td>25.005560</td>\n",
              "      <td>16.3</td>\n",
              "      <td>4.626013</td>\n",
              "      <td>1.051587</td>\n",
              "      <td>4.2</td>\n",
              "      <td>0</td>\n",
              "      <td>0</td>\n",
              "      <td>104330.715</td>\n",
              "    </tr>\n",
              "    <tr>\n",
              "      <th>4</th>\n",
              "      <td>2015-01-05</td>\n",
              "      <td>26.724176</td>\n",
              "      <td>15.0</td>\n",
              "      <td>4.690416</td>\n",
              "      <td>0.820847</td>\n",
              "      <td>0.0</td>\n",
              "      <td>0</td>\n",
              "      <td>0</td>\n",
              "      <td>118132.200</td>\n",
              "    </tr>\n",
              "    <tr>\n",
              "      <th>...</th>\n",
              "      <td>...</td>\n",
              "      <td>...</td>\n",
              "      <td>...</td>\n",
              "      <td>...</td>\n",
              "      <td>...</td>\n",
              "      <td>...</td>\n",
              "      <td>...</td>\n",
              "      <td>...</td>\n",
              "      <td>...</td>\n",
              "    </tr>\n",
              "    <tr>\n",
              "      <th>2246</th>\n",
              "      <td>2021-02-24</td>\n",
              "      <td>25.840417</td>\n",
              "      <td>11.6</td>\n",
              "      <td>4.494441</td>\n",
              "      <td>0.948498</td>\n",
              "      <td>0.0</td>\n",
              "      <td>1</td>\n",
              "      <td>0</td>\n",
              "      <td>108577.110</td>\n",
              "    </tr>\n",
              "    <tr>\n",
              "      <th>2247</th>\n",
              "      <td>2021-02-25</td>\n",
              "      <td>21.205833</td>\n",
              "      <td>10.7</td>\n",
              "      <td>4.929503</td>\n",
              "      <td>1.232804</td>\n",
              "      <td>0.0</td>\n",
              "      <td>1</td>\n",
              "      <td>0</td>\n",
              "      <td>107456.345</td>\n",
              "    </tr>\n",
              "    <tr>\n",
              "      <th>2248</th>\n",
              "      <td>2021-02-26</td>\n",
              "      <td>25.796250</td>\n",
              "      <td>12.3</td>\n",
              "      <td>4.438468</td>\n",
              "      <td>1.203822</td>\n",
              "      <td>0.4</td>\n",
              "      <td>1</td>\n",
              "      <td>0</td>\n",
              "      <td>107807.000</td>\n",
              "    </tr>\n",
              "    <tr>\n",
              "      <th>2249</th>\n",
              "      <td>2021-02-27</td>\n",
              "      <td>29.897083</td>\n",
              "      <td>11.1</td>\n",
              "      <td>4.312772</td>\n",
              "      <td>1.330508</td>\n",
              "      <td>0.0</td>\n",
              "      <td>0</td>\n",
              "      <td>0</td>\n",
              "      <td>103417.660</td>\n",
              "    </tr>\n",
              "    <tr>\n",
              "      <th>2250</th>\n",
              "      <td>2021-02-28</td>\n",
              "      <td>22.412917</td>\n",
              "      <td>7.9</td>\n",
              "      <td>5.167204</td>\n",
              "      <td>0.506438</td>\n",
              "      <td>0.0</td>\n",
              "      <td>0</td>\n",
              "      <td>0</td>\n",
              "      <td>97551.090</td>\n",
              "    </tr>\n",
              "  </tbody>\n",
              "</table>\n",
              "<p>2251 rows × 9 columns</p>\n",
              "</div>"
            ],
            "text/plain": [
              "           date        RRP  min_temperature  ...  school_day  holiday      demand\n",
              "0    2015-01-01  25.633696             13.3  ...           0        1   99635.030\n",
              "1    2015-01-02  33.138988             15.4  ...           0        0  129606.010\n",
              "2    2015-01-03  34.564855             20.0  ...           0        0  142300.540\n",
              "3    2015-01-04  25.005560             16.3  ...           0        0  104330.715\n",
              "4    2015-01-05  26.724176             15.0  ...           0        0  118132.200\n",
              "...         ...        ...              ...  ...         ...      ...         ...\n",
              "2246 2021-02-24  25.840417             11.6  ...           1        0  108577.110\n",
              "2247 2021-02-25  21.205833             10.7  ...           1        0  107456.345\n",
              "2248 2021-02-26  25.796250             12.3  ...           1        0  107807.000\n",
              "2249 2021-02-27  29.897083             11.1  ...           0        0  103417.660\n",
              "2250 2021-02-28  22.412917              7.9  ...           0        0   97551.090\n",
              "\n",
              "[2251 rows x 9 columns]"
            ]
          },
          "metadata": {
            "tags": []
          },
          "execution_count": 7
        }
      ]
    },
    {
      "cell_type": "code",
      "metadata": {
        "id": "rOGKC66FQwy-"
      },
      "source": [
        "date = df.iloc[:,0]\n",
        "x = df.iloc[:,1:-1]\n",
        "y = df.iloc[:,-1]\n",
        "\n",
        "date = pd.DataFrame(date)\n",
        "y = pd.DataFrame(y)"
      ],
      "execution_count": null,
      "outputs": []
    },
    {
      "cell_type": "code",
      "metadata": {
        "id": "1bwS50wIgxnz"
      },
      "source": [
        "ms_x = MinMaxScaler()\n",
        "ms_y = MinMaxScaler()"
      ],
      "execution_count": null,
      "outputs": []
    },
    {
      "cell_type": "code",
      "metadata": {
        "id": "YDXgLAEbS53_"
      },
      "source": [
        "x_scaled = ms_x.fit_transform(x)\n",
        "x_scaled = pd.DataFrame(x_scaled)\n",
        "x_scaled.columns = x.columns"
      ],
      "execution_count": null,
      "outputs": []
    },
    {
      "cell_type": "code",
      "metadata": {
        "id": "D2YXT8Q4TQjY"
      },
      "source": [
        "y_scaled = ms_y.fit_transform(y)\n",
        "y_scaled = pd.DataFrame(y_scaled)\n",
        "y_scaled.columns = y.columns"
      ],
      "execution_count": null,
      "outputs": []
    },
    {
      "cell_type": "code",
      "metadata": {
        "id": "I2gn9Q3NS3Kg"
      },
      "source": [
        "x_scaled['date'] = date['date']\n",
        "x_scaled['demand'] = y_scaled['demand']"
      ],
      "execution_count": null,
      "outputs": []
    },
    {
      "cell_type": "code",
      "metadata": {
        "id": "hxL6AI_IT27H"
      },
      "source": [
        "x_scaled = x_scaled[['date', 'RRP', 'min_temperature', 'max_temperature',\n",
        "       'solar_exposure', 'rainfall', 'school_day', 'holiday', 'demand']]   "
      ],
      "execution_count": null,
      "outputs": []
    },
    {
      "cell_type": "code",
      "metadata": {
        "id": "XYf1s5MxQdZN"
      },
      "source": [
        "train_data = x_scaled[:int(0.975*(len(x_scaled)))]\n",
        "test_data = x_scaled[int(0.975*(len(x_scaled))):]"
      ],
      "execution_count": null,
      "outputs": []
    },
    {
      "cell_type": "code",
      "metadata": {
        "id": "fxPEHG6u_mry"
      },
      "source": [
        "prophet_ = Prophet(interval_width=0.95, seasonality_mode='additive', n_changepoints=100, seasonality_prior_scale=25)"
      ],
      "execution_count": null,
      "outputs": []
    },
    {
      "cell_type": "code",
      "metadata": {
        "colab": {
          "base_uri": "https://localhost:8080/"
        },
        "id": "_CDoYXnol70c",
        "outputId": "405c8de9-a4ba-4e07-a542-77ae487e70aa"
      },
      "source": [
        "train_data.rename({'date':'ds', 'demand':'y'}, inplace = True, axis = 'columns')\n",
        "test_data.rename({'date':'ds', 'demand':'y'}, inplace = True, axis = 'columns')"
      ],
      "execution_count": null,
      "outputs": [
        {
          "output_type": "stream",
          "text": [
            "/usr/local/lib/python3.7/dist-packages/pandas/core/frame.py:4308: SettingWithCopyWarning:\n",
            "\n",
            "\n",
            "A value is trying to be set on a copy of a slice from a DataFrame\n",
            "\n",
            "See the caveats in the documentation: https://pandas.pydata.org/pandas-docs/stable/user_guide/indexing.html#returning-a-view-versus-a-copy\n",
            "\n"
          ],
          "name": "stderr"
        }
      ]
    },
    {
      "cell_type": "code",
      "metadata": {
        "colab": {
          "base_uri": "https://localhost:8080/"
        },
        "id": "LvL0GlSkmCni",
        "outputId": "fb42fb4f-0b78-4ffb-faba-ed4222ca04b6"
      },
      "source": [
        "prophet_.add_regressor('min_temperature', standardize=False)\n",
        "prophet_.add_regressor('max_temperature', standardize=False)\n",
        "prophet_.add_regressor('solar_exposure', standardize=False)\n",
        "prophet_.add_regressor('rainfall', standardize=False)\n",
        "prophet_.add_regressor('RRP', standardize=False)\n",
        "prophet_.add_regressor('school_day', standardize=False)\n",
        "prophet_.add_regressor('holiday', standardize=False)"
      ],
      "execution_count": null,
      "outputs": [
        {
          "output_type": "execute_result",
          "data": {
            "text/plain": [
              "<fbprophet.forecaster.Prophet at 0x7ff81886e990>"
            ]
          },
          "metadata": {
            "tags": []
          },
          "execution_count": 17
        }
      ]
    },
    {
      "cell_type": "code",
      "metadata": {
        "colab": {
          "base_uri": "https://localhost:8080/"
        },
        "id": "nRRtA9BqmXbr",
        "outputId": "fb92af37-0889-4ec9-8352-926833ebf19e"
      },
      "source": [
        "#Training the Multivariate model\n",
        "prophet_.fit(train_data)"
      ],
      "execution_count": null,
      "outputs": [
        {
          "output_type": "stream",
          "text": [
            "INFO:numexpr.utils:NumExpr defaulting to 2 threads.\n",
            "INFO:fbprophet:Disabling daily seasonality. Run prophet with daily_seasonality=True to override this.\n"
          ],
          "name": "stderr"
        },
        {
          "output_type": "execute_result",
          "data": {
            "text/plain": [
              "<fbprophet.forecaster.Prophet at 0x7ff81886e990>"
            ]
          },
          "metadata": {
            "tags": []
          },
          "execution_count": 18
        }
      ]
    },
    {
      "cell_type": "code",
      "metadata": {
        "id": "_Z6CEuPYm22e"
      },
      "source": [
        "test_data_ = test_data.drop(columns = 'y')"
      ],
      "execution_count": null,
      "outputs": []
    },
    {
      "cell_type": "code",
      "metadata": {
        "id": "1TZ9z6hpm74B"
      },
      "source": [
        "#Predict for the test set\n",
        "future = prophet_.predict(test_data_)\n",
        "predicted_data = future['yhat']\n",
        "\n",
        "predicted_data = np.array(predicted_data)\n",
        "predicted_data = predicted_data.reshape(-1,1)"
      ],
      "execution_count": null,
      "outputs": []
    },
    {
      "cell_type": "code",
      "metadata": {
        "id": "-TyvtxTiVoSm"
      },
      "source": [
        "predicted_data = ms_y.inverse_transform(predicted_data)\n",
        "real_data = test_data['y']\n",
        "\n",
        "real_data = np.array(real_data)\n",
        "real_data = real_data.reshape(-1,1)\n",
        "\n",
        "real_data = ms_y.inverse_transform(real_data)"
      ],
      "execution_count": null,
      "outputs": []
    },
    {
      "cell_type": "code",
      "metadata": {
        "colab": {
          "base_uri": "https://localhost:8080/",
          "height": 264
        },
        "id": "CsXcD5K5nUp-",
        "outputId": "d0d7d1b8-1610-4e6f-94d0-3d91211da685"
      },
      "source": [
        "plt.plot(real_data, label = \"Actual data\")\n",
        "plt.plot(predicted_data, label = \"Predicted data\")\n",
        "plt.legend(loc=\"upper left\")\n",
        "\n",
        "sns.set(rc={'figure.figsize':(30.7,20.27)})"
      ],
      "execution_count": null,
      "outputs": [
        {
          "output_type": "display_data",
          "data": {
            "image/png": "[encoded data removed]",
            "text/plain": [
              "<Figure size 432x288 with 1 Axes>"
            ]
          },
          "metadata": {
            "tags": [],
            "needs_background": "light"
          }
        }
      ]
    },
    {
      "cell_type": "code",
      "metadata": {
        "colab": {
          "base_uri": "https://localhost:8080/"
        },
        "id": "kS77YajxwPb9",
        "outputId": "65831990-f5b0-49c4-895c-f1c138fd5094"
      },
      "source": [
        "mean_absolute_error(real_data, predicted_data)"
      ],
      "execution_count": null,
      "outputs": [
        {
          "output_type": "execute_result",
          "data": {
            "text/plain": [
              "7652.744454729605"
            ]
          },
          "metadata": {
            "tags": []
          },
          "execution_count": 23
        }
      ]
    },
    {
      "cell_type": "code",
      "metadata": {
        "id": "Y0C4dcUyo7AX",
        "colab": {
          "base_uri": "https://localhost:8080/"
        },
        "outputId": "744d6698-4bb1-48fc-cfd3-fd07b45eabb1"
      },
      "source": [
        "r2_score(real_data, predicted_data)"
      ],
      "execution_count": null,
      "outputs": [
        {
          "output_type": "execute_result",
          "data": {
            "text/plain": [
              "0.46871670161864765"
            ]
          },
          "metadata": {
            "tags": []
          },
          "execution_count": 24
        }
      ]
    },
    {
      "cell_type": "code",
      "metadata": {
        "colab": {
          "base_uri": "https://localhost:8080/"
        },
        "id": "r3E20ztYcg2P",
        "outputId": "60f9e000-98f8-4236-b717-214a0a8af538"
      },
      "source": [
        "import math\n",
        "math.sqrt(mean_squared_error(real_data, predicted_data))"
      ],
      "execution_count": null,
      "outputs": [
        {
          "output_type": "execute_result",
          "data": {
            "text/plain": [
              "9652.502304503158"
            ]
          },
          "metadata": {
            "tags": []
          },
          "execution_count": 25
        }
      ]
    },
    {
      "cell_type": "code",
      "metadata": {
        "colab": {
          "base_uri": "https://localhost:8080/"
        },
        "id": "GqkaW_yJctzc",
        "outputId": "d8347489-83c6-4663-b85d-f552e7d05164"
      },
      "source": [
        "mean_squared_error(real_data, predicted_data)"
      ],
      "execution_count": null,
      "outputs": [
        {
          "output_type": "execute_result",
          "data": {
            "text/plain": [
              "93170800.73843879"
            ]
          },
          "metadata": {
            "tags": []
          },
          "execution_count": 26
        }
      ]
    },
    {
      "cell_type": "code",
      "metadata": {
        "id": "q-mZVbcEc1bm"
      },
      "source": [
        "def mean_absolute_percentage_error(y_true, y_pred): \n",
        "    y_true, y_pred = np.array(y_true), np.array(y_pred)\n",
        "    return np.mean(np.abs((y_true - y_pred) / y_true)) * 100"
      ],
      "execution_count": null,
      "outputs": []
    },
    {
      "cell_type": "code",
      "metadata": {
        "colab": {
          "base_uri": "https://localhost:8080/"
        },
        "id": "YEVUQBt0dLO_",
        "outputId": "ab2d15f8-0788-4fc7-961c-a48186cace60"
      },
      "source": [
        "mean_absolute_percentage_error(real_data, predicted_data)"
      ],
      "execution_count": null,
      "outputs": [
        {
          "output_type": "execute_result",
          "data": {
            "text/plain": [
              "6.726386044532042"
            ]
          },
          "metadata": {
            "tags": []
          },
          "execution_count": 28
        }
      ]
    },
    {
      "cell_type": "markdown",
      "metadata": {
        "id": "hONqNZsudVmX"
      },
      "source": [
        "#VAR model"
      ]
    },
    {
      "cell_type": "code",
      "metadata": {
        "colab": {
          "base_uri": "https://localhost:8080/"
        },
        "id": "-wcVZqH2dWht",
        "outputId": "b3ced5ef-fade-465e-904e-074da23d0dee"
      },
      "source": [
        "from statsmodels.tsa.api import VAR"
      ],
      "execution_count": null,
      "outputs": [
        {
          "output_type": "stream",
          "text": [
            "/usr/local/lib/python3.7/dist-packages/statsmodels/tools/_testing.py:19: FutureWarning:\n",
            "\n",
            "pandas.util.testing is deprecated. Use the functions in the public API at pandas.testing instead.\n",
            "\n"
          ],
          "name": "stderr"
        }
      ]
    },
    {
      "cell_type": "code",
      "metadata": {
        "id": "OnttMtgudr12"
      },
      "source": [
        "train_data.set_index('ds', inplace = True)\n",
        "test_data.set_index('ds', inplace = True)"
      ],
      "execution_count": null,
      "outputs": []
    },
    {
      "cell_type": "code",
      "metadata": {
        "id": "PKGDxuhAeVga"
      },
      "source": [
        "var = VAR(train_data, freq = 'D')"
      ],
      "execution_count": null,
      "outputs": []
    },
    {
      "cell_type": "code",
      "metadata": {
        "colab": {
          "base_uri": "https://localhost:8080/",
          "height": 1000
        },
        "id": "otc0zPzkeZi-",
        "outputId": "13356220-074e-4f83-ed7d-1ba0af732df9"
      },
      "source": [
        "#Finding the best lag value which gives least AIC for the model\n",
        "var.select_order(100).summary()"
      ],
      "execution_count": null,
      "outputs": [
        {
          "output_type": "execute_result",
          "data": {
            "text/html": [
              "<table class=\"simpletable\">\n",
              "<caption>VAR Order Selection (* highlights the minimums)</caption>\n",
              "<tr>\n",
              "   <td></td>       <th>AIC</th>         <th>BIC</th>         <th>FPE</th>        <th>HQIC</th>    \n",
              "</tr>\n",
              "<tr>\n",
              "  <th>0</th>   <td>    -35.08</td>  <td>    -35.05</td>  <td> 5.843e-16</td>  <td>    -35.07</td> \n",
              "</tr>\n",
              "<tr>\n",
              "  <th>1</th>   <td>    -39.65</td>  <td>    -39.46*</td> <td> 5.999e-18</td>  <td>    -39.58</td> \n",
              "</tr>\n",
              "<tr>\n",
              "  <th>2</th>   <td>    -39.82</td>  <td>    -39.46</td>  <td> 5.070e-18</td>  <td>    -39.69</td> \n",
              "</tr>\n",
              "<tr>\n",
              "  <th>3</th>   <td>    -39.88</td>  <td>    -39.34</td>  <td> 4.786e-18</td>  <td>    -39.68</td> \n",
              "</tr>\n",
              "<tr>\n",
              "  <th>4</th>   <td>    -39.88</td>  <td>    -39.17</td>  <td> 4.803e-18</td>  <td>    -39.62</td> \n",
              "</tr>\n",
              "<tr>\n",
              "  <th>5</th>   <td>    -39.93</td>  <td>    -39.04</td>  <td> 4.576e-18</td>  <td>    -39.60</td> \n",
              "</tr>\n",
              "<tr>\n",
              "  <th>6</th>   <td>    -40.11</td>  <td>    -39.05</td>  <td> 3.811e-18</td>  <td>    -39.72</td> \n",
              "</tr>\n",
              "<tr>\n",
              "  <th>7</th>   <td>    -40.19</td>  <td>    -38.96</td>  <td> 3.515e-18</td>  <td>    -39.74</td> \n",
              "</tr>\n",
              "<tr>\n",
              "  <th>8</th>   <td>    -40.32</td>  <td>    -38.91</td>  <td> 3.101e-18</td>  <td>    -39.80*</td>\n",
              "</tr>\n",
              "<tr>\n",
              "  <th>9</th>   <td>    -40.31</td>  <td>    -38.74</td>  <td> 3.110e-18</td>  <td>    -39.74</td> \n",
              "</tr>\n",
              "<tr>\n",
              "  <th>10</th>  <td>    -40.30</td>  <td>    -38.55</td>  <td> 3.161e-18</td>  <td>    -39.66</td> \n",
              "</tr>\n",
              "<tr>\n",
              "  <th>11</th>  <td>    -40.29</td>  <td>    -38.37</td>  <td> 3.189e-18</td>  <td>    -39.58</td> \n",
              "</tr>\n",
              "<tr>\n",
              "  <th>12</th>  <td>    -40.27</td>  <td>    -38.17</td>  <td> 3.261e-18</td>  <td>    -39.50</td> \n",
              "</tr>\n",
              "<tr>\n",
              "  <th>13</th>  <td>    -40.29</td>  <td>    -38.03</td>  <td> 3.165e-18</td>  <td>    -39.47</td> \n",
              "</tr>\n",
              "<tr>\n",
              "  <th>14</th>  <td>    -40.28</td>  <td>    -37.84</td>  <td> 3.222e-18</td>  <td>    -39.38</td> \n",
              "</tr>\n",
              "<tr>\n",
              "  <th>15</th>  <td>    -40.33*</td> <td>    -37.72</td>  <td> 3.048e-18*</td> <td>    -39.38</td> \n",
              "</tr>\n",
              "<tr>\n",
              "  <th>16</th>  <td>    -40.31</td>  <td>    -37.52</td>  <td> 3.133e-18</td>  <td>    -39.29</td> \n",
              "</tr>\n",
              "<tr>\n",
              "  <th>17</th>  <td>    -40.29</td>  <td>    -37.34</td>  <td> 3.175e-18</td>  <td>    -39.21</td> \n",
              "</tr>\n",
              "<tr>\n",
              "  <th>18</th>  <td>    -40.29</td>  <td>    -37.16</td>  <td> 3.195e-18</td>  <td>    -39.14</td> \n",
              "</tr>\n",
              "<tr>\n",
              "  <th>19</th>  <td>    -40.30</td>  <td>    -37.00</td>  <td> 3.161e-18</td>  <td>    -39.09</td> \n",
              "</tr>\n",
              "<tr>\n",
              "  <th>20</th>  <td>    -40.31</td>  <td>    -36.84</td>  <td> 3.125e-18</td>  <td>    -39.04</td> \n",
              "</tr>\n",
              "<tr>\n",
              "  <th>21</th>  <td>    -40.31</td>  <td>    -36.66</td>  <td> 3.140e-18</td>  <td>    -38.97</td> \n",
              "</tr>\n",
              "<tr>\n",
              "  <th>22</th>  <td>    -40.31</td>  <td>    -36.49</td>  <td> 3.126e-18</td>  <td>    -38.91</td> \n",
              "</tr>\n",
              "<tr>\n",
              "  <th>23</th>  <td>    -40.29</td>  <td>    -36.30</td>  <td> 3.199e-18</td>  <td>    -38.83</td> \n",
              "</tr>\n",
              "<tr>\n",
              "  <th>24</th>  <td>    -40.26</td>  <td>    -36.10</td>  <td> 3.282e-18</td>  <td>    -38.74</td> \n",
              "</tr>\n",
              "<tr>\n",
              "  <th>25</th>  <td>    -40.25</td>  <td>    -35.91</td>  <td> 3.328e-18</td>  <td>    -38.66</td> \n",
              "</tr>\n",
              "<tr>\n",
              "  <th>26</th>  <td>    -40.25</td>  <td>    -35.74</td>  <td> 3.331e-18</td>  <td>    -38.60</td> \n",
              "</tr>\n",
              "<tr>\n",
              "  <th>27</th>  <td>    -40.24</td>  <td>    -35.56</td>  <td> 3.361e-18</td>  <td>    -38.53</td> \n",
              "</tr>\n",
              "<tr>\n",
              "  <th>28</th>  <td>    -40.22</td>  <td>    -35.37</td>  <td> 3.416e-18</td>  <td>    -38.45</td> \n",
              "</tr>\n",
              "<tr>\n",
              "  <th>29</th>  <td>    -40.26</td>  <td>    -35.24</td>  <td> 3.291e-18</td>  <td>    -38.42</td> \n",
              "</tr>\n",
              "<tr>\n",
              "  <th>30</th>  <td>    -40.25</td>  <td>    -35.05</td>  <td> 3.336e-18</td>  <td>    -38.35</td> \n",
              "</tr>\n",
              "<tr>\n",
              "  <th>31</th>  <td>    -40.22</td>  <td>    -34.85</td>  <td> 3.434e-18</td>  <td>    -38.25</td> \n",
              "</tr>\n",
              "<tr>\n",
              "  <th>32</th>  <td>    -40.21</td>  <td>    -34.66</td>  <td> 3.491e-18</td>  <td>    -38.18</td> \n",
              "</tr>\n",
              "<tr>\n",
              "  <th>33</th>  <td>    -40.18</td>  <td>    -34.46</td>  <td> 3.595e-18</td>  <td>    -38.08</td> \n",
              "</tr>\n",
              "<tr>\n",
              "  <th>34</th>  <td>    -40.18</td>  <td>    -34.29</td>  <td> 3.576e-18</td>  <td>    -38.03</td> \n",
              "</tr>\n",
              "<tr>\n",
              "  <th>35</th>  <td>    -40.18</td>  <td>    -34.12</td>  <td> 3.581e-18</td>  <td>    -37.96</td> \n",
              "</tr>\n",
              "<tr>\n",
              "  <th>36</th>  <td>    -40.21</td>  <td>    -33.97</td>  <td> 3.499e-18</td>  <td>    -37.92</td> \n",
              "</tr>\n",
              "<tr>\n",
              "  <th>37</th>  <td>    -40.19</td>  <td>    -33.78</td>  <td> 3.566e-18</td>  <td>    -37.84</td> \n",
              "</tr>\n",
              "<tr>\n",
              "  <th>38</th>  <td>    -40.17</td>  <td>    -33.59</td>  <td> 3.639e-18</td>  <td>    -37.76</td> \n",
              "</tr>\n",
              "<tr>\n",
              "  <th>39</th>  <td>    -40.16</td>  <td>    -33.41</td>  <td> 3.689e-18</td>  <td>    -37.69</td> \n",
              "</tr>\n",
              "<tr>\n",
              "  <th>40</th>  <td>    -40.16</td>  <td>    -33.23</td>  <td> 3.699e-18</td>  <td>    -37.62</td> \n",
              "</tr>\n",
              "<tr>\n",
              "  <th>41</th>  <td>    -40.15</td>  <td>    -33.06</td>  <td> 3.719e-18</td>  <td>    -37.55</td> \n",
              "</tr>\n",
              "<tr>\n",
              "  <th>42</th>  <td>    -40.15</td>  <td>    -32.88</td>  <td> 3.757e-18</td>  <td>    -37.48</td> \n",
              "</tr>\n",
              "<tr>\n",
              "  <th>43</th>  <td>    -40.12</td>  <td>    -32.68</td>  <td> 3.859e-18</td>  <td>    -37.39</td> \n",
              "</tr>\n",
              "<tr>\n",
              "  <th>44</th>  <td>    -40.10</td>  <td>    -32.48</td>  <td> 3.953e-18</td>  <td>    -37.31</td> \n",
              "</tr>\n",
              "<tr>\n",
              "  <th>45</th>  <td>    -40.07</td>  <td>    -32.28</td>  <td> 4.067e-18</td>  <td>    -37.22</td> \n",
              "</tr>\n",
              "<tr>\n",
              "  <th>46</th>  <td>    -40.06</td>  <td>    -32.10</td>  <td> 4.114e-18</td>  <td>    -37.15</td> \n",
              "</tr>\n",
              "<tr>\n",
              "  <th>47</th>  <td>    -40.03</td>  <td>    -31.90</td>  <td> 4.248e-18</td>  <td>    -37.05</td> \n",
              "</tr>\n",
              "<tr>\n",
              "  <th>48</th>  <td>    -40.01</td>  <td>    -31.71</td>  <td> 4.339e-18</td>  <td>    -36.97</td> \n",
              "</tr>\n",
              "<tr>\n",
              "  <th>49</th>  <td>    -39.99</td>  <td>    -31.51</td>  <td> 4.444e-18</td>  <td>    -36.89</td> \n",
              "</tr>\n",
              "<tr>\n",
              "  <th>50</th>  <td>    -39.97</td>  <td>    -31.32</td>  <td> 4.549e-18</td>  <td>    -36.80</td> \n",
              "</tr>\n",
              "<tr>\n",
              "  <th>51</th>  <td>    -39.94</td>  <td>    -31.12</td>  <td> 4.678e-18</td>  <td>    -36.71</td> \n",
              "</tr>\n",
              "<tr>\n",
              "  <th>52</th>  <td>    -39.95</td>  <td>    -30.95</td>  <td> 4.680e-18</td>  <td>    -36.65</td> \n",
              "</tr>\n",
              "<tr>\n",
              "  <th>53</th>  <td>    -39.93</td>  <td>    -30.76</td>  <td> 4.755e-18</td>  <td>    -36.57</td> \n",
              "</tr>\n",
              "<tr>\n",
              "  <th>54</th>  <td>    -39.92</td>  <td>    -30.58</td>  <td> 4.844e-18</td>  <td>    -36.50</td> \n",
              "</tr>\n",
              "<tr>\n",
              "  <th>55</th>  <td>    -39.92</td>  <td>    -30.40</td>  <td> 4.859e-18</td>  <td>    -36.43</td> \n",
              "</tr>\n",
              "<tr>\n",
              "  <th>56</th>  <td>    -39.89</td>  <td>    -30.21</td>  <td> 4.996e-18</td>  <td>    -36.34</td> \n",
              "</tr>\n",
              "<tr>\n",
              "  <th>57</th>  <td>    -39.86</td>  <td>    -30.00</td>  <td> 5.159e-18</td>  <td>    -36.25</td> \n",
              "</tr>\n",
              "<tr>\n",
              "  <th>58</th>  <td>    -39.83</td>  <td>    -29.80</td>  <td> 5.341e-18</td>  <td>    -36.16</td> \n",
              "</tr>\n",
              "<tr>\n",
              "  <th>59</th>  <td>    -39.82</td>  <td>    -29.62</td>  <td> 5.406e-18</td>  <td>    -36.08</td> \n",
              "</tr>\n",
              "<tr>\n",
              "  <th>60</th>  <td>    -39.80</td>  <td>    -29.43</td>  <td> 5.520e-18</td>  <td>    -36.00</td> \n",
              "</tr>\n",
              "<tr>\n",
              "  <th>61</th>  <td>    -39.79</td>  <td>    -29.24</td>  <td> 5.634e-18</td>  <td>    -35.92</td> \n",
              "</tr>\n",
              "<tr>\n",
              "  <th>62</th>  <td>    -39.77</td>  <td>    -29.05</td>  <td> 5.741e-18</td>  <td>    -35.84</td> \n",
              "</tr>\n",
              "<tr>\n",
              "  <th>63</th>  <td>    -39.77</td>  <td>    -28.87</td>  <td> 5.793e-18</td>  <td>    -35.78</td> \n",
              "</tr>\n",
              "<tr>\n",
              "  <th>64</th>  <td>    -39.75</td>  <td>    -28.69</td>  <td> 5.890e-18</td>  <td>    -35.70</td> \n",
              "</tr>\n",
              "<tr>\n",
              "  <th>65</th>  <td>    -39.74</td>  <td>    -28.50</td>  <td> 6.027e-18</td>  <td>    -35.62</td> \n",
              "</tr>\n",
              "<tr>\n",
              "  <th>66</th>  <td>    -39.71</td>  <td>    -28.30</td>  <td> 6.207e-18</td>  <td>    -35.53</td> \n",
              "</tr>\n",
              "<tr>\n",
              "  <th>67</th>  <td>    -39.69</td>  <td>    -28.11</td>  <td> 6.336e-18</td>  <td>    -35.45</td> \n",
              "</tr>\n",
              "<tr>\n",
              "  <th>68</th>  <td>    -39.67</td>  <td>    -27.91</td>  <td> 6.522e-18</td>  <td>    -35.36</td> \n",
              "</tr>\n",
              "<tr>\n",
              "  <th>69</th>  <td>    -39.64</td>  <td>    -27.71</td>  <td> 6.726e-18</td>  <td>    -35.27</td> \n",
              "</tr>\n",
              "<tr>\n",
              "  <th>70</th>  <td>    -39.64</td>  <td>    -27.54</td>  <td> 6.794e-18</td>  <td>    -35.20</td> \n",
              "</tr>\n",
              "<tr>\n",
              "  <th>71</th>  <td>    -39.64</td>  <td>    -27.36</td>  <td> 6.826e-18</td>  <td>    -35.14</td> \n",
              "</tr>\n",
              "<tr>\n",
              "  <th>72</th>  <td>    -39.61</td>  <td>    -27.17</td>  <td> 7.019e-18</td>  <td>    -35.05</td> \n",
              "</tr>\n",
              "<tr>\n",
              "  <th>73</th>  <td>    -39.61</td>  <td>    -26.99</td>  <td> 7.119e-18</td>  <td>    -34.98</td> \n",
              "</tr>\n",
              "<tr>\n",
              "  <th>74</th>  <td>    -39.60</td>  <td>    -26.81</td>  <td> 7.182e-18</td>  <td>    -34.92</td> \n",
              "</tr>\n",
              "<tr>\n",
              "  <th>75</th>  <td>    -39.59</td>  <td>    -26.63</td>  <td> 7.278e-18</td>  <td>    -34.84</td> \n",
              "</tr>\n",
              "<tr>\n",
              "  <th>76</th>  <td>    -39.58</td>  <td>    -26.44</td>  <td> 7.445e-18</td>  <td>    -34.76</td> \n",
              "</tr>\n",
              "<tr>\n",
              "  <th>77</th>  <td>    -39.58</td>  <td>    -26.27</td>  <td> 7.459e-18</td>  <td>    -34.71</td> \n",
              "</tr>\n",
              "<tr>\n",
              "  <th>78</th>  <td>    -39.59</td>  <td>    -26.11</td>  <td> 7.421e-18</td>  <td>    -34.65</td> \n",
              "</tr>\n",
              "<tr>\n",
              "  <th>79</th>  <td>    -39.58</td>  <td>    -25.93</td>  <td> 7.524e-18</td>  <td>    -34.58</td> \n",
              "</tr>\n",
              "<tr>\n",
              "  <th>80</th>  <td>    -39.56</td>  <td>    -25.73</td>  <td> 7.736e-18</td>  <td>    -34.50</td> \n",
              "</tr>\n",
              "<tr>\n",
              "  <th>81</th>  <td>    -39.56</td>  <td>    -25.55</td>  <td> 7.839e-18</td>  <td>    -34.43</td> \n",
              "</tr>\n",
              "<tr>\n",
              "  <th>82</th>  <td>    -39.54</td>  <td>    -25.37</td>  <td> 7.991e-18</td>  <td>    -34.35</td> \n",
              "</tr>\n",
              "<tr>\n",
              "  <th>83</th>  <td>    -39.53</td>  <td>    -25.19</td>  <td> 8.125e-18</td>  <td>    -34.28</td> \n",
              "</tr>\n",
              "<tr>\n",
              "  <th>84</th>  <td>    -39.52</td>  <td>    -25.01</td>  <td> 8.255e-18</td>  <td>    -34.21</td> \n",
              "</tr>\n",
              "<tr>\n",
              "  <th>85</th>  <td>    -39.57</td>  <td>    -24.88</td>  <td> 7.956e-18</td>  <td>    -34.19</td> \n",
              "</tr>\n",
              "<tr>\n",
              "  <th>86</th>  <td>    -39.56</td>  <td>    -24.70</td>  <td> 8.050e-18</td>  <td>    -34.12</td> \n",
              "</tr>\n",
              "<tr>\n",
              "  <th>87</th>  <td>    -39.54</td>  <td>    -24.51</td>  <td> 8.281e-18</td>  <td>    -34.04</td> \n",
              "</tr>\n",
              "<tr>\n",
              "  <th>88</th>  <td>    -39.53</td>  <td>    -24.32</td>  <td> 8.452e-18</td>  <td>    -33.96</td> \n",
              "</tr>\n",
              "<tr>\n",
              "  <th>89</th>  <td>    -39.52</td>  <td>    -24.14</td>  <td> 8.601e-18</td>  <td>    -33.89</td> \n",
              "</tr>\n",
              "<tr>\n",
              "  <th>90</th>  <td>    -39.52</td>  <td>    -23.97</td>  <td> 8.678e-18</td>  <td>    -33.82</td> \n",
              "</tr>\n",
              "<tr>\n",
              "  <th>91</th>  <td>    -39.51</td>  <td>    -23.78</td>  <td> 8.843e-18</td>  <td>    -33.75</td> \n",
              "</tr>\n",
              "<tr>\n",
              "  <th>92</th>  <td>    -39.50</td>  <td>    -23.60</td>  <td> 9.008e-18</td>  <td>    -33.68</td> \n",
              "</tr>\n",
              "<tr>\n",
              "  <th>93</th>  <td>    -39.47</td>  <td>    -23.40</td>  <td> 9.324e-18</td>  <td>    -33.59</td> \n",
              "</tr>\n",
              "<tr>\n",
              "  <th>94</th>  <td>    -39.46</td>  <td>    -23.21</td>  <td> 9.563e-18</td>  <td>    -33.51</td> \n",
              "</tr>\n",
              "<tr>\n",
              "  <th>95</th>  <td>    -39.46</td>  <td>    -23.04</td>  <td> 9.674e-18</td>  <td>    -33.44</td> \n",
              "</tr>\n",
              "<tr>\n",
              "  <th>96</th>  <td>    -39.44</td>  <td>    -22.85</td>  <td> 9.885e-18</td>  <td>    -33.37</td> \n",
              "</tr>\n",
              "<tr>\n",
              "  <th>97</th>  <td>    -39.44</td>  <td>    -22.67</td>  <td> 1.006e-17</td>  <td>    -33.30</td> \n",
              "</tr>\n",
              "<tr>\n",
              "  <th>98</th>  <td>    -39.41</td>  <td>    -22.47</td>  <td> 1.047e-17</td>  <td>    -33.20</td> \n",
              "</tr>\n",
              "<tr>\n",
              "  <th>99</th>  <td>    -39.40</td>  <td>    -22.29</td>  <td> 1.067e-17</td>  <td>    -33.13</td> \n",
              "</tr>\n",
              "<tr>\n",
              "  <th>100</th> <td>    -39.38</td>  <td>    -22.10</td>  <td> 1.098e-17</td>  <td>    -33.05</td> \n",
              "</tr>\n",
              "</table>"
            ],
            "text/plain": [
              "<class 'statsmodels.iolib.table.SimpleTable'>"
            ]
          },
          "metadata": {
            "tags": []
          },
          "execution_count": 32
        }
      ]
    },
    {
      "cell_type": "code",
      "metadata": {
        "id": "k5klez7SeoPN"
      },
      "source": [
        "#Building a model based on the best lag value\n",
        "results = var.fit(15)"
      ],
      "execution_count": null,
      "outputs": []
    },
    {
      "cell_type": "code",
      "metadata": {
        "colab": {
          "base_uri": "https://localhost:8080/"
        },
        "id": "WizX4SWpet3w",
        "outputId": "3c6ee1ce-af54-4c7e-fe38-eec7a8d064d5"
      },
      "source": [
        "print(results.summary())"
      ],
      "execution_count": null,
      "outputs": [
        {
          "output_type": "stream",
          "text": [
            "  Summary of Regression Results   \n",
            "==================================\n",
            "Model:                         VAR\n",
            "Method:                        OLS\n",
            "Date:           Thu, 06, May, 2021\n",
            "Time:                     08:12:23\n",
            "--------------------------------------------------------------------\n",
            "No. of Equations:         8.00000    BIC:                   -37.8701\n",
            "Nobs:                     2179.00    HQIC:                  -39.4728\n",
            "Log likelihood:           20244.9    FPE:                2.86087e-18\n",
            "AIC:                     -40.3963    Det(Omega_mle):     1.85666e-18\n",
            "--------------------------------------------------------------------\n",
            "Results for equation RRP\n",
            "======================================================================================\n",
            "                         coefficient       std. error           t-stat            prob\n",
            "--------------------------------------------------------------------------------------\n",
            "const                       0.013292         0.005516            2.410           0.016\n",
            "L1.RRP                      0.235430         0.022888           10.286           0.000\n",
            "L1.min_temperature         -0.001308         0.007938           -0.165           0.869\n",
            "L1.max_temperature         -0.004061         0.005532           -0.734           0.463\n",
            "L1.solar_exposure          -0.021435         0.013907           -1.541           0.123\n",
            "L1.rainfall                -0.000504         0.008113           -0.062           0.950\n",
            "L1.school_day               0.007096         0.003672            1.932           0.053\n",
            "L1.holiday                  0.001805         0.003447            0.524           0.601\n",
            "L1.y                        0.031745         0.007702            4.122           0.000\n",
            "L2.RRP                     -0.003229         0.023477           -0.138           0.891\n",
            "L2.min_temperature          0.000840         0.008493            0.099           0.921\n",
            "L2.max_temperature          0.001986         0.006852            0.290           0.772\n",
            "L2.solar_exposure          -0.003986         0.014700           -0.271           0.786\n",
            "L2.rainfall                -0.003952         0.008214           -0.481           0.630\n",
            "L2.school_day              -0.010908         0.005095           -2.141           0.032\n",
            "L2.holiday                 -0.003437         0.003586           -0.958           0.338\n",
            "L2.y                       -0.008812         0.009695           -0.909           0.363\n",
            "L3.RRP                      0.035959         0.023502            1.530           0.126\n",
            "L3.min_temperature          0.008551         0.008501            1.006           0.314\n",
            "L3.max_temperature         -0.008005         0.006863           -1.166           0.243\n",
            "L3.solar_exposure          -0.004521         0.014780           -0.306           0.760\n",
            "L3.rainfall                -0.004958         0.008211           -0.604           0.546\n",
            "L3.school_day               0.003557         0.005103            0.697           0.486\n",
            "L3.holiday                 -0.005035         0.003588           -1.403           0.161\n",
            "L3.y                       -0.009921         0.009896           -1.003           0.316\n",
            "L4.RRP                      0.038168         0.023515            1.623           0.105\n",
            "L4.min_temperature         -0.003969         0.008500           -0.467           0.640\n",
            "L4.max_temperature         -0.004629         0.006880           -0.673           0.501\n",
            "L4.solar_exposure          -0.010154         0.014754           -0.688           0.491\n",
            "L4.rainfall                 0.002846         0.008222            0.346           0.729\n",
            "L4.school_day              -0.002273         0.005102           -0.446           0.656\n",
            "L4.holiday                  0.007299         0.003593            2.032           0.042\n",
            "L4.y                        0.012518         0.009918            1.262           0.207\n",
            "L5.RRP                      0.035711         0.023542            1.517           0.129\n",
            "L5.min_temperature         -0.007740         0.008493           -0.911           0.362\n",
            "L5.max_temperature          0.003632         0.006868            0.529           0.597\n",
            "L5.solar_exposure          -0.010078         0.014689           -0.686           0.493\n",
            "L5.rainfall                -0.006252         0.008224           -0.760           0.447\n",
            "L5.school_day               0.000830         0.005091            0.163           0.870\n",
            "L5.holiday                  0.000959         0.003603            0.266           0.790\n",
            "L5.y                       -0.021837         0.009905           -2.205           0.027\n",
            "L6.RRP                      0.028483         0.023482            1.213           0.225\n",
            "L6.min_temperature          0.005270         0.008507            0.619           0.536\n",
            "L6.max_temperature          0.006160         0.006892            0.894           0.371\n",
            "L6.solar_exposure           0.036332         0.014697            2.472           0.013\n",
            "L6.rainfall                -0.012007         0.008226           -1.460           0.144\n",
            "L6.school_day               0.001166         0.005090            0.229           0.819\n",
            "L6.holiday                 -0.006614         0.003625           -1.824           0.068\n",
            "L6.y                        0.000692         0.009884            0.070           0.944\n",
            "L7.RRP                     -0.008528         0.023477           -0.363           0.716\n",
            "L7.min_temperature          0.004963         0.008487            0.585           0.559\n",
            "L7.max_temperature         -0.000616         0.006897           -0.089           0.929\n",
            "L7.solar_exposure           0.031183         0.014974            2.082           0.037\n",
            "L7.rainfall                 0.008536         0.008290            1.030           0.303\n",
            "L7.school_day               0.001112         0.005090            0.219           0.827\n",
            "L7.holiday                  0.004141         0.003628            1.141           0.254\n",
            "L7.y                        0.027394         0.009892            2.769           0.006\n",
            "L8.RRP                      0.009771         0.023748            0.411           0.681\n",
            "L8.min_temperature         -0.003916         0.008499           -0.461           0.645\n",
            "L8.max_temperature         -0.005079         0.006906           -0.735           0.462\n",
            "L8.solar_exposure           0.003466         0.015137            0.229           0.819\n",
            "L8.rainfall                 0.016011         0.008225            1.947           0.052\n",
            "L8.school_day              -0.004703         0.005089           -0.924           0.355\n",
            "L8.holiday                 -0.002810         0.003638           -0.772           0.440\n",
            "L8.y                       -0.023249         0.010077           -2.307           0.021\n",
            "L9.RRP                      0.052010         0.023730            2.192           0.028\n",
            "L9.min_temperature          0.003487         0.008512            0.410           0.682\n",
            "L9.max_temperature          0.008737         0.006901            1.266           0.205\n",
            "L9.solar_exposure           0.000475         0.015121            0.031           0.975\n",
            "L9.rainfall                -0.000153         0.008176           -0.019           0.985\n",
            "L9.school_day               0.001095         0.005089            0.215           0.830\n",
            "L9.holiday                 -0.001217         0.003641           -0.334           0.738\n",
            "L9.y                        0.001921         0.009873            0.195           0.846\n",
            "L10.RRP                     0.015889         0.023732            0.670           0.503\n",
            "L10.min_temperature         0.012287         0.008507            1.444           0.149\n",
            "L10.max_temperature        -0.007754         0.006899           -1.124           0.261\n",
            "L10.solar_exposure         -0.023145         0.015051           -1.538           0.124\n",
            "L10.rainfall                0.035878         0.008182            4.385           0.000\n",
            "L10.school_day             -0.000254         0.005080           -0.050           0.960\n",
            "L10.holiday                 0.000208         0.003629            0.057           0.954\n",
            "L10.y                       0.026311         0.009854            2.670           0.008\n",
            "L11.RRP                     0.008881         0.023699            0.375           0.708\n",
            "L11.min_temperature        -0.007623         0.008513           -0.895           0.371\n",
            "L11.max_temperature         0.001670         0.006897            0.242           0.809\n",
            "L11.solar_exposure         -0.018039         0.015051           -1.199           0.231\n",
            "L11.rainfall               -0.021336         0.008220           -2.596           0.009\n",
            "L11.school_day              0.000585         0.005076            0.115           0.908\n",
            "L11.holiday                -0.009250         0.003620           -2.555           0.011\n",
            "L11.y                      -0.035219         0.009868           -3.569           0.000\n",
            "L12.RRP                     0.026171         0.023706            1.104           0.270\n",
            "L12.min_temperature         0.005913         0.008512            0.695           0.487\n",
            "L12.max_temperature        -0.003973         0.006897           -0.576           0.565\n",
            "L12.solar_exposure         -0.014908         0.015058           -0.990           0.322\n",
            "L12.rainfall               -0.004805         0.008230           -0.584           0.559\n",
            "L12.school_day              0.002654         0.005076            0.523           0.601\n",
            "L12.holiday                 0.005018         0.003614            1.389           0.165\n",
            "L12.y                       0.018571         0.009887            1.878           0.060\n",
            "L13.RRP                     0.026181         0.023697            1.105           0.269\n",
            "L13.min_temperature        -0.008122         0.008515           -0.954           0.340\n",
            "L13.max_temperature         0.007977         0.006888            1.158           0.247\n",
            "L13.solar_exposure          0.000076         0.015058            0.005           0.996\n",
            "L13.rainfall                0.002449         0.008238            0.297           0.766\n",
            "L13.school_day             -0.002064         0.005075           -0.407           0.684\n",
            "L13.holiday                -0.001358         0.003610           -0.376           0.707\n",
            "L13.y                      -0.001662         0.009847           -0.169           0.866\n",
            "L14.RRP                     0.021282         0.023593            0.902           0.367\n",
            "L14.min_temperature         0.001514         0.008490            0.178           0.858\n",
            "L14.max_temperature        -0.003238         0.006912           -0.469           0.639\n",
            "L14.solar_exposure         -0.002419         0.015044           -0.161           0.872\n",
            "L14.rainfall               -0.002741         0.008142           -0.337           0.736\n",
            "L14.school_day             -0.000700         0.005067           -0.138           0.890\n",
            "L14.holiday                -0.002336         0.003579           -0.653           0.514\n",
            "L14.y                      -0.012859         0.009544           -1.347           0.178\n",
            "L15.RRP                     0.037912         0.022997            1.649           0.099\n",
            "L15.min_temperature         0.006067         0.006685            0.908           0.364\n",
            "L15.max_temperature        -0.002770         0.006521           -0.425           0.671\n",
            "L15.solar_exposure         -0.004897         0.014432           -0.339           0.734\n",
            "L15.rainfall                0.004739         0.007781            0.609           0.543\n",
            "L15.school_day              0.000378         0.003671            0.103           0.918\n",
            "L15.holiday                -0.002712         0.003467           -0.782           0.434\n",
            "L15.y                      -0.009353         0.007507           -1.246           0.213\n",
            "======================================================================================\n",
            "\n",
            "Results for equation min_temperature\n",
            "======================================================================================\n",
            "                         coefficient       std. error           t-stat            prob\n",
            "--------------------------------------------------------------------------------------\n",
            "const                      -0.000165         0.015982           -0.010           0.992\n",
            "L1.RRP                     -0.005372         0.066315           -0.081           0.935\n",
            "L1.min_temperature          0.321174         0.022998           13.965           0.000\n",
            "L1.max_temperature          0.445782         0.016028           27.812           0.000\n",
            "L1.solar_exposure          -0.079712         0.040294           -1.978           0.048\n",
            "L1.rainfall                 0.019731         0.023507            0.839           0.401\n",
            "L1.school_day              -0.015687         0.010640           -1.474           0.140\n",
            "L1.holiday                  0.003775         0.009987            0.378           0.705\n",
            "L1.y                        0.011550         0.022316            0.518           0.605\n",
            "L2.RRP                     -0.091884         0.068019           -1.351           0.177\n",
            "L2.min_temperature         -0.025231         0.024608           -1.025           0.305\n",
            "L2.max_temperature         -0.062273         0.019853           -3.137           0.002\n",
            "L2.solar_exposure          -0.006878         0.042590           -0.161           0.872\n",
            "L2.rainfall                -0.009406         0.023799           -0.395           0.693\n",
            "L2.school_day               0.031128         0.014762            2.109           0.035\n",
            "L2.holiday                  0.013096         0.010390            1.260           0.208\n",
            "L2.y                        0.056512         0.028088            2.012           0.044\n",
            "L3.RRP                      0.001643         0.068093            0.024           0.981\n",
            "L3.min_temperature          0.039065         0.024629            1.586           0.113\n",
            "L3.max_temperature          0.025086         0.019885            1.262           0.207\n",
            "L3.solar_exposure          -0.028323         0.042823           -0.661           0.508\n",
            "L3.rainfall                -0.009035         0.023790           -0.380           0.704\n",
            "L3.school_day              -0.014573         0.014785           -0.986           0.324\n",
            "L3.holiday                  0.002770         0.010396            0.266           0.790\n",
            "L3.y                       -0.049634         0.028671           -1.731           0.083\n",
            "L4.RRP                     -0.062343         0.068131           -0.915           0.360\n",
            "L4.min_temperature         -0.000329         0.024627           -0.013           0.989\n",
            "L4.max_temperature          0.016427         0.019934            0.824           0.410\n",
            "L4.solar_exposure           0.024072         0.042747            0.563           0.573\n",
            "L4.rainfall                 0.020009         0.023823            0.840           0.401\n",
            "L4.school_day              -0.003909         0.014782           -0.264           0.791\n",
            "L4.holiday                 -0.000647         0.010410           -0.062           0.950\n",
            "L4.y                        0.031774         0.028736            1.106           0.269\n",
            "L5.RRP                     -0.079509         0.068208           -1.166           0.244\n",
            "L5.min_temperature          0.029662         0.024607            1.205           0.228\n",
            "L5.max_temperature          0.004590         0.019898            0.231           0.818\n",
            "L5.solar_exposure          -0.044634         0.042559           -1.049           0.294\n",
            "L5.rainfall                -0.014560         0.023829           -0.611           0.541\n",
            "L5.school_day              -0.003748         0.014751           -0.254           0.799\n",
            "L5.holiday                 -0.003714         0.010438           -0.356           0.722\n",
            "L5.y                       -0.011687         0.028697           -0.407           0.684\n",
            "L6.RRP                     -0.065989         0.068035           -0.970           0.332\n",
            "L6.min_temperature          0.002175         0.024647            0.088           0.930\n",
            "L6.max_temperature          0.008936         0.019967            0.448           0.654\n",
            "L6.solar_exposure          -0.015092         0.042581           -0.354           0.723\n",
            "L6.rainfall                 0.032083         0.023834            1.346           0.178\n",
            "L6.school_day               0.007479         0.014747            0.507           0.612\n",
            "L6.holiday                  0.002863         0.010503            0.273           0.785\n",
            "L6.y                        0.018175         0.028636            0.635           0.526\n",
            "L7.RRP                     -0.051953         0.068021           -0.764           0.445\n",
            "L7.min_temperature          0.017330         0.024589            0.705           0.481\n",
            "L7.max_temperature          0.001900         0.019983            0.095           0.924\n",
            "L7.solar_exposure          -0.005013         0.043385           -0.116           0.908\n",
            "L7.rainfall                 0.011168         0.024018            0.465           0.642\n",
            "L7.school_day               0.013056         0.014747            0.885           0.376\n",
            "L7.holiday                  0.000916         0.010512            0.087           0.931\n",
            "L7.y                        0.016040         0.028659            0.560           0.576\n",
            "L8.RRP                     -0.009216         0.068806           -0.134           0.893\n",
            "L8.min_temperature         -0.017213         0.024623           -0.699           0.485\n",
            "L8.max_temperature          0.017935         0.020010            0.896           0.370\n",
            "L8.solar_exposure           0.045552         0.043857            1.039           0.299\n",
            "L8.rainfall                 0.007723         0.023830            0.324           0.746\n",
            "L8.school_day               0.005193         0.014746            0.352           0.725\n",
            "L8.holiday                  0.007447         0.010542            0.706           0.480\n",
            "L8.y                       -0.008959         0.029197           -0.307           0.759\n",
            "L9.RRP                      0.062559         0.068753            0.910           0.363\n",
            "L9.min_temperature          0.048013         0.024661            1.947           0.052\n",
            "L9.max_temperature          0.003108         0.019994            0.155           0.876\n",
            "L9.solar_exposure           0.019691         0.043809            0.449           0.653\n",
            "L9.rainfall                -0.003781         0.023687           -0.160           0.873\n",
            "L9.school_day              -0.033606         0.014745           -2.279           0.023\n",
            "L9.holiday                  0.009681         0.010549            0.918           0.359\n",
            "L9.y                       -0.028111         0.028604           -0.983           0.326\n",
            "L10.RRP                     0.024800         0.068758            0.361           0.718\n",
            "L10.min_temperature         0.010223         0.024649            0.415           0.678\n",
            "L10.max_temperature         0.013526         0.019988            0.677           0.499\n",
            "L10.solar_exposure          0.018723         0.043606            0.429           0.668\n",
            "L10.rainfall                0.019500         0.023706            0.823           0.411\n",
            "L10.school_day              0.009150         0.014719            0.622           0.534\n",
            "L10.holiday                -0.006228         0.010513           -0.592           0.554\n",
            "L10.y                       0.021862         0.028551            0.766           0.444\n",
            "L11.RRP                     0.032028         0.068665            0.466           0.641\n",
            "L11.min_temperature         0.036216         0.024666            1.468           0.142\n",
            "L11.max_temperature        -0.025218         0.019983           -1.262           0.207\n",
            "L11.solar_exposure          0.018916         0.043608            0.434           0.664\n",
            "L11.rainfall                0.021289         0.023816            0.894           0.371\n",
            "L11.school_day             -0.002144         0.014707           -0.146           0.884\n",
            "L11.holiday                -0.012201         0.010488           -1.163           0.245\n",
            "L11.y                       0.010606         0.028590            0.371           0.711\n",
            "L12.RRP                     0.017619         0.068684            0.257           0.798\n",
            "L12.min_temperature         0.005042         0.024662            0.204           0.838\n",
            "L12.max_temperature         0.017260         0.019982            0.864           0.388\n",
            "L12.solar_exposure         -0.006510         0.043628           -0.149           0.881\n",
            "L12.rainfall               -0.016903         0.023846           -0.709           0.478\n",
            "L12.school_day              0.007632         0.014706            0.519           0.604\n",
            "L12.holiday                 0.022057         0.010470            2.107           0.035\n",
            "L12.y                      -0.032166         0.028647           -1.123           0.262\n",
            "L13.RRP                     0.066041         0.068658            0.962           0.336\n",
            "L13.min_temperature         0.001060         0.024672            0.043           0.966\n",
            "L13.max_temperature        -0.013158         0.019955           -0.659           0.510\n",
            "L13.solar_exposure          0.049507         0.043628            1.135           0.256\n",
            "L13.rainfall                0.048140         0.023868            2.017           0.044\n",
            "L13.school_day             -0.004772         0.014704           -0.325           0.746\n",
            "L13.holiday                 0.001356         0.010458            0.130           0.897\n",
            "L13.y                       0.017793         0.028529            0.624           0.533\n",
            "L14.RRP                    -0.005375         0.068357           -0.079           0.937\n",
            "L14.min_temperature        -0.020753         0.024599           -0.844           0.399\n",
            "L14.max_temperature         0.011550         0.020026            0.577           0.564\n",
            "L14.solar_exposure          0.030873         0.043586            0.708           0.479\n",
            "L14.rainfall                0.022253         0.023589            0.943           0.345\n",
            "L14.school_day             -0.004254         0.014680           -0.290           0.772\n",
            "L14.holiday                 0.018081         0.010371            1.743           0.081\n",
            "L14.y                      -0.016720         0.027653           -0.605           0.545\n",
            "L15.RRP                    -0.033010         0.066629           -0.495           0.620\n",
            "L15.min_temperature         0.021466         0.019368            1.108           0.268\n",
            "L15.max_temperature         0.000822         0.018893            0.044           0.965\n",
            "L15.solar_exposure         -0.028449         0.041815           -0.680           0.496\n",
            "L15.rainfall               -0.019985         0.022545           -0.886           0.375\n",
            "L15.school_day              0.005312         0.010635            0.499           0.617\n",
            "L15.holiday                -0.015293         0.010046           -1.522           0.128\n",
            "L15.y                       0.022456         0.021749            1.033           0.302\n",
            "======================================================================================\n",
            "\n",
            "Results for equation max_temperature\n",
            "======================================================================================\n",
            "                         coefficient       std. error           t-stat            prob\n",
            "--------------------------------------------------------------------------------------\n",
            "const                       0.125505         0.024221            5.182           0.000\n",
            "L1.RRP                      0.220264         0.100498            2.192           0.028\n",
            "L1.min_temperature         -0.114170         0.034852           -3.276           0.001\n",
            "L1.max_temperature          0.469267         0.024290           19.319           0.000\n",
            "L1.solar_exposure          -0.338022         0.061065           -5.535           0.000\n",
            "L1.rainfall                -0.143839         0.035623           -4.038           0.000\n",
            "L1.school_day              -0.007469         0.016124           -0.463           0.643\n",
            "L1.holiday                 -0.030684         0.015135           -2.027           0.043\n",
            "L1.y                       -0.019401         0.033819           -0.574           0.566\n",
            "L2.RRP                     -0.112674         0.103081           -1.093           0.274\n",
            "L2.min_temperature          0.100208         0.037292            2.687           0.007\n",
            "L2.max_temperature         -0.037302         0.030087           -1.240           0.215\n",
            "L2.solar_exposure          -0.189012         0.064544           -2.928           0.003\n",
            "L2.rainfall                -0.114196         0.036066           -3.166           0.002\n",
            "L2.school_day               0.002844         0.022372            0.127           0.899\n",
            "L2.holiday                  0.029306         0.015746            1.861           0.063\n",
            "L2.y                       -0.017285         0.042567           -0.406           0.685\n",
            "L3.RRP                      0.068096         0.103193            0.660           0.509\n",
            "L3.min_temperature          0.019129         0.037324            0.512           0.608\n",
            "L3.max_temperature          0.037202         0.030135            1.235           0.217\n",
            "L3.solar_exposure          -0.009080         0.064897           -0.140           0.889\n",
            "L3.rainfall                -0.041346         0.036054           -1.147           0.251\n",
            "L3.school_day               0.017126         0.022407            0.764           0.445\n",
            "L3.holiday                 -0.013426         0.015754           -0.852           0.394\n",
            "L3.y                       -0.077276         0.043450           -1.778           0.075\n",
            "L4.RRP                      0.039643         0.103250            0.384           0.701\n",
            "L4.min_temperature          0.018365         0.037321            0.492           0.623\n",
            "L4.max_temperature         -0.005288         0.030209           -0.175           0.861\n",
            "L4.solar_exposure           0.077665         0.064782            1.199           0.231\n",
            "L4.rainfall                 0.047967         0.036103            1.329           0.184\n",
            "L4.school_day              -0.010887         0.022402           -0.486           0.627\n",
            "L4.holiday                 -0.002844         0.015775           -0.180           0.857\n",
            "L4.y                        0.070341         0.043549            1.615           0.106\n",
            "L5.RRP                     -0.064963         0.103366           -0.628           0.530\n",
            "L5.min_temperature          0.021095         0.037291            0.566           0.572\n",
            "L5.max_temperature          0.053933         0.030154            1.789           0.074\n",
            "L5.solar_exposure          -0.133660         0.064497           -2.072           0.038\n",
            "L5.rainfall                -0.037764         0.036111           -1.046           0.296\n",
            "L5.school_day              -0.010725         0.022355           -0.480           0.631\n",
            "L5.holiday                  0.001035         0.015818            0.065           0.948\n",
            "L5.y                       -0.087275         0.043489           -2.007           0.045\n",
            "L6.RRP                      0.094069         0.103104            0.912           0.362\n",
            "L6.min_temperature          0.046073         0.037352            1.233           0.217\n",
            "L6.max_temperature         -0.000828         0.030259           -0.027           0.978\n",
            "L6.solar_exposure          -0.040050         0.064530           -0.621           0.535\n",
            "L6.rainfall                 0.012600         0.036119            0.349           0.727\n",
            "L6.school_day               0.015635         0.022348            0.700           0.484\n",
            "L6.holiday                  0.002245         0.015918            0.141           0.888\n",
            "L6.y                        0.039686         0.043397            0.914           0.360\n",
            "L7.RRP                     -0.242587         0.103084           -2.353           0.019\n",
            "L7.min_temperature          0.011457         0.037264            0.307           0.758\n",
            "L7.max_temperature          0.014379         0.030283            0.475           0.635\n",
            "L7.solar_exposure          -0.054406         0.065748           -0.827           0.408\n",
            "L7.rainfall                 0.002199         0.036399            0.060           0.952\n",
            "L7.school_day              -0.000023         0.022349           -0.001           0.999\n",
            "L7.holiday                 -0.018074         0.015931           -1.135           0.257\n",
            "L7.y                        0.010348         0.043431            0.238           0.812\n",
            "L8.RRP                      0.095381         0.104273            0.915           0.360\n",
            "L8.min_temperature          0.006563         0.037315            0.176           0.860\n",
            "L8.max_temperature          0.025016         0.030324            0.825           0.409\n",
            "L8.solar_exposure           0.076338         0.066464            1.149           0.251\n",
            "L8.rainfall                -0.060759         0.036114           -1.682           0.092\n",
            "L8.school_day               0.013054         0.022346            0.584           0.559\n",
            "L8.holiday                 -0.012306         0.015976           -0.770           0.441\n",
            "L8.y                       -0.036838         0.044248           -0.833           0.405\n",
            "L9.RRP                      0.145544         0.104193            1.397           0.162\n",
            "L9.min_temperature          0.032874         0.037372            0.880           0.379\n",
            "L9.max_temperature          0.043586         0.030300            1.438           0.150\n",
            "L9.solar_exposure           0.120635         0.066391            1.817           0.069\n",
            "L9.rainfall                -0.003454         0.035897           -0.096           0.923\n",
            "L9.school_day              -0.006813         0.022345           -0.305           0.760\n",
            "L9.holiday                 -0.000617         0.015986           -0.039           0.969\n",
            "L9.y                       -0.002078         0.043349           -0.048           0.962\n",
            "L10.RRP                     0.117614         0.104200            1.129           0.259\n",
            "L10.min_temperature         0.003792         0.037354            0.102           0.919\n",
            "L10.max_temperature        -0.003413         0.030292           -0.113           0.910\n",
            "L10.solar_exposure         -0.037755         0.066083           -0.571           0.568\n",
            "L10.rainfall                0.034485         0.035925            0.960           0.337\n",
            "L10.school_day             -0.038990         0.022305           -1.748           0.080\n",
            "L10.holiday                 0.002994         0.015932            0.188           0.851\n",
            "L10.y                      -0.010276         0.043267           -0.238           0.812\n",
            "L11.RRP                    -0.187366         0.104059           -1.801           0.072\n",
            "L11.min_temperature         0.013253         0.037380            0.355           0.723\n",
            "L11.max_temperature         0.063678         0.030283            2.103           0.035\n",
            "L11.solar_exposure         -0.044162         0.066086           -0.668           0.504\n",
            "L11.rainfall                0.013601         0.036092            0.377           0.706\n",
            "L11.school_day              0.009335         0.022288            0.419           0.675\n",
            "L11.holiday                -0.026883         0.015894           -1.691           0.091\n",
            "L11.y                      -0.017805         0.043327           -0.411           0.681\n",
            "L12.RRP                     0.038851         0.104087            0.373           0.709\n",
            "L12.min_temperature         0.000810         0.037375            0.022           0.983\n",
            "L12.max_temperature         0.002911         0.030282            0.096           0.923\n",
            "L12.solar_exposure          0.062579         0.066117            0.946           0.344\n",
            "L12.rainfall               -0.008543         0.036138           -0.236           0.813\n",
            "L12.school_day             -0.003300         0.022286           -0.148           0.882\n",
            "L12.holiday                 0.017832         0.015866            1.124           0.261\n",
            "L12.y                       0.007693         0.043413            0.177           0.859\n",
            "L13.RRP                     0.162322         0.104049            1.560           0.119\n",
            "L13.min_temperature        -0.022899         0.037390           -0.612           0.540\n",
            "L13.max_temperature         0.044276         0.030242            1.464           0.143\n",
            "L13.solar_exposure         -0.041115         0.066117           -0.622           0.534\n",
            "L13.rainfall               -0.009666         0.036170           -0.267           0.789\n",
            "L13.school_day              0.014046         0.022284            0.630           0.528\n",
            "L13.holiday                -0.021614         0.015849           -1.364           0.173\n",
            "L13.y                      -0.022705         0.043235           -0.525           0.599\n",
            "L14.RRP                    -0.004518         0.103592           -0.044           0.965\n",
            "L14.min_temperature         0.036595         0.037279            0.982           0.326\n",
            "L14.max_temperature         0.028195         0.030348            0.929           0.353\n",
            "L14.solar_exposure          0.067340         0.066053            1.019           0.308\n",
            "L14.rainfall                0.031591         0.035748            0.884           0.377\n",
            "L14.school_day             -0.032371         0.022247           -1.455           0.146\n",
            "L14.holiday                -0.002965         0.015716           -0.189           0.850\n",
            "L14.y                      -0.017220         0.041907           -0.411           0.681\n",
            "L15.RRP                    -0.191731         0.100974           -1.899           0.058\n",
            "L15.min_temperature         0.033865         0.029352            1.154           0.249\n",
            "L15.max_temperature        -0.008086         0.028631           -0.282           0.778\n",
            "L15.solar_exposure          0.023198         0.063369            0.366           0.714\n",
            "L15.rainfall                0.030185         0.034166            0.883           0.377\n",
            "L15.school_day              0.033118         0.016118            2.055           0.040\n",
            "L15.holiday                -0.016754         0.015224           -1.100           0.271\n",
            "L15.y                       0.027506         0.032960            0.835           0.404\n",
            "======================================================================================\n",
            "\n",
            "Results for equation solar_exposure\n",
            "======================================================================================\n",
            "                         coefficient       std. error           t-stat            prob\n",
            "--------------------------------------------------------------------------------------\n",
            "const                       0.047834         0.008960            5.339           0.000\n",
            "L1.RRP                      0.089101         0.037177            2.397           0.017\n",
            "L1.min_temperature         -0.050765         0.012893           -3.937           0.000\n",
            "L1.max_temperature          0.076074         0.008986            8.466           0.000\n",
            "L1.solar_exposure          -0.153815         0.022590           -6.809           0.000\n",
            "L1.rainfall                -0.003331         0.013178           -0.253           0.800\n",
            "L1.school_day               0.001864         0.005965            0.312           0.755\n",
            "L1.holiday                 -0.002010         0.005599           -0.359           0.720\n",
            "L1.y                        0.013191         0.012511            1.054           0.292\n",
            "L2.RRP                     -0.001851         0.038133           -0.049           0.961\n",
            "L2.min_temperature         -0.007110         0.013796           -0.515           0.606\n",
            "L2.max_temperature          0.023351         0.011130            2.098           0.036\n",
            "L2.solar_exposure          -0.025366         0.023877           -1.062           0.288\n",
            "L2.rainfall                 0.004084         0.013342            0.306           0.760\n",
            "L2.school_day               0.005237         0.008276            0.633           0.527\n",
            "L2.holiday                  0.001527         0.005825            0.262           0.793\n",
            "L2.y                        0.000019         0.015747            0.001           0.999\n",
            "L3.RRP                     -0.000765         0.038174           -0.020           0.984\n",
            "L3.min_temperature          0.000471         0.013808            0.034           0.973\n",
            "L3.max_temperature         -0.001192         0.011148           -0.107           0.915\n",
            "L3.solar_exposure          -0.020773         0.024007           -0.865           0.387\n",
            "L3.rainfall                -0.010139         0.013337           -0.760           0.447\n",
            "L3.school_day              -0.011203         0.008289           -1.352           0.177\n",
            "L3.holiday                  0.001918         0.005828            0.329           0.742\n",
            "L3.y                        0.004835         0.016074            0.301           0.764\n",
            "L4.RRP                     -0.037699         0.038196           -0.987           0.324\n",
            "L4.min_temperature         -0.013324         0.013806           -0.965           0.335\n",
            "L4.max_temperature         -0.005454         0.011175           -0.488           0.625\n",
            "L4.solar_exposure           0.006592         0.023965            0.275           0.783\n",
            "L4.rainfall                 0.002756         0.013356            0.206           0.837\n",
            "L4.school_day               0.002625         0.008287            0.317           0.751\n",
            "L4.holiday                  0.005345         0.005836            0.916           0.360\n",
            "L4.y                        0.018966         0.016110            1.177           0.239\n",
            "L5.RRP                     -0.010786         0.038238           -0.282           0.778\n",
            "L5.min_temperature          0.025790         0.013795            1.869           0.062\n",
            "L5.max_temperature          0.006152         0.011155            0.552           0.581\n",
            "L5.solar_exposure          -0.002994         0.023860           -0.125           0.900\n",
            "L5.rainfall                 0.003259         0.013359            0.244           0.807\n",
            "L5.school_day               0.006185         0.008270            0.748           0.454\n",
            "L5.holiday                 -0.013085         0.005852           -2.236           0.025\n",
            "L5.y                       -0.040660         0.016088           -2.527           0.011\n",
            "L6.RRP                     -0.037122         0.038142           -0.973           0.330\n",
            "L6.min_temperature          0.016573         0.013818            1.199           0.230\n",
            "L6.max_temperature         -0.006726         0.011194           -0.601           0.548\n",
            "L6.solar_exposure          -0.022828         0.023872           -0.956           0.339\n",
            "L6.rainfall                 0.000463         0.013362            0.035           0.972\n",
            "L6.school_day              -0.003151         0.008267           -0.381           0.703\n",
            "L6.holiday                  0.006836         0.005888            1.161           0.246\n",
            "L6.y                        0.042591         0.016054            2.653           0.008\n",
            "L7.RRP                     -0.055979         0.038134           -1.468           0.142\n",
            "L7.min_temperature         -0.026591         0.013785           -1.929           0.054\n",
            "L7.max_temperature          0.011323         0.011203            1.011           0.312\n",
            "L7.solar_exposure          -0.005271         0.024322           -0.217           0.828\n",
            "L7.rainfall                -0.011890         0.013465           -0.883           0.377\n",
            "L7.school_day              -0.007143         0.008268           -0.864           0.388\n",
            "L7.holiday                  0.000016         0.005893            0.003           0.998\n",
            "L7.y                        0.001584         0.016067            0.099           0.921\n",
            "L8.RRP                     -0.029616         0.038574           -0.768           0.443\n",
            "L8.min_temperature          0.010281         0.013804            0.745           0.456\n",
            "L8.max_temperature         -0.007657         0.011218           -0.683           0.495\n",
            "L8.solar_exposure           0.006013         0.024587            0.245           0.807\n",
            "L8.rainfall                 0.013514         0.013360            1.012           0.312\n",
            "L8.school_day              -0.005768         0.008267           -0.698           0.485\n",
            "L8.holiday                  0.002153         0.005910            0.364           0.716\n",
            "L8.y                        0.002257         0.016369            0.138           0.890\n",
            "L9.RRP                     -0.006422         0.038544           -0.167           0.868\n",
            "L9.min_temperature         -0.012082         0.013825           -0.874           0.382\n",
            "L9.max_temperature         -0.004160         0.011209           -0.371           0.711\n",
            "L9.solar_exposure          -0.017134         0.024560           -0.698           0.485\n",
            "L9.rainfall                 0.013370         0.013279            1.007           0.314\n",
            "L9.school_day               0.008935         0.008266            1.081           0.280\n",
            "L9.holiday                 -0.007930         0.005914           -1.341           0.180\n",
            "L9.y                       -0.003392         0.016036           -0.212           0.832\n",
            "L10.RRP                    -0.022670         0.038547           -0.588           0.556\n",
            "L10.min_temperature         0.013032         0.013819            0.943           0.346\n",
            "L10.max_temperature         0.003149         0.011206            0.281           0.779\n",
            "L10.solar_exposure         -0.027244         0.024446           -1.114           0.265\n",
            "L10.rainfall               -0.004608         0.013290           -0.347           0.729\n",
            "L10.school_day             -0.003495         0.008251           -0.424           0.672\n",
            "L10.holiday                -0.009074         0.005894           -1.539           0.124\n",
            "L10.y                      -0.005645         0.016006           -0.353           0.724\n",
            "L11.RRP                     0.062533         0.038495            1.624           0.104\n",
            "L11.min_temperature        -0.009785         0.013828           -0.708           0.479\n",
            "L11.max_temperature        -0.010052         0.011203           -0.897           0.370\n",
            "L11.solar_exposure         -0.023728         0.024447           -0.971           0.332\n",
            "L11.rainfall                0.015943         0.013352            1.194           0.232\n",
            "L11.school_day              0.007827         0.008245            0.949           0.342\n",
            "L11.holiday                 0.017023         0.005880            2.895           0.004\n",
            "L11.y                      -0.001487         0.016028           -0.093           0.926\n",
            "L12.RRP                    -0.022593         0.038505           -0.587           0.557\n",
            "L12.min_temperature         0.004793         0.013826            0.347           0.729\n",
            "L12.max_temperature        -0.010535         0.011202           -0.940           0.347\n",
            "L12.solar_exposure         -0.004024         0.024459           -0.165           0.869\n",
            "L12.rainfall               -0.000628         0.013368           -0.047           0.963\n",
            "L12.school_day             -0.005330         0.008244           -0.647           0.518\n",
            "L12.holiday                 0.017256         0.005869            2.940           0.003\n",
            "L12.y                       0.006817         0.016060            0.424           0.671\n",
            "L13.RRP                    -0.035501         0.038491           -0.922           0.356\n",
            "L13.min_temperature        -0.008631         0.013832           -0.624           0.533\n",
            "L13.max_temperature         0.004044         0.011187            0.361           0.718\n",
            "L13.solar_exposure         -0.021261         0.024459           -0.869           0.385\n",
            "L13.rainfall                0.001013         0.013381            0.076           0.940\n",
            "L13.school_day              0.004008         0.008244            0.486           0.627\n",
            "L13.holiday                -0.009338         0.005863           -1.593           0.111\n",
            "L13.y                      -0.018218         0.015994           -1.139           0.255\n",
            "L14.RRP                     0.002661         0.038322            0.069           0.945\n",
            "L14.min_temperature        -0.005950         0.013791           -0.431           0.666\n",
            "L14.max_temperature         0.000789         0.011227            0.070           0.944\n",
            "L14.solar_exposure         -0.024000         0.024435           -0.982           0.326\n",
            "L14.rainfall                0.018432         0.013224            1.394           0.163\n",
            "L14.school_day             -0.001975         0.008230           -0.240           0.810\n",
            "L14.holiday                 0.002732         0.005814            0.470           0.638\n",
            "L14.y                      -0.004801         0.015503           -0.310           0.757\n",
            "L15.RRP                     0.037116         0.037354            0.994           0.320\n",
            "L15.min_temperature         0.012341         0.010858            1.137           0.256\n",
            "L15.max_temperature         0.005810         0.010592            0.549           0.583\n",
            "L15.solar_exposure         -0.021919         0.023442           -0.935           0.350\n",
            "L15.rainfall               -0.003817         0.012639           -0.302           0.763\n",
            "L15.school_day             -0.000400         0.005962           -0.067           0.946\n",
            "L15.holiday                -0.006399         0.005632           -1.136           0.256\n",
            "L15.y                       0.000555         0.012193            0.046           0.964\n",
            "======================================================================================\n",
            "\n",
            "Results for equation rainfall\n",
            "======================================================================================\n",
            "                         coefficient       std. error           t-stat            prob\n",
            "--------------------------------------------------------------------------------------\n",
            "const                       0.001665         0.015341            0.109           0.914\n",
            "L1.RRP                     -0.095581         0.063653           -1.502           0.133\n",
            "L1.min_temperature          0.079761         0.022075            3.613           0.000\n",
            "L1.max_temperature         -0.006074         0.015385           -0.395           0.693\n",
            "L1.solar_exposure           0.463633         0.038677           11.987           0.000\n",
            "L1.rainfall                 0.148275         0.022563            6.572           0.000\n",
            "L1.school_day               0.010380         0.010213            1.016           0.309\n",
            "L1.holiday                  0.029907         0.009586            3.120           0.002\n",
            "L1.y                        0.054036         0.021420            2.523           0.012\n",
            "L2.RRP                      0.021889         0.065289            0.335           0.737\n",
            "L2.min_temperature          0.016073         0.023620            0.680           0.496\n",
            "L2.max_temperature         -0.020486         0.019056           -1.075           0.282\n",
            "L2.solar_exposure           0.212291         0.040881            5.193           0.000\n",
            "L2.rainfall                 0.059026         0.022843            2.584           0.010\n",
            "L2.school_day              -0.015589         0.014170           -1.100           0.271\n",
            "L2.holiday                 -0.018136         0.009973           -1.819           0.069\n",
            "L2.y                       -0.040212         0.026961           -1.492           0.136\n",
            "L3.RRP                     -0.046074         0.065360           -0.705           0.481\n",
            "L3.min_temperature          0.014929         0.023641            0.632           0.528\n",
            "L3.max_temperature         -0.028865         0.019087           -1.512           0.130\n",
            "L3.solar_exposure          -0.051929         0.041104           -1.263           0.206\n",
            "L3.rainfall                -0.019952         0.022836           -0.874           0.382\n",
            "L3.school_day               0.014457         0.014192            1.019           0.308\n",
            "L3.holiday                 -0.004481         0.009978           -0.449           0.653\n",
            "L3.y                        0.030473         0.027521            1.107           0.268\n",
            "L4.RRP                      0.007170         0.065397            0.110           0.913\n",
            "L4.min_temperature          0.001479         0.023639            0.063           0.950\n",
            "L4.max_temperature         -0.000197         0.019134           -0.010           0.992\n",
            "L4.solar_exposure           0.000275         0.041032            0.007           0.995\n",
            "L4.rainfall                 0.003812         0.022867            0.167           0.868\n",
            "L4.school_day              -0.011796         0.014189           -0.831           0.406\n",
            "L4.holiday                 -0.000766         0.009992           -0.077           0.939\n",
            "L4.y                       -0.020653         0.027583           -0.749           0.454\n",
            "L5.RRP                     -0.000573         0.065470           -0.009           0.993\n",
            "L5.min_temperature         -0.038457         0.023620           -1.628           0.103\n",
            "L5.max_temperature          0.027922         0.019099            1.462           0.144\n",
            "L5.solar_exposure          -0.033741         0.040851           -0.826           0.409\n",
            "L5.rainfall                 0.017142         0.022872            0.749           0.454\n",
            "L5.school_day               0.002803         0.014159            0.198           0.843\n",
            "L5.holiday                 -0.010049         0.010019           -1.003           0.316\n",
            "L5.y                       -0.051100         0.027545           -1.855           0.064\n",
            "L6.RRP                      0.000858         0.065304            0.013           0.990\n",
            "L6.min_temperature          0.022698         0.023658            0.959           0.337\n",
            "L6.max_temperature         -0.007196         0.019166           -0.375           0.707\n",
            "L6.solar_exposure          -0.036144         0.040872           -0.884           0.377\n",
            "L6.rainfall                -0.043824         0.022877           -1.916           0.055\n",
            "L6.school_day               0.018457         0.014155            1.304           0.192\n",
            "L6.holiday                  0.003224         0.010082            0.320           0.749\n",
            "L6.y                        0.058019         0.027487            2.111           0.035\n",
            "L7.RRP                      0.039258         0.065291            0.601           0.548\n",
            "L7.min_temperature         -0.020645         0.023602           -0.875           0.382\n",
            "L7.max_temperature          0.021491         0.019181            1.120           0.263\n",
            "L7.solar_exposure           0.233266         0.041644            5.602           0.000\n",
            "L7.rainfall                 0.030575         0.023054            1.326           0.185\n",
            "L7.school_day              -0.008530         0.014155           -0.603           0.547\n",
            "L7.holiday                 -0.008974         0.010090           -0.889           0.374\n",
            "L7.y                       -0.026337         0.027508           -0.957           0.338\n",
            "L8.RRP                     -0.079726         0.066044           -1.207           0.227\n",
            "L8.min_temperature          0.042444         0.023635            1.796           0.073\n",
            "L8.max_temperature         -0.009431         0.019207           -0.491           0.623\n",
            "L8.solar_exposure          -0.086547         0.042097           -2.056           0.040\n",
            "L8.rainfall                -0.011121         0.022874           -0.486           0.627\n",
            "L8.school_day              -0.010711         0.014154           -0.757           0.449\n",
            "L8.holiday                 -0.011942         0.010119           -1.180           0.238\n",
            "L8.y                        0.006953         0.028026            0.248           0.804\n",
            "L9.RRP                      0.025655         0.065994            0.389           0.697\n",
            "L9.min_temperature          0.010612         0.023671            0.448           0.654\n",
            "L9.max_temperature         -0.021258         0.019191           -1.108           0.268\n",
            "L9.solar_exposure           0.020244         0.042051            0.481           0.630\n",
            "L9.rainfall                -0.026325         0.022736           -1.158           0.247\n",
            "L9.school_day              -0.020331         0.014153           -1.437           0.151\n",
            "L9.holiday                  0.001492         0.010126            0.147           0.883\n",
            "L9.y                        0.026872         0.027456            0.979           0.328\n",
            "L10.RRP                    -0.021224         0.065998           -0.322           0.748\n",
            "L10.min_temperature        -0.017717         0.023659           -0.749           0.454\n",
            "L10.max_temperature        -0.035695         0.019186           -1.860           0.063\n",
            "L10.solar_exposure          0.029013         0.041856            0.693           0.488\n",
            "L10.rainfall               -0.007448         0.022754           -0.327           0.743\n",
            "L10.school_day              0.004370         0.014128            0.309           0.757\n",
            "L10.holiday                -0.001638         0.010091           -0.162           0.871\n",
            "L10.y                       0.000814         0.027405            0.030           0.976\n",
            "L11.RRP                    -0.001866         0.065909           -0.028           0.977\n",
            "L11.min_temperature         0.015910         0.023676            0.672           0.502\n",
            "L11.max_temperature         0.006899         0.019181            0.360           0.719\n",
            "L11.solar_exposure         -0.028564         0.041858           -0.682           0.495\n",
            "L11.rainfall               -0.018897         0.022860           -0.827           0.408\n",
            "L11.school_day             -0.000059         0.014117           -0.004           0.997\n",
            "L11.holiday                 0.009018         0.010067            0.896           0.370\n",
            "L11.y                      -0.012182         0.027443           -0.444           0.657\n",
            "L12.RRP                     0.041684         0.065927            0.632           0.527\n",
            "L12.min_temperature        -0.009376         0.023672           -0.396           0.692\n",
            "L12.max_temperature        -0.022613         0.019180           -1.179           0.238\n",
            "L12.solar_exposure         -0.011845         0.041877           -0.283           0.777\n",
            "L12.rainfall                0.024090         0.022889            1.052           0.293\n",
            "L12.school_day              0.014022         0.014116            0.993           0.321\n",
            "L12.holiday                -0.000295         0.010049           -0.029           0.977\n",
            "L12.y                       0.063553         0.027497            2.311           0.021\n",
            "L13.RRP                    -0.068003         0.065902           -1.032           0.302\n",
            "L13.min_temperature        -0.011114         0.023682           -0.469           0.639\n",
            "L13.max_temperature         0.005805         0.019154            0.303           0.762\n",
            "L13.solar_exposure         -0.074558         0.041877           -1.780           0.075\n",
            "L13.rainfall               -0.017026         0.022910           -0.743           0.457\n",
            "L13.school_day             -0.007374         0.014114           -0.522           0.601\n",
            "L13.holiday                -0.016168         0.010038           -1.611           0.107\n",
            "L13.y                      -0.084837         0.027384           -3.098           0.002\n",
            "L14.RRP                     0.159197         0.065613            2.426           0.015\n",
            "L14.min_temperature         0.008730         0.023612            0.370           0.712\n",
            "L14.max_temperature         0.014545         0.019222            0.757           0.449\n",
            "L14.solar_exposure         -0.055680         0.041836           -1.331           0.183\n",
            "L14.rainfall                0.013370         0.022642            0.590           0.555\n",
            "L14.school_day              0.015547         0.014091            1.103           0.270\n",
            "L14.holiday                -0.017338         0.009954           -1.742           0.082\n",
            "L14.y                       0.022064         0.026543            0.831           0.406\n",
            "L15.RRP                     0.015312         0.063955            0.239           0.811\n",
            "L15.min_temperature        -0.019726         0.018591           -1.061           0.289\n",
            "L15.max_temperature        -0.008983         0.018134           -0.495           0.620\n",
            "L15.solar_exposure         -0.007339         0.040136           -0.183           0.855\n",
            "L15.rainfall                0.024517         0.021640            1.133           0.257\n",
            "L15.school_day             -0.007930         0.010209           -0.777           0.437\n",
            "L15.holiday                 0.010323         0.009643            1.071           0.284\n",
            "L15.y                      -0.047421         0.020876           -2.272           0.023\n",
            "======================================================================================\n",
            "\n",
            "Results for equation school_day\n",
            "======================================================================================\n",
            "                         coefficient       std. error           t-stat            prob\n",
            "--------------------------------------------------------------------------------------\n",
            "const                       0.036453         0.032692            1.115           0.265\n",
            "L1.RRP                     -0.049697         0.135647           -0.366           0.714\n",
            "L1.min_temperature          0.062192         0.047042            1.322           0.186\n",
            "L1.max_temperature          0.027123         0.032786            0.827           0.408\n",
            "L1.solar_exposure           0.024122         0.082422            0.293           0.770\n",
            "L1.rainfall                 0.120773         0.048083            2.512           0.012\n",
            "L1.school_day               0.955946         0.021764           43.923           0.000\n",
            "L1.holiday                 -0.026605         0.020428           -1.302           0.193\n",
            "L1.y                        0.026414         0.045647            0.579           0.563\n",
            "L2.RRP                      0.020074         0.139134            0.144           0.885\n",
            "L2.min_temperature         -0.001980         0.050336           -0.039           0.969\n",
            "L2.max_temperature         -0.027702         0.040610           -0.682           0.495\n",
            "L2.solar_exposure           0.085891         0.087118            0.986           0.324\n",
            "L2.rainfall                -0.007197         0.048680           -0.148           0.882\n",
            "L2.school_day              -0.070026         0.030196           -2.319           0.020\n",
            "L2.holiday                 -0.011561         0.021253           -0.544           0.586\n",
            "L2.y                       -0.095258         0.057455           -1.658           0.097\n",
            "L3.RRP                     -0.019565         0.139285           -0.140           0.888\n",
            "L3.min_temperature         -0.023746         0.050379           -0.471           0.637\n",
            "L3.max_temperature          0.037225         0.040674            0.915           0.360\n",
            "L3.solar_exposure           0.020519         0.087594            0.234           0.815\n",
            "L3.rainfall                 0.013681         0.048663            0.281           0.779\n",
            "L3.school_day               0.066574         0.030244            2.201           0.028\n",
            "L3.holiday                  0.045382         0.021264            2.134           0.033\n",
            "L3.y                        0.039835         0.058647            0.679           0.497\n",
            "L4.RRP                      0.021614         0.139362            0.155           0.877\n",
            "L4.min_temperature          0.015201         0.050375            0.302           0.763\n",
            "L4.max_temperature         -0.030121         0.040775           -0.739           0.460\n",
            "L4.solar_exposure          -0.059591         0.087440           -0.682           0.496\n",
            "L4.rainfall                -0.035055         0.048730           -0.719           0.472\n",
            "L4.school_day              -0.005375         0.030237           -0.178           0.859\n",
            "L4.holiday                  0.044153         0.021293            2.074           0.038\n",
            "L4.y                       -0.022839         0.058780           -0.389           0.698\n",
            "L5.RRP                     -0.028657         0.139519           -0.205           0.837\n",
            "L5.min_temperature          0.009624         0.050334            0.191           0.848\n",
            "L5.max_temperature         -0.020765         0.040700           -0.510           0.610\n",
            "L5.solar_exposure           0.021533         0.087055            0.247           0.805\n",
            "L5.rainfall                 0.006188         0.048742            0.127           0.899\n",
            "L5.school_day              -0.075417         0.030173           -2.499           0.012\n",
            "L5.holiday                  0.038355         0.021351            1.796           0.072\n",
            "L5.y                        0.020277         0.058700            0.345           0.730\n",
            "L6.RRP                     -0.223743         0.139165           -1.608           0.108\n",
            "L6.min_temperature         -0.011395         0.050416           -0.226           0.821\n",
            "L6.max_temperature          0.001378         0.040843            0.034           0.973\n",
            "L6.solar_exposure          -0.022667         0.087100           -0.260           0.795\n",
            "L6.rainfall                -0.054422         0.048752           -1.116           0.264\n",
            "L6.school_day               0.076491         0.030164            2.536           0.011\n",
            "L6.holiday                 -0.000284         0.021485           -0.013           0.989\n",
            "L6.y                        0.081360         0.058576            1.389           0.165\n",
            "L7.RRP                      0.567431         0.139138            4.078           0.000\n",
            "L7.min_temperature          0.008033         0.050297            0.160           0.873\n",
            "L7.max_temperature          0.001718         0.040875            0.042           0.966\n",
            "L7.solar_exposure           0.006682         0.088744            0.075           0.940\n",
            "L7.rainfall                 0.007803         0.049129            0.159           0.874\n",
            "L7.school_day               0.162144         0.030165            5.375           0.000\n",
            "L7.holiday                  0.008546         0.021503            0.397           0.691\n",
            "L7.y                       -0.035693         0.058622           -0.609           0.543\n",
            "L8.RRP                     -0.106922         0.140743           -0.760           0.447\n",
            "L8.min_temperature          0.065830         0.050367            1.307           0.191\n",
            "L8.max_temperature         -0.039649         0.040930           -0.969           0.333\n",
            "L8.solar_exposure          -0.010385         0.089710           -0.116           0.908\n",
            "L8.rainfall                -0.046013         0.048745           -0.944           0.345\n",
            "L8.school_day              -0.161882         0.030162           -5.367           0.000\n",
            "L8.holiday                  0.004538         0.021563            0.210           0.833\n",
            "L8.y                        0.064936         0.059723            1.087           0.277\n",
            "L9.RRP                      0.071192         0.140635            0.506           0.613\n",
            "L9.min_temperature          0.028023         0.050443            0.556           0.579\n",
            "L9.max_temperature          0.032310         0.040897            0.790           0.430\n",
            "L9.solar_exposure           0.080998         0.089611            0.904           0.366\n",
            "L9.rainfall                 0.158336         0.048452            3.268           0.001\n",
            "L9.school_day              -0.027498         0.030160           -0.912           0.362\n",
            "L9.holiday                 -0.028739         0.021578           -1.332           0.183\n",
            "L9.y                       -0.111351         0.058510           -1.903           0.057\n",
            "L10.RRP                    -0.001189         0.140645           -0.008           0.993\n",
            "L10.min_temperature        -0.059336         0.050419           -1.177           0.239\n",
            "L10.max_temperature        -0.079278         0.040886           -1.939           0.053\n",
            "L10.solar_exposure         -0.103769         0.089196           -1.163           0.245\n",
            "L10.rainfall               -0.020934         0.048490           -0.432           0.666\n",
            "L10.school_day              0.040863         0.030107            1.357           0.175\n",
            "L10.holiday                -0.001321         0.021505           -0.061           0.951\n",
            "L10.y                       0.090510         0.058400            1.550           0.121\n",
            "L11.RRP                     0.006493         0.140453            0.046           0.963\n",
            "L11.min_temperature        -0.040370         0.050454           -0.800           0.424\n",
            "L11.max_temperature         0.068272         0.040875            1.670           0.095\n",
            "L11.solar_exposure          0.019619         0.089200            0.220           0.826\n",
            "L11.rainfall               -0.007062         0.048715           -0.145           0.885\n",
            "L11.school_day              0.002641         0.030084            0.088           0.930\n",
            "L11.holiday                 0.004833         0.021452            0.225           0.822\n",
            "L11.y                      -0.120655         0.058481           -2.063           0.039\n",
            "L12.RRP                     0.086919         0.140492            0.619           0.536\n",
            "L12.min_temperature        -0.005692         0.050447           -0.113           0.910\n",
            "L12.max_temperature        -0.019094         0.040873           -0.467           0.640\n",
            "L12.solar_exposure         -0.012684         0.089242           -0.142           0.887\n",
            "L12.rainfall               -0.081261         0.048777           -1.666           0.096\n",
            "L12.school_day             -0.061830         0.030081           -2.055           0.040\n",
            "L12.holiday                -0.005923         0.021415           -0.277           0.782\n",
            "L12.y                       0.105373         0.058597            1.798           0.072\n",
            "L13.RRP                     0.042155         0.140441            0.300           0.764\n",
            "L13.min_temperature         0.103672         0.050467            2.054           0.040\n",
            "L13.max_temperature        -0.025315         0.040819           -0.620           0.535\n",
            "L13.solar_exposure         -0.005837         0.089242           -0.065           0.948\n",
            "L13.rainfall               -0.007797         0.048821           -0.160           0.873\n",
            "L13.school_day              0.045776         0.030078            1.522           0.128\n",
            "L13.holiday                 0.008532         0.021392            0.399           0.690\n",
            "L13.y                       0.007009         0.058357            0.120           0.904\n",
            "L14.RRP                    -0.077386         0.139823           -0.553           0.580\n",
            "L14.min_temperature        -0.098666         0.050318           -1.961           0.050\n",
            "L14.max_temperature         0.012500         0.040963            0.305           0.760\n",
            "L14.solar_exposure          0.123683         0.089155            1.387           0.165\n",
            "L14.rainfall               -0.028046         0.048251           -0.581           0.561\n",
            "L14.school_day              0.118475         0.030028            3.945           0.000\n",
            "L14.holiday                -0.019438         0.021213           -0.916           0.359\n",
            "L14.y                      -0.047058         0.056564           -0.832           0.405\n",
            "L15.RRP                     0.120791         0.136290            0.886           0.375\n",
            "L15.min_temperature        -0.025884         0.039618           -0.653           0.514\n",
            "L15.max_temperature         0.006418         0.038645            0.166           0.868\n",
            "L15.solar_exposure          0.005995         0.085532            0.070           0.944\n",
            "L15.rainfall               -0.025218         0.046116           -0.547           0.584\n",
            "L15.school_day             -0.155475         0.021755           -7.147           0.000\n",
            "L15.holiday                -0.004073         0.020549           -0.198           0.843\n",
            "L15.y                       0.035130         0.044487            0.790           0.430\n",
            "======================================================================================\n",
            "\n",
            "Results for equation holiday\n",
            "======================================================================================\n",
            "                         coefficient       std. error           t-stat            prob\n",
            "--------------------------------------------------------------------------------------\n",
            "const                       0.043748         0.036586            1.196           0.232\n",
            "L1.RRP                     -0.062411         0.151807           -0.411           0.681\n",
            "L1.min_temperature          0.019108         0.052647            0.363           0.717\n",
            "L1.max_temperature         -0.009092         0.036692           -0.248           0.804\n",
            "L1.solar_exposure          -0.042825         0.092241           -0.464           0.642\n",
            "L1.rainfall                -0.134052         0.053811           -2.491           0.013\n",
            "L1.school_day              -0.039179         0.024357           -1.609           0.108\n",
            "L1.holiday                  0.194552         0.022862            8.510           0.000\n",
            "L1.y                       -0.155464         0.051085           -3.043           0.002\n",
            "L2.RRP                      0.646359         0.155709            4.151           0.000\n",
            "L2.min_temperature         -0.015272         0.056332           -0.271           0.786\n",
            "L2.max_temperature          0.052016         0.045448            1.145           0.252\n",
            "L2.solar_exposure          -0.107485         0.097497           -1.102           0.270\n",
            "L2.rainfall                -0.002676         0.054479           -0.049           0.961\n",
            "L2.school_day              -0.021449         0.033793           -0.635           0.526\n",
            "L2.holiday                  0.052394         0.023785            2.203           0.028\n",
            "L2.y                        0.035024         0.064299            0.545           0.586\n",
            "L3.RRP                     -0.339354         0.155878           -2.177           0.029\n",
            "L3.min_temperature          0.055069         0.056380            0.977           0.329\n",
            "L3.max_temperature         -0.027442         0.045520           -0.603           0.547\n",
            "L3.solar_exposure          -0.081120         0.098030           -0.828           0.408\n",
            "L3.rainfall                 0.114086         0.054461            2.095           0.036\n",
            "L3.school_day              -0.008992         0.033847           -0.266           0.790\n",
            "L3.holiday                  0.016968         0.023797            0.713           0.476\n",
            "L3.y                       -0.030078         0.065634           -0.458           0.647\n",
            "L4.RRP                      0.555250         0.155965            3.560           0.000\n",
            "L4.min_temperature         -0.115484         0.056376           -2.048           0.041\n",
            "L4.max_temperature         -0.027747         0.045632           -0.608           0.543\n",
            "L4.solar_exposure          -0.120471         0.097857           -1.231           0.218\n",
            "L4.rainfall                 0.034463         0.054536            0.632           0.527\n",
            "L4.school_day              -0.014815         0.033839           -0.438           0.662\n",
            "L4.holiday                 -0.052308         0.023829           -2.195           0.028\n",
            "L4.y                        0.084303         0.065782            1.282           0.200\n",
            "L5.RRP                     -0.441583         0.156140           -2.828           0.005\n",
            "L5.min_temperature         -0.022317         0.056331           -0.396           0.692\n",
            "L5.max_temperature          0.131436         0.045549            2.886           0.004\n",
            "L5.solar_exposure          -0.037085         0.097426           -0.381           0.703\n",
            "L5.rainfall                 0.037677         0.054548            0.691           0.490\n",
            "L5.school_day               0.022510         0.033768            0.667           0.505\n",
            "L5.holiday                 -0.023766         0.023894           -0.995           0.320\n",
            "L5.y                       -0.004895         0.065693           -0.075           0.941\n",
            "L6.RRP                      0.091083         0.155744            0.585           0.559\n",
            "L6.min_temperature          0.077188         0.056422            1.368           0.171\n",
            "L6.max_temperature          0.037382         0.045708            0.818           0.413\n",
            "L6.solar_exposure          -0.093102         0.097476           -0.955           0.340\n",
            "L6.rainfall                 0.258737         0.054560            4.742           0.000\n",
            "L6.school_day               0.011279         0.033758            0.334           0.738\n",
            "L6.holiday                  0.053459         0.024044            2.223           0.026\n",
            "L6.y                       -0.069434         0.065554           -1.059           0.290\n",
            "L7.RRP                     -0.152699         0.155714           -0.981           0.327\n",
            "L7.min_temperature         -0.098606         0.056289           -1.752           0.080\n",
            "L7.max_temperature         -0.011592         0.045744           -0.253           0.800\n",
            "L7.solar_exposure          -0.196724         0.099316           -1.981           0.048\n",
            "L7.rainfall                 0.039898         0.054982            0.726           0.468\n",
            "L7.school_day              -0.063425         0.033759           -1.879           0.060\n",
            "L7.holiday                  0.014952         0.024065            0.621           0.534\n",
            "L7.y                        0.080756         0.065605            1.231           0.218\n",
            "L8.RRP                      0.007699         0.157510            0.049           0.961\n",
            "L8.min_temperature          0.017715         0.056367            0.314           0.753\n",
            "L8.max_temperature          0.042857         0.045806            0.936           0.349\n",
            "L8.solar_exposure          -0.154333         0.100397           -1.537           0.124\n",
            "L8.rainfall                 0.032139         0.054552            0.589           0.556\n",
            "L8.school_day               0.110845         0.033755            3.284           0.001\n",
            "L8.holiday                 -0.038683         0.024132           -1.603           0.109\n",
            "L8.y                        0.073557         0.066838            1.101           0.271\n",
            "L9.RRP                     -0.095539         0.157389           -0.607           0.544\n",
            "L9.min_temperature         -0.027877         0.056452           -0.494           0.621\n",
            "L9.max_temperature          0.069537         0.045769            1.519           0.129\n",
            "L9.solar_exposure          -0.047705         0.100287           -0.476           0.634\n",
            "L9.rainfall                 0.017117         0.054224            0.316           0.752\n",
            "L9.school_day              -0.030033         0.033753           -0.890           0.374\n",
            "L9.holiday                 -0.015318         0.024148           -0.634           0.526\n",
            "L9.y                       -0.056754         0.065480           -0.867           0.386\n",
            "L10.RRP                     0.104939         0.157400            0.667           0.505\n",
            "L10.min_temperature        -0.045591         0.056426           -0.808           0.419\n",
            "L10.max_temperature        -0.023172         0.045757           -0.506           0.613\n",
            "L10.solar_exposure         -0.177944         0.099823           -1.783           0.075\n",
            "L10.rainfall                0.120668         0.054267            2.224           0.026\n",
            "L10.school_day             -0.014765         0.033693           -0.438           0.661\n",
            "L10.holiday                -0.008556         0.024067           -0.356           0.722\n",
            "L10.y                       0.072328         0.065358            1.107           0.268\n",
            "L11.RRP                    -0.046737         0.157186           -0.297           0.766\n",
            "L11.min_temperature         0.020052         0.056464            0.355           0.722\n",
            "L11.max_temperature        -0.022236         0.045745           -0.486           0.627\n",
            "L11.solar_exposure          0.083656         0.099827            0.838           0.402\n",
            "L11.rainfall                0.002146         0.054519            0.039           0.969\n",
            "L11.school_day              0.041291         0.033668            1.226           0.220\n",
            "L11.holiday                 0.010103         0.024008            0.421           0.674\n",
            "L11.y                       0.012796         0.065448            0.196           0.845\n",
            "L12.RRP                    -0.014772         0.157229           -0.094           0.925\n",
            "L12.min_temperature        -0.162915         0.056456           -2.886           0.004\n",
            "L12.max_temperature         0.020332         0.045742            0.444           0.657\n",
            "L12.solar_exposure          0.004352         0.099873            0.044           0.965\n",
            "L12.rainfall               -0.102422         0.054588           -1.876           0.061\n",
            "L12.school_day             -0.057750         0.033665           -1.715           0.086\n",
            "L12.holiday                -0.002343         0.023967           -0.098           0.922\n",
            "L12.y                      -0.002193         0.065578           -0.033           0.973\n",
            "L13.RRP                     0.056144         0.157172            0.357           0.721\n",
            "L13.min_temperature         0.026193         0.056479            0.464           0.643\n",
            "L13.max_temperature         0.137014         0.045681            2.999           0.003\n",
            "L13.solar_exposure          0.231848         0.099874            2.321           0.020\n",
            "L13.rainfall               -0.002733         0.054637           -0.050           0.960\n",
            "L13.school_day             -0.000886         0.033661           -0.026           0.979\n",
            "L13.holiday                -0.005017         0.023940           -0.210           0.834\n",
            "L13.y                      -0.057590         0.065309           -0.882           0.378\n",
            "L14.RRP                    -0.124879         0.156481           -0.798           0.425\n",
            "L14.min_temperature         0.082999         0.056312            1.474           0.141\n",
            "L14.max_temperature        -0.056246         0.045843           -1.227           0.220\n",
            "L14.solar_exposure          0.080995         0.099776            0.812           0.417\n",
            "L14.rainfall                0.015121         0.053999            0.280           0.779\n",
            "L14.school_day             -0.012570         0.033606           -0.374           0.708\n",
            "L14.holiday                -0.000326         0.023740           -0.014           0.989\n",
            "L14.y                       0.167201         0.063303            2.641           0.008\n",
            "L15.RRP                    -0.028482         0.152527           -0.187           0.852\n",
            "L15.min_temperature        -0.006720         0.044337           -0.152           0.880\n",
            "L15.max_temperature        -0.022990         0.043249           -0.532           0.595\n",
            "L15.solar_exposure         -0.020953         0.095722           -0.219           0.827\n",
            "L15.rainfall                0.029145         0.051610            0.565           0.572\n",
            "L15.school_day              0.036806         0.024346            1.512           0.131\n",
            "L15.holiday                -0.039530         0.022997           -1.719           0.086\n",
            "L15.y                      -0.165526         0.049787           -3.325           0.001\n",
            "======================================================================================\n",
            "\n",
            "Results for equation y\n",
            "======================================================================================\n",
            "                         coefficient       std. error           t-stat            prob\n",
            "--------------------------------------------------------------------------------------\n",
            "const                       0.091293         0.017195            5.309           0.000\n",
            "L1.RRP                      0.190362         0.071347            2.668           0.008\n",
            "L1.min_temperature         -0.003422         0.024743           -0.138           0.890\n",
            "L1.max_temperature         -0.043128         0.017245           -2.501           0.012\n",
            "L1.solar_exposure          -0.291834         0.043352           -6.732           0.000\n",
            "L1.rainfall                 0.031922         0.025290            1.262           0.207\n",
            "L1.school_day               0.028631         0.011447            2.501           0.012\n",
            "L1.holiday                  0.051434         0.010745            4.787           0.000\n",
            "L1.y                        0.823982         0.024009           34.319           0.000\n",
            "L2.RRP                     -0.234513         0.073180           -3.205           0.001\n",
            "L2.min_temperature          0.031977         0.026475            1.208           0.227\n",
            "L2.max_temperature         -0.002625         0.021360           -0.123           0.902\n",
            "L2.solar_exposure          -0.041921         0.045822           -0.915           0.360\n",
            "L2.rainfall                -0.046032         0.025604           -1.798           0.072\n",
            "L2.school_day              -0.021185         0.015882           -1.334           0.182\n",
            "L2.holiday                  0.003638         0.011178            0.325           0.745\n",
            "L2.y                       -0.269762         0.030219           -8.927           0.000\n",
            "L3.RRP                      0.028362         0.073260            0.387           0.699\n",
            "L3.min_temperature          0.004829         0.026498            0.182           0.855\n",
            "L3.max_temperature         -0.037369         0.021394           -1.747           0.081\n",
            "L3.solar_exposure           0.029238         0.046072            0.635           0.526\n",
            "L3.rainfall                -0.050741         0.025596           -1.982           0.047\n",
            "L3.school_day               0.006479         0.015907            0.407           0.684\n",
            "L3.holiday                  0.007733         0.011184            0.691           0.489\n",
            "L3.y                        0.087579         0.030847            2.839           0.005\n",
            "L4.RRP                     -0.105304         0.073301           -1.437           0.151\n",
            "L4.min_temperature          0.016542         0.026496            0.624           0.532\n",
            "L4.max_temperature          0.014483         0.021446            0.675           0.499\n",
            "L4.solar_exposure           0.021560         0.045991            0.469           0.639\n",
            "L4.rainfall                 0.010273         0.025631            0.401           0.689\n",
            "L4.school_day              -0.010790         0.015904           -0.678           0.497\n",
            "L4.holiday                 -0.003993         0.011199           -0.357           0.721\n",
            "L4.y                       -0.018114         0.030917           -0.586           0.558\n",
            "L5.RRP                      0.082606         0.073383            1.126           0.260\n",
            "L5.min_temperature          0.025627         0.026474            0.968           0.333\n",
            "L5.max_temperature         -0.027340         0.021407           -1.277           0.202\n",
            "L5.solar_exposure          -0.033348         0.045788           -0.728           0.466\n",
            "L5.rainfall                -0.010950         0.025637           -0.427           0.669\n",
            "L5.school_day               0.004065         0.015870            0.256           0.798\n",
            "L5.holiday                 -0.005587         0.011230           -0.497           0.619\n",
            "L5.y                       -0.028997         0.030874           -0.939           0.348\n",
            "L6.RRP                      0.047893         0.073197            0.654           0.513\n",
            "L6.min_temperature         -0.010100         0.026517           -0.381           0.703\n",
            "L6.max_temperature         -0.024006         0.021482           -1.118           0.264\n",
            "L6.solar_exposure           0.007521         0.045812            0.164           0.870\n",
            "L6.rainfall                -0.104159         0.025642           -4.062           0.000\n",
            "L6.school_day               0.008355         0.015866            0.527           0.598\n",
            "L6.holiday                 -0.018915         0.011300           -1.674           0.094\n",
            "L6.y                        0.048518         0.030809            1.575           0.115\n",
            "L7.RRP                     -0.385778         0.073183           -5.271           0.000\n",
            "L7.min_temperature          0.050364         0.026455            1.904           0.057\n",
            "L7.max_temperature         -0.062274         0.021499           -2.897           0.004\n",
            "L7.solar_exposure          -0.034819         0.046677           -0.746           0.456\n",
            "L7.rainfall                 0.005883         0.025841            0.228           0.820\n",
            "L7.school_day               0.012743         0.015866            0.803           0.422\n",
            "L7.holiday                  0.055799         0.011310            4.934           0.000\n",
            "L7.y                        0.342841         0.030833           11.119           0.000\n",
            "L8.RRP                     -0.015377         0.074027           -0.208           0.835\n",
            "L8.min_temperature         -0.040234         0.026491           -1.519           0.129\n",
            "L8.max_temperature          0.025740         0.021528            1.196           0.232\n",
            "L8.solar_exposure           0.009914         0.047185            0.210           0.834\n",
            "L8.rainfall                -0.020009         0.025639           -0.780           0.435\n",
            "L8.school_day              -0.005854         0.015864           -0.369           0.712\n",
            "L8.holiday                 -0.037839         0.011342           -3.336           0.001\n",
            "L8.y                       -0.251172         0.031413           -7.996           0.000\n",
            "L9.RRP                      0.263236         0.073970            3.559           0.000\n",
            "L9.min_temperature          0.034544         0.026532            1.302           0.193\n",
            "L9.max_temperature          0.012216         0.021511            0.568           0.570\n",
            "L9.solar_exposure           0.090371         0.047133            1.917           0.055\n",
            "L9.rainfall                -0.025800         0.025484           -1.012           0.311\n",
            "L9.school_day              -0.002242         0.015863           -0.141           0.888\n",
            "L9.holiday                  0.002343         0.011349            0.206           0.836\n",
            "L9.y                        0.028212         0.030775            0.917           0.359\n",
            "L10.RRP                     0.116326         0.073975            1.573           0.116\n",
            "L10.min_temperature         0.018098         0.026519            0.682           0.495\n",
            "L10.max_temperature         0.000965         0.021505            0.045           0.964\n",
            "L10.solar_exposure          0.130285         0.046915            2.777           0.005\n",
            "L10.rainfall                0.044597         0.025505            1.749           0.080\n",
            "L10.school_day             -0.025729         0.015835           -1.625           0.104\n",
            "L10.holiday                 0.015691         0.011311            1.387           0.165\n",
            "L10.y                       0.017195         0.030717            0.560           0.576\n",
            "L11.RRP                    -0.176253         0.073875           -2.386           0.017\n",
            "L11.min_temperature        -0.000484         0.026537           -0.018           0.985\n",
            "L11.max_temperature        -0.007522         0.021499           -0.350           0.726\n",
            "L11.solar_exposure         -0.113125         0.046917           -2.411           0.016\n",
            "L11.rainfall               -0.040288         0.025623           -1.572           0.116\n",
            "L11.school_day              0.009435         0.015823            0.596           0.551\n",
            "L11.holiday                -0.007016         0.011283           -0.622           0.534\n",
            "L11.y                      -0.012275         0.030759           -0.399           0.690\n",
            "L12.RRP                    -0.002687         0.073895           -0.036           0.971\n",
            "L12.min_temperature         0.062901         0.026533            2.371           0.018\n",
            "L12.max_temperature        -0.003018         0.021498           -0.140           0.888\n",
            "L12.solar_exposure          0.066528         0.046939            1.417           0.156\n",
            "L12.rainfall               -0.028955         0.025655           -1.129           0.259\n",
            "L12.school_day              0.005722         0.015822            0.362           0.718\n",
            "L12.holiday                 0.010516         0.011264            0.934           0.350\n",
            "L12.y                      -0.033101         0.030821           -1.074           0.283\n",
            "L13.RRP                     0.147086         0.073868            1.991           0.046\n",
            "L13.min_temperature         0.035625         0.026544            1.342           0.180\n",
            "L13.max_temperature        -0.069534         0.021469           -3.239           0.001\n",
            "L13.solar_exposure         -0.021923         0.046939           -0.467           0.640\n",
            "L13.rainfall                0.002604         0.025679            0.101           0.919\n",
            "L13.school_day              0.013123         0.015820            0.830           0.407\n",
            "L13.holiday                 0.009936         0.011252            0.883           0.377\n",
            "L13.y                       0.047175         0.030694            1.537           0.124\n",
            "L14.RRP                    -0.058769         0.073543           -0.799           0.424\n",
            "L14.min_temperature        -0.009696         0.026466           -0.366           0.714\n",
            "L14.max_temperature        -0.059717         0.021545           -2.772           0.006\n",
            "L14.solar_exposure          0.019000         0.046893            0.405           0.685\n",
            "L14.rainfall               -0.007636         0.025379           -0.301           0.763\n",
            "L14.school_day             -0.008331         0.015794           -0.527           0.598\n",
            "L14.holiday                 0.048371         0.011158            4.335           0.000\n",
            "L14.y                       0.246317         0.029751            8.279           0.000\n",
            "L15.RRP                    -0.171081         0.071685           -2.387           0.017\n",
            "L15.min_temperature         0.018735         0.020838            0.899           0.369\n",
            "L15.max_temperature         0.012625         0.020326            0.621           0.535\n",
            "L15.solar_exposure          0.031009         0.044987            0.689           0.491\n",
            "L15.rainfall               -0.007799         0.024256           -0.322           0.748\n",
            "L15.school_day             -0.007669         0.011442           -0.670           0.503\n",
            "L15.holiday                -0.033956         0.010808           -3.142           0.002\n",
            "L15.y                      -0.179594         0.023399           -7.675           0.000\n",
            "======================================================================================\n",
            "\n",
            "Correlation matrix of residuals\n",
            "                        RRP  min_temperature  max_temperature  solar_exposure  rainfall  school_day   holiday         y\n",
            "RRP                1.000000         0.030200         0.135282       -0.052099 -0.037310    0.006818 -0.031498  0.260940\n",
            "min_temperature    0.030200         1.000000         0.235948        0.122291 -0.075654   -0.004412 -0.019945  0.108047\n",
            "max_temperature    0.135282         0.235948         1.000000       -0.147788 -0.226871    0.015915 -0.056630  0.267685\n",
            "solar_exposure    -0.052099         0.122291        -0.147788        1.000000  0.045821   -0.011545 -0.007239 -0.020037\n",
            "rainfall          -0.037310        -0.075654        -0.226871        0.045821  1.000000   -0.019369 -0.005875 -0.072347\n",
            "school_day         0.006818        -0.004412         0.015915       -0.011545 -0.019369    1.000000  0.007030  0.004112\n",
            "holiday           -0.031498        -0.019945        -0.056630       -0.007239 -0.005875    0.007030  1.000000 -0.295356\n",
            "y                  0.260940         0.108047         0.267685       -0.020037 -0.072347    0.004112 -0.295356  1.000000\n",
            "\n",
            "\n",
            "\n"
          ],
          "name": "stdout"
        }
      ]
    },
    {
      "cell_type": "code",
      "metadata": {
        "id": "A6WLdKtlewjC"
      },
      "source": [
        "lag = results.k_ar"
      ],
      "execution_count": null,
      "outputs": []
    },
    {
      "cell_type": "code",
      "metadata": {
        "id": "tfvYui5Ye0te"
      },
      "source": [
        "#Forecast \n",
        "forecast = results.forecast(train_data.values[-lag:], steps = 57)"
      ],
      "execution_count": null,
      "outputs": []
    },
    {
      "cell_type": "code",
      "metadata": {
        "id": "WkavYmeke2kd"
      },
      "source": [
        "forecast_demand = forecast[:,7]\n",
        "forecast_demand = forecast_demand.reshape(-1,1)"
      ],
      "execution_count": null,
      "outputs": []
    },
    {
      "cell_type": "code",
      "metadata": {
        "id": "xOHN_R8HfBM_"
      },
      "source": [
        "forecast_demand = ms_y.inverse_transform(forecast_demand)"
      ],
      "execution_count": null,
      "outputs": []
    },
    {
      "cell_type": "code",
      "metadata": {
        "colab": {
          "base_uri": "https://localhost:8080/",
          "height": 1000
        },
        "id": "yolvj8TFfpcv",
        "outputId": "3cbc15b3-3e17-4cd9-cd33-e9d57d892436"
      },
      "source": [
        "plt.plot(real_data, label = \"Actual data\")\n",
        "plt.plot(forecast_demand, label = \"Predicted data\")\n",
        "plt.legend(loc=\"upper left\")\n",
        "\n",
        "sns.set(rc={'figure.figsize':(30.7,20.27)})"
      ],
      "execution_count": null,
      "outputs": [
        {
          "output_type": "display_data",
          "data": {
            "image/png": "[encoded data removed]",
            "text/plain": [
              "<Figure size 2210.4x1459.44 with 1 Axes>"
            ]
          },
          "metadata": {
            "tags": []
          }
        }
      ]
    },
    {
      "cell_type": "code",
      "metadata": {
        "colab": {
          "base_uri": "https://localhost:8080/"
        },
        "id": "XbcMPhupf3OL",
        "outputId": "df470fe0-78d9-4c11-d78f-13aa5661dda5"
      },
      "source": [
        "mean_absolute_error(real_data, forecast_demand)"
      ],
      "execution_count": null,
      "outputs": [
        {
          "output_type": "execute_result",
          "data": {
            "text/plain": [
              "10716.26724197622"
            ]
          },
          "metadata": {
            "tags": []
          },
          "execution_count": 40
        }
      ]
    },
    {
      "cell_type": "code",
      "metadata": {
        "colab": {
          "base_uri": "https://localhost:8080/"
        },
        "id": "v5_K5rmZf9bg",
        "outputId": "3c3fc5cb-41bf-489f-e2f5-c1280f6c8595"
      },
      "source": [
        "math.sqrt(mean_squared_error(real_data, forecast_demand))"
      ],
      "execution_count": null,
      "outputs": [
        {
          "output_type": "execute_result",
          "data": {
            "text/plain": [
              "12658.560667552281"
            ]
          },
          "metadata": {
            "tags": []
          },
          "execution_count": 41
        }
      ]
    },
    {
      "cell_type": "code",
      "metadata": {
        "colab": {
          "base_uri": "https://localhost:8080/"
        },
        "id": "S3CbhTeLgDdD",
        "outputId": "a3042bf9-2558-4660-bfb9-a4f914e79ab7"
      },
      "source": [
        "mean_squared_error(real_data, forecast_demand)"
      ],
      "execution_count": null,
      "outputs": [
        {
          "output_type": "execute_result",
          "data": {
            "text/plain": [
              "160239158.17410165"
            ]
          },
          "metadata": {
            "tags": []
          },
          "execution_count": 42
        }
      ]
    },
    {
      "cell_type": "code",
      "metadata": {
        "colab": {
          "base_uri": "https://localhost:8080/"
        },
        "id": "4feg0WvCgKnC",
        "outputId": "aaea8c2a-2b94-4197-ae6e-1879b13f3369"
      },
      "source": [
        "r2_score(real_data, forecast_demand)"
      ],
      "execution_count": null,
      "outputs": [
        {
          "output_type": "execute_result",
          "data": {
            "text/plain": [
              "0.08627608853998481"
            ]
          },
          "metadata": {
            "tags": []
          },
          "execution_count": 43
        }
      ]
    },
    {
      "cell_type": "code",
      "metadata": {
        "colab": {
          "base_uri": "https://localhost:8080/"
        },
        "id": "d7m77O5GgOcp",
        "outputId": "7c363733-9a26-4866-9ad0-0c4129a65a80"
      },
      "source": [
        "mean_absolute_percentage_error(real_data, forecast_demand)"
      ],
      "execution_count": null,
      "outputs": [
        {
          "output_type": "execute_result",
          "data": {
            "text/plain": [
              "9.612650416032434"
            ]
          },
          "metadata": {
            "tags": []
          },
          "execution_count": 44
        }
      ]
    },
    {
      "cell_type": "markdown",
      "metadata": {
        "id": "fw25gYWqgUN4"
      },
      "source": [
        "#VARMA"
      ]
    },
    {
      "cell_type": "code",
      "metadata": {
        "id": "bBpGHT7igXC6"
      },
      "source": [
        "from statsmodels.tsa.statespace.varmax import VARMAX"
      ],
      "execution_count": null,
      "outputs": []
    },
    {
      "cell_type": "code",
      "metadata": {
        "colab": {
          "base_uri": "https://localhost:8080/"
        },
        "id": "Zow2lXnggiaM",
        "outputId": "2b628f67-9a6d-462f-8379-7ad6cf7e5ed5"
      },
      "source": [
        "varma = VARMAX(train_data, freq = 'D', order = (2,3))"
      ],
      "execution_count": null,
      "outputs": [
        {
          "output_type": "stream",
          "text": [
            "/usr/local/lib/python3.7/dist-packages/statsmodels/tsa/statespace/varmax.py:159: EstimationWarning:\n",
            "\n",
            "Estimation of VARMA(p,q) models is not generically robust, due especially to identification issues.\n",
            "\n"
          ],
          "name": "stderr"
        }
      ]
    },
    {
      "cell_type": "code",
      "metadata": {
        "colab": {
          "base_uri": "https://localhost:8080/"
        },
        "id": "rQa6bDOSgwa0",
        "outputId": "b0a6bb10-a574-489a-93cf-d00857ab7381"
      },
      "source": [
        "results = varma.fit(disp=False)"
      ],
      "execution_count": null,
      "outputs": [
        {
          "output_type": "stream",
          "text": [
            "/usr/local/lib/python3.7/dist-packages/statsmodels/base/model.py:512: ConvergenceWarning:\n",
            "\n",
            "Maximum Likelihood optimization failed to converge. Check mle_retvals\n",
            "\n"
          ],
          "name": "stderr"
        }
      ]
    },
    {
      "cell_type": "code",
      "metadata": {
        "colab": {
          "base_uri": "https://localhost:8080/"
        },
        "id": "7BVKWSoIjtsw",
        "outputId": "a179a14b-ce3d-4c13-f740-e46478f3aaf1"
      },
      "source": [
        "yhat = results.forecast(steps=len(test_data))"
      ],
      "execution_count": null,
      "outputs": [
        {
          "output_type": "stream",
          "text": [
            "/usr/local/lib/python3.7/dist-packages/statsmodels/tsa/statespace/varmax.py:159: EstimationWarning:\n",
            "\n",
            "Estimation of VARMA(p,q) models is not generically robust, due especially to identification issues.\n",
            "\n"
          ],
          "name": "stderr"
        }
      ]
    },
    {
      "cell_type": "code",
      "metadata": {
        "id": "cHzovPiOj1Zn"
      },
      "source": [
        "predicted_demand = yhat.iloc[:,7]\n",
        "predicted_demand = np.array(predicted_demand)\n",
        "predicted_demand = predicted_demand.reshape(-1,1)"
      ],
      "execution_count": null,
      "outputs": []
    },
    {
      "cell_type": "code",
      "metadata": {
        "id": "hs_PhBhaj3IU"
      },
      "source": [
        "forecast_demand = ms_y.inverse_transform(predicted_demand)"
      ],
      "execution_count": null,
      "outputs": []
    },
    {
      "cell_type": "code",
      "metadata": {
        "colab": {
          "base_uri": "https://localhost:8080/",
          "height": 1000
        },
        "id": "vpn1YLCBkaqJ",
        "outputId": "da80fd28-2bf4-4550-9928-42b28d45187d"
      },
      "source": [
        "plt.plot(real_data, label = \"Actual data\")\n",
        "plt.plot(forecast_demand, label = \"Predicted data\")\n",
        "plt.legend(loc=\"upper left\")\n",
        "\n",
        "sns.set(rc={'figure.figsize':(30.7,20.27)})"
      ],
      "execution_count": null,
      "outputs": [
        {
          "output_type": "display_data",
          "data": {
            "image/png": "[encoded data removed]",
            "text/plain": [
              "<Figure size 2210.4x1459.44 with 1 Axes>"
            ]
          },
          "metadata": {
            "tags": []
          }
        }
      ]
    },
    {
      "cell_type": "code",
      "metadata": {
        "colab": {
          "base_uri": "https://localhost:8080/"
        },
        "id": "jbLRXD8Rkiig",
        "outputId": "13a625c7-085f-4772-b7d3-f7386fb5f39d"
      },
      "source": [
        "mean_absolute_error(real_data, forecast_demand)"
      ],
      "execution_count": null,
      "outputs": [
        {
          "output_type": "execute_result",
          "data": {
            "text/plain": [
              "12654.523289109924"
            ]
          },
          "metadata": {
            "tags": []
          },
          "execution_count": 52
        }
      ]
    },
    {
      "cell_type": "code",
      "metadata": {
        "colab": {
          "base_uri": "https://localhost:8080/"
        },
        "id": "tgHvxdZ0uhX1",
        "outputId": "1562a723-8b90-40bb-e6b7-7ddac94d2165"
      },
      "source": [
        "math.sqrt(mean_squared_error(real_data, forecast_demand))"
      ],
      "execution_count": null,
      "outputs": [
        {
          "output_type": "execute_result",
          "data": {
            "text/plain": [
              "14763.117880890079"
            ]
          },
          "metadata": {
            "tags": []
          },
          "execution_count": 53
        }
      ]
    },
    {
      "cell_type": "code",
      "metadata": {
        "colab": {
          "base_uri": "https://localhost:8080/"
        },
        "id": "Xeoh1rQ1ul-H",
        "outputId": "daa2944f-982b-4bdb-b143-e27529d72479"
      },
      "source": [
        "mean_squared_error(real_data, forecast_demand)"
      ],
      "execution_count": null,
      "outputs": [
        {
          "output_type": "execute_result",
          "data": {
            "text/plain": [
              "217949649.56505635"
            ]
          },
          "metadata": {
            "tags": []
          },
          "execution_count": 54
        }
      ]
    },
    {
      "cell_type": "code",
      "metadata": {
        "colab": {
          "base_uri": "https://localhost:8080/"
        },
        "id": "XM7GZxFbuocv",
        "outputId": "bbb1b484-425c-4bfe-faa9-60392bfa1a6a"
      },
      "source": [
        "r2_score(real_data, forecast_demand)"
      ],
      "execution_count": null,
      "outputs": [
        {
          "output_type": "execute_result",
          "data": {
            "text/plain": [
              "-0.242803622854463"
            ]
          },
          "metadata": {
            "tags": []
          },
          "execution_count": 55
        }
      ]
    },
    {
      "cell_type": "code",
      "metadata": {
        "colab": {
          "base_uri": "https://localhost:8080/"
        },
        "id": "KTVnBlaKuo5K",
        "outputId": "1ff930b7-d308-48d6-b01b-dbde34e6bba5"
      },
      "source": [
        "mean_absolute_percentage_error(real_data, forecast_demand)"
      ],
      "execution_count": null,
      "outputs": [
        {
          "output_type": "execute_result",
          "data": {
            "text/plain": [
              "11.883048674054283"
            ]
          },
          "metadata": {
            "tags": []
          },
          "execution_count": 56
        }
      ]
    }
  ]
}