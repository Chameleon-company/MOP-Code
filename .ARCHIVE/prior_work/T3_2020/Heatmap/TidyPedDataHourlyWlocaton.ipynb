{
 "cells": [
  {
   "cell_type": "code",
   "execution_count": 1,
   "metadata": {},
   "outputs": [],
   "source": [
    "# Importing the required Libraries\n",
    "import pandas as pd\n",
    "import numpy as np\n",
    "from sodapy import Socrata"
   ]
  },
  {
   "cell_type": "code",
   "execution_count": 17,
   "metadata": {},
   "outputs": [],
   "source": [
    " sensor_data_df = pd.read_csv(\"tidyped.csv\")"
   ]
  },
  {
   "cell_type": "code",
   "execution_count": 18,
   "metadata": {},
   "outputs": [
    {
     "name": "stderr",
     "output_type": "stream",
     "text": [
      "WARNING:root:Requests made without an app_token will be subject to strict throttling limits.\n"
     ]
    }
   ],
   "source": [
    "client = Socrata(\"data.melbourne.vic.gov.au\", None)\n",
    "sensor_locations = client.get(\"h57g-5234\")\n",
    "sensor_locations_df = pd.DataFrame.from_records(sensor_locations)"
   ]
  },
  {
   "cell_type": "code",
   "execution_count": null,
   "metadata": {},
   "outputs": [],
   "source": [
    "# Extracting selected columns\n",
    "sensor_locations_df = sensor_locations_df[[\"sensor_id\", \"sensor_description\", \"latitude\", \"longitude\"]]\n",
    "sensor_locations_df.head()"
   ]
  },
  {
   "cell_type": "code",
   "execution_count": 24,
   "metadata": {},
   "outputs": [
    {
     "data": {
      "text/plain": [
       "sensor_id               int32\n",
       "sensor_description     object\n",
       "latitude              float64\n",
       "longitude             float64\n",
       "dtype: object"
      ]
     },
     "execution_count": 24,
     "metadata": {},
     "output_type": "execute_result"
    }
   ],
   "source": [
    "# Fixing the data types\n",
    "sensor_locations_df[\"sensor_id\"] = sensor_locations_df[\"sensor_id\"].astype(int)\n",
    "sensor_locations_df[\"latitude\"] = sensor_locations_df[\"latitude\"].astype(float)\n",
    "sensor_locations_df[\"longitude\"] = sensor_locations_df[\"longitude\"].astype(float)\n",
    "sensor_locations_df.dtypes"
   ]
  },
  {
   "cell_type": "code",
   "execution_count": 25,
   "metadata": {},
   "outputs": [],
   "source": [
    "# Sensor Location to CSV\n",
    "sensor_locations_df.to_csv(\"SensorLocations.csv\", index=False)"
   ]
  },
  {
   "cell_type": "code",
   "execution_count": 28,
   "metadata": {},
   "outputs": [],
   "source": [
    "# Including sensor location to the ped count dataset\n",
    "sensor_data_df = sensor_data_df.merge(sensor_locations_df, on='sensor_id', how='left')"
   ]
  },
  {
   "cell_type": "code",
   "execution_count": 29,
   "metadata": {},
   "outputs": [],
   "source": [
    "# Saving the dataset to CSV\n",
    "sensor_data_df.to_csv(\"TidyPedL.csv\", index=False)"
   ]
  },
  {
   "cell_type": "code",
   "execution_count": 30,
   "metadata": {},
   "outputs": [
    {
     "data": {
      "text/html": [
       "<div>\n",
       "<style scoped>\n",
       "    .dataframe tbody tr th:only-of-type {\n",
       "        vertical-align: middle;\n",
       "    }\n",
       "\n",
       "    .dataframe tbody tr th {\n",
       "        vertical-align: top;\n",
       "    }\n",
       "\n",
       "    .dataframe thead th {\n",
       "        text-align: right;\n",
       "    }\n",
       "</style>\n",
       "<table border=\"1\" class=\"dataframe\">\n",
       "  <thead>\n",
       "    <tr style=\"text-align: right;\">\n",
       "      <th></th>\n",
       "      <th>date_time</th>\n",
       "      <th>sensor_id</th>\n",
       "      <th>hourly_counts</th>\n",
       "      <th>sensor_description</th>\n",
       "      <th>latitude</th>\n",
       "      <th>longitude</th>\n",
       "    </tr>\n",
       "  </thead>\n",
       "  <tbody>\n",
       "    <tr>\n",
       "      <th>0</th>\n",
       "      <td>2019-11-01 17:00:00</td>\n",
       "      <td>34</td>\n",
       "      <td>300</td>\n",
       "      <td>Flinders St-Spark La</td>\n",
       "      <td>-37.815380</td>\n",
       "      <td>144.974151</td>\n",
       "    </tr>\n",
       "    <tr>\n",
       "      <th>1</th>\n",
       "      <td>2019-11-01 17:00:00</td>\n",
       "      <td>39</td>\n",
       "      <td>604</td>\n",
       "      <td>Alfred Place</td>\n",
       "      <td>-37.813797</td>\n",
       "      <td>144.969957</td>\n",
       "    </tr>\n",
       "    <tr>\n",
       "      <th>2</th>\n",
       "      <td>2019-11-01 17:00:00</td>\n",
       "      <td>37</td>\n",
       "      <td>216</td>\n",
       "      <td>Lygon St (East)</td>\n",
       "      <td>-37.803103</td>\n",
       "      <td>144.966715</td>\n",
       "    </tr>\n",
       "    <tr>\n",
       "      <th>3</th>\n",
       "      <td>2019-11-01 17:00:00</td>\n",
       "      <td>40</td>\n",
       "      <td>627</td>\n",
       "      <td>Lonsdale St-Spring St (West)</td>\n",
       "      <td>-37.809993</td>\n",
       "      <td>144.972276</td>\n",
       "    </tr>\n",
       "    <tr>\n",
       "      <th>4</th>\n",
       "      <td>2019-11-01 17:00:00</td>\n",
       "      <td>36</td>\n",
       "      <td>774</td>\n",
       "      <td>Queen St (West)</td>\n",
       "      <td>-37.816525</td>\n",
       "      <td>144.961211</td>\n",
       "    </tr>\n",
       "  </tbody>\n",
       "</table>\n",
       "</div>"
      ],
      "text/plain": [
       "             date_time  sensor_id  hourly_counts  \\\n",
       "0  2019-11-01 17:00:00         34            300   \n",
       "1  2019-11-01 17:00:00         39            604   \n",
       "2  2019-11-01 17:00:00         37            216   \n",
       "3  2019-11-01 17:00:00         40            627   \n",
       "4  2019-11-01 17:00:00         36            774   \n",
       "\n",
       "             sensor_description   latitude   longitude  \n",
       "0          Flinders St-Spark La -37.815380  144.974151  \n",
       "1                  Alfred Place -37.813797  144.969957  \n",
       "2               Lygon St (East) -37.803103  144.966715  \n",
       "3  Lonsdale St-Spring St (West) -37.809993  144.972276  \n",
       "4               Queen St (West) -37.816525  144.961211  "
      ]
     },
     "execution_count": 30,
     "metadata": {},
     "output_type": "execute_result"
    }
   ],
   "source": [
    "sensor_data_df.head()"
   ]
  }
 ],
 "metadata": {
  "kernelspec": {
   "display_name": "Python 3",
   "language": "python",
   "name": "python3"
  },
  "language_info": {
   "codemirror_mode": {
    "name": "ipython",
    "version": 3
   },
   "file_extension": ".py",
   "mimetype": "text/x-python",
   "name": "python",
   "nbconvert_exporter": "python",
   "pygments_lexer": "ipython3",
   "version": "3.8.3"
  }
 },
 "nbformat": 4,
 "nbformat_minor": 4
}
