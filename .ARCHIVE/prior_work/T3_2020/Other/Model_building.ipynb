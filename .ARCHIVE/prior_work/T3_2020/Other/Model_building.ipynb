{
  "nbformat": 4,
  "nbformat_minor": 0,
  "metadata": {
    "colab": {
      "name": "Pedestrian_Count_dataset.ipynb",
      "provenance": [],
      "collapsed_sections": []
    },
    "kernelspec": {
      "display_name": "Python 3",
      "name": "python3",
      "language": "python"
    }
  },
  "cells": [
    {
      "cell_type": "code",
      "metadata": {
        "colab": {
          "base_uri": "https://localhost:8080/"
        },
        "id": "uhXyz3430Vc9",
        "outputId": "80a81eea-7d46-4647-92ea-404c44557882"
      },
      "source": [
        "import pandas as pd\n",
        "df = pd.read_csv('dataset_with_public_holidays.csv')\n",
        "df"
      ],
      "execution_count": 131,
      "outputs": [
        {
          "output_type": "execute_result",
          "data": {
            "text/plain": [
              "            Date  day  monthly_index Covid Restrictions        Public_Holiday  \\\n",
              "0     01-01-2015    4              1     No restriction        Public Holiday   \n",
              "1     02-01-2015    5              1     No restriction  Not a public holiday   \n",
              "2     03-01-2015    6              1     No restriction  Not a public holiday   \n",
              "3     04-01-2015    7              1     No restriction  Not a public holiday   \n",
              "4     05-01-2015    1              1     No restriction  Not a public holiday   \n",
              "...          ...  ...            ...                ...                   ...   \n",
              "2127  27-10-2020    2             10       Restrictions  Not a public holiday   \n",
              "2128  28-10-2020    3             10       Restrictions  Not a public holiday   \n",
              "2129  29-10-2020    4             10       Restrictions  Not a public holiday   \n",
              "2130  30-10-2020    5             10       Restrictions  Not a public holiday   \n",
              "2131  31-10-2020    6             10       Restrictions  Not a public holiday   \n",
              "\n",
              "      Rainfall amount (millimetres)  Minimum temperature (Degree C)  \\\n",
              "0                               0.0                            13.3   \n",
              "1                               0.0                            15.4   \n",
              "2                               0.0                            20.0   \n",
              "3                               4.6                            16.3   \n",
              "4                               0.0                            15.0   \n",
              "...                             ...                             ...   \n",
              "2127                            0.0                            11.1   \n",
              "2128                            0.0                             9.5   \n",
              "2129                            0.0                            11.2   \n",
              "2130                            0.0                            12.9   \n",
              "2131                            0.0                            14.2   \n",
              "\n",
              "      Maximum temperature (Degree C)  Daily global solar exposure (MJ/m*m)  \\\n",
              "0                               26.9                                  23.6   \n",
              "1                               38.8                                  26.8   \n",
              "2                               38.2                                  26.5   \n",
              "3                               21.4                                  25.2   \n",
              "4                               22.0                                  30.7   \n",
              "...                              ...                                   ...   \n",
              "2127                            19.6                                  20.1   \n",
              "2128                            20.9                                  26.7   \n",
              "2129                            24.3                                  17.1   \n",
              "2130                            18.6                                  21.0   \n",
              "2131                            16.8                                  10.0   \n",
              "\n",
              "      Total_Pedestrian_Count_per_day  \n",
              "0                             471563  \n",
              "1                             389048  \n",
              "2                             291761  \n",
              "3                             382364  \n",
              "4                             487220  \n",
              "...                              ...  \n",
              "2127                          177267  \n",
              "2128                          311278  \n",
              "2129                          263334  \n",
              "2130                          313225  \n",
              "2131                          370181  \n",
              "\n",
              "[2132 rows x 10 columns]"
            ],
            "text/html": "<div>\n<style scoped>\n    .dataframe tbody tr th:only-of-type {\n        vertical-align: middle;\n    }\n\n    .dataframe tbody tr th {\n        vertical-align: top;\n    }\n\n    .dataframe thead th {\n        text-align: right;\n    }\n</style>\n<table border=\"1\" class=\"dataframe\">\n  <thead>\n    <tr style=\"text-align: right;\">\n      <th></th>\n      <th>Date</th>\n      <th>day</th>\n      <th>monthly_index</th>\n      <th>Covid Restrictions</th>\n      <th>Public_Holiday</th>\n      <th>Rainfall amount (millimetres)</th>\n      <th>Minimum temperature (Degree C)</th>\n      <th>Maximum temperature (Degree C)</th>\n      <th>Daily global solar exposure (MJ/m*m)</th>\n      <th>Total_Pedestrian_Count_per_day</th>\n    </tr>\n  </thead>\n  <tbody>\n    <tr>\n      <th>0</th>\n      <td>01-01-2015</td>\n      <td>4</td>\n      <td>1</td>\n      <td>No restriction</td>\n      <td>Public Holiday</td>\n      <td>0.0</td>\n      <td>13.3</td>\n      <td>26.9</td>\n      <td>23.6</td>\n      <td>471563</td>\n    </tr>\n    <tr>\n      <th>1</th>\n      <td>02-01-2015</td>\n      <td>5</td>\n      <td>1</td>\n      <td>No restriction</td>\n      <td>Not a public holiday</td>\n      <td>0.0</td>\n      <td>15.4</td>\n      <td>38.8</td>\n      <td>26.8</td>\n      <td>389048</td>\n    </tr>\n    <tr>\n      <th>2</th>\n      <td>03-01-2015</td>\n      <td>6</td>\n      <td>1</td>\n      <td>No restriction</td>\n      <td>Not a public holiday</td>\n      <td>0.0</td>\n      <td>20.0</td>\n      <td>38.2</td>\n      <td>26.5</td>\n      <td>291761</td>\n    </tr>\n    <tr>\n      <th>3</th>\n      <td>04-01-2015</td>\n      <td>7</td>\n      <td>1</td>\n      <td>No restriction</td>\n      <td>Not a public holiday</td>\n      <td>4.6</td>\n      <td>16.3</td>\n      <td>21.4</td>\n      <td>25.2</td>\n      <td>382364</td>\n    </tr>\n    <tr>\n      <th>4</th>\n      <td>05-01-2015</td>\n      <td>1</td>\n      <td>1</td>\n      <td>No restriction</td>\n      <td>Not a public holiday</td>\n      <td>0.0</td>\n      <td>15.0</td>\n      <td>22.0</td>\n      <td>30.7</td>\n      <td>487220</td>\n    </tr>\n    <tr>\n      <th>...</th>\n      <td>...</td>\n      <td>...</td>\n      <td>...</td>\n      <td>...</td>\n      <td>...</td>\n      <td>...</td>\n      <td>...</td>\n      <td>...</td>\n      <td>...</td>\n      <td>...</td>\n    </tr>\n    <tr>\n      <th>2127</th>\n      <td>27-10-2020</td>\n      <td>2</td>\n      <td>10</td>\n      <td>Restrictions</td>\n      <td>Not a public holiday</td>\n      <td>0.0</td>\n      <td>11.1</td>\n      <td>19.6</td>\n      <td>20.1</td>\n      <td>177267</td>\n    </tr>\n    <tr>\n      <th>2128</th>\n      <td>28-10-2020</td>\n      <td>3</td>\n      <td>10</td>\n      <td>Restrictions</td>\n      <td>Not a public holiday</td>\n      <td>0.0</td>\n      <td>9.5</td>\n      <td>20.9</td>\n      <td>26.7</td>\n      <td>311278</td>\n    </tr>\n    <tr>\n      <th>2129</th>\n      <td>29-10-2020</td>\n      <td>4</td>\n      <td>10</td>\n      <td>Restrictions</td>\n      <td>Not a public holiday</td>\n      <td>0.0</td>\n      <td>11.2</td>\n      <td>24.3</td>\n      <td>17.1</td>\n      <td>263334</td>\n    </tr>\n    <tr>\n      <th>2130</th>\n      <td>30-10-2020</td>\n      <td>5</td>\n      <td>10</td>\n      <td>Restrictions</td>\n      <td>Not a public holiday</td>\n      <td>0.0</td>\n      <td>12.9</td>\n      <td>18.6</td>\n      <td>21.0</td>\n      <td>313225</td>\n    </tr>\n    <tr>\n      <th>2131</th>\n      <td>31-10-2020</td>\n      <td>6</td>\n      <td>10</td>\n      <td>Restrictions</td>\n      <td>Not a public holiday</td>\n      <td>0.0</td>\n      <td>14.2</td>\n      <td>16.8</td>\n      <td>10.0</td>\n      <td>370181</td>\n    </tr>\n  </tbody>\n</table>\n<p>2132 rows × 10 columns</p>\n</div>"
          },
          "metadata": {},
          "execution_count": 131
        }
      ]
    },
    {
      "cell_type": "code",
      "execution_count": 132,
      "metadata": {},
      "outputs": [
        {
          "output_type": "execute_result",
          "data": {
            "text/plain": [
              "Date                                    datetime64[ns]\n",
              "day                                              int64\n",
              "monthly_index                                    int64\n",
              "Covid Restrictions                              object\n",
              "Public_Holiday                                  object\n",
              "Rainfall amount (millimetres)                  float64\n",
              "Minimum temperature (Degree C)                 float64\n",
              "Maximum temperature (Degree C)                 float64\n",
              "Daily global solar exposure (MJ/m*m)           float64\n",
              "Total_Pedestrian_Count_per_day                   int64\n",
              "dtype: object"
            ]
          },
          "metadata": {},
          "execution_count": 132
        }
      ],
      "source": [
        "df['Date'] = df['Date'].astype('datetime64[ns]')\n",
        "df['Date'] = df['Date'].dt.strftime('%d/%m/%Y') \n",
        "df['Date'] = df['Date'].astype('datetime64[ns]')\n",
        "df.dtypes"
      ]
    },
    {
      "cell_type": "code",
      "execution_count": 133,
      "metadata": {},
      "outputs": [],
      "source": [
        "df['year'] = df['Date'].dt.year\n",
        "df['day_of_year'] = df['Date'].dt.dayofyear\n",
        "df['day_of_week'] = df['day']\n",
        "df.drop(columns=['day'], inplace = True)\n",
        "df = df[['day_of_week', 'monthly_index', 'year', 'day_of_year', 'Covid Restrictions','Public_Holiday', 'Rainfall amount (millimetres)','Minimum temperature (Degree C)','Maximum temperature (Degree C)','Daily global solar exposure (MJ/m*m)', 'Total_Pedestrian_Count_per_day']]"
      ]
    },
    {
      "cell_type": "code",
      "execution_count": 134,
      "metadata": {},
      "outputs": [
        {
          "output_type": "execute_result",
          "data": {
            "text/plain": [
              "      day_of_week  monthly_index  year  day_of_year Covid Restrictions  \\\n",
              "0               4              1  2015            1     No restriction   \n",
              "1               5              1  2015            2     No restriction   \n",
              "2               6              1  2015            3     No restriction   \n",
              "3               7              1  2015            4     No restriction   \n",
              "4               1              1  2015            5     No restriction   \n",
              "...           ...            ...   ...          ...                ...   \n",
              "2127            2             10  2020          301       Restrictions   \n",
              "2128            3             10  2020          302       Restrictions   \n",
              "2129            4             10  2020          303       Restrictions   \n",
              "2130            5             10  2020          304       Restrictions   \n",
              "2131            6             10  2020          305       Restrictions   \n",
              "\n",
              "            Public_Holiday  Rainfall amount (millimetres)  \\\n",
              "0           Public Holiday                            0.0   \n",
              "1     Not a public holiday                            0.0   \n",
              "2     Not a public holiday                            0.0   \n",
              "3     Not a public holiday                            4.6   \n",
              "4     Not a public holiday                            0.0   \n",
              "...                    ...                            ...   \n",
              "2127  Not a public holiday                            0.0   \n",
              "2128  Not a public holiday                            0.0   \n",
              "2129  Not a public holiday                            0.0   \n",
              "2130  Not a public holiday                            0.0   \n",
              "2131  Not a public holiday                            0.0   \n",
              "\n",
              "      Minimum temperature (Degree C)  Maximum temperature (Degree C)  \\\n",
              "0                               13.3                            26.9   \n",
              "1                               15.4                            38.8   \n",
              "2                               20.0                            38.2   \n",
              "3                               16.3                            21.4   \n",
              "4                               15.0                            22.0   \n",
              "...                              ...                             ...   \n",
              "2127                            11.1                            19.6   \n",
              "2128                             9.5                            20.9   \n",
              "2129                            11.2                            24.3   \n",
              "2130                            12.9                            18.6   \n",
              "2131                            14.2                            16.8   \n",
              "\n",
              "      Daily global solar exposure (MJ/m*m)  Total_Pedestrian_Count_per_day  \n",
              "0                                     23.6                          471563  \n",
              "1                                     26.8                          389048  \n",
              "2                                     26.5                          291761  \n",
              "3                                     25.2                          382364  \n",
              "4                                     30.7                          487220  \n",
              "...                                    ...                             ...  \n",
              "2127                                  20.1                          177267  \n",
              "2128                                  26.7                          311278  \n",
              "2129                                  17.1                          263334  \n",
              "2130                                  21.0                          313225  \n",
              "2131                                  10.0                          370181  \n",
              "\n",
              "[2132 rows x 11 columns]"
            ],
            "text/html": "<div>\n<style scoped>\n    .dataframe tbody tr th:only-of-type {\n        vertical-align: middle;\n    }\n\n    .dataframe tbody tr th {\n        vertical-align: top;\n    }\n\n    .dataframe thead th {\n        text-align: right;\n    }\n</style>\n<table border=\"1\" class=\"dataframe\">\n  <thead>\n    <tr style=\"text-align: right;\">\n      <th></th>\n      <th>day_of_week</th>\n      <th>monthly_index</th>\n      <th>year</th>\n      <th>day_of_year</th>\n      <th>Covid Restrictions</th>\n      <th>Public_Holiday</th>\n      <th>Rainfall amount (millimetres)</th>\n      <th>Minimum temperature (Degree C)</th>\n      <th>Maximum temperature (Degree C)</th>\n      <th>Daily global solar exposure (MJ/m*m)</th>\n      <th>Total_Pedestrian_Count_per_day</th>\n    </tr>\n  </thead>\n  <tbody>\n    <tr>\n      <th>0</th>\n      <td>4</td>\n      <td>1</td>\n      <td>2015</td>\n      <td>1</td>\n      <td>No restriction</td>\n      <td>Public Holiday</td>\n      <td>0.0</td>\n      <td>13.3</td>\n      <td>26.9</td>\n      <td>23.6</td>\n      <td>471563</td>\n    </tr>\n    <tr>\n      <th>1</th>\n      <td>5</td>\n      <td>1</td>\n      <td>2015</td>\n      <td>2</td>\n      <td>No restriction</td>\n      <td>Not a public holiday</td>\n      <td>0.0</td>\n      <td>15.4</td>\n      <td>38.8</td>\n      <td>26.8</td>\n      <td>389048</td>\n    </tr>\n    <tr>\n      <th>2</th>\n      <td>6</td>\n      <td>1</td>\n      <td>2015</td>\n      <td>3</td>\n      <td>No restriction</td>\n      <td>Not a public holiday</td>\n      <td>0.0</td>\n      <td>20.0</td>\n      <td>38.2</td>\n      <td>26.5</td>\n      <td>291761</td>\n    </tr>\n    <tr>\n      <th>3</th>\n      <td>7</td>\n      <td>1</td>\n      <td>2015</td>\n      <td>4</td>\n      <td>No restriction</td>\n      <td>Not a public holiday</td>\n      <td>4.6</td>\n      <td>16.3</td>\n      <td>21.4</td>\n      <td>25.2</td>\n      <td>382364</td>\n    </tr>\n    <tr>\n      <th>4</th>\n      <td>1</td>\n      <td>1</td>\n      <td>2015</td>\n      <td>5</td>\n      <td>No restriction</td>\n      <td>Not a public holiday</td>\n      <td>0.0</td>\n      <td>15.0</td>\n      <td>22.0</td>\n      <td>30.7</td>\n      <td>487220</td>\n    </tr>\n    <tr>\n      <th>...</th>\n      <td>...</td>\n      <td>...</td>\n      <td>...</td>\n      <td>...</td>\n      <td>...</td>\n      <td>...</td>\n      <td>...</td>\n      <td>...</td>\n      <td>...</td>\n      <td>...</td>\n      <td>...</td>\n    </tr>\n    <tr>\n      <th>2127</th>\n      <td>2</td>\n      <td>10</td>\n      <td>2020</td>\n      <td>301</td>\n      <td>Restrictions</td>\n      <td>Not a public holiday</td>\n      <td>0.0</td>\n      <td>11.1</td>\n      <td>19.6</td>\n      <td>20.1</td>\n      <td>177267</td>\n    </tr>\n    <tr>\n      <th>2128</th>\n      <td>3</td>\n      <td>10</td>\n      <td>2020</td>\n      <td>302</td>\n      <td>Restrictions</td>\n      <td>Not a public holiday</td>\n      <td>0.0</td>\n      <td>9.5</td>\n      <td>20.9</td>\n      <td>26.7</td>\n      <td>311278</td>\n    </tr>\n    <tr>\n      <th>2129</th>\n      <td>4</td>\n      <td>10</td>\n      <td>2020</td>\n      <td>303</td>\n      <td>Restrictions</td>\n      <td>Not a public holiday</td>\n      <td>0.0</td>\n      <td>11.2</td>\n      <td>24.3</td>\n      <td>17.1</td>\n      <td>263334</td>\n    </tr>\n    <tr>\n      <th>2130</th>\n      <td>5</td>\n      <td>10</td>\n      <td>2020</td>\n      <td>304</td>\n      <td>Restrictions</td>\n      <td>Not a public holiday</td>\n      <td>0.0</td>\n      <td>12.9</td>\n      <td>18.6</td>\n      <td>21.0</td>\n      <td>313225</td>\n    </tr>\n    <tr>\n      <th>2131</th>\n      <td>6</td>\n      <td>10</td>\n      <td>2020</td>\n      <td>305</td>\n      <td>Restrictions</td>\n      <td>Not a public holiday</td>\n      <td>0.0</td>\n      <td>14.2</td>\n      <td>16.8</td>\n      <td>10.0</td>\n      <td>370181</td>\n    </tr>\n  </tbody>\n</table>\n<p>2132 rows × 11 columns</p>\n</div>"
          },
          "metadata": {},
          "execution_count": 134
        }
      ],
      "source": [
        "df"
      ]
    },
    {
      "cell_type": "code",
      "execution_count": 135,
      "metadata": {},
      "outputs": [
        {
          "output_type": "execute_result",
          "data": {
            "text/plain": [
              "      day_of_week  monthly_index  year  day_of_year Covid Restrictions  \\\n",
              "0               4              1  2015            1     No restriction   \n",
              "1               5              1  2015            2     No restriction   \n",
              "2               6              1  2015            3     No restriction   \n",
              "3               7              1  2015            4     No restriction   \n",
              "4               1              1  2015            5     No restriction   \n",
              "...           ...            ...   ...          ...                ...   \n",
              "2127            2             10  2020          301       Restrictions   \n",
              "2128            3             10  2020          302       Restrictions   \n",
              "2129            4             10  2020          303       Restrictions   \n",
              "2130            5             10  2020          304       Restrictions   \n",
              "2131            6             10  2020          305       Restrictions   \n",
              "\n",
              "            Public_Holiday  Rainfall amount (millimetres)  \\\n",
              "0           Public Holiday                            0.0   \n",
              "1     Not a public holiday                            0.0   \n",
              "2     Not a public holiday                            0.0   \n",
              "3     Not a public holiday                            4.6   \n",
              "4     Not a public holiday                            0.0   \n",
              "...                    ...                            ...   \n",
              "2127  Not a public holiday                            0.0   \n",
              "2128  Not a public holiday                            0.0   \n",
              "2129  Not a public holiday                            0.0   \n",
              "2130  Not a public holiday                            0.0   \n",
              "2131  Not a public holiday                            0.0   \n",
              "\n",
              "      Minimum temperature (Degree C)  Maximum temperature (Degree C)  \\\n",
              "0                               13.3                            26.9   \n",
              "1                               15.4                            38.8   \n",
              "2                               20.0                            38.2   \n",
              "3                               16.3                            21.4   \n",
              "4                               15.0                            22.0   \n",
              "...                              ...                             ...   \n",
              "2127                            11.1                            19.6   \n",
              "2128                             9.5                            20.9   \n",
              "2129                            11.2                            24.3   \n",
              "2130                            12.9                            18.6   \n",
              "2131                            14.2                            16.8   \n",
              "\n",
              "      Daily global solar exposure (MJ/m*m)  \n",
              "0                                     23.6  \n",
              "1                                     26.8  \n",
              "2                                     26.5  \n",
              "3                                     25.2  \n",
              "4                                     30.7  \n",
              "...                                    ...  \n",
              "2127                                  20.1  \n",
              "2128                                  26.7  \n",
              "2129                                  17.1  \n",
              "2130                                  21.0  \n",
              "2131                                  10.0  \n",
              "\n",
              "[2132 rows x 10 columns]"
            ],
            "text/html": "<div>\n<style scoped>\n    .dataframe tbody tr th:only-of-type {\n        vertical-align: middle;\n    }\n\n    .dataframe tbody tr th {\n        vertical-align: top;\n    }\n\n    .dataframe thead th {\n        text-align: right;\n    }\n</style>\n<table border=\"1\" class=\"dataframe\">\n  <thead>\n    <tr style=\"text-align: right;\">\n      <th></th>\n      <th>day_of_week</th>\n      <th>monthly_index</th>\n      <th>year</th>\n      <th>day_of_year</th>\n      <th>Covid Restrictions</th>\n      <th>Public_Holiday</th>\n      <th>Rainfall amount (millimetres)</th>\n      <th>Minimum temperature (Degree C)</th>\n      <th>Maximum temperature (Degree C)</th>\n      <th>Daily global solar exposure (MJ/m*m)</th>\n    </tr>\n  </thead>\n  <tbody>\n    <tr>\n      <th>0</th>\n      <td>4</td>\n      <td>1</td>\n      <td>2015</td>\n      <td>1</td>\n      <td>No restriction</td>\n      <td>Public Holiday</td>\n      <td>0.0</td>\n      <td>13.3</td>\n      <td>26.9</td>\n      <td>23.6</td>\n    </tr>\n    <tr>\n      <th>1</th>\n      <td>5</td>\n      <td>1</td>\n      <td>2015</td>\n      <td>2</td>\n      <td>No restriction</td>\n      <td>Not a public holiday</td>\n      <td>0.0</td>\n      <td>15.4</td>\n      <td>38.8</td>\n      <td>26.8</td>\n    </tr>\n    <tr>\n      <th>2</th>\n      <td>6</td>\n      <td>1</td>\n      <td>2015</td>\n      <td>3</td>\n      <td>No restriction</td>\n      <td>Not a public holiday</td>\n      <td>0.0</td>\n      <td>20.0</td>\n      <td>38.2</td>\n      <td>26.5</td>\n    </tr>\n    <tr>\n      <th>3</th>\n      <td>7</td>\n      <td>1</td>\n      <td>2015</td>\n      <td>4</td>\n      <td>No restriction</td>\n      <td>Not a public holiday</td>\n      <td>4.6</td>\n      <td>16.3</td>\n      <td>21.4</td>\n      <td>25.2</td>\n    </tr>\n    <tr>\n      <th>4</th>\n      <td>1</td>\n      <td>1</td>\n      <td>2015</td>\n      <td>5</td>\n      <td>No restriction</td>\n      <td>Not a public holiday</td>\n      <td>0.0</td>\n      <td>15.0</td>\n      <td>22.0</td>\n      <td>30.7</td>\n    </tr>\n    <tr>\n      <th>...</th>\n      <td>...</td>\n      <td>...</td>\n      <td>...</td>\n      <td>...</td>\n      <td>...</td>\n      <td>...</td>\n      <td>...</td>\n      <td>...</td>\n      <td>...</td>\n      <td>...</td>\n    </tr>\n    <tr>\n      <th>2127</th>\n      <td>2</td>\n      <td>10</td>\n      <td>2020</td>\n      <td>301</td>\n      <td>Restrictions</td>\n      <td>Not a public holiday</td>\n      <td>0.0</td>\n      <td>11.1</td>\n      <td>19.6</td>\n      <td>20.1</td>\n    </tr>\n    <tr>\n      <th>2128</th>\n      <td>3</td>\n      <td>10</td>\n      <td>2020</td>\n      <td>302</td>\n      <td>Restrictions</td>\n      <td>Not a public holiday</td>\n      <td>0.0</td>\n      <td>9.5</td>\n      <td>20.9</td>\n      <td>26.7</td>\n    </tr>\n    <tr>\n      <th>2129</th>\n      <td>4</td>\n      <td>10</td>\n      <td>2020</td>\n      <td>303</td>\n      <td>Restrictions</td>\n      <td>Not a public holiday</td>\n      <td>0.0</td>\n      <td>11.2</td>\n      <td>24.3</td>\n      <td>17.1</td>\n    </tr>\n    <tr>\n      <th>2130</th>\n      <td>5</td>\n      <td>10</td>\n      <td>2020</td>\n      <td>304</td>\n      <td>Restrictions</td>\n      <td>Not a public holiday</td>\n      <td>0.0</td>\n      <td>12.9</td>\n      <td>18.6</td>\n      <td>21.0</td>\n    </tr>\n    <tr>\n      <th>2131</th>\n      <td>6</td>\n      <td>10</td>\n      <td>2020</td>\n      <td>305</td>\n      <td>Restrictions</td>\n      <td>Not a public holiday</td>\n      <td>0.0</td>\n      <td>14.2</td>\n      <td>16.8</td>\n      <td>10.0</td>\n    </tr>\n  </tbody>\n</table>\n<p>2132 rows × 10 columns</p>\n</div>"
          },
          "metadata": {},
          "execution_count": 135
        }
      ],
      "source": [
        "X = df.iloc[:,0:-1]\n",
        "Y = df['Total_Pedestrian_Count_per_day']\n",
        "X = X.fillna(X.mean())\n",
        "X"
      ]
    },
    {
      "cell_type": "code",
      "metadata": {
        "id": "aCqhJ_1-utJd"
      },
      "source": [
        "rng = pd.date_range('2020-11-01', periods=61, freq='D')\n",
        "X_test = pd.DataFrame({ 'Date': rng}) \n",
        "X_test['Date'] = X_test['Date'].astype('datetime64[ns]')\n",
        "X_test"
      ],
      "execution_count": 136,
      "outputs": [
        {
          "output_type": "execute_result",
          "data": {
            "text/plain": [
              "         Date\n",
              "0  2020-11-01\n",
              "1  2020-11-02\n",
              "2  2020-11-03\n",
              "3  2020-11-04\n",
              "4  2020-11-05\n",
              "..        ...\n",
              "56 2020-12-27\n",
              "57 2020-12-28\n",
              "58 2020-12-29\n",
              "59 2020-12-30\n",
              "60 2020-12-31\n",
              "\n",
              "[61 rows x 1 columns]"
            ],
            "text/html": "<div>\n<style scoped>\n    .dataframe tbody tr th:only-of-type {\n        vertical-align: middle;\n    }\n\n    .dataframe tbody tr th {\n        vertical-align: top;\n    }\n\n    .dataframe thead th {\n        text-align: right;\n    }\n</style>\n<table border=\"1\" class=\"dataframe\">\n  <thead>\n    <tr style=\"text-align: right;\">\n      <th></th>\n      <th>Date</th>\n    </tr>\n  </thead>\n  <tbody>\n    <tr>\n      <th>0</th>\n      <td>2020-11-01</td>\n    </tr>\n    <tr>\n      <th>1</th>\n      <td>2020-11-02</td>\n    </tr>\n    <tr>\n      <th>2</th>\n      <td>2020-11-03</td>\n    </tr>\n    <tr>\n      <th>3</th>\n      <td>2020-11-04</td>\n    </tr>\n    <tr>\n      <th>4</th>\n      <td>2020-11-05</td>\n    </tr>\n    <tr>\n      <th>...</th>\n      <td>...</td>\n    </tr>\n    <tr>\n      <th>56</th>\n      <td>2020-12-27</td>\n    </tr>\n    <tr>\n      <th>57</th>\n      <td>2020-12-28</td>\n    </tr>\n    <tr>\n      <th>58</th>\n      <td>2020-12-29</td>\n    </tr>\n    <tr>\n      <th>59</th>\n      <td>2020-12-30</td>\n    </tr>\n    <tr>\n      <th>60</th>\n      <td>2020-12-31</td>\n    </tr>\n  </tbody>\n</table>\n<p>61 rows × 1 columns</p>\n</div>"
          },
          "metadata": {},
          "execution_count": 136
        }
      ]
    },
    {
      "cell_type": "code",
      "execution_count": 137,
      "metadata": {},
      "outputs": [
        {
          "output_type": "execute_result",
          "data": {
            "text/plain": [
              "         Date   Rainfall   Solar Exposure  Minimum temperature  \\\n",
              "0   01-11-2020        0.0            23.2                 12.6   \n",
              "1   02-11-2020        0.0            26.8                  9.6   \n",
              "2   03-11-2020        0.0            26.9                 12.1   \n",
              "3   04-11-2020        0.0             5.5                 21.9   \n",
              "4   05-11-2020        2.8            23.1                 11.1   \n",
              "..         ...        ...             ...                  ...   \n",
              "56  27-12-2020        0.0             3.3                 16.2   \n",
              "57  28-12-2020        3.2            26.5                 11.5   \n",
              "58  29-12-2020        0.0            30.7                  9.0   \n",
              "59  30-12-2020        0.0            30.3                 13.7   \n",
              "60  31-12-2020        0.0             7.3                 15.5   \n",
              "\n",
              "    Maximum Temperature  \n",
              "0                  17.0  \n",
              "1                  29.5  \n",
              "2                  30.4  \n",
              "3                  22.8  \n",
              "4                  15.8  \n",
              "..                  ...  \n",
              "56                 31.9  \n",
              "57                 17.8  \n",
              "58                 21.3  \n",
              "59                 21.4  \n",
              "60                 21.2  \n",
              "\n",
              "[61 rows x 5 columns]"
            ],
            "text/html": "<div>\n<style scoped>\n    .dataframe tbody tr th:only-of-type {\n        vertical-align: middle;\n    }\n\n    .dataframe tbody tr th {\n        vertical-align: top;\n    }\n\n    .dataframe thead th {\n        text-align: right;\n    }\n</style>\n<table border=\"1\" class=\"dataframe\">\n  <thead>\n    <tr style=\"text-align: right;\">\n      <th></th>\n      <th>Date</th>\n      <th>Rainfall</th>\n      <th>Solar Exposure</th>\n      <th>Minimum temperature</th>\n      <th>Maximum Temperature</th>\n    </tr>\n  </thead>\n  <tbody>\n    <tr>\n      <th>0</th>\n      <td>01-11-2020</td>\n      <td>0.0</td>\n      <td>23.2</td>\n      <td>12.6</td>\n      <td>17.0</td>\n    </tr>\n    <tr>\n      <th>1</th>\n      <td>02-11-2020</td>\n      <td>0.0</td>\n      <td>26.8</td>\n      <td>9.6</td>\n      <td>29.5</td>\n    </tr>\n    <tr>\n      <th>2</th>\n      <td>03-11-2020</td>\n      <td>0.0</td>\n      <td>26.9</td>\n      <td>12.1</td>\n      <td>30.4</td>\n    </tr>\n    <tr>\n      <th>3</th>\n      <td>04-11-2020</td>\n      <td>0.0</td>\n      <td>5.5</td>\n      <td>21.9</td>\n      <td>22.8</td>\n    </tr>\n    <tr>\n      <th>4</th>\n      <td>05-11-2020</td>\n      <td>2.8</td>\n      <td>23.1</td>\n      <td>11.1</td>\n      <td>15.8</td>\n    </tr>\n    <tr>\n      <th>...</th>\n      <td>...</td>\n      <td>...</td>\n      <td>...</td>\n      <td>...</td>\n      <td>...</td>\n    </tr>\n    <tr>\n      <th>56</th>\n      <td>27-12-2020</td>\n      <td>0.0</td>\n      <td>3.3</td>\n      <td>16.2</td>\n      <td>31.9</td>\n    </tr>\n    <tr>\n      <th>57</th>\n      <td>28-12-2020</td>\n      <td>3.2</td>\n      <td>26.5</td>\n      <td>11.5</td>\n      <td>17.8</td>\n    </tr>\n    <tr>\n      <th>58</th>\n      <td>29-12-2020</td>\n      <td>0.0</td>\n      <td>30.7</td>\n      <td>9.0</td>\n      <td>21.3</td>\n    </tr>\n    <tr>\n      <th>59</th>\n      <td>30-12-2020</td>\n      <td>0.0</td>\n      <td>30.3</td>\n      <td>13.7</td>\n      <td>21.4</td>\n    </tr>\n    <tr>\n      <th>60</th>\n      <td>31-12-2020</td>\n      <td>0.0</td>\n      <td>7.3</td>\n      <td>15.5</td>\n      <td>21.2</td>\n    </tr>\n  </tbody>\n</table>\n<p>61 rows × 5 columns</p>\n</div>"
          },
          "metadata": {},
          "execution_count": 137
        }
      ],
      "source": [
        "# Loading the weather test dataset \n",
        "test_dataset = pd.read_csv('Test_dataset_updated.csv') \n",
        "test_dataset"
      ]
    },
    {
      "cell_type": "code",
      "execution_count": 138,
      "metadata": {},
      "outputs": [
        {
          "output_type": "execute_result",
          "data": {
            "text/plain": [
              "                  Public_Holiday\n",
              "2020-11-01  Not a public holiday\n",
              "2020-11-02  Not a public holiday\n",
              "2020-11-03        Public Holiday\n",
              "2020-11-04  Not a public holiday\n",
              "2020-11-05  Not a public holiday\n",
              "...                          ...\n",
              "2020-12-27  Not a public holiday\n",
              "2020-12-28        Public Holiday\n",
              "2020-12-29  Not a public holiday\n",
              "2020-12-30  Not a public holiday\n",
              "2020-12-31  Not a public holiday\n",
              "\n",
              "[61 rows x 1 columns]"
            ],
            "text/html": "<div>\n<style scoped>\n    .dataframe tbody tr th:only-of-type {\n        vertical-align: middle;\n    }\n\n    .dataframe tbody tr th {\n        vertical-align: top;\n    }\n\n    .dataframe thead th {\n        text-align: right;\n    }\n</style>\n<table border=\"1\" class=\"dataframe\">\n  <thead>\n    <tr style=\"text-align: right;\">\n      <th></th>\n      <th>Public_Holiday</th>\n    </tr>\n  </thead>\n  <tbody>\n    <tr>\n      <th>2020-11-01</th>\n      <td>Not a public holiday</td>\n    </tr>\n    <tr>\n      <th>2020-11-02</th>\n      <td>Not a public holiday</td>\n    </tr>\n    <tr>\n      <th>2020-11-03</th>\n      <td>Public Holiday</td>\n    </tr>\n    <tr>\n      <th>2020-11-04</th>\n      <td>Not a public holiday</td>\n    </tr>\n    <tr>\n      <th>2020-11-05</th>\n      <td>Not a public holiday</td>\n    </tr>\n    <tr>\n      <th>...</th>\n      <td>...</td>\n    </tr>\n    <tr>\n      <th>2020-12-27</th>\n      <td>Not a public holiday</td>\n    </tr>\n    <tr>\n      <th>2020-12-28</th>\n      <td>Public Holiday</td>\n    </tr>\n    <tr>\n      <th>2020-12-29</th>\n      <td>Not a public holiday</td>\n    </tr>\n    <tr>\n      <th>2020-12-30</th>\n      <td>Not a public holiday</td>\n    </tr>\n    <tr>\n      <th>2020-12-31</th>\n      <td>Not a public holiday</td>\n    </tr>\n  </tbody>\n</table>\n<p>61 rows × 1 columns</p>\n</div>"
          },
          "metadata": {},
          "execution_count": 138
        }
      ],
      "source": [
        "public = pd.read_csv('Public_Holiday_test_set.csv')\n",
        "holidays = public[['Holiday']]\n",
        "holidays['Holiday'] = holidays['Holiday'].astype('datetime64[ns]')\n",
        "holidays['Public_Holiday'] = 'Public Holiday'\n",
        "\n",
        "X_test = X_test.set_index('Date').join(holidays.set_index(\"Holiday\"), how='left')\n",
        "X_test['Public_Holiday'].fillna('Not a public holiday', inplace=True)\n",
        "X_test"
      ]
    },
    {
      "cell_type": "code",
      "execution_count": 139,
      "metadata": {},
      "outputs": [
        {
          "output_type": "execute_result",
          "data": {
            "text/plain": [
              "                  Public_Holiday Covid Restrictions  day_of_week  \\\n",
              "2020-11-01  Not a public holiday     No restriction            7   \n",
              "2020-11-02  Not a public holiday     No restriction            1   \n",
              "2020-11-03        Public Holiday     No restriction            2   \n",
              "2020-11-04  Not a public holiday     No restriction            3   \n",
              "2020-11-05  Not a public holiday     No restriction            4   \n",
              "...                          ...                ...          ...   \n",
              "2020-12-27  Not a public holiday     No restriction            7   \n",
              "2020-12-28        Public Holiday     No restriction            1   \n",
              "2020-12-29  Not a public holiday     No restriction            2   \n",
              "2020-12-30  Not a public holiday     No restriction            3   \n",
              "2020-12-31  Not a public holiday     No restriction            4   \n",
              "\n",
              "            monthly_index  year  day_of_year  Rainfall amount (millimetres)  \\\n",
              "2020-11-01             11  2020          306                            0.0   \n",
              "2020-11-02             11  2020          307                            0.0   \n",
              "2020-11-03             11  2020          308                            0.0   \n",
              "2020-11-04             11  2020          309                            0.0   \n",
              "2020-11-05             11  2020          310                            2.8   \n",
              "...                   ...   ...          ...                            ...   \n",
              "2020-12-27             12  2020          362                            0.0   \n",
              "2020-12-28             12  2020          363                            3.2   \n",
              "2020-12-29             12  2020          364                            0.0   \n",
              "2020-12-30             12  2020          365                            0.0   \n",
              "2020-12-31             12  2020          366                            0.0   \n",
              "\n",
              "            Minimum temperature (Degree C)  Maximum temperature (Degree C)  \\\n",
              "2020-11-01                            12.6                            17.0   \n",
              "2020-11-02                             9.6                            29.5   \n",
              "2020-11-03                            12.1                            30.4   \n",
              "2020-11-04                            21.9                            22.8   \n",
              "2020-11-05                            11.1                            15.8   \n",
              "...                                    ...                             ...   \n",
              "2020-12-27                            16.2                            31.9   \n",
              "2020-12-28                            11.5                            17.8   \n",
              "2020-12-29                             9.0                            21.3   \n",
              "2020-12-30                            13.7                            21.4   \n",
              "2020-12-31                            15.5                            21.2   \n",
              "\n",
              "            Daily global solar exposure (MJ/m*m)  \n",
              "2020-11-01                                  23.2  \n",
              "2020-11-02                                  26.8  \n",
              "2020-11-03                                  26.9  \n",
              "2020-11-04                                   5.5  \n",
              "2020-11-05                                  23.1  \n",
              "...                                          ...  \n",
              "2020-12-27                                   3.3  \n",
              "2020-12-28                                  26.5  \n",
              "2020-12-29                                  30.7  \n",
              "2020-12-30                                  30.3  \n",
              "2020-12-31                                   7.3  \n",
              "\n",
              "[61 rows x 10 columns]"
            ],
            "text/html": "<div>\n<style scoped>\n    .dataframe tbody tr th:only-of-type {\n        vertical-align: middle;\n    }\n\n    .dataframe tbody tr th {\n        vertical-align: top;\n    }\n\n    .dataframe thead th {\n        text-align: right;\n    }\n</style>\n<table border=\"1\" class=\"dataframe\">\n  <thead>\n    <tr style=\"text-align: right;\">\n      <th></th>\n      <th>Public_Holiday</th>\n      <th>Covid Restrictions</th>\n      <th>day_of_week</th>\n      <th>monthly_index</th>\n      <th>year</th>\n      <th>day_of_year</th>\n      <th>Rainfall amount (millimetres)</th>\n      <th>Minimum temperature (Degree C)</th>\n      <th>Maximum temperature (Degree C)</th>\n      <th>Daily global solar exposure (MJ/m*m)</th>\n    </tr>\n  </thead>\n  <tbody>\n    <tr>\n      <th>2020-11-01</th>\n      <td>Not a public holiday</td>\n      <td>No restriction</td>\n      <td>7</td>\n      <td>11</td>\n      <td>2020</td>\n      <td>306</td>\n      <td>0.0</td>\n      <td>12.6</td>\n      <td>17.0</td>\n      <td>23.2</td>\n    </tr>\n    <tr>\n      <th>2020-11-02</th>\n      <td>Not a public holiday</td>\n      <td>No restriction</td>\n      <td>1</td>\n      <td>11</td>\n      <td>2020</td>\n      <td>307</td>\n      <td>0.0</td>\n      <td>9.6</td>\n      <td>29.5</td>\n      <td>26.8</td>\n    </tr>\n    <tr>\n      <th>2020-11-03</th>\n      <td>Public Holiday</td>\n      <td>No restriction</td>\n      <td>2</td>\n      <td>11</td>\n      <td>2020</td>\n      <td>308</td>\n      <td>0.0</td>\n      <td>12.1</td>\n      <td>30.4</td>\n      <td>26.9</td>\n    </tr>\n    <tr>\n      <th>2020-11-04</th>\n      <td>Not a public holiday</td>\n      <td>No restriction</td>\n      <td>3</td>\n      <td>11</td>\n      <td>2020</td>\n      <td>309</td>\n      <td>0.0</td>\n      <td>21.9</td>\n      <td>22.8</td>\n      <td>5.5</td>\n    </tr>\n    <tr>\n      <th>2020-11-05</th>\n      <td>Not a public holiday</td>\n      <td>No restriction</td>\n      <td>4</td>\n      <td>11</td>\n      <td>2020</td>\n      <td>310</td>\n      <td>2.8</td>\n      <td>11.1</td>\n      <td>15.8</td>\n      <td>23.1</td>\n    </tr>\n    <tr>\n      <th>...</th>\n      <td>...</td>\n      <td>...</td>\n      <td>...</td>\n      <td>...</td>\n      <td>...</td>\n      <td>...</td>\n      <td>...</td>\n      <td>...</td>\n      <td>...</td>\n      <td>...</td>\n    </tr>\n    <tr>\n      <th>2020-12-27</th>\n      <td>Not a public holiday</td>\n      <td>No restriction</td>\n      <td>7</td>\n      <td>12</td>\n      <td>2020</td>\n      <td>362</td>\n      <td>0.0</td>\n      <td>16.2</td>\n      <td>31.9</td>\n      <td>3.3</td>\n    </tr>\n    <tr>\n      <th>2020-12-28</th>\n      <td>Public Holiday</td>\n      <td>No restriction</td>\n      <td>1</td>\n      <td>12</td>\n      <td>2020</td>\n      <td>363</td>\n      <td>3.2</td>\n      <td>11.5</td>\n      <td>17.8</td>\n      <td>26.5</td>\n    </tr>\n    <tr>\n      <th>2020-12-29</th>\n      <td>Not a public holiday</td>\n      <td>No restriction</td>\n      <td>2</td>\n      <td>12</td>\n      <td>2020</td>\n      <td>364</td>\n      <td>0.0</td>\n      <td>9.0</td>\n      <td>21.3</td>\n      <td>30.7</td>\n    </tr>\n    <tr>\n      <th>2020-12-30</th>\n      <td>Not a public holiday</td>\n      <td>No restriction</td>\n      <td>3</td>\n      <td>12</td>\n      <td>2020</td>\n      <td>365</td>\n      <td>0.0</td>\n      <td>13.7</td>\n      <td>21.4</td>\n      <td>30.3</td>\n    </tr>\n    <tr>\n      <th>2020-12-31</th>\n      <td>Not a public holiday</td>\n      <td>No restriction</td>\n      <td>4</td>\n      <td>12</td>\n      <td>2020</td>\n      <td>366</td>\n      <td>0.0</td>\n      <td>15.5</td>\n      <td>21.2</td>\n      <td>7.3</td>\n    </tr>\n  </tbody>\n</table>\n<p>61 rows × 10 columns</p>\n</div>"
          },
          "metadata": {},
          "execution_count": 139
        }
      ],
      "source": [
        "X_test['Covid Restrictions'] = 'No restriction'\n",
        "\n",
        "X_test['day_of_week'] = X_test.index.dayofweek + 1\n",
        "X_test['monthly_index'] = X_test.index.month\n",
        "X_test['year'] = X_test.index.year\n",
        "X_test['day_of_year'] = X_test.index.dayofyear\n",
        "\n",
        "X_test['Rainfall amount (millimetres)'] = test_dataset['Rainfall '].values\n",
        "X_test['Minimum temperature (Degree C)'] = test_dataset['Minimum temperature'].values\n",
        "X_test['Maximum temperature (Degree C)'] = test_dataset['Maximum Temperature'].values\n",
        "X_test['Daily global solar exposure (MJ/m*m)'] = test_dataset['Solar Exposure'].values\n",
        "\n",
        "X_test"
      ]
    },
    {
      "cell_type": "code",
      "execution_count": 140,
      "metadata": {},
      "outputs": [
        {
          "output_type": "execute_result",
          "data": {
            "text/plain": [
              "            day_of_week  monthly_index  year  day_of_year  covid_code  \\\n",
              "2020-11-01            7             11  2020          306           0   \n",
              "2020-11-02            1             11  2020          307           0   \n",
              "2020-11-03            2             11  2020          308           0   \n",
              "2020-11-04            3             11  2020          309           0   \n",
              "2020-11-05            4             11  2020          310           0   \n",
              "...                 ...            ...   ...          ...         ...   \n",
              "2020-12-27            7             12  2020          362           0   \n",
              "2020-12-28            1             12  2020          363           0   \n",
              "2020-12-29            2             12  2020          364           0   \n",
              "2020-12-30            3             12  2020          365           0   \n",
              "2020-12-31            4             12  2020          366           0   \n",
              "\n",
              "            holiday_code  Rainfall amount (millimetres)  \\\n",
              "2020-11-01             0                            0.0   \n",
              "2020-11-02             0                            0.0   \n",
              "2020-11-03             1                            0.0   \n",
              "2020-11-04             0                            0.0   \n",
              "2020-11-05             0                            2.8   \n",
              "...                  ...                            ...   \n",
              "2020-12-27             0                            0.0   \n",
              "2020-12-28             1                            3.2   \n",
              "2020-12-29             0                            0.0   \n",
              "2020-12-30             0                            0.0   \n",
              "2020-12-31             0                            0.0   \n",
              "\n",
              "            Minimum temperature (Degree C)  Maximum temperature (Degree C)  \\\n",
              "2020-11-01                            12.6                            17.0   \n",
              "2020-11-02                             9.6                            29.5   \n",
              "2020-11-03                            12.1                            30.4   \n",
              "2020-11-04                            21.9                            22.8   \n",
              "2020-11-05                            11.1                            15.8   \n",
              "...                                    ...                             ...   \n",
              "2020-12-27                            16.2                            31.9   \n",
              "2020-12-28                            11.5                            17.8   \n",
              "2020-12-29                             9.0                            21.3   \n",
              "2020-12-30                            13.7                            21.4   \n",
              "2020-12-31                            15.5                            21.2   \n",
              "\n",
              "            Daily global solar exposure (MJ/m*m)  \n",
              "2020-11-01                                  23.2  \n",
              "2020-11-02                                  26.8  \n",
              "2020-11-03                                  26.9  \n",
              "2020-11-04                                   5.5  \n",
              "2020-11-05                                  23.1  \n",
              "...                                          ...  \n",
              "2020-12-27                                   3.3  \n",
              "2020-12-28                                  26.5  \n",
              "2020-12-29                                  30.7  \n",
              "2020-12-30                                  30.3  \n",
              "2020-12-31                                   7.3  \n",
              "\n",
              "[61 rows x 10 columns]"
            ],
            "text/html": "<div>\n<style scoped>\n    .dataframe tbody tr th:only-of-type {\n        vertical-align: middle;\n    }\n\n    .dataframe tbody tr th {\n        vertical-align: top;\n    }\n\n    .dataframe thead th {\n        text-align: right;\n    }\n</style>\n<table border=\"1\" class=\"dataframe\">\n  <thead>\n    <tr style=\"text-align: right;\">\n      <th></th>\n      <th>day_of_week</th>\n      <th>monthly_index</th>\n      <th>year</th>\n      <th>day_of_year</th>\n      <th>covid_code</th>\n      <th>holiday_code</th>\n      <th>Rainfall amount (millimetres)</th>\n      <th>Minimum temperature (Degree C)</th>\n      <th>Maximum temperature (Degree C)</th>\n      <th>Daily global solar exposure (MJ/m*m)</th>\n    </tr>\n  </thead>\n  <tbody>\n    <tr>\n      <th>2020-11-01</th>\n      <td>7</td>\n      <td>11</td>\n      <td>2020</td>\n      <td>306</td>\n      <td>0</td>\n      <td>0</td>\n      <td>0.0</td>\n      <td>12.6</td>\n      <td>17.0</td>\n      <td>23.2</td>\n    </tr>\n    <tr>\n      <th>2020-11-02</th>\n      <td>1</td>\n      <td>11</td>\n      <td>2020</td>\n      <td>307</td>\n      <td>0</td>\n      <td>0</td>\n      <td>0.0</td>\n      <td>9.6</td>\n      <td>29.5</td>\n      <td>26.8</td>\n    </tr>\n    <tr>\n      <th>2020-11-03</th>\n      <td>2</td>\n      <td>11</td>\n      <td>2020</td>\n      <td>308</td>\n      <td>0</td>\n      <td>1</td>\n      <td>0.0</td>\n      <td>12.1</td>\n      <td>30.4</td>\n      <td>26.9</td>\n    </tr>\n    <tr>\n      <th>2020-11-04</th>\n      <td>3</td>\n      <td>11</td>\n      <td>2020</td>\n      <td>309</td>\n      <td>0</td>\n      <td>0</td>\n      <td>0.0</td>\n      <td>21.9</td>\n      <td>22.8</td>\n      <td>5.5</td>\n    </tr>\n    <tr>\n      <th>2020-11-05</th>\n      <td>4</td>\n      <td>11</td>\n      <td>2020</td>\n      <td>310</td>\n      <td>0</td>\n      <td>0</td>\n      <td>2.8</td>\n      <td>11.1</td>\n      <td>15.8</td>\n      <td>23.1</td>\n    </tr>\n    <tr>\n      <th>...</th>\n      <td>...</td>\n      <td>...</td>\n      <td>...</td>\n      <td>...</td>\n      <td>...</td>\n      <td>...</td>\n      <td>...</td>\n      <td>...</td>\n      <td>...</td>\n      <td>...</td>\n    </tr>\n    <tr>\n      <th>2020-12-27</th>\n      <td>7</td>\n      <td>12</td>\n      <td>2020</td>\n      <td>362</td>\n      <td>0</td>\n      <td>0</td>\n      <td>0.0</td>\n      <td>16.2</td>\n      <td>31.9</td>\n      <td>3.3</td>\n    </tr>\n    <tr>\n      <th>2020-12-28</th>\n      <td>1</td>\n      <td>12</td>\n      <td>2020</td>\n      <td>363</td>\n      <td>0</td>\n      <td>1</td>\n      <td>3.2</td>\n      <td>11.5</td>\n      <td>17.8</td>\n      <td>26.5</td>\n    </tr>\n    <tr>\n      <th>2020-12-29</th>\n      <td>2</td>\n      <td>12</td>\n      <td>2020</td>\n      <td>364</td>\n      <td>0</td>\n      <td>0</td>\n      <td>0.0</td>\n      <td>9.0</td>\n      <td>21.3</td>\n      <td>30.7</td>\n    </tr>\n    <tr>\n      <th>2020-12-30</th>\n      <td>3</td>\n      <td>12</td>\n      <td>2020</td>\n      <td>365</td>\n      <td>0</td>\n      <td>0</td>\n      <td>0.0</td>\n      <td>13.7</td>\n      <td>21.4</td>\n      <td>30.3</td>\n    </tr>\n    <tr>\n      <th>2020-12-31</th>\n      <td>4</td>\n      <td>12</td>\n      <td>2020</td>\n      <td>366</td>\n      <td>0</td>\n      <td>0</td>\n      <td>0.0</td>\n      <td>15.5</td>\n      <td>21.2</td>\n      <td>7.3</td>\n    </tr>\n  </tbody>\n</table>\n<p>61 rows × 10 columns</p>\n</div>"
          },
          "metadata": {},
          "execution_count": 140
        }
      ],
      "source": [
        "X = X.fillna(X.mean())\n",
        "\n",
        "combined = pd.concat([X, X_test])\n",
        "combined['Public_Holiday'] = pd.Categorical(combined['Public_Holiday'])\n",
        "combined['holiday_code'] = combined['Public_Holiday'].cat.codes\n",
        "combined['Covid Restrictions'] = pd.Categorical(combined['Covid Restrictions'])\n",
        "combined['covid_code'] = combined['Covid Restrictions'].cat.codes\n",
        "combined.drop(columns=['Public_Holiday', 'Covid Restrictions'], inplace = True)\n",
        "\n",
        "combined = combined[['day_of_week', 'monthly_index', 'year', 'day_of_year', 'covid_code','holiday_code', 'Rainfall amount (millimetres)','Minimum temperature (Degree C)','Maximum temperature (Degree C)','Daily global solar exposure (MJ/m*m)']]\n",
        "\n",
        "X = combined[:len(X)]\n",
        "X_test = combined[len(X):]\n",
        "\n",
        "X_test"
      ]
    },
    {
      "cell_type": "code",
      "execution_count": 141,
      "metadata": {},
      "outputs": [
        {
          "output_type": "execute_result",
          "data": {
            "text/plain": [
              "      day_of_week  monthly_index  year  day_of_year  covid_code  holiday_code  \\\n",
              "0               4              1  2015            1           0             1   \n",
              "1               5              1  2015            2           0             0   \n",
              "2               6              1  2015            3           0             0   \n",
              "3               7              1  2015            4           0             0   \n",
              "4               1              1  2015            5           0             0   \n",
              "...           ...            ...   ...          ...         ...           ...   \n",
              "2127            2             10  2020          301           1             0   \n",
              "2128            3             10  2020          302           1             0   \n",
              "2129            4             10  2020          303           1             0   \n",
              "2130            5             10  2020          304           1             0   \n",
              "2131            6             10  2020          305           1             0   \n",
              "\n",
              "      Rainfall amount (millimetres)  Minimum temperature (Degree C)  \\\n",
              "0                               0.0                            13.3   \n",
              "1                               0.0                            15.4   \n",
              "2                               0.0                            20.0   \n",
              "3                               4.6                            16.3   \n",
              "4                               0.0                            15.0   \n",
              "...                             ...                             ...   \n",
              "2127                            0.0                            11.1   \n",
              "2128                            0.0                             9.5   \n",
              "2129                            0.0                            11.2   \n",
              "2130                            0.0                            12.9   \n",
              "2131                            0.0                            14.2   \n",
              "\n",
              "      Maximum temperature (Degree C)  Daily global solar exposure (MJ/m*m)  \n",
              "0                               26.9                                  23.6  \n",
              "1                               38.8                                  26.8  \n",
              "2                               38.2                                  26.5  \n",
              "3                               21.4                                  25.2  \n",
              "4                               22.0                                  30.7  \n",
              "...                              ...                                   ...  \n",
              "2127                            19.6                                  20.1  \n",
              "2128                            20.9                                  26.7  \n",
              "2129                            24.3                                  17.1  \n",
              "2130                            18.6                                  21.0  \n",
              "2131                            16.8                                  10.0  \n",
              "\n",
              "[2132 rows x 10 columns]"
            ],
            "text/html": "<div>\n<style scoped>\n    .dataframe tbody tr th:only-of-type {\n        vertical-align: middle;\n    }\n\n    .dataframe tbody tr th {\n        vertical-align: top;\n    }\n\n    .dataframe thead th {\n        text-align: right;\n    }\n</style>\n<table border=\"1\" class=\"dataframe\">\n  <thead>\n    <tr style=\"text-align: right;\">\n      <th></th>\n      <th>day_of_week</th>\n      <th>monthly_index</th>\n      <th>year</th>\n      <th>day_of_year</th>\n      <th>covid_code</th>\n      <th>holiday_code</th>\n      <th>Rainfall amount (millimetres)</th>\n      <th>Minimum temperature (Degree C)</th>\n      <th>Maximum temperature (Degree C)</th>\n      <th>Daily global solar exposure (MJ/m*m)</th>\n    </tr>\n  </thead>\n  <tbody>\n    <tr>\n      <th>0</th>\n      <td>4</td>\n      <td>1</td>\n      <td>2015</td>\n      <td>1</td>\n      <td>0</td>\n      <td>1</td>\n      <td>0.0</td>\n      <td>13.3</td>\n      <td>26.9</td>\n      <td>23.6</td>\n    </tr>\n    <tr>\n      <th>1</th>\n      <td>5</td>\n      <td>1</td>\n      <td>2015</td>\n      <td>2</td>\n      <td>0</td>\n      <td>0</td>\n      <td>0.0</td>\n      <td>15.4</td>\n      <td>38.8</td>\n      <td>26.8</td>\n    </tr>\n    <tr>\n      <th>2</th>\n      <td>6</td>\n      <td>1</td>\n      <td>2015</td>\n      <td>3</td>\n      <td>0</td>\n      <td>0</td>\n      <td>0.0</td>\n      <td>20.0</td>\n      <td>38.2</td>\n      <td>26.5</td>\n    </tr>\n    <tr>\n      <th>3</th>\n      <td>7</td>\n      <td>1</td>\n      <td>2015</td>\n      <td>4</td>\n      <td>0</td>\n      <td>0</td>\n      <td>4.6</td>\n      <td>16.3</td>\n      <td>21.4</td>\n      <td>25.2</td>\n    </tr>\n    <tr>\n      <th>4</th>\n      <td>1</td>\n      <td>1</td>\n      <td>2015</td>\n      <td>5</td>\n      <td>0</td>\n      <td>0</td>\n      <td>0.0</td>\n      <td>15.0</td>\n      <td>22.0</td>\n      <td>30.7</td>\n    </tr>\n    <tr>\n      <th>...</th>\n      <td>...</td>\n      <td>...</td>\n      <td>...</td>\n      <td>...</td>\n      <td>...</td>\n      <td>...</td>\n      <td>...</td>\n      <td>...</td>\n      <td>...</td>\n      <td>...</td>\n    </tr>\n    <tr>\n      <th>2127</th>\n      <td>2</td>\n      <td>10</td>\n      <td>2020</td>\n      <td>301</td>\n      <td>1</td>\n      <td>0</td>\n      <td>0.0</td>\n      <td>11.1</td>\n      <td>19.6</td>\n      <td>20.1</td>\n    </tr>\n    <tr>\n      <th>2128</th>\n      <td>3</td>\n      <td>10</td>\n      <td>2020</td>\n      <td>302</td>\n      <td>1</td>\n      <td>0</td>\n      <td>0.0</td>\n      <td>9.5</td>\n      <td>20.9</td>\n      <td>26.7</td>\n    </tr>\n    <tr>\n      <th>2129</th>\n      <td>4</td>\n      <td>10</td>\n      <td>2020</td>\n      <td>303</td>\n      <td>1</td>\n      <td>0</td>\n      <td>0.0</td>\n      <td>11.2</td>\n      <td>24.3</td>\n      <td>17.1</td>\n    </tr>\n    <tr>\n      <th>2130</th>\n      <td>5</td>\n      <td>10</td>\n      <td>2020</td>\n      <td>304</td>\n      <td>1</td>\n      <td>0</td>\n      <td>0.0</td>\n      <td>12.9</td>\n      <td>18.6</td>\n      <td>21.0</td>\n    </tr>\n    <tr>\n      <th>2131</th>\n      <td>6</td>\n      <td>10</td>\n      <td>2020</td>\n      <td>305</td>\n      <td>1</td>\n      <td>0</td>\n      <td>0.0</td>\n      <td>14.2</td>\n      <td>16.8</td>\n      <td>10.0</td>\n    </tr>\n  </tbody>\n</table>\n<p>2132 rows × 10 columns</p>\n</div>"
          },
          "metadata": {},
          "execution_count": 141
        }
      ],
      "source": [
        "X"
      ]
    },
    {
      "cell_type": "code",
      "execution_count": 142,
      "metadata": {},
      "outputs": [
        {
          "output_type": "execute_result",
          "data": {
            "text/plain": [
              "array([[-9.38637205e-04, -1.58631120e+00, -1.44730998e+00, ...,\n",
              "         4.02530227e-01,  1.03952738e+00,  1.11446043e+00],\n",
              "       [ 4.99354993e-01, -1.58631120e+00, -1.44730998e+00, ...,\n",
              "         8.91768855e-01,  2.94037146e+00,  1.51837475e+00],\n",
              "       [ 9.99648624e-01, -1.58631120e+00, -1.44730998e+00, ...,\n",
              "         1.96343442e+00,  2.84453058e+00,  1.48050778e+00],\n",
              "       ...,\n",
              "       [-9.38637205e-04,  1.06833203e+00,  1.53055614e+00, ...,\n",
              "        -8.67084006e-02,  6.24216911e-01,  2.94009485e-01],\n",
              "       [ 4.99354993e-01,  1.06833203e+00,  1.53055614e+00, ...,\n",
              "         3.09341917e-01, -2.86271427e-01,  7.86280055e-01],\n",
              "       [ 9.99648624e-01,  1.06833203e+00,  1.53055614e+00, ...,\n",
              "         6.12203925e-01, -5.73794061e-01, -6.02175399e-01]])"
            ]
          },
          "metadata": {},
          "execution_count": 142
        }
      ],
      "source": [
        "from sklearn.preprocessing import StandardScaler\n",
        "newscaler = StandardScaler()\n",
        "X_scaled = newscaler.fit_transform(X) \n",
        "X_test_scaled = newscaler.fit_transform(X_test) \n",
        "X_scaled"
      ]
    },
    {
      "cell_type": "code",
      "execution_count": 143,
      "metadata": {},
      "outputs": [
        {
          "output_type": "execute_result",
          "data": {
            "text/plain": [
              "      Unnamed: 0        date  Total_Pedestrian_Count_per_day\n",
              "0              0  2015-01-01                          471563\n",
              "1              1  2015-01-02                          389048\n",
              "2              2  2015-01-03                          291761\n",
              "3              3  2015-01-04                          382364\n",
              "4              4  2015-01-05                          487220\n",
              "...          ...         ...                             ...\n",
              "2187        2187  2020-12-27                          385422\n",
              "2188        2188  2020-12-28                          473046\n",
              "2189        2189  2020-12-29                          497027\n",
              "2190        2190  2020-12-30                          467634\n",
              "2191        2191  2020-12-31                          472586\n",
              "\n",
              "[2192 rows x 3 columns]"
            ],
            "text/html": "<div>\n<style scoped>\n    .dataframe tbody tr th:only-of-type {\n        vertical-align: middle;\n    }\n\n    .dataframe tbody tr th {\n        vertical-align: top;\n    }\n\n    .dataframe thead th {\n        text-align: right;\n    }\n</style>\n<table border=\"1\" class=\"dataframe\">\n  <thead>\n    <tr style=\"text-align: right;\">\n      <th></th>\n      <th>Unnamed: 0</th>\n      <th>date</th>\n      <th>Total_Pedestrian_Count_per_day</th>\n    </tr>\n  </thead>\n  <tbody>\n    <tr>\n      <th>0</th>\n      <td>0</td>\n      <td>2015-01-01</td>\n      <td>471563</td>\n    </tr>\n    <tr>\n      <th>1</th>\n      <td>1</td>\n      <td>2015-01-02</td>\n      <td>389048</td>\n    </tr>\n    <tr>\n      <th>2</th>\n      <td>2</td>\n      <td>2015-01-03</td>\n      <td>291761</td>\n    </tr>\n    <tr>\n      <th>3</th>\n      <td>3</td>\n      <td>2015-01-04</td>\n      <td>382364</td>\n    </tr>\n    <tr>\n      <th>4</th>\n      <td>4</td>\n      <td>2015-01-05</td>\n      <td>487220</td>\n    </tr>\n    <tr>\n      <th>...</th>\n      <td>...</td>\n      <td>...</td>\n      <td>...</td>\n    </tr>\n    <tr>\n      <th>2187</th>\n      <td>2187</td>\n      <td>2020-12-27</td>\n      <td>385422</td>\n    </tr>\n    <tr>\n      <th>2188</th>\n      <td>2188</td>\n      <td>2020-12-28</td>\n      <td>473046</td>\n    </tr>\n    <tr>\n      <th>2189</th>\n      <td>2189</td>\n      <td>2020-12-29</td>\n      <td>497027</td>\n    </tr>\n    <tr>\n      <th>2190</th>\n      <td>2190</td>\n      <td>2020-12-30</td>\n      <td>467634</td>\n    </tr>\n    <tr>\n      <th>2191</th>\n      <td>2191</td>\n      <td>2020-12-31</td>\n      <td>472586</td>\n    </tr>\n  </tbody>\n</table>\n<p>2192 rows × 3 columns</p>\n</div>"
          },
          "metadata": {},
          "execution_count": 143
        }
      ],
      "source": [
        "new_results_df_per_day = pd.read_csv('new_results_df_per_day.csv') \n",
        "new_results_df_per_day"
      ]
    },
    {
      "cell_type": "code",
      "metadata": {
        "colab": {
          "base_uri": "https://localhost:8080/"
        },
        "id": "_V_Z-ynAgQNg",
        "outputId": "489c73cd-1038-4346-fb87-69e63db39dcd"
      },
      "source": [
        "realY = new_results_df_per_day['Total_Pedestrian_Count_per_day'].iloc[-61:]"
      ],
      "execution_count": 144,
      "outputs": []
    },
    {
      "source": [
        "## KNN"
      ],
      "cell_type": "markdown",
      "metadata": {}
    },
    {
      "cell_type": "code",
      "execution_count": 145,
      "metadata": {
        "tags": []
      },
      "outputs": [],
      "source": [
        "\n",
        "from sklearn.neighbors import KNeighborsRegressor\n",
        "from sklearn.metrics import mean_squared_error\n",
        "scores = []\n",
        "neighbor = []\n",
        "leaf_size = []\n",
        "metric = []\n",
        "weight = []\n",
        "algorithm = []\n",
        "\n",
        "n_neighbors = [2,3,4,5,6,7,8,9]\n",
        "leaf_sizes = [10,20,30,50,100,500]\n",
        "metrics = ['euclidean','chebyshev','manhattan']\n",
        "weights = ['uniform', 'distance']\n",
        "algorithms = ['auto', 'ball_tree', 'kd_tree', 'brute'] \n",
        "\n",
        "for i in n_neighbors:\n",
        "  for j in leaf_sizes:\n",
        "    for k in metrics:\n",
        "      for l in weights:\n",
        "        for m in algorithms:\n",
        "          knn = KNeighborsRegressor(n_neighbors = i, leaf_size = j, metric = k, weights = l, algorithm = m)\n",
        "          knn.fit(X_scaled, Y)\n",
        "          scores.append(mean_squared_error(realY, knn.predict(X_test_scaled)))\n",
        "          neighbor.append(i)\n",
        "          leaf_size.append(j)\n",
        "          metric.append(k)\n",
        "          weight.append(l)\n",
        "          algorithm.append(m)"
      ]
    },
    {
      "cell_type": "code",
      "execution_count": 146,
      "metadata": {},
      "outputs": [
        {
          "output_type": "execute_result",
          "data": {
            "text/plain": [
              "[2, 10, 'chebyshev', 'uniform', 'brute']"
            ]
          },
          "metadata": {},
          "execution_count": 146
        }
      ],
      "source": [
        "min(scores)\n",
        "import numpy as np\n",
        "index = np.argmin(scores)\n",
        "parameters = [neighbor[index], leaf_size[index], metric[index], weight[index], algorithm[index]]\n",
        "parameters"
      ]
    },
    {
      "cell_type": "code",
      "execution_count": 147,
      "metadata": {},
      "outputs": [
        {
          "output_type": "stream",
          "name": "stdout",
          "text": [
            "[[339667.  469263. ]\n [335642.  679487. ]\n [286980.  588689. ]\n [190675.  629658. ]\n [246692.  580281. ]\n [288551.  604922.5]\n [365548.  427204.5]\n [321671.  768928.5]\n [262820.  625162.5]\n [264765.  698827.5]\n [224537.  613664. ]\n [287179.  667420. ]\n [330106.  569942.5]\n [436497.  588562. ]\n [300190.  652058. ]\n [257361.  636530.5]\n [287853.  699133.5]\n [313407.  581070.5]\n [300283.  730955. ]\n [397150.  584072. ]\n [489118.  692983. ]\n [309849.  706719. ]\n [261242.  552519. ]\n [316024.  611806. ]\n [340384.  827966.5]\n [353597.  771645.5]\n [456912.  675179.5]\n [481376.  540243. ]\n [358501.  537202.5]\n [351099.  632026.5]\n [316908.  660263. ]\n [366340.  722975.5]\n [392107.  753615. ]\n [493588.  882988. ]\n [489269.  564462.5]\n [404066.  517219.5]\n [311007.  661963. ]\n [376385.  526916.5]\n [448039.  702291.5]\n [438663.  752761.5]\n [543000.  702816. ]\n [595152.  706578.5]\n [439515.  634174. ]\n [366040.  682503.5]\n [378222.  722856.5]\n [463787.  687003. ]\n [460825.  750421. ]\n [572248.  607009.5]\n [599961.  557984. ]\n [539991.  586697.5]\n [464319.  646979. ]\n [403194.  577922.5]\n [578815.  717639. ]\n [505150.  764577.5]\n [332150.  642688. ]\n [578967.  642688. ]\n [385422.  615600. ]\n [473046.  413641. ]\n [497027.  691642.5]\n [467634.  789720.5]\n [472586.  657211.5]]\n"
          ]
        }
      ],
      "source": [
        "knn_min = KNeighborsRegressor(n_neighbors = 2, leaf_size = 10, metric = 'chebyshev', weights = 'uniform', algorithm = 'brute')\n",
        "knn_min.fit(X_scaled, Y)\n",
        "Y_pred_knn = knn_min.predict(X_test_scaled)\n",
        "print(\n",
        "    np.concatenate((\n",
        "        realY.values.reshape(len(realY),1), \n",
        "        Y_pred_knn.reshape(len(Y_pred_knn),1)\n",
        "),1))"
      ]
    },
    {
      "source": [
        "SVM"
      ],
      "cell_type": "markdown",
      "metadata": {}
    },
    {
      "cell_type": "code",
      "execution_count": 148,
      "metadata": {},
      "outputs": [],
      "source": [
        "from sklearn.svm import SVR\n",
        "scores = []\n",
        "kernel = []\n",
        "gamma = []\n",
        "C = []\n",
        "degree = []\n",
        "\n",
        "kernels = ['linear', 'rbf']\n",
        "gammas = [0.1, 1, 10, 100]\n",
        "Cs = [0.1, 1, 10, 100]\n",
        "degrees = [0, 1, 2, 3, 4, 5, 6]\n",
        "\n",
        "\n",
        "for i in kernels:\n",
        "  for j in gammas:\n",
        "    for k in Cs:\n",
        "        for l in degrees: \n",
        "          svm = SVR(kernel=i, gamma=j, C=k, degree=l)\n",
        "          svm.fit(X_scaled, Y)\n",
        "          scores.append(mean_squared_error(realY, svm.predict(X_test_scaled)))\n",
        "          kernel.append(i)\n",
        "          gamma.append(j)\n",
        "          C.append(k)\n",
        "          degree.append(l)\n"
      ]
    },
    {
      "cell_type": "code",
      "execution_count": 149,
      "metadata": {},
      "outputs": [
        {
          "output_type": "execute_result",
          "data": {
            "text/plain": [
              "['linear', 0.1, 100, 0]"
            ]
          },
          "metadata": {},
          "execution_count": 149
        }
      ],
      "source": [
        "index = np.argmin(scores)\n",
        "parameters = [kernel[index], gamma[index], C[index], degree[index]]\n",
        "parameters"
      ]
    },
    {
      "cell_type": "code",
      "execution_count": 150,
      "metadata": {},
      "outputs": [
        {
          "output_type": "stream",
          "name": "stdout",
          "text": [
            "[[339667.         566100.40830694]\n [335642.         633712.94172779]\n [286980.         600858.57435085]\n [190675.         597116.22257799]\n [246692.         582549.88483834]\n [288551.         561183.04281537]\n [365548.         569546.63370892]\n [321671.         573414.82225401]\n [262820.         640486.13471149]\n [264765.         647425.53030809]\n [224537.         611713.27833882]\n [287179.         611296.12304045]\n [330106.         588524.90614448]\n [436497.         587435.23327529]\n [300190.         583910.74241437]\n [257361.         647215.69398683]\n [287853.         621766.94932068]\n [313407.         629816.90639758]\n [300283.         638940.88243879]\n [397150.         606075.68332703]\n [489118.         588732.44632648]\n [309849.         577471.30632303]\n [261242.         588254.51976976]\n [316024.         608471.22132558]\n [340384.         636479.32219806]\n [353597.         609511.91568975]\n [456912.         625817.93922126]\n [481376.         573838.55617099]\n [358501.         571994.50152803]\n [351099.         645322.60370219]\n [316908.         621955.36016856]\n [366340.         623034.81314318]\n [392107.         625739.37453127]\n [493588.         619057.66081719]\n [489269.         590790.82023689]\n [404066.         577937.87358788]\n [311007.         621752.53669208]\n [376385.         598936.36631065]\n [448039.         632260.26364324]\n [438663.         616069.64488357]\n [543000.         615019.40742794]\n [595152.         623986.22451851]\n [439515.         622600.68311537]\n [366040.         682364.36145066]\n [378222.         671903.34591873]\n [463787.         634054.32148638]\n [460825.         632851.80155917]\n [572248.         592421.80307647]\n [599961.         605685.11000677]\n [539991.         597810.47411786]\n [464319.         623036.58156241]\n [403194.         601477.75266955]\n [578815.         621719.33036631]\n [505150.         614100.14128402]\n [332150.         578394.91344631]\n [578967.         591930.80845577]\n [385422.         592149.88165755]\n [473046.         604304.61257845]\n [497027.         639308.61111417]\n [467634.         639858.50078115]\n [472586.         601236.81626468]]\n"
          ]
        }
      ],
      "source": [
        "svm_min = SVR(kernel='linear', gamma=0.1, C=100, degree=0)\n",
        "svm_min.fit(X_scaled, Y)\n",
        "Y_pred_svm = svm_min.predict(X_test_scaled)\n",
        "print(\n",
        "    np.concatenate((\n",
        "        realY.values.reshape(len(realY),1), \n",
        "        Y_pred_svm.reshape(len(Y_pred_svm),1)\n",
        "),1))"
      ]
    },
    {
      "cell_type": "code",
      "execution_count": 151,
      "metadata": {},
      "outputs": [],
      "source": [
        "from sklearn.tree import DecisionTreeRegressor\n",
        "scores\n",
        "# Decision Tree\n",
        "scores = []\n",
        "splitter = []\n",
        "criterion =  []\n",
        "max_depth = []\n",
        "max_feature = []\n",
        "min_samples_split = []\n",
        "\n",
        "splitters =['best','random']\n",
        "criterions = ['mse', 'friedman_mse', 'mae']\n",
        "max_depths = [1,2,3,4,5,10,20,30,40]\n",
        "max_features =['auto','sqrt','log2'] \n",
        "min_samples_splits = [2,3,4,5,10,20,30,40]\n",
        "\n",
        "for i in splitters:\n",
        "  for j in criterions:\n",
        "    for k in max_depths:\n",
        "      for l in max_features:\n",
        "        for m in min_samples_splits:\n",
        "            tree = DecisionTreeRegressor(splitter = i, criterion = j, max_depth = k, max_features = l, min_samples_split = m)\n",
        "            tree.fit(X_scaled, Y)\n",
        "            scores.append(mean_squared_error(realY, tree.predict(X_test_scaled)))\n",
        "\n",
        "            splitter.append(i)\n",
        "            criterion.append(j)\n",
        "            max_depth.append(k)\n",
        "            max_feature.append(l)\n",
        "            min_samples_split.append(m)"
      ]
    },
    {
      "cell_type": "code",
      "execution_count": 152,
      "metadata": {},
      "outputs": [
        {
          "output_type": "execute_result",
          "data": {
            "text/plain": [
              "['random', 'mae', 10, 'log2', 2]"
            ]
          },
          "metadata": {},
          "execution_count": 152
        }
      ],
      "source": [
        "index = np.argmin(scores)\n",
        "parameters = [splitter[index], criterion[index], max_depth[index], max_feature[index], min_samples_split[index]]\n",
        "parameters"
      ]
    },
    {
      "cell_type": "code",
      "execution_count": 164,
      "metadata": {},
      "outputs": [
        {
          "output_type": "stream",
          "name": "stdout",
          "text": [
            "[[339667.  514709. ]\n [335642.  614299. ]\n [286980.  614299. ]\n [190675.  457939. ]\n [246692.  614299. ]\n [288551.  614299. ]\n [365548.  547033.5]\n [321671.  514709. ]\n [262820.  776160. ]\n [264765.  776160. ]\n [224537.  457939. ]\n [287179.  776160. ]\n [330106.  874751. ]\n [436497.  547033.5]\n [300190.  514709. ]\n [257361.  776160. ]\n [287853.  776160. ]\n [313407.  776160. ]\n [300283.  776160. ]\n [397150.  874751. ]\n [489118.  589744. ]\n [309849.  514709. ]\n [261242.  690346.5]\n [316024.  776160. ]\n [340384.  776160. ]\n [353597.  776160. ]\n [456912.  874751. ]\n [481376.  589744. ]\n [358501.  457401. ]\n [351099.  776160. ]\n [316908.  690346.5]\n [366340.  776160. ]\n [392107.  776160. ]\n [493588.  874751. ]\n [489269.  580429. ]\n [404066.  506716.5]\n [311007.  776160. ]\n [376385.  690346.5]\n [448039.  776160. ]\n [438663.  776160. ]\n [543000.  874751. ]\n [595152.  580429. ]\n [439515.  506716.5]\n [366040.  776160. ]\n [378222.  776160. ]\n [463787.  776160. ]\n [460825.  776160. ]\n [572248.  874751. ]\n [599961.  580429. ]\n [539991.  506716.5]\n [464319.  556234. ]\n [403194.  542059. ]\n [578815.  720055. ]\n [505150.  720055. ]\n [332150.  596664. ]\n [578967.  707021.5]\n [385422.  607425. ]\n [473046.  596664. ]\n [497027.  596664. ]\n [467634.  596664. ]\n [472586.  808204. ]]\n"
          ]
        }
      ],
      "source": [
        "tree_min = DecisionTreeRegressor(splitter = 'random', criterion = 'mae', max_depth = 10, max_features = 'log2', min_samples_split = 2)\n",
        "tree_min.fit(X_scaled, Y)\n",
        "Y_pred_tree = tree_min.predict(X_test_scaled)\n",
        "print(\n",
        "    np.concatenate((\n",
        "        realY.values.reshape(len(realY),1), \n",
        "        Y_pred_tree.reshape(len(Y_pred_tree),1)\n",
        "),1))"
      ]
    },
    {
      "cell_type": "code",
      "execution_count": 154,
      "metadata": {},
      "outputs": [],
      "source": [
        "from sklearn.ensemble import RandomForestRegressor\n",
        "# Random forest\n",
        "scores = []\n",
        "n_estimator = []\n",
        "criterion =  []\n",
        "max_depth = []\n",
        "max_feature = []\n",
        "min_samples_split = []\n",
        "\n",
        "\n",
        "criterions = ['mse', 'friedman_mse']\n",
        "max_depths = [10,20,30,40]\n",
        "max_features =['auto','sqrt','log2'] \n",
        "min_samples_splits = [10,20,30,40]\n",
        "n_estimators =[10,50,100]\n",
        "\n",
        "\n",
        "for i in n_estimators:\n",
        "  for j in criterions:\n",
        "    for k in max_depths:\n",
        "      for l in max_features:\n",
        "        for m in min_samples_splits:\n",
        "            rf = RandomForestRegressor(n_estimators = i, criterion = j, max_depth = k, max_features = l, min_samples_split = m)\n",
        "            rf.fit(X_scaled, Y)\n",
        "            scores.append(mean_squared_error(realY, rf.predict(X_test_scaled)))\n",
        "\n",
        "            n_estimator.append(i)\n",
        "            criterion.append(j)\n",
        "            max_depth.append(k)\n",
        "            max_feature.append(l)\n",
        "            min_samples_split.append(m)"
      ]
    },
    {
      "cell_type": "code",
      "execution_count": 155,
      "metadata": {},
      "outputs": [
        {
          "output_type": "execute_result",
          "data": {
            "text/plain": [
              "[10, 'friedman_mse', 20, 'auto', 30]"
            ]
          },
          "metadata": {},
          "execution_count": 155
        }
      ],
      "source": [
        "index = np.argmin(scores)\n",
        "parameters = [n_estimator[index], criterion[index], max_depth[index], max_feature[index], min_samples_split[index]]\n",
        "parameters"
      ]
    },
    {
      "cell_type": "code",
      "execution_count": 163,
      "metadata": {},
      "outputs": [
        {
          "output_type": "stream",
          "name": "stdout",
          "text": [
            "[[339667.         454263.65005793]\n [335642.         511068.28484606]\n [286980.         526702.10083052]\n [190675.         560513.81832011]\n [246692.         575543.18338942]\n [288551.         620547.23542622]\n [365548.         568008.86854507]\n [321671.         560304.13387267]\n [262820.         594607.17629777]\n [264765.         606143.94600056]\n [224537.         577279.8593735 ]\n [287179.         603925.12937081]\n [330106.         674579.5876025 ]\n [436497.         568899.01634787]\n [300190.         459714.29275862]\n [257361.         612777.94480421]\n [287853.         638628.43289161]\n [313407.         634350.42940633]\n [300283.         628563.17556018]\n [397150.         695657.76790204]\n [489118.         574173.00552924]\n [309849.         376168.20246753]\n [261242.         529427.61073115]\n [316024.         562311.46647007]\n [340384.         634350.42940633]\n [353597.         611200.77978563]\n [456912.         717792.81095623]\n [481376.         533066.91649745]\n [358501.         470929.02713489]\n [351099.         607164.06099345]\n [316908.         544144.74743381]\n [366340.         604313.03269006]\n [392107.         638009.60056018]\n [493588.         699128.113714  ]\n [489269.         529587.73299405]\n [404066.         474881.0240148 ]\n [311007.         571666.10285928]\n [376385.         550304.36129039]\n [448039.         615422.02500377]\n [438663.         603827.43563124]\n [543000.         699128.113714  ]\n [595152.         578914.37344377]\n [439515.         535459.7381174 ]\n [366040.         618532.73457142]\n [378222.         649956.54752688]\n [463787.         669239.02847409]\n [460825.         681577.35613532]\n [572248.         697524.31787342]\n [599961.         605529.53115464]\n [539991.         546497.90053934]\n [464319.         561844.16251835]\n [403194.         556818.24029612]\n [578815.         665137.66470473]\n [505150.         676890.53794818]\n [332150.         672882.38445714]\n [578967.         662026.19708213]\n [385422.         371121.44246753]\n [473046.         661992.59776923]\n [497027.         712457.829547  ]\n [467634.         719227.15309101]\n [472586.         663004.67395289]]\n"
          ]
        }
      ],
      "source": [
        "rf_min = RandomForestRegressor(n_estimators = 10, criterion = 'friedman_mse', max_depth = 20, max_features = 'auto', min_samples_split = 30)\n",
        "rf_min.fit(X_scaled, Y)\n",
        "Y_pred_rf = rf_min.predict(X_test_scaled)\n",
        "print(\n",
        "    np.concatenate((\n",
        "        realY.values.reshape(len(realY),1), \n",
        "        Y_pred_rf.reshape(len(Y_pred_rf),1)\n",
        "),1))"
      ]
    },
    {
      "cell_type": "code",
      "execution_count": 157,
      "metadata": {},
      "outputs": [
        {
          "output_type": "stream",
          "name": "stdout",
          "text": [
            "(1, 1, 1) tanh\n",
            "(1, 1, 1) relu\n",
            "(1, 1, 1) logistic\n",
            "(2, 2, 2) tanh\n",
            "(2, 2, 2) relu\n",
            "(2, 2, 2) logistic\n",
            "(3, 3, 3) tanh\n",
            "(3, 3, 3) relu\n",
            "(3, 3, 3) logistic\n",
            "(4, 4, 4) tanh\n",
            "(4, 4, 4) relu\n",
            "(4, 4, 4) logistic\n",
            "(5, 5, 5) tanh\n",
            "(5, 5, 5) relu\n",
            "(5, 5, 5) logistic\n"
          ]
        }
      ],
      "source": [
        "from sklearn.neural_network import MLPRegressor\n",
        "\n",
        "scores = []\n",
        "hidden_layer_size = []\n",
        "solver = []\n",
        "activation = []\n",
        "alpha = []\n",
        "learning_rate = []\n",
        "\n",
        "hidden_layer_sizes = []\n",
        "for i in range(1,6):\n",
        "  hidden_layer_sizes.append(((i,i,i)))\n",
        "activations = ['tanh', 'relu', 'logistic']\n",
        "solvers = ['lbfgs', 'sgd', 'adam']\n",
        "alphas = [0.0001, 0.05, 0.01, .001]\n",
        "learning_rates = ['constant','adaptive', 'invscaling']\n",
        "\n",
        "for i in hidden_layer_sizes:\n",
        "  for j in activations:\n",
        "    print(i, j)\n",
        "    for k in solvers:\n",
        "      for l in alphas:\n",
        "        for m in learning_rates:\n",
        "          nn = MLPRegressor(hidden_layer_sizes = i, activation = j, solver = k, alpha = l, learning_rate = m)\n",
        "          nn.fit(X_scaled, Y)\n",
        "          scores.append(mean_squared_error(realY, nn.predict(X_test_scaled)))\n",
        "\n",
        "          hidden_layer_size.append(i)\n",
        "          activation.append(j)\n",
        "          solver.append(k)\n",
        "          alpha.append(l)\n",
        "          learning_rate.append(m)"
      ]
    },
    {
      "cell_type": "code",
      "execution_count": 158,
      "metadata": {},
      "outputs": [
        {
          "output_type": "execute_result",
          "data": {
            "text/plain": [
              "[(5, 5, 5), 'logistic', 'sgd', 0.001, 'invscaling']"
            ]
          },
          "metadata": {},
          "execution_count": 158
        }
      ],
      "source": [
        "index = np.argmin(scores)\n",
        "parameters = [hidden_layer_size[index], activation[index], solver[index], alpha[index], learning_rate[index]]\n",
        "parameters"
      ]
    },
    {
      "cell_type": "code",
      "execution_count": 162,
      "metadata": {},
      "outputs": [
        {
          "output_type": "stream",
          "name": "stdout",
          "text": [
            "[[339667.         255137.24933585]\n [335642.         255137.24933585]\n [286980.         255137.24933585]\n [190675.         255137.24933585]\n [246692.         255137.24933585]\n [288551.         255137.24933585]\n [365548.         255137.24933585]\n [321671.         255137.24933585]\n [262820.         255137.24933585]\n [264765.         255137.24933585]\n [224537.         255137.24933585]\n [287179.         255137.24933585]\n [330106.         255137.24933585]\n [436497.         255137.24933585]\n [300190.         255137.24933585]\n [257361.         255137.24933585]\n [287853.         255137.24933585]\n [313407.         255137.24933585]\n [300283.         255137.24933585]\n [397150.         255137.24933585]\n [489118.         255137.24933585]\n [309849.         255137.24933585]\n [261242.         255137.24933585]\n [316024.         255137.24933585]\n [340384.         255137.24933585]\n [353597.         255137.24933585]\n [456912.         255137.24933585]\n [481376.         255137.24933585]\n [358501.         255137.24933585]\n [351099.         255137.24933585]\n [316908.         255137.24933585]\n [366340.         255137.24933585]\n [392107.         255137.24933585]\n [493588.         255137.24933585]\n [489269.         255137.24933585]\n [404066.         255137.24933585]\n [311007.         255137.24933585]\n [376385.         255137.24933585]\n [448039.         255137.24933585]\n [438663.         255137.24933585]\n [543000.         255137.24933585]\n [595152.         255137.24933585]\n [439515.         255137.24933585]\n [366040.         255137.24933585]\n [378222.         255137.24933585]\n [463787.         255137.24933585]\n [460825.         255137.24933585]\n [572248.         255137.24933585]\n [599961.         255137.24933585]\n [539991.         255137.24933585]\n [464319.         255137.24933585]\n [403194.         255137.24933585]\n [578815.         255137.24933585]\n [505150.         255137.24933585]\n [332150.         255137.24933585]\n [578967.         255137.24933585]\n [385422.         255137.24933585]\n [473046.         255137.24933585]\n [497027.         255137.24933585]\n [467634.         255137.24933585]\n [472586.         255137.24933585]]\n"
          ]
        }
      ],
      "source": [
        "nn_min = MLPRegressor(hidden_layer_sizes = (5,5,5), activation = 'logistic', solver = 'sgd', alpha = 0.001, learning_rate = 'invscaling')\n",
        "nn_min.fit(X_scaled, Y)\n",
        "Y_pred_nn = nn_min.predict(X_test_scaled)\n",
        "print(\n",
        "    np.concatenate((\n",
        "        realY.values.reshape(len(realY),1), \n",
        "        Y_pred_nn.reshape(len(Y_pred_nn),1)\n",
        "),1))"
      ]
    },
    {
      "cell_type": "code",
      "execution_count": 165,
      "metadata": {},
      "outputs": [
        {
          "output_type": "stream",
          "name": "stdout",
          "text": [
            "+---------------+-------+\n| Algorithm     |   r2  |\n+---------------+-------+\n| KNN           | -7.06 |\n| SVR           | -4.77 |\n| Decision Tree | -9.39 |\n| Random Forest | -4.16 |\n| MLP           | -1.85 |\n+---------------+-------+\n"
          ]
        }
      ],
      "source": [
        "from prettytable import PrettyTable\n",
        "from sklearn.metrics import r2_score\n",
        "rt = PrettyTable([\"Algorithm\", \"r2\"])\n",
        "rt.align[\"Algorithm\"] = \"l\" # Left align city names\n",
        "rt.padding_width = 1 # One space between column edges and contents (default)\n",
        "rt.add_row([\"KNN\",\n",
        "            '{:.2f}'.format(r2_score(realY, Y_pred_knn))])\n",
        "rt.add_row([\"SVR\",\n",
        "            '{:.2f}'.format(r2_score(realY, Y_pred_svm))])\n",
        "rt.add_row([\"Decision Tree\",\n",
        "            '{:.2f}'.format(r2_score(realY, Y_pred_tree))])\n",
        "rt.add_row([\"Random Forest\",\n",
        "            '{:.2f}'.format(r2_score(realY, Y_pred_rf))])\n",
        "rt.add_row([\"MLP\",\n",
        "            '{:.2f}'.format(r2_score(realY, Y_pred_nn))])\n",
        "print(rt)"
      ]
    },
    {
      "cell_type": "code",
      "execution_count": 166,
      "metadata": {},
      "outputs": [],
      "source": [
        "#save the best model\n",
        "import pickle\n",
        "pickle.dump(rf_min, open('Model/pedestriant_ml_prediction_model_rf', 'wb'))\n",
        "pickle.dump(svm_min, open('Model/pedestriant_ml_prediction_model_svr', 'wb'))\n",
        "pickle.dump(newscaler, open('Model/newscaler', 'wb'))"
      ]
    }
  ]
}