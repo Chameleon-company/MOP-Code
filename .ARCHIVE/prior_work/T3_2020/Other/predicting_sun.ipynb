{
  "nbformat": 4,
  "nbformat_minor": 0,
  "metadata": {
    "colab": {
      "name": "predicting_max_and_min_temperatures.ipynb",
      "provenance": [],
      "collapsed_sections": []
    },
    "kernelspec": {
      "name": "python3",
      "display_name": "Python 3",
      "language": "python"
    }
  },
  "cells": [
    {
      "cell_type": "code",
      "metadata": {
        "id": "VPbF12e_373G"
      },
      "source": [
        "from sklearn.neighbors import KNeighborsRegressor\r\n",
        "from sklearn.svm import SVR\r\n",
        "import numpy as np\r\n",
        "import pandas as pd\r\n",
        "from pandas import DataFrame as df, Series as se\r\n",
        "from datetime import datetime, timedelta"
      ],
      "execution_count": 2,
      "outputs": []
    },
    {
      "cell_type": "code",
      "metadata": {
        "colab": {
          "base_uri": "https://localhost:8080/",
          "height": 407
        },
        "id": "_pRbFnlBoNzy",
        "outputId": "f70fb61c-5bb0-48dc-aa90-f651b4cafa3f"
      },
      "source": [
        "rng = pd.date_range('2021-01-01', periods=90, freq='D')\n",
        "X_test = pd.DataFrame({ 'Date': rng}) \n",
        "\n",
        "X_test['Date'] = X_test['Date'].astype('datetime64[ns]')\n",
        "\n",
        "X_test['Year'] = X_test.Date.dt.year\n",
        "X_test['day_of_year'] = X_test.Date.dt.dayofyear\n",
        "X_test['monthly_index'] = X_test.Date.dt.month\n",
        "X_test['day_of_week'] = X_test.Date.dt.dayofweek + 1\n",
        "\n",
        "X_test = X_test.drop('Date', 1)\n",
        "X_test"
      ],
      "execution_count": 13,
      "outputs": [
        {
          "output_type": "execute_result",
          "data": {
            "text/plain": [
              "    Year  day_of_year  monthly_index  day_of_week\n",
              "0   2021            1              1            5\n",
              "1   2021            2              1            6\n",
              "2   2021            3              1            7\n",
              "3   2021            4              1            1\n",
              "4   2021            5              1            2\n",
              "..   ...          ...            ...          ...\n",
              "85  2021           86              3            6\n",
              "86  2021           87              3            7\n",
              "87  2021           88              3            1\n",
              "88  2021           89              3            2\n",
              "89  2021           90              3            3\n",
              "\n",
              "[90 rows x 4 columns]"
            ],
            "text/html": "<div>\n<style scoped>\n    .dataframe tbody tr th:only-of-type {\n        vertical-align: middle;\n    }\n\n    .dataframe tbody tr th {\n        vertical-align: top;\n    }\n\n    .dataframe thead th {\n        text-align: right;\n    }\n</style>\n<table border=\"1\" class=\"dataframe\">\n  <thead>\n    <tr style=\"text-align: right;\">\n      <th></th>\n      <th>Year</th>\n      <th>day_of_year</th>\n      <th>monthly_index</th>\n      <th>day_of_week</th>\n    </tr>\n  </thead>\n  <tbody>\n    <tr>\n      <th>0</th>\n      <td>2021</td>\n      <td>1</td>\n      <td>1</td>\n      <td>5</td>\n    </tr>\n    <tr>\n      <th>1</th>\n      <td>2021</td>\n      <td>2</td>\n      <td>1</td>\n      <td>6</td>\n    </tr>\n    <tr>\n      <th>2</th>\n      <td>2021</td>\n      <td>3</td>\n      <td>1</td>\n      <td>7</td>\n    </tr>\n    <tr>\n      <th>3</th>\n      <td>2021</td>\n      <td>4</td>\n      <td>1</td>\n      <td>1</td>\n    </tr>\n    <tr>\n      <th>4</th>\n      <td>2021</td>\n      <td>5</td>\n      <td>1</td>\n      <td>2</td>\n    </tr>\n    <tr>\n      <th>...</th>\n      <td>...</td>\n      <td>...</td>\n      <td>...</td>\n      <td>...</td>\n    </tr>\n    <tr>\n      <th>85</th>\n      <td>2021</td>\n      <td>86</td>\n      <td>3</td>\n      <td>6</td>\n    </tr>\n    <tr>\n      <th>86</th>\n      <td>2021</td>\n      <td>87</td>\n      <td>3</td>\n      <td>7</td>\n    </tr>\n    <tr>\n      <th>87</th>\n      <td>2021</td>\n      <td>88</td>\n      <td>3</td>\n      <td>1</td>\n    </tr>\n    <tr>\n      <th>88</th>\n      <td>2021</td>\n      <td>89</td>\n      <td>3</td>\n      <td>2</td>\n    </tr>\n    <tr>\n      <th>89</th>\n      <td>2021</td>\n      <td>90</td>\n      <td>3</td>\n      <td>3</td>\n    </tr>\n  </tbody>\n</table>\n<p>90 rows × 4 columns</p>\n</div>"
          },
          "metadata": {},
          "execution_count": 13
        }
      ]
    },
    {
      "cell_type": "code",
      "metadata": {
        "colab": {
          "base_uri": "https://localhost:8080/"
        },
        "id": "eHfEKO899rUY",
        "outputId": "d1909a54-b2fc-478b-a522-4f0bbaff5487"
      },
      "source": [
        "import pickle\n",
        "\n",
        "#load scaler\n",
        "scaler = pickle.load(open('Model/scaler', 'rb'))\n",
        "X_test_scaled = scaler.transform(X_test)\n",
        "X_test_scaled"
      ],
      "execution_count": 18,
      "outputs": [
        {
          "output_type": "execute_result",
          "data": {
            "text/plain": [
              "array([[ 1.40276225, -1.49435881, -1.39807449,  0.4805058 ],\n",
              "       [ 1.40276225, -1.48778077, -1.39807449,  0.97720843],\n",
              "       [ 1.40276225, -1.48120274, -1.39807449,  1.47391105],\n",
              "       [ 1.40276225, -1.4746247 , -1.39807449, -1.5063047 ],\n",
              "       [ 1.40276225, -1.46804666, -1.39807449, -1.00960208],\n",
              "       [ 1.40276225, -1.46146862, -1.39807449, -0.51289945],\n",
              "       [ 1.40276225, -1.45489058, -1.39807449, -0.01619682],\n",
              "       [ 1.40276225, -1.44831254, -1.39807449,  0.4805058 ],\n",
              "       [ 1.40276225, -1.4417345 , -1.39807449,  0.97720843],\n",
              "       [ 1.40276225, -1.43515646, -1.39807449,  1.47391105],\n",
              "       [ 1.40276225, -1.42857843, -1.39807449, -1.5063047 ],\n",
              "       [ 1.40276225, -1.42200039, -1.39807449, -1.00960208],\n",
              "       [ 1.40276225, -1.41542235, -1.39807449, -0.51289945],\n",
              "       [ 1.40276225, -1.40884431, -1.39807449, -0.01619682],\n",
              "       [ 1.40276225, -1.40226627, -1.39807449,  0.4805058 ],\n",
              "       [ 1.40276225, -1.39568823, -1.39807449,  0.97720843],\n",
              "       [ 1.40276225, -1.38911019, -1.39807449,  1.47391105],\n",
              "       [ 1.40276225, -1.38253215, -1.39807449, -1.5063047 ],\n",
              "       [ 1.40276225, -1.37595411, -1.39807449, -1.00960208],\n",
              "       [ 1.40276225, -1.36937608, -1.39807449, -0.51289945],\n",
              "       [ 1.40276225, -1.36279804, -1.39807449, -0.01619682],\n",
              "       [ 1.40276225, -1.35622   , -1.39807449,  0.4805058 ],\n",
              "       [ 1.40276225, -1.34964196, -1.39807449,  0.97720843],\n",
              "       [ 1.40276225, -1.34306392, -1.39807449,  1.47391105],\n",
              "       [ 1.40276225, -1.33648588, -1.39807449, -1.5063047 ],\n",
              "       [ 1.40276225, -1.32990784, -1.39807449, -1.00960208],\n",
              "       [ 1.40276225, -1.3233298 , -1.39807449, -0.51289945],\n",
              "       [ 1.40276225, -1.31675177, -1.39807449, -0.01619682],\n",
              "       [ 1.40276225, -1.31017373, -1.39807449,  0.4805058 ],\n",
              "       [ 1.40276225, -1.30359569, -1.39807449,  0.97720843],\n",
              "       [ 1.40276225, -1.29701765, -1.39807449,  1.47391105],\n",
              "       [ 1.40276225, -1.29043961, -1.19741481, -1.5063047 ],\n",
              "       [ 1.40276225, -1.28386157, -1.19741481, -1.00960208],\n",
              "       [ 1.40276225, -1.27728353, -1.19741481, -0.51289945],\n",
              "       [ 1.40276225, -1.27070549, -1.19741481, -0.01619682],\n",
              "       [ 1.40276225, -1.26412746, -1.19741481,  0.4805058 ],\n",
              "       [ 1.40276225, -1.25754942, -1.19741481,  0.97720843],\n",
              "       [ 1.40276225, -1.25097138, -1.19741481,  1.47391105],\n",
              "       [ 1.40276225, -1.24439334, -1.19741481, -1.5063047 ],\n",
              "       [ 1.40276225, -1.2378153 , -1.19741481, -1.00960208],\n",
              "       [ 1.40276225, -1.23123726, -1.19741481, -0.51289945],\n",
              "       [ 1.40276225, -1.22465922, -1.19741481, -0.01619682],\n",
              "       [ 1.40276225, -1.21808118, -1.19741481,  0.4805058 ],\n",
              "       [ 1.40276225, -1.21150314, -1.19741481,  0.97720843],\n",
              "       [ 1.40276225, -1.20492511, -1.19741481,  1.47391105],\n",
              "       [ 1.40276225, -1.19834707, -1.19741481, -1.5063047 ],\n",
              "       [ 1.40276225, -1.19176903, -1.19741481, -1.00960208],\n",
              "       [ 1.40276225, -1.18519099, -1.19741481, -0.51289945],\n",
              "       [ 1.40276225, -1.17861295, -1.19741481, -0.01619682],\n",
              "       [ 1.40276225, -1.17203491, -1.19741481,  0.4805058 ],\n",
              "       [ 1.40276225, -1.16545687, -1.19741481,  0.97720843],\n",
              "       [ 1.40276225, -1.15887883, -1.19741481,  1.47391105],\n",
              "       [ 1.40276225, -1.1523008 , -1.19741481, -1.5063047 ],\n",
              "       [ 1.40276225, -1.14572276, -1.19741481, -1.00960208],\n",
              "       [ 1.40276225, -1.13914472, -1.19741481, -0.51289945],\n",
              "       [ 1.40276225, -1.13256668, -1.19741481, -0.01619682],\n",
              "       [ 1.40276225, -1.12598864, -1.19741481,  0.4805058 ],\n",
              "       [ 1.40276225, -1.1194106 , -1.19741481,  0.97720843],\n",
              "       [ 1.40276225, -1.11283256, -1.19741481,  1.47391105],\n",
              "       [ 1.40276225, -1.10625452, -0.99675513, -1.5063047 ],\n",
              "       [ 1.40276225, -1.09967649, -0.99675513, -1.00960208],\n",
              "       [ 1.40276225, -1.09309845, -0.99675513, -0.51289945],\n",
              "       [ 1.40276225, -1.08652041, -0.99675513, -0.01619682],\n",
              "       [ 1.40276225, -1.07994237, -0.99675513,  0.4805058 ],\n",
              "       [ 1.40276225, -1.07336433, -0.99675513,  0.97720843],\n",
              "       [ 1.40276225, -1.06678629, -0.99675513,  1.47391105],\n",
              "       [ 1.40276225, -1.06020825, -0.99675513, -1.5063047 ],\n",
              "       [ 1.40276225, -1.05363021, -0.99675513, -1.00960208],\n",
              "       [ 1.40276225, -1.04705218, -0.99675513, -0.51289945],\n",
              "       [ 1.40276225, -1.04047414, -0.99675513, -0.01619682],\n",
              "       [ 1.40276225, -1.0338961 , -0.99675513,  0.4805058 ],\n",
              "       [ 1.40276225, -1.02731806, -0.99675513,  0.97720843],\n",
              "       [ 1.40276225, -1.02074002, -0.99675513,  1.47391105],\n",
              "       [ 1.40276225, -1.01416198, -0.99675513, -1.5063047 ],\n",
              "       [ 1.40276225, -1.00758394, -0.99675513, -1.00960208],\n",
              "       [ 1.40276225, -1.0010059 , -0.99675513, -0.51289945],\n",
              "       [ 1.40276225, -0.99442786, -0.99675513, -0.01619682],\n",
              "       [ 1.40276225, -0.98784983, -0.99675513,  0.4805058 ],\n",
              "       [ 1.40276225, -0.98127179, -0.99675513,  0.97720843],\n",
              "       [ 1.40276225, -0.97469375, -0.99675513,  1.47391105],\n",
              "       [ 1.40276225, -0.96811571, -0.99675513, -1.5063047 ],\n",
              "       [ 1.40276225, -0.96153767, -0.99675513, -1.00960208],\n",
              "       [ 1.40276225, -0.95495963, -0.99675513, -0.51289945],\n",
              "       [ 1.40276225, -0.94838159, -0.99675513, -0.01619682],\n",
              "       [ 1.40276225, -0.94180355, -0.99675513,  0.4805058 ],\n",
              "       [ 1.40276225, -0.93522552, -0.99675513,  0.97720843],\n",
              "       [ 1.40276225, -0.92864748, -0.99675513,  1.47391105],\n",
              "       [ 1.40276225, -0.92206944, -0.99675513, -1.5063047 ],\n",
              "       [ 1.40276225, -0.9154914 , -0.99675513, -1.00960208],\n",
              "       [ 1.40276225, -0.90891336, -0.99675513, -0.51289945]])"
            ]
          },
          "metadata": {},
          "execution_count": 18
        }
      ]
    },
    {
      "cell_type": "code",
      "metadata": {
        "colab": {
          "base_uri": "https://localhost:8080/"
        },
        "id": "MLSiXcS74qhN",
        "outputId": "27851efe-ba10-42a3-cc8d-6c123cbb8b31"
      },
      "source": [
        "#import pickle\n",
        "\n",
        "#load model\n",
        "model = pickle.load(open('Model/finalized_svr_model_for_Solar_exposure', 'rb'))\n",
        "model"
      ],
      "execution_count": 20,
      "outputs": [
        {
          "output_type": "execute_result",
          "data": {
            "text/plain": [
              "SVR(C=100, degree=0, gamma=100)"
            ]
          },
          "metadata": {},
          "execution_count": 20
        }
      ]
    },
    {
      "cell_type": "code",
      "metadata": {
        "id": "EBsLY0Hz4qeN"
      },
      "source": [
        "Y_predicted = model.predict(X_test_scaled)"
      ],
      "execution_count": 21,
      "outputs": []
    },
    {
      "cell_type": "code",
      "metadata": {
        "colab": {
          "base_uri": "https://localhost:8080/"
        },
        "id": "BWzjS5J4uuP3",
        "outputId": "9ade02ec-09c2-41ae-873b-a3c1925cbf46"
      },
      "source": [
        "Y_predicted"
      ],
      "execution_count": 22,
      "outputs": [
        {
          "output_type": "execute_result",
          "data": {
            "text/plain": [
              "array([14.98288529, 13.48720361, 15.1299186 , 15.65894359, 15.3141106 ,\n",
              "       15.31391179, 14.96124783, 15.16072096, 13.51650186, 15.22856687,\n",
              "       15.79699654, 15.63498736, 15.66184792, 15.23384171, 15.2860143 ,\n",
              "       14.65287997, 15.16661368, 15.19227621, 15.67241287, 15.61968536,\n",
              "       15.5538827 , 15.03894523, 15.37229318, 15.11914054, 14.83182417,\n",
              "       15.22942318, 15.15560074, 15.63915671, 14.63581845, 14.82982373,\n",
              "       15.25035007, 15.48971624, 14.5345082 , 14.69160222, 15.39093531,\n",
              "       14.59838168, 14.6676423 , 15.50506564, 15.57839419, 14.17406843,\n",
              "       14.70870463, 14.73149339, 15.02186013, 15.6530706 , 15.33783463,\n",
              "       14.2218789 , 14.3972114 , 15.05929248, 14.44885592, 15.11277057,\n",
              "       15.77796274, 15.06247415, 13.23054306, 14.74050032, 15.23668269,\n",
              "       14.55094421, 14.87550523, 14.90124108, 14.9003981 , 15.8003271 ,\n",
              "       15.36487971, 13.76742712, 13.48816633, 14.23424391, 15.1806413 ,\n",
              "       15.59480336, 15.7717671 , 16.12741675, 14.91218198, 15.61540834,\n",
              "       13.47772963, 14.60017442, 14.21761839, 16.14021433, 16.11591927,\n",
              "       14.47903764, 14.7377568 , 13.66673382, 14.02264151, 14.19680135,\n",
              "       15.28141809, 15.46856091, 13.38571731, 13.38185783, 14.61345198,\n",
              "       14.17372052, 14.89245462, 13.83711427, 15.02557558, 13.34722232])"
            ]
          },
          "metadata": {},
          "execution_count": 22
        }
      ]
    },
    {
      "cell_type": "code",
      "metadata": {
        "colab": {
          "base_uri": "https://localhost:8080/",
          "height": 573
        },
        "id": "soZ0EEt-t91s",
        "outputId": "5a3cee43-cdb4-4c44-8ef9-2bb5ab07ae9c"
      },
      "source": [
        "Final_test_dataset = pd.read_csv('Final_test_dataset.csv')\r\n",
        "Final_test_dataset"
      ],
      "execution_count": 23,
      "outputs": [
        {
          "output_type": "execute_result",
          "data": {
            "text/plain": [
              "     Unnamed: 0       Date   Day  monthly_index        Public_Holiday  \\\n",
              "0             0   1/11/2020    7              1  Not a public holiday   \n",
              "1             1   2/11/2020    1              2  Not a public holiday   \n",
              "2             2   3/11/2020    2              3        Public Holiday   \n",
              "3             3   4/11/2020    3              4  Not a public holiday   \n",
              "4             4   5/11/2020    4              5  Not a public holiday   \n",
              "..          ...         ...  ...            ...                   ...   \n",
              "146         146  27/03/2021    6              3  Not a public holiday   \n",
              "147         147  28/03/2021    7              3  Not a public holiday   \n",
              "148         148  29/03/2021    1              3  Not a public holiday   \n",
              "149         149  30/03/2021    2              3  Not a public holiday   \n",
              "150         150  31/03/2021    3              3  Not a public holiday   \n",
              "\n",
              "     Rainfall amount (millimetres)  Minimum temperature (Degree C)  \\\n",
              "0                              0.0                       12.600000   \n",
              "1                              0.0                        9.600000   \n",
              "2                              0.0                       12.100000   \n",
              "3                              0.0                       21.900000   \n",
              "4                              2.8                       11.100000   \n",
              "..                             ...                             ...   \n",
              "146                            0.0                        9.581615   \n",
              "147                            9.2                        9.617631   \n",
              "148                            0.2                        9.254642   \n",
              "149                            0.2                        9.290658   \n",
              "150                            2.2                        9.326675   \n",
              "\n",
              "     Maximum temperature (Degree C)  Daily global solar exposure (MJ/m*m)  \n",
              "0                            17.000                                  23.2  \n",
              "1                            29.500                                  26.8  \n",
              "2                            30.400                                  26.9  \n",
              "3                            22.800                                   5.5  \n",
              "4                            15.800                                  23.1  \n",
              "..                              ...                                   ...  \n",
              "146                          22.996                                   NaN  \n",
              "147                          22.108                                   NaN  \n",
              "148                          24.512                                   NaN  \n",
              "149                          25.240                                   NaN  \n",
              "150                          25.696                                   NaN  \n",
              "\n",
              "[151 rows x 9 columns]"
            ],
            "text/html": "<div>\n<style scoped>\n    .dataframe tbody tr th:only-of-type {\n        vertical-align: middle;\n    }\n\n    .dataframe tbody tr th {\n        vertical-align: top;\n    }\n\n    .dataframe thead th {\n        text-align: right;\n    }\n</style>\n<table border=\"1\" class=\"dataframe\">\n  <thead>\n    <tr style=\"text-align: right;\">\n      <th></th>\n      <th>Unnamed: 0</th>\n      <th>Date</th>\n      <th>Day</th>\n      <th>monthly_index</th>\n      <th>Public_Holiday</th>\n      <th>Rainfall amount (millimetres)</th>\n      <th>Minimum temperature (Degree C)</th>\n      <th>Maximum temperature (Degree C)</th>\n      <th>Daily global solar exposure (MJ/m*m)</th>\n    </tr>\n  </thead>\n  <tbody>\n    <tr>\n      <th>0</th>\n      <td>0</td>\n      <td>1/11/2020</td>\n      <td>7</td>\n      <td>1</td>\n      <td>Not a public holiday</td>\n      <td>0.0</td>\n      <td>12.600000</td>\n      <td>17.000</td>\n      <td>23.2</td>\n    </tr>\n    <tr>\n      <th>1</th>\n      <td>1</td>\n      <td>2/11/2020</td>\n      <td>1</td>\n      <td>2</td>\n      <td>Not a public holiday</td>\n      <td>0.0</td>\n      <td>9.600000</td>\n      <td>29.500</td>\n      <td>26.8</td>\n    </tr>\n    <tr>\n      <th>2</th>\n      <td>2</td>\n      <td>3/11/2020</td>\n      <td>2</td>\n      <td>3</td>\n      <td>Public Holiday</td>\n      <td>0.0</td>\n      <td>12.100000</td>\n      <td>30.400</td>\n      <td>26.9</td>\n    </tr>\n    <tr>\n      <th>3</th>\n      <td>3</td>\n      <td>4/11/2020</td>\n      <td>3</td>\n      <td>4</td>\n      <td>Not a public holiday</td>\n      <td>0.0</td>\n      <td>21.900000</td>\n      <td>22.800</td>\n      <td>5.5</td>\n    </tr>\n    <tr>\n      <th>4</th>\n      <td>4</td>\n      <td>5/11/2020</td>\n      <td>4</td>\n      <td>5</td>\n      <td>Not a public holiday</td>\n      <td>2.8</td>\n      <td>11.100000</td>\n      <td>15.800</td>\n      <td>23.1</td>\n    </tr>\n    <tr>\n      <th>...</th>\n      <td>...</td>\n      <td>...</td>\n      <td>...</td>\n      <td>...</td>\n      <td>...</td>\n      <td>...</td>\n      <td>...</td>\n      <td>...</td>\n      <td>...</td>\n    </tr>\n    <tr>\n      <th>146</th>\n      <td>146</td>\n      <td>27/03/2021</td>\n      <td>6</td>\n      <td>3</td>\n      <td>Not a public holiday</td>\n      <td>0.0</td>\n      <td>9.581615</td>\n      <td>22.996</td>\n      <td>NaN</td>\n    </tr>\n    <tr>\n      <th>147</th>\n      <td>147</td>\n      <td>28/03/2021</td>\n      <td>7</td>\n      <td>3</td>\n      <td>Not a public holiday</td>\n      <td>9.2</td>\n      <td>9.617631</td>\n      <td>22.108</td>\n      <td>NaN</td>\n    </tr>\n    <tr>\n      <th>148</th>\n      <td>148</td>\n      <td>29/03/2021</td>\n      <td>1</td>\n      <td>3</td>\n      <td>Not a public holiday</td>\n      <td>0.2</td>\n      <td>9.254642</td>\n      <td>24.512</td>\n      <td>NaN</td>\n    </tr>\n    <tr>\n      <th>149</th>\n      <td>149</td>\n      <td>30/03/2021</td>\n      <td>2</td>\n      <td>3</td>\n      <td>Not a public holiday</td>\n      <td>0.2</td>\n      <td>9.290658</td>\n      <td>25.240</td>\n      <td>NaN</td>\n    </tr>\n    <tr>\n      <th>150</th>\n      <td>150</td>\n      <td>31/03/2021</td>\n      <td>3</td>\n      <td>3</td>\n      <td>Not a public holiday</td>\n      <td>2.2</td>\n      <td>9.326675</td>\n      <td>25.696</td>\n      <td>NaN</td>\n    </tr>\n  </tbody>\n</table>\n<p>151 rows × 9 columns</p>\n</div>"
          },
          "metadata": {},
          "execution_count": 23
        }
      ]
    },
    {
      "cell_type": "code",
      "metadata": {
        "colab": {
          "base_uri": "https://localhost:8080/"
        },
        "id": "Fyf7_5uCuK19",
        "outputId": "666f6b41-1876-4acd-f144-d0e555e20d51"
      },
      "source": [
        "Final_test_dataset['Daily global solar exposure (MJ/m*m)'][61:151] = Y_predicted"
      ],
      "execution_count": 24,
      "outputs": []
    },
    {
      "cell_type": "code",
      "metadata": {
        "colab": {
          "base_uri": "https://localhost:8080/",
          "height": 573
        },
        "id": "Af9jicxzvLUl",
        "outputId": "77334b02-7d17-4378-9eb7-f4611ea6950b"
      },
      "source": [
        "Final_test_dataset"
      ],
      "execution_count": 25,
      "outputs": [
        {
          "output_type": "execute_result",
          "data": {
            "text/plain": [
              "     Unnamed: 0       Date   Day  monthly_index        Public_Holiday  \\\n",
              "0             0   1/11/2020    7              1  Not a public holiday   \n",
              "1             1   2/11/2020    1              2  Not a public holiday   \n",
              "2             2   3/11/2020    2              3        Public Holiday   \n",
              "3             3   4/11/2020    3              4  Not a public holiday   \n",
              "4             4   5/11/2020    4              5  Not a public holiday   \n",
              "..          ...         ...  ...            ...                   ...   \n",
              "146         146  27/03/2021    6              3  Not a public holiday   \n",
              "147         147  28/03/2021    7              3  Not a public holiday   \n",
              "148         148  29/03/2021    1              3  Not a public holiday   \n",
              "149         149  30/03/2021    2              3  Not a public holiday   \n",
              "150         150  31/03/2021    3              3  Not a public holiday   \n",
              "\n",
              "     Rainfall amount (millimetres)  Minimum temperature (Degree C)  \\\n",
              "0                              0.0                       12.600000   \n",
              "1                              0.0                        9.600000   \n",
              "2                              0.0                       12.100000   \n",
              "3                              0.0                       21.900000   \n",
              "4                              2.8                       11.100000   \n",
              "..                             ...                             ...   \n",
              "146                            0.0                        9.581615   \n",
              "147                            9.2                        9.617631   \n",
              "148                            0.2                        9.254642   \n",
              "149                            0.2                        9.290658   \n",
              "150                            2.2                        9.326675   \n",
              "\n",
              "     Maximum temperature (Degree C)  Daily global solar exposure (MJ/m*m)  \n",
              "0                            17.000                             23.200000  \n",
              "1                            29.500                             26.800000  \n",
              "2                            30.400                             26.900000  \n",
              "3                            22.800                              5.500000  \n",
              "4                            15.800                             23.100000  \n",
              "..                              ...                                   ...  \n",
              "146                          22.996                             14.173721  \n",
              "147                          22.108                             14.892455  \n",
              "148                          24.512                             13.837114  \n",
              "149                          25.240                             15.025576  \n",
              "150                          25.696                             13.347222  \n",
              "\n",
              "[151 rows x 9 columns]"
            ],
            "text/html": "<div>\n<style scoped>\n    .dataframe tbody tr th:only-of-type {\n        vertical-align: middle;\n    }\n\n    .dataframe tbody tr th {\n        vertical-align: top;\n    }\n\n    .dataframe thead th {\n        text-align: right;\n    }\n</style>\n<table border=\"1\" class=\"dataframe\">\n  <thead>\n    <tr style=\"text-align: right;\">\n      <th></th>\n      <th>Unnamed: 0</th>\n      <th>Date</th>\n      <th>Day</th>\n      <th>monthly_index</th>\n      <th>Public_Holiday</th>\n      <th>Rainfall amount (millimetres)</th>\n      <th>Minimum temperature (Degree C)</th>\n      <th>Maximum temperature (Degree C)</th>\n      <th>Daily global solar exposure (MJ/m*m)</th>\n    </tr>\n  </thead>\n  <tbody>\n    <tr>\n      <th>0</th>\n      <td>0</td>\n      <td>1/11/2020</td>\n      <td>7</td>\n      <td>1</td>\n      <td>Not a public holiday</td>\n      <td>0.0</td>\n      <td>12.600000</td>\n      <td>17.000</td>\n      <td>23.200000</td>\n    </tr>\n    <tr>\n      <th>1</th>\n      <td>1</td>\n      <td>2/11/2020</td>\n      <td>1</td>\n      <td>2</td>\n      <td>Not a public holiday</td>\n      <td>0.0</td>\n      <td>9.600000</td>\n      <td>29.500</td>\n      <td>26.800000</td>\n    </tr>\n    <tr>\n      <th>2</th>\n      <td>2</td>\n      <td>3/11/2020</td>\n      <td>2</td>\n      <td>3</td>\n      <td>Public Holiday</td>\n      <td>0.0</td>\n      <td>12.100000</td>\n      <td>30.400</td>\n      <td>26.900000</td>\n    </tr>\n    <tr>\n      <th>3</th>\n      <td>3</td>\n      <td>4/11/2020</td>\n      <td>3</td>\n      <td>4</td>\n      <td>Not a public holiday</td>\n      <td>0.0</td>\n      <td>21.900000</td>\n      <td>22.800</td>\n      <td>5.500000</td>\n    </tr>\n    <tr>\n      <th>4</th>\n      <td>4</td>\n      <td>5/11/2020</td>\n      <td>4</td>\n      <td>5</td>\n      <td>Not a public holiday</td>\n      <td>2.8</td>\n      <td>11.100000</td>\n      <td>15.800</td>\n      <td>23.100000</td>\n    </tr>\n    <tr>\n      <th>...</th>\n      <td>...</td>\n      <td>...</td>\n      <td>...</td>\n      <td>...</td>\n      <td>...</td>\n      <td>...</td>\n      <td>...</td>\n      <td>...</td>\n      <td>...</td>\n    </tr>\n    <tr>\n      <th>146</th>\n      <td>146</td>\n      <td>27/03/2021</td>\n      <td>6</td>\n      <td>3</td>\n      <td>Not a public holiday</td>\n      <td>0.0</td>\n      <td>9.581615</td>\n      <td>22.996</td>\n      <td>14.173721</td>\n    </tr>\n    <tr>\n      <th>147</th>\n      <td>147</td>\n      <td>28/03/2021</td>\n      <td>7</td>\n      <td>3</td>\n      <td>Not a public holiday</td>\n      <td>9.2</td>\n      <td>9.617631</td>\n      <td>22.108</td>\n      <td>14.892455</td>\n    </tr>\n    <tr>\n      <th>148</th>\n      <td>148</td>\n      <td>29/03/2021</td>\n      <td>1</td>\n      <td>3</td>\n      <td>Not a public holiday</td>\n      <td>0.2</td>\n      <td>9.254642</td>\n      <td>24.512</td>\n      <td>13.837114</td>\n    </tr>\n    <tr>\n      <th>149</th>\n      <td>149</td>\n      <td>30/03/2021</td>\n      <td>2</td>\n      <td>3</td>\n      <td>Not a public holiday</td>\n      <td>0.2</td>\n      <td>9.290658</td>\n      <td>25.240</td>\n      <td>15.025576</td>\n    </tr>\n    <tr>\n      <th>150</th>\n      <td>150</td>\n      <td>31/03/2021</td>\n      <td>3</td>\n      <td>3</td>\n      <td>Not a public holiday</td>\n      <td>2.2</td>\n      <td>9.326675</td>\n      <td>25.696</td>\n      <td>13.347222</td>\n    </tr>\n  </tbody>\n</table>\n<p>151 rows × 9 columns</p>\n</div>"
          },
          "metadata": {},
          "execution_count": 25
        }
      ]
    },
    {
      "cell_type": "code",
      "metadata": {
        "id": "pIK-atPVvm3y"
      },
      "source": [
        "Final_test_dataset.to_csv('Final_test_dataset.csv')"
      ],
      "execution_count": 26,
      "outputs": []
    }
  ]
}