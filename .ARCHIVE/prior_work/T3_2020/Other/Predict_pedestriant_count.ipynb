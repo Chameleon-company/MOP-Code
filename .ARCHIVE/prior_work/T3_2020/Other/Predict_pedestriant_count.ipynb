{
  "nbformat": 4,
  "nbformat_minor": 0,
  "metadata": {
    "colab": {
      "name": "Pedestrian_Count_dataset.ipynb",
      "provenance": [],
      "collapsed_sections": []
    },
    "kernelspec": {
      "display_name": "Python 3",
      "name": "python3",
      "language": "python"
    }
  },
  "cells": [
    {
      "cell_type": "code",
      "metadata": {
        "colab": {
          "base_uri": "https://localhost:8080/"
        },
        "id": "uhXyz3430Vc9",
        "outputId": "80a81eea-7d46-4647-92ea-404c44557882"
      },
      "source": [
        "from sklearn.neighbors import KNeighborsRegressor\n",
        "from sklearn.ensemble import RandomForestRegressor\n",
        "from sklearn.svm import SVR\n",
        "import numpy as np\n",
        "import pandas as pd\n",
        "from pandas import DataFrame as df, Series as se\n",
        "from datetime import datetime, timedelta"
      ],
      "execution_count": 22,
      "outputs": []
    },
    {
      "cell_type": "code",
      "execution_count": 23,
      "metadata": {},
      "outputs": [
        {
          "output_type": "execute_result",
          "data": {
            "text/plain": [
              "     day_of_week  monthly_index  year  day_of_year  covid_code  holiday_code  \\\n",
              "0              7             11  2020          306           0             0   \n",
              "1              1             11  2020          307           0             0   \n",
              "2              2             11  2020          308           0             1   \n",
              "3              3             11  2020          309           0             0   \n",
              "4              4             11  2020          310           0             0   \n",
              "..           ...            ...   ...          ...         ...           ...   \n",
              "146            6              3  2021           86           0             0   \n",
              "147            7              3  2021           87           0             0   \n",
              "148            1              3  2021           88           0             0   \n",
              "149            2              3  2021           89           0             0   \n",
              "150            3              3  2021           90           0             0   \n",
              "\n",
              "     Rainfall amount (millimetres)  Minimum temperature (Degree C)  \\\n",
              "0                              0.0                           12.60   \n",
              "1                              0.0                            9.60   \n",
              "2                              0.0                           12.10   \n",
              "3                              0.0                           21.90   \n",
              "4                              2.8                           11.10   \n",
              "..                             ...                             ...   \n",
              "146                            0.0                            9.58   \n",
              "147                            9.2                            9.62   \n",
              "148                            0.2                            9.25   \n",
              "149                            0.2                            9.29   \n",
              "150                            2.2                            9.33   \n",
              "\n",
              "     Maximum temperature (Degree C)  Daily global solar exposure (MJ/m*m)  \n",
              "0                             17.00                                 23.20  \n",
              "1                             29.50                                 26.80  \n",
              "2                             30.40                                 26.90  \n",
              "3                             22.80                                  5.50  \n",
              "4                             15.80                                 23.10  \n",
              "..                              ...                                   ...  \n",
              "146                           23.00                                 14.17  \n",
              "147                           22.11                                 14.89  \n",
              "148                           24.51                                 13.84  \n",
              "149                           25.24                                 15.03  \n",
              "150                           25.70                                 13.35  \n",
              "\n",
              "[151 rows x 10 columns]"
            ],
            "text/html": "<div>\n<style scoped>\n    .dataframe tbody tr th:only-of-type {\n        vertical-align: middle;\n    }\n\n    .dataframe tbody tr th {\n        vertical-align: top;\n    }\n\n    .dataframe thead th {\n        text-align: right;\n    }\n</style>\n<table border=\"1\" class=\"dataframe\">\n  <thead>\n    <tr style=\"text-align: right;\">\n      <th></th>\n      <th>day_of_week</th>\n      <th>monthly_index</th>\n      <th>year</th>\n      <th>day_of_year</th>\n      <th>covid_code</th>\n      <th>holiday_code</th>\n      <th>Rainfall amount (millimetres)</th>\n      <th>Minimum temperature (Degree C)</th>\n      <th>Maximum temperature (Degree C)</th>\n      <th>Daily global solar exposure (MJ/m*m)</th>\n    </tr>\n  </thead>\n  <tbody>\n    <tr>\n      <th>0</th>\n      <td>7</td>\n      <td>11</td>\n      <td>2020</td>\n      <td>306</td>\n      <td>0</td>\n      <td>0</td>\n      <td>0.0</td>\n      <td>12.60</td>\n      <td>17.00</td>\n      <td>23.20</td>\n    </tr>\n    <tr>\n      <th>1</th>\n      <td>1</td>\n      <td>11</td>\n      <td>2020</td>\n      <td>307</td>\n      <td>0</td>\n      <td>0</td>\n      <td>0.0</td>\n      <td>9.60</td>\n      <td>29.50</td>\n      <td>26.80</td>\n    </tr>\n    <tr>\n      <th>2</th>\n      <td>2</td>\n      <td>11</td>\n      <td>2020</td>\n      <td>308</td>\n      <td>0</td>\n      <td>1</td>\n      <td>0.0</td>\n      <td>12.10</td>\n      <td>30.40</td>\n      <td>26.90</td>\n    </tr>\n    <tr>\n      <th>3</th>\n      <td>3</td>\n      <td>11</td>\n      <td>2020</td>\n      <td>309</td>\n      <td>0</td>\n      <td>0</td>\n      <td>0.0</td>\n      <td>21.90</td>\n      <td>22.80</td>\n      <td>5.50</td>\n    </tr>\n    <tr>\n      <th>4</th>\n      <td>4</td>\n      <td>11</td>\n      <td>2020</td>\n      <td>310</td>\n      <td>0</td>\n      <td>0</td>\n      <td>2.8</td>\n      <td>11.10</td>\n      <td>15.80</td>\n      <td>23.10</td>\n    </tr>\n    <tr>\n      <th>...</th>\n      <td>...</td>\n      <td>...</td>\n      <td>...</td>\n      <td>...</td>\n      <td>...</td>\n      <td>...</td>\n      <td>...</td>\n      <td>...</td>\n      <td>...</td>\n      <td>...</td>\n    </tr>\n    <tr>\n      <th>146</th>\n      <td>6</td>\n      <td>3</td>\n      <td>2021</td>\n      <td>86</td>\n      <td>0</td>\n      <td>0</td>\n      <td>0.0</td>\n      <td>9.58</td>\n      <td>23.00</td>\n      <td>14.17</td>\n    </tr>\n    <tr>\n      <th>147</th>\n      <td>7</td>\n      <td>3</td>\n      <td>2021</td>\n      <td>87</td>\n      <td>0</td>\n      <td>0</td>\n      <td>9.2</td>\n      <td>9.62</td>\n      <td>22.11</td>\n      <td>14.89</td>\n    </tr>\n    <tr>\n      <th>148</th>\n      <td>1</td>\n      <td>3</td>\n      <td>2021</td>\n      <td>88</td>\n      <td>0</td>\n      <td>0</td>\n      <td>0.2</td>\n      <td>9.25</td>\n      <td>24.51</td>\n      <td>13.84</td>\n    </tr>\n    <tr>\n      <th>149</th>\n      <td>2</td>\n      <td>3</td>\n      <td>2021</td>\n      <td>89</td>\n      <td>0</td>\n      <td>0</td>\n      <td>0.2</td>\n      <td>9.29</td>\n      <td>25.24</td>\n      <td>15.03</td>\n    </tr>\n    <tr>\n      <th>150</th>\n      <td>3</td>\n      <td>3</td>\n      <td>2021</td>\n      <td>90</td>\n      <td>0</td>\n      <td>0</td>\n      <td>2.2</td>\n      <td>9.33</td>\n      <td>25.70</td>\n      <td>13.35</td>\n    </tr>\n  </tbody>\n</table>\n<p>151 rows × 10 columns</p>\n</div>"
          },
          "metadata": {},
          "execution_count": 23
        }
      ],
      "source": [
        "X_test = pd.read_csv('Final_test_dataset.csv')\n",
        "X_test"
      ]
    },
    {
      "cell_type": "code",
      "execution_count": 24,
      "metadata": {},
      "outputs": [
        {
          "output_type": "execute_result",
          "data": {
            "text/plain": [
              "array([[  1.51575601,  -1.01653005,   0.        , ...,  -0.32024616,\n",
              "         -1.24531339,   0.06414934],\n",
              "       [ -1.46686065,  -1.01653005,   0.        , ...,  -1.30026367,\n",
              "          1.09463599,   0.49760153],\n",
              "       [ -0.96975787,  -1.01653005,   0.        , ...,  -0.48358241,\n",
              "          1.26311235,   0.50964186],\n",
              "       ...,\n",
              "       [ -1.46686065, -17.01868044,   1.        , ...,  -1.41459904,\n",
              "          0.1605282 ,  -1.06282633],\n",
              "       [ -0.96975787, -17.01868044,   1.        , ...,  -1.40153214,\n",
              "          0.29718124,  -0.9195463 ],\n",
              "       [ -0.4726551 , -17.01868044,   1.        , ...,  -1.38846524,\n",
              "          0.38329138,  -1.12182399]])"
            ]
          },
          "metadata": {},
          "execution_count": 24
        }
      ],
      "source": [
        "import pickle\n",
        "\n",
        "#load scaler\n",
        "scaler = pickle.load(open('Model/newscaler', 'rb'))\n",
        "X_test_scaled = scaler.transform(X_test)\n",
        "X_test_scaled"
      ]
    },
    {
      "cell_type": "code",
      "execution_count": 25,
      "metadata": {},
      "outputs": [
        {
          "output_type": "execute_result",
          "data": {
            "text/plain": [
              "RandomForestRegressor(criterion='friedman_mse', max_depth=20,\n",
              "                      min_samples_split=30, n_estimators=10)"
            ]
          },
          "metadata": {},
          "execution_count": 25
        }
      ],
      "source": [
        "#load model\n",
        "model = pickle.load(open('Model/pedestriant_ml_prediction_model_rf', 'rb'))\n",
        "model"
      ]
    },
    {
      "cell_type": "code",
      "execution_count": 26,
      "metadata": {},
      "outputs": [
        {
          "output_type": "execute_result",
          "data": {
            "text/plain": [
              "array([454263.65005793, 511068.28484606, 526702.10083052, 560513.81832011,\n",
              "       575543.18338942, 620547.23542622, 568008.86854507, 560304.13387267,\n",
              "       594607.17629777, 606143.94600056, 577279.8593735 , 603925.12937081,\n",
              "       674579.5876025 , 568899.01634787, 459714.29275862, 612777.94480421,\n",
              "       638628.43289161, 634350.42940633, 628563.17556018, 695657.76790204,\n",
              "       574173.00552924, 376168.20246753, 529427.61073115, 562311.46647007,\n",
              "       634350.42940633, 611200.77978563, 717792.81095623, 533066.91649745,\n",
              "       470929.02713489, 607164.06099345, 544144.74743381, 604313.03269006,\n",
              "       638009.60056018, 699128.113714  , 529587.73299405, 474881.0240148 ,\n",
              "       571666.10285928, 550304.36129039, 615422.02500377, 603827.43563124,\n",
              "       699128.113714  , 578914.37344377, 535459.7381174 , 618532.73457142,\n",
              "       649956.54752688, 669239.02847409, 681577.35613532, 697524.31787342,\n",
              "       605529.53115464, 546497.90053934, 561844.16251835, 556818.24029612,\n",
              "       665137.66470473, 676890.53794818, 672882.38445714, 662026.19708213,\n",
              "       371121.44246753, 661992.59776923, 712457.829547  , 719227.15309101,\n",
              "       663004.67395289, 628495.99093551, 632299.74042303, 556051.60005832,\n",
              "       714053.00938642, 765828.84770655, 799483.99252137, 797802.83077894,\n",
              "       814602.24773828, 632299.74042303, 556051.60005832, 714053.00938642,\n",
              "       765828.84770655, 799483.99252137, 797802.83077894, 814602.24773828,\n",
              "       632299.74042303, 556051.60005832, 714053.00938642, 765828.84770655,\n",
              "       799483.99252137, 791993.68161506, 814602.24773828, 632299.74042303,\n",
              "       526312.37122249, 703868.00022254, 569690.8561196 , 799483.99252137,\n",
              "       791993.68161506, 814602.24773828, 632299.74042303, 526312.37122249,\n",
              "       701018.67800032, 752794.51632045, 793674.84335749, 791993.68161506,\n",
              "       814602.24773828, 618783.79820441, 523765.87972493, 701018.67800032,\n",
              "       752794.51632045, 793674.84335749, 791993.68161506, 814602.24773828,\n",
              "       618783.79820441, 516504.99258207, 701018.67800032, 752794.51632045,\n",
              "       793674.84335749, 791993.68161506, 814602.24773828, 618783.79820441,\n",
              "       516504.99258207, 701018.67800032, 752794.51632045, 793674.84335749,\n",
              "       791993.68161506, 814602.24773828, 618783.79820441, 516504.99258207,\n",
              "       701018.67800032, 752794.51632045, 793674.84335749, 783750.35030193,\n",
              "       805226.23984354, 618783.79820441, 533573.25836534, 569690.8561196 ,\n",
              "       754174.49869082, 793674.84335749, 791993.68161506, 796982.90853041,\n",
              "       618783.79820441, 518165.23713158, 702398.66037069, 754174.49869082,\n",
              "       793674.84335749, 791993.68161506, 805226.23984354, 622497.79956805,\n",
              "       518165.23713158, 703868.00022254, 755643.83854267, 799483.99252137,\n",
              "       783750.35030193, 814602.24773828, 622497.79956805, 526312.37122249,\n",
              "       703868.00022254, 755643.83854267, 799483.99252137])"
            ]
          },
          "metadata": {},
          "execution_count": 26
        }
      ],
      "source": [
        "Y_predicted = model.predict(X_test_scaled)\n",
        "Y_predicted"
      ]
    },
    {
      "cell_type": "code",
      "execution_count": 27,
      "metadata": {},
      "outputs": [
        {
          "output_type": "execute_result",
          "data": {
            "text/plain": [
              "          Date  Pedestrian_Count\n",
              "0   2020-11-01            454264\n",
              "1   2020-11-02            511068\n",
              "2   2020-11-03            526702\n",
              "3   2020-11-04            560514\n",
              "4   2020-11-05            575543\n",
              "..         ...               ...\n",
              "146 2021-03-27            622498\n",
              "147 2021-03-28            526312\n",
              "148 2021-03-29            703868\n",
              "149 2021-03-30            755644\n",
              "150 2021-03-31            799484\n",
              "\n",
              "[151 rows x 2 columns]"
            ],
            "text/html": "<div>\n<style scoped>\n    .dataframe tbody tr th:only-of-type {\n        vertical-align: middle;\n    }\n\n    .dataframe tbody tr th {\n        vertical-align: top;\n    }\n\n    .dataframe thead th {\n        text-align: right;\n    }\n</style>\n<table border=\"1\" class=\"dataframe\">\n  <thead>\n    <tr style=\"text-align: right;\">\n      <th></th>\n      <th>Date</th>\n      <th>Pedestrian_Count</th>\n    </tr>\n  </thead>\n  <tbody>\n    <tr>\n      <th>0</th>\n      <td>2020-11-01</td>\n      <td>454264</td>\n    </tr>\n    <tr>\n      <th>1</th>\n      <td>2020-11-02</td>\n      <td>511068</td>\n    </tr>\n    <tr>\n      <th>2</th>\n      <td>2020-11-03</td>\n      <td>526702</td>\n    </tr>\n    <tr>\n      <th>3</th>\n      <td>2020-11-04</td>\n      <td>560514</td>\n    </tr>\n    <tr>\n      <th>4</th>\n      <td>2020-11-05</td>\n      <td>575543</td>\n    </tr>\n    <tr>\n      <th>...</th>\n      <td>...</td>\n      <td>...</td>\n    </tr>\n    <tr>\n      <th>146</th>\n      <td>2021-03-27</td>\n      <td>622498</td>\n    </tr>\n    <tr>\n      <th>147</th>\n      <td>2021-03-28</td>\n      <td>526312</td>\n    </tr>\n    <tr>\n      <th>148</th>\n      <td>2021-03-29</td>\n      <td>703868</td>\n    </tr>\n    <tr>\n      <th>149</th>\n      <td>2021-03-30</td>\n      <td>755644</td>\n    </tr>\n    <tr>\n      <th>150</th>\n      <td>2021-03-31</td>\n      <td>799484</td>\n    </tr>\n  </tbody>\n</table>\n<p>151 rows × 2 columns</p>\n</div>"
          },
          "metadata": {},
          "execution_count": 27
        }
      ],
      "source": [
        "rng = pd.date_range('2020-11-01', periods=151, freq='D')\n",
        "result = pd.DataFrame({ 'Date': rng}) \n",
        "result['Pedestrian_Count'] = np.round(Y_predicted).astype(int)\n",
        "result"
      ]
    },
    {
      "cell_type": "code",
      "execution_count": 28,
      "metadata": {},
      "outputs": [],
      "source": [
        "result.to_csv('predicted_pedestriant_count.csv')"
      ]
    }
  ]
}