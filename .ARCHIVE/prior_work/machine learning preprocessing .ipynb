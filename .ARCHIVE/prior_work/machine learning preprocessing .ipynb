{
 "cells": [
  {
   "cell_type": "code",
   "execution_count": 1,
   "metadata": {},
   "outputs": [],
   "source": [
    "import pandas as pd\n",
    "import numpy as np\n",
    "import matplotlib.pyplot as plt\n",
    "import datetime as dt"
   ]
  },
  {
   "cell_type": "code",
   "execution_count": 153,
   "metadata": {},
   "outputs": [],
   "source": [
    "data = pd.read_csv('PCS_cleaned.csv')\n",
    "data1=pd.read_csv('sensor_details.csv')"
   ]
  },
  {
   "cell_type": "code",
   "execution_count": 154,
   "metadata": {},
   "outputs": [],
   "source": [
    "def new_dates_set(gap):\n",
    "    date=[]\n",
    "    time=dt.datetime(2020,9,1,0)\n",
    "    for i in range(0,gap):\n",
    "        date.append(time+dt.timedelta(hours=i))\n",
    "    return(date) "
   ]
  },
  {
   "cell_type": "code",
   "execution_count": 155,
   "metadata": {},
   "outputs": [],
   "source": [
    "gap=(dt.datetime(2020,12,31,0)-dt.datetime(2020,9,1,0))\n",
    "gap=gap.days*24\n",
    "future_dates=new_dates_set(gap)\n",
    "df=pd.DataFrame(index=np.arange(0,gap),columns=(['Date_Time','Year','Month','Mdate',\n",
    "                                                 'Day','Time','Sensor_ID','Hourly_Counts'])) \n",
    "df['Date_Time']=future_dates"
   ]
  },
  {
   "cell_type": "code",
   "execution_count": 156,
   "metadata": {},
   "outputs": [],
   "source": [
    "a, b, c, d, e = [], [], [], [], []\n",
    "for q in range(0,len(df)):\n",
    "    a.append(df.loc[q,'Date_Time'].year)\n",
    "    b.append(df.loc[q,'Date_Time'].month)\n",
    "    c.append(df.loc[q,'Date_Time'].day)\n",
    "    d.append(df.loc[q,'Date_Time'].weekday())\n",
    "    e.append(df.loc[q,'Date_Time'].hour)    \n",
    "df['Year']=a\n",
    "df['Month']=b\n",
    "df['Mdate']=c\n",
    "df['Day']=d\n",
    "df['Time']=e    \n",
    "df['Sensor_ID']=1\n",
    "df['Hourly_Counts']=-1"
   ]
  },
  {
   "cell_type": "code",
   "execution_count": 157,
   "metadata": {},
   "outputs": [],
   "source": [
    "df1=df.copy()\n",
    "for i in np.unique(data_stage_2['Sensor_ID'])[1:]:\n",
    "    df1['Sensor_ID']=i\n",
    "    df=pd.concat([df,df1],axis=0)"
   ]
  },
  {
   "cell_type": "code",
   "execution_count": 158,
   "metadata": {},
   "outputs": [],
   "source": [
    "data=pd.concat([data,df],axis=0)\n",
    "data=data.iloc[:,[6,7,0,1,2,3,4,5]]\n",
    "data.index=range(0,len(data))"
   ]
  },
  {
   "cell_type": "code",
   "execution_count": 159,
   "metadata": {},
   "outputs": [],
   "source": [
    "data['Date_Time']=pd.to_datetime(data['Date_Time'])"
   ]
  },
  {
   "cell_type": "code",
   "execution_count": 160,
   "metadata": {},
   "outputs": [],
   "source": [
    "data['Month']=data['Month'].astype('category')\n",
    "data['Mdate']=data['Mdate'].astype('category')\n",
    "data['Day']=data['Day'].astype('category')\n",
    "data['Time']=data['Time'].astype('category')\n",
    "data['Sensor_ID']=data['Sensor_ID'].astype('category')"
   ]
  },
  {
   "cell_type": "code",
   "execution_count": 161,
   "metadata": {},
   "outputs": [],
   "source": [
    "data_dummy=pd.get_dummies(data,drop_first=True)\n",
    "data_dummy.drop(['Date_Time','Year'],axis=1,inplace=True)"
   ]
  },
  {
   "cell_type": "code",
   "execution_count": 165,
   "metadata": {},
   "outputs": [],
   "source": [
    "data_dummy.to_csv('machine_learning_preprocessed_data.csv',index=False)"
   ]
  }
 ],
 "metadata": {
  "kernelspec": {
   "display_name": "Python 3",
   "language": "python",
   "name": "python3"
  },
  "language_info": {
   "codemirror_mode": {
    "name": "ipython",
    "version": 3
   },
   "file_extension": ".py",
   "mimetype": "text/x-python",
   "name": "python",
   "nbconvert_exporter": "python",
   "pygments_lexer": "ipython3",
   "version": "3.7.6"
  }
 },
 "nbformat": 4,
 "nbformat_minor": 4
}
