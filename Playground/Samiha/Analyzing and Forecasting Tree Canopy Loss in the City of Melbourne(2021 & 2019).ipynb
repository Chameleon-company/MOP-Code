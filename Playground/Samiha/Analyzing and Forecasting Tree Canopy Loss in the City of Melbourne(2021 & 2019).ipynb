{
 "cells": [
  {
   "cell_type": "markdown",
   "metadata": {},
   "source": [
    "_**DELETE BEFORE PUBLISHING**_\n",
    "\n",
    "_This is a template also containing the style guide for use cases. The styling uses the use-case css when uploaded to the website, which will not be visible on your local machine._\n",
    "\n",
    "_Change any text marked with {} and delete any cells marked DELETE_\n",
    "\n",
    "***"
   ]
  },
  {
   "cell_type": "code",
   "execution_count": 5,
   "metadata": {},
   "outputs": [
    {
     "data": {
      "text/html": [
       "\n",
       "<style>\n",
       ".usecase-title, .usecase-duration, .usecase-section-header {\n",
       "    padding-left: 15px;\n",
       "    padding-bottom: 8px;\n",
       "    padding-top: 8px;\n",
       "    padding-right: 15px;\n",
       "    background-color: #0f9295;\n",
       "    color: #fff;\n",
       "}\n",
       "\n",
       ".usecase-title {\n",
       "    font-size: 1.7em;\n",
       "    font-weight: bold;\n",
       "}\n",
       "\n",
       ".usecase-authors, .usecase-level, .usecase-skill {\n",
       "    padding-left: 15px;\n",
       "    padding-bottom: 6px;\n",
       "    padding-top: 6px;\n",
       "    background-color: #baeaeb;\n",
       "    font-size: 1.4em;\n",
       "    color: #121212;\n",
       "}\n",
       "\n",
       ".usecase-level-skill  {\n",
       "    display: flex;\n",
       "}\n",
       "\n",
       ".usecase-level, .usecase-skill {\n",
       "    width: 50%;\n",
       "}\n",
       "\n",
       ".usecase-duration, .usecase-skill {\n",
       "    text-align: right;\n",
       "    padding-right: 15px;\n",
       "    padding-bottom: 6px;\n",
       "    font-size: 1.4em;\n",
       "}\n",
       "\n",
       ".usecase-section-header {\n",
       "    font-weight: bold;\n",
       "    font-size: 1.5em;\n",
       "}\n",
       "\n",
       ".usecase-subsection-header, .usecase-subsection-blurb {\n",
       "    font-weight: bold;\n",
       "    font-size: 1.2em;\n",
       "    color: #121212;\n",
       "}\n",
       "\n",
       ".usecase-subsection-blurb {\n",
       "    font-size: 1em;\n",
       "    font-style: italic;\n",
       "}\n",
       "</style>\n"
      ],
      "text/plain": [
       "<IPython.core.display.HTML object>"
      ]
     },
     "execution_count": 5,
     "metadata": {},
     "output_type": "execute_result"
    }
   ],
   "source": [
    "# DELETE BEFORE PUBLISHING\n",
    "# This is just here so you can preview the styling on your local machine\n",
    "\n",
    "from IPython.core.display import HTML\n",
    "HTML(\"\"\"\n",
    "<style>\n",
    ".usecase-title, .usecase-duration, .usecase-section-header {\n",
    "    padding-left: 15px;\n",
    "    padding-bottom: 10px;\n",
    "    padding-top: 10px;\n",
    "    padding-right: 15px;\n",
    "    background-color: #0f9295;\n",
    "    color: #fff;\n",
    "}\n",
    "\n",
    ".usecase-title {\n",
    "    font-size: 1.7em;\n",
    "    font-weight: bold;\n",
    "}\n",
    "\n",
    ".usecase-authors, .usecase-level, .usecase-skill {\n",
    "    padding-left: 15px;\n",
    "    padding-bottom: 7px;\n",
    "    padding-top: 7px;\n",
    "    background-color: #baeaeb;\n",
    "    font-size: 1.4em;\n",
    "    color: #121212;\n",
    "}\n",
    "\n",
    ".usecase-level-skill  {\n",
    "    display: flex;\n",
    "}\n",
    "\n",
    ".usecase-level, .usecase-skill {\n",
    "    width: 50%;\n",
    "}\n",
    "\n",
    ".usecase-duration, .usecase-skill {\n",
    "    text-align: right;\n",
    "    padding-right: 15px;\n",
    "    padding-bottom: 8px;\n",
    "    font-size: 1.4em;\n",
    "}\n",
    "\n",
    ".usecase-section-header {\n",
    "    font-weight: bold;\n",
    "    font-size: 1.5em;\n",
    "}\n",
    "\n",
    ".usecase-subsection-header, .usecase-subsection-blurb {\n",
    "    font-weight: bold;\n",
    "    font-size: 1.2em;\n",
    "    color: #121212;\n",
    "}\n",
    "\n",
    ".usecase-subsection-blurb {\n",
    "    font-size: 1em;\n",
    "    font-style: italic;\n",
    "}\n",
    "</style>\n",
    "\"\"\")"
   ]
  },
  {
   "cell_type": "markdown",
   "metadata": {},
   "source": [
    "<div class=\"usecase-title\">{Use Case Name}</div>\n",
    "\n",
    "<div class=\"usecase-authors\"><b>Authored by: </b> {Author/s}</div>"
   ]
  },
  {
   "cell_type": "markdown",
   "metadata": {},
   "source": [
    "<div class=\"usecase-duration\"><b>Duration:</b> {90} mins</div>\n",
    "\n",
    "<div class=\"usecase-level-skill\">\n",
    "    <div class=\"usecase-level\"><b>Level: </b>{Intermediate}</div>\n",
    "    <div class=\"usecase-skill\"><b>Pre-requisite Skills: </b>{Python, and add any more skills needed}</div>\n",
    "</div>"
   ]
  },
  {
   "cell_type": "markdown",
   "metadata": {},
   "source": [
    "<div class=\"usecase-section-header\">Scenario</div>"
   ]
  },
  {
   "cell_type": "markdown",
   "metadata": {},
   "source": [
    "{Using User Story format, write a description of the problem you are trying to solve for this use case.}"
   ]
  },
  {
   "cell_type": "markdown",
   "metadata": {},
   "source": [
    "<div class=\"usecase-section-header\">What this use case will teach you</div>"
   ]
  },
  {
   "cell_type": "markdown",
   "metadata": {},
   "source": [
    "At the end of this use case you will:\n",
    "- {list the skills demonstrated in your use case}"
   ]
  },
  {
   "cell_type": "markdown",
   "metadata": {},
   "source": [
    "<div class=\"usecase-section-header\">{Heading for introduction or background relating to problem}</div>"
   ]
  },
  {
   "cell_type": "markdown",
   "metadata": {},
   "source": [
    "{Write your introduction here. Keep it concise. We're not after \"War and Peace\" but enough background information to inform the reader on the rationale for solving this problem or background non-technical information that helps explain the approach. You may also wish to give information on the datasets, particularly how to source those not being imported from the client's open data portal.}\n",
    "\n"
   ]
  },
  {
   "cell_type": "code",
   "execution_count": 1,
   "metadata": {},
   "outputs": [],
   "source": [
    "import requests\n",
    "import pandas as pd\n",
    "import numpy as np\n",
    "from io import StringIO\n",
    "import seaborn as sns\n",
    "import matplotlib.pyplot as plt"
   ]
  },
  {
   "cell_type": "code",
   "execution_count": 3,
   "metadata": {},
   "outputs": [
    {
     "name": "stdout",
     "output_type": "stream",
     "text": [
      "                              geo_point_2d  \\\n",
      "0   -37.77506304683423, 144.93898465421296   \n",
      "1  -37.775132956993566, 144.93979253397976   \n",
      "2   -37.77515941768105, 144.93986878938023   \n",
      "3   -37.775130649990984, 144.9389679196713   \n",
      "4   -37.77518700935825, 144.93875479828375   \n",
      "5    -37.77519588721749, 144.9400498374677   \n",
      "6     -37.77523198796972, 144.939139783017   \n",
      "7     -37.7877402517759, 144.9630187754576   \n",
      "8   -37.77531133181187, 144.93995080107067   \n",
      "9   -37.78099284465387, 144.91549621280674   \n",
      "\n",
      "                                           geo_shape  \n",
      "0  {\"coordinates\": [[[[144.9389624164712, -37.775...  \n",
      "1  {\"coordinates\": [[[[144.93978541786475, -37.77...  \n",
      "2  {\"coordinates\": [[[[144.93986368038625, -37.77...  \n",
      "3  {\"coordinates\": [[[[144.93894119058956, -37.77...  \n",
      "4  {\"coordinates\": [[[[144.93877858274755, -37.77...  \n",
      "5  {\"coordinates\": [[[[144.94001353302923, -37.77...  \n",
      "6  {\"coordinates\": [[[[144.93913191868984, -37.77...  \n",
      "7  {\"coordinates\": [[[[144.96296951252782, -37.78...  \n",
      "8  {\"coordinates\": [[[[144.93994420827104, -37.77...  \n",
      "9  {\"coordinates\": [[[[144.91549518501083, -37.78...  \n"
     ]
    }
   ],
   "source": [
    "base_url='https://data.melbourne.vic.gov.au/api/explore/v2.1/catalog/datasets/'\n",
    "dataset_id='tree-canopies-2021-urban-forest'\n",
    "\n",
    "\n",
    "url=f'{base_url}{dataset_id}/exports/csv'\n",
    "params={'select':'*','limit':-1,'lang':'en','timezone':'UTC'}\n",
    "\n",
    "response=requests.get(url,params=params)\n",
    "\n",
    "if response.status_code==200:\n",
    "    url_content=response.content.decode('utf-8')\n",
    "    canopy_2021=pd.read_csv(StringIO(url_content),delimiter=';')\n",
    "    print(canopy_2021.head(10))\n",
    "else:\n",
    "    print(f'Request failed with status code {response.status_code}')"
   ]
  },
  {
   "cell_type": "code",
   "execution_count": 4,
   "metadata": {},
   "outputs": [
    {
     "name": "stdout",
     "output_type": "stream",
     "text": [
      "                              geo_point_2d  \\\n",
      "0  -37.806939661373356, 144.94525884712138   \n",
      "1   -37.80696249351158, 144.94871645633398   \n",
      "2   -37.80695305356777, 144.94666702574662   \n",
      "3   -37.80686661161844, 144.94324549515883   \n",
      "4   -37.80676649515245, 144.93740058973637   \n",
      "5   -37.80728115533656, 144.96583090095476   \n",
      "6    -37.80677399539525, 144.9368268115774   \n",
      "7     -37.8072147454235, 144.9623418560369   \n",
      "8   -37.80736894582776, 144.97144239399995   \n",
      "9  -37.807246670404545, 144.96473046094926   \n",
      "\n",
      "                                           geo_shape     id  \n",
      "0  {\"coordinates\": [[[144.945262941, -37.80694305...  60528  \n",
      "1  {\"coordinates\": [[[144.948703227, -37.80698951...  60513  \n",
      "2  {\"coordinates\": [[[144.9466682286, -37.8069540...  60512  \n",
      "3  {\"coordinates\": [[[144.943239676, -37.80689421...  60511  \n",
      "4  {\"coordinates\": [[[144.9374100872, -37.8067899...  60510  \n",
      "5  {\"coordinates\": [[[144.9658321041, -37.8072821...  60508  \n",
      "6  {\"coordinates\": [[[144.9368256089, -37.8067729...  60503  \n",
      "7  {\"coordinates\": [[[144.9623440158, -37.8072173...  60500  \n",
      "8  {\"coordinates\": [[[144.9714435972, -37.8073699...  60496  \n",
      "9  {\"coordinates\": [[[144.9647340703, -37.8072496...  60486  \n"
     ]
    }
   ],
   "source": [
    "base_url='https://data.melbourne.vic.gov.au/api/explore/v2.1/catalog/datasets/'\n",
    "dataset_id='tree-canopies-2019'\n",
    "\n",
    "\n",
    "url=f'{base_url}{dataset_id}/exports/csv'\n",
    "params={'select':'*','limit':-1,'lang':'en','timezone':'UTC'}\n",
    "\n",
    "response=requests.get(url,params=params)\n",
    "\n",
    "if response.status_code==200:\n",
    "    url_content=response.content.decode('utf-8')\n",
    "    canopy_2019=pd.read_csv(StringIO(url_content),delimiter=';')\n",
    "    print(canopy_2019.head(10))\n",
    "else:\n",
    "    print(f'Request failed with status code {response.status_code}')"
   ]
  },
  {
   "cell_type": "code",
   "execution_count": 5,
   "metadata": {},
   "outputs": [
    {
     "name": "stdout",
     "output_type": "stream",
     "text": [
      "                              geo_point_2d  \\\n",
      "0    -37.8030612625994, 144.96879535330316   \n",
      "1    -37.81979235869452, 144.9675112730786   \n",
      "2  -37.796602429685905, 144.96990674715127   \n",
      "3    -37.79774465832566, 144.9502620746376   \n",
      "4    -37.81652483951976, 144.9864951838192   \n",
      "5   -37.80052529463123, 144.97301577291447   \n",
      "6   -37.80320423406633, 144.96274342342963   \n",
      "7   -37.80458396557453, 144.95387035874043   \n",
      "8    -37.80577394795748, 144.9645540416368   \n",
      "9    -37.79087369913382, 144.9301190541952   \n",
      "\n",
      "                                           geo_shape  str_from  segpart  \\\n",
      "0  {\"coordinates\": [[[[144.969387175266, -37.8029...       NaN      NaN   \n",
      "1  {\"coordinates\": [[[[144.96828098035, -37.81969...       NaN      NaN   \n",
      "2  {\"coordinates\": [[[[144.969341164027, -37.7965...       NaN      NaN   \n",
      "3  {\"coordinates\": [[[[144.950283591209, -37.7975...       NaN      NaN   \n",
      "4  {\"coordinates\": [[[[144.986101797552, -37.8163...       NaN      NaN   \n",
      "5  {\"coordinates\": [[[[144.97346041968, -37.80048...       NaN      NaN   \n",
      "6  {\"coordinates\": [[[[144.963299976829, -37.8033...       NaN      NaN   \n",
      "7  {\"coordinates\": [[[[144.953636628275, -37.8049...       NaN      NaN   \n",
      "8  {\"coordinates\": [[[[144.964686905857, -37.8060...       NaN      NaN   \n",
      "9  {\"coordinates\": [[[[144.930311886162, -37.7911...       NaN      NaN   \n",
      "\n",
      "   statusid  segid  streetname  streetid                         schedule  \\\n",
      "0       NaN  21556         NaN       NaN  Not determined by precinct plan   \n",
      "1       NaN  22067         NaN       NaN                     Years 8 - 10   \n",
      "2       NaN  20697         NaN       NaN                      Years 5 - 7   \n",
      "3       NaN  21195         NaN       NaN                         Complete   \n",
      "4       NaN  21945         NaN       NaN  Not determined by precinct plan   \n",
      "5       NaN  20603         NaN       NaN  Not determined by precinct plan   \n",
      "6       NaN  20838         NaN       NaN  Not determined by precinct plan   \n",
      "7       NaN  20956         NaN       NaN                         Complete   \n",
      "8       NaN  20504         NaN       NaN                     Years 8 - 10   \n",
      "9       NaN  22997         NaN       NaN                     Years 8 - 10   \n",
      "\n",
      "   mapstatus  str_to                                           segdescr  \n",
      "0        NaN     NaN  Pelham Street between Rathdowne Street and Dru...  \n",
      "1        NaN     NaN  Riverside Avenue between St Kilda Road and Sou...  \n",
      "2        NaN     NaN  Little Palmerston Street between Rathdowne Str...  \n",
      "3        NaN     NaN  Chapman Street between Errol Street and Harker...  \n",
      "4        NaN     NaN  Wellington Parade between Simpson Street and P...  \n",
      "5        NaN     NaN  Owen Street between Barrup Street and Canning ...  \n",
      "6        NaN     NaN  Lincoln Square South between Swanston Street a...  \n",
      "7        NaN     NaN  Howard Street between Victoria Street and Quee...  \n",
      "8        NaN     NaN  Cardigan Street between Victoria Street and Qu...  \n",
      "9        NaN     NaN  Eastwood Street between Mulgrave Street and Sm...  \n"
     ]
    }
   ],
   "source": [
    "base_url='https://data.melbourne.vic.gov.au/api/explore/v2.1/catalog/datasets/'\n",
    "dataset_id='tree-planting-zone-schedules-with-years-urban-forest'\n",
    "\n",
    "\n",
    "url=f'{base_url}{dataset_id}/exports/csv'\n",
    "params={'select':'*','limit':-1,'lang':'en','timezone':'UTC'}\n",
    "\n",
    "response=requests.get(url,params=params)\n",
    "\n",
    "if response.status_code==200:\n",
    "    url_content=response.content.decode('utf-8')\n",
    "    zones=pd.read_csv(StringIO(url_content),delimiter=';')\n",
    "    print(zones.head(10))\n",
    "else:\n",
    "    print(f'Request failed with status code {response.status_code}')"
   ]
  },
  {
   "cell_type": "code",
   "execution_count": null,
   "metadata": {},
   "outputs": [],
   "source": []
  }
 ],
 "metadata": {
  "kernelspec": {
   "display_name": "Python 3 (ipykernel)",
   "language": "python",
   "name": "python3"
  },
  "language_info": {
   "codemirror_mode": {
    "name": "ipython",
    "version": 3
   },
   "file_extension": ".py",
   "mimetype": "text/x-python",
   "name": "python",
   "nbconvert_exporter": "python",
   "pygments_lexer": "ipython3",
   "version": "3.8.19"
  },
  "vscode": {
   "interpreter": {
    "hash": "369f2c481f4da34e4445cda3fffd2e751bd1c4d706f27375911949ba6bb62e1c"
   }
  }
 },
 "nbformat": 4,
 "nbformat_minor": 4
}
