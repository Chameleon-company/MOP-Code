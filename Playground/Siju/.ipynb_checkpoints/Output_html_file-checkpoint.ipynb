{
 "cells": [
  {
   "cell_type": "markdown",
   "id": "40b0e1a4-f7c4-498c-9983-ad2c064a031f",
   "metadata": {},
   "source": [
    "This file can output notebook as html by nbconvert. Please follow the steps. There may be warnings. This doesn't necessarily mean the output failed, check the folder first. Final, carefully compare the html output with to prevent content loss."
   ]
  },
  {
   "cell_type": "code",
   "execution_count": null,
   "id": "eaa73bdb-31ad-4d90-8451-e9f56ca3748e",
   "metadata": {},
   "outputs": [],
   "source": [
    "# If nbconvert is not installed, please install it first. \n",
    "# This can run in colab and jupyter\n",
    "\n",
    "!pip install nbconvert"
   ]
  },
  {
   "cell_type": "markdown",
   "id": "96e6cc85-048a-47f9-b65c-c8df030ad2ef",
   "metadata": {},
   "source": [
    "local"
   ]
  },
  {
   "cell_type": "code",
   "execution_count": 2,
   "id": "8aa58669-3bb4-40be-bff1-44f041cd1a4c",
   "metadata": {},
   "outputs": [
    {
     "name": "stderr",
     "output_type": "stream",
     "text": [
      "[NbConvertApp] Converting notebook C:\\Users\\asas3\\OneDrive\\Desktop\\782\\Chameleon Company Code\\MOP-Code\\datascience\\usecases\\READY TO PUBLISH\\T3 2023\\demo file is not a real case\\demo file is not a real case.ipynb to html\n",
      "[NbConvertApp] Writing 574574 bytes to C:\\Users\\asas3\\OneDrive\\Desktop\\782\\Chameleon Company Code\\MOP-Code\\datascience\\usecases\\READY TO PUBLISH\\T3 2023\\demo file is not a real case\\demo file is not a real case.html\n"
     ]
    }
   ],
   "source": [
    "# If you are running locally, such as jupyter, please copy the address of the file you want to convert. \n",
    "# This file address is the address containing the drive letter, \n",
    "# and the download or address copied in jupyterlab cannot be used. \n",
    "# Please copy the address via file manager.\n",
    "# Replace the address within \"\"\n",
    "# html will be generated in the folder where the target file is located.\n",
    "\n",
    "!jupyter nbconvert --to html \"C:\\Users..\\***.ipynb\""
   ]
  },
  {
   "cell_type": "markdown",
   "id": "25c1dd81-c601-4bbb-9a8b-d0cb9a442a9c",
   "metadata": {},
   "source": [
    "colab"
   ]
  },
  {
   "cell_type": "code",
   "execution_count": null,
   "id": "68ab1704-8a63-4fa0-83b0-9e38ff11c0a0",
   "metadata": {},
   "outputs": [],
   "source": [
    "# In colab are different\n",
    "# First load the cloud disk\n",
    "\n",
    "from google.colab import drive\n",
    "drive.mount('/content/drive')"
   ]
  },
  {
   "cell_type": "code",
   "execution_count": null,
   "id": "0447fea8-dc06-4498-939d-776d8766de5e",
   "metadata": {},
   "outputs": [],
   "source": [
    "# Then it can be accessed through the folder icon in the left sidebar.\n",
    "# drive/MyDrive is your personal cloud drive.\n",
    "# Find your file through the right sidebar, then right-click to copy the address.\n",
    "# Replace the address within \"\"\n",
    "# html will be generated in the folder where the target file is located.\n",
    "\n",
    "!jupyter nbconvert --to html \"/content/drive/MyDrive/Colab Notebooks/.../***.ipynb\""
   ]
  }
 ],
 "metadata": {
  "kernelspec": {
   "display_name": "Python 3 (ipykernel)",
   "language": "python",
   "name": "python3"
  },
  "language_info": {
   "codemirror_mode": {
    "name": "ipython",
    "version": 3
   },
   "file_extension": ".py",
   "mimetype": "text/x-python",
   "name": "python",
   "nbconvert_exporter": "python",
   "pygments_lexer": "ipython3",
   "version": "3.11.5"
  }
 },
 "nbformat": 4,
 "nbformat_minor": 5
}
