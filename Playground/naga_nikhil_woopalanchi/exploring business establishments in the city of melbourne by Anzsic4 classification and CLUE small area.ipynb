{
 "cells": [
  {
   "cell_type": "markdown",
   "metadata": {},
   "source": [
    "<div class=\"usecase-title\">Exploring Business Establishments in the City of Melbourne by ANZSIC4 Classification and CLUE Small Area</div>\n",
    "\n",
    "<div class=\"usecase-authors\"><b>Authored by: </b> Naga Nikhil Woopalanchi</div>"
   ]
  },
  {
   "cell_type": "markdown",
   "metadata": {},
   "source": [
    "<div class=\"usecase-duration\"><b>Duration:</b> {90} mins</div>\n",
    "\n",
    "<div class=\"usecase-level-skill\">\n",
    "    <div class=\"usecase-level\"><b>Level: </b>{Intermediate}</div>\n",
    "    <div class=\"usecase-skill\"><b>Pre-requisite Skills: </b>{Python, and add any more skills needed}</div>\n",
    "</div>"
   ]
  },
  {
   "cell_type": "markdown",
   "metadata": {},
   "source": [
    "<div class=\"usecase-section-header\">Scenario</div>"
   ]
  },
  {
   "cell_type": "markdown",
   "metadata": {},
   "source": [
    "write a description of the problem you are trying to solve for this use case{Using User Story format, .}"
   ]
  },
  {
   "cell_type": "markdown",
   "metadata": {},
   "source": [
    "<div class=\"usecase-section-header\">What this use case will teach you</div>"
   ]
  },
  {
   "cell_type": "markdown",
   "metadata": {},
   "source": [
    "write a description of the problem you are trying to solve for this use case{Using User Story format, .}"
   ]
  },
  {
   "cell_type": "markdown",
   "metadata": {},
   "source": [
    "At the end of this use case you will:\n",
    "- {list the skills demonstrated in your use case}"
   ]
  },
  {
   "cell_type": "markdown",
   "metadata": {},
   "source": [
    "<div class=\"usecase-section-header\">{Heading for introduction or background relating to problem}</div>"
   ]
  },
  {
   "cell_type": "markdown",
   "metadata": {},
   "source": [
    "{Write your introduction here. Keep it concise. We're not after \"War and Peace\" but enough background information to inform the reader on the rationale for solving this problem or background non-technical information that helps explain the approach. You may also wish to give information on the datasets, particularly how to source those not being imported from the client's open data portal.}\n",
    "\n"
   ]
  },
  {
   "cell_type": "markdown",
   "metadata": {},
   "source": [
    "# Importing Libraries"
   ]
  },
  {
   "cell_type": "markdown",
   "metadata": {},
   "source": [
    "Importing the required python modules "
   ]
  },
  {
   "cell_type": "code",
   "execution_count": 100,
   "metadata": {},
   "outputs": [],
   "source": [
    "import warnings\n",
    "warnings.filterwarnings(\"ignore\")\n",
    "\n",
    "import requests\n",
    "import numpy as np\n",
    "import pandas as pd\n",
    "from io import StringIO\n",
    "import matplotlib.pyplot as plt\n",
    "import matplotlib.patches as mpatches\n",
    "import geopandas as gpd\n",
    "from shapely.geometry import Point\n",
    "import holoviews as hv\n",
    "import folium"
   ]
  },
  {
   "cell_type": "code",
   "execution_count": 101,
   "metadata": {},
   "outputs": [
    {
     "name": "stdout",
     "output_type": "stream",
     "text": [
      "   census_year               clue_small_area  \\\n",
      "0         2015  West Melbourne (Residential)   \n",
      "1         2015  West Melbourne (Residential)   \n",
      "2         2015  West Melbourne (Residential)   \n",
      "3         2015  West Melbourne (Residential)   \n",
      "4         2015  West Melbourne (Residential)   \n",
      "5         2015  West Melbourne (Residential)   \n",
      "6         2014                       Carlton   \n",
      "7         2014                       Carlton   \n",
      "8         2014                       Carlton   \n",
      "9         2014                       Carlton   \n",
      "\n",
      "                                   anzsic_indusrty  \\\n",
      "0                Health Care and Social Assistance   \n",
      "1                                    Manufacturing   \n",
      "2                                    Manufacturing   \n",
      "3  Professional, Scientific and Technical Services   \n",
      "4          Rental, Hiring and Real Estate Services   \n",
      "5                                  Wholesale Trade   \n",
      "6              Administrative and Support Services   \n",
      "7                                     Construction   \n",
      "8                 Financial and Insurance Services   \n",
      "9                 Financial and Insurance Services   \n",
      "\n",
      "                       clue_industry    business_size  total_establishments  \\\n",
      "0  Health Care and Social Assistance   Large business                     1   \n",
      "1                      Manufacturing  Medium business                     5   \n",
      "2                      Manufacturing    Non employing                     1   \n",
      "3                  Business Services    Non employing                     3   \n",
      "4               Real Estate Services   Small business                     5   \n",
      "5                    Wholesale Trade    Non employing                     2   \n",
      "6         Admin and Support Services  Medium business                     7   \n",
      "7                       Construction   Small business                    11   \n",
      "8              Finance and Insurance  Medium business                     5   \n",
      "9              Finance and Insurance   Small business                    35   \n",
      "\n",
      "   total_jobs  \n",
      "0         NaN  \n",
      "1       171.0  \n",
      "2         NaN  \n",
      "3         0.0  \n",
      "4        42.0  \n",
      "5         NaN  \n",
      "6       209.0  \n",
      "7        55.0  \n",
      "8       315.0  \n",
      "9       216.0  \n"
     ]
    }
   ],
   "source": [
    "# Business establishments and jobs data by business size and industry\n",
    "\n",
    "base_url='https://data.melbourne.vic.gov.au/api/explore/v2.1/catalog/datasets/'\n",
    "dataset_id='business-establishments-and-jobs-data-by-business-size-and-industry'\n",
    "\n",
    "\n",
    "url=f'{base_url}{dataset_id}/exports/csv'\n",
    "params={'select':'*','limit':-1,'lang':'en','timezone':'UTC' }\n",
    "\n",
    "response=requests.get(url,params=params)\n",
    "\n",
    "if response.status_code==200:\n",
    "    url_content=response.content.decode('utf-8')\n",
    "    # Renaming the dataset as bizsize_industry jobs \n",
    "    bizsize_industryjobs=pd.read_csv(StringIO(url_content),delimiter=';')   \n",
    "    print(bizsize_industryjobs.head(10))\n",
    "else:\n",
    "    print(f'Request failed with status code {response.status_code}')"
   ]
  },
  {
   "cell_type": "code",
   "execution_count": 102,
   "metadata": {},
   "outputs": [
    {
     "name": "stdout",
     "output_type": "stream",
     "text": [
      "   census_year  block_id  property_id  base_property_id  clue_small_area  \\\n",
      "0         2003       105       100172            100172  Melbourne (CBD)   \n",
      "1         2003       105       103301            103301  Melbourne (CBD)   \n",
      "2         2003       105       103302            103302  Melbourne (CBD)   \n",
      "3         2003       105       103302            103302  Melbourne (CBD)   \n",
      "4         2003       105       103302            103302  Melbourne (CBD)   \n",
      "5         2003       105       103302            103302  Melbourne (CBD)   \n",
      "6         2003       105       103302            103302  Melbourne (CBD)   \n",
      "7         2003       105       103302            103302  Melbourne (CBD)   \n",
      "8         2003       105       103302            103302  Melbourne (CBD)   \n",
      "9         2003       105       109319            109319  Melbourne (CBD)   \n",
      "\n",
      "                                        trading_name  \\\n",
      "0                           Wilson Parking Australia   \n",
      "1                Melbourne International Backpackers   \n",
      "2                                             Vacant   \n",
      "3                                    The Garden Cafe   \n",
      "4                                Telephony Australia   \n",
      "5                                       Nokia Centre   \n",
      "6            Royal Melbourne Institute of Technology   \n",
      "7                                             Mistas   \n",
      "8  Australian Services Union Taxation Officers Br...   \n",
      "9                                    RMIT University   \n",
      "\n",
      "                                    business_address  industry_anzsic4_code  \\\n",
      "0              24-46 A'Beckett Street MELBOURNE 3000                   9533   \n",
      "1            442-450 Elizabeth Street MELBOURNE 3000                   4400   \n",
      "2            422-440 Elizabeth Street MELBOURNE 3000                      0   \n",
      "3  Shop 3, Ground , 422-440 Elizabeth Street MELB...                   4511   \n",
      "4  Shop 5, Ground , 422-440 Elizabeth Street MELB...                   5809   \n",
      "5  Shop 2, Ground , 422-440 Elizabeth Street MELB...                   5809   \n",
      "6            422-440 Elizabeth Street MELBOURNE 3000                   8102   \n",
      "7  Part Level 3, 440 Elizabeth Street MELBOURNE 3000                   6962   \n",
      "8  Part Level 3, 440 Elizabeth Street MELBOURNE 3000                   9552   \n",
      "9        Floor 1, 449 Swanston Street MELBOURNE 3000                   8102   \n",
      "\n",
      "                      industry_anzsic4_description   longitude   latitude  \n",
      "0                                 Parking Services  144.962053 -37.808573  \n",
      "1                                    Accommodation  144.960868 -37.808309  \n",
      "2                                     Vacant Space  144.961017 -37.808630  \n",
      "3                            Cafes and Restaurants  144.961017 -37.808630  \n",
      "4                Other Telecommunications Services  144.961017 -37.808630  \n",
      "5                Other Telecommunications Services  144.961017 -37.808630  \n",
      "6                                 Higher Education  144.961017 -37.808630  \n",
      "7  Management Advice and Other Consulting Services  144.961017 -37.808630  \n",
      "8                      Labour Association Services  144.961017 -37.808630  \n",
      "9                                 Higher Education  144.962602 -37.808052  \n"
     ]
    }
   ],
   "source": [
    "# Business establishments with address and industry classification\n",
    "\n",
    "base_url='https://data.melbourne.vic.gov.au/api/explore/v2.1/catalog/datasets/'\n",
    "dataset_id='business-establishments-with-address-and-industry-classification'\n",
    "\n",
    "\n",
    "url=f'{base_url}{dataset_id}/exports/csv'\n",
    "params={'select':'*','limit':-1,'lang':'en','timezone':'UTC'}\n",
    "\n",
    "response=requests.get(url,params=params)\n",
    "\n",
    "if response.status_code==200:\n",
    "    url_content=response.content.decode('utf-8')\n",
    "    # Renaming the dataset as bizaddressindustry\n",
    "    bizaddressindustry=pd.read_csv(StringIO(url_content),delimiter=';')    \n",
    "    print(bizaddressindustry.head(10))\n",
    "else:\n",
    "    print(f'Request failed with status code {response.status_code}')"
   ]
  },
  {
   "cell_type": "code",
   "execution_count": 103,
   "metadata": {},
   "outputs": [
    {
     "name": "stdout",
     "output_type": "stream",
     "text": [
      "                         geo_point_2d  \\\n",
      "0  -37.802381557572, 144.941473440919   \n",
      "1  -37.816860132435, 144.969991449806   \n",
      "2  -37.798830275265, 144.942872100233   \n",
      "3  -37.810546771396, 144.970906397029   \n",
      "4  -37.789293657657, 144.939794028368   \n",
      "5  -37.800782747366, 144.951363910142   \n",
      "6  -37.826775193662, 144.959358160779   \n",
      "7  -37.810925617843, 144.965443591832   \n",
      "8   -37.81275302482, 144.964263891172   \n",
      "9   -37.821209833971, 144.95403377339   \n",
      "\n",
      "                                           geo_shape  suburb_id   latitude  \\\n",
      "0  {\"coordinates\": [144.941473440919, -37.8023815...      592.0 -37.802382   \n",
      "1  {\"coordinates\": [144.969991449806, -37.8168601...      591.0 -37.816860   \n",
      "2  {\"coordinates\": [144.942872100233, -37.7988302...      592.0 -37.798830   \n",
      "3  {\"coordinates\": [144.970906397029, -37.8105467...      591.0 -37.810547   \n",
      "4  {\"coordinates\": [144.939794028368, -37.7892936...      592.0 -37.789294   \n",
      "5  {\"coordinates\": [144.951363910142, -37.8007827...      592.0 -37.800783   \n",
      "6  {\"coordinates\": [144.959358160779, -37.8267751...      596.0 -37.826775   \n",
      "7  {\"coordinates\": [144.965443591832, -37.8109256...      591.0 -37.810926   \n",
      "8  {\"coordinates\": [144.964263891172, -37.8127530...      591.0 -37.812753   \n",
      "9  {\"coordinates\": [144.95403377339, -37.82120983...      599.0 -37.821210   \n",
      "\n",
      "  street_no              str_name                          address_pnt  \\\n",
      "0       133        Laurens Street  133 Laurens Street  North Melbourne   \n",
      "1       129       Flinders Street       129 Flinders Street  Melbourne   \n",
      "2        44         Macaulay Road    44 Macaulay Road  North Melbourne   \n",
      "3        13            Punch Lane             13 Punch Lane  Melbourne   \n",
      "4        61       Racecourse Road  61 Racecourse Road  North Melbourne   \n",
      "5       133        Leveson Street  133 Leveson Street  North Melbourne   \n",
      "6       263             City Road             263 City Road  Southbank   \n",
      "7         3    Albert Coates Lane      3 Albert Coates Lane  Melbourne   \n",
      "8       280  Little Bourke Street  280 Little Bourke Street  Melbourne   \n",
      "9       612       Flinders Street       612 Flinders Street  Docklands   \n",
      "\n",
      "         easting      northing  gisid   longitude           suburb  street_id  \\\n",
      "0  318773.161972  5.814115e+06  48531  144.941473  North Melbourne        781   \n",
      "1  321318.983104  5.812563e+06  37711  144.969991        Melbourne        636   \n",
      "2  318887.633593  5.814512e+06  30476  144.942872  North Melbourne        847   \n",
      "3  321384.307636  5.813265e+06  35165  144.970906        Melbourne       1003   \n",
      "4  318593.277492  5.815564e+06  22247  144.939794  North Melbourne     119624   \n",
      "5  319640.094405  5.814311e+06  54777  144.951364  North Melbourne        791   \n",
      "6  320406.983288  5.811443e+06  46380  144.959358        Southbank       1345   \n",
      "7  320904.296420  5.813213e+06  14049  144.965444        Melbourne     117923   \n",
      "8  320804.859001  5.813008e+06  28925  144.964264        Melbourne        809   \n",
      "9  319924.815030  5.812050e+06   1278  144.954034        Docklands        636   \n",
      "\n",
      "  add_comp  \n",
      "0      NaN  \n",
      "1      NaN  \n",
      "2      NaN  \n",
      "3      NaN  \n",
      "4      NaN  \n",
      "5      NaN  \n",
      "6      NaN  \n",
      "7      NaN  \n",
      "8      NaN  \n",
      "9      NaN  \n"
     ]
    }
   ],
   "source": [
    "# Street address\n",
    "\n",
    "base_url='https://data.melbourne.vic.gov.au/api/explore/v2.1/catalog/datasets/'\n",
    "dataset_id='street-addresses'\n",
    "\n",
    "\n",
    "url=f'{base_url}{dataset_id}/exports/csv'\n",
    "params={'select':'*','limit':-1,'lang':'en','timezone':'UTC'}\n",
    "\n",
    "response=requests.get(url,params=params)\n",
    "\n",
    "if response.status_code==200:\n",
    "    url_content=response.content.decode('utf-8')\n",
    "    street_add=pd.read_csv(StringIO(url_content),delimiter=';')  #renaming dataset\n",
    "    print(street_add.head(10))\n",
    "else:\n",
    "    print(f'Request failed with status code {response.status_code}')"
   ]
  },
  {
   "cell_type": "markdown",
   "metadata": {},
   "source": [
    "# Preprocessing  street_add"
   ]
  },
  {
   "cell_type": "markdown",
   "metadata": {},
   "source": [
    "## Street_add"
   ]
  },
  {
   "cell_type": "markdown",
   "metadata": {},
   "source": [
    "A snippet of the street addresses dataset "
   ]
  },
  {
   "cell_type": "code",
   "execution_count": 104,
   "metadata": {},
   "outputs": [
    {
     "data": {
      "text/html": [
       "<div>\n",
       "<style scoped>\n",
       "    .dataframe tbody tr th:only-of-type {\n",
       "        vertical-align: middle;\n",
       "    }\n",
       "\n",
       "    .dataframe tbody tr th {\n",
       "        vertical-align: top;\n",
       "    }\n",
       "\n",
       "    .dataframe thead th {\n",
       "        text-align: right;\n",
       "    }\n",
       "</style>\n",
       "<table border=\"1\" class=\"dataframe\">\n",
       "  <thead>\n",
       "    <tr style=\"text-align: right;\">\n",
       "      <th></th>\n",
       "      <th>geo_point_2d</th>\n",
       "      <th>geo_shape</th>\n",
       "      <th>suburb_id</th>\n",
       "      <th>latitude</th>\n",
       "      <th>street_no</th>\n",
       "      <th>str_name</th>\n",
       "      <th>address_pnt</th>\n",
       "      <th>easting</th>\n",
       "      <th>northing</th>\n",
       "      <th>gisid</th>\n",
       "      <th>longitude</th>\n",
       "      <th>suburb</th>\n",
       "      <th>street_id</th>\n",
       "      <th>add_comp</th>\n",
       "    </tr>\n",
       "  </thead>\n",
       "  <tbody>\n",
       "    <tr>\n",
       "      <th>0</th>\n",
       "      <td>-37.802381557572, 144.941473440919</td>\n",
       "      <td>{\"coordinates\": [144.941473440919, -37.8023815...</td>\n",
       "      <td>592.0</td>\n",
       "      <td>-37.802382</td>\n",
       "      <td>133</td>\n",
       "      <td>Laurens Street</td>\n",
       "      <td>133 Laurens Street  North Melbourne</td>\n",
       "      <td>318773.161972</td>\n",
       "      <td>5.814115e+06</td>\n",
       "      <td>48531</td>\n",
       "      <td>144.941473</td>\n",
       "      <td>North Melbourne</td>\n",
       "      <td>781</td>\n",
       "      <td>NaN</td>\n",
       "    </tr>\n",
       "    <tr>\n",
       "      <th>1</th>\n",
       "      <td>-37.816860132435, 144.969991449806</td>\n",
       "      <td>{\"coordinates\": [144.969991449806, -37.8168601...</td>\n",
       "      <td>591.0</td>\n",
       "      <td>-37.816860</td>\n",
       "      <td>129</td>\n",
       "      <td>Flinders Street</td>\n",
       "      <td>129 Flinders Street  Melbourne</td>\n",
       "      <td>321318.983104</td>\n",
       "      <td>5.812563e+06</td>\n",
       "      <td>37711</td>\n",
       "      <td>144.969991</td>\n",
       "      <td>Melbourne</td>\n",
       "      <td>636</td>\n",
       "      <td>NaN</td>\n",
       "    </tr>\n",
       "    <tr>\n",
       "      <th>2</th>\n",
       "      <td>-37.798830275265, 144.942872100233</td>\n",
       "      <td>{\"coordinates\": [144.942872100233, -37.7988302...</td>\n",
       "      <td>592.0</td>\n",
       "      <td>-37.798830</td>\n",
       "      <td>44</td>\n",
       "      <td>Macaulay Road</td>\n",
       "      <td>44 Macaulay Road  North Melbourne</td>\n",
       "      <td>318887.633593</td>\n",
       "      <td>5.814512e+06</td>\n",
       "      <td>30476</td>\n",
       "      <td>144.942872</td>\n",
       "      <td>North Melbourne</td>\n",
       "      <td>847</td>\n",
       "      <td>NaN</td>\n",
       "    </tr>\n",
       "    <tr>\n",
       "      <th>3</th>\n",
       "      <td>-37.810546771396, 144.970906397029</td>\n",
       "      <td>{\"coordinates\": [144.970906397029, -37.8105467...</td>\n",
       "      <td>591.0</td>\n",
       "      <td>-37.810547</td>\n",
       "      <td>13</td>\n",
       "      <td>Punch Lane</td>\n",
       "      <td>13 Punch Lane  Melbourne</td>\n",
       "      <td>321384.307636</td>\n",
       "      <td>5.813265e+06</td>\n",
       "      <td>35165</td>\n",
       "      <td>144.970906</td>\n",
       "      <td>Melbourne</td>\n",
       "      <td>1003</td>\n",
       "      <td>NaN</td>\n",
       "    </tr>\n",
       "    <tr>\n",
       "      <th>4</th>\n",
       "      <td>-37.789293657657, 144.939794028368</td>\n",
       "      <td>{\"coordinates\": [144.939794028368, -37.7892936...</td>\n",
       "      <td>592.0</td>\n",
       "      <td>-37.789294</td>\n",
       "      <td>61</td>\n",
       "      <td>Racecourse Road</td>\n",
       "      <td>61 Racecourse Road  North Melbourne</td>\n",
       "      <td>318593.277492</td>\n",
       "      <td>5.815564e+06</td>\n",
       "      <td>22247</td>\n",
       "      <td>144.939794</td>\n",
       "      <td>North Melbourne</td>\n",
       "      <td>119624</td>\n",
       "      <td>NaN</td>\n",
       "    </tr>\n",
       "  </tbody>\n",
       "</table>\n",
       "</div>"
      ],
      "text/plain": [
       "                         geo_point_2d  \\\n",
       "0  -37.802381557572, 144.941473440919   \n",
       "1  -37.816860132435, 144.969991449806   \n",
       "2  -37.798830275265, 144.942872100233   \n",
       "3  -37.810546771396, 144.970906397029   \n",
       "4  -37.789293657657, 144.939794028368   \n",
       "\n",
       "                                           geo_shape  suburb_id   latitude  \\\n",
       "0  {\"coordinates\": [144.941473440919, -37.8023815...      592.0 -37.802382   \n",
       "1  {\"coordinates\": [144.969991449806, -37.8168601...      591.0 -37.816860   \n",
       "2  {\"coordinates\": [144.942872100233, -37.7988302...      592.0 -37.798830   \n",
       "3  {\"coordinates\": [144.970906397029, -37.8105467...      591.0 -37.810547   \n",
       "4  {\"coordinates\": [144.939794028368, -37.7892936...      592.0 -37.789294   \n",
       "\n",
       "  street_no         str_name                          address_pnt  \\\n",
       "0       133   Laurens Street  133 Laurens Street  North Melbourne   \n",
       "1       129  Flinders Street       129 Flinders Street  Melbourne   \n",
       "2        44    Macaulay Road    44 Macaulay Road  North Melbourne   \n",
       "3        13       Punch Lane             13 Punch Lane  Melbourne   \n",
       "4        61  Racecourse Road  61 Racecourse Road  North Melbourne   \n",
       "\n",
       "         easting      northing  gisid   longitude           suburb  street_id  \\\n",
       "0  318773.161972  5.814115e+06  48531  144.941473  North Melbourne        781   \n",
       "1  321318.983104  5.812563e+06  37711  144.969991        Melbourne        636   \n",
       "2  318887.633593  5.814512e+06  30476  144.942872  North Melbourne        847   \n",
       "3  321384.307636  5.813265e+06  35165  144.970906        Melbourne       1003   \n",
       "4  318593.277492  5.815564e+06  22247  144.939794  North Melbourne     119624   \n",
       "\n",
       "  add_comp  \n",
       "0      NaN  \n",
       "1      NaN  \n",
       "2      NaN  \n",
       "3      NaN  \n",
       "4      NaN  "
      ]
     },
     "execution_count": 104,
     "metadata": {},
     "output_type": "execute_result"
    }
   ],
   "source": [
    "street_add.head()"
   ]
  },
  {
   "cell_type": "code",
   "execution_count": 105,
   "metadata": {},
   "outputs": [
    {
     "data": {
      "text/plain": [
       "(63721, 14)"
      ]
     },
     "execution_count": 105,
     "metadata": {},
     "output_type": "execute_result"
    }
   ],
   "source": [
    "street_add.shape"
   ]
  },
  {
   "cell_type": "markdown",
   "metadata": {},
   "source": [
    "The street address dataset has a total of 63,721 records with a total of 14 features."
   ]
  },
  {
   "cell_type": "code",
   "execution_count": 106,
   "metadata": {},
   "outputs": [
    {
     "data": {
      "text/plain": [
       "Index(['geo_point_2d', 'geo_shape', 'suburb_id', 'latitude', 'street_no',\n",
       "       'str_name', 'address_pnt', 'easting', 'northing', 'gisid', 'longitude',\n",
       "       'suburb', 'street_id', 'add_comp'],\n",
       "      dtype='object')"
      ]
     },
     "execution_count": 106,
     "metadata": {},
     "output_type": "execute_result"
    }
   ],
   "source": [
    "street_add.columns"
   ]
  },
  {
   "cell_type": "markdown",
   "metadata": {},
   "source": [
    "A list of all features in the street address dataset. \n"
   ]
  },
  {
   "cell_type": "code",
   "execution_count": 107,
   "metadata": {},
   "outputs": [],
   "source": [
    "street_add = street_add.drop(['geo_point_2d','geo_shape','easting','northing','gisid'],axis=1)"
   ]
  },
  {
   "cell_type": "markdown",
   "metadata": {},
   "source": [
    "From observing the data snippets, we have remove the following features from the data:\n",
    "1. geo_point_2d\n",
    "2. geo_shape\n",
    "3. easting\n",
    "4. northing\n",
    "5. gisid\n",
    "\n",
    "\n",
    "below is a snippet of the dataset. "
   ]
  },
  {
   "cell_type": "code",
   "execution_count": 108,
   "metadata": {},
   "outputs": [
    {
     "data": {
      "text/html": [
       "<div>\n",
       "<style scoped>\n",
       "    .dataframe tbody tr th:only-of-type {\n",
       "        vertical-align: middle;\n",
       "    }\n",
       "\n",
       "    .dataframe tbody tr th {\n",
       "        vertical-align: top;\n",
       "    }\n",
       "\n",
       "    .dataframe thead th {\n",
       "        text-align: right;\n",
       "    }\n",
       "</style>\n",
       "<table border=\"1\" class=\"dataframe\">\n",
       "  <thead>\n",
       "    <tr style=\"text-align: right;\">\n",
       "      <th></th>\n",
       "      <th>suburb_id</th>\n",
       "      <th>latitude</th>\n",
       "      <th>street_no</th>\n",
       "      <th>str_name</th>\n",
       "      <th>address_pnt</th>\n",
       "      <th>longitude</th>\n",
       "      <th>suburb</th>\n",
       "      <th>street_id</th>\n",
       "      <th>add_comp</th>\n",
       "    </tr>\n",
       "  </thead>\n",
       "  <tbody>\n",
       "    <tr>\n",
       "      <th>0</th>\n",
       "      <td>592.0</td>\n",
       "      <td>-37.802382</td>\n",
       "      <td>133</td>\n",
       "      <td>Laurens Street</td>\n",
       "      <td>133 Laurens Street  North Melbourne</td>\n",
       "      <td>144.941473</td>\n",
       "      <td>North Melbourne</td>\n",
       "      <td>781</td>\n",
       "      <td>NaN</td>\n",
       "    </tr>\n",
       "    <tr>\n",
       "      <th>1</th>\n",
       "      <td>591.0</td>\n",
       "      <td>-37.816860</td>\n",
       "      <td>129</td>\n",
       "      <td>Flinders Street</td>\n",
       "      <td>129 Flinders Street  Melbourne</td>\n",
       "      <td>144.969991</td>\n",
       "      <td>Melbourne</td>\n",
       "      <td>636</td>\n",
       "      <td>NaN</td>\n",
       "    </tr>\n",
       "    <tr>\n",
       "      <th>2</th>\n",
       "      <td>592.0</td>\n",
       "      <td>-37.798830</td>\n",
       "      <td>44</td>\n",
       "      <td>Macaulay Road</td>\n",
       "      <td>44 Macaulay Road  North Melbourne</td>\n",
       "      <td>144.942872</td>\n",
       "      <td>North Melbourne</td>\n",
       "      <td>847</td>\n",
       "      <td>NaN</td>\n",
       "    </tr>\n",
       "    <tr>\n",
       "      <th>3</th>\n",
       "      <td>591.0</td>\n",
       "      <td>-37.810547</td>\n",
       "      <td>13</td>\n",
       "      <td>Punch Lane</td>\n",
       "      <td>13 Punch Lane  Melbourne</td>\n",
       "      <td>144.970906</td>\n",
       "      <td>Melbourne</td>\n",
       "      <td>1003</td>\n",
       "      <td>NaN</td>\n",
       "    </tr>\n",
       "    <tr>\n",
       "      <th>4</th>\n",
       "      <td>592.0</td>\n",
       "      <td>-37.789294</td>\n",
       "      <td>61</td>\n",
       "      <td>Racecourse Road</td>\n",
       "      <td>61 Racecourse Road  North Melbourne</td>\n",
       "      <td>144.939794</td>\n",
       "      <td>North Melbourne</td>\n",
       "      <td>119624</td>\n",
       "      <td>NaN</td>\n",
       "    </tr>\n",
       "    <tr>\n",
       "      <th>...</th>\n",
       "      <td>...</td>\n",
       "      <td>...</td>\n",
       "      <td>...</td>\n",
       "      <td>...</td>\n",
       "      <td>...</td>\n",
       "      <td>...</td>\n",
       "      <td>...</td>\n",
       "      <td>...</td>\n",
       "      <td>...</td>\n",
       "    </tr>\n",
       "    <tr>\n",
       "      <th>63716</th>\n",
       "      <td>0.0</td>\n",
       "      <td>-37.799002</td>\n",
       "      <td>190</td>\n",
       "      <td>Nicholson Street</td>\n",
       "      <td>190 Nicholson Street</td>\n",
       "      <td>144.974876</td>\n",
       "      <td>NaN</td>\n",
       "      <td>931</td>\n",
       "      <td>NaN</td>\n",
       "    </tr>\n",
       "    <tr>\n",
       "      <th>63717</th>\n",
       "      <td>591.0</td>\n",
       "      <td>-37.812386</td>\n",
       "      <td>109</td>\n",
       "      <td>Bourke Street</td>\n",
       "      <td>109 Bourke Street  Melbourne</td>\n",
       "      <td>144.970012</td>\n",
       "      <td>Melbourne</td>\n",
       "      <td>455</td>\n",
       "      <td>NaN</td>\n",
       "    </tr>\n",
       "    <tr>\n",
       "      <th>63718</th>\n",
       "      <td>590.0</td>\n",
       "      <td>-37.790814</td>\n",
       "      <td>23</td>\n",
       "      <td>McConnell Street</td>\n",
       "      <td>23 McConnell Street  Kensington</td>\n",
       "      <td>144.928709</td>\n",
       "      <td>Kensington</td>\n",
       "      <td>119634</td>\n",
       "      <td>NaN</td>\n",
       "    </tr>\n",
       "    <tr>\n",
       "      <th>63719</th>\n",
       "      <td>590.0</td>\n",
       "      <td>-37.793947</td>\n",
       "      <td>516A</td>\n",
       "      <td>Macaulay Road</td>\n",
       "      <td>516A Macaulay Road  Kensington</td>\n",
       "      <td>144.929064</td>\n",
       "      <td>Kensington</td>\n",
       "      <td>847</td>\n",
       "      <td>NaN</td>\n",
       "    </tr>\n",
       "    <tr>\n",
       "      <th>63720</th>\n",
       "      <td>591.0</td>\n",
       "      <td>-37.815860</td>\n",
       "      <td>180</td>\n",
       "      <td>King Street</td>\n",
       "      <td>180 King Street  Melbourne</td>\n",
       "      <td>144.955671</td>\n",
       "      <td>Melbourne</td>\n",
       "      <td>761</td>\n",
       "      <td>NaN</td>\n",
       "    </tr>\n",
       "  </tbody>\n",
       "</table>\n",
       "<p>63721 rows × 9 columns</p>\n",
       "</div>"
      ],
      "text/plain": [
       "       suburb_id   latitude street_no          str_name  \\\n",
       "0          592.0 -37.802382       133    Laurens Street   \n",
       "1          591.0 -37.816860       129   Flinders Street   \n",
       "2          592.0 -37.798830        44     Macaulay Road   \n",
       "3          591.0 -37.810547        13        Punch Lane   \n",
       "4          592.0 -37.789294        61   Racecourse Road   \n",
       "...          ...        ...       ...               ...   \n",
       "63716        0.0 -37.799002       190  Nicholson Street   \n",
       "63717      591.0 -37.812386       109     Bourke Street   \n",
       "63718      590.0 -37.790814        23  McConnell Street   \n",
       "63719      590.0 -37.793947      516A     Macaulay Road   \n",
       "63720      591.0 -37.815860       180       King Street   \n",
       "\n",
       "                               address_pnt   longitude           suburb  \\\n",
       "0      133 Laurens Street  North Melbourne  144.941473  North Melbourne   \n",
       "1           129 Flinders Street  Melbourne  144.969991        Melbourne   \n",
       "2        44 Macaulay Road  North Melbourne  144.942872  North Melbourne   \n",
       "3                 13 Punch Lane  Melbourne  144.970906        Melbourne   \n",
       "4      61 Racecourse Road  North Melbourne  144.939794  North Melbourne   \n",
       "...                                    ...         ...              ...   \n",
       "63716                 190 Nicholson Street  144.974876              NaN   \n",
       "63717         109 Bourke Street  Melbourne  144.970012        Melbourne   \n",
       "63718      23 McConnell Street  Kensington  144.928709       Kensington   \n",
       "63719       516A Macaulay Road  Kensington  144.929064       Kensington   \n",
       "63720           180 King Street  Melbourne  144.955671        Melbourne   \n",
       "\n",
       "       street_id add_comp  \n",
       "0            781      NaN  \n",
       "1            636      NaN  \n",
       "2            847      NaN  \n",
       "3           1003      NaN  \n",
       "4         119624      NaN  \n",
       "...          ...      ...  \n",
       "63716        931      NaN  \n",
       "63717        455      NaN  \n",
       "63718     119634      NaN  \n",
       "63719        847      NaN  \n",
       "63720        761      NaN  \n",
       "\n",
       "[63721 rows x 9 columns]"
      ]
     },
     "execution_count": 108,
     "metadata": {},
     "output_type": "execute_result"
    }
   ],
   "source": [
    "street_add"
   ]
  },
  {
   "cell_type": "markdown",
   "metadata": {},
   "source": [
    "## handling missing values"
   ]
  },
  {
   "cell_type": "code",
   "execution_count": 109,
   "metadata": {},
   "outputs": [
    {
     "name": "stdout",
     "output_type": "stream",
     "text": [
      "<class 'pandas.core.frame.DataFrame'>\n",
      "RangeIndex: 63721 entries, 0 to 63720\n",
      "Data columns (total 9 columns):\n",
      " #   Column       Non-Null Count  Dtype  \n",
      "---  ------       --------------  -----  \n",
      " 0   suburb_id    63715 non-null  float64\n",
      " 1   latitude     63721 non-null  float64\n",
      " 2   street_no    63069 non-null  object \n",
      " 3   str_name     63720 non-null  object \n",
      " 4   address_pnt  63721 non-null  object \n",
      " 5   longitude    63721 non-null  float64\n",
      " 6   suburb       62991 non-null  object \n",
      " 7   street_id    63721 non-null  int64  \n",
      " 8   add_comp     1352 non-null   object \n",
      "dtypes: float64(3), int64(1), object(5)\n",
      "memory usage: 4.4+ MB\n"
     ]
    }
   ],
   "source": [
    "street_add.info()"
   ]
  },
  {
   "cell_type": "markdown",
   "metadata": {},
   "source": [
    "A detailed description about the dataset with datatype and the number of total entries for each feature."
   ]
  },
  {
   "cell_type": "code",
   "execution_count": 110,
   "metadata": {},
   "outputs": [
    {
     "data": {
      "text/plain": [
       "suburb_id          6\n",
       "latitude           0\n",
       "street_no        652\n",
       "str_name           1\n",
       "address_pnt        0\n",
       "longitude          0\n",
       "suburb           730\n",
       "street_id          0\n",
       "add_comp       62369\n",
       "dtype: int64"
      ]
     },
     "execution_count": 110,
     "metadata": {},
     "output_type": "execute_result"
    }
   ],
   "source": [
    "street_add.isna().sum()"
   ]
  },
  {
   "cell_type": "markdown",
   "metadata": {},
   "source": [
    "The above code indicates a total of number of null entries (empty values or null values) in the dataset. \n",
    "\n",
    "In the street address dataset, the feature 'add_comp' has  total of 62,369 missing values which is more than half entries."
   ]
  },
  {
   "cell_type": "markdown",
   "metadata": {},
   "source": [
    "### Handing missing values for 'add_comp' column\n",
    "\n",
    "With more than half of the values missing for this column dropping this column\n"
   ]
  },
  {
   "cell_type": "code",
   "execution_count": 111,
   "metadata": {},
   "outputs": [],
   "source": [
    "street_add = street_add.drop('add_comp',axis = 1)"
   ]
  },
  {
   "cell_type": "markdown",
   "metadata": {},
   "source": [
    "observing the row with missing values or the suburb_id is zero"
   ]
  },
  {
   "cell_type": "code",
   "execution_count": 112,
   "metadata": {},
   "outputs": [
    {
     "data": {
      "text/html": [
       "<div>\n",
       "<style scoped>\n",
       "    .dataframe tbody tr th:only-of-type {\n",
       "        vertical-align: middle;\n",
       "    }\n",
       "\n",
       "    .dataframe tbody tr th {\n",
       "        vertical-align: top;\n",
       "    }\n",
       "\n",
       "    .dataframe thead th {\n",
       "        text-align: right;\n",
       "    }\n",
       "</style>\n",
       "<table border=\"1\" class=\"dataframe\">\n",
       "  <thead>\n",
       "    <tr style=\"text-align: right;\">\n",
       "      <th></th>\n",
       "      <th>suburb_id</th>\n",
       "      <th>latitude</th>\n",
       "      <th>street_no</th>\n",
       "      <th>str_name</th>\n",
       "      <th>address_pnt</th>\n",
       "      <th>longitude</th>\n",
       "      <th>suburb</th>\n",
       "      <th>street_id</th>\n",
       "    </tr>\n",
       "  </thead>\n",
       "  <tbody>\n",
       "    <tr>\n",
       "      <th>15724</th>\n",
       "      <td>NaN</td>\n",
       "      <td>-37.825995</td>\n",
       "      <td>50</td>\n",
       "      <td>Normanby Road</td>\n",
       "      <td>50 Normanby Road</td>\n",
       "      <td>144.955261</td>\n",
       "      <td>NaN</td>\n",
       "      <td>1368</td>\n",
       "    </tr>\n",
       "    <tr>\n",
       "      <th>26136</th>\n",
       "      <td>NaN</td>\n",
       "      <td>-37.827486</td>\n",
       "      <td>126</td>\n",
       "      <td>Normanby Road</td>\n",
       "      <td>126 Normanby Road</td>\n",
       "      <td>144.952721</td>\n",
       "      <td>NaN</td>\n",
       "      <td>1368</td>\n",
       "    </tr>\n",
       "    <tr>\n",
       "      <th>29528</th>\n",
       "      <td>NaN</td>\n",
       "      <td>-37.827525</td>\n",
       "      <td>130</td>\n",
       "      <td>Normanby Road</td>\n",
       "      <td>130 Normanby Road</td>\n",
       "      <td>144.952561</td>\n",
       "      <td>NaN</td>\n",
       "      <td>1368</td>\n",
       "    </tr>\n",
       "    <tr>\n",
       "      <th>34191</th>\n",
       "      <td>NaN</td>\n",
       "      <td>-37.827506</td>\n",
       "      <td>128</td>\n",
       "      <td>Normanby Road</td>\n",
       "      <td>128 Normanby Road</td>\n",
       "      <td>144.952641</td>\n",
       "      <td>NaN</td>\n",
       "      <td>1368</td>\n",
       "    </tr>\n",
       "    <tr>\n",
       "      <th>55077</th>\n",
       "      <td>NaN</td>\n",
       "      <td>-37.827467</td>\n",
       "      <td>124</td>\n",
       "      <td>Normanby Road</td>\n",
       "      <td>124 Normanby Road</td>\n",
       "      <td>144.952801</td>\n",
       "      <td>NaN</td>\n",
       "      <td>1368</td>\n",
       "    </tr>\n",
       "    <tr>\n",
       "      <th>57013</th>\n",
       "      <td>NaN</td>\n",
       "      <td>-37.826040</td>\n",
       "      <td>52</td>\n",
       "      <td>Normanby Road</td>\n",
       "      <td>52 Normanby Road</td>\n",
       "      <td>144.955198</td>\n",
       "      <td>NaN</td>\n",
       "      <td>1368</td>\n",
       "    </tr>\n",
       "  </tbody>\n",
       "</table>\n",
       "</div>"
      ],
      "text/plain": [
       "       suburb_id   latitude street_no       str_name        address_pnt  \\\n",
       "15724        NaN -37.825995        50  Normanby Road   50 Normanby Road   \n",
       "26136        NaN -37.827486       126  Normanby Road  126 Normanby Road   \n",
       "29528        NaN -37.827525       130  Normanby Road  130 Normanby Road   \n",
       "34191        NaN -37.827506       128  Normanby Road  128 Normanby Road   \n",
       "55077        NaN -37.827467       124  Normanby Road  124 Normanby Road   \n",
       "57013        NaN -37.826040        52  Normanby Road   52 Normanby Road   \n",
       "\n",
       "        longitude suburb  street_id  \n",
       "15724  144.955261    NaN       1368  \n",
       "26136  144.952721    NaN       1368  \n",
       "29528  144.952561    NaN       1368  \n",
       "34191  144.952641    NaN       1368  \n",
       "55077  144.952801    NaN       1368  \n",
       "57013  144.955198    NaN       1368  "
      ]
     },
     "execution_count": 112,
     "metadata": {},
     "output_type": "execute_result"
    }
   ],
   "source": [
    "suburb_id_nan = street_add[street_add['suburb_id'].isna()]\n",
    "\n",
    "suburb_id_nan"
   ]
  },
  {
   "cell_type": "code",
   "execution_count": 113,
   "metadata": {},
   "outputs": [
    {
     "data": {
      "text/html": [
       "<div>\n",
       "<style scoped>\n",
       "    .dataframe tbody tr th:only-of-type {\n",
       "        vertical-align: middle;\n",
       "    }\n",
       "\n",
       "    .dataframe tbody tr th {\n",
       "        vertical-align: top;\n",
       "    }\n",
       "\n",
       "    .dataframe thead th {\n",
       "        text-align: right;\n",
       "    }\n",
       "</style>\n",
       "<table border=\"1\" class=\"dataframe\">\n",
       "  <thead>\n",
       "    <tr style=\"text-align: right;\">\n",
       "      <th></th>\n",
       "      <th>suburb_id</th>\n",
       "      <th>latitude</th>\n",
       "      <th>street_no</th>\n",
       "      <th>str_name</th>\n",
       "      <th>address_pnt</th>\n",
       "      <th>longitude</th>\n",
       "      <th>suburb</th>\n",
       "      <th>street_id</th>\n",
       "    </tr>\n",
       "  </thead>\n",
       "  <tbody>\n",
       "    <tr>\n",
       "      <th>20</th>\n",
       "      <td>0.0</td>\n",
       "      <td>-37.788135</td>\n",
       "      <td>772</td>\n",
       "      <td>Lygon Street</td>\n",
       "      <td>772 Lygon Street</td>\n",
       "      <td>144.969279</td>\n",
       "      <td>NaN</td>\n",
       "      <td>840</td>\n",
       "    </tr>\n",
       "    <tr>\n",
       "      <th>61</th>\n",
       "      <td>0.0</td>\n",
       "      <td>-37.827770</td>\n",
       "      <td>165</td>\n",
       "      <td>Normanby Road</td>\n",
       "      <td>165 Normanby Road</td>\n",
       "      <td>144.951017</td>\n",
       "      <td>NaN</td>\n",
       "      <td>1368</td>\n",
       "    </tr>\n",
       "    <tr>\n",
       "      <th>85</th>\n",
       "      <td>0.0</td>\n",
       "      <td>-37.786158</td>\n",
       "      <td>42</td>\n",
       "      <td>Leonard Crescent</td>\n",
       "      <td>42 Leonard Crescent</td>\n",
       "      <td>144.906459</td>\n",
       "      <td>NaN</td>\n",
       "      <td>1313</td>\n",
       "    </tr>\n",
       "    <tr>\n",
       "      <th>118</th>\n",
       "      <td>0.0</td>\n",
       "      <td>-37.804792</td>\n",
       "      <td>68</td>\n",
       "      <td>Nicholson Street</td>\n",
       "      <td>68 Nicholson Street</td>\n",
       "      <td>144.973896</td>\n",
       "      <td>NaN</td>\n",
       "      <td>931</td>\n",
       "    </tr>\n",
       "    <tr>\n",
       "      <th>559</th>\n",
       "      <td>0.0</td>\n",
       "      <td>-37.775535</td>\n",
       "      <td>951</td>\n",
       "      <td>Park Street</td>\n",
       "      <td>951 Park Street</td>\n",
       "      <td>144.940570</td>\n",
       "      <td>NaN</td>\n",
       "      <td>962</td>\n",
       "    </tr>\n",
       "    <tr>\n",
       "      <th>...</th>\n",
       "      <td>...</td>\n",
       "      <td>...</td>\n",
       "      <td>...</td>\n",
       "      <td>...</td>\n",
       "      <td>...</td>\n",
       "      <td>...</td>\n",
       "      <td>...</td>\n",
       "      <td>...</td>\n",
       "    </tr>\n",
       "    <tr>\n",
       "      <th>63124</th>\n",
       "      <td>0.0</td>\n",
       "      <td>-37.781990</td>\n",
       "      <td>34</td>\n",
       "      <td>Langs Road</td>\n",
       "      <td>34 Langs Road</td>\n",
       "      <td>144.908970</td>\n",
       "      <td>NaN</td>\n",
       "      <td>1312</td>\n",
       "    </tr>\n",
       "    <tr>\n",
       "      <th>63127</th>\n",
       "      <td>0.0</td>\n",
       "      <td>-37.780382</td>\n",
       "      <td>62</td>\n",
       "      <td>Bowen Crescent</td>\n",
       "      <td>62 Bowen Crescent</td>\n",
       "      <td>144.962916</td>\n",
       "      <td>NaN</td>\n",
       "      <td>457</td>\n",
       "    </tr>\n",
       "    <tr>\n",
       "      <th>63235</th>\n",
       "      <td>0.0</td>\n",
       "      <td>-37.784645</td>\n",
       "      <td>10</td>\n",
       "      <td>Garton Street</td>\n",
       "      <td>10 Garton Street</td>\n",
       "      <td>144.963762</td>\n",
       "      <td>NaN</td>\n",
       "      <td>648</td>\n",
       "    </tr>\n",
       "    <tr>\n",
       "      <th>63390</th>\n",
       "      <td>0.0</td>\n",
       "      <td>-37.785339</td>\n",
       "      <td>465</td>\n",
       "      <td>Lygon Street</td>\n",
       "      <td>465 Lygon Street</td>\n",
       "      <td>144.969403</td>\n",
       "      <td>NaN</td>\n",
       "      <td>840</td>\n",
       "    </tr>\n",
       "    <tr>\n",
       "      <th>63716</th>\n",
       "      <td>0.0</td>\n",
       "      <td>-37.799002</td>\n",
       "      <td>190</td>\n",
       "      <td>Nicholson Street</td>\n",
       "      <td>190 Nicholson Street</td>\n",
       "      <td>144.974876</td>\n",
       "      <td>NaN</td>\n",
       "      <td>931</td>\n",
       "    </tr>\n",
       "  </tbody>\n",
       "</table>\n",
       "<p>730 rows × 8 columns</p>\n",
       "</div>"
      ],
      "text/plain": [
       "       suburb_id   latitude street_no          str_name           address_pnt  \\\n",
       "20           0.0 -37.788135       772      Lygon Street      772 Lygon Street   \n",
       "61           0.0 -37.827770       165     Normanby Road     165 Normanby Road   \n",
       "85           0.0 -37.786158        42  Leonard Crescent   42 Leonard Crescent   \n",
       "118          0.0 -37.804792        68  Nicholson Street   68 Nicholson Street   \n",
       "559          0.0 -37.775535       951       Park Street       951 Park Street   \n",
       "...          ...        ...       ...               ...                   ...   \n",
       "63124        0.0 -37.781990        34        Langs Road         34 Langs Road   \n",
       "63127        0.0 -37.780382        62    Bowen Crescent     62 Bowen Crescent   \n",
       "63235        0.0 -37.784645        10     Garton Street      10 Garton Street   \n",
       "63390        0.0 -37.785339       465      Lygon Street      465 Lygon Street   \n",
       "63716        0.0 -37.799002       190  Nicholson Street  190 Nicholson Street   \n",
       "\n",
       "        longitude suburb  street_id  \n",
       "20     144.969279    NaN        840  \n",
       "61     144.951017    NaN       1368  \n",
       "85     144.906459    NaN       1313  \n",
       "118    144.973896    NaN        931  \n",
       "559    144.940570    NaN        962  \n",
       "...           ...    ...        ...  \n",
       "63124  144.908970    NaN       1312  \n",
       "63127  144.962916    NaN        457  \n",
       "63235  144.963762    NaN        648  \n",
       "63390  144.969403    NaN        840  \n",
       "63716  144.974876    NaN        931  \n",
       "\n",
       "[730 rows x 8 columns]"
      ]
     },
     "execution_count": 113,
     "metadata": {},
     "output_type": "execute_result"
    }
   ],
   "source": [
    "suburb_id_zero= street_add[street_add['suburb'].isna()]\n",
    "\n",
    "suburb_id_zero"
   ]
  },
  {
   "cell_type": "markdown",
   "metadata": {},
   "source": [
    "We can observe the from both the snippets address for unknown suburb names the suburb id is either 0 or NaN. Hence, we replace the suburb id with 0. "
   ]
  },
  {
   "cell_type": "code",
   "execution_count": 114,
   "metadata": {},
   "outputs": [],
   "source": [
    "street_add['suburb_id'] = street_add['suburb_id'].fillna(0)"
   ]
  },
  {
   "cell_type": "markdown",
   "metadata": {},
   "source": [
    "Additionally, we replace the suburb name with suburb id 0 to unkown suburb."
   ]
  },
  {
   "cell_type": "code",
   "execution_count": 115,
   "metadata": {},
   "outputs": [],
   "source": [
    "street_add['suburb'] = street_add['suburb'].fillna('unknown suburb')"
   ]
  },
  {
   "cell_type": "markdown",
   "metadata": {},
   "source": [
    "Futhermore, we have also replaced the missing values in street number with 0."
   ]
  },
  {
   "cell_type": "code",
   "execution_count": 116,
   "metadata": {},
   "outputs": [],
   "source": [
    "street_add['street_no']= street_add['street_no'].fillna(0)"
   ]
  },
  {
   "cell_type": "markdown",
   "metadata": {},
   "source": [
    "Now, to handle the missing values in the street name, we first observe the row with missing street name. "
   ]
  },
  {
   "cell_type": "code",
   "execution_count": 117,
   "metadata": {},
   "outputs": [
    {
     "data": {
      "text/html": [
       "<div>\n",
       "<style scoped>\n",
       "    .dataframe tbody tr th:only-of-type {\n",
       "        vertical-align: middle;\n",
       "    }\n",
       "\n",
       "    .dataframe tbody tr th {\n",
       "        vertical-align: top;\n",
       "    }\n",
       "\n",
       "    .dataframe thead th {\n",
       "        text-align: right;\n",
       "    }\n",
       "</style>\n",
       "<table border=\"1\" class=\"dataframe\">\n",
       "  <thead>\n",
       "    <tr style=\"text-align: right;\">\n",
       "      <th></th>\n",
       "      <th>suburb_id</th>\n",
       "      <th>latitude</th>\n",
       "      <th>street_no</th>\n",
       "      <th>str_name</th>\n",
       "      <th>address_pnt</th>\n",
       "      <th>longitude</th>\n",
       "      <th>suburb</th>\n",
       "      <th>street_id</th>\n",
       "    </tr>\n",
       "  </thead>\n",
       "  <tbody>\n",
       "    <tr>\n",
       "      <th>58476</th>\n",
       "      <td>592.0</td>\n",
       "      <td>-37.796995</td>\n",
       "      <td>5</td>\n",
       "      <td>NaN</td>\n",
       "      <td>5  North Melbourne</td>\n",
       "      <td>144.95</td>\n",
       "      <td>North Melbourne</td>\n",
       "      <td>2931</td>\n",
       "    </tr>\n",
       "  </tbody>\n",
       "</table>\n",
       "</div>"
      ],
      "text/plain": [
       "       suburb_id   latitude street_no str_name         address_pnt  longitude  \\\n",
       "58476      592.0 -37.796995         5      NaN  5  North Melbourne     144.95   \n",
       "\n",
       "                suburb  street_id  \n",
       "58476  North Melbourne       2931  "
      ]
     },
     "execution_count": 117,
     "metadata": {},
     "output_type": "execute_result"
    }
   ],
   "source": [
    "street_name = street_add[street_add['str_name'].isna()]\n",
    "\n",
    "street_name"
   ]
  },
  {
   "cell_type": "markdown",
   "metadata": {},
   "source": [
    "And replace the missing name with name with unknown street name."
   ]
  },
  {
   "cell_type": "code",
   "execution_count": 118,
   "metadata": {},
   "outputs": [],
   "source": [
    "street_add['str_name'] = street_add['str_name'].fillna('unknow street_name')"
   ]
  },
  {
   "cell_type": "markdown",
   "metadata": {},
   "source": [
    "A re-check on the total number of missing values in the street address dataset and with this we have concluded there are no more missing values in the street address dataset."
   ]
  },
  {
   "cell_type": "code",
   "execution_count": 119,
   "metadata": {},
   "outputs": [
    {
     "data": {
      "text/plain": [
       "suburb_id      0\n",
       "latitude       0\n",
       "street_no      0\n",
       "str_name       0\n",
       "address_pnt    0\n",
       "longitude      0\n",
       "suburb         0\n",
       "street_id      0\n",
       "dtype: int64"
      ]
     },
     "execution_count": 119,
     "metadata": {},
     "output_type": "execute_result"
    }
   ],
   "source": [
    "street_add.isna().sum()"
   ]
  },
  {
   "cell_type": "markdown",
   "metadata": {},
   "source": [
    "### Handling datatypes\n",
    "\n",
    "A recap on the datatypes of the street address dataset."
   ]
  },
  {
   "cell_type": "code",
   "execution_count": 120,
   "metadata": {},
   "outputs": [
    {
     "name": "stdout",
     "output_type": "stream",
     "text": [
      "<class 'pandas.core.frame.DataFrame'>\n",
      "RangeIndex: 63721 entries, 0 to 63720\n",
      "Data columns (total 8 columns):\n",
      " #   Column       Non-Null Count  Dtype  \n",
      "---  ------       --------------  -----  \n",
      " 0   suburb_id    63721 non-null  float64\n",
      " 1   latitude     63721 non-null  float64\n",
      " 2   street_no    63721 non-null  object \n",
      " 3   str_name     63721 non-null  object \n",
      " 4   address_pnt  63721 non-null  object \n",
      " 5   longitude    63721 non-null  float64\n",
      " 6   suburb       63721 non-null  object \n",
      " 7   street_id    63721 non-null  int64  \n",
      "dtypes: float64(3), int64(1), object(4)\n",
      "memory usage: 3.9+ MB\n"
     ]
    }
   ],
   "source": [
    "street_add.info()"
   ]
  },
  {
   "cell_type": "markdown",
   "metadata": {},
   "source": [
    "correcting the datatype from the dataset, subrurb_id should be int datatype not float."
   ]
  },
  {
   "cell_type": "code",
   "execution_count": 121,
   "metadata": {},
   "outputs": [],
   "source": [
    "street_add['suburb_id'] = street_add['suburb_id'].apply(np.int64)"
   ]
  },
  {
   "cell_type": "code",
   "execution_count": 122,
   "metadata": {},
   "outputs": [
    {
     "name": "stdout",
     "output_type": "stream",
     "text": [
      "<class 'pandas.core.frame.DataFrame'>\n",
      "RangeIndex: 63721 entries, 0 to 63720\n",
      "Data columns (total 8 columns):\n",
      " #   Column       Non-Null Count  Dtype  \n",
      "---  ------       --------------  -----  \n",
      " 0   suburb_id    63721 non-null  int64  \n",
      " 1   latitude     63721 non-null  float64\n",
      " 2   street_no    63721 non-null  object \n",
      " 3   str_name     63721 non-null  object \n",
      " 4   address_pnt  63721 non-null  object \n",
      " 5   longitude    63721 non-null  float64\n",
      " 6   suburb       63721 non-null  object \n",
      " 7   street_id    63721 non-null  int64  \n",
      "dtypes: float64(2), int64(2), object(4)\n",
      "memory usage: 3.9+ MB\n"
     ]
    }
   ],
   "source": [
    "street_add.info()"
   ]
  },
  {
   "cell_type": "markdown",
   "metadata": {},
   "source": [
    "Now for a deeper understanding of the street address dataset. we need to identify suburb id and respective suburb it represent. "
   ]
  },
  {
   "cell_type": "code",
   "execution_count": 123,
   "metadata": {},
   "outputs": [
    {
     "data": {
      "text/plain": [
       "{592: 'North Melbourne',\n",
       " 591: 'Melbourne',\n",
       " 596: 'Southbank',\n",
       " 599: 'Docklands',\n",
       " 597: 'West Melbourne',\n",
       " 593: 'Parkville',\n",
       " 585: 'Carlton',\n",
       " 587: 'East Melbourne',\n",
       " 590: 'Kensington',\n",
       " 0: 'unknown suburb',\n",
       " 594: 'Port Melbourne',\n",
       " 588: 'Flemington',\n",
       " 595: 'South Yarra',\n",
       " 586: 'Carlton North',\n",
       " 840: 'South Wharf'}"
      ]
     },
     "execution_count": 123,
     "metadata": {},
     "output_type": "execute_result"
    }
   ],
   "source": [
    "#Creating a dictionary for suburb_id and suburb name \n",
    "\n",
    "suburb_dict = dict(zip(street_add['suburb_id'], street_add['suburb']))\n",
    "\n",
    "suburb_dict"
   ]
  },
  {
   "cell_type": "code",
   "execution_count": 124,
   "metadata": {},
   "outputs": [
    {
     "data": {
      "image/png": "[encoded data removed]",
      "text/plain": [
       "<Figure size 640x480 with 1 Axes>"
      ]
     },
     "metadata": {},
     "output_type": "display_data"
    }
   ],
   "source": [
    "\n",
    "#Frequenct counts for each suburbs \n",
    "suburb_counts = street_add['suburb_id'].value_counts()\n",
    "\n",
    "# Define fig and ax using plt.subplots()\n",
    "fig, ax = plt.subplots()  \n",
    "suburb_counts.plot(kind='bar', ax=ax)  \n",
    "plt.xlabel('Suburb ID')\n",
    "plt.ylabel('Frequency')\n",
    "plt.title('Frequency of Suburb ID')\n",
    "\n",
    "# Handle for legend\n",
    "handles = [mpatches.Patch(color='blue', label=f'{id} - {name}') for id, name in suburb_dict.items()]\n",
    "plt.legend(handles=handles, title=\"Suburb ID - Name\", bbox_to_anchor=(1.05, 1), loc='upper left')\n",
    "\n",
    "plt.show()"
   ]
  },
  {
   "cell_type": "markdown",
   "metadata": {},
   "source": [
    "This chart shows how often different suburb, labeled by suburb id , appear in street address dataset. The bars represent different suburb around Melbourne, with the tallest bars for Melbourne and North Melbourne—showing that we have more information or activities recorded there. Areas represented by smaller bars are mentioned less often. On the right, there's a list that tells you which number corresponds to which area, helping you understand exactly where each number points to on the map. This visualization helps us see which parts of the city are most frequently noted in our data."
   ]
  },
  {
   "cell_type": "markdown",
   "metadata": {},
   "source": [
    "## bizsize_industryjobs"
   ]
  },
  {
   "cell_type": "markdown",
   "metadata": {},
   "source": [
    "A snippet of the bizsie industry jobs,\n",
    "\n",
    "The bizsize_industryjobs dataset, contains information about businessess and employment during the census year starting from 2002.\n"
   ]
  },
  {
   "cell_type": "code",
   "execution_count": 125,
   "metadata": {},
   "outputs": [
    {
     "data": {
      "text/html": [
       "<div>\n",
       "<style scoped>\n",
       "    .dataframe tbody tr th:only-of-type {\n",
       "        vertical-align: middle;\n",
       "    }\n",
       "\n",
       "    .dataframe tbody tr th {\n",
       "        vertical-align: top;\n",
       "    }\n",
       "\n",
       "    .dataframe thead th {\n",
       "        text-align: right;\n",
       "    }\n",
       "</style>\n",
       "<table border=\"1\" class=\"dataframe\">\n",
       "  <thead>\n",
       "    <tr style=\"text-align: right;\">\n",
       "      <th></th>\n",
       "      <th>census_year</th>\n",
       "      <th>clue_small_area</th>\n",
       "      <th>anzsic_indusrty</th>\n",
       "      <th>clue_industry</th>\n",
       "      <th>business_size</th>\n",
       "      <th>total_establishments</th>\n",
       "      <th>total_jobs</th>\n",
       "    </tr>\n",
       "  </thead>\n",
       "  <tbody>\n",
       "    <tr>\n",
       "      <th>0</th>\n",
       "      <td>2015</td>\n",
       "      <td>West Melbourne (Residential)</td>\n",
       "      <td>Health Care and Social Assistance</td>\n",
       "      <td>Health Care and Social Assistance</td>\n",
       "      <td>Large business</td>\n",
       "      <td>1</td>\n",
       "      <td>NaN</td>\n",
       "    </tr>\n",
       "    <tr>\n",
       "      <th>1</th>\n",
       "      <td>2015</td>\n",
       "      <td>West Melbourne (Residential)</td>\n",
       "      <td>Manufacturing</td>\n",
       "      <td>Manufacturing</td>\n",
       "      <td>Medium business</td>\n",
       "      <td>5</td>\n",
       "      <td>171.0</td>\n",
       "    </tr>\n",
       "    <tr>\n",
       "      <th>2</th>\n",
       "      <td>2015</td>\n",
       "      <td>West Melbourne (Residential)</td>\n",
       "      <td>Manufacturing</td>\n",
       "      <td>Manufacturing</td>\n",
       "      <td>Non employing</td>\n",
       "      <td>1</td>\n",
       "      <td>NaN</td>\n",
       "    </tr>\n",
       "    <tr>\n",
       "      <th>3</th>\n",
       "      <td>2015</td>\n",
       "      <td>West Melbourne (Residential)</td>\n",
       "      <td>Professional, Scientific and Technical Services</td>\n",
       "      <td>Business Services</td>\n",
       "      <td>Non employing</td>\n",
       "      <td>3</td>\n",
       "      <td>0.0</td>\n",
       "    </tr>\n",
       "    <tr>\n",
       "      <th>4</th>\n",
       "      <td>2015</td>\n",
       "      <td>West Melbourne (Residential)</td>\n",
       "      <td>Rental, Hiring and Real Estate Services</td>\n",
       "      <td>Real Estate Services</td>\n",
       "      <td>Small business</td>\n",
       "      <td>5</td>\n",
       "      <td>42.0</td>\n",
       "    </tr>\n",
       "  </tbody>\n",
       "</table>\n",
       "</div>"
      ],
      "text/plain": [
       "   census_year               clue_small_area  \\\n",
       "0         2015  West Melbourne (Residential)   \n",
       "1         2015  West Melbourne (Residential)   \n",
       "2         2015  West Melbourne (Residential)   \n",
       "3         2015  West Melbourne (Residential)   \n",
       "4         2015  West Melbourne (Residential)   \n",
       "\n",
       "                                   anzsic_indusrty  \\\n",
       "0                Health Care and Social Assistance   \n",
       "1                                    Manufacturing   \n",
       "2                                    Manufacturing   \n",
       "3  Professional, Scientific and Technical Services   \n",
       "4          Rental, Hiring and Real Estate Services   \n",
       "\n",
       "                       clue_industry    business_size  total_establishments  \\\n",
       "0  Health Care and Social Assistance   Large business                     1   \n",
       "1                      Manufacturing  Medium business                     5   \n",
       "2                      Manufacturing    Non employing                     1   \n",
       "3                  Business Services    Non employing                     3   \n",
       "4               Real Estate Services   Small business                     5   \n",
       "\n",
       "   total_jobs  \n",
       "0         NaN  \n",
       "1       171.0  \n",
       "2         NaN  \n",
       "3         0.0  \n",
       "4        42.0  "
      ]
     },
     "execution_count": 125,
     "metadata": {},
     "output_type": "execute_result"
    }
   ],
   "source": [
    "bizsize_industryjobs.head()"
   ]
  },
  {
   "cell_type": "markdown",
   "metadata": {},
   "source": [
    "Sorting by 'census_year' organizes the data chronologically, making it easier to analyze trends and patterns over time."
   ]
  },
  {
   "cell_type": "code",
   "execution_count": 126,
   "metadata": {},
   "outputs": [],
   "source": [
    "# Sorting the dataset from ascending order \n",
    "bizsize_industryjobs = bizsize_industryjobs.sort_values(by = 'census_year',ascending = True)"
   ]
  },
  {
   "cell_type": "code",
   "execution_count": 127,
   "metadata": {},
   "outputs": [
    {
     "data": {
      "text/plain": [
       "(14692, 7)"
      ]
     },
     "execution_count": 127,
     "metadata": {},
     "output_type": "execute_result"
    }
   ],
   "source": [
    "#Shape of the dataset\n",
    "bizsize_industryjobs.shape"
   ]
  },
  {
   "cell_type": "markdown",
   "metadata": {},
   "source": [
    "The bizsize_industryjobs dataset has a total of 14,692 records with a total of 7 features. \n",
    "\n",
    "A detailed investigation of the features in the  dataset. "
   ]
  },
  {
   "cell_type": "code",
   "execution_count": 128,
   "metadata": {},
   "outputs": [
    {
     "data": {
      "text/plain": [
       "Index(['census_year', 'clue_small_area', 'anzsic_indusrty', 'clue_industry',\n",
       "       'business_size', 'total_establishments', 'total_jobs'],\n",
       "      dtype='object')"
      ]
     },
     "execution_count": 128,
     "metadata": {},
     "output_type": "execute_result"
    }
   ],
   "source": [
    "# Different features in the dataset. \n",
    "bizsize_industryjobs.columns\n"
   ]
  },
  {
   "cell_type": "code",
   "execution_count": 129,
   "metadata": {},
   "outputs": [
    {
     "data": {
      "text/plain": [
       "array([2002, 2003, 2004, 2005, 2006, 2007, 2008, 2009, 2010, 2011, 2012,\n",
       "       2013, 2014, 2015, 2016, 2017, 2018, 2019, 2020, 2021, 2022],\n",
       "      dtype=int64)"
      ]
     },
     "execution_count": 129,
     "metadata": {},
     "output_type": "execute_result"
    }
   ],
   "source": [
    "#The different values in census_year\n",
    "\n",
    "bizsize_industryjobs['census_year'].unique()"
   ]
  },
  {
   "cell_type": "markdown",
   "metadata": {},
   "source": [
    "The bizsize_industryjobs dataset has a record starting from the year 2002 till 2022."
   ]
  },
  {
   "cell_type": "code",
   "execution_count": 130,
   "metadata": {},
   "outputs": [
    {
     "data": {
      "text/plain": [
       "array(['Melbourne (CBD)', 'City of Melbourne (total)',\n",
       "       'West Melbourne (Residential)', 'Docklands', 'Carlton',\n",
       "       'Port Melbourne', 'South Yarra', 'North Melbourne', 'Parkville',\n",
       "       'Southbank', 'West Melbourne (Industrial)', 'East Melbourne',\n",
       "       'Kensington', 'Melbourne (Remainder)'], dtype=object)"
      ]
     },
     "execution_count": 130,
     "metadata": {},
     "output_type": "execute_result"
    }
   ],
   "source": [
    "#Different suburbs\n",
    "bizsize_cluesmallarea = bizsize_industryjobs['clue_small_area'].unique()\n",
    "\n",
    "bizsize_cluesmallarea"
   ]
  },
  {
   "cell_type": "markdown",
   "metadata": {},
   "source": [
    "The following dataset has records from different suburbs defined by the Clue small area. "
   ]
  },
  {
   "cell_type": "code",
   "execution_count": 131,
   "metadata": {},
   "outputs": [
    {
     "data": {
      "text/plain": [
       "array(['Public Administration and Safety', 'Construction',\n",
       "       'Education and Training',\n",
       "       'Electricity, Gas, Water and Waste Services',\n",
       "       'Financial and Insurance Services',\n",
       "       'Health Care and Social Assistance', 'Manufacturing', 'Mining',\n",
       "       'Other Services',\n",
       "       'Professional, Scientific and Technical Services',\n",
       "       'Rental, Hiring and Real Estate Services',\n",
       "       'Arts and Recreation Services',\n",
       "       'Administrative and Support Services', 'Retail Trade',\n",
       "       'Transport, Postal and Warehousing', 'Wholesale Trade',\n",
       "       'Accommodation and Food Services',\n",
       "       'Agriculture, Forestry and Fishing',\n",
       "       'Information Media and Telecommunications', 'All ANZSIC'],\n",
       "      dtype=object)"
      ]
     },
     "execution_count": 131,
     "metadata": {},
     "output_type": "execute_result"
    }
   ],
   "source": [
    "#Different industries defined by anzsic \n",
    "bizsize_anzsic =bizsize_industryjobs['anzsic_indusrty'].unique()\n",
    "bizsize_anzsic"
   ]
  },
  {
   "cell_type": "code",
   "execution_count": 132,
   "metadata": {},
   "outputs": [
    {
     "data": {
      "text/plain": [
       "array(['Public Administration and Safety', 'Construction',\n",
       "       'Education and Training',\n",
       "       'Electricity, Gas, Water and Waste Services',\n",
       "       'Finance and Insurance', 'Health Care and Social Assistance',\n",
       "       'Manufacturing', 'Agriculture and Mining', 'Other Services',\n",
       "       'Business Services', 'Real Estate Services',\n",
       "       'Arts and Recreation Services', 'Admin and Support Services',\n",
       "       'Rental and Hiring Services', 'Retail Trade',\n",
       "       'Transport, Postal and Storage', 'Wholesale Trade',\n",
       "       'Accommodation', 'Food and Beverage Services',\n",
       "       'Information Media and Telecommunications', 'All CLUE Industry'],\n",
       "      dtype=object)"
      ]
     },
     "execution_count": 132,
     "metadata": {},
     "output_type": "execute_result"
    }
   ],
   "source": [
    "# Different insutry classified by CLUE small area\n",
    "bizsize_clueindustry = bizsize_industryjobs['clue_industry'].unique()\n",
    "bizsize_clueindustry"
   ]
  },
  {
   "cell_type": "code",
   "execution_count": 133,
   "metadata": {},
   "outputs": [
    {
     "data": {
      "text/plain": [
       "array(['Non employing', 'Medium business', 'Small business',\n",
       "       'Large business'], dtype=object)"
      ]
     },
     "execution_count": 133,
     "metadata": {},
     "output_type": "execute_result"
    }
   ],
   "source": [
    "# Different busines size\n",
    "bizsize_industryjobs['business_size'].unique()"
   ]
  },
  {
   "cell_type": "markdown",
   "metadata": {},
   "source": [
    "The bizsize_industryjobs dataset describes the records of different business size and number of jobs been employed by them."
   ]
  },
  {
   "cell_type": "code",
   "execution_count": 134,
   "metadata": {},
   "outputs": [
    {
     "name": "stdout",
     "output_type": "stream",
     "text": [
      "<class 'pandas.core.frame.DataFrame'>\n",
      "Int64Index: 14692 entries, 7345 to 9761\n",
      "Data columns (total 7 columns):\n",
      " #   Column                Non-Null Count  Dtype  \n",
      "---  ------                --------------  -----  \n",
      " 0   census_year           14692 non-null  int64  \n",
      " 1   clue_small_area       14692 non-null  object \n",
      " 2   anzsic_indusrty       14692 non-null  object \n",
      " 3   clue_industry         14692 non-null  object \n",
      " 4   business_size         14692 non-null  object \n",
      " 5   total_establishments  14692 non-null  int64  \n",
      " 6   total_jobs            10365 non-null  float64\n",
      "dtypes: float64(1), int64(2), object(4)\n",
      "memory usage: 918.2+ KB\n"
     ]
    }
   ],
   "source": [
    "#Describing the dataset. \n",
    "\n",
    "bizsize_industryjobs.info()"
   ]
  },
  {
   "cell_type": "code",
   "execution_count": 135,
   "metadata": {},
   "outputs": [
    {
     "data": {
      "text/plain": [
       "census_year                0\n",
       "clue_small_area            0\n",
       "anzsic_indusrty            0\n",
       "clue_industry              0\n",
       "business_size              0\n",
       "total_establishments       0\n",
       "total_jobs              4327\n",
       "dtype: int64"
      ]
     },
     "execution_count": 135,
     "metadata": {},
     "output_type": "execute_result"
    }
   ],
   "source": [
    "bizsize_industryjobs.isna().sum()"
   ]
  },
  {
   "cell_type": "markdown",
   "metadata": {},
   "source": [
    "Handling missing vaues"
   ]
  },
  {
   "cell_type": "markdown",
   "metadata": {},
   "source": [
    "The bizsize_industryjobs dataset has a total of 4327 entries missing. To handle the missing value, we decide to replace the missing value with min value based on the type of business size. "
   ]
  },
  {
   "cell_type": "code",
   "execution_count": 136,
   "metadata": {},
   "outputs": [
    {
     "data": {
      "text/html": [
       "<div>\n",
       "<style scoped>\n",
       "    .dataframe tbody tr th:only-of-type {\n",
       "        vertical-align: middle;\n",
       "    }\n",
       "\n",
       "    .dataframe tbody tr th {\n",
       "        vertical-align: top;\n",
       "    }\n",
       "\n",
       "    .dataframe thead th {\n",
       "        text-align: right;\n",
       "    }\n",
       "</style>\n",
       "<table border=\"1\" class=\"dataframe\">\n",
       "  <thead>\n",
       "    <tr style=\"text-align: right;\">\n",
       "      <th></th>\n",
       "      <th>count</th>\n",
       "      <th>mean</th>\n",
       "      <th>std</th>\n",
       "      <th>min</th>\n",
       "      <th>25%</th>\n",
       "      <th>50%</th>\n",
       "      <th>75%</th>\n",
       "      <th>max</th>\n",
       "    </tr>\n",
       "    <tr>\n",
       "      <th>business_size</th>\n",
       "      <th></th>\n",
       "      <th></th>\n",
       "      <th></th>\n",
       "      <th></th>\n",
       "      <th></th>\n",
       "      <th></th>\n",
       "      <th></th>\n",
       "      <th></th>\n",
       "    </tr>\n",
       "  </thead>\n",
       "  <tbody>\n",
       "    <tr>\n",
       "      <th>Large business</th>\n",
       "      <td>1076.0</td>\n",
       "      <td>12633.487918</td>\n",
       "      <td>32292.079142</td>\n",
       "      <td>687.0</td>\n",
       "      <td>2084.5</td>\n",
       "      <td>3882.0</td>\n",
       "      <td>11539.25</td>\n",
       "      <td>273200.0</td>\n",
       "    </tr>\n",
       "    <tr>\n",
       "      <th>Medium business</th>\n",
       "      <td>3095.0</td>\n",
       "      <td>2418.815509</td>\n",
       "      <td>10420.953933</td>\n",
       "      <td>66.0</td>\n",
       "      <td>222.5</td>\n",
       "      <td>409.0</td>\n",
       "      <td>1267.00</td>\n",
       "      <td>153302.0</td>\n",
       "    </tr>\n",
       "    <tr>\n",
       "      <th>Non employing</th>\n",
       "      <td>1720.0</td>\n",
       "      <td>0.000000</td>\n",
       "      <td>0.000000</td>\n",
       "      <td>0.0</td>\n",
       "      <td>0.0</td>\n",
       "      <td>0.0</td>\n",
       "      <td>0.00</td>\n",
       "      <td>0.0</td>\n",
       "    </tr>\n",
       "    <tr>\n",
       "      <th>Small business</th>\n",
       "      <td>4474.0</td>\n",
       "      <td>984.121144</td>\n",
       "      <td>5117.223702</td>\n",
       "      <td>3.0</td>\n",
       "      <td>48.0</td>\n",
       "      <td>108.0</td>\n",
       "      <td>393.50</td>\n",
       "      <td>80008.0</td>\n",
       "    </tr>\n",
       "  </tbody>\n",
       "</table>\n",
       "</div>"
      ],
      "text/plain": [
       "                  count          mean           std    min     25%     50%  \\\n",
       "business_size                                                                \n",
       "Large business   1076.0  12633.487918  32292.079142  687.0  2084.5  3882.0   \n",
       "Medium business  3095.0   2418.815509  10420.953933   66.0   222.5   409.0   \n",
       "Non employing    1720.0      0.000000      0.000000    0.0     0.0     0.0   \n",
       "Small business   4474.0    984.121144   5117.223702    3.0    48.0   108.0   \n",
       "\n",
       "                      75%       max  \n",
       "business_size                        \n",
       "Large business   11539.25  273200.0  \n",
       "Medium business   1267.00  153302.0  \n",
       "Non employing        0.00       0.0  \n",
       "Small business     393.50   80008.0  "
      ]
     },
     "execution_count": 136,
     "metadata": {},
     "output_type": "execute_result"
    }
   ],
   "source": [
    "# Descriptive statistic by grouping different business size\n",
    "business_size_descriptive = bizsize_industryjobs.groupby('business_size')['total_jobs'].describe()\n",
    "\n",
    "business_size_descriptive"
   ]
  },
  {
   "cell_type": "code",
   "execution_count": 137,
   "metadata": {},
   "outputs": [],
   "source": [
    "# Replacing missing value with min value based on business size\n",
    "bizsize_industryjobs['total_jobs'] = bizsize_industryjobs.groupby('business_size')['total_jobs'].transform(lambda x: x.fillna(x.min()))"
   ]
  },
  {
   "cell_type": "code",
   "execution_count": 138,
   "metadata": {},
   "outputs": [
    {
     "name": "stdout",
     "output_type": "stream",
     "text": [
      "<class 'pandas.core.frame.DataFrame'>\n",
      "Int64Index: 14692 entries, 7345 to 9761\n",
      "Data columns (total 7 columns):\n",
      " #   Column                Non-Null Count  Dtype  \n",
      "---  ------                --------------  -----  \n",
      " 0   census_year           14692 non-null  int64  \n",
      " 1   clue_small_area       14692 non-null  object \n",
      " 2   anzsic_indusrty       14692 non-null  object \n",
      " 3   clue_industry         14692 non-null  object \n",
      " 4   business_size         14692 non-null  object \n",
      " 5   total_establishments  14692 non-null  int64  \n",
      " 6   total_jobs            14692 non-null  float64\n",
      "dtypes: float64(1), int64(2), object(4)\n",
      "memory usage: 918.2+ KB\n"
     ]
    }
   ],
   "source": [
    "# bizsize_industryjobs dataset info\n",
    "\n",
    "bizsize_industryjobs.info()\n"
   ]
  },
  {
   "cell_type": "markdown",
   "metadata": {},
   "source": [
    "Handling the biszize_industryjobs to correct datatypes"
   ]
  },
  {
   "cell_type": "code",
   "execution_count": 139,
   "metadata": {},
   "outputs": [],
   "source": [
    "# Changing the data type for  total number of jobs\n",
    "bizsize_industryjobs['total_jobs'] = bizsize_industryjobs['total_jobs'].apply(np.int64)"
   ]
  },
  {
   "cell_type": "markdown",
   "metadata": {},
   "source": [
    "## bizaddressindustry"
   ]
  },
  {
   "cell_type": "markdown",
   "metadata": {},
   "source": [
    " A snippet of the bizaddressinsudtry dataset"
   ]
  },
  {
   "cell_type": "code",
   "execution_count": 140,
   "metadata": {},
   "outputs": [
    {
     "data": {
      "text/html": [
       "<div>\n",
       "<style scoped>\n",
       "    .dataframe tbody tr th:only-of-type {\n",
       "        vertical-align: middle;\n",
       "    }\n",
       "\n",
       "    .dataframe tbody tr th {\n",
       "        vertical-align: top;\n",
       "    }\n",
       "\n",
       "    .dataframe thead th {\n",
       "        text-align: right;\n",
       "    }\n",
       "</style>\n",
       "<table border=\"1\" class=\"dataframe\">\n",
       "  <thead>\n",
       "    <tr style=\"text-align: right;\">\n",
       "      <th></th>\n",
       "      <th>census_year</th>\n",
       "      <th>block_id</th>\n",
       "      <th>property_id</th>\n",
       "      <th>base_property_id</th>\n",
       "      <th>clue_small_area</th>\n",
       "      <th>trading_name</th>\n",
       "      <th>business_address</th>\n",
       "      <th>industry_anzsic4_code</th>\n",
       "      <th>industry_anzsic4_description</th>\n",
       "      <th>longitude</th>\n",
       "      <th>latitude</th>\n",
       "    </tr>\n",
       "  </thead>\n",
       "  <tbody>\n",
       "    <tr>\n",
       "      <th>0</th>\n",
       "      <td>2003</td>\n",
       "      <td>105</td>\n",
       "      <td>100172</td>\n",
       "      <td>100172</td>\n",
       "      <td>Melbourne (CBD)</td>\n",
       "      <td>Wilson Parking Australia</td>\n",
       "      <td>24-46 A'Beckett Street MELBOURNE 3000</td>\n",
       "      <td>9533</td>\n",
       "      <td>Parking Services</td>\n",
       "      <td>144.962053</td>\n",
       "      <td>-37.808573</td>\n",
       "    </tr>\n",
       "    <tr>\n",
       "      <th>1</th>\n",
       "      <td>2003</td>\n",
       "      <td>105</td>\n",
       "      <td>103301</td>\n",
       "      <td>103301</td>\n",
       "      <td>Melbourne (CBD)</td>\n",
       "      <td>Melbourne International Backpackers</td>\n",
       "      <td>442-450 Elizabeth Street MELBOURNE 3000</td>\n",
       "      <td>4400</td>\n",
       "      <td>Accommodation</td>\n",
       "      <td>144.960868</td>\n",
       "      <td>-37.808309</td>\n",
       "    </tr>\n",
       "    <tr>\n",
       "      <th>2</th>\n",
       "      <td>2003</td>\n",
       "      <td>105</td>\n",
       "      <td>103302</td>\n",
       "      <td>103302</td>\n",
       "      <td>Melbourne (CBD)</td>\n",
       "      <td>Vacant</td>\n",
       "      <td>422-440 Elizabeth Street MELBOURNE 3000</td>\n",
       "      <td>0</td>\n",
       "      <td>Vacant Space</td>\n",
       "      <td>144.961017</td>\n",
       "      <td>-37.808630</td>\n",
       "    </tr>\n",
       "    <tr>\n",
       "      <th>3</th>\n",
       "      <td>2003</td>\n",
       "      <td>105</td>\n",
       "      <td>103302</td>\n",
       "      <td>103302</td>\n",
       "      <td>Melbourne (CBD)</td>\n",
       "      <td>The Garden Cafe</td>\n",
       "      <td>Shop 3, Ground , 422-440 Elizabeth Street MELB...</td>\n",
       "      <td>4511</td>\n",
       "      <td>Cafes and Restaurants</td>\n",
       "      <td>144.961017</td>\n",
       "      <td>-37.808630</td>\n",
       "    </tr>\n",
       "    <tr>\n",
       "      <th>4</th>\n",
       "      <td>2003</td>\n",
       "      <td>105</td>\n",
       "      <td>103302</td>\n",
       "      <td>103302</td>\n",
       "      <td>Melbourne (CBD)</td>\n",
       "      <td>Telephony Australia</td>\n",
       "      <td>Shop 5, Ground , 422-440 Elizabeth Street MELB...</td>\n",
       "      <td>5809</td>\n",
       "      <td>Other Telecommunications Services</td>\n",
       "      <td>144.961017</td>\n",
       "      <td>-37.808630</td>\n",
       "    </tr>\n",
       "  </tbody>\n",
       "</table>\n",
       "</div>"
      ],
      "text/plain": [
       "   census_year  block_id  property_id  base_property_id  clue_small_area  \\\n",
       "0         2003       105       100172            100172  Melbourne (CBD)   \n",
       "1         2003       105       103301            103301  Melbourne (CBD)   \n",
       "2         2003       105       103302            103302  Melbourne (CBD)   \n",
       "3         2003       105       103302            103302  Melbourne (CBD)   \n",
       "4         2003       105       103302            103302  Melbourne (CBD)   \n",
       "\n",
       "                          trading_name  \\\n",
       "0             Wilson Parking Australia   \n",
       "1  Melbourne International Backpackers   \n",
       "2                               Vacant   \n",
       "3                      The Garden Cafe   \n",
       "4                  Telephony Australia   \n",
       "\n",
       "                                    business_address  industry_anzsic4_code  \\\n",
       "0              24-46 A'Beckett Street MELBOURNE 3000                   9533   \n",
       "1            442-450 Elizabeth Street MELBOURNE 3000                   4400   \n",
       "2            422-440 Elizabeth Street MELBOURNE 3000                      0   \n",
       "3  Shop 3, Ground , 422-440 Elizabeth Street MELB...                   4511   \n",
       "4  Shop 5, Ground , 422-440 Elizabeth Street MELB...                   5809   \n",
       "\n",
       "        industry_anzsic4_description   longitude   latitude  \n",
       "0                   Parking Services  144.962053 -37.808573  \n",
       "1                      Accommodation  144.960868 -37.808309  \n",
       "2                       Vacant Space  144.961017 -37.808630  \n",
       "3              Cafes and Restaurants  144.961017 -37.808630  \n",
       "4  Other Telecommunications Services  144.961017 -37.808630  "
      ]
     },
     "execution_count": 140,
     "metadata": {},
     "output_type": "execute_result"
    }
   ],
   "source": [
    "bizaddressindustry.head()"
   ]
  },
  {
   "cell_type": "markdown",
   "metadata": {},
   "source": [
    "A detailed investigation into bizaddressindustry dataset\n"
   ]
  },
  {
   "cell_type": "code",
   "execution_count": 141,
   "metadata": {},
   "outputs": [
    {
     "name": "stdout",
     "output_type": "stream",
     "text": [
      "<class 'pandas.core.frame.DataFrame'>\n",
      "RangeIndex: 374210 entries, 0 to 374209\n",
      "Data columns (total 11 columns):\n",
      " #   Column                        Non-Null Count   Dtype  \n",
      "---  ------                        --------------   -----  \n",
      " 0   census_year                   374210 non-null  int64  \n",
      " 1   block_id                      374210 non-null  int64  \n",
      " 2   property_id                   374210 non-null  int64  \n",
      " 3   base_property_id              374210 non-null  int64  \n",
      " 4   clue_small_area               374210 non-null  object \n",
      " 5   trading_name                  374083 non-null  object \n",
      " 6   business_address              374209 non-null  object \n",
      " 7   industry_anzsic4_code         374210 non-null  int64  \n",
      " 8   industry_anzsic4_description  374210 non-null  object \n",
      " 9   longitude                     369425 non-null  float64\n",
      " 10  latitude                      369425 non-null  float64\n",
      "dtypes: float64(2), int64(5), object(4)\n",
      "memory usage: 31.4+ MB\n"
     ]
    }
   ],
   "source": [
    "bizaddressindustry.info()"
   ]
  },
  {
   "cell_type": "code",
   "execution_count": 142,
   "metadata": {},
   "outputs": [
    {
     "data": {
      "text/plain": [
       "(374210, 11)"
      ]
     },
     "execution_count": 142,
     "metadata": {},
     "output_type": "execute_result"
    }
   ],
   "source": [
    "bizaddressindustry.shape"
   ]
  },
  {
   "cell_type": "markdown",
   "metadata": {},
   "source": [
    "The bizaddressindustry has a total of 374,210 records with 11 features."
   ]
  },
  {
   "cell_type": "code",
   "execution_count": 143,
   "metadata": {},
   "outputs": [],
   "source": [
    "# Sorting the dataset in ascending order \n",
    "bizaddressindustry=bizaddressindustry.sort_values(by='census_year',ascending = True)"
   ]
  },
  {
   "cell_type": "code",
   "execution_count": 144,
   "metadata": {},
   "outputs": [
    {
     "data": {
      "text/plain": [
       "Index(['census_year', 'block_id', 'property_id', 'base_property_id',\n",
       "       'clue_small_area', 'trading_name', 'business_address',\n",
       "       'industry_anzsic4_code', 'industry_anzsic4_description', 'longitude',\n",
       "       'latitude'],\n",
       "      dtype='object')"
      ]
     },
     "execution_count": 144,
     "metadata": {},
     "output_type": "execute_result"
    }
   ],
   "source": [
    "#list of all features in bizaddressindustry dataset\n",
    "bizaddressindustry.columns"
   ]
  },
  {
   "cell_type": "code",
   "execution_count": 145,
   "metadata": {},
   "outputs": [
    {
     "data": {
      "text/plain": [
       "array([2002, 2003, 2004, 2005, 2006, 2007, 2008, 2009, 2010, 2011, 2012,\n",
       "       2013, 2014, 2015, 2016, 2017, 2018, 2019, 2020, 2021, 2022],\n",
       "      dtype=int64)"
      ]
     },
     "execution_count": 145,
     "metadata": {},
     "output_type": "execute_result"
    }
   ],
   "source": [
    "# Different census_year\n",
    "bizaddress_censusyear = bizaddressindustry['census_year'].unique()\n",
    "\n",
    "bizaddress_censusyear"
   ]
  },
  {
   "cell_type": "markdown",
   "metadata": {},
   "source": [
    "This dataset address a detail description of business and a classification according Clue small area and anzsic4 description starting from the year 2002 till 2022."
   ]
  },
  {
   "cell_type": "code",
   "execution_count": 146,
   "metadata": {},
   "outputs": [
    {
     "data": {
      "text/plain": [
       "array([ 748,   78,   77,   74,   76,   82,   81,   73,   72,   85,   93,\n",
       "         92,   91,   87,   84,   83,   64,   63,   62,   57,   58,   61,\n",
       "         67,   66,   68,   71,   65,   94,  242,  241,  240,  239,  237,\n",
       "        226,  227,  228,  229,  230,  232,  234,  236,  246,  245,  243,\n",
       "        218,  217,  223,  224,  225,  222,  220,  219,  260,  259,  258,\n",
       "        257,  255,  256,  267,  266,  265,  264,  261,  262,  263,  251,\n",
       "        248,  247,  252,  254,  105,  104,  103,  101,  113,  107,  111,\n",
       "         98,   97,   95,   96,  210,  207,  206,  205,  212,  213,  216,\n",
       "        215,  204,  214,  203,  201,  114,  125,  131,  116,  115,   35,\n",
       "         38,   37,   36,   32,   33,   31,   28,   34,   53,   52,   51,\n",
       "         47,   46,   48,   56,   54,   55,   43,   42,   44,   41,   45,\n",
       "        803,  802,  801,  795,  808,  807,  806,  804,  794,  793,  784,\n",
       "        783,  782,  781,  779,  791,  790,  792,  785,  786,  787,  789,\n",
       "        788,  778,  920,  919,  916,  915,  870,  904,  906,  908,  909,\n",
       "        910,  913,  922,  923, 1005, 1004, 1002, 1001,  925,  926,  927,\n",
       "        928,  929,  930,  931,  868,  867,  815,  813,  812,  809,  810,\n",
       "        811,  861,  862,  863,  864,  866,  849,  850,  852,  858,  859,\n",
       "        860,  734,  733,  732,  720,  724,  729,  730,  731,  746,  745,\n",
       "        744,  742,  741,  735,  736,  737,  738,  740,  656,  652,  653,\n",
       "        654,  655,  710,  657,  658,  659,  660,  662,  663,  760,  773,\n",
       "        774,  777,  772,  753,  752,  751,   22,  759,  651, 1006,   15,\n",
       "         16,   14,   12,   11,    6,    1,    4,    5,   13,   17,   21,\n",
       "         18, 1015, 1014, 1013, 1012, 1007, 1009, 1108, 1107, 1103, 1102,\n",
       "       1101, 1016, 1109, 1111, 1110,  376,  375,  368,  369,  370,  371,\n",
       "        377,    2,  367,  366,  336,  335,  334,  333,  323,  326,  327,\n",
       "        328,  329,  331,  332,  343,  342,  341,  340,  339,  337,  338,\n",
       "        322,  270,  268,  271,  273,  274,  313,  314,  315,  317,  319,\n",
       "        312,  309,  301,  308,  304,  344,  357,  356,  355,  362,  363,\n",
       "        364,  365,  361,  358,  359,  360,  349,  348,  347,  346,  345,\n",
       "        351,  352,  353,  354,  537,  535,  531,  530,  528,  538,  529,\n",
       "        558,  556,  553,  552,  549,  544,  543,  542,  539,  540,  541,\n",
       "        505,  504,  502,  501,  443,  444,  506,  507,  517,  522,  523,\n",
       "        524,  513,  525,  526,  527,  512,  508,  509,  559,  621,  620,\n",
       "        615,  616,  617,  618,  619,  646,  649,  650,  644,  645,  606,\n",
       "        605,  604,  603,  602,  601,  570,  560,  562,  563,  564,  565,\n",
       "        567,  569,  612,  613,  614,  610,  607,  442,  441,  403,  402,\n",
       "        401,  380,  378,  404,  434,  432,  431,  430,  435,  439,  440,\n",
       "        438,  437,  420,  419,  418,  416,  415,  414,  405,  406,  410,\n",
       "        412,  413,  422,  423,  427,  428,  429,  426,  424,  425,   88,\n",
       "        208,   86,   27,   24,   23,   26,   25,  771,  780,  775,  776,\n",
       "        642,  643,  739,  747,  728,  921,  871,  865,  851,  855,  902,\n",
       "        857,  914,  905, 1104, 1105, 1112,  306,  303,  302,  272,  310,\n",
       "        311,  330,  320,  316,  318,  221,  238,  235,  233,  250,  249,\n",
       "        253,  519,  503,  433,  520,  571,  566,  609,  611,  536,  550,\n",
       "        554,  555,  547,  409,  421,  373,  749,  661,  814,  907,  903,\n",
       "        854,  869,  534,  511,  608,  548,  568,  561,  445,  231,  244,\n",
       "        321,  269,  379,  407,  408,  411,  209,  211, 1106,  750,  324,\n",
       "        901,  374,  743, 2392, 2390, 2391, 2385, 2387, 2388, 2389, 2381,\n",
       "       2383, 2384,  202, 2382, 2524, 2523, 2518, 2515, 2511, 2521, 2510,\n",
       "       2501, 2547, 2546, 2545, 2544, 2541, 2540, 2548, 2539, 2538, 2533,\n",
       "       2531, 2530, 2528, 2527, 2532, 2525, 2522, 2520, 2519, 2503, 2512,\n",
       "       2537, 2536, 2534, 2526, 2502,  305,  911, 2509, 2386, 2513,  514,\n",
       "        856], dtype=int64)"
      ]
     },
     "execution_count": 146,
     "metadata": {},
     "output_type": "execute_result"
    }
   ],
   "source": [
    "#Different block_id\n",
    "bizaddressindustry['block_id'].unique()"
   ]
  },
  {
   "cell_type": "code",
   "execution_count": 147,
   "metadata": {},
   "outputs": [
    {
     "data": {
      "text/plain": [
       "array([108658, 103618, 105752, ..., 714182, 714412, 511130], dtype=int64)"
      ]
     },
     "execution_count": 147,
     "metadata": {},
     "output_type": "execute_result"
    }
   ],
   "source": [
    "#Different property id\n",
    "bizaddressindustry['property_id'].unique()"
   ]
  },
  {
   "cell_type": "code",
   "execution_count": 148,
   "metadata": {},
   "outputs": [
    {
     "data": {
      "text/plain": [
       "array([108658, 103618, 110709, ..., 102196, 714412, 511130], dtype=int64)"
      ]
     },
     "execution_count": 148,
     "metadata": {},
     "output_type": "execute_result"
    }
   ],
   "source": [
    "#different base property id\n",
    "bizaddressindustry['base_property_id'].unique()"
   ]
  },
  {
   "cell_type": "code",
   "execution_count": 149,
   "metadata": {},
   "outputs": [
    {
     "data": {
      "text/plain": [
       "array(['Southbank', 'Melbourne (CBD)', 'West Melbourne (Residential)',\n",
       "       'Carlton', 'Docklands', 'Port Melbourne', 'Parkville',\n",
       "       'Melbourne (Remainder)', 'West Melbourne (Industrial)',\n",
       "       'South Yarra', 'East Melbourne', 'North Melbourne', 'Kensington'],\n",
       "      dtype=object)"
      ]
     },
     "execution_count": 149,
     "metadata": {},
     "output_type": "execute_result"
    }
   ],
   "source": [
    "# Different business industry classified according to CLUE small area \n",
    "bizaddress_cluesmallarea = bizaddressindustry['clue_small_area'].unique()\n",
    "\n",
    "bizaddress_cluesmallarea"
   ]
  },
  {
   "cell_type": "code",
   "execution_count": 150,
   "metadata": {},
   "outputs": [
    {
     "data": {
      "text/plain": [
       "array([   0, 4511, 9531, 4512, 5801, 7220, 1611, 6999, 4129, 8101, 5101,\n",
       "       9551, 6720, 4520, 3211, 7000, 6931, 4810, 4271, 9540, 4279, 8102,\n",
       "       7299, 9511, 9559, 6411, 6932, 6230, 7510, 6924, 4400, 4213, 6419,\n",
       "       5419, 6921, 1191, 7520, 6330, 4211, 3912, 4242, 4241, 7540, 9533,\n",
       "       9001, 1510, 7714, 5299, 8219, 6961, 5809, 9002, 8599, 8512, 4252,\n",
       "       8532, 4255, 4273, 4244, 4258, 4251, 4243, 4257, 4710, 4110, 9552,\n",
       "       9539, 8922, 6923, 9422, 8531, 2620, 2491, 3231, 6922, 4221, 2640,\n",
       "       4530, 2599, 9411, 6221, 7711, 4274, 6962, 4253, 4259, 4214, 3494,\n",
       "       1351, 2700, 1333, 9491, 7211, 3732, 1523, 8511, 8220, 6940, 7552,\n",
       "       5910, 5922, 5309, 9003, 8790, 5413, 4111, 6950, 3339, 3019, 5411,\n",
       "       7291, 4123, 4260, 5513, 6991, 5420, 6223, 5610, 8212, 3739, 9114,\n",
       "       3711, 3299, 6420, 4121, 8520, 4623, 3332, 8539, 2591, 8710, 1912,\n",
       "       3605, 9419, 7311, 8021, 7600, 8537, 4222, 6632, 6611, 3419, 3921,\n",
       "       4122, 4272, 4000, 2010, 6925, 9111, 1620, 9532, 8534, 8211, 9209,\n",
       "       5029, 4256, 4231, 1174, 8533, 3101, 9113, 3911, 4900, 6240, 2419,\n",
       "       4320, 3800, 2293, 4254, 9499, 3712, 6910, 2412, 7530, 6010, 2311,\n",
       "       6321, 6322, 8601, 5412, 5291, 5219, 7212, 3311, 2223, 3604, 7294,\n",
       "        700, 3020, 3322, 3603, 9131, 5512, 1831, 1090, 5621,  801, 6229,\n",
       "       3312, 6310, 6712, 1012, 5220, 5301, 5211, 2469, 8910, 2812, 3736,\n",
       "       5212, 2031, 3492, 4310, 5102, 5511, 2394, 3011, 1332, 5414, 2422,\n",
       "       1133, 3731, 8401, 3323, 3491, 8609, 4610, 1841, 8921, 3319, 2121,\n",
       "       2452, 5921, 8023, 9112, 3232, 9201, 3720, 9412,  990, 7713, 2519,\n",
       "       1011, 3609, 3411, 4212, 3331, 3922, 2421,  529, 9139, 3602, 1334,\n",
       "       5010, 2029, 1352,  510, 9202, 5292, 3735, 4245, 5802, 5521, 1331,\n",
       "       1499, 2033, 4622, 4720, 2432, 9534, 3212, 4621, 6631, 6619, 7712,\n",
       "       8022, 6640, 1612, 4513, 2399, 2299, 8010, 5522, 2240, 2032, 9520,\n",
       "       1491, 1492, 1131, 4229, 1111, 3606, 1161, 2312, 2319, 1911, 1172,\n",
       "       1173, 3734, 2911, 9129, 9121, 2811, 3244, 2511, 2313, 3504,  804,\n",
       "       6639, 3233, 6711, 4820, 7293, 1812, 8024, 3321, 6222, 5700, 9512,\n",
       "        805, 2110, 3221, 2229, 2612, 3109,  145,  111, 1192, 2393, 9429,\n",
       "       1113, 6970, 2463, 3501, 1181, 3234, 1212, 2462, 2439, 7320, 1919,\n",
       "       1120, 3245, 8402, 2132, 1529,  806, 8591, 3493, 3243, 2034, 2021,\n",
       "       3505, 1916, 1852, 2512, 1171, 6210, 3239, 2391, 2431, 1211, 1162,\n",
       "       4232, 1112, 7313, 5514, 3913,  809, 3291,  919, 2611, 3241, 6020,\n",
       "       2619,  803, 3499, 7292, 2919, 7719, 7551, 1851, 1920, 2411, 2499,\n",
       "        191, 2922, 2392, 2449, 3242, 1199, 1214, 2429, 1140, 2630, 1829,\n",
       "       7720,  122,  807, 5622, 3733, 2461, 1811, 3223, 2592, 1709,  600,\n",
       "       3502, 1182, 1150, 6620, 2921, 3292, 2090, 1493,  301,  302,  802,\n",
       "       3224, 9421, 1494,  160, 1312, 3503,  149, 1813, 2221, 1832,  113,\n",
       "       1701,  144, 3601, 5021, 1220, 1842, 2451, 1320,  131,  419, 1899,\n",
       "        142], dtype=int64)"
      ]
     },
     "execution_count": 150,
     "metadata": {},
     "output_type": "execute_result"
    }
   ],
   "source": [
    "#Different anzic4 code \n",
    "bizaddressindustry['industry_anzsic4_code'].unique()"
   ]
  },
  {
   "cell_type": "code",
   "execution_count": 151,
   "metadata": {},
   "outputs": [
    {
     "data": {
      "text/plain": [
       "array(['Vacant Space', 'Cafes and Restaurants',\n",
       "       'Laundry and Dry-Cleaning Services', 'Takeaway Food Services',\n",
       "       'Wired Telecommunications Network Operation',\n",
       "       'Travel Agency and Tour Arrangement Services', 'Printing',\n",
       "       'Other Professional, Scientific and Technical Services n.e.c.',\n",
       "       'Other Specialised Food Retailing',\n",
       "       'Technical and Vocational Education and Training',\n",
       "       'Postal Services',\n",
       "       'Business and Professional Association Services',\n",
       "       'Real Estate Services', 'Pubs, Taverns and Bars',\n",
       "       'Land Development and Subdivision',\n",
       "       'Computer System Design and Related Services', 'Legal Services',\n",
       "       'Water Freight Transport',\n",
       "       'Pharmaceutical, Cosmetic and Toiletry Goods Retailing',\n",
       "       'Religious Services', 'Other Store-Based Retailing n.e.c.',\n",
       "       'Higher Education', 'Other Administrative Services n.e.c.',\n",
       "       'Hairdressing and Beauty Services',\n",
       "       'Other Interest Group Services n.e.c.',\n",
       "       'Financial Asset Broking Services', 'Accounting Services',\n",
       "       'Non-Depository Financing', 'Central Government Administration',\n",
       "       'Other Specialised Design Services', 'Accommodation',\n",
       "       'Houseware Retailing',\n",
       "       'Other Auxiliary Finance and Investment Services',\n",
       "       'Other Publishing (except Software, Music and Internet)',\n",
       "       'Architectural Services',\n",
       "       'Potato, Corn and Other Crisp Manufacturing',\n",
       "       'State Government Administration', 'Superannuation Funds',\n",
       "       'Furniture Retailing', 'Motor Cycle Retailing',\n",
       "       'Entertainment Media Retailing',\n",
       "       'Sport and Camping Equipment Retailing', 'Justice',\n",
       "       'Parking Services', 'Performing Arts Operation',\n",
       "       'Pulp, Paper and Paperboard Manufacturing',\n",
       "       'Correctional and Detention Services',\n",
       "       'Other Transport Support Services n.e.c.',\n",
       "       'Adult, Community and Other Education n.e.c.',\n",
       "       'Corporate Head Office Management Services',\n",
       "       'Other Telecommunications Services',\n",
       "       'Creative Artists, Musicians, Writers and Performers',\n",
       "       'Other Health Care Services n.e.c.', 'Specialist Medical Services',\n",
       "       'Footwear Retailing', 'Optometry and Optical Dispensing',\n",
       "       'Womens Clothing Retailing', 'Antique and Used Goods Retailing',\n",
       "       'Newspaper and Book Retailing', 'Womens Footwear Retailing',\n",
       "       'Clothing Retailing', 'Toy and Game Retailing',\n",
       "       'Mens Footwear Retailing', 'Rail Freight Transport',\n",
       "       'Supermarket and Grocery Stores', 'Labour Association Services',\n",
       "       'Other Personal Services n.e.c.',\n",
       "       'Nature Reserves and Conservation Parks Operation',\n",
       "       'Engineering Design and Engineering Consulting Services',\n",
       "       'Electronic (except Domestic Appliance) and Precision Equipment Repair and Maint',\n",
       "       'Dental Services', 'Electricity Transmission',\n",
       "       'Lifting and Material Handling Equipment Manufacturing',\n",
       "       'Plumbing Services', 'Surveying and Mapping Services',\n",
       "       'Electrical, Electronic and Gas Appliance Retailing',\n",
       "       'On Selling Electricity and Electricity Market Operation',\n",
       "       'Clubs (Hospitality)', 'Other Manufacturing n.e.c.',\n",
       "       'Automotive Electrical Services', 'Banking', 'Police Services',\n",
       "       'Flower Retailing',\n",
       "       'Management Advice and Other Consulting Services',\n",
       "       'Watch and Jewellery Retailing',\n",
       "       'Other Personal Accessory Retailing',\n",
       "       'Manchester and Other Textile Goods Retailing',\n",
       "       'Other Electrical and Electronic Good Wholesaling',\n",
       "       'Clothing Manufacturing', 'Gas Supply',\n",
       "       'Cut and Sewn Textile Product Manufacturing',\n",
       "       'Clothing and Footwear Repair',\n",
       "       'Employment Placement and Recruitment Services',\n",
       "       'Jewellery and Watch Wholesaling',\n",
       "       'Paper Stationery Manufacturing',\n",
       "       'General Practice Medical Services',\n",
       "       'Educational Support Services', 'Advertising Services',\n",
       "       'Foreign Government Representation',\n",
       "       'Internet Service Providers and Web Search Portals',\n",
       "       'Electronic Information Storage Services',\n",
       "       'Other Warehousing and Storage Services',\n",
       "       'Performing Arts Venue Operation',\n",
       "       'Other Social Assistance Services', 'Book Publishing',\n",
       "       'Convenience Store', 'Market Research and Statistical Services',\n",
       "       'Other Hardware Good Wholesaling',\n",
       "       'Other Residential Building Construction', 'Newspaper Publishing',\n",
       "       'Office Administrative Services', 'Liquor Retailing',\n",
       "       'Department Stores', 'Motion Picture Exhibition',\n",
       "       'Professional Photographic Services', 'Software Publishing',\n",
       "       'Credit Union Operation', 'Radio Broadcasting', 'Arts Education',\n",
       "       'Other Goods Wholesaling n.e.c.',\n",
       "       'Sport and Physical Recreation Administrative Service',\n",
       "       'Textile Product Wholesaling',\n",
       "       'Other Construction Services n.e.c.',\n",
       "       'Auxiliary Insurance Services',\n",
       "       'Fresh Meat, Fish and Poultry Retailing',\n",
       "       'Pathology and Diagnostic Imaging Services',\n",
       "       'Taxi and Other Road Transport', 'Plumbing Good Wholesaling',\n",
       "       'Other Allied Health Services',\n",
       "       'Jewellery and Silverware Manufacturing', 'Child Care Services',\n",
       "       'Rigid and Semi-Rigid Polymer Product Manufacturing',\n",
       "       'Fruit and Vegetable Wholesaling',\n",
       "       'Other Automotive Repair and Maintenance',\n",
       "       'Building and Other Industrial Cleaning Services',\n",
       "       'Primary Education', 'Defence', 'Alternative Health Services',\n",
       "       'Computer and Computer Peripheral Retailing',\n",
       "       'Video and Other Electronic Media Rental',\n",
       "       'Passenger Car Rental and Hiring',\n",
       "       'Other Specialised Industrial Machinery and Equipment Wholesaling',\n",
       "       'Motor Vehicle Parts Retailing', 'Fruit and Vegetable Retailing',\n",
       "       'Stationery Goods Retailing', 'Fuel Retailing',\n",
       "       'Glass and Glass Product Manufacturing',\n",
       "       'Scientific Testing and Analysis Services',\n",
       "       'Health and Fitness Centres and Gymnasia Operation',\n",
       "       'Reproduction of Recorded Media', 'Photographic Film Processing',\n",
       "       'Chiropractic and Osteopathic Services',\n",
       "       'Sports and Physical Recreation Instruction',\n",
       "       'Other Gambling Activities', 'Other Transport n.e.c.',\n",
       "       'Childrens Clothing Retailing',\n",
       "       'Hardware and Building Supplies Retailing',\n",
       "       'Bakery Product Manufacturing (Non-factory based)',\n",
       "       'Physiotherapy Services', 'Road and Bridge Construction',\n",
       "       'Sports and Physical Recreation Venues, Grounds and Facilities Operation',\n",
       "       'Car Retailing', 'Air and Space Transport',\n",
       "       'Financial Asset Investing',\n",
       "       'Other Professional and Scientific Equipment Manufacturing',\n",
       "       'Retail Commission-Based Buying and/or Selling',\n",
       "       'Commission-Based Wholesaling', 'Metal Coating and Finishing',\n",
       "       'Mens Clothing Retailing', 'Other Repair and Maintenance n.e.c.',\n",
       "       'Clothing and Footwear Wholesaling',\n",
       "       'Scientific Research Services',\n",
       "       'Medical and Surgical Equipment Manufacturing',\n",
       "       'Local Government Administration', 'Libraries and Archives',\n",
       "       'Motor Vehicle Manufacturing', 'Health Insurance',\n",
       "       'General Insurance', 'Aged Care Residential Services',\n",
       "       'Magazine and Other Periodical Publishing',\n",
       "       'Customs Agency Services',\n",
       "       'Other Water Transport Support Services', 'Labour Supply Services',\n",
       "       'Wool Wholesaling',\n",
       "       'Architectural Aluminium Product Manufacturing',\n",
       "       'Fish and Seafood Wholesaling', 'Call Centre Operation',\n",
       "       'Oil and Gas Extraction', 'Non-Residential Building Construction',\n",
       "       'Metal and Mineral Wholesaling', 'Dairy Produce Wholesaling',\n",
       "       'Amusement Parks and Centres Operation',\n",
       "       'Motion Picture and Video Distribution',\n",
       "       'Fertiliser Manufacturing', 'Other Mining Support Services',\n",
       "       'Free-to-Air Television Broadcasting', 'Iron Ore Mining',\n",
       "       'Other Depository Financial Intermediation',\n",
       "       'Cereal Grain Wholesaling', 'Life Insurance',\n",
       "       'Non-Residential Property Operators', 'Mineral Exploration',\n",
       "       'Airport Operations and Other Air Transport Support Services',\n",
       "       'Grain Storage Services', 'Stevedoring Services',\n",
       "       'Other Specialised Machinery and Equipment Manufacturing',\n",
       "       'Museum Operation', 'Sewerage and Drainage Services',\n",
       "       'Paper Product Wholesaling',\n",
       "       'Port and Water Transport Terminal Operations',\n",
       "       'Cement and Lime Manufacturing',\n",
       "       'Computer and Computer Peripheral Wholesaling',\n",
       "       'Non-Store Retailing', 'Courier Pick-up and Delivery Services',\n",
       "       'Motion Picture and Video Production',\n",
       "       'Aircraft Manufacturing and Repair Services', 'House Construction',\n",
       "       'Rope, Cordage and Twine Manufacturing',\n",
       "       'Directory and Mailing List Publishing',\n",
       "       'Communications Equipment Manufacturing',\n",
       "       'Cheese and Other Dairy Product Manufacturing',\n",
       "       'Furniture and Floor Covering Wholesaling',\n",
       "       'Hospitals (except Psychiatric Hospitals)',\n",
       "       'Industrial and Agricultural Chemical Product Wholesaling',\n",
       "       'Professional and Scientific Goods Wholesaling',\n",
       "       'Other Residential Care Services', 'Road Freight Transport',\n",
       "       'Human Pharmaceutical and Medicinal Product Manufacturing',\n",
       "       'Zoological and Botanical Gardens Operation',\n",
       "       'Other Agricultural Product Wholesaling', 'Iron and Steel Casting',\n",
       "       'Fixed Space Heating, Cooling and Ventilation Equipment Manufacturing',\n",
       "       'Data Processing and Web Hosting Services',\n",
       "       'Combined Primary and Secondary Education',\n",
       "       'Sports and Physical Recreation Clubs and Sports Professionals',\n",
       "       'Electrical Services', 'Casino Operation',\n",
       "       'Pharmaceutical and Toiletry Goods Wholesaling',\n",
       "       'Automotive Body, Paint and Interior Repair',\n",
       "       'Other Non-Metallic Mineral Mining and Quarrying',\n",
       "       'Fire Protection and Other Emergency Services',\n",
       "       'Other Furniture Manufacturing', 'Petroleum Exploration',\n",
       "       'Other Grocery Wholesaling',\n",
       "       'Agricultural and Construction Machinery Wholesaling',\n",
       "       'Floor Coverings Retailing', 'Timber Wholesaling',\n",
       "       'Tyre Retailing',\n",
       "       'Computer and Electronic Office Equipment Manufacturing',\n",
       "       'Other Agriculture and Fishing Support Services',\n",
       "       'Amusement and Other Recreational Activities n.e.c.',\n",
       "       'Meat, Poultry and Smallgoods Wholesaling',\n",
       "       'Textile Finishing and Other Textile Product Manufacturing',\n",
       "       'Scenic and Sightseeing Transport',\n",
       "       'Other Ceramic Product Manufacturing', 'Footwear Manufacturing',\n",
       "       'Forestry Support Services', 'Lottery Operation',\n",
       "       'Freight Forwarding Services', 'Book and Magazine Wholesaling',\n",
       "       'Marine Equipment Retailing',\n",
       "       'Other Telecommunications Network Operation', 'Music Publishing',\n",
       "       'Textile Floor Covering Manufacturing',\n",
       "       'Other Wood Product Manufacturing n.e.c.',\n",
       "       'Ready-Mixed Concrete Manufacturing',\n",
       "       'Urban Bus Transport (Including Tramway)',\n",
       "       'Rail Passenger Transport',\n",
       "       'Electric Lighting Equipment Manufacturing',\n",
       "       'Brothel Keeping and Prostitution Services',\n",
       "       'Site Preparation Services', 'Interurban and Rural Bus Transport',\n",
       "       'Heavy Machinery and Scaffolding Rental and Hiring',\n",
       "       'Other Motor Vehicle and Transport Equipment Rental and Hiring',\n",
       "       'Investigation and Security Services', 'Secondary Education',\n",
       "       'Non-Financial Intangible Assets (Except Copyrights) Leasing',\n",
       "       'Printing Support Services', 'Catering Services',\n",
       "       'Other Transport Equipment Manufacturing n.e.c.',\n",
       "       'Other Fabricated Metal Product Manufacturing n.e.c.',\n",
       "       'Pre-school Education',\n",
       "       'Music and Other Sound Recording Activities',\n",
       "       'Other Sheet Metal Product Manufacturing',\n",
       "       'Plaster Product Manufacturing',\n",
       "       'Funeral, Crematorium and Cemetery Services',\n",
       "       'Prefabricated Wooden Building Manufacturing',\n",
       "       'Wooden Structural Fitting and Component Manufacturing',\n",
       "       'Milk and Cream Processing',\n",
       "       'Other Electrical and Electronic Goods Retailing',\n",
       "       'Meat Processing', 'Liquor and Tobacco Product Wholesaling',\n",
       "       'Grain Mill Product Manufacturing',\n",
       "       'Motor Vehicle Body and Trailer Manufacturing',\n",
       "       'Other Motor Vehicle Parts Manufacturing',\n",
       "       'Polymer Film and Sheet Packaging Material Manufacturing',\n",
       "       'Cake and Pastry Manufacturing (Factory based)',\n",
       "       'Biscuit Manufacturing (Factory based)',\n",
       "       'Toy and Sporting Goods Wholesaling',\n",
       "       'Solid Waste Collection Services',\n",
       "       'Other Horse and Dog Racing Activities',\n",
       "       'Horse and Dog Racing Administration and Track Operation',\n",
       "       'Water Supply', 'Painting and Decorating Services',\n",
       "       'Wooden Furniture and Upholstered Seat Manufacturing',\n",
       "       'Automotive Electrical Component Manufacturing',\n",
       "       'Motor Vehicle New Part Wholesaling', 'Gold Ore Mining',\n",
       "       'Other Goods and Equipment Rental and Hiring n.e.c.',\n",
       "       'Air Conditioning and Heating Services',\n",
       "       'Residential Property Operators', 'Water Passenger Transport',\n",
       "       'Credit Reporting and Debt Collection Services',\n",
       "       'Basic Organic Chemical Manufacturing', 'Special School Education',\n",
       "       'Petroleum Product Wholesaling', 'Building Society Operation',\n",
       "       'Internet Publishing and Broadcasting',\n",
       "       'Diet and Weight Reduction Centre Operation',\n",
       "       'Mineral Sand Mining', 'Iron Smelting and Steel Manufacturing',\n",
       "       'Concreting Services',\n",
       "       'Other Structural Metal Product Manufacturing',\n",
       "       'Hydro-Electricity Generation',\n",
       "       'Other Heavy and Civil Engineering Construction',\n",
       "       'Grain-Sheep or Grain-Beef Cattle Farming',\n",
       "       'Nursery Production (Under Cover)',\n",
       "       'Prepared Animal and Bird Feed Manufacturing',\n",
       "       'Railway Rolling Stock Manufacturing and Repair Services',\n",
       "       'Other Machinery and Equipment Repair and Maintenance',\n",
       "       'Cured Meat and Smallgoods Manufacturing', 'Veterinary Services',\n",
       "       'Machine Tool and Parts Manufacturing', 'Car Wholesaling',\n",
       "       'Sugar Manufacturing',\n",
       "       'Fire and Security Alarm Installation Services',\n",
       "       'Beer Manufacturing',\n",
       "       'Mining and Construction Machinery Manufacturing',\n",
       "       'Other Electrical Equipment Manufacturing', 'Packaging Services',\n",
       "       'Other Polymer Product Manufacturing', 'Seafood Processing',\n",
       "       'Glazing Services', 'Psychiatric Hospitals', 'Aluminium Smelting',\n",
       "       'Other Converted Paper Product Manufacturing', 'Nickel Ore Mining',\n",
       "       'Ambulance Services', 'Telecommunication Goods Wholesaling',\n",
       "       'Tiling and Carpeting Services', 'Concrete Product Manufacturing',\n",
       "       'Clay Brick Manufacturing',\n",
       "       'Motor Vehicle Dismantling and Used Part Wholesaling',\n",
       "       'Paint and Coatings Manufacturing',\n",
       "       'Cosmetic and Toiletry Preparation Manufacturing',\n",
       "       'Metal Furniture Manufacturing',\n",
       "       'Bread Manufacturing (Factory based)', 'Central Banking',\n",
       "       'Other Building Installation Services',\n",
       "       'Shipbuilding and Repair Services',\n",
       "       'Electric Cable and Wire Manufacturing',\n",
       "       'Soft Drink, Cordial and Syrup Manufacturing',\n",
       "       'Cereal, Pasta and Baking Mix Manufacturing',\n",
       "       'Garden Supplies Retailing', 'Poultry Processing',\n",
       "       'Gardening Services',\n",
       "       'Post-production Services and Other Motion Picture and Video Activities',\n",
       "       'Trailer and Other Motor Vehicle Retailing',\n",
       "       'Other Metal Ore Mining', 'Landscape Construction Services',\n",
       "       'Other Construction Material Mining',\n",
       "       'Fossil Fuel Electricity Generation',\n",
       "       'Plastering and Ceiling Services', 'Other Information Services',\n",
       "       'Other Electricity Generation', 'Copper Ore Mining',\n",
       "       'Other Machinery and Equipment Wholesaling n.e.c.',\n",
       "       'Document Preparation Services', 'Other Waste Collection Services',\n",
       "       'Other Public Order and Safety Services',\n",
       "       'Domestic Government Representation',\n",
       "       'Cleaning Compound Manufacturing',\n",
       "       'Natural Rubber Product Manufacturing',\n",
       "       'Photographic, Optical and Ophthalmic Equipment Manufacturing',\n",
       "       'Other Machinery and Equipment Manufacturing n.e.c.',\n",
       "       'Horse Farming',\n",
       "       'Waste Remediation and Materials Recovery Services',\n",
       "       'Boatbuilding and Repair Services',\n",
       "       'Other Domestic Appliance Manufacturing', 'Carpentry Services',\n",
       "       'Other Food Product Manufacturing n.e.c.',\n",
       "       'Wine and Other Alcoholic Beverage Manufacturing',\n",
       "       'Other Electronic Equipment Manufacturing',\n",
       "       'Fruit and Vegetable Processing', 'Electricity Distribution',\n",
       "       'Other Basic Polymer Manufacturing', 'Regulatory Services',\n",
       "       'Vegetable Growing (Under Cover)', 'Silver-Lead-Zinc Ore Mining',\n",
       "       'Cable and Other Subscription Broadcasting',\n",
       "       'Kitchen and Diningware Wholesaling',\n",
       "       'Agricultural Machinery and Equipment Manufacturing',\n",
       "       'Industrial Gas Manufacturing', 'Roofing Services',\n",
       "       'Toy, Sporting and Recreational Product Manufacturing',\n",
       "       'Other Petroleum and Coal Product Manufacturing', 'Coal Mining',\n",
       "       'Commercial Vehicle Wholesaling', 'Confectionery Manufacturing',\n",
       "       'Oil and Fat Manufacturing', 'Farm Animals and Bloodstock Leasing',\n",
       "       'Waste Treatment and Disposal Services',\n",
       "       'Hire of Construction Machinery with Operator',\n",
       "       'Other Non-Metallic Mineral Product Manufacturing',\n",
       "       'Veneer and Plywood Manufacturing', 'Forestry', 'Logging',\n",
       "       'Bauxite Mining', 'Structural Steel Erection Services',\n",
       "       'Domestic Appliance Repair and Maintenance',\n",
       "       'Reconstituted Wood Product Manufacturing', 'Dairy Cattle Farming',\n",
       "       'Natural Textile Manufacturing',\n",
       "       'Trailer and Other Motor Vehicle Wholesaling',\n",
       "       'Other Grain Growing', 'Basic Inorganic Chemical Manufacturing',\n",
       "       'Structural Steel Fabricating', 'Pesticide Manufacturing',\n",
       "       'Turf Growing',\n",
       "       'Petroleum Refining and Petroleum Fuel Manufacturing',\n",
       "       'Sheep-Beef Cattle Farming', 'General Line Grocery Wholesaling',\n",
       "       'Pipeline Transport',\n",
       "       'Cigarette and Tobacco Product Manufacturing',\n",
       "       'Veterinary Pharmaceutical and Medicinal Product Manufacturing',\n",
       "       'Pump and Compressor Manufacturing',\n",
       "       'Leather Tanning, Fur Dressing and Leather Product Manufacturing',\n",
       "       'Grape Growing', 'Other Fishing',\n",
       "       'Other Basic Chemical Product Manufacturing n.e.c.',\n",
       "       'Beef Cattle Farming (Specialised)'], dtype=object)"
      ]
     },
     "execution_count": 151,
     "metadata": {},
     "output_type": "execute_result"
    }
   ],
   "source": [
    "bizaddressindustry_anzsic4_desc = bizaddressindustry['industry_anzsic4_description'].unique()\n",
    "\n",
    "bizaddressindustry_anzsic4_desc"
   ]
  },
  {
   "cell_type": "code",
   "execution_count": 152,
   "metadata": {},
   "outputs": [
    {
     "data": {
      "text/plain": [
       "{0: 'Vacant Space',\n",
       " 4511: 'Cafes and Restaurants',\n",
       " 9531: 'Laundry and Dry-Cleaning Services',\n",
       " 4512: 'Takeaway Food Services',\n",
       " 5801: 'Wired Telecommunications Network Operation',\n",
       " 7220: 'Travel Agency and Tour Arrangement Services',\n",
       " 1611: 'Printing',\n",
       " 6999: 'Other Professional, Scientific and Technical Services n.e.c.',\n",
       " 4129: 'Other Specialised Food Retailing',\n",
       " 8101: 'Technical and Vocational Education and Training',\n",
       " 5101: 'Postal Services',\n",
       " 9551: 'Business and Professional Association Services',\n",
       " 6720: 'Real Estate Services',\n",
       " 4520: 'Pubs, Taverns and Bars',\n",
       " 3211: 'Land Development and Subdivision',\n",
       " 7000: 'Computer System Design and Related Services',\n",
       " 6931: 'Legal Services',\n",
       " 4810: 'Water Freight Transport',\n",
       " 4271: 'Pharmaceutical, Cosmetic and Toiletry Goods Retailing',\n",
       " 9540: 'Religious Services',\n",
       " 4279: 'Other Store-Based Retailing n.e.c.',\n",
       " 8102: 'Higher Education',\n",
       " 7299: 'Other Administrative Services n.e.c.',\n",
       " 9511: 'Hairdressing and Beauty Services',\n",
       " 9559: 'Other Interest Group Services n.e.c.',\n",
       " 6411: 'Financial Asset Broking Services',\n",
       " 6932: 'Accounting Services',\n",
       " 6230: 'Non-Depository Financing',\n",
       " 7510: 'Central Government Administration',\n",
       " 6924: 'Other Specialised Design Services',\n",
       " 4400: 'Accommodation',\n",
       " 4213: 'Houseware Retailing',\n",
       " 6419: 'Other Auxiliary Finance and Investment Services',\n",
       " 5419: 'Other Publishing (except Software, Music and Internet)',\n",
       " 6921: 'Architectural Services',\n",
       " 1191: 'Potato, Corn and Other Crisp Manufacturing',\n",
       " 7520: 'State Government Administration',\n",
       " 6330: 'Superannuation Funds',\n",
       " 4211: 'Furniture Retailing',\n",
       " 3912: 'Motor Cycle Retailing',\n",
       " 4242: 'Entertainment Media Retailing',\n",
       " 4241: 'Sport and Camping Equipment Retailing',\n",
       " 7540: 'Justice',\n",
       " 9533: 'Parking Services',\n",
       " 9001: 'Performing Arts Operation',\n",
       " 1510: 'Pulp, Paper and Paperboard Manufacturing',\n",
       " 7714: 'Correctional and Detention Services',\n",
       " 5299: 'Other Transport Support Services n.e.c.',\n",
       " 8219: 'Adult, Community and Other Education n.e.c.',\n",
       " 6961: 'Corporate Head Office Management Services',\n",
       " 5809: 'Other Telecommunications Services',\n",
       " 9002: 'Creative Artists, Musicians, Writers and Performers',\n",
       " 8599: 'Other Health Care Services n.e.c.',\n",
       " 8512: 'Specialist Medical Services',\n",
       " 4252: 'Footwear Retailing',\n",
       " 8532: 'Optometry and Optical Dispensing',\n",
       " 4255: 'Womens Clothing Retailing',\n",
       " 4273: 'Antique and Used Goods Retailing',\n",
       " 4244: 'Newspaper and Book Retailing',\n",
       " 4258: 'Womens Footwear Retailing',\n",
       " 4251: 'Clothing Retailing',\n",
       " 4243: 'Toy and Game Retailing',\n",
       " 4257: 'Mens Footwear Retailing',\n",
       " 4710: 'Rail Freight Transport',\n",
       " 4110: 'Supermarket and Grocery Stores',\n",
       " 9552: 'Labour Association Services',\n",
       " 9539: 'Other Personal Services n.e.c.',\n",
       " 8922: 'Nature Reserves and Conservation Parks Operation',\n",
       " 6923: 'Engineering Design and Engineering Consulting Services',\n",
       " 9422: 'Electronic (except Domestic Appliance) and Precision Equipment Repair and Maint',\n",
       " 8531: 'Dental Services',\n",
       " 2620: 'Electricity Transmission',\n",
       " 2491: 'Lifting and Material Handling Equipment Manufacturing',\n",
       " 3231: 'Plumbing Services',\n",
       " 6922: 'Surveying and Mapping Services',\n",
       " 4221: 'Electrical, Electronic and Gas Appliance Retailing',\n",
       " 2640: 'On Selling Electricity and Electricity Market Operation',\n",
       " 4530: 'Clubs (Hospitality)',\n",
       " 2599: 'Other Manufacturing n.e.c.',\n",
       " 9411: 'Automotive Electrical Services',\n",
       " 6221: 'Banking',\n",
       " 7711: 'Police Services',\n",
       " 4274: 'Flower Retailing',\n",
       " 6962: 'Management Advice and Other Consulting Services',\n",
       " 4253: 'Watch and Jewellery Retailing',\n",
       " 4259: 'Other Personal Accessory Retailing',\n",
       " 4214: 'Manchester and Other Textile Goods Retailing',\n",
       " 3494: 'Other Electrical and Electronic Good Wholesaling',\n",
       " 1351: 'Clothing Manufacturing',\n",
       " 2700: 'Gas Supply',\n",
       " 1333: 'Cut and Sewn Textile Product Manufacturing',\n",
       " 9491: 'Clothing and Footwear Repair',\n",
       " 7211: 'Employment Placement and Recruitment Services',\n",
       " 3732: 'Jewellery and Watch Wholesaling',\n",
       " 1523: 'Paper Stationery Manufacturing',\n",
       " 8511: 'General Practice Medical Services',\n",
       " 8220: 'Educational Support Services',\n",
       " 6940: 'Advertising Services',\n",
       " 7552: 'Foreign Government Representation',\n",
       " 5910: 'Internet Service Providers and Web Search Portals',\n",
       " 5922: 'Electronic Information Storage Services',\n",
       " 5309: 'Other Warehousing and Storage Services',\n",
       " 9003: 'Performing Arts Venue Operation',\n",
       " 8790: 'Other Social Assistance Services',\n",
       " 5413: 'Book Publishing',\n",
       " 4111: 'Convenience Store',\n",
       " 6950: 'Market Research and Statistical Services',\n",
       " 3339: 'Other Hardware Good Wholesaling',\n",
       " 3019: 'Other Residential Building Construction',\n",
       " 5411: 'Newspaper Publishing',\n",
       " 7291: 'Office Administrative Services',\n",
       " 4123: 'Liquor Retailing',\n",
       " 4260: 'Department Stores',\n",
       " 5513: 'Motion Picture Exhibition',\n",
       " 6991: 'Professional Photographic Services',\n",
       " 5420: 'Software Publishing',\n",
       " 6223: 'Credit Union Operation',\n",
       " 5610: 'Radio Broadcasting',\n",
       " 8212: 'Arts Education',\n",
       " 3739: 'Other Goods Wholesaling n.e.c.',\n",
       " 9114: 'Sport and Physical Recreation Administrative Service',\n",
       " 3711: 'Textile Product Wholesaling',\n",
       " 3299: 'Other Construction Services n.e.c.',\n",
       " 6420: 'Auxiliary Insurance Services',\n",
       " 4121: 'Fresh Meat, Fish and Poultry Retailing',\n",
       " 8520: 'Pathology and Diagnostic Imaging Services',\n",
       " 4623: 'Taxi and Other Road Transport',\n",
       " 3332: 'Plumbing Good Wholesaling',\n",
       " 8539: 'Other Allied Health Services',\n",
       " 2591: 'Jewellery and Silverware Manufacturing',\n",
       " 8710: 'Child Care Services',\n",
       " 1912: 'Rigid and Semi-Rigid Polymer Product Manufacturing',\n",
       " 3605: 'Fruit and Vegetable Wholesaling',\n",
       " 9419: 'Other Automotive Repair and Maintenance',\n",
       " 7311: 'Building and Other Industrial Cleaning Services',\n",
       " 8021: 'Primary Education',\n",
       " 7600: 'Defence',\n",
       " 8537: 'Alternative Health Services',\n",
       " 4222: 'Computer and Computer Peripheral Retailing',\n",
       " 6632: 'Video and Other Electronic Media Rental',\n",
       " 6611: 'Passenger Car Rental and Hiring',\n",
       " 3419: 'Other Specialised Industrial Machinery and Equipment Wholesaling',\n",
       " 3921: 'Motor Vehicle Parts Retailing',\n",
       " 4122: 'Fruit and Vegetable Retailing',\n",
       " 4272: 'Stationery Goods Retailing',\n",
       " 4000: 'Fuel Retailing',\n",
       " 2010: 'Glass and Glass Product Manufacturing',\n",
       " 6925: 'Scientific Testing and Analysis Services',\n",
       " 9111: 'Health and Fitness Centres and Gymnasia Operation',\n",
       " 1620: 'Reproduction of Recorded Media',\n",
       " 9532: 'Photographic Film Processing',\n",
       " 8534: 'Chiropractic and Osteopathic Services',\n",
       " 8211: 'Sports and Physical Recreation Instruction',\n",
       " 9209: 'Other Gambling Activities',\n",
       " 5029: 'Other Transport n.e.c.',\n",
       " 4256: 'Childrens Clothing Retailing',\n",
       " 4231: 'Hardware and Building Supplies Retailing',\n",
       " 1174: 'Bakery Product Manufacturing (Non-factory based)',\n",
       " 8533: 'Physiotherapy Services',\n",
       " 3101: 'Road and Bridge Construction',\n",
       " 9113: 'Sports and Physical Recreation Venues, Grounds and Facilities Operation',\n",
       " 3911: 'Car Retailing',\n",
       " 4900: 'Air and Space Transport',\n",
       " 6240: 'Financial Asset Investing',\n",
       " 2419: 'Other Professional and Scientific Equipment Manufacturing',\n",
       " 4320: 'Retail Commission-Based Buying and/or Selling',\n",
       " 3800: 'Commission-Based Wholesaling',\n",
       " 2293: 'Metal Coating and Finishing',\n",
       " 4254: 'Mens Clothing Retailing',\n",
       " 9499: 'Other Repair and Maintenance n.e.c.',\n",
       " 3712: 'Clothing and Footwear Wholesaling',\n",
       " 6910: 'Scientific Research Services',\n",
       " 2412: 'Medical and Surgical Equipment Manufacturing',\n",
       " 7530: 'Local Government Administration',\n",
       " 6010: 'Libraries and Archives',\n",
       " 2311: 'Motor Vehicle Manufacturing',\n",
       " 6321: 'Health Insurance',\n",
       " 6322: 'General Insurance',\n",
       " 8601: 'Aged Care Residential Services',\n",
       " 5412: 'Magazine and Other Periodical Publishing',\n",
       " 5291: 'Customs Agency Services',\n",
       " 5219: 'Other Water Transport Support Services',\n",
       " 7212: 'Labour Supply Services',\n",
       " 3311: 'Wool Wholesaling',\n",
       " 2223: 'Architectural Aluminium Product Manufacturing',\n",
       " 3604: 'Fish and Seafood Wholesaling',\n",
       " 7294: 'Call Centre Operation',\n",
       " 700: 'Oil and Gas Extraction',\n",
       " 3020: 'Non-Residential Building Construction',\n",
       " 3322: 'Metal and Mineral Wholesaling',\n",
       " 3603: 'Dairy Produce Wholesaling',\n",
       " 9131: 'Amusement Parks and Centres Operation',\n",
       " 5512: 'Motion Picture and Video Distribution',\n",
       " 1831: 'Fertiliser Manufacturing',\n",
       " 1090: 'Other Mining Support Services',\n",
       " 5621: 'Free-to-Air Television Broadcasting',\n",
       " 801: 'Iron Ore Mining',\n",
       " 6229: 'Other Depository Financial Intermediation',\n",
       " 3312: 'Cereal Grain Wholesaling',\n",
       " 6310: 'Life Insurance',\n",
       " 6712: 'Non-Residential Property Operators',\n",
       " 1012: 'Mineral Exploration',\n",
       " 5220: 'Airport Operations and Other Air Transport Support Services',\n",
       " 5301: 'Grain Storage Services',\n",
       " 5211: 'Stevedoring Services',\n",
       " 2469: 'Other Specialised Machinery and Equipment Manufacturing',\n",
       " 8910: 'Museum Operation',\n",
       " 2812: 'Sewerage and Drainage Services',\n",
       " 3736: 'Paper Product Wholesaling',\n",
       " 5212: 'Port and Water Transport Terminal Operations',\n",
       " 2031: 'Cement and Lime Manufacturing',\n",
       " 3492: 'Computer and Computer Peripheral Wholesaling',\n",
       " 4310: 'Non-Store Retailing',\n",
       " 5102: 'Courier Pick-up and Delivery Services',\n",
       " 5511: 'Motion Picture and Video Production',\n",
       " 2394: 'Aircraft Manufacturing and Repair Services',\n",
       " 3011: 'House Construction',\n",
       " 1332: 'Rope, Cordage and Twine Manufacturing',\n",
       " 5414: 'Directory and Mailing List Publishing',\n",
       " 2422: 'Communications Equipment Manufacturing',\n",
       " 1133: 'Cheese and Other Dairy Product Manufacturing',\n",
       " 3731: 'Furniture and Floor Covering Wholesaling',\n",
       " 8401: 'Hospitals (except Psychiatric Hospitals)',\n",
       " 3323: 'Industrial and Agricultural Chemical Product Wholesaling',\n",
       " 3491: 'Professional and Scientific Goods Wholesaling',\n",
       " 8609: 'Other Residential Care Services',\n",
       " 4610: 'Road Freight Transport',\n",
       " 1841: 'Human Pharmaceutical and Medicinal Product Manufacturing',\n",
       " 8921: 'Zoological and Botanical Gardens Operation',\n",
       " 3319: 'Other Agricultural Product Wholesaling',\n",
       " 2121: 'Iron and Steel Casting',\n",
       " 2452: 'Fixed Space Heating, Cooling and Ventilation Equipment Manufacturing',\n",
       " 5921: 'Data Processing and Web Hosting Services',\n",
       " 8023: 'Combined Primary and Secondary Education',\n",
       " 9112: 'Sports and Physical Recreation Clubs and Sports Professionals',\n",
       " 3232: 'Electrical Services',\n",
       " 9201: 'Casino Operation',\n",
       " 3720: 'Pharmaceutical and Toiletry Goods Wholesaling',\n",
       " 9412: 'Automotive Body, Paint and Interior Repair',\n",
       " 990: 'Other Non-Metallic Mineral Mining and Quarrying',\n",
       " 7713: 'Fire Protection and Other Emergency Services',\n",
       " 2519: 'Other Furniture Manufacturing',\n",
       " 1011: 'Petroleum Exploration',\n",
       " 3609: 'Other Grocery Wholesaling',\n",
       " 3411: 'Agricultural and Construction Machinery Wholesaling',\n",
       " 4212: 'Floor Coverings Retailing',\n",
       " 3331: 'Timber Wholesaling',\n",
       " 3922: 'Tyre Retailing',\n",
       " 2421: 'Computer and Electronic Office Equipment Manufacturing',\n",
       " 529: 'Other Agriculture and Fishing Support Services',\n",
       " 9139: 'Amusement and Other Recreational Activities n.e.c.',\n",
       " 3602: 'Meat, Poultry and Smallgoods Wholesaling',\n",
       " 1334: 'Textile Finishing and Other Textile Product Manufacturing',\n",
       " 5010: 'Scenic and Sightseeing Transport',\n",
       " 2029: 'Other Ceramic Product Manufacturing',\n",
       " 1352: 'Footwear Manufacturing',\n",
       " 510: 'Forestry Support Services',\n",
       " 9202: 'Lottery Operation',\n",
       " 5292: 'Freight Forwarding Services',\n",
       " 3735: 'Book and Magazine Wholesaling',\n",
       " 4245: 'Marine Equipment Retailing',\n",
       " 5802: 'Other Telecommunications Network Operation',\n",
       " 5521: 'Music Publishing',\n",
       " 1331: 'Textile Floor Covering Manufacturing',\n",
       " 1499: 'Other Wood Product Manufacturing n.e.c.',\n",
       " 2033: 'Ready-Mixed Concrete Manufacturing',\n",
       " 4622: 'Urban Bus Transport (Including Tramway)',\n",
       " 4720: 'Rail Passenger Transport',\n",
       " 2432: 'Electric Lighting Equipment Manufacturing',\n",
       " 9534: 'Brothel Keeping and Prostitution Services',\n",
       " 3212: 'Site Preparation Services',\n",
       " 4621: 'Interurban and Rural Bus Transport',\n",
       " 6631: 'Heavy Machinery and Scaffolding Rental and Hiring',\n",
       " 6619: 'Other Motor Vehicle and Transport Equipment Rental and Hiring',\n",
       " 7712: 'Investigation and Security Services',\n",
       " 8022: 'Secondary Education',\n",
       " 6640: 'Non-Financial Intangible Assets (Except Copyrights) Leasing',\n",
       " 1612: 'Printing Support Services',\n",
       " 4513: 'Catering Services',\n",
       " 2399: 'Other Transport Equipment Manufacturing n.e.c.',\n",
       " 2299: 'Other Fabricated Metal Product Manufacturing n.e.c.',\n",
       " 8010: 'Pre-school Education',\n",
       " 5522: 'Music and Other Sound Recording Activities',\n",
       " 2240: 'Other Sheet Metal Product Manufacturing',\n",
       " 2032: 'Plaster Product Manufacturing',\n",
       " 9520: 'Funeral, Crematorium and Cemetery Services',\n",
       " 1491: 'Prefabricated Wooden Building Manufacturing',\n",
       " 1492: 'Wooden Structural Fitting and Component Manufacturing',\n",
       " 1131: 'Milk and Cream Processing',\n",
       " 4229: 'Other Electrical and Electronic Goods Retailing',\n",
       " 1111: 'Meat Processing',\n",
       " 3606: 'Liquor and Tobacco Product Wholesaling',\n",
       " 1161: 'Grain Mill Product Manufacturing',\n",
       " 2312: 'Motor Vehicle Body and Trailer Manufacturing',\n",
       " 2319: 'Other Motor Vehicle Parts Manufacturing',\n",
       " 1911: 'Polymer Film and Sheet Packaging Material Manufacturing',\n",
       " 1172: 'Cake and Pastry Manufacturing (Factory based)',\n",
       " 1173: 'Biscuit Manufacturing (Factory based)',\n",
       " 3734: 'Toy and Sporting Goods Wholesaling',\n",
       " 2911: 'Solid Waste Collection Services',\n",
       " 9129: 'Other Horse and Dog Racing Activities',\n",
       " 9121: 'Horse and Dog Racing Administration and Track Operation',\n",
       " 2811: 'Water Supply',\n",
       " 3244: 'Painting and Decorating Services',\n",
       " 2511: 'Wooden Furniture and Upholstered Seat Manufacturing',\n",
       " 2313: 'Automotive Electrical Component Manufacturing',\n",
       " 3504: 'Motor Vehicle New Part Wholesaling',\n",
       " 804: 'Gold Ore Mining',\n",
       " 6639: 'Other Goods and Equipment Rental and Hiring n.e.c.',\n",
       " 3233: 'Air Conditioning and Heating Services',\n",
       " 6711: 'Residential Property Operators',\n",
       " 4820: 'Water Passenger Transport',\n",
       " 7293: 'Credit Reporting and Debt Collection Services',\n",
       " 1812: 'Basic Organic Chemical Manufacturing',\n",
       " 8024: 'Special School Education',\n",
       " 3321: 'Petroleum Product Wholesaling',\n",
       " 6222: 'Building Society Operation',\n",
       " 5700: 'Internet Publishing and Broadcasting',\n",
       " 9512: 'Diet and Weight Reduction Centre Operation',\n",
       " 805: 'Mineral Sand Mining',\n",
       " 2110: 'Iron Smelting and Steel Manufacturing',\n",
       " 3221: 'Concreting Services',\n",
       " 2229: 'Other Structural Metal Product Manufacturing',\n",
       " 2612: 'Hydro-Electricity Generation',\n",
       " 3109: 'Other Heavy and Civil Engineering Construction',\n",
       " 145: 'Grain-Sheep or Grain-Beef Cattle Farming',\n",
       " 111: 'Nursery Production (Under Cover)',\n",
       " 1192: 'Prepared Animal and Bird Feed Manufacturing',\n",
       " 2393: 'Railway Rolling Stock Manufacturing and Repair Services',\n",
       " 9429: 'Other Machinery and Equipment Repair and Maintenance',\n",
       " 1113: 'Cured Meat and Smallgoods Manufacturing',\n",
       " 6970: 'Veterinary Services',\n",
       " 2463: 'Machine Tool and Parts Manufacturing',\n",
       " 3501: 'Car Wholesaling',\n",
       " 1181: 'Sugar Manufacturing',\n",
       " 3234: 'Fire and Security Alarm Installation Services',\n",
       " 1212: 'Beer Manufacturing',\n",
       " 2462: 'Mining and Construction Machinery Manufacturing',\n",
       " 2439: 'Other Electrical Equipment Manufacturing',\n",
       " 7320: 'Packaging Services',\n",
       " 1919: 'Other Polymer Product Manufacturing',\n",
       " 1120: 'Seafood Processing',\n",
       " 3245: 'Glazing Services',\n",
       " 8402: 'Psychiatric Hospitals',\n",
       " 2132: 'Aluminium Smelting',\n",
       " 1529: 'Other Converted Paper Product Manufacturing',\n",
       " 806: 'Nickel Ore Mining',\n",
       " 8591: 'Ambulance Services',\n",
       " 3493: 'Telecommunication Goods Wholesaling',\n",
       " 3243: 'Tiling and Carpeting Services',\n",
       " 2034: 'Concrete Product Manufacturing',\n",
       " 2021: 'Clay Brick Manufacturing',\n",
       " 3505: 'Motor Vehicle Dismantling and Used Part Wholesaling',\n",
       " 1916: 'Paint and Coatings Manufacturing',\n",
       " 1852: 'Cosmetic and Toiletry Preparation Manufacturing',\n",
       " 2512: 'Metal Furniture Manufacturing',\n",
       " 1171: 'Bread Manufacturing (Factory based)',\n",
       " 6210: 'Central Banking',\n",
       " 3239: 'Other Building Installation Services',\n",
       " 2391: 'Shipbuilding and Repair Services',\n",
       " 2431: 'Electric Cable and Wire Manufacturing',\n",
       " 1211: 'Soft Drink, Cordial and Syrup Manufacturing',\n",
       " 1162: 'Cereal, Pasta and Baking Mix Manufacturing',\n",
       " 4232: 'Garden Supplies Retailing',\n",
       " 1112: 'Poultry Processing',\n",
       " 7313: 'Gardening Services',\n",
       " 5514: 'Post-production Services and Other Motion Picture and Video Activities',\n",
       " 3913: 'Trailer and Other Motor Vehicle Retailing',\n",
       " 809: 'Other Metal Ore Mining',\n",
       " 3291: 'Landscape Construction Services',\n",
       " 919: 'Other Construction Material Mining',\n",
       " 2611: 'Fossil Fuel Electricity Generation',\n",
       " 3241: 'Plastering and Ceiling Services',\n",
       " 6020: 'Other Information Services',\n",
       " 2619: 'Other Electricity Generation',\n",
       " 803: 'Copper Ore Mining',\n",
       " 3499: 'Other Machinery and Equipment Wholesaling n.e.c.',\n",
       " 7292: 'Document Preparation Services',\n",
       " 2919: 'Other Waste Collection Services',\n",
       " 7719: 'Other Public Order and Safety Services',\n",
       " 7551: 'Domestic Government Representation',\n",
       " 1851: 'Cleaning Compound Manufacturing',\n",
       " 1920: 'Natural Rubber Product Manufacturing',\n",
       " 2411: 'Photographic, Optical and Ophthalmic Equipment Manufacturing',\n",
       " 2499: 'Other Machinery and Equipment Manufacturing n.e.c.',\n",
       " 191: 'Horse Farming',\n",
       " 2922: 'Waste Remediation and Materials Recovery Services',\n",
       " 2392: 'Boatbuilding and Repair Services',\n",
       " 2449: 'Other Domestic Appliance Manufacturing',\n",
       " 3242: 'Carpentry Services',\n",
       " 1199: 'Other Food Product Manufacturing n.e.c.',\n",
       " 1214: 'Wine and Other Alcoholic Beverage Manufacturing',\n",
       " 2429: 'Other Electronic Equipment Manufacturing',\n",
       " 1140: 'Fruit and Vegetable Processing',\n",
       " 2630: 'Electricity Distribution',\n",
       " 1829: 'Other Basic Polymer Manufacturing',\n",
       " 7720: 'Regulatory Services',\n",
       " 122: 'Vegetable Growing (Under Cover)',\n",
       " 807: 'Silver-Lead-Zinc Ore Mining',\n",
       " 5622: 'Cable and Other Subscription Broadcasting',\n",
       " 3733: 'Kitchen and Diningware Wholesaling',\n",
       " 2461: 'Agricultural Machinery and Equipment Manufacturing',\n",
       " 1811: 'Industrial Gas Manufacturing',\n",
       " 3223: 'Roofing Services',\n",
       " 2592: 'Toy, Sporting and Recreational Product Manufacturing',\n",
       " 1709: 'Other Petroleum and Coal Product Manufacturing',\n",
       " 600: 'Coal Mining',\n",
       " 3502: 'Commercial Vehicle Wholesaling',\n",
       " 1182: 'Confectionery Manufacturing',\n",
       " 1150: 'Oil and Fat Manufacturing',\n",
       " 6620: 'Farm Animals and Bloodstock Leasing',\n",
       " 2921: 'Waste Treatment and Disposal Services',\n",
       " 3292: 'Hire of Construction Machinery with Operator',\n",
       " 2090: 'Other Non-Metallic Mineral Product Manufacturing',\n",
       " 1493: 'Veneer and Plywood Manufacturing',\n",
       " 301: 'Forestry',\n",
       " 302: 'Logging',\n",
       " 802: 'Bauxite Mining',\n",
       " 3224: 'Structural Steel Erection Services',\n",
       " 9421: 'Domestic Appliance Repair and Maintenance',\n",
       " 1494: 'Reconstituted Wood Product Manufacturing',\n",
       " 160: 'Dairy Cattle Farming',\n",
       " 1312: 'Natural Textile Manufacturing',\n",
       " 3503: 'Trailer and Other Motor Vehicle Wholesaling',\n",
       " 149: 'Other Grain Growing',\n",
       " 1813: 'Basic Inorganic Chemical Manufacturing',\n",
       " 2221: 'Structural Steel Fabricating',\n",
       " 1832: 'Pesticide Manufacturing',\n",
       " 113: 'Turf Growing',\n",
       " 1701: 'Petroleum Refining and Petroleum Fuel Manufacturing',\n",
       " 144: 'Sheep-Beef Cattle Farming',\n",
       " 3601: 'General Line Grocery Wholesaling',\n",
       " 5021: 'Pipeline Transport',\n",
       " 1220: 'Cigarette and Tobacco Product Manufacturing',\n",
       " 1842: 'Veterinary Pharmaceutical and Medicinal Product Manufacturing',\n",
       " 2451: 'Pump and Compressor Manufacturing',\n",
       " 1320: 'Leather Tanning, Fur Dressing and Leather Product Manufacturing',\n",
       " 131: 'Grape Growing',\n",
       " 419: 'Other Fishing',\n",
       " 1899: 'Other Basic Chemical Product Manufacturing n.e.c.',\n",
       " 142: 'Beef Cattle Farming (Specialised)'}"
      ]
     },
     "execution_count": 152,
     "metadata": {},
     "output_type": "execute_result"
    }
   ],
   "source": [
    "#Creating a ANZSIC4 description dictonary\n",
    "anzsic4_dict  = dict(zip(bizaddressindustry['industry_anzsic4_code'], bizaddressindustry['industry_anzsic4_description']))\n",
    "\n",
    "anzsic4_dict"
   ]
  },
  {
   "cell_type": "markdown",
   "metadata": {},
   "source": [
    "### Handling missing values"
   ]
  },
  {
   "cell_type": "code",
   "execution_count": 153,
   "metadata": {},
   "outputs": [
    {
     "name": "stdout",
     "output_type": "stream",
     "text": [
      "<class 'pandas.core.frame.DataFrame'>\n",
      "Int64Index: 374210 entries, 198360 to 318285\n",
      "Data columns (total 11 columns):\n",
      " #   Column                        Non-Null Count   Dtype  \n",
      "---  ------                        --------------   -----  \n",
      " 0   census_year                   374210 non-null  int64  \n",
      " 1   block_id                      374210 non-null  int64  \n",
      " 2   property_id                   374210 non-null  int64  \n",
      " 3   base_property_id              374210 non-null  int64  \n",
      " 4   clue_small_area               374210 non-null  object \n",
      " 5   trading_name                  374083 non-null  object \n",
      " 6   business_address              374209 non-null  object \n",
      " 7   industry_anzsic4_code         374210 non-null  int64  \n",
      " 8   industry_anzsic4_description  374210 non-null  object \n",
      " 9   longitude                     369425 non-null  float64\n",
      " 10  latitude                      369425 non-null  float64\n",
      "dtypes: float64(2), int64(5), object(4)\n",
      "memory usage: 34.3+ MB\n"
     ]
    }
   ],
   "source": [
    "#dataset description \n",
    "bizaddressindustry.info()"
   ]
  },
  {
   "cell_type": "code",
   "execution_count": 154,
   "metadata": {},
   "outputs": [
    {
     "data": {
      "text/plain": [
       "census_year                        0\n",
       "block_id                           0\n",
       "property_id                        0\n",
       "base_property_id                   0\n",
       "clue_small_area                    0\n",
       "trading_name                     127\n",
       "business_address                   1\n",
       "industry_anzsic4_code              0\n",
       "industry_anzsic4_description       0\n",
       "longitude                       4785\n",
       "latitude                        4785\n",
       "dtype: int64"
      ]
     },
     "execution_count": 154,
     "metadata": {},
     "output_type": "execute_result"
    }
   ],
   "source": [
    "#bizaddressindustry dataset missing values\n",
    "bizaddressindustry.isna().sum()"
   ]
  },
  {
   "cell_type": "code",
   "execution_count": 155,
   "metadata": {},
   "outputs": [],
   "source": [
    "#Replacing the missing trading name and business industry with unknown name\n",
    "bizaddressindustry['trading_name'] = bizaddressindustry['trading_name'].fillna('unknown name')\n",
    "\n",
    "bizaddressindustry['business_address'] = bizaddressindustry['business_address'].fillna('unknown address')"
   ]
  },
  {
   "cell_type": "markdown",
   "metadata": {},
   "source": [
    "# Working area "
   ]
  },
  {
   "cell_type": "code",
   "execution_count": 156,
   "metadata": {},
   "outputs": [],
   "source": [
    "#Converting the dataframe to geodataframe \n",
    "gdf = gpd.GeoDataFrame(street_add, geometry = gpd.points_from_xy(street_add.longitude,street_add.latitude),crs = \"EPSG:4326\")"
   ]
  },
  {
   "cell_type": "code",
   "execution_count": 157,
   "metadata": {},
   "outputs": [
    {
     "data": {
      "image/png": "[encoded data removed]",
      "text/plain": [
       "<Figure size 640x480 with 1 Axes>"
      ]
     },
     "metadata": {},
     "output_type": "display_data"
    }
   ],
   "source": [
    "gdf = gpd.GeoDataFrame(street_add, geometry = gpd.points_from_xy(street_add.longitude,street_add.latitude),crs = \"EPSG:4326\")\n",
    "gdf.head()\n",
    "gdf.plot(marker = 'o',color = 'red', markersize =5)\n",
    "\n",
    "plt.show()"
   ]
  },
  {
   "cell_type": "code",
   "execution_count": 160,
   "metadata": {},
   "outputs": [
    {
     "data": {
      "text/plain": [
       "0        None\n",
       "1        None\n",
       "2        None\n",
       "3        None\n",
       "4        None\n",
       "         ... \n",
       "63716    None\n",
       "63717    None\n",
       "63718    None\n",
       "63719    None\n",
       "63720    None\n",
       "Length: 63721, dtype: object"
      ]
     },
     "execution_count": 160,
     "metadata": {},
     "output_type": "execute_result"
    }
   ],
   "source": [
    "import folium\n",
    "\n",
    "m = folium.Map(location=[gdf['latitude'].mean(),\n",
    "                        gdf['longitude'].mean()],zoom_start=12)\n",
    "\n",
    "def add_point_to_map(row):\n",
    "    folium.Marker(\n",
    "    location = (row['latitude'],row['longitude']),\n",
    "    popup=f\"{row['str_name']},{row['suburb']}\").add_to(m)\n",
    "\n",
    "gdf.apply(add_point_to_map,axis=1)\n",
    "\n"
   ]
  }
 ],
 "metadata": {
  "kernelspec": {
   "display_name": "base",
   "language": "python",
   "name": "python3"
  },
  "language_info": {
   "codemirror_mode": {
    "name": "ipython",
    "version": 3
   },
   "file_extension": ".py",
   "mimetype": "text/x-python",
   "name": "python",
   "nbconvert_exporter": "python",
   "pygments_lexer": "ipython3",
   "version": "3.10.9"
  }
 },
 "nbformat": 4,
 "nbformat_minor": 2
}
