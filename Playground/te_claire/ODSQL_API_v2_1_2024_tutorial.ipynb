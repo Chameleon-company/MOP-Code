{
  "cells": [
    {
      "cell_type": "markdown",
      "metadata": {
        "id": "WhHaRP3PMHNQ"
      },
      "source": [
        "<div class=\"usecase-title\">API v2.1 Tutorial: The City of Melbourne (CoM) API is organised around REST using Opendatasoft Explore API v2. It provides access to all the data available through the platform in a heirarchial structure.</div>\n",
        "\n",
        "<div class=\"usecase-authors\"><b>Authored by: </b>Te' Claire</div>\n",
        "\n",
        "<div class=\"usecase-date\"><b>Date: </b> March-July 2024</div>"
      ]
    },
    {
      "cell_type": "markdown",
      "metadata": {
        "id": "ZvPC6RbVMTAN"
      },
      "source": [
        "<div class=\"usecase-duration\"><b>Duration:</b> 40 mins</div>\n",
        "\n",
        "<div class=\"usecase-level-skill\">\n",
        "    <div class=\"usecase-level\"><b> Level: </b>Beginner</div>\n",
        "    <div class=\"usecase-skill\"><b> Pre-requisite Skills: </b>Python <i>Optional</i> Google Collaborate access</div>\n",
        "</div>"
      ]
    },
    {
      "cell_type": "markdown",
      "source": [
        "<div class=\"usecase-subsection-blurb\">\n",
        "  <i>Link 1:</i> API Explore v2.1 Console\n",
        "  <br>\n",
        "  <a href=\"https://data.melbourne.vic.gov.au/api/explore/v2.1/console\" target=\"_blank\">Link</a>\n",
        "  <br>\n",
        "</div>\n",
        "<br>"
      ],
      "metadata": {
        "id": "WBf_P6cgS-5T"
      }
    },
    {
      "cell_type": "markdown",
      "source": [
        "##### Context: To provide guidance of the City of Melbourne (CoM) API usage.\n",
        "1. API and GitHub (Cloud) IDE\n",
        "2. exports endpoint (no limitations)\n",
        "3. records endpoint (limited to number of returned records)\n"
      ],
      "metadata": {
        "id": "S814Y-uJTkEg"
      }
    },
    {
      "cell_type": "markdown",
      "source": [
        "---"
      ],
      "metadata": {
        "id": "W8-bjMCdV9RB"
      }
    },
    {
      "cell_type": "markdown",
      "source": [
        "###### CoM API endpoints:\n",
        "- Endpoints allow you to enumerate datasets\n",
        "- List export formats\n",
        "- Export data\n",
        "- List facet values\n",
        "- Manage individual dataset records\n",
        "<br>\n",
        "\n",
        "\n",
        "###### Catalog API\n",
        "* `GET /catalog/datasets` <br>\n",
        "`GET https://data.melbourne.vic.gov.au/api/catalog/datasets`\n",
        "- **Purpose** To list all the datasets available in the catalog\n",
        "  - Used to get an overview of the datasets available in the system\n",
        "\n",
        "* `GET /catalog/exports`\n",
        "- **Purpose** To list all export formats that the catalog supports\n",
        "  - Useful for understanding what formats the data can be exported (CSV, JSON)\n",
        "\n",
        "  \n",
        "* `GET /catalog/exports/{format}`\n",
        "- **Purpose** To export the entire catalog in a specific format\n",
        "  - Used when you want to download the entire catalog in one of the supported formats\n",
        "\n",
        "* `GET /catalog/exports/csv`\n",
        "- **Purpose**  Specifically for exporting the catalog in CSV format.\n",
        "  - A direct endpoint for exporting data in a common, easily usable format.\n",
        "\n",
        "* `GET /catalog/exports/dcat{dcat_ap_format}`\n",
        "- **Purpose** To export the catalog in RDF/XML format using DCAT\n",
        "  - Exporting data in a format that's suitable for integrating with other data catalogs or systems following the DCAT standard\n",
        "\n",
        "* `GET /catalog/facets`\n",
        "- **Purpose** To list all the facet values available in the catalog\n",
        "  - Facets are used to filter or categorize datasets/ helps understand the categorization\n",
        "\n",
        "* `GET /catalog/datasets/{dataset_id}`\n",
        "- **Purpose** To show detailed information about a specific dataset\n",
        "  - When you need metadata or details about a particular dataset\n"
      ],
      "metadata": {
        "id": "keOUM_xFfFO4"
      }
    },
    {
      "cell_type": "markdown",
      "source": [
        "###### Dataset API\n",
        "\n",
        "* `GET /catalog/datasets/{dataset_id}/records`\n",
        "- **Purpose** To query records within a specific dataset\n",
        "  - To retrieve the data entries or records from a specific dataset\n",
        "\n",
        "* `GET /catalog/datasets/{dataset_id}/exports`\n",
        "- **Purpose** To list the export formats available for a specific dataset\n",
        "- Understands in what formats you can export the data from this dataset\n",
        "  \n",
        "* `GET /catalog/datasets/{dataset_id}/exports/{format}`\n",
        "- **Purpose** To export a specific dataset in a specified format\n",
        "  - To download data from a specific dataset in a particular format\n",
        "\n",
        "* `GET /catalog/datasets/{dataset_id}/exports/csv`\n",
        "- **Purpose** To export a specific dataset in CSV format\n",
        "  - Direct endpoint for exporting dataset data in CSV, a commonly used data format\n",
        "\n",
        "* `GET /catalog/datasets/{dataset_id}/exports/gpx`\n",
        "- **Purpose** To export a specific dataset in GPX format\n",
        "  - Useful for datasets related to geographical data, which GPX format is well-suited for\n",
        "\n",
        "* `GET /catalog/datasets/{dataset_id}/facets`\n",
        "- **Purpose** To list the facets for a specific dataset\n",
        "  - To get an understanding of the different dimensions or categories within a dataset\n",
        "\n",
        "* `GET /catalog/datasets/{dataset_id}/attachments`\n",
        "- **Purpose** To list attachments for a specific dataset\n",
        "  - When datasets have additional files or documents attached, this endpoint lets you enumerate them\n",
        "* `GET /catalog/datasets/{dataset_id}/records/{record_id}`\n",
        "- **Purpose** To read a specific record within a dataset\n",
        "  - To get detailed information about a particular entry or record in a dataset\n"
      ],
      "metadata": {
        "id": "zXp0fXDkgRUw"
      }
    },
    {
      "cell_type": "markdown",
      "source": [
        "###### Load Dependencies"
      ],
      "metadata": {
        "id": "Pu_1bSLeWKLk"
      }
    },
    {
      "cell_type": "code",
      "source": [
        "# Dependencies\n",
        "import warnings\n",
        "warnings.filterwarnings(\"ignore\")\n",
        "\n",
        "import requests\n",
        "import numpy as np\n",
        "import pandas as pd\n",
        "pd.set_option('display.max_columns', None)"
      ],
      "metadata": {
        "id": "YVQrT_iFb9XJ"
      },
      "execution_count": 3,
      "outputs": []
    },
    {
      "cell_type": "markdown",
      "source": [
        "###### Cloud or Local IDE (Run notebook/ script)\n",
        "- To collect API from directory located in Google Collab"
      ],
      "metadata": {
        "id": "dbS50RBiep3I"
      }
    },
    {
      "cell_type": "code",
      "source": [
        "from google.colab import drive\n",
        "drive.mount('/content/drive')\n",
        "with open('/content/drive/My Drive/SIT378/h.txt', 'r') as file:\n",
        "    api_key = file.read().strip()\n",
        "\n",
        "import os\n",
        "api_key = os.getenv(api_key)"
      ],
      "metadata": {
        "colab": {
          "base_uri": "https://localhost:8080/"
        },
        "id": "d6SF8OGS9fjX",
        "outputId": "806fdf18-6bde-4f18-a12a-6012429dba2d"
      },
      "execution_count": 4,
      "outputs": [
        {
          "output_type": "stream",
          "name": "stdout",
          "text": [
            "Mounted at /content/drive\n"
          ]
        }
      ]
    },
    {
      "cell_type": "markdown",
      "source": [
        "##### **Preferred Method**: Export Endpoint\n",
        "##### Single Request for CSV File Download\n",
        "`GET/catalog/exports/catalog/datasets/`\n",
        "- ODSQL Function Export CSV or json_format\n",
        "- Read response directly into dataframe\n",
        "- `response.content.decode('utf-8')` converts binary repsonse into UTF-8 string (encoded)\n",
        "- Data uses a delimiter (;)"
      ],
      "metadata": {
        "id": "sdGKg6vTp-Dc"
      }
    },
    {
      "cell_type": "code",
      "source": [
        "# **Preferred Method**: Export Endpoint\n",
        "import requests\n",
        "import pandas as pd\n",
        "from io import StringIO\n",
        "\n",
        "# https://data.melbourne.vic.gov.au/explore/dataset/pedestrian-counting-system-monthly-counts-per-hour/information/\n",
        "dataset_id = 'pedestrian-counting-system-monthly-counts-per-hour'\n",
        "\n",
        "base_url = 'https://data.melbourne.vic.gov.au/api/explore/v2.1/catalog/datasets/'\n",
        "apikey = api_key\n",
        "dataset_id = dataset_id\n",
        "format = 'csv'\n",
        "\n",
        "url = f'{base_url}{dataset_id}/exports/{format}'\n",
        "params = {\n",
        "    'select': '*',\n",
        "    'limit': -1,  # all records\n",
        "    'lang': 'en',\n",
        "    'timezone': 'UTC',\n",
        "    'api_key': apikey\n",
        "}\n",
        "\n",
        "# GET request\n",
        "response = requests.get(url, params=params)\n",
        "\n",
        "if response.status_code == 200:\n",
        "    # StringIO to read the CSV data\n",
        "    url_content = response.content.decode('utf-8')\n",
        "    pedestrian_hour = pd.read_csv(StringIO(url_content), delimiter=';')\n",
        "    print(pedestrian_hour.sample(10, random_state=999)) # Test\n",
        "else:\n",
        "    print(f'Request failed with status code {response.status_code}')"
      ],
      "metadata": {
        "id": "kevZMtSZxzyb"
      },
      "execution_count": null,
      "outputs": []
    },
    {
      "cell_type": "markdown",
      "source": [
        "###### Check number of records in dataset (dataset_id)"
      ],
      "metadata": {
        "id": "WnLYG4bf2jeR"
      }
    },
    {
      "cell_type": "code",
      "source": [
        "###### Check number of records in dataset (dataset_id)\n",
        "num_records = len(pedestrian_hour)\n",
        "print(f'The dataset contains {num_records} records.')"
      ],
      "metadata": {
        "id": "71BehKWe3CNV"
      },
      "execution_count": null,
      "outputs": []
    },
    {
      "cell_type": "code",
      "source": [
        "# View dataset\n",
        "pedestrian_hour.head()"
      ],
      "metadata": {
        "id": "hQiRo72R59yP"
      },
      "execution_count": null,
      "outputs": []
    },
    {
      "cell_type": "markdown",
      "source": [
        "\n",
        "\n",
        "---\n",
        "\n"
      ],
      "metadata": {
        "id": "vXbMVNZnyXMy"
      }
    },
    {
      "cell_type": "markdown",
      "source": [
        "##### **Example: Catalog API to enumerate datasets** <br>\n",
        "GET/catalog/datasets  <br>\n",
        "`GET https://data.melbourne.vic.gov.au/api/catalog/datasets`\n",
        "- list all datasets available in the Melbourne data catalog\n",
        "\n",
        "######limit parameter controls the number of records or datasets returned in the response."
      ],
      "metadata": {
        "id": "hgcNwyXddWVS"
      }
    },
    {
      "cell_type": "code",
      "source": [
        "import requests\n",
        "url = 'https://data.melbourne.vic.gov.au/api/explore/v2.1/catalog/datasets'\n",
        "params = {\n",
        "    'select': '*',\n",
        "    # 'limit': 10,\n",
        "    'offset': 0,\n",
        "    'timezone': 'UTC',\n",
        "    'include_links': 'false',\n",
        "    'include_app_metas': 'false'\n",
        "}\n",
        "headers = {\n",
        "    'accept': 'application/json; charset=utf-8'\n",
        "}\n",
        "\n",
        "# GET request\n",
        "response = requests.get(url, headers=headers, params=params)\n",
        "\n",
        "if response.status_code == 200: # Status code Check\n",
        "    # Successful\n",
        "    print(response.json())\n",
        "else:\n",
        "    # Error\n",
        "    print(f'Request failed with status code {response.status_code}')\n"
      ],
      "metadata": {
        "id": "gSk_fya_bNWx"
      },
      "execution_count": null,
      "outputs": []
    },
    {
      "cell_type": "markdown",
      "source": [
        "##### **Example: Show dataset Information** <br>\n",
        "GET /catalog/datasets/{dataset_id}  <br>\n",
        "`GET https://data.melbourne.vic.gov.au/api/catalog/datasets/pedestrian-counting-system-monthly-counts-per-hour`\n",
        "- list all datasets available in the Melbourne data catalog"
      ],
      "metadata": {
        "id": "WpwCRnmti8gI"
      }
    },
    {
      "cell_type": "code",
      "source": [
        "# dataset_id\n",
        "# https://data.melbourne.vic.gov.au/explore/dataset/pedestrian-counting-system-monthly-counts-per-hour/information/\n",
        "dataset_id = 'pedestrian-counting-system-monthly-counts-per-hour'"
      ],
      "metadata": {
        "id": "M3klV-63cMKo"
      },
      "execution_count": null,
      "outputs": []
    },
    {
      "cell_type": "code",
      "source": [
        "import requests\n",
        "url = 'https://data.melbourne.vic.gov.au/api/explore/v2.1/catalog/datasets/' + dataset_id\n",
        "# or use full URL\n",
        "# # https://data.melbourne.vic.gov.au/explore/dataset/pedestrian-counting-system-monthly-counts-per-hour/information/\n",
        "\n",
        "params = {\n",
        "    'select': '*',\n",
        "    'lang': 'en',\n",
        "    'timezone': 'UTC',\n",
        "    'include_links': 'false',\n",
        "    'include_app_metas': 'false'\n",
        "}\n",
        "headers = {\n",
        "    'accept': 'application/json; charset=utf-8'\n",
        "}\n",
        "\n",
        "# Make the GET request\n",
        "response = requests.get(url, headers=headers, params=params)\n",
        "if response.status_code == 200:\n",
        "    # Successful\n",
        "    print(response.json())\n",
        "else:\n",
        "    # Error\n",
        "    print(f'Request failed with status code {response.status_code}')\n"
      ],
      "metadata": {
        "id": "6ScOKHmei0Fu"
      },
      "execution_count": null,
      "outputs": []
    },
    {
      "cell_type": "markdown",
      "source": [
        "###### Check available export formats for dataset"
      ],
      "metadata": {
        "id": "68796oodpCnW"
      }
    },
    {
      "cell_type": "code",
      "source": [
        "import requests\n",
        "url = 'https://data.melbourne.vic.gov.au/api/explore/v2.1/catalog/exports'\n",
        "params = {\n",
        "    'select': '*',\n",
        "    'lang': 'en',\n",
        "    'timezone': 'UTC',\n",
        "    'include_links': 'false',\n",
        "    'include_app_metas': 'false'\n",
        "}\n",
        "headers = {\n",
        "    'accept': 'application/json; charset=utf-8'\n",
        "}\n",
        "\n",
        "# Make the GET request\n",
        "response = requests.get(url, headers=headers, params=params)\n",
        "if response.status_code == 200:\n",
        "    # Successful\n",
        "    print(response.json())\n",
        "else:\n",
        "    # Error\n",
        "    print(f'Request failed with status code {response.status_code}')\n"
      ],
      "metadata": {
        "id": "6I_PZwwKpG3a"
      },
      "execution_count": null,
      "outputs": []
    },
    {
      "cell_type": "markdown",
      "source": [
        "\n",
        "\n",
        "---\n",
        "\n"
      ],
      "metadata": {
        "id": "EXlaEkTIyaw7"
      }
    },
    {
      "cell_type": "markdown",
      "source": [
        "###### Records Endpoint\n",
        "###### Function `fetch_data` paginates iterates over data in chunks (num_records and offset) until all records are retrieved or a maximum offset is reached.\n",
        "- This endpoint is subjected to a limited number of returned records: <10000"
      ],
      "metadata": {
        "id": "-r1SuvHvboZ_"
      }
    },
    {
      "cell_type": "code",
      "execution_count": null,
      "metadata": {
        "id": "oXSywH_6EQLs"
      },
      "outputs": [],
      "source": [
        "import requests\n",
        "import pandas as pd\n",
        "def fetch_data(base_url, dataset, api_key, num_records=99, offset=0):\n",
        "    all_records = []\n",
        "    max_offset = 9900\n",
        "\n",
        "    while True:\n",
        "        if offset > max_offset:\n",
        "            break\n",
        "\n",
        "        filters = f'{dataset}/records?limit={num_records}&offset={offset}'\n",
        "        url = f'{base_url}{filters}&api_key={api_key}'\n",
        "\n",
        "        try:\n",
        "            result = requests.get(url, timeout = 10)\n",
        "            result.raise_for_status()\n",
        "            records = result.json().get('results')\n",
        "        except requests.exceptions.RequestException as e:\n",
        "            raise Exception(f'API request failed: {e}')\n",
        "        if records is None:\n",
        "            break\n",
        "        all_records.extend(records)\n",
        "        if len(records) < num_records:\n",
        "            break\n",
        "\n",
        "        offset += num_records\n",
        "\n",
        "    df = pd.DataFrame(all_records)\n",
        "    return df\n",
        "\n",
        "BASE_URL = 'https://data.melbourne.vic.gov.au/api/explore/v2.1/catalog/datasets/'\n",
        "API_KEY = api_key"
      ]
    },
    {
      "cell_type": "code",
      "execution_count": null,
      "metadata": {
        "id": "dWykofcUGSbt"
      },
      "outputs": [],
      "source": [
        "# data set name\n",
        "SENSOR_DATASET = 'on-street-parking-bay-sensors'\n",
        "df = fetch_data(BASE_URL, SENSOR_DATASET, API_KEY)\n",
        "df"
      ]
    }
  ],
  "metadata": {
    "colab": {
      "provenance": []
    },
    "kernelspec": {
      "display_name": "Python 3",
      "name": "python3"
    },
    "language_info": {
      "name": "python"
    }
  },
  "nbformat": 4,
  "nbformat_minor": 0
}