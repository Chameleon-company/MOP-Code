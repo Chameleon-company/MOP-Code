{
  "cells": [
    {
      "cell_type": "markdown",
      "id": "ad4f0a65",
      "metadata": {
        "id": "ad4f0a65"
      },
      "source": [
        "<div class=\"usecase-title\">Entertainment Location Projections</div>\n",
        "\n",
        "<div class=\"usecase-authors\"><b>Authored by: </b>Barkha Javed, Jack Pham, Te' Claire (editor/ API repointing) 2023</div>"
      ]
    },
    {
      "cell_type": "markdown",
      "id": "1546cdd5",
      "metadata": {
        "id": "1546cdd5"
      },
      "source": [
        "<div class=\"usecase-duration\"><b>Duration:</b> 75 mins</div>\n",
        "\n",
        "<div class=\"usecase-level-skill\">\n",
        "    <div class=\"usecase-level\"><b>Level: </b>Intermediate</div>\n",
        "    <div class=\"usecase-skill\"><b>Pre-requisite Skills: </b>Python</div>\n",
        "</div>"
      ]
    },
    {
      "cell_type": "markdown",
      "id": "48e38b9f",
      "metadata": {
        "id": "48e38b9f"
      },
      "source": [
        " <div class=\"usecase-section-header\">Scenario</div>"
      ]
    },
    {
      "cell_type": "markdown",
      "id": "b4594692",
      "metadata": {
        "id": "b4594692"
      },
      "source": [
        "**As a City of Melbourne council worker, I want to visualise and provide statistics on upcoming activities and planned works in entertainment and leisure, so that I can understand impact for my local area.**\n",
        "\n",
        "I also want to know which entertainment locations are projected as growth areas."
      ]
    },
    {
      "cell_type": "markdown",
      "id": "032867bd",
      "metadata": {
        "id": "032867bd"
      },
      "source": [
        "<div class=\"usecase-section-header\">What this Use Case will teach you</div>"
      ]
    },
    {
      "cell_type": "markdown",
      "id": "e1519038",
      "metadata": {
        "id": "e1519038"
      },
      "source": [
        "At the end of this use case you will understand what entertainment and leisure venues are in a small area, and if the locations is projected as a growth area.\n",
        "\n",
        "This means learning how to:\n",
        "\n",
        "* Load and examine data on seating capacity of cafes, restaurants and pubs\n",
        "* Load and examine data on cafe, bistro, restaurant seats\n",
        "* Load and examine data for city activities and planned works\n",
        "* Load and examine pedestrian traffic to see current volumes for entertainment locations\n",
        "* Visualise information from the datasets\n",
        "* Review growth projections about entertainment locations\n",
        "\n"
      ]
    },
    {
      "cell_type": "markdown",
      "id": "a78f533b",
      "metadata": {
        "id": "a78f533b"
      },
      "source": [
        "<div class=\"usecase-section-header\">A brief introduction to the datasets used</div>"
      ]
    },
    {
      "cell_type": "markdown",
      "id": "4dff92db",
      "metadata": {
        "id": "4dff92db"
      },
      "source": [
        "#### Dataset 1. Census of Land Use and Employment (CLUE)\n",
        "The City of Melbourne  (COM) conducts a census of all local businesses every two years. The last published survey was in 2020, the next survey results are expected soon.\n",
        "\n",
        "#####Reference information: https://data.melbourne.vic.gov.au/pages/clue/\n",
        "* CLUE Blocks spatial layer\n",
        "##### Link: https://data.melbourne.vic.gov.au/explore/dataset/blocks-for-census-of-land-use-and-employment-clue/information/?location=12,-37.81306,144.94413&basemap=jawg.light\n",
        "##### API: /api/explore/v2.1/catalog/datasets/blocks-for-census-of-land-use-and-employment-clue/records?limit=20\n",
        "##### **Dataset Identifier:** blocks-for-census-of-land-use-and-employment-clue\n",
        "<br>\n",
        "\n",
        "* Bar, tavern, pub patron capacity\n",
        "##### Link: https://data.melbourne.vic.gov.au/explore/dataset/bars-and-pubs-with-patron-capacity/table/?refine.census_year=2022\n",
        "##### API: /api/explore/v2.1/catalog/datasets/bars-and-pubs-with-patron-capacity/records?limit=20&refine=census_year%3A%222022%22\n",
        "##### **Dataset Identifier:** bars-and-pubs-with-patron-capacity\n",
        "<br>\n",
        "\n",
        "* Cafe, restaurant, bistro seats\n",
        "##### Link: https://data.melbourne.vic.gov.au/explore/dataset/cafes-and-restaurants-with-seating-capacity/table/?refine.census_year=2022\n",
        "##### API: /api/explore/v2.1/catalog/datasets/cafes-and-restaurants-with-seating-capacity/records?limit=20&refine=census_year%3A%222022%22\n",
        "##### **Dataset Identifier:** cafes-and-restaurants-with-seating-capacity\n",
        "<br>\n",
        "\n",
        "\n",
        "#### Dataset 2. City Activities and Planned Works\n",
        "* Geospatial events data, includes types such as traffic management, sport and recreation, reserved parking, public and  private events\n",
        "##### Link: https://data.melbourne.vic.gov.au/explore/dataset/city-activities-and-planned-works/information/?disjunctive.classification&disjunctive.small_area\n",
        "##### API: /api/explore/v2.1/catalog/datasets/city-activities-and-planned-works/records?limit=20\n",
        "##### **Dataset Identifier:** city-activities-and-planned-works\n",
        "<br>\n",
        "\n",
        "#### *Optional* Other datasets of interest\n",
        "* Hourly pedestrian counts from sensors located across the city\n",
        "##### Link: https://data.melbourne.vic.gov.au/explore/dataset/pedestrian-counting-system-monthly-counts-per-hour/information/\n",
        "##### API:\n",
        "/api/explore/v2.1/catalog/datasets/pedestrian-counting-system-monthly-counts-per-hour/records?limit=20\n",
        "##### **Dataset Identifier:** pedestrian-counting-system-monthly-counts-per-hour\n",
        "<br>\n",
        "\n",
        "* COM population forecasts by small area for 2020-2040\n",
        "##### Link: https://data.melbourne.vic.gov.au/explore/dataset/city-of-melbourne-population-forecasts-by-small-area-2020-2040/information/\n",
        "##### API: /api/explore/v2.1/catalog/datasets/city-of-melbourne-population-forecasts-by-small-area-2020-2040/records?limit=20\n",
        "##### **Dataset Identifier:** city-of-melbourne-population-forecasts-by-small-area-2020-2040\n",
        "<br>\n",
        "\n",
        "#####*Edited 10/12/23 - TeClaire*\n",
        "\n",
        "\n"
      ]
    },
    {
      "cell_type": "markdown",
      "id": "ac3b46be",
      "metadata": {
        "id": "ac3b46be"
      },
      "source": [
        "<div class=\"usecase-section-header\">Setup</div>"
      ]
    },
    {
      "cell_type": "code",
      "execution_count": 1,
      "id": "f9ffc328",
      "metadata": {
        "colab": {
          "base_uri": "https://localhost:8080/"
        },
        "id": "f9ffc328",
        "outputId": "ea51475e-c972-44f5-d601-fcb09b71f6c2"
      },
      "outputs": [
        {
          "output_type": "stream",
          "name": "stdout",
          "text": [
            "\u001b[2K     \u001b[90m━━━━━━━━━━━━━━━━━━━━━━━━━━━━━━━━━━━━━━━━\u001b[0m \u001b[32m58.1/58.1 kB\u001b[0m \u001b[31m1.4 MB/s\u001b[0m eta \u001b[36m0:00:00\u001b[0m\n",
            "\u001b[2K     \u001b[90m━━━━━━━━━━━━━━━━━━━━━━━━━━━━━━━━━━━━━━━━\u001b[0m \u001b[32m81.2/81.2 kB\u001b[0m \u001b[31m2.0 MB/s\u001b[0m eta \u001b[36m0:00:00\u001b[0m\n",
            "\u001b[?25h  Installing build dependencies ... \u001b[?25l\u001b[?25hdone\n",
            "  Getting requirements to build wheel ... \u001b[?25l\u001b[?25hdone\n",
            "  Preparing metadata (pyproject.toml) ... \u001b[?25l\u001b[?25hdone\n",
            "\u001b[2K     \u001b[90m━━━━━━━━━━━━━━━━━━━━━━━━━━━━━━━━━━━━━━━━\u001b[0m \u001b[32m490.0/490.0 kB\u001b[0m \u001b[31m11.9 MB/s\u001b[0m eta \u001b[36m0:00:00\u001b[0m\n",
            "\u001b[?25h  Building wheel for pendulum (pyproject.toml) ... \u001b[?25l\u001b[?25hdone\n"
          ]
        }
      ],
      "source": [
        "#Libraries to be installed\n",
        "##!pip -q is to give less output\n",
        "!pip -q install seaborn\n",
        "!pip -q install pandas\n",
        "!pip -q install matplotlib\n",
        "!pip -q install numpy\n",
        "!pip -q install nbconvert\n",
        "!pip -q install keyboard\n",
        "!pip -q install geopandas\n",
        "!pip -q install requests\n",
        "!pip -q install folium\n",
        "!pip -q install statsmodels\n",
        "!pip -q install tqdm\n",
        "!pip -q install scikit-learn\n",
        "!pip -q install pendulum\n"
      ]
    },
    {
      "cell_type": "code",
      "execution_count": 2,
      "id": "de0186b2",
      "metadata": {
        "id": "de0186b2"
      },
      "outputs": [],
      "source": [
        "#load libraries\n",
        "import os\n",
        "import io\n",
        "import time\n",
        "import keyboard\n",
        "import warnings\n",
        "warnings.filterwarnings('ignore')\n",
        "from datetime import datetime\n",
        "import requests\n",
        "import zipfile\n",
        "\n",
        "import numpy as np\n",
        "import pandas as pd\n",
        "\n",
        "from urllib.request import urlopen\n",
        "import json\n",
        "from pandas import json_normalize\n",
        "\n",
        "\n",
        "import statsmodels.api as sm\n",
        "from sklearn.model_selection import train_test_split\n",
        "from sklearn.linear_model import LinearRegression\n",
        "from sklearn.tree import DecisionTreeRegressor\n",
        "from sklearn.ensemble import RandomForestRegressor\n",
        "\n",
        "\n",
        "import folium\n",
        "from folium import Choropleth, Circle, Marker\n",
        "from folium.plugins import HeatMap, MarkerCluster\n",
        "from IPython.core.display import display, HTML\n",
        "import geopandas as gpd\n",
        "\n",
        "\n",
        "import plotly.graph_objects as go\n",
        "import plotly.express as px\n",
        "from shapely.geometry import Polygon, shape, Point, box\n",
        "from shapely.ops import unary_union\n",
        "from shapely.wkt import loads\n",
        "\n",
        "from tqdm import tqdm\n",
        "import seaborn as sns\n",
        "import matplotlib.pyplot as plt\n",
        "%matplotlib inline\n",
        "from matplotlib import style\n",
        "style.use('ggplot')\n",
        "\n",
        "from pylab import rcParams\n",
        "rcParams['figure.figsize'] = 8,4\n"
      ]
    },
    {
      "cell_type": "code",
      "source": [
        "# Added 10/12/23 - TeClaire\n",
        "import warnings\n",
        "warnings.filterwarnings(\"ignore\")"
      ],
      "metadata": {
        "id": "aEDK1PFczhNG"
      },
      "id": "aEDK1PFczhNG",
      "execution_count": 4,
      "outputs": []
    },
    {
      "cell_type": "code",
      "execution_count": 3,
      "id": "f1d5222e",
      "metadata": {
        "id": "f1d5222e"
      },
      "outputs": [],
      "source": [
        "#set default values\n",
        "this_decade = (pd.Timestamp.today().year)-10\n",
        "this_year = pd.Timestamp.today().year\n",
        "y3 = (pd.Timestamp.today().year)-3\n",
        "y2 = (pd.Timestamp.today().year)-2\n",
        "y1 = (pd.Timestamp.today().year)-1\n",
        "\n",
        "\n",
        "#Replacement for socrata\n",
        "domain = 'https://data.melbourne.vic.gov.au/explore/dataset/'\n",
        "baseurl = '/download/?format=json&timezone=Australia/Sydney&lang=en'\n",
        "basegeourl='/download/?format=geojson&timezone=Australia/Sydney&lang=en'"
      ]
    },
    {
      "cell_type": "code",
      "source": [
        "# Added 10/12/23 - TeClaire\n",
        "# Define the company colors format for matplotlib\n",
        "dark_theme_colors = ['#08af64', '#14a38e', '#0f9295', '#056b8a', '#121212'] #Dark theme\n",
        "light_theme_colors = ['#2af598', '#22e4ac', '#1bd7bb', '#14c9cb', '#0fbed8', '#08b3e5'] #Light theme"
      ],
      "metadata": {
        "id": "50F4VY2Lzsb1"
      },
      "id": "50F4VY2Lzsb1",
      "execution_count": 5,
      "outputs": []
    },
    {
      "cell_type": "code",
      "source": [
        "# Added 10/12/23 - TeClaire\n",
        "def fetch_data(base_url, dataset, api_key, num_records=99, offset=0):\n",
        "    all_records = []\n",
        "    max_offset = 9900\n",
        "\n",
        "    while True:\n",
        "        if offset > max_offset:\n",
        "            break\n",
        "\n",
        "        filters = f'{dataset}/records?limit={num_records}&offset={offset}'\n",
        "        url = f'{base_url}{filters}&api_key={api_key}'\n",
        "\n",
        "        try:\n",
        "            result = requests.get(url, timeout = 10)\n",
        "            result.raise_for_status()\n",
        "            records = result.json().get('results')\n",
        "        except requests.exceptions.RequestException as e:\n",
        "            raise Exception(f'API request failed: {e}')\n",
        "        if records is None:\n",
        "            break\n",
        "        all_records.extend(records)\n",
        "        if len(records) < num_records:\n",
        "            break\n",
        "\n",
        "        offset += num_records\n",
        "\n",
        "    df = pd.DataFrame(all_records)\n",
        "    return df\n",
        "\n",
        "BASE_URL = 'https://data.melbourne.vic.gov.au/api/explore/v2.1/catalog/datasets/'\n",
        "# Remember to remove API keys before Publishing!\n",
        "# API_KEY = 'Insert API Key here or upload to secret file'"
      ],
      "metadata": {
        "id": "XlC1RDCkzvFJ"
      },
      "id": "XlC1RDCkzvFJ",
      "execution_count": 31,
      "outputs": []
    },
    {
      "cell_type": "markdown",
      "id": "02e1ca26",
      "metadata": {
        "id": "02e1ca26"
      },
      "source": [
        "<div class=\"usecase-section-header\">Load and Transform Data</div>"
      ]
    },
    {
      "cell_type": "markdown",
      "id": "f456626f",
      "metadata": {
        "id": "f456626f"
      },
      "source": [
        "## Load small area CLUE blocks"
      ]
    },
    {
      "cell_type": "code",
      "execution_count": null,
      "id": "18edb53e",
      "metadata": {
        "id": "18edb53e"
      },
      "outputs": [],
      "source": [
        "# Old code not in use as of 10/12/23 - TeClaire\n",
        "# #spatial layer used to map CLUE datasets to CLUE blocks\n",
        "\n",
        "# dsurl = 'blocks-for-census-of-land-use-and-employment-clue'\n",
        "# GeoJSONURL = domain + dsurl + basegeourl\n",
        "# #print(GeoJSONURL)\n",
        "\n",
        "# clueblocks = requests.get(GeoJSONURL).json()\n",
        "# #clueblocks[\"features\"][0]"
      ]
    },
    {
      "cell_type": "code",
      "source": [
        "# Edited 10/12/23 - TeClaire\n",
        "BASE_URL = 'https://data.melbourne.vic.gov.au/api/explore/v2.1/catalog/datasets/'\n",
        "\n",
        "dsurl = 'blocks-for-census-of-land-use-and-employment-clue'\n",
        "clueblocks = fetch_data(BASE_URL, dsurl, API_KEY)\n",
        "clueblocks.head()"
      ],
      "metadata": {
        "colab": {
          "base_uri": "https://localhost:8080/",
          "height": 206
        },
        "id": "E_EGz4xe0uuZ",
        "outputId": "0cac80a7-f192-4b66-f30b-5c4d7316f08b"
      },
      "id": "E_EGz4xe0uuZ",
      "execution_count": 10,
      "outputs": [
        {
          "output_type": "execute_result",
          "data": {
            "text/plain": [
              "                                        geo_point_2d  \\\n",
              "0  {'lon': 144.98671534083016, 'lat': -37.8168041...   \n",
              "1  {'lon': 144.97026050566197, 'lat': -37.8177220...   \n",
              "2  {'lon': 144.94124539321137, 'lat': -37.7875065...   \n",
              "3  {'lon': 144.94029862679008, 'lat': -37.7785734...   \n",
              "4  {'lon': 144.9448205623792, 'lat': -37.80785784...   \n",
              "\n",
              "                                           geo_shape  block_id  \\\n",
              "0  {'type': 'Feature', 'geometry': {'coordinates'...       662   \n",
              "1  {'type': 'Feature', 'geometry': {'coordinates'...         6   \n",
              "2  {'type': 'Feature', 'geometry': {'coordinates'...       926   \n",
              "3  {'type': 'Feature', 'geometry': {'coordinates'...       928   \n",
              "4  {'type': 'Feature', 'geometry': {'coordinates'...       415   \n",
              "\n",
              "                      clue_area  \n",
              "0                East Melbourne  \n",
              "1               Melbourne (CBD)  \n",
              "2                     Parkville  \n",
              "3                     Parkville  \n",
              "4  West Melbourne (Residential)  "
            ],
            "text/html": [
              "\n",
              "  <div id=\"df-6509db7f-e04b-4ee2-ba05-c6dea20de994\" class=\"colab-df-container\">\n",
              "    <div>\n",
              "<style scoped>\n",
              "    .dataframe tbody tr th:only-of-type {\n",
              "        vertical-align: middle;\n",
              "    }\n",
              "\n",
              "    .dataframe tbody tr th {\n",
              "        vertical-align: top;\n",
              "    }\n",
              "\n",
              "    .dataframe thead th {\n",
              "        text-align: right;\n",
              "    }\n",
              "</style>\n",
              "<table border=\"1\" class=\"dataframe\">\n",
              "  <thead>\n",
              "    <tr style=\"text-align: right;\">\n",
              "      <th></th>\n",
              "      <th>geo_point_2d</th>\n",
              "      <th>geo_shape</th>\n",
              "      <th>block_id</th>\n",
              "      <th>clue_area</th>\n",
              "    </tr>\n",
              "  </thead>\n",
              "  <tbody>\n",
              "    <tr>\n",
              "      <th>0</th>\n",
              "      <td>{'lon': 144.98671534083016, 'lat': -37.8168041...</td>\n",
              "      <td>{'type': 'Feature', 'geometry': {'coordinates'...</td>\n",
              "      <td>662</td>\n",
              "      <td>East Melbourne</td>\n",
              "    </tr>\n",
              "    <tr>\n",
              "      <th>1</th>\n",
              "      <td>{'lon': 144.97026050566197, 'lat': -37.8177220...</td>\n",
              "      <td>{'type': 'Feature', 'geometry': {'coordinates'...</td>\n",
              "      <td>6</td>\n",
              "      <td>Melbourne (CBD)</td>\n",
              "    </tr>\n",
              "    <tr>\n",
              "      <th>2</th>\n",
              "      <td>{'lon': 144.94124539321137, 'lat': -37.7875065...</td>\n",
              "      <td>{'type': 'Feature', 'geometry': {'coordinates'...</td>\n",
              "      <td>926</td>\n",
              "      <td>Parkville</td>\n",
              "    </tr>\n",
              "    <tr>\n",
              "      <th>3</th>\n",
              "      <td>{'lon': 144.94029862679008, 'lat': -37.7785734...</td>\n",
              "      <td>{'type': 'Feature', 'geometry': {'coordinates'...</td>\n",
              "      <td>928</td>\n",
              "      <td>Parkville</td>\n",
              "    </tr>\n",
              "    <tr>\n",
              "      <th>4</th>\n",
              "      <td>{'lon': 144.9448205623792, 'lat': -37.80785784...</td>\n",
              "      <td>{'type': 'Feature', 'geometry': {'coordinates'...</td>\n",
              "      <td>415</td>\n",
              "      <td>West Melbourne (Residential)</td>\n",
              "    </tr>\n",
              "  </tbody>\n",
              "</table>\n",
              "</div>\n",
              "    <div class=\"colab-df-buttons\">\n",
              "\n",
              "  <div class=\"colab-df-container\">\n",
              "    <button class=\"colab-df-convert\" onclick=\"convertToInteractive('df-6509db7f-e04b-4ee2-ba05-c6dea20de994')\"\n",
              "            title=\"Convert this dataframe to an interactive table.\"\n",
              "            style=\"display:none;\">\n",
              "\n",
              "  <svg xmlns=\"http://www.w3.org/2000/svg\" height=\"24px\" viewBox=\"0 -960 960 960\">\n",
              "    <path d=\"M120-120v-720h720v720H120Zm60-500h600v-160H180v160Zm220 220h160v-160H400v160Zm0 220h160v-160H400v160ZM180-400h160v-160H180v160Zm440 0h160v-160H620v160ZM180-180h160v-160H180v160Zm440 0h160v-160H620v160Z\"/>\n",
              "  </svg>\n",
              "    </button>\n",
              "\n",
              "  <style>\n",
              "    .colab-df-container {\n",
              "      display:flex;\n",
              "      gap: 12px;\n",
              "    }\n",
              "\n",
              "    .colab-df-convert {\n",
              "      background-color: #E8F0FE;\n",
              "      border: none;\n",
              "      border-radius: 50%;\n",
              "      cursor: pointer;\n",
              "      display: none;\n",
              "      fill: #1967D2;\n",
              "      height: 32px;\n",
              "      padding: 0 0 0 0;\n",
              "      width: 32px;\n",
              "    }\n",
              "\n",
              "    .colab-df-convert:hover {\n",
              "      background-color: #E2EBFA;\n",
              "      box-shadow: 0px 1px 2px rgba(60, 64, 67, 0.3), 0px 1px 3px 1px rgba(60, 64, 67, 0.15);\n",
              "      fill: #174EA6;\n",
              "    }\n",
              "\n",
              "    .colab-df-buttons div {\n",
              "      margin-bottom: 4px;\n",
              "    }\n",
              "\n",
              "    [theme=dark] .colab-df-convert {\n",
              "      background-color: #3B4455;\n",
              "      fill: #D2E3FC;\n",
              "    }\n",
              "\n",
              "    [theme=dark] .colab-df-convert:hover {\n",
              "      background-color: #434B5C;\n",
              "      box-shadow: 0px 1px 3px 1px rgba(0, 0, 0, 0.15);\n",
              "      filter: drop-shadow(0px 1px 2px rgba(0, 0, 0, 0.3));\n",
              "      fill: #FFFFFF;\n",
              "    }\n",
              "  </style>\n",
              "\n",
              "    <script>\n",
              "      const buttonEl =\n",
              "        document.querySelector('#df-6509db7f-e04b-4ee2-ba05-c6dea20de994 button.colab-df-convert');\n",
              "      buttonEl.style.display =\n",
              "        google.colab.kernel.accessAllowed ? 'block' : 'none';\n",
              "\n",
              "      async function convertToInteractive(key) {\n",
              "        const element = document.querySelector('#df-6509db7f-e04b-4ee2-ba05-c6dea20de994');\n",
              "        const dataTable =\n",
              "          await google.colab.kernel.invokeFunction('convertToInteractive',\n",
              "                                                    [key], {});\n",
              "        if (!dataTable) return;\n",
              "\n",
              "        const docLinkHtml = 'Like what you see? Visit the ' +\n",
              "          '<a target=\"_blank\" href=https://colab.research.google.com/notebooks/data_table.ipynb>data table notebook</a>'\n",
              "          + ' to learn more about interactive tables.';\n",
              "        element.innerHTML = '';\n",
              "        dataTable['output_type'] = 'display_data';\n",
              "        await google.colab.output.renderOutput(dataTable, element);\n",
              "        const docLink = document.createElement('div');\n",
              "        docLink.innerHTML = docLinkHtml;\n",
              "        element.appendChild(docLink);\n",
              "      }\n",
              "    </script>\n",
              "  </div>\n",
              "\n",
              "\n",
              "<div id=\"df-1e36c82e-dd82-43b7-98dd-89ee4072aa29\">\n",
              "  <button class=\"colab-df-quickchart\" onclick=\"quickchart('df-1e36c82e-dd82-43b7-98dd-89ee4072aa29')\"\n",
              "            title=\"Suggest charts\"\n",
              "            style=\"display:none;\">\n",
              "\n",
              "<svg xmlns=\"http://www.w3.org/2000/svg\" height=\"24px\"viewBox=\"0 0 24 24\"\n",
              "     width=\"24px\">\n",
              "    <g>\n",
              "        <path d=\"M19 3H5c-1.1 0-2 .9-2 2v14c0 1.1.9 2 2 2h14c1.1 0 2-.9 2-2V5c0-1.1-.9-2-2-2zM9 17H7v-7h2v7zm4 0h-2V7h2v10zm4 0h-2v-4h2v4z\"/>\n",
              "    </g>\n",
              "</svg>\n",
              "  </button>\n",
              "\n",
              "<style>\n",
              "  .colab-df-quickchart {\n",
              "      --bg-color: #E8F0FE;\n",
              "      --fill-color: #1967D2;\n",
              "      --hover-bg-color: #E2EBFA;\n",
              "      --hover-fill-color: #174EA6;\n",
              "      --disabled-fill-color: #AAA;\n",
              "      --disabled-bg-color: #DDD;\n",
              "  }\n",
              "\n",
              "  [theme=dark] .colab-df-quickchart {\n",
              "      --bg-color: #3B4455;\n",
              "      --fill-color: #D2E3FC;\n",
              "      --hover-bg-color: #434B5C;\n",
              "      --hover-fill-color: #FFFFFF;\n",
              "      --disabled-bg-color: #3B4455;\n",
              "      --disabled-fill-color: #666;\n",
              "  }\n",
              "\n",
              "  .colab-df-quickchart {\n",
              "    background-color: var(--bg-color);\n",
              "    border: none;\n",
              "    border-radius: 50%;\n",
              "    cursor: pointer;\n",
              "    display: none;\n",
              "    fill: var(--fill-color);\n",
              "    height: 32px;\n",
              "    padding: 0;\n",
              "    width: 32px;\n",
              "  }\n",
              "\n",
              "  .colab-df-quickchart:hover {\n",
              "    background-color: var(--hover-bg-color);\n",
              "    box-shadow: 0 1px 2px rgba(60, 64, 67, 0.3), 0 1px 3px 1px rgba(60, 64, 67, 0.15);\n",
              "    fill: var(--button-hover-fill-color);\n",
              "  }\n",
              "\n",
              "  .colab-df-quickchart-complete:disabled,\n",
              "  .colab-df-quickchart-complete:disabled:hover {\n",
              "    background-color: var(--disabled-bg-color);\n",
              "    fill: var(--disabled-fill-color);\n",
              "    box-shadow: none;\n",
              "  }\n",
              "\n",
              "  .colab-df-spinner {\n",
              "    border: 2px solid var(--fill-color);\n",
              "    border-color: transparent;\n",
              "    border-bottom-color: var(--fill-color);\n",
              "    animation:\n",
              "      spin 1s steps(1) infinite;\n",
              "  }\n",
              "\n",
              "  @keyframes spin {\n",
              "    0% {\n",
              "      border-color: transparent;\n",
              "      border-bottom-color: var(--fill-color);\n",
              "      border-left-color: var(--fill-color);\n",
              "    }\n",
              "    20% {\n",
              "      border-color: transparent;\n",
              "      border-left-color: var(--fill-color);\n",
              "      border-top-color: var(--fill-color);\n",
              "    }\n",
              "    30% {\n",
              "      border-color: transparent;\n",
              "      border-left-color: var(--fill-color);\n",
              "      border-top-color: var(--fill-color);\n",
              "      border-right-color: var(--fill-color);\n",
              "    }\n",
              "    40% {\n",
              "      border-color: transparent;\n",
              "      border-right-color: var(--fill-color);\n",
              "      border-top-color: var(--fill-color);\n",
              "    }\n",
              "    60% {\n",
              "      border-color: transparent;\n",
              "      border-right-color: var(--fill-color);\n",
              "    }\n",
              "    80% {\n",
              "      border-color: transparent;\n",
              "      border-right-color: var(--fill-color);\n",
              "      border-bottom-color: var(--fill-color);\n",
              "    }\n",
              "    90% {\n",
              "      border-color: transparent;\n",
              "      border-bottom-color: var(--fill-color);\n",
              "    }\n",
              "  }\n",
              "</style>\n",
              "\n",
              "  <script>\n",
              "    async function quickchart(key) {\n",
              "      const quickchartButtonEl =\n",
              "        document.querySelector('#' + key + ' button');\n",
              "      quickchartButtonEl.disabled = true;  // To prevent multiple clicks.\n",
              "      quickchartButtonEl.classList.add('colab-df-spinner');\n",
              "      try {\n",
              "        const charts = await google.colab.kernel.invokeFunction(\n",
              "            'suggestCharts', [key], {});\n",
              "      } catch (error) {\n",
              "        console.error('Error during call to suggestCharts:', error);\n",
              "      }\n",
              "      quickchartButtonEl.classList.remove('colab-df-spinner');\n",
              "      quickchartButtonEl.classList.add('colab-df-quickchart-complete');\n",
              "    }\n",
              "    (() => {\n",
              "      let quickchartButtonEl =\n",
              "        document.querySelector('#df-1e36c82e-dd82-43b7-98dd-89ee4072aa29 button');\n",
              "      quickchartButtonEl.style.display =\n",
              "        google.colab.kernel.accessAllowed ? 'block' : 'none';\n",
              "    })();\n",
              "  </script>\n",
              "</div>\n",
              "\n",
              "    </div>\n",
              "  </div>\n"
            ]
          },
          "metadata": {},
          "execution_count": 10
        }
      ]
    },
    {
      "cell_type": "markdown",
      "id": "633c7237",
      "metadata": {
        "id": "633c7237"
      },
      "source": [
        "## Load Bar, tavern, pub patron capacity"
      ]
    },
    {
      "cell_type": "code",
      "execution_count": null,
      "id": "7921c778",
      "metadata": {
        "id": "7921c778",
        "outputId": "79f6918f-9e8d-418d-d6ab-7fe5aa02a18d"
      },
      "outputs": [
        {
          "name": "stdout",
          "output_type": "stream",
          "text": [
            "<class 'pandas.core.frame.DataFrame'>\n",
            "RangeIndex: 4402 entries, 0 to 4401\n",
            "Data columns (total 12 columns):\n",
            " #   Column             Non-Null Count  Dtype  \n",
            "---  ------             --------------  -----  \n",
            " 0   longitude          4382 non-null   float64\n",
            " 1   census_year        4402 non-null   object \n",
            " 2   building_address   4402 non-null   object \n",
            " 3   trading_name       4402 non-null   object \n",
            " 4   location           4382 non-null   object \n",
            " 5   property_id        4402 non-null   int64  \n",
            " 6   business_address   4402 non-null   object \n",
            " 7   latitude           4382 non-null   float64\n",
            " 8   clue_small_area    4402 non-null   object \n",
            " 9   block_id           4402 non-null   int64  \n",
            " 10  number_of_patrons  4402 non-null   int64  \n",
            " 11  base_property_id   4402 non-null   int64  \n",
            "dtypes: float64(2), int64(4), object(6)\n",
            "memory usage: 412.8+ KB\n"
          ]
        }
      ],
      "source": [
        "# Old code not in use as of 10/12/23 - TeClaire\n",
        "# #Load Bar, tavern, pub patron capacity dataset\n",
        "# dsurl = 'bars-and-pubs-with-patron-capacity'\n",
        "# url = domain + dsurl + baseurl\n",
        "# #print(url)\n",
        "\n",
        "# data_json = requests.get(url).json()\n",
        "# data_json_df = pd.DataFrame.from_dict(data_json)\n",
        "\n",
        "# #this flattens the features\n",
        "# df_btp_capacity=json_normalize(data_json_df['fields'])\n",
        "\n",
        "# df_btp_capacity.info()"
      ]
    },
    {
      "cell_type": "code",
      "source": [
        "# # Edited 10/12/23 - TeClaire - API ISSUE\n",
        "# BASE_URL = 'https://data.melbourne.vic.gov.au/api/explore/v2.1/catalog/datasets/'\n",
        "# API_KEY = 'api/explore/v2.1/catalog/datasets/bars-and-pubs-with-patron-capacity/records?limit=20'\n",
        "# dsurl = 'bars-and-pubs-with-patron-capacity'\n",
        "# data_json = fetch_data(BASE_URL, dsurl, API_KEY)\n",
        "# data_json.head()\n",
        "# print('―' * 10)\n",
        "\n",
        "# # Directly create DataFrame from the fetched data\n",
        "# df_btp_capacity = pd.DataFrame(data_json.get('results'))\n",
        "# df_btp_capacity.info()"
      ],
      "metadata": {
        "colab": {
          "base_uri": "https://localhost:8080/"
        },
        "id": "nxkmp-zM1Vub",
        "outputId": "f5a2fc27-c388-454e-e092-21783b8d5234"
      },
      "id": "nxkmp-zM1Vub",
      "execution_count": 23,
      "outputs": [
        {
          "output_type": "stream",
          "name": "stdout",
          "text": [
            "――――――――――\n",
            "<class 'pandas.core.frame.DataFrame'>\n",
            "Index: 0 entries\n",
            "Empty DataFrame\n"
          ]
        }
      ]
    },
    {
      "cell_type": "markdown",
      "source": [
        "### API 2.1 is loading an empty dataframe\n",
        "####Loading CSV or JSON link as temporary fix 10/12/23 - TeClaire"
      ],
      "metadata": {
        "id": "bOaOJ6AR5zvU"
      },
      "id": "bOaOJ6AR5zvU"
    },
    {
      "cell_type": "code",
      "source": [
        "# Edited 10/12/23 - TeClaire\n",
        "# Links to current datasets\n",
        "# CSV = 'https://data.melbourne.vic.gov.au/api/explore/v2.1/catalog/datasets/bars-and-pubs-with-patron-capacity/exports/csv?lang=en&timezone=Australia%2FSydney&use_labels=true&delimiter=%2C'\n",
        "# JSON = 'https://data.melbourne.vic.gov.au/api/explore/v2.1/catalog/datasets/bars-and-pubs-with-patron-capacity/exports/json?lang=en&timezone=Australia%2FSydney'"
      ],
      "metadata": {
        "id": "ztbf6e2c5YsS"
      },
      "id": "ztbf6e2c5YsS",
      "execution_count": null,
      "outputs": []
    },
    {
      "cell_type": "code",
      "source": [
        "# Edited 10/12/23 - TeClaire\n",
        "import pandas as pd\n",
        "def fetch_data_json(url, data_format='json'):\n",
        "    try:\n",
        "        response = requests.get(url)\n",
        "        response.raise_for_status()\n",
        "\n",
        "        if data_format == 'json':\n",
        "            data = response.json()\n",
        "            if isinstance(data, list):\n",
        "                df = pd.DataFrame(data)  # Convert to DataFrame\n",
        "            else:\n",
        "                raise ValueError(\"Unsupported JSON structure. Expected a list.\")\n",
        "        elif data_format == 'csv':\n",
        "            df = pd.read_csv(pd.compat.StringIO(response.text))\n",
        "        else:\n",
        "            raise ValueError(\"Unsupported data format. Use 'json' or 'csv'.\")\n",
        "\n",
        "        return df\n",
        "    except requests.exceptions.RequestException as e:\n",
        "        raise Exception(f'Failed to fetch data: {e}')\n",
        "\n",
        "# JSON link\n",
        "json_url = 'https://data.melbourne.vic.gov.au/api/explore/v2.1/catalog/datasets/bars-and-pubs-with-patron-capacity/exports/json?lang=en&timezone=Australia%2FSydney'\n",
        "df_btp_capacity = fetch_data_json(json_url, data_format='json')\n",
        "df_btp_capacity.info()\n",
        "print('―' * 10)\n",
        "df_btp_capacity.head()"
      ],
      "metadata": {
        "colab": {
          "base_uri": "https://localhost:8080/",
          "height": 764
        },
        "id": "2j-kMuPt6DER",
        "outputId": "6b676e24-14d6-4309-c7e7-c96a1ecf50a6"
      },
      "id": "2j-kMuPt6DER",
      "execution_count": 29,
      "outputs": [
        {
          "output_type": "stream",
          "name": "stdout",
          "text": [
            "<class 'pandas.core.frame.DataFrame'>\n",
            "RangeIndex: 4696 entries, 0 to 4695\n",
            "Data columns (total 12 columns):\n",
            " #   Column             Non-Null Count  Dtype  \n",
            "---  ------             --------------  -----  \n",
            " 0   census_year        4696 non-null   object \n",
            " 1   block_id           4696 non-null   int64  \n",
            " 2   property_id        4696 non-null   object \n",
            " 3   base_property_id   4696 non-null   object \n",
            " 4   building_address   4696 non-null   object \n",
            " 5   clue_small_area    4696 non-null   object \n",
            " 6   trading_name       4696 non-null   object \n",
            " 7   business_address   4696 non-null   object \n",
            " 8   number_of_patrons  4696 non-null   int64  \n",
            " 9   longitude          4676 non-null   float64\n",
            " 10  latitude           4676 non-null   float64\n",
            " 11  location           4676 non-null   object \n",
            "dtypes: float64(2), int64(2), object(8)\n",
            "memory usage: 440.4+ KB\n",
            "――――――――――\n"
          ]
        },
        {
          "output_type": "execute_result",
          "data": {
            "text/plain": [
              "  census_year  block_id property_id base_property_id  \\\n",
              "0        2002        11      108972           108972   \n",
              "1        2002        14      103172           103172   \n",
              "2        2002        15      103944           103944   \n",
              "3        2002        16      103938           103938   \n",
              "4        2002        17      103925           103925   \n",
              "\n",
              "                        building_address  clue_small_area     trading_name  \\\n",
              "0    10-22 Spencer Street MELBOURNE 3000  Melbourne (CBD)    Explorers Inn   \n",
              "1  31-39 Elizabeth Street MELBOURNE 3000  Melbourne (CBD)  Connells Tavern   \n",
              "2   277-279 Flinders Lane MELBOURNE 3000  Melbourne (CBD)         De Biers   \n",
              "3       187 Flinders Lane MELBOURNE 3000  Melbourne (CBD)    Adelphi Hotel   \n",
              "4   121-123 Flinders Lane MELBOURNE 3000  Melbourne (CBD)           Velour   \n",
              "\n",
              "                                    business_address  number_of_patrons  \\\n",
              "0                10-22 Spencer Street MELBOURNE 3000                 50   \n",
              "1                 35 Elizabeth Street MELBOURNE 3000                350   \n",
              "2  Unit 1, Basement , 277 Flinders Lane MELBOURNE...                400   \n",
              "3                   187 Flinders Lane MELBOURNE 3000                 80   \n",
              "4  Unit 1, Gnd & Bmt , 121 Flinders Lane MELBOURN...                350   \n",
              "\n",
              "    longitude   latitude                                           location  \n",
              "0  144.955254 -37.820511  {'lon': 144.95525416628004, 'lat': -37.8205106...  \n",
              "1  144.964322 -37.817426  {'lon': 144.964321660097, 'lat': -37.817426106...  \n",
              "2  144.965307 -37.817242  {'lon': 144.96530699086, 'lat': -37.8172419402...  \n",
              "3  144.968385 -37.816360  {'lon': 144.9683846004515, 'lat': -37.81635974...  \n",
              "4  144.970523 -37.815674  {'lon': 144.97052296371248, 'lat': -37.8156736...  "
            ],
            "text/html": [
              "\n",
              "  <div id=\"df-dc8c3a40-f42c-4686-a762-4f36ad0d3bf1\" class=\"colab-df-container\">\n",
              "    <div>\n",
              "<style scoped>\n",
              "    .dataframe tbody tr th:only-of-type {\n",
              "        vertical-align: middle;\n",
              "    }\n",
              "\n",
              "    .dataframe tbody tr th {\n",
              "        vertical-align: top;\n",
              "    }\n",
              "\n",
              "    .dataframe thead th {\n",
              "        text-align: right;\n",
              "    }\n",
              "</style>\n",
              "<table border=\"1\" class=\"dataframe\">\n",
              "  <thead>\n",
              "    <tr style=\"text-align: right;\">\n",
              "      <th></th>\n",
              "      <th>census_year</th>\n",
              "      <th>block_id</th>\n",
              "      <th>property_id</th>\n",
              "      <th>base_property_id</th>\n",
              "      <th>building_address</th>\n",
              "      <th>clue_small_area</th>\n",
              "      <th>trading_name</th>\n",
              "      <th>business_address</th>\n",
              "      <th>number_of_patrons</th>\n",
              "      <th>longitude</th>\n",
              "      <th>latitude</th>\n",
              "      <th>location</th>\n",
              "    </tr>\n",
              "  </thead>\n",
              "  <tbody>\n",
              "    <tr>\n",
              "      <th>0</th>\n",
              "      <td>2002</td>\n",
              "      <td>11</td>\n",
              "      <td>108972</td>\n",
              "      <td>108972</td>\n",
              "      <td>10-22 Spencer Street MELBOURNE 3000</td>\n",
              "      <td>Melbourne (CBD)</td>\n",
              "      <td>Explorers Inn</td>\n",
              "      <td>10-22 Spencer Street MELBOURNE 3000</td>\n",
              "      <td>50</td>\n",
              "      <td>144.955254</td>\n",
              "      <td>-37.820511</td>\n",
              "      <td>{'lon': 144.95525416628004, 'lat': -37.8205106...</td>\n",
              "    </tr>\n",
              "    <tr>\n",
              "      <th>1</th>\n",
              "      <td>2002</td>\n",
              "      <td>14</td>\n",
              "      <td>103172</td>\n",
              "      <td>103172</td>\n",
              "      <td>31-39 Elizabeth Street MELBOURNE 3000</td>\n",
              "      <td>Melbourne (CBD)</td>\n",
              "      <td>Connells Tavern</td>\n",
              "      <td>35 Elizabeth Street MELBOURNE 3000</td>\n",
              "      <td>350</td>\n",
              "      <td>144.964322</td>\n",
              "      <td>-37.817426</td>\n",
              "      <td>{'lon': 144.964321660097, 'lat': -37.817426106...</td>\n",
              "    </tr>\n",
              "    <tr>\n",
              "      <th>2</th>\n",
              "      <td>2002</td>\n",
              "      <td>15</td>\n",
              "      <td>103944</td>\n",
              "      <td>103944</td>\n",
              "      <td>277-279 Flinders Lane MELBOURNE 3000</td>\n",
              "      <td>Melbourne (CBD)</td>\n",
              "      <td>De Biers</td>\n",
              "      <td>Unit 1, Basement , 277 Flinders Lane MELBOURNE...</td>\n",
              "      <td>400</td>\n",
              "      <td>144.965307</td>\n",
              "      <td>-37.817242</td>\n",
              "      <td>{'lon': 144.96530699086, 'lat': -37.8172419402...</td>\n",
              "    </tr>\n",
              "    <tr>\n",
              "      <th>3</th>\n",
              "      <td>2002</td>\n",
              "      <td>16</td>\n",
              "      <td>103938</td>\n",
              "      <td>103938</td>\n",
              "      <td>187 Flinders Lane MELBOURNE 3000</td>\n",
              "      <td>Melbourne (CBD)</td>\n",
              "      <td>Adelphi Hotel</td>\n",
              "      <td>187 Flinders Lane MELBOURNE 3000</td>\n",
              "      <td>80</td>\n",
              "      <td>144.968385</td>\n",
              "      <td>-37.816360</td>\n",
              "      <td>{'lon': 144.9683846004515, 'lat': -37.81635974...</td>\n",
              "    </tr>\n",
              "    <tr>\n",
              "      <th>4</th>\n",
              "      <td>2002</td>\n",
              "      <td>17</td>\n",
              "      <td>103925</td>\n",
              "      <td>103925</td>\n",
              "      <td>121-123 Flinders Lane MELBOURNE 3000</td>\n",
              "      <td>Melbourne (CBD)</td>\n",
              "      <td>Velour</td>\n",
              "      <td>Unit 1, Gnd &amp; Bmt , 121 Flinders Lane MELBOURN...</td>\n",
              "      <td>350</td>\n",
              "      <td>144.970523</td>\n",
              "      <td>-37.815674</td>\n",
              "      <td>{'lon': 144.97052296371248, 'lat': -37.8156736...</td>\n",
              "    </tr>\n",
              "  </tbody>\n",
              "</table>\n",
              "</div>\n",
              "    <div class=\"colab-df-buttons\">\n",
              "\n",
              "  <div class=\"colab-df-container\">\n",
              "    <button class=\"colab-df-convert\" onclick=\"convertToInteractive('df-dc8c3a40-f42c-4686-a762-4f36ad0d3bf1')\"\n",
              "            title=\"Convert this dataframe to an interactive table.\"\n",
              "            style=\"display:none;\">\n",
              "\n",
              "  <svg xmlns=\"http://www.w3.org/2000/svg\" height=\"24px\" viewBox=\"0 -960 960 960\">\n",
              "    <path d=\"M120-120v-720h720v720H120Zm60-500h600v-160H180v160Zm220 220h160v-160H400v160Zm0 220h160v-160H400v160ZM180-400h160v-160H180v160Zm440 0h160v-160H620v160ZM180-180h160v-160H180v160Zm440 0h160v-160H620v160Z\"/>\n",
              "  </svg>\n",
              "    </button>\n",
              "\n",
              "  <style>\n",
              "    .colab-df-container {\n",
              "      display:flex;\n",
              "      gap: 12px;\n",
              "    }\n",
              "\n",
              "    .colab-df-convert {\n",
              "      background-color: #E8F0FE;\n",
              "      border: none;\n",
              "      border-radius: 50%;\n",
              "      cursor: pointer;\n",
              "      display: none;\n",
              "      fill: #1967D2;\n",
              "      height: 32px;\n",
              "      padding: 0 0 0 0;\n",
              "      width: 32px;\n",
              "    }\n",
              "\n",
              "    .colab-df-convert:hover {\n",
              "      background-color: #E2EBFA;\n",
              "      box-shadow: 0px 1px 2px rgba(60, 64, 67, 0.3), 0px 1px 3px 1px rgba(60, 64, 67, 0.15);\n",
              "      fill: #174EA6;\n",
              "    }\n",
              "\n",
              "    .colab-df-buttons div {\n",
              "      margin-bottom: 4px;\n",
              "    }\n",
              "\n",
              "    [theme=dark] .colab-df-convert {\n",
              "      background-color: #3B4455;\n",
              "      fill: #D2E3FC;\n",
              "    }\n",
              "\n",
              "    [theme=dark] .colab-df-convert:hover {\n",
              "      background-color: #434B5C;\n",
              "      box-shadow: 0px 1px 3px 1px rgba(0, 0, 0, 0.15);\n",
              "      filter: drop-shadow(0px 1px 2px rgba(0, 0, 0, 0.3));\n",
              "      fill: #FFFFFF;\n",
              "    }\n",
              "  </style>\n",
              "\n",
              "    <script>\n",
              "      const buttonEl =\n",
              "        document.querySelector('#df-dc8c3a40-f42c-4686-a762-4f36ad0d3bf1 button.colab-df-convert');\n",
              "      buttonEl.style.display =\n",
              "        google.colab.kernel.accessAllowed ? 'block' : 'none';\n",
              "\n",
              "      async function convertToInteractive(key) {\n",
              "        const element = document.querySelector('#df-dc8c3a40-f42c-4686-a762-4f36ad0d3bf1');\n",
              "        const dataTable =\n",
              "          await google.colab.kernel.invokeFunction('convertToInteractive',\n",
              "                                                    [key], {});\n",
              "        if (!dataTable) return;\n",
              "\n",
              "        const docLinkHtml = 'Like what you see? Visit the ' +\n",
              "          '<a target=\"_blank\" href=https://colab.research.google.com/notebooks/data_table.ipynb>data table notebook</a>'\n",
              "          + ' to learn more about interactive tables.';\n",
              "        element.innerHTML = '';\n",
              "        dataTable['output_type'] = 'display_data';\n",
              "        await google.colab.output.renderOutput(dataTable, element);\n",
              "        const docLink = document.createElement('div');\n",
              "        docLink.innerHTML = docLinkHtml;\n",
              "        element.appendChild(docLink);\n",
              "      }\n",
              "    </script>\n",
              "  </div>\n",
              "\n",
              "\n",
              "<div id=\"df-cd80cffb-74b9-4b90-b321-d2a419322e9b\">\n",
              "  <button class=\"colab-df-quickchart\" onclick=\"quickchart('df-cd80cffb-74b9-4b90-b321-d2a419322e9b')\"\n",
              "            title=\"Suggest charts\"\n",
              "            style=\"display:none;\">\n",
              "\n",
              "<svg xmlns=\"http://www.w3.org/2000/svg\" height=\"24px\"viewBox=\"0 0 24 24\"\n",
              "     width=\"24px\">\n",
              "    <g>\n",
              "        <path d=\"M19 3H5c-1.1 0-2 .9-2 2v14c0 1.1.9 2 2 2h14c1.1 0 2-.9 2-2V5c0-1.1-.9-2-2-2zM9 17H7v-7h2v7zm4 0h-2V7h2v10zm4 0h-2v-4h2v4z\"/>\n",
              "    </g>\n",
              "</svg>\n",
              "  </button>\n",
              "\n",
              "<style>\n",
              "  .colab-df-quickchart {\n",
              "      --bg-color: #E8F0FE;\n",
              "      --fill-color: #1967D2;\n",
              "      --hover-bg-color: #E2EBFA;\n",
              "      --hover-fill-color: #174EA6;\n",
              "      --disabled-fill-color: #AAA;\n",
              "      --disabled-bg-color: #DDD;\n",
              "  }\n",
              "\n",
              "  [theme=dark] .colab-df-quickchart {\n",
              "      --bg-color: #3B4455;\n",
              "      --fill-color: #D2E3FC;\n",
              "      --hover-bg-color: #434B5C;\n",
              "      --hover-fill-color: #FFFFFF;\n",
              "      --disabled-bg-color: #3B4455;\n",
              "      --disabled-fill-color: #666;\n",
              "  }\n",
              "\n",
              "  .colab-df-quickchart {\n",
              "    background-color: var(--bg-color);\n",
              "    border: none;\n",
              "    border-radius: 50%;\n",
              "    cursor: pointer;\n",
              "    display: none;\n",
              "    fill: var(--fill-color);\n",
              "    height: 32px;\n",
              "    padding: 0;\n",
              "    width: 32px;\n",
              "  }\n",
              "\n",
              "  .colab-df-quickchart:hover {\n",
              "    background-color: var(--hover-bg-color);\n",
              "    box-shadow: 0 1px 2px rgba(60, 64, 67, 0.3), 0 1px 3px 1px rgba(60, 64, 67, 0.15);\n",
              "    fill: var(--button-hover-fill-color);\n",
              "  }\n",
              "\n",
              "  .colab-df-quickchart-complete:disabled,\n",
              "  .colab-df-quickchart-complete:disabled:hover {\n",
              "    background-color: var(--disabled-bg-color);\n",
              "    fill: var(--disabled-fill-color);\n",
              "    box-shadow: none;\n",
              "  }\n",
              "\n",
              "  .colab-df-spinner {\n",
              "    border: 2px solid var(--fill-color);\n",
              "    border-color: transparent;\n",
              "    border-bottom-color: var(--fill-color);\n",
              "    animation:\n",
              "      spin 1s steps(1) infinite;\n",
              "  }\n",
              "\n",
              "  @keyframes spin {\n",
              "    0% {\n",
              "      border-color: transparent;\n",
              "      border-bottom-color: var(--fill-color);\n",
              "      border-left-color: var(--fill-color);\n",
              "    }\n",
              "    20% {\n",
              "      border-color: transparent;\n",
              "      border-left-color: var(--fill-color);\n",
              "      border-top-color: var(--fill-color);\n",
              "    }\n",
              "    30% {\n",
              "      border-color: transparent;\n",
              "      border-left-color: var(--fill-color);\n",
              "      border-top-color: var(--fill-color);\n",
              "      border-right-color: var(--fill-color);\n",
              "    }\n",
              "    40% {\n",
              "      border-color: transparent;\n",
              "      border-right-color: var(--fill-color);\n",
              "      border-top-color: var(--fill-color);\n",
              "    }\n",
              "    60% {\n",
              "      border-color: transparent;\n",
              "      border-right-color: var(--fill-color);\n",
              "    }\n",
              "    80% {\n",
              "      border-color: transparent;\n",
              "      border-right-color: var(--fill-color);\n",
              "      border-bottom-color: var(--fill-color);\n",
              "    }\n",
              "    90% {\n",
              "      border-color: transparent;\n",
              "      border-bottom-color: var(--fill-color);\n",
              "    }\n",
              "  }\n",
              "</style>\n",
              "\n",
              "  <script>\n",
              "    async function quickchart(key) {\n",
              "      const quickchartButtonEl =\n",
              "        document.querySelector('#' + key + ' button');\n",
              "      quickchartButtonEl.disabled = true;  // To prevent multiple clicks.\n",
              "      quickchartButtonEl.classList.add('colab-df-spinner');\n",
              "      try {\n",
              "        const charts = await google.colab.kernel.invokeFunction(\n",
              "            'suggestCharts', [key], {});\n",
              "      } catch (error) {\n",
              "        console.error('Error during call to suggestCharts:', error);\n",
              "      }\n",
              "      quickchartButtonEl.classList.remove('colab-df-spinner');\n",
              "      quickchartButtonEl.classList.add('colab-df-quickchart-complete');\n",
              "    }\n",
              "    (() => {\n",
              "      let quickchartButtonEl =\n",
              "        document.querySelector('#df-cd80cffb-74b9-4b90-b321-d2a419322e9b button');\n",
              "      quickchartButtonEl.style.display =\n",
              "        google.colab.kernel.accessAllowed ? 'block' : 'none';\n",
              "    })();\n",
              "  </script>\n",
              "</div>\n",
              "\n",
              "    </div>\n",
              "  </div>\n"
            ]
          },
          "metadata": {},
          "execution_count": 29
        }
      ]
    },
    {
      "cell_type": "code",
      "execution_count": 27,
      "id": "84f58bef",
      "metadata": {
        "colab": {
          "base_uri": "https://localhost:8080/"
        },
        "id": "84f58bef",
        "outputId": "99a81f09-e636-43cd-9272-4bcfb89f26b5"
      },
      "outputs": [
        {
          "output_type": "stream",
          "name": "stdout",
          "text": [
            "<class 'pandas.core.frame.DataFrame'>\n",
            "Int64Index: 2690 entries, 629 to 4695\n",
            "Data columns (total 13 columns):\n",
            " #   Column             Non-Null Count  Dtype  \n",
            "---  ------             --------------  -----  \n",
            " 0   census_year        2690 non-null   int64  \n",
            " 1   block_id           2690 non-null   int64  \n",
            " 2   property_id        2690 non-null   int64  \n",
            " 3   base_property_id   2690 non-null   int64  \n",
            " 4   building_address   2690 non-null   object \n",
            " 5   clue_small_area    2690 non-null   object \n",
            " 6   trading_name       2690 non-null   object \n",
            " 7   business_address   2690 non-null   object \n",
            " 8   number_of_patrons  2690 non-null   int64  \n",
            " 9   longitude          2676 non-null   float64\n",
            " 10  latitude           2676 non-null   float64\n",
            " 11  location           2676 non-null   object \n",
            " 12  category           2690 non-null   object \n",
            "dtypes: float64(2), int64(5), object(6)\n",
            "memory usage: 294.2+ KB\n"
          ]
        }
      ],
      "source": [
        "#transform\n",
        "integer_columns = ['census_year', 'block_id', 'property_id', 'base_property_id', 'number_of_patrons']\n",
        "str_columns = ['building_address', 'clue_small_area', 'trading_name']\n",
        "float_columns = ['longitude', 'latitude']\n",
        "df_btp_capacity[integer_columns] = df_btp_capacity[integer_columns].astype(int)\n",
        "df_btp_capacity[float_columns] = df_btp_capacity[float_columns].astype(float)\n",
        "df_btp_capacity[str_columns] = df_btp_capacity[str_columns].astype(str)\n",
        "\n",
        "#Add column with description Pubs, Taverns and Bars for grouping\n",
        "df_btp_capacity['category'] = 'Pubs, Taverns and Bars'\n",
        "\n",
        "#limit data to past decade\n",
        "df_btp_capacity=df_btp_capacity.query(\"census_year >= @this_decade\")\n",
        "df_btp_capacity.info()"
      ]
    },
    {
      "cell_type": "markdown",
      "id": "d4b9f06c",
      "metadata": {
        "id": "d4b9f06c"
      },
      "source": [
        "## Load Cafe, restaurant, bistro seats"
      ]
    },
    {
      "cell_type": "code",
      "execution_count": null,
      "id": "b53396d8",
      "metadata": {
        "id": "b53396d8",
        "outputId": "bd750d39-7f6f-4101-9875-7d0dec018a0b"
      },
      "outputs": [
        {
          "name": "stdout",
          "output_type": "stream",
          "text": [
            "<class 'pandas.core.frame.DataFrame'>\n",
            "RangeIndex: 56987 entries, 0 to 56986\n",
            "Data columns (total 15 columns):\n",
            " #   Column                        Non-Null Count  Dtype  \n",
            "---  ------                        --------------  -----  \n",
            " 0   location                      56460 non-null  object \n",
            " 1   seating_type                  56987 non-null  object \n",
            " 2   census_year                   56987 non-null  object \n",
            " 3   property_id                   56987 non-null  int64  \n",
            " 4   base_property_id              56987 non-null  int64  \n",
            " 5   trading_name                  56987 non-null  object \n",
            " 6   block_id                      56987 non-null  int64  \n",
            " 7   industry_anzsic4_description  56987 non-null  object \n",
            " 8   number_of_seats               56987 non-null  int64  \n",
            " 9   building_address              56987 non-null  object \n",
            " 10  clue_small_area               56987 non-null  object \n",
            " 11  business_address              56987 non-null  object \n",
            " 12  industry_anzsic4_code         56987 non-null  int64  \n",
            " 13  longitude                     56460 non-null  float64\n",
            " 14  latitude                      56460 non-null  float64\n",
            "dtypes: float64(2), int64(5), object(8)\n",
            "memory usage: 6.5+ MB\n"
          ]
        }
      ],
      "source": [
        "# # Old code not in use as of 10/12/23 - TeClaire\n",
        "# #Load Cafe, restaurant, bistro seats dataset\n",
        "# dsurl = 'cafes-and-restaurants-with-seating-capacity'\n",
        "# url = domain + dsurl + baseurl\n",
        "# #print(url)\n",
        "\n",
        "# data_json = requests.get(url).json()\n",
        "# data_json_df = pd.DataFrame.from_dict(data_json)\n",
        "\n",
        "# #this flattens the features\n",
        "# df_crb=json_normalize(data_json_df['fields'])\n",
        "\n",
        "# df_crb.info()"
      ]
    },
    {
      "cell_type": "code",
      "source": [
        "# # Edited 10/12/23 - TeClaire - API ISSUE\n",
        "# dsurl = 'cafes-and-restaurants-with-seating-capacity'\n",
        "# data_json = fetch_data(BASE_URL, dsurl, API_KEY)\n",
        "# data_json.head()\n",
        "# print('―' * 10)\n",
        "\n",
        "# # Directly create DataFrame from the fetched data\n",
        "# df_crb = pd.DataFrame(data_json.get('results'))\n",
        "# df_crb.info()"
      ],
      "metadata": {
        "colab": {
          "base_uri": "https://localhost:8080/"
        },
        "id": "Bwnj4JXO6z2H",
        "outputId": "bd4470ba-5c78-4242-ce3f-fbd44703c8b6"
      },
      "id": "Bwnj4JXO6z2H",
      "execution_count": 32,
      "outputs": [
        {
          "output_type": "stream",
          "name": "stdout",
          "text": [
            "――――――――――\n",
            "<class 'pandas.core.frame.DataFrame'>\n",
            "Index: 0 entries\n",
            "Empty DataFrame\n"
          ]
        }
      ]
    },
    {
      "cell_type": "markdown",
      "source": [
        "### API 2.1 is loading an empty dataframe\n",
        "####Loading CSV or JSON link as temporary fix 10/12/23 - TeClaire"
      ],
      "metadata": {
        "id": "WYFPJL_y8E4t"
      },
      "id": "WYFPJL_y8E4t"
    },
    {
      "cell_type": "code",
      "source": [
        "# Edited 10/12/23 - TeClaire - JSON link\n",
        "json_url = 'https://data.melbourne.vic.gov.au/api/explore/v2.1/catalog/datasets/cafes-and-restaurants-with-seating-capacity/exports/json?lang=en&timezone=Australia%2FSydney'\n",
        "df_crb = fetch_data_json(json_url, data_format='json')\n",
        "df_crb.info()\n",
        "print('―' * 10)\n",
        "df_crb.head()"
      ],
      "metadata": {
        "colab": {
          "base_uri": "https://localhost:8080/",
          "height": 799
        },
        "id": "ZsvScc2y77yh",
        "outputId": "d8b5ffc5-395b-4be3-9d1c-c8c93d206bfd"
      },
      "id": "ZsvScc2y77yh",
      "execution_count": 33,
      "outputs": [
        {
          "output_type": "stream",
          "name": "stdout",
          "text": [
            "<class 'pandas.core.frame.DataFrame'>\n",
            "RangeIndex: 60055 entries, 0 to 60054\n",
            "Data columns (total 15 columns):\n",
            " #   Column                        Non-Null Count  Dtype  \n",
            "---  ------                        --------------  -----  \n",
            " 0   census_year                   60055 non-null  object \n",
            " 1   block_id                      60055 non-null  int64  \n",
            " 2   property_id                   60055 non-null  object \n",
            " 3   base_property_id              60055 non-null  object \n",
            " 4   building_address              60055 non-null  object \n",
            " 5   clue_small_area               60055 non-null  object \n",
            " 6   trading_name                  60055 non-null  object \n",
            " 7   business_address              60055 non-null  object \n",
            " 8   industry_anzsic4_code         60055 non-null  object \n",
            " 9   industry_anzsic4_description  60055 non-null  object \n",
            " 10  seating_type                  60055 non-null  object \n",
            " 11  number_of_seats               60055 non-null  int64  \n",
            " 12  longitude                     59528 non-null  float64\n",
            " 13  latitude                      59528 non-null  float64\n",
            " 14  location                      59528 non-null  object \n",
            "dtypes: float64(2), int64(2), object(11)\n",
            "memory usage: 6.9+ MB\n",
            "――――――――――\n"
          ]
        },
        {
          "output_type": "execute_result",
          "data": {
            "text/plain": [
              "  census_year  block_id property_id base_property_id  \\\n",
              "0        2017         6      578324           573333   \n",
              "1        2017         6      578324           573333   \n",
              "2        2017        11      103957           103957   \n",
              "3        2017        11      103957           103957   \n",
              "4        2017        11      103985           103985   \n",
              "\n",
              "                         building_address  clue_small_area  \\\n",
              "0        2 Swanston Street MELBOURNE 3000  Melbourne (CBD)   \n",
              "1        2 Swanston Street MELBOURNE 3000  Melbourne (CBD)   \n",
              "2    517-537 Flinders Lane MELBOURNE 3000  Melbourne (CBD)   \n",
              "3    517-537 Flinders Lane MELBOURNE 3000  Melbourne (CBD)   \n",
              "4  562-564 Flinders Street MELBOURNE 3000  Melbourne (CBD)   \n",
              "\n",
              "            trading_name                                   business_address  \\\n",
              "0        Transport Hotel  Tenancy 29, Ground , 2 Swanston Street MELBOUR...   \n",
              "1        Transport Hotel  Tenancy 29, Ground , 2 Swanston Street MELBOUR...   \n",
              "2  Altius Coffee Brewers   Shop , Ground , 517 Flinders Lane MELBOURNE 3000   \n",
              "3      Five & Dime Bagel                    16 Flinders Lane MELBOURNE 3000   \n",
              "4  YHA Melbourne Central             562-564 Flinders Street MELBOURNE 3000   \n",
              "\n",
              "  industry_anzsic4_code                      industry_anzsic4_description  \\\n",
              "0                  4520                            Pubs, Taverns and Bars   \n",
              "1                  4520                            Pubs, Taverns and Bars   \n",
              "2                  4512                            Takeaway Food Services   \n",
              "3                  1174  Bakery Product Manufacturing (Non-factory based)   \n",
              "4                  4400                                     Accommodation   \n",
              "\n",
              "      seating_type  number_of_seats   longitude   latitude  \\\n",
              "0   Seats - Indoor              230  144.969942 -37.817778   \n",
              "1  Seats - Outdoor              120  144.969942 -37.817778   \n",
              "2  Seats - Outdoor                4  144.956486 -37.819875   \n",
              "3   Seats - Indoor               14  144.956486 -37.819875   \n",
              "4   Seats - Indoor               43  144.955635 -37.820595   \n",
              "\n",
              "                                            location  \n",
              "0  {'lon': 144.96994164279243, 'lat': -37.8177778...  \n",
              "1  {'lon': 144.96994164279243, 'lat': -37.8177778...  \n",
              "2  {'lon': 144.95648638781466, 'lat': -37.8198754...  \n",
              "3  {'lon': 144.95648638781466, 'lat': -37.8198754...  \n",
              "4  {'lon': 144.9556348088, 'lat': -37.82059511593...  "
            ],
            "text/html": [
              "\n",
              "  <div id=\"df-28e1d935-7cfb-44bf-9248-85df1e62b6c0\" class=\"colab-df-container\">\n",
              "    <div>\n",
              "<style scoped>\n",
              "    .dataframe tbody tr th:only-of-type {\n",
              "        vertical-align: middle;\n",
              "    }\n",
              "\n",
              "    .dataframe tbody tr th {\n",
              "        vertical-align: top;\n",
              "    }\n",
              "\n",
              "    .dataframe thead th {\n",
              "        text-align: right;\n",
              "    }\n",
              "</style>\n",
              "<table border=\"1\" class=\"dataframe\">\n",
              "  <thead>\n",
              "    <tr style=\"text-align: right;\">\n",
              "      <th></th>\n",
              "      <th>census_year</th>\n",
              "      <th>block_id</th>\n",
              "      <th>property_id</th>\n",
              "      <th>base_property_id</th>\n",
              "      <th>building_address</th>\n",
              "      <th>clue_small_area</th>\n",
              "      <th>trading_name</th>\n",
              "      <th>business_address</th>\n",
              "      <th>industry_anzsic4_code</th>\n",
              "      <th>industry_anzsic4_description</th>\n",
              "      <th>seating_type</th>\n",
              "      <th>number_of_seats</th>\n",
              "      <th>longitude</th>\n",
              "      <th>latitude</th>\n",
              "      <th>location</th>\n",
              "    </tr>\n",
              "  </thead>\n",
              "  <tbody>\n",
              "    <tr>\n",
              "      <th>0</th>\n",
              "      <td>2017</td>\n",
              "      <td>6</td>\n",
              "      <td>578324</td>\n",
              "      <td>573333</td>\n",
              "      <td>2 Swanston Street MELBOURNE 3000</td>\n",
              "      <td>Melbourne (CBD)</td>\n",
              "      <td>Transport Hotel</td>\n",
              "      <td>Tenancy 29, Ground , 2 Swanston Street MELBOUR...</td>\n",
              "      <td>4520</td>\n",
              "      <td>Pubs, Taverns and Bars</td>\n",
              "      <td>Seats - Indoor</td>\n",
              "      <td>230</td>\n",
              "      <td>144.969942</td>\n",
              "      <td>-37.817778</td>\n",
              "      <td>{'lon': 144.96994164279243, 'lat': -37.8177778...</td>\n",
              "    </tr>\n",
              "    <tr>\n",
              "      <th>1</th>\n",
              "      <td>2017</td>\n",
              "      <td>6</td>\n",
              "      <td>578324</td>\n",
              "      <td>573333</td>\n",
              "      <td>2 Swanston Street MELBOURNE 3000</td>\n",
              "      <td>Melbourne (CBD)</td>\n",
              "      <td>Transport Hotel</td>\n",
              "      <td>Tenancy 29, Ground , 2 Swanston Street MELBOUR...</td>\n",
              "      <td>4520</td>\n",
              "      <td>Pubs, Taverns and Bars</td>\n",
              "      <td>Seats - Outdoor</td>\n",
              "      <td>120</td>\n",
              "      <td>144.969942</td>\n",
              "      <td>-37.817778</td>\n",
              "      <td>{'lon': 144.96994164279243, 'lat': -37.8177778...</td>\n",
              "    </tr>\n",
              "    <tr>\n",
              "      <th>2</th>\n",
              "      <td>2017</td>\n",
              "      <td>11</td>\n",
              "      <td>103957</td>\n",
              "      <td>103957</td>\n",
              "      <td>517-537 Flinders Lane MELBOURNE 3000</td>\n",
              "      <td>Melbourne (CBD)</td>\n",
              "      <td>Altius Coffee Brewers</td>\n",
              "      <td>Shop , Ground , 517 Flinders Lane MELBOURNE 3000</td>\n",
              "      <td>4512</td>\n",
              "      <td>Takeaway Food Services</td>\n",
              "      <td>Seats - Outdoor</td>\n",
              "      <td>4</td>\n",
              "      <td>144.956486</td>\n",
              "      <td>-37.819875</td>\n",
              "      <td>{'lon': 144.95648638781466, 'lat': -37.8198754...</td>\n",
              "    </tr>\n",
              "    <tr>\n",
              "      <th>3</th>\n",
              "      <td>2017</td>\n",
              "      <td>11</td>\n",
              "      <td>103957</td>\n",
              "      <td>103957</td>\n",
              "      <td>517-537 Flinders Lane MELBOURNE 3000</td>\n",
              "      <td>Melbourne (CBD)</td>\n",
              "      <td>Five &amp; Dime Bagel</td>\n",
              "      <td>16 Flinders Lane MELBOURNE 3000</td>\n",
              "      <td>1174</td>\n",
              "      <td>Bakery Product Manufacturing (Non-factory based)</td>\n",
              "      <td>Seats - Indoor</td>\n",
              "      <td>14</td>\n",
              "      <td>144.956486</td>\n",
              "      <td>-37.819875</td>\n",
              "      <td>{'lon': 144.95648638781466, 'lat': -37.8198754...</td>\n",
              "    </tr>\n",
              "    <tr>\n",
              "      <th>4</th>\n",
              "      <td>2017</td>\n",
              "      <td>11</td>\n",
              "      <td>103985</td>\n",
              "      <td>103985</td>\n",
              "      <td>562-564 Flinders Street MELBOURNE 3000</td>\n",
              "      <td>Melbourne (CBD)</td>\n",
              "      <td>YHA Melbourne Central</td>\n",
              "      <td>562-564 Flinders Street MELBOURNE 3000</td>\n",
              "      <td>4400</td>\n",
              "      <td>Accommodation</td>\n",
              "      <td>Seats - Indoor</td>\n",
              "      <td>43</td>\n",
              "      <td>144.955635</td>\n",
              "      <td>-37.820595</td>\n",
              "      <td>{'lon': 144.9556348088, 'lat': -37.82059511593...</td>\n",
              "    </tr>\n",
              "  </tbody>\n",
              "</table>\n",
              "</div>\n",
              "    <div class=\"colab-df-buttons\">\n",
              "\n",
              "  <div class=\"colab-df-container\">\n",
              "    <button class=\"colab-df-convert\" onclick=\"convertToInteractive('df-28e1d935-7cfb-44bf-9248-85df1e62b6c0')\"\n",
              "            title=\"Convert this dataframe to an interactive table.\"\n",
              "            style=\"display:none;\">\n",
              "\n",
              "  <svg xmlns=\"http://www.w3.org/2000/svg\" height=\"24px\" viewBox=\"0 -960 960 960\">\n",
              "    <path d=\"M120-120v-720h720v720H120Zm60-500h600v-160H180v160Zm220 220h160v-160H400v160Zm0 220h160v-160H400v160ZM180-400h160v-160H180v160Zm440 0h160v-160H620v160ZM180-180h160v-160H180v160Zm440 0h160v-160H620v160Z\"/>\n",
              "  </svg>\n",
              "    </button>\n",
              "\n",
              "  <style>\n",
              "    .colab-df-container {\n",
              "      display:flex;\n",
              "      gap: 12px;\n",
              "    }\n",
              "\n",
              "    .colab-df-convert {\n",
              "      background-color: #E8F0FE;\n",
              "      border: none;\n",
              "      border-radius: 50%;\n",
              "      cursor: pointer;\n",
              "      display: none;\n",
              "      fill: #1967D2;\n",
              "      height: 32px;\n",
              "      padding: 0 0 0 0;\n",
              "      width: 32px;\n",
              "    }\n",
              "\n",
              "    .colab-df-convert:hover {\n",
              "      background-color: #E2EBFA;\n",
              "      box-shadow: 0px 1px 2px rgba(60, 64, 67, 0.3), 0px 1px 3px 1px rgba(60, 64, 67, 0.15);\n",
              "      fill: #174EA6;\n",
              "    }\n",
              "\n",
              "    .colab-df-buttons div {\n",
              "      margin-bottom: 4px;\n",
              "    }\n",
              "\n",
              "    [theme=dark] .colab-df-convert {\n",
              "      background-color: #3B4455;\n",
              "      fill: #D2E3FC;\n",
              "    }\n",
              "\n",
              "    [theme=dark] .colab-df-convert:hover {\n",
              "      background-color: #434B5C;\n",
              "      box-shadow: 0px 1px 3px 1px rgba(0, 0, 0, 0.15);\n",
              "      filter: drop-shadow(0px 1px 2px rgba(0, 0, 0, 0.3));\n",
              "      fill: #FFFFFF;\n",
              "    }\n",
              "  </style>\n",
              "\n",
              "    <script>\n",
              "      const buttonEl =\n",
              "        document.querySelector('#df-28e1d935-7cfb-44bf-9248-85df1e62b6c0 button.colab-df-convert');\n",
              "      buttonEl.style.display =\n",
              "        google.colab.kernel.accessAllowed ? 'block' : 'none';\n",
              "\n",
              "      async function convertToInteractive(key) {\n",
              "        const element = document.querySelector('#df-28e1d935-7cfb-44bf-9248-85df1e62b6c0');\n",
              "        const dataTable =\n",
              "          await google.colab.kernel.invokeFunction('convertToInteractive',\n",
              "                                                    [key], {});\n",
              "        if (!dataTable) return;\n",
              "\n",
              "        const docLinkHtml = 'Like what you see? Visit the ' +\n",
              "          '<a target=\"_blank\" href=https://colab.research.google.com/notebooks/data_table.ipynb>data table notebook</a>'\n",
              "          + ' to learn more about interactive tables.';\n",
              "        element.innerHTML = '';\n",
              "        dataTable['output_type'] = 'display_data';\n",
              "        await google.colab.output.renderOutput(dataTable, element);\n",
              "        const docLink = document.createElement('div');\n",
              "        docLink.innerHTML = docLinkHtml;\n",
              "        element.appendChild(docLink);\n",
              "      }\n",
              "    </script>\n",
              "  </div>\n",
              "\n",
              "\n",
              "<div id=\"df-8627c927-48c3-47da-9d3a-6362190b5922\">\n",
              "  <button class=\"colab-df-quickchart\" onclick=\"quickchart('df-8627c927-48c3-47da-9d3a-6362190b5922')\"\n",
              "            title=\"Suggest charts\"\n",
              "            style=\"display:none;\">\n",
              "\n",
              "<svg xmlns=\"http://www.w3.org/2000/svg\" height=\"24px\"viewBox=\"0 0 24 24\"\n",
              "     width=\"24px\">\n",
              "    <g>\n",
              "        <path d=\"M19 3H5c-1.1 0-2 .9-2 2v14c0 1.1.9 2 2 2h14c1.1 0 2-.9 2-2V5c0-1.1-.9-2-2-2zM9 17H7v-7h2v7zm4 0h-2V7h2v10zm4 0h-2v-4h2v4z\"/>\n",
              "    </g>\n",
              "</svg>\n",
              "  </button>\n",
              "\n",
              "<style>\n",
              "  .colab-df-quickchart {\n",
              "      --bg-color: #E8F0FE;\n",
              "      --fill-color: #1967D2;\n",
              "      --hover-bg-color: #E2EBFA;\n",
              "      --hover-fill-color: #174EA6;\n",
              "      --disabled-fill-color: #AAA;\n",
              "      --disabled-bg-color: #DDD;\n",
              "  }\n",
              "\n",
              "  [theme=dark] .colab-df-quickchart {\n",
              "      --bg-color: #3B4455;\n",
              "      --fill-color: #D2E3FC;\n",
              "      --hover-bg-color: #434B5C;\n",
              "      --hover-fill-color: #FFFFFF;\n",
              "      --disabled-bg-color: #3B4455;\n",
              "      --disabled-fill-color: #666;\n",
              "  }\n",
              "\n",
              "  .colab-df-quickchart {\n",
              "    background-color: var(--bg-color);\n",
              "    border: none;\n",
              "    border-radius: 50%;\n",
              "    cursor: pointer;\n",
              "    display: none;\n",
              "    fill: var(--fill-color);\n",
              "    height: 32px;\n",
              "    padding: 0;\n",
              "    width: 32px;\n",
              "  }\n",
              "\n",
              "  .colab-df-quickchart:hover {\n",
              "    background-color: var(--hover-bg-color);\n",
              "    box-shadow: 0 1px 2px rgba(60, 64, 67, 0.3), 0 1px 3px 1px rgba(60, 64, 67, 0.15);\n",
              "    fill: var(--button-hover-fill-color);\n",
              "  }\n",
              "\n",
              "  .colab-df-quickchart-complete:disabled,\n",
              "  .colab-df-quickchart-complete:disabled:hover {\n",
              "    background-color: var(--disabled-bg-color);\n",
              "    fill: var(--disabled-fill-color);\n",
              "    box-shadow: none;\n",
              "  }\n",
              "\n",
              "  .colab-df-spinner {\n",
              "    border: 2px solid var(--fill-color);\n",
              "    border-color: transparent;\n",
              "    border-bottom-color: var(--fill-color);\n",
              "    animation:\n",
              "      spin 1s steps(1) infinite;\n",
              "  }\n",
              "\n",
              "  @keyframes spin {\n",
              "    0% {\n",
              "      border-color: transparent;\n",
              "      border-bottom-color: var(--fill-color);\n",
              "      border-left-color: var(--fill-color);\n",
              "    }\n",
              "    20% {\n",
              "      border-color: transparent;\n",
              "      border-left-color: var(--fill-color);\n",
              "      border-top-color: var(--fill-color);\n",
              "    }\n",
              "    30% {\n",
              "      border-color: transparent;\n",
              "      border-left-color: var(--fill-color);\n",
              "      border-top-color: var(--fill-color);\n",
              "      border-right-color: var(--fill-color);\n",
              "    }\n",
              "    40% {\n",
              "      border-color: transparent;\n",
              "      border-right-color: var(--fill-color);\n",
              "      border-top-color: var(--fill-color);\n",
              "    }\n",
              "    60% {\n",
              "      border-color: transparent;\n",
              "      border-right-color: var(--fill-color);\n",
              "    }\n",
              "    80% {\n",
              "      border-color: transparent;\n",
              "      border-right-color: var(--fill-color);\n",
              "      border-bottom-color: var(--fill-color);\n",
              "    }\n",
              "    90% {\n",
              "      border-color: transparent;\n",
              "      border-bottom-color: var(--fill-color);\n",
              "    }\n",
              "  }\n",
              "</style>\n",
              "\n",
              "  <script>\n",
              "    async function quickchart(key) {\n",
              "      const quickchartButtonEl =\n",
              "        document.querySelector('#' + key + ' button');\n",
              "      quickchartButtonEl.disabled = true;  // To prevent multiple clicks.\n",
              "      quickchartButtonEl.classList.add('colab-df-spinner');\n",
              "      try {\n",
              "        const charts = await google.colab.kernel.invokeFunction(\n",
              "            'suggestCharts', [key], {});\n",
              "      } catch (error) {\n",
              "        console.error('Error during call to suggestCharts:', error);\n",
              "      }\n",
              "      quickchartButtonEl.classList.remove('colab-df-spinner');\n",
              "      quickchartButtonEl.classList.add('colab-df-quickchart-complete');\n",
              "    }\n",
              "    (() => {\n",
              "      let quickchartButtonEl =\n",
              "        document.querySelector('#df-8627c927-48c3-47da-9d3a-6362190b5922 button');\n",
              "      quickchartButtonEl.style.display =\n",
              "        google.colab.kernel.accessAllowed ? 'block' : 'none';\n",
              "    })();\n",
              "  </script>\n",
              "</div>\n",
              "\n",
              "    </div>\n",
              "  </div>\n"
            ]
          },
          "metadata": {},
          "execution_count": 33
        }
      ]
    },
    {
      "cell_type": "code",
      "execution_count": 34,
      "id": "aef43d0e",
      "metadata": {
        "colab": {
          "base_uri": "https://localhost:8080/"
        },
        "id": "aef43d0e",
        "outputId": "ec9c8298-8211-479f-fc6c-8d3f07e3ce2e"
      },
      "outputs": [
        {
          "output_type": "stream",
          "name": "stdout",
          "text": [
            "(36713, 16)\n",
            "<class 'pandas.core.frame.DataFrame'>\n",
            "Int64Index: 33654 entries, 0 to 60054\n",
            "Data columns (total 16 columns):\n",
            " #   Column                        Non-Null Count  Dtype  \n",
            "---  ------                        --------------  -----  \n",
            " 0   census_year                   33654 non-null  int64  \n",
            " 1   block_id                      33654 non-null  int64  \n",
            " 2   property_id                   33654 non-null  int64  \n",
            " 3   base_property_id              33654 non-null  int64  \n",
            " 4   building_address              33654 non-null  object \n",
            " 5   clue_small_area               33654 non-null  object \n",
            " 6   trading_name                  33654 non-null  object \n",
            " 7   business_address              33654 non-null  object \n",
            " 8   industry_anzsic4_code         33654 non-null  object \n",
            " 9   industry_anzsic4_description  33654 non-null  object \n",
            " 10  seating_type                  33654 non-null  object \n",
            " 11  number_of_seats               33654 non-null  int64  \n",
            " 12  longitude                     33204 non-null  float64\n",
            " 13  latitude                      33204 non-null  float64\n",
            " 14  location                      33204 non-null  object \n",
            " 15  category                      33654 non-null  object \n",
            "dtypes: float64(2), int64(5), object(9)\n",
            "memory usage: 4.4+ MB\n"
          ]
        }
      ],
      "source": [
        "#transform\n",
        "integer_columns = ['census_year', 'block_id', 'property_id', 'base_property_id', 'number_of_seats']\n",
        "str_columns = ['clue_small_area', 'trading_name','industry_anzsic4_description','seating_type']\n",
        "df_crb[integer_columns] = df_crb[integer_columns].astype(int)\n",
        "df_crb[str_columns] = df_crb[str_columns].astype(str)\n",
        "\n",
        "#Add column with description for grouping\n",
        "df_crb['category'] = 'Café, Restaurant, Bistro'\n",
        "\n",
        "#drop NaN values\n",
        "df_crb.dropna(subset=['business_address'])\n",
        "df_crb.dropna(subset=['longitude'])\n",
        "df_crb.dropna(subset=['latitude'])\n",
        "\n",
        "#latest decade\n",
        "df_crb = df_crb.query(\"census_year >= 2012\")\n",
        "\n",
        "print(df_crb.shape)\n",
        "df_crb.head(5).T\n",
        "\n",
        "#limit data to past decade\n",
        "df_crb=df_crb.query(\"census_year >= @this_decade\")\n",
        "df_crb.info()"
      ]
    },
    {
      "cell_type": "markdown",
      "id": "a4e6fcdd",
      "metadata": {
        "id": "a4e6fcdd"
      },
      "source": [
        "### Merge CLUE venue seats, capacity and activities datasets"
      ]
    },
    {
      "cell_type": "code",
      "execution_count": 35,
      "id": "acfb7d40",
      "metadata": {
        "id": "acfb7d40"
      },
      "outputs": [],
      "source": [
        "#Merge CLUE block data\n",
        "clue_venues = df_crb.append(df_btp_capacity)\n",
        "\n",
        "#combine data from venue datasets to use seats or patrons values as a capacity measure\n",
        "#similar combination for category created\n",
        "clue_venues['capacity'] = clue_venues[['number_of_seats', 'number_of_patrons']].bfill(axis=1).iloc[:, 0]\n",
        "clue_venues['venue_description'] = clue_venues[['category', 'industry_anzsic4_description']].bfill(axis=1).iloc[:, 0]\n",
        "\n",
        "#rename columns\n",
        "clue_venues.rename(columns={\n",
        "      \"latitude\":\"lat\"\n",
        "    , \"longitude\":\"lon\"\n",
        "},inplace = True)\n",
        "\n",
        "\n",
        "#fill remaining nulls\n",
        "clue_venues.fillna(0, inplace=True)\n",
        "\n",
        "#clue_venues.head(3).T"
      ]
    },
    {
      "cell_type": "markdown",
      "id": "0872bcce",
      "metadata": {
        "id": "0872bcce"
      },
      "source": [
        "## Load City Activities and Planned Works\n",
        "\n"
      ]
    },
    {
      "cell_type": "code",
      "execution_count": null,
      "id": "6e1870c3",
      "metadata": {
        "id": "6e1870c3",
        "outputId": "e4855779-f0ae-44a7-8c51-aae0dc0baf43"
      },
      "outputs": [
        {
          "data": {
            "text/plain": [
              "{'type': 'Feature',\n",
              " 'geometry': {'coordinates': [[[144.9685797842, -37.8134248213],\n",
              "    [144.9688373541, -37.8133508046],\n",
              "    [144.9687076377, -37.8130671474],\n",
              "    [144.9684498427, -37.813142364],\n",
              "    [144.9685797842, -37.8134248213]]],\n",
              "  'type': 'Polygon'},\n",
              " 'properties': {'location': '124-134 Russell Street\\rMELBOURNE VIC 3000',\n",
              "  'status': 'CONFIRMED',\n",
              "  'notes': 'Hoarding',\n",
              "  'end_date': '2022-08-08',\n",
              "  'geo_point_2d': [-37.81324619965848, 144.9686437019243],\n",
              "  'activity_id': 'SS-1094323-0-108589-EHD-Permit Issued-231120210700-080820221900',\n",
              "  'classification': 'Structures',\n",
              "  'geometry': 'MULTIPOLYGON (((144.96857978421863 -37.813424821287875,144.9688373540564 -37.81335080458208,144.9687076377078 -37.81306714743958,144.9684498427469 -37.813142363962264,144.96857978421863 -37.813424821287875)))',\n",
              "  'start_date': '2021-11-23',\n",
              "  'source_id': 'EHD-2021-93',\n",
              "  'small_area': 'Melbourne (CBD)'}}"
            ]
          },
          "execution_count": 13,
          "metadata": {},
          "output_type": "execute_result"
        }
      ],
      "source": [
        "# # Old Code as of 10/12/23 - TeClaire\n",
        "# # spatial layer used to map city activity planned works\n",
        "# dsurl = 'city-activities-and-planned-works'\n",
        "# GeoJSONURL = domain + dsurl + basegeourl\n",
        "# #print(GeoJSONURL)\n",
        "\n",
        "# capw = requests.get(GeoJSONURL).json()\n",
        "# capw[\"features\"][0]\n"
      ]
    },
    {
      "cell_type": "code",
      "source": [
        "# Edited 10/12/23 - TeClaire\n",
        "BASE_URL = 'https://data.melbourne.vic.gov.au/api/explore/v2.1/catalog/datasets/'\n",
        "\n",
        "dsurl = 'city-activities-and-planned-works'\n",
        "df_capw = fetch_data(BASE_URL, dsurl, API_KEY)\n",
        "print('―' * 10)\n",
        "df_capw.info()"
      ],
      "metadata": {
        "colab": {
          "base_uri": "https://localhost:8080/"
        },
        "id": "pyaigjhD8_kN",
        "outputId": "53f21c72-fe86-48ca-dffa-e58303ef0b4b"
      },
      "id": "pyaigjhD8_kN",
      "execution_count": 38,
      "outputs": [
        {
          "output_type": "stream",
          "name": "stdout",
          "text": [
            "――――――――――\n",
            "<class 'pandas.core.frame.DataFrame'>\n",
            "RangeIndex: 605 entries, 0 to 604\n",
            "Data columns (total 12 columns):\n",
            " #   Column          Non-Null Count  Dtype \n",
            "---  ------          --------------  ----- \n",
            " 0   activity_id     605 non-null    object\n",
            " 1   classification  605 non-null    object\n",
            " 2   end_date        605 non-null    object\n",
            " 3   location        603 non-null    object\n",
            " 4   notes           500 non-null    object\n",
            " 5   source_id       605 non-null    object\n",
            " 6   start_date      605 non-null    object\n",
            " 7   status          605 non-null    object\n",
            " 8   geometry        605 non-null    object\n",
            " 9   small_area      605 non-null    object\n",
            " 10  json_geometry   0 non-null      object\n",
            " 11  geo_point_2d    605 non-null    object\n",
            "dtypes: object(12)\n",
            "memory usage: 56.8+ KB\n"
          ]
        }
      ]
    },
    {
      "cell_type": "code",
      "execution_count": null,
      "id": "bbd6e1ad",
      "metadata": {
        "id": "bbd6e1ad",
        "outputId": "9d8be5c8-34c8-432c-eb05-5c0da19d4bac"
      },
      "outputs": [
        {
          "name": "stdout",
          "output_type": "stream",
          "text": [
            "<class 'pandas.core.frame.DataFrame'>\n",
            "RangeIndex: 605 entries, 0 to 604\n",
            "Data columns (total 13 columns):\n",
            " #   Column                     Non-Null Count  Dtype \n",
            "---  ------                     --------------  ----- \n",
            " 0   location                   603 non-null    object\n",
            " 1   status                     605 non-null    object\n",
            " 2   notes                      500 non-null    object\n",
            " 3   end_date                   605 non-null    object\n",
            " 4   geo_point_2d               605 non-null    object\n",
            " 5   activity_id                605 non-null    object\n",
            " 6   classification             605 non-null    object\n",
            " 7   geometry                   605 non-null    object\n",
            " 8   start_date                 605 non-null    object\n",
            " 9   source_id                  605 non-null    object\n",
            " 10  small_area                 605 non-null    object\n",
            " 11  json_geometry.coordinates  605 non-null    object\n",
            " 12  json_geometry.type         605 non-null    object\n",
            "dtypes: object(13)\n",
            "memory usage: 61.6+ KB\n"
          ]
        }
      ],
      "source": [
        "# # Old Code as of 10/12/23 - TeClaire\n",
        "# # spatial layer used to map city activity planned works\n",
        "# dsurl = 'city-activities-and-planned-works'\n",
        "# url = domain + dsurl + baseurl\n",
        "# #print(url)\n",
        "\n",
        "# data_json = requests.get(url).json()\n",
        "# data_json_df = pd.DataFrame.from_dict(data_json)\n",
        "\n",
        "# #this flattens the features\n",
        "# df_capw=json_normalize(data_json_df['fields'])\n",
        "# df_capw.info()"
      ]
    },
    {
      "cell_type": "code",
      "execution_count": 40,
      "id": "7209ea23",
      "metadata": {
        "colab": {
          "base_uri": "https://localhost:8080/"
        },
        "id": "7209ea23",
        "outputId": "604c3464-3299-41ae-9fb8-ead38bd53afa"
      },
      "outputs": [
        {
          "output_type": "stream",
          "name": "stdout",
          "text": [
            "['Structures' 'Traffic Management' 'Event' 'Reserved Parking'\n",
            " 'Public Event' 'Private Event']\n"
          ]
        }
      ],
      "source": [
        "#look at events that are for entertainment\n",
        "print(df_capw.classification.unique())\n",
        "df_capw.dropna(subset=['geometry'])\n",
        "\n",
        "#Convert to date, add columns\n",
        "df_capw['start_dt'] = pd.to_datetime(df_capw.start_date).dt.date\n",
        "df_capw['start_year'] = pd.to_datetime(df_capw.start_dt).dt.year\n",
        "df_capw['start_month'] = pd.to_datetime(df_capw.start_dt).dt.month\n",
        "#Add column with description for grouping\n",
        "df_crb['seating_type'] = 'Not Provided'\n",
        "\n",
        "#drop columns - no column exists 2023\n",
        "# df_capw = df_capw.drop(['json_geometry.type'], axis=1)\n",
        "\n",
        "#filter found there are records with value 2921-11-19 00:00:00, exclude these\n",
        "df_capw = df_capw.loc[(df_capw['end_date'] < '2065-01-01')]\n",
        "df_capw['end_dt'] = pd.to_datetime(df_capw.end_date).dt.date\n",
        "df_capw['end_year'] = pd.to_datetime(df_capw.end_dt).dt.year\n",
        "df_capw['end_month'] = pd.to_datetime(df_capw.end_dt).dt.month\n",
        "df_capw_all = df_capw.copy()\n",
        "df_capw = df_capw[(df_capw.classification.isin(['Event','Public Event','Private Event']))]"
      ]
    },
    {
      "cell_type": "code",
      "execution_count": 41,
      "id": "24bbfb42",
      "metadata": {
        "colab": {
          "base_uri": "https://localhost:8080/"
        },
        "id": "24bbfb42",
        "outputId": "5a940575-237f-44bd-a47c-b78b98bcade6"
      },
      "outputs": [
        {
          "output_type": "stream",
          "name": "stdout",
          "text": [
            "[2018 2022 2023 2019 2020 2021]\n",
            "['Event' 'Public Event' 'Private Event']\n"
          ]
        }
      ],
      "source": [
        "#Range of years\n",
        "print(df_capw.start_year.unique())\n",
        "print(df_capw.classification.unique())"
      ]
    },
    {
      "cell_type": "code",
      "execution_count": 42,
      "id": "0de31fdc",
      "metadata": {
        "id": "0de31fdc"
      },
      "outputs": [],
      "source": [
        "#Merge CLUE block data\n",
        "clue_venues_capw=clue_venues.append(df_capw)\n",
        "\n",
        "#combine values across datasets for year, small area and description\n",
        "clue_venues_capw['year'] = clue_venues_capw[['census_year', 'start_year']].bfill(axis=1).iloc[:, 0]\n",
        "clue_venues_capw['year'] = clue_venues_capw['year'].astype(int)\n",
        "clue_venues_capw['small_area_tag'] = clue_venues_capw[['clue_small_area', 'small_area']].bfill(axis=1).iloc[:, 0]\n",
        "clue_venues_capw['description_tag'] = clue_venues_capw[['industry_anzsic4_description', 'classification']].bfill(axis=1).iloc[:, 0]\n",
        "clue_venues_capw['category_tag'] = clue_venues_capw[['category', 'classification']].bfill(axis=1).iloc[:, 0]\n",
        "\n",
        "#fill remaining nulls\n",
        "clue_venues_capw.fillna(0, inplace=True)"
      ]
    },
    {
      "cell_type": "code",
      "execution_count": 43,
      "id": "3ad06422",
      "metadata": {
        "colab": {
          "base_uri": "https://localhost:8080/"
        },
        "id": "3ad06422",
        "outputId": "311b7550-4cb3-436a-f216-1cddd6086d11"
      },
      "outputs": [
        {
          "output_type": "execute_result",
          "data": {
            "text/plain": [
              "array(['Café, Restaurant, Bistro', 0, 'Event', 'Public Event',\n",
              "       'Private Event'], dtype=object)"
            ]
          },
          "metadata": {},
          "execution_count": 43
        }
      ],
      "source": [
        "clue_venues_capw.category_tag.unique()"
      ]
    },
    {
      "cell_type": "code",
      "execution_count": 44,
      "id": "c03b03ac",
      "metadata": {
        "id": "c03b03ac"
      },
      "outputs": [],
      "source": [
        "#create data frames per year for some visuals\n",
        "#the latest data is for the past year\n",
        "clue_venues_y3=clue_venues_capw.query(\"year == @y3\")\n",
        "clue_venues_y2=clue_venues_capw.query(\"year == @y2\")\n",
        "clue_venues_y1=clue_venues_capw.query(\"year >= @y1\") #latest year, see setup for detail\n",
        "#clue_venues_capw.tail(3).T"
      ]
    },
    {
      "cell_type": "markdown",
      "id": "54d7451c",
      "metadata": {
        "id": "54d7451c"
      },
      "source": [
        "## Other datasets of interest\n",
        "\n",
        "The population forecast for the city for the next five years indicates demand due to the increase in population. The pedestrian traffic numbers will be used as an indicator of people potentially using the entertainment venues.\n",
        "\n",
        "The pedestrian traffic will show us what areas people are visiting and during what part of the day. This can be used to evaluate if the entertainment venue capacity is low, sufficient, or high.\n"
      ]
    },
    {
      "cell_type": "markdown",
      "id": "59bd45c4",
      "metadata": {
        "id": "59bd45c4"
      },
      "source": [
        "### Load small area population forecasts"
      ]
    },
    {
      "cell_type": "code",
      "execution_count": 72,
      "id": "3ddfa8b5",
      "metadata": {
        "colab": {
          "base_uri": "https://localhost:8080/"
        },
        "id": "3ddfa8b5",
        "outputId": "22d02fac-9785-468f-fe5c-b94102b6d2ff"
      },
      "outputs": [
        {
          "output_type": "stream",
          "name": "stdout",
          "text": [
            "<class 'pandas.core.frame.DataFrame'>\n",
            "Int64Index: 6496 entries, 0 to 17046\n",
            "Data columns (total 5 columns):\n",
            " #   Column     Non-Null Count  Dtype  \n",
            "---  ------     --------------  -----  \n",
            " 0   geography  6496 non-null   object \n",
            " 1   year       6496 non-null   int64  \n",
            " 2   age        6496 non-null   object \n",
            " 3   value      6472 non-null   float64\n",
            " 4   gender     6496 non-null   object \n",
            "dtypes: float64(1), int64(1), object(3)\n",
            "memory usage: 304.5+ KB\n"
          ]
        }
      ],
      "source": [
        "dsurl = 'city-of-melbourne-population-forecasts-by-small-area-2020-2040'\n",
        "url = domain + dsurl + baseurl\n",
        "#print(url)\n",
        "\n",
        "data_json = requests.get(url).json()\n",
        "data_json_df = pd.DataFrame.from_dict(data_json)\n",
        "\n",
        "#this flattens the features\n",
        "ds=json_normalize(data_json_df['fields'])\n",
        "\n",
        "ds['year']=ds['year'].astype(int)\n",
        "\n",
        "#limit to next 5 years\n",
        "fy = pd.to_numeric((this_year + 5))\n",
        "ds = ds.query(\"year <= @fy\")\n",
        "\n",
        "#Look at total value for city\n",
        "ds_smapop_tot = ds.query(\"age =='Total population' & geography=='City of Melbourne'\")\n",
        "ds_smapop_tot.drop(columns=['gender','age'], inplace=True)\n",
        "ds_pop = ds_smapop_tot.reset_index(drop=True).sort_values(by=['year'], ascending=True)\n",
        "ds.info()\n",
        "\n",
        "#geography\n",
        "ds_smapop_all = ds.query(\"age =='Total population' & geography!='City of Melbourne'\")\n",
        "ds_smapop_all.drop(columns=['gender','age'], inplace=True)\n",
        "ds_pop_all = ds_smapop_all.reset_index(drop=True).sort_values(by=['year'], ascending=True)\n",
        "\n"
      ]
    },
    {
      "cell_type": "code",
      "execution_count": 46,
      "id": "7ee2ae1c",
      "metadata": {
        "colab": {
          "base_uri": "https://localhost:8080/",
          "height": 542
        },
        "id": "7ee2ae1c",
        "outputId": "84ad619b-e79b-4d2f-dac3-574fbb79a8d5"
      },
      "outputs": [
        {
          "output_type": "display_data",
          "data": {
            "text/html": [
              "<html>\n",
              "<head><meta charset=\"utf-8\" /></head>\n",
              "<body>\n",
              "    <div>            <script src=\"https://cdnjs.cloudflare.com/ajax/libs/mathjax/2.7.5/MathJax.js?config=TeX-AMS-MML_SVG\"></script><script type=\"text/javascript\">if (window.MathJax && window.MathJax.Hub && window.MathJax.Hub.Config) {window.MathJax.Hub.Config({SVG: {font: \"STIX-Web\"}});}</script>                <script type=\"text/javascript\">window.PlotlyConfig = {MathJaxConfig: 'local'};</script>\n",
              "        <script charset=\"utf-8\" src=\"https://cdn.plot.ly/plotly-2.24.1.min.js\"></script>                <div id=\"8c2fabe1-04b7-4e9b-b632-e0ef16785e87\" class=\"plotly-graph-div\" style=\"height:525px; width:100%;\"></div>            <script type=\"text/javascript\">                                    window.PLOTLYENV=window.PLOTLYENV || {};                                    if (document.getElementById(\"8c2fabe1-04b7-4e9b-b632-e0ef16785e87\")) {                    Plotly.newPlot(                        \"8c2fabe1-04b7-4e9b-b632-e0ef16785e87\",                        [{\"hovertemplate\":\"geography=Carlton\\u003cbr\\u003eyear=%{x}\\u003cbr\\u003evalue=%{y}\\u003cextra\\u003e\\u003c\\u002fextra\\u003e\",\"legendgroup\":\"Carlton\",\"line\":{\"color\":\"#636efa\",\"dash\":\"solid\"},\"marker\":{\"symbol\":\"circle\"},\"mode\":\"lines\",\"name\":\"Carlton\",\"orientation\":\"v\",\"showlegend\":true,\"x\":[2021,2022,2023,2024,2025,2026,2027,2028],\"xaxis\":\"x\",\"y\":[17185.0,17629.0,17840.0,18729.0,20041.0,20743.0,21679.0,22836.0],\"yaxis\":\"y\",\"type\":\"scatter\"},{\"hovertemplate\":\"geography=Melbourne (CBD)\\u003cbr\\u003eyear=%{x}\\u003cbr\\u003evalue=%{y}\\u003cextra\\u003e\\u003c\\u002fextra\\u003e\",\"legendgroup\":\"Melbourne (CBD)\",\"line\":{\"color\":\"#EF553B\",\"dash\":\"solid\"},\"marker\":{\"symbol\":\"circle\"},\"mode\":\"lines\",\"name\":\"Melbourne (CBD)\",\"orientation\":\"v\",\"showlegend\":true,\"x\":[2021,2022,2023,2024,2025,2026,2027,2028],\"xaxis\":\"x\",\"y\":[43825.0,44607.0,45124.0,48030.0,51532.0,55423.0,59064.0,62256.0],\"yaxis\":\"y\",\"type\":\"scatter\"},{\"hovertemplate\":\"geography=Melbourne (Remainder)\\u003cbr\\u003eyear=%{x}\\u003cbr\\u003evalue=%{y}\\u003cextra\\u003e\\u003c\\u002fextra\\u003e\",\"legendgroup\":\"Melbourne (Remainder)\",\"line\":{\"color\":\"#00cc96\",\"dash\":\"solid\"},\"marker\":{\"symbol\":\"circle\"},\"mode\":\"lines\",\"name\":\"Melbourne (Remainder)\",\"orientation\":\"v\",\"showlegend\":true,\"x\":[2021,2022,2023,2024,2025,2026,2027,2028],\"xaxis\":\"x\",\"y\":[3121.0,3175.0,3201.0,3381.0,3628.0,3758.0,3887.0,4016.0],\"yaxis\":\"y\",\"type\":\"scatter\"},{\"hovertemplate\":\"geography=South Yarra\\u003cbr\\u003eyear=%{x}\\u003cbr\\u003evalue=%{y}\\u003cextra\\u003e\\u003c\\u002fextra\\u003e\",\"legendgroup\":\"South Yarra\",\"line\":{\"color\":\"#ab63fa\",\"dash\":\"solid\"},\"marker\":{\"symbol\":\"circle\"},\"mode\":\"lines\",\"name\":\"South Yarra\",\"orientation\":\"v\",\"showlegend\":true,\"x\":[2021,2022,2023,2024,2025,2026,2027,2028],\"xaxis\":\"x\",\"y\":[3716.0,3785.0,3832.0,4080.0,4374.0,4614.0,4846.0,4999.0],\"yaxis\":\"y\",\"type\":\"scatter\"},{\"hovertemplate\":\"geography=Southbank\\u003cbr\\u003eyear=%{x}\\u003cbr\\u003evalue=%{y}\\u003cextra\\u003e\\u003c\\u002fextra\\u003e\",\"legendgroup\":\"Southbank\",\"line\":{\"color\":\"#FFA15A\",\"dash\":\"solid\"},\"marker\":{\"symbol\":\"circle\"},\"mode\":\"lines\",\"name\":\"Southbank\",\"orientation\":\"v\",\"showlegend\":true,\"x\":[2021,2022,2023,2024,2025,2026,2027,2028],\"xaxis\":\"x\",\"y\":[22589.0,22999.0,23284.0,24846.0,26649.0,28428.0,30090.0,31602.0],\"yaxis\":\"y\",\"type\":\"scatter\"},{\"hovertemplate\":\"geography=West Melbourne (Residential)\\u003cbr\\u003eyear=%{x}\\u003cbr\\u003evalue=%{y}\\u003cextra\\u003e\\u003c\\u002fextra\\u003e\",\"legendgroup\":\"West Melbourne (Residential)\",\"line\":{\"color\":\"#19d3f3\",\"dash\":\"solid\"},\"marker\":{\"symbol\":\"circle\"},\"mode\":\"lines\",\"name\":\"West Melbourne (Residential)\",\"orientation\":\"v\",\"showlegend\":true,\"x\":[2021,2022,2023,2024,2025,2026,2027,2028],\"xaxis\":\"x\",\"y\":[7935.0,8076.0,8102.0,8345.0,8946.0,9745.0,10451.0,11099.0],\"yaxis\":\"y\",\"type\":\"scatter\"},{\"hovertemplate\":\"geography=North Melbourne\\u003cbr\\u003eyear=%{x}\\u003cbr\\u003evalue=%{y}\\u003cextra\\u003e\\u003c\\u002fextra\\u003e\",\"legendgroup\":\"North Melbourne\",\"line\":{\"color\":\"#FF6692\",\"dash\":\"solid\"},\"marker\":{\"symbol\":\"circle\"},\"mode\":\"lines\",\"name\":\"North Melbourne\",\"orientation\":\"v\",\"showlegend\":true,\"x\":[2021,2022,2023,2024,2025,2026,2027,2028],\"xaxis\":\"x\",\"y\":[15653.0,15938.0,16035.0,16550.0,17747.0,19379.0,20582.0,21851.0],\"yaxis\":\"y\",\"type\":\"scatter\"},{\"hovertemplate\":\"geography=Port Melbourne\\u003cbr\\u003eyear=%{x}\\u003cbr\\u003evalue=%{y}\\u003cextra\\u003e\\u003c\\u002fextra\\u003e\",\"legendgroup\":\"Port Melbourne\",\"line\":{\"color\":\"#B6E880\",\"dash\":\"solid\"},\"marker\":{\"symbol\":\"circle\"},\"mode\":\"lines\",\"name\":\"Port Melbourne\",\"orientation\":\"v\",\"showlegend\":true,\"x\":[2021,2022,2023,2024,2025,2026,2027,2028],\"xaxis\":\"x\",\"y\":[10.0,10.0,10.0,11.0,12.0,413.0,630.0,795.0],\"yaxis\":\"y\",\"type\":\"scatter\"},{\"hovertemplate\":\"geography=Kensington\\u003cbr\\u003eyear=%{x}\\u003cbr\\u003evalue=%{y}\\u003cextra\\u003e\\u003c\\u002fextra\\u003e\",\"legendgroup\":\"Kensington\",\"line\":{\"color\":\"#FF97FF\",\"dash\":\"solid\"},\"marker\":{\"symbol\":\"circle\"},\"mode\":\"lines\",\"name\":\"Kensington\",\"orientation\":\"v\",\"showlegend\":true,\"x\":[2021,2022,2023,2024,2025,2026,2027,2028],\"xaxis\":\"x\",\"y\":[10933.0,11117.0,11167.0,11509.0,12247.0,12939.0,13614.0,14292.0],\"yaxis\":\"y\",\"type\":\"scatter\"},{\"hovertemplate\":\"geography=Docklands\\u003cbr\\u003eyear=%{x}\\u003cbr\\u003evalue=%{y}\\u003cextra\\u003e\\u003c\\u002fextra\\u003e\",\"legendgroup\":\"Docklands\",\"line\":{\"color\":\"#FECB52\",\"dash\":\"solid\"},\"marker\":{\"symbol\":\"circle\"},\"mode\":\"lines\",\"name\":\"Docklands\",\"orientation\":\"v\",\"showlegend\":true,\"x\":[2021,2022,2023,2024,2025,2026,2027,2028],\"xaxis\":\"x\",\"y\":[15926.0,16222.0,16437.0,17581.0,18848.0,19996.0,21252.0,22390.0],\"yaxis\":\"y\",\"type\":\"scatter\"},{\"hovertemplate\":\"geography=Parkville\\u003cbr\\u003eyear=%{x}\\u003cbr\\u003evalue=%{y}\\u003cextra\\u003e\\u003c\\u002fextra\\u003e\",\"legendgroup\":\"Parkville\",\"line\":{\"color\":\"#636efa\",\"dash\":\"solid\"},\"marker\":{\"symbol\":\"circle\"},\"mode\":\"lines\",\"name\":\"Parkville\",\"orientation\":\"v\",\"showlegend\":true,\"x\":[2021,2022,2023,2024,2025,2026,2027,2028],\"xaxis\":\"x\",\"y\":[7813.0,7923.0,7948.0,8305.0,8932.0,9339.0,9743.0,10127.0],\"yaxis\":\"y\",\"type\":\"scatter\"},{\"hovertemplate\":\"geography=East Melbourne\\u003cbr\\u003eyear=%{x}\\u003cbr\\u003evalue=%{y}\\u003cextra\\u003e\\u003c\\u002fextra\\u003e\",\"legendgroup\":\"East Melbourne\",\"line\":{\"color\":\"#EF553B\",\"dash\":\"solid\"},\"marker\":{\"symbol\":\"circle\"},\"mode\":\"lines\",\"name\":\"East Melbourne\",\"orientation\":\"v\",\"showlegend\":true,\"x\":[2021,2022,2023,2024,2025,2026,2027,2028],\"xaxis\":\"x\",\"y\":[4968.0,5091.0,5145.0,5454.0,5832.0,6203.0,6527.0,6785.0],\"yaxis\":\"y\",\"type\":\"scatter\"},{\"hovertemplate\":\"geography=West Melbourne (Industrial)\\u003cbr\\u003eyear=%{x}\\u003cbr\\u003evalue=%{y}\\u003cextra\\u003e\\u003c\\u002fextra\\u003e\",\"legendgroup\":\"West Melbourne (Industrial)\",\"line\":{\"color\":\"#00cc96\",\"dash\":\"solid\"},\"marker\":{\"symbol\":\"circle\"},\"mode\":\"lines\",\"name\":\"West Melbourne (Industrial)\",\"orientation\":\"v\",\"showlegend\":true,\"x\":[2021,2022,2023,2024,2025,2026,2027,2028],\"xaxis\":\"x\",\"y\":[0.0,0.0,0.0,0.0,0.0,0.0,0.0,0.0],\"yaxis\":\"y\",\"type\":\"scatter\"}],                        {\"template\":{\"data\":{\"histogram2dcontour\":[{\"type\":\"histogram2dcontour\",\"colorbar\":{\"outlinewidth\":0,\"ticks\":\"\"},\"colorscale\":[[0.0,\"#0d0887\"],[0.1111111111111111,\"#46039f\"],[0.2222222222222222,\"#7201a8\"],[0.3333333333333333,\"#9c179e\"],[0.4444444444444444,\"#bd3786\"],[0.5555555555555556,\"#d8576b\"],[0.6666666666666666,\"#ed7953\"],[0.7777777777777778,\"#fb9f3a\"],[0.8888888888888888,\"#fdca26\"],[1.0,\"#f0f921\"]]}],\"choropleth\":[{\"type\":\"choropleth\",\"colorbar\":{\"outlinewidth\":0,\"ticks\":\"\"}}],\"histogram2d\":[{\"type\":\"histogram2d\",\"colorbar\":{\"outlinewidth\":0,\"ticks\":\"\"},\"colorscale\":[[0.0,\"#0d0887\"],[0.1111111111111111,\"#46039f\"],[0.2222222222222222,\"#7201a8\"],[0.3333333333333333,\"#9c179e\"],[0.4444444444444444,\"#bd3786\"],[0.5555555555555556,\"#d8576b\"],[0.6666666666666666,\"#ed7953\"],[0.7777777777777778,\"#fb9f3a\"],[0.8888888888888888,\"#fdca26\"],[1.0,\"#f0f921\"]]}],\"heatmap\":[{\"type\":\"heatmap\",\"colorbar\":{\"outlinewidth\":0,\"ticks\":\"\"},\"colorscale\":[[0.0,\"#0d0887\"],[0.1111111111111111,\"#46039f\"],[0.2222222222222222,\"#7201a8\"],[0.3333333333333333,\"#9c179e\"],[0.4444444444444444,\"#bd3786\"],[0.5555555555555556,\"#d8576b\"],[0.6666666666666666,\"#ed7953\"],[0.7777777777777778,\"#fb9f3a\"],[0.8888888888888888,\"#fdca26\"],[1.0,\"#f0f921\"]]}],\"heatmapgl\":[{\"type\":\"heatmapgl\",\"colorbar\":{\"outlinewidth\":0,\"ticks\":\"\"},\"colorscale\":[[0.0,\"#0d0887\"],[0.1111111111111111,\"#46039f\"],[0.2222222222222222,\"#7201a8\"],[0.3333333333333333,\"#9c179e\"],[0.4444444444444444,\"#bd3786\"],[0.5555555555555556,\"#d8576b\"],[0.6666666666666666,\"#ed7953\"],[0.7777777777777778,\"#fb9f3a\"],[0.8888888888888888,\"#fdca26\"],[1.0,\"#f0f921\"]]}],\"contourcarpet\":[{\"type\":\"contourcarpet\",\"colorbar\":{\"outlinewidth\":0,\"ticks\":\"\"}}],\"contour\":[{\"type\":\"contour\",\"colorbar\":{\"outlinewidth\":0,\"ticks\":\"\"},\"colorscale\":[[0.0,\"#0d0887\"],[0.1111111111111111,\"#46039f\"],[0.2222222222222222,\"#7201a8\"],[0.3333333333333333,\"#9c179e\"],[0.4444444444444444,\"#bd3786\"],[0.5555555555555556,\"#d8576b\"],[0.6666666666666666,\"#ed7953\"],[0.7777777777777778,\"#fb9f3a\"],[0.8888888888888888,\"#fdca26\"],[1.0,\"#f0f921\"]]}],\"surface\":[{\"type\":\"surface\",\"colorbar\":{\"outlinewidth\":0,\"ticks\":\"\"},\"colorscale\":[[0.0,\"#0d0887\"],[0.1111111111111111,\"#46039f\"],[0.2222222222222222,\"#7201a8\"],[0.3333333333333333,\"#9c179e\"],[0.4444444444444444,\"#bd3786\"],[0.5555555555555556,\"#d8576b\"],[0.6666666666666666,\"#ed7953\"],[0.7777777777777778,\"#fb9f3a\"],[0.8888888888888888,\"#fdca26\"],[1.0,\"#f0f921\"]]}],\"mesh3d\":[{\"type\":\"mesh3d\",\"colorbar\":{\"outlinewidth\":0,\"ticks\":\"\"}}],\"scatter\":[{\"fillpattern\":{\"fillmode\":\"overlay\",\"size\":10,\"solidity\":0.2},\"type\":\"scatter\"}],\"parcoords\":[{\"type\":\"parcoords\",\"line\":{\"colorbar\":{\"outlinewidth\":0,\"ticks\":\"\"}}}],\"scatterpolargl\":[{\"type\":\"scatterpolargl\",\"marker\":{\"colorbar\":{\"outlinewidth\":0,\"ticks\":\"\"}}}],\"bar\":[{\"error_x\":{\"color\":\"#2a3f5f\"},\"error_y\":{\"color\":\"#2a3f5f\"},\"marker\":{\"line\":{\"color\":\"#E5ECF6\",\"width\":0.5},\"pattern\":{\"fillmode\":\"overlay\",\"size\":10,\"solidity\":0.2}},\"type\":\"bar\"}],\"scattergeo\":[{\"type\":\"scattergeo\",\"marker\":{\"colorbar\":{\"outlinewidth\":0,\"ticks\":\"\"}}}],\"scatterpolar\":[{\"type\":\"scatterpolar\",\"marker\":{\"colorbar\":{\"outlinewidth\":0,\"ticks\":\"\"}}}],\"histogram\":[{\"marker\":{\"pattern\":{\"fillmode\":\"overlay\",\"size\":10,\"solidity\":0.2}},\"type\":\"histogram\"}],\"scattergl\":[{\"type\":\"scattergl\",\"marker\":{\"colorbar\":{\"outlinewidth\":0,\"ticks\":\"\"}}}],\"scatter3d\":[{\"type\":\"scatter3d\",\"line\":{\"colorbar\":{\"outlinewidth\":0,\"ticks\":\"\"}},\"marker\":{\"colorbar\":{\"outlinewidth\":0,\"ticks\":\"\"}}}],\"scattermapbox\":[{\"type\":\"scattermapbox\",\"marker\":{\"colorbar\":{\"outlinewidth\":0,\"ticks\":\"\"}}}],\"scatterternary\":[{\"type\":\"scatterternary\",\"marker\":{\"colorbar\":{\"outlinewidth\":0,\"ticks\":\"\"}}}],\"scattercarpet\":[{\"type\":\"scattercarpet\",\"marker\":{\"colorbar\":{\"outlinewidth\":0,\"ticks\":\"\"}}}],\"carpet\":[{\"aaxis\":{\"endlinecolor\":\"#2a3f5f\",\"gridcolor\":\"white\",\"linecolor\":\"white\",\"minorgridcolor\":\"white\",\"startlinecolor\":\"#2a3f5f\"},\"baxis\":{\"endlinecolor\":\"#2a3f5f\",\"gridcolor\":\"white\",\"linecolor\":\"white\",\"minorgridcolor\":\"white\",\"startlinecolor\":\"#2a3f5f\"},\"type\":\"carpet\"}],\"table\":[{\"cells\":{\"fill\":{\"color\":\"#EBF0F8\"},\"line\":{\"color\":\"white\"}},\"header\":{\"fill\":{\"color\":\"#C8D4E3\"},\"line\":{\"color\":\"white\"}},\"type\":\"table\"}],\"barpolar\":[{\"marker\":{\"line\":{\"color\":\"#E5ECF6\",\"width\":0.5},\"pattern\":{\"fillmode\":\"overlay\",\"size\":10,\"solidity\":0.2}},\"type\":\"barpolar\"}],\"pie\":[{\"automargin\":true,\"type\":\"pie\"}]},\"layout\":{\"autotypenumbers\":\"strict\",\"colorway\":[\"#636efa\",\"#EF553B\",\"#00cc96\",\"#ab63fa\",\"#FFA15A\",\"#19d3f3\",\"#FF6692\",\"#B6E880\",\"#FF97FF\",\"#FECB52\"],\"font\":{\"color\":\"#2a3f5f\"},\"hovermode\":\"closest\",\"hoverlabel\":{\"align\":\"left\"},\"paper_bgcolor\":\"white\",\"plot_bgcolor\":\"#E5ECF6\",\"polar\":{\"bgcolor\":\"#E5ECF6\",\"angularaxis\":{\"gridcolor\":\"white\",\"linecolor\":\"white\",\"ticks\":\"\"},\"radialaxis\":{\"gridcolor\":\"white\",\"linecolor\":\"white\",\"ticks\":\"\"}},\"ternary\":{\"bgcolor\":\"#E5ECF6\",\"aaxis\":{\"gridcolor\":\"white\",\"linecolor\":\"white\",\"ticks\":\"\"},\"baxis\":{\"gridcolor\":\"white\",\"linecolor\":\"white\",\"ticks\":\"\"},\"caxis\":{\"gridcolor\":\"white\",\"linecolor\":\"white\",\"ticks\":\"\"}},\"coloraxis\":{\"colorbar\":{\"outlinewidth\":0,\"ticks\":\"\"}},\"colorscale\":{\"sequential\":[[0.0,\"#0d0887\"],[0.1111111111111111,\"#46039f\"],[0.2222222222222222,\"#7201a8\"],[0.3333333333333333,\"#9c179e\"],[0.4444444444444444,\"#bd3786\"],[0.5555555555555556,\"#d8576b\"],[0.6666666666666666,\"#ed7953\"],[0.7777777777777778,\"#fb9f3a\"],[0.8888888888888888,\"#fdca26\"],[1.0,\"#f0f921\"]],\"sequentialminus\":[[0.0,\"#0d0887\"],[0.1111111111111111,\"#46039f\"],[0.2222222222222222,\"#7201a8\"],[0.3333333333333333,\"#9c179e\"],[0.4444444444444444,\"#bd3786\"],[0.5555555555555556,\"#d8576b\"],[0.6666666666666666,\"#ed7953\"],[0.7777777777777778,\"#fb9f3a\"],[0.8888888888888888,\"#fdca26\"],[1.0,\"#f0f921\"]],\"diverging\":[[0,\"#8e0152\"],[0.1,\"#c51b7d\"],[0.2,\"#de77ae\"],[0.3,\"#f1b6da\"],[0.4,\"#fde0ef\"],[0.5,\"#f7f7f7\"],[0.6,\"#e6f5d0\"],[0.7,\"#b8e186\"],[0.8,\"#7fbc41\"],[0.9,\"#4d9221\"],[1,\"#276419\"]]},\"xaxis\":{\"gridcolor\":\"white\",\"linecolor\":\"white\",\"ticks\":\"\",\"title\":{\"standoff\":15},\"zerolinecolor\":\"white\",\"automargin\":true,\"zerolinewidth\":2},\"yaxis\":{\"gridcolor\":\"white\",\"linecolor\":\"white\",\"ticks\":\"\",\"title\":{\"standoff\":15},\"zerolinecolor\":\"white\",\"automargin\":true,\"zerolinewidth\":2},\"scene\":{\"xaxis\":{\"backgroundcolor\":\"#E5ECF6\",\"gridcolor\":\"white\",\"linecolor\":\"white\",\"showbackground\":true,\"ticks\":\"\",\"zerolinecolor\":\"white\",\"gridwidth\":2},\"yaxis\":{\"backgroundcolor\":\"#E5ECF6\",\"gridcolor\":\"white\",\"linecolor\":\"white\",\"showbackground\":true,\"ticks\":\"\",\"zerolinecolor\":\"white\",\"gridwidth\":2},\"zaxis\":{\"backgroundcolor\":\"#E5ECF6\",\"gridcolor\":\"white\",\"linecolor\":\"white\",\"showbackground\":true,\"ticks\":\"\",\"zerolinecolor\":\"white\",\"gridwidth\":2}},\"shapedefaults\":{\"line\":{\"color\":\"#2a3f5f\"}},\"annotationdefaults\":{\"arrowcolor\":\"#2a3f5f\",\"arrowhead\":0,\"arrowwidth\":1},\"geo\":{\"bgcolor\":\"white\",\"landcolor\":\"#E5ECF6\",\"subunitcolor\":\"white\",\"showland\":true,\"showlakes\":true,\"lakecolor\":\"white\"},\"title\":{\"x\":0.05},\"mapbox\":{\"style\":\"light\"}}},\"xaxis\":{\"anchor\":\"y\",\"domain\":[0.0,1.0],\"title\":{\"text\":\"year\"}},\"yaxis\":{\"anchor\":\"x\",\"domain\":[0.0,1.0],\"title\":{\"text\":\"value\"}},\"legend\":{\"title\":{\"text\":\"geography\"},\"tracegroupgap\":0},\"title\":{\"text\":\"Population Forecast - City of Melbourne\"}},                        {\"responsive\": true}                    ).then(function(){\n",
              "                            \n",
              "var gd = document.getElementById('8c2fabe1-04b7-4e9b-b632-e0ef16785e87');\n",
              "var x = new MutationObserver(function (mutations, observer) {{\n",
              "        var display = window.getComputedStyle(gd).display;\n",
              "        if (!display || display === 'none') {{\n",
              "            console.log([gd, 'removed!']);\n",
              "            Plotly.purge(gd);\n",
              "            observer.disconnect();\n",
              "        }}\n",
              "}});\n",
              "\n",
              "// Listen for the removal of the full notebook cells\n",
              "var notebookContainer = gd.closest('#notebook-container');\n",
              "if (notebookContainer) {{\n",
              "    x.observe(notebookContainer, {childList: true});\n",
              "}}\n",
              "\n",
              "// Listen for the clearing of the current output cell\n",
              "var outputEl = gd.closest('.output');\n",
              "if (outputEl) {{\n",
              "    x.observe(outputEl, {childList: true});\n",
              "}}\n",
              "\n",
              "                        })                };                            </script>        </div>\n",
              "</body>\n",
              "</html>"
            ]
          },
          "metadata": {}
        }
      ],
      "source": [
        "#plot population forecast, next 5 years\n",
        "fig = px.line(ds_pop_all, x=\"year\", y=\"value\", title='Population Forecast - City of Melbourne', color='geography')\n",
        "fig.show()\n"
      ]
    },
    {
      "cell_type": "markdown",
      "id": "d6884008",
      "metadata": {
        "id": "d6884008"
      },
      "source": [
        "### Load pedestrian sensor locations"
      ]
    },
    {
      "cell_type": "code",
      "execution_count": 73,
      "id": "a573a088",
      "metadata": {
        "id": "a573a088"
      },
      "outputs": [],
      "source": [
        "# # Old Code as of 10/12/23\n",
        "# #Pedestrian sensor location data\n",
        "# dsurl = 'pedestrian-counting-system-sensor-locations'\n",
        "# url = domain + dsurl + baseurl\n",
        "# #print(url)\n",
        "\n",
        "# data_json = requests.get(url).json()\n",
        "# data_json_df = pd.DataFrame.from_dict(data_json)\n",
        "\n",
        "# #this flattens the features\n",
        "# sensor_data=json_normalize(data_json_df['fields'])"
      ]
    },
    {
      "cell_type": "code",
      "execution_count": 74,
      "id": "2e4f9d83",
      "metadata": {
        "colab": {
          "base_uri": "https://localhost:8080/"
        },
        "id": "2e4f9d83",
        "outputId": "eb9b024e-a5a9-44b7-cac4-632fb4baaaac"
      },
      "outputs": [
        {
          "output_type": "stream",
          "name": "stdout",
          "text": [
            "<class 'pandas.core.frame.DataFrame'>\n",
            "RangeIndex: 138 entries, 0 to 137\n",
            "Data columns (total 14 columns):\n",
            " #   Column              Non-Null Count  Dtype  \n",
            "---  ------              --------------  -----  \n",
            " 0   direction_2         96 non-null     object \n",
            " 1   installation_date   135 non-null    object \n",
            " 2   direction_1         96 non-null     object \n",
            " 3   location            138 non-null    object \n",
            " 4   location_id         138 non-null    int64  \n",
            " 5   sensor_name         138 non-null    object \n",
            " 6   longitude           138 non-null    float64\n",
            " 7   status              138 non-null    object \n",
            " 8   sensor_description  138 non-null    object \n",
            " 9   latitude            138 non-null    float64\n",
            " 10  location_type       138 non-null    object \n",
            " 11  note                31 non-null     object \n",
            " 12  lat                 138 non-null    float64\n",
            " 13  lon                 138 non-null    float64\n",
            "dtypes: float64(4), int64(1), object(9)\n",
            "memory usage: 15.2+ KB\n"
          ]
        }
      ],
      "source": [
        "sensor_data[['lat', 'lon']] = sensor_data[['latitude', 'longitude']].astype(float)\n",
        "#sensor_data.head(5).T\n",
        "sensor_data.info()"
      ]
    },
    {
      "cell_type": "markdown",
      "id": "06c06d6b",
      "metadata": {
        "id": "06c06d6b"
      },
      "source": [
        "### Load pedestrian traffic hourly counts data"
      ]
    },
    {
      "cell_type": "code",
      "execution_count": 51,
      "id": "f61d70e0",
      "metadata": {
        "id": "f61d70e0"
      },
      "outputs": [],
      "source": [
        "# # Old Code as of 10/12/23 - TeClaire\n",
        "# #URL / API method will need to be updated\n",
        "# #Pedestrian foot count data zip file\n",
        "# ds_url = \"https://data.melbourne.vic.gov.au/api/datasets/1.0/pedestrian-counting-system-monthly-counts-per-hour/attachments/pedestrian_counting_system_monthly_counts_per_hour_may_2009_to_14_dec_2022_csv_zip/\"\n",
        "# filename = 'pedestrian_counting_system_monthly_counts_per_hour_may_2009_to_14_dec_2022.csv'\n",
        "\n",
        "# r = requests.get(ds_url)\n",
        "# z = zipfile.ZipFile(io.BytesIO(r.content))\n",
        "# z.extractall()\n",
        "\n",
        "# sensor_traffic = pd.read_csv(filename, sep=',')"
      ]
    },
    {
      "cell_type": "code",
      "source": [
        "# Edited 10/12/23 - TeClaire\n",
        "BASE_URL = 'https://data.melbourne.vic.gov.au/api/explore/v2.1/catalog/datasets/'\n",
        "\n",
        "dsurl = 'pedestrian-counting-system-monthly-counts-per-hour'\n",
        "sensor_traffic = fetch_data(BASE_URL, dsurl, API_KEY)\n",
        "print('―' * 10)\n",
        "sensor_traffic.info()"
      ],
      "metadata": {
        "colab": {
          "base_uri": "https://localhost:8080/"
        },
        "id": "YFvrpUSN-dQM",
        "outputId": "917f1d2d-18a3-4a5c-b492-e9e316072de3"
      },
      "id": "YFvrpUSN-dQM",
      "execution_count": 84,
      "outputs": [
        {
          "output_type": "stream",
          "name": "stdout",
          "text": [
            "――――――――――\n",
            "<class 'pandas.core.frame.DataFrame'>\n",
            "RangeIndex: 9999 entries, 0 to 9998\n",
            "Data columns (total 7 columns):\n",
            " #   Column               Non-Null Count  Dtype \n",
            "---  ------               --------------  ----- \n",
            " 0   sensor_name          9999 non-null   object\n",
            " 1   timestamp            9999 non-null   object\n",
            " 2   locationid           9999 non-null   object\n",
            " 3   direction_1          9999 non-null   int64 \n",
            " 4   direction_2          9999 non-null   int64 \n",
            " 5   total_of_directions  9999 non-null   int64 \n",
            " 6   location             9999 non-null   object\n",
            "dtypes: int64(3), object(4)\n",
            "memory usage: 546.9+ KB\n"
          ]
        }
      ]
    },
    {
      "cell_type": "code",
      "execution_count": 85,
      "id": "562c868f",
      "metadata": {
        "id": "562c868f"
      },
      "outputs": [],
      "source": [
        "# # Old Code as of 10/12/23 - TeClaire\n",
        "# #sensor_traffic.info()\n",
        "\n",
        "# #rename columns\n",
        "# sensor_traffic.rename(columns={\"Date_Time\": \"date_time\",\"Year\":\"year\"\n",
        "#                         ,\"Month\":\"month\"\n",
        "#                         ,\"Mdate\":\"mdate\"\n",
        "#                         ,\"Day\":\"day\"\n",
        "#                         ,\"Time\": \"time\"\n",
        "#                         ,\"Sensor_ID\":\"sensor_id\"\n",
        "#                         ,\"Sensor_Name\":\"sensor_name\"\n",
        "#                         ,\"Hourly_Counts\":\"hourly_counts\"\n",
        "#                         }\n",
        "#                ,inplace = True)\n",
        "# #sensor_traffic.head(5).T"
      ]
    },
    {
      "cell_type": "markdown",
      "source": [
        "## Added datetime due to attribute error\n",
        "#### Reformated timestamp for old attributes\n",
        "#### sensor_id no longer exists in dataset and has been removed from code\n",
        "#####Edited 10/12/23 - TeClaire"
      ],
      "metadata": {
        "id": "l9myG4xK_2zq"
      },
      "id": "l9myG4xK_2zq"
    },
    {
      "cell_type": "code",
      "source": [
        "# Edited 10/12/23 - TeClaire\n",
        "# Add date column\n",
        "sensor_traffic['date'] = pd.to_datetime(sensor_traffic['timestamp']).dt.date\n",
        "sensor_traffic['month_num'] = pd.to_datetime(sensor_traffic['timestamp']).dt.month\n",
        "\n",
        "# Add day of week column\n",
        "# sensor_traffic['dow'] = pd.to_datetime(sensor_traffic['timestamp']).dt.day_of_week\n",
        "\n",
        "# Add date column\n",
        "sensor_traffic['date'] = pd.to_datetime(sensor_traffic['timestamp']).dt.date\n",
        "sensor_traffic['month_num'] = pd.to_datetime(sensor_traffic['timestamp']).dt.month\n",
        "\n",
        "# Add day of week column\n",
        "# sensor_traffic['dow'] = pd.to_datetime(sensor_traffic['timestamp']).dt.day_of_week"
      ],
      "metadata": {
        "id": "yrdQxmVZ_zwq"
      },
      "id": "yrdQxmVZ_zwq",
      "execution_count": 86,
      "outputs": []
    },
    {
      "cell_type": "code",
      "source": [
        "# Edited 10/12/23 - TeClaire\n",
        "# Column mdate not in dataset\n",
        "# Check DataFrame\n",
        "print(sensor_traffic.columns)"
      ],
      "metadata": {
        "colab": {
          "base_uri": "https://localhost:8080/"
        },
        "id": "PdfD8IGFAND_",
        "outputId": "78b5bec2-fc77-4ab9-b826-b450205f94ba"
      },
      "id": "PdfD8IGFAND_",
      "execution_count": 87,
      "outputs": [
        {
          "output_type": "stream",
          "name": "stdout",
          "text": [
            "Index(['sensor_name', 'timestamp', 'locationid', 'direction_1', 'direction_2',\n",
            "       'total_of_directions', 'location', 'date', 'month_num'],\n",
            "      dtype='object')\n"
          ]
        }
      ]
    },
    {
      "cell_type": "code",
      "source": [
        "# Edited 10/12/23 - TeClaire\n",
        "print(sensor_traffic.head())"
      ],
      "metadata": {
        "colab": {
          "base_uri": "https://localhost:8080/"
        },
        "id": "p-4vsH9hBLNL",
        "outputId": "df00a862-d47a-4ebb-8f05-134fa433e288"
      },
      "id": "p-4vsH9hBLNL",
      "execution_count": 88,
      "outputs": [
        {
          "output_type": "stream",
          "name": "stdout",
          "text": [
            "  sensor_name                  timestamp locationid  direction_1  direction_2  \\\n",
            "0     SwaCs_T  2023-03-31T08:00:00+00:00         65           20           22   \n",
            "1     SwaCs_T  2023-03-31T09:00:00+00:00         65           41           95   \n",
            "2     SwaCs_T  2023-03-31T10:00:00+00:00         65           78          197   \n",
            "3     SwaCs_T  2023-03-31T12:00:00+00:00         65          245          555   \n",
            "4     SwaCs_T  2023-03-31T13:00:00+00:00         65          367          590   \n",
            "\n",
            "   total_of_directions                                   location        date  \\\n",
            "0                   42  {'lon': 144.9668064, 'lat': -37.81569416}  2023-03-31   \n",
            "1                  136  {'lon': 144.9668064, 'lat': -37.81569416}  2023-03-31   \n",
            "2                  275  {'lon': 144.9668064, 'lat': -37.81569416}  2023-03-31   \n",
            "3                  800  {'lon': 144.9668064, 'lat': -37.81569416}  2023-03-31   \n",
            "4                  957  {'lon': 144.9668064, 'lat': -37.81569416}  2023-03-31   \n",
            "\n",
            "   month_num  \n",
            "0          3  \n",
            "1          3  \n",
            "2          3  \n",
            "3          3  \n",
            "4          3  \n"
          ]
        }
      ]
    },
    {
      "cell_type": "code",
      "source": [
        "# Edited 10/12/23 - TeClaire\n",
        "# Change timestamp for correct format\n",
        "# sensor_id no longer exists in dataset and has been removed from code\n",
        "\n",
        "# Extract date and time timestamp\n",
        "sensor_traffic['date'] = pd.to_datetime(sensor_traffic['timestamp']).dt.date\n",
        "sensor_traffic['month_num'] = pd.to_datetime(sensor_traffic['timestamp']).dt.month\n",
        "sensor_traffic['time'] = pd.to_datetime(sensor_traffic['timestamp']).dt.hour\n",
        "\n",
        "# Add day column\n",
        "sensor_traffic['dow'] = pd.to_datetime(sensor_traffic['timestamp']).dt.dayofweek\n",
        "\n",
        "# Convert integer\n",
        "sensor_traffic['mdate'] = pd.to_datetime(sensor_traffic['date']).dt.strftime('%Y%m%d').astype(int)\n",
        "sensor_traffic['year'] = pd.to_datetime(sensor_traffic['date']).dt.year\n",
        "sensor_traffic['hourly_counts'] = sensor_traffic['total_of_directions'].astype(int)  # Assuming 'total_of_directions' is the relevant column\n",
        "sensor_traffic['sensor_id'] = sensor_traffic['locationid'].astype(int)  # Assuming 'locationid' is the relevant column\n",
        "\n",
        "##################################################################################################\n",
        "'''\n",
        "# Editing 10/12/23 - Te' Claire\n",
        "To Continue editing:\n",
        "-sensor_id no longer exists in dataset and has been removed from code, however this is used as ‘common attribute’ for merging code for sensor_traffic and sensor_data.\n",
        "-more time is needed to consider datasets and how to merge correctly.\n",
        "'''\n",
        "##################################################################################################\n",
        "\n",
        "# # Combine pedestrian sensor location, foot traffic datasets\n",
        "# sensor_traffic = pd.merge(sensor_traffic, sensor_data, on='sensor_id', how='inner')\n",
        "\n",
        "##################################################################################################\n",
        "\n",
        "# Filter\n",
        "this_decade = 2023  # Replace with the desired decade\n",
        "sensor_traffic = sensor_traffic.query(\"year >= @this_decade\")\n",
        "\n",
        "# Add column for day (5 am to 5 pm) or night (6 pm to 4 am) traffic\n",
        "sensor_traffic['day_counts'] = np.where(((sensor_traffic['time'] > 4) & (sensor_traffic['time'] < 18)),\n",
        "                                       sensor_traffic['hourly_counts'], 0).astype(int)\n",
        "sensor_traffic['night_counts'] = np.where(sensor_traffic['day_counts'] == 0, sensor_traffic['hourly_counts'], 0).astype(int)\n",
        "sensor_traffic['when'] = np.where((sensor_traffic['day_counts'] > 0), 'day', 'night')\n",
        "\n",
        "# Drop columns\n",
        "sensor_traffic.drop(['timestamp', 'locationid', 'direction_1', 'direction_2', 'total_of_directions'], axis=1, inplace=True)\n"
      ],
      "metadata": {
        "id": "XKqQ1XIhAhgE"
      },
      "id": "XKqQ1XIhAhgE",
      "execution_count": 89,
      "outputs": []
    },
    {
      "cell_type": "code",
      "execution_count": 90,
      "id": "af427f12",
      "metadata": {
        "id": "af427f12"
      },
      "outputs": [],
      "source": [
        "# # Old Code as of 10/12/23 - TeClaire\n",
        "# #Add date column\n",
        "# sensor_traffic['date'] = pd.to_datetime(sensor_traffic.date_time).dt.date\n",
        "# sensor_traffic['month_num'] = pd.to_datetime(sensor_traffic.date_time).dt.month\n",
        "\n",
        "# #Add day of week column\n",
        "# sensor_traffic['dow'] = pd.to_datetime(sensor_traffic.date_time).dt.day_of_week\n",
        "\n",
        "# #convert fields to integer\n",
        "# sensor_traffic['mdate']=sensor_traffic['mdate'].astype(int)\n",
        "# sensor_traffic['time']=sensor_traffic['time'].astype(int)\n",
        "# sensor_traffic['year']=sensor_traffic['year'].astype(int)\n",
        "# sensor_traffic['hourly_counts']=sensor_traffic['hourly_counts'].astype(int)\n",
        "# sensor_traffic['sensor_id']=sensor_traffic['sensor_id'].astype(int)\n",
        "\n",
        "# # Mesh pedestrian sensor location and foot traffic datasets\n",
        "# sensor_traffic = pd.merge(sensor_traffic, sensor_data, on='sensor_id', how='inner')\n",
        "\n",
        "# #filter to this decade\n",
        "# sensor_traffic=sensor_traffic.query(\"year >= @this_decade\")\n",
        "\n",
        "# #Add column for day (5am to 5pm) or night (6pm to 4am) traffic\n",
        "# sensor_traffic['day_counts']   = np.where(((sensor_traffic['time']>4) & (sensor_traffic['time']<18)),\n",
        "#                                           sensor_traffic['hourly_counts'] , 0).astype(int)\n",
        "# sensor_traffic['night_counts'] = np.where(sensor_traffic['day_counts']==0,sensor_traffic['hourly_counts']\n",
        "#                                           , 0).astype(int)\n",
        "# sensor_traffic['when'] = np.where((sensor_traffic['day_counts']>0),'day', 'night')"
      ]
    },
    {
      "cell_type": "code",
      "execution_count": 91,
      "id": "21546550",
      "metadata": {
        "colab": {
          "base_uri": "https://localhost:8080/"
        },
        "id": "21546550",
        "outputId": "6b49c9b5-7159-4f35-8d91-8a1a66c1bc49"
      },
      "outputs": [
        {
          "output_type": "stream",
          "name": "stdout",
          "text": [
            "<class 'pandas.core.frame.DataFrame'>\n",
            "Int64Index: 9999 entries, 0 to 9998\n",
            "Data columns (total 13 columns):\n",
            " #   Column         Non-Null Count  Dtype \n",
            "---  ------         --------------  ----- \n",
            " 0   sensor_name    9999 non-null   object\n",
            " 1   location       9999 non-null   object\n",
            " 2   date           9999 non-null   object\n",
            " 3   month_num      9999 non-null   int64 \n",
            " 4   time           9999 non-null   int64 \n",
            " 5   dow            9999 non-null   int64 \n",
            " 6   mdate          9999 non-null   int64 \n",
            " 7   year           9999 non-null   int64 \n",
            " 8   hourly_counts  9999 non-null   int64 \n",
            " 9   sensor_id      9999 non-null   int64 \n",
            " 10  day_counts     9999 non-null   int64 \n",
            " 11  night_counts   9999 non-null   int64 \n",
            " 12  when           9999 non-null   object\n",
            "dtypes: int64(9), object(4)\n",
            "memory usage: 1.1+ MB\n"
          ]
        }
      ],
      "source": [
        "sensor_traffic.rename(columns={\"sensor_name_x\": \"sensor_name\"}\n",
        "               ,inplace = True)\n",
        "sensor_traffic.info()"
      ]
    },
    {
      "cell_type": "code",
      "execution_count": 92,
      "id": "3f4eb24b",
      "metadata": {
        "colab": {
          "base_uri": "https://localhost:8080/"
        },
        "id": "3f4eb24b",
        "outputId": "0841d486-8835-43d0-8ec8-ef037134aeba"
      },
      "outputs": [
        {
          "output_type": "execute_result",
          "data": {
            "text/plain": [
              "array([2023])"
            ]
          },
          "metadata": {},
          "execution_count": 92
        }
      ],
      "source": [
        "sensor_traffic.year.unique()"
      ]
    },
    {
      "cell_type": "code",
      "execution_count": 93,
      "id": "4906f0cf",
      "metadata": {
        "colab": {
          "base_uri": "https://localhost:8080/",
          "height": 652
        },
        "id": "4906f0cf",
        "outputId": "9e13d0d8-0ba8-40cc-a19e-d45ddd66a28c"
      },
      "outputs": [
        {
          "output_type": "error",
          "ename": "KeyError",
          "evalue": "ignored",
          "traceback": [
            "\u001b[0;31m---------------------------------------------------------------------------\u001b[0m",
            "\u001b[0;31mKeyError\u001b[0m                                  Traceback (most recent call last)",
            "\u001b[0;32m<ipython-input-93-5e84f3529c99>\u001b[0m in \u001b[0;36m<cell line: 8>\u001b[0;34m()\u001b[0m\n\u001b[1;32m      6\u001b[0m \u001b[0;34m\u001b[0m\u001b[0m\n\u001b[1;32m      7\u001b[0m \u001b[0;31m#will use this to show traffic in entertainment locations this year\u001b[0m\u001b[0;34m\u001b[0m\u001b[0;34m\u001b[0m\u001b[0m\n\u001b[0;32m----> 8\u001b[0;31m sensor_ds_yearll = sensor_traffic.groupby(['year','sensor_name','lat','lon','when'],as_index=False).agg(\n\u001b[0m\u001b[1;32m      9\u001b[0m     {'hourly_counts': 'mean','day_counts':'mean','night_counts':'mean'})\n\u001b[1;32m     10\u001b[0m \u001b[0;34m\u001b[0m\u001b[0m\n",
            "\u001b[0;32m/usr/local/lib/python3.10/dist-packages/pandas/core/frame.py\u001b[0m in \u001b[0;36mgroupby\u001b[0;34m(self, by, axis, level, as_index, sort, group_keys, squeeze, observed, dropna)\u001b[0m\n\u001b[1;32m   8400\u001b[0m         \u001b[0maxis\u001b[0m \u001b[0;34m=\u001b[0m \u001b[0mself\u001b[0m\u001b[0;34m.\u001b[0m\u001b[0m_get_axis_number\u001b[0m\u001b[0;34m(\u001b[0m\u001b[0maxis\u001b[0m\u001b[0;34m)\u001b[0m\u001b[0;34m\u001b[0m\u001b[0;34m\u001b[0m\u001b[0m\n\u001b[1;32m   8401\u001b[0m \u001b[0;34m\u001b[0m\u001b[0m\n\u001b[0;32m-> 8402\u001b[0;31m         return DataFrameGroupBy(\n\u001b[0m\u001b[1;32m   8403\u001b[0m             \u001b[0mobj\u001b[0m\u001b[0;34m=\u001b[0m\u001b[0mself\u001b[0m\u001b[0;34m,\u001b[0m\u001b[0;34m\u001b[0m\u001b[0;34m\u001b[0m\u001b[0m\n\u001b[1;32m   8404\u001b[0m             \u001b[0mkeys\u001b[0m\u001b[0;34m=\u001b[0m\u001b[0mby\u001b[0m\u001b[0;34m,\u001b[0m\u001b[0;34m\u001b[0m\u001b[0;34m\u001b[0m\u001b[0m\n",
            "\u001b[0;32m/usr/local/lib/python3.10/dist-packages/pandas/core/groupby/groupby.py\u001b[0m in \u001b[0;36m__init__\u001b[0;34m(self, obj, keys, axis, level, grouper, exclusions, selection, as_index, sort, group_keys, squeeze, observed, mutated, dropna)\u001b[0m\n\u001b[1;32m    963\u001b[0m             \u001b[0;32mfrom\u001b[0m \u001b[0mpandas\u001b[0m\u001b[0;34m.\u001b[0m\u001b[0mcore\u001b[0m\u001b[0;34m.\u001b[0m\u001b[0mgroupby\u001b[0m\u001b[0;34m.\u001b[0m\u001b[0mgrouper\u001b[0m \u001b[0;32mimport\u001b[0m \u001b[0mget_grouper\u001b[0m\u001b[0;34m\u001b[0m\u001b[0;34m\u001b[0m\u001b[0m\n\u001b[1;32m    964\u001b[0m \u001b[0;34m\u001b[0m\u001b[0m\n\u001b[0;32m--> 965\u001b[0;31m             grouper, exclusions, obj = get_grouper(\n\u001b[0m\u001b[1;32m    966\u001b[0m                 \u001b[0mobj\u001b[0m\u001b[0;34m,\u001b[0m\u001b[0;34m\u001b[0m\u001b[0;34m\u001b[0m\u001b[0m\n\u001b[1;32m    967\u001b[0m                 \u001b[0mkeys\u001b[0m\u001b[0;34m,\u001b[0m\u001b[0;34m\u001b[0m\u001b[0;34m\u001b[0m\u001b[0m\n",
            "\u001b[0;32m/usr/local/lib/python3.10/dist-packages/pandas/core/groupby/grouper.py\u001b[0m in \u001b[0;36mget_grouper\u001b[0;34m(obj, key, axis, level, sort, observed, mutated, validate, dropna)\u001b[0m\n\u001b[1;32m    886\u001b[0m                 \u001b[0min_axis\u001b[0m\u001b[0;34m,\u001b[0m \u001b[0mlevel\u001b[0m\u001b[0;34m,\u001b[0m \u001b[0mgpr\u001b[0m \u001b[0;34m=\u001b[0m \u001b[0;32mFalse\u001b[0m\u001b[0;34m,\u001b[0m \u001b[0mgpr\u001b[0m\u001b[0;34m,\u001b[0m \u001b[0;32mNone\u001b[0m\u001b[0;34m\u001b[0m\u001b[0;34m\u001b[0m\u001b[0m\n\u001b[1;32m    887\u001b[0m             \u001b[0;32melse\u001b[0m\u001b[0;34m:\u001b[0m\u001b[0;34m\u001b[0m\u001b[0;34m\u001b[0m\u001b[0m\n\u001b[0;32m--> 888\u001b[0;31m                 \u001b[0;32mraise\u001b[0m \u001b[0mKeyError\u001b[0m\u001b[0;34m(\u001b[0m\u001b[0mgpr\u001b[0m\u001b[0;34m)\u001b[0m\u001b[0;34m\u001b[0m\u001b[0;34m\u001b[0m\u001b[0m\n\u001b[0m\u001b[1;32m    889\u001b[0m         \u001b[0;32melif\u001b[0m \u001b[0misinstance\u001b[0m\u001b[0;34m(\u001b[0m\u001b[0mgpr\u001b[0m\u001b[0;34m,\u001b[0m \u001b[0mGrouper\u001b[0m\u001b[0;34m)\u001b[0m \u001b[0;32mand\u001b[0m \u001b[0mgpr\u001b[0m\u001b[0;34m.\u001b[0m\u001b[0mkey\u001b[0m \u001b[0;32mis\u001b[0m \u001b[0;32mnot\u001b[0m \u001b[0;32mNone\u001b[0m\u001b[0;34m:\u001b[0m\u001b[0;34m\u001b[0m\u001b[0;34m\u001b[0m\u001b[0m\n\u001b[1;32m    890\u001b[0m             \u001b[0;31m# Add key to exclusions\u001b[0m\u001b[0;34m\u001b[0m\u001b[0;34m\u001b[0m\u001b[0m\n",
            "\u001b[0;31mKeyError\u001b[0m: 'lat'"
          ]
        }
      ],
      "source": [
        "#group by traffic for past decade 2012 to 2022\n",
        "#average day_counts, night_counts, hourly counts per month, year,all areas\n",
        "\n",
        "this_year = (pd.Timestamp.today().year)\n",
        "sensor_ds=sensor_traffic.query(\"year >= @this_year\")\n",
        "\n",
        "#will use this to show traffic in entertainment locations this year\n",
        "sensor_ds_yearll = sensor_traffic.groupby(['year','sensor_name','lat','lon','when'],as_index=False).agg(\n",
        "    {'hourly_counts': 'mean','day_counts':'mean','night_counts':'mean'})\n",
        "\n",
        "sensor_ds_year = sensor_traffic.groupby(['year','when'],as_index=False).agg(\n",
        "    {'hourly_counts': 'mean','day_counts':'mean','night_counts':'mean'})\n",
        "\n",
        "sensor_ds_ym = sensor_ds.groupby(['year','month_num','when'],as_index=False).agg(\n",
        "    {'hourly_counts': 'mean','day_counts':'mean','night_counts':'mean'})\n",
        "\n",
        "sensor_ds_ymd = sensor_ds.groupby(['year','month_num', 'dow','when'],as_index=False).agg(\n",
        "    {'hourly_counts': 'mean','day_counts':'mean','night_counts':'mean'})\n",
        "\n",
        "sensor_ds_hod = sensor_traffic.groupby(['time','when'],as_index=False).agg(\n",
        "    {'hourly_counts': 'mean','day_counts':'mean','night_counts':'mean'})\n"
      ]
    },
    {
      "cell_type": "code",
      "execution_count": null,
      "id": "ef40197d",
      "metadata": {
        "id": "ef40197d"
      },
      "outputs": [],
      "source": [
        "#Covid years by date\n",
        "sensor_ds_cy = sensor_traffic.query(\"year >= 2020\")\n",
        "sensor_ds_dt = sensor_ds_cy.groupby(['date'],as_index=False).agg(\n",
        "    {'hourly_counts': 'mean','day_counts':'mean','night_counts':'mean'})\n"
      ]
    },
    {
      "cell_type": "code",
      "execution_count": null,
      "id": "92b26a88",
      "metadata": {
        "id": "92b26a88"
      },
      "outputs": [],
      "source": [
        "#Traffic by date for past six months\n",
        "sensor_ds_cy['date'] = pd.to_datetime(sensor_ds_cy['date'], format='%Y-%m-%d')\n",
        "\n",
        "sensor_ds_cy = sensor_ds_cy.query(\"date >= '2022-06-01'\")\n",
        "sensor_ds_cy['year_month'] = pd.to_datetime(sensor_ds_cy['date']).dt.to_period('M')\n",
        "sensor_ds_cy.head(5)"
      ]
    },
    {
      "cell_type": "code",
      "execution_count": null,
      "id": "a4e3d5e4",
      "metadata": {
        "id": "a4e3d5e4"
      },
      "outputs": [],
      "source": [
        "sensor_ds_dt_now = sensor_ds_cy.groupby(['date'],as_index=False).agg(\n",
        "    {'hourly_counts': 'mean','day_counts':'mean','night_counts':'mean'})\n",
        "\n",
        "sensor_ds_dt_month = sensor_ds_cy.query(\"date >= '2022-06-01'\")\n",
        "sensor_ds_dt_month.info()"
      ]
    },
    {
      "cell_type": "markdown",
      "id": "f260aa40",
      "metadata": {
        "id": "f260aa40"
      },
      "source": [
        "### Combine population, capacity, planned events"
      ]
    },
    {
      "cell_type": "code",
      "execution_count": null,
      "id": "a8d2256a",
      "metadata": {
        "id": "a8d2256a"
      },
      "outputs": [],
      "source": [
        "#Need population total for City of Melbourne, without the decription\n",
        "ds_pop = ds_pop.drop(['geography'], axis=1)"
      ]
    },
    {
      "cell_type": "code",
      "execution_count": null,
      "id": "9c51c1b2",
      "metadata": {
        "id": "9c51c1b2"
      },
      "outputs": [],
      "source": [
        "#Clue venues and events\n",
        "ds_cve = clue_venues_capw.groupby(['year'],as_index=False).agg({'capacity': 'sum'})\n",
        "\n",
        "#keep dataset with covid years for use\n",
        "ds_cve_wc = ds_cve.copy()\n",
        "\n",
        "print(ds_cve.info())\n",
        "ds_cve.tail(10).T"
      ]
    },
    {
      "cell_type": "code",
      "execution_count": null,
      "id": "bd56cfbf",
      "metadata": {
        "id": "bd56cfbf"
      },
      "outputs": [],
      "source": [
        "ds_pop.rename(columns={\"value\": \"population\"}\n",
        "               ,inplace = True)\n",
        "print(ds_pop.year.unique())\n",
        "ds_cve_pop = pd.merge(ds_pop, ds_cve,  on=['year'], how='outer').sort_values(by='year')\n",
        "\n",
        "print(ds_cve_pop.tail(10).T)"
      ]
    },
    {
      "cell_type": "code",
      "execution_count": null,
      "id": "fdfd7900",
      "metadata": {
        "id": "fdfd7900"
      },
      "outputs": [],
      "source": [
        "ds_pt = sensor_traffic.groupby(['year'],as_index=False).agg(\n",
        "    {'hourly_counts': 'mean','day_counts':'mean','night_counts':'mean'})\n",
        "\n",
        "#keep dataset with covid years for use\n",
        "ds_pt_wc = ds_pt.copy()\n",
        "\n",
        "#merge datasets\n",
        "ds_cve_pop_pt = pd.merge(ds_cve_pop, ds_pt, on=['year'], how='outer')\n",
        "\n",
        "#reset 2020-2022 values for capacity and traffic\n",
        "ds_cve_pop_pt.at[8,'capacity']=np.NaN\n",
        "ds_cve_pop_pt.at[8,'hourly_counts']=np.NaN\n",
        "ds_cve_pop_pt.at[8,'day_counts']=np.NaN\n",
        "ds_cve_pop_pt.at[8,'night_counts']=np.NaN\n",
        "\n",
        "ds_cve_pop_pt.at[9,'capacity']=np.NaN\n",
        "ds_cve_pop_pt.at[9,'hourly_counts']=np.NaN\n",
        "ds_cve_pop_pt.at[9,'day_counts']=np.NaN\n",
        "ds_cve_pop_pt.at[9,'night_counts']=np.NaN\n",
        "\n",
        "ds_cve_pop_pt.at[10,'capacity']=np.NaN\n",
        "ds_cve_pop_pt.at[10,'hourly_counts']=np.NaN\n",
        "ds_cve_pop_pt.at[10,'day_counts']=np.NaN\n",
        "ds_cve_pop_pt.at[10,'night_counts']=np.NaN\n",
        "ds_cve_pop_pt.at[11,'capacity']=np.NaN\n",
        "\n",
        "#Sort data for use in projections, missing values will be imputed later\n",
        "rs_cve_pop_pt  = ds_cve_pop_pt.sort_values(by=['year'], ascending=True)\n",
        "\n",
        "#The combined dataset will be used for projections\n",
        "print(ds_cve_pop_pt.head(20))\n"
      ]
    },
    {
      "cell_type": "code",
      "execution_count": null,
      "id": "3183626b",
      "metadata": {
        "id": "3183626b"
      },
      "outputs": [],
      "source": [
        "#keep copy with Covid years\n",
        "rs_cve_pop_pt_wc = rs_cve_pop_pt.copy()\n",
        "\n",
        "rs_wc = rs_cve_pop_pt_wc.query('year>=2020 and year<=2022')"
      ]
    },
    {
      "cell_type": "markdown",
      "id": "0b54565c",
      "metadata": {
        "id": "0b54565c"
      },
      "source": [
        "<div class=\"usecase-section-header\">Analysis and Statistics</div>"
      ]
    },
    {
      "cell_type": "markdown",
      "id": "ab725a5f",
      "metadata": {
        "id": "ab725a5f"
      },
      "source": [
        "## Entertainment location venue seating and patron capacity\n",
        "\n",
        "Map the number of seats or number of patrons from the CLUE survey responses from venues including bars, pubs and taverns and cafes, bistros and restaurants. The capacity measure is a total of the types of venues."
      ]
    },
    {
      "cell_type": "code",
      "execution_count": null,
      "id": "ae2a2c06",
      "metadata": {
        "id": "ae2a2c06"
      },
      "outputs": [],
      "source": [
        "#group data for latest survey response\n",
        "clue_venues_ds = clue_venues_y1.groupby(['census_year', 'clue_small_area','block_id'\n",
        "                                         ,'lon','lat','category_tag','description_tag'],as_index=False).agg(\n",
        "    {'number_of_patrons': 'sum','number_of_seats':'sum','capacity':'sum'})\n",
        "\n",
        "clue_venues_ds = clue_venues_ds.sort_values(by=['capacity'], ascending=False)\n",
        "clue_venues_ds.head(5).T"
      ]
    },
    {
      "cell_type": "code",
      "execution_count": null,
      "id": "24c65be4",
      "metadata": {
        "id": "24c65be4"
      },
      "outputs": [],
      "source": [
        "# Display the choropleth map\n",
        "fig = px.choropleth_mapbox(\n",
        "\n",
        "    clue_venues_ds, #dataset\n",
        "    geojson=clueblocks, #CLUE Block spatial data\n",
        "\n",
        "    locations='block_id',\n",
        "    color='capacity',\n",
        "    color_continuous_scale='sunset', #colour scale ylgn / sunset / geyser\n",
        "    range_color=(0, df_btp_capacity['number_of_patrons'].max()), #range for the colour scale\n",
        "\n",
        "    featureidkey=\"properties.block_id\",\n",
        "    mapbox_style=\"carto-positron\", #map style\n",
        "    zoom=11.75, #zoom level\n",
        "\n",
        "    center = {\"lat\": -37.81216592937499, \"lon\": 144.961812290625}, # set the map centre coordinates on Melbourne\n",
        "    opacity=0.7,\n",
        "\n",
        "    hover_name='clue_small_area', #title of the pop up box\n",
        "    hover_data={'census_year':True, 'block_id':True, 'number_of_patrons':True,\n",
        "                'number_of_seats':True, 'capacity':True, 'description_tag': True,\n",
        "                'lon':False, 'lat':False, 'category_tag':True\n",
        "               }, #values to display in the popup box\n",
        "    labels={'number_of_patrons':'Number of Patrons','block_id':'Block Id',\n",
        "            'number_of_seats':'Number of Seats',\n",
        "            'capacity':'Capacity','census_year':'Census Year',\n",
        "            'category_tag':'Category','description_tag':'Description'\n",
        "           },\n",
        "    title='Venue Capacity and Planned Activity and Works', #Title for plot\n",
        "    width=950, height=800 #dimensions of plot in pixels\n",
        "\n",
        " )\n",
        "\n",
        "#show year 3\n",
        "fig3 = px.scatter_mapbox(\n",
        "\n",
        "    clue_venues_y3, lat=\"lat\", lon=\"lon\",\n",
        "    opacity=0.8,\n",
        "    hover_name='clue_small_area', # the title of the hover pop up box\n",
        "    hover_data={'census_year':True,'block_id':True,'number_of_patrons':True,\n",
        "                'number_of_seats':True, 'capacity' : True, 'description_tag': True,\n",
        "                'lat':False,'lon':False}, #values to display in the popup box\n",
        "    color_discrete_sequence=['blue'],\n",
        "    labels={'capacity':'Capacity','block_id':'Block Id','description_tag':'Description',\n",
        "            'census_year':'Census Year', 'number_of_patrons': 'Number of Patrons',\n",
        "            'number_of_seats':'Number of Seats'\n",
        "           }, #labels\n",
        "\n",
        ")\n",
        "\n",
        "#show year 2\n",
        "fig2 = px.scatter_mapbox(\n",
        "\n",
        "    clue_venues_y2, lat=\"lat\", lon=\"lon\",\n",
        "    opacity=0.7,\n",
        "    hover_name='clue_small_area', # the title of the hover pop up box\n",
        "    hover_data={'census_year':True,'block_id':True,'number_of_patrons':True,\n",
        "                'number_of_seats':True, 'capacity' : True, 'description_tag': True,\n",
        "                'lat':False,'lon':False}, #values to display in the popup box\n",
        "    color_discrete_sequence=['cyan'],\n",
        "    labels={'capacity':'Capacity','block_id':'Block Id','description_tag':'Description',\n",
        "            'census_year':'Census Year', 'number_of_patrons': 'Number of Patrons',\n",
        "            'number_of_seats':'Number of Seats'\n",
        "           }, #labels\n",
        "\n",
        ")\n",
        "\n",
        "#show year 1\n",
        "fig1 = px.scatter_mapbox(\n",
        "\n",
        "    clue_venues_y1, lat=\"lat\", lon=\"lon\",\n",
        "    opacity=0.75,\n",
        "    hover_name='clue_small_area', #title of the pop up box\n",
        "    hover_data={'census_year':True,'block_id':True,'number_of_patrons':True,\n",
        "                'number_of_seats':True, 'capacity' : True, 'description_tag': True,\n",
        "                'lat':False,'lon':False}, #values to display in the popup box\n",
        "    color_discrete_sequence=['purple'],\n",
        "    size_max=20, zoom=10,\n",
        "    labels={'capacity':'Capacity','block_id':'Block Id','description_tag':'Description',\n",
        "            'census_year':'Census Year', 'number_of_patrons': 'Number of Patrons',\n",
        "            'number_of_seats':'Number of Seats'\n",
        "           }, #labels\n",
        "\n",
        ")\n",
        "\n",
        "#capw\n",
        "fig4 = px.choropleth_mapbox(\n",
        "\n",
        "    clue_venues_capw, #dataset\n",
        "    geojson=capw,\n",
        "\n",
        "    locations='activity_id',\n",
        "\n",
        "    featureidkey=\"properties.activity_id\", #polygon identifier from the GeoJSON data\n",
        "\n",
        "    hover_name='small_area', # the title of the hover pop up box\n",
        "    hover_data={'activity_id':False, 'classification':True,\n",
        "                'start_year':True,'end_year':True, 'source_id': True}, #values to display in the popup box\n",
        "\n",
        "    #defines labels\n",
        "    labels={'source_id':'Source_Id', 'classification':'Classification',\n",
        "            'start_year':'Start Year',\n",
        "            'end_year':'End Year'}\n",
        "\n",
        " )\n",
        "\n",
        "\n",
        "\n",
        "#differentiate recent years for interest\n",
        "fig.add_trace(fig3.data[0])\n",
        "fig.add_trace(fig2.data[0])\n",
        "fig.add_trace(fig1.data[0])\n",
        "fig.add_trace(fig4.data[0])\n",
        "fig.update_geos(fitbounds=\"locations\", visible=True)\n",
        "\n",
        "fig.show()\n"
      ]
    },
    {
      "cell_type": "markdown",
      "id": "f475a347",
      "metadata": {
        "id": "f475a347"
      },
      "source": [
        "### What areas have the maximum number of capacity?\n",
        "\n",
        "Assess venue capacity to accommodate both number of seats and number of patrons, based on CLUE survey responses for 2021.\n",
        "\n",
        "From the map above and the chart below, we can see the entertainment venues with maximum capacity are in Melbourne (Remainder), Kensington, East Melbourne, Southbank, Docklands, and Melbourne (CBD). This is venues that can hold large number of people.\n",
        "\n",
        "The largest venues classified as pub, tavern or bar, are in Docklands."
      ]
    },
    {
      "cell_type": "code",
      "execution_count": null,
      "id": "493e5b7f",
      "metadata": {
        "id": "493e5b7f"
      },
      "outputs": [],
      "source": [
        "#group\n",
        "df = clue_venues_y1.groupby(['small_area_tag','category_tag'],as_index=False).agg(\n",
        "    {'capacity':'max'})\n",
        "\n",
        "#filter values\n",
        "df = df.query(\"capacity > 0\")\n",
        "\n",
        "#sort\n",
        "df= df.sort_values(by=['capacity'], ascending=True)\n",
        "\n",
        "#plot\n",
        "fig = px.bar(df, y='small_area_tag', x='capacity', orientation='h',\n",
        "             color='category_tag', title=\"Capacity - Large Venue by area\")\n",
        "fig.show()"
      ]
    },
    {
      "cell_type": "markdown",
      "id": "86fef866",
      "metadata": {
        "id": "86fef866"
      },
      "source": [
        "### What areas have the highest total number of seats or patrons?\n",
        "\n",
        "From the chart below, we can see the entertainment venues with highest total capacity are in Melbourne (CBD), Southbank, Docklands, and Carlton. This is total capacity across all venues per area. Please note, that the cafe restaurants and bistro datasets contain supermarkets, florists and variety sub-types of venues."
      ]
    },
    {
      "cell_type": "code",
      "execution_count": null,
      "id": "e5eda92f",
      "metadata": {
        "id": "e5eda92f"
      },
      "outputs": [],
      "source": [
        "#group\n",
        "df = clue_venues_y1.groupby(['small_area_tag','category_tag'],as_index=False).agg(\n",
        "    {'capacity':'sum', 'trading_name':'count'})\n",
        "\n",
        "#filter values\n",
        "df = df.query(\"capacity > 0\")\n",
        "\n",
        "#sort\n",
        "df= df.sort_values(by=['capacity','trading_name'], ascending=True)\n",
        "\n",
        "#plot\n",
        "fig = px.bar(df, y='small_area_tag', x='capacity',\n",
        "             color='category_tag', title=\"Total Capacity - Across Venues per Area\")\n",
        "fig.show()"
      ]
    },
    {
      "cell_type": "markdown",
      "id": "ea483e6f",
      "metadata": {
        "id": "ea483e6f"
      },
      "source": [
        "### What types of seating do these venues have?\n",
        "\n",
        "The most number of total Indoor and Outdoor seats are in Melbourne (CBD), folowed by Docklands and Southbank."
      ]
    },
    {
      "cell_type": "code",
      "execution_count": null,
      "id": "a2966f37",
      "metadata": {
        "id": "a2966f37"
      },
      "outputs": [],
      "source": [
        "#group\n",
        "df = clue_venues_y1.groupby(['small_area_tag','seating_type','category_tag'],as_index=False).agg(\n",
        "    {'capacity':'sum','trading_name':'count'})\n",
        "\n",
        "#filter values\n",
        "df = df.query(\"capacity > 0\")\n",
        "\n",
        "#sort\n",
        "df= df.sort_values(by=['capacity'], ascending=True)\n",
        "\n",
        "#plot\n",
        "fig = px.bar(df, y='small_area_tag', x='capacity',\n",
        "             color='seating_type', title=\"Total Capacity by Seating Type - Across Venues per Area\")\n",
        "fig.show()"
      ]
    },
    {
      "cell_type": "markdown",
      "id": "45599380",
      "metadata": {
        "id": "45599380"
      },
      "source": [
        "### What type of Events are planned?\n",
        "\n",
        "Many planned events were provided for 2022, this will continue in 2023. The most events are for Melbourne (CBD) and Carlton."
      ]
    },
    {
      "cell_type": "code",
      "execution_count": null,
      "id": "fce34dce",
      "metadata": {
        "id": "fce34dce"
      },
      "outputs": [],
      "source": [
        "#group\n",
        "df = df_capw.groupby(['start_year','end_year','small_area','classification','status'],as_index=False).agg(\n",
        "    {'source_id': 'count'})\n",
        "\n",
        "df.rename(columns={\"source_id\":\"num_events\"},inplace = True)\n",
        "df\n",
        "\n",
        "#sort\n",
        "df= df.sort_values(by=['end_year'], ascending=True)\n",
        "\n",
        "#plot\n",
        "fig = px.bar(df, x=['small_area','classification'], y='num_events',\n",
        "             color='end_year', title=\"Planned Activity - End Year per Area\")\n",
        "fig.show()"
      ]
    },
    {
      "cell_type": "markdown",
      "id": "546c239f",
      "metadata": {
        "id": "546c239f"
      },
      "source": [
        "#### The charts below shows for each district, how seats and patrons are related to planned activity and works areas"
      ]
    },
    {
      "cell_type": "code",
      "execution_count": null,
      "id": "8a322ca4",
      "metadata": {
        "id": "8a322ca4"
      },
      "outputs": [],
      "source": [
        "def summarize_within(input_gdf, input_summary_gdf, in_fields, out_fields = None, aggfunc='mean'):\n",
        "    '''\n",
        "    Overlays a polygon layer with another layer to calculate attribute field statistics about those features (input_summary_gdf) within the polygons (input_gdf).\n",
        "\n",
        "    Parameters:\n",
        "        input_gdf: Geodataframe of the polygons in which features will be summarized by.\n",
        "        input_summary_gdf: Geodataframe of features that will be summarized\n",
        "        in_fields: name of the fields (in input_summary_gdf) that will be summarized\n",
        "        out_fields: name that the fields will have after they're summarized\n",
        "        aggfunc: function that will be used to summarize\n",
        "\n",
        "    Returns:\n",
        "        A geodataframe with 'input_gdf' polygons and the attributes of 'input_summary_gdf' summarized by each polygon.\n",
        "\n",
        "    '''\n",
        "    input_gdf = input_gdf.copy()\n",
        "    input_summary_gdf = input_summary_gdf.copy()\n",
        "    print(input_summary_gdf.columns)\n",
        "    if out_fields == None:\n",
        "        out_fields = in_fields\n",
        "    #Merges the dwelling points with the input_polygons. A new column \"index right\" is created. It indicates in what cell the property is within.\n",
        "    merged = gpd.sjoin(input_summary_gdf, input_gdf, how='left')\n",
        "    #Now lets count how many properties are within each cell\n",
        "    dissolve = merged.dissolve(by=\"index_right\", aggfunc=aggfunc) #Dissolve (looks like groupby) by the cell index\n",
        "    for in_field, out_field in zip(in_fields, out_fields):\n",
        "        input_gdf.loc[dissolve.index, out_field] = dissolve[in_field].values #Putting number of properties in input_polygons gdf\n",
        "\n",
        "    return input_gdf.round(2)\n"
      ]
    },
    {
      "cell_type": "code",
      "execution_count": null,
      "id": "3561da01",
      "metadata": {
        "id": "3561da01"
      },
      "outputs": [],
      "source": [
        "gdf_capw = gpd.GeoDataFrame(df_capw_all, geometry = df_capw_all['geometry'].apply(lambda wkt: loads(wkt)))\n",
        "\n",
        "df_crb_y3 = df_crb[df_crb['census_year']==2020]\n",
        "df_crb_y3_gdf = gpd.GeoDataFrame(df_crb_y3, geometry = df_crb_y3[['longitude','latitude']].apply(lambda coord : Point(coord[0], coord[1]), axis=1))\n",
        "gdf_capw['Number of seats'] = summarize_within(gdf_capw, df_crb_y3_gdf, ['number_of_seats'], aggfunc='sum').dropna(subset=['number_of_seats'])['number_of_seats']\n",
        "gdf_capw['Number of seats'] = gdf_capw['Number of seats'].fillna(0)\n",
        "\n",
        "df_btp_capacity_y3 = df_btp_capacity[df_btp_capacity['census_year']==2020]\n",
        "df_btp_capacity_y3_gdf = gpd.GeoDataFrame(df_btp_capacity_y3, geometry = df_btp_capacity_y3[['longitude','latitude']].apply(lambda coord : Point(coord[0], coord[1]), axis=1))\n",
        "\n",
        "gdf_capw['Number of patrons'] = summarize_within(gdf_capw, df_btp_capacity_y3_gdf, ['number_of_patrons'], aggfunc='sum').dropna(subset=['number_of_patrons'])['number_of_patrons']\n",
        "gdf_capw['Number of patrons'] = gdf_capw['Number of patrons'].fillna(0)\n"
      ]
    },
    {
      "cell_type": "code",
      "execution_count": null,
      "id": "647bd710",
      "metadata": {
        "id": "647bd710"
      },
      "outputs": [],
      "source": [
        "def plot_map(gdf, col1, col2, col3, title):\n",
        "    fig = go.Figure(go.Choroplethmapbox(geojson=gdf.__geo_interface__, locations=gdf.index, z=gdf[col1],\n",
        "                                        colorscale=\"sunset\", zmin=gdf[col1].min(), zmax=gdf[col1].max(),\n",
        "                                        marker_opacity=1, marker_line_width=0, ))\n",
        "\n",
        "\n",
        "\n",
        "    x,y = box(*gdf.total_bounds).centroid.xy\n",
        "    #print(gdf[col1].max())\n",
        "\n",
        "\n",
        "    fig.update_layout(mapbox_style=\"stamen-terrain\", mapbox_center = {\"lat\": y[0], \"lon\": x[0]}, mapbox_zoom=11.5)\n",
        "\n",
        "    matter_r= [[0.0, '#2f0f3d'], #cmocean colorscale\n",
        "            [0.1, '#4f1552'],\n",
        "            [0.2, '#72195f'],\n",
        "            [0.3, '#931f63'],\n",
        "            [0.4, '#b32e5e'],\n",
        "            [0.5, '#cf4456'],\n",
        "            [0.6, '#e26152'],\n",
        "            [0.7, '#ee845d'],\n",
        "            [0.8, '#f5a672'],\n",
        "            [0.9, '#faca8f'],\n",
        "            [1.0, '#fdedb0']]\n",
        "\n",
        "\n",
        "\n",
        "    button1 = dict(method= 'update',\n",
        "                label=col1,\n",
        "                args=[\n",
        "                        {\"z\": [gdf[col1]],\n",
        "                        \"zmax\":[gdf[col1].max()],\n",
        "                        \"zmin\":[gdf[col1].min()]\n",
        "\n",
        "                        }, #dict for fig.data[0] updates\n",
        "                        {\"coloraxis.colorscale\":\"Viridis\" } #dict for  layout attribute update\n",
        "                    ])\n",
        "\n",
        "    button2 = dict(method= 'update',\n",
        "                label=col2,\n",
        "                args=[\n",
        "                    {\"z\": [gdf[col2]],\n",
        "                    \"zmax\":[gdf[col2].max()],\n",
        "                    \"zmin\":[gdf[col2].min()]\n",
        "\n",
        "\n",
        "                    },\n",
        "                    {\"coloraxis.colorscale\": matter_r} #update layout attribute\n",
        "            ])\n",
        "\n",
        "    button3 = dict(method= 'update',\n",
        "                label=col3,\n",
        "                args=[\n",
        "                    {\"z\": [gdf[col3]],\n",
        "                    \"zmax\":[gdf[col3].max()],\n",
        "                    \"zmin\":[gdf[col3].min()]\n",
        "\n",
        "\n",
        "                    },\n",
        "                    {\"coloraxis.colorscale\": matter_r} #update layout attribute\n",
        "            ])\n",
        "\n",
        "\n",
        "    fig.update_layout(updatemenus=[dict(active=0,\n",
        "                                        buttons= [button1, button2, button3])]\n",
        "                                        )\n",
        "    fig.update_layout(title_text = title, title_x=0.5)\n",
        "    return fig\n",
        "\n",
        "#gdf_capw = gpd.GeoDataFrame(df_capw, geometry='geometry')\n",
        "plot_map(gdf_capw, 'start_year', 'end_year', 'Number of seats', 'Planned activity and works')\n"
      ]
    },
    {
      "cell_type": "code",
      "execution_count": null,
      "id": "8a149ca3",
      "metadata": {
        "id": "8a149ca3"
      },
      "outputs": [],
      "source": [
        "results_seats = []\n",
        "for small_area in tqdm(df_crb_y3_gdf['clue_small_area'].unique()):\n",
        "    intersection_mask = df_crb_y3_gdf[df_crb_y3_gdf['clue_small_area']==small_area].intersects(unary_union(gdf_capw['geometry']))\n",
        "    seats_within_apw = df_crb_y3_gdf[df_crb_y3_gdf['clue_small_area']==small_area][intersection_mask]['number_of_seats'].sum()\n",
        "    total_seats = df_crb_y3_gdf[df_crb_y3_gdf['clue_small_area']==small_area]['number_of_seats'].sum()\n",
        "    results_seats.append({\"clue_small_area\":small_area, 'number_of_seats':seats_within_apw, 'percentage_of_seats':(seats_within_apw/total_seats)*100})\n",
        "results_seats = pd.DataFrame(results_seats)"
      ]
    },
    {
      "cell_type": "code",
      "execution_count": null,
      "id": "39b1a02a",
      "metadata": {
        "id": "39b1a02a"
      },
      "outputs": [],
      "source": [
        "results_seats = results_seats.sort_values(by=['number_of_seats'], ascending=False)\n",
        "\n",
        "\n",
        "fig = go.Figure()\n",
        "fig.add_trace(\n",
        "    go.Bar(x =results_seats['clue_small_area'], y=results_seats['number_of_seats'])\n",
        ")\n",
        "\n",
        "fig.update_layout(title_text = 'Number of seats of busineses located within planned activity and works area', title_x=0.5)\n",
        "fig.show()"
      ]
    },
    {
      "cell_type": "code",
      "execution_count": null,
      "id": "b72cd082",
      "metadata": {
        "id": "b72cd082"
      },
      "outputs": [],
      "source": [
        "results_seats = results_seats.sort_values(by=['percentage_of_seats'], ascending=False)\n",
        "\n",
        "fig = go.Figure()\n",
        "fig.add_trace(\n",
        "    go.Bar(x =results_seats['clue_small_area'], y=results_seats['percentage_of_seats'])\n",
        ")\n",
        "\n",
        "fig.update_layout(title_text = 'Percentage of seats located within planned activity and works area', title_x=0.5)\n",
        "fig.show()"
      ]
    },
    {
      "cell_type": "code",
      "execution_count": null,
      "id": "d9621713",
      "metadata": {
        "id": "d9621713"
      },
      "outputs": [],
      "source": [
        "results_patrons = []\n",
        "for small_area in tqdm(df_btp_capacity_y3_gdf['clue_small_area'].unique()):\n",
        "    intersection_mask = df_btp_capacity_y3_gdf[df_btp_capacity_y3_gdf['clue_small_area']==small_area].intersects(unary_union(gdf_capw['geometry']))\n",
        "    patrons_within_apw = df_btp_capacity_y3_gdf[df_btp_capacity_y3_gdf['clue_small_area']==small_area][intersection_mask]['number_of_patrons'].sum()\n",
        "    total_patrons = df_btp_capacity_y3_gdf[df_btp_capacity_y3_gdf['clue_small_area']==small_area]['number_of_patrons'].sum()\n",
        "    results_patrons.append({\"clue_small_area\":small_area, 'number_of_patrons':patrons_within_apw, 'percentage_of_patrons':(patrons_within_apw/total_patrons)*100})\n",
        "\n",
        "results_patrons = pd.DataFrame(results_patrons)"
      ]
    },
    {
      "cell_type": "code",
      "execution_count": null,
      "id": "762fdd75",
      "metadata": {
        "id": "762fdd75"
      },
      "outputs": [],
      "source": [
        "results_patrons = results_patrons.sort_values(by=['number_of_patrons'], ascending=False)\n",
        "\n",
        "fig = go.Figure()\n",
        "fig.add_trace(\n",
        "    go.Bar(x =results_patrons['clue_small_area'], y=results_patrons['number_of_patrons'])\n",
        ")\n",
        "\n",
        "fig.update_layout(title_text = 'Patrons capacity of busineses located within planned activity and works area', title_x=0.5)\n",
        "fig.show()"
      ]
    },
    {
      "cell_type": "code",
      "execution_count": null,
      "id": "48942548",
      "metadata": {
        "id": "48942548"
      },
      "outputs": [],
      "source": [
        "results_patrons = results_patrons.sort_values(by=['percentage_of_patrons'], ascending=False)\n",
        "\n",
        "fig = go.Figure()\n",
        "fig.add_trace(\n",
        "    go.Bar(x =results_patrons['clue_small_area'], y=results_patrons['percentage_of_patrons'])\n",
        ")\n",
        "\n",
        "fig.update_layout(title_text = 'Percentage of patrons capacity located within planned activity and works area', title_x=0.5)\n",
        "fig.show()"
      ]
    },
    {
      "cell_type": "markdown",
      "id": "7ecaecf7",
      "metadata": {
        "id": "7ecaecf7"
      },
      "source": [
        "<div class=\"usecase-section-header\">Projections</div>"
      ]
    },
    {
      "cell_type": "markdown",
      "id": "8fa90dd1",
      "metadata": {
        "id": "8fa90dd1"
      },
      "source": [
        "In this section we are trying to project the return of pedestrian traffic to the city. The reasoning is that if pedestrian traffic increases it is an indicator of people returning to the city. The time of the day, and where that pedestrian activity occurs is also an indicator of whether the interaction is associated with work or for leisure activities.\n",
        "\n",
        "Specifically we can associate evening or night time activity for entertainment, either to venues such as bars, pubs, taverns, and restaurants, or for events. Apart from night time traffic, we will use the small area population forecast, and venue capacity, to project growth areas."
      ]
    },
    {
      "cell_type": "code",
      "execution_count": null,
      "id": "75ab49f4",
      "metadata": {
        "id": "75ab49f4"
      },
      "outputs": [],
      "source": [
        "#group\n",
        "df = sensor_ds_year.groupby(['year','when'],as_index=False).agg(\n",
        "    {'hourly_counts':'mean','day_counts':'mean','night_counts':'mean'})\n",
        "\n",
        "#sort\n",
        "df= df.sort_values(by=['year'], ascending=False)\n",
        "\n",
        "#plot\n",
        "fig = px.line(df, x='year', y='hourly_counts', hover_data=[\"day_counts\",\"night_counts\"],\n",
        "             color='when', title=\"Average Pedestrian Traffic By Year, By Day and Night\")\n",
        "fig.show()"
      ]
    },
    {
      "cell_type": "markdown",
      "id": "1c876038",
      "metadata": {
        "id": "1c876038"
      },
      "source": [
        "In the chart above, as expectd we can see a marked difference in the pedestrian traffic in 2020. The day and night traffic have increased in 2022."
      ]
    },
    {
      "cell_type": "code",
      "execution_count": null,
      "id": "26e2485b",
      "metadata": {
        "id": "26e2485b"
      },
      "outputs": [],
      "source": [
        "#group\n",
        "df = sensor_ds_hod.groupby(['time','when'],as_index=False).agg(\n",
        "    {'hourly_counts':'mean','day_counts':'mean','night_counts':'mean'})\n",
        "\n",
        "#sort\n",
        "df= df.sort_values(by=['hourly_counts'], ascending=True)\n",
        "\n",
        "#plot\n",
        "fig = px.bar(df, x='time', y='hourly_counts', hover_data=[\"day_counts\",\"night_counts\"],\n",
        "             color='when', title=\"Average Pedestrian Traffic By Year, By Time\")\n",
        "fig.show()"
      ]
    },
    {
      "cell_type": "markdown",
      "id": "b852b17d",
      "metadata": {
        "id": "b852b17d"
      },
      "source": [
        "Will examine the pedestrian traffic before Covid, as we can see in the charts above, there is a sharp drop in traffic in 2020. The years 2020-2022 are removed in the dataset used for the next step."
      ]
    },
    {
      "cell_type": "markdown",
      "id": "93b6aede",
      "metadata": {
        "id": "93b6aede"
      },
      "source": [
        "### Data Preparation\n",
        "\n",
        "Confirm the data to be used has a linear trend, and remove outliers. Estimate missing values for years based on history.\n",
        "\n",
        "Pedestrian traffic data trends upward once the 2020-2022 year totals are removed."
      ]
    },
    {
      "cell_type": "code",
      "execution_count": null,
      "id": "fa51a116",
      "metadata": {
        "id": "fa51a116"
      },
      "outputs": [],
      "source": [
        "df =  rs_cve_pop_pt\n",
        "fig = px.scatter(df,  x=\"year\", y=[\"hourly_counts\",\"day_counts\",\"night_counts\"]\n",
        "                 ,  trendline=\"ols\", title = \"Pedestrian Traffic By Year\"\n",
        "                )\n",
        "fig.show()"
      ]
    },
    {
      "cell_type": "code",
      "execution_count": null,
      "id": "db4e53ea",
      "metadata": {
        "id": "db4e53ea"
      },
      "outputs": [],
      "source": [
        "#Impute missing values for pedestrian traffic\n",
        "df =  rs_cve_pop_pt.query('year < 2020')\n",
        "\n",
        "#hourly_counts\n",
        "y = df['hourly_counts']\n",
        "x = np.array(df['year']).reshape((-1, 1))\n",
        "regressor = LinearRegression()\n",
        "regressor.fit(x, y)\n",
        "\n",
        "#missing year values\n",
        "mcp = ds_cve_pop_pt\n",
        "mv = np.array(mcp['year']).reshape((-1, 1))\n",
        "y_pred = regressor.predict(mv)\n",
        "\n",
        "#Add estimated value for years with missing\n",
        "mcp['est_hourly_counts'] = y_pred.tolist()\n",
        "\n",
        "\n",
        "#day_counts\n",
        "y = df['day_counts']\n",
        "x = np.array(df['year']).reshape((-1, 1))\n",
        "regressor = LinearRegression()\n",
        "regressor.fit(x, y)\n",
        "\n",
        "#missing year values\n",
        "mcp = ds_cve_pop_pt\n",
        "mv = np.array(mcp['year']).reshape((-1, 1))\n",
        "y_pred = regressor.predict(mv)\n",
        "\n",
        "#Add estimated value for years with missing\n",
        "mcp['est_day_counts'] = y_pred.tolist()\n",
        "\n",
        "\n",
        "#night_counts\n",
        "y = df['night_counts']\n",
        "x = np.array(df['year']).reshape((-1, 1))\n",
        "regressor = LinearRegression()\n",
        "regressor.fit(x, y)\n",
        "\n",
        "#missing year values\n",
        "mcp = ds_cve_pop_pt\n",
        "mv = np.array(mcp['year']).reshape((-1, 1))\n",
        "y_pred = regressor.predict(mv)\n",
        "\n",
        "#Add estimated value for years with missing\n",
        "mcp['est_night_counts'] = y_pred.tolist()\n",
        "\n"
      ]
    },
    {
      "cell_type": "markdown",
      "id": "c462c532",
      "metadata": {
        "id": "c462c532"
      },
      "source": [
        "Population data has no outliers, but we need to impute values for past years based on the trend."
      ]
    },
    {
      "cell_type": "code",
      "execution_count": null,
      "id": "fe11d184",
      "metadata": {
        "id": "fe11d184"
      },
      "outputs": [],
      "source": [
        "df =  ds_pop\n",
        "fig = px.scatter(df,  x=\"year\", y=[\"population\"]\n",
        "                 ,  trendline=\"ols\", title = \"Population By Year\"\n",
        "                )\n",
        "fig.show()"
      ]
    },
    {
      "cell_type": "code",
      "execution_count": null,
      "id": "36cb7120",
      "metadata": {
        "id": "36cb7120"
      },
      "outputs": [],
      "source": [
        "#Impute missing values for population\n",
        "\n",
        "df =  ds_pop\n",
        "y = df['population']\n",
        "x = np.array(df['year']).reshape((-1, 1))\n",
        "regressor = LinearRegression()\n",
        "regressor.fit(x, y)\n",
        "\n",
        "#missing population year values\n",
        "mcp = ds_cve_pop_pt\n",
        "mv = np.array(mcp['year']).reshape((-1, 1))\n",
        "y_pred = regressor.predict(mv)\n",
        "\n",
        "#Add estimated value for years with missing\n",
        "mcp['est_population'] = y_pred.tolist()\n"
      ]
    },
    {
      "cell_type": "code",
      "execution_count": null,
      "id": "d9b54afc",
      "metadata": {
        "id": "d9b54afc"
      },
      "outputs": [],
      "source": [
        "#view imputed values for population and traffic\n",
        "ds_cve_pop_pt"
      ]
    },
    {
      "cell_type": "markdown",
      "id": "51f4a85c",
      "metadata": {
        "id": "51f4a85c"
      },
      "source": [
        "For capacity data the downwards trend for 2021 - 2023 is removed."
      ]
    },
    {
      "cell_type": "code",
      "execution_count": null,
      "id": "316469f7",
      "metadata": {
        "id": "316469f7"
      },
      "outputs": [],
      "source": [
        "#Removed Covid impacted years from here\n",
        "\n",
        "#identify outliers 2020 and 2021 - peak Covid impact\n",
        "out_values = [2020, 2021, 2022, 2023]\n",
        "\n",
        "df =  ds_cve.copy()\n",
        "\n",
        "#drop any rows for outlier values in the year column\n",
        "df = df[df.year.isin(out_values) == False]\n",
        "\n",
        "fig = px.scatter(df,  x=\"year\", y=[\"capacity\"]\n",
        "                 ,  trendline=\"ols\", title = \"Capacity By Year\"\n",
        "                )\n",
        "fig.show()"
      ]
    },
    {
      "cell_type": "code",
      "execution_count": null,
      "id": "3965c3a9",
      "metadata": {
        "id": "3965c3a9"
      },
      "outputs": [],
      "source": [
        "#Impute missing values for capacity\n",
        "df =  ds_cve.copy()\n",
        "\n",
        "y = df['capacity']\n",
        "x = np.array(df['year']).reshape((-1, 1))\n",
        "regressor = LinearRegression()\n",
        "regressor.fit(x, y)\n",
        "\n",
        "#missing capacity year values\n",
        "mcp = ds_cve_pop_pt\n",
        "mv = np.array(mcp['year']).reshape((-1, 1))\n",
        "y_pred = regressor.predict(mv)\n",
        "\n",
        "#Add estimated value for years with missing\n",
        "mcp['est_capacity'] = y_pred.tolist()"
      ]
    },
    {
      "cell_type": "code",
      "execution_count": null,
      "id": "3946084e",
      "metadata": {
        "id": "3946084e"
      },
      "outputs": [],
      "source": [
        "mcp"
      ]
    },
    {
      "cell_type": "code",
      "execution_count": null,
      "id": "fe882511",
      "metadata": {
        "id": "fe882511"
      },
      "outputs": [],
      "source": [
        "#Combine data set across columns, replace missings with estimates\n",
        "ds_cve_pop_pt['capacity'] = ds_cve_pop_pt[['capacity', 'est_capacity']].bfill(axis=1).iloc[:, 0]\n",
        "ds_cve_pop_pt['population'] = ds_cve_pop_pt[['population', 'est_population']].bfill(axis=1).iloc[:, 0]\n",
        "ds_cve_pop_pt['hourly_counts'] = ds_cve_pop_pt[['hourly_counts', 'est_hourly_counts']].bfill(axis=1).iloc[:, 0]\n",
        "ds_cve_pop_pt['night_counts'] = ds_cve_pop_pt[['night_counts', 'est_night_counts']].bfill(axis=1).iloc[:, 0]\n",
        "ds_cve_pop_pt['day_counts'] = ds_cve_pop_pt[['day_counts', 'est_day_counts']].bfill(axis=1).iloc[:, 0]"
      ]
    },
    {
      "cell_type": "markdown",
      "id": "a8c8fbc1",
      "metadata": {
        "id": "a8c8fbc1"
      },
      "source": [
        "We now have estimations and predictions based on non-Covid values. These can be plotted as below."
      ]
    },
    {
      "cell_type": "code",
      "execution_count": null,
      "id": "d4ed1b40",
      "metadata": {
        "id": "d4ed1b40"
      },
      "outputs": [],
      "source": [
        "df = ds_cve_pop_pt.sort_values(by=['year'], ascending=True)\n",
        "df.tail(3).T"
      ]
    },
    {
      "cell_type": "code",
      "execution_count": null,
      "id": "7cdf8825",
      "metadata": {
        "id": "7cdf8825"
      },
      "outputs": [],
      "source": [
        "df =  ds_cve_pop_pt.copy()\n",
        "\n",
        "#drop any rows for outlier values in the year column\n",
        "df = df[df.year.isin(out_values) == False]\n",
        "\n",
        "df =  df.sort_values(by=['year'], ascending=True)\n",
        "\n",
        "fig = px.line(df,  x=\"year\", y=[\"capacity\",\"population\",\"hourly_counts\"]\n",
        "                 , title = \"Projection By Year (without Covid)\"\n",
        "                )\n",
        "fig.show()"
      ]
    },
    {
      "cell_type": "markdown",
      "id": "9e565062",
      "metadata": {
        "id": "9e565062"
      },
      "source": [
        "We will add the Covid component back in now to focus on Covid and recovery, and predict recovery for 2023."
      ]
    },
    {
      "cell_type": "code",
      "execution_count": null,
      "id": "2f5fdf11",
      "metadata": {
        "id": "2f5fdf11"
      },
      "outputs": [],
      "source": [
        "#sort\n",
        "df= sensor_ds_dt.sort_values(by=['date'], ascending=True)\n",
        "print(df.head(10))\n"
      ]
    },
    {
      "cell_type": "code",
      "execution_count": null,
      "id": "46f6f92c",
      "metadata": {
        "id": "46f6f92c"
      },
      "outputs": [],
      "source": [
        "fig = px.line(df,  x=\"date\", y=[\"day_counts\",\"night_counts\",\"hourly_counts\"]\n",
        "                 , title = \"Projection By Year (with Covid traffic values)\"\n",
        "                )\n",
        "fig.show()\n"
      ]
    },
    {
      "cell_type": "markdown",
      "id": "ed6206b1",
      "metadata": {
        "id": "ed6206b1"
      },
      "source": [
        "Will focus on the past six months, as the growth seems to have flattened out looking at the chart above. There seems to be steady fluctuation looking at date alone."
      ]
    },
    {
      "cell_type": "code",
      "execution_count": null,
      "id": "a2350441",
      "metadata": {
        "id": "a2350441"
      },
      "outputs": [],
      "source": [
        "df = sensor_ds_dt_month.groupby(['month_num'],as_index=False).agg(\n",
        "    {'hourly_counts': 'mean','day_counts':'mean','night_counts':'mean'})\n",
        "\n",
        "fig = px.scatter(df,  x=\"month_num\", y=[\"day_counts\",\"night_counts\",\"hourly_counts\"]\n",
        "                 ,  trendline=\"ols\", title = \"Pedestrian Traffic By Date - Jun 2022 onwards\"\n",
        "                )\n",
        "fig.show()"
      ]
    },
    {
      "cell_type": "markdown",
      "id": "34b7652b",
      "metadata": {
        "id": "34b7652b"
      },
      "source": [
        "<div class=\"usecase-section-header\">Congratulations!</div>"
      ]
    },
    {
      "cell_type": "markdown",
      "id": "21226be2",
      "metadata": {
        "id": "21226be2"
      },
      "source": [
        "You have successfully used Melbourne Open Data to analyse the CLUE survey response data about the entertainment venues in and around the City of Melbourne!\n",
        "\n",
        "\n",
        "For next steps please explore the City of Melbourne Open Data playground, such as stepping through other the use cases on pedestrain traffic and CLUE datasets.\n"
      ]
    },
    {
      "cell_type": "markdown",
      "id": "9b130608",
      "metadata": {
        "id": "9b130608"
      },
      "source": [
        "<div class=\"usecase-section-header\">References</div>"
      ]
    },
    {
      "cell_type": "markdown",
      "id": "cd20afff",
      "metadata": {
        "id": "cd20afff"
      },
      "source": [
        "City of Melbourne Open Data Team, 2016 - 2022,'Bar, tavern, pub patron capacity 2020', City of Melbourne, date retrieved 26 Nov 2022, <https://data.melbourne.vic.gov.au/explore/dataset/bars-and-pubs-with-patron-capacity/information/>\n",
        "\n",
        "City of Melbourne Open Data Team, 2015 - 2022,'Cafe, restaurant, bistro seats 2020', City of Melbourne, date retrieved 26 Nov 2022, <https://data.melbourne.vic.gov.au/explore/dataset/cafes-and-restaurants-with-seating-capacity/information/>\n",
        "\n",
        "City of Melbourne Open Data Team, 2021 - 2022,'City Activities and Planned Works', City of Melbourne, date retrieved 26 Nov 2022, <https://data.melbourne.vic.gov.au/explore/dataset/city-activities-and-planned-works/information/?disjunctive.classification&disjunctive.small_area>\n",
        "\n",
        "City of Melbourne Open Data Team, 2014 - 2021,'Pedestrian Counting System - Monthly (counts per hour)', City of Melbourne, date retrieved 03 Dec 2022, <https://melbournetestbed.opendatasoft.com/explore/dataset/pedestrian-counting-system-monthly-counts-per-hour/information/>\n",
        "\n",
        "City of Melbourne Open Data Team, 2018 - 2021,'Pedestrian Counting System - Sensor Locations', City of Melbourne, date retrieved 03 Dec 2022, <https://data.melbourne.vic.gov.au/explore/dataset/pedestrian-counting-system-sensor-locations/information/>\n",
        "\n",
        "City of Melbourne Open Data Team, 2021 - 2022,'City of Melbourne Population Forecasts by Small Area 2021-2041', City of Melbourne, date retrieved 15 Dec 2022, <https://data.melbourne.vic.gov.au/explore/dataset/city-of-melbourne-population-forecasts-by-small-area-2020-2040/information/>\n",
        "\n",
        "*Edited Te' Claire 2023*"
      ]
    }
  ],
  "metadata": {
    "kernelspec": {
      "display_name": "Python 3 (ipykernel)",
      "language": "python",
      "name": "python3"
    },
    "language_info": {
      "codemirror_mode": {
        "name": "ipython",
        "version": 3
      },
      "file_extension": ".py",
      "mimetype": "text/x-python",
      "name": "python",
      "nbconvert_exporter": "python",
      "pygments_lexer": "ipython3",
      "version": "3.8.13"
    },
    "colab": {
      "provenance": []
    }
  },
  "nbformat": 4,
  "nbformat_minor": 5
}