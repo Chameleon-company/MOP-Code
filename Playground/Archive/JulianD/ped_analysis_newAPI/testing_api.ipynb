{
 "cells": [
  {
   "cell_type": "code",
   "execution_count": 47,
   "id": "4fe5743d",
   "metadata": {},
   "outputs": [],
   "source": [
    "import requests\n",
    "import pandas as pd\n",
    "from api_key import API_KEY\n",
    "import time"
   ]
  },
  {
   "cell_type": "code",
   "execution_count": 2,
   "id": "60cfe621",
   "metadata": {},
   "outputs": [],
   "source": [
    "v2_url = 'https://data.melbourne.vic.gov.au/api/v2/catalog/datasets/'\n",
    "\n",
    "count_dataset = 'pedestrian-counting-system-past-hour-counts-per-minute'\n",
    "#filters = f'records?limit={10}offset={0}&timezone=UTC'"
   ]
  },
  {
   "cell_type": "code",
   "execution_count": 27,
   "id": "e610bf4b",
   "metadata": {},
   "outputs": [],
   "source": [
    "BASE_URL = 'https://data.melbourne.vic.gov.au/api/records/1.0/search/?dataset='\n",
    "# function to get sensor location data\n",
    "def sensor_location():\n",
    "    sensor_dataset = 'pedestrian-counting-system-sensor-locations'\n",
    "    n_records = '&q=&rows=108'\n",
    "    sensor_url = f'{BASE_URL}{sensor_dataset}{n_records}'\n",
    "    result = requests.get(sensor_url)\n",
    "    result_json = result.json()\n",
    "    records = result_json['records']\n",
    "    sensor_df = pd.json_normalize(records)\n",
    "    sensor_location = sensor_df[['fields.location_id', 'fields.sensor_description', 'fields.latitude', 'fields.longitude']]\n",
    "    sensor_location.columns = [\"Sensor ID\", \"Sensor Description\", \"lat\", \"lon\"]\n",
    "    return sensor_location"
   ]
  },
  {
   "cell_type": "code",
   "execution_count": 3,
   "id": "23b77ac6",
   "metadata": {},
   "outputs": [],
   "source": [
    "# Use links & iterate calls\n",
    "\n",
    "def get_data(base, data_url, offset = 0):\n",
    "    \n",
    "    filters = f'records?limit={100}&offset={offset}&timezone=UTC'\n",
    "    url = f'{base}{data_url}/{filters}'\n",
    "    result = requests.get(url + f'&apikey={API_KEY}')\n",
    "    result_json = result.json()\n",
    "    max_results = result_json['total_count']\n",
    "    links = result_json['links']\n",
    "    records = result_json['records']\n",
    "    records_df = pd.json_normalize(records)\n",
    "    \n",
    "    # fix columns names\n",
    "    records_df.drop(columns=['links'],inplace=True)\n",
    "    column_names = records_df.columns.values.tolist()\n",
    "    \n",
    "    column_names = [i.split('.')[-1] for i in column_names]\n",
    "    records_df.columns = column_names\n",
    "    \n",
    "    next_url = None\n",
    "    \n",
    "    # get next url\n",
    "    if records_df.shape[0] != max_results:\n",
    "        for l in links:\n",
    "            if l['rel']=='next':\n",
    "                next_url = l['href']\n",
    "                \n",
    "    return [records_df, next_url, column_names]"
   ]
  },
  {
   "cell_type": "code",
   "execution_count": 4,
   "id": "a0379090",
   "metadata": {},
   "outputs": [],
   "source": [
    "def add_to_dataframe(dataframe, new_data):\n",
    "    df = pd.concat([dataframe, new_data])\n",
    "    return df"
   ]
  },
  {
   "cell_type": "code",
   "execution_count": 29,
   "id": "418401da",
   "metadata": {
    "scrolled": true
   },
   "outputs": [],
   "source": [
    "def fifty_minute_count(location):\n",
    "    df_new, url_next, column_names = get_data(v2_url, count_dataset)\n",
    "    new_ped_df = pd.DataFrame(columns=column_names)\n",
    "    while url_next != None:\n",
    "        df_new, url_next, column_names = get_data(v2_url, count_dataset, new_ped_df.shape[0])\n",
    "        new_ped_df = add_to_dataframe(new_ped_df, df_new)\n",
    "        if new_ped_df.shape[0] == 9900:\n",
    "            break\n",
    "    \n",
    "    df.columns = [\"DateTime\", \"Sensor ID\", \"Count\"]\n",
    "    weekdays = {\n",
    "        0: \"Monday\",\n",
    "        1: \"Tuesday\",\n",
    "        2: \"Wednesday\",\n",
    "        3: \"Thursday\",\n",
    "        4: \"Friday\",\n",
    "        5: \"Saturday\",\n",
    "        6: \"Sunday\"\n",
    "    }\n",
    "    times = df[\"DateTime\"]\n",
    "    last_time = times.sort_values(ascending=False).iloc[1].split(\"T\")\n",
    "    weekday = time.strptime(last_time[0],\"%Y-%m-%d\").tm_wday\n",
    "    print(f\"The latest data was updated on {weekdays[weekday]} {last_time[0]} at {last_time[1].split('.')[0] } at https://data.melbourne.vic.gov.au\")\n",
    "    \n",
    "    #Transform data\n",
    "    df[\"Count\"] = pd.to_numeric(df[\"Count\"])\n",
    "    counting = df[[\"Sensor ID\", \"Count\"]].groupby([\"Sensor ID\"]).sum()\n",
    "    counting.reset_index(level=0, inplace=True)\n",
    "    location[\"Sensor ID\"] = location[\"Sensor ID\"].apply(lambda x: str(x))\n",
    "    \n",
    "    #Merge 2 dataset\n",
    "    counting = pd.merge(counting, location, on='Sensor ID', how='inner')\n",
    "    counting[\"Count\"] = counting[\"Count\"].apply(lambda x: float(x))\n",
    "    return counting"
   ]
  },
  {
   "cell_type": "code",
   "execution_count": 31,
   "id": "f9110354",
   "metadata": {},
   "outputs": [
    {
     "ename": "NameError",
     "evalue": "name 'df' is not defined",
     "output_type": "error",
     "traceback": [
      "\u001b[1;31m---------------------------------------------------------------------------\u001b[0m",
      "\u001b[1;31mNameError\u001b[0m                                 Traceback (most recent call last)",
      "\u001b[1;32m~\\AppData\\Local\\Temp\\ipykernel_820\\2478209884.py\u001b[0m in \u001b[0;36m<module>\u001b[1;34m\u001b[0m\n\u001b[0;32m      2\u001b[0m \u001b[0mlocation_data\u001b[0m \u001b[1;33m=\u001b[0m \u001b[0msensor_location\u001b[0m\u001b[1;33m(\u001b[0m\u001b[1;33m)\u001b[0m\u001b[1;33m\u001b[0m\u001b[1;33m\u001b[0m\u001b[0m\n\u001b[0;32m      3\u001b[0m \u001b[1;31m# Pedestrian Counting System - Past Hour (counts per minute) and merge with Sensor Location\u001b[0m\u001b[1;33m\u001b[0m\u001b[1;33m\u001b[0m\u001b[0m\n\u001b[1;32m----> 4\u001b[1;33m \u001b[0mcounting_data\u001b[0m \u001b[1;33m=\u001b[0m \u001b[0mfifty_minute_count\u001b[0m\u001b[1;33m(\u001b[0m\u001b[0mlocation_data\u001b[0m\u001b[1;33m)\u001b[0m\u001b[1;33m\u001b[0m\u001b[1;33m\u001b[0m\u001b[0m\n\u001b[0m\u001b[0;32m      5\u001b[0m \u001b[1;31m#Show 5 first rows\u001b[0m\u001b[1;33m\u001b[0m\u001b[1;33m\u001b[0m\u001b[0m\n\u001b[0;32m      6\u001b[0m \u001b[0mcounting_data\u001b[0m\u001b[1;33m.\u001b[0m\u001b[0mhead\u001b[0m\u001b[1;33m(\u001b[0m\u001b[1;36m5\u001b[0m\u001b[1;33m)\u001b[0m\u001b[1;33m\u001b[0m\u001b[1;33m\u001b[0m\u001b[0m\n",
      "\u001b[1;32m~\\AppData\\Local\\Temp\\ipykernel_820\\1175859531.py\u001b[0m in \u001b[0;36mfifty_minute_count\u001b[1;34m(location)\u001b[0m\n\u001b[0;32m      8\u001b[0m             \u001b[1;32mbreak\u001b[0m\u001b[1;33m\u001b[0m\u001b[1;33m\u001b[0m\u001b[0m\n\u001b[0;32m      9\u001b[0m \u001b[1;33m\u001b[0m\u001b[0m\n\u001b[1;32m---> 10\u001b[1;33m     \u001b[0mdf\u001b[0m\u001b[1;33m.\u001b[0m\u001b[0mcolumns\u001b[0m \u001b[1;33m=\u001b[0m \u001b[1;33m[\u001b[0m\u001b[1;34m\"DateTime\"\u001b[0m\u001b[1;33m,\u001b[0m \u001b[1;34m\"Sensor ID\"\u001b[0m\u001b[1;33m,\u001b[0m \u001b[1;34m\"Count\"\u001b[0m\u001b[1;33m]\u001b[0m\u001b[1;33m\u001b[0m\u001b[1;33m\u001b[0m\u001b[0m\n\u001b[0m\u001b[0;32m     11\u001b[0m     weekdays = {\n\u001b[0;32m     12\u001b[0m         \u001b[1;36m0\u001b[0m\u001b[1;33m:\u001b[0m \u001b[1;34m\"Monday\"\u001b[0m\u001b[1;33m,\u001b[0m\u001b[1;33m\u001b[0m\u001b[1;33m\u001b[0m\u001b[0m\n",
      "\u001b[1;31mNameError\u001b[0m: name 'df' is not defined"
     ]
    }
   ],
   "source": []
  },
  {
   "cell_type": "markdown",
   "id": "668cdc73",
   "metadata": {},
   "source": [
    "# work space"
   ]
  },
  {
   "cell_type": "code",
   "execution_count": 32,
   "id": "cdcda793",
   "metadata": {},
   "outputs": [],
   "source": [
    "def func():\n",
    "    df_new, url_next, column_names = get_data(v2_url, count_dataset)\n",
    "    new_ped_df = pd.DataFrame(columns=column_names)\n",
    "    while url_next != None:\n",
    "        df_new, url_next, column_names = get_data(v2_url, count_dataset, new_ped_df.shape[0])\n",
    "        new_ped_df = add_to_dataframe(new_ped_df, df_new)\n",
    "        if new_ped_df.shape[0] == 9900:\n",
    "            break\n",
    "    return new_ped_df"
   ]
  },
  {
   "cell_type": "code",
   "execution_count": 33,
   "id": "d6ccb0ba",
   "metadata": {},
   "outputs": [],
   "source": [
    "df = func()"
   ]
  },
  {
   "cell_type": "code",
   "execution_count": 76,
   "id": "4d20e1b7",
   "metadata": {},
   "outputs": [],
   "source": [
    "def fifty_minute_count(location, df):\n",
    "    df = df[[\"sensingdatetime\", \"locationid\",\"total_of_directions\"]]\n",
    "    df.columns = [\"DateTime\", \"Sensor ID\", \"Count\"]\n",
    "    weekdays = {\n",
    "        0: \"Monday\",\n",
    "        1: \"Tuesday\",\n",
    "        2: \"Wednesday\",\n",
    "        3: \"Thursday\",\n",
    "        4: \"Friday\",\n",
    "        5: \"Saturday\",\n",
    "        6: \"Sunday\"\n",
    "    }\n",
    "    times = df[\"DateTime\"]\n",
    "    last_time = times.sort_values(ascending=False).iloc[1].split(\"T\")\n",
    "    weekday = time.strptime(last_time[0],\"%Y-%m-%d\").tm_wday\n",
    "    print(f\"The latest data was updated on {weekdays[weekday]} {last_time[0]} at {last_time[1].split('.')[0] } at https://data.melbourne.vic.gov.au\")\n",
    "    \n",
    "    #Transform data\n",
    "    df[\"Count\"] = pd.to_numeric(df[\"Count\"])\n",
    "    counting = df[[\"Sensor ID\", \"Count\"]].groupby([\"Sensor ID\"]).sum()\n",
    "    counting.reset_index(level=0, inplace=True)\n",
    "    \n",
    "    #Merge 2 dataset\n",
    "    counting = pd.merge(counting, location, on='Sensor ID', how='inner')\n",
    "    counting[\"Count\"] = counting[\"Count\"].apply(lambda x: float(x))\n",
    "    counting[\"Sensor ID\"] = counting[\"Sensor ID\"].apply(lambda x: str(x))\n",
    "    return counting"
   ]
  },
  {
   "cell_type": "code",
   "execution_count": 78,
   "id": "1993ac55",
   "metadata": {},
   "outputs": [
    {
     "name": "stdout",
     "output_type": "stream",
     "text": [
      "The latest data was updated on Monday 2023-03-13 at 11:40:00+00:00 at https://data.melbourne.vic.gov.au\n"
     ]
    },
    {
     "name": "stderr",
     "output_type": "stream",
     "text": [
      "C:\\Users\\playroommountains\\AppData\\Local\\Temp\\ipykernel_820\\252882600.py:19: SettingWithCopyWarning: \n",
      "A value is trying to be set on a copy of a slice from a DataFrame.\n",
      "Try using .loc[row_indexer,col_indexer] = value instead\n",
      "\n",
      "See the caveats in the documentation: https://pandas.pydata.org/pandas-docs/stable/user_guide/indexing.html#returning-a-view-versus-a-copy\n",
      "  df[\"Count\"] = pd.to_numeric(df[\"Count\"])\n"
     ]
    },
    {
     "data": {
      "text/html": [
       "<div>\n",
       "<style scoped>\n",
       "    .dataframe tbody tr th:only-of-type {\n",
       "        vertical-align: middle;\n",
       "    }\n",
       "\n",
       "    .dataframe tbody tr th {\n",
       "        vertical-align: top;\n",
       "    }\n",
       "\n",
       "    .dataframe thead th {\n",
       "        text-align: right;\n",
       "    }\n",
       "</style>\n",
       "<table border=\"1\" class=\"dataframe\">\n",
       "  <thead>\n",
       "    <tr style=\"text-align: right;\">\n",
       "      <th></th>\n",
       "      <th>Sensor ID</th>\n",
       "      <th>Count</th>\n",
       "      <th>Sensor Description</th>\n",
       "      <th>lat</th>\n",
       "      <th>lon</th>\n",
       "    </tr>\n",
       "  </thead>\n",
       "  <tbody>\n",
       "    <tr>\n",
       "      <th>0</th>\n",
       "      <td>1</td>\n",
       "      <td>5756.0</td>\n",
       "      <td>Bourke Street Mall (North)</td>\n",
       "      <td>-37.813494</td>\n",
       "      <td>144.965153</td>\n",
       "    </tr>\n",
       "    <tr>\n",
       "      <th>1</th>\n",
       "      <td>2</td>\n",
       "      <td>4080.0</td>\n",
       "      <td>Bourke Street Mall (South)</td>\n",
       "      <td>-37.813807</td>\n",
       "      <td>144.965167</td>\n",
       "    </tr>\n",
       "    <tr>\n",
       "      <th>2</th>\n",
       "      <td>3</td>\n",
       "      <td>5728.0</td>\n",
       "      <td>Melbourne Central</td>\n",
       "      <td>-37.811015</td>\n",
       "      <td>144.964295</td>\n",
       "    </tr>\n",
       "    <tr>\n",
       "      <th>3</th>\n",
       "      <td>4</td>\n",
       "      <td>8009.0</td>\n",
       "      <td>Town Hall (West)</td>\n",
       "      <td>-37.814880</td>\n",
       "      <td>144.966088</td>\n",
       "    </tr>\n",
       "    <tr>\n",
       "      <th>4</th>\n",
       "      <td>5</td>\n",
       "      <td>9577.0</td>\n",
       "      <td>Princes Bridge</td>\n",
       "      <td>-37.818742</td>\n",
       "      <td>144.967877</td>\n",
       "    </tr>\n",
       "  </tbody>\n",
       "</table>\n",
       "</div>"
      ],
      "text/plain": [
       "  Sensor ID   Count          Sensor Description        lat         lon\n",
       "0         1  5756.0  Bourke Street Mall (North) -37.813494  144.965153\n",
       "1         2  4080.0  Bourke Street Mall (South) -37.813807  144.965167\n",
       "2         3  5728.0           Melbourne Central -37.811015  144.964295\n",
       "3         4  8009.0            Town Hall (West) -37.814880  144.966088\n",
       "4         5  9577.0              Princes Bridge -37.818742  144.967877"
      ]
     },
     "execution_count": 78,
     "metadata": {},
     "output_type": "execute_result"
    }
   ],
   "source": [
    "location_data = sensor_location()\n",
    "\n",
    "counting_data = fifty_minute_count(location_data, df)\n",
    "\n",
    "counting_data.head()"
   ]
  },
  {
   "cell_type": "code",
   "execution_count": null,
   "id": "938eee50",
   "metadata": {},
   "outputs": [],
   "source": []
  }
 ],
 "metadata": {
  "kernelspec": {
   "display_name": "Python 3 (ipykernel)",
   "language": "python",
   "name": "python3"
  },
  "language_info": {
   "codemirror_mode": {
    "name": "ipython",
    "version": 3
   },
   "file_extension": ".py",
   "mimetype": "text/x-python",
   "name": "python",
   "nbconvert_exporter": "python",
   "pygments_lexer": "ipython3",
   "version": "3.9.7"
  }
 },
 "nbformat": 4,
 "nbformat_minor": 5
}
