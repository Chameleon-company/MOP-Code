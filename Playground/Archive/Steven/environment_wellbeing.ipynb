{
 "cells": [
  {
   "cell_type": "code",
   "execution_count": null,
   "metadata": {},
   "outputs": [],
   "source": [
    "# DELETE BEFORE PUBLISHING\n",
    "# This is just here so you can preview the styling on your local machine\n",
    "\n",
    "from IPython.core.display import HTML\n",
    "HTML(\"\"\"\n",
    "<style>\n",
    ".usecase-title, .usecase-duration, .usecase-section-header {\n",
    "    padding-left: 15px;\n",
    "    padding-bottom: 10px;\n",
    "    padding-top: 10px;\n",
    "    padding-right: 15px;\n",
    "    background-color: #0f9295;\n",
    "    color: #fff;\n",
    "}\n",
    "\n",
    ".usecase-title {\n",
    "    font-size: 1.7em;\n",
    "    font-weight: bold;\n",
    "}\n",
    "\n",
    ".usecase-authors, .usecase-level, .usecase-skill {\n",
    "    padding-left: 15px;\n",
    "    padding-bottom: 7px;\n",
    "    padding-top: 7px;\n",
    "    background-color: #baeaeb;\n",
    "    font-size: 1.4em;\n",
    "    color: #121212;\n",
    "}\n",
    "\n",
    ".usecase-level-skill  {\n",
    "    display: flex;\n",
    "}\n",
    "\n",
    ".usecase-level, .usecase-skill {\n",
    "    width: 50%;\n",
    "}\n",
    "\n",
    ".usecase-duration, .usecase-skill {\n",
    "    text-align: right;\n",
    "    padding-right: 15px;\n",
    "    padding-bottom: 8px;\n",
    "    font-size: 1.4em;\n",
    "}\n",
    "\n",
    ".usecase-section-header {\n",
    "    font-weight: bold;\n",
    "    font-size: 1.5em;\n",
    "}\n",
    "\n",
    ".usecase-subsection-header, .usecase-subsection-blurb {\n",
    "    font-weight: bold;\n",
    "    font-size: 1.2em;\n",
    "    color: #121212;\n",
    "}\n",
    "\n",
    ".usecase-subsection-blurb {\n",
    "    font-size: 1em;\n",
    "    font-style: italic;\n",
    "}\n",
    "</style>\n",
    "\"\"\")"
   ]
  },
  {
   "cell_type": "markdown",
   "metadata": {},
   "source": [
    "<div class=\"usecase-title\">{Melbourne's Liveability Assessment}</div>\n",
    "\n",
    "<div class=\"usecase-authors\"><b>Authored by: </b> {Steven Nguyen}</div>"
   ]
  },
  {
   "cell_type": "markdown",
   "metadata": {},
   "source": [
    "<div class=\"usecase-duration\"><b>Duration:</b> {120} mins</div>\n",
    "\n",
    "<div class=\"usecase-level-skill\">\n",
    "    <div class=\"usecase-level\"><b>Level: </b>{Intermediate}</div>\n",
    "    <div class=\"usecase-skill\"><b>Pre-requisite Skills: </b>{Python, Data Wrangling, Scikit-Learn, Matplotlib}</div>\n",
    "</div>"
   ]
  },
  {
   "cell_type": "markdown",
   "metadata": {},
   "source": [
    "<div class=\"usecase-section-header\">Scenario</div>"
   ]
  },
  {
   "cell_type": "code",
   "execution_count": null,
   "metadata": {},
   "outputs": [],
   "source": []
  },
  {
   "cell_type": "markdown",
   "metadata": {},
   "source": [
    "**As a council it is important that we're focusing on our residents and ensuring that the City of Melbourne continues to have a high liveability. As such, we are dedicated to looking at the trends in our liveability and reflecting on why certain trends have decreased and why. We endeavour to ensure we know how our liveability is trending and find resolutions to why they are decreasing.**\n",
    "\n",
    "This project will endeavour to highlight key trends for the City of Melbourne in regards to liveability and ensure that COM remains a highly liveable city and continues to retain its high ranking for liveability internationally. Downwards trends will be further investigated to potentially highlight areas that could be remedied and thus prevent further downwards trend. This will be achieved through looking at COM's *Indicators of Wellbeing by Year* and *Liveability and Social Indicators* datasets."
   ]
  },
  {
   "cell_type": "markdown",
   "metadata": {},
   "source": [
    "<div class=\"usecase-section-header\">What this use case will teach you</div>"
   ]
  },
  {
   "cell_type": "markdown",
   "metadata": {},
   "source": [
    "At the end of this use case you will:\n",
    "<ul>\n",
    "    <li>Learn how to import the datasets into a Pandas dataframe</li>\n",
    "    <li>Data wrangling with any columns not required and aggregating data</li>\n",
    "    <li>Learn how to visualise by utilising libraries such as Matplotlib, Seaborn, Geopandas and Folium</li>\n",
    "</ul>"
   ]
  },
  {
   "cell_type": "markdown",
   "metadata": {},
   "source": [
    "<div class=\"usecase-section-header\">{Heading for introduction or background relating to problem}</div>"
   ]
  },
  {
   "cell_type": "markdown",
   "metadata": {},
   "source": [
    "{Write your introduction here. Keep it concise. We're not after \"War and Peace\" but enough background information to inform the reader on the rationale for solving this problem or background non-technical information that helps explain the approach. You may also wish to give information on the datasets, particularly how to source those not being imported from the client's open data portal.}\n",
    "\n"
   ]
  },
  {
   "cell_type": "markdown",
   "metadata": {},
   "source": [
    "***\n",
    "\n",
    "_**DELETE BEFORE PUBLISHING**_\n",
    "\n",
    "## Style guide for use cases\n",
    "\n",
    "### Headers\n",
    "\n",
    "For styling within your markdown cells, there are two choices you can use for headers.\n",
    "\n",
    "1) You can use HTML classes specific to the use case styling:\n",
    "\n",
    "```<p class=\"usecase-subsection-header\">This is a subsection header.</p>```\n",
    "\n",
    "<p style=\"font-weight: bold; font-size: 1.2em;\">This is a subsection header.</p>\n",
    "\n",
    "```<p class=\"usecase-subsection-blurb\">This is a blurb header.</p>```\n",
    "\n",
    "<p style=\"font-weight: bold; font-size: 1em; font-style:italic;\">This is a blurb header.</p>\n",
    "\n",
    "\n",
    "2) Or if you like you can use the markdown header styles:\n",
    "\n",
    "```# for h1```\n",
    "\n",
    "```## for h2```\n",
    "\n",
    "```### for h3```\n",
    "\n",
    "```#### for h4```\n",
    "\n",
    "```##### for h5```\n",
    "\n",
    "## Plot colour schemes\n",
    "\n",
    "General advice:\n",
    "1. Use the same colour or colour palette throughout your notebook, unless variety is necessary\n",
    "2. Select a palette based on the type of data being represented\n",
    "3. Consider accessibility (colourblindness, low vision)\n",
    "\n",
    "#### 1) If all of your plots only use 1-2 colors use one of the company style colors:\n",
    "\n",
    "| Light theme | Dark Theme |\n",
    "|-----|-----|\n",
    "|<p style=\"color:#2af598;\">#2af598</p>|<p style=\"color:#08af64;\">#08af64</p>|\n",
    "|<p style=\"color:#22e4ac;\">#22e4ac</p>|<p style=\"color:#14a38e;\">#14a38e</p>|\n",
    "|<p style=\"color:#1bd7bb;\">#1bd7bb</p>|<p style=\"color:#0f9295;\">#0f9295</p>|\n",
    "|<p style=\"color:#14c9cb;\">#14c9cb</p>|<p style=\"color:#056b8a;\">#056b8a</p>|\n",
    "|<p style=\"color:#0fbed8;\">#0fbed8</p>|<p style=\"color:#121212;\">#121212</p>|\n",
    "|<p style=\"color:#08b3e5;\">#08b3e5</p>||\n",
    "\n",
    "\n",
    "#### 2) If your plot needs multiple colors, choose an appropriate palette using either of the following tutorials:\n",
    "- https://seaborn.pydata.org/tutorial/color_palettes.html\n",
    "- https://matplotlib.org/stable/tutorials/colors/colormaps.html\n",
    "\n",
    "#### 3) Consider accessibility as well.\n",
    "\n",
    "For qualitative plotting Seaborn's 'colorblind' palette is recommended. For maps with sequential or diverging it is recommended to use one of the Color Brewer schemes which can be previewed at https://colorbrewer2.org/.\n",
    "\n",
    "If you want to design your own colour scheme, it should use the same principles as Cynthia Brewer's research (with variation not only in hue but also, saturation or luminance).\n",
    "\n",
    "### References\n",
    "\n",
    "Be sure to acknowledge your sources and any attributions using links or a reference list.\n",
    "\n",
    "If you have quite a few references, you might wish to have a dedicated section for references at the end of your document, linked using footnote style numbers.\n",
    "\n",
    "You can connect your in-text reference by adding the number with a HTML link: ```<a href=\"#fn-1\">[1]</a>```\n",
    "\n",
    "and add a matching ID in the reference list using the ```<fn>``` tag: ```<fn id=\"fn-1\">[1] Author (Year) _Title_, Publisher, Publication location.</fn>```"
   ]
  },
  {
   "cell_type": "markdown",
   "metadata": {},
   "source": [
    "Key metrics to look at when determining liveability are:\n",
    "1. Jobs\n",
    "2. Food \n",
    "3. Digital connectivity\n",
    "4. Safety\n",
    "5. Nature\n",
    "6. Public transport\n",
    "7. Social infrastructure"
   ]
  },
  {
   "cell_type": "code",
   "execution_count": null,
   "metadata": {},
   "outputs": [],
   "source": [
    "import numpy as np\n",
    "import pandas as pd\n",
    "import matplotlib.pyplot as plt\n",
    "import geopandas as gpd\n"
   ]
  },
  {
   "cell_type": "code",
   "execution_count": null,
   "metadata": {},
   "outputs": [],
   "source": [
    "pop_df = pd.read_csv(\"https://data.melbourne.vic.gov.au/api/explore/v2.1/catalog/datasets/city-of-melbourne-population-forecasts-by-small-area-2020-2040/exports/csv?delimiter=%3B&list_separator=%2C&quote_all=false&with_bom=true\",delimiter=\";\")\n",
    "\n",
    "pop_geo = gpd.read_file(\"https://data.melbourne.vic.gov.au/api/explore/v2.1/catalog/datasets/city-of-melbourne-population-forecasts-by-small-area-2020-2040/exports/geojson?limit=-1&timezone=UTC&use_labels=false&epsg=4326\")"
   ]
  },
  {
   "cell_type": "code",
   "execution_count": null,
   "metadata": {},
   "outputs": [],
   "source": [
    "tree_df = pd.read_csv(\"https://data.melbourne.vic.gov.au/api/explore/v2.1/catalog/datasets/tree-planting-zone-schedules-with-years-urban-forest/exports/csv?delimiter=%3B&list_separator=%2C&quote_all=false&with_bom=true\",delimiter=\";\")\n",
    "\n",
    "tree_geo = gpd.read_file(\"https://data.melbourne.vic.gov.au/api/explore/v2.1/catalog/datasets/tree-planting-zone-schedules-with-years-urban-forest/exports/geojson?limit=-1&timezone=UTC&use_labels=false&epsg=4326\")"
   ]
  },
  {
   "cell_type": "markdown",
   "metadata": {},
   "source": [
    "City of Melbourne Liveability and Social Indicators dataset\n",
    "Let's look at:\n",
    "ECO_1 : City's unemployment rate <br>\n",
    "ECO_3 : Percentage of city population living in poverty<br>\n",
    "ECO_5 : Youth unemployment rate<br>\n",
    "REC_3 : Green area<br>\n",
    "REC_4 : Annual number of trees planted per 100,000 people<br>\n",
    "REC_5 : jobs/house ratio<br>\n",
    "WELL_3 : Residents satisfaction with their standard of living <br>\n",
    "PHYS_1 : % of residents reporting overall health as excellent or very good <br>"
   ]
  },
  {
   "cell_type": "markdown",
   "metadata": {},
   "source": [
    "Indicators of wellbeing by year (Future Melbourne)"
   ]
  },
  {
   "cell_type": "code",
   "execution_count": null,
   "metadata": {},
   "outputs": [],
   "source": [
    "#https://data.melbourne.vic.gov.au/explore/dataset/indicators-of-wellbeing-by-year-future-melbourne/table/\n",
    "ind_wellbeing = pd.read_csv(\"https://data.melbourne.vic.gov.au/api/explore/v2.1/catalog/datasets/indicators-of-wellbeing-by-year-future-melbourne/exports/csv?delimiter=%3B&list_separator=%2C&quote_all=false&with_bom=true\",delimiter=\";\")"
   ]
  },
  {
   "cell_type": "code",
   "execution_count": null,
   "metadata": {},
   "outputs": [],
   "source": [
    "#https://data.melbourne.vic.gov.au/explore/dataset/city-of-melbourne-liveability-and-social-indicators/information/\n",
    "livability_df = pd.read_csv(\"https://data.melbourne.vic.gov.au/api/explore/v2.1/catalog/datasets/city-of-melbourne-liveability-and-social-indicators/exports/csv?delimiter=%3B&list_separator=%2C&quote_all=false&with_bom=true\",delimiter=\";\")"
   ]
  },
  {
   "cell_type": "code",
   "execution_count": null,
   "metadata": {},
   "outputs": [],
   "source": [
    "livability_df.head()\n",
    "\n",
    "#look at REC_3, REC_4, REC_5, PHYS_1 "
   ]
  },
  {
   "cell_type": "markdown",
   "metadata": {},
   "source": [
    "1. Access to Jobs\n",
    "House/jobs ratio\n",
    "poverty\n",
    "PROH_4"
   ]
  },
  {
   "cell_type": "code",
   "execution_count": null,
   "metadata": {},
   "outputs": [],
   "source": [
    "REC_5 = REC_5.sort_values(by=[\"period\"])"
   ]
  },
  {
   "cell_type": "code",
   "execution_count": null,
   "metadata": {},
   "outputs": [],
   "source": [
    "REC_5 = livability_df[livability_df[\"id\"] == \"REC_5\"]\n",
    "REC_5 = REC_5.sort_values(by=[\"period\"])\n",
    "\n",
    "PROH_4 = livability_df[livability_df[\"id\"] == \"PROH_4\"]\n",
    "PROH_4 = PROH_4.sort_values(by=[\"period\"])\n",
    "\n",
    "ECO_5 = livability_df[livability_df[\"id\"] == \"ECO_5\"]\n",
    "ECO_5 = ECO_5.sort_values(by=[\"period\"])"
   ]
  },
  {
   "cell_type": "code",
   "execution_count": null,
   "metadata": {},
   "outputs": [],
   "source": [
    "plt.plot(REC_5[\"period\"],REC_5[\"value\"])\n",
    "plt.title(\"Jobs to House Ratio\")\n",
    "plt.xlabel(\"Financial Year\")\n",
    "plt.ylabel(\"Jobs/House Ratio\")\n",
    "plt.show()\n",
    "\n",
    "plt.plot(PROH_4[\"period\"],PROH_4[\"value\"])"
   ]
  },
  {
   "cell_type": "code",
   "execution_count": null,
   "metadata": {},
   "outputs": [],
   "source": [
    "ECO_5 = ECO_5.sort_values(by='period')"
   ]
  },
  {
   "cell_type": "code",
   "execution_count": null,
   "metadata": {},
   "outputs": [],
   "source": [
    "plt.plot(ECO_5[\"period\"],ECO_5[\"value\"])\n",
    "plt.show()"
   ]
  },
  {
   "cell_type": "markdown",
   "metadata": {},
   "source": [
    "2. Access to Healthcare"
   ]
  },
  {
   "cell_type": "code",
   "execution_count": null,
   "metadata": {},
   "outputs": [],
   "source": [
    "ind_wellbeing.head()"
   ]
  },
  {
   "cell_type": "code",
   "execution_count": null,
   "metadata": {},
   "outputs": [],
   "source": [
    "health_df = ind_wellbeing[ind_wellbeing[\"indicator_label\"] == \"Health\"]\n",
    "quality_male = ind_wellbeing[ind_wellbeing[\"indicator_label\"] == \"Quality of life (Male)\"]\n",
    "quality_female = ind_wellbeing[ind_wellbeing[\"indicator_label\"] == \"Quality of life (Female)\"]"
   ]
  },
  {
   "cell_type": "code",
   "execution_count": null,
   "metadata": {},
   "outputs": [],
   "source": [
    "quality_male = pd.melt(quality_male, id_vars=['indicator_label'],var_name='Year',value_name=\"Value\")\n",
    "quality_male = quality_male.loc[2:6]\n",
    "\n",
    "health_df = pd.melt(health_df, id_vars=['indicator_label'],var_name='Year',value_name=\"Value\")\n",
    "health_df = health_df.loc[2:6]\n",
    "\n",
    "quality_female = pd.melt(quality_female, id_vars=['indicator_label'],var_name='Year',value_name=\"Value\")\n",
    "quality_female = quality_female.loc[2:6]\n",
    "\n"
   ]
  },
  {
   "cell_type": "code",
   "execution_count": null,
   "metadata": {},
   "outputs": [],
   "source": [
    "plt.plot(health_df[\"Year\"],health_df[\"Value\"], label= 'Health')\n",
    "plt.plot(quality_male[\"Year\"],quality_male[\"Value\"], label= \"Quality of life (Male)\")\n",
    "plt.plot(quality_female[\"Year\"],quality_female[\"Value\"], label= \"Quality of life (Female)\")\n",
    "plt.title(\" How healthy residents feel\")\n",
    "plt.legend(bbox_to_anchor=(1, 1))\n",
    "plt.xlabel(\"Year\")\n",
    "plt.ylabel(\"Percentage of Residents\")\n",
    "plt.show()"
   ]
  },
  {
   "cell_type": "markdown",
   "metadata": {},
   "source": [
    "3. Food"
   ]
  },
  {
   "cell_type": "code",
   "execution_count": null,
   "metadata": {},
   "outputs": [],
   "source": [
    "FOOD_1 = livability_df[livability_df[\"id\"] == \"FOOD_1\"]\n",
    "FOOD_1 = FOOD_1.sort_values(by=[\"period\"])\n",
    "\n",
    "FOOD_2 = livability_df[livability_df[\"id\"] == \"FOOD_2\"]\n",
    "FOOD_2 = FOOD_2.sort_values(by=[\"period\"])\n",
    "\n",
    "FOOD_3 = livability_df[livability_df[\"id\"] == \"FOOD_3\"]\n",
    "FOOD_3 = FOOD_3.sort_values(by=[\"period\"])\n",
    "\n",
    "plt.plot(FOOD_1[\"period\"],FOOD_1[\"value\"], label= 'Experienced food insecurity')\n",
    "plt.plot(FOOD_2[\"period\"],FOOD_2[\"value\"], label= \"Worried food will run out\")\n",
    "plt.plot(FOOD_3[\"period\"],FOOD_3[\"value\"], label= \"Have skipped meals\")\n",
    "plt.title(\"Food security\")\n",
    "plt.legend(bbox_to_anchor=(1, 1))\n",
    "plt.xlabel(\"Year\")\n",
    "plt.ylabel(\"Percentage of Residents\")\n",
    "plt.show()"
   ]
  },
  {
   "cell_type": "markdown",
   "metadata": {},
   "source": [
    "3. Greenspace"
   ]
  },
  {
   "cell_type": "markdown",
   "metadata": {},
   "source": [
    "4. Community connectedness"
   ]
  },
  {
   "cell_type": "markdown",
   "metadata": {},
   "source": [
    "5. Safety"
   ]
  },
  {
   "cell_type": "code",
   "execution_count": null,
   "metadata": {},
   "outputs": [],
   "source": [
    "safe_feel = ind_wellbeing[ind_wellbeing[\"indicator_label\"] == \"How safe you feel\"]\n",
    "safe_feel = pd.melt(safe_feel, id_vars=['indicator_label'],var_name='Year',value_name=\"Value\")\n",
    "safe_feel = safe_feel.loc[2:6]\n",
    "\n",
    "safe_feel_male = ind_wellbeing[ind_wellbeing[\"indicator_label\"] == \"How safe you feel (Male)\"]\n",
    "safe_feel_male = pd.melt(safe_feel_male, id_vars=['indicator_label'],var_name='Year',value_name=\"Value\")\n",
    "safe_feel_male = safe_feel_male.loc[2:6]\n",
    "\n",
    "safe_feel_female = ind_wellbeing[ind_wellbeing[\"indicator_label\"] == \"How safe you feel (Female)\"]\n",
    "safe_feel_female = pd.melt(safe_feel_female, id_vars=['indicator_label'],var_name='Year',value_name=\"Value\")\n",
    "safe_feel_female = safe_feel_female.loc[2:6]\n",
    "\n",
    "plt.plot(safe_feel[\"Year\"],safe_feel[\"Value\"], label= 'How safe you feel')\n",
    "plt.plot(safe_feel_male[\"Year\"],safe_feel_male[\"Value\"], label= 'How safe you feel (Male)')\n",
    "plt.plot(safe_feel_female[\"Year\"],safe_feel_female[\"Value\"], label= 'How safe you feel (Female)')\n",
    "plt.title(\"How safe residents feel\")\n",
    "plt.legend(bbox_to_anchor=(1, 1))\n",
    "plt.xlabel(\"Year\")\n",
    "plt.ylabel(\"Percentage of Residents\")\n",
    "plt.show()"
   ]
  },
  {
   "cell_type": "markdown",
   "metadata": {},
   "source": [
    "CHECK TREND LINES FOR KEY SOCIAL TRACKERS AND FOR NEGATIVE TREND LINES SEE HOW WE CAN RESOLVE THESE ISSUES."
   ]
  },
  {
   "cell_type": "code",
   "execution_count": null,
   "metadata": {},
   "outputs": [],
   "source": []
  }
 ],
 "metadata": {
  "kernelspec": {
   "display_name": "Python 3.9.12 ('base')",
   "language": "python",
   "name": "python3"
  },
  "language_info": {
   "codemirror_mode": {
    "name": "ipython",
    "version": 3
   },
   "file_extension": ".py",
   "mimetype": "text/x-python",
   "name": "python",
   "nbconvert_exporter": "python",
   "pygments_lexer": "ipython3",
   "version": "3.10.9"
  },
  "vscode": {
   "interpreter": {
    "hash": "00bd831c53de52cee16e552ea13cca9c838ef1c874ebe408d7c288ec76d7b8ea"
   }
  }
 },
 "nbformat": 4,
 "nbformat_minor": 4
}
