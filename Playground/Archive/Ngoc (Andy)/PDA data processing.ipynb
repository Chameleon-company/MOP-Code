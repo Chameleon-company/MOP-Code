{
 "cells": [
  {
   "cell_type": "code",
   "execution_count": 1,
   "metadata": {
    "colab": {
     "base_uri": "https://localhost:8080/"
    },
    "id": "Gdyh7v1oZN81",
    "outputId": "6b13c167-eb61-4e5f-c3d3-1fc6aaa19b4e"
   },
   "outputs": [
    {
     "name": "stdout",
     "output_type": "stream",
     "text": [
      "Collecting sodapy\n",
      "  Downloading sodapy-2.1.0-py2.py3-none-any.whl (14 kB)\n",
      "Requirement already satisfied: requests>=2.20.0 in /usr/local/lib/python3.7/dist-packages (from sodapy) (2.23.0)\n",
      "Requirement already satisfied: certifi>=2017.4.17 in /usr/local/lib/python3.7/dist-packages (from requests>=2.20.0->sodapy) (2021.10.8)\n",
      "Requirement already satisfied: idna<3,>=2.5 in /usr/local/lib/python3.7/dist-packages (from requests>=2.20.0->sodapy) (2.10)\n",
      "Requirement already satisfied: chardet<4,>=3.0.2 in /usr/local/lib/python3.7/dist-packages (from requests>=2.20.0->sodapy) (3.0.4)\n",
      "Requirement already satisfied: urllib3!=1.25.0,!=1.25.1,<1.26,>=1.21.1 in /usr/local/lib/python3.7/dist-packages (from requests>=2.20.0->sodapy) (1.24.3)\n",
      "Installing collected packages: sodapy\n",
      "Successfully installed sodapy-2.1.0\n"
     ]
    }
   ],
   "source": [
    "!pip install sodapy"
   ]
  },
  {
   "cell_type": "markdown",
   "metadata": {
    "id": "UaThvgb8ESJA"
   },
   "source": [
    "# Data Cleanning"
   ]
  },
  {
   "cell_type": "markdown",
   "metadata": {
    "id": "Crn3CD8yIx3k"
   },
   "source": [
    "## Pedestrian Counting System - Monthly (counts per hour)"
   ]
  },
  {
   "cell_type": "code",
   "execution_count": 88,
   "metadata": {
    "colab": {
     "base_uri": "https://localhost:8080/"
    },
    "id": "zzLF5mL4ZTUn",
    "outputId": "142fb3d0-d58e-4242-b76c-39bf3398f09d"
   },
   "outputs": [
    {
     "name": "stdout",
     "output_type": "stream",
     "text": [
      "Drive already mounted at /content/drive; to attempt to forcibly remount, call drive.mount(\"/content/drive\", force_remount=True).\n"
     ]
    }
   ],
   "source": [
    "from sodapy import Socrata\n",
    "import pandas as pd\n",
    "\n",
    "client = Socrata('data.melbourne.vic.gov.au', None)\n",
    "results = client.get('b2ak-trbp', limit=3962835)\n",
    "df = pd.DataFrame.from_records(results)\n",
    "from google.colab import drive\n",
    "drive.mount('/content/drive')"
   ]
  },
  {
   "cell_type": "code",
   "execution_count": 89,
   "metadata": {
    "id": "IS3N4TmzEHnP"
   },
   "outputs": [],
   "source": [
    "PDA_counting = PDA_counting.drop([\"Unnamed: 0\", \"id\"], axis = 1)"
   ]
  },
  {
   "cell_type": "code",
   "execution_count": 90,
   "metadata": {
    "colab": {
     "base_uri": "https://localhost:8080/",
     "height": 204
    },
    "id": "WlIEQrHSGj1c",
    "outputId": "8af0720f-88a0-43ac-8a44-3c80e5c1981b"
   },
   "outputs": [
    {
     "data": {
      "text/html": [
       "<div>\n",
       "<style scoped>\n",
       "    .dataframe tbody tr th:only-of-type {\n",
       "        vertical-align: middle;\n",
       "    }\n",
       "\n",
       "    .dataframe tbody tr th {\n",
       "        vertical-align: top;\n",
       "    }\n",
       "\n",
       "    .dataframe thead th {\n",
       "        text-align: right;\n",
       "    }\n",
       "</style>\n",
       "<table border=\"1\" class=\"dataframe\">\n",
       "  <thead>\n",
       "    <tr style=\"text-align: right;\">\n",
       "      <th></th>\n",
       "      <th>date_time</th>\n",
       "      <th>year</th>\n",
       "      <th>month</th>\n",
       "      <th>mdate</th>\n",
       "      <th>day</th>\n",
       "      <th>time</th>\n",
       "      <th>sensor_id</th>\n",
       "      <th>sensor_name</th>\n",
       "      <th>hourly_counts</th>\n",
       "    </tr>\n",
       "  </thead>\n",
       "  <tbody>\n",
       "    <tr>\n",
       "      <th>0</th>\n",
       "      <td>2019-11-01T17:00:00.000</td>\n",
       "      <td>2019</td>\n",
       "      <td>November</td>\n",
       "      <td>1</td>\n",
       "      <td>Friday</td>\n",
       "      <td>17</td>\n",
       "      <td>34</td>\n",
       "      <td>Flinders St-Spark La</td>\n",
       "      <td>300</td>\n",
       "    </tr>\n",
       "    <tr>\n",
       "      <th>1</th>\n",
       "      <td>2019-11-01T17:00:00.000</td>\n",
       "      <td>2019</td>\n",
       "      <td>November</td>\n",
       "      <td>1</td>\n",
       "      <td>Friday</td>\n",
       "      <td>17</td>\n",
       "      <td>39</td>\n",
       "      <td>Alfred Place</td>\n",
       "      <td>604</td>\n",
       "    </tr>\n",
       "    <tr>\n",
       "      <th>2</th>\n",
       "      <td>2019-11-01T17:00:00.000</td>\n",
       "      <td>2019</td>\n",
       "      <td>November</td>\n",
       "      <td>1</td>\n",
       "      <td>Friday</td>\n",
       "      <td>17</td>\n",
       "      <td>37</td>\n",
       "      <td>Lygon St (East)</td>\n",
       "      <td>216</td>\n",
       "    </tr>\n",
       "    <tr>\n",
       "      <th>3</th>\n",
       "      <td>2019-11-01T17:00:00.000</td>\n",
       "      <td>2019</td>\n",
       "      <td>November</td>\n",
       "      <td>1</td>\n",
       "      <td>Friday</td>\n",
       "      <td>17</td>\n",
       "      <td>40</td>\n",
       "      <td>Lonsdale St-Spring St (West)</td>\n",
       "      <td>627</td>\n",
       "    </tr>\n",
       "    <tr>\n",
       "      <th>4</th>\n",
       "      <td>2019-11-01T17:00:00.000</td>\n",
       "      <td>2019</td>\n",
       "      <td>November</td>\n",
       "      <td>1</td>\n",
       "      <td>Friday</td>\n",
       "      <td>17</td>\n",
       "      <td>36</td>\n",
       "      <td>Queen St (West)</td>\n",
       "      <td>774</td>\n",
       "    </tr>\n",
       "  </tbody>\n",
       "</table>\n",
       "</div>"
      ],
      "text/plain": [
       "                 date_time  year  ...                   sensor_name  hourly_counts\n",
       "0  2019-11-01T17:00:00.000  2019  ...          Flinders St-Spark La            300\n",
       "1  2019-11-01T17:00:00.000  2019  ...                  Alfred Place            604\n",
       "2  2019-11-01T17:00:00.000  2019  ...               Lygon St (East)            216\n",
       "3  2019-11-01T17:00:00.000  2019  ...  Lonsdale St-Spring St (West)            627\n",
       "4  2019-11-01T17:00:00.000  2019  ...               Queen St (West)            774\n",
       "\n",
       "[5 rows x 9 columns]"
      ]
     },
     "execution_count": 90,
     "metadata": {},
     "output_type": "execute_result"
    }
   ],
   "source": [
    "#Show the first 5 rows\n",
    "PDA_counting.head()"
   ]
  },
  {
   "cell_type": "code",
   "execution_count": 91,
   "metadata": {
    "colab": {
     "base_uri": "https://localhost:8080/"
    },
    "id": "gHgQyi6KDZqT",
    "outputId": "be448e2d-e9b0-447c-e78d-bb995ee5b783"
   },
   "outputs": [
    {
     "name": "stdout",
     "output_type": "stream",
     "text": [
      "Pedetrian counting dataset has 3962835 records\n",
      "Pedetrian counting dataset has 9 features\n",
      "The features of dataset:\n",
      "                                 date_time, year, month, mdate, day, time, sensor_id, sensor_name, hourly_counts\n"
     ]
    }
   ],
   "source": [
    "print(f\"Pedetrian counting dataset has {PDA_counting.shape[0]} records\")\n",
    "print(f\"Pedetrian counting dataset has {PDA_counting.shape[1]} features\")\n",
    "print(f\"The features of dataset:\")\n",
    "print(f\"                                 {', '.join(PDA_counting.columns)}\")"
   ]
  },
  {
   "cell_type": "code",
   "execution_count": 92,
   "metadata": {
    "colab": {
     "base_uri": "https://localhost:8080/"
    },
    "id": "akBOupshEBxo",
    "outputId": "da6cbadc-62c9-4635-990d-cc529061c41e"
   },
   "outputs": [
    {
     "data": {
      "text/plain": [
       "date_time        object\n",
       "year              int64\n",
       "month            object\n",
       "mdate             int64\n",
       "day              object\n",
       "time              int64\n",
       "sensor_id         int64\n",
       "sensor_name      object\n",
       "hourly_counts     int64\n",
       "dtype: object"
      ]
     },
     "execution_count": 92,
     "metadata": {},
     "output_type": "execute_result"
    }
   ],
   "source": [
    "#Get type of feature\n",
    "PDA_counting.dtypes"
   ]
  },
  {
   "cell_type": "code",
   "execution_count": 93,
   "metadata": {
    "colab": {
     "base_uri": "https://localhost:8080/"
    },
    "id": "0ndtJEs4GMc2",
    "outputId": "b6577b74-cce3-42ce-b6cc-41260994eaf5"
   },
   "outputs": [
    {
     "data": {
      "text/plain": [
       "date_time        0\n",
       "year             0\n",
       "month            0\n",
       "mdate            0\n",
       "day              0\n",
       "time             0\n",
       "sensor_id        0\n",
       "sensor_name      0\n",
       "hourly_counts    0\n",
       "dtype: int64"
      ]
     },
     "execution_count": 93,
     "metadata": {},
     "output_type": "execute_result"
    }
   ],
   "source": [
    "#Check Missing Values\n",
    "PDA_counting.isnull().sum()"
   ]
  },
  {
   "cell_type": "markdown",
   "metadata": {
    "id": "D1DGS8e1G32Q"
   },
   "source": [
    "There are no missing values in Pedestrian Counting dataset."
   ]
  },
  {
   "cell_type": "code",
   "execution_count": 94,
   "metadata": {
    "id": "Luqmcam2Gzd1"
   },
   "outputs": [],
   "source": [
    "#Rename headers\n",
    "PDA_counting.columns = [\"DateTime\", \"Year\", \"Month\", \"Date\", \"Day\", \"Time\", \"Sensor ID\", \"Sensor Name\",\"Hourly Count\"]"
   ]
  },
  {
   "cell_type": "markdown",
   "metadata": {
    "id": "ammzvoVYI98h"
   },
   "source": [
    "Data Information\n",
    "\n",
    "|ID| Column | Description | Type |\n",
    "|---| --- | --- | --- |\n",
    "|1|DateTime | Date&Time | String |\n",
    "|2|Year | Year of reading | Integer |\n",
    "|3|Month | Month of year | String |\n",
    "|4|Date | Date of year | Integer |\n",
    "|5|Day | Day of week | String |\n",
    "|6|Time- | Time of day | Integer |\n",
    "|7|Sensor ID | Sensor ID | Integer |\n",
    "|8|Sensor Name | Sensor name | String |\n",
    "|9|Hourly Count | Total hourly sensor readings (count of pedestrians ) | Interger|"
   ]
  },
  {
   "cell_type": "markdown",
   "metadata": {
    "id": "Wh4pbExzLnfb"
   },
   "source": [
    "## Sensor Location"
   ]
  },
  {
   "cell_type": "code",
   "execution_count": 95,
   "metadata": {
    "colab": {
     "base_uri": "https://localhost:8080/"
    },
    "id": "s-iDyxTlIQcF",
    "outputId": "14323739-d0b0-4e80-f793-d185e83dc963"
   },
   "outputs": [
    {
     "name": "stderr",
     "output_type": "stream",
     "text": [
      "WARNING:root:Requests made without an app_token will be subject to strict throttling limits.\n"
     ]
    }
   ],
   "source": [
    "#Get the location of Pedestrian Sensor\n",
    "from sodapy import Socrata\n",
    "client = Socrata('data.melbourne.vic.gov.au', None)\n",
    "results = client.get('h57g-5234')\n",
    "PDA_location = pd.DataFrame.from_records(results)"
   ]
  },
  {
   "cell_type": "code",
   "execution_count": 96,
   "metadata": {
    "colab": {
     "base_uri": "https://localhost:8080/",
     "height": 204
    },
    "id": "HAIlg4HjL45f",
    "outputId": "5da87194-e068-40ac-c24e-118bada96212"
   },
   "outputs": [
    {
     "data": {
      "text/html": [
       "<div>\n",
       "<style scoped>\n",
       "    .dataframe tbody tr th:only-of-type {\n",
       "        vertical-align: middle;\n",
       "    }\n",
       "\n",
       "    .dataframe tbody tr th {\n",
       "        vertical-align: top;\n",
       "    }\n",
       "\n",
       "    .dataframe thead th {\n",
       "        text-align: right;\n",
       "    }\n",
       "</style>\n",
       "<table border=\"1\" class=\"dataframe\">\n",
       "  <thead>\n",
       "    <tr style=\"text-align: right;\">\n",
       "      <th></th>\n",
       "      <th>sensor_id</th>\n",
       "      <th>sensor_description</th>\n",
       "      <th>sensor_name</th>\n",
       "      <th>installation_date</th>\n",
       "      <th>status</th>\n",
       "      <th>direction_1</th>\n",
       "      <th>direction_2</th>\n",
       "      <th>latitude</th>\n",
       "      <th>longitude</th>\n",
       "      <th>location</th>\n",
       "      <th>note</th>\n",
       "    </tr>\n",
       "  </thead>\n",
       "  <tbody>\n",
       "    <tr>\n",
       "      <th>0</th>\n",
       "      <td>55</td>\n",
       "      <td>Elizabeth St-La Trobe St (East)</td>\n",
       "      <td>Eli380_T</td>\n",
       "      <td>2018-07-19T00:00:00.000</td>\n",
       "      <td>A</td>\n",
       "      <td>North</td>\n",
       "      <td>South</td>\n",
       "      <td>-37.80988941</td>\n",
       "      <td>144.96134331</td>\n",
       "      <td>{'latitude': '-37.80988941', 'longitude': '144...</td>\n",
       "      <td>NaN</td>\n",
       "    </tr>\n",
       "    <tr>\n",
       "      <th>1</th>\n",
       "      <td>45</td>\n",
       "      <td>Little Collins St-Swanston St (East)</td>\n",
       "      <td>Swa148_T</td>\n",
       "      <td>2017-06-29T00:00:00.000</td>\n",
       "      <td>A</td>\n",
       "      <td>North</td>\n",
       "      <td>South</td>\n",
       "      <td>-37.81414074</td>\n",
       "      <td>144.9660938</td>\n",
       "      <td>{'latitude': '-37.81414074', 'longitude': '144...</td>\n",
       "      <td>NaN</td>\n",
       "    </tr>\n",
       "    <tr>\n",
       "      <th>2</th>\n",
       "      <td>61</td>\n",
       "      <td>RMIT Building 14</td>\n",
       "      <td>RMIT14_T</td>\n",
       "      <td>2019-06-28T00:00:00.000</td>\n",
       "      <td>A</td>\n",
       "      <td>North</td>\n",
       "      <td>South</td>\n",
       "      <td>-37.80767455</td>\n",
       "      <td>144.96309115</td>\n",
       "      <td>{'latitude': '-37.80767455', 'longitude': '144...</td>\n",
       "      <td>NaN</td>\n",
       "    </tr>\n",
       "    <tr>\n",
       "      <th>3</th>\n",
       "      <td>7</td>\n",
       "      <td>Birrarung Marr</td>\n",
       "      <td>Fed_T</td>\n",
       "      <td>2014-12-17T00:00:00.000</td>\n",
       "      <td>A</td>\n",
       "      <td>East</td>\n",
       "      <td>West</td>\n",
       "      <td>-37.81862929</td>\n",
       "      <td>144.97169395</td>\n",
       "      <td>{'latitude': '-37.81862929', 'longitude': '144...</td>\n",
       "      <td>NaN</td>\n",
       "    </tr>\n",
       "    <tr>\n",
       "      <th>4</th>\n",
       "      <td>72</td>\n",
       "      <td>Flinders St- ACMI</td>\n",
       "      <td>ACMI_T</td>\n",
       "      <td>2020-11-30T00:00:00.000</td>\n",
       "      <td>A</td>\n",
       "      <td>East</td>\n",
       "      <td>West</td>\n",
       "      <td>-37.81726337</td>\n",
       "      <td>144.96872809</td>\n",
       "      <td>{'latitude': '-37.81726337', 'longitude': '144...</td>\n",
       "      <td>NaN</td>\n",
       "    </tr>\n",
       "  </tbody>\n",
       "</table>\n",
       "</div>"
      ],
      "text/plain": [
       "  sensor_id  ... note\n",
       "0        55  ...  NaN\n",
       "1        45  ...  NaN\n",
       "2        61  ...  NaN\n",
       "3         7  ...  NaN\n",
       "4        72  ...  NaN\n",
       "\n",
       "[5 rows x 11 columns]"
      ]
     },
     "execution_count": 96,
     "metadata": {},
     "output_type": "execute_result"
    }
   ],
   "source": [
    "PDA_location.head()"
   ]
  },
  {
   "cell_type": "code",
   "execution_count": 97,
   "metadata": {
    "id": "dUBjgAQPMpnR"
   },
   "outputs": [],
   "source": [
    "PDA_location = PDA_location[[\"sensor_id\", \"latitude\", \"longitude\", \"location\"]]\n",
    "#Rename Headers \n",
    "PDA_location.columns = [\"Sensor ID\", \"Latitude\", \"Longitude\", \"Location\"]"
   ]
  },
  {
   "cell_type": "code",
   "execution_count": 98,
   "metadata": {
    "colab": {
     "base_uri": "https://localhost:8080/",
     "height": 204
    },
    "id": "VUWcZ4xXM-WZ",
    "outputId": "cc75f410-7635-49de-9303-f6a81f69ab2b"
   },
   "outputs": [
    {
     "data": {
      "text/html": [
       "<div>\n",
       "<style scoped>\n",
       "    .dataframe tbody tr th:only-of-type {\n",
       "        vertical-align: middle;\n",
       "    }\n",
       "\n",
       "    .dataframe tbody tr th {\n",
       "        vertical-align: top;\n",
       "    }\n",
       "\n",
       "    .dataframe thead th {\n",
       "        text-align: right;\n",
       "    }\n",
       "</style>\n",
       "<table border=\"1\" class=\"dataframe\">\n",
       "  <thead>\n",
       "    <tr style=\"text-align: right;\">\n",
       "      <th></th>\n",
       "      <th>Sensor ID</th>\n",
       "      <th>Latitude</th>\n",
       "      <th>Longitude</th>\n",
       "      <th>Location</th>\n",
       "    </tr>\n",
       "  </thead>\n",
       "  <tbody>\n",
       "    <tr>\n",
       "      <th>0</th>\n",
       "      <td>55</td>\n",
       "      <td>-37.80988941</td>\n",
       "      <td>144.96134331</td>\n",
       "      <td>{'latitude': '-37.80988941', 'longitude': '144...</td>\n",
       "    </tr>\n",
       "    <tr>\n",
       "      <th>1</th>\n",
       "      <td>45</td>\n",
       "      <td>-37.81414074</td>\n",
       "      <td>144.9660938</td>\n",
       "      <td>{'latitude': '-37.81414074', 'longitude': '144...</td>\n",
       "    </tr>\n",
       "    <tr>\n",
       "      <th>2</th>\n",
       "      <td>61</td>\n",
       "      <td>-37.80767455</td>\n",
       "      <td>144.96309115</td>\n",
       "      <td>{'latitude': '-37.80767455', 'longitude': '144...</td>\n",
       "    </tr>\n",
       "    <tr>\n",
       "      <th>3</th>\n",
       "      <td>7</td>\n",
       "      <td>-37.81862929</td>\n",
       "      <td>144.97169395</td>\n",
       "      <td>{'latitude': '-37.81862929', 'longitude': '144...</td>\n",
       "    </tr>\n",
       "    <tr>\n",
       "      <th>4</th>\n",
       "      <td>72</td>\n",
       "      <td>-37.81726337</td>\n",
       "      <td>144.96872809</td>\n",
       "      <td>{'latitude': '-37.81726337', 'longitude': '144...</td>\n",
       "    </tr>\n",
       "  </tbody>\n",
       "</table>\n",
       "</div>"
      ],
      "text/plain": [
       "  Sensor ID  ...                                           Location\n",
       "0        55  ...  {'latitude': '-37.80988941', 'longitude': '144...\n",
       "1        45  ...  {'latitude': '-37.81414074', 'longitude': '144...\n",
       "2        61  ...  {'latitude': '-37.80767455', 'longitude': '144...\n",
       "3         7  ...  {'latitude': '-37.81862929', 'longitude': '144...\n",
       "4        72  ...  {'latitude': '-37.81726337', 'longitude': '144...\n",
       "\n",
       "[5 rows x 4 columns]"
      ]
     },
     "execution_count": 98,
     "metadata": {},
     "output_type": "execute_result"
    }
   ],
   "source": [
    "PDA_location.head()"
   ]
  },
  {
   "cell_type": "code",
   "execution_count": 99,
   "metadata": {
    "id": "k9lbbiozRNFF"
   },
   "outputs": [],
   "source": [
    "PDA_location[\"Sensor ID\"] = pd.to_numeric(PDA_location[\"Sensor ID\"])"
   ]
  },
  {
   "cell_type": "code",
   "execution_count": 100,
   "metadata": {
    "colab": {
     "base_uri": "https://localhost:8080/"
    },
    "id": "FZPTpS-TRD5W",
    "outputId": "cba3a5ca-2703-4aa0-ab92-2311524f5c3b"
   },
   "outputs": [
    {
     "data": {
      "text/plain": [
       "Sensor ID     int64\n",
       "Latitude     object\n",
       "Longitude    object\n",
       "Location     object\n",
       "dtype: object"
      ]
     },
     "execution_count": 100,
     "metadata": {},
     "output_type": "execute_result"
    }
   ],
   "source": [
    "PDA_location.dtypes"
   ]
  },
  {
   "cell_type": "markdown",
   "metadata": {
    "id": "d6dPgrtsQhhN"
   },
   "source": [
    "# Add location of sensors into Pedestrian Counting System - Monthly (counts per hour)"
   ]
  },
  {
   "cell_type": "code",
   "execution_count": 101,
   "metadata": {
    "id": "gDSm0ydANBqn"
   },
   "outputs": [],
   "source": [
    "PDA_dataset = pd.merge(PDA_location, PDA_counting, on='Sensor ID', how='inner')"
   ]
  },
  {
   "cell_type": "code",
   "execution_count": 102,
   "metadata": {
    "colab": {
     "base_uri": "https://localhost:8080/",
     "height": 204
    },
    "id": "0YZrylkFQ-if",
    "outputId": "70e5b424-6c4d-4146-828e-db5cae795de2"
   },
   "outputs": [
    {
     "data": {
      "text/html": [
       "<div>\n",
       "<style scoped>\n",
       "    .dataframe tbody tr th:only-of-type {\n",
       "        vertical-align: middle;\n",
       "    }\n",
       "\n",
       "    .dataframe tbody tr th {\n",
       "        vertical-align: top;\n",
       "    }\n",
       "\n",
       "    .dataframe thead th {\n",
       "        text-align: right;\n",
       "    }\n",
       "</style>\n",
       "<table border=\"1\" class=\"dataframe\">\n",
       "  <thead>\n",
       "    <tr style=\"text-align: right;\">\n",
       "      <th></th>\n",
       "      <th>Sensor ID</th>\n",
       "      <th>Latitude</th>\n",
       "      <th>Longitude</th>\n",
       "      <th>Location</th>\n",
       "      <th>DateTime</th>\n",
       "      <th>Year</th>\n",
       "      <th>Month</th>\n",
       "      <th>Date</th>\n",
       "      <th>Day</th>\n",
       "      <th>Time</th>\n",
       "      <th>Sensor Name</th>\n",
       "      <th>Hourly Count</th>\n",
       "    </tr>\n",
       "  </thead>\n",
       "  <tbody>\n",
       "    <tr>\n",
       "      <th>0</th>\n",
       "      <td>55</td>\n",
       "      <td>-37.80988941</td>\n",
       "      <td>144.96134331</td>\n",
       "      <td>{'latitude': '-37.80988941', 'longitude': '144...</td>\n",
       "      <td>2019-11-01T17:00:00.000</td>\n",
       "      <td>2019</td>\n",
       "      <td>November</td>\n",
       "      <td>1</td>\n",
       "      <td>Friday</td>\n",
       "      <td>17</td>\n",
       "      <td>Elizabeth St-La Trobe St (East)</td>\n",
       "      <td>2070</td>\n",
       "    </tr>\n",
       "    <tr>\n",
       "      <th>1</th>\n",
       "      <td>55</td>\n",
       "      <td>-37.80988941</td>\n",
       "      <td>144.96134331</td>\n",
       "      <td>{'latitude': '-37.80988941', 'longitude': '144...</td>\n",
       "      <td>2019-11-01T18:00:00.000</td>\n",
       "      <td>2019</td>\n",
       "      <td>November</td>\n",
       "      <td>1</td>\n",
       "      <td>Friday</td>\n",
       "      <td>18</td>\n",
       "      <td>Elizabeth St-La Trobe St (East)</td>\n",
       "      <td>1972</td>\n",
       "    </tr>\n",
       "    <tr>\n",
       "      <th>2</th>\n",
       "      <td>55</td>\n",
       "      <td>-37.80988941</td>\n",
       "      <td>144.96134331</td>\n",
       "      <td>{'latitude': '-37.80988941', 'longitude': '144...</td>\n",
       "      <td>2019-11-01T19:00:00.000</td>\n",
       "      <td>2019</td>\n",
       "      <td>November</td>\n",
       "      <td>1</td>\n",
       "      <td>Friday</td>\n",
       "      <td>19</td>\n",
       "      <td>Elizabeth St-La Trobe St (East)</td>\n",
       "      <td>1748</td>\n",
       "    </tr>\n",
       "    <tr>\n",
       "      <th>3</th>\n",
       "      <td>55</td>\n",
       "      <td>-37.80988941</td>\n",
       "      <td>144.96134331</td>\n",
       "      <td>{'latitude': '-37.80988941', 'longitude': '144...</td>\n",
       "      <td>2019-11-01T20:00:00.000</td>\n",
       "      <td>2019</td>\n",
       "      <td>November</td>\n",
       "      <td>1</td>\n",
       "      <td>Friday</td>\n",
       "      <td>20</td>\n",
       "      <td>Elizabeth St-La Trobe St (East)</td>\n",
       "      <td>1673</td>\n",
       "    </tr>\n",
       "    <tr>\n",
       "      <th>4</th>\n",
       "      <td>55</td>\n",
       "      <td>-37.80988941</td>\n",
       "      <td>144.96134331</td>\n",
       "      <td>{'latitude': '-37.80988941', 'longitude': '144...</td>\n",
       "      <td>2019-11-01T21:00:00.000</td>\n",
       "      <td>2019</td>\n",
       "      <td>November</td>\n",
       "      <td>1</td>\n",
       "      <td>Friday</td>\n",
       "      <td>21</td>\n",
       "      <td>Elizabeth St-La Trobe St (East)</td>\n",
       "      <td>1530</td>\n",
       "    </tr>\n",
       "  </tbody>\n",
       "</table>\n",
       "</div>"
      ],
      "text/plain": [
       "   Sensor ID      Latitude  ...                      Sensor Name Hourly Count\n",
       "0         55  -37.80988941  ...  Elizabeth St-La Trobe St (East)         2070\n",
       "1         55  -37.80988941  ...  Elizabeth St-La Trobe St (East)         1972\n",
       "2         55  -37.80988941  ...  Elizabeth St-La Trobe St (East)         1748\n",
       "3         55  -37.80988941  ...  Elizabeth St-La Trobe St (East)         1673\n",
       "4         55  -37.80988941  ...  Elizabeth St-La Trobe St (East)         1530\n",
       "\n",
       "[5 rows x 12 columns]"
      ]
     },
     "execution_count": 102,
     "metadata": {},
     "output_type": "execute_result"
    }
   ],
   "source": [
    "PDA_dataset.head()"
   ]
  },
  {
   "cell_type": "code",
   "execution_count": 103,
   "metadata": {
    "colab": {
     "base_uri": "https://localhost:8080/"
    },
    "id": "jQLfroZ9Sk2q",
    "outputId": "c33a9925-b042-4629-a907-b49e34aabd91"
   },
   "outputs": [
    {
     "data": {
      "text/plain": [
       "Sensor ID        int64\n",
       "Latitude        object\n",
       "Longitude       object\n",
       "Location        object\n",
       "DateTime        object\n",
       "Year             int64\n",
       "Month           object\n",
       "Date             int64\n",
       "Day             object\n",
       "Time             int64\n",
       "Sensor Name     object\n",
       "Hourly Count     int64\n",
       "dtype: object"
      ]
     },
     "execution_count": 103,
     "metadata": {},
     "output_type": "execute_result"
    }
   ],
   "source": [
    "PDA_dataset.dtypes"
   ]
  },
  {
   "cell_type": "code",
   "execution_count": 104,
   "metadata": {
    "id": "MHMIE-N5SQtK"
   },
   "outputs": [],
   "source": [
    "#Save dataset\n",
    "PDA_dataset.to_csv(\"drive/MyDrive/SIT782/Data/PDA.csv\", index=False)"
   ]
  },
  {
   "cell_type": "markdown",
   "metadata": {
    "id": "VjaYS52MTYgD"
   },
   "source": [
    "# Lockdown Data"
   ]
  },
  {
   "cell_type": "markdown",
   "metadata": {
    "id": "oWon5_s3Tdgq"
   },
   "source": [
    "The dates of lockdowns are gotten from https://www.abc.net.au/news/2021-08-19/melbourne-200-days-of-covid-lockdowns-victoria/100386078"
   ]
  },
  {
   "cell_type": "code",
   "execution_count": 140,
   "metadata": {
    "id": "UHScNVV_SuMh"
   },
   "outputs": [],
   "source": [
    "lockdown_1 = pd.date_range(\"2020-03-31\", end =\"2020-05-12\" , freq=\"D\")\n",
    "lockdown_2 = pd.date_range(\"2020-07-09\", end =\"2020-10-27\" , freq=\"D\")\n",
    "lockdown_3 = pd.date_range(\"2021-02-13\", end =\"2021-02-17\" , freq=\"D\")\n",
    "lockdown_4 = pd.date_range(\"2021-05-28\", end =\"2021-06-10\" , freq=\"D\")\n",
    "lockdown_5 = pd.date_range(\"2021-07-16\", end =\"2021-07-27\" , freq=\"D\")\n",
    "lockdown_6 = pd.date_range(\"2021-08-05\", end =\"2021-10-26\" , freq=\"D\")\n"
   ]
  },
  {
   "cell_type": "code",
   "execution_count": 141,
   "metadata": {
    "id": "EMlBPIYIY0du"
   },
   "outputs": [],
   "source": [
    "lockdown_1 = lockdown_1.append(lockdown_2)\n",
    "lockdown_1 = lockdown_1.append(lockdown_3)\n",
    "lockdown_1 = lockdown_1.append(lockdown_4)\n",
    "lockdown_1 = lockdown_1.append(lockdown_5)\n",
    "lockdown_1 = lockdown_1.append(lockdown_6)"
   ]
  },
  {
   "cell_type": "code",
   "execution_count": 142,
   "metadata": {
    "id": "C4vrNPaCZWjQ"
   },
   "outputs": [],
   "source": [
    "lockdown_ds = pd.DataFrame(lockdown_1)\n",
    "lockdown_ds[\"Lockdown\"] = 1 \n",
    "lockdown_ds.columns = [\"Date\", \"Lockdown\"]"
   ]
  },
  {
   "cell_type": "code",
   "execution_count": 143,
   "metadata": {
    "colab": {
     "base_uri": "https://localhost:8080/"
    },
    "id": "FSiGWsELbDcH",
    "outputId": "9062bf4d-f202-4079-f0bb-b6c49bcb287b"
   },
   "outputs": [
    {
     "data": {
      "text/plain": [
       "DateTime        2019-11-01T17:00:00.000\n",
       "Year                               2019\n",
       "Month                          November\n",
       "Date                                  1\n",
       "Day                              Friday\n",
       "Time                                 17\n",
       "Sensor ID                            34\n",
       "Sensor Name        Flinders St-Spark La\n",
       "Hourly Count                        300\n",
       "Name: 0, dtype: object"
      ]
     },
     "execution_count": 143,
     "metadata": {},
     "output_type": "execute_result"
    }
   ],
   "source": [
    "PDA_counting.iloc[0]"
   ]
  },
  {
   "cell_type": "code",
   "execution_count": 144,
   "metadata": {
    "colab": {
     "base_uri": "https://localhost:8080/"
    },
    "id": "7-zaeFaBbOdU",
    "outputId": "c872b950-5032-4f18-9455-9f68be92e33e"
   },
   "outputs": [
    {
     "data": {
      "text/plain": [
       "DateTime        2021-10-31T23:00:00.000\n",
       "Year                               2021\n",
       "Month                           October\n",
       "Date                                 31\n",
       "Day                              Sunday\n",
       "Time                                 23\n",
       "Sensor ID                            79\n",
       "Sensor Name         Flinders St (South)\n",
       "Hourly Count                        190\n",
       "Name: 3962834, dtype: object"
      ]
     },
     "execution_count": 144,
     "metadata": {},
     "output_type": "execute_result"
    }
   ],
   "source": [
    "PDA_counting.iloc[-1]"
   ]
  },
  {
   "cell_type": "code",
   "execution_count": 145,
   "metadata": {
    "id": "QU_UQfJsbQSJ"
   },
   "outputs": [],
   "source": [
    "period_analysis = pd.date_range(\"2019-11-01\", end =\"2021-10-31\" , freq=\"D\")\n",
    "mummy_data = pd.DataFrame(period_analysis)\n",
    "mummy_data.columns = [\"Date\"]\n",
    "lockdown_ds = pd.merge(mummy_data, lockdown_ds, on='Date', how='outer')\n",
    "lockdown_ds = lockdown_ds.fillna(0)"
   ]
  },
  {
   "cell_type": "code",
   "execution_count": 146,
   "metadata": {
    "colab": {
     "base_uri": "https://localhost:8080/",
     "height": 419
    },
    "id": "jQJwBT0G6ACJ",
    "outputId": "a7918747-6eb2-4484-b2aa-2849baf69024"
   },
   "outputs": [
    {
     "data": {
      "text/html": [
       "<div>\n",
       "<style scoped>\n",
       "    .dataframe tbody tr th:only-of-type {\n",
       "        vertical-align: middle;\n",
       "    }\n",
       "\n",
       "    .dataframe tbody tr th {\n",
       "        vertical-align: top;\n",
       "    }\n",
       "\n",
       "    .dataframe thead th {\n",
       "        text-align: right;\n",
       "    }\n",
       "</style>\n",
       "<table border=\"1\" class=\"dataframe\">\n",
       "  <thead>\n",
       "    <tr style=\"text-align: right;\">\n",
       "      <th></th>\n",
       "      <th>Date</th>\n",
       "      <th>Lockdown</th>\n",
       "    </tr>\n",
       "  </thead>\n",
       "  <tbody>\n",
       "    <tr>\n",
       "      <th>0</th>\n",
       "      <td>2019-11-01</td>\n",
       "      <td>0.0</td>\n",
       "    </tr>\n",
       "    <tr>\n",
       "      <th>1</th>\n",
       "      <td>2019-11-02</td>\n",
       "      <td>0.0</td>\n",
       "    </tr>\n",
       "    <tr>\n",
       "      <th>2</th>\n",
       "      <td>2019-11-03</td>\n",
       "      <td>0.0</td>\n",
       "    </tr>\n",
       "    <tr>\n",
       "      <th>3</th>\n",
       "      <td>2019-11-04</td>\n",
       "      <td>0.0</td>\n",
       "    </tr>\n",
       "    <tr>\n",
       "      <th>4</th>\n",
       "      <td>2019-11-05</td>\n",
       "      <td>0.0</td>\n",
       "    </tr>\n",
       "    <tr>\n",
       "      <th>...</th>\n",
       "      <td>...</td>\n",
       "      <td>...</td>\n",
       "    </tr>\n",
       "    <tr>\n",
       "      <th>726</th>\n",
       "      <td>2021-10-27</td>\n",
       "      <td>0.0</td>\n",
       "    </tr>\n",
       "    <tr>\n",
       "      <th>727</th>\n",
       "      <td>2021-10-28</td>\n",
       "      <td>0.0</td>\n",
       "    </tr>\n",
       "    <tr>\n",
       "      <th>728</th>\n",
       "      <td>2021-10-29</td>\n",
       "      <td>0.0</td>\n",
       "    </tr>\n",
       "    <tr>\n",
       "      <th>729</th>\n",
       "      <td>2021-10-30</td>\n",
       "      <td>0.0</td>\n",
       "    </tr>\n",
       "    <tr>\n",
       "      <th>730</th>\n",
       "      <td>2021-10-31</td>\n",
       "      <td>0.0</td>\n",
       "    </tr>\n",
       "  </tbody>\n",
       "</table>\n",
       "<p>731 rows × 2 columns</p>\n",
       "</div>"
      ],
      "text/plain": [
       "          Date  Lockdown\n",
       "0   2019-11-01       0.0\n",
       "1   2019-11-02       0.0\n",
       "2   2019-11-03       0.0\n",
       "3   2019-11-04       0.0\n",
       "4   2019-11-05       0.0\n",
       "..         ...       ...\n",
       "726 2021-10-27       0.0\n",
       "727 2021-10-28       0.0\n",
       "728 2021-10-29       0.0\n",
       "729 2021-10-30       0.0\n",
       "730 2021-10-31       0.0\n",
       "\n",
       "[731 rows x 2 columns]"
      ]
     },
     "execution_count": 146,
     "metadata": {},
     "output_type": "execute_result"
    }
   ],
   "source": [
    "lockdown_ds"
   ]
  },
  {
   "cell_type": "code",
   "execution_count": 123,
   "metadata": {
    "id": "OSP3JlYLddIa"
   },
   "outputs": [],
   "source": [
    "lockdown_ds.to_csv(\"drive/MyDrive/SIT782/Data/lockdown_duration.csv\", index=False)"
   ]
  },
  {
   "cell_type": "markdown",
   "metadata": {
    "id": "p-lKIk902CR7"
   },
   "source": [
    "## Merge Lockdown data and PDA"
   ]
  },
  {
   "cell_type": "code",
   "execution_count": 138,
   "metadata": {
    "colab": {
     "base_uri": "https://localhost:8080/",
     "height": 204
    },
    "id": "OuJ3WVyO2BeC",
    "outputId": "8b81a07d-ba0b-46f5-a0a6-9243277b90a6"
   },
   "outputs": [
    {
     "data": {
      "text/html": [
       "<div>\n",
       "<style scoped>\n",
       "    .dataframe tbody tr th:only-of-type {\n",
       "        vertical-align: middle;\n",
       "    }\n",
       "\n",
       "    .dataframe tbody tr th {\n",
       "        vertical-align: top;\n",
       "    }\n",
       "\n",
       "    .dataframe thead th {\n",
       "        text-align: right;\n",
       "    }\n",
       "</style>\n",
       "<table border=\"1\" class=\"dataframe\">\n",
       "  <thead>\n",
       "    <tr style=\"text-align: right;\">\n",
       "      <th></th>\n",
       "      <th>Sensor ID</th>\n",
       "      <th>Latitude</th>\n",
       "      <th>Longitude</th>\n",
       "      <th>Location</th>\n",
       "      <th>DateTime</th>\n",
       "      <th>Year</th>\n",
       "      <th>Month</th>\n",
       "      <th>Date</th>\n",
       "      <th>Day</th>\n",
       "      <th>Time</th>\n",
       "      <th>Sensor Name</th>\n",
       "      <th>Hourly Count</th>\n",
       "    </tr>\n",
       "  </thead>\n",
       "  <tbody>\n",
       "    <tr>\n",
       "      <th>0</th>\n",
       "      <td>55</td>\n",
       "      <td>-37.809889</td>\n",
       "      <td>144.961343</td>\n",
       "      <td>{'latitude': '-37.80988941', 'longitude': '144...</td>\n",
       "      <td>2019-11-01T17:00:00.000</td>\n",
       "      <td>2019</td>\n",
       "      <td>November</td>\n",
       "      <td>1</td>\n",
       "      <td>Friday</td>\n",
       "      <td>17</td>\n",
       "      <td>Elizabeth St-La Trobe St (East)</td>\n",
       "      <td>2070</td>\n",
       "    </tr>\n",
       "    <tr>\n",
       "      <th>1</th>\n",
       "      <td>55</td>\n",
       "      <td>-37.809889</td>\n",
       "      <td>144.961343</td>\n",
       "      <td>{'latitude': '-37.80988941', 'longitude': '144...</td>\n",
       "      <td>2019-11-01T18:00:00.000</td>\n",
       "      <td>2019</td>\n",
       "      <td>November</td>\n",
       "      <td>1</td>\n",
       "      <td>Friday</td>\n",
       "      <td>18</td>\n",
       "      <td>Elizabeth St-La Trobe St (East)</td>\n",
       "      <td>1972</td>\n",
       "    </tr>\n",
       "    <tr>\n",
       "      <th>2</th>\n",
       "      <td>55</td>\n",
       "      <td>-37.809889</td>\n",
       "      <td>144.961343</td>\n",
       "      <td>{'latitude': '-37.80988941', 'longitude': '144...</td>\n",
       "      <td>2019-11-01T19:00:00.000</td>\n",
       "      <td>2019</td>\n",
       "      <td>November</td>\n",
       "      <td>1</td>\n",
       "      <td>Friday</td>\n",
       "      <td>19</td>\n",
       "      <td>Elizabeth St-La Trobe St (East)</td>\n",
       "      <td>1748</td>\n",
       "    </tr>\n",
       "    <tr>\n",
       "      <th>3</th>\n",
       "      <td>55</td>\n",
       "      <td>-37.809889</td>\n",
       "      <td>144.961343</td>\n",
       "      <td>{'latitude': '-37.80988941', 'longitude': '144...</td>\n",
       "      <td>2019-11-01T20:00:00.000</td>\n",
       "      <td>2019</td>\n",
       "      <td>November</td>\n",
       "      <td>1</td>\n",
       "      <td>Friday</td>\n",
       "      <td>20</td>\n",
       "      <td>Elizabeth St-La Trobe St (East)</td>\n",
       "      <td>1673</td>\n",
       "    </tr>\n",
       "    <tr>\n",
       "      <th>4</th>\n",
       "      <td>55</td>\n",
       "      <td>-37.809889</td>\n",
       "      <td>144.961343</td>\n",
       "      <td>{'latitude': '-37.80988941', 'longitude': '144...</td>\n",
       "      <td>2019-11-01T21:00:00.000</td>\n",
       "      <td>2019</td>\n",
       "      <td>November</td>\n",
       "      <td>1</td>\n",
       "      <td>Friday</td>\n",
       "      <td>21</td>\n",
       "      <td>Elizabeth St-La Trobe St (East)</td>\n",
       "      <td>1530</td>\n",
       "    </tr>\n",
       "  </tbody>\n",
       "</table>\n",
       "</div>"
      ],
      "text/plain": [
       "   Sensor ID   Latitude  ...                      Sensor Name Hourly Count\n",
       "0         55 -37.809889  ...  Elizabeth St-La Trobe St (East)         2070\n",
       "1         55 -37.809889  ...  Elizabeth St-La Trobe St (East)         1972\n",
       "2         55 -37.809889  ...  Elizabeth St-La Trobe St (East)         1748\n",
       "3         55 -37.809889  ...  Elizabeth St-La Trobe St (East)         1673\n",
       "4         55 -37.809889  ...  Elizabeth St-La Trobe St (East)         1530\n",
       "\n",
       "[5 rows x 12 columns]"
      ]
     },
     "execution_count": 138,
     "metadata": {},
     "output_type": "execute_result"
    }
   ],
   "source": [
    "PDA_data = pd.read_csv(\"drive/MyDrive/SIT782/Data/PDA.csv\")\n",
    "PDA_data.head()"
   ]
  },
  {
   "cell_type": "code",
   "execution_count": 147,
   "metadata": {
    "colab": {
     "base_uri": "https://localhost:8080/",
     "height": 204
    },
    "id": "K4QT75mB2-HC",
    "outputId": "6dece25f-d375-467a-ed24-a1e2421a152a"
   },
   "outputs": [
    {
     "data": {
      "text/html": [
       "<div>\n",
       "<style scoped>\n",
       "    .dataframe tbody tr th:only-of-type {\n",
       "        vertical-align: middle;\n",
       "    }\n",
       "\n",
       "    .dataframe tbody tr th {\n",
       "        vertical-align: top;\n",
       "    }\n",
       "\n",
       "    .dataframe thead th {\n",
       "        text-align: right;\n",
       "    }\n",
       "</style>\n",
       "<table border=\"1\" class=\"dataframe\">\n",
       "  <thead>\n",
       "    <tr style=\"text-align: right;\">\n",
       "      <th></th>\n",
       "      <th>DateTime2</th>\n",
       "      <th>Lockdown</th>\n",
       "    </tr>\n",
       "  </thead>\n",
       "  <tbody>\n",
       "    <tr>\n",
       "      <th>0</th>\n",
       "      <td>2019-11-01</td>\n",
       "      <td>0.0</td>\n",
       "    </tr>\n",
       "    <tr>\n",
       "      <th>1</th>\n",
       "      <td>2019-11-02</td>\n",
       "      <td>0.0</td>\n",
       "    </tr>\n",
       "    <tr>\n",
       "      <th>2</th>\n",
       "      <td>2019-11-03</td>\n",
       "      <td>0.0</td>\n",
       "    </tr>\n",
       "    <tr>\n",
       "      <th>3</th>\n",
       "      <td>2019-11-04</td>\n",
       "      <td>0.0</td>\n",
       "    </tr>\n",
       "    <tr>\n",
       "      <th>4</th>\n",
       "      <td>2019-11-05</td>\n",
       "      <td>0.0</td>\n",
       "    </tr>\n",
       "  </tbody>\n",
       "</table>\n",
       "</div>"
      ],
      "text/plain": [
       "    DateTime2  Lockdown\n",
       "0  2019-11-01       0.0\n",
       "1  2019-11-02       0.0\n",
       "2  2019-11-03       0.0\n",
       "3  2019-11-04       0.0\n",
       "4  2019-11-05       0.0"
      ]
     },
     "execution_count": 147,
     "metadata": {},
     "output_type": "execute_result"
    }
   ],
   "source": [
    "#Conver datatime to string\n",
    "lockdown_ds[\"Date\"] = lockdown_ds[\"Date\"].apply(lambda x:str(x)[:10])\n",
    "lockdown_ds.columns = [\"DateTime2\", \"Lockdown\"]\n",
    "lockdown_ds.head()"
   ]
  },
  {
   "cell_type": "code",
   "execution_count": 148,
   "metadata": {
    "id": "_hlmHRZ44JcS"
   },
   "outputs": [],
   "source": [
    "PDA_data[\"DateTime2\"] = PDA_data[\"DateTime\"].apply(lambda x: str(x)[:10])"
   ]
  },
  {
   "cell_type": "code",
   "execution_count": 149,
   "metadata": {
    "colab": {
     "base_uri": "https://localhost:8080/",
     "height": 419
    },
    "id": "I5PlvHjY4Qj3",
    "outputId": "f374b20e-c437-4db0-cc59-d54687c0a230"
   },
   "outputs": [
    {
     "data": {
      "text/html": [
       "<div>\n",
       "<style scoped>\n",
       "    .dataframe tbody tr th:only-of-type {\n",
       "        vertical-align: middle;\n",
       "    }\n",
       "\n",
       "    .dataframe tbody tr th {\n",
       "        vertical-align: top;\n",
       "    }\n",
       "\n",
       "    .dataframe thead th {\n",
       "        text-align: right;\n",
       "    }\n",
       "</style>\n",
       "<table border=\"1\" class=\"dataframe\">\n",
       "  <thead>\n",
       "    <tr style=\"text-align: right;\">\n",
       "      <th></th>\n",
       "      <th>Sensor ID</th>\n",
       "      <th>Latitude</th>\n",
       "      <th>Longitude</th>\n",
       "      <th>Location</th>\n",
       "      <th>DateTime</th>\n",
       "      <th>Year</th>\n",
       "      <th>Month</th>\n",
       "      <th>Date</th>\n",
       "      <th>Day</th>\n",
       "      <th>Time</th>\n",
       "      <th>Sensor Name</th>\n",
       "      <th>Hourly Count</th>\n",
       "      <th>DateTime2</th>\n",
       "    </tr>\n",
       "  </thead>\n",
       "  <tbody>\n",
       "    <tr>\n",
       "      <th>0</th>\n",
       "      <td>55</td>\n",
       "      <td>-37.809889</td>\n",
       "      <td>144.961343</td>\n",
       "      <td>{'latitude': '-37.80988941', 'longitude': '144...</td>\n",
       "      <td>2019-11-01T17:00:00.000</td>\n",
       "      <td>2019</td>\n",
       "      <td>November</td>\n",
       "      <td>1</td>\n",
       "      <td>Friday</td>\n",
       "      <td>17</td>\n",
       "      <td>Elizabeth St-La Trobe St (East)</td>\n",
       "      <td>2070</td>\n",
       "      <td>2019-11-01</td>\n",
       "    </tr>\n",
       "    <tr>\n",
       "      <th>1</th>\n",
       "      <td>55</td>\n",
       "      <td>-37.809889</td>\n",
       "      <td>144.961343</td>\n",
       "      <td>{'latitude': '-37.80988941', 'longitude': '144...</td>\n",
       "      <td>2019-11-01T18:00:00.000</td>\n",
       "      <td>2019</td>\n",
       "      <td>November</td>\n",
       "      <td>1</td>\n",
       "      <td>Friday</td>\n",
       "      <td>18</td>\n",
       "      <td>Elizabeth St-La Trobe St (East)</td>\n",
       "      <td>1972</td>\n",
       "      <td>2019-11-01</td>\n",
       "    </tr>\n",
       "    <tr>\n",
       "      <th>2</th>\n",
       "      <td>55</td>\n",
       "      <td>-37.809889</td>\n",
       "      <td>144.961343</td>\n",
       "      <td>{'latitude': '-37.80988941', 'longitude': '144...</td>\n",
       "      <td>2019-11-01T19:00:00.000</td>\n",
       "      <td>2019</td>\n",
       "      <td>November</td>\n",
       "      <td>1</td>\n",
       "      <td>Friday</td>\n",
       "      <td>19</td>\n",
       "      <td>Elizabeth St-La Trobe St (East)</td>\n",
       "      <td>1748</td>\n",
       "      <td>2019-11-01</td>\n",
       "    </tr>\n",
       "    <tr>\n",
       "      <th>3</th>\n",
       "      <td>55</td>\n",
       "      <td>-37.809889</td>\n",
       "      <td>144.961343</td>\n",
       "      <td>{'latitude': '-37.80988941', 'longitude': '144...</td>\n",
       "      <td>2019-11-01T20:00:00.000</td>\n",
       "      <td>2019</td>\n",
       "      <td>November</td>\n",
       "      <td>1</td>\n",
       "      <td>Friday</td>\n",
       "      <td>20</td>\n",
       "      <td>Elizabeth St-La Trobe St (East)</td>\n",
       "      <td>1673</td>\n",
       "      <td>2019-11-01</td>\n",
       "    </tr>\n",
       "    <tr>\n",
       "      <th>4</th>\n",
       "      <td>55</td>\n",
       "      <td>-37.809889</td>\n",
       "      <td>144.961343</td>\n",
       "      <td>{'latitude': '-37.80988941', 'longitude': '144...</td>\n",
       "      <td>2019-11-01T21:00:00.000</td>\n",
       "      <td>2019</td>\n",
       "      <td>November</td>\n",
       "      <td>1</td>\n",
       "      <td>Friday</td>\n",
       "      <td>21</td>\n",
       "      <td>Elizabeth St-La Trobe St (East)</td>\n",
       "      <td>1530</td>\n",
       "      <td>2019-11-01</td>\n",
       "    </tr>\n",
       "    <tr>\n",
       "      <th>...</th>\n",
       "      <td>...</td>\n",
       "      <td>...</td>\n",
       "      <td>...</td>\n",
       "      <td>...</td>\n",
       "      <td>...</td>\n",
       "      <td>...</td>\n",
       "      <td>...</td>\n",
       "      <td>...</td>\n",
       "      <td>...</td>\n",
       "      <td>...</td>\n",
       "      <td>...</td>\n",
       "      <td>...</td>\n",
       "      <td>...</td>\n",
       "    </tr>\n",
       "    <tr>\n",
       "      <th>3962830</th>\n",
       "      <td>79</td>\n",
       "      <td>-37.817940</td>\n",
       "      <td>144.966167</td>\n",
       "      <td>{'latitude': '-37.81794046', 'longitude': '144...</td>\n",
       "      <td>2021-10-31T19:00:00.000</td>\n",
       "      <td>2021</td>\n",
       "      <td>October</td>\n",
       "      <td>31</td>\n",
       "      <td>Sunday</td>\n",
       "      <td>19</td>\n",
       "      <td>Flinders St (South)</td>\n",
       "      <td>464</td>\n",
       "      <td>2021-10-31</td>\n",
       "    </tr>\n",
       "    <tr>\n",
       "      <th>3962831</th>\n",
       "      <td>79</td>\n",
       "      <td>-37.817940</td>\n",
       "      <td>144.966167</td>\n",
       "      <td>{'latitude': '-37.81794046', 'longitude': '144...</td>\n",
       "      <td>2021-10-31T20:00:00.000</td>\n",
       "      <td>2021</td>\n",
       "      <td>October</td>\n",
       "      <td>31</td>\n",
       "      <td>Sunday</td>\n",
       "      <td>20</td>\n",
       "      <td>Flinders St (South)</td>\n",
       "      <td>396</td>\n",
       "      <td>2021-10-31</td>\n",
       "    </tr>\n",
       "    <tr>\n",
       "      <th>3962832</th>\n",
       "      <td>79</td>\n",
       "      <td>-37.817940</td>\n",
       "      <td>144.966167</td>\n",
       "      <td>{'latitude': '-37.81794046', 'longitude': '144...</td>\n",
       "      <td>2021-10-31T21:00:00.000</td>\n",
       "      <td>2021</td>\n",
       "      <td>October</td>\n",
       "      <td>31</td>\n",
       "      <td>Sunday</td>\n",
       "      <td>21</td>\n",
       "      <td>Flinders St (South)</td>\n",
       "      <td>343</td>\n",
       "      <td>2021-10-31</td>\n",
       "    </tr>\n",
       "    <tr>\n",
       "      <th>3962833</th>\n",
       "      <td>79</td>\n",
       "      <td>-37.817940</td>\n",
       "      <td>144.966167</td>\n",
       "      <td>{'latitude': '-37.81794046', 'longitude': '144...</td>\n",
       "      <td>2021-10-31T22:00:00.000</td>\n",
       "      <td>2021</td>\n",
       "      <td>October</td>\n",
       "      <td>31</td>\n",
       "      <td>Sunday</td>\n",
       "      <td>22</td>\n",
       "      <td>Flinders St (South)</td>\n",
       "      <td>298</td>\n",
       "      <td>2021-10-31</td>\n",
       "    </tr>\n",
       "    <tr>\n",
       "      <th>3962834</th>\n",
       "      <td>79</td>\n",
       "      <td>-37.817940</td>\n",
       "      <td>144.966167</td>\n",
       "      <td>{'latitude': '-37.81794046', 'longitude': '144...</td>\n",
       "      <td>2021-10-31T23:00:00.000</td>\n",
       "      <td>2021</td>\n",
       "      <td>October</td>\n",
       "      <td>31</td>\n",
       "      <td>Sunday</td>\n",
       "      <td>23</td>\n",
       "      <td>Flinders St (South)</td>\n",
       "      <td>190</td>\n",
       "      <td>2021-10-31</td>\n",
       "    </tr>\n",
       "  </tbody>\n",
       "</table>\n",
       "<p>3962835 rows × 13 columns</p>\n",
       "</div>"
      ],
      "text/plain": [
       "         Sensor ID   Latitude  ...  Hourly Count   DateTime2\n",
       "0               55 -37.809889  ...          2070  2019-11-01\n",
       "1               55 -37.809889  ...          1972  2019-11-01\n",
       "2               55 -37.809889  ...          1748  2019-11-01\n",
       "3               55 -37.809889  ...          1673  2019-11-01\n",
       "4               55 -37.809889  ...          1530  2019-11-01\n",
       "...            ...        ...  ...           ...         ...\n",
       "3962830         79 -37.817940  ...           464  2021-10-31\n",
       "3962831         79 -37.817940  ...           396  2021-10-31\n",
       "3962832         79 -37.817940  ...           343  2021-10-31\n",
       "3962833         79 -37.817940  ...           298  2021-10-31\n",
       "3962834         79 -37.817940  ...           190  2021-10-31\n",
       "\n",
       "[3962835 rows x 13 columns]"
      ]
     },
     "execution_count": 149,
     "metadata": {},
     "output_type": "execute_result"
    }
   ],
   "source": [
    "PDA_data"
   ]
  },
  {
   "cell_type": "code",
   "execution_count": 151,
   "metadata": {
    "id": "bx-9mS6s6lx2"
   },
   "outputs": [],
   "source": [
    "PDA_dataset = pd.merge(PDA_data, lockdown_ds, on='DateTime2', how='inner')"
   ]
  },
  {
   "cell_type": "code",
   "execution_count": null,
   "metadata": {
    "id": "PVugQ6j-82lA"
   },
   "outputs": [],
   "source": [
    "PDA_dataset = PDA_dataset.drop(\"DateTime2\", axis = 1)\n",
    "PDA_dataset = PDA_dataset[[\"DateTime\", \"Year\", \"Month\", \"Date\", \"Day\", \"Time\", \"Sensor ID\", \"Sensor Name\", \"Latitude\", \"Longitude\", \"Location\", \"Lockdown\", \"Hourly Count\"]]"
   ]
  },
  {
   "cell_type": "code",
   "execution_count": 160,
   "metadata": {
    "colab": {
     "base_uri": "https://localhost:8080/",
     "height": 204
    },
    "id": "Ek_Au8RS85PJ",
    "outputId": "1a97e7f6-1049-471c-e043-e81e96e20fc2"
   },
   "outputs": [
    {
     "data": {
      "text/html": [
       "<div>\n",
       "<style scoped>\n",
       "    .dataframe tbody tr th:only-of-type {\n",
       "        vertical-align: middle;\n",
       "    }\n",
       "\n",
       "    .dataframe tbody tr th {\n",
       "        vertical-align: top;\n",
       "    }\n",
       "\n",
       "    .dataframe thead th {\n",
       "        text-align: right;\n",
       "    }\n",
       "</style>\n",
       "<table border=\"1\" class=\"dataframe\">\n",
       "  <thead>\n",
       "    <tr style=\"text-align: right;\">\n",
       "      <th></th>\n",
       "      <th>DateTime</th>\n",
       "      <th>Year</th>\n",
       "      <th>Month</th>\n",
       "      <th>Date</th>\n",
       "      <th>Day</th>\n",
       "      <th>Time</th>\n",
       "      <th>Sensor ID</th>\n",
       "      <th>Sensor Name</th>\n",
       "      <th>Latitude</th>\n",
       "      <th>Longitude</th>\n",
       "      <th>Location</th>\n",
       "      <th>Lockdown</th>\n",
       "      <th>Hourly Count</th>\n",
       "    </tr>\n",
       "  </thead>\n",
       "  <tbody>\n",
       "    <tr>\n",
       "      <th>0</th>\n",
       "      <td>2019-11-01T17:00:00.000</td>\n",
       "      <td>2019</td>\n",
       "      <td>November</td>\n",
       "      <td>1</td>\n",
       "      <td>Friday</td>\n",
       "      <td>17</td>\n",
       "      <td>55</td>\n",
       "      <td>Elizabeth St-La Trobe St (East)</td>\n",
       "      <td>-37.809889</td>\n",
       "      <td>144.961343</td>\n",
       "      <td>{'latitude': '-37.80988941', 'longitude': '144...</td>\n",
       "      <td>0.0</td>\n",
       "      <td>2070</td>\n",
       "    </tr>\n",
       "    <tr>\n",
       "      <th>1</th>\n",
       "      <td>2019-11-01T18:00:00.000</td>\n",
       "      <td>2019</td>\n",
       "      <td>November</td>\n",
       "      <td>1</td>\n",
       "      <td>Friday</td>\n",
       "      <td>18</td>\n",
       "      <td>55</td>\n",
       "      <td>Elizabeth St-La Trobe St (East)</td>\n",
       "      <td>-37.809889</td>\n",
       "      <td>144.961343</td>\n",
       "      <td>{'latitude': '-37.80988941', 'longitude': '144...</td>\n",
       "      <td>0.0</td>\n",
       "      <td>1972</td>\n",
       "    </tr>\n",
       "    <tr>\n",
       "      <th>2</th>\n",
       "      <td>2019-11-01T19:00:00.000</td>\n",
       "      <td>2019</td>\n",
       "      <td>November</td>\n",
       "      <td>1</td>\n",
       "      <td>Friday</td>\n",
       "      <td>19</td>\n",
       "      <td>55</td>\n",
       "      <td>Elizabeth St-La Trobe St (East)</td>\n",
       "      <td>-37.809889</td>\n",
       "      <td>144.961343</td>\n",
       "      <td>{'latitude': '-37.80988941', 'longitude': '144...</td>\n",
       "      <td>0.0</td>\n",
       "      <td>1748</td>\n",
       "    </tr>\n",
       "    <tr>\n",
       "      <th>3</th>\n",
       "      <td>2019-11-01T20:00:00.000</td>\n",
       "      <td>2019</td>\n",
       "      <td>November</td>\n",
       "      <td>1</td>\n",
       "      <td>Friday</td>\n",
       "      <td>20</td>\n",
       "      <td>55</td>\n",
       "      <td>Elizabeth St-La Trobe St (East)</td>\n",
       "      <td>-37.809889</td>\n",
       "      <td>144.961343</td>\n",
       "      <td>{'latitude': '-37.80988941', 'longitude': '144...</td>\n",
       "      <td>0.0</td>\n",
       "      <td>1673</td>\n",
       "    </tr>\n",
       "    <tr>\n",
       "      <th>4</th>\n",
       "      <td>2019-11-01T21:00:00.000</td>\n",
       "      <td>2019</td>\n",
       "      <td>November</td>\n",
       "      <td>1</td>\n",
       "      <td>Friday</td>\n",
       "      <td>21</td>\n",
       "      <td>55</td>\n",
       "      <td>Elizabeth St-La Trobe St (East)</td>\n",
       "      <td>-37.809889</td>\n",
       "      <td>144.961343</td>\n",
       "      <td>{'latitude': '-37.80988941', 'longitude': '144...</td>\n",
       "      <td>0.0</td>\n",
       "      <td>1530</td>\n",
       "    </tr>\n",
       "  </tbody>\n",
       "</table>\n",
       "</div>"
      ],
      "text/plain": [
       "                  DateTime  Year  ... Lockdown  Hourly Count\n",
       "0  2019-11-01T17:00:00.000  2019  ...      0.0          2070\n",
       "1  2019-11-01T18:00:00.000  2019  ...      0.0          1972\n",
       "2  2019-11-01T19:00:00.000  2019  ...      0.0          1748\n",
       "3  2019-11-01T20:00:00.000  2019  ...      0.0          1673\n",
       "4  2019-11-01T21:00:00.000  2019  ...      0.0          1530\n",
       "\n",
       "[5 rows x 13 columns]"
      ]
     },
     "execution_count": 160,
     "metadata": {},
     "output_type": "execute_result"
    }
   ],
   "source": [
    "PDA_dataset.head()"
   ]
  },
  {
   "cell_type": "code",
   "execution_count": 161,
   "metadata": {
    "id": "f4fH-fYU7KEG"
   },
   "outputs": [],
   "source": [
    "PDA_dataset.to_csv(\"drive/MyDrive/SIT782/Data/PDA.csv\", index=False)"
   ]
  }
 ],
 "metadata": {
  "accelerator": "GPU",
  "colab": {
   "collapsed_sections": [],
   "name": "Download Datasets.ipynb",
   "provenance": []
  },
  "kernelspec": {
   "display_name": "Python 3",
   "language": "python",
   "name": "python3"
  },
  "language_info": {
   "codemirror_mode": {
    "name": "ipython",
    "version": 3
   },
   "file_extension": ".py",
   "mimetype": "text/x-python",
   "name": "python",
   "nbconvert_exporter": "python",
   "pygments_lexer": "ipython3",
   "version": "3.8.0"
  }
 },
 "nbformat": 4,
 "nbformat_minor": 1
}
