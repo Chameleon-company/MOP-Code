{
 "cells": [
  {
   "cell_type": "markdown",
   "metadata": {},
   "source": [
    "## Urban Heat Island (UHI) effect reduction \n",
    "### Written by: Amy Tran & Siyu Ai"
   ]
  },
  {
   "cell_type": "markdown",
   "metadata": {},
   "source": [
    "## Scenario"
   ]
  },
  {
   "cell_type": "markdown",
   "metadata": {},
   "source": [
    "## Objective"
   ]
  },
  {
   "cell_type": "markdown",
   "metadata": {},
   "source": [
    "# Datasets\n",
    "trees-with-species-and-dimensions-urban-forest<br>\n",
    "laneways-with-greening-potential<br>\n",
    "microclimate-sensor-readings<br>"
   ]
  },
  {
   "cell_type": "markdown",
   "metadata": {},
   "source": [
    "## Codes"
   ]
  },
  {
   "cell_type": "markdown",
   "metadata": {},
   "source": [
    "#### Load data "
   ]
  },
  {
   "cell_type": "code",
   "execution_count": 1,
   "metadata": {},
   "outputs": [
    {
     "name": "stdout",
     "output_type": "stream",
     "text": [
      "Requirement already satisfied: geopy in c:\\users\\kuroimi\\anaconda3\\lib\\site-packages (2.3.0)\n",
      "Requirement already satisfied: geographiclib<3,>=1.52 in c:\\users\\kuroimi\\anaconda3\\lib\\site-packages (from geopy) (2.0)\n"
     ]
    }
   ],
   "source": [
    "!pip install geopy\n",
    "import pandas as pd\n",
    "import numpy as np\n",
    "import requests\n",
    "from datetime import datetime\n",
    "import plotly.express as px\n",
    "import geopy.distance\n",
    "\n",
    "#pip install plotly==5.8.0\n",
    "#pip install geopy"
   ]
  },
  {
   "cell_type": "code",
   "execution_count": 2,
   "metadata": {},
   "outputs": [],
   "source": [
    "#Sample query\n",
    "#import requests\n",
    "#session = requests.Session()\n",
    "#base = 'https://data.melbourne.vic.gov.au/api/v2/catalog/datasets/'\n",
    "#url = 'microclimate-sensor-readings'\n",
    "#filters = f'records?limit={10}&offset={9990}&timezone=UTC'\n",
    "#filters = f'records?limit={10}&offset={0}&timezone=UTC'\n",
    "#target_url = f'{base}{url}/{filters}'\n",
    "#result = session.get(target_url+f'&apikey={API_KEY}')\n",
    "#result"
   ]
  },
  {
   "cell_type": "code",
   "execution_count": 3,
   "metadata": {},
   "outputs": [],
   "source": [
    "#Create function to calculate distance between 2 coordinates\n",
    "import geopy.distance\n",
    "def distance(lat1, lon1, lat2, lon2):\n",
    "    coords_1 = (lat1, lon1)\n",
    "    coords_2 = (lat2, lon2)\n",
    "    km = geopy.distance.geodesic(coords_1, coords_2).km\n",
    "    return (km)\n",
    "\n",
    "#Create function to make iterative calls \n",
    "def get_data(base, url, size = 0):\n",
    "    #Extract 1st row as default result \n",
    "    #default_filters = filters = f'records?limit={1}&offset={0}&timezone=UTC'\n",
    "    #default_url = f'{base}{url}/{default_filters}'\n",
    "    #default_result = session.get(default_url)\n",
    "    #default_result_json = default_result_json()\n",
    "    #default_max_results = default_result_json['total_count']\n",
    "\n",
    "    #Extract target result (full data)\n",
    "    target_filters = f'records?limit={10}&offset={size}&timezone=UTC'\n",
    "    target_url = f'{base}{url}/{target_filters}'\n",
    "    result = session.get(target_url+f'&apikey={API_KEY}')\n",
    "    status_code = result.status_code\n",
    "    if status_code == 200:\n",
    "        result_json = result.json()\n",
    "        max_results = result_json['total_count']\n",
    "        links = result_json['links']\n",
    "        records = result_json['records']\n",
    "        records_df = pd.json_normalize(records)\n",
    "    \n",
    "        #Update column labels\n",
    "        records_df.drop(columns=['links'],inplace=True)\n",
    "        column_names = records_df.columns.values.tolist()\n",
    "\n",
    "        #Replace geolocation.lat & geolocation.lon\n",
    "        column_names = ['_'.join((a.split(\".\")[-2:])) if a.split('.')[-2]=='geolocation' else a for a in column_names]\n",
    "        column_names = [i.split('.')[-1] for i in column_names]\n",
    "        records_df.columns = column_names\n",
    "    \n",
    "        next_url = None\n",
    "             \n",
    "        #Obtain next url\n",
    "        if records_df.shape[0] != max_results:\n",
    "            for l in links:\n",
    "                if l['rel'] == 'next':\n",
    "                    next_url = l['href']\n",
    "    \n",
    "        return[records_df, next_url, column_names, max_results, status_code]\n",
    "    else: return[None, None, None, None, status_code]"
   ]
  },
  {
   "cell_type": "code",
   "execution_count": 4,
   "metadata": {},
   "outputs": [
    {
     "name": "stdout",
     "output_type": "stream",
     "text": [
      "(246, 26)\n"
     ]
    }
   ],
   "source": [
    "#Extract laneways-with-greening-potential data \n",
    "session = requests.Session()\n",
    "base = 'https://data.melbourne.vic.gov.au/api/v2/catalog/datasets/'\n",
    "url = 'laneways-with-greening-potential'\n",
    "\n",
    "target_url = f'{base}{url}/exports/json'\n",
    "result = session.get(target_url)\n",
    "result_json = result.json()\n",
    "data = pd.json_normalize(result_json)\n",
    "laneways = data.copy()\n",
    "#Rename Longitude and Latitude columns\n",
    "laneways = laneways.rename(columns = {'geo_point_2d.lon' : 'lon', 'geo_point_2d.lat' : 'lat'})\n",
    "print(laneways.shape)"
   ]
  },
  {
   "cell_type": "code",
   "execution_count": 5,
   "metadata": {},
   "outputs": [
    {
     "name": "stdout",
     "output_type": "stream",
     "text": [
      "(76928, 22)\n"
     ]
    }
   ],
   "source": [
    "#Extract urban forest data \n",
    "session = requests.Session()\n",
    "base = 'https://data.melbourne.vic.gov.au/api/v2/catalog/datasets/'\n",
    "url = 'trees-with-species-and-dimensions-urban-forest'\n",
    "\n",
    "target_url = f'{base}{url}/exports/json'\n",
    "result = session.get(target_url)\n",
    "result_json = result.json()\n",
    "data = pd.json_normalize(result_json)\n",
    "uf = data.copy()\n",
    "#Rename Longitude and Latitude columns\n",
    "uf = uf.rename(columns = {'coordinatelocation.lon' : 'lon', 'coordinatelocation.lat' : 'lat'})\n",
    "print(uf.shape)"
   ]
  },
  {
   "cell_type": "code",
   "execution_count": 6,
   "metadata": {},
   "outputs": [
    {
     "name": "stdout",
     "output_type": "stream",
     "text": [
      "(628, 6)\n"
     ]
    }
   ],
   "source": [
    "#Extract energy consumption projection data \n",
    "session = requests.Session()\n",
    "base = 'https://data.melbourne.vic.gov.au/api/v2/catalog/datasets/'\n",
    "url = 'block-level-energy-consumption-modelled-on-building-attributes-2026-projection-r'\n",
    "\n",
    "target_url = f'{base}{url}/exports/json'\n",
    "result = session.get(target_url)\n",
    "result_json = result.json()\n",
    "data = pd.json_normalize(result_json)\n",
    "energy = data.copy()\n",
    "#Rename Longitude and Latitude columns\n",
    "energy = energy.rename(columns = {'geo_point_2d.lon' : 'lon', 'geo_point_2d.lat' : 'lat'})\n",
    "print(energy.shape)"
   ]
  },
  {
   "cell_type": "code",
   "execution_count": 7,
   "metadata": {
    "scrolled": true
   },
   "outputs": [
    {
     "name": "stdout",
     "output_type": "stream",
     "text": [
      "Location: 1 out of 246 , Latitude: -37.81980050254932 , Longitude: 144.9623447558369 , Number of trees: 29 , Total energy consumption projected: 0.0\n",
      "Location: 2 out of 246 , Latitude: -37.81097635318543 , Longitude: 144.97170834375964 , Number of trees: 41 , Total energy consumption projected: 35193.2513804\n",
      "Location: 3 out of 246 , Latitude: -37.81111151578862 , Longitude: 144.97244046374837 , Number of trees: 35 , Total energy consumption projected: 14548.8747872\n",
      "Location: 4 out of 246 , Latitude: -37.81161232134716 , Longitude: 144.97077449834737 , Number of trees: 54 , Total energy consumption projected: 14548.8747872\n",
      "Location: 5 out of 246 , Latitude: -37.8124734926234 , Longitude: 144.9713761243581 , Number of trees: 86 , Total energy consumption projected: 19579.5808423\n",
      "Location: 6 out of 246 , Latitude: -37.81304184241003 , Longitude: 144.97240833983707 , Number of trees: 69 , Total energy consumption projected: 41492.609660500006\n",
      "Location: 7 out of 246 , Latitude: -37.81410455066066 , Longitude: 144.9736711005169 , Number of trees: 47 , Total energy consumption projected: 42592.5902118\n",
      "Location: 8 out of 246 , Latitude: -37.81521836330808 , Longitude: 144.97342323779137 , Number of trees: 37 , Total energy consumption projected: 25271.6016014\n",
      "Location: 9 out of 246 , Latitude: -37.81560584167807 , Longitude: 144.9716292036106 , Number of trees: 61 , Total energy consumption projected: 17847.0083006\n",
      "Location: 10 out of 246 , Latitude: -37.81363663807256 , Longitude: 144.97030218968666 , Number of trees: 57 , Total energy consumption projected: 102888.98894030001\n",
      "Location: 11 out of 246 , Latitude: -37.81318089121382 , Longitude: 144.96918657126457 , Number of trees: 24 , Total energy consumption projected: 46079.3783362\n",
      "Location: 12 out of 246 , Latitude: -37.811631479265266 , Longitude: 144.96996732732396 , Number of trees: 36 , Total energy consumption projected: 11453.6967677\n",
      "Location: 13 out of 246 , Latitude: -37.81096554046618 , Longitude: 144.9691457959443 , Number of trees: 34 , Total energy consumption projected: 12549.3691011\n",
      "Location: 14 out of 246 , Latitude: -37.81018788400599 , Longitude: 144.9673441983146 , Number of trees: 29 , Total energy consumption projected: 16577.1191875\n",
      "Location: 15 out of 246 , Latitude: -37.808928701105636 , Longitude: 144.96845133042902 , Number of trees: 39 , Total energy consumption projected: 5067.72739566\n",
      "Location: 16 out of 246 , Latitude: -37.811819833149336 , Longitude: 144.9653517247358 , Number of trees: 41 , Total energy consumption projected: 10067.1734876\n",
      "Location: 17 out of 246 , Latitude: -37.81363559321624 , Longitude: 144.9673143038117 , Number of trees: 40 , Total energy consumption projected: 14733.9824582\n",
      "Location: 18 out of 246 , Latitude: -37.81638689912868 , Longitude: 144.9690855012813 , Number of trees: 28 , Total energy consumption projected: 20653.5903356\n",
      "Location: 19 out of 246 , Latitude: -37.816437955439866 , Longitude: 144.968922695136 , Number of trees: 26 , Total energy consumption projected: 20653.5903356\n",
      "Location: 20 out of 246 , Latitude: -37.816833769769204 , Longitude: 144.96650432144628 , Number of trees: 29 , Total energy consumption projected: 41905.5776702\n",
      "Location: 21 out of 246 , Latitude: -37.817277292447365 , Longitude: 144.9660029303524 , Number of trees: 3 , Total energy consumption projected: 18230.4802797\n",
      "Location: 22 out of 246 , Latitude: -37.817339881748865 , Longitude: 144.96578935360571 , Number of trees: 7 , Total energy consumption projected: 18230.4802797\n",
      "Location: 23 out of 246 , Latitude: -37.8172843757446 , Longitude: 144.96517912329656 , Number of trees: 11 , Total energy consumption projected: 18230.4802797\n",
      "Location: 24 out of 246 , Latitude: -37.816440023811005 , Longitude: 144.9660849351429 , Number of trees: 39 , Total energy consumption projected: 41905.5776702\n",
      "Location: 25 out of 246 , Latitude: -37.81531786344816 , Longitude: 144.96412508085777 , Number of trees: 11 , Total energy consumption projected: 22055.8544383\n",
      "Location: 26 out of 246 , Latitude: -37.81524339834998 , Longitude: 144.96455112659987 , Number of trees: 11 , Total energy consumption projected: 34141.7386981\n",
      "Location: 27 out of 246 , Latitude: -37.81496076902029 , Longitude: 144.9655933228601 , Number of trees: 31 , Total energy consumption projected: 22055.8544383\n",
      "Location: 28 out of 246 , Latitude: -37.81283231518697 , Longitude: 144.96485753421675 , Number of trees: 30 , Total energy consumption projected: 0\n",
      "Location: 29 out of 246 , Latitude: -37.8122331277934 , Longitude: 144.96450529272983 , Number of trees: 32 , Total energy consumption projected: 93257.351728\n",
      "Location: 30 out of 246 , Latitude: -37.81120874607432 , Longitude: 144.96385829677484 , Number of trees: 39 , Total energy consumption projected: 93257.351728\n",
      "Location: 31 out of 246 , Latitude: -37.810511430101 , Longitude: 144.96354768190554 , Number of trees: 36 , Total energy consumption projected: 0\n",
      "Location: 32 out of 246 , Latitude: -37.811082793916796 , Longitude: 144.96080159509805 , Number of trees: 22 , Total energy consumption projected: 8558.4742424\n",
      "Location: 33 out of 246 , Latitude: -37.81364143485823 , Longitude: 144.95967769583882 , Number of trees: 48 , Total energy consumption projected: 8517.71960727\n",
      "Location: 34 out of 246 , Latitude: -37.81479726899315 , Longitude: 144.96010852358677 , Number of trees: 36 , Total energy consumption projected: 34116.0190985\n",
      "Location: 35 out of 246 , Latitude: -37.814683887787545 , Longitude: 144.9588906580676 , Number of trees: 33 , Total energy consumption projected: 42633.73870577\n",
      "Location: 36 out of 246 , Latitude: -37.81497705914173 , Longitude: 144.95845989409705 , Number of trees: 50 , Total energy consumption projected: 34116.0190985\n",
      "Location: 37 out of 246 , Latitude: -37.81505553768235 , Longitude: 144.9582828280556 , Number of trees: 53 , Total energy consumption projected: 34116.0190985\n",
      "Location: 38 out of 246 , Latitude: -37.81637435216704 , Longitude: 144.96046496953696 , Number of trees: 46 , Total energy consumption projected: 59749.35430969999\n",
      "Location: 39 out of 246 , Latitude: -37.81697722216005 , Longitude: 144.959485810845 , Number of trees: 44 , Total energy consumption projected: 24166.5861585\n",
      "Location: 40 out of 246 , Latitude: -37.81194262812994 , Longitude: 144.9609229814977 , Number of trees: 26 , Total energy consumption projected: 40391.162813899995\n",
      "Location: 41 out of 246 , Latitude: -37.81310137820415 , Longitude: 144.96198155668426 , Number of trees: 34 , Total energy consumption projected: 14613.5572945\n",
      "Location: 42 out of 246 , Latitude: -37.813735162366505 , Longitude: 144.9624979570203 , Number of trees: 27 , Total energy consumption projected: 10043.8624641\n",
      "Location: 43 out of 246 , Latitude: -37.8137809735933 , Longitude: 144.96166455721152 , Number of trees: 16 , Total energy consumption projected: 24657.4197586\n",
      "Location: 44 out of 246 , Latitude: -37.81528156146977 , Longitude: 144.96173953568237 , Number of trees: 36 , Total energy consumption projected: 57196.1563539\n",
      "Location: 45 out of 246 , Latitude: -37.81522401449075 , Longitude: 144.96270583856173 , Number of trees: 20 , Total energy consumption projected: 106229.4206728\n",
      "Location: 46 out of 246 , Latitude: -37.81593175883032 , Longitude: 144.9624004738762 , Number of trees: 31 , Total energy consumption projected: 106229.4206728\n",
      "Location: 47 out of 246 , Latitude: -37.81602777672109 , Longitude: 144.961858207876 , Number of trees: 45 , Total energy consumption projected: 49033.2643189\n",
      "Location: 48 out of 246 , Latitude: -37.817199920431165 , Longitude: 144.96372396866002 , Number of trees: 18 , Total energy consumption projected: 64686.6491142\n",
      "Location: 49 out of 246 , Latitude: -37.81776601260828 , Longitude: 144.9644701544366 , Number of trees: 11 , Total energy consumption projected: 34118.0082309\n",
      "Location: 50 out of 246 , Latitude: -37.81820807553832 , Longitude: 144.96278099354788 , Number of trees: 31 , Total energy consumption projected: 34118.0082309\n",
      "Location: 51 out of 246 , Latitude: -37.817688637627505 , Longitude: 144.96142118297337 , Number of trees: 54 , Total energy consumption projected: 22061.06701164\n",
      "Location: 52 out of 246 , Latitude: -37.813316564957894 , Longitude: 144.95622231595837 , Number of trees: 22 , Total energy consumption projected: 12867.8525235\n",
      "Location: 53 out of 246 , Latitude: -37.81445067539735 , Longitude: 144.95696234059736 , Number of trees: 39 , Total energy consumption projected: 17592.0490442\n",
      "Location: 54 out of 246 , Latitude: -37.81488075904122 , Longitude: 144.95548424957065 , Number of trees: 32 , Total energy consumption projected: 17592.0490442\n",
      "Location: 55 out of 246 , Latitude: -37.81676041377433 , Longitude: 144.9565316258329 , Number of trees: 43 , Total energy consumption projected: 27559.1049338\n",
      "Location: 56 out of 246 , Latitude: -37.81734946853748 , Longitude: 144.95821608690858 , Number of trees: 52 , Total energy consumption projected: 34206.6705085\n",
      "Location: 57 out of 246 , Latitude: -37.81739031205376 , Longitude: 144.9571657633738 , Number of trees: 44 , Total energy consumption projected: 61765.7754423\n",
      "Location: 58 out of 246 , Latitude: -37.818984126275495 , Longitude: 144.95739637072802 , Number of trees: 41 , Total energy consumption projected: 42156.7045468\n",
      "Location: 59 out of 246 , Latitude: -37.81963370613525 , Longitude: 144.95802323076245 , Number of trees: 38 , Total energy consumption projected: 27631.9151016\n",
      "Location: 60 out of 246 , Latitude: -37.81954117327879 , Longitude: 144.95814655276035 , Number of trees: 40 , Total energy consumption projected: 27631.9151016\n",
      "Location: 61 out of 246 , Latitude: -37.8200790748199 , Longitude: 144.95689895741233 , Number of trees: 40 , Total energy consumption projected: 12942.9266537\n",
      "Location: 62 out of 246 , Latitude: -37.82011600297684 , Longitude: 144.9565343730053 , Number of trees: 39 , Total energy consumption projected: 12942.9266537\n",
      "Location: 63 out of 246 , Latitude: -37.82027880943805 , Longitude: 144.95574545353142 , Number of trees: 35 , Total energy consumption projected: 12942.9266537\n",
      "Location: 64 out of 246 , Latitude: -37.819764909598696 , Longitude: 144.95678115855074 , Number of trees: 41 , Total energy consumption projected: 12942.9266537\n",
      "Location: 65 out of 246 , Latitude: -37.81604819466985 , Longitude: 144.95454175904922 , Number of trees: 24 , Total energy consumption projected: 14071.278243\n",
      "Location: 66 out of 246 , Latitude: -37.81336268612127 , Longitude: 144.95366296666123 , Number of trees: 31 , Total energy consumption projected: 8596.09512059\n",
      "Location: 67 out of 246 , Latitude: -37.813098677911036 , Longitude: 144.9537692541663 , Number of trees: 32 , Total energy consumption projected: 8596.09512059\n",
      "Location: 68 out of 246 , Latitude: -37.810100678849565 , Longitude: 144.97061722203512 , Number of trees: 56 , Total energy consumption projected: 75081.4700213\n",
      "Location: 69 out of 246 , Latitude: -37.81109181824087 , Longitude: 144.95686225824505 , Number of trees: 49 , Total energy consumption projected: 11476.2359505\n",
      "Location: 70 out of 246 , Latitude: -37.810461362738046 , Longitude: 144.95794177940672 , Number of trees: 54 , Total energy consumption projected: 10582.7629347\n",
      "Location: 71 out of 246 , Latitude: -37.80804153774292 , Longitude: 144.96757914799085 , Number of trees: 28 , Total energy consumption projected: 8539.54366351\n",
      "Location: 72 out of 246 , Latitude: -37.809574187684454 , Longitude: 144.96249136310982 , Number of trees: 20 , Total energy consumption projected: 9469.41336374\n",
      "Location: 73 out of 246 , Latitude: -37.81477253709165 , Longitude: 144.95568011260008 , Number of trees: 32 , Total energy consumption projected: 17592.0490442\n",
      "Location: 74 out of 246 , Latitude: -37.81124523135607 , Longitude: 144.9629516862615 , Number of trees: 25 , Total energy consumption projected: 93257.351728\n",
      "Location: 75 out of 246 , Latitude: -37.81452312073989 , Longitude: 144.966997043321 , Number of trees: 35 , Total energy consumption projected: 30428.6756622\n",
      "Location: 76 out of 246 , Latitude: -37.81119641212291 , Longitude: 144.97194522260708 , Number of trees: 47 , Total energy consumption projected: 14548.8747872\n",
      "Location: 77 out of 246 , Latitude: -37.80981203103341 , Longitude: 144.9715932336254 , Number of trees: 57 , Total energy consumption projected: 20644.3765932\n",
      "Location: 78 out of 246 , Latitude: -37.81261588548371 , Longitude: 144.967462431471 , Number of trees: 30 , Total energy consumption projected: 12629.1085681\n",
      "Location: 79 out of 246 , Latitude: -37.81332555540913 , Longitude: 144.97243815994796 , Number of trees: 62 , Total energy consumption projected: 21913.0288182\n",
      "Location: 80 out of 246 , Latitude: -37.808798598420246 , Longitude: 144.9616871375218 , Number of trees: 30 , Total energy consumption projected: 22150.020502239997\n",
      "Location: 81 out of 246 , Latitude: -37.807613165711366 , Longitude: 144.960765316124 , Number of trees: 34 , Total energy consumption projected: 21255.6097113\n",
      "Location: 82 out of 246 , Latitude: -37.815810557823596 , Longitude: 144.95986079172638 , Number of trees: 36 , Total energy consumption projected: 35582.7681512\n",
      "Location: 83 out of 246 , Latitude: -37.81535672343349 , Longitude: 144.95569265063773 , Number of trees: 39 , Total energy consumption projected: 53825.5126671\n",
      "Location: 84 out of 246 , Latitude: -37.81037958674067 , Longitude: 144.97089952599487 , Number of trees: 59 , Total energy consumption projected: 20644.3765932\n",
      "Location: 85 out of 246 , Latitude: -37.810217121848865 , Longitude: 144.97162762401734 , Number of trees: 53 , Total energy consumption projected: 20644.3765932\n",
      "Location: 86 out of 246 , Latitude: -37.81077581774339 , Longitude: 144.97188375120993 , Number of trees: 41 , Total energy consumption projected: 35193.2513804\n",
      "Location: 87 out of 246 , Latitude: -37.811226042417026 , Longitude: 144.97139352262127 , Number of trees: 47 , Total energy consumption projected: 14548.8747872\n",
      "Location: 88 out of 246 , Latitude: -37.8131805651399 , Longitude: 144.97156163273422 , Number of trees: 73 , Total energy consumption projected: 21913.0288182\n",
      "Location: 89 out of 246 , Latitude: -37.812714034948 , Longitude: 144.9732382331711 , Number of trees: 51 , Total energy consumption projected: 21913.0288182\n",
      "Location: 90 out of 246 , Latitude: -37.815866684899426 , Longitude: 144.97038374615923 , Number of trees: 45 , Total energy consumption projected: 17847.0083006\n",
      "Location: 91 out of 246 , Latitude: -37.816070884780686 , Longitude: 144.97010070091366 , Number of trees: 39 , Total energy consumption projected: 17847.0083006\n",
      "Location: 92 out of 246 , Latitude: -37.815043593615314 , Longitude: 144.9694430083061 , Number of trees: 46 , Total energy consumption projected: 37834.6180427\n",
      "Location: 93 out of 246 , Latitude: -37.814860662335775 , Longitude: 144.97123717171658 , Number of trees: 50 , Total energy consumption projected: 37834.6180427\n",
      "Location: 94 out of 246 , Latitude: -37.81325469434872 , Longitude: 144.96873339216515 , Number of trees: 30 , Total energy consumption projected: 46079.3783362\n",
      "Location: 95 out of 246 , Latitude: -37.8113357078086 , Longitude: 144.96869835348167 , Number of trees: 9 , Total energy consumption projected: 24003.065868799997\n",
      "Location: 96 out of 246 , Latitude: -37.81112570199548 , Longitude: 144.96876012887915 , Number of trees: 22 , Total energy consumption projected: 24003.065868799997\n",
      "Location: 97 out of 246 , Latitude: -37.81047263684767 , Longitude: 144.96932760907043 , Number of trees: 46 , Total energy consumption projected: 12549.3691011\n",
      "Location: 98 out of 246 , Latitude: -37.809814704774496 , Longitude: 144.9686183570954 , Number of trees: 41 , Total energy consumption projected: 16577.1191875\n",
      "Location: 99 out of 246 , Latitude: -37.808962433086066 , Longitude: 144.9686829724722 , Number of trees: 41 , Total energy consumption projected: 5067.72739566\n",
      "Location: 100 out of 246 , Latitude: -37.80891911143074 , Longitude: 144.96820381786043 , Number of trees: 36 , Total energy consumption projected: 5067.72739566\n",
      "Location: 101 out of 246 , Latitude: -37.80927255305554 , Longitude: 144.96695006791515 , Number of trees: 30 , Total energy consumption projected: 5067.72739566\n",
      "Location: 102 out of 246 , Latitude: -37.811503452175096 , Longitude: 144.96706520083916 , Number of trees: 36 , Total energy consumption projected: 10067.1734876\n",
      "Location: 103 out of 246 , Latitude: -37.81181924077914 , Longitude: 144.9662543134082 , Number of trees: 24 , Total energy consumption projected: 22696.2820557\n",
      "Location: 104 out of 246 , Latitude: -37.81236603080382 , Longitude: 144.96745507745138 , Number of trees: 29 , Total energy consumption projected: 12629.1085681\n",
      "Location: 105 out of 246 , Latitude: -37.81227101185166 , Longitude: 144.9670624811988 , Number of trees: 27 , Total energy consumption projected: 22696.2820557\n",
      "Location: 106 out of 246 , Latitude: -37.8122351726817 , Longitude: 144.9668849462853 , Number of trees: 18 , Total energy consumption projected: 22696.2820557\n",
      "Location: 107 out of 246 , Latitude: -37.815770514528744 , Longitude: 144.96807420840344 , Number of trees: 18 , Total energy consumption projected: 51948.2491917\n",
      "Location: 108 out of 246 , Latitude: -37.81721251515046 , Longitude: 144.96538877094625 , Number of trees: 11 , Total energy consumption projected: 41905.5776702\n",
      "Location: 109 out of 246 , Latitude: -37.816552460452876 , Longitude: 144.96545353140812 , Number of trees: 22 , Total energy consumption projected: 41905.5776702\n",
      "Location: 110 out of 246 , Latitude: -37.81515149775422 , Longitude: 144.9651313656219 , Number of trees: 20 , Total energy consumption projected: 34141.7386981\n",
      "Location: 111 out of 246 , Latitude: -37.814459961312124 , Longitude: 144.96512380211735 , Number of trees: 25 , Total energy consumption projected: 34141.7386981\n",
      "Location: 112 out of 246 , Latitude: -37.81425396234533 , Longitude: 144.96551925271615 , Number of trees: 34 , Total energy consumption projected: 12085.8842598\n",
      "Location: 113 out of 246 , Latitude: -37.81311665324148 , Longitude: 144.96455086424254 , Number of trees: 27 , Total energy consumption projected: 0\n",
      "Location: 114 out of 246 , Latitude: -37.81113906039378 , Longitude: 144.96406312182154 , Number of trees: 44 , Total energy consumption projected: 0\n",
      "Location: 115 out of 246 , Latitude: -37.81100772543578 , Longitude: 144.9637645863644 , Number of trees: 38 , Total energy consumption projected: 0\n",
      "Location: 116 out of 246 , Latitude: -37.811294962572816 , Longitude: 144.96003291730977 , Number of trees: 30 , Total energy consumption projected: 8558.4742424\n",
      "Location: 117 out of 246 , Latitude: -37.81195697118721 , Longitude: 144.95842907268548 , Number of trees: 37 , Total energy consumption projected: 22503.46057304\n",
      "Location: 118 out of 246 , Latitude: -37.81288655222083 , Longitude: 144.9585839756677 , Number of trees: 41 , Total energy consumption projected: 17370.8076364\n",
      "Location: 119 out of 246 , Latitude: -37.81434588510203 , Longitude: 144.95974778709353 , Number of trees: 37 , Total energy consumption projected: 42633.73870577\n",
      "Location: 120 out of 246 , Latitude: -37.814713446937354 , Longitude: 144.959365686083 , Number of trees: 42 , Total energy consumption projected: 34116.0190985\n",
      "Location: 121 out of 246 , Latitude: -37.81668311746074 , Longitude: 144.95967498096383 , Number of trees: 33 , Total energy consumption projected: 59749.35430969999\n",
      "Location: 122 out of 246 , Latitude: -37.81179252091795 , Longitude: 144.96145629110254 , Number of trees: 30 , Total energy consumption projected: 31832.6885715\n",
      "Location: 123 out of 246 , Latitude: -37.8121714527127 , Longitude: 144.9605637989974 , Number of trees: 41 , Total energy consumption projected: 31832.6885715\n",
      "Location: 124 out of 246 , Latitude: -37.81327834872983 , Longitude: 144.9616783818041 , Number of trees: 28 , Total energy consumption projected: 24657.4197586\n",
      "Location: 125 out of 246 , Latitude: -37.813481152611836 , Longitude: 144.96071921330733 , Number of trees: 45 , Total energy consumption projected: 14613.5572945\n",
      "Location: 126 out of 246 , Latitude: -37.81382053335725 , Longitude: 144.9621722247973 , Number of trees: 24 , Total energy consumption projected: 10043.8624641\n",
      "Location: 127 out of 246 , Latitude: -37.81386196353888 , Longitude: 144.96194119821186 , Number of trees: 23 , Total energy consumption projected: 24657.4197586\n",
      "Location: 128 out of 246 , Latitude: -37.814139526354815 , Longitude: 144.9614681922904 , Number of trees: 25 , Total energy consumption projected: 10043.8624641\n",
      "Location: 129 out of 246 , Latitude: -37.81417691097461 , Longitude: 144.96114774652452 , Number of trees: 34 , Total energy consumption projected: 10043.8624641\n",
      "Location: 130 out of 246 , Latitude: -37.817244932826426 , Longitude: 144.96301317553295 , Number of trees: 32 , Total energy consumption projected: 64686.6491142\n",
      "Location: 131 out of 246 , Latitude: -37.81774881340534 , Longitude: 144.96432068731727 , Number of trees: 11 , Total energy consumption projected: 34118.0082309\n",
      "Location: 132 out of 246 , Latitude: -37.817647102746875 , Longitude: 144.9639285753139 , Number of trees: 9 , Total energy consumption projected: 64686.6491142\n",
      "Location: 133 out of 246 , Latitude: -37.81848742506025 , Longitude: 144.96164025970833 , Number of trees: 40 , Total energy consumption projected: 9360.41210454\n",
      "Location: 134 out of 246 , Latitude: -37.81274968140071 , Longitude: 144.95557759699858 , Number of trees: 23 , Total energy consumption projected: 40173.091497299996\n",
      "Location: 135 out of 246 , Latitude: -37.81272540384329 , Longitude: 144.9552110178304 , Number of trees: 32 , Total energy consumption projected: 27305.2389738\n",
      "Location: 136 out of 246 , Latitude: -37.81283327377191 , Longitude: 144.95470375589997 , Number of trees: 38 , Total energy consumption projected: 27305.2389738\n",
      "Location: 137 out of 246 , Latitude: -37.8135247555415 , Longitude: 144.95580894305417 , Number of trees: 18 , Total energy consumption projected: 12867.8525235\n",
      "Location: 138 out of 246 , Latitude: -37.813157519841646 , Longitude: 144.956467534624 , Number of trees: 24 , Total energy consumption projected: 12867.8525235\n",
      "Location: 139 out of 246 , Latitude: -37.81654155142347 , Longitude: 144.95728722207423 , Number of trees: 49 , Total energy consumption projected: 27559.1049338\n",
      "Location: 140 out of 246 , Latitude: -37.817468209169334 , Longitude: 144.95766420142033 , Number of trees: 44 , Total energy consumption projected: 34206.6705085\n",
      "Location: 141 out of 246 , Latitude: -37.81597970168963 , Longitude: 144.9550350462116 , Number of trees: 28 , Total energy consumption projected: 14071.278243\n",
      "Location: 142 out of 246 , Latitude: -37.81523292318083 , Longitude: 144.95416746963403 , Number of trees: 12 , Total energy consumption projected: 7532.24818169\n",
      "Location: 143 out of 246 , Latitude: -37.81375860365229 , Longitude: 144.95411623616334 , Number of trees: 28 , Total energy consumption projected: 21238.321606\n",
      "Location: 144 out of 246 , Latitude: -37.81345477331178 , Longitude: 144.95342725801962 , Number of trees: 24 , Total energy consumption projected: 29834.416726590003\n",
      "Location: 145 out of 246 , Latitude: -37.81713959638289 , Longitude: 144.95803438474277 , Number of trees: 53 , Total energy consumption projected: 61765.7754423\n",
      "Location: 146 out of 246 , Latitude: -37.80766995107844 , Longitude: 144.9680242507245 , Number of trees: 34 , Total energy consumption projected: 8539.54366351\n",
      "Location: 147 out of 246 , Latitude: -37.807874533479186 , Longitude: 144.96719168157594 , Number of trees: 22 , Total energy consumption projected: 9590.851278889999\n",
      "Location: 148 out of 246 , Latitude: -37.807868542290684 , Longitude: 144.9667625802273 , Number of trees: 39 , Total energy consumption projected: 9590.851278889999\n",
      "Location: 149 out of 246 , Latitude: -37.80825704076604 , Longitude: 144.96229519445652 , Number of trees: 29 , Total energy consumption projected: 12680.6071385\n",
      "Location: 150 out of 246 , Latitude: -37.8092052807982 , Longitude: 144.96224533961347 , Number of trees: 25 , Total energy consumption projected: 22150.020502239997\n",
      "Location: 151 out of 246 , Latitude: -37.81059550083191 , Longitude: 144.95911816016283 , Number of trees: 40 , Total energy consumption projected: 20176.2521127\n",
      "Location: 152 out of 246 , Latitude: -37.81532410339944 , Longitude: 144.95738250359312 , Number of trees: 46 , Total energy consumption projected: 53825.5126671\n",
      "Location: 153 out of 246 , Latitude: -37.812892966824165 , Longitude: 144.97243830492508 , Number of trees: 61 , Total energy consumption projected: 41492.609660500006\n",
      "Location: 154 out of 246 , Latitude: -37.81593137617615 , Longitude: 144.96023905827192 , Number of trees: 48 , Total energy consumption projected: 59749.35430969999\n",
      "Location: 155 out of 246 , Latitude: -37.813761236886755 , Longitude: 144.96151358975985 , Number of trees: 14 , Total energy consumption projected: 24657.4197586\n",
      "Location: 156 out of 246 , Latitude: -37.815212125832595 , Longitude: 144.97267324944883 , Number of trees: 60 , Total energy consumption projected: 25271.6016014\n",
      "Location: 157 out of 246 , Latitude: -37.81289266958999 , Longitude: 144.97338626335969 , Number of trees: 44 , Total energy consumption projected: 21913.0288182\n",
      "Location: 158 out of 246 , Latitude: -37.80875417866908 , Longitude: 144.97090512754946 , Number of trees: 28 , Total energy consumption projected: 56435.29818538\n",
      "Location: 159 out of 246 , Latitude: -37.80880126515651 , Longitude: 144.97106863634434 , Number of trees: 44 , Total energy consumption projected: 56435.29818538\n",
      "Location: 160 out of 246 , Latitude: -37.81034170711123 , Longitude: 144.97192733483007 , Number of trees: 45 , Total energy consumption projected: 35193.2513804\n",
      "Location: 161 out of 246 , Latitude: -37.81674801251833 , Longitude: 144.96800192126963 , Number of trees: 29 , Total energy consumption projected: 20653.5903356\n",
      "Location: 162 out of 246 , Latitude: -37.808893073302414 , Longitude: 144.96135266168625 , Number of trees: 32 , Total energy consumption projected: 12680.6071385\n",
      "Location: 163 out of 246 , Latitude: -37.80743440633362 , Longitude: 144.96794349212385 , Number of trees: 29 , Total energy consumption projected: 8539.54366351\n",
      "Location: 164 out of 246 , Latitude: -37.811312355458725 , Longitude: 144.97106967426805 , Number of trees: 58 , Total energy consumption projected: 14548.8747872\n",
      "Location: 165 out of 246 , Latitude: -37.812062778388146 , Longitude: 144.9726904738642 , Number of trees: 55 , Total energy consumption projected: 19579.5808423\n",
      "Location: 166 out of 246 , Latitude: -37.812200122969514 , Longitude: 144.9722726519847 , Number of trees: 69 , Total energy consumption projected: 19579.5808423\n",
      "Location: 167 out of 246 , Latitude: -37.81299489178982 , Longitude: 144.97186299342198 , Number of trees: 79 , Total energy consumption projected: 41492.609660500006\n",
      "Location: 168 out of 246 , Latitude: -37.81291772360056 , Longitude: 144.97284822191173 , Number of trees: 64 , Total energy consumption projected: 21913.0288182\n",
      "Location: 169 out of 246 , Latitude: -37.81486555746091 , Longitude: 144.9741255712408 , Number of trees: 39 , Total energy consumption projected: 25271.6016014\n",
      "Location: 170 out of 246 , Latitude: -37.81556813104544 , Longitude: 144.9713012962928 , Number of trees: 60 , Total energy consumption projected: 17847.0083006\n",
      "Location: 171 out of 246 , Latitude: -37.81565225265017 , Longitude: 144.97093032525657 , Number of trees: 39 , Total energy consumption projected: 55681.6263433\n",
      "Location: 172 out of 246 , Latitude: -37.815010365366625 , Longitude: 144.97026802181446 , Number of trees: 49 , Total energy consumption projected: 37834.6180427\n",
      "Location: 173 out of 246 , Latitude: -37.81450170729136 , Longitude: 144.97128718168483 , Number of trees: 55 , Total energy consumption projected: 37834.6180427\n",
      "Location: 174 out of 246 , Latitude: -37.81388085097895 , Longitude: 144.970002281767 , Number of trees: 36 , Total energy consumption projected: 56809.6106041\n",
      "Location: 175 out of 246 , Latitude: -37.811846184146255 , Longitude: 144.96930164317203 , Number of trees: 22 , Total energy consumption projected: 11453.6967677\n",
      "Location: 176 out of 246 , Latitude: -37.81186744205427 , Longitude: 144.9690242022624 , Number of trees: 16 , Total energy consumption projected: 11453.6967677\n",
      "Location: 177 out of 246 , Latitude: -37.81164146216171 , Longitude: 144.96873504016077 , Number of trees: 10 , Total energy consumption projected: 24003.065868799997\n",
      "Location: 178 out of 246 , Latitude: -37.81203165865674 , Longitude: 144.9686727236111 , Number of trees: 23 , Total energy consumption projected: 11453.6967677\n",
      "Location: 179 out of 246 , Latitude: -37.81199395451558 , Longitude: 144.96839736007794 , Number of trees: 24 , Total energy consumption projected: 11453.6967677\n",
      "Location: 180 out of 246 , Latitude: -37.81111808221134 , Longitude: 144.96770214537466 , Number of trees: 37 , Total energy consumption projected: 12549.3691011\n",
      "Location: 181 out of 246 , Latitude: -37.81121896258666 , Longitude: 144.96830248372038 , Number of trees: 32 , Total energy consumption projected: 12549.3691011\n",
      "Location: 182 out of 246 , Latitude: -37.809070759197056 , Longitude: 144.96780415838268 , Number of trees: 22 , Total energy consumption projected: 5067.72739566\n",
      "Location: 183 out of 246 , Latitude: -37.8092614609602 , Longitude: 144.96738352989738 , Number of trees: 32 , Total energy consumption projected: 5067.72739566\n",
      "Location: 184 out of 246 , Latitude: -37.811622558943256 , Longitude: 144.96665168266972 , Number of trees: 34 , Total energy consumption projected: 10067.1734876\n",
      "Location: 185 out of 246 , Latitude: -37.8119212879997 , Longitude: 144.965582443831 , Number of trees: 39 , Total energy consumption projected: 10067.1734876\n",
      "Location: 186 out of 246 , Latitude: -37.812182004124956 , Longitude: 144.96554618976265 , Number of trees: 33 , Total energy consumption projected: 10067.1734876\n",
      "Location: 187 out of 246 , Latitude: -37.81255972303171 , Longitude: 144.96663010717896 , Number of trees: 19 , Total energy consumption projected: 22696.2820557\n",
      "Location: 188 out of 246 , Latitude: -37.81265308586931 , Longitude: 144.96570181648684 , Number of trees: 36 , Total energy consumption projected: 12629.1085681\n",
      "Location: 189 out of 246 , Latitude: -37.81375221918104 , Longitude: 144.9668995155727 , Number of trees: 46 , Total energy consumption projected: 14733.9824582\n",
      "Location: 190 out of 246 , Latitude: -37.813998405447016 , Longitude: 144.96631621514925 , Number of trees: 48 , Total energy consumption projected: 14733.9824582\n",
      "Location: 191 out of 246 , Latitude: -37.814540467211934 , Longitude: 144.9674685834403 , Number of trees: 26 , Total energy consumption projected: 30428.6756622\n",
      "Location: 192 out of 246 , Latitude: -37.81684310938986 , Longitude: 144.9663646628278 , Number of trees: 25 , Total energy consumption projected: 41905.5776702\n",
      "Location: 193 out of 246 , Latitude: -37.81625729975984 , Longitude: 144.96645933847927 , Number of trees: 41 , Total energy consumption projected: 23675.0973905\n",
      "Location: 194 out of 246 , Latitude: -37.815466618658434 , Longitude: 144.9643638871223 , Number of trees: 17 , Total energy consumption projected: 22055.8544383\n",
      "Location: 195 out of 246 , Latitude: -37.815136745569795 , Longitude: 144.96546528286152 , Number of trees: 29 , Total energy consumption projected: 22055.8544383\n",
      "Location: 196 out of 246 , Latitude: -37.81453505593018 , Longitude: 144.9643264084841 , Number of trees: 9 , Total energy consumption projected: 12085.8842598\n",
      "Location: 197 out of 246 , Latitude: -37.814399761923944 , Longitude: 144.9647515708548 , Number of trees: 16 , Total energy consumption projected: 12085.8842598\n",
      "Location: 198 out of 246 , Latitude: -37.81295591658134 , Longitude: 144.963020448098 , Number of trees: 17 , Total energy consumption projected: 0\n",
      "Location: 199 out of 246 , Latitude: -37.81140603994133 , Longitude: 144.96398614233215 , Number of trees: 44 , Total energy consumption projected: 93257.351728\n",
      "Location: 200 out of 246 , Latitude: -37.81107211875846 , Longitude: 144.96009641017997 , Number of trees: 24 , Total energy consumption projected: 8558.4742424\n",
      "Location: 201 out of 246 , Latitude: -37.81143661165109 , Longitude: 144.96025816014517 , Number of trees: 21 , Total energy consumption projected: 40391.162813899995\n",
      "Location: 202 out of 246 , Latitude: -37.81445017766827 , Longitude: 144.95965312776522 , Number of trees: 35 , Total energy consumption projected: 42633.73870577\n",
      "Location: 203 out of 246 , Latitude: -37.81611345293064 , Longitude: 144.95933810898964 , Number of trees: 33 , Total energy consumption projected: 59749.35430969999\n",
      "Location: 204 out of 246 , Latitude: -37.81634100783601 , Longitude: 144.96075701875682 , Number of trees: 50 , Total energy consumption projected: 24166.5861585\n",
      "Location: 205 out of 246 , Latitude: -37.81662436680107 , Longitude: 144.9604014852698 , Number of trees: 48 , Total energy consumption projected: 24166.5861585\n",
      "Location: 206 out of 246 , Latitude: -37.81232803829519 , Longitude: 144.960047985896 , Number of trees: 52 , Total energy consumption projected: 31832.6885715\n",
      "Location: 207 out of 246 , Latitude: -37.8131179768624 , Longitude: 144.96146041692978 , Number of trees: 39 , Total energy consumption projected: 14613.5572945\n",
      "Location: 208 out of 246 , Latitude: -37.81322013799656 , Longitude: 144.96103700163818 , Number of trees: 47 , Total energy consumption projected: 14613.5572945\n",
      "Location: 209 out of 246 , Latitude: -37.81316822185592 , Longitude: 144.96028210934693 , Number of trees: 55 , Total energy consumption projected: 14613.5572945\n",
      "Location: 210 out of 246 , Latitude: -37.815582438708404 , Longitude: 144.9614105114917 , Number of trees: 45 , Total energy consumption projected: 57196.1563539\n",
      "Location: 211 out of 246 , Latitude: -37.81587907634075 , Longitude: 144.96320879536245 , Number of trees: 27 , Total energy consumption projected: 49033.2643189\n",
      "Location: 212 out of 246 , Latitude: -37.81748103944648 , Longitude: 144.96223748479332 , Number of trees: 41 , Total energy consumption projected: 43269.2957904\n",
      "Location: 213 out of 246 , Latitude: -37.81705022724468 , Longitude: 144.96401604954465 , Number of trees: 22 , Total energy consumption projected: 30568.6408833\n",
      "Location: 214 out of 246 , Latitude: -37.81984867154892 , Longitude: 144.9578825986701 , Number of trees: 38 , Total energy consumption projected: 27631.9151016\n",
      "Location: 215 out of 246 , Latitude: -37.818834732192755 , Longitude: 144.96126658202394 , Number of trees: 31 , Total energy consumption projected: 11345.386455310001\n",
      "Location: 216 out of 246 , Latitude: -37.81801103424856 , Longitude: 144.9609454968655 , Number of trees: 54 , Total energy consumption projected: 53319.461739440005\n",
      "Location: 217 out of 246 , Latitude: -37.81788034313359 , Longitude: 144.961240049609 , Number of trees: 62 , Total energy consumption projected: 22061.06701164\n",
      "Location: 218 out of 246 , Latitude: -37.81535295029374 , Longitude: 144.96038745128234 , Number of trees: 43 , Total energy consumption projected: 35582.7681512\n",
      "Location: 219 out of 246 , Latitude: -37.81265852382229 , Longitude: 144.9561807421683 , Number of trees: 20 , Total energy consumption projected: 27305.2389738\n",
      "Location: 220 out of 246 , Latitude: -37.81400371191351 , Longitude: 144.95506325236272 , Number of trees: 33 , Total energy consumption projected: 12867.8525235\n",
      "Location: 221 out of 246 , Latitude: -37.81368407590331 , Longitude: 144.95519418764638 , Number of trees: 32 , Total energy consumption projected: 12867.8525235\n",
      "Location: 222 out of 246 , Latitude: -37.814672188989995 , Longitude: 144.95606924108571 , Number of trees: 27 , Total energy consumption projected: 17592.0490442\n",
      "Location: 223 out of 246 , Latitude: -37.815444976696476 , Longitude: 144.95698136409075 , Number of trees: 44 , Total energy consumption projected: 53825.5126671\n",
      "Location: 224 out of 246 , Latitude: -37.81556411206914 , Longitude: 144.95651273561546 , Number of trees: 34 , Total energy consumption projected: 53825.5126671\n",
      "Location: 225 out of 246 , Latitude: -37.81675781807964 , Longitude: 144.95677846750684 , Number of trees: 47 , Total energy consumption projected: 27559.1049338\n",
      "Location: 226 out of 246 , Latitude: -37.81705815427994 , Longitude: 144.95829874000657 , Number of trees: 49 , Total energy consumption projected: 34206.6705085\n",
      "Location: 227 out of 246 , Latitude: -37.81939019475833 , Longitude: 144.9588910635486 , Number of trees: 47 , Total energy consumption projected: 27631.9151016\n",
      "Location: 228 out of 246 , Latitude: -37.81820110978195 , Longitude: 144.95515581469482 , Number of trees: 43 , Total energy consumption projected: 21186.5328532\n",
      "Location: 229 out of 246 , Latitude: -37.815131053785386 , Longitude: 144.9547019972304 , Number of trees: 24 , Total energy consumption projected: 7532.24818169\n",
      "Location: 230 out of 246 , Latitude: -37.81535738669452 , Longitude: 144.95447646152166 , Number of trees: 21 , Total energy consumption projected: 21603.52642469\n",
      "Location: 231 out of 246 , Latitude: -37.81558625091741 , Longitude: 144.95398767873985 , Number of trees: 4 , Total energy consumption projected: 21603.52642469\n",
      "Location: 232 out of 246 , Latitude: -37.813298814806174 , Longitude: 144.95203267710278 , Number of trees: 24 , Total energy consumption projected: 8596.09512059\n",
      "Location: 233 out of 246 , Latitude: -37.80919327198343 , Longitude: 144.95907535115865 , Number of trees: 62 , Total energy consumption projected: 6446.71987153\n",
      "Location: 234 out of 246 , Latitude: -37.80940546461835 , Longitude: 144.96233864480138 , Number of trees: 21 , Total energy consumption projected: 9469.41336374\n",
      "Location: 235 out of 246 , Latitude: -37.81602860198378 , Longitude: 144.96346829171765 , Number of trees: 32 , Total energy consumption projected: 49033.2643189\n",
      "Location: 236 out of 246 , Latitude: -37.819253504282024 , Longitude: 144.95632912990123 , Number of trees: 45 , Total energy consumption projected: 53551.7307634\n",
      "Location: 237 out of 246 , Latitude: -37.815770743514925 , Longitude: 144.96290788697897 , Number of trees: 27 , Total energy consumption projected: 106229.4206728\n",
      "Location: 238 out of 246 , Latitude: -37.81309137074721 , Longitude: 144.96047108406836 , Number of trees: 55 , Total energy consumption projected: 14613.5572945\n",
      "Location: 239 out of 246 , Latitude: -37.81696435459669 , Longitude: 144.96627899373402 , Number of trees: 20 , Total energy consumption projected: 41905.5776702\n",
      "Location: 240 out of 246 , Latitude: -37.813170613431005 , Longitude: 144.96406677587515 , Number of trees: 8 , Total energy consumption projected: 0\n",
      "Location: 241 out of 246 , Latitude: -37.81132913888725 , Longitude: 144.97208617369233 , Number of trees: 45 , Total energy consumption projected: 14548.8747872\n",
      "Location: 242 out of 246 , Latitude: -37.808732016172115 , Longitude: 144.9713271143983 , Number of trees: 58 , Total energy consumption projected: 55236.195228849\n",
      "Location: 243 out of 246 , Latitude: -37.811891568883624 , Longitude: 144.96646689470336 , Number of trees: 19 , Total energy consumption projected: 22696.2820557\n",
      "Location: 244 out of 246 , Latitude: -37.80980844948987 , Longitude: 144.96051751381623 , Number of trees: 41 , Total energy consumption projected: 20176.2521127\n",
      "Location: 245 out of 246 , Latitude: -37.807528190248966 , Longitude: 144.96798312015957 , Number of trees: 31 , Total energy consumption projected: 8539.54366351\n",
      "Location: 246 out of 246 , Latitude: -37.8091174792242 , Longitude: 144.97079029463796 , Number of trees: 29 , Total energy consumption projected: 54437.0934281\n"
     ]
    }
   ],
   "source": [
    "#Count number of trees in each greening location and its surrounding within the radius set\n",
    "#Set radius\n",
    "radius = 0.1 #KM\n",
    "location_count = len(laneways)\n",
    "\n",
    "#Filter Urban Forest dataset to include only trees within the bounding box\n",
    "#Create bounding box\n",
    "#Find Min and Max latitude and longitude of greening location\n",
    "max_lon = laneways['lon'].max()\n",
    "max_lat = laneways['lat'].max()\n",
    "min_lon = laneways['lon'].min()\n",
    "min_lat = laneways['lat'].min()\n",
    "\n",
    "#Find coordinate of bounding box \n",
    "b = [45, 135, 225, 315]\n",
    "d = radius\n",
    "\n",
    "#North East (NE) coordinate of bounding box\n",
    "origin = geopy.Point(max_lat, max_lon)\n",
    "destination = geopy.distance.geodesic(kilometers=d).destination(origin, b[0])\n",
    "NE_lat, NE_lon = destination.latitude, destination.longitude\n",
    "\n",
    "#South East (SE) coordinate of bounding box\n",
    "origin = geopy.Point(min_lat, max_lon)\n",
    "destination = geopy.distance.geodesic(kilometers=d).destination(origin, b[1])\n",
    "SE_lat, SE_lon = destination.latitude, destination.longitude\n",
    "\n",
    "#South West (SW) coordinate of bounding box\n",
    "origin = geopy.Point(min_lat, min_lon)\n",
    "destination = geopy.distance.geodesic(kilometers=d).destination(origin, b[2])\n",
    "SW_lat, SW_lon = destination.latitude, destination.longitude\n",
    "\n",
    "#North West (NW) coordinate of bounding box\n",
    "origin = geopy.Point(max_lat, min_lon)\n",
    "destination = geopy.distance.geodesic(kilometers=d).destination(origin, b[3])\n",
    "NW_lat, NW_lon = destination.latitude, destination.longitude\n",
    "\n",
    "#Latitude boundaries\n",
    "max_lat_bound = max(NW_lat, NE_lat)\n",
    "min_lat_bound = min(SW_lat, SE_lat)\n",
    "#Longitude boundaries\n",
    "max_lon_bound = max(NE_lon, SE_lon)\n",
    "min_lon_bound = min(NW_lon, SW_lon)\n",
    "\n",
    "#Filter Urban Forest dataset to include only trees within the bounding box\n",
    "uf_df = uf.loc[(uf['lat'].between(min_lat_bound, max_lat_bound)) & (uf['lon'].between(min_lon_bound, max_lon_bound))]\n",
    "uf_df = uf_df.reset_index()\n",
    "\n",
    "#Filter Energy Consumption Projection dataset to include only sites within the bounding box\n",
    "energy_df = energy.loc[(energy['lat'].between(min_lat_bound, max_lat_bound)) & (energy['lon'].between(min_lon_bound, max_lon_bound))]\n",
    "energy_df = energy_df.reset_index()\n",
    "\n",
    "#Count number of trees and sum up projected energy consumption in each greening location and its surrounding within the radius set\n",
    "for i in range(location_count):\n",
    "#for i in range(2):\n",
    "    #Longitude and Latitude of greening area\n",
    "    green_lon = laneways.loc[i, 'lon']\n",
    "    green_lat = laneways.loc[i, 'lat']\n",
    "    #Count number of trees within set radius\n",
    "    tree_count = 0\n",
    "    for x in range(len(uf_df)):\n",
    "        tree_lon = uf_df.loc[x, 'lon']\n",
    "        tree_lat = uf_df.loc[x, 'lat']\n",
    "        km = distance(tree_lat, tree_lon, green_lat , green_lon)\n",
    "        if abs(km) < radius:\n",
    "            tree_count = tree_count \n",
    "            tree_count = tree_count + 1\n",
    "    laneways.loc[i, 'tree_count'] = tree_count\n",
    "    #Total projected energy consumption within set radius\n",
    "    total_energy = 0\n",
    "    for k in range(len(energy_df)):\n",
    "        site_lon = energy_df.loc[k, 'lon']\n",
    "        site_lat = energy_df.loc[k, 'lat']\n",
    "        site_total = energy_df.loc[k, 'total']\n",
    "        site_km = distance(site_lat, site_lon, green_lat , green_lon)\n",
    "        if abs(site_km) < radius:\n",
    "            total_energy = total_energy\n",
    "            total_energy = total_energy + site_total\n",
    "    laneways.loc[i, 'total_energy'] = total_energy\n",
    "    print('Location:', i + 1, 'out of', location_count, ', Latitude:', green_lat, ', Longitude:', green_lon, ', Number of trees:', tree_count, ', Total energy consumption projected:', total_energy)\n"
   ]
  },
  {
   "cell_type": "code",
   "execution_count": 42,
   "metadata": {},
   "outputs": [
    {
     "data": {
      "application/vnd.plotly.v1+json": {
       "config": {
        "plotlyServerURL": "https://plot.ly"
       },
       "data": [
        {
         "coloraxis": "coloraxis",
         "hovertemplate": "total_energy=%{z}<br>lat=%{lat}<br>lon=%{lon}<extra></extra>",
         "lat": [
          -37.81980050254932,
          -37.81097635318543,
          -37.81111151578862,
          -37.81161232134716,
          -37.8124734926234,
          -37.81304184241003,
          -37.81410455066066,
          -37.81521836330808,
          -37.81560584167807,
          -37.81363663807256,
          -37.81318089121382,
          -37.811631479265266,
          -37.81096554046618,
          -37.81018788400599,
          -37.808928701105636,
          -37.811819833149336,
          -37.81363559321624,
          -37.81638689912868,
          -37.816437955439866,
          -37.816833769769204,
          -37.817277292447365,
          -37.817339881748865,
          -37.8172843757446,
          -37.816440023811005,
          -37.81531786344816,
          -37.81524339834998,
          -37.81496076902029,
          -37.81283231518697,
          -37.8122331277934,
          -37.81120874607432,
          -37.810511430101,
          -37.811082793916796,
          -37.81364143485823,
          -37.81479726899315,
          -37.814683887787545,
          -37.81497705914173,
          -37.81505553768235,
          -37.81637435216704,
          -37.81697722216005,
          -37.81194262812994,
          -37.81310137820415,
          -37.813735162366505,
          -37.8137809735933,
          -37.81528156146977,
          -37.81522401449075,
          -37.81593175883032,
          -37.81602777672109,
          -37.817199920431165,
          -37.81776601260828,
          -37.81820807553832,
          -37.817688637627505,
          -37.813316564957894,
          -37.81445067539735,
          -37.81488075904122,
          -37.81676041377433,
          -37.81734946853748,
          -37.81739031205376,
          -37.818984126275495,
          -37.81963370613525,
          -37.81954117327879,
          -37.8200790748199,
          -37.82011600297684,
          -37.82027880943805,
          -37.819764909598696,
          -37.81604819466985,
          -37.81336268612127,
          -37.813098677911036,
          -37.810100678849565,
          -37.81109181824087,
          -37.810461362738046,
          -37.80804153774292,
          -37.809574187684454,
          -37.81477253709165,
          -37.81124523135607,
          -37.81452312073989,
          -37.81119641212291,
          -37.80981203103341,
          -37.81261588548371,
          -37.81332555540913,
          -37.808798598420246,
          -37.807613165711366,
          -37.815810557823596,
          -37.81535672343349,
          -37.81037958674067,
          -37.810217121848865,
          -37.81077581774339,
          -37.811226042417026,
          -37.8131805651399,
          -37.812714034948,
          -37.815866684899426,
          -37.816070884780686,
          -37.815043593615314,
          -37.814860662335775,
          -37.81325469434872,
          -37.8113357078086,
          -37.81112570199548,
          -37.81047263684767,
          -37.809814704774496,
          -37.808962433086066,
          -37.80891911143074,
          -37.80927255305554,
          -37.811503452175096,
          -37.81181924077914,
          -37.81236603080382,
          -37.81227101185166,
          -37.8122351726817,
          -37.815770514528744,
          -37.81721251515046,
          -37.816552460452876,
          -37.81515149775422,
          -37.814459961312124,
          -37.81425396234533,
          -37.81311665324148,
          -37.81113906039378,
          -37.81100772543578,
          -37.811294962572816,
          -37.81195697118721,
          -37.81288655222083,
          -37.81434588510203,
          -37.814713446937354,
          -37.81668311746074,
          -37.81179252091795,
          -37.8121714527127,
          -37.81327834872983,
          -37.813481152611836,
          -37.81382053335725,
          -37.81386196353888,
          -37.814139526354815,
          -37.81417691097461,
          -37.817244932826426,
          -37.81774881340534,
          -37.817647102746875,
          -37.81848742506025,
          -37.81274968140071,
          -37.81272540384329,
          -37.81283327377191,
          -37.8135247555415,
          -37.813157519841646,
          -37.81654155142347,
          -37.817468209169334,
          -37.81597970168963,
          -37.81523292318083,
          -37.81375860365229,
          -37.81345477331178,
          -37.81713959638289,
          -37.80766995107844,
          -37.807874533479186,
          -37.807868542290684,
          -37.80825704076604,
          -37.8092052807982,
          -37.81059550083191,
          -37.81532410339944,
          -37.812892966824165,
          -37.81593137617615,
          -37.813761236886755,
          -37.815212125832595,
          -37.81289266958999,
          -37.80875417866908,
          -37.80880126515651,
          -37.81034170711123,
          -37.81674801251833,
          -37.808893073302414,
          -37.80743440633362,
          -37.811312355458725,
          -37.812062778388146,
          -37.812200122969514,
          -37.81299489178982,
          -37.81291772360056,
          -37.81486555746091,
          -37.81556813104544,
          -37.81565225265017,
          -37.815010365366625,
          -37.81450170729136,
          -37.81388085097895,
          -37.811846184146255,
          -37.81186744205427,
          -37.81164146216171,
          -37.81203165865674,
          -37.81199395451558,
          -37.81111808221134,
          -37.81121896258666,
          -37.809070759197056,
          -37.8092614609602,
          -37.811622558943256,
          -37.8119212879997,
          -37.812182004124956,
          -37.81255972303171,
          -37.81265308586931,
          -37.81375221918104,
          -37.813998405447016,
          -37.814540467211934,
          -37.81684310938986,
          -37.81625729975984,
          -37.815466618658434,
          -37.815136745569795,
          -37.81453505593018,
          -37.814399761923944,
          -37.81295591658134,
          -37.81140603994133,
          -37.81107211875846,
          -37.81143661165109,
          -37.81445017766827,
          -37.81611345293064,
          -37.81634100783601,
          -37.81662436680107,
          -37.81232803829519,
          -37.8131179768624,
          -37.81322013799656,
          -37.81316822185592,
          -37.815582438708404,
          -37.81587907634075,
          -37.81748103944648,
          -37.81705022724468,
          -37.81984867154892,
          -37.818834732192755,
          -37.81801103424856,
          -37.81788034313359,
          -37.81535295029374,
          -37.81265852382229,
          -37.81400371191351,
          -37.81368407590331,
          -37.814672188989995,
          -37.815444976696476,
          -37.81556411206914,
          -37.81675781807964,
          -37.81705815427994,
          -37.81939019475833,
          -37.81820110978195,
          -37.815131053785386,
          -37.81535738669452,
          -37.81558625091741,
          -37.813298814806174,
          -37.80919327198343,
          -37.80940546461835,
          -37.81602860198378,
          -37.819253504282024,
          -37.815770743514925,
          -37.81309137074721,
          -37.81696435459669,
          -37.813170613431005,
          -37.81132913888725,
          -37.808732016172115,
          -37.811891568883624,
          -37.80980844948987,
          -37.807528190248966,
          -37.8091174792242
         ],
         "lon": [
          144.9623447558369,
          144.97170834375964,
          144.97244046374837,
          144.97077449834737,
          144.9713761243581,
          144.97240833983707,
          144.9736711005169,
          144.97342323779137,
          144.9716292036106,
          144.97030218968666,
          144.96918657126457,
          144.96996732732396,
          144.9691457959443,
          144.9673441983146,
          144.96845133042902,
          144.9653517247358,
          144.9673143038117,
          144.9690855012813,
          144.968922695136,
          144.96650432144628,
          144.9660029303524,
          144.96578935360571,
          144.96517912329656,
          144.9660849351429,
          144.96412508085777,
          144.96455112659987,
          144.9655933228601,
          144.96485753421675,
          144.96450529272983,
          144.96385829677484,
          144.96354768190554,
          144.96080159509805,
          144.95967769583882,
          144.96010852358677,
          144.9588906580676,
          144.95845989409705,
          144.9582828280556,
          144.96046496953696,
          144.959485810845,
          144.9609229814977,
          144.96198155668426,
          144.9624979570203,
          144.96166455721152,
          144.96173953568237,
          144.96270583856173,
          144.9624004738762,
          144.961858207876,
          144.96372396866002,
          144.9644701544366,
          144.96278099354788,
          144.96142118297337,
          144.95622231595837,
          144.95696234059736,
          144.95548424957065,
          144.9565316258329,
          144.95821608690858,
          144.9571657633738,
          144.95739637072802,
          144.95802323076245,
          144.95814655276035,
          144.95689895741233,
          144.9565343730053,
          144.95574545353142,
          144.95678115855074,
          144.95454175904922,
          144.95366296666123,
          144.9537692541663,
          144.97061722203512,
          144.95686225824505,
          144.95794177940672,
          144.96757914799085,
          144.96249136310982,
          144.95568011260008,
          144.9629516862615,
          144.966997043321,
          144.97194522260708,
          144.9715932336254,
          144.967462431471,
          144.97243815994796,
          144.9616871375218,
          144.960765316124,
          144.95986079172638,
          144.95569265063773,
          144.97089952599487,
          144.97162762401734,
          144.97188375120993,
          144.97139352262127,
          144.97156163273422,
          144.9732382331711,
          144.97038374615923,
          144.97010070091366,
          144.9694430083061,
          144.97123717171658,
          144.96873339216515,
          144.96869835348167,
          144.96876012887915,
          144.96932760907043,
          144.9686183570954,
          144.9686829724722,
          144.96820381786043,
          144.96695006791515,
          144.96706520083916,
          144.9662543134082,
          144.96745507745138,
          144.9670624811988,
          144.9668849462853,
          144.96807420840344,
          144.96538877094625,
          144.96545353140812,
          144.9651313656219,
          144.96512380211735,
          144.96551925271615,
          144.96455086424254,
          144.96406312182154,
          144.9637645863644,
          144.96003291730977,
          144.95842907268548,
          144.9585839756677,
          144.95974778709353,
          144.959365686083,
          144.95967498096383,
          144.96145629110254,
          144.9605637989974,
          144.9616783818041,
          144.96071921330733,
          144.9621722247973,
          144.96194119821186,
          144.9614681922904,
          144.96114774652452,
          144.96301317553295,
          144.96432068731727,
          144.9639285753139,
          144.96164025970833,
          144.95557759699858,
          144.9552110178304,
          144.95470375589997,
          144.95580894305417,
          144.956467534624,
          144.95728722207423,
          144.95766420142033,
          144.9550350462116,
          144.95416746963403,
          144.95411623616334,
          144.95342725801962,
          144.95803438474277,
          144.9680242507245,
          144.96719168157594,
          144.9667625802273,
          144.96229519445652,
          144.96224533961347,
          144.95911816016283,
          144.95738250359312,
          144.97243830492508,
          144.96023905827192,
          144.96151358975985,
          144.97267324944883,
          144.97338626335969,
          144.97090512754946,
          144.97106863634434,
          144.97192733483007,
          144.96800192126963,
          144.96135266168625,
          144.96794349212385,
          144.97106967426805,
          144.9726904738642,
          144.9722726519847,
          144.97186299342198,
          144.97284822191173,
          144.9741255712408,
          144.9713012962928,
          144.97093032525657,
          144.97026802181446,
          144.97128718168483,
          144.970002281767,
          144.96930164317203,
          144.9690242022624,
          144.96873504016077,
          144.9686727236111,
          144.96839736007794,
          144.96770214537466,
          144.96830248372038,
          144.96780415838268,
          144.96738352989738,
          144.96665168266972,
          144.965582443831,
          144.96554618976265,
          144.96663010717896,
          144.96570181648684,
          144.9668995155727,
          144.96631621514925,
          144.9674685834403,
          144.9663646628278,
          144.96645933847927,
          144.9643638871223,
          144.96546528286152,
          144.9643264084841,
          144.9647515708548,
          144.963020448098,
          144.96398614233215,
          144.96009641017997,
          144.96025816014517,
          144.95965312776522,
          144.95933810898964,
          144.96075701875682,
          144.9604014852698,
          144.960047985896,
          144.96146041692978,
          144.96103700163818,
          144.96028210934693,
          144.9614105114917,
          144.96320879536245,
          144.96223748479332,
          144.96401604954465,
          144.9578825986701,
          144.96126658202394,
          144.9609454968655,
          144.961240049609,
          144.96038745128234,
          144.9561807421683,
          144.95506325236272,
          144.95519418764638,
          144.95606924108571,
          144.95698136409075,
          144.95651273561546,
          144.95677846750684,
          144.95829874000657,
          144.9588910635486,
          144.95515581469482,
          144.9547019972304,
          144.95447646152166,
          144.95398767873985,
          144.95203267710278,
          144.95907535115865,
          144.96233864480138,
          144.96346829171765,
          144.95632912990123,
          144.96290788697897,
          144.96047108406836,
          144.96627899373402,
          144.96406677587515,
          144.97208617369233,
          144.9713271143983,
          144.96646689470336,
          144.96051751381623,
          144.96798312015957,
          144.97079029463796
         ],
         "name": "",
         "opacity": 0.5,
         "subplot": "mapbox",
         "type": "densitymapbox",
         "z": [
          0,
          35193.2513804,
          14548.8747872,
          14548.8747872,
          19579.5808423,
          41492.609660500006,
          42592.5902118,
          25271.6016014,
          17847.0083006,
          102888.98894030001,
          46079.3783362,
          11453.6967677,
          12549.3691011,
          16577.1191875,
          5067.72739566,
          10067.1734876,
          14733.9824582,
          20653.5903356,
          20653.5903356,
          41905.5776702,
          18230.4802797,
          18230.4802797,
          18230.4802797,
          41905.5776702,
          22055.8544383,
          34141.7386981,
          22055.8544383,
          0,
          93257.351728,
          93257.351728,
          0,
          8558.4742424,
          8517.71960727,
          34116.0190985,
          42633.73870577,
          34116.0190985,
          34116.0190985,
          59749.35430969999,
          24166.5861585,
          40391.162813899995,
          14613.5572945,
          10043.8624641,
          24657.4197586,
          57196.1563539,
          106229.4206728,
          106229.4206728,
          49033.2643189,
          64686.6491142,
          34118.0082309,
          34118.0082309,
          22061.06701164,
          12867.8525235,
          17592.0490442,
          17592.0490442,
          27559.1049338,
          34206.6705085,
          61765.7754423,
          42156.7045468,
          27631.9151016,
          27631.9151016,
          12942.9266537,
          12942.9266537,
          12942.9266537,
          12942.9266537,
          14071.278243,
          8596.09512059,
          8596.09512059,
          75081.4700213,
          11476.2359505,
          10582.7629347,
          8539.54366351,
          9469.41336374,
          17592.0490442,
          93257.351728,
          30428.6756622,
          14548.8747872,
          20644.3765932,
          12629.1085681,
          21913.0288182,
          22150.020502239997,
          21255.6097113,
          35582.7681512,
          53825.5126671,
          20644.3765932,
          20644.3765932,
          35193.2513804,
          14548.8747872,
          21913.0288182,
          21913.0288182,
          17847.0083006,
          17847.0083006,
          37834.6180427,
          37834.6180427,
          46079.3783362,
          24003.065868799997,
          24003.065868799997,
          12549.3691011,
          16577.1191875,
          5067.72739566,
          5067.72739566,
          5067.72739566,
          10067.1734876,
          22696.2820557,
          12629.1085681,
          22696.2820557,
          22696.2820557,
          51948.2491917,
          41905.5776702,
          41905.5776702,
          34141.7386981,
          34141.7386981,
          12085.8842598,
          0,
          0,
          0,
          8558.4742424,
          22503.46057304,
          17370.8076364,
          42633.73870577,
          34116.0190985,
          59749.35430969999,
          31832.6885715,
          31832.6885715,
          24657.4197586,
          14613.5572945,
          10043.8624641,
          24657.4197586,
          10043.8624641,
          10043.8624641,
          64686.6491142,
          34118.0082309,
          64686.6491142,
          9360.41210454,
          40173.091497299996,
          27305.2389738,
          27305.2389738,
          12867.8525235,
          12867.8525235,
          27559.1049338,
          34206.6705085,
          14071.278243,
          7532.24818169,
          21238.321606,
          29834.416726590003,
          61765.7754423,
          8539.54366351,
          9590.851278889999,
          9590.851278889999,
          12680.6071385,
          22150.020502239997,
          20176.2521127,
          53825.5126671,
          41492.609660500006,
          59749.35430969999,
          24657.4197586,
          25271.6016014,
          21913.0288182,
          56435.29818538,
          56435.29818538,
          35193.2513804,
          20653.5903356,
          12680.6071385,
          8539.54366351,
          14548.8747872,
          19579.5808423,
          19579.5808423,
          41492.609660500006,
          21913.0288182,
          25271.6016014,
          17847.0083006,
          55681.6263433,
          37834.6180427,
          37834.6180427,
          56809.6106041,
          11453.6967677,
          11453.6967677,
          24003.065868799997,
          11453.6967677,
          11453.6967677,
          12549.3691011,
          12549.3691011,
          5067.72739566,
          5067.72739566,
          10067.1734876,
          10067.1734876,
          10067.1734876,
          22696.2820557,
          12629.1085681,
          14733.9824582,
          14733.9824582,
          30428.6756622,
          41905.5776702,
          23675.0973905,
          22055.8544383,
          22055.8544383,
          12085.8842598,
          12085.8842598,
          0,
          93257.351728,
          8558.4742424,
          40391.162813899995,
          42633.73870577,
          59749.35430969999,
          24166.5861585,
          24166.5861585,
          31832.6885715,
          14613.5572945,
          14613.5572945,
          14613.5572945,
          57196.1563539,
          49033.2643189,
          43269.2957904,
          30568.6408833,
          27631.9151016,
          11345.386455310001,
          53319.461739440005,
          22061.06701164,
          35582.7681512,
          27305.2389738,
          12867.8525235,
          12867.8525235,
          17592.0490442,
          53825.5126671,
          53825.5126671,
          27559.1049338,
          34206.6705085,
          27631.9151016,
          21186.5328532,
          7532.24818169,
          21603.52642469,
          21603.52642469,
          8596.09512059,
          6446.71987153,
          9469.41336374,
          49033.2643189,
          53551.7307634,
          106229.4206728,
          14613.5572945,
          41905.5776702,
          0,
          14548.8747872,
          55236.195228849,
          22696.2820557,
          20176.2521127,
          8539.54366351,
          54437.0934281
         ]
        }
       ],
       "layout": {
        "coloraxis": {
         "colorbar": {
          "title": {
           "text": "total_energy"
          }
         },
         "colorscale": [
          [
           0,
           "#0d0887"
          ],
          [
           0.1111111111111111,
           "#46039f"
          ],
          [
           0.2222222222222222,
           "#7201a8"
          ],
          [
           0.3333333333333333,
           "#9c179e"
          ],
          [
           0.4444444444444444,
           "#bd3786"
          ],
          [
           0.5555555555555556,
           "#d8576b"
          ],
          [
           0.6666666666666666,
           "#ed7953"
          ],
          [
           0.7777777777777778,
           "#fb9f3a"
          ],
          [
           0.8888888888888888,
           "#fdca26"
          ],
          [
           1,
           "#f0f921"
          ]
         ]
        },
        "height": 1000,
        "legend": {
         "tracegroupgap": 0
        },
        "mapbox": {
         "center": {
          "lat": -37.81373720225536,
          "lon": 144.96378739120706
         },
         "domain": {
          "x": [
           0,
           1
          ],
          "y": [
           0,
           1
          ]
         },
         "style": "stamen-terrain",
         "zoom": 14
        },
        "template": {
         "data": {
          "bar": [
           {
            "error_x": {
             "color": "#2a3f5f"
            },
            "error_y": {
             "color": "#2a3f5f"
            },
            "marker": {
             "line": {
              "color": "#E5ECF6",
              "width": 0.5
             },
             "pattern": {
              "fillmode": "overlay",
              "size": 10,
              "solidity": 0.2
             }
            },
            "type": "bar"
           }
          ],
          "barpolar": [
           {
            "marker": {
             "line": {
              "color": "#E5ECF6",
              "width": 0.5
             },
             "pattern": {
              "fillmode": "overlay",
              "size": 10,
              "solidity": 0.2
             }
            },
            "type": "barpolar"
           }
          ],
          "carpet": [
           {
            "aaxis": {
             "endlinecolor": "#2a3f5f",
             "gridcolor": "white",
             "linecolor": "white",
             "minorgridcolor": "white",
             "startlinecolor": "#2a3f5f"
            },
            "baxis": {
             "endlinecolor": "#2a3f5f",
             "gridcolor": "white",
             "linecolor": "white",
             "minorgridcolor": "white",
             "startlinecolor": "#2a3f5f"
            },
            "type": "carpet"
           }
          ],
          "choropleth": [
           {
            "colorbar": {
             "outlinewidth": 0,
             "ticks": ""
            },
            "type": "choropleth"
           }
          ],
          "contour": [
           {
            "colorbar": {
             "outlinewidth": 0,
             "ticks": ""
            },
            "colorscale": [
             [
              0,
              "#0d0887"
             ],
             [
              0.1111111111111111,
              "#46039f"
             ],
             [
              0.2222222222222222,
              "#7201a8"
             ],
             [
              0.3333333333333333,
              "#9c179e"
             ],
             [
              0.4444444444444444,
              "#bd3786"
             ],
             [
              0.5555555555555556,
              "#d8576b"
             ],
             [
              0.6666666666666666,
              "#ed7953"
             ],
             [
              0.7777777777777778,
              "#fb9f3a"
             ],
             [
              0.8888888888888888,
              "#fdca26"
             ],
             [
              1,
              "#f0f921"
             ]
            ],
            "type": "contour"
           }
          ],
          "contourcarpet": [
           {
            "colorbar": {
             "outlinewidth": 0,
             "ticks": ""
            },
            "type": "contourcarpet"
           }
          ],
          "heatmap": [
           {
            "colorbar": {
             "outlinewidth": 0,
             "ticks": ""
            },
            "colorscale": [
             [
              0,
              "#0d0887"
             ],
             [
              0.1111111111111111,
              "#46039f"
             ],
             [
              0.2222222222222222,
              "#7201a8"
             ],
             [
              0.3333333333333333,
              "#9c179e"
             ],
             [
              0.4444444444444444,
              "#bd3786"
             ],
             [
              0.5555555555555556,
              "#d8576b"
             ],
             [
              0.6666666666666666,
              "#ed7953"
             ],
             [
              0.7777777777777778,
              "#fb9f3a"
             ],
             [
              0.8888888888888888,
              "#fdca26"
             ],
             [
              1,
              "#f0f921"
             ]
            ],
            "type": "heatmap"
           }
          ],
          "heatmapgl": [
           {
            "colorbar": {
             "outlinewidth": 0,
             "ticks": ""
            },
            "colorscale": [
             [
              0,
              "#0d0887"
             ],
             [
              0.1111111111111111,
              "#46039f"
             ],
             [
              0.2222222222222222,
              "#7201a8"
             ],
             [
              0.3333333333333333,
              "#9c179e"
             ],
             [
              0.4444444444444444,
              "#bd3786"
             ],
             [
              0.5555555555555556,
              "#d8576b"
             ],
             [
              0.6666666666666666,
              "#ed7953"
             ],
             [
              0.7777777777777778,
              "#fb9f3a"
             ],
             [
              0.8888888888888888,
              "#fdca26"
             ],
             [
              1,
              "#f0f921"
             ]
            ],
            "type": "heatmapgl"
           }
          ],
          "histogram": [
           {
            "marker": {
             "pattern": {
              "fillmode": "overlay",
              "size": 10,
              "solidity": 0.2
             }
            },
            "type": "histogram"
           }
          ],
          "histogram2d": [
           {
            "colorbar": {
             "outlinewidth": 0,
             "ticks": ""
            },
            "colorscale": [
             [
              0,
              "#0d0887"
             ],
             [
              0.1111111111111111,
              "#46039f"
             ],
             [
              0.2222222222222222,
              "#7201a8"
             ],
             [
              0.3333333333333333,
              "#9c179e"
             ],
             [
              0.4444444444444444,
              "#bd3786"
             ],
             [
              0.5555555555555556,
              "#d8576b"
             ],
             [
              0.6666666666666666,
              "#ed7953"
             ],
             [
              0.7777777777777778,
              "#fb9f3a"
             ],
             [
              0.8888888888888888,
              "#fdca26"
             ],
             [
              1,
              "#f0f921"
             ]
            ],
            "type": "histogram2d"
           }
          ],
          "histogram2dcontour": [
           {
            "colorbar": {
             "outlinewidth": 0,
             "ticks": ""
            },
            "colorscale": [
             [
              0,
              "#0d0887"
             ],
             [
              0.1111111111111111,
              "#46039f"
             ],
             [
              0.2222222222222222,
              "#7201a8"
             ],
             [
              0.3333333333333333,
              "#9c179e"
             ],
             [
              0.4444444444444444,
              "#bd3786"
             ],
             [
              0.5555555555555556,
              "#d8576b"
             ],
             [
              0.6666666666666666,
              "#ed7953"
             ],
             [
              0.7777777777777778,
              "#fb9f3a"
             ],
             [
              0.8888888888888888,
              "#fdca26"
             ],
             [
              1,
              "#f0f921"
             ]
            ],
            "type": "histogram2dcontour"
           }
          ],
          "mesh3d": [
           {
            "colorbar": {
             "outlinewidth": 0,
             "ticks": ""
            },
            "type": "mesh3d"
           }
          ],
          "parcoords": [
           {
            "line": {
             "colorbar": {
              "outlinewidth": 0,
              "ticks": ""
             }
            },
            "type": "parcoords"
           }
          ],
          "pie": [
           {
            "automargin": true,
            "type": "pie"
           }
          ],
          "scatter": [
           {
            "fillpattern": {
             "fillmode": "overlay",
             "size": 10,
             "solidity": 0.2
            },
            "type": "scatter"
           }
          ],
          "scatter3d": [
           {
            "line": {
             "colorbar": {
              "outlinewidth": 0,
              "ticks": ""
             }
            },
            "marker": {
             "colorbar": {
              "outlinewidth": 0,
              "ticks": ""
             }
            },
            "type": "scatter3d"
           }
          ],
          "scattercarpet": [
           {
            "marker": {
             "colorbar": {
              "outlinewidth": 0,
              "ticks": ""
             }
            },
            "type": "scattercarpet"
           }
          ],
          "scattergeo": [
           {
            "marker": {
             "colorbar": {
              "outlinewidth": 0,
              "ticks": ""
             }
            },
            "type": "scattergeo"
           }
          ],
          "scattergl": [
           {
            "marker": {
             "colorbar": {
              "outlinewidth": 0,
              "ticks": ""
             }
            },
            "type": "scattergl"
           }
          ],
          "scattermapbox": [
           {
            "marker": {
             "colorbar": {
              "outlinewidth": 0,
              "ticks": ""
             }
            },
            "type": "scattermapbox"
           }
          ],
          "scatterpolar": [
           {
            "marker": {
             "colorbar": {
              "outlinewidth": 0,
              "ticks": ""
             }
            },
            "type": "scatterpolar"
           }
          ],
          "scatterpolargl": [
           {
            "marker": {
             "colorbar": {
              "outlinewidth": 0,
              "ticks": ""
             }
            },
            "type": "scatterpolargl"
           }
          ],
          "scatterternary": [
           {
            "marker": {
             "colorbar": {
              "outlinewidth": 0,
              "ticks": ""
             }
            },
            "type": "scatterternary"
           }
          ],
          "surface": [
           {
            "colorbar": {
             "outlinewidth": 0,
             "ticks": ""
            },
            "colorscale": [
             [
              0,
              "#0d0887"
             ],
             [
              0.1111111111111111,
              "#46039f"
             ],
             [
              0.2222222222222222,
              "#7201a8"
             ],
             [
              0.3333333333333333,
              "#9c179e"
             ],
             [
              0.4444444444444444,
              "#bd3786"
             ],
             [
              0.5555555555555556,
              "#d8576b"
             ],
             [
              0.6666666666666666,
              "#ed7953"
             ],
             [
              0.7777777777777778,
              "#fb9f3a"
             ],
             [
              0.8888888888888888,
              "#fdca26"
             ],
             [
              1,
              "#f0f921"
             ]
            ],
            "type": "surface"
           }
          ],
          "table": [
           {
            "cells": {
             "fill": {
              "color": "#EBF0F8"
             },
             "line": {
              "color": "white"
             }
            },
            "header": {
             "fill": {
              "color": "#C8D4E3"
             },
             "line": {
              "color": "white"
             }
            },
            "type": "table"
           }
          ]
         },
         "layout": {
          "annotationdefaults": {
           "arrowcolor": "#2a3f5f",
           "arrowhead": 0,
           "arrowwidth": 1
          },
          "autotypenumbers": "strict",
          "coloraxis": {
           "colorbar": {
            "outlinewidth": 0,
            "ticks": ""
           }
          },
          "colorscale": {
           "diverging": [
            [
             0,
             "#8e0152"
            ],
            [
             0.1,
             "#c51b7d"
            ],
            [
             0.2,
             "#de77ae"
            ],
            [
             0.3,
             "#f1b6da"
            ],
            [
             0.4,
             "#fde0ef"
            ],
            [
             0.5,
             "#f7f7f7"
            ],
            [
             0.6,
             "#e6f5d0"
            ],
            [
             0.7,
             "#b8e186"
            ],
            [
             0.8,
             "#7fbc41"
            ],
            [
             0.9,
             "#4d9221"
            ],
            [
             1,
             "#276419"
            ]
           ],
           "sequential": [
            [
             0,
             "#0d0887"
            ],
            [
             0.1111111111111111,
             "#46039f"
            ],
            [
             0.2222222222222222,
             "#7201a8"
            ],
            [
             0.3333333333333333,
             "#9c179e"
            ],
            [
             0.4444444444444444,
             "#bd3786"
            ],
            [
             0.5555555555555556,
             "#d8576b"
            ],
            [
             0.6666666666666666,
             "#ed7953"
            ],
            [
             0.7777777777777778,
             "#fb9f3a"
            ],
            [
             0.8888888888888888,
             "#fdca26"
            ],
            [
             1,
             "#f0f921"
            ]
           ],
           "sequentialminus": [
            [
             0,
             "#0d0887"
            ],
            [
             0.1111111111111111,
             "#46039f"
            ],
            [
             0.2222222222222222,
             "#7201a8"
            ],
            [
             0.3333333333333333,
             "#9c179e"
            ],
            [
             0.4444444444444444,
             "#bd3786"
            ],
            [
             0.5555555555555556,
             "#d8576b"
            ],
            [
             0.6666666666666666,
             "#ed7953"
            ],
            [
             0.7777777777777778,
             "#fb9f3a"
            ],
            [
             0.8888888888888888,
             "#fdca26"
            ],
            [
             1,
             "#f0f921"
            ]
           ]
          },
          "colorway": [
           "#636efa",
           "#EF553B",
           "#00cc96",
           "#ab63fa",
           "#FFA15A",
           "#19d3f3",
           "#FF6692",
           "#B6E880",
           "#FF97FF",
           "#FECB52"
          ],
          "font": {
           "color": "#2a3f5f"
          },
          "geo": {
           "bgcolor": "white",
           "lakecolor": "white",
           "landcolor": "#E5ECF6",
           "showlakes": true,
           "showland": true,
           "subunitcolor": "white"
          },
          "hoverlabel": {
           "align": "left"
          },
          "hovermode": "closest",
          "mapbox": {
           "style": "light"
          },
          "paper_bgcolor": "white",
          "plot_bgcolor": "#E5ECF6",
          "polar": {
           "angularaxis": {
            "gridcolor": "white",
            "linecolor": "white",
            "ticks": ""
           },
           "bgcolor": "#E5ECF6",
           "radialaxis": {
            "gridcolor": "white",
            "linecolor": "white",
            "ticks": ""
           }
          },
          "scene": {
           "xaxis": {
            "backgroundcolor": "#E5ECF6",
            "gridcolor": "white",
            "gridwidth": 2,
            "linecolor": "white",
            "showbackground": true,
            "ticks": "",
            "zerolinecolor": "white"
           },
           "yaxis": {
            "backgroundcolor": "#E5ECF6",
            "gridcolor": "white",
            "gridwidth": 2,
            "linecolor": "white",
            "showbackground": true,
            "ticks": "",
            "zerolinecolor": "white"
           },
           "zaxis": {
            "backgroundcolor": "#E5ECF6",
            "gridcolor": "white",
            "gridwidth": 2,
            "linecolor": "white",
            "showbackground": true,
            "ticks": "",
            "zerolinecolor": "white"
           }
          },
          "shapedefaults": {
           "line": {
            "color": "#2a3f5f"
           }
          },
          "ternary": {
           "aaxis": {
            "gridcolor": "white",
            "linecolor": "white",
            "ticks": ""
           },
           "baxis": {
            "gridcolor": "white",
            "linecolor": "white",
            "ticks": ""
           },
           "bgcolor": "#E5ECF6",
           "caxis": {
            "gridcolor": "white",
            "linecolor": "white",
            "ticks": ""
           }
          },
          "title": {
           "x": 0.05
          },
          "xaxis": {
           "automargin": true,
           "gridcolor": "white",
           "linecolor": "white",
           "ticks": "",
           "title": {
            "standoff": 15
           },
           "zerolinecolor": "white",
           "zerolinewidth": 2
          },
          "yaxis": {
           "automargin": true,
           "gridcolor": "white",
           "linecolor": "white",
           "ticks": "",
           "title": {
            "standoff": 15
           },
           "zerolinecolor": "white",
           "zerolinewidth": 2
          }
         }
        },
        "title": {
         "text": "Heatmap showing projected energy consumption across City of Melbourne"
        },
        "width": 1500
       }
      },
      "text/html": [
       "<div>                            <div id=\"91403742-9519-48e4-826a-c5244bb0453b\" class=\"plotly-graph-div\" style=\"height:1000px; width:1500px;\"></div>            <script type=\"text/javascript\">                require([\"plotly\"], function(Plotly) {                    window.PLOTLYENV=window.PLOTLYENV || {};                                    if (document.getElementById(\"91403742-9519-48e4-826a-c5244bb0453b\")) {                    Plotly.newPlot(                        \"91403742-9519-48e4-826a-c5244bb0453b\",                        [{\"coloraxis\":\"coloraxis\",\"hovertemplate\":\"total_energy=%{z}<br>lat=%{lat}<br>lon=%{lon}<extra></extra>\",\"lat\":[-37.81980050254932,-37.81097635318543,-37.81111151578862,-37.81161232134716,-37.8124734926234,-37.81304184241003,-37.81410455066066,-37.81521836330808,-37.81560584167807,-37.81363663807256,-37.81318089121382,-37.811631479265266,-37.81096554046618,-37.81018788400599,-37.808928701105636,-37.811819833149336,-37.81363559321624,-37.81638689912868,-37.816437955439866,-37.816833769769204,-37.817277292447365,-37.817339881748865,-37.8172843757446,-37.816440023811005,-37.81531786344816,-37.81524339834998,-37.81496076902029,-37.81283231518697,-37.8122331277934,-37.81120874607432,-37.810511430101,-37.811082793916796,-37.81364143485823,-37.81479726899315,-37.814683887787545,-37.81497705914173,-37.81505553768235,-37.81637435216704,-37.81697722216005,-37.81194262812994,-37.81310137820415,-37.813735162366505,-37.8137809735933,-37.81528156146977,-37.81522401449075,-37.81593175883032,-37.81602777672109,-37.817199920431165,-37.81776601260828,-37.81820807553832,-37.817688637627505,-37.813316564957894,-37.81445067539735,-37.81488075904122,-37.81676041377433,-37.81734946853748,-37.81739031205376,-37.818984126275495,-37.81963370613525,-37.81954117327879,-37.8200790748199,-37.82011600297684,-37.82027880943805,-37.819764909598696,-37.81604819466985,-37.81336268612127,-37.813098677911036,-37.810100678849565,-37.81109181824087,-37.810461362738046,-37.80804153774292,-37.809574187684454,-37.81477253709165,-37.81124523135607,-37.81452312073989,-37.81119641212291,-37.80981203103341,-37.81261588548371,-37.81332555540913,-37.808798598420246,-37.807613165711366,-37.815810557823596,-37.81535672343349,-37.81037958674067,-37.810217121848865,-37.81077581774339,-37.811226042417026,-37.8131805651399,-37.812714034948,-37.815866684899426,-37.816070884780686,-37.815043593615314,-37.814860662335775,-37.81325469434872,-37.8113357078086,-37.81112570199548,-37.81047263684767,-37.809814704774496,-37.808962433086066,-37.80891911143074,-37.80927255305554,-37.811503452175096,-37.81181924077914,-37.81236603080382,-37.81227101185166,-37.8122351726817,-37.815770514528744,-37.81721251515046,-37.816552460452876,-37.81515149775422,-37.814459961312124,-37.81425396234533,-37.81311665324148,-37.81113906039378,-37.81100772543578,-37.811294962572816,-37.81195697118721,-37.81288655222083,-37.81434588510203,-37.814713446937354,-37.81668311746074,-37.81179252091795,-37.8121714527127,-37.81327834872983,-37.813481152611836,-37.81382053335725,-37.81386196353888,-37.814139526354815,-37.81417691097461,-37.817244932826426,-37.81774881340534,-37.817647102746875,-37.81848742506025,-37.81274968140071,-37.81272540384329,-37.81283327377191,-37.8135247555415,-37.813157519841646,-37.81654155142347,-37.817468209169334,-37.81597970168963,-37.81523292318083,-37.81375860365229,-37.81345477331178,-37.81713959638289,-37.80766995107844,-37.807874533479186,-37.807868542290684,-37.80825704076604,-37.8092052807982,-37.81059550083191,-37.81532410339944,-37.812892966824165,-37.81593137617615,-37.813761236886755,-37.815212125832595,-37.81289266958999,-37.80875417866908,-37.80880126515651,-37.81034170711123,-37.81674801251833,-37.808893073302414,-37.80743440633362,-37.811312355458725,-37.812062778388146,-37.812200122969514,-37.81299489178982,-37.81291772360056,-37.81486555746091,-37.81556813104544,-37.81565225265017,-37.815010365366625,-37.81450170729136,-37.81388085097895,-37.811846184146255,-37.81186744205427,-37.81164146216171,-37.81203165865674,-37.81199395451558,-37.81111808221134,-37.81121896258666,-37.809070759197056,-37.8092614609602,-37.811622558943256,-37.8119212879997,-37.812182004124956,-37.81255972303171,-37.81265308586931,-37.81375221918104,-37.813998405447016,-37.814540467211934,-37.81684310938986,-37.81625729975984,-37.815466618658434,-37.815136745569795,-37.81453505593018,-37.814399761923944,-37.81295591658134,-37.81140603994133,-37.81107211875846,-37.81143661165109,-37.81445017766827,-37.81611345293064,-37.81634100783601,-37.81662436680107,-37.81232803829519,-37.8131179768624,-37.81322013799656,-37.81316822185592,-37.815582438708404,-37.81587907634075,-37.81748103944648,-37.81705022724468,-37.81984867154892,-37.818834732192755,-37.81801103424856,-37.81788034313359,-37.81535295029374,-37.81265852382229,-37.81400371191351,-37.81368407590331,-37.814672188989995,-37.815444976696476,-37.81556411206914,-37.81675781807964,-37.81705815427994,-37.81939019475833,-37.81820110978195,-37.815131053785386,-37.81535738669452,-37.81558625091741,-37.813298814806174,-37.80919327198343,-37.80940546461835,-37.81602860198378,-37.819253504282024,-37.815770743514925,-37.81309137074721,-37.81696435459669,-37.813170613431005,-37.81132913888725,-37.808732016172115,-37.811891568883624,-37.80980844948987,-37.807528190248966,-37.8091174792242],\"lon\":[144.9623447558369,144.97170834375964,144.97244046374837,144.97077449834737,144.9713761243581,144.97240833983707,144.9736711005169,144.97342323779137,144.9716292036106,144.97030218968666,144.96918657126457,144.96996732732396,144.9691457959443,144.9673441983146,144.96845133042902,144.9653517247358,144.9673143038117,144.9690855012813,144.968922695136,144.96650432144628,144.9660029303524,144.96578935360571,144.96517912329656,144.9660849351429,144.96412508085777,144.96455112659987,144.9655933228601,144.96485753421675,144.96450529272983,144.96385829677484,144.96354768190554,144.96080159509805,144.95967769583882,144.96010852358677,144.9588906580676,144.95845989409705,144.9582828280556,144.96046496953696,144.959485810845,144.9609229814977,144.96198155668426,144.9624979570203,144.96166455721152,144.96173953568237,144.96270583856173,144.9624004738762,144.961858207876,144.96372396866002,144.9644701544366,144.96278099354788,144.96142118297337,144.95622231595837,144.95696234059736,144.95548424957065,144.9565316258329,144.95821608690858,144.9571657633738,144.95739637072802,144.95802323076245,144.95814655276035,144.95689895741233,144.9565343730053,144.95574545353142,144.95678115855074,144.95454175904922,144.95366296666123,144.9537692541663,144.97061722203512,144.95686225824505,144.95794177940672,144.96757914799085,144.96249136310982,144.95568011260008,144.9629516862615,144.966997043321,144.97194522260708,144.9715932336254,144.967462431471,144.97243815994796,144.9616871375218,144.960765316124,144.95986079172638,144.95569265063773,144.97089952599487,144.97162762401734,144.97188375120993,144.97139352262127,144.97156163273422,144.9732382331711,144.97038374615923,144.97010070091366,144.9694430083061,144.97123717171658,144.96873339216515,144.96869835348167,144.96876012887915,144.96932760907043,144.9686183570954,144.9686829724722,144.96820381786043,144.96695006791515,144.96706520083916,144.9662543134082,144.96745507745138,144.9670624811988,144.9668849462853,144.96807420840344,144.96538877094625,144.96545353140812,144.9651313656219,144.96512380211735,144.96551925271615,144.96455086424254,144.96406312182154,144.9637645863644,144.96003291730977,144.95842907268548,144.9585839756677,144.95974778709353,144.959365686083,144.95967498096383,144.96145629110254,144.9605637989974,144.9616783818041,144.96071921330733,144.9621722247973,144.96194119821186,144.9614681922904,144.96114774652452,144.96301317553295,144.96432068731727,144.9639285753139,144.96164025970833,144.95557759699858,144.9552110178304,144.95470375589997,144.95580894305417,144.956467534624,144.95728722207423,144.95766420142033,144.9550350462116,144.95416746963403,144.95411623616334,144.95342725801962,144.95803438474277,144.9680242507245,144.96719168157594,144.9667625802273,144.96229519445652,144.96224533961347,144.95911816016283,144.95738250359312,144.97243830492508,144.96023905827192,144.96151358975985,144.97267324944883,144.97338626335969,144.97090512754946,144.97106863634434,144.97192733483007,144.96800192126963,144.96135266168625,144.96794349212385,144.97106967426805,144.9726904738642,144.9722726519847,144.97186299342198,144.97284822191173,144.9741255712408,144.9713012962928,144.97093032525657,144.97026802181446,144.97128718168483,144.970002281767,144.96930164317203,144.9690242022624,144.96873504016077,144.9686727236111,144.96839736007794,144.96770214537466,144.96830248372038,144.96780415838268,144.96738352989738,144.96665168266972,144.965582443831,144.96554618976265,144.96663010717896,144.96570181648684,144.9668995155727,144.96631621514925,144.9674685834403,144.9663646628278,144.96645933847927,144.9643638871223,144.96546528286152,144.9643264084841,144.9647515708548,144.963020448098,144.96398614233215,144.96009641017997,144.96025816014517,144.95965312776522,144.95933810898964,144.96075701875682,144.9604014852698,144.960047985896,144.96146041692978,144.96103700163818,144.96028210934693,144.9614105114917,144.96320879536245,144.96223748479332,144.96401604954465,144.9578825986701,144.96126658202394,144.9609454968655,144.961240049609,144.96038745128234,144.9561807421683,144.95506325236272,144.95519418764638,144.95606924108571,144.95698136409075,144.95651273561546,144.95677846750684,144.95829874000657,144.9588910635486,144.95515581469482,144.9547019972304,144.95447646152166,144.95398767873985,144.95203267710278,144.95907535115865,144.96233864480138,144.96346829171765,144.95632912990123,144.96290788697897,144.96047108406836,144.96627899373402,144.96406677587515,144.97208617369233,144.9713271143983,144.96646689470336,144.96051751381623,144.96798312015957,144.97079029463796],\"name\":\"\",\"opacity\":0.5,\"subplot\":\"mapbox\",\"z\":[0.0,35193.2513804,14548.8747872,14548.8747872,19579.5808423,41492.609660500006,42592.5902118,25271.6016014,17847.0083006,102888.98894030001,46079.3783362,11453.6967677,12549.3691011,16577.1191875,5067.72739566,10067.1734876,14733.9824582,20653.5903356,20653.5903356,41905.5776702,18230.4802797,18230.4802797,18230.4802797,41905.5776702,22055.8544383,34141.7386981,22055.8544383,0.0,93257.351728,93257.351728,0.0,8558.4742424,8517.71960727,34116.0190985,42633.73870577,34116.0190985,34116.0190985,59749.35430969999,24166.5861585,40391.162813899995,14613.5572945,10043.8624641,24657.4197586,57196.1563539,106229.4206728,106229.4206728,49033.2643189,64686.6491142,34118.0082309,34118.0082309,22061.06701164,12867.8525235,17592.0490442,17592.0490442,27559.1049338,34206.6705085,61765.7754423,42156.7045468,27631.9151016,27631.9151016,12942.9266537,12942.9266537,12942.9266537,12942.9266537,14071.278243,8596.09512059,8596.09512059,75081.4700213,11476.2359505,10582.7629347,8539.54366351,9469.41336374,17592.0490442,93257.351728,30428.6756622,14548.8747872,20644.3765932,12629.1085681,21913.0288182,22150.020502239997,21255.6097113,35582.7681512,53825.5126671,20644.3765932,20644.3765932,35193.2513804,14548.8747872,21913.0288182,21913.0288182,17847.0083006,17847.0083006,37834.6180427,37834.6180427,46079.3783362,24003.065868799997,24003.065868799997,12549.3691011,16577.1191875,5067.72739566,5067.72739566,5067.72739566,10067.1734876,22696.2820557,12629.1085681,22696.2820557,22696.2820557,51948.2491917,41905.5776702,41905.5776702,34141.7386981,34141.7386981,12085.8842598,0.0,0.0,0.0,8558.4742424,22503.46057304,17370.8076364,42633.73870577,34116.0190985,59749.35430969999,31832.6885715,31832.6885715,24657.4197586,14613.5572945,10043.8624641,24657.4197586,10043.8624641,10043.8624641,64686.6491142,34118.0082309,64686.6491142,9360.41210454,40173.091497299996,27305.2389738,27305.2389738,12867.8525235,12867.8525235,27559.1049338,34206.6705085,14071.278243,7532.24818169,21238.321606,29834.416726590003,61765.7754423,8539.54366351,9590.851278889999,9590.851278889999,12680.6071385,22150.020502239997,20176.2521127,53825.5126671,41492.609660500006,59749.35430969999,24657.4197586,25271.6016014,21913.0288182,56435.29818538,56435.29818538,35193.2513804,20653.5903356,12680.6071385,8539.54366351,14548.8747872,19579.5808423,19579.5808423,41492.609660500006,21913.0288182,25271.6016014,17847.0083006,55681.6263433,37834.6180427,37834.6180427,56809.6106041,11453.6967677,11453.6967677,24003.065868799997,11453.6967677,11453.6967677,12549.3691011,12549.3691011,5067.72739566,5067.72739566,10067.1734876,10067.1734876,10067.1734876,22696.2820557,12629.1085681,14733.9824582,14733.9824582,30428.6756622,41905.5776702,23675.0973905,22055.8544383,22055.8544383,12085.8842598,12085.8842598,0.0,93257.351728,8558.4742424,40391.162813899995,42633.73870577,59749.35430969999,24166.5861585,24166.5861585,31832.6885715,14613.5572945,14613.5572945,14613.5572945,57196.1563539,49033.2643189,43269.2957904,30568.6408833,27631.9151016,11345.386455310001,53319.461739440005,22061.06701164,35582.7681512,27305.2389738,12867.8525235,12867.8525235,17592.0490442,53825.5126671,53825.5126671,27559.1049338,34206.6705085,27631.9151016,21186.5328532,7532.24818169,21603.52642469,21603.52642469,8596.09512059,6446.71987153,9469.41336374,49033.2643189,53551.7307634,106229.4206728,14613.5572945,41905.5776702,0.0,14548.8747872,55236.195228849,22696.2820557,20176.2521127,8539.54366351,54437.0934281],\"type\":\"densitymapbox\"}],                        {\"template\":{\"data\":{\"histogram2dcontour\":[{\"type\":\"histogram2dcontour\",\"colorbar\":{\"outlinewidth\":0,\"ticks\":\"\"},\"colorscale\":[[0.0,\"#0d0887\"],[0.1111111111111111,\"#46039f\"],[0.2222222222222222,\"#7201a8\"],[0.3333333333333333,\"#9c179e\"],[0.4444444444444444,\"#bd3786\"],[0.5555555555555556,\"#d8576b\"],[0.6666666666666666,\"#ed7953\"],[0.7777777777777778,\"#fb9f3a\"],[0.8888888888888888,\"#fdca26\"],[1.0,\"#f0f921\"]]}],\"choropleth\":[{\"type\":\"choropleth\",\"colorbar\":{\"outlinewidth\":0,\"ticks\":\"\"}}],\"histogram2d\":[{\"type\":\"histogram2d\",\"colorbar\":{\"outlinewidth\":0,\"ticks\":\"\"},\"colorscale\":[[0.0,\"#0d0887\"],[0.1111111111111111,\"#46039f\"],[0.2222222222222222,\"#7201a8\"],[0.3333333333333333,\"#9c179e\"],[0.4444444444444444,\"#bd3786\"],[0.5555555555555556,\"#d8576b\"],[0.6666666666666666,\"#ed7953\"],[0.7777777777777778,\"#fb9f3a\"],[0.8888888888888888,\"#fdca26\"],[1.0,\"#f0f921\"]]}],\"heatmap\":[{\"type\":\"heatmap\",\"colorbar\":{\"outlinewidth\":0,\"ticks\":\"\"},\"colorscale\":[[0.0,\"#0d0887\"],[0.1111111111111111,\"#46039f\"],[0.2222222222222222,\"#7201a8\"],[0.3333333333333333,\"#9c179e\"],[0.4444444444444444,\"#bd3786\"],[0.5555555555555556,\"#d8576b\"],[0.6666666666666666,\"#ed7953\"],[0.7777777777777778,\"#fb9f3a\"],[0.8888888888888888,\"#fdca26\"],[1.0,\"#f0f921\"]]}],\"heatmapgl\":[{\"type\":\"heatmapgl\",\"colorbar\":{\"outlinewidth\":0,\"ticks\":\"\"},\"colorscale\":[[0.0,\"#0d0887\"],[0.1111111111111111,\"#46039f\"],[0.2222222222222222,\"#7201a8\"],[0.3333333333333333,\"#9c179e\"],[0.4444444444444444,\"#bd3786\"],[0.5555555555555556,\"#d8576b\"],[0.6666666666666666,\"#ed7953\"],[0.7777777777777778,\"#fb9f3a\"],[0.8888888888888888,\"#fdca26\"],[1.0,\"#f0f921\"]]}],\"contourcarpet\":[{\"type\":\"contourcarpet\",\"colorbar\":{\"outlinewidth\":0,\"ticks\":\"\"}}],\"contour\":[{\"type\":\"contour\",\"colorbar\":{\"outlinewidth\":0,\"ticks\":\"\"},\"colorscale\":[[0.0,\"#0d0887\"],[0.1111111111111111,\"#46039f\"],[0.2222222222222222,\"#7201a8\"],[0.3333333333333333,\"#9c179e\"],[0.4444444444444444,\"#bd3786\"],[0.5555555555555556,\"#d8576b\"],[0.6666666666666666,\"#ed7953\"],[0.7777777777777778,\"#fb9f3a\"],[0.8888888888888888,\"#fdca26\"],[1.0,\"#f0f921\"]]}],\"surface\":[{\"type\":\"surface\",\"colorbar\":{\"outlinewidth\":0,\"ticks\":\"\"},\"colorscale\":[[0.0,\"#0d0887\"],[0.1111111111111111,\"#46039f\"],[0.2222222222222222,\"#7201a8\"],[0.3333333333333333,\"#9c179e\"],[0.4444444444444444,\"#bd3786\"],[0.5555555555555556,\"#d8576b\"],[0.6666666666666666,\"#ed7953\"],[0.7777777777777778,\"#fb9f3a\"],[0.8888888888888888,\"#fdca26\"],[1.0,\"#f0f921\"]]}],\"mesh3d\":[{\"type\":\"mesh3d\",\"colorbar\":{\"outlinewidth\":0,\"ticks\":\"\"}}],\"scatter\":[{\"fillpattern\":{\"fillmode\":\"overlay\",\"size\":10,\"solidity\":0.2},\"type\":\"scatter\"}],\"parcoords\":[{\"type\":\"parcoords\",\"line\":{\"colorbar\":{\"outlinewidth\":0,\"ticks\":\"\"}}}],\"scatterpolargl\":[{\"type\":\"scatterpolargl\",\"marker\":{\"colorbar\":{\"outlinewidth\":0,\"ticks\":\"\"}}}],\"bar\":[{\"error_x\":{\"color\":\"#2a3f5f\"},\"error_y\":{\"color\":\"#2a3f5f\"},\"marker\":{\"line\":{\"color\":\"#E5ECF6\",\"width\":0.5},\"pattern\":{\"fillmode\":\"overlay\",\"size\":10,\"solidity\":0.2}},\"type\":\"bar\"}],\"scattergeo\":[{\"type\":\"scattergeo\",\"marker\":{\"colorbar\":{\"outlinewidth\":0,\"ticks\":\"\"}}}],\"scatterpolar\":[{\"type\":\"scatterpolar\",\"marker\":{\"colorbar\":{\"outlinewidth\":0,\"ticks\":\"\"}}}],\"histogram\":[{\"marker\":{\"pattern\":{\"fillmode\":\"overlay\",\"size\":10,\"solidity\":0.2}},\"type\":\"histogram\"}],\"scattergl\":[{\"type\":\"scattergl\",\"marker\":{\"colorbar\":{\"outlinewidth\":0,\"ticks\":\"\"}}}],\"scatter3d\":[{\"type\":\"scatter3d\",\"line\":{\"colorbar\":{\"outlinewidth\":0,\"ticks\":\"\"}},\"marker\":{\"colorbar\":{\"outlinewidth\":0,\"ticks\":\"\"}}}],\"scattermapbox\":[{\"type\":\"scattermapbox\",\"marker\":{\"colorbar\":{\"outlinewidth\":0,\"ticks\":\"\"}}}],\"scatterternary\":[{\"type\":\"scatterternary\",\"marker\":{\"colorbar\":{\"outlinewidth\":0,\"ticks\":\"\"}}}],\"scattercarpet\":[{\"type\":\"scattercarpet\",\"marker\":{\"colorbar\":{\"outlinewidth\":0,\"ticks\":\"\"}}}],\"carpet\":[{\"aaxis\":{\"endlinecolor\":\"#2a3f5f\",\"gridcolor\":\"white\",\"linecolor\":\"white\",\"minorgridcolor\":\"white\",\"startlinecolor\":\"#2a3f5f\"},\"baxis\":{\"endlinecolor\":\"#2a3f5f\",\"gridcolor\":\"white\",\"linecolor\":\"white\",\"minorgridcolor\":\"white\",\"startlinecolor\":\"#2a3f5f\"},\"type\":\"carpet\"}],\"table\":[{\"cells\":{\"fill\":{\"color\":\"#EBF0F8\"},\"line\":{\"color\":\"white\"}},\"header\":{\"fill\":{\"color\":\"#C8D4E3\"},\"line\":{\"color\":\"white\"}},\"type\":\"table\"}],\"barpolar\":[{\"marker\":{\"line\":{\"color\":\"#E5ECF6\",\"width\":0.5},\"pattern\":{\"fillmode\":\"overlay\",\"size\":10,\"solidity\":0.2}},\"type\":\"barpolar\"}],\"pie\":[{\"automargin\":true,\"type\":\"pie\"}]},\"layout\":{\"autotypenumbers\":\"strict\",\"colorway\":[\"#636efa\",\"#EF553B\",\"#00cc96\",\"#ab63fa\",\"#FFA15A\",\"#19d3f3\",\"#FF6692\",\"#B6E880\",\"#FF97FF\",\"#FECB52\"],\"font\":{\"color\":\"#2a3f5f\"},\"hovermode\":\"closest\",\"hoverlabel\":{\"align\":\"left\"},\"paper_bgcolor\":\"white\",\"plot_bgcolor\":\"#E5ECF6\",\"polar\":{\"bgcolor\":\"#E5ECF6\",\"angularaxis\":{\"gridcolor\":\"white\",\"linecolor\":\"white\",\"ticks\":\"\"},\"radialaxis\":{\"gridcolor\":\"white\",\"linecolor\":\"white\",\"ticks\":\"\"}},\"ternary\":{\"bgcolor\":\"#E5ECF6\",\"aaxis\":{\"gridcolor\":\"white\",\"linecolor\":\"white\",\"ticks\":\"\"},\"baxis\":{\"gridcolor\":\"white\",\"linecolor\":\"white\",\"ticks\":\"\"},\"caxis\":{\"gridcolor\":\"white\",\"linecolor\":\"white\",\"ticks\":\"\"}},\"coloraxis\":{\"colorbar\":{\"outlinewidth\":0,\"ticks\":\"\"}},\"colorscale\":{\"sequential\":[[0.0,\"#0d0887\"],[0.1111111111111111,\"#46039f\"],[0.2222222222222222,\"#7201a8\"],[0.3333333333333333,\"#9c179e\"],[0.4444444444444444,\"#bd3786\"],[0.5555555555555556,\"#d8576b\"],[0.6666666666666666,\"#ed7953\"],[0.7777777777777778,\"#fb9f3a\"],[0.8888888888888888,\"#fdca26\"],[1.0,\"#f0f921\"]],\"sequentialminus\":[[0.0,\"#0d0887\"],[0.1111111111111111,\"#46039f\"],[0.2222222222222222,\"#7201a8\"],[0.3333333333333333,\"#9c179e\"],[0.4444444444444444,\"#bd3786\"],[0.5555555555555556,\"#d8576b\"],[0.6666666666666666,\"#ed7953\"],[0.7777777777777778,\"#fb9f3a\"],[0.8888888888888888,\"#fdca26\"],[1.0,\"#f0f921\"]],\"diverging\":[[0,\"#8e0152\"],[0.1,\"#c51b7d\"],[0.2,\"#de77ae\"],[0.3,\"#f1b6da\"],[0.4,\"#fde0ef\"],[0.5,\"#f7f7f7\"],[0.6,\"#e6f5d0\"],[0.7,\"#b8e186\"],[0.8,\"#7fbc41\"],[0.9,\"#4d9221\"],[1,\"#276419\"]]},\"xaxis\":{\"gridcolor\":\"white\",\"linecolor\":\"white\",\"ticks\":\"\",\"title\":{\"standoff\":15},\"zerolinecolor\":\"white\",\"automargin\":true,\"zerolinewidth\":2},\"yaxis\":{\"gridcolor\":\"white\",\"linecolor\":\"white\",\"ticks\":\"\",\"title\":{\"standoff\":15},\"zerolinecolor\":\"white\",\"automargin\":true,\"zerolinewidth\":2},\"scene\":{\"xaxis\":{\"backgroundcolor\":\"#E5ECF6\",\"gridcolor\":\"white\",\"linecolor\":\"white\",\"showbackground\":true,\"ticks\":\"\",\"zerolinecolor\":\"white\",\"gridwidth\":2},\"yaxis\":{\"backgroundcolor\":\"#E5ECF6\",\"gridcolor\":\"white\",\"linecolor\":\"white\",\"showbackground\":true,\"ticks\":\"\",\"zerolinecolor\":\"white\",\"gridwidth\":2},\"zaxis\":{\"backgroundcolor\":\"#E5ECF6\",\"gridcolor\":\"white\",\"linecolor\":\"white\",\"showbackground\":true,\"ticks\":\"\",\"zerolinecolor\":\"white\",\"gridwidth\":2}},\"shapedefaults\":{\"line\":{\"color\":\"#2a3f5f\"}},\"annotationdefaults\":{\"arrowcolor\":\"#2a3f5f\",\"arrowhead\":0,\"arrowwidth\":1},\"geo\":{\"bgcolor\":\"white\",\"landcolor\":\"#E5ECF6\",\"subunitcolor\":\"white\",\"showland\":true,\"showlakes\":true,\"lakecolor\":\"white\"},\"title\":{\"x\":0.05},\"mapbox\":{\"style\":\"light\"}}},\"mapbox\":{\"domain\":{\"x\":[0.0,1.0],\"y\":[0.0,1.0]},\"center\":{\"lat\":-37.81373720225536,\"lon\":144.96378739120706},\"zoom\":14,\"style\":\"stamen-terrain\"},\"coloraxis\":{\"colorbar\":{\"title\":{\"text\":\"total_energy\"}},\"colorscale\":[[0.0,\"#0d0887\"],[0.1111111111111111,\"#46039f\"],[0.2222222222222222,\"#7201a8\"],[0.3333333333333333,\"#9c179e\"],[0.4444444444444444,\"#bd3786\"],[0.5555555555555556,\"#d8576b\"],[0.6666666666666666,\"#ed7953\"],[0.7777777777777778,\"#fb9f3a\"],[0.8888888888888888,\"#fdca26\"],[1.0,\"#f0f921\"]]},\"legend\":{\"tracegroupgap\":0},\"title\":{\"text\":\"Heatmap showing projected energy consumption across City of Melbourne\"},\"height\":1000,\"width\":1500},                        {\"responsive\": true}                    ).then(function(){\n",
       "                            \n",
       "var gd = document.getElementById('91403742-9519-48e4-826a-c5244bb0453b');\n",
       "var x = new MutationObserver(function (mutations, observer) {{\n",
       "        var display = window.getComputedStyle(gd).display;\n",
       "        if (!display || display === 'none') {{\n",
       "            console.log([gd, 'removed!']);\n",
       "            Plotly.purge(gd);\n",
       "            observer.disconnect();\n",
       "        }}\n",
       "}});\n",
       "\n",
       "// Listen for the removal of the full notebook cells\n",
       "var notebookContainer = gd.closest('#notebook-container');\n",
       "if (notebookContainer) {{\n",
       "    x.observe(notebookContainer, {childList: true});\n",
       "}}\n",
       "\n",
       "// Listen for the clearing of the current output cell\n",
       "var outputEl = gd.closest('.output');\n",
       "if (outputEl) {{\n",
       "    x.observe(outputEl, {childList: true});\n",
       "}}\n",
       "\n",
       "                        })                };                });            </script>        </div>"
      ]
     },
     "metadata": {},
     "output_type": "display_data"
    }
   ],
   "source": [
    "#Heatmap to show laneways with energy consumption\n",
    "fig = px.density_mapbox(laneways, lat = 'lat', lon = 'lon', z = 'total_energy',mapbox_style=\"stamen-terrain\", opacity = 0.5, \n",
    "        title = 'Heatmap showing projected energy consumption across City of Melbourne', \n",
    "        width = 1500, height = 1000, zoom = 14)\n",
    "fig"
   ]
  },
  {
   "cell_type": "code",
   "execution_count": 19,
   "metadata": {},
   "outputs": [],
   "source": [
    "# Set radius to 50 meters\n",
    "radius = 0.05  # km\n",
    "\n",
    "# Function to count number of trees within a certain distance from a point\n",
    "def count_trees_within_radius(lat, lon):\n",
    "    # Calculate distances to all trees\n",
    "    distances = [distance(lat, lon, row['lat'], row['lon']) for _, row in uf.iterrows()]\n",
    "    # Return number of trees within radius\n",
    "    return sum(np.array(distances) <= radius)\n",
    "\n",
    "# Apply function to each laneway\n",
    "laneways['trees_within_radius'] = laneways.apply(lambda row: count_trees_within_radius(row['lat'], row['lon']), axis=1)"
   ]
  },
  {
   "cell_type": "code",
   "execution_count": 68,
   "metadata": {
    "scrolled": false
   },
   "outputs": [
    {
     "data": {
      "application/vnd.plotly.v1+json": {
       "config": {
        "plotlyServerURL": "https://plot.ly"
       },
       "data": [
        {
         "hovertemplate": "index=%{x}<br>trees_within_radius=%{y}<extra></extra>",
         "legendgroup": "",
         "marker": {
          "color": "#636efa",
          "symbol": "circle"
         },
         "mode": "markers",
         "name": "",
         "orientation": "v",
         "showlegend": false,
         "type": "scatter",
         "x": [
          0,
          1,
          2,
          3,
          4,
          5,
          6,
          7,
          8,
          9,
          10,
          11,
          12,
          13,
          14,
          15,
          16,
          17,
          18,
          19,
          20,
          21,
          22,
          23,
          24,
          25,
          26,
          27,
          28,
          29,
          30,
          31,
          32,
          33,
          34,
          35,
          36,
          37,
          38,
          39,
          40,
          41,
          42,
          43,
          44,
          45,
          46,
          47,
          48,
          49,
          50,
          51,
          52,
          53,
          54,
          55,
          56,
          57,
          58,
          59,
          60,
          61,
          62,
          63,
          64,
          65,
          66,
          67,
          68,
          69,
          70,
          71,
          72,
          73,
          74,
          75,
          76,
          77,
          78,
          79,
          80,
          81,
          82,
          83,
          84,
          85,
          86,
          87,
          88,
          89,
          90,
          91,
          92,
          93,
          94,
          95,
          96,
          97,
          98,
          99,
          100,
          101,
          102,
          103,
          104,
          105,
          106,
          107,
          108,
          109,
          110,
          111,
          112,
          113,
          114,
          115,
          116,
          117,
          118,
          119,
          120,
          121,
          122,
          123,
          124,
          125,
          126,
          127,
          128,
          129,
          130,
          131,
          132,
          133,
          134,
          135,
          136,
          137,
          138,
          139,
          140,
          141,
          142,
          143,
          144,
          145,
          146,
          147,
          148,
          149,
          150,
          151,
          152,
          153,
          154,
          155,
          156,
          157,
          158,
          159,
          160,
          161,
          162,
          163,
          164,
          165,
          166,
          167,
          168,
          169,
          170,
          171,
          172,
          173,
          174,
          175,
          176,
          177,
          178,
          179,
          180,
          181,
          182,
          183,
          184,
          185,
          186,
          187,
          188,
          189,
          190,
          191,
          192,
          193,
          194,
          195,
          196,
          197,
          198,
          199,
          200,
          201,
          202,
          203,
          204,
          205,
          206,
          207,
          208,
          209,
          210,
          211,
          212,
          213,
          214,
          215,
          216,
          217,
          218,
          219,
          220,
          221,
          222,
          223,
          224,
          225,
          226,
          227,
          228,
          229,
          230,
          231,
          232,
          233,
          234,
          235,
          236,
          237,
          238,
          239,
          240,
          241,
          242,
          243,
          244,
          245
         ],
         "xaxis": "x",
         "y": [
          13,
          11,
          10,
          15,
          4,
          12,
          6,
          4,
          13,
          8,
          2,
          10,
          1,
          5,
          5,
          9,
          11,
          0,
          1,
          4,
          0,
          0,
          3,
          0,
          0,
          0,
          2,
          9,
          5,
          8,
          7,
          0,
          12,
          12,
          7,
          15,
          17,
          10,
          3,
          3,
          5,
          8,
          4,
          4,
          3,
          3,
          5,
          2,
          4,
          8,
          7,
          0,
          2,
          9,
          3,
          3,
          6,
          10,
          11,
          11,
          13,
          8,
          3,
          15,
          0,
          2,
          6,
          18,
          5,
          7,
          2,
          7,
          3,
          0,
          1,
          2,
          11,
          6,
          7,
          6,
          6,
          0,
          7,
          8,
          3,
          7,
          5,
          20,
          12,
          7,
          10,
          11,
          9,
          5,
          0,
          1,
          10,
          1,
          6,
          0,
          7,
          8,
          1,
          8,
          2,
          2,
          0,
          2,
          3,
          0,
          0,
          9,
          0,
          13,
          13,
          1,
          6,
          5,
          9,
          0,
          7,
          0,
          5,
          4,
          5,
          4,
          3,
          0,
          1,
          0,
          2,
          2,
          5,
          0,
          0,
          4,
          0,
          2,
          10,
          0,
          8,
          0,
          9,
          0,
          10,
          6,
          1,
          4,
          4,
          5,
          13,
          4,
          20,
          3,
          4,
          13,
          5,
          0,
          0,
          4,
          1,
          9,
          9,
          3,
          14,
          16,
          17,
          8,
          6,
          8,
          8,
          0,
          13,
          3,
          0,
          0,
          0,
          0,
          2,
          10,
          0,
          0,
          1,
          0,
          3,
          4,
          2,
          8,
          11,
          11,
          0,
          1,
          11,
          0,
          0,
          0,
          0,
          5,
          13,
          4,
          0,
          3,
          5,
          16,
          9,
          9,
          0,
          2,
          17,
          13,
          2,
          14,
          5,
          11,
          7,
          17,
          2,
          11,
          2,
          10,
          4,
          1,
          5,
          7,
          4,
          15,
          4,
          1,
          8,
          2,
          0,
          9,
          14,
          3,
          9,
          8,
          3,
          16,
          1,
          0,
          5,
          6,
          2,
          4,
          9,
          0
         ],
         "yaxis": "y"
        }
       ],
       "layout": {
        "legend": {
         "tracegroupgap": 0
        },
        "margin": {
         "t": 60
        },
        "template": {
         "data": {
          "bar": [
           {
            "error_x": {
             "color": "#2a3f5f"
            },
            "error_y": {
             "color": "#2a3f5f"
            },
            "marker": {
             "line": {
              "color": "#E5ECF6",
              "width": 0.5
             },
             "pattern": {
              "fillmode": "overlay",
              "size": 10,
              "solidity": 0.2
             }
            },
            "type": "bar"
           }
          ],
          "barpolar": [
           {
            "marker": {
             "line": {
              "color": "#E5ECF6",
              "width": 0.5
             },
             "pattern": {
              "fillmode": "overlay",
              "size": 10,
              "solidity": 0.2
             }
            },
            "type": "barpolar"
           }
          ],
          "carpet": [
           {
            "aaxis": {
             "endlinecolor": "#2a3f5f",
             "gridcolor": "white",
             "linecolor": "white",
             "minorgridcolor": "white",
             "startlinecolor": "#2a3f5f"
            },
            "baxis": {
             "endlinecolor": "#2a3f5f",
             "gridcolor": "white",
             "linecolor": "white",
             "minorgridcolor": "white",
             "startlinecolor": "#2a3f5f"
            },
            "type": "carpet"
           }
          ],
          "choropleth": [
           {
            "colorbar": {
             "outlinewidth": 0,
             "ticks": ""
            },
            "type": "choropleth"
           }
          ],
          "contour": [
           {
            "colorbar": {
             "outlinewidth": 0,
             "ticks": ""
            },
            "colorscale": [
             [
              0,
              "#0d0887"
             ],
             [
              0.1111111111111111,
              "#46039f"
             ],
             [
              0.2222222222222222,
              "#7201a8"
             ],
             [
              0.3333333333333333,
              "#9c179e"
             ],
             [
              0.4444444444444444,
              "#bd3786"
             ],
             [
              0.5555555555555556,
              "#d8576b"
             ],
             [
              0.6666666666666666,
              "#ed7953"
             ],
             [
              0.7777777777777778,
              "#fb9f3a"
             ],
             [
              0.8888888888888888,
              "#fdca26"
             ],
             [
              1,
              "#f0f921"
             ]
            ],
            "type": "contour"
           }
          ],
          "contourcarpet": [
           {
            "colorbar": {
             "outlinewidth": 0,
             "ticks": ""
            },
            "type": "contourcarpet"
           }
          ],
          "heatmap": [
           {
            "colorbar": {
             "outlinewidth": 0,
             "ticks": ""
            },
            "colorscale": [
             [
              0,
              "#0d0887"
             ],
             [
              0.1111111111111111,
              "#46039f"
             ],
             [
              0.2222222222222222,
              "#7201a8"
             ],
             [
              0.3333333333333333,
              "#9c179e"
             ],
             [
              0.4444444444444444,
              "#bd3786"
             ],
             [
              0.5555555555555556,
              "#d8576b"
             ],
             [
              0.6666666666666666,
              "#ed7953"
             ],
             [
              0.7777777777777778,
              "#fb9f3a"
             ],
             [
              0.8888888888888888,
              "#fdca26"
             ],
             [
              1,
              "#f0f921"
             ]
            ],
            "type": "heatmap"
           }
          ],
          "heatmapgl": [
           {
            "colorbar": {
             "outlinewidth": 0,
             "ticks": ""
            },
            "colorscale": [
             [
              0,
              "#0d0887"
             ],
             [
              0.1111111111111111,
              "#46039f"
             ],
             [
              0.2222222222222222,
              "#7201a8"
             ],
             [
              0.3333333333333333,
              "#9c179e"
             ],
             [
              0.4444444444444444,
              "#bd3786"
             ],
             [
              0.5555555555555556,
              "#d8576b"
             ],
             [
              0.6666666666666666,
              "#ed7953"
             ],
             [
              0.7777777777777778,
              "#fb9f3a"
             ],
             [
              0.8888888888888888,
              "#fdca26"
             ],
             [
              1,
              "#f0f921"
             ]
            ],
            "type": "heatmapgl"
           }
          ],
          "histogram": [
           {
            "marker": {
             "pattern": {
              "fillmode": "overlay",
              "size": 10,
              "solidity": 0.2
             }
            },
            "type": "histogram"
           }
          ],
          "histogram2d": [
           {
            "colorbar": {
             "outlinewidth": 0,
             "ticks": ""
            },
            "colorscale": [
             [
              0,
              "#0d0887"
             ],
             [
              0.1111111111111111,
              "#46039f"
             ],
             [
              0.2222222222222222,
              "#7201a8"
             ],
             [
              0.3333333333333333,
              "#9c179e"
             ],
             [
              0.4444444444444444,
              "#bd3786"
             ],
             [
              0.5555555555555556,
              "#d8576b"
             ],
             [
              0.6666666666666666,
              "#ed7953"
             ],
             [
              0.7777777777777778,
              "#fb9f3a"
             ],
             [
              0.8888888888888888,
              "#fdca26"
             ],
             [
              1,
              "#f0f921"
             ]
            ],
            "type": "histogram2d"
           }
          ],
          "histogram2dcontour": [
           {
            "colorbar": {
             "outlinewidth": 0,
             "ticks": ""
            },
            "colorscale": [
             [
              0,
              "#0d0887"
             ],
             [
              0.1111111111111111,
              "#46039f"
             ],
             [
              0.2222222222222222,
              "#7201a8"
             ],
             [
              0.3333333333333333,
              "#9c179e"
             ],
             [
              0.4444444444444444,
              "#bd3786"
             ],
             [
              0.5555555555555556,
              "#d8576b"
             ],
             [
              0.6666666666666666,
              "#ed7953"
             ],
             [
              0.7777777777777778,
              "#fb9f3a"
             ],
             [
              0.8888888888888888,
              "#fdca26"
             ],
             [
              1,
              "#f0f921"
             ]
            ],
            "type": "histogram2dcontour"
           }
          ],
          "mesh3d": [
           {
            "colorbar": {
             "outlinewidth": 0,
             "ticks": ""
            },
            "type": "mesh3d"
           }
          ],
          "parcoords": [
           {
            "line": {
             "colorbar": {
              "outlinewidth": 0,
              "ticks": ""
             }
            },
            "type": "parcoords"
           }
          ],
          "pie": [
           {
            "automargin": true,
            "type": "pie"
           }
          ],
          "scatter": [
           {
            "fillpattern": {
             "fillmode": "overlay",
             "size": 10,
             "solidity": 0.2
            },
            "type": "scatter"
           }
          ],
          "scatter3d": [
           {
            "line": {
             "colorbar": {
              "outlinewidth": 0,
              "ticks": ""
             }
            },
            "marker": {
             "colorbar": {
              "outlinewidth": 0,
              "ticks": ""
             }
            },
            "type": "scatter3d"
           }
          ],
          "scattercarpet": [
           {
            "marker": {
             "colorbar": {
              "outlinewidth": 0,
              "ticks": ""
             }
            },
            "type": "scattercarpet"
           }
          ],
          "scattergeo": [
           {
            "marker": {
             "colorbar": {
              "outlinewidth": 0,
              "ticks": ""
             }
            },
            "type": "scattergeo"
           }
          ],
          "scattergl": [
           {
            "marker": {
             "colorbar": {
              "outlinewidth": 0,
              "ticks": ""
             }
            },
            "type": "scattergl"
           }
          ],
          "scattermapbox": [
           {
            "marker": {
             "colorbar": {
              "outlinewidth": 0,
              "ticks": ""
             }
            },
            "type": "scattermapbox"
           }
          ],
          "scatterpolar": [
           {
            "marker": {
             "colorbar": {
              "outlinewidth": 0,
              "ticks": ""
             }
            },
            "type": "scatterpolar"
           }
          ],
          "scatterpolargl": [
           {
            "marker": {
             "colorbar": {
              "outlinewidth": 0,
              "ticks": ""
             }
            },
            "type": "scatterpolargl"
           }
          ],
          "scatterternary": [
           {
            "marker": {
             "colorbar": {
              "outlinewidth": 0,
              "ticks": ""
             }
            },
            "type": "scatterternary"
           }
          ],
          "surface": [
           {
            "colorbar": {
             "outlinewidth": 0,
             "ticks": ""
            },
            "colorscale": [
             [
              0,
              "#0d0887"
             ],
             [
              0.1111111111111111,
              "#46039f"
             ],
             [
              0.2222222222222222,
              "#7201a8"
             ],
             [
              0.3333333333333333,
              "#9c179e"
             ],
             [
              0.4444444444444444,
              "#bd3786"
             ],
             [
              0.5555555555555556,
              "#d8576b"
             ],
             [
              0.6666666666666666,
              "#ed7953"
             ],
             [
              0.7777777777777778,
              "#fb9f3a"
             ],
             [
              0.8888888888888888,
              "#fdca26"
             ],
             [
              1,
              "#f0f921"
             ]
            ],
            "type": "surface"
           }
          ],
          "table": [
           {
            "cells": {
             "fill": {
              "color": "#EBF0F8"
             },
             "line": {
              "color": "white"
             }
            },
            "header": {
             "fill": {
              "color": "#C8D4E3"
             },
             "line": {
              "color": "white"
             }
            },
            "type": "table"
           }
          ]
         },
         "layout": {
          "annotationdefaults": {
           "arrowcolor": "#2a3f5f",
           "arrowhead": 0,
           "arrowwidth": 1
          },
          "autotypenumbers": "strict",
          "coloraxis": {
           "colorbar": {
            "outlinewidth": 0,
            "ticks": ""
           }
          },
          "colorscale": {
           "diverging": [
            [
             0,
             "#8e0152"
            ],
            [
             0.1,
             "#c51b7d"
            ],
            [
             0.2,
             "#de77ae"
            ],
            [
             0.3,
             "#f1b6da"
            ],
            [
             0.4,
             "#fde0ef"
            ],
            [
             0.5,
             "#f7f7f7"
            ],
            [
             0.6,
             "#e6f5d0"
            ],
            [
             0.7,
             "#b8e186"
            ],
            [
             0.8,
             "#7fbc41"
            ],
            [
             0.9,
             "#4d9221"
            ],
            [
             1,
             "#276419"
            ]
           ],
           "sequential": [
            [
             0,
             "#0d0887"
            ],
            [
             0.1111111111111111,
             "#46039f"
            ],
            [
             0.2222222222222222,
             "#7201a8"
            ],
            [
             0.3333333333333333,
             "#9c179e"
            ],
            [
             0.4444444444444444,
             "#bd3786"
            ],
            [
             0.5555555555555556,
             "#d8576b"
            ],
            [
             0.6666666666666666,
             "#ed7953"
            ],
            [
             0.7777777777777778,
             "#fb9f3a"
            ],
            [
             0.8888888888888888,
             "#fdca26"
            ],
            [
             1,
             "#f0f921"
            ]
           ],
           "sequentialminus": [
            [
             0,
             "#0d0887"
            ],
            [
             0.1111111111111111,
             "#46039f"
            ],
            [
             0.2222222222222222,
             "#7201a8"
            ],
            [
             0.3333333333333333,
             "#9c179e"
            ],
            [
             0.4444444444444444,
             "#bd3786"
            ],
            [
             0.5555555555555556,
             "#d8576b"
            ],
            [
             0.6666666666666666,
             "#ed7953"
            ],
            [
             0.7777777777777778,
             "#fb9f3a"
            ],
            [
             0.8888888888888888,
             "#fdca26"
            ],
            [
             1,
             "#f0f921"
            ]
           ]
          },
          "colorway": [
           "#636efa",
           "#EF553B",
           "#00cc96",
           "#ab63fa",
           "#FFA15A",
           "#19d3f3",
           "#FF6692",
           "#B6E880",
           "#FF97FF",
           "#FECB52"
          ],
          "font": {
           "color": "#2a3f5f"
          },
          "geo": {
           "bgcolor": "white",
           "lakecolor": "white",
           "landcolor": "#E5ECF6",
           "showlakes": true,
           "showland": true,
           "subunitcolor": "white"
          },
          "hoverlabel": {
           "align": "left"
          },
          "hovermode": "closest",
          "mapbox": {
           "style": "light"
          },
          "paper_bgcolor": "white",
          "plot_bgcolor": "#E5ECF6",
          "polar": {
           "angularaxis": {
            "gridcolor": "white",
            "linecolor": "white",
            "ticks": ""
           },
           "bgcolor": "#E5ECF6",
           "radialaxis": {
            "gridcolor": "white",
            "linecolor": "white",
            "ticks": ""
           }
          },
          "scene": {
           "xaxis": {
            "backgroundcolor": "#E5ECF6",
            "gridcolor": "white",
            "gridwidth": 2,
            "linecolor": "white",
            "showbackground": true,
            "ticks": "",
            "zerolinecolor": "white"
           },
           "yaxis": {
            "backgroundcolor": "#E5ECF6",
            "gridcolor": "white",
            "gridwidth": 2,
            "linecolor": "white",
            "showbackground": true,
            "ticks": "",
            "zerolinecolor": "white"
           },
           "zaxis": {
            "backgroundcolor": "#E5ECF6",
            "gridcolor": "white",
            "gridwidth": 2,
            "linecolor": "white",
            "showbackground": true,
            "ticks": "",
            "zerolinecolor": "white"
           }
          },
          "shapedefaults": {
           "line": {
            "color": "#2a3f5f"
           }
          },
          "ternary": {
           "aaxis": {
            "gridcolor": "white",
            "linecolor": "white",
            "ticks": ""
           },
           "baxis": {
            "gridcolor": "white",
            "linecolor": "white",
            "ticks": ""
           },
           "bgcolor": "#E5ECF6",
           "caxis": {
            "gridcolor": "white",
            "linecolor": "white",
            "ticks": ""
           }
          },
          "title": {
           "x": 0.05
          },
          "xaxis": {
           "automargin": true,
           "gridcolor": "white",
           "linecolor": "white",
           "ticks": "",
           "title": {
            "standoff": 15
           },
           "zerolinecolor": "white",
           "zerolinewidth": 2
          },
          "yaxis": {
           "automargin": true,
           "gridcolor": "white",
           "linecolor": "white",
           "ticks": "",
           "title": {
            "standoff": 15
           },
           "zerolinecolor": "white",
           "zerolinewidth": 2
          }
         }
        },
        "title": {
         "text": "Number of trees within 50 meters"
        },
        "xaxis": {
         "anchor": "y",
         "domain": [
          0,
          1
         ],
         "title": {
          "text": "index"
         }
        },
        "yaxis": {
         "anchor": "x",
         "domain": [
          0,
          1
         ],
         "title": {
          "text": "trees_within_radius"
         }
        }
       }
      },
      "text/html": [
       "<div>                            <div id=\"f1631fa7-26f7-450a-9221-5f0f8dd9c286\" class=\"plotly-graph-div\" style=\"height:525px; width:100%;\"></div>            <script type=\"text/javascript\">                require([\"plotly\"], function(Plotly) {                    window.PLOTLYENV=window.PLOTLYENV || {};                                    if (document.getElementById(\"f1631fa7-26f7-450a-9221-5f0f8dd9c286\")) {                    Plotly.newPlot(                        \"f1631fa7-26f7-450a-9221-5f0f8dd9c286\",                        [{\"hovertemplate\":\"index=%{x}<br>trees_within_radius=%{y}<extra></extra>\",\"legendgroup\":\"\",\"marker\":{\"color\":\"#636efa\",\"symbol\":\"circle\"},\"mode\":\"markers\",\"name\":\"\",\"orientation\":\"v\",\"showlegend\":false,\"x\":[0,1,2,3,4,5,6,7,8,9,10,11,12,13,14,15,16,17,18,19,20,21,22,23,24,25,26,27,28,29,30,31,32,33,34,35,36,37,38,39,40,41,42,43,44,45,46,47,48,49,50,51,52,53,54,55,56,57,58,59,60,61,62,63,64,65,66,67,68,69,70,71,72,73,74,75,76,77,78,79,80,81,82,83,84,85,86,87,88,89,90,91,92,93,94,95,96,97,98,99,100,101,102,103,104,105,106,107,108,109,110,111,112,113,114,115,116,117,118,119,120,121,122,123,124,125,126,127,128,129,130,131,132,133,134,135,136,137,138,139,140,141,142,143,144,145,146,147,148,149,150,151,152,153,154,155,156,157,158,159,160,161,162,163,164,165,166,167,168,169,170,171,172,173,174,175,176,177,178,179,180,181,182,183,184,185,186,187,188,189,190,191,192,193,194,195,196,197,198,199,200,201,202,203,204,205,206,207,208,209,210,211,212,213,214,215,216,217,218,219,220,221,222,223,224,225,226,227,228,229,230,231,232,233,234,235,236,237,238,239,240,241,242,243,244,245],\"xaxis\":\"x\",\"y\":[13,11,10,15,4,12,6,4,13,8,2,10,1,5,5,9,11,0,1,4,0,0,3,0,0,0,2,9,5,8,7,0,12,12,7,15,17,10,3,3,5,8,4,4,3,3,5,2,4,8,7,0,2,9,3,3,6,10,11,11,13,8,3,15,0,2,6,18,5,7,2,7,3,0,1,2,11,6,7,6,6,0,7,8,3,7,5,20,12,7,10,11,9,5,0,1,10,1,6,0,7,8,1,8,2,2,0,2,3,0,0,9,0,13,13,1,6,5,9,0,7,0,5,4,5,4,3,0,1,0,2,2,5,0,0,4,0,2,10,0,8,0,9,0,10,6,1,4,4,5,13,4,20,3,4,13,5,0,0,4,1,9,9,3,14,16,17,8,6,8,8,0,13,3,0,0,0,0,2,10,0,0,1,0,3,4,2,8,11,11,0,1,11,0,0,0,0,5,13,4,0,3,5,16,9,9,0,2,17,13,2,14,5,11,7,17,2,11,2,10,4,1,5,7,4,15,4,1,8,2,0,9,14,3,9,8,3,16,1,0,5,6,2,4,9,0],\"yaxis\":\"y\",\"type\":\"scatter\"}],                        {\"template\":{\"data\":{\"histogram2dcontour\":[{\"type\":\"histogram2dcontour\",\"colorbar\":{\"outlinewidth\":0,\"ticks\":\"\"},\"colorscale\":[[0.0,\"#0d0887\"],[0.1111111111111111,\"#46039f\"],[0.2222222222222222,\"#7201a8\"],[0.3333333333333333,\"#9c179e\"],[0.4444444444444444,\"#bd3786\"],[0.5555555555555556,\"#d8576b\"],[0.6666666666666666,\"#ed7953\"],[0.7777777777777778,\"#fb9f3a\"],[0.8888888888888888,\"#fdca26\"],[1.0,\"#f0f921\"]]}],\"choropleth\":[{\"type\":\"choropleth\",\"colorbar\":{\"outlinewidth\":0,\"ticks\":\"\"}}],\"histogram2d\":[{\"type\":\"histogram2d\",\"colorbar\":{\"outlinewidth\":0,\"ticks\":\"\"},\"colorscale\":[[0.0,\"#0d0887\"],[0.1111111111111111,\"#46039f\"],[0.2222222222222222,\"#7201a8\"],[0.3333333333333333,\"#9c179e\"],[0.4444444444444444,\"#bd3786\"],[0.5555555555555556,\"#d8576b\"],[0.6666666666666666,\"#ed7953\"],[0.7777777777777778,\"#fb9f3a\"],[0.8888888888888888,\"#fdca26\"],[1.0,\"#f0f921\"]]}],\"heatmap\":[{\"type\":\"heatmap\",\"colorbar\":{\"outlinewidth\":0,\"ticks\":\"\"},\"colorscale\":[[0.0,\"#0d0887\"],[0.1111111111111111,\"#46039f\"],[0.2222222222222222,\"#7201a8\"],[0.3333333333333333,\"#9c179e\"],[0.4444444444444444,\"#bd3786\"],[0.5555555555555556,\"#d8576b\"],[0.6666666666666666,\"#ed7953\"],[0.7777777777777778,\"#fb9f3a\"],[0.8888888888888888,\"#fdca26\"],[1.0,\"#f0f921\"]]}],\"heatmapgl\":[{\"type\":\"heatmapgl\",\"colorbar\":{\"outlinewidth\":0,\"ticks\":\"\"},\"colorscale\":[[0.0,\"#0d0887\"],[0.1111111111111111,\"#46039f\"],[0.2222222222222222,\"#7201a8\"],[0.3333333333333333,\"#9c179e\"],[0.4444444444444444,\"#bd3786\"],[0.5555555555555556,\"#d8576b\"],[0.6666666666666666,\"#ed7953\"],[0.7777777777777778,\"#fb9f3a\"],[0.8888888888888888,\"#fdca26\"],[1.0,\"#f0f921\"]]}],\"contourcarpet\":[{\"type\":\"contourcarpet\",\"colorbar\":{\"outlinewidth\":0,\"ticks\":\"\"}}],\"contour\":[{\"type\":\"contour\",\"colorbar\":{\"outlinewidth\":0,\"ticks\":\"\"},\"colorscale\":[[0.0,\"#0d0887\"],[0.1111111111111111,\"#46039f\"],[0.2222222222222222,\"#7201a8\"],[0.3333333333333333,\"#9c179e\"],[0.4444444444444444,\"#bd3786\"],[0.5555555555555556,\"#d8576b\"],[0.6666666666666666,\"#ed7953\"],[0.7777777777777778,\"#fb9f3a\"],[0.8888888888888888,\"#fdca26\"],[1.0,\"#f0f921\"]]}],\"surface\":[{\"type\":\"surface\",\"colorbar\":{\"outlinewidth\":0,\"ticks\":\"\"},\"colorscale\":[[0.0,\"#0d0887\"],[0.1111111111111111,\"#46039f\"],[0.2222222222222222,\"#7201a8\"],[0.3333333333333333,\"#9c179e\"],[0.4444444444444444,\"#bd3786\"],[0.5555555555555556,\"#d8576b\"],[0.6666666666666666,\"#ed7953\"],[0.7777777777777778,\"#fb9f3a\"],[0.8888888888888888,\"#fdca26\"],[1.0,\"#f0f921\"]]}],\"mesh3d\":[{\"type\":\"mesh3d\",\"colorbar\":{\"outlinewidth\":0,\"ticks\":\"\"}}],\"scatter\":[{\"fillpattern\":{\"fillmode\":\"overlay\",\"size\":10,\"solidity\":0.2},\"type\":\"scatter\"}],\"parcoords\":[{\"type\":\"parcoords\",\"line\":{\"colorbar\":{\"outlinewidth\":0,\"ticks\":\"\"}}}],\"scatterpolargl\":[{\"type\":\"scatterpolargl\",\"marker\":{\"colorbar\":{\"outlinewidth\":0,\"ticks\":\"\"}}}],\"bar\":[{\"error_x\":{\"color\":\"#2a3f5f\"},\"error_y\":{\"color\":\"#2a3f5f\"},\"marker\":{\"line\":{\"color\":\"#E5ECF6\",\"width\":0.5},\"pattern\":{\"fillmode\":\"overlay\",\"size\":10,\"solidity\":0.2}},\"type\":\"bar\"}],\"scattergeo\":[{\"type\":\"scattergeo\",\"marker\":{\"colorbar\":{\"outlinewidth\":0,\"ticks\":\"\"}}}],\"scatterpolar\":[{\"type\":\"scatterpolar\",\"marker\":{\"colorbar\":{\"outlinewidth\":0,\"ticks\":\"\"}}}],\"histogram\":[{\"marker\":{\"pattern\":{\"fillmode\":\"overlay\",\"size\":10,\"solidity\":0.2}},\"type\":\"histogram\"}],\"scattergl\":[{\"type\":\"scattergl\",\"marker\":{\"colorbar\":{\"outlinewidth\":0,\"ticks\":\"\"}}}],\"scatter3d\":[{\"type\":\"scatter3d\",\"line\":{\"colorbar\":{\"outlinewidth\":0,\"ticks\":\"\"}},\"marker\":{\"colorbar\":{\"outlinewidth\":0,\"ticks\":\"\"}}}],\"scattermapbox\":[{\"type\":\"scattermapbox\",\"marker\":{\"colorbar\":{\"outlinewidth\":0,\"ticks\":\"\"}}}],\"scatterternary\":[{\"type\":\"scatterternary\",\"marker\":{\"colorbar\":{\"outlinewidth\":0,\"ticks\":\"\"}}}],\"scattercarpet\":[{\"type\":\"scattercarpet\",\"marker\":{\"colorbar\":{\"outlinewidth\":0,\"ticks\":\"\"}}}],\"carpet\":[{\"aaxis\":{\"endlinecolor\":\"#2a3f5f\",\"gridcolor\":\"white\",\"linecolor\":\"white\",\"minorgridcolor\":\"white\",\"startlinecolor\":\"#2a3f5f\"},\"baxis\":{\"endlinecolor\":\"#2a3f5f\",\"gridcolor\":\"white\",\"linecolor\":\"white\",\"minorgridcolor\":\"white\",\"startlinecolor\":\"#2a3f5f\"},\"type\":\"carpet\"}],\"table\":[{\"cells\":{\"fill\":{\"color\":\"#EBF0F8\"},\"line\":{\"color\":\"white\"}},\"header\":{\"fill\":{\"color\":\"#C8D4E3\"},\"line\":{\"color\":\"white\"}},\"type\":\"table\"}],\"barpolar\":[{\"marker\":{\"line\":{\"color\":\"#E5ECF6\",\"width\":0.5},\"pattern\":{\"fillmode\":\"overlay\",\"size\":10,\"solidity\":0.2}},\"type\":\"barpolar\"}],\"pie\":[{\"automargin\":true,\"type\":\"pie\"}]},\"layout\":{\"autotypenumbers\":\"strict\",\"colorway\":[\"#636efa\",\"#EF553B\",\"#00cc96\",\"#ab63fa\",\"#FFA15A\",\"#19d3f3\",\"#FF6692\",\"#B6E880\",\"#FF97FF\",\"#FECB52\"],\"font\":{\"color\":\"#2a3f5f\"},\"hovermode\":\"closest\",\"hoverlabel\":{\"align\":\"left\"},\"paper_bgcolor\":\"white\",\"plot_bgcolor\":\"#E5ECF6\",\"polar\":{\"bgcolor\":\"#E5ECF6\",\"angularaxis\":{\"gridcolor\":\"white\",\"linecolor\":\"white\",\"ticks\":\"\"},\"radialaxis\":{\"gridcolor\":\"white\",\"linecolor\":\"white\",\"ticks\":\"\"}},\"ternary\":{\"bgcolor\":\"#E5ECF6\",\"aaxis\":{\"gridcolor\":\"white\",\"linecolor\":\"white\",\"ticks\":\"\"},\"baxis\":{\"gridcolor\":\"white\",\"linecolor\":\"white\",\"ticks\":\"\"},\"caxis\":{\"gridcolor\":\"white\",\"linecolor\":\"white\",\"ticks\":\"\"}},\"coloraxis\":{\"colorbar\":{\"outlinewidth\":0,\"ticks\":\"\"}},\"colorscale\":{\"sequential\":[[0.0,\"#0d0887\"],[0.1111111111111111,\"#46039f\"],[0.2222222222222222,\"#7201a8\"],[0.3333333333333333,\"#9c179e\"],[0.4444444444444444,\"#bd3786\"],[0.5555555555555556,\"#d8576b\"],[0.6666666666666666,\"#ed7953\"],[0.7777777777777778,\"#fb9f3a\"],[0.8888888888888888,\"#fdca26\"],[1.0,\"#f0f921\"]],\"sequentialminus\":[[0.0,\"#0d0887\"],[0.1111111111111111,\"#46039f\"],[0.2222222222222222,\"#7201a8\"],[0.3333333333333333,\"#9c179e\"],[0.4444444444444444,\"#bd3786\"],[0.5555555555555556,\"#d8576b\"],[0.6666666666666666,\"#ed7953\"],[0.7777777777777778,\"#fb9f3a\"],[0.8888888888888888,\"#fdca26\"],[1.0,\"#f0f921\"]],\"diverging\":[[0,\"#8e0152\"],[0.1,\"#c51b7d\"],[0.2,\"#de77ae\"],[0.3,\"#f1b6da\"],[0.4,\"#fde0ef\"],[0.5,\"#f7f7f7\"],[0.6,\"#e6f5d0\"],[0.7,\"#b8e186\"],[0.8,\"#7fbc41\"],[0.9,\"#4d9221\"],[1,\"#276419\"]]},\"xaxis\":{\"gridcolor\":\"white\",\"linecolor\":\"white\",\"ticks\":\"\",\"title\":{\"standoff\":15},\"zerolinecolor\":\"white\",\"automargin\":true,\"zerolinewidth\":2},\"yaxis\":{\"gridcolor\":\"white\",\"linecolor\":\"white\",\"ticks\":\"\",\"title\":{\"standoff\":15},\"zerolinecolor\":\"white\",\"automargin\":true,\"zerolinewidth\":2},\"scene\":{\"xaxis\":{\"backgroundcolor\":\"#E5ECF6\",\"gridcolor\":\"white\",\"linecolor\":\"white\",\"showbackground\":true,\"ticks\":\"\",\"zerolinecolor\":\"white\",\"gridwidth\":2},\"yaxis\":{\"backgroundcolor\":\"#E5ECF6\",\"gridcolor\":\"white\",\"linecolor\":\"white\",\"showbackground\":true,\"ticks\":\"\",\"zerolinecolor\":\"white\",\"gridwidth\":2},\"zaxis\":{\"backgroundcolor\":\"#E5ECF6\",\"gridcolor\":\"white\",\"linecolor\":\"white\",\"showbackground\":true,\"ticks\":\"\",\"zerolinecolor\":\"white\",\"gridwidth\":2}},\"shapedefaults\":{\"line\":{\"color\":\"#2a3f5f\"}},\"annotationdefaults\":{\"arrowcolor\":\"#2a3f5f\",\"arrowhead\":0,\"arrowwidth\":1},\"geo\":{\"bgcolor\":\"white\",\"landcolor\":\"#E5ECF6\",\"subunitcolor\":\"white\",\"showland\":true,\"showlakes\":true,\"lakecolor\":\"white\"},\"title\":{\"x\":0.05},\"mapbox\":{\"style\":\"light\"}}},\"xaxis\":{\"anchor\":\"y\",\"domain\":[0.0,1.0],\"title\":{\"text\":\"index\"}},\"yaxis\":{\"anchor\":\"x\",\"domain\":[0.0,1.0],\"title\":{\"text\":\"trees_within_radius\"}},\"legend\":{\"tracegroupgap\":0},\"margin\":{\"t\":60},\"title\":{\"text\":\"Number of trees within 50 meters\"}},                        {\"responsive\": true}                    ).then(function(){\n",
       "                            \n",
       "var gd = document.getElementById('f1631fa7-26f7-450a-9221-5f0f8dd9c286');\n",
       "var x = new MutationObserver(function (mutations, observer) {{\n",
       "        var display = window.getComputedStyle(gd).display;\n",
       "        if (!display || display === 'none') {{\n",
       "            console.log([gd, 'removed!']);\n",
       "            Plotly.purge(gd);\n",
       "            observer.disconnect();\n",
       "        }}\n",
       "}});\n",
       "\n",
       "// Listen for the removal of the full notebook cells\n",
       "var notebookContainer = gd.closest('#notebook-container');\n",
       "if (notebookContainer) {{\n",
       "    x.observe(notebookContainer, {childList: true});\n",
       "}}\n",
       "\n",
       "// Listen for the clearing of the current output cell\n",
       "var outputEl = gd.closest('.output');\n",
       "if (outputEl) {{\n",
       "    x.observe(outputEl, {childList: true});\n",
       "}}\n",
       "\n",
       "                        })                };                });            </script>        </div>"
      ]
     },
     "metadata": {},
     "output_type": "display_data"
    }
   ],
   "source": [
    "fig = px.scatter(laneways, y='trees_within_radius')\n",
    "fig.update_layout(title='Number of trees within 50 meters')\n",
    "fig.show()"
   ]
  },
  {
   "cell_type": "code",
   "execution_count": 48,
   "metadata": {},
   "outputs": [
    {
     "data": {
      "application/vnd.plotly.v1+json": {
       "config": {
        "plotlyServerURL": "https://plot.ly"
       },
       "data": [
        {
         "coloraxis": "coloraxis",
         "hovertemplate": "trees_within_radius=%{z}<br>lat=%{lat}<br>lon=%{lon}<extra></extra>",
         "lat": [
          -37.81980050254932,
          -37.81097635318543,
          -37.81111151578862,
          -37.81161232134716,
          -37.8124734926234,
          -37.81304184241003,
          -37.81410455066066,
          -37.81521836330808,
          -37.81560584167807,
          -37.81363663807256,
          -37.81318089121382,
          -37.811631479265266,
          -37.81096554046618,
          -37.81018788400599,
          -37.808928701105636,
          -37.811819833149336,
          -37.81363559321624,
          -37.81638689912868,
          -37.816437955439866,
          -37.816833769769204,
          -37.817277292447365,
          -37.817339881748865,
          -37.8172843757446,
          -37.816440023811005,
          -37.81531786344816,
          -37.81524339834998,
          -37.81496076902029,
          -37.81283231518697,
          -37.8122331277934,
          -37.81120874607432,
          -37.810511430101,
          -37.811082793916796,
          -37.81364143485823,
          -37.81479726899315,
          -37.814683887787545,
          -37.81497705914173,
          -37.81505553768235,
          -37.81637435216704,
          -37.81697722216005,
          -37.81194262812994,
          -37.81310137820415,
          -37.813735162366505,
          -37.8137809735933,
          -37.81528156146977,
          -37.81522401449075,
          -37.81593175883032,
          -37.81602777672109,
          -37.817199920431165,
          -37.81776601260828,
          -37.81820807553832,
          -37.817688637627505,
          -37.813316564957894,
          -37.81445067539735,
          -37.81488075904122,
          -37.81676041377433,
          -37.81734946853748,
          -37.81739031205376,
          -37.818984126275495,
          -37.81963370613525,
          -37.81954117327879,
          -37.8200790748199,
          -37.82011600297684,
          -37.82027880943805,
          -37.819764909598696,
          -37.81604819466985,
          -37.81336268612127,
          -37.813098677911036,
          -37.810100678849565,
          -37.81109181824087,
          -37.810461362738046,
          -37.80804153774292,
          -37.809574187684454,
          -37.81477253709165,
          -37.81124523135607,
          -37.81452312073989,
          -37.81119641212291,
          -37.80981203103341,
          -37.81261588548371,
          -37.81332555540913,
          -37.808798598420246,
          -37.807613165711366,
          -37.815810557823596,
          -37.81535672343349,
          -37.81037958674067,
          -37.810217121848865,
          -37.81077581774339,
          -37.811226042417026,
          -37.8131805651399,
          -37.812714034948,
          -37.815866684899426,
          -37.816070884780686,
          -37.815043593615314,
          -37.814860662335775,
          -37.81325469434872,
          -37.8113357078086,
          -37.81112570199548,
          -37.81047263684767,
          -37.809814704774496,
          -37.808962433086066,
          -37.80891911143074,
          -37.80927255305554,
          -37.811503452175096,
          -37.81181924077914,
          -37.81236603080382,
          -37.81227101185166,
          -37.8122351726817,
          -37.815770514528744,
          -37.81721251515046,
          -37.816552460452876,
          -37.81515149775422,
          -37.814459961312124,
          -37.81425396234533,
          -37.81311665324148,
          -37.81113906039378,
          -37.81100772543578,
          -37.811294962572816,
          -37.81195697118721,
          -37.81288655222083,
          -37.81434588510203,
          -37.814713446937354,
          -37.81668311746074,
          -37.81179252091795,
          -37.8121714527127,
          -37.81327834872983,
          -37.813481152611836,
          -37.81382053335725,
          -37.81386196353888,
          -37.814139526354815,
          -37.81417691097461,
          -37.817244932826426,
          -37.81774881340534,
          -37.817647102746875,
          -37.81848742506025,
          -37.81274968140071,
          -37.81272540384329,
          -37.81283327377191,
          -37.8135247555415,
          -37.813157519841646,
          -37.81654155142347,
          -37.817468209169334,
          -37.81597970168963,
          -37.81523292318083,
          -37.81375860365229,
          -37.81345477331178,
          -37.81713959638289,
          -37.80766995107844,
          -37.807874533479186,
          -37.807868542290684,
          -37.80825704076604,
          -37.8092052807982,
          -37.81059550083191,
          -37.81532410339944,
          -37.812892966824165,
          -37.81593137617615,
          -37.813761236886755,
          -37.815212125832595,
          -37.81289266958999,
          -37.80875417866908,
          -37.80880126515651,
          -37.81034170711123,
          -37.81674801251833,
          -37.808893073302414,
          -37.80743440633362,
          -37.811312355458725,
          -37.812062778388146,
          -37.812200122969514,
          -37.81299489178982,
          -37.81291772360056,
          -37.81486555746091,
          -37.81556813104544,
          -37.81565225265017,
          -37.815010365366625,
          -37.81450170729136,
          -37.81388085097895,
          -37.811846184146255,
          -37.81186744205427,
          -37.81164146216171,
          -37.81203165865674,
          -37.81199395451558,
          -37.81111808221134,
          -37.81121896258666,
          -37.809070759197056,
          -37.8092614609602,
          -37.811622558943256,
          -37.8119212879997,
          -37.812182004124956,
          -37.81255972303171,
          -37.81265308586931,
          -37.81375221918104,
          -37.813998405447016,
          -37.814540467211934,
          -37.81684310938986,
          -37.81625729975984,
          -37.815466618658434,
          -37.815136745569795,
          -37.81453505593018,
          -37.814399761923944,
          -37.81295591658134,
          -37.81140603994133,
          -37.81107211875846,
          -37.81143661165109,
          -37.81445017766827,
          -37.81611345293064,
          -37.81634100783601,
          -37.81662436680107,
          -37.81232803829519,
          -37.8131179768624,
          -37.81322013799656,
          -37.81316822185592,
          -37.815582438708404,
          -37.81587907634075,
          -37.81748103944648,
          -37.81705022724468,
          -37.81984867154892,
          -37.818834732192755,
          -37.81801103424856,
          -37.81788034313359,
          -37.81535295029374,
          -37.81265852382229,
          -37.81400371191351,
          -37.81368407590331,
          -37.814672188989995,
          -37.815444976696476,
          -37.81556411206914,
          -37.81675781807964,
          -37.81705815427994,
          -37.81939019475833,
          -37.81820110978195,
          -37.815131053785386,
          -37.81535738669452,
          -37.81558625091741,
          -37.813298814806174,
          -37.80919327198343,
          -37.80940546461835,
          -37.81602860198378,
          -37.819253504282024,
          -37.815770743514925,
          -37.81309137074721,
          -37.81696435459669,
          -37.813170613431005,
          -37.81132913888725,
          -37.808732016172115,
          -37.811891568883624,
          -37.80980844948987,
          -37.807528190248966,
          -37.8091174792242
         ],
         "lon": [
          144.9623447558369,
          144.97170834375964,
          144.97244046374837,
          144.97077449834737,
          144.9713761243581,
          144.97240833983707,
          144.9736711005169,
          144.97342323779137,
          144.9716292036106,
          144.97030218968666,
          144.96918657126457,
          144.96996732732396,
          144.9691457959443,
          144.9673441983146,
          144.96845133042902,
          144.9653517247358,
          144.9673143038117,
          144.9690855012813,
          144.968922695136,
          144.96650432144628,
          144.9660029303524,
          144.96578935360571,
          144.96517912329656,
          144.9660849351429,
          144.96412508085777,
          144.96455112659987,
          144.9655933228601,
          144.96485753421675,
          144.96450529272983,
          144.96385829677484,
          144.96354768190554,
          144.96080159509805,
          144.95967769583882,
          144.96010852358677,
          144.9588906580676,
          144.95845989409705,
          144.9582828280556,
          144.96046496953696,
          144.959485810845,
          144.9609229814977,
          144.96198155668426,
          144.9624979570203,
          144.96166455721152,
          144.96173953568237,
          144.96270583856173,
          144.9624004738762,
          144.961858207876,
          144.96372396866002,
          144.9644701544366,
          144.96278099354788,
          144.96142118297337,
          144.95622231595837,
          144.95696234059736,
          144.95548424957065,
          144.9565316258329,
          144.95821608690858,
          144.9571657633738,
          144.95739637072802,
          144.95802323076245,
          144.95814655276035,
          144.95689895741233,
          144.9565343730053,
          144.95574545353142,
          144.95678115855074,
          144.95454175904922,
          144.95366296666123,
          144.9537692541663,
          144.97061722203512,
          144.95686225824505,
          144.95794177940672,
          144.96757914799085,
          144.96249136310982,
          144.95568011260008,
          144.9629516862615,
          144.966997043321,
          144.97194522260708,
          144.9715932336254,
          144.967462431471,
          144.97243815994796,
          144.9616871375218,
          144.960765316124,
          144.95986079172638,
          144.95569265063773,
          144.97089952599487,
          144.97162762401734,
          144.97188375120993,
          144.97139352262127,
          144.97156163273422,
          144.9732382331711,
          144.97038374615923,
          144.97010070091366,
          144.9694430083061,
          144.97123717171658,
          144.96873339216515,
          144.96869835348167,
          144.96876012887915,
          144.96932760907043,
          144.9686183570954,
          144.9686829724722,
          144.96820381786043,
          144.96695006791515,
          144.96706520083916,
          144.9662543134082,
          144.96745507745138,
          144.9670624811988,
          144.9668849462853,
          144.96807420840344,
          144.96538877094625,
          144.96545353140812,
          144.9651313656219,
          144.96512380211735,
          144.96551925271615,
          144.96455086424254,
          144.96406312182154,
          144.9637645863644,
          144.96003291730977,
          144.95842907268548,
          144.9585839756677,
          144.95974778709353,
          144.959365686083,
          144.95967498096383,
          144.96145629110254,
          144.9605637989974,
          144.9616783818041,
          144.96071921330733,
          144.9621722247973,
          144.96194119821186,
          144.9614681922904,
          144.96114774652452,
          144.96301317553295,
          144.96432068731727,
          144.9639285753139,
          144.96164025970833,
          144.95557759699858,
          144.9552110178304,
          144.95470375589997,
          144.95580894305417,
          144.956467534624,
          144.95728722207423,
          144.95766420142033,
          144.9550350462116,
          144.95416746963403,
          144.95411623616334,
          144.95342725801962,
          144.95803438474277,
          144.9680242507245,
          144.96719168157594,
          144.9667625802273,
          144.96229519445652,
          144.96224533961347,
          144.95911816016283,
          144.95738250359312,
          144.97243830492508,
          144.96023905827192,
          144.96151358975985,
          144.97267324944883,
          144.97338626335969,
          144.97090512754946,
          144.97106863634434,
          144.97192733483007,
          144.96800192126963,
          144.96135266168625,
          144.96794349212385,
          144.97106967426805,
          144.9726904738642,
          144.9722726519847,
          144.97186299342198,
          144.97284822191173,
          144.9741255712408,
          144.9713012962928,
          144.97093032525657,
          144.97026802181446,
          144.97128718168483,
          144.970002281767,
          144.96930164317203,
          144.9690242022624,
          144.96873504016077,
          144.9686727236111,
          144.96839736007794,
          144.96770214537466,
          144.96830248372038,
          144.96780415838268,
          144.96738352989738,
          144.96665168266972,
          144.965582443831,
          144.96554618976265,
          144.96663010717896,
          144.96570181648684,
          144.9668995155727,
          144.96631621514925,
          144.9674685834403,
          144.9663646628278,
          144.96645933847927,
          144.9643638871223,
          144.96546528286152,
          144.9643264084841,
          144.9647515708548,
          144.963020448098,
          144.96398614233215,
          144.96009641017997,
          144.96025816014517,
          144.95965312776522,
          144.95933810898964,
          144.96075701875682,
          144.9604014852698,
          144.960047985896,
          144.96146041692978,
          144.96103700163818,
          144.96028210934693,
          144.9614105114917,
          144.96320879536245,
          144.96223748479332,
          144.96401604954465,
          144.9578825986701,
          144.96126658202394,
          144.9609454968655,
          144.961240049609,
          144.96038745128234,
          144.9561807421683,
          144.95506325236272,
          144.95519418764638,
          144.95606924108571,
          144.95698136409075,
          144.95651273561546,
          144.95677846750684,
          144.95829874000657,
          144.9588910635486,
          144.95515581469482,
          144.9547019972304,
          144.95447646152166,
          144.95398767873985,
          144.95203267710278,
          144.95907535115865,
          144.96233864480138,
          144.96346829171765,
          144.95632912990123,
          144.96290788697897,
          144.96047108406836,
          144.96627899373402,
          144.96406677587515,
          144.97208617369233,
          144.9713271143983,
          144.96646689470336,
          144.96051751381623,
          144.96798312015957,
          144.97079029463796
         ],
         "name": "",
         "opacity": 0.5,
         "subplot": "mapbox",
         "type": "densitymapbox",
         "z": [
          13,
          11,
          10,
          15,
          4,
          12,
          6,
          4,
          13,
          8,
          2,
          10,
          1,
          5,
          5,
          9,
          11,
          0,
          1,
          4,
          0,
          0,
          3,
          0,
          0,
          0,
          2,
          9,
          5,
          8,
          7,
          0,
          12,
          12,
          7,
          15,
          17,
          10,
          3,
          3,
          5,
          8,
          4,
          4,
          3,
          3,
          5,
          2,
          4,
          8,
          7,
          0,
          2,
          9,
          3,
          3,
          6,
          10,
          11,
          11,
          13,
          8,
          3,
          15,
          0,
          2,
          6,
          18,
          5,
          7,
          2,
          7,
          3,
          0,
          1,
          2,
          11,
          6,
          7,
          6,
          6,
          0,
          7,
          8,
          3,
          7,
          5,
          20,
          12,
          7,
          10,
          11,
          9,
          5,
          0,
          1,
          10,
          1,
          6,
          0,
          7,
          8,
          1,
          8,
          2,
          2,
          0,
          2,
          3,
          0,
          0,
          9,
          0,
          13,
          13,
          1,
          6,
          5,
          9,
          0,
          7,
          0,
          5,
          4,
          5,
          4,
          3,
          0,
          1,
          0,
          2,
          2,
          5,
          0,
          0,
          4,
          0,
          2,
          10,
          0,
          8,
          0,
          9,
          0,
          10,
          6,
          1,
          4,
          4,
          5,
          13,
          4,
          20,
          3,
          4,
          13,
          5,
          0,
          0,
          4,
          1,
          9,
          9,
          3,
          14,
          16,
          17,
          8,
          6,
          8,
          8,
          0,
          13,
          3,
          0,
          0,
          0,
          0,
          2,
          10,
          0,
          0,
          1,
          0,
          3,
          4,
          2,
          8,
          11,
          11,
          0,
          1,
          11,
          0,
          0,
          0,
          0,
          5,
          13,
          4,
          0,
          3,
          5,
          16,
          9,
          9,
          0,
          2,
          17,
          13,
          2,
          14,
          5,
          11,
          7,
          17,
          2,
          11,
          2,
          10,
          4,
          1,
          5,
          7,
          4,
          15,
          4,
          1,
          8,
          2,
          0,
          9,
          14,
          3,
          9,
          8,
          3,
          16,
          1,
          0,
          5,
          6,
          2,
          4,
          9,
          0
         ]
        }
       ],
       "layout": {
        "coloraxis": {
         "colorbar": {
          "title": {
           "text": "trees_within_radius"
          }
         },
         "colorscale": [
          [
           0,
           "#0d0887"
          ],
          [
           0.1111111111111111,
           "#46039f"
          ],
          [
           0.2222222222222222,
           "#7201a8"
          ],
          [
           0.3333333333333333,
           "#9c179e"
          ],
          [
           0.4444444444444444,
           "#bd3786"
          ],
          [
           0.5555555555555556,
           "#d8576b"
          ],
          [
           0.6666666666666666,
           "#ed7953"
          ],
          [
           0.7777777777777778,
           "#fb9f3a"
          ],
          [
           0.8888888888888888,
           "#fdca26"
          ],
          [
           1,
           "#f0f921"
          ]
         ]
        },
        "height": 1000,
        "legend": {
         "tracegroupgap": 0
        },
        "mapbox": {
         "center": {
          "lat": -37.81373720225536,
          "lon": 144.96378739120706
         },
         "domain": {
          "x": [
           0,
           1
          ],
          "y": [
           0,
           1
          ]
         },
         "style": "stamen-terrain",
         "zoom": 14
        },
        "template": {
         "data": {
          "bar": [
           {
            "error_x": {
             "color": "#2a3f5f"
            },
            "error_y": {
             "color": "#2a3f5f"
            },
            "marker": {
             "line": {
              "color": "#E5ECF6",
              "width": 0.5
             },
             "pattern": {
              "fillmode": "overlay",
              "size": 10,
              "solidity": 0.2
             }
            },
            "type": "bar"
           }
          ],
          "barpolar": [
           {
            "marker": {
             "line": {
              "color": "#E5ECF6",
              "width": 0.5
             },
             "pattern": {
              "fillmode": "overlay",
              "size": 10,
              "solidity": 0.2
             }
            },
            "type": "barpolar"
           }
          ],
          "carpet": [
           {
            "aaxis": {
             "endlinecolor": "#2a3f5f",
             "gridcolor": "white",
             "linecolor": "white",
             "minorgridcolor": "white",
             "startlinecolor": "#2a3f5f"
            },
            "baxis": {
             "endlinecolor": "#2a3f5f",
             "gridcolor": "white",
             "linecolor": "white",
             "minorgridcolor": "white",
             "startlinecolor": "#2a3f5f"
            },
            "type": "carpet"
           }
          ],
          "choropleth": [
           {
            "colorbar": {
             "outlinewidth": 0,
             "ticks": ""
            },
            "type": "choropleth"
           }
          ],
          "contour": [
           {
            "colorbar": {
             "outlinewidth": 0,
             "ticks": ""
            },
            "colorscale": [
             [
              0,
              "#0d0887"
             ],
             [
              0.1111111111111111,
              "#46039f"
             ],
             [
              0.2222222222222222,
              "#7201a8"
             ],
             [
              0.3333333333333333,
              "#9c179e"
             ],
             [
              0.4444444444444444,
              "#bd3786"
             ],
             [
              0.5555555555555556,
              "#d8576b"
             ],
             [
              0.6666666666666666,
              "#ed7953"
             ],
             [
              0.7777777777777778,
              "#fb9f3a"
             ],
             [
              0.8888888888888888,
              "#fdca26"
             ],
             [
              1,
              "#f0f921"
             ]
            ],
            "type": "contour"
           }
          ],
          "contourcarpet": [
           {
            "colorbar": {
             "outlinewidth": 0,
             "ticks": ""
            },
            "type": "contourcarpet"
           }
          ],
          "heatmap": [
           {
            "colorbar": {
             "outlinewidth": 0,
             "ticks": ""
            },
            "colorscale": [
             [
              0,
              "#0d0887"
             ],
             [
              0.1111111111111111,
              "#46039f"
             ],
             [
              0.2222222222222222,
              "#7201a8"
             ],
             [
              0.3333333333333333,
              "#9c179e"
             ],
             [
              0.4444444444444444,
              "#bd3786"
             ],
             [
              0.5555555555555556,
              "#d8576b"
             ],
             [
              0.6666666666666666,
              "#ed7953"
             ],
             [
              0.7777777777777778,
              "#fb9f3a"
             ],
             [
              0.8888888888888888,
              "#fdca26"
             ],
             [
              1,
              "#f0f921"
             ]
            ],
            "type": "heatmap"
           }
          ],
          "heatmapgl": [
           {
            "colorbar": {
             "outlinewidth": 0,
             "ticks": ""
            },
            "colorscale": [
             [
              0,
              "#0d0887"
             ],
             [
              0.1111111111111111,
              "#46039f"
             ],
             [
              0.2222222222222222,
              "#7201a8"
             ],
             [
              0.3333333333333333,
              "#9c179e"
             ],
             [
              0.4444444444444444,
              "#bd3786"
             ],
             [
              0.5555555555555556,
              "#d8576b"
             ],
             [
              0.6666666666666666,
              "#ed7953"
             ],
             [
              0.7777777777777778,
              "#fb9f3a"
             ],
             [
              0.8888888888888888,
              "#fdca26"
             ],
             [
              1,
              "#f0f921"
             ]
            ],
            "type": "heatmapgl"
           }
          ],
          "histogram": [
           {
            "marker": {
             "pattern": {
              "fillmode": "overlay",
              "size": 10,
              "solidity": 0.2
             }
            },
            "type": "histogram"
           }
          ],
          "histogram2d": [
           {
            "colorbar": {
             "outlinewidth": 0,
             "ticks": ""
            },
            "colorscale": [
             [
              0,
              "#0d0887"
             ],
             [
              0.1111111111111111,
              "#46039f"
             ],
             [
              0.2222222222222222,
              "#7201a8"
             ],
             [
              0.3333333333333333,
              "#9c179e"
             ],
             [
              0.4444444444444444,
              "#bd3786"
             ],
             [
              0.5555555555555556,
              "#d8576b"
             ],
             [
              0.6666666666666666,
              "#ed7953"
             ],
             [
              0.7777777777777778,
              "#fb9f3a"
             ],
             [
              0.8888888888888888,
              "#fdca26"
             ],
             [
              1,
              "#f0f921"
             ]
            ],
            "type": "histogram2d"
           }
          ],
          "histogram2dcontour": [
           {
            "colorbar": {
             "outlinewidth": 0,
             "ticks": ""
            },
            "colorscale": [
             [
              0,
              "#0d0887"
             ],
             [
              0.1111111111111111,
              "#46039f"
             ],
             [
              0.2222222222222222,
              "#7201a8"
             ],
             [
              0.3333333333333333,
              "#9c179e"
             ],
             [
              0.4444444444444444,
              "#bd3786"
             ],
             [
              0.5555555555555556,
              "#d8576b"
             ],
             [
              0.6666666666666666,
              "#ed7953"
             ],
             [
              0.7777777777777778,
              "#fb9f3a"
             ],
             [
              0.8888888888888888,
              "#fdca26"
             ],
             [
              1,
              "#f0f921"
             ]
            ],
            "type": "histogram2dcontour"
           }
          ],
          "mesh3d": [
           {
            "colorbar": {
             "outlinewidth": 0,
             "ticks": ""
            },
            "type": "mesh3d"
           }
          ],
          "parcoords": [
           {
            "line": {
             "colorbar": {
              "outlinewidth": 0,
              "ticks": ""
             }
            },
            "type": "parcoords"
           }
          ],
          "pie": [
           {
            "automargin": true,
            "type": "pie"
           }
          ],
          "scatter": [
           {
            "fillpattern": {
             "fillmode": "overlay",
             "size": 10,
             "solidity": 0.2
            },
            "type": "scatter"
           }
          ],
          "scatter3d": [
           {
            "line": {
             "colorbar": {
              "outlinewidth": 0,
              "ticks": ""
             }
            },
            "marker": {
             "colorbar": {
              "outlinewidth": 0,
              "ticks": ""
             }
            },
            "type": "scatter3d"
           }
          ],
          "scattercarpet": [
           {
            "marker": {
             "colorbar": {
              "outlinewidth": 0,
              "ticks": ""
             }
            },
            "type": "scattercarpet"
           }
          ],
          "scattergeo": [
           {
            "marker": {
             "colorbar": {
              "outlinewidth": 0,
              "ticks": ""
             }
            },
            "type": "scattergeo"
           }
          ],
          "scattergl": [
           {
            "marker": {
             "colorbar": {
              "outlinewidth": 0,
              "ticks": ""
             }
            },
            "type": "scattergl"
           }
          ],
          "scattermapbox": [
           {
            "marker": {
             "colorbar": {
              "outlinewidth": 0,
              "ticks": ""
             }
            },
            "type": "scattermapbox"
           }
          ],
          "scatterpolar": [
           {
            "marker": {
             "colorbar": {
              "outlinewidth": 0,
              "ticks": ""
             }
            },
            "type": "scatterpolar"
           }
          ],
          "scatterpolargl": [
           {
            "marker": {
             "colorbar": {
              "outlinewidth": 0,
              "ticks": ""
             }
            },
            "type": "scatterpolargl"
           }
          ],
          "scatterternary": [
           {
            "marker": {
             "colorbar": {
              "outlinewidth": 0,
              "ticks": ""
             }
            },
            "type": "scatterternary"
           }
          ],
          "surface": [
           {
            "colorbar": {
             "outlinewidth": 0,
             "ticks": ""
            },
            "colorscale": [
             [
              0,
              "#0d0887"
             ],
             [
              0.1111111111111111,
              "#46039f"
             ],
             [
              0.2222222222222222,
              "#7201a8"
             ],
             [
              0.3333333333333333,
              "#9c179e"
             ],
             [
              0.4444444444444444,
              "#bd3786"
             ],
             [
              0.5555555555555556,
              "#d8576b"
             ],
             [
              0.6666666666666666,
              "#ed7953"
             ],
             [
              0.7777777777777778,
              "#fb9f3a"
             ],
             [
              0.8888888888888888,
              "#fdca26"
             ],
             [
              1,
              "#f0f921"
             ]
            ],
            "type": "surface"
           }
          ],
          "table": [
           {
            "cells": {
             "fill": {
              "color": "#EBF0F8"
             },
             "line": {
              "color": "white"
             }
            },
            "header": {
             "fill": {
              "color": "#C8D4E3"
             },
             "line": {
              "color": "white"
             }
            },
            "type": "table"
           }
          ]
         },
         "layout": {
          "annotationdefaults": {
           "arrowcolor": "#2a3f5f",
           "arrowhead": 0,
           "arrowwidth": 1
          },
          "autotypenumbers": "strict",
          "coloraxis": {
           "colorbar": {
            "outlinewidth": 0,
            "ticks": ""
           }
          },
          "colorscale": {
           "diverging": [
            [
             0,
             "#8e0152"
            ],
            [
             0.1,
             "#c51b7d"
            ],
            [
             0.2,
             "#de77ae"
            ],
            [
             0.3,
             "#f1b6da"
            ],
            [
             0.4,
             "#fde0ef"
            ],
            [
             0.5,
             "#f7f7f7"
            ],
            [
             0.6,
             "#e6f5d0"
            ],
            [
             0.7,
             "#b8e186"
            ],
            [
             0.8,
             "#7fbc41"
            ],
            [
             0.9,
             "#4d9221"
            ],
            [
             1,
             "#276419"
            ]
           ],
           "sequential": [
            [
             0,
             "#0d0887"
            ],
            [
             0.1111111111111111,
             "#46039f"
            ],
            [
             0.2222222222222222,
             "#7201a8"
            ],
            [
             0.3333333333333333,
             "#9c179e"
            ],
            [
             0.4444444444444444,
             "#bd3786"
            ],
            [
             0.5555555555555556,
             "#d8576b"
            ],
            [
             0.6666666666666666,
             "#ed7953"
            ],
            [
             0.7777777777777778,
             "#fb9f3a"
            ],
            [
             0.8888888888888888,
             "#fdca26"
            ],
            [
             1,
             "#f0f921"
            ]
           ],
           "sequentialminus": [
            [
             0,
             "#0d0887"
            ],
            [
             0.1111111111111111,
             "#46039f"
            ],
            [
             0.2222222222222222,
             "#7201a8"
            ],
            [
             0.3333333333333333,
             "#9c179e"
            ],
            [
             0.4444444444444444,
             "#bd3786"
            ],
            [
             0.5555555555555556,
             "#d8576b"
            ],
            [
             0.6666666666666666,
             "#ed7953"
            ],
            [
             0.7777777777777778,
             "#fb9f3a"
            ],
            [
             0.8888888888888888,
             "#fdca26"
            ],
            [
             1,
             "#f0f921"
            ]
           ]
          },
          "colorway": [
           "#636efa",
           "#EF553B",
           "#00cc96",
           "#ab63fa",
           "#FFA15A",
           "#19d3f3",
           "#FF6692",
           "#B6E880",
           "#FF97FF",
           "#FECB52"
          ],
          "font": {
           "color": "#2a3f5f"
          },
          "geo": {
           "bgcolor": "white",
           "lakecolor": "white",
           "landcolor": "#E5ECF6",
           "showlakes": true,
           "showland": true,
           "subunitcolor": "white"
          },
          "hoverlabel": {
           "align": "left"
          },
          "hovermode": "closest",
          "mapbox": {
           "style": "light"
          },
          "paper_bgcolor": "white",
          "plot_bgcolor": "#E5ECF6",
          "polar": {
           "angularaxis": {
            "gridcolor": "white",
            "linecolor": "white",
            "ticks": ""
           },
           "bgcolor": "#E5ECF6",
           "radialaxis": {
            "gridcolor": "white",
            "linecolor": "white",
            "ticks": ""
           }
          },
          "scene": {
           "xaxis": {
            "backgroundcolor": "#E5ECF6",
            "gridcolor": "white",
            "gridwidth": 2,
            "linecolor": "white",
            "showbackground": true,
            "ticks": "",
            "zerolinecolor": "white"
           },
           "yaxis": {
            "backgroundcolor": "#E5ECF6",
            "gridcolor": "white",
            "gridwidth": 2,
            "linecolor": "white",
            "showbackground": true,
            "ticks": "",
            "zerolinecolor": "white"
           },
           "zaxis": {
            "backgroundcolor": "#E5ECF6",
            "gridcolor": "white",
            "gridwidth": 2,
            "linecolor": "white",
            "showbackground": true,
            "ticks": "",
            "zerolinecolor": "white"
           }
          },
          "shapedefaults": {
           "line": {
            "color": "#2a3f5f"
           }
          },
          "ternary": {
           "aaxis": {
            "gridcolor": "white",
            "linecolor": "white",
            "ticks": ""
           },
           "baxis": {
            "gridcolor": "white",
            "linecolor": "white",
            "ticks": ""
           },
           "bgcolor": "#E5ECF6",
           "caxis": {
            "gridcolor": "white",
            "linecolor": "white",
            "ticks": ""
           }
          },
          "title": {
           "x": 0.05
          },
          "xaxis": {
           "automargin": true,
           "gridcolor": "white",
           "linecolor": "white",
           "ticks": "",
           "title": {
            "standoff": 15
           },
           "zerolinecolor": "white",
           "zerolinewidth": 2
          },
          "yaxis": {
           "automargin": true,
           "gridcolor": "white",
           "linecolor": "white",
           "ticks": "",
           "title": {
            "standoff": 15
           },
           "zerolinecolor": "white",
           "zerolinewidth": 2
          }
         }
        },
        "title": {
         "text": "Heatmap showing projected laneways with trees within radius across City of Melbourne"
        },
        "width": 1500
       }
      },
      "text/html": [
       "<div>                            <div id=\"e20a9db2-b4df-4399-9f7d-c06d4f834b6a\" class=\"plotly-graph-div\" style=\"height:1000px; width:1500px;\"></div>            <script type=\"text/javascript\">                require([\"plotly\"], function(Plotly) {                    window.PLOTLYENV=window.PLOTLYENV || {};                                    if (document.getElementById(\"e20a9db2-b4df-4399-9f7d-c06d4f834b6a\")) {                    Plotly.newPlot(                        \"e20a9db2-b4df-4399-9f7d-c06d4f834b6a\",                        [{\"coloraxis\":\"coloraxis\",\"hovertemplate\":\"trees_within_radius=%{z}<br>lat=%{lat}<br>lon=%{lon}<extra></extra>\",\"lat\":[-37.81980050254932,-37.81097635318543,-37.81111151578862,-37.81161232134716,-37.8124734926234,-37.81304184241003,-37.81410455066066,-37.81521836330808,-37.81560584167807,-37.81363663807256,-37.81318089121382,-37.811631479265266,-37.81096554046618,-37.81018788400599,-37.808928701105636,-37.811819833149336,-37.81363559321624,-37.81638689912868,-37.816437955439866,-37.816833769769204,-37.817277292447365,-37.817339881748865,-37.8172843757446,-37.816440023811005,-37.81531786344816,-37.81524339834998,-37.81496076902029,-37.81283231518697,-37.8122331277934,-37.81120874607432,-37.810511430101,-37.811082793916796,-37.81364143485823,-37.81479726899315,-37.814683887787545,-37.81497705914173,-37.81505553768235,-37.81637435216704,-37.81697722216005,-37.81194262812994,-37.81310137820415,-37.813735162366505,-37.8137809735933,-37.81528156146977,-37.81522401449075,-37.81593175883032,-37.81602777672109,-37.817199920431165,-37.81776601260828,-37.81820807553832,-37.817688637627505,-37.813316564957894,-37.81445067539735,-37.81488075904122,-37.81676041377433,-37.81734946853748,-37.81739031205376,-37.818984126275495,-37.81963370613525,-37.81954117327879,-37.8200790748199,-37.82011600297684,-37.82027880943805,-37.819764909598696,-37.81604819466985,-37.81336268612127,-37.813098677911036,-37.810100678849565,-37.81109181824087,-37.810461362738046,-37.80804153774292,-37.809574187684454,-37.81477253709165,-37.81124523135607,-37.81452312073989,-37.81119641212291,-37.80981203103341,-37.81261588548371,-37.81332555540913,-37.808798598420246,-37.807613165711366,-37.815810557823596,-37.81535672343349,-37.81037958674067,-37.810217121848865,-37.81077581774339,-37.811226042417026,-37.8131805651399,-37.812714034948,-37.815866684899426,-37.816070884780686,-37.815043593615314,-37.814860662335775,-37.81325469434872,-37.8113357078086,-37.81112570199548,-37.81047263684767,-37.809814704774496,-37.808962433086066,-37.80891911143074,-37.80927255305554,-37.811503452175096,-37.81181924077914,-37.81236603080382,-37.81227101185166,-37.8122351726817,-37.815770514528744,-37.81721251515046,-37.816552460452876,-37.81515149775422,-37.814459961312124,-37.81425396234533,-37.81311665324148,-37.81113906039378,-37.81100772543578,-37.811294962572816,-37.81195697118721,-37.81288655222083,-37.81434588510203,-37.814713446937354,-37.81668311746074,-37.81179252091795,-37.8121714527127,-37.81327834872983,-37.813481152611836,-37.81382053335725,-37.81386196353888,-37.814139526354815,-37.81417691097461,-37.817244932826426,-37.81774881340534,-37.817647102746875,-37.81848742506025,-37.81274968140071,-37.81272540384329,-37.81283327377191,-37.8135247555415,-37.813157519841646,-37.81654155142347,-37.817468209169334,-37.81597970168963,-37.81523292318083,-37.81375860365229,-37.81345477331178,-37.81713959638289,-37.80766995107844,-37.807874533479186,-37.807868542290684,-37.80825704076604,-37.8092052807982,-37.81059550083191,-37.81532410339944,-37.812892966824165,-37.81593137617615,-37.813761236886755,-37.815212125832595,-37.81289266958999,-37.80875417866908,-37.80880126515651,-37.81034170711123,-37.81674801251833,-37.808893073302414,-37.80743440633362,-37.811312355458725,-37.812062778388146,-37.812200122969514,-37.81299489178982,-37.81291772360056,-37.81486555746091,-37.81556813104544,-37.81565225265017,-37.815010365366625,-37.81450170729136,-37.81388085097895,-37.811846184146255,-37.81186744205427,-37.81164146216171,-37.81203165865674,-37.81199395451558,-37.81111808221134,-37.81121896258666,-37.809070759197056,-37.8092614609602,-37.811622558943256,-37.8119212879997,-37.812182004124956,-37.81255972303171,-37.81265308586931,-37.81375221918104,-37.813998405447016,-37.814540467211934,-37.81684310938986,-37.81625729975984,-37.815466618658434,-37.815136745569795,-37.81453505593018,-37.814399761923944,-37.81295591658134,-37.81140603994133,-37.81107211875846,-37.81143661165109,-37.81445017766827,-37.81611345293064,-37.81634100783601,-37.81662436680107,-37.81232803829519,-37.8131179768624,-37.81322013799656,-37.81316822185592,-37.815582438708404,-37.81587907634075,-37.81748103944648,-37.81705022724468,-37.81984867154892,-37.818834732192755,-37.81801103424856,-37.81788034313359,-37.81535295029374,-37.81265852382229,-37.81400371191351,-37.81368407590331,-37.814672188989995,-37.815444976696476,-37.81556411206914,-37.81675781807964,-37.81705815427994,-37.81939019475833,-37.81820110978195,-37.815131053785386,-37.81535738669452,-37.81558625091741,-37.813298814806174,-37.80919327198343,-37.80940546461835,-37.81602860198378,-37.819253504282024,-37.815770743514925,-37.81309137074721,-37.81696435459669,-37.813170613431005,-37.81132913888725,-37.808732016172115,-37.811891568883624,-37.80980844948987,-37.807528190248966,-37.8091174792242],\"lon\":[144.9623447558369,144.97170834375964,144.97244046374837,144.97077449834737,144.9713761243581,144.97240833983707,144.9736711005169,144.97342323779137,144.9716292036106,144.97030218968666,144.96918657126457,144.96996732732396,144.9691457959443,144.9673441983146,144.96845133042902,144.9653517247358,144.9673143038117,144.9690855012813,144.968922695136,144.96650432144628,144.9660029303524,144.96578935360571,144.96517912329656,144.9660849351429,144.96412508085777,144.96455112659987,144.9655933228601,144.96485753421675,144.96450529272983,144.96385829677484,144.96354768190554,144.96080159509805,144.95967769583882,144.96010852358677,144.9588906580676,144.95845989409705,144.9582828280556,144.96046496953696,144.959485810845,144.9609229814977,144.96198155668426,144.9624979570203,144.96166455721152,144.96173953568237,144.96270583856173,144.9624004738762,144.961858207876,144.96372396866002,144.9644701544366,144.96278099354788,144.96142118297337,144.95622231595837,144.95696234059736,144.95548424957065,144.9565316258329,144.95821608690858,144.9571657633738,144.95739637072802,144.95802323076245,144.95814655276035,144.95689895741233,144.9565343730053,144.95574545353142,144.95678115855074,144.95454175904922,144.95366296666123,144.9537692541663,144.97061722203512,144.95686225824505,144.95794177940672,144.96757914799085,144.96249136310982,144.95568011260008,144.9629516862615,144.966997043321,144.97194522260708,144.9715932336254,144.967462431471,144.97243815994796,144.9616871375218,144.960765316124,144.95986079172638,144.95569265063773,144.97089952599487,144.97162762401734,144.97188375120993,144.97139352262127,144.97156163273422,144.9732382331711,144.97038374615923,144.97010070091366,144.9694430083061,144.97123717171658,144.96873339216515,144.96869835348167,144.96876012887915,144.96932760907043,144.9686183570954,144.9686829724722,144.96820381786043,144.96695006791515,144.96706520083916,144.9662543134082,144.96745507745138,144.9670624811988,144.9668849462853,144.96807420840344,144.96538877094625,144.96545353140812,144.9651313656219,144.96512380211735,144.96551925271615,144.96455086424254,144.96406312182154,144.9637645863644,144.96003291730977,144.95842907268548,144.9585839756677,144.95974778709353,144.959365686083,144.95967498096383,144.96145629110254,144.9605637989974,144.9616783818041,144.96071921330733,144.9621722247973,144.96194119821186,144.9614681922904,144.96114774652452,144.96301317553295,144.96432068731727,144.9639285753139,144.96164025970833,144.95557759699858,144.9552110178304,144.95470375589997,144.95580894305417,144.956467534624,144.95728722207423,144.95766420142033,144.9550350462116,144.95416746963403,144.95411623616334,144.95342725801962,144.95803438474277,144.9680242507245,144.96719168157594,144.9667625802273,144.96229519445652,144.96224533961347,144.95911816016283,144.95738250359312,144.97243830492508,144.96023905827192,144.96151358975985,144.97267324944883,144.97338626335969,144.97090512754946,144.97106863634434,144.97192733483007,144.96800192126963,144.96135266168625,144.96794349212385,144.97106967426805,144.9726904738642,144.9722726519847,144.97186299342198,144.97284822191173,144.9741255712408,144.9713012962928,144.97093032525657,144.97026802181446,144.97128718168483,144.970002281767,144.96930164317203,144.9690242022624,144.96873504016077,144.9686727236111,144.96839736007794,144.96770214537466,144.96830248372038,144.96780415838268,144.96738352989738,144.96665168266972,144.965582443831,144.96554618976265,144.96663010717896,144.96570181648684,144.9668995155727,144.96631621514925,144.9674685834403,144.9663646628278,144.96645933847927,144.9643638871223,144.96546528286152,144.9643264084841,144.9647515708548,144.963020448098,144.96398614233215,144.96009641017997,144.96025816014517,144.95965312776522,144.95933810898964,144.96075701875682,144.9604014852698,144.960047985896,144.96146041692978,144.96103700163818,144.96028210934693,144.9614105114917,144.96320879536245,144.96223748479332,144.96401604954465,144.9578825986701,144.96126658202394,144.9609454968655,144.961240049609,144.96038745128234,144.9561807421683,144.95506325236272,144.95519418764638,144.95606924108571,144.95698136409075,144.95651273561546,144.95677846750684,144.95829874000657,144.9588910635486,144.95515581469482,144.9547019972304,144.95447646152166,144.95398767873985,144.95203267710278,144.95907535115865,144.96233864480138,144.96346829171765,144.95632912990123,144.96290788697897,144.96047108406836,144.96627899373402,144.96406677587515,144.97208617369233,144.9713271143983,144.96646689470336,144.96051751381623,144.96798312015957,144.97079029463796],\"name\":\"\",\"opacity\":0.5,\"subplot\":\"mapbox\",\"z\":[13,11,10,15,4,12,6,4,13,8,2,10,1,5,5,9,11,0,1,4,0,0,3,0,0,0,2,9,5,8,7,0,12,12,7,15,17,10,3,3,5,8,4,4,3,3,5,2,4,8,7,0,2,9,3,3,6,10,11,11,13,8,3,15,0,2,6,18,5,7,2,7,3,0,1,2,11,6,7,6,6,0,7,8,3,7,5,20,12,7,10,11,9,5,0,1,10,1,6,0,7,8,1,8,2,2,0,2,3,0,0,9,0,13,13,1,6,5,9,0,7,0,5,4,5,4,3,0,1,0,2,2,5,0,0,4,0,2,10,0,8,0,9,0,10,6,1,4,4,5,13,4,20,3,4,13,5,0,0,4,1,9,9,3,14,16,17,8,6,8,8,0,13,3,0,0,0,0,2,10,0,0,1,0,3,4,2,8,11,11,0,1,11,0,0,0,0,5,13,4,0,3,5,16,9,9,0,2,17,13,2,14,5,11,7,17,2,11,2,10,4,1,5,7,4,15,4,1,8,2,0,9,14,3,9,8,3,16,1,0,5,6,2,4,9,0],\"type\":\"densitymapbox\"}],                        {\"template\":{\"data\":{\"histogram2dcontour\":[{\"type\":\"histogram2dcontour\",\"colorbar\":{\"outlinewidth\":0,\"ticks\":\"\"},\"colorscale\":[[0.0,\"#0d0887\"],[0.1111111111111111,\"#46039f\"],[0.2222222222222222,\"#7201a8\"],[0.3333333333333333,\"#9c179e\"],[0.4444444444444444,\"#bd3786\"],[0.5555555555555556,\"#d8576b\"],[0.6666666666666666,\"#ed7953\"],[0.7777777777777778,\"#fb9f3a\"],[0.8888888888888888,\"#fdca26\"],[1.0,\"#f0f921\"]]}],\"choropleth\":[{\"type\":\"choropleth\",\"colorbar\":{\"outlinewidth\":0,\"ticks\":\"\"}}],\"histogram2d\":[{\"type\":\"histogram2d\",\"colorbar\":{\"outlinewidth\":0,\"ticks\":\"\"},\"colorscale\":[[0.0,\"#0d0887\"],[0.1111111111111111,\"#46039f\"],[0.2222222222222222,\"#7201a8\"],[0.3333333333333333,\"#9c179e\"],[0.4444444444444444,\"#bd3786\"],[0.5555555555555556,\"#d8576b\"],[0.6666666666666666,\"#ed7953\"],[0.7777777777777778,\"#fb9f3a\"],[0.8888888888888888,\"#fdca26\"],[1.0,\"#f0f921\"]]}],\"heatmap\":[{\"type\":\"heatmap\",\"colorbar\":{\"outlinewidth\":0,\"ticks\":\"\"},\"colorscale\":[[0.0,\"#0d0887\"],[0.1111111111111111,\"#46039f\"],[0.2222222222222222,\"#7201a8\"],[0.3333333333333333,\"#9c179e\"],[0.4444444444444444,\"#bd3786\"],[0.5555555555555556,\"#d8576b\"],[0.6666666666666666,\"#ed7953\"],[0.7777777777777778,\"#fb9f3a\"],[0.8888888888888888,\"#fdca26\"],[1.0,\"#f0f921\"]]}],\"heatmapgl\":[{\"type\":\"heatmapgl\",\"colorbar\":{\"outlinewidth\":0,\"ticks\":\"\"},\"colorscale\":[[0.0,\"#0d0887\"],[0.1111111111111111,\"#46039f\"],[0.2222222222222222,\"#7201a8\"],[0.3333333333333333,\"#9c179e\"],[0.4444444444444444,\"#bd3786\"],[0.5555555555555556,\"#d8576b\"],[0.6666666666666666,\"#ed7953\"],[0.7777777777777778,\"#fb9f3a\"],[0.8888888888888888,\"#fdca26\"],[1.0,\"#f0f921\"]]}],\"contourcarpet\":[{\"type\":\"contourcarpet\",\"colorbar\":{\"outlinewidth\":0,\"ticks\":\"\"}}],\"contour\":[{\"type\":\"contour\",\"colorbar\":{\"outlinewidth\":0,\"ticks\":\"\"},\"colorscale\":[[0.0,\"#0d0887\"],[0.1111111111111111,\"#46039f\"],[0.2222222222222222,\"#7201a8\"],[0.3333333333333333,\"#9c179e\"],[0.4444444444444444,\"#bd3786\"],[0.5555555555555556,\"#d8576b\"],[0.6666666666666666,\"#ed7953\"],[0.7777777777777778,\"#fb9f3a\"],[0.8888888888888888,\"#fdca26\"],[1.0,\"#f0f921\"]]}],\"surface\":[{\"type\":\"surface\",\"colorbar\":{\"outlinewidth\":0,\"ticks\":\"\"},\"colorscale\":[[0.0,\"#0d0887\"],[0.1111111111111111,\"#46039f\"],[0.2222222222222222,\"#7201a8\"],[0.3333333333333333,\"#9c179e\"],[0.4444444444444444,\"#bd3786\"],[0.5555555555555556,\"#d8576b\"],[0.6666666666666666,\"#ed7953\"],[0.7777777777777778,\"#fb9f3a\"],[0.8888888888888888,\"#fdca26\"],[1.0,\"#f0f921\"]]}],\"mesh3d\":[{\"type\":\"mesh3d\",\"colorbar\":{\"outlinewidth\":0,\"ticks\":\"\"}}],\"scatter\":[{\"fillpattern\":{\"fillmode\":\"overlay\",\"size\":10,\"solidity\":0.2},\"type\":\"scatter\"}],\"parcoords\":[{\"type\":\"parcoords\",\"line\":{\"colorbar\":{\"outlinewidth\":0,\"ticks\":\"\"}}}],\"scatterpolargl\":[{\"type\":\"scatterpolargl\",\"marker\":{\"colorbar\":{\"outlinewidth\":0,\"ticks\":\"\"}}}],\"bar\":[{\"error_x\":{\"color\":\"#2a3f5f\"},\"error_y\":{\"color\":\"#2a3f5f\"},\"marker\":{\"line\":{\"color\":\"#E5ECF6\",\"width\":0.5},\"pattern\":{\"fillmode\":\"overlay\",\"size\":10,\"solidity\":0.2}},\"type\":\"bar\"}],\"scattergeo\":[{\"type\":\"scattergeo\",\"marker\":{\"colorbar\":{\"outlinewidth\":0,\"ticks\":\"\"}}}],\"scatterpolar\":[{\"type\":\"scatterpolar\",\"marker\":{\"colorbar\":{\"outlinewidth\":0,\"ticks\":\"\"}}}],\"histogram\":[{\"marker\":{\"pattern\":{\"fillmode\":\"overlay\",\"size\":10,\"solidity\":0.2}},\"type\":\"histogram\"}],\"scattergl\":[{\"type\":\"scattergl\",\"marker\":{\"colorbar\":{\"outlinewidth\":0,\"ticks\":\"\"}}}],\"scatter3d\":[{\"type\":\"scatter3d\",\"line\":{\"colorbar\":{\"outlinewidth\":0,\"ticks\":\"\"}},\"marker\":{\"colorbar\":{\"outlinewidth\":0,\"ticks\":\"\"}}}],\"scattermapbox\":[{\"type\":\"scattermapbox\",\"marker\":{\"colorbar\":{\"outlinewidth\":0,\"ticks\":\"\"}}}],\"scatterternary\":[{\"type\":\"scatterternary\",\"marker\":{\"colorbar\":{\"outlinewidth\":0,\"ticks\":\"\"}}}],\"scattercarpet\":[{\"type\":\"scattercarpet\",\"marker\":{\"colorbar\":{\"outlinewidth\":0,\"ticks\":\"\"}}}],\"carpet\":[{\"aaxis\":{\"endlinecolor\":\"#2a3f5f\",\"gridcolor\":\"white\",\"linecolor\":\"white\",\"minorgridcolor\":\"white\",\"startlinecolor\":\"#2a3f5f\"},\"baxis\":{\"endlinecolor\":\"#2a3f5f\",\"gridcolor\":\"white\",\"linecolor\":\"white\",\"minorgridcolor\":\"white\",\"startlinecolor\":\"#2a3f5f\"},\"type\":\"carpet\"}],\"table\":[{\"cells\":{\"fill\":{\"color\":\"#EBF0F8\"},\"line\":{\"color\":\"white\"}},\"header\":{\"fill\":{\"color\":\"#C8D4E3\"},\"line\":{\"color\":\"white\"}},\"type\":\"table\"}],\"barpolar\":[{\"marker\":{\"line\":{\"color\":\"#E5ECF6\",\"width\":0.5},\"pattern\":{\"fillmode\":\"overlay\",\"size\":10,\"solidity\":0.2}},\"type\":\"barpolar\"}],\"pie\":[{\"automargin\":true,\"type\":\"pie\"}]},\"layout\":{\"autotypenumbers\":\"strict\",\"colorway\":[\"#636efa\",\"#EF553B\",\"#00cc96\",\"#ab63fa\",\"#FFA15A\",\"#19d3f3\",\"#FF6692\",\"#B6E880\",\"#FF97FF\",\"#FECB52\"],\"font\":{\"color\":\"#2a3f5f\"},\"hovermode\":\"closest\",\"hoverlabel\":{\"align\":\"left\"},\"paper_bgcolor\":\"white\",\"plot_bgcolor\":\"#E5ECF6\",\"polar\":{\"bgcolor\":\"#E5ECF6\",\"angularaxis\":{\"gridcolor\":\"white\",\"linecolor\":\"white\",\"ticks\":\"\"},\"radialaxis\":{\"gridcolor\":\"white\",\"linecolor\":\"white\",\"ticks\":\"\"}},\"ternary\":{\"bgcolor\":\"#E5ECF6\",\"aaxis\":{\"gridcolor\":\"white\",\"linecolor\":\"white\",\"ticks\":\"\"},\"baxis\":{\"gridcolor\":\"white\",\"linecolor\":\"white\",\"ticks\":\"\"},\"caxis\":{\"gridcolor\":\"white\",\"linecolor\":\"white\",\"ticks\":\"\"}},\"coloraxis\":{\"colorbar\":{\"outlinewidth\":0,\"ticks\":\"\"}},\"colorscale\":{\"sequential\":[[0.0,\"#0d0887\"],[0.1111111111111111,\"#46039f\"],[0.2222222222222222,\"#7201a8\"],[0.3333333333333333,\"#9c179e\"],[0.4444444444444444,\"#bd3786\"],[0.5555555555555556,\"#d8576b\"],[0.6666666666666666,\"#ed7953\"],[0.7777777777777778,\"#fb9f3a\"],[0.8888888888888888,\"#fdca26\"],[1.0,\"#f0f921\"]],\"sequentialminus\":[[0.0,\"#0d0887\"],[0.1111111111111111,\"#46039f\"],[0.2222222222222222,\"#7201a8\"],[0.3333333333333333,\"#9c179e\"],[0.4444444444444444,\"#bd3786\"],[0.5555555555555556,\"#d8576b\"],[0.6666666666666666,\"#ed7953\"],[0.7777777777777778,\"#fb9f3a\"],[0.8888888888888888,\"#fdca26\"],[1.0,\"#f0f921\"]],\"diverging\":[[0,\"#8e0152\"],[0.1,\"#c51b7d\"],[0.2,\"#de77ae\"],[0.3,\"#f1b6da\"],[0.4,\"#fde0ef\"],[0.5,\"#f7f7f7\"],[0.6,\"#e6f5d0\"],[0.7,\"#b8e186\"],[0.8,\"#7fbc41\"],[0.9,\"#4d9221\"],[1,\"#276419\"]]},\"xaxis\":{\"gridcolor\":\"white\",\"linecolor\":\"white\",\"ticks\":\"\",\"title\":{\"standoff\":15},\"zerolinecolor\":\"white\",\"automargin\":true,\"zerolinewidth\":2},\"yaxis\":{\"gridcolor\":\"white\",\"linecolor\":\"white\",\"ticks\":\"\",\"title\":{\"standoff\":15},\"zerolinecolor\":\"white\",\"automargin\":true,\"zerolinewidth\":2},\"scene\":{\"xaxis\":{\"backgroundcolor\":\"#E5ECF6\",\"gridcolor\":\"white\",\"linecolor\":\"white\",\"showbackground\":true,\"ticks\":\"\",\"zerolinecolor\":\"white\",\"gridwidth\":2},\"yaxis\":{\"backgroundcolor\":\"#E5ECF6\",\"gridcolor\":\"white\",\"linecolor\":\"white\",\"showbackground\":true,\"ticks\":\"\",\"zerolinecolor\":\"white\",\"gridwidth\":2},\"zaxis\":{\"backgroundcolor\":\"#E5ECF6\",\"gridcolor\":\"white\",\"linecolor\":\"white\",\"showbackground\":true,\"ticks\":\"\",\"zerolinecolor\":\"white\",\"gridwidth\":2}},\"shapedefaults\":{\"line\":{\"color\":\"#2a3f5f\"}},\"annotationdefaults\":{\"arrowcolor\":\"#2a3f5f\",\"arrowhead\":0,\"arrowwidth\":1},\"geo\":{\"bgcolor\":\"white\",\"landcolor\":\"#E5ECF6\",\"subunitcolor\":\"white\",\"showland\":true,\"showlakes\":true,\"lakecolor\":\"white\"},\"title\":{\"x\":0.05},\"mapbox\":{\"style\":\"light\"}}},\"mapbox\":{\"domain\":{\"x\":[0.0,1.0],\"y\":[0.0,1.0]},\"center\":{\"lat\":-37.81373720225536,\"lon\":144.96378739120706},\"zoom\":14,\"style\":\"stamen-terrain\"},\"coloraxis\":{\"colorbar\":{\"title\":{\"text\":\"trees_within_radius\"}},\"colorscale\":[[0.0,\"#0d0887\"],[0.1111111111111111,\"#46039f\"],[0.2222222222222222,\"#7201a8\"],[0.3333333333333333,\"#9c179e\"],[0.4444444444444444,\"#bd3786\"],[0.5555555555555556,\"#d8576b\"],[0.6666666666666666,\"#ed7953\"],[0.7777777777777778,\"#fb9f3a\"],[0.8888888888888888,\"#fdca26\"],[1.0,\"#f0f921\"]]},\"legend\":{\"tracegroupgap\":0},\"title\":{\"text\":\"Heatmap showing projected laneways with trees within radius across City of Melbourne\"},\"height\":1000,\"width\":1500},                        {\"responsive\": true}                    ).then(function(){\n",
       "                            \n",
       "var gd = document.getElementById('e20a9db2-b4df-4399-9f7d-c06d4f834b6a');\n",
       "var x = new MutationObserver(function (mutations, observer) {{\n",
       "        var display = window.getComputedStyle(gd).display;\n",
       "        if (!display || display === 'none') {{\n",
       "            console.log([gd, 'removed!']);\n",
       "            Plotly.purge(gd);\n",
       "            observer.disconnect();\n",
       "        }}\n",
       "}});\n",
       "\n",
       "// Listen for the removal of the full notebook cells\n",
       "var notebookContainer = gd.closest('#notebook-container');\n",
       "if (notebookContainer) {{\n",
       "    x.observe(notebookContainer, {childList: true});\n",
       "}}\n",
       "\n",
       "// Listen for the clearing of the current output cell\n",
       "var outputEl = gd.closest('.output');\n",
       "if (outputEl) {{\n",
       "    x.observe(outputEl, {childList: true});\n",
       "}}\n",
       "\n",
       "                        })                };                });            </script>        </div>"
      ]
     },
     "metadata": {},
     "output_type": "display_data"
    }
   ],
   "source": [
    "#Heatmap to show laneways with trees within radius\n",
    "fig = px.density_mapbox(laneways, lat='lat', lon='lon', z='trees_within_radius', mapbox_style=\"stamen-terrain\", opacity = 0.5, \n",
    "        title = 'Heatmap showing projected laneways with trees within radius across City of Melbourne', \n",
    "        width = 1500, height = 1000, zoom = 14)\n",
    "fig.show()"
   ]
  },
  {
   "cell_type": "code",
   "execution_count": 65,
   "metadata": {},
   "outputs": [],
   "source": [
    "# Divide total_energy by trees_within_radius to get energy per tree\n",
    "laneways['energy_per_tree'] = laneways['total_energy'] / laneways['trees_within_radius']"
   ]
  },
  {
   "cell_type": "code",
   "execution_count": 66,
   "metadata": {
    "scrolled": false
   },
   "outputs": [
    {
     "data": {
      "application/vnd.plotly.v1+json": {
       "config": {
        "plotlyServerURL": "https://plot.ly"
       },
       "data": [
        {
         "coloraxis": "coloraxis",
         "hovertemplate": "energy_per_tree=%{z}<br>lat=%{lat}<br>lon=%{lon}<extra></extra>",
         "lat": [
          -37.81980050254932,
          -37.81097635318543,
          -37.81111151578862,
          -37.81161232134716,
          -37.8124734926234,
          -37.81304184241003,
          -37.81410455066066,
          -37.81521836330808,
          -37.81560584167807,
          -37.81363663807256,
          -37.81318089121382,
          -37.811631479265266,
          -37.81096554046618,
          -37.81018788400599,
          -37.808928701105636,
          -37.811819833149336,
          -37.81363559321624,
          -37.81638689912868,
          -37.816437955439866,
          -37.816833769769204,
          -37.817277292447365,
          -37.817339881748865,
          -37.8172843757446,
          -37.816440023811005,
          -37.81531786344816,
          -37.81524339834998,
          -37.81496076902029,
          -37.81283231518697,
          -37.8122331277934,
          -37.81120874607432,
          -37.810511430101,
          -37.811082793916796,
          -37.81364143485823,
          -37.81479726899315,
          -37.814683887787545,
          -37.81497705914173,
          -37.81505553768235,
          -37.81637435216704,
          -37.81697722216005,
          -37.81194262812994,
          -37.81310137820415,
          -37.813735162366505,
          -37.8137809735933,
          -37.81528156146977,
          -37.81522401449075,
          -37.81593175883032,
          -37.81602777672109,
          -37.817199920431165,
          -37.81776601260828,
          -37.81820807553832,
          -37.817688637627505,
          -37.813316564957894,
          -37.81445067539735,
          -37.81488075904122,
          -37.81676041377433,
          -37.81734946853748,
          -37.81739031205376,
          -37.818984126275495,
          -37.81963370613525,
          -37.81954117327879,
          -37.8200790748199,
          -37.82011600297684,
          -37.82027880943805,
          -37.819764909598696,
          -37.81604819466985,
          -37.81336268612127,
          -37.813098677911036,
          -37.810100678849565,
          -37.81109181824087,
          -37.810461362738046,
          -37.80804153774292,
          -37.809574187684454,
          -37.81477253709165,
          -37.81124523135607,
          -37.81452312073989,
          -37.81119641212291,
          -37.80981203103341,
          -37.81261588548371,
          -37.81332555540913,
          -37.808798598420246,
          -37.807613165711366,
          -37.815810557823596,
          -37.81535672343349,
          -37.81037958674067,
          -37.810217121848865,
          -37.81077581774339,
          -37.811226042417026,
          -37.8131805651399,
          -37.812714034948,
          -37.815866684899426,
          -37.816070884780686,
          -37.815043593615314,
          -37.814860662335775,
          -37.81325469434872,
          -37.8113357078086,
          -37.81112570199548,
          -37.81047263684767,
          -37.809814704774496,
          -37.808962433086066,
          -37.80891911143074,
          -37.80927255305554,
          -37.811503452175096,
          -37.81181924077914,
          -37.81236603080382,
          -37.81227101185166,
          -37.8122351726817,
          -37.815770514528744,
          -37.81721251515046,
          -37.816552460452876,
          -37.81515149775422,
          -37.814459961312124,
          -37.81425396234533,
          -37.81311665324148,
          -37.81113906039378,
          -37.81100772543578,
          -37.811294962572816,
          -37.81195697118721,
          -37.81288655222083,
          -37.81434588510203,
          -37.814713446937354,
          -37.81668311746074,
          -37.81179252091795,
          -37.8121714527127,
          -37.81327834872983,
          -37.813481152611836,
          -37.81382053335725,
          -37.81386196353888,
          -37.814139526354815,
          -37.81417691097461,
          -37.817244932826426,
          -37.81774881340534,
          -37.817647102746875,
          -37.81848742506025,
          -37.81274968140071,
          -37.81272540384329,
          -37.81283327377191,
          -37.8135247555415,
          -37.813157519841646,
          -37.81654155142347,
          -37.817468209169334,
          -37.81597970168963,
          -37.81523292318083,
          -37.81375860365229,
          -37.81345477331178,
          -37.81713959638289,
          -37.80766995107844,
          -37.807874533479186,
          -37.807868542290684,
          -37.80825704076604,
          -37.8092052807982,
          -37.81059550083191,
          -37.81532410339944,
          -37.812892966824165,
          -37.81593137617615,
          -37.813761236886755,
          -37.815212125832595,
          -37.81289266958999,
          -37.80875417866908,
          -37.80880126515651,
          -37.81034170711123,
          -37.81674801251833,
          -37.808893073302414,
          -37.80743440633362,
          -37.811312355458725,
          -37.812062778388146,
          -37.812200122969514,
          -37.81299489178982,
          -37.81291772360056,
          -37.81486555746091,
          -37.81556813104544,
          -37.81565225265017,
          -37.815010365366625,
          -37.81450170729136,
          -37.81388085097895,
          -37.811846184146255,
          -37.81186744205427,
          -37.81164146216171,
          -37.81203165865674,
          -37.81199395451558,
          -37.81111808221134,
          -37.81121896258666,
          -37.809070759197056,
          -37.8092614609602,
          -37.811622558943256,
          -37.8119212879997,
          -37.812182004124956,
          -37.81255972303171,
          -37.81265308586931,
          -37.81375221918104,
          -37.813998405447016,
          -37.814540467211934,
          -37.81684310938986,
          -37.81625729975984,
          -37.815466618658434,
          -37.815136745569795,
          -37.81453505593018,
          -37.814399761923944,
          -37.81295591658134,
          -37.81140603994133,
          -37.81107211875846,
          -37.81143661165109,
          -37.81445017766827,
          -37.81611345293064,
          -37.81634100783601,
          -37.81662436680107,
          -37.81232803829519,
          -37.8131179768624,
          -37.81322013799656,
          -37.81316822185592,
          -37.815582438708404,
          -37.81587907634075,
          -37.81748103944648,
          -37.81705022724468,
          -37.81984867154892,
          -37.818834732192755,
          -37.81801103424856,
          -37.81788034313359,
          -37.81535295029374,
          -37.81265852382229,
          -37.81400371191351,
          -37.81368407590331,
          -37.814672188989995,
          -37.815444976696476,
          -37.81556411206914,
          -37.81675781807964,
          -37.81705815427994,
          -37.81939019475833,
          -37.81820110978195,
          -37.815131053785386,
          -37.81535738669452,
          -37.81558625091741,
          -37.813298814806174,
          -37.80919327198343,
          -37.80940546461835,
          -37.81602860198378,
          -37.819253504282024,
          -37.815770743514925,
          -37.81309137074721,
          -37.81696435459669,
          -37.813170613431005,
          -37.81132913888725,
          -37.808732016172115,
          -37.811891568883624,
          -37.80980844948987,
          -37.807528190248966,
          -37.8091174792242
         ],
         "lon": [
          144.9623447558369,
          144.97170834375964,
          144.97244046374837,
          144.97077449834737,
          144.9713761243581,
          144.97240833983707,
          144.9736711005169,
          144.97342323779137,
          144.9716292036106,
          144.97030218968666,
          144.96918657126457,
          144.96996732732396,
          144.9691457959443,
          144.9673441983146,
          144.96845133042902,
          144.9653517247358,
          144.9673143038117,
          144.9690855012813,
          144.968922695136,
          144.96650432144628,
          144.9660029303524,
          144.96578935360571,
          144.96517912329656,
          144.9660849351429,
          144.96412508085777,
          144.96455112659987,
          144.9655933228601,
          144.96485753421675,
          144.96450529272983,
          144.96385829677484,
          144.96354768190554,
          144.96080159509805,
          144.95967769583882,
          144.96010852358677,
          144.9588906580676,
          144.95845989409705,
          144.9582828280556,
          144.96046496953696,
          144.959485810845,
          144.9609229814977,
          144.96198155668426,
          144.9624979570203,
          144.96166455721152,
          144.96173953568237,
          144.96270583856173,
          144.9624004738762,
          144.961858207876,
          144.96372396866002,
          144.9644701544366,
          144.96278099354788,
          144.96142118297337,
          144.95622231595837,
          144.95696234059736,
          144.95548424957065,
          144.9565316258329,
          144.95821608690858,
          144.9571657633738,
          144.95739637072802,
          144.95802323076245,
          144.95814655276035,
          144.95689895741233,
          144.9565343730053,
          144.95574545353142,
          144.95678115855074,
          144.95454175904922,
          144.95366296666123,
          144.9537692541663,
          144.97061722203512,
          144.95686225824505,
          144.95794177940672,
          144.96757914799085,
          144.96249136310982,
          144.95568011260008,
          144.9629516862615,
          144.966997043321,
          144.97194522260708,
          144.9715932336254,
          144.967462431471,
          144.97243815994796,
          144.9616871375218,
          144.960765316124,
          144.95986079172638,
          144.95569265063773,
          144.97089952599487,
          144.97162762401734,
          144.97188375120993,
          144.97139352262127,
          144.97156163273422,
          144.9732382331711,
          144.97038374615923,
          144.97010070091366,
          144.9694430083061,
          144.97123717171658,
          144.96873339216515,
          144.96869835348167,
          144.96876012887915,
          144.96932760907043,
          144.9686183570954,
          144.9686829724722,
          144.96820381786043,
          144.96695006791515,
          144.96706520083916,
          144.9662543134082,
          144.96745507745138,
          144.9670624811988,
          144.9668849462853,
          144.96807420840344,
          144.96538877094625,
          144.96545353140812,
          144.9651313656219,
          144.96512380211735,
          144.96551925271615,
          144.96455086424254,
          144.96406312182154,
          144.9637645863644,
          144.96003291730977,
          144.95842907268548,
          144.9585839756677,
          144.95974778709353,
          144.959365686083,
          144.95967498096383,
          144.96145629110254,
          144.9605637989974,
          144.9616783818041,
          144.96071921330733,
          144.9621722247973,
          144.96194119821186,
          144.9614681922904,
          144.96114774652452,
          144.96301317553295,
          144.96432068731727,
          144.9639285753139,
          144.96164025970833,
          144.95557759699858,
          144.9552110178304,
          144.95470375589997,
          144.95580894305417,
          144.956467534624,
          144.95728722207423,
          144.95766420142033,
          144.9550350462116,
          144.95416746963403,
          144.95411623616334,
          144.95342725801962,
          144.95803438474277,
          144.9680242507245,
          144.96719168157594,
          144.9667625802273,
          144.96229519445652,
          144.96224533961347,
          144.95911816016283,
          144.95738250359312,
          144.97243830492508,
          144.96023905827192,
          144.96151358975985,
          144.97267324944883,
          144.97338626335969,
          144.97090512754946,
          144.97106863634434,
          144.97192733483007,
          144.96800192126963,
          144.96135266168625,
          144.96794349212385,
          144.97106967426805,
          144.9726904738642,
          144.9722726519847,
          144.97186299342198,
          144.97284822191173,
          144.9741255712408,
          144.9713012962928,
          144.97093032525657,
          144.97026802181446,
          144.97128718168483,
          144.970002281767,
          144.96930164317203,
          144.9690242022624,
          144.96873504016077,
          144.9686727236111,
          144.96839736007794,
          144.96770214537466,
          144.96830248372038,
          144.96780415838268,
          144.96738352989738,
          144.96665168266972,
          144.965582443831,
          144.96554618976265,
          144.96663010717896,
          144.96570181648684,
          144.9668995155727,
          144.96631621514925,
          144.9674685834403,
          144.9663646628278,
          144.96645933847927,
          144.9643638871223,
          144.96546528286152,
          144.9643264084841,
          144.9647515708548,
          144.963020448098,
          144.96398614233215,
          144.96009641017997,
          144.96025816014517,
          144.95965312776522,
          144.95933810898964,
          144.96075701875682,
          144.9604014852698,
          144.960047985896,
          144.96146041692978,
          144.96103700163818,
          144.96028210934693,
          144.9614105114917,
          144.96320879536245,
          144.96223748479332,
          144.96401604954465,
          144.9578825986701,
          144.96126658202394,
          144.9609454968655,
          144.961240049609,
          144.96038745128234,
          144.9561807421683,
          144.95506325236272,
          144.95519418764638,
          144.95606924108571,
          144.95698136409075,
          144.95651273561546,
          144.95677846750684,
          144.95829874000657,
          144.9588910635486,
          144.95515581469482,
          144.9547019972304,
          144.95447646152166,
          144.95398767873985,
          144.95203267710278,
          144.95907535115865,
          144.96233864480138,
          144.96346829171765,
          144.95632912990123,
          144.96290788697897,
          144.96047108406836,
          144.96627899373402,
          144.96406677587515,
          144.97208617369233,
          144.9713271143983,
          144.96646689470336,
          144.96051751381623,
          144.96798312015957,
          144.97079029463796
         ],
         "name": "",
         "opacity": 0.5,
         "subplot": "mapbox",
         "type": "densitymapbox",
         "z": [
          0,
          3199.3864891272724,
          1454.88747872,
          969.9249858133334,
          4894.895210575,
          3457.717471708334,
          7098.7650353,
          6317.90040035,
          1372.846792353846,
          12861.123617537502,
          23039.6891681,
          1145.3696767699998,
          12549.3691011,
          3315.4238375,
          1013.5454791320001,
          1118.5748319555555,
          1339.4529507454545,
          null,
          20653.5903356,
          10476.39441755,
          null,
          null,
          6076.8267599,
          null,
          null,
          null,
          11027.92721915,
          0,
          18651.4703456,
          11657.168966,
          0,
          null,
          709.8099672725001,
          2843.0015915416666,
          6090.534100824286,
          2274.4012732333335,
          2006.8246528529412,
          5974.935430969999,
          8055.528719499999,
          13463.720937966666,
          2922.7114589000003,
          1255.4828080125,
          6164.35493965,
          14299.039088475,
          35409.80689093333,
          35409.80689093333,
          9806.65286378,
          32343.3245571,
          8529.502057725,
          4264.7510288625,
          3151.581001662857,
          null,
          8796.0245221,
          1954.6721160222223,
          9186.368311266668,
          11402.223502833333,
          10294.29590705,
          4215.67045468,
          2511.9922819636363,
          2511.9922819636363,
          995.6097425923077,
          1617.8658317125,
          4314.308884566667,
          862.8617769133333,
          null,
          4298.047560295,
          1432.6825200983333,
          4171.192778961111,
          2295.2471901,
          1511.8232763857143,
          4269.771831755,
          1352.7733376771428,
          5864.016348066667,
          null,
          30428.6756622,
          7274.4373936,
          1876.7615084727272,
          2104.851428016667,
          3130.4326883142858,
          3691.670083706666,
          3542.60161855,
          null,
          7689.358952442858,
          2580.54707415,
          6881.4588644,
          5027.607340057142,
          2909.77495744,
          1095.65144091,
          1826.08573485,
          2549.5726143714282,
          1784.7008300599998,
          3439.5107311545453,
          4203.846449188889,
          9215.875667240001,
          null,
          24003.065868799997,
          1254.9369101099999,
          16577.1191875,
          844.62123261,
          null,
          723.9610565228571,
          1258.39668595,
          22696.2820557,
          1578.6385710125,
          11348.14102785,
          11348.14102785,
          null,
          20952.7888351,
          13968.525890066667,
          null,
          null,
          1342.8760288666665,
          null,
          0,
          0,
          8558.4742424,
          3750.5767621733335,
          3474.16152728,
          4737.082078418889,
          null,
          8535.622044242857,
          null,
          6366.5377143,
          6164.35493965,
          2922.7114589000003,
          2510.965616025,
          8219.139919533334,
          null,
          10043.8624641,
          null,
          17059.00411545,
          32343.3245571,
          1872.0824209080001,
          null,
          null,
          6826.30974345,
          null,
          6433.92626175,
          2755.91049338,
          null,
          1758.909780375,
          null,
          2359.813511777778,
          null,
          6176.57754423,
          1423.2572772516667,
          9590.851278889999,
          2397.7128197224997,
          3170.151784625,
          4430.004100447999,
          1552.0193932846155,
          13456.378166775,
          2074.630483025,
          19916.451436566666,
          6164.35493965,
          1943.9693539538462,
          4382.60576364,
          null,
          null,
          8798.3128451,
          20653.5903356,
          1408.9563487222222,
          948.8381848344444,
          4849.6249290666665,
          1398.5414887357144,
          1223.72380264375,
          2440.7417447352946,
          2739.128602275,
          4211.933600233334,
          2230.876037575,
          6960.2032929125,
          null,
          2910.3552340538463,
          18936.536868033334,
          null,
          null,
          null,
          null,
          5726.84838385,
          1254.9369101099999,
          null,
          null,
          5067.72739566,
          null,
          3355.7244958666665,
          2516.7933719,
          11348.14102785,
          1578.6385710125,
          1339.4529507454545,
          1339.4529507454545,
          null,
          41905.5776702,
          2152.2815809545455,
          null,
          null,
          null,
          null,
          0,
          7173.642440615384,
          2139.6185606,
          null,
          14211.246235256667,
          11949.870861939999,
          1510.41163490625,
          2685.176239833333,
          3536.965396833333,
          null,
          7306.77864725,
          859.6210173235295,
          4399.704334915385,
          24516.63215945,
          3090.6639850285715,
          6113.72817666,
          2511.9922819636363,
          1620.7694936157145,
          3136.438925849412,
          11030.53350582,
          3234.7971046545454,
          13652.6194869,
          1286.78525235,
          3216.963130875,
          17592.0490442,
          10765.10253342,
          7689.358952442858,
          6889.77623345,
          2280.4447005666666,
          6907.9787754,
          21186.5328532,
          941.53102271125,
          10801.763212345,
          null,
          955.1216800655556,
          460.4799908235714,
          3156.4711212466664,
          5448.140479877778,
          6693.966345425,
          35409.80689093333,
          913.34733090625,
          41905.5776702,
          null,
          2909.77495744,
          9206.0325381415,
          11348.14102785,
          5044.063028175,
          948.8381848344444,
          null
         ]
        }
       ],
       "layout": {
        "coloraxis": {
         "colorbar": {
          "title": {
           "text": "energy_per_tree"
          }
         },
         "colorscale": [
          [
           0,
           "#0d0887"
          ],
          [
           0.1111111111111111,
           "#46039f"
          ],
          [
           0.2222222222222222,
           "#7201a8"
          ],
          [
           0.3333333333333333,
           "#9c179e"
          ],
          [
           0.4444444444444444,
           "#bd3786"
          ],
          [
           0.5555555555555556,
           "#d8576b"
          ],
          [
           0.6666666666666666,
           "#ed7953"
          ],
          [
           0.7777777777777778,
           "#fb9f3a"
          ],
          [
           0.8888888888888888,
           "#fdca26"
          ],
          [
           1,
           "#f0f921"
          ]
         ]
        },
        "height": 1000,
        "legend": {
         "tracegroupgap": 0
        },
        "mapbox": {
         "center": {
          "lat": -37.81373720225536,
          "lon": 144.96378739120706
         },
         "domain": {
          "x": [
           0,
           1
          ],
          "y": [
           0,
           1
          ]
         },
         "style": "stamen-terrain",
         "zoom": 14
        },
        "template": {
         "data": {
          "bar": [
           {
            "error_x": {
             "color": "#2a3f5f"
            },
            "error_y": {
             "color": "#2a3f5f"
            },
            "marker": {
             "line": {
              "color": "#E5ECF6",
              "width": 0.5
             },
             "pattern": {
              "fillmode": "overlay",
              "size": 10,
              "solidity": 0.2
             }
            },
            "type": "bar"
           }
          ],
          "barpolar": [
           {
            "marker": {
             "line": {
              "color": "#E5ECF6",
              "width": 0.5
             },
             "pattern": {
              "fillmode": "overlay",
              "size": 10,
              "solidity": 0.2
             }
            },
            "type": "barpolar"
           }
          ],
          "carpet": [
           {
            "aaxis": {
             "endlinecolor": "#2a3f5f",
             "gridcolor": "white",
             "linecolor": "white",
             "minorgridcolor": "white",
             "startlinecolor": "#2a3f5f"
            },
            "baxis": {
             "endlinecolor": "#2a3f5f",
             "gridcolor": "white",
             "linecolor": "white",
             "minorgridcolor": "white",
             "startlinecolor": "#2a3f5f"
            },
            "type": "carpet"
           }
          ],
          "choropleth": [
           {
            "colorbar": {
             "outlinewidth": 0,
             "ticks": ""
            },
            "type": "choropleth"
           }
          ],
          "contour": [
           {
            "colorbar": {
             "outlinewidth": 0,
             "ticks": ""
            },
            "colorscale": [
             [
              0,
              "#0d0887"
             ],
             [
              0.1111111111111111,
              "#46039f"
             ],
             [
              0.2222222222222222,
              "#7201a8"
             ],
             [
              0.3333333333333333,
              "#9c179e"
             ],
             [
              0.4444444444444444,
              "#bd3786"
             ],
             [
              0.5555555555555556,
              "#d8576b"
             ],
             [
              0.6666666666666666,
              "#ed7953"
             ],
             [
              0.7777777777777778,
              "#fb9f3a"
             ],
             [
              0.8888888888888888,
              "#fdca26"
             ],
             [
              1,
              "#f0f921"
             ]
            ],
            "type": "contour"
           }
          ],
          "contourcarpet": [
           {
            "colorbar": {
             "outlinewidth": 0,
             "ticks": ""
            },
            "type": "contourcarpet"
           }
          ],
          "heatmap": [
           {
            "colorbar": {
             "outlinewidth": 0,
             "ticks": ""
            },
            "colorscale": [
             [
              0,
              "#0d0887"
             ],
             [
              0.1111111111111111,
              "#46039f"
             ],
             [
              0.2222222222222222,
              "#7201a8"
             ],
             [
              0.3333333333333333,
              "#9c179e"
             ],
             [
              0.4444444444444444,
              "#bd3786"
             ],
             [
              0.5555555555555556,
              "#d8576b"
             ],
             [
              0.6666666666666666,
              "#ed7953"
             ],
             [
              0.7777777777777778,
              "#fb9f3a"
             ],
             [
              0.8888888888888888,
              "#fdca26"
             ],
             [
              1,
              "#f0f921"
             ]
            ],
            "type": "heatmap"
           }
          ],
          "heatmapgl": [
           {
            "colorbar": {
             "outlinewidth": 0,
             "ticks": ""
            },
            "colorscale": [
             [
              0,
              "#0d0887"
             ],
             [
              0.1111111111111111,
              "#46039f"
             ],
             [
              0.2222222222222222,
              "#7201a8"
             ],
             [
              0.3333333333333333,
              "#9c179e"
             ],
             [
              0.4444444444444444,
              "#bd3786"
             ],
             [
              0.5555555555555556,
              "#d8576b"
             ],
             [
              0.6666666666666666,
              "#ed7953"
             ],
             [
              0.7777777777777778,
              "#fb9f3a"
             ],
             [
              0.8888888888888888,
              "#fdca26"
             ],
             [
              1,
              "#f0f921"
             ]
            ],
            "type": "heatmapgl"
           }
          ],
          "histogram": [
           {
            "marker": {
             "pattern": {
              "fillmode": "overlay",
              "size": 10,
              "solidity": 0.2
             }
            },
            "type": "histogram"
           }
          ],
          "histogram2d": [
           {
            "colorbar": {
             "outlinewidth": 0,
             "ticks": ""
            },
            "colorscale": [
             [
              0,
              "#0d0887"
             ],
             [
              0.1111111111111111,
              "#46039f"
             ],
             [
              0.2222222222222222,
              "#7201a8"
             ],
             [
              0.3333333333333333,
              "#9c179e"
             ],
             [
              0.4444444444444444,
              "#bd3786"
             ],
             [
              0.5555555555555556,
              "#d8576b"
             ],
             [
              0.6666666666666666,
              "#ed7953"
             ],
             [
              0.7777777777777778,
              "#fb9f3a"
             ],
             [
              0.8888888888888888,
              "#fdca26"
             ],
             [
              1,
              "#f0f921"
             ]
            ],
            "type": "histogram2d"
           }
          ],
          "histogram2dcontour": [
           {
            "colorbar": {
             "outlinewidth": 0,
             "ticks": ""
            },
            "colorscale": [
             [
              0,
              "#0d0887"
             ],
             [
              0.1111111111111111,
              "#46039f"
             ],
             [
              0.2222222222222222,
              "#7201a8"
             ],
             [
              0.3333333333333333,
              "#9c179e"
             ],
             [
              0.4444444444444444,
              "#bd3786"
             ],
             [
              0.5555555555555556,
              "#d8576b"
             ],
             [
              0.6666666666666666,
              "#ed7953"
             ],
             [
              0.7777777777777778,
              "#fb9f3a"
             ],
             [
              0.8888888888888888,
              "#fdca26"
             ],
             [
              1,
              "#f0f921"
             ]
            ],
            "type": "histogram2dcontour"
           }
          ],
          "mesh3d": [
           {
            "colorbar": {
             "outlinewidth": 0,
             "ticks": ""
            },
            "type": "mesh3d"
           }
          ],
          "parcoords": [
           {
            "line": {
             "colorbar": {
              "outlinewidth": 0,
              "ticks": ""
             }
            },
            "type": "parcoords"
           }
          ],
          "pie": [
           {
            "automargin": true,
            "type": "pie"
           }
          ],
          "scatter": [
           {
            "fillpattern": {
             "fillmode": "overlay",
             "size": 10,
             "solidity": 0.2
            },
            "type": "scatter"
           }
          ],
          "scatter3d": [
           {
            "line": {
             "colorbar": {
              "outlinewidth": 0,
              "ticks": ""
             }
            },
            "marker": {
             "colorbar": {
              "outlinewidth": 0,
              "ticks": ""
             }
            },
            "type": "scatter3d"
           }
          ],
          "scattercarpet": [
           {
            "marker": {
             "colorbar": {
              "outlinewidth": 0,
              "ticks": ""
             }
            },
            "type": "scattercarpet"
           }
          ],
          "scattergeo": [
           {
            "marker": {
             "colorbar": {
              "outlinewidth": 0,
              "ticks": ""
             }
            },
            "type": "scattergeo"
           }
          ],
          "scattergl": [
           {
            "marker": {
             "colorbar": {
              "outlinewidth": 0,
              "ticks": ""
             }
            },
            "type": "scattergl"
           }
          ],
          "scattermapbox": [
           {
            "marker": {
             "colorbar": {
              "outlinewidth": 0,
              "ticks": ""
             }
            },
            "type": "scattermapbox"
           }
          ],
          "scatterpolar": [
           {
            "marker": {
             "colorbar": {
              "outlinewidth": 0,
              "ticks": ""
             }
            },
            "type": "scatterpolar"
           }
          ],
          "scatterpolargl": [
           {
            "marker": {
             "colorbar": {
              "outlinewidth": 0,
              "ticks": ""
             }
            },
            "type": "scatterpolargl"
           }
          ],
          "scatterternary": [
           {
            "marker": {
             "colorbar": {
              "outlinewidth": 0,
              "ticks": ""
             }
            },
            "type": "scatterternary"
           }
          ],
          "surface": [
           {
            "colorbar": {
             "outlinewidth": 0,
             "ticks": ""
            },
            "colorscale": [
             [
              0,
              "#0d0887"
             ],
             [
              0.1111111111111111,
              "#46039f"
             ],
             [
              0.2222222222222222,
              "#7201a8"
             ],
             [
              0.3333333333333333,
              "#9c179e"
             ],
             [
              0.4444444444444444,
              "#bd3786"
             ],
             [
              0.5555555555555556,
              "#d8576b"
             ],
             [
              0.6666666666666666,
              "#ed7953"
             ],
             [
              0.7777777777777778,
              "#fb9f3a"
             ],
             [
              0.8888888888888888,
              "#fdca26"
             ],
             [
              1,
              "#f0f921"
             ]
            ],
            "type": "surface"
           }
          ],
          "table": [
           {
            "cells": {
             "fill": {
              "color": "#EBF0F8"
             },
             "line": {
              "color": "white"
             }
            },
            "header": {
             "fill": {
              "color": "#C8D4E3"
             },
             "line": {
              "color": "white"
             }
            },
            "type": "table"
           }
          ]
         },
         "layout": {
          "annotationdefaults": {
           "arrowcolor": "#2a3f5f",
           "arrowhead": 0,
           "arrowwidth": 1
          },
          "autotypenumbers": "strict",
          "coloraxis": {
           "colorbar": {
            "outlinewidth": 0,
            "ticks": ""
           }
          },
          "colorscale": {
           "diverging": [
            [
             0,
             "#8e0152"
            ],
            [
             0.1,
             "#c51b7d"
            ],
            [
             0.2,
             "#de77ae"
            ],
            [
             0.3,
             "#f1b6da"
            ],
            [
             0.4,
             "#fde0ef"
            ],
            [
             0.5,
             "#f7f7f7"
            ],
            [
             0.6,
             "#e6f5d0"
            ],
            [
             0.7,
             "#b8e186"
            ],
            [
             0.8,
             "#7fbc41"
            ],
            [
             0.9,
             "#4d9221"
            ],
            [
             1,
             "#276419"
            ]
           ],
           "sequential": [
            [
             0,
             "#0d0887"
            ],
            [
             0.1111111111111111,
             "#46039f"
            ],
            [
             0.2222222222222222,
             "#7201a8"
            ],
            [
             0.3333333333333333,
             "#9c179e"
            ],
            [
             0.4444444444444444,
             "#bd3786"
            ],
            [
             0.5555555555555556,
             "#d8576b"
            ],
            [
             0.6666666666666666,
             "#ed7953"
            ],
            [
             0.7777777777777778,
             "#fb9f3a"
            ],
            [
             0.8888888888888888,
             "#fdca26"
            ],
            [
             1,
             "#f0f921"
            ]
           ],
           "sequentialminus": [
            [
             0,
             "#0d0887"
            ],
            [
             0.1111111111111111,
             "#46039f"
            ],
            [
             0.2222222222222222,
             "#7201a8"
            ],
            [
             0.3333333333333333,
             "#9c179e"
            ],
            [
             0.4444444444444444,
             "#bd3786"
            ],
            [
             0.5555555555555556,
             "#d8576b"
            ],
            [
             0.6666666666666666,
             "#ed7953"
            ],
            [
             0.7777777777777778,
             "#fb9f3a"
            ],
            [
             0.8888888888888888,
             "#fdca26"
            ],
            [
             1,
             "#f0f921"
            ]
           ]
          },
          "colorway": [
           "#636efa",
           "#EF553B",
           "#00cc96",
           "#ab63fa",
           "#FFA15A",
           "#19d3f3",
           "#FF6692",
           "#B6E880",
           "#FF97FF",
           "#FECB52"
          ],
          "font": {
           "color": "#2a3f5f"
          },
          "geo": {
           "bgcolor": "white",
           "lakecolor": "white",
           "landcolor": "#E5ECF6",
           "showlakes": true,
           "showland": true,
           "subunitcolor": "white"
          },
          "hoverlabel": {
           "align": "left"
          },
          "hovermode": "closest",
          "mapbox": {
           "style": "light"
          },
          "paper_bgcolor": "white",
          "plot_bgcolor": "#E5ECF6",
          "polar": {
           "angularaxis": {
            "gridcolor": "white",
            "linecolor": "white",
            "ticks": ""
           },
           "bgcolor": "#E5ECF6",
           "radialaxis": {
            "gridcolor": "white",
            "linecolor": "white",
            "ticks": ""
           }
          },
          "scene": {
           "xaxis": {
            "backgroundcolor": "#E5ECF6",
            "gridcolor": "white",
            "gridwidth": 2,
            "linecolor": "white",
            "showbackground": true,
            "ticks": "",
            "zerolinecolor": "white"
           },
           "yaxis": {
            "backgroundcolor": "#E5ECF6",
            "gridcolor": "white",
            "gridwidth": 2,
            "linecolor": "white",
            "showbackground": true,
            "ticks": "",
            "zerolinecolor": "white"
           },
           "zaxis": {
            "backgroundcolor": "#E5ECF6",
            "gridcolor": "white",
            "gridwidth": 2,
            "linecolor": "white",
            "showbackground": true,
            "ticks": "",
            "zerolinecolor": "white"
           }
          },
          "shapedefaults": {
           "line": {
            "color": "#2a3f5f"
           }
          },
          "ternary": {
           "aaxis": {
            "gridcolor": "white",
            "linecolor": "white",
            "ticks": ""
           },
           "baxis": {
            "gridcolor": "white",
            "linecolor": "white",
            "ticks": ""
           },
           "bgcolor": "#E5ECF6",
           "caxis": {
            "gridcolor": "white",
            "linecolor": "white",
            "ticks": ""
           }
          },
          "title": {
           "x": 0.05
          },
          "xaxis": {
           "automargin": true,
           "gridcolor": "white",
           "linecolor": "white",
           "ticks": "",
           "title": {
            "standoff": 15
           },
           "zerolinecolor": "white",
           "zerolinewidth": 2
          },
          "yaxis": {
           "automargin": true,
           "gridcolor": "white",
           "linecolor": "white",
           "ticks": "",
           "title": {
            "standoff": 15
           },
           "zerolinecolor": "white",
           "zerolinewidth": 2
          }
         }
        },
        "title": {
         "text": "Heatmap showing projected laneways with trees within radius across City of Melbourne"
        },
        "width": 1500
       }
      },
      "text/html": [
       "<div>                            <div id=\"bc34aa60-ce94-444b-95ad-9db71ece2487\" class=\"plotly-graph-div\" style=\"height:1000px; width:1500px;\"></div>            <script type=\"text/javascript\">                require([\"plotly\"], function(Plotly) {                    window.PLOTLYENV=window.PLOTLYENV || {};                                    if (document.getElementById(\"bc34aa60-ce94-444b-95ad-9db71ece2487\")) {                    Plotly.newPlot(                        \"bc34aa60-ce94-444b-95ad-9db71ece2487\",                        [{\"coloraxis\":\"coloraxis\",\"hovertemplate\":\"energy_per_tree=%{z}<br>lat=%{lat}<br>lon=%{lon}<extra></extra>\",\"lat\":[-37.81980050254932,-37.81097635318543,-37.81111151578862,-37.81161232134716,-37.8124734926234,-37.81304184241003,-37.81410455066066,-37.81521836330808,-37.81560584167807,-37.81363663807256,-37.81318089121382,-37.811631479265266,-37.81096554046618,-37.81018788400599,-37.808928701105636,-37.811819833149336,-37.81363559321624,-37.81638689912868,-37.816437955439866,-37.816833769769204,-37.817277292447365,-37.817339881748865,-37.8172843757446,-37.816440023811005,-37.81531786344816,-37.81524339834998,-37.81496076902029,-37.81283231518697,-37.8122331277934,-37.81120874607432,-37.810511430101,-37.811082793916796,-37.81364143485823,-37.81479726899315,-37.814683887787545,-37.81497705914173,-37.81505553768235,-37.81637435216704,-37.81697722216005,-37.81194262812994,-37.81310137820415,-37.813735162366505,-37.8137809735933,-37.81528156146977,-37.81522401449075,-37.81593175883032,-37.81602777672109,-37.817199920431165,-37.81776601260828,-37.81820807553832,-37.817688637627505,-37.813316564957894,-37.81445067539735,-37.81488075904122,-37.81676041377433,-37.81734946853748,-37.81739031205376,-37.818984126275495,-37.81963370613525,-37.81954117327879,-37.8200790748199,-37.82011600297684,-37.82027880943805,-37.819764909598696,-37.81604819466985,-37.81336268612127,-37.813098677911036,-37.810100678849565,-37.81109181824087,-37.810461362738046,-37.80804153774292,-37.809574187684454,-37.81477253709165,-37.81124523135607,-37.81452312073989,-37.81119641212291,-37.80981203103341,-37.81261588548371,-37.81332555540913,-37.808798598420246,-37.807613165711366,-37.815810557823596,-37.81535672343349,-37.81037958674067,-37.810217121848865,-37.81077581774339,-37.811226042417026,-37.8131805651399,-37.812714034948,-37.815866684899426,-37.816070884780686,-37.815043593615314,-37.814860662335775,-37.81325469434872,-37.8113357078086,-37.81112570199548,-37.81047263684767,-37.809814704774496,-37.808962433086066,-37.80891911143074,-37.80927255305554,-37.811503452175096,-37.81181924077914,-37.81236603080382,-37.81227101185166,-37.8122351726817,-37.815770514528744,-37.81721251515046,-37.816552460452876,-37.81515149775422,-37.814459961312124,-37.81425396234533,-37.81311665324148,-37.81113906039378,-37.81100772543578,-37.811294962572816,-37.81195697118721,-37.81288655222083,-37.81434588510203,-37.814713446937354,-37.81668311746074,-37.81179252091795,-37.8121714527127,-37.81327834872983,-37.813481152611836,-37.81382053335725,-37.81386196353888,-37.814139526354815,-37.81417691097461,-37.817244932826426,-37.81774881340534,-37.817647102746875,-37.81848742506025,-37.81274968140071,-37.81272540384329,-37.81283327377191,-37.8135247555415,-37.813157519841646,-37.81654155142347,-37.817468209169334,-37.81597970168963,-37.81523292318083,-37.81375860365229,-37.81345477331178,-37.81713959638289,-37.80766995107844,-37.807874533479186,-37.807868542290684,-37.80825704076604,-37.8092052807982,-37.81059550083191,-37.81532410339944,-37.812892966824165,-37.81593137617615,-37.813761236886755,-37.815212125832595,-37.81289266958999,-37.80875417866908,-37.80880126515651,-37.81034170711123,-37.81674801251833,-37.808893073302414,-37.80743440633362,-37.811312355458725,-37.812062778388146,-37.812200122969514,-37.81299489178982,-37.81291772360056,-37.81486555746091,-37.81556813104544,-37.81565225265017,-37.815010365366625,-37.81450170729136,-37.81388085097895,-37.811846184146255,-37.81186744205427,-37.81164146216171,-37.81203165865674,-37.81199395451558,-37.81111808221134,-37.81121896258666,-37.809070759197056,-37.8092614609602,-37.811622558943256,-37.8119212879997,-37.812182004124956,-37.81255972303171,-37.81265308586931,-37.81375221918104,-37.813998405447016,-37.814540467211934,-37.81684310938986,-37.81625729975984,-37.815466618658434,-37.815136745569795,-37.81453505593018,-37.814399761923944,-37.81295591658134,-37.81140603994133,-37.81107211875846,-37.81143661165109,-37.81445017766827,-37.81611345293064,-37.81634100783601,-37.81662436680107,-37.81232803829519,-37.8131179768624,-37.81322013799656,-37.81316822185592,-37.815582438708404,-37.81587907634075,-37.81748103944648,-37.81705022724468,-37.81984867154892,-37.818834732192755,-37.81801103424856,-37.81788034313359,-37.81535295029374,-37.81265852382229,-37.81400371191351,-37.81368407590331,-37.814672188989995,-37.815444976696476,-37.81556411206914,-37.81675781807964,-37.81705815427994,-37.81939019475833,-37.81820110978195,-37.815131053785386,-37.81535738669452,-37.81558625091741,-37.813298814806174,-37.80919327198343,-37.80940546461835,-37.81602860198378,-37.819253504282024,-37.815770743514925,-37.81309137074721,-37.81696435459669,-37.813170613431005,-37.81132913888725,-37.808732016172115,-37.811891568883624,-37.80980844948987,-37.807528190248966,-37.8091174792242],\"lon\":[144.9623447558369,144.97170834375964,144.97244046374837,144.97077449834737,144.9713761243581,144.97240833983707,144.9736711005169,144.97342323779137,144.9716292036106,144.97030218968666,144.96918657126457,144.96996732732396,144.9691457959443,144.9673441983146,144.96845133042902,144.9653517247358,144.9673143038117,144.9690855012813,144.968922695136,144.96650432144628,144.9660029303524,144.96578935360571,144.96517912329656,144.9660849351429,144.96412508085777,144.96455112659987,144.9655933228601,144.96485753421675,144.96450529272983,144.96385829677484,144.96354768190554,144.96080159509805,144.95967769583882,144.96010852358677,144.9588906580676,144.95845989409705,144.9582828280556,144.96046496953696,144.959485810845,144.9609229814977,144.96198155668426,144.9624979570203,144.96166455721152,144.96173953568237,144.96270583856173,144.9624004738762,144.961858207876,144.96372396866002,144.9644701544366,144.96278099354788,144.96142118297337,144.95622231595837,144.95696234059736,144.95548424957065,144.9565316258329,144.95821608690858,144.9571657633738,144.95739637072802,144.95802323076245,144.95814655276035,144.95689895741233,144.9565343730053,144.95574545353142,144.95678115855074,144.95454175904922,144.95366296666123,144.9537692541663,144.97061722203512,144.95686225824505,144.95794177940672,144.96757914799085,144.96249136310982,144.95568011260008,144.9629516862615,144.966997043321,144.97194522260708,144.9715932336254,144.967462431471,144.97243815994796,144.9616871375218,144.960765316124,144.95986079172638,144.95569265063773,144.97089952599487,144.97162762401734,144.97188375120993,144.97139352262127,144.97156163273422,144.9732382331711,144.97038374615923,144.97010070091366,144.9694430083061,144.97123717171658,144.96873339216515,144.96869835348167,144.96876012887915,144.96932760907043,144.9686183570954,144.9686829724722,144.96820381786043,144.96695006791515,144.96706520083916,144.9662543134082,144.96745507745138,144.9670624811988,144.9668849462853,144.96807420840344,144.96538877094625,144.96545353140812,144.9651313656219,144.96512380211735,144.96551925271615,144.96455086424254,144.96406312182154,144.9637645863644,144.96003291730977,144.95842907268548,144.9585839756677,144.95974778709353,144.959365686083,144.95967498096383,144.96145629110254,144.9605637989974,144.9616783818041,144.96071921330733,144.9621722247973,144.96194119821186,144.9614681922904,144.96114774652452,144.96301317553295,144.96432068731727,144.9639285753139,144.96164025970833,144.95557759699858,144.9552110178304,144.95470375589997,144.95580894305417,144.956467534624,144.95728722207423,144.95766420142033,144.9550350462116,144.95416746963403,144.95411623616334,144.95342725801962,144.95803438474277,144.9680242507245,144.96719168157594,144.9667625802273,144.96229519445652,144.96224533961347,144.95911816016283,144.95738250359312,144.97243830492508,144.96023905827192,144.96151358975985,144.97267324944883,144.97338626335969,144.97090512754946,144.97106863634434,144.97192733483007,144.96800192126963,144.96135266168625,144.96794349212385,144.97106967426805,144.9726904738642,144.9722726519847,144.97186299342198,144.97284822191173,144.9741255712408,144.9713012962928,144.97093032525657,144.97026802181446,144.97128718168483,144.970002281767,144.96930164317203,144.9690242022624,144.96873504016077,144.9686727236111,144.96839736007794,144.96770214537466,144.96830248372038,144.96780415838268,144.96738352989738,144.96665168266972,144.965582443831,144.96554618976265,144.96663010717896,144.96570181648684,144.9668995155727,144.96631621514925,144.9674685834403,144.9663646628278,144.96645933847927,144.9643638871223,144.96546528286152,144.9643264084841,144.9647515708548,144.963020448098,144.96398614233215,144.96009641017997,144.96025816014517,144.95965312776522,144.95933810898964,144.96075701875682,144.9604014852698,144.960047985896,144.96146041692978,144.96103700163818,144.96028210934693,144.9614105114917,144.96320879536245,144.96223748479332,144.96401604954465,144.9578825986701,144.96126658202394,144.9609454968655,144.961240049609,144.96038745128234,144.9561807421683,144.95506325236272,144.95519418764638,144.95606924108571,144.95698136409075,144.95651273561546,144.95677846750684,144.95829874000657,144.9588910635486,144.95515581469482,144.9547019972304,144.95447646152166,144.95398767873985,144.95203267710278,144.95907535115865,144.96233864480138,144.96346829171765,144.95632912990123,144.96290788697897,144.96047108406836,144.96627899373402,144.96406677587515,144.97208617369233,144.9713271143983,144.96646689470336,144.96051751381623,144.96798312015957,144.97079029463796],\"name\":\"\",\"opacity\":0.5,\"subplot\":\"mapbox\",\"z\":[0.0,3199.3864891272724,1454.88747872,969.9249858133334,4894.895210575,3457.717471708334,7098.7650353,6317.90040035,1372.846792353846,12861.123617537502,23039.6891681,1145.3696767699998,12549.3691011,3315.4238375,1013.5454791320001,1118.5748319555555,1339.4529507454545,null,20653.5903356,10476.39441755,null,null,6076.8267599,null,null,null,11027.92721915,0.0,18651.4703456,11657.168966,0.0,null,709.8099672725001,2843.0015915416666,6090.534100824286,2274.4012732333335,2006.8246528529412,5974.935430969999,8055.528719499999,13463.720937966666,2922.7114589000003,1255.4828080125,6164.35493965,14299.039088475,35409.80689093333,35409.80689093333,9806.65286378,32343.3245571,8529.502057725,4264.7510288625,3151.581001662857,null,8796.0245221,1954.6721160222223,9186.368311266668,11402.223502833333,10294.29590705,4215.67045468,2511.9922819636363,2511.9922819636363,995.6097425923077,1617.8658317125,4314.308884566667,862.8617769133333,null,4298.047560295,1432.6825200983333,4171.192778961111,2295.2471901,1511.8232763857143,4269.771831755,1352.7733376771428,5864.016348066667,null,30428.6756622,7274.4373936,1876.7615084727272,2104.851428016667,3130.4326883142858,3691.670083706666,3542.60161855,null,7689.358952442858,2580.54707415,6881.4588644,5027.607340057142,2909.77495744,1095.65144091,1826.08573485,2549.5726143714282,1784.7008300599998,3439.5107311545453,4203.846449188889,9215.875667240001,null,24003.065868799997,1254.9369101099999,16577.1191875,844.62123261,null,723.9610565228571,1258.39668595,22696.2820557,1578.6385710125,11348.14102785,11348.14102785,null,20952.7888351,13968.525890066667,null,null,1342.8760288666665,null,0.0,0.0,8558.4742424,3750.5767621733335,3474.16152728,4737.082078418889,null,8535.622044242857,null,6366.5377143,6164.35493965,2922.7114589000003,2510.965616025,8219.139919533334,null,10043.8624641,null,17059.00411545,32343.3245571,1872.0824209080001,null,null,6826.30974345,null,6433.92626175,2755.91049338,null,1758.909780375,null,2359.813511777778,null,6176.57754423,1423.2572772516667,9590.851278889999,2397.7128197224997,3170.151784625,4430.004100447999,1552.0193932846155,13456.378166775,2074.630483025,19916.451436566666,6164.35493965,1943.9693539538462,4382.60576364,null,null,8798.3128451,20653.5903356,1408.9563487222222,948.8381848344444,4849.6249290666665,1398.5414887357144,1223.72380264375,2440.7417447352946,2739.128602275,4211.933600233334,2230.876037575,6960.2032929125,null,2910.3552340538463,18936.536868033334,null,null,null,null,5726.84838385,1254.9369101099999,null,null,5067.72739566,null,3355.7244958666665,2516.7933719,11348.14102785,1578.6385710125,1339.4529507454545,1339.4529507454545,null,41905.5776702,2152.2815809545455,null,null,null,null,0.0,7173.642440615384,2139.6185606,null,14211.246235256667,11949.870861939999,1510.41163490625,2685.176239833333,3536.965396833333,null,7306.77864725,859.6210173235295,4399.704334915385,24516.63215945,3090.6639850285715,6113.72817666,2511.9922819636363,1620.7694936157145,3136.438925849412,11030.53350582,3234.7971046545454,13652.6194869,1286.78525235,3216.963130875,17592.0490442,10765.10253342,7689.358952442858,6889.77623345,2280.4447005666666,6907.9787754,21186.5328532,941.53102271125,10801.763212345,null,955.1216800655556,460.4799908235714,3156.4711212466664,5448.140479877778,6693.966345425,35409.80689093333,913.34733090625,41905.5776702,null,2909.77495744,9206.0325381415,11348.14102785,5044.063028175,948.8381848344444,null],\"type\":\"densitymapbox\"}],                        {\"template\":{\"data\":{\"histogram2dcontour\":[{\"type\":\"histogram2dcontour\",\"colorbar\":{\"outlinewidth\":0,\"ticks\":\"\"},\"colorscale\":[[0.0,\"#0d0887\"],[0.1111111111111111,\"#46039f\"],[0.2222222222222222,\"#7201a8\"],[0.3333333333333333,\"#9c179e\"],[0.4444444444444444,\"#bd3786\"],[0.5555555555555556,\"#d8576b\"],[0.6666666666666666,\"#ed7953\"],[0.7777777777777778,\"#fb9f3a\"],[0.8888888888888888,\"#fdca26\"],[1.0,\"#f0f921\"]]}],\"choropleth\":[{\"type\":\"choropleth\",\"colorbar\":{\"outlinewidth\":0,\"ticks\":\"\"}}],\"histogram2d\":[{\"type\":\"histogram2d\",\"colorbar\":{\"outlinewidth\":0,\"ticks\":\"\"},\"colorscale\":[[0.0,\"#0d0887\"],[0.1111111111111111,\"#46039f\"],[0.2222222222222222,\"#7201a8\"],[0.3333333333333333,\"#9c179e\"],[0.4444444444444444,\"#bd3786\"],[0.5555555555555556,\"#d8576b\"],[0.6666666666666666,\"#ed7953\"],[0.7777777777777778,\"#fb9f3a\"],[0.8888888888888888,\"#fdca26\"],[1.0,\"#f0f921\"]]}],\"heatmap\":[{\"type\":\"heatmap\",\"colorbar\":{\"outlinewidth\":0,\"ticks\":\"\"},\"colorscale\":[[0.0,\"#0d0887\"],[0.1111111111111111,\"#46039f\"],[0.2222222222222222,\"#7201a8\"],[0.3333333333333333,\"#9c179e\"],[0.4444444444444444,\"#bd3786\"],[0.5555555555555556,\"#d8576b\"],[0.6666666666666666,\"#ed7953\"],[0.7777777777777778,\"#fb9f3a\"],[0.8888888888888888,\"#fdca26\"],[1.0,\"#f0f921\"]]}],\"heatmapgl\":[{\"type\":\"heatmapgl\",\"colorbar\":{\"outlinewidth\":0,\"ticks\":\"\"},\"colorscale\":[[0.0,\"#0d0887\"],[0.1111111111111111,\"#46039f\"],[0.2222222222222222,\"#7201a8\"],[0.3333333333333333,\"#9c179e\"],[0.4444444444444444,\"#bd3786\"],[0.5555555555555556,\"#d8576b\"],[0.6666666666666666,\"#ed7953\"],[0.7777777777777778,\"#fb9f3a\"],[0.8888888888888888,\"#fdca26\"],[1.0,\"#f0f921\"]]}],\"contourcarpet\":[{\"type\":\"contourcarpet\",\"colorbar\":{\"outlinewidth\":0,\"ticks\":\"\"}}],\"contour\":[{\"type\":\"contour\",\"colorbar\":{\"outlinewidth\":0,\"ticks\":\"\"},\"colorscale\":[[0.0,\"#0d0887\"],[0.1111111111111111,\"#46039f\"],[0.2222222222222222,\"#7201a8\"],[0.3333333333333333,\"#9c179e\"],[0.4444444444444444,\"#bd3786\"],[0.5555555555555556,\"#d8576b\"],[0.6666666666666666,\"#ed7953\"],[0.7777777777777778,\"#fb9f3a\"],[0.8888888888888888,\"#fdca26\"],[1.0,\"#f0f921\"]]}],\"surface\":[{\"type\":\"surface\",\"colorbar\":{\"outlinewidth\":0,\"ticks\":\"\"},\"colorscale\":[[0.0,\"#0d0887\"],[0.1111111111111111,\"#46039f\"],[0.2222222222222222,\"#7201a8\"],[0.3333333333333333,\"#9c179e\"],[0.4444444444444444,\"#bd3786\"],[0.5555555555555556,\"#d8576b\"],[0.6666666666666666,\"#ed7953\"],[0.7777777777777778,\"#fb9f3a\"],[0.8888888888888888,\"#fdca26\"],[1.0,\"#f0f921\"]]}],\"mesh3d\":[{\"type\":\"mesh3d\",\"colorbar\":{\"outlinewidth\":0,\"ticks\":\"\"}}],\"scatter\":[{\"fillpattern\":{\"fillmode\":\"overlay\",\"size\":10,\"solidity\":0.2},\"type\":\"scatter\"}],\"parcoords\":[{\"type\":\"parcoords\",\"line\":{\"colorbar\":{\"outlinewidth\":0,\"ticks\":\"\"}}}],\"scatterpolargl\":[{\"type\":\"scatterpolargl\",\"marker\":{\"colorbar\":{\"outlinewidth\":0,\"ticks\":\"\"}}}],\"bar\":[{\"error_x\":{\"color\":\"#2a3f5f\"},\"error_y\":{\"color\":\"#2a3f5f\"},\"marker\":{\"line\":{\"color\":\"#E5ECF6\",\"width\":0.5},\"pattern\":{\"fillmode\":\"overlay\",\"size\":10,\"solidity\":0.2}},\"type\":\"bar\"}],\"scattergeo\":[{\"type\":\"scattergeo\",\"marker\":{\"colorbar\":{\"outlinewidth\":0,\"ticks\":\"\"}}}],\"scatterpolar\":[{\"type\":\"scatterpolar\",\"marker\":{\"colorbar\":{\"outlinewidth\":0,\"ticks\":\"\"}}}],\"histogram\":[{\"marker\":{\"pattern\":{\"fillmode\":\"overlay\",\"size\":10,\"solidity\":0.2}},\"type\":\"histogram\"}],\"scattergl\":[{\"type\":\"scattergl\",\"marker\":{\"colorbar\":{\"outlinewidth\":0,\"ticks\":\"\"}}}],\"scatter3d\":[{\"type\":\"scatter3d\",\"line\":{\"colorbar\":{\"outlinewidth\":0,\"ticks\":\"\"}},\"marker\":{\"colorbar\":{\"outlinewidth\":0,\"ticks\":\"\"}}}],\"scattermapbox\":[{\"type\":\"scattermapbox\",\"marker\":{\"colorbar\":{\"outlinewidth\":0,\"ticks\":\"\"}}}],\"scatterternary\":[{\"type\":\"scatterternary\",\"marker\":{\"colorbar\":{\"outlinewidth\":0,\"ticks\":\"\"}}}],\"scattercarpet\":[{\"type\":\"scattercarpet\",\"marker\":{\"colorbar\":{\"outlinewidth\":0,\"ticks\":\"\"}}}],\"carpet\":[{\"aaxis\":{\"endlinecolor\":\"#2a3f5f\",\"gridcolor\":\"white\",\"linecolor\":\"white\",\"minorgridcolor\":\"white\",\"startlinecolor\":\"#2a3f5f\"},\"baxis\":{\"endlinecolor\":\"#2a3f5f\",\"gridcolor\":\"white\",\"linecolor\":\"white\",\"minorgridcolor\":\"white\",\"startlinecolor\":\"#2a3f5f\"},\"type\":\"carpet\"}],\"table\":[{\"cells\":{\"fill\":{\"color\":\"#EBF0F8\"},\"line\":{\"color\":\"white\"}},\"header\":{\"fill\":{\"color\":\"#C8D4E3\"},\"line\":{\"color\":\"white\"}},\"type\":\"table\"}],\"barpolar\":[{\"marker\":{\"line\":{\"color\":\"#E5ECF6\",\"width\":0.5},\"pattern\":{\"fillmode\":\"overlay\",\"size\":10,\"solidity\":0.2}},\"type\":\"barpolar\"}],\"pie\":[{\"automargin\":true,\"type\":\"pie\"}]},\"layout\":{\"autotypenumbers\":\"strict\",\"colorway\":[\"#636efa\",\"#EF553B\",\"#00cc96\",\"#ab63fa\",\"#FFA15A\",\"#19d3f3\",\"#FF6692\",\"#B6E880\",\"#FF97FF\",\"#FECB52\"],\"font\":{\"color\":\"#2a3f5f\"},\"hovermode\":\"closest\",\"hoverlabel\":{\"align\":\"left\"},\"paper_bgcolor\":\"white\",\"plot_bgcolor\":\"#E5ECF6\",\"polar\":{\"bgcolor\":\"#E5ECF6\",\"angularaxis\":{\"gridcolor\":\"white\",\"linecolor\":\"white\",\"ticks\":\"\"},\"radialaxis\":{\"gridcolor\":\"white\",\"linecolor\":\"white\",\"ticks\":\"\"}},\"ternary\":{\"bgcolor\":\"#E5ECF6\",\"aaxis\":{\"gridcolor\":\"white\",\"linecolor\":\"white\",\"ticks\":\"\"},\"baxis\":{\"gridcolor\":\"white\",\"linecolor\":\"white\",\"ticks\":\"\"},\"caxis\":{\"gridcolor\":\"white\",\"linecolor\":\"white\",\"ticks\":\"\"}},\"coloraxis\":{\"colorbar\":{\"outlinewidth\":0,\"ticks\":\"\"}},\"colorscale\":{\"sequential\":[[0.0,\"#0d0887\"],[0.1111111111111111,\"#46039f\"],[0.2222222222222222,\"#7201a8\"],[0.3333333333333333,\"#9c179e\"],[0.4444444444444444,\"#bd3786\"],[0.5555555555555556,\"#d8576b\"],[0.6666666666666666,\"#ed7953\"],[0.7777777777777778,\"#fb9f3a\"],[0.8888888888888888,\"#fdca26\"],[1.0,\"#f0f921\"]],\"sequentialminus\":[[0.0,\"#0d0887\"],[0.1111111111111111,\"#46039f\"],[0.2222222222222222,\"#7201a8\"],[0.3333333333333333,\"#9c179e\"],[0.4444444444444444,\"#bd3786\"],[0.5555555555555556,\"#d8576b\"],[0.6666666666666666,\"#ed7953\"],[0.7777777777777778,\"#fb9f3a\"],[0.8888888888888888,\"#fdca26\"],[1.0,\"#f0f921\"]],\"diverging\":[[0,\"#8e0152\"],[0.1,\"#c51b7d\"],[0.2,\"#de77ae\"],[0.3,\"#f1b6da\"],[0.4,\"#fde0ef\"],[0.5,\"#f7f7f7\"],[0.6,\"#e6f5d0\"],[0.7,\"#b8e186\"],[0.8,\"#7fbc41\"],[0.9,\"#4d9221\"],[1,\"#276419\"]]},\"xaxis\":{\"gridcolor\":\"white\",\"linecolor\":\"white\",\"ticks\":\"\",\"title\":{\"standoff\":15},\"zerolinecolor\":\"white\",\"automargin\":true,\"zerolinewidth\":2},\"yaxis\":{\"gridcolor\":\"white\",\"linecolor\":\"white\",\"ticks\":\"\",\"title\":{\"standoff\":15},\"zerolinecolor\":\"white\",\"automargin\":true,\"zerolinewidth\":2},\"scene\":{\"xaxis\":{\"backgroundcolor\":\"#E5ECF6\",\"gridcolor\":\"white\",\"linecolor\":\"white\",\"showbackground\":true,\"ticks\":\"\",\"zerolinecolor\":\"white\",\"gridwidth\":2},\"yaxis\":{\"backgroundcolor\":\"#E5ECF6\",\"gridcolor\":\"white\",\"linecolor\":\"white\",\"showbackground\":true,\"ticks\":\"\",\"zerolinecolor\":\"white\",\"gridwidth\":2},\"zaxis\":{\"backgroundcolor\":\"#E5ECF6\",\"gridcolor\":\"white\",\"linecolor\":\"white\",\"showbackground\":true,\"ticks\":\"\",\"zerolinecolor\":\"white\",\"gridwidth\":2}},\"shapedefaults\":{\"line\":{\"color\":\"#2a3f5f\"}},\"annotationdefaults\":{\"arrowcolor\":\"#2a3f5f\",\"arrowhead\":0,\"arrowwidth\":1},\"geo\":{\"bgcolor\":\"white\",\"landcolor\":\"#E5ECF6\",\"subunitcolor\":\"white\",\"showland\":true,\"showlakes\":true,\"lakecolor\":\"white\"},\"title\":{\"x\":0.05},\"mapbox\":{\"style\":\"light\"}}},\"mapbox\":{\"domain\":{\"x\":[0.0,1.0],\"y\":[0.0,1.0]},\"center\":{\"lat\":-37.81373720225536,\"lon\":144.96378739120706},\"zoom\":14,\"style\":\"stamen-terrain\"},\"coloraxis\":{\"colorbar\":{\"title\":{\"text\":\"energy_per_tree\"}},\"colorscale\":[[0.0,\"#0d0887\"],[0.1111111111111111,\"#46039f\"],[0.2222222222222222,\"#7201a8\"],[0.3333333333333333,\"#9c179e\"],[0.4444444444444444,\"#bd3786\"],[0.5555555555555556,\"#d8576b\"],[0.6666666666666666,\"#ed7953\"],[0.7777777777777778,\"#fb9f3a\"],[0.8888888888888888,\"#fdca26\"],[1.0,\"#f0f921\"]]},\"legend\":{\"tracegroupgap\":0},\"title\":{\"text\":\"Heatmap showing projected laneways with trees within radius across City of Melbourne\"},\"height\":1000,\"width\":1500},                        {\"responsive\": true}                    ).then(function(){\n",
       "                            \n",
       "var gd = document.getElementById('bc34aa60-ce94-444b-95ad-9db71ece2487');\n",
       "var x = new MutationObserver(function (mutations, observer) {{\n",
       "        var display = window.getComputedStyle(gd).display;\n",
       "        if (!display || display === 'none') {{\n",
       "            console.log([gd, 'removed!']);\n",
       "            Plotly.purge(gd);\n",
       "            observer.disconnect();\n",
       "        }}\n",
       "}});\n",
       "\n",
       "// Listen for the removal of the full notebook cells\n",
       "var notebookContainer = gd.closest('#notebook-container');\n",
       "if (notebookContainer) {{\n",
       "    x.observe(notebookContainer, {childList: true});\n",
       "}}\n",
       "\n",
       "// Listen for the clearing of the current output cell\n",
       "var outputEl = gd.closest('.output');\n",
       "if (outputEl) {{\n",
       "    x.observe(outputEl, {childList: true});\n",
       "}}\n",
       "\n",
       "                        })                };                });            </script>        </div>"
      ]
     },
     "metadata": {},
     "output_type": "display_data"
    }
   ],
   "source": [
    "fig = px.density_mapbox(laneways, lat='lat', lon='lon', z='energy_per_tree', mapbox_style=\"stamen-terrain\", opacity = 0.5, \n",
    "        title = 'Heatmap showing projected laneways with trees within radius across City of Melbourne', \n",
    "        width = 1500, height = 1000, zoom = 14)\n",
    "fig.show()"
   ]
  },
  {
   "cell_type": "code",
   "execution_count": 79,
   "metadata": {},
   "outputs": [
    {
     "name": "stderr",
     "output_type": "stream",
     "text": [
      "C:\\Users\\kuroimi\\AppData\\Local\\Temp\\ipykernel_27200\\2563969287.py:7: FutureWarning:\n",
      "\n",
      "Dropping of nuisance columns in DataFrame reductions (with 'numeric_only=None') is deprecated; in a future version this will raise TypeError.  Select only valid columns before calling the reduction.\n",
      "\n"
     ]
    }
   ],
   "source": [
    "#Convert potential rank into actual number\n",
    "laneways['farm_rank'] = laneways['farm_rank'].replace({'Lowest potential': 0, 'Some potential': 1, 'Good potential': 2, 'Highest potential': 3})\n",
    "laneways['vert_rank'] = laneways['vert_rank'].replace({'Lowest potential': 0, 'Some potential': 1, 'Good potential': 2, 'Highest potential': 3})\n",
    "laneways['fores_rank'] = laneways['fores_rank'].replace({'Lowest potential': 0, 'Some potential': 1, 'Good potential': 2, 'Highest potential': 3})\n",
    "laneways['park_rank'] = laneways['park_rank'].replace({'Lowest potential': 0, 'Some potential': 1, 'Good potential': 2, 'Highest potential': 3})\n",
    "\n",
    "laneways['total_rank'] = laneways[['farm_rank', 'vert_rank', 'fores_rank', 'park_rank']].sum(axis=1)"
   ]
  },
  {
   "cell_type": "code",
   "execution_count": 80,
   "metadata": {},
   "outputs": [
    {
     "data": {
      "application/vnd.plotly.v1+json": {
       "config": {
        "plotlyServerURL": "https://plot.ly"
       },
       "data": [
        {
         "coloraxis": "coloraxis",
         "hovertemplate": "total_rank=%{z}<br>lat=%{lat}<br>lon=%{lon}<extra></extra>",
         "lat": [
          -37.81980050254932,
          -37.81097635318543,
          -37.81111151578862,
          -37.81161232134716,
          -37.8124734926234,
          -37.81304184241003,
          -37.81410455066066,
          -37.81521836330808,
          -37.81560584167807,
          -37.81363663807256,
          -37.81318089121382,
          -37.811631479265266,
          -37.81096554046618,
          -37.81018788400599,
          -37.808928701105636,
          -37.811819833149336,
          -37.81363559321624,
          -37.81638689912868,
          -37.816437955439866,
          -37.816833769769204,
          -37.817277292447365,
          -37.817339881748865,
          -37.8172843757446,
          -37.816440023811005,
          -37.81531786344816,
          -37.81524339834998,
          -37.81496076902029,
          -37.81283231518697,
          -37.8122331277934,
          -37.81120874607432,
          -37.810511430101,
          -37.811082793916796,
          -37.81364143485823,
          -37.81479726899315,
          -37.814683887787545,
          -37.81497705914173,
          -37.81505553768235,
          -37.81637435216704,
          -37.81697722216005,
          -37.81194262812994,
          -37.81310137820415,
          -37.813735162366505,
          -37.8137809735933,
          -37.81528156146977,
          -37.81522401449075,
          -37.81593175883032,
          -37.81602777672109,
          -37.817199920431165,
          -37.81776601260828,
          -37.81820807553832,
          -37.817688637627505,
          -37.813316564957894,
          -37.81445067539735,
          -37.81488075904122,
          -37.81676041377433,
          -37.81734946853748,
          -37.81739031205376,
          -37.818984126275495,
          -37.81963370613525,
          -37.81954117327879,
          -37.8200790748199,
          -37.82011600297684,
          -37.82027880943805,
          -37.819764909598696,
          -37.81604819466985,
          -37.81336268612127,
          -37.813098677911036,
          -37.810100678849565,
          -37.81109181824087,
          -37.810461362738046,
          -37.80804153774292,
          -37.809574187684454,
          -37.81477253709165,
          -37.81124523135607,
          -37.81452312073989,
          -37.81119641212291,
          -37.80981203103341,
          -37.81261588548371,
          -37.81332555540913,
          -37.808798598420246,
          -37.807613165711366,
          -37.815810557823596,
          -37.81535672343349,
          -37.81037958674067,
          -37.810217121848865,
          -37.81077581774339,
          -37.811226042417026,
          -37.8131805651399,
          -37.812714034948,
          -37.815866684899426,
          -37.816070884780686,
          -37.815043593615314,
          -37.814860662335775,
          -37.81325469434872,
          -37.8113357078086,
          -37.81112570199548,
          -37.81047263684767,
          -37.809814704774496,
          -37.808962433086066,
          -37.80891911143074,
          -37.80927255305554,
          -37.811503452175096,
          -37.81181924077914,
          -37.81236603080382,
          -37.81227101185166,
          -37.8122351726817,
          -37.815770514528744,
          -37.81721251515046,
          -37.816552460452876,
          -37.81515149775422,
          -37.814459961312124,
          -37.81425396234533,
          -37.81311665324148,
          -37.81113906039378,
          -37.81100772543578,
          -37.811294962572816,
          -37.81195697118721,
          -37.81288655222083,
          -37.81434588510203,
          -37.814713446937354,
          -37.81668311746074,
          -37.81179252091795,
          -37.8121714527127,
          -37.81327834872983,
          -37.813481152611836,
          -37.81382053335725,
          -37.81386196353888,
          -37.814139526354815,
          -37.81417691097461,
          -37.817244932826426,
          -37.81774881340534,
          -37.817647102746875,
          -37.81848742506025,
          -37.81274968140071,
          -37.81272540384329,
          -37.81283327377191,
          -37.8135247555415,
          -37.813157519841646,
          -37.81654155142347,
          -37.817468209169334,
          -37.81597970168963,
          -37.81523292318083,
          -37.81375860365229,
          -37.81345477331178,
          -37.81713959638289,
          -37.80766995107844,
          -37.807874533479186,
          -37.807868542290684,
          -37.80825704076604,
          -37.8092052807982,
          -37.81059550083191,
          -37.81532410339944,
          -37.812892966824165,
          -37.81593137617615,
          -37.813761236886755,
          -37.815212125832595,
          -37.81289266958999,
          -37.80875417866908,
          -37.80880126515651,
          -37.81034170711123,
          -37.81674801251833,
          -37.808893073302414,
          -37.80743440633362,
          -37.811312355458725,
          -37.812062778388146,
          -37.812200122969514,
          -37.81299489178982,
          -37.81291772360056,
          -37.81486555746091,
          -37.81556813104544,
          -37.81565225265017,
          -37.815010365366625,
          -37.81450170729136,
          -37.81388085097895,
          -37.811846184146255,
          -37.81186744205427,
          -37.81164146216171,
          -37.81203165865674,
          -37.81199395451558,
          -37.81111808221134,
          -37.81121896258666,
          -37.809070759197056,
          -37.8092614609602,
          -37.811622558943256,
          -37.8119212879997,
          -37.812182004124956,
          -37.81255972303171,
          -37.81265308586931,
          -37.81375221918104,
          -37.813998405447016,
          -37.814540467211934,
          -37.81684310938986,
          -37.81625729975984,
          -37.815466618658434,
          -37.815136745569795,
          -37.81453505593018,
          -37.814399761923944,
          -37.81295591658134,
          -37.81140603994133,
          -37.81107211875846,
          -37.81143661165109,
          -37.81445017766827,
          -37.81611345293064,
          -37.81634100783601,
          -37.81662436680107,
          -37.81232803829519,
          -37.8131179768624,
          -37.81322013799656,
          -37.81316822185592,
          -37.815582438708404,
          -37.81587907634075,
          -37.81748103944648,
          -37.81705022724468,
          -37.81984867154892,
          -37.818834732192755,
          -37.81801103424856,
          -37.81788034313359,
          -37.81535295029374,
          -37.81265852382229,
          -37.81400371191351,
          -37.81368407590331,
          -37.814672188989995,
          -37.815444976696476,
          -37.81556411206914,
          -37.81675781807964,
          -37.81705815427994,
          -37.81939019475833,
          -37.81820110978195,
          -37.815131053785386,
          -37.81535738669452,
          -37.81558625091741,
          -37.813298814806174,
          -37.80919327198343,
          -37.80940546461835,
          -37.81602860198378,
          -37.819253504282024,
          -37.815770743514925,
          -37.81309137074721,
          -37.81696435459669,
          -37.813170613431005,
          -37.81132913888725,
          -37.808732016172115,
          -37.811891568883624,
          -37.80980844948987,
          -37.807528190248966,
          -37.8091174792242
         ],
         "lon": [
          144.9623447558369,
          144.97170834375964,
          144.97244046374837,
          144.97077449834737,
          144.9713761243581,
          144.97240833983707,
          144.9736711005169,
          144.97342323779137,
          144.9716292036106,
          144.97030218968666,
          144.96918657126457,
          144.96996732732396,
          144.9691457959443,
          144.9673441983146,
          144.96845133042902,
          144.9653517247358,
          144.9673143038117,
          144.9690855012813,
          144.968922695136,
          144.96650432144628,
          144.9660029303524,
          144.96578935360571,
          144.96517912329656,
          144.9660849351429,
          144.96412508085777,
          144.96455112659987,
          144.9655933228601,
          144.96485753421675,
          144.96450529272983,
          144.96385829677484,
          144.96354768190554,
          144.96080159509805,
          144.95967769583882,
          144.96010852358677,
          144.9588906580676,
          144.95845989409705,
          144.9582828280556,
          144.96046496953696,
          144.959485810845,
          144.9609229814977,
          144.96198155668426,
          144.9624979570203,
          144.96166455721152,
          144.96173953568237,
          144.96270583856173,
          144.9624004738762,
          144.961858207876,
          144.96372396866002,
          144.9644701544366,
          144.96278099354788,
          144.96142118297337,
          144.95622231595837,
          144.95696234059736,
          144.95548424957065,
          144.9565316258329,
          144.95821608690858,
          144.9571657633738,
          144.95739637072802,
          144.95802323076245,
          144.95814655276035,
          144.95689895741233,
          144.9565343730053,
          144.95574545353142,
          144.95678115855074,
          144.95454175904922,
          144.95366296666123,
          144.9537692541663,
          144.97061722203512,
          144.95686225824505,
          144.95794177940672,
          144.96757914799085,
          144.96249136310982,
          144.95568011260008,
          144.9629516862615,
          144.966997043321,
          144.97194522260708,
          144.9715932336254,
          144.967462431471,
          144.97243815994796,
          144.9616871375218,
          144.960765316124,
          144.95986079172638,
          144.95569265063773,
          144.97089952599487,
          144.97162762401734,
          144.97188375120993,
          144.97139352262127,
          144.97156163273422,
          144.9732382331711,
          144.97038374615923,
          144.97010070091366,
          144.9694430083061,
          144.97123717171658,
          144.96873339216515,
          144.96869835348167,
          144.96876012887915,
          144.96932760907043,
          144.9686183570954,
          144.9686829724722,
          144.96820381786043,
          144.96695006791515,
          144.96706520083916,
          144.9662543134082,
          144.96745507745138,
          144.9670624811988,
          144.9668849462853,
          144.96807420840344,
          144.96538877094625,
          144.96545353140812,
          144.9651313656219,
          144.96512380211735,
          144.96551925271615,
          144.96455086424254,
          144.96406312182154,
          144.9637645863644,
          144.96003291730977,
          144.95842907268548,
          144.9585839756677,
          144.95974778709353,
          144.959365686083,
          144.95967498096383,
          144.96145629110254,
          144.9605637989974,
          144.9616783818041,
          144.96071921330733,
          144.9621722247973,
          144.96194119821186,
          144.9614681922904,
          144.96114774652452,
          144.96301317553295,
          144.96432068731727,
          144.9639285753139,
          144.96164025970833,
          144.95557759699858,
          144.9552110178304,
          144.95470375589997,
          144.95580894305417,
          144.956467534624,
          144.95728722207423,
          144.95766420142033,
          144.9550350462116,
          144.95416746963403,
          144.95411623616334,
          144.95342725801962,
          144.95803438474277,
          144.9680242507245,
          144.96719168157594,
          144.9667625802273,
          144.96229519445652,
          144.96224533961347,
          144.95911816016283,
          144.95738250359312,
          144.97243830492508,
          144.96023905827192,
          144.96151358975985,
          144.97267324944883,
          144.97338626335969,
          144.97090512754946,
          144.97106863634434,
          144.97192733483007,
          144.96800192126963,
          144.96135266168625,
          144.96794349212385,
          144.97106967426805,
          144.9726904738642,
          144.9722726519847,
          144.97186299342198,
          144.97284822191173,
          144.9741255712408,
          144.9713012962928,
          144.97093032525657,
          144.97026802181446,
          144.97128718168483,
          144.970002281767,
          144.96930164317203,
          144.9690242022624,
          144.96873504016077,
          144.9686727236111,
          144.96839736007794,
          144.96770214537466,
          144.96830248372038,
          144.96780415838268,
          144.96738352989738,
          144.96665168266972,
          144.965582443831,
          144.96554618976265,
          144.96663010717896,
          144.96570181648684,
          144.9668995155727,
          144.96631621514925,
          144.9674685834403,
          144.9663646628278,
          144.96645933847927,
          144.9643638871223,
          144.96546528286152,
          144.9643264084841,
          144.9647515708548,
          144.963020448098,
          144.96398614233215,
          144.96009641017997,
          144.96025816014517,
          144.95965312776522,
          144.95933810898964,
          144.96075701875682,
          144.9604014852698,
          144.960047985896,
          144.96146041692978,
          144.96103700163818,
          144.96028210934693,
          144.9614105114917,
          144.96320879536245,
          144.96223748479332,
          144.96401604954465,
          144.9578825986701,
          144.96126658202394,
          144.9609454968655,
          144.961240049609,
          144.96038745128234,
          144.9561807421683,
          144.95506325236272,
          144.95519418764638,
          144.95606924108571,
          144.95698136409075,
          144.95651273561546,
          144.95677846750684,
          144.95829874000657,
          144.9588910635486,
          144.95515581469482,
          144.9547019972304,
          144.95447646152166,
          144.95398767873985,
          144.95203267710278,
          144.95907535115865,
          144.96233864480138,
          144.96346829171765,
          144.95632912990123,
          144.96290788697897,
          144.96047108406836,
          144.96627899373402,
          144.96406677587515,
          144.97208617369233,
          144.9713271143983,
          144.96646689470336,
          144.96051751381623,
          144.96798312015957,
          144.97079029463796
         ],
         "name": "",
         "opacity": 0.5,
         "subplot": "mapbox",
         "type": "densitymapbox",
         "z": [
          3,
          2,
          3,
          0,
          4,
          3,
          3,
          4,
          4,
          6,
          4,
          0,
          6,
          6,
          4,
          0,
          6,
          3,
          2,
          0,
          2,
          6,
          3,
          5,
          3,
          6,
          3,
          3,
          4,
          3,
          2,
          6,
          5,
          0,
          5,
          6,
          6,
          3,
          2,
          3,
          2,
          6,
          6,
          3,
          6,
          0,
          0,
          2,
          6,
          3,
          0,
          4,
          1,
          0,
          4,
          8,
          2,
          6,
          4,
          6,
          6,
          3,
          1,
          6,
          6,
          6,
          2,
          5,
          4,
          3,
          6,
          4,
          6,
          6,
          0,
          3,
          2,
          0,
          3,
          5,
          3,
          3,
          6,
          4,
          5,
          6,
          6,
          4,
          5,
          6,
          2,
          3,
          4,
          6,
          2,
          3,
          3,
          5,
          4,
          2,
          2,
          6,
          6,
          3,
          6,
          6,
          6,
          3,
          5,
          4,
          5,
          6,
          6,
          6,
          6,
          4,
          2,
          5,
          4,
          6,
          2,
          4,
          3,
          6,
          6,
          3,
          6,
          3,
          3,
          6,
          4,
          3,
          2,
          6,
          5,
          3,
          2,
          5,
          3,
          4,
          4,
          6,
          3,
          4,
          1,
          6,
          2,
          2,
          6,
          2,
          4,
          0,
          2,
          2,
          2,
          2,
          6,
          0,
          3,
          0,
          3,
          2,
          4,
          3,
          3,
          4,
          4,
          2,
          5,
          6,
          3,
          3,
          6,
          3,
          6,
          3,
          3,
          6,
          6,
          4,
          6,
          2,
          2,
          6,
          2,
          6,
          6,
          2,
          6,
          2,
          2,
          2,
          1,
          2,
          3,
          2,
          2,
          3,
          6,
          2,
          4,
          2,
          6,
          2,
          3,
          3,
          6,
          0,
          5,
          3,
          6,
          0,
          3,
          2,
          4,
          2,
          5,
          0,
          6,
          2,
          2,
          4,
          3,
          5,
          3,
          2,
          2,
          1,
          2,
          2,
          3,
          0,
          2,
          4,
          6,
          2,
          4,
          6,
          0,
          4,
          1,
          3,
          6,
          2,
          6,
          0
         ]
        }
       ],
       "layout": {
        "coloraxis": {
         "colorbar": {
          "title": {
           "text": "total_rank"
          }
         },
         "colorscale": [
          [
           0,
           "#0d0887"
          ],
          [
           0.1111111111111111,
           "#46039f"
          ],
          [
           0.2222222222222222,
           "#7201a8"
          ],
          [
           0.3333333333333333,
           "#9c179e"
          ],
          [
           0.4444444444444444,
           "#bd3786"
          ],
          [
           0.5555555555555556,
           "#d8576b"
          ],
          [
           0.6666666666666666,
           "#ed7953"
          ],
          [
           0.7777777777777778,
           "#fb9f3a"
          ],
          [
           0.8888888888888888,
           "#fdca26"
          ],
          [
           1,
           "#f0f921"
          ]
         ]
        },
        "height": 1000,
        "legend": {
         "tracegroupgap": 0
        },
        "mapbox": {
         "center": {
          "lat": -37.81373720225536,
          "lon": 144.96378739120706
         },
         "domain": {
          "x": [
           0,
           1
          ],
          "y": [
           0,
           1
          ]
         },
         "style": "stamen-terrain",
         "zoom": 14
        },
        "template": {
         "data": {
          "bar": [
           {
            "error_x": {
             "color": "#2a3f5f"
            },
            "error_y": {
             "color": "#2a3f5f"
            },
            "marker": {
             "line": {
              "color": "#E5ECF6",
              "width": 0.5
             },
             "pattern": {
              "fillmode": "overlay",
              "size": 10,
              "solidity": 0.2
             }
            },
            "type": "bar"
           }
          ],
          "barpolar": [
           {
            "marker": {
             "line": {
              "color": "#E5ECF6",
              "width": 0.5
             },
             "pattern": {
              "fillmode": "overlay",
              "size": 10,
              "solidity": 0.2
             }
            },
            "type": "barpolar"
           }
          ],
          "carpet": [
           {
            "aaxis": {
             "endlinecolor": "#2a3f5f",
             "gridcolor": "white",
             "linecolor": "white",
             "minorgridcolor": "white",
             "startlinecolor": "#2a3f5f"
            },
            "baxis": {
             "endlinecolor": "#2a3f5f",
             "gridcolor": "white",
             "linecolor": "white",
             "minorgridcolor": "white",
             "startlinecolor": "#2a3f5f"
            },
            "type": "carpet"
           }
          ],
          "choropleth": [
           {
            "colorbar": {
             "outlinewidth": 0,
             "ticks": ""
            },
            "type": "choropleth"
           }
          ],
          "contour": [
           {
            "colorbar": {
             "outlinewidth": 0,
             "ticks": ""
            },
            "colorscale": [
             [
              0,
              "#0d0887"
             ],
             [
              0.1111111111111111,
              "#46039f"
             ],
             [
              0.2222222222222222,
              "#7201a8"
             ],
             [
              0.3333333333333333,
              "#9c179e"
             ],
             [
              0.4444444444444444,
              "#bd3786"
             ],
             [
              0.5555555555555556,
              "#d8576b"
             ],
             [
              0.6666666666666666,
              "#ed7953"
             ],
             [
              0.7777777777777778,
              "#fb9f3a"
             ],
             [
              0.8888888888888888,
              "#fdca26"
             ],
             [
              1,
              "#f0f921"
             ]
            ],
            "type": "contour"
           }
          ],
          "contourcarpet": [
           {
            "colorbar": {
             "outlinewidth": 0,
             "ticks": ""
            },
            "type": "contourcarpet"
           }
          ],
          "heatmap": [
           {
            "colorbar": {
             "outlinewidth": 0,
             "ticks": ""
            },
            "colorscale": [
             [
              0,
              "#0d0887"
             ],
             [
              0.1111111111111111,
              "#46039f"
             ],
             [
              0.2222222222222222,
              "#7201a8"
             ],
             [
              0.3333333333333333,
              "#9c179e"
             ],
             [
              0.4444444444444444,
              "#bd3786"
             ],
             [
              0.5555555555555556,
              "#d8576b"
             ],
             [
              0.6666666666666666,
              "#ed7953"
             ],
             [
              0.7777777777777778,
              "#fb9f3a"
             ],
             [
              0.8888888888888888,
              "#fdca26"
             ],
             [
              1,
              "#f0f921"
             ]
            ],
            "type": "heatmap"
           }
          ],
          "heatmapgl": [
           {
            "colorbar": {
             "outlinewidth": 0,
             "ticks": ""
            },
            "colorscale": [
             [
              0,
              "#0d0887"
             ],
             [
              0.1111111111111111,
              "#46039f"
             ],
             [
              0.2222222222222222,
              "#7201a8"
             ],
             [
              0.3333333333333333,
              "#9c179e"
             ],
             [
              0.4444444444444444,
              "#bd3786"
             ],
             [
              0.5555555555555556,
              "#d8576b"
             ],
             [
              0.6666666666666666,
              "#ed7953"
             ],
             [
              0.7777777777777778,
              "#fb9f3a"
             ],
             [
              0.8888888888888888,
              "#fdca26"
             ],
             [
              1,
              "#f0f921"
             ]
            ],
            "type": "heatmapgl"
           }
          ],
          "histogram": [
           {
            "marker": {
             "pattern": {
              "fillmode": "overlay",
              "size": 10,
              "solidity": 0.2
             }
            },
            "type": "histogram"
           }
          ],
          "histogram2d": [
           {
            "colorbar": {
             "outlinewidth": 0,
             "ticks": ""
            },
            "colorscale": [
             [
              0,
              "#0d0887"
             ],
             [
              0.1111111111111111,
              "#46039f"
             ],
             [
              0.2222222222222222,
              "#7201a8"
             ],
             [
              0.3333333333333333,
              "#9c179e"
             ],
             [
              0.4444444444444444,
              "#bd3786"
             ],
             [
              0.5555555555555556,
              "#d8576b"
             ],
             [
              0.6666666666666666,
              "#ed7953"
             ],
             [
              0.7777777777777778,
              "#fb9f3a"
             ],
             [
              0.8888888888888888,
              "#fdca26"
             ],
             [
              1,
              "#f0f921"
             ]
            ],
            "type": "histogram2d"
           }
          ],
          "histogram2dcontour": [
           {
            "colorbar": {
             "outlinewidth": 0,
             "ticks": ""
            },
            "colorscale": [
             [
              0,
              "#0d0887"
             ],
             [
              0.1111111111111111,
              "#46039f"
             ],
             [
              0.2222222222222222,
              "#7201a8"
             ],
             [
              0.3333333333333333,
              "#9c179e"
             ],
             [
              0.4444444444444444,
              "#bd3786"
             ],
             [
              0.5555555555555556,
              "#d8576b"
             ],
             [
              0.6666666666666666,
              "#ed7953"
             ],
             [
              0.7777777777777778,
              "#fb9f3a"
             ],
             [
              0.8888888888888888,
              "#fdca26"
             ],
             [
              1,
              "#f0f921"
             ]
            ],
            "type": "histogram2dcontour"
           }
          ],
          "mesh3d": [
           {
            "colorbar": {
             "outlinewidth": 0,
             "ticks": ""
            },
            "type": "mesh3d"
           }
          ],
          "parcoords": [
           {
            "line": {
             "colorbar": {
              "outlinewidth": 0,
              "ticks": ""
             }
            },
            "type": "parcoords"
           }
          ],
          "pie": [
           {
            "automargin": true,
            "type": "pie"
           }
          ],
          "scatter": [
           {
            "fillpattern": {
             "fillmode": "overlay",
             "size": 10,
             "solidity": 0.2
            },
            "type": "scatter"
           }
          ],
          "scatter3d": [
           {
            "line": {
             "colorbar": {
              "outlinewidth": 0,
              "ticks": ""
             }
            },
            "marker": {
             "colorbar": {
              "outlinewidth": 0,
              "ticks": ""
             }
            },
            "type": "scatter3d"
           }
          ],
          "scattercarpet": [
           {
            "marker": {
             "colorbar": {
              "outlinewidth": 0,
              "ticks": ""
             }
            },
            "type": "scattercarpet"
           }
          ],
          "scattergeo": [
           {
            "marker": {
             "colorbar": {
              "outlinewidth": 0,
              "ticks": ""
             }
            },
            "type": "scattergeo"
           }
          ],
          "scattergl": [
           {
            "marker": {
             "colorbar": {
              "outlinewidth": 0,
              "ticks": ""
             }
            },
            "type": "scattergl"
           }
          ],
          "scattermapbox": [
           {
            "marker": {
             "colorbar": {
              "outlinewidth": 0,
              "ticks": ""
             }
            },
            "type": "scattermapbox"
           }
          ],
          "scatterpolar": [
           {
            "marker": {
             "colorbar": {
              "outlinewidth": 0,
              "ticks": ""
             }
            },
            "type": "scatterpolar"
           }
          ],
          "scatterpolargl": [
           {
            "marker": {
             "colorbar": {
              "outlinewidth": 0,
              "ticks": ""
             }
            },
            "type": "scatterpolargl"
           }
          ],
          "scatterternary": [
           {
            "marker": {
             "colorbar": {
              "outlinewidth": 0,
              "ticks": ""
             }
            },
            "type": "scatterternary"
           }
          ],
          "surface": [
           {
            "colorbar": {
             "outlinewidth": 0,
             "ticks": ""
            },
            "colorscale": [
             [
              0,
              "#0d0887"
             ],
             [
              0.1111111111111111,
              "#46039f"
             ],
             [
              0.2222222222222222,
              "#7201a8"
             ],
             [
              0.3333333333333333,
              "#9c179e"
             ],
             [
              0.4444444444444444,
              "#bd3786"
             ],
             [
              0.5555555555555556,
              "#d8576b"
             ],
             [
              0.6666666666666666,
              "#ed7953"
             ],
             [
              0.7777777777777778,
              "#fb9f3a"
             ],
             [
              0.8888888888888888,
              "#fdca26"
             ],
             [
              1,
              "#f0f921"
             ]
            ],
            "type": "surface"
           }
          ],
          "table": [
           {
            "cells": {
             "fill": {
              "color": "#EBF0F8"
             },
             "line": {
              "color": "white"
             }
            },
            "header": {
             "fill": {
              "color": "#C8D4E3"
             },
             "line": {
              "color": "white"
             }
            },
            "type": "table"
           }
          ]
         },
         "layout": {
          "annotationdefaults": {
           "arrowcolor": "#2a3f5f",
           "arrowhead": 0,
           "arrowwidth": 1
          },
          "autotypenumbers": "strict",
          "coloraxis": {
           "colorbar": {
            "outlinewidth": 0,
            "ticks": ""
           }
          },
          "colorscale": {
           "diverging": [
            [
             0,
             "#8e0152"
            ],
            [
             0.1,
             "#c51b7d"
            ],
            [
             0.2,
             "#de77ae"
            ],
            [
             0.3,
             "#f1b6da"
            ],
            [
             0.4,
             "#fde0ef"
            ],
            [
             0.5,
             "#f7f7f7"
            ],
            [
             0.6,
             "#e6f5d0"
            ],
            [
             0.7,
             "#b8e186"
            ],
            [
             0.8,
             "#7fbc41"
            ],
            [
             0.9,
             "#4d9221"
            ],
            [
             1,
             "#276419"
            ]
           ],
           "sequential": [
            [
             0,
             "#0d0887"
            ],
            [
             0.1111111111111111,
             "#46039f"
            ],
            [
             0.2222222222222222,
             "#7201a8"
            ],
            [
             0.3333333333333333,
             "#9c179e"
            ],
            [
             0.4444444444444444,
             "#bd3786"
            ],
            [
             0.5555555555555556,
             "#d8576b"
            ],
            [
             0.6666666666666666,
             "#ed7953"
            ],
            [
             0.7777777777777778,
             "#fb9f3a"
            ],
            [
             0.8888888888888888,
             "#fdca26"
            ],
            [
             1,
             "#f0f921"
            ]
           ],
           "sequentialminus": [
            [
             0,
             "#0d0887"
            ],
            [
             0.1111111111111111,
             "#46039f"
            ],
            [
             0.2222222222222222,
             "#7201a8"
            ],
            [
             0.3333333333333333,
             "#9c179e"
            ],
            [
             0.4444444444444444,
             "#bd3786"
            ],
            [
             0.5555555555555556,
             "#d8576b"
            ],
            [
             0.6666666666666666,
             "#ed7953"
            ],
            [
             0.7777777777777778,
             "#fb9f3a"
            ],
            [
             0.8888888888888888,
             "#fdca26"
            ],
            [
             1,
             "#f0f921"
            ]
           ]
          },
          "colorway": [
           "#636efa",
           "#EF553B",
           "#00cc96",
           "#ab63fa",
           "#FFA15A",
           "#19d3f3",
           "#FF6692",
           "#B6E880",
           "#FF97FF",
           "#FECB52"
          ],
          "font": {
           "color": "#2a3f5f"
          },
          "geo": {
           "bgcolor": "white",
           "lakecolor": "white",
           "landcolor": "#E5ECF6",
           "showlakes": true,
           "showland": true,
           "subunitcolor": "white"
          },
          "hoverlabel": {
           "align": "left"
          },
          "hovermode": "closest",
          "mapbox": {
           "style": "light"
          },
          "paper_bgcolor": "white",
          "plot_bgcolor": "#E5ECF6",
          "polar": {
           "angularaxis": {
            "gridcolor": "white",
            "linecolor": "white",
            "ticks": ""
           },
           "bgcolor": "#E5ECF6",
           "radialaxis": {
            "gridcolor": "white",
            "linecolor": "white",
            "ticks": ""
           }
          },
          "scene": {
           "xaxis": {
            "backgroundcolor": "#E5ECF6",
            "gridcolor": "white",
            "gridwidth": 2,
            "linecolor": "white",
            "showbackground": true,
            "ticks": "",
            "zerolinecolor": "white"
           },
           "yaxis": {
            "backgroundcolor": "#E5ECF6",
            "gridcolor": "white",
            "gridwidth": 2,
            "linecolor": "white",
            "showbackground": true,
            "ticks": "",
            "zerolinecolor": "white"
           },
           "zaxis": {
            "backgroundcolor": "#E5ECF6",
            "gridcolor": "white",
            "gridwidth": 2,
            "linecolor": "white",
            "showbackground": true,
            "ticks": "",
            "zerolinecolor": "white"
           }
          },
          "shapedefaults": {
           "line": {
            "color": "#2a3f5f"
           }
          },
          "ternary": {
           "aaxis": {
            "gridcolor": "white",
            "linecolor": "white",
            "ticks": ""
           },
           "baxis": {
            "gridcolor": "white",
            "linecolor": "white",
            "ticks": ""
           },
           "bgcolor": "#E5ECF6",
           "caxis": {
            "gridcolor": "white",
            "linecolor": "white",
            "ticks": ""
           }
          },
          "title": {
           "x": 0.05
          },
          "xaxis": {
           "automargin": true,
           "gridcolor": "white",
           "linecolor": "white",
           "ticks": "",
           "title": {
            "standoff": 15
           },
           "zerolinecolor": "white",
           "zerolinewidth": 2
          },
          "yaxis": {
           "automargin": true,
           "gridcolor": "white",
           "linecolor": "white",
           "ticks": "",
           "title": {
            "standoff": 15
           },
           "zerolinecolor": "white",
           "zerolinewidth": 2
          }
         }
        },
        "title": {
         "text": "Heatmap showing projected laneways with greening potential rank across City of Melbourne"
        },
        "width": 1500
       }
      },
      "text/html": [
       "<div>                            <div id=\"914f6a93-7ab3-4c4e-ab4d-08a609c7b70e\" class=\"plotly-graph-div\" style=\"height:1000px; width:1500px;\"></div>            <script type=\"text/javascript\">                require([\"plotly\"], function(Plotly) {                    window.PLOTLYENV=window.PLOTLYENV || {};                                    if (document.getElementById(\"914f6a93-7ab3-4c4e-ab4d-08a609c7b70e\")) {                    Plotly.newPlot(                        \"914f6a93-7ab3-4c4e-ab4d-08a609c7b70e\",                        [{\"coloraxis\":\"coloraxis\",\"hovertemplate\":\"total_rank=%{z}<br>lat=%{lat}<br>lon=%{lon}<extra></extra>\",\"lat\":[-37.81980050254932,-37.81097635318543,-37.81111151578862,-37.81161232134716,-37.8124734926234,-37.81304184241003,-37.81410455066066,-37.81521836330808,-37.81560584167807,-37.81363663807256,-37.81318089121382,-37.811631479265266,-37.81096554046618,-37.81018788400599,-37.808928701105636,-37.811819833149336,-37.81363559321624,-37.81638689912868,-37.816437955439866,-37.816833769769204,-37.817277292447365,-37.817339881748865,-37.8172843757446,-37.816440023811005,-37.81531786344816,-37.81524339834998,-37.81496076902029,-37.81283231518697,-37.8122331277934,-37.81120874607432,-37.810511430101,-37.811082793916796,-37.81364143485823,-37.81479726899315,-37.814683887787545,-37.81497705914173,-37.81505553768235,-37.81637435216704,-37.81697722216005,-37.81194262812994,-37.81310137820415,-37.813735162366505,-37.8137809735933,-37.81528156146977,-37.81522401449075,-37.81593175883032,-37.81602777672109,-37.817199920431165,-37.81776601260828,-37.81820807553832,-37.817688637627505,-37.813316564957894,-37.81445067539735,-37.81488075904122,-37.81676041377433,-37.81734946853748,-37.81739031205376,-37.818984126275495,-37.81963370613525,-37.81954117327879,-37.8200790748199,-37.82011600297684,-37.82027880943805,-37.819764909598696,-37.81604819466985,-37.81336268612127,-37.813098677911036,-37.810100678849565,-37.81109181824087,-37.810461362738046,-37.80804153774292,-37.809574187684454,-37.81477253709165,-37.81124523135607,-37.81452312073989,-37.81119641212291,-37.80981203103341,-37.81261588548371,-37.81332555540913,-37.808798598420246,-37.807613165711366,-37.815810557823596,-37.81535672343349,-37.81037958674067,-37.810217121848865,-37.81077581774339,-37.811226042417026,-37.8131805651399,-37.812714034948,-37.815866684899426,-37.816070884780686,-37.815043593615314,-37.814860662335775,-37.81325469434872,-37.8113357078086,-37.81112570199548,-37.81047263684767,-37.809814704774496,-37.808962433086066,-37.80891911143074,-37.80927255305554,-37.811503452175096,-37.81181924077914,-37.81236603080382,-37.81227101185166,-37.8122351726817,-37.815770514528744,-37.81721251515046,-37.816552460452876,-37.81515149775422,-37.814459961312124,-37.81425396234533,-37.81311665324148,-37.81113906039378,-37.81100772543578,-37.811294962572816,-37.81195697118721,-37.81288655222083,-37.81434588510203,-37.814713446937354,-37.81668311746074,-37.81179252091795,-37.8121714527127,-37.81327834872983,-37.813481152611836,-37.81382053335725,-37.81386196353888,-37.814139526354815,-37.81417691097461,-37.817244932826426,-37.81774881340534,-37.817647102746875,-37.81848742506025,-37.81274968140071,-37.81272540384329,-37.81283327377191,-37.8135247555415,-37.813157519841646,-37.81654155142347,-37.817468209169334,-37.81597970168963,-37.81523292318083,-37.81375860365229,-37.81345477331178,-37.81713959638289,-37.80766995107844,-37.807874533479186,-37.807868542290684,-37.80825704076604,-37.8092052807982,-37.81059550083191,-37.81532410339944,-37.812892966824165,-37.81593137617615,-37.813761236886755,-37.815212125832595,-37.81289266958999,-37.80875417866908,-37.80880126515651,-37.81034170711123,-37.81674801251833,-37.808893073302414,-37.80743440633362,-37.811312355458725,-37.812062778388146,-37.812200122969514,-37.81299489178982,-37.81291772360056,-37.81486555746091,-37.81556813104544,-37.81565225265017,-37.815010365366625,-37.81450170729136,-37.81388085097895,-37.811846184146255,-37.81186744205427,-37.81164146216171,-37.81203165865674,-37.81199395451558,-37.81111808221134,-37.81121896258666,-37.809070759197056,-37.8092614609602,-37.811622558943256,-37.8119212879997,-37.812182004124956,-37.81255972303171,-37.81265308586931,-37.81375221918104,-37.813998405447016,-37.814540467211934,-37.81684310938986,-37.81625729975984,-37.815466618658434,-37.815136745569795,-37.81453505593018,-37.814399761923944,-37.81295591658134,-37.81140603994133,-37.81107211875846,-37.81143661165109,-37.81445017766827,-37.81611345293064,-37.81634100783601,-37.81662436680107,-37.81232803829519,-37.8131179768624,-37.81322013799656,-37.81316822185592,-37.815582438708404,-37.81587907634075,-37.81748103944648,-37.81705022724468,-37.81984867154892,-37.818834732192755,-37.81801103424856,-37.81788034313359,-37.81535295029374,-37.81265852382229,-37.81400371191351,-37.81368407590331,-37.814672188989995,-37.815444976696476,-37.81556411206914,-37.81675781807964,-37.81705815427994,-37.81939019475833,-37.81820110978195,-37.815131053785386,-37.81535738669452,-37.81558625091741,-37.813298814806174,-37.80919327198343,-37.80940546461835,-37.81602860198378,-37.819253504282024,-37.815770743514925,-37.81309137074721,-37.81696435459669,-37.813170613431005,-37.81132913888725,-37.808732016172115,-37.811891568883624,-37.80980844948987,-37.807528190248966,-37.8091174792242],\"lon\":[144.9623447558369,144.97170834375964,144.97244046374837,144.97077449834737,144.9713761243581,144.97240833983707,144.9736711005169,144.97342323779137,144.9716292036106,144.97030218968666,144.96918657126457,144.96996732732396,144.9691457959443,144.9673441983146,144.96845133042902,144.9653517247358,144.9673143038117,144.9690855012813,144.968922695136,144.96650432144628,144.9660029303524,144.96578935360571,144.96517912329656,144.9660849351429,144.96412508085777,144.96455112659987,144.9655933228601,144.96485753421675,144.96450529272983,144.96385829677484,144.96354768190554,144.96080159509805,144.95967769583882,144.96010852358677,144.9588906580676,144.95845989409705,144.9582828280556,144.96046496953696,144.959485810845,144.9609229814977,144.96198155668426,144.9624979570203,144.96166455721152,144.96173953568237,144.96270583856173,144.9624004738762,144.961858207876,144.96372396866002,144.9644701544366,144.96278099354788,144.96142118297337,144.95622231595837,144.95696234059736,144.95548424957065,144.9565316258329,144.95821608690858,144.9571657633738,144.95739637072802,144.95802323076245,144.95814655276035,144.95689895741233,144.9565343730053,144.95574545353142,144.95678115855074,144.95454175904922,144.95366296666123,144.9537692541663,144.97061722203512,144.95686225824505,144.95794177940672,144.96757914799085,144.96249136310982,144.95568011260008,144.9629516862615,144.966997043321,144.97194522260708,144.9715932336254,144.967462431471,144.97243815994796,144.9616871375218,144.960765316124,144.95986079172638,144.95569265063773,144.97089952599487,144.97162762401734,144.97188375120993,144.97139352262127,144.97156163273422,144.9732382331711,144.97038374615923,144.97010070091366,144.9694430083061,144.97123717171658,144.96873339216515,144.96869835348167,144.96876012887915,144.96932760907043,144.9686183570954,144.9686829724722,144.96820381786043,144.96695006791515,144.96706520083916,144.9662543134082,144.96745507745138,144.9670624811988,144.9668849462853,144.96807420840344,144.96538877094625,144.96545353140812,144.9651313656219,144.96512380211735,144.96551925271615,144.96455086424254,144.96406312182154,144.9637645863644,144.96003291730977,144.95842907268548,144.9585839756677,144.95974778709353,144.959365686083,144.95967498096383,144.96145629110254,144.9605637989974,144.9616783818041,144.96071921330733,144.9621722247973,144.96194119821186,144.9614681922904,144.96114774652452,144.96301317553295,144.96432068731727,144.9639285753139,144.96164025970833,144.95557759699858,144.9552110178304,144.95470375589997,144.95580894305417,144.956467534624,144.95728722207423,144.95766420142033,144.9550350462116,144.95416746963403,144.95411623616334,144.95342725801962,144.95803438474277,144.9680242507245,144.96719168157594,144.9667625802273,144.96229519445652,144.96224533961347,144.95911816016283,144.95738250359312,144.97243830492508,144.96023905827192,144.96151358975985,144.97267324944883,144.97338626335969,144.97090512754946,144.97106863634434,144.97192733483007,144.96800192126963,144.96135266168625,144.96794349212385,144.97106967426805,144.9726904738642,144.9722726519847,144.97186299342198,144.97284822191173,144.9741255712408,144.9713012962928,144.97093032525657,144.97026802181446,144.97128718168483,144.970002281767,144.96930164317203,144.9690242022624,144.96873504016077,144.9686727236111,144.96839736007794,144.96770214537466,144.96830248372038,144.96780415838268,144.96738352989738,144.96665168266972,144.965582443831,144.96554618976265,144.96663010717896,144.96570181648684,144.9668995155727,144.96631621514925,144.9674685834403,144.9663646628278,144.96645933847927,144.9643638871223,144.96546528286152,144.9643264084841,144.9647515708548,144.963020448098,144.96398614233215,144.96009641017997,144.96025816014517,144.95965312776522,144.95933810898964,144.96075701875682,144.9604014852698,144.960047985896,144.96146041692978,144.96103700163818,144.96028210934693,144.9614105114917,144.96320879536245,144.96223748479332,144.96401604954465,144.9578825986701,144.96126658202394,144.9609454968655,144.961240049609,144.96038745128234,144.9561807421683,144.95506325236272,144.95519418764638,144.95606924108571,144.95698136409075,144.95651273561546,144.95677846750684,144.95829874000657,144.9588910635486,144.95515581469482,144.9547019972304,144.95447646152166,144.95398767873985,144.95203267710278,144.95907535115865,144.96233864480138,144.96346829171765,144.95632912990123,144.96290788697897,144.96047108406836,144.96627899373402,144.96406677587515,144.97208617369233,144.9713271143983,144.96646689470336,144.96051751381623,144.96798312015957,144.97079029463796],\"name\":\"\",\"opacity\":0.5,\"subplot\":\"mapbox\",\"z\":[3,2,3,0,4,3,3,4,4,6,4,0,6,6,4,0,6,3,2,0,2,6,3,5,3,6,3,3,4,3,2,6,5,0,5,6,6,3,2,3,2,6,6,3,6,0,0,2,6,3,0,4,1,0,4,8,2,6,4,6,6,3,1,6,6,6,2,5,4,3,6,4,6,6,0,3,2,0,3,5,3,3,6,4,5,6,6,4,5,6,2,3,4,6,2,3,3,5,4,2,2,6,6,3,6,6,6,3,5,4,5,6,6,6,6,4,2,5,4,6,2,4,3,6,6,3,6,3,3,6,4,3,2,6,5,3,2,5,3,4,4,6,3,4,1,6,2,2,6,2,4,0,2,2,2,2,6,0,3,0,3,2,4,3,3,4,4,2,5,6,3,3,6,3,6,3,3,6,6,4,6,2,2,6,2,6,6,2,6,2,2,2,1,2,3,2,2,3,6,2,4,2,6,2,3,3,6,0,5,3,6,0,3,2,4,2,5,0,6,2,2,4,3,5,3,2,2,1,2,2,3,0,2,4,6,2,4,6,0,4,1,3,6,2,6,0],\"type\":\"densitymapbox\"}],                        {\"template\":{\"data\":{\"histogram2dcontour\":[{\"type\":\"histogram2dcontour\",\"colorbar\":{\"outlinewidth\":0,\"ticks\":\"\"},\"colorscale\":[[0.0,\"#0d0887\"],[0.1111111111111111,\"#46039f\"],[0.2222222222222222,\"#7201a8\"],[0.3333333333333333,\"#9c179e\"],[0.4444444444444444,\"#bd3786\"],[0.5555555555555556,\"#d8576b\"],[0.6666666666666666,\"#ed7953\"],[0.7777777777777778,\"#fb9f3a\"],[0.8888888888888888,\"#fdca26\"],[1.0,\"#f0f921\"]]}],\"choropleth\":[{\"type\":\"choropleth\",\"colorbar\":{\"outlinewidth\":0,\"ticks\":\"\"}}],\"histogram2d\":[{\"type\":\"histogram2d\",\"colorbar\":{\"outlinewidth\":0,\"ticks\":\"\"},\"colorscale\":[[0.0,\"#0d0887\"],[0.1111111111111111,\"#46039f\"],[0.2222222222222222,\"#7201a8\"],[0.3333333333333333,\"#9c179e\"],[0.4444444444444444,\"#bd3786\"],[0.5555555555555556,\"#d8576b\"],[0.6666666666666666,\"#ed7953\"],[0.7777777777777778,\"#fb9f3a\"],[0.8888888888888888,\"#fdca26\"],[1.0,\"#f0f921\"]]}],\"heatmap\":[{\"type\":\"heatmap\",\"colorbar\":{\"outlinewidth\":0,\"ticks\":\"\"},\"colorscale\":[[0.0,\"#0d0887\"],[0.1111111111111111,\"#46039f\"],[0.2222222222222222,\"#7201a8\"],[0.3333333333333333,\"#9c179e\"],[0.4444444444444444,\"#bd3786\"],[0.5555555555555556,\"#d8576b\"],[0.6666666666666666,\"#ed7953\"],[0.7777777777777778,\"#fb9f3a\"],[0.8888888888888888,\"#fdca26\"],[1.0,\"#f0f921\"]]}],\"heatmapgl\":[{\"type\":\"heatmapgl\",\"colorbar\":{\"outlinewidth\":0,\"ticks\":\"\"},\"colorscale\":[[0.0,\"#0d0887\"],[0.1111111111111111,\"#46039f\"],[0.2222222222222222,\"#7201a8\"],[0.3333333333333333,\"#9c179e\"],[0.4444444444444444,\"#bd3786\"],[0.5555555555555556,\"#d8576b\"],[0.6666666666666666,\"#ed7953\"],[0.7777777777777778,\"#fb9f3a\"],[0.8888888888888888,\"#fdca26\"],[1.0,\"#f0f921\"]]}],\"contourcarpet\":[{\"type\":\"contourcarpet\",\"colorbar\":{\"outlinewidth\":0,\"ticks\":\"\"}}],\"contour\":[{\"type\":\"contour\",\"colorbar\":{\"outlinewidth\":0,\"ticks\":\"\"},\"colorscale\":[[0.0,\"#0d0887\"],[0.1111111111111111,\"#46039f\"],[0.2222222222222222,\"#7201a8\"],[0.3333333333333333,\"#9c179e\"],[0.4444444444444444,\"#bd3786\"],[0.5555555555555556,\"#d8576b\"],[0.6666666666666666,\"#ed7953\"],[0.7777777777777778,\"#fb9f3a\"],[0.8888888888888888,\"#fdca26\"],[1.0,\"#f0f921\"]]}],\"surface\":[{\"type\":\"surface\",\"colorbar\":{\"outlinewidth\":0,\"ticks\":\"\"},\"colorscale\":[[0.0,\"#0d0887\"],[0.1111111111111111,\"#46039f\"],[0.2222222222222222,\"#7201a8\"],[0.3333333333333333,\"#9c179e\"],[0.4444444444444444,\"#bd3786\"],[0.5555555555555556,\"#d8576b\"],[0.6666666666666666,\"#ed7953\"],[0.7777777777777778,\"#fb9f3a\"],[0.8888888888888888,\"#fdca26\"],[1.0,\"#f0f921\"]]}],\"mesh3d\":[{\"type\":\"mesh3d\",\"colorbar\":{\"outlinewidth\":0,\"ticks\":\"\"}}],\"scatter\":[{\"fillpattern\":{\"fillmode\":\"overlay\",\"size\":10,\"solidity\":0.2},\"type\":\"scatter\"}],\"parcoords\":[{\"type\":\"parcoords\",\"line\":{\"colorbar\":{\"outlinewidth\":0,\"ticks\":\"\"}}}],\"scatterpolargl\":[{\"type\":\"scatterpolargl\",\"marker\":{\"colorbar\":{\"outlinewidth\":0,\"ticks\":\"\"}}}],\"bar\":[{\"error_x\":{\"color\":\"#2a3f5f\"},\"error_y\":{\"color\":\"#2a3f5f\"},\"marker\":{\"line\":{\"color\":\"#E5ECF6\",\"width\":0.5},\"pattern\":{\"fillmode\":\"overlay\",\"size\":10,\"solidity\":0.2}},\"type\":\"bar\"}],\"scattergeo\":[{\"type\":\"scattergeo\",\"marker\":{\"colorbar\":{\"outlinewidth\":0,\"ticks\":\"\"}}}],\"scatterpolar\":[{\"type\":\"scatterpolar\",\"marker\":{\"colorbar\":{\"outlinewidth\":0,\"ticks\":\"\"}}}],\"histogram\":[{\"marker\":{\"pattern\":{\"fillmode\":\"overlay\",\"size\":10,\"solidity\":0.2}},\"type\":\"histogram\"}],\"scattergl\":[{\"type\":\"scattergl\",\"marker\":{\"colorbar\":{\"outlinewidth\":0,\"ticks\":\"\"}}}],\"scatter3d\":[{\"type\":\"scatter3d\",\"line\":{\"colorbar\":{\"outlinewidth\":0,\"ticks\":\"\"}},\"marker\":{\"colorbar\":{\"outlinewidth\":0,\"ticks\":\"\"}}}],\"scattermapbox\":[{\"type\":\"scattermapbox\",\"marker\":{\"colorbar\":{\"outlinewidth\":0,\"ticks\":\"\"}}}],\"scatterternary\":[{\"type\":\"scatterternary\",\"marker\":{\"colorbar\":{\"outlinewidth\":0,\"ticks\":\"\"}}}],\"scattercarpet\":[{\"type\":\"scattercarpet\",\"marker\":{\"colorbar\":{\"outlinewidth\":0,\"ticks\":\"\"}}}],\"carpet\":[{\"aaxis\":{\"endlinecolor\":\"#2a3f5f\",\"gridcolor\":\"white\",\"linecolor\":\"white\",\"minorgridcolor\":\"white\",\"startlinecolor\":\"#2a3f5f\"},\"baxis\":{\"endlinecolor\":\"#2a3f5f\",\"gridcolor\":\"white\",\"linecolor\":\"white\",\"minorgridcolor\":\"white\",\"startlinecolor\":\"#2a3f5f\"},\"type\":\"carpet\"}],\"table\":[{\"cells\":{\"fill\":{\"color\":\"#EBF0F8\"},\"line\":{\"color\":\"white\"}},\"header\":{\"fill\":{\"color\":\"#C8D4E3\"},\"line\":{\"color\":\"white\"}},\"type\":\"table\"}],\"barpolar\":[{\"marker\":{\"line\":{\"color\":\"#E5ECF6\",\"width\":0.5},\"pattern\":{\"fillmode\":\"overlay\",\"size\":10,\"solidity\":0.2}},\"type\":\"barpolar\"}],\"pie\":[{\"automargin\":true,\"type\":\"pie\"}]},\"layout\":{\"autotypenumbers\":\"strict\",\"colorway\":[\"#636efa\",\"#EF553B\",\"#00cc96\",\"#ab63fa\",\"#FFA15A\",\"#19d3f3\",\"#FF6692\",\"#B6E880\",\"#FF97FF\",\"#FECB52\"],\"font\":{\"color\":\"#2a3f5f\"},\"hovermode\":\"closest\",\"hoverlabel\":{\"align\":\"left\"},\"paper_bgcolor\":\"white\",\"plot_bgcolor\":\"#E5ECF6\",\"polar\":{\"bgcolor\":\"#E5ECF6\",\"angularaxis\":{\"gridcolor\":\"white\",\"linecolor\":\"white\",\"ticks\":\"\"},\"radialaxis\":{\"gridcolor\":\"white\",\"linecolor\":\"white\",\"ticks\":\"\"}},\"ternary\":{\"bgcolor\":\"#E5ECF6\",\"aaxis\":{\"gridcolor\":\"white\",\"linecolor\":\"white\",\"ticks\":\"\"},\"baxis\":{\"gridcolor\":\"white\",\"linecolor\":\"white\",\"ticks\":\"\"},\"caxis\":{\"gridcolor\":\"white\",\"linecolor\":\"white\",\"ticks\":\"\"}},\"coloraxis\":{\"colorbar\":{\"outlinewidth\":0,\"ticks\":\"\"}},\"colorscale\":{\"sequential\":[[0.0,\"#0d0887\"],[0.1111111111111111,\"#46039f\"],[0.2222222222222222,\"#7201a8\"],[0.3333333333333333,\"#9c179e\"],[0.4444444444444444,\"#bd3786\"],[0.5555555555555556,\"#d8576b\"],[0.6666666666666666,\"#ed7953\"],[0.7777777777777778,\"#fb9f3a\"],[0.8888888888888888,\"#fdca26\"],[1.0,\"#f0f921\"]],\"sequentialminus\":[[0.0,\"#0d0887\"],[0.1111111111111111,\"#46039f\"],[0.2222222222222222,\"#7201a8\"],[0.3333333333333333,\"#9c179e\"],[0.4444444444444444,\"#bd3786\"],[0.5555555555555556,\"#d8576b\"],[0.6666666666666666,\"#ed7953\"],[0.7777777777777778,\"#fb9f3a\"],[0.8888888888888888,\"#fdca26\"],[1.0,\"#f0f921\"]],\"diverging\":[[0,\"#8e0152\"],[0.1,\"#c51b7d\"],[0.2,\"#de77ae\"],[0.3,\"#f1b6da\"],[0.4,\"#fde0ef\"],[0.5,\"#f7f7f7\"],[0.6,\"#e6f5d0\"],[0.7,\"#b8e186\"],[0.8,\"#7fbc41\"],[0.9,\"#4d9221\"],[1,\"#276419\"]]},\"xaxis\":{\"gridcolor\":\"white\",\"linecolor\":\"white\",\"ticks\":\"\",\"title\":{\"standoff\":15},\"zerolinecolor\":\"white\",\"automargin\":true,\"zerolinewidth\":2},\"yaxis\":{\"gridcolor\":\"white\",\"linecolor\":\"white\",\"ticks\":\"\",\"title\":{\"standoff\":15},\"zerolinecolor\":\"white\",\"automargin\":true,\"zerolinewidth\":2},\"scene\":{\"xaxis\":{\"backgroundcolor\":\"#E5ECF6\",\"gridcolor\":\"white\",\"linecolor\":\"white\",\"showbackground\":true,\"ticks\":\"\",\"zerolinecolor\":\"white\",\"gridwidth\":2},\"yaxis\":{\"backgroundcolor\":\"#E5ECF6\",\"gridcolor\":\"white\",\"linecolor\":\"white\",\"showbackground\":true,\"ticks\":\"\",\"zerolinecolor\":\"white\",\"gridwidth\":2},\"zaxis\":{\"backgroundcolor\":\"#E5ECF6\",\"gridcolor\":\"white\",\"linecolor\":\"white\",\"showbackground\":true,\"ticks\":\"\",\"zerolinecolor\":\"white\",\"gridwidth\":2}},\"shapedefaults\":{\"line\":{\"color\":\"#2a3f5f\"}},\"annotationdefaults\":{\"arrowcolor\":\"#2a3f5f\",\"arrowhead\":0,\"arrowwidth\":1},\"geo\":{\"bgcolor\":\"white\",\"landcolor\":\"#E5ECF6\",\"subunitcolor\":\"white\",\"showland\":true,\"showlakes\":true,\"lakecolor\":\"white\"},\"title\":{\"x\":0.05},\"mapbox\":{\"style\":\"light\"}}},\"mapbox\":{\"domain\":{\"x\":[0.0,1.0],\"y\":[0.0,1.0]},\"center\":{\"lat\":-37.81373720225536,\"lon\":144.96378739120706},\"zoom\":14,\"style\":\"stamen-terrain\"},\"coloraxis\":{\"colorbar\":{\"title\":{\"text\":\"total_rank\"}},\"colorscale\":[[0.0,\"#0d0887\"],[0.1111111111111111,\"#46039f\"],[0.2222222222222222,\"#7201a8\"],[0.3333333333333333,\"#9c179e\"],[0.4444444444444444,\"#bd3786\"],[0.5555555555555556,\"#d8576b\"],[0.6666666666666666,\"#ed7953\"],[0.7777777777777778,\"#fb9f3a\"],[0.8888888888888888,\"#fdca26\"],[1.0,\"#f0f921\"]]},\"legend\":{\"tracegroupgap\":0},\"title\":{\"text\":\"Heatmap showing projected laneways with greening potential rank across City of Melbourne\"},\"height\":1000,\"width\":1500},                        {\"responsive\": true}                    ).then(function(){\n",
       "                            \n",
       "var gd = document.getElementById('914f6a93-7ab3-4c4e-ab4d-08a609c7b70e');\n",
       "var x = new MutationObserver(function (mutations, observer) {{\n",
       "        var display = window.getComputedStyle(gd).display;\n",
       "        if (!display || display === 'none') {{\n",
       "            console.log([gd, 'removed!']);\n",
       "            Plotly.purge(gd);\n",
       "            observer.disconnect();\n",
       "        }}\n",
       "}});\n",
       "\n",
       "// Listen for the removal of the full notebook cells\n",
       "var notebookContainer = gd.closest('#notebook-container');\n",
       "if (notebookContainer) {{\n",
       "    x.observe(notebookContainer, {childList: true});\n",
       "}}\n",
       "\n",
       "// Listen for the clearing of the current output cell\n",
       "var outputEl = gd.closest('.output');\n",
       "if (outputEl) {{\n",
       "    x.observe(outputEl, {childList: true});\n",
       "}}\n",
       "\n",
       "                        })                };                });            </script>        </div>"
      ]
     },
     "metadata": {},
     "output_type": "display_data"
    }
   ],
   "source": [
    "fig = px.density_mapbox(laneways, lat='lat', lon='lon', z='total_rank', mapbox_style=\"stamen-terrain\", opacity = 0.5, \n",
    "        title = 'Heatmap showing projected laneways with greening potential rank across City of Melbourne', \n",
    "        width = 1500, height = 1000, zoom = 14)\n",
    "fig.show()"
   ]
  },
  {
   "cell_type": "code",
   "execution_count": 81,
   "metadata": {},
   "outputs": [],
   "source": [
    "laneways['greening_priority'] = laneways['energy_per_tree']*laneways['total_rank']"
   ]
  },
  {
   "cell_type": "code",
   "execution_count": 82,
   "metadata": {},
   "outputs": [
    {
     "data": {
      "application/vnd.plotly.v1+json": {
       "config": {
        "plotlyServerURL": "https://plot.ly"
       },
       "data": [
        {
         "coloraxis": "coloraxis",
         "hovertemplate": "greening_priority=%{z}<br>lat=%{lat}<br>lon=%{lon}<extra></extra>",
         "lat": [
          -37.81980050254932,
          -37.81097635318543,
          -37.81111151578862,
          -37.81161232134716,
          -37.8124734926234,
          -37.81304184241003,
          -37.81410455066066,
          -37.81521836330808,
          -37.81560584167807,
          -37.81363663807256,
          -37.81318089121382,
          -37.811631479265266,
          -37.81096554046618,
          -37.81018788400599,
          -37.808928701105636,
          -37.811819833149336,
          -37.81363559321624,
          -37.81638689912868,
          -37.816437955439866,
          -37.816833769769204,
          -37.817277292447365,
          -37.817339881748865,
          -37.8172843757446,
          -37.816440023811005,
          -37.81531786344816,
          -37.81524339834998,
          -37.81496076902029,
          -37.81283231518697,
          -37.8122331277934,
          -37.81120874607432,
          -37.810511430101,
          -37.811082793916796,
          -37.81364143485823,
          -37.81479726899315,
          -37.814683887787545,
          -37.81497705914173,
          -37.81505553768235,
          -37.81637435216704,
          -37.81697722216005,
          -37.81194262812994,
          -37.81310137820415,
          -37.813735162366505,
          -37.8137809735933,
          -37.81528156146977,
          -37.81522401449075,
          -37.81593175883032,
          -37.81602777672109,
          -37.817199920431165,
          -37.81776601260828,
          -37.81820807553832,
          -37.817688637627505,
          -37.813316564957894,
          -37.81445067539735,
          -37.81488075904122,
          -37.81676041377433,
          -37.81734946853748,
          -37.81739031205376,
          -37.818984126275495,
          -37.81963370613525,
          -37.81954117327879,
          -37.8200790748199,
          -37.82011600297684,
          -37.82027880943805,
          -37.819764909598696,
          -37.81604819466985,
          -37.81336268612127,
          -37.813098677911036,
          -37.810100678849565,
          -37.81109181824087,
          -37.810461362738046,
          -37.80804153774292,
          -37.809574187684454,
          -37.81477253709165,
          -37.81124523135607,
          -37.81452312073989,
          -37.81119641212291,
          -37.80981203103341,
          -37.81261588548371,
          -37.81332555540913,
          -37.808798598420246,
          -37.807613165711366,
          -37.815810557823596,
          -37.81535672343349,
          -37.81037958674067,
          -37.810217121848865,
          -37.81077581774339,
          -37.811226042417026,
          -37.8131805651399,
          -37.812714034948,
          -37.815866684899426,
          -37.816070884780686,
          -37.815043593615314,
          -37.814860662335775,
          -37.81325469434872,
          -37.8113357078086,
          -37.81112570199548,
          -37.81047263684767,
          -37.809814704774496,
          -37.808962433086066,
          -37.80891911143074,
          -37.80927255305554,
          -37.811503452175096,
          -37.81181924077914,
          -37.81236603080382,
          -37.81227101185166,
          -37.8122351726817,
          -37.815770514528744,
          -37.81721251515046,
          -37.816552460452876,
          -37.81515149775422,
          -37.814459961312124,
          -37.81425396234533,
          -37.81311665324148,
          -37.81113906039378,
          -37.81100772543578,
          -37.811294962572816,
          -37.81195697118721,
          -37.81288655222083,
          -37.81434588510203,
          -37.814713446937354,
          -37.81668311746074,
          -37.81179252091795,
          -37.8121714527127,
          -37.81327834872983,
          -37.813481152611836,
          -37.81382053335725,
          -37.81386196353888,
          -37.814139526354815,
          -37.81417691097461,
          -37.817244932826426,
          -37.81774881340534,
          -37.817647102746875,
          -37.81848742506025,
          -37.81274968140071,
          -37.81272540384329,
          -37.81283327377191,
          -37.8135247555415,
          -37.813157519841646,
          -37.81654155142347,
          -37.817468209169334,
          -37.81597970168963,
          -37.81523292318083,
          -37.81375860365229,
          -37.81345477331178,
          -37.81713959638289,
          -37.80766995107844,
          -37.807874533479186,
          -37.807868542290684,
          -37.80825704076604,
          -37.8092052807982,
          -37.81059550083191,
          -37.81532410339944,
          -37.812892966824165,
          -37.81593137617615,
          -37.813761236886755,
          -37.815212125832595,
          -37.81289266958999,
          -37.80875417866908,
          -37.80880126515651,
          -37.81034170711123,
          -37.81674801251833,
          -37.808893073302414,
          -37.80743440633362,
          -37.811312355458725,
          -37.812062778388146,
          -37.812200122969514,
          -37.81299489178982,
          -37.81291772360056,
          -37.81486555746091,
          -37.81556813104544,
          -37.81565225265017,
          -37.815010365366625,
          -37.81450170729136,
          -37.81388085097895,
          -37.811846184146255,
          -37.81186744205427,
          -37.81164146216171,
          -37.81203165865674,
          -37.81199395451558,
          -37.81111808221134,
          -37.81121896258666,
          -37.809070759197056,
          -37.8092614609602,
          -37.811622558943256,
          -37.8119212879997,
          -37.812182004124956,
          -37.81255972303171,
          -37.81265308586931,
          -37.81375221918104,
          -37.813998405447016,
          -37.814540467211934,
          -37.81684310938986,
          -37.81625729975984,
          -37.815466618658434,
          -37.815136745569795,
          -37.81453505593018,
          -37.814399761923944,
          -37.81295591658134,
          -37.81140603994133,
          -37.81107211875846,
          -37.81143661165109,
          -37.81445017766827,
          -37.81611345293064,
          -37.81634100783601,
          -37.81662436680107,
          -37.81232803829519,
          -37.8131179768624,
          -37.81322013799656,
          -37.81316822185592,
          -37.815582438708404,
          -37.81587907634075,
          -37.81748103944648,
          -37.81705022724468,
          -37.81984867154892,
          -37.818834732192755,
          -37.81801103424856,
          -37.81788034313359,
          -37.81535295029374,
          -37.81265852382229,
          -37.81400371191351,
          -37.81368407590331,
          -37.814672188989995,
          -37.815444976696476,
          -37.81556411206914,
          -37.81675781807964,
          -37.81705815427994,
          -37.81939019475833,
          -37.81820110978195,
          -37.815131053785386,
          -37.81535738669452,
          -37.81558625091741,
          -37.813298814806174,
          -37.80919327198343,
          -37.80940546461835,
          -37.81602860198378,
          -37.819253504282024,
          -37.815770743514925,
          -37.81309137074721,
          -37.81696435459669,
          -37.813170613431005,
          -37.81132913888725,
          -37.808732016172115,
          -37.811891568883624,
          -37.80980844948987,
          -37.807528190248966,
          -37.8091174792242
         ],
         "lon": [
          144.9623447558369,
          144.97170834375964,
          144.97244046374837,
          144.97077449834737,
          144.9713761243581,
          144.97240833983707,
          144.9736711005169,
          144.97342323779137,
          144.9716292036106,
          144.97030218968666,
          144.96918657126457,
          144.96996732732396,
          144.9691457959443,
          144.9673441983146,
          144.96845133042902,
          144.9653517247358,
          144.9673143038117,
          144.9690855012813,
          144.968922695136,
          144.96650432144628,
          144.9660029303524,
          144.96578935360571,
          144.96517912329656,
          144.9660849351429,
          144.96412508085777,
          144.96455112659987,
          144.9655933228601,
          144.96485753421675,
          144.96450529272983,
          144.96385829677484,
          144.96354768190554,
          144.96080159509805,
          144.95967769583882,
          144.96010852358677,
          144.9588906580676,
          144.95845989409705,
          144.9582828280556,
          144.96046496953696,
          144.959485810845,
          144.9609229814977,
          144.96198155668426,
          144.9624979570203,
          144.96166455721152,
          144.96173953568237,
          144.96270583856173,
          144.9624004738762,
          144.961858207876,
          144.96372396866002,
          144.9644701544366,
          144.96278099354788,
          144.96142118297337,
          144.95622231595837,
          144.95696234059736,
          144.95548424957065,
          144.9565316258329,
          144.95821608690858,
          144.9571657633738,
          144.95739637072802,
          144.95802323076245,
          144.95814655276035,
          144.95689895741233,
          144.9565343730053,
          144.95574545353142,
          144.95678115855074,
          144.95454175904922,
          144.95366296666123,
          144.9537692541663,
          144.97061722203512,
          144.95686225824505,
          144.95794177940672,
          144.96757914799085,
          144.96249136310982,
          144.95568011260008,
          144.9629516862615,
          144.966997043321,
          144.97194522260708,
          144.9715932336254,
          144.967462431471,
          144.97243815994796,
          144.9616871375218,
          144.960765316124,
          144.95986079172638,
          144.95569265063773,
          144.97089952599487,
          144.97162762401734,
          144.97188375120993,
          144.97139352262127,
          144.97156163273422,
          144.9732382331711,
          144.97038374615923,
          144.97010070091366,
          144.9694430083061,
          144.97123717171658,
          144.96873339216515,
          144.96869835348167,
          144.96876012887915,
          144.96932760907043,
          144.9686183570954,
          144.9686829724722,
          144.96820381786043,
          144.96695006791515,
          144.96706520083916,
          144.9662543134082,
          144.96745507745138,
          144.9670624811988,
          144.9668849462853,
          144.96807420840344,
          144.96538877094625,
          144.96545353140812,
          144.9651313656219,
          144.96512380211735,
          144.96551925271615,
          144.96455086424254,
          144.96406312182154,
          144.9637645863644,
          144.96003291730977,
          144.95842907268548,
          144.9585839756677,
          144.95974778709353,
          144.959365686083,
          144.95967498096383,
          144.96145629110254,
          144.9605637989974,
          144.9616783818041,
          144.96071921330733,
          144.9621722247973,
          144.96194119821186,
          144.9614681922904,
          144.96114774652452,
          144.96301317553295,
          144.96432068731727,
          144.9639285753139,
          144.96164025970833,
          144.95557759699858,
          144.9552110178304,
          144.95470375589997,
          144.95580894305417,
          144.956467534624,
          144.95728722207423,
          144.95766420142033,
          144.9550350462116,
          144.95416746963403,
          144.95411623616334,
          144.95342725801962,
          144.95803438474277,
          144.9680242507245,
          144.96719168157594,
          144.9667625802273,
          144.96229519445652,
          144.96224533961347,
          144.95911816016283,
          144.95738250359312,
          144.97243830492508,
          144.96023905827192,
          144.96151358975985,
          144.97267324944883,
          144.97338626335969,
          144.97090512754946,
          144.97106863634434,
          144.97192733483007,
          144.96800192126963,
          144.96135266168625,
          144.96794349212385,
          144.97106967426805,
          144.9726904738642,
          144.9722726519847,
          144.97186299342198,
          144.97284822191173,
          144.9741255712408,
          144.9713012962928,
          144.97093032525657,
          144.97026802181446,
          144.97128718168483,
          144.970002281767,
          144.96930164317203,
          144.9690242022624,
          144.96873504016077,
          144.9686727236111,
          144.96839736007794,
          144.96770214537466,
          144.96830248372038,
          144.96780415838268,
          144.96738352989738,
          144.96665168266972,
          144.965582443831,
          144.96554618976265,
          144.96663010717896,
          144.96570181648684,
          144.9668995155727,
          144.96631621514925,
          144.9674685834403,
          144.9663646628278,
          144.96645933847927,
          144.9643638871223,
          144.96546528286152,
          144.9643264084841,
          144.9647515708548,
          144.963020448098,
          144.96398614233215,
          144.96009641017997,
          144.96025816014517,
          144.95965312776522,
          144.95933810898964,
          144.96075701875682,
          144.9604014852698,
          144.960047985896,
          144.96146041692978,
          144.96103700163818,
          144.96028210934693,
          144.9614105114917,
          144.96320879536245,
          144.96223748479332,
          144.96401604954465,
          144.9578825986701,
          144.96126658202394,
          144.9609454968655,
          144.961240049609,
          144.96038745128234,
          144.9561807421683,
          144.95506325236272,
          144.95519418764638,
          144.95606924108571,
          144.95698136409075,
          144.95651273561546,
          144.95677846750684,
          144.95829874000657,
          144.9588910635486,
          144.95515581469482,
          144.9547019972304,
          144.95447646152166,
          144.95398767873985,
          144.95203267710278,
          144.95907535115865,
          144.96233864480138,
          144.96346829171765,
          144.95632912990123,
          144.96290788697897,
          144.96047108406836,
          144.96627899373402,
          144.96406677587515,
          144.97208617369233,
          144.9713271143983,
          144.96646689470336,
          144.96051751381623,
          144.96798312015957,
          144.97079029463796
         ],
         "name": "",
         "opacity": 0.5,
         "subplot": "mapbox",
         "type": "densitymapbox",
         "z": [
          0,
          6398.772978254545,
          4364.66243616,
          0,
          19579.5808423,
          10373.152415125001,
          21296.2951059,
          25271.6016014,
          5491.387169415384,
          77166.74170522501,
          92158.7566724,
          0,
          75296.2146066,
          19892.543025,
          4054.1819165280003,
          0,
          8036.717704472727,
          null,
          41307.1806712,
          0,
          null,
          null,
          18230.4802797,
          null,
          null,
          null,
          33083.78165745,
          0,
          74605.8813824,
          34971.506898,
          0,
          null,
          3549.0498363625006,
          0,
          30452.67050412143,
          13646.4076394,
          12040.947917117646,
          17924.806292909998,
          16111.057438999998,
          40391.162813899995,
          5845.4229178000005,
          7532.896848075001,
          36986.1296379,
          42897.117265425,
          212458.84134559997,
          0,
          0,
          64686.6491142,
          51177.01234635,
          12794.2530865875,
          0,
          null,
          8796.0245221,
          0,
          36745.47324506667,
          91217.78802266666,
          20588.5918141,
          25294.022728080003,
          10047.969127854545,
          15071.953691781819,
          5973.658455553847,
          4853.5974951375,
          4314.308884566667,
          5177.17066148,
          null,
          25788.285361770002,
          2865.3650401966665,
          20855.963894805554,
          9180.9887604,
          4535.469829157143,
          25618.63099053,
          5411.093350708571,
          35184.0980884,
          null,
          0,
          21823.3121808,
          3753.5230169454544,
          0,
          9391.298064942857,
          18458.35041853333,
          10627.80485565,
          null,
          46136.15371465715,
          10322.1882966,
          34407.294322,
          30165.644040342853,
          17458.64974464,
          4382.60576364,
          9130.42867425,
          15297.43568622857,
          3569.4016601199996,
          10318.532193463636,
          16815.385796755556,
          55295.25400344001,
          null,
          72009.19760639999,
          3764.8107303299994,
          82885.59593750001,
          3378.48493044,
          null,
          1447.9221130457142,
          7550.3801157,
          136177.69233420002,
          4735.915713037501,
          68088.84616710001,
          68088.84616710001,
          null,
          62858.3665053,
          69842.62945033333,
          null,
          null,
          8057.2561731999995,
          null,
          0,
          0,
          34233.8969696,
          7501.153524346667,
          17370.8076364,
          18948.328313675556,
          null,
          17071.244088485713,
          null,
          19099.613142899998,
          36986.1296379,
          17536.2687534,
          7532.896848075001,
          49314.8395172,
          null,
          30131.587392300004,
          null,
          68236.0164618,
          97029.9736713,
          3744.1648418160003,
          null,
          null,
          20478.929230349997,
          null,
          32169.63130875,
          8267.731480139999,
          null,
          7035.6391215,
          null,
          7079.440535333333,
          null,
          6176.57754423,
          8539.54366351,
          19181.702557779998,
          4795.425639444999,
          19020.91070775,
          8860.008200895998,
          6208.077573138462,
          0,
          4149.26096605,
          39832.90287313333,
          12328.7098793,
          3887.9387079076923,
          26295.63458184,
          null,
          null,
          0,
          61960.7710068,
          2817.9126974444443,
          3795.3527393377776,
          14548.874787199999,
          4195.624466207143,
          4894.895210575,
          9762.966978941178,
          5478.25720455,
          21059.66800116667,
          13385.256225449999,
          20880.6098787375,
          null,
          17462.131404323078,
          56809.6106041,
          null,
          null,
          null,
          null,
          34361.0903031,
          5019.7476404399995,
          null,
          null,
          10135.45479132,
          null,
          6711.448991733333,
          15100.7602314,
          68088.84616710001,
          3157.277142025,
          8036.717704472727,
          2678.905901490909,
          null,
          83811.1553404,
          2152.2815809545455,
          null,
          null,
          null,
          null,
          0,
          43041.854643692306,
          4279.2371212,
          null,
          28422.492470513334,
          71699.22517163999,
          3020.8232698125,
          8055.528719499999,
          10610.8961905,
          null,
          0,
          4298.105086617647,
          13199.113004746154,
          147099.7929567,
          0,
          18341.18452998,
          5023.984563927273,
          6483.077974462858,
          6272.877851698824,
          55152.6675291,
          0,
          81915.71692139999,
          2573.5705047,
          6433.92626175,
          70368.1961768,
          32295.30760026,
          38446.79476221429,
          20669.32870035,
          4560.889401133333,
          13815.9575508,
          21186.5328532,
          1883.0620454225,
          21603.52642469,
          null,
          0,
          920.9599816471429,
          12625.884484986665,
          32688.842879266667,
          13387.93269085,
          141639.22756373332,
          5480.0839854375,
          0,
          null,
          2909.77495744,
          27618.0976144245,
          68088.84616710001,
          10088.12605635,
          5693.029109006667,
          null
         ]
        }
       ],
       "layout": {
        "coloraxis": {
         "colorbar": {
          "title": {
           "text": "greening_priority"
          }
         },
         "colorscale": [
          [
           0,
           "#0d0887"
          ],
          [
           0.1111111111111111,
           "#46039f"
          ],
          [
           0.2222222222222222,
           "#7201a8"
          ],
          [
           0.3333333333333333,
           "#9c179e"
          ],
          [
           0.4444444444444444,
           "#bd3786"
          ],
          [
           0.5555555555555556,
           "#d8576b"
          ],
          [
           0.6666666666666666,
           "#ed7953"
          ],
          [
           0.7777777777777778,
           "#fb9f3a"
          ],
          [
           0.8888888888888888,
           "#fdca26"
          ],
          [
           1,
           "#f0f921"
          ]
         ]
        },
        "height": 1000,
        "legend": {
         "tracegroupgap": 0
        },
        "mapbox": {
         "center": {
          "lat": -37.81373720225536,
          "lon": 144.96378739120706
         },
         "domain": {
          "x": [
           0,
           1
          ],
          "y": [
           0,
           1
          ]
         },
         "style": "stamen-terrain",
         "zoom": 14
        },
        "template": {
         "data": {
          "bar": [
           {
            "error_x": {
             "color": "#2a3f5f"
            },
            "error_y": {
             "color": "#2a3f5f"
            },
            "marker": {
             "line": {
              "color": "#E5ECF6",
              "width": 0.5
             },
             "pattern": {
              "fillmode": "overlay",
              "size": 10,
              "solidity": 0.2
             }
            },
            "type": "bar"
           }
          ],
          "barpolar": [
           {
            "marker": {
             "line": {
              "color": "#E5ECF6",
              "width": 0.5
             },
             "pattern": {
              "fillmode": "overlay",
              "size": 10,
              "solidity": 0.2
             }
            },
            "type": "barpolar"
           }
          ],
          "carpet": [
           {
            "aaxis": {
             "endlinecolor": "#2a3f5f",
             "gridcolor": "white",
             "linecolor": "white",
             "minorgridcolor": "white",
             "startlinecolor": "#2a3f5f"
            },
            "baxis": {
             "endlinecolor": "#2a3f5f",
             "gridcolor": "white",
             "linecolor": "white",
             "minorgridcolor": "white",
             "startlinecolor": "#2a3f5f"
            },
            "type": "carpet"
           }
          ],
          "choropleth": [
           {
            "colorbar": {
             "outlinewidth": 0,
             "ticks": ""
            },
            "type": "choropleth"
           }
          ],
          "contour": [
           {
            "colorbar": {
             "outlinewidth": 0,
             "ticks": ""
            },
            "colorscale": [
             [
              0,
              "#0d0887"
             ],
             [
              0.1111111111111111,
              "#46039f"
             ],
             [
              0.2222222222222222,
              "#7201a8"
             ],
             [
              0.3333333333333333,
              "#9c179e"
             ],
             [
              0.4444444444444444,
              "#bd3786"
             ],
             [
              0.5555555555555556,
              "#d8576b"
             ],
             [
              0.6666666666666666,
              "#ed7953"
             ],
             [
              0.7777777777777778,
              "#fb9f3a"
             ],
             [
              0.8888888888888888,
              "#fdca26"
             ],
             [
              1,
              "#f0f921"
             ]
            ],
            "type": "contour"
           }
          ],
          "contourcarpet": [
           {
            "colorbar": {
             "outlinewidth": 0,
             "ticks": ""
            },
            "type": "contourcarpet"
           }
          ],
          "heatmap": [
           {
            "colorbar": {
             "outlinewidth": 0,
             "ticks": ""
            },
            "colorscale": [
             [
              0,
              "#0d0887"
             ],
             [
              0.1111111111111111,
              "#46039f"
             ],
             [
              0.2222222222222222,
              "#7201a8"
             ],
             [
              0.3333333333333333,
              "#9c179e"
             ],
             [
              0.4444444444444444,
              "#bd3786"
             ],
             [
              0.5555555555555556,
              "#d8576b"
             ],
             [
              0.6666666666666666,
              "#ed7953"
             ],
             [
              0.7777777777777778,
              "#fb9f3a"
             ],
             [
              0.8888888888888888,
              "#fdca26"
             ],
             [
              1,
              "#f0f921"
             ]
            ],
            "type": "heatmap"
           }
          ],
          "heatmapgl": [
           {
            "colorbar": {
             "outlinewidth": 0,
             "ticks": ""
            },
            "colorscale": [
             [
              0,
              "#0d0887"
             ],
             [
              0.1111111111111111,
              "#46039f"
             ],
             [
              0.2222222222222222,
              "#7201a8"
             ],
             [
              0.3333333333333333,
              "#9c179e"
             ],
             [
              0.4444444444444444,
              "#bd3786"
             ],
             [
              0.5555555555555556,
              "#d8576b"
             ],
             [
              0.6666666666666666,
              "#ed7953"
             ],
             [
              0.7777777777777778,
              "#fb9f3a"
             ],
             [
              0.8888888888888888,
              "#fdca26"
             ],
             [
              1,
              "#f0f921"
             ]
            ],
            "type": "heatmapgl"
           }
          ],
          "histogram": [
           {
            "marker": {
             "pattern": {
              "fillmode": "overlay",
              "size": 10,
              "solidity": 0.2
             }
            },
            "type": "histogram"
           }
          ],
          "histogram2d": [
           {
            "colorbar": {
             "outlinewidth": 0,
             "ticks": ""
            },
            "colorscale": [
             [
              0,
              "#0d0887"
             ],
             [
              0.1111111111111111,
              "#46039f"
             ],
             [
              0.2222222222222222,
              "#7201a8"
             ],
             [
              0.3333333333333333,
              "#9c179e"
             ],
             [
              0.4444444444444444,
              "#bd3786"
             ],
             [
              0.5555555555555556,
              "#d8576b"
             ],
             [
              0.6666666666666666,
              "#ed7953"
             ],
             [
              0.7777777777777778,
              "#fb9f3a"
             ],
             [
              0.8888888888888888,
              "#fdca26"
             ],
             [
              1,
              "#f0f921"
             ]
            ],
            "type": "histogram2d"
           }
          ],
          "histogram2dcontour": [
           {
            "colorbar": {
             "outlinewidth": 0,
             "ticks": ""
            },
            "colorscale": [
             [
              0,
              "#0d0887"
             ],
             [
              0.1111111111111111,
              "#46039f"
             ],
             [
              0.2222222222222222,
              "#7201a8"
             ],
             [
              0.3333333333333333,
              "#9c179e"
             ],
             [
              0.4444444444444444,
              "#bd3786"
             ],
             [
              0.5555555555555556,
              "#d8576b"
             ],
             [
              0.6666666666666666,
              "#ed7953"
             ],
             [
              0.7777777777777778,
              "#fb9f3a"
             ],
             [
              0.8888888888888888,
              "#fdca26"
             ],
             [
              1,
              "#f0f921"
             ]
            ],
            "type": "histogram2dcontour"
           }
          ],
          "mesh3d": [
           {
            "colorbar": {
             "outlinewidth": 0,
             "ticks": ""
            },
            "type": "mesh3d"
           }
          ],
          "parcoords": [
           {
            "line": {
             "colorbar": {
              "outlinewidth": 0,
              "ticks": ""
             }
            },
            "type": "parcoords"
           }
          ],
          "pie": [
           {
            "automargin": true,
            "type": "pie"
           }
          ],
          "scatter": [
           {
            "fillpattern": {
             "fillmode": "overlay",
             "size": 10,
             "solidity": 0.2
            },
            "type": "scatter"
           }
          ],
          "scatter3d": [
           {
            "line": {
             "colorbar": {
              "outlinewidth": 0,
              "ticks": ""
             }
            },
            "marker": {
             "colorbar": {
              "outlinewidth": 0,
              "ticks": ""
             }
            },
            "type": "scatter3d"
           }
          ],
          "scattercarpet": [
           {
            "marker": {
             "colorbar": {
              "outlinewidth": 0,
              "ticks": ""
             }
            },
            "type": "scattercarpet"
           }
          ],
          "scattergeo": [
           {
            "marker": {
             "colorbar": {
              "outlinewidth": 0,
              "ticks": ""
             }
            },
            "type": "scattergeo"
           }
          ],
          "scattergl": [
           {
            "marker": {
             "colorbar": {
              "outlinewidth": 0,
              "ticks": ""
             }
            },
            "type": "scattergl"
           }
          ],
          "scattermapbox": [
           {
            "marker": {
             "colorbar": {
              "outlinewidth": 0,
              "ticks": ""
             }
            },
            "type": "scattermapbox"
           }
          ],
          "scatterpolar": [
           {
            "marker": {
             "colorbar": {
              "outlinewidth": 0,
              "ticks": ""
             }
            },
            "type": "scatterpolar"
           }
          ],
          "scatterpolargl": [
           {
            "marker": {
             "colorbar": {
              "outlinewidth": 0,
              "ticks": ""
             }
            },
            "type": "scatterpolargl"
           }
          ],
          "scatterternary": [
           {
            "marker": {
             "colorbar": {
              "outlinewidth": 0,
              "ticks": ""
             }
            },
            "type": "scatterternary"
           }
          ],
          "surface": [
           {
            "colorbar": {
             "outlinewidth": 0,
             "ticks": ""
            },
            "colorscale": [
             [
              0,
              "#0d0887"
             ],
             [
              0.1111111111111111,
              "#46039f"
             ],
             [
              0.2222222222222222,
              "#7201a8"
             ],
             [
              0.3333333333333333,
              "#9c179e"
             ],
             [
              0.4444444444444444,
              "#bd3786"
             ],
             [
              0.5555555555555556,
              "#d8576b"
             ],
             [
              0.6666666666666666,
              "#ed7953"
             ],
             [
              0.7777777777777778,
              "#fb9f3a"
             ],
             [
              0.8888888888888888,
              "#fdca26"
             ],
             [
              1,
              "#f0f921"
             ]
            ],
            "type": "surface"
           }
          ],
          "table": [
           {
            "cells": {
             "fill": {
              "color": "#EBF0F8"
             },
             "line": {
              "color": "white"
             }
            },
            "header": {
             "fill": {
              "color": "#C8D4E3"
             },
             "line": {
              "color": "white"
             }
            },
            "type": "table"
           }
          ]
         },
         "layout": {
          "annotationdefaults": {
           "arrowcolor": "#2a3f5f",
           "arrowhead": 0,
           "arrowwidth": 1
          },
          "autotypenumbers": "strict",
          "coloraxis": {
           "colorbar": {
            "outlinewidth": 0,
            "ticks": ""
           }
          },
          "colorscale": {
           "diverging": [
            [
             0,
             "#8e0152"
            ],
            [
             0.1,
             "#c51b7d"
            ],
            [
             0.2,
             "#de77ae"
            ],
            [
             0.3,
             "#f1b6da"
            ],
            [
             0.4,
             "#fde0ef"
            ],
            [
             0.5,
             "#f7f7f7"
            ],
            [
             0.6,
             "#e6f5d0"
            ],
            [
             0.7,
             "#b8e186"
            ],
            [
             0.8,
             "#7fbc41"
            ],
            [
             0.9,
             "#4d9221"
            ],
            [
             1,
             "#276419"
            ]
           ],
           "sequential": [
            [
             0,
             "#0d0887"
            ],
            [
             0.1111111111111111,
             "#46039f"
            ],
            [
             0.2222222222222222,
             "#7201a8"
            ],
            [
             0.3333333333333333,
             "#9c179e"
            ],
            [
             0.4444444444444444,
             "#bd3786"
            ],
            [
             0.5555555555555556,
             "#d8576b"
            ],
            [
             0.6666666666666666,
             "#ed7953"
            ],
            [
             0.7777777777777778,
             "#fb9f3a"
            ],
            [
             0.8888888888888888,
             "#fdca26"
            ],
            [
             1,
             "#f0f921"
            ]
           ],
           "sequentialminus": [
            [
             0,
             "#0d0887"
            ],
            [
             0.1111111111111111,
             "#46039f"
            ],
            [
             0.2222222222222222,
             "#7201a8"
            ],
            [
             0.3333333333333333,
             "#9c179e"
            ],
            [
             0.4444444444444444,
             "#bd3786"
            ],
            [
             0.5555555555555556,
             "#d8576b"
            ],
            [
             0.6666666666666666,
             "#ed7953"
            ],
            [
             0.7777777777777778,
             "#fb9f3a"
            ],
            [
             0.8888888888888888,
             "#fdca26"
            ],
            [
             1,
             "#f0f921"
            ]
           ]
          },
          "colorway": [
           "#636efa",
           "#EF553B",
           "#00cc96",
           "#ab63fa",
           "#FFA15A",
           "#19d3f3",
           "#FF6692",
           "#B6E880",
           "#FF97FF",
           "#FECB52"
          ],
          "font": {
           "color": "#2a3f5f"
          },
          "geo": {
           "bgcolor": "white",
           "lakecolor": "white",
           "landcolor": "#E5ECF6",
           "showlakes": true,
           "showland": true,
           "subunitcolor": "white"
          },
          "hoverlabel": {
           "align": "left"
          },
          "hovermode": "closest",
          "mapbox": {
           "style": "light"
          },
          "paper_bgcolor": "white",
          "plot_bgcolor": "#E5ECF6",
          "polar": {
           "angularaxis": {
            "gridcolor": "white",
            "linecolor": "white",
            "ticks": ""
           },
           "bgcolor": "#E5ECF6",
           "radialaxis": {
            "gridcolor": "white",
            "linecolor": "white",
            "ticks": ""
           }
          },
          "scene": {
           "xaxis": {
            "backgroundcolor": "#E5ECF6",
            "gridcolor": "white",
            "gridwidth": 2,
            "linecolor": "white",
            "showbackground": true,
            "ticks": "",
            "zerolinecolor": "white"
           },
           "yaxis": {
            "backgroundcolor": "#E5ECF6",
            "gridcolor": "white",
            "gridwidth": 2,
            "linecolor": "white",
            "showbackground": true,
            "ticks": "",
            "zerolinecolor": "white"
           },
           "zaxis": {
            "backgroundcolor": "#E5ECF6",
            "gridcolor": "white",
            "gridwidth": 2,
            "linecolor": "white",
            "showbackground": true,
            "ticks": "",
            "zerolinecolor": "white"
           }
          },
          "shapedefaults": {
           "line": {
            "color": "#2a3f5f"
           }
          },
          "ternary": {
           "aaxis": {
            "gridcolor": "white",
            "linecolor": "white",
            "ticks": ""
           },
           "baxis": {
            "gridcolor": "white",
            "linecolor": "white",
            "ticks": ""
           },
           "bgcolor": "#E5ECF6",
           "caxis": {
            "gridcolor": "white",
            "linecolor": "white",
            "ticks": ""
           }
          },
          "title": {
           "x": 0.05
          },
          "xaxis": {
           "automargin": true,
           "gridcolor": "white",
           "linecolor": "white",
           "ticks": "",
           "title": {
            "standoff": 15
           },
           "zerolinecolor": "white",
           "zerolinewidth": 2
          },
          "yaxis": {
           "automargin": true,
           "gridcolor": "white",
           "linecolor": "white",
           "ticks": "",
           "title": {
            "standoff": 15
           },
           "zerolinecolor": "white",
           "zerolinewidth": 2
          }
         }
        },
        "title": {
         "text": "Heatmap showing projected laneways with greening priotity across City of Melbourne"
        },
        "width": 1500
       }
      },
      "text/html": [
       "<div>                            <div id=\"ba998f63-d626-4b6c-927c-9c64899f1ff5\" class=\"plotly-graph-div\" style=\"height:1000px; width:1500px;\"></div>            <script type=\"text/javascript\">                require([\"plotly\"], function(Plotly) {                    window.PLOTLYENV=window.PLOTLYENV || {};                                    if (document.getElementById(\"ba998f63-d626-4b6c-927c-9c64899f1ff5\")) {                    Plotly.newPlot(                        \"ba998f63-d626-4b6c-927c-9c64899f1ff5\",                        [{\"coloraxis\":\"coloraxis\",\"hovertemplate\":\"greening_priority=%{z}<br>lat=%{lat}<br>lon=%{lon}<extra></extra>\",\"lat\":[-37.81980050254932,-37.81097635318543,-37.81111151578862,-37.81161232134716,-37.8124734926234,-37.81304184241003,-37.81410455066066,-37.81521836330808,-37.81560584167807,-37.81363663807256,-37.81318089121382,-37.811631479265266,-37.81096554046618,-37.81018788400599,-37.808928701105636,-37.811819833149336,-37.81363559321624,-37.81638689912868,-37.816437955439866,-37.816833769769204,-37.817277292447365,-37.817339881748865,-37.8172843757446,-37.816440023811005,-37.81531786344816,-37.81524339834998,-37.81496076902029,-37.81283231518697,-37.8122331277934,-37.81120874607432,-37.810511430101,-37.811082793916796,-37.81364143485823,-37.81479726899315,-37.814683887787545,-37.81497705914173,-37.81505553768235,-37.81637435216704,-37.81697722216005,-37.81194262812994,-37.81310137820415,-37.813735162366505,-37.8137809735933,-37.81528156146977,-37.81522401449075,-37.81593175883032,-37.81602777672109,-37.817199920431165,-37.81776601260828,-37.81820807553832,-37.817688637627505,-37.813316564957894,-37.81445067539735,-37.81488075904122,-37.81676041377433,-37.81734946853748,-37.81739031205376,-37.818984126275495,-37.81963370613525,-37.81954117327879,-37.8200790748199,-37.82011600297684,-37.82027880943805,-37.819764909598696,-37.81604819466985,-37.81336268612127,-37.813098677911036,-37.810100678849565,-37.81109181824087,-37.810461362738046,-37.80804153774292,-37.809574187684454,-37.81477253709165,-37.81124523135607,-37.81452312073989,-37.81119641212291,-37.80981203103341,-37.81261588548371,-37.81332555540913,-37.808798598420246,-37.807613165711366,-37.815810557823596,-37.81535672343349,-37.81037958674067,-37.810217121848865,-37.81077581774339,-37.811226042417026,-37.8131805651399,-37.812714034948,-37.815866684899426,-37.816070884780686,-37.815043593615314,-37.814860662335775,-37.81325469434872,-37.8113357078086,-37.81112570199548,-37.81047263684767,-37.809814704774496,-37.808962433086066,-37.80891911143074,-37.80927255305554,-37.811503452175096,-37.81181924077914,-37.81236603080382,-37.81227101185166,-37.8122351726817,-37.815770514528744,-37.81721251515046,-37.816552460452876,-37.81515149775422,-37.814459961312124,-37.81425396234533,-37.81311665324148,-37.81113906039378,-37.81100772543578,-37.811294962572816,-37.81195697118721,-37.81288655222083,-37.81434588510203,-37.814713446937354,-37.81668311746074,-37.81179252091795,-37.8121714527127,-37.81327834872983,-37.813481152611836,-37.81382053335725,-37.81386196353888,-37.814139526354815,-37.81417691097461,-37.817244932826426,-37.81774881340534,-37.817647102746875,-37.81848742506025,-37.81274968140071,-37.81272540384329,-37.81283327377191,-37.8135247555415,-37.813157519841646,-37.81654155142347,-37.817468209169334,-37.81597970168963,-37.81523292318083,-37.81375860365229,-37.81345477331178,-37.81713959638289,-37.80766995107844,-37.807874533479186,-37.807868542290684,-37.80825704076604,-37.8092052807982,-37.81059550083191,-37.81532410339944,-37.812892966824165,-37.81593137617615,-37.813761236886755,-37.815212125832595,-37.81289266958999,-37.80875417866908,-37.80880126515651,-37.81034170711123,-37.81674801251833,-37.808893073302414,-37.80743440633362,-37.811312355458725,-37.812062778388146,-37.812200122969514,-37.81299489178982,-37.81291772360056,-37.81486555746091,-37.81556813104544,-37.81565225265017,-37.815010365366625,-37.81450170729136,-37.81388085097895,-37.811846184146255,-37.81186744205427,-37.81164146216171,-37.81203165865674,-37.81199395451558,-37.81111808221134,-37.81121896258666,-37.809070759197056,-37.8092614609602,-37.811622558943256,-37.8119212879997,-37.812182004124956,-37.81255972303171,-37.81265308586931,-37.81375221918104,-37.813998405447016,-37.814540467211934,-37.81684310938986,-37.81625729975984,-37.815466618658434,-37.815136745569795,-37.81453505593018,-37.814399761923944,-37.81295591658134,-37.81140603994133,-37.81107211875846,-37.81143661165109,-37.81445017766827,-37.81611345293064,-37.81634100783601,-37.81662436680107,-37.81232803829519,-37.8131179768624,-37.81322013799656,-37.81316822185592,-37.815582438708404,-37.81587907634075,-37.81748103944648,-37.81705022724468,-37.81984867154892,-37.818834732192755,-37.81801103424856,-37.81788034313359,-37.81535295029374,-37.81265852382229,-37.81400371191351,-37.81368407590331,-37.814672188989995,-37.815444976696476,-37.81556411206914,-37.81675781807964,-37.81705815427994,-37.81939019475833,-37.81820110978195,-37.815131053785386,-37.81535738669452,-37.81558625091741,-37.813298814806174,-37.80919327198343,-37.80940546461835,-37.81602860198378,-37.819253504282024,-37.815770743514925,-37.81309137074721,-37.81696435459669,-37.813170613431005,-37.81132913888725,-37.808732016172115,-37.811891568883624,-37.80980844948987,-37.807528190248966,-37.8091174792242],\"lon\":[144.9623447558369,144.97170834375964,144.97244046374837,144.97077449834737,144.9713761243581,144.97240833983707,144.9736711005169,144.97342323779137,144.9716292036106,144.97030218968666,144.96918657126457,144.96996732732396,144.9691457959443,144.9673441983146,144.96845133042902,144.9653517247358,144.9673143038117,144.9690855012813,144.968922695136,144.96650432144628,144.9660029303524,144.96578935360571,144.96517912329656,144.9660849351429,144.96412508085777,144.96455112659987,144.9655933228601,144.96485753421675,144.96450529272983,144.96385829677484,144.96354768190554,144.96080159509805,144.95967769583882,144.96010852358677,144.9588906580676,144.95845989409705,144.9582828280556,144.96046496953696,144.959485810845,144.9609229814977,144.96198155668426,144.9624979570203,144.96166455721152,144.96173953568237,144.96270583856173,144.9624004738762,144.961858207876,144.96372396866002,144.9644701544366,144.96278099354788,144.96142118297337,144.95622231595837,144.95696234059736,144.95548424957065,144.9565316258329,144.95821608690858,144.9571657633738,144.95739637072802,144.95802323076245,144.95814655276035,144.95689895741233,144.9565343730053,144.95574545353142,144.95678115855074,144.95454175904922,144.95366296666123,144.9537692541663,144.97061722203512,144.95686225824505,144.95794177940672,144.96757914799085,144.96249136310982,144.95568011260008,144.9629516862615,144.966997043321,144.97194522260708,144.9715932336254,144.967462431471,144.97243815994796,144.9616871375218,144.960765316124,144.95986079172638,144.95569265063773,144.97089952599487,144.97162762401734,144.97188375120993,144.97139352262127,144.97156163273422,144.9732382331711,144.97038374615923,144.97010070091366,144.9694430083061,144.97123717171658,144.96873339216515,144.96869835348167,144.96876012887915,144.96932760907043,144.9686183570954,144.9686829724722,144.96820381786043,144.96695006791515,144.96706520083916,144.9662543134082,144.96745507745138,144.9670624811988,144.9668849462853,144.96807420840344,144.96538877094625,144.96545353140812,144.9651313656219,144.96512380211735,144.96551925271615,144.96455086424254,144.96406312182154,144.9637645863644,144.96003291730977,144.95842907268548,144.9585839756677,144.95974778709353,144.959365686083,144.95967498096383,144.96145629110254,144.9605637989974,144.9616783818041,144.96071921330733,144.9621722247973,144.96194119821186,144.9614681922904,144.96114774652452,144.96301317553295,144.96432068731727,144.9639285753139,144.96164025970833,144.95557759699858,144.9552110178304,144.95470375589997,144.95580894305417,144.956467534624,144.95728722207423,144.95766420142033,144.9550350462116,144.95416746963403,144.95411623616334,144.95342725801962,144.95803438474277,144.9680242507245,144.96719168157594,144.9667625802273,144.96229519445652,144.96224533961347,144.95911816016283,144.95738250359312,144.97243830492508,144.96023905827192,144.96151358975985,144.97267324944883,144.97338626335969,144.97090512754946,144.97106863634434,144.97192733483007,144.96800192126963,144.96135266168625,144.96794349212385,144.97106967426805,144.9726904738642,144.9722726519847,144.97186299342198,144.97284822191173,144.9741255712408,144.9713012962928,144.97093032525657,144.97026802181446,144.97128718168483,144.970002281767,144.96930164317203,144.9690242022624,144.96873504016077,144.9686727236111,144.96839736007794,144.96770214537466,144.96830248372038,144.96780415838268,144.96738352989738,144.96665168266972,144.965582443831,144.96554618976265,144.96663010717896,144.96570181648684,144.9668995155727,144.96631621514925,144.9674685834403,144.9663646628278,144.96645933847927,144.9643638871223,144.96546528286152,144.9643264084841,144.9647515708548,144.963020448098,144.96398614233215,144.96009641017997,144.96025816014517,144.95965312776522,144.95933810898964,144.96075701875682,144.9604014852698,144.960047985896,144.96146041692978,144.96103700163818,144.96028210934693,144.9614105114917,144.96320879536245,144.96223748479332,144.96401604954465,144.9578825986701,144.96126658202394,144.9609454968655,144.961240049609,144.96038745128234,144.9561807421683,144.95506325236272,144.95519418764638,144.95606924108571,144.95698136409075,144.95651273561546,144.95677846750684,144.95829874000657,144.9588910635486,144.95515581469482,144.9547019972304,144.95447646152166,144.95398767873985,144.95203267710278,144.95907535115865,144.96233864480138,144.96346829171765,144.95632912990123,144.96290788697897,144.96047108406836,144.96627899373402,144.96406677587515,144.97208617369233,144.9713271143983,144.96646689470336,144.96051751381623,144.96798312015957,144.97079029463796],\"name\":\"\",\"opacity\":0.5,\"subplot\":\"mapbox\",\"z\":[0.0,6398.772978254545,4364.66243616,0.0,19579.5808423,10373.152415125001,21296.2951059,25271.6016014,5491.387169415384,77166.74170522501,92158.7566724,0.0,75296.2146066,19892.543025,4054.1819165280003,0.0,8036.717704472727,null,41307.1806712,0.0,null,null,18230.4802797,null,null,null,33083.78165745,0.0,74605.8813824,34971.506898,0.0,null,3549.0498363625006,0.0,30452.67050412143,13646.4076394,12040.947917117646,17924.806292909998,16111.057438999998,40391.162813899995,5845.4229178000005,7532.896848075001,36986.1296379,42897.117265425,212458.84134559997,0.0,0.0,64686.6491142,51177.01234635,12794.2530865875,0.0,null,8796.0245221,0.0,36745.47324506667,91217.78802266666,20588.5918141,25294.022728080003,10047.969127854545,15071.953691781819,5973.658455553847,4853.5974951375,4314.308884566667,5177.17066148,null,25788.285361770002,2865.3650401966665,20855.963894805554,9180.9887604,4535.469829157143,25618.63099053,5411.093350708571,35184.0980884,null,0.0,21823.3121808,3753.5230169454544,0.0,9391.298064942857,18458.35041853333,10627.80485565,null,46136.15371465715,10322.1882966,34407.294322,30165.644040342853,17458.64974464,4382.60576364,9130.42867425,15297.43568622857,3569.4016601199996,10318.532193463636,16815.385796755556,55295.25400344001,null,72009.19760639999,3764.8107303299994,82885.59593750001,3378.48493044,null,1447.9221130457142,7550.3801157,136177.69233420002,4735.915713037501,68088.84616710001,68088.84616710001,null,62858.3665053,69842.62945033333,null,null,8057.2561731999995,null,0.0,0.0,34233.8969696,7501.153524346667,17370.8076364,18948.328313675556,null,17071.244088485713,null,19099.613142899998,36986.1296379,17536.2687534,7532.896848075001,49314.8395172,null,30131.587392300004,null,68236.0164618,97029.9736713,3744.1648418160003,null,null,20478.929230349997,null,32169.63130875,8267.731480139999,null,7035.6391215,null,7079.440535333333,null,6176.57754423,8539.54366351,19181.702557779998,4795.425639444999,19020.91070775,8860.008200895998,6208.077573138462,0.0,4149.26096605,39832.90287313333,12328.7098793,3887.9387079076923,26295.63458184,null,null,0.0,61960.7710068,2817.9126974444443,3795.3527393377776,14548.874787199999,4195.624466207143,4894.895210575,9762.966978941178,5478.25720455,21059.66800116667,13385.256225449999,20880.6098787375,null,17462.131404323078,56809.6106041,null,null,null,null,34361.0903031,5019.7476404399995,null,null,10135.45479132,null,6711.448991733333,15100.7602314,68088.84616710001,3157.277142025,8036.717704472727,2678.905901490909,null,83811.1553404,2152.2815809545455,null,null,null,null,0.0,43041.854643692306,4279.2371212,null,28422.492470513334,71699.22517163999,3020.8232698125,8055.528719499999,10610.8961905,null,0.0,4298.105086617647,13199.113004746154,147099.7929567,0.0,18341.18452998,5023.984563927273,6483.077974462858,6272.877851698824,55152.6675291,0.0,81915.71692139999,2573.5705047,6433.92626175,70368.1961768,32295.30760026,38446.79476221429,20669.32870035,4560.889401133333,13815.9575508,21186.5328532,1883.0620454225,21603.52642469,null,0.0,920.9599816471429,12625.884484986665,32688.842879266667,13387.93269085,141639.22756373332,5480.0839854375,0.0,null,2909.77495744,27618.0976144245,68088.84616710001,10088.12605635,5693.029109006667,null],\"type\":\"densitymapbox\"}],                        {\"template\":{\"data\":{\"histogram2dcontour\":[{\"type\":\"histogram2dcontour\",\"colorbar\":{\"outlinewidth\":0,\"ticks\":\"\"},\"colorscale\":[[0.0,\"#0d0887\"],[0.1111111111111111,\"#46039f\"],[0.2222222222222222,\"#7201a8\"],[0.3333333333333333,\"#9c179e\"],[0.4444444444444444,\"#bd3786\"],[0.5555555555555556,\"#d8576b\"],[0.6666666666666666,\"#ed7953\"],[0.7777777777777778,\"#fb9f3a\"],[0.8888888888888888,\"#fdca26\"],[1.0,\"#f0f921\"]]}],\"choropleth\":[{\"type\":\"choropleth\",\"colorbar\":{\"outlinewidth\":0,\"ticks\":\"\"}}],\"histogram2d\":[{\"type\":\"histogram2d\",\"colorbar\":{\"outlinewidth\":0,\"ticks\":\"\"},\"colorscale\":[[0.0,\"#0d0887\"],[0.1111111111111111,\"#46039f\"],[0.2222222222222222,\"#7201a8\"],[0.3333333333333333,\"#9c179e\"],[0.4444444444444444,\"#bd3786\"],[0.5555555555555556,\"#d8576b\"],[0.6666666666666666,\"#ed7953\"],[0.7777777777777778,\"#fb9f3a\"],[0.8888888888888888,\"#fdca26\"],[1.0,\"#f0f921\"]]}],\"heatmap\":[{\"type\":\"heatmap\",\"colorbar\":{\"outlinewidth\":0,\"ticks\":\"\"},\"colorscale\":[[0.0,\"#0d0887\"],[0.1111111111111111,\"#46039f\"],[0.2222222222222222,\"#7201a8\"],[0.3333333333333333,\"#9c179e\"],[0.4444444444444444,\"#bd3786\"],[0.5555555555555556,\"#d8576b\"],[0.6666666666666666,\"#ed7953\"],[0.7777777777777778,\"#fb9f3a\"],[0.8888888888888888,\"#fdca26\"],[1.0,\"#f0f921\"]]}],\"heatmapgl\":[{\"type\":\"heatmapgl\",\"colorbar\":{\"outlinewidth\":0,\"ticks\":\"\"},\"colorscale\":[[0.0,\"#0d0887\"],[0.1111111111111111,\"#46039f\"],[0.2222222222222222,\"#7201a8\"],[0.3333333333333333,\"#9c179e\"],[0.4444444444444444,\"#bd3786\"],[0.5555555555555556,\"#d8576b\"],[0.6666666666666666,\"#ed7953\"],[0.7777777777777778,\"#fb9f3a\"],[0.8888888888888888,\"#fdca26\"],[1.0,\"#f0f921\"]]}],\"contourcarpet\":[{\"type\":\"contourcarpet\",\"colorbar\":{\"outlinewidth\":0,\"ticks\":\"\"}}],\"contour\":[{\"type\":\"contour\",\"colorbar\":{\"outlinewidth\":0,\"ticks\":\"\"},\"colorscale\":[[0.0,\"#0d0887\"],[0.1111111111111111,\"#46039f\"],[0.2222222222222222,\"#7201a8\"],[0.3333333333333333,\"#9c179e\"],[0.4444444444444444,\"#bd3786\"],[0.5555555555555556,\"#d8576b\"],[0.6666666666666666,\"#ed7953\"],[0.7777777777777778,\"#fb9f3a\"],[0.8888888888888888,\"#fdca26\"],[1.0,\"#f0f921\"]]}],\"surface\":[{\"type\":\"surface\",\"colorbar\":{\"outlinewidth\":0,\"ticks\":\"\"},\"colorscale\":[[0.0,\"#0d0887\"],[0.1111111111111111,\"#46039f\"],[0.2222222222222222,\"#7201a8\"],[0.3333333333333333,\"#9c179e\"],[0.4444444444444444,\"#bd3786\"],[0.5555555555555556,\"#d8576b\"],[0.6666666666666666,\"#ed7953\"],[0.7777777777777778,\"#fb9f3a\"],[0.8888888888888888,\"#fdca26\"],[1.0,\"#f0f921\"]]}],\"mesh3d\":[{\"type\":\"mesh3d\",\"colorbar\":{\"outlinewidth\":0,\"ticks\":\"\"}}],\"scatter\":[{\"fillpattern\":{\"fillmode\":\"overlay\",\"size\":10,\"solidity\":0.2},\"type\":\"scatter\"}],\"parcoords\":[{\"type\":\"parcoords\",\"line\":{\"colorbar\":{\"outlinewidth\":0,\"ticks\":\"\"}}}],\"scatterpolargl\":[{\"type\":\"scatterpolargl\",\"marker\":{\"colorbar\":{\"outlinewidth\":0,\"ticks\":\"\"}}}],\"bar\":[{\"error_x\":{\"color\":\"#2a3f5f\"},\"error_y\":{\"color\":\"#2a3f5f\"},\"marker\":{\"line\":{\"color\":\"#E5ECF6\",\"width\":0.5},\"pattern\":{\"fillmode\":\"overlay\",\"size\":10,\"solidity\":0.2}},\"type\":\"bar\"}],\"scattergeo\":[{\"type\":\"scattergeo\",\"marker\":{\"colorbar\":{\"outlinewidth\":0,\"ticks\":\"\"}}}],\"scatterpolar\":[{\"type\":\"scatterpolar\",\"marker\":{\"colorbar\":{\"outlinewidth\":0,\"ticks\":\"\"}}}],\"histogram\":[{\"marker\":{\"pattern\":{\"fillmode\":\"overlay\",\"size\":10,\"solidity\":0.2}},\"type\":\"histogram\"}],\"scattergl\":[{\"type\":\"scattergl\",\"marker\":{\"colorbar\":{\"outlinewidth\":0,\"ticks\":\"\"}}}],\"scatter3d\":[{\"type\":\"scatter3d\",\"line\":{\"colorbar\":{\"outlinewidth\":0,\"ticks\":\"\"}},\"marker\":{\"colorbar\":{\"outlinewidth\":0,\"ticks\":\"\"}}}],\"scattermapbox\":[{\"type\":\"scattermapbox\",\"marker\":{\"colorbar\":{\"outlinewidth\":0,\"ticks\":\"\"}}}],\"scatterternary\":[{\"type\":\"scatterternary\",\"marker\":{\"colorbar\":{\"outlinewidth\":0,\"ticks\":\"\"}}}],\"scattercarpet\":[{\"type\":\"scattercarpet\",\"marker\":{\"colorbar\":{\"outlinewidth\":0,\"ticks\":\"\"}}}],\"carpet\":[{\"aaxis\":{\"endlinecolor\":\"#2a3f5f\",\"gridcolor\":\"white\",\"linecolor\":\"white\",\"minorgridcolor\":\"white\",\"startlinecolor\":\"#2a3f5f\"},\"baxis\":{\"endlinecolor\":\"#2a3f5f\",\"gridcolor\":\"white\",\"linecolor\":\"white\",\"minorgridcolor\":\"white\",\"startlinecolor\":\"#2a3f5f\"},\"type\":\"carpet\"}],\"table\":[{\"cells\":{\"fill\":{\"color\":\"#EBF0F8\"},\"line\":{\"color\":\"white\"}},\"header\":{\"fill\":{\"color\":\"#C8D4E3\"},\"line\":{\"color\":\"white\"}},\"type\":\"table\"}],\"barpolar\":[{\"marker\":{\"line\":{\"color\":\"#E5ECF6\",\"width\":0.5},\"pattern\":{\"fillmode\":\"overlay\",\"size\":10,\"solidity\":0.2}},\"type\":\"barpolar\"}],\"pie\":[{\"automargin\":true,\"type\":\"pie\"}]},\"layout\":{\"autotypenumbers\":\"strict\",\"colorway\":[\"#636efa\",\"#EF553B\",\"#00cc96\",\"#ab63fa\",\"#FFA15A\",\"#19d3f3\",\"#FF6692\",\"#B6E880\",\"#FF97FF\",\"#FECB52\"],\"font\":{\"color\":\"#2a3f5f\"},\"hovermode\":\"closest\",\"hoverlabel\":{\"align\":\"left\"},\"paper_bgcolor\":\"white\",\"plot_bgcolor\":\"#E5ECF6\",\"polar\":{\"bgcolor\":\"#E5ECF6\",\"angularaxis\":{\"gridcolor\":\"white\",\"linecolor\":\"white\",\"ticks\":\"\"},\"radialaxis\":{\"gridcolor\":\"white\",\"linecolor\":\"white\",\"ticks\":\"\"}},\"ternary\":{\"bgcolor\":\"#E5ECF6\",\"aaxis\":{\"gridcolor\":\"white\",\"linecolor\":\"white\",\"ticks\":\"\"},\"baxis\":{\"gridcolor\":\"white\",\"linecolor\":\"white\",\"ticks\":\"\"},\"caxis\":{\"gridcolor\":\"white\",\"linecolor\":\"white\",\"ticks\":\"\"}},\"coloraxis\":{\"colorbar\":{\"outlinewidth\":0,\"ticks\":\"\"}},\"colorscale\":{\"sequential\":[[0.0,\"#0d0887\"],[0.1111111111111111,\"#46039f\"],[0.2222222222222222,\"#7201a8\"],[0.3333333333333333,\"#9c179e\"],[0.4444444444444444,\"#bd3786\"],[0.5555555555555556,\"#d8576b\"],[0.6666666666666666,\"#ed7953\"],[0.7777777777777778,\"#fb9f3a\"],[0.8888888888888888,\"#fdca26\"],[1.0,\"#f0f921\"]],\"sequentialminus\":[[0.0,\"#0d0887\"],[0.1111111111111111,\"#46039f\"],[0.2222222222222222,\"#7201a8\"],[0.3333333333333333,\"#9c179e\"],[0.4444444444444444,\"#bd3786\"],[0.5555555555555556,\"#d8576b\"],[0.6666666666666666,\"#ed7953\"],[0.7777777777777778,\"#fb9f3a\"],[0.8888888888888888,\"#fdca26\"],[1.0,\"#f0f921\"]],\"diverging\":[[0,\"#8e0152\"],[0.1,\"#c51b7d\"],[0.2,\"#de77ae\"],[0.3,\"#f1b6da\"],[0.4,\"#fde0ef\"],[0.5,\"#f7f7f7\"],[0.6,\"#e6f5d0\"],[0.7,\"#b8e186\"],[0.8,\"#7fbc41\"],[0.9,\"#4d9221\"],[1,\"#276419\"]]},\"xaxis\":{\"gridcolor\":\"white\",\"linecolor\":\"white\",\"ticks\":\"\",\"title\":{\"standoff\":15},\"zerolinecolor\":\"white\",\"automargin\":true,\"zerolinewidth\":2},\"yaxis\":{\"gridcolor\":\"white\",\"linecolor\":\"white\",\"ticks\":\"\",\"title\":{\"standoff\":15},\"zerolinecolor\":\"white\",\"automargin\":true,\"zerolinewidth\":2},\"scene\":{\"xaxis\":{\"backgroundcolor\":\"#E5ECF6\",\"gridcolor\":\"white\",\"linecolor\":\"white\",\"showbackground\":true,\"ticks\":\"\",\"zerolinecolor\":\"white\",\"gridwidth\":2},\"yaxis\":{\"backgroundcolor\":\"#E5ECF6\",\"gridcolor\":\"white\",\"linecolor\":\"white\",\"showbackground\":true,\"ticks\":\"\",\"zerolinecolor\":\"white\",\"gridwidth\":2},\"zaxis\":{\"backgroundcolor\":\"#E5ECF6\",\"gridcolor\":\"white\",\"linecolor\":\"white\",\"showbackground\":true,\"ticks\":\"\",\"zerolinecolor\":\"white\",\"gridwidth\":2}},\"shapedefaults\":{\"line\":{\"color\":\"#2a3f5f\"}},\"annotationdefaults\":{\"arrowcolor\":\"#2a3f5f\",\"arrowhead\":0,\"arrowwidth\":1},\"geo\":{\"bgcolor\":\"white\",\"landcolor\":\"#E5ECF6\",\"subunitcolor\":\"white\",\"showland\":true,\"showlakes\":true,\"lakecolor\":\"white\"},\"title\":{\"x\":0.05},\"mapbox\":{\"style\":\"light\"}}},\"mapbox\":{\"domain\":{\"x\":[0.0,1.0],\"y\":[0.0,1.0]},\"center\":{\"lat\":-37.81373720225536,\"lon\":144.96378739120706},\"zoom\":14,\"style\":\"stamen-terrain\"},\"coloraxis\":{\"colorbar\":{\"title\":{\"text\":\"greening_priority\"}},\"colorscale\":[[0.0,\"#0d0887\"],[0.1111111111111111,\"#46039f\"],[0.2222222222222222,\"#7201a8\"],[0.3333333333333333,\"#9c179e\"],[0.4444444444444444,\"#bd3786\"],[0.5555555555555556,\"#d8576b\"],[0.6666666666666666,\"#ed7953\"],[0.7777777777777778,\"#fb9f3a\"],[0.8888888888888888,\"#fdca26\"],[1.0,\"#f0f921\"]]},\"legend\":{\"tracegroupgap\":0},\"title\":{\"text\":\"Heatmap showing projected laneways with greening priotity across City of Melbourne\"},\"height\":1000,\"width\":1500},                        {\"responsive\": true}                    ).then(function(){\n",
       "                            \n",
       "var gd = document.getElementById('ba998f63-d626-4b6c-927c-9c64899f1ff5');\n",
       "var x = new MutationObserver(function (mutations, observer) {{\n",
       "        var display = window.getComputedStyle(gd).display;\n",
       "        if (!display || display === 'none') {{\n",
       "            console.log([gd, 'removed!']);\n",
       "            Plotly.purge(gd);\n",
       "            observer.disconnect();\n",
       "        }}\n",
       "}});\n",
       "\n",
       "// Listen for the removal of the full notebook cells\n",
       "var notebookContainer = gd.closest('#notebook-container');\n",
       "if (notebookContainer) {{\n",
       "    x.observe(notebookContainer, {childList: true});\n",
       "}}\n",
       "\n",
       "// Listen for the clearing of the current output cell\n",
       "var outputEl = gd.closest('.output');\n",
       "if (outputEl) {{\n",
       "    x.observe(outputEl, {childList: true});\n",
       "}}\n",
       "\n",
       "                        })                };                });            </script>        </div>"
      ]
     },
     "metadata": {},
     "output_type": "display_data"
    }
   ],
   "source": [
    "fig = px.density_mapbox(laneways, lat='lat', lon='lon', z='greening_priority', mapbox_style=\"stamen-terrain\", opacity = 0.5, \n",
    "        title = 'Heatmap showing projected laneways with greening priotity across City of Melbourne', \n",
    "        width = 1500, height = 1000, zoom = 14)\n",
    "fig.show()"
   ]
  }
 ],
 "metadata": {
  "kernelspec": {
   "display_name": "Python 3 (ipykernel)",
   "language": "python",
   "name": "python3"
  },
  "language_info": {
   "codemirror_mode": {
    "name": "ipython",
    "version": 3
   },
   "file_extension": ".py",
   "mimetype": "text/x-python",
   "name": "python",
   "nbconvert_exporter": "python",
   "pygments_lexer": "ipython3",
   "version": "3.10.9"
  },
  "vscode": {
   "interpreter": {
    "hash": "21657081960a31b5c4c03629d4e1c5b52e991a3545dab28ef924ff904924c82f"
   }
  }
 },
 "nbformat": 4,
 "nbformat_minor": 4
}
