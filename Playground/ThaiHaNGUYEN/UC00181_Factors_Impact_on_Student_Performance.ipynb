{
 "cells": [
  {
   "cell_type": "markdown",
   "id": "dbe2b286",
   "metadata": {},
   "source": [
    "**UC00181_Factors_Impact_on_Student_Performance**\n",
    "\n",
    "Thai Ha NGUYEN"
   ]
  }
 ],
 "metadata": {
  "language_info": {
   "name": "python"
  }
 },
 "nbformat": 4,
 "nbformat_minor": 5
}
