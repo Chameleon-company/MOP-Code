{
 "cells": [
  {
   "cell_type": "markdown",
   "id": "dbe2b286",
   "metadata": {},
   "source": [
    "# UC00181_Factors_Impact_on_Student_Performance\n",
    "\n",
    "Thai Ha NGUYEN\n",
    "\n",
    "Email: s224082764@deakin.edu.au"
   ]
  },
  {
   "cell_type": "markdown",
   "id": "2241000f",
   "metadata": {},
   "source": [
    "## 1. Scenario\n",
    "\n",
    "As a data analyst working for the Victorian Department of Education. Your team has been tasked with analyzing the PISA 2022 results for Victorian students to identify key insights about student performance, engagement, and educational outcomes. This analysis will inform policy decisions and educational strategies for improving student outcomes across Victoria.\n",
    "\n",
    "The Minister of Education has requested a comprehensive analysis that can be presented to stakeholders and integrated into the Ministry of Education Platform (MOP) for ongoing monitoring and decision-making."
   ]
  },
  {
   "cell_type": "markdown",
   "id": "78c7fa0b",
   "metadata": {},
   "source": [
    "## 2. What This Use Case Will Teach You\n",
    "\n",
    "By the end of Sprint 1, you will have learned how to:\n",
    "\n",
    "- **Data Wrangling**: Clean and prepare complex educational survey data from SPSS format\n",
    "- **Environment Setup**: Establish a professional data science workflow using GitHub and Python\n",
    "- **Domain Knowledge**: Understand PISA assessment framework and educational metrics\n",
    "- **Data Quality Assessment**: Identify and handle missing data, outliers, and inconsistencies\n",
    "- **Exploratory Data Analysis**: Conduct initial investigations to understand data patterns\n",
    "- **Documentation**: Create clear, reproducible analysis documentation\n",
    "- **Collaboration**: Set up workflows for integration with web development teams\n",
    "- **Project Management**: Structure a data science project for iterative development"
   ]
  },
  {
   "cell_type": "markdown",
   "id": "e6f7ea10",
   "metadata": {},
   "source": [
    "## 3. Background and Introduction\n",
    "\n",
    "### PISA Overview\n",
    "The Programme for International Student Assessment (PISA) is a triennial international survey conducted by the OECD that evaluates education systems worldwide. PISA 2022 assessed 15-year-old students' capabilities in:\n",
    "- Reading literacy\n",
    "- Mathematical literacy  \n",
    "- Scientific literacy\n",
    "- Creative thinking (new domain in 2022)\n",
    "\n",
    "### Victorian Education Context\n",
    "Victoria participates in PISA as part of Australia's commitment to international educational benchmarking. The results help inform:\n",
    "- Curriculum development\n",
    "- Teacher training programs\n",
    "- Resource allocation\n",
    "- Educational policy decisions\n",
    "\n",
    "### Project Significance\n",
    "This analysis will provide evidence-based insights to support Victorian educational excellence and identify areas for improvement in student outcomes."
   ]
  },
  {
   "cell_type": "markdown",
   "id": "1f1eeedb",
   "metadata": {},
   "source": [
    "## 4. Dataset Introduction\n",
    "\n",
    "### Dataset Overview\n",
    "- **Name**: PISA 2022 Student Questionnaire - Victoria, Australia Subset\n",
    "- **Format**: SPSS (.sav) file\n",
    "- **Scope**: 15-year-old students from Victorian schools\n",
    "- **Assessment Year**: 2022\n",
    "- **Data Collection**: Conducted between March-August 2022\n",
    "\n",
    "### Key Components\n",
    "The dataset contains multiple dimensions of student data:\n",
    "\n",
    "**Performance Measures:**\n",
    "- Reading, Mathematics, and Science plausible values\n",
    "- Creative thinking assessment scores\n",
    "- Domain-specific subscale scores\n",
    "\n",
    "**Student Background:**\n",
    "- Socioeconomic status indicators\n",
    "- Home language and cultural background\n",
    "- Family structure and parental education\n",
    "- Immigration status and length of residence\n",
    "\n",
    "**School Context:**\n",
    "- School type (government, Catholic, independent)\n",
    "- School location (metropolitan, regional, remote)\n",
    "- School size and resources\n",
    "- Teacher qualifications and experience\n",
    "\n",
    "**Learning Environment:**\n",
    "- Student attitudes toward subjects\n",
    "- Motivation and engagement measures\n",
    "- Learning strategies and study habits\n",
    "- Technology use and digital literacy\n",
    "\n",
    "### Data Structure Expectations\n",
    "- Approximately 600-800 Victorian student records\n",
    "- 500+ variables covering assessment scores and questionnaire responses\n",
    "- Hierarchical structure (students nested within schools)\n",
    "- Complex survey design with sampling weights"
   ]
  },
  {
   "cell_type": "markdown",
   "id": "80b25eff",
   "metadata": {},
   "source": [
    "## 5. Importing Datasets\n",
    "\n",
    "### 5.1 Environment Setup\n",
    "\n",
    "#### Required Libraries"
   ]
  },
  {
   "cell_type": "code",
   "execution_count": 6,
   "id": "3866cc8e",
   "metadata": {},
   "outputs": [
    {
     "data": {
      "text/html": [
       "\n",
       "            <div>\n",
       "                <ins><a href=\"https://ydata.ai/register\">Upgrade to ydata-sdk</a></ins>\n",
       "                <p>\n",
       "                    Improve your data and profiling with ydata-sdk, featuring data quality scoring, redundancy detection, outlier identification, text validation, and synthetic data generation.\n",
       "                </p>\n",
       "            </div>\n",
       "            "
      ],
      "text/plain": [
       "<IPython.core.display.HTML object>"
      ]
     },
     "metadata": {},
     "output_type": "display_data"
    },
    {
     "name": "stderr",
     "output_type": "stream",
     "text": [
      "/tmp/ipykernel_31701/3837194001.py:21: DeprecationWarning: `import pandas_profiling` is going to be deprecated by April 1st. Please use `import ydata_profiling` instead.\n",
      "  import pandas_profiling\n"
     ]
    },
    {
     "ename": "ModuleNotFoundError",
     "evalue": "No module named 'dataprep'",
     "output_type": "error",
     "traceback": [
      "\u001b[31m---------------------------------------------------------------------------\u001b[39m",
      "\u001b[31mModuleNotFoundError\u001b[39m                       Traceback (most recent call last)",
      "\u001b[36mCell\u001b[39m\u001b[36m \u001b[39m\u001b[32mIn[6]\u001b[39m\u001b[32m, line 22\u001b[39m\n\u001b[32m     20\u001b[39m \u001b[38;5;66;03m# Data quality\u001b[39;00m\n\u001b[32m     21\u001b[39m \u001b[38;5;28;01mimport\u001b[39;00m\u001b[38;5;250m \u001b[39m\u001b[34;01mpandas_profiling\u001b[39;00m\n\u001b[32m---> \u001b[39m\u001b[32m22\u001b[39m \u001b[38;5;28;01mfrom\u001b[39;00m\u001b[38;5;250m \u001b[39m\u001b[34;01mdataprep\u001b[39;00m\u001b[34;01m.\u001b[39;00m\u001b[34;01meda\u001b[39;00m\u001b[38;5;250m \u001b[39m\u001b[38;5;28;01mimport\u001b[39;00m create_report\n\u001b[32m     24\u001b[39m \u001b[38;5;66;03m# Version control integration\u001b[39;00m\n\u001b[32m     25\u001b[39m \u001b[38;5;28;01mimport\u001b[39;00m\u001b[38;5;250m \u001b[39m\u001b[34;01mos\u001b[39;00m\n",
      "\u001b[31mModuleNotFoundError\u001b[39m: No module named 'dataprep'"
     ]
    }
   ],
   "source": [
    "# Core data manipulation\n",
    "import pandas as pd\n",
    "import numpy as np\n",
    "\n",
    "# SPSS file handling\n",
    "import pyreadstat\n",
    "\n",
    "# Statistical analysis\n",
    "import scipy.stats as stats\n",
    "from scipy.stats import chi2_contingency, pearsonr, spearmanr\n",
    "from statsmodels.stats.weightstats import ttest_ind\n",
    "import statsmodels.api as sm\n",
    "\n",
    "# Visualization\n",
    "import matplotlib.pyplot as plt\n",
    "import seaborn as sns\n",
    "import plotly.express as px\n",
    "import plotly.graph_objects as go\n",
    "\n",
    "# Data quality\n",
    "import pandas_profiling\n",
    "from dataprep.eda import create_report\n",
    "\n",
    "# Version control integration\n",
    "import os\n",
    "from datetime import datetime"
   ]
  },
  {
   "cell_type": "markdown",
   "id": "bea12f83",
   "metadata": {},
   "source": [
    "### 5.2 Data Import Process\n",
    "\n",
    "#### Loading SPSS Data"
   ]
  },
  {
   "cell_type": "code",
   "execution_count": null,
   "id": "456a4c7d",
   "metadata": {},
   "outputs": [],
   "source": [
    "def load_pisa_data(file_path):\n",
    "    \"\"\"\n",
    "    Load PISA 2022 SPSS dataset with proper handling of metadata\n",
    "    \"\"\"\n",
    "    # Read SPSS file with metadata\n",
    "    df, meta = pyreadstat.read_sav(file_path, \n",
    "                                   apply_value_formats=True,\n",
    "                                   formats_as_ordered_category=False)\n",
    "    \n",
    "    # Store variable labels for documentation\n",
    "    variable_labels = meta.column_labels\n",
    "    value_labels = meta.variable_value_labels\n",
    "    \n",
    "    return df, variable_labels, value_labels\n",
    "\n",
    "# Load the dataset\n",
    "pisa_data, var_labels, val_labels = load_pisa_data('SPSS2022VIC.sav')"
   ]
  },
  {
   "cell_type": "code",
   "execution_count": null,
   "id": "c092a0b9",
   "metadata": {},
   "outputs": [],
   "source": [
    "# Basic dataset information\n",
    "print(f\"Dataset shape: {pisa_data.shape}\")\n",
    "print(f\"Number of students: {pisa_data.shape[0]}\")\n",
    "print(f\"Number of variables: {pisa_data.shape[1]}\")\n",
    "\n",
    "# Preview first few rows\n",
    "display(pisa_data.head())\n",
    "\n",
    "# Data types overview\n",
    "print(\"\\nData types summary:\")\n",
    "print(pisa_data.dtypes.value_counts())"
   ]
  }
 ],
 "metadata": {
  "kernelspec": {
   "display_name": "myenv",
   "language": "python",
   "name": "python3"
  },
  "language_info": {
   "codemirror_mode": {
    "name": "ipython",
    "version": 3
   },
   "file_extension": ".py",
   "mimetype": "text/x-python",
   "name": "python",
   "nbconvert_exporter": "python",
   "pygments_lexer": "ipython3",
   "version": "3.12.9"
  }
 },
 "nbformat": 4,
 "nbformat_minor": 5
}
