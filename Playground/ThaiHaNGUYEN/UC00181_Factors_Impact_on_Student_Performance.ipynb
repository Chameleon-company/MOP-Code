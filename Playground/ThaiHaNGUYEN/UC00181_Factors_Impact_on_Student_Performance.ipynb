{
 "cells": [
  {
   "cell_type": "markdown",
   "id": "dbe2b286",
   "metadata": {},
   "source": [
    "# UC00181_Factors_Impact_on_Student_Performance\n",
    "\n",
    "Thai Ha NGUYEN\n",
    "\n",
    "Email: s224082764@deakin.edu.au"
   ]
  },
  {
   "cell_type": "markdown",
   "id": "2241000f",
   "metadata": {},
   "source": [
    "## 1. Scenario\n",
    "\n",
    "As a data analyst working for the Victorian Department of Education. Your team has been tasked with analyzing the PISA 2022 results for Victorian students to identify key insights about student performance, engagement, and educational outcomes. This analysis will inform policy decisions and educational strategies for improving student outcomes across Victoria.\n",
    "\n",
    "The Minister of Education has requested a comprehensive analysis that can be presented to stakeholders and integrated into the Ministry of Education Platform (MOP) for ongoing monitoring and decision-making."
   ]
  },
  {
   "cell_type": "markdown",
   "id": "78c7fa0b",
   "metadata": {},
   "source": [
    "## 2. What This Use Case Will Teach You\n",
    "\n",
    "By the end of Sprint 1, you will have learned how to:\n",
    "\n",
    "- **Data Wrangling**: Clean and prepare complex educational survey data from SPSS format\n",
    "- **Environment Setup**: Establish a professional data science workflow using GitHub and Python\n",
    "- **Domain Knowledge**: Understand PISA assessment framework and educational metrics\n",
    "- **Data Quality Assessment**: Identify and handle missing data, outliers, and inconsistencies\n",
    "- **Exploratory Data Analysis**: Conduct initial investigations to understand data patterns\n",
    "- **Documentation**: Create clear, reproducible analysis documentation\n",
    "- **Collaboration**: Set up workflows for integration with web development teams\n",
    "- **Project Management**: Structure a data science project for iterative development"
   ]
  },
  {
   "cell_type": "markdown",
   "id": "e6f7ea10",
   "metadata": {},
   "source": [
    "## 3. Background and Introduction\n",
    "\n",
    "### PISA Overview\n",
    "The Programme for International Student Assessment (PISA) is a triennial international survey conducted by the OECD that evaluates education systems worldwide. PISA 2022 assessed 15-year-old students' capabilities in:\n",
    "- Reading literacy\n",
    "- Mathematical literacy  \n",
    "- Scientific literacy\n",
    "- Creative thinking (new domain in 2022)\n",
    "\n",
    "### Victorian Education Context\n",
    "Victoria participates in PISA as part of Australia's commitment to international educational benchmarking. The results help inform:\n",
    "- Curriculum development\n",
    "- Teacher training programs\n",
    "- Resource allocation\n",
    "- Educational policy decisions\n",
    "\n",
    "### Project Significance\n",
    "This analysis will provide evidence-based insights to support Victorian educational excellence and identify areas for improvement in student outcomes."
   ]
  },
  {
   "cell_type": "markdown",
   "id": "1f1eeedb",
   "metadata": {},
   "source": [
    "## 4. Dataset Introduction\n",
    "\n",
    "### Dataset Overview\n",
    "- **Name**: PISA 2022 Student Questionnaire - Victoria, Australia Subset\n",
    "- **Format**: SPSS (.sav) file\n",
    "- **Scope**: 15-year-old students from Victorian schools\n",
    "- **Assessment Year**: 2022\n",
    "- **Data Collection**: Conducted between March-August 2022\n",
    "\n",
    "### Key Components\n",
    "The dataset contains multiple dimensions of student data:\n",
    "\n",
    "**Performance Measures:**\n",
    "- Reading, Mathematics, and Science plausible values\n",
    "- Creative thinking assessment scores\n",
    "- Domain-specific subscale scores\n",
    "\n",
    "**Student Background:**\n",
    "- Socioeconomic status indicators\n",
    "- Home language and cultural background\n",
    "- Family structure and parental education\n",
    "- Immigration status and length of residence\n",
    "\n",
    "**School Context:**\n",
    "- School type (government, Catholic, independent)\n",
    "- School location (metropolitan, regional, remote)\n",
    "- School size and resources\n",
    "- Teacher qualifications and experience\n",
    "\n",
    "**Learning Environment:**\n",
    "- Student attitudes toward subjects\n",
    "- Motivation and engagement measures\n",
    "- Learning strategies and study habits\n",
    "- Technology use and digital literacy\n",
    "\n",
    "### Data Structure Expectations\n",
    "- Approximately 600-800 Victorian student records\n",
    "- 500+ variables covering assessment scores and questionnaire responses\n",
    "- Hierarchical structure (students nested within schools)\n",
    "- Complex survey design with sampling weights"
   ]
  },
  {
   "cell_type": "markdown",
   "id": "80b25eff",
   "metadata": {},
   "source": [
    "## 5. Importing Datasets\n",
    "\n",
    "### 5.1 Environment Setup\n",
    "\n",
    "#### Required Libraries"
   ]
  },
  {
   "cell_type": "code",
   "execution_count": 15,
   "id": "3866cc8e",
   "metadata": {},
   "outputs": [],
   "source": [
    "# Core data manipulation\n",
    "import pandas as pd\n",
    "import numpy as np\n",
    "\n",
    "# SPSS file handling\n",
    "import pyreadstat\n",
    "\n",
    "# Statistical analysis\n",
    "import scipy.stats as stats\n",
    "from scipy.stats import chi2_contingency, pearsonr, spearmanr\n",
    "from statsmodels.stats.weightstats import ttest_ind\n",
    "import statsmodels.api as sm\n",
    "\n",
    "# Visualization\n",
    "import matplotlib.pyplot as plt\n",
    "import seaborn as sns\n",
    "import plotly.express as px\n",
    "import plotly.graph_objects as go\n",
    "\n",
    "# Data quality\n",
    "from ydata_profiling import ProfileReport\n",
    "\n",
    "# Version control integration\n",
    "import os\n",
    "from datetime import datetime"
   ]
  },
  {
   "cell_type": "markdown",
   "id": "bea12f83",
   "metadata": {},
   "source": [
    "### 5.2 Data Import Process\n",
    "\n",
    "#### Loading SPSS Data"
   ]
  },
  {
   "cell_type": "code",
   "execution_count": 16,
   "id": "456a4c7d",
   "metadata": {},
   "outputs": [],
   "source": [
    "def load_pisa_data(file_path):\n",
    "    \"\"\"\n",
    "    Load PISA 2022 SPSS dataset with proper handling of metadata\n",
    "    \"\"\"\n",
    "    # Read SPSS file with metadata\n",
    "    df, meta = pyreadstat.read_sav(file_path)\n",
    "    \n",
    "    # Store variable labels for documentation\n",
    "    variable_labels = meta.column_labels\n",
    "    value_labels = meta.value_labels\n",
    "    variable_value_labels = meta.variable_value_labels\n",
    "\n",
    "    return df, variable_labels, value_labels, variable_value_labels\n",
    "\n",
    "# Load the dataset\n",
    "pisa_data, var_labels, val_labels, variable_value_labels = load_pisa_data('SPSS2022VIC.sav')"
   ]
  },
  {
   "cell_type": "code",
   "execution_count": 17,
   "id": "bb566db0",
   "metadata": {},
   "outputs": [
    {
     "name": "stdout",
     "output_type": "stream",
     "text": [
      "Type of var_labels: <class 'list'>\n",
      "First few items: ['Country code 3-character', 'Country Identifier', 'Intl. School ID', 'Intl. Student ID', 'PISA Assessment Cycle (2 digits + 2 character Assessment type - MS/FT)']\n",
      "Type of val_labels: <class 'dict'>\n",
      "Available keys in val_labels (first 10): ['labels0', 'labels1', 'labels2', 'labels3', 'labels4', 'labels5', 'labels6', 'labels7', 'labels8', 'labels9']\n",
      "Available keys in variable_value_labels (first 10): ['CNT', 'CNTRYID', 'NatCen', 'STRATUM', 'SUBNATIO', 'REGION', 'OECD', 'ADMINMODE', 'LANGTEST_QQQ', 'LANGTEST_COG']\n",
      "Type of 5th variable's value labels: <class 'dict'>\n",
      "5th variable's value labels (first 5): [(1.0, 'None'), (2.0, 'One'), (3.0, 'Two'), (4.0, 'Three or more'), (95.0, 'Valid Skip')]\n"
     ]
    }
   ],
   "source": [
    "# Check the structure of variable labels\n",
    "print(\"Type of var_labels:\", type(var_labels))\n",
    "print(\"First few items:\", var_labels[:5] if isinstance(var_labels, list) else \"Not a list\")\n",
    "\n",
    "# Check the structure of value labels\n",
    "print(\"Type of val_labels:\", type(val_labels))\n",
    "print(\"Available keys in val_labels (first 10):\", list(val_labels.keys())[:10])\n",
    "print(\"Available keys in variable_value_labels (first 10):\", list(variable_value_labels.keys())[:10])\n",
    "\n",
    "# Check the structure of 15th variable's value labels\n",
    "print(\"Type of 5th variable's value labels:\", type(variable_value_labels.get(list(variable_value_labels.keys())[33], [])))\n",
    "print(\"5th variable's value labels (first 5):\", list(variable_value_labels.get(list(variable_value_labels.keys())[33], {}).items())[:5])\n"
   ]
  },
  {
   "cell_type": "markdown",
   "id": "cc082277",
   "metadata": {},
   "source": [
    "#### Initial Data Inspection"
   ]
  },
  {
   "cell_type": "code",
   "execution_count": 18,
   "id": "c092a0b9",
   "metadata": {},
   "outputs": [
    {
     "name": "stdout",
     "output_type": "stream",
     "text": [
      "Dataset shape: (2226, 1279)\n",
      "Number of students: 2226\n",
      "Number of variables: 1279\n"
     ]
    },
    {
     "data": {
      "application/vnd.microsoft.datawrangler.viewer.v0+json": {
       "columns": [
        {
         "name": "index",
         "rawType": "int64",
         "type": "integer"
        },
        {
         "name": "CNT",
         "rawType": "object",
         "type": "string"
        },
        {
         "name": "CNTRYID",
         "rawType": "float64",
         "type": "float"
        },
        {
         "name": "CNTSCHID",
         "rawType": "float64",
         "type": "float"
        },
        {
         "name": "CNTSTUID",
         "rawType": "float64",
         "type": "float"
        },
        {
         "name": "CYC",
         "rawType": "object",
         "type": "string"
        },
        {
         "name": "NatCen",
         "rawType": "object",
         "type": "string"
        },
        {
         "name": "STRATUM",
         "rawType": "object",
         "type": "string"
        },
        {
         "name": "SUBNATIO",
         "rawType": "object",
         "type": "string"
        },
        {
         "name": "REGION",
         "rawType": "float64",
         "type": "float"
        },
        {
         "name": "OECD",
         "rawType": "float64",
         "type": "float"
        },
        {
         "name": "ADMINMODE",
         "rawType": "float64",
         "type": "float"
        },
        {
         "name": "LANGTEST_QQQ",
         "rawType": "float64",
         "type": "float"
        },
        {
         "name": "LANGTEST_COG",
         "rawType": "float64",
         "type": "float"
        },
        {
         "name": "LANGTEST_PAQ",
         "rawType": "float64",
         "type": "float"
        },
        {
         "name": "Option_CT",
         "rawType": "float64",
         "type": "float"
        },
        {
         "name": "Option_FL",
         "rawType": "float64",
         "type": "float"
        },
        {
         "name": "Option_ICTQ",
         "rawType": "float64",
         "type": "float"
        },
        {
         "name": "Option_WBQ",
         "rawType": "float64",
         "type": "float"
        },
        {
         "name": "Option_PQ",
         "rawType": "float64",
         "type": "float"
        },
        {
         "name": "Option_TQ",
         "rawType": "float64",
         "type": "float"
        },
        {
         "name": "Option_UH",
         "rawType": "float64",
         "type": "float"
        },
        {
         "name": "BOOKID",
         "rawType": "float64",
         "type": "float"
        },
        {
         "name": "ST001D01T",
         "rawType": "float64",
         "type": "float"
        },
        {
         "name": "ST003D02T",
         "rawType": "float64",
         "type": "float"
        },
        {
         "name": "ST003D03T",
         "rawType": "float64",
         "type": "float"
        },
        {
         "name": "ST004D01T",
         "rawType": "float64",
         "type": "float"
        },
        {
         "name": "ST250Q01JA",
         "rawType": "float64",
         "type": "float"
        },
        {
         "name": "ST250Q02JA",
         "rawType": "float64",
         "type": "float"
        },
        {
         "name": "ST250Q03JA",
         "rawType": "float64",
         "type": "float"
        },
        {
         "name": "ST250Q04JA",
         "rawType": "float64",
         "type": "float"
        },
        {
         "name": "ST250Q05JA",
         "rawType": "float64",
         "type": "float"
        },
        {
         "name": "ST250D06JA",
         "rawType": "object",
         "type": "string"
        },
        {
         "name": "ST250D07JA",
         "rawType": "object",
         "type": "string"
        },
        {
         "name": "ST251Q01JA",
         "rawType": "float64",
         "type": "float"
        },
        {
         "name": "ST251Q02JA",
         "rawType": "float64",
         "type": "float"
        },
        {
         "name": "ST251Q03JA",
         "rawType": "float64",
         "type": "float"
        },
        {
         "name": "ST251Q04JA",
         "rawType": "float64",
         "type": "float"
        },
        {
         "name": "ST251Q06JA",
         "rawType": "float64",
         "type": "float"
        },
        {
         "name": "ST251Q07JA",
         "rawType": "float64",
         "type": "float"
        },
        {
         "name": "ST251D08JA",
         "rawType": "object",
         "type": "string"
        },
        {
         "name": "ST251D09JA",
         "rawType": "object",
         "type": "string"
        },
        {
         "name": "ST253Q01JA",
         "rawType": "float64",
         "type": "float"
        },
        {
         "name": "ST254Q01JA",
         "rawType": "float64",
         "type": "float"
        },
        {
         "name": "ST254Q02JA",
         "rawType": "float64",
         "type": "float"
        },
        {
         "name": "ST254Q03JA",
         "rawType": "float64",
         "type": "float"
        },
        {
         "name": "ST254Q04JA",
         "rawType": "float64",
         "type": "float"
        },
        {
         "name": "ST254Q05JA",
         "rawType": "float64",
         "type": "float"
        },
        {
         "name": "ST254Q06JA",
         "rawType": "float64",
         "type": "float"
        },
        {
         "name": "ST255Q01JA",
         "rawType": "float64",
         "type": "float"
        },
        {
         "name": "ST256Q01JA",
         "rawType": "float64",
         "type": "float"
        },
        {
         "name": "ST256Q02JA",
         "rawType": "float64",
         "type": "float"
        },
        {
         "name": "ST256Q03JA",
         "rawType": "float64",
         "type": "float"
        },
        {
         "name": "ST256Q06JA",
         "rawType": "float64",
         "type": "float"
        },
        {
         "name": "ST256Q07JA",
         "rawType": "float64",
         "type": "float"
        },
        {
         "name": "ST256Q08JA",
         "rawType": "float64",
         "type": "float"
        },
        {
         "name": "ST256Q09JA",
         "rawType": "float64",
         "type": "float"
        },
        {
         "name": "ST256Q10JA",
         "rawType": "float64",
         "type": "float"
        },
        {
         "name": "ST230Q01JA",
         "rawType": "float64",
         "type": "float"
        },
        {
         "name": "ST005Q01JA",
         "rawType": "float64",
         "type": "float"
        },
        {
         "name": "ST006Q01JA",
         "rawType": "float64",
         "type": "float"
        },
        {
         "name": "ST006Q02JA",
         "rawType": "float64",
         "type": "float"
        },
        {
         "name": "ST006Q03JA",
         "rawType": "float64",
         "type": "float"
        },
        {
         "name": "ST006Q04JA",
         "rawType": "float64",
         "type": "float"
        },
        {
         "name": "ST006Q05JA",
         "rawType": "float64",
         "type": "float"
        },
        {
         "name": "ST007Q01JA",
         "rawType": "float64",
         "type": "float"
        },
        {
         "name": "ST008Q01JA",
         "rawType": "float64",
         "type": "float"
        },
        {
         "name": "ST008Q02JA",
         "rawType": "float64",
         "type": "float"
        },
        {
         "name": "ST008Q03JA",
         "rawType": "float64",
         "type": "float"
        },
        {
         "name": "ST008Q04JA",
         "rawType": "float64",
         "type": "float"
        },
        {
         "name": "ST008Q05JA",
         "rawType": "float64",
         "type": "float"
        },
        {
         "name": "ST258Q01JA",
         "rawType": "float64",
         "type": "float"
        },
        {
         "name": "ST259Q01JA",
         "rawType": "float64",
         "type": "float"
        },
        {
         "name": "ST259Q02JA",
         "rawType": "float64",
         "type": "float"
        },
        {
         "name": "ST019AQ01T",
         "rawType": "float64",
         "type": "float"
        },
        {
         "name": "ST019BQ01T",
         "rawType": "float64",
         "type": "float"
        },
        {
         "name": "ST019CQ01T",
         "rawType": "float64",
         "type": "float"
        },
        {
         "name": "ST021Q01TA",
         "rawType": "float64",
         "type": "float"
        },
        {
         "name": "ST022Q01TA",
         "rawType": "float64",
         "type": "float"
        },
        {
         "name": "ST226Q01JA",
         "rawType": "float64",
         "type": "float"
        },
        {
         "name": "ST125Q01NA",
         "rawType": "float64",
         "type": "float"
        },
        {
         "name": "ST126Q01TA",
         "rawType": "float64",
         "type": "float"
        },
        {
         "name": "ST127Q01TA",
         "rawType": "float64",
         "type": "float"
        },
        {
         "name": "ST127Q02TA",
         "rawType": "float64",
         "type": "float"
        },
        {
         "name": "ST127Q03TA",
         "rawType": "float64",
         "type": "float"
        },
        {
         "name": "ST260Q01JA",
         "rawType": "float64",
         "type": "float"
        },
        {
         "name": "ST260Q02JA",
         "rawType": "float64",
         "type": "float"
        },
        {
         "name": "ST260Q03JA",
         "rawType": "float64",
         "type": "float"
        },
        {
         "name": "ST261Q01JA",
         "rawType": "float64",
         "type": "float"
        },
        {
         "name": "ST261Q02JA",
         "rawType": "float64",
         "type": "float"
        },
        {
         "name": "ST261Q03JA",
         "rawType": "float64",
         "type": "float"
        },
        {
         "name": "ST261Q04JA",
         "rawType": "float64",
         "type": "float"
        },
        {
         "name": "ST261Q05JA",
         "rawType": "float64",
         "type": "float"
        },
        {
         "name": "ST261Q06JA",
         "rawType": "float64",
         "type": "float"
        },
        {
         "name": "ST261Q07JA",
         "rawType": "float64",
         "type": "float"
        },
        {
         "name": "ST261Q08JA",
         "rawType": "float64",
         "type": "float"
        },
        {
         "name": "ST261Q09JA",
         "rawType": "float64",
         "type": "float"
        },
        {
         "name": "ST261Q10JA",
         "rawType": "float64",
         "type": "float"
        },
        {
         "name": "ST261Q11JA",
         "rawType": "float64",
         "type": "float"
        },
        {
         "name": "ST062Q01TA",
         "rawType": "float64",
         "type": "float"
        },
        {
         "name": "ST062Q02TA",
         "rawType": "float64",
         "type": "float"
        },
        {
         "name": "ST062Q03TA",
         "rawType": "float64",
         "type": "float"
        },
        {
         "name": "ST267Q01JA",
         "rawType": "float64",
         "type": "float"
        },
        {
         "name": "ST267Q02JA",
         "rawType": "float64",
         "type": "float"
        },
        {
         "name": "ST267Q03JA",
         "rawType": "float64",
         "type": "float"
        },
        {
         "name": "ST267Q04JA",
         "rawType": "float64",
         "type": "float"
        },
        {
         "name": "ST267Q05JA",
         "rawType": "float64",
         "type": "float"
        },
        {
         "name": "ST267Q06JA",
         "rawType": "float64",
         "type": "float"
        },
        {
         "name": "ST267Q07JA",
         "rawType": "float64",
         "type": "float"
        },
        {
         "name": "ST267Q08JA",
         "rawType": "float64",
         "type": "float"
        },
        {
         "name": "ST034Q01TA",
         "rawType": "float64",
         "type": "float"
        },
        {
         "name": "ST034Q02TA",
         "rawType": "float64",
         "type": "float"
        },
        {
         "name": "ST034Q03TA",
         "rawType": "float64",
         "type": "float"
        },
        {
         "name": "ST034Q04TA",
         "rawType": "float64",
         "type": "float"
        },
        {
         "name": "ST034Q05TA",
         "rawType": "float64",
         "type": "float"
        },
        {
         "name": "ST034Q06TA",
         "rawType": "float64",
         "type": "float"
        },
        {
         "name": "ST038Q03NA",
         "rawType": "float64",
         "type": "float"
        },
        {
         "name": "ST038Q04NA",
         "rawType": "float64",
         "type": "float"
        },
        {
         "name": "ST038Q05NA",
         "rawType": "float64",
         "type": "float"
        },
        {
         "name": "ST038Q06NA",
         "rawType": "float64",
         "type": "float"
        },
        {
         "name": "ST038Q07NA",
         "rawType": "float64",
         "type": "float"
        },
        {
         "name": "ST038Q08NA",
         "rawType": "float64",
         "type": "float"
        },
        {
         "name": "ST038Q09JA",
         "rawType": "float64",
         "type": "float"
        },
        {
         "name": "ST038Q10JA",
         "rawType": "float64",
         "type": "float"
        },
        {
         "name": "ST038Q11JA",
         "rawType": "float64",
         "type": "float"
        },
        {
         "name": "ST265Q01JA",
         "rawType": "float64",
         "type": "float"
        },
        {
         "name": "ST265Q02JA",
         "rawType": "float64",
         "type": "float"
        },
        {
         "name": "ST265Q03JA",
         "rawType": "float64",
         "type": "float"
        },
        {
         "name": "ST265Q04JA",
         "rawType": "float64",
         "type": "float"
        },
        {
         "name": "ST266Q01JA",
         "rawType": "float64",
         "type": "float"
        },
        {
         "name": "ST266Q02JA",
         "rawType": "float64",
         "type": "float"
        },
        {
         "name": "ST266Q03JA",
         "rawType": "float64",
         "type": "float"
        },
        {
         "name": "ST266Q04JA",
         "rawType": "float64",
         "type": "float"
        },
        {
         "name": "ST266Q05JA",
         "rawType": "float64",
         "type": "float"
        },
        {
         "name": "ST294Q01JA",
         "rawType": "float64",
         "type": "float"
        },
        {
         "name": "ST294Q02JA",
         "rawType": "float64",
         "type": "float"
        },
        {
         "name": "ST294Q03JA",
         "rawType": "float64",
         "type": "float"
        },
        {
         "name": "ST294Q04JA",
         "rawType": "float64",
         "type": "float"
        },
        {
         "name": "ST294Q05JA",
         "rawType": "float64",
         "type": "float"
        },
        {
         "name": "ST295Q01JA",
         "rawType": "float64",
         "type": "float"
        },
        {
         "name": "ST295Q02JA",
         "rawType": "float64",
         "type": "float"
        },
        {
         "name": "ST295Q03JA",
         "rawType": "float64",
         "type": "float"
        },
        {
         "name": "ST295Q04JA",
         "rawType": "float64",
         "type": "float"
        },
        {
         "name": "ST295Q05JA",
         "rawType": "float64",
         "type": "float"
        },
        {
         "name": "ST326Q01JA",
         "rawType": "float64",
         "type": "float"
        },
        {
         "name": "ST326Q02JA",
         "rawType": "float64",
         "type": "float"
        },
        {
         "name": "ST326Q03JA",
         "rawType": "float64",
         "type": "float"
        },
        {
         "name": "ST326Q04JA",
         "rawType": "float64",
         "type": "float"
        },
        {
         "name": "ST326Q05JA",
         "rawType": "float64",
         "type": "float"
        },
        {
         "name": "ST326Q06JA",
         "rawType": "float64",
         "type": "float"
        },
        {
         "name": "ST326Q07JA",
         "rawType": "float64",
         "type": "float"
        },
        {
         "name": "ST326Q08JA",
         "rawType": "float64",
         "type": "float"
        },
        {
         "name": "ST326Q09JA",
         "rawType": "float64",
         "type": "float"
        },
        {
         "name": "ST326Q10JA",
         "rawType": "float64",
         "type": "float"
        },
        {
         "name": "ST326Q11JA",
         "rawType": "float64",
         "type": "float"
        },
        {
         "name": "ST326Q12JA",
         "rawType": "float64",
         "type": "float"
        },
        {
         "name": "ST322Q01JA",
         "rawType": "float64",
         "type": "float"
        },
        {
         "name": "ST322Q02JA",
         "rawType": "float64",
         "type": "float"
        },
        {
         "name": "ST322Q03JA",
         "rawType": "float64",
         "type": "float"
        },
        {
         "name": "ST322Q04JA",
         "rawType": "float64",
         "type": "float"
        },
        {
         "name": "ST322Q06JA",
         "rawType": "float64",
         "type": "float"
        },
        {
         "name": "ST322Q07JA",
         "rawType": "float64",
         "type": "float"
        },
        {
         "name": "ST307Q01JA",
         "rawType": "float64",
         "type": "float"
        },
        {
         "name": "ST307Q02JA",
         "rawType": "float64",
         "type": "float"
        },
        {
         "name": "ST307Q03JA",
         "rawType": "float64",
         "type": "float"
        },
        {
         "name": "ST307Q04JA",
         "rawType": "float64",
         "type": "float"
        },
        {
         "name": "ST307Q05JA",
         "rawType": "float64",
         "type": "float"
        },
        {
         "name": "ST307Q06JA",
         "rawType": "float64",
         "type": "float"
        },
        {
         "name": "ST307Q07JA",
         "rawType": "float64",
         "type": "float"
        },
        {
         "name": "ST307Q08JA",
         "rawType": "float64",
         "type": "float"
        },
        {
         "name": "ST307Q09JA",
         "rawType": "float64",
         "type": "float"
        },
        {
         "name": "ST307Q10JA",
         "rawType": "float64",
         "type": "float"
        },
        {
         "name": "ST309Q01JA",
         "rawType": "float64",
         "type": "float"
        },
        {
         "name": "ST309Q02JA",
         "rawType": "float64",
         "type": "float"
        },
        {
         "name": "ST309Q03JA",
         "rawType": "float64",
         "type": "float"
        },
        {
         "name": "ST309Q04JA",
         "rawType": "float64",
         "type": "float"
        },
        {
         "name": "ST309Q05JA",
         "rawType": "float64",
         "type": "float"
        },
        {
         "name": "ST309Q06JA",
         "rawType": "float64",
         "type": "float"
        },
        {
         "name": "ST309Q07JA",
         "rawType": "float64",
         "type": "float"
        },
        {
         "name": "ST309Q08JA",
         "rawType": "float64",
         "type": "float"
        },
        {
         "name": "ST309Q09JA",
         "rawType": "float64",
         "type": "float"
        },
        {
         "name": "ST309Q10JA",
         "rawType": "float64",
         "type": "float"
        },
        {
         "name": "ST301Q01JA",
         "rawType": "float64",
         "type": "float"
        },
        {
         "name": "ST301Q02JA",
         "rawType": "float64",
         "type": "float"
        },
        {
         "name": "ST301Q03JA",
         "rawType": "float64",
         "type": "float"
        },
        {
         "name": "ST301Q04JA",
         "rawType": "float64",
         "type": "float"
        },
        {
         "name": "ST301Q05JA",
         "rawType": "float64",
         "type": "float"
        },
        {
         "name": "ST301Q06JA",
         "rawType": "float64",
         "type": "float"
        },
        {
         "name": "ST301Q07JA",
         "rawType": "float64",
         "type": "float"
        },
        {
         "name": "ST301Q08JA",
         "rawType": "float64",
         "type": "float"
        },
        {
         "name": "ST301Q09JA",
         "rawType": "float64",
         "type": "float"
        },
        {
         "name": "ST301Q10JA",
         "rawType": "float64",
         "type": "float"
        },
        {
         "name": "ST343Q01JA",
         "rawType": "float64",
         "type": "float"
        },
        {
         "name": "ST343Q02JA",
         "rawType": "float64",
         "type": "float"
        },
        {
         "name": "ST343Q03JA",
         "rawType": "float64",
         "type": "float"
        },
        {
         "name": "ST343Q04JA",
         "rawType": "float64",
         "type": "float"
        },
        {
         "name": "ST343Q05JA",
         "rawType": "float64",
         "type": "float"
        },
        {
         "name": "ST343Q06JA",
         "rawType": "float64",
         "type": "float"
        },
        {
         "name": "ST343Q07JA",
         "rawType": "float64",
         "type": "float"
        },
        {
         "name": "ST343Q08JA",
         "rawType": "float64",
         "type": "float"
        },
        {
         "name": "ST343Q09JA",
         "rawType": "float64",
         "type": "float"
        },
        {
         "name": "ST343Q10JA",
         "rawType": "float64",
         "type": "float"
        },
        {
         "name": "ST311Q01JA",
         "rawType": "float64",
         "type": "float"
        },
        {
         "name": "ST311Q02JA",
         "rawType": "float64",
         "type": "float"
        },
        {
         "name": "ST311Q03JA",
         "rawType": "float64",
         "type": "float"
        },
        {
         "name": "ST311Q04JA",
         "rawType": "float64",
         "type": "float"
        },
        {
         "name": "ST311Q05JA",
         "rawType": "float64",
         "type": "float"
        },
        {
         "name": "ST311Q06JA",
         "rawType": "float64",
         "type": "float"
        },
        {
         "name": "ST311Q07JA",
         "rawType": "float64",
         "type": "float"
        },
        {
         "name": "ST311Q08JA",
         "rawType": "float64",
         "type": "float"
        },
        {
         "name": "ST311Q09JA",
         "rawType": "float64",
         "type": "float"
        },
        {
         "name": "ST311Q10JA",
         "rawType": "float64",
         "type": "float"
        },
        {
         "name": "ST315Q01JA",
         "rawType": "float64",
         "type": "float"
        },
        {
         "name": "ST315Q02JA",
         "rawType": "float64",
         "type": "float"
        },
        {
         "name": "ST315Q03JA",
         "rawType": "float64",
         "type": "float"
        },
        {
         "name": "ST315Q04JA",
         "rawType": "float64",
         "type": "float"
        },
        {
         "name": "ST315Q05JA",
         "rawType": "float64",
         "type": "float"
        },
        {
         "name": "ST315Q06JA",
         "rawType": "float64",
         "type": "float"
        },
        {
         "name": "ST315Q07JA",
         "rawType": "float64",
         "type": "float"
        },
        {
         "name": "ST315Q08JA",
         "rawType": "float64",
         "type": "float"
        },
        {
         "name": "ST315Q09JA",
         "rawType": "float64",
         "type": "float"
        },
        {
         "name": "ST315Q10JA",
         "rawType": "float64",
         "type": "float"
        },
        {
         "name": "ST303Q01JA",
         "rawType": "float64",
         "type": "float"
        },
        {
         "name": "ST303Q02JA",
         "rawType": "float64",
         "type": "float"
        },
        {
         "name": "ST303Q03JA",
         "rawType": "float64",
         "type": "float"
        },
        {
         "name": "ST303Q04JA",
         "rawType": "float64",
         "type": "float"
        },
        {
         "name": "ST303Q05JA",
         "rawType": "float64",
         "type": "float"
        },
        {
         "name": "ST303Q06JA",
         "rawType": "float64",
         "type": "float"
        },
        {
         "name": "ST303Q07JA",
         "rawType": "float64",
         "type": "float"
        },
        {
         "name": "ST303Q08JA",
         "rawType": "float64",
         "type": "float"
        },
        {
         "name": "ST305Q01JA",
         "rawType": "float64",
         "type": "float"
        },
        {
         "name": "ST305Q02JA",
         "rawType": "float64",
         "type": "float"
        },
        {
         "name": "ST305Q03JA",
         "rawType": "float64",
         "type": "float"
        },
        {
         "name": "ST305Q04JA",
         "rawType": "float64",
         "type": "float"
        },
        {
         "name": "ST305Q05JA",
         "rawType": "float64",
         "type": "float"
        },
        {
         "name": "ST305Q06JA",
         "rawType": "float64",
         "type": "float"
        },
        {
         "name": "ST305Q07JA",
         "rawType": "float64",
         "type": "float"
        },
        {
         "name": "ST305Q08JA",
         "rawType": "float64",
         "type": "float"
        },
        {
         "name": "ST305Q09JA",
         "rawType": "float64",
         "type": "float"
        },
        {
         "name": "ST305Q10JA",
         "rawType": "float64",
         "type": "float"
        },
        {
         "name": "ST345Q01JA",
         "rawType": "float64",
         "type": "float"
        },
        {
         "name": "ST345Q02JA",
         "rawType": "float64",
         "type": "float"
        },
        {
         "name": "ST345Q03JA",
         "rawType": "float64",
         "type": "float"
        },
        {
         "name": "ST345Q04JA",
         "rawType": "float64",
         "type": "float"
        },
        {
         "name": "ST345Q05JA",
         "rawType": "float64",
         "type": "float"
        },
        {
         "name": "ST345Q06JA",
         "rawType": "float64",
         "type": "float"
        },
        {
         "name": "ST345Q07JA",
         "rawType": "float64",
         "type": "float"
        },
        {
         "name": "ST345Q08JA",
         "rawType": "float64",
         "type": "float"
        },
        {
         "name": "ST345Q09JA",
         "rawType": "float64",
         "type": "float"
        },
        {
         "name": "ST345Q10JA",
         "rawType": "float64",
         "type": "float"
        },
        {
         "name": "ST313Q01JA",
         "rawType": "float64",
         "type": "float"
        },
        {
         "name": "ST313Q02JA",
         "rawType": "float64",
         "type": "float"
        },
        {
         "name": "ST313Q03JA",
         "rawType": "float64",
         "type": "float"
        },
        {
         "name": "ST313Q04JA",
         "rawType": "float64",
         "type": "float"
        },
        {
         "name": "ST313Q05JA",
         "rawType": "float64",
         "type": "float"
        },
        {
         "name": "ST313Q06JA",
         "rawType": "float64",
         "type": "float"
        },
        {
         "name": "ST313Q07JA",
         "rawType": "float64",
         "type": "float"
        },
        {
         "name": "ST313Q08JA",
         "rawType": "float64",
         "type": "float"
        },
        {
         "name": "ST313Q09JA",
         "rawType": "float64",
         "type": "float"
        },
        {
         "name": "ST313Q10JA",
         "rawType": "float64",
         "type": "float"
        },
        {
         "name": "ST263Q02JA",
         "rawType": "float64",
         "type": "float"
        },
        {
         "name": "ST263Q04JA",
         "rawType": "float64",
         "type": "float"
        },
        {
         "name": "ST263Q06JA",
         "rawType": "float64",
         "type": "float"
        },
        {
         "name": "ST263Q08JA",
         "rawType": "float64",
         "type": "float"
        },
        {
         "name": "ST016Q01NA",
         "rawType": "float64",
         "type": "float"
        },
        {
         "name": "ST059Q01TA",
         "rawType": "float64",
         "type": "float"
        },
        {
         "name": "ST059Q02JA",
         "rawType": "float64",
         "type": "float"
        },
        {
         "name": "ST296Q01JA",
         "rawType": "float64",
         "type": "float"
        },
        {
         "name": "ST296Q02JA",
         "rawType": "float64",
         "type": "float"
        },
        {
         "name": "ST296Q03JA",
         "rawType": "float64",
         "type": "float"
        },
        {
         "name": "ST296Q04JA",
         "rawType": "float64",
         "type": "float"
        },
        {
         "name": "ST272Q01JA",
         "rawType": "float64",
         "type": "float"
        },
        {
         "name": "ST273Q01JA",
         "rawType": "float64",
         "type": "float"
        },
        {
         "name": "ST273Q02JA",
         "rawType": "float64",
         "type": "float"
        },
        {
         "name": "ST273Q03JA",
         "rawType": "float64",
         "type": "float"
        },
        {
         "name": "ST273Q04JA",
         "rawType": "float64",
         "type": "float"
        },
        {
         "name": "ST273Q05JA",
         "rawType": "float64",
         "type": "float"
        },
        {
         "name": "ST273Q06JA",
         "rawType": "float64",
         "type": "float"
        },
        {
         "name": "ST273Q07JA",
         "rawType": "float64",
         "type": "float"
        },
        {
         "name": "ST270Q01JA",
         "rawType": "float64",
         "type": "float"
        },
        {
         "name": "ST270Q02JA",
         "rawType": "float64",
         "type": "float"
        },
        {
         "name": "ST270Q03JA",
         "rawType": "float64",
         "type": "float"
        },
        {
         "name": "ST270Q04JA",
         "rawType": "float64",
         "type": "float"
        },
        {
         "name": "ST285Q01JA",
         "rawType": "float64",
         "type": "float"
        },
        {
         "name": "ST285Q02JA",
         "rawType": "float64",
         "type": "float"
        },
        {
         "name": "ST285Q03JA",
         "rawType": "float64",
         "type": "float"
        },
        {
         "name": "ST285Q04JA",
         "rawType": "float64",
         "type": "float"
        },
        {
         "name": "ST285Q05JA",
         "rawType": "float64",
         "type": "float"
        },
        {
         "name": "ST285Q06JA",
         "rawType": "float64",
         "type": "float"
        },
        {
         "name": "ST285Q07JA",
         "rawType": "float64",
         "type": "float"
        },
        {
         "name": "ST285Q08JA",
         "rawType": "float64",
         "type": "float"
        },
        {
         "name": "ST285Q09JA",
         "rawType": "float64",
         "type": "float"
        },
        {
         "name": "ST283Q01JA",
         "rawType": "float64",
         "type": "float"
        },
        {
         "name": "ST283Q02JA",
         "rawType": "float64",
         "type": "float"
        },
        {
         "name": "ST283Q03JA",
         "rawType": "float64",
         "type": "float"
        },
        {
         "name": "ST283Q04JA",
         "rawType": "float64",
         "type": "float"
        },
        {
         "name": "ST283Q05JA",
         "rawType": "float64",
         "type": "float"
        },
        {
         "name": "ST283Q06JA",
         "rawType": "float64",
         "type": "float"
        },
        {
         "name": "ST283Q07JA",
         "rawType": "float64",
         "type": "float"
        },
        {
         "name": "ST283Q08JA",
         "rawType": "float64",
         "type": "float"
        },
        {
         "name": "ST283Q09JA",
         "rawType": "float64",
         "type": "float"
        },
        {
         "name": "ST275Q01WA",
         "rawType": "float64",
         "type": "float"
        },
        {
         "name": "ST275Q02WA",
         "rawType": "float64",
         "type": "float"
        },
        {
         "name": "ST275Q03WA",
         "rawType": "float64",
         "type": "float"
        },
        {
         "name": "ST275Q04WA",
         "rawType": "float64",
         "type": "float"
        },
        {
         "name": "ST275Q05WA",
         "rawType": "float64",
         "type": "float"
        },
        {
         "name": "ST275Q06WA",
         "rawType": "float64",
         "type": "float"
        },
        {
         "name": "ST275Q07WA",
         "rawType": "float64",
         "type": "float"
        },
        {
         "name": "ST275Q08WA",
         "rawType": "float64",
         "type": "float"
        },
        {
         "name": "ST275Q09WA",
         "rawType": "float64",
         "type": "float"
        },
        {
         "name": "ST276Q01JA",
         "rawType": "float64",
         "type": "float"
        },
        {
         "name": "ST276Q02JA",
         "rawType": "float64",
         "type": "float"
        },
        {
         "name": "ST276Q03JA",
         "rawType": "float64",
         "type": "float"
        },
        {
         "name": "ST276Q04JA",
         "rawType": "float64",
         "type": "float"
        },
        {
         "name": "ST276Q05JA",
         "rawType": "float64",
         "type": "float"
        },
        {
         "name": "ST276Q06JA",
         "rawType": "float64",
         "type": "float"
        },
        {
         "name": "ST276Q07JA",
         "rawType": "float64",
         "type": "float"
        },
        {
         "name": "ST276Q08JA",
         "rawType": "float64",
         "type": "float"
        },
        {
         "name": "ST276Q09JA",
         "rawType": "float64",
         "type": "float"
        },
        {
         "name": "ST276Q10JA",
         "rawType": "float64",
         "type": "float"
        },
        {
         "name": "ST268Q01JA",
         "rawType": "float64",
         "type": "float"
        },
        {
         "name": "ST268Q02JA",
         "rawType": "float64",
         "type": "float"
        },
        {
         "name": "ST268Q03JA",
         "rawType": "float64",
         "type": "float"
        },
        {
         "name": "ST268Q04JA",
         "rawType": "float64",
         "type": "float"
        },
        {
         "name": "ST268Q05JA",
         "rawType": "float64",
         "type": "float"
        },
        {
         "name": "ST268Q06JA",
         "rawType": "float64",
         "type": "float"
        },
        {
         "name": "ST268Q07JA",
         "rawType": "float64",
         "type": "float"
        },
        {
         "name": "ST268Q08JA",
         "rawType": "float64",
         "type": "float"
        },
        {
         "name": "ST268Q09JA",
         "rawType": "float64",
         "type": "float"
        },
        {
         "name": "ST290Q01WA",
         "rawType": "float64",
         "type": "float"
        },
        {
         "name": "ST290Q02WA",
         "rawType": "float64",
         "type": "float"
        },
        {
         "name": "ST290Q03WA",
         "rawType": "float64",
         "type": "float"
        },
        {
         "name": "ST290Q04WA",
         "rawType": "float64",
         "type": "float"
        },
        {
         "name": "ST290Q05WA",
         "rawType": "float64",
         "type": "float"
        },
        {
         "name": "ST290Q06WA",
         "rawType": "float64",
         "type": "float"
        },
        {
         "name": "ST290Q07WA",
         "rawType": "float64",
         "type": "float"
        },
        {
         "name": "ST290Q08WA",
         "rawType": "float64",
         "type": "float"
        },
        {
         "name": "ST290Q09WA",
         "rawType": "float64",
         "type": "float"
        },
        {
         "name": "ST291Q01JA",
         "rawType": "float64",
         "type": "float"
        },
        {
         "name": "ST291Q02JA",
         "rawType": "float64",
         "type": "float"
        },
        {
         "name": "ST291Q03JA",
         "rawType": "float64",
         "type": "float"
        },
        {
         "name": "ST291Q04JA",
         "rawType": "float64",
         "type": "float"
        },
        {
         "name": "ST291Q05JA",
         "rawType": "float64",
         "type": "float"
        },
        {
         "name": "ST291Q06JA",
         "rawType": "float64",
         "type": "float"
        },
        {
         "name": "ST291Q07JA",
         "rawType": "float64",
         "type": "float"
        },
        {
         "name": "ST291Q08JA",
         "rawType": "float64",
         "type": "float"
        },
        {
         "name": "ST291Q09JA",
         "rawType": "float64",
         "type": "float"
        },
        {
         "name": "ST291Q10JA",
         "rawType": "float64",
         "type": "float"
        },
        {
         "name": "ST289Q01WA",
         "rawType": "float64",
         "type": "float"
        },
        {
         "name": "ST289Q02JA",
         "rawType": "float64",
         "type": "float"
        },
        {
         "name": "ST289Q03WA",
         "rawType": "float64",
         "type": "float"
        },
        {
         "name": "ST289Q04JA",
         "rawType": "float64",
         "type": "float"
        },
        {
         "name": "ST289Q05WA",
         "rawType": "float64",
         "type": "float"
        },
        {
         "name": "ST289Q06JA",
         "rawType": "float64",
         "type": "float"
        },
        {
         "name": "ST289Q07JA",
         "rawType": "float64",
         "type": "float"
        },
        {
         "name": "ST289Q08WA",
         "rawType": "float64",
         "type": "float"
        },
        {
         "name": "ST289Q09WA",
         "rawType": "float64",
         "type": "float"
        },
        {
         "name": "ST289Q10WA",
         "rawType": "float64",
         "type": "float"
        },
        {
         "name": "ST289Q11WA",
         "rawType": "float64",
         "type": "float"
        },
        {
         "name": "ST289Q14JA",
         "rawType": "float64",
         "type": "float"
        },
        {
         "name": "ST293Q01JA",
         "rawType": "float64",
         "type": "float"
        },
        {
         "name": "ST293Q02JA",
         "rawType": "float64",
         "type": "float"
        },
        {
         "name": "ST293Q03JA",
         "rawType": "float64",
         "type": "float"
        },
        {
         "name": "ST293Q04JA",
         "rawType": "float64",
         "type": "float"
        },
        {
         "name": "ST293Q05JA",
         "rawType": "float64",
         "type": "float"
        },
        {
         "name": "ST293Q06JA",
         "rawType": "float64",
         "type": "float"
        },
        {
         "name": "ST293Q07JA",
         "rawType": "float64",
         "type": "float"
        },
        {
         "name": "ST293Q08JA",
         "rawType": "float64",
         "type": "float"
        },
        {
         "name": "ST293Q09JA",
         "rawType": "float64",
         "type": "float"
        },
        {
         "name": "ST292Q01JA",
         "rawType": "float64",
         "type": "float"
        },
        {
         "name": "ST292Q02JA",
         "rawType": "float64",
         "type": "float"
        },
        {
         "name": "ST292Q03JA",
         "rawType": "float64",
         "type": "float"
        },
        {
         "name": "ST292Q04JA",
         "rawType": "float64",
         "type": "float"
        },
        {
         "name": "ST292Q05JA",
         "rawType": "float64",
         "type": "float"
        },
        {
         "name": "ST292Q06JA",
         "rawType": "float64",
         "type": "float"
        },
        {
         "name": "ST297Q01JA",
         "rawType": "float64",
         "type": "float"
        },
        {
         "name": "ST297Q03JA",
         "rawType": "float64",
         "type": "float"
        },
        {
         "name": "ST297Q05JA",
         "rawType": "float64",
         "type": "float"
        },
        {
         "name": "ST297Q06JA",
         "rawType": "float64",
         "type": "float"
        },
        {
         "name": "ST297Q07JA",
         "rawType": "float64",
         "type": "float"
        },
        {
         "name": "ST297Q09JA",
         "rawType": "float64",
         "type": "float"
        },
        {
         "name": "ST334Q01JA",
         "rawType": "float64",
         "type": "float"
        },
        {
         "name": "ST334Q02JA",
         "rawType": "float64",
         "type": "float"
        },
        {
         "name": "ST334Q03JA",
         "rawType": "float64",
         "type": "float"
        },
        {
         "name": "ST334Q04JA",
         "rawType": "float64",
         "type": "float"
        },
        {
         "name": "ST334Q05JA",
         "rawType": "float64",
         "type": "float"
        },
        {
         "name": "ST334Q06JA",
         "rawType": "float64",
         "type": "float"
        },
        {
         "name": "ST334Q07JA",
         "rawType": "float64",
         "type": "float"
        },
        {
         "name": "ST334Q08JA",
         "rawType": "float64",
         "type": "float"
        },
        {
         "name": "ST334Q09JA",
         "rawType": "float64",
         "type": "float"
        },
        {
         "name": "ST334Q10JA",
         "rawType": "float64",
         "type": "float"
        },
        {
         "name": "ST335Q01JA",
         "rawType": "float64",
         "type": "float"
        },
        {
         "name": "ST335Q02JA",
         "rawType": "float64",
         "type": "float"
        },
        {
         "name": "ST335Q03JA",
         "rawType": "float64",
         "type": "float"
        },
        {
         "name": "ST335Q05JA",
         "rawType": "float64",
         "type": "float"
        },
        {
         "name": "ST335Q06JA",
         "rawType": "float64",
         "type": "float"
        },
        {
         "name": "ST335Q07JA",
         "rawType": "float64",
         "type": "float"
        },
        {
         "name": "ST336Q01JA",
         "rawType": "float64",
         "type": "float"
        },
        {
         "name": "ST336Q03JA",
         "rawType": "float64",
         "type": "float"
        },
        {
         "name": "ST336Q04JA",
         "rawType": "float64",
         "type": "float"
        },
        {
         "name": "ST336Q05JA",
         "rawType": "float64",
         "type": "float"
        },
        {
         "name": "ST336Q06JA",
         "rawType": "float64",
         "type": "float"
        },
        {
         "name": "ST336Q07JA",
         "rawType": "float64",
         "type": "float"
        },
        {
         "name": "ST337Q01JA",
         "rawType": "float64",
         "type": "float"
        },
        {
         "name": "ST337Q02JA",
         "rawType": "float64",
         "type": "float"
        },
        {
         "name": "ST337Q03JA",
         "rawType": "float64",
         "type": "float"
        },
        {
         "name": "ST337Q04JA",
         "rawType": "float64",
         "type": "float"
        },
        {
         "name": "ST337Q05JA",
         "rawType": "float64",
         "type": "float"
        },
        {
         "name": "ST337Q06JA",
         "rawType": "float64",
         "type": "float"
        },
        {
         "name": "ST337Q07JA",
         "rawType": "float64",
         "type": "float"
        },
        {
         "name": "ST337Q08JA",
         "rawType": "float64",
         "type": "float"
        },
        {
         "name": "ST338Q01JA",
         "rawType": "float64",
         "type": "float"
        },
        {
         "name": "ST338Q02JA",
         "rawType": "float64",
         "type": "float"
        },
        {
         "name": "ST338Q03JA",
         "rawType": "float64",
         "type": "float"
        },
        {
         "name": "ST338Q04JA",
         "rawType": "float64",
         "type": "float"
        },
        {
         "name": "ST338Q05JA",
         "rawType": "float64",
         "type": "float"
        },
        {
         "name": "ST338Q06JA",
         "rawType": "float64",
         "type": "float"
        },
        {
         "name": "ST338Q07JA",
         "rawType": "float64",
         "type": "float"
        },
        {
         "name": "ST338Q08JA",
         "rawType": "float64",
         "type": "float"
        },
        {
         "name": "ST339Q04JA",
         "rawType": "float64",
         "type": "float"
        },
        {
         "name": "ST339Q06JA",
         "rawType": "float64",
         "type": "float"
        },
        {
         "name": "ST340Q01JA",
         "rawType": "float64",
         "type": "float"
        },
        {
         "name": "ST340Q02JA",
         "rawType": "float64",
         "type": "float"
        },
        {
         "name": "ST340Q03JA",
         "rawType": "float64",
         "type": "float"
        },
        {
         "name": "ST340Q04JA",
         "rawType": "float64",
         "type": "float"
        },
        {
         "name": "ST340Q05JA",
         "rawType": "float64",
         "type": "float"
        },
        {
         "name": "ST340Q06JA",
         "rawType": "float64",
         "type": "float"
        },
        {
         "name": "ST340Q07JA",
         "rawType": "float64",
         "type": "float"
        },
        {
         "name": "ST340Q08JA",
         "rawType": "float64",
         "type": "float"
        },
        {
         "name": "ST340Q09JA",
         "rawType": "float64",
         "type": "float"
        },
        {
         "name": "ST340Q10JA",
         "rawType": "float64",
         "type": "float"
        },
        {
         "name": "ST341Q01JA",
         "rawType": "float64",
         "type": "float"
        },
        {
         "name": "ST341Q02JA",
         "rawType": "float64",
         "type": "float"
        },
        {
         "name": "ST341Q03JA",
         "rawType": "float64",
         "type": "float"
        },
        {
         "name": "ST341Q04JA",
         "rawType": "float64",
         "type": "float"
        },
        {
         "name": "ST341Q05JA",
         "rawType": "float64",
         "type": "float"
        },
        {
         "name": "ST342Q01JA",
         "rawType": "float64",
         "type": "float"
        },
        {
         "name": "ST342Q02JA",
         "rawType": "float64",
         "type": "float"
        },
        {
         "name": "ST342Q03JA",
         "rawType": "float64",
         "type": "float"
        },
        {
         "name": "ST342Q04JA",
         "rawType": "float64",
         "type": "float"
        },
        {
         "name": "ST342Q06JA",
         "rawType": "float64",
         "type": "float"
        },
        {
         "name": "ST342Q07JA",
         "rawType": "float64",
         "type": "float"
        },
        {
         "name": "ST342Q08JA",
         "rawType": "float64",
         "type": "float"
        },
        {
         "name": "ST300Q01JA",
         "rawType": "float64",
         "type": "float"
        },
        {
         "name": "ST300Q02JA",
         "rawType": "float64",
         "type": "float"
        },
        {
         "name": "ST300Q03JA",
         "rawType": "float64",
         "type": "float"
        },
        {
         "name": "ST300Q04JA",
         "rawType": "float64",
         "type": "float"
        },
        {
         "name": "ST300Q05JA",
         "rawType": "float64",
         "type": "float"
        },
        {
         "name": "ST300Q06JA",
         "rawType": "float64",
         "type": "float"
        },
        {
         "name": "ST300Q07JA",
         "rawType": "float64",
         "type": "float"
        },
        {
         "name": "ST300Q08JA",
         "rawType": "float64",
         "type": "float"
        },
        {
         "name": "ST300Q09JA",
         "rawType": "float64",
         "type": "float"
        },
        {
         "name": "ST300Q10JA",
         "rawType": "float64",
         "type": "float"
        },
        {
         "name": "ST327Q01JA",
         "rawType": "float64",
         "type": "float"
        },
        {
         "name": "ST327Q02JA",
         "rawType": "float64",
         "type": "float"
        },
        {
         "name": "ST327Q03JA",
         "rawType": "float64",
         "type": "float"
        },
        {
         "name": "ST327Q04JA",
         "rawType": "float64",
         "type": "float"
        },
        {
         "name": "ST327Q05JA",
         "rawType": "float64",
         "type": "float"
        },
        {
         "name": "ST327Q06JA",
         "rawType": "float64",
         "type": "float"
        },
        {
         "name": "ST327Q07JA",
         "rawType": "float64",
         "type": "float"
        },
        {
         "name": "ST327Q08JA",
         "rawType": "float64",
         "type": "float"
        },
        {
         "name": "ST330Q01WA",
         "rawType": "float64",
         "type": "float"
        },
        {
         "name": "ST330Q02WA",
         "rawType": "float64",
         "type": "float"
        },
        {
         "name": "ST330Q03WA",
         "rawType": "float64",
         "type": "float"
        },
        {
         "name": "ST330Q04WA",
         "rawType": "float64",
         "type": "float"
        },
        {
         "name": "ST330Q05WA",
         "rawType": "float64",
         "type": "float"
        },
        {
         "name": "ST330Q06WA",
         "rawType": "float64",
         "type": "float"
        },
        {
         "name": "ST330Q07WA",
         "rawType": "float64",
         "type": "float"
        },
        {
         "name": "ST330Q08WA",
         "rawType": "float64",
         "type": "float"
        },
        {
         "name": "ST330Q09WA",
         "rawType": "float64",
         "type": "float"
        },
        {
         "name": "ST330Q11WA",
         "rawType": "float64",
         "type": "float"
        },
        {
         "name": "ST330D10WA",
         "rawType": "object",
         "type": "string"
        },
        {
         "name": "ST324Q02JA",
         "rawType": "float64",
         "type": "float"
        },
        {
         "name": "ST324Q04JA",
         "rawType": "float64",
         "type": "float"
        },
        {
         "name": "ST324Q05JA",
         "rawType": "float64",
         "type": "float"
        },
        {
         "name": "ST324Q07JA",
         "rawType": "float64",
         "type": "float"
        },
        {
         "name": "ST324Q10JA",
         "rawType": "float64",
         "type": "float"
        },
        {
         "name": "ST324Q11JA",
         "rawType": "float64",
         "type": "float"
        },
        {
         "name": "ST324Q12JA",
         "rawType": "float64",
         "type": "float"
        },
        {
         "name": "ST324Q13JA",
         "rawType": "float64",
         "type": "float"
        },
        {
         "name": "ST324Q14JA",
         "rawType": "float64",
         "type": "float"
        },
        {
         "name": "ST347Q01JA",
         "rawType": "float64",
         "type": "float"
        },
        {
         "name": "ST347Q02JA",
         "rawType": "float64",
         "type": "float"
        },
        {
         "name": "ST348Q01JA",
         "rawType": "float64",
         "type": "float"
        },
        {
         "name": "ST348Q02JA",
         "rawType": "float64",
         "type": "float"
        },
        {
         "name": "ST348Q03JA",
         "rawType": "float64",
         "type": "float"
        },
        {
         "name": "ST348Q04JA",
         "rawType": "float64",
         "type": "float"
        },
        {
         "name": "ST348Q05JA",
         "rawType": "float64",
         "type": "float"
        },
        {
         "name": "ST348Q06JA",
         "rawType": "float64",
         "type": "float"
        },
        {
         "name": "ST348Q07JA",
         "rawType": "float64",
         "type": "float"
        },
        {
         "name": "ST348Q08JA",
         "rawType": "float64",
         "type": "float"
        },
        {
         "name": "ST349Q01JA",
         "rawType": "float64",
         "type": "float"
        },
        {
         "name": "ST350Q01JA",
         "rawType": "float64",
         "type": "float"
        },
        {
         "name": "ST351Q01JA",
         "rawType": "float64",
         "type": "float"
        },
        {
         "name": "ST351Q02JA",
         "rawType": "float64",
         "type": "float"
        },
        {
         "name": "ST351Q03JA",
         "rawType": "float64",
         "type": "float"
        },
        {
         "name": "ST351Q04JA",
         "rawType": "float64",
         "type": "float"
        },
        {
         "name": "ST351Q05JA",
         "rawType": "float64",
         "type": "float"
        },
        {
         "name": "ST351Q06JA",
         "rawType": "float64",
         "type": "float"
        },
        {
         "name": "ST351Q07JA",
         "rawType": "float64",
         "type": "float"
        },
        {
         "name": "ST351Q08JA",
         "rawType": "float64",
         "type": "float"
        },
        {
         "name": "ST352Q01JA",
         "rawType": "float64",
         "type": "float"
        },
        {
         "name": "ST352Q02JA",
         "rawType": "float64",
         "type": "float"
        },
        {
         "name": "ST352Q03JA",
         "rawType": "float64",
         "type": "float"
        },
        {
         "name": "ST352Q04JA",
         "rawType": "float64",
         "type": "float"
        },
        {
         "name": "ST352Q05JA",
         "rawType": "float64",
         "type": "float"
        },
        {
         "name": "ST352Q06JA",
         "rawType": "float64",
         "type": "float"
        },
        {
         "name": "ST352Q07JA",
         "rawType": "float64",
         "type": "float"
        },
        {
         "name": "ST352Q08JA",
         "rawType": "float64",
         "type": "float"
        },
        {
         "name": "ST353Q01JA",
         "rawType": "float64",
         "type": "float"
        },
        {
         "name": "ST353Q02JA",
         "rawType": "float64",
         "type": "float"
        },
        {
         "name": "ST353Q03JA",
         "rawType": "float64",
         "type": "float"
        },
        {
         "name": "ST353Q04JA",
         "rawType": "float64",
         "type": "float"
        },
        {
         "name": "ST353Q05JA",
         "rawType": "float64",
         "type": "float"
        },
        {
         "name": "ST353Q06JA",
         "rawType": "float64",
         "type": "float"
        },
        {
         "name": "ST353Q07JA",
         "rawType": "float64",
         "type": "float"
        },
        {
         "name": "ST353Q08JA",
         "rawType": "float64",
         "type": "float"
        },
        {
         "name": "ST354Q01JA",
         "rawType": "float64",
         "type": "float"
        },
        {
         "name": "ST354Q02JA",
         "rawType": "float64",
         "type": "float"
        },
        {
         "name": "ST354Q03JA",
         "rawType": "float64",
         "type": "float"
        },
        {
         "name": "ST354Q04JA",
         "rawType": "float64",
         "type": "float"
        },
        {
         "name": "ST354Q05JA",
         "rawType": "float64",
         "type": "float"
        },
        {
         "name": "ST354Q06JA",
         "rawType": "float64",
         "type": "float"
        },
        {
         "name": "ST354Q07JA",
         "rawType": "float64",
         "type": "float"
        },
        {
         "name": "ST354Q08JA",
         "rawType": "float64",
         "type": "float"
        },
        {
         "name": "ST354Q09JA",
         "rawType": "float64",
         "type": "float"
        },
        {
         "name": "ST354Q10JA",
         "rawType": "float64",
         "type": "float"
        },
        {
         "name": "ST355Q01JA",
         "rawType": "float64",
         "type": "float"
        },
        {
         "name": "ST355Q02JA",
         "rawType": "float64",
         "type": "float"
        },
        {
         "name": "ST355Q03JA",
         "rawType": "float64",
         "type": "float"
        },
        {
         "name": "ST355Q04JA",
         "rawType": "float64",
         "type": "float"
        },
        {
         "name": "ST355Q05JA",
         "rawType": "float64",
         "type": "float"
        },
        {
         "name": "ST355Q06JA",
         "rawType": "float64",
         "type": "float"
        },
        {
         "name": "ST355Q07JA",
         "rawType": "float64",
         "type": "float"
        },
        {
         "name": "ST355Q08JA",
         "rawType": "float64",
         "type": "float"
        },
        {
         "name": "ST356Q01JA",
         "rawType": "float64",
         "type": "float"
        },
        {
         "name": "ST331Q01JA",
         "rawType": "float64",
         "type": "float"
        },
        {
         "name": "ST331Q02JA",
         "rawType": "float64",
         "type": "float"
        },
        {
         "name": "ST331Q03JA",
         "rawType": "float64",
         "type": "float"
        },
        {
         "name": "FL150Q01TA",
         "rawType": "float64",
         "type": "float"
        },
        {
         "name": "FL150Q02TA",
         "rawType": "float64",
         "type": "float"
        },
        {
         "name": "FL150Q03TA",
         "rawType": "float64",
         "type": "float"
        },
        {
         "name": "FL164Q01HA",
         "rawType": "float64",
         "type": "float"
        },
        {
         "name": "FL164Q02HA",
         "rawType": "float64",
         "type": "float"
        },
        {
         "name": "FL164Q03HA",
         "rawType": "float64",
         "type": "float"
        },
        {
         "name": "FL164Q04HA",
         "rawType": "float64",
         "type": "float"
        },
        {
         "name": "FL164Q05HA",
         "rawType": "float64",
         "type": "float"
        },
        {
         "name": "FL164Q06HA",
         "rawType": "float64",
         "type": "float"
        },
        {
         "name": "FL164Q07HA",
         "rawType": "float64",
         "type": "float"
        },
        {
         "name": "FL164Q08HA",
         "rawType": "float64",
         "type": "float"
        },
        {
         "name": "FL164Q09HA",
         "rawType": "float64",
         "type": "float"
        },
        {
         "name": "FL164Q10HA",
         "rawType": "float64",
         "type": "float"
        },
        {
         "name": "FL164Q11HA",
         "rawType": "float64",
         "type": "float"
        },
        {
         "name": "FL164Q12HA",
         "rawType": "float64",
         "type": "float"
        },
        {
         "name": "FL164Q13HA",
         "rawType": "float64",
         "type": "float"
        },
        {
         "name": "FL164Q14HA",
         "rawType": "float64",
         "type": "float"
        },
        {
         "name": "FL164Q15HA",
         "rawType": "float64",
         "type": "float"
        },
        {
         "name": "FL164Q16HA",
         "rawType": "float64",
         "type": "float"
        },
        {
         "name": "FL166Q01HA",
         "rawType": "float64",
         "type": "float"
        },
        {
         "name": "FL166Q02HA",
         "rawType": "float64",
         "type": "float"
        },
        {
         "name": "FL166Q03HA",
         "rawType": "float64",
         "type": "float"
        },
        {
         "name": "FL166Q05HA",
         "rawType": "float64",
         "type": "float"
        },
        {
         "name": "FL166Q06HA",
         "rawType": "float64",
         "type": "float"
        },
        {
         "name": "FL166Q07HA",
         "rawType": "float64",
         "type": "float"
        },
        {
         "name": "FL174Q01JA",
         "rawType": "float64",
         "type": "float"
        },
        {
         "name": "FL174Q02JA",
         "rawType": "float64",
         "type": "float"
        },
        {
         "name": "FL174Q03JA",
         "rawType": "float64",
         "type": "float"
        },
        {
         "name": "FL174Q04JA",
         "rawType": "float64",
         "type": "float"
        },
        {
         "name": "FL174Q05JA",
         "rawType": "float64",
         "type": "float"
        },
        {
         "name": "FL174Q06JA",
         "rawType": "float64",
         "type": "float"
        },
        {
         "name": "FL174Q07JA",
         "rawType": "float64",
         "type": "float"
        },
        {
         "name": "FL167Q01HA",
         "rawType": "float64",
         "type": "float"
        },
        {
         "name": "FL167Q02HA",
         "rawType": "float64",
         "type": "float"
        },
        {
         "name": "FL167Q06JA",
         "rawType": "float64",
         "type": "float"
        },
        {
         "name": "FL167Q03HA",
         "rawType": "float64",
         "type": "float"
        },
        {
         "name": "FL167Q04HA",
         "rawType": "float64",
         "type": "float"
        },
        {
         "name": "FL167Q05HA",
         "rawType": "float64",
         "type": "float"
        },
        {
         "name": "FL167Q07JA",
         "rawType": "float64",
         "type": "float"
        },
        {
         "name": "FL170Q01JA",
         "rawType": "float64",
         "type": "float"
        },
        {
         "name": "FL170Q02JA",
         "rawType": "float64",
         "type": "float"
        },
        {
         "name": "FL170Q03JA",
         "rawType": "float64",
         "type": "float"
        },
        {
         "name": "FL170Q04JA",
         "rawType": "float64",
         "type": "float"
        },
        {
         "name": "FL170Q05JA",
         "rawType": "float64",
         "type": "float"
        },
        {
         "name": "FL170Q06JA",
         "rawType": "float64",
         "type": "float"
        },
        {
         "name": "FL170Q07JA",
         "rawType": "float64",
         "type": "float"
        },
        {
         "name": "FL159Q01HA",
         "rawType": "float64",
         "type": "float"
        },
        {
         "name": "FL159Q02HA",
         "rawType": "float64",
         "type": "float"
        },
        {
         "name": "FL159Q03HA",
         "rawType": "float64",
         "type": "float"
        },
        {
         "name": "FL159Q04HA",
         "rawType": "float64",
         "type": "float"
        },
        {
         "name": "FL160Q01HA",
         "rawType": "float64",
         "type": "float"
        },
        {
         "name": "FL160Q02HA",
         "rawType": "float64",
         "type": "float"
        },
        {
         "name": "FL160Q03HA",
         "rawType": "float64",
         "type": "float"
        },
        {
         "name": "FL160Q04HA",
         "rawType": "float64",
         "type": "float"
        },
        {
         "name": "FL161Q01HA",
         "rawType": "float64",
         "type": "float"
        },
        {
         "name": "FL161Q02HA",
         "rawType": "float64",
         "type": "float"
        },
        {
         "name": "FL161Q03HA",
         "rawType": "float64",
         "type": "float"
        },
        {
         "name": "FL162Q01HA",
         "rawType": "float64",
         "type": "float"
        },
        {
         "name": "FL162Q02HA",
         "rawType": "float64",
         "type": "float"
        },
        {
         "name": "FL162Q03HA",
         "rawType": "float64",
         "type": "float"
        },
        {
         "name": "FL162Q04HA",
         "rawType": "float64",
         "type": "float"
        },
        {
         "name": "FL162Q05HA",
         "rawType": "float64",
         "type": "float"
        },
        {
         "name": "FL162Q06HA",
         "rawType": "float64",
         "type": "float"
        },
        {
         "name": "FL163Q01HA",
         "rawType": "float64",
         "type": "float"
        },
        {
         "name": "FL163Q02HA",
         "rawType": "float64",
         "type": "float"
        },
        {
         "name": "FL163Q03HA",
         "rawType": "float64",
         "type": "float"
        },
        {
         "name": "FL163Q04HA",
         "rawType": "float64",
         "type": "float"
        },
        {
         "name": "FL163Q05HA",
         "rawType": "float64",
         "type": "float"
        },
        {
         "name": "FL171Q01JA",
         "rawType": "float64",
         "type": "float"
        },
        {
         "name": "FL171Q02JA",
         "rawType": "float64",
         "type": "float"
        },
        {
         "name": "FL171Q03JA",
         "rawType": "float64",
         "type": "float"
        },
        {
         "name": "FL171Q04JA",
         "rawType": "float64",
         "type": "float"
        },
        {
         "name": "FL171Q05JA",
         "rawType": "float64",
         "type": "float"
        },
        {
         "name": "FL171Q07JA",
         "rawType": "float64",
         "type": "float"
        },
        {
         "name": "FL171Q08JA",
         "rawType": "float64",
         "type": "float"
        },
        {
         "name": "FL171Q09JA",
         "rawType": "float64",
         "type": "float"
        },
        {
         "name": "FL171Q10JA",
         "rawType": "float64",
         "type": "float"
        },
        {
         "name": "FL171Q11JA",
         "rawType": "float64",
         "type": "float"
        },
        {
         "name": "FL171Q12JA",
         "rawType": "float64",
         "type": "float"
        },
        {
         "name": "FL169Q01HA",
         "rawType": "float64",
         "type": "float"
        },
        {
         "name": "FL169Q05JA",
         "rawType": "float64",
         "type": "float"
        },
        {
         "name": "FL169Q02HA",
         "rawType": "float64",
         "type": "float"
        },
        {
         "name": "FL169Q06JA",
         "rawType": "float64",
         "type": "float"
        },
        {
         "name": "FL169Q07JA",
         "rawType": "float64",
         "type": "float"
        },
        {
         "name": "FL169Q03HA",
         "rawType": "float64",
         "type": "float"
        },
        {
         "name": "FL169Q04HA",
         "rawType": "float64",
         "type": "float"
        },
        {
         "name": "FL169Q08JA",
         "rawType": "float64",
         "type": "float"
        },
        {
         "name": "FL169Q10JA",
         "rawType": "float64",
         "type": "float"
        },
        {
         "name": "FL169Q11JA",
         "rawType": "float64",
         "type": "float"
        },
        {
         "name": "FL172Q01JA",
         "rawType": "float64",
         "type": "float"
        },
        {
         "name": "FL172Q03JA",
         "rawType": "float64",
         "type": "float"
        },
        {
         "name": "FL172Q05JA",
         "rawType": "float64",
         "type": "float"
        },
        {
         "name": "FL172Q06JA",
         "rawType": "float64",
         "type": "float"
        },
        {
         "name": "IC170Q01JA",
         "rawType": "float64",
         "type": "float"
        },
        {
         "name": "IC170Q02JA",
         "rawType": "float64",
         "type": "float"
        },
        {
         "name": "IC170Q03JA",
         "rawType": "float64",
         "type": "float"
        },
        {
         "name": "IC170Q04JA",
         "rawType": "float64",
         "type": "float"
        },
        {
         "name": "IC170Q05JA",
         "rawType": "float64",
         "type": "float"
        },
        {
         "name": "IC170Q06JA",
         "rawType": "float64",
         "type": "float"
        },
        {
         "name": "IC170Q07JA",
         "rawType": "float64",
         "type": "float"
        },
        {
         "name": "IC171Q01JA",
         "rawType": "float64",
         "type": "float"
        },
        {
         "name": "IC171Q02JA",
         "rawType": "float64",
         "type": "float"
        },
        {
         "name": "IC171Q03JA",
         "rawType": "float64",
         "type": "float"
        },
        {
         "name": "IC171Q04JA",
         "rawType": "float64",
         "type": "float"
        },
        {
         "name": "IC171Q05JA",
         "rawType": "float64",
         "type": "float"
        },
        {
         "name": "IC171Q06JA",
         "rawType": "float64",
         "type": "float"
        },
        {
         "name": "IC172Q01JA",
         "rawType": "float64",
         "type": "float"
        },
        {
         "name": "IC172Q02JA",
         "rawType": "float64",
         "type": "float"
        },
        {
         "name": "IC172Q03JA",
         "rawType": "float64",
         "type": "float"
        },
        {
         "name": "IC172Q04JA",
         "rawType": "float64",
         "type": "float"
        },
        {
         "name": "IC172Q05JA",
         "rawType": "float64",
         "type": "float"
        },
        {
         "name": "IC172Q06JA",
         "rawType": "float64",
         "type": "float"
        },
        {
         "name": "IC172Q07JA",
         "rawType": "float64",
         "type": "float"
        },
        {
         "name": "IC172Q08JA",
         "rawType": "float64",
         "type": "float"
        },
        {
         "name": "IC172Q09JA",
         "rawType": "float64",
         "type": "float"
        },
        {
         "name": "IC173Q01JA",
         "rawType": "float64",
         "type": "float"
        },
        {
         "name": "IC173Q02JA",
         "rawType": "float64",
         "type": "float"
        },
        {
         "name": "IC173Q03JA",
         "rawType": "float64",
         "type": "float"
        },
        {
         "name": "IC173Q04JA",
         "rawType": "float64",
         "type": "float"
        },
        {
         "name": "IC174Q01JA",
         "rawType": "float64",
         "type": "float"
        },
        {
         "name": "IC174Q02JA",
         "rawType": "float64",
         "type": "float"
        },
        {
         "name": "IC174Q03JA",
         "rawType": "float64",
         "type": "float"
        },
        {
         "name": "IC174Q04JA",
         "rawType": "float64",
         "type": "float"
        },
        {
         "name": "IC174Q05JA",
         "rawType": "float64",
         "type": "float"
        },
        {
         "name": "IC174Q06JA",
         "rawType": "float64",
         "type": "float"
        },
        {
         "name": "IC174Q07JA",
         "rawType": "float64",
         "type": "float"
        },
        {
         "name": "IC174Q08JA",
         "rawType": "float64",
         "type": "float"
        },
        {
         "name": "IC174Q09JA",
         "rawType": "float64",
         "type": "float"
        },
        {
         "name": "IC174Q10JA",
         "rawType": "float64",
         "type": "float"
        },
        {
         "name": "IC175Q01JA",
         "rawType": "float64",
         "type": "float"
        },
        {
         "name": "IC175Q02JA",
         "rawType": "float64",
         "type": "float"
        },
        {
         "name": "IC175Q03JA",
         "rawType": "float64",
         "type": "float"
        },
        {
         "name": "IC175Q05JA",
         "rawType": "float64",
         "type": "float"
        },
        {
         "name": "IC176Q01JA",
         "rawType": "float64",
         "type": "float"
        },
        {
         "name": "IC176Q02JA",
         "rawType": "float64",
         "type": "float"
        },
        {
         "name": "IC176Q03JA",
         "rawType": "float64",
         "type": "float"
        },
        {
         "name": "IC176Q04JA",
         "rawType": "float64",
         "type": "float"
        },
        {
         "name": "IC176Q05JA",
         "rawType": "float64",
         "type": "float"
        },
        {
         "name": "IC176Q06JA",
         "rawType": "float64",
         "type": "float"
        },
        {
         "name": "IC176Q07JA",
         "rawType": "float64",
         "type": "float"
        },
        {
         "name": "IC176Q08JA",
         "rawType": "float64",
         "type": "float"
        },
        {
         "name": "IC184Q01JA",
         "rawType": "float64",
         "type": "float"
        },
        {
         "name": "IC184Q02JA",
         "rawType": "float64",
         "type": "float"
        },
        {
         "name": "IC184Q03JA",
         "rawType": "float64",
         "type": "float"
        },
        {
         "name": "IC184Q04JA",
         "rawType": "float64",
         "type": "float"
        },
        {
         "name": "IC177Q01JA",
         "rawType": "float64",
         "type": "float"
        },
        {
         "name": "IC177Q02JA",
         "rawType": "float64",
         "type": "float"
        },
        {
         "name": "IC177Q03JA",
         "rawType": "float64",
         "type": "float"
        },
        {
         "name": "IC177Q04JA",
         "rawType": "float64",
         "type": "float"
        },
        {
         "name": "IC177Q05JA",
         "rawType": "float64",
         "type": "float"
        },
        {
         "name": "IC177Q06JA",
         "rawType": "float64",
         "type": "float"
        },
        {
         "name": "IC177Q07JA",
         "rawType": "float64",
         "type": "float"
        },
        {
         "name": "IC178Q01JA",
         "rawType": "float64",
         "type": "float"
        },
        {
         "name": "IC178Q02JA",
         "rawType": "float64",
         "type": "float"
        },
        {
         "name": "IC178Q03JA",
         "rawType": "float64",
         "type": "float"
        },
        {
         "name": "IC178Q04JA",
         "rawType": "float64",
         "type": "float"
        },
        {
         "name": "IC178Q05JA",
         "rawType": "float64",
         "type": "float"
        },
        {
         "name": "IC178Q06JA",
         "rawType": "float64",
         "type": "float"
        },
        {
         "name": "IC178Q07JA",
         "rawType": "float64",
         "type": "float"
        },
        {
         "name": "IC179Q01JA",
         "rawType": "float64",
         "type": "float"
        },
        {
         "name": "IC179Q02JA",
         "rawType": "float64",
         "type": "float"
        },
        {
         "name": "IC179Q03JA",
         "rawType": "float64",
         "type": "float"
        },
        {
         "name": "IC179Q04JA",
         "rawType": "float64",
         "type": "float"
        },
        {
         "name": "IC179Q05JA",
         "rawType": "float64",
         "type": "float"
        },
        {
         "name": "IC179Q06JA",
         "rawType": "float64",
         "type": "float"
        },
        {
         "name": "IC180Q01JA",
         "rawType": "float64",
         "type": "float"
        },
        {
         "name": "IC180Q02JA",
         "rawType": "float64",
         "type": "float"
        },
        {
         "name": "IC180Q03JA",
         "rawType": "float64",
         "type": "float"
        },
        {
         "name": "IC180Q04JA",
         "rawType": "float64",
         "type": "float"
        },
        {
         "name": "IC180Q05JA",
         "rawType": "float64",
         "type": "float"
        },
        {
         "name": "IC180Q06JA",
         "rawType": "float64",
         "type": "float"
        },
        {
         "name": "IC180Q07JA",
         "rawType": "float64",
         "type": "float"
        },
        {
         "name": "IC180Q08JA",
         "rawType": "float64",
         "type": "float"
        },
        {
         "name": "IC181Q01JA",
         "rawType": "float64",
         "type": "float"
        },
        {
         "name": "IC181Q02JA",
         "rawType": "float64",
         "type": "float"
        },
        {
         "name": "IC181Q03JA",
         "rawType": "float64",
         "type": "float"
        },
        {
         "name": "IC181Q04JA",
         "rawType": "float64",
         "type": "float"
        },
        {
         "name": "IC182Q01JA",
         "rawType": "float64",
         "type": "float"
        },
        {
         "name": "IC182Q02JA",
         "rawType": "float64",
         "type": "float"
        },
        {
         "name": "IC182Q03JA",
         "rawType": "float64",
         "type": "float"
        },
        {
         "name": "IC183Q01JA",
         "rawType": "float64",
         "type": "float"
        },
        {
         "name": "IC183Q02JA",
         "rawType": "float64",
         "type": "float"
        },
        {
         "name": "IC183Q03JA",
         "rawType": "float64",
         "type": "float"
        },
        {
         "name": "IC183Q04JA",
         "rawType": "float64",
         "type": "float"
        },
        {
         "name": "IC183Q05JA",
         "rawType": "float64",
         "type": "float"
        },
        {
         "name": "IC183Q07JA",
         "rawType": "float64",
         "type": "float"
        },
        {
         "name": "IC183Q08JA",
         "rawType": "float64",
         "type": "float"
        },
        {
         "name": "IC183Q09JA",
         "rawType": "float64",
         "type": "float"
        },
        {
         "name": "IC183Q10JA",
         "rawType": "float64",
         "type": "float"
        },
        {
         "name": "IC183Q12JA",
         "rawType": "float64",
         "type": "float"
        },
        {
         "name": "IC183Q13JA",
         "rawType": "float64",
         "type": "float"
        },
        {
         "name": "IC183Q14JA",
         "rawType": "float64",
         "type": "float"
        },
        {
         "name": "IC183Q15JA",
         "rawType": "float64",
         "type": "float"
        },
        {
         "name": "IC183Q16JA",
         "rawType": "float64",
         "type": "float"
        },
        {
         "name": "WB150Q01HA",
         "rawType": "float64",
         "type": "float"
        },
        {
         "name": "WB151Q01HA",
         "rawType": "float64",
         "type": "float"
        },
        {
         "name": "WB152Q01HA",
         "rawType": "float64",
         "type": "float"
        },
        {
         "name": "WB153Q01HA",
         "rawType": "float64",
         "type": "float"
        },
        {
         "name": "WB153Q02HA",
         "rawType": "float64",
         "type": "float"
        },
        {
         "name": "WB153Q03HA",
         "rawType": "float64",
         "type": "float"
        },
        {
         "name": "WB153Q04HA",
         "rawType": "float64",
         "type": "float"
        },
        {
         "name": "WB153Q05HA",
         "rawType": "float64",
         "type": "float"
        },
        {
         "name": "WB154Q01HA",
         "rawType": "float64",
         "type": "float"
        },
        {
         "name": "WB154Q02HA",
         "rawType": "float64",
         "type": "float"
        },
        {
         "name": "WB154Q03HA",
         "rawType": "float64",
         "type": "float"
        },
        {
         "name": "WB154Q04HA",
         "rawType": "float64",
         "type": "float"
        },
        {
         "name": "WB154Q05HA",
         "rawType": "float64",
         "type": "float"
        },
        {
         "name": "WB154Q06HA",
         "rawType": "float64",
         "type": "float"
        },
        {
         "name": "WB154Q07HA",
         "rawType": "float64",
         "type": "float"
        },
        {
         "name": "WB154Q08HA",
         "rawType": "float64",
         "type": "float"
        },
        {
         "name": "WB154Q09HA",
         "rawType": "float64",
         "type": "float"
        },
        {
         "name": "WB155Q01HA",
         "rawType": "float64",
         "type": "float"
        },
        {
         "name": "WB155Q02HA",
         "rawType": "float64",
         "type": "float"
        },
        {
         "name": "WB155Q03HA",
         "rawType": "float64",
         "type": "float"
        },
        {
         "name": "WB155Q04HA",
         "rawType": "float64",
         "type": "float"
        },
        {
         "name": "WB155Q05HA",
         "rawType": "float64",
         "type": "float"
        },
        {
         "name": "WB155Q06HA",
         "rawType": "float64",
         "type": "float"
        },
        {
         "name": "WB155Q07HA",
         "rawType": "float64",
         "type": "float"
        },
        {
         "name": "WB155Q08HA",
         "rawType": "float64",
         "type": "float"
        },
        {
         "name": "WB155Q09HA",
         "rawType": "float64",
         "type": "float"
        },
        {
         "name": "WB155Q10HA",
         "rawType": "float64",
         "type": "float"
        },
        {
         "name": "WB156Q01HA",
         "rawType": "float64",
         "type": "float"
        },
        {
         "name": "WB158Q01HA",
         "rawType": "float64",
         "type": "float"
        },
        {
         "name": "WB160Q01HA",
         "rawType": "float64",
         "type": "float"
        },
        {
         "name": "WB161Q01HA",
         "rawType": "float64",
         "type": "float"
        },
        {
         "name": "WB162Q01HA",
         "rawType": "float64",
         "type": "float"
        },
        {
         "name": "WB162Q02HA",
         "rawType": "float64",
         "type": "float"
        },
        {
         "name": "WB162Q03HA",
         "rawType": "float64",
         "type": "float"
        },
        {
         "name": "WB162Q04HA",
         "rawType": "float64",
         "type": "float"
        },
        {
         "name": "WB162Q05HA",
         "rawType": "float64",
         "type": "float"
        },
        {
         "name": "WB162Q06HA",
         "rawType": "float64",
         "type": "float"
        },
        {
         "name": "WB162Q07HA",
         "rawType": "float64",
         "type": "float"
        },
        {
         "name": "WB162Q08HA",
         "rawType": "float64",
         "type": "float"
        },
        {
         "name": "WB162Q09HA",
         "rawType": "float64",
         "type": "float"
        },
        {
         "name": "WB163Q01HA",
         "rawType": "float64",
         "type": "float"
        },
        {
         "name": "WB163Q02HA",
         "rawType": "float64",
         "type": "float"
        },
        {
         "name": "WB163Q03HA",
         "rawType": "float64",
         "type": "float"
        },
        {
         "name": "WB163Q04HA",
         "rawType": "float64",
         "type": "float"
        },
        {
         "name": "WB163Q05HA",
         "rawType": "float64",
         "type": "float"
        },
        {
         "name": "WB163Q06HA",
         "rawType": "float64",
         "type": "float"
        },
        {
         "name": "WB163Q07HA",
         "rawType": "float64",
         "type": "float"
        },
        {
         "name": "WB163Q08HA",
         "rawType": "float64",
         "type": "float"
        },
        {
         "name": "WB164Q01HA",
         "rawType": "float64",
         "type": "float"
        },
        {
         "name": "WB165Q01HA",
         "rawType": "float64",
         "type": "float"
        },
        {
         "name": "WB166Q01HA",
         "rawType": "float64",
         "type": "float"
        },
        {
         "name": "WB166Q02HA",
         "rawType": "float64",
         "type": "float"
        },
        {
         "name": "WB166Q03HA",
         "rawType": "float64",
         "type": "float"
        },
        {
         "name": "WB166Q04HA",
         "rawType": "float64",
         "type": "float"
        },
        {
         "name": "WB167Q01HA",
         "rawType": "float64",
         "type": "float"
        },
        {
         "name": "WB168Q01HA",
         "rawType": "float64",
         "type": "float"
        },
        {
         "name": "WB168Q02HA",
         "rawType": "float64",
         "type": "float"
        },
        {
         "name": "WB168Q03HA",
         "rawType": "float64",
         "type": "float"
        },
        {
         "name": "WB168Q04HA",
         "rawType": "float64",
         "type": "float"
        },
        {
         "name": "WB171Q01HA",
         "rawType": "float64",
         "type": "float"
        },
        {
         "name": "WB171Q02HA",
         "rawType": "float64",
         "type": "float"
        },
        {
         "name": "WB171Q03HA",
         "rawType": "float64",
         "type": "float"
        },
        {
         "name": "WB171Q04HA",
         "rawType": "float64",
         "type": "float"
        },
        {
         "name": "WB172Q01HA",
         "rawType": "float64",
         "type": "float"
        },
        {
         "name": "WB173Q01HA",
         "rawType": "float64",
         "type": "float"
        },
        {
         "name": "WB173Q02HA",
         "rawType": "float64",
         "type": "float"
        },
        {
         "name": "WB173Q03HA",
         "rawType": "float64",
         "type": "float"
        },
        {
         "name": "WB173Q04HA",
         "rawType": "float64",
         "type": "float"
        },
        {
         "name": "WB176Q01HA",
         "rawType": "float64",
         "type": "float"
        },
        {
         "name": "WB177Q01HA",
         "rawType": "float64",
         "type": "float"
        },
        {
         "name": "WB177Q02HA",
         "rawType": "float64",
         "type": "float"
        },
        {
         "name": "WB177Q03HA",
         "rawType": "float64",
         "type": "float"
        },
        {
         "name": "WB177Q04HA",
         "rawType": "float64",
         "type": "float"
        },
        {
         "name": "WB032Q01NA",
         "rawType": "float64",
         "type": "float"
        },
        {
         "name": "WB032Q02NA",
         "rawType": "float64",
         "type": "float"
        },
        {
         "name": "WB031Q01NA",
         "rawType": "float64",
         "type": "float"
        },
        {
         "name": "WB178Q01HA",
         "rawType": "float64",
         "type": "float"
        },
        {
         "name": "WB178Q02HA",
         "rawType": "float64",
         "type": "float"
        },
        {
         "name": "WB178Q03HA",
         "rawType": "float64",
         "type": "float"
        },
        {
         "name": "WB178Q04HA",
         "rawType": "float64",
         "type": "float"
        },
        {
         "name": "WB178Q05HA",
         "rawType": "float64",
         "type": "float"
        },
        {
         "name": "WB178Q06HA",
         "rawType": "float64",
         "type": "float"
        },
        {
         "name": "WB178Q07HA",
         "rawType": "float64",
         "type": "float"
        },
        {
         "name": "PA001Q01TA",
         "rawType": "float64",
         "type": "float"
        },
        {
         "name": "PA001Q02TA",
         "rawType": "float64",
         "type": "float"
        },
        {
         "name": "PA001Q03TA",
         "rawType": "float64",
         "type": "float"
        },
        {
         "name": "PA003Q01TA",
         "rawType": "float64",
         "type": "float"
        },
        {
         "name": "PA003Q02TA",
         "rawType": "float64",
         "type": "float"
        },
        {
         "name": "PA003Q03TA",
         "rawType": "float64",
         "type": "float"
        },
        {
         "name": "PA003Q05IA",
         "rawType": "float64",
         "type": "float"
        },
        {
         "name": "PA003Q18WA",
         "rawType": "float64",
         "type": "float"
        },
        {
         "name": "PA003Q19WA",
         "rawType": "float64",
         "type": "float"
        },
        {
         "name": "PA003Q20WA",
         "rawType": "float64",
         "type": "float"
        },
        {
         "name": "PA003Q11JA",
         "rawType": "float64",
         "type": "float"
        },
        {
         "name": "PA003Q12JA",
         "rawType": "float64",
         "type": "float"
        },
        {
         "name": "PA003Q13JA",
         "rawType": "float64",
         "type": "float"
        },
        {
         "name": "PA003Q14JA",
         "rawType": "float64",
         "type": "float"
        },
        {
         "name": "PA003Q15JA",
         "rawType": "float64",
         "type": "float"
        },
        {
         "name": "PA003Q16JA",
         "rawType": "float64",
         "type": "float"
        },
        {
         "name": "PA003Q17JA",
         "rawType": "float64",
         "type": "float"
        },
        {
         "name": "PA196Q01WA",
         "rawType": "float64",
         "type": "float"
        },
        {
         "name": "PA196Q02WA",
         "rawType": "float64",
         "type": "float"
        },
        {
         "name": "PA196Q03WA",
         "rawType": "float64",
         "type": "float"
        },
        {
         "name": "PA196Q04WA",
         "rawType": "float64",
         "type": "float"
        },
        {
         "name": "PA197Q01WA",
         "rawType": "float64",
         "type": "float"
        },
        {
         "name": "PA197Q02WA",
         "rawType": "float64",
         "type": "float"
        },
        {
         "name": "PA197Q03WA",
         "rawType": "float64",
         "type": "float"
        },
        {
         "name": "PA197Q04WA",
         "rawType": "float64",
         "type": "float"
        },
        {
         "name": "PA197Q05WA",
         "rawType": "float64",
         "type": "float"
        },
        {
         "name": "PA008Q01TA",
         "rawType": "float64",
         "type": "float"
        },
        {
         "name": "PA008Q02TA",
         "rawType": "float64",
         "type": "float"
        },
        {
         "name": "PA008Q03TA",
         "rawType": "float64",
         "type": "float"
        },
        {
         "name": "PA008Q04TA",
         "rawType": "float64",
         "type": "float"
        },
        {
         "name": "PA008Q05TA",
         "rawType": "float64",
         "type": "float"
        },
        {
         "name": "PA008Q06NA",
         "rawType": "float64",
         "type": "float"
        },
        {
         "name": "PA008Q07NA",
         "rawType": "float64",
         "type": "float"
        },
        {
         "name": "PA008Q08NA",
         "rawType": "float64",
         "type": "float"
        },
        {
         "name": "PA008Q09NA",
         "rawType": "float64",
         "type": "float"
        },
        {
         "name": "PA008Q10NA",
         "rawType": "float64",
         "type": "float"
        },
        {
         "name": "PA009Q01NA",
         "rawType": "float64",
         "type": "float"
        },
        {
         "name": "PA009Q02NA",
         "rawType": "float64",
         "type": "float"
        },
        {
         "name": "PA009Q03NA",
         "rawType": "float64",
         "type": "float"
        },
        {
         "name": "PA009Q04NA",
         "rawType": "float64",
         "type": "float"
        },
        {
         "name": "PA009Q05NA",
         "rawType": "float64",
         "type": "float"
        },
        {
         "name": "PA009Q06NA",
         "rawType": "float64",
         "type": "float"
        },
        {
         "name": "PA009Q07NA",
         "rawType": "float64",
         "type": "float"
        },
        {
         "name": "PA009Q08NA",
         "rawType": "float64",
         "type": "float"
        },
        {
         "name": "PA009Q09NA",
         "rawType": "float64",
         "type": "float"
        },
        {
         "name": "PA009Q10NA",
         "rawType": "float64",
         "type": "float"
        },
        {
         "name": "PA009Q11NA",
         "rawType": "float64",
         "type": "float"
        },
        {
         "name": "PA007Q01TA",
         "rawType": "float64",
         "type": "float"
        },
        {
         "name": "PA007Q02TA",
         "rawType": "float64",
         "type": "float"
        },
        {
         "name": "PA007Q03TA",
         "rawType": "float64",
         "type": "float"
        },
        {
         "name": "PA007Q04TA",
         "rawType": "float64",
         "type": "float"
        },
        {
         "name": "PA007Q05TA",
         "rawType": "float64",
         "type": "float"
        },
        {
         "name": "PA007Q06TA",
         "rawType": "float64",
         "type": "float"
        },
        {
         "name": "PA007Q07TA",
         "rawType": "float64",
         "type": "float"
        },
        {
         "name": "PA007Q09NA",
         "rawType": "float64",
         "type": "float"
        },
        {
         "name": "PA007Q11NA",
         "rawType": "float64",
         "type": "float"
        },
        {
         "name": "PA007Q12NA",
         "rawType": "float64",
         "type": "float"
        },
        {
         "name": "PA007Q13NA",
         "rawType": "float64",
         "type": "float"
        },
        {
         "name": "PA007Q14NA",
         "rawType": "float64",
         "type": "float"
        },
        {
         "name": "PA007Q15NA",
         "rawType": "float64",
         "type": "float"
        },
        {
         "name": "PA005Q01TA",
         "rawType": "float64",
         "type": "float"
        },
        {
         "name": "PA006Q01TA",
         "rawType": "float64",
         "type": "float"
        },
        {
         "name": "PA006Q02TA",
         "rawType": "float64",
         "type": "float"
        },
        {
         "name": "PA006Q03TA",
         "rawType": "float64",
         "type": "float"
        },
        {
         "name": "PA006Q04TA",
         "rawType": "float64",
         "type": "float"
        },
        {
         "name": "PA006Q05TA",
         "rawType": "float64",
         "type": "float"
        },
        {
         "name": "PA006Q06TA",
         "rawType": "float64",
         "type": "float"
        },
        {
         "name": "PA006Q07TA",
         "rawType": "float64",
         "type": "float"
        },
        {
         "name": "PA006Q08TA",
         "rawType": "float64",
         "type": "float"
        },
        {
         "name": "PA006Q09TA",
         "rawType": "float64",
         "type": "float"
        },
        {
         "name": "PA006Q10TA",
         "rawType": "float64",
         "type": "float"
        },
        {
         "name": "PA006Q11TA",
         "rawType": "float64",
         "type": "float"
        },
        {
         "name": "PA006Q12HA",
         "rawType": "float64",
         "type": "float"
        },
        {
         "name": "PA006Q13HA",
         "rawType": "float64",
         "type": "float"
        },
        {
         "name": "PA006Q14HA",
         "rawType": "float64",
         "type": "float"
        },
        {
         "name": "PA166Q01HA",
         "rawType": "float64",
         "type": "float"
        },
        {
         "name": "PA167Q02HA",
         "rawType": "float64",
         "type": "float"
        },
        {
         "name": "PA167Q03HA",
         "rawType": "float64",
         "type": "float"
        },
        {
         "name": "PA167Q04HA",
         "rawType": "float64",
         "type": "float"
        },
        {
         "name": "PA167Q05HA",
         "rawType": "float64",
         "type": "float"
        },
        {
         "name": "PA183Q01JA",
         "rawType": "float64",
         "type": "float"
        },
        {
         "name": "PA183Q02JA",
         "rawType": "float64",
         "type": "float"
        },
        {
         "name": "PA183Q03JA",
         "rawType": "float64",
         "type": "float"
        },
        {
         "name": "PA183Q04JA",
         "rawType": "float64",
         "type": "float"
        },
        {
         "name": "PA183Q05JA",
         "rawType": "float64",
         "type": "float"
        },
        {
         "name": "PA183Q06JA",
         "rawType": "float64",
         "type": "float"
        },
        {
         "name": "PA183Q07JA",
         "rawType": "float64",
         "type": "float"
        },
        {
         "name": "PA183Q08JA",
         "rawType": "float64",
         "type": "float"
        },
        {
         "name": "PA018Q01NA",
         "rawType": "float64",
         "type": "float"
        },
        {
         "name": "PA018Q02NA",
         "rawType": "float64",
         "type": "float"
        },
        {
         "name": "PA018Q03NA",
         "rawType": "float64",
         "type": "float"
        },
        {
         "name": "PA177Q01HA",
         "rawType": "float64",
         "type": "float"
        },
        {
         "name": "PA177Q02HA",
         "rawType": "float64",
         "type": "float"
        },
        {
         "name": "PA177Q03HA",
         "rawType": "float64",
         "type": "float"
        },
        {
         "name": "PA177Q04HA",
         "rawType": "float64",
         "type": "float"
        },
        {
         "name": "PA177Q05HA",
         "rawType": "float64",
         "type": "float"
        },
        {
         "name": "PA177Q06HA",
         "rawType": "float64",
         "type": "float"
        },
        {
         "name": "PA177Q07HA",
         "rawType": "float64",
         "type": "float"
        },
        {
         "name": "PA177Q08HA",
         "rawType": "float64",
         "type": "float"
        },
        {
         "name": "PA180Q01HA",
         "rawType": "float64",
         "type": "float"
        },
        {
         "name": "PA182Q01HA",
         "rawType": "float64",
         "type": "float"
        },
        {
         "name": "PA175Q01HA",
         "rawType": "float64",
         "type": "float"
        },
        {
         "name": "PA175Q02HA",
         "rawType": "float64",
         "type": "float"
        },
        {
         "name": "PA175Q03JA",
         "rawType": "float64",
         "type": "float"
        },
        {
         "name": "PA175Q04JA",
         "rawType": "float64",
         "type": "float"
        },
        {
         "name": "PA185Q01JA",
         "rawType": "float64",
         "type": "float"
        },
        {
         "name": "PA185Q02JA",
         "rawType": "float64",
         "type": "float"
        },
        {
         "name": "PA185Q03JA",
         "rawType": "float64",
         "type": "float"
        },
        {
         "name": "PA185Q04JA",
         "rawType": "float64",
         "type": "float"
        },
        {
         "name": "PA185Q05JA",
         "rawType": "float64",
         "type": "float"
        },
        {
         "name": "PA185Q07JA",
         "rawType": "float64",
         "type": "float"
        },
        {
         "name": "PA185Q08JA",
         "rawType": "float64",
         "type": "float"
        },
        {
         "name": "PA185Q09JA",
         "rawType": "float64",
         "type": "float"
        },
        {
         "name": "PA185Q10JA",
         "rawType": "float64",
         "type": "float"
        },
        {
         "name": "PA186Q01JA",
         "rawType": "float64",
         "type": "float"
        },
        {
         "name": "PA186Q02JA",
         "rawType": "float64",
         "type": "float"
        },
        {
         "name": "PA186Q03JA",
         "rawType": "float64",
         "type": "float"
        },
        {
         "name": "PA186Q04JA",
         "rawType": "float64",
         "type": "float"
        },
        {
         "name": "PA186Q05JA",
         "rawType": "float64",
         "type": "float"
        },
        {
         "name": "PA186Q06JA",
         "rawType": "float64",
         "type": "float"
        },
        {
         "name": "PA186Q07JA",
         "rawType": "float64",
         "type": "float"
        },
        {
         "name": "PA186Q08JA",
         "rawType": "float64",
         "type": "float"
        },
        {
         "name": "PA187Q04JA",
         "rawType": "float64",
         "type": "float"
        },
        {
         "name": "PA187Q06JA",
         "rawType": "float64",
         "type": "float"
        },
        {
         "name": "PA188Q01JA",
         "rawType": "float64",
         "type": "float"
        },
        {
         "name": "PA188Q02JA",
         "rawType": "float64",
         "type": "float"
        },
        {
         "name": "PA188Q03JA",
         "rawType": "float64",
         "type": "float"
        },
        {
         "name": "PA188Q04JA",
         "rawType": "float64",
         "type": "float"
        },
        {
         "name": "PA188Q05JA",
         "rawType": "float64",
         "type": "float"
        },
        {
         "name": "PA188Q06JA",
         "rawType": "float64",
         "type": "float"
        },
        {
         "name": "PA188Q08JA",
         "rawType": "float64",
         "type": "float"
        },
        {
         "name": "PA188Q09JA",
         "rawType": "float64",
         "type": "float"
        },
        {
         "name": "PA188Q10JA",
         "rawType": "float64",
         "type": "float"
        },
        {
         "name": "PA189Q01JA",
         "rawType": "float64",
         "type": "float"
        },
        {
         "name": "PA189Q02JA",
         "rawType": "float64",
         "type": "float"
        },
        {
         "name": "PA189Q03JA",
         "rawType": "float64",
         "type": "float"
        },
        {
         "name": "PA189Q04JA",
         "rawType": "float64",
         "type": "float"
        },
        {
         "name": "PA189Q05JA",
         "rawType": "float64",
         "type": "float"
        },
        {
         "name": "PA189Q06JA",
         "rawType": "float64",
         "type": "float"
        },
        {
         "name": "PA189Q09JA",
         "rawType": "float64",
         "type": "float"
        },
        {
         "name": "PA189Q10JA",
         "rawType": "float64",
         "type": "float"
        },
        {
         "name": "PA194Q01JA",
         "rawType": "float64",
         "type": "float"
        },
        {
         "name": "PA195Q01JA",
         "rawType": "float64",
         "type": "float"
        },
        {
         "name": "PA041Q01TA",
         "rawType": "float64",
         "type": "float"
        },
        {
         "name": "PA042Q01TA",
         "rawType": "float64",
         "type": "float"
        },
        {
         "name": "EFFORT1",
         "rawType": "float64",
         "type": "float"
        },
        {
         "name": "EFFORT2",
         "rawType": "float64",
         "type": "float"
        },
        {
         "name": "OCOD1",
         "rawType": "object",
         "type": "string"
        },
        {
         "name": "OCOD2",
         "rawType": "object",
         "type": "string"
        },
        {
         "name": "OCOD3",
         "rawType": "object",
         "type": "string"
        },
        {
         "name": "PROGN",
         "rawType": "object",
         "type": "string"
        },
        {
         "name": "AGE",
         "rawType": "float64",
         "type": "float"
        },
        {
         "name": "GRADE",
         "rawType": "float64",
         "type": "float"
        },
        {
         "name": "ISCEDP",
         "rawType": "float64",
         "type": "float"
        },
        {
         "name": "IMMIG",
         "rawType": "float64",
         "type": "float"
        },
        {
         "name": "COBN_S",
         "rawType": "object",
         "type": "string"
        },
        {
         "name": "COBN_M",
         "rawType": "object",
         "type": "string"
        },
        {
         "name": "COBN_F",
         "rawType": "object",
         "type": "string"
        },
        {
         "name": "LANGN",
         "rawType": "float64",
         "type": "float"
        },
        {
         "name": "REPEAT",
         "rawType": "float64",
         "type": "float"
        },
        {
         "name": "MISSSC",
         "rawType": "float64",
         "type": "float"
        },
        {
         "name": "SKIPPING",
         "rawType": "float64",
         "type": "float"
        },
        {
         "name": "TARDYSD",
         "rawType": "float64",
         "type": "float"
        },
        {
         "name": "EXERPRAC",
         "rawType": "float64",
         "type": "float"
        },
        {
         "name": "STUDYHMW",
         "rawType": "float64",
         "type": "float"
        },
        {
         "name": "WORKPAY",
         "rawType": "float64",
         "type": "float"
        },
        {
         "name": "WORKHOME",
         "rawType": "float64",
         "type": "float"
        },
        {
         "name": "EXPECEDU",
         "rawType": "float64",
         "type": "float"
        },
        {
         "name": "MATHPREF",
         "rawType": "float64",
         "type": "float"
        },
        {
         "name": "MATHEASE",
         "rawType": "float64",
         "type": "float"
        },
        {
         "name": "MATHMOT",
         "rawType": "float64",
         "type": "float"
        },
        {
         "name": "DURECEC",
         "rawType": "float64",
         "type": "float"
        },
        {
         "name": "BSMJ",
         "rawType": "float64",
         "type": "float"
        },
        {
         "name": "SISCO",
         "rawType": "float64",
         "type": "float"
        },
        {
         "name": "RELATST",
         "rawType": "float64",
         "type": "float"
        },
        {
         "name": "BELONG",
         "rawType": "float64",
         "type": "float"
        },
        {
         "name": "BULLIED",
         "rawType": "float64",
         "type": "float"
        },
        {
         "name": "FEELSAFE",
         "rawType": "float64",
         "type": "float"
        },
        {
         "name": "SCHRISK",
         "rawType": "float64",
         "type": "float"
        },
        {
         "name": "PERSEVAGR",
         "rawType": "float64",
         "type": "float"
        },
        {
         "name": "CURIOAGR",
         "rawType": "float64",
         "type": "float"
        },
        {
         "name": "COOPAGR",
         "rawType": "float64",
         "type": "float"
        },
        {
         "name": "EMPATAGR",
         "rawType": "float64",
         "type": "float"
        },
        {
         "name": "ASSERAGR",
         "rawType": "float64",
         "type": "float"
        },
        {
         "name": "STRESAGR",
         "rawType": "float64",
         "type": "float"
        },
        {
         "name": "EMOCOAGR",
         "rawType": "float64",
         "type": "float"
        },
        {
         "name": "GROSAGR",
         "rawType": "float64",
         "type": "float"
        },
        {
         "name": "INFOSEEK",
         "rawType": "float64",
         "type": "float"
        },
        {
         "name": "FAMSUP",
         "rawType": "float64",
         "type": "float"
        },
        {
         "name": "DISCLIM",
         "rawType": "float64",
         "type": "float"
        },
        {
         "name": "TEACHSUP",
         "rawType": "float64",
         "type": "float"
        },
        {
         "name": "COGACRCO",
         "rawType": "float64",
         "type": "float"
        },
        {
         "name": "COGACMCO",
         "rawType": "float64",
         "type": "float"
        },
        {
         "name": "EXPOFA",
         "rawType": "float64",
         "type": "float"
        },
        {
         "name": "EXPO21ST",
         "rawType": "float64",
         "type": "float"
        },
        {
         "name": "MATHEFF",
         "rawType": "float64",
         "type": "float"
        },
        {
         "name": "MATHEF21",
         "rawType": "float64",
         "type": "float"
        },
        {
         "name": "FAMCON",
         "rawType": "float64",
         "type": "float"
        },
        {
         "name": "ANXMAT",
         "rawType": "float64",
         "type": "float"
        },
        {
         "name": "MATHPERS",
         "rawType": "float64",
         "type": "float"
        },
        {
         "name": "CREATEFF",
         "rawType": "float64",
         "type": "float"
        },
        {
         "name": "CREATSCH",
         "rawType": "float64",
         "type": "float"
        },
        {
         "name": "CREATFAM",
         "rawType": "float64",
         "type": "float"
        },
        {
         "name": "CREATAS",
         "rawType": "float64",
         "type": "float"
        },
        {
         "name": "CREATOOS",
         "rawType": "float64",
         "type": "float"
        },
        {
         "name": "CREATOP",
         "rawType": "float64",
         "type": "float"
        },
        {
         "name": "OPENART",
         "rawType": "float64",
         "type": "float"
        },
        {
         "name": "IMAGINE",
         "rawType": "float64",
         "type": "float"
        },
        {
         "name": "SCHSUST",
         "rawType": "float64",
         "type": "float"
        },
        {
         "name": "LEARRES",
         "rawType": "float64",
         "type": "float"
        },
        {
         "name": "PROBSELF",
         "rawType": "float64",
         "type": "float"
        },
        {
         "name": "FAMSUPSL",
         "rawType": "float64",
         "type": "float"
        },
        {
         "name": "FEELLAH",
         "rawType": "float64",
         "type": "float"
        },
        {
         "name": "SDLEFF",
         "rawType": "float64",
         "type": "float"
        },
        {
         "name": "MISCED",
         "rawType": "float64",
         "type": "float"
        },
        {
         "name": "FISCED",
         "rawType": "float64",
         "type": "float"
        },
        {
         "name": "HISCED",
         "rawType": "float64",
         "type": "float"
        },
        {
         "name": "PAREDINT",
         "rawType": "float64",
         "type": "float"
        },
        {
         "name": "BMMJ1",
         "rawType": "float64",
         "type": "float"
        },
        {
         "name": "BFMJ2",
         "rawType": "float64",
         "type": "float"
        },
        {
         "name": "HISEI",
         "rawType": "float64",
         "type": "float"
        },
        {
         "name": "ICTRES",
         "rawType": "float64",
         "type": "float"
        },
        {
         "name": "HOMEPOS",
         "rawType": "float64",
         "type": "float"
        },
        {
         "name": "ESCS",
         "rawType": "float64",
         "type": "float"
        },
        {
         "name": "FCFMLRTY",
         "rawType": "float64",
         "type": "float"
        },
        {
         "name": "FLSCHOOL",
         "rawType": "float64",
         "type": "float"
        },
        {
         "name": "FLMULTSB",
         "rawType": "float64",
         "type": "float"
        },
        {
         "name": "FLFAMILY",
         "rawType": "float64",
         "type": "float"
        },
        {
         "name": "ACCESSFP",
         "rawType": "float64",
         "type": "float"
        },
        {
         "name": "FLCONFIN",
         "rawType": "float64",
         "type": "float"
        },
        {
         "name": "FLCONICT",
         "rawType": "float64",
         "type": "float"
        },
        {
         "name": "ACCESSFA",
         "rawType": "float64",
         "type": "float"
        },
        {
         "name": "ATTCONFM",
         "rawType": "float64",
         "type": "float"
        },
        {
         "name": "FRINFLFM",
         "rawType": "float64",
         "type": "float"
        },
        {
         "name": "ICTSCH",
         "rawType": "float64",
         "type": "float"
        },
        {
         "name": "ICTAVSCH",
         "rawType": "float64",
         "type": "float"
        },
        {
         "name": "ICTHOME",
         "rawType": "float64",
         "type": "float"
        },
        {
         "name": "ICTAVHOM",
         "rawType": "float64",
         "type": "float"
        },
        {
         "name": "ICTQUAL",
         "rawType": "float64",
         "type": "float"
        },
        {
         "name": "ICTSUBJ",
         "rawType": "float64",
         "type": "float"
        },
        {
         "name": "ICTENQ",
         "rawType": "float64",
         "type": "float"
        },
        {
         "name": "ICTFEED",
         "rawType": "float64",
         "type": "float"
        },
        {
         "name": "ICTOUT",
         "rawType": "float64",
         "type": "float"
        },
        {
         "name": "ICTWKDY",
         "rawType": "float64",
         "type": "float"
        },
        {
         "name": "ICTWKEND",
         "rawType": "float64",
         "type": "float"
        },
        {
         "name": "ICTREG",
         "rawType": "float64",
         "type": "float"
        },
        {
         "name": "ICTINFO",
         "rawType": "float64",
         "type": "float"
        },
        {
         "name": "ICTDISTR",
         "rawType": "float64",
         "type": "float"
        },
        {
         "name": "ICTEFFIC",
         "rawType": "float64",
         "type": "float"
        },
        {
         "name": "STUBMI",
         "rawType": "float64",
         "type": "float"
        },
        {
         "name": "BODYIMA",
         "rawType": "float64",
         "type": "float"
        },
        {
         "name": "SOCONPA",
         "rawType": "float64",
         "type": "float"
        },
        {
         "name": "LIFESAT",
         "rawType": "float64",
         "type": "float"
        },
        {
         "name": "PSYCHSYM",
         "rawType": "float64",
         "type": "float"
        },
        {
         "name": "SOCCON",
         "rawType": "float64",
         "type": "float"
        },
        {
         "name": "EXPWB",
         "rawType": "float64",
         "type": "float"
        },
        {
         "name": "CURSUPP",
         "rawType": "float64",
         "type": "float"
        },
        {
         "name": "PQMIMP",
         "rawType": "float64",
         "type": "float"
        },
        {
         "name": "PQMCAR",
         "rawType": "float64",
         "type": "float"
        },
        {
         "name": "PARINVOL",
         "rawType": "float64",
         "type": "float"
        },
        {
         "name": "PQSCHOOL",
         "rawType": "float64",
         "type": "float"
        },
        {
         "name": "PASCHPOL",
         "rawType": "float64",
         "type": "float"
        },
        {
         "name": "ATTIMMP",
         "rawType": "float64",
         "type": "float"
        },
        {
         "name": "PAREXPT",
         "rawType": "float64",
         "type": "float"
        },
        {
         "name": "CREATHME",
         "rawType": "float64",
         "type": "float"
        },
        {
         "name": "CREATACT",
         "rawType": "float64",
         "type": "float"
        },
        {
         "name": "CREATOPN",
         "rawType": "float64",
         "type": "float"
        },
        {
         "name": "CREATOR",
         "rawType": "float64",
         "type": "float"
        },
        {
         "name": "W_FSTUWT",
         "rawType": "float64",
         "type": "float"
        },
        {
         "name": "W_FSTURWT1",
         "rawType": "float64",
         "type": "float"
        },
        {
         "name": "W_FSTURWT2",
         "rawType": "float64",
         "type": "float"
        },
        {
         "name": "W_FSTURWT3",
         "rawType": "float64",
         "type": "float"
        },
        {
         "name": "W_FSTURWT4",
         "rawType": "float64",
         "type": "float"
        },
        {
         "name": "W_FSTURWT5",
         "rawType": "float64",
         "type": "float"
        },
        {
         "name": "W_FSTURWT6",
         "rawType": "float64",
         "type": "float"
        },
        {
         "name": "W_FSTURWT7",
         "rawType": "float64",
         "type": "float"
        },
        {
         "name": "W_FSTURWT8",
         "rawType": "float64",
         "type": "float"
        },
        {
         "name": "W_FSTURWT9",
         "rawType": "float64",
         "type": "float"
        },
        {
         "name": "W_FSTURWT10",
         "rawType": "float64",
         "type": "float"
        },
        {
         "name": "W_FSTURWT11",
         "rawType": "float64",
         "type": "float"
        },
        {
         "name": "W_FSTURWT12",
         "rawType": "float64",
         "type": "float"
        },
        {
         "name": "W_FSTURWT13",
         "rawType": "float64",
         "type": "float"
        },
        {
         "name": "W_FSTURWT14",
         "rawType": "float64",
         "type": "float"
        },
        {
         "name": "W_FSTURWT15",
         "rawType": "float64",
         "type": "float"
        },
        {
         "name": "W_FSTURWT16",
         "rawType": "float64",
         "type": "float"
        },
        {
         "name": "W_FSTURWT17",
         "rawType": "float64",
         "type": "float"
        },
        {
         "name": "W_FSTURWT18",
         "rawType": "float64",
         "type": "float"
        },
        {
         "name": "W_FSTURWT19",
         "rawType": "float64",
         "type": "float"
        },
        {
         "name": "W_FSTURWT20",
         "rawType": "float64",
         "type": "float"
        },
        {
         "name": "W_FSTURWT21",
         "rawType": "float64",
         "type": "float"
        },
        {
         "name": "W_FSTURWT22",
         "rawType": "float64",
         "type": "float"
        },
        {
         "name": "W_FSTURWT23",
         "rawType": "float64",
         "type": "float"
        },
        {
         "name": "W_FSTURWT24",
         "rawType": "float64",
         "type": "float"
        },
        {
         "name": "W_FSTURWT25",
         "rawType": "float64",
         "type": "float"
        },
        {
         "name": "W_FSTURWT26",
         "rawType": "float64",
         "type": "float"
        },
        {
         "name": "W_FSTURWT27",
         "rawType": "float64",
         "type": "float"
        },
        {
         "name": "W_FSTURWT28",
         "rawType": "float64",
         "type": "float"
        },
        {
         "name": "W_FSTURWT29",
         "rawType": "float64",
         "type": "float"
        },
        {
         "name": "W_FSTURWT30",
         "rawType": "float64",
         "type": "float"
        },
        {
         "name": "W_FSTURWT31",
         "rawType": "float64",
         "type": "float"
        },
        {
         "name": "W_FSTURWT32",
         "rawType": "float64",
         "type": "float"
        },
        {
         "name": "W_FSTURWT33",
         "rawType": "float64",
         "type": "float"
        },
        {
         "name": "W_FSTURWT34",
         "rawType": "float64",
         "type": "float"
        },
        {
         "name": "W_FSTURWT35",
         "rawType": "float64",
         "type": "float"
        },
        {
         "name": "W_FSTURWT36",
         "rawType": "float64",
         "type": "float"
        },
        {
         "name": "W_FSTURWT37",
         "rawType": "float64",
         "type": "float"
        },
        {
         "name": "W_FSTURWT38",
         "rawType": "float64",
         "type": "float"
        },
        {
         "name": "W_FSTURWT39",
         "rawType": "float64",
         "type": "float"
        },
        {
         "name": "W_FSTURWT40",
         "rawType": "float64",
         "type": "float"
        },
        {
         "name": "W_FSTURWT41",
         "rawType": "float64",
         "type": "float"
        },
        {
         "name": "W_FSTURWT42",
         "rawType": "float64",
         "type": "float"
        },
        {
         "name": "W_FSTURWT43",
         "rawType": "float64",
         "type": "float"
        },
        {
         "name": "W_FSTURWT44",
         "rawType": "float64",
         "type": "float"
        },
        {
         "name": "W_FSTURWT45",
         "rawType": "float64",
         "type": "float"
        },
        {
         "name": "W_FSTURWT46",
         "rawType": "float64",
         "type": "float"
        },
        {
         "name": "W_FSTURWT47",
         "rawType": "float64",
         "type": "float"
        },
        {
         "name": "W_FSTURWT48",
         "rawType": "float64",
         "type": "float"
        },
        {
         "name": "W_FSTURWT49",
         "rawType": "float64",
         "type": "float"
        },
        {
         "name": "W_FSTURWT50",
         "rawType": "float64",
         "type": "float"
        },
        {
         "name": "W_FSTURWT51",
         "rawType": "float64",
         "type": "float"
        },
        {
         "name": "W_FSTURWT52",
         "rawType": "float64",
         "type": "float"
        },
        {
         "name": "W_FSTURWT53",
         "rawType": "float64",
         "type": "float"
        },
        {
         "name": "W_FSTURWT54",
         "rawType": "float64",
         "type": "float"
        },
        {
         "name": "W_FSTURWT55",
         "rawType": "float64",
         "type": "float"
        },
        {
         "name": "W_FSTURWT56",
         "rawType": "float64",
         "type": "float"
        },
        {
         "name": "W_FSTURWT57",
         "rawType": "float64",
         "type": "float"
        },
        {
         "name": "W_FSTURWT58",
         "rawType": "float64",
         "type": "float"
        },
        {
         "name": "W_FSTURWT59",
         "rawType": "float64",
         "type": "float"
        },
        {
         "name": "W_FSTURWT60",
         "rawType": "float64",
         "type": "float"
        },
        {
         "name": "W_FSTURWT61",
         "rawType": "float64",
         "type": "float"
        },
        {
         "name": "W_FSTURWT62",
         "rawType": "float64",
         "type": "float"
        },
        {
         "name": "W_FSTURWT63",
         "rawType": "float64",
         "type": "float"
        },
        {
         "name": "W_FSTURWT64",
         "rawType": "float64",
         "type": "float"
        },
        {
         "name": "W_FSTURWT65",
         "rawType": "float64",
         "type": "float"
        },
        {
         "name": "W_FSTURWT66",
         "rawType": "float64",
         "type": "float"
        },
        {
         "name": "W_FSTURWT67",
         "rawType": "float64",
         "type": "float"
        },
        {
         "name": "W_FSTURWT68",
         "rawType": "float64",
         "type": "float"
        },
        {
         "name": "W_FSTURWT69",
         "rawType": "float64",
         "type": "float"
        },
        {
         "name": "W_FSTURWT70",
         "rawType": "float64",
         "type": "float"
        },
        {
         "name": "W_FSTURWT71",
         "rawType": "float64",
         "type": "float"
        },
        {
         "name": "W_FSTURWT72",
         "rawType": "float64",
         "type": "float"
        },
        {
         "name": "W_FSTURWT73",
         "rawType": "float64",
         "type": "float"
        },
        {
         "name": "W_FSTURWT74",
         "rawType": "float64",
         "type": "float"
        },
        {
         "name": "W_FSTURWT75",
         "rawType": "float64",
         "type": "float"
        },
        {
         "name": "W_FSTURWT76",
         "rawType": "float64",
         "type": "float"
        },
        {
         "name": "W_FSTURWT77",
         "rawType": "float64",
         "type": "float"
        },
        {
         "name": "W_FSTURWT78",
         "rawType": "float64",
         "type": "float"
        },
        {
         "name": "W_FSTURWT79",
         "rawType": "float64",
         "type": "float"
        },
        {
         "name": "W_FSTURWT80",
         "rawType": "float64",
         "type": "float"
        },
        {
         "name": "UNIT",
         "rawType": "float64",
         "type": "float"
        },
        {
         "name": "WVARSTRR",
         "rawType": "float64",
         "type": "float"
        },
        {
         "name": "PV1MATH",
         "rawType": "float64",
         "type": "float"
        },
        {
         "name": "PV2MATH",
         "rawType": "float64",
         "type": "float"
        },
        {
         "name": "PV3MATH",
         "rawType": "float64",
         "type": "float"
        },
        {
         "name": "PV4MATH",
         "rawType": "float64",
         "type": "float"
        },
        {
         "name": "PV5MATH",
         "rawType": "float64",
         "type": "float"
        },
        {
         "name": "PV6MATH",
         "rawType": "float64",
         "type": "float"
        },
        {
         "name": "PV7MATH",
         "rawType": "float64",
         "type": "float"
        },
        {
         "name": "PV8MATH",
         "rawType": "float64",
         "type": "float"
        },
        {
         "name": "PV9MATH",
         "rawType": "float64",
         "type": "float"
        },
        {
         "name": "PV10MATH",
         "rawType": "float64",
         "type": "float"
        },
        {
         "name": "PV1READ",
         "rawType": "float64",
         "type": "float"
        },
        {
         "name": "PV2READ",
         "rawType": "float64",
         "type": "float"
        },
        {
         "name": "PV3READ",
         "rawType": "float64",
         "type": "float"
        },
        {
         "name": "PV4READ",
         "rawType": "float64",
         "type": "float"
        },
        {
         "name": "PV5READ",
         "rawType": "float64",
         "type": "float"
        },
        {
         "name": "PV6READ",
         "rawType": "float64",
         "type": "float"
        },
        {
         "name": "PV7READ",
         "rawType": "float64",
         "type": "float"
        },
        {
         "name": "PV8READ",
         "rawType": "float64",
         "type": "float"
        },
        {
         "name": "PV9READ",
         "rawType": "float64",
         "type": "float"
        },
        {
         "name": "PV10READ",
         "rawType": "float64",
         "type": "float"
        },
        {
         "name": "PV1SCIE",
         "rawType": "float64",
         "type": "float"
        },
        {
         "name": "PV2SCIE",
         "rawType": "float64",
         "type": "float"
        },
        {
         "name": "PV3SCIE",
         "rawType": "float64",
         "type": "float"
        },
        {
         "name": "PV4SCIE",
         "rawType": "float64",
         "type": "float"
        },
        {
         "name": "PV5SCIE",
         "rawType": "float64",
         "type": "float"
        },
        {
         "name": "PV6SCIE",
         "rawType": "float64",
         "type": "float"
        },
        {
         "name": "PV7SCIE",
         "rawType": "float64",
         "type": "float"
        },
        {
         "name": "PV8SCIE",
         "rawType": "float64",
         "type": "float"
        },
        {
         "name": "PV9SCIE",
         "rawType": "float64",
         "type": "float"
        },
        {
         "name": "PV10SCIE",
         "rawType": "float64",
         "type": "float"
        },
        {
         "name": "PV1MCCR",
         "rawType": "float64",
         "type": "float"
        },
        {
         "name": "PV2MCCR",
         "rawType": "float64",
         "type": "float"
        },
        {
         "name": "PV3MCCR",
         "rawType": "float64",
         "type": "float"
        },
        {
         "name": "PV4MCCR",
         "rawType": "float64",
         "type": "float"
        },
        {
         "name": "PV5MCCR",
         "rawType": "float64",
         "type": "float"
        },
        {
         "name": "PV6MCCR",
         "rawType": "float64",
         "type": "float"
        },
        {
         "name": "PV7MCCR",
         "rawType": "float64",
         "type": "float"
        },
        {
         "name": "PV8MCCR",
         "rawType": "float64",
         "type": "float"
        },
        {
         "name": "PV9MCCR",
         "rawType": "float64",
         "type": "float"
        },
        {
         "name": "PV10MCCR",
         "rawType": "float64",
         "type": "float"
        },
        {
         "name": "PV1MCQN",
         "rawType": "float64",
         "type": "float"
        },
        {
         "name": "PV2MCQN",
         "rawType": "float64",
         "type": "float"
        },
        {
         "name": "PV3MCQN",
         "rawType": "float64",
         "type": "float"
        },
        {
         "name": "PV4MCQN",
         "rawType": "float64",
         "type": "float"
        },
        {
         "name": "PV5MCQN",
         "rawType": "float64",
         "type": "float"
        },
        {
         "name": "PV6MCQN",
         "rawType": "float64",
         "type": "float"
        },
        {
         "name": "PV7MCQN",
         "rawType": "float64",
         "type": "float"
        },
        {
         "name": "PV8MCQN",
         "rawType": "float64",
         "type": "float"
        },
        {
         "name": "PV9MCQN",
         "rawType": "float64",
         "type": "float"
        },
        {
         "name": "PV10MCQN",
         "rawType": "float64",
         "type": "float"
        },
        {
         "name": "PV1MCSS",
         "rawType": "float64",
         "type": "float"
        },
        {
         "name": "PV2MCSS",
         "rawType": "float64",
         "type": "float"
        },
        {
         "name": "PV3MCSS",
         "rawType": "float64",
         "type": "float"
        },
        {
         "name": "PV4MCSS",
         "rawType": "float64",
         "type": "float"
        },
        {
         "name": "PV5MCSS",
         "rawType": "float64",
         "type": "float"
        },
        {
         "name": "PV6MCSS",
         "rawType": "float64",
         "type": "float"
        },
        {
         "name": "PV7MCSS",
         "rawType": "float64",
         "type": "float"
        },
        {
         "name": "PV8MCSS",
         "rawType": "float64",
         "type": "float"
        },
        {
         "name": "PV9MCSS",
         "rawType": "float64",
         "type": "float"
        },
        {
         "name": "PV10MCSS",
         "rawType": "float64",
         "type": "float"
        },
        {
         "name": "PV1MCUD",
         "rawType": "float64",
         "type": "float"
        },
        {
         "name": "PV2MCUD",
         "rawType": "float64",
         "type": "float"
        },
        {
         "name": "PV3MCUD",
         "rawType": "float64",
         "type": "float"
        },
        {
         "name": "PV4MCUD",
         "rawType": "float64",
         "type": "float"
        },
        {
         "name": "PV5MCUD",
         "rawType": "float64",
         "type": "float"
        },
        {
         "name": "PV6MCUD",
         "rawType": "float64",
         "type": "float"
        },
        {
         "name": "PV7MCUD",
         "rawType": "float64",
         "type": "float"
        },
        {
         "name": "PV8MCUD",
         "rawType": "float64",
         "type": "float"
        },
        {
         "name": "PV9MCUD",
         "rawType": "float64",
         "type": "float"
        },
        {
         "name": "PV10MCUD",
         "rawType": "float64",
         "type": "float"
        },
        {
         "name": "PV1MPEM",
         "rawType": "float64",
         "type": "float"
        },
        {
         "name": "PV2MPEM",
         "rawType": "float64",
         "type": "float"
        },
        {
         "name": "PV3MPEM",
         "rawType": "float64",
         "type": "float"
        },
        {
         "name": "PV4MPEM",
         "rawType": "float64",
         "type": "float"
        },
        {
         "name": "PV5MPEM",
         "rawType": "float64",
         "type": "float"
        },
        {
         "name": "PV6MPEM",
         "rawType": "float64",
         "type": "float"
        },
        {
         "name": "PV7MPEM",
         "rawType": "float64",
         "type": "float"
        },
        {
         "name": "PV8MPEM",
         "rawType": "float64",
         "type": "float"
        },
        {
         "name": "PV9MPEM",
         "rawType": "float64",
         "type": "float"
        },
        {
         "name": "PV10MPEM",
         "rawType": "float64",
         "type": "float"
        },
        {
         "name": "PV1MPFS",
         "rawType": "float64",
         "type": "float"
        },
        {
         "name": "PV2MPFS",
         "rawType": "float64",
         "type": "float"
        },
        {
         "name": "PV3MPFS",
         "rawType": "float64",
         "type": "float"
        },
        {
         "name": "PV4MPFS",
         "rawType": "float64",
         "type": "float"
        },
        {
         "name": "PV5MPFS",
         "rawType": "float64",
         "type": "float"
        },
        {
         "name": "PV6MPFS",
         "rawType": "float64",
         "type": "float"
        },
        {
         "name": "PV7MPFS",
         "rawType": "float64",
         "type": "float"
        },
        {
         "name": "PV8MPFS",
         "rawType": "float64",
         "type": "float"
        },
        {
         "name": "PV9MPFS",
         "rawType": "float64",
         "type": "float"
        },
        {
         "name": "PV10MPFS",
         "rawType": "float64",
         "type": "float"
        },
        {
         "name": "PV1MPIN",
         "rawType": "float64",
         "type": "float"
        },
        {
         "name": "PV2MPIN",
         "rawType": "float64",
         "type": "float"
        },
        {
         "name": "PV3MPIN",
         "rawType": "float64",
         "type": "float"
        },
        {
         "name": "PV4MPIN",
         "rawType": "float64",
         "type": "float"
        },
        {
         "name": "PV5MPIN",
         "rawType": "float64",
         "type": "float"
        },
        {
         "name": "PV6MPIN",
         "rawType": "float64",
         "type": "float"
        },
        {
         "name": "PV7MPIN",
         "rawType": "float64",
         "type": "float"
        },
        {
         "name": "PV8MPIN",
         "rawType": "float64",
         "type": "float"
        },
        {
         "name": "PV9MPIN",
         "rawType": "float64",
         "type": "float"
        },
        {
         "name": "PV10MPIN",
         "rawType": "float64",
         "type": "float"
        },
        {
         "name": "PV1MPRE",
         "rawType": "float64",
         "type": "float"
        },
        {
         "name": "PV2MPRE",
         "rawType": "float64",
         "type": "float"
        },
        {
         "name": "PV3MPRE",
         "rawType": "float64",
         "type": "float"
        },
        {
         "name": "PV4MPRE",
         "rawType": "float64",
         "type": "float"
        },
        {
         "name": "PV5MPRE",
         "rawType": "float64",
         "type": "float"
        },
        {
         "name": "PV6MPRE",
         "rawType": "float64",
         "type": "float"
        },
        {
         "name": "PV7MPRE",
         "rawType": "float64",
         "type": "float"
        },
        {
         "name": "PV8MPRE",
         "rawType": "float64",
         "type": "float"
        },
        {
         "name": "PV9MPRE",
         "rawType": "float64",
         "type": "float"
        },
        {
         "name": "PV10MPRE",
         "rawType": "float64",
         "type": "float"
        },
        {
         "name": "SENWT",
         "rawType": "float64",
         "type": "float"
        },
        {
         "name": "VER_DAT",
         "rawType": "object",
         "type": "string"
        },
        {
         "name": "test",
         "rawType": "float64",
         "type": "float"
        }
       ],
       "ref": "c759cf26-36eb-43d6-83c7-d62a3946fdc9",
       "rows": [
        [
         "0",
         "AUS",
         "36.0",
         "3600669.0",
         "3600004.0",
         "08MS",
         "003600",
         "AUS08",
         "0360000",
         "3600.0",
         "1.0",
         "2.0",
         "313.0",
         "313.0",
         null,
         null,
         null,
         "1.0",
         "0.0",
         "0.0",
         "1.0",
         "0.0",
         "6.0",
         "10.0",
         "11.0",
         "2006.0",
         "2.0",
         "1.0",
         "1.0",
         "2.0",
         "1.0",
         "1.0",
         "0360001",
         "0360001",
         "2.0",
         "3.0",
         "4.0",
         "3.0",
         "4.0",
         "3.0",
         "0360003",
         "0360003",
         "8.0",
         "3.0",
         "2.0",
         "3.0",
         "2.0",
         "1.0",
         "5.0",
         "1.0",
         null,
         null,
         null,
         null,
         null,
         null,
         null,
         null,
         "2.0",
         "3.0",
         "1.0",
         "2.0",
         "1.0",
         "1.0",
         "1.0",
         "3.0",
         null,
         null,
         null,
         null,
         null,
         null,
         null,
         null,
         "2.0",
         "2.0",
         "2.0",
         "11.0",
         "2.0",
         "1.0",
         "6.0",
         "5.0",
         "1.0",
         "1.0",
         "1.0",
         "1.0",
         "2.0",
         "3.0",
         "1.0",
         "2.0",
         null,
         "2.0",
         "2.0",
         "1.0",
         "1.0",
         "1.0",
         "1.0",
         null,
         "1.0",
         "2.0",
         "3.0",
         "2.0",
         "1.0",
         null,
         "1.0",
         null,
         "1.0",
         null,
         "1.0",
         "1.0",
         "4.0",
         "4.0",
         "4.0",
         null,
         "4.0",
         "4.0",
         "4.0",
         "4.0",
         "4.0",
         "4.0",
         "4.0",
         "4.0",
         null,
         null,
         null,
         "2.0",
         "2.0",
         "2.0",
         "4.0",
         null,
         null,
         null,
         null,
         null,
         "6.0",
         "1.0",
         "6.0",
         "5.0",
         "6.0",
         "3.0",
         "3.0",
         "4.0",
         "4.0",
         "2.0",
         "3.0",
         "4.0",
         "1.0",
         "6.0",
         "3.0",
         "3.0",
         null,
         null,
         null,
         null,
         null,
         null,
         "4.0",
         "4.0",
         null,
         "4.0",
         "2.0",
         "4.0",
         null,
         null,
         "4.0",
         null,
         null,
         "4.0",
         null,
         "2.0",
         "3.0",
         "4.0",
         null,
         "5.0",
         null,
         "4.0",
         null,
         null,
         "3.0",
         null,
         "2.0",
         "1.0",
         "1.0",
         "2.0",
         null,
         null,
         "3.0",
         null,
         "4.0",
         null,
         "5.0",
         null,
         null,
         null,
         "4.0",
         null,
         null,
         null,
         "3.0",
         "2.0",
         "3.0",
         "4.0",
         null,
         null,
         "2.0",
         null,
         "3.0",
         "4.0",
         null,
         "3.0",
         null,
         "2.0",
         null,
         "1.0",
         "2.0",
         "3.0",
         null,
         null,
         "3.0",
         "3.0",
         null,
         null,
         null,
         null,
         null,
         null,
         null,
         null,
         "4.0",
         null,
         null,
         null,
         null,
         null,
         null,
         null,
         null,
         null,
         null,
         null,
         null,
         null,
         null,
         null,
         null,
         null,
         null,
         null,
         "3.0",
         null,
         null,
         null,
         null,
         null,
         null,
         null,
         "4.0",
         null,
         null,
         null,
         null,
         null,
         "1.0",
         null,
         null,
         "20.0",
         "66.0",
         "4.0",
         "4.0",
         "5.0",
         "5.0",
         null,
         "1.0",
         "2.0",
         "3.0",
         null,
         "4.0",
         null,
         null,
         null,
         null,
         null,
         null,
         null,
         null,
         null,
         null,
         null,
         null,
         null,
         null,
         null,
         null,
         null,
         null,
         null,
         null,
         null,
         null,
         null,
         null,
         null,
         null,
         null,
         null,
         null,
         null,
         null,
         null,
         null,
         null,
         null,
         null,
         null,
         null,
         null,
         null,
         null,
         null,
         null,
         null,
         null,
         null,
         null,
         null,
         null,
         null,
         null,
         "4.0",
         null,
         null,
         null,
         null,
         null,
         null,
         null,
         null,
         null,
         null,
         null,
         null,
         null,
         null,
         null,
         null,
         null,
         null,
         null,
         null,
         null,
         null,
         null,
         null,
         null,
         null,
         null,
         null,
         null,
         null,
         null,
         null,
         null,
         null,
         null,
         null,
         null,
         null,
         null,
         null,
         null,
         null,
         null,
         null,
         null,
         null,
         "0.0",
         "0.0",
         "0.0",
         "0.0",
         "0.0",
         "0.0",
         null,
         null,
         null,
         null,
         null,
         null,
         null,
         null,
         null,
         null,
         null,
         null,
         null,
         null,
         null,
         null,
         null,
         null,
         null,
         null,
         null,
         null,
         null,
         null,
         null,
         null,
         null,
         null,
         null,
         null,
         null,
         null,
         null,
         null,
         null,
         null,
         null,
         null,
         null,
         null,
         null,
         null,
         null,
         null,
         null,
         null,
         null,
         null,
         null,
         null,
         null,
         null,
         null,
         null,
         null,
         null,
         null,
         null,
         null,
         null,
         null,
         null,
         null,
         null,
         null,
         null,
         null,
         null,
         null,
         null,
         null,
         null,
         null,
         null,
         null,
         null,
         null,
         null,
         null,
         null,
         null,
         null,
         null,
         null,
         null,
         null,
         null,
         null,
         null,
         null,
         "9999999",
         null,
         null,
         null,
         null,
         null,
         null,
         null,
         null,
         null,
         null,
         null,
         null,
         null,
         null,
         null,
         null,
         null,
         null,
         null,
         null,
         null,
         null,
         null,
         null,
         null,
         null,
         null,
         null,
         null,
         null,
         null,
         null,
         null,
         null,
         null,
         null,
         null,
         null,
         null,
         null,
         null,
         null,
         null,
         null,
         null,
         null,
         null,
         null,
         null,
         null,
         null,
         null,
         null,
         null,
         null,
         null,
         null,
         null,
         null,
         null,
         null,
         null,
         null,
         null,
         null,
         null,
         null,
         null,
         null,
         null,
         null,
         null,
         null,
         null,
         null,
         null,
         null,
         null,
         null,
         null,
         null,
         null,
         null,
         null,
         null,
         null,
         null,
         null,
         null,
         null,
         null,
         null,
         null,
         null,
         null,
         null,
         null,
         null,
         null,
         null,
         null,
         null,
         null,
         null,
         null,
         null,
         null,
         null,
         null,
         null,
         null,
         null,
         null,
         null,
         null,
         null,
         null,
         null,
         null,
         null,
         null,
         null,
         null,
         null,
         null,
         null,
         null,
         null,
         null,
         null,
         null,
         null,
         null,
         null,
         null,
         null,
         null,
         null,
         null,
         null,
         null,
         null,
         null,
         null,
         null,
         null,
         null,
         null,
         null,
         null,
         null,
         null,
         null,
         null,
         null,
         null,
         null,
         null,
         null,
         null,
         null,
         null,
         null,
         null,
         "5.0",
         null,
         null,
         null,
         null,
         null,
         "6.0",
         null,
         null,
         "2.0",
         "3.0",
         "3.0",
         "2.0",
         "2.0",
         "4.0",
         "4.0",
         "2.0",
         "3.0",
         "4.0",
         "4.0",
         "4.0",
         "4.0",
         "4.0",
         "4.0",
         "4.0",
         "4.0",
         "4.0",
         "4.0",
         "4.0",
         "4.0",
         "4.0",
         "4.0",
         "4.0",
         "5.0",
         "4.0",
         "5.0",
         "4.0",
         "4.0",
         "4.0",
         "4.0",
         "4.0",
         "4.0",
         "4.0",
         "4.0",
         "6.0",
         "6.0",
         "6.0",
         "6.0",
         "6.0",
         "6.0",
         "6.0",
         "6.0",
         "6.0",
         "6.0",
         "6.0",
         "6.0",
         "6.0",
         "6.0",
         "6.0",
         "6.0",
         "6.0",
         "6.0",
         "4.0",
         "4.0",
         "4.0",
         "4.0",
         "4.0",
         "4.0",
         "4.0",
         "4.0",
         "4.0",
         "4.0",
         "4.0",
         "4.0",
         "4.0",
         "4.0",
         "3.0",
         "5.0",
         "3.0",
         "4.0",
         "4.0",
         "3.0",
         "1.0",
         "1.0",
         "2.0",
         "3.0",
         "5.0",
         "4.0",
         "3.0",
         "1.0",
         "1.0",
         "2.0",
         "2.0",
         "3.0",
         "3.0",
         "3.0",
         "3.0",
         null,
         null,
         null,
         null,
         null,
         null,
         null,
         null,
         null,
         null,
         null,
         null,
         null,
         null,
         null,
         null,
         null,
         null,
         null,
         null,
         null,
         null,
         null,
         null,
         null,
         null,
         null,
         null,
         null,
         null,
         null,
         null,
         null,
         null,
         null,
         null,
         null,
         null,
         null,
         null,
         null,
         null,
         null,
         null,
         null,
         null,
         null,
         null,
         null,
         null,
         null,
         null,
         null,
         null,
         null,
         null,
         null,
         null,
         null,
         null,
         null,
         null,
         null,
         null,
         null,
         null,
         null,
         null,
         null,
         null,
         null,
         null,
         null,
         null,
         null,
         null,
         null,
         null,
         null,
         null,
         null,
         null,
         null,
         null,
         null,
         null,
         null,
         null,
         null,
         null,
         null,
         null,
         null,
         null,
         null,
         null,
         null,
         null,
         null,
         null,
         null,
         null,
         null,
         null,
         null,
         null,
         null,
         null,
         null,
         null,
         null,
         null,
         null,
         null,
         null,
         null,
         null,
         null,
         null,
         null,
         null,
         null,
         null,
         null,
         null,
         null,
         null,
         null,
         null,
         null,
         null,
         null,
         null,
         null,
         null,
         null,
         null,
         null,
         null,
         null,
         null,
         null,
         null,
         null,
         null,
         null,
         null,
         null,
         null,
         null,
         null,
         null,
         null,
         null,
         null,
         null,
         null,
         null,
         null,
         null,
         null,
         null,
         null,
         null,
         null,
         null,
         null,
         null,
         null,
         null,
         null,
         null,
         null,
         null,
         null,
         null,
         null,
         null,
         null,
         null,
         null,
         null,
         null,
         null,
         null,
         null,
         null,
         null,
         null,
         null,
         null,
         null,
         null,
         null,
         null,
         null,
         null,
         null,
         null,
         null,
         null,
         null,
         null,
         null,
         null,
         null,
         null,
         null,
         null,
         null,
         null,
         null,
         null,
         null,
         null,
         null,
         null,
         null,
         null,
         null,
         null,
         null,
         null,
         null,
         null,
         null,
         null,
         null,
         null,
         null,
         "3322",
         "5412",
         "9999",
         "00360002",
         "15.75",
         "0.0",
         "244.0",
         "3.0",
         "035600",
         "045800",
         "070400",
         "415.0",
         "0.0",
         "1.0",
         "1.0",
         "1.0",
         "6.0",
         "2.0",
         "7.0",
         "8.0",
         null,
         null,
         null,
         null,
         "1.0",
         null,
         null,
         "-2.0418",
         "-0.4876",
         "4.2632",
         "-1.2684",
         null,
         "-0.8039",
         "-0.7953",
         "-0.6964",
         "-1.3155",
         null,
         null,
         null,
         null,
         null,
         null,
         "-0.5864",
         null,
         null,
         null,
         null,
         null,
         null,
         null,
         null,
         null,
         null,
         null,
         null,
         null,
         null,
         null,
         null,
         null,
         null,
         null,
         null,
         null,
         null,
         null,
         null,
         "10.0",
         "3.0",
         "10.0",
         "16.0",
         "57.03",
         "51.5",
         "57.03",
         "0.7409",
         "0.9612",
         "0.776",
         null,
         null,
         null,
         null,
         null,
         null,
         null,
         null,
         null,
         null,
         null,
         "1.0",
         null,
         "0.0",
         "-0.1578",
         "0.7732",
         "1.2049",
         "1.7711",
         "0.5735",
         "3.9236",
         "3.8168",
         "3.202",
         "3.242",
         "11.0",
         "-0.9181",
         null,
         null,
         null,
         null,
         null,
         null,
         null,
         null,
         null,
         null,
         null,
         null,
         null,
         null,
         null,
         null,
         null,
         null,
         null,
         "34.42706",
         "15.18956",
         "60.12804",
         "57.04484",
         "50.70653",
         "57.04484",
         "15.3884",
         "60.12804",
         "15.3884",
         "52.61204",
         "15.3884",
         "15.18956",
         "17.3595",
         "17.3595",
         "52.61204",
         "57.04484",
         "17.31195",
         "52.61204",
         "50.70653",
         "17.31195",
         "17.3595",
         "15.18956",
         "60.12804",
         "57.04484",
         "50.70653",
         "57.04484",
         "15.3884",
         "60.12804",
         "15.3884",
         "52.61204",
         "15.3884",
         "15.18956",
         "17.3595",
         "17.3595",
         "52.61204",
         "57.04484",
         "17.31195",
         "52.61204",
         "50.70653",
         "17.31195",
         "17.3595",
         "57.04484",
         "15.3884",
         "15.18956",
         "17.3595",
         "15.18956",
         "60.12804",
         "15.3884",
         "60.12804",
         "17.31195",
         "60.12804",
         "57.04484",
         "50.70653",
         "50.70653",
         "17.31195",
         "15.18956",
         "52.61204",
         "17.31195",
         "17.3595",
         "52.61204",
         "50.70653",
         "57.04484",
         "15.3884",
         "15.18956",
         "17.3595",
         "15.18956",
         "60.12804",
         "15.3884",
         "60.12804",
         "17.31195",
         "60.12804",
         "57.04484",
         "50.70653",
         "50.70653",
         "17.31195",
         "15.18956",
         "52.61204",
         "17.31195",
         "17.3595",
         "52.61204",
         "50.70653",
         "2.0",
         "75.0",
         "349.951",
         "377.342",
         "376.078",
         "288.505",
         "351.869",
         "285.234",
         "396.479",
         "313.339",
         "319.808",
         "354.657",
         "203.746",
         "209.108",
         "182.493",
         "221.27",
         "238.468",
         "224.347",
         "281.62",
         "215.146",
         "215.977",
         "185.393",
         "374.569",
         "452.307",
         "293.661",
         "330.691",
         "356.2",
         "315.518",
         "371.18",
         "380.23",
         "373.104",
         "265.096",
         "380.197",
         "455.447",
         "273.788",
         "348.642",
         "281.172",
         "313.91",
         "393.346",
         "254.007",
         "350.611",
         "297.874",
         "388.139",
         "417.89",
         "292.57",
         "432.985",
         "413.235",
         "365.857",
         "368.895",
         "379.825",
         "378.526",
         "293.857",
         "436.022",
         "370.156",
         "264.437",
         "294.565",
         "346.332",
         "306.606",
         "295.336",
         "329.37",
         "426.609",
         "314.572",
         "321.888",
         "291.541",
         "170.311",
         "324.796",
         "253.426",
         "356.692",
         "282.987",
         "220.576",
         "329.871",
         "201.716",
         "318.159",
         "369.189",
         "295.989",
         "322.526",
         "342.952",
         "395.643",
         "342.905",
         "344.09",
         "350.942",
         "418.465",
         "368.671",
         "279.369",
         "310.93",
         "420.347",
         "279.456",
         "285.078",
         "280.21",
         "292.848",
         "333.797",
         "380.009",
         "322.47",
         "353.614",
         "260.7",
         "343.32",
         "369.514",
         "307.98",
         "291.094",
         "321.889",
         "281.012",
         "405.79",
         "364.728",
         "282.775",
         "318.097",
         "309.26",
         "276.532",
         "294.033",
         "344.479",
         "239.871",
         "291.53",
         "446.273",
         "0.64909",
         "  02MAY23:09:32:29",
         null
        ],
        [
         "1",
         "AUS",
         "36.0",
         "3600280.0",
         "3600022.0",
         "08MS",
         "003600",
         "AUS09",
         "0360000",
         "3600.0",
         "1.0",
         "2.0",
         "313.0",
         "313.0",
         null,
         null,
         null,
         "1.0",
         "0.0",
         "0.0",
         "1.0",
         "0.0",
         "32.0",
         "10.0",
         "3.0",
         "2007.0",
         "1.0",
         "1.0",
         "1.0",
         "1.0",
         "1.0",
         "1.0",
         "0360001",
         "0360002",
         "3.0",
         "1.0",
         "3.0",
         "3.0",
         "3.0",
         "4.0",
         "0360003",
         "0360004",
         "8.0",
         "2.0",
         "2.0",
         "4.0",
         "3.0",
         "1.0",
         "4.0",
         "4.0",
         "1.0",
         "2.0",
         "2.0",
         "2.0",
         "2.0",
         "4.0",
         "2.0",
         "4.0",
         "3.0",
         "1.0",
         "2.0",
         "2.0",
         "1.0",
         "2.0",
         "2.0",
         "1.0",
         "2.0",
         "1.0",
         "1.0",
         "2.0",
         "2.0",
         null,
         null,
         null,
         "1.0",
         "1.0",
         "1.0",
         null,
         "1.0",
         "1.0",
         "3.0",
         "2.0",
         "1.0",
         "1.0",
         "1.0",
         "1.0",
         "1.0",
         "1.0",
         null,
         null,
         null,
         null,
         null,
         null,
         null,
         null,
         null,
         null,
         null,
         "1.0",
         "1.0",
         "1.0",
         "3.0",
         "3.0",
         "3.0",
         "2.0",
         null,
         "3.0",
         null,
         null,
         "4.0",
         "1.0",
         "1.0",
         "3.0",
         null,
         "3.0",
         "1.0",
         "1.0",
         "1.0",
         "1.0",
         "1.0",
         "1.0",
         null,
         null,
         null,
         "1.0",
         "1.0",
         "1.0",
         "1.0",
         null,
         null,
         null,
         null,
         null,
         "2.0",
         "1.0",
         "1.0",
         "1.0",
         "2.0",
         "6.0",
         "6.0",
         "4.0",
         "1.0",
         "6.0",
         "4.0",
         "5.0",
         "5.0",
         "2.0",
         "4.0",
         "4.0",
         null,
         null,
         null,
         null,
         null,
         null,
         "5.0",
         "5.0",
         null,
         "2.0",
         "1.0",
         "1.0",
         null,
         "5.0",
         null,
         "1.0",
         null,
         "1.0",
         "2.0",
         null,
         null,
         "1.0",
         null,
         null,
         "4.0",
         null,
         "4.0",
         "4.0",
         null,
         "4.0",
         "2.0",
         null,
         "4.0",
         "4.0",
         "2.0",
         null,
         "4.0",
         null,
         null,
         null,
         null,
         "4.0",
         "4.0",
         "2.0",
         "4.0",
         null,
         "2.0",
         "3.0",
         null,
         null,
         null,
         null,
         null,
         null,
         "5.0",
         "5.0",
         "2.0",
         null,
         null,
         "4.0",
         null,
         "4.0",
         null,
         null,
         "4.0",
         "4.0",
         "2.0",
         "4.0",
         null,
         "1.0",
         null,
         null,
         null,
         null,
         "2.0",
         null,
         "3.0",
         "5.0",
         "2.0",
         "4.0",
         "5.0",
         null,
         "5.0",
         null,
         "5.0",
         null,
         "2.0",
         null,
         "5.0",
         null,
         null,
         null,
         "2.0",
         "2.0",
         null,
         "4.0",
         null,
         "4.0",
         "4.0",
         null,
         "4.0",
         null,
         null,
         "4.0",
         "4.0",
         "2.0",
         null,
         null,
         null,
         "4.0",
         "1.0",
         "3.0",
         "3.0",
         null,
         null,
         "4.0",
         "27.0",
         "3.0",
         "3.0",
         "2.0",
         "3.0",
         null,
         "3.0",
         "3.0",
         null,
         "3.0",
         "3.0",
         null,
         "2.0",
         "2.0",
         "3.0",
         "2.0",
         "2.0",
         null,
         "3.0",
         "2.0",
         null,
         "4.0",
         null,
         null,
         "4.0",
         "4.0",
         null,
         "3.0",
         "5.0",
         null,
         null,
         "5.0",
         null,
         "4.0",
         "4.0",
         null,
         null,
         null,
         null,
         "1.0",
         "2.0",
         "1.0",
         null,
         "1.0",
         null,
         "1.0",
         "2.0",
         null,
         null,
         null,
         "1.0",
         null,
         "2.0",
         "1.0",
         "4.0",
         "1.0",
         "4.0",
         "4.0",
         "2.0",
         "3.0",
         "4.0",
         "4.0",
         "4.0",
         null,
         null,
         "4.0",
         "4.0",
         "4.0",
         "3.0",
         null,
         "4.0",
         null,
         null,
         "4.0",
         "2.0",
         null,
         "3.0",
         "4.0",
         null,
         null,
         "2.0",
         null,
         "3.0",
         "5.0",
         null,
         null,
         "5.0",
         "5.0",
         null,
         null,
         null,
         null,
         null,
         "5.0",
         "4.0",
         "5.0",
         null,
         "1.0",
         null,
         "5.0",
         null,
         "5.0",
         null,
         "4.0",
         "4.0",
         "4.0",
         null,
         "3.0",
         "4.0",
         "0.0",
         "0.0",
         "0.0",
         "0.0",
         "0.0",
         "1.0",
         null,
         null,
         null,
         null,
         null,
         null,
         null,
         null,
         null,
         null,
         null,
         null,
         null,
         null,
         null,
         null,
         null,
         null,
         null,
         null,
         null,
         null,
         null,
         null,
         null,
         null,
         null,
         null,
         null,
         null,
         null,
         null,
         null,
         null,
         null,
         null,
         null,
         null,
         null,
         null,
         null,
         null,
         null,
         null,
         null,
         null,
         null,
         null,
         null,
         null,
         null,
         null,
         null,
         null,
         null,
         null,
         null,
         null,
         null,
         null,
         null,
         null,
         "5.0",
         null,
         null,
         "5.0",
         "4.0",
         "5.0",
         null,
         null,
         null,
         "5.0",
         "1.0",
         "1.0",
         "1.0",
         "2.0",
         "2.0",
         "1.0",
         "1.0",
         "3.0",
         null,
         "3.0",
         "2.0",
         "2.0",
         null,
         null,
         "2.0",
         null,
         "3.0",
         null,
         "9999999",
         null,
         null,
         null,
         "2.0",
         null,
         "1.0",
         "3.0",
         "4.0",
         "4.0",
         "6.0",
         "1.0",
         "3.0",
         "3.0",
         null,
         null,
         null,
         "4.0",
         "3.0",
         "4.0",
         "1.0",
         "1.0",
         "3.0",
         "4.0",
         null,
         "4.0",
         null,
         "3.0",
         null,
         "3.0",
         "1.0",
         "1.0",
         null,
         null,
         "1.0",
         null,
         "2.0",
         "2.0",
         null,
         "4.0",
         null,
         "4.0",
         "4.0",
         "4.0",
         "4.0",
         null,
         null,
         "2.0",
         null,
         null,
         null,
         "2.0",
         null,
         "3.0",
         "3.0",
         "4.0",
         "4.0",
         "4.0",
         "4.0",
         "4.0",
         null,
         null,
         null,
         "4.0",
         "3.0",
         "7.0",
         "9.0",
         "8.0",
         null,
         null,
         null,
         null,
         null,
         null,
         null,
         null,
         null,
         null,
         null,
         null,
         null,
         null,
         null,
         null,
         null,
         null,
         null,
         null,
         null,
         null,
         null,
         null,
         null,
         null,
         null,
         null,
         null,
         null,
         null,
         null,
         null,
         null,
         null,
         null,
         null,
         null,
         null,
         null,
         null,
         null,
         null,
         null,
         null,
         null,
         null,
         null,
         null,
         null,
         null,
         null,
         null,
         null,
         null,
         null,
         null,
         null,
         null,
         null,
         null,
         null,
         null,
         null,
         null,
         null,
         null,
         null,
         null,
         null,
         null,
         null,
         null,
         null,
         null,
         null,
         null,
         null,
         null,
         null,
         null,
         null,
         null,
         null,
         null,
         null,
         null,
         null,
         null,
         null,
         null,
         null,
         null,
         "5.0",
         "5.0",
         "2.0",
         "5.0",
         "5.0",
         "5.0",
         "4.0",
         "5.0",
         "5.0",
         "5.0",
         "5.0",
         "5.0",
         "1.0",
         "3.0",
         "3.0",
         "2.0",
         "3.0",
         "3.0",
         "3.0",
         "3.0",
         "2.0",
         "2.0",
         "1.0",
         "5.0",
         "4.0",
         "6.0",
         "4.0",
         "4.0",
         "4.0",
         "4.0",
         "3.0",
         "3.0",
         "3.0",
         "3.0",
         "3.0",
         "2.0",
         "4.0",
         "3.0",
         "4.0",
         "3.0",
         "4.0",
         "4.0",
         "4.0",
         "4.0",
         "4.0",
         "4.0",
         "5.0",
         "5.0",
         "5.0",
         "4.0",
         "2.0",
         "2.0",
         "2.0",
         "2.0",
         "2.0",
         "2.0",
         "2.0",
         "1.0",
         "1.0",
         "2.0",
         "2.0",
         "2.0",
         "2.0",
         "2.0",
         "1.0",
         "1.0",
         "2.0",
         "1.0",
         "1.0",
         "1.0",
         "1.0",
         "1.0",
         "3.0",
         "3.0",
         "3.0",
         "4.0",
         "4.0",
         "4.0",
         "2.0",
         "1.0",
         "3.0",
         "4.0",
         "5.0",
         "1.0",
         "2.0",
         "1.0",
         "3.0",
         "4.0",
         "3.0",
         "4.0",
         "4.0",
         "4.0",
         "3.0",
         "4.0",
         "4.0",
         "2.0",
         "4.0",
         "3.0",
         "1.0",
         "3.0",
         "2.0",
         null,
         null,
         null,
         null,
         null,
         null,
         null,
         null,
         null,
         null,
         null,
         null,
         null,
         null,
         null,
         null,
         null,
         null,
         null,
         null,
         null,
         null,
         null,
         null,
         null,
         null,
         null,
         null,
         null,
         null,
         null,
         null,
         null,
         null,
         null,
         null,
         null,
         null,
         null,
         null,
         null,
         null,
         null,
         null,
         null,
         null,
         null,
         null,
         null,
         null,
         null,
         null,
         null,
         null,
         null,
         null,
         null,
         null,
         null,
         null,
         null,
         null,
         null,
         null,
         null,
         null,
         null,
         null,
         null,
         null,
         null,
         null,
         null,
         null,
         null,
         null,
         null,
         null,
         null,
         null,
         null,
         null,
         null,
         null,
         null,
         null,
         null,
         null,
         null,
         null,
         null,
         null,
         null,
         null,
         null,
         null,
         null,
         null,
         null,
         null,
         null,
         null,
         null,
         null,
         null,
         null,
         null,
         null,
         null,
         null,
         null,
         null,
         null,
         null,
         null,
         null,
         null,
         null,
         null,
         null,
         null,
         null,
         null,
         null,
         null,
         null,
         null,
         null,
         null,
         null,
         null,
         null,
         null,
         null,
         null,
         null,
         null,
         null,
         null,
         null,
         null,
         null,
         null,
         null,
         null,
         null,
         null,
         null,
         null,
         null,
         null,
         null,
         null,
         null,
         null,
         null,
         null,
         null,
         null,
         null,
         null,
         null,
         null,
         null,
         null,
         null,
         null,
         null,
         null,
         null,
         null,
         null,
         null,
         null,
         null,
         null,
         null,
         null,
         null,
         null,
         null,
         null,
         null,
         null,
         null,
         null,
         null,
         null,
         null,
         null,
         null,
         null,
         null,
         null,
         null,
         null,
         null,
         null,
         null,
         null,
         null,
         null,
         null,
         null,
         null,
         null,
         null,
         null,
         null,
         null,
         null,
         null,
         null,
         null,
         null,
         null,
         null,
         null,
         null,
         null,
         null,
         null,
         null,
         null,
         null,
         null,
         null,
         null,
         "5.0",
         "8.0",
         "2221",
         "2212",
         "221",
         "00360001",
         "15.33",
         "0.0",
         "244.0",
         "1.0",
         "003600",
         "003600",
         "003600",
         "313.0",
         "0.0",
         "0.0",
         "0.0",
         "0.0",
         "6.0",
         "5.0",
         "0.0",
         "3.0",
         "8.0",
         "0.0",
         "1.0",
         "0.0",
         "1.0",
         "88.7",
         "1.0",
         "0.1423",
         "0.2237",
         "-1.1095",
         "1.1246",
         null,
         "2.7638",
         "0.2454",
         "-0.3161",
         "0.9936",
         "2.214",
         "0.855",
         "-0.1049",
         null,
         "0.7182",
         "0.986",
         "-0.3312",
         "-0.3322",
         "-0.0363",
         "1.0555",
         "0.7865",
         "1.3351",
         "1.4462",
         "0.9239",
         "1.944",
         "-1.6826",
         "1.8586",
         null,
         null,
         null,
         null,
         null,
         null,
         null,
         null,
         "0.4073",
         "1.0081",
         "-0.4461",
         "2.1187",
         "0.2291",
         "1.986",
         "8.0",
         "9.0",
         "9.0",
         "16.0",
         "68.7",
         "81.92",
         "81.92",
         "1.6511",
         "1.1106",
         "1.3093",
         null,
         null,
         null,
         null,
         null,
         null,
         null,
         null,
         null,
         null,
         "0.4062",
         "7.0",
         "0.3346",
         "6.0",
         "-0.1986",
         "0.4911",
         "0.5222",
         "0.7447",
         "0.8311",
         "-0.9942",
         "-0.9141",
         "-0.9472",
         "1.6222",
         "9.0",
         "-0.1008",
         null,
         null,
         null,
         null,
         null,
         null,
         null,
         null,
         null,
         null,
         null,
         null,
         null,
         null,
         null,
         null,
         null,
         null,
         null,
         "33.29791",
         "49.94686",
         "49.94686",
         "16.64895",
         "16.64895",
         "16.64895",
         "16.64895",
         "49.94686",
         "16.64895",
         "49.94686",
         "16.64895",
         "49.94686",
         "49.94686",
         "49.94686",
         "49.94686",
         "16.64895",
         "16.64895",
         "49.94686",
         "16.64895",
         "16.64895",
         "49.94686",
         "16.64895",
         "16.64895",
         "49.94686",
         "49.94686",
         "49.94686",
         "49.94686",
         "16.64895",
         "49.94686",
         "16.64895",
         "49.94686",
         "16.64895",
         "16.64895",
         "16.64895",
         "16.64895",
         "49.94686",
         "49.94686",
         "16.64895",
         "49.94686",
         "49.94686",
         "16.64895",
         "16.64895",
         "16.64895",
         "49.94686",
         "49.94686",
         "49.94686",
         "49.94686",
         "16.64895",
         "49.94686",
         "16.64895",
         "49.94686",
         "16.64895",
         "16.64895",
         "16.64895",
         "16.64895",
         "49.94686",
         "49.94686",
         "16.64895",
         "49.94686",
         "49.94686",
         "16.64895",
         "49.94686",
         "49.94686",
         "16.64895",
         "16.64895",
         "16.64895",
         "16.64895",
         "49.94686",
         "16.64895",
         "49.94686",
         "16.64895",
         "49.94686",
         "49.94686",
         "49.94686",
         "49.94686",
         "16.64895",
         "16.64895",
         "49.94686",
         "16.64895",
         "16.64895",
         "49.94686",
         "1.0",
         "69.0",
         "664.91",
         "631.95",
         "574.993",
         "663.405",
         "649.876",
         "674.528",
         "664.404",
         "620.749",
         "588.561",
         "664.93",
         "619.606",
         "592.17",
         "624.961",
         "698.264",
         "641.978",
         "678.686",
         "642.579",
         "592.614",
         "613.0",
         "640.608",
         "595.133",
         "604.754",
         "566.09",
         "621.279",
         "605.321",
         "607.869",
         "566.3",
         "603.201",
         "558.847",
         "572.624",
         "704.424",
         "620.705",
         "648.974",
         "779.623",
         "668.267",
         "702.673",
         "673.727",
         "694.69",
         "599.972",
         "620.68",
         "674.455",
         "633.487",
         "616.127",
         "710.745",
         "683.355",
         "682.504",
         "633.126",
         "646.918",
         "607.896",
         "566.532",
         "607.068",
         "654.995",
         "620.977",
         "679.192",
         "647.99",
         "565.051",
         "533.429",
         "599.954",
         "598.485",
         "551.91",
         "811.392",
         "633.881",
         "692.65",
         "741.187",
         "769.285",
         "648.803",
         "595.657",
         "679.109",
         "606.309",
         "702.941",
         "664.12",
         "555.996",
         "686.641",
         "549.865",
         "619.785",
         "563.073",
         "613.122",
         "531.983",
         "525.072",
         "596.538",
         "673.364",
         "637.35",
         "660.641",
         "617.99",
         "638.347",
         "623.594",
         "659.274",
         "595.124",
         "619.114",
         "704.997",
         "674.158",
         "585.103",
         "628.582",
         "574.556",
         "659.001",
         "561.648",
         "583.006",
         "567.787",
         "603.678",
         "671.405",
         "765.583",
         "638.727",
         "669.68",
         "624.878",
         "689.692",
         "615.668",
         "620.858",
         "615.082",
         "679.84",
         "655.12",
         "0.6278",
         "  02MAY23:09:32:29",
         null
        ],
        [
         "2",
         "AUS",
         "36.0",
         "3600333.0",
         "3600035.0",
         "08MS",
         "003600",
         "AUS09",
         "0360000",
         "3600.0",
         "1.0",
         "2.0",
         "313.0",
         "313.0",
         null,
         null,
         null,
         "1.0",
         "0.0",
         "0.0",
         "1.0",
         "0.0",
         "11.0",
         "10.0",
         "7.0",
         "2006.0",
         "2.0",
         "1.0",
         "1.0",
         "1.0",
         "1.0",
         "1.0",
         "0360001",
         "0360002",
         "3.0",
         "1.0",
         "2.0",
         "2.0",
         "2.0",
         "3.0",
         "0360003",
         "0360001",
         "7.0",
         "3.0",
         "3.0",
         "3.0",
         "3.0",
         "1.0",
         "4.0",
         "3.0",
         "2.0",
         "1.0",
         "1.0",
         "2.0",
         "2.0",
         "1.0",
         "2.0",
         "4.0",
         "4.0",
         "1.0",
         "2.0",
         "2.0",
         "2.0",
         "1.0",
         "1.0",
         "1.0",
         null,
         "1.0",
         "1.0",
         "1.0",
         "1.0",
         null,
         null,
         null,
         "1.0",
         "2.0",
         "2.0",
         null,
         "1.0",
         "3.0",
         "4.0",
         "3.0",
         "1.0",
         "1.0",
         "1.0",
         "1.0",
         "1.0",
         "1.0",
         null,
         null,
         null,
         null,
         null,
         null,
         null,
         null,
         null,
         null,
         null,
         "1.0",
         "1.0",
         "1.0",
         "3.0",
         null,
         null,
         "1.0",
         null,
         "2.0",
         "2.0",
         "3.0",
         "4.0",
         "2.0",
         "3.0",
         null,
         "2.0",
         "3.0",
         "1.0",
         "1.0",
         "1.0",
         "1.0",
         "1.0",
         "1.0",
         null,
         null,
         null,
         "2.0",
         "1.0",
         "2.0",
         "2.0",
         null,
         null,
         null,
         null,
         null,
         "6.0",
         "5.0",
         "6.0",
         "1.0",
         "6.0",
         "6.0",
         "5.0",
         "6.0",
         "1.0",
         "6.0",
         "4.0",
         "5.0",
         "5.0",
         "5.0",
         "2.0",
         "1.0",
         null,
         null,
         null,
         null,
         null,
         null,
         "5.0",
         null,
         "5.0",
         "5.0",
         "1.0",
         "1.0",
         null,
         "4.0",
         "4.0",
         "2.0",
         "4.0",
         null,
         null,
         "4.0",
         null,
         null,
         null,
         null,
         null,
         "4.0",
         null,
         "4.0",
         "2.0",
         null,
         "4.0",
         "4.0",
         "4.0",
         null,
         null,
         "4.0",
         null,
         null,
         null,
         "2.0",
         "4.0",
         "4.0",
         "3.0",
         null,
         null,
         "4.0",
         "2.0",
         "3.0",
         null,
         "4.0",
         null,
         null,
         "2.0",
         "4.0",
         null,
         null,
         "2.0",
         "4.0",
         null,
         null,
         null,
         "4.0",
         null,
         "4.0",
         null,
         null,
         null,
         "2.0",
         "3.0",
         "4.0",
         null,
         "4.0",
         "4.0",
         "4.0",
         "4.0",
         "4.0",
         null,
         null,
         null,
         "4.0",
         null,
         "2.0",
         "3.0",
         null,
         null,
         "4.0",
         null,
         "2.0",
         "2.0",
         null,
         null,
         null,
         "2.0",
         "2.0",
         null,
         null,
         "4.0",
         null,
         "4.0",
         "1.0",
         null,
         null,
         null,
         "2.0",
         "4.0",
         "2.0",
         null,
         null,
         "2.0",
         "2.0",
         "2.0",
         "2.0",
         "2.0",
         null,
         null,
         "6.0",
         "14.0",
         "4.0",
         "4.0",
         "4.0",
         "4.0",
         null,
         null,
         "2.0",
         null,
         "3.0",
         "3.0",
         "3.0",
         "3.0",
         "4.0",
         "3.0",
         "2.0",
         "2.0",
         null,
         "4.0",
         "4.0",
         "4.0",
         null,
         "4.0",
         null,
         "4.0",
         null,
         "1.0",
         "1.0",
         null,
         null,
         "1.0",
         null,
         "1.0",
         "1.0",
         null,
         "1.0",
         "4.0",
         null,
         null,
         "4.0",
         null,
         "4.0",
         "2.0",
         null,
         null,
         "4.0",
         "1.0",
         null,
         "4.0",
         "4.0",
         "4.0",
         null,
         null,
         null,
         "1.0",
         "2.0",
         "2.0",
         "2.0",
         "2.0",
         "2.0",
         "4.0",
         "4.0",
         "4.0",
         null,
         "3.0",
         "1.0",
         null,
         null,
         "1.0",
         "3.0",
         "1.0",
         null,
         "1.0",
         null,
         null,
         "1.0",
         null,
         null,
         "1.0",
         null,
         "1.0",
         "1.0",
         null,
         null,
         null,
         null,
         "5.0",
         null,
         null,
         "5.0",
         "5.0",
         "5.0",
         "5.0",
         null,
         null,
         "4.0",
         "4.0",
         null,
         "4.0",
         "5.0",
         "2.0",
         null,
         null,
         "3.0",
         "3.0",
         "3.0",
         "3.0",
         "2.0",
         null,
         "1.0",
         "0.0",
         "0.0",
         "0.0",
         "0.0",
         "0.0",
         null,
         null,
         null,
         null,
         null,
         null,
         null,
         null,
         null,
         null,
         null,
         null,
         null,
         null,
         null,
         null,
         null,
         null,
         null,
         null,
         null,
         null,
         null,
         null,
         null,
         null,
         null,
         null,
         null,
         null,
         null,
         null,
         null,
         null,
         null,
         null,
         null,
         null,
         null,
         null,
         null,
         null,
         null,
         null,
         null,
         null,
         null,
         null,
         null,
         null,
         null,
         null,
         null,
         null,
         null,
         null,
         null,
         null,
         null,
         null,
         null,
         null,
         null,
         "5.0",
         "5.0",
         null,
         null,
         null,
         "3.0",
         "3.0",
         null,
         "2.0",
         "1.0",
         "1.0",
         "1.0",
         "2.0",
         "2.0",
         "1.0",
         "1.0",
         "2.0",
         null,
         null,
         null,
         null,
         null,
         "1.0",
         "1.0",
         "2.0",
         "2.0",
         null,
         "0360002",
         null,
         "4.0",
         "3.0",
         "2.0",
         null,
         "2.0",
         "3.0",
         null,
         null,
         "4.0",
         "4.0",
         "2.0",
         null,
         "2.0",
         "2.0",
         null,
         "2.0",
         null,
         "2.0",
         "1.0",
         null,
         "1.0",
         "4.0",
         "4.0",
         "4.0",
         null,
         "3.0",
         null,
         null,
         "3.0",
         null,
         "3.0",
         "3.0",
         null,
         "3.0",
         "3.0",
         null,
         null,
         "1.0",
         "4.0",
         null,
         "4.0",
         "1.0",
         "4.0",
         null,
         "2.0",
         null,
         null,
         "2.0",
         "3.0",
         "3.0",
         null,
         null,
         "3.0",
         null,
         "3.0",
         "3.0",
         "3.0",
         null,
         "3.0",
         null,
         "3.0",
         null,
         "3.0",
         "1.0",
         "10.0",
         "10.0",
         null,
         null,
         null,
         null,
         null,
         null,
         null,
         null,
         null,
         null,
         null,
         null,
         null,
         null,
         null,
         null,
         null,
         null,
         null,
         null,
         null,
         null,
         null,
         null,
         null,
         null,
         null,
         null,
         null,
         null,
         null,
         null,
         null,
         null,
         null,
         null,
         null,
         null,
         null,
         null,
         null,
         null,
         null,
         null,
         null,
         null,
         null,
         null,
         null,
         null,
         null,
         null,
         null,
         null,
         null,
         null,
         null,
         null,
         null,
         null,
         null,
         null,
         null,
         null,
         null,
         null,
         null,
         null,
         null,
         null,
         null,
         null,
         null,
         null,
         null,
         null,
         null,
         null,
         null,
         null,
         null,
         null,
         null,
         null,
         null,
         null,
         null,
         null,
         null,
         null,
         null,
         null,
         null,
         "4.0",
         "1.0",
         "4.0",
         "4.0",
         "4.0",
         "4.0",
         "4.0",
         "4.0",
         "4.0",
         "4.0",
         "4.0",
         "1.0",
         "4.0",
         "3.0",
         "3.0",
         "3.0",
         "3.0",
         "3.0",
         "3.0",
         "3.0",
         "3.0",
         "3.0",
         "5.0",
         "5.0",
         "5.0",
         "5.0",
         "5.0",
         "5.0",
         "5.0",
         "5.0",
         "5.0",
         "5.0",
         "5.0",
         "5.0",
         "5.0",
         "5.0",
         "5.0",
         "5.0",
         "5.0",
         "5.0",
         "3.0",
         "3.0",
         "3.0",
         "3.0",
         "3.0",
         "3.0",
         null,
         "3.0",
         "6.0",
         "5.0",
         "4.0",
         "3.0",
         "1.0",
         "2.0",
         "1.0",
         "1.0",
         "2.0",
         "1.0",
         "1.0",
         "5.0",
         "4.0",
         "3.0",
         "5.0",
         "3.0",
         "4.0",
         "5.0",
         "1.0",
         "2.0",
         "1.0",
         "1.0",
         "1.0",
         "3.0",
         "2.0",
         "3.0",
         "3.0",
         "3.0",
         "3.0",
         "3.0",
         "3.0",
         "3.0",
         "2.0",
         "5.0",
         "1.0",
         "1.0",
         "3.0",
         "3.0",
         "3.0",
         "1.0",
         "2.0",
         "2.0",
         "2.0",
         "3.0",
         "3.0",
         "3.0",
         "2.0",
         "2.0",
         "2.0",
         "2.0",
         "2.0",
         "2.0",
         "2.0",
         null,
         null,
         null,
         null,
         null,
         null,
         null,
         null,
         null,
         null,
         null,
         null,
         null,
         null,
         null,
         null,
         null,
         null,
         null,
         null,
         null,
         null,
         null,
         null,
         null,
         null,
         null,
         null,
         null,
         null,
         null,
         null,
         null,
         null,
         null,
         null,
         null,
         null,
         null,
         null,
         null,
         null,
         null,
         null,
         null,
         null,
         null,
         null,
         null,
         null,
         null,
         null,
         null,
         null,
         null,
         null,
         null,
         null,
         null,
         null,
         null,
         null,
         null,
         null,
         null,
         null,
         null,
         null,
         null,
         null,
         null,
         null,
         null,
         null,
         null,
         null,
         null,
         null,
         null,
         null,
         null,
         null,
         null,
         null,
         null,
         null,
         null,
         null,
         null,
         null,
         null,
         null,
         null,
         null,
         null,
         null,
         null,
         null,
         null,
         null,
         null,
         null,
         null,
         null,
         null,
         null,
         null,
         null,
         null,
         null,
         null,
         null,
         null,
         null,
         null,
         null,
         null,
         null,
         null,
         null,
         null,
         null,
         null,
         null,
         null,
         null,
         null,
         null,
         null,
         null,
         null,
         null,
         null,
         null,
         null,
         null,
         null,
         null,
         null,
         null,
         null,
         null,
         null,
         null,
         null,
         null,
         null,
         null,
         null,
         null,
         null,
         null,
         null,
         null,
         null,
         null,
         null,
         null,
         null,
         null,
         null,
         null,
         null,
         null,
         null,
         null,
         null,
         null,
         null,
         null,
         null,
         null,
         null,
         null,
         null,
         null,
         null,
         null,
         null,
         null,
         null,
         null,
         null,
         null,
         null,
         null,
         null,
         null,
         null,
         null,
         null,
         null,
         null,
         null,
         null,
         null,
         null,
         null,
         null,
         null,
         null,
         null,
         null,
         null,
         null,
         null,
         null,
         null,
         null,
         null,
         null,
         null,
         null,
         null,
         null,
         null,
         null,
         null,
         null,
         null,
         null,
         null,
         null,
         null,
         null,
         null,
         null,
         null,
         "6.0",
         "7.0",
         "9701",
         "2635",
         "3421",
         "00360001",
         "16.08",
         "0.0",
         "244.0",
         "2.0",
         "003600",
         "903600",
         "903600",
         "313.0",
         "0.0",
         "0.0",
         "0.0",
         "0.0",
         "10.0",
         "8.0",
         "0.0",
         "10.0",
         "8.0",
         "0.0",
         "0.0",
         "0.0",
         "1.0",
         "50.9",
         "1.0",
         "-1.0892",
         "-0.1203",
         "-1.1095",
         "0.0877",
         null,
         "0.5116",
         "0.0029",
         "-0.7888",
         "0.2542",
         "-0.2612",
         "0.7912",
         "0.7519",
         null,
         "1.1233",
         "-0.6856",
         "-0.3444",
         "-0.8059",
         "0.5189",
         "-1.9504",
         "-0.6688",
         "-0.9463",
         "-1.4397",
         "-2.2923",
         "3.1986",
         "-0.2045",
         "0.3105",
         null,
         null,
         null,
         null,
         null,
         null,
         null,
         null,
         "-0.7301",
         "0.5477",
         "1.2934",
         "0.7853",
         null,
         "0.1607",
         "7.0",
         "9.0",
         "9.0",
         "16.0",
         "17.0",
         "70.5",
         "70.5",
         "1.5107",
         "0.1733",
         "0.6967",
         null,
         null,
         null,
         null,
         null,
         null,
         null,
         null,
         null,
         null,
         "0.4062",
         "7.0",
         "0.3346",
         "6.0",
         "0.3623",
         "1.95",
         "3.7481",
         "2.942",
         "-0.2966",
         "-1.9711",
         "0.9703",
         "-0.4749",
         "0.6984",
         "5.0",
         "-1.0155",
         null,
         null,
         null,
         null,
         null,
         null,
         null,
         null,
         null,
         null,
         null,
         null,
         null,
         null,
         null,
         null,
         null,
         null,
         null,
         "30.74843",
         "15.74181",
         "45.02841",
         "15.37422",
         "46.12265",
         "15.37422",
         "46.12265",
         "15.37422",
         "15.74181",
         "15.74181",
         "15.74181",
         "46.12265",
         "45.02841",
         "15.37422",
         "46.12265",
         "45.02841",
         "15.37422",
         "15.74181",
         "46.12265",
         "45.02841",
         "45.02841",
         "45.02841",
         "15.74181",
         "46.12265",
         "15.37422",
         "46.12265",
         "15.37422",
         "46.12265",
         "45.02841",
         "45.02841",
         "45.02841",
         "15.37422",
         "15.74181",
         "46.12265",
         "15.37422",
         "15.74181",
         "46.12265",
         "45.02841",
         "15.37422",
         "15.74181",
         "15.74181",
         "45.02841",
         "15.74181",
         "46.12265",
         "15.37422",
         "46.12265",
         "15.37422",
         "46.12265",
         "45.02841",
         "45.02841",
         "45.02841",
         "15.37422",
         "15.74181",
         "46.12265",
         "15.37422",
         "15.74181",
         "46.12265",
         "45.02841",
         "15.37422",
         "15.74181",
         "15.74181",
         "15.74181",
         "45.02841",
         "15.37422",
         "46.12265",
         "15.37422",
         "46.12265",
         "15.37422",
         "15.74181",
         "15.74181",
         "15.74181",
         "46.12265",
         "45.02841",
         "15.37422",
         "46.12265",
         "45.02841",
         "15.37422",
         "15.74181",
         "46.12265",
         "45.02841",
         "45.02841",
         "2.0",
         "39.0",
         "388.133",
         "327.113",
         "336.732",
         "343.023",
         "358.591",
         "348.782",
         "380.955",
         "387.281",
         "367.138",
         "354.694",
         "349.41",
         "326.725",
         "332.143",
         "343.06",
         "335.619",
         "296.408",
         "351.253",
         "358.824",
         "321.264",
         "309.84",
         "468.474",
         "374.476",
         "457.776",
         "310.477",
         "390.489",
         "402.062",
         "378.524",
         "384.449",
         "398.568",
         "368.103",
         "219.854",
         "262.61",
         "312.719",
         "334.164",
         "299.663",
         "322.48",
         "357.311",
         "324.594",
         "341.954",
         "370.992",
         "312.628",
         "351.699",
         "335.564",
         "302.665",
         "312.034",
         "344.788",
         "399.731",
         "314.726",
         "355.615",
         "296.89",
         "358.007",
         "337.324",
         "304.307",
         "416.922",
         "379.773",
         "334.414",
         "435.178",
         "395.162",
         "464.242",
         "426.241",
         "302.363",
         "389.831",
         "353.211",
         "371.978",
         "400.399",
         "362.815",
         "497.626",
         "338.564",
         "425.584",
         "390.678",
         "292.955",
         "326.111",
         "293.973",
         "273.202",
         "339.072",
         "247.614",
         "294.382",
         "359.617",
         "390.303",
         "231.993",
         "408.02",
         "422.668",
         "404.306",
         "296.389",
         "416.836",
         "321.795",
         "418.054",
         "273.514",
         "389.238",
         "350.642",
         "386.363",
         "457.474",
         "418.217",
         "405.269",
         "434.03",
         "422.18",
         "388.016",
         "403.038",
         "412.811",
         "373.703",
         "359.066",
         "327.958",
         "340.067",
         "285.853",
         "331.044",
         "376.079",
         "383.64",
         "352.415",
         "369.133",
         "291.992",
         "0.57973",
         "  02MAY23:09:32:29",
         null
        ],
        [
         "3",
         "AUS",
         "36.0",
         "3600017.0",
         "3600049.0",
         "08MS",
         "003600",
         "AUS09",
         "0360000",
         "3600.0",
         "1.0",
         "2.0",
         "313.0",
         "313.0",
         null,
         null,
         null,
         "1.0",
         "0.0",
         "0.0",
         "1.0",
         "0.0",
         "23.0",
         "10.0",
         "10.0",
         "2006.0",
         "2.0",
         "1.0",
         "1.0",
         "1.0",
         "1.0",
         "1.0",
         "0360002",
         "0360002",
         "2.0",
         "1.0",
         "3.0",
         "4.0",
         "3.0",
         "2.0",
         "0360003",
         "0360004",
         "8.0",
         null,
         "3.0",
         "3.0",
         "4.0",
         "1.0",
         "4.0",
         "6.0",
         "1.0",
         "1.0",
         "2.0",
         "2.0",
         "2.0",
         "2.0",
         "2.0",
         "4.0",
         "2.0",
         "1.0",
         "1.0",
         null,
         null,
         null,
         null,
         "1.0",
         null,
         null,
         "1.0",
         null,
         null,
         null,
         null,
         null,
         "1.0",
         "1.0",
         "1.0",
         null,
         "1.0",
         "1.0",
         "1.0",
         "3.0",
         "1.0",
         "1.0",
         "1.0",
         "1.0",
         "1.0",
         "1.0",
         null,
         null,
         null,
         null,
         null,
         null,
         null,
         null,
         null,
         null,
         null,
         "2.0",
         "2.0",
         "4.0",
         null,
         "3.0",
         "3.0",
         null,
         "3.0",
         "3.0",
         "4.0",
         null,
         "2.0",
         null,
         "2.0",
         "3.0",
         "2.0",
         "3.0",
         "2.0",
         "3.0",
         "2.0",
         "2.0",
         "2.0",
         "2.0",
         null,
         null,
         null,
         "2.0",
         "2.0",
         "2.0",
         "2.0",
         null,
         null,
         null,
         null,
         null,
         "3.0",
         "1.0",
         "1.0",
         "1.0",
         "1.0",
         "2.0",
         "1.0",
         "1.0",
         "4.0",
         "3.0",
         "7.0",
         "3.0",
         "3.0",
         "2.0",
         "4.0",
         "9.0",
         null,
         null,
         null,
         null,
         null,
         null,
         null,
         "1.0",
         "2.0",
         "5.0",
         "2.0",
         "2.0",
         "3.0",
         null,
         null,
         null,
         "4.0",
         "2.0",
         "4.0",
         null,
         "4.0",
         null,
         "3.0",
         null,
         "3.0",
         "4.0",
         null,
         "4.0",
         null,
         null,
         null,
         "4.0",
         "4.0",
         null,
         null,
         null,
         "4.0",
         "4.0",
         null,
         null,
         "4.0",
         "4.0",
         null,
         "3.0",
         "4.0",
         null,
         "1.0",
         "4.0",
         null,
         null,
         null,
         "4.0",
         null,
         "4.0",
         "4.0",
         "4.0",
         "2.0",
         "4.0",
         null,
         null,
         null,
         null,
         "5.0",
         null,
         "3.0",
         "2.0",
         null,
         null,
         "4.0",
         "4.0",
         null,
         null,
         null,
         "2.0",
         "4.0",
         "3.0",
         "3.0",
         null,
         null,
         "3.0",
         null,
         null,
         null,
         null,
         "4.0",
         "4.0",
         "2.0",
         "3.0",
         "3.0",
         null,
         "4.0",
         null,
         "4.0",
         "4.0",
         "4.0",
         null,
         null,
         "2.0",
         null,
         null,
         "4.0",
         "3.0",
         null,
         null,
         null,
         "2.0",
         null,
         null,
         "2.0",
         "3.0",
         "2.0",
         "3.0",
         "3.0",
         null,
         null,
         "5.0",
         "35.0",
         "1.0",
         "3.0",
         "2.0",
         "2.0",
         null,
         "2.0",
         "2.0",
         "2.0",
         "2.0",
         "2.0",
         null,
         null,
         "1.0",
         "1.0",
         "1.0",
         "1.0",
         null,
         null,
         "5.0",
         "5.0",
         null,
         "5.0",
         "5.0",
         null,
         "5.0",
         null,
         "5.0",
         null,
         "5.0",
         "5.0",
         null,
         "5.0",
         "5.0",
         null,
         "2.0",
         "2.0",
         "2.0",
         null,
         null,
         "2.0",
         "2.0",
         null,
         null,
         "2.0",
         "2.0",
         "2.0",
         null,
         "2.0",
         null,
         "2.0",
         null,
         null,
         null,
         "3.0",
         "3.0",
         "2.0",
         "1.0",
         "2.0",
         "2.0",
         "4.0",
         "4.0",
         "3.0",
         "3.0",
         "2.0",
         null,
         null,
         "3.0",
         "2.0",
         null,
         null,
         "3.0",
         "3.0",
         null,
         "3.0",
         null,
         "3.0",
         null,
         null,
         null,
         "4.0",
         "3.0",
         "1.0",
         "1.0",
         null,
         null,
         "4.0",
         null,
         "4.0",
         null,
         "2.0",
         null,
         null,
         null,
         null,
         "5.0",
         "5.0",
         "5.0",
         null,
         "4.0",
         null,
         null,
         "3.0",
         "2.0",
         "2.0",
         "2.0",
         "2.0",
         null,
         "2.0",
         "1.0",
         "0.0",
         "0.0",
         "0.0",
         "0.0",
         "0.0",
         null,
         null,
         null,
         null,
         null,
         null,
         null,
         null,
         null,
         null,
         null,
         null,
         null,
         null,
         null,
         null,
         null,
         null,
         null,
         null,
         null,
         null,
         null,
         null,
         null,
         null,
         null,
         null,
         null,
         null,
         null,
         null,
         null,
         null,
         null,
         null,
         null,
         null,
         null,
         null,
         null,
         null,
         null,
         null,
         null,
         null,
         null,
         null,
         null,
         null,
         null,
         null,
         null,
         null,
         null,
         null,
         null,
         null,
         null,
         null,
         null,
         null,
         "5.0",
         null,
         "2.0",
         "5.0",
         "5.0",
         "3.0",
         null,
         null,
         null,
         null,
         "1.0",
         "1.0",
         "1.0",
         null,
         null,
         "1.0",
         null,
         null,
         "1.0",
         "3.0",
         null,
         null,
         "3.0",
         null,
         "1.0",
         null,
         null,
         "1.0",
         "9999999",
         "4.0",
         "2.0",
         "4.0",
         "4.0",
         null,
         null,
         null,
         null,
         "1.0",
         "5.0",
         "1.0",
         null,
         "2.0",
         "2.0",
         null,
         "4.0",
         "2.0",
         null,
         "2.0",
         "1.0",
         "1.0",
         "2.0",
         "4.0",
         null,
         null,
         "1.0",
         "2.0",
         "2.0",
         null,
         "4.0",
         "4.0",
         null,
         null,
         null,
         "4.0",
         "4.0",
         "4.0",
         null,
         "4.0",
         null,
         "1.0",
         "4.0",
         null,
         "1.0",
         "1.0",
         "2.0",
         "3.0",
         null,
         null,
         null,
         "4.0",
         null,
         null,
         "1.0",
         "4.0",
         null,
         null,
         "1.0",
         "1.0",
         "1.0",
         null,
         "1.0",
         "1.0",
         "1.0",
         "10.0",
         "9.0",
         "10.0",
         null,
         null,
         null,
         null,
         null,
         null,
         null,
         null,
         null,
         null,
         null,
         null,
         null,
         null,
         null,
         null,
         null,
         null,
         null,
         null,
         null,
         null,
         null,
         null,
         null,
         null,
         null,
         null,
         null,
         null,
         null,
         null,
         null,
         null,
         null,
         null,
         null,
         null,
         null,
         null,
         null,
         null,
         null,
         null,
         null,
         null,
         null,
         null,
         null,
         null,
         null,
         null,
         null,
         null,
         null,
         null,
         null,
         null,
         null,
         null,
         null,
         null,
         null,
         null,
         null,
         null,
         null,
         null,
         null,
         null,
         null,
         null,
         null,
         null,
         null,
         null,
         null,
         null,
         null,
         null,
         null,
         null,
         null,
         null,
         null,
         null,
         null,
         null,
         null,
         null,
         null,
         null,
         null,
         "4.0",
         null,
         "2.0",
         "4.0",
         "4.0",
         "4.0",
         "1.0",
         "4.0",
         "5.0",
         "1.0",
         "4.0",
         "1.0",
         "4.0",
         "3.0",
         "2.0",
         "2.0",
         "2.0",
         "2.0",
         "3.0",
         "2.0",
         "1.0",
         "3.0",
         "2.0",
         "2.0",
         "3.0",
         "3.0",
         "5.0",
         "3.0",
         "3.0",
         "3.0",
         "1.0",
         "2.0",
         "1.0",
         "1.0",
         "2.0",
         "1.0",
         "4.0",
         "3.0",
         "1.0",
         "1.0",
         "5.0",
         "5.0",
         "5.0",
         "5.0",
         "5.0",
         "5.0",
         "5.0",
         "5.0",
         "4.0",
         null,
         "1.0",
         "2.0",
         "5.0",
         "2.0",
         "4.0",
         "1.0",
         "2.0",
         "1.0",
         "2.0",
         "6.0",
         "2.0",
         "3.0",
         "1.0",
         "2.0",
         "1.0",
         "2.0",
         "2.0",
         "1.0",
         "3.0",
         "2.0",
         "3.0",
         "3.0",
         "2.0",
         "3.0",
         "3.0",
         "2.0",
         "2.0",
         "3.0",
         "2.0",
         "1.0",
         "3.0",
         "2.0",
         "2.0",
         "4.0",
         "3.0",
         "3.0",
         "3.0",
         "4.0",
         "4.0",
         "3.0",
         "3.0",
         "3.0",
         "4.0",
         "3.0",
         "4.0",
         "2.0",
         "4.0",
         "3.0",
         "4.0",
         "4.0",
         "3.0",
         null,
         null,
         null,
         null,
         null,
         null,
         null,
         null,
         null,
         null,
         null,
         null,
         null,
         null,
         null,
         null,
         null,
         null,
         null,
         null,
         null,
         null,
         null,
         null,
         null,
         null,
         null,
         null,
         null,
         null,
         null,
         null,
         null,
         null,
         null,
         null,
         null,
         null,
         null,
         null,
         null,
         null,
         null,
         null,
         null,
         null,
         null,
         null,
         null,
         null,
         null,
         null,
         null,
         null,
         null,
         null,
         null,
         null,
         null,
         null,
         null,
         null,
         null,
         null,
         null,
         null,
         null,
         null,
         null,
         null,
         null,
         null,
         null,
         null,
         null,
         null,
         null,
         null,
         null,
         null,
         null,
         null,
         null,
         null,
         null,
         null,
         null,
         null,
         null,
         null,
         null,
         null,
         null,
         null,
         null,
         null,
         null,
         null,
         null,
         null,
         null,
         null,
         null,
         null,
         null,
         null,
         null,
         null,
         null,
         null,
         null,
         null,
         null,
         null,
         null,
         null,
         null,
         null,
         null,
         null,
         null,
         null,
         null,
         null,
         null,
         null,
         null,
         null,
         null,
         null,
         null,
         null,
         null,
         null,
         null,
         null,
         null,
         null,
         null,
         null,
         null,
         null,
         null,
         null,
         null,
         null,
         null,
         null,
         null,
         null,
         null,
         null,
         null,
         null,
         null,
         null,
         null,
         null,
         null,
         null,
         null,
         null,
         null,
         null,
         null,
         null,
         null,
         null,
         null,
         null,
         null,
         null,
         null,
         null,
         null,
         null,
         null,
         null,
         null,
         null,
         null,
         null,
         null,
         null,
         null,
         null,
         null,
         null,
         null,
         null,
         null,
         null,
         null,
         null,
         null,
         null,
         null,
         null,
         null,
         null,
         null,
         null,
         null,
         null,
         null,
         null,
         null,
         null,
         null,
         null,
         null,
         null,
         null,
         null,
         null,
         null,
         null,
         null,
         null,
         null,
         null,
         null,
         null,
         null,
         null,
         null,
         null,
         null,
         null,
         null,
         "1111",
         "1330",
         "2514",
         "00360001",
         "15.83",
         "0.0",
         "244.0",
         "1.0",
         "003600",
         "003600",
         "003600",
         "313.0",
         "0.0",
         "0.0",
         "1.0",
         "2.0",
         "2.0",
         "0.0",
         "3.0",
         "0.0",
         "7.0",
         "0.0",
         "0.0",
         "0.0",
         "4.0",
         "74.66",
         "1.0",
         "0.726",
         "-0.624",
         "1.4871",
         "-0.756",
         null,
         "-0.3317",
         "0.2244",
         "0.1156",
         "-0.0089",
         "0.3143",
         "-0.4582",
         "0.372",
         null,
         "-0.0188",
         "0.0476",
         "-1.0423",
         "1.5558",
         "2.2361",
         "2.2733",
         "0.3358",
         "0.3567",
         "-0.7333",
         "0.9731",
         "-0.4783",
         "0.8251",
         "0.5812",
         null,
         null,
         null,
         null,
         null,
         null,
         null,
         null,
         "-0.5462",
         "-0.2106",
         "2.9898",
         "-0.297",
         null,
         "-2.2699",
         "10.0",
         "8.0",
         "10.0",
         "16.0",
         "68.77",
         "78.86",
         "78.86",
         "2.0444",
         "0.9576",
         "1.1867",
         null,
         null,
         null,
         null,
         null,
         null,
         null,
         null,
         null,
         null,
         "0.2098",
         "6.0",
         "0.3346",
         "6.0",
         "-0.819",
         "0.0451",
         "-0.3457",
         "-0.2549",
         "2.9804",
         "-0.403",
         "-0.5553",
         "0.4437",
         "-0.2615",
         "7.0",
         "-0.1332",
         null,
         null,
         null,
         null,
         null,
         null,
         null,
         null,
         null,
         null,
         null,
         null,
         null,
         null,
         null,
         null,
         null,
         null,
         null,
         "25.27777",
         "38.99438",
         "37.91666",
         "38.99438",
         "38.99438",
         "38.99438",
         "12.63889",
         "12.25887",
         "37.91666",
         "12.63889",
         "12.25887",
         "37.91666",
         "38.99438",
         "12.63889",
         "12.25887",
         "12.25887",
         "12.25887",
         "37.91666",
         "12.63889",
         "37.91666",
         "12.63889",
         "12.25887",
         "12.63889",
         "12.25887",
         "12.25887",
         "12.25887",
         "37.91666",
         "38.99438",
         "12.63889",
         "37.91666",
         "38.99438",
         "12.63889",
         "12.25887",
         "37.91666",
         "38.99438",
         "38.99438",
         "38.99438",
         "12.63889",
         "37.91666",
         "12.63889",
         "37.91666",
         "12.25887",
         "12.63889",
         "12.25887",
         "12.25887",
         "12.25887",
         "37.91666",
         "38.99438",
         "12.63889",
         "37.91666",
         "38.99438",
         "12.63889",
         "12.25887",
         "37.91666",
         "38.99438",
         "38.99438",
         "38.99438",
         "12.63889",
         "37.91666",
         "12.63889",
         "37.91666",
         "38.99438",
         "37.91666",
         "38.99438",
         "38.99438",
         "38.99438",
         "12.63889",
         "12.25887",
         "37.91666",
         "12.63889",
         "12.25887",
         "37.91666",
         "38.99438",
         "12.63889",
         "12.25887",
         "12.25887",
         "12.25887",
         "37.91666",
         "12.63889",
         "37.91666",
         "12.63889",
         "1.0",
         "27.0",
         "400.233",
         "432.146",
         "372.799",
         "414.175",
         "452.427",
         "398.709",
         "438.571",
         "437.128",
         "416.494",
         "450.32",
         "419.027",
         "416.25",
         "462.514",
         "486.213",
         "450.396",
         "373.835",
         "489.02",
         "434.729",
         "366.948",
         "511.469",
         "471.705",
         "454.491",
         "458.75",
         "468.64",
         "461.691",
         "451.353",
         "480.645",
         "464.592",
         "406.445",
         "461.424",
         "456.413",
         "426.638",
         "499.947",
         "425.619",
         "462.626",
         "403.972",
         "447.816",
         "469.984",
         "404.381",
         "410.941",
         "432.003",
         "447.7",
         "398.781",
         "389.142",
         "396.233",
         "435.815",
         "485.214",
         "463.501",
         "423.73",
         "396.224",
         "346.519",
         "379.224",
         "414.988",
         "339.853",
         "294.551",
         "315.935",
         "442.692",
         "374.183",
         "353.433",
         "331.507",
         "434.572",
         "490.647",
         "469.846",
         "439.402",
         "411.449",
         "418.982",
         "433.171",
         "497.264",
         "453.812",
         "332.737",
         "368.139",
         "438.663",
         "434.655",
         "427.042",
         "430.689",
         "476.732",
         "508.035",
         "402.665",
         "316.809",
         "413.619",
         "333.41",
         "469.341",
         "356.523",
         "464.186",
         "450.669",
         "481.392",
         "420.094",
         "424.972",
         "399.846",
         "359.312",
         "397.027",
         "382.387",
         "396.178",
         "387.211",
         "404.157",
         "401.477",
         "491.95",
         "354.57",
         "308.39",
         "385.525",
         "404.915",
         "448.676",
         "384.503",
         "473.071",
         "396.796",
         "436.96",
         "425.168",
         "414.202",
         "364.583",
         "472.448",
         "0.47659",
         "  02MAY23:09:32:29",
         null
        ],
        [
         "4",
         "AUS",
         "36.0",
         "3600350.0",
         "3600059.0",
         "08MS",
         "003600",
         "AUS09",
         "0360000",
         "3600.0",
         "1.0",
         "2.0",
         "313.0",
         "313.0",
         null,
         null,
         null,
         "1.0",
         "0.0",
         "0.0",
         "1.0",
         "0.0",
         "23.0",
         "9.0",
         "3.0",
         "2007.0",
         "2.0",
         "1.0",
         "1.0",
         "1.0",
         "1.0",
         "1.0",
         "0360002",
         "0360002",
         "2.0",
         "1.0",
         "3.0",
         "3.0",
         "1.0",
         "2.0",
         "0360002",
         "0360001",
         "8.0",
         "3.0",
         "4.0",
         "3.0",
         "2.0",
         "1.0",
         "3.0",
         "3.0",
         "1.0",
         "1.0",
         "2.0",
         "2.0",
         "1.0",
         "1.0",
         "2.0",
         "2.0",
         "3.0",
         "1.0",
         "2.0",
         "2.0",
         "2.0",
         "2.0",
         "2.0",
         "1.0",
         "2.0",
         "2.0",
         "2.0",
         "2.0",
         "2.0",
         null,
         null,
         null,
         "1.0",
         "1.0",
         "1.0",
         null,
         "1.0",
         "1.0",
         "4.0",
         "3.0",
         "1.0",
         "1.0",
         "1.0",
         "1.0",
         "1.0",
         "1.0",
         null,
         null,
         null,
         null,
         null,
         null,
         null,
         null,
         null,
         null,
         null,
         "1.0",
         "1.0",
         "1.0",
         "3.0",
         "3.0",
         "3.0",
         null,
         null,
         "3.0",
         "3.0",
         null,
         null,
         "2.0",
         "2.0",
         "3.0",
         "2.0",
         "3.0",
         "1.0",
         "1.0",
         "1.0",
         "1.0",
         "1.0",
         "1.0",
         null,
         null,
         null,
         "2.0",
         "2.0",
         "2.0",
         "2.0",
         null,
         null,
         null,
         null,
         null,
         "6.0",
         "2.0",
         "1.0",
         "1.0",
         "4.0",
         "6.0",
         "2.0",
         "1.0",
         "1.0",
         "4.0",
         "7.0",
         "1.0",
         "1.0",
         "3.0",
         "5.0",
         "7.0",
         null,
         null,
         null,
         null,
         null,
         null,
         null,
         "1.0",
         "5.0",
         "5.0",
         "1.0",
         "1.0",
         "2.0",
         null,
         null,
         "4.0",
         null,
         null,
         "4.0",
         null,
         "2.0",
         "2.0",
         null,
         "4.0",
         null,
         "4.0",
         "2.0",
         null,
         "2.0",
         null,
         null,
         "4.0",
         null,
         null,
         "2.0",
         null,
         null,
         "2.0",
         "2.0",
         "4.0",
         "4.0",
         null,
         null,
         null,
         "4.0",
         "2.0",
         "2.0",
         null,
         "2.0",
         "4.0",
         null,
         null,
         "2.0",
         "2.0",
         "4.0",
         null,
         null,
         "3.0",
         null,
         null,
         "3.0",
         null,
         "3.0",
         null,
         "3.0",
         null,
         "3.0",
         null,
         null,
         "3.0",
         "3.0",
         null,
         "3.0",
         "3.0",
         "3.0",
         "3.0",
         null,
         null,
         "3.0",
         null,
         "3.0",
         "3.0",
         "3.0",
         null,
         "3.0",
         null,
         "3.0",
         null,
         null,
         null,
         "3.0",
         null,
         "3.0",
         null,
         null,
         null,
         "3.0",
         null,
         "3.0",
         "3.0",
         null,
         "3.0",
         "3.0",
         null,
         "3.0",
         null,
         "3.0",
         null,
         "3.0",
         null,
         "2.0",
         "2.0",
         "2.0",
         null,
         null,
         null,
         null,
         null,
         null,
         null,
         null,
         null,
         null,
         null,
         null,
         null,
         null,
         null,
         null,
         null,
         null,
         null,
         null,
         null,
         null,
         null,
         null,
         null,
         null,
         null,
         null,
         null,
         null,
         null,
         null,
         null,
         null,
         null,
         null,
         null,
         null,
         "4.0",
         null,
         null,
         "4.0",
         "4.0",
         null,
         "4.0",
         "4.0",
         null,
         null,
         null,
         null,
         null,
         null,
         null,
         null,
         null,
         null,
         null,
         "2.0",
         "2.0",
         "2.0",
         "2.0",
         "2.0",
         "2.0",
         "3.0",
         "3.0",
         "3.0",
         null,
         null,
         null,
         null,
         null,
         null,
         null,
         null,
         null,
         null,
         null,
         null,
         null,
         null,
         null,
         null,
         null,
         null,
         null,
         null,
         null,
         null,
         null,
         null,
         null,
         null,
         null,
         null,
         null,
         null,
         null,
         null,
         null,
         null,
         null,
         null,
         null,
         null,
         null,
         null,
         null,
         null,
         null,
         null,
         null,
         null,
         "0.0",
         "0.0",
         "0.0",
         "0.0",
         "0.0",
         "0.0",
         null,
         null,
         null,
         null,
         null,
         null,
         null,
         null,
         null,
         null,
         null,
         null,
         null,
         null,
         null,
         null,
         null,
         null,
         null,
         null,
         null,
         null,
         null,
         null,
         null,
         null,
         null,
         null,
         null,
         null,
         null,
         null,
         null,
         null,
         null,
         null,
         null,
         null,
         null,
         null,
         null,
         null,
         null,
         null,
         null,
         null,
         null,
         null,
         null,
         null,
         null,
         null,
         null,
         null,
         null,
         null,
         null,
         null,
         null,
         null,
         null,
         null,
         null,
         null,
         null,
         null,
         null,
         null,
         null,
         null,
         null,
         null,
         "1.0",
         "1.0",
         "1.0",
         "3.0",
         "3.0",
         "3.0",
         "3.0",
         "3.0",
         "3.0",
         null,
         "3.0",
         null,
         null,
         null,
         null,
         "3.0",
         "3.0",
         null,
         "0360003",
         null,
         null,
         null,
         null,
         null,
         null,
         null,
         null,
         null,
         "6.0",
         "1.0",
         "1.0",
         null,
         null,
         "4.0",
         "4.0",
         "4.0",
         null,
         "1.0",
         "1.0",
         "2.0",
         null,
         null,
         "4.0",
         "1.0",
         "1.0",
         "4.0",
         null,
         "1.0",
         "2.0",
         null,
         "2.0",
         "1.0",
         "1.0",
         null,
         "2.0",
         null,
         null,
         "4.0",
         null,
         "4.0",
         "4.0",
         null,
         "3.0",
         "1.0",
         "1.0",
         null,
         null,
         "3.0",
         null,
         "3.0",
         "3.0",
         null,
         null,
         "3.0",
         "2.0",
         "3.0",
         null,
         null,
         "3.0",
         null,
         "2.0",
         "3.0",
         "2.0",
         "10.0",
         "10.0",
         "5.0",
         null,
         null,
         null,
         null,
         null,
         null,
         null,
         null,
         null,
         null,
         null,
         null,
         null,
         null,
         null,
         null,
         null,
         null,
         null,
         null,
         null,
         null,
         null,
         null,
         null,
         null,
         null,
         null,
         null,
         null,
         null,
         null,
         null,
         null,
         null,
         null,
         null,
         null,
         null,
         null,
         null,
         null,
         null,
         null,
         null,
         null,
         null,
         null,
         null,
         null,
         null,
         null,
         null,
         null,
         null,
         null,
         null,
         null,
         null,
         null,
         null,
         null,
         null,
         null,
         null,
         null,
         null,
         null,
         null,
         null,
         null,
         null,
         null,
         null,
         null,
         null,
         null,
         null,
         null,
         null,
         null,
         null,
         null,
         null,
         null,
         null,
         null,
         null,
         null,
         null,
         null,
         null,
         null,
         "4.0",
         "1.0",
         "1.0",
         "4.0",
         "4.0",
         "1.0",
         "1.0",
         "4.0",
         "4.0",
         "1.0",
         "4.0",
         "1.0",
         "4.0",
         "3.0",
         "3.0",
         "3.0",
         "3.0",
         "3.0",
         "3.0",
         "3.0",
         "3.0",
         "3.0",
         "5.0",
         "5.0",
         "5.0",
         "5.0",
         "1.0",
         "5.0",
         "5.0",
         "5.0",
         "5.0",
         "1.0",
         "1.0",
         "1.0",
         "5.0",
         "5.0",
         "4.0",
         "1.0",
         "1.0",
         "1.0",
         "5.0",
         "5.0",
         "1.0",
         "5.0",
         "5.0",
         "5.0",
         "5.0",
         "5.0",
         "5.0",
         "5.0",
         "1.0",
         "4.0",
         "3.0",
         "4.0",
         "2.0",
         "1.0",
         "1.0",
         "1.0",
         "1.0",
         "3.0",
         "4.0",
         "3.0",
         "1.0",
         "1.0",
         "1.0",
         "1.0",
         "3.0",
         "1.0",
         "3.0",
         "2.0",
         "2.0",
         "2.0",
         "3.0",
         "3.0",
         "2.0",
         "2.0",
         "3.0",
         "2.0",
         "2.0",
         "2.0",
         "1.0",
         "1.0",
         "1.0",
         "1.0",
         "3.0",
         "2.0",
         "2.0",
         "4.0",
         "4.0",
         "4.0",
         "4.0",
         "3.0",
         "4.0",
         "4.0",
         "4.0",
         "3.0",
         "4.0",
         "3.0",
         "3.0",
         "3.0",
         "3.0",
         null,
         null,
         null,
         null,
         null,
         null,
         null,
         null,
         null,
         null,
         null,
         null,
         null,
         null,
         null,
         null,
         null,
         null,
         null,
         null,
         null,
         null,
         null,
         null,
         null,
         null,
         null,
         null,
         null,
         null,
         null,
         null,
         null,
         null,
         null,
         null,
         null,
         null,
         null,
         null,
         null,
         null,
         null,
         null,
         null,
         null,
         null,
         null,
         null,
         null,
         null,
         null,
         null,
         null,
         null,
         null,
         null,
         null,
         null,
         null,
         null,
         null,
         null,
         null,
         null,
         null,
         null,
         null,
         null,
         null,
         null,
         null,
         null,
         null,
         null,
         null,
         null,
         null,
         null,
         null,
         null,
         null,
         null,
         null,
         null,
         null,
         null,
         null,
         null,
         null,
         null,
         null,
         null,
         null,
         null,
         null,
         null,
         null,
         null,
         null,
         null,
         null,
         null,
         null,
         null,
         null,
         null,
         null,
         null,
         null,
         null,
         null,
         null,
         null,
         null,
         null,
         null,
         null,
         null,
         null,
         null,
         null,
         null,
         null,
         null,
         null,
         null,
         null,
         null,
         null,
         null,
         null,
         null,
         null,
         null,
         null,
         null,
         null,
         null,
         null,
         null,
         null,
         null,
         null,
         null,
         null,
         null,
         null,
         null,
         null,
         null,
         null,
         null,
         null,
         null,
         null,
         null,
         null,
         null,
         null,
         null,
         null,
         null,
         null,
         null,
         null,
         null,
         null,
         null,
         null,
         null,
         null,
         null,
         null,
         null,
         null,
         null,
         null,
         null,
         null,
         null,
         null,
         null,
         null,
         null,
         null,
         null,
         null,
         null,
         null,
         null,
         null,
         null,
         null,
         null,
         null,
         null,
         null,
         null,
         null,
         null,
         null,
         null,
         null,
         null,
         null,
         null,
         null,
         null,
         null,
         null,
         null,
         null,
         null,
         null,
         null,
         null,
         null,
         null,
         null,
         null,
         null,
         null,
         null,
         null,
         null,
         null,
         null,
         null,
         null,
         "2411",
         "9999",
         "9999",
         "00360001",
         "15.33",
         "-1.0",
         "244.0",
         "1.0",
         "003600",
         "003600",
         "003600",
         "313.0",
         "0.0",
         "0.0",
         "0.0",
         "0.0",
         "6.0",
         "2.0",
         "0.0",
         "0.0",
         "4.0",
         "0.0",
         "0.0",
         "0.0",
         "1.0",
         null,
         null,
         "0.132",
         "-0.3128",
         "-1.1095",
         "-0.756",
         null,
         "-1.1652",
         "-1.0863",
         "0.3171",
         "-0.9532",
         "-0.2048",
         "0.2775",
         "0.0343",
         null,
         "-1.5116",
         null,
         null,
         null,
         null,
         null,
         "-2.7951",
         null,
         null,
         null,
         null,
         null,
         null,
         null,
         null,
         null,
         null,
         null,
         null,
         null,
         null,
         "0.2877",
         "0.142",
         "-0.027",
         "0.8953",
         null,
         "-0.3752",
         "5.0",
         "5.0",
         "5.0",
         "12.0",
         "76.65",
         null,
         "76.65",
         "1.3977",
         "0.0619",
         "0.0887",
         null,
         null,
         null,
         null,
         null,
         null,
         null,
         null,
         null,
         null,
         "0.4062",
         "7.0",
         "0.3346",
         "6.0",
         "0.3623",
         "1.95",
         "0.4485",
         "-0.6516",
         "1.0105",
         "-1.0901",
         "-0.8583",
         "0.173",
         "-0.4098",
         null,
         "0.1947",
         null,
         null,
         null,
         null,
         null,
         null,
         null,
         null,
         null,
         null,
         null,
         null,
         null,
         null,
         null,
         null,
         null,
         null,
         null,
         "35.51951",
         "18.24994",
         "50.43259",
         "18.44698",
         "52.16658",
         "17.26776",
         "18.07747",
         "17.81909",
         "18.60439",
         "53.85684",
         "47.69835",
         "19.06046",
         "53.256",
         "49.21591",
         "18.15587",
         "19.81034",
         "54.23973",
         "50.35086",
         "51.38196",
         "49.96968",
         "18.27371",
         "51.39511",
         "18.44698",
         "50.43259",
         "18.0304",
         "55.94405",
         "51.96265",
         "53.0529",
         "50.14253",
         "17.59984",
         "19.5013",
         "49.63834",
         "17.76669",
         "19.03711",
         "52.14054",
         "48.08695",
         "17.55076",
         "18.64955",
         "18.38498",
         "18.45938",
         "50.98185",
         "51.39511",
         "18.44698",
         "50.43259",
         "18.0304",
         "55.94405",
         "51.96265",
         "53.0529",
         "50.14253",
         "17.59984",
         "19.5013",
         "49.63834",
         "17.76669",
         "19.03711",
         "52.14054",
         "48.08695",
         "17.55076",
         "18.64955",
         "18.38498",
         "18.45938",
         "50.98185",
         "18.24994",
         "50.43259",
         "18.44698",
         "52.16658",
         "17.26776",
         "18.07747",
         "17.81909",
         "18.60439",
         "53.85684",
         "47.69835",
         "19.06046",
         "53.256",
         "49.21591",
         "18.15587",
         "19.81034",
         "54.23973",
         "50.35086",
         "51.38196",
         "49.96968",
         "18.27371",
         "2.0",
         "8.0",
         "346.783",
         "359.384",
         "348.445",
         "375.32",
         "376.62",
         "422.458",
         "358.099",
         "332.984",
         "385.098",
         "369.236",
         "292.173",
         "332.534",
         "375.098",
         "420.095",
         "257.476",
         "411.288",
         "342.594",
         "407.25",
         "362.612",
         "296.771",
         "338.652",
         "376.78",
         "359.997",
         "368.994",
         "366.108",
         "367.445",
         "339.951",
         "411.127",
         "382.127",
         "374.93",
         "342.444",
         "310.809",
         "306.32",
         "356.19",
         "389.207",
         "324.638",
         "340.872",
         "327.086",
         "381.262",
         "336.545",
         "345.004",
         "253.346",
         "316.823",
         "305.74",
         "393.386",
         "348.827",
         "350.043",
         "329.721",
         "371.107",
         "376.107",
         "300.801",
         "357.714",
         "364.742",
         "430.601",
         "469.755",
         "332.991",
         "367.537",
         "316.675",
         "415.987",
         "334.563",
         "307.745",
         "306.74",
         "322.956",
         "367.071",
         "403.888",
         "311.578",
         "359.964",
         "364.321",
         "299.896",
         "290.743",
         "330.218",
         "286.18",
         "354.623",
         "308.0",
         "330.252",
         "358.979",
         "265.025",
         "372.671",
         "371.623",
         "281.232",
         "326.442",
         "352.782",
         "434.025",
         "395.335",
         "364.715",
         "442.798",
         "394.505",
         "328.162",
         "410.729",
         "381.721",
         "349.819",
         "354.624",
         "423.15",
         "441.233",
         "427.119",
         "491.687",
         "312.236",
         "392.086",
         "433.174",
         "405.411",
         "326.508",
         "333.505",
         "354.882",
         "331.669",
         "399.699",
         "361.383",
         "301.752",
         "330.689",
         "334.126",
         "253.802",
         "0.66969",
         "  02MAY23:09:32:29",
         null
        ]
       ],
       "shape": {
        "columns": 1279,
        "rows": 5
       }
      },
      "text/html": [
       "<div>\n",
       "<style scoped>\n",
       "    .dataframe tbody tr th:only-of-type {\n",
       "        vertical-align: middle;\n",
       "    }\n",
       "\n",
       "    .dataframe tbody tr th {\n",
       "        vertical-align: top;\n",
       "    }\n",
       "\n",
       "    .dataframe thead th {\n",
       "        text-align: right;\n",
       "    }\n",
       "</style>\n",
       "<table border=\"1\" class=\"dataframe\">\n",
       "  <thead>\n",
       "    <tr style=\"text-align: right;\">\n",
       "      <th></th>\n",
       "      <th>CNT</th>\n",
       "      <th>CNTRYID</th>\n",
       "      <th>CNTSCHID</th>\n",
       "      <th>CNTSTUID</th>\n",
       "      <th>CYC</th>\n",
       "      <th>NatCen</th>\n",
       "      <th>STRATUM</th>\n",
       "      <th>SUBNATIO</th>\n",
       "      <th>REGION</th>\n",
       "      <th>OECD</th>\n",
       "      <th>...</th>\n",
       "      <th>PV4MPRE</th>\n",
       "      <th>PV5MPRE</th>\n",
       "      <th>PV6MPRE</th>\n",
       "      <th>PV7MPRE</th>\n",
       "      <th>PV8MPRE</th>\n",
       "      <th>PV9MPRE</th>\n",
       "      <th>PV10MPRE</th>\n",
       "      <th>SENWT</th>\n",
       "      <th>VER_DAT</th>\n",
       "      <th>test</th>\n",
       "    </tr>\n",
       "  </thead>\n",
       "  <tbody>\n",
       "    <tr>\n",
       "      <th>0</th>\n",
       "      <td>AUS</td>\n",
       "      <td>36.0</td>\n",
       "      <td>3600669.0</td>\n",
       "      <td>3600004.0</td>\n",
       "      <td>08MS</td>\n",
       "      <td>003600</td>\n",
       "      <td>AUS08</td>\n",
       "      <td>0360000</td>\n",
       "      <td>3600.0</td>\n",
       "      <td>1.0</td>\n",
       "      <td>...</td>\n",
       "      <td>309.260</td>\n",
       "      <td>276.532</td>\n",
       "      <td>294.033</td>\n",
       "      <td>344.479</td>\n",
       "      <td>239.871</td>\n",
       "      <td>291.530</td>\n",
       "      <td>446.273</td>\n",
       "      <td>0.64909</td>\n",
       "      <td>02MAY23:09:32:29</td>\n",
       "      <td>NaN</td>\n",
       "    </tr>\n",
       "    <tr>\n",
       "      <th>1</th>\n",
       "      <td>AUS</td>\n",
       "      <td>36.0</td>\n",
       "      <td>3600280.0</td>\n",
       "      <td>3600022.0</td>\n",
       "      <td>08MS</td>\n",
       "      <td>003600</td>\n",
       "      <td>AUS09</td>\n",
       "      <td>0360000</td>\n",
       "      <td>3600.0</td>\n",
       "      <td>1.0</td>\n",
       "      <td>...</td>\n",
       "      <td>624.878</td>\n",
       "      <td>689.692</td>\n",
       "      <td>615.668</td>\n",
       "      <td>620.858</td>\n",
       "      <td>615.082</td>\n",
       "      <td>679.840</td>\n",
       "      <td>655.120</td>\n",
       "      <td>0.62780</td>\n",
       "      <td>02MAY23:09:32:29</td>\n",
       "      <td>NaN</td>\n",
       "    </tr>\n",
       "    <tr>\n",
       "      <th>2</th>\n",
       "      <td>AUS</td>\n",
       "      <td>36.0</td>\n",
       "      <td>3600333.0</td>\n",
       "      <td>3600035.0</td>\n",
       "      <td>08MS</td>\n",
       "      <td>003600</td>\n",
       "      <td>AUS09</td>\n",
       "      <td>0360000</td>\n",
       "      <td>3600.0</td>\n",
       "      <td>1.0</td>\n",
       "      <td>...</td>\n",
       "      <td>285.853</td>\n",
       "      <td>331.044</td>\n",
       "      <td>376.079</td>\n",
       "      <td>383.640</td>\n",
       "      <td>352.415</td>\n",
       "      <td>369.133</td>\n",
       "      <td>291.992</td>\n",
       "      <td>0.57973</td>\n",
       "      <td>02MAY23:09:32:29</td>\n",
       "      <td>NaN</td>\n",
       "    </tr>\n",
       "    <tr>\n",
       "      <th>3</th>\n",
       "      <td>AUS</td>\n",
       "      <td>36.0</td>\n",
       "      <td>3600017.0</td>\n",
       "      <td>3600049.0</td>\n",
       "      <td>08MS</td>\n",
       "      <td>003600</td>\n",
       "      <td>AUS09</td>\n",
       "      <td>0360000</td>\n",
       "      <td>3600.0</td>\n",
       "      <td>1.0</td>\n",
       "      <td>...</td>\n",
       "      <td>473.071</td>\n",
       "      <td>396.796</td>\n",
       "      <td>436.960</td>\n",
       "      <td>425.168</td>\n",
       "      <td>414.202</td>\n",
       "      <td>364.583</td>\n",
       "      <td>472.448</td>\n",
       "      <td>0.47659</td>\n",
       "      <td>02MAY23:09:32:29</td>\n",
       "      <td>NaN</td>\n",
       "    </tr>\n",
       "    <tr>\n",
       "      <th>4</th>\n",
       "      <td>AUS</td>\n",
       "      <td>36.0</td>\n",
       "      <td>3600350.0</td>\n",
       "      <td>3600059.0</td>\n",
       "      <td>08MS</td>\n",
       "      <td>003600</td>\n",
       "      <td>AUS09</td>\n",
       "      <td>0360000</td>\n",
       "      <td>3600.0</td>\n",
       "      <td>1.0</td>\n",
       "      <td>...</td>\n",
       "      <td>331.669</td>\n",
       "      <td>399.699</td>\n",
       "      <td>361.383</td>\n",
       "      <td>301.752</td>\n",
       "      <td>330.689</td>\n",
       "      <td>334.126</td>\n",
       "      <td>253.802</td>\n",
       "      <td>0.66969</td>\n",
       "      <td>02MAY23:09:32:29</td>\n",
       "      <td>NaN</td>\n",
       "    </tr>\n",
       "  </tbody>\n",
       "</table>\n",
       "<p>5 rows × 1279 columns</p>\n",
       "</div>"
      ],
      "text/plain": [
       "   CNT  CNTRYID   CNTSCHID   CNTSTUID   CYC  NatCen STRATUM SUBNATIO  REGION  \\\n",
       "0  AUS     36.0  3600669.0  3600004.0  08MS  003600   AUS08  0360000  3600.0   \n",
       "1  AUS     36.0  3600280.0  3600022.0  08MS  003600   AUS09  0360000  3600.0   \n",
       "2  AUS     36.0  3600333.0  3600035.0  08MS  003600   AUS09  0360000  3600.0   \n",
       "3  AUS     36.0  3600017.0  3600049.0  08MS  003600   AUS09  0360000  3600.0   \n",
       "4  AUS     36.0  3600350.0  3600059.0  08MS  003600   AUS09  0360000  3600.0   \n",
       "\n",
       "   OECD  ...  PV4MPRE  PV5MPRE  PV6MPRE  PV7MPRE  PV8MPRE  PV9MPRE  PV10MPRE  \\\n",
       "0   1.0  ...  309.260  276.532  294.033  344.479  239.871  291.530   446.273   \n",
       "1   1.0  ...  624.878  689.692  615.668  620.858  615.082  679.840   655.120   \n",
       "2   1.0  ...  285.853  331.044  376.079  383.640  352.415  369.133   291.992   \n",
       "3   1.0  ...  473.071  396.796  436.960  425.168  414.202  364.583   472.448   \n",
       "4   1.0  ...  331.669  399.699  361.383  301.752  330.689  334.126   253.802   \n",
       "\n",
       "     SENWT             VER_DAT  test  \n",
       "0  0.64909    02MAY23:09:32:29   NaN  \n",
       "1  0.62780    02MAY23:09:32:29   NaN  \n",
       "2  0.57973    02MAY23:09:32:29   NaN  \n",
       "3  0.47659    02MAY23:09:32:29   NaN  \n",
       "4  0.66969    02MAY23:09:32:29   NaN  \n",
       "\n",
       "[5 rows x 1279 columns]"
      ]
     },
     "metadata": {},
     "output_type": "display_data"
    },
    {
     "name": "stdout",
     "output_type": "stream",
     "text": [
      "\n",
      "Data types summary:\n",
      "float64    1261\n",
      "object       18\n",
      "Name: count, dtype: int64\n"
     ]
    }
   ],
   "source": [
    "# Basic dataset information\n",
    "print(f\"Dataset shape: {pisa_data.shape}\")\n",
    "print(f\"Number of students: {pisa_data.shape[0]}\")\n",
    "print(f\"Number of variables: {pisa_data.shape[1]}\")\n",
    "\n",
    "# Preview first few rows\n",
    "display(pisa_data.head())\n",
    "\n",
    "# Data types overview\n",
    "print(\"\\nData types summary:\")\n",
    "print(pisa_data.dtypes.value_counts())"
   ]
  },
  {
   "cell_type": "markdown",
   "id": "b34bd6bd",
   "metadata": {},
   "source": [
    "## 6. Exploratory Data Analysis (EDA)\n",
    "\n",
    "### 6.1 Data Quality Assessment\n",
    "\n",
    "#### Missing Data Analysis"
   ]
  },
  {
   "cell_type": "code",
   "execution_count": 19,
   "id": "e0829e7e",
   "metadata": {},
   "outputs": [
    {
     "name": "stdout",
     "output_type": "stream",
     "text": [
      "\n",
      "Variables with more than 80% missing values:\n",
      "                    Column  Missing_Count  Missing_Percentage\n",
      "test                  test           2226          100.000000\n",
      "CREATOR            CREATOR           2226          100.000000\n",
      "LANGTEST_PAQ  LANGTEST_PAQ           2226          100.000000\n",
      "Option_CT        Option_CT           2226          100.000000\n",
      "Option_FL        Option_FL           2226          100.000000\n",
      "...                    ...            ...                 ...\n",
      "ST261Q05JA      ST261Q05JA           2087           93.755615\n",
      "ST261Q01JA      ST261Q01JA           2086           93.710692\n",
      "ST261Q11JA      ST261Q11JA           2084           93.620845\n",
      "ST261Q08JA      ST261Q08JA           2076           93.261456\n",
      "ST021Q01TA      ST021Q01TA           1828           82.120395\n",
      "\n",
      "[458 rows x 3 columns]\n",
      "\n",
      "Data shape after cleaning:\n",
      "(2226, 821)\n"
     ]
    },
    {
     "data": {
      "image/png": "[encoded data removed]",
      "text/plain": [
       "<Figure size 1200x800 with 2 Axes>"
      ]
     },
     "metadata": {},
     "output_type": "display_data"
    }
   ],
   "source": [
    "# Calculate missing data percentages\n",
    "missing_summary = pd.DataFrame({\n",
    "    'Column': pisa_data.columns,\n",
    "    'Missing_Count': pisa_data.isnull().sum(),\n",
    "    'Missing_Percentage': (pisa_data.isnull().sum() / len(pisa_data)) * 100\n",
    "})\n",
    "\n",
    "missing_summary = missing_summary[missing_summary['Missing_Percentage'] > 0].sort_values(\n",
    "    'Missing_Percentage', ascending=False\n",
    ")\n",
    "\n",
    "# Major missing values variables\n",
    "major_missing_vars = missing_summary[missing_summary['Missing_Percentage'] > 80]\n",
    "print(\"\\nVariables with more than 80% missing values:\")\n",
    "print(major_missing_vars)\n",
    "\n",
    "# Remove columns with excessive missing values\n",
    "pisa_data_cleaned = pisa_data.drop(columns=major_missing_vars['Column'])\n",
    "\n",
    "# Data shape after cleaning\n",
    "print(\"\\nData shape after cleaning:\")\n",
    "print(pisa_data_cleaned.shape)\n",
    "\n",
    "# Visualize missing data patterns\n",
    "plt.figure(figsize=(12, 8))\n",
    "sns.heatmap(pisa_data_cleaned.isnull().iloc[:, :50], cbar=True, yticklabels=False)\n",
    "plt.title('Missing Data Patterns (First 50 Variables)')\n",
    "plt.tight_layout()\n",
    "plt.show()"
   ]
  },
  {
   "cell_type": "markdown",
   "id": "843d67b0",
   "metadata": {},
   "source": [
    "#### Data Distribution Analysis"
   ]
  },
  {
   "cell_type": "code",
   "execution_count": 20,
   "id": "3ad9a0c3",
   "metadata": {},
   "outputs": [
    {
     "data": {
      "image/png": "[encoded data removed]",
      "text/plain": [
       "<Figure size 1500x1000 with 6 Axes>"
      ]
     },
     "metadata": {},
     "output_type": "display_data"
    }
   ],
   "source": [
    "# Identify key performance variables\n",
    "performance_vars = [col for col in pisa_data_cleaned.columns if 'PV' in col and any(domain in col for domain in ['READ', 'MATH', 'SCIE'])]\n",
    "\n",
    "# Create distribution plots for performance measures\n",
    "fig, axes = plt.subplots(2, 3, figsize=(15, 10))\n",
    "fig.suptitle('Distribution of PISA 2022 Performance Measures - Victoria')\n",
    "\n",
    "for i, var in enumerate(performance_vars[:6]):\n",
    "    row, col = i // 3, i % 3\n",
    "    axes[row, col].hist(pisa_data[var].dropna(), bins=30, alpha=0.7)\n",
    "    axes[row, col].set_title(f'{var}')\n",
    "    axes[row, col].set_xlabel('Score')\n",
    "    axes[row, col].set_ylabel('Frequency')\n",
    "\n",
    "plt.tight_layout()\n",
    "plt.show()"
   ]
  },
  {
   "cell_type": "markdown",
   "id": "a0ae723c",
   "metadata": {},
   "source": [
    "### 6.2 Demographic Analysis\n",
    "\n",
    "#### Student Background Overview"
   ]
  },
  {
   "cell_type": "code",
   "execution_count": 21,
   "id": "46673da5",
   "metadata": {},
   "outputs": [
    {
     "data": {
      "image/png": "[encoded data removed]",
      "text/plain": [
       "<Figure size 1200x1000 with 4 Axes>"
      ]
     },
     "metadata": {},
     "output_type": "display_data"
    }
   ],
   "source": [
    "# Analyze key demographic variables\n",
    "demographic_vars = ['ST004D01T', 'COBN_S', 'LANGN', 'ESCS']  # Gender, birth country, language, SES\n",
    "\n",
    "# Create demographic summary\n",
    "demo_summary = {}\n",
    "for var in demographic_vars:\n",
    "    if var in pisa_data_cleaned.columns:\n",
    "        demo_summary[var] = pisa_data_cleaned[var].value_counts()\n",
    "        \n",
    "# Visualize demographic distributions\n",
    "fig, axes = plt.subplots(2, 2, figsize=(12, 10))\n",
    "fig.suptitle('Victorian Student Demographics - PISA 2022')\n",
    "\n",
    "# Gender distribution\n",
    "if 'ST004D01T' in pisa_data_cleaned.columns:\n",
    "    pisa_data_cleaned['ST004D01T'].value_counts().plot(kind='bar', ax=axes[0,0])\n",
    "    axes[0,0].set_title('Gender Distribution')\n",
    "    axes[0,0].set_xlabel('Gender')\n",
    "\n",
    "# Add other demographic plots...\n",
    "if 'COBN_S' in pisa_data_cleaned.columns:\n",
    "    pisa_data_cleaned['COBN_S'].value_counts().plot(kind='hist', ax=axes[0,1])\n",
    "    axes[0,1].set_title('Birth Country Distribution')\n",
    "    axes[0,1].set_xlabel('Birth Country')\n",
    "\n",
    "if 'LANGN' in pisa_data_cleaned.columns:\n",
    "    pisa_data_cleaned['LANGN'].value_counts().plot(kind='bar', ax=axes[1,0])\n",
    "    axes[1,0].set_title('Language Spoken at Home')\n",
    "    axes[1,0].set_xlabel('Language')\n",
    "\n",
    "if 'ESCS' in pisa_data_cleaned.columns:\n",
    "    pisa_data_cleaned['ESCS'].value_counts().plot(kind='hist', ax=axes[1,1])\n",
    "    axes[1,1].set_title('Economic, Social and Cultural Status')\n",
    "    axes[1,1].set_xlabel('ESCS Score')\n",
    "\n",
    "plt.tight_layout()\n",
    "plt.show()"
   ]
  },
  {
   "cell_type": "markdown",
   "id": "35a56a9d",
   "metadata": {},
   "source": [
    "### 6.3 Performance Analysis\n",
    "\n",
    "#### Subject Performance Comparison"
   ]
  },
  {
   "cell_type": "code",
   "execution_count": 29,
   "id": "b9c085c3",
   "metadata": {},
   "outputs": [
    {
     "name": "stdout",
     "output_type": "stream",
     "text": [
      "{'PV1READ': np.float64(502.89360017969454), 'PV1MATH': np.float64(489.6365265049416), 'PV1SCIE': np.float64(507.86893980233594)}\n"
     ]
    },
    {
     "data": {
      "image/png": "[encoded data removed]",
      "text/plain": [
       "<Figure size 1000x600 with 1 Axes>"
      ]
     },
     "metadata": {},
     "output_type": "display_data"
    }
   ],
   "source": [
    "# Calculate mean performance by subject\n",
    "subjects = ['PV1READ', 'PV1MATH', 'PV1SCIE']\n",
    "performance_summary = {}\n",
    "\n",
    "for subject in subjects:\n",
    "    mean_vars = pisa_data_cleaned[subject].dropna().mean()\n",
    "    if mean_vars:\n",
    "        performance_summary[subject] = mean_vars\n",
    "\n",
    "print(performance_summary)\n",
    "\n",
    "# Bar plot of performance summary\n",
    "import matplotlib.pyplot as plt\n",
    "\n",
    "plt.figure(figsize=(10, 6))\n",
    "plt.bar(performance_summary.keys(), performance_summary.values(), color=['#1f77b4', '#ff7f0e', '#2ca02c'])\n",
    "plt.title('Average PISA 2022 Performance by Subject - Victoria')\n",
    "plt.ylabel('Average Score')\n",
    "plt.xlabel('Subject')\n",
    "plt.xticks(rotation=45)\n",
    "plt.tight_layout()\n",
    "plt.show()\n"
   ]
  }
 ],
 "metadata": {
  "kernelspec": {
   "display_name": "SIT312",
   "language": "python",
   "name": "python3"
  },
  "language_info": {
   "codemirror_mode": {
    "name": "ipython",
    "version": 3
   },
   "file_extension": ".py",
   "mimetype": "text/x-python",
   "name": "python",
   "nbconvert_exporter": "python",
   "pygments_lexer": "ipython3",
   "version": "3.12.9"
  }
 },
 "nbformat": 4,
 "nbformat_minor": 5
}
