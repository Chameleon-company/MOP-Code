{
 "cells": [
  {
   "cell_type": "markdown",
   "metadata": {},
   "source": [
    "<div class=\"usecase-title\">Real Estate</div>\n",
    "\n",
    "<div class=\"usecase-authors\"><b>Authored by: </b> Prathibha Kandawala</div>"
   ]
  },
  {
   "cell_type": "markdown",
   "metadata": {},
   "source": [
    "<div class=\"usecase-duration\"><b>Duration:</b> {90} mins</div>\n",
    "\n",
    "<div class=\"usecase-level-skill\">\n",
    "    <div class=\"usecase-level\"><b>Level: </b>{Intermediate}</div>\n",
    "    <div class=\"usecase-skill\"><b>Pre-requisite Skills: </b>Python</div>\n",
    "</div>"
   ]
  },
  {
   "cell_type": "markdown",
   "metadata": {},
   "source": [
    "<div class=\"usecase-section-header\">Scenario</div>"
   ]
  },
  {
   "cell_type": "markdown",
   "metadata": {},
   "source": [
    "In this use case, I am planning conduct an economic analysis to inform land use planning and development strategies. Specifically, the objective is to leverage two datasets provided by the City of Melbourne: one detailing residential dwellings and another showing floor space allocation per industry for different city blocks. The goal is to gain insights into the economic composition of neighborhoods, understand the distribution of businesses, and identify opportunities for targeted development initiatives\n",
    "\n",
    "Key objectives for this analysis include:\n",
    "\n",
    "- Analyzing trends in residential dwelling types and their distribution across different neighborhoods from the residential dwellings dataset.\n",
    "- Examining the allocation of floor space per industry category within city blocks to understand the economic activities present in each area.\n",
    "- Mapping the spatial distribution of residential dwellings and industries to identify clusters and patterns.\n",
    "- Assessing correlations between residential dwelling types and the presence of specific industries to understand the symbiotic relationship between residential and commercial areas.\n",
    "- Identifying areas for potential urban development, revitalization, or zoning adjustments based on economic dynamics and community needs.\n",
    "\n",
    "By conducting this analysis, the City of Melbourne aims to make informed decisions regarding urban development, infrastructure investments, and land use policies to foster economic growth, enhance livability, and ensure sustainable development across the city."
   ]
  },
  {
   "cell_type": "markdown",
   "metadata": {},
   "source": [
    "<div class=\"usecase-section-header\">What this use case will teach you</div> \n"
   ]
  },
  {
   "cell_type": "markdown",
   "metadata": {},
   "source": [
    " * How to integrate and analyze multiple datasets to derive meaningful insight.\n",
    " * Understand the economic dynamics of neighborhoods and the distribution of businesses within the city.\n",
    " * Using geographic information systems (GIS) tools to visualize spatial patterns, identify clusters, and analyze geographic relationships."
   ]
  },
  {
   "cell_type": "markdown",
   "metadata": {},
   "source": [
    "At the end of this use case you will you will have demonstrated the following skills:\n",
    "\n",
    "- Data integration and analysis\n",
    "- Economic analysis techniques\n",
    "- Spatial analysis using geographic information systems (GIS) tools\n",
    "- Land use planning principles\n",
    "- Decision-making based on data analysis insights"
   ]
  },
  {
   "cell_type": "markdown",
   "metadata": {},
   "source": [
    "<div class=\"usecase-section-header\">Analyzing Economic Dynamics for Urban Development and Real Estate Planning</div>"
   ]
  },
  {
   "cell_type": "markdown",
   "metadata": {},
   "source": [
    "In this use case, we aim to conduct an economic analysis to inform land use planning and development strategies for the City of Melbourne. With urban development being a critical aspect of city management, understanding the economic dynamics of neighborhoods and the spatial distribution of businesses is paramount. Leveraging datasets provided by the City of Melbourne, including information on residential dwellings and floor space allocation per industry for different city blocks, we seek to gain insights into Melbourne's economic landscape. These datasets are accessible through the City of Melbourne's open data portal, ensuring transparency and accessibility for stakeholders and researchers alike. Through this analysis, we aim to identify opportunities for targeted development initiatives and support sustainable urban growth.\n",
    "\n"
   ]
  }
 ],
 "metadata": {
  "kernelspec": {
   "display_name": "Python 3",
   "language": "python",
   "name": "python3"
  },
  "language_info": {
   "codemirror_mode": {
    "name": "ipython",
    "version": 3
   },
   "file_extension": ".py",
   "mimetype": "text/x-python",
   "name": "python",
   "nbconvert_exporter": "python",
   "pygments_lexer": "ipython3",
   "version": "3.10.5"
  },
  "vscode": {
   "interpreter": {
    "hash": "369f2c481f4da34e4445cda3fffd2e751bd1c4d706f27375911949ba6bb62e1c"
   }
  }
 },
 "nbformat": 4,
 "nbformat_minor": 4
}
