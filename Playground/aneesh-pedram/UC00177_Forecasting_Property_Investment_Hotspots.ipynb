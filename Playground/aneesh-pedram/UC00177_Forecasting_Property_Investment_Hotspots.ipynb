{
 "cells": [
  {
   "cell_type": "markdown",
   "id": "e2c88e65",
   "metadata": {},
   "source": [
    "# Forecasting Property Investment Hotspots\n",
    "\n",
    "**Authored by: Aneesh Pedram**"
   ]
  },
  {
   "cell_type": "markdown",
   "id": "e51434c0",
   "metadata": {},
   "source": [
    "<div class=\"usecase-duration\"><b>Duration:</b> 90 mins</div>\n",
    "\n",
    "<div class=\"usecase-level-skill\">\n",
    "    <div class=\"usecase-level\"><b>Level: </b>Intermediate</div>\n",
    "    <div class=\"usecase-skill\"><b>Pre-requisite Skills: </b>Python</div>\n",
    "</div>"
   ]
  },
  {
   "cell_type": "markdown",
   "id": "f31262ed",
   "metadata": {},
   "source": [
    "## Scenario\n",
    "\n",
    "The City of Melbourne faces challenges in identifying suburbs with high property investment potential due to fluctuating house prices and varying population growth rates. This makes it difficult for investors and policymakers to make informed decisions about resource allocation and urban development. \n",
    "\n",
    "To address this, I propose an analysis that combines historical house price trends and population forecasts to identify investment hotspots. The insights will assist in optimizing urban planning, guiding investment strategies, and fostering sustainable growth in the city."
   ]
  },
  {
   "cell_type": "markdown",
   "id": "5b2b1f96",
   "metadata": {},
   "source": [
    "### User Story\n",
    "**As** a property investor or urban planner,  \n",
    "**I want** to use an analysis that identifies suburbs with high property investment potential based on historical house price trends and population growth forecasts,  \n",
    "**so that** I can make informed decisions about resource allocation, urban development, and investment strategies."
   ]
  },
  {
   "cell_type": "markdown",
   "id": "d3f3394d",
   "metadata": {},
   "source": [
    "**What the use case will teach you**\n",
    "\n",
    "At the end of this use case you will:\n",
    "- Demonstrate the ability to retrieve and process data from public APIs.\n",
    "- Apply data cleaning and preprocessing techniques on property and population datasets.\n",
    "- Perform basic aggregation and filtering methods to analyse trends.\n",
    "- Calculate growth metrics such as CAGR and population growth percentages.\n",
    "- Implement data visualisation techniques to identify investment hotspots."
   ]
  },
  {
   "cell_type": "markdown",
   "id": "4c194a87",
   "metadata": {},
   "source": [
    "## Introduction\n",
    "\n",
    "Understanding property investment trends is crucial for urban development, resource allocation, and guiding investors towards high-potential areas. The City of Melbourne collects extensive data on house prices and population forecasts, which, when analysed together, can reveal valuable insights into investment opportunities.\n",
    "\n",
    "This project focuses on developing an analysis that combines these datasets to identify suburbs with high property investment potential. By leveraging historical trends and growth forecasts, stakeholders can make informed decisions to optimise urban planning, foster sustainable growth, and maximise returns on investment. This approach supports smarter, data-driven strategies for urban development and investment planning."
   ]
  },
  {
   "cell_type": "markdown",
   "id": "a5d4c0fb",
   "metadata": {},
   "source": [
    "***Dataset Links***\n",
    "- House Prices Dataset: [House Prices by Small Area Sale Year](https://data.melbourne.vic.gov.au/explore/dataset/house-prices-by-small-area-sale-year/api/)\n",
    "- Population Forecast Dataset: [City of Melbourne Population Forecasts](https://data.melbourne.vic.gov.au/explore/dataset/city-of-melbourne-population-forecasts-by-small-area-2020-2040/api/)"
   ]
  },
  {
   "cell_type": "code",
   "execution_count": 1,
   "id": "04217299",
   "metadata": {},
   "outputs": [
    {
     "name": "stdout",
     "output_type": "stream",
     "text": [
      "House Prices Dataset contains 347 records.\n",
      "   sale_year             small_area                   type  median_price  \\\n",
      "0       2000              Southbank  Residential Apartment      370500.0   \n",
      "1       2001              Parkville        House/Townhouse      354000.0   \n",
      "2       2002  Melbourne (Remainder)  Residential Apartment      367562.0   \n",
      "\n",
      "   transaction_count  \n",
      "0                901  \n",
      "1                 36  \n",
      "2                 44  \n",
      "Population Forecast Dataset contains 10584 records.\n",
      "    geography  year  gender        age  value\n",
      "0  Kensington  2037    Male  Age 45-49    747\n",
      "1  Kensington  2038  Female  Age 20-24    428\n",
      "2  Kensington  2038  Female  Age 75-79    144\n"
     ]
    }
   ],
   "source": [
    "import requests\n",
    "import pandas as pd\n",
    "from io import StringIO\n",
    "import matplotlib.pyplot as plt\n",
    "import seaborn as sns\n",
    "\n",
    "# Function to collect data via the export endpoint\n",
    "def collect_data(dataset_id):\n",
    "    base_url = 'https://data.melbourne.vic.gov.au/api/explore/v2.1/catalog/datasets/'\n",
    "    format = 'csv'\n",
    "    url = f'{base_url}{dataset_id}/exports/{format}'\n",
    "\n",
    "    params = {\n",
    "        'select': '*',\n",
    "        'limit': -1,   # fetch all records\n",
    "        'lang': 'en',\n",
    "        'timezone': 'UTC'\n",
    "    }\n",
    "\n",
    "    response = requests.get(url, params=params)\n",
    "\n",
    "    if response.status_code == 200:\n",
    "        csv_content = response.content.decode('utf-8')\n",
    "        dataset = pd.read_csv(StringIO(csv_content), delimiter=';')\n",
    "        return dataset\n",
    "    else:\n",
    "        raise Exception(f\"Request failed with status code {response.status_code} for {dataset_id}\")\n",
    "\n",
    "# Fetch House Prices Dataset\n",
    "house_prices_id = 'house-prices-by-small-area-sale-year'\n",
    "prices = collect_data(house_prices_id)\n",
    "print(f\"House Prices Dataset contains {len(prices)} records.\")\n",
    "print(prices.head(3))\n",
    "\n",
    "# Fetch Population Forecast Dataset\n",
    "population_id = 'city-of-melbourne-population-forecasts-by-small-area-2020-2040'\n",
    "pop = collect_data(population_id)\n",
    "print(f\"Population Forecast Dataset contains {len(pop)} records.\")\n",
    "print(pop.head(3))\n"
   ]
  },
  {
   "cell_type": "markdown",
   "id": "97d1b8b5",
   "metadata": {},
   "source": [
    "## Data Collection\n",
    "\n",
    "This code block defines a function `collect_data` to fetch datasets from the City of Melbourne's open data API. The function:\n",
    "- Constructs the API endpoint URL dynamically using the dataset ID.\n",
    "- Sends a GET request to the API with parameters to fetch all records in CSV format.\n",
    "- Decodes the response content and loads it into a Pandas DataFrame for further analysis.\n",
    "\n",
    "The datasets fetched include:\n",
    "1. House Prices Dataset: Provides historical house price trends by small area.\n",
    "2. Population Forecast Dataset: Contains population forecasts for small areas from 2020 to 2040.\n",
    "\n",
    "This step ensures that the data is retrieved programmatically, making the process reproducible and scalable."
   ]
  },
  {
   "cell_type": "code",
   "execution_count": 2,
   "id": "ce1deee5",
   "metadata": {},
   "outputs": [],
   "source": [
    "# Capitalize column names for both datasets\n",
    "prices.columns = ['_'.join([word.capitalize() for word in col.split('_')]) for col in prices.columns]\n",
    "pop.columns = ['_'.join([word.capitalize() for word in col.split('_')]) for col in pop.columns]"
   ]
  },
  {
   "cell_type": "markdown",
   "id": "832a5746",
   "metadata": {},
   "source": [
    "## Column Capitalisation\n",
    "\n",
    "This code block standardises column names for both datasets by:\n",
    "- Splitting column names on underscores (`_`).\n",
    "- Capitalising each word in the column name.\n",
    "- Joining the words back with underscores.\n",
    "\n",
    "This ensures consistency in column naming, making the datasets easier to work with and improving readability in subsequent analysis steps."
   ]
  },
  {
   "cell_type": "code",
   "execution_count": 3,
   "id": "af688804",
   "metadata": {},
   "outputs": [
    {
     "data": {
      "text/html": [
       "<div>\n",
       "<style scoped>\n",
       "    .dataframe tbody tr th:only-of-type {\n",
       "        vertical-align: middle;\n",
       "    }\n",
       "\n",
       "    .dataframe tbody tr th {\n",
       "        vertical-align: top;\n",
       "    }\n",
       "\n",
       "    .dataframe thead th {\n",
       "        text-align: right;\n",
       "    }\n",
       "</style>\n",
       "<table border=\"1\" class=\"dataframe\">\n",
       "  <thead>\n",
       "    <tr style=\"text-align: right;\">\n",
       "      <th></th>\n",
       "      <th>Sale_Year</th>\n",
       "      <th>Small_Area</th>\n",
       "      <th>Type</th>\n",
       "      <th>Median_Price</th>\n",
       "      <th>Transaction_Count</th>\n",
       "    </tr>\n",
       "  </thead>\n",
       "  <tbody>\n",
       "    <tr>\n",
       "      <th>0</th>\n",
       "      <td>2000</td>\n",
       "      <td>Parkville</td>\n",
       "      <td>House/Townhouse</td>\n",
       "      <td>516000.0</td>\n",
       "      <td>42</td>\n",
       "    </tr>\n",
       "    <tr>\n",
       "      <th>1</th>\n",
       "      <td>2001</td>\n",
       "      <td>Carlton</td>\n",
       "      <td>House/Townhouse</td>\n",
       "      <td>381000.0</td>\n",
       "      <td>113</td>\n",
       "    </tr>\n",
       "    <tr>\n",
       "      <th>2</th>\n",
       "      <td>2001</td>\n",
       "      <td>Melbourne (CBD)</td>\n",
       "      <td>House/Townhouse</td>\n",
       "      <td>NaN</td>\n",
       "      <td>4</td>\n",
       "    </tr>\n",
       "    <tr>\n",
       "      <th>3</th>\n",
       "      <td>2001</td>\n",
       "      <td>North Melbourne</td>\n",
       "      <td>Residential Apartment</td>\n",
       "      <td>270000.0</td>\n",
       "      <td>271</td>\n",
       "    </tr>\n",
       "    <tr>\n",
       "      <th>4</th>\n",
       "      <td>2001</td>\n",
       "      <td>South Yarra</td>\n",
       "      <td>House/Townhouse</td>\n",
       "      <td>800000.0</td>\n",
       "      <td>46</td>\n",
       "    </tr>\n",
       "  </tbody>\n",
       "</table>\n",
       "</div>"
      ],
      "text/plain": [
       "   Sale_Year       Small_Area                   Type  Median_Price  \\\n",
       "0       2000        Parkville        House/Townhouse      516000.0   \n",
       "1       2001          Carlton        House/Townhouse      381000.0   \n",
       "2       2001  Melbourne (CBD)        House/Townhouse           NaN   \n",
       "3       2001  North Melbourne  Residential Apartment      270000.0   \n",
       "4       2001      South Yarra        House/Townhouse      800000.0   \n",
       "\n",
       "   Transaction_Count  \n",
       "0                 42  \n",
       "1                113  \n",
       "2                  4  \n",
       "3                271  \n",
       "4                 46  "
      ]
     },
     "execution_count": 3,
     "metadata": {},
     "output_type": "execute_result"
    }
   ],
   "source": [
    "prices.head() "
   ]
  },
  {
   "cell_type": "code",
   "execution_count": 4,
   "id": "83f5b4b0",
   "metadata": {},
   "outputs": [
    {
     "data": {
      "text/html": [
       "<div>\n",
       "<style scoped>\n",
       "    .dataframe tbody tr th:only-of-type {\n",
       "        vertical-align: middle;\n",
       "    }\n",
       "\n",
       "    .dataframe tbody tr th {\n",
       "        vertical-align: top;\n",
       "    }\n",
       "\n",
       "    .dataframe thead th {\n",
       "        text-align: right;\n",
       "    }\n",
       "</style>\n",
       "<table border=\"1\" class=\"dataframe\">\n",
       "  <thead>\n",
       "    <tr style=\"text-align: right;\">\n",
       "      <th></th>\n",
       "      <th>Geography</th>\n",
       "      <th>Year</th>\n",
       "      <th>Gender</th>\n",
       "      <th>Age</th>\n",
       "      <th>Value</th>\n",
       "    </tr>\n",
       "  </thead>\n",
       "  <tbody>\n",
       "    <tr>\n",
       "      <th>0</th>\n",
       "      <td>Carlton</td>\n",
       "      <td>2023</td>\n",
       "      <td>Female</td>\n",
       "      <td>Age 65-69</td>\n",
       "      <td>224</td>\n",
       "    </tr>\n",
       "    <tr>\n",
       "      <th>1</th>\n",
       "      <td>Carlton</td>\n",
       "      <td>2023</td>\n",
       "      <td>Female</td>\n",
       "      <td>Age 85+</td>\n",
       "      <td>66</td>\n",
       "    </tr>\n",
       "    <tr>\n",
       "      <th>2</th>\n",
       "      <td>Carlton</td>\n",
       "      <td>2024</td>\n",
       "      <td>Female</td>\n",
       "      <td>Age 25-29</td>\n",
       "      <td>2105</td>\n",
       "    </tr>\n",
       "    <tr>\n",
       "      <th>3</th>\n",
       "      <td>Carlton</td>\n",
       "      <td>2024</td>\n",
       "      <td>Female</td>\n",
       "      <td>Age 30-34</td>\n",
       "      <td>1174</td>\n",
       "    </tr>\n",
       "    <tr>\n",
       "      <th>4</th>\n",
       "      <td>Carlton</td>\n",
       "      <td>2024</td>\n",
       "      <td>Male</td>\n",
       "      <td>Age 25-29</td>\n",
       "      <td>1978</td>\n",
       "    </tr>\n",
       "  </tbody>\n",
       "</table>\n",
       "</div>"
      ],
      "text/plain": [
       "  Geography  Year  Gender        Age  Value\n",
       "0   Carlton  2023  Female  Age 65-69    224\n",
       "1   Carlton  2023  Female    Age 85+     66\n",
       "2   Carlton  2024  Female  Age 25-29   2105\n",
       "3   Carlton  2024  Female  Age 30-34   1174\n",
       "4   Carlton  2024    Male  Age 25-29   1978"
      ]
     },
     "execution_count": 4,
     "metadata": {},
     "output_type": "execute_result"
    }
   ],
   "source": [
    "pop.head()"
   ]
  },
  {
   "cell_type": "markdown",
   "metadata": {},
   "source": [
    "## Data Cleaning\n",
    "- Check and clean column names.\n",
    "- Handle missing values in `Small_Area` and `Median_Price`.\n",
    "- Convert columns to appropriate data types."
   ]
  },
  {
   "cell_type": "code",
   "execution_count": 5,
   "id": "030ce40b",
   "metadata": {},
   "outputs": [
    {
     "name": "stdout",
     "output_type": "stream",
     "text": [
      "Missing values in House Prices dataset:\n",
      "Sale_Year             0\n",
      "Small_Area            7\n",
      "Type                  0\n",
      "Median_Price         28\n",
      "Transaction_Count     0\n",
      "dtype: int64\n",
      "Missing values in Population Forecast dataset:\n",
      "Geography    0\n",
      "Year         0\n",
      "Gender       0\n",
      "Age          0\n",
      "Value        0\n",
      "dtype: int64\n"
     ]
    }
   ],
   "source": [
    "# Check missing values in both datasets\n",
    "print(\"Missing values in House Prices dataset:\")\n",
    "print(prices.isnull().sum())\n",
    "\n",
    "print(\"Missing values in Population Forecast dataset:\")\n",
    "print(pop.isnull().sum())"
   ]
  },
  {
   "cell_type": "markdown",
   "id": "b2db8423",
   "metadata": {},
   "source": [
    "## Handling Missing Values\n",
    "\n",
    "This code block checks for missing values in both datasets:\n",
    "- Uses the `isnull()` method to identify missing values in each column.\n",
    "- Summarises the count of missing values per column using `sum()`.\n",
    "\n",
    "This step helps identify data quality issues early, ensuring that appropriate cleaning steps can be applied to handle missing data effectively."
   ]
  },
  {
   "cell_type": "code",
   "execution_count": 28,
   "metadata": {},
   "outputs": [
    {
     "data": {
      "text/html": [
       "<div>\n",
       "<style scoped>\n",
       "    .dataframe tbody tr th:only-of-type {\n",
       "        vertical-align: middle;\n",
       "    }\n",
       "\n",
       "    .dataframe tbody tr th {\n",
       "        vertical-align: top;\n",
       "    }\n",
       "\n",
       "    .dataframe thead th {\n",
       "        text-align: right;\n",
       "    }\n",
       "</style>\n",
       "<table border=\"1\" class=\"dataframe\">\n",
       "  <thead>\n",
       "    <tr style=\"text-align: right;\">\n",
       "      <th></th>\n",
       "      <th>Sale_Year</th>\n",
       "      <th>Small_Area</th>\n",
       "      <th>Type</th>\n",
       "      <th>Median_Price</th>\n",
       "      <th>Transaction_Count</th>\n",
       "    </tr>\n",
       "  </thead>\n",
       "  <tbody>\n",
       "    <tr>\n",
       "      <th>0</th>\n",
       "      <td>2000</td>\n",
       "      <td>Parkville</td>\n",
       "      <td>House/Townhouse</td>\n",
       "      <td>516000.0</td>\n",
       "      <td>42</td>\n",
       "    </tr>\n",
       "    <tr>\n",
       "      <th>1</th>\n",
       "      <td>2001</td>\n",
       "      <td>Carlton</td>\n",
       "      <td>House/Townhouse</td>\n",
       "      <td>381000.0</td>\n",
       "      <td>113</td>\n",
       "    </tr>\n",
       "    <tr>\n",
       "      <th>2</th>\n",
       "      <td>2001</td>\n",
       "      <td>Melbourne (CBD)</td>\n",
       "      <td>House/Townhouse</td>\n",
       "      <td>364000.0</td>\n",
       "      <td>4</td>\n",
       "    </tr>\n",
       "    <tr>\n",
       "      <th>3</th>\n",
       "      <td>2001</td>\n",
       "      <td>North Melbourne</td>\n",
       "      <td>Residential Apartment</td>\n",
       "      <td>270000.0</td>\n",
       "      <td>271</td>\n",
       "    </tr>\n",
       "    <tr>\n",
       "      <th>4</th>\n",
       "      <td>2001</td>\n",
       "      <td>South Yarra</td>\n",
       "      <td>House/Townhouse</td>\n",
       "      <td>800000.0</td>\n",
       "      <td>46</td>\n",
       "    </tr>\n",
       "    <tr>\n",
       "      <th>5</th>\n",
       "      <td>2002</td>\n",
       "      <td>West Melbourne (Residential)</td>\n",
       "      <td>Residential Apartment</td>\n",
       "      <td>335000.0</td>\n",
       "      <td>104</td>\n",
       "    </tr>\n",
       "    <tr>\n",
       "      <th>6</th>\n",
       "      <td>2003</td>\n",
       "      <td>Kensington</td>\n",
       "      <td>Residential Apartment</td>\n",
       "      <td>0.0</td>\n",
       "      <td>288</td>\n",
       "    </tr>\n",
       "    <tr>\n",
       "      <th>7</th>\n",
       "      <td>2003</td>\n",
       "      <td>West Melbourne (Residential)</td>\n",
       "      <td>House/Townhouse</td>\n",
       "      <td>375000.0</td>\n",
       "      <td>72</td>\n",
       "    </tr>\n",
       "    <tr>\n",
       "      <th>8</th>\n",
       "      <td>2004</td>\n",
       "      <td>Docklands</td>\n",
       "      <td>Residential Apartment</td>\n",
       "      <td>445000.0</td>\n",
       "      <td>252</td>\n",
       "    </tr>\n",
       "    <tr>\n",
       "      <th>9</th>\n",
       "      <td>2005</td>\n",
       "      <td>Melbourne (CBD)</td>\n",
       "      <td>Residential Apartment</td>\n",
       "      <td>317500.0</td>\n",
       "      <td>1119</td>\n",
       "    </tr>\n",
       "  </tbody>\n",
       "</table>\n",
       "</div>"
      ],
      "text/plain": [
       "   Sale_Year                    Small_Area                   Type  \\\n",
       "0       2000                     Parkville        House/Townhouse   \n",
       "1       2001                       Carlton        House/Townhouse   \n",
       "2       2001               Melbourne (CBD)        House/Townhouse   \n",
       "3       2001               North Melbourne  Residential Apartment   \n",
       "4       2001                   South Yarra        House/Townhouse   \n",
       "5       2002  West Melbourne (Residential)  Residential Apartment   \n",
       "6       2003                    Kensington  Residential Apartment   \n",
       "7       2003  West Melbourne (Residential)        House/Townhouse   \n",
       "8       2004                     Docklands  Residential Apartment   \n",
       "9       2005               Melbourne (CBD)  Residential Apartment   \n",
       "\n",
       "   Median_Price  Transaction_Count  \n",
       "0      516000.0                 42  \n",
       "1      381000.0                113  \n",
       "2      364000.0                  4  \n",
       "3      270000.0                271  \n",
       "4      800000.0                 46  \n",
       "5      335000.0                104  \n",
       "6           0.0                288  \n",
       "7      375000.0                 72  \n",
       "8      445000.0                252  \n",
       "9      317500.0               1119  "
      ]
     },
     "execution_count": 28,
     "metadata": {},
     "output_type": "execute_result"
    }
   ],
   "source": [
    "# Clean population dataset\n",
    "pop.rename(columns={pop.columns[0]: 'Small_Area'}, inplace=True)\n",
    "\n",
    "# Drop rows where Small_Area is missing\n",
    "prices = prices.dropna(subset=['Small_Area'])\n",
    "\n",
    "# Fill missing Median_Price with median price for that Small_Area\n",
    "prices['Median_Price'] = prices.groupby('Small_Area')['Median_Price'].transform(lambda x: x.fillna(x.median()))\n",
    "\n",
    "prices['Sale_Year'] = prices['Sale_Year'].astype(int)\n",
    "prices.head(10)"
   ]
  },
  {
   "cell_type": "markdown",
   "id": "667ee795",
   "metadata": {},
   "source": [
    "## Data Cleaning and Transformation\n",
    "\n",
    "This code block performs the following cleaning and transformation steps:\n",
    "1. Renames the first column in the population dataset to `Small_Area` for consistency.\n",
    "2. Drops rows in the house prices dataset where `Small_Area` is missing, as these rows cannot be analysed.\n",
    "3. Fills missing values in the `Median_Price` column with the median price for the corresponding `Small_Area` to preserve data integrity.\n",
    "4. Converts the `Sale_Year` column to an integer type for accurate numerical operations.\n",
    "\n",
    "These steps ensure that the datasets are clean, consistent, and ready for analysis."
   ]
  },
  {
   "cell_type": "markdown",
   "metadata": {},
   "source": [
    "## Exploratory Data Analysis (EDA)"
   ]
  },
  {
   "cell_type": "code",
   "execution_count": 29,
   "metadata": {},
   "outputs": [
    {
     "data": {
      "text/html": [
       "<div>\n",
       "<style scoped>\n",
       "    .dataframe tbody tr th:only-of-type {\n",
       "        vertical-align: middle;\n",
       "    }\n",
       "\n",
       "    .dataframe tbody tr th {\n",
       "        vertical-align: top;\n",
       "    }\n",
       "\n",
       "    .dataframe thead th {\n",
       "        text-align: right;\n",
       "    }\n",
       "</style>\n",
       "<table border=\"1\" class=\"dataframe\">\n",
       "  <thead>\n",
       "    <tr style=\"text-align: right;\">\n",
       "      <th></th>\n",
       "      <th>Sale_Year</th>\n",
       "      <th>Median_Price</th>\n",
       "      <th>Transaction_Count</th>\n",
       "    </tr>\n",
       "  </thead>\n",
       "  <tbody>\n",
       "    <tr>\n",
       "      <th>count</th>\n",
       "      <td>340.000000</td>\n",
       "      <td>3.400000e+02</td>\n",
       "      <td>340.000000</td>\n",
       "    </tr>\n",
       "    <tr>\n",
       "      <th>mean</th>\n",
       "      <td>2008.170588</td>\n",
       "      <td>6.419830e+05</td>\n",
       "      <td>282.352941</td>\n",
       "    </tr>\n",
       "    <tr>\n",
       "      <th>std</th>\n",
       "      <td>4.879705</td>\n",
       "      <td>8.584610e+05</td>\n",
       "      <td>483.899163</td>\n",
       "    </tr>\n",
       "    <tr>\n",
       "      <th>min</th>\n",
       "      <td>2000.000000</td>\n",
       "      <td>0.000000e+00</td>\n",
       "      <td>1.000000</td>\n",
       "    </tr>\n",
       "    <tr>\n",
       "      <th>25%</th>\n",
       "      <td>2004.000000</td>\n",
       "      <td>3.640000e+05</td>\n",
       "      <td>48.750000</td>\n",
       "    </tr>\n",
       "    <tr>\n",
       "      <th>50%</th>\n",
       "      <td>2008.000000</td>\n",
       "      <td>4.805000e+05</td>\n",
       "      <td>122.000000</td>\n",
       "    </tr>\n",
       "    <tr>\n",
       "      <th>75%</th>\n",
       "      <td>2012.000000</td>\n",
       "      <td>6.470000e+05</td>\n",
       "      <td>225.250000</td>\n",
       "    </tr>\n",
       "    <tr>\n",
       "      <th>max</th>\n",
       "      <td>2016.000000</td>\n",
       "      <td>1.430000e+07</td>\n",
       "      <td>3766.000000</td>\n",
       "    </tr>\n",
       "  </tbody>\n",
       "</table>\n",
       "</div>"
      ],
      "text/plain": [
       "         Sale_Year  Median_Price  Transaction_Count\n",
       "count   340.000000  3.400000e+02         340.000000\n",
       "mean   2008.170588  6.419830e+05         282.352941\n",
       "std       4.879705  8.584610e+05         483.899163\n",
       "min    2000.000000  0.000000e+00           1.000000\n",
       "25%    2004.000000  3.640000e+05          48.750000\n",
       "50%    2008.000000  4.805000e+05         122.000000\n",
       "75%    2012.000000  6.470000e+05         225.250000\n",
       "max    2016.000000  1.430000e+07        3766.000000"
      ]
     },
     "metadata": {},
     "output_type": "display_data"
    },
    {
     "data": {
      "image/png": "[encoded data removed]",
      "text/plain": [
       "<Figure size 800x500 with 1 Axes>"
      ]
     },
     "metadata": {},
     "output_type": "display_data"
    },
    {
     "data": {
      "image/png": "[encoded data removed]",
      "text/plain": [
       "<Figure size 1000x500 with 1 Axes>"
      ]
     },
     "metadata": {},
     "output_type": "display_data"
    }
   ],
   "source": [
    "# Summary statistics\n",
    "display(prices.describe())\n",
    "\n",
    "# Price distribution\n",
    "plt.figure(figsize=(8,5))\n",
    "sns.histplot(prices['Median_Price'], bins=30, kde=True)\n",
    "plt.title('Distribution of Median Prices')\n",
    "plt.show()\n",
    "\n",
    "# Transactions per Small_Area\n",
    "plt.figure(figsize=(10,5))\n",
    "prices.groupby('Small_Area')['Transaction_Count'].sum().sort_values(ascending=False).plot(kind='bar')\n",
    "plt.title('Total Transactions by Small Area')\n",
    "plt.show()"
   ]
  },
  {
   "cell_type": "markdown",
   "id": "afa31e89",
   "metadata": {},
   "source": [
    "## Exploratory Data Analysis (EDA)\n",
    "\n",
    "This code block performs EDA to understand the house prices dataset:\n",
    "1. Displays summary statistics for numerical columns using `describe()` to identify key metrics like mean, median, and range.\n",
    "2. Plots the distribution of `Median_Price` using a histogram with a kernel density estimate (KDE) to visualise price trends.\n",
    "3. Creates a bar chart showing the total number of transactions per `Small_Area` to identify areas with high activity.\n",
    "\n",
    "These visualisations and statistics provide insights into the data's structure and highlight potential patterns or anomalies."
   ]
  },
  {
   "cell_type": "markdown",
   "id": "062924d6",
   "metadata": {},
   "source": [
    "## Insights from Exploratory Data Analysis (EDA)\n",
    "\n",
    "The exploratory data analysis revealed the following key insights:\n",
    "\n",
    "1. **Median Price Distribution**:\n",
    "   - The histogram of median prices shows a right-skewed distribution, indicating that most properties are priced below the average, with a few high-value outliers.\n",
    "   - This insight is crucial for understanding the overall affordability and identifying high-value areas.\n",
    "\n",
    "2. **Transaction Activity by Small Area**:\n",
    "   - The bar chart highlights areas with the highest transaction counts, which could indicate high demand or market activity.\n",
    "   - These areas are potential hotspots for investment due to their active property markets.\n",
    "\n",
    "These insights provide a foundational understanding of the dataset, helping to identify trends and anomalies that will guide further analysis."
   ]
  },
  {
   "cell_type": "markdown",
   "metadata": {},
   "source": [
    "## Population Growth Analysis"
   ]
  },
  {
   "cell_type": "code",
   "execution_count": 30,
   "metadata": {},
   "outputs": [
    {
     "data": {
      "text/plain": [
       "Small_Area\n",
       "Port Melbourne                  27328.571429\n",
       "North Melbourne                   102.485454\n",
       "West Melbourne (Residential)       73.272422\n",
       "Docklands                          69.612045\n",
       "Southbank                          67.560029\n",
       "Name: Value, dtype: float64"
      ]
     },
     "execution_count": 30,
     "metadata": {},
     "output_type": "execute_result"
    }
   ],
   "source": [
    "baseline_year, future_year = 2023, 2043\n",
    "pop_agg = pop.groupby(['Small_Area', 'Year'])['Value'].sum().reset_index()\n",
    "base_pop = pop_agg[pop_agg['Year'] == baseline_year].set_index('Small_Area')['Value']\n",
    "fut_pop = pop_agg[pop_agg['Year'] == future_year].set_index('Small_Area')['Value']\n",
    "pop_growth_pct = ((fut_pop - base_pop) / base_pop * 100).dropna()\n",
    "pop_growth_pct.sort_values(ascending=False).head()"
   ]
  },
  {
   "cell_type": "markdown",
   "id": "2c108736",
   "metadata": {},
   "source": [
    "## Insights from Population Growth Analysis\n",
    "\n",
    "The population growth analysis provided the following insights:\n",
    "\n",
    "1. **Top Growth Areas**:\n",
    "   - Suburbs with the highest population growth percentages were identified, indicating areas with increasing demand for housing and infrastructure.\n",
    "   - These areas are likely to attract more investment due to their growing population base.\n",
    "\n",
    "2. **Baseline vs Future Population**:\n",
    "   - Comparing the baseline year (2023) with the future year (2043) highlights the magnitude of growth in specific suburbs.\n",
    "   - This insight is relevant for urban planners and investors aiming to align their strategies with demographic trends.\n",
    "\n",
    "These insights are critical for understanding how population dynamics influence property investment opportunities."
   ]
  },
  {
   "cell_type": "markdown",
   "metadata": {},
   "source": [
    "## Price CAGR (Compound Annual Growth Rate)"
   ]
  },
  {
   "cell_type": "code",
   "execution_count": 31,
   "metadata": {},
   "outputs": [
    {
     "data": {
      "text/html": [
       "<div>\n",
       "<style scoped>\n",
       "    .dataframe tbody tr th:only-of-type {\n",
       "        vertical-align: middle;\n",
       "    }\n",
       "\n",
       "    .dataframe tbody tr th {\n",
       "        vertical-align: top;\n",
       "    }\n",
       "\n",
       "    .dataframe thead th {\n",
       "        text-align: right;\n",
       "    }\n",
       "</style>\n",
       "<table border=\"1\" class=\"dataframe\">\n",
       "  <thead>\n",
       "    <tr style=\"text-align: right;\">\n",
       "      <th></th>\n",
       "      <th>price_cagr</th>\n",
       "    </tr>\n",
       "    <tr>\n",
       "      <th>Small_Area</th>\n",
       "      <th></th>\n",
       "    </tr>\n",
       "  </thead>\n",
       "  <tbody>\n",
       "    <tr>\n",
       "      <th>South Yarra</th>\n",
       "      <td>0.155976</td>\n",
       "    </tr>\n",
       "    <tr>\n",
       "      <th>North Melbourne</th>\n",
       "      <td>0.105703</td>\n",
       "    </tr>\n",
       "    <tr>\n",
       "      <th>East Melbourne</th>\n",
       "      <td>0.050614</td>\n",
       "    </tr>\n",
       "    <tr>\n",
       "      <th>Melbourne (Remainder)</th>\n",
       "      <td>0.045805</td>\n",
       "    </tr>\n",
       "    <tr>\n",
       "      <th>Kensington</th>\n",
       "      <td>0.044198</td>\n",
       "    </tr>\n",
       "  </tbody>\n",
       "</table>\n",
       "</div>"
      ],
      "text/plain": [
       "                       price_cagr\n",
       "Small_Area                       \n",
       "South Yarra              0.155976\n",
       "North Melbourne          0.105703\n",
       "East Melbourne           0.050614\n",
       "Melbourne (Remainder)    0.045805\n",
       "Kensington               0.044198"
      ]
     },
     "execution_count": 31,
     "metadata": {},
     "output_type": "execute_result"
    }
   ],
   "source": [
    "def calculate_cagr(df):\n",
    "    records = []\n",
    "    for area, grp in df.groupby('Small_Area'):\n",
    "        grp = grp.sort_values('Sale_Year')\n",
    "        if len(grp) >= 2:\n",
    "            first = grp.iloc[0]\n",
    "            last = grp.iloc[-1]\n",
    "            years = last['Sale_Year'] - first['Sale_Year']\n",
    "            if years > 0 and first['Median_Price'] > 0:\n",
    "                cagr = (last['Median_Price'] / first['Median_Price']) ** (1 / years) - 1\n",
    "                records.append({'Small_Area': area, 'price_cagr': cagr})\n",
    "    return pd.DataFrame(records).set_index('Small_Area')\n",
    "\n",
    "price_cagr_df = calculate_cagr(prices)\n",
    "price_cagr_df.sort_values('price_cagr', ascending=False).head()"
   ]
  },
  {
   "cell_type": "markdown",
   "id": "946b3ec6",
   "metadata": {},
   "source": [
    "## Insights from Price CAGR Analysis\n",
    "\n",
    "The analysis of Compound Annual Growth Rate (CAGR) for property prices revealed:\n",
    "\n",
    "1. **High-Growth Suburbs**:\n",
    "   - Suburbs with the highest price CAGR were identified, indicating areas with consistent and significant price appreciation over time.\n",
    "   - These areas are prime candidates for long-term investment due to their strong growth trends.\n",
    "\n",
    "2. **Market Stability**:\n",
    "   - The calculation of CAGR helps in understanding the stability and reliability of price growth in different suburbs.\n",
    "   - This insight is valuable for risk-averse investors seeking predictable returns.\n",
    "\n",
    "These insights highlight the importance of historical price trends in identifying lucrative investment opportunities."
   ]
  },
  {
   "cell_type": "markdown",
   "metadata": {},
   "source": [
    "## Investment Index and Hotspots"
   ]
  },
  {
   "cell_type": "code",
   "execution_count": 32,
   "metadata": {},
   "outputs": [
    {
     "data": {
      "text/html": [
       "<div>\n",
       "<style scoped>\n",
       "    .dataframe tbody tr th:only-of-type {\n",
       "        vertical-align: middle;\n",
       "    }\n",
       "\n",
       "    .dataframe tbody tr th {\n",
       "        vertical-align: top;\n",
       "    }\n",
       "\n",
       "    .dataframe thead th {\n",
       "        text-align: right;\n",
       "    }\n",
       "</style>\n",
       "<table border=\"1\" class=\"dataframe\">\n",
       "  <thead>\n",
       "    <tr style=\"text-align: right;\">\n",
       "      <th></th>\n",
       "      <th>price_cagr</th>\n",
       "      <th>pop_growth_pct</th>\n",
       "      <th>investment_index</th>\n",
       "    </tr>\n",
       "    <tr>\n",
       "      <th>Small_Area</th>\n",
       "      <th></th>\n",
       "      <th></th>\n",
       "      <th></th>\n",
       "    </tr>\n",
       "  </thead>\n",
       "  <tbody>\n",
       "    <tr>\n",
       "      <th>North Melbourne</th>\n",
       "      <td>0.105703</td>\n",
       "      <td>102.485454</td>\n",
       "      <td>0.108330</td>\n",
       "    </tr>\n",
       "    <tr>\n",
       "      <th>South Yarra</th>\n",
       "      <td>0.155976</td>\n",
       "      <td>40.145808</td>\n",
       "      <td>0.062618</td>\n",
       "    </tr>\n",
       "    <tr>\n",
       "      <th>West Melbourne (Residential)</th>\n",
       "      <td>0.043509</td>\n",
       "      <td>73.272422</td>\n",
       "      <td>0.031880</td>\n",
       "    </tr>\n",
       "    <tr>\n",
       "      <th>Kensington</th>\n",
       "      <td>0.044198</td>\n",
       "      <td>63.406298</td>\n",
       "      <td>0.028024</td>\n",
       "    </tr>\n",
       "    <tr>\n",
       "      <th>East Melbourne</th>\n",
       "      <td>0.050614</td>\n",
       "      <td>38.361989</td>\n",
       "      <td>0.019417</td>\n",
       "    </tr>\n",
       "    <tr>\n",
       "      <th>Southbank</th>\n",
       "      <td>0.026724</td>\n",
       "      <td>67.560029</td>\n",
       "      <td>0.018055</td>\n",
       "    </tr>\n",
       "    <tr>\n",
       "      <th>Melbourne (Remainder)</th>\n",
       "      <td>0.045805</td>\n",
       "      <td>35.611285</td>\n",
       "      <td>0.016312</td>\n",
       "    </tr>\n",
       "    <tr>\n",
       "      <th>Carlton</th>\n",
       "      <td>0.030065</td>\n",
       "      <td>41.742959</td>\n",
       "      <td>0.012550</td>\n",
       "    </tr>\n",
       "    <tr>\n",
       "      <th>Docklands</th>\n",
       "      <td>0.012132</td>\n",
       "      <td>69.612045</td>\n",
       "      <td>0.008445</td>\n",
       "    </tr>\n",
       "    <tr>\n",
       "      <th>Melbourne (CBD)</th>\n",
       "      <td>0.011199</td>\n",
       "      <td>62.810268</td>\n",
       "      <td>0.007034</td>\n",
       "    </tr>\n",
       "  </tbody>\n",
       "</table>\n",
       "</div>"
      ],
      "text/plain": [
       "                              price_cagr  pop_growth_pct  investment_index\n",
       "Small_Area                                                                \n",
       "North Melbourne                 0.105703      102.485454          0.108330\n",
       "South Yarra                     0.155976       40.145808          0.062618\n",
       "West Melbourne (Residential)    0.043509       73.272422          0.031880\n",
       "Kensington                      0.044198       63.406298          0.028024\n",
       "East Melbourne                  0.050614       38.361989          0.019417\n",
       "Southbank                       0.026724       67.560029          0.018055\n",
       "Melbourne (Remainder)           0.045805       35.611285          0.016312\n",
       "Carlton                         0.030065       41.742959          0.012550\n",
       "Docklands                       0.012132       69.612045          0.008445\n",
       "Melbourne (CBD)                 0.011199       62.810268          0.007034"
      ]
     },
     "execution_count": 32,
     "metadata": {},
     "output_type": "execute_result"
    }
   ],
   "source": [
    "investment_df = price_cagr_df.join(pop_growth_pct, how='inner')\n",
    "investment_df.rename(columns={'Value': 'pop_growth_pct'}, inplace=True)\n",
    "investment_df['investment_index'] = investment_df['price_cagr'] * (investment_df['pop_growth_pct']/100)\n",
    "top10 = investment_df.sort_values('investment_index', ascending=False).head(10)\n",
    "top10"
   ]
  },
  {
   "cell_type": "markdown",
   "id": "1266e203",
   "metadata": {},
   "source": [
    "## Insights from Investment Index and Hotspots\n",
    "\n",
    "The investment index analysis provided the following insights:\n",
    "\n",
    "1. **Top Investment Hotspots**:\n",
    "   - The top 10 suburbs with the highest investment index were identified, combining both price CAGR and population growth percentages.\n",
    "   - These hotspots represent areas with the best balance of price appreciation and demographic growth, making them ideal for investment.\n",
    "\n",
    "2. **Balanced Growth**:\n",
    "   - The investment index highlights suburbs that excel in both price growth and population growth, ensuring a balanced and sustainable investment opportunity.\n",
    "\n",
    "These insights are instrumental for investors and policymakers aiming to prioritize areas with the highest potential for returns and development."
   ]
  },
  {
   "cell_type": "markdown",
   "metadata": {},
   "source": [
    "## Visualisation"
   ]
  },
  {
   "cell_type": "code",
   "execution_count": 33,
   "metadata": {},
   "outputs": [
    {
     "data": {
      "image/png": "[encoded data removed]",
      "text/plain": [
       "<Figure size 800x600 with 1 Axes>"
      ]
     },
     "metadata": {},
     "output_type": "display_data"
    }
   ],
   "source": [
    "plt.figure(figsize=(8, 6))\n",
    "sns.scatterplot(data=investment_df, x='price_cagr', y='pop_growth_pct')\n",
    "for area in top10.index:\n",
    "    plt.text(investment_df.loc[area,'price_cagr'], investment_df.loc[area,'pop_growth_pct'], area, fontsize=8)\n",
    "plt.xlabel('Price CAGR')\n",
    "plt.ylabel('Population Growth % (2023–2043)')\n",
    "plt.title('Property Price Growth vs Population Growth by Suburb')\n",
    "plt.show()"
   ]
  },
  {
   "cell_type": "markdown",
   "id": "0bf23f49",
   "metadata": {},
   "source": [
    "## Insights from Visualisation\n",
    "\n",
    "The scatterplot comparing property price growth (CAGR) and population growth percentages revealed the following insights:\n",
    "\n",
    "1. **Correlation Between Price and Population Growth**:\n",
    "   - Suburbs with higher population growth percentages tend to exhibit stronger property price growth.\n",
    "   - This correlation underscores the impact of demographic trends on property markets.\n",
    "\n",
    "2. **Top Performing Suburbs**:\n",
    "   - Suburbs such as North Melbourne and Docklands stand out as high performers, excelling in both price CAGR and population growth.\n",
    "   - These areas are prime candidates for investment due to their balanced growth metrics.\n",
    "\n",
    "3. **Strategic Investment Opportunities**:\n",
    "   - Suburbs with moderate population growth but high price CAGR, or vice versa, offer unique investment opportunities depending on the investor's risk appetite and strategy.\n",
    "\n",
    "This visualisation provides a clear overview of how demographic and economic factors interact, guiding stakeholders in identifying high-potential investment areas."
   ]
  }
 ],
 "metadata": {
  "kernelspec": {
   "display_name": "base",
   "language": "python",
   "name": "python3"
  },
  "language_info": {
   "codemirror_mode": {
    "name": "ipython",
    "version": 3
   },
   "file_extension": ".py",
   "mimetype": "text/x-python",
   "name": "python",
   "nbconvert_exporter": "python",
   "pygments_lexer": "ipython3",
   "version": "3.11.5"
  }
 },
 "nbformat": 4,
 "nbformat_minor": 5
}
