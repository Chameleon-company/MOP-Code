{
 "cells": [
  {
   "cell_type": "markdown",
   "metadata": {},
   "source": [
    "<div class=\"usecase-title\">UC00150_Waste_Efficiency_Argyle_Square_case_study</div>\n",
    "\n",
    "<div class=\"usecase-authors\"><b>Authored by: Peregrin J Ryan</b></div>"
   ]
  },
  {
   "cell_type": "markdown",
   "metadata": {},
   "source": [
    "<div class=\"usecase-duration\"><b>Duration:</b> 90 mins</div>\n",
    "\n",
    "<div class=\"usecase-level-skill\">\n",
    "    <div class=\"usecase-level\"><b>Level: </b>Intermediate</div>\n",
    "    <div class=\"usecase-skill\"><b>Pre-requisite Skills: </b>Python</div>\n",
    "</div>"
   ]
  },
  {
   "cell_type": "markdown",
   "metadata": {},
   "source": [
    "<div class=\"usecase-section-header\">Scenario</div>"
   ]
  },
  {
   "cell_type": "markdown",
   "metadata": {},
   "source": [
    "Melbourne is the host to many events, both national (Melbourne Cup) and international (Tennis Open, Formula One). Because of this the Melbourne city infrastructure will receive far more stress on its infrastructure. One of the most important and most visual for tourists and citizens is waste management as overflowing bins and rubbish in the street makes the city appear worse and may give the city a poor reputation as well as having the potential for pollution of the Yarra river or local flora and fauna. Because of this, this document will investigate how the waste is managed in Melbourne inner city / city. It will look at when pedestrians are active and when bins are most likely to be used and emptied as well as the time they are full. The goal is to have some way of measuring a case study of waste management near the main melbourne CBD during less active times to find if the waste management in melbourne is capable of handling more busy times and events."
   ]
  },
  {
   "cell_type": "markdown",
   "metadata": {},
   "source": [
    "<div class=\"usecase-section-header\">What this use case will teach you</div>\n",
    "\n",
    "By going through this use case and engaging with it's content as well as running the code you will have learnt how to do each of these things:\n",
    "\n",
    "- Collect data from the Melbourne open data (MOP) using API v2.1 GET request.\n",
    "- Clean and prepare the data needed.\n",
    "  - fixing missing values and learning why 12% of the bins data was missing.\n",
    "- Find the bin usage levels throughout the day, week and months.\n",
    "- The times when pedestrians are most likely to see and use the public bins.\n",
    "- When are the times a bin is most likely to be full.\n",
    "- And learn if the waste management in Argyle Square is adequate for the needs of the city."
   ]
  },
  {
   "cell_type": "markdown",
   "metadata": {},
   "source": [
    "<div class=\"usecase-section-header\">Introduction and background relating to problem:</div>\n",
    "\n",
    "Litter from large events or even the infrastructure stress of being the host to so many people within a city puts weight on the infrastructure. When it fails it causes many public issues, like trash piling or litter going into waterways and into nature. Because of this it is paramount for cities like melbourne to put effort into looking after waste.\n",
    "\n",
    "\n",
    "\n",
    "\n",
    "By evaluating and looking at publicly available data we can use bin data collected from Argyle square as a case study to see how these bins operate and if they are effective at mitigating pollution. We will also use surveyed data to see how the bins are maintained and pedestrian data to see when pedestrians are likely to use the bins. This is to see how on average melbourne's waste infrastructure is working currently and make an assessment if Melbournes waste management can handle more use due to public events.\n",
    "\n",
    "\n",
    "\n",
    "\n",
    "So this report will look at:\n",
    "- Waste infrastructure (condition of bins).\n",
    "- Average fill level.\n",
    "- When are bins 'full'.\n",
    "- When are bins emptied.\n",
    "- What days and what times are bins filled more.\n",
    "- What times are there more pedestrians.\n",
    "- When do pedestrians see or interact with full bins.\n",
    "\n",
    "\n",
    "\n",
    "\n",
    "This is to then make insights into:\n",
    "- Are bins available to pedestrians at busy times.\n",
    "- Are bins emptied enough to meet needs.\n",
    "  - What level are the bins at on average and is it already at its limits without large public events.\n",
    "- Are the conditions of the bins good enough to support the current needs.\n"
   ]
  },
  {
   "cell_type": "markdown",
   "metadata": {},
   "source": [
    "## Datasets used:\n",
    "Dataset 1: https://data.melbourne.vic.gov.au/explore/dataset/netvox-r718x-bin-sensor/table/?disjunctive.dev_id&sort=-sensor_name\n",
    "\n",
    "\n",
    "Dataset 2: https://data.melbourne.vic.gov.au/explore/dataset/street-furniture-including-bollards-bicycle-rails-bins-drinking-fountains-horse-/table/?sort=location_desc\n",
    "\n",
    "\n",
    "Dataset 3: https://data.melbourne.vic.gov.au/explore/dataset/pedestrian-counting-system-monthly-counts-per-hour/table/?sort=-hourday"
   ]
  },
  {
   "cell_type": "markdown",
   "metadata": {},
   "source": [
    "## 1 Import packages\n",
    "For this project we will need to import a series of packages, these can be installed using the `! pip install` command. Many of these are still easily accessible and maintained at the time of writing.\n",
    "\n",
    "The only one that is different is the `API_store`. This is a separate file stored that contains the API key (stored as `API = <Insert your key here>`). Simply create the file in the same folder as this one and it should be imported without any issues."
   ]
  },
  {
   "cell_type": "code",
   "execution_count": 1,
   "metadata": {},
   "outputs": [
    {
     "name": "stderr",
     "output_type": "stream",
     "text": [
      "/tmp/ipykernel_14367/3684124620.py:3: DeprecationWarning: \n",
      "Pyarrow will become a required dependency of pandas in the next major release of pandas (pandas 3.0),\n",
      "(to allow more performant data types, such as the Arrow string type, and better interoperability with other libraries)\n",
      "but was not found to be installed on your system.\n",
      "If this would cause problems for you,\n",
      "please provide us feedback at https://github.com/pandas-dev/pandas/issues/54466\n",
      "        \n",
      "  import pandas as pd\n"
     ]
    }
   ],
   "source": [
    "# Imports needed to request and collect data from API\n",
    "import requests\n",
    "import pandas as pd\n",
    "from io import StringIO\n",
    "# Create this as a local file to store your API key\n",
    "import API_store\n",
    "# For data wrangling\n",
    "import matplotlib.pyplot as plt"
   ]
  },
  {
   "cell_type": "markdown",
   "metadata": {},
   "source": [
    "## 2 Data Collection\n",
    "The first step in the data collection process is to make getting the API data as simple as possible, so we will create a function to make getting the data easy."
   ]
  },
  {
   "cell_type": "code",
   "execution_count": 2,
   "metadata": {},
   "outputs": [],
   "source": [
    "# This is the function to collect the data from the API\n",
    "def collect_data(dataset_id):\n",
    "    base_url = 'https://data.melbourne.vic.gov.au/api/explore/v2.1/catalog/datasets/'\n",
    "    apikey = API_store.API\n",
    "    dataset_id = dataset_id\n",
    "    format = 'csv'\n",
    "\n",
    "    url = f'{base_url}{dataset_id}/exports/{format}'\n",
    "    params = {\n",
    "        'select': '*',\n",
    "        'limit': -1,  # all records\n",
    "        'lang': 'en',\n",
    "        'timezone': 'UTC',\n",
    "        'api_key': apikey\n",
    "    }\n",
    "\n",
    "    # GET request\n",
    "    response = requests.get(url, params=params)\n",
    "\n",
    "    if response.status_code == 200:\n",
    "        # StringIO to read the CSV data\n",
    "        url_content = response.content.decode('utf-8')\n",
    "        dataset = pd.read_csv(StringIO(url_content), delimiter=';')\n",
    "        return dataset\n",
    "    else:\n",
    "        print(f'Request failed with status code {response.status_code}')"
   ]
  },
  {
   "cell_type": "markdown",
   "metadata": {},
   "source": [
    "Now we simply collect the data by calling the API with the function we just wrote:"
   ]
  },
  {
   "cell_type": "code",
   "execution_count": 3,
   "metadata": {},
   "outputs": [],
   "source": [
    "dataset_ids = ['netvox-r718x-bin-sensor','pedestrian-counting-system-monthly-counts-per-hour', 'waste-collected-per-month']\n",
    "bin_sensor_df = collect_data(dataset_ids[0])\n",
    "pedestrian_counting_df = collect_data(dataset_ids[1])\n",
    "waste_collected_df = collect_data(dataset_ids[2])"
   ]
  },
  {
   "cell_type": "markdown",
   "metadata": {},
   "source": [
    "## 3 Data Wrangling\n",
    "Now that we have access to the data we need to organise it and prepare it for usage. The first thing we will do is check the length of each one so we know how much data we are working with. Then we will look at the first few values to get an idea of what is stored in the data. We will then check for any missing values or any clear issues."
   ]
  },
  {
   "cell_type": "markdown",
   "metadata": {},
   "source": [
    "### 3.1 Check imported data"
   ]
  },
  {
   "cell_type": "code",
   "execution_count": 4,
   "metadata": {},
   "outputs": [
    {
     "name": "stdout",
     "output_type": "stream",
     "text": [
      "The datasets collected are: \n",
      "-bin_sensor_df: length 984335\n",
      " -pedestrian_counting_df: length {len(pedestrian_counting_df)}\n",
      "-waste_collected_df: length {len(waste_collected_df)}\n"
     ]
    }
   ],
   "source": [
    "# Print the length of each dataset, can be compared to the API website to see if it matches and to know the size of our datasets\n",
    "print(f'The datasets collected are: \\n-bin_sensor_df: length {len(bin_sensor_df)}\\n',\n",
    "      '-pedestrian_counting_df: length {len(pedestrian_counting_df)}\\n-waste_collected_df: length {len(waste_collected_df)}')"
   ]
  },
  {
   "cell_type": "markdown",
   "metadata": {},
   "source": [
    "Now we look at the first few values and understand what we have in our dataset:"
   ]
  },
  {
   "cell_type": "code",
   "execution_count": 5,
   "metadata": {},
   "outputs": [
    {
     "data": {
      "text/html": [
       "<div>\n",
       "<style scoped>\n",
       "    .dataframe tbody tr th:only-of-type {\n",
       "        vertical-align: middle;\n",
       "    }\n",
       "\n",
       "    .dataframe tbody tr th {\n",
       "        vertical-align: top;\n",
       "    }\n",
       "\n",
       "    .dataframe thead th {\n",
       "        text-align: right;\n",
       "    }\n",
       "</style>\n",
       "<table border=\"1\" class=\"dataframe\">\n",
       "  <thead>\n",
       "    <tr style=\"text-align: right;\">\n",
       "      <th></th>\n",
       "      <th>dev_id</th>\n",
       "      <th>time</th>\n",
       "      <th>temperature</th>\n",
       "      <th>distance</th>\n",
       "      <th>filllevel</th>\n",
       "      <th>battery</th>\n",
       "      <th>lat_long</th>\n",
       "      <th>sensor_name</th>\n",
       "      <th>fill_level</th>\n",
       "    </tr>\n",
       "  </thead>\n",
       "  <tbody>\n",
       "    <tr>\n",
       "      <th>0</th>\n",
       "      <td>r718x-6f0b</td>\n",
       "      <td>2024-10-27T04:02:18+00:00</td>\n",
       "      <td>22.4</td>\n",
       "      <td>65535.0</td>\n",
       "      <td>255.0</td>\n",
       "      <td>3.6</td>\n",
       "      <td>-37.8020809, 144.9654563</td>\n",
       "      <td>r718x-bin sensor 14</td>\n",
       "      <td>-8877.0</td>\n",
       "    </tr>\n",
       "    <tr>\n",
       "      <th>1</th>\n",
       "      <td>r718x-676c</td>\n",
       "      <td>2024-10-27T04:03:05+00:00</td>\n",
       "      <td>21.8</td>\n",
       "      <td>200.0</td>\n",
       "      <td>90.0</td>\n",
       "      <td>3.6</td>\n",
       "      <td>-37.8031969, 144.9652732</td>\n",
       "      <td>r718x-bin sensor 2</td>\n",
       "      <td>72.0</td>\n",
       "    </tr>\n",
       "    <tr>\n",
       "      <th>2</th>\n",
       "      <td>r718x-6f0b</td>\n",
       "      <td>2024-10-13T04:02:04+00:00</td>\n",
       "      <td>22.7</td>\n",
       "      <td>468.0</td>\n",
       "      <td>40.0</td>\n",
       "      <td>3.6</td>\n",
       "      <td>-37.8020809, 144.9654563</td>\n",
       "      <td>r718x-bin sensor 14</td>\n",
       "      <td>35.0</td>\n",
       "    </tr>\n",
       "  </tbody>\n",
       "</table>\n",
       "</div>"
      ],
      "text/plain": [
       "       dev_id                       time  temperature  distance  filllevel  \\\n",
       "0  r718x-6f0b  2024-10-27T04:02:18+00:00         22.4   65535.0      255.0   \n",
       "1  r718x-676c  2024-10-27T04:03:05+00:00         21.8     200.0       90.0   \n",
       "2  r718x-6f0b  2024-10-13T04:02:04+00:00         22.7     468.0       40.0   \n",
       "\n",
       "   battery                  lat_long          sensor_name  fill_level  \n",
       "0      3.6  -37.8020809, 144.9654563  r718x-bin sensor 14     -8877.0  \n",
       "1      3.6  -37.8031969, 144.9652732   r718x-bin sensor 2        72.0  \n",
       "2      3.6  -37.8020809, 144.9654563  r718x-bin sensor 14        35.0  "
      ]
     },
     "execution_count": 5,
     "metadata": {},
     "output_type": "execute_result"
    }
   ],
   "source": [
    "bin_sensor_df.head(3)"
   ]
  },
  {
   "cell_type": "code",
   "execution_count": 6,
   "metadata": {},
   "outputs": [
    {
     "data": {
      "text/html": [
       "<div>\n",
       "<style scoped>\n",
       "    .dataframe tbody tr th:only-of-type {\n",
       "        vertical-align: middle;\n",
       "    }\n",
       "\n",
       "    .dataframe tbody tr th {\n",
       "        vertical-align: top;\n",
       "    }\n",
       "\n",
       "    .dataframe thead th {\n",
       "        text-align: right;\n",
       "    }\n",
       "</style>\n",
       "<table border=\"1\" class=\"dataframe\">\n",
       "  <thead>\n",
       "    <tr style=\"text-align: right;\">\n",
       "      <th></th>\n",
       "      <th>id</th>\n",
       "      <th>location_id</th>\n",
       "      <th>sensing_date</th>\n",
       "      <th>hourday</th>\n",
       "      <th>direction_1</th>\n",
       "      <th>direction_2</th>\n",
       "      <th>pedestriancount</th>\n",
       "      <th>sensor_name</th>\n",
       "      <th>location</th>\n",
       "    </tr>\n",
       "  </thead>\n",
       "  <tbody>\n",
       "    <tr>\n",
       "      <th>0</th>\n",
       "      <td>501420210707</td>\n",
       "      <td>50</td>\n",
       "      <td>2021-07-07</td>\n",
       "      <td>14</td>\n",
       "      <td>254</td>\n",
       "      <td>163</td>\n",
       "      <td>417</td>\n",
       "      <td>Lyg309_T</td>\n",
       "      <td>-37.79808192, 144.96721013</td>\n",
       "    </tr>\n",
       "    <tr>\n",
       "      <th>1</th>\n",
       "      <td>1171720240613</td>\n",
       "      <td>117</td>\n",
       "      <td>2024-06-13</td>\n",
       "      <td>17</td>\n",
       "      <td>157</td>\n",
       "      <td>458</td>\n",
       "      <td>615</td>\n",
       "      <td>Fli114F_T</td>\n",
       "      <td>-37.81629332, 144.97090877</td>\n",
       "    </tr>\n",
       "    <tr>\n",
       "      <th>2</th>\n",
       "      <td>66420221108</td>\n",
       "      <td>66</td>\n",
       "      <td>2022-11-08</td>\n",
       "      <td>4</td>\n",
       "      <td>3</td>\n",
       "      <td>18</td>\n",
       "      <td>21</td>\n",
       "      <td>QVN_T</td>\n",
       "      <td>-37.81057846, 144.96444294</td>\n",
       "    </tr>\n",
       "  </tbody>\n",
       "</table>\n",
       "</div>"
      ],
      "text/plain": [
       "              id  location_id sensing_date  hourday  direction_1  direction_2  \\\n",
       "0   501420210707           50   2021-07-07       14          254          163   \n",
       "1  1171720240613          117   2024-06-13       17          157          458   \n",
       "2    66420221108           66   2022-11-08        4            3           18   \n",
       "\n",
       "   pedestriancount sensor_name                    location  \n",
       "0              417    Lyg309_T  -37.79808192, 144.96721013  \n",
       "1              615   Fli114F_T  -37.81629332, 144.97090877  \n",
       "2               21       QVN_T  -37.81057846, 144.96444294  "
      ]
     },
     "execution_count": 6,
     "metadata": {},
     "output_type": "execute_result"
    }
   ],
   "source": [
    "pedestrian_counting_df.head(3)"
   ]
  },
  {
   "cell_type": "code",
   "execution_count": 7,
   "metadata": {},
   "outputs": [
    {
     "data": {
      "text/html": [
       "<div>\n",
       "<style scoped>\n",
       "    .dataframe tbody tr th:only-of-type {\n",
       "        vertical-align: middle;\n",
       "    }\n",
       "\n",
       "    .dataframe tbody tr th {\n",
       "        vertical-align: top;\n",
       "    }\n",
       "\n",
       "    .dataframe thead th {\n",
       "        text-align: right;\n",
       "    }\n",
       "</style>\n",
       "<table border=\"1\" class=\"dataframe\">\n",
       "  <thead>\n",
       "    <tr style=\"text-align: right;\">\n",
       "      <th></th>\n",
       "      <th>date</th>\n",
       "      <th>residential</th>\n",
       "      <th>public_litter_bins</th>\n",
       "      <th>dumped_rubbish</th>\n",
       "      <th>street_sweepings</th>\n",
       "      <th>mattresses</th>\n",
       "      <th>commingled_recycling</th>\n",
       "      <th>cardboard</th>\n",
       "      <th>hardwaste_to_landfill</th>\n",
       "      <th>hardwaste_recovered</th>\n",
       "      <th>hardwaste_total</th>\n",
       "      <th>green_waste</th>\n",
       "      <th>month</th>\n",
       "    </tr>\n",
       "  </thead>\n",
       "  <tbody>\n",
       "    <tr>\n",
       "      <th>0</th>\n",
       "      <td>2015-01</td>\n",
       "      <td>1958.38</td>\n",
       "      <td>328.79</td>\n",
       "      <td>147.72</td>\n",
       "      <td>345.68</td>\n",
       "      <td>501</td>\n",
       "      <td>642.18</td>\n",
       "      <td>132.66</td>\n",
       "      <td>85.52</td>\n",
       "      <td>0.00</td>\n",
       "      <td>85.52</td>\n",
       "      <td>3.52</td>\n",
       "      <td>January</td>\n",
       "    </tr>\n",
       "    <tr>\n",
       "      <th>1</th>\n",
       "      <td>2016-02</td>\n",
       "      <td>2202.28</td>\n",
       "      <td>281.46</td>\n",
       "      <td>151.18</td>\n",
       "      <td>293.00</td>\n",
       "      <td>173</td>\n",
       "      <td>708.31</td>\n",
       "      <td>196.96</td>\n",
       "      <td>41.72</td>\n",
       "      <td>19.12</td>\n",
       "      <td>60.84</td>\n",
       "      <td>5.56</td>\n",
       "      <td>February</td>\n",
       "    </tr>\n",
       "    <tr>\n",
       "      <th>2</th>\n",
       "      <td>2009-05</td>\n",
       "      <td>1249.74</td>\n",
       "      <td>330.36</td>\n",
       "      <td>169.98</td>\n",
       "      <td>691.28</td>\n",
       "      <td>0</td>\n",
       "      <td>376.02</td>\n",
       "      <td>168.52</td>\n",
       "      <td>14.82</td>\n",
       "      <td>0.00</td>\n",
       "      <td>14.82</td>\n",
       "      <td>2.79</td>\n",
       "      <td>May</td>\n",
       "    </tr>\n",
       "  </tbody>\n",
       "</table>\n",
       "</div>"
      ],
      "text/plain": [
       "      date  residential  public_litter_bins  dumped_rubbish  street_sweepings  \\\n",
       "0  2015-01      1958.38              328.79          147.72            345.68   \n",
       "1  2016-02      2202.28              281.46          151.18            293.00   \n",
       "2  2009-05      1249.74              330.36          169.98            691.28   \n",
       "\n",
       "   mattresses  commingled_recycling  cardboard  hardwaste_to_landfill  \\\n",
       "0         501                642.18     132.66                  85.52   \n",
       "1         173                708.31     196.96                  41.72   \n",
       "2           0                376.02     168.52                  14.82   \n",
       "\n",
       "   hardwaste_recovered  hardwaste_total  green_waste     month  \n",
       "0                 0.00            85.52         3.52   January  \n",
       "1                19.12            60.84         5.56  February  \n",
       "2                 0.00            14.82         2.79       May  "
      ]
     },
     "execution_count": 7,
     "metadata": {},
     "output_type": "execute_result"
    }
   ],
   "source": [
    "waste_collected_df.head(3)"
   ]
  },
  {
   "cell_type": "markdown",
   "metadata": {},
   "source": [
    "Now we need to check to see if any of our data is missing values, this is just done by a quick check with `isnull()` from pandas."
   ]
  },
  {
   "cell_type": "code",
   "execution_count": 8,
   "metadata": {},
   "outputs": [
    {
     "name": "stdout",
     "output_type": "stream",
     "text": [
      "Bin data: \n",
      "are any values null--> True\n",
      "Pedestrian data: \n",
      "are any values null--> False\n",
      "Waste data: \n",
      "are any values null--> False\n"
     ]
    }
   ],
   "source": [
    "print(\"Bin data: \")\n",
    "print(\"are any values null-->\",bin_sensor_df.isnull().values.any())\n",
    "print(\"Pedestrian data: \")\n",
    "print(\"are any values null-->\",pedestrian_counting_df.isnull().values.any())\n",
    "print(\"Waste data: \")\n",
    "print(\"are any values null-->\",waste_collected_df.isnull().values.any())"
   ]
  },
  {
   "cell_type": "markdown",
   "metadata": {},
   "source": [
    "From this check we can see that we have no null values in the pedestrian data set and our waste collection data set. This is great, but we need to know how much data is missing from our bin data and where it’s missing."
   ]
  },
  {
   "cell_type": "code",
   "execution_count": 9,
   "metadata": {},
   "outputs": [
    {
     "name": "stdout",
     "output_type": "stream",
     "text": [
      "Missing data:\n",
      "dev_id              0\n",
      "time                0\n",
      "temperature        78\n",
      "distance           78\n",
      "filllevel          78\n",
      "battery            78\n",
      "lat_long       127288\n",
      "sensor_name    127288\n",
      "fill_level         78\n",
      "dtype: int64\n",
      "------\n",
      " Total missing values: 127357\n",
      "Total values: 984335 \n",
      "Percent of missing values: 12.94%\n"
     ]
    }
   ],
   "source": [
    "# Print a formatted readout to see what values are missing from each column, then give a percentage of missing data\n",
    "print(f\"Missing data:\\n{bin_sensor_df.isnull().sum()}\\n------\\n\",\n",
    "      f\"Total missing values: {len(bin_sensor_df[bin_sensor_df.isnull().any(axis=1)])}\\nTotal values: {len(bin_sensor_df)}\",\n",
    "      f\"\\nPercent of missing values: {round((len(bin_sensor_df[bin_sensor_df.isnull().any(axis=1)])/len(bin_sensor_df))*100,2)}%\")"
   ]
  },
  {
   "cell_type": "markdown",
   "metadata": {},
   "source": [
    "We are missing a very sizable amount of data in our dataset, almost 13% of the data. So rather than just dropping it let’s look into it. Maybe we can gain some insight as to why we are missing the data and we can check if it's important data that's missing.\n",
    "\n",
    "First lets create a smaller data frame of just the missing values and call it `bin_sensor_missing_df`:"
   ]
  },
  {
   "cell_type": "code",
   "execution_count": 10,
   "metadata": {},
   "outputs": [
    {
     "data": {
      "text/html": [
       "<div>\n",
       "<style scoped>\n",
       "    .dataframe tbody tr th:only-of-type {\n",
       "        vertical-align: middle;\n",
       "    }\n",
       "\n",
       "    .dataframe tbody tr th {\n",
       "        vertical-align: top;\n",
       "    }\n",
       "\n",
       "    .dataframe thead th {\n",
       "        text-align: right;\n",
       "    }\n",
       "</style>\n",
       "<table border=\"1\" class=\"dataframe\">\n",
       "  <thead>\n",
       "    <tr style=\"text-align: right;\">\n",
       "      <th></th>\n",
       "      <th>dev_id</th>\n",
       "      <th>time</th>\n",
       "      <th>temperature</th>\n",
       "      <th>distance</th>\n",
       "      <th>filllevel</th>\n",
       "      <th>battery</th>\n",
       "      <th>lat_long</th>\n",
       "      <th>sensor_name</th>\n",
       "      <th>fill_level</th>\n",
       "    </tr>\n",
       "  </thead>\n",
       "  <tbody>\n",
       "    <tr>\n",
       "      <th>3</th>\n",
       "      <td>r718x-6f10</td>\n",
       "      <td>2024-10-13T03:03:40+00:00</td>\n",
       "      <td>22.7</td>\n",
       "      <td>202.0</td>\n",
       "      <td>89.0</td>\n",
       "      <td>3.6</td>\n",
       "      <td>NaN</td>\n",
       "      <td>NaN</td>\n",
       "      <td>72.0</td>\n",
       "    </tr>\n",
       "    <tr>\n",
       "      <th>5</th>\n",
       "      <td>r718x-6f10</td>\n",
       "      <td>2024-10-13T04:03:40+00:00</td>\n",
       "      <td>22.5</td>\n",
       "      <td>202.0</td>\n",
       "      <td>89.0</td>\n",
       "      <td>3.6</td>\n",
       "      <td>NaN</td>\n",
       "      <td>NaN</td>\n",
       "      <td>72.0</td>\n",
       "    </tr>\n",
       "    <tr>\n",
       "      <th>8</th>\n",
       "      <td>r718x-6f10</td>\n",
       "      <td>2024-10-06T04:03:29+00:00</td>\n",
       "      <td>22.1</td>\n",
       "      <td>203.0</td>\n",
       "      <td>89.0</td>\n",
       "      <td>3.6</td>\n",
       "      <td>NaN</td>\n",
       "      <td>NaN</td>\n",
       "      <td>72.0</td>\n",
       "    </tr>\n",
       "    <tr>\n",
       "      <th>11</th>\n",
       "      <td>r718x-6f33</td>\n",
       "      <td>2024-09-21T16:52:11+00:00</td>\n",
       "      <td>12.0</td>\n",
       "      <td>201.0</td>\n",
       "      <td>89.0</td>\n",
       "      <td>3.6</td>\n",
       "      <td>NaN</td>\n",
       "      <td>NaN</td>\n",
       "      <td>72.0</td>\n",
       "    </tr>\n",
       "    <tr>\n",
       "      <th>12</th>\n",
       "      <td>r718x-6f10</td>\n",
       "      <td>2024-09-21T17:03:06+00:00</td>\n",
       "      <td>19.9</td>\n",
       "      <td>203.0</td>\n",
       "      <td>89.0</td>\n",
       "      <td>3.6</td>\n",
       "      <td>NaN</td>\n",
       "      <td>NaN</td>\n",
       "      <td>72.0</td>\n",
       "    </tr>\n",
       "    <tr>\n",
       "      <th>...</th>\n",
       "      <td>...</td>\n",
       "      <td>...</td>\n",
       "      <td>...</td>\n",
       "      <td>...</td>\n",
       "      <td>...</td>\n",
       "      <td>...</td>\n",
       "      <td>...</td>\n",
       "      <td>...</td>\n",
       "      <td>...</td>\n",
       "    </tr>\n",
       "    <tr>\n",
       "      <th>984278</th>\n",
       "      <td>r718x-6f33</td>\n",
       "      <td>2025-04-14T23:16:56+00:00</td>\n",
       "      <td>17.2</td>\n",
       "      <td>239.0</td>\n",
       "      <td>88.0</td>\n",
       "      <td>3.6</td>\n",
       "      <td>NaN</td>\n",
       "      <td>NaN</td>\n",
       "      <td>67.0</td>\n",
       "    </tr>\n",
       "    <tr>\n",
       "      <th>984283</th>\n",
       "      <td>r718x-6f10</td>\n",
       "      <td>2025-04-14T23:46:48+00:00</td>\n",
       "      <td>24.1</td>\n",
       "      <td>294.0</td>\n",
       "      <td>85.0</td>\n",
       "      <td>3.6</td>\n",
       "      <td>NaN</td>\n",
       "      <td>NaN</td>\n",
       "      <td>59.0</td>\n",
       "    </tr>\n",
       "    <tr>\n",
       "      <th>984296</th>\n",
       "      <td>r718x-6f10</td>\n",
       "      <td>2025-04-14T22:16:48+00:00</td>\n",
       "      <td>23.4</td>\n",
       "      <td>294.0</td>\n",
       "      <td>85.0</td>\n",
       "      <td>3.6</td>\n",
       "      <td>NaN</td>\n",
       "      <td>NaN</td>\n",
       "      <td>59.0</td>\n",
       "    </tr>\n",
       "    <tr>\n",
       "      <th>984316</th>\n",
       "      <td>r718x-6f33</td>\n",
       "      <td>2025-04-15T01:02:03+00:00</td>\n",
       "      <td>19.7</td>\n",
       "      <td>237.0</td>\n",
       "      <td>88.0</td>\n",
       "      <td>3.6</td>\n",
       "      <td>NaN</td>\n",
       "      <td>NaN</td>\n",
       "      <td>67.0</td>\n",
       "    </tr>\n",
       "    <tr>\n",
       "      <th>984327</th>\n",
       "      <td>r718x-6f10</td>\n",
       "      <td>2025-04-15T01:31:48+00:00</td>\n",
       "      <td>24.7</td>\n",
       "      <td>294.0</td>\n",
       "      <td>85.0</td>\n",
       "      <td>3.6</td>\n",
       "      <td>NaN</td>\n",
       "      <td>NaN</td>\n",
       "      <td>59.0</td>\n",
       "    </tr>\n",
       "  </tbody>\n",
       "</table>\n",
       "<p>127288 rows × 9 columns</p>\n",
       "</div>"
      ],
      "text/plain": [
       "            dev_id                       time  temperature  distance  \\\n",
       "3       r718x-6f10  2024-10-13T03:03:40+00:00         22.7     202.0   \n",
       "5       r718x-6f10  2024-10-13T04:03:40+00:00         22.5     202.0   \n",
       "8       r718x-6f10  2024-10-06T04:03:29+00:00         22.1     203.0   \n",
       "11      r718x-6f33  2024-09-21T16:52:11+00:00         12.0     201.0   \n",
       "12      r718x-6f10  2024-09-21T17:03:06+00:00         19.9     203.0   \n",
       "...            ...                        ...          ...       ...   \n",
       "984278  r718x-6f33  2025-04-14T23:16:56+00:00         17.2     239.0   \n",
       "984283  r718x-6f10  2025-04-14T23:46:48+00:00         24.1     294.0   \n",
       "984296  r718x-6f10  2025-04-14T22:16:48+00:00         23.4     294.0   \n",
       "984316  r718x-6f33  2025-04-15T01:02:03+00:00         19.7     237.0   \n",
       "984327  r718x-6f10  2025-04-15T01:31:48+00:00         24.7     294.0   \n",
       "\n",
       "        filllevel  battery lat_long sensor_name  fill_level  \n",
       "3            89.0      3.6      NaN         NaN        72.0  \n",
       "5            89.0      3.6      NaN         NaN        72.0  \n",
       "8            89.0      3.6      NaN         NaN        72.0  \n",
       "11           89.0      3.6      NaN         NaN        72.0  \n",
       "12           89.0      3.6      NaN         NaN        72.0  \n",
       "...           ...      ...      ...         ...         ...  \n",
       "984278       88.0      3.6      NaN         NaN        67.0  \n",
       "984283       85.0      3.6      NaN         NaN        59.0  \n",
       "984296       85.0      3.6      NaN         NaN        59.0  \n",
       "984316       88.0      3.6      NaN         NaN        67.0  \n",
       "984327       85.0      3.6      NaN         NaN        59.0  \n",
       "\n",
       "[127288 rows x 9 columns]"
      ]
     },
     "execution_count": 10,
     "metadata": {},
     "output_type": "execute_result"
    }
   ],
   "source": [
    "bin_sensor_missing_df = bin_sensor_df[bin_sensor_df[\"sensor_name\"].isnull()]\n",
    "bin_sensor_missing_df"
   ]
  },
  {
   "cell_type": "markdown",
   "metadata": {},
   "source": [
    "### 3.2 Insight into the missing data\n",
    "\n",
    "We have an interesting set of missing data, seemingly the majority of our missing data is in relation to the `sensor_name` and `lat_long` and they are equally long. There is a small amount of data loss with the null values but we can re-address those after we find out why we are missing such a large amount of data. Clearly, most of them still have the important `filllevel` data we need for our analysis so we should look into the missing data. The first step is to see if this data loss happened during a specific period of time, maybe a server went down or there was a larger error with the sensors."
   ]
  },
  {
   "cell_type": "markdown",
   "metadata": {},
   "source": [
    "### 3.2.1 When did we lose data?\n",
    "This is to see if our lost data is recent, meaning it is an active problem and should be included in our analysis into the efficiency of the waste management at Argyle Square. Or if it is a fixed issue that only occurs in a small window of time. If this data is also older then we can know if it is as relevant to our investigation."
   ]
  },
  {
   "cell_type": "code",
   "execution_count": 11,
   "metadata": {},
   "outputs": [
    {
     "name": "stdout",
     "output_type": "stream",
     "text": [
      "The first time in our lost data is:  2023-02-26T08:22:26+00:00 \n",
      " The most recent time is:  2025-04-15T02:16:48+00:00\n"
     ]
    }
   ],
   "source": [
    "print(f\"The first time in our lost data is: \",bin_sensor_missing_df[\"time\"].min(),\n",
    "      f\"\\n The most recent time is: \", bin_sensor_missing_df[\"time\"].max())"
   ]
  },
  {
   "cell_type": "markdown",
   "metadata": {},
   "source": [
    "From this quick check we can see that the data loss has happened historically but also recently. Because of this we should look into another cause. Since these sensors use battery life there might be a chance that before a sensor goes offline it pings its fill level before going down. So let's look at the battery levels plotted along the timeline of our dataset. This gives us an insight as to 1. How long have we been having this issue and is it consistent and 2. Is there a fluctuation in the battery percentage or is it all low values (before the sensor goes down).\n",
    "\n",
    "### 3.2.2 Does this have something to do with batery life?\n",
    "Let's do this with a scatter plot for each ping. We can plot the x axis as our `time` and the `battery` as the y axis so we can see if there are any jumps or find consistent patterns. Before we do this though we also need to check if the `time` we have stored is a correct date time value and if not convert it to a type that will work."
   ]
  },
  {
   "cell_type": "code",
   "execution_count": 12,
   "metadata": {},
   "outputs": [
    {
     "data": {
      "text/plain": [
       "dtype('O')"
      ]
     },
     "execution_count": 12,
     "metadata": {},
     "output_type": "execute_result"
    }
   ],
   "source": [
    "# To visualise this we need to set the datetime to a proper value\n",
    "bin_sensor_missing_df.time.dtype\n",
    "# dtype('O') doesnt work"
   ]
  },
  {
   "cell_type": "markdown",
   "metadata": {},
   "source": [
    "Here we can see that we have `dtype('0')` this is a date time value, but unfortunately it is missing a standard. But we can use pandas `to_datetime` to give it a UTC value, that way `matplotlib` knows how to plot the data out."
   ]
  },
  {
   "cell_type": "code",
   "execution_count": 13,
   "metadata": {},
   "outputs": [
    {
     "name": "stdout",
     "output_type": "stream",
     "text": [
      "This changes the value so it will work: datetime64[ns, UTC]\n",
      "\n",
      "\n"
     ]
    },
    {
     "name": "stderr",
     "output_type": "stream",
     "text": [
      "/tmp/ipykernel_14367/1939983378.py:1: SettingWithCopyWarning: \n",
      "A value is trying to be set on a copy of a slice from a DataFrame.\n",
      "Try using .loc[row_indexer,col_indexer] = value instead\n",
      "\n",
      "See the caveats in the documentation: https://pandas.pydata.org/pandas-docs/stable/user_guide/indexing.html#returning-a-view-versus-a-copy\n",
      "  bin_sensor_missing_df['time'] = pd.to_datetime(bin_sensor_missing_df['time'], utc=True)\n"
     ]
    }
   ],
   "source": [
    "bin_sensor_missing_df['time'] = pd.to_datetime(bin_sensor_missing_df['time'], utc=True)\n",
    "print(f\"This changes the value so it will work: {bin_sensor_missing_df.time.dtype}\\n\\n\") "
   ]
  },
  {
   "cell_type": "markdown",
   "metadata": {},
   "source": [
    "Now that our data is ready we can create a our visualisation of `battery` life of each entry along the `time` the data point was created:"
   ]
  },
  {
   "cell_type": "code",
   "execution_count": 14,
   "metadata": {},
   "outputs": [
    {
     "data": {
      "image/png": "[encoded data removed]",
      "text/plain": [
       "<Figure size 640x480 with 1 Axes>"
      ]
     },
     "metadata": {},
     "output_type": "display_data"
    }
   ],
   "source": [
    "# Battery visualisation\n",
    "x = bin_sensor_missing_df[\"time\"]\n",
    "y = bin_sensor_missing_df[\"battery\"]\n",
    "plt.scatter(x, y, s=0.5,color='#08b3e5')\n",
    "plt.show() "
   ]
  },
  {
   "cell_type": "markdown",
   "metadata": {},
   "source": [
    "This is very interesting, what this shows us is that the sensors only fail to report their `lat_long` and `sensor_name` when they reach around 3.6-3.5% battery life. This supports the previous hypothesis that sensors ping the server before they go down but with such little battery life or some other configuration they do not provide the `lat_long` and `sensor_name` but still produce their data. \n",
    "\n",
    "\n",
    "Lets quickly check this against the main data set, since if they have lower data values then that might reveal some more information. Or challenge the evidence we have collected."
   ]
  },
  {
   "cell_type": "code",
   "execution_count": 15,
   "metadata": {},
   "outputs": [
    {
     "name": "stdout",
     "output_type": "stream",
     "text": [
      "The lowest records of battery life in the main dataset are: 3.5\n"
     ]
    }
   ],
   "source": [
    "print(f\"The lowest records of battery life in the main dataset are: {bin_sensor_df['battery'].min()}\")"
   ]
  },
  {
   "cell_type": "markdown",
   "metadata": {},
   "source": [
    "Since this shows that the lowest `battery` reading in the data set is 3.5% this confirms our assumption, that is the lowest it can go before dropping out. It provides some information before going down. That means we should re-organise the data since it is no longer ‘missing’ but rather it is from sensors that ran out of battery. So I will create a new data frame for Out Of Battery or `oob_bin_sensors` where we can change the `sensor_name` to OOB since we didn't lose the data and it still might contain good data. But we want to remove the `null` values. Let's also change the `lat_long` to another value that can easily be filtered out if we need it but still marks the data as no longer lost."
   ]
  },
  {
   "cell_type": "code",
   "execution_count": 16,
   "metadata": {},
   "outputs": [
    {
     "name": "stderr",
     "output_type": "stream",
     "text": [
      "/tmp/ipykernel_14367/1797077674.py:2: SettingWithCopyWarning: \n",
      "A value is trying to be set on a copy of a slice from a DataFrame.\n",
      "Try using .loc[row_indexer,col_indexer] = value instead\n",
      "\n",
      "See the caveats in the documentation: https://pandas.pydata.org/pandas-docs/stable/user_guide/indexing.html#returning-a-view-versus-a-copy\n",
      "  oob_bin_sensor['sensor_name'] = oob_bin_sensor['sensor_name'].fillna('OOB')\n",
      "/tmp/ipykernel_14367/1797077674.py:4: FutureWarning: Downcasting object dtype arrays on .fillna, .ffill, .bfill is deprecated and will change in a future version. Call result.infer_objects(copy=False) instead. To opt-in to the future behavior, set `pd.set_option('future.no_silent_downcasting', True)`\n",
      "  oob_bin_sensor['lat_long'] = oob_bin_sensor['lat_long'].fillna(0)\n",
      "/tmp/ipykernel_14367/1797077674.py:4: SettingWithCopyWarning: \n",
      "A value is trying to be set on a copy of a slice from a DataFrame.\n",
      "Try using .loc[row_indexer,col_indexer] = value instead\n",
      "\n",
      "See the caveats in the documentation: https://pandas.pydata.org/pandas-docs/stable/user_guide/indexing.html#returning-a-view-versus-a-copy\n",
      "  oob_bin_sensor['lat_long'] = oob_bin_sensor['lat_long'].fillna(0)\n"
     ]
    }
   ],
   "source": [
    "oob_bin_sensor = bin_sensor_missing_df\n",
    "oob_bin_sensor['sensor_name'] = oob_bin_sensor['sensor_name'].fillna('OOB')\n",
    "# Filling the lat_ling with the approximation of the middle of the park\n",
    "oob_bin_sensor['lat_long'] = oob_bin_sensor['lat_long'].fillna(0)"
   ]
  },
  {
   "cell_type": "code",
   "execution_count": 17,
   "metadata": {},
   "outputs": [
    {
     "data": {
      "text/html": [
       "<div>\n",
       "<style scoped>\n",
       "    .dataframe tbody tr th:only-of-type {\n",
       "        vertical-align: middle;\n",
       "    }\n",
       "\n",
       "    .dataframe tbody tr th {\n",
       "        vertical-align: top;\n",
       "    }\n",
       "\n",
       "    .dataframe thead th {\n",
       "        text-align: right;\n",
       "    }\n",
       "</style>\n",
       "<table border=\"1\" class=\"dataframe\">\n",
       "  <thead>\n",
       "    <tr style=\"text-align: right;\">\n",
       "      <th></th>\n",
       "      <th>dev_id</th>\n",
       "      <th>time</th>\n",
       "      <th>temperature</th>\n",
       "      <th>distance</th>\n",
       "      <th>filllevel</th>\n",
       "      <th>battery</th>\n",
       "      <th>lat_long</th>\n",
       "      <th>sensor_name</th>\n",
       "      <th>fill_level</th>\n",
       "    </tr>\n",
       "  </thead>\n",
       "  <tbody>\n",
       "    <tr>\n",
       "      <th>3</th>\n",
       "      <td>r718x-6f10</td>\n",
       "      <td>2024-10-13 03:03:40+00:00</td>\n",
       "      <td>22.7</td>\n",
       "      <td>202.0</td>\n",
       "      <td>89.0</td>\n",
       "      <td>3.6</td>\n",
       "      <td>0</td>\n",
       "      <td>OOB</td>\n",
       "      <td>72.0</td>\n",
       "    </tr>\n",
       "    <tr>\n",
       "      <th>5</th>\n",
       "      <td>r718x-6f10</td>\n",
       "      <td>2024-10-13 04:03:40+00:00</td>\n",
       "      <td>22.5</td>\n",
       "      <td>202.0</td>\n",
       "      <td>89.0</td>\n",
       "      <td>3.6</td>\n",
       "      <td>0</td>\n",
       "      <td>OOB</td>\n",
       "      <td>72.0</td>\n",
       "    </tr>\n",
       "    <tr>\n",
       "      <th>8</th>\n",
       "      <td>r718x-6f10</td>\n",
       "      <td>2024-10-06 04:03:29+00:00</td>\n",
       "      <td>22.1</td>\n",
       "      <td>203.0</td>\n",
       "      <td>89.0</td>\n",
       "      <td>3.6</td>\n",
       "      <td>0</td>\n",
       "      <td>OOB</td>\n",
       "      <td>72.0</td>\n",
       "    </tr>\n",
       "  </tbody>\n",
       "</table>\n",
       "</div>"
      ],
      "text/plain": [
       "       dev_id                      time  temperature  distance  filllevel  \\\n",
       "3  r718x-6f10 2024-10-13 03:03:40+00:00         22.7     202.0       89.0   \n",
       "5  r718x-6f10 2024-10-13 04:03:40+00:00         22.5     202.0       89.0   \n",
       "8  r718x-6f10 2024-10-06 04:03:29+00:00         22.1     203.0       89.0   \n",
       "\n",
       "   battery  lat_long sensor_name  fill_level  \n",
       "3      3.6         0         OOB        72.0  \n",
       "5      3.6         0         OOB        72.0  \n",
       "8      3.6         0         OOB        72.0  "
      ]
     },
     "execution_count": 17,
     "metadata": {},
     "output_type": "execute_result"
    }
   ],
   "source": [
    "oob_bin_sensor.head(3)"
   ]
  },
  {
   "cell_type": "markdown",
   "metadata": {},
   "source": [
    "### 3.2.3 Are the sensors even functional when failing?\n",
    "Now we have figured out the cause of the data loss, the fact that the sensors often lose battery and can't give a full report raises a good question. What if this data is not good? We should see the `filllevel` and `temperature` and check if there is any outliers or bad data within. We should be remove anything that will skew our data."
   ]
  },
  {
   "cell_type": "code",
   "execution_count": 18,
   "metadata": {},
   "outputs": [
    {
     "data": {
      "image/png": "[encoded data removed]",
      "text/plain": [
       "<Figure size 640x480 with 1 Axes>"
      ]
     },
     "metadata": {},
     "output_type": "display_data"
    }
   ],
   "source": [
    "# filllevel visualisation\n",
    "x = oob_bin_sensor[\"time\"]\n",
    "y = oob_bin_sensor[\"filllevel\"]\n",
    "plt.scatter(x, y, s=0.5,color='#08b3e5')\n",
    "plt.show() "
   ]
  },
  {
   "cell_type": "code",
   "execution_count": 19,
   "metadata": {},
   "outputs": [
    {
     "name": "stdout",
     "output_type": "stream",
     "text": [
      "The lowest records of filllevel in the OOB dataset are: 0.0 \n",
      "The highest records of filllevel in the OOB dataset are: 255.0\n"
     ]
    }
   ],
   "source": [
    "print(f\"The lowest records of filllevel in the OOB dataset are: {oob_bin_sensor['filllevel'].min()}\",\n",
    "      f\"\\nThe highest records of filllevel in the OOB dataset are: {oob_bin_sensor['filllevel'].max()}\")"
   ]
  },
  {
   "cell_type": "code",
   "execution_count": 20,
   "metadata": {},
   "outputs": [
    {
     "data": {
      "image/png": "[encoded data removed]",
      "text/plain": [
       "<Figure size 640x480 with 1 Axes>"
      ]
     },
     "metadata": {},
     "output_type": "display_data"
    }
   ],
   "source": [
    "# temperature visualisation\n",
    "x = oob_bin_sensor[\"time\"]\n",
    "y = oob_bin_sensor[\"temperature\"]\n",
    "plt.scatter(x, y, s=0.2,color='#08b3e5')\n",
    "plt.show() "
   ]
  },
  {
   "cell_type": "code",
   "execution_count": 21,
   "metadata": {},
   "outputs": [
    {
     "name": "stdout",
     "output_type": "stream",
     "text": [
      "The lowest records of temperature in the OOB dataset are: 3.6 \n",
      "The highest records of temperature in the OOB dataset are: 50.5\n"
     ]
    }
   ],
   "source": [
    "print(f\"The lowest records of temperature in the OOB dataset are: {oob_bin_sensor['temperature'].min()}\",\n",
    "      f\"\\nThe highest records of temperature in the OOB dataset are: {oob_bin_sensor['temperature'].max()}\")"
   ]
  },
  {
   "cell_type": "markdown",
   "metadata": {},
   "source": [
    "These results seem to show that the `temperature` has been reliable, it might read higher since the sensor is in a metal bin and they would heat up to pretty high heats on hot summer days. But the `filllevel` seems to show data that is for the most part consistent at almost 100% but has a few outlier data values at 250%. Since those values are not very indicative of the fill level and don't seem at all consistent then it might be an error with the data collection and we can simply remove values that go over 200%.\n",
    "### 3.2.4 Removing outliers"
   ]
  },
  {
   "cell_type": "code",
   "execution_count": 22,
   "metadata": {},
   "outputs": [],
   "source": [
    "oob_bin_sensor_clean = oob_bin_sensor.drop(oob_bin_sensor[oob_bin_sensor['filllevel'] > 200].index)"
   ]
  },
  {
   "cell_type": "code",
   "execution_count": 23,
   "metadata": {},
   "outputs": [
    {
     "data": {
      "text/html": [
       "<div>\n",
       "<style scoped>\n",
       "    .dataframe tbody tr th:only-of-type {\n",
       "        vertical-align: middle;\n",
       "    }\n",
       "\n",
       "    .dataframe tbody tr th {\n",
       "        vertical-align: top;\n",
       "    }\n",
       "\n",
       "    .dataframe thead th {\n",
       "        text-align: right;\n",
       "    }\n",
       "</style>\n",
       "<table border=\"1\" class=\"dataframe\">\n",
       "  <thead>\n",
       "    <tr style=\"text-align: right;\">\n",
       "      <th></th>\n",
       "      <th>dev_id</th>\n",
       "      <th>time</th>\n",
       "      <th>temperature</th>\n",
       "      <th>distance</th>\n",
       "      <th>filllevel</th>\n",
       "      <th>battery</th>\n",
       "      <th>lat_long</th>\n",
       "      <th>sensor_name</th>\n",
       "      <th>fill_level</th>\n",
       "    </tr>\n",
       "  </thead>\n",
       "  <tbody>\n",
       "    <tr>\n",
       "      <th>3</th>\n",
       "      <td>r718x-6f10</td>\n",
       "      <td>2024-10-13 03:03:40+00:00</td>\n",
       "      <td>22.7</td>\n",
       "      <td>202.0</td>\n",
       "      <td>89.0</td>\n",
       "      <td>3.6</td>\n",
       "      <td>0</td>\n",
       "      <td>OOB</td>\n",
       "      <td>72.0</td>\n",
       "    </tr>\n",
       "    <tr>\n",
       "      <th>5</th>\n",
       "      <td>r718x-6f10</td>\n",
       "      <td>2024-10-13 04:03:40+00:00</td>\n",
       "      <td>22.5</td>\n",
       "      <td>202.0</td>\n",
       "      <td>89.0</td>\n",
       "      <td>3.6</td>\n",
       "      <td>0</td>\n",
       "      <td>OOB</td>\n",
       "      <td>72.0</td>\n",
       "    </tr>\n",
       "    <tr>\n",
       "      <th>8</th>\n",
       "      <td>r718x-6f10</td>\n",
       "      <td>2024-10-06 04:03:29+00:00</td>\n",
       "      <td>22.1</td>\n",
       "      <td>203.0</td>\n",
       "      <td>89.0</td>\n",
       "      <td>3.6</td>\n",
       "      <td>0</td>\n",
       "      <td>OOB</td>\n",
       "      <td>72.0</td>\n",
       "    </tr>\n",
       "  </tbody>\n",
       "</table>\n",
       "</div>"
      ],
      "text/plain": [
       "       dev_id                      time  temperature  distance  filllevel  \\\n",
       "3  r718x-6f10 2024-10-13 03:03:40+00:00         22.7     202.0       89.0   \n",
       "5  r718x-6f10 2024-10-13 04:03:40+00:00         22.5     202.0       89.0   \n",
       "8  r718x-6f10 2024-10-06 04:03:29+00:00         22.1     203.0       89.0   \n",
       "\n",
       "   battery  lat_long sensor_name  fill_level  \n",
       "3      3.6         0         OOB        72.0  \n",
       "5      3.6         0         OOB        72.0  \n",
       "8      3.6         0         OOB        72.0  "
      ]
     },
     "execution_count": 23,
     "metadata": {},
     "output_type": "execute_result"
    }
   ],
   "source": [
    "oob_bin_sensor_clean.head(3)"
   ]
  },
  {
   "cell_type": "code",
   "execution_count": 24,
   "metadata": {},
   "outputs": [
    {
     "data": {
      "image/png": "[encoded data removed]",
      "text/plain": [
       "<Figure size 640x480 with 1 Axes>"
      ]
     },
     "metadata": {},
     "output_type": "display_data"
    }
   ],
   "source": [
    "# Lets re-visualise the filllevel\n",
    "x = oob_bin_sensor_clean[\"time\"]\n",
    "y = oob_bin_sensor_clean[\"filllevel\"]\n",
    "plt.scatter(x, y, s=0.5,color='#08b3e5')\n",
    "plt.show() "
   ]
  },
  {
   "cell_type": "code",
   "execution_count": 25,
   "metadata": {},
   "outputs": [
    {
     "name": "stdout",
     "output_type": "stream",
     "text": [
      "The lowest records of filllevel in the OOB_cleaned dataset are: 0.0 \n",
      "The highest records of filllevel in the OOB_cleaned dataset are: 90.0\n"
     ]
    }
   ],
   "source": [
    "print(f\"The lowest records of filllevel in the OOB_cleaned dataset are: {oob_bin_sensor_clean['filllevel'].min()}\",\n",
    "      f\"\\nThe highest records of filllevel in the OOB_cleaned dataset are: {oob_bin_sensor_clean['filllevel'].max()}\")"
   ]
  },
  {
   "cell_type": "markdown",
   "metadata": {},
   "source": [
    "Now with the values we didn't need removed we can finally merge our `oob_bin_sensor_clean` with the main dataset through the `.update` function since the index is still the same. This means our “bad” data can easily be removed. Then we will have cleaned up our data and are ready to move onto the visualisation step with minimal data loss.\n",
    "### 3.2.5 Combining the data"
   ]
  },
  {
   "cell_type": "code",
   "execution_count": 26,
   "metadata": {},
   "outputs": [],
   "source": [
    "# Create a new data frame for our cleaned and comgbine data:\n",
    "bin_sensor_and_oob_df = bin_sensor_df\n",
    "bin_sensor_and_oob_df.update(oob_bin_sensor_clean)"
   ]
  },
  {
   "cell_type": "code",
   "execution_count": 27,
   "metadata": {},
   "outputs": [
    {
     "name": "stdout",
     "output_type": "stream",
     "text": [
      "Missing data:\n",
      "dev_id            0\n",
      "time              0\n",
      "temperature      78\n",
      "distance         78\n",
      "filllevel        78\n",
      "battery          78\n",
      "lat_long       4725\n",
      "sensor_name    4725\n",
      "fill_level       78\n",
      "dtype: int64\n",
      "------\n",
      " Total missing values: 4803\n",
      "Total values: 984335 \n",
      "Percent of missing values: 0.49%\n"
     ]
    }
   ],
   "source": [
    "# Check for any missing values we missed:\n",
    "print(f\"Missing data:\\n{bin_sensor_and_oob_df.isnull().sum()}\\n------\\n\",\n",
    "      f\"Total missing values: {len(bin_sensor_and_oob_df[bin_sensor_and_oob_df.isnull().any(axis=1)])}\\nTotal values: {len(bin_sensor_and_oob_df)}\",\n",
    "      f\"\\nPercent of missing values: {round((len(bin_sensor_and_oob_df[bin_sensor_and_oob_df.isnull().any(axis=1)])/len(bin_sensor_and_oob_df))*100,2)}%\")"
   ]
  },
  {
   "cell_type": "markdown",
   "metadata": {},
   "source": [
    "This is great, now the null values are only 0.5% of our dataset and we can remove them with minimal impact to our data."
   ]
  },
  {
   "cell_type": "code",
   "execution_count": 28,
   "metadata": {},
   "outputs": [],
   "source": [
    "bin_sensor_and_oob_df = bin_sensor_and_oob_df.dropna()"
   ]
  },
  {
   "cell_type": "code",
   "execution_count": 29,
   "metadata": {},
   "outputs": [
    {
     "name": "stdout",
     "output_type": "stream",
     "text": [
      "Bin data\n",
      "are any values null--> False\n",
      "-------------------------------------------------------------------------------------\n",
      "Pedestrian data\n",
      "are any values null--> False\n",
      "-------------------------------------------------------------------------------------\n",
      "Waste data\n",
      "are any values null--> False\n",
      "-------------------------------------------------------------------------------------\n"
     ]
    }
   ],
   "source": [
    "print(\"Bin data\")\n",
    "print(\"are any values null-->\",bin_sensor_and_oob_df.isnull().values.any())\n",
    "print(\"-------------------------------------------------------------------------------------\")\n",
    "print(\"Pedestrian data\")\n",
    "print(\"are any values null-->\",pedestrian_counting_df.isnull().values.any())\n",
    "print(\"-------------------------------------------------------------------------------------\")\n",
    "print(\"Waste data\")\n",
    "print(\"are any values null-->\",waste_collected_df.isnull().values.any())\n",
    "print(\"-------------------------------------------------------------------------------------\")"
   ]
  },
  {
   "cell_type": "markdown",
   "metadata": {},
   "source": [
    "Now that we have cleaned our dataset we can move onto the next stage of the use case, the actual analysis.\n",
    "## 4 Investigation and Visualisation"
   ]
  },
  {
   "cell_type": "markdown",
   "metadata": {},
   "source": [
    "### TO DO\n",
    "Next steps:\n",
    "- Bin usage\n",
    "    - Average bin use\n",
    "    - Most used bins\n",
    "    - When are they full\n",
    "    - when emptied\n",
    "- Pedestrian data\n",
    "    - Most frequent times\n",
    "    - Least frequent times\n",
    "    - Most and least busy times\n",
    "- Compare times\n",
    "    - Pedestrian times vs bin full times\n",
    "    - Are bins down when pedestrian numbers are up\n",
    "- Month to month comparision\n",
    "    - What is the effect on the waste collected when large events happen\n",
    "    - What are the bins fullness like on busiest and least busy months\n",
    "- Conclusion"
   ]
  }
 ],
 "metadata": {
  "kernelspec": {
   "display_name": "Python 3",
   "language": "python",
   "name": "python3"
  },
  "language_info": {
   "codemirror_mode": {
    "name": "ipython",
    "version": 3
   },
   "file_extension": ".py",
   "mimetype": "text/x-python",
   "name": "python",
   "nbconvert_exporter": "python",
   "pygments_lexer": "ipython3",
   "version": "3.10.12"
  },
  "vscode": {
   "interpreter": {
    "hash": "369f2c481f4da34e4445cda3fffd2e751bd1c4d706f27375911949ba6bb62e1c"
   }
  }
 },
 "nbformat": 4,
 "nbformat_minor": 4
}
