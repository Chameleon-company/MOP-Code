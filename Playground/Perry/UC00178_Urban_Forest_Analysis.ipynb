{
 "cells": [
  {
   "cell_type": "markdown",
   "metadata": {},
   "source": [
    "<div class=\"usecase-title\">UC00178_Urban_Forest_Analysis</div>\n",
    "\n",
    "<div class=\"usecase-authors\"><b>Authored by: </b> Peregrin J Ryan</div>"
   ]
  },
  {
   "cell_type": "markdown",
   "metadata": {},
   "source": [
    "<div class=\"usecase-duration\"><b>Duration:</b> 30 mins</div>\n",
    "\n",
    "<div class=\"usecase-level-skill\">\n",
    "    <div class=\"usecase-level\"><b>Level: </b>Beginner</div>\n",
    "    <div class=\"usecase-skill\"><b>Pre-requisite Skills: </b>Python</div>\n",
    "</div>"
   ]
  },
  {
   "cell_type": "markdown",
   "metadata": {},
   "source": [
    "<div class=\"usecase-section-header\">Scenario</div>"
   ]
  },
  {
   "cell_type": "markdown",
   "metadata": {},
   "source": [
    "The city of Melbourne is ever changing, it has a need to adapt to its ever growing population. As a part of that change the city of Melbourne should look at how that change has occurred. What needs have to be met, what changes have we made before that had positive impacts and how does changing one aspect of the city's infrastructure affect others? In that same vein, we now better understand the positive impacts of green spaces within our lived environment. As a part of that the cities we live in need to accommodate trees for cooling, clean air and have positive impacts on our mental health. The Urban Forest project was created as a way to look at current tree locations and over the years has collected data on how the green life in Melbourne has changed. In this project we will investigate how the green spaces in Melbourne have evolved."
   ]
  },
  {
   "cell_type": "markdown",
   "metadata": {},
   "source": [
    "<div class=\"usecase-section-header\">What this use case will teach you</div>"
   ]
  },
  {
   "cell_type": "markdown",
   "metadata": {},
   "source": [
    "At the end of this use case you will:\n",
    "- How to load in the correct packages using Python\n",
    "- Collect data from the Melbourne open data (MOP) using API v2.1 GET request.\n",
    "- How to take our data and prepare it for analysis.\n",
    "- Use geographic mapping data in Python\n",
    "- Compare and contrast how Melbourne's urban forest has evolved"
   ]
  },
  {
   "cell_type": "markdown",
   "metadata": {},
   "source": [
    "<div class=\"usecase-section-header\">Introduction and background relating to problem:</div>"
   ]
  },
  {
   "cell_type": "markdown",
   "metadata": {},
   "source": [
    "This use case uses the Melbourne Urban Forest data set from the MOP. Which is data of where different trees are located within the Melbourne CBD area. This dataset is made up of different years dating back to 2008. From that initial dataset we are going to walk through the steps of loading in each year and comparing them to one another to create a better picture of how the Melbourne green areas have changed if at all. We will look at if there are increases or decreases in trees and investigate how long some have been there. From that information we can evaluate if more efforts are needed to improve Melbourne's green spaces or how to protect the ones that are there."
   ]
  },
  {
   "cell_type": "markdown",
   "metadata": {},
   "source": [
    "## Datasets used:\n",
    "Dataset 1: https://data.melbourne.vic.gov.au/explore/dataset/tree-canopies-2008-urban-forest/information/\n",
    "\n",
    "Dataset 2: https://data.melbourne.vic.gov.au/explore/dataset/tree-canopies-2011-urban-forest/information/\n",
    "\n",
    "Dataset 3: https://data.melbourne.vic.gov.au/explore/dataset/tree-canopies-2013/information/\n",
    "\n",
    "Dataset 4: https://data.melbourne.vic.gov.au/explore/dataset/tree-canopies-2014/information/\n",
    "\n",
    "Dataset 5: https://data.melbourne.vic.gov.au/explore/dataset/tree-canopies-2015-urban-forest/information/\n",
    "\n",
    "Dataset 6: https://data.melbourne.vic.gov.au/explore/dataset/tree-canopies-public-realm-2018-urban-forest/information/\n",
    "\n",
    "Dataset 7: https://data.melbourne.vic.gov.au/explore/dataset/tree-canopies-2018-entire-municipal-area-urban-forest/information/\n",
    "\n",
    "Dataset 8: https://data.melbourne.vic.gov.au/explore/dataset/tree-canopies-2019/information/\n",
    "\n",
    "Dataset 9: https://data.melbourne.vic.gov.au/explore/dataset/tree-canopies-2021-urban-forest/information/\n"
   ]
  },
  {
   "cell_type": "markdown",
   "metadata": {},
   "source": [
    "## Step 1: Import packages\n",
    "This use case will require a number of packages to work. These are simple to include and import. However, if they are not installed using the command `! pip install`, which will ensure the packages are installed on your instance of Python.\n",
    "\n",
    "One package cannot be imported however, `API_store` is a file you will need to create locally in the same folder as this use case. It will contain your MOP API key (stored as `API = <Insert your key here>`). Simply create the file in the same folder as this one and it should be imported without any issues."
   ]
  },
  {
   "cell_type": "code",
   "execution_count": 1,
   "metadata": {},
   "outputs": [],
   "source": [
    "# Uncomment these to install the packages needed:\n",
    "# ! pip install requests\n",
    "# ! pip install pandas"
   ]
  },
  {
   "cell_type": "code",
   "execution_count": 2,
   "metadata": {},
   "outputs": [],
   "source": [
    "# Imports needed to request and collect data from API\n",
    "import requests\n",
    "import pandas as pd\n",
    "from io import StringIO\n",
    "# Create this as a local file to store your API key\n",
    "import API_store\n",
    "# This helps us just avoid pop ups that we don't need\n",
    "import warnings\n",
    "warnings.filterwarnings('ignore')"
   ]
  },
  {
   "cell_type": "markdown",
   "metadata": {},
   "source": [
    "## Step 2: Import Data\n",
    "\n",
    "This is where we call a function called collect data and we then use our API key to get all of the .csv files we need. But when we read in those .csv files we convert them into Pandas data frames. This allows us a way to work with that data to visualise it and take what we need. "
   ]
  },
  {
   "cell_type": "code",
   "execution_count": 3,
   "metadata": {},
   "outputs": [],
   "source": [
    "# This is the function to collect the data from the API\n",
    "def collect_data(dataset_id):\n",
    "    base_url = 'https://data.melbourne.vic.gov.au/api/explore/v2.1/catalog/datasets/'\n",
    "    apikey = API_store.API\n",
    "    dataset_id = dataset_id\n",
    "    format = 'csv'\n",
    "\n",
    "    url = f'{base_url}{dataset_id}/exports/{format}'\n",
    "    params = {\n",
    "        'select': '*',\n",
    "        'limit': -1,  # all records\n",
    "        'lang': 'en',\n",
    "        'timezone': 'UTC',\n",
    "        'api_key': apikey\n",
    "    }\n",
    "\n",
    "    # GET request\n",
    "    response = requests.get(url, params=params)\n",
    "\n",
    "    if response.status_code == 200:\n",
    "        # StringIO to read the CSV data\n",
    "        url_content = response.content.decode('utf-8')\n",
    "        dataset = pd.read_csv(StringIO(url_content), delimiter=';')\n",
    "        return dataset\n",
    "    else:\n",
    "        print(f'Request failed with status code {response.status_code}')"
   ]
  },
  {
   "cell_type": "markdown",
   "metadata": {},
   "source": [
    "Here is where we use the function we just called to collect the data we need. We will go through each of our datasets and make a dataframe for each of them."
   ]
  },
  {
   "cell_type": "code",
   "execution_count": 4,
   "metadata": {},
   "outputs": [],
   "source": [
    "dataset_ids = ['tree-canopies-2008-urban-forest','tree-canopies-2011-urban-forest','tree-canopies-2013',\n",
    "               'tree-canopies-2014', 'tree-canopies-2015-urban-forest', 'tree-canopies-public-realm-2018-urban-forest',\n",
    "               'tree-canopies-2018-entire-municipal-area-urban-forest', 'tree-canopies-2019', 'tree-canopies-2021-urban-forest']\n",
    "\n",
    "tree_canopy_2008 = collect_data(dataset_ids[0]) \n",
    "tree_canopy_2011 = collect_data(dataset_ids[1])\n",
    "tree_canopy_2013 = collect_data(dataset_ids[2])\n",
    "tree_canopy_2014 = collect_data(dataset_ids[3])\n",
    "tree_canopy_2015 = collect_data(dataset_ids[4])\n",
    "tree_canopy_2018_pr = collect_data(dataset_ids[5])\n",
    "tree_canopy_2018_ma = collect_data(dataset_ids[6])\n",
    "tree_canopy_2019 = collect_data(dataset_ids[7])\n",
    "tree_canopy_2021 = collect_data(dataset_ids[8])"
   ]
  },
  {
   "cell_type": "markdown",
   "metadata": {},
   "source": [
    "Now that we have waited a good while and have our datasets, we need to verify that they are actually loaded in. As well as get an understanding of what is included in each dataset. We can do that by calling the dataset and using the command `.head(3)`. This will print out the first three rows of each dataset. That way we can know they were loaded in, since they aren't empty. We can also see the shape of each of our datasets, which will be helpful in our analysis."
   ]
  },
  {
   "cell_type": "code",
   "execution_count": 5,
   "metadata": {},
   "outputs": [
    {
     "data": {
      "text/html": [
       "<div>\n",
       "<style scoped>\n",
       "    .dataframe tbody tr th:only-of-type {\n",
       "        vertical-align: middle;\n",
       "    }\n",
       "\n",
       "    .dataframe tbody tr th {\n",
       "        vertical-align: top;\n",
       "    }\n",
       "\n",
       "    .dataframe thead th {\n",
       "        text-align: right;\n",
       "    }\n",
       "</style>\n",
       "<table border=\"1\" class=\"dataframe\">\n",
       "  <thead>\n",
       "    <tr style=\"text-align: right;\">\n",
       "      <th></th>\n",
       "      <th>geo_point_2d</th>\n",
       "      <th>geo_shape</th>\n",
       "      <th>updated_by</th>\n",
       "      <th>shape_area</th>\n",
       "      <th>data_linea</th>\n",
       "      <th>shape_leng</th>\n",
       "      <th>updated_da</th>\n",
       "    </tr>\n",
       "  </thead>\n",
       "  <tbody>\n",
       "    <tr>\n",
       "      <th>0</th>\n",
       "      <td>-37.79852634957519, 144.94570229091082</td>\n",
       "      <td>{\"coordinates\": [[[[144.94569518074886, -37.79...</td>\n",
       "      <td>Grace Detailed-GIS Services</td>\n",
       "      <td>9.990790</td>\n",
       "      <td>Tree canopy mapped using 2008 aerial photos an...</td>\n",
       "      <td>16.047832</td>\n",
       "      <td>3 Dec 2011</td>\n",
       "    </tr>\n",
       "    <tr>\n",
       "      <th>1</th>\n",
       "      <td>-37.79809504416373, 144.92062736716736</td>\n",
       "      <td>{\"coordinates\": [[[[144.92063888842435, -37.79...</td>\n",
       "      <td>Grace Detailed-GIS Services</td>\n",
       "      <td>66.159928</td>\n",
       "      <td>Tree canopy mapped using 2008 aerial photos an...</td>\n",
       "      <td>31.480883</td>\n",
       "      <td>3 Dec 2011</td>\n",
       "    </tr>\n",
       "    <tr>\n",
       "      <th>2</th>\n",
       "      <td>-37.79841797552432, 144.94065289498525</td>\n",
       "      <td>{\"coordinates\": [[[[144.94065604535228, -37.79...</td>\n",
       "      <td>Grace Detailed-GIS Services</td>\n",
       "      <td>10.427187</td>\n",
       "      <td>Tree canopy mapped using 2008 aerial photos an...</td>\n",
       "      <td>11.461481</td>\n",
       "      <td>3 Dec 2011</td>\n",
       "    </tr>\n",
       "  </tbody>\n",
       "</table>\n",
       "</div>"
      ],
      "text/plain": [
       "                             geo_point_2d  \\\n",
       "0  -37.79852634957519, 144.94570229091082   \n",
       "1  -37.79809504416373, 144.92062736716736   \n",
       "2  -37.79841797552432, 144.94065289498525   \n",
       "\n",
       "                                           geo_shape  \\\n",
       "0  {\"coordinates\": [[[[144.94569518074886, -37.79...   \n",
       "1  {\"coordinates\": [[[[144.92063888842435, -37.79...   \n",
       "2  {\"coordinates\": [[[[144.94065604535228, -37.79...   \n",
       "\n",
       "                    updated_by  shape_area  \\\n",
       "0  Grace Detailed-GIS Services    9.990790   \n",
       "1  Grace Detailed-GIS Services   66.159928   \n",
       "2  Grace Detailed-GIS Services   10.427187   \n",
       "\n",
       "                                          data_linea  shape_leng  updated_da  \n",
       "0  Tree canopy mapped using 2008 aerial photos an...   16.047832  3 Dec 2011  \n",
       "1  Tree canopy mapped using 2008 aerial photos an...   31.480883  3 Dec 2011  \n",
       "2  Tree canopy mapped using 2008 aerial photos an...   11.461481  3 Dec 2011  "
      ]
     },
     "execution_count": 5,
     "metadata": {},
     "output_type": "execute_result"
    }
   ],
   "source": [
    "tree_canopy_2008.head(3)"
   ]
  },
  {
   "cell_type": "code",
   "execution_count": 6,
   "metadata": {},
   "outputs": [
    {
     "data": {
      "text/plain": [
       "(58790, 7)"
      ]
     },
     "execution_count": 6,
     "metadata": {},
     "output_type": "execute_result"
    }
   ],
   "source": [
    "tree_canopy_2008.shape"
   ]
  },
  {
   "cell_type": "code",
   "execution_count": 7,
   "metadata": {},
   "outputs": [
    {
     "data": {
      "text/html": [
       "<div>\n",
       "<style scoped>\n",
       "    .dataframe tbody tr th:only-of-type {\n",
       "        vertical-align: middle;\n",
       "    }\n",
       "\n",
       "    .dataframe tbody tr th {\n",
       "        vertical-align: top;\n",
       "    }\n",
       "\n",
       "    .dataframe thead th {\n",
       "        text-align: right;\n",
       "    }\n",
       "</style>\n",
       "<table border=\"1\" class=\"dataframe\">\n",
       "  <thead>\n",
       "    <tr style=\"text-align: right;\">\n",
       "      <th></th>\n",
       "      <th>geo_point_2d</th>\n",
       "      <th>geo_shape</th>\n",
       "      <th>tree_area</th>\n",
       "      <th>street_fro</th>\n",
       "      <th>data_lin_1</th>\n",
       "      <th>yearplant</th>\n",
       "      <th>street_nam</th>\n",
       "      <th>updated_by</th>\n",
       "      <th>shape_area</th>\n",
       "      <th>park_stree</th>\n",
       "      <th>...</th>\n",
       "      <th>street_to</th>\n",
       "      <th>family</th>\n",
       "      <th>ggis_id</th>\n",
       "      <th>overhead_c</th>\n",
       "      <th>date_plant</th>\n",
       "      <th>t11</th>\n",
       "      <th>canopy_dia</th>\n",
       "      <th>height_11</th>\n",
       "      <th>descriptio</th>\n",
       "      <th>roadseg_de</th>\n",
       "    </tr>\n",
       "  </thead>\n",
       "  <tbody>\n",
       "    <tr>\n",
       "      <th>0</th>\n",
       "      <td>-37.7971025448064, 144.92805294520574</td>\n",
       "      <td>{\"coordinates\": [[[[144.92808097355524, -37.79...</td>\n",
       "      <td>85.552695</td>\n",
       "      <td>NaN</td>\n",
       "      <td>Tree Inventory: Existing data (fields from GIS...</td>\n",
       "      <td>0</td>\n",
       "      <td>NaN</td>\n",
       "      <td>Grace Detailed-GIS Services. info@gracegis.com.au</td>\n",
       "      <td>85.552695</td>\n",
       "      <td>NaN</td>\n",
       "      <td>...</td>\n",
       "      <td>NaN</td>\n",
       "      <td>NaN</td>\n",
       "      <td>91186</td>\n",
       "      <td>NaN</td>\n",
       "      <td>NaN</td>\n",
       "      <td>11</td>\n",
       "      <td>0.0</td>\n",
       "      <td>9.0</td>\n",
       "      <td>NaN</td>\n",
       "      <td>NaN</td>\n",
       "    </tr>\n",
       "    <tr>\n",
       "      <th>1</th>\n",
       "      <td>-37.79677607198214, 144.92647587608803</td>\n",
       "      <td>{\"coordinates\": [[[[144.92650356294064, -37.79...</td>\n",
       "      <td>30.053766</td>\n",
       "      <td>NaN</td>\n",
       "      <td>Tree Inventory: Existing data (fields from GIS...</td>\n",
       "      <td>0</td>\n",
       "      <td>NaN</td>\n",
       "      <td>Grace Detailed-GIS Services. info@gracegis.com.au</td>\n",
       "      <td>30.053766</td>\n",
       "      <td>NaN</td>\n",
       "      <td>...</td>\n",
       "      <td>NaN</td>\n",
       "      <td>NaN</td>\n",
       "      <td>91190</td>\n",
       "      <td>NaN</td>\n",
       "      <td>NaN</td>\n",
       "      <td>11</td>\n",
       "      <td>0.0</td>\n",
       "      <td>7.0</td>\n",
       "      <td>NaN</td>\n",
       "      <td>NaN</td>\n",
       "    </tr>\n",
       "    <tr>\n",
       "      <th>2</th>\n",
       "      <td>-37.79615547394656, 144.93082811899046</td>\n",
       "      <td>{\"coordinates\": [[[[144.93088560280367, -37.79...</td>\n",
       "      <td>63.268135</td>\n",
       "      <td>Wolseley Parade</td>\n",
       "      <td>Tree Inventory: Existing data (fields from GIS...</td>\n",
       "      <td>1997</td>\n",
       "      <td>Bellair Street</td>\n",
       "      <td>Grace Detailed-GIS Services. info@gracegis.com.au</td>\n",
       "      <td>63.268135</td>\n",
       "      <td>Street</td>\n",
       "      <td>...</td>\n",
       "      <td>Ormond Street</td>\n",
       "      <td>Platanaceae</td>\n",
       "      <td>91192</td>\n",
       "      <td>Powerlines - High Voltage</td>\n",
       "      <td>1997-07-10T07:00:00.000Z</td>\n",
       "      <td>11</td>\n",
       "      <td>18.0</td>\n",
       "      <td>11.0</td>\n",
       "      <td>Tree - Platanus x acerifolia</td>\n",
       "      <td>Bellair Street between Wolseley Parade and Orm...</td>\n",
       "    </tr>\n",
       "  </tbody>\n",
       "</table>\n",
       "<p>3 rows × 51 columns</p>\n",
       "</div>"
      ],
      "text/plain": [
       "                             geo_point_2d  \\\n",
       "0   -37.7971025448064, 144.92805294520574   \n",
       "1  -37.79677607198214, 144.92647587608803   \n",
       "2  -37.79615547394656, 144.93082811899046   \n",
       "\n",
       "                                           geo_shape  tree_area  \\\n",
       "0  {\"coordinates\": [[[[144.92808097355524, -37.79...  85.552695   \n",
       "1  {\"coordinates\": [[[[144.92650356294064, -37.79...  30.053766   \n",
       "2  {\"coordinates\": [[[[144.93088560280367, -37.79...  63.268135   \n",
       "\n",
       "        street_fro                                         data_lin_1  \\\n",
       "0              NaN  Tree Inventory: Existing data (fields from GIS...   \n",
       "1              NaN  Tree Inventory: Existing data (fields from GIS...   \n",
       "2  Wolseley Parade  Tree Inventory: Existing data (fields from GIS...   \n",
       "\n",
       "   yearplant      street_nam  \\\n",
       "0          0             NaN   \n",
       "1          0             NaN   \n",
       "2       1997  Bellair Street   \n",
       "\n",
       "                                          updated_by  shape_area park_stree  \\\n",
       "0  Grace Detailed-GIS Services. info@gracegis.com.au   85.552695        NaN   \n",
       "1  Grace Detailed-GIS Services. info@gracegis.com.au   30.053766        NaN   \n",
       "2  Grace Detailed-GIS Services. info@gracegis.com.au   63.268135     Street   \n",
       "\n",
       "   ...      street_to       family  ggis_id                 overhead_c  \\\n",
       "0  ...            NaN          NaN    91186                        NaN   \n",
       "1  ...            NaN          NaN    91190                        NaN   \n",
       "2  ...  Ormond Street  Platanaceae    91192  Powerlines - High Voltage   \n",
       "\n",
       "                 date_plant t11 canopy_dia height_11  \\\n",
       "0                       NaN  11        0.0       9.0   \n",
       "1                       NaN  11        0.0       7.0   \n",
       "2  1997-07-10T07:00:00.000Z  11       18.0      11.0   \n",
       "\n",
       "                     descriptio  \\\n",
       "0                           NaN   \n",
       "1                           NaN   \n",
       "2  Tree - Platanus x acerifolia   \n",
       "\n",
       "                                          roadseg_de  \n",
       "0                                                NaN  \n",
       "1                                                NaN  \n",
       "2  Bellair Street between Wolseley Parade and Orm...  \n",
       "\n",
       "[3 rows x 51 columns]"
      ]
     },
     "execution_count": 7,
     "metadata": {},
     "output_type": "execute_result"
    }
   ],
   "source": [
    "tree_canopy_2011.head(3)"
   ]
  },
  {
   "cell_type": "code",
   "execution_count": 8,
   "metadata": {},
   "outputs": [
    {
     "data": {
      "text/plain": [
       "(94699, 51)"
      ]
     },
     "execution_count": 8,
     "metadata": {},
     "output_type": "execute_result"
    }
   ],
   "source": [
    "tree_canopy_2011.shape"
   ]
  },
  {
   "cell_type": "code",
   "execution_count": 9,
   "metadata": {},
   "outputs": [
    {
     "data": {
      "text/html": [
       "<div>\n",
       "<style scoped>\n",
       "    .dataframe tbody tr th:only-of-type {\n",
       "        vertical-align: middle;\n",
       "    }\n",
       "\n",
       "    .dataframe tbody tr th {\n",
       "        vertical-align: top;\n",
       "    }\n",
       "\n",
       "    .dataframe thead th {\n",
       "        text-align: right;\n",
       "    }\n",
       "</style>\n",
       "<table border=\"1\" class=\"dataframe\">\n",
       "  <thead>\n",
       "    <tr style=\"text-align: right;\">\n",
       "      <th></th>\n",
       "      <th>geo_point_2d</th>\n",
       "      <th>geo_shape</th>\n",
       "      <th>height_yes</th>\n",
       "      <th>shape_area</th>\n",
       "      <th>objectid</th>\n",
       "      <th>shape_leng</th>\n",
       "      <th>updated_da</th>\n",
       "      <th>z_mean</th>\n",
       "      <th>tree_area</th>\n",
       "      <th>ggis_id</th>\n",
       "    </tr>\n",
       "  </thead>\n",
       "  <tbody>\n",
       "    <tr>\n",
       "      <th>0</th>\n",
       "      <td>-37.82369619166995, 144.9763990227848</td>\n",
       "      <td>{\"coordinates\": [[[[144.97640095130544, -37.82...</td>\n",
       "      <td>1</td>\n",
       "      <td>3.886529</td>\n",
       "      <td>12818</td>\n",
       "      <td>0</td>\n",
       "      <td>NaN</td>\n",
       "      <td>2.462622</td>\n",
       "      <td>0</td>\n",
       "      <td>12818</td>\n",
       "    </tr>\n",
       "    <tr>\n",
       "      <th>1</th>\n",
       "      <td>-37.822976569861765, 144.93703319984712</td>\n",
       "      <td>{\"coordinates\": [[[[144.93702970158145, -37.82...</td>\n",
       "      <td>1</td>\n",
       "      <td>22.901252</td>\n",
       "      <td>12873</td>\n",
       "      <td>0</td>\n",
       "      <td>NaN</td>\n",
       "      <td>7.649852</td>\n",
       "      <td>0</td>\n",
       "      <td>12873</td>\n",
       "    </tr>\n",
       "    <tr>\n",
       "      <th>2</th>\n",
       "      <td>-37.82302364997733, 144.94109760355792</td>\n",
       "      <td>{\"coordinates\": [[[[144.94109968112505, -37.82...</td>\n",
       "      <td>1</td>\n",
       "      <td>4.529607</td>\n",
       "      <td>12885</td>\n",
       "      <td>0</td>\n",
       "      <td>NaN</td>\n",
       "      <td>1.608364</td>\n",
       "      <td>0</td>\n",
       "      <td>12885</td>\n",
       "    </tr>\n",
       "  </tbody>\n",
       "</table>\n",
       "</div>"
      ],
      "text/plain": [
       "                              geo_point_2d  \\\n",
       "0    -37.82369619166995, 144.9763990227848   \n",
       "1  -37.822976569861765, 144.93703319984712   \n",
       "2   -37.82302364997733, 144.94109760355792   \n",
       "\n",
       "                                           geo_shape  height_yes  shape_area  \\\n",
       "0  {\"coordinates\": [[[[144.97640095130544, -37.82...           1    3.886529   \n",
       "1  {\"coordinates\": [[[[144.93702970158145, -37.82...           1   22.901252   \n",
       "2  {\"coordinates\": [[[[144.94109968112505, -37.82...           1    4.529607   \n",
       "\n",
       "   objectid  shape_leng  updated_da    z_mean  tree_area  ggis_id  \n",
       "0     12818           0         NaN  2.462622          0    12818  \n",
       "1     12873           0         NaN  7.649852          0    12873  \n",
       "2     12885           0         NaN  1.608364          0    12885  "
      ]
     },
     "execution_count": 9,
     "metadata": {},
     "output_type": "execute_result"
    }
   ],
   "source": [
    "tree_canopy_2013.head(3)"
   ]
  },
  {
   "cell_type": "code",
   "execution_count": 10,
   "metadata": {},
   "outputs": [
    {
     "data": {
      "text/plain": [
       "(99194, 10)"
      ]
     },
     "execution_count": 10,
     "metadata": {},
     "output_type": "execute_result"
    }
   ],
   "source": [
    "tree_canopy_2013.shape"
   ]
  },
  {
   "cell_type": "code",
   "execution_count": 11,
   "metadata": {},
   "outputs": [
    {
     "data": {
      "text/html": [
       "<div>\n",
       "<style scoped>\n",
       "    .dataframe tbody tr th:only-of-type {\n",
       "        vertical-align: middle;\n",
       "    }\n",
       "\n",
       "    .dataframe tbody tr th {\n",
       "        vertical-align: top;\n",
       "    }\n",
       "\n",
       "    .dataframe thead th {\n",
       "        text-align: right;\n",
       "    }\n",
       "</style>\n",
       "<table border=\"1\" class=\"dataframe\">\n",
       "  <thead>\n",
       "    <tr style=\"text-align: right;\">\n",
       "      <th></th>\n",
       "      <th>geo_point_2d</th>\n",
       "      <th>geo_shape</th>\n",
       "      <th>shape_area</th>\n",
       "      <th>t</th>\n",
       "      <th>objectid</th>\n",
       "      <th>shape_leng</th>\n",
       "      <th>ggis_id</th>\n",
       "      <th>height_min</th>\n",
       "    </tr>\n",
       "  </thead>\n",
       "  <tbody>\n",
       "    <tr>\n",
       "      <th>0</th>\n",
       "      <td>-37.80701864340057, 144.97261514642457</td>\n",
       "      <td>{\"coordinates\": [[[[144.97262202661392, -37.80...</td>\n",
       "      <td>2.417016</td>\n",
       "      <td>2014</td>\n",
       "      <td>29804</td>\n",
       "      <td>0</td>\n",
       "      <td>2173</td>\n",
       "      <td>1.782669</td>\n",
       "    </tr>\n",
       "    <tr>\n",
       "      <th>1</th>\n",
       "      <td>-37.806174766348335, 144.96921747656356</td>\n",
       "      <td>{\"coordinates\": [[[[144.9692316752021, -37.806...</td>\n",
       "      <td>6.281363</td>\n",
       "      <td>2014</td>\n",
       "      <td>29845</td>\n",
       "      <td>0</td>\n",
       "      <td>2310</td>\n",
       "      <td>3.082909</td>\n",
       "    </tr>\n",
       "    <tr>\n",
       "      <th>2</th>\n",
       "      <td>-37.77611151375127, 144.9413844567119</td>\n",
       "      <td>{\"coordinates\": [[[[144.94141107471987, -37.77...</td>\n",
       "      <td>23.420418</td>\n",
       "      <td>2014</td>\n",
       "      <td>18</td>\n",
       "      <td>0</td>\n",
       "      <td>83</td>\n",
       "      <td>3.018570</td>\n",
       "    </tr>\n",
       "  </tbody>\n",
       "</table>\n",
       "</div>"
      ],
      "text/plain": [
       "                              geo_point_2d  \\\n",
       "0   -37.80701864340057, 144.97261514642457   \n",
       "1  -37.806174766348335, 144.96921747656356   \n",
       "2    -37.77611151375127, 144.9413844567119   \n",
       "\n",
       "                                           geo_shape  shape_area     t  \\\n",
       "0  {\"coordinates\": [[[[144.97262202661392, -37.80...    2.417016  2014   \n",
       "1  {\"coordinates\": [[[[144.9692316752021, -37.806...    6.281363  2014   \n",
       "2  {\"coordinates\": [[[[144.94141107471987, -37.77...   23.420418  2014   \n",
       "\n",
       "   objectid  shape_leng  ggis_id  height_min  \n",
       "0     29804           0     2173    1.782669  \n",
       "1     29845           0     2310    3.082909  \n",
       "2        18           0       83    3.018570  "
      ]
     },
     "execution_count": 11,
     "metadata": {},
     "output_type": "execute_result"
    }
   ],
   "source": [
    "tree_canopy_2014.head(3)"
   ]
  },
  {
   "cell_type": "code",
   "execution_count": 12,
   "metadata": {},
   "outputs": [
    {
     "data": {
      "text/plain": [
       "(64877, 8)"
      ]
     },
     "execution_count": 12,
     "metadata": {},
     "output_type": "execute_result"
    }
   ],
   "source": [
    "tree_canopy_2014.shape"
   ]
  },
  {
   "cell_type": "code",
   "execution_count": 13,
   "metadata": {},
   "outputs": [
    {
     "data": {
      "text/html": [
       "<div>\n",
       "<style scoped>\n",
       "    .dataframe tbody tr th:only-of-type {\n",
       "        vertical-align: middle;\n",
       "    }\n",
       "\n",
       "    .dataframe tbody tr th {\n",
       "        vertical-align: top;\n",
       "    }\n",
       "\n",
       "    .dataframe thead th {\n",
       "        text-align: right;\n",
       "    }\n",
       "</style>\n",
       "<table border=\"1\" class=\"dataframe\">\n",
       "  <thead>\n",
       "    <tr style=\"text-align: right;\">\n",
       "      <th></th>\n",
       "      <th>geo_point_2d</th>\n",
       "      <th>geo_shape</th>\n",
       "      <th>qa_id_1</th>\n",
       "      <th>shape_area</th>\n",
       "      <th>area_2015</th>\n",
       "      <th>change_cod</th>\n",
       "      <th>objectid</th>\n",
       "      <th>shape_leng</th>\n",
       "    </tr>\n",
       "  </thead>\n",
       "  <tbody>\n",
       "    <tr>\n",
       "      <th>0</th>\n",
       "      <td>-37.792768219526344, 144.93379943223366</td>\n",
       "      <td>{\"coordinates\": [[[[144.9338068318798, -37.792...</td>\n",
       "      <td>0</td>\n",
       "      <td>20.840909</td>\n",
       "      <td>20.840909</td>\n",
       "      <td>0</td>\n",
       "      <td>30340</td>\n",
       "      <td>0</td>\n",
       "    </tr>\n",
       "    <tr>\n",
       "      <th>1</th>\n",
       "      <td>-37.79335390234411, 144.96628652593543</td>\n",
       "      <td>{\"coordinates\": [[[[144.96628667082896, -37.79...</td>\n",
       "      <td>0</td>\n",
       "      <td>55.567579</td>\n",
       "      <td>55.567579</td>\n",
       "      <td>0</td>\n",
       "      <td>30348</td>\n",
       "      <td>0</td>\n",
       "    </tr>\n",
       "    <tr>\n",
       "      <th>2</th>\n",
       "      <td>-37.79337278014516, 144.96252125050952</td>\n",
       "      <td>{\"coordinates\": [[[[144.9625445009508, -37.793...</td>\n",
       "      <td>0</td>\n",
       "      <td>389.006759</td>\n",
       "      <td>389.006759</td>\n",
       "      <td>0</td>\n",
       "      <td>30359</td>\n",
       "      <td>0</td>\n",
       "    </tr>\n",
       "  </tbody>\n",
       "</table>\n",
       "</div>"
      ],
      "text/plain": [
       "                              geo_point_2d  \\\n",
       "0  -37.792768219526344, 144.93379943223366   \n",
       "1   -37.79335390234411, 144.96628652593543   \n",
       "2   -37.79337278014516, 144.96252125050952   \n",
       "\n",
       "                                           geo_shape  qa_id_1  shape_area  \\\n",
       "0  {\"coordinates\": [[[[144.9338068318798, -37.792...        0   20.840909   \n",
       "1  {\"coordinates\": [[[[144.96628667082896, -37.79...        0   55.567579   \n",
       "2  {\"coordinates\": [[[[144.9625445009508, -37.793...        0  389.006759   \n",
       "\n",
       "    area_2015  change_cod  objectid  shape_leng  \n",
       "0   20.840909           0     30340           0  \n",
       "1   55.567579           0     30348           0  \n",
       "2  389.006759           0     30359           0  "
      ]
     },
     "execution_count": 13,
     "metadata": {},
     "output_type": "execute_result"
    }
   ],
   "source": [
    "tree_canopy_2015.head(3)"
   ]
  },
  {
   "cell_type": "code",
   "execution_count": 14,
   "metadata": {},
   "outputs": [
    {
     "data": {
      "text/plain": [
       "(60712, 8)"
      ]
     },
     "execution_count": 14,
     "metadata": {},
     "output_type": "execute_result"
    }
   ],
   "source": [
    "tree_canopy_2015.shape"
   ]
  },
  {
   "cell_type": "code",
   "execution_count": 15,
   "metadata": {},
   "outputs": [
    {
     "data": {
      "text/html": [
       "<div>\n",
       "<style scoped>\n",
       "    .dataframe tbody tr th:only-of-type {\n",
       "        vertical-align: middle;\n",
       "    }\n",
       "\n",
       "    .dataframe tbody tr th {\n",
       "        vertical-align: top;\n",
       "    }\n",
       "\n",
       "    .dataframe thead th {\n",
       "        text-align: right;\n",
       "    }\n",
       "</style>\n",
       "<table border=\"1\" class=\"dataframe\">\n",
       "  <thead>\n",
       "    <tr style=\"text-align: right;\">\n",
       "      <th></th>\n",
       "      <th>geo_point_2d</th>\n",
       "      <th>geo_shape</th>\n",
       "      <th>objectid</th>\n",
       "      <th>shape_leng</th>\n",
       "      <th>shape_area</th>\n",
       "    </tr>\n",
       "  </thead>\n",
       "  <tbody>\n",
       "    <tr>\n",
       "      <th>0</th>\n",
       "      <td>-37.787924849178765, 144.95013560084595</td>\n",
       "      <td>{\"coordinates\": [[[[144.95014678527318, -37.78...</td>\n",
       "      <td>27905</td>\n",
       "      <td>22.910803</td>\n",
       "      <td>35.618151</td>\n",
       "    </tr>\n",
       "    <tr>\n",
       "      <th>1</th>\n",
       "      <td>-37.78758587991684, 144.94758519515517</td>\n",
       "      <td>{\"coordinates\": [[[[144.94759778226256, -37.78...</td>\n",
       "      <td>28004</td>\n",
       "      <td>11.677391</td>\n",
       "      <td>9.861962</td>\n",
       "    </tr>\n",
       "    <tr>\n",
       "      <th>2</th>\n",
       "      <td>-37.78766984132651, 144.950294465972</td>\n",
       "      <td>{\"coordinates\": [[[[144.9503028706184, -37.787...</td>\n",
       "      <td>27988</td>\n",
       "      <td>4.824124</td>\n",
       "      <td>1.363877</td>\n",
       "    </tr>\n",
       "  </tbody>\n",
       "</table>\n",
       "</div>"
      ],
      "text/plain": [
       "                              geo_point_2d  \\\n",
       "0  -37.787924849178765, 144.95013560084595   \n",
       "1   -37.78758587991684, 144.94758519515517   \n",
       "2     -37.78766984132651, 144.950294465972   \n",
       "\n",
       "                                           geo_shape  objectid  shape_leng  \\\n",
       "0  {\"coordinates\": [[[[144.95014678527318, -37.78...     27905   22.910803   \n",
       "1  {\"coordinates\": [[[[144.94759778226256, -37.78...     28004   11.677391   \n",
       "2  {\"coordinates\": [[[[144.9503028706184, -37.787...     27988    4.824124   \n",
       "\n",
       "   shape_area  \n",
       "0   35.618151  \n",
       "1    9.861962  \n",
       "2    1.363877  "
      ]
     },
     "execution_count": 15,
     "metadata": {},
     "output_type": "execute_result"
    }
   ],
   "source": [
    "tree_canopy_2018_pr.head(3)"
   ]
  },
  {
   "cell_type": "code",
   "execution_count": 16,
   "metadata": {},
   "outputs": [
    {
     "data": {
      "text/plain": [
       "(32787, 5)"
      ]
     },
     "execution_count": 16,
     "metadata": {},
     "output_type": "execute_result"
    }
   ],
   "source": [
    "tree_canopy_2018_pr.shape"
   ]
  },
  {
   "cell_type": "code",
   "execution_count": 17,
   "metadata": {},
   "outputs": [
    {
     "data": {
      "text/html": [
       "<div>\n",
       "<style scoped>\n",
       "    .dataframe tbody tr th:only-of-type {\n",
       "        vertical-align: middle;\n",
       "    }\n",
       "\n",
       "    .dataframe tbody tr th {\n",
       "        vertical-align: top;\n",
       "    }\n",
       "\n",
       "    .dataframe thead th {\n",
       "        text-align: right;\n",
       "    }\n",
       "</style>\n",
       "<table border=\"1\" class=\"dataframe\">\n",
       "  <thead>\n",
       "    <tr style=\"text-align: right;\">\n",
       "      <th></th>\n",
       "      <th>geo_point_2d</th>\n",
       "      <th>geo_shape</th>\n",
       "      <th>objectid</th>\n",
       "      <th>shape_leng</th>\n",
       "      <th>shape_area</th>\n",
       "    </tr>\n",
       "  </thead>\n",
       "  <tbody>\n",
       "    <tr>\n",
       "      <th>0</th>\n",
       "      <td>-37.79985604102316, 144.94863020815643</td>\n",
       "      <td>{\"coordinates\": [[[[144.94869965802565, -37.79...</td>\n",
       "      <td>29435</td>\n",
       "      <td>114.357712</td>\n",
       "      <td>248.017254</td>\n",
       "    </tr>\n",
       "    <tr>\n",
       "      <th>1</th>\n",
       "      <td>-37.80012294659624, 144.96904230676208</td>\n",
       "      <td>{\"coordinates\": [[[[144.9690200627957, -37.800...</td>\n",
       "      <td>29440</td>\n",
       "      <td>22.209443</td>\n",
       "      <td>30.098817</td>\n",
       "    </tr>\n",
       "    <tr>\n",
       "      <th>2</th>\n",
       "      <td>-37.80011811346107, 144.97185932314238</td>\n",
       "      <td>{\"coordinates\": [[[[144.9718664539436, -37.800...</td>\n",
       "      <td>29471</td>\n",
       "      <td>4.979338</td>\n",
       "      <td>1.658130</td>\n",
       "    </tr>\n",
       "  </tbody>\n",
       "</table>\n",
       "</div>"
      ],
      "text/plain": [
       "                             geo_point_2d  \\\n",
       "0  -37.79985604102316, 144.94863020815643   \n",
       "1  -37.80012294659624, 144.96904230676208   \n",
       "2  -37.80011811346107, 144.97185932314238   \n",
       "\n",
       "                                           geo_shape  objectid  shape_leng  \\\n",
       "0  {\"coordinates\": [[[[144.94869965802565, -37.79...     29435  114.357712   \n",
       "1  {\"coordinates\": [[[[144.9690200627957, -37.800...     29440   22.209443   \n",
       "2  {\"coordinates\": [[[[144.9718664539436, -37.800...     29471    4.979338   \n",
       "\n",
       "   shape_area  \n",
       "0  248.017254  \n",
       "1   30.098817  \n",
       "2    1.658130  "
      ]
     },
     "execution_count": 17,
     "metadata": {},
     "output_type": "execute_result"
    }
   ],
   "source": [
    "tree_canopy_2018_ma.head(3)"
   ]
  },
  {
   "cell_type": "code",
   "execution_count": 18,
   "metadata": {},
   "outputs": [
    {
     "data": {
      "text/plain": [
       "(54680, 5)"
      ]
     },
     "execution_count": 18,
     "metadata": {},
     "output_type": "execute_result"
    }
   ],
   "source": [
    "tree_canopy_2018_ma.shape"
   ]
  },
  {
   "cell_type": "code",
   "execution_count": 19,
   "metadata": {},
   "outputs": [
    {
     "data": {
      "text/html": [
       "<div>\n",
       "<style scoped>\n",
       "    .dataframe tbody tr th:only-of-type {\n",
       "        vertical-align: middle;\n",
       "    }\n",
       "\n",
       "    .dataframe tbody tr th {\n",
       "        vertical-align: top;\n",
       "    }\n",
       "\n",
       "    .dataframe thead th {\n",
       "        text-align: right;\n",
       "    }\n",
       "</style>\n",
       "<table border=\"1\" class=\"dataframe\">\n",
       "  <thead>\n",
       "    <tr style=\"text-align: right;\">\n",
       "      <th></th>\n",
       "      <th>geo_point_2d</th>\n",
       "      <th>geo_shape</th>\n",
       "      <th>id</th>\n",
       "    </tr>\n",
       "  </thead>\n",
       "  <tbody>\n",
       "    <tr>\n",
       "      <th>0</th>\n",
       "      <td>-37.7928966058365, 144.96013431840203</td>\n",
       "      <td>{\"coordinates\": [[[144.9601369448, -37.7928977...</td>\n",
       "      <td>26067</td>\n",
       "    </tr>\n",
       "    <tr>\n",
       "      <th>1</th>\n",
       "      <td>-37.79221015605665, 144.92248035841538</td>\n",
       "      <td>{\"coordinates\": [[[144.9224614652, -37.7922391...</td>\n",
       "      <td>26065</td>\n",
       "    </tr>\n",
       "    <tr>\n",
       "      <th>2</th>\n",
       "      <td>-37.79305183612952, 144.97106636274984</td>\n",
       "      <td>{\"coordinates\": [[[144.9710715016, -37.7930550...</td>\n",
       "      <td>25977</td>\n",
       "    </tr>\n",
       "  </tbody>\n",
       "</table>\n",
       "</div>"
      ],
      "text/plain": [
       "                             geo_point_2d  \\\n",
       "0   -37.7928966058365, 144.96013431840203   \n",
       "1  -37.79221015605665, 144.92248035841538   \n",
       "2  -37.79305183612952, 144.97106636274984   \n",
       "\n",
       "                                           geo_shape     id  \n",
       "0  {\"coordinates\": [[[144.9601369448, -37.7928977...  26067  \n",
       "1  {\"coordinates\": [[[144.9224614652, -37.7922391...  26065  \n",
       "2  {\"coordinates\": [[[144.9710715016, -37.7930550...  25977  "
      ]
     },
     "execution_count": 19,
     "metadata": {},
     "output_type": "execute_result"
    }
   ],
   "source": [
    "tree_canopy_2019.head(3)"
   ]
  },
  {
   "cell_type": "code",
   "execution_count": 20,
   "metadata": {},
   "outputs": [
    {
     "data": {
      "text/plain": [
       "(114784, 3)"
      ]
     },
     "execution_count": 20,
     "metadata": {},
     "output_type": "execute_result"
    }
   ],
   "source": [
    "tree_canopy_2019.shape"
   ]
  },
  {
   "cell_type": "code",
   "execution_count": 21,
   "metadata": {},
   "outputs": [
    {
     "data": {
      "text/html": [
       "<div>\n",
       "<style scoped>\n",
       "    .dataframe tbody tr th:only-of-type {\n",
       "        vertical-align: middle;\n",
       "    }\n",
       "\n",
       "    .dataframe tbody tr th {\n",
       "        vertical-align: top;\n",
       "    }\n",
       "\n",
       "    .dataframe thead th {\n",
       "        text-align: right;\n",
       "    }\n",
       "</style>\n",
       "<table border=\"1\" class=\"dataframe\">\n",
       "  <thead>\n",
       "    <tr style=\"text-align: right;\">\n",
       "      <th></th>\n",
       "      <th>geo_point_2d</th>\n",
       "      <th>geo_shape</th>\n",
       "    </tr>\n",
       "  </thead>\n",
       "  <tbody>\n",
       "    <tr>\n",
       "      <th>0</th>\n",
       "      <td>-37.77506304683423, 144.93898465421296</td>\n",
       "      <td>{\"coordinates\": [[[[144.9389624164712, -37.775...</td>\n",
       "    </tr>\n",
       "    <tr>\n",
       "      <th>1</th>\n",
       "      <td>-37.775132956993566, 144.93979253397976</td>\n",
       "      <td>{\"coordinates\": [[[[144.93978541786475, -37.77...</td>\n",
       "    </tr>\n",
       "    <tr>\n",
       "      <th>2</th>\n",
       "      <td>-37.775360479960504, 144.94145114868167</td>\n",
       "      <td>{\"coordinates\": [[[[144.941452857118, -37.7753...</td>\n",
       "    </tr>\n",
       "  </tbody>\n",
       "</table>\n",
       "</div>"
      ],
      "text/plain": [
       "                              geo_point_2d  \\\n",
       "0   -37.77506304683423, 144.93898465421296   \n",
       "1  -37.775132956993566, 144.93979253397976   \n",
       "2  -37.775360479960504, 144.94145114868167   \n",
       "\n",
       "                                           geo_shape  \n",
       "0  {\"coordinates\": [[[[144.9389624164712, -37.775...  \n",
       "1  {\"coordinates\": [[[[144.93978541786475, -37.77...  \n",
       "2  {\"coordinates\": [[[[144.941452857118, -37.7753...  "
      ]
     },
     "execution_count": 21,
     "metadata": {},
     "output_type": "execute_result"
    }
   ],
   "source": [
    "tree_canopy_2021.head(3)"
   ]
  },
  {
   "cell_type": "code",
   "execution_count": 22,
   "metadata": {},
   "outputs": [
    {
     "data": {
      "text/plain": [
       "(57980, 2)"
      ]
     },
     "execution_count": 22,
     "metadata": {},
     "output_type": "execute_result"
    }
   ],
   "source": [
    "tree_canopy_2021.shape"
   ]
  },
  {
   "cell_type": "markdown",
   "metadata": {},
   "source": [
    "From this we have confirmed a few important things that will affect how we go forward when working with this data. First, we have a few datasets and each seems to be different from one another. First, some of the datasets are much larger than others for example the 2019 dataset has roughly 114,000 entries. Whereas the initial 2008 dataset has only 58,000 entries. So we will need to figure out what they cover and to what extent all of the different datasets are compatible with one another.\n",
    "\n",
    "\n",
    "The other thing is that some of the earlier dataset have more information than the later ones. Since we are comparing all datasets and their progression we will need to make the data more compatible. So we will only look at a few columns. We will keep the `geo_point_2d`, `geo_shape` and the `id`. Keeping in mind that the 2021 has no `id` so we will see if it can be backfilled based on the `geo_point_2d` data we have. We will also use the 2011 `yearplant` data for some trees with an ID. That way we can see how old some of the trees are and if they are still around in later datasets. This will require a few assumptions about the data. First the `id` is consistent through the whole dataset and doesn't change each year or over the years. For measuring consistency and how long a tree has been in a location we will need to rely on the `geo_point_2d`s to be the same and if not very consistent with one another.\n",
    "\n",
    "\n",
    "With these challenges established lets begin cleaning our datasets to just the columns we want to work with. As well as look for any missing data within our data."
   ]
  },
  {
   "cell_type": "markdown",
   "metadata": {},
   "source": [
    "## Step 3: Data Wrangling\n",
    "In data analysis this is one of the most important steps. We will be cleaning up our data since it was sourced over a long time and each survey might have changed. For our analysis we need to standardise it so we can get a clear picture when we analyse the data later on.\n",
    "\n",
    "### 3.1 Organise Columns\n",
    "The first step as discussed is to standardise the columns. So we will get each data set year and get the `geo_points_2d` and `geo_shape` columns and where applicable the `id` (or equivalent). Lets also use the `yearplant` from 2011's data and make a new dataframe to store the year the trees were planted, the `id` and the `geo_points_2d`."
   ]
  },
  {
   "cell_type": "code",
   "execution_count": null,
   "metadata": {},
   "outputs": [],
   "source": [
    "# Replace original data frames with new ones that just have what we need.\n",
    "tree_age = tree_canopy_2011[['geo_point_2d','objectid', 'yearplant']]\n",
    "tree_canopy_2008 = tree_canopy_2008[['geo_point_2d', 'geo_shape']]\n",
    "tree_canopy_2011 = tree_canopy_2011[['geo_point_2d', 'geo_shape','objectid']]\n",
    "tree_canopy_2013 = tree_canopy_2011[['geo_point_2d', 'geo_shape','objectid']]\n",
    "tree_canopy_2014 = tree_canopy_2011[['geo_point_2d', 'geo_shape','objectid']]\n",
    "tree_canopy_2015 = tree_canopy_2011[['geo_point_2d', 'geo_shape','objectid']]\n",
    "tree_canopy_2018_pr = tree_canopy_2018_pr[['geo_point_2d', 'geo_shape','objectid']]\n",
    "tree_canopy_2018_ma = tree_canopy_2018_ma[['geo_point_2d', 'geo_shape','objectid']]\n",
    "tree_canopy_2019 = tree_canopy_2019[['geo_point_2d', 'geo_shape','id']]\n",
    "tree_canopy_2021 = tree_canopy_2021[['geo_point_2d', 'geo_shape']]\n",
    "\n",
    "# Rename 2019's `id` to `objectid` to match the other data:\n",
    "tree_canopy_2019.rename(columns={'id': 'objectid'})"
   ]
  },
  {
   "cell_type": "markdown",
   "metadata": {},
   "source": [
    "### 3.2 Check for missing data\n",
    "Now that our data has what we are looking for we need to see if there is any data that is missing from our dataframes. We can do this using the `isnull()` pandas function. It tells us if there are any missing values by giving us a `boolean` response. if there is, it will return `True`. We can then investigate further if it does return as `True`."
   ]
  },
  {
   "cell_type": "code",
   "execution_count": 24,
   "metadata": {},
   "outputs": [
    {
     "name": "stdout",
     "output_type": "stream",
     "text": [
      "2008 any null values:     False\n",
      "2011 any null values:     False\n",
      "2013 any null values:     False\n",
      "2014 any null values:     False\n",
      "2015 any null values:     False\n",
      "2018_pr any null values:  True\n",
      "2018_ma any null values:  False\n",
      "2019 any null values:     False\n",
      "2021 any null values:     False\n",
      "TreeAge any null values:  False\n"
     ]
    }
   ],
   "source": [
    "print(\"2008 any null values:    \",tree_canopy_2008.isnull().values.any())\n",
    "print(\"2011 any null values:    \",tree_canopy_2011.isnull().values.any())\n",
    "print(\"2013 any null values:    \",tree_canopy_2013.isnull().values.any())\n",
    "print(\"2014 any null values:    \",tree_canopy_2014.isnull().values.any())\n",
    "print(\"2015 any null values:    \",tree_canopy_2015.isnull().values.any())\n",
    "print(\"2018_pr any null values: \",tree_canopy_2018_pr.isnull().values.any())\n",
    "print(\"2018_ma any null values: \",tree_canopy_2018_ma.isnull().values.any())\n",
    "print(\"2019 any null values:    \",tree_canopy_2019.isnull().values.any())\n",
    "print(\"2021 any null values:    \",tree_canopy_2021.isnull().values.any())\n",
    "print(\"TreeAge any null values: \",tree_age.isnull().values.any())"
   ]
  },
  {
   "cell_type": "markdown",
   "metadata": {},
   "source": [
    "From this we can know that for most of our datasets we have no null values in the data. This is great, however the 2018 public realm data had shown that it was missing some values so we can investigate further."
   ]
  },
  {
   "cell_type": "code",
   "execution_count": null,
   "metadata": {},
   "outputs": [
    {
     "name": "stdout",
     "output_type": "stream",
     "text": [
      "Missing data:\n",
      "geo_point_2d    0\n",
      "geo_shape       2\n",
      "objectid        0\n",
      "dtype: int64\n",
      "------ \n",
      "Total missing values: 2\n",
      "Total values: 32787 \n",
      "Percent of missing values: 0.01%\n"
     ]
    }
   ],
   "source": [
    "# Print a formatted readout to see what values are missing from each column, then give a percentage of missing data\n",
    "print(f\"Missing data:\\n{tree_canopy_2018_pr.isnull().sum()}\\n------\",\n",
    "      f\"\\nTotal missing values: {len(tree_canopy_2018_pr[tree_canopy_2018_pr.isnull().any(axis=1)])}\\nTotal values: {len(tree_canopy_2018_pr)}\",\n",
    "      f\"\\nPercent of missing values: {round((len(tree_canopy_2018_pr[tree_canopy_2018_pr.isnull().any(axis=1)])/len(tree_canopy_2018_pr))*100,2)}%\")"
   ]
  },
  {
   "cell_type": "markdown",
   "metadata": {},
   "source": [
    "So we can see that we are missing only two `geo_shape` data. However, that doesn't cause any issues for us since we would only use that for drawing our trees on the map. And aren't needed for our analysis. So we don't have to remove them."
   ]
  },
  {
   "cell_type": "markdown",
   "metadata": {},
   "source": [
    "### 3.3 Look for duplicate data\n",
    "Now we want to quickly check to see if there are any duplicate values in our dataset. Since we don't want to have potential double ups in our data, which can cause issues when visualising. We can use the `duplicated()` command built into pandas to check this. It will return a `bool` value telling us if there are any duplicates with `True` just like before."
   ]
  },
  {
   "cell_type": "code",
   "execution_count": null,
   "metadata": {},
   "outputs": [
    {
     "name": "stdout",
     "output_type": "stream",
     "text": [
      "2008 any null values:     False\n",
      "2011 any null values:     False\n",
      "2013 any null values:     False\n",
      "2014 any null values:     False\n",
      "2015 any null values:     False\n",
      "2018_pr any null values:  False\n",
      "2018_ma any null values:  False\n",
      "2019 any null values:     False\n",
      "2021 any null values:     False\n",
      "TreeAge any null values:  False\n"
     ]
    }
   ],
   "source": [
    "# We simply print the returned boolean values so we can print them in a human readable way\n",
    "print(\"2008 any null values:    \",tree_canopy_2008.duplicated().any())\n",
    "print(\"2011 any null values:    \",tree_canopy_2011.duplicated().any())\n",
    "print(\"2013 any null values:    \",tree_canopy_2013.duplicated().any())\n",
    "print(\"2014 any null values:    \",tree_canopy_2014.duplicated().any())\n",
    "print(\"2015 any null values:    \",tree_canopy_2015.duplicated().any())\n",
    "print(\"2018_pr any null values: \",tree_canopy_2018_pr.duplicated().any())\n",
    "print(\"2018_ma any null values: \",tree_canopy_2018_ma.duplicated().any())\n",
    "print(\"2019 any null values:    \",tree_canopy_2019.duplicated().any())\n",
    "print(\"2021 any null values:    \",tree_canopy_2021.duplicated().any())\n",
    "print(\"TreeAge any null values: \",tree_age.duplicated().any())"
   ]
  },
  {
   "cell_type": "markdown",
   "metadata": {},
   "source": [
    "### 3.4 Match id's to trees\n",
    "Here we want to look at the `objectids` and see if we can match them to the tree locations. This will do a few things for us. First confirm that the id system has stayed the same throughout the years. It will also tell us if any trees have been lost. And it will let us backfill any trees in the 2021 dataset if needed. Depending on what ids match and when they match will affect our approach going forward."
   ]
  },
  {
   "cell_type": "markdown",
   "metadata": {},
   "source": [
    "## TO DO\n",
    "___\n",
    "### Data cleaning\n",
    "- Match ids to trees\n",
    "   - Match ids to tree age and update ages\n",
    "\n",
    "### Visualisation for data cleaning\n",
    "- visualise each tree on the map\n",
    "- find similar coverage area\n",
    "   - Find cut off for non applicable areas\n",
    "### Data Analysis\n",
    "- Visualise progression of trees\n",
    "   - visualise all trees progressively\n",
    "   - graph the numbers of trees\n",
    "- Tree age analysis\n",
    "   - Find oldest trees\n",
    "   - are older trees in similar area\n",
    "       - KNN on predicting where older trees are?\n",
    "- Provide analysis on Urban forest\n",
    "   - trends in older and newer trees\n",
    "   - oldest trees and maintaining them\n",
    "   - Need for more green space?\n",
    "- Conclusion\n"
   ]
  }
 ],
 "metadata": {
  "kernelspec": {
   "display_name": ".venv",
   "language": "python",
   "name": "python3"
  },
  "language_info": {
   "codemirror_mode": {
    "name": "ipython",
    "version": 3
   },
   "file_extension": ".py",
   "mimetype": "text/x-python",
   "name": "python",
   "nbconvert_exporter": "python",
   "pygments_lexer": "ipython3",
   "version": "3.12.3"
  }
 },
 "nbformat": 4,
 "nbformat_minor": 4
}
