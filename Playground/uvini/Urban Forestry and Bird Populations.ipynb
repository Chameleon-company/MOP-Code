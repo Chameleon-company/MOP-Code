{
 "cells": [
  {
   "cell_type": "markdown",
   "id": "c975ee27",
   "metadata": {},
   "source": [
    "# Urban Forestry and Bird Populations"
   ]
  },
  {
   "cell_type": "markdown",
   "id": "509afde5",
   "metadata": {},
   "source": [
    "--- introduction goes here ---"
   ]
  },
  {
   "cell_type": "code",
   "execution_count": 1,
   "id": "765a8d7f",
   "metadata": {},
   "outputs": [],
   "source": [
    "# Import packages\n",
    "import pandas as pd\n",
    "import numpy as np\n",
    "import seaborn as sns\n",
    "import matplotlib.pyplot as plt\n",
    "import matplotlib\n",
    "from numpy import nan"
   ]
  },
  {
   "cell_type": "markdown",
   "id": "076749e3",
   "metadata": {},
   "source": [
    "### Clean Bird Dataset"
   ]
  },
  {
   "cell_type": "code",
   "execution_count": 17,
   "id": "a5e29204",
   "metadata": {
    "scrolled": true
   },
   "outputs": [
    {
     "data": {
      "text/html": [
       "<div>\n",
       "<style scoped>\n",
       "    .dataframe tbody tr th:only-of-type {\n",
       "        vertical-align: middle;\n",
       "    }\n",
       "\n",
       "    .dataframe tbody tr th {\n",
       "        vertical-align: top;\n",
       "    }\n",
       "\n",
       "    .dataframe thead th {\n",
       "        text-align: right;\n",
       "    }\n",
       "</style>\n",
       "<table border=\"1\" class=\"dataframe\">\n",
       "  <thead>\n",
       "    <tr style=\"text-align: right;\">\n",
       "      <th></th>\n",
       "      <th>Sighting Date</th>\n",
       "      <th>Common Name</th>\n",
       "      <th>Scientific Name</th>\n",
       "      <th>Sighting Count</th>\n",
       "      <th>Victorian Biodiversity Atlas Code</th>\n",
       "      <th>lat</th>\n",
       "      <th>lon</th>\n",
       "      <th>loc1_desc</th>\n",
       "      <th>lat2</th>\n",
       "      <th>lon2</th>\n",
       "      <th>loc2_desc</th>\n",
       "      <th>site_name</th>\n",
       "      <th>Location 2</th>\n",
       "      <th>Location 1</th>\n",
       "    </tr>\n",
       "  </thead>\n",
       "  <tbody>\n",
       "    <tr>\n",
       "      <th>0</th>\n",
       "      <td>2018-03-12</td>\n",
       "      <td>Australian Magpie</td>\n",
       "      <td>Gymnorhina tibicen</td>\n",
       "      <td>2</td>\n",
       "      <td>10705</td>\n",
       "      <td>-37.8038</td>\n",
       "      <td>144.9118</td>\n",
       "      <td>Dynon Road Tidal Canal Wildlife Sanctuary Down...</td>\n",
       "      <td>NaN</td>\n",
       "      <td>NaN</td>\n",
       "      <td>NaN</td>\n",
       "      <td>Dynon Road Tidal Canal Wildlife Sanctuary</td>\n",
       "      <td>NaN</td>\n",
       "      <td>-37.8038, 144.9118</td>\n",
       "    </tr>\n",
       "    <tr>\n",
       "      <th>1</th>\n",
       "      <td>2018-02-28</td>\n",
       "      <td>Australian White Ibis</td>\n",
       "      <td>Threskiornis molucca</td>\n",
       "      <td>141</td>\n",
       "      <td>10179</td>\n",
       "      <td>-37.8038</td>\n",
       "      <td>144.9118</td>\n",
       "      <td>Dynon Road Tidal Canal Wildlife Sanctuary Down...</td>\n",
       "      <td>NaN</td>\n",
       "      <td>NaN</td>\n",
       "      <td>NaN</td>\n",
       "      <td>Dynon Road Tidal Canal Wildlife Sanctuary</td>\n",
       "      <td>NaN</td>\n",
       "      <td>-37.8038, 144.9118</td>\n",
       "    </tr>\n",
       "    <tr>\n",
       "      <th>2</th>\n",
       "      <td>2018-03-12</td>\n",
       "      <td>Australian White Ibis</td>\n",
       "      <td>Threskiornis molucca</td>\n",
       "      <td>83</td>\n",
       "      <td>10179</td>\n",
       "      <td>-37.8038</td>\n",
       "      <td>144.9118</td>\n",
       "      <td>Dynon Road Tidal Canal Wildlife Sanctuary Down...</td>\n",
       "      <td>NaN</td>\n",
       "      <td>NaN</td>\n",
       "      <td>NaN</td>\n",
       "      <td>Dynon Road Tidal Canal Wildlife Sanctuary</td>\n",
       "      <td>NaN</td>\n",
       "      <td>-37.8038, 144.9118</td>\n",
       "    </tr>\n",
       "  </tbody>\n",
       "</table>\n",
       "</div>"
      ],
      "text/plain": [
       "  Sighting Date            Common Name       Scientific Name  Sighting Count  \\\n",
       "0    2018-03-12      Australian Magpie    Gymnorhina tibicen               2   \n",
       "1    2018-02-28  Australian White Ibis  Threskiornis molucca             141   \n",
       "2    2018-03-12  Australian White Ibis  Threskiornis molucca              83   \n",
       "\n",
       "   Victorian Biodiversity Atlas Code      lat       lon  \\\n",
       "0                              10705 -37.8038  144.9118   \n",
       "1                              10179 -37.8038  144.9118   \n",
       "2                              10179 -37.8038  144.9118   \n",
       "\n",
       "                                           loc1_desc  lat2  lon2 loc2_desc  \\\n",
       "0  Dynon Road Tidal Canal Wildlife Sanctuary Down...   NaN   NaN       NaN   \n",
       "1  Dynon Road Tidal Canal Wildlife Sanctuary Down...   NaN   NaN       NaN   \n",
       "2  Dynon Road Tidal Canal Wildlife Sanctuary Down...   NaN   NaN       NaN   \n",
       "\n",
       "                                   site_name Location 2          Location 1  \n",
       "0  Dynon Road Tidal Canal Wildlife Sanctuary        NaN  -37.8038, 144.9118  \n",
       "1  Dynon Road Tidal Canal Wildlife Sanctuary        NaN  -37.8038, 144.9118  \n",
       "2  Dynon Road Tidal Canal Wildlife Sanctuary        NaN  -37.8038, 144.9118  "
      ]
     },
     "execution_count": 17,
     "metadata": {},
     "output_type": "execute_result"
    }
   ],
   "source": [
    "# Read the bird csv file\n",
    "bird_data = pd.read_csv(\"bird-survey-results-for-areas-in-the-city-of-melbourne-february-and-march-2018.csv\")\n",
    "bird_data.head(3)"
   ]
  },
  {
   "cell_type": "code",
   "execution_count": 18,
   "id": "678cd335",
   "metadata": {},
   "outputs": [
    {
     "name": "stdout",
     "output_type": "stream",
     "text": [
      "<class 'pandas.core.frame.DataFrame'>\n",
      "RangeIndex: 498 entries, 0 to 497\n",
      "Data columns (total 14 columns):\n",
      " #   Column                             Non-Null Count  Dtype  \n",
      "---  ------                             --------------  -----  \n",
      " 0   Sighting Date                      498 non-null    object \n",
      " 1   Common Name                        498 non-null    object \n",
      " 2   Scientific Name                    498 non-null    object \n",
      " 3   Sighting Count                     498 non-null    int64  \n",
      " 4   Victorian Biodiversity Atlas Code  498 non-null    int64  \n",
      " 5   lat                                498 non-null    float64\n",
      " 6   lon                                498 non-null    float64\n",
      " 7   loc1_desc                          498 non-null    object \n",
      " 8   lat2                               248 non-null    float64\n",
      " 9   lon2                               248 non-null    float64\n",
      " 10  loc2_desc                          248 non-null    object \n",
      " 11  site_name                          498 non-null    object \n",
      " 12  Location 2                         248 non-null    object \n",
      " 13  Location 1                         498 non-null    object \n",
      "dtypes: float64(4), int64(2), object(8)\n",
      "memory usage: 54.6+ KB\n"
     ]
    }
   ],
   "source": [
    "# View info on bird dataset\n",
    "bird_data.info()"
   ]
  },
  {
   "cell_type": "code",
   "execution_count": 19,
   "id": "f9a2cc4a",
   "metadata": {},
   "outputs": [],
   "source": [
    "# Delete columns with more than 50% of empty values\n",
    "del bird_data['lat2']\n",
    "del bird_data['lon2']\n",
    "del bird_data['loc2_desc']\n",
    "del bird_data['Location 2']\n",
    "del bird_data['Location 1']"
   ]
  },
  {
   "cell_type": "code",
   "execution_count": 20,
   "id": "2c1a8ff5",
   "metadata": {},
   "outputs": [],
   "source": [
    "# Convert the Date column into DateTime\n",
    "bird_data['Sighting Date'] = pd.to_datetime(bird_data['Sighting Date'])"
   ]
  },
  {
   "cell_type": "code",
   "execution_count": 21,
   "id": "2e26aaf2",
   "metadata": {},
   "outputs": [
    {
     "name": "stdout",
     "output_type": "stream",
     "text": [
      "<class 'pandas.core.frame.DataFrame'>\n",
      "RangeIndex: 498 entries, 0 to 497\n",
      "Data columns (total 9 columns):\n",
      " #   Column                             Non-Null Count  Dtype         \n",
      "---  ------                             --------------  -----         \n",
      " 0   Sighting Date                      498 non-null    datetime64[ns]\n",
      " 1   Common Name                        498 non-null    object        \n",
      " 2   Scientific Name                    498 non-null    object        \n",
      " 3   Sighting Count                     498 non-null    int64         \n",
      " 4   Victorian Biodiversity Atlas Code  498 non-null    int64         \n",
      " 5   lat                                498 non-null    float64       \n",
      " 6   lon                                498 non-null    float64       \n",
      " 7   loc1_desc                          498 non-null    object        \n",
      " 8   site_name                          498 non-null    object        \n",
      "dtypes: datetime64[ns](1), float64(2), int64(2), object(4)\n",
      "memory usage: 35.1+ KB\n"
     ]
    }
   ],
   "source": [
    "# View cleaned data\n",
    "bird_data.info()"
   ]
  },
  {
   "cell_type": "code",
   "execution_count": 22,
   "id": "7fd59bc0",
   "metadata": {
    "scrolled": true
   },
   "outputs": [
    {
     "data": {
      "text/html": [
       "<div>\n",
       "<style scoped>\n",
       "    .dataframe tbody tr th:only-of-type {\n",
       "        vertical-align: middle;\n",
       "    }\n",
       "\n",
       "    .dataframe tbody tr th {\n",
       "        vertical-align: top;\n",
       "    }\n",
       "\n",
       "    .dataframe thead th {\n",
       "        text-align: right;\n",
       "    }\n",
       "</style>\n",
       "<table border=\"1\" class=\"dataframe\">\n",
       "  <thead>\n",
       "    <tr style=\"text-align: right;\">\n",
       "      <th></th>\n",
       "      <th>Sighting Date</th>\n",
       "      <th>Common Name</th>\n",
       "      <th>Scientific Name</th>\n",
       "      <th>Sighting Count</th>\n",
       "      <th>Victorian Biodiversity Atlas Code</th>\n",
       "      <th>lat</th>\n",
       "      <th>lon</th>\n",
       "      <th>loc1_desc</th>\n",
       "      <th>site_name</th>\n",
       "    </tr>\n",
       "  </thead>\n",
       "  <tbody>\n",
       "    <tr>\n",
       "      <th>0</th>\n",
       "      <td>2018-03-12</td>\n",
       "      <td>Australian Magpie</td>\n",
       "      <td>Gymnorhina tibicen</td>\n",
       "      <td>2</td>\n",
       "      <td>10705</td>\n",
       "      <td>-37.8038</td>\n",
       "      <td>144.9118</td>\n",
       "      <td>Dynon Road Tidal Canal Wildlife Sanctuary Down...</td>\n",
       "      <td>Dynon Road Tidal Canal Wildlife Sanctuary</td>\n",
       "    </tr>\n",
       "    <tr>\n",
       "      <th>1</th>\n",
       "      <td>2018-02-28</td>\n",
       "      <td>Australian White Ibis</td>\n",
       "      <td>Threskiornis molucca</td>\n",
       "      <td>141</td>\n",
       "      <td>10179</td>\n",
       "      <td>-37.8038</td>\n",
       "      <td>144.9118</td>\n",
       "      <td>Dynon Road Tidal Canal Wildlife Sanctuary Down...</td>\n",
       "      <td>Dynon Road Tidal Canal Wildlife Sanctuary</td>\n",
       "    </tr>\n",
       "    <tr>\n",
       "      <th>2</th>\n",
       "      <td>2018-03-12</td>\n",
       "      <td>Australian White Ibis</td>\n",
       "      <td>Threskiornis molucca</td>\n",
       "      <td>83</td>\n",
       "      <td>10179</td>\n",
       "      <td>-37.8038</td>\n",
       "      <td>144.9118</td>\n",
       "      <td>Dynon Road Tidal Canal Wildlife Sanctuary Down...</td>\n",
       "      <td>Dynon Road Tidal Canal Wildlife Sanctuary</td>\n",
       "    </tr>\n",
       "  </tbody>\n",
       "</table>\n",
       "</div>"
      ],
      "text/plain": [
       "  Sighting Date            Common Name       Scientific Name  Sighting Count  \\\n",
       "0    2018-03-12      Australian Magpie    Gymnorhina tibicen               2   \n",
       "1    2018-02-28  Australian White Ibis  Threskiornis molucca             141   \n",
       "2    2018-03-12  Australian White Ibis  Threskiornis molucca              83   \n",
       "\n",
       "   Victorian Biodiversity Atlas Code      lat       lon  \\\n",
       "0                              10705 -37.8038  144.9118   \n",
       "1                              10179 -37.8038  144.9118   \n",
       "2                              10179 -37.8038  144.9118   \n",
       "\n",
       "                                           loc1_desc  \\\n",
       "0  Dynon Road Tidal Canal Wildlife Sanctuary Down...   \n",
       "1  Dynon Road Tidal Canal Wildlife Sanctuary Down...   \n",
       "2  Dynon Road Tidal Canal Wildlife Sanctuary Down...   \n",
       "\n",
       "                                   site_name  \n",
       "0  Dynon Road Tidal Canal Wildlife Sanctuary  \n",
       "1  Dynon Road Tidal Canal Wildlife Sanctuary  \n",
       "2  Dynon Road Tidal Canal Wildlife Sanctuary  "
      ]
     },
     "execution_count": 22,
     "metadata": {},
     "output_type": "execute_result"
    }
   ],
   "source": [
    "# View cleaned data\n",
    "bird_data.head(3)"
   ]
  },
  {
   "cell_type": "code",
   "execution_count": null,
   "id": "dab63ee1",
   "metadata": {},
   "outputs": [],
   "source": []
  }
 ],
 "metadata": {
  "kernelspec": {
   "display_name": "Python 3 (ipykernel)",
   "language": "python",
   "name": "python3"
  },
  "language_info": {
   "codemirror_mode": {
    "name": "ipython",
    "version": 3
   },
   "file_extension": ".py",
   "mimetype": "text/x-python",
   "name": "python",
   "nbconvert_exporter": "python",
   "pygments_lexer": "ipython3",
   "version": "3.9.13"
  }
 },
 "nbformat": 4,
 "nbformat_minor": 5
}
