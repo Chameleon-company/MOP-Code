{
 "cells": [
  {
   "cell_type": "markdown",
   "metadata": {},
   "source": [
    "<div class=\"usecase-title\">Nearby Restaurant Hotspots Analysis in Melbourne</div>\n",
    "<div class=\"usecase-authors\"><b>Authored by: </b> Tharaka Sandamal And Sahan Chamod</div>"
   ]
  },
  {
   "cell_type": "markdown",
   "metadata": {},
   "source": [
    "<div class=\"usecase-duration\"><b>Duration:</b> 90 mins</div>\n",
    "<div class=\"usecase-level-skill\">\n",
    "    <div class=\"usecase-level\"><b>Level: </b>Intermediate</div>\n",
    "    <div class=\"usecase-skill\"><b>Pre-requisite Skills: </b>Python, Data Analysis, Pandas, Data Visualization</div>\n"
   ]
  },
  {
   "cell_type": "markdown",
   "metadata": {},
   "source": [
    "<div class=\"usecase-section-header\">Scenario</div>"
   ]
  },
  {
   "cell_type": "markdown",
   "metadata": {},
   "source": [
    "As office workers in Melbourne, finding a convenient and available place to eat during lunch can be a challenge due to limited seating capacity and high business activity. The goal is to identify areas in Melbourne that need more restaurants, cafes, or bistros based on the current seating capacity and nearby business activity. This analysis will help urban planners and business owners make informed decisions about where to establish new eateries to meet the demand."
   ]
  },
  {
   "cell_type": "markdown",
   "metadata": {},
   "source": [
    "At the end of this use case you will:\n",
    "- Learn how to clean and merge multiple datasets using Pandas.\n",
    "- Perform exploratory data analysis to understand the relationship between seating capacity and business activity.\n",
    "- Use data visualization techniques to identify potential hotspots for new restaurants.\n",
    "- Generate actionable insights to inform decision-making in urban planning and business development."
   ]
  },
  {
   "cell_type": "markdown",
   "metadata": {},
   "source": [
    "Melbourne is a bustling city with a significant number of office workers who frequently visit nearby cafes and restaurants for lunch. However, the availability of seating and the proximity of eateries to business hubs can affect their choices. This analysis aims to determine which areas in Melbourne need more dining options by analyzing datasets related to seating capacity, business activity, and land use. By combining these datasets, we can identify regions with high demand but insufficient seating capacity, guiding new restaurant openings to better serve the community."
   ]
  },
  {
   "cell_type": "markdown",
   "metadata": {},
   "source": [
    "<h1> <div class=\"usecase-section-header\">Project Stages</div>"
   ]
  },
  {
   "cell_type": "markdown",
   "metadata": {},
   "source": [
    "\n",
    "1. **Data Collection**:\n",
    "   Download the necessary datasets.\n",
    "   - [Cafes and Restaurants with Seating Capacity](https://data.melbourne.vic.gov.au/explore/dataset/cafes-and-restaurants-with-seating-capacity/information/)\n",
    "   - [Employment by Block by CLUE Industry](https://data.melbourne.vic.gov.au/explore/dataset/employment-by-block-by-clue-industry/information/)\n",
    "   - [Blocks for Census of Land Use and Employment (CLUE)](https://data.melbourne.vic.gov.au/explore/dataset/blocks-for-census-of-land-use-and-employment-clue/information/?sort=-block_id&location=13,-37.81306,144.94413&basemap=mbs-7a7333)\n",
    "\n",
    "2. **Data Cleaning and Preparation**:\n",
    "   - Load the datasets into Pandas DataFrames.\n",
    "   - Inspect and clean the data.\n",
    "   - Merge the datasets on common fields.\n",
    "\n",
    "3. **Data Analysis**:\n",
    "   - Calculate the total seating capacity of cafes and restaurants per block.\n",
    "   - Analyze the employment data to understand the density of workers per block.\n",
    "\n",
    "4. **Determine Hotspots**:\n",
    "   - Identify blocks with high business activity but low seating capacity.\n",
    "   - Highlight areas with a mismatch between the number of employees and available seating.\n",
    "\n",
    "5. **Visualization**:\n",
    "   - Create visualizations to show areas with high demand for more restaurants/cafes.\n",
    "   - Present findings in a clear and impactful manner.\n",
    "\n",
    "<div class=\"usecase-section-header\">Expected Outcome</div>\n",
    "The expected outcome of this project is to identify specific areas in Melbourne that require additional restaurants, cafes, or bistros based on the analysis of seating capacity, business activity, and possibly pedestrian movement data. This will provide urban planners and business owners with actionable insights to make informed decisions about where to establish new dining options to meet the demand of office workers.\n",
    "\n"
   ]
  },
  {
   "cell_type": "markdown",
   "metadata": {},
   "source": [
    "\n",
    "<div class=\"usecase-section-header\">Dataset Descriptions</div>\n",
    "\n",
    "1. **Cafes and Restaurants with Seating Capacity**:\n",
    "   - This dataset contains information about cafes and restaurants in Melbourne, including their seating capacity.\n",
    "   - [Link to Dataset](https://data.melbourne.vic.gov.au/explore/dataset/cafes-and-restaurants-with-seating-capacity/information/)\n",
    "\n",
    "2. **Employment by Block by CLUE Industry**:\n",
    "   - This dataset provides employment information by block and industry within Melbourne, indicating the density of business activity.\n",
    "   - [Link to Dataset](https://data.melbourne.vic.gov.au/explore/dataset/employment-by-block-by-clue-industry/information/)\n",
    "\n",
    "3. **Blocks for Census of Land Use and Employment (CLUE)**:\n",
    "   - This dataset includes detailed information about blocks in Melbourne, used for the Census of Land Use and Employment.\n",
    "   - [Link to Dataset](https://data.melbourne.vic.gov.au/explore/dataset/blocks-for-census-of-land-use-and-employment-clue/information/?sort=-block_id&location=13,-37.81306,144.94413&basemap=mbs-7a7333)"
   ]
  },
  {
   "cell_type": "markdown",
   "metadata": {},
   "source": [
    "### Package/Library Imports"
   ]
  },
  {
   "cell_type": "code",
   "execution_count": 6,
   "metadata": {},
   "outputs": [
    {
     "name": "stdout",
     "output_type": "stream",
     "text": [
      "Requirement already satisfied: requests in c:\\users\\thara\\anaconda3\\lib\\site-packages (2.31.0)\n",
      "Requirement already satisfied: charset-normalizer<4,>=2 in c:\\users\\thara\\anaconda3\\lib\\site-packages (from requests) (2.0.4)\n",
      "Requirement already satisfied: idna<4,>=2.5 in c:\\users\\thara\\anaconda3\\lib\\site-packages (from requests) (3.4)\n",
      "Requirement already satisfied: urllib3<3,>=1.21.1 in c:\\users\\thara\\anaconda3\\lib\\site-packages (from requests) (2.0.7)\n",
      "Requirement already satisfied: certifi>=2017.4.17 in c:\\users\\thara\\anaconda3\\lib\\site-packages (from requests) (2024.7.4)\n",
      "Note: you may need to restart the kernel to use updated packages.\n"
     ]
    }
   ],
   "source": [
    "pip install requests\n"
   ]
  },
  {
   "cell_type": "code",
   "execution_count": 8,
   "metadata": {},
   "outputs": [
    {
     "ename": "ModuleNotFoundError",
     "evalue": "No module named 'config'",
     "output_type": "error",
     "traceback": [
      "\u001b[1;31m---------------------------------------------------------------------------\u001b[0m",
      "\u001b[1;31mModuleNotFoundError\u001b[0m                       Traceback (most recent call last)",
      "Cell \u001b[1;32mIn[8], line 1\u001b[0m\n\u001b[1;32m----> 1\u001b[0m \u001b[38;5;28;01mfrom\u001b[39;00m \u001b[38;5;21;01mconfig\u001b[39;00m \u001b[38;5;28;01mimport\u001b[39;00m API_KEY \u001b[38;5;66;03m# import API_KEY from config file\u001b[39;00m\n\u001b[0;32m      3\u001b[0m \u001b[38;5;28;01mimport\u001b[39;00m \u001b[38;5;21;01mnumpy\u001b[39;00m \u001b[38;5;28;01mas\u001b[39;00m \u001b[38;5;21;01mnp\u001b[39;00m\n\u001b[0;32m      4\u001b[0m \u001b[38;5;28;01mimport\u001b[39;00m \u001b[38;5;21;01mpandas\u001b[39;00m \u001b[38;5;28;01mas\u001b[39;00m \u001b[38;5;21;01mpd\u001b[39;00m\n",
      "\u001b[1;31mModuleNotFoundError\u001b[0m: No module named 'config'"
     ]
    }
   ],
   "source": [
    "from config import API_KEY # import API_KEY from config file\n",
    "\n",
    "import numpy as np\n",
    "import pandas as pd\n",
    "import matplotlib.pyplot as plt\n",
    "import requests \n",
    "import pandas as pd \n",
    "from io import StringIO"
   ]
  },
  {
   "cell_type": "markdown",
   "metadata": {},
   "source": [
    "### Read data using API"
   ]
  },
  {
   "cell_type": "code",
   "execution_count": 3,
   "metadata": {},
   "outputs": [],
   "source": [
    "# **Preferred Method**: Export Endpoint\n",
    "\n",
    "#Function to collect data \n",
    "def collect_data(dataset_id):\n",
    "    base_url = 'https://data.melbourne.vic.gov.au/api/explore/v2.1/catalog/datasets/'\n",
    "    dataset_id = dataset_id\n",
    "    format = 'csv'\n",
    "\n",
    "    url = f'{base_url}{dataset_id}/exports/{format}'\n",
    "    params = {\n",
    "    'select': '*',\n",
    "    'limit': -1, # all records\n",
    "    'lang': 'en',\n",
    "    'timezone': 'UTC',\n",
    "    'api_key': API_KEY #use if use datasets require API key permissions\n",
    "    }\n",
    "\n",
    "    # GET request\n",
    "    response = requests.get(url, params=params)\n",
    "    if response.status_code == 200:\n",
    "        # StringIO to read the CSV data\n",
    "        url_content = response.content.decode('utf-8')\n",
    "        dataset = pd.read_csv(StringIO(url_content), delimiter=';')\n",
    "        return dataset \n",
    "    else:\n",
    "        print(f'Request failed with status code {response.status_code}')\n",
    "\n",
    "# Read data using the function\n",
    "cafe_df = collect_data('cafes-and-restaurants-with-seating-capacity')\n",
    "emp_block_df = collect_data('employment-by-block-by-clue-industry')\n",
    "block_df = collect_data('blocks-for-census-of-land-use-and-employment-clue')"
   ]
  },
  {
   "cell_type": "markdown",
   "metadata": {},
   "source": [
    "### Learn and explore the data"
   ]
  },
  {
   "cell_type": "markdown",
   "metadata": {},
   "source": [
    "#### Cafes/Restaurants with seating capacity"
   ]
  },
  {
   "cell_type": "code",
   "execution_count": 4,
   "metadata": {},
   "outputs": [
    {
     "name": "stdout",
     "output_type": "stream",
     "text": [
      "Shape of the cafe_df:\t(60055, 15)\n"
     ]
    },
    {
     "data": {
      "text/html": [
       "<div>\n",
       "<style scoped>\n",
       "    .dataframe tbody tr th:only-of-type {\n",
       "        vertical-align: middle;\n",
       "    }\n",
       "\n",
       "    .dataframe tbody tr th {\n",
       "        vertical-align: top;\n",
       "    }\n",
       "\n",
       "    .dataframe thead th {\n",
       "        text-align: right;\n",
       "    }\n",
       "</style>\n",
       "<table border=\"1\" class=\"dataframe\">\n",
       "  <thead>\n",
       "    <tr style=\"text-align: right;\">\n",
       "      <th></th>\n",
       "      <th>census_year</th>\n",
       "      <th>block_id</th>\n",
       "      <th>property_id</th>\n",
       "      <th>base_property_id</th>\n",
       "      <th>building_address</th>\n",
       "      <th>clue_small_area</th>\n",
       "      <th>trading_name</th>\n",
       "      <th>business_address</th>\n",
       "      <th>industry_anzsic4_code</th>\n",
       "      <th>industry_anzsic4_description</th>\n",
       "      <th>seating_type</th>\n",
       "      <th>number_of_seats</th>\n",
       "      <th>longitude</th>\n",
       "      <th>latitude</th>\n",
       "      <th>location</th>\n",
       "    </tr>\n",
       "  </thead>\n",
       "  <tbody>\n",
       "    <tr>\n",
       "      <th>0</th>\n",
       "      <td>2017</td>\n",
       "      <td>6</td>\n",
       "      <td>578324</td>\n",
       "      <td>573333</td>\n",
       "      <td>2 Swanston Street MELBOURNE 3000</td>\n",
       "      <td>Melbourne (CBD)</td>\n",
       "      <td>Transport Hotel</td>\n",
       "      <td>Tenancy 29, Ground , 2 Swanston Street MELBOUR...</td>\n",
       "      <td>4520</td>\n",
       "      <td>Pubs, Taverns and Bars</td>\n",
       "      <td>Seats - Indoor</td>\n",
       "      <td>230</td>\n",
       "      <td>144.969942</td>\n",
       "      <td>-37.817778</td>\n",
       "      <td>-37.817777826050005, 144.96994164279243</td>\n",
       "    </tr>\n",
       "    <tr>\n",
       "      <th>1</th>\n",
       "      <td>2017</td>\n",
       "      <td>6</td>\n",
       "      <td>578324</td>\n",
       "      <td>573333</td>\n",
       "      <td>2 Swanston Street MELBOURNE 3000</td>\n",
       "      <td>Melbourne (CBD)</td>\n",
       "      <td>Transport Hotel</td>\n",
       "      <td>Tenancy 29, Ground , 2 Swanston Street MELBOUR...</td>\n",
       "      <td>4520</td>\n",
       "      <td>Pubs, Taverns and Bars</td>\n",
       "      <td>Seats - Outdoor</td>\n",
       "      <td>120</td>\n",
       "      <td>144.969942</td>\n",
       "      <td>-37.817778</td>\n",
       "      <td>-37.817777826050005, 144.96994164279243</td>\n",
       "    </tr>\n",
       "    <tr>\n",
       "      <th>2</th>\n",
       "      <td>2017</td>\n",
       "      <td>11</td>\n",
       "      <td>103957</td>\n",
       "      <td>103957</td>\n",
       "      <td>517-537 Flinders Lane MELBOURNE 3000</td>\n",
       "      <td>Melbourne (CBD)</td>\n",
       "      <td>Altius Coffee Brewers</td>\n",
       "      <td>Shop , Ground , 517 Flinders Lane MELBOURNE 3000</td>\n",
       "      <td>4512</td>\n",
       "      <td>Takeaway Food Services</td>\n",
       "      <td>Seats - Outdoor</td>\n",
       "      <td>4</td>\n",
       "      <td>144.956486</td>\n",
       "      <td>-37.819875</td>\n",
       "      <td>-37.819875445799994, 144.95648638781466</td>\n",
       "    </tr>\n",
       "    <tr>\n",
       "      <th>3</th>\n",
       "      <td>2017</td>\n",
       "      <td>11</td>\n",
       "      <td>103957</td>\n",
       "      <td>103957</td>\n",
       "      <td>517-537 Flinders Lane MELBOURNE 3000</td>\n",
       "      <td>Melbourne (CBD)</td>\n",
       "      <td>Five &amp; Dime Bagel</td>\n",
       "      <td>16 Flinders Lane MELBOURNE 3000</td>\n",
       "      <td>1174</td>\n",
       "      <td>Bakery Product Manufacturing (Non-factory based)</td>\n",
       "      <td>Seats - Indoor</td>\n",
       "      <td>14</td>\n",
       "      <td>144.956486</td>\n",
       "      <td>-37.819875</td>\n",
       "      <td>-37.819875445799994, 144.95648638781466</td>\n",
       "    </tr>\n",
       "    <tr>\n",
       "      <th>4</th>\n",
       "      <td>2017</td>\n",
       "      <td>11</td>\n",
       "      <td>103985</td>\n",
       "      <td>103985</td>\n",
       "      <td>562-564 Flinders Street MELBOURNE 3000</td>\n",
       "      <td>Melbourne (CBD)</td>\n",
       "      <td>YHA Melbourne Central</td>\n",
       "      <td>562-564 Flinders Street MELBOURNE 3000</td>\n",
       "      <td>4400</td>\n",
       "      <td>Accommodation</td>\n",
       "      <td>Seats - Indoor</td>\n",
       "      <td>43</td>\n",
       "      <td>144.955635</td>\n",
       "      <td>-37.820595</td>\n",
       "      <td>-37.82059511593975, 144.9556348088</td>\n",
       "    </tr>\n",
       "  </tbody>\n",
       "</table>\n",
       "</div>"
      ],
      "text/plain": [
       "   census_year  block_id  property_id  base_property_id  \\\n",
       "0         2017         6       578324            573333   \n",
       "1         2017         6       578324            573333   \n",
       "2         2017        11       103957            103957   \n",
       "3         2017        11       103957            103957   \n",
       "4         2017        11       103985            103985   \n",
       "\n",
       "                         building_address  clue_small_area  \\\n",
       "0        2 Swanston Street MELBOURNE 3000  Melbourne (CBD)   \n",
       "1        2 Swanston Street MELBOURNE 3000  Melbourne (CBD)   \n",
       "2    517-537 Flinders Lane MELBOURNE 3000  Melbourne (CBD)   \n",
       "3    517-537 Flinders Lane MELBOURNE 3000  Melbourne (CBD)   \n",
       "4  562-564 Flinders Street MELBOURNE 3000  Melbourne (CBD)   \n",
       "\n",
       "            trading_name                                   business_address  \\\n",
       "0        Transport Hotel  Tenancy 29, Ground , 2 Swanston Street MELBOUR...   \n",
       "1        Transport Hotel  Tenancy 29, Ground , 2 Swanston Street MELBOUR...   \n",
       "2  Altius Coffee Brewers   Shop , Ground , 517 Flinders Lane MELBOURNE 3000   \n",
       "3      Five & Dime Bagel                    16 Flinders Lane MELBOURNE 3000   \n",
       "4  YHA Melbourne Central             562-564 Flinders Street MELBOURNE 3000   \n",
       "\n",
       "   industry_anzsic4_code                      industry_anzsic4_description  \\\n",
       "0                   4520                            Pubs, Taverns and Bars   \n",
       "1                   4520                            Pubs, Taverns and Bars   \n",
       "2                   4512                            Takeaway Food Services   \n",
       "3                   1174  Bakery Product Manufacturing (Non-factory based)   \n",
       "4                   4400                                     Accommodation   \n",
       "\n",
       "      seating_type  number_of_seats   longitude   latitude  \\\n",
       "0   Seats - Indoor              230  144.969942 -37.817778   \n",
       "1  Seats - Outdoor              120  144.969942 -37.817778   \n",
       "2  Seats - Outdoor                4  144.956486 -37.819875   \n",
       "3   Seats - Indoor               14  144.956486 -37.819875   \n",
       "4   Seats - Indoor               43  144.955635 -37.820595   \n",
       "\n",
       "                                  location  \n",
       "0  -37.817777826050005, 144.96994164279243  \n",
       "1  -37.817777826050005, 144.96994164279243  \n",
       "2  -37.819875445799994, 144.95648638781466  \n",
       "3  -37.819875445799994, 144.95648638781466  \n",
       "4       -37.82059511593975, 144.9556348088  "
      ]
     },
     "execution_count": 4,
     "metadata": {},
     "output_type": "execute_result"
    }
   ],
   "source": [
    "print(f'Shape of the cafe_df:\\t{cafe_df.shape}')\n",
    "cafe_df.head(5)"
   ]
  },
  {
   "cell_type": "code",
   "execution_count": 5,
   "metadata": {},
   "outputs": [
    {
     "name": "stdout",
     "output_type": "stream",
     "text": [
      "-------------------- cafe_df Info --------------------\n",
      "\n",
      "<class 'pandas.core.frame.DataFrame'>\n",
      "RangeIndex: 60055 entries, 0 to 60054\n",
      "Data columns (total 15 columns):\n",
      " #   Column                        Non-Null Count  Dtype  \n",
      "---  ------                        --------------  -----  \n",
      " 0   census_year                   60055 non-null  int64  \n",
      " 1   block_id                      60055 non-null  int64  \n",
      " 2   property_id                   60055 non-null  int64  \n",
      " 3   base_property_id              60055 non-null  int64  \n",
      " 4   building_address              60055 non-null  object \n",
      " 5   clue_small_area               60055 non-null  object \n",
      " 6   trading_name                  60055 non-null  object \n",
      " 7   business_address              60055 non-null  object \n",
      " 8   industry_anzsic4_code         60055 non-null  int64  \n",
      " 9   industry_anzsic4_description  60055 non-null  object \n",
      " 10  seating_type                  60055 non-null  object \n",
      " 11  number_of_seats               60055 non-null  int64  \n",
      " 12  longitude                     59528 non-null  float64\n",
      " 13  latitude                      59528 non-null  float64\n",
      " 14  location                      59528 non-null  object \n",
      "dtypes: float64(2), int64(6), object(7)\n",
      "memory usage: 6.9+ MB\n",
      "None\n"
     ]
    }
   ],
   "source": [
    "print('-'*20,'cafe_df Info','-'*20)\n",
    "print()\n",
    "# display all columns, non-null count and their data types\n",
    "print(cafe_df.info())"
   ]
  },
  {
   "cell_type": "markdown",
   "metadata": {},
   "source": [
    "According to the above output there are number of null values in the cafe_df need to be addressed."
   ]
  },
  {
   "cell_type": "markdown",
   "metadata": {},
   "source": [
    "#### Employment by block"
   ]
  },
  {
   "cell_type": "code",
   "execution_count": 6,
   "metadata": {},
   "outputs": [
    {
     "name": "stdout",
     "output_type": "stream",
     "text": [
      "Shape of the emp_block_df:\t(12394, 24)\n"
     ]
    },
    {
     "data": {
      "text/html": [
       "<div>\n",
       "<style scoped>\n",
       "    .dataframe tbody tr th:only-of-type {\n",
       "        vertical-align: middle;\n",
       "    }\n",
       "\n",
       "    .dataframe tbody tr th {\n",
       "        vertical-align: top;\n",
       "    }\n",
       "\n",
       "    .dataframe thead th {\n",
       "        text-align: right;\n",
       "    }\n",
       "</style>\n",
       "<table border=\"1\" class=\"dataframe\">\n",
       "  <thead>\n",
       "    <tr style=\"text-align: right;\">\n",
       "      <th></th>\n",
       "      <th>census_year</th>\n",
       "      <th>block_id</th>\n",
       "      <th>clue_small_area</th>\n",
       "      <th>accommodation</th>\n",
       "      <th>admin_and_support_services</th>\n",
       "      <th>agriculture_and_mining</th>\n",
       "      <th>arts_and_recreation_services</th>\n",
       "      <th>business_services</th>\n",
       "      <th>construction</th>\n",
       "      <th>education_and_training</th>\n",
       "      <th>...</th>\n",
       "      <th>information_media_and_telecommunications</th>\n",
       "      <th>manufacturing</th>\n",
       "      <th>other_services</th>\n",
       "      <th>public_administration_and_safety</th>\n",
       "      <th>real_estate_services</th>\n",
       "      <th>rental_and_hiring_services</th>\n",
       "      <th>retail_trade</th>\n",
       "      <th>transport_postal_and_storage</th>\n",
       "      <th>wholesale_trade</th>\n",
       "      <th>total_jobs_in_block</th>\n",
       "    </tr>\n",
       "  </thead>\n",
       "  <tbody>\n",
       "    <tr>\n",
       "      <th>0</th>\n",
       "      <td>2022</td>\n",
       "      <td>4</td>\n",
       "      <td>Melbourne (CBD)</td>\n",
       "      <td>0.0</td>\n",
       "      <td>0.0</td>\n",
       "      <td>0.0</td>\n",
       "      <td>362.0</td>\n",
       "      <td>0.0</td>\n",
       "      <td>0.0</td>\n",
       "      <td>NaN</td>\n",
       "      <td>...</td>\n",
       "      <td>0.0</td>\n",
       "      <td>0.0</td>\n",
       "      <td>NaN</td>\n",
       "      <td>0.0</td>\n",
       "      <td>0.0</td>\n",
       "      <td>0.0</td>\n",
       "      <td>38.0</td>\n",
       "      <td>368.0</td>\n",
       "      <td>0.0</td>\n",
       "      <td>1008.0</td>\n",
       "    </tr>\n",
       "    <tr>\n",
       "      <th>1</th>\n",
       "      <td>2022</td>\n",
       "      <td>5</td>\n",
       "      <td>Melbourne (CBD)</td>\n",
       "      <td>0.0</td>\n",
       "      <td>0.0</td>\n",
       "      <td>0.0</td>\n",
       "      <td>0.0</td>\n",
       "      <td>0.0</td>\n",
       "      <td>0.0</td>\n",
       "      <td>0.0</td>\n",
       "      <td>...</td>\n",
       "      <td>0.0</td>\n",
       "      <td>0.0</td>\n",
       "      <td>0.0</td>\n",
       "      <td>0.0</td>\n",
       "      <td>0.0</td>\n",
       "      <td>0.0</td>\n",
       "      <td>0.0</td>\n",
       "      <td>0.0</td>\n",
       "      <td>0.0</td>\n",
       "      <td>0.0</td>\n",
       "    </tr>\n",
       "    <tr>\n",
       "      <th>2</th>\n",
       "      <td>2022</td>\n",
       "      <td>6</td>\n",
       "      <td>Melbourne (CBD)</td>\n",
       "      <td>0.0</td>\n",
       "      <td>0.0</td>\n",
       "      <td>0.0</td>\n",
       "      <td>203.0</td>\n",
       "      <td>0.0</td>\n",
       "      <td>0.0</td>\n",
       "      <td>0.0</td>\n",
       "      <td>...</td>\n",
       "      <td>NaN</td>\n",
       "      <td>0.0</td>\n",
       "      <td>NaN</td>\n",
       "      <td>0.0</td>\n",
       "      <td>NaN</td>\n",
       "      <td>0.0</td>\n",
       "      <td>47.0</td>\n",
       "      <td>0.0</td>\n",
       "      <td>0.0</td>\n",
       "      <td>647.0</td>\n",
       "    </tr>\n",
       "    <tr>\n",
       "      <th>3</th>\n",
       "      <td>2022</td>\n",
       "      <td>13</td>\n",
       "      <td>Melbourne (CBD)</td>\n",
       "      <td>NaN</td>\n",
       "      <td>520.0</td>\n",
       "      <td>0.0</td>\n",
       "      <td>NaN</td>\n",
       "      <td>496.0</td>\n",
       "      <td>NaN</td>\n",
       "      <td>NaN</td>\n",
       "      <td>...</td>\n",
       "      <td>55.0</td>\n",
       "      <td>NaN</td>\n",
       "      <td>27.0</td>\n",
       "      <td>0.0</td>\n",
       "      <td>0.0</td>\n",
       "      <td>0.0</td>\n",
       "      <td>NaN</td>\n",
       "      <td>NaN</td>\n",
       "      <td>0.0</td>\n",
       "      <td>2379.0</td>\n",
       "    </tr>\n",
       "    <tr>\n",
       "      <th>4</th>\n",
       "      <td>2022</td>\n",
       "      <td>16</td>\n",
       "      <td>Melbourne (CBD)</td>\n",
       "      <td>NaN</td>\n",
       "      <td>NaN</td>\n",
       "      <td>0.0</td>\n",
       "      <td>86.0</td>\n",
       "      <td>382.0</td>\n",
       "      <td>295.0</td>\n",
       "      <td>NaN</td>\n",
       "      <td>...</td>\n",
       "      <td>0.0</td>\n",
       "      <td>0.0</td>\n",
       "      <td>64.0</td>\n",
       "      <td>0.0</td>\n",
       "      <td>NaN</td>\n",
       "      <td>0.0</td>\n",
       "      <td>60.0</td>\n",
       "      <td>0.0</td>\n",
       "      <td>0.0</td>\n",
       "      <td>2404.0</td>\n",
       "    </tr>\n",
       "  </tbody>\n",
       "</table>\n",
       "<p>5 rows × 24 columns</p>\n",
       "</div>"
      ],
      "text/plain": [
       "   census_year  block_id  clue_small_area  accommodation  \\\n",
       "0         2022         4  Melbourne (CBD)            0.0   \n",
       "1         2022         5  Melbourne (CBD)            0.0   \n",
       "2         2022         6  Melbourne (CBD)            0.0   \n",
       "3         2022        13  Melbourne (CBD)            NaN   \n",
       "4         2022        16  Melbourne (CBD)            NaN   \n",
       "\n",
       "   admin_and_support_services  agriculture_and_mining  \\\n",
       "0                         0.0                     0.0   \n",
       "1                         0.0                     0.0   \n",
       "2                         0.0                     0.0   \n",
       "3                       520.0                     0.0   \n",
       "4                         NaN                     0.0   \n",
       "\n",
       "   arts_and_recreation_services  business_services  construction  \\\n",
       "0                         362.0                0.0           0.0   \n",
       "1                           0.0                0.0           0.0   \n",
       "2                         203.0                0.0           0.0   \n",
       "3                           NaN              496.0           NaN   \n",
       "4                          86.0              382.0         295.0   \n",
       "\n",
       "   education_and_training  ...  information_media_and_telecommunications  \\\n",
       "0                     NaN  ...                                       0.0   \n",
       "1                     0.0  ...                                       0.0   \n",
       "2                     0.0  ...                                       NaN   \n",
       "3                     NaN  ...                                      55.0   \n",
       "4                     NaN  ...                                       0.0   \n",
       "\n",
       "   manufacturing  other_services  public_administration_and_safety  \\\n",
       "0            0.0             NaN                               0.0   \n",
       "1            0.0             0.0                               0.0   \n",
       "2            0.0             NaN                               0.0   \n",
       "3            NaN            27.0                               0.0   \n",
       "4            0.0            64.0                               0.0   \n",
       "\n",
       "   real_estate_services  rental_and_hiring_services  retail_trade  \\\n",
       "0                   0.0                         0.0          38.0   \n",
       "1                   0.0                         0.0           0.0   \n",
       "2                   NaN                         0.0          47.0   \n",
       "3                   0.0                         0.0           NaN   \n",
       "4                   NaN                         0.0          60.0   \n",
       "\n",
       "   transport_postal_and_storage  wholesale_trade  total_jobs_in_block  \n",
       "0                         368.0              0.0               1008.0  \n",
       "1                           0.0              0.0                  0.0  \n",
       "2                           0.0              0.0                647.0  \n",
       "3                           NaN              0.0               2379.0  \n",
       "4                           0.0              0.0               2404.0  \n",
       "\n",
       "[5 rows x 24 columns]"
      ]
     },
     "execution_count": 6,
     "metadata": {},
     "output_type": "execute_result"
    }
   ],
   "source": [
    "print(f'Shape of the emp_block_df:\\t{emp_block_df.shape}')\n",
    "emp_block_df.head(5)"
   ]
  },
  {
   "cell_type": "code",
   "execution_count": 7,
   "metadata": {},
   "outputs": [
    {
     "name": "stdout",
     "output_type": "stream",
     "text": [
      "-------------------- emp_block_df Info --------------------\n",
      "\n",
      "<class 'pandas.core.frame.DataFrame'>\n",
      "RangeIndex: 12394 entries, 0 to 12393\n",
      "Data columns (total 24 columns):\n",
      " #   Column                                    Non-Null Count  Dtype  \n",
      "---  ------                                    --------------  -----  \n",
      " 0   census_year                               12394 non-null  int64  \n",
      " 1   block_id                                  12394 non-null  int64  \n",
      " 2   clue_small_area                           12394 non-null  object \n",
      " 3   accommodation                             9986 non-null   float64\n",
      " 4   admin_and_support_services                10375 non-null  float64\n",
      " 5   agriculture_and_mining                    11795 non-null  float64\n",
      " 6   arts_and_recreation_services              8467 non-null   float64\n",
      " 7   business_services                         10519 non-null  float64\n",
      " 8   construction                              10319 non-null  float64\n",
      " 9   education_and_training                    9841 non-null   float64\n",
      " 10  electricity_gas_water_and_waste_services  9926 non-null   float64\n",
      " 11  finance_and_insurance                     10816 non-null  float64\n",
      " 12  food_and_beverage_services                9766 non-null   float64\n",
      " 13  health_care_and_social_assistance         9834 non-null   float64\n",
      " 14  information_media_and_telecommunications  10096 non-null  float64\n",
      " 15  manufacturing                             10085 non-null  float64\n",
      " 16  other_services                            9114 non-null   float64\n",
      " 17  public_administration_and_safety          10542 non-null  float64\n",
      " 18  real_estate_services                      10603 non-null  float64\n",
      " 19  rental_and_hiring_services                11534 non-null  float64\n",
      " 20  retail_trade                              9884 non-null   float64\n",
      " 21  transport_postal_and_storage              10145 non-null  float64\n",
      " 22  wholesale_trade                           9865 non-null   float64\n",
      " 23  total_jobs_in_block                       9708 non-null   float64\n",
      "dtypes: float64(21), int64(2), object(1)\n",
      "memory usage: 2.3+ MB\n",
      "None\n"
     ]
    }
   ],
   "source": [
    "print('-'*20,'emp_block_df Info','-'*20)\n",
    "print()\n",
    "# display all columns, non-null count and their data types\n",
    "print(emp_block_df.info())"
   ]
  },
  {
   "cell_type": "markdown",
   "metadata": {},
   "source": [
    "According to the above output there are number of null values in the emp_block_df need to be addressed."
   ]
  },
  {
   "cell_type": "markdown",
   "metadata": {},
   "source": [
    "#### Blocks info"
   ]
  },
  {
   "cell_type": "code",
   "execution_count": 8,
   "metadata": {},
   "outputs": [
    {
     "name": "stdout",
     "output_type": "stream",
     "text": [
      "Shape of the block_df:\t(606, 4)\n"
     ]
    },
    {
     "data": {
      "text/html": [
       "<div>\n",
       "<style scoped>\n",
       "    .dataframe tbody tr th:only-of-type {\n",
       "        vertical-align: middle;\n",
       "    }\n",
       "\n",
       "    .dataframe tbody tr th {\n",
       "        vertical-align: top;\n",
       "    }\n",
       "\n",
       "    .dataframe thead th {\n",
       "        text-align: right;\n",
       "    }\n",
       "</style>\n",
       "<table border=\"1\" class=\"dataframe\">\n",
       "  <thead>\n",
       "    <tr style=\"text-align: right;\">\n",
       "      <th></th>\n",
       "      <th>geo_point_2d</th>\n",
       "      <th>geo_shape</th>\n",
       "      <th>block_id</th>\n",
       "      <th>clue_area</th>\n",
       "    </tr>\n",
       "  </thead>\n",
       "  <tbody>\n",
       "    <tr>\n",
       "      <th>0</th>\n",
       "      <td>-37.82296169692379, 144.95049282288122</td>\n",
       "      <td>{\"coordinates\": [[[144.9479230372, -37.8233694...</td>\n",
       "      <td>1112</td>\n",
       "      <td>Docklands</td>\n",
       "    </tr>\n",
       "    <tr>\n",
       "      <th>1</th>\n",
       "      <td>-37.78537422996195, 144.94085920366408</td>\n",
       "      <td>{\"coordinates\": [[[144.9426153438, -37.7866287...</td>\n",
       "      <td>927</td>\n",
       "      <td>Parkville</td>\n",
       "    </tr>\n",
       "    <tr>\n",
       "      <th>2</th>\n",
       "      <td>-37.777687358375964, 144.94600024715058</td>\n",
       "      <td>{\"coordinates\": [[[144.9425926939, -37.7787229...</td>\n",
       "      <td>929</td>\n",
       "      <td>Parkville</td>\n",
       "    </tr>\n",
       "    <tr>\n",
       "      <th>3</th>\n",
       "      <td>-37.796701447217345, 144.94361235073427</td>\n",
       "      <td>{\"coordinates\": [[[144.9447165759, -37.7961286...</td>\n",
       "      <td>318</td>\n",
       "      <td>North Melbourne</td>\n",
       "    </tr>\n",
       "    <tr>\n",
       "      <th>4</th>\n",
       "      <td>-37.79293972627454, 144.94371829763847</td>\n",
       "      <td>{\"coordinates\": [[[144.9453910459, -37.7925266...</td>\n",
       "      <td>302</td>\n",
       "      <td>North Melbourne</td>\n",
       "    </tr>\n",
       "  </tbody>\n",
       "</table>\n",
       "</div>"
      ],
      "text/plain": [
       "                              geo_point_2d  \\\n",
       "0   -37.82296169692379, 144.95049282288122   \n",
       "1   -37.78537422996195, 144.94085920366408   \n",
       "2  -37.777687358375964, 144.94600024715058   \n",
       "3  -37.796701447217345, 144.94361235073427   \n",
       "4   -37.79293972627454, 144.94371829763847   \n",
       "\n",
       "                                           geo_shape  block_id  \\\n",
       "0  {\"coordinates\": [[[144.9479230372, -37.8233694...      1112   \n",
       "1  {\"coordinates\": [[[144.9426153438, -37.7866287...       927   \n",
       "2  {\"coordinates\": [[[144.9425926939, -37.7787229...       929   \n",
       "3  {\"coordinates\": [[[144.9447165759, -37.7961286...       318   \n",
       "4  {\"coordinates\": [[[144.9453910459, -37.7925266...       302   \n",
       "\n",
       "         clue_area  \n",
       "0        Docklands  \n",
       "1        Parkville  \n",
       "2        Parkville  \n",
       "3  North Melbourne  \n",
       "4  North Melbourne  "
      ]
     },
     "execution_count": 8,
     "metadata": {},
     "output_type": "execute_result"
    }
   ],
   "source": [
    "print(f'Shape of the block_df:\\t{block_df.shape}')\n",
    "block_df.head(5)"
   ]
  },
  {
   "cell_type": "code",
   "execution_count": 9,
   "metadata": {},
   "outputs": [
    {
     "name": "stdout",
     "output_type": "stream",
     "text": [
      "-------------------- block_df Info --------------------\n",
      "\n",
      "<class 'pandas.core.frame.DataFrame'>\n",
      "RangeIndex: 606 entries, 0 to 605\n",
      "Data columns (total 4 columns):\n",
      " #   Column        Non-Null Count  Dtype \n",
      "---  ------        --------------  ----- \n",
      " 0   geo_point_2d  606 non-null    object\n",
      " 1   geo_shape     606 non-null    object\n",
      " 2   block_id      606 non-null    int64 \n",
      " 3   clue_area     606 non-null    object\n",
      "dtypes: int64(1), object(3)\n",
      "memory usage: 19.1+ KB\n",
      "None\n"
     ]
    }
   ],
   "source": [
    "print('-'*20,'block_df Info','-'*20)\n",
    "print()\n",
    "# display all columns, non-null count and their data types\n",
    "print(block_df.info())"
   ]
  },
  {
   "cell_type": "markdown",
   "metadata": {},
   "source": [
    "According to the above output there is no missing values in the block_df."
   ]
  },
  {
   "cell_type": "markdown",
   "metadata": {},
   "source": [
    "### Data Preprocessing"
   ]
  },
  {
   "cell_type": "markdown",
   "metadata": {},
   "source": [
    "#### 2.1  Cafes/Restaurants with seating capacity"
   ]
  },
  {
   "cell_type": "code",
   "execution_count": 10,
   "metadata": {},
   "outputs": [
    {
     "name": "stdout",
     "output_type": "stream",
     "text": [
      "-------------------- cafe_df missing values --------------------\n",
      "\n",
      "longitude    527\n",
      "latitude     527\n",
      "location     527\n",
      "dtype: int64\n"
     ]
    }
   ],
   "source": [
    "print('-'*20,'cafe_df missing values','-'*20)\n",
    "print()\n",
    "missing_values = cafe_df.isnull().sum()\n",
    "print(missing_values[missing_values > 0])"
   ]
  },
  {
   "cell_type": "markdown",
   "metadata": {},
   "source": [
    "Based on the above output, the cafe_df contains missing values in the longitude, latitude, and location columns. It is not appropriate to impute these missing values using simple aggregate functions such as mean or median, as these columns represent critical geographical data. \n",
    "\n",
    "Additionally, we cannot drop these records at this stage because we are working with three datasets, and these records may still be valuable when we merge them together later. "
   ]
  },
  {
   "cell_type": "markdown",
   "metadata": {},
   "source": [
    "Data Preprocessing"
   ]
  },
  {
   "cell_type": "code",
   "execution_count": 4,
   "metadata": {},
   "outputs": [
    {
     "ename": "NameError",
     "evalue": "name 'cafes_df' is not defined",
     "output_type": "error",
     "traceback": [
      "\u001b[1;31m---------------------------------------------------------------------------\u001b[0m",
      "\u001b[1;31mNameError\u001b[0m                                 Traceback (most recent call last)",
      "Cell \u001b[1;32mIn[4], line 2\u001b[0m\n\u001b[0;32m      1\u001b[0m \u001b[38;5;66;03m# First, check for duplicates in the dataset\u001b[39;00m\n\u001b[1;32m----> 2\u001b[0m duplicates_count \u001b[38;5;241m=\u001b[39m cafes_df\u001b[38;5;241m.\u001b[39mduplicated()\u001b[38;5;241m.\u001b[39msum()\n\u001b[0;32m      4\u001b[0m \u001b[38;5;66;03m# Remove duplicates if any\u001b[39;00m\n\u001b[0;32m      5\u001b[0m cafes_df_cleaned \u001b[38;5;241m=\u001b[39m cafes_df\u001b[38;5;241m.\u001b[39mdrop_duplicates()\n",
      "\u001b[1;31mNameError\u001b[0m: name 'cafes_df' is not defined"
     ]
    }
   ],
   "source": [
    "# First, check for duplicates in the dataset\n",
    "duplicates_count = cafes_df.duplicated().sum()\n",
    "\n",
    "# Remove duplicates if any\n",
    "cafes_df_cleaned = cafes_df.drop_duplicates()\n",
    "\n",
    "# Check again for the number of duplicates after removing them\n",
    "duplicates_after = cafes_df_cleaned.duplicated().sum()\n",
    "\n",
    "# Display the result\n",
    "duplicates_count, duplicates_after\n"
   ]
  },
  {
   "cell_type": "code",
   "execution_count": 2,
   "metadata": {},
   "outputs": [
    {
     "name": "stdout",
     "output_type": "stream",
     "text": [
      "Collecting geopyNote: you may need to restart the kernel to use updated packages.\n",
      "\n",
      "  Downloading geopy-2.4.1-py3-none-any.whl.metadata (6.8 kB)\n",
      "Collecting geographiclib<3,>=1.52 (from geopy)\n",
      "  Downloading geographiclib-2.0-py3-none-any.whl.metadata (1.4 kB)\n",
      "Downloading geopy-2.4.1-py3-none-any.whl (125 kB)\n",
      "   ---------------------------------------- 0.0/125.4 kB ? eta -:--:--\n",
      "   --- ------------------------------------ 10.2/125.4 kB ? eta -:--:--\n",
      "   ------------ -------------------------- 41.0/125.4 kB 991.0 kB/s eta 0:00:01\n",
      "   ---------------------------------------- 125.4/125.4 kB 1.9 MB/s eta 0:00:00\n",
      "Downloading geographiclib-2.0-py3-none-any.whl (40 kB)\n",
      "   ---------------------------------------- 0.0/40.3 kB ? eta -:--:--\n",
      "   ---------------------------------------- 40.3/40.3 kB 970.5 kB/s eta 0:00:00\n",
      "Installing collected packages: geographiclib, geopy\n",
      "Successfully installed geographiclib-2.0 geopy-2.4.1\n"
     ]
    }
   ],
   "source": [
    "pip install geopy\n"
   ]
  },
  {
   "cell_type": "code",
   "execution_count": 3,
   "metadata": {},
   "outputs": [
    {
     "ename": "NameError",
     "evalue": "name 'cafes_df_cleaned' is not defined",
     "output_type": "error",
     "traceback": [
      "\u001b[1;31m---------------------------------------------------------------------------\u001b[0m",
      "\u001b[1;31mNameError\u001b[0m                                 Traceback (most recent call last)",
      "Cell \u001b[1;32mIn[3], line 24\u001b[0m\n\u001b[0;32m     21\u001b[0m     \u001b[38;5;28;01mreturn\u001b[39;00m \u001b[38;5;28;01mNone\u001b[39;00m, \u001b[38;5;28;01mNone\u001b[39;00m\n\u001b[0;32m     23\u001b[0m \u001b[38;5;66;03m# Identify rows with missing latitude and longitude\u001b[39;00m\n\u001b[1;32m---> 24\u001b[0m missing_lat_long \u001b[38;5;241m=\u001b[39m cafes_df_cleaned[cafes_df_cleaned[\u001b[38;5;124m'\u001b[39m\u001b[38;5;124mLatitude\u001b[39m\u001b[38;5;124m'\u001b[39m]\u001b[38;5;241m.\u001b[39misnull() \u001b[38;5;241m&\u001b[39m cafes_df_cleaned[\u001b[38;5;124m'\u001b[39m\u001b[38;5;124mLongitude\u001b[39m\u001b[38;5;124m'\u001b[39m]\u001b[38;5;241m.\u001b[39misnull()]\n\u001b[0;32m     26\u001b[0m \u001b[38;5;66;03m# Geocode the missing values\u001b[39;00m\n\u001b[0;32m     27\u001b[0m \u001b[38;5;28;01mfor\u001b[39;00m idx, row \u001b[38;5;129;01min\u001b[39;00m missing_lat_long\u001b[38;5;241m.\u001b[39miterrows():\n",
      "\u001b[1;31mNameError\u001b[0m: name 'cafes_df_cleaned' is not defined"
     ]
    }
   ],
   "source": [
    "from geopy.geocoders import Nominatim\n",
    "from geopy.exc import GeocoderTimedOut, GeocoderServiceError\n",
    "import time\n",
    "\n",
    "# Initialize the geocoder\n",
    "geolocator = Nominatim(user_agent=\"cafe_geocoder\")\n",
    "\n",
    "# Function to get latitude and longitude based on address with retry logic\n",
    "def get_lat_long(address, retries=3):\n",
    "    for attempt in range(retries):\n",
    "        try:\n",
    "            location = geolocator.geocode(address, timeout=10)\n",
    "            if location:\n",
    "                return location.latitude, location.longitude\n",
    "            else:\n",
    "                return None, None\n",
    "        except (GeocoderTimedOut, GeocoderServiceError):\n",
    "            time.sleep(1)  # Wait before retrying\n",
    "        except Exception as e:\n",
    "            return None, None\n",
    "    return None, None\n",
    "\n",
    "# Identify rows with missing latitude and longitude\n",
    "missing_lat_long = cafes_df_cleaned[cafes_df_cleaned['Latitude'].isnull() & cafes_df_cleaned['Longitude'].isnull()]\n",
    "\n",
    "# Geocode the missing values\n",
    "for idx, row in missing_lat_long.iterrows():\n",
    "    lat, long = get_lat_long(row['Building address'])\n",
    "    if lat is not None and long is not None:\n",
    "        cafes_df_cleaned.at[idx, 'Latitude'] = lat\n",
    "        cafes_df_cleaned.at[idx, 'Longitude'] = long\n",
    "\n",
    "# Check how many missing values are left after the geocoding process\n",
    "remaining_missing = cafes_df_cleaned[['Latitude', 'Longitude']].isnull().sum()\n",
    "\n",
    "print(\"Remaining missing values after geocoding:\")\n",
    "print(remaining_missing)\n"
   ]
  },
  {
   "cell_type": "markdown",
   "metadata": {},
   "source": [
    "#### Employment by block"
   ]
  },
  {
   "cell_type": "markdown",
   "metadata": {},
   "source": [
    "### Missing Values"
   ]
  },
  {
   "cell_type": "code",
   "execution_count": 11,
   "metadata": {},
   "outputs": [
    {
     "name": "stdout",
     "output_type": "stream",
     "text": [
      "-------------------- emp_block_df missing values --------------------\n",
      "\n",
      "accommodation                               2408\n",
      "admin_and_support_services                  2019\n",
      "agriculture_and_mining                       599\n",
      "arts_and_recreation_services                3927\n",
      "business_services                           1875\n",
      "construction                                2075\n",
      "education_and_training                      2553\n",
      "electricity_gas_water_and_waste_services    2468\n",
      "finance_and_insurance                       1578\n",
      "food_and_beverage_services                  2628\n",
      "health_care_and_social_assistance           2560\n",
      "information_media_and_telecommunications    2298\n",
      "manufacturing                               2309\n",
      "other_services                              3280\n",
      "public_administration_and_safety            1852\n",
      "real_estate_services                        1791\n",
      "rental_and_hiring_services                   860\n",
      "retail_trade                                2510\n",
      "transport_postal_and_storage                2249\n",
      "wholesale_trade                             2529\n",
      "total_jobs_in_block                         2686\n",
      "dtype: int64\n"
     ]
    }
   ],
   "source": [
    "print('-'*20,'emp_block_df missing values','-'*20)\n",
    "print()\n",
    "missing_values = emp_block_df.isnull().sum()\n",
    "print(missing_values[missing_values > 0])"
   ]
  },
  {
   "cell_type": "code",
   "execution_count": 12,
   "metadata": {},
   "outputs": [
    {
     "data": {
      "image/png": "[encoded data removed]",
      "text/plain": [
       "<Figure size 400x400 with 1 Axes>"
      ]
     },
     "metadata": {},
     "output_type": "display_data"
    }
   ],
   "source": [
    "# Step 1: Count missing and non-missing values\n",
    "missing_total_jobs_count = emp_block_df['total_jobs_in_block'].isnull().sum()\n",
    "non_missing_total_jobs_count = emp_block_df['total_jobs_in_block'].notnull().sum()\n",
    "\n",
    "# Create a dictionary for the counts\n",
    "missing_data = {\n",
    "    'Missing': missing_total_jobs_count,\n",
    "    'Non-Missing': non_missing_total_jobs_count\n",
    "}\n",
    "\n",
    "# Step 2: Create a pie chart\n",
    "labels = list(missing_data.keys())\n",
    "sizes = list(missing_data.values())\n",
    "colors = ['lightcoral', 'lightskyblue']\n",
    "explode = (0.1, 0)  # explode the slice for missing values\n",
    "\n",
    "plt.figure(figsize=(4, 4))\n",
    "plt.pie(sizes, explode=explode, labels=labels, colors=colors,\n",
    "        autopct='%1.1f%%', shadow=True, startangle=140)\n",
    "plt.title('Missing Values in total_jobs_in_block')\n",
    "plt.axis('equal')  # Equal aspect ratio ensures that pie is drawn as a circle.\n",
    "\n",
    "# Display the pie chart\n",
    "plt.show()"
   ]
  },
  {
   "cell_type": "markdown",
   "metadata": {},
   "source": [
    "The above figure illustrates that approximately 21.7% of the values in the total_jobs_in_block column are missing. This is a significant issue that we need to handle properly. Because total number of jobs in each block is a key fact analyzing the hot spot for restaurants. otherwise, it could mislead the findings. \n",
    "\n",
    "The presence of such a substantial portion of missing data can introduce bias, lead to loss of information, and affect the accuracy and reliability of our analysis. Therefore, careful consideration and appropriate imputation methods are necessary to address this issue"
   ]
  },
  {
   "cell_type": "code",
   "execution_count": 13,
   "metadata": {},
   "outputs": [
    {
     "name": "stdout",
     "output_type": "stream",
     "text": [
      "Number of unique block IDs with missing total_jobs_in_block: 207\n"
     ]
    }
   ],
   "source": [
    "# Filter the rows where total_jobs_in_block is missing\n",
    "missing_total_jobs = emp_block_df[emp_block_df['total_jobs_in_block'].isnull()]\n",
    "\n",
    "# Get the count of unique block IDs with missing total_jobs_in_block\n",
    "unique_block_ids_count = missing_total_jobs['block_id'].nunique()\n",
    "\n",
    "print(f\"Number of unique block IDs with missing total_jobs_in_block: {unique_block_ids_count}\")\n"
   ]
  },
  {
   "cell_type": "code",
   "execution_count": 14,
   "metadata": {},
   "outputs": [
    {
     "name": "stdout",
     "output_type": "stream",
     "text": [
      "Number of unique block IDs in the entire dataset: 607\n"
     ]
    }
   ],
   "source": [
    "# Get the count of unique block IDs in the entire dataset\n",
    "unique_block_ids_total = emp_block_df['block_id'].nunique()\n",
    "\n",
    "print(f\"Number of unique block IDs in the entire dataset: {unique_block_ids_total}\")\n"
   ]
  },
  {
   "cell_type": "markdown",
   "metadata": {},
   "source": [
    "Impute missing values in total_jobs_in_block column, by the mean of related block_id group. Still need to improve this metod.\n",
    "\n",
    "WIP . . ."
   ]
  },
  {
   "cell_type": "code",
   "execution_count": 15,
   "metadata": {},
   "outputs": [
    {
     "name": "stdout",
     "output_type": "stream",
     "text": [
      "   census_year  block_id  clue_small_area  accommodation  \\\n",
      "0         2022         4  Melbourne (CBD)            0.0   \n",
      "1         2022         5  Melbourne (CBD)            0.0   \n",
      "2         2022         6  Melbourne (CBD)            0.0   \n",
      "3         2022        13  Melbourne (CBD)            NaN   \n",
      "4         2022        16  Melbourne (CBD)            NaN   \n",
      "\n",
      "   admin_and_support_services  agriculture_and_mining  \\\n",
      "0                         0.0                     0.0   \n",
      "1                         0.0                     0.0   \n",
      "2                         0.0                     0.0   \n",
      "3                       520.0                     0.0   \n",
      "4                         NaN                     0.0   \n",
      "\n",
      "   arts_and_recreation_services  business_services  construction  \\\n",
      "0                         362.0                0.0           0.0   \n",
      "1                           0.0                0.0           0.0   \n",
      "2                         203.0                0.0           0.0   \n",
      "3                           NaN              496.0           NaN   \n",
      "4                          86.0              382.0         295.0   \n",
      "\n",
      "   education_and_training  ...  manufacturing  other_services  \\\n",
      "0                     NaN  ...            0.0             NaN   \n",
      "1                     0.0  ...            0.0             0.0   \n",
      "2                     0.0  ...            0.0             NaN   \n",
      "3                     NaN  ...            NaN            27.0   \n",
      "4                     NaN  ...            0.0            64.0   \n",
      "\n",
      "   public_administration_and_safety  real_estate_services  \\\n",
      "0                               0.0                   0.0   \n",
      "1                               0.0                   0.0   \n",
      "2                               0.0                   NaN   \n",
      "3                               0.0                   0.0   \n",
      "4                               0.0                   NaN   \n",
      "\n",
      "   rental_and_hiring_services  retail_trade  transport_postal_and_storage  \\\n",
      "0                         0.0          38.0                         368.0   \n",
      "1                         0.0           0.0                           0.0   \n",
      "2                         0.0          47.0                           0.0   \n",
      "3                         0.0           NaN                           NaN   \n",
      "4                         0.0          60.0                           0.0   \n",
      "\n",
      "   wholesale_trade  total_jobs_in_block  total_jobs_in_block_imputed  \n",
      "0              0.0               1008.0                  1008.000000  \n",
      "1              0.0                  0.0                    14.761905  \n",
      "2              0.0                647.0                   647.000000  \n",
      "3              0.0               2379.0                  2379.000000  \n",
      "4              0.0               2404.0                  2404.000000  \n",
      "\n",
      "[5 rows x 25 columns]\n"
     ]
    }
   ],
   "source": [
    "# Calculate the mean of total jobs in each block\n",
    "block_mean_jobs = emp_block_df.groupby('block_id')['total_jobs_in_block'].transform('mean')\n",
    "\n",
    "# Create a new column for the imputed total jobs in block\n",
    "emp_block_df['total_jobs_in_block_imputed'] = emp_block_df.apply(\n",
    "    lambda row: row['total_jobs_in_block'] if pd.notnull(row['total_jobs_in_block']) and row['total_jobs_in_block'] != 0\n",
    "    else block_mean_jobs[row.name],\n",
    "    axis=1\n",
    ")\n",
    "\n",
    "print(emp_block_df.head())"
   ]
  },
  {
   "cell_type": "code",
   "execution_count": 16,
   "metadata": {},
   "outputs": [
    {
     "data": {
      "image/png": "[encoded data removed]",
      "text/plain": [
       "<Figure size 1000x600 with 1 Axes>"
      ]
     },
     "metadata": {},
     "output_type": "display_data"
    }
   ],
   "source": [
    "# Grouping the data by 'census_year' and summing up the 'total_jobs_in_block'\n",
    "jobs_by_year = emp_block_df.groupby('census_year')['total_jobs_in_block'].sum()\n",
    "\n",
    "# Ensure the job totals are integers\n",
    "jobs_by_year = jobs_by_year.astype(int)\n",
    "\n",
    "# Plotting the data\n",
    "plt.figure(figsize=(10, 6))\n",
    "jobs_by_year.plot(kind='line', marker='o')\n",
    "plt.title('Total Jobs Increment Over the Years')\n",
    "plt.xlabel('Year')\n",
    "plt.ylabel('Total Jobs')\n",
    "\n",
    "# Setting x-ticks to show only some of the years (e.g., every 5 years)\n",
    "plt.xticks(ticks=jobs_by_year.index[::5], labels=[str(year) for year in jobs_by_year.index[::5]])\n",
    "\n",
    "plt.grid(False)  # Disable the grid\n",
    "\n",
    "plt.show()"
   ]
  },
  {
   "cell_type": "code",
   "execution_count": 17,
   "metadata": {},
   "outputs": [
    {
     "data": {
      "image/png": "[encoded data removed]",
      "text/plain": [
       "<Figure size 1000x600 with 1 Axes>"
      ]
     },
     "metadata": {},
     "output_type": "display_data"
    }
   ],
   "source": [
    "# Grouping the data by 'census_year' and summing up the 'number_of_seats'\n",
    "seating_by_year = cafe_df.groupby('census_year')['number_of_seats'].sum()\n",
    "\n",
    "# Plotting the data\n",
    "plt.figure(figsize=(10, 6))\n",
    "seating_by_year.plot(kind='line', marker='o', color='orange')\n",
    "plt.title('Restaurant Seating Capacity Over the Years')\n",
    "plt.xlabel('Year')\n",
    "plt.ylabel('Total Seating Capacity')\n",
    "\n",
    "# Setting x-ticks to show only some of the years (e.g., every 5 years)\n",
    "plt.xticks(ticks=seating_by_year.index[::5], labels=[str(year) for year in seating_by_year.index[::5]])\n",
    "\n",
    "plt.grid(False)  # Disable the grid\n",
    "\n",
    "plt.show()\n"
   ]
  }
 ],
 "metadata": {
  "kernelspec": {
   "display_name": "venv",
   "language": "python",
   "name": "python3"
  },
  "language_info": {
   "codemirror_mode": {
    "name": "ipython",
    "version": 3
   },
   "file_extension": ".py",
   "mimetype": "text/x-python",
   "name": "python",
   "nbconvert_exporter": "python",
   "pygments_lexer": "ipython3",
   "version": "3.11.7"
  }
 },
 "nbformat": 4,
 "nbformat_minor": 2
}
