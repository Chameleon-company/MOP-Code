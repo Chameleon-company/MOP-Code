{
 "cells": [
  {
   "cell_type": "markdown",
   "id": "b8c700cc-35a3-4b5b-b33b-03781e6e71fe",
   "metadata": {},
   "source": [
    "<h1><b>T3 SIT731: Task 1P Introduction to Python </b></h1>"
   ]
  },
  {
   "cell_type": "markdown",
   "id": "7f8e5d16-59f8-4373-95ab-30ec2d94df9b",
   "metadata": {},
   "source": [
    "<ul><b>\n",
    "<li>Student Name: Jane Doe</li>\n",
    "<li>Student Number : ABC123</li>\n",
    "<li>Student Email Address: JaneDoe@deakin.edu.au</li>\n",
    "<li>Postgraduate Student</li>\n",
    "</b></ul>"
   ]
  },
  {
   "cell_type": "markdown",
   "id": "0a040588-771c-4793-a117-5f7ee00bd934",
   "metadata": {},
   "source": [
    "<h3><b>Introduction</b></h3>\n",
    "This task is about using python to perfrom various activities on data. These activities include printing data to see its features."
   ]
  },
  {
   "cell_type": "markdown",
   "id": "6edbca1b-019d-429c-8dc7-1c471cb72e2a",
   "metadata": {},
   "source": [
    "<h3><b>Code Blocks</b></h3>"
   ]
  },
  {
   "cell_type": "code",
   "execution_count": 3,
   "id": "f2cca73c-150e-44b6-8a23-c5bb3a1cb269",
   "metadata": {},
   "outputs": [
    {
     "name": "stdout",
     "output_type": "stream",
     "text": [
      "Hello World!!\n"
     ]
    }
   ],
   "source": [
    "print(\"Hello World!!\")"
   ]
  },
  {
   "cell_type": "markdown",
   "id": "f1cf50a1-cee3-44d4-a37e-88a049f8fdd5",
   "metadata": {},
   "source": [
    "<b>The code block above prints Hello World. It used print function in python to do so. </b>"
   ]
  },
  {
   "cell_type": "markdown",
   "id": "e8b637cf-975a-4b76-98b5-5a6a3f36e4af",
   "metadata": {},
   "source": [
    "<h3><b>Conclusion</b></h3>\n",
    "In this task we succesfully printed hello world to show how AWESOME python is and how closer to human langugae it is...... *C has left the chat*."
   ]
  }
 ],
 "metadata": {
  "kernelspec": {
   "display_name": "Python 3 (ipykernel)",
   "language": "python",
   "name": "python3"
  },
  "language_info": {
   "codemirror_mode": {
    "name": "ipython",
    "version": 3
   },
   "file_extension": ".py",
   "mimetype": "text/x-python",
   "name": "python",
   "nbconvert_exporter": "python",
   "pygments_lexer": "ipython3",
   "version": "3.11.2"
  }
 },
 "nbformat": 4,
 "nbformat_minor": 5
}
