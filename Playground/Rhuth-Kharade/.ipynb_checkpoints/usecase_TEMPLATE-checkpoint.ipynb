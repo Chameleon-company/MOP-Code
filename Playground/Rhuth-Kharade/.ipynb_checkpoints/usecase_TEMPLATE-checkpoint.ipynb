{
 "cells": [
  {
   "cell_type": "code",
   "execution_count": 529,
   "metadata": {},
   "outputs": [
    {
     "data": {
      "text/html": [
       "\n",
       "<style>\n",
       ".usecase-title, .usecase-duration, .usecase-section-header {\n",
       "    padding-left: 15px;\n",
       "    padding-bottom: 10px;\n",
       "    padding-top: 10px;\n",
       "    padding-right: 15px;\n",
       "    background-color: #0f9295;\n",
       "    color: #fff;\n",
       "}\n",
       "\n",
       ".usecase-title {\n",
       "    font-size: 1.7em;\n",
       "    font-weight: bold;\n",
       "}\n",
       "\n",
       ".usecase-authors, .usecase-level, .usecase-skill {\n",
       "    padding-left: 15px;\n",
       "    padding-bottom: 7px;\n",
       "    padding-top: 7px;\n",
       "    background-color: #baeaeb;\n",
       "    font-size: 1.4em;\n",
       "    color: #121212;\n",
       "}\n",
       "\n",
       ".usecase-level-skill  {\n",
       "    display: flex;\n",
       "}\n",
       "\n",
       ".usecase-level, .usecase-skill {\n",
       "    width: 50%;\n",
       "}\n",
       "\n",
       ".usecase-duration, .usecase-skill {\n",
       "    text-align: right;\n",
       "    padding-right: 15px;\n",
       "    padding-bottom: 8px;\n",
       "    font-size: 1.4em;\n",
       "}\n",
       "\n",
       ".usecase-section-header {\n",
       "    font-weight: bold;\n",
       "    font-size: 1.5em;\n",
       "}\n",
       "\n",
       ".usecase-subsection-header, .usecase-subsection-blurb {\n",
       "    font-weight: bold;\n",
       "    font-size: 1.2em;\n",
       "    color: #121212;\n",
       "}\n",
       "\n",
       ".usecase-subsection-blurb {\n",
       "    font-size: 1em;\n",
       "    font-style: italic;\n",
       "}\n",
       "</style>\n"
      ],
      "text/plain": [
       "<IPython.core.display.HTML object>"
      ]
     },
     "execution_count": 529,
     "metadata": {},
     "output_type": "execute_result"
    }
   ],
   "source": [
    "# DELETE BEFORE PUBLISHING\n",
    "# This is just here so you can preview the styling on your local machine\n",
    "\n",
    "from IPython.core.display import HTML\n",
    "HTML(\"\"\"\n",
    "<style>\n",
    ".usecase-title, .usecase-duration, .usecase-section-header {\n",
    "    padding-left: 15px;\n",
    "    padding-bottom: 10px;\n",
    "    padding-top: 10px;\n",
    "    padding-right: 15px;\n",
    "    background-color: #0f9295;\n",
    "    color: #fff;\n",
    "}\n",
    "\n",
    ".usecase-title {\n",
    "    font-size: 1.7em;\n",
    "    font-weight: bold;\n",
    "}\n",
    "\n",
    ".usecase-authors, .usecase-level, .usecase-skill {\n",
    "    padding-left: 15px;\n",
    "    padding-bottom: 7px;\n",
    "    padding-top: 7px;\n",
    "    background-color: #baeaeb;\n",
    "    font-size: 1.4em;\n",
    "    color: #121212;\n",
    "}\n",
    "\n",
    ".usecase-level-skill  {\n",
    "    display: flex;\n",
    "}\n",
    "\n",
    ".usecase-level, .usecase-skill {\n",
    "    width: 50%;\n",
    "}\n",
    "\n",
    ".usecase-duration, .usecase-skill {\n",
    "    text-align: right;\n",
    "    padding-right: 15px;\n",
    "    padding-bottom: 8px;\n",
    "    font-size: 1.4em;\n",
    "}\n",
    "\n",
    ".usecase-section-header {\n",
    "    font-weight: bold;\n",
    "    font-size: 1.5em;\n",
    "}\n",
    "\n",
    ".usecase-subsection-header, .usecase-subsection-blurb {\n",
    "    font-weight: bold;\n",
    "    font-size: 1.2em;\n",
    "    color: #121212;\n",
    "}\n",
    "\n",
    ".usecase-subsection-blurb {\n",
    "    font-size: 1em;\n",
    "    font-style: italic;\n",
    "}\n",
    "</style>\n",
    "\"\"\")"
   ]
  },
  {
   "cell_type": "markdown",
   "metadata": {},
   "source": [
    "<div class=\"usecase-title\">Population and Job forecasting </div>\n",
    "\n",
    "<div class=\"usecase-authors\"><b>Authored by: Rhutuvaruni Kharade and Tharusha Chao</div>"
   ]
  },
  {
   "cell_type": "markdown",
   "metadata": {},
   "source": [
    "<div class=\"usecase-duration\"><b>Duration:</b> 100 mins</div>\n",
    "\n",
    "<div class=\"usecase-level-skill\">\n",
    "    <div class=\"usecase-level\"><b>Level: </b>Intermediate</div>\n",
    "    <div class=\"usecase-skill\"><b>Pre-requisite Skills: </b>Python, PowerBI, Tableau</div>\n",
    "</div>"
   ]
  },
  {
   "cell_type": "markdown",
   "metadata": {},
   "source": [
    "<div class=\"usecase-section-header\">Scenario</div>"
   ]
  },
  {
   "cell_type": "markdown",
   "metadata": {},
   "source": [
    "<b>As a citizen and a job seeker, I want to find a job in the field that currently has a lot of demand in this area. </b>\n",
    "Job seekers are often worried about which jobs are in high demand or in low demand? Which industry will have higher number of jobs in future ? Which areas have highest numbers of jobs based on a particular industry ? Its important for them to know which jobs they should study for and which city has highest concentration of such jobs so they can plan their living and stay in such areas. By understanding the number of jobs based on a cities, job seekers can ensure that they can get a job or live in close vicinity of that job if they live in a particular areas. \n",
    "\n",
    "<b>As a business owner I want to establish my business where there is a high demand for my service. I want to make sure that the city I am planning to establish my business in has a higher population so I can attract more customers and potential candidates to work for my company. </b>\n",
    "Business owners need to know in which city they should establish their company in. This is based on the population of the area. Number of people living in a particular area can motivate business owners to have their business in such locations. This will also attract many job seekers in these places which will help the businesses find the right candidates (employees) to work for them. \n",
    "\n"
   ]
  },
  {
   "cell_type": "markdown",
   "metadata": {},
   "source": [
    "<div class=\"usecase-section-header\">What this use case will teach you</div>"
   ]
  },
  {
   "cell_type": "markdown",
   "metadata": {},
   "source": [
    "At the end of this use case you will - \n",
    "- Learn how to make open the data in the form of pandas dataframe and save it for futher use.\n",
    "- Have learned how to clean, transform, analyze, visualize data and report outcomes (findings) effectively.\n",
    "- Use the data to create effective visualization like scatterplots, heatmaps, histograms, etc to aid an understanding of the data to technical and non-technical readers\n",
    "- using dashboards for effective story telling to both techical and non-technical audiences. \n",
    "- Using version control tools to collaborate and contribute to the project//\n"
   ]
  },
  {
   "cell_type": "markdown",
   "metadata": {},
   "source": [
    "<div class=\"usecase-section-header\">Introduction</div>"
   ]
  },
  {
   "cell_type": "markdown",
   "metadata": {},
   "source": [
    "This project focuses on finding the relationship between jobs and population. Jobs in different industry impact the population in the area. This project will look at this impact and will also give reader a brief idea about how population changes with respect to the number of jobs in a particular area. The data is sourced from City of Melbourne Open Data which is open source and will be used throughout this project. The dataset will be cleaned, transformed, analyzed, visualized and finally relevant insights will be reported and documented. These findings will help stakeholders, policy makers and other readers for futher decision making.  \n"
   ]
  },
  {
   "cell_type": "markdown",
   "metadata": {},
   "source": [
    "<div class=\"usecase-section-header\">Datasets Used </div>"
   ]
  },
  {
   "cell_type": "markdown",
   "metadata": {},
   "source": [
    "1 : city-of-melbourne-jobs-forecasts-by-small-area-2020-2040\n",
    "\n",
    "2 : city-of-melbourne-population-forecasts-by-small-area-2020-2040"
   ]
  },
  {
   "cell_type": "markdown",
   "metadata": {},
   "source": [
    "<div class=\"usecase-section-header\">Learning Opportunities</div>"
   ]
  },
  {
   "cell_type": "markdown",
   "metadata": {},
   "source": [
    "ADD"
   ]
  },
  {
   "cell_type": "markdown",
   "metadata": {},
   "source": [
    "<div class=\"usecase-section-header\">Importing libraries </div>"
   ]
  },
  {
   "cell_type": "code",
   "execution_count": 530,
   "metadata": {},
   "outputs": [],
   "source": [
    "# importing libraries \n",
    "import pandas as pd \n",
    "import seaborn as sns \n",
    "import numpy as np \n",
    "import requests\n",
    "import os \n",
    "import matplotlib.pyplot as plt \n",
    "#import missingno as msno\n",
    "\n"
   ]
  },
  {
   "cell_type": "markdown",
   "metadata": {},
   "source": [
    "<div class=\"usecase-section-header\">Connecting to Dataset and Testing </div>"
   ]
  },
  {
   "cell_type": "code",
   "execution_count": 531,
   "metadata": {},
   "outputs": [],
   "source": [
    "#job = pd.read_csv(\"city-of-melbourne-jobs-forecasts-by-small-area-2020-2040.csv\")\n",
    "job_data = pd.read_csv(\"https://data.melbourne.vic.gov.au/api/explore/v2.1/catalog/datasets/city-of-melbourne-jobs-forecasts-by-small-area-2020-2040/exports/csv?lang=en&timezone=Australia%2FSydney&use_labels=true&delimiter=%2C\")\n",
    "job = job_data.copy()"
   ]
  },
  {
   "cell_type": "code",
   "execution_count": 532,
   "metadata": {},
   "outputs": [
    {
     "data": {
      "text/html": [
       "<div>\n",
       "<style scoped>\n",
       "    .dataframe tbody tr th:only-of-type {\n",
       "        vertical-align: middle;\n",
       "    }\n",
       "\n",
       "    .dataframe tbody tr th {\n",
       "        vertical-align: top;\n",
       "    }\n",
       "\n",
       "    .dataframe thead th {\n",
       "        text-align: right;\n",
       "    }\n",
       "</style>\n",
       "<table border=\"1\" class=\"dataframe\">\n",
       "  <thead>\n",
       "    <tr style=\"text-align: right;\">\n",
       "      <th></th>\n",
       "      <th>Geography</th>\n",
       "      <th>Year</th>\n",
       "      <th>Category</th>\n",
       "      <th>Industry Space Use</th>\n",
       "      <th>Value</th>\n",
       "    </tr>\n",
       "  </thead>\n",
       "  <tbody>\n",
       "    <tr>\n",
       "      <th>0</th>\n",
       "      <td>City of Melbourne</td>\n",
       "      <td>2023</td>\n",
       "      <td>Jobs by industry</td>\n",
       "      <td>Accommodation</td>\n",
       "      <td>10286</td>\n",
       "    </tr>\n",
       "    <tr>\n",
       "      <th>1</th>\n",
       "      <td>City of Melbourne</td>\n",
       "      <td>2026</td>\n",
       "      <td>Jobs by industry</td>\n",
       "      <td>Accommodation</td>\n",
       "      <td>11631</td>\n",
       "    </tr>\n",
       "    <tr>\n",
       "      <th>2</th>\n",
       "      <td>City of Melbourne</td>\n",
       "      <td>2032</td>\n",
       "      <td>Jobs by industry</td>\n",
       "      <td>Accommodation</td>\n",
       "      <td>13207</td>\n",
       "    </tr>\n",
       "    <tr>\n",
       "      <th>3</th>\n",
       "      <td>City of Melbourne</td>\n",
       "      <td>2034</td>\n",
       "      <td>Jobs by industry</td>\n",
       "      <td>Accommodation</td>\n",
       "      <td>13420</td>\n",
       "    </tr>\n",
       "    <tr>\n",
       "      <th>4</th>\n",
       "      <td>City of Melbourne</td>\n",
       "      <td>2035</td>\n",
       "      <td>Jobs by industry</td>\n",
       "      <td>Accommodation</td>\n",
       "      <td>13529</td>\n",
       "    </tr>\n",
       "  </tbody>\n",
       "</table>\n",
       "</div>"
      ],
      "text/plain": [
       "           Geography  Year          Category Industry Space Use  Value\n",
       "0  City of Melbourne  2023  Jobs by industry      Accommodation  10286\n",
       "1  City of Melbourne  2026  Jobs by industry      Accommodation  11631\n",
       "2  City of Melbourne  2032  Jobs by industry      Accommodation  13207\n",
       "3  City of Melbourne  2034  Jobs by industry      Accommodation  13420\n",
       "4  City of Melbourne  2035  Jobs by industry      Accommodation  13529"
      ]
     },
     "execution_count": 532,
     "metadata": {},
     "output_type": "execute_result"
    }
   ],
   "source": [
    "job.head()"
   ]
  },
  {
   "cell_type": "code",
   "execution_count": 533,
   "metadata": {},
   "outputs": [
    {
     "name": "stdout",
     "output_type": "stream",
     "text": [
      "<class 'pandas.core.frame.DataFrame'>\n",
      "RangeIndex: 9114 entries, 0 to 9113\n",
      "Data columns (total 5 columns):\n",
      " #   Column              Non-Null Count  Dtype \n",
      "---  ------              --------------  ----- \n",
      " 0   Geography           9114 non-null   object\n",
      " 1   Year                9114 non-null   int64 \n",
      " 2   Category            9114 non-null   object\n",
      " 3   Industry Space Use  9114 non-null   object\n",
      " 4   Value               9114 non-null   int64 \n",
      "dtypes: int64(2), object(3)\n",
      "memory usage: 356.1+ KB\n"
     ]
    }
   ],
   "source": [
    "# to get a basic understanding of variables and null values\n",
    "job.info()"
   ]
  },
  {
   "cell_type": "code",
   "execution_count": 534,
   "metadata": {},
   "outputs": [
    {
     "data": {
      "text/plain": [
       "(9114, 5)"
      ]
     },
     "execution_count": 534,
     "metadata": {},
     "output_type": "execute_result"
    }
   ],
   "source": [
    "# To see total numbers of rows and columns \n",
    "job.shape"
   ]
  },
  {
   "cell_type": "code",
   "execution_count": 535,
   "metadata": {},
   "outputs": [],
   "source": [
    "# Renaming columns for ease, making them all lowercase. \n",
    "job = job.rename(columns = {\"Geography\":\"city\", \"Year\":\"year\", \"Category\":\"category\", \"Industry Space Use\": \"industry\", \"Value\": \"value\"} )"
   ]
  },
  {
   "cell_type": "code",
   "execution_count": 536,
   "metadata": {},
   "outputs": [
    {
     "data": {
      "text/plain": [
       "array(['City of Melbourne', 'Carlton', 'Docklands', 'East Melbourne',\n",
       "       'Kensington', 'Melbourne (CBD)', 'Melbourne (Remainder)',\n",
       "       'North Melbourne', 'Parkville', 'Port Melbourne', 'South Yarra',\n",
       "       'Southbank', 'West Melbourne (Industrial)',\n",
       "       'West Melbourne (Residential)'], dtype=object)"
      ]
     },
     "execution_count": 536,
     "metadata": {},
     "output_type": "execute_result"
    }
   ],
   "source": [
    "# In geography columns, to see which unique location it consists of\n",
    "job.city.unique()"
   ]
  },
  {
   "cell_type": "code",
   "execution_count": 537,
   "metadata": {},
   "outputs": [
    {
     "data": {
      "text/plain": [
       "array([2023, 2026, 2032, 2034, 2035, 2021, 2025, 2037, 2040, 2027, 2028,\n",
       "       2036, 2041, 2029, 2031, 2038, 2024, 2030, 2039, 2022, 2033],\n",
       "      dtype=int64)"
      ]
     },
     "execution_count": 537,
     "metadata": {},
     "output_type": "execute_result"
    }
   ],
   "source": [
    "# to check unique years this data is from\n",
    "job.year.unique()"
   ]
  },
  {
   "cell_type": "code",
   "execution_count": 538,
   "metadata": {},
   "outputs": [
    {
     "data": {
      "text/html": [
       "<div>\n",
       "<style scoped>\n",
       "    .dataframe tbody tr th:only-of-type {\n",
       "        vertical-align: middle;\n",
       "    }\n",
       "\n",
       "    .dataframe tbody tr th {\n",
       "        vertical-align: top;\n",
       "    }\n",
       "\n",
       "    .dataframe thead th {\n",
       "        text-align: right;\n",
       "    }\n",
       "</style>\n",
       "<table border=\"1\" class=\"dataframe\">\n",
       "  <thead>\n",
       "    <tr style=\"text-align: right;\">\n",
       "      <th></th>\n",
       "      <th>city</th>\n",
       "      <th>year</th>\n",
       "      <th>category</th>\n",
       "      <th>industry</th>\n",
       "      <th>value</th>\n",
       "    </tr>\n",
       "  </thead>\n",
       "  <tbody>\n",
       "    <tr>\n",
       "      <th>0</th>\n",
       "      <td>City of Melbourne</td>\n",
       "      <td>2023</td>\n",
       "      <td>Jobs by industry</td>\n",
       "      <td>Accommodation</td>\n",
       "      <td>10286</td>\n",
       "    </tr>\n",
       "    <tr>\n",
       "      <th>1</th>\n",
       "      <td>City of Melbourne</td>\n",
       "      <td>2026</td>\n",
       "      <td>Jobs by industry</td>\n",
       "      <td>Accommodation</td>\n",
       "      <td>11631</td>\n",
       "    </tr>\n",
       "    <tr>\n",
       "      <th>2</th>\n",
       "      <td>City of Melbourne</td>\n",
       "      <td>2032</td>\n",
       "      <td>Jobs by industry</td>\n",
       "      <td>Accommodation</td>\n",
       "      <td>13207</td>\n",
       "    </tr>\n",
       "    <tr>\n",
       "      <th>3</th>\n",
       "      <td>City of Melbourne</td>\n",
       "      <td>2034</td>\n",
       "      <td>Jobs by industry</td>\n",
       "      <td>Accommodation</td>\n",
       "      <td>13420</td>\n",
       "    </tr>\n",
       "    <tr>\n",
       "      <th>4</th>\n",
       "      <td>City of Melbourne</td>\n",
       "      <td>2035</td>\n",
       "      <td>Jobs by industry</td>\n",
       "      <td>Accommodation</td>\n",
       "      <td>13529</td>\n",
       "    </tr>\n",
       "    <tr>\n",
       "      <th>...</th>\n",
       "      <td>...</td>\n",
       "      <td>...</td>\n",
       "      <td>...</td>\n",
       "      <td>...</td>\n",
       "      <td>...</td>\n",
       "    </tr>\n",
       "    <tr>\n",
       "      <th>9109</th>\n",
       "      <td>West Melbourne (Residential)</td>\n",
       "      <td>2025</td>\n",
       "      <td>Jobs by space use</td>\n",
       "      <td>Total jobs</td>\n",
       "      <td>5454</td>\n",
       "    </tr>\n",
       "    <tr>\n",
       "      <th>9110</th>\n",
       "      <td>West Melbourne (Residential)</td>\n",
       "      <td>2026</td>\n",
       "      <td>Jobs by space use</td>\n",
       "      <td>Total jobs</td>\n",
       "      <td>5618</td>\n",
       "    </tr>\n",
       "    <tr>\n",
       "      <th>9111</th>\n",
       "      <td>West Melbourne (Residential)</td>\n",
       "      <td>2029</td>\n",
       "      <td>Jobs by space use</td>\n",
       "      <td>Total jobs</td>\n",
       "      <td>6118</td>\n",
       "    </tr>\n",
       "    <tr>\n",
       "      <th>9112</th>\n",
       "      <td>West Melbourne (Residential)</td>\n",
       "      <td>2033</td>\n",
       "      <td>Jobs by space use</td>\n",
       "      <td>Total jobs</td>\n",
       "      <td>6717</td>\n",
       "    </tr>\n",
       "    <tr>\n",
       "      <th>9113</th>\n",
       "      <td>West Melbourne (Residential)</td>\n",
       "      <td>2036</td>\n",
       "      <td>Jobs by space use</td>\n",
       "      <td>Total jobs</td>\n",
       "      <td>7027</td>\n",
       "    </tr>\n",
       "  </tbody>\n",
       "</table>\n",
       "<p>9114 rows × 5 columns</p>\n",
       "</div>"
      ],
      "text/plain": [
       "                              city  year           category       industry  \\\n",
       "0                City of Melbourne  2023   Jobs by industry  Accommodation   \n",
       "1                City of Melbourne  2026   Jobs by industry  Accommodation   \n",
       "2                City of Melbourne  2032   Jobs by industry  Accommodation   \n",
       "3                City of Melbourne  2034   Jobs by industry  Accommodation   \n",
       "4                City of Melbourne  2035   Jobs by industry  Accommodation   \n",
       "...                            ...   ...                ...            ...   \n",
       "9109  West Melbourne (Residential)  2025  Jobs by space use     Total jobs   \n",
       "9110  West Melbourne (Residential)  2026  Jobs by space use     Total jobs   \n",
       "9111  West Melbourne (Residential)  2029  Jobs by space use     Total jobs   \n",
       "9112  West Melbourne (Residential)  2033  Jobs by space use     Total jobs   \n",
       "9113  West Melbourne (Residential)  2036  Jobs by space use     Total jobs   \n",
       "\n",
       "      value  \n",
       "0     10286  \n",
       "1     11631  \n",
       "2     13207  \n",
       "3     13420  \n",
       "4     13529  \n",
       "...     ...  \n",
       "9109   5454  \n",
       "9110   5618  \n",
       "9111   6118  \n",
       "9112   6717  \n",
       "9113   7027  \n",
       "\n",
       "[9114 rows x 5 columns]"
      ]
     },
     "execution_count": 538,
     "metadata": {},
     "output_type": "execute_result"
    }
   ],
   "source": [
    "# to understand uniqe categories in category columns \n",
    "# job.category.unique()\n",
    "job"
   ]
  },
  {
   "cell_type": "code",
   "execution_count": 539,
   "metadata": {},
   "outputs": [
    {
     "data": {
      "text/plain": [
       "array(['Accommodation', 'Admin and support services',\n",
       "       'Agriculture and mining', 'Arts and recreation services',\n",
       "       'Business services', 'Construction', 'Education and training',\n",
       "       'Other services', 'Electricity, gas, water and waste services',\n",
       "       'Finance and insurance', 'Food and beverage services',\n",
       "       'Health care and social assistance',\n",
       "       'Information media and telecommunications', 'Manufacturing',\n",
       "       'Public administration and safety', 'Real estate services',\n",
       "       'Rental and hiring services', 'Retail trade',\n",
       "       'Transport, postal and storage', 'Wholesale trade',\n",
       "       'Accommodation - Commercial', 'Education',\n",
       "       'Entertainment - Hospitality', 'Entertainment - Other', 'Health',\n",
       "       'Industrial', 'Office', 'Other - Employment', 'Retail',\n",
       "       'Total jobs'], dtype=object)"
      ]
     },
     "execution_count": 539,
     "metadata": {},
     "output_type": "execute_result"
    }
   ],
   "source": [
    "job.industry.unique()"
   ]
  },
  {
   "cell_type": "markdown",
   "metadata": {},
   "source": [
    "<div class=\"usecase-section-header\">About Jobs Forecast Dataset. </div>"
   ]
  },
  {
   "cell_type": "markdown",
   "metadata": {},
   "source": [
    "This dataset provides jobs forecasts by single year for 2021 to 2041. Prepared by SGS Economics and Planning (Jan-Jun 2022), forecasts are available for the municipality and small areas, as well as by industry and space use type. This dataset has total of 9114 rows which indicates total cases and 5 columns which indicate variables(features). The dataset contains the following variables (features): \n",
    "    <ul>\n",
    "        <li> <b>city:</b> Geographical area (Melbourne LGA or small areas used for the City of Melbourne's CLUE analysis). Small areas mostly correspond to traditional suburb boundaries. This is a categorical variable of type <b>object</b>. This variable takes value from the following list of locations: <b> 'City of Melbourne', 'Carlton', 'Docklands', 'East Melbourne','Kensington', 'Melbourne (CBD)', 'Melbourne (Remainder)','North Melbourne', 'Parkville', 'Port Melbourne', 'South Yarra','Southbank', 'West Melbourne (Industrial)','West Melbourne (Residential)'</b></li><hr>\n",
    "        <li>\n",
    "            <b>year:</b> This variables shows the year the job were created. This is a numerical variable of type <b>object</b>. Year is from <b>2022 to 2040</b>. </li><hr>\n",
    "        <li>\n",
    "            <b>category:</b> This variables shows the category of the job that was created in that particular year. This is a numerical variable of type <b>object</b>. There are two categories in this variables however we will only look at category by industry.  </li><hr>\n",
    "        <li>\n",
    "            <b>industry_space_use:</b> This variables shows the space used by a particular industry that was established in given year. This is a numerical variable of type <b>object</b></li><hr>\n",
    "        <li>\n",
    "            <b>value:</b> This variables shows the number of jobs created by a particular industry that was established in given year. This is a numerical variable of type <b>integer</b>  \n",
    "        </li>\n",
    "    </ul></i><hr>\n",
    "</ul>\n",
    "</p>"
   ]
  },
  {
   "cell_type": "code",
   "execution_count": 540,
   "metadata": {},
   "outputs": [],
   "source": [
    "#pop = pd.read_csv(\"city-of-melbourne-population-forecasts-by-small-area-2020-2040.csv\")\n",
    "pop = pd.read_csv(\"https://data.melbourne.vic.gov.au/api/explore/v2.1/catalog/datasets/city-of-melbourne-population-forecasts-by-small-area-2020-2040/exports/csv?lang=en&timezone=Australia%2FSydney&use_labels=true&delimiter=%2C\")\n",
    "# pop          "
   ]
  },
  {
   "cell_type": "code",
   "execution_count": 541,
   "metadata": {},
   "outputs": [
    {
     "data": {
      "text/html": [
       "<div>\n",
       "<style scoped>\n",
       "    .dataframe tbody tr th:only-of-type {\n",
       "        vertical-align: middle;\n",
       "    }\n",
       "\n",
       "    .dataframe tbody tr th {\n",
       "        vertical-align: top;\n",
       "    }\n",
       "\n",
       "    .dataframe thead th {\n",
       "        text-align: right;\n",
       "    }\n",
       "</style>\n",
       "<table border=\"1\" class=\"dataframe\">\n",
       "  <thead>\n",
       "    <tr style=\"text-align: right;\">\n",
       "      <th></th>\n",
       "      <th>Geography</th>\n",
       "      <th>Year</th>\n",
       "      <th>Gender</th>\n",
       "      <th>Age</th>\n",
       "      <th>Value</th>\n",
       "    </tr>\n",
       "  </thead>\n",
       "  <tbody>\n",
       "    <tr>\n",
       "      <th>0</th>\n",
       "      <td>City of Melbourne</td>\n",
       "      <td>2021</td>\n",
       "      <td>Female</td>\n",
       "      <td>Age 0-4</td>\n",
       "      <td>1943.0</td>\n",
       "    </tr>\n",
       "    <tr>\n",
       "      <th>1</th>\n",
       "      <td>City of Melbourne</td>\n",
       "      <td>2023</td>\n",
       "      <td>Female</td>\n",
       "      <td>Age 0-4</td>\n",
       "      <td>2477.0</td>\n",
       "    </tr>\n",
       "    <tr>\n",
       "      <th>2</th>\n",
       "      <td>City of Melbourne</td>\n",
       "      <td>2026</td>\n",
       "      <td>Female</td>\n",
       "      <td>Age 0-4</td>\n",
       "      <td>3595.0</td>\n",
       "    </tr>\n",
       "    <tr>\n",
       "      <th>3</th>\n",
       "      <td>City of Melbourne</td>\n",
       "      <td>2028</td>\n",
       "      <td>Female</td>\n",
       "      <td>Age 0-4</td>\n",
       "      <td>4083.0</td>\n",
       "    </tr>\n",
       "    <tr>\n",
       "      <th>4</th>\n",
       "      <td>City of Melbourne</td>\n",
       "      <td>2034</td>\n",
       "      <td>Female</td>\n",
       "      <td>Age 0-4</td>\n",
       "      <td>5242.0</td>\n",
       "    </tr>\n",
       "  </tbody>\n",
       "</table>\n",
       "</div>"
      ],
      "text/plain": [
       "           Geography  Year  Gender      Age   Value\n",
       "0  City of Melbourne  2021  Female  Age 0-4  1943.0\n",
       "1  City of Melbourne  2023  Female  Age 0-4  2477.0\n",
       "2  City of Melbourne  2026  Female  Age 0-4  3595.0\n",
       "3  City of Melbourne  2028  Female  Age 0-4  4083.0\n",
       "4  City of Melbourne  2034  Female  Age 0-4  5242.0"
      ]
     },
     "execution_count": 541,
     "metadata": {},
     "output_type": "execute_result"
    }
   ],
   "source": [
    "pop.head()"
   ]
  },
  {
   "cell_type": "code",
   "execution_count": 542,
   "metadata": {},
   "outputs": [
    {
     "name": "stdout",
     "output_type": "stream",
     "text": [
      "<class 'pandas.core.frame.DataFrame'>\n",
      "RangeIndex: 17052 entries, 0 to 17051\n",
      "Data columns (total 5 columns):\n",
      " #   Column     Non-Null Count  Dtype  \n",
      "---  ------     --------------  -----  \n",
      " 0   Geography  17052 non-null  object \n",
      " 1   Year       17052 non-null  int64  \n",
      " 2   Gender     17052 non-null  object \n",
      " 3   Age        17052 non-null  object \n",
      " 4   Value      16989 non-null  float64\n",
      "dtypes: float64(1), int64(1), object(3)\n",
      "memory usage: 666.2+ KB\n"
     ]
    }
   ],
   "source": [
    "pop.info()"
   ]
  },
  {
   "cell_type": "code",
   "execution_count": 543,
   "metadata": {},
   "outputs": [
    {
     "data": {
      "text/plain": [
       "(17052, 5)"
      ]
     },
     "execution_count": 543,
     "metadata": {},
     "output_type": "execute_result"
    }
   ],
   "source": [
    "pop.shape"
   ]
  },
  {
   "cell_type": "code",
   "execution_count": 544,
   "metadata": {},
   "outputs": [],
   "source": [
    "# Renaming columns for ease, making them all lowercase. \n",
    "pop = pop.rename(columns = {\"Geography\":\"city\", \"Year\":\"year\", \"Gender\":\"gender\", \"Age\": \"age\", \"Value\": \"value\"} )"
   ]
  },
  {
   "cell_type": "code",
   "execution_count": 545,
   "metadata": {},
   "outputs": [
    {
     "data": {
      "text/plain": [
       "array(['City of Melbourne', 'Carlton', 'Docklands', 'East Melbourne',\n",
       "       'Kensington', 'Melbourne (CBD)', 'Melbourne (Remainder)',\n",
       "       'North Melbourne', 'Parkville', 'Port Melbourne', 'South Yarra',\n",
       "       'Southbank', 'West Melbourne (Industrial)',\n",
       "       'West Melbourne (Residential)'], dtype=object)"
      ]
     },
     "execution_count": 545,
     "metadata": {},
     "output_type": "execute_result"
    }
   ],
   "source": [
    "pop.city.unique()"
   ]
  },
  {
   "cell_type": "code",
   "execution_count": 546,
   "metadata": {},
   "outputs": [
    {
     "data": {
      "text/plain": [
       "array(['Female', 'Male', 'Total', 'Not applicable'], dtype=object)"
      ]
     },
     "execution_count": 546,
     "metadata": {},
     "output_type": "execute_result"
    }
   ],
   "source": [
    "pop.gender.unique()"
   ]
  },
  {
   "cell_type": "code",
   "execution_count": 547,
   "metadata": {},
   "outputs": [
    {
     "data": {
      "text/plain": [
       "array(['Age 0-4', 'Age 5-9', 'Age 10-14', 'Age 15-19', 'Age 20-24',\n",
       "       'Age 25-29', 'Age 30-34', 'Age 35-39', 'Age 40-44', 'Age 45-49',\n",
       "       'Age 50-54', 'Age 55-59', 'Age 60-64', 'Age 65-69', 'Age 70-74',\n",
       "       'Age 75-79', 'Age 80-84', 'Age 85+', 'Average age',\n",
       "       'Total population'], dtype=object)"
      ]
     },
     "execution_count": 547,
     "metadata": {},
     "output_type": "execute_result"
    }
   ],
   "source": [
    "pop.age.unique()"
   ]
  },
  {
   "cell_type": "code",
   "execution_count": 548,
   "metadata": {},
   "outputs": [
    {
     "data": {
      "text/plain": [
       "array([2021, 2023, 2026, 2028, 2034, 2037, 2038, 2024, 2025, 2040, 2031,\n",
       "       2033, 2022, 2032, 2036, 2041, 2027, 2029, 2039, 2035, 2030],\n",
       "      dtype=int64)"
      ]
     },
     "execution_count": 548,
     "metadata": {},
     "output_type": "execute_result"
    }
   ],
   "source": [
    "pop.year.unique()"
   ]
  },
  {
   "cell_type": "code",
   "execution_count": 549,
   "metadata": {},
   "outputs": [
    {
     "data": {
      "text/html": [
       "<div>\n",
       "<style scoped>\n",
       "    .dataframe tbody tr th:only-of-type {\n",
       "        vertical-align: middle;\n",
       "    }\n",
       "\n",
       "    .dataframe tbody tr th {\n",
       "        vertical-align: top;\n",
       "    }\n",
       "\n",
       "    .dataframe thead th {\n",
       "        text-align: right;\n",
       "    }\n",
       "</style>\n",
       "<table border=\"1\" class=\"dataframe\">\n",
       "  <thead>\n",
       "    <tr style=\"text-align: right;\">\n",
       "      <th></th>\n",
       "      <th>city</th>\n",
       "      <th>year</th>\n",
       "      <th>gender</th>\n",
       "      <th>age</th>\n",
       "      <th>value</th>\n",
       "    </tr>\n",
       "  </thead>\n",
       "  <tbody>\n",
       "    <tr>\n",
       "      <th>0</th>\n",
       "      <td>City of Melbourne</td>\n",
       "      <td>2021</td>\n",
       "      <td>Female</td>\n",
       "      <td>Age 0-4</td>\n",
       "      <td>1943.0</td>\n",
       "    </tr>\n",
       "    <tr>\n",
       "      <th>1</th>\n",
       "      <td>City of Melbourne</td>\n",
       "      <td>2023</td>\n",
       "      <td>Female</td>\n",
       "      <td>Age 0-4</td>\n",
       "      <td>2477.0</td>\n",
       "    </tr>\n",
       "    <tr>\n",
       "      <th>2</th>\n",
       "      <td>City of Melbourne</td>\n",
       "      <td>2026</td>\n",
       "      <td>Female</td>\n",
       "      <td>Age 0-4</td>\n",
       "      <td>3595.0</td>\n",
       "    </tr>\n",
       "    <tr>\n",
       "      <th>3</th>\n",
       "      <td>City of Melbourne</td>\n",
       "      <td>2028</td>\n",
       "      <td>Female</td>\n",
       "      <td>Age 0-4</td>\n",
       "      <td>4083.0</td>\n",
       "    </tr>\n",
       "    <tr>\n",
       "      <th>4</th>\n",
       "      <td>City of Melbourne</td>\n",
       "      <td>2034</td>\n",
       "      <td>Female</td>\n",
       "      <td>Age 0-4</td>\n",
       "      <td>5242.0</td>\n",
       "    </tr>\n",
       "    <tr>\n",
       "      <th>...</th>\n",
       "      <td>...</td>\n",
       "      <td>...</td>\n",
       "      <td>...</td>\n",
       "      <td>...</td>\n",
       "      <td>...</td>\n",
       "    </tr>\n",
       "    <tr>\n",
       "      <th>17047</th>\n",
       "      <td>West Melbourne (Residential)</td>\n",
       "      <td>2029</td>\n",
       "      <td>Not applicable</td>\n",
       "      <td>Total population</td>\n",
       "      <td>11673.0</td>\n",
       "    </tr>\n",
       "    <tr>\n",
       "      <th>17048</th>\n",
       "      <td>West Melbourne (Residential)</td>\n",
       "      <td>2032</td>\n",
       "      <td>Not applicable</td>\n",
       "      <td>Total population</td>\n",
       "      <td>13191.0</td>\n",
       "    </tr>\n",
       "    <tr>\n",
       "      <th>17049</th>\n",
       "      <td>West Melbourne (Residential)</td>\n",
       "      <td>2035</td>\n",
       "      <td>Not applicable</td>\n",
       "      <td>Total population</td>\n",
       "      <td>14820.0</td>\n",
       "    </tr>\n",
       "    <tr>\n",
       "      <th>17050</th>\n",
       "      <td>West Melbourne (Residential)</td>\n",
       "      <td>2039</td>\n",
       "      <td>Not applicable</td>\n",
       "      <td>Total population</td>\n",
       "      <td>14794.0</td>\n",
       "    </tr>\n",
       "    <tr>\n",
       "      <th>17051</th>\n",
       "      <td>West Melbourne (Residential)</td>\n",
       "      <td>2041</td>\n",
       "      <td>Not applicable</td>\n",
       "      <td>Total population</td>\n",
       "      <td>14814.0</td>\n",
       "    </tr>\n",
       "  </tbody>\n",
       "</table>\n",
       "<p>17052 rows × 5 columns</p>\n",
       "</div>"
      ],
      "text/plain": [
       "                               city  year          gender               age  \\\n",
       "0                 City of Melbourne  2021          Female           Age 0-4   \n",
       "1                 City of Melbourne  2023          Female           Age 0-4   \n",
       "2                 City of Melbourne  2026          Female           Age 0-4   \n",
       "3                 City of Melbourne  2028          Female           Age 0-4   \n",
       "4                 City of Melbourne  2034          Female           Age 0-4   \n",
       "...                             ...   ...             ...               ...   \n",
       "17047  West Melbourne (Residential)  2029  Not applicable  Total population   \n",
       "17048  West Melbourne (Residential)  2032  Not applicable  Total population   \n",
       "17049  West Melbourne (Residential)  2035  Not applicable  Total population   \n",
       "17050  West Melbourne (Residential)  2039  Not applicable  Total population   \n",
       "17051  West Melbourne (Residential)  2041  Not applicable  Total population   \n",
       "\n",
       "         value  \n",
       "0       1943.0  \n",
       "1       2477.0  \n",
       "2       3595.0  \n",
       "3       4083.0  \n",
       "4       5242.0  \n",
       "...        ...  \n",
       "17047  11673.0  \n",
       "17048  13191.0  \n",
       "17049  14820.0  \n",
       "17050  14794.0  \n",
       "17051  14814.0  \n",
       "\n",
       "[17052 rows x 5 columns]"
      ]
     },
     "execution_count": 549,
     "metadata": {},
     "output_type": "execute_result"
    }
   ],
   "source": [
    "pop"
   ]
  },
  {
   "cell_type": "markdown",
   "metadata": {},
   "source": [
    "<div class=\"usecase-section-header\">About Population Forecast Dataset. </div>"
   ]
  },
  {
   "cell_type": "markdown",
   "metadata": {},
   "source": [
    "This dataset provides Population forecasts by single year for 2021 to 2041. Prepared by SGS Economics and Planning (Jan-Jun 2022), forecasts are available for the municipality and small areas, as well as by industry and space use type. This dataset has total of 17052 rows which indicates total cases and 5 columns which indicate variables(features). The dataset contains the following variables (features): \n",
    "    <ul>\n",
    "        <li> <b>city:</b> Geographical area (Melbourne LGA or small areas used for the City of Melbourne's CLUE analysis). Small areas mostly correspond to traditional suburb boundaries. This is a categorical variable of type <b>object</b>. This variable takes value from the following list of locations: <b> 'City of Melbourne', 'Carlton', 'Docklands', 'East Melbourne','Kensington', 'Melbourne (CBD)', 'Melbourne (Remainder)','North Melbourne', 'Parkville', 'Port Melbourne', 'South Yarra','Southbank', 'West Melbourne (Industrial)','West Melbourne (Residential)'</b></li><hr>\n",
    "        <li>\n",
    "            <b>year:</b> This variables shows the year the job were created. This is a numerical variable of type <b>integer</b>. Year is from <b>2022 to 2040</b>. </li><hr>\n",
    "        <li>\n",
    "            <b>gender:</b> This variables shows the gender of the person who is a part of the overall population. Gender is divided into four categories: Female, Male, Total and not applicable. This is a categorical nominal variable with type <b>object</b>  </li><hr>\n",
    "        <li>\n",
    "            <b>age:</b> This variables shows the age of a person who is a part of the population in this study. This is a numerical variable of type <b>object</b></li><hr>\n",
    "        <li>\n",
    "            <b>value:</b> This variables shows the population of the area for a given year. This is a numerical variable of type <b>float</b>  \n",
    "        </li>\n",
    "    </ul></i><hr>\n",
    "</ul>\n",
    "</p>"
   ]
  },
  {
   "cell_type": "markdown",
   "metadata": {},
   "source": [
    "<div class=\"usecase-section-header\">Checking and Handling missing values. </div>"
   ]
  },
  {
   "cell_type": "markdown",
   "metadata": {},
   "source": [
    "<b>For population dataset</b>"
   ]
  },
  {
   "cell_type": "code",
   "execution_count": 550,
   "metadata": {},
   "outputs": [
    {
     "data": {
      "text/plain": [
       "city      False\n",
       "year      False\n",
       "gender    False\n",
       "age       False\n",
       "value      True\n",
       "dtype: bool"
      ]
     },
     "execution_count": 550,
     "metadata": {},
     "output_type": "execute_result"
    }
   ],
   "source": [
    "# To check if there is any missing values in any columns \n",
    "pop.isnull().any()"
   ]
  },
  {
   "cell_type": "code",
   "execution_count": 551,
   "metadata": {},
   "outputs": [
    {
     "name": "stdout",
     "output_type": "stream",
     "text": [
      "63\n"
     ]
    }
   ],
   "source": [
    "# There are no null values in job dataset. However there is null (missing) values in population dataset in value column. \n",
    "# Lets find out how many null values are there in value column\n",
    "print(pop.value.isnull().sum())\n",
    "\n",
    "\n",
    "# Write more on why you chose to drop rows "
   ]
  },
  {
   "cell_type": "code",
   "execution_count": 552,
   "metadata": {},
   "outputs": [],
   "source": [
    "# pop"
   ]
  },
  {
   "cell_type": "code",
   "execution_count": 553,
   "metadata": {},
   "outputs": [],
   "source": [
    "pop = pop.dropna(axis= \"rows\")"
   ]
  },
  {
   "cell_type": "code",
   "execution_count": 554,
   "metadata": {},
   "outputs": [
    {
     "data": {
      "text/plain": [
       "city      False\n",
       "year      False\n",
       "gender    False\n",
       "age       False\n",
       "value     False\n",
       "dtype: bool"
      ]
     },
     "execution_count": 554,
     "metadata": {},
     "output_type": "execute_result"
    }
   ],
   "source": [
    "pop.isnull().any()"
   ]
  },
  {
   "cell_type": "markdown",
   "metadata": {},
   "source": [
    "<b>All missing values in \"value\" column of population dataset have been removed.  </b>"
   ]
  },
  {
   "cell_type": "code",
   "execution_count": 555,
   "metadata": {},
   "outputs": [],
   "source": [
    "# Choose all data where the gender is not applicable\n",
    "pop = pop.set_index(\"gender\")\n",
    "other_pop = pop.loc[[\"Total\", \"Not applicable\"],:]\n",
    "other_pop                                         # saving total and not applicable data into differnet variable for further use. \n",
    "pop = pop.loc[[\"Female\", \"Male\"],:]               # seperating male and female gender from the whole dataset\n",
    "pop.reset_index(inplace=True)"
   ]
  },
  {
   "cell_type": "code",
   "execution_count": 556,
   "metadata": {},
   "outputs": [
    {
     "data": {
      "text/html": [
       "<div>\n",
       "<style scoped>\n",
       "    .dataframe tbody tr th:only-of-type {\n",
       "        vertical-align: middle;\n",
       "    }\n",
       "\n",
       "    .dataframe tbody tr th {\n",
       "        vertical-align: top;\n",
       "    }\n",
       "\n",
       "    .dataframe thead th {\n",
       "        text-align: right;\n",
       "    }\n",
       "</style>\n",
       "<table border=\"1\" class=\"dataframe\">\n",
       "  <thead>\n",
       "    <tr style=\"text-align: right;\">\n",
       "      <th></th>\n",
       "      <th>gender</th>\n",
       "      <th>city</th>\n",
       "      <th>year</th>\n",
       "      <th>age</th>\n",
       "      <th>value</th>\n",
       "    </tr>\n",
       "  </thead>\n",
       "  <tbody>\n",
       "    <tr>\n",
       "      <th>0</th>\n",
       "      <td>Female</td>\n",
       "      <td>City of Melbourne</td>\n",
       "      <td>2021</td>\n",
       "      <td>Age 0-4</td>\n",
       "      <td>1943.0</td>\n",
       "    </tr>\n",
       "    <tr>\n",
       "      <th>1</th>\n",
       "      <td>Female</td>\n",
       "      <td>City of Melbourne</td>\n",
       "      <td>2023</td>\n",
       "      <td>Age 0-4</td>\n",
       "      <td>2477.0</td>\n",
       "    </tr>\n",
       "    <tr>\n",
       "      <th>2</th>\n",
       "      <td>Female</td>\n",
       "      <td>City of Melbourne</td>\n",
       "      <td>2026</td>\n",
       "      <td>Age 0-4</td>\n",
       "      <td>3595.0</td>\n",
       "    </tr>\n",
       "    <tr>\n",
       "      <th>3</th>\n",
       "      <td>Female</td>\n",
       "      <td>City of Melbourne</td>\n",
       "      <td>2028</td>\n",
       "      <td>Age 0-4</td>\n",
       "      <td>4083.0</td>\n",
       "    </tr>\n",
       "    <tr>\n",
       "      <th>4</th>\n",
       "      <td>Female</td>\n",
       "      <td>City of Melbourne</td>\n",
       "      <td>2034</td>\n",
       "      <td>Age 0-4</td>\n",
       "      <td>5242.0</td>\n",
       "    </tr>\n",
       "    <tr>\n",
       "      <th>...</th>\n",
       "      <td>...</td>\n",
       "      <td>...</td>\n",
       "      <td>...</td>\n",
       "      <td>...</td>\n",
       "      <td>...</td>\n",
       "    </tr>\n",
       "    <tr>\n",
       "      <th>11125</th>\n",
       "      <td>Male</td>\n",
       "      <td>West Melbourne (Residential)</td>\n",
       "      <td>2024</td>\n",
       "      <td>Average age</td>\n",
       "      <td>31.0</td>\n",
       "    </tr>\n",
       "    <tr>\n",
       "      <th>11126</th>\n",
       "      <td>Male</td>\n",
       "      <td>West Melbourne (Residential)</td>\n",
       "      <td>2026</td>\n",
       "      <td>Average age</td>\n",
       "      <td>32.0</td>\n",
       "    </tr>\n",
       "    <tr>\n",
       "      <th>11127</th>\n",
       "      <td>Male</td>\n",
       "      <td>West Melbourne (Residential)</td>\n",
       "      <td>2027</td>\n",
       "      <td>Average age</td>\n",
       "      <td>32.0</td>\n",
       "    </tr>\n",
       "    <tr>\n",
       "      <th>11128</th>\n",
       "      <td>Male</td>\n",
       "      <td>West Melbourne (Residential)</td>\n",
       "      <td>2037</td>\n",
       "      <td>Average age</td>\n",
       "      <td>33.0</td>\n",
       "    </tr>\n",
       "    <tr>\n",
       "      <th>11129</th>\n",
       "      <td>Male</td>\n",
       "      <td>West Melbourne (Residential)</td>\n",
       "      <td>2038</td>\n",
       "      <td>Average age</td>\n",
       "      <td>33.0</td>\n",
       "    </tr>\n",
       "  </tbody>\n",
       "</table>\n",
       "<p>11130 rows × 5 columns</p>\n",
       "</div>"
      ],
      "text/plain": [
       "       gender                          city  year          age   value\n",
       "0      Female             City of Melbourne  2021      Age 0-4  1943.0\n",
       "1      Female             City of Melbourne  2023      Age 0-4  2477.0\n",
       "2      Female             City of Melbourne  2026      Age 0-4  3595.0\n",
       "3      Female             City of Melbourne  2028      Age 0-4  4083.0\n",
       "4      Female             City of Melbourne  2034      Age 0-4  5242.0\n",
       "...       ...                           ...   ...          ...     ...\n",
       "11125    Male  West Melbourne (Residential)  2024  Average age    31.0\n",
       "11126    Male  West Melbourne (Residential)  2026  Average age    32.0\n",
       "11127    Male  West Melbourne (Residential)  2027  Average age    32.0\n",
       "11128    Male  West Melbourne (Residential)  2037  Average age    33.0\n",
       "11129    Male  West Melbourne (Residential)  2038  Average age    33.0\n",
       "\n",
       "[11130 rows x 5 columns]"
      ]
     },
     "execution_count": 556,
     "metadata": {},
     "output_type": "execute_result"
    }
   ],
   "source": [
    "pop       # df where gender = ['Male', 'Female']"
   ]
  },
  {
   "cell_type": "code",
   "execution_count": 557,
   "metadata": {},
   "outputs": [
    {
     "data": {
      "text/html": [
       "<div>\n",
       "<style scoped>\n",
       "    .dataframe tbody tr th:only-of-type {\n",
       "        vertical-align: middle;\n",
       "    }\n",
       "\n",
       "    .dataframe tbody tr th {\n",
       "        vertical-align: top;\n",
       "    }\n",
       "\n",
       "    .dataframe thead th {\n",
       "        text-align: right;\n",
       "    }\n",
       "</style>\n",
       "<table border=\"1\" class=\"dataframe\">\n",
       "  <thead>\n",
       "    <tr style=\"text-align: right;\">\n",
       "      <th></th>\n",
       "      <th>city</th>\n",
       "      <th>year</th>\n",
       "      <th>age</th>\n",
       "      <th>value</th>\n",
       "    </tr>\n",
       "    <tr>\n",
       "      <th>gender</th>\n",
       "      <th></th>\n",
       "      <th></th>\n",
       "      <th></th>\n",
       "      <th></th>\n",
       "    </tr>\n",
       "  </thead>\n",
       "  <tbody>\n",
       "    <tr>\n",
       "      <th>Total</th>\n",
       "      <td>City of Melbourne</td>\n",
       "      <td>2021</td>\n",
       "      <td>Age 0-4</td>\n",
       "      <td>4051.0</td>\n",
       "    </tr>\n",
       "    <tr>\n",
       "      <th>Total</th>\n",
       "      <td>City of Melbourne</td>\n",
       "      <td>2021</td>\n",
       "      <td>Age 20-24</td>\n",
       "      <td>33134.0</td>\n",
       "    </tr>\n",
       "    <tr>\n",
       "      <th>Total</th>\n",
       "      <td>City of Melbourne</td>\n",
       "      <td>2021</td>\n",
       "      <td>Age 30-34</td>\n",
       "      <td>21485.0</td>\n",
       "    </tr>\n",
       "    <tr>\n",
       "      <th>Total</th>\n",
       "      <td>City of Melbourne</td>\n",
       "      <td>2021</td>\n",
       "      <td>Age 50-54</td>\n",
       "      <td>4939.0</td>\n",
       "    </tr>\n",
       "    <tr>\n",
       "      <th>Total</th>\n",
       "      <td>City of Melbourne</td>\n",
       "      <td>2021</td>\n",
       "      <td>Age 65-69</td>\n",
       "      <td>3698.0</td>\n",
       "    </tr>\n",
       "    <tr>\n",
       "      <th>...</th>\n",
       "      <td>...</td>\n",
       "      <td>...</td>\n",
       "      <td>...</td>\n",
       "      <td>...</td>\n",
       "    </tr>\n",
       "    <tr>\n",
       "      <th>Not applicable</th>\n",
       "      <td>West Melbourne (Residential)</td>\n",
       "      <td>2029</td>\n",
       "      <td>Total population</td>\n",
       "      <td>11673.0</td>\n",
       "    </tr>\n",
       "    <tr>\n",
       "      <th>Not applicable</th>\n",
       "      <td>West Melbourne (Residential)</td>\n",
       "      <td>2032</td>\n",
       "      <td>Total population</td>\n",
       "      <td>13191.0</td>\n",
       "    </tr>\n",
       "    <tr>\n",
       "      <th>Not applicable</th>\n",
       "      <td>West Melbourne (Residential)</td>\n",
       "      <td>2035</td>\n",
       "      <td>Total population</td>\n",
       "      <td>14820.0</td>\n",
       "    </tr>\n",
       "    <tr>\n",
       "      <th>Not applicable</th>\n",
       "      <td>West Melbourne (Residential)</td>\n",
       "      <td>2039</td>\n",
       "      <td>Total population</td>\n",
       "      <td>14794.0</td>\n",
       "    </tr>\n",
       "    <tr>\n",
       "      <th>Not applicable</th>\n",
       "      <td>West Melbourne (Residential)</td>\n",
       "      <td>2041</td>\n",
       "      <td>Total population</td>\n",
       "      <td>14814.0</td>\n",
       "    </tr>\n",
       "  </tbody>\n",
       "</table>\n",
       "<p>5859 rows × 4 columns</p>\n",
       "</div>"
      ],
      "text/plain": [
       "                                        city  year               age    value\n",
       "gender                                                                       \n",
       "Total                      City of Melbourne  2021           Age 0-4   4051.0\n",
       "Total                      City of Melbourne  2021         Age 20-24  33134.0\n",
       "Total                      City of Melbourne  2021         Age 30-34  21485.0\n",
       "Total                      City of Melbourne  2021         Age 50-54   4939.0\n",
       "Total                      City of Melbourne  2021         Age 65-69   3698.0\n",
       "...                                      ...   ...               ...      ...\n",
       "Not applicable  West Melbourne (Residential)  2029  Total population  11673.0\n",
       "Not applicable  West Melbourne (Residential)  2032  Total population  13191.0\n",
       "Not applicable  West Melbourne (Residential)  2035  Total population  14820.0\n",
       "Not applicable  West Melbourne (Residential)  2039  Total population  14794.0\n",
       "Not applicable  West Melbourne (Residential)  2041  Total population  14814.0\n",
       "\n",
       "[5859 rows x 4 columns]"
      ]
     },
     "execution_count": 557,
     "metadata": {},
     "output_type": "execute_result"
    }
   ],
   "source": [
    "other_pop    # df where all values from gender = ['total', 'not applicable']\n",
    "other_pop.reset_index(drop=True)\n",
    "other_pop"
   ]
  },
  {
   "cell_type": "markdown",
   "metadata": {},
   "source": [
    "<b>The population dataset now only contains data where the gender is either female or male. Another dataframe has been created to save the data from gender whose value was \"Not applicable\" and \"Total\" for futher analysis. </b>"
   ]
  },
  {
   "cell_type": "code",
   "execution_count": 558,
   "metadata": {
    "scrolled": true
   },
   "outputs": [
    {
     "data": {
      "text/plain": [
       "city        False\n",
       "year        False\n",
       "category    False\n",
       "industry    False\n",
       "value       False\n",
       "dtype: bool"
      ]
     },
     "execution_count": 558,
     "metadata": {},
     "output_type": "execute_result"
    }
   ],
   "source": [
    "job.isnull().any()"
   ]
  },
  {
   "cell_type": "code",
   "execution_count": 559,
   "metadata": {},
   "outputs": [
    {
     "data": {
      "text/html": [
       "<div>\n",
       "<style scoped>\n",
       "    .dataframe tbody tr th:only-of-type {\n",
       "        vertical-align: middle;\n",
       "    }\n",
       "\n",
       "    .dataframe tbody tr th {\n",
       "        vertical-align: top;\n",
       "    }\n",
       "\n",
       "    .dataframe thead th {\n",
       "        text-align: right;\n",
       "    }\n",
       "</style>\n",
       "<table border=\"1\" class=\"dataframe\">\n",
       "  <thead>\n",
       "    <tr style=\"text-align: right;\">\n",
       "      <th></th>\n",
       "      <th>city</th>\n",
       "      <th>year</th>\n",
       "      <th>category</th>\n",
       "      <th>industry</th>\n",
       "      <th>value</th>\n",
       "    </tr>\n",
       "  </thead>\n",
       "  <tbody>\n",
       "    <tr>\n",
       "      <th>0</th>\n",
       "      <td>City of Melbourne</td>\n",
       "      <td>2023</td>\n",
       "      <td>Jobs by industry</td>\n",
       "      <td>Accommodation</td>\n",
       "      <td>10286</td>\n",
       "    </tr>\n",
       "    <tr>\n",
       "      <th>1</th>\n",
       "      <td>City of Melbourne</td>\n",
       "      <td>2026</td>\n",
       "      <td>Jobs by industry</td>\n",
       "      <td>Accommodation</td>\n",
       "      <td>11631</td>\n",
       "    </tr>\n",
       "    <tr>\n",
       "      <th>2</th>\n",
       "      <td>City of Melbourne</td>\n",
       "      <td>2032</td>\n",
       "      <td>Jobs by industry</td>\n",
       "      <td>Accommodation</td>\n",
       "      <td>13207</td>\n",
       "    </tr>\n",
       "    <tr>\n",
       "      <th>3</th>\n",
       "      <td>City of Melbourne</td>\n",
       "      <td>2034</td>\n",
       "      <td>Jobs by industry</td>\n",
       "      <td>Accommodation</td>\n",
       "      <td>13420</td>\n",
       "    </tr>\n",
       "    <tr>\n",
       "      <th>4</th>\n",
       "      <td>City of Melbourne</td>\n",
       "      <td>2035</td>\n",
       "      <td>Jobs by industry</td>\n",
       "      <td>Accommodation</td>\n",
       "      <td>13529</td>\n",
       "    </tr>\n",
       "  </tbody>\n",
       "</table>\n",
       "</div>"
      ],
      "text/plain": [
       "                city  year          category       industry  value\n",
       "0  City of Melbourne  2023  Jobs by industry  Accommodation  10286\n",
       "1  City of Melbourne  2026  Jobs by industry  Accommodation  11631\n",
       "2  City of Melbourne  2032  Jobs by industry  Accommodation  13207\n",
       "3  City of Melbourne  2034  Jobs by industry  Accommodation  13420\n",
       "4  City of Melbourne  2035  Jobs by industry  Accommodation  13529"
      ]
     },
     "execution_count": 559,
     "metadata": {},
     "output_type": "execute_result"
    }
   ],
   "source": [
    "job.head(5)"
   ]
  },
  {
   "cell_type": "markdown",
   "metadata": {},
   "source": [
    "<b>There are no missing values in job dataset hence we do not need to perfrom any operations to remove null or missing values. However the industry_space_use column has values where the industry is \"Total jobs\" which is not accurate so we will remove the rows where the column has such values and reserve it in a different variable for later analysis. </b>"
   ]
  },
  {
   "cell_type": "code",
   "execution_count": 560,
   "metadata": {
    "scrolled": true
   },
   "outputs": [
    {
     "data": {
      "text/html": [
       "<div>\n",
       "<style scoped>\n",
       "    .dataframe tbody tr th:only-of-type {\n",
       "        vertical-align: middle;\n",
       "    }\n",
       "\n",
       "    .dataframe tbody tr th {\n",
       "        vertical-align: top;\n",
       "    }\n",
       "\n",
       "    .dataframe thead th {\n",
       "        text-align: right;\n",
       "    }\n",
       "</style>\n",
       "<table border=\"1\" class=\"dataframe\">\n",
       "  <thead>\n",
       "    <tr style=\"text-align: right;\">\n",
       "      <th></th>\n",
       "      <th>city</th>\n",
       "      <th>year</th>\n",
       "      <th>category</th>\n",
       "      <th>value</th>\n",
       "    </tr>\n",
       "    <tr>\n",
       "      <th>industry</th>\n",
       "      <th></th>\n",
       "      <th></th>\n",
       "      <th></th>\n",
       "      <th></th>\n",
       "    </tr>\n",
       "  </thead>\n",
       "  <tbody>\n",
       "    <tr>\n",
       "      <th>Accommodation</th>\n",
       "      <td>City of Melbourne</td>\n",
       "      <td>2023</td>\n",
       "      <td>Jobs by industry</td>\n",
       "      <td>10286</td>\n",
       "    </tr>\n",
       "    <tr>\n",
       "      <th>Accommodation</th>\n",
       "      <td>City of Melbourne</td>\n",
       "      <td>2026</td>\n",
       "      <td>Jobs by industry</td>\n",
       "      <td>11631</td>\n",
       "    </tr>\n",
       "    <tr>\n",
       "      <th>Accommodation</th>\n",
       "      <td>City of Melbourne</td>\n",
       "      <td>2032</td>\n",
       "      <td>Jobs by industry</td>\n",
       "      <td>13207</td>\n",
       "    </tr>\n",
       "    <tr>\n",
       "      <th>Accommodation</th>\n",
       "      <td>City of Melbourne</td>\n",
       "      <td>2034</td>\n",
       "      <td>Jobs by industry</td>\n",
       "      <td>13420</td>\n",
       "    </tr>\n",
       "    <tr>\n",
       "      <th>Accommodation</th>\n",
       "      <td>City of Melbourne</td>\n",
       "      <td>2035</td>\n",
       "      <td>Jobs by industry</td>\n",
       "      <td>13529</td>\n",
       "    </tr>\n",
       "  </tbody>\n",
       "</table>\n",
       "</div>"
      ],
      "text/plain": [
       "                            city  year          category  value\n",
       "industry                                                       \n",
       "Accommodation  City of Melbourne  2023  Jobs by industry  10286\n",
       "Accommodation  City of Melbourne  2026  Jobs by industry  11631\n",
       "Accommodation  City of Melbourne  2032  Jobs by industry  13207\n",
       "Accommodation  City of Melbourne  2034  Jobs by industry  13420\n",
       "Accommodation  City of Melbourne  2035  Jobs by industry  13529"
      ]
     },
     "execution_count": 560,
     "metadata": {},
     "output_type": "execute_result"
    }
   ],
   "source": [
    "total_job_by_ind_space_use = job.set_index(\"industry\").loc[['Total jobs'], : ]\n",
    "job = job.set_index(\"industry\").loc[['Accommodation', 'Admin and support services',\n",
    "       'Agriculture and mining', 'Arts and recreation services',\n",
    "       'Business services', 'Construction', 'Education and training',\n",
    "       'Other services', 'Electricity, gas, water and waste services',\n",
    "       'Finance and insurance', 'Food and beverage services',\n",
    "       'Health care and social assistance',\n",
    "       'Information media and telecommunications', 'Manufacturing',\n",
    "       'Public administration and safety', 'Real estate services',\n",
    "       'Rental and hiring services', 'Retail trade',\n",
    "       'Transport, postal and storage', 'Wholesale trade',\n",
    "       'Accommodation - Commercial', 'Education',\n",
    "       'Entertainment - Hospitality', 'Entertainment - Other', 'Health',\n",
    "       'Industrial', 'Office', 'Other - Employment', 'Retail'],:]\n",
    "job.head(5)"
   ]
  },
  {
   "cell_type": "code",
   "execution_count": 561,
   "metadata": {},
   "outputs": [
    {
     "data": {
      "text/html": [
       "<div>\n",
       "<style scoped>\n",
       "    .dataframe tbody tr th:only-of-type {\n",
       "        vertical-align: middle;\n",
       "    }\n",
       "\n",
       "    .dataframe tbody tr th {\n",
       "        vertical-align: top;\n",
       "    }\n",
       "\n",
       "    .dataframe thead th {\n",
       "        text-align: right;\n",
       "    }\n",
       "</style>\n",
       "<table border=\"1\" class=\"dataframe\">\n",
       "  <thead>\n",
       "    <tr style=\"text-align: right;\">\n",
       "      <th></th>\n",
       "      <th>city</th>\n",
       "      <th>year</th>\n",
       "      <th>category</th>\n",
       "      <th>value</th>\n",
       "    </tr>\n",
       "    <tr>\n",
       "      <th>industry</th>\n",
       "      <th></th>\n",
       "      <th></th>\n",
       "      <th></th>\n",
       "      <th></th>\n",
       "    </tr>\n",
       "  </thead>\n",
       "  <tbody>\n",
       "    <tr>\n",
       "      <th>Total jobs</th>\n",
       "      <td>City of Melbourne</td>\n",
       "      <td>2022</td>\n",
       "      <td>Jobs by industry</td>\n",
       "      <td>473514</td>\n",
       "    </tr>\n",
       "    <tr>\n",
       "      <th>Total jobs</th>\n",
       "      <td>City of Melbourne</td>\n",
       "      <td>2023</td>\n",
       "      <td>Jobs by industry</td>\n",
       "      <td>483587</td>\n",
       "    </tr>\n",
       "    <tr>\n",
       "      <th>Total jobs</th>\n",
       "      <td>City of Melbourne</td>\n",
       "      <td>2026</td>\n",
       "      <td>Jobs by industry</td>\n",
       "      <td>519577</td>\n",
       "    </tr>\n",
       "    <tr>\n",
       "      <th>Total jobs</th>\n",
       "      <td>City of Melbourne</td>\n",
       "      <td>2027</td>\n",
       "      <td>Jobs by industry</td>\n",
       "      <td>530590</td>\n",
       "    </tr>\n",
       "    <tr>\n",
       "      <th>Total jobs</th>\n",
       "      <td>City of Melbourne</td>\n",
       "      <td>2030</td>\n",
       "      <td>Jobs by industry</td>\n",
       "      <td>563548</td>\n",
       "    </tr>\n",
       "  </tbody>\n",
       "</table>\n",
       "</div>"
      ],
      "text/plain": [
       "                         city  year          category   value\n",
       "industry                                                     \n",
       "Total jobs  City of Melbourne  2022  Jobs by industry  473514\n",
       "Total jobs  City of Melbourne  2023  Jobs by industry  483587\n",
       "Total jobs  City of Melbourne  2026  Jobs by industry  519577\n",
       "Total jobs  City of Melbourne  2027  Jobs by industry  530590\n",
       "Total jobs  City of Melbourne  2030  Jobs by industry  563548"
      ]
     },
     "execution_count": 561,
     "metadata": {},
     "output_type": "execute_result"
    }
   ],
   "source": [
    "total_job_by_ind_space_use.head(5)"
   ]
  },
  {
   "cell_type": "markdown",
   "metadata": {},
   "source": [
    "<b>Now we only have job data where each industry belongs to a speceific category and not \"Total jobs\" category. Howevrer, the data from \"total jobs\" category is saved as dataframe for futher analysis. </b>"
   ]
  },
  {
   "cell_type": "code",
   "execution_count": 562,
   "metadata": {},
   "outputs": [],
   "source": [
    "job= job.reset_index()"
   ]
  },
  {
   "cell_type": "code",
   "execution_count": 563,
   "metadata": {},
   "outputs": [
    {
     "data": {
      "text/plain": [
       "(8526, 5)"
      ]
     },
     "execution_count": 563,
     "metadata": {},
     "output_type": "execute_result"
    }
   ],
   "source": [
    "job.shape"
   ]
  },
  {
   "cell_type": "code",
   "execution_count": 564,
   "metadata": {},
   "outputs": [
    {
     "data": {
      "text/plain": [
       "(11130, 5)"
      ]
     },
     "execution_count": 564,
     "metadata": {},
     "output_type": "execute_result"
    }
   ],
   "source": [
    "pop.shape"
   ]
  },
  {
   "cell_type": "markdown",
   "metadata": {},
   "source": [
    "<div class=\"usecase-section-header\">Exploratory Data Analysis on Job Dataset. </div>"
   ]
  },
  {
   "cell_type": "code",
   "execution_count": 565,
   "metadata": {},
   "outputs": [
    {
     "name": "stdout",
     "output_type": "stream",
     "text": [
      "<class 'pandas.core.frame.DataFrame'>\n",
      "RangeIndex: 8526 entries, 0 to 8525\n",
      "Data columns (total 5 columns):\n",
      " #   Column    Non-Null Count  Dtype \n",
      "---  ------    --------------  ----- \n",
      " 0   industry  8526 non-null   object\n",
      " 1   city      8526 non-null   object\n",
      " 2   year      8526 non-null   int64 \n",
      " 3   category  8526 non-null   object\n",
      " 4   value     8526 non-null   int64 \n",
      "dtypes: int64(2), object(3)\n",
      "memory usage: 333.2+ KB\n"
     ]
    }
   ],
   "source": [
    "# changing data types of the variables if they are not accurate \n",
    "job.info()"
   ]
  },
  {
   "cell_type": "code",
   "execution_count": 566,
   "metadata": {},
   "outputs": [
    {
     "data": {
      "text/html": [
       "<div>\n",
       "<style scoped>\n",
       "    .dataframe tbody tr th:only-of-type {\n",
       "        vertical-align: middle;\n",
       "    }\n",
       "\n",
       "    .dataframe tbody tr th {\n",
       "        vertical-align: top;\n",
       "    }\n",
       "\n",
       "    .dataframe thead th {\n",
       "        text-align: right;\n",
       "    }\n",
       "</style>\n",
       "<table border=\"1\" class=\"dataframe\">\n",
       "  <thead>\n",
       "    <tr style=\"text-align: right;\">\n",
       "      <th></th>\n",
       "      <th>industry</th>\n",
       "      <th>city</th>\n",
       "      <th>year</th>\n",
       "      <th>category</th>\n",
       "      <th>value</th>\n",
       "    </tr>\n",
       "  </thead>\n",
       "  <tbody>\n",
       "    <tr>\n",
       "      <th>0</th>\n",
       "      <td>Accommodation</td>\n",
       "      <td>City of Melbourne</td>\n",
       "      <td>2023</td>\n",
       "      <td>Jobs by industry</td>\n",
       "      <td>10286</td>\n",
       "    </tr>\n",
       "    <tr>\n",
       "      <th>1</th>\n",
       "      <td>Accommodation</td>\n",
       "      <td>City of Melbourne</td>\n",
       "      <td>2026</td>\n",
       "      <td>Jobs by industry</td>\n",
       "      <td>11631</td>\n",
       "    </tr>\n",
       "    <tr>\n",
       "      <th>2</th>\n",
       "      <td>Accommodation</td>\n",
       "      <td>City of Melbourne</td>\n",
       "      <td>2032</td>\n",
       "      <td>Jobs by industry</td>\n",
       "      <td>13207</td>\n",
       "    </tr>\n",
       "    <tr>\n",
       "      <th>3</th>\n",
       "      <td>Accommodation</td>\n",
       "      <td>City of Melbourne</td>\n",
       "      <td>2034</td>\n",
       "      <td>Jobs by industry</td>\n",
       "      <td>13420</td>\n",
       "    </tr>\n",
       "    <tr>\n",
       "      <th>4</th>\n",
       "      <td>Accommodation</td>\n",
       "      <td>City of Melbourne</td>\n",
       "      <td>2035</td>\n",
       "      <td>Jobs by industry</td>\n",
       "      <td>13529</td>\n",
       "    </tr>\n",
       "  </tbody>\n",
       "</table>\n",
       "</div>"
      ],
      "text/plain": [
       "        industry               city  year          category  value\n",
       "0  Accommodation  City of Melbourne  2023  Jobs by industry  10286\n",
       "1  Accommodation  City of Melbourne  2026  Jobs by industry  11631\n",
       "2  Accommodation  City of Melbourne  2032  Jobs by industry  13207\n",
       "3  Accommodation  City of Melbourne  2034  Jobs by industry  13420\n",
       "4  Accommodation  City of Melbourne  2035  Jobs by industry  13529"
      ]
     },
     "execution_count": 566,
     "metadata": {},
     "output_type": "execute_result"
    }
   ],
   "source": [
    "job.head(5)"
   ]
  },
  {
   "cell_type": "code",
   "execution_count": 567,
   "metadata": {
    "scrolled": true
   },
   "outputs": [
    {
     "data": {
      "image/png": "[encoded data removed]",
      "text/plain": [
       "<Figure size 640x480 with 1 Axes>"
      ]
     },
     "metadata": {},
     "output_type": "display_data"
    },
    {
     "data": {
      "text/plain": [
       "<Figure size 1000x1000 with 0 Axes>"
      ]
     },
     "metadata": {},
     "output_type": "display_data"
    }
   ],
   "source": [
    "# Hisotgram of jobs with 20 bins \n",
    "sns.histplot(job.value,bins=20)\n",
    "plt.xlabel(\"Value of  Jobs\")\n",
    "plt.figure(figsize=(10,10))\n",
    "plt.show()"
   ]
  },
  {
   "cell_type": "code",
   "execution_count": 568,
   "metadata": {},
   "outputs": [
    {
     "data": {
      "text/plain": [
       "424483"
      ]
     },
     "execution_count": 568,
     "metadata": {},
     "output_type": "execute_result"
    }
   ],
   "source": [
    "max(job.value)"
   ]
  },
  {
   "cell_type": "code",
   "execution_count": 569,
   "metadata": {
    "scrolled": true
   },
   "outputs": [
    {
     "data": {
      "text/plain": [
       "0"
      ]
     },
     "execution_count": 569,
     "metadata": {},
     "output_type": "execute_result"
    }
   ],
   "source": [
    "min(job.value)"
   ]
  },
  {
   "cell_type": "code",
   "execution_count": 570,
   "metadata": {},
   "outputs": [
    {
     "data": {
      "text/plain": [
       "<Axes: xlabel='value', ylabel='Count'>"
      ]
     },
     "execution_count": 570,
     "metadata": {},
     "output_type": "execute_result"
    },
    {
     "data": {
      "image/png": "[encoded data removed]",
      "text/plain": [
       "<Figure size 640x480 with 1 Axes>"
      ]
     },
     "metadata": {},
     "output_type": "display_data"
    }
   ],
   "source": [
    "# increasing bin size to see any major change \n",
    "sns.histplot(job.value, bins=100)"
   ]
  },
  {
   "cell_type": "markdown",
   "metadata": {},
   "source": [
    "Most jobs have values in between the range of 0 to 25000. Around 8000 jobs exist between where the values of the jobs are between 0 and 25000. There are no jobs in whose values are in 300000 to 400000. There are some jobs where the value of job is between 175000 and 200000. 424483 is the highest value of job in a particular category while 0 is the lowest. We see the same insights with different bin sizes. "
   ]
  },
  {
   "cell_type": "code",
   "execution_count": 571,
   "metadata": {},
   "outputs": [
    {
     "data": {
      "image/png": "[encoded data removed]",
      "text/plain": [
       "<Figure size 640x480 with 1 Axes>"
      ]
     },
     "metadata": {},
     "output_type": "display_data"
    }
   ],
   "source": [
    "# Cumulative Counts and Empirical Cumulatie ditribution Function \n",
    "sns.histplot(job.value,stat=\"percent\", cumulative=True, color=\"lightgray\")\n",
    "plt.show()"
   ]
  },
  {
   "cell_type": "markdown",
   "metadata": {},
   "source": [
    "From the above graph we see that 90% of all jobs were created by categories with no more than 25000 number of jobs (value valriable in job dataset).  "
   ]
  },
  {
   "cell_type": "code",
   "execution_count": 572,
   "metadata": {},
   "outputs": [
    {
     "data": {
      "text/plain": [
       "5598.599577762139"
      ]
     },
     "execution_count": 572,
     "metadata": {},
     "output_type": "execute_result"
    }
   ],
   "source": [
    "np.mean(job.value)"
   ]
  },
  {
   "cell_type": "markdown",
   "metadata": {},
   "source": [
    "The mean of the values which is the number of jobs created by particular category is 5598. Mean tells us that the average number of total jobs created is 5598. "
   ]
  },
  {
   "cell_type": "code",
   "execution_count": 573,
   "metadata": {},
   "outputs": [
    {
     "data": {
      "text/plain": [
       "566.5"
      ]
     },
     "execution_count": 573,
     "metadata": {},
     "output_type": "execute_result"
    }
   ],
   "source": [
    "np.median(job.value)"
   ]
  },
  {
   "cell_type": "code",
   "execution_count": 574,
   "metadata": {},
   "outputs": [
    {
     "data": {
      "text/plain": [
       "23443.075916920792"
      ]
     },
     "execution_count": 574,
     "metadata": {},
     "output_type": "execute_result"
    }
   ],
   "source": [
    "# std indicates that the data is spread father/closer to the mean\n",
    "np.std(job.value)"
   ]
  },
  {
   "cell_type": "code",
   "execution_count": 575,
   "metadata": {},
   "outputs": [
    {
     "data": {
      "image/png": "[encoded data removed]",
      "text/plain": [
       "<Figure size 640x480 with 1 Axes>"
      ]
     },
     "metadata": {},
     "output_type": "display_data"
    },
    {
     "data": {
      "text/plain": [
       "<Figure size 10000x10000 with 0 Axes>"
      ]
     },
     "metadata": {},
     "output_type": "display_data"
    }
   ],
   "source": [
    "sns.boxplot(x=job.value, y=job.industry, data=job )\n",
    "plt.xscale('log')\n",
    "plt.figure(figsize=(100,100))\n",
    "plt.show()\n"
   ]
  },
  {
   "cell_type": "code",
   "execution_count": 577,
   "metadata": {},
   "outputs": [
    {
     "name": "stdout",
     "output_type": "stream",
     "text": [
      "outliers by industries\n",
      "None\n"
     ]
    },
    {
     "name": "stderr",
     "output_type": "stream",
     "text": [
      "C:\\Users\\RhuthK\\AppData\\Local\\Temp\\ipykernel_20524\\3096662346.py:48: SettingWithCopyWarning: \n",
      "A value is trying to be set on a copy of a slice from a DataFrame\n",
      "\n",
      "See the caveats in the documentation: https://pandas.pydata.org/pandas-docs/stable/user_guide/indexing.html#returning-a-view-versus-a-copy\n",
      "  data = data.drop([i], inplace=True)\n"
     ]
    },
    {
     "ename": "AttributeError",
     "evalue": "'NoneType' object has no attribute 'value'",
     "output_type": "error",
     "traceback": [
      "\u001b[1;31m---------------------------------------------------------------------------\u001b[0m",
      "\u001b[1;31mAttributeError\u001b[0m                            Traceback (most recent call last)",
      "Cell \u001b[1;32mIn[577], line 44\u001b[0m\n\u001b[0;32m     42\u001b[0m median \u001b[38;5;241m=\u001b[39m data\u001b[38;5;241m.\u001b[39mvalue\u001b[38;5;241m.\u001b[39mmedian\n\u001b[0;32m     43\u001b[0m \u001b[38;5;28;01mfor\u001b[39;00m out \u001b[38;5;129;01min\u001b[39;00m outliers:\n\u001b[1;32m---> 44\u001b[0m     idx \u001b[38;5;241m=\u001b[39m \u001b[38;5;28mlist\u001b[39m(np\u001b[38;5;241m.\u001b[39mwhere(\u001b[43mdata\u001b[49m\u001b[38;5;241;43m.\u001b[39;49m\u001b[43mvalue\u001b[49m \u001b[38;5;241m==\u001b[39m out)[\u001b[38;5;241m0\u001b[39m])\n\u001b[0;32m     45\u001b[0m     idx \u001b[38;5;241m=\u001b[39m data\u001b[38;5;241m.\u001b[39mvalue\u001b[38;5;241m.\u001b[39miloc[idx]\u001b[38;5;241m.\u001b[39mindex\u001b[38;5;241m.\u001b[39mtolist()\n\u001b[0;32m     47\u001b[0m     \u001b[38;5;28;01mfor\u001b[39;00m i \u001b[38;5;129;01min\u001b[39;00m idx:\n",
      "\u001b[1;31mAttributeError\u001b[0m: 'NoneType' object has no attribute 'value'"
     ]
    }
   ],
   "source": [
    "# FINDING AND HANDLING OUTLIERS\n",
    "\n",
    "# data.industry.unique()\n",
    "ind_list = ['Public administration and safety', 'Education',\n",
    "       'Business services', 'Admin and support services',\n",
    "       'Wholesale trade', 'Electricity, gas, water and waste services',\n",
    "       'Transport, postal and storage', 'Retail trade', 'Construction',\n",
    "       'Rental and hiring services', 'Agriculture and mining',\n",
    "       'Real estate services', 'Finance and insurance', 'Manufacturing',\n",
    "       'Information media and telecommunications',\n",
    "       'Food and beverage services', 'Health care and social assistance',\n",
    "       'Arts and recreation services', 'Other services',\n",
    "       'Entertainment - Hospitality', 'Accommodation - Commercial',\n",
    "       'Accommodation', 'Retail', 'Office', 'Entertainment - Other',\n",
    "       'Education and training', 'Health', 'Industrial',\n",
    "       'Other - Employment']\n",
    "job_copy = job.copy()\n",
    "\n",
    "# we will find z-scores to find the outliers\n",
    "print(\"outliers by industries\")\n",
    "def get_outliers(data):\n",
    "    mean = np.mean(data.value)\n",
    "    std = np.std(data.value)\n",
    "    thresh = 3 \n",
    "    outliers = []\n",
    "    for i in data.value:\n",
    "        z_score = (i - mean)/(std)\n",
    "        if (np.abs(z_score) > thresh):\n",
    "                outliers.append(i)\n",
    "  \n",
    "    return(outliers)\n",
    "\n",
    "\n",
    "\n",
    "\n",
    "for i in range(len(ind_list)):\n",
    "    dataset_name = ind_list[i]\n",
    "    data = job[job[\"industry\"] == ind_list[i]]\n",
    "    outliers=get_outliers(data)\n",
    "# print(outliers)\n",
    "\n",
    "    median = data.value.median\n",
    "    for out in outliers:\n",
    "        idx = list(np.where(data.value == out)[0])\n",
    "        idx = data.value.iloc[idx].index.tolist()\n",
    "        \n",
    "        for i in idx:\n",
    "            data = data.drop([i])\n",
    "        \n",
    "    \n",
    "        print(data)\n",
    "  \n",
    "\n",
    "\n",
    "                \n",
    "    \n",
    "\n",
    "\n",
    "\n"
   ]
  },
  {
   "cell_type": "code",
   "execution_count": null,
   "metadata": {},
   "outputs": [],
   "source": [
    "sns.boxplot(x=job.value, y=job.industry, data=job )\n",
    "plt.xscale('log')\n",
    "plt.figure(figsize=(100,100))\n",
    "plt.show()"
   ]
  },
  {
   "cell_type": "code",
   "execution_count": null,
   "metadata": {},
   "outputs": [],
   "source": []
  },
  {
   "cell_type": "code",
   "execution_count": null,
   "metadata": {},
   "outputs": [],
   "source": [
    "from scipy import stats\n",
    "\n",
    "data = job[job[\"industry\"] == \"Public administration and safety\"]\n",
    "#Create a sample DataFrame of student heights\n",
    "df = pd.DataFrame(data.value)\n",
    "\n",
    "# Calculate the z-score for each student's height\n",
    "z = np.abs(stats.zscore(data.value))\n",
    "\n",
    "# Identify outliers as students with a z-score greater than 3\n",
    "threshold = 3\n",
    "outliers = df[z > threshold]\n",
    "\n",
    "# Print the outliers\n",
    "# print(outliers)\n",
    "\n",
    "# drop rows containing outliers\n",
    "df = df.drop(outliers.index)\n",
    "\n"
   ]
  },
  {
   "cell_type": "code",
   "execution_count": null,
   "metadata": {},
   "outputs": [],
   "source": []
  },
  {
   "cell_type": "code",
   "execution_count": null,
   "metadata": {
    "scrolled": true
   },
   "outputs": [],
   "source": [
    "sns.boxplot(x=job.value, y=job.city, data=job )\n",
    "plt.xscale('log')\n",
    "plt.figure(figsize=(5,5))\n",
    "plt.show()"
   ]
  },
  {
   "cell_type": "code",
   "execution_count": null,
   "metadata": {},
   "outputs": [],
   "source": [
    "\n",
    "# from scipy import stats\n",
    "\n",
    "# #Create a sample DataFrame of student heights\n",
    "# data = job[job[\"industry\"] == \"Public administration and safety\"]\n",
    "\n",
    "# # Calculate the z-score for each student's height\n",
    "# z = np.abs(stats.zscore(data.value))\n",
    "\n",
    "# # Identify outliers as students with a z-score greater than 3\n",
    "# threshold = 3\n",
    "# outliers = data.value[z > threshold]\n",
    "\n",
    "# # Print the outliers\n",
    "# print(outliers)\n",
    "    \n",
    "\n",
    "    \n",
    "    \n",
    "\n",
    "    \n",
    "\n",
    "\n",
    "\n",
    "\n",
    "# sns.boxplot(x=job.value, y=job.industry, data=job )\n",
    "# plt.xscale('log')\n",
    "# plt.figure(figsize=(100,100))\n",
    "# plt.show()\n",
    "    "
   ]
  },
  {
   "cell_type": "code",
   "execution_count": null,
   "metadata": {},
   "outputs": [],
   "source": [
    "# data by industry \n",
    "# all indsutries name\n",
    "data = (job\n",
    "        .loc[:, [\"industry\", \"year\", \"value\",\"city\"]]\n",
    "        .set_index(\"industry\")\n",
    "        .sort_values(\"year\")\n",
    "        .reset_index()\n",
    "\n",
    "       )\n",
    "\n",
    "public_data = data.loc[data.industry.isin([\"Public administration and safety\"])]\n",
    "education = data.loc[data.industry.isin([\"Education\"])]\n",
    "bus_ser = data.loc[data.industry.isin([\"Business services\"])]\n",
    "admin = data.loc[data.industry.isin([\"Admin and support services\"])]\n",
    "wholesale = data.loc[data.industry.isin([\"Wholesale trade\"])]\n",
    "electric = data.loc[data.industry.isin([\"Electricity, gas, water and waste services\"])]\n",
    "transport = data.loc[data.industry.isin([\"Transport, postal and storage\"])]\n",
    "retail = data.loc[data.industry.isin([\"Retail trade\"])]\n",
    "construct = data.loc[data.industry.isin([\"Construction\"])]\n",
    "rental = data.loc[data.industry.isin([\"Rental and hiring services\"])]\n",
    "agri = data.loc[data.industry.isin([\"Agriculture and mining\"])]\n",
    "real_es = data.loc[data.industry.isin([\" Real estate services\"])]\n",
    "finance = data.loc[data.industry.isin([\"Finance and insurance\"])]\n",
    "manufacture = data.loc[data.industry.isin([\"Manufacturing\"])]\n",
    "it = data.loc[data.industry.isin([\"Information media and telecommunications\"])]\n",
    "food = data.loc[data.industry.isin([\"Food and beverage services\"])]\n",
    "healthcare = data.loc[data.industry.isin([\"Health care and social assistance\"])]\n",
    "art = data.loc[data.industry.isin([\"Arts and recreation services\"])]\n",
    "other_services = data.loc[data.industry.isin([\"Other services\"])]\n",
    "entertainment = data.loc[data.industry.isin([\"Entertainment - Hospitality\"])]\n",
    "accomodation_commercial = data.loc[data.industry.isin([\"Accommodation - Commercial\"])]\n",
    "accomodation = data.loc[data.industry.isin([\"Accommodation\"])]\n",
    "retail = data.loc[data.industry.isin([\"Retail\"])]\n",
    "office = data.loc[data.industry.isin([\"Office\"])]\n",
    "entertainment = data.loc[data.industry.isin([\"Entertainment - Other\"])]\n",
    "education_training = data.loc[data.industry.isin([\"Education and training\"])]\n",
    "health = data.loc[data.industry.isin([\"Health\"])]\n",
    "industrial = data.loc[data.industry.isin([\"Industrial\"])]\n",
    "other_employment =data.loc[data.industry.isin([\"Other - Employment\"])]\n",
    "\n",
    "len(ind_list)\n",
    "    "
   ]
  },
  {
   "cell_type": "code",
   "execution_count": null,
   "metadata": {},
   "outputs": [],
   "source": [
    "# legend and colours  settings\n",
    "p = sns.scatterplot(data=data,x=\"year\", y=\"value\", hue=\"city\", legend=True )\n",
    "sns.move_legend(p, \"upper left\", bbox_to_anchor=(1, 1))\n",
    "\n",
    "# City of Melbourne and Mebourne CSB will see the sharpest rise in jobs \n"
   ]
  },
  {
   "cell_type": "code",
   "execution_count": null,
   "metadata": {},
   "outputs": [],
   "source": [
    "# axis code for subplot location \n",
    "fig, axs = plt.subplots(7, 4)  # sharex=\"all\",sharey=\"all\" removed\n",
    "fig.set_figwidth(20)\n",
    "fig.set_figheight(20)\n",
    "for ax in axs.flat:\n",
    "    ax.set(xlabel='year', ylabel='value')\n",
    "    # ax.set_xticklabels([])\n",
    "\n",
    "\n",
    "# Hide x labels and tick labels for top plots and y ticks for right plots.\n",
    "for ax in axs.flat:\n",
    "    ax.label_outer()\n",
    "\n",
    "# code that goes through names \n",
    "# of all industries from ind_list \n",
    "# and draws scatterplots\n",
    "x = 0\n",
    "while x < 28:\n",
    "    x = 0\n",
    "    name = ind_list[x]\n",
    "    for i in range(7):\n",
    "        for j in range(4):        \n",
    "            axs[i,j].set_title(name)\n",
    "            sns.scatterplot(data=data.loc[data.industry.isin([name])],x=\"year\", y=\"value\", hue=\"city\", legend=False,ax=axs[i,j])\n",
    "           \n",
    "            \n",
    "            # print(i, j ,name)\n",
    "            x+=1\n",
    "            name = ind_list[x]\n"
   ]
  },
  {
   "cell_type": "code",
   "execution_count": null,
   "metadata": {},
   "outputs": [],
   "source": [
    "plt.scatter(com_data.year,com_data.value)"
   ]
  },
  {
   "cell_type": "code",
   "execution_count": null,
   "metadata": {},
   "outputs": [],
   "source": [
    "sns.scatterplot(data=education, x = \"year\", y=\"value\", hue=\"city\")\n",
    "print(np.max(education.value), np.min(education.value))"
   ]
  },
  {
   "cell_type": "code",
   "execution_count": null,
   "metadata": {},
   "outputs": [],
   "source": []
  },
  {
   "cell_type": "code",
   "execution_count": null,
   "metadata": {},
   "outputs": [],
   "source": []
  },
  {
   "cell_type": "code",
   "execution_count": null,
   "metadata": {},
   "outputs": [],
   "source": []
  },
  {
   "cell_type": "code",
   "execution_count": null,
   "metadata": {},
   "outputs": [],
   "source": []
  },
  {
   "cell_type": "code",
   "execution_count": null,
   "metadata": {},
   "outputs": [],
   "source": []
  },
  {
   "cell_type": "code",
   "execution_count": null,
   "metadata": {},
   "outputs": [],
   "source": []
  },
  {
   "cell_type": "code",
   "execution_count": null,
   "metadata": {},
   "outputs": [],
   "source": [
    "# Lets look at the data by city - City of Melbourne\n",
    "com_data = (job\n",
    "    .loc[job.city.isin([\"City of Melbourne\"])]\n",
    "    .rename(columns={\"industry_space_use\" : \"industry\"})       \n",
    "           )\n",
    "com_data\n",
    "\n",
    "\n",
    "# How many jobs were created by each industry in city of melbourne?\n",
    "future_data = (com_data\n",
    "        .loc[com_data.year>2023, [\"industry\", \"year\", \"value\"]]\n",
    "        .set_index(\"industry\")\n",
    "        .sort_values(\"year\")\n",
    "        .reset_index()\n",
    "\n",
    "       )\n",
    "\n",
    "future_data\n",
    "\n"
   ]
  },
  {
   "cell_type": "markdown",
   "metadata": {},
   "source": [
    "<div class=\"usecase-section-header\">Exploratory Data Analysis on Population Dataset. </div>"
   ]
  },
  {
   "cell_type": "code",
   "execution_count": null,
   "metadata": {},
   "outputs": [],
   "source": []
  },
  {
   "cell_type": "code",
   "execution_count": null,
   "metadata": {},
   "outputs": [],
   "source": []
  },
  {
   "cell_type": "code",
   "execution_count": null,
   "metadata": {},
   "outputs": [],
   "source": []
  },
  {
   "cell_type": "code",
   "execution_count": null,
   "metadata": {},
   "outputs": [],
   "source": []
  },
  {
   "cell_type": "code",
   "execution_count": null,
   "metadata": {},
   "outputs": [],
   "source": []
  },
  {
   "cell_type": "markdown",
   "metadata": {},
   "source": [
    "<div class=\"usecase-section-header\">References</div>\n",
    "<ul>\n",
    "    <li> https://pandas.pydata.org/docs/reference/api/pandas.unique.html </li>\n",
    "    <li>https://note.nkmk.me/en/python-pandas-nan-extract/#:~:text=You%20can%20use%20the%20isnull,a%20missing%20value%20or%20not.&text=isnull()%20is%20an%20alias,and%20both%20are%20used%20interchangeably.</li>\n",
    "    <li>https://www.kaggle.com/code/malanep/finding-and-visualizing-missing-data-in-python</li>\n",
    "    <li>https://libraries.io/pypi/missingno</li>\n",
    "    <li>https://pandas.pydata.org/docs/reference/api/pandas.DataFrame.drop.html</li>\n",
    "    <li>https://stackoverflow.com/questions/44869327/find-index-of-all-rows-with-null-values-in-a-particular-column-in-pandas-datafra</li>\n",
    "https://matplotlib.org/stable/gallery/statistics/hist.html#sphx-glr-gallery-statistics-hist-py\n",
    "\n",
    "    \n",
    "https://studyopedia.com/numpy/search-numpy-array-for-a-value/#:~:text=In%20a%20Numpy%20array%2C%20we,the%20specific%20element%20is%20found.&text=The%20out%20above%20displays%20%5B2,at%20index%202%20and%205.\n",
    "\n",
    "https://saturncloud.io/blog/how-to-detect-and-exclude-outliers-in-a-pandas-dataframe/#:~:text=Outliers%20can%20be%20identified%20using,middle%2050%25%20of%20the%20data.\n",
    "    \n",
    "</ul>"
   ]
  },
  {
   "cell_type": "markdown",
   "metadata": {},
   "source": [
    "<h3> Rhuth's Work Above </h3>\n",
    "<h1>MAIN SECTION </h1> \n",
    "<h3> Tharusha's Work Below </h3>"
   ]
  },
  {
   "cell_type": "markdown",
   "metadata": {},
   "source": []
  },
  {
   "cell_type": "code",
   "execution_count": null,
   "metadata": {},
   "outputs": [],
   "source": [
    "print(pop.columns)\n"
   ]
  },
  {
   "cell_type": "markdown",
   "metadata": {},
   "source": [
    "### Simple Visual of the Population against the Year with Color/ Hue corresponding to the male and female population"
   ]
  },
  {
   "cell_type": "code",
   "execution_count": null,
   "metadata": {
    "scrolled": true
   },
   "outputs": [],
   "source": [
    "#Visual\n",
    "\n",
    "import pandas as pd\n",
    "import matplotlib.pyplot as plt\n",
    "import seaborn as sns\n",
    "\n",
    "\n",
    "sns.lineplot(data=pop, x='year', y='value', hue='gender')\n",
    "plt.title('Population Over Time by Gender')\n",
    "plt.xlabel('Year')\n",
    "plt.ylabel('Population')\n",
    "plt.show()"
   ]
  },
  {
   "cell_type": "markdown",
   "metadata": {},
   "source": [
    "### Scatter Plot "
   ]
  },
  {
   "cell_type": "code",
   "execution_count": null,
   "metadata": {},
   "outputs": [],
   "source": [
    "sns.scatterplot(data=df, x='year', y='value', hue='gender')\n",
    "plt.title('Population Scatter Plot Over Time by Gender')\n",
    "plt.xlabel('Year')\n",
    "plt.ylabel('Population')\n",
    "plt.show()"
   ]
  },
  {
   "cell_type": "code",
   "execution_count": null,
   "metadata": {},
   "outputs": [],
   "source": []
  }
 ],
 "metadata": {
  "kernelspec": {
   "display_name": "Python 3 (ipykernel)",
   "language": "python",
   "name": "python3"
  },
  "language_info": {
   "codemirror_mode": {
    "name": "ipython",
    "version": 3
   },
   "file_extension": ".py",
   "mimetype": "text/x-python",
   "name": "python",
   "nbconvert_exporter": "python",
   "pygments_lexer": "ipython3",
   "version": "3.11.2"
  },
  "vscode": {
   "interpreter": {
    "hash": "ad2bdc8ecc057115af97d19610ffacc2b4e99fae6737bb82f5d7fb13d2f2c186"
   }
  }
 },
 "nbformat": 4,
 "nbformat_minor": 4
}
