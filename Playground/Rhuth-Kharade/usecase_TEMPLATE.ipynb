{
 "cells": [
  {
   "cell_type": "code",
   "execution_count": 119,
   "metadata": {},
   "outputs": [
    {
     "data": {
      "text/html": [
       "\n",
       "<style>\n",
       ".usecase-title, .usecase-duration, .usecase-section-header {\n",
       "    padding-left: 15px;\n",
       "    padding-bottom: 10px;\n",
       "    padding-top: 10px;\n",
       "    padding-right: 15px;\n",
       "    background-color: #0f9295;\n",
       "    color: #fff;\n",
       "}\n",
       "\n",
       ".usecase-title {\n",
       "    font-size: 1.7em;\n",
       "    font-weight: bold;\n",
       "}\n",
       "\n",
       ".usecase-authors, .usecase-level, .usecase-skill {\n",
       "    padding-left: 15px;\n",
       "    padding-bottom: 7px;\n",
       "    padding-top: 7px;\n",
       "    background-color: #baeaeb;\n",
       "    font-size: 1.4em;\n",
       "    color: #121212;\n",
       "}\n",
       "\n",
       ".usecase-level-skill  {\n",
       "    display: flex;\n",
       "}\n",
       "\n",
       ".usecase-level, .usecase-skill {\n",
       "    width: 50%;\n",
       "}\n",
       "\n",
       ".usecase-duration, .usecase-skill {\n",
       "    text-align: right;\n",
       "    padding-right: 15px;\n",
       "    padding-bottom: 8px;\n",
       "    font-size: 1.4em;\n",
       "}\n",
       "\n",
       ".usecase-section-header {\n",
       "    font-weight: bold;\n",
       "    font-size: 1.5em;\n",
       "}\n",
       "\n",
       ".usecase-subsection-header, .usecase-subsection-blurb {\n",
       "    font-weight: bold;\n",
       "    font-size: 1.2em;\n",
       "    color: #121212;\n",
       "}\n",
       "\n",
       ".usecase-subsection-blurb {\n",
       "    font-size: 1em;\n",
       "    font-style: italic;\n",
       "}\n",
       "</style>\n"
      ],
      "text/plain": [
       "<IPython.core.display.HTML object>"
      ]
     },
     "execution_count": 119,
     "metadata": {},
     "output_type": "execute_result"
    }
   ],
   "source": [
    "# DELETE BEFORE PUBLISHING\n",
    "# This is just here so you can preview the styling on your local machine\n",
    "\n",
    "from IPython.core.display import HTML\n",
    "HTML(\"\"\"\n",
    "<style>\n",
    ".usecase-title, .usecase-duration, .usecase-section-header {\n",
    "    padding-left: 15px;\n",
    "    padding-bottom: 10px;\n",
    "    padding-top: 10px;\n",
    "    padding-right: 15px;\n",
    "    background-color: #0f9295;\n",
    "    color: #fff;\n",
    "}\n",
    "\n",
    ".usecase-title {\n",
    "    font-size: 1.7em;\n",
    "    font-weight: bold;\n",
    "}\n",
    "\n",
    ".usecase-authors, .usecase-level, .usecase-skill {\n",
    "    padding-left: 15px;\n",
    "    padding-bottom: 7px;\n",
    "    padding-top: 7px;\n",
    "    background-color: #baeaeb;\n",
    "    font-size: 1.4em;\n",
    "    color: #121212;\n",
    "}\n",
    "\n",
    ".usecase-level-skill  {\n",
    "    display: flex;\n",
    "}\n",
    "\n",
    ".usecase-level, .usecase-skill {\n",
    "    width: 50%;\n",
    "}\n",
    "\n",
    ".usecase-duration, .usecase-skill {\n",
    "    text-align: right;\n",
    "    padding-right: 15px;\n",
    "    padding-bottom: 8px;\n",
    "    font-size: 1.4em;\n",
    "}\n",
    "\n",
    ".usecase-section-header {\n",
    "    font-weight: bold;\n",
    "    font-size: 1.5em;\n",
    "}\n",
    "\n",
    ".usecase-subsection-header, .usecase-subsection-blurb {\n",
    "    font-weight: bold;\n",
    "    font-size: 1.2em;\n",
    "    color: #121212;\n",
    "}\n",
    "\n",
    ".usecase-subsection-blurb {\n",
    "    font-size: 1em;\n",
    "    font-style: italic;\n",
    "}\n",
    "</style>\n",
    "\"\"\")"
   ]
  },
  {
   "cell_type": "markdown",
   "metadata": {},
   "source": [
    "<div class=\"usecase-title\">Population and Job forecasting </div>\n",
    "\n",
    "<div class=\"usecase-authors\"><b>Authored by: Rhutuvaruni Kharade and Tharusha Chao</div>"
   ]
  },
  {
   "cell_type": "markdown",
   "metadata": {},
   "source": [
    "<div class=\"usecase-duration\"><b>Duration:</b> 100 mins</div>\n",
    "\n",
    "<div class=\"usecase-level-skill\">\n",
    "    <div class=\"usecase-level\"><b>Level: </b>Intermediate</div>\n",
    "    <div class=\"usecase-skill\"><b>Pre-requisite Skills: </b>Python, PowerBI, Tableau</div>\n",
    "</div>"
   ]
  },
  {
   "cell_type": "markdown",
   "metadata": {},
   "source": [
    "<div class=\"usecase-section-header\">Scenario</div>"
   ]
  },
  {
   "cell_type": "markdown",
   "metadata": {},
   "source": [
    "<b>As a citizen and a job seeker, I want to find a job in the field that currently has a lot of demand in this area. </b>\n",
    "Job seekers are often worried about which jobs are in high demand or in low demand? Which industry will have higher number of jobs in future ? Which areas have highest numbers of jobs based on a particular industry ? Its important for them to know which jobs they should study for and which city has highest concentration of such jobs so they can plan their living and stay in such areas. By understanding the number of jobs based on a cities, job seekers can ensure that they can get a job or live in close vicinity of that job if they live in a particular areas. \n",
    "\n",
    "<b>As a business owner I want to establish my business where there is a high demand for my service. I want to make sure that the city I am planning to establish my business in has a higher population so I can attract more customers and potential candidates to work for my company. </b>\n",
    "Business owners need to know in which city they should establish their company in. This is based on the population of the area. Number of people living in a particular area can motivate business owners to have their business in such locations. This will also attract many job seekers in these places which will help the businesses find the right candidates (employees) to work for them. \n",
    "\n"
   ]
  },
  {
   "cell_type": "markdown",
   "metadata": {},
   "source": [
    "<div class=\"usecase-section-header\">What this use case will teach you</div>"
   ]
  },
  {
   "cell_type": "markdown",
   "metadata": {},
   "source": [
    "At the end of this use case you will - \n",
    "- Learn how to make open the data in the form of pandas dataframe and save it for futher use.\n",
    "- Have learned how to clean, transform, analyze, visualize data and report outcomes (findings) effectively.\n",
    "- Use the data to create effective visualization like scatterplots, heatmaps, histograms, etc to aid an understanding of the data to technical and non-technical readers\n",
    "- using dashboards for effective story telling to both techical and non-technical audiences. \n",
    "- Using version control tools to collaborate and contribute to the project//\n"
   ]
  },
  {
   "cell_type": "markdown",
   "metadata": {},
   "source": [
    "<div class=\"usecase-section-header\">Introduction</div>"
   ]
  },
  {
   "cell_type": "markdown",
   "metadata": {},
   "source": [
    "This project focuses on finding the relationship between jobs and population. Jobs in different industry impact the population in the area. This project will look at this impact and will also give reader a brief idea about how population changes with respect to the number of jobs in a particular area. The data is sourced from City of Melbourne Open Data which is open source and will be used throughout this project. The dataset will be cleaned, transformed, analyzed, visualized and finally relevant insights will be reported and documented. These findings will help stakeholders, policy makers and other readers for futher decision making.  \n"
   ]
  },
  {
   "cell_type": "markdown",
   "metadata": {},
   "source": [
    "<div class=\"usecase-section-header\">Datasets Used </div>"
   ]
  },
  {
   "cell_type": "markdown",
   "metadata": {},
   "source": [
    "1 : city-of-melbourne-jobs-forecasts-by-small-area-2020-2040\n",
    "\n",
    "2 : city-of-melbourne-population-forecasts-by-small-area-2020-2040"
   ]
  },
  {
   "cell_type": "markdown",
   "metadata": {},
   "source": [
    "<div class=\"usecase-section-header\">Learning Opportunities</div>"
   ]
  },
  {
   "cell_type": "markdown",
   "metadata": {},
   "source": [
    "ADD"
   ]
  },
  {
   "cell_type": "markdown",
   "metadata": {},
   "source": [
    "<div class=\"usecase-section-header\">Importing libraries </div>"
   ]
  },
  {
   "cell_type": "code",
   "execution_count": 120,
   "metadata": {},
   "outputs": [],
   "source": [
    "# importing libraries \n",
    "import pandas as pd \n",
    "import seaborn as sns \n",
    "import numpy as np \n",
    "import requests\n",
    "import os \n",
    "import matplotlib.pyplot as plt \n",
    "#import missingno as msno\n",
    "\n"
   ]
  },
  {
   "cell_type": "markdown",
   "metadata": {},
   "source": [
    "<div class=\"usecase-section-header\">Connecting to Dataset and Testing </div>"
   ]
  },
  {
   "cell_type": "code",
   "execution_count": 121,
   "metadata": {},
   "outputs": [
    {
     "data": {
      "text/html": [
       "<div>\n",
       "<style scoped>\n",
       "    .dataframe tbody tr th:only-of-type {\n",
       "        vertical-align: middle;\n",
       "    }\n",
       "\n",
       "    .dataframe tbody tr th {\n",
       "        vertical-align: top;\n",
       "    }\n",
       "\n",
       "    .dataframe thead th {\n",
       "        text-align: right;\n",
       "    }\n",
       "</style>\n",
       "<table border=\"1\" class=\"dataframe\">\n",
       "  <thead>\n",
       "    <tr style=\"text-align: right;\">\n",
       "      <th></th>\n",
       "      <th>Geography</th>\n",
       "      <th>Year</th>\n",
       "      <th>Category</th>\n",
       "      <th>Industry Space Use</th>\n",
       "      <th>Value</th>\n",
       "    </tr>\n",
       "  </thead>\n",
       "  <tbody>\n",
       "    <tr>\n",
       "      <th>0</th>\n",
       "      <td>City of Melbourne</td>\n",
       "      <td>2023</td>\n",
       "      <td>Jobs by industry</td>\n",
       "      <td>Accommodation</td>\n",
       "      <td>10286</td>\n",
       "    </tr>\n",
       "    <tr>\n",
       "      <th>1</th>\n",
       "      <td>City of Melbourne</td>\n",
       "      <td>2026</td>\n",
       "      <td>Jobs by industry</td>\n",
       "      <td>Accommodation</td>\n",
       "      <td>11631</td>\n",
       "    </tr>\n",
       "    <tr>\n",
       "      <th>2</th>\n",
       "      <td>City of Melbourne</td>\n",
       "      <td>2032</td>\n",
       "      <td>Jobs by industry</td>\n",
       "      <td>Accommodation</td>\n",
       "      <td>13207</td>\n",
       "    </tr>\n",
       "    <tr>\n",
       "      <th>3</th>\n",
       "      <td>City of Melbourne</td>\n",
       "      <td>2034</td>\n",
       "      <td>Jobs by industry</td>\n",
       "      <td>Accommodation</td>\n",
       "      <td>13420</td>\n",
       "    </tr>\n",
       "    <tr>\n",
       "      <th>4</th>\n",
       "      <td>City of Melbourne</td>\n",
       "      <td>2035</td>\n",
       "      <td>Jobs by industry</td>\n",
       "      <td>Accommodation</td>\n",
       "      <td>13529</td>\n",
       "    </tr>\n",
       "    <tr>\n",
       "      <th>...</th>\n",
       "      <td>...</td>\n",
       "      <td>...</td>\n",
       "      <td>...</td>\n",
       "      <td>...</td>\n",
       "      <td>...</td>\n",
       "    </tr>\n",
       "    <tr>\n",
       "      <th>9109</th>\n",
       "      <td>West Melbourne (Residential)</td>\n",
       "      <td>2025</td>\n",
       "      <td>Jobs by space use</td>\n",
       "      <td>Total jobs</td>\n",
       "      <td>5454</td>\n",
       "    </tr>\n",
       "    <tr>\n",
       "      <th>9110</th>\n",
       "      <td>West Melbourne (Residential)</td>\n",
       "      <td>2026</td>\n",
       "      <td>Jobs by space use</td>\n",
       "      <td>Total jobs</td>\n",
       "      <td>5618</td>\n",
       "    </tr>\n",
       "    <tr>\n",
       "      <th>9111</th>\n",
       "      <td>West Melbourne (Residential)</td>\n",
       "      <td>2029</td>\n",
       "      <td>Jobs by space use</td>\n",
       "      <td>Total jobs</td>\n",
       "      <td>6118</td>\n",
       "    </tr>\n",
       "    <tr>\n",
       "      <th>9112</th>\n",
       "      <td>West Melbourne (Residential)</td>\n",
       "      <td>2033</td>\n",
       "      <td>Jobs by space use</td>\n",
       "      <td>Total jobs</td>\n",
       "      <td>6717</td>\n",
       "    </tr>\n",
       "    <tr>\n",
       "      <th>9113</th>\n",
       "      <td>West Melbourne (Residential)</td>\n",
       "      <td>2036</td>\n",
       "      <td>Jobs by space use</td>\n",
       "      <td>Total jobs</td>\n",
       "      <td>7027</td>\n",
       "    </tr>\n",
       "  </tbody>\n",
       "</table>\n",
       "<p>9114 rows × 5 columns</p>\n",
       "</div>"
      ],
      "text/plain": [
       "                         Geography  Year           Category  \\\n",
       "0                City of Melbourne  2023   Jobs by industry   \n",
       "1                City of Melbourne  2026   Jobs by industry   \n",
       "2                City of Melbourne  2032   Jobs by industry   \n",
       "3                City of Melbourne  2034   Jobs by industry   \n",
       "4                City of Melbourne  2035   Jobs by industry   \n",
       "...                            ...   ...                ...   \n",
       "9109  West Melbourne (Residential)  2025  Jobs by space use   \n",
       "9110  West Melbourne (Residential)  2026  Jobs by space use   \n",
       "9111  West Melbourne (Residential)  2029  Jobs by space use   \n",
       "9112  West Melbourne (Residential)  2033  Jobs by space use   \n",
       "9113  West Melbourne (Residential)  2036  Jobs by space use   \n",
       "\n",
       "     Industry Space Use  Value  \n",
       "0         Accommodation  10286  \n",
       "1         Accommodation  11631  \n",
       "2         Accommodation  13207  \n",
       "3         Accommodation  13420  \n",
       "4         Accommodation  13529  \n",
       "...                 ...    ...  \n",
       "9109         Total jobs   5454  \n",
       "9110         Total jobs   5618  \n",
       "9111         Total jobs   6118  \n",
       "9112         Total jobs   6717  \n",
       "9113         Total jobs   7027  \n",
       "\n",
       "[9114 rows x 5 columns]"
      ]
     },
     "execution_count": 121,
     "metadata": {},
     "output_type": "execute_result"
    }
   ],
   "source": [
    "#job = pd.read_csv(\"city-of-melbourne-jobs-forecasts-by-small-area-2020-2040.csv\")\n",
    "job = pd.read_csv(\"https://data.melbourne.vic.gov.au/api/explore/v2.1/catalog/datasets/city-of-melbourne-jobs-forecasts-by-small-area-2020-2040/exports/csv?lang=en&timezone=Australia%2FSydney&use_labels=true&delimiter=%2C\")\n",
    "job"
   ]
  },
  {
   "cell_type": "code",
   "execution_count": 122,
   "metadata": {},
   "outputs": [
    {
     "data": {
      "text/html": [
       "<div>\n",
       "<style scoped>\n",
       "    .dataframe tbody tr th:only-of-type {\n",
       "        vertical-align: middle;\n",
       "    }\n",
       "\n",
       "    .dataframe tbody tr th {\n",
       "        vertical-align: top;\n",
       "    }\n",
       "\n",
       "    .dataframe thead th {\n",
       "        text-align: right;\n",
       "    }\n",
       "</style>\n",
       "<table border=\"1\" class=\"dataframe\">\n",
       "  <thead>\n",
       "    <tr style=\"text-align: right;\">\n",
       "      <th></th>\n",
       "      <th>Geography</th>\n",
       "      <th>Year</th>\n",
       "      <th>Category</th>\n",
       "      <th>Industry Space Use</th>\n",
       "      <th>Value</th>\n",
       "    </tr>\n",
       "  </thead>\n",
       "  <tbody>\n",
       "    <tr>\n",
       "      <th>0</th>\n",
       "      <td>City of Melbourne</td>\n",
       "      <td>2023</td>\n",
       "      <td>Jobs by industry</td>\n",
       "      <td>Accommodation</td>\n",
       "      <td>10286</td>\n",
       "    </tr>\n",
       "    <tr>\n",
       "      <th>1</th>\n",
       "      <td>City of Melbourne</td>\n",
       "      <td>2026</td>\n",
       "      <td>Jobs by industry</td>\n",
       "      <td>Accommodation</td>\n",
       "      <td>11631</td>\n",
       "    </tr>\n",
       "    <tr>\n",
       "      <th>2</th>\n",
       "      <td>City of Melbourne</td>\n",
       "      <td>2032</td>\n",
       "      <td>Jobs by industry</td>\n",
       "      <td>Accommodation</td>\n",
       "      <td>13207</td>\n",
       "    </tr>\n",
       "    <tr>\n",
       "      <th>3</th>\n",
       "      <td>City of Melbourne</td>\n",
       "      <td>2034</td>\n",
       "      <td>Jobs by industry</td>\n",
       "      <td>Accommodation</td>\n",
       "      <td>13420</td>\n",
       "    </tr>\n",
       "    <tr>\n",
       "      <th>4</th>\n",
       "      <td>City of Melbourne</td>\n",
       "      <td>2035</td>\n",
       "      <td>Jobs by industry</td>\n",
       "      <td>Accommodation</td>\n",
       "      <td>13529</td>\n",
       "    </tr>\n",
       "  </tbody>\n",
       "</table>\n",
       "</div>"
      ],
      "text/plain": [
       "           Geography  Year          Category Industry Space Use  Value\n",
       "0  City of Melbourne  2023  Jobs by industry      Accommodation  10286\n",
       "1  City of Melbourne  2026  Jobs by industry      Accommodation  11631\n",
       "2  City of Melbourne  2032  Jobs by industry      Accommodation  13207\n",
       "3  City of Melbourne  2034  Jobs by industry      Accommodation  13420\n",
       "4  City of Melbourne  2035  Jobs by industry      Accommodation  13529"
      ]
     },
     "execution_count": 122,
     "metadata": {},
     "output_type": "execute_result"
    }
   ],
   "source": [
    "job.head()"
   ]
  },
  {
   "cell_type": "code",
   "execution_count": 123,
   "metadata": {},
   "outputs": [
    {
     "name": "stdout",
     "output_type": "stream",
     "text": [
      "<class 'pandas.core.frame.DataFrame'>\n",
      "RangeIndex: 9114 entries, 0 to 9113\n",
      "Data columns (total 5 columns):\n",
      " #   Column              Non-Null Count  Dtype \n",
      "---  ------              --------------  ----- \n",
      " 0   Geography           9114 non-null   object\n",
      " 1   Year                9114 non-null   int64 \n",
      " 2   Category            9114 non-null   object\n",
      " 3   Industry Space Use  9114 non-null   object\n",
      " 4   Value               9114 non-null   int64 \n",
      "dtypes: int64(2), object(3)\n",
      "memory usage: 356.1+ KB\n"
     ]
    }
   ],
   "source": [
    "# to get a basic understanding of variables and null values\n",
    "job.info()"
   ]
  },
  {
   "cell_type": "code",
   "execution_count": 124,
   "metadata": {},
   "outputs": [
    {
     "data": {
      "text/plain": [
       "(9114, 5)"
      ]
     },
     "execution_count": 124,
     "metadata": {},
     "output_type": "execute_result"
    }
   ],
   "source": [
    "# To see total numbers of rows and columns \n",
    "job.shape"
   ]
  },
  {
   "cell_type": "code",
   "execution_count": 125,
   "metadata": {},
   "outputs": [],
   "source": [
    "# Renaming columns for ease, making them all lowercase. \n",
    "job = job.rename(columns = {\"Geography\":\"city\", \"Year\":\"year\", \"Category\":\"category\", \"Industry Space Use\": \"industry_space_use\", \"Value\": \"value\"} )"
   ]
  },
  {
   "cell_type": "code",
   "execution_count": 126,
   "metadata": {},
   "outputs": [
    {
     "data": {
      "text/plain": [
       "array(['City of Melbourne', 'Carlton', 'Docklands', 'East Melbourne',\n",
       "       'Kensington', 'Melbourne (CBD)', 'Melbourne (Remainder)',\n",
       "       'North Melbourne', 'Parkville', 'Port Melbourne', 'South Yarra',\n",
       "       'Southbank', 'West Melbourne (Industrial)',\n",
       "       'West Melbourne (Residential)'], dtype=object)"
      ]
     },
     "execution_count": 126,
     "metadata": {},
     "output_type": "execute_result"
    }
   ],
   "source": [
    "# In geography columns, to see which unique location it consists of\n",
    "job.city.unique()"
   ]
  },
  {
   "cell_type": "code",
   "execution_count": 127,
   "metadata": {},
   "outputs": [
    {
     "data": {
      "text/plain": [
       "array([2023, 2026, 2032, 2034, 2035, 2021, 2025, 2037, 2040, 2027, 2028,\n",
       "       2036, 2041, 2029, 2031, 2038, 2024, 2030, 2039, 2022, 2033],\n",
       "      dtype=int64)"
      ]
     },
     "execution_count": 127,
     "metadata": {},
     "output_type": "execute_result"
    }
   ],
   "source": [
    "# to check unique years this data is from\n",
    "job.year.unique()"
   ]
  },
  {
   "cell_type": "code",
   "execution_count": 128,
   "metadata": {},
   "outputs": [
    {
     "data": {
      "text/html": [
       "<div>\n",
       "<style scoped>\n",
       "    .dataframe tbody tr th:only-of-type {\n",
       "        vertical-align: middle;\n",
       "    }\n",
       "\n",
       "    .dataframe tbody tr th {\n",
       "        vertical-align: top;\n",
       "    }\n",
       "\n",
       "    .dataframe thead th {\n",
       "        text-align: right;\n",
       "    }\n",
       "</style>\n",
       "<table border=\"1\" class=\"dataframe\">\n",
       "  <thead>\n",
       "    <tr style=\"text-align: right;\">\n",
       "      <th></th>\n",
       "      <th>city</th>\n",
       "      <th>year</th>\n",
       "      <th>category</th>\n",
       "      <th>industry_space_use</th>\n",
       "      <th>value</th>\n",
       "    </tr>\n",
       "  </thead>\n",
       "  <tbody>\n",
       "    <tr>\n",
       "      <th>0</th>\n",
       "      <td>City of Melbourne</td>\n",
       "      <td>2023</td>\n",
       "      <td>Jobs by industry</td>\n",
       "      <td>Accommodation</td>\n",
       "      <td>10286</td>\n",
       "    </tr>\n",
       "    <tr>\n",
       "      <th>1</th>\n",
       "      <td>City of Melbourne</td>\n",
       "      <td>2026</td>\n",
       "      <td>Jobs by industry</td>\n",
       "      <td>Accommodation</td>\n",
       "      <td>11631</td>\n",
       "    </tr>\n",
       "    <tr>\n",
       "      <th>2</th>\n",
       "      <td>City of Melbourne</td>\n",
       "      <td>2032</td>\n",
       "      <td>Jobs by industry</td>\n",
       "      <td>Accommodation</td>\n",
       "      <td>13207</td>\n",
       "    </tr>\n",
       "    <tr>\n",
       "      <th>3</th>\n",
       "      <td>City of Melbourne</td>\n",
       "      <td>2034</td>\n",
       "      <td>Jobs by industry</td>\n",
       "      <td>Accommodation</td>\n",
       "      <td>13420</td>\n",
       "    </tr>\n",
       "    <tr>\n",
       "      <th>4</th>\n",
       "      <td>City of Melbourne</td>\n",
       "      <td>2035</td>\n",
       "      <td>Jobs by industry</td>\n",
       "      <td>Accommodation</td>\n",
       "      <td>13529</td>\n",
       "    </tr>\n",
       "    <tr>\n",
       "      <th>...</th>\n",
       "      <td>...</td>\n",
       "      <td>...</td>\n",
       "      <td>...</td>\n",
       "      <td>...</td>\n",
       "      <td>...</td>\n",
       "    </tr>\n",
       "    <tr>\n",
       "      <th>9109</th>\n",
       "      <td>West Melbourne (Residential)</td>\n",
       "      <td>2025</td>\n",
       "      <td>Jobs by space use</td>\n",
       "      <td>Total jobs</td>\n",
       "      <td>5454</td>\n",
       "    </tr>\n",
       "    <tr>\n",
       "      <th>9110</th>\n",
       "      <td>West Melbourne (Residential)</td>\n",
       "      <td>2026</td>\n",
       "      <td>Jobs by space use</td>\n",
       "      <td>Total jobs</td>\n",
       "      <td>5618</td>\n",
       "    </tr>\n",
       "    <tr>\n",
       "      <th>9111</th>\n",
       "      <td>West Melbourne (Residential)</td>\n",
       "      <td>2029</td>\n",
       "      <td>Jobs by space use</td>\n",
       "      <td>Total jobs</td>\n",
       "      <td>6118</td>\n",
       "    </tr>\n",
       "    <tr>\n",
       "      <th>9112</th>\n",
       "      <td>West Melbourne (Residential)</td>\n",
       "      <td>2033</td>\n",
       "      <td>Jobs by space use</td>\n",
       "      <td>Total jobs</td>\n",
       "      <td>6717</td>\n",
       "    </tr>\n",
       "    <tr>\n",
       "      <th>9113</th>\n",
       "      <td>West Melbourne (Residential)</td>\n",
       "      <td>2036</td>\n",
       "      <td>Jobs by space use</td>\n",
       "      <td>Total jobs</td>\n",
       "      <td>7027</td>\n",
       "    </tr>\n",
       "  </tbody>\n",
       "</table>\n",
       "<p>9114 rows × 5 columns</p>\n",
       "</div>"
      ],
      "text/plain": [
       "                              city  year           category  \\\n",
       "0                City of Melbourne  2023   Jobs by industry   \n",
       "1                City of Melbourne  2026   Jobs by industry   \n",
       "2                City of Melbourne  2032   Jobs by industry   \n",
       "3                City of Melbourne  2034   Jobs by industry   \n",
       "4                City of Melbourne  2035   Jobs by industry   \n",
       "...                            ...   ...                ...   \n",
       "9109  West Melbourne (Residential)  2025  Jobs by space use   \n",
       "9110  West Melbourne (Residential)  2026  Jobs by space use   \n",
       "9111  West Melbourne (Residential)  2029  Jobs by space use   \n",
       "9112  West Melbourne (Residential)  2033  Jobs by space use   \n",
       "9113  West Melbourne (Residential)  2036  Jobs by space use   \n",
       "\n",
       "     industry_space_use  value  \n",
       "0         Accommodation  10286  \n",
       "1         Accommodation  11631  \n",
       "2         Accommodation  13207  \n",
       "3         Accommodation  13420  \n",
       "4         Accommodation  13529  \n",
       "...                 ...    ...  \n",
       "9109         Total jobs   5454  \n",
       "9110         Total jobs   5618  \n",
       "9111         Total jobs   6118  \n",
       "9112         Total jobs   6717  \n",
       "9113         Total jobs   7027  \n",
       "\n",
       "[9114 rows x 5 columns]"
      ]
     },
     "execution_count": 128,
     "metadata": {},
     "output_type": "execute_result"
    }
   ],
   "source": [
    "# to understand uniqe categories in category columns \n",
    "# job.category.unique()\n",
    "job"
   ]
  },
  {
   "cell_type": "code",
   "execution_count": 129,
   "metadata": {},
   "outputs": [
    {
     "data": {
      "text/plain": [
       "array(['Accommodation', 'Admin and support services',\n",
       "       'Agriculture and mining', 'Arts and recreation services',\n",
       "       'Business services', 'Construction', 'Education and training',\n",
       "       'Other services', 'Electricity, gas, water and waste services',\n",
       "       'Finance and insurance', 'Food and beverage services',\n",
       "       'Health care and social assistance',\n",
       "       'Information media and telecommunications', 'Manufacturing',\n",
       "       'Public administration and safety', 'Real estate services',\n",
       "       'Rental and hiring services', 'Retail trade',\n",
       "       'Transport, postal and storage', 'Wholesale trade',\n",
       "       'Accommodation - Commercial', 'Education',\n",
       "       'Entertainment - Hospitality', 'Entertainment - Other', 'Health',\n",
       "       'Industrial', 'Office', 'Other - Employment', 'Retail',\n",
       "       'Total jobs'], dtype=object)"
      ]
     },
     "execution_count": 129,
     "metadata": {},
     "output_type": "execute_result"
    }
   ],
   "source": [
    "job.industry_space_use.unique()"
   ]
  },
  {
   "cell_type": "markdown",
   "metadata": {},
   "source": [
    "<div class=\"usecase-section-header\">About Jobs Forecast Dataset. </div>"
   ]
  },
  {
   "cell_type": "markdown",
   "metadata": {},
   "source": [
    "This dataset provides jobs forecasts by single year for 2021 to 2041. Prepared by SGS Economics and Planning (Jan-Jun 2022), forecasts are available for the municipality and small areas, as well as by industry and space use type. This dataset has total of 9114 rows which indicates total cases and 5 columns which indicate variables(features). The dataset contains the following variables (features): \n",
    "    <ul>\n",
    "        <li> <b>city:</b> Geographical area (Melbourne LGA or small areas used for the City of Melbourne's CLUE analysis). Small areas mostly correspond to traditional suburb boundaries. This is a categorical variable of type <b>object</b>. This variable takes value from the following list of locations: <b> 'City of Melbourne', 'Carlton', 'Docklands', 'East Melbourne','Kensington', 'Melbourne (CBD)', 'Melbourne (Remainder)','North Melbourne', 'Parkville', 'Port Melbourne', 'South Yarra','Southbank', 'West Melbourne (Industrial)','West Melbourne (Residential)'</b></li><hr>\n",
    "        <li>\n",
    "            <b>year:</b> This variables shows the year the job were created. This is a numerical variable of type <b>object</b>. Year is from <b>2022 to 2040</b>. </li><hr>\n",
    "        <li>\n",
    "            <b>category:</b> This variables shows the category of the job that was created in that particular year. This is a numerical variable of type <b>object</b>. There are two categories in this variables however we will only look at category by industry.  </li><hr>\n",
    "        <li>\n",
    "            <b>industry_space_use:</b> This variables shows the space used by a particular industry that was established in given year. This is a numerical variable of type <b>object</b></li><hr>\n",
    "        <li>\n",
    "            <b>value:</b> This variables shows the number of jobs created by a particular industry that was established in given year. This is a numerical variable of type <b>integer</b>  \n",
    "        </li>\n",
    "    </ul></i><hr>\n",
    "</ul>\n",
    "</p>"
   ]
  },
  {
   "cell_type": "code",
   "execution_count": 130,
   "metadata": {},
   "outputs": [
    {
     "data": {
      "text/html": [
       "<div>\n",
       "<style scoped>\n",
       "    .dataframe tbody tr th:only-of-type {\n",
       "        vertical-align: middle;\n",
       "    }\n",
       "\n",
       "    .dataframe tbody tr th {\n",
       "        vertical-align: top;\n",
       "    }\n",
       "\n",
       "    .dataframe thead th {\n",
       "        text-align: right;\n",
       "    }\n",
       "</style>\n",
       "<table border=\"1\" class=\"dataframe\">\n",
       "  <thead>\n",
       "    <tr style=\"text-align: right;\">\n",
       "      <th></th>\n",
       "      <th>Geography</th>\n",
       "      <th>Year</th>\n",
       "      <th>Gender</th>\n",
       "      <th>Age</th>\n",
       "      <th>Value</th>\n",
       "    </tr>\n",
       "  </thead>\n",
       "  <tbody>\n",
       "    <tr>\n",
       "      <th>0</th>\n",
       "      <td>City of Melbourne</td>\n",
       "      <td>2021</td>\n",
       "      <td>Female</td>\n",
       "      <td>Age 0-4</td>\n",
       "      <td>1943.0</td>\n",
       "    </tr>\n",
       "    <tr>\n",
       "      <th>1</th>\n",
       "      <td>City of Melbourne</td>\n",
       "      <td>2023</td>\n",
       "      <td>Female</td>\n",
       "      <td>Age 0-4</td>\n",
       "      <td>2477.0</td>\n",
       "    </tr>\n",
       "    <tr>\n",
       "      <th>2</th>\n",
       "      <td>City of Melbourne</td>\n",
       "      <td>2026</td>\n",
       "      <td>Female</td>\n",
       "      <td>Age 0-4</td>\n",
       "      <td>3595.0</td>\n",
       "    </tr>\n",
       "    <tr>\n",
       "      <th>3</th>\n",
       "      <td>City of Melbourne</td>\n",
       "      <td>2028</td>\n",
       "      <td>Female</td>\n",
       "      <td>Age 0-4</td>\n",
       "      <td>4083.0</td>\n",
       "    </tr>\n",
       "    <tr>\n",
       "      <th>4</th>\n",
       "      <td>City of Melbourne</td>\n",
       "      <td>2034</td>\n",
       "      <td>Female</td>\n",
       "      <td>Age 0-4</td>\n",
       "      <td>5242.0</td>\n",
       "    </tr>\n",
       "    <tr>\n",
       "      <th>...</th>\n",
       "      <td>...</td>\n",
       "      <td>...</td>\n",
       "      <td>...</td>\n",
       "      <td>...</td>\n",
       "      <td>...</td>\n",
       "    </tr>\n",
       "    <tr>\n",
       "      <th>17047</th>\n",
       "      <td>West Melbourne (Residential)</td>\n",
       "      <td>2029</td>\n",
       "      <td>Not applicable</td>\n",
       "      <td>Total population</td>\n",
       "      <td>11673.0</td>\n",
       "    </tr>\n",
       "    <tr>\n",
       "      <th>17048</th>\n",
       "      <td>West Melbourne (Residential)</td>\n",
       "      <td>2032</td>\n",
       "      <td>Not applicable</td>\n",
       "      <td>Total population</td>\n",
       "      <td>13191.0</td>\n",
       "    </tr>\n",
       "    <tr>\n",
       "      <th>17049</th>\n",
       "      <td>West Melbourne (Residential)</td>\n",
       "      <td>2035</td>\n",
       "      <td>Not applicable</td>\n",
       "      <td>Total population</td>\n",
       "      <td>14820.0</td>\n",
       "    </tr>\n",
       "    <tr>\n",
       "      <th>17050</th>\n",
       "      <td>West Melbourne (Residential)</td>\n",
       "      <td>2039</td>\n",
       "      <td>Not applicable</td>\n",
       "      <td>Total population</td>\n",
       "      <td>14794.0</td>\n",
       "    </tr>\n",
       "    <tr>\n",
       "      <th>17051</th>\n",
       "      <td>West Melbourne (Residential)</td>\n",
       "      <td>2041</td>\n",
       "      <td>Not applicable</td>\n",
       "      <td>Total population</td>\n",
       "      <td>14814.0</td>\n",
       "    </tr>\n",
       "  </tbody>\n",
       "</table>\n",
       "<p>17052 rows × 5 columns</p>\n",
       "</div>"
      ],
      "text/plain": [
       "                          Geography  Year          Gender               Age  \\\n",
       "0                 City of Melbourne  2021          Female           Age 0-4   \n",
       "1                 City of Melbourne  2023          Female           Age 0-4   \n",
       "2                 City of Melbourne  2026          Female           Age 0-4   \n",
       "3                 City of Melbourne  2028          Female           Age 0-4   \n",
       "4                 City of Melbourne  2034          Female           Age 0-4   \n",
       "...                             ...   ...             ...               ...   \n",
       "17047  West Melbourne (Residential)  2029  Not applicable  Total population   \n",
       "17048  West Melbourne (Residential)  2032  Not applicable  Total population   \n",
       "17049  West Melbourne (Residential)  2035  Not applicable  Total population   \n",
       "17050  West Melbourne (Residential)  2039  Not applicable  Total population   \n",
       "17051  West Melbourne (Residential)  2041  Not applicable  Total population   \n",
       "\n",
       "         Value  \n",
       "0       1943.0  \n",
       "1       2477.0  \n",
       "2       3595.0  \n",
       "3       4083.0  \n",
       "4       5242.0  \n",
       "...        ...  \n",
       "17047  11673.0  \n",
       "17048  13191.0  \n",
       "17049  14820.0  \n",
       "17050  14794.0  \n",
       "17051  14814.0  \n",
       "\n",
       "[17052 rows x 5 columns]"
      ]
     },
     "execution_count": 130,
     "metadata": {},
     "output_type": "execute_result"
    }
   ],
   "source": [
    "#pop = pd.read_csv(\"city-of-melbourne-population-forecasts-by-small-area-2020-2040.csv\")\n",
    "pop = pd.read_csv(\"https://data.melbourne.vic.gov.au/api/explore/v2.1/catalog/datasets/city-of-melbourne-population-forecasts-by-small-area-2020-2040/exports/csv?lang=en&timezone=Australia%2FSydney&use_labels=true&delimiter=%2C\")\n",
    "pop          "
   ]
  },
  {
   "cell_type": "code",
   "execution_count": 131,
   "metadata": {},
   "outputs": [
    {
     "data": {
      "text/html": [
       "<div>\n",
       "<style scoped>\n",
       "    .dataframe tbody tr th:only-of-type {\n",
       "        vertical-align: middle;\n",
       "    }\n",
       "\n",
       "    .dataframe tbody tr th {\n",
       "        vertical-align: top;\n",
       "    }\n",
       "\n",
       "    .dataframe thead th {\n",
       "        text-align: right;\n",
       "    }\n",
       "</style>\n",
       "<table border=\"1\" class=\"dataframe\">\n",
       "  <thead>\n",
       "    <tr style=\"text-align: right;\">\n",
       "      <th></th>\n",
       "      <th>Geography</th>\n",
       "      <th>Year</th>\n",
       "      <th>Gender</th>\n",
       "      <th>Age</th>\n",
       "      <th>Value</th>\n",
       "    </tr>\n",
       "  </thead>\n",
       "  <tbody>\n",
       "    <tr>\n",
       "      <th>0</th>\n",
       "      <td>City of Melbourne</td>\n",
       "      <td>2021</td>\n",
       "      <td>Female</td>\n",
       "      <td>Age 0-4</td>\n",
       "      <td>1943.0</td>\n",
       "    </tr>\n",
       "    <tr>\n",
       "      <th>1</th>\n",
       "      <td>City of Melbourne</td>\n",
       "      <td>2023</td>\n",
       "      <td>Female</td>\n",
       "      <td>Age 0-4</td>\n",
       "      <td>2477.0</td>\n",
       "    </tr>\n",
       "    <tr>\n",
       "      <th>2</th>\n",
       "      <td>City of Melbourne</td>\n",
       "      <td>2026</td>\n",
       "      <td>Female</td>\n",
       "      <td>Age 0-4</td>\n",
       "      <td>3595.0</td>\n",
       "    </tr>\n",
       "    <tr>\n",
       "      <th>3</th>\n",
       "      <td>City of Melbourne</td>\n",
       "      <td>2028</td>\n",
       "      <td>Female</td>\n",
       "      <td>Age 0-4</td>\n",
       "      <td>4083.0</td>\n",
       "    </tr>\n",
       "    <tr>\n",
       "      <th>4</th>\n",
       "      <td>City of Melbourne</td>\n",
       "      <td>2034</td>\n",
       "      <td>Female</td>\n",
       "      <td>Age 0-4</td>\n",
       "      <td>5242.0</td>\n",
       "    </tr>\n",
       "  </tbody>\n",
       "</table>\n",
       "</div>"
      ],
      "text/plain": [
       "           Geography  Year  Gender      Age   Value\n",
       "0  City of Melbourne  2021  Female  Age 0-4  1943.0\n",
       "1  City of Melbourne  2023  Female  Age 0-4  2477.0\n",
       "2  City of Melbourne  2026  Female  Age 0-4  3595.0\n",
       "3  City of Melbourne  2028  Female  Age 0-4  4083.0\n",
       "4  City of Melbourne  2034  Female  Age 0-4  5242.0"
      ]
     },
     "execution_count": 131,
     "metadata": {},
     "output_type": "execute_result"
    }
   ],
   "source": [
    "pop.head()"
   ]
  },
  {
   "cell_type": "code",
   "execution_count": 132,
   "metadata": {},
   "outputs": [
    {
     "name": "stdout",
     "output_type": "stream",
     "text": [
      "<class 'pandas.core.frame.DataFrame'>\n",
      "RangeIndex: 17052 entries, 0 to 17051\n",
      "Data columns (total 5 columns):\n",
      " #   Column     Non-Null Count  Dtype  \n",
      "---  ------     --------------  -----  \n",
      " 0   Geography  17052 non-null  object \n",
      " 1   Year       17052 non-null  int64  \n",
      " 2   Gender     17052 non-null  object \n",
      " 3   Age        17052 non-null  object \n",
      " 4   Value      16989 non-null  float64\n",
      "dtypes: float64(1), int64(1), object(3)\n",
      "memory usage: 666.2+ KB\n"
     ]
    }
   ],
   "source": [
    "pop.info()"
   ]
  },
  {
   "cell_type": "code",
   "execution_count": 133,
   "metadata": {},
   "outputs": [
    {
     "data": {
      "text/plain": [
       "(17052, 5)"
      ]
     },
     "execution_count": 133,
     "metadata": {},
     "output_type": "execute_result"
    }
   ],
   "source": [
    "pop.shape"
   ]
  },
  {
   "cell_type": "code",
   "execution_count": 134,
   "metadata": {},
   "outputs": [],
   "source": [
    "# Renaming columns for ease, making them all lowercase. \n",
    "pop = pop.rename(columns = {\"Geography\":\"city\", \"Year\":\"year\", \"Gender\":\"gender\", \"Age\": \"age\", \"Value\": \"value\"} )"
   ]
  },
  {
   "cell_type": "code",
   "execution_count": 135,
   "metadata": {},
   "outputs": [
    {
     "data": {
      "text/plain": [
       "array(['City of Melbourne', 'Carlton', 'Docklands', 'East Melbourne',\n",
       "       'Kensington', 'Melbourne (CBD)', 'Melbourne (Remainder)',\n",
       "       'North Melbourne', 'Parkville', 'Port Melbourne', 'South Yarra',\n",
       "       'Southbank', 'West Melbourne (Industrial)',\n",
       "       'West Melbourne (Residential)'], dtype=object)"
      ]
     },
     "execution_count": 135,
     "metadata": {},
     "output_type": "execute_result"
    }
   ],
   "source": [
    "pop.city.unique()"
   ]
  },
  {
   "cell_type": "code",
   "execution_count": 136,
   "metadata": {},
   "outputs": [
    {
     "data": {
      "text/plain": [
       "array(['Female', 'Male', 'Total', 'Not applicable'], dtype=object)"
      ]
     },
     "execution_count": 136,
     "metadata": {},
     "output_type": "execute_result"
    }
   ],
   "source": [
    "pop.gender.unique()"
   ]
  },
  {
   "cell_type": "code",
   "execution_count": 137,
   "metadata": {},
   "outputs": [
    {
     "data": {
      "text/plain": [
       "array(['Age 0-4', 'Age 5-9', 'Age 10-14', 'Age 15-19', 'Age 20-24',\n",
       "       'Age 25-29', 'Age 30-34', 'Age 35-39', 'Age 40-44', 'Age 45-49',\n",
       "       'Age 50-54', 'Age 55-59', 'Age 60-64', 'Age 65-69', 'Age 70-74',\n",
       "       'Age 75-79', 'Age 80-84', 'Age 85+', 'Average age',\n",
       "       'Total population'], dtype=object)"
      ]
     },
     "execution_count": 137,
     "metadata": {},
     "output_type": "execute_result"
    }
   ],
   "source": [
    "pop.age.unique()"
   ]
  },
  {
   "cell_type": "code",
   "execution_count": 138,
   "metadata": {},
   "outputs": [
    {
     "data": {
      "text/plain": [
       "array([2021, 2023, 2026, 2028, 2034, 2037, 2038, 2024, 2025, 2040, 2031,\n",
       "       2033, 2022, 2032, 2036, 2041, 2027, 2029, 2039, 2035, 2030],\n",
       "      dtype=int64)"
      ]
     },
     "execution_count": 138,
     "metadata": {},
     "output_type": "execute_result"
    }
   ],
   "source": [
    "pop.year.unique()"
   ]
  },
  {
   "cell_type": "code",
   "execution_count": 139,
   "metadata": {},
   "outputs": [
    {
     "data": {
      "text/html": [
       "<div>\n",
       "<style scoped>\n",
       "    .dataframe tbody tr th:only-of-type {\n",
       "        vertical-align: middle;\n",
       "    }\n",
       "\n",
       "    .dataframe tbody tr th {\n",
       "        vertical-align: top;\n",
       "    }\n",
       "\n",
       "    .dataframe thead th {\n",
       "        text-align: right;\n",
       "    }\n",
       "</style>\n",
       "<table border=\"1\" class=\"dataframe\">\n",
       "  <thead>\n",
       "    <tr style=\"text-align: right;\">\n",
       "      <th></th>\n",
       "      <th>city</th>\n",
       "      <th>year</th>\n",
       "      <th>gender</th>\n",
       "      <th>age</th>\n",
       "      <th>value</th>\n",
       "    </tr>\n",
       "  </thead>\n",
       "  <tbody>\n",
       "    <tr>\n",
       "      <th>0</th>\n",
       "      <td>City of Melbourne</td>\n",
       "      <td>2021</td>\n",
       "      <td>Female</td>\n",
       "      <td>Age 0-4</td>\n",
       "      <td>1943.0</td>\n",
       "    </tr>\n",
       "    <tr>\n",
       "      <th>1</th>\n",
       "      <td>City of Melbourne</td>\n",
       "      <td>2023</td>\n",
       "      <td>Female</td>\n",
       "      <td>Age 0-4</td>\n",
       "      <td>2477.0</td>\n",
       "    </tr>\n",
       "    <tr>\n",
       "      <th>2</th>\n",
       "      <td>City of Melbourne</td>\n",
       "      <td>2026</td>\n",
       "      <td>Female</td>\n",
       "      <td>Age 0-4</td>\n",
       "      <td>3595.0</td>\n",
       "    </tr>\n",
       "    <tr>\n",
       "      <th>3</th>\n",
       "      <td>City of Melbourne</td>\n",
       "      <td>2028</td>\n",
       "      <td>Female</td>\n",
       "      <td>Age 0-4</td>\n",
       "      <td>4083.0</td>\n",
       "    </tr>\n",
       "    <tr>\n",
       "      <th>4</th>\n",
       "      <td>City of Melbourne</td>\n",
       "      <td>2034</td>\n",
       "      <td>Female</td>\n",
       "      <td>Age 0-4</td>\n",
       "      <td>5242.0</td>\n",
       "    </tr>\n",
       "    <tr>\n",
       "      <th>...</th>\n",
       "      <td>...</td>\n",
       "      <td>...</td>\n",
       "      <td>...</td>\n",
       "      <td>...</td>\n",
       "      <td>...</td>\n",
       "    </tr>\n",
       "    <tr>\n",
       "      <th>17047</th>\n",
       "      <td>West Melbourne (Residential)</td>\n",
       "      <td>2029</td>\n",
       "      <td>Not applicable</td>\n",
       "      <td>Total population</td>\n",
       "      <td>11673.0</td>\n",
       "    </tr>\n",
       "    <tr>\n",
       "      <th>17048</th>\n",
       "      <td>West Melbourne (Residential)</td>\n",
       "      <td>2032</td>\n",
       "      <td>Not applicable</td>\n",
       "      <td>Total population</td>\n",
       "      <td>13191.0</td>\n",
       "    </tr>\n",
       "    <tr>\n",
       "      <th>17049</th>\n",
       "      <td>West Melbourne (Residential)</td>\n",
       "      <td>2035</td>\n",
       "      <td>Not applicable</td>\n",
       "      <td>Total population</td>\n",
       "      <td>14820.0</td>\n",
       "    </tr>\n",
       "    <tr>\n",
       "      <th>17050</th>\n",
       "      <td>West Melbourne (Residential)</td>\n",
       "      <td>2039</td>\n",
       "      <td>Not applicable</td>\n",
       "      <td>Total population</td>\n",
       "      <td>14794.0</td>\n",
       "    </tr>\n",
       "    <tr>\n",
       "      <th>17051</th>\n",
       "      <td>West Melbourne (Residential)</td>\n",
       "      <td>2041</td>\n",
       "      <td>Not applicable</td>\n",
       "      <td>Total population</td>\n",
       "      <td>14814.0</td>\n",
       "    </tr>\n",
       "  </tbody>\n",
       "</table>\n",
       "<p>17052 rows × 5 columns</p>\n",
       "</div>"
      ],
      "text/plain": [
       "                               city  year          gender               age  \\\n",
       "0                 City of Melbourne  2021          Female           Age 0-4   \n",
       "1                 City of Melbourne  2023          Female           Age 0-4   \n",
       "2                 City of Melbourne  2026          Female           Age 0-4   \n",
       "3                 City of Melbourne  2028          Female           Age 0-4   \n",
       "4                 City of Melbourne  2034          Female           Age 0-4   \n",
       "...                             ...   ...             ...               ...   \n",
       "17047  West Melbourne (Residential)  2029  Not applicable  Total population   \n",
       "17048  West Melbourne (Residential)  2032  Not applicable  Total population   \n",
       "17049  West Melbourne (Residential)  2035  Not applicable  Total population   \n",
       "17050  West Melbourne (Residential)  2039  Not applicable  Total population   \n",
       "17051  West Melbourne (Residential)  2041  Not applicable  Total population   \n",
       "\n",
       "         value  \n",
       "0       1943.0  \n",
       "1       2477.0  \n",
       "2       3595.0  \n",
       "3       4083.0  \n",
       "4       5242.0  \n",
       "...        ...  \n",
       "17047  11673.0  \n",
       "17048  13191.0  \n",
       "17049  14820.0  \n",
       "17050  14794.0  \n",
       "17051  14814.0  \n",
       "\n",
       "[17052 rows x 5 columns]"
      ]
     },
     "execution_count": 139,
     "metadata": {},
     "output_type": "execute_result"
    }
   ],
   "source": [
    "pop"
   ]
  },
  {
   "cell_type": "markdown",
   "metadata": {},
   "source": [
    "<div class=\"usecase-section-header\">About Population Forecast Dataset. </div>"
   ]
  },
  {
   "cell_type": "markdown",
   "metadata": {},
   "source": [
    "This dataset provides Population forecasts by single year for 2021 to 2041. Prepared by SGS Economics and Planning (Jan-Jun 2022), forecasts are available for the municipality and small areas, as well as by industry and space use type. This dataset has total of 17052 rows which indicates total cases and 5 columns which indicate variables(features). The dataset contains the following variables (features): \n",
    "    <ul>\n",
    "        <li> <b>city:</b> Geographical area (Melbourne LGA or small areas used for the City of Melbourne's CLUE analysis). Small areas mostly correspond to traditional suburb boundaries. This is a categorical variable of type <b>object</b>. This variable takes value from the following list of locations: <b> 'City of Melbourne', 'Carlton', 'Docklands', 'East Melbourne','Kensington', 'Melbourne (CBD)', 'Melbourne (Remainder)','North Melbourne', 'Parkville', 'Port Melbourne', 'South Yarra','Southbank', 'West Melbourne (Industrial)','West Melbourne (Residential)'</b></li><hr>\n",
    "        <li>\n",
    "            <b>year:</b> This variables shows the year the job were created. This is a numerical variable of type <b>integer</b>. Year is from <b>2022 to 2040</b>. </li><hr>\n",
    "        <li>\n",
    "            <b>gender:</b> This variables shows the gender of the person who is a part of the overall population. Gender is divided into four categories: Female, Male, Total and not applicable. This is a categorical nominal variable with type <b>object</b>  </li><hr>\n",
    "        <li>\n",
    "            <b>age:</b> This variables shows the age of a person who is a part of the population in this study. This is a numerical variable of type <b>object</b></li><hr>\n",
    "        <li>\n",
    "            <b>value:</b> This variables shows the population of the area for a given year. This is a numerical variable of type <b>float</b>  \n",
    "        </li>\n",
    "    </ul></i><hr>\n",
    "</ul>\n",
    "</p>"
   ]
  },
  {
   "cell_type": "markdown",
   "metadata": {},
   "source": [
    "<div class=\"usecase-section-header\">Checking and Handling missing values. </div>"
   ]
  },
  {
   "cell_type": "markdown",
   "metadata": {},
   "source": [
    "<b>For population dataset</b>"
   ]
  },
  {
   "cell_type": "code",
   "execution_count": 140,
   "metadata": {},
   "outputs": [
    {
     "data": {
      "text/plain": [
       "city      False\n",
       "year      False\n",
       "gender    False\n",
       "age       False\n",
       "value      True\n",
       "dtype: bool"
      ]
     },
     "execution_count": 140,
     "metadata": {},
     "output_type": "execute_result"
    }
   ],
   "source": [
    "# To check if there is any missing values in any columns \n",
    "pop.isnull().any()"
   ]
  },
  {
   "cell_type": "code",
   "execution_count": 141,
   "metadata": {},
   "outputs": [
    {
     "name": "stdout",
     "output_type": "stream",
     "text": [
      "63\n"
     ]
    }
   ],
   "source": [
    "# There are no null values in job dataset. However there is null (missing) values in population dataset in value column. \n",
    "# Lets find out how many null values are there in value column\n",
    "print(pop.value.isnull().sum())\n",
    "\n",
    "\n",
    "# Write more on why you chose to drop rows "
   ]
  },
  {
   "cell_type": "code",
   "execution_count": 142,
   "metadata": {},
   "outputs": [],
   "source": [
    "# pop"
   ]
  },
  {
   "cell_type": "code",
   "execution_count": 143,
   "metadata": {},
   "outputs": [],
   "source": [
    "pop = pop.dropna(axis= \"rows\")"
   ]
  },
  {
   "cell_type": "code",
   "execution_count": 144,
   "metadata": {},
   "outputs": [
    {
     "data": {
      "text/plain": [
       "city      False\n",
       "year      False\n",
       "gender    False\n",
       "age       False\n",
       "value     False\n",
       "dtype: bool"
      ]
     },
     "execution_count": 144,
     "metadata": {},
     "output_type": "execute_result"
    }
   ],
   "source": [
    "pop.isnull().any()"
   ]
  },
  {
   "cell_type": "markdown",
   "metadata": {},
   "source": [
    "<b>All missing values in \"value\" column of population dataset have been removed.  </b>"
   ]
  },
  {
   "cell_type": "code",
   "execution_count": 145,
   "metadata": {},
   "outputs": [],
   "source": [
    "# Choose all data where the gender is not applicable\n",
    "pop = pop.set_index(\"gender\")\n",
    "other_pop = pop.loc[[\"Total\", \"Not applicable\"],:]\n",
    "other_pop                                         # saving total and not applicable data into differnet variable for further use. \n",
    "pop = pop.loc[[\"Female\", \"Male\"],:]               # seperating male and female gender from the whole dataset\n",
    "pop.reset_index(inplace=True)"
   ]
  },
  {
   "cell_type": "code",
   "execution_count": 146,
   "metadata": {},
   "outputs": [
    {
     "data": {
      "text/html": [
       "<div>\n",
       "<style scoped>\n",
       "    .dataframe tbody tr th:only-of-type {\n",
       "        vertical-align: middle;\n",
       "    }\n",
       "\n",
       "    .dataframe tbody tr th {\n",
       "        vertical-align: top;\n",
       "    }\n",
       "\n",
       "    .dataframe thead th {\n",
       "        text-align: right;\n",
       "    }\n",
       "</style>\n",
       "<table border=\"1\" class=\"dataframe\">\n",
       "  <thead>\n",
       "    <tr style=\"text-align: right;\">\n",
       "      <th></th>\n",
       "      <th>gender</th>\n",
       "      <th>city</th>\n",
       "      <th>year</th>\n",
       "      <th>age</th>\n",
       "      <th>value</th>\n",
       "    </tr>\n",
       "  </thead>\n",
       "  <tbody>\n",
       "    <tr>\n",
       "      <th>0</th>\n",
       "      <td>Female</td>\n",
       "      <td>City of Melbourne</td>\n",
       "      <td>2021</td>\n",
       "      <td>Age 0-4</td>\n",
       "      <td>1943.0</td>\n",
       "    </tr>\n",
       "    <tr>\n",
       "      <th>1</th>\n",
       "      <td>Female</td>\n",
       "      <td>City of Melbourne</td>\n",
       "      <td>2023</td>\n",
       "      <td>Age 0-4</td>\n",
       "      <td>2477.0</td>\n",
       "    </tr>\n",
       "    <tr>\n",
       "      <th>2</th>\n",
       "      <td>Female</td>\n",
       "      <td>City of Melbourne</td>\n",
       "      <td>2026</td>\n",
       "      <td>Age 0-4</td>\n",
       "      <td>3595.0</td>\n",
       "    </tr>\n",
       "    <tr>\n",
       "      <th>3</th>\n",
       "      <td>Female</td>\n",
       "      <td>City of Melbourne</td>\n",
       "      <td>2028</td>\n",
       "      <td>Age 0-4</td>\n",
       "      <td>4083.0</td>\n",
       "    </tr>\n",
       "    <tr>\n",
       "      <th>4</th>\n",
       "      <td>Female</td>\n",
       "      <td>City of Melbourne</td>\n",
       "      <td>2034</td>\n",
       "      <td>Age 0-4</td>\n",
       "      <td>5242.0</td>\n",
       "    </tr>\n",
       "    <tr>\n",
       "      <th>...</th>\n",
       "      <td>...</td>\n",
       "      <td>...</td>\n",
       "      <td>...</td>\n",
       "      <td>...</td>\n",
       "      <td>...</td>\n",
       "    </tr>\n",
       "    <tr>\n",
       "      <th>11125</th>\n",
       "      <td>Male</td>\n",
       "      <td>West Melbourne (Residential)</td>\n",
       "      <td>2024</td>\n",
       "      <td>Average age</td>\n",
       "      <td>31.0</td>\n",
       "    </tr>\n",
       "    <tr>\n",
       "      <th>11126</th>\n",
       "      <td>Male</td>\n",
       "      <td>West Melbourne (Residential)</td>\n",
       "      <td>2026</td>\n",
       "      <td>Average age</td>\n",
       "      <td>32.0</td>\n",
       "    </tr>\n",
       "    <tr>\n",
       "      <th>11127</th>\n",
       "      <td>Male</td>\n",
       "      <td>West Melbourne (Residential)</td>\n",
       "      <td>2027</td>\n",
       "      <td>Average age</td>\n",
       "      <td>32.0</td>\n",
       "    </tr>\n",
       "    <tr>\n",
       "      <th>11128</th>\n",
       "      <td>Male</td>\n",
       "      <td>West Melbourne (Residential)</td>\n",
       "      <td>2037</td>\n",
       "      <td>Average age</td>\n",
       "      <td>33.0</td>\n",
       "    </tr>\n",
       "    <tr>\n",
       "      <th>11129</th>\n",
       "      <td>Male</td>\n",
       "      <td>West Melbourne (Residential)</td>\n",
       "      <td>2038</td>\n",
       "      <td>Average age</td>\n",
       "      <td>33.0</td>\n",
       "    </tr>\n",
       "  </tbody>\n",
       "</table>\n",
       "<p>11130 rows × 5 columns</p>\n",
       "</div>"
      ],
      "text/plain": [
       "       gender                          city  year          age   value\n",
       "0      Female             City of Melbourne  2021      Age 0-4  1943.0\n",
       "1      Female             City of Melbourne  2023      Age 0-4  2477.0\n",
       "2      Female             City of Melbourne  2026      Age 0-4  3595.0\n",
       "3      Female             City of Melbourne  2028      Age 0-4  4083.0\n",
       "4      Female             City of Melbourne  2034      Age 0-4  5242.0\n",
       "...       ...                           ...   ...          ...     ...\n",
       "11125    Male  West Melbourne (Residential)  2024  Average age    31.0\n",
       "11126    Male  West Melbourne (Residential)  2026  Average age    32.0\n",
       "11127    Male  West Melbourne (Residential)  2027  Average age    32.0\n",
       "11128    Male  West Melbourne (Residential)  2037  Average age    33.0\n",
       "11129    Male  West Melbourne (Residential)  2038  Average age    33.0\n",
       "\n",
       "[11130 rows x 5 columns]"
      ]
     },
     "execution_count": 146,
     "metadata": {},
     "output_type": "execute_result"
    }
   ],
   "source": [
    "pop       # df where gender = ['Male', 'Female']"
   ]
  },
  {
   "cell_type": "code",
   "execution_count": 147,
   "metadata": {},
   "outputs": [
    {
     "data": {
      "text/html": [
       "<div>\n",
       "<style scoped>\n",
       "    .dataframe tbody tr th:only-of-type {\n",
       "        vertical-align: middle;\n",
       "    }\n",
       "\n",
       "    .dataframe tbody tr th {\n",
       "        vertical-align: top;\n",
       "    }\n",
       "\n",
       "    .dataframe thead th {\n",
       "        text-align: right;\n",
       "    }\n",
       "</style>\n",
       "<table border=\"1\" class=\"dataframe\">\n",
       "  <thead>\n",
       "    <tr style=\"text-align: right;\">\n",
       "      <th></th>\n",
       "      <th>city</th>\n",
       "      <th>year</th>\n",
       "      <th>age</th>\n",
       "      <th>value</th>\n",
       "    </tr>\n",
       "    <tr>\n",
       "      <th>gender</th>\n",
       "      <th></th>\n",
       "      <th></th>\n",
       "      <th></th>\n",
       "      <th></th>\n",
       "    </tr>\n",
       "  </thead>\n",
       "  <tbody>\n",
       "    <tr>\n",
       "      <th>Total</th>\n",
       "      <td>City of Melbourne</td>\n",
       "      <td>2021</td>\n",
       "      <td>Age 0-4</td>\n",
       "      <td>4051.0</td>\n",
       "    </tr>\n",
       "    <tr>\n",
       "      <th>Total</th>\n",
       "      <td>City of Melbourne</td>\n",
       "      <td>2021</td>\n",
       "      <td>Age 20-24</td>\n",
       "      <td>33134.0</td>\n",
       "    </tr>\n",
       "    <tr>\n",
       "      <th>Total</th>\n",
       "      <td>City of Melbourne</td>\n",
       "      <td>2021</td>\n",
       "      <td>Age 30-34</td>\n",
       "      <td>21485.0</td>\n",
       "    </tr>\n",
       "    <tr>\n",
       "      <th>Total</th>\n",
       "      <td>City of Melbourne</td>\n",
       "      <td>2021</td>\n",
       "      <td>Age 50-54</td>\n",
       "      <td>4939.0</td>\n",
       "    </tr>\n",
       "    <tr>\n",
       "      <th>Total</th>\n",
       "      <td>City of Melbourne</td>\n",
       "      <td>2021</td>\n",
       "      <td>Age 65-69</td>\n",
       "      <td>3698.0</td>\n",
       "    </tr>\n",
       "    <tr>\n",
       "      <th>...</th>\n",
       "      <td>...</td>\n",
       "      <td>...</td>\n",
       "      <td>...</td>\n",
       "      <td>...</td>\n",
       "    </tr>\n",
       "    <tr>\n",
       "      <th>Not applicable</th>\n",
       "      <td>West Melbourne (Residential)</td>\n",
       "      <td>2029</td>\n",
       "      <td>Total population</td>\n",
       "      <td>11673.0</td>\n",
       "    </tr>\n",
       "    <tr>\n",
       "      <th>Not applicable</th>\n",
       "      <td>West Melbourne (Residential)</td>\n",
       "      <td>2032</td>\n",
       "      <td>Total population</td>\n",
       "      <td>13191.0</td>\n",
       "    </tr>\n",
       "    <tr>\n",
       "      <th>Not applicable</th>\n",
       "      <td>West Melbourne (Residential)</td>\n",
       "      <td>2035</td>\n",
       "      <td>Total population</td>\n",
       "      <td>14820.0</td>\n",
       "    </tr>\n",
       "    <tr>\n",
       "      <th>Not applicable</th>\n",
       "      <td>West Melbourne (Residential)</td>\n",
       "      <td>2039</td>\n",
       "      <td>Total population</td>\n",
       "      <td>14794.0</td>\n",
       "    </tr>\n",
       "    <tr>\n",
       "      <th>Not applicable</th>\n",
       "      <td>West Melbourne (Residential)</td>\n",
       "      <td>2041</td>\n",
       "      <td>Total population</td>\n",
       "      <td>14814.0</td>\n",
       "    </tr>\n",
       "  </tbody>\n",
       "</table>\n",
       "<p>5859 rows × 4 columns</p>\n",
       "</div>"
      ],
      "text/plain": [
       "                                        city  year               age    value\n",
       "gender                                                                       \n",
       "Total                      City of Melbourne  2021           Age 0-4   4051.0\n",
       "Total                      City of Melbourne  2021         Age 20-24  33134.0\n",
       "Total                      City of Melbourne  2021         Age 30-34  21485.0\n",
       "Total                      City of Melbourne  2021         Age 50-54   4939.0\n",
       "Total                      City of Melbourne  2021         Age 65-69   3698.0\n",
       "...                                      ...   ...               ...      ...\n",
       "Not applicable  West Melbourne (Residential)  2029  Total population  11673.0\n",
       "Not applicable  West Melbourne (Residential)  2032  Total population  13191.0\n",
       "Not applicable  West Melbourne (Residential)  2035  Total population  14820.0\n",
       "Not applicable  West Melbourne (Residential)  2039  Total population  14794.0\n",
       "Not applicable  West Melbourne (Residential)  2041  Total population  14814.0\n",
       "\n",
       "[5859 rows x 4 columns]"
      ]
     },
     "execution_count": 147,
     "metadata": {},
     "output_type": "execute_result"
    }
   ],
   "source": [
    "other_pop    # df where all values from gender = ['total', 'not applicable']\n",
    "other_pop.reset_index(drop=True)\n",
    "other_pop"
   ]
  },
  {
   "cell_type": "markdown",
   "metadata": {},
   "source": [
    "<b>The population dataset now only contains data where the gender is either female or male. Another dataframe has been created to save the data from gender whose value was \"Not applicable\" and \"Total\" for futher analysis. </b>"
   ]
  },
  {
   "cell_type": "code",
   "execution_count": 148,
   "metadata": {
    "scrolled": true
   },
   "outputs": [
    {
     "data": {
      "text/plain": [
       "city                  False\n",
       "year                  False\n",
       "category              False\n",
       "industry_space_use    False\n",
       "value                 False\n",
       "dtype: bool"
      ]
     },
     "execution_count": 148,
     "metadata": {},
     "output_type": "execute_result"
    }
   ],
   "source": [
    "job.isnull().any()"
   ]
  },
  {
   "cell_type": "code",
   "execution_count": 149,
   "metadata": {},
   "outputs": [
    {
     "data": {
      "text/html": [
       "<div>\n",
       "<style scoped>\n",
       "    .dataframe tbody tr th:only-of-type {\n",
       "        vertical-align: middle;\n",
       "    }\n",
       "\n",
       "    .dataframe tbody tr th {\n",
       "        vertical-align: top;\n",
       "    }\n",
       "\n",
       "    .dataframe thead th {\n",
       "        text-align: right;\n",
       "    }\n",
       "</style>\n",
       "<table border=\"1\" class=\"dataframe\">\n",
       "  <thead>\n",
       "    <tr style=\"text-align: right;\">\n",
       "      <th></th>\n",
       "      <th>city</th>\n",
       "      <th>year</th>\n",
       "      <th>category</th>\n",
       "      <th>industry_space_use</th>\n",
       "      <th>value</th>\n",
       "    </tr>\n",
       "  </thead>\n",
       "  <tbody>\n",
       "    <tr>\n",
       "      <th>0</th>\n",
       "      <td>City of Melbourne</td>\n",
       "      <td>2023</td>\n",
       "      <td>Jobs by industry</td>\n",
       "      <td>Accommodation</td>\n",
       "      <td>10286</td>\n",
       "    </tr>\n",
       "    <tr>\n",
       "      <th>1</th>\n",
       "      <td>City of Melbourne</td>\n",
       "      <td>2026</td>\n",
       "      <td>Jobs by industry</td>\n",
       "      <td>Accommodation</td>\n",
       "      <td>11631</td>\n",
       "    </tr>\n",
       "    <tr>\n",
       "      <th>2</th>\n",
       "      <td>City of Melbourne</td>\n",
       "      <td>2032</td>\n",
       "      <td>Jobs by industry</td>\n",
       "      <td>Accommodation</td>\n",
       "      <td>13207</td>\n",
       "    </tr>\n",
       "    <tr>\n",
       "      <th>3</th>\n",
       "      <td>City of Melbourne</td>\n",
       "      <td>2034</td>\n",
       "      <td>Jobs by industry</td>\n",
       "      <td>Accommodation</td>\n",
       "      <td>13420</td>\n",
       "    </tr>\n",
       "    <tr>\n",
       "      <th>4</th>\n",
       "      <td>City of Melbourne</td>\n",
       "      <td>2035</td>\n",
       "      <td>Jobs by industry</td>\n",
       "      <td>Accommodation</td>\n",
       "      <td>13529</td>\n",
       "    </tr>\n",
       "    <tr>\n",
       "      <th>...</th>\n",
       "      <td>...</td>\n",
       "      <td>...</td>\n",
       "      <td>...</td>\n",
       "      <td>...</td>\n",
       "      <td>...</td>\n",
       "    </tr>\n",
       "    <tr>\n",
       "      <th>9109</th>\n",
       "      <td>West Melbourne (Residential)</td>\n",
       "      <td>2025</td>\n",
       "      <td>Jobs by space use</td>\n",
       "      <td>Total jobs</td>\n",
       "      <td>5454</td>\n",
       "    </tr>\n",
       "    <tr>\n",
       "      <th>9110</th>\n",
       "      <td>West Melbourne (Residential)</td>\n",
       "      <td>2026</td>\n",
       "      <td>Jobs by space use</td>\n",
       "      <td>Total jobs</td>\n",
       "      <td>5618</td>\n",
       "    </tr>\n",
       "    <tr>\n",
       "      <th>9111</th>\n",
       "      <td>West Melbourne (Residential)</td>\n",
       "      <td>2029</td>\n",
       "      <td>Jobs by space use</td>\n",
       "      <td>Total jobs</td>\n",
       "      <td>6118</td>\n",
       "    </tr>\n",
       "    <tr>\n",
       "      <th>9112</th>\n",
       "      <td>West Melbourne (Residential)</td>\n",
       "      <td>2033</td>\n",
       "      <td>Jobs by space use</td>\n",
       "      <td>Total jobs</td>\n",
       "      <td>6717</td>\n",
       "    </tr>\n",
       "    <tr>\n",
       "      <th>9113</th>\n",
       "      <td>West Melbourne (Residential)</td>\n",
       "      <td>2036</td>\n",
       "      <td>Jobs by space use</td>\n",
       "      <td>Total jobs</td>\n",
       "      <td>7027</td>\n",
       "    </tr>\n",
       "  </tbody>\n",
       "</table>\n",
       "<p>9114 rows × 5 columns</p>\n",
       "</div>"
      ],
      "text/plain": [
       "                              city  year           category  \\\n",
       "0                City of Melbourne  2023   Jobs by industry   \n",
       "1                City of Melbourne  2026   Jobs by industry   \n",
       "2                City of Melbourne  2032   Jobs by industry   \n",
       "3                City of Melbourne  2034   Jobs by industry   \n",
       "4                City of Melbourne  2035   Jobs by industry   \n",
       "...                            ...   ...                ...   \n",
       "9109  West Melbourne (Residential)  2025  Jobs by space use   \n",
       "9110  West Melbourne (Residential)  2026  Jobs by space use   \n",
       "9111  West Melbourne (Residential)  2029  Jobs by space use   \n",
       "9112  West Melbourne (Residential)  2033  Jobs by space use   \n",
       "9113  West Melbourne (Residential)  2036  Jobs by space use   \n",
       "\n",
       "     industry_space_use  value  \n",
       "0         Accommodation  10286  \n",
       "1         Accommodation  11631  \n",
       "2         Accommodation  13207  \n",
       "3         Accommodation  13420  \n",
       "4         Accommodation  13529  \n",
       "...                 ...    ...  \n",
       "9109         Total jobs   5454  \n",
       "9110         Total jobs   5618  \n",
       "9111         Total jobs   6118  \n",
       "9112         Total jobs   6717  \n",
       "9113         Total jobs   7027  \n",
       "\n",
       "[9114 rows x 5 columns]"
      ]
     },
     "execution_count": 149,
     "metadata": {},
     "output_type": "execute_result"
    }
   ],
   "source": [
    "job"
   ]
  },
  {
   "cell_type": "markdown",
   "metadata": {},
   "source": [
    "<b>There are no missing values in job dataset hence we do not need to perfrom any operations to remove null or missing values. However the industry_space_use column has values where the industry is \"Total jobs\" which is not accurate so we will remove the rows where the column has such values and reserve it in a different variable for later analysis. </b>"
   ]
  },
  {
   "cell_type": "code",
   "execution_count": 150,
   "metadata": {
    "scrolled": true
   },
   "outputs": [
    {
     "data": {
      "text/html": [
       "<div>\n",
       "<style scoped>\n",
       "    .dataframe tbody tr th:only-of-type {\n",
       "        vertical-align: middle;\n",
       "    }\n",
       "\n",
       "    .dataframe tbody tr th {\n",
       "        vertical-align: top;\n",
       "    }\n",
       "\n",
       "    .dataframe thead th {\n",
       "        text-align: right;\n",
       "    }\n",
       "</style>\n",
       "<table border=\"1\" class=\"dataframe\">\n",
       "  <thead>\n",
       "    <tr style=\"text-align: right;\">\n",
       "      <th></th>\n",
       "      <th>city</th>\n",
       "      <th>year</th>\n",
       "      <th>category</th>\n",
       "      <th>value</th>\n",
       "    </tr>\n",
       "    <tr>\n",
       "      <th>industry_space_use</th>\n",
       "      <th></th>\n",
       "      <th></th>\n",
       "      <th></th>\n",
       "      <th></th>\n",
       "    </tr>\n",
       "  </thead>\n",
       "  <tbody>\n",
       "    <tr>\n",
       "      <th>Accommodation</th>\n",
       "      <td>City of Melbourne</td>\n",
       "      <td>2023</td>\n",
       "      <td>Jobs by industry</td>\n",
       "      <td>10286</td>\n",
       "    </tr>\n",
       "    <tr>\n",
       "      <th>Accommodation</th>\n",
       "      <td>City of Melbourne</td>\n",
       "      <td>2026</td>\n",
       "      <td>Jobs by industry</td>\n",
       "      <td>11631</td>\n",
       "    </tr>\n",
       "    <tr>\n",
       "      <th>Accommodation</th>\n",
       "      <td>City of Melbourne</td>\n",
       "      <td>2032</td>\n",
       "      <td>Jobs by industry</td>\n",
       "      <td>13207</td>\n",
       "    </tr>\n",
       "    <tr>\n",
       "      <th>Accommodation</th>\n",
       "      <td>City of Melbourne</td>\n",
       "      <td>2034</td>\n",
       "      <td>Jobs by industry</td>\n",
       "      <td>13420</td>\n",
       "    </tr>\n",
       "    <tr>\n",
       "      <th>Accommodation</th>\n",
       "      <td>City of Melbourne</td>\n",
       "      <td>2035</td>\n",
       "      <td>Jobs by industry</td>\n",
       "      <td>13529</td>\n",
       "    </tr>\n",
       "    <tr>\n",
       "      <th>...</th>\n",
       "      <td>...</td>\n",
       "      <td>...</td>\n",
       "      <td>...</td>\n",
       "      <td>...</td>\n",
       "    </tr>\n",
       "    <tr>\n",
       "      <th>Retail</th>\n",
       "      <td>West Melbourne (Residential)</td>\n",
       "      <td>2028</td>\n",
       "      <td>Jobs by space use</td>\n",
       "      <td>405</td>\n",
       "    </tr>\n",
       "    <tr>\n",
       "      <th>Retail</th>\n",
       "      <td>West Melbourne (Residential)</td>\n",
       "      <td>2031</td>\n",
       "      <td>Jobs by space use</td>\n",
       "      <td>433</td>\n",
       "    </tr>\n",
       "    <tr>\n",
       "      <th>Retail</th>\n",
       "      <td>West Melbourne (Residential)</td>\n",
       "      <td>2032</td>\n",
       "      <td>Jobs by space use</td>\n",
       "      <td>443</td>\n",
       "    </tr>\n",
       "    <tr>\n",
       "      <th>Retail</th>\n",
       "      <td>West Melbourne (Residential)</td>\n",
       "      <td>2033</td>\n",
       "      <td>Jobs by space use</td>\n",
       "      <td>452</td>\n",
       "    </tr>\n",
       "    <tr>\n",
       "      <th>Retail</th>\n",
       "      <td>West Melbourne (Residential)</td>\n",
       "      <td>2035</td>\n",
       "      <td>Jobs by space use</td>\n",
       "      <td>470</td>\n",
       "    </tr>\n",
       "  </tbody>\n",
       "</table>\n",
       "<p>8526 rows × 4 columns</p>\n",
       "</div>"
      ],
      "text/plain": [
       "                                            city  year           category  \\\n",
       "industry_space_use                                                          \n",
       "Accommodation                  City of Melbourne  2023   Jobs by industry   \n",
       "Accommodation                  City of Melbourne  2026   Jobs by industry   \n",
       "Accommodation                  City of Melbourne  2032   Jobs by industry   \n",
       "Accommodation                  City of Melbourne  2034   Jobs by industry   \n",
       "Accommodation                  City of Melbourne  2035   Jobs by industry   \n",
       "...                                          ...   ...                ...   \n",
       "Retail              West Melbourne (Residential)  2028  Jobs by space use   \n",
       "Retail              West Melbourne (Residential)  2031  Jobs by space use   \n",
       "Retail              West Melbourne (Residential)  2032  Jobs by space use   \n",
       "Retail              West Melbourne (Residential)  2033  Jobs by space use   \n",
       "Retail              West Melbourne (Residential)  2035  Jobs by space use   \n",
       "\n",
       "                    value  \n",
       "industry_space_use         \n",
       "Accommodation       10286  \n",
       "Accommodation       11631  \n",
       "Accommodation       13207  \n",
       "Accommodation       13420  \n",
       "Accommodation       13529  \n",
       "...                   ...  \n",
       "Retail                405  \n",
       "Retail                433  \n",
       "Retail                443  \n",
       "Retail                452  \n",
       "Retail                470  \n",
       "\n",
       "[8526 rows x 4 columns]"
      ]
     },
     "execution_count": 150,
     "metadata": {},
     "output_type": "execute_result"
    }
   ],
   "source": [
    "total_job_by_ind_space_use = job.set_index(\"industry_space_use\").loc[['Total jobs'], : ]\n",
    "job = job.set_index(\"industry_space_use\").loc[['Accommodation', 'Admin and support services',\n",
    "       'Agriculture and mining', 'Arts and recreation services',\n",
    "       'Business services', 'Construction', 'Education and training',\n",
    "       'Other services', 'Electricity, gas, water and waste services',\n",
    "       'Finance and insurance', 'Food and beverage services',\n",
    "       'Health care and social assistance',\n",
    "       'Information media and telecommunications', 'Manufacturing',\n",
    "       'Public administration and safety', 'Real estate services',\n",
    "       'Rental and hiring services', 'Retail trade',\n",
    "       'Transport, postal and storage', 'Wholesale trade',\n",
    "       'Accommodation - Commercial', 'Education',\n",
    "       'Entertainment - Hospitality', 'Entertainment - Other', 'Health',\n",
    "       'Industrial', 'Office', 'Other - Employment', 'Retail'],:]\n",
    "job"
   ]
  },
  {
   "cell_type": "code",
   "execution_count": 151,
   "metadata": {},
   "outputs": [
    {
     "data": {
      "text/html": [
       "<div>\n",
       "<style scoped>\n",
       "    .dataframe tbody tr th:only-of-type {\n",
       "        vertical-align: middle;\n",
       "    }\n",
       "\n",
       "    .dataframe tbody tr th {\n",
       "        vertical-align: top;\n",
       "    }\n",
       "\n",
       "    .dataframe thead th {\n",
       "        text-align: right;\n",
       "    }\n",
       "</style>\n",
       "<table border=\"1\" class=\"dataframe\">\n",
       "  <thead>\n",
       "    <tr style=\"text-align: right;\">\n",
       "      <th></th>\n",
       "      <th>city</th>\n",
       "      <th>year</th>\n",
       "      <th>category</th>\n",
       "      <th>value</th>\n",
       "    </tr>\n",
       "    <tr>\n",
       "      <th>industry_space_use</th>\n",
       "      <th></th>\n",
       "      <th></th>\n",
       "      <th></th>\n",
       "      <th></th>\n",
       "    </tr>\n",
       "  </thead>\n",
       "  <tbody>\n",
       "    <tr>\n",
       "      <th>Total jobs</th>\n",
       "      <td>City of Melbourne</td>\n",
       "      <td>2022</td>\n",
       "      <td>Jobs by industry</td>\n",
       "      <td>473514</td>\n",
       "    </tr>\n",
       "    <tr>\n",
       "      <th>Total jobs</th>\n",
       "      <td>City of Melbourne</td>\n",
       "      <td>2023</td>\n",
       "      <td>Jobs by industry</td>\n",
       "      <td>483587</td>\n",
       "    </tr>\n",
       "    <tr>\n",
       "      <th>Total jobs</th>\n",
       "      <td>City of Melbourne</td>\n",
       "      <td>2026</td>\n",
       "      <td>Jobs by industry</td>\n",
       "      <td>519577</td>\n",
       "    </tr>\n",
       "    <tr>\n",
       "      <th>Total jobs</th>\n",
       "      <td>City of Melbourne</td>\n",
       "      <td>2027</td>\n",
       "      <td>Jobs by industry</td>\n",
       "      <td>530590</td>\n",
       "    </tr>\n",
       "    <tr>\n",
       "      <th>Total jobs</th>\n",
       "      <td>City of Melbourne</td>\n",
       "      <td>2030</td>\n",
       "      <td>Jobs by industry</td>\n",
       "      <td>563548</td>\n",
       "    </tr>\n",
       "    <tr>\n",
       "      <th>...</th>\n",
       "      <td>...</td>\n",
       "      <td>...</td>\n",
       "      <td>...</td>\n",
       "      <td>...</td>\n",
       "    </tr>\n",
       "    <tr>\n",
       "      <th>Total jobs</th>\n",
       "      <td>West Melbourne (Residential)</td>\n",
       "      <td>2025</td>\n",
       "      <td>Jobs by space use</td>\n",
       "      <td>5454</td>\n",
       "    </tr>\n",
       "    <tr>\n",
       "      <th>Total jobs</th>\n",
       "      <td>West Melbourne (Residential)</td>\n",
       "      <td>2026</td>\n",
       "      <td>Jobs by space use</td>\n",
       "      <td>5618</td>\n",
       "    </tr>\n",
       "    <tr>\n",
       "      <th>Total jobs</th>\n",
       "      <td>West Melbourne (Residential)</td>\n",
       "      <td>2029</td>\n",
       "      <td>Jobs by space use</td>\n",
       "      <td>6118</td>\n",
       "    </tr>\n",
       "    <tr>\n",
       "      <th>Total jobs</th>\n",
       "      <td>West Melbourne (Residential)</td>\n",
       "      <td>2033</td>\n",
       "      <td>Jobs by space use</td>\n",
       "      <td>6717</td>\n",
       "    </tr>\n",
       "    <tr>\n",
       "      <th>Total jobs</th>\n",
       "      <td>West Melbourne (Residential)</td>\n",
       "      <td>2036</td>\n",
       "      <td>Jobs by space use</td>\n",
       "      <td>7027</td>\n",
       "    </tr>\n",
       "  </tbody>\n",
       "</table>\n",
       "<p>588 rows × 4 columns</p>\n",
       "</div>"
      ],
      "text/plain": [
       "                                            city  year           category  \\\n",
       "industry_space_use                                                          \n",
       "Total jobs                     City of Melbourne  2022   Jobs by industry   \n",
       "Total jobs                     City of Melbourne  2023   Jobs by industry   \n",
       "Total jobs                     City of Melbourne  2026   Jobs by industry   \n",
       "Total jobs                     City of Melbourne  2027   Jobs by industry   \n",
       "Total jobs                     City of Melbourne  2030   Jobs by industry   \n",
       "...                                          ...   ...                ...   \n",
       "Total jobs          West Melbourne (Residential)  2025  Jobs by space use   \n",
       "Total jobs          West Melbourne (Residential)  2026  Jobs by space use   \n",
       "Total jobs          West Melbourne (Residential)  2029  Jobs by space use   \n",
       "Total jobs          West Melbourne (Residential)  2033  Jobs by space use   \n",
       "Total jobs          West Melbourne (Residential)  2036  Jobs by space use   \n",
       "\n",
       "                     value  \n",
       "industry_space_use          \n",
       "Total jobs          473514  \n",
       "Total jobs          483587  \n",
       "Total jobs          519577  \n",
       "Total jobs          530590  \n",
       "Total jobs          563548  \n",
       "...                    ...  \n",
       "Total jobs            5454  \n",
       "Total jobs            5618  \n",
       "Total jobs            6118  \n",
       "Total jobs            6717  \n",
       "Total jobs            7027  \n",
       "\n",
       "[588 rows x 4 columns]"
      ]
     },
     "execution_count": 151,
     "metadata": {},
     "output_type": "execute_result"
    }
   ],
   "source": [
    "total_job_by_ind_space_use"
   ]
  },
  {
   "cell_type": "markdown",
   "metadata": {},
   "source": [
    "<b>Now we only have job data where each industry belongs to a speceific category and not \"Total jobs\" category. Howevrer, the data from \"total jobs\" category is saved as dataframe for futher analysis. </b>"
   ]
  },
  {
   "cell_type": "code",
   "execution_count": 152,
   "metadata": {},
   "outputs": [],
   "source": [
    "job= job.reset_index()"
   ]
  },
  {
   "cell_type": "code",
   "execution_count": 153,
   "metadata": {},
   "outputs": [
    {
     "data": {
      "text/plain": [
       "(8526, 5)"
      ]
     },
     "execution_count": 153,
     "metadata": {},
     "output_type": "execute_result"
    }
   ],
   "source": [
    "job.shape"
   ]
  },
  {
   "cell_type": "code",
   "execution_count": 154,
   "metadata": {},
   "outputs": [
    {
     "data": {
      "text/plain": [
       "(11130, 5)"
      ]
     },
     "execution_count": 154,
     "metadata": {},
     "output_type": "execute_result"
    }
   ],
   "source": [
    "pop.shape"
   ]
  },
  {
   "cell_type": "markdown",
   "metadata": {},
   "source": [
    "<div class=\"usecase-section-header\">Exploratory Data Analysis on Job Dataset. </div>"
   ]
  },
  {
   "cell_type": "code",
   "execution_count": 155,
   "metadata": {},
   "outputs": [
    {
     "name": "stdout",
     "output_type": "stream",
     "text": [
      "<class 'pandas.core.frame.DataFrame'>\n",
      "RangeIndex: 8526 entries, 0 to 8525\n",
      "Data columns (total 5 columns):\n",
      " #   Column              Non-Null Count  Dtype \n",
      "---  ------              --------------  ----- \n",
      " 0   industry_space_use  8526 non-null   object\n",
      " 1   city                8526 non-null   object\n",
      " 2   year                8526 non-null   int64 \n",
      " 3   category            8526 non-null   object\n",
      " 4   value               8526 non-null   int64 \n",
      "dtypes: int64(2), object(3)\n",
      "memory usage: 333.2+ KB\n"
     ]
    }
   ],
   "source": [
    "# changing data types of the variables if they are not accurate \n",
    "job.info()"
   ]
  },
  {
   "cell_type": "code",
   "execution_count": 156,
   "metadata": {},
   "outputs": [
    {
     "data": {
      "text/html": [
       "<div>\n",
       "<style scoped>\n",
       "    .dataframe tbody tr th:only-of-type {\n",
       "        vertical-align: middle;\n",
       "    }\n",
       "\n",
       "    .dataframe tbody tr th {\n",
       "        vertical-align: top;\n",
       "    }\n",
       "\n",
       "    .dataframe thead th {\n",
       "        text-align: right;\n",
       "    }\n",
       "</style>\n",
       "<table border=\"1\" class=\"dataframe\">\n",
       "  <thead>\n",
       "    <tr style=\"text-align: right;\">\n",
       "      <th></th>\n",
       "      <th>industry_space_use</th>\n",
       "      <th>city</th>\n",
       "      <th>year</th>\n",
       "      <th>category</th>\n",
       "      <th>value</th>\n",
       "    </tr>\n",
       "  </thead>\n",
       "  <tbody>\n",
       "    <tr>\n",
       "      <th>0</th>\n",
       "      <td>Accommodation</td>\n",
       "      <td>City of Melbourne</td>\n",
       "      <td>2023</td>\n",
       "      <td>Jobs by industry</td>\n",
       "      <td>10286</td>\n",
       "    </tr>\n",
       "    <tr>\n",
       "      <th>1</th>\n",
       "      <td>Accommodation</td>\n",
       "      <td>City of Melbourne</td>\n",
       "      <td>2026</td>\n",
       "      <td>Jobs by industry</td>\n",
       "      <td>11631</td>\n",
       "    </tr>\n",
       "    <tr>\n",
       "      <th>2</th>\n",
       "      <td>Accommodation</td>\n",
       "      <td>City of Melbourne</td>\n",
       "      <td>2032</td>\n",
       "      <td>Jobs by industry</td>\n",
       "      <td>13207</td>\n",
       "    </tr>\n",
       "    <tr>\n",
       "      <th>3</th>\n",
       "      <td>Accommodation</td>\n",
       "      <td>City of Melbourne</td>\n",
       "      <td>2034</td>\n",
       "      <td>Jobs by industry</td>\n",
       "      <td>13420</td>\n",
       "    </tr>\n",
       "    <tr>\n",
       "      <th>4</th>\n",
       "      <td>Accommodation</td>\n",
       "      <td>City of Melbourne</td>\n",
       "      <td>2035</td>\n",
       "      <td>Jobs by industry</td>\n",
       "      <td>13529</td>\n",
       "    </tr>\n",
       "    <tr>\n",
       "      <th>...</th>\n",
       "      <td>...</td>\n",
       "      <td>...</td>\n",
       "      <td>...</td>\n",
       "      <td>...</td>\n",
       "      <td>...</td>\n",
       "    </tr>\n",
       "    <tr>\n",
       "      <th>8521</th>\n",
       "      <td>Retail</td>\n",
       "      <td>West Melbourne (Residential)</td>\n",
       "      <td>2028</td>\n",
       "      <td>Jobs by space use</td>\n",
       "      <td>405</td>\n",
       "    </tr>\n",
       "    <tr>\n",
       "      <th>8522</th>\n",
       "      <td>Retail</td>\n",
       "      <td>West Melbourne (Residential)</td>\n",
       "      <td>2031</td>\n",
       "      <td>Jobs by space use</td>\n",
       "      <td>433</td>\n",
       "    </tr>\n",
       "    <tr>\n",
       "      <th>8523</th>\n",
       "      <td>Retail</td>\n",
       "      <td>West Melbourne (Residential)</td>\n",
       "      <td>2032</td>\n",
       "      <td>Jobs by space use</td>\n",
       "      <td>443</td>\n",
       "    </tr>\n",
       "    <tr>\n",
       "      <th>8524</th>\n",
       "      <td>Retail</td>\n",
       "      <td>West Melbourne (Residential)</td>\n",
       "      <td>2033</td>\n",
       "      <td>Jobs by space use</td>\n",
       "      <td>452</td>\n",
       "    </tr>\n",
       "    <tr>\n",
       "      <th>8525</th>\n",
       "      <td>Retail</td>\n",
       "      <td>West Melbourne (Residential)</td>\n",
       "      <td>2035</td>\n",
       "      <td>Jobs by space use</td>\n",
       "      <td>470</td>\n",
       "    </tr>\n",
       "  </tbody>\n",
       "</table>\n",
       "<p>8526 rows × 5 columns</p>\n",
       "</div>"
      ],
      "text/plain": [
       "     industry_space_use                          city  year  \\\n",
       "0         Accommodation             City of Melbourne  2023   \n",
       "1         Accommodation             City of Melbourne  2026   \n",
       "2         Accommodation             City of Melbourne  2032   \n",
       "3         Accommodation             City of Melbourne  2034   \n",
       "4         Accommodation             City of Melbourne  2035   \n",
       "...                 ...                           ...   ...   \n",
       "8521             Retail  West Melbourne (Residential)  2028   \n",
       "8522             Retail  West Melbourne (Residential)  2031   \n",
       "8523             Retail  West Melbourne (Residential)  2032   \n",
       "8524             Retail  West Melbourne (Residential)  2033   \n",
       "8525             Retail  West Melbourne (Residential)  2035   \n",
       "\n",
       "               category  value  \n",
       "0      Jobs by industry  10286  \n",
       "1      Jobs by industry  11631  \n",
       "2      Jobs by industry  13207  \n",
       "3      Jobs by industry  13420  \n",
       "4      Jobs by industry  13529  \n",
       "...                 ...    ...  \n",
       "8521  Jobs by space use    405  \n",
       "8522  Jobs by space use    433  \n",
       "8523  Jobs by space use    443  \n",
       "8524  Jobs by space use    452  \n",
       "8525  Jobs by space use    470  \n",
       "\n",
       "[8526 rows x 5 columns]"
      ]
     },
     "execution_count": 156,
     "metadata": {},
     "output_type": "execute_result"
    }
   ],
   "source": [
    "job"
   ]
  },
  {
   "cell_type": "code",
   "execution_count": 157,
   "metadata": {
    "scrolled": true
   },
   "outputs": [
    {
     "data": {
      "image/png": "[encoded data removed]",
      "text/plain": [
       "<Figure size 640x480 with 1 Axes>"
      ]
     },
     "metadata": {},
     "output_type": "display_data"
    },
    {
     "data": {
      "text/plain": [
       "<Figure size 1000x1000 with 0 Axes>"
      ]
     },
     "metadata": {},
     "output_type": "display_data"
    }
   ],
   "source": [
    "# Hisotgram of jobs with 20 bins \n",
    "sns.histplot(job.value,bins=20)\n",
    "plt.xlabel(\"Value of  Jobs\")\n",
    "plt.figure(figsize=(10,10))\n",
    "plt.show()"
   ]
  },
  {
   "cell_type": "code",
   "execution_count": 158,
   "metadata": {},
   "outputs": [
    {
     "data": {
      "text/plain": [
       "424483"
      ]
     },
     "execution_count": 158,
     "metadata": {},
     "output_type": "execute_result"
    }
   ],
   "source": [
    "max(job.value)"
   ]
  },
  {
   "cell_type": "code",
   "execution_count": 159,
   "metadata": {
    "scrolled": true
   },
   "outputs": [
    {
     "data": {
      "text/plain": [
       "0"
      ]
     },
     "execution_count": 159,
     "metadata": {},
     "output_type": "execute_result"
    }
   ],
   "source": [
    "min(job.value)"
   ]
  },
  {
   "cell_type": "code",
   "execution_count": 160,
   "metadata": {},
   "outputs": [
    {
     "data": {
      "text/plain": [
       "<Axes: xlabel='value', ylabel='Count'>"
      ]
     },
     "execution_count": 160,
     "metadata": {},
     "output_type": "execute_result"
    },
    {
     "data": {
      "image/png": "[encoded data removed]",
      "text/plain": [
       "<Figure size 640x480 with 1 Axes>"
      ]
     },
     "metadata": {},
     "output_type": "display_data"
    }
   ],
   "source": [
    "# increasing bin size to see any major change \n",
    "sns.histplot(job.value, bins=100)"
   ]
  },
  {
   "cell_type": "markdown",
   "metadata": {},
   "source": [
    "Most jobs have values in between the range of 0 to 25000. Around 8000 jobs exist between where the values of the jobs are between 0 and 25000. There are no jobs in whose values are in 300000 to 400000. There are some jobs where the value of job is between 175000 and 200000. 424483 is the highest value of job in a particular category while 0 is the lowest. We see the same insights with different bin sizes. "
   ]
  },
  {
   "cell_type": "code",
   "execution_count": 161,
   "metadata": {},
   "outputs": [
    {
     "data": {
      "image/png": "[encoded data removed]",
      "text/plain": [
       "<Figure size 640x480 with 1 Axes>"
      ]
     },
     "metadata": {},
     "output_type": "display_data"
    }
   ],
   "source": [
    "# Cumulative Counts and Empirical Cumulatie ditribution Function \n",
    "sns.histplot(job.value,stat=\"percent\", cumulative=True, color=\"lightgray\")\n",
    "plt.show()"
   ]
  },
  {
   "cell_type": "markdown",
   "metadata": {},
   "source": [
    "From the above graph we see that 90% of all jobs were created by categories with no more than 25000 number of jobs (value valriable in job dataset).  "
   ]
  },
  {
   "cell_type": "code",
   "execution_count": 162,
   "metadata": {},
   "outputs": [
    {
     "data": {
      "text/plain": [
       "5598.599577762139"
      ]
     },
     "execution_count": 162,
     "metadata": {},
     "output_type": "execute_result"
    }
   ],
   "source": [
    "np.mean(job.value)"
   ]
  },
  {
   "cell_type": "markdown",
   "metadata": {},
   "source": [
    "The mean of the values which is the number of jobs created by particular category is 5598. Mean tells us that the average number of total jobs created is 5598. "
   ]
  },
  {
   "cell_type": "code",
   "execution_count": 163,
   "metadata": {},
   "outputs": [
    {
     "data": {
      "text/plain": [
       "566.5"
      ]
     },
     "execution_count": 163,
     "metadata": {},
     "output_type": "execute_result"
    }
   ],
   "source": [
    "np.median(job.value)"
   ]
  },
  {
   "cell_type": "code",
   "execution_count": 164,
   "metadata": {},
   "outputs": [
    {
     "data": {
      "text/plain": [
       "23443.075916920792"
      ]
     },
     "execution_count": 164,
     "metadata": {},
     "output_type": "execute_result"
    }
   ],
   "source": [
    "# std indicates that the data is spread father/closer to the mean\n",
    "np.std(job.value)"
   ]
  },
  {
   "cell_type": "code",
   "execution_count": 165,
   "metadata": {},
   "outputs": [
    {
     "data": {
      "image/png": "[encoded data removed]",
      "text/plain": [
       "<Figure size 640x480 with 1 Axes>"
      ]
     },
     "metadata": {},
     "output_type": "display_data"
    },
    {
     "data": {
      "text/plain": [
       "<Figure size 10000x10000 with 0 Axes>"
      ]
     },
     "metadata": {},
     "output_type": "display_data"
    }
   ],
   "source": [
    "sns.boxplot(x=job.value, y=job.industry_space_use, data=job )\n",
    "plt.figure(figsize=(100,100))\n",
    "plt.show()"
   ]
  },
  {
   "cell_type": "code",
   "execution_count": 166,
   "metadata": {
    "scrolled": true
   },
   "outputs": [
    {
     "data": {
      "image/png": "[encoded data removed]",
      "text/plain": [
       "<Figure size 640x480 with 1 Axes>"
      ]
     },
     "metadata": {},
     "output_type": "display_data"
    },
    {
     "data": {
      "text/plain": [
       "<Figure size 10000x10000 with 0 Axes>"
      ]
     },
     "metadata": {},
     "output_type": "display_data"
    }
   ],
   "source": [
    "sns.boxplot(x=job.value, y=job.city, data=job )\n",
    "plt.figure(figsize=(100,100))\n",
    "plt.show()"
   ]
  },
  {
   "cell_type": "code",
   "execution_count": 177,
   "metadata": {},
   "outputs": [
    {
     "data": {
      "text/html": [
       "<div>\n",
       "<style scoped>\n",
       "    .dataframe tbody tr th:only-of-type {\n",
       "        vertical-align: middle;\n",
       "    }\n",
       "\n",
       "    .dataframe tbody tr th {\n",
       "        vertical-align: top;\n",
       "    }\n",
       "\n",
       "    .dataframe thead th {\n",
       "        text-align: right;\n",
       "    }\n",
       "</style>\n",
       "<table border=\"1\" class=\"dataframe\">\n",
       "  <thead>\n",
       "    <tr style=\"text-align: right;\">\n",
       "      <th></th>\n",
       "      <th>industry_space_use</th>\n",
       "      <th>city</th>\n",
       "      <th>year</th>\n",
       "      <th>category</th>\n",
       "      <th>value</th>\n",
       "    </tr>\n",
       "  </thead>\n",
       "  <tbody>\n",
       "    <tr>\n",
       "      <th>0</th>\n",
       "      <td>Accommodation</td>\n",
       "      <td>City of Melbourne</td>\n",
       "      <td>2023</td>\n",
       "      <td>Jobs by industry</td>\n",
       "      <td>10286</td>\n",
       "    </tr>\n",
       "    <tr>\n",
       "      <th>1</th>\n",
       "      <td>Accommodation</td>\n",
       "      <td>City of Melbourne</td>\n",
       "      <td>2026</td>\n",
       "      <td>Jobs by industry</td>\n",
       "      <td>11631</td>\n",
       "    </tr>\n",
       "    <tr>\n",
       "      <th>2</th>\n",
       "      <td>Accommodation</td>\n",
       "      <td>City of Melbourne</td>\n",
       "      <td>2032</td>\n",
       "      <td>Jobs by industry</td>\n",
       "      <td>13207</td>\n",
       "    </tr>\n",
       "    <tr>\n",
       "      <th>3</th>\n",
       "      <td>Accommodation</td>\n",
       "      <td>City of Melbourne</td>\n",
       "      <td>2034</td>\n",
       "      <td>Jobs by industry</td>\n",
       "      <td>13420</td>\n",
       "    </tr>\n",
       "    <tr>\n",
       "      <th>4</th>\n",
       "      <td>Accommodation</td>\n",
       "      <td>City of Melbourne</td>\n",
       "      <td>2035</td>\n",
       "      <td>Jobs by industry</td>\n",
       "      <td>13529</td>\n",
       "    </tr>\n",
       "    <tr>\n",
       "      <th>...</th>\n",
       "      <td>...</td>\n",
       "      <td>...</td>\n",
       "      <td>...</td>\n",
       "      <td>...</td>\n",
       "      <td>...</td>\n",
       "    </tr>\n",
       "    <tr>\n",
       "      <th>8349</th>\n",
       "      <td>Retail</td>\n",
       "      <td>City of Melbourne</td>\n",
       "      <td>2034</td>\n",
       "      <td>Jobs by space use</td>\n",
       "      <td>34416</td>\n",
       "    </tr>\n",
       "    <tr>\n",
       "      <th>8351</th>\n",
       "      <td>Retail</td>\n",
       "      <td>City of Melbourne</td>\n",
       "      <td>2036</td>\n",
       "      <td>Jobs by space use</td>\n",
       "      <td>36031</td>\n",
       "    </tr>\n",
       "    <tr>\n",
       "      <th>8352</th>\n",
       "      <td>Retail</td>\n",
       "      <td>City of Melbourne</td>\n",
       "      <td>2037</td>\n",
       "      <td>Jobs by space use</td>\n",
       "      <td>36678</td>\n",
       "    </tr>\n",
       "    <tr>\n",
       "      <th>8353</th>\n",
       "      <td>Retail</td>\n",
       "      <td>City of Melbourne</td>\n",
       "      <td>2038</td>\n",
       "      <td>Jobs by space use</td>\n",
       "      <td>37326</td>\n",
       "    </tr>\n",
       "    <tr>\n",
       "      <th>8354</th>\n",
       "      <td>Retail</td>\n",
       "      <td>City of Melbourne</td>\n",
       "      <td>2040</td>\n",
       "      <td>Jobs by space use</td>\n",
       "      <td>38612</td>\n",
       "    </tr>\n",
       "  </tbody>\n",
       "</table>\n",
       "<p>609 rows × 5 columns</p>\n",
       "</div>"
      ],
      "text/plain": [
       "     industry_space_use               city  year           category  value\n",
       "0         Accommodation  City of Melbourne  2023   Jobs by industry  10286\n",
       "1         Accommodation  City of Melbourne  2026   Jobs by industry  11631\n",
       "2         Accommodation  City of Melbourne  2032   Jobs by industry  13207\n",
       "3         Accommodation  City of Melbourne  2034   Jobs by industry  13420\n",
       "4         Accommodation  City of Melbourne  2035   Jobs by industry  13529\n",
       "...                 ...                ...   ...                ...    ...\n",
       "8349             Retail  City of Melbourne  2034  Jobs by space use  34416\n",
       "8351             Retail  City of Melbourne  2036  Jobs by space use  36031\n",
       "8352             Retail  City of Melbourne  2037  Jobs by space use  36678\n",
       "8353             Retail  City of Melbourne  2038  Jobs by space use  37326\n",
       "8354             Retail  City of Melbourne  2040  Jobs by space use  38612\n",
       "\n",
       "[609 rows x 5 columns]"
      ]
     },
     "execution_count": 177,
     "metadata": {},
     "output_type": "execute_result"
    }
   ],
   "source": [
    "# Lets look at the data by city - City of Melbourne\n",
    "com_data = (job\n",
    "    .loc[job.city.isin([\"City of Melbourne\"])])\n",
    "com_data"
   ]
  },
  {
   "cell_type": "code",
   "execution_count": 223,
   "metadata": {},
   "outputs": [
    {
     "data": {
      "text/html": [
       "<div>\n",
       "<style scoped>\n",
       "    .dataframe tbody tr th:only-of-type {\n",
       "        vertical-align: middle;\n",
       "    }\n",
       "\n",
       "    .dataframe tbody tr th {\n",
       "        vertical-align: top;\n",
       "    }\n",
       "\n",
       "    .dataframe thead th {\n",
       "        text-align: right;\n",
       "    }\n",
       "</style>\n",
       "<table border=\"1\" class=\"dataframe\">\n",
       "  <thead>\n",
       "    <tr style=\"text-align: right;\">\n",
       "      <th></th>\n",
       "      <th>year</th>\n",
       "      <th>value</th>\n",
       "    </tr>\n",
       "    <tr>\n",
       "      <th>industry_space_use</th>\n",
       "      <th></th>\n",
       "      <th></th>\n",
       "    </tr>\n",
       "  </thead>\n",
       "  <tbody>\n",
       "    <tr>\n",
       "      <th>Public administration and safety</th>\n",
       "      <td>2024</td>\n",
       "      <td>48038</td>\n",
       "    </tr>\n",
       "    <tr>\n",
       "      <th>Education</th>\n",
       "      <td>2024</td>\n",
       "      <td>26674</td>\n",
       "    </tr>\n",
       "    <tr>\n",
       "      <th>Business services</th>\n",
       "      <td>2024</td>\n",
       "      <td>86943</td>\n",
       "    </tr>\n",
       "    <tr>\n",
       "      <th>Admin and support services</th>\n",
       "      <td>2024</td>\n",
       "      <td>17343</td>\n",
       "    </tr>\n",
       "    <tr>\n",
       "      <th>Wholesale trade</th>\n",
       "      <td>2024</td>\n",
       "      <td>5752</td>\n",
       "    </tr>\n",
       "    <tr>\n",
       "      <th>...</th>\n",
       "      <td>...</td>\n",
       "      <td>...</td>\n",
       "    </tr>\n",
       "    <tr>\n",
       "      <th>Retail trade</th>\n",
       "      <td>2041</td>\n",
       "      <td>29782</td>\n",
       "    </tr>\n",
       "    <tr>\n",
       "      <th>Admin and support services</th>\n",
       "      <td>2041</td>\n",
       "      <td>22837</td>\n",
       "    </tr>\n",
       "    <tr>\n",
       "      <th>Information media and telecommunications</th>\n",
       "      <td>2041</td>\n",
       "      <td>30232</td>\n",
       "    </tr>\n",
       "    <tr>\n",
       "      <th>Rental and hiring services</th>\n",
       "      <td>2041</td>\n",
       "      <td>567</td>\n",
       "    </tr>\n",
       "    <tr>\n",
       "      <th>Entertainment - Hospitality</th>\n",
       "      <td>2041</td>\n",
       "      <td>42780</td>\n",
       "    </tr>\n",
       "  </tbody>\n",
       "</table>\n",
       "<p>522 rows × 2 columns</p>\n",
       "</div>"
      ],
      "text/plain": [
       "                                          year  value\n",
       "industry_space_use                                   \n",
       "Public administration and safety          2024  48038\n",
       "Education                                 2024  26674\n",
       "Business services                         2024  86943\n",
       "Admin and support services                2024  17343\n",
       "Wholesale trade                           2024   5752\n",
       "...                                        ...    ...\n",
       "Retail trade                              2041  29782\n",
       "Admin and support services                2041  22837\n",
       "Information media and telecommunications  2041  30232\n",
       "Rental and hiring services                2041    567\n",
       "Entertainment - Hospitality               2041  42780\n",
       "\n",
       "[522 rows x 2 columns]"
      ]
     },
     "execution_count": 223,
     "metadata": {},
     "output_type": "execute_result"
    }
   ],
   "source": [
    "# How many jobs were created by each industry in city of melbourne?\n",
    "data = (com_data\n",
    "        .loc[com_data.year>2023, [\"industry_space_use\", \"year\", \"value\"]]\n",
    "        .set_index(\"industry_space_use\")\n",
    "        .sort_values(\"year\")\n",
    "\n",
    "       )\n",
    "data"
   ]
  },
  {
   "cell_type": "code",
   "execution_count": 241,
   "metadata": {},
   "outputs": [
    {
     "data": {
      "text/plain": [
       "<Axes: xlabel='year', ylabel='value'>"
      ]
     },
     "execution_count": 241,
     "metadata": {},
     "output_type": "execute_result"
    },
    {
     "data": {
      "image/png": "[encoded data removed]",
      "text/plain": [
       "<Figure size 640x480 with 1 Axes>"
      ]
     },
     "metadata": {},
     "output_type": "display_data"
    }
   ],
   "source": [
    "sns.histplot(data=data, x = \"year\", y = \"value\", hue=\"industry_space_use\", bins=30, , log_scale=(False, True))"
   ]
  },
  {
   "cell_type": "code",
   "execution_count": null,
   "metadata": {},
   "outputs": [],
   "source": []
  },
  {
   "cell_type": "code",
   "execution_count": null,
   "metadata": {},
   "outputs": [],
   "source": []
  },
  {
   "cell_type": "code",
   "execution_count": null,
   "metadata": {},
   "outputs": [],
   "source": []
  },
  {
   "cell_type": "code",
   "execution_count": null,
   "metadata": {},
   "outputs": [],
   "source": []
  },
  {
   "cell_type": "code",
   "execution_count": null,
   "metadata": {},
   "outputs": [],
   "source": []
  },
  {
   "cell_type": "code",
   "execution_count": null,
   "metadata": {},
   "outputs": [],
   "source": []
  },
  {
   "cell_type": "markdown",
   "metadata": {},
   "source": [
    "<div class=\"usecase-section-header\">Exploratory Data Analysis on Population Dataset. </div>"
   ]
  },
  {
   "cell_type": "code",
   "execution_count": null,
   "metadata": {},
   "outputs": [],
   "source": []
  },
  {
   "cell_type": "code",
   "execution_count": null,
   "metadata": {},
   "outputs": [],
   "source": []
  },
  {
   "cell_type": "code",
   "execution_count": null,
   "metadata": {},
   "outputs": [],
   "source": []
  },
  {
   "cell_type": "code",
   "execution_count": null,
   "metadata": {},
   "outputs": [],
   "source": []
  },
  {
   "cell_type": "code",
   "execution_count": null,
   "metadata": {},
   "outputs": [],
   "source": []
  },
  {
   "cell_type": "markdown",
   "metadata": {},
   "source": [
    "<div class=\"usecase-section-header\">References</div>\n",
    "<ul>\n",
    "    <li> https://pandas.pydata.org/docs/reference/api/pandas.unique.html </li>\n",
    "    <li>https://note.nkmk.me/en/python-pandas-nan-extract/#:~:text=You%20can%20use%20the%20isnull,a%20missing%20value%20or%20not.&text=isnull()%20is%20an%20alias,and%20both%20are%20used%20interchangeably.</li>\n",
    "    <li>https://www.kaggle.com/code/malanep/finding-and-visualizing-missing-data-in-python</li>\n",
    "    <li>https://libraries.io/pypi/missingno</li>\n",
    "    <li>https://pandas.pydata.org/docs/reference/api/pandas.DataFrame.drop.html</li>\n",
    "    <li>https://stackoverflow.com/questions/44869327/find-index-of-all-rows-with-null-values-in-a-particular-column-in-pandas-datafra</li>\n",
    "\n",
    "</ul>"
   ]
  },
  {
   "cell_type": "markdown",
   "metadata": {},
   "source": [
    "<h3> Rhuth's Work Above </h3>\n",
    "<h1>MAIN SECTION </h1> \n",
    "<h3> Tharusha's Work Below </h3>"
   ]
  },
  {
   "cell_type": "markdown",
   "metadata": {},
   "source": []
  },
  {
   "cell_type": "code",
   "execution_count": 167,
   "metadata": {},
   "outputs": [
    {
     "name": "stdout",
     "output_type": "stream",
     "text": [
      "Index(['gender', 'city', 'year', 'age', 'value'], dtype='object')\n"
     ]
    }
   ],
   "source": [
    "print(pop.columns)\n"
   ]
  },
  {
   "cell_type": "markdown",
   "metadata": {},
   "source": [
    "### Simple Visual of the Population against the Year with Color/ Hue corresponding to the male and female population"
   ]
  },
  {
   "cell_type": "code",
   "execution_count": 168,
   "metadata": {
    "scrolled": true
   },
   "outputs": [
    {
     "data": {
      "image/png": "[encoded data removed]",
      "text/plain": [
       "<Figure size 640x480 with 1 Axes>"
      ]
     },
     "metadata": {},
     "output_type": "display_data"
    }
   ],
   "source": [
    "#Visual\n",
    "\n",
    "import pandas as pd\n",
    "import matplotlib.pyplot as plt\n",
    "import seaborn as sns\n",
    "\n",
    "\n",
    "sns.lineplot(data=pop, x='year', y='value', hue='gender')\n",
    "plt.title('Population Over Time by Gender')\n",
    "plt.xlabel('Year')\n",
    "plt.ylabel('Population')\n",
    "plt.show()"
   ]
  },
  {
   "cell_type": "markdown",
   "metadata": {},
   "source": [
    "### Scatter Plot "
   ]
  },
  {
   "cell_type": "code",
   "execution_count": 169,
   "metadata": {},
   "outputs": [
    {
     "ename": "NameError",
     "evalue": "name 'df' is not defined",
     "output_type": "error",
     "traceback": [
      "\u001b[1;31m---------------------------------------------------------------------------\u001b[0m",
      "\u001b[1;31mNameError\u001b[0m                                 Traceback (most recent call last)",
      "Cell \u001b[1;32mIn[169], line 1\u001b[0m\n\u001b[1;32m----> 1\u001b[0m sns\u001b[38;5;241m.\u001b[39mscatterplot(data\u001b[38;5;241m=\u001b[39m\u001b[43mdf\u001b[49m, x\u001b[38;5;241m=\u001b[39m\u001b[38;5;124m'\u001b[39m\u001b[38;5;124myear\u001b[39m\u001b[38;5;124m'\u001b[39m, y\u001b[38;5;241m=\u001b[39m\u001b[38;5;124m'\u001b[39m\u001b[38;5;124mvalue\u001b[39m\u001b[38;5;124m'\u001b[39m, hue\u001b[38;5;241m=\u001b[39m\u001b[38;5;124m'\u001b[39m\u001b[38;5;124mgender\u001b[39m\u001b[38;5;124m'\u001b[39m)\n\u001b[0;32m      2\u001b[0m plt\u001b[38;5;241m.\u001b[39mtitle(\u001b[38;5;124m'\u001b[39m\u001b[38;5;124mPopulation Scatter Plot Over Time by Gender\u001b[39m\u001b[38;5;124m'\u001b[39m)\n\u001b[0;32m      3\u001b[0m plt\u001b[38;5;241m.\u001b[39mxlabel(\u001b[38;5;124m'\u001b[39m\u001b[38;5;124mYear\u001b[39m\u001b[38;5;124m'\u001b[39m)\n",
      "\u001b[1;31mNameError\u001b[0m: name 'df' is not defined"
     ]
    }
   ],
   "source": [
    "sns.scatterplot(data=df, x='year', y='value', hue='gender')\n",
    "plt.title('Population Scatter Plot Over Time by Gender')\n",
    "plt.xlabel('Year')\n",
    "plt.ylabel('Population')\n",
    "plt.show()"
   ]
  },
  {
   "cell_type": "code",
   "execution_count": null,
   "metadata": {},
   "outputs": [],
   "source": []
  }
 ],
 "metadata": {
  "kernelspec": {
   "display_name": "Python 3 (ipykernel)",
   "language": "python",
   "name": "python3"
  },
  "language_info": {
   "codemirror_mode": {
    "name": "ipython",
    "version": 3
   },
   "file_extension": ".py",
   "mimetype": "text/x-python",
   "name": "python",
   "nbconvert_exporter": "python",
   "pygments_lexer": "ipython3",
   "version": "3.11.2"
  },
  "vscode": {
   "interpreter": {
    "hash": "ad2bdc8ecc057115af97d19610ffacc2b4e99fae6737bb82f5d7fb13d2f2c186"
   }
  }
 },
 "nbformat": 4,
 "nbformat_minor": 4
}
