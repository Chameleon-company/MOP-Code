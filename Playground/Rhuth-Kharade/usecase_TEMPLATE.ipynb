{
 "cells": [
  {
   "cell_type": "code",
   "execution_count": 8,
   "metadata": {},
   "outputs": [
    {
     "data": {
      "text/html": [
       "\n",
       "<style>\n",
       ".usecase-title, .usecase-duration, .usecase-section-header {\n",
       "    padding-left: 15px;\n",
       "    padding-bottom: 10px;\n",
       "    padding-top: 10px;\n",
       "    padding-right: 15px;\n",
       "    background-color: #0f9295;\n",
       "    color: #fff;\n",
       "}\n",
       "\n",
       ".usecase-title {\n",
       "    font-size: 1.7em;\n",
       "    font-weight: bold;\n",
       "}\n",
       "\n",
       ".usecase-authors, .usecase-level, .usecase-skill {\n",
       "    padding-left: 15px;\n",
       "    padding-bottom: 7px;\n",
       "    padding-top: 7px;\n",
       "    background-color: #baeaeb;\n",
       "    font-size: 1.4em;\n",
       "    color: #121212;\n",
       "}\n",
       "\n",
       ".usecase-level-skill  {\n",
       "    display: flex;\n",
       "}\n",
       "\n",
       ".usecase-level, .usecase-skill {\n",
       "    width: 50%;\n",
       "}\n",
       "\n",
       ".usecase-duration, .usecase-skill {\n",
       "    text-align: right;\n",
       "    padding-right: 15px;\n",
       "    padding-bottom: 8px;\n",
       "    font-size: 1.4em;\n",
       "}\n",
       "\n",
       ".usecase-section-header {\n",
       "    font-weight: bold;\n",
       "    font-size: 1.5em;\n",
       "}\n",
       "\n",
       ".usecase-subsection-header, .usecase-subsection-blurb {\n",
       "    font-weight: bold;\n",
       "    font-size: 1.2em;\n",
       "    color: #121212;\n",
       "}\n",
       "\n",
       ".usecase-subsection-blurb {\n",
       "    font-size: 1em;\n",
       "    font-style: italic;\n",
       "}\n",
       "</style>\n"
      ],
      "text/plain": [
       "<IPython.core.display.HTML object>"
      ]
     },
     "execution_count": 8,
     "metadata": {},
     "output_type": "execute_result"
    }
   ],
   "source": [
    "# DELETE BEFORE PUBLISHING\n",
    "# This is just here so you can preview the styling on your local machine\n",
    "\n",
    "from IPython.core.display import HTML\n",
    "HTML(\"\"\"\n",
    "<style>\n",
    ".usecase-title, .usecase-duration, .usecase-section-header {\n",
    "    padding-left: 15px;\n",
    "    padding-bottom: 10px;\n",
    "    padding-top: 10px;\n",
    "    padding-right: 15px;\n",
    "    background-color: #0f9295;\n",
    "    color: #fff;\n",
    "}\n",
    "\n",
    ".usecase-title {\n",
    "    font-size: 1.7em;\n",
    "    font-weight: bold;\n",
    "}\n",
    "\n",
    ".usecase-authors, .usecase-level, .usecase-skill {\n",
    "    padding-left: 15px;\n",
    "    padding-bottom: 7px;\n",
    "    padding-top: 7px;\n",
    "    background-color: #baeaeb;\n",
    "    font-size: 1.4em;\n",
    "    color: #121212;\n",
    "}\n",
    "\n",
    ".usecase-level-skill  {\n",
    "    display: flex;\n",
    "}\n",
    "\n",
    ".usecase-level, .usecase-skill {\n",
    "    width: 50%;\n",
    "}\n",
    "\n",
    ".usecase-duration, .usecase-skill {\n",
    "    text-align: right;\n",
    "    padding-right: 15px;\n",
    "    padding-bottom: 8px;\n",
    "    font-size: 1.4em;\n",
    "}\n",
    "\n",
    ".usecase-section-header {\n",
    "    font-weight: bold;\n",
    "    font-size: 1.5em;\n",
    "}\n",
    "\n",
    ".usecase-subsection-header, .usecase-subsection-blurb {\n",
    "    font-weight: bold;\n",
    "    font-size: 1.2em;\n",
    "    color: #121212;\n",
    "}\n",
    "\n",
    ".usecase-subsection-blurb {\n",
    "    font-size: 1em;\n",
    "    font-style: italic;\n",
    "}\n",
    "</style>\n",
    "\"\"\")"
   ]
  },
  {
   "cell_type": "markdown",
   "metadata": {},
   "source": [
    "<div class=\"usecase-title\">Population and Job forecasting </div>\n",
    "\n",
    "<div class=\"usecase-authors\"><b>Authored by: Rhutuvaruni Kharade and Tharusha Chao</div>"
   ]
  },
  {
   "cell_type": "markdown",
   "metadata": {},
   "source": [
    "<div class=\"usecase-duration\"><b>Duration:</b> 100 mins</div>\n",
    "\n",
    "<div class=\"usecase-level-skill\">\n",
    "    <div class=\"usecase-level\"><b>Level: </b>Intermediate</div>\n",
    "    <div class=\"usecase-skill\"><b>Pre-requisite Skills: </b>Python, PowerBI, Tableau</div>\n",
    "</div>"
   ]
  },
  {
   "cell_type": "markdown",
   "metadata": {},
   "source": [
    "<div class=\"usecase-section-header\">Scenario</div>"
   ]
  },
  {
   "cell_type": "markdown",
   "metadata": {},
   "source": [
    "<b>As a citizen and a job seeker, I want to find a job in the field that currently has a lot of demand in this area. </b>\n",
    "Job seekers are often worried about which jobs are in high demand or in low demand? Which industry will have higher number of jobs in future ? Which areas have highest numbers of jobs based on a particular industry ? Its important for them to know which jobs they should study for and which city has highest concentration of such jobs so they can plan their living and stay in such areas. By understanding the number of jobs based on a cities, job seekers can ensure that they can get a job or live in close vicinity of that job if they live in a particular areas. \n",
    "\n",
    "<b>As a business owner I want to establish my business where there is a high demand for my service. I want to make sure that the city I am planning to establish my business in has a higher population so I can attract more customers and potential candidates to work for my company. </b>\n",
    "Business owners need to know in which city they should establish their company in. This is based on the population of the area. Number of people living in a particular area can motivate business owners to have their business in such locations. This will also attract many job seekers in these places which will help the businesses find the right candidates (employees) to work for them. \n",
    "\n"
   ]
  },
  {
   "cell_type": "markdown",
   "metadata": {},
   "source": [
    "<div class=\"usecase-section-header\">What this use case will teach you</div>"
   ]
  },
  {
   "cell_type": "markdown",
   "metadata": {},
   "source": [
    "At the end of this use case you will - \n",
    "- Learn how to make open the data in the form of pandas dataframe and save it for futher use.\n",
    "- Have learned how to clean, transform, analyze, visualize data and report outcomes (findings) effectively.\n",
    "- Use the data to create effective visualization like scatterplots, heatmaps, histograms, etc to aid an understanding of the data to technical and non-technical readers\n",
    "- using dashboards for effective story telling to both techical and non-technical audiences. \n",
    "- Using version control tools to collaborate and contribute to the project//\n"
   ]
  },
  {
   "cell_type": "markdown",
   "metadata": {},
   "source": [
    "<div class=\"usecase-section-header\">Introduction</div>"
   ]
  },
  {
   "cell_type": "markdown",
   "metadata": {},
   "source": [
    "This project focuses on finding the relationship between jobs and population. Jobs in different industry impact the population in the area. This project will look at this impact and will also give reader a brief idea about how population changes with respect to the number of jobs in a particular area. The data is sourced from City of Melbourne Open Data which is open source and will be used throughout this project. The dataset will be cleaned, transformed, analyzed, visualized and finally relevant insights will be reported and documented. These findings will help stakeholders, policy makers and other readers for futher decision making.  \n"
   ]
  },
  {
   "cell_type": "markdown",
   "metadata": {},
   "source": [
    "<div class=\"usecase-section-header\">Datasets Used </div>"
   ]
  },
  {
   "cell_type": "markdown",
   "metadata": {},
   "source": [
    "1 : city-of-melbourne-jobs-forecasts-by-small-area-2020-2040\n",
    "\n",
    "2 : city-of-melbourne-population-forecasts-by-small-area-2020-2040"
   ]
  },
  {
   "cell_type": "markdown",
   "metadata": {},
   "source": [
    "<div class=\"usecase-section-header\">Learning Opportunities</div>"
   ]
  },
  {
   "cell_type": "markdown",
   "metadata": {},
   "source": [
    "ADD"
   ]
  },
  {
   "cell_type": "markdown",
   "metadata": {},
   "source": [
    "<div class=\"usecase-section-header\">Importing libraries </div>"
   ]
  },
  {
   "cell_type": "code",
   "execution_count": 9,
   "metadata": {},
   "outputs": [],
   "source": [
    "# importing libraries \n",
    "import pandas as pd \n",
    "import seaborn as sns \n",
    "import numpy as np \n",
    "import requests\n",
    "import os \n",
    "import matplotlib.pyplot as plt \n",
    "#import missingno as msno\n",
    "\n"
   ]
  },
  {
   "cell_type": "markdown",
   "metadata": {},
   "source": [
    "<div class=\"usecase-section-header\">Connecting to Dataset and Testing </div>"
   ]
  },
  {
   "cell_type": "code",
   "execution_count": 10,
   "metadata": {},
   "outputs": [],
   "source": [
    "# # aim : api stuff, creating requests and parsing json \n",
    "# # job data - City of Melbourne Jobs Forecasts by Small Area 2021-2041\n",
    "\n",
    "# # Function to get data from website using API\n",
    "# def get_data(base, data_url, offset=0):    \n",
    "#     # Set the filters, limit retrieves 20 rows at a time, offset says where to start data collection\n",
    "#     filters = f'records?limit={50}&offset={offset}&timezone=UTC'\n",
    "#     # Make the url from base, data url and filters variables stored ouside loop\n",
    "#     url = f'{base}{data_url}/{filters}'\n",
    "#     # Use the requests function to get the data\n",
    "#     result = requests.get(url)\n",
    "#     # Check that the request works, error code 200 = successful\n",
    "#     if result.status_code == 200:\n",
    "#         # Save results as a json file\n",
    "#         result_json = result.json()\n",
    "#         # Store a variable of max_results with total of dataset\n",
    "#         max_results = result_json['total_count']\n",
    "#         # Save the results key data to a list variable\n",
    "#         records = result_json['results']\n",
    "#     else:\n",
    "#         # If data is not collected correctly return the error\n",
    "#         print(\"ERROR GETTING DATA: \", result.status_code)\n",
    "#         max_results = 0\n",
    "#         records = []\n",
    "#     # At end of function, return the json results in records, max_results count and offset\n",
    "#     return [records, max_results, offset]\n",
    "\n",
    "\n",
    "# # Collect data from API\n",
    "# # Set offset increment\n",
    "# OFFSET_INCREMENT = 50\n",
    "# # Base url (this should be the same for all datasets)\n",
    "# BASE_URL = 'https://data.melbourne.vic.gov.au/api/explore/v2.1/catalog/datasets/'\n",
    "# # Set specific url \n",
    "# SPECIFIC_PATH = 'city-of-melbourne-jobs-forecasts-by-small-area-2020-2040'\n",
    "# # Call the get data function, passing in variables above, save to result\n",
    "# result = get_data(BASE_URL, SPECIFIC_PATH)\n",
    "# # Save the records data returned in the get_data function to records list variable\n",
    "# records = result[0]\n",
    "# # Save the dataset size data returned in the get_data function to max_results variable\n",
    "# max_results = result[1] \n",
    "# # Increase the offset returned in the get_data function (result[2]) by the offset increment\n",
    "# offset = result[2] + OFFSET_INCREMENT\n",
    "# # Check the length of the data returned and compare it against the max_results variable\n",
    "# # If the length o fthe data is less than the max_results, run the while loop\n",
    "# while len(records) != max_results:\n",
    "#     # Call the get data function again, passing in url, specific path and new offset value\n",
    "#     data = get_data(BASE_URL, SPECIFIC_PATH, offset)\n",
    "#     # Add the data collected to the existing records list\n",
    "#     records += data[0]\n",
    "#     # Increase the offset by the offset increment\n",
    "#     offset += OFFSET_INCREMENT\n",
    "# # Convert the records list of dictionaries into a pandas dataframe \n",
    "# job = pd.DataFrame(records)\n",
    "# job"
   ]
  },
  {
   "cell_type": "code",
   "execution_count": 11,
   "metadata": {},
   "outputs": [],
   "source": [
    "\n",
    "# # Collect data from API\n",
    "# # Set offset increment\n",
    "# OFFSET_INCREMENT = 50\n",
    "# # Base url (this should be the same for all datasets)\n",
    "# BASE_URL = 'https://data.melbourne.vic.gov.au/api/explore/v2.1/catalog/datasets/'\n",
    "# # Set specific url \n",
    "# SPECIFIC_PATH = 'city-of-melbourne-population-forecasts-by-small-area-2020-2040'\n",
    "# # Call the get data function, passing in variables above, save to result\n",
    "# result = get_data(BASE_URL, SPECIFIC_PATH)\n",
    "# # Save the records data returned in the get_data function to records list variable\n",
    "# records = result[0]\n",
    "# # Save the dataset size data returned in the get_data function to max_results variable\n",
    "# max_results = result[1] \n",
    "# # Increase the offset returned in the get_data function (result[2]) by the offset increment\n",
    "# offset = result[2] + OFFSET_INCREMENT\n",
    "# # Check the length of the data returned and compare it against the max_results variable\n",
    "# # If the length o fthe data is less than the max_results, run the while loop\n",
    "# while len(records) != max_results:\n",
    "#     # Call the get data function again, passing in url, specific path and new offset value\n",
    "#     data = get_data(BASE_URL, SPECIFIC_PATH, offset)\n",
    "#     # Add the data collected to the existing records list\n",
    "#     records += data[0]\n",
    "#     # Increase the offset by the offset increment\n",
    "#     offset += OFFSET_INCREMENT\n",
    "# # Convert the records list of dictionaries into a pandas dataframe \n",
    "# pop = pd.DataFrame(records)\n",
    "# pop"
   ]
  },
  {
   "cell_type": "code",
   "execution_count": 12,
   "metadata": {},
   "outputs": [
    {
     "data": {
      "text/html": [
       "<div>\n",
       "<style scoped>\n",
       "    .dataframe tbody tr th:only-of-type {\n",
       "        vertical-align: middle;\n",
       "    }\n",
       "\n",
       "    .dataframe tbody tr th {\n",
       "        vertical-align: top;\n",
       "    }\n",
       "\n",
       "    .dataframe thead th {\n",
       "        text-align: right;\n",
       "    }\n",
       "</style>\n",
       "<table border=\"1\" class=\"dataframe\">\n",
       "  <thead>\n",
       "    <tr style=\"text-align: right;\">\n",
       "      <th></th>\n",
       "      <th>Geography</th>\n",
       "      <th>Year</th>\n",
       "      <th>Gender</th>\n",
       "      <th>Age</th>\n",
       "      <th>Value</th>\n",
       "    </tr>\n",
       "  </thead>\n",
       "  <tbody>\n",
       "    <tr>\n",
       "      <th>0</th>\n",
       "      <td>City of Melbourne</td>\n",
       "      <td>2021</td>\n",
       "      <td>Female</td>\n",
       "      <td>Age 0-4</td>\n",
       "      <td>1943.0</td>\n",
       "    </tr>\n",
       "    <tr>\n",
       "      <th>1</th>\n",
       "      <td>City of Melbourne</td>\n",
       "      <td>2023</td>\n",
       "      <td>Female</td>\n",
       "      <td>Age 0-4</td>\n",
       "      <td>2477.0</td>\n",
       "    </tr>\n",
       "    <tr>\n",
       "      <th>2</th>\n",
       "      <td>City of Melbourne</td>\n",
       "      <td>2026</td>\n",
       "      <td>Female</td>\n",
       "      <td>Age 0-4</td>\n",
       "      <td>3595.0</td>\n",
       "    </tr>\n",
       "    <tr>\n",
       "      <th>3</th>\n",
       "      <td>City of Melbourne</td>\n",
       "      <td>2028</td>\n",
       "      <td>Female</td>\n",
       "      <td>Age 0-4</td>\n",
       "      <td>4083.0</td>\n",
       "    </tr>\n",
       "    <tr>\n",
       "      <th>4</th>\n",
       "      <td>City of Melbourne</td>\n",
       "      <td>2034</td>\n",
       "      <td>Female</td>\n",
       "      <td>Age 0-4</td>\n",
       "      <td>5242.0</td>\n",
       "    </tr>\n",
       "    <tr>\n",
       "      <th>...</th>\n",
       "      <td>...</td>\n",
       "      <td>...</td>\n",
       "      <td>...</td>\n",
       "      <td>...</td>\n",
       "      <td>...</td>\n",
       "    </tr>\n",
       "    <tr>\n",
       "      <th>17047</th>\n",
       "      <td>West Melbourne (Residential)</td>\n",
       "      <td>2033</td>\n",
       "      <td>Not applicable</td>\n",
       "      <td>Total population</td>\n",
       "      <td>13657.0</td>\n",
       "    </tr>\n",
       "    <tr>\n",
       "      <th>17048</th>\n",
       "      <td>West Melbourne (Residential)</td>\n",
       "      <td>2034</td>\n",
       "      <td>Not applicable</td>\n",
       "      <td>Total population</td>\n",
       "      <td>14250.0</td>\n",
       "    </tr>\n",
       "    <tr>\n",
       "      <th>17049</th>\n",
       "      <td>West Melbourne (Residential)</td>\n",
       "      <td>2036</td>\n",
       "      <td>Not applicable</td>\n",
       "      <td>Total population</td>\n",
       "      <td>14832.0</td>\n",
       "    </tr>\n",
       "    <tr>\n",
       "      <th>17050</th>\n",
       "      <td>West Melbourne (Residential)</td>\n",
       "      <td>2037</td>\n",
       "      <td>Not applicable</td>\n",
       "      <td>Total population</td>\n",
       "      <td>14854.0</td>\n",
       "    </tr>\n",
       "    <tr>\n",
       "      <th>17051</th>\n",
       "      <td>West Melbourne (Residential)</td>\n",
       "      <td>2038</td>\n",
       "      <td>Not applicable</td>\n",
       "      <td>Total population</td>\n",
       "      <td>14815.0</td>\n",
       "    </tr>\n",
       "  </tbody>\n",
       "</table>\n",
       "<p>17052 rows × 5 columns</p>\n",
       "</div>"
      ],
      "text/plain": [
       "                          Geography  Year          Gender               Age  \\\n",
       "0                 City of Melbourne  2021          Female           Age 0-4   \n",
       "1                 City of Melbourne  2023          Female           Age 0-4   \n",
       "2                 City of Melbourne  2026          Female           Age 0-4   \n",
       "3                 City of Melbourne  2028          Female           Age 0-4   \n",
       "4                 City of Melbourne  2034          Female           Age 0-4   \n",
       "...                             ...   ...             ...               ...   \n",
       "17047  West Melbourne (Residential)  2033  Not applicable  Total population   \n",
       "17048  West Melbourne (Residential)  2034  Not applicable  Total population   \n",
       "17049  West Melbourne (Residential)  2036  Not applicable  Total population   \n",
       "17050  West Melbourne (Residential)  2037  Not applicable  Total population   \n",
       "17051  West Melbourne (Residential)  2038  Not applicable  Total population   \n",
       "\n",
       "         Value  \n",
       "0       1943.0  \n",
       "1       2477.0  \n",
       "2       3595.0  \n",
       "3       4083.0  \n",
       "4       5242.0  \n",
       "...        ...  \n",
       "17047  13657.0  \n",
       "17048  14250.0  \n",
       "17049  14832.0  \n",
       "17050  14854.0  \n",
       "17051  14815.0  \n",
       "\n",
       "[17052 rows x 5 columns]"
      ]
     },
     "execution_count": 12,
     "metadata": {},
     "output_type": "execute_result"
    }
   ],
   "source": [
    "#job = pd.read_csv(\"city-of-melbourne-jobs-forecasts-by-small-area-2020-2040.csv\")\n",
    "job = pd.read_csv(\"https://data.melbourne.vic.gov.au/api/explore/v2.1/catalog/datasets/city-of-melbourne-population-forecasts-by-small-area-2020-2040/exports/csv?lang=en&timezone=Australia%2FSydney&use_labels=true&delimiter=%2C\")\n",
    "job"
   ]
  },
  {
   "cell_type": "code",
   "execution_count": 13,
   "metadata": {},
   "outputs": [
    {
     "data": {
      "text/html": [
       "<div>\n",
       "<style scoped>\n",
       "    .dataframe tbody tr th:only-of-type {\n",
       "        vertical-align: middle;\n",
       "    }\n",
       "\n",
       "    .dataframe tbody tr th {\n",
       "        vertical-align: top;\n",
       "    }\n",
       "\n",
       "    .dataframe thead th {\n",
       "        text-align: right;\n",
       "    }\n",
       "</style>\n",
       "<table border=\"1\" class=\"dataframe\">\n",
       "  <thead>\n",
       "    <tr style=\"text-align: right;\">\n",
       "      <th></th>\n",
       "      <th>Geography</th>\n",
       "      <th>Year</th>\n",
       "      <th>Gender</th>\n",
       "      <th>Age</th>\n",
       "      <th>Value</th>\n",
       "    </tr>\n",
       "  </thead>\n",
       "  <tbody>\n",
       "    <tr>\n",
       "      <th>0</th>\n",
       "      <td>City of Melbourne</td>\n",
       "      <td>2021</td>\n",
       "      <td>Female</td>\n",
       "      <td>Age 0-4</td>\n",
       "      <td>1943.0</td>\n",
       "    </tr>\n",
       "    <tr>\n",
       "      <th>1</th>\n",
       "      <td>City of Melbourne</td>\n",
       "      <td>2023</td>\n",
       "      <td>Female</td>\n",
       "      <td>Age 0-4</td>\n",
       "      <td>2477.0</td>\n",
       "    </tr>\n",
       "    <tr>\n",
       "      <th>2</th>\n",
       "      <td>City of Melbourne</td>\n",
       "      <td>2026</td>\n",
       "      <td>Female</td>\n",
       "      <td>Age 0-4</td>\n",
       "      <td>3595.0</td>\n",
       "    </tr>\n",
       "    <tr>\n",
       "      <th>3</th>\n",
       "      <td>City of Melbourne</td>\n",
       "      <td>2028</td>\n",
       "      <td>Female</td>\n",
       "      <td>Age 0-4</td>\n",
       "      <td>4083.0</td>\n",
       "    </tr>\n",
       "    <tr>\n",
       "      <th>4</th>\n",
       "      <td>City of Melbourne</td>\n",
       "      <td>2034</td>\n",
       "      <td>Female</td>\n",
       "      <td>Age 0-4</td>\n",
       "      <td>5242.0</td>\n",
       "    </tr>\n",
       "  </tbody>\n",
       "</table>\n",
       "</div>"
      ],
      "text/plain": [
       "           Geography  Year  Gender      Age   Value\n",
       "0  City of Melbourne  2021  Female  Age 0-4  1943.0\n",
       "1  City of Melbourne  2023  Female  Age 0-4  2477.0\n",
       "2  City of Melbourne  2026  Female  Age 0-4  3595.0\n",
       "3  City of Melbourne  2028  Female  Age 0-4  4083.0\n",
       "4  City of Melbourne  2034  Female  Age 0-4  5242.0"
      ]
     },
     "execution_count": 13,
     "metadata": {},
     "output_type": "execute_result"
    }
   ],
   "source": [
    "job.head()"
   ]
  },
  {
   "cell_type": "code",
   "execution_count": 14,
   "metadata": {},
   "outputs": [
    {
     "name": "stdout",
     "output_type": "stream",
     "text": [
      "<class 'pandas.core.frame.DataFrame'>\n",
      "RangeIndex: 17052 entries, 0 to 17051\n",
      "Data columns (total 5 columns):\n",
      " #   Column     Non-Null Count  Dtype  \n",
      "---  ------     --------------  -----  \n",
      " 0   Geography  17052 non-null  object \n",
      " 1   Year       17052 non-null  int64  \n",
      " 2   Gender     17052 non-null  object \n",
      " 3   Age        17052 non-null  object \n",
      " 4   Value      16989 non-null  float64\n",
      "dtypes: float64(1), int64(1), object(3)\n",
      "memory usage: 666.2+ KB\n"
     ]
    }
   ],
   "source": [
    "# to get a basic understanding of variables and null values\n",
    "job.info()"
   ]
  },
  {
   "cell_type": "code",
   "execution_count": 15,
   "metadata": {},
   "outputs": [
    {
     "data": {
      "text/plain": [
       "(17052, 5)"
      ]
     },
     "execution_count": 15,
     "metadata": {},
     "output_type": "execute_result"
    }
   ],
   "source": [
    "# To see total numbers of rows and columns \n",
    "job.shape"
   ]
  },
  {
   "cell_type": "code",
   "execution_count": 16,
   "metadata": {},
   "outputs": [],
   "source": [
    "# Renaming columns for ease, making them all lowercase. \n",
    "job = job.rename(columns = {\"Geography\":\"city\", \"Year\":\"year\", \"Category\":\"category\", \"Industry Space Use\": \"industry_space_use\", \"Value\": \"value\"} )"
   ]
  },
  {
   "cell_type": "code",
   "execution_count": 17,
   "metadata": {},
   "outputs": [
    {
     "data": {
      "text/plain": [
       "array(['City of Melbourne', 'Carlton', 'Docklands', 'East Melbourne',\n",
       "       'Kensington', 'Melbourne (CBD)', 'Melbourne (Remainder)',\n",
       "       'North Melbourne', 'Parkville', 'Port Melbourne', 'South Yarra',\n",
       "       'Southbank', 'West Melbourne (Industrial)',\n",
       "       'West Melbourne (Residential)'], dtype=object)"
      ]
     },
     "execution_count": 17,
     "metadata": {},
     "output_type": "execute_result"
    }
   ],
   "source": [
    "# In geography columns, to see which unique location it consists of\n",
    "job.city.unique()"
   ]
  },
  {
   "cell_type": "code",
   "execution_count": 18,
   "metadata": {},
   "outputs": [
    {
     "data": {
      "text/plain": [
       "array([2021, 2023, 2026, 2028, 2034, 2037, 2038, 2024, 2025, 2040, 2031,\n",
       "       2033, 2022, 2032, 2036, 2041, 2027, 2029, 2039, 2035, 2030],\n",
       "      dtype=int64)"
      ]
     },
     "execution_count": 18,
     "metadata": {},
     "output_type": "execute_result"
    }
   ],
   "source": [
    "# to check unique years this data is from\n",
    "job.year.unique()"
   ]
  },
  {
   "cell_type": "code",
   "execution_count": 19,
   "metadata": {},
   "outputs": [
    {
     "ename": "AttributeError",
     "evalue": "'DataFrame' object has no attribute 'category'",
     "output_type": "error",
     "traceback": [
      "\u001b[1;31m---------------------------------------------------------------------------\u001b[0m",
      "\u001b[1;31mAttributeError\u001b[0m                            Traceback (most recent call last)",
      "\u001b[1;32m~\\AppData\\Local\\Temp\\ipykernel_30500\\3461803866.py\u001b[0m in \u001b[0;36m?\u001b[1;34m()\u001b[0m\n\u001b[0;32m      1\u001b[0m \u001b[1;31m# to understand uniqe categories in category columns\u001b[0m\u001b[1;33m\u001b[0m\u001b[1;33m\u001b[0m\u001b[0m\n\u001b[1;32m----> 2\u001b[1;33m \u001b[0mjob\u001b[0m\u001b[1;33m.\u001b[0m\u001b[0mcategory\u001b[0m\u001b[1;33m.\u001b[0m\u001b[0munique\u001b[0m\u001b[1;33m(\u001b[0m\u001b[1;33m)\u001b[0m\u001b[1;33m\u001b[0m\u001b[1;33m\u001b[0m\u001b[0m\n\u001b[0m",
      "\u001b[1;32md:\\python\\envs\\CapstoneTeamProject\\Lib\\site-packages\\pandas\\core\\generic.py\u001b[0m in \u001b[0;36m?\u001b[1;34m(self, name)\u001b[0m\n\u001b[0;32m   6200\u001b[0m             \u001b[1;32mand\u001b[0m \u001b[0mname\u001b[0m \u001b[1;32mnot\u001b[0m \u001b[1;32min\u001b[0m \u001b[0mself\u001b[0m\u001b[1;33m.\u001b[0m\u001b[0m_accessors\u001b[0m\u001b[1;33m\u001b[0m\u001b[1;33m\u001b[0m\u001b[0m\n\u001b[0;32m   6201\u001b[0m             \u001b[1;32mand\u001b[0m \u001b[0mself\u001b[0m\u001b[1;33m.\u001b[0m\u001b[0m_info_axis\u001b[0m\u001b[1;33m.\u001b[0m\u001b[0m_can_hold_identifiers_and_holds_name\u001b[0m\u001b[1;33m(\u001b[0m\u001b[0mname\u001b[0m\u001b[1;33m)\u001b[0m\u001b[1;33m\u001b[0m\u001b[1;33m\u001b[0m\u001b[0m\n\u001b[0;32m   6202\u001b[0m         ):\n\u001b[0;32m   6203\u001b[0m             \u001b[1;32mreturn\u001b[0m \u001b[0mself\u001b[0m\u001b[1;33m[\u001b[0m\u001b[0mname\u001b[0m\u001b[1;33m]\u001b[0m\u001b[1;33m\u001b[0m\u001b[1;33m\u001b[0m\u001b[0m\n\u001b[1;32m-> 6204\u001b[1;33m         \u001b[1;32mreturn\u001b[0m \u001b[0mobject\u001b[0m\u001b[1;33m.\u001b[0m\u001b[0m__getattribute__\u001b[0m\u001b[1;33m(\u001b[0m\u001b[0mself\u001b[0m\u001b[1;33m,\u001b[0m \u001b[0mname\u001b[0m\u001b[1;33m)\u001b[0m\u001b[1;33m\u001b[0m\u001b[1;33m\u001b[0m\u001b[0m\n\u001b[0m",
      "\u001b[1;31mAttributeError\u001b[0m: 'DataFrame' object has no attribute 'category'"
     ]
    }
   ],
   "source": [
    "# to understand uniqe categories in category columns \n",
    "job.category.unique()"
   ]
  },
  {
   "cell_type": "code",
   "execution_count": null,
   "metadata": {},
   "outputs": [],
   "source": [
    "job.industry_space_use.unique()"
   ]
  },
  {
   "cell_type": "markdown",
   "metadata": {},
   "source": [
    "<div class=\"usecase-section-header\">About Jobs Forecast Dataset. </div>"
   ]
  },
  {
   "cell_type": "markdown",
   "metadata": {},
   "source": [
    "This dataset provides jobs forecasts by single year for 2021 to 2041. Prepared by SGS Economics and Planning (Jan-Jun 2022), forecasts are available for the municipality and small areas, as well as by industry and space use type. This dataset has total of 9114 rows which indicates total cases and 5 columns which indicate variables(features). The dataset contains the following variables (features): \n",
    "    <ul>\n",
    "        <li> <b>city:</b> Geographical area (Melbourne LGA or small areas used for the City of Melbourne's CLUE analysis). Small areas mostly correspond to traditional suburb boundaries. This is a categorical variable of type <b>object</b>. This variable takes value from the following list of locations: <b> 'City of Melbourne', 'Carlton', 'Docklands', 'East Melbourne','Kensington', 'Melbourne (CBD)', 'Melbourne (Remainder)','North Melbourne', 'Parkville', 'Port Melbourne', 'South Yarra','Southbank', 'West Melbourne (Industrial)','West Melbourne (Residential)'</b></li><hr>\n",
    "        <li>\n",
    "            <b>year:</b> This variables shows the year the job were created. This is a numerical variable of type <b>object</b>. Year is from <b>2022 to 2040</b>. </li><hr>\n",
    "        <li>\n",
    "            <b>category:</b> This variables shows the category of the job that was created in that particular year. This is a numerical variable of type <b>object</b>. There are two categories in this variables however we will only look at category by industry.  </li><hr>\n",
    "        <li>\n",
    "            <b>industry_space_use:</b> This variables shows the space used by a particular industry that was established in given year. This is a numerical variable of type <b>object</b></li><hr>\n",
    "        <li>\n",
    "            <b>value:</b> This variables shows the number of jobs created by a particular industry that was established in given year. This is a numerical variable of type <b>integer</b>  \n",
    "        </li>\n",
    "    </ul></i><hr>\n",
    "</ul>\n",
    "</p>"
   ]
  },
  {
   "cell_type": "code",
   "execution_count": null,
   "metadata": {},
   "outputs": [
    {
     "data": {
      "text/html": [
       "<div>\n",
       "<style scoped>\n",
       "    .dataframe tbody tr th:only-of-type {\n",
       "        vertical-align: middle;\n",
       "    }\n",
       "\n",
       "    .dataframe tbody tr th {\n",
       "        vertical-align: top;\n",
       "    }\n",
       "\n",
       "    .dataframe thead th {\n",
       "        text-align: right;\n",
       "    }\n",
       "</style>\n",
       "<table border=\"1\" class=\"dataframe\">\n",
       "  <thead>\n",
       "    <tr style=\"text-align: right;\">\n",
       "      <th></th>\n",
       "      <th>Geography</th>\n",
       "      <th>Year</th>\n",
       "      <th>Gender</th>\n",
       "      <th>Age</th>\n",
       "      <th>Value</th>\n",
       "    </tr>\n",
       "  </thead>\n",
       "  <tbody>\n",
       "    <tr>\n",
       "      <th>0</th>\n",
       "      <td>City of Melbourne</td>\n",
       "      <td>2021</td>\n",
       "      <td>Female</td>\n",
       "      <td>Age 0-4</td>\n",
       "      <td>1943.0</td>\n",
       "    </tr>\n",
       "    <tr>\n",
       "      <th>1</th>\n",
       "      <td>City of Melbourne</td>\n",
       "      <td>2023</td>\n",
       "      <td>Female</td>\n",
       "      <td>Age 0-4</td>\n",
       "      <td>2477.0</td>\n",
       "    </tr>\n",
       "    <tr>\n",
       "      <th>2</th>\n",
       "      <td>City of Melbourne</td>\n",
       "      <td>2026</td>\n",
       "      <td>Female</td>\n",
       "      <td>Age 0-4</td>\n",
       "      <td>3595.0</td>\n",
       "    </tr>\n",
       "    <tr>\n",
       "      <th>3</th>\n",
       "      <td>City of Melbourne</td>\n",
       "      <td>2028</td>\n",
       "      <td>Female</td>\n",
       "      <td>Age 0-4</td>\n",
       "      <td>4083.0</td>\n",
       "    </tr>\n",
       "    <tr>\n",
       "      <th>4</th>\n",
       "      <td>City of Melbourne</td>\n",
       "      <td>2034</td>\n",
       "      <td>Female</td>\n",
       "      <td>Age 0-4</td>\n",
       "      <td>5242.0</td>\n",
       "    </tr>\n",
       "    <tr>\n",
       "      <th>...</th>\n",
       "      <td>...</td>\n",
       "      <td>...</td>\n",
       "      <td>...</td>\n",
       "      <td>...</td>\n",
       "      <td>...</td>\n",
       "    </tr>\n",
       "    <tr>\n",
       "      <th>17047</th>\n",
       "      <td>West Melbourne (Residential)</td>\n",
       "      <td>2033</td>\n",
       "      <td>Not applicable</td>\n",
       "      <td>Total population</td>\n",
       "      <td>13657.0</td>\n",
       "    </tr>\n",
       "    <tr>\n",
       "      <th>17048</th>\n",
       "      <td>West Melbourne (Residential)</td>\n",
       "      <td>2034</td>\n",
       "      <td>Not applicable</td>\n",
       "      <td>Total population</td>\n",
       "      <td>14250.0</td>\n",
       "    </tr>\n",
       "    <tr>\n",
       "      <th>17049</th>\n",
       "      <td>West Melbourne (Residential)</td>\n",
       "      <td>2036</td>\n",
       "      <td>Not applicable</td>\n",
       "      <td>Total population</td>\n",
       "      <td>14832.0</td>\n",
       "    </tr>\n",
       "    <tr>\n",
       "      <th>17050</th>\n",
       "      <td>West Melbourne (Residential)</td>\n",
       "      <td>2037</td>\n",
       "      <td>Not applicable</td>\n",
       "      <td>Total population</td>\n",
       "      <td>14854.0</td>\n",
       "    </tr>\n",
       "    <tr>\n",
       "      <th>17051</th>\n",
       "      <td>West Melbourne (Residential)</td>\n",
       "      <td>2038</td>\n",
       "      <td>Not applicable</td>\n",
       "      <td>Total population</td>\n",
       "      <td>14815.0</td>\n",
       "    </tr>\n",
       "  </tbody>\n",
       "</table>\n",
       "<p>17052 rows × 5 columns</p>\n",
       "</div>"
      ],
      "text/plain": [
       "                          Geography  Year          Gender               Age  \\\n",
       "0                 City of Melbourne  2021          Female           Age 0-4   \n",
       "1                 City of Melbourne  2023          Female           Age 0-4   \n",
       "2                 City of Melbourne  2026          Female           Age 0-4   \n",
       "3                 City of Melbourne  2028          Female           Age 0-4   \n",
       "4                 City of Melbourne  2034          Female           Age 0-4   \n",
       "...                             ...   ...             ...               ...   \n",
       "17047  West Melbourne (Residential)  2033  Not applicable  Total population   \n",
       "17048  West Melbourne (Residential)  2034  Not applicable  Total population   \n",
       "17049  West Melbourne (Residential)  2036  Not applicable  Total population   \n",
       "17050  West Melbourne (Residential)  2037  Not applicable  Total population   \n",
       "17051  West Melbourne (Residential)  2038  Not applicable  Total population   \n",
       "\n",
       "         Value  \n",
       "0       1943.0  \n",
       "1       2477.0  \n",
       "2       3595.0  \n",
       "3       4083.0  \n",
       "4       5242.0  \n",
       "...        ...  \n",
       "17047  13657.0  \n",
       "17048  14250.0  \n",
       "17049  14832.0  \n",
       "17050  14854.0  \n",
       "17051  14815.0  \n",
       "\n",
       "[17052 rows x 5 columns]"
      ]
     },
     "execution_count": 7,
     "metadata": {},
     "output_type": "execute_result"
    }
   ],
   "source": [
    "#pop = pd.read_csv(\"city-of-melbourne-population-forecasts-by-small-area-2020-2040.csv\")\n",
    "pop = pd.read_csv(\"https://data.melbourne.vic.gov.au/api/explore/v2.1/catalog/datasets/city-of-melbourne-population-forecasts-by-small-area-2020-2040/exports/csv?lang=en&timezone=Australia%2FSydney&use_labels=true&delimiter=%2C\")\n",
    "pop"
   ]
  },
  {
   "cell_type": "code",
   "execution_count": null,
   "metadata": {},
   "outputs": [],
   "source": [
    "pop.head()"
   ]
  },
  {
   "cell_type": "code",
   "execution_count": null,
   "metadata": {},
   "outputs": [],
   "source": [
    "pop.info()"
   ]
  },
  {
   "cell_type": "code",
   "execution_count": null,
   "metadata": {},
   "outputs": [],
   "source": [
    "pop.shape"
   ]
  },
  {
   "cell_type": "code",
   "execution_count": null,
   "metadata": {},
   "outputs": [],
   "source": [
    "# Renaming columns for ease, making them all lowercase. \n",
    "pop = pop.rename(columns = {\"Geography\":\"city\", \"Year\":\"year\", \"Gender\":\"gender\", \"Age\": \"age\", \"Value\": \"value\"} )"
   ]
  },
  {
   "cell_type": "code",
   "execution_count": null,
   "metadata": {},
   "outputs": [],
   "source": [
    "pop.city.unique()"
   ]
  },
  {
   "cell_type": "code",
   "execution_count": null,
   "metadata": {},
   "outputs": [],
   "source": [
    "pop.gender.unique()"
   ]
  },
  {
   "cell_type": "code",
   "execution_count": null,
   "metadata": {},
   "outputs": [],
   "source": [
    "pop.age.unique()"
   ]
  },
  {
   "cell_type": "code",
   "execution_count": null,
   "metadata": {},
   "outputs": [],
   "source": [
    "pop.year.unique()"
   ]
  },
  {
   "cell_type": "code",
   "execution_count": null,
   "metadata": {},
   "outputs": [],
   "source": [
    "pop"
   ]
  },
  {
   "cell_type": "markdown",
   "metadata": {},
   "source": [
    "<div class=\"usecase-section-header\">About Population Forecast Dataset. </div>"
   ]
  },
  {
   "cell_type": "markdown",
   "metadata": {},
   "source": [
    "This dataset provides Population forecasts by single year for 2021 to 2041. Prepared by SGS Economics and Planning (Jan-Jun 2022), forecasts are available for the municipality and small areas, as well as by industry and space use type. This dataset has total of 17052 rows which indicates total cases and 5 columns which indicate variables(features). The dataset contains the following variables (features): \n",
    "    <ul>\n",
    "        <li> <b>city:</b> Geographical area (Melbourne LGA or small areas used for the City of Melbourne's CLUE analysis). Small areas mostly correspond to traditional suburb boundaries. This is a categorical variable of type <b>object</b>. This variable takes value from the following list of locations: <b> 'City of Melbourne', 'Carlton', 'Docklands', 'East Melbourne','Kensington', 'Melbourne (CBD)', 'Melbourne (Remainder)','North Melbourne', 'Parkville', 'Port Melbourne', 'South Yarra','Southbank', 'West Melbourne (Industrial)','West Melbourne (Residential)'</b></li><hr>\n",
    "        <li>\n",
    "            <b>year:</b> This variables shows the year the job were created. This is a numerical variable of type <b>integer</b>. Year is from <b>2022 to 2040</b>. </li><hr>\n",
    "        <li>\n",
    "            <b>gender:</b> This variables shows the gender of the person who is a part of the overall population. Gender is divided into four categories: Female, Male, Total and not applicable. This is a categorical nominal variable with type <b>object</b>  </li><hr>\n",
    "        <li>\n",
    "            <b>age:</b> This variables shows the age of a person who is a part of the population in this study. This is a numerical variable of type <b>object</b></li><hr>\n",
    "        <li>\n",
    "            <b>value:</b> This variables shows the population of the area for a given year. This is a numerical variable of type <b>float</b>  \n",
    "        </li>\n",
    "    </ul></i><hr>\n",
    "</ul>\n",
    "</p>"
   ]
  },
  {
   "cell_type": "markdown",
   "metadata": {},
   "source": [
    "<div class=\"usecase-section-header\">Checking and Handling missing values. </div>"
   ]
  },
  {
   "cell_type": "markdown",
   "metadata": {},
   "source": [
    "<b>For population dataset</b>"
   ]
  },
  {
   "cell_type": "code",
   "execution_count": null,
   "metadata": {},
   "outputs": [],
   "source": [
    "# To check if there is any missing values in any columns \n",
    "pop.isnull().any()"
   ]
  },
  {
   "cell_type": "code",
   "execution_count": null,
   "metadata": {},
   "outputs": [],
   "source": [
    "# There are no null values in job dataset. However there is null (missing) values in population dataset in value column. \n",
    "# Lets find out how many null values are there in value column\n",
    "print(pop.value.isnull().sum())"
   ]
  },
  {
   "cell_type": "code",
   "execution_count": null,
   "metadata": {},
   "outputs": [],
   "source": [
    "# pop"
   ]
  },
  {
   "cell_type": "code",
   "execution_count": null,
   "metadata": {},
   "outputs": [],
   "source": [
    "pop = pop.dropna(axis= \"rows\")"
   ]
  },
  {
   "cell_type": "code",
   "execution_count": null,
   "metadata": {},
   "outputs": [],
   "source": [
    "pop.isnull().any()"
   ]
  },
  {
   "cell_type": "markdown",
   "metadata": {},
   "source": [
    "<b>All missing values in \"value\" column of population dataset have been removed.  </b>"
   ]
  },
  {
   "cell_type": "code",
   "execution_count": null,
   "metadata": {},
   "outputs": [],
   "source": [
    "# Choose all data where the gender is not applicable\n",
    "pop = pop.set_index(\"gender\")\n",
    "other_pop = pop.loc[[\"Total\", \"Not applicable\"],:]\n",
    "other_pop                                         # saving total and not applicable data into differnet variable for further use. \n",
    "pop = pop.loc[[\"Female\", \"Male\"],:]               # seperating male and female gender from the whole dataset\n",
    "pop.reset_index(inplace=True)"
   ]
  },
  {
   "cell_type": "code",
   "execution_count": null,
   "metadata": {},
   "outputs": [],
   "source": [
    "pop       # df where gender = ['Male', 'Female']"
   ]
  },
  {
   "cell_type": "code",
   "execution_count": null,
   "metadata": {},
   "outputs": [],
   "source": [
    "other_pop    # df where all values from gender = ['total', 'not applicable']\n",
    "other_pop.reset_index(drop=True)\n",
    "other_pop"
   ]
  },
  {
   "cell_type": "markdown",
   "metadata": {},
   "source": [
    "<b>The population dataset now only contains data where the gender is either female or male. Another dataframe has been created to save the data from gender whose value was \"Not applicable\" and \"Total\" for futher analysis. </b>"
   ]
  },
  {
   "cell_type": "code",
   "execution_count": null,
   "metadata": {
    "scrolled": true
   },
   "outputs": [],
   "source": [
    "job.isnull().any()"
   ]
  },
  {
   "cell_type": "code",
   "execution_count": null,
   "metadata": {},
   "outputs": [],
   "source": [
    "job"
   ]
  },
  {
   "cell_type": "markdown",
   "metadata": {},
   "source": [
    "<b>There are no missing values in job dataset hence we do not need to perfrom any operations to remove null or missing values. However the industry_space_use column has values where the industry is \"Total jobs\" which is not accurate so we will remove the rows where the column has such values and reserve it in a different variable for later analysis. </b>"
   ]
  },
  {
   "cell_type": "code",
   "execution_count": null,
   "metadata": {
    "scrolled": true
   },
   "outputs": [],
   "source": [
    "total_job_by_ind_space_use = job.set_index(\"industry_space_use\").loc[['Total jobs'], : ]\n",
    "job = job.set_index(\"industry_space_use\").loc[['Accommodation', 'Admin and support services',\n",
    "       'Agriculture and mining', 'Arts and recreation services',\n",
    "       'Business services', 'Construction', 'Education and training',\n",
    "       'Other services', 'Electricity, gas, water and waste services',\n",
    "       'Finance and insurance', 'Food and beverage services',\n",
    "       'Health care and social assistance',\n",
    "       'Information media and telecommunications', 'Manufacturing',\n",
    "       'Public administration and safety', 'Real estate services',\n",
    "       'Rental and hiring services', 'Retail trade',\n",
    "       'Transport, postal and storage', 'Wholesale trade',\n",
    "       'Accommodation - Commercial', 'Education',\n",
    "       'Entertainment - Hospitality', 'Entertainment - Other', 'Health',\n",
    "       'Industrial', 'Office', 'Other - Employment', 'Retail'],:]\n",
    "job"
   ]
  },
  {
   "cell_type": "code",
   "execution_count": null,
   "metadata": {},
   "outputs": [],
   "source": [
    "total_job_by_ind_space_use"
   ]
  },
  {
   "cell_type": "markdown",
   "metadata": {},
   "source": [
    "<b>Now we only have job data where each industry belongs to a speceific category and not \"Total jobs\" category. Howevrer, the data from \"total jobs\" category is saved as dataframe for futher analysis. </b>"
   ]
  },
  {
   "cell_type": "code",
   "execution_count": null,
   "metadata": {},
   "outputs": [],
   "source": [
    "job.shape"
   ]
  },
  {
   "cell_type": "code",
   "execution_count": null,
   "metadata": {},
   "outputs": [],
   "source": [
    "pop.shape"
   ]
  },
  {
   "cell_type": "markdown",
   "metadata": {},
   "source": [
    "<div class=\"usecase-section-header\">References</div>\n",
    "<ul>\n",
    "    <li> https://pandas.pydata.org/docs/reference/api/pandas.unique.html </li>\n",
    "    <li>https://note.nkmk.me/en/python-pandas-nan-extract/#:~:text=You%20can%20use%20the%20isnull,a%20missing%20value%20or%20not.&text=isnull()%20is%20an%20alias,and%20both%20are%20used%20interchangeably.</li>\n",
    "    <li>https://www.kaggle.com/code/malanep/finding-and-visualizing-missing-data-in-python</li>\n",
    "    <li>https://libraries.io/pypi/missingno</li>\n",
    "    <li>https://pandas.pydata.org/docs/reference/api/pandas.DataFrame.drop.html</li>\n",
    "    <li>https://stackoverflow.com/questions/44869327/find-index-of-all-rows-with-null-values-in-a-particular-column-in-pandas-datafra</li>\n",
    "\n",
    "</ul>"
   ]
  },
  {
   "cell_type": "markdown",
   "metadata": {},
   "source": [
    "<h3> Rhuth's Work Above </h3>\n",
    "<h1>MAIN SECTION </h1> \n",
    "<h3> Tharusha's Work Below </h3>"
   ]
  },
  {
   "cell_type": "markdown",
   "metadata": {},
   "source": []
  },
  {
   "cell_type": "code",
   "execution_count": null,
   "metadata": {},
   "outputs": [
    {
     "name": "stdout",
     "output_type": "stream",
     "text": [
      "Index(['gender', 'city', 'year', 'age', 'value'], dtype='object')\n"
     ]
    }
   ],
   "source": [
    "print(pop.columns)\n"
   ]
  },
  {
   "cell_type": "markdown",
   "metadata": {},
   "source": [
    "### Simple Visual of the Population against the Year with Color/ Hue corresponding to the male and female population"
   ]
  },
  {
   "cell_type": "code",
   "execution_count": null,
   "metadata": {},
   "outputs": [
    {
     "data": {
      "image/png": "[encoded data removed]",
      "text/plain": [
       "<Figure size 640x480 with 1 Axes>"
      ]
     },
     "metadata": {},
     "output_type": "display_data"
    }
   ],
   "source": [
    "#Visual\n",
    "\n",
    "import pandas as pd\n",
    "import matplotlib.pyplot as plt\n",
    "import seaborn as sns\n",
    "\n",
    "\n",
    "sns.lineplot(data=pop, x='year', y='value', hue='gender')\n",
    "plt.title('Population Over Time by Gender')\n",
    "plt.xlabel('Year')\n",
    "plt.ylabel('Population')\n",
    "plt.show()"
   ]
  },
  {
   "cell_type": "markdown",
   "metadata": {},
   "source": [
    "### Scatter Plot "
   ]
  },
  {
   "cell_type": "code",
   "execution_count": null,
   "metadata": {},
   "outputs": [
    {
     "data": {
      "image/png": "[encoded data removed]",
      "text/plain": [
       "<Figure size 640x480 with 1 Axes>"
      ]
     },
     "metadata": {},
     "output_type": "display_data"
    }
   ],
   "source": [
    "sns.scatterplot(data=df, x='year', y='value', hue='gender')\n",
    "plt.title('Population Scatter Plot Over Time by Gender')\n",
    "plt.xlabel('Year')\n",
    "plt.ylabel('Population')\n",
    "plt.show()"
   ]
  },
  {
   "cell_type": "code",
   "execution_count": null,
   "metadata": {},
   "outputs": [],
   "source": []
  }
 ],
 "metadata": {
  "kernelspec": {
   "display_name": "Python 3 (ipykernel)",
   "language": "python",
   "name": "python3"
  },
  "language_info": {
   "codemirror_mode": {
    "name": "ipython",
    "version": 3
   },
   "file_extension": ".py",
   "mimetype": "text/x-python",
   "name": "python",
   "nbconvert_exporter": "python",
   "pygments_lexer": "ipython3",
   "version": "3.11.5"
  },
  "vscode": {
   "interpreter": {
    "hash": "ad2bdc8ecc057115af97d19610ffacc2b4e99fae6737bb82f5d7fb13d2f2c186"
   }
  }
 },
 "nbformat": 4,
 "nbformat_minor": 4
}
