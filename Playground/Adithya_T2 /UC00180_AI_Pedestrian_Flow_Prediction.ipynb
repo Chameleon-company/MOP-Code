{
 "cells": [
  {
   "cell_type": "markdown",
   "id": "cb5e0983-5ddf-42e7-ba6b-6e5fd16e4647",
   "metadata": {},
   "source": [
    "<div class=\"usecase-title\">AI Pedestrian Flow Prediction</div>\n",
    "\n",
    "<div class=\"usecase-authors\"><b>Authored by: Adithya Sentil</b> </div>"
   ]
  },
  {
   "cell_type": "markdown",
   "id": "443d054f-a0f4-4452-ac3d-26666933cdff",
   "metadata": {},
   "source": [
    "<div class=\"usecase-duration\"><b>Duration:</b> 90 mins</div>\n",
    "\n",
    "<div class=\"usecase-level-skill\">\n",
    "    <div class=\"usecase-level\"><b>Level: </b>Intermediate</div>\n",
    "    <div class=\"usecase-skill\"><b>Pre-requisite Skills: </b>Python</div>\n",
    "</div>"
   ]
  },
  {
   "cell_type": "markdown",
   "id": "97ce69d1-72f0-418b-8cfa-30ea8d8869ef",
   "metadata": {},
   "source": [
    "<header>\n",
    "<h2>Scenario</h2>\n",
    "<div> Melbourne is a vibrnt city with a 24h economy, as of a result transport authorities, city planners and concerned community members are increasingly worried about the night time saftey of the city. While melbourne has a thriving culture with many events, hospitality, shopping and public transport running late into the night. Not all parts of Melbourne is safe with the increased number of inccidents of crime occuring in city particularly in isolated walkways and streets with poor lighting. This raises concern in the community for the youth, elderly, women, students and shift workers alike. To address this problem, I have used the data from City of Melbourne open datasets. The implemented datasets include: \n",
    "- Street lighting \n",
    "- Pedestrian foot traffic \n",
    "- Public Transport stop locations. \n",
    "\n",
    "By developing the Night time saftey Index, I aim to identify areas within melbourne that are considered high risk zones. Areas in which there is low visibility, little to no street lights, little foot traffic and is not near a public transport stop. Conversly areas will be mared as safer if there is higher visibility, more foot traffic as this acts as a percieved layer of saftey  and access to public transport, as generally the likleyhood of people would be higher. The index is developed based on understanding crime data on low light and low populas areas. \n",
    "\n",
    "With the use of the Night-time saftey index, we can strive to improve these areas improve the saftey index and build a more safe and inclusive city for all members of the community.  </div>"
   ]
  },
  {
   "cell_type": "markdown",
   "id": "fbb7a316-56c8-46a9-837c-95c856e2fe9b",
   "metadata": {},
   "source": [
    "As a student who commutes to the city regularly for work and univesity, I end up often traveling after dark. I want to know which areas in melbourne are safe or dangerous at night. So that I can plan a safer routes, avoid areas that are dangerous and feel confident that I will be safe moving through the city at night."
   ]
  },
  {
   "cell_type": "markdown",
   "id": "d2078aa2-5554-4793-abb2-8c317be624ef",
   "metadata": {},
   "source": [
    "**What the use case will teach you**\n",
    "\n",
    "At the end of this use case you will:\n",
    "- Demonstraite the ability to retrieve and process data from public API\n",
    "- Data cleaning and preprocessing techniques on geospatial and time data\n",
    "- Perform basic aggregation and filtering methods \n",
    "- Perform analysis using latitude and longitude data\n",
    "- Implement data visualisation techniques "
   ]
  },
  {
   "cell_type": "markdown",
   "id": "b2a81499-3983-4c17-907b-227600c2afab",
   "metadata": {},
   "source": [
    "## Introduction \n",
    "This use case aims to develop a Night time saftey index by combining datasets from the City of Melbourne Open data project. By combing the data, it can be then assessed and visualised to demonstrate the varying saftey level for different areas during the night hours. The project goal is to disover areas with low visablity, low foot traffic or infrastructure to aid in future developmenet to create a safer melbourne for all. The analysis is drawn from the datasets below accessed via the Melbourne open data API. By combining combining these datasets the project aims to create a data driven solution to create a safer and inclusive city."
   ]
  },
  {
   "cell_type": "markdown",
   "id": "413b14c2-3da1-4f81-a7b6-d2741eb5b1e6",
   "metadata": {},
   "source": [
    "***Dataset Links*** \n",
    "- Bus Stops data link: https://data.melbourne.vic.gov.au/explore/dataset/bus-stops/api/  \n",
    "- Street Lighting data link: https://data.melbourne.vic.gov.au/explore/dataset/street-lights-with-emitted-lux-level-council-owned-lights-only/api/\n",
    "- Pedestrian counting link: https://data.melbourne.vic.gov.au/explore/dataset/pedestrian-counting-system-monthly-counts-per-hour/api/\n",
    "- Feautured light data link: https://data.melbourne.vic.gov.au/explore/dataset/feature-lighting-including-light-type-wattage-and-location/api/\n"
   ]
  },
  {
   "cell_type": "markdown",
   "id": "d012eec9-35ef-41dc-8b83-171f3f9ad7a9",
   "metadata": {},
   "source": [
    "### Importing Required Libraries "
   ]
  },
  {
   "cell_type": "code",
   "execution_count": 12,
   "id": "8ed1d5ce-cc3e-4bd7-8021-586742bc6d97",
   "metadata": {},
   "outputs": [],
   "source": [
    "import numpy as np \n",
    "import pandas as pd \n",
    "import seaborn as sns\n",
    "import matplotlib.pyplot as plt\n",
    "import requests\n",
    "import os\n",
    "from functools import reduce"
   ]
  },
  {
   "cell_type": "markdown",
   "id": "7ad180d6-84a9-49ac-b382-bd508c52024f",
   "metadata": {},
   "source": [
    "### Importing Datasets \n",
    "Importing Dataset using API v2.1 "
   ]
  },
  {
   "cell_type": "code",
   "execution_count": 17,
   "id": "974f9896-7f01-4f57-8f30-b8ff5676d888",
   "metadata": {},
   "outputs": [],
   "source": [
    "def fetch_data(base_url, dataset, api_key, num_records=99, offset=0):\n",
    "    all_records = []\n",
    "    max_offset = 9900  # Maximum number of requests\n",
    "\n",
    "    while True:\n",
    "        # Maximum limit check\n",
    "        if offset > max_offset:\n",
    "            break\n",
    "\n",
    "        # Create API request URL\n",
    "        filters = f'{dataset}/records?limit={num_records}&offset={offset}'\n",
    "        url = f'{base_url}{filters}&api_key={api_key}'\n",
    "\n",
    "        # Start request\n",
    "        try:\n",
    "            result = requests.get(url, timeout=10)\n",
    "            result.raise_for_status()\n",
    "            records = result.json().get('results')\n",
    "        except requests.exceptions.RequestException as e:\n",
    "            raise Exception(f\"API request failed: {e}\")\n",
    "        if records is None:\n",
    "            break\n",
    "        all_records.extend(records)\n",
    "        if len(records) < num_records:\n",
    "            break\n",
    "\n",
    "        # Next cycle offset\n",
    "        offset += num_records\n",
    "\n",
    "    # DataFrame all data\n",
    "    df = pd.DataFrame(all_records)\n",
    "    return df\n",
    "\n",
    "\n",
    "\n",
    "# Retrieve API key from environment variable\n",
    "API_KEY = os.environ.get('MELBOURNE_API_KEY')\n",
    "BASE_URL = 'https://data.melbourne.vic.gov.au/api/explore/v2.1/catalog/datasets/'"
   ]
  },
  {
   "cell_type": "code",
   "execution_count": null,
   "id": "3a287246-438f-42b1-a038-4e6ae0e8a291",
   "metadata": {},
   "outputs": [],
   "source": []
  }
 ],
 "metadata": {
  "kernelspec": {
   "display_name": "Python [conda env:base] *",
   "language": "python",
   "name": "conda-base-py"
  },
  "language_info": {
   "codemirror_mode": {
    "name": "ipython",
    "version": 3
   },
   "file_extension": ".py",
   "mimetype": "text/x-python",
   "name": "python",
   "nbconvert_exporter": "python",
   "pygments_lexer": "ipython3",
   "version": "3.12.4"
  }
 },
 "nbformat": 4,
 "nbformat_minor": 5
}
