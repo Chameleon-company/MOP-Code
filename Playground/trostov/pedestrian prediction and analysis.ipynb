{
 "cells": [
  {
   "cell_type": "code",
   "execution_count": 2,
   "id": "09a12a65",
   "metadata": {},
   "outputs": [],
   "source": [
    "import matplotlib.pyplot as plt\n",
    "import pandas as pd\n",
    "import numpy as np\n",
    "import datetime\n",
    "import ipywidgets as widgets\n",
    "import requests\n",
    "from io import StringIO"
   ]
  },
  {
   "cell_type": "markdown",
   "id": "9c0aa5c7",
   "metadata": {},
   "source": [
    "## Importing Datasets"
   ]
  },
  {
   "cell_type": "code",
   "execution_count": null,
   "id": "ab62d203",
   "metadata": {},
   "outputs": [],
   "source": [
    "def collect_data(dataset_id):\n",
    "    base_url = \"https://data.melbourne.vic.gov.au/api/explore/v2.1/catalog/datasets/\"\n",
    "    apikey = apikey\n",
    "    dataset_id = dataset_id\n",
    "    format = 'csv'\n",
    "\n",
    "    url = f'{base_url}{dataset_id}/exports/{format}'\n",
    "    params = {\n",
    "        'select': '*',\n",
    "        'limit': -1,  # all records\n",
    "        'lang': 'en',\n",
    "        'timezone': 'UTC',\n",
    "        'api_key': apikey  # use if use datasets API_key permissions\n",
    "    }\n",
    "\n",
    "    response = requests.get(url, params=params)\n",
    "\n",
    "    if response.status_code == 200:\n",
    "        # StringIO to read the CSV data\n",
    "        url_content = response.content.decode('utf-8')\n",
    "        dataset = pd.read_csv(StringIO(url_content), delimiter=';')\n",
    "        return dataset\n",
    "    else:\n",
    "        print(f'Request failed with status code {response.status_code}')"
   ]
  },
  {
   "cell_type": "code",
   "execution_count": null,
   "id": "37ad14d9",
   "metadata": {},
   "outputs": [],
   "source": [
    "collect_data('pedestrian-counting-system-monthly-counts-per-hour')\n",
    "collect_data('meshed-sensor-type-2')"
   ]
  },
  {
   "cell_type": "markdown",
   "id": "e4cb6b65",
   "metadata": {},
   "source": [
    "## Dataset Cleaning and Merging"
   ]
  },
  {
   "cell_type": "code",
   "execution_count": 57,
   "id": "87463ab3",
   "metadata": {},
   "outputs": [],
   "source": [
    "data = pd.read_csv(\"pedcount.csv\")\n",
    "data_sensor = pd.read_csv(\"sensorreadings.csv\")"
   ]
  },
  {
   "cell_type": "code",
   "execution_count": 58,
   "id": "eb3aa8a7",
   "metadata": {},
   "outputs": [
    {
     "name": "stdout",
     "output_type": "stream",
     "text": [
      "(549976, 7)\n"
     ]
    },
    {
     "data": {
      "text/html": [
       "<div>\n",
       "<style scoped>\n",
       "    .dataframe tbody tr th:only-of-type {\n",
       "        vertical-align: middle;\n",
       "    }\n",
       "\n",
       "    .dataframe tbody tr th {\n",
       "        vertical-align: top;\n",
       "    }\n",
       "\n",
       "    .dataframe thead th {\n",
       "        text-align: right;\n",
       "    }\n",
       "</style>\n",
       "<table border=\"1\" class=\"dataframe\">\n",
       "  <thead>\n",
       "    <tr style=\"text-align: right;\">\n",
       "      <th></th>\n",
       "      <th>Sensor_Name</th>\n",
       "      <th>SensingDateTime(Hour)</th>\n",
       "      <th>LocationID</th>\n",
       "      <th>Direction_1</th>\n",
       "      <th>Direction_2</th>\n",
       "      <th>Total_of_Directions</th>\n",
       "      <th>Location</th>\n",
       "    </tr>\n",
       "  </thead>\n",
       "  <tbody>\n",
       "    <tr>\n",
       "      <th>0</th>\n",
       "      <td>Fra118_T</td>\n",
       "      <td>2023-06-06T03:00:00+10:00</td>\n",
       "      <td>51</td>\n",
       "      <td>1</td>\n",
       "      <td>4</td>\n",
       "      <td>5</td>\n",
       "      <td>-37.80841815, 144.95906316</td>\n",
       "    </tr>\n",
       "    <tr>\n",
       "      <th>1</th>\n",
       "      <td>Fra118_T</td>\n",
       "      <td>2023-06-06T04:00:00+10:00</td>\n",
       "      <td>51</td>\n",
       "      <td>7</td>\n",
       "      <td>5</td>\n",
       "      <td>12</td>\n",
       "      <td>-37.80841815, 144.95906316</td>\n",
       "    </tr>\n",
       "    <tr>\n",
       "      <th>2</th>\n",
       "      <td>Fra118_T</td>\n",
       "      <td>2023-06-06T06:00:00+10:00</td>\n",
       "      <td>51</td>\n",
       "      <td>10</td>\n",
       "      <td>22</td>\n",
       "      <td>32</td>\n",
       "      <td>-37.80841815, 144.95906316</td>\n",
       "    </tr>\n",
       "    <tr>\n",
       "      <th>3</th>\n",
       "      <td>Fra118_T</td>\n",
       "      <td>2023-06-06T11:00:00+10:00</td>\n",
       "      <td>51</td>\n",
       "      <td>94</td>\n",
       "      <td>136</td>\n",
       "      <td>230</td>\n",
       "      <td>-37.80841815, 144.95906316</td>\n",
       "    </tr>\n",
       "    <tr>\n",
       "      <th>4</th>\n",
       "      <td>Fra118_T</td>\n",
       "      <td>2023-06-06T12:00:00+10:00</td>\n",
       "      <td>51</td>\n",
       "      <td>166</td>\n",
       "      <td>126</td>\n",
       "      <td>292</td>\n",
       "      <td>-37.80841815, 144.95906316</td>\n",
       "    </tr>\n",
       "  </tbody>\n",
       "</table>\n",
       "</div>"
      ],
      "text/plain": [
       "  Sensor_Name      SensingDateTime(Hour)  LocationID  Direction_1  \\\n",
       "0    Fra118_T  2023-06-06T03:00:00+10:00          51            1   \n",
       "1    Fra118_T  2023-06-06T04:00:00+10:00          51            7   \n",
       "2    Fra118_T  2023-06-06T06:00:00+10:00          51           10   \n",
       "3    Fra118_T  2023-06-06T11:00:00+10:00          51           94   \n",
       "4    Fra118_T  2023-06-06T12:00:00+10:00          51          166   \n",
       "\n",
       "   Direction_2  Total_of_Directions                    Location  \n",
       "0            4                    5  -37.80841815, 144.95906316  \n",
       "1            5                   12  -37.80841815, 144.95906316  \n",
       "2           22                   32  -37.80841815, 144.95906316  \n",
       "3          136                  230  -37.80841815, 144.95906316  \n",
       "4          126                  292  -37.80841815, 144.95906316  "
      ]
     },
     "execution_count": 58,
     "metadata": {},
     "output_type": "execute_result"
    }
   ],
   "source": [
    "print(data.shape)\n",
    "data.head()"
   ]
  },
  {
   "cell_type": "code",
   "execution_count": 59,
   "id": "1f656ea5",
   "metadata": {},
   "outputs": [
    {
     "name": "stdout",
     "output_type": "stream",
     "text": [
      "(31362, 8)\n"
     ]
    },
    {
     "data": {
      "text/html": [
       "<div>\n",
       "<style scoped>\n",
       "    .dataframe tbody tr th:only-of-type {\n",
       "        vertical-align: middle;\n",
       "    }\n",
       "\n",
       "    .dataframe tbody tr th {\n",
       "        vertical-align: top;\n",
       "    }\n",
       "\n",
       "    .dataframe thead th {\n",
       "        text-align: right;\n",
       "    }\n",
       "</style>\n",
       "<table border=\"1\" class=\"dataframe\">\n",
       "  <thead>\n",
       "    <tr style=\"text-align: right;\">\n",
       "      <th></th>\n",
       "      <th>time</th>\n",
       "      <th>dev_id</th>\n",
       "      <th>Sensor Name</th>\n",
       "      <th>temperature</th>\n",
       "      <th>humidity</th>\n",
       "      <th>battery</th>\n",
       "      <th>Lat Long</th>\n",
       "      <th>Location Picture Hyperlink</th>\n",
       "    </tr>\n",
       "  </thead>\n",
       "  <tbody>\n",
       "    <tr>\n",
       "      <th>0</th>\n",
       "      <td>2023-02-26T14:37:18+11:00</td>\n",
       "      <td>r712-a7f7</td>\n",
       "      <td>Bench Hub</td>\n",
       "      <td>24.11</td>\n",
       "      <td>55.94</td>\n",
       "      <td>3</td>\n",
       "      <td>-37.8030396, 144.965898</td>\n",
       "      <td>https://melbournetestbed.opendatasoft.com/asse...</td>\n",
       "    </tr>\n",
       "    <tr>\n",
       "      <th>1</th>\n",
       "      <td>2023-02-26T15:33:38+11:00</td>\n",
       "      <td>r712-a7f8</td>\n",
       "      <td>Elm</td>\n",
       "      <td>20.98</td>\n",
       "      <td>65.33</td>\n",
       "      <td>3</td>\n",
       "      <td>-37.8027955, 144.9657785</td>\n",
       "      <td>https://melbournetestbed.opendatasoft.com/asse...</td>\n",
       "    </tr>\n",
       "    <tr>\n",
       "      <th>2</th>\n",
       "      <td>2023-02-26T15:37:32+11:00</td>\n",
       "      <td>r712-a7f7</td>\n",
       "      <td>Bench Hub</td>\n",
       "      <td>21.29</td>\n",
       "      <td>63.02</td>\n",
       "      <td>3</td>\n",
       "      <td>-37.8030396, 144.965898</td>\n",
       "      <td>https://melbournetestbed.opendatasoft.com/asse...</td>\n",
       "    </tr>\n",
       "    <tr>\n",
       "      <th>3</th>\n",
       "      <td>2023-02-26T17:33:39+11:00</td>\n",
       "      <td>r712-a7f8</td>\n",
       "      <td>Elm</td>\n",
       "      <td>19.75</td>\n",
       "      <td>76.39</td>\n",
       "      <td>3</td>\n",
       "      <td>-37.8027955, 144.9657785</td>\n",
       "      <td>https://melbournetestbed.opendatasoft.com/asse...</td>\n",
       "    </tr>\n",
       "    <tr>\n",
       "      <th>4</th>\n",
       "      <td>2023-02-26T17:37:19+11:00</td>\n",
       "      <td>r712-a7f7</td>\n",
       "      <td>Bench Hub</td>\n",
       "      <td>20.08</td>\n",
       "      <td>73.95</td>\n",
       "      <td>3</td>\n",
       "      <td>-37.8030396, 144.965898</td>\n",
       "      <td>https://melbournetestbed.opendatasoft.com/asse...</td>\n",
       "    </tr>\n",
       "  </tbody>\n",
       "</table>\n",
       "</div>"
      ],
      "text/plain": [
       "                        time     dev_id Sensor Name  temperature  humidity  \\\n",
       "0  2023-02-26T14:37:18+11:00  r712-a7f7   Bench Hub        24.11     55.94   \n",
       "1  2023-02-26T15:33:38+11:00  r712-a7f8         Elm        20.98     65.33   \n",
       "2  2023-02-26T15:37:32+11:00  r712-a7f7   Bench Hub        21.29     63.02   \n",
       "3  2023-02-26T17:33:39+11:00  r712-a7f8         Elm        19.75     76.39   \n",
       "4  2023-02-26T17:37:19+11:00  r712-a7f7   Bench Hub        20.08     73.95   \n",
       "\n",
       "   battery                  Lat Long  \\\n",
       "0        3   -37.8030396, 144.965898   \n",
       "1        3  -37.8027955, 144.9657785   \n",
       "2        3   -37.8030396, 144.965898   \n",
       "3        3  -37.8027955, 144.9657785   \n",
       "4        3   -37.8030396, 144.965898   \n",
       "\n",
       "                          Location Picture Hyperlink  \n",
       "0  https://melbournetestbed.opendatasoft.com/asse...  \n",
       "1  https://melbournetestbed.opendatasoft.com/asse...  \n",
       "2  https://melbournetestbed.opendatasoft.com/asse...  \n",
       "3  https://melbournetestbed.opendatasoft.com/asse...  \n",
       "4  https://melbournetestbed.opendatasoft.com/asse...  "
      ]
     },
     "execution_count": 59,
     "metadata": {},
     "output_type": "execute_result"
    }
   ],
   "source": [
    "print(data_sensor.shape)\n",
    "data_sensor.head()"
   ]
  },
  {
   "cell_type": "code",
   "execution_count": 60,
   "id": "2fb6cb4f",
   "metadata": {},
   "outputs": [],
   "source": [
    "data['datetime'] = pd.to_datetime(data['SensingDateTime(Hour)'], errors='coerce') \n",
    "data_sensor['datetime'] = pd.to_datetime(data_sensor['time'], errors='coerce') "
   ]
  },
  {
   "cell_type": "code",
   "execution_count": 61,
   "id": "33ad8460",
   "metadata": {},
   "outputs": [],
   "source": [
    "def remove_timezone(x):\n",
    "     return x.replace(tzinfo=None)\n",
    "    \n",
    "data['datetime_no_tz'] = data['datetime'].apply(remove_timezone)\n",
    "data_sensor['datetime_no_tz_unrounded'] = data_sensor['datetime'].apply(remove_timezone)"
   ]
  },
  {
   "cell_type": "code",
   "execution_count": 62,
   "id": "5afe8df4",
   "metadata": {},
   "outputs": [],
   "source": [
    "def round_down(dt):\n",
    "    if dt.minute > 0 or dt.second > 0:\n",
    "        dt -= datetime.timedelta(minutes=dt.minute, seconds=dt.second, microseconds=dt.microsecond)\n",
    "    return dt\n",
    "\n",
    "data_sensor['datetime_no_tz'] = data_sensor['datetime_no_tz_unrounded'].apply(round_down)"
   ]
  },
  {
   "cell_type": "code",
   "execution_count": 63,
   "id": "9c95f130",
   "metadata": {},
   "outputs": [],
   "source": [
    "data_sensor_mean = data_sensor.groupby('datetime_no_tz').agg({'temperature': 'mean', 'humidity': 'mean'}).reset_index()"
   ]
  },
  {
   "cell_type": "code",
   "execution_count": 64,
   "id": "baf198e4",
   "metadata": {},
   "outputs": [],
   "source": [
    "df_merged = pd.merge(data, data_sensor_mean[['datetime_no_tz', 'temperature', 'humidity']], on='datetime_no_tz', how='left')"
   ]
  },
  {
   "cell_type": "code",
   "execution_count": 65,
   "id": "7e51199a",
   "metadata": {},
   "outputs": [],
   "source": [
    "df_merged['hour'] = df_merged['datetime_no_tz'].dt.time"
   ]
  },
  {
   "cell_type": "code",
   "execution_count": 66,
   "id": "e029e6ed",
   "metadata": {},
   "outputs": [],
   "source": [
    "df_merged.drop(columns=['SensingDateTime(Hour)','datetime'], inplace=True)\n",
    "df_merged.rename(columns={'datetime_no_tz': 'datetime'}, inplace=True)"
   ]
  },
  {
   "cell_type": "code",
   "execution_count": 67,
   "id": "a4a5077d",
   "metadata": {},
   "outputs": [
    {
     "name": "stdout",
     "output_type": "stream",
     "text": [
      "(549976, 10)\n"
     ]
    },
    {
     "data": {
      "text/html": [
       "<div>\n",
       "<style scoped>\n",
       "    .dataframe tbody tr th:only-of-type {\n",
       "        vertical-align: middle;\n",
       "    }\n",
       "\n",
       "    .dataframe tbody tr th {\n",
       "        vertical-align: top;\n",
       "    }\n",
       "\n",
       "    .dataframe thead th {\n",
       "        text-align: right;\n",
       "    }\n",
       "</style>\n",
       "<table border=\"1\" class=\"dataframe\">\n",
       "  <thead>\n",
       "    <tr style=\"text-align: right;\">\n",
       "      <th></th>\n",
       "      <th>Sensor_Name</th>\n",
       "      <th>LocationID</th>\n",
       "      <th>Direction_1</th>\n",
       "      <th>Direction_2</th>\n",
       "      <th>Total_of_Directions</th>\n",
       "      <th>Location</th>\n",
       "      <th>datetime</th>\n",
       "      <th>temperature</th>\n",
       "      <th>humidity</th>\n",
       "      <th>hour</th>\n",
       "    </tr>\n",
       "  </thead>\n",
       "  <tbody>\n",
       "    <tr>\n",
       "      <th>0</th>\n",
       "      <td>Fra118_T</td>\n",
       "      <td>51</td>\n",
       "      <td>1</td>\n",
       "      <td>4</td>\n",
       "      <td>5</td>\n",
       "      <td>-37.80841815, 144.95906316</td>\n",
       "      <td>2023-06-06 03:00:00</td>\n",
       "      <td>16.736667</td>\n",
       "      <td>73.400000</td>\n",
       "      <td>03:00:00</td>\n",
       "    </tr>\n",
       "    <tr>\n",
       "      <th>1</th>\n",
       "      <td>Fra118_T</td>\n",
       "      <td>51</td>\n",
       "      <td>7</td>\n",
       "      <td>5</td>\n",
       "      <td>12</td>\n",
       "      <td>-37.80841815, 144.95906316</td>\n",
       "      <td>2023-06-06 04:00:00</td>\n",
       "      <td>15.437500</td>\n",
       "      <td>77.325000</td>\n",
       "      <td>04:00:00</td>\n",
       "    </tr>\n",
       "    <tr>\n",
       "      <th>2</th>\n",
       "      <td>Fra118_T</td>\n",
       "      <td>51</td>\n",
       "      <td>10</td>\n",
       "      <td>22</td>\n",
       "      <td>32</td>\n",
       "      <td>-37.80841815, 144.95906316</td>\n",
       "      <td>2023-06-06 06:00:00</td>\n",
       "      <td>17.006667</td>\n",
       "      <td>73.813333</td>\n",
       "      <td>06:00:00</td>\n",
       "    </tr>\n",
       "    <tr>\n",
       "      <th>3</th>\n",
       "      <td>Fra118_T</td>\n",
       "      <td>51</td>\n",
       "      <td>94</td>\n",
       "      <td>136</td>\n",
       "      <td>230</td>\n",
       "      <td>-37.80841815, 144.95906316</td>\n",
       "      <td>2023-06-06 11:00:00</td>\n",
       "      <td>18.130000</td>\n",
       "      <td>73.372500</td>\n",
       "      <td>11:00:00</td>\n",
       "    </tr>\n",
       "    <tr>\n",
       "      <th>4</th>\n",
       "      <td>Fra118_T</td>\n",
       "      <td>51</td>\n",
       "      <td>166</td>\n",
       "      <td>126</td>\n",
       "      <td>292</td>\n",
       "      <td>-37.80841815, 144.95906316</td>\n",
       "      <td>2023-06-06 12:00:00</td>\n",
       "      <td>18.923333</td>\n",
       "      <td>68.420000</td>\n",
       "      <td>12:00:00</td>\n",
       "    </tr>\n",
       "  </tbody>\n",
       "</table>\n",
       "</div>"
      ],
      "text/plain": [
       "  Sensor_Name  LocationID  Direction_1  Direction_2  Total_of_Directions  \\\n",
       "0    Fra118_T          51            1            4                    5   \n",
       "1    Fra118_T          51            7            5                   12   \n",
       "2    Fra118_T          51           10           22                   32   \n",
       "3    Fra118_T          51           94          136                  230   \n",
       "4    Fra118_T          51          166          126                  292   \n",
       "\n",
       "                     Location            datetime  temperature   humidity  \\\n",
       "0  -37.80841815, 144.95906316 2023-06-06 03:00:00    16.736667  73.400000   \n",
       "1  -37.80841815, 144.95906316 2023-06-06 04:00:00    15.437500  77.325000   \n",
       "2  -37.80841815, 144.95906316 2023-06-06 06:00:00    17.006667  73.813333   \n",
       "3  -37.80841815, 144.95906316 2023-06-06 11:00:00    18.130000  73.372500   \n",
       "4  -37.80841815, 144.95906316 2023-06-06 12:00:00    18.923333  68.420000   \n",
       "\n",
       "       hour  \n",
       "0  03:00:00  \n",
       "1  04:00:00  \n",
       "2  06:00:00  \n",
       "3  11:00:00  \n",
       "4  12:00:00  "
      ]
     },
     "execution_count": 67,
     "metadata": {},
     "output_type": "execute_result"
    }
   ],
   "source": [
    "print(df_merged.shape)\n",
    "df_merged.head()"
   ]
  },
  {
   "cell_type": "markdown",
   "id": "4c718cf5",
   "metadata": {},
   "source": [
    "## Number of pedestrians based on time, temperature and humidity"
   ]
  },
  {
   "cell_type": "code",
   "execution_count": 74,
   "id": "59616563",
   "metadata": {},
   "outputs": [],
   "source": [
    "hour = '12:00:00'\n",
    "temp_or_hum = 'temperature'"
   ]
  },
  {
   "cell_type": "code",
   "execution_count": 70,
   "id": "bfaf4537",
   "metadata": {},
   "outputs": [],
   "source": [
    "df_hourly = df_merged[(df_merged['hour'] == pd.to_datetime(hour).time())]"
   ]
  },
  {
   "cell_type": "code",
   "execution_count": 72,
   "id": "7bd148c2",
   "metadata": {},
   "outputs": [],
   "source": [
    "q1 = df_hourly['Total_of_Directions'].quantile(0.25)\n",
    "q3 = df_hourly['Total_of_Directions'].quantile(0.75)\n",
    "\n",
    "iqr = q3 - q1\n",
    "\n",
    "lower_bound = q1 - 3 * iqr\n",
    "upper_bound = q3 + 3 * iqr\n",
    "\n",
    "filtered_df = df_hourly[(df_hourly['Total_of_Directions'] >= lower_bound) & (df_hourly['Total_of_Directions'] <= upper_bound)]"
   ]
  },
  {
   "cell_type": "code",
   "execution_count": 75,
   "id": "91a0cd7a",
   "metadata": {},
   "outputs": [],
   "source": [
    "df_agg = filtered_df.groupby(temp_or_hum)['Total_of_Directions'].sum().reset_index()"
   ]
  },
  {
   "cell_type": "code",
   "execution_count": 111,
   "id": "efc986e5",
   "metadata": {},
   "outputs": [
    {
     "data": {
      "image/png": "[encoded data removed]",
      "text/plain": [
       "<Figure size 720x432 with 1 Axes>"
      ]
     },
     "metadata": {
      "needs_background": "light"
     },
     "output_type": "display_data"
    }
   ],
   "source": [
    "plt.figure(figsize=(10, 6))  \n",
    "plt.scatter(df_agg[temp_or_hum], df_agg['Total_of_Directions'])  \n",
    "plt.title('Number Of Pedestrians vs. Temp/Humidity')  \n",
    "plt.xlabel('Temp/Humidity')  \n",
    "plt.ylabel('Total Directions')  \n",
    "plt.grid(True) \n",
    "plt.show()"
   ]
  },
  {
   "cell_type": "markdown",
   "id": "a3fe6505",
   "metadata": {},
   "source": [
    "## Visualize Median Pedestrian Traffic Based On Time"
   ]
  },
  {
   "cell_type": "code",
   "execution_count": 82,
   "id": "d0bef6f4",
   "metadata": {},
   "outputs": [],
   "source": [
    "df_ped_median = df_merged.groupby('hour').agg({'Total_of_Directions': 'median'}).reset_index()"
   ]
  },
  {
   "cell_type": "code",
   "execution_count": 109,
   "id": "9fb97db8",
   "metadata": {},
   "outputs": [
    {
     "data": {
      "image/png": "[encoded data removed]",
      "text/plain": [
       "<Figure size 720x432 with 1 Axes>"
      ]
     },
     "metadata": {
      "needs_background": "light"
     },
     "output_type": "display_data"
    }
   ],
   "source": [
    "ax = df_ped_median.plot(kind='bar', figsize=(10, 6))\n",
    "\n",
    "ax.set_title('Number Of Pedestrians Over Time')\n",
    "ax.set_xlabel('Time (Hour)')\n",
    "ax.set_ylabel('Number Of Pedestrians')\n",
    "ax.legend(['Number Of Pedestrians'])\n",
    "ax.grid(axis='y', linestyle='--', alpha=0.5)\n",
    "\n",
    "plt.show()"
   ]
  },
  {
   "cell_type": "code",
   "execution_count": null,
   "id": "0ca9ab6d",
   "metadata": {},
   "outputs": [],
   "source": []
  }
 ],
 "metadata": {
  "kernelspec": {
   "display_name": "Python 3 (ipykernel)",
   "language": "python",
   "name": "python3"
  },
  "language_info": {
   "codemirror_mode": {
    "name": "ipython",
    "version": 3
   },
   "file_extension": ".py",
   "mimetype": "text/x-python",
   "name": "python",
   "nbconvert_exporter": "python",
   "pygments_lexer": "ipython3",
   "version": "3.9.12"
  }
 },
 "nbformat": 4,
 "nbformat_minor": 5
}
