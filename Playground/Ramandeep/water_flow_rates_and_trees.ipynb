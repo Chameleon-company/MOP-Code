{
 "cells": [
  {
   "cell_type": "markdown",
   "metadata": {},
   "source": [
    "<div class=\"usecase-title\"><h1><b>Green Canopy vs. Urban Flow: Analyzing the Interplay Between Tree Canopies and Water Flow Routes for Enhanced Environmental Wellbeing in Melbourne</b></h1></div>\n",
    "\n",
    "<div class=\"usecase-authors\"><h3><b>Authored by: </b> Ramandeep Singh Ghuman</h3></div>"
   ]
  },
  {
   "cell_type": "markdown",
   "metadata": {},
   "source": [
    "<div class=\"usecase-duration\"><b>Duration:</b> {90} mins</div>\n",
    "\n",
    "<div class=\"usecase-level-skill\">\n",
    "    <div class=\"usecase-level\"><b>Level: </b>{Intermediate}</div>\n",
    "    <div class=\"usecase-skill\"><b>Pre-requisite Skills: </b>{Python, and add any more skills needed}</div>\n",
    "</div>"
   ]
  },
  {
   "cell_type": "markdown",
   "metadata": {},
   "source": [
    "<div class=\"usecase-section-header\">Scenario</div>"
   ]
  },
  {
   "cell_type": "markdown",
   "metadata": {},
   "source": [
    "# **User story Green Canopy vs. Urban Flow Analysis**\n",
    "\n",
    "---\n",
    "\n",
    "### As an environmental planner for the City of Melbourne\n",
    "\n",
    "I want to understand the current tree canopy and overground flow paths throughout the city and how our current and future tree plantings suitable for areas where there is a large flow of water. This understanding will help reduce the risk of flooding, increase urban biodiversity and improve the overall environmental well-being of our community.\n",
    "\n",
    "### So,\n",
    "\n",
    "1. **We can identify areas with inadequate timber cladding** which can contribute to ineffective water absorption and increased risk of flooding during heavy rains. Defining these places, we want to make them a priority in our urban forestry work.\n",
    "\n",
    "2. **We can assess the effectiveness of our existing urban forest** in managing surface water runoff and identify potential areas for improvement. This assessment will inform our strategies to preserve and expand green spaces in ways that support our city's drainage system.\n",
    "\n",
    "3. **We can strategically plan future tree planting zones**, ensuring they include areas that would benefit most from reduced surface water. Our goal is to improve the resilience of the city to the effects of climate change and at the same time promote the aesthetic and ecological value of our urban landscape.\n",
    "\n",
    "4. **We receive data-based recommendations to city government and stakeholders** about the importance of expanding urban forests in certain areas. Using concrete evidence, we aim to secure support and funding for targeted tree planting projects that align with our city's sustainability and climate adaptation goals.\n",
    "\n",
    "### Recommendation Criteria:\n",
    "\n",
    "1. **Data Acquisition and Integration:** Successfully access and integrate City of Melbourne Open Data Platform data on tree canopies, waterways and tree planting schedules.\n",
    "\n",
    "2. **Analysis and Visualization:** Use statistical analysis and data visualization techniques to reveal patterns and correlations between tree canopy cover and terrestrial water flow pathways. Renderings must clearly depict areas of concern and potential zones for future tree planting.\n",
    "\n",
    "3. **Strategic Recommendations:** Based on the analysis, create a list of targeted tree planting areas that would most effectively reduce overland runoff and improve environmental resilience. Recommendations must be data-driven and consistent with the city's broader environmental and urban planning goals.\n",
    "\n",
    "4. **Report and Presentation:** prepare a comprehensive report and presentation summarizing the results, methods and recommendations in a clear and functional way to present to the city government and other stakeholders.\n",
    "\n",
    "Through this project **we aim to use our urban forest as an important tool in our city's climate adaptation and water management strategies** and to ensure a healthier and more sustainable Melbourne for future generations.\n",
    "\n",
    "---"
   ]
  },
  {
   "cell_type": "markdown",
   "metadata": {},
   "source": [
    "<div class=\"usecase-section-header\">\n",
    "This use case, \"Green Canopy vs. Urban Flow: Analyzing Biscuits and Waterway Interactions to Improve Melbourne's Environmental Wellbeing\" is designed to teach some important concepts and skills at the intersection of environmental science, urban planning and environmental science. . data analysis. By participating in this case, participants will learn:\n",
    "\n",
    "1. **Data acquisition and API interaction**: Access and use public data APIs to collect relevant data sets. This includes understanding the structure of data APIs, navigating the documentation to find the endpoints you need, and using Python or other programming languages ​​to request and retrieve data.\n",
    "\n",
    "2. **Data cleaning and preparation**: data cleaning and preparation techniques for analysis. This includes handling missing values, combining data from multiple sources, and converting data into usable formats ready for detailed analysis.\n",
    "\n",
    "3. **Analysis of geospatial data**: basics of using geospatial data, including tree canopy and watercourse mapping. Participants will learn to use geographic information systems (GIS) tools or Python libraries such as GeoPandas to analyze spatial relationships and patterns.\n",
    "\n",
    "4. **Statistical Analysis and Hypothesis Testing**: Applying statistical methods to investigate and test hypotheses about the relationships between urban tree canopies, water flow and environmental well-being. This includes understanding correlation, regression analysis, and other statistical tools to help you gain insight into your data.\n",
    "\n",
    "5. **Data visualization**: Create informative and compelling visualizations that present data in a clear and engaging way. This includes using tools and libraries such as Matplotlib, Seaborn or Plotly to create maps, charts and graphs in Python that effectively communicate analysis results.\n",
    "\n",
    "6. **Interdisciplinary Thinking**: Combining environmental, urban planning and data science expertise to solve complex real-world problems. This case encourages thinking about how data-driven insights can help sustainable urban development and environmental policy.\n",
    "\n",
    "7. **Strategic Planning and Decision Making**: Developing strategic recommendations based on data analysis. Participants will learn how to translate data insights into actionable urban forestry and water management strategies that can deliver real environmental and community benefits.\n",
    "\n",
    "8. **Communication Skills**: Improves ability to communicate technical findings to non-technical audiences, including stakeholders and decision makers. It requires writing clear and concise reports and presenting data in a way that is accessible and compelling to those without a data background.\n",
    "\n",
    "After completing this use case, participants will gain a deep understanding of how data analysis can inform and improve the data. environment to design and decide and provide them with valuable skills that can be applied in various professional contexts.\n",
    "</div>"
   ]
  },
  {
   "cell_type": "markdown",
   "metadata": {},
   "source": [
    "By the end of this use case:\n",
    "\n",
    "- **Understand how to use public data APIs**: You will learn how to use APIs to retrieve datasets related to environmental and urban planning analyses.\n",
    "\n",
    "- **Introduce data cleaning and preparation techniques**: You can clean, combine and prepare datasets from multiple sources for in-depth analysis.\n",
    "\n",
    "- **Use geospatial data analysis**: You have the ability to work with geospatial data. . data analyzing spatial relationships and patterns based on urban forestry and water management strategies.\n",
    "\n",
    "- **Perform statistical analysis and hypothesis testing**: Demonstrate your ability to use statistical methods to investigate the relationships between environmental factors and urban planning elements. . , testing hypotheses with real data.\n",
    "\\ n- **Create powerful data visualizations**: Develop your skills in visualizing data with maps, charts and graphs, using a variety of tools and libraries to clearly communicate results.\\ n\\ n- * *Use interdisciplinary thinking**: integrate knowledge across disciplines to solve problems and understand how data science can support sustainable urban development and help solve environmental problems.\n",
    "\n",
    "- **Muulo strategic planning and decision making**: be able to transform analytics into urban forestry, water management and strategic recommendations for environmental policy, showing how data insights can lead to actionable results.\n",
    "\n",
    "- **Improve your communication skills** : Improve your ability to present technical findings to non-technical audiences by making complex information comprehensible and convincing for stakeholders, policy makers and the general public.\n",
    "\n",
    "These skills not only stimulate a deep understanding of a particular environment. urban planning challenges solved in use. case, but also provides you with versatile features relevant to many data science and analytics scenarios across industries."
   ]
  },
  {
   "cell_type": "markdown",
   "metadata": {},
   "source": [
    "<div class=\"usecase-section-header\"><h2>The Intersection of Urban Green Spaces and Water Management: A Critical Analysis for Melbourne's Future<h2></div>\n"
   ]
  },
  {
   "cell_type": "markdown",
   "metadata": {},
   "source": [
    "Known for its vibrant urban life and lush landscapes, Melbourne is at a crossroads where the sprawling urban fabric increasingly intersects with nature. In the midst of this growth, managing natural resources and integrating green spaces into the urban matrix has never been more critical. This analysis explores the symbiotic relationship between treetops and waterways in the Melbourne metropolitan area and aims to reveal insights that could guide future urban planning and environmental conservation efforts.\n",
    "\n",
    "In addition to their aesthetic value, treetops play an important role in urban ecosystems. They promote biodiversity, improve air quality, regulate temperature and especially water management. Trees catch rain, which reduces the risk of runoff and flooding. In contrast, urban waterways, including streams, rivers, and planned drainage systems, are designed to control and direct water across the urban landscape. The balance between these natural and anthropogenic systems is delicate and important for a city's resilience to climate change and urban flooding.\n",
    "\n",
    "This use case focuses on analyzing the relationship between tree canopy extent and waterways. Melbourne. In particular, it is being investigated whether areas with sparse tree cover coincide with problematic waterways, which can increase the risk of flooding. It also assesses whether the proposed forest planting zones are compatible with areas that would have a better canopy to improve water management.\n",
    "\n",
    "The datasets underlying this analysis are from the City of Melbourne's Open Data Portal:\n",
    "\n",
    "1. **Water Flow Routes Overland (2008 data)**: This dataset provides an overview of waterways in urban landscapes, especially in overland scenarios.\n",
    "\n",
    "2. **Tree Canopies 2008 Entire Municipal Area (Urban Forest)**: This dataset maps tree canopy coverage in Melbourne and provides an overview of the extent and density of the urban forest.\n",
    "\n",
    "3. **Tree Planting Zone Schedules**: This dataset highlights areas earmarked for future tree planting and informs the city's strategic plans to expand green infrastructure.\n",
    "\n",
    "Together, these datasets serve as a foundation for a comprehensive analysis aimed at enhancing Melbourne's environmental well-being and urban resilience. By understanding the current state and planning strategically for the future, this analysis seeks to foster a more harmonious balance between Melbourne's urban development and its natural ecosystems."
   ]
  },
  {
   "cell_type": "markdown",
   "metadata": {},
   "source": [
    "# Analysis\n",
    "### **Introduction**\n",
    "To analyze the interplay between tree canopies and water flow routes for enhanced environmental wellbeing in Melbourne, we aim to understand how urban green spaces, particularly tree canopies, interact with and potentially mitigate urban water flow, contributing to urban environmental health and resilience against flooding.\n",
    "\n",
    "Given the complex nature of spatial data analysis required for such an endeavor, the most suitable algorithm for our analysis hinges on performing spatial joins to identify areas with overlapping tree canopies and water flow routes. This spatial analysis can highlight regions where tree plantings might enhance water absorption and reduce runoff, thereby mitigating flood risks and promoting urban wellbeing.\n",
    "\n",
    "For implementing this analysis, Python's GeoPandas library, which extends Pandas to allow spatial operations on geometric types, becomes essential. The analysis would involve the following steps:\n",
    "1. **Data Preparation**: Loading the spatial datasets of tree canopies, water flow routes, and tree planting zones into GeoDataFrames.\n",
    "2. **Spatial Join**: Performing spatial joins to find overlaps between tree canopies and water flow routes, indicating areas where green canopies might influence urban water flows.\n",
    "3. **Analysis**: Analyzing the spatial relationships to identify potential areas for future tree plantings that could enhance environmental wellbeing through improved water flow management.\n",
    "\n",
    "Below is a Python code outline demonstrating how to proceed with loading the data and setting up for the analysis, assuming access to the appropriate URLs is available and no API routes have been changed at the time this is being run and a limitation of fetching 100 records for the sake of this example and because it's the max limit for some of our API routes:"
   ]
  },
  {
   "cell_type": "markdown",
   "metadata": {},
   "source": [
    "### **Fetching and processing the data**"
   ]
  },
  {
   "cell_type": "code",
   "execution_count": 3,
   "metadata": {},
   "outputs": [],
   "source": [
    "import requests\n",
    "# import pandas as pd\n",
    "import geopandas as gpd\n",
    "from shapely.geometry import shape, Point\n",
    "\n",
    "# Define URLs for datasets\n",
    "water_flow_routes_url = 'https://data.melbourne.vic.gov.au/api/explore/v2.1/catalog/datasets/water-flow-routes-over-land-urban-forest/records?limit=100'\n",
    "tree_canopies_url = 'https://data.melbourne.vic.gov.au/api/explore/v2.1/catalog/datasets/tree-canopies-2008-urban-forest/records?limit=100'\n",
    "tree_planting_zones_url = 'https://data.melbourne.vic.gov.au/api/explore/v2.1/catalog/datasets/tree-planting-zone-schedules-with-years-urban-forest/records?limit=100'\n",
    "\n",
    "def fetch_data(url):\n",
    "    response = requests.get(url)\n",
    "    data = response.json()['results']  # Extracting results from the response\n",
    "    return data\n",
    "\n",
    "def create_gdf_from_features(features, geometry_type='geo_point_2d'):\n",
    "    \"\"\"\n",
    "    Converts features into a GeoDataFrame.\n",
    "    :param features: List of features.\n",
    "    :param geometry_type: Type of geometry ('geo_point_2d' for points, 'geo_shape' for complex geometries).\n",
    "    :return: GeoDataFrame\n",
    "    \"\"\"\n",
    "    geometries = []\n",
    "    properties = []\n",
    "    \n",
    "    for feature in features:\n",
    "        # For points\n",
    "        if geometry_type == 'geo_point_2d' and feature.get('geo_point_2d'):\n",
    "            geometries.append(Point(feature['geo_point_2d']['lon'], feature['geo_point_2d']['lat']))\n",
    "            properties.append(feature)\n",
    "        # For complex geometries\n",
    "        elif geometry_type == 'geo_shape' and feature.get('geo_shape'):\n",
    "            geometries.append(shape(feature['geo_shape']['geometry']))\n",
    "            properties.append(feature)\n",
    "    \n",
    "    gdf = gpd.GeoDataFrame(properties, geometry=geometries)\n",
    "    return gdf\n",
    "\n",
    "# Fetching data\n",
    "water_flow_data = fetch_data(water_flow_routes_url)\n",
    "tree_canopies_data = fetch_data(tree_canopies_url)\n",
    "tree_planting_zones_data = fetch_data(tree_planting_zones_url)\n",
    "\n",
    "# Creating GeoDataFrames\n",
    "water_flow_gdf = create_gdf_from_features(water_flow_data, 'geo_shape')\n",
    "tree_canopies_gdf = create_gdf_from_features(tree_canopies_data, 'geo_shape')\n",
    "tree_planting_zones_gdf = create_gdf_from_features(tree_planting_zones_data, 'geo_point_2d')\n"
   ]
  },
  {
   "cell_type": "markdown",
   "metadata": {},
   "source": [
    "Before we continue we need to analyze the data further and process it and implement spatial joins"
   ]
  },
  {
   "cell_type": "code",
   "execution_count": null,
   "metadata": {},
   "outputs": [],
   "source": [
    "# Assuming 'water_flow_gdf', 'tree_canopies_gdf', and 'tree_planting_zones_gdf' have been properly loaded by running the last code block\n",
    "\n",
    "import matplotlib.pyplot as plt\n",
    "\n",
    "# Step 1: Identify Water Flow Routes Lacking Tree Canopies\n",
    "# Spatial join to find water flow routes and nearby tree canopies\n",
    "water_flow_with_trees = gpd.sjoin(water_flow_gdf, tree_canopies_gdf, how=\"left\", predicate='intersects')\n",
    "# Filter out water flow routes that intersect with tree canopies\n",
    "water_flow_needing_trees = water_flow_with_trees[water_flow_with_trees.index_right.isna()]\n",
    "\n",
    "# Step 2: Assess Planned Tree Planting Zones\n",
    "# Spatial join to find if there are planned plantings in areas where water flow routes lack nearby tree canopies\n",
    "planting_zones_for_water_management = gpd.sjoin(water_flow_needing_trees, tree_planting_zones_gdf, how=\"inner\", predicate='intersects')\n",
    "\n",
    "# Identifying water flow routes that would benefit from tree plantings\n",
    "# This step assumes that planting_zones_for_water_management's right index corresponds to water_flow_needing_trees\n",
    "water_flow_needing_trees_but_planned = water_flow_needing_trees.loc[water_flow_needing_trees.index.isin(planting_zones_for_water_management.index_left)]\n",
    "\n",
    "# Plotting\n",
    "fig, ax = plt.subplots(figsize=(10, 10))\n",
    "\n",
    "# Plot all water flow routes\n",
    "water_flow_gdf.plot(ax=ax, color='blue', label='Water Flow Routes', linewidth=0.5)\n",
    "\n",
    "# Plot tree canopies\n",
    "tree_canopies_gdf.plot(ax=ax, color='green', label='Tree Canopies', alpha=0.5)\n",
    "\n",
    "# Plot areas identified as needing tree canopies but are planned for planting\n",
    "water_flow_needing_trees_but_planned.plot(ax=ax, color='yellow', label='Planned Tree Planting Zones', markersize=5)\n",
    "\n",
    "plt.legend()\n",
    "plt.show()"
   ]
  },
  {
   "cell_type": "markdown",
   "metadata": {},
   "source": [
    "**NB**: The code above needs to be debugged further."
   ]
  },
  {
   "cell_type": "markdown",
   "metadata": {},
   "source": [
    "### **1. Visualizing the Findings**\n",
    "We'll use Matplotlib for basic visualization. For more advanced visualizations, consider using libraries like Folium or Plotly for interactive maps.This report is being limited to matplotlib for simplicity at the moment."
   ]
  },
  {
   "cell_type": "code",
   "execution_count": null,
   "metadata": {},
   "outputs": [],
   "source": [
    "fig, ax = plt.subplots(figsize=(12, 10))\n",
    "\n",
    "# Plot the base water flow routes in blue\n",
    "water_flow_gdf.plot(ax=ax, color='blue', label='Water Flow Routes')\n",
    "\n",
    "# Plot water flow routes that need tree canopies in red\n",
    "water_flow_needing_trees.plot(ax=ax, color='red', label='Water Flow Routes Needing Trees')\n",
    "\n",
    "# Plot the tree planting zones in green\n",
    "tree_planting_zones_gdf.plot(ax=ax, color='green', label='Tree Planting Zones')\n",
    "\n",
    "# Add a legend\n",
    "plt.legend()\n",
    "\n",
    "# Add titles and labels as needed\n",
    "plt.title('Water Flow Management and Tree Planting Zones')\n",
    "plt.xlabel('Longitude')\n",
    "plt.ylabel('Latitude')\n",
    "\n",
    "plt.show()"
   ]
  },
  {
   "cell_type": "markdown",
   "metadata": {},
   "source": [
    "### **2. Quantitative Analysis**\n",
    "Calculate the Total Length of Water Flow Routes Needing Trees\n",
    "Assuming your water_flow_gdf has a length attribute or you can calculate it based on geometry:"
   ]
  },
  {
   "cell_type": "code",
   "execution_count": null,
   "metadata": {},
   "outputs": [],
   "source": [
    "# Assuming 'length' needs to be calculated from the geometry if not already present\n",
    "water_flow_needing_trees['length'] = water_flow_needing_trees.geometry.length\n",
    "total_length_needing_trees = water_flow_needing_trees['length'].sum()\n",
    "\n",
    "print(f\"Total length of water flow routes needing trees: {total_length_needing_trees} units\")"
   ]
  },
  {
   "cell_type": "markdown",
   "metadata": {},
   "source": [
    "Calculate the Area of Planned Tree Planting Zones Intersecting with Routes\n",
    "Assuming your tree_planting_zones_gdf has an area attribute or you can calculate it based on geometry:"
   ]
  },
  {
   "cell_type": "code",
   "execution_count": null,
   "metadata": {},
   "outputs": [],
   "source": [
    "# Assuming 'area' needs to be calculated from the geometry if not already present\n",
    "tree_planting_zones_gdf['area'] = tree_planting_zones_gdf.geometry.area\n",
    "total_planned_area = tree_planting_zones_gdf['area'].sum()\n",
    "\n",
    "print(f\"Total area of planned tree planting zones: {total_planned_area} square units\")\n"
   ]
  },
  {
   "cell_type": "markdown",
   "metadata": {},
   "source": [
    "### **3. Recommendations**\n",
    "Based on the visualization and quantitative analysis:\n",
    "\n",
    "- Prioritize Areas for Immediate Action: Focus tree planting efforts on water flow routes identified as lacking tree canopies, prioritizing those with the highest flow rates or those that are prone to flooding.\n",
    "- Integrate Urban Planning: Work with urban planners to ensure future development projects incorporate green infrastructure, especially in areas identified as needing tree canopies for water management.\n",
    "- Community Engagement: Involve local communities in the planning and planting process to foster a sense of ownership and responsibility for urban greening efforts.\n",
    "- Long-term Monitoring: Establish a monitoring system to assess the impact of tree plantings on water flow management over time, allowing for adjustments in strategies as needed.\n"
   ]
  },
  {
   "cell_type": "markdown",
   "metadata": {},
   "source": []
  }
 ],
 "metadata": {
  "kernelspec": {
   "display_name": "Python 3",
   "language": "python",
   "name": "python3"
  },
  "language_info": {
   "codemirror_mode": {
    "name": "ipython",
    "version": 3
   },
   "file_extension": ".py",
   "mimetype": "text/x-python",
   "name": "python",
   "nbconvert_exporter": "python",
   "pygments_lexer": "ipython3",
   "version": "3.11.2"
  },
  "vscode": {
   "interpreter": {
    "hash": "369f2c481f4da34e4445cda3fffd2e751bd1c4d706f27375911949ba6bb62e1c"
   }
  }
 },
 "nbformat": 4,
 "nbformat_minor": 4
}
