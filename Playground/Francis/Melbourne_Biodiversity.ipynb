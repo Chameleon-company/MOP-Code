{
 "cells": [
  {
   "cell_type": "markdown",
   "metadata": {},
   "source": [
    "<div class=\"usecase-title\">Biodiversity in Melbourne's parks</div>\n",
    "\n",
    "<div class=\"usecase-authors\"><b>Authored by: </b>Francis Rusli</div>\n",
    "\n",
    "<div class=\"usecase-date\"><b>Date: </b> April 2024</div>"
   ]
  },
  {
   "cell_type": "markdown",
   "metadata": {},
   "source": [
    "<div class=\"usecase-duration\"><b>Duration:</b> 90 mins</div>\n",
    "\n",
    "<div class=\"usecase-level-skill\">\n",
    "    <div class=\"usecase-level\"><b> Level: </b>Intermediate</div>\n",
    "    <div class=\"usecase-skill\"><b> Pre-requisite Skills: </b>Python, basic machine learning, <i>Optional</i> Google Collaborate access</div>\n",
    "</div>"
   ]
  },
  {
   "cell_type": "markdown",
   "metadata": {},
   "source": [
    "<div class=\"usecase-subsection-blurb\">\n",
    "  <i>Dataset 1:</i> Bat Records in Fitzroy Gardens and Royal Botanic Gardens 2010\n",
    "  <br>\n",
    "  <a href=\"https://data.melbourne.vic.gov.au/explore/dataset/bat-records-in-fitzroy-gardens-and-royal-botanic-gardens-2010/table/\" target=\"_blank\">Dataset Link</a>\n",
    "  <br>\n",
    "  <a href=\"https://data.melbourne.vic.gov.au/api/explore/v2.1/catalog/datasets/bat-records-in-fitzroy-gardens-and-royal-botanic-gardens-2010/exports/xlsx?lang=en&timezone=Australia%2FSydney&use_labels=true\" target=\"_blank\">Metadata Link</a>\n",
    "</div>\n",
    "<br>\n",
    "\n",
    "<div class=\"usecase-subsection-blurb\">\n",
    "  <i>Dataset 2:</i> Development Activity Model Footprints\n",
    "  <br>\n",
    "  <a href=\"https://data.melbourne.vic.gov.au/explore/dataset/butterfly-biodiversity-survey-2017/table/\" target=\"_blank\">Dataset Link</a>\n",
    "  <br>\n",
    "  <a href=\"https://data.melbourne.vic.gov.au/api/explore/v2.1/catalog/datasets/butterfly-biodiversity-survey-2017/exports/xlsx?lang=en&timezone=Australia%2FSydney&use_labels=true\">Metadata Link</a>\n",
    "</div>\n",
    "<br>"
   ]
  },
  {
   "cell_type": "markdown",
   "metadata": {},
   "source": [
    "# <div class=\"usecase-section-header\"><h4>Project Objective, Overview & Research</h4></div>"
   ]
  },
  {
   "cell_type": "markdown",
   "metadata": {},
   "source": [
    "<div class=\"usecase-subtitle\">\n",
    "<i><b>User Story</b></i>\n",
    "</div>\n",
    "\n",
    "<div class=\"usecase-subsection-blurb\"><i>\"As a city council member, I want to study and monitor the biodiversity in Melbourne's parks and green spaces, specifically focusing on bats and butterflies. This information can empower City of Melbourne(CoM) in making conservation planning, address environmental challenges, and foster the natural habitats inside our city limits.\"</i></div>\n",
    "<br>"
   ]
  },
  {
   "cell_type": "markdown",
   "metadata": {},
   "source": [
    "<div class=\"usecase-subtitle\">\n",
    "<i><b>Objective</b></i>\n",
    "\n",
    "<div class=\"usecase-subsection-blurb\">The 'Urban Biodiversity Monitoring' project is a comprehensive initiative, spanning a dedicated investigation period of 6 weeks, focused on the parks and green spaces of Melbourne. This project is specifically tailored to study and monitor the populations of bats and butterflies, two critical indicators of the ecological health in urban environments.</div>\n",
    "<br>\n",
    "\n",
    "<div class=\"usecase-subsection-blurb\"><b>Part 1</b> includes set up, fetching or loading datasets, pre-processing, data cleaning, saving datasets, and merging datasets.</div>\n",
    "\n",
    "<br>\n",
    "\n",
    "<div class=\"usecase-subsection-blurb\"><b>Part 2</b> contains an overview analysis of data structures, population spread and biodiversity of species. </div>"
   ]
  },
  {
   "cell_type": "markdown",
   "metadata": {},
   "source": [
    "<div class=\"usecase-subtitle\">\n",
    "<i><b>Overview</b></i>\n",
    "</div>\n",
    "<div class=\"usecase-subsection-blurb\">The biodiversity within the City of Melbourne's parks and green spaces, especially the populations of bats and butterflies, can significantly reflect the health and balance of our urban ecosystem. This project aims to investigate the population spread, habitat viability, and the interaction of these species with urban development. </div>\n",
    "<br>"
   ]
  },
  {
   "cell_type": "markdown",
   "metadata": {},
   "source": [
    "<div class=\"usecase-subtitle\">\n",
    "<i><b>Benefits</b></i>\n",
    "</div>\n",
    "\n",
    "<div class=\"usecase-subsection-blurb\">\n",
    "<ol>\n",
    "  <li><b>Environmental Health and Ecosystem Balance Assessment:</b> By monitoring the populations of bats and butterflies, we can gain insights into the overall health of the ecosystem in Melbourne's parks. These species are often considered indicator species, meaning changes in their populations can signal changes in the broader environmental conditions. For instance, bats play a crucial role in controlling insect populations and pollinating plants, while butterflies are indicators of ecological diversity and health. Studying these populations helps in understanding the impacts of urban development on natural habitats and the effectiveness of current conservation strategies.\n",
    "  <li><b>Informed Conservation and Urban Planning:</b> The data gathered will be crucial in guiding conservation efforts and urban planning decisions. Understanding where and how these species thrive can inform the development of green spaces that support biodiversity. This can lead to the creation of urban environments that are not only beneficial for wildlife but also enhance the quality of life for city residents. For example, identifying key habitats and migration patterns of these species can aid in designing parks and green corridors that promote their conservation. </li>\n",
    "  <li><b>Public Engagement and Education:</b> This research can also play a significant role in public education and engagement. By raising awareness about the importance of biodiversity in urban areas, We can foster a greater appreciation and understanding among the public. This can lead to increased community involvement in conservation efforts and sustainable practices. Moreover, it can help in promoting citizen science initiatives, where locals can contribute to data collection and monitoring, further expanding the scope and impact of your research.</li>\n",
    "</ol>\n",
    "</div>"
   ]
  },
  {
   "cell_type": "markdown",
   "metadata": {},
   "source": [
    "<div class=\"usecase-subtitle\">\n",
    "<i><b>Research</b></i></div>\n",
    "<div class=\"usecase-subsection-blurb\">\n",
    "This research project focuses on assessing the biodiversity in Melbourne's parks, with a special emphasis on the populations of bats and butterflies. The aim is to analyze how these species interact with urban development and their spread across different locations and times. The findings will be crucial for informing conservation planning and understanding the health of the urban ecosystem.</div>\n",
    "<br>\n",
    "\n",
    "<div class=\"usecase-subsection-blurb\">\n",
    "Part 1 (First 3 Weeks): Utilizing Python and Jupyter Notebook, the initial stage involves setting up, data cleaning, and preprocessing, followed by a basic analysis focusing on species, locations, and times. The outcome will be an initial understanding of the distribution of bats and butterflies in Melbourne's parks.\n",
    "\n",
    "Part 2 (Next 3 Weeks): This phase dives into detailed trend analysis and mapping. It aims to uncover patterns in the distribution of these species, hypothesize the reasons for their specific locations, and understand the impact of urban environments on them. The project concludes with strategic recommendations for biodiversity conservation and urban planning.</div>"
   ]
  },
  {
   "cell_type": "markdown",
   "metadata": {},
   "source": [
    "<div class=\"usecase-subtitle\">\n",
    "<i><b>Conclusions</b></i>\n",
    "</div>\n",
    "<div class=\"usecase-subsection-blurb\">Fill here</div>\n",
    "<br>\n",
    "<div class=\"usecase-subsection-blurb\"> Fill here.</div>"
   ]
  },
  {
   "cell_type": "markdown",
   "metadata": {},
   "source": [
    "<!-- References -->\n",
    "  <h2 id=\"references\">References</h2>\n",
    "    <li id=\"fn-1\">\n",
    "      <a href=\"#fn-1\">[1]</a>\n",
    "    </li>"
   ]
  },
  {
   "cell_type": "markdown",
   "metadata": {},
   "source": [
    "# Part 1 (Set up & Pre-processing)\n",
    "*   Set Up\n",
    "*   Pre-processing\n",
    "*   Correlations\n",
    "*   Merge Datasets"
   ]
  }
 ],
 "metadata": {
  "kernelspec": {
   "display_name": "base",
   "language": "python",
   "name": "python3"
  },
  "language_info": {
   "name": "python",
   "version": "3.11.7"
  }
 },
 "nbformat": 4,
 "nbformat_minor": 2
}
