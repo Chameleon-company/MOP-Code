{
 "cells": [
  {
   "cell_type": "markdown",
   "metadata": {},
   "source": [
    "<div class=\"usecase-title\">Biodiversity in Melbourne's parks</div>\n",
    "\n",
    "<div class=\"usecase-authors\"><b>Authored by: </b>Francis Rusli</div>\n",
    "\n",
    "<div class=\"usecase-date\"><b>Date: </b> April 2024</div>"
   ]
  },
  {
   "cell_type": "markdown",
   "metadata": {},
   "source": [
    "<div class=\"usecase-duration\"><b>Duration:</b> 90 mins</div>\n",
    "\n",
    "<div class=\"usecase-level-skill\">\n",
    "    <div class=\"usecase-level\"><b> Level: </b>Intermediate</div>\n",
    "    <div class=\"usecase-skill\"><b> Pre-requisite Skills: </b>Python, basic machine learning, <i>Optional</i> Google Collaborate access</div>\n",
    "</div>"
   ]
  },
  {
   "cell_type": "markdown",
   "metadata": {},
   "source": [
    "<div class=\"usecase-subsection-blurb\">\n",
    "  <i>Dataset 1:</i> Bat Records in Fitzroy Gardens and Royal Botanic Gardens 2010\n",
    "  <br>\n",
    "  <a href=\"https://data.melbourne.vic.gov.au/explore/dataset/bat-records-in-fitzroy-gardens-and-royal-botanic-gardens-2010/table/\" target=\"_blank\">Dataset Link</a>\n",
    "  <br>\n",
    "  <a href=\"https://data.melbourne.vic.gov.au/api/explore/v2.1/catalog/datasets/bat-records-in-fitzroy-gardens-and-royal-botanic-gardens-2010/exports/xlsx?lang=en&timezone=Australia%2FSydney&use_labels=true\" target=\"_blank\">Metadata Link</a>\n",
    "</div>\n",
    "<br>\n",
    "\n",
    "<div class=\"usecase-subsection-blurb\">\n",
    "  <i>Dataset 2:</i> Development Activity Model Footprints\n",
    "  <br>\n",
    "  <a href=\"https://data.melbourne.vic.gov.au/explore/dataset/butterfly-biodiversity-survey-2017/table/\" target=\"_blank\">Dataset Link</a>\n",
    "  <br>\n",
    "  <a href=\"https://data.melbourne.vic.gov.au/api/explore/v2.1/catalog/datasets/butterfly-biodiversity-survey-2017/exports/xlsx?lang=en&timezone=Australia%2FSydney&use_labels=true\">Metadata Link</a>\n",
    "</div>\n",
    "<br>"
   ]
  },
  {
   "cell_type": "markdown",
   "metadata": {},
   "source": [
    "# <div class=\"usecase-section-header\"><h4>Project Objective, Overview & Research</h4></div>"
   ]
  },
  {
   "cell_type": "markdown",
   "metadata": {},
   "source": [
    "<div class=\"usecase-subtitle\">\n",
    "<i><b>User Story</b></i>\n",
    "</div>\n",
    "\n",
    "<div class=\"usecase-subsection-blurb\"><i>\"As a city council member, I want to study and monitor the biodiversity in Melbourne's parks and green spaces, specifically focusing on bats and butterflies. This information can empower City of Melbourne(CoM) in making conservation planning, address environmental challenges, and foster the natural habitats inside our city limits.\"</i></div>\n",
    "<br>"
   ]
  },
  {
   "cell_type": "markdown",
   "metadata": {},
   "source": [
    "<div class=\"usecase-subtitle\">\n",
    "<i><b>Objective</b></i>\n",
    "\n",
    "<div class=\"usecase-subsection-blurb\">The 'Urban Biodiversity Monitoring' project is a comprehensive initiative, spanning a dedicated investigation period of 6 weeks, focused on the parks and green spaces of Melbourne. This project is specifically tailored to study and monitor the populations of bats and butterflies, two critical indicators of the ecological health in urban environments.</div>\n",
    "<br>\n",
    "\n",
    "<div class=\"usecase-subsection-blurb\"><b>Part 1</b> includes set up, fetching or loading datasets, pre-processing, data cleaning, saving datasets, and merging datasets.</div>\n",
    "\n",
    "<br>\n",
    "\n",
    "<div class=\"usecase-subsection-blurb\"><b>Part 2</b> contains an overview analysis of data structures, population spread and biodiversity of species. </div>"
   ]
  },
  {
   "cell_type": "markdown",
   "metadata": {},
   "source": [
    "<div class=\"usecase-subtitle\">\n",
    "<i><b>Overview</b></i>\n",
    "</div>\n",
    "<div class=\"usecase-subsection-blurb\">The biodiversity within the City of Melbourne's parks and green spaces, especially the populations of bats and butterflies, can significantly reflect the health and balance of our urban ecosystem. This project aims to investigate the population spread, habitat viability, and the interaction of these species with urban development. </div>\n",
    "<br>"
   ]
  },
  {
   "cell_type": "markdown",
   "metadata": {},
   "source": [
    "<div class=\"usecase-subtitle\">\n",
    "<i><b>Benefits</b></i>\n",
    "</div>\n",
    "\n",
    "<div class=\"usecase-subsection-blurb\">\n",
    "<ol>\n",
    "  <li><b>Environmental Health and Ecosystem Balance Assessment:</b> By monitoring the populations of bats and butterflies, we can gain insights into the overall health of the ecosystem in Melbourne's parks. These species are often considered indicator species, meaning changes in their populations can signal changes in the broader environmental conditions. For instance, bats play a crucial role in controlling insect populations and pollinating plants, while butterflies are indicators of ecological diversity and health. Studying these populations helps in understanding the impacts of urban development on natural habitats and the effectiveness of current conservation strategies.\n",
    "  <li><b>Informed Conservation and Urban Planning:</b> The data gathered will be crucial in guiding conservation efforts and urban planning decisions. Understanding where and how these species thrive can inform the development of green spaces that support biodiversity. This can lead to the creation of urban environments that are not only beneficial for wildlife but also enhance the quality of life for city residents. For example, identifying key habitats and migration patterns of these species can aid in designing parks and green corridors that promote their conservation. </li>\n",
    "  <li><b>Public Engagement and Education:</b> This research can also play a significant role in public education and engagement. By raising awareness about the importance of biodiversity in urban areas, We can foster a greater appreciation and understanding among the public. This can lead to increased community involvement in conservation efforts and sustainable practices. Moreover, it can help in promoting citizen science initiatives, where locals can contribute to data collection and monitoring, further expanding the scope and impact of your research.</li>\n",
    "</ol>\n",
    "</div>"
   ]
  },
  {
   "cell_type": "markdown",
   "metadata": {},
   "source": [
    "<div class=\"usecase-subtitle\">\n",
    "<i><b>Research</b></i></div>\n",
    "<div class=\"usecase-subsection-blurb\">\n",
    "This research project focuses on assessing the biodiversity in Melbourne's parks, with a special emphasis on the populations of bats and butterflies. The aim is to analyze how these species interact with urban development and their spread across different locations and times. The findings will be crucial for informing conservation planning and understanding the health of the urban ecosystem.</div>\n",
    "<br>\n",
    "\n",
    "<div class=\"usecase-subsection-blurb\">\n",
    "Part 1 (First 3 Weeks): Utilizing Python and Jupyter Notebook, the initial stage involves setting up, data cleaning, and preprocessing, followed by a basic analysis focusing on species, locations, and times. The outcome will be an initial understanding of the distribution of bats and butterflies in Melbourne's parks.\n",
    "\n",
    "Part 2 (Next 3 Weeks): This phase dives into detailed trend analysis and mapping. It aims to uncover patterns in the distribution of these species, hypothesize the reasons for their specific locations, and understand the impact of urban environments on them. The project concludes with strategic recommendations for biodiversity conservation and urban planning.</div>"
   ]
  },
  {
   "cell_type": "markdown",
   "metadata": {},
   "source": [
    "<div class=\"usecase-subtitle\">\n",
    "<i><b>Conclusions</b></i>\n",
    "</div>\n",
    "<div class=\"usecase-subsection-blurb\">Fill here</div>\n",
    "<br>\n",
    "<div class=\"usecase-subsection-blurb\"> </div>"
   ]
  },
  {
   "cell_type": "markdown",
   "metadata": {},
   "source": [
    "<!-- References -->\n",
    "  <h2 id=\"references\">References</h2>\n",
    "    <li id=\"fn-1\">\n",
    "      <a href=\"#fn-1\">[1]</a>\n",
    "    </li>"
   ]
  },
  {
   "cell_type": "markdown",
   "metadata": {},
   "source": [
    "# Part 1 (Set up & Pre-processing)\n",
    "*   Set Up\n",
    "*   Pre-processing\n",
    "*   Correlations\n",
    "*   Merge Datasets"
   ]
  },
  {
   "cell_type": "markdown",
   "metadata": {},
   "source": [
    "## Part 1.1: Set Up\n",
    "*   Import Core Libraries\n",
    "*   Import Dependencies"
   ]
  },
  {
   "cell_type": "code",
   "execution_count": 1,
   "metadata": {},
   "outputs": [
    {
     "name": "stdout",
     "output_type": "stream",
     "text": [
      "Collecting osmnx\n",
      "  Downloading osmnx-1.9.2-py3-none-any.whl.metadata (4.9 kB)\n",
      "Collecting geopandas>=0.12 (from osmnx)\n",
      "  Downloading geopandas-0.14.3-py3-none-any.whl.metadata (1.5 kB)\n",
      "Requirement already satisfied: networkx>=2.5 in /opt/anaconda3/lib/python3.11/site-packages (from osmnx) (3.1)\n",
      "Requirement already satisfied: numpy>=1.20 in /opt/anaconda3/lib/python3.11/site-packages (from osmnx) (1.26.4)\n",
      "Requirement already satisfied: pandas>=1.1 in /opt/anaconda3/lib/python3.11/site-packages (from osmnx) (2.1.4)\n",
      "Requirement already satisfied: requests>=2.27 in /opt/anaconda3/lib/python3.11/site-packages (from osmnx) (2.31.0)\n",
      "Collecting shapely>=2.0 (from osmnx)\n",
      "  Downloading shapely-2.0.3-cp311-cp311-macosx_11_0_arm64.whl.metadata (7.0 kB)\n",
      "Collecting fiona>=1.8.21 (from geopandas>=0.12->osmnx)\n",
      "  Downloading fiona-1.9.6-cp311-cp311-macosx_11_0_arm64.whl.metadata (50 kB)\n",
      "\u001b[2K     \u001b[90m━━━━━━━━━━━━━━━━━━━━━━━━━━━━━━━━━━━━━━━━\u001b[0m \u001b[32m50.2/50.2 kB\u001b[0m \u001b[31m2.7 MB/s\u001b[0m eta \u001b[36m0:00:00\u001b[0m\n",
      "\u001b[?25hRequirement already satisfied: packaging in /opt/anaconda3/lib/python3.11/site-packages (from geopandas>=0.12->osmnx) (23.1)\n",
      "Collecting pyproj>=3.3.0 (from geopandas>=0.12->osmnx)\n",
      "  Downloading pyproj-3.6.1-cp311-cp311-macosx_11_0_arm64.whl.metadata (31 kB)\n",
      "Requirement already satisfied: python-dateutil>=2.8.2 in /opt/anaconda3/lib/python3.11/site-packages (from pandas>=1.1->osmnx) (2.8.2)\n",
      "Requirement already satisfied: pytz>=2020.1 in /opt/anaconda3/lib/python3.11/site-packages (from pandas>=1.1->osmnx) (2023.3.post1)\n",
      "Requirement already satisfied: tzdata>=2022.1 in /opt/anaconda3/lib/python3.11/site-packages (from pandas>=1.1->osmnx) (2023.3)\n",
      "Requirement already satisfied: charset-normalizer<4,>=2 in /opt/anaconda3/lib/python3.11/site-packages (from requests>=2.27->osmnx) (2.0.4)\n",
      "Requirement already satisfied: idna<4,>=2.5 in /opt/anaconda3/lib/python3.11/site-packages (from requests>=2.27->osmnx) (3.4)\n",
      "Requirement already satisfied: urllib3<3,>=1.21.1 in /opt/anaconda3/lib/python3.11/site-packages (from requests>=2.27->osmnx) (2.0.7)\n",
      "Requirement already satisfied: certifi>=2017.4.17 in /opt/anaconda3/lib/python3.11/site-packages (from requests>=2.27->osmnx) (2024.2.2)\n",
      "Requirement already satisfied: attrs>=19.2.0 in /opt/anaconda3/lib/python3.11/site-packages (from fiona>=1.8.21->geopandas>=0.12->osmnx) (23.1.0)\n",
      "Requirement already satisfied: click~=8.0 in /opt/anaconda3/lib/python3.11/site-packages (from fiona>=1.8.21->geopandas>=0.12->osmnx) (8.1.7)\n",
      "Collecting click-plugins>=1.0 (from fiona>=1.8.21->geopandas>=0.12->osmnx)\n",
      "  Downloading click_plugins-1.1.1-py2.py3-none-any.whl.metadata (6.4 kB)\n",
      "Collecting cligj>=0.5 (from fiona>=1.8.21->geopandas>=0.12->osmnx)\n",
      "  Downloading cligj-0.7.2-py3-none-any.whl.metadata (5.0 kB)\n",
      "Requirement already satisfied: six in /opt/anaconda3/lib/python3.11/site-packages (from fiona>=1.8.21->geopandas>=0.12->osmnx) (1.16.0)\n",
      "Downloading osmnx-1.9.2-py3-none-any.whl (107 kB)\n",
      "\u001b[2K   \u001b[90m━━━━━━━━━━━━━━━━━━━━━━━━━━━━━━━━━━━━━━━━\u001b[0m \u001b[32m107.4/107.4 kB\u001b[0m \u001b[31m6.6 MB/s\u001b[0m eta \u001b[36m0:00:00\u001b[0m\n",
      "\u001b[?25hDownloading geopandas-0.14.3-py3-none-any.whl (1.1 MB)\n",
      "\u001b[2K   \u001b[90m━━━━━━━━━━━━━━━━━━━━━━━━━━━━━━━━━━━━━━━━\u001b[0m \u001b[32m1.1/1.1 MB\u001b[0m \u001b[31m13.4 MB/s\u001b[0m eta \u001b[36m0:00:00\u001b[0ma \u001b[36m0:00:01\u001b[0m\n",
      "\u001b[?25hDownloading shapely-2.0.3-cp311-cp311-macosx_11_0_arm64.whl (1.3 MB)\n",
      "\u001b[2K   \u001b[90m━━━━━━━━━━━━━━━━━━━━━━━━━━━━━━━━━━━━━━━━\u001b[0m \u001b[32m1.3/1.3 MB\u001b[0m \u001b[31m13.3 MB/s\u001b[0m eta \u001b[36m0:00:00\u001b[0ma \u001b[36m0:00:01\u001b[0m\n",
      "\u001b[?25hDownloading fiona-1.9.6-cp311-cp311-macosx_11_0_arm64.whl (13.9 MB)\n",
      "\u001b[2K   \u001b[90m━━━━━━━━━━━━━━━━━━━━━━━━━━━━━━━━━━━━━━━━\u001b[0m \u001b[32m13.9/13.9 MB\u001b[0m \u001b[31m13.4 MB/s\u001b[0m eta \u001b[36m0:00:00\u001b[0m00:01\u001b[0m00:01\u001b[0m\n",
      "\u001b[?25hDownloading pyproj-3.6.1-cp311-cp311-macosx_11_0_arm64.whl (4.9 MB)\n",
      "\u001b[2K   \u001b[90m━━━━━━━━━━━━━━━━━━━━━━━━━━━━━━━━━━━━━━━━\u001b[0m \u001b[32m4.9/4.9 MB\u001b[0m \u001b[31m9.2 MB/s\u001b[0m eta \u001b[36m0:00:00\u001b[0m00:01\u001b[0m00:01\u001b[0mm\n",
      "\u001b[?25hDownloading click_plugins-1.1.1-py2.py3-none-any.whl (7.5 kB)\n",
      "Downloading cligj-0.7.2-py3-none-any.whl (7.1 kB)\n",
      "Installing collected packages: shapely, pyproj, cligj, click-plugins, fiona, geopandas, osmnx\n",
      "Successfully installed click-plugins-1.1.1 cligj-0.7.2 fiona-1.9.6 geopandas-0.14.3 osmnx-1.9.2 pyproj-3.6.1 shapely-2.0.3\n",
      "Requirement already satisfied: tqdm in /opt/anaconda3/lib/python3.11/site-packages (4.65.0)\n"
     ]
    }
   ],
   "source": [
    "##### Install packages\n",
    "!pip install osmnx\n",
    "!pip install tqdm"
   ]
  },
  {
   "cell_type": "code",
   "execution_count": 4,
   "metadata": {},
   "outputs": [],
   "source": [
    "#Import core libraries\n",
    "import requests\n",
    "import pandas as pd\n",
    "import numpy as np\n",
    "import os\n",
    "\n",
    "import seaborn as sns\n",
    "import matplotlib.pyplot as plt\n",
    "import json\n",
    "\n",
    "import ipywidgets as widgets\n",
    "from ipywidgets import interact\n",
    "\n",
    "import osmnx as ox\n",
    "import geopandas as gpd\n",
    "import networkx as nx\n",
    "\n",
    "from sklearn.preprocessing import LabelEncoder\n",
    "from sklearn.model_selection import train_test_split\n",
    "from sklearn.ensemble import RandomForestRegressor\n",
    "from sklearn.metrics import mean_squared_error, r2_score\n",
    "from sklearn.preprocessing import StandardScaler\n",
    "\n",
    "import warnings\n",
    "warnings.filterwarnings(\"ignore\")"
   ]
  },
  {
   "cell_type": "code",
   "execution_count": 5,
   "metadata": {},
   "outputs": [],
   "source": [
    "# Define the company colors format for matplotlib\n",
    "dark_theme_colors = ['#08af64', '#14a38e', '#0f9295', '#056b8a', '#121212'] #Dark theme\n",
    "light_theme_colors = ['#2af598', '#22e4ac', '#1bd7bb', '#14c9cb', '#0fbed8', '#08b3e5'] #Light theme"
   ]
  },
  {
   "cell_type": "code",
   "execution_count": 6,
   "metadata": {},
   "outputs": [],
   "source": [
    "def fetch_data(base_url, dataset, api_key, num_records=99, offset=0):\n",
    "    all_records = []\n",
    "    max_offset = 9900\n",
    "\n",
    "    while True:\n",
    "        if offset > max_offset:\n",
    "            break\n",
    "\n",
    "        filters = f'{dataset}/records?limit={num_records}&offset={offset}'\n",
    "        url = f'{base_url}{filters}&api_key={api_key}'\n",
    "\n",
    "        try:\n",
    "            result = requests.get(url, timeout = 10)\n",
    "            result.raise_for_status()\n",
    "            records = result.json().get('results')\n",
    "        except requests.exceptions.RequestException as e:\n",
    "            raise Exception(f'API request failed: {e}')\n",
    "        if records is None:\n",
    "            break\n",
    "        all_records.extend(records)\n",
    "        if len(records) < num_records:\n",
    "            break\n",
    "\n",
    "        offset += num_records\n",
    "\n",
    "    df = pd.DataFrame(all_records)\n",
    "    return df\n",
    "\n",
    "BASE_URL = 'https://data.melbourne.vic.gov.au/api/explore/v2.1/catalog/datasets/'\n",
    "API_KEY = ''"
   ]
  }
 ],
 "metadata": {
  "kernelspec": {
   "display_name": "base",
   "language": "python",
   "name": "python3"
  },
  "language_info": {
   "codemirror_mode": {
    "name": "ipython",
    "version": 3
   },
   "file_extension": ".py",
   "mimetype": "text/x-python",
   "name": "python",
   "nbconvert_exporter": "python",
   "pygments_lexer": "ipython3",
   "version": "3.11.7"
  }
 },
 "nbformat": 4,
 "nbformat_minor": 2
}
