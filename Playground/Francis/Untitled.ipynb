{
 "cells": [
  {
   "cell_type": "code",
   "execution_count": 1,
   "id": "25928af9-1f53-42b5-9e69-a9eb6cf20f50",
   "metadata": {
    "scrolled": true
   },
   "outputs": [
    {
     "ename": "SyntaxError",
     "evalue": "unterminated string literal (detected at line 1) (4161716349.py, line 1)",
     "output_type": "error",
     "traceback": [
      "\u001b[0;36m  Cell \u001b[0;32mIn[1], line 1\u001b[0;36m\u001b[0m\n\u001b[0;31m    <div class=\"usecase-title\">Biodiversity in Melbourne's parks</div>\u001b[0m\n\u001b[0m                                                        ^\u001b[0m\n\u001b[0;31mSyntaxError\u001b[0m\u001b[0;31m:\u001b[0m unterminated string literal (detected at line 1)\n"
     ]
    }
   ],
   "source": [
    "<div class=\"usecase-title\">Biodiversity in Melbourne's parks</div>\n",
    "\n",
    "<div class=\"usecase-authors\"><b>Authored by: </b>Francis Rusli</div>\n",
    "\n",
    "<div class=\"usecase-date\"><b>Date: </b> April 2024</div>"
   ]
  },
  {
   "cell_type": "code",
   "execution_count": null,
   "id": "c13f6719-ec74-42ca-bda6-a1d0a700e1a8",
   "metadata": {},
   "outputs": [],
   "source": []
  }
 ],
 "metadata": {
  "kernelspec": {
   "display_name": "Python 3 (ipykernel)",
   "language": "python",
   "name": "python3"
  },
  "language_info": {
   "codemirror_mode": {
    "name": "ipython",
    "version": 3
   },
   "file_extension": ".py",
   "mimetype": "text/x-python",
   "name": "python",
   "nbconvert_exporter": "python",
   "pygments_lexer": "ipython3",
   "version": "3.11.7"
  }
 },
 "nbformat": 4,
 "nbformat_minor": 5
}
