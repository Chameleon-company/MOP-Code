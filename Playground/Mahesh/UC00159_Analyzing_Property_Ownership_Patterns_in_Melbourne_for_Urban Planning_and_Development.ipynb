{
 "cells": [
  {
   "cell_type": "markdown",
   "metadata": {
    "id": "n4wuGBkUKg1o"
   },
   "source": [
    "<div class=\"usecase-title\">Analyzing_Property_Ownership_Patterns_in_Melbourne_for_Urban Planning_and_Development</div>\n",
    "\n",
    "<div class=\"usecase-authors\"><b>Authored by: Mahesh chirra</b> </div>"
   ]
  },
  {
   "cell_type": "markdown",
   "metadata": {
    "id": "FHqHu3cDKg1o"
   },
   "source": [
    "<div class=\"usecase-duration\"><b>Duration:</b> 90 mins</div>\n",
    "\n",
    "<div class=\"usecase-level-skill\">\n",
    "    <div class=\"usecase-level\"><b>Level: </b>Intermediate</div>\n",
    "    <div class=\"usecase-skill\"><b>Pre-requisite Skills: </b>Python</div>\n",
    "</div>"
   ]
  },
  {
   "cell_type": "markdown",
   "metadata": {
    "id": "Kgq3j2ZXKg1p"
   },
   "source": [
    "<header>\n",
    "<h2>Introduction</h2>\n",
    "<div>The City of Melbourne’s Urban Planning Department is facing rapid population growth and increased pressure on infrastructure. To manage this growth sustainably, the city initiates a data-driven project using property ownership records, residential dwelling data, and business establishment datasets.</div>\n",
    "<header>\n",
    "<h2>Scenario</h2>       \n",
    "<div>I want to analyze land ownership, residential density, and business activity across Melbourne,so that I can uncover patterns in land use and identify opportunities for balanced urban growth.\n",
    "Property ownership data provides crucial insights into how land is currently utilized and where it may be underutilized. This analysis helps detect high-density zones that need infrastructure upgrades and low-activity areas suitable for redevelopment. The outcome will support strategic planning that aligns with sustainable development goals and improves overall city livability.I want to evaluate land utilization trends using integrated datasets,so that I can guide zoning policy and investment strategies for future growth.\n",
    "By combining property boundaries with residential and commercial data, this analysis helps pinpoint areas with high development potential or imbalanced land use. It enables evidence-based decisions that promote efficient land distribution, inform real estate investments, and foster community well-being through more equitable urban development.</div>\n",
    "<header>   \n",
    "<h2>DATASETS :</h2>\n",
    "<div>DATASET 1:https://data.melbourne.vic.gov.au/explore/dataset/property-boundaries/information/</div>\n",
    "    <div>TITLE:Property Boundaries Dataset</div>\n",
    "<div>The Property Boundaries Dataset defines land ownership, parcel boundaries, and zoning regulations across Melbourne. This comprehensive spatial information helps planners optimize land use, infrastructure development, and identify redevelopment opportunities in various neighborhoods.</div>\n",
    "    \n",
    "<div>DATASET 2:https://data.melbourne.vic.gov.au/explore/dataset/residential-dwellings/information/</div>\n",
    "    <div>TITLE:Residential Dwellings Datase</div>\n",
    "<div>The Residential Dwellings Dataset contains detailed information on housing density, dwelling types, and spatial distribution throughout Melbourne's metropolitan area. This valuable resource guides urban expansion initiatives, infrastructure planning decisions, and the development of affordable housing policies that address community needs.</div>\n",
    "    \n",
    "<div>DATASET 3:https://data.melbourne.vic.gov.au/explore/dataset/business-establishments-with-address-and-industry-classification/information/</div>\n",
    "    <div>TITLE:Business Establishments Dataset</div>\n",
    "<div>The Business Establishments Dataset maps commercial properties, industry classifications, and business locations across Melbourne's diverse neighborhoods. This rich dataset supports economic development planning, informs zoning regulation decisions, and highlights potential investment opportunities for developers and entrepreneurs.</div>\n"
   ]
  },
  {
   "cell_type": "markdown",
   "metadata": {},
   "source": [
    "# importing required libraries"
   ]
  },
  {
   "cell_type": "code",
   "execution_count": 9,
   "metadata": {},
   "outputs": [],
   "source": [
    "import numpy as np\n",
    "import pandas as pd\n",
    "from io import StringIO\n",
    "import matplotlib.pyplot as plt\n",
    "import seaborn as sns\n",
    "import requests\n",
    "import pandas as pd"
   ]
  },
  {
   "cell_type": "markdown",
   "metadata": {},
   "source": [
    "# datsets through api"
   ]
  },
  {
   "cell_type": "code",
   "execution_count": 2,
   "metadata": {
    "id": "8DpU4YKcjC8K"
   },
   "outputs": [
    {
     "name": "stdout",
     "output_type": "stream",
     "text": [
      "15171\n",
      "209162\n",
      "393878\n"
     ]
    }
   ],
   "source": [
    "def collect_data(dataset_id):\n",
    "    base_url = 'https://data.melbourne.vic.gov.au/api/explore/v2.1/catalog/datasets/'\n",
    "    dataset_id  = dataset_id\n",
    "    format='csv'\n",
    "\n",
    "    url = f'{base_url}{dataset_id}/exports/{format}'\n",
    "    params = {\n",
    "        'select': '*',\n",
    "        'limit' : -1,\n",
    "        'lang' : 'en',\n",
    "        'timezone' : 'UTC'\n",
    "    }\n",
    "\n",
    "    response = requests.get(url,params=params)\n",
    "\n",
    "    if response.status_code ==200:\n",
    "        url_content = response.content.decode('utf-8')\n",
    "        dataset = pd.read_csv(StringIO(url_content), delimiter=';')\n",
    "        return dataset\n",
    "    else:\n",
    "        print(f\"Request failed with status code: {response.status_code}\")\n",
    "# population_smallarea dataset\n",
    "dataset_id_1 = 'property-boundaries'\n",
    "dataset_id_2 = 'residential-dwellings'\n",
    "dataset_id_3 = 'business-establishments-with-address-and-industry-classification'\n",
    "\n",
    "property_boundaries= collect_data(dataset_id_1)\n",
    "residential_dwellings = collect_data(dataset_id_2)\n",
    "business_establishments = collect_data(dataset_id_3)\n",
    "\n",
    "print(len(property_boundaries))\n",
    "print(len(residential_dwellings))\n",
    "print(len(business_establishments))"
   ]
  },
  {
   "cell_type": "markdown",
   "metadata": {},
   "source": [
    "# DATA CLEANING\n",
    "*DATASET 1:In the Property Boundaries dataset, the initial data cleaning involved standardizing column names by removing unnecessary whitespace and converting them to lowercase to ensure consistency during analysis. The geo_point_2d field, which contained location coordinates as a single string, was split into separate latitude and longitude columns to facilitate spatial analysis and mapping."
   ]
  },
  {
   "cell_type": "code",
   "execution_count": 15,
   "metadata": {},
   "outputs": [
    {
     "data": {
      "text/html": [
       "<div>\n",
       "<style scoped>\n",
       "    .dataframe tbody tr th:only-of-type {\n",
       "        vertical-align: middle;\n",
       "    }\n",
       "\n",
       "    .dataframe tbody tr th {\n",
       "        vertical-align: top;\n",
       "    }\n",
       "\n",
       "    .dataframe thead th {\n",
       "        text-align: right;\n",
       "    }\n",
       "</style>\n",
       "<table border=\"1\" class=\"dataframe\">\n",
       "  <thead>\n",
       "    <tr style=\"text-align: right;\">\n",
       "      <th></th>\n",
       "      <th>json_geometry</th>\n",
       "      <th>polyarea</th>\n",
       "      <th>address</th>\n",
       "      <th>gis_id</th>\n",
       "      <th>property_id</th>\n",
       "      <th>property_name</th>\n",
       "      <th>date_updated</th>\n",
       "      <th>polygon</th>\n",
       "      <th>geo_point_2d</th>\n",
       "    </tr>\n",
       "  </thead>\n",
       "  <tbody>\n",
       "    <tr>\n",
       "      <th>0</th>\n",
       "      <td>{\"coordinates\": [[[144.9360734981, -37.7937398...</td>\n",
       "      <td>3</td>\n",
       "      <td>Western Link Lease Western Link Road WEST MELB...</td>\n",
       "      <td>13678</td>\n",
       "      <td>600432</td>\n",
       "      <td>Western Link Lease</td>\n",
       "      <td>20250328</td>\n",
       "      <td>POLYGON ((144.93607349806643 -37.7937398486385...</td>\n",
       "      <td>-37.79374885598507, 144.93607324739605</td>\n",
       "    </tr>\n",
       "    <tr>\n",
       "      <th>1</th>\n",
       "      <td>{\"coordinates\": [[[144.9505545804, -37.8142700...</td>\n",
       "      <td>5136</td>\n",
       "      <td>263-283 Spencer Street DOCKLANDS VIC 3008</td>\n",
       "      <td>13684</td>\n",
       "      <td>644320</td>\n",
       "      <td>Victoria Police Centre</td>\n",
       "      <td>20250328</td>\n",
       "      <td>POLYGON ((144.95055458035367 -37.8142700690472...</td>\n",
       "      <td>-37.814334023977956, 144.95122185789083</td>\n",
       "    </tr>\n",
       "    <tr>\n",
       "      <th>2</th>\n",
       "      <td>{\"coordinates\": [[[144.9622540987, -37.8059113...</td>\n",
       "      <td>1748</td>\n",
       "      <td>28-44 Bouverie Street CARLTON VIC 3053</td>\n",
       "      <td>13686</td>\n",
       "      <td>661088</td>\n",
       "      <td>NaN</td>\n",
       "      <td>20250328</td>\n",
       "      <td>POLYGON ((144.9622540986873 -37.80591139065004...</td>\n",
       "      <td>-37.805685875048724, 144.96194796910737</td>\n",
       "    </tr>\n",
       "    <tr>\n",
       "      <th>3</th>\n",
       "      <td>{\"coordinates\": [[[144.9567155773, -37.8110338...</td>\n",
       "      <td>1204</td>\n",
       "      <td>354-360 William Street MELBOURNE VIC 3000</td>\n",
       "      <td>13689</td>\n",
       "      <td>631819</td>\n",
       "      <td>NaN</td>\n",
       "      <td>20250328</td>\n",
       "      <td>POLYGON ((144.95671557731012 -37.8110338508576...</td>\n",
       "      <td>-37.81095461839001, 144.95645361367872</td>\n",
       "    </tr>\n",
       "    <tr>\n",
       "      <th>4</th>\n",
       "      <td>{\"coordinates\": [[[144.9435266604, -37.8243083...</td>\n",
       "      <td>601</td>\n",
       "      <td>101 River Esplanade DOCKLANDS VIC 3008</td>\n",
       "      <td>13691</td>\n",
       "      <td>645314</td>\n",
       "      <td>NaN</td>\n",
       "      <td>20250328</td>\n",
       "      <td>POLYGON ((144.94352666036724 -37.8243083614612...</td>\n",
       "      <td>-37.8239671526651, 144.94327382570947</td>\n",
       "    </tr>\n",
       "  </tbody>\n",
       "</table>\n",
       "</div>"
      ],
      "text/plain": [
       "                                       json_geometry  polyarea  \\\n",
       "0  {\"coordinates\": [[[144.9360734981, -37.7937398...         3   \n",
       "1  {\"coordinates\": [[[144.9505545804, -37.8142700...      5136   \n",
       "2  {\"coordinates\": [[[144.9622540987, -37.8059113...      1748   \n",
       "3  {\"coordinates\": [[[144.9567155773, -37.8110338...      1204   \n",
       "4  {\"coordinates\": [[[144.9435266604, -37.8243083...       601   \n",
       "\n",
       "                                             address  gis_id  property_id  \\\n",
       "0  Western Link Lease Western Link Road WEST MELB...   13678       600432   \n",
       "1          263-283 Spencer Street DOCKLANDS VIC 3008   13684       644320   \n",
       "2             28-44 Bouverie Street CARLTON VIC 3053   13686       661088   \n",
       "3          354-360 William Street MELBOURNE VIC 3000   13689       631819   \n",
       "4             101 River Esplanade DOCKLANDS VIC 3008   13691       645314   \n",
       "\n",
       "            property_name  date_updated  \\\n",
       "0      Western Link Lease      20250328   \n",
       "1  Victoria Police Centre      20250328   \n",
       "2                     NaN      20250328   \n",
       "3                     NaN      20250328   \n",
       "4                     NaN      20250328   \n",
       "\n",
       "                                             polygon  \\\n",
       "0  POLYGON ((144.93607349806643 -37.7937398486385...   \n",
       "1  POLYGON ((144.95055458035367 -37.8142700690472...   \n",
       "2  POLYGON ((144.9622540986873 -37.80591139065004...   \n",
       "3  POLYGON ((144.95671557731012 -37.8110338508576...   \n",
       "4  POLYGON ((144.94352666036724 -37.8243083614612...   \n",
       "\n",
       "                              geo_point_2d  \n",
       "0   -37.79374885598507, 144.93607324739605  \n",
       "1  -37.814334023977956, 144.95122185789083  \n",
       "2  -37.805685875048724, 144.96194796910737  \n",
       "3   -37.81095461839001, 144.95645361367872  \n",
       "4    -37.8239671526651, 144.94327382570947  "
      ]
     },
     "execution_count": 15,
     "metadata": {},
     "output_type": "execute_result"
    }
   ],
   "source": [
    "property_boundaries.head()"
   ]
  },
  {
   "cell_type": "code",
   "execution_count": 16,
   "metadata": {},
   "outputs": [],
   "source": [
    "property_boundaries.columns = property_boundaries.columns.str.strip().str.lower()\n"
   ]
  },
  {
   "cell_type": "code",
   "execution_count": 17,
   "metadata": {},
   "outputs": [],
   "source": [
    "property_boundaries[['Latitude', 'Longitude']] = property_boundaries['geo_point_2d'].str.split(',', expand=True).astype(float)"
   ]
  },
  {
   "cell_type": "code",
   "execution_count": 18,
   "metadata": {},
   "outputs": [
    {
     "data": {
      "text/plain": [
       "json_geometry        0\n",
       "polyarea             0\n",
       "address              0\n",
       "gis_id               0\n",
       "property_id          0\n",
       "property_name    11778\n",
       "date_updated         0\n",
       "polygon              0\n",
       "geo_point_2d         0\n",
       "Latitude             0\n",
       "Longitude            0\n",
       "dtype: int64"
      ]
     },
     "execution_count": 18,
     "metadata": {},
     "output_type": "execute_result"
    }
   ],
   "source": [
    "property_boundaries.isnull().sum()"
   ]
  },
  {
   "cell_type": "code",
   "execution_count": 20,
   "metadata": {},
   "outputs": [],
   "source": [
    "property_boundaries['property_name'] = property_boundaries['property_name'].fillna('Unknown')"
   ]
  },
  {
   "cell_type": "code",
   "execution_count": 21,
   "metadata": {},
   "outputs": [
    {
     "data": {
      "text/plain": [
       "json_geometry    0\n",
       "polyarea         0\n",
       "address          0\n",
       "gis_id           0\n",
       "property_id      0\n",
       "property_name    0\n",
       "date_updated     0\n",
       "polygon          0\n",
       "geo_point_2d     0\n",
       "Latitude         0\n",
       "Longitude        0\n",
       "dtype: int64"
      ]
     },
     "execution_count": 21,
     "metadata": {},
     "output_type": "execute_result"
    }
   ],
   "source": [
    "property_boundaries.isnull().sum()"
   ]
  },
  {
   "cell_type": "code",
   "execution_count": 23,
   "metadata": {},
   "outputs": [
    {
     "name": "stdout",
     "output_type": "stream",
     "text": [
      "15171\n"
     ]
    }
   ],
   "source": [
    "print(len(property_boundaries))"
   ]
  },
  {
   "cell_type": "markdown",
   "metadata": {},
   "source": [
    "*DATASET 2:In the Residential Dwellings dataset, the data cleaning process involved standardizing column names for consistency and identifying missing values, particularly in the latitude and longitude fields. Rows with missing geographic coordinates were removed to ensure accuracy in location-based analysis."
   ]
  },
  {
   "cell_type": "code",
   "execution_count": 24,
   "metadata": {},
   "outputs": [
    {
     "data": {
      "text/html": [
       "<div>\n",
       "<style scoped>\n",
       "    .dataframe tbody tr th:only-of-type {\n",
       "        vertical-align: middle;\n",
       "    }\n",
       "\n",
       "    .dataframe tbody tr th {\n",
       "        vertical-align: top;\n",
       "    }\n",
       "\n",
       "    .dataframe thead th {\n",
       "        text-align: right;\n",
       "    }\n",
       "</style>\n",
       "<table border=\"1\" class=\"dataframe\">\n",
       "  <thead>\n",
       "    <tr style=\"text-align: right;\">\n",
       "      <th></th>\n",
       "      <th>census_year</th>\n",
       "      <th>block_id</th>\n",
       "      <th>property_id</th>\n",
       "      <th>base_property_id</th>\n",
       "      <th>building_address</th>\n",
       "      <th>clue_small_area</th>\n",
       "      <th>dwelling_type</th>\n",
       "      <th>dwelling_number</th>\n",
       "      <th>longitude</th>\n",
       "      <th>latitude</th>\n",
       "      <th>location</th>\n",
       "    </tr>\n",
       "  </thead>\n",
       "  <tbody>\n",
       "    <tr>\n",
       "      <th>0</th>\n",
       "      <td>2002</td>\n",
       "      <td>13</td>\n",
       "      <td>103954</td>\n",
       "      <td>103954</td>\n",
       "      <td>381-387 Flinders Lane MELBOURNE 3000</td>\n",
       "      <td>Melbourne (CBD)</td>\n",
       "      <td>Residential Apartments</td>\n",
       "      <td>2</td>\n",
       "      <td>144.961399</td>\n",
       "      <td>-37.818252</td>\n",
       "      <td>-37.81825225091258, 144.96139854749805</td>\n",
       "    </tr>\n",
       "    <tr>\n",
       "      <th>1</th>\n",
       "      <td>2002</td>\n",
       "      <td>13</td>\n",
       "      <td>106435</td>\n",
       "      <td>106435</td>\n",
       "      <td>21-31 Market Street MELBOURNE 3000</td>\n",
       "      <td>Melbourne (CBD)</td>\n",
       "      <td>Residential Apartments</td>\n",
       "      <td>111</td>\n",
       "      <td>144.960430</td>\n",
       "      <td>-37.818647</td>\n",
       "      <td>-37.818646932212395, 144.96042989133713</td>\n",
       "    </tr>\n",
       "    <tr>\n",
       "      <th>2</th>\n",
       "      <td>2002</td>\n",
       "      <td>14</td>\n",
       "      <td>103165</td>\n",
       "      <td>103165</td>\n",
       "      <td>1-5 Elizabeth Street MELBOURNE 3000</td>\n",
       "      <td>Melbourne (CBD)</td>\n",
       "      <td>Residential Apartments</td>\n",
       "      <td>2</td>\n",
       "      <td>144.964617</td>\n",
       "      <td>-37.818058</td>\n",
       "      <td>-37.81805796983434, 144.96461741084877</td>\n",
       "    </tr>\n",
       "    <tr>\n",
       "      <th>3</th>\n",
       "      <td>2002</td>\n",
       "      <td>14</td>\n",
       "      <td>103911</td>\n",
       "      <td>103911</td>\n",
       "      <td>5-7 Flinders Court MELBOURNE 3000</td>\n",
       "      <td>Melbourne (CBD)</td>\n",
       "      <td>House/Townhouse</td>\n",
       "      <td>1</td>\n",
       "      <td>144.964163</td>\n",
       "      <td>-37.817759</td>\n",
       "      <td>-37.817759429593565, 144.96416338914727</td>\n",
       "    </tr>\n",
       "    <tr>\n",
       "      <th>4</th>\n",
       "      <td>2002</td>\n",
       "      <td>14</td>\n",
       "      <td>103949</td>\n",
       "      <td>103949</td>\n",
       "      <td>333 Flinders Lane MELBOURNE 3000</td>\n",
       "      <td>Melbourne (CBD)</td>\n",
       "      <td>Residential Apartments</td>\n",
       "      <td>2</td>\n",
       "      <td>144.963345</td>\n",
       "      <td>-37.817821</td>\n",
       "      <td>-37.81782053323523, 144.96334455749917</td>\n",
       "    </tr>\n",
       "  </tbody>\n",
       "</table>\n",
       "</div>"
      ],
      "text/plain": [
       "   census_year  block_id  property_id  base_property_id  \\\n",
       "0         2002        13       103954            103954   \n",
       "1         2002        13       106435            106435   \n",
       "2         2002        14       103165            103165   \n",
       "3         2002        14       103911            103911   \n",
       "4         2002        14       103949            103949   \n",
       "\n",
       "                       building_address  clue_small_area  \\\n",
       "0  381-387 Flinders Lane MELBOURNE 3000  Melbourne (CBD)   \n",
       "1    21-31 Market Street MELBOURNE 3000  Melbourne (CBD)   \n",
       "2   1-5 Elizabeth Street MELBOURNE 3000  Melbourne (CBD)   \n",
       "3     5-7 Flinders Court MELBOURNE 3000  Melbourne (CBD)   \n",
       "4      333 Flinders Lane MELBOURNE 3000  Melbourne (CBD)   \n",
       "\n",
       "            dwelling_type  dwelling_number   longitude   latitude  \\\n",
       "0  Residential Apartments                2  144.961399 -37.818252   \n",
       "1  Residential Apartments              111  144.960430 -37.818647   \n",
       "2  Residential Apartments                2  144.964617 -37.818058   \n",
       "3         House/Townhouse                1  144.964163 -37.817759   \n",
       "4  Residential Apartments                2  144.963345 -37.817821   \n",
       "\n",
       "                                  location  \n",
       "0   -37.81825225091258, 144.96139854749805  \n",
       "1  -37.818646932212395, 144.96042989133713  \n",
       "2   -37.81805796983434, 144.96461741084877  \n",
       "3  -37.817759429593565, 144.96416338914727  \n",
       "4   -37.81782053323523, 144.96334455749917  "
      ]
     },
     "execution_count": 24,
     "metadata": {},
     "output_type": "execute_result"
    }
   ],
   "source": [
    "residential_dwellings.head()"
   ]
  },
  {
   "cell_type": "code",
   "execution_count": 25,
   "metadata": {},
   "outputs": [
    {
     "data": {
      "text/plain": [
       "census_year            0\n",
       "block_id               0\n",
       "property_id            0\n",
       "base_property_id       0\n",
       "building_address       0\n",
       "clue_small_area        0\n",
       "dwelling_type          0\n",
       "dwelling_number        0\n",
       "longitude           2869\n",
       "latitude            2869\n",
       "location            2869\n",
       "dtype: int64"
      ]
     },
     "execution_count": 25,
     "metadata": {},
     "output_type": "execute_result"
    }
   ],
   "source": [
    "residential_dwellings.isnull().sum()"
   ]
  },
  {
   "cell_type": "code",
   "execution_count": 26,
   "metadata": {},
   "outputs": [],
   "source": [
    "residential_dwellings = residential_dwellings.dropna(subset=['latitude', 'longitude'])"
   ]
  },
  {
   "cell_type": "code",
   "execution_count": 27,
   "metadata": {},
   "outputs": [],
   "source": [
    "residential_dwellings['dwelling_type'] = residential_dwellings['dwelling_type'].astype('category')"
   ]
  },
  {
   "cell_type": "code",
   "execution_count": 28,
   "metadata": {},
   "outputs": [
    {
     "data": {
      "text/plain": [
       "census_year         0\n",
       "block_id            0\n",
       "property_id         0\n",
       "base_property_id    0\n",
       "building_address    0\n",
       "clue_small_area     0\n",
       "dwelling_type       0\n",
       "dwelling_number     0\n",
       "longitude           0\n",
       "latitude            0\n",
       "location            0\n",
       "dtype: int64"
      ]
     },
     "execution_count": 28,
     "metadata": {},
     "output_type": "execute_result"
    }
   ],
   "source": [
    "residential_dwellings.isnull().sum()"
   ]
  },
  {
   "cell_type": "markdown",
   "metadata": {},
   "source": [
    "*DATASET 3:In the Business Establishments dataset, cleaning involved standardizing column names and addressing missing values in key fields. Records with missing latitude and longitude were removed to maintain accuracy in geospatial analysis. Additionally, missing trading name values were filled with \"Unknown\" to preserve those entries for land use classification. These steps ensured the dataset was complete, consistent, and ready for integration with property and residential data."
   ]
  },
  {
   "cell_type": "code",
   "execution_count": 29,
   "metadata": {},
   "outputs": [
    {
     "data": {
      "text/html": [
       "<div>\n",
       "<style scoped>\n",
       "    .dataframe tbody tr th:only-of-type {\n",
       "        vertical-align: middle;\n",
       "    }\n",
       "\n",
       "    .dataframe tbody tr th {\n",
       "        vertical-align: top;\n",
       "    }\n",
       "\n",
       "    .dataframe thead th {\n",
       "        text-align: right;\n",
       "    }\n",
       "</style>\n",
       "<table border=\"1\" class=\"dataframe\">\n",
       "  <thead>\n",
       "    <tr style=\"text-align: right;\">\n",
       "      <th></th>\n",
       "      <th>census_year</th>\n",
       "      <th>block_id</th>\n",
       "      <th>property_id</th>\n",
       "      <th>base_property_id</th>\n",
       "      <th>clue_small_area</th>\n",
       "      <th>trading_name</th>\n",
       "      <th>business_address</th>\n",
       "      <th>industry_anzsic4_code</th>\n",
       "      <th>industry_anzsic4_description</th>\n",
       "      <th>longitude</th>\n",
       "      <th>latitude</th>\n",
       "      <th>point</th>\n",
       "    </tr>\n",
       "  </thead>\n",
       "  <tbody>\n",
       "    <tr>\n",
       "      <th>0</th>\n",
       "      <td>2008</td>\n",
       "      <td>1007</td>\n",
       "      <td>557160</td>\n",
       "      <td>557160</td>\n",
       "      <td>West Melbourne (Industrial)</td>\n",
       "      <td>Australian Bulk Alliance</td>\n",
       "      <td>18 Enterprize Road WEST MELBOURNE 3003</td>\n",
       "      <td>5309</td>\n",
       "      <td>Other Warehousing and Storage Services</td>\n",
       "      <td>144.928829</td>\n",
       "      <td>-37.813597</td>\n",
       "      <td>-37.8135968481, 144.92882938462844</td>\n",
       "    </tr>\n",
       "    <tr>\n",
       "      <th>1</th>\n",
       "      <td>2008</td>\n",
       "      <td>1007</td>\n",
       "      <td>612871</td>\n",
       "      <td>612871</td>\n",
       "      <td>West Melbourne (Industrial)</td>\n",
       "      <td>Port of Melbourne Corporation</td>\n",
       "      <td>Adjacent 499-623 Footscray Road WEST MELBOURNE...</td>\n",
       "      <td>5212</td>\n",
       "      <td>Port and Water Transport Terminal Operations</td>\n",
       "      <td>144.920609</td>\n",
       "      <td>-37.808462</td>\n",
       "      <td>-37.808461523999995, 144.92060866455546</td>\n",
       "    </tr>\n",
       "    <tr>\n",
       "      <th>2</th>\n",
       "      <td>2008</td>\n",
       "      <td>1007</td>\n",
       "      <td>612881</td>\n",
       "      <td>612881</td>\n",
       "      <td>West Melbourne (Industrial)</td>\n",
       "      <td>Port of Melbourne Corporation</td>\n",
       "      <td>74 Appleton Dock Road WEST MELBOURNE 3003</td>\n",
       "      <td>5212</td>\n",
       "      <td>Port and Water Transport Terminal Operations</td>\n",
       "      <td>144.925173</td>\n",
       "      <td>-37.814461</td>\n",
       "      <td>-37.814461481799995, 144.92517284472797</td>\n",
       "    </tr>\n",
       "    <tr>\n",
       "      <th>3</th>\n",
       "      <td>2008</td>\n",
       "      <td>1007</td>\n",
       "      <td>612882</td>\n",
       "      <td>612882</td>\n",
       "      <td>West Melbourne (Industrial)</td>\n",
       "      <td>Vacant</td>\n",
       "      <td>20 Enterprize Road WEST MELBOURNE 3003</td>\n",
       "      <td>0</td>\n",
       "      <td>Vacant Space</td>\n",
       "      <td>144.930528</td>\n",
       "      <td>-37.813192</td>\n",
       "      <td>-37.81319232635, 144.9305284261212</td>\n",
       "    </tr>\n",
       "    <tr>\n",
       "      <th>4</th>\n",
       "      <td>2008</td>\n",
       "      <td>1009</td>\n",
       "      <td>102954</td>\n",
       "      <td>102954</td>\n",
       "      <td>West Melbourne (Industrial)</td>\n",
       "      <td>Victorian Rail Track Corporation</td>\n",
       "      <td>Rear Level 3, 338-360 Dudley Street WEST MELBO...</td>\n",
       "      <td>4720</td>\n",
       "      <td>Rail Passenger Transport</td>\n",
       "      <td>144.943517</td>\n",
       "      <td>-37.811704</td>\n",
       "      <td>-37.81170358641947, 144.94351739145</td>\n",
       "    </tr>\n",
       "  </tbody>\n",
       "</table>\n",
       "</div>"
      ],
      "text/plain": [
       "   census_year  block_id  property_id  base_property_id  \\\n",
       "0         2008      1007       557160            557160   \n",
       "1         2008      1007       612871            612871   \n",
       "2         2008      1007       612881            612881   \n",
       "3         2008      1007       612882            612882   \n",
       "4         2008      1009       102954            102954   \n",
       "\n",
       "               clue_small_area                      trading_name  \\\n",
       "0  West Melbourne (Industrial)          Australian Bulk Alliance   \n",
       "1  West Melbourne (Industrial)     Port of Melbourne Corporation   \n",
       "2  West Melbourne (Industrial)     Port of Melbourne Corporation   \n",
       "3  West Melbourne (Industrial)                            Vacant   \n",
       "4  West Melbourne (Industrial)  Victorian Rail Track Corporation   \n",
       "\n",
       "                                    business_address  industry_anzsic4_code  \\\n",
       "0             18 Enterprize Road WEST MELBOURNE 3003                   5309   \n",
       "1  Adjacent 499-623 Footscray Road WEST MELBOURNE...                   5212   \n",
       "2          74 Appleton Dock Road WEST MELBOURNE 3003                   5212   \n",
       "3             20 Enterprize Road WEST MELBOURNE 3003                      0   \n",
       "4  Rear Level 3, 338-360 Dudley Street WEST MELBO...                   4720   \n",
       "\n",
       "                   industry_anzsic4_description   longitude   latitude  \\\n",
       "0        Other Warehousing and Storage Services  144.928829 -37.813597   \n",
       "1  Port and Water Transport Terminal Operations  144.920609 -37.808462   \n",
       "2  Port and Water Transport Terminal Operations  144.925173 -37.814461   \n",
       "3                                  Vacant Space  144.930528 -37.813192   \n",
       "4                      Rail Passenger Transport  144.943517 -37.811704   \n",
       "\n",
       "                                     point  \n",
       "0       -37.8135968481, 144.92882938462844  \n",
       "1  -37.808461523999995, 144.92060866455546  \n",
       "2  -37.814461481799995, 144.92517284472797  \n",
       "3       -37.81319232635, 144.9305284261212  \n",
       "4      -37.81170358641947, 144.94351739145  "
      ]
     },
     "execution_count": 29,
     "metadata": {},
     "output_type": "execute_result"
    }
   ],
   "source": [
    "business_establishments.head()"
   ]
  },
  {
   "cell_type": "code",
   "execution_count": 30,
   "metadata": {},
   "outputs": [
    {
     "data": {
      "text/plain": [
       "census_year                        0\n",
       "block_id                           0\n",
       "property_id                        0\n",
       "base_property_id                   0\n",
       "clue_small_area                    0\n",
       "trading_name                     127\n",
       "business_address                   1\n",
       "industry_anzsic4_code              0\n",
       "industry_anzsic4_description       0\n",
       "longitude                       4785\n",
       "latitude                        4785\n",
       "point                           4785\n",
       "dtype: int64"
      ]
     },
     "execution_count": 30,
     "metadata": {},
     "output_type": "execute_result"
    }
   ],
   "source": [
    "business_establishments.isnull().sum()"
   ]
  },
  {
   "cell_type": "code",
   "execution_count": 31,
   "metadata": {},
   "outputs": [],
   "source": [
    "business_establishments = business_establishments.dropna(subset=['latitude', 'longitude'])"
   ]
  },
  {
   "cell_type": "code",
   "execution_count": 32,
   "metadata": {},
   "outputs": [],
   "source": [
    "business_establishments['trading_name'] = business_establishments['trading_name'].fillna('Unknown')"
   ]
  },
  {
   "cell_type": "code",
   "execution_count": 33,
   "metadata": {},
   "outputs": [],
   "source": [
    "business_establishments = business_establishments.dropna(subset=['business_address'])"
   ]
  },
  {
   "cell_type": "code",
   "execution_count": 34,
   "metadata": {},
   "outputs": [
    {
     "data": {
      "text/plain": [
       "census_year                     0\n",
       "block_id                        0\n",
       "property_id                     0\n",
       "base_property_id                0\n",
       "clue_small_area                 0\n",
       "trading_name                    0\n",
       "business_address                0\n",
       "industry_anzsic4_code           0\n",
       "industry_anzsic4_description    0\n",
       "longitude                       0\n",
       "latitude                        0\n",
       "point                           0\n",
       "dtype: int64"
      ]
     },
     "execution_count": 34,
     "metadata": {},
     "output_type": "execute_result"
    }
   ],
   "source": [
    "business_establishments.isnull().sum()\n"
   ]
  },
  {
   "cell_type": "markdown",
   "metadata": {},
   "source": [
    "Distinguishing between residential, commercial, and mixed-use properties is a critical step in this use case, as it allows urban planners, developers, and policymakers to understand how land is currently utilized across Melbourne. By classifying properties based on their usage, we can identify areas that are densely populated, commercially active, or serve dual purposes—insights that are essential for informed decision-making. This classification helps highlight imbalances or opportunities in land use, supports zoning decisions, and guides investment strategies aimed at promoting sustainable urban growth, enhancing infrastructure planning, and improving community well-being."
   ]
  },
  {
   "cell_type": "code",
   "execution_count": 35,
   "metadata": {},
   "outputs": [],
   "source": [
    "residential_ids = set(residential_dwellings['property_id'].unique())\n",
    "business_ids = set(business_establishments['property_id'].unique())"
   ]
  },
  {
   "cell_type": "code",
   "execution_count": 36,
   "metadata": {},
   "outputs": [],
   "source": [
    "def classify_land_use(property_id):\n",
    "    in_residential = property_id in residential_ids\n",
    "    in_business = property_id in business_ids\n",
    "    if in_residential and in_business:\n",
    "        return \"Mixed-Use\"\n",
    "    elif in_residential:\n",
    "        return \"Residential\"\n",
    "    elif in_business:\n",
    "        return \"Commercial\"\n",
    "    else:\n",
    "        return \"Unclassified\""
   ]
  },
  {
   "cell_type": "code",
   "execution_count": 37,
   "metadata": {},
   "outputs": [],
   "source": [
    "property_boundaries['land_use_type'] = property_boundaries['property_id'].apply(classify_land_use)"
   ]
  },
  {
   "cell_type": "code",
   "execution_count": 38,
   "metadata": {},
   "outputs": [
    {
     "data": {
      "text/html": [
       "<div>\n",
       "<style scoped>\n",
       "    .dataframe tbody tr th:only-of-type {\n",
       "        vertical-align: middle;\n",
       "    }\n",
       "\n",
       "    .dataframe tbody tr th {\n",
       "        vertical-align: top;\n",
       "    }\n",
       "\n",
       "    .dataframe thead th {\n",
       "        text-align: right;\n",
       "    }\n",
       "</style>\n",
       "<table border=\"1\" class=\"dataframe\">\n",
       "  <thead>\n",
       "    <tr style=\"text-align: right;\">\n",
       "      <th></th>\n",
       "      <th>json_geometry</th>\n",
       "      <th>polyarea</th>\n",
       "      <th>address</th>\n",
       "      <th>gis_id</th>\n",
       "      <th>property_id</th>\n",
       "      <th>property_name</th>\n",
       "      <th>date_updated</th>\n",
       "      <th>polygon</th>\n",
       "      <th>geo_point_2d</th>\n",
       "      <th>Latitude</th>\n",
       "      <th>Longitude</th>\n",
       "      <th>land_use_type</th>\n",
       "    </tr>\n",
       "  </thead>\n",
       "  <tbody>\n",
       "    <tr>\n",
       "      <th>0</th>\n",
       "      <td>{\"coordinates\": [[[144.9360734981, -37.7937398...</td>\n",
       "      <td>3</td>\n",
       "      <td>Western Link Lease Western Link Road WEST MELB...</td>\n",
       "      <td>13678</td>\n",
       "      <td>600432</td>\n",
       "      <td>Western Link Lease</td>\n",
       "      <td>20250328</td>\n",
       "      <td>POLYGON ((144.93607349806643 -37.7937398486385...</td>\n",
       "      <td>-37.79374885598507, 144.93607324739605</td>\n",
       "      <td>-37.793749</td>\n",
       "      <td>144.936073</td>\n",
       "      <td>Unclassified</td>\n",
       "    </tr>\n",
       "    <tr>\n",
       "      <th>1</th>\n",
       "      <td>{\"coordinates\": [[[144.9505545804, -37.8142700...</td>\n",
       "      <td>5136</td>\n",
       "      <td>263-283 Spencer Street DOCKLANDS VIC 3008</td>\n",
       "      <td>13684</td>\n",
       "      <td>644320</td>\n",
       "      <td>Victoria Police Centre</td>\n",
       "      <td>20250328</td>\n",
       "      <td>POLYGON ((144.95055458035367 -37.8142700690472...</td>\n",
       "      <td>-37.814334023977956, 144.95122185789083</td>\n",
       "      <td>-37.814334</td>\n",
       "      <td>144.951222</td>\n",
       "      <td>Commercial</td>\n",
       "    </tr>\n",
       "    <tr>\n",
       "      <th>2</th>\n",
       "      <td>{\"coordinates\": [[[144.9622540987, -37.8059113...</td>\n",
       "      <td>1748</td>\n",
       "      <td>28-44 Bouverie Street CARLTON VIC 3053</td>\n",
       "      <td>13686</td>\n",
       "      <td>661088</td>\n",
       "      <td>Unknown</td>\n",
       "      <td>20250328</td>\n",
       "      <td>POLYGON ((144.9622540986873 -37.80591139065004...</td>\n",
       "      <td>-37.805685875048724, 144.96194796910737</td>\n",
       "      <td>-37.805686</td>\n",
       "      <td>144.961948</td>\n",
       "      <td>Mixed-Use</td>\n",
       "    </tr>\n",
       "    <tr>\n",
       "      <th>3</th>\n",
       "      <td>{\"coordinates\": [[[144.9567155773, -37.8110338...</td>\n",
       "      <td>1204</td>\n",
       "      <td>354-360 William Street MELBOURNE VIC 3000</td>\n",
       "      <td>13689</td>\n",
       "      <td>631819</td>\n",
       "      <td>Unknown</td>\n",
       "      <td>20250328</td>\n",
       "      <td>POLYGON ((144.95671557731012 -37.8110338508576...</td>\n",
       "      <td>-37.81095461839001, 144.95645361367872</td>\n",
       "      <td>-37.810955</td>\n",
       "      <td>144.956454</td>\n",
       "      <td>Commercial</td>\n",
       "    </tr>\n",
       "    <tr>\n",
       "      <th>4</th>\n",
       "      <td>{\"coordinates\": [[[144.9435266604, -37.8243083...</td>\n",
       "      <td>601</td>\n",
       "      <td>101 River Esplanade DOCKLANDS VIC 3008</td>\n",
       "      <td>13691</td>\n",
       "      <td>645314</td>\n",
       "      <td>Unknown</td>\n",
       "      <td>20250328</td>\n",
       "      <td>POLYGON ((144.94352666036724 -37.8243083614612...</td>\n",
       "      <td>-37.8239671526651, 144.94327382570947</td>\n",
       "      <td>-37.823967</td>\n",
       "      <td>144.943274</td>\n",
       "      <td>Unclassified</td>\n",
       "    </tr>\n",
       "  </tbody>\n",
       "</table>\n",
       "</div>"
      ],
      "text/plain": [
       "                                       json_geometry  polyarea  \\\n",
       "0  {\"coordinates\": [[[144.9360734981, -37.7937398...         3   \n",
       "1  {\"coordinates\": [[[144.9505545804, -37.8142700...      5136   \n",
       "2  {\"coordinates\": [[[144.9622540987, -37.8059113...      1748   \n",
       "3  {\"coordinates\": [[[144.9567155773, -37.8110338...      1204   \n",
       "4  {\"coordinates\": [[[144.9435266604, -37.8243083...       601   \n",
       "\n",
       "                                             address  gis_id  property_id  \\\n",
       "0  Western Link Lease Western Link Road WEST MELB...   13678       600432   \n",
       "1          263-283 Spencer Street DOCKLANDS VIC 3008   13684       644320   \n",
       "2             28-44 Bouverie Street CARLTON VIC 3053   13686       661088   \n",
       "3          354-360 William Street MELBOURNE VIC 3000   13689       631819   \n",
       "4             101 River Esplanade DOCKLANDS VIC 3008   13691       645314   \n",
       "\n",
       "            property_name  date_updated  \\\n",
       "0      Western Link Lease      20250328   \n",
       "1  Victoria Police Centre      20250328   \n",
       "2                 Unknown      20250328   \n",
       "3                 Unknown      20250328   \n",
       "4                 Unknown      20250328   \n",
       "\n",
       "                                             polygon  \\\n",
       "0  POLYGON ((144.93607349806643 -37.7937398486385...   \n",
       "1  POLYGON ((144.95055458035367 -37.8142700690472...   \n",
       "2  POLYGON ((144.9622540986873 -37.80591139065004...   \n",
       "3  POLYGON ((144.95671557731012 -37.8110338508576...   \n",
       "4  POLYGON ((144.94352666036724 -37.8243083614612...   \n",
       "\n",
       "                              geo_point_2d   Latitude   Longitude  \\\n",
       "0   -37.79374885598507, 144.93607324739605 -37.793749  144.936073   \n",
       "1  -37.814334023977956, 144.95122185789083 -37.814334  144.951222   \n",
       "2  -37.805685875048724, 144.96194796910737 -37.805686  144.961948   \n",
       "3   -37.81095461839001, 144.95645361367872 -37.810955  144.956454   \n",
       "4    -37.8239671526651, 144.94327382570947 -37.823967  144.943274   \n",
       "\n",
       "  land_use_type  \n",
       "0  Unclassified  \n",
       "1    Commercial  \n",
       "2     Mixed-Use  \n",
       "3    Commercial  \n",
       "4  Unclassified  "
      ]
     },
     "execution_count": 38,
     "metadata": {},
     "output_type": "execute_result"
    }
   ],
   "source": [
    "property_boundaries.head()"
   ]
  },
  {
   "cell_type": "code",
   "execution_count": 39,
   "metadata": {},
   "outputs": [],
   "source": [
    "land_use_summary = property_boundaries['land_use_type'].value_counts().reset_index()\n",
    "land_use_summary.columns = ['land_use_type', 'count']"
   ]
  },
  {
   "cell_type": "code",
   "execution_count": 40,
   "metadata": {},
   "outputs": [
    {
     "name": "stdout",
     "output_type": "stream",
     "text": [
      "  land_use_type  count\n",
      "0   Residential   8870\n",
      "1    Commercial   3914\n",
      "2     Mixed-Use   1966\n",
      "3  Unclassified    421\n"
     ]
    }
   ],
   "source": [
    "print(land_use_summary)"
   ]
  },
  {
   "cell_type": "markdown",
   "metadata": {},
   "source": [
    "# VISUALIZATION"
   ]
  },
  {
   "cell_type": "code",
   "execution_count": 41,
   "metadata": {},
   "outputs": [
    {
     "data": {
      "image/png": "[encoded data removed]",
      "text/plain": [
       "<Figure size 800x800 with 1 Axes>"
      ]
     },
     "metadata": {},
     "output_type": "display_data"
    }
   ],
   "source": [
    "plt.figure(figsize=(8, 8))\n",
    "plt.pie(\n",
    "    land_use_summary['count'],\n",
    "    labels=land_use_summary['land_use_type'],\n",
    "    autopct='%1.1f%%',       # Show percentages\n",
    "    startangle=140,         \n",
    "    wedgeprops={'edgecolor': 'black'} \n",
    ")\n",
    "\n",
    "plt.title(\"Land Use Distribution \")\n",
    "plt.axis('equal') \n",
    "plt.show()"
   ]
  },
  {
   "cell_type": "code",
   "execution_count": 42,
   "metadata": {},
   "outputs": [
    {
     "data": {
      "image/png": "[encoded data removed]",
      "text/plain": [
       "<Figure size 800x500 with 1 Axes>"
      ]
     },
     "metadata": {},
     "output_type": "display_data"
    }
   ],
   "source": [
    "colors = ['blue', 'orange', 'green', 'red']  \n",
    "plt.figure(figsize=(8, 5))\n",
    "plt.bar(land_use_summary['land_use_type'], land_use_summary['count'], color=colors)\n",
    "plt.title(\"Property Count by Land Use Type\")\n",
    "plt.xlabel(\"Land Use Type\")\n",
    "plt.ylabel(\"Number of Properties\")\n",
    "plt.xticks(rotation=45)\n",
    "plt.tight_layout()\n",
    "plt.show()"
   ]
  },
  {
   "cell_type": "markdown",
   "metadata": {},
   "source": [
    "This classification was essential to identify land use patterns throughout Melbourne, aligning directly with my use case of supporting urban planning and zoning decisions. I then summarized and visualized this classification using both a pie chart, which shows the percentage distribution of land use types, and a bar chart, which presents the actual count of properties in each category. These visual insights provide a clear understanding of how land is currently utilized, helping stakeholders make informed decisions about infrastructure, investment, and sustainable urban growth"
   ]
  }
 ],
 "metadata": {
  "colab": {
   "include_colab_link": true,
   "provenance": []
  },
  "kernelspec": {
   "display_name": "Python [conda env:base] *",
   "language": "python",
   "name": "conda-base-py"
  },
  "language_info": {
   "codemirror_mode": {
    "name": "ipython",
    "version": 3
   },
   "file_extension": ".py",
   "mimetype": "text/x-python",
   "name": "python",
   "nbconvert_exporter": "python",
   "pygments_lexer": "ipython3",
   "version": "3.12.7"
  },
  "vscode": {
   "interpreter": {
    "hash": "369f2c481f4da34e4445cda3fffd2e751bd1c4d706f27375911949ba6bb62e1c"
   }
  }
 },
 "nbformat": 4,
 "nbformat_minor": 4
}
