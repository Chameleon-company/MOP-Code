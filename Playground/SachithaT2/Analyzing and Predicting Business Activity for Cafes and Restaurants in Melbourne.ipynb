{
 "cells": [
  {
   "cell_type": "markdown",
   "metadata": {},
   "source": [
    "# **Analyzing and Predicting Business Activity for Cafes and Restaurants in Melbourne**"
   ]
  },
  {
   "cell_type": "markdown",
   "metadata": {},
   "source": [
    "**Authored by:** Sachitha Sadeepa Kasthuriarachchi\n",
    "\n",
    "**Duration:** TBD\n",
    "\n",
    "**Level:** Beginner/Intermediate\n",
    "\n",
    "**Pre-requisite Skills:**  Python Programming,Jupyter Notebooks,Power BI,Data Analysis,Machine Learning and Geospatial Analysis.\n"
   ]
  },
  {
   "cell_type": "markdown",
   "metadata": {},
   "source": [
    "**Background:**"
   ]
  },
  {
   "cell_type": "markdown",
   "metadata": {},
   "source": [
    "I am planning to open a new cafe in Melbourne and want to ensure that my business meets customer demands and adheres to area-specific trends. To help with this, I am using a comprehensive dataset of existing cafes and restaurants, which includes information about their seating capacity, location, industry type, and other relevant factors."
   ]
  },
  {
   "cell_type": "markdown",
   "metadata": {},
   "source": [
    "**Objectives:**"
   ]
  },
  {
   "cell_type": "markdown",
   "metadata": {},
   "source": [
    "1. Distribution Analysis: Understand the distribution of cafes and restaurants across different areas of Melbourne.\n",
    "\n",
    "2. Seating Capacity Analysis: Compare the seating capacity for indoor and outdoor seating.\n",
    "   \n",
    "3. Industry Analysis: Explore the prevalence of different industries within the cafes and restaurants sector.\n",
    "     \n",
    "4. Geospatial Analysis: Visualize the geographic distribution of cafes and restaurants across Melbourne.\n",
    "    \n",
    "5. Trend Analysis: Identify trends in business activity over different census years.\n",
    "\n",
    "6. Prediction Task: Develop a predictive model to forecast the number of seats based on various features."
   ]
  },
  {
   "cell_type": "markdown",
   "metadata": {},
   "source": [
    "**Scenario:**"
   ]
  },
  {
   "cell_type": "markdown",
   "metadata": {},
   "source": [
    "I am planning to open a new cafe in Melbourne. To ensure that my business is well-prepared to meet customer demands, I use data analysis and predictive analytics to gain valuable insights and make informed decisions.\n",
    "\n",
    "1. Distribution Analysis:  \n",
    "     - I start by visualizing the concentration of cafes and restaurants in various areas of Melbourne.\n",
    "     - I learn that certain areas, like the Melbourne CBD, have a high density of cafes and restaurants, which might indicate a competitive environment but   also a high customer base.\n",
    "2. Seating Capacity Analysis:  \n",
    "     - I analyze the average seating capacity for indoor and outdoor seating in different areas.\n",
    "     - This helps me decide whether to focus more on indoor or outdoor seating based on popular trends in my chosen location.\n",
    "3. Industry Analysis:\n",
    "     - I explore the prevalent types of businesses (e.g., pubs, takeaway food services) in my desired area.\n",
    "     - I discover that there is a higher concentration of takeaway food services, prompting me to consider whether I should incorporate a similar model or differentiate my cafe with unique offerings.      \n",
    "4. Geospatial Analysis:\n",
    "     - I use a map to highlight the geographic distribution of existing cafes and restaurants.\n",
    "     - I identify potential hotspots for my cafe where there is a demand for more dining options.\n",
    "5. Trend Analysis:\n",
    "     - I look at trends in business activity over recent years, highlighting growth areas and emerging neighborhoods.\n",
    "     - I notice an upward trend in new cafes opening in the suburbs, indicating a potential opportunity for less competition and growing customer interest.\n",
    "6. Prediction Task:\n",
    "     - using a predictive model, I receive an estimated optimal number of seats for my cafe based on my chosen location, industry type, and other relevant factors.\n",
    "     - The model predicts that my cafe should ideally have around 50 indoor seats and 20 outdoor seats to maximize customer satisfaction and business efficiency.\n",
    "\n",
    "This scenario demonstrates how data analysis and predictive modeling can provide practical support for launching a successful cafe in Melbourne, helping me meet customer demands and optimize business performance.\n"
   ]
  },
  {
   "cell_type": "markdown",
   "metadata": {},
   "source": [
    "**Benefits:**"
   ]
  },
  {
   "cell_type": "markdown",
   "metadata": {},
   "source": [
    "1. **Informed Decision-Making:** I use the insights provided by the data analysis to make data-driven decisions about my new cafe, reducing the risk of underestimating or overestimating seating capacity.\n",
    "\n",
    "2. **ompetitive Advantage:** By understanding local trends and customer preferences, I can tailor my business strategy to stand out in a competitive market.\n",
    "\n",
    "3. **Resource Optimization:** The predictive model helps me allocate resources effectively, ensuring I invest appropriately in indoor and outdoor seating based on demand forecasts."
   ]
  },
  {
   "cell_type": "markdown",
   "metadata": {},
   "source": [
    "## 1. Importing Data"
   ]
  },
  {
   "cell_type": "markdown",
   "metadata": {},
   "source": [
    "Below are the links to the four data sets that will be used in this for this use case."
   ]
  },
  {
   "cell_type": "markdown",
   "metadata": {},
   "source": [
    "[Data Set 1](https://data.melbourne.vic.gov.au/explore/dataset/cafes-and-restaurants-with-seating-capacity/information/) **Café, restaurant, bistro seats.** This dataset contains **60055** records."
   ]
  },
  {
   "cell_type": "markdown",
   "metadata": {},
   "source": [
    "[Data Set 2](https://data.melbourne.vic.gov.au/explore/dataset/blocks-for-census-of-land-use-and-employment-clue/information/?location=13,-37.80246,144.94417&basemap=mbs-7a7333) Blocks for Census of Land Use and Employment (CLUE)\n"
   ]
  },
  {
   "cell_type": "markdown",
   "metadata": {},
   "source": [
    "[Data Set 3](https://data.melbourne.vic.gov.au/explore/dataset/employment-by-block-by-clue-industry/information/) Jobs per CLUE industry for blocks\n"
   ]
  },
  {
   "cell_type": "markdown",
   "metadata": {},
   "source": [
    "[Data Set 4](https://data.melbourne.vic.gov.au/explore/dataset/floor-space-by-use-by-block/information/) Floor space per space use for blocks\n"
   ]
  },
  {
   "cell_type": "markdown",
   "metadata": {},
   "source": [
    "### 1.0 Dataset Imported through API"
   ]
  },
  {
   "cell_type": "code",
   "execution_count": 10,
   "metadata": {},
   "outputs": [],
   "source": [
    "import requests\n",
    "import pandas as pd\n",
    "from io import StringIO\n",
    "\n",
    "#Function to collect data\n",
    "def collect_data(dataset_id):\n",
    "    base_url = 'https://data.melbourne.vic.gov.au/api/explore/v2.1/catalog/datasets/'\n",
    "    #apikey = api_key #use if use datasets API_key permissions\n",
    "    dataset_id = dataset_id\n",
    "    format = 'csv'\n",
    "\n",
    "    url = f'{base_url}{dataset_id}/exports/{format}'\n",
    "    params = {\n",
    "        'select': '*',\n",
    "        'limit': -1,  # all records\n",
    "        'lang': 'en',\n",
    "        'timezone': 'UTC',\n",
    "        #'api_key': apikey  #use if use datasets API_key permissions\n",
    "    }\n",
    "\n",
    "    # GET request\n",
    "    response = requests.get(url, params=params)\n",
    "\n",
    "    if response.status_code == 200:\n",
    "        # StringIO to read the CSV data\n",
    "        url_content = response.content.decode('utf-8')\n",
    "        dataset = pd.read_csv(StringIO(url_content), delimiter=';')\n",
    "        return dataset\n",
    "    else:\n",
    "        print(f'Request failed with status code {response.status_code}')\n",
    "\n"
   ]
  },
  {
   "cell_type": "markdown",
   "metadata": {},
   "source": [
    "### 1.2 Call function to collect the dataset"
   ]
  },
  {
   "cell_type": "code",
   "execution_count": 9,
   "metadata": {},
   "outputs": [
    {
     "name": "stdout",
     "output_type": "stream",
     "text": [
      "The dataset contains 60055 records.\n"
     ]
    },
    {
     "data": {
      "text/html": [
       "<div>\n",
       "<style scoped>\n",
       "    .dataframe tbody tr th:only-of-type {\n",
       "        vertical-align: middle;\n",
       "    }\n",
       "\n",
       "    .dataframe tbody tr th {\n",
       "        vertical-align: top;\n",
       "    }\n",
       "\n",
       "    .dataframe thead th {\n",
       "        text-align: right;\n",
       "    }\n",
       "</style>\n",
       "<table border=\"1\" class=\"dataframe\">\n",
       "  <thead>\n",
       "    <tr style=\"text-align: right;\">\n",
       "      <th></th>\n",
       "      <th>census_year</th>\n",
       "      <th>block_id</th>\n",
       "      <th>property_id</th>\n",
       "      <th>base_property_id</th>\n",
       "      <th>building_address</th>\n",
       "      <th>clue_small_area</th>\n",
       "      <th>trading_name</th>\n",
       "      <th>business_address</th>\n",
       "      <th>industry_anzsic4_code</th>\n",
       "      <th>industry_anzsic4_description</th>\n",
       "      <th>seating_type</th>\n",
       "      <th>number_of_seats</th>\n",
       "      <th>longitude</th>\n",
       "      <th>latitude</th>\n",
       "      <th>location</th>\n",
       "    </tr>\n",
       "  </thead>\n",
       "  <tbody>\n",
       "    <tr>\n",
       "      <th>0</th>\n",
       "      <td>2017</td>\n",
       "      <td>6</td>\n",
       "      <td>578324</td>\n",
       "      <td>573333</td>\n",
       "      <td>2 Swanston Street MELBOURNE 3000</td>\n",
       "      <td>Melbourne (CBD)</td>\n",
       "      <td>Transport Hotel</td>\n",
       "      <td>Tenancy 29, Ground , 2 Swanston Street MELBOUR...</td>\n",
       "      <td>4520</td>\n",
       "      <td>Pubs, Taverns and Bars</td>\n",
       "      <td>Seats - Indoor</td>\n",
       "      <td>230</td>\n",
       "      <td>144.969942</td>\n",
       "      <td>-37.817778</td>\n",
       "      <td>-37.817777826050005, 144.96994164279243</td>\n",
       "    </tr>\n",
       "    <tr>\n",
       "      <th>1</th>\n",
       "      <td>2017</td>\n",
       "      <td>6</td>\n",
       "      <td>578324</td>\n",
       "      <td>573333</td>\n",
       "      <td>2 Swanston Street MELBOURNE 3000</td>\n",
       "      <td>Melbourne (CBD)</td>\n",
       "      <td>Transport Hotel</td>\n",
       "      <td>Tenancy 29, Ground , 2 Swanston Street MELBOUR...</td>\n",
       "      <td>4520</td>\n",
       "      <td>Pubs, Taverns and Bars</td>\n",
       "      <td>Seats - Outdoor</td>\n",
       "      <td>120</td>\n",
       "      <td>144.969942</td>\n",
       "      <td>-37.817778</td>\n",
       "      <td>-37.817777826050005, 144.96994164279243</td>\n",
       "    </tr>\n",
       "    <tr>\n",
       "      <th>2</th>\n",
       "      <td>2017</td>\n",
       "      <td>11</td>\n",
       "      <td>103957</td>\n",
       "      <td>103957</td>\n",
       "      <td>517-537 Flinders Lane MELBOURNE 3000</td>\n",
       "      <td>Melbourne (CBD)</td>\n",
       "      <td>Altius Coffee Brewers</td>\n",
       "      <td>Shop , Ground , 517 Flinders Lane MELBOURNE 3000</td>\n",
       "      <td>4512</td>\n",
       "      <td>Takeaway Food Services</td>\n",
       "      <td>Seats - Outdoor</td>\n",
       "      <td>4</td>\n",
       "      <td>144.956486</td>\n",
       "      <td>-37.819875</td>\n",
       "      <td>-37.819875445799994, 144.95648638781466</td>\n",
       "    </tr>\n",
       "  </tbody>\n",
       "</table>\n",
       "</div>"
      ],
      "text/plain": [
       "   census_year  block_id  property_id  base_property_id  \\\n",
       "0         2017         6       578324            573333   \n",
       "1         2017         6       578324            573333   \n",
       "2         2017        11       103957            103957   \n",
       "\n",
       "                       building_address  clue_small_area  \\\n",
       "0      2 Swanston Street MELBOURNE 3000  Melbourne (CBD)   \n",
       "1      2 Swanston Street MELBOURNE 3000  Melbourne (CBD)   \n",
       "2  517-537 Flinders Lane MELBOURNE 3000  Melbourne (CBD)   \n",
       "\n",
       "            trading_name                                   business_address  \\\n",
       "0        Transport Hotel  Tenancy 29, Ground , 2 Swanston Street MELBOUR...   \n",
       "1        Transport Hotel  Tenancy 29, Ground , 2 Swanston Street MELBOUR...   \n",
       "2  Altius Coffee Brewers   Shop , Ground , 517 Flinders Lane MELBOURNE 3000   \n",
       "\n",
       "   industry_anzsic4_code industry_anzsic4_description     seating_type  \\\n",
       "0                   4520       Pubs, Taverns and Bars   Seats - Indoor   \n",
       "1                   4520       Pubs, Taverns and Bars  Seats - Outdoor   \n",
       "2                   4512       Takeaway Food Services  Seats - Outdoor   \n",
       "\n",
       "   number_of_seats   longitude   latitude  \\\n",
       "0              230  144.969942 -37.817778   \n",
       "1              120  144.969942 -37.817778   \n",
       "2                4  144.956486 -37.819875   \n",
       "\n",
       "                                  location  \n",
       "0  -37.817777826050005, 144.96994164279243  \n",
       "1  -37.817777826050005, 144.96994164279243  \n",
       "2  -37.819875445799994, 144.95648638781466  "
      ]
     },
     "execution_count": 9,
     "metadata": {},
     "output_type": "execute_result"
    }
   ],
   "source": [
    "# Set dataset_id to query for the API call dataset name\n",
    "dataset_id = 'cafes-and-restaurants-with-seating-capacity'\n",
    "# Save dataset to df varaible\n",
    "df = collect_data(dataset_id)\n",
    "# Check number of records in df\n",
    "print(f'The dataset contains {len(df)} records.')\n",
    "# View df\n",
    "df.head(3)"
   ]
  },
  {
   "cell_type": "markdown",
   "metadata": {},
   "source": [
    "## 2.0 Pre processing Data"
   ]
  },
  {
   "cell_type": "markdown",
   "metadata": {},
   "source": [
    "***\n",
    "\n",
    "_**DELETE BEFORE PUBLISHING**_\n",
    "\n",
    "## Style guide for use cases\n",
    "\n",
    "### Headers\n",
    "\n",
    "For styling within your markdown cells, there are two choices you can use for headers.\n",
    "\n",
    "1) You can use HTML classes specific to the use case styling:\n",
    "\n",
    "```<p class=\"usecase-subsection-header\">This is a subsection header.</p>```\n",
    "\n",
    "<p style=\"font-weight: bold; font-size: 1.2em;\">This is a subsection header.</p>\n",
    "\n",
    "```<p class=\"usecase-subsection-blurb\">This is a blurb header.</p>```\n",
    "\n",
    "<p style=\"font-weight: bold; font-size: 1em; font-style:italic;\">This is a blurb header.</p>\n",
    "\n",
    "\n",
    "2) Or if you like you can use the markdown header styles:\n",
    "\n",
    "```# for h1```\n",
    "\n",
    "```## for h2```\n",
    "\n",
    "```### for h3```\n",
    "\n",
    "```#### for h4```\n",
    "\n",
    "```##### for h5```\n",
    "\n",
    "## Plot colour schemes\n",
    "\n",
    "General advice:\n",
    "1. Use the same colour or colour palette throughout your notebook, unless variety is necessary\n",
    "2. Select a palette based on the type of data being represented\n",
    "3. Consider accessibility (colourblindness, low vision)\n",
    "\n",
    "#### 1) If all of your plots only use 1-2 colors use one of the company style colors:\n",
    "\n",
    "| Light theme | Dark Theme |\n",
    "|-----|-----|\n",
    "|<p style=\"color:#2af598;\">#2af598</p>|<p style=\"color:#08af64;\">#08af64</p>|\n",
    "|<p style=\"color:#22e4ac;\">#22e4ac</p>|<p style=\"color:#14a38e;\">#14a38e</p>|\n",
    "|<p style=\"color:#1bd7bb;\">#1bd7bb</p>|<p style=\"color:#0f9295;\">#0f9295</p>|\n",
    "|<p style=\"color:#14c9cb;\">#14c9cb</p>|<p style=\"color:#056b8a;\">#056b8a</p>|\n",
    "|<p style=\"color:#0fbed8;\">#0fbed8</p>|<p style=\"color:#121212;\">#121212</p>|\n",
    "|<p style=\"color:#08b3e5;\">#08b3e5</p>||\n",
    "\n",
    "\n",
    "#### 2) If your plot needs multiple colors, choose an appropriate palette using either of the following tutorials:\n",
    "- https://seaborn.pydata.org/tutorial/color_palettes.html\n",
    "- https://matplotlib.org/stable/tutorials/colors/colormaps.html\n",
    "\n",
    "#### 3) Consider accessibility as well.\n",
    "\n",
    "For qualitative plotting Seaborn's 'colorblind' palette is recommended. For maps with sequential or diverging it is recommended to use one of the Color Brewer schemes which can be previewed at https://colorbrewer2.org/.\n",
    "\n",
    "If you want to design your own colour scheme, it should use the same principles as Cynthia Brewer's research (with variation not only in hue but also, saturation or luminance).\n",
    "\n",
    "### References\n",
    "\n",
    "Be sure to acknowledge your sources and any attributions using links or a reference list.\n",
    "\n",
    "If you have quite a few references, you might wish to have a dedicated section for references at the end of your document, linked using footnote style numbers.\n",
    "\n",
    "You can connect your in-text reference by adding the number with a HTML link: ```<a href=\"#fn-1\">[1]</a>```\n",
    "\n",
    "and add a matching ID in the reference list using the ```<fn>``` tag: ```<fn id=\"fn-1\">[1] Author (Year) _Title_, Publisher, Publication location.</fn>```"
   ]
  },
  {
   "cell_type": "markdown",
   "metadata": {},
   "source": []
  }
 ],
 "metadata": {
  "kernelspec": {
   "display_name": "Python 3 (ipykernel)",
   "language": "python",
   "name": "python3"
  },
  "language_info": {
   "codemirror_mode": {
    "name": "ipython",
    "version": 3
   },
   "file_extension": ".py",
   "mimetype": "text/x-python",
   "name": "python",
   "nbconvert_exporter": "python",
   "pygments_lexer": "ipython3",
   "version": "3.11.7"
  },
  "vscode": {
   "interpreter": {
    "hash": "369f2c481f4da34e4445cda3fffd2e751bd1c4d706f27375911949ba6bb62e1c"
   }
  }
 },
 "nbformat": 4,
 "nbformat_minor": 4
}
