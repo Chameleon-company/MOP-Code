{
 "cells": [
  {
   "cell_type": "code",
   "execution_count": 1,
   "id": "23f6a5cf-9bcd-421c-962f-95f2d871e55c",
   "metadata": {},
   "outputs": [
    {
     "ename": "NameError",
     "evalue": "name 'library' is not defined",
     "output_type": "error",
     "traceback": [
      "\u001b[1;31m---------------------------------------------------------------------------\u001b[0m",
      "\u001b[1;31mNameError\u001b[0m                                 Traceback (most recent call last)",
      "Cell \u001b[1;32mIn[1], line 2\u001b[0m\n\u001b[0;32m      1\u001b[0m \u001b[38;5;66;03m# Load necessary libraries\u001b[39;00m\n\u001b[1;32m----> 2\u001b[0m \u001b[43mlibrary\u001b[49m(mgcv)\n\u001b[0;32m      3\u001b[0m library(gapminder)\n\u001b[0;32m      4\u001b[0m library(rsample)\n",
      "\u001b[1;31mNameError\u001b[0m: name 'library' is not defined"
     ]
    }
   ],
   "source": [
    "def API_Unlimited(datasetname): # pass in dataset name and api key\n",
    "    dataset_id = datasetname\n",
    "\n",
    "    base_url = 'https://data.melbourne.vic.gov.au/api/explore/v2.1/catalog/datasets/'\n",
    "    #apikey = api_key\n",
    "    dataset_id = dataset_id\n",
    "    format = 'csv'\n",
    "\n",
    "    url = f'{base_url}{dataset_id}/exports/{format}'\n",
    "    params = {\n",
    "        'select': '*',\n",
    "        'limit': -1,  # all records\n",
    "        'lang': 'en',\n",
    "        'timezone': 'UTC'\n",
    "    }\n",
    "\n",
    "    # GET request\n",
    "    response = requests.get(url, params=params)\n",
    "\n",
    "    if response.status_code == 200:\n",
    "        # StringIO to read the CSV data\n",
    "        url_content = response.content.decode('utf-8')\n",
    "        datasetname = pd.read_csv(StringIO(url_content), delimiter=';')\n",
    "        print(datasetname.sample(10, random_state=999)) # Test\n",
    "        return datasetname \n",
    "    else:\n",
    "        return (print(f'Request failed with status code {response.status_code}'))"
   ]
  },
  {
   "cell_type": "code",
   "execution_count": null,
   "id": "76b97f0f-3174-4d29-841a-ed6a8974c83c",
   "metadata": {},
   "outputs": [],
   "source": [
    "download_link_1 = 'laneways-with-greening-potential'\n",
    "download_link_2 = 'tree-planting-zone-schedules-with-years-urban-forest'\n",
    "\n",
    "\n",
    "# Use functions to download and load data\n",
    "laneway_df = API_Unlimited(download_link_1)\n",
    "urban_forest_df = API_Unlimited(download_link_2)"
   ]
  }
 ],
 "metadata": {
  "kernelspec": {
   "display_name": "Python 3 (ipykernel)",
   "language": "python",
   "name": "python3"
  },
  "language_info": {
   "codemirror_mode": {
    "name": "ipython",
    "version": 3
   },
   "file_extension": ".py",
   "mimetype": "text/x-python",
   "name": "python",
   "nbconvert_exporter": "python",
   "pygments_lexer": "ipython3",
   "version": "3.12.6"
  }
 },
 "nbformat": 4,
 "nbformat_minor": 5
}
