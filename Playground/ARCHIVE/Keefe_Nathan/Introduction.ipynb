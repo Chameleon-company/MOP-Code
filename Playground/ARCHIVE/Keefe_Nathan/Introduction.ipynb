{
 "cells": [
  {
   "cell_type": "markdown",
   "id": "d1bee6e5",
   "metadata": {},
   "source": [
    "# Urban Art Explorer\n",
    "__Authored by:__ Keefe Alpay and Nathan Clee <br>\n",
    "\n",
    "__Duration:__ 90 mins <br>\n",
    "__Level:__ Intermediate <br>\n",
    "__Pre-requisite Skills:__ Python <br>\n",
    "\n",
    "*** \n",
    "### Scenario \n",
    "* As a tourist, I wish to know the nearest art installation around the City of Melbourne. <br>\n",
    "* As the city council, we want our residents to experience public art installations aroudn the City of Melbourne.<br>\n",
    "\n",
    "### Exploratory Data Analysis Objectives \n",
    "The purpose of the Urban Art Explorer use case is for the public to experience the art pieces found all over the City of Melbourne.\n",
    "\n",
    "The goals for this analysis are:\n",
    "* Provide an interactive map of artworks dotted around the City of Melbourne.\n",
    "* Create a detailed intruction guide on how to use the platform.\n",
    "* Optimise for the search of artworks and provide a solution for artworks that does not have a photo.\n",
    "\n",
    "### Strategic Benefits for the City of Melbourne\n",
    "Urban Art Explorer can help the public in the following ways:\n",
    "* The use case is accessible for visitors and citizens, it is free of costs and simple to navigate. \n",
    "* The public can easily track down the artworks nearest to their locaiton, allowing them to create their own advenventure around the streets of Melbourne.\n",
    "* This use case can benefit the city council by helping them understand how visitors and citizens interact with the art installations.\n",
    "\n",
    "***\n",
    "## City Of Melbourne Open Data Datasets\n",
    "### Outdoor artworks\n",
    "The first dataset is\n",
    "*__[Outdoor artworks](https://data.melbourne.vic.gov.au/explore/dataset/outdoor-artworks/information/)__*\n",
    "\n",
    "### Public memorials and sculptures\n",
    "The second dataset is *__[Public memorials and sculptures](https://data.melbourne.vic.gov.au/explore/dataset/public-memorials-and-sculptures/information/)__* \n",
    "\n",
    "### Public artworks, fountains and monuments\n",
    "The third dataset is *__[Public artworks, fountains and monuments](https://data.melbourne.vic.gov.au/explore/dataset/public-artworks-fountains-and-monuments/information/?location=14,-37.80562,144.94844&basemap=mbs-7a7333)__*"
   ]
  },
  {
   "cell_type": "code",
   "execution_count": null,
   "id": "16b053db",
   "metadata": {},
   "outputs": [],
   "source": []
  }
 ],
 "metadata": {
  "kernelspec": {
   "display_name": "Python 3 (ipykernel)",
   "language": "python",
   "name": "python3"
  },
  "language_info": {
   "codemirror_mode": {
    "name": "ipython",
    "version": 3
   },
   "file_extension": ".py",
   "mimetype": "text/x-python",
   "name": "python",
   "nbconvert_exporter": "python",
   "pygments_lexer": "ipython3",
   "version": "3.9.16"
  }
 },
 "nbformat": 4,
 "nbformat_minor": 5
}
