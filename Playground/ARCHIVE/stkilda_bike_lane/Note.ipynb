{
 "cells": [
  {
   "cell_type": "markdown",
   "id": "dfcfe87b",
   "metadata": {},
   "source": [
    "# VICRoads St Kilda Bike Lane API"
   ]
  },
  {
   "cell_type": "markdown",
   "id": "5f26f33b",
   "metadata": {},
   "source": [
    " ## Scenarios "
   ]
  },
  {
   "cell_type": "markdown",
   "id": "f8ccecf7",
   "metadata": {},
   "source": [
    " ### Scenarios for St. Kilda Bikeland Road Development\n",
    "\n",
    "- If you're a cyclist or daily commuter who uses the St. Kilda Bikeland Road, you probably want to know where you can find the greatest bike parking, bathrooms, and other conveniences along your route. A user-friendly website or mobile app that incorporates real-time data to aid in efficient and safe driving would be greatly appreciated.\n",
    "\n",
    "- I hope that one day I'll be able to use information gathered about cyclists, motorists, and pedestrians on St. Kilda Bikeland Road to inform my work as a transportation planner or a member of city council. I'd like to have access to this information through an application programming interface (API) that gives me access to both current and historical information, as well as visualisations and other analytical tools.\n",
    "\n",
    "\n",
    "- Improvements to the St. Kilda Bikeland Road and other cycling facilities in the city have piqued my interest as a local homeowner or business owner because I'd like to see the results on traffic and pollution levels. I'd want to have this data presented in an approachable dashboard or other visualisation tool that can plot patterns over time and evaluate the relative merits of various transportation options.\n"
   ]
  },
  {
   "cell_type": "markdown",
   "id": "5a5c8c53",
   "metadata": {},
   "source": [
    "## Purpose\n",
    "\n",
    "The purpose of this project is to analyze the existing bicycle network and traffic count data in the City of Melbourne to plan for the development of a new bike lane network in St Kilda. The goal is to create a safe, efficient, and accessible bike lane network that encourages more people to cycle in the area, reducing traffic congestion and improving air quality.\n",
    "\n",
    "## Goals\n",
    "\n",
    "1. **Provide easy access to bike lane data**: The API should enable users to easily obtain information about the St Kilda bike lane, such as its location, dimensions, and current status.\n",
    "\n",
    "2. **Track usage statistics**: The API should allow for the collection and retrieval of usage statistics for the bike lane, helping stakeholders better understand its usage patterns and potential areas for improvement.\n",
    "\n",
    "3. **Monitor and manage maintenance**: The API should enable users to log and access maintenance records, helping ensure the bike lane is kept in optimal condition and reducing the likelihood of accidents or disruptions.\n",
    "\n",
    "4. **Facilitate integration with third-party applications**: The API should be designed with a clear and well-documented structure, making it easy for developers to integrate it into their applications and services.\n",
    "\n",
    "5. **Ensure data security and privacy**: The API should employ appropriate authentication and authorization mechanisms to protect the data it holds and ensure only authorized users can access and modify the information.\n",
    "\n",
    "6. **Long-term impact analysis**: The API should enable users to access historical data and trends related to bike lane usage, accidents, and traffic congestion, which can help inform decisions about cycling infrastructure and transportation planning.\n",
    "\n",
    "7. **Accident monitoring and prevention**: The API should facilitate the collection and analysis of accident data involving bikes and cars, helping to identify potential safety issues and implement measures to reduce accidents.\n",
    "\n",
    "8. **Cycling event analysis**: The API should allow users to analyze bike lane usage during specific cycling events or days (e.g., Super Tuesday, Sundays), providing insights into the effects of these events on cycling patterns and infrastructure needs.\n",
    "\n"
   ]
  },
  {
   "cell_type": "markdown",
   "id": "af53b094",
   "metadata": {},
   "source": [
    "## Goals\n",
    "\n",
    "The goals for this analysis are:\n",
    "\n",
    "### Part A: Population Growth & Active Transportation Needs Analysis\n",
    "\n",
    "- Analyse population growth at the suburb level to quantify the speed of growth of each suburb relative to one another.\n",
    "- Analyse the existing active transportation routes' current demand and access relative to the forecast growth of the population.\n",
    "- Identify key areas where active transportation routes could experience higher demand therefore may require additional infrastructure.\n",
    "\n",
    "### Part B: Population Growth & Public Transport Needs Analysis\n",
    "\n",
    "- Extend the analysis to include public transport, trams, buses, and trains.\n",
    "- Analyse the current public transport network's capacity and efficiency relative to the forecast growth of the population.\n",
    "- Identify key areas where the public transport network could experience higher demand therefore may require additional infrastructure."
   ]
  },
  {
   "cell_type": "markdown",
   "id": "8ac11eab",
   "metadata": {},
   "source": [
    "## Strategic Benefits for the City of Melbourne\n",
    "\n",
    "This use case and analysis can help Melbourne City meet strategic and sustainability goals in the following ways:\n",
    "\n",
    "- Encourage and support active transportation by providing data and insights that can inform investment decisions and help reduce the number of motorized vehicles on the road, in turn reducing emissions and helping to meet the climate and biodiversity emergency objective.\n",
    "- Identify areas of high demand for active transportation and use this information to prioritize investments in infrastructure that can support safer, more efficient cycling and pedestrian routes, helping to meet the safety and well-being objective.\n",
    "- Provide insights into the usage patterns and popularity of different active transportation routes and amenities, which can help inform decisions about the location and design of new public facilities and public spaces, helping to meet the vibrant and connected city objective."
   ]
  },
  {
   "cell_type": "markdown",
   "id": "cca5b258",
   "metadata": {},
   "source": [
    "## Why This Case Matters\n",
    "\n",
    "There are a number of reasons why the new VICroad bikeline in St. Kilda is significant:\n",
    "\n",
    "- In order to create sustainable, liveable cities that put people before cars, active transportation is crucial. Putting money into bike lanes and other forms of active transportation infrastructure helps alleviate traffic, enhances air quality, and facilitates non-automobile travel.\n",
    "- In addition to lowering the risk of cardiovascular disease and stroke, regular cycling has been linked to various positive psychological and emotional outcomes. Communities can be stronger and healthier if people are encouraged to take the stairs instead of the elevator.\n",
    "- Transportation planners and city officials can benefit from information regarding cycling patterns and safety in order to make educated decisions about infrastructure expenditures and policy changes. We may learn more about how people are utilising the VICroad bikeline and where more investments in infrastructure may be needed to facilitate safer, more efficient active transportation routes by using an API to access real-time and historical data.\n",
    "\n",
    "The VICroad new bikeline in St. Kilda also helps Melbourne City, Australia's pioneering green city, achieve its sustainability goals. United Nations' Voluntary, Local, and Regional (VLR) Declaration is a call to action for local and regional governments around the world to make official commitments to and report on local progress towards the seventeen Sustainable Development Goals. Reducing carbon emissions, encouraging sustainable modes of transportation, and creating healthier communities are all possible thanks to Melbourne City's investments in active transportation infrastructure. In particular, the VLR Declaration's objectives of climate action and sustainable cities and communities can be advanced via the VICroad bikeline in Melbourne.\n",
    "\n",
    "The VICroad new bikeline in St. Kilda has the potential to aid Melbourne City in reaching its strategic and sustainability goals by increasing the use of alternative modes of transportation, decreasing traffic, enhancing air quality, and providing useful information for future transportation policy decisions."
   ]
  },
  {
   "cell_type": "code",
   "execution_count": null,
   "id": "7c9e87e9",
   "metadata": {},
   "outputs": [],
   "source": []
  },
  {
   "cell_type": "code",
   "execution_count": null,
   "id": "df50442f",
   "metadata": {},
   "outputs": [],
   "source": []
  }
 ],
 "metadata": {
  "kernelspec": {
   "display_name": "Python 3 (ipykernel)",
   "language": "python",
   "name": "python3"
  },
  "language_info": {
   "codemirror_mode": {
    "name": "ipython",
    "version": 3
   },
   "file_extension": ".py",
   "mimetype": "text/x-python",
   "name": "python",
   "nbconvert_exporter": "python",
   "pygments_lexer": "ipython3",
   "version": "3.11.3"
  }
 },
 "nbformat": 4,
 "nbformat_minor": 5
}
