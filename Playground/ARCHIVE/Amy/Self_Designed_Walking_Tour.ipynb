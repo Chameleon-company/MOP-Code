{
 "cells": [
  {
   "cell_type": "markdown",
   "metadata": {},
   "source": [
    "<div class=\"usecase-title\">Self Designed Walking Tour</div>\n",
    "\n",
    "<div class=\"usecase-authors\"><b>Authored by: </b> Amy Tran</div>"
   ]
  },
  {
   "cell_type": "markdown",
   "metadata": {},
   "source": [
    "<div class=\"usecase-duration\"><b>Duration:</b> 45 mins</div>\n",
    "\n",
    "<div class=\"usecase-level-skill\">\n",
    "    <div class=\"usecase-level\"><b>Level: </b>Intermediate</div>\n",
    "    <div class=\"usecase-skill\"><b>Pre-requisite Skills: </b>Python</div>\n",
    "</div>"
   ]
  },
  {
   "cell_type": "markdown",
   "metadata": {},
   "source": [
    "<div class=\"usecase-section-header\">Scenario</div>"
   ]
  },
  {
   "cell_type": "markdown",
   "metadata": {},
   "source": [
    "The Covid pandemic was a significant disruption to the travel and hospitality industry in the last few years. Since most countries have eased social distancing restrictions and lifted travel ban, it is now the right time to invest into strategies to bring tourists back into Australia and Melbourne city. As a visitor travelling to Melbourne, I’m excited to explore what the city has to offer. I’m also keen to create my own experience based on my preference and interest. An application that can help me gather all relevant experiences and map it all out for me would be appreciated.  "
   ]
  },
  {
   "cell_type": "markdown",
   "metadata": {},
   "source": [
    "<div class=\"usecase-section-header\">What this use case will teach you</div>"
   ]
  },
  {
   "cell_type": "markdown",
   "metadata": {},
   "source": [
    "At the end of this use case you will:\n",
    "- Load relevant datasets required for analysis\n",
    "- Clean the data to eliminate inconsistency \n",
    "- Data transformation and merging\n",
    "- Construct selection box to receive external input \n",
    "- Create a recommendation model that suggests places of interest based on geospatial locations\n",
    "- Build an interactive navigation map to showcase the output of the recommendation model"
   ]
  },
  {
   "cell_type": "markdown",
   "metadata": {},
   "source": [
    "<div class=\"usecase-section-header\">Python Libraries</div>"
   ]
  },
  {
   "cell_type": "code",
   "execution_count": 291,
   "metadata": {},
   "outputs": [],
   "source": [
    "import pandas as pd\n",
    "import numpy as np\n",
    "import requests\n",
    "from datetime import datetime\n",
    "import plotly.express as px\n",
    "import geopy.distance\n",
    "import folium\n",
    "from folium import plugins\n",
    "from PIL import Image, ImageDraw\n",
    "\n",
    "#pip install plotly==5.8.0\n",
    "#pip install geopy\n",
    "#pip install folium"
   ]
  },
  {
   "cell_type": "markdown",
   "metadata": {},
   "source": [
    "<div class=\"usecase-section-header\">Data Extraction</div>"
   ]
  },
  {
   "cell_type": "code",
   "execution_count": 292,
   "metadata": {},
   "outputs": [],
   "source": [
    "def get_data(base, url, size = 0):\n",
    "    target_filters = f'records?limit={10}&offset={size}&timezone=UTC'\n",
    "    target_url = f'{base}{url}/{target_filters}'\n",
    "    result = session.get(target_url+f'&apikey={API_KEY}')\n",
    "    status_code = result.status_code\n",
    "    if status_code == 200:\n",
    "        result_json = result.json()\n",
    "        max_results = result_json['total_count']\n",
    "        links = result_json['links']\n",
    "        records = result_json['records']\n",
    "        records_df = pd.json_normalize(records)\n",
    "    \n",
    "        #Update column labels\n",
    "        records_df.drop(columns=['links'],inplace=True)\n",
    "        column_names = records_df.columns.values.tolist()\n",
    "\n",
    "        #Replace geolocation.lat & geolocation.lon\n",
    "        column_names = ['_'.join((a.split(\".\")[-2:])) if a.split('.')[-2]=='geolocation' else a for a in column_names]\n",
    "        column_names = [i.split('.')[-1] for i in column_names]\n",
    "        records_df.columns = column_names\n",
    "    \n",
    "        next_url = None\n",
    "             \n",
    "        #Obtain next url\n",
    "        if records_df.shape[0] != max_results:\n",
    "            for l in links:\n",
    "                if l['rel'] == 'next':\n",
    "                    next_url = l['href']\n",
    "    \n",
    "        return[records_df, next_url, column_names, max_results, status_code]\n",
    "    else: return[None, None, None, None, status_code]"
   ]
  },
  {
   "cell_type": "code",
   "execution_count": 293,
   "metadata": {},
   "outputs": [
    {
     "name": "stdout",
     "output_type": "stream",
     "text": [
      "Download completed: 8 rows, 9 columns extracted\n"
     ]
    }
   ],
   "source": [
    "#Extract self guided walks data \n",
    "session = requests.Session()\n",
    "base = 'https://data.melbourne.vic.gov.au/api/v2/catalog/datasets/'\n",
    "url = 'self-guided-walks'\n",
    "\n",
    "target_url = f'{base}{url}/exports/json'\n",
    "result = session.get(target_url)\n",
    "result_json = result.json()\n",
    "data = pd.json_normalize(result_json)\n",
    "walks = data.copy()\n",
    "#Rename Longitude and Latitude columns\n",
    "walks = walks.rename(columns = {'geo_point_2d.lon' : 'lon', 'geo_point_2d.lat' : 'lat'})\n",
    "print('Download completed:', walks.shape[0], 'rows,', walks.shape[1], 'columns extracted' )"
   ]
  },
  {
   "cell_type": "code",
   "execution_count": 294,
   "metadata": {},
   "outputs": [
    {
     "name": "stdout",
     "output_type": "stream",
     "text": [
      "Download completed: 242 rows, 5 columns extracted\n"
     ]
    }
   ],
   "source": [
    "#Extract landmarks and places of interest data \n",
    "session = requests.Session()\n",
    "base = 'https://data.melbourne.vic.gov.au/api/v2/catalog/datasets/'\n",
    "url = 'landmarks-and-places-of-interest-including-schools-theatres-health-services-spor'\n",
    "\n",
    "target_url = f'{base}{url}/exports/json'\n",
    "result = session.get(target_url)\n",
    "result_json = result.json()\n",
    "data = pd.json_normalize(result_json)\n",
    "landmarks = data.copy()\n",
    "#Rename Longitude and Latitude columns\n",
    "landmarks = landmarks.rename(columns = {'co_ordinates.lon' : 'lon', 'co_ordinates.lat' : 'lat'})\n",
    "print('Download completed:', landmarks.shape[0], 'rows,', landmarks.shape[1], 'columns extracted' )"
   ]
  },
  {
   "cell_type": "markdown",
   "metadata": {},
   "source": [
    "<div class=\"usecase-section-header\">User Selection Input</div>"
   ]
  },
  {
   "cell_type": "code",
   "execution_count": 372,
   "metadata": {},
   "outputs": [
    {
     "data": {
      "application/vnd.jupyter.widget-view+json": {
       "model_id": "53e05e1a5ff5405684910fadc76104b4",
       "version_major": 2,
       "version_minor": 0
      },
      "text/plain": [
       "Dropdown(description='Please select a walk:', options=('Melbourne Music Walk', 'The Cosmopolitan', 'On the Wat…"
      ]
     },
     "metadata": {},
     "output_type": "display_data"
    },
    {
     "data": {
      "application/vnd.jupyter.widget-view+json": {
       "model_id": "488feefb4fad43a98acbc9324fe8ef20",
       "version_major": 2,
       "version_minor": 0
      },
      "text/plain": [
       "SelectMultiple(description='Please select landmarks:', index=(0,), options=('Aquarium', 'Art Gallery/Museum', …"
      ]
     },
     "metadata": {},
     "output_type": "display_data"
    }
   ],
   "source": [
    "#Create user selction dropdown lists\n",
    "import ipywidgets as widgets\n",
    "from ipywidgets import interactive\n",
    "\n",
    "walk_selections =   walks['name'].unique()\n",
    "landmark_selections = landmarks['sub_theme'].unique()\n",
    "landmark_selections = np.sort(landmark_selections)\n",
    "\n",
    "walk_drop_list = widgets.Dropdown(options = walk_selections, value = walk_selections[0], description = 'Please select a walk:', style = {'description_width': 'initial'},  disabled=False)\n",
    "landmark_drop_list = widgets.SelectMultiple(options = landmark_selections, value = [landmark_selections[0]] , description = 'Please select landmarks:', style = {'description_width': 'initial'}, disabled=False)\n",
    "\n",
    "display(walk_drop_list)\n",
    "display(landmark_drop_list)\n"
   ]
  },
  {
   "cell_type": "markdown",
   "metadata": {},
   "source": [
    "<div class=\"usecase-section-header\">Data Filtering</div>"
   ]
  },
  {
   "cell_type": "code",
   "execution_count": 393,
   "metadata": {},
   "outputs": [],
   "source": [
    "#Select a walk\n",
    "my_walk = walk_drop_list.value\n",
    "selected_walk = walks[(walks['name'] == my_walk)]\n",
    "selected_walk = selected_walk.loc[:,'geo_shape.geometry.coordinates']\n",
    "\n",
    "#Cleaning walk coordinates\n",
    "if len(list(selected_walk)[0]) > 1:\n",
    "    selected_walk = list(selected_walk)[0]\n",
    "    selected_walk_duration = walks[(walks['name'] == my_walk)].time\n",
    "    selected_walk_duration = selected_walk_duration.values[0]\n",
    "    selected_walk_duration = selected_walk_duration.strip(' Hours')\n",
    "else:\n",
    "    selected_walk = list(selected_walk)[0][0]\n",
    "    selected_walk_duration = walks[(walks['name'] == my_walk)].time[0]\n",
    "    selected_walk_duration = selected_walk_duration\n",
    "    selected_walk_duration = selected_walk_duration.strip(' Hours')\n",
    "\n",
    "no_of_coordinates = len(selected_walk)\n",
    "coordinate_lon = []\n",
    "coordinate_lat = []\n",
    "\n",
    "for i in range(no_of_coordinates):\n",
    "    lon = selected_walk[i][0]\n",
    "    lat = selected_walk[i][1]\n",
    "    coordinate_lon.append(lon)\n",
    "    coordinate_lat.append(lat)\n",
    "\n",
    "#Creat a dataframe containing each pair of latitude and longitude  in walk coordinates\n",
    "walk_coordinates = pd.DataFrame({'lon': coordinate_lon, 'lat': coordinate_lat})"
   ]
  },
  {
   "cell_type": "code",
   "execution_count": 394,
   "metadata": {},
   "outputs": [],
   "source": [
    "#Select landmark categories of interest\n",
    "my_landmarks = landmark_drop_list.value\n",
    "selected_landmarks = landmarks[landmarks.sub_theme.isin(my_landmarks)]\n",
    "selected_landmarks.reset_index(drop = True, inplace = True)"
   ]
  },
  {
   "cell_type": "code",
   "execution_count": 395,
   "metadata": {},
   "outputs": [],
   "source": [
    "#Create function to calculate distance between 2 coordinates\n",
    "import geopy.distance\n",
    "def distance(lat1, lon1, lat2, lon2):\n",
    "    coords_1 = (lat1, lon1)\n",
    "    coords_2 = (lat2, lon2)\n",
    "    km = geopy.distance.geodesic(coords_1, coords_2).km\n",
    "    return (km)"
   ]
  },
  {
   "cell_type": "markdown",
   "metadata": {},
   "source": [
    "<div class=\"usecase-section-header\">Recommendation Model</div>"
   ]
  },
  {
   "cell_type": "code",
   "execution_count": 396,
   "metadata": {},
   "outputs": [
    {
     "name": "stderr",
     "output_type": "stream",
     "text": [
      "<ipython-input-396-4bbf2b55c145>:33: SettingWithCopyWarning: \n",
      "A value is trying to be set on a copy of a slice from a DataFrame\n",
      "\n",
      "See the caveats in the documentation: https://pandas.pydata.org/pandas-docs/stable/user_guide/indexing.html#returning-a-view-versus-a-copy\n",
      "  final_suggestions.drop_duplicates(inplace = True)\n"
     ]
    }
   ],
   "source": [
    "#Calculate distance (km) between each walk coordinates to the landmarks of interest\n",
    "distance_parameter = 0.5 #Set distance parameter\n",
    "\n",
    "#len(walk_coordinates)\n",
    "#len(selected_landmarks)\n",
    "\n",
    "all_suggestions = pd.DataFrame()\n",
    "\n",
    "for i in range(len(walk_coordinates)):\n",
    "    suggested_landmarks = []\n",
    "    suggested_landmarks_lon = []\n",
    "    suggested_landmarks_lat = []\n",
    "    suggested_landmarks_walk_distance = []\n",
    "    \n",
    "    for j in range(len(selected_landmarks)):\n",
    "        walk_distance = distance(walk_coordinates.lat[i], walk_coordinates.lon[i], selected_landmarks.lat[j], selected_landmarks.lon[j])\n",
    "        if walk_distance <= distance_parameter:\n",
    "            suggested_landmarks.append(selected_landmarks.feature_name[j])\n",
    "            suggested_landmarks_lon.append(selected_landmarks.lon[j])\n",
    "            suggested_landmarks_lat.append(selected_landmarks.lat[j])\n",
    "            suggested_landmarks_walk_distance.append(walk_distance)\n",
    "\n",
    "    suggestions = pd.DataFrame({'landmarks': suggested_landmarks, 'lon': suggested_landmarks_lon,\n",
    "                                'lat': suggested_landmarks_lat, 'walking_distance':suggested_landmarks_walk_distance})\n",
    "    \n",
    "    #Select top 3 suggested landmarks based on shortest walking distance\n",
    "    top3_suggestions = suggestions.sort_values('walking_distance', ascending = True).head(3)\n",
    "\n",
    "    all_suggestions = pd.concat([all_suggestions, top3_suggestions])\n",
    "    all_suggestions.reset_index(drop = True, inplace = True)\n",
    "    \n",
    "final_suggestions = all_suggestions[['landmarks', 'lon','lat']]\n",
    "final_suggestions.drop_duplicates(inplace = True)\n",
    "final_suggestions.reset_index(drop = True, inplace = True)\n"
   ]
  },
  {
   "cell_type": "markdown",
   "metadata": {},
   "source": [
    "<div class=\"usecase-section-header\">Visualisation</div>"
   ]
  },
  {
   "cell_type": "code",
   "execution_count": 397,
   "metadata": {},
   "outputs": [
    {
     "data": {
      "text/html": [
       "<div style=\"width:100%;\"><div style=\"position:relative;width:100%;height:0;padding-bottom:60%;\"><span style=\"color:#565656\">Make this Notebook Trusted to load map: File -> Trust Notebook</span><iframe srcdoc=\"&lt;!DOCTYPE html&gt;\n",
       "&lt;html&gt;\n",
       "&lt;head&gt;\n",
       "    \n",
       "    &lt;meta http-equiv=&quot;content-type&quot; content=&quot;text/html; charset=UTF-8&quot; /&gt;\n",
       "    \n",
       "        &lt;script&gt;\n",
       "            L_NO_TOUCH = false;\n",
       "            L_DISABLE_3D = false;\n",
       "        &lt;/script&gt;\n",
       "    \n",
       "    &lt;style&gt;html, body {width: 100%;height: 100%;margin: 0;padding: 0;}&lt;/style&gt;\n",
       "    &lt;style&gt;#map {position:absolute;top:0;bottom:0;right:0;left:0;}&lt;/style&gt;\n",
       "    &lt;script src=&quot;https://cdn.jsdelivr.net/npm/leaflet@1.9.3/dist/leaflet.js&quot;&gt;&lt;/script&gt;\n",
       "    &lt;script src=&quot;https://code.jquery.com/jquery-1.12.4.min.js&quot;&gt;&lt;/script&gt;\n",
       "    &lt;script src=&quot;https://cdn.jsdelivr.net/npm/bootstrap@5.2.2/dist/js/bootstrap.bundle.min.js&quot;&gt;&lt;/script&gt;\n",
       "    &lt;script src=&quot;https://cdnjs.cloudflare.com/ajax/libs/Leaflet.awesome-markers/2.0.2/leaflet.awesome-markers.js&quot;&gt;&lt;/script&gt;\n",
       "    &lt;link rel=&quot;stylesheet&quot; href=&quot;https://cdn.jsdelivr.net/npm/leaflet@1.9.3/dist/leaflet.css&quot;/&gt;\n",
       "    &lt;link rel=&quot;stylesheet&quot; href=&quot;https://cdn.jsdelivr.net/npm/bootstrap@5.2.2/dist/css/bootstrap.min.css&quot;/&gt;\n",
       "    &lt;link rel=&quot;stylesheet&quot; href=&quot;https://netdna.bootstrapcdn.com/bootstrap/3.0.0/css/bootstrap.min.css&quot;/&gt;\n",
       "    &lt;link rel=&quot;stylesheet&quot; href=&quot;https://cdn.jsdelivr.net/npm/@fortawesome/fontawesome-free@6.2.0/css/all.min.css&quot;/&gt;\n",
       "    &lt;link rel=&quot;stylesheet&quot; href=&quot;https://cdnjs.cloudflare.com/ajax/libs/Leaflet.awesome-markers/2.0.2/leaflet.awesome-markers.css&quot;/&gt;\n",
       "    &lt;link rel=&quot;stylesheet&quot; href=&quot;https://cdn.jsdelivr.net/gh/python-visualization/folium/folium/templates/leaflet.awesome.rotate.min.css&quot;/&gt;\n",
       "    \n",
       "            &lt;meta name=&quot;viewport&quot; content=&quot;width=device-width,\n",
       "                initial-scale=1.0, maximum-scale=1.0, user-scalable=no&quot; /&gt;\n",
       "            &lt;style&gt;\n",
       "                #map_9f52a2a27e41ea13731cc509b147e808 {\n",
       "                    position: relative;\n",
       "                    width: 100.0%;\n",
       "                    height: 100.0%;\n",
       "                    left: 0.0%;\n",
       "                    top: 0.0%;\n",
       "                }\n",
       "                .leaflet-container { font-size: 1rem; }\n",
       "            &lt;/style&gt;\n",
       "        \n",
       "    &lt;script src=&quot;https://cdn.jsdelivr.net/npm/leaflet-ant-path@1.1.2/dist/leaflet-ant-path.min.js&quot;&gt;&lt;/script&gt;\n",
       "&lt;/head&gt;\n",
       "&lt;body&gt;\n",
       "    \n",
       "    \n",
       "             &lt;h3 align=&quot;center&quot; style=&quot;font-size:20px&quot;&gt;&lt;b&gt;Self-designed walking tour: Melbourne Music Walk&lt;/b&gt;&lt;/h3&gt;\n",
       "             \n",
       "    \n",
       "             &lt;h4 align=&quot;center&quot; style=&quot;font-size:12px&quot;&gt;&lt;b&gt;Landmarks of interest: Art Gallery/Museum&lt;/b&gt;&lt;/h4&gt;\n",
       "             \n",
       "    \n",
       "             &lt;h4 align=&quot;center&quot; style=&quot;font-size:12px&quot;&gt;&lt;b&gt;Estimated duration: 1.5 hours&lt;/b&gt;&lt;/h4&gt;\n",
       "             \n",
       "    \n",
       "            &lt;div class=&quot;folium-map&quot; id=&quot;map_9f52a2a27e41ea13731cc509b147e808&quot; &gt;&lt;/div&gt;\n",
       "        \n",
       "&lt;/body&gt;\n",
       "&lt;script&gt;\n",
       "    \n",
       "    \n",
       "            var map_9f52a2a27e41ea13731cc509b147e808 = L.map(\n",
       "                &quot;map_9f52a2a27e41ea13731cc509b147e808&quot;,\n",
       "                {\n",
       "                    center: [-37.815623045515814, 144.9687867475806],\n",
       "                    crs: L.CRS.EPSG3857,\n",
       "                    zoom: 15,\n",
       "                    zoomControl: true,\n",
       "                    preferCanvas: false,\n",
       "                }\n",
       "            );\n",
       "            L.control.scale().addTo(map_9f52a2a27e41ea13731cc509b147e808);\n",
       "\n",
       "            \n",
       "\n",
       "        \n",
       "    \n",
       "            var tile_layer_b94ea9cb80296109897534a364e250cc = L.tileLayer(\n",
       "                &quot;https://{s}.tile.openstreetmap.org/{z}/{x}/{y}.png&quot;,\n",
       "                {&quot;attribution&quot;: &quot;Data by \\u0026copy; \\u003ca target=\\&quot;_blank\\&quot; href=\\&quot;http://openstreetmap.org\\&quot;\\u003eOpenStreetMap\\u003c/a\\u003e, under \\u003ca target=\\&quot;_blank\\&quot; href=\\&quot;http://www.openstreetmap.org/copyright\\&quot;\\u003eODbL\\u003c/a\\u003e.&quot;, &quot;detectRetina&quot;: false, &quot;maxNativeZoom&quot;: 18, &quot;maxZoom&quot;: 18, &quot;minZoom&quot;: 0, &quot;noWrap&quot;: false, &quot;opacity&quot;: 1, &quot;subdomains&quot;: &quot;abc&quot;, &quot;tms&quot;: false}\n",
       "            ).addTo(map_9f52a2a27e41ea13731cc509b147e808);\n",
       "        \n",
       "    \n",
       "            ant_path_d56a7312a3b8cacf657404b005e22524 = L.polyline.antPath(\n",
       "              [[-37.821216567104, 144.968808624716], [-37.820550187203, 144.968502630285], [-37.820353635262, 144.968459691245], [-37.820331069198, 144.968456239074], [-37.820308413558, 144.96845445797], [-37.820285730886, 144.968454906317], [-37.820263197964, 144.968457926766], [-37.820212688663, 144.96846445518], [-37.820161856158, 144.968464906763], [-37.820111137544, 144.968459998662], [-37.820060888241, 144.968449765271], [-37.820011460383, 144.968434278303], [-37.819962599416, 144.968415641576], [-37.817388258495, 144.967233444359], [-37.816670771601, 144.96970485728], [-37.815841304207, 144.969324035025], [-37.815019716684, 144.972092297126], [-37.812977927957, 144.971149967591], [-37.812602165177, 144.972445605256], [-37.811776243616, 144.972061564956], [-37.811432433676, 144.973248679452], [-37.811193175831, 144.973137546181], [-37.811281407534, 144.972835752274], [-37.810448569484, 144.972460545974], [-37.811174048171, 144.96998407284], [-37.810273425366, 144.969569652974], [-37.810193293814, 144.969872812556], [-37.809044774659, 144.969344414404], [-37.810499111167, 144.964409615394], [-37.813368455652, 144.965730044124], [-37.814079600532, 144.963273890606], [-37.814313725883, 144.963365579163], [-37.81359438008, 144.965839143598], [-37.815329513162, 144.966633365414], [-37.81541770016, 144.966329029759], [-37.814680204081, 144.965993474468]],\n",
       "              {&quot;bubblingMouseEvents&quot;: true, &quot;color&quot;: &quot;#1bc202&quot;, &quot;dashArray&quot;: [10, 20], &quot;dashOffset&quot;: null, &quot;delay&quot;: 1500, &quot;fill&quot;: false, &quot;fillColor&quot;: &quot;#1bc202&quot;, &quot;fillOpacity&quot;: 0.2, &quot;fillRule&quot;: &quot;evenodd&quot;, &quot;hardwareAcceleration&quot;: false, &quot;lineCap&quot;: &quot;round&quot;, &quot;lineJoin&quot;: &quot;round&quot;, &quot;noClip&quot;: false, &quot;opacity&quot;: 0.5, &quot;paused&quot;: false, &quot;pulseColor&quot;: &quot;#061f02&quot;, &quot;reverse&quot;: false, &quot;smoothFactor&quot;: 1.0, &quot;stroke&quot;: true, &quot;weight&quot;: 5}\n",
       "        ).addTo(map_9f52a2a27e41ea13731cc509b147e808);\n",
       "        \n",
       "    \n",
       "            var marker_75d31f83acca2c523599b5deb98b2371 = L.marker(\n",
       "                [-37.8219947335768, 144.968837288153],\n",
       "                {}\n",
       "            ).addTo(map_9f52a2a27e41ea13731cc509b147e808);\n",
       "        \n",
       "    \n",
       "            var icon_369ec74b47a8fbeae7aa510cd62a22a3 = L.AwesomeMarkers.icon(\n",
       "                {&quot;extraClasses&quot;: &quot;fa-rotate-0&quot;, &quot;icon&quot;: &quot;info-sign&quot;, &quot;iconColor&quot;: &quot;white&quot;, &quot;markerColor&quot;: &quot;darkgreen&quot;, &quot;prefix&quot;: &quot;glyphicon&quot;}\n",
       "            );\n",
       "            marker_75d31f83acca2c523599b5deb98b2371.setIcon(icon_369ec74b47a8fbeae7aa510cd62a22a3);\n",
       "        \n",
       "    \n",
       "        var popup_5aa630e60fde2698780681a0b9638745 = L.popup({&quot;maxWidth&quot;: &quot;100%&quot;});\n",
       "\n",
       "        \n",
       "            \n",
       "                var html_f6f6fbad714cc55d3ca241abe9511a34 = $(`&lt;div id=&quot;html_f6f6fbad714cc55d3ca241abe9511a34&quot; style=&quot;width: 100.0%; height: 100.0%;&quot;&gt;Victorian Arts Centre&lt;/div&gt;`)[0];\n",
       "                popup_5aa630e60fde2698780681a0b9638745.setContent(html_f6f6fbad714cc55d3ca241abe9511a34);\n",
       "            \n",
       "        \n",
       "\n",
       "        marker_75d31f83acca2c523599b5deb98b2371.bindPopup(popup_5aa630e60fde2698780681a0b9638745)\n",
       "        ;\n",
       "\n",
       "        \n",
       "    \n",
       "    \n",
       "            var marker_73397d47764de629b3f90ca11bad35ad = L.marker(\n",
       "                [-37.8176107327202, 144.969070431323],\n",
       "                {}\n",
       "            ).addTo(map_9f52a2a27e41ea13731cc509b147e808);\n",
       "        \n",
       "    \n",
       "            var icon_379a65dace925df954ba5dada350fd30 = L.AwesomeMarkers.icon(\n",
       "                {&quot;extraClasses&quot;: &quot;fa-rotate-0&quot;, &quot;icon&quot;: &quot;info-sign&quot;, &quot;iconColor&quot;: &quot;white&quot;, &quot;markerColor&quot;: &quot;darkgreen&quot;, &quot;prefix&quot;: &quot;glyphicon&quot;}\n",
       "            );\n",
       "            marker_73397d47764de629b3f90ca11bad35ad.setIcon(icon_379a65dace925df954ba5dada350fd30);\n",
       "        \n",
       "    \n",
       "        var popup_e20a30bdd1cfc48afca5cfdb3ab5ee00 = L.popup({&quot;maxWidth&quot;: &quot;100%&quot;});\n",
       "\n",
       "        \n",
       "            \n",
       "                var html_32c784ae57125c7cbe4e21b1c9e3edfb = $(`&lt;div id=&quot;html_32c784ae57125c7cbe4e21b1c9e3edfb&quot; style=&quot;width: 100.0%; height: 100.0%;&quot;&gt;Australian Centre For The Moving Image (ACMI)&lt;/div&gt;`)[0];\n",
       "                popup_e20a30bdd1cfc48afca5cfdb3ab5ee00.setContent(html_32c784ae57125c7cbe4e21b1c9e3edfb);\n",
       "            \n",
       "        \n",
       "\n",
       "        marker_73397d47764de629b3f90ca11bad35ad.bindPopup(popup_e20a30bdd1cfc48afca5cfdb3ab5ee00)\n",
       "        ;\n",
       "\n",
       "        \n",
       "    \n",
       "    \n",
       "            var marker_8da2aafde289ee9c5aa2717dcade899d = L.marker(\n",
       "                [-37.8174831423197, 144.969899048343],\n",
       "                {}\n",
       "            ).addTo(map_9f52a2a27e41ea13731cc509b147e808);\n",
       "        \n",
       "    \n",
       "            var icon_deb0870f733c4fca45b6c3c8343fa01d = L.AwesomeMarkers.icon(\n",
       "                {&quot;extraClasses&quot;: &quot;fa-rotate-0&quot;, &quot;icon&quot;: &quot;info-sign&quot;, &quot;iconColor&quot;: &quot;white&quot;, &quot;markerColor&quot;: &quot;darkgreen&quot;, &quot;prefix&quot;: &quot;glyphicon&quot;}\n",
       "            );\n",
       "            marker_8da2aafde289ee9c5aa2717dcade899d.setIcon(icon_deb0870f733c4fca45b6c3c8343fa01d);\n",
       "        \n",
       "    \n",
       "        var popup_61ac3bb00054238147ef2c90c0c8177b = L.popup({&quot;maxWidth&quot;: &quot;100%&quot;});\n",
       "\n",
       "        \n",
       "            \n",
       "                var html_869cc547887739f759c363db1c529716 = $(`&lt;div id=&quot;html_869cc547887739f759c363db1c529716&quot; style=&quot;width: 100.0%; height: 100.0%;&quot;&gt;The Ian Potter Centre: NGV Australia&lt;/div&gt;`)[0];\n",
       "                popup_61ac3bb00054238147ef2c90c0c8177b.setContent(html_869cc547887739f759c363db1c529716);\n",
       "            \n",
       "        \n",
       "\n",
       "        marker_8da2aafde289ee9c5aa2717dcade899d.bindPopup(popup_61ac3bb00054238147ef2c90c0c8177b)\n",
       "        ;\n",
       "\n",
       "        \n",
       "    \n",
       "    \n",
       "            var marker_312f1dfeeb13b82136a106a908167d40 = L.marker(\n",
       "                [-37.8107686127655, 144.96923385414],\n",
       "                {}\n",
       "            ).addTo(map_9f52a2a27e41ea13731cc509b147e808);\n",
       "        \n",
       "    \n",
       "            var icon_3317b9bb28b4636baf2a1be556a84f7e = L.AwesomeMarkers.icon(\n",
       "                {&quot;extraClasses&quot;: &quot;fa-rotate-0&quot;, &quot;icon&quot;: &quot;info-sign&quot;, &quot;iconColor&quot;: &quot;white&quot;, &quot;markerColor&quot;: &quot;darkgreen&quot;, &quot;prefix&quot;: &quot;glyphicon&quot;}\n",
       "            );\n",
       "            marker_312f1dfeeb13b82136a106a908167d40.setIcon(icon_3317b9bb28b4636baf2a1be556a84f7e);\n",
       "        \n",
       "    \n",
       "        var popup_a720a587d8ab15cb54cff1070965e9ad = L.popup({&quot;maxWidth&quot;: &quot;100%&quot;});\n",
       "\n",
       "        \n",
       "            \n",
       "                var html_cd41e91ac61891def315da40e7b83878 = $(`&lt;div id=&quot;html_cd41e91ac61891def315da40e7b83878&quot; style=&quot;width: 100.0%; height: 100.0%;&quot;&gt;The Museum Of Australian Chinese History&lt;/div&gt;`)[0];\n",
       "                popup_a720a587d8ab15cb54cff1070965e9ad.setContent(html_cd41e91ac61891def315da40e7b83878);\n",
       "            \n",
       "        \n",
       "\n",
       "        marker_312f1dfeeb13b82136a106a908167d40.bindPopup(popup_a720a587d8ab15cb54cff1070965e9ad)\n",
       "        ;\n",
       "\n",
       "        \n",
       "    \n",
       "    \n",
       "            var marker_cb524d1d3d91dabfd0f7d46ead4bdb49 = L.marker(\n",
       "                [-37.8085761281612, 144.975373745366],\n",
       "                {}\n",
       "            ).addTo(map_9f52a2a27e41ea13731cc509b147e808);\n",
       "        \n",
       "    \n",
       "            var icon_0084d312b4b556c8366fec109a01dcd2 = L.AwesomeMarkers.icon(\n",
       "                {&quot;extraClasses&quot;: &quot;fa-rotate-0&quot;, &quot;icon&quot;: &quot;info-sign&quot;, &quot;iconColor&quot;: &quot;white&quot;, &quot;markerColor&quot;: &quot;darkgreen&quot;, &quot;prefix&quot;: &quot;glyphicon&quot;}\n",
       "            );\n",
       "            marker_cb524d1d3d91dabfd0f7d46ead4bdb49.setIcon(icon_0084d312b4b556c8366fec109a01dcd2);\n",
       "        \n",
       "    \n",
       "        var popup_4344c81f4d065e40e02065eed6cfeeb0 = L.popup({&quot;maxWidth&quot;: &quot;100%&quot;});\n",
       "\n",
       "        \n",
       "            \n",
       "                var html_19736b7199751b3c7cc2e3ce489ccdd4 = $(`&lt;div id=&quot;html_19736b7199751b3c7cc2e3ce489ccdd4&quot; style=&quot;width: 100.0%; height: 100.0%;&quot;&gt;Fire Services Museum Victoria&lt;/div&gt;`)[0];\n",
       "                popup_4344c81f4d065e40e02065eed6cfeeb0.setContent(html_19736b7199751b3c7cc2e3ce489ccdd4);\n",
       "            \n",
       "        \n",
       "\n",
       "        marker_cb524d1d3d91dabfd0f7d46ead4bdb49.bindPopup(popup_4344c81f4d065e40e02065eed6cfeeb0)\n",
       "        ;\n",
       "\n",
       "        \n",
       "    \n",
       "    \n",
       "            var marker_e329a5d4a4cdb48aba0949134e24f1e0 = L.marker(\n",
       "                [-37.8077644149636, 144.965463853978],\n",
       "                {}\n",
       "            ).addTo(map_9f52a2a27e41ea13731cc509b147e808);\n",
       "        \n",
       "    \n",
       "            var icon_b5794525436ab6f3962dc5a86fb4fe08 = L.AwesomeMarkers.icon(\n",
       "                {&quot;extraClasses&quot;: &quot;fa-rotate-0&quot;, &quot;icon&quot;: &quot;info-sign&quot;, &quot;iconColor&quot;: &quot;white&quot;, &quot;markerColor&quot;: &quot;darkgreen&quot;, &quot;prefix&quot;: &quot;glyphicon&quot;}\n",
       "            );\n",
       "            marker_e329a5d4a4cdb48aba0949134e24f1e0.setIcon(icon_b5794525436ab6f3962dc5a86fb4fe08);\n",
       "        \n",
       "    \n",
       "        var popup_914d91449bb997c0153a94d2be6b7770 = L.popup({&quot;maxWidth&quot;: &quot;100%&quot;});\n",
       "\n",
       "        \n",
       "            \n",
       "                var html_1df0217efa70509a12d4b0af2bfc9339 = $(`&lt;div id=&quot;html_1df0217efa70509a12d4b0af2bfc9339&quot; style=&quot;width: 100.0%; height: 100.0%;&quot;&gt;Old Melbourne Gaol Crime &amp; Justice Experience&lt;/div&gt;`)[0];\n",
       "                popup_914d91449bb997c0153a94d2be6b7770.setContent(html_1df0217efa70509a12d4b0af2bfc9339);\n",
       "            \n",
       "        \n",
       "\n",
       "        marker_e329a5d4a4cdb48aba0949134e24f1e0.bindPopup(popup_914d91449bb997c0153a94d2be6b7770)\n",
       "        ;\n",
       "\n",
       "        \n",
       "    \n",
       "&lt;/script&gt;\n",
       "&lt;/html&gt;\" style=\"position:absolute;width:100%;height:100%;left:0;top:0;border:none !important;\" allowfullscreen webkitallowfullscreen mozallowfullscreen></iframe></div></div>"
      ],
      "text/plain": [
       "<folium.folium.Map at 0x1cee2bbad30>"
      ]
     },
     "metadata": {},
     "output_type": "display_data"
    }
   ],
   "source": [
    "#Create map visualisation\n",
    "map = folium.Map(location = [walk_coordinates.lat.mean(), walk_coordinates.lon.mean()], zoom_start=15, control_scale=True)\n",
    "\n",
    "#Add the walking path\n",
    "walk_coordinates_lats_longs = walk_coordinates[['lat','lon']].values\n",
    "plugins.AntPath(locations = walk_coordinates_lats_longs,\n",
    "                delay = 1500,\n",
    "                color='#1bc202',\n",
    "                pulse_color='#061f02').add_to(map)\n",
    "\n",
    "\n",
    "#Add landmarks and place of interest\n",
    "if final_suggestions.shape[0] > 0:\n",
    "    for index, location_info in final_suggestions.iterrows():\n",
    "        folium.Marker([location_info['lat'], location_info['lon']], popup=location_info['landmarks'], icon=folium.Icon(color=\"darkgreen\")).add_to(map)\n",
    "\n",
    "#Add map title\n",
    "map_title = 'Self-designed walking tour: ' + my_walk\n",
    "title_html = '''\n",
    "             <h3 align=\"center\" style=\"font-size:20px\"><b>{}</b></h3>\n",
    "             '''.format(map_title )   \n",
    "map.get_root().html.add_child(folium.Element(title_html))\n",
    "\n",
    "#Add sub-heading\n",
    "if final_suggestions.shape[0] > 0:\n",
    "    subhead = 'Landmarks of interest: ' +', '.join(my_landmarks)\n",
    "else:\n",
    "    subhead = 'Landmarks of interest: ' +', '.join(my_landmarks) + ' (Nothing found)'\n",
    "subhead_html = '''\n",
    "             <h4 align=\"center\" style=\"font-size:12px\"><b>{}</b></h4>\n",
    "             '''.format(subhead)  \n",
    "map.get_root().html.add_child(folium.Element(subhead_html))\n",
    "\n",
    "#Add estimated duration\n",
    "subtime = 'Estimated duration: ' + selected_walk_duration + ' hours'\n",
    "subtime_html = '''\n",
    "             <h4 align=\"center\" style=\"font-size:12px\"><b>{}</b></h4>\n",
    "             '''.format(subtime)  \n",
    "map.get_root().html.add_child(folium.Element(subtime_html))\n",
    "\n",
    "map.save('map-with-marker.html')\n",
    "\n",
    "#Print map\n",
    "display(map)"
   ]
  }
 ],
 "metadata": {
  "kernelspec": {
   "display_name": "base",
   "language": "python",
   "name": "python3"
  },
  "language_info": {
   "codemirror_mode": {
    "name": "ipython",
    "version": 3
   },
   "file_extension": ".py",
   "mimetype": "text/x-python",
   "name": "python",
   "nbconvert_exporter": "python",
   "pygments_lexer": "ipython3",
   "version": "3.8.5"
  },
  "orig_nbformat": 4
 },
 "nbformat": 4,
 "nbformat_minor": 2
}
