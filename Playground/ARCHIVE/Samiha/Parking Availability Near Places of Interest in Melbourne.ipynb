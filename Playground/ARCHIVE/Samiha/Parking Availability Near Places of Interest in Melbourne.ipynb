{
 "cells": [
  {
   "cell_type": "markdown",
   "metadata": {},
   "source": [
    "<div class=\"usecase-title\">Parking Availability Near Places of Interest in Melbourne</div>\n",
    "\n",
    "<div class=\"usecase-authors\"><b>Authored by: </b> Samiha Haque</div>"
   ]
  },
  {
   "cell_type": "markdown",
   "metadata": {},
   "source": [
    "<div class=\"usecase-duration\"><b>Duration:</b> 90 mins</div>\n",
    "\n",
    "<div class=\"usecase-level-skill\">\n",
    "    <div class=\"usecase-level\"><b>Level: </b>Intermediate</div>\n",
    "    <div class=\"usecase-skill\"><b>Pre-requisite Skills: </b>Python, TF-IDF Vectoriser, Cosine Similarity, Haversine Distance, Geographical Coordinate Handling, Folium Maps</div>\n",
    "</div>"
   ]
  },
  {
   "cell_type": "markdown",
   "metadata": {},
   "source": [
    "<div class=\"usecase-section-header\">Scenario</div>"
   ]
  },
  {
   "cell_type": "markdown",
   "metadata": {},
   "source": [
    "As a resident of Melbourne, I want to input my current location and the places of interest I plan to visit so that I can identify the nearest parking bays to these locations, helping me better understand the parking availability and proximity to my chosen destinations."
   ]
  },
  {
   "cell_type": "markdown",
   "metadata": {},
   "source": [
    "<div class=\"usecase-section-header\">What this use case will teach you</div>"
   ]
  },
  {
   "cell_type": "markdown",
   "metadata": {},
   "source": [
    "At the end of this use case you will:\n",
    "- Learn to work with categorical locations and geolocations using geopy.\n",
    "- Learn foundational NLP techniques, including corpus creation, using regular expressions to remove unnecessary symbols, tokenization, stopword removal, and applying TF-IDF vectorization.\n",
    "- Learn to use cosine similarity and haversine distance.\n",
    "- Learn to plot multiple geolocations on a map using folium.\n",
    "- Learn to display multiple maps on different tabs using folium."
   ]
  },
  {
   "cell_type": "markdown",
   "metadata": {},
   "source": [
    "<div class=\"usecase-section-header\"><b>Accessible Parking and Digital Connectivity in Melbourne</b></div>"
   ]
  },
  {
   "cell_type": "markdown",
   "metadata": {},
   "source": [
    "The ninth Sustainable Development Goal (SDG) of the City of Melbourne, \"Industry, Innovation, and Infrastructure,\" emphasizes the development of affordable and equitable transport infrastructure for all. This includes ensuring the availability and adequacy of parking facilities around popular places of interest.\n",
    "\n",
    "In this use case, users can input their current location and desired places of interest. The code will then identify up to 10 top matches within a 2km radius of the user’s location. For each suggested place, a map will display all parking bays within a 200m radius. This functionality will help users plan their journeys more effectively by providing them with a visual overview of parking options near their destinations. It ensures that users can easily find convenient parking spots, enhancing their overall travel experience.\n",
    "\n",
    "This use case also aligns with one of the eight key priorities of the Economic Development Strategy 2031 for the City of Melbourne: creating a digitally connected city. By leveraging smart technology and connectivity, this initiative supports Melbourne’s vision of becoming a knowledge-enabled, smart city, adapting to modern connectivity needs and enhancing urban infrastructure."
   ]
  },
  {
   "cell_type": "markdown",
   "metadata": {},
   "source": [
    "<div class=\"usecase-section-header\"><b>Datasets used</b></div>"
   ]
  },
  {
   "cell_type": "markdown",
   "metadata": {},
   "source": [
    "- [Landmarks and places of interest, including schools, theatres, health services, sports facilities, places of worship, galleries and museums](https://data.melbourne.vic.gov.au/explore/dataset/landmarks-and-places-of-interest-including-schools-theatres-health-services-spor/information/)<br>\n",
    "This dataset mainly contains the theme, sub_theme, feature_name and coordinates of various places of interest throughout the city of Melbourne. This dataset is used to create the corpus and filter suggested places of interest based on user inputs, identifying options within a 2km radius of the user’s location. This dataset is imported from Melbourne Open Data website, using API V2.1.</p>\n",
    "\n",
    "- [On-street Parking Bays](https://data.melbourne.vic.gov.au/explore/dataset/on-street-parking-bays/information/)<br>\n",
    "This dataset contains the roadsegmentid, kerbsideid, roadsegmentdescription, latitude, longitude and last updated details of on-street parking bays throughout the city of Melbourne. The longitude and latitude features of this dataset are used to identify parking bays within a 200m radius of each suggested place of interest. This dataset is imported from Melbourne Open Data website, using API V2.1."
   ]
  },
  {
   "cell_type": "code",
   "execution_count": null,
   "metadata": {},
   "outputs": [],
   "source": [
    "pip install nltk"
   ]
  },
  {
   "cell_type": "code",
   "execution_count": null,
   "metadata": {},
   "outputs": [],
   "source": [
    "nltk.download('stopwords')"
   ]
  },
  {
   "cell_type": "code",
   "execution_count": null,
   "metadata": {},
   "outputs": [],
   "source": [
    "nltk.download('punkt')"
   ]
  },
  {
   "cell_type": "code",
   "execution_count": 1,
   "metadata": {},
   "outputs": [],
   "source": [
    "import requests\n",
    "import pandas as pd\n",
    "import numpy as np\n",
    "from io import StringIO\n",
    "import seaborn as sns\n",
    "import matplotlib.pyplot as plt\n",
    "import nltk\n",
    "from nltk.corpus import stopwords\n",
    "from nltk.tokenize import word_tokenize\n",
    "import re\n",
    "from sklearn.feature_extraction.text import TfidfVectorizer\n",
    "from sklearn.metrics.pairwise import cosine_similarity\n",
    "import folium\n",
    "from folium.plugins import MarkerCluster\n",
    "import math\n",
    "import geopy\n",
    "from geopy.geocoders import Nominatim\n",
    "from IPython.display import display, HTML\n",
    "import ipywidgets as widgets"
   ]
  },
  {
   "cell_type": "markdown",
   "metadata": {},
   "source": [
    "### Loading the datasets using API 2.1v"
   ]
  },
  {
   "cell_type": "code",
   "execution_count": 2,
   "metadata": {},
   "outputs": [
    {
     "name": "stdout",
     "output_type": "stream",
     "text": [
      "              theme           sub_theme                     feature_name  \\\n",
      "0  Place of Worship              Church                St Francis Church   \n",
      "1  Place of Worship              Church                  St James Church   \n",
      "2  Place of Worship              Church        St Mary's Anglican Church   \n",
      "3  Place of Worship              Church                     Scots Church   \n",
      "4  Place of Worship              Church      St Michael's Uniting Church   \n",
      "5  Place of Worship              Church            Greek Orthodox Church   \n",
      "6  Place of Worship              Church          North Melbourne Uniting   \n",
      "7  Place of Worship              Church  South Yarra Presbyterian Church   \n",
      "8  Place of Worship           Synagogue         East Melbourne Synagogue   \n",
      "9         Transport  Transport Terminal                Port of Melbourne   \n",
      "\n",
      "                          co_ordinates  \n",
      "0  -37.8118847831837, 144.962422614541  \n",
      "1  -37.8101281201969, 144.952468571683  \n",
      "2  -37.8031663672997, 144.953761537074  \n",
      "3   -37.8145687802664, 144.96855105335  \n",
      "4  -37.8143851324913, 144.969174036096  \n",
      "5  -37.8088064667555, 144.978259089269  \n",
      "6  -37.8035538471344, 144.947671538375  \n",
      "7   -37.8407473645397, 144.98562699348  \n",
      "8    -37.809113728917, 144.97422190954  \n",
      "9   -37.8137384362671, 144.91753432375  \n"
     ]
    }
   ],
   "source": [
    "base_url='https://data.melbourne.vic.gov.au/api/explore/v2.1/catalog/datasets/'\n",
    "dataset_id='landmarks-and-places-of-interest-including-schools-theatres-health-services-spor'\n",
    "\n",
    "\n",
    "url=f'{base_url}{dataset_id}/exports/csv'\n",
    "params={'select':'*','limit':-1,'lang':'en','timezone':'UTC'}\n",
    "\n",
    "response=requests.get(url,params=params)\n",
    "\n",
    "if response.status_code==200:\n",
    "    url_content=response.content.decode('utf-8')\n",
    "    places=pd.read_csv(StringIO(url_content),delimiter=';')\n",
    "    print(places.head(10))\n",
    "else:\n",
    "    print(f'Request failed with status code {response.status_code}')"
   ]
  },
  {
   "cell_type": "code",
   "execution_count": 3,
   "metadata": {
    "scrolled": false
   },
   "outputs": [
    {
     "name": "stdout",
     "output_type": "stream",
     "text": [
      "   roadsegmentid kerbsideid  \\\n",
      "0          22730        NaN   \n",
      "1          22730        NaN   \n",
      "2          20013       5701   \n",
      "3          20013      23444   \n",
      "4          22268        NaN   \n",
      "5          22295        NaN   \n",
      "6          22295        NaN   \n",
      "7          22295        NaN   \n",
      "8          21108        NaN   \n",
      "9          20950        NaN   \n",
      "\n",
      "                              roadsegmentdescription   latitude   longitude  \\\n",
      "0  Park Street between Mason Street and Randall P... -37.836245  144.982021   \n",
      "1  Park Street between Mason Street and Randall P... -37.835800  144.982115   \n",
      "2  Lonsdale Street between William Street and Kin... -37.814238  144.955451   \n",
      "3  Lonsdale Street between William Street and Kin... -37.814271  144.955334   \n",
      "4  Clowes Street between Anderson Street and Wals... -37.830568  144.984713   \n",
      "5  Anderson Street between Domain Road and Acland... -37.833607  144.983763   \n",
      "6  Anderson Street between Domain Road and Acland... -37.833657  144.983753   \n",
      "7  Anderson Street between Domain Road and Acland... -37.833817  144.983720   \n",
      "8  Courtney Street between Queensberry Street and... -37.803262  144.955425   \n",
      "9  Queensberry Street between Capel Street and Ho... -37.803515  144.954739   \n",
      "\n",
      "  lastupdated  \n",
      "0  2022-08-31  \n",
      "1  2022-08-31  \n",
      "2  2023-10-02  \n",
      "3  2023-10-02  \n",
      "4  2022-08-31  \n",
      "5  2022-08-31  \n",
      "6  2022-08-31  \n",
      "7  2022-08-31  \n",
      "8  2022-08-31  \n",
      "9  2022-08-31  \n"
     ]
    }
   ],
   "source": [
    "base_url='https://data.melbourne.vic.gov.au/api/explore/v2.1/catalog/datasets/'\n",
    "dataset_id='on-street-parking-bays'\n",
    "\n",
    "\n",
    "url=f'{base_url}{dataset_id}/exports/csv'\n",
    "params={'select':'*','limit':-1,'lang':'en','timezone':'UTC'}\n",
    "\n",
    "response=requests.get(url,params=params)\n",
    "\n",
    "if response.status_code==200:\n",
    "    url_content=response.content.decode('utf-8')\n",
    "    parking_bays=pd.read_csv(StringIO(url_content),delimiter=';')\n",
    "    print(parking_bays.head(10))\n",
    "else:\n",
    "    print(f'Request failed with status code {response.status_code}')"
   ]
  },
  {
   "cell_type": "markdown",
   "metadata": {},
   "source": [
    "### coordinates function to return latitude and longitude given any categorical location"
   ]
  },
  {
   "cell_type": "code",
   "execution_count": 4,
   "metadata": {},
   "outputs": [],
   "source": [
    "def coordinates(location):\n",
    "    geolocator = Nominatim(user_agent=\"geocoding\")\n",
    "    loc = geolocator.geocode(location)\n",
    "    if loc:\n",
    "        return loc.latitude, loc.longitude\n",
    "    else:\n",
    "        raise Exception(\"Geocoding failed\")\n"
   ]
  },
  {
   "cell_type": "markdown",
   "metadata": {},
   "source": [
    "### haversine function to return the haversine distance given a pair of latitudea and longitudes"
   ]
  },
  {
   "cell_type": "code",
   "execution_count": 5,
   "metadata": {},
   "outputs": [],
   "source": [
    "def haversine(lat1, lon1, lat2, lon2):\n",
    "    R = 6371  # Radius of Earth in kilometers\n",
    "    dlat = math.radians(lat2 - lat1)\n",
    "    dlon = math.radians(lon2 - lon1)\n",
    "    a = math.sin(dlat / 2) ** 2 + math.cos(math.radians(lat1)) * math.cos(math.radians(lat2)) * math.sin(dlon / 2) ** 2\n",
    "    c = 2 * math.atan2(math.sqrt(a), math.sqrt(1 - a))\n",
    "    distance = R * c\n",
    "    return distance"
   ]
  },
  {
   "cell_type": "markdown",
   "metadata": {},
   "source": [
    "### create_map function to create map and markers"
   ]
  },
  {
   "cell_type": "code",
   "execution_count": 43,
   "metadata": {},
   "outputs": [],
   "source": [
    "def create_map(map_display,df,popup,color,marker=False):\n",
    "    if marker:\n",
    "        marker_cluster = MarkerCluster().add_to(map_display)\n",
    "\n",
    "\n",
    "    # Add markers for each location\n",
    "        for index, row in df.iterrows():\n",
    "\n",
    "            folium.Marker(location=[row['latitude'], row['longitude']], \n",
    "                          popup=row[popup],\n",
    "                          icon=folium.Icon(color),\n",
    "                          icon_size=(3, 3)).add_to(marker_cluster)\n",
    "    else:\n",
    "        for index, row in df.iterrows():\n",
    "\n",
    "            folium.Marker(location=[row['latitude'], row['longitude']], \n",
    "                          popup=row[popup],\n",
    "                          icon=folium.Icon(color),\n",
    "                          icon_size=(3, 3)).add_to(map_display)\n",
    "\n",
    "    \n",
    "\n",
    "    return map_display"
   ]
  },
  {
   "cell_type": "markdown",
   "metadata": {},
   "source": [
    "### Cleaning Places dataset"
   ]
  },
  {
   "cell_type": "code",
   "execution_count": 7,
   "metadata": {},
   "outputs": [
    {
     "data": {
      "text/html": [
       "<div>\n",
       "<style scoped>\n",
       "    .dataframe tbody tr th:only-of-type {\n",
       "        vertical-align: middle;\n",
       "    }\n",
       "\n",
       "    .dataframe tbody tr th {\n",
       "        vertical-align: top;\n",
       "    }\n",
       "\n",
       "    .dataframe thead th {\n",
       "        text-align: right;\n",
       "    }\n",
       "</style>\n",
       "<table border=\"1\" class=\"dataframe\">\n",
       "  <thead>\n",
       "    <tr style=\"text-align: right;\">\n",
       "      <th></th>\n",
       "      <th>theme</th>\n",
       "      <th>sub_theme</th>\n",
       "      <th>feature_name</th>\n",
       "      <th>co_ordinates</th>\n",
       "    </tr>\n",
       "  </thead>\n",
       "  <tbody>\n",
       "    <tr>\n",
       "      <th>0</th>\n",
       "      <td>Place of Worship</td>\n",
       "      <td>Church</td>\n",
       "      <td>St Francis Church</td>\n",
       "      <td>-37.8118847831837, 144.962422614541</td>\n",
       "    </tr>\n",
       "    <tr>\n",
       "      <th>1</th>\n",
       "      <td>Place of Worship</td>\n",
       "      <td>Church</td>\n",
       "      <td>St James Church</td>\n",
       "      <td>-37.8101281201969, 144.952468571683</td>\n",
       "    </tr>\n",
       "    <tr>\n",
       "      <th>2</th>\n",
       "      <td>Place of Worship</td>\n",
       "      <td>Church</td>\n",
       "      <td>St Mary's Anglican Church</td>\n",
       "      <td>-37.8031663672997, 144.953761537074</td>\n",
       "    </tr>\n",
       "    <tr>\n",
       "      <th>3</th>\n",
       "      <td>Place of Worship</td>\n",
       "      <td>Church</td>\n",
       "      <td>Scots Church</td>\n",
       "      <td>-37.8145687802664, 144.96855105335</td>\n",
       "    </tr>\n",
       "    <tr>\n",
       "      <th>4</th>\n",
       "      <td>Place of Worship</td>\n",
       "      <td>Church</td>\n",
       "      <td>St Michael's Uniting Church</td>\n",
       "      <td>-37.8143851324913, 144.969174036096</td>\n",
       "    </tr>\n",
       "    <tr>\n",
       "      <th>...</th>\n",
       "      <td>...</td>\n",
       "      <td>...</td>\n",
       "      <td>...</td>\n",
       "      <td>...</td>\n",
       "    </tr>\n",
       "    <tr>\n",
       "      <th>237</th>\n",
       "      <td>Education Centre</td>\n",
       "      <td>School - Primary and Secondary Education</td>\n",
       "      <td>Melbourne Girls Grammar School</td>\n",
       "      <td>-37.8315364518803, 144.985089428348</td>\n",
       "    </tr>\n",
       "    <tr>\n",
       "      <th>238</th>\n",
       "      <td>Retail</td>\n",
       "      <td>Department Store</td>\n",
       "      <td>Myer</td>\n",
       "      <td>-37.8135911985281, 144.963855087868</td>\n",
       "    </tr>\n",
       "    <tr>\n",
       "      <th>239</th>\n",
       "      <td>Retail</td>\n",
       "      <td>Department Store</td>\n",
       "      <td>David Jones</td>\n",
       "      <td>-37.8133127260638, 144.964373486798</td>\n",
       "    </tr>\n",
       "    <tr>\n",
       "      <th>240</th>\n",
       "      <td>Health Services</td>\n",
       "      <td>Medical Services</td>\n",
       "      <td>Mercy Private Hospital</td>\n",
       "      <td>-37.811896809802, 144.984435746587</td>\n",
       "    </tr>\n",
       "    <tr>\n",
       "      <th>241</th>\n",
       "      <td>Mixed Use</td>\n",
       "      <td>Retail/Office/Carpark</td>\n",
       "      <td>ANZ 'Gothic' Bank</td>\n",
       "      <td>-37.8161580666029, 144.961673719242</td>\n",
       "    </tr>\n",
       "  </tbody>\n",
       "</table>\n",
       "<p>242 rows × 4 columns</p>\n",
       "</div>"
      ],
      "text/plain": [
       "                theme                                 sub_theme  \\\n",
       "0    Place of Worship                                    Church   \n",
       "1    Place of Worship                                    Church   \n",
       "2    Place of Worship                                    Church   \n",
       "3    Place of Worship                                    Church   \n",
       "4    Place of Worship                                    Church   \n",
       "..                ...                                       ...   \n",
       "237  Education Centre  School - Primary and Secondary Education   \n",
       "238            Retail                          Department Store   \n",
       "239            Retail                          Department Store   \n",
       "240   Health Services                          Medical Services   \n",
       "241         Mixed Use                     Retail/Office/Carpark   \n",
       "\n",
       "                       feature_name                         co_ordinates  \n",
       "0                 St Francis Church  -37.8118847831837, 144.962422614541  \n",
       "1                   St James Church  -37.8101281201969, 144.952468571683  \n",
       "2         St Mary's Anglican Church  -37.8031663672997, 144.953761537074  \n",
       "3                      Scots Church   -37.8145687802664, 144.96855105335  \n",
       "4       St Michael's Uniting Church  -37.8143851324913, 144.969174036096  \n",
       "..                              ...                                  ...  \n",
       "237  Melbourne Girls Grammar School  -37.8315364518803, 144.985089428348  \n",
       "238                            Myer  -37.8135911985281, 144.963855087868  \n",
       "239                     David Jones  -37.8133127260638, 144.964373486798  \n",
       "240          Mercy Private Hospital   -37.811896809802, 144.984435746587  \n",
       "241               ANZ 'Gothic' Bank  -37.8161580666029, 144.961673719242  \n",
       "\n",
       "[242 rows x 4 columns]"
      ]
     },
     "execution_count": 7,
     "metadata": {},
     "output_type": "execute_result"
    }
   ],
   "source": [
    "places"
   ]
  },
  {
   "cell_type": "code",
   "execution_count": 8,
   "metadata": {},
   "outputs": [
    {
     "name": "stdout",
     "output_type": "stream",
     "text": [
      "<class 'pandas.core.frame.DataFrame'>\n",
      "RangeIndex: 242 entries, 0 to 241\n",
      "Data columns (total 4 columns):\n",
      " #   Column        Non-Null Count  Dtype \n",
      "---  ------        --------------  ----- \n",
      " 0   theme         242 non-null    object\n",
      " 1   sub_theme     242 non-null    object\n",
      " 2   feature_name  242 non-null    object\n",
      " 3   co_ordinates  242 non-null    object\n",
      "dtypes: object(4)\n",
      "memory usage: 7.7+ KB\n"
     ]
    }
   ],
   "source": [
    "places.info()"
   ]
  },
  {
   "cell_type": "code",
   "execution_count": 9,
   "metadata": {},
   "outputs": [
    {
     "data": {
      "text/plain": [
       "(242, 4)"
      ]
     },
     "execution_count": 9,
     "metadata": {},
     "output_type": "execute_result"
    }
   ],
   "source": [
    "places.shape"
   ]
  },
  {
   "cell_type": "code",
   "execution_count": 10,
   "metadata": {},
   "outputs": [
    {
     "data": {
      "text/plain": [
       "theme           0\n",
       "sub_theme       0\n",
       "feature_name    0\n",
       "co_ordinates    0\n",
       "dtype: int64"
      ]
     },
     "execution_count": 10,
     "metadata": {},
     "output_type": "execute_result"
    }
   ],
   "source": [
    "places.isna().sum()"
   ]
  },
  {
   "cell_type": "code",
   "execution_count": 11,
   "metadata": {},
   "outputs": [
    {
     "data": {
      "text/plain": [
       "theme\n",
       "Leisure/Recreation                      63\n",
       "Place Of Assembly                       40\n",
       "Place of Worship                        31\n",
       "Transport                               26\n",
       "Community Use                           21\n",
       "Education Centre                        13\n",
       "Mixed Use                               11\n",
       "Health Services                         11\n",
       "Office                                  11\n",
       "Purpose Built                            4\n",
       "Vacant Land                              3\n",
       "Retail                                   3\n",
       "Residential Accommodation                2\n",
       "Specialist Residential Accommodation     1\n",
       "Warehouse/Store                          1\n",
       "Industrial                               1\n",
       "Name: count, dtype: int64"
      ]
     },
     "execution_count": 11,
     "metadata": {},
     "output_type": "execute_result"
    }
   ],
   "source": [
    "places['theme'].value_counts()"
   ]
  },
  {
   "cell_type": "code",
   "execution_count": 12,
   "metadata": {},
   "outputs": [
    {
     "data": {
      "text/plain": [
       "sub_theme\n",
       "Informal Outdoor Facility (Park/Garden/Reserve)    37\n",
       "Church                                             30\n",
       "Railway Station                                    23\n",
       "Art Gallery/Museum                                 19\n",
       "Theatre Live                                       15\n",
       "Major Sports & Recreation Facility                 14\n",
       "Public Buildings                                   13\n",
       "Office                                             11\n",
       "Public Hospital                                     7\n",
       "Retail/Office/Carpark                               5\n",
       "Tertiary (University)                               4\n",
       "Primary Schools                                     4\n",
       "Outdoor Recreation Facility (Zoo, Golf Course)      4\n",
       "Function/Conference/Exhibition Centre               4\n",
       "Indoor Recreation Facility                          3\n",
       "Police Station                                      3\n",
       "Private Hospital                                    3\n",
       "Retail/Office                                       3\n",
       "Dwelling (House)                                    2\n",
       "Visitor Centre                                      2\n",
       "Private Sports Club/Facility                        2\n",
       "School - Primary and Secondary Education            2\n",
       "Department Store                                    2\n",
       "Retail/Office/Residential/Carpark                   2\n",
       "Observation Tower/Wheel                             2\n",
       "Film & RV Studio                                    2\n",
       "Secondary Schools                                   2\n",
       "Synagogue                                           1\n",
       "Cemetery                                            1\n",
       "Transport Terminal                                  1\n",
       "Bridge                                              1\n",
       "Aquarium                                            1\n",
       "Industrial (Manufacturing)                          1\n",
       "Cinema                                              1\n",
       "Current Construction Site - Commercial              1\n",
       "Casino                                              1\n",
       "Retail                                              1\n",
       "Library                                             1\n",
       "Fire Station                                        1\n",
       "Government Building                                 1\n",
       "Retail/Residential                                  1\n",
       "Gymnasium/Health Club                               1\n",
       "Vacant Land - Undeveloped Site                      1\n",
       "Store Yard                                          1\n",
       "Further Education                                   1\n",
       "Current Construction Site                           1\n",
       "Marina                                              1\n",
       "Hostel                                              1\n",
       "Medical Services                                    1\n",
       "Name: count, dtype: int64"
      ]
     },
     "execution_count": 12,
     "metadata": {},
     "output_type": "execute_result"
    }
   ],
   "source": [
    "places['sub_theme'].value_counts()"
   ]
  },
  {
   "cell_type": "code",
   "execution_count": 13,
   "metadata": {},
   "outputs": [
    {
     "name": "stdout",
     "output_type": "stream",
     "text": [
      "           theme                               sub_theme  \\\n",
      "23   Vacant Land          Vacant Land - Undeveloped Site   \n",
      "118  Vacant Land               Current Construction Site   \n",
      "205  Vacant Land  Current Construction Site - Commercial   \n",
      "\n",
      "                                feature_name  \\\n",
      "23   Melbourne International Karting Complex   \n",
      "118                             Harbour Town   \n",
      "205                   Railway Good Shed No 2   \n",
      "\n",
      "                            co_ordinates  \n",
      "23   -37.8310746380616, 144.913822928701  \n",
      "118  -37.8139256326845, 144.938123825625  \n",
      "205  -37.8211371302179, 144.951378883631  \n",
      "------------------------------------------\n",
      "             theme         sub_theme                            feature_name  \\\n",
      "33   Purpose Built  Film & RV Studio                    Central City Studios   \n",
      "117  Purpose Built  Film & RV Studio  Channel 7 - Melbourne Broadcast Centre   \n",
      "198  Purpose Built            Casino             Crown Entertainment Complex   \n",
      "233  Purpose Built          Aquarium                      Melbourne Aquarium   \n",
      "\n",
      "                            co_ordinates  \n",
      "33   -37.8142318521296, 144.935655305362  \n",
      "117   -37.8158572333481, 144.94582326909  \n",
      "198  -37.8235761092516, 144.957312880653  \n",
      "233  -37.8209627824685, 144.958425696055  \n",
      "------------------------------------------\n",
      "                                   theme sub_theme  \\\n",
      "37  Specialist Residential Accommodation    Hostel   \n",
      "\n",
      "                         feature_name                         co_ordinates  \n",
      "37  The Mission To Seafarers Victoria  -37.8224995970811, 144.951254841448  \n",
      "------------------------------------------\n",
      "                         theme         sub_theme      feature_name  \\\n",
      "85   Residential Accommodation  Dwelling (House)      Bishopscourt   \n",
      "133  Residential Accommodation  Dwelling (House)  Government House   \n",
      "\n",
      "                            co_ordinates  \n",
      "85    -37.8132921649416, 144.98350690799  \n",
      "133  -37.8275635886174, 144.976655130464  \n",
      "------------------------------------------\n",
      "               theme   sub_theme                     feature_name  \\\n",
      "146  Warehouse/Store  Store Yard  Melbourne Wholesale Fish Market   \n",
      "\n",
      "                            co_ordinates  \n",
      "146  -37.8083471006041, 144.930613255612  \n",
      "------------------------------------------\n",
      "      theme         sub_theme           feature_name  \\\n",
      "179  Retail            Retail  Queen Victoria Market   \n",
      "238  Retail  Department Store                   Myer   \n",
      "239  Retail  Department Store            David Jones   \n",
      "\n",
      "                            co_ordinates  \n",
      "179  -37.8075002018073, 144.957158515056  \n",
      "238  -37.8135911985281, 144.963855087868  \n",
      "239  -37.8133127260638, 144.964373486798  \n",
      "------------------------------------------\n",
      "          theme                   sub_theme feature_name  \\\n",
      "225  Industrial  Industrial (Manufacturing)        Kraft   \n",
      "\n",
      "                            co_ordinates  \n",
      "225  -37.8262313085528, 144.923475698195  \n",
      "------------------------------------------\n"
     ]
    }
   ],
   "source": [
    "for i in places['theme'].unique():\n",
    "    if len(places.loc[places['theme']==i].value_counts())<5:\n",
    "        print(places.loc[places['theme']==i])\n",
    "        print(\"------------------------------------------\")"
   ]
  },
  {
   "cell_type": "code",
   "execution_count": 14,
   "metadata": {},
   "outputs": [],
   "source": [
    "drop_themes=['Vacant Land','Purpose Built','Specialist Residential Accommodation','Residential Accommodation','Warehouse/Store','Industrial']\n",
    "places=places[~places['theme'].isin(drop_themes)]"
   ]
  },
  {
   "cell_type": "code",
   "execution_count": 15,
   "metadata": {},
   "outputs": [
    {
     "name": "stdout",
     "output_type": "stream",
     "text": [
      "(230, 4)\n"
     ]
    },
    {
     "data": {
      "text/html": [
       "<div>\n",
       "<style scoped>\n",
       "    .dataframe tbody tr th:only-of-type {\n",
       "        vertical-align: middle;\n",
       "    }\n",
       "\n",
       "    .dataframe tbody tr th {\n",
       "        vertical-align: top;\n",
       "    }\n",
       "\n",
       "    .dataframe thead th {\n",
       "        text-align: right;\n",
       "    }\n",
       "</style>\n",
       "<table border=\"1\" class=\"dataframe\">\n",
       "  <thead>\n",
       "    <tr style=\"text-align: right;\">\n",
       "      <th></th>\n",
       "      <th>theme</th>\n",
       "      <th>sub_theme</th>\n",
       "      <th>feature_name</th>\n",
       "      <th>co_ordinates</th>\n",
       "    </tr>\n",
       "  </thead>\n",
       "  <tbody>\n",
       "    <tr>\n",
       "      <th>0</th>\n",
       "      <td>Place of Worship</td>\n",
       "      <td>Church</td>\n",
       "      <td>St Francis Church</td>\n",
       "      <td>-37.8118847831837, 144.962422614541</td>\n",
       "    </tr>\n",
       "    <tr>\n",
       "      <th>1</th>\n",
       "      <td>Place of Worship</td>\n",
       "      <td>Church</td>\n",
       "      <td>St James Church</td>\n",
       "      <td>-37.8101281201969, 144.952468571683</td>\n",
       "    </tr>\n",
       "    <tr>\n",
       "      <th>2</th>\n",
       "      <td>Place of Worship</td>\n",
       "      <td>Church</td>\n",
       "      <td>St Mary's Anglican Church</td>\n",
       "      <td>-37.8031663672997, 144.953761537074</td>\n",
       "    </tr>\n",
       "    <tr>\n",
       "      <th>3</th>\n",
       "      <td>Place of Worship</td>\n",
       "      <td>Church</td>\n",
       "      <td>Scots Church</td>\n",
       "      <td>-37.8145687802664, 144.96855105335</td>\n",
       "    </tr>\n",
       "    <tr>\n",
       "      <th>4</th>\n",
       "      <td>Place of Worship</td>\n",
       "      <td>Church</td>\n",
       "      <td>St Michael's Uniting Church</td>\n",
       "      <td>-37.8143851324913, 144.969174036096</td>\n",
       "    </tr>\n",
       "  </tbody>\n",
       "</table>\n",
       "</div>"
      ],
      "text/plain": [
       "              theme sub_theme                 feature_name  \\\n",
       "0  Place of Worship    Church            St Francis Church   \n",
       "1  Place of Worship    Church              St James Church   \n",
       "2  Place of Worship    Church    St Mary's Anglican Church   \n",
       "3  Place of Worship    Church                 Scots Church   \n",
       "4  Place of Worship    Church  St Michael's Uniting Church   \n",
       "\n",
       "                          co_ordinates  \n",
       "0  -37.8118847831837, 144.962422614541  \n",
       "1  -37.8101281201969, 144.952468571683  \n",
       "2  -37.8031663672997, 144.953761537074  \n",
       "3   -37.8145687802664, 144.96855105335  \n",
       "4  -37.8143851324913, 144.969174036096  "
      ]
     },
     "execution_count": 15,
     "metadata": {},
     "output_type": "execute_result"
    }
   ],
   "source": [
    "print(places.shape)\n",
    "places.head()"
   ]
  },
  {
   "cell_type": "code",
   "execution_count": 17,
   "metadata": {},
   "outputs": [],
   "source": [
    "co_ord_list = places['co_ordinates'].str.split(\", \", expand=True)\n",
    "places.loc[:, 'latitude'] = pd.to_numeric(co_ord_list[0])\n",
    "places.loc[:, 'longitude'] = pd.to_numeric(co_ord_list[1])"
   ]
  },
  {
   "cell_type": "code",
   "execution_count": 18,
   "metadata": {},
   "outputs": [
    {
     "name": "stderr",
     "output_type": "stream",
     "text": [
      "/var/folders/vq/x79kmsys0093sdv6ft95m8k00000gn/T/ipykernel_84199/2915858193.py:1: SettingWithCopyWarning: \n",
      "A value is trying to be set on a copy of a slice from a DataFrame\n",
      "\n",
      "See the caveats in the documentation: https://pandas.pydata.org/pandas-docs/stable/user_guide/indexing.html#returning-a-view-versus-a-copy\n",
      "  places.drop(columns='co_ordinates',axis=1,inplace=True)\n"
     ]
    }
   ],
   "source": [
    "places.drop(columns='co_ordinates',axis=1,inplace=True)\n",
    "places.reset_index(drop=True, inplace=True)"
   ]
  },
  {
   "cell_type": "code",
   "execution_count": 19,
   "metadata": {},
   "outputs": [
    {
     "data": {
      "text/html": [
       "<div>\n",
       "<style scoped>\n",
       "    .dataframe tbody tr th:only-of-type {\n",
       "        vertical-align: middle;\n",
       "    }\n",
       "\n",
       "    .dataframe tbody tr th {\n",
       "        vertical-align: top;\n",
       "    }\n",
       "\n",
       "    .dataframe thead th {\n",
       "        text-align: right;\n",
       "    }\n",
       "</style>\n",
       "<table border=\"1\" class=\"dataframe\">\n",
       "  <thead>\n",
       "    <tr style=\"text-align: right;\">\n",
       "      <th></th>\n",
       "      <th>theme</th>\n",
       "      <th>sub_theme</th>\n",
       "      <th>feature_name</th>\n",
       "      <th>latitude</th>\n",
       "      <th>longitude</th>\n",
       "    </tr>\n",
       "  </thead>\n",
       "  <tbody>\n",
       "    <tr>\n",
       "      <th>0</th>\n",
       "      <td>place of worship</td>\n",
       "      <td>church</td>\n",
       "      <td>st francis church</td>\n",
       "      <td>-37.811885</td>\n",
       "      <td>144.962423</td>\n",
       "    </tr>\n",
       "    <tr>\n",
       "      <th>1</th>\n",
       "      <td>place of worship</td>\n",
       "      <td>church</td>\n",
       "      <td>st james church</td>\n",
       "      <td>-37.810128</td>\n",
       "      <td>144.952469</td>\n",
       "    </tr>\n",
       "    <tr>\n",
       "      <th>2</th>\n",
       "      <td>place of worship</td>\n",
       "      <td>church</td>\n",
       "      <td>st mary's anglican church</td>\n",
       "      <td>-37.803166</td>\n",
       "      <td>144.953762</td>\n",
       "    </tr>\n",
       "    <tr>\n",
       "      <th>3</th>\n",
       "      <td>place of worship</td>\n",
       "      <td>church</td>\n",
       "      <td>scots church</td>\n",
       "      <td>-37.814569</td>\n",
       "      <td>144.968551</td>\n",
       "    </tr>\n",
       "    <tr>\n",
       "      <th>4</th>\n",
       "      <td>place of worship</td>\n",
       "      <td>church</td>\n",
       "      <td>st michael's uniting church</td>\n",
       "      <td>-37.814385</td>\n",
       "      <td>144.969174</td>\n",
       "    </tr>\n",
       "  </tbody>\n",
       "</table>\n",
       "</div>"
      ],
      "text/plain": [
       "              theme sub_theme                 feature_name   latitude  \\\n",
       "0  place of worship    church            st francis church -37.811885   \n",
       "1  place of worship    church              st james church -37.810128   \n",
       "2  place of worship    church    st mary's anglican church -37.803166   \n",
       "3  place of worship    church                 scots church -37.814569   \n",
       "4  place of worship    church  st michael's uniting church -37.814385   \n",
       "\n",
       "    longitude  \n",
       "0  144.962423  \n",
       "1  144.952469  \n",
       "2  144.953762  \n",
       "3  144.968551  \n",
       "4  144.969174  "
      ]
     },
     "execution_count": 19,
     "metadata": {},
     "output_type": "execute_result"
    }
   ],
   "source": [
    "for i in places.columns[:-2]:\n",
    "    places.loc[:,i]=places[i].str.lower()\n",
    "places.head()"
   ]
  },
  {
   "cell_type": "markdown",
   "metadata": {},
   "source": [
    "### Creating the \"corpus\" column"
   ]
  },
  {
   "cell_type": "code",
   "execution_count": 21,
   "metadata": {},
   "outputs": [],
   "source": [
    "corpus=places.loc[:,'theme']+\" \"+places.loc[:,'sub_theme']+\" \"+places.loc[:,'feature_name']\n",
    "places.loc[:,'corpus']=corpus"
   ]
  },
  {
   "cell_type": "code",
   "execution_count": 22,
   "metadata": {},
   "outputs": [],
   "source": [
    "pattern = r'[^a-zA-Z0-9\\s]'\n",
    "places.loc[:,'corpus'] = places['corpus'].str.replace(pattern, ' ', regex=True)\n",
    "# places.loc[:,'corpus']=places['corpus'].str.replace(r'\\s+', ' ', regex=True).str.strip()"
   ]
  },
  {
   "cell_type": "code",
   "execution_count": 24,
   "metadata": {},
   "outputs": [],
   "source": [
    "places.loc[:,'corpus_token']=places['corpus'].apply(word_tokenize)"
   ]
  },
  {
   "cell_type": "code",
   "execution_count": 25,
   "metadata": {},
   "outputs": [],
   "source": [
    "stop_words=stopwords.words('english')\n",
    "lst=[]\n",
    "for i in range(len(places['corpus_token'])):\n",
    "    st=\"\"\n",
    "    for j in places.loc[i,'corpus_token']:\n",
    "        if j not in stop_words:\n",
    "            st+=j+\" \"\n",
    "    \n",
    "    lst.append(st[:-1])"
   ]
  },
  {
   "cell_type": "code",
   "execution_count": 27,
   "metadata": {},
   "outputs": [
    {
     "data": {
      "text/html": [
       "<div>\n",
       "<style scoped>\n",
       "    .dataframe tbody tr th:only-of-type {\n",
       "        vertical-align: middle;\n",
       "    }\n",
       "\n",
       "    .dataframe tbody tr th {\n",
       "        vertical-align: top;\n",
       "    }\n",
       "\n",
       "    .dataframe thead th {\n",
       "        text-align: right;\n",
       "    }\n",
       "</style>\n",
       "<table border=\"1\" class=\"dataframe\">\n",
       "  <thead>\n",
       "    <tr style=\"text-align: right;\">\n",
       "      <th></th>\n",
       "      <th>theme</th>\n",
       "      <th>sub_theme</th>\n",
       "      <th>feature_name</th>\n",
       "      <th>latitude</th>\n",
       "      <th>longitude</th>\n",
       "      <th>corpus</th>\n",
       "      <th>corpus_token</th>\n",
       "      <th>corpus_clean</th>\n",
       "    </tr>\n",
       "  </thead>\n",
       "  <tbody>\n",
       "    <tr>\n",
       "      <th>0</th>\n",
       "      <td>place of worship</td>\n",
       "      <td>church</td>\n",
       "      <td>st francis church</td>\n",
       "      <td>-37.811885</td>\n",
       "      <td>144.962423</td>\n",
       "      <td>place of worship church st francis church</td>\n",
       "      <td>[place, of, worship, church, st, francis, church]</td>\n",
       "      <td>place worship church st francis church</td>\n",
       "    </tr>\n",
       "    <tr>\n",
       "      <th>1</th>\n",
       "      <td>place of worship</td>\n",
       "      <td>church</td>\n",
       "      <td>st james church</td>\n",
       "      <td>-37.810128</td>\n",
       "      <td>144.952469</td>\n",
       "      <td>place of worship church st james church</td>\n",
       "      <td>[place, of, worship, church, st, james, church]</td>\n",
       "      <td>place worship church st james church</td>\n",
       "    </tr>\n",
       "    <tr>\n",
       "      <th>2</th>\n",
       "      <td>place of worship</td>\n",
       "      <td>church</td>\n",
       "      <td>st mary's anglican church</td>\n",
       "      <td>-37.803166</td>\n",
       "      <td>144.953762</td>\n",
       "      <td>place of worship church st mary s anglican church</td>\n",
       "      <td>[place, of, worship, church, st, mary, s, angl...</td>\n",
       "      <td>place worship church st mary anglican church</td>\n",
       "    </tr>\n",
       "    <tr>\n",
       "      <th>3</th>\n",
       "      <td>place of worship</td>\n",
       "      <td>church</td>\n",
       "      <td>scots church</td>\n",
       "      <td>-37.814569</td>\n",
       "      <td>144.968551</td>\n",
       "      <td>place of worship church scots church</td>\n",
       "      <td>[place, of, worship, church, scots, church]</td>\n",
       "      <td>place worship church scots church</td>\n",
       "    </tr>\n",
       "    <tr>\n",
       "      <th>4</th>\n",
       "      <td>place of worship</td>\n",
       "      <td>church</td>\n",
       "      <td>st michael's uniting church</td>\n",
       "      <td>-37.814385</td>\n",
       "      <td>144.969174</td>\n",
       "      <td>place of worship church st michael s uniting c...</td>\n",
       "      <td>[place, of, worship, church, st, michael, s, u...</td>\n",
       "      <td>place worship church st michael uniting church</td>\n",
       "    </tr>\n",
       "    <tr>\n",
       "      <th>...</th>\n",
       "      <td>...</td>\n",
       "      <td>...</td>\n",
       "      <td>...</td>\n",
       "      <td>...</td>\n",
       "      <td>...</td>\n",
       "      <td>...</td>\n",
       "      <td>...</td>\n",
       "      <td>...</td>\n",
       "    </tr>\n",
       "    <tr>\n",
       "      <th>225</th>\n",
       "      <td>education centre</td>\n",
       "      <td>school - primary and secondary education</td>\n",
       "      <td>melbourne girls grammar school</td>\n",
       "      <td>-37.831536</td>\n",
       "      <td>144.985089</td>\n",
       "      <td>education centre school   primary and secondar...</td>\n",
       "      <td>[education, centre, school, primary, and, seco...</td>\n",
       "      <td>education centre school primary secondary educ...</td>\n",
       "    </tr>\n",
       "    <tr>\n",
       "      <th>226</th>\n",
       "      <td>retail</td>\n",
       "      <td>department store</td>\n",
       "      <td>myer</td>\n",
       "      <td>-37.813591</td>\n",
       "      <td>144.963855</td>\n",
       "      <td>retail department store myer</td>\n",
       "      <td>[retail, department, store, myer]</td>\n",
       "      <td>retail department store myer</td>\n",
       "    </tr>\n",
       "    <tr>\n",
       "      <th>227</th>\n",
       "      <td>retail</td>\n",
       "      <td>department store</td>\n",
       "      <td>david jones</td>\n",
       "      <td>-37.813313</td>\n",
       "      <td>144.964373</td>\n",
       "      <td>retail department store david jones</td>\n",
       "      <td>[retail, department, store, david, jones]</td>\n",
       "      <td>retail department store david jones</td>\n",
       "    </tr>\n",
       "    <tr>\n",
       "      <th>228</th>\n",
       "      <td>health services</td>\n",
       "      <td>medical services</td>\n",
       "      <td>mercy private hospital</td>\n",
       "      <td>-37.811897</td>\n",
       "      <td>144.984436</td>\n",
       "      <td>health services medical services mercy private...</td>\n",
       "      <td>[health, services, medical, services, mercy, p...</td>\n",
       "      <td>health services medical services mercy private...</td>\n",
       "    </tr>\n",
       "    <tr>\n",
       "      <th>229</th>\n",
       "      <td>mixed use</td>\n",
       "      <td>retail/office/carpark</td>\n",
       "      <td>anz 'gothic' bank</td>\n",
       "      <td>-37.816158</td>\n",
       "      <td>144.961674</td>\n",
       "      <td>mixed use retail office carpark anz  gothic  bank</td>\n",
       "      <td>[mixed, use, retail, office, carpark, anz, got...</td>\n",
       "      <td>mixed use retail office carpark anz gothic bank</td>\n",
       "    </tr>\n",
       "  </tbody>\n",
       "</table>\n",
       "<p>230 rows × 8 columns</p>\n",
       "</div>"
      ],
      "text/plain": [
       "                theme                                 sub_theme  \\\n",
       "0    place of worship                                    church   \n",
       "1    place of worship                                    church   \n",
       "2    place of worship                                    church   \n",
       "3    place of worship                                    church   \n",
       "4    place of worship                                    church   \n",
       "..                ...                                       ...   \n",
       "225  education centre  school - primary and secondary education   \n",
       "226            retail                          department store   \n",
       "227            retail                          department store   \n",
       "228   health services                          medical services   \n",
       "229         mixed use                     retail/office/carpark   \n",
       "\n",
       "                       feature_name   latitude   longitude  \\\n",
       "0                 st francis church -37.811885  144.962423   \n",
       "1                   st james church -37.810128  144.952469   \n",
       "2         st mary's anglican church -37.803166  144.953762   \n",
       "3                      scots church -37.814569  144.968551   \n",
       "4       st michael's uniting church -37.814385  144.969174   \n",
       "..                              ...        ...         ...   \n",
       "225  melbourne girls grammar school -37.831536  144.985089   \n",
       "226                            myer -37.813591  144.963855   \n",
       "227                     david jones -37.813313  144.964373   \n",
       "228          mercy private hospital -37.811897  144.984436   \n",
       "229               anz 'gothic' bank -37.816158  144.961674   \n",
       "\n",
       "                                                corpus  \\\n",
       "0            place of worship church st francis church   \n",
       "1              place of worship church st james church   \n",
       "2    place of worship church st mary s anglican church   \n",
       "3                 place of worship church scots church   \n",
       "4    place of worship church st michael s uniting c...   \n",
       "..                                                 ...   \n",
       "225  education centre school   primary and secondar...   \n",
       "226                       retail department store myer   \n",
       "227                retail department store david jones   \n",
       "228  health services medical services mercy private...   \n",
       "229  mixed use retail office carpark anz  gothic  bank   \n",
       "\n",
       "                                          corpus_token  \\\n",
       "0    [place, of, worship, church, st, francis, church]   \n",
       "1      [place, of, worship, church, st, james, church]   \n",
       "2    [place, of, worship, church, st, mary, s, angl...   \n",
       "3          [place, of, worship, church, scots, church]   \n",
       "4    [place, of, worship, church, st, michael, s, u...   \n",
       "..                                                 ...   \n",
       "225  [education, centre, school, primary, and, seco...   \n",
       "226                  [retail, department, store, myer]   \n",
       "227          [retail, department, store, david, jones]   \n",
       "228  [health, services, medical, services, mercy, p...   \n",
       "229  [mixed, use, retail, office, carpark, anz, got...   \n",
       "\n",
       "                                          corpus_clean  \n",
       "0               place worship church st francis church  \n",
       "1                 place worship church st james church  \n",
       "2         place worship church st mary anglican church  \n",
       "3                    place worship church scots church  \n",
       "4       place worship church st michael uniting church  \n",
       "..                                                 ...  \n",
       "225  education centre school primary secondary educ...  \n",
       "226                       retail department store myer  \n",
       "227                retail department store david jones  \n",
       "228  health services medical services mercy private...  \n",
       "229    mixed use retail office carpark anz gothic bank  \n",
       "\n",
       "[230 rows x 8 columns]"
      ]
     },
     "execution_count": 27,
     "metadata": {},
     "output_type": "execute_result"
    }
   ],
   "source": [
    "places.loc[:,'corpus_clean']=lst\n",
    "places"
   ]
  },
  {
   "cell_type": "markdown",
   "metadata": {},
   "source": [
    "### TfidfVectorizer"
   ]
  },
  {
   "cell_type": "code",
   "execution_count": 28,
   "metadata": {},
   "outputs": [],
   "source": [
    "vectorizer = TfidfVectorizer(stop_words='english')\n",
    "\n",
    "tfidf_matrix = vectorizer.fit_transform(places['corpus_clean'])\n"
   ]
  },
  {
   "cell_type": "markdown",
   "metadata": {},
   "source": [
    "### Processing user input"
   ]
  },
  {
   "cell_type": "code",
   "execution_count": 29,
   "metadata": {},
   "outputs": [],
   "source": [
    "def user_input(place,user_loc):\n",
    "    \n",
    "    user_input_vector = vectorizer.transform([place])\n",
    "    geolocator = Nominatim(user_agent=\"my_geocoder\",timeout=5)\n",
    "    l1,l2=coordinates(user_loc)\n",
    "    return user_input_vector,l1,l2"
   ]
  },
  {
   "cell_type": "markdown",
   "metadata": {},
   "source": [
    "### cosine similarity to filter out records which are similar to the user input"
   ]
  },
  {
   "cell_type": "code",
   "execution_count": 30,
   "metadata": {},
   "outputs": [],
   "source": [
    "def get_filtered_places(user_input_vector,tfidf_matrix,places,l1,l2):\n",
    "    similarities = cosine_similarity(user_input_vector, tfidf_matrix)\n",
    "    \n",
    "    similar_indices=[]\n",
    "    for i in range(len(similarities[0])):\n",
    "        if similarities[0][i]>0:\n",
    "            similar_indices.append(i)\n",
    "\n",
    "    relevant_records = places.iloc[similar_indices]\n",
    "    relevant_records.reset_index(drop=True,inplace=True)\n",
    "    \n",
    "    \n",
    "    #Applying haversine distance to filter the records(at max 10) which are within 2km of user's location\n",
    "    ind=[]\n",
    "    for i,j in relevant_records.iterrows():\n",
    "        distance=haversine(l1,l2,j['latitude'],j['longitude'])\n",
    "        if distance<=2 and len(ind)<=10:\n",
    "            ind.append(i)\n",
    "    relevant_records_filtered = relevant_records.iloc[ind]\n",
    "    return relevant_records_filtered"
   ]
  },
  {
   "cell_type": "markdown",
   "metadata": {},
   "source": [
    "==============================================================================================================="
   ]
  },
  {
   "cell_type": "markdown",
   "metadata": {},
   "source": [
    "### Preprocessing the Parking_bays dataset"
   ]
  },
  {
   "cell_type": "code",
   "execution_count": 34,
   "metadata": {},
   "outputs": [
    {
     "data": {
      "text/html": [
       "<div>\n",
       "<style scoped>\n",
       "    .dataframe tbody tr th:only-of-type {\n",
       "        vertical-align: middle;\n",
       "    }\n",
       "\n",
       "    .dataframe tbody tr th {\n",
       "        vertical-align: top;\n",
       "    }\n",
       "\n",
       "    .dataframe thead th {\n",
       "        text-align: right;\n",
       "    }\n",
       "</style>\n",
       "<table border=\"1\" class=\"dataframe\">\n",
       "  <thead>\n",
       "    <tr style=\"text-align: right;\">\n",
       "      <th></th>\n",
       "      <th>roadsegmentid</th>\n",
       "      <th>kerbsideid</th>\n",
       "      <th>roadsegmentdescription</th>\n",
       "      <th>latitude</th>\n",
       "      <th>longitude</th>\n",
       "      <th>lastupdated</th>\n",
       "    </tr>\n",
       "  </thead>\n",
       "  <tbody>\n",
       "    <tr>\n",
       "      <th>0</th>\n",
       "      <td>22730</td>\n",
       "      <td>NaN</td>\n",
       "      <td>Park Street between Mason Street and Randall P...</td>\n",
       "      <td>-37.836245</td>\n",
       "      <td>144.982021</td>\n",
       "      <td>2022-08-31</td>\n",
       "    </tr>\n",
       "    <tr>\n",
       "      <th>1</th>\n",
       "      <td>22730</td>\n",
       "      <td>NaN</td>\n",
       "      <td>Park Street between Mason Street and Randall P...</td>\n",
       "      <td>-37.835800</td>\n",
       "      <td>144.982115</td>\n",
       "      <td>2022-08-31</td>\n",
       "    </tr>\n",
       "    <tr>\n",
       "      <th>2</th>\n",
       "      <td>20013</td>\n",
       "      <td>5701</td>\n",
       "      <td>Lonsdale Street between William Street and Kin...</td>\n",
       "      <td>-37.814238</td>\n",
       "      <td>144.955451</td>\n",
       "      <td>2023-10-02</td>\n",
       "    </tr>\n",
       "    <tr>\n",
       "      <th>3</th>\n",
       "      <td>20013</td>\n",
       "      <td>23444</td>\n",
       "      <td>Lonsdale Street between William Street and Kin...</td>\n",
       "      <td>-37.814271</td>\n",
       "      <td>144.955334</td>\n",
       "      <td>2023-10-02</td>\n",
       "    </tr>\n",
       "    <tr>\n",
       "      <th>4</th>\n",
       "      <td>22268</td>\n",
       "      <td>NaN</td>\n",
       "      <td>Clowes Street between Anderson Street and Wals...</td>\n",
       "      <td>-37.830568</td>\n",
       "      <td>144.984713</td>\n",
       "      <td>2022-08-31</td>\n",
       "    </tr>\n",
       "    <tr>\n",
       "      <th>...</th>\n",
       "      <td>...</td>\n",
       "      <td>...</td>\n",
       "      <td>...</td>\n",
       "      <td>...</td>\n",
       "      <td>...</td>\n",
       "      <td>...</td>\n",
       "    </tr>\n",
       "    <tr>\n",
       "      <th>19157</th>\n",
       "      <td>22492</td>\n",
       "      <td>NaN</td>\n",
       "      <td>Alexandra Avenue between Swan Street Bridge an...</td>\n",
       "      <td>-37.827226</td>\n",
       "      <td>144.980441</td>\n",
       "      <td>2022-08-31</td>\n",
       "    </tr>\n",
       "    <tr>\n",
       "      <th>19158</th>\n",
       "      <td>22492</td>\n",
       "      <td>NaN</td>\n",
       "      <td>Alexandra Avenue between Swan Street Bridge an...</td>\n",
       "      <td>-37.827380</td>\n",
       "      <td>144.981004</td>\n",
       "      <td>2022-08-31</td>\n",
       "    </tr>\n",
       "    <tr>\n",
       "      <th>19159</th>\n",
       "      <td>22492</td>\n",
       "      <td>NaN</td>\n",
       "      <td>Alexandra Avenue between Swan Street Bridge an...</td>\n",
       "      <td>-37.826361</td>\n",
       "      <td>144.979266</td>\n",
       "      <td>2022-08-31</td>\n",
       "    </tr>\n",
       "    <tr>\n",
       "      <th>19160</th>\n",
       "      <td>22492</td>\n",
       "      <td>NaN</td>\n",
       "      <td>Alexandra Avenue between Swan Street Bridge an...</td>\n",
       "      <td>-37.826780</td>\n",
       "      <td>144.979662</td>\n",
       "      <td>2022-08-31</td>\n",
       "    </tr>\n",
       "    <tr>\n",
       "      <th>19161</th>\n",
       "      <td>22492</td>\n",
       "      <td>NaN</td>\n",
       "      <td>Alexandra Avenue between Swan Street Bridge an...</td>\n",
       "      <td>-37.825850</td>\n",
       "      <td>144.978719</td>\n",
       "      <td>2022-08-31</td>\n",
       "    </tr>\n",
       "  </tbody>\n",
       "</table>\n",
       "<p>19162 rows × 6 columns</p>\n",
       "</div>"
      ],
      "text/plain": [
       "       roadsegmentid kerbsideid  \\\n",
       "0              22730        NaN   \n",
       "1              22730        NaN   \n",
       "2              20013       5701   \n",
       "3              20013      23444   \n",
       "4              22268        NaN   \n",
       "...              ...        ...   \n",
       "19157          22492        NaN   \n",
       "19158          22492        NaN   \n",
       "19159          22492        NaN   \n",
       "19160          22492        NaN   \n",
       "19161          22492        NaN   \n",
       "\n",
       "                                  roadsegmentdescription   latitude  \\\n",
       "0      Park Street between Mason Street and Randall P... -37.836245   \n",
       "1      Park Street between Mason Street and Randall P... -37.835800   \n",
       "2      Lonsdale Street between William Street and Kin... -37.814238   \n",
       "3      Lonsdale Street between William Street and Kin... -37.814271   \n",
       "4      Clowes Street between Anderson Street and Wals... -37.830568   \n",
       "...                                                  ...        ...   \n",
       "19157  Alexandra Avenue between Swan Street Bridge an... -37.827226   \n",
       "19158  Alexandra Avenue between Swan Street Bridge an... -37.827380   \n",
       "19159  Alexandra Avenue between Swan Street Bridge an... -37.826361   \n",
       "19160  Alexandra Avenue between Swan Street Bridge an... -37.826780   \n",
       "19161  Alexandra Avenue between Swan Street Bridge an... -37.825850   \n",
       "\n",
       "        longitude lastupdated  \n",
       "0      144.982021  2022-08-31  \n",
       "1      144.982115  2022-08-31  \n",
       "2      144.955451  2023-10-02  \n",
       "3      144.955334  2023-10-02  \n",
       "4      144.984713  2022-08-31  \n",
       "...           ...         ...  \n",
       "19157  144.980441  2022-08-31  \n",
       "19158  144.981004  2022-08-31  \n",
       "19159  144.979266  2022-08-31  \n",
       "19160  144.979662  2022-08-31  \n",
       "19161  144.978719  2022-08-31  \n",
       "\n",
       "[19162 rows x 6 columns]"
      ]
     },
     "execution_count": 34,
     "metadata": {},
     "output_type": "execute_result"
    }
   ],
   "source": [
    "parking_bays"
   ]
  },
  {
   "cell_type": "code",
   "execution_count": 35,
   "metadata": {},
   "outputs": [
    {
     "data": {
      "text/plain": [
       "(19162, 6)"
      ]
     },
     "execution_count": 35,
     "metadata": {},
     "output_type": "execute_result"
    }
   ],
   "source": [
    "parking_bays.shape"
   ]
  },
  {
   "cell_type": "code",
   "execution_count": 36,
   "metadata": {},
   "outputs": [
    {
     "data": {
      "text/plain": [
       "roadsegmentid                 0\n",
       "kerbsideid                14149\n",
       "roadsegmentdescription        0\n",
       "latitude                      0\n",
       "longitude                     0\n",
       "lastupdated                   0\n",
       "dtype: int64"
      ]
     },
     "execution_count": 36,
     "metadata": {},
     "output_type": "execute_result"
    }
   ],
   "source": [
    "parking_bays.isna().sum()"
   ]
  },
  {
   "cell_type": "code",
   "execution_count": 37,
   "metadata": {},
   "outputs": [
    {
     "data": {
      "text/plain": [
       "roadsegmentid             0\n",
       "roadsegmentdescription    0\n",
       "latitude                  0\n",
       "longitude                 0\n",
       "lastupdated               0\n",
       "dtype: int64"
      ]
     },
     "execution_count": 37,
     "metadata": {},
     "output_type": "execute_result"
    }
   ],
   "source": [
    "parking_bays.drop(columns='kerbsideid',inplace=True)\n",
    "parking_bays.isna().sum()"
   ]
  },
  {
   "cell_type": "markdown",
   "metadata": {},
   "source": [
    "### Applying haversine distance to filter the parking bays which are within 200m of filtered places of interest"
   ]
  },
  {
   "cell_type": "code",
   "execution_count": 40,
   "metadata": {},
   "outputs": [],
   "source": [
    "def get_filtered_parking(parking_bays,relevant_records_filtered):\n",
    "    ind=[]\n",
    "    for i,j in parking_bays.iterrows():\n",
    "        for m,n in relevant_records_filtered.iterrows():\n",
    "\n",
    "            distance=haversine(j['latitude'],j['longitude'],n['latitude'],n['longitude'])\n",
    "            if distance<=0.2 and i not in ind:\n",
    "                ind.append(i)\n",
    "    parking_bays_filtered = parking_bays.iloc[ind]\n",
    "    parking_bays_filtered.reset_index(drop=True,inplace=True)\n",
    "    return parking_bays_filtered"
   ]
  },
  {
   "cell_type": "markdown",
   "metadata": {},
   "source": [
    "### Displaying all places of interest and filtered places, all parking bays, filtered places and closest parking bays on a map."
   ]
  },
  {
   "cell_type": "code",
   "execution_count": 46,
   "metadata": {
    "scrolled": false
   },
   "outputs": [
    {
     "name": "stdout",
     "output_type": "stream",
     "text": [
      "Enter a place of interest: park\n",
      "Enter your location: Docklands\n"
     ]
    },
    {
     "data": {
      "application/vnd.jupyter.widget-view+json": {
       "model_id": "9bbb0d0013794ad497e6d064024082ea",
       "version_major": 2,
       "version_minor": 0
      },
      "text/plain": [
       "Tab(children=(Output(), Output(), Output()), selected_index=0, titles=('All places vs filtered places', 'Parki…"
      ]
     },
     "metadata": {},
     "output_type": "display_data"
    }
   ],
   "source": [
    "place_name = input(\"Enter a place of interest: \").lower()\n",
    "user_loc=input(\"Enter your location: \").lower()\n",
    "user_input_vector,user_l1,user_l2=user_input(place_name,user_loc)\n",
    "relevant_records_filtered=get_filtered_places(user_input_vector,tfidf_matrix,places,user_l1,user_l2)\n",
    "parking_bays_filtered=get_filtered_parking(parking_bays,relevant_records_filtered)\n",
    "\n",
    "\n",
    "map_display1 = folium.Map(location=[places['latitude'].mean(), places['longitude'].mean()], zoom_start=10)\n",
    "\n",
    "map_display1=create_map(map_display1,places,'feature_name','blue')\n",
    "map_display1=create_map(map_display1,relevant_records_filtered,'feature_name','green')\n",
    "\n",
    "legend_html1 = \"\"\"\n",
    "    <div style=\"position: fixed; \n",
    "                bottom: 50px; left: 50px; width: 150px; height: 60px; \n",
    "                border:2px solid grey; z-index:9999; font-size:14px;\n",
    "                background-color:white; opacity: 0.8;\">\n",
    "          <p style=\"text-align:center; margin: 0;\"><strong>Legend</strong></p>\n",
    "          <p style=\"margin: 0;\">All places of interest: <span style=\"color:lightblue\">&#9679;</span></p>\n",
    "          <p style=\"margin: 0;\">Filtered places: <span style=\"color:green\">&#9679;</span></p>\n",
    "    </div>\n",
    "    \"\"\"\n",
    "     \n",
    "title_html1 = \"\"\"\n",
    "<h3 style=\"text-align: center; margin: 10px 0;\">All places of interest and filtered places of interest</h3>\n",
    "\"\"\"\n",
    "\n",
    "map_display1.get_root().html.add_child(folium.Element(legend_html1))\n",
    "map_display1.get_root().html.add_child(folium.Element(title_html1))\n",
    "\n",
    "map_html_places = map_display1._repr_html_()\n",
    "\n",
    "#-------------------------------------------------------------------\n",
    "map_display2 = folium.Map(location=[parking_bays['latitude'].mean(), parking_bays['longitude'].mean()], zoom_start=10)\n",
    "\n",
    "map_display2=create_map(map_display2,parking_bays,'roadsegmentdescription','blue',marker=True)\n",
    "\n",
    "legend_html2 = \"\"\"\n",
    "<div style=\"position: fixed; \n",
    "            bottom: 50px; left: 50px; width: 150px; height:50px; \n",
    "            border:2px solid grey; z-index:9999; font-size:14px;\n",
    "            background-color:white; opacity: 0.8;\">\n",
    "       <p style=\"text-align:center; margin: 0;\"><strong>Legend</strong></p>\n",
    "       <p style=\"margin: 0;\">Parking Spots: <span style=\"color:lightblue\">&#9679;</span></p>\n",
    "</div>\n",
    "\"\"\"    \n",
    "title_html2 = \"\"\"\n",
    "<h3 style=\"text-align: center; margin: 10px 0;\">Parking Bays</h3>\n",
    "\"\"\"\n",
    "map_display2.get_root().html.add_child(folium.Element(legend_html2))\n",
    "map_display2.get_root().html.add_child(folium.Element(title_html2))\n",
    "\n",
    "map_html_parking = map_display2._repr_html_()\n",
    "\n",
    "#-------------------------------------------------------------------\n",
    "\n",
    "map_display3 = folium.Map(location=[relevant_records_filtered['latitude'].mean(), relevant_records_filtered['longitude'].mean()], zoom_start=10)\n",
    "\n",
    "map_display3=create_map(map_display3,parking_bays_filtered,'roadsegmentdescription','orange',marker=True)\n",
    "map_display3=create_map(map_display3,relevant_records_filtered,'feature_name','blue')\n",
    "\n",
    "legend_html3 = \"\"\"\n",
    "    <div style=\"position: fixed; \n",
    "                bottom: 50px; left: 50px; width: 150px; height: 90px; \n",
    "                border:2px solid grey; z-index:9999; font-size:14px;\n",
    "                background-color:white; opacity: 0.8;\">\n",
    "          <p style=\"text-align:center; margin: 0;\"><strong>Legend</strong></p>\n",
    "          <p style=\"margin: 0;\">Places of interest: <span style=\"color:lightblue\">&#9679;</span></p>\n",
    "    </div>\n",
    "    \"\"\"\n",
    "title_html3 = \"\"\"\n",
    "<h3 style=\"text-align: center; margin: 10px 0;\">Filtered places and closest parking bays</h3>\n",
    "\"\"\"\n",
    "    \n",
    "map_display3.get_root().html.add_child(folium.Element(legend_html3))\n",
    "map_display3.get_root().html.add_child(folium.Element(title_html3))\n",
    "\n",
    "map_html_parking_places = map_display3._repr_html_()\n",
    "#-------------------------------------------------------------------\n",
    "\n",
    "tab1 = widgets.Output()\n",
    "tab2 = widgets.Output()\n",
    "tab3 = widgets.Output()\n",
    "\n",
    "with tab1:\n",
    "    display(HTML(map_html_places))\n",
    "\n",
    "with tab2:\n",
    "    display(HTML(map_html_parking))\n",
    "    \n",
    "with tab3:\n",
    "    display(HTML(map_html_parking_places))\n",
    "\n",
    "# Create a tab layout\n",
    "tabs = widgets.Tab(children=[tab1, tab2, tab3])\n",
    "tabs.set_title(0, 'All places vs filtered places')\n",
    "tabs.set_title(1, 'Parking bays')\n",
    "tabs.set_title(2, 'Filtered places and closest parking')\n",
    "\n",
    "display(tabs)"
   ]
  },
  {
   "cell_type": "markdown",
   "metadata": {},
   "source": [
    "<div class=\"usecase-section-header\"><b>References:</b></div>\n",
    "\n",
    "[SDG Indicators](https://data.melbourne.vic.gov.au/explore/dataset/sdg-indicators/custom/)<br>\n",
    "[Economic Development Strategy 2031](https://www.melbourne.vic.gov.au/economic-development-strategy-2031)"
   ]
  }
 ],
 "metadata": {
  "kernelspec": {
   "display_name": "Python 3 (ipykernel)",
   "language": "python",
   "name": "python3"
  },
  "language_info": {
   "codemirror_mode": {
    "name": "ipython",
    "version": 3
   },
   "file_extension": ".py",
   "mimetype": "text/x-python",
   "name": "python",
   "nbconvert_exporter": "python",
   "pygments_lexer": "ipython3",
   "version": "3.8.18"
  },
  "vscode": {
   "interpreter": {
    "hash": "369f2c481f4da34e4445cda3fffd2e751bd1c4d706f27375911949ba6bb62e1c"
   }
  }
 },
 "nbformat": 4,
 "nbformat_minor": 4
}
