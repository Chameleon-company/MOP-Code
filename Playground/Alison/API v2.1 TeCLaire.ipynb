{
 "cells": [
  {
   "cell_type": "markdown",
   "metadata": {},
   "source": [
    "Te Claire Code for API v2.1 City of Melburne data collection"
   ]
  },
  {
   "cell_type": "code",
   "execution_count": 1,
   "metadata": {},
   "outputs": [],
   "source": [
    "# Dependencies\n",
    "import warnings\n",
    "warnings.filterwarnings(\"ignore\")\n",
    "\n",
    "import requests\n",
    "import numpy as np\n",
    "import pandas as pd\n",
    "import io\n",
    "pd.set_option('display.max_columns', None)"
   ]
  },
  {
   "cell_type": "code",
   "execution_count": 2,
   "metadata": {},
   "outputs": [],
   "source": [
    "# Function to collect datasets using API\n",
    "from io import StringIO\n",
    "\n",
    "def datasetcollect(dataset_id):\n",
    "    base_url = 'https://data.melbourne.vic.gov.au/api/explore/v2.1/catalog/datasets/'\n",
    "    #apikey = \" \"\n",
    "    dataset_id = dataset_id\n",
    "    format = 'csv'\n",
    "\n",
    "    url = f'{base_url}{dataset_id}/exports/{format}'\n",
    "    params = {\n",
    "        'select': '*',\n",
    "        'limit': -1,  # all records\n",
    "        'lang': 'en',\n",
    "        'timezone': 'UTC',\n",
    "        #'api_key': apikey\n",
    "    }\n",
    "\n",
    "    # GET request\n",
    "    response = requests.get(url, params=params)\n",
    "\n",
    "    if response.status_code == 200:\n",
    "        # StringIO to read the CSV data\n",
    "        url_content = response.content.decode('utf-8')\n",
    "        dataset = pd.read_csv(StringIO(url_content), delimiter=';')\n",
    "        return dataset\n",
    "    else:\n",
    "        print(f'Request failed with status code {response.status_code}')"
   ]
  },
  {
   "cell_type": "code",
   "execution_count": 3,
   "metadata": {},
   "outputs": [
    {
     "name": "stdout",
     "output_type": "stream",
     "text": [
      "549976\n"
     ]
    }
   ],
   "source": [
    "dataset_id = 'pedestrian-counting-system-monthly-counts-per-hour'\n",
    "new = datasetcollect(dataset_id)\n",
    "print(len(new))\n"
   ]
  },
  {
   "cell_type": "code",
   "execution_count": 18,
   "metadata": {},
   "outputs": [
    {
     "data": {
      "text/html": [
       "<div>\n",
       "<style scoped>\n",
       "    .dataframe tbody tr th:only-of-type {\n",
       "        vertical-align: middle;\n",
       "    }\n",
       "\n",
       "    .dataframe tbody tr th {\n",
       "        vertical-align: top;\n",
       "    }\n",
       "\n",
       "    .dataframe thead th {\n",
       "        text-align: right;\n",
       "    }\n",
       "</style>\n",
       "<table border=\"1\" class=\"dataframe\">\n",
       "  <thead>\n",
       "    <tr style=\"text-align: right;\">\n",
       "      <th></th>\n",
       "      <th>sensor_name</th>\n",
       "      <th>timestamp</th>\n",
       "      <th>locationid</th>\n",
       "      <th>direction_1</th>\n",
       "      <th>direction_2</th>\n",
       "      <th>total_of_directions</th>\n",
       "      <th>location</th>\n",
       "    </tr>\n",
       "  </thead>\n",
       "  <tbody>\n",
       "    <tr>\n",
       "      <th>0</th>\n",
       "      <td>SprFli_T</td>\n",
       "      <td>2023-04-24T21:00:00+00:00</td>\n",
       "      <td>75</td>\n",
       "      <td>36</td>\n",
       "      <td>17</td>\n",
       "      <td>53</td>\n",
       "      <td>-37.81515276, 144.97467661</td>\n",
       "    </tr>\n",
       "    <tr>\n",
       "      <th>1</th>\n",
       "      <td>SprFli_T</td>\n",
       "      <td>2023-04-25T00:00:00+00:00</td>\n",
       "      <td>75</td>\n",
       "      <td>28</td>\n",
       "      <td>50</td>\n",
       "      <td>78</td>\n",
       "      <td>-37.81515276, 144.97467661</td>\n",
       "    </tr>\n",
       "    <tr>\n",
       "      <th>2</th>\n",
       "      <td>SprFli_T</td>\n",
       "      <td>2023-04-25T01:00:00+00:00</td>\n",
       "      <td>75</td>\n",
       "      <td>63</td>\n",
       "      <td>63</td>\n",
       "      <td>126</td>\n",
       "      <td>-37.81515276, 144.97467661</td>\n",
       "    </tr>\n",
       "  </tbody>\n",
       "</table>\n",
       "</div>"
      ],
      "text/plain": [
       "  sensor_name                  timestamp  locationid  direction_1  \\\n",
       "0    SprFli_T  2023-04-24T21:00:00+00:00          75           36   \n",
       "1    SprFli_T  2023-04-25T00:00:00+00:00          75           28   \n",
       "2    SprFli_T  2023-04-25T01:00:00+00:00          75           63   \n",
       "\n",
       "   direction_2  total_of_directions                    location  \n",
       "0           17                   53  -37.81515276, 144.97467661  \n",
       "1           50                   78  -37.81515276, 144.97467661  \n",
       "2           63                  126  -37.81515276, 144.97467661  "
      ]
     },
     "execution_count": 18,
     "metadata": {},
     "output_type": "execute_result"
    }
   ],
   "source": [
    "new.head(3)"
   ]
  }
 ],
 "metadata": {
  "kernelspec": {
   "display_name": "Python 3",
   "language": "python",
   "name": "python3"
  },
  "language_info": {
   "codemirror_mode": {
    "name": "ipython",
    "version": 3
   },
   "file_extension": ".py",
   "mimetype": "text/x-python",
   "name": "python",
   "nbconvert_exporter": "python",
   "pygments_lexer": "ipython3",
   "version": "3.10.10"
  }
 },
 "nbformat": 4,
 "nbformat_minor": 2
}
