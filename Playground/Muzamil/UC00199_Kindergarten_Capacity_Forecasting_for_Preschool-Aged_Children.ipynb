{
 "cells": [
  {
   "cell_type": "markdown",
   "id": "f1c41932-bc54-4db9-a665-b429f935473a",
   "metadata": {},
   "source": [
    "# Use Case: Kindergarten Capacity Forecasting for Preschool-Aged Children  \n",
    "\n",
    "**Authored by:** Muzamil Rafique  \n",
    "**Duration:** ~60 mins  \n",
    "**Level:** Intermediate  \n",
    "**Pre-requisite Skills:** Python (pandas, requests), basic data cleaning & plotting  \n",
    "\n",
    "---\n",
    "\n",
    "## Scenario  \n",
    "_As a city planning analyst_, I compare the projected number of **0–4 year-olds** in 2040 with today’s supply of childcare centres by suburb. This highlights which suburbs may face **future capacity pressure** if no new centres are added. By measuring children per centre, I can identify **fast-growing areas** most in need of new childcare facilities.  \n",
    "\n",
    "---\n",
    "\n",
    "## Datasets Used  \n",
    "**City of Melbourne – Population Forecasts by Small Area (2020–2040, API v2.1)**  \n",
    "Population forecasts broken down by suburb and age group. Used here to extract **Age 0–4** counts for **2023** and **2040**. Accessed via the public CSV export endpoint.  \n",
    "\n",
    "**Childcare Centres (project dataset)**  \n",
    "Geocoded records of registered childcare centres, used to compute **centre counts per suburb**. Suburb names are standardised to match the demand dataset, allowing direct comparison and pressure calculations.  \n",
    "\n",
    "---\n",
    "\n",
    "## What this use case will teach you  \n",
    "- How to load data from the **City of Melbourne Open Data API v2.1 (exports)**  \n",
    "- How to load and clean a second dataset of childcare centres  \n",
    "- How to filter and summarise population forecasts (Age 0–4, 2023 vs 2040)  \n",
    "- How to calculate future demand pressure (children per centre) and visualise top suburbs   \n"
   ]
  },
  {
   "cell_type": "code",
   "execution_count": 18,
   "id": "c1520d26-1350-460e-8558-1e405fb8e22b",
   "metadata": {},
   "outputs": [],
   "source": [
    "# --- Imports ---\n",
    "import os\n",
    "import requests\n",
    "import pandas as pd\n",
    "from io import StringIO\n",
    "import csv\n",
    "import folium\n",
    "from folium.plugins import HeatMap\n",
    "import numpy as np\n",
    "import matplotlib.pyplot as plt\n",
    "import ipywidgets as widgets\n",
    "from IPython.display import display, clear_output\n",
    "from geopy.geocoders import Nominatim\n",
    "from geopy.distance import geodesic\n",
    "\n",
    "import warnings\n",
    "warnings.filterwarnings(\"ignore\")"
   ]
  },
  {
   "cell_type": "markdown",
   "id": "77874f7b-4b4e-4207-b4be-eefd5991955e",
   "metadata": {},
   "source": [
    "## 1) Helper Function – API v2.1 Loader  \n",
    "\n",
    "This function fetches datasets from the **City of Melbourne Open Data Portal** using the `exports/csv`  \n",
    "endpoint of API v2.1.  \n",
    "\n",
    "- Accepts the dataset ID (slug from the portal)  \n",
    "- Uses API key stored in environment variables (not hard-coded)  \n",
    "- Returns a pandas DataFrame  \n"
   ]
  },
  {
   "cell_type": "code",
   "execution_count": 19,
   "id": "5ef2d7bf-a13b-44a2-9451-6f2ae9d162d5",
   "metadata": {},
   "outputs": [],
   "source": [
    "def fetch_mop_dataset_v21(dataset_id, select=\"*\", limit=-1, lang=\"en\", timezone=\"UTC\"):\n",
    "    \"\"\"\n",
    "    Fetch a dataset from City of Melbourne Open Data (API v2.1) using 'exports/csv'.\n",
    "    Auto-detects delimiter for safer parsing. No API key required.\n",
    "    \"\"\"\n",
    "    base = \"https://data.melbourne.vic.gov.au/api/explore/v2.1/catalog/datasets\"\n",
    "    url = f\"{base}/{dataset_id}/exports/csv\"\n",
    "\n",
    "    params = {\n",
    "        \"select\": select,\n",
    "        \"limit\": limit,\n",
    "        \"lang\": lang,\n",
    "        \"timezone\": timezone,\n",
    "    }\n",
    "\n",
    "    r = requests.get(url, params=params)\n",
    "    r.raise_for_status()\n",
    "\n",
    "    # Auto-detect delimiter\n",
    "    sample = r.text[:2000]\n",
    "    dialect = csv.Sniffer().sniff(sample)\n",
    "    df = pd.read_csv(StringIO(r.text), delimiter=dialect.delimiter)\n",
    "\n",
    "    print(f\"✅ Loaded {len(df):,} rows × {len(df.columns)} cols (delimiter='{dialect.delimiter}') from {dataset_id}\")\n",
    "    return df\n"
   ]
  },
  {
   "cell_type": "markdown",
   "id": "d6da904a-4a2a-4035-b87b-215a6ebe53d0",
   "metadata": {},
   "source": [
    "## 2) Load Datasets  \n",
    "\n",
    "We now load:  \n",
    "- **Supply dataset (Childcare Centres)** → from GitHub raw CSV  \n",
    "- **Demand dataset (Population Forecasts)** → from API v2.1  \n"
   ]
  },
  {
   "cell_type": "code",
   "execution_count": 20,
   "id": "1eb202ce-1a84-4964-ba1e-b80f2b179cd7",
   "metadata": {},
   "outputs": [
    {
     "name": "stdout",
     "output_type": "stream",
     "text": [
      "Supply dataset shape: (4943, 11)\n",
      "✅ Loaded 10,584 rows × 5 cols (delimiter=';') from city-of-melbourne-population-forecasts-by-small-area-2020-2040\n",
      "  geography  year  gender        age  value\n",
      "0   Carlton  2023  Female  Age 65-69    224\n",
      "1   Carlton  2023  Female    Age 85+     66\n",
      "2   Carlton  2024  Female  Age 25-29   2105\n",
      "3   Carlton  2024  Female  Age 30-34   1174\n",
      "4   Carlton  2024    Male  Age 25-29   1978\n"
     ]
    }
   ],
   "source": [
    "# --- Supply (Childcare centres) via GitHub raw CSV ---\n",
    "supply_url = \"https://raw.githubusercontent.com/MuzamilRafiq/Childcare/main/geocoded_output.csv\"\n",
    "supply_df = pd.read_csv(supply_url, delimiter=\",\")  # GitHub CSV is comma\n",
    "print(\"Supply dataset shape:\", supply_df.shape)\n",
    "\n",
    "# --- Demand (Population forecasts) via API v2.1 ---\n",
    "pop_dataset_id = \"city-of-melbourne-population-forecasts-by-small-area-2020-2040\"\n",
    "demand_df_raw = fetch_mop_dataset_v21(pop_dataset_id)\n",
    "\n",
    "print(demand_df_raw.head())"
   ]
  },
  {
   "cell_type": "markdown",
   "id": "2b7e060f-cc80-44bb-a276-49a167c4d07e",
   "metadata": {},
   "source": [
    "### 3) Clean Population Forecasts\n",
    "Steps:\n",
    "- Harmonise suburb names (fix mismatches, combine splits, drop duplicates)\n",
    "- Clean and aggregate supply dataset (childcare centres per suburb)\n",
    "- Process population forecasts (convert numeric, filter 0–4 yrs, extract 2023 & 2040, add metrics)\n"
   ]
  },
  {
   "cell_type": "markdown",
   "id": "efcbbf76-fd64-4cac-bebf-f493bc785300",
   "metadata": {},
   "source": [
    "#### 3.1 Harmonise Suburb Names\n",
    "- Fix mismatches (e.g., CITY OF MELBOURNE → MELBOURNE)  \n",
    "- Combine split suburbs (e.g., WEST MELBOURNE INDUSTRIAL + RESIDENTIAL → WEST MELBOURNE)  \n",
    "- Drop duplicates (e.g., MELBOURNE CBD, MELBOURNE REMAINDER)  \n"
   ]
  },
  {
   "cell_type": "code",
   "execution_count": 21,
   "id": "9bc3a350-73a0-45d7-92b5-899b11b3bfb0",
   "metadata": {},
   "outputs": [],
   "source": [
    "# --- Harmonise suburb names ---\n",
    "rename_map = {\n",
    "    \"CITY OF MELBOURNE\": \"MELBOURNE\",\n",
    "    \"WEST MELBOURNE (INDUSTRIAL)\": \"WEST MELBOURNE\",\n",
    "    \"WEST MELBOURNE (RESIDENTIAL)\": \"WEST MELBOURNE\"\n",
    "}\n",
    "\n",
    "demand_df_raw[\"geography\"] = (\n",
    "    demand_df_raw[\"geography\"].astype(str).str.strip().str.upper().replace(rename_map)\n",
    ")\n",
    "\n",
    "supply_df[\"Suburb\"] = (\n",
    "    supply_df[\"Suburb\"].astype(str).str.strip().str.upper().replace(rename_map)\n",
    ")\n",
    "\n",
    "demand_df_raw = demand_df_raw[\n",
    "    ~demand_df_raw[\"geography\"].isin([\"MELBOURNE (CBD)\", \"MELBOURNE (REMAINDER)\"])\n",
    "]\n"
   ]
  },
  {
   "cell_type": "code",
   "execution_count": 22,
   "id": "2afe69e9-11aa-4af5-9ca4-bac9d0c88a97",
   "metadata": {},
   "outputs": [],
   "source": [
    "demand_df_raw[\"geography\"] = demand_df_raw[\"geography\"].replace({\"MELBOURNE\": \"MELBOURNE CBD\"})\n",
    "supply_df[\"Suburb\"] = supply_df[\"Suburb\"].replace({\"MELBOURNE\": \"MELBOURNE CBD\"})\n"
   ]
  },
  {
   "cell_type": "markdown",
   "id": "0334f72d-7cac-4ff6-8286-2f6a18bb3973",
   "metadata": {},
   "source": [
    "#### 3.2 Clean Supply Data\n",
    "- Standardise suburb names  \n",
    "- Aggregate childcare centres per suburb → `CentreCount`  \n"
   ]
  },
  {
   "cell_type": "code",
   "execution_count": 23,
   "id": "8dd25ea0-1d4a-49d8-bf05-29160d8bd624",
   "metadata": {},
   "outputs": [],
   "source": [
    "centre_counts = supply_df.groupby(\"Suburb\").size().reset_index(name=\"CentreCount\")"
   ]
  },
  {
   "cell_type": "markdown",
   "id": "9cb47960-98c4-4870-a16f-d0b93234809b",
   "metadata": {},
   "source": [
    "#### 3.3 Process Population Forecasts\n",
    "- Convert `year` and `value` to numeric  \n",
    "- Filter to **Age 0–4 only**  \n",
    "- Aggregate for **2023** and **2040**  \n",
    "- Merge demand + supply  \n",
    "- Add metrics:  \n",
    "  - Centres per 1000 Children  \n",
    "  - Growth % (2023 → 2040)  \n",
    "  - Future Pressure (children per centre in 2040)  \n"
   ]
  },
  {
   "cell_type": "code",
   "execution_count": 24,
   "id": "8224fef0-a083-4eba-99cf-849e7f60bca4",
   "metadata": {},
   "outputs": [
    {
     "name": "stdout",
     "output_type": "stream",
     "text": [
      "✅ Cleaned demand + supply merged with metrics\n"
     ]
    },
    {
     "data": {
      "text/html": [
       "<div>\n",
       "<style scoped>\n",
       "    .dataframe tbody tr th:only-of-type {\n",
       "        vertical-align: middle;\n",
       "    }\n",
       "\n",
       "    .dataframe tbody tr th {\n",
       "        vertical-align: top;\n",
       "    }\n",
       "\n",
       "    .dataframe thead th {\n",
       "        text-align: right;\n",
       "    }\n",
       "</style>\n",
       "<table border=\"1\" class=\"dataframe\">\n",
       "  <thead>\n",
       "    <tr style=\"text-align: right;\">\n",
       "      <th></th>\n",
       "      <th>Suburb</th>\n",
       "      <th>Pop2023</th>\n",
       "      <th>Pop2040</th>\n",
       "      <th>CentreCount</th>\n",
       "      <th>Centres_per_1000_Children</th>\n",
       "      <th>Growth_%</th>\n",
       "      <th>Future_Pressure</th>\n",
       "    </tr>\n",
       "  </thead>\n",
       "  <tbody>\n",
       "    <tr>\n",
       "      <th>0</th>\n",
       "      <td>CARLTON</td>\n",
       "      <td>412</td>\n",
       "      <td>868</td>\n",
       "      <td>10</td>\n",
       "      <td>24.271845</td>\n",
       "      <td>110.679612</td>\n",
       "      <td>86.800000</td>\n",
       "    </tr>\n",
       "    <tr>\n",
       "      <th>1</th>\n",
       "      <td>DOCKLANDS</td>\n",
       "      <td>797</td>\n",
       "      <td>1888</td>\n",
       "      <td>7</td>\n",
       "      <td>8.782936</td>\n",
       "      <td>136.888331</td>\n",
       "      <td>269.714286</td>\n",
       "    </tr>\n",
       "    <tr>\n",
       "      <th>2</th>\n",
       "      <td>EAST MELBOURNE</td>\n",
       "      <td>112</td>\n",
       "      <td>237</td>\n",
       "      <td>2</td>\n",
       "      <td>17.857143</td>\n",
       "      <td>111.607143</td>\n",
       "      <td>118.500000</td>\n",
       "    </tr>\n",
       "    <tr>\n",
       "      <th>3</th>\n",
       "      <td>KENSINGTON</td>\n",
       "      <td>709</td>\n",
       "      <td>1578</td>\n",
       "      <td>5</td>\n",
       "      <td>7.052186</td>\n",
       "      <td>122.566996</td>\n",
       "      <td>315.600000</td>\n",
       "    </tr>\n",
       "    <tr>\n",
       "      <th>4</th>\n",
       "      <td>MELBOURNE CBD</td>\n",
       "      <td>4762</td>\n",
       "      <td>11498</td>\n",
       "      <td>11</td>\n",
       "      <td>2.309954</td>\n",
       "      <td>141.453171</td>\n",
       "      <td>1045.272727</td>\n",
       "    </tr>\n",
       "    <tr>\n",
       "      <th>5</th>\n",
       "      <td>NORTH MELBOURNE</td>\n",
       "      <td>506</td>\n",
       "      <td>1472</td>\n",
       "      <td>10</td>\n",
       "      <td>19.762846</td>\n",
       "      <td>190.909091</td>\n",
       "      <td>147.200000</td>\n",
       "    </tr>\n",
       "    <tr>\n",
       "      <th>6</th>\n",
       "      <td>PARKVILLE</td>\n",
       "      <td>296</td>\n",
       "      <td>594</td>\n",
       "      <td>5</td>\n",
       "      <td>16.891892</td>\n",
       "      <td>100.675676</td>\n",
       "      <td>118.800000</td>\n",
       "    </tr>\n",
       "    <tr>\n",
       "      <th>7</th>\n",
       "      <td>PORT MELBOURNE</td>\n",
       "      <td>0</td>\n",
       "      <td>76</td>\n",
       "      <td>7</td>\n",
       "      <td>inf</td>\n",
       "      <td>inf</td>\n",
       "      <td>10.857143</td>\n",
       "    </tr>\n",
       "    <tr>\n",
       "      <th>8</th>\n",
       "      <td>SOUTH YARRA</td>\n",
       "      <td>100</td>\n",
       "      <td>208</td>\n",
       "      <td>9</td>\n",
       "      <td>90.000000</td>\n",
       "      <td>108.000000</td>\n",
       "      <td>23.111111</td>\n",
       "    </tr>\n",
       "    <tr>\n",
       "      <th>9</th>\n",
       "      <td>SOUTHBANK</td>\n",
       "      <td>574</td>\n",
       "      <td>1436</td>\n",
       "      <td>6</td>\n",
       "      <td>10.452962</td>\n",
       "      <td>150.174216</td>\n",
       "      <td>239.333333</td>\n",
       "    </tr>\n",
       "    <tr>\n",
       "      <th>10</th>\n",
       "      <td>WEST MELBOURNE</td>\n",
       "      <td>282</td>\n",
       "      <td>718</td>\n",
       "      <td>2</td>\n",
       "      <td>7.092199</td>\n",
       "      <td>154.609929</td>\n",
       "      <td>359.000000</td>\n",
       "    </tr>\n",
       "  </tbody>\n",
       "</table>\n",
       "</div>"
      ],
      "text/plain": [
       "             Suburb  Pop2023  Pop2040  CentreCount  Centres_per_1000_Children  \\\n",
       "0           CARLTON      412      868           10                  24.271845   \n",
       "1         DOCKLANDS      797     1888            7                   8.782936   \n",
       "2    EAST MELBOURNE      112      237            2                  17.857143   \n",
       "3        KENSINGTON      709     1578            5                   7.052186   \n",
       "4     MELBOURNE CBD     4762    11498           11                   2.309954   \n",
       "5   NORTH MELBOURNE      506     1472           10                  19.762846   \n",
       "6         PARKVILLE      296      594            5                  16.891892   \n",
       "7    PORT MELBOURNE        0       76            7                        inf   \n",
       "8       SOUTH YARRA      100      208            9                  90.000000   \n",
       "9         SOUTHBANK      574     1436            6                  10.452962   \n",
       "10   WEST MELBOURNE      282      718            2                   7.092199   \n",
       "\n",
       "      Growth_%  Future_Pressure  \n",
       "0   110.679612        86.800000  \n",
       "1   136.888331       269.714286  \n",
       "2   111.607143       118.500000  \n",
       "3   122.566996       315.600000  \n",
       "4   141.453171      1045.272727  \n",
       "5   190.909091       147.200000  \n",
       "6   100.675676       118.800000  \n",
       "7          inf        10.857143  \n",
       "8   108.000000        23.111111  \n",
       "9   150.174216       239.333333  \n",
       "10  154.609929       359.000000  "
      ]
     },
     "metadata": {},
     "output_type": "display_data"
    }
   ],
   "source": [
    "# Ensure numeric\n",
    "for col in (\"year\", \"value\"):\n",
    "    demand_df_raw[col] = pd.to_numeric(demand_df_raw[col], errors=\"coerce\")\n",
    "\n",
    "# Filter Age 0–4\n",
    "df_0_4 = demand_df_raw[demand_df_raw[\"age\"] == \"Age 0-4\"].copy()\n",
    "\n",
    "# Populations\n",
    "pop_2023 = (\n",
    "    df_0_4[df_0_4[\"year\"] == 2023.0]\n",
    "    .groupby(\"geography\", as_index=False)[\"value\"].sum()\n",
    "    .rename(columns={\"geography\": \"Suburb\", \"value\": \"Pop2023\"})\n",
    ")\n",
    "pop_2040 = (\n",
    "    df_0_4[df_0_4[\"year\"] == 2040.0]\n",
    "    .groupby(\"geography\", as_index=False)[\"value\"].sum()\n",
    "    .rename(columns={\"geography\": \"Suburb\", \"value\": \"Pop2040\"})\n",
    ")\n",
    "\n",
    "# Merge with supply\n",
    "merged_df = pd.merge(pop_2023, pop_2040, on=\"Suburb\", how=\"outer\")\n",
    "merged_df = pd.merge(merged_df, centre_counts, on=\"Suburb\", how=\"left\").fillna({\"CentreCount\": 0})\n",
    "\n",
    "# Metrics\n",
    "merged_df[\"Centres_per_1000_Children\"] = (merged_df[\"CentreCount\"] / merged_df[\"Pop2023\"]) * 1000\n",
    "merged_df[\"Growth_%\"] = ((merged_df[\"Pop2040\"] - merged_df[\"Pop2023\"]) / merged_df[\"Pop2023\"]) * 100\n",
    "merged_df[\"Future_Pressure\"] = merged_df[\"Pop2040\"] / merged_df[\"CentreCount\"].replace(0, pd.NA)\n",
    "\n",
    "print(\"✅ Cleaned demand + supply merged with metrics\")\n",
    "display(merged_df.head(15))\n",
    "\n"
   ]
  },
  {
   "cell_type": "markdown",
   "id": "a0cc8e0f-7fa0-447f-92a3-25bde3161fc6",
   "metadata": {},
   "source": [
    "### Insight 1: Projected Child Population Growth (0–4 yrs)\n",
    "\n",
    "We compare 2023 vs 2040 populations of children aged 0–4.  \n",
    "This helps identify **which suburbs will see the largest demand growth** in absolute numbers.\n"
   ]
  },
  {
   "cell_type": "code",
   "execution_count": 25,
   "id": "da9c0a5a-ff03-46fe-8f30-aba804c84183",
   "metadata": {},
   "outputs": [
    {
     "data": {
      "application/vnd.plotly.v1+json": {
       "config": {
        "plotlyServerURL": "https://plot.ly"
       },
       "data": [
        {
         "alignmentgroup": "True",
         "hovertemplate": "Year=Pop2023<br>Suburb=%{x}<br>Population (0–4 yrs)=%{y}<extra></extra>",
         "legendgroup": "Pop2023",
         "marker": {
          "color": "#636efa",
          "pattern": {
           "shape": ""
          }
         },
         "name": "Pop2023",
         "offsetgroup": "Pop2023",
         "orientation": "v",
         "showlegend": true,
         "textposition": "auto",
         "type": "bar",
         "x": [
          "MELBOURNE CBD",
          "DOCKLANDS",
          "NORTH MELBOURNE",
          "KENSINGTON",
          "SOUTHBANK",
          "CARLTON",
          "WEST MELBOURNE",
          "PARKVILLE",
          "EAST MELBOURNE",
          "SOUTH YARRA"
         ],
         "xaxis": "x",
         "y": [
          4762,
          797,
          506,
          709,
          574,
          412,
          282,
          296,
          112,
          100
         ],
         "yaxis": "y"
        },
        {
         "alignmentgroup": "True",
         "hovertemplate": "Year=Pop2040<br>Suburb=%{x}<br>Population (0–4 yrs)=%{y}<extra></extra>",
         "legendgroup": "Pop2040",
         "marker": {
          "color": "#EF553B",
          "pattern": {
           "shape": ""
          }
         },
         "name": "Pop2040",
         "offsetgroup": "Pop2040",
         "orientation": "v",
         "showlegend": true,
         "textposition": "auto",
         "type": "bar",
         "x": [
          "MELBOURNE CBD",
          "DOCKLANDS",
          "NORTH MELBOURNE",
          "KENSINGTON",
          "SOUTHBANK",
          "CARLTON",
          "WEST MELBOURNE",
          "PARKVILLE",
          "EAST MELBOURNE",
          "SOUTH YARRA"
         ],
         "xaxis": "x",
         "y": [
          11498,
          1888,
          1472,
          1578,
          1436,
          868,
          718,
          594,
          237,
          208
         ],
         "yaxis": "y"
        }
       ],
       "layout": {
        "barmode": "group",
        "legend": {
         "title": {
          "text": "Year"
         },
         "tracegroupgap": 0
        },
        "template": {
         "data": {
          "bar": [
           {
            "error_x": {
             "color": "#2a3f5f"
            },
            "error_y": {
             "color": "#2a3f5f"
            },
            "marker": {
             "line": {
              "color": "#E5ECF6",
              "width": 0.5
             },
             "pattern": {
              "fillmode": "overlay",
              "size": 10,
              "solidity": 0.2
             }
            },
            "type": "bar"
           }
          ],
          "barpolar": [
           {
            "marker": {
             "line": {
              "color": "#E5ECF6",
              "width": 0.5
             },
             "pattern": {
              "fillmode": "overlay",
              "size": 10,
              "solidity": 0.2
             }
            },
            "type": "barpolar"
           }
          ],
          "carpet": [
           {
            "aaxis": {
             "endlinecolor": "#2a3f5f",
             "gridcolor": "white",
             "linecolor": "white",
             "minorgridcolor": "white",
             "startlinecolor": "#2a3f5f"
            },
            "baxis": {
             "endlinecolor": "#2a3f5f",
             "gridcolor": "white",
             "linecolor": "white",
             "minorgridcolor": "white",
             "startlinecolor": "#2a3f5f"
            },
            "type": "carpet"
           }
          ],
          "choropleth": [
           {
            "colorbar": {
             "outlinewidth": 0,
             "ticks": ""
            },
            "type": "choropleth"
           }
          ],
          "contour": [
           {
            "colorbar": {
             "outlinewidth": 0,
             "ticks": ""
            },
            "colorscale": [
             [
              0,
              "#0d0887"
             ],
             [
              0.1111111111111111,
              "#46039f"
             ],
             [
              0.2222222222222222,
              "#7201a8"
             ],
             [
              0.3333333333333333,
              "#9c179e"
             ],
             [
              0.4444444444444444,
              "#bd3786"
             ],
             [
              0.5555555555555556,
              "#d8576b"
             ],
             [
              0.6666666666666666,
              "#ed7953"
             ],
             [
              0.7777777777777778,
              "#fb9f3a"
             ],
             [
              0.8888888888888888,
              "#fdca26"
             ],
             [
              1,
              "#f0f921"
             ]
            ],
            "type": "contour"
           }
          ],
          "contourcarpet": [
           {
            "colorbar": {
             "outlinewidth": 0,
             "ticks": ""
            },
            "type": "contourcarpet"
           }
          ],
          "heatmap": [
           {
            "colorbar": {
             "outlinewidth": 0,
             "ticks": ""
            },
            "colorscale": [
             [
              0,
              "#0d0887"
             ],
             [
              0.1111111111111111,
              "#46039f"
             ],
             [
              0.2222222222222222,
              "#7201a8"
             ],
             [
              0.3333333333333333,
              "#9c179e"
             ],
             [
              0.4444444444444444,
              "#bd3786"
             ],
             [
              0.5555555555555556,
              "#d8576b"
             ],
             [
              0.6666666666666666,
              "#ed7953"
             ],
             [
              0.7777777777777778,
              "#fb9f3a"
             ],
             [
              0.8888888888888888,
              "#fdca26"
             ],
             [
              1,
              "#f0f921"
             ]
            ],
            "type": "heatmap"
           }
          ],
          "heatmapgl": [
           {
            "colorbar": {
             "outlinewidth": 0,
             "ticks": ""
            },
            "colorscale": [
             [
              0,
              "#0d0887"
             ],
             [
              0.1111111111111111,
              "#46039f"
             ],
             [
              0.2222222222222222,
              "#7201a8"
             ],
             [
              0.3333333333333333,
              "#9c179e"
             ],
             [
              0.4444444444444444,
              "#bd3786"
             ],
             [
              0.5555555555555556,
              "#d8576b"
             ],
             [
              0.6666666666666666,
              "#ed7953"
             ],
             [
              0.7777777777777778,
              "#fb9f3a"
             ],
             [
              0.8888888888888888,
              "#fdca26"
             ],
             [
              1,
              "#f0f921"
             ]
            ],
            "type": "heatmapgl"
           }
          ],
          "histogram": [
           {
            "marker": {
             "pattern": {
              "fillmode": "overlay",
              "size": 10,
              "solidity": 0.2
             }
            },
            "type": "histogram"
           }
          ],
          "histogram2d": [
           {
            "colorbar": {
             "outlinewidth": 0,
             "ticks": ""
            },
            "colorscale": [
             [
              0,
              "#0d0887"
             ],
             [
              0.1111111111111111,
              "#46039f"
             ],
             [
              0.2222222222222222,
              "#7201a8"
             ],
             [
              0.3333333333333333,
              "#9c179e"
             ],
             [
              0.4444444444444444,
              "#bd3786"
             ],
             [
              0.5555555555555556,
              "#d8576b"
             ],
             [
              0.6666666666666666,
              "#ed7953"
             ],
             [
              0.7777777777777778,
              "#fb9f3a"
             ],
             [
              0.8888888888888888,
              "#fdca26"
             ],
             [
              1,
              "#f0f921"
             ]
            ],
            "type": "histogram2d"
           }
          ],
          "histogram2dcontour": [
           {
            "colorbar": {
             "outlinewidth": 0,
             "ticks": ""
            },
            "colorscale": [
             [
              0,
              "#0d0887"
             ],
             [
              0.1111111111111111,
              "#46039f"
             ],
             [
              0.2222222222222222,
              "#7201a8"
             ],
             [
              0.3333333333333333,
              "#9c179e"
             ],
             [
              0.4444444444444444,
              "#bd3786"
             ],
             [
              0.5555555555555556,
              "#d8576b"
             ],
             [
              0.6666666666666666,
              "#ed7953"
             ],
             [
              0.7777777777777778,
              "#fb9f3a"
             ],
             [
              0.8888888888888888,
              "#fdca26"
             ],
             [
              1,
              "#f0f921"
             ]
            ],
            "type": "histogram2dcontour"
           }
          ],
          "mesh3d": [
           {
            "colorbar": {
             "outlinewidth": 0,
             "ticks": ""
            },
            "type": "mesh3d"
           }
          ],
          "parcoords": [
           {
            "line": {
             "colorbar": {
              "outlinewidth": 0,
              "ticks": ""
             }
            },
            "type": "parcoords"
           }
          ],
          "pie": [
           {
            "automargin": true,
            "type": "pie"
           }
          ],
          "scatter": [
           {
            "fillpattern": {
             "fillmode": "overlay",
             "size": 10,
             "solidity": 0.2
            },
            "type": "scatter"
           }
          ],
          "scatter3d": [
           {
            "line": {
             "colorbar": {
              "outlinewidth": 0,
              "ticks": ""
             }
            },
            "marker": {
             "colorbar": {
              "outlinewidth": 0,
              "ticks": ""
             }
            },
            "type": "scatter3d"
           }
          ],
          "scattercarpet": [
           {
            "marker": {
             "colorbar": {
              "outlinewidth": 0,
              "ticks": ""
             }
            },
            "type": "scattercarpet"
           }
          ],
          "scattergeo": [
           {
            "marker": {
             "colorbar": {
              "outlinewidth": 0,
              "ticks": ""
             }
            },
            "type": "scattergeo"
           }
          ],
          "scattergl": [
           {
            "marker": {
             "colorbar": {
              "outlinewidth": 0,
              "ticks": ""
             }
            },
            "type": "scattergl"
           }
          ],
          "scattermapbox": [
           {
            "marker": {
             "colorbar": {
              "outlinewidth": 0,
              "ticks": ""
             }
            },
            "type": "scattermapbox"
           }
          ],
          "scatterpolar": [
           {
            "marker": {
             "colorbar": {
              "outlinewidth": 0,
              "ticks": ""
             }
            },
            "type": "scatterpolar"
           }
          ],
          "scatterpolargl": [
           {
            "marker": {
             "colorbar": {
              "outlinewidth": 0,
              "ticks": ""
             }
            },
            "type": "scatterpolargl"
           }
          ],
          "scatterternary": [
           {
            "marker": {
             "colorbar": {
              "outlinewidth": 0,
              "ticks": ""
             }
            },
            "type": "scatterternary"
           }
          ],
          "surface": [
           {
            "colorbar": {
             "outlinewidth": 0,
             "ticks": ""
            },
            "colorscale": [
             [
              0,
              "#0d0887"
             ],
             [
              0.1111111111111111,
              "#46039f"
             ],
             [
              0.2222222222222222,
              "#7201a8"
             ],
             [
              0.3333333333333333,
              "#9c179e"
             ],
             [
              0.4444444444444444,
              "#bd3786"
             ],
             [
              0.5555555555555556,
              "#d8576b"
             ],
             [
              0.6666666666666666,
              "#ed7953"
             ],
             [
              0.7777777777777778,
              "#fb9f3a"
             ],
             [
              0.8888888888888888,
              "#fdca26"
             ],
             [
              1,
              "#f0f921"
             ]
            ],
            "type": "surface"
           }
          ],
          "table": [
           {
            "cells": {
             "fill": {
              "color": "#EBF0F8"
             },
             "line": {
              "color": "white"
             }
            },
            "header": {
             "fill": {
              "color": "#C8D4E3"
             },
             "line": {
              "color": "white"
             }
            },
            "type": "table"
           }
          ]
         },
         "layout": {
          "annotationdefaults": {
           "arrowcolor": "#2a3f5f",
           "arrowhead": 0,
           "arrowwidth": 1
          },
          "autotypenumbers": "strict",
          "coloraxis": {
           "colorbar": {
            "outlinewidth": 0,
            "ticks": ""
           }
          },
          "colorscale": {
           "diverging": [
            [
             0,
             "#8e0152"
            ],
            [
             0.1,
             "#c51b7d"
            ],
            [
             0.2,
             "#de77ae"
            ],
            [
             0.3,
             "#f1b6da"
            ],
            [
             0.4,
             "#fde0ef"
            ],
            [
             0.5,
             "#f7f7f7"
            ],
            [
             0.6,
             "#e6f5d0"
            ],
            [
             0.7,
             "#b8e186"
            ],
            [
             0.8,
             "#7fbc41"
            ],
            [
             0.9,
             "#4d9221"
            ],
            [
             1,
             "#276419"
            ]
           ],
           "sequential": [
            [
             0,
             "#0d0887"
            ],
            [
             0.1111111111111111,
             "#46039f"
            ],
            [
             0.2222222222222222,
             "#7201a8"
            ],
            [
             0.3333333333333333,
             "#9c179e"
            ],
            [
             0.4444444444444444,
             "#bd3786"
            ],
            [
             0.5555555555555556,
             "#d8576b"
            ],
            [
             0.6666666666666666,
             "#ed7953"
            ],
            [
             0.7777777777777778,
             "#fb9f3a"
            ],
            [
             0.8888888888888888,
             "#fdca26"
            ],
            [
             1,
             "#f0f921"
            ]
           ],
           "sequentialminus": [
            [
             0,
             "#0d0887"
            ],
            [
             0.1111111111111111,
             "#46039f"
            ],
            [
             0.2222222222222222,
             "#7201a8"
            ],
            [
             0.3333333333333333,
             "#9c179e"
            ],
            [
             0.4444444444444444,
             "#bd3786"
            ],
            [
             0.5555555555555556,
             "#d8576b"
            ],
            [
             0.6666666666666666,
             "#ed7953"
            ],
            [
             0.7777777777777778,
             "#fb9f3a"
            ],
            [
             0.8888888888888888,
             "#fdca26"
            ],
            [
             1,
             "#f0f921"
            ]
           ]
          },
          "colorway": [
           "#636efa",
           "#EF553B",
           "#00cc96",
           "#ab63fa",
           "#FFA15A",
           "#19d3f3",
           "#FF6692",
           "#B6E880",
           "#FF97FF",
           "#FECB52"
          ],
          "font": {
           "color": "#2a3f5f"
          },
          "geo": {
           "bgcolor": "white",
           "lakecolor": "white",
           "landcolor": "#E5ECF6",
           "showlakes": true,
           "showland": true,
           "subunitcolor": "white"
          },
          "hoverlabel": {
           "align": "left"
          },
          "hovermode": "closest",
          "mapbox": {
           "style": "light"
          },
          "paper_bgcolor": "white",
          "plot_bgcolor": "#E5ECF6",
          "polar": {
           "angularaxis": {
            "gridcolor": "white",
            "linecolor": "white",
            "ticks": ""
           },
           "bgcolor": "#E5ECF6",
           "radialaxis": {
            "gridcolor": "white",
            "linecolor": "white",
            "ticks": ""
           }
          },
          "scene": {
           "xaxis": {
            "backgroundcolor": "#E5ECF6",
            "gridcolor": "white",
            "gridwidth": 2,
            "linecolor": "white",
            "showbackground": true,
            "ticks": "",
            "zerolinecolor": "white"
           },
           "yaxis": {
            "backgroundcolor": "#E5ECF6",
            "gridcolor": "white",
            "gridwidth": 2,
            "linecolor": "white",
            "showbackground": true,
            "ticks": "",
            "zerolinecolor": "white"
           },
           "zaxis": {
            "backgroundcolor": "#E5ECF6",
            "gridcolor": "white",
            "gridwidth": 2,
            "linecolor": "white",
            "showbackground": true,
            "ticks": "",
            "zerolinecolor": "white"
           }
          },
          "shapedefaults": {
           "line": {
            "color": "#2a3f5f"
           }
          },
          "ternary": {
           "aaxis": {
            "gridcolor": "white",
            "linecolor": "white",
            "ticks": ""
           },
           "baxis": {
            "gridcolor": "white",
            "linecolor": "white",
            "ticks": ""
           },
           "bgcolor": "#E5ECF6",
           "caxis": {
            "gridcolor": "white",
            "linecolor": "white",
            "ticks": ""
           }
          },
          "title": {
           "x": 0.05
          },
          "xaxis": {
           "automargin": true,
           "gridcolor": "white",
           "linecolor": "white",
           "ticks": "",
           "title": {
            "standoff": 15
           },
           "zerolinecolor": "white",
           "zerolinewidth": 2
          },
          "yaxis": {
           "automargin": true,
           "gridcolor": "white",
           "linecolor": "white",
           "ticks": "",
           "title": {
            "standoff": 15
           },
           "zerolinecolor": "white",
           "zerolinewidth": 2
          }
         }
        },
        "title": {
         "text": "Top 10 Suburbs by Projected Child Population Growth (0–4 yrs, 2023→2040)"
        },
        "xaxis": {
         "anchor": "y",
         "domain": [
          0,
          1
         ],
         "title": {
          "text": "Suburb"
         }
        },
        "yaxis": {
         "anchor": "x",
         "domain": [
          0,
          1
         ],
         "title": {
          "text": "Population (0–4 yrs)"
         }
        }
       }
      },
      "text/html": [
       "<div>                            <div id=\"b5315009-4188-4a80-a4c8-4ac2cbac588d\" class=\"plotly-graph-div\" style=\"height:525px; width:100%;\"></div>            <script type=\"text/javascript\">                require([\"plotly\"], function(Plotly) {                    window.PLOTLYENV=window.PLOTLYENV || {};                                    if (document.getElementById(\"b5315009-4188-4a80-a4c8-4ac2cbac588d\")) {                    Plotly.newPlot(                        \"b5315009-4188-4a80-a4c8-4ac2cbac588d\",                        [{\"alignmentgroup\":\"True\",\"hovertemplate\":\"Year=Pop2023\\u003cbr\\u003eSuburb=%{x}\\u003cbr\\u003ePopulation (0–4 yrs)=%{y}\\u003cextra\\u003e\\u003c\\u002fextra\\u003e\",\"legendgroup\":\"Pop2023\",\"marker\":{\"color\":\"#636efa\",\"pattern\":{\"shape\":\"\"}},\"name\":\"Pop2023\",\"offsetgroup\":\"Pop2023\",\"orientation\":\"v\",\"showlegend\":true,\"textposition\":\"auto\",\"x\":[\"MELBOURNE CBD\",\"DOCKLANDS\",\"NORTH MELBOURNE\",\"KENSINGTON\",\"SOUTHBANK\",\"CARLTON\",\"WEST MELBOURNE\",\"PARKVILLE\",\"EAST MELBOURNE\",\"SOUTH YARRA\"],\"xaxis\":\"x\",\"y\":[4762,797,506,709,574,412,282,296,112,100],\"yaxis\":\"y\",\"type\":\"bar\"},{\"alignmentgroup\":\"True\",\"hovertemplate\":\"Year=Pop2040\\u003cbr\\u003eSuburb=%{x}\\u003cbr\\u003ePopulation (0–4 yrs)=%{y}\\u003cextra\\u003e\\u003c\\u002fextra\\u003e\",\"legendgroup\":\"Pop2040\",\"marker\":{\"color\":\"#EF553B\",\"pattern\":{\"shape\":\"\"}},\"name\":\"Pop2040\",\"offsetgroup\":\"Pop2040\",\"orientation\":\"v\",\"showlegend\":true,\"textposition\":\"auto\",\"x\":[\"MELBOURNE CBD\",\"DOCKLANDS\",\"NORTH MELBOURNE\",\"KENSINGTON\",\"SOUTHBANK\",\"CARLTON\",\"WEST MELBOURNE\",\"PARKVILLE\",\"EAST MELBOURNE\",\"SOUTH YARRA\"],\"xaxis\":\"x\",\"y\":[11498,1888,1472,1578,1436,868,718,594,237,208],\"yaxis\":\"y\",\"type\":\"bar\"}],                        {\"template\":{\"data\":{\"histogram2dcontour\":[{\"type\":\"histogram2dcontour\",\"colorbar\":{\"outlinewidth\":0,\"ticks\":\"\"},\"colorscale\":[[0.0,\"#0d0887\"],[0.1111111111111111,\"#46039f\"],[0.2222222222222222,\"#7201a8\"],[0.3333333333333333,\"#9c179e\"],[0.4444444444444444,\"#bd3786\"],[0.5555555555555556,\"#d8576b\"],[0.6666666666666666,\"#ed7953\"],[0.7777777777777778,\"#fb9f3a\"],[0.8888888888888888,\"#fdca26\"],[1.0,\"#f0f921\"]]}],\"choropleth\":[{\"type\":\"choropleth\",\"colorbar\":{\"outlinewidth\":0,\"ticks\":\"\"}}],\"histogram2d\":[{\"type\":\"histogram2d\",\"colorbar\":{\"outlinewidth\":0,\"ticks\":\"\"},\"colorscale\":[[0.0,\"#0d0887\"],[0.1111111111111111,\"#46039f\"],[0.2222222222222222,\"#7201a8\"],[0.3333333333333333,\"#9c179e\"],[0.4444444444444444,\"#bd3786\"],[0.5555555555555556,\"#d8576b\"],[0.6666666666666666,\"#ed7953\"],[0.7777777777777778,\"#fb9f3a\"],[0.8888888888888888,\"#fdca26\"],[1.0,\"#f0f921\"]]}],\"heatmap\":[{\"type\":\"heatmap\",\"colorbar\":{\"outlinewidth\":0,\"ticks\":\"\"},\"colorscale\":[[0.0,\"#0d0887\"],[0.1111111111111111,\"#46039f\"],[0.2222222222222222,\"#7201a8\"],[0.3333333333333333,\"#9c179e\"],[0.4444444444444444,\"#bd3786\"],[0.5555555555555556,\"#d8576b\"],[0.6666666666666666,\"#ed7953\"],[0.7777777777777778,\"#fb9f3a\"],[0.8888888888888888,\"#fdca26\"],[1.0,\"#f0f921\"]]}],\"heatmapgl\":[{\"type\":\"heatmapgl\",\"colorbar\":{\"outlinewidth\":0,\"ticks\":\"\"},\"colorscale\":[[0.0,\"#0d0887\"],[0.1111111111111111,\"#46039f\"],[0.2222222222222222,\"#7201a8\"],[0.3333333333333333,\"#9c179e\"],[0.4444444444444444,\"#bd3786\"],[0.5555555555555556,\"#d8576b\"],[0.6666666666666666,\"#ed7953\"],[0.7777777777777778,\"#fb9f3a\"],[0.8888888888888888,\"#fdca26\"],[1.0,\"#f0f921\"]]}],\"contourcarpet\":[{\"type\":\"contourcarpet\",\"colorbar\":{\"outlinewidth\":0,\"ticks\":\"\"}}],\"contour\":[{\"type\":\"contour\",\"colorbar\":{\"outlinewidth\":0,\"ticks\":\"\"},\"colorscale\":[[0.0,\"#0d0887\"],[0.1111111111111111,\"#46039f\"],[0.2222222222222222,\"#7201a8\"],[0.3333333333333333,\"#9c179e\"],[0.4444444444444444,\"#bd3786\"],[0.5555555555555556,\"#d8576b\"],[0.6666666666666666,\"#ed7953\"],[0.7777777777777778,\"#fb9f3a\"],[0.8888888888888888,\"#fdca26\"],[1.0,\"#f0f921\"]]}],\"surface\":[{\"type\":\"surface\",\"colorbar\":{\"outlinewidth\":0,\"ticks\":\"\"},\"colorscale\":[[0.0,\"#0d0887\"],[0.1111111111111111,\"#46039f\"],[0.2222222222222222,\"#7201a8\"],[0.3333333333333333,\"#9c179e\"],[0.4444444444444444,\"#bd3786\"],[0.5555555555555556,\"#d8576b\"],[0.6666666666666666,\"#ed7953\"],[0.7777777777777778,\"#fb9f3a\"],[0.8888888888888888,\"#fdca26\"],[1.0,\"#f0f921\"]]}],\"mesh3d\":[{\"type\":\"mesh3d\",\"colorbar\":{\"outlinewidth\":0,\"ticks\":\"\"}}],\"scatter\":[{\"fillpattern\":{\"fillmode\":\"overlay\",\"size\":10,\"solidity\":0.2},\"type\":\"scatter\"}],\"parcoords\":[{\"type\":\"parcoords\",\"line\":{\"colorbar\":{\"outlinewidth\":0,\"ticks\":\"\"}}}],\"scatterpolargl\":[{\"type\":\"scatterpolargl\",\"marker\":{\"colorbar\":{\"outlinewidth\":0,\"ticks\":\"\"}}}],\"bar\":[{\"error_x\":{\"color\":\"#2a3f5f\"},\"error_y\":{\"color\":\"#2a3f5f\"},\"marker\":{\"line\":{\"color\":\"#E5ECF6\",\"width\":0.5},\"pattern\":{\"fillmode\":\"overlay\",\"size\":10,\"solidity\":0.2}},\"type\":\"bar\"}],\"scattergeo\":[{\"type\":\"scattergeo\",\"marker\":{\"colorbar\":{\"outlinewidth\":0,\"ticks\":\"\"}}}],\"scatterpolar\":[{\"type\":\"scatterpolar\",\"marker\":{\"colorbar\":{\"outlinewidth\":0,\"ticks\":\"\"}}}],\"histogram\":[{\"marker\":{\"pattern\":{\"fillmode\":\"overlay\",\"size\":10,\"solidity\":0.2}},\"type\":\"histogram\"}],\"scattergl\":[{\"type\":\"scattergl\",\"marker\":{\"colorbar\":{\"outlinewidth\":0,\"ticks\":\"\"}}}],\"scatter3d\":[{\"type\":\"scatter3d\",\"line\":{\"colorbar\":{\"outlinewidth\":0,\"ticks\":\"\"}},\"marker\":{\"colorbar\":{\"outlinewidth\":0,\"ticks\":\"\"}}}],\"scattermapbox\":[{\"type\":\"scattermapbox\",\"marker\":{\"colorbar\":{\"outlinewidth\":0,\"ticks\":\"\"}}}],\"scatterternary\":[{\"type\":\"scatterternary\",\"marker\":{\"colorbar\":{\"outlinewidth\":0,\"ticks\":\"\"}}}],\"scattercarpet\":[{\"type\":\"scattercarpet\",\"marker\":{\"colorbar\":{\"outlinewidth\":0,\"ticks\":\"\"}}}],\"carpet\":[{\"aaxis\":{\"endlinecolor\":\"#2a3f5f\",\"gridcolor\":\"white\",\"linecolor\":\"white\",\"minorgridcolor\":\"white\",\"startlinecolor\":\"#2a3f5f\"},\"baxis\":{\"endlinecolor\":\"#2a3f5f\",\"gridcolor\":\"white\",\"linecolor\":\"white\",\"minorgridcolor\":\"white\",\"startlinecolor\":\"#2a3f5f\"},\"type\":\"carpet\"}],\"table\":[{\"cells\":{\"fill\":{\"color\":\"#EBF0F8\"},\"line\":{\"color\":\"white\"}},\"header\":{\"fill\":{\"color\":\"#C8D4E3\"},\"line\":{\"color\":\"white\"}},\"type\":\"table\"}],\"barpolar\":[{\"marker\":{\"line\":{\"color\":\"#E5ECF6\",\"width\":0.5},\"pattern\":{\"fillmode\":\"overlay\",\"size\":10,\"solidity\":0.2}},\"type\":\"barpolar\"}],\"pie\":[{\"automargin\":true,\"type\":\"pie\"}]},\"layout\":{\"autotypenumbers\":\"strict\",\"colorway\":[\"#636efa\",\"#EF553B\",\"#00cc96\",\"#ab63fa\",\"#FFA15A\",\"#19d3f3\",\"#FF6692\",\"#B6E880\",\"#FF97FF\",\"#FECB52\"],\"font\":{\"color\":\"#2a3f5f\"},\"hovermode\":\"closest\",\"hoverlabel\":{\"align\":\"left\"},\"paper_bgcolor\":\"white\",\"plot_bgcolor\":\"#E5ECF6\",\"polar\":{\"bgcolor\":\"#E5ECF6\",\"angularaxis\":{\"gridcolor\":\"white\",\"linecolor\":\"white\",\"ticks\":\"\"},\"radialaxis\":{\"gridcolor\":\"white\",\"linecolor\":\"white\",\"ticks\":\"\"}},\"ternary\":{\"bgcolor\":\"#E5ECF6\",\"aaxis\":{\"gridcolor\":\"white\",\"linecolor\":\"white\",\"ticks\":\"\"},\"baxis\":{\"gridcolor\":\"white\",\"linecolor\":\"white\",\"ticks\":\"\"},\"caxis\":{\"gridcolor\":\"white\",\"linecolor\":\"white\",\"ticks\":\"\"}},\"coloraxis\":{\"colorbar\":{\"outlinewidth\":0,\"ticks\":\"\"}},\"colorscale\":{\"sequential\":[[0.0,\"#0d0887\"],[0.1111111111111111,\"#46039f\"],[0.2222222222222222,\"#7201a8\"],[0.3333333333333333,\"#9c179e\"],[0.4444444444444444,\"#bd3786\"],[0.5555555555555556,\"#d8576b\"],[0.6666666666666666,\"#ed7953\"],[0.7777777777777778,\"#fb9f3a\"],[0.8888888888888888,\"#fdca26\"],[1.0,\"#f0f921\"]],\"sequentialminus\":[[0.0,\"#0d0887\"],[0.1111111111111111,\"#46039f\"],[0.2222222222222222,\"#7201a8\"],[0.3333333333333333,\"#9c179e\"],[0.4444444444444444,\"#bd3786\"],[0.5555555555555556,\"#d8576b\"],[0.6666666666666666,\"#ed7953\"],[0.7777777777777778,\"#fb9f3a\"],[0.8888888888888888,\"#fdca26\"],[1.0,\"#f0f921\"]],\"diverging\":[[0,\"#8e0152\"],[0.1,\"#c51b7d\"],[0.2,\"#de77ae\"],[0.3,\"#f1b6da\"],[0.4,\"#fde0ef\"],[0.5,\"#f7f7f7\"],[0.6,\"#e6f5d0\"],[0.7,\"#b8e186\"],[0.8,\"#7fbc41\"],[0.9,\"#4d9221\"],[1,\"#276419\"]]},\"xaxis\":{\"gridcolor\":\"white\",\"linecolor\":\"white\",\"ticks\":\"\",\"title\":{\"standoff\":15},\"zerolinecolor\":\"white\",\"automargin\":true,\"zerolinewidth\":2},\"yaxis\":{\"gridcolor\":\"white\",\"linecolor\":\"white\",\"ticks\":\"\",\"title\":{\"standoff\":15},\"zerolinecolor\":\"white\",\"automargin\":true,\"zerolinewidth\":2},\"scene\":{\"xaxis\":{\"backgroundcolor\":\"#E5ECF6\",\"gridcolor\":\"white\",\"linecolor\":\"white\",\"showbackground\":true,\"ticks\":\"\",\"zerolinecolor\":\"white\",\"gridwidth\":2},\"yaxis\":{\"backgroundcolor\":\"#E5ECF6\",\"gridcolor\":\"white\",\"linecolor\":\"white\",\"showbackground\":true,\"ticks\":\"\",\"zerolinecolor\":\"white\",\"gridwidth\":2},\"zaxis\":{\"backgroundcolor\":\"#E5ECF6\",\"gridcolor\":\"white\",\"linecolor\":\"white\",\"showbackground\":true,\"ticks\":\"\",\"zerolinecolor\":\"white\",\"gridwidth\":2}},\"shapedefaults\":{\"line\":{\"color\":\"#2a3f5f\"}},\"annotationdefaults\":{\"arrowcolor\":\"#2a3f5f\",\"arrowhead\":0,\"arrowwidth\":1},\"geo\":{\"bgcolor\":\"white\",\"landcolor\":\"#E5ECF6\",\"subunitcolor\":\"white\",\"showland\":true,\"showlakes\":true,\"lakecolor\":\"white\"},\"title\":{\"x\":0.05},\"mapbox\":{\"style\":\"light\"}}},\"xaxis\":{\"anchor\":\"y\",\"domain\":[0.0,1.0],\"title\":{\"text\":\"Suburb\"}},\"yaxis\":{\"anchor\":\"x\",\"domain\":[0.0,1.0],\"title\":{\"text\":\"Population (0–4 yrs)\"}},\"legend\":{\"title\":{\"text\":\"Year\"},\"tracegroupgap\":0},\"title\":{\"text\":\"Top 10 Suburbs by Projected Child Population Growth (0–4 yrs, 2023→2040)\"},\"barmode\":\"group\"},                        {\"responsive\": true}                    ).then(function(){\n",
       "                            \n",
       "var gd = document.getElementById('b5315009-4188-4a80-a4c8-4ac2cbac588d');\n",
       "var x = new MutationObserver(function (mutations, observer) {{\n",
       "        var display = window.getComputedStyle(gd).display;\n",
       "        if (!display || display === 'none') {{\n",
       "            console.log([gd, 'removed!']);\n",
       "            Plotly.purge(gd);\n",
       "            observer.disconnect();\n",
       "        }}\n",
       "}});\n",
       "\n",
       "// Listen for the removal of the full notebook cells\n",
       "var notebookContainer = gd.closest('#notebook-container');\n",
       "if (notebookContainer) {{\n",
       "    x.observe(notebookContainer, {childList: true});\n",
       "}}\n",
       "\n",
       "// Listen for the clearing of the current output cell\n",
       "var outputEl = gd.closest('.output');\n",
       "if (outputEl) {{\n",
       "    x.observe(outputEl, {childList: true});\n",
       "}}\n",
       "\n",
       "                        })                };                });            </script>        </div>"
      ]
     },
     "metadata": {},
     "output_type": "display_data"
    }
   ],
   "source": [
    "# Merge 2023 and 2040 child populations\n",
    "growth_df = pd.merge(pop_2023, pop_2040, on=\"Suburb\", how=\"inner\")\n",
    "growth_df[\"AbsoluteGrowth\"] = growth_df[\"Pop2040\"] - growth_df[\"Pop2023\"]\n",
    "growth_df[\"Growth_%\"] = ((growth_df[\"Pop2040\"] - growth_df[\"Pop2023\"]) / growth_df[\"Pop2023\"]) * 100\n",
    "\n",
    "# Top 10 suburbs by absolute growth\n",
    "top_growth = growth_df.sort_values(\"AbsoluteGrowth\", ascending=False).head(10)\n",
    "\n",
    "import plotly.express as px\n",
    "fig1 = px.bar(\n",
    "    top_growth,\n",
    "    x=\"Suburb\",\n",
    "    y=[\"Pop2023\", \"Pop2040\"],\n",
    "    barmode=\"group\",\n",
    "    title=\"Top 10 Suburbs by Projected Child Population Growth (0–4 yrs, 2023→2040)\",\n",
    "    labels={\"value\":\"Population (0–4 yrs)\", \"variable\":\"Year\"}\n",
    ")\n",
    "fig1.show()\n"
   ]
  },
  {
   "cell_type": "markdown",
   "id": "bd05e710-4ae6-4ff1-8fdc-7f9d6aba27b4",
   "metadata": {},
   "source": [
    "### Insight: Child Population Growth Hotspots  \n",
    "Melbourne CBD and Docklands show the highest projected increase in children aged 0–4 by 2040, highlighting urgent pressure on childcare infrastructure."
   ]
  },
  {
   "cell_type": "markdown",
   "id": "4f6ff493-3666-4d30-aafd-1340a06665f5",
   "metadata": {},
   "source": [
    "### Insight 2: Children per Existing Childcare Centre\n",
    "\n",
    "We calculate **Future Pressure** = `Pop2040 / CentreCount`.  \n",
    "This shows how many children each centre would serve in 2040 if no new centres are built.\n"
   ]
  },
  {
   "cell_type": "code",
   "execution_count": 26,
   "id": "db36a960-d8ca-41d8-991a-e62e66278974",
   "metadata": {},
   "outputs": [
    {
     "data": {
      "application/vnd.plotly.v1+json": {
       "config": {
        "plotlyServerURL": "https://plot.ly"
       },
       "data": [
        {
         "alignmentgroup": "True",
         "customdata": [
          [
           11498,
           11,
           141.45317093658127
          ],
          [
           718,
           2,
           154.60992907801418
          ],
          [
           1578,
           5,
           122.5669957686883
          ],
          [
           1888,
           7,
           136.8883312421581
          ],
          [
           1436,
           6,
           150.17421602787456
          ],
          [
           1472,
           10,
           190.9090909090909
          ],
          [
           594,
           5,
           100.67567567567568
          ],
          [
           237,
           2,
           111.60714285714286
          ],
          [
           868,
           10,
           110.67961165048543
          ],
          [
           208,
           9,
           108
          ]
         ],
         "hovertemplate": "Suburb=%{x}<br>Children per Centre (2040)=%{y}<br>CentreCount=%{customdata[1]}<br>Pop2040=%{customdata[0]}<br>Growth_%=%{customdata[2]}<extra></extra>",
         "legendgroup": "",
         "marker": {
          "color": "#636efa",
          "pattern": {
           "shape": ""
          }
         },
         "name": "",
         "offsetgroup": "",
         "orientation": "v",
         "showlegend": false,
         "text": [
          11,
          2,
          5,
          7,
          6,
          10,
          5,
          2,
          10,
          9
         ],
         "textposition": "outside",
         "type": "bar",
         "x": [
          "MELBOURNE CBD",
          "WEST MELBOURNE",
          "KENSINGTON",
          "DOCKLANDS",
          "SOUTHBANK",
          "NORTH MELBOURNE",
          "PARKVILLE",
          "EAST MELBOURNE",
          "CARLTON",
          "SOUTH YARRA"
         ],
         "xaxis": "x",
         "y": [
          1045.2727272727273,
          359,
          315.6,
          269.7142857142857,
          239.33333333333334,
          147.2,
          118.8,
          118.5,
          86.8,
          23.11111111111111
         ],
         "yaxis": "y"
        }
       ],
       "layout": {
        "barmode": "relative",
        "legend": {
         "tracegroupgap": 0
        },
        "template": {
         "data": {
          "bar": [
           {
            "error_x": {
             "color": "#2a3f5f"
            },
            "error_y": {
             "color": "#2a3f5f"
            },
            "marker": {
             "line": {
              "color": "#E5ECF6",
              "width": 0.5
             },
             "pattern": {
              "fillmode": "overlay",
              "size": 10,
              "solidity": 0.2
             }
            },
            "type": "bar"
           }
          ],
          "barpolar": [
           {
            "marker": {
             "line": {
              "color": "#E5ECF6",
              "width": 0.5
             },
             "pattern": {
              "fillmode": "overlay",
              "size": 10,
              "solidity": 0.2
             }
            },
            "type": "barpolar"
           }
          ],
          "carpet": [
           {
            "aaxis": {
             "endlinecolor": "#2a3f5f",
             "gridcolor": "white",
             "linecolor": "white",
             "minorgridcolor": "white",
             "startlinecolor": "#2a3f5f"
            },
            "baxis": {
             "endlinecolor": "#2a3f5f",
             "gridcolor": "white",
             "linecolor": "white",
             "minorgridcolor": "white",
             "startlinecolor": "#2a3f5f"
            },
            "type": "carpet"
           }
          ],
          "choropleth": [
           {
            "colorbar": {
             "outlinewidth": 0,
             "ticks": ""
            },
            "type": "choropleth"
           }
          ],
          "contour": [
           {
            "colorbar": {
             "outlinewidth": 0,
             "ticks": ""
            },
            "colorscale": [
             [
              0,
              "#0d0887"
             ],
             [
              0.1111111111111111,
              "#46039f"
             ],
             [
              0.2222222222222222,
              "#7201a8"
             ],
             [
              0.3333333333333333,
              "#9c179e"
             ],
             [
              0.4444444444444444,
              "#bd3786"
             ],
             [
              0.5555555555555556,
              "#d8576b"
             ],
             [
              0.6666666666666666,
              "#ed7953"
             ],
             [
              0.7777777777777778,
              "#fb9f3a"
             ],
             [
              0.8888888888888888,
              "#fdca26"
             ],
             [
              1,
              "#f0f921"
             ]
            ],
            "type": "contour"
           }
          ],
          "contourcarpet": [
           {
            "colorbar": {
             "outlinewidth": 0,
             "ticks": ""
            },
            "type": "contourcarpet"
           }
          ],
          "heatmap": [
           {
            "colorbar": {
             "outlinewidth": 0,
             "ticks": ""
            },
            "colorscale": [
             [
              0,
              "#0d0887"
             ],
             [
              0.1111111111111111,
              "#46039f"
             ],
             [
              0.2222222222222222,
              "#7201a8"
             ],
             [
              0.3333333333333333,
              "#9c179e"
             ],
             [
              0.4444444444444444,
              "#bd3786"
             ],
             [
              0.5555555555555556,
              "#d8576b"
             ],
             [
              0.6666666666666666,
              "#ed7953"
             ],
             [
              0.7777777777777778,
              "#fb9f3a"
             ],
             [
              0.8888888888888888,
              "#fdca26"
             ],
             [
              1,
              "#f0f921"
             ]
            ],
            "type": "heatmap"
           }
          ],
          "heatmapgl": [
           {
            "colorbar": {
             "outlinewidth": 0,
             "ticks": ""
            },
            "colorscale": [
             [
              0,
              "#0d0887"
             ],
             [
              0.1111111111111111,
              "#46039f"
             ],
             [
              0.2222222222222222,
              "#7201a8"
             ],
             [
              0.3333333333333333,
              "#9c179e"
             ],
             [
              0.4444444444444444,
              "#bd3786"
             ],
             [
              0.5555555555555556,
              "#d8576b"
             ],
             [
              0.6666666666666666,
              "#ed7953"
             ],
             [
              0.7777777777777778,
              "#fb9f3a"
             ],
             [
              0.8888888888888888,
              "#fdca26"
             ],
             [
              1,
              "#f0f921"
             ]
            ],
            "type": "heatmapgl"
           }
          ],
          "histogram": [
           {
            "marker": {
             "pattern": {
              "fillmode": "overlay",
              "size": 10,
              "solidity": 0.2
             }
            },
            "type": "histogram"
           }
          ],
          "histogram2d": [
           {
            "colorbar": {
             "outlinewidth": 0,
             "ticks": ""
            },
            "colorscale": [
             [
              0,
              "#0d0887"
             ],
             [
              0.1111111111111111,
              "#46039f"
             ],
             [
              0.2222222222222222,
              "#7201a8"
             ],
             [
              0.3333333333333333,
              "#9c179e"
             ],
             [
              0.4444444444444444,
              "#bd3786"
             ],
             [
              0.5555555555555556,
              "#d8576b"
             ],
             [
              0.6666666666666666,
              "#ed7953"
             ],
             [
              0.7777777777777778,
              "#fb9f3a"
             ],
             [
              0.8888888888888888,
              "#fdca26"
             ],
             [
              1,
              "#f0f921"
             ]
            ],
            "type": "histogram2d"
           }
          ],
          "histogram2dcontour": [
           {
            "colorbar": {
             "outlinewidth": 0,
             "ticks": ""
            },
            "colorscale": [
             [
              0,
              "#0d0887"
             ],
             [
              0.1111111111111111,
              "#46039f"
             ],
             [
              0.2222222222222222,
              "#7201a8"
             ],
             [
              0.3333333333333333,
              "#9c179e"
             ],
             [
              0.4444444444444444,
              "#bd3786"
             ],
             [
              0.5555555555555556,
              "#d8576b"
             ],
             [
              0.6666666666666666,
              "#ed7953"
             ],
             [
              0.7777777777777778,
              "#fb9f3a"
             ],
             [
              0.8888888888888888,
              "#fdca26"
             ],
             [
              1,
              "#f0f921"
             ]
            ],
            "type": "histogram2dcontour"
           }
          ],
          "mesh3d": [
           {
            "colorbar": {
             "outlinewidth": 0,
             "ticks": ""
            },
            "type": "mesh3d"
           }
          ],
          "parcoords": [
           {
            "line": {
             "colorbar": {
              "outlinewidth": 0,
              "ticks": ""
             }
            },
            "type": "parcoords"
           }
          ],
          "pie": [
           {
            "automargin": true,
            "type": "pie"
           }
          ],
          "scatter": [
           {
            "fillpattern": {
             "fillmode": "overlay",
             "size": 10,
             "solidity": 0.2
            },
            "type": "scatter"
           }
          ],
          "scatter3d": [
           {
            "line": {
             "colorbar": {
              "outlinewidth": 0,
              "ticks": ""
             }
            },
            "marker": {
             "colorbar": {
              "outlinewidth": 0,
              "ticks": ""
             }
            },
            "type": "scatter3d"
           }
          ],
          "scattercarpet": [
           {
            "marker": {
             "colorbar": {
              "outlinewidth": 0,
              "ticks": ""
             }
            },
            "type": "scattercarpet"
           }
          ],
          "scattergeo": [
           {
            "marker": {
             "colorbar": {
              "outlinewidth": 0,
              "ticks": ""
             }
            },
            "type": "scattergeo"
           }
          ],
          "scattergl": [
           {
            "marker": {
             "colorbar": {
              "outlinewidth": 0,
              "ticks": ""
             }
            },
            "type": "scattergl"
           }
          ],
          "scattermapbox": [
           {
            "marker": {
             "colorbar": {
              "outlinewidth": 0,
              "ticks": ""
             }
            },
            "type": "scattermapbox"
           }
          ],
          "scatterpolar": [
           {
            "marker": {
             "colorbar": {
              "outlinewidth": 0,
              "ticks": ""
             }
            },
            "type": "scatterpolar"
           }
          ],
          "scatterpolargl": [
           {
            "marker": {
             "colorbar": {
              "outlinewidth": 0,
              "ticks": ""
             }
            },
            "type": "scatterpolargl"
           }
          ],
          "scatterternary": [
           {
            "marker": {
             "colorbar": {
              "outlinewidth": 0,
              "ticks": ""
             }
            },
            "type": "scatterternary"
           }
          ],
          "surface": [
           {
            "colorbar": {
             "outlinewidth": 0,
             "ticks": ""
            },
            "colorscale": [
             [
              0,
              "#0d0887"
             ],
             [
              0.1111111111111111,
              "#46039f"
             ],
             [
              0.2222222222222222,
              "#7201a8"
             ],
             [
              0.3333333333333333,
              "#9c179e"
             ],
             [
              0.4444444444444444,
              "#bd3786"
             ],
             [
              0.5555555555555556,
              "#d8576b"
             ],
             [
              0.6666666666666666,
              "#ed7953"
             ],
             [
              0.7777777777777778,
              "#fb9f3a"
             ],
             [
              0.8888888888888888,
              "#fdca26"
             ],
             [
              1,
              "#f0f921"
             ]
            ],
            "type": "surface"
           }
          ],
          "table": [
           {
            "cells": {
             "fill": {
              "color": "#EBF0F8"
             },
             "line": {
              "color": "white"
             }
            },
            "header": {
             "fill": {
              "color": "#C8D4E3"
             },
             "line": {
              "color": "white"
             }
            },
            "type": "table"
           }
          ]
         },
         "layout": {
          "annotationdefaults": {
           "arrowcolor": "#2a3f5f",
           "arrowhead": 0,
           "arrowwidth": 1
          },
          "autotypenumbers": "strict",
          "coloraxis": {
           "colorbar": {
            "outlinewidth": 0,
            "ticks": ""
           }
          },
          "colorscale": {
           "diverging": [
            [
             0,
             "#8e0152"
            ],
            [
             0.1,
             "#c51b7d"
            ],
            [
             0.2,
             "#de77ae"
            ],
            [
             0.3,
             "#f1b6da"
            ],
            [
             0.4,
             "#fde0ef"
            ],
            [
             0.5,
             "#f7f7f7"
            ],
            [
             0.6,
             "#e6f5d0"
            ],
            [
             0.7,
             "#b8e186"
            ],
            [
             0.8,
             "#7fbc41"
            ],
            [
             0.9,
             "#4d9221"
            ],
            [
             1,
             "#276419"
            ]
           ],
           "sequential": [
            [
             0,
             "#0d0887"
            ],
            [
             0.1111111111111111,
             "#46039f"
            ],
            [
             0.2222222222222222,
             "#7201a8"
            ],
            [
             0.3333333333333333,
             "#9c179e"
            ],
            [
             0.4444444444444444,
             "#bd3786"
            ],
            [
             0.5555555555555556,
             "#d8576b"
            ],
            [
             0.6666666666666666,
             "#ed7953"
            ],
            [
             0.7777777777777778,
             "#fb9f3a"
            ],
            [
             0.8888888888888888,
             "#fdca26"
            ],
            [
             1,
             "#f0f921"
            ]
           ],
           "sequentialminus": [
            [
             0,
             "#0d0887"
            ],
            [
             0.1111111111111111,
             "#46039f"
            ],
            [
             0.2222222222222222,
             "#7201a8"
            ],
            [
             0.3333333333333333,
             "#9c179e"
            ],
            [
             0.4444444444444444,
             "#bd3786"
            ],
            [
             0.5555555555555556,
             "#d8576b"
            ],
            [
             0.6666666666666666,
             "#ed7953"
            ],
            [
             0.7777777777777778,
             "#fb9f3a"
            ],
            [
             0.8888888888888888,
             "#fdca26"
            ],
            [
             1,
             "#f0f921"
            ]
           ]
          },
          "colorway": [
           "#636efa",
           "#EF553B",
           "#00cc96",
           "#ab63fa",
           "#FFA15A",
           "#19d3f3",
           "#FF6692",
           "#B6E880",
           "#FF97FF",
           "#FECB52"
          ],
          "font": {
           "color": "#2a3f5f"
          },
          "geo": {
           "bgcolor": "white",
           "lakecolor": "white",
           "landcolor": "#E5ECF6",
           "showlakes": true,
           "showland": true,
           "subunitcolor": "white"
          },
          "hoverlabel": {
           "align": "left"
          },
          "hovermode": "closest",
          "mapbox": {
           "style": "light"
          },
          "paper_bgcolor": "white",
          "plot_bgcolor": "#E5ECF6",
          "polar": {
           "angularaxis": {
            "gridcolor": "white",
            "linecolor": "white",
            "ticks": ""
           },
           "bgcolor": "#E5ECF6",
           "radialaxis": {
            "gridcolor": "white",
            "linecolor": "white",
            "ticks": ""
           }
          },
          "scene": {
           "xaxis": {
            "backgroundcolor": "#E5ECF6",
            "gridcolor": "white",
            "gridwidth": 2,
            "linecolor": "white",
            "showbackground": true,
            "ticks": "",
            "zerolinecolor": "white"
           },
           "yaxis": {
            "backgroundcolor": "#E5ECF6",
            "gridcolor": "white",
            "gridwidth": 2,
            "linecolor": "white",
            "showbackground": true,
            "ticks": "",
            "zerolinecolor": "white"
           },
           "zaxis": {
            "backgroundcolor": "#E5ECF6",
            "gridcolor": "white",
            "gridwidth": 2,
            "linecolor": "white",
            "showbackground": true,
            "ticks": "",
            "zerolinecolor": "white"
           }
          },
          "shapedefaults": {
           "line": {
            "color": "#2a3f5f"
           }
          },
          "ternary": {
           "aaxis": {
            "gridcolor": "white",
            "linecolor": "white",
            "ticks": ""
           },
           "baxis": {
            "gridcolor": "white",
            "linecolor": "white",
            "ticks": ""
           },
           "bgcolor": "#E5ECF6",
           "caxis": {
            "gridcolor": "white",
            "linecolor": "white",
            "ticks": ""
           }
          },
          "title": {
           "x": 0.05
          },
          "xaxis": {
           "automargin": true,
           "gridcolor": "white",
           "linecolor": "white",
           "ticks": "",
           "title": {
            "standoff": 15
           },
           "zerolinecolor": "white",
           "zerolinewidth": 2
          },
          "yaxis": {
           "automargin": true,
           "gridcolor": "white",
           "linecolor": "white",
           "ticks": "",
           "title": {
            "standoff": 15
           },
           "zerolinecolor": "white",
           "zerolinewidth": 2
          }
         }
        },
        "title": {
         "text": "Top 10 Suburbs by Children per Centre (2040)"
        },
        "xaxis": {
         "anchor": "y",
         "domain": [
          0,
          1
         ],
         "title": {
          "text": "Suburb"
         }
        },
        "yaxis": {
         "anchor": "x",
         "domain": [
          0,
          1
         ],
         "title": {
          "text": "Children per Centre (2040)"
         }
        }
       }
      },
      "text/html": [
       "<div>                            <div id=\"3eca6c2f-8f71-4ce3-b94e-2a88f9efa577\" class=\"plotly-graph-div\" style=\"height:525px; width:100%;\"></div>            <script type=\"text/javascript\">                require([\"plotly\"], function(Plotly) {                    window.PLOTLYENV=window.PLOTLYENV || {};                                    if (document.getElementById(\"3eca6c2f-8f71-4ce3-b94e-2a88f9efa577\")) {                    Plotly.newPlot(                        \"3eca6c2f-8f71-4ce3-b94e-2a88f9efa577\",                        [{\"alignmentgroup\":\"True\",\"customdata\":[[11498.0,11.0,141.45317093658127],[718.0,2.0,154.60992907801418],[1578.0,5.0,122.5669957686883],[1888.0,7.0,136.8883312421581],[1436.0,6.0,150.17421602787456],[1472.0,10.0,190.9090909090909],[594.0,5.0,100.67567567567568],[237.0,2.0,111.60714285714286],[868.0,10.0,110.67961165048543],[208.0,9.0,108.0]],\"hovertemplate\":\"Suburb=%{x}\\u003cbr\\u003eChildren per Centre (2040)=%{y}\\u003cbr\\u003eCentreCount=%{customdata[1]}\\u003cbr\\u003ePop2040=%{customdata[0]}\\u003cbr\\u003eGrowth_%=%{customdata[2]}\\u003cextra\\u003e\\u003c\\u002fextra\\u003e\",\"legendgroup\":\"\",\"marker\":{\"color\":\"#636efa\",\"pattern\":{\"shape\":\"\"}},\"name\":\"\",\"offsetgroup\":\"\",\"orientation\":\"v\",\"showlegend\":false,\"text\":[11.0,2.0,5.0,7.0,6.0,10.0,5.0,2.0,10.0,9.0],\"textposition\":\"outside\",\"x\":[\"MELBOURNE CBD\",\"WEST MELBOURNE\",\"KENSINGTON\",\"DOCKLANDS\",\"SOUTHBANK\",\"NORTH MELBOURNE\",\"PARKVILLE\",\"EAST MELBOURNE\",\"CARLTON\",\"SOUTH YARRA\"],\"xaxis\":\"x\",\"y\":[1045.2727272727273,359.0,315.6,269.7142857142857,239.33333333333334,147.2,118.8,118.5,86.8,23.11111111111111],\"yaxis\":\"y\",\"type\":\"bar\"}],                        {\"template\":{\"data\":{\"histogram2dcontour\":[{\"type\":\"histogram2dcontour\",\"colorbar\":{\"outlinewidth\":0,\"ticks\":\"\"},\"colorscale\":[[0.0,\"#0d0887\"],[0.1111111111111111,\"#46039f\"],[0.2222222222222222,\"#7201a8\"],[0.3333333333333333,\"#9c179e\"],[0.4444444444444444,\"#bd3786\"],[0.5555555555555556,\"#d8576b\"],[0.6666666666666666,\"#ed7953\"],[0.7777777777777778,\"#fb9f3a\"],[0.8888888888888888,\"#fdca26\"],[1.0,\"#f0f921\"]]}],\"choropleth\":[{\"type\":\"choropleth\",\"colorbar\":{\"outlinewidth\":0,\"ticks\":\"\"}}],\"histogram2d\":[{\"type\":\"histogram2d\",\"colorbar\":{\"outlinewidth\":0,\"ticks\":\"\"},\"colorscale\":[[0.0,\"#0d0887\"],[0.1111111111111111,\"#46039f\"],[0.2222222222222222,\"#7201a8\"],[0.3333333333333333,\"#9c179e\"],[0.4444444444444444,\"#bd3786\"],[0.5555555555555556,\"#d8576b\"],[0.6666666666666666,\"#ed7953\"],[0.7777777777777778,\"#fb9f3a\"],[0.8888888888888888,\"#fdca26\"],[1.0,\"#f0f921\"]]}],\"heatmap\":[{\"type\":\"heatmap\",\"colorbar\":{\"outlinewidth\":0,\"ticks\":\"\"},\"colorscale\":[[0.0,\"#0d0887\"],[0.1111111111111111,\"#46039f\"],[0.2222222222222222,\"#7201a8\"],[0.3333333333333333,\"#9c179e\"],[0.4444444444444444,\"#bd3786\"],[0.5555555555555556,\"#d8576b\"],[0.6666666666666666,\"#ed7953\"],[0.7777777777777778,\"#fb9f3a\"],[0.8888888888888888,\"#fdca26\"],[1.0,\"#f0f921\"]]}],\"heatmapgl\":[{\"type\":\"heatmapgl\",\"colorbar\":{\"outlinewidth\":0,\"ticks\":\"\"},\"colorscale\":[[0.0,\"#0d0887\"],[0.1111111111111111,\"#46039f\"],[0.2222222222222222,\"#7201a8\"],[0.3333333333333333,\"#9c179e\"],[0.4444444444444444,\"#bd3786\"],[0.5555555555555556,\"#d8576b\"],[0.6666666666666666,\"#ed7953\"],[0.7777777777777778,\"#fb9f3a\"],[0.8888888888888888,\"#fdca26\"],[1.0,\"#f0f921\"]]}],\"contourcarpet\":[{\"type\":\"contourcarpet\",\"colorbar\":{\"outlinewidth\":0,\"ticks\":\"\"}}],\"contour\":[{\"type\":\"contour\",\"colorbar\":{\"outlinewidth\":0,\"ticks\":\"\"},\"colorscale\":[[0.0,\"#0d0887\"],[0.1111111111111111,\"#46039f\"],[0.2222222222222222,\"#7201a8\"],[0.3333333333333333,\"#9c179e\"],[0.4444444444444444,\"#bd3786\"],[0.5555555555555556,\"#d8576b\"],[0.6666666666666666,\"#ed7953\"],[0.7777777777777778,\"#fb9f3a\"],[0.8888888888888888,\"#fdca26\"],[1.0,\"#f0f921\"]]}],\"surface\":[{\"type\":\"surface\",\"colorbar\":{\"outlinewidth\":0,\"ticks\":\"\"},\"colorscale\":[[0.0,\"#0d0887\"],[0.1111111111111111,\"#46039f\"],[0.2222222222222222,\"#7201a8\"],[0.3333333333333333,\"#9c179e\"],[0.4444444444444444,\"#bd3786\"],[0.5555555555555556,\"#d8576b\"],[0.6666666666666666,\"#ed7953\"],[0.7777777777777778,\"#fb9f3a\"],[0.8888888888888888,\"#fdca26\"],[1.0,\"#f0f921\"]]}],\"mesh3d\":[{\"type\":\"mesh3d\",\"colorbar\":{\"outlinewidth\":0,\"ticks\":\"\"}}],\"scatter\":[{\"fillpattern\":{\"fillmode\":\"overlay\",\"size\":10,\"solidity\":0.2},\"type\":\"scatter\"}],\"parcoords\":[{\"type\":\"parcoords\",\"line\":{\"colorbar\":{\"outlinewidth\":0,\"ticks\":\"\"}}}],\"scatterpolargl\":[{\"type\":\"scatterpolargl\",\"marker\":{\"colorbar\":{\"outlinewidth\":0,\"ticks\":\"\"}}}],\"bar\":[{\"error_x\":{\"color\":\"#2a3f5f\"},\"error_y\":{\"color\":\"#2a3f5f\"},\"marker\":{\"line\":{\"color\":\"#E5ECF6\",\"width\":0.5},\"pattern\":{\"fillmode\":\"overlay\",\"size\":10,\"solidity\":0.2}},\"type\":\"bar\"}],\"scattergeo\":[{\"type\":\"scattergeo\",\"marker\":{\"colorbar\":{\"outlinewidth\":0,\"ticks\":\"\"}}}],\"scatterpolar\":[{\"type\":\"scatterpolar\",\"marker\":{\"colorbar\":{\"outlinewidth\":0,\"ticks\":\"\"}}}],\"histogram\":[{\"marker\":{\"pattern\":{\"fillmode\":\"overlay\",\"size\":10,\"solidity\":0.2}},\"type\":\"histogram\"}],\"scattergl\":[{\"type\":\"scattergl\",\"marker\":{\"colorbar\":{\"outlinewidth\":0,\"ticks\":\"\"}}}],\"scatter3d\":[{\"type\":\"scatter3d\",\"line\":{\"colorbar\":{\"outlinewidth\":0,\"ticks\":\"\"}},\"marker\":{\"colorbar\":{\"outlinewidth\":0,\"ticks\":\"\"}}}],\"scattermapbox\":[{\"type\":\"scattermapbox\",\"marker\":{\"colorbar\":{\"outlinewidth\":0,\"ticks\":\"\"}}}],\"scatterternary\":[{\"type\":\"scatterternary\",\"marker\":{\"colorbar\":{\"outlinewidth\":0,\"ticks\":\"\"}}}],\"scattercarpet\":[{\"type\":\"scattercarpet\",\"marker\":{\"colorbar\":{\"outlinewidth\":0,\"ticks\":\"\"}}}],\"carpet\":[{\"aaxis\":{\"endlinecolor\":\"#2a3f5f\",\"gridcolor\":\"white\",\"linecolor\":\"white\",\"minorgridcolor\":\"white\",\"startlinecolor\":\"#2a3f5f\"},\"baxis\":{\"endlinecolor\":\"#2a3f5f\",\"gridcolor\":\"white\",\"linecolor\":\"white\",\"minorgridcolor\":\"white\",\"startlinecolor\":\"#2a3f5f\"},\"type\":\"carpet\"}],\"table\":[{\"cells\":{\"fill\":{\"color\":\"#EBF0F8\"},\"line\":{\"color\":\"white\"}},\"header\":{\"fill\":{\"color\":\"#C8D4E3\"},\"line\":{\"color\":\"white\"}},\"type\":\"table\"}],\"barpolar\":[{\"marker\":{\"line\":{\"color\":\"#E5ECF6\",\"width\":0.5},\"pattern\":{\"fillmode\":\"overlay\",\"size\":10,\"solidity\":0.2}},\"type\":\"barpolar\"}],\"pie\":[{\"automargin\":true,\"type\":\"pie\"}]},\"layout\":{\"autotypenumbers\":\"strict\",\"colorway\":[\"#636efa\",\"#EF553B\",\"#00cc96\",\"#ab63fa\",\"#FFA15A\",\"#19d3f3\",\"#FF6692\",\"#B6E880\",\"#FF97FF\",\"#FECB52\"],\"font\":{\"color\":\"#2a3f5f\"},\"hovermode\":\"closest\",\"hoverlabel\":{\"align\":\"left\"},\"paper_bgcolor\":\"white\",\"plot_bgcolor\":\"#E5ECF6\",\"polar\":{\"bgcolor\":\"#E5ECF6\",\"angularaxis\":{\"gridcolor\":\"white\",\"linecolor\":\"white\",\"ticks\":\"\"},\"radialaxis\":{\"gridcolor\":\"white\",\"linecolor\":\"white\",\"ticks\":\"\"}},\"ternary\":{\"bgcolor\":\"#E5ECF6\",\"aaxis\":{\"gridcolor\":\"white\",\"linecolor\":\"white\",\"ticks\":\"\"},\"baxis\":{\"gridcolor\":\"white\",\"linecolor\":\"white\",\"ticks\":\"\"},\"caxis\":{\"gridcolor\":\"white\",\"linecolor\":\"white\",\"ticks\":\"\"}},\"coloraxis\":{\"colorbar\":{\"outlinewidth\":0,\"ticks\":\"\"}},\"colorscale\":{\"sequential\":[[0.0,\"#0d0887\"],[0.1111111111111111,\"#46039f\"],[0.2222222222222222,\"#7201a8\"],[0.3333333333333333,\"#9c179e\"],[0.4444444444444444,\"#bd3786\"],[0.5555555555555556,\"#d8576b\"],[0.6666666666666666,\"#ed7953\"],[0.7777777777777778,\"#fb9f3a\"],[0.8888888888888888,\"#fdca26\"],[1.0,\"#f0f921\"]],\"sequentialminus\":[[0.0,\"#0d0887\"],[0.1111111111111111,\"#46039f\"],[0.2222222222222222,\"#7201a8\"],[0.3333333333333333,\"#9c179e\"],[0.4444444444444444,\"#bd3786\"],[0.5555555555555556,\"#d8576b\"],[0.6666666666666666,\"#ed7953\"],[0.7777777777777778,\"#fb9f3a\"],[0.8888888888888888,\"#fdca26\"],[1.0,\"#f0f921\"]],\"diverging\":[[0,\"#8e0152\"],[0.1,\"#c51b7d\"],[0.2,\"#de77ae\"],[0.3,\"#f1b6da\"],[0.4,\"#fde0ef\"],[0.5,\"#f7f7f7\"],[0.6,\"#e6f5d0\"],[0.7,\"#b8e186\"],[0.8,\"#7fbc41\"],[0.9,\"#4d9221\"],[1,\"#276419\"]]},\"xaxis\":{\"gridcolor\":\"white\",\"linecolor\":\"white\",\"ticks\":\"\",\"title\":{\"standoff\":15},\"zerolinecolor\":\"white\",\"automargin\":true,\"zerolinewidth\":2},\"yaxis\":{\"gridcolor\":\"white\",\"linecolor\":\"white\",\"ticks\":\"\",\"title\":{\"standoff\":15},\"zerolinecolor\":\"white\",\"automargin\":true,\"zerolinewidth\":2},\"scene\":{\"xaxis\":{\"backgroundcolor\":\"#E5ECF6\",\"gridcolor\":\"white\",\"linecolor\":\"white\",\"showbackground\":true,\"ticks\":\"\",\"zerolinecolor\":\"white\",\"gridwidth\":2},\"yaxis\":{\"backgroundcolor\":\"#E5ECF6\",\"gridcolor\":\"white\",\"linecolor\":\"white\",\"showbackground\":true,\"ticks\":\"\",\"zerolinecolor\":\"white\",\"gridwidth\":2},\"zaxis\":{\"backgroundcolor\":\"#E5ECF6\",\"gridcolor\":\"white\",\"linecolor\":\"white\",\"showbackground\":true,\"ticks\":\"\",\"zerolinecolor\":\"white\",\"gridwidth\":2}},\"shapedefaults\":{\"line\":{\"color\":\"#2a3f5f\"}},\"annotationdefaults\":{\"arrowcolor\":\"#2a3f5f\",\"arrowhead\":0,\"arrowwidth\":1},\"geo\":{\"bgcolor\":\"white\",\"landcolor\":\"#E5ECF6\",\"subunitcolor\":\"white\",\"showland\":true,\"showlakes\":true,\"lakecolor\":\"white\"},\"title\":{\"x\":0.05},\"mapbox\":{\"style\":\"light\"}}},\"xaxis\":{\"anchor\":\"y\",\"domain\":[0.0,1.0],\"title\":{\"text\":\"Suburb\"}},\"yaxis\":{\"anchor\":\"x\",\"domain\":[0.0,1.0],\"title\":{\"text\":\"Children per Centre (2040)\"}},\"legend\":{\"tracegroupgap\":0},\"title\":{\"text\":\"Top 10 Suburbs by Children per Centre (2040)\"},\"barmode\":\"relative\"},                        {\"responsive\": true}                    ).then(function(){\n",
       "                            \n",
       "var gd = document.getElementById('3eca6c2f-8f71-4ce3-b94e-2a88f9efa577');\n",
       "var x = new MutationObserver(function (mutations, observer) {{\n",
       "        var display = window.getComputedStyle(gd).display;\n",
       "        if (!display || display === 'none') {{\n",
       "            console.log([gd, 'removed!']);\n",
       "            Plotly.purge(gd);\n",
       "            observer.disconnect();\n",
       "        }}\n",
       "}});\n",
       "\n",
       "// Listen for the removal of the full notebook cells\n",
       "var notebookContainer = gd.closest('#notebook-container');\n",
       "if (notebookContainer) {{\n",
       "    x.observe(notebookContainer, {childList: true});\n",
       "}}\n",
       "\n",
       "// Listen for the clearing of the current output cell\n",
       "var outputEl = gd.closest('.output');\n",
       "if (outputEl) {{\n",
       "    x.observe(outputEl, {childList: true});\n",
       "}}\n",
       "\n",
       "                        })                };                });            </script>        </div>"
      ]
     },
     "metadata": {},
     "output_type": "display_data"
    }
   ],
   "source": [
    "# Merge growth data with childcare centres\n",
    "merged_df = pd.merge(growth_df, centre_counts, on=\"Suburb\", how=\"left\").fillna({\"CentreCount\": 0})\n",
    "merged_df[\"Future_Pressure\"] = merged_df[\"Pop2040\"] / merged_df[\"CentreCount\"].replace(0, pd.NA)\n",
    "\n",
    "# Get top 10 suburbs by future pressure\n",
    "top_pressure = merged_df.sort_values(\"Future_Pressure\", ascending=False).head(10)\n",
    "\n",
    "# Plot bar chart\n",
    "fig2 = px.bar(\n",
    "    top_pressure,\n",
    "    x=\"Suburb\",\n",
    "    y=\"Future_Pressure\",\n",
    "    hover_data=[\"Pop2040\", \"CentreCount\", \"Growth_%\"],\n",
    "    title=\"Top 10 Suburbs by Children per Centre (2040)\",\n",
    "    labels={\"Future_Pressure\": \"Children per Centre (2040)\"},\n",
    "    text=\"CentreCount\"   # add CentreCount as text labels\n",
    ")\n",
    "\n",
    "# Place text labels above bars\n",
    "fig2.update_traces(textposition=\"outside\")\n",
    "\n",
    "# Show figure\n",
    "fig2.show()\n",
    "\n"
   ]
  },
  {
   "cell_type": "markdown",
   "id": "e3aa3747-cb43-49d6-88f7-bf88bfbdfb34",
   "metadata": {},
   "source": [
    "### Insight: Future Pressure on Centres  \n",
    "By 2040, Melbourne CBD faces the highest childcare pressure with over 1,000 children per centre, far exceeding other suburbs and signalling a critical service gap."
   ]
  },
  {
   "cell_type": "markdown",
   "id": "58f185c3-43a8-4339-a755-29565c0c9a17",
   "metadata": {},
   "source": [
    "### Insight 3: Centres per 1000 Children (Geospatial Heatmap)\n",
    "\n",
    "We visualise the childcare centres on a Melbourne map using a **heatmap**.  \n",
    "Each point represents a childcare centre, with colour intensity showing areas of higher concentration.  \n"
   ]
  },
  {
   "cell_type": "code",
   "execution_count": 27,
   "id": "fbd7d131-9709-4272-be24-4a6b28ab04e0",
   "metadata": {},
   "outputs": [
    {
     "data": {
      "text/html": [
       "<div style=\"width:100%;\"><div style=\"position:relative;width:100%;height:0;padding-bottom:60%;\"><span style=\"color:#565656\">Make this Notebook Trusted to load map: File -> Trust Notebook</span><iframe srcdoc=\"&lt;!DOCTYPE html&gt;\n",
       "&lt;html&gt;\n",
       "&lt;head&gt;\n",
       "    \n",
       "    &lt;meta http-equiv=&quot;content-type&quot; content=&quot;text/html; charset=UTF-8&quot; /&gt;\n",
       "    &lt;script src=&quot;https://cdn.jsdelivr.net/npm/leaflet@1.9.3/dist/leaflet.js&quot;&gt;&lt;/script&gt;\n",
       "    &lt;script src=&quot;https://code.jquery.com/jquery-3.7.1.min.js&quot;&gt;&lt;/script&gt;\n",
       "    &lt;script src=&quot;https://cdn.jsdelivr.net/npm/bootstrap@5.2.2/dist/js/bootstrap.bundle.min.js&quot;&gt;&lt;/script&gt;\n",
       "    &lt;script src=&quot;https://cdnjs.cloudflare.com/ajax/libs/Leaflet.awesome-markers/2.0.2/leaflet.awesome-markers.js&quot;&gt;&lt;/script&gt;\n",
       "    &lt;link rel=&quot;stylesheet&quot; href=&quot;https://cdn.jsdelivr.net/npm/leaflet@1.9.3/dist/leaflet.css&quot;/&gt;\n",
       "    &lt;link rel=&quot;stylesheet&quot; href=&quot;https://cdn.jsdelivr.net/npm/bootstrap@5.2.2/dist/css/bootstrap.min.css&quot;/&gt;\n",
       "    &lt;link rel=&quot;stylesheet&quot; href=&quot;https://netdna.bootstrapcdn.com/bootstrap/3.0.0/css/bootstrap-glyphicons.css&quot;/&gt;\n",
       "    &lt;link rel=&quot;stylesheet&quot; href=&quot;https://cdn.jsdelivr.net/npm/@fortawesome/fontawesome-free@6.2.0/css/all.min.css&quot;/&gt;\n",
       "    &lt;link rel=&quot;stylesheet&quot; href=&quot;https://cdnjs.cloudflare.com/ajax/libs/Leaflet.awesome-markers/2.0.2/leaflet.awesome-markers.css&quot;/&gt;\n",
       "    &lt;link rel=&quot;stylesheet&quot; href=&quot;https://cdn.jsdelivr.net/gh/python-visualization/folium/folium/templates/leaflet.awesome.rotate.min.css&quot;/&gt;\n",
       "    \n",
       "            &lt;meta name=&quot;viewport&quot; content=&quot;width=device-width,\n",
       "                initial-scale=1.0, maximum-scale=1.0, user-scalable=no&quot; /&gt;\n",
       "            &lt;style&gt;\n",
       "                #map_455eaa7e3f0988f22f3ce3268b50e7d5 {\n",
       "                    position: relative;\n",
       "                    width: 100.0%;\n",
       "                    height: 100.0%;\n",
       "                    left: 0.0%;\n",
       "                    top: 0.0%;\n",
       "                }\n",
       "                .leaflet-container { font-size: 1rem; }\n",
       "            &lt;/style&gt;\n",
       "\n",
       "            &lt;style&gt;html, body {\n",
       "                width: 100%;\n",
       "                height: 100%;\n",
       "                margin: 0;\n",
       "                padding: 0;\n",
       "            }\n",
       "            &lt;/style&gt;\n",
       "\n",
       "            &lt;style&gt;#map {\n",
       "                position:absolute;\n",
       "                top:0;\n",
       "                bottom:0;\n",
       "                right:0;\n",
       "                left:0;\n",
       "                }\n",
       "            &lt;/style&gt;\n",
       "\n",
       "            &lt;script&gt;\n",
       "                L_NO_TOUCH = false;\n",
       "                L_DISABLE_3D = false;\n",
       "            &lt;/script&gt;\n",
       "\n",
       "        \n",
       "    &lt;script src=&quot;https://cdn.jsdelivr.net/gh/python-visualization/folium@main/folium/templates/leaflet_heat.min.js&quot;&gt;&lt;/script&gt;\n",
       "&lt;/head&gt;\n",
       "&lt;body&gt;\n",
       "    \n",
       "    \n",
       "            &lt;div class=&quot;folium-map&quot; id=&quot;map_455eaa7e3f0988f22f3ce3268b50e7d5&quot; &gt;&lt;/div&gt;\n",
       "        \n",
       "&lt;/body&gt;\n",
       "&lt;script&gt;\n",
       "    \n",
       "    \n",
       "            var map_455eaa7e3f0988f22f3ce3268b50e7d5 = L.map(\n",
       "                &quot;map_455eaa7e3f0988f22f3ce3268b50e7d5&quot;,\n",
       "                {\n",
       "                    center: [-37.8136, 144.9631],\n",
       "                    crs: L.CRS.EPSG3857,\n",
       "                    ...{\n",
       "  &quot;zoom&quot;: 12,\n",
       "  &quot;zoomControl&quot;: true,\n",
       "  &quot;preferCanvas&quot;: false,\n",
       "}\n",
       "\n",
       "                }\n",
       "            );\n",
       "\n",
       "            \n",
       "\n",
       "        \n",
       "    \n",
       "            var tile_layer_83a1b939444badb3644a7ecb9576ad7d = L.tileLayer(\n",
       "                &quot;https://tile.openstreetmap.org/{z}/{x}/{y}.png&quot;,\n",
       "                {\n",
       "  &quot;minZoom&quot;: 0,\n",
       "  &quot;maxZoom&quot;: 19,\n",
       "  &quot;maxNativeZoom&quot;: 19,\n",
       "  &quot;noWrap&quot;: false,\n",
       "  &quot;attribution&quot;: &quot;\\u0026copy; \\u003ca href=\\&quot;https://www.openstreetmap.org/copyright\\&quot;\\u003eOpenStreetMap\\u003c/a\\u003e contributors&quot;,\n",
       "  &quot;subdomains&quot;: &quot;abc&quot;,\n",
       "  &quot;detectRetina&quot;: false,\n",
       "  &quot;tms&quot;: false,\n",
       "  &quot;opacity&quot;: 1,\n",
       "}\n",
       "\n",
       "            );\n",
       "        \n",
       "    \n",
       "            tile_layer_83a1b939444badb3644a7ecb9576ad7d.addTo(map_455eaa7e3f0988f22f3ce3268b50e7d5);\n",
       "        \n",
       "    \n",
       "            var heat_map_e8fde2032b7f9366fdaf215376b90f24 = L.heatLayer(\n",
       "                [[-37.741081, 144.9665673], [-37.8849484, 145.0689241], [-37.8754074, 144.6266529], [-38.2981132, 146.5416019], [-38.1769223, 145.110933], [-37.7123718, 144.5631355], [-37.5462501, 143.780934], [-37.0581576, 146.087982], [-37.5277535, 144.9090862], [-38.0090214, 145.2919016], [-37.7671671, 144.9490229], [-38.076057, 145.2878915], [-37.7905976, 144.5473224], [-38.1565785, 144.3585678], [-37.5280657, 144.9072032], [-38.1786268, 144.5602437], [-37.8841091, 145.3349964], [-37.7737262, 144.8023253], [-37.4237818, 143.8911368], [-38.0313226, 145.2893199], [-37.8229386, 144.9663883], [-37.5898892, 143.8042098], [-38.0730215, 145.2533383], [-37.4188503, 144.974424], [-38.3721668, 145.1288332], [-37.8614156, 145.2543757], [-38.1305725, 145.3660972], [-37.8298521, 145.0794929], [-37.8113379, 145.0818441], [-38.356589, 144.9066635], [-37.7148558, 144.9438175], [-38.1615939, 145.2051566], [-38.2038287, 145.7579044], [-38.4303991, 145.4888435], [-36.6976575, 142.2046131], [-38.050592, 145.3386394], [-38.0048568, 145.1623983], [-37.6715175, 144.936011], [-37.7670959, 144.8877149], [-37.8853455, 144.5958334], [-38.1364725, 145.8577839], [-38.1083335, 145.3842345], [-37.9647716, 145.0191201], [-37.768967, 145.6476071], [-37.5993921, 145.0811973], [-37.8176456, 145.2131553], [-36.7709831, 143.828273], [-37.8782077, 144.6912955], [-36.3299321, 141.6606237], [-37.5421242, 144.8937269], [-37.6009603, 144.2283766], [-38.1547498, 145.1360353], [-37.2022277, 145.0468427], [-37.9280278, 145.0494636], [-37.8334711, 145.173407], [-37.850986, 145.0240485], [-36.7811633, 145.1538124], [-36.38189, 145.4135094], [-37.8010882, 145.3204984], [-37.520845, 144.9556966], [-37.9487916, 145.1928968], [-37.7412542, 145.0637545], [-37.6065878, 145.0676939], [-38.1062032, 145.3787362], [-38.2225187, 145.04204], [-37.7119777, 144.9193044], [-36.254093, 144.9484925], [-38.1129864, 145.1590164], [-37.8820628, 145.004615], [-37.6889896, 144.411872], [-37.7528123, 144.9088365], [-37.6104863, 145.0268656], [-37.7813397, 145.1545968], [-37.9152886, 145.2395119], [-37.7127615, 145.0813638], [-38.0897226, 145.3427366], [-38.0745649, 145.2735858], [-37.9783948, 145.3187464], [-37.7662144, 144.8619329], [-37.7864048, 144.8934004], [-37.8114203, 145.0002676], [-37.6739032, 145.1512368], [-37.8896426, 145.2492831], [-38.0011366, 145.0968816], [-38.1827946, 146.2954014], [-38.1702216, 145.1879318], [-37.743996, 145.0043358], [-37.9070559, 144.6574604], [-37.4614255, 144.5830858], [-37.8011742, 145.1088377], [-37.690697, 144.7300159], [-38.145487, 144.3278367], [-37.5710818, 144.9071024], [-37.79233, 144.7719924], [-37.6930411, 144.7601584], [-38.1036924, 145.2772415], [-37.7023494, 144.9558524], [-38.3567999, 142.5027323], [-38.1035139, 145.1864314], [-38.1879655, 144.3286728], [-37.9638551, 145.2047099], [-38.1751757, 144.3497195], [-37.9624235, 145.0186134], [-37.9827171, 145.0677152], [-37.8489056, 144.9793697], [-38.179699, 144.3430699], [-37.8728466, 145.0558766], [-37.8563768, 145.0362598], [-37.9817797, 145.123515], [-37.9698557, 145.0197036], [-37.870123, 144.7110832], [-38.0456331, 145.3638681], [-37.9953086, 145.1441429], [-37.9876143, 145.0620765], [-38.0357626, 145.3480625], [-37.8408179, 144.9553728], [-38.1737007, 145.0920712], [-37.8393246, 145.0091742], [-37.9789832, 145.321487], [-38.0586306, 145.3457218], [-38.0394549, 145.2677696], [-37.9865858, 145.1299226], [-38.0042881, 145.304142], [-37.9846905, 145.2167528], [-37.8482391, 145.0134331], [-37.9852221, 145.03668], [-37.8805792, 145.0816127], [-38.1449859, 144.3570466], [-37.8949507, 145.0296668], [-38.3679775, 144.9941392], [-38.3418173, 144.9601016], [-38.1872883, 145.0764756], [-37.9025309, 145.0159404], [-38.2538783, 145.122295], [-38.3761006, 145.1227773], [-38.0203483, 145.1003237], [-38.2049466, 145.2525635], [-38.3423085, 143.5855096], [-37.6759577, 144.8960463], [-37.1170228, 144.8578049], [-38.0057555, 145.0884295], [-38.0492266, 145.3329815], [-37.708491, 144.8199661], [-37.856744, 144.6883675], [-37.7056221, 145.0216783], [-38.1313416, 144.3443364], [-34.3109928, 142.1813416], [-37.8286156, 144.8812661], [-37.8697298, 144.9892591], [-38.0620895, 145.3482768], [-38.0440834, 145.1395894], [-37.9645219, 145.065362], [-37.9193978, 145.0267214], [-37.7414401, 144.9097445], [-37.7779549, 145.0582594], [-36.7441255, 144.2105735], [-37.7032341, 145.0999797], [-37.8659822, 145.1326381], [-37.7211071, 145.1014931], [-37.670468, 144.58699], [-37.8260347, 145.0334642], [-37.6820187, 145.1186254], [-37.4878507, 145.298435], [-38.1677392, 145.1576606], [-38.1378691, 145.1526138], [-37.7014263, 145.1926276], [-36.8039442, 144.3608238], [-38.6922439, 146.0822651], [-36.7716164, 144.2762945], [-38.6652966, 146.4364845], [-37.6735451, 145.1650588], [-37.9067079, 145.0334349], [-38.0853776, 145.3642563], [-37.9416008, 145.056684], [-37.8286917, 144.9990024], [-36.7402497, 147.1734482], [-36.7525441, 144.2861505], [-36.7699933, 144.3100691], [-36.8049232, 144.3532954], [-36.7273951, 144.3042169], [-37.9130755, 145.3256514], [-37.779993, 145.2151747], [-37.4619541, 144.5954534], [-37.6708377, 145.1477217], [-38.0260765, 144.3909484], [-37.9314513, 145.234829], [-38.3797087, 142.4845281], [-37.7160984, 145.1268929], [-37.7049908, 144.9098374], [-37.7486989, 144.9890204], [-37.844724, 145.2957405], [-37.6902608, 145.2136135], [-37.6088371, 144.9357824], [-37.9906206, 145.0655676], [-37.5540207, 143.8020527], [-38.2762562, 145.01504], [-37.9027071, 145.0403797], [-37.7699593, 145.0997198], [-37.8107591, 145.1257016], [-38.070922, 145.4110664], [-37.8436309, 144.8694481], [-37.8118115, 144.8770448], [-37.8886429, 145.02594], [-37.8206415, 145.1492343], [-37.8437895, 144.6395492], [-37.7233161, 144.7497961], [-37.7936803, 145.2433477], [-37.6800426, 144.5683111], [-37.7810015, 144.8714021], [-37.864785, 144.6109035], [-37.7842491, 144.892846], [-38.0499507, 145.3315994], [-37.888787, 145.0356757], [-37.649986, 145.077859], [-37.9178148, 144.6394289], [-37.841529, 145.1713103], [-37.6662686, 144.4156202], [-37.7556852, 144.7741406], [-38.233176, 143.1461174], [-38.0614599, 145.4952289], [-37.9821939, 145.2050593], [-37.9679553, 145.2123589], [-37.9607451, 145.2067531], [-37.3427946, 144.1354852], [-37.3423505, 144.1380118], [-36.2484496, 144.9507309], [-37.703657, 145.1262246], [-37.7039496, 145.0635048], [-37.7032465, 145.0943988], [-37.6968405, 145.0718463], [-37.6724621, 145.1493731], [-37.695424, 145.1050906], [-37.7131638, 145.102972], [-37.6995262, 145.1128348], [-37.6995262, 145.1128348], [-37.6975593, 145.0852031], [-37.7082716, 145.084038], [-37.6981731, 145.1440112], [-37.6397293, 145.1364606], [-37.7164965, 145.0925983], [-37.6924789, 145.1253276], [-37.6868791, 145.1145177], [-37.6843021, 145.1386084], [-37.70151, 145.1075262], [-37.6737635, 145.1536541], [-36.1431015, 141.9886329], [-37.7652813, 145.090618], [-37.77781, 145.1030984], [-37.7823188, 145.1134799], [-37.7946599, 145.1541401], [-37.7881525, 145.160041], [-37.7905188, 145.1710023], [-37.7796647, 145.1741411], [-37.8001957, 145.1811566], [-37.7852088, 145.2043652], [-37.7565276, 145.1241041], [-37.7559722, 145.1325057], [-37.7705103, 145.1406251], [-37.7693631, 145.1227914], [-37.7661905, 145.1148767], [-37.7451653, 145.2083922], [-37.7707698, 145.0882651], [-37.7605995, 145.1090454], [-37.779002, 145.0892308], [-37.7607108, 145.1672745], [-37.7599715, 145.1799246], [-37.7945748, 145.1611557], [-37.7818385, 145.1322446], [-37.7754382, 145.0939087], [-37.7422772, 145.2304753], [-37.7607108, 145.1672745], [-37.772439, 145.1856673], [-37.7956917, 145.1777633], [-37.7559813, 145.092562], [-37.7898801, 145.1527242], [-36.4617346, 142.5851789], [-36.6322405, 142.6319687], [-36.7257772, 144.2533171], [-36.1271119, 144.7460482], [-36.1302206, 144.7628358], [-37.7150906, 145.1471164], [-37.7265565, 145.1121141], [-37.6407237, 145.2399861], [-37.7031595, 145.1819416], [-37.7014263, 145.1926276], [-37.7187143, 145.158516], [-37.7134424, 145.133372], [-37.6378907, 145.1926967], [-37.7081687, 145.1675195], [-37.7032393, 145.1627272], [-37.7166048, 145.1457286], [-37.7081687, 145.1675195], [-37.7139211, 145.1371876], [-37.7315644, 145.1326615], [-37.7771391, 144.9235016], [-37.7569079, 144.8964289], [-37.7570518, 144.9019911], [-37.753414, 144.9219564], [-37.7347517, 144.9236163], [-37.7192078, 144.9076858], [-37.7392819, 144.9176047], [-37.7550009, 144.9318814], [-37.7790977, 144.9195058], [-37.7347517, 144.9236163], [-37.75589, 144.9324555], [-37.7414622, 144.9063837], [-37.7879805, 144.9284025], [-36.7522401, 145.5730897], [-37.7778737, 144.986038], [-37.7861242, 144.9792774], [-37.7822561, 144.9904796], [-37.8006029, 144.9761007], [-37.8794518, 145.2824644], [-37.5897135, 143.8132409], [-37.9131666, 145.1028127], [-37.8441951, 145.1764729], [-37.9425157, 145.1355575], [-37.5661648, 143.8856755], [-35.9243249, 145.6507699], [-37.9253745, 145.0921933], [-37.9627012, 146.9775002], [-37.9703892, 145.1704821], [-36.0249913, 146.0123127], [-36.1477397, 146.6105057], [-37.681256, 144.9989066], [-38.416968, 145.4302774], [-37.6231477, 144.7057378], [-38.166597, 144.3936254], [-37.4070298, 144.9784825], [-38.4005713, 146.150418], [-37.7375284, 144.9999792], [-38.3029052, 144.3324432], [-38.1207257, 145.2956756], [-38.4561878, 145.2553812], [-37.7909105, 144.9410528], [-36.7118842, 144.2782633], [-38.0150012, 144.3908392], [-38.086105, 145.3185491], [-37.9484523, 145.0407977], [-36.7048956, 144.3141938], [-37.9325685, 145.0330584], [-37.7448729, 144.7524114], [-37.5146875, 143.708768], [-37.7580968, 145.0098468], [-37.7909555, 144.5492826], [-37.9058967, 145.0660212], [-37.6214369, 145.0247973], [-37.7612201, 145.3445217], [-37.8137174, 145.038613], [-37.5996753, 145.0745777], [-37.7059969, 144.5657037], [-37.8123102, 144.9912718], [-37.8609123, 145.2383479], [-37.5430364, 143.8530857], [-37.8535439, 145.1664117], [-37.8075255, 145.0379436], [-37.6832055, 144.4322351], [-36.711554, 142.2014791], [-37.8092371, 145.1526391], [-37.8961311, 144.7204876], [-37.7449844, 145.0000195], [-37.8556726, 145.179038], [-38.0765942, 145.247844], [-37.5735629, 144.8922059], [-37.8172118, 145.2513015], [-37.7259306, 145.116852], [-37.8616196, 145.0525211], [-37.8335164, 144.6503315], [-37.8362598, 145.1851453], [-37.7994412, 144.9811554], [-38.2355257, 144.3725077], [-37.8937594, 145.1636378], [-37.8313098, 145.1737783], [-37.7422174, 144.8139911], [-38.0290344, 144.4136141], [-37.805883, 144.8997378], [-37.9284801, 145.0076352], [-37.890465, 144.7629416], [-37.9904973, 145.0908843], [-38.0944837, 145.1742011], [-36.8045058, 144.356538], [-37.8653136, 144.904049], [-38.0605292, 145.4441557], [-37.885641, 145.2945984], [-38.0260305, 144.3872731], [-37.6349397, 145.1336209], [-37.7048822, 144.5747127], [-36.3938004, 145.4106382], [-36.5501546, 145.9855137], [-36.370943, 144.1498688], [-37.8058947, 145.0134005], [-37.7242991, 142.8342457], [-37.7978919, 144.9928151], [-37.2349539, 145.9069927], [-37.7101029, 144.792124], [-38.2201993, 145.0636499], [-38.1266073, 144.3397222], [-37.6702708, 145.1543415], [-38.0147106, 145.321753], [-38.0411157, 145.2529658], [-38.1814918, 146.5193478], [-38.0014316, 145.1444463], [-37.0607634, 146.0839344], [-37.8469041, 144.9819637], [-37.7287619, 142.0351194], [-37.9698443, 145.1506372], [-38.5244779, 145.3720415], [-37.718679, 144.9286184], [-37.9015507, 145.1965543], [-37.8870698, 144.6816203], [-36.1128245, 146.8620186], [-37.8585611, 144.7278207], [-37.8913446, 145.0003158], [-38.2394214, 146.3873986], [-37.8774408, 145.0435147], [-37.9284801, 145.0076352], [-38.0500989, 144.1724734], [-37.3036985, 144.9522364], [-37.7464826, 144.7386534], [-37.5762936, 144.9278033], [-38.3538274, 143.5909696], [-38.0782458, 144.3555654], [-38.0480149, 145.3342483], [-38.2638573, 144.2797554], [-37.73997, 145.2689796], [-38.0313548, 144.3977209], [-37.9237622, 145.1665965], [-37.5987502, 144.2235779], [-36.7260917, 142.2077295], [-38.2923628, 142.3623302], [-36.129871, 146.8697395], [-37.561987, 144.7156658], [-37.8785008, 145.0096659], [-38.0384347, 145.3971379], [-37.5407377, 143.8641161], [-37.6581773, 144.4315226], [-37.6707193, 145.0209574], [-37.0012311, 145.0332133], [-37.8663309, 144.7685904], [-36.0131804, 146.0149643], [-38.0456689, 145.3690935], [-36.1133782, 146.865672], [-37.8406579, 145.0485176], [-37.9640671, 146.9704498], [-37.4138509, 144.9734508], [-37.8413663, 144.6952738], [-37.8768015, 144.6146416], [-37.8614229, 144.6715471], [-38.0399619, 145.3595093], [-37.8958262, 144.7474898], [-37.7976431, 144.8079044], [-37.0016289, 145.0332139], [-37.8758068, 147.9948734], [-38.1745658, 146.2587517], [-38.5984673, 145.5927704], [-36.4020104, 145.4105999], [-37.8808759, 145.0288778], [-37.8701265, 145.0044023], [-37.781513, 145.1106944], [-37.9344973, 145.0703543], [-37.6933686, 144.7437407], [-37.7379726, 144.7804502], [-37.2535799, 141.7363178], [-37.9467368, 145.0783793], [-36.6362967, 145.7185451], [-37.8667478, 145.0924457], [-38.1143876, 145.1943464], [-37.7331833, 144.8191035], [-38.2467617, 145.0486943], [-38.1060912, 142.3196162], [-37.7249217, 144.8812129], [-37.6763141, 145.1344761], [-37.7425195, 142.0375989], [-36.3106976, 145.0437716], [-37.055634, 142.7700984], [-37.9668585, 145.1742344], [-38.1544696, 146.7882476], [-38.6099926, 145.5976847], [-37.6618712, 144.9326222], [-37.0228385, 145.1406777], [-37.0823876, 144.26111], [-37.8329125, 144.7202863], [-38.2066478, 146.1517463], [-38.4643392, 145.2425725], [-37.6790371, 144.9122297], [-37.83429, 144.6412434], [-36.4381681, 145.2248164], [-37.6792633, 144.5912327], [-37.7878123, 145.1105119], [-38.0960418, 147.0883701], [-35.9644292, 147.731978], [-37.4147452, 144.9764935], [-37.7025881, 145.0980926], [-38.2657665, 145.561222], [-37.5715336, 144.8964357], [-37.5802063, 144.7232475], [-37.8948961, 144.7375554], [-37.8427187, 145.0983432], [-37.7388424, 144.6634737], [-38.1936844, 144.4543417], [-37.7129223, 145.0488083], [-37.8659059, 144.9998867], [-37.5958203, 145.000241], [-38.1505762, 145.1894031], [-38.3213926, 144.3108205], [-37.7161283, 144.9645607], [-37.5946138, 145.0913264], [-37.0906888, 143.4693741], [-37.6291485, 145.0274763], [-38.0502681, 145.4071188], [-37.962575, 145.1917033], [-37.9013469, 144.6640838], [-37.8979165, 144.9973808], [-38.2573524, 145.0400361], [-37.7488647, 144.7812658], [-38.1460972, 145.122045], [-37.7853422, 145.3359522], [-38.226505, 145.058613], [-37.6862684, 144.4284425], [-38.1966393, 146.5406506], [-38.063711, 145.496604], [-37.8069857, 145.32208], [-38.1548002, 145.1918128], [-37.7786902, 145.6054105], [-37.7937511, 144.927371], [-37.5804318, 144.0901299], [-38.3186059, 144.2959083], [-38.1520995, 144.3544169], [-37.6597178, 144.9184353], [-38.5597933, 145.5459548], [-37.737634, 144.6559158], [-36.7073419, 144.2389851], [-37.7914188, 144.8298665], [-37.6991862, 144.9730077], [-36.6225746, 142.4755848], [-38.1701593, 145.1215677], [-36.1624547, 146.8797248], [-38.1442536, 145.9399334], [-37.745379, 144.763209], [-38.0236428, 145.3007947], [-38.2994309, 142.812289], [-34.2272012, 142.1906993], [-37.7423845, 145.2147247], [-37.6161252, 145.0371709], [-38.2279823, 144.3549542], [-37.9903619, 145.237084], [-36.3629515, 144.6998444], [-35.9575942, 144.368758], [-36.2687681, 144.5377179], [-36.3656533, 145.1319721], [-36.3914599, 145.359849], [-36.3685044, 145.3428316], [-37.4621099, 144.6755472], [-37.4637432, 144.6760927], [-38.1619341, 147.0866487], [-36.6143316, 143.2580973], [-37.8665771, 144.9933819], [-37.8717892, 144.9977886], [-37.8629182, 144.9882231], [-37.8736569, 144.9873587], [-37.8627727, 144.9763731], [-37.8585239, 144.9895342], [-37.8572438, 144.9833586], [-37.8655034, 144.9959124], [-38.1005746, 147.0738078], [-38.102147, 147.0723586], [-38.0931311, 147.074402], [-38.0947654, 147.0795143], [-37.9783461, 145.03107], [-37.9907715, 145.0394651], [-37.9720852, 145.0166238], [-37.9410072, 145.0117657], [-37.9330966, 145.0130973], [-37.9389101, 145.0036825], [-37.9487829, 145.0185289], [-37.9584905, 145.0157506], [-37.9533226, 145.0187311], [-37.5877948, 143.8377779], [-37.0257275, 145.141683], [-36.9015029, 145.2378861], [-36.3631647, 145.3938502], [-36.3670029, 145.3975307], [-36.4049924, 145.4015515], [-36.3669965, 145.4059264], [-36.3785656, 145.4031725], [-36.3763269, 145.4015164], [-36.4011571, 145.3951039], [-37.9107581, 145.3549706], [-37.9281627, 145.356792], [-37.932171, 145.4430232], [-37.8856022, 145.3735528], [-37.9068865, 145.3439162], [-37.8732029, 145.4052194], [-37.9209768, 145.4066422], [-37.9139237, 145.3702064], [-37.8937021, 145.4042151], [-37.9128998, 145.3266475], [-38.1720857, 144.3165676], [-38.1852308, 144.3412514], [-38.1742793, 144.3415312], [-38.2108813, 144.3145774], [-38.1719178, 144.2968139], [-38.2083363, 144.339368], [-38.1981647, 144.335003], [-38.1882973, 144.3264471], [-38.1892695, 144.3236149], [-38.1848341, 144.325617], [-38.1931068, 144.3154468], [-37.8497738, 144.9618362], [-37.8484217, 144.9571916], [-37.8329002, 144.96167], [-37.834433, 144.9663162], [-37.8412956, 144.9572441], [-37.8368713, 144.9620511], [-37.8327192, 144.9564255], [-38.0430865, 145.1337094], [-37.9848728, 145.1287958], [-37.9535063, 145.1768557], [-37.9586547, 145.1440991], [-37.9810136, 145.1554643], [-38.078473, 145.1454113], [-37.9657003, 145.1690314], [-37.9610369, 145.1809785], [-37.976939, 145.1663052], [-37.9346127, 145.1492182], [-37.9929914, 145.1608864], [-38.0231793, 145.1184361], [-38.071651, 145.1495651], [-38.0292076, 145.1287619], [-37.9622513, 145.1509415], [-37.9659565, 145.1494315], [-37.0648618, 142.769697], [-37.064005, 142.7727797], [-36.772669, 144.3083987], [-37.7306039, 145.0857873], [-38.1305265, 144.3429626], [-36.7519455, 144.294279], [-38.0963294, 145.7193727], [-38.2694317, 145.0114971], [-37.7897291, 145.4362473], [-37.6659249, 144.9320881], [-37.7546999, 145.0148397], [-38.3746066, 142.4750294], [-37.5305857, 144.9047996], [-37.7465194, 145.0580082], [-38.3423674, 145.768313], [-38.1390155, 145.946966], [-36.3797813, 145.346645], [-37.9133091, 145.0550028], [-37.8246886, 145.1135182], [-37.57764, 144.7109758], [-37.598178, 144.9356606], [-37.8556745, 144.6469789], [-37.8156049, 147.6276449], [-37.8290886, 144.7251021], [-38.1316381, 145.3262368], [-38.1548033, 146.7737623], [-37.7488918, 145.0332921], [-38.3404764, 143.7863731], [-37.782145, 144.8048093], [-38.069247, 145.4031376], [-38.1163504, 145.3161528], [-37.867194, 145.1078165], [-37.5988466, 144.9312717], [-37.8160383, 145.0522949], [-38.1688404, 144.5738165], [-37.5950532, 144.9048012], [-38.1999224, 144.3283244], [-37.8928862, 145.0218762], [-37.8843073, 145.0057443], [-37.4907698, 145.3224126], [-38.0694378, 145.4745019], [-37.7070755, 145.0639159], [-37.7607695, 145.0156249], [-37.5801584, 144.7368315], [-37.6749377, 144.8885588], [-37.5095603, 145.1166184], [-37.8363842, 145.1946538], [-37.8758425, 145.4095341], [-37.5861447, 143.7263921], [-37.6776907, 145.0009489], [-37.8884759, 145.140306], [-37.9036351, 145.3334088], [-38.1057712, 145.304683], [-37.9175853, 145.1913875], [-37.7748503, 145.0369146], [-37.861202, 144.8998238], [-37.8958674, 145.1056201], [-37.7978781, 145.2399756], [-37.8947809, 145.0887812], [-37.9238653, 145.2368058], [-37.6564843, 145.5165822], [-37.7410897, 144.9660102], [-37.8313434, 145.1256338], [-37.8196091, 145.0911112], [-37.7876896, 145.3396138], [-37.6129052, 145.1395585], [-37.8287748, 145.2058174], [-38.0744372, 145.2538205], [-37.9015507, 145.1965543], [-37.7726369, 144.9956015], [-37.6055601, 145.488711], [-37.8164748, 145.2320161], [-37.7404297, 144.9035833], [-37.8022208, 145.2198423], [-37.3590026, 144.7492023], [-37.2771569, 144.7403233], [-38.2583212, 143.5249801], [-37.8026331, 145.0333886], [-37.8524788, 144.9996315], [-37.7728171, 145.382662], [-37.7300942, 145.0180329], [-37.8973958, 145.1084757], [-37.7298156, 144.9854531], [-37.7816494, 145.2562046], [-37.8276371, 145.2955155], [-37.8178234, 144.8784848], [-37.8155856, 145.2591763], [-37.8404791, 145.1482912], [-37.6723224, 145.1591405], [-38.138726, 144.3465361], [-37.8566491, 145.2165224], [-37.7873986, 145.3158567], [-38.1766055, 144.3199399], [-37.6815991, 144.5861589], [-37.6909482, 144.7446485], [-37.4207636, 143.8863107], [-37.9049013, 145.1764777], [-37.7397175, 144.8921608], [-38.1607886, 144.5547612], [-37.7688336, 144.9960124], [-37.8187454, 145.083929], [-37.5996312, 145.2753155], [-37.7632995, 145.0089284], [-38.3226803, 144.3125627], [-38.3864783, 142.2287951], [-37.7668505, 145.0469317], [-37.5149321, 145.1136141], [-37.7108742, 145.0073086], [-36.3066137, 146.847111], [-37.7821527, 145.5708853], [-37.8830709, 145.2517125], [-37.7607131, 145.1098755], [-37.8668672, 145.0850838], [-38.2417236, 144.1768294], [-37.7025524, 145.0930957], [-37.8645441, 144.7010929], [-37.7623003, 144.9429175], [-37.821437, 145.1727358], [-37.8576159, 145.2952627], [-38.0727099, 145.4768663], [-38.197192, 144.3483045], [-38.1075537, 145.32068], [-37.5401255, 143.8600692], [-38.0624737, 145.4328328], [-37.7969199, 145.3601868], [-37.9517502, 145.1494606], [-37.988059, 145.2447533], [-37.8951023, 145.2638381], [-37.8431296, 144.7249163], [-37.1869591, 144.3872239], [-38.115678, 145.1806027], [-37.8602616, 145.0205767], [-36.1404137, 144.7405352], [-38.1351047, 145.8425316], [-37.7062845, 144.5613326], [-37.6575246, 145.0803884], [-37.5815356, 144.8952675], [-37.6020297, 144.9039982], [-37.8947982, 144.6226525], [-37.803247, 145.1350547], [-37.7783307, 144.99751], [-37.9039572, 145.134936], [-37.9405388, 145.1519827], [-37.6656918, 144.9915313], [-36.8877616, 147.0652872], [-38.1982109, 144.341427], [-38.2399951, 144.3509563], [-37.7341849, 145.0355843], [-37.7384412, 144.8947895], [-38.1327047, 145.8606256], [-37.7676992, 144.9928251], [-37.7557635, 144.9836469], [-37.7614843, 145.0110645], [-37.7537003, 145.0111977], [-37.7611596, 144.9924812], [-37.780755, 145.0341112], [-37.7591374, 145.0027721], [-37.7721332, 145.0242859], [-37.7685078, 145.0143709], [-37.7750668, 145.0259903], [-36.0910342, 145.4436387], [-37.8099651, 145.1461717], [-37.808858, 145.1416576], [-37.8169145, 145.1533122], [-37.8037959, 145.1481318], [-37.812927, 145.1580905], [-37.8372554, 145.142148], [-37.8516765, 145.1437164], [-37.8505347, 145.1501738], [-37.8433942, 145.1763573], [-37.8095839, 145.1935082], [-37.8203929, 145.2085633], [-37.8208899, 145.1986437], [-37.8353478, 145.2096697], [-37.8591521, 145.1726287], [-37.8130127, 145.1576073], [-37.8541409, 145.2011896], [-37.8220734, 145.1550013], [-37.8234665, 145.1919583], [-37.8170275, 145.2056397], [-37.842984, 145.1921936], [-37.8140269, 145.1763771], [-37.9100258, 145.1209217], [-37.8971678, 145.0777404], [-37.9126695, 145.102923], [-37.8980994, 145.1137553], [-37.9129138, 145.0854661], [-37.9197255, 145.1260232], [-37.9073366, 145.0768423], [-37.9076275, 145.1329319], [-37.9149271, 145.1268692], [-37.70704, 148.4563672], [-38.7541154, 143.6622383], [-38.6806739, 143.3919549], [-36.5058681, 146.5872553], [-36.5748023, 146.3791181], [-36.7642537, 146.4148745], [-38.3459758, 141.5997645], [-38.3621529, 141.6134633], [-38.1308389, 141.6262722], [-37.9205817, 141.2790966], [-37.838468, 144.9199703], [-37.8436767, 144.9931352], [-37.8456186, 145.0097756], [-37.8422504, 145.0196633], [-37.8532354, 145.0137481], [-37.8380536, 145.0219468], [-37.860414, 144.9838806], [-37.8495729, 144.9969772], [-37.8393246, 145.0091742], [-37.7315105, 145.0313754], [-37.7004873, 144.9980218], [-37.7176767, 145.0442163], [-37.7040542, 145.0064386], [-37.741809, 145.017576], [-37.7200247, 145.0082648], [-37.7141039, 145.006143], [-37.7164181, 145.004549], [-37.7404995, 145.0067699], [-37.741509, 144.9978584], [-37.7352143, 145.0212212], [-37.1239067, 144.8581654], [-38.2659092, 144.656894], [-38.2692019, 144.6195521], [-37.8207571, 145.0049412], [-37.8197345, 144.9934603], [-37.8150246, 145.0129196], [-37.822573, 145.005633], [-37.8145889, 144.9975078], [-37.8203721, 145.0019325], [-37.8173502, 145.001475], [-37.8298507, 145.2543442], [-37.8065474, 145.2177918], [-37.7957253, 145.2264336], [-37.8163053, 145.2304849], [-37.8030463, 145.2587625], [-37.785702, 145.2403593], [-37.8047584, 145.253477], [-37.8265146, 145.256884], [-37.8146246, 145.2498454], [-37.8321221, 145.223829], [-37.7715308, 144.8313263], [-37.9278664, 145.2356775], [-37.8601103, 144.6570348], [-37.7234945, 145.1416621], [-37.8954076, 145.3031076], [-37.7681121, 145.0903356], [-37.8212355, 144.6925902], [-37.9011387, 145.0071825], [-37.5523105, 143.8121874], [-36.2662818, 144.5370848], [-37.7122427, 145.0824059], [-37.966904, 145.1602425], [-37.7355104, 144.7399154], [-37.8681991, 145.2229026], [-37.8440612, 145.258568], [-38.0974859, 145.3322932], [-37.8320907, 145.2400293], [-37.4844578, 143.8030579], [-36.0125466, 146.0280823], [-37.9342252, 145.1552672], [-38.1116984, 145.1948429], [-37.7538158, 145.3533477], [-38.1565142, 144.3428361], [-37.5851614, 144.728715], [-37.8618701, 145.0548529], [-37.853868, 144.659644], [-38.1972976, 144.3473634], [-37.9070268, 145.1421773], [-36.7942073, 144.2445429], [-37.4710912, 144.9570787], [-36.3725489, 146.3210743], [-36.7227207, 144.2201417], [-37.8341811, 145.1688518], [-37.8390236, 144.734145], [-37.8875409, 144.6100765], [-37.7161171, 144.9996199], [-37.8119027, 144.8899511], [-37.7983071, 144.8879123], [-37.6086018, 143.873238], [-37.6662837, 144.5531508], [-37.8485649, 144.0765566], [-37.6729928, 144.9295378], [-37.8520986, 145.0301538], [-37.7892268, 144.8294121], [-37.9182562, 145.1867223], [-38.0684632, 144.3756522], [-38.16482, 144.5787269], [-37.8294107, 144.8828224], [-38.1382745, 145.3073487], [-37.8667306, 144.9050657], [-36.3927094, 145.4102388], [-37.8422961, 144.878694], [-37.8274514, 145.0314228], [-36.4693575, 147.0148745], [-38.1622227, 145.1472282], [-37.8396686, 144.678009], [-37.7200983, 145.0225143], [-38.2096747, 146.0602251], [-37.7445407, 144.7704652], [-37.8298304, 147.6280756], [-38.0736336, 145.4376541], [-37.7155191, 144.9358808], [-37.7822767, 144.9994913], [-37.9906206, 145.0655676], [-37.7264709, 144.7575517], [-37.779945, 145.0251549], [-37.5536751, 143.7978033], [-37.9128456, 145.2356904], [-37.4413207, 144.7037312], [-37.9331381, 145.2416831], [-38.026194, 145.1318317], [-37.8671943, 144.8237716], [-37.8280495, 147.6200839], [-38.3677318, 144.9072434], [-37.6302109, 144.9346193], [-37.8313784, 145.3019615], [-37.9858226, 145.0357496], [-37.821944, 144.9989596], [-37.926301, 145.3528698], [-37.7926464, 145.2347998], [-36.7587994, 144.2885724], [-37.6996586, 145.0312894], [-37.9111294, 145.2719897], [-38.0491032, 145.341569], [-37.7433526, 145.0837752], [-37.8883652, 144.7440917], [-37.8804832, 144.7440159], [-37.7296032, 144.938653], [-37.7291337, 144.9389904], [-37.8315509, 145.1363057], [-38.0479529, 145.2969524], [-37.7852195, 144.8560564], [-37.7303091, 145.0020784], [-37.8627704, 145.2959108], [-37.8848605, 144.7321688], [-38.3611041, 141.6138157], [-37.9023206, 144.9982582], [-38.052502, 145.2563325], [-38.1396996, 145.2147868], [-37.6996134, 145.0580861], [-38.0232242, 144.4171912], [-37.7052936, 145.053335], [-37.9116277, 145.1022556], [-36.7721553, 144.290684], [-37.7473496, 144.7482686], [-37.8933072, 145.0923302], [-38.0428557, 145.3189598], [-37.830283, 145.1356129], [-38.0533722, 145.3011298], [-38.0915568, 145.1795722], [-38.0295575, 145.1308179], [-38.1443584, 144.3271051], [-36.0885237, 145.43218], [-37.9616118, 145.0574392], [-37.5952339, 144.9206308], [-37.5433942, 143.8498339], [-37.469681, 144.5960507], [-37.7723636, 145.0464368], [-37.8131194, 145.2693703], [-37.8672265, 145.2150328], [-37.8013035, 145.3022048], [-37.2454247, 144.4575135], [-37.7856137, 145.000801], [-36.7986169, 144.2453325], [-38.1140825, 145.1883071], [-37.7322499, 144.82321], [-38.1015059, 145.1921763], [-37.9760342, 145.2704618], [-37.8559071, 144.6748982], [-37.8762103, 144.6756348], [-37.8757335, 144.6686665], [-37.8569718, 144.7049149], [-38.0318783, 145.2640032], [-37.968659, 145.2021085], [-37.7469449, 145.0622864], [-37.5899568, 143.8091657], [-37.700883, 144.742307], [-37.7707187, 145.1709413], [-37.7925266, 144.7617806], [-37.770766, 144.7752335], [-38.1398279, 145.8548243], [-37.7912403, 145.1749999], [-38.1657734, 145.1368353], [-38.1828334, 145.1517344], [-38.1682315, 144.5670591], [-36.7560497, 145.5642339], [-37.8381253, 145.1749325], [-37.8757174, 144.9882165], [-37.8794609, 145.2657977], [-37.6481706, 145.026217], [-37.7867587, 144.9193668], [-36.773528, 144.2486169], [-36.150974, 144.7311858], [-37.7278339, 145.146396], [-37.7358597, 144.8034803], [-37.883044, 145.1777526], [-37.836404, 145.146977], [-37.9271064, 145.0621252], [-37.276128, 142.9320617], [-37.9227904, 144.6282954], [-37.9115182, 145.0017849], [-38.103912, 144.3219415], [-37.8723682, 144.743131], [-37.78891, 144.799327], [-37.6223593, 145.0055818], [-38.0898832, 145.6738689], [-37.7152026, 144.9739608], [-38.1324972, 145.3275273], [-37.5814376, 144.7055936], [-37.9670095, 145.1485387], [-38.1485016, 145.2916026], [-37.6241063, 144.8790711], [-37.9690652, 144.1351777], [-37.850001, 144.7219171], [-37.8501093, 144.8950139], [-37.741391, 145.0397968], [-37.9979699, 145.2119444], [-38.0586698, 145.3952684], [-37.064005, 142.7727797], [-36.3178745, 145.0516258], [-38.3554649, 144.9039315], [-38.0431752, 145.274638], [-37.8853455, 144.5958334], [-35.9227778, 145.4785616], [-37.6227271, 144.8828847], [-38.3170642, 141.5721122], [-37.6778638, 143.8259794], [-38.3616662, 141.5922428], [-37.5909883, 144.921979], [-38.2292866, 145.168622], [-38.1956251, 145.4930138], [-38.3415569, 145.0110813], [-38.214554, 144.3680147], [-36.3399075, 145.4089435], [-37.6234139, 145.0392122], [-37.8300656, 145.362334], [-37.5850795, 144.9412689], [-38.0578404, 145.4056892], [-37.8192378, 144.7216468], [-37.8307497, 144.6624741], [-37.7758729, 144.8347337], [-38.1569422, 145.1620803], [-38.1114577, 145.3471579], [-38.0862675, 145.309827], [-37.5416173, 144.96394], [-37.6823524, 144.566826], [-37.9695496, 145.0847814], [-37.8278624, 145.1156362], [-37.8542058, 145.0510422], [-38.0823405, 147.0711], [-37.7659681, 144.9808077], [-37.7838388, 145.3525525], [-37.9501325, 144.6868784], [-37.8982268, 144.7228283], [-37.744385, 144.9267082], [-37.8453663, 144.8518234], [-38.1565287, 145.9285948], [-37.9068015, 145.165934], [-38.4783202, 145.957128], [-37.8453326, 144.6688627], [-37.8982317, 144.6508042], [-37.874189, 144.620367], [-38.3363363, 143.566178], [-37.688262, 145.1100526], [-38.135078, 145.1238834], [-37.8635389, 145.1820196], [-37.5439419, 144.8905813], [-38.0575608, 145.4103228], [-37.7769277, 144.9326039], [-37.4732276, 144.9688282], [-37.7223615, 144.6979837], [-34.1939864, 142.1345715], [-37.766654, 145.0410979], [-37.5888099, 144.9177198], [-37.2892987, 142.9256865], [-37.6268404, 145.0110253], [-37.5523619, 143.8187441], [-37.599861, 144.9296054], [-37.6690979, 144.9418383], [-37.8485435, 145.2520449], [-37.7913134, 145.095029], [-37.824134, 145.0865763], [-38.4698478, 145.9612405], [-38.1590031, 145.9119255], [-37.6538667, 143.8860814], [-38.1713143, 144.5526936], [-37.9502991, 145.0056885], [-37.7371992, 144.9941375], [-37.7212856, 144.6653478], [-37.5848636, 143.8182102], [-37.8376659, 144.7196514], [-37.7183238, 145.1388292], [-37.6914216, 144.4337731], [-37.6859115, 144.9239589], [-38.5583434, 146.6749852], [-37.8095164, 145.3442679], [-38.2324199, 144.3689761], [-38.108823, 145.3244651], [-37.8521953, 145.1267136], [-37.8114601, 145.0698677], [-38.1805704, 146.5505334], [-37.82751, 145.2834668], [-37.7164592, 144.5955903], [-37.6013413, 144.9427303], [-37.8738607, 145.2448384], [-37.7202858, 144.8579458], [-37.7008964, 144.8771781], [-37.7462196, 144.8551317], [-37.7316712, 144.7751642], [-37.7148408, 144.8213318], [-37.722791, 144.8106503], [-37.7124683, 144.7929567], [-37.7282953, 144.8802991], [-37.7059939, 144.78572], [-37.7016636, 144.7616822], [-37.7155119, 144.7725876], [-37.7155119, 144.7725876], [-37.7347528, 144.8122623], [-37.7127177, 144.7791729], [-37.8106741, 145.0466545], [-37.8035318, 145.0514175], [-37.8053809, 145.0233845], [-37.7940846, 145.0602538], [-37.8114087, 145.0393991], [-37.8034682, 145.0509569], [-37.8009357, 145.0464374], [-37.8006786, 145.0303022], [-37.81467, 145.0466799], [-37.4135273, 144.9815516], [-37.3588217, 145.0311784], [-37.8464002, 145.2950811], [-37.8866296, 145.2702309], [-37.9122206, 145.2674225], [-37.864456, 145.23764], [-37.8844646, 145.2974121], [-37.875187, 145.276808], [-37.8952285, 145.289039], [-37.8891057, 145.2481166], [-37.8563925, 145.3145206], [-37.9072564, 145.2643872], [-37.8549765, 145.2704458], [-37.8988985, 145.2283757], [-37.8629238, 145.2325115], [-37.8805633, 145.2435924], [-37.8681991, 145.2229026], [-37.8483583, 145.3054578], [-37.9233579, 145.2583026], [-37.8782114, 145.2842658], [-37.8699705, 145.2628551], [-37.910218, 145.2721012], [-37.9306381, 145.2429517], [-37.8803469, 145.2715931], [-36.5740261, 143.8690002], [-36.4181455, 143.6096234], [-38.3700216, 145.7072979], [-38.342956, 145.7649934], [-36.7200459, 141.4768243], [-36.3147576, 145.0507917], [-36.3125993, 145.0437736], [-36.3254533, 145.045433], [-37.3887295, 144.326965], [-37.8058678, 145.3176081], [-37.7486022, 145.3393638], [-37.8090316, 145.3383824], [-37.7886064, 145.3277552], [-37.7836335, 145.3311462], [-37.7803319, 145.3124312], [-37.7872033, 145.3115372], [-37.7846608, 145.3792772], [-37.7804457, 145.4282109], [-37.7734371, 145.3243262], [-37.777104, 145.4577212], [-37.7328011, 145.3817059], [-37.7884902, 145.3848888], [-37.7673352, 145.3266552], [-37.7754522, 145.3571381], [-37.7511735, 145.3656169], [-37.7793163, 145.3255405], [-37.9820193, 146.7906027], [-37.9688623, 146.9882789], [-37.8429121, 147.071833], [-36.9931901, 144.0680501], [-37.8572589, 145.0233353], [-37.8551106, 145.0513285], [-37.8732763, 145.0489032], [-37.8799634, 145.0663519], [-37.859586, 145.0515025], [-37.8613896, 145.0273045], [-37.848457, 145.043965], [-37.8460023, 145.0332768], [-37.8781826, 145.0652046], [-36.7932907, 144.2431693], [-36.7973395, 144.2398129], [-37.039244, 143.7354536], [-38.2485565, 145.1058304], [-37.353237, 144.5327721], [-37.7789248, 144.9829139], [-38.3661976, 144.9946727], [-38.274719, 144.4921617], [-37.6892757, 144.4140806], [-37.6221039, 144.7084734], [-37.0930165, 144.2046752], [-37.7828202, 144.5502573], [-37.762621, 145.3017634], [-38.2083434, 144.3337709], [-38.0910799, 144.3646973], [-38.1859351, 144.4643245], [-38.3779748, 142.4764469], [-34.6031245, 142.7894785], [-36.5331563, 147.3750725], [-37.9897929, 145.093492], [-38.0354577, 145.1187399], [-37.8958499, 144.6095406], [-37.8155856, 145.2591763], [-37.8780994, 145.0087886], [-37.6934123, 144.9590391], [-37.7948281, 144.8759717], [-37.5431455, 143.8954455], [-37.8718217, 145.0732132], [-37.809643, 145.3426934], [-37.9646256, 144.5005106], [-37.870807, 145.1496578], [-37.7586732, 144.8616316], [-37.5783686, 144.9210979], [-37.8717754, 145.009456], [-38.0330854, 145.3528755], [-37.868145, 145.141591], [-36.2509933, 147.0385914], [-37.7327268, 145.2725229], [-37.9422056, 145.5001774], [-37.79655, 145.0487103], [-37.7985509, 145.2972128], [-37.8925105, 144.7532587], [-38.153991, 144.3257879], [-37.8484032, 145.2488169], [-37.9307684, 145.13672], [-38.0371627, 145.2802794], [-37.2868027, 142.948244], [-38.1043832, 145.1915326], [-37.7410304, 144.9695238], [-37.5978448, 144.7296285], [-37.8014915, 145.0973652], [-37.7863721, 144.9391752], [-37.7984142, 144.9702998], [-37.8256344, 145.3381467], [-37.7029189, 145.1841507], [-37.7647705, 144.979493], [-35.4640969, 143.6308702], [-37.7695338, 144.9439162], [-37.6700539, 145.0259839], [-37.6981115, 145.0565366], [-37.8630891, 145.1175532], [-37.7563534, 145.3373004], [-37.7319166, 145.3827518], [-37.9068119, 145.2702506], [-37.8271274, 145.1381023], [-37.6535046, 144.8894846], [-37.8989291, 145.172868], [-37.5697866, 144.7218615], [-37.9010346, 145.1777309], [-37.6402096, 144.8868424], [-37.7762862, 145.5318904], [-37.7322384, 144.945385], [-37.5544724, 143.893606], [-37.7500282, 145.3128484], [-37.7575664, 145.0659382], [-37.7769232, 144.9779947], [-37.8088059, 145.1671226], [-37.7817266, 145.0199398], [-37.7599495, 145.5860176], [-37.6843021, 145.1386084], [-37.6777985, 144.9983959], [-37.5958442, 145.0918255], [-37.7925305, 144.989356], [-37.7955496, 144.9290581], [-37.7666682, 144.8911104], [-37.5855013, 145.1271898], [-37.7740647, 145.3074017], [-37.7019781, 144.8797556], [-37.725549, 145.1294528], [-37.7480955, 145.2068445], [-37.7378429, 144.9956343], [-37.7876896, 145.3396138], [-37.7074836, 144.9411753], [-37.7183088, 145.1218892], [-37.833679, 144.955539], [-37.6418007, 145.1319507], [-37.9271811, 145.17322], [-37.8089622, 144.9985619], [-37.8689509, 145.265637], [-36.7613412, 144.2482234], [-37.7664461, 145.3280798], [-37.7979727, 145.2756076], [-36.1287357, 146.8892939], [-37.7520341, 144.9701579], [-37.8751975, 145.2440908], [-37.7530057, 145.3522097], [-37.853882, 145.2346295], [-37.8906864, 144.7276514], [-37.8685853, 144.7768036], [-37.9174145, 145.3939599], [-37.6878145, 144.7469806], [-37.8940672, 145.2398836], [-37.8746867, 145.0050473], [-38.1453558, 145.4238759], [-38.2613068, 145.1780396], [-37.7156963, 145.0378207], [-37.9713628, 145.054567], [-38.3165818, 142.4848008], [-37.6284916, 144.8835179], [-36.7378417, 146.3180065], [-38.6640353, 146.3277387], [-37.3632852, 144.7439225], [-38.3216932, 146.3293526], [-37.8000647, 145.3125788], [-37.8581472, 145.2778044], [-37.9052168, 145.0498047], [-38.3692178, 146.3645498], [-38.1893032, 146.2929713], [-38.2458812, 145.0597343], [-37.8271014, 147.6228407], [-37.8806702, 146.9793297], [-34.305172, 142.2134365], [-36.8417182, 144.3879697], [-37.8608983, 145.3543934], [-37.8852633, 144.6809395], [-37.8882882, 144.6485808], [-37.8540197, 145.2460969], [-37.9818438, 146.7844258], [-37.7131941, 144.6294103], [-38.2906912, 142.4734246], [-34.2527592, 142.190367], [-37.5729245, 143.8769447], [-34.2777181, 142.0845241], [-37.9421179, 145.1365741], [-37.8893854, 145.0377661], [-37.8837581, 144.7383816], [-37.9622203, 145.0791608], [-37.7165956, 145.0428317], [-37.6948268, 145.0455492], [-37.6209948, 145.0049177], [-37.9704549, 145.2491529], [-38.1221385, 145.3317645], [-38.2006476, 144.3127855], [-37.4174159, 144.9821988], [-37.6786263, 145.0391947], [-38.0948545, 145.3422908], [-38.0964941, 144.3179264], [-36.3739763, 145.4084182], [-37.6780293, 145.5018474], [-38.1047192, 145.3782377], [-35.9243078, 145.6623798], [-37.4708159, 144.9657271], [-37.6011184, 144.2239454], [-37.6659225, 144.5351095], [-38.1221428, 145.3518486], [-37.7046153, 144.8571822], [-37.771496, 144.8350071], [-37.8440094, 145.2660313], [-37.9216627, 145.0618679], [-38.2315805, 144.3380285], [-37.9882587, 145.2478772], [-38.0663821, 145.4022665], [-37.8877006, 145.0536654], [-36.7344447, 144.1283752], [-38.0570888, 145.4668789], [-36.737943, 144.2691913], [-38.1495877, 144.3555584], [-36.7351911, 146.9630225], [-37.8098, 145.1576048], [-37.8890319, 144.7023956], [-37.8597466, 145.2911314], [-38.1745197, 144.5671958], [-37.7868422, 144.8495325], [-38.2317359, 146.406578], [-38.0820782, 145.3739133], [-38.1501496, 145.2872756], [-37.7402624, 144.9576677], [-37.8762485, 144.6274996], [-38.068509, 145.1288821], [-37.8288795, 144.9987945], [-37.577911, 143.8579249], [-38.3784671, 142.4570931], [-38.0043338, 145.2470787], [-37.819734, 145.1912489], [-38.0184421, 144.3815917], [-37.2745843, 144.7274093], [-38.3548354, 143.5688998], [-37.7901891, 144.8914361], [-37.7729432, 144.9155885], [-37.9648729, 145.1498162], [-38.00976, 145.1610494], [-38.223948, 144.327781], [-38.3647346, 142.4660886], [-38.3769016, 142.4822753], [-38.1956251, 145.4930138], [-38.1745197, 144.5671958], [-37.8055307, 145.0341344], [-38.0334246, 145.2772051], [-37.9037128, 145.0016868], [-36.779433, 144.2982745], [-38.044638, 145.3343257], [-38.0847284, 145.4702654], [-37.8479829, 145.0686609], [-36.3455036, 146.2979891], [-37.7924866, 145.3883113], [-37.7391285, 145.0246446], [-37.4226611, 144.977702], [-37.6902608, 145.2136135], [-37.8808622, 145.015779], [-38.0659301, 145.3468818], [-37.8354506, 144.6960384], [-38.1337101, 145.1305993], [-37.8939314, 144.7602947], [-37.815424, 145.0446196], [-37.7356472, 144.7393935], [-37.8816745, 145.1779932], [-37.650453, 144.9204838], [-37.9789194, 145.0344549], [-38.3132465, 146.422099], [-37.7725642, 144.9224814], [-37.9277287, 145.0633532], [-37.9638559, 145.0361676], [-37.7304227, 144.825212], [-37.7357419, 144.9734855], [-37.8029191, 145.1868512], [-37.971456, 145.2256569], [-37.9170959, 145.262073], [-37.8296891, 145.2632945], [-37.684133, 145.0731574], [-37.9653729, 145.1779324], [-37.8999545, 145.1432469], [-37.72294, 144.7522108], [-36.3784165, 141.2413323], [-37.8473174, 145.2996282], [-37.8099036, 145.1408538], [-38.1057545, 145.3012599], [-37.881953, 144.7358235], [-36.7476976, 144.2096928], [-38.1153645, 144.330597], [-37.8152095, 145.0810977], [-37.9859315, 145.066213], [-38.0663519, 145.5160706], [-38.4524703, 145.2197552], [-37.7556792, 144.903431], [-37.7874935, 145.3108385], [-37.7824968, 144.7677843], [-37.9360879, 145.0606665], [-37.8325352, 145.1525855], [-38.1093902, 145.2553215], [-37.9176854, 144.7504375], [-37.7886934, 145.1566046], [-36.727783, 144.3077803], [-38.0853776, 145.3642563], [-37.7800929, 145.2936176], [-37.7090763, 144.90926], [-37.5287886, 143.8208051], [-37.82291, 147.6100956], [-38.2182639, 145.1658097], [-37.6950278, 144.7501353], [-38.0981334, 145.2835798], [-36.0111755, 146.023117], [-38.145792, 145.9316123], [-37.7619051, 145.0166907], [-37.7569101, 145.3426473], [-37.866422, 145.0970552], [-37.713117, 144.7399016], [-37.8206006, 144.943009], [-37.719383, 144.9929121], [-37.8200721, 145.0118057], [-38.1399988, 144.3252831], [-37.9228166, 145.2445186], [-38.2522195, 145.0368935], [-37.8355758, 145.1965068], [-37.9560183, 145.0402103], [-37.9193897, 145.0716848], [-37.8175549, 145.158293], [-37.7500247, 144.8976529], [-37.7760976, 144.8794462], [-38.0221463, 145.1011139], [-37.8835614, 145.2820423], [-37.6460973, 145.0254691], [-37.5841831, 144.7222422], [-37.7895611, 145.2686099], [-36.3682878, 145.4147974], [-38.1945615, 144.3229893], [-37.9006236, 145.0382913], [-37.8560184, 145.2966229], [-38.2020098, 146.1551852], [-37.8604478, 145.1551145], [-37.8508043, 144.9868145], [-36.3988329, 145.3960543], [-37.8598726, 145.0145], [-37.6998719, 145.0303245], [-37.9820619, 145.1216118], [-37.7911265, 145.2645852], [-37.9058174, 145.3412613], [-37.8369159, 144.7130736], [-37.8754615, 145.059969], [-37.584038, 143.8409499], [-37.9561839, 145.0112321], [-37.803858, 145.086717], [-36.7053882, 144.3195521], [-36.7649723, 144.2722045], [-37.7653125, 144.9468391], [-37.7163158, 144.9149716], [-37.891904, 145.0719577], [-38.1145643, 145.23952], [-37.6228311, 145.0025068], [-37.7022058, 145.0576266], [-37.6053074, 145.090426], [-37.6123078, 145.098354], [-38.0770308, 145.4408309], [-37.9011503, 144.7288779], [-37.9036565, 145.0351887], [-37.6896081, 144.773962], [-37.7382317, 145.0051973], [-37.6298889, 144.8858986], [-38.4827972, 142.9680191], [-37.7244172, 144.6727536], [-37.8285551, 144.6476863], [-37.925542, 145.0330282], [-37.904538, 143.7223121], [-37.6327117, 143.7567427], [-37.8248981, 144.6849057], [-37.0968218, 145.100638], [-37.670915, 145.0250733], [-37.6156582, 143.8434916], [-38.0952687, 147.0835853], [-37.6146568, 143.5866317], [-37.5972115, 144.9276629], [-37.8241685, 145.4216883], [-37.3649727, 144.7454839], [-37.737326, 144.7757121], [-37.7254868, 145.0232252], [-38.1248232, 144.3323236], [-38.6815925, 143.3815983], [-37.8350452, 144.8402636], [-38.1221764, 145.3701371], [-38.0013354, 145.2746802], [-37.3010915, 142.767601], [-37.7854449, 144.7903402], [-37.6137424, 144.4783846], [-37.5763372, 144.9217911], [-37.64246, 145.0541312], [-38.1078617, 147.0731197], [-38.0825196, 145.5737586], [-37.7200983, 145.0225143], [-37.9682455, 145.2666688], [-38.3414427, 144.7412046], [-37.9651091, 145.2050867], [-37.731665, 144.9287312], [-37.7569004, 145.118178], [-35.9973877, 145.4550839], [-35.9174559, 145.652481], [-37.6969508, 144.9664731], [-38.0456331, 145.3638681], [-38.0458353, 145.3672208], [-37.9516258, 145.5422536], [-38.0826802, 145.5697329], [-38.0749302, 145.4784889], [-38.0956061, 145.7177197], [-38.0872443, 145.6741316], [-37.996632, 145.4150424], [-37.935102, 145.4839862], [-38.0069593, 145.4262355], [-37.9399389, 145.49249], [-38.0611238, 145.4127921], [-38.2651037, 145.5623073], [-37.8022456, 145.1293029], [-37.8001168, 145.1054952], [-37.8090658, 145.1166637], [-37.8388456, 145.1195854], [-37.8004311, 145.1235745], [-37.8427759, 145.1085791], [-37.8101286, 145.107002], [-37.8268036, 145.1026109], [-37.8475136, 145.1149474], [-37.8246886, 145.1135182], [-37.8246298, 145.1352021], [-37.8258327, 145.100432], [-37.8056799, 145.1333478], [-37.8481141, 145.1065124], [-37.929464, 144.9933837], [-37.9099315, 144.9984069], [-37.9115184, 145.0146473], [-37.9054274, 144.9975234], [-37.9259842, 145.0026465], [-37.9148159, 145.0036459], [-37.8959235, 144.9994381], [-37.910766, 144.9917392], [-37.9074269, 144.9965461], [-37.2054373, 145.0547347], [-37.6754236, 144.964213], [-37.6934896, 144.969467], [-37.7160775, 144.9122421], [-37.6749377, 144.8885588], [-37.6951079, 144.9595492], [-37.6485206, 144.9268391], [-37.7013419, 144.9434581], [-37.709532, 144.9271345], [-37.7727152, 144.9804457], [-37.7719956, 144.9438903], [-37.7613116, 144.9683491], [-37.7563453, 144.9707438], [-37.7713514, 144.9594884], [-37.7544863, 144.9415094], [-37.7593291, 144.9585287], [-37.7771379, 144.9545834], [-37.7596251, 144.9718708], [-37.772253, 144.96629], [-37.5770512, 144.7046088], [-37.5792342, 144.73399], [-37.5697951, 144.716938], [-37.5929362, 144.9283465], [-37.5653095, 144.7277683], [-37.6066213, 144.9378633], [-37.6402096, 144.8868424], [-37.6042462, 144.9247592], [-37.6508109, 144.8934132], [-37.5985163, 144.9350616], [-37.5790176, 144.7492874], [-37.668798, 144.8853736], [-38.137821, 145.855589], [-38.1103982, 145.7691452], [-37.6507368, 143.8878663], [-37.6075083, 143.8682205], [-37.8699736, 145.0736526], [-37.8017129, 145.0696159], [-37.8060377, 145.0773132], [-37.7880268, 145.0740345], [-37.7863751, 145.0873908], [-37.7958331, 145.0753677], [-37.8579324, 145.088231], [-37.8544525, 145.0888919], [-37.8582553, 145.0767994], [-37.8364728, 145.0729054], [-37.8421424, 145.0797281], [-37.8273179, 145.0860803], [-37.8335079, 145.0938743], [-37.8179285, 145.0770401], [-37.8639003, 145.0776369], [-37.8210665, 145.0700981], [-37.8362204, 145.0934934], [-37.8617457, 145.0892778], [-37.8330613, 145.0638324], [-37.8043042, 145.0964755], [-38.2364707, 143.1482911], [-37.0593556, 144.2163403], [-37.0768522, 144.2085967], [-37.0634222, 144.2185193], [-37.8996228, 145.0336299], [-37.8278902, 145.0338987], [-37.9621084, 145.1497604], [-37.8058688, 145.2320528], [-37.8502116, 144.7021681], [-38.0442921, 144.1646352], [-38.1465643, 145.1489619], [-38.0560002, 145.3980973], [-34.2131842, 142.1489148], [-38.1897151, 144.5556585], [-38.0439159, 145.3034612], [-37.8637971, 145.021024], [-37.9412572, 145.116393], [-37.860659, 144.6629026], [-38.0251712, 145.3470256], [-37.8294756, 144.9538306], [-37.6545555, 145.0899269], [-37.7909744, 144.9731143], [-38.2035011, 146.0605742], [-37.8730114, 144.7597626], [-37.6929512, 145.0291211], [-37.5809947, 144.7373703], [-38.085165, 145.2831303], [-37.8499558, 144.7012904], [-37.7710379, 145.0116931], [-37.8140672, 145.0301534], [-37.8579557, 144.977463], [-37.852472, 145.1805572], [-37.793955, 145.1794728], [-37.8942935, 145.0457445], [-38.18799, 145.100165], [-37.7204635, 144.7771367], [-37.78286, 144.8324699], [-38.0721594, 145.4986508], [-37.8539828, 144.7772917], [-37.7096687, 144.8185876], [-37.7939844, 145.0708419], [-37.7024991, 144.7876092], [-37.7170579, 144.8087879], [-37.7918946, 144.8173103], [-37.7250407, 144.8801733], [-37.7343985, 144.7382721], [-37.8412397, 144.8777134], [-37.8483214, 145.0862194], [-38.6001305, 145.5999544], [-38.5266016, 145.3716066], [-37.8205912, 145.0519941], [-37.914372, 145.056973], [-38.19713, 145.1017576], [-38.2012782, 145.0933096], [-37.9512859, 145.0085041], [-37.7537732, 144.9251], [-37.7597175, 144.9232114], [-37.7679207, 144.7698177], [-37.8410902, 144.9853624], [-37.7376109, 144.8665351], [-37.8775517, 144.757782], [-37.854174, 144.8910529], [-38.524383, 145.3682359], [-37.9677784, 145.2141788], [-37.8592112, 144.9900067], [-37.8756981, 144.7920988], [-38.1503254, 145.141609], [-37.8146247, 144.8994832], [-37.8040559, 144.8825285], [-37.8656858, 144.9056291], [-38.2328448, 143.1464174], [-37.8370198, 144.8514065], [-38.1482556, 145.9385958], [-37.7686262, 144.9094659], [-37.7838618, 144.9059481], [-37.7584818, 144.7874281], [-37.7537732, 144.9251], [-37.7333553, 145.0295187], [-37.7298273, 144.9226987], [-37.784202, 144.9318646], [-37.7628686, 144.9281192], [-37.7350566, 144.9116143], [-38.1587289, 145.9402573], [-37.8124837, 144.87415], [-37.8589423, 144.691313], [-37.681732, 144.5843947], [-37.3248674, 144.4092169], [-37.7335777, 144.8202197], [-37.8159065, 144.8852761], [-37.8420104, 144.700458], [-37.7859586, 144.8083868], [-37.8890361, 144.6306385], [-37.8658208, 144.8284869], [-37.8362575, 145.2330439], [-38.066096, 145.4652753], [-36.7973395, 144.2398129], [-38.2242298, 145.218878], [-37.9079608, 145.0523483], [-37.9280278, 145.0494636], [-37.9203611, 145.0727055], [-37.7739465, 144.9111737], [-37.8165342, 145.0610389], [-37.8795137, 145.1244964], [-37.9479494, 145.008474], [-38.1443584, 144.3271051], [-37.7446064, 144.8595941], [-37.7560892, 144.8112078], [-35.3480068, 143.5588291], [-38.0947677, 145.191485], [-37.838878, 145.0446847], [-37.7580463, 145.1184946], [-37.9107337, 145.3664202], [-37.7916952, 144.9277159], [-37.8675902, 144.7285224], [-36.8027658, 144.1615096], [-36.7940268, 144.2450197], [-37.7861692, 145.1302847], [-37.924462, 145.095217], [-37.770318, 145.1556952], [-37.7745614, 145.1781028], [-37.8770514, 145.2781789], [-37.7179444, 144.8350837], [-37.8386354, 144.9858808], [-38.2973688, 142.3703667], [-37.8381009, 144.6745116], [-37.9967914, 145.3100214], [-37.9786667, 145.2384556], [-37.6996641, 144.5603658], [-38.0871278, 145.2778759], [-37.9979699, 145.2119444], [-37.8179913, 144.9650732], [-38.0950361, 145.1879423], [-37.6903827, 144.6104209], [-37.7637202, 145.3250813], [-37.8107583, 145.0069317], [-37.7552265, 144.9427014], [-37.7101111, 144.9166258], [-38.082592, 145.3270493], [-36.2383871, 145.4362785], [-37.7750793, 144.9966437], [-36.3728211, 146.3177191], [-37.8516473, 145.1268401], [-37.8381287, 144.6757933], [-37.6284217, 145.0263526], [-37.7316621, 145.0146463], [-37.9110255, 144.7646554], [-37.8427187, 145.0983432], [-37.8568769, 144.7273828], [-38.0948822, 145.1867312], [-37.9456153, 145.0294052], [-37.8817811, 145.1162304], [-37.9037499, 145.1653466], [-37.8599974, 145.1513744], [-37.8510309, 144.7733419], [-37.9101316, 144.6589971], [-37.8822147, 144.6890759], [-37.8949876, 144.6473403], [-37.9638019, 144.4991899], [-37.8720415, 144.695201], [-37.8838113, 144.6772863], [-37.9062518, 144.6657831], [-37.8796408, 144.6894785], [-37.8688064, 144.6955127], [-37.8912736, 144.7008499], [-37.8588158, 144.7122948], [-37.8733398, 144.7681976], [-37.8540373, 144.7059782], [-37.866824, 144.6676586], [-37.8948733, 144.6341299], [-37.8702348, 144.7643375], [-37.8478321, 144.682526], [-37.6987536, 145.0535726], [-37.6417778, 145.0253344], [-37.6761831, 145.030342], [-37.6821295, 144.9988211], [-37.5083179, 145.1189415], [-37.6499372, 145.0403809], [-37.6771272, 144.9987079], [-37.6684364, 145.0358747], [-37.652201, 145.0885319], [-37.6642729, 145.0065109], [-37.6645666, 145.0580184], [-37.6673713, 145.0479166], [-37.6714047, 144.997255], [-37.6710018, 145.0763527], [-37.6817323, 144.9986206], [-37.6782884, 144.9946462], [-37.6672089, 145.0159749], [-37.6869082, 145.0288383], [-37.6787998, 145.0686863], [-37.6585971, 145.0676782], [-37.6600964, 145.0304646], [-37.642988, 145.0588569], [-37.6582041, 145.0554008], [-37.6582041, 145.0554008], [-37.5152041, 145.1226498], [-37.6499995, 145.0521114], [-37.841191, 144.8877762], [-37.8275138, 144.8862845], [-37.8589049, 144.8956495], [-37.8574626, 144.8807069], [-38.3360589, 143.7820728], [-38.2428053, 143.9890645], [-38.536584, 143.9727709], [-36.1217604, 146.8852213], [-36.1284305, 146.9036148], [-36.1061775, 146.8326436], [-36.1795232, 146.9468082], [-36.1197777, 146.8554724], [-36.1357821, 146.8635195], [-36.1271819, 146.9095753], [-38.5901938, 145.5836343], [-38.578152, 146.014105], [-38.4782204, 145.9518958], [-38.028283, 144.0477431], [-36.2259075, 145.5611747], [-37.5548548, 144.0498665], [-36.8601395, 143.7296417], [-37.6709613, 143.6550296], [-37.5801569, 143.8184113], [-37.5885117, 143.7198683], [-36.3700337, 145.4619533], [-36.2388492, 145.4348243], [-36.458963, 146.2306137], [-38.2981132, 146.5416019], [-38.1489632, 146.4807266], [-37.5287441, 142.039942], [-37.1065323, 144.0605122], [-35.6358328, 144.1293665], [-37.6898128, 145.1426375], [-37.7829499, 144.8382645], [-37.6332299, 144.9181633], [-36.4423616, 145.2278523], [-37.8986161, 144.641746], [-37.7138237, 144.9171132], [-38.3285449, 144.9749565], [-37.8460725, 145.0560213], [-38.1315406, 145.3281122], [-37.4181935, 144.9805625], [-38.1628676, 145.3014903], [-37.6402096, 144.8868424], [-38.0490641, 145.4229196], [-37.6996824, 144.7123877], [-37.6749319, 145.163793], [-36.1354032, 144.7247575], [-37.2124867, 145.4287429], [-38.1109524, 145.3654318], [-37.7589931, 145.001199], [-36.3318933, 141.6561016], [-36.4554305, 142.0308816], [-37.8027162, 144.9796212], [-37.6172894, 145.0359506], [-38.0829287, 145.3521465], [-37.895411, 144.6761997], [-37.7176708, 145.1230349], [-37.837125, 144.8588484], [-38.055695, 145.4481331], [-37.6704908, 145.0154699], [-37.8624657, 145.0936501], [-37.8942535, 144.5960771], [-37.6848044, 144.9234074], [-37.6002033, 144.9900527], [-38.0727852, 144.3576455], [-37.8011519, 145.0837845], [-38.0559078, 145.4468059], [-37.8016353, 144.9082449], [-38.0663821, 145.4022665], [-37.6540085, 145.0783956], [-37.5808318, 144.751914], [-38.1139238, 145.2412003], [-37.8669186, 145.0842017], [-38.1626826, 145.1457977], [-37.9655169, 145.0708762], [-37.5844045, 144.1051252], [-38.1035911, 145.3236368], [-37.9022486, 144.7563355], [-37.8371393, 144.9964424], [-37.7486054, 144.9355728], [-37.8514955, 144.731706], [-36.6915957, 144.31841], [-37.9815433, 145.2003445], [-37.9326626, 145.0563923], [-37.9833055, 145.0779437], [-37.9003613, 144.6139339], [-37.8916415, 145.2308611], [-37.4850216, 144.5812366], [-38.1329663, 145.8549379], [-37.9113148, 144.7704767], [-38.1646545, 144.3947787], [-36.9350853, 144.7166962], [-37.7556593, 145.141761], [-37.5581179, 143.8511317], [-37.5852434, 144.7054323], [-37.5936455, 144.7085763], [-37.8069668, 145.2270036], [-38.3257142, 144.3142273], [-37.7599414, 145.1383189], [-37.6022059, 144.9063338], [-38.1448956, 144.3294265], [-38.0647309, 145.5097959], [-38.3538846, 145.194395], [-36.3112699, 146.8439248], [-38.0396705, 144.1595327], [-37.7455479, 144.7540547], [-37.9637586, 145.0565643], [-37.9865829, 145.0876704], [-38.6313932, 145.7289175], [-38.3396644, 145.170742], [-38.0456539, 145.2484621], [-37.8785921, 145.0103628], [-37.8429533, 144.7356908], [-36.7829222, 144.313268], [-37.9200141, 144.9963635], [-38.3387114, 144.308329], [-37.3630841, 145.0269257], [-36.8511513, 143.7334674], [-37.2124867, 145.4287429], [-38.0553123, 145.1188704], [-36.7564187, 145.5735841], [-37.7881711, 145.1063433], [-37.7214537, 144.6977828], [-37.2456515, 144.4634246], [-38.386152, 142.590033], [-36.0664247, 147.1588021], [-38.3694093, 145.7033713], [-37.5884173, 143.8346485], [-37.7013677, 144.5634741], [-37.9638692, 145.140148], [-37.9591421, 145.1402309], [-37.0416733, 143.7230709], [-38.105157, 144.3359235], [-37.7162675, 144.5893147], [-37.6063272, 144.594793], [-36.2996534, 145.4339399], [-36.3570769, 145.4304519], [-37.709054, 144.9247029], [-37.7065968, 145.0873746], [-35.917819, 145.6507782], [-34.4742689, 142.3579813], [-36.306284, 145.1320269], [-38.1935508, 143.6378217], [-37.2349539, 145.9069927], [-36.147048, 146.6043233], [-37.5605884, 149.7536757], [-37.7936748, 145.3018238], [-37.59839, 144.8936065], [-37.7640911, 145.0858493], [-37.5823225, 143.839472], [-37.8420995, 144.8464724], [-37.9851895, 145.2776838], [-38.4580837, 145.2509553], [-37.2487657, 144.4551662], [-37.6054155, 145.0057133], [-36.4173138, 143.6187809], [-38.1351062, 144.3348116], [-38.3958385, 144.1908522], [-38.0723771, 144.3508262], [-37.8623726, 145.3543006], [-37.8534386, 145.0244668], [-37.7817131, 145.032061], [-37.7814959, 145.1479271], [-37.8715359, 145.0219522], [-37.9093666, 144.9893856], [-37.8926075, 144.9968152], [-37.5631254, 144.8777358], [-37.6767044, 144.5547054], [-37.7742005, 145.3210302], [-37.7142427, 144.8047624], [-36.3869557, 146.32757], [-38.104448, 145.1297752], [-38.1627981, 145.1922079], [-37.8177184, 145.1317145], [-37.8595166, 145.289367], [-38.0271974, 145.3054008], [-37.7246202, 144.9433548], [-37.8670547, 145.2275064], [-37.7028701, 144.900188], [-37.8086617, 145.2851778], [-37.7716488, 145.2903642], [-37.8230052, 145.2620607], [-37.8294112, 145.3003068], [-36.7752702, 144.2798197], [-38.032739, 145.3405289], [-37.7084073, 145.1159718], [-37.9800096, 145.273482], [-38.0536796, 145.121574], [-37.6128989, 145.1366681], [-38.0575575, 145.314582], [-37.6956942, 144.8811949], [-38.1814715, 146.2619188], [-38.1443584, 144.3271051], [-37.6106455, 145.0022475], [-38.2467913, 144.5411633], [-37.6878984, 144.8875062], [-37.8567206, 145.1256959], [-37.8529836, 145.0348901], [-37.7147746, 144.5953176], [-36.7591021, 144.2296051], [-37.8547888, 144.6608243], [-38.1085098, 145.2484537], [-38.2474434, 144.5429803], [-37.8766193, 144.9920073], [-37.8700515, 145.0918924], [-37.5952114, 143.8049648], [-36.3916295, 145.3613722], [-38.1111915, 145.2896215], [-38.0515321, 144.1746925], [-38.117451, 145.1617983], [-38.0720451, 145.482039], [-37.6191957, 144.7061797], [-37.813451, 145.1764798], [-37.4265659, 144.9991636], [-37.8128861, 144.9397835], [-37.9019808, 145.0880739], [-37.6775754, 145.1632219], [-38.1194332, 145.3371563], [-37.8081246, 145.2562962], [-37.6092895, 145.0025001], [-37.8730676, 144.7468774], [-37.2489406, 144.4452881], [-37.8549188, 145.1798627], [-37.729272, 144.9374008], [-37.6789018, 144.4371353], [-38.1859543, 144.3123142], [-37.9235936, 141.2762394], [-37.9082988, 144.665066], [-38.1610725, 145.9453211], [-37.6802, 145.5332723], [-36.7887505, 145.156222], [-37.8989931, 145.0531462], [-37.8376051, 145.0213068], [-37.8293071, 144.8668367], [-38.1113216, 145.1477705], [-37.7187871, 145.0050875], [-37.6250091, 145.0367192], [-37.9763327, 145.2146349], [-38.3226803, 144.3125627], [-37.6646642, 144.4376965], [-37.8434218, 145.041134], [-36.8634774, 147.2813354], [-34.2120662, 142.1639146], [-38.0538781, 145.4103382], [-37.9371248, 145.113096], [-34.1918985, 142.1565904], [-37.7747507, 144.7548608], [-38.3056655, 144.3364058], [-37.916147, 145.0212775], [-38.1637427, 145.1361794], [-38.0422083, 144.1603329], [-38.2325246, 144.3660224], [-37.8598621, 144.7719688], [-38.2072131, 145.3776688], [-37.88612, 144.6312937], [-37.8542846, 144.7495622], [-37.9590062, 145.0289257], [-37.9264894, 145.2341707], [-38.0372414, 145.1098022], [-37.6176553, 145.1259206], [-37.7965464, 145.1596447], [-37.2875298, 144.9543286], [-37.7369256, 144.8652353], [-37.2791547, 142.939628], [-38.0798508, 145.4871889], [-38.0970464, 145.245692], [-38.0864601, 145.3327155], [-37.8304948, 145.0829245], [-37.8002784, 145.2768651], [-38.0559505, 145.122785], [-37.8620797, 145.0827669], [-38.1281344, 146.5720508], [-37.8911316, 145.0828801], [-37.5441627, 143.7836442], [-38.0531107, 145.248749], [-37.5549855, 143.8978838], [-37.7213259, 144.7627257], [-38.0572977, 145.4057878], [-37.6045267, 145.0091811], [-37.8301861, 144.9878262], [-37.8274675, 144.9990436], [-37.7892651, 144.8223811], [-37.9756202, 145.2034358], [-37.7751199, 145.174842], [-37.8807436, 145.1243029], [-37.7535538, 144.9219022], [-37.9187854, 145.2507224], [-37.7907411, 145.125685], [-37.7261565, 144.9849998], [-38.3411055, 143.5686792], [-37.9058685, 145.0534048], [-37.7546246, 145.0401819], [-37.744146, 144.9900206], [-37.939223, 145.1646261], [-38.1138979, 145.7713632], [-37.887323, 145.108031], [-38.6576215, 146.2029662], [-35.3378642, 143.5574711], [-37.8302642, 144.6547753], [-37.8233864, 144.6692667], [-37.689388, 144.4105347], [-38.0947058, 145.2490714], [-38.0605343, 145.3970077], [-37.7607131, 145.1098755], [-37.715065, 144.6289227], [-37.8644904, 144.6239064], [-37.6891801, 144.5809949], [-36.9052919, 145.2366312], [-37.818269, 144.7170933], [-37.8233864, 144.6692667], [-37.0659116, 142.7711676], [-38.120091, 145.3235201], [-38.2096747, 146.0602251], [-37.7132335, 144.7370102], [-37.9804738, 145.0460768], [-37.3450689, 144.1412599], [-37.634113, 144.9305249], [-37.5352968, 144.9972605], [-37.719918, 145.0811284], [-36.7817092, 145.1534004], [-37.5865906, 141.4056107], [-37.5202422, 143.8744314], [-37.5515182, 143.8574296], [-37.9121162, 145.1066816], [-37.8440612, 145.258568], [-37.699967, 144.5469613], [-38.0152061, 145.0936971], [-36.811591, 144.3478234], [-37.6740161, 144.9636787], [-38.2140073, 145.381092], [-37.965797, 145.0605194], [-37.7356345, 145.0245744], [-37.9771122, 145.0810256], [-37.7873841, 145.1052402], [-37.8132625, 145.0083443], [-37.6303898, 145.0783477], [-38.1290148, 145.1269192], [-38.1102695, 144.3274324], [-37.8983064, 145.1684915], [-38.06002, 145.4966293], [-38.0637489, 145.4564015], [-37.9281786, 145.1174018], [-37.8802466, 145.0625653], [-38.3132465, 146.422099], [-38.2534588, 144.5519115], [-37.8607247, 145.0654534], [-38.100511, 145.1823435], [-38.053461, 145.2498927], [-37.8093229, 145.240462], [-37.7697999, 145.2942503], [-38.1537381, 145.9439943], [-38.17024, 144.3911731], [-36.7427834, 147.1690658], [-37.8815449, 144.9898445], [-38.1221103, 145.2518946], [-38.0979477, 147.0679846], [-37.8876504, 145.1515278], [-37.810878, 145.2514428], [-37.5792093, 145.1373321], [-37.8319886, 144.8256758], [-37.796471, 145.3583076], [-37.7343985, 144.7382721], [-38.324535, 144.3126783], [-38.096769, 145.2941017], [-37.6748156, 145.162668], [-37.8627573, 145.2802626], [-38.308441, 145.1924893], [-37.8543629, 144.9893048], [-38.0859483, 145.4603959], [-38.3220214, 144.3146541], [-37.5443321, 143.8208014], [-37.6729112, 144.8553286], [-37.7034044, 145.1821676], [-37.8178923, 144.9657088], [-38.0300855, 145.3608493], [-37.8680407, 144.9872811], [-37.9318557, 145.4384841], [-38.1105646, 147.0609527], [-37.887323, 145.108031], [-37.6169147, 144.9218684], [-38.024579, 145.3122975], [-38.0759742, 145.4738319], [-37.6754623, 144.885109], [-37.8556192, 145.1786889], [-37.915786, 145.0155841], [-38.0591041, 145.2570267], [-37.9272658, 145.1073121], [-38.134732, 145.8963902], [-37.9637557, 145.1914596], [-38.3857964, 144.9257396], [-37.6407561, 143.8617949], [-37.9636561, 145.0339993], [-38.3079031, 145.1737574], [-37.6392293, 144.9234064], [-37.740316, 145.0483564], [-37.3086338, 144.9465497], [-37.0492148, 143.7362866], [-38.1895268, 144.3933814], [-37.9474965, 145.0378169], [-37.96114, 145.141956], [-38.0915876, 145.7152508], [-37.8121512, 145.129247], [-36.2575985, 142.3881046], [-36.1318027, 146.8993876], [-37.8340238, 144.8760921], [-36.2575985, 142.3881046], [-37.7863567, 144.8853443], [-37.0687591, 144.2015335], [-37.8097463, 147.620453], [-37.6653224, 145.5133892], [-37.8080554, 145.1907978], [-37.7044421, 144.7451505], [-37.5180425, 145.1130426], [-37.8165342, 145.0610389], [-38.222337, 145.1670611], [-38.1986186, 145.4930041], [-37.8050334, 145.3146296], [-37.9287665, 145.2530733], [-37.5838606, 144.9352894], [-37.8685272, 145.1656643], [-37.7989025, 145.0570894], [-38.0952127, 145.1937911], [-38.0377803, 145.2665396], [-38.0893673, 144.3380699], [-37.7601626, 145.0837075], [-37.63553, 145.077699], [-37.8367051, 144.8818847], [-37.8557486, 144.6681585], [-37.6030235, 143.8225996], [-38.1510473, 145.173058], [-37.9575872, 145.0755767], [-36.546809, 146.000508], [-36.7771637, 144.3036589], [-37.8880103, 145.0056754], [-37.7162048, 144.7271505], [-37.8543823, 144.6640403], [-34.2274373, 142.1578602], [-37.8698559, 144.6108866], [-37.8580835, 144.8941719], [-37.5412524, 143.8631831], [-38.0720257, 144.353275], [-37.7358073, 144.8616658], [-37.851123, 145.1350561], [-37.7558545, 145.360017], [-37.7212837, 145.1130949], [-38.081201, 145.3733523], [-38.1501496, 145.2872756], [-38.1116054, 145.3385968], [-37.5686064, 144.6958455], [-38.1721932, 144.3845802], [-38.091896, 145.2548844], [-37.7746114, 144.9090494], [-34.1983063, 142.1164915], [-37.4911817, 144.5905683], [-37.5980735, 144.8931184], [-37.819185, 144.664699], [-36.66303, 144.3515888], [-37.8852633, 144.6809395], [-38.103931, 145.3329967], [-38.0446998, 145.2447343], [-34.2229773, 142.1662495], [-37.8455201, 145.0444523], [-38.3695936, 144.8585211], [-37.837095, 145.1724542], [-37.9713381, 145.2246673], [-38.1874092, 142.4326819], [-37.7122006, 145.1550542], [-37.6646355, 145.5129145], [-36.3492077, 146.3063695], [-37.6710148, 145.0636786], [-36.7817923, 145.1599223], [-38.1856546, 146.2852177], [-37.8947398, 145.1257152], [-37.8218119, 145.1608806], [-36.7287347, 144.2793294], [-37.7316001, 145.0254605], [-37.9808034, 145.0679988], [-37.7653463, 144.6909601], [-38.1524713, 145.1959553], [-37.7180872, 144.6352212], [-38.1119427, 145.2888256], [-37.6833762, 144.5779237], [-38.0967167, 144.3556464], [-37.8664155, 144.5828968], [-37.915924, 145.0170884], [-37.5741428, 143.9279147], [-37.7629179, 145.1566122], [-37.886661, 144.6442199], [-38.1714443, 144.4243261], [-37.7352035, 144.9589096], [-38.04183, 145.2657072], [-37.7554085, 145.7004524], [-37.8220418, 144.711284], [-37.9142014, 144.6442266], [-37.8446291, 144.6794046], [-37.8252083, 145.0783026], [-38.2277752, 146.4246591], [-38.0867889, 145.871412], [-37.9302008, 145.4444294], [-37.7432383, 144.8183521], [-37.5523619, 143.8187441], [-37.9103513, 144.6123784], [-37.8533077, 144.6458653], [-37.8656022, 144.5839665], [-38.0701251, 145.4039589], [-37.8831814, 145.2632898], [-37.5851284, 143.8405766], [-38.3384164, 144.2916178], [-36.8039442, 144.3608238], [-35.333125, 143.5371117], [-37.7037371, 144.9177001], [-37.8539062, 145.2453421], [-37.9334885, 145.0041868], [-37.8738263, 144.6075876], [-38.0932455, 145.2534538], [-37.7417058, 144.9089301], [-37.7905032, 144.8469006], [-37.9260485, 145.2439674], [-37.9097817, 145.0527092], [-37.8658198, 144.9949935], [-37.5466432, 143.7834254], [-38.1357396, 144.3301055], [-37.7568493, 145.0016904], [-37.7504163, 144.9107094], [-37.8135739, 145.060072], [-38.2342595, 145.0504606], [-37.5334292, 143.8171491], [-37.8599771, 145.0298029], [-37.7249577, 144.6670012], [-37.702392, 145.084453], [-38.0281125, 145.3173711], [-37.5366927, 144.9057311], [-37.7965139, 145.3265866], [-38.1148986, 145.132064], [-35.3283135, 143.5441786], [-37.1923886, 142.60872], [-37.8758638, 147.9933633], [-37.8749032, 144.7831203], [-38.2407834, 145.0480992], [-37.8234983, 144.6793065], [-36.0120358, 146.0143954], [-36.2524861, 144.9565504], [-37.5618267, 143.8739851], [-37.141435, 144.3510898], [-37.9217895, 145.1404907], [-36.37246, 145.25919], [-37.8414552, 144.733522], [-37.4002119, 144.8938291], [-38.0534183, 145.3796048], [-38.3372735, 145.6755545], [-37.8569921, 145.1251718], [-36.2250734, 145.5609694], [-36.788191, 144.23494], [-37.6713284, 144.5988416], [-36.7428104, 144.2057054], [-37.9737889, 145.1200265], [-36.7935282, 144.2839586], [-37.8828359, 145.0050857], [-37.8901542, 145.0550219], [-37.7032132, 145.1529519], [-37.9804367, 145.0847629], [-37.5814376, 144.7055936], [-37.9569922, 145.0233492], [-37.563017, 144.7294433], [-37.7764916, 144.9812522], [-37.8147988, 145.0028294], [-38.1102695, 144.3274324], [-37.8481344, 145.2653224], [-38.1175808, 144.3276285], [-37.7817783, 145.0321697], [-36.470281, 147.0168273], [-38.0165419, 144.4107627], [-36.6908245, 147.143372], [-38.0763618, 145.1312489], [-37.9708329, 145.1736394], [-37.8579157, 145.0535337], [-38.0557036, 145.2976917], [-37.9464402, 145.1987692], [-37.8137178, 145.102389], [-36.8303673, 144.242139], [-37.9962385, 145.3110661], [-36.7329091, 144.2501462], [-37.5591016, 143.839511], [-36.3421915, 146.3000686], [-36.1251727, 146.8936724], [-37.8673701, 144.8224482], [-38.1426522, 144.3294515], [-37.8482398, 145.0093462], [-36.7254266, 144.3103186], [-37.762176, 144.9126811], [-37.7356963, 144.9519211], [-37.7804257, 145.0367342], [-38.1017265, 144.3294976], [-38.1715011, 144.3420635], [-38.3213803, 144.3127756], [-36.1802838, 146.9485429], [-37.7343419, 145.0897468], [-37.8937694, 145.2267373], [-37.7247383, 145.0683388], [-37.9035338, 144.6385481], [-36.5474909, 145.993406], [-37.6531082, 145.0949896], [-37.64332, 145.0534862], [-37.675021, 145.0668601], [-38.3334967, 144.2623629], [-37.8059726, 144.9910545], [-37.8248336, 144.993443], [-38.2750679, 144.4884507], [-37.857251, 144.9963058], [-37.8727908, 144.6968197], [-37.7479265, 145.0079724], [-37.7430531, 145.0777968], [-37.8824679, 145.0014852], [-37.6972323, 145.1361111], [-36.1521496, 146.926408], [-37.6928478, 144.8950673], [-37.3168273, 145.2910106], [-37.8174395, 145.1905404], [-38.2644184, 144.5259545], [-36.4602243, 146.2232187], [-36.0534352, 146.4557756], [-37.7247374, 145.1476978], [-37.7299201, 145.0108687], [-37.6627259, 145.0550656], [-37.6692516, 145.0765661], [-37.645193, 145.0251322], [-38.1251387, 145.1324923], [-37.7038277, 144.922772], [-38.1738062, 145.1138038], [-37.85882, 145.1690827], [-37.8074394, 145.1526063], [-38.1762356, 144.4670315], [-38.1625207, 144.3358765], [-37.9126423, 144.2547091], [-37.7647705, 144.979493], [-37.4189197, 144.5629283], [-37.7567959, 144.9438452], [-37.749954, 144.9515224], [-37.7461343, 144.9355953], [-36.3552503, 146.6932209], [-37.7695338, 144.9439162], [-36.4415415, 146.3600611], [-36.3124289, 146.8373871], [-37.7079221, 144.9445271], [-37.8947809, 145.0887812], [-37.8516295, 144.6681112], [-37.8902201, 144.7384257], [-37.7166198, 144.7378458], [-36.4545909, 142.0316534], [-37.0553963, 146.0892575], [-38.1501814, 144.3365628], [-37.7945593, 144.9498377], [-37.8598644, 145.0937264], [-37.960419, 145.1309247], [-38.0174787, 145.1031808], [-37.8819314, 144.9877039], [-38.1323437, 145.8546901], [-37.9111758, 144.758415], [-38.0941323, 145.2679567], [-36.6858782, 147.1400418], [-37.9171225, 144.6370971], [-38.0610905, 145.3110485], [-38.160913, 146.3623441], [-38.1626946, 145.1437993], [-37.9252542, 145.1455542], [-37.8046457, 144.9810428], [-37.7777955, 144.9850865], [-37.8069317, 144.97929], [-37.78568, 144.994097], [-37.7825329, 144.9765288], [-37.7895736, 144.9748586], [-37.785085, 144.9747455], [-38.3367081, 144.9688813], [-38.3712666, 144.8204583], [-38.3413545, 144.7391516], [-38.4746229, 145.0146548], [-38.3698995, 145.0121848], [-38.3686153, 144.9140255], [-38.3712798, 144.8570355], [-37.8057454, 144.8707239], [-37.813017, 144.8747409], [-37.8291112, 144.8702072], [-37.7966882, 144.9070653], [-37.7953198, 144.9001235], [-37.801338, 144.8979037], [-37.8202694, 144.8927468], [-37.7937196, 144.8884747], [-38.1784657, 145.1118796], [-38.1444758, 145.1318983], [-38.1628548, 145.1265137], [-38.1897848, 145.1277219], [-38.1082916, 145.1482318], [-38.1107562, 145.1515346], [-38.1482834, 145.1635664], [-38.1890809, 145.1039157], [-38.1395031, 145.134095], [-38.1175549, 145.1495815], [-38.1668512, 145.152665], [-38.1363641, 145.1439244], [-38.1758938, 144.3801502], [-38.1655406, 144.3776452], [-38.1588151, 144.3726792], [-38.1636084, 144.375531], [-38.1389705, 144.3507852], [-38.1305808, 144.3251023], [-38.1313416, 144.3443364], [-37.4242476, 144.5654711], [-37.4259535, 144.5694713], [-37.476369, 144.5859076], [-37.4947929, 144.6023124], [-36.1164205, 143.7269535], [-37.7460001, 142.0169998], [-37.7331136, 142.0102827], [-37.8241187, 145.042189], [-37.8160775, 145.0219655], [-37.8317884, 145.0550369], [-37.8205385, 145.0535552], [-37.8215524, 145.0463738], [-37.8151943, 145.0216791], [-37.8238464, 145.0444813], [-38.3084747, 145.1950862], [-38.3753568, 145.1241832], [-38.1975633, 145.1525482], [-38.3929648, 145.1622563], [-38.2564368, 145.1900443], [-38.2280289, 145.1786925], [-38.2314673, 145.1698489], [-38.2597825, 145.188783], [-38.3356451, 145.1767517], [-38.2888046, 145.1897733], [-37.6564681, 145.3710895], [-37.6595421, 145.5127488], [-37.6482007, 145.3751043], [-37.6594853, 145.5132499], [-37.6805745, 145.5322225], [-37.7266409, 145.1038298], [-37.7356986, 145.0744108], [-37.7438331, 145.066976], [-37.7330459, 145.0868743], [-37.7263959, 145.0697438], [-37.7413967, 145.0920191], [-37.7673805, 145.0368647], [-37.7480508, 145.0479924], [-37.7494789, 145.0521569], [-37.7559948, 145.0618806], [-37.718379, 145.0727967], [-38.3278311, 143.0770691], [-38.4856932, 142.977317], [-36.7195967, 142.187236], [-36.720197, 142.1818896], [-36.7144625, 142.2036121], [-36.4951052, 144.6110573], [-36.701205, 144.3228699], [-35.9477701, 142.4173332], [-37.7234312, 144.8814362], [-37.7353294, 144.8684827], [-37.8371258, 144.6649374], [-37.6214842, 145.0170367], [-36.8953057, 147.0646733], [-37.8958499, 144.6095406], [-38.053336, 144.3906729], [-37.8294756, 144.9538306], [-38.117451, 145.1617983], [-34.2006382, 142.1244172], [-37.7550418, 144.8579496], [-38.0729211, 145.4245969], [-37.9135235, 145.2205749], [-36.7024665, 142.1793607], [-37.6498831, 143.8822164], [-37.927129, 145.2427944], [-36.1115582, 146.8448398], [-38.1579386, 145.123213], [-38.1156617, 145.2410396], [-37.7799213, 145.3117731], [-37.9537899, 145.0223757], [-37.8623811, 145.0931766], [-37.6208964, 145.0057244], [-37.9330552, 145.1306783], [-37.8824095, 145.2304068], [-37.7137412, 145.0476956], [-37.6424413, 145.0908784], [-37.7233975, 144.6884944], [-38.1791312, 146.5622086], [-36.3924565, 145.3648047], [-37.6903827, 144.6104209], [-37.9748225, 145.2134942], [-37.2468855, 144.4518443], [-37.8926401, 145.0067585], [-36.6978607, 142.2021215], [-38.2425609, 144.3344359], [-38.0709209, 145.2946903], [-37.9882846, 145.2975101], [-35.7416767, 143.924834], [-38.1007339, 145.8237675], [-37.909409, 144.6147752], [-37.861721, 144.8172341], [-37.897534, 144.5966229], [-36.3676981, 145.4149163], [-37.9337659, 145.4423595], [-38.1331175, 145.2954784], [-38.3693258, 144.8598462], [-34.211956, 142.1247766], [-36.1256213, 144.7549098], [-38.093418, 145.2497137], [-37.8727334, 147.9922344], [-38.1083335, 145.3842345], [-37.7562535, 145.0073399], [-37.8333595, 144.6396881], [-36.7956436, 144.2853483], [-36.7627998, 144.3142049], [-36.7890725, 144.505329], [-37.7783643, 144.8204102], [-37.7758729, 144.8347337], [-37.7604839, 144.773101], [-37.7696156, 144.8925717], [-37.747362, 144.8101954], [-37.787054, 144.8445453], [-37.7879173, 144.8263655], [-37.7621192, 144.8268445], [-37.7987225, 144.8250124], [-37.7821453, 144.8732492], [-37.7521318, 144.8043535], [-37.807077, 144.8184564], [-37.7726215, 144.7642103], [-37.7526403, 144.7625795], [-37.784298, 144.8577157], [-37.7609132, 144.8058442], [-37.7680694, 144.7651699], [-37.7972716, 144.8192526], [-37.7827428, 144.826985], [-37.7868791, 144.8744884], [-35.3460257, 143.549728], [-35.334644, 143.5461593], [-35.338572, 143.5454644], [-35.0075007, 142.8703637], [-35.1864103, 143.3448586], [-35.2917118, 143.451983], [-37.1713534, 143.7031174], [-37.292142, 143.7837573], [-36.1000781, 147.0612782], [-37.7056572, 147.8319812], [-37.8734898, 148.0029157], [-37.8235956, 147.8592803], [-38.1961392, 146.5154046], [-38.2041215, 146.5253887], [-38.1939814, 146.5246537], [-38.2071121, 146.5559444], [-38.186286, 146.5529715], [-36.195124, 147.9034808], [-37.7535877, 145.7009668], [-37.781972, 145.6109684], [-37.7754722, 145.5269944], [-37.7819036, 145.5646433], [-37.7823294, 145.6086522], [-37.7931176, 145.6313743], [-37.7861991, 145.6180072], [-37.7525093, 145.6502096], [-35.0687612, 142.314621], [-36.358375, 146.3261259], [-36.3568157, 146.3101436], [-37.6002952, 141.6935588], [-36.5878185, 145.0156653], [-36.619674, 145.2190667], [-36.4465714, 144.9845765], [-38.1611468, 145.9459318], [-38.159191, 145.9374315], [-38.3635553, 142.4683621], [-38.3787048, 142.4857943], [-38.3930799, 142.504738], [-38.3779748, 142.4764469], [-38.3953833, 142.4710656], [-38.3850018, 142.5363031], [-38.3699553, 142.4643693], [-38.3859638, 142.598193], [-38.3016355, 142.5578081], [-38.3628636, 142.5076905], [-37.8600555, 145.1071368], [-37.8836855, 145.1828998], [-37.8974341, 145.1751742], [-37.8699256, 145.1758307], [-37.8690051, 145.1642367], [-37.8873326, 145.1522841], [-37.874126, 145.1488469], [-37.8609349, 145.1498728], [-37.8698301, 145.1347369], [-37.8789784, 145.1275174], [-37.8892404, 145.1404942], [-37.8638459, 145.123441], [-37.9047951, 145.1647512], [-37.9276333, 145.1729045], [-37.9211656, 145.16787], [-37.9124051, 145.174496], [-37.8888632, 145.115819], [-37.8684627, 145.1879698], [-37.9153964, 145.1845928], [-37.903358, 145.1939088], [-37.9172848, 145.1841445], [-37.9218071, 145.1734777], [-37.867841, 145.1045612], [-37.8110897, 144.9529136], [-37.6987804, 144.5761035], [-38.3755483, 144.9081772], [-38.2478846, 142.9234054], [-38.1359343, 144.3337485], [-37.9694217, 145.2796471], [-38.1968273, 145.4848437], [-37.9110718, 145.1208636], [-37.7152026, 144.9739608], [-37.5758407, 144.9333206], [-37.8951383, 145.2487758], [-37.6520053, 144.4252691], [-37.8481786, 145.0627797], [-37.8601506, 145.0655871], [-37.8722149, 145.1485507], [-37.8895184, 145.0098717], [-37.9180909, 145.1218237], [-37.9196347, 145.2627238], [-38.1171233, 145.3191294], [-37.9017272, 145.0243565], [-38.1550241, 144.3445552], [-37.7424484, 144.810994], [-37.8598054, 144.6599681], [-37.7473892, 144.7379522], [-37.8478362, 144.6809408], [-37.9530956, 145.5534277], [-37.7059763, 144.9086853], [-38.0853776, 145.3642563], [-38.115678, 145.1806027], [-37.9084685, 144.7404257], [-37.7896288, 144.816599], [-37.728284, 144.7982122], [-37.7934761, 144.7608298], [-37.68272, 145.1052446], [-37.5972749, 145.0840169], [-37.5856301, 141.406159], [-38.1496444, 145.9058143], [-38.0767757, 145.4418138], [-37.2421025, 144.4580378], [-37.8401244, 144.944257], [-37.8026788, 144.9780369], [-37.8457509, 145.1499281], [-36.4902131, 145.3384954], [-36.3673335, 146.6927728], [-37.8457974, 144.8686838], [-37.7607258, 145.3042707], [-37.7968346, 144.8934461], [-37.5370557, 143.8301201], [-37.9334871, 145.1312244], [-38.0753577, 144.3673847], [-38.4015717, 146.1555584], [-38.1206317, 145.141003], [-38.1001363, 145.9386996], [-37.5248693, 143.8252404], [-37.7229197, 144.9637268], [-36.5561085, 145.973023], [-38.0167971, 145.9552954], [-36.0502935, 144.1143446], [-37.6735216, 144.5518411], [-38.3481694, 141.5955642], [-38.2105582, 145.3779936], [-37.7176407, 144.9703477], [-37.6240205, 145.0125835], [-37.7070257, 145.1185966], [-38.0867889, 145.871412], [-37.6953815, 144.7678249], [-37.2071252, 145.0447616], [-38.0149416, 145.3237701], [-37.8457665, 144.6624398], [-38.3639545, 144.8895138], [-37.6643901, 144.5716003], [-38.10267, 145.2811884], [-35.7255388, 143.9145006], [-37.8542449, 144.7417278], [-38.0718076, 145.4907279], [-37.9233821, 145.0701973], [-37.634113, 144.9305249], [-38.114439, 145.7681924], [-38.0486783, 145.3711836], [-37.9769636, 145.1470092], [-38.0998264, 145.7130477], [-38.0814062, 145.4611272], [-38.0684711, 145.4379988], [-37.7711327, 144.8666398], [-37.8224863, 144.9531011], [-37.6824539, 144.6063122], [-37.7474163, 144.7789926], [-37.6564198, 145.0514213], [-37.6438375, 145.09128], [-38.0573765, 145.4105782], [-38.1443584, 144.3271051], [-38.3722912, 144.886817], [-37.737993, 144.7977008], [-36.4011704, 145.3948844], [-37.8283426, 147.6249154], [-37.7351881, 145.0622434], [-37.7092617, 145.1295105], [-38.1605045, 145.1907762], [-38.4119996, 144.8869032], [-38.0719922, 145.4391912], [-37.9844107, 145.063535], [-38.1055704, 145.1352712], [-37.9896752, 145.1619227], [-37.4113766, 144.9748755], [-38.2229726, 145.0696583], [-38.2573524, 145.0400361], [-38.1874463, 145.9990911], [-34.1862986, 142.1617713], [-37.6821445, 144.5871004], [-38.3043622, 146.4172055], [-37.9834391, 145.0677624], [-37.9821742, 145.1323684], [-37.9445629, 145.0393187], [-38.0716768, 145.4886207], [-36.3579925, 145.3918394], [-36.3896515, 145.4053904], [-37.8826099, 144.9861814], [-37.6452683, 145.0672037], [-38.0552943, 145.120526], [-37.7181242, 144.7773334], [-37.7784506, 145.170757], [-37.8278266, 147.6065217], [-37.9698443, 145.1506372], [-38.0154838, 145.9559965], [-38.0698588, 145.1443656], [-37.9022443, 145.0700349], [-37.8097463, 147.620453], [-38.1411074, 145.9292909], [-37.8420851, 145.2601501], [-36.7119774, 142.1978301], [-37.8864528, 144.7845346], [-37.7937423, 145.087406], [-37.8083812, 145.0822033], [-37.3423505, 144.1380118], [-37.7539905, 144.9195165], [-37.7363139, 144.7748058], [-37.193538, 145.7078157], [-37.8677089, 144.8257831], [-37.8714742, 144.8087704], [-37.865669, 144.8442794], [-37.8672948, 144.7815247], [-37.8817516, 144.7822347], [-37.8728996, 144.7826577], [-37.8332555, 144.8510268], [-36.7388049, 141.9506198], [-37.2841116, 142.9372726], [-37.5451485, 142.742268], [-37.9671918, 147.0808476], [-37.6739979, 144.4408933], [-37.6753285, 144.4353491], [-37.66494, 144.4371956], [-37.6571681, 144.4245531], [-37.8225147, 147.6193412], [-37.8240817, 147.6021479], [-37.7998315, 147.4563279], [-37.9099343, 147.7218643], [-37.5987688, 144.2232458], [-37.5610234, 143.8671688], [-37.542995, 143.831056], [-37.6028609, 143.8358077], [-37.5503052, 143.8586786], [-37.574893, 143.8386594], [-37.5769544, 143.8559934], [-37.5518191, 143.8952511], [-37.5484808, 143.86948], [-37.5407651, 143.8597794], [-37.5655641, 143.8628347], [-37.5581179, 143.8511317], [-37.5378382, 143.8371184], [-37.5524887, 143.8064486], [-38.1027487, 144.0590486], [-38.2440984, 144.169505], [-38.4118475, 144.178454], [-38.1927508, 144.4662276], [-38.165763, 144.3991908], [-38.2662583, 144.5279764], [-38.1152509, 144.6535401], [-38.1870784, 144.4691038], [-38.260859, 144.5259322], [-38.1596756, 144.5614476], [-38.1486567, 144.5751987], [-38.1778291, 144.3945915], [-38.1851367, 144.4558831], [-36.5484822, 145.989057], [-36.7638115, 144.2714966], [-36.7584884, 144.2941971], [-36.7419941, 144.2827322], [-36.7741749, 144.2591016], [-36.7264174, 144.307337], [-36.7582589, 144.276865], [-36.7722393, 144.275325], [-37.9795486, 145.3162315], [-38.0259668, 145.3255248], [-38.0073345, 145.2942065], [-37.9877207, 145.2660746], [-38.0328607, 145.3402301], [-37.9704549, 145.2491529], [-37.9810762, 145.2699995], [-37.9678054, 145.2683288], [-38.021863, 145.2995879], [-38.0513916, 145.3472183], [-38.0043807, 145.3038788], [-38.0397229, 145.304731], [-37.9717883, 145.2732512], [-38.0058731, 145.3159202], [-37.9994758, 145.2808191], [-38.0345271, 145.3432401], [-38.0171225, 145.3245502], [-38.001616, 145.3049318], [-37.6150564, 145.1281613], [-38.1310387, 145.8549357], [-37.7993943, 145.2857957], [-37.7864169, 145.3151011], [-37.8619265, 145.2268945], [-35.3329582, 143.5537791], [-38.0911682, 144.3597206], [-37.8046323, 145.1174878], [-37.881433, 145.0490513], [-38.0111742, 145.1735051], [-37.6358023, 144.8814533], [-38.135274, 145.2038946], [-37.7225146, 144.5729956], [-35.3283135, 143.5441786], [-37.6747417, 144.9290885], [-37.7815351, 144.7742103], [-38.0052818, 145.2712291], [-37.8127725, 145.0808268], [-36.3634679, 145.4128185], [-38.2564731, 145.0377827], [-37.908938, 145.0337748], [-37.6507847, 144.9269231], [-37.6763211, 144.5973802], [-37.8101577, 144.9620459], [-37.6840896, 144.5761001], [-37.6827993, 144.5610936], [-37.5970791, 143.8674743], [-37.9837081, 145.0714693], [-38.2378808, 146.3996488], [-37.7897054, 145.3114645], [-37.6585758, 145.0684171], [-37.6590522, 145.0777307], [-37.7973967, 145.3596798], [-37.816124, 145.1021218], [-34.2089606, 142.1453949], [-37.6485825, 144.8883039], [-37.7027046, 144.9151096], [-38.1586527, 144.3763445], [-38.206289, 144.3409128], [-38.2026464, 144.3386096], [-37.6832699, 145.1185659], [-38.2473695, 145.0497204], [-36.0174349, 146.0062307], [-37.7015422, 144.7575123], [-35.3375948, 143.5501924], [-37.5800021, 144.7008996], [-37.5828484, 144.7310055], [-36.8059019, 144.3542311], [-36.401818, 145.4089717], [-37.0227685, 145.1336125], [-37.9375472, 145.0741111], [-38.0616991, 145.2857559], [-37.8365579, 145.1896104], [-37.751954, 144.9342883], [-36.1277897, 146.8724614], [-37.3604913, 144.5324806], [-37.8470063, 145.2295696], [-37.8758433, 145.2435486], [-38.1678313, 145.9300847], [-38.3681869, 142.5112014], [-38.3585488, 142.4505864], [-37.5401027, 143.8321646], [-37.9038787, 144.6658206], [-37.7125588, 144.7406508], [-37.8500028, 144.7068303], [-38.1866375, 146.5522729], [-38.1899467, 146.5523189], [-38.3256189, 144.3157815], [-38.1929826, 146.5341965], [-34.179972, 142.1463142], [-38.1533418, 145.9434245], [-38.0644023, 145.4553364], [-37.9708151, 145.1539393], [-37.8202694, 144.8927468], [-37.7798083, 145.2898837], [-37.6759517, 144.5947059], [-37.6871797, 144.5778278], [-37.578761, 144.9254021], [-37.9352558, 145.0507129], [-37.8976946, 144.6378318], [-38.1745483, 144.3299258], [-37.7742524, 145.2934168], [-37.8368756, 145.1879626], [-38.0621833, 145.286989], [-37.8058145, 145.2882258], [-38.0587998, 145.2524805], [-38.0695987, 145.3377332], [-37.0545435, 146.0888329], [-36.3981368, 144.9761607], [-37.917382, 145.1385134], [-37.7885407, 144.8341673], [-37.8562059, 144.8888892], [-36.6970557, 144.3254461], [-35.7255388, 143.9145006], [-37.8280692, 144.8400023], [-37.7400078, 144.8629121], [-37.5117599, 145.749032], [-37.8282319, 144.9492638], [-38.1064474, 145.3016606], [-37.6864139, 144.7381843], [-37.8007415, 144.969539], [-37.074658, 144.204502], [-37.8154718, 144.694269], [-37.7097996, 145.1219796], [-37.895889, 144.6751693], [-37.7785451, 144.9398354], [-36.0869265, 145.4443096], [-35.9168928, 145.6574915], [-37.5754283, 144.7190949], [-37.9107025, 145.0617311], [-38.3709902, 144.8574495], [-38.1751057, 144.3375815], [-38.1169707, 145.2011139], [-37.7960329, 144.8855176], [-37.8922663, 145.0542324], [-38.3734297, 144.8848888], [-37.5901217, 144.9093878], [-38.0500202, 145.1484288], [-37.847173, 144.698224], [-37.8989498, 144.7288713], [-37.9827352, 145.1513973], [-37.7716493, 144.7579792], [-37.9829436, 145.0696274], [-38.1355078, 144.3466183], [-37.8495548, 145.0653651], [-37.7713228, 145.2173195], [-37.8640446, 145.052628], [-37.6742447, 144.4351353], [-37.7993913, 145.3676999], [-37.8532677, 144.7259574], [-38.1532419, 144.3597077], [-37.765878, 144.9114062], [-37.6782884, 144.9946462], [-38.0867291, 145.2947791], [-38.0018439, 145.2580443], [-37.8420039, 144.6618217], [-38.0169804, 145.1118141], [-37.887385, 144.9838862], [-37.5623829, 143.8577196], [-37.7472244, 145.0462095], [-37.9888012, 145.2652052], [-37.9167239, 145.0517486], [-37.9307486, 145.3582054], [-37.5948095, 144.9396403], [-37.8855843, 145.0782575], [-37.9359686, 145.0373662], [-38.3081567, 144.3226566], [-38.1196593, 145.3061281], [-36.3315964, 141.655634], [-37.8991898, 144.7393947], [-38.1196593, 145.3061281], [-38.3290949, 144.3175663], [-37.8173668, 144.8483504], [-37.7929463, 145.2823268], [-38.2644147, 145.0697101], [-38.0510588, 145.3005358], [-37.9117936, 147.7157795], [-37.865792, 144.8295422], [-37.5922953, 144.8938892], [-37.8273576, 145.0119186], [-38.0550725, 145.3971162], [-38.2247152, 144.3272916], [-37.8604387, 145.2692356], [-37.7120831, 144.7271175], [-37.8811235, 145.2938639], [-37.852221, 145.0173452], [-37.7352035, 144.9589096], [-37.7443246, 144.7744025], [-37.5219065, 143.835275], [-37.5303595, 144.9598556], [-37.5436524, 142.738536], [-37.883635, 145.2671822], [-38.4358345, 145.8246428], [-37.7011159, 145.072966], [-38.0334246, 145.2772051], [-37.5717692, 144.9090235], [-38.1798521, 144.321386], [-35.349326, 143.5438898], [-37.9645452, 145.0345543], [-38.2084784, 146.5511503], [-37.670029, 145.0776734], [-37.8211398, 144.8476156], [-37.7496899, 145.0030022], [-37.8890476, 144.6496023], [-37.6949928, 145.0547933], [-37.7400508, 145.0420965], [-38.0000847, 145.4098795], [-37.6555406, 144.9157056], [-38.5643988, 146.6745394], [-37.9714272, 144.4860825], [-38.0632689, 145.2471925], [-36.5530369, 146.726186], [-37.8430235, 144.0746163], [-37.6140878, 145.0299913], [-37.8086364, 145.1082171], [-37.7992558, 144.814101], [-36.7708059, 144.2569361], [-37.7477054, 144.9476199], [-38.1740002, 144.4031774], [-37.6238879, 144.9333126], [-37.8774956, 144.6583395], [-37.696353, 145.0144268], [-37.7245519, 144.7562603], [-37.700447, 144.7723834], [-37.7788962, 144.972419], [-37.664267, 145.059782], [-37.7927785, 145.2373863], [-37.880017, 145.0821243], [-37.5867024, 145.1264807], [-37.787018, 144.8736902], [-37.923128, 145.1232217], [-37.7905827, 145.1532797], [-37.9254788, 145.2453436], [-37.8618372, 145.2790438], [-37.9075801, 145.1662827], [-37.7727895, 145.1937127], [-37.7541576, 144.9085912], [-37.907724, 145.3444908], [-38.2052191, 146.5296163], [-37.8754837, 144.6904803], [-37.8869359, 145.2954634], [-38.3601878, 145.2014266], [-36.1396666, 146.8946248], [-36.1396666, 146.8946248], [-37.8363712, 145.2093865], [-37.9880679, 145.1756732], [-37.9878018, 145.185166], [-37.8100026, 145.2860059], [-37.6883166, 144.9291633], [-37.9238531, 145.1238274], [-37.8154745, 145.1397613], [-37.8103853, 144.8755555], [-37.8441517, 145.1374057], [-37.8116415, 145.0813587], [-37.8808989, 144.744164], [-37.8768105, 144.7491517], [-38.2181356, 144.5077112], [-38.4990326, 143.2090261], [-38.1351223, 145.8480413], [-37.703102, 144.7746413], [-37.8602091, 144.9876888], [-37.8918863, 144.7292238], [-37.8812456, 144.6805861], [-37.7249986, 144.9396936], [-38.1009171, 145.2809397], [-37.7962331, 144.943902], [-38.0965929, 147.0735771], [-37.6725031, 145.0190065], [-38.1065965, 145.2914072], [-37.7572258, 145.062723], [-37.7447033, 144.806372], [-37.7425665, 144.7923061], [-38.6541596, 146.1997224], [-37.8389891, 145.0976648], [-37.6951032, 144.5727219], [-37.7695554, 145.408757], [-37.7206607, 144.8003469], [-37.7479446, 144.571903], [-38.194925, 145.0930192], [-38.3700987, 144.8979022], [-38.1048096, 145.2588875], [-38.1058795, 145.2853341], [-37.7766576, 144.8246275], [-37.8872177, 145.0457641], [-37.9307936, 145.0073406], [-37.6019175, 144.2306841], [-37.9674453, 145.262858], [-37.9064996, 145.0773401], [-38.1927603, 146.5370905], [-38.1620295, 145.1315689], [-37.7268152, 145.1150218], [-37.5670312, 144.9320836], [-37.6616047, 144.9306625], [-37.6801517, 144.9283418], [-37.6062112, 145.1147483], [-37.8930682, 144.643983], [-37.8939336, 145.1455551], [-37.7518192, 145.1760672], [-37.3510761, 144.5367094], [-37.773248, 144.7557055], [-37.7894103, 145.235687], [-37.8080426, 145.0374022], [-38.2309321, 146.4318525], [-37.9332882, 145.198957], [-37.8151851, 145.2062098], [-37.8967267, 144.6397675], [-37.578761, 144.9254021], [-37.049656, 146.0665279], [-37.8238424, 145.0888359], [-38.1113566, 144.3459247], [-37.4086229, 143.8912303], [-37.4293629, 143.7866379], [-37.7875503, 145.1652989], [-37.7918691, 143.6085302], [-37.6768268, 144.0108709], [-38.1223246, 145.3304365], [-37.504292, 144.6080566], [-38.2683574, 146.4480531], [-37.8424602, 147.0669391], [-37.9194032, 144.6275999], [-37.8590203, 145.0013624], [-38.1795571, 146.2927085], [-38.2340697, 143.1422679], [-37.6112116, 145.0228511], [-37.7338523, 144.5721042], [-37.7384953, 144.7954847], [-37.6778638, 143.8259794], [-36.4970996, 144.6091439], [-36.3553711, 146.3288304], [-38.1858604, 144.3373966], [-36.6168462, 144.5052329], [-38.3611242, 143.5845237], [-37.3168273, 145.2910106], [-37.7175821, 144.6993561], [-37.908624, 144.7522372], [-37.8074417, 144.9000811], [-37.8100722, 145.3257228], [-37.7010435, 144.5568177], [-38.1138222, 144.3378883], [-37.6870593, 143.3680114], [-38.0599541, 145.4563071], [-38.5128481, 145.3560471], [-37.968177, 147.0860039], [-37.5580846, 144.0068692], [-38.134732, 145.8963902], [-36.8067764, 145.4216849], [-38.4574678, 145.2420477], [-37.3639388, 143.174975], [-36.7858904, 144.5012386], [-37.7366304, 144.7812723], [-38.2814468, 141.6141043], [-37.9210485, 145.026049], [-37.5325407, 144.9593659], [-37.6434819, 143.6839469], [-37.6522247, 144.8880921], [-38.0720154, 145.4124468], [-38.0142205, 145.0966844], [-37.8236381, 145.1520999], [-37.9065727, 144.719641], [-37.8018026, 145.09768], [-37.6765611, 144.5600969], [-37.8204698, 147.6075704], [-37.6709111, 144.9549673], [-37.588791, 144.8954015], [-37.6382254, 145.0959666], [-38.1564912, 145.1335627], [-37.7813207, 144.7646297], [-37.9787848, 145.2636712], [-38.2317656, 144.3692329], [-36.138181, 146.8988388], [-37.7465365, 145.0714442], [-37.9568492, 145.0470906], [-37.7249577, 144.6670012], [-37.5344688, 144.9644858], [-38.1089084, 145.2939161], [-37.6427026, 144.8799584], [-37.6050644, 145.0755294], [-37.871773, 144.6121385], [-37.5649361, 143.7833392], [-37.7924178, 145.2304703], [-38.0309243, 145.3053971], [-37.6150462, 145.0324658], [-37.4569303, 144.5974238], [-37.8253204, 145.1014242], [-38.1465376, 145.9376703], [-38.1346047, 145.20903], [-37.727703, 145.0198669], [-37.7559685, 144.9910642], [-37.4062898, 144.9751877], [-37.8881815, 144.646606], [-37.9282786, 145.1030717], [-37.536449, 144.9203098], [-37.0561501, 142.7735054], [-37.8005481, 145.2952392], [-37.7434532, 144.8015847], [-38.1772129, 145.1208403], [-38.1291658, 145.2939628], [-37.8885276, 145.1624927], [-37.9098814, 145.1432933], [-37.7302442, 144.9390955], [-37.7897398, 145.291583], [-37.7123039, 144.6276226], [-38.1890012, 146.5272968], [-38.0627127, 145.3894864], [-37.7604309, 145.3348107], [-37.9591858, 145.0673798], [-38.0515686, 145.381232], [-38.1409436, 145.2927464], [-38.0547025, 145.4187623], [-36.4028506, 145.3682011], [-37.8311551, 144.6634072], [-37.657745, 144.9165704], [-37.7255916, 144.8042982], [-37.7925634, 144.7613681], [-37.8604298, 144.6673357], [-37.9447698, 145.0227052], [-37.820019, 145.1204665], [-37.5937392, 145.0926724], [-36.7156019, 142.1794712], [-38.0659616, 145.4352785], [-37.7976248, 145.0548411], [-37.6535867, 144.4223095], [-38.1310371, 144.3386309], [-37.4160608, 144.9761489], [-37.5366801, 144.8982745], [-37.6487851, 144.4300737], [-38.0402512, 145.3169612], [-36.1011105, 146.6754035], [-38.1688632, 145.1876443], [-38.6326463, 145.7294672], [-38.0227858, 144.3998274], [-37.7242959, 144.8070243], [-38.2424804, 142.9171162], [-37.806367, 144.9656743], [-37.9899897, 145.2439521], [-37.6652345, 145.0037153], [-37.683853, 144.9139581], [-36.6174683, 146.2365807], [-38.0818176, 145.1246742], [-37.6970613, 145.0020491], [-37.7438153, 144.8867755], [-37.7788703, 144.918795], [-37.7286128, 144.793785], [-36.7191472, 144.2500139], [-37.7920864, 144.9457977], [-37.765989, 145.0883727], [-38.4847508, 142.972653], [-38.0725, 145.4717], [-38.0500202, 145.1484288], [-37.7371078, 144.9972433], [-38.1863129, 145.0960184], [-37.9704773, 145.2584464], [-37.970761, 145.265467], [-36.3896515, 145.4053904], [-37.8966876, 145.1018269], [-38.6084348, 145.5865957], [-38.5901938, 145.5836343], [-38.6306459, 145.7272974], [-37.6883488, 145.1111471], [-37.698736, 144.9197305], [-38.1415166, 145.165945], [-37.9475817, 143.2196172], [-37.9549426, 143.3419717], [-37.6859655, 143.3680506], [-37.8927712, 147.680159], [-37.8161186, 147.7481451], [-38.1583108, 144.3701134], [-37.5589779, 143.8859], [-37.9766337, 145.2100652], [-38.5128481, 145.3560471], [-37.8254735, 144.6832058], [-38.0947058, 145.2490714], [-38.3512125, 142.4457639], [-37.8236525, 147.6082838], [-37.8886429, 145.02594], [-37.0668711, 144.2224757], [-37.3126556, 144.5942731], [-37.3000964, 144.9484656], [-37.2961806, 144.9475756], [-37.5851284, 143.8405766], [-37.5460663, 143.7827335], [-36.1276083, 144.7464494], [-37.843981, 144.7176998], [-38.4755316, 145.9393389], [-38.6180841, 146.6667143], [-38.288223, 146.1794061], [-37.9634307, 146.9855551], [-36.3525047, 144.698486], [-37.7621129, 145.1525406], [-35.3312457, 143.5461181], [-37.570759, 144.9106206], [-38.1103809, 145.3364315], [-37.7911909, 144.9353268], [-37.8406208, 144.6422804], [-37.7185424, 145.0810905], [-38.1198901, 145.2972471], [-38.0081251, 145.0917467], [-36.1378986, 144.7246784], [-38.1419665, 145.8551248], [-37.8500295, 145.1046733], [-37.8550225, 144.5907673], [-37.8173395, 145.1956016], [-37.8556662, 144.6590575], [-38.1879749, 144.4743685], [-38.1197435, 145.1591729], [-37.6089586, 143.837059], [-38.2671761, 145.0147149], [-37.8481141, 145.1065124], [-37.7328287, 144.6619168], [-37.7484653, 145.0168509], [-38.1993342, 145.0834371], [-37.9729923, 145.1086711], [-38.2983511, 145.174249], [-38.4770278, 145.9373698], [-37.7576248, 145.3236029], [-37.7762196, 145.3836865], [-37.8022627, 145.3241263], [-37.6293656, 145.080646], [-37.8865874, 145.0012318], [-37.9741868, 145.2509887], [-37.7713602, 145.2763462], [-37.8762795, 145.2214068], [-37.7824779, 144.915023], [-37.9752769, 145.2761535], [-35.916933, 145.6504704], [-38.0555336, 145.3362148], [-37.2748655, 142.9404223], [-37.9430685, 145.0539816], [-37.6066548, 144.9121001], [-38.069367, 145.3392141], [-36.1171762, 146.8873769], [-37.3502015, 144.7429609], [-36.1132214, 146.8611331], [-37.6408335, 145.1316689], [-38.0889469, 145.2680874], [-35.9247558, 145.4809073], [-38.0696205, 145.2675451], [-38.0475601, 145.2876014], [-37.6942311, 144.5616251], [-37.9406694, 145.0229193], [-38.0809245, 145.283977], [-37.9146804, 145.4750055], [-37.9003329, 144.740286], [-37.6771654, 145.1277723], [-37.7710081, 145.0619988], [-38.0758709, 145.2743214], [-37.7915745, 144.7897671], [-37.8560913, 144.7415004], [-38.2249002, 145.0551636], [-37.7717801, 144.9654374], [-37.7887582, 145.0042238], [-38.1023373, 145.2653823], [-38.1744426, 145.1203665], [-37.647188, 145.0545303], [-38.3797087, 142.4845281], [-38.0022006, 145.2640515], [-34.2049042, 142.1490872], [-34.1825441, 142.1614424], [-37.8693244, 145.0616283], [-36.3626275, 145.4147536], [-38.0544805, 145.2985494], [-37.7574526, 144.9525215], [-38.1545617, 145.1217444], [-38.3673131, 145.2035469], [-37.9483167, 145.144353], [-38.0667682, 145.4856907], [-38.1380676, 145.1511032], [-37.7782342, 145.0399276], [-37.7131615, 145.1237753], [-38.2293259, 145.0433479], [-37.9100523, 144.6644662], [-37.7613524, 144.9389174], [-38.1269361, 145.8463104], [-36.7463302, 144.2623955], [-37.7770418, 145.5296845], [-37.9670418, 145.1618164], [-37.9929914, 145.1608864], [-37.9815397, 145.1671102], [-37.6042692, 143.838765], [-37.593878, 145.0912323], [-37.7433221, 144.9088767], [-37.8337735, 145.0560739], [-38.0562846, 145.3854378], [-37.7815344, 145.3933762], [-38.1540365, 145.1845277], [-36.0122255, 146.3963115], [-37.9276133, 145.079907], [-37.7662015, 144.9676865], [-38.1751807, 145.1395895], [-37.9090495, 145.3520359], [-37.8872459, 144.613694], [-37.7927634, 145.0901269], [-38.1317973, 144.3459934], [-38.0295379, 145.2756619], [-37.8742821, 145.0597478], [-37.8933386, 144.7283226], [-37.9500675, 145.1537159], [-38.2026843, 146.5460776], [-38.0870065, 145.2894944], [-37.6290442, 145.0285331], [-37.8403905, 144.8819833], [-36.7618266, 144.2463148], [-37.8923196, 145.0811053], [-38.1306217, 141.6283913], [-37.8855827, 145.0124348], [-37.6654632, 145.0105688], [-38.2246848, 145.179221], [-37.5972235, 144.9278319], [-37.9877319, 145.2108856], [-37.7049051, 144.802894], [-37.852305, 145.3106833], [-37.8083529, 145.0560364], [-38.1716147, 144.3171447], [-37.7046761, 144.9258903], [-38.0646586, 145.4561176], [-37.7537801, 144.9710427], [-37.7001031, 145.0492514], [-37.8463851, 144.6828452], [-37.8557995, 144.7379335], [-37.6690979, 144.9418383], [-37.670164, 144.9431904], [-38.0676326, 145.1242844], [-37.9088434, 144.7414876], [-37.7192713, 144.6599514], [-37.836161, 144.6797928], [-36.9226758, 144.7080152], [-37.8040712, 144.9612427], [-37.7839604, 144.9332113], [-37.7971307, 144.925456], [-37.803146, 144.9532514], [-37.8380165, 144.9800366], [-37.7950086, 144.9561816], [-37.7862779, 144.9315138], [-37.7960687, 144.9740047], [-37.8185451, 144.9886388], [-37.8045472, 144.9542491], [-37.796002, 144.9657369], [-37.7963049, 144.9652077], [-37.6791398, 144.5914669], [-37.7270021, 144.6536102], [-37.6792178, 144.5687115], [-37.6887564, 144.7391067], [-37.6979089, 144.5658761], [-34.2034488, 142.1571119], [-34.1981219, 142.1518053], [-34.1777983, 142.1546546], [-34.2038154, 142.1692465], [-34.1885838, 142.1643333], [-34.2344378, 142.1637905], [-34.1671536, 142.0636044], [-34.308352, 142.1904871], [-34.3886015, 141.5974202], [-34.4736, 142.3572303], [-38.0342846, 142.0002851], [-38.1696599, 146.262495], [-38.1881952, 146.2928061], [-38.1768346, 146.2993444], [-38.1900721, 146.2504293], [-38.1726888, 146.2592632], [-37.9227372, 145.0456533], [-37.9187322, 145.0594704], [-37.9293468, 145.0669258], [-37.923092, 145.0722758], [-37.9698806, 145.0682047], [-37.9618377, 145.0464401], [-37.9115093, 145.0406679], [-37.9824979, 145.0868], [-37.9380731, 145.0548936], [-37.9356977, 145.0820065], [-37.9250257, 145.0309958], [-37.9439232, 145.1075425], [-37.9595896, 145.0529943], [-37.982505, 145.0832549], [-37.9225211, 145.0392722], [-37.9287793, 145.0578326], [-37.9114843, 145.0613901], [-37.9590948, 145.0658162], [-37.9173989, 145.0314961], [-37.9829679, 145.0666572], [-37.9921812, 145.0885508], [-37.9933444, 145.0753996], [-38.2723277, 145.0287557], [-38.2209331, 145.0537651], [-38.223875, 145.0407728], [-38.1919312, 145.0817628], [-38.2244369, 145.0573686], [-38.2678217, 145.0189987], [-38.2417776, 145.054791], [-38.2202624, 145.068522], [-38.0818481, 142.8081335], [-38.080379, 142.8046412], [-38.2208434, 146.4176755], [-38.3202966, 146.3299908], [-38.3815387, 146.2725336], [-38.2221831, 146.4337936], [-38.3210273, 146.4249062], [-38.2294202, 146.4003845], [-38.2325995, 146.4141807], [-37.6506604, 142.3448409], [-37.8764373, 142.2961368], [-37.8740507, 142.6230841], [-36.5553076, 146.722927], [-38.2876805, 146.1775269], [-36.0598239, 145.2024992], [-37.3559989, 144.53033], [-38.1564876, 144.3483303], [-38.1573446, 144.3272339], [-38.1475132, 144.3463977], [-37.7718302, 145.0221658], [-37.7738228, 144.9995783], [-37.8864925, 144.9998164], [-37.8905174, 144.7132831], [-37.7980429, 144.9556666], [-37.6977552, 145.1220166], [-37.8326099, 144.9643361], [-38.1163344, 145.3400117], [-37.6043263, 143.8266074], [-37.7665851, 145.0211523], [-37.7658767, 144.8607101], [-36.8050581, 144.3506337], [-36.3745494, 146.2984722], [-34.1912305, 142.1557847], [-38.0771707, 145.3513138], [-37.8543262, 145.2604033], [-37.5964139, 144.7295253], [-37.8712039, 144.7701353], [-37.8956489, 144.7542586], [-37.9799125, 145.2215287], [-37.7789248, 144.9829139], [-34.5890267, 142.778248], [-37.756347, 144.8153408], [-36.2512743, 147.0346222], [-38.0645619, 145.3147267], [-38.4226021, 144.8375118], [-37.861705, 144.8189341], [-37.6860518, 144.5919333], [-38.0650638, 145.4351038], [-37.9228886, 145.1513062], [-38.2017054, 145.4855008], [-37.8579341, 145.2821279], [-37.8300656, 145.362334], [-38.1846437, 144.3244313], [-37.8620238, 144.5984596], [-37.7935705, 144.7897193], [-37.8580205, 144.6677467], [-34.1794314, 142.151382], [-37.9853906, 145.31134], [-38.0065128, 145.2969468], [-37.867263, 144.833795], [-37.7444262, 145.0619591], [-37.8528618, 145.0208771], [-38.0947819, 145.3424875], [-38.1089924, 145.2656576], [-37.9166575, 144.6459525], [-38.0012606, 145.2721415], [-38.2412562, 146.4038321], [-37.9584905, 145.0157506], [-37.9888012, 145.2652052], [-37.6182188, 145.0027628], [-38.2046653, 144.3036009], [-37.8758837, 145.0489731], [-38.2363333, 145.0354935], [-37.8721425, 144.6150374], [-38.0801059, 145.2110202], [-36.7870824, 144.2334209], [-37.7470993, 144.9990095], [-38.1101778, 145.1466785], [-38.1045068, 145.1546348], [-37.5051791, 144.6077279], [-37.709054, 144.9247029], [-37.5780516, 143.8426212], [-37.5961363, 144.9169585], [-37.7082855, 144.9087238], [-37.743368, 145.058336], [-37.6557463, 145.0815596], [-37.9344973, 145.0703543], [-37.6485624, 145.0195995], [-37.8994679, 145.04132], [-37.8937021, 145.4042151], [-36.7351988, 144.1356861], [-37.0634222, 144.2185193], [-37.8675584, 145.000349], [-37.9225016, 144.9960649], [-38.0454164, 145.3536936], [-37.9935804, 145.175757], [-37.9745287, 145.0372004], [-37.8884096, 145.0454851], [-37.7157102, 145.0999569], [-38.0336997, 145.2644942], [-37.8867722, 145.0700898], [-36.5933227, 146.3837116], [-37.9330072, 145.0005579], [-37.859252, 144.9976819], [-37.6801318, 145.024985], [-37.8212167, 144.875215], [-38.0159817, 145.3207126], [-37.6506208, 145.0294458], [-37.7777466, 145.2713566], [-38.0919637, 145.1331579], [-37.8882996, 144.7186106], [-38.392565, 145.1657837], [-38.2214422, 145.0445054], [-38.0948822, 145.1867312], [-37.8014333, 145.3146531], [-38.0290365, 144.0572138], [-36.4450622, 145.2304113], [-37.8797454, 145.1433852], [-37.719429, 144.9212062], [-37.8748997, 145.2200636], [-37.8348276, 144.9474585], [-37.6196732, 144.3441517], [-36.1201894, 146.897451], [-37.876844, 145.136819], [-37.8618716, 144.7291271], [-38.2528038, 144.3134311], [-38.1145511, 144.6478632], [-37.6753077, 144.553425], [-38.1655971, 144.3807139], [-37.9093666, 144.9893856], [-38.1659716, 144.313443], [-37.8877797, 145.1099983], [-36.7614514, 144.2705885], [-37.8630915, 145.1096746], [-36.1339569, 144.7603905], [-37.8642813, 144.726287], [-38.2081821, 144.3293982], [-37.7895432, 144.7640161], [-37.9212824, 145.0410131], [-37.7933596, 144.9463272], [-37.8392547, 145.1590034], [-37.7796003, 145.369269], [-37.8032018, 145.0620651], [-37.7748321, 145.2471891], [-38.176818, 146.2657275], [-37.3542935, 144.7469454], [-37.7907206, 145.3894112], [-37.736735, 144.9567986], [-37.9597445, 145.2170797], [-37.6801817, 145.1811828], [-37.8709116, 145.0382408], [-37.9800221, 145.1704822], [-37.6721901, 144.9220583], [-37.7869984, 145.003889], [-37.7215267, 144.9484002], [-37.7345771, 144.7541315], [-37.7353128, 145.0749801], [-34.1879128, 142.1651457], [-36.7205989, 144.2595794], [-38.3410337, 141.5942984], [-37.7900741, 145.2536598], [-37.9229673, 145.0422488], [-37.5827386, 144.9326136], [-37.7396879, 142.0310277], [-37.7345771, 144.7541315], [-38.3598807, 142.4604125], [-37.8223352, 145.1756175], [-37.79408, 145.1673111], [-37.9702978, 145.2026503], [-37.8764109, 145.4104584], [-37.6378882, 144.9146106], [-38.3887914, 142.2384889], [-37.5684818, 144.7185387], [-37.8259496, 145.1782632], [-38.0058, 145.4096], [-37.8327264, 144.6649266], [-37.7007045, 145.0212511], [-37.7906616, 144.8567396], [-37.7232491, 145.0171727], [-36.3698894, 142.9848991], [-38.0014316, 145.1444463], [-37.6073813, 145.0880031], [-37.8771339, 145.1892564], [-37.9947143, 145.2389323], [-37.6022136, 145.1135568], [-37.8421529, 144.7288896], [-37.7028643, 144.5452984], [-37.7626657, 144.8232077], [-37.6669615, 144.542711], [-37.8387354, 144.7179399], [-37.8812456, 144.6805861], [-37.8080577, 145.228928], [-37.5651083, 143.8383058], [-38.1734691, 144.2668877], [-37.6481272, 145.0079867], [-38.1007012, 144.0546324], [-36.2165512, 147.178689], [-37.995342, 145.3048659], [-37.7726581, 145.4648691], [-37.7776841, 145.2464067], [-37.7821142, 144.8199016], [-37.5009508, 144.5975636], [-36.1730513, 146.9396248], [-37.8966484, 145.3138693], [-38.1780325, 144.3957949], [-38.0100565, 145.0918306], [-37.8475685, 145.0722786], [-37.8437565, 144.6660596], [-37.7608486, 144.9937607], [-38.1628676, 145.3014903], [-34.2093347, 142.2048065], [-38.1018349, 145.3380453], [-35.730083, 142.3631021], [-36.6094204, 143.2586219], [-37.877135, 145.1395929], [-37.6445099, 144.9510165], [-38.0073689, 145.1729914], [-38.3339947, 144.9625686], [-37.4987926, 143.8054628], [-37.8344362, 144.9714613], [-37.2753396, 144.7278073], [-37.9097295, 144.6141008], [-37.7537327, 145.1409066], [-37.981214, 145.1345265], [-38.0653262, 145.3082867], [-37.6772408, 144.9264499], [-36.7797263, 144.2518119], [-37.9455369, 145.1391119], [-37.9367654, 145.0970338], [-37.9910357, 145.2919001], [-38.0615428, 145.4101358], [-37.8088059, 145.1671226], [-38.029792, 145.2557459], [-36.0473632, 144.1128005], [-37.6013556, 144.2254154], [-37.4907252, 144.5882601], [-37.5018106, 144.6077887], [-35.7316804, 143.9210522], [-37.9207605, 145.0871958], [-38.170627, 145.0864344], [-37.8457092, 145.0560735], [-37.8681747, 145.111663], [-37.8753402, 145.2533997], [-37.6097421, 144.9315534], [-37.7553989, 145.3133057], [-37.8047709, 145.254148], [-37.7314434, 142.0324058], [-37.9665052, 145.2410038], [-37.7690697, 145.1174842], [-37.952579, 145.0585436], [-38.2456105, 145.0936391], [-37.2997286, 144.9532619], [-37.6935231, 144.7612481], [-37.7026441, 144.8056491], [-37.7804257, 145.0367342], [-37.8640446, 145.052628], [-37.2979723, 144.9530559], [-37.7949398, 145.1507139], [-37.9930278, 145.092694], [-38.3889223, 142.503003], [-37.7305644, 145.1013269], [-38.1738062, 145.1138038], [-36.3914405, 145.3593615], [-37.8543859, 144.9917256], [-37.7755701, 144.9894119], [-37.9966962, 145.2079092], [-38.26405, 145.5647191], [-37.8480662, 145.2648132], [-37.9805657, 145.2403179], [-36.3754259, 145.4100974], [-37.8639265, 145.0391226], [-37.8471735, 145.0687855], [-38.0987171, 147.0699853], [-37.8734218, 148.0024372], [-37.8280098, 145.0558437], [-38.3849796, 142.4793744], [-38.2612533, 144.5277279], [-37.8357585, 145.0575707], [-36.122879, 144.7467663], [-37.0471901, 143.7407564], [-37.9589172, 145.3773732], [-37.7668225, 145.1054446], [-37.6648703, 144.9332299], [-37.9612027, 145.1378102], [-38.1532819, 144.3360346], [-38.2012782, 145.0933096], [-37.7627646, 145.0121832], [-37.8780697, 145.2150638], [-38.0942585, 145.5481206], [-38.1443584, 144.3271051], [-38.1957669, 145.1596648], [-37.8994679, 145.04132], [-37.8895184, 145.0098717], [-37.9307936, 145.0073406], [-37.8594967, 145.2024763], [-37.860799, 145.0543431], [-38.4754029, 145.9394147], [-37.771612, 145.0471057], [-37.8707259, 145.1325544], [-38.3225433, 144.3193439], [-37.7665415, 145.0460043], [-37.7567735, 145.1244441], [-37.8159401, 145.0463162], [-38.0449807, 145.2904039], [-38.0299487, 145.3517698], [-37.8154953, 145.1244253], [-37.7594518, 144.9150253], [-37.8288211, 144.9694758], [-37.5370557, 143.8301201], [-37.7698707, 144.8821206], [-37.7816453, 145.2561413], [-37.8734352, 144.9823477], [-37.7737064, 145.0439063], [-37.9876143, 145.0620765], [-37.9315438, 145.1816684], [-36.1641869, 145.8761789], [-37.8468429, 144.9956045], [-37.7812342, 145.1536095], [-37.9026445, 143.7212729], [-37.8160383, 145.0522949], [-37.8309273, 144.9858444], [-37.8137174, 145.038613], [-36.2768889, 145.2205129], [-38.0693278, 145.3009198], [-38.4755428, 145.9398335], [-37.0385961, 141.3023377], [-35.8982119, 141.9973826], [-37.6544839, 145.0940087], [-36.1948742, 147.8996575], [-37.8860405, 144.7590281], [-36.1290856, 146.8877909], [-37.6760778, 144.4226615], [-37.7085465, 145.0810721], [-37.8370563, 144.7433811], [-37.8040559, 144.8825285], [-37.5401069, 144.9554642], [-38.0476101, 145.35467], [-37.8771818, 145.2244335], [-37.8060774, 144.9736045], [-37.7197658, 144.8861891], [-36.7393993, 144.2990406], [-37.8665185, 144.7508185], [-37.5997658, 145.0883523], [-37.6973932, 144.7695004], [-37.7779916, 144.8401748], [-36.3830022, 145.4076719], [-37.9930654, 145.1615555], [-37.6061965, 145.1368564], [-37.6928397, 144.554698], [-37.7880587, 145.1378477], [-37.6822427, 145.0179727], [-37.9853251, 145.202979], [-37.602942, 145.1231927], [-37.9616541, 145.188519], [-37.7557131, 144.9991852], [-37.8652738, 144.9038325], [-37.6294289, 145.0835482], [-38.1880601, 144.4573824], [-37.7930901, 144.8780214], [-37.7673865, 145.0396906], [-37.6591305, 144.9256863], [-37.8686628, 144.9896805], [-38.0639766, 145.5087517], [-37.8394711, 144.8566955], [-38.2622081, 145.1925203], [-37.7820768, 144.9727772], [-38.1596497, 144.3946484], [-38.2023637, 144.3063572], [-37.7574033, 144.7880869], [-37.9954055, 145.2504174], [-37.7399374, 144.9687188], [-38.0832779, 145.2800565], [-37.5935748, 143.8306249], [-37.5860233, 145.1286218], [-38.3032676, 144.3413548], [-38.1594556, 145.1950928], [-38.0775006, 145.1265687], [-38.0697328, 145.413523], [-37.8082176, 147.6415133], [-37.7018602, 145.003944], [-37.5335323, 143.8180484], [-38.0912029, 145.2413408], [-38.306812, 144.331096], [-37.8482046, 144.6844578], [-37.9419679, 145.1903193], [-37.8276238, 145.1108677], [-38.0638376, 145.5081766], [-37.5329913, 144.898287], [-36.3088438, 145.0434262], [-37.919444, 145.0219412], [-38.0819145, 144.3371776], [-37.8978381, 145.0445142], [-37.8746867, 145.0050473], [-37.9024747, 145.0745828], [-37.8840266, 145.008321], [-37.8783922, 145.0088194], [-37.8884961, 145.039746], [-36.269462, 143.349702], [-38.0283034, 145.1032211], [-38.0201144, 145.1046866], [-38.039542, 145.1128212], [-38.0500585, 145.1228965], [-38.0537482, 145.1213788], [-38.0676326, 145.1242844], [-38.0726231, 145.1338512], [-35.9191446, 145.6541646], [-37.7303536, 144.9668323], [-37.7257917, 144.9470504], [-37.7205422, 144.944071], [-37.7473884, 144.9316642], [-37.7491827, 144.9430957], [-37.7359938, 144.9459562], [-37.7527223, 144.9624982], [-37.7402657, 144.9457536], [-37.7342222, 144.9608788], [-37.7536332, 144.9708538], [-37.7364525, 144.9809333], [-37.7373489, 144.9327914], [-37.7357372, 144.98245], [-37.7552829, 144.9669084], [-35.811249, 144.220831], [-35.9066474, 144.3012413], [-38.3362466, 143.5959681], [-38.3352069, 143.5787068], [-38.3455062, 143.5763279], [-38.3478146, 143.5797941], [-38.3661723, 143.5804863], [-37.8041688, 144.9891618], [-37.8013787, 145.002466], [-37.7969288, 144.9898056], [-38.0730087, 144.366313], [-38.1004354, 144.3275414], [-38.0191984, 144.4128669], [-38.0216572, 144.3945776], [-38.0884689, 144.3428638], [-38.1061409, 144.3368463], [-38.0971288, 144.322145], [-38.0311611, 145.2515648], [-38.1540365, 145.1845277], [-38.1981368, 145.4944821], [-38.2037091, 145.2351867], [-38.0290306, 145.2638857], [-38.1506679, 145.1757955], [-38.1058795, 145.2853341], [-38.1110448, 145.1746388], [-38.0875848, 145.2735171], [-38.0334321, 145.2639345], [-38.1471059, 145.2017625], [-38.1032532, 145.18732], [-38.1548144, 145.181134], [-38.1086036, 145.2755642], [-38.044222, 145.2753908], [-38.0814487, 145.2794321], [-38.116907, 145.2891373], [-38.1053784, 145.1927847], [-38.1143843, 145.2881394], [-38.1073308, 145.2810336], [-38.1117462, 145.1593563], [-38.1559169, 145.168848], [-38.0349741, 145.2661361], [-38.1012207, 145.2795623], [-37.4229491, 143.8908365], [-37.7903084, 145.2998885], [-37.7943686, 145.2785145], [-37.8108426, 145.2719773], [-37.7776841, 145.2464067], [-37.8311352, 145.2975227], [-37.7741916, 145.2570457], [-37.7972974, 145.2900012], [-37.7965461, 145.2994715], [-37.7906878, 145.2913931], [-37.8042889, 145.2841256], [-37.7773844, 145.2509866], [-37.8321502, 145.2704485], [-37.9711843, 145.2205342], [-37.9646228, 145.2197252], [-37.9962964, 145.2080824], [-37.9537656, 145.1963901], [-37.9561157, 145.2144755], [-37.9501794, 145.2191699], [-37.6597178, 144.9184353], [-37.6017404, 145.1385079], [-37.8801299, 145.2154338], [-38.0853776, 145.3642563], [-37.7587933, 144.965691], [-37.6266466, 145.0130218], [-37.7658353, 144.8621696], [-38.3666784, 142.4666302], [-37.908833, 144.7657536], [-37.9820954, 145.2230795], [-37.8113739, 145.171413], [-37.898901, 144.7284318], [-38.0853974, 145.2909628], [-37.7789457, 145.1222854], [-37.8004311, 145.1235745], [-37.8873176, 145.2253656], [-37.8002218, 145.1742833], [-38.0017612, 145.3451398], [-37.9327469, 145.159876], [-37.8716809, 144.7609127], [-38.3776883, 144.8249954], [-37.686654, 144.7354286], [-37.7016636, 144.7616822], [-37.9130218, 145.2736731], [-37.8854842, 145.1646773], [-37.8775993, 145.2428614], [-37.7122006, 145.1550542], [-37.8194365, 145.1398317], [-37.7665882, 145.2737319], [-37.8180013, 145.0932518], [-37.5644062, 144.7042584], [-37.6899886, 145.1421859], [-37.8647512, 145.1852622], [-37.830056, 145.257202], [-37.8890342, 145.2205301], [-37.9014919, 144.6508502], [-37.8645032, 145.0825485], [-37.874643, 145.29849], [-37.9052777, 145.1961041], [-37.8672488, 144.6755767], [-37.8294961, 145.1659191], [-37.860808, 145.2323055], [-37.6403647, 145.19228], [-37.8868059, 145.2676557], [-37.8331997, 145.0320307], [-37.8087443, 145.3455724], [-37.8753827, 145.1684895], [-37.8742972, 145.1301952], [-37.8185906, 145.2657439], [-37.8094925, 145.1909106], [-37.9022217, 145.0901007], [-37.7811699, 145.2689376], [-37.627337, 144.8881929], [-37.9076479, 145.1712517], [-37.9106226, 145.120772], [-37.7005025, 145.0811124], [-37.8746022, 144.6025248], [-37.866788, 145.1576859], [-37.7737064, 145.0439063], [-37.8809365, 144.6843476], [-37.8657587, 145.2193591], [-37.8114087, 145.0393991], [-37.8340825, 145.0599432], [-37.8083529, 145.0560364], [-37.7275104, 144.8959704], [-37.7870935, 145.3350863], [-37.7983245, 144.9515657], [-36.7617975, 144.2680855], [-36.7679363, 144.2970023], [-37.7958267, 145.0774356], [-37.8004252, 144.8938589], [-37.772439, 145.1856673], [-37.7817223, 145.0791439], [-37.713117, 144.7399016], [-36.4524839, 145.430789], [-36.4903505, 145.3441205], [-36.4663334, 145.3898141], [-37.7229788, 144.9901913], [-38.1029037, 145.1785215], [-38.1595169, 145.2433574], [-37.6574156, 145.0329745], [-37.833148, 145.0203649], [-37.7741724, 144.9257151], [-37.9074314, 144.6581086], [-37.9652104, 145.0596327], [-38.0071399, 145.3153909], [-37.8839343, 145.1837311], [-37.6939561, 145.1178877], [-37.8152095, 145.0810977], [-38.2747026, 145.0314953], [-37.4727655, 144.9777244], [-37.9707973, 145.1925216], [-36.3899622, 145.3587973], [-37.777953, 145.0217257], [-37.8237361, 145.1588284], [-36.3433397, 145.4022252], [-36.6618283, 144.3345358], [-36.7559615, 144.2785925], [-37.5494121, 143.8699404], [-37.932212, 145.1976213], [-36.6192928, 145.2135168], [-37.5636106, 144.7031677], [-37.7261293, 145.0757101], [-36.1309344, 146.8613304], [-37.7594518, 144.9150253], [-37.6291999, 145.0240465], [-37.8355583, 144.9329632], [-37.6432716, 144.5763555], [-37.8026511, 145.3229932], [-37.5644106, 144.895214], [-37.528056, 143.8366531], [-37.8972804, 144.660765], [-38.2009077, 146.5368325], [-37.7635721, 145.0852418], [-37.8107105, 145.1520451], [-38.1097571, 144.3346609], [-38.0592998, 145.1192156], [-37.5344052, 144.9622248], [-37.9896752, 145.1619227], [-38.2308652, 146.4160713], [-37.7298156, 144.9854531], [-37.5383694, 144.9980293], [-37.5428031, 144.8918076], [-37.5212549, 144.9574176], [-37.5652284, 143.7962458], [-37.7397394, 144.9019483], [-37.9652201, 147.0852299], [-37.8046469, 145.1264995], [-37.8028442, 144.9907114], [-37.9961399, 145.1622988], [-37.7180256, 144.7759793], [-36.4333555, 145.4020076], [-38.243304, 143.9899316], [-37.992617, 145.2362541], [-37.8792355, 144.736218], [-36.0570354, 145.2117007], [-37.7870385, 145.1313092], [-37.8996069, 145.0797427], [-38.1506783, 145.9259798], [-37.9030733, 144.6095264], [-37.841811, 145.0164435], [-38.0757598, 145.4813354], [-37.9793925, 145.0450056], [-37.8556662, 144.6590575], [-38.0496389, 145.3177988], [-38.0782005, 145.3285847], [-38.1181193, 145.3296451], [-37.7103579, 144.9379349], [-37.8765059, 145.0512765], [-37.7921411, 144.5513733], [-36.0770031, 143.2274158], [-37.7047558, 144.7682736], [-37.5532055, 143.8926227], [-37.7423288, 145.0047094], [-37.9855511, 145.0780022], [-36.4105584, 145.4400804], [-38.1531418, 144.2996927], [-38.0538309, 145.3966219], [-37.8275438, 144.7245522], [-37.9660769, 145.2043062], [-37.9217808, 144.6385099], [-37.9414281, 145.060487], [-37.6493113, 145.3730012], [-37.7597249, 145.1218866], [-37.7784329, 144.8509603], [-37.8936249, 145.0655787], [-37.3479146, 144.6194041], [-37.9415425, 145.1162262], [-37.594087, 144.7238045], [-37.6245887, 144.8782369], [-37.7230393, 144.6669357], [-37.8138846, 145.1245418], [-38.1110438, 145.1427362], [-37.5827609, 144.8969496], [-37.5755888, 144.7279223], [-37.7537095, 145.3105338], [-37.9699624, 145.2473747], [-37.8548709, 145.1645499], [-37.6054038, 145.0702751], [-38.0646556, 145.3873602], [-37.8285761, 147.6159652], [-37.6659249, 144.9320881], [-37.5846571, 144.7064684], [-38.069824, 145.4111607], [-38.0772504, 145.3626699], [-38.0820498, 145.333732], [-38.2991983, 145.1880884], [-38.240043, 143.9858368], [-37.5877032, 143.7218781], [-38.1656747, 145.9747597], [-35.9844377, 142.9084491], [-36.1775932, 146.9403564], [-38.1463767, 145.8509573], [-37.421252, 145.7096965], [-37.6906769, 143.6557261], [-37.8352385, 144.9886834], [-37.7066724, 144.9672233], [-37.4243205, 145.0581114], [-38.1022949, 144.3430741], [-38.0815005, 145.3261679], [-38.077815, 145.4413568], [-38.3050906, 144.338263], [-36.737943, 144.2691913], [-37.7895432, 144.7640161], [-37.8933386, 144.7283226], [-37.8642813, 144.726287], [-37.7345771, 144.7541315], [-37.71495, 144.7592747], [-37.5850114, 144.9065973], [-37.7645002, 144.9873566], [-37.0030548, 144.2566765], [-37.959736, 145.3883602], [-37.7704345, 144.7714034], [-37.7286128, 144.793785], [-38.1102562, 145.142934], [-37.8269058, 144.726894], [-37.6208847, 144.9284395]],\n",
       "                {\n",
       "  &quot;minOpacity&quot;: 0.5,\n",
       "  &quot;maxZoom&quot;: 13,\n",
       "  &quot;radius&quot;: 12,\n",
       "  &quot;blur&quot;: 15,\n",
       "}\n",
       "            );\n",
       "        \n",
       "    \n",
       "            heat_map_e8fde2032b7f9366fdaf215376b90f24.addTo(map_455eaa7e3f0988f22f3ce3268b50e7d5);\n",
       "        \n",
       "&lt;/script&gt;\n",
       "&lt;/html&gt;\" style=\"position:absolute;width:100%;height:100%;left:0;top:0;border:none !important;\" allowfullscreen webkitallowfullscreen mozallowfullscreen></iframe></div></div>"
      ],
      "text/plain": [
       "<folium.folium.Map at 0x20ce4228190>"
      ]
     },
     "execution_count": 27,
     "metadata": {},
     "output_type": "execute_result"
    }
   ],
   "source": [
    "# --- Ensure valid coordinates ---\n",
    "map_data = supply_df.copy()\n",
    "pts = map_data[['Latitude', 'Longitude']].dropna()\n",
    "pts = pts[np.isfinite(pts['Latitude']) & np.isfinite(pts['Longitude'])]\n",
    "\n",
    "# --- Initialize map centered at Melbourne ---\n",
    "map1 = folium.Map(location=[-37.8136, 144.9631], zoom_start=12)\n",
    "\n",
    "# --- Prepare heatmap data ---\n",
    "heatmap_points = pts[['Latitude', 'Longitude']].values.tolist()\n",
    "\n",
    "# --- Add HeatMap layer ---\n",
    "HeatMap(\n",
    "    data=heatmap_points,\n",
    "    radius=12,    # size of each point\n",
    "    blur=15,      # smoothness\n",
    "    max_zoom=13   # zoom sensitivity\n",
    ").add_to(map1)\n",
    "\n",
    "# --- Display map ---\n",
    "map1\n",
    "\n"
   ]
  },
  {
   "cell_type": "markdown",
   "id": "6ecd7d7e-d77e-43ac-a298-101689632be0",
   "metadata": {},
   "source": [
    "Childcare centres are clustered heavily around the inner city and inner-north (Melbourne, Carlton, Brunswick) and inner-south (St Kilda, Albert Park). Meanwhile, outer suburbs (north, west, east growth areas) show lower density, suggesting these will face greater pressure as child populations grow by 2040"
   ]
  },
  {
   "cell_type": "markdown",
   "id": "bd5c823e-190b-4b13-aab5-a43ca1b12325",
   "metadata": {},
   "source": [
    "### Insight 4: Service Type Breakdown\n",
    "Compare **Centre-Based** vs **Family Day Care** to see how childcare services are distributed across melbourne.\n"
   ]
  },
  {
   "cell_type": "code",
   "execution_count": 28,
   "id": "af619699-236c-4e16-bae3-02e5f7c1fcb1",
   "metadata": {},
   "outputs": [
    {
     "data": {
      "image/png": "[encoded data removed]",
      "text/plain": [
       "<Figure size 800x600 with 1 Axes>"
      ]
     },
     "metadata": {},
     "output_type": "display_data"
    }
   ],
   "source": [
    "plt.figure(figsize=(8, 6))  # set figure size\n",
    "supply_df['ServiceType'].value_counts().plot(\n",
    "    kind='bar',\n",
    "    color='skyblue',      # bar color\n",
    "    edgecolor='black'     # adds bar outlines for clarity\n",
    ")\n",
    "\n",
    "plt.title('Service Type Distribution', fontsize=14, fontweight='bold')  # title\n",
    "plt.xlabel('Service Type', fontsize=12)  # x-axis label\n",
    "plt.ylabel('Number of Centres', fontsize=12)  # y-axis label\n",
    "\n",
    "plt.xticks(rotation=45, ha='right', fontsize=10)  # rotate + align x labels\n",
    "plt.yticks(fontsize=10)  # y tick size\n",
    "plt.legend([\"Count of childcare services\"])\n",
    "plt.tight_layout()  # adjust layout to avoid cutoff\n",
    "plt.show()\n"
   ]
  },
  {
   "cell_type": "markdown",
   "id": "5e4edde0-d4c5-49d9-b418-5db4b968afe1",
   "metadata": {},
   "source": [
    "### Insight: Dominance of Centre-Based Care  \n",
    "Centre-Based Care overwhelmingly dominates childcare provision, while Family Day Care remains a very small proportion of services, highlighting limited diversity in service types."
   ]
  },
  {
   "cell_type": "markdown",
   "id": "19f8d086-641e-448d-bee6-0f2de320acd9",
   "metadata": {},
   "source": [
    "### Insight 5: Red Flag Suburbs\n",
    "Suburbs with **high growth** and **high future pressure**.  \n",
    "Criteria: `Growth_% > 30` **AND** `Future_Pressure > 800`.\n"
   ]
  },
  {
   "cell_type": "code",
   "execution_count": 29,
   "id": "4130c39d-575e-49b6-b200-afb0063c8ae6",
   "metadata": {},
   "outputs": [
    {
     "name": "stdout",
     "output_type": "stream",
     "text": [
      "📈 Top Suburbs by Number of Childcare Centres\n"
     ]
    },
    {
     "data": {
      "text/html": [
       "<style type=\"text/css\">\n",
       "#T_a2e60_row0_col0, #T_a2e60_row1_col0, #T_a2e60_row2_col0, #T_a2e60_row3_col0, #T_a2e60_row4_col0, #T_a2e60_row5_col0, #T_a2e60_row6_col0, #T_a2e60_row7_col0, #T_a2e60_row8_col0, #T_a2e60_row9_col0, #T_a2e60_row10_col0 {\n",
       "  font-weight: bold;\n",
       "}\n",
       "#T_a2e60_row0_col5, #T_a2e60_row4_col5, #T_a2e60_row6_col5, #T_a2e60_row8_col5, #T_a2e60_row10_col5 {\n",
       "  background-color: red;\n",
       "  color: white;\n",
       "  font-weight: bold;\n",
       "}\n",
       "</style>\n",
       "<table id=\"T_a2e60\">\n",
       "  <thead>\n",
       "    <tr>\n",
       "      <th class=\"blank level0\" >&nbsp;</th>\n",
       "      <th id=\"T_a2e60_level0_col0\" class=\"col_heading level0 col0\" >Suburb</th>\n",
       "      <th id=\"T_a2e60_level0_col1\" class=\"col_heading level0 col1\" >Pop2023</th>\n",
       "      <th id=\"T_a2e60_level0_col2\" class=\"col_heading level0 col2\" >Pop2040</th>\n",
       "      <th id=\"T_a2e60_level0_col3\" class=\"col_heading level0 col3\" >CentreCount</th>\n",
       "      <th id=\"T_a2e60_level0_col4\" class=\"col_heading level0 col4\" >Growth_%</th>\n",
       "      <th id=\"T_a2e60_level0_col5\" class=\"col_heading level0 col5\" >Future_Pressure</th>\n",
       "    </tr>\n",
       "  </thead>\n",
       "  <tbody>\n",
       "    <tr>\n",
       "      <th id=\"T_a2e60_level0_row0\" class=\"row_heading level0 row0\" >4</th>\n",
       "      <td id=\"T_a2e60_row0_col0\" class=\"data row0 col0\" >MELBOURNE CBD</td>\n",
       "      <td id=\"T_a2e60_row0_col1\" class=\"data row0 col1\" >4762</td>\n",
       "      <td id=\"T_a2e60_row0_col2\" class=\"data row0 col2\" >11498</td>\n",
       "      <td id=\"T_a2e60_row0_col3\" class=\"data row0 col3\" >11</td>\n",
       "      <td id=\"T_a2e60_row0_col4\" class=\"data row0 col4\" >141.5%</td>\n",
       "      <td id=\"T_a2e60_row0_col5\" class=\"data row0 col5\" >1045</td>\n",
       "    </tr>\n",
       "    <tr>\n",
       "      <th id=\"T_a2e60_level0_row1\" class=\"row_heading level0 row1\" >5</th>\n",
       "      <td id=\"T_a2e60_row1_col0\" class=\"data row1 col0\" >NORTH MELBOURNE</td>\n",
       "      <td id=\"T_a2e60_row1_col1\" class=\"data row1 col1\" >506</td>\n",
       "      <td id=\"T_a2e60_row1_col2\" class=\"data row1 col2\" >1472</td>\n",
       "      <td id=\"T_a2e60_row1_col3\" class=\"data row1 col3\" >10</td>\n",
       "      <td id=\"T_a2e60_row1_col4\" class=\"data row1 col4\" >190.9%</td>\n",
       "      <td id=\"T_a2e60_row1_col5\" class=\"data row1 col5\" >147</td>\n",
       "    </tr>\n",
       "    <tr>\n",
       "      <th id=\"T_a2e60_level0_row2\" class=\"row_heading level0 row2\" >0</th>\n",
       "      <td id=\"T_a2e60_row2_col0\" class=\"data row2 col0\" >CARLTON</td>\n",
       "      <td id=\"T_a2e60_row2_col1\" class=\"data row2 col1\" >412</td>\n",
       "      <td id=\"T_a2e60_row2_col2\" class=\"data row2 col2\" >868</td>\n",
       "      <td id=\"T_a2e60_row2_col3\" class=\"data row2 col3\" >10</td>\n",
       "      <td id=\"T_a2e60_row2_col4\" class=\"data row2 col4\" >110.7%</td>\n",
       "      <td id=\"T_a2e60_row2_col5\" class=\"data row2 col5\" >87</td>\n",
       "    </tr>\n",
       "    <tr>\n",
       "      <th id=\"T_a2e60_level0_row3\" class=\"row_heading level0 row3\" >8</th>\n",
       "      <td id=\"T_a2e60_row3_col0\" class=\"data row3 col0\" >SOUTH YARRA</td>\n",
       "      <td id=\"T_a2e60_row3_col1\" class=\"data row3 col1\" >100</td>\n",
       "      <td id=\"T_a2e60_row3_col2\" class=\"data row3 col2\" >208</td>\n",
       "      <td id=\"T_a2e60_row3_col3\" class=\"data row3 col3\" >9</td>\n",
       "      <td id=\"T_a2e60_row3_col4\" class=\"data row3 col4\" >108.0%</td>\n",
       "      <td id=\"T_a2e60_row3_col5\" class=\"data row3 col5\" >23</td>\n",
       "    </tr>\n",
       "    <tr>\n",
       "      <th id=\"T_a2e60_level0_row4\" class=\"row_heading level0 row4\" >1</th>\n",
       "      <td id=\"T_a2e60_row4_col0\" class=\"data row4 col0\" >DOCKLANDS</td>\n",
       "      <td id=\"T_a2e60_row4_col1\" class=\"data row4 col1\" >797</td>\n",
       "      <td id=\"T_a2e60_row4_col2\" class=\"data row4 col2\" >1888</td>\n",
       "      <td id=\"T_a2e60_row4_col3\" class=\"data row4 col3\" >7</td>\n",
       "      <td id=\"T_a2e60_row4_col4\" class=\"data row4 col4\" >136.9%</td>\n",
       "      <td id=\"T_a2e60_row4_col5\" class=\"data row4 col5\" >270</td>\n",
       "    </tr>\n",
       "    <tr>\n",
       "      <th id=\"T_a2e60_level0_row5\" class=\"row_heading level0 row5\" >7</th>\n",
       "      <td id=\"T_a2e60_row5_col0\" class=\"data row5 col0\" >PORT MELBOURNE</td>\n",
       "      <td id=\"T_a2e60_row5_col1\" class=\"data row5 col1\" >0</td>\n",
       "      <td id=\"T_a2e60_row5_col2\" class=\"data row5 col2\" >76</td>\n",
       "      <td id=\"T_a2e60_row5_col3\" class=\"data row5 col3\" >7</td>\n",
       "      <td id=\"T_a2e60_row5_col4\" class=\"data row5 col4\" >inf%</td>\n",
       "      <td id=\"T_a2e60_row5_col5\" class=\"data row5 col5\" >11</td>\n",
       "    </tr>\n",
       "    <tr>\n",
       "      <th id=\"T_a2e60_level0_row6\" class=\"row_heading level0 row6\" >9</th>\n",
       "      <td id=\"T_a2e60_row6_col0\" class=\"data row6 col0\" >SOUTHBANK</td>\n",
       "      <td id=\"T_a2e60_row6_col1\" class=\"data row6 col1\" >574</td>\n",
       "      <td id=\"T_a2e60_row6_col2\" class=\"data row6 col2\" >1436</td>\n",
       "      <td id=\"T_a2e60_row6_col3\" class=\"data row6 col3\" >6</td>\n",
       "      <td id=\"T_a2e60_row6_col4\" class=\"data row6 col4\" >150.2%</td>\n",
       "      <td id=\"T_a2e60_row6_col5\" class=\"data row6 col5\" >239</td>\n",
       "    </tr>\n",
       "    <tr>\n",
       "      <th id=\"T_a2e60_level0_row7\" class=\"row_heading level0 row7\" >6</th>\n",
       "      <td id=\"T_a2e60_row7_col0\" class=\"data row7 col0\" >PARKVILLE</td>\n",
       "      <td id=\"T_a2e60_row7_col1\" class=\"data row7 col1\" >296</td>\n",
       "      <td id=\"T_a2e60_row7_col2\" class=\"data row7 col2\" >594</td>\n",
       "      <td id=\"T_a2e60_row7_col3\" class=\"data row7 col3\" >5</td>\n",
       "      <td id=\"T_a2e60_row7_col4\" class=\"data row7 col4\" >100.7%</td>\n",
       "      <td id=\"T_a2e60_row7_col5\" class=\"data row7 col5\" >119</td>\n",
       "    </tr>\n",
       "    <tr>\n",
       "      <th id=\"T_a2e60_level0_row8\" class=\"row_heading level0 row8\" >3</th>\n",
       "      <td id=\"T_a2e60_row8_col0\" class=\"data row8 col0\" >KENSINGTON</td>\n",
       "      <td id=\"T_a2e60_row8_col1\" class=\"data row8 col1\" >709</td>\n",
       "      <td id=\"T_a2e60_row8_col2\" class=\"data row8 col2\" >1578</td>\n",
       "      <td id=\"T_a2e60_row8_col3\" class=\"data row8 col3\" >5</td>\n",
       "      <td id=\"T_a2e60_row8_col4\" class=\"data row8 col4\" >122.6%</td>\n",
       "      <td id=\"T_a2e60_row8_col5\" class=\"data row8 col5\" >316</td>\n",
       "    </tr>\n",
       "    <tr>\n",
       "      <th id=\"T_a2e60_level0_row9\" class=\"row_heading level0 row9\" >2</th>\n",
       "      <td id=\"T_a2e60_row9_col0\" class=\"data row9 col0\" >EAST MELBOURNE</td>\n",
       "      <td id=\"T_a2e60_row9_col1\" class=\"data row9 col1\" >112</td>\n",
       "      <td id=\"T_a2e60_row9_col2\" class=\"data row9 col2\" >237</td>\n",
       "      <td id=\"T_a2e60_row9_col3\" class=\"data row9 col3\" >2</td>\n",
       "      <td id=\"T_a2e60_row9_col4\" class=\"data row9 col4\" >111.6%</td>\n",
       "      <td id=\"T_a2e60_row9_col5\" class=\"data row9 col5\" >118</td>\n",
       "    </tr>\n",
       "    <tr>\n",
       "      <th id=\"T_a2e60_level0_row10\" class=\"row_heading level0 row10\" >10</th>\n",
       "      <td id=\"T_a2e60_row10_col0\" class=\"data row10 col0\" >WEST MELBOURNE</td>\n",
       "      <td id=\"T_a2e60_row10_col1\" class=\"data row10 col1\" >282</td>\n",
       "      <td id=\"T_a2e60_row10_col2\" class=\"data row10 col2\" >718</td>\n",
       "      <td id=\"T_a2e60_row10_col3\" class=\"data row10 col3\" >2</td>\n",
       "      <td id=\"T_a2e60_row10_col4\" class=\"data row10 col4\" >154.6%</td>\n",
       "      <td id=\"T_a2e60_row10_col5\" class=\"data row10 col5\" >359</td>\n",
       "    </tr>\n",
       "  </tbody>\n",
       "</table>\n"
      ],
      "text/plain": [
       "<pandas.io.formats.style.Styler at 0x20ce4158b90>"
      ]
     },
     "metadata": {},
     "output_type": "display_data"
    }
   ],
   "source": [
    "# --- Order by CentreCount ---\n",
    "ordered_by_centres = (\n",
    "    merged_df.sort_values(\"CentreCount\", ascending=False)\n",
    "    [[\"Suburb\", \"Pop2023\", \"Pop2040\", \"CentreCount\", \"Growth_%\", \"Future_Pressure\"]]\n",
    "    .head(15)\n",
    ").copy()\n",
    "\n",
    "# Ensure numeric and keep NaNs as NaN (not strings)\n",
    "ordered_by_centres[\"Future_Pressure\"] = pd.to_numeric(\n",
    "    ordered_by_centres[\"Future_Pressure\"], errors=\"coerce\"\n",
    ")\n",
    "\n",
    "# --- Threshold for Future Pressure ---\n",
    "pressure_thresh = 200  # or 800 per your criteria\n",
    "\n",
    "# --- Highlight only Future_Pressure (skip NaNs) ---\n",
    "def highlight_pressure(val):\n",
    "    if pd.isna(val):\n",
    "        return \"\"\n",
    "    return \"background-color: red; color: white; font-weight: bold;\" if float(val) > pressure_thresh else \"\"\n",
    "\n",
    "# --- Styled table ---\n",
    "styled_centres = (\n",
    "    ordered_by_centres.style\n",
    "        .applymap(highlight_pressure, subset=[\"Future_Pressure\"])\n",
    "        .set_properties(subset=[\"Suburb\"], **{\"font-weight\": \"bold\"})\n",
    "        .format({\n",
    "            \"Growth_%\": \"{:.1f}%\",\n",
    "            \"Future_Pressure\": \"{:.0f}\",\n",
    "        })\n",
    ")\n",
    "\n",
    "print(\"📈 Top Suburbs by Number of Childcare Centres\")\n",
    "display(styled_centres)\n",
    "\n"
   ]
  },
  {
   "cell_type": "markdown",
   "id": "acd7d2ab-9c8b-4e73-85a1-b7f368050cfb",
   "metadata": {},
   "source": [
    "### Insight: Hidden Gaps Despite High Centre Counts  \n",
    "Even suburbs with a large number of childcare centres, like Melbourne CBD and Docklands, still face severe future pressure due to rapid child population growth, indicating supply isn’t keeping pace with demand."
   ]
  },
  {
   "cell_type": "markdown",
   "id": "aa01c23e-a061-4134-b911-1e552b727bac",
   "metadata": {},
   "source": [
    "### Insight 6: Future Centre Shortfalls  \n",
    "Suburbs requiring the highest number of new childcare centres by 2040 to maintain today’s service levels.  \n",
    "**Criteria:** Based on 2023 children per centre baseline vs 2040 projected demand.  \n"
   ]
  },
  {
   "cell_type": "code",
   "execution_count": 30,
   "id": "0cf1a91c-544a-41fa-85cf-4594a5982223",
   "metadata": {},
   "outputs": [
    {
     "data": {
      "text/html": [
       "<div>\n",
       "<style scoped>\n",
       "    .dataframe tbody tr th:only-of-type {\n",
       "        vertical-align: middle;\n",
       "    }\n",
       "\n",
       "    .dataframe tbody tr th {\n",
       "        vertical-align: top;\n",
       "    }\n",
       "\n",
       "    .dataframe thead th {\n",
       "        text-align: right;\n",
       "    }\n",
       "</style>\n",
       "<table border=\"1\" class=\"dataframe\">\n",
       "  <thead>\n",
       "    <tr style=\"text-align: right;\">\n",
       "      <th></th>\n",
       "      <th>Suburb</th>\n",
       "      <th>Pop2023</th>\n",
       "      <th>Pop2040</th>\n",
       "      <th>CentreCount</th>\n",
       "      <th>Children_per_Centre_2023</th>\n",
       "      <th>Extra_Centres_Needed</th>\n",
       "    </tr>\n",
       "  </thead>\n",
       "  <tbody>\n",
       "    <tr>\n",
       "      <th>7</th>\n",
       "      <td>PORT MELBOURNE</td>\n",
       "      <td>0</td>\n",
       "      <td>76</td>\n",
       "      <td>7</td>\n",
       "      <td>0.000000</td>\n",
       "      <td>inf</td>\n",
       "    </tr>\n",
       "    <tr>\n",
       "      <th>5</th>\n",
       "      <td>NORTH MELBOURNE</td>\n",
       "      <td>506</td>\n",
       "      <td>1472</td>\n",
       "      <td>10</td>\n",
       "      <td>50.600000</td>\n",
       "      <td>19.090909</td>\n",
       "    </tr>\n",
       "    <tr>\n",
       "      <th>4</th>\n",
       "      <td>MELBOURNE CBD</td>\n",
       "      <td>4762</td>\n",
       "      <td>11498</td>\n",
       "      <td>11</td>\n",
       "      <td>432.909091</td>\n",
       "      <td>15.559849</td>\n",
       "    </tr>\n",
       "    <tr>\n",
       "      <th>0</th>\n",
       "      <td>CARLTON</td>\n",
       "      <td>412</td>\n",
       "      <td>868</td>\n",
       "      <td>10</td>\n",
       "      <td>41.200000</td>\n",
       "      <td>11.067961</td>\n",
       "    </tr>\n",
       "    <tr>\n",
       "      <th>8</th>\n",
       "      <td>SOUTH YARRA</td>\n",
       "      <td>100</td>\n",
       "      <td>208</td>\n",
       "      <td>9</td>\n",
       "      <td>11.111111</td>\n",
       "      <td>9.720000</td>\n",
       "    </tr>\n",
       "    <tr>\n",
       "      <th>1</th>\n",
       "      <td>DOCKLANDS</td>\n",
       "      <td>797</td>\n",
       "      <td>1888</td>\n",
       "      <td>7</td>\n",
       "      <td>113.857143</td>\n",
       "      <td>9.582183</td>\n",
       "    </tr>\n",
       "    <tr>\n",
       "      <th>9</th>\n",
       "      <td>SOUTHBANK</td>\n",
       "      <td>574</td>\n",
       "      <td>1436</td>\n",
       "      <td>6</td>\n",
       "      <td>95.666667</td>\n",
       "      <td>9.010453</td>\n",
       "    </tr>\n",
       "    <tr>\n",
       "      <th>3</th>\n",
       "      <td>KENSINGTON</td>\n",
       "      <td>709</td>\n",
       "      <td>1578</td>\n",
       "      <td>5</td>\n",
       "      <td>141.800000</td>\n",
       "      <td>6.128350</td>\n",
       "    </tr>\n",
       "    <tr>\n",
       "      <th>6</th>\n",
       "      <td>PARKVILLE</td>\n",
       "      <td>296</td>\n",
       "      <td>594</td>\n",
       "      <td>5</td>\n",
       "      <td>59.200000</td>\n",
       "      <td>5.033784</td>\n",
       "    </tr>\n",
       "    <tr>\n",
       "      <th>10</th>\n",
       "      <td>WEST MELBOURNE</td>\n",
       "      <td>282</td>\n",
       "      <td>718</td>\n",
       "      <td>2</td>\n",
       "      <td>141.000000</td>\n",
       "      <td>3.092199</td>\n",
       "    </tr>\n",
       "  </tbody>\n",
       "</table>\n",
       "</div>"
      ],
      "text/plain": [
       "             Suburb  Pop2023  Pop2040  CentreCount  Children_per_Centre_2023  \\\n",
       "7    PORT MELBOURNE        0       76            7                  0.000000   \n",
       "5   NORTH MELBOURNE      506     1472           10                 50.600000   \n",
       "4     MELBOURNE CBD     4762    11498           11                432.909091   \n",
       "0           CARLTON      412      868           10                 41.200000   \n",
       "8       SOUTH YARRA      100      208            9                 11.111111   \n",
       "1         DOCKLANDS      797     1888            7                113.857143   \n",
       "9         SOUTHBANK      574     1436            6                 95.666667   \n",
       "3        KENSINGTON      709     1578            5                141.800000   \n",
       "6         PARKVILLE      296      594            5                 59.200000   \n",
       "10   WEST MELBOURNE      282      718            2                141.000000   \n",
       "\n",
       "    Extra_Centres_Needed  \n",
       "7                    inf  \n",
       "5              19.090909  \n",
       "4              15.559849  \n",
       "0              11.067961  \n",
       "8               9.720000  \n",
       "1               9.582183  \n",
       "9               9.010453  \n",
       "3               6.128350  \n",
       "6               5.033784  \n",
       "10              3.092199  "
      ]
     },
     "execution_count": 30,
     "metadata": {},
     "output_type": "execute_result"
    }
   ],
   "source": [
    "suburb_baseline = merged_df.copy()\n",
    "\n",
    "# --- Step 1: Children per centre (2023) for each suburb ---\n",
    "suburb_baseline[\"Children_per_Centre_2023\"] = (\n",
    "    suburb_baseline[\"Pop2023\"] / suburb_baseline[\"CentreCount\"].replace(0, pd.NA)\n",
    ")\n",
    "\n",
    "# --- Step 2: Expected centres required in 2040 (per suburb) ---\n",
    "suburb_baseline[\"Centres_Required_2040\"] = (\n",
    "    suburb_baseline[\"Pop2040\"] / suburb_baseline[\"Children_per_Centre_2023\"]\n",
    ")\n",
    "\n",
    "# --- Step 3: Extra centres needed ---\n",
    "suburb_baseline[\"Extra_Centres_Needed\"] = (\n",
    "    suburb_baseline[\"Centres_Required_2040\"] - suburb_baseline[\"CentreCount\"]\n",
    ")\n",
    "\n",
    "# --- Cleaning ---\n",
    "suburb_baseline = suburb_baseline.dropna(subset=[\"Extra_Centres_Needed\"])\n",
    "\n",
    "# --- Step 4: Rank by extra centres needed ---\n",
    "suburb_needs_sorted = suburb_baseline.sort_values(\"Extra_Centres_Needed\", ascending=False)\n",
    "\n",
    "# Display top 10\n",
    "suburb_needs_sorted[[\"Suburb\", \"Pop2023\", \"Pop2040\", \"CentreCount\",\n",
    "                     \"Children_per_Centre_2023\", \"Extra_Centres_Needed\"]].head(10)\n"
   ]
  },
  {
   "cell_type": "code",
   "execution_count": 31,
   "id": "fa7b9920-c316-4a38-9644-79026c1020f8",
   "metadata": {},
   "outputs": [
    {
     "data": {
      "image/png": "[encoded data removed]",
      "text/plain": [
       "<Figure size 1200x600 with 1 Axes>"
      ]
     },
     "metadata": {},
     "output_type": "display_data"
    }
   ],
   "source": [
    "# --- Sort suburbs by extra centres needed ---\n",
    "sorted_needs = suburb_needs_sorted.head(15)  # top 15 suburbs\n",
    "\n",
    "# --- Line Plot ---\n",
    "plt.figure(figsize=(12, 6))\n",
    "plt.plot(\n",
    "    sorted_needs[\"Suburb\"],\n",
    "    sorted_needs[\"Extra_Centres_Needed\"],\n",
    "    marker=\"o\",\n",
    "    linestyle=\"-\",\n",
    "    color=\"darkorange\"\n",
    ")\n",
    "\n",
    "plt.xticks(rotation=45, ha=\"right\")\n",
    "plt.xlabel(\"Suburb\")\n",
    "plt.ylabel(\"Extra Centres Needed by 2040\")\n",
    "plt.title(\"Suburbs Needing More Childcare Centres by 2040\")\n",
    "plt.legend([\"Projected extra centres needed by 2040\"])\n",
    "plt.grid(True, linestyle=\"--\", alpha=0.6)\n",
    "plt.tight_layout()\n",
    "plt.show()\n"
   ]
  },
  {
   "cell_type": "markdown",
   "id": "6373486f-173d-44e1-b628-847d11a59210",
   "metadata": {},
   "source": [
    "### Insight: Urgent Demand for New Centres  \n",
    "North Melbourne and Melbourne CBD require the largest number of additional childcare centres by 2040, indicating critical areas where new infrastructure must be prioritised."
   ]
  },
  {
   "cell_type": "markdown",
   "id": "c9a82115-41a6-4363-8cc3-c23c757eca5c",
   "metadata": {},
   "source": [
    "# 📍 Childcare Finder Tools\n",
    "\n",
    "This section adds two interactive tools:\n",
    "\n",
    "**Tool 1 — Suburb & Service Type Filter**  \n",
    "Pick a suburb and service type (e.g., CENTRE BASED / FAMILY DAY CARE) to list matching centres with address and phone.\n",
    "\n",
    "**Tool 2 — Nearest Centre Locator (Parent / Developer)**  \n",
    "Enter an address and choose your role.  \n",
    "- **Parent:** shows the single nearest centre.  \n",
    "- **Developer:** shows the **top 3 nearest centres** and an **advisability** note based on nearest distance:  \n",
    "  - **< 1.0 km** → *Not advisable* (too close to an existing centre)  \n",
    "  - **1.0–2.0 km** → *Borderline*  \n",
    "  - **> 2.0 km** → *Advisable*  \n",
    "\n",
    "> Both tools read from `geocoded_output.csv`. Text fields are normalized to UPPERCASE for reliable matching.\n"
   ]
  },
  {
   "cell_type": "code",
   "execution_count": 32,
   "id": "73f8d3d0-10a9-42b3-917c-3f15bb44dc7e",
   "metadata": {},
   "outputs": [
    {
     "data": {
      "application/vnd.jupyter.widget-view+json": {
       "model_id": "c524041992f040caa4bf7d9d9c79b8b5",
       "version_major": 2,
       "version_minor": 0
      },
      "text/plain": [
       "Dropdown(description='Suburb:', layout=Layout(width='400px'), options=('ABBOTSFORD', 'ABERFELDIE', 'AINTREE', …"
      ]
     },
     "metadata": {},
     "output_type": "display_data"
    },
    {
     "data": {
      "application/vnd.jupyter.widget-view+json": {
       "model_id": "e17bca86728f448dbf2461fb0fe6ea49",
       "version_major": 2,
       "version_minor": 0
      },
      "text/plain": [
       "Dropdown(description='Service Type:', layout=Layout(width='400px'), options=('CENTRE-BASED CARE', 'FAMILY DAY …"
      ]
     },
     "metadata": {},
     "output_type": "display_data"
    },
    {
     "data": {
      "application/vnd.jupyter.widget-view+json": {
       "model_id": "f6e1c4807e0d4e87ac0fc29128002cdb",
       "version_major": 2,
       "version_minor": 0
      },
      "text/plain": [
       "Button(button_style='success', description='Search Centres', layout=Layout(width='200px'), style=ButtonStyle()…"
      ]
     },
     "metadata": {},
     "output_type": "display_data"
    },
    {
     "data": {
      "application/vnd.jupyter.widget-view+json": {
       "model_id": "4611f402d8924b44b9bf43bd0d9a606c",
       "version_major": 2,
       "version_minor": 0
      },
      "text/plain": [
       "Output()"
      ]
     },
     "metadata": {},
     "output_type": "display_data"
    }
   ],
   "source": [
    "# --- Tool 1: Suburb & Service Type Filter ---\n",
    "def tool1_find_childcare_centres():\n",
    "    # Load dataset\n",
    "    csv_url = \"https://raw.githubusercontent.com/MuzamilRafiq/Childcare/main/geocoded_output.csv\"\n",
    "    df = pd.read_csv(csv_url)\n",
    "    df.columns = df.columns.str.strip()\n",
    "    # Normalise text fields\n",
    "    for col in [\"Suburb\", \"ServiceType\"]:\n",
    "        if col in df.columns:\n",
    "            df[col] = df[col].astype(str).str.strip().str.upper()\n",
    "\n",
    "    # sanity check\n",
    "    need = {\"Suburb\", \"ServiceType\"}\n",
    "    if not need.issubset(df.columns):\n",
    "        raise ValueError(f\"Dataset missing columns: {sorted(list(need - set(df.columns)))}\")\n",
    "\n",
    "    # Dropdowns\n",
    "    suburb_dropdown = widgets.Dropdown(\n",
    "        options=sorted([s for s in df[\"Suburb\"].dropna().unique() if s]),\n",
    "        description=\"Suburb:\",\n",
    "        layout=widgets.Layout(width='400px')\n",
    "    )\n",
    "    service_dropdown = widgets.Dropdown(\n",
    "        options=sorted([s for s in df[\"ServiceType\"].dropna().unique() if s]),\n",
    "        description=\"Service Type:\",\n",
    "        layout=widgets.Layout(width='400px')\n",
    "    )\n",
    "\n",
    "    output = widgets.Output()\n",
    "\n",
    "    def on_button_click(_):\n",
    "        with output:\n",
    "            clear_output()\n",
    "            selected_suburb = suburb_dropdown.value\n",
    "            selected_service = service_dropdown.value\n",
    "\n",
    "            filtered = df[(df[\"Suburb\"] == selected_suburb) & (df[\"ServiceType\"] == selected_service)].copy()\n",
    "\n",
    "            if not filtered.empty:\n",
    "                cols = [c for c in [\"ServiceName\", \"ServiceType\", \"Address\", \"Suburb\", \"Phone\"] if c in filtered.columns]\n",
    "                print(f\"\\nFound {len(filtered)} centres in {selected_suburb} for {selected_service}:\\n\")\n",
    "                display(filtered[cols].reset_index(drop=True))\n",
    "            else:\n",
    "                print(\"\\nSorry, no matching centres found.\")\n",
    "\n",
    "    search_button = widgets.Button(\n",
    "        description=\"Search Centres\", button_style='success',\n",
    "        layout=widgets.Layout(width='200px')\n",
    "    )\n",
    "    search_button.on_click(on_button_click)\n",
    "\n",
    "    display(suburb_dropdown, service_dropdown, search_button, output)\n",
    "\n",
    "# Run Tool 1 UI\n",
    "tool1_find_childcare_centres()\n"
   ]
  },
  {
   "cell_type": "code",
   "execution_count": 33,
   "id": "a3218381-73c7-4f20-812a-012ec35c0ba9",
   "metadata": {},
   "outputs": [
    {
     "data": {
      "application/vnd.jupyter.widget-view+json": {
       "model_id": "dec4b03d34d0423b98f5a2cdaa0c3c02",
       "version_major": 2,
       "version_minor": 0
      },
      "text/plain": [
       "VBox(children=(ToggleButtons(description='I am a:', options=('Parent', 'Developer'), style=ToggleButtonsStyle(…"
      ]
     },
     "metadata": {},
     "output_type": "display_data"
    }
   ],
   "source": [
    "# --- Tool 2: Nearest Centre Locator (Parent / Developer) ---\n",
    "# thresholds\n",
    "NOT_ADVISABLE_KM = 1.0\n",
    "ADVISABLE_KM = 2.0\n",
    "\n",
    "def tool2_nearest_centre_locator():\n",
    "    # Load & clean\n",
    "    csv_url = \"https://raw.githubusercontent.com/MuzamilRafiq/Childcare/main/geocoded_output.csv\"\n",
    "    df = pd.read_csv(csv_url)\n",
    "    df.columns = df.columns.str.strip()\n",
    "\n",
    "    # required columns\n",
    "    need = {\"Latitude\",\"Longitude\",\"Suburb\",\"ServiceType\"}\n",
    "    if not need.issubset(df.columns):\n",
    "        raise ValueError(f\"Dataset missing columns: {sorted(list(need - set(df.columns)))}\")\n",
    "\n",
    "    # numeric coords\n",
    "    df[\"Latitude\"]  = pd.to_numeric(df[\"Latitude\"], errors=\"coerce\")\n",
    "    df[\"Longitude\"] = pd.to_numeric(df[\"Longitude\"], errors=\"coerce\")\n",
    "    df = df.dropna(subset=[\"Latitude\",\"Longitude\"]).copy()\n",
    "\n",
    "    # normalise text\n",
    "    for col in [\"Suburb\",\"ServiceType\"]:\n",
    "        df[col] = df[col].astype(str).str.strip().str.upper()\n",
    "\n",
    "    # Widgets\n",
    "    role_toggle = widgets.ToggleButtons(\n",
    "        options=[\"Parent\", \"Developer\"],\n",
    "        description=\"I am a:\",\n",
    "        style={'description_width': 'initial'}\n",
    "    )\n",
    "    suburb_dropdown = widgets.Dropdown(\n",
    "        options=sorted([s for s in df[\"Suburb\"].dropna().unique() if s]),\n",
    "        description=\"Suburb:\",\n",
    "        style={'description_width': 'initial'},\n",
    "        layout=widgets.Layout(width='50%')\n",
    "    )\n",
    "    service_dropdown = widgets.Dropdown(\n",
    "        options=sorted([s for s in df[\"ServiceType\"].dropna().unique() if s]),\n",
    "        description=\"Service Type:\",\n",
    "        style={'description_width': 'initial'},\n",
    "        layout=widgets.Layout(width='50%')\n",
    "    )\n",
    "    address_input = widgets.Text(\n",
    "        placeholder='Enter your address (e.g. 123 Swanston St, MELBOURNE)',\n",
    "        description='Your Address:',\n",
    "        style={'description_width': 'initial'},\n",
    "        layout=widgets.Layout(width='70%')\n",
    "    )\n",
    "    submit_button = widgets.Button(description=\"Find Nearest Centre(s)\", button_style='success')\n",
    "    output = widgets.Output()\n",
    "\n",
    "    # Update address label/placeholder when role changes\n",
    "    def _on_role_change(change):\n",
    "        if change[\"name\"] == \"value\":\n",
    "            if change[\"new\"] == \"Developer\":\n",
    "                address_input.description = \"Project Address:\"\n",
    "                address_input.placeholder = \"Enter proposed site address (e.g. 123 Swanston St, MELBOURNE)\"\n",
    "            else:\n",
    "                address_input.description = \"Your Address:\"\n",
    "                address_input.placeholder = \"Enter your address (e.g. 123 Swanston St, MELBOURNE)\"\n",
    "    role_toggle.observe(_on_role_change, names=\"value\")\n",
    "\n",
    "    def advisability_label(dist_km: float) -> str:\n",
    "        try:\n",
    "            d = float(dist_km)\n",
    "        except Exception:\n",
    "            return \"\"\n",
    "        if d < NOT_ADVISABLE_KM:\n",
    "            return f\"Not advisable (nearest < {NOT_ADVISABLE_KM:.1f} km)\"\n",
    "        elif d > ADVISABLE_KM:\n",
    "            return f\"Advisable (nearest > {ADVISABLE_KM:.1f} km)\"\n",
    "        else:\n",
    "            return f\"Borderline (nearest {NOT_ADVISABLE_KM:.1f}–{ADVISABLE_KM:.1f} km)\"\n",
    "\n",
    "    def _find(_):\n",
    "        with output:\n",
    "            clear_output()\n",
    "\n",
    "            if not address_input.value.strip():\n",
    "                print(\"❌ Please enter an address.\")\n",
    "                return\n",
    "\n",
    "            # Geocode\n",
    "            try:\n",
    "                geolocator = Nominatim(user_agent=\"childcare_locator_demo\")\n",
    "                location = geolocator.geocode(address_input.value.strip(), timeout=15)\n",
    "            except Exception as e:\n",
    "                print(f\"❌ Geocoding failed: {e}\")\n",
    "                return\n",
    "\n",
    "            if location is None:\n",
    "                print(\"❌ Could not geocode your address. Please try again or be more specific.\")\n",
    "                return\n",
    "\n",
    "            user_coords = (location.latitude, location.longitude)\n",
    "\n",
    "            # Filter by Suburb & ServiceType\n",
    "            filtered = df[(df[\"Suburb\"] == suburb_dropdown.value) &\n",
    "                          (df[\"ServiceType\"] == service_dropdown.value)].copy()\n",
    "            if filtered.empty:\n",
    "                print(\"❌ No childcare centres found for this suburb + service type.\")\n",
    "                return\n",
    "\n",
    "            # Compute distances\n",
    "            filtered = filtered.copy()\n",
    "            filtered[\"Distance_km\"] = filtered.apply(\n",
    "                lambda r: geodesic(user_coords, (r[\"Latitude\"], r[\"Longitude\"])).km,\n",
    "                axis=1\n",
    "            )\n",
    "            filtered = filtered.sort_values(\"Distance_km\").reset_index(drop=True)\n",
    "\n",
    "            role = role_toggle.value\n",
    "            if role == \"Developer\":\n",
    "                top_n = 3\n",
    "                nearest_rows = filtered.head(top_n).copy()\n",
    "                nearest_rows[\"Advisability\"] = nearest_rows[\"Distance_km\"].map(advisability_label)\n",
    "\n",
    "                nearest = nearest_rows.iloc[0]\n",
    "                print(f\"✅ Nearest centre is {nearest.get('ServiceName','(Unnamed)')} at {nearest['Distance_km']:.2f} km — {advisability_label(nearest['Distance_km'])}\\n\")\n",
    "\n",
    "                cols = [c for c in [\"ServiceName\",\"ServiceType\",\"Address\",\"Suburb\",\"Phone\",\"Distance_km\",\"Advisability\"] if c in nearest_rows.columns]\n",
    "                display(nearest_rows[cols])\n",
    "            else:\n",
    "                nearest = filtered.iloc[0]\n",
    "                print(\"✅ Nearest Centre\")\n",
    "                print(f\"   • Name: {nearest.get('ServiceName','(Unnamed)')}\")\n",
    "                print(f\"   • Address: {nearest.get('Address','N/A')}, {nearest.get('Suburb','')}\")\n",
    "                print(f\"   • Phone: {nearest.get('Phone','N/A')}\")\n",
    "                print(f\"   • Distance: {nearest['Distance_km']:.2f} km\")\n",
    "\n",
    "    submit_button.on_click(_find)\n",
    "\n",
    "    display(widgets.VBox([role_toggle, suburb_dropdown, service_dropdown, address_input, submit_button, output]))\n",
    "\n",
    "# Run Tool 2 UI\n",
    "tool2_nearest_centre_locator()\n"
   ]
  },
  {
   "cell_type": "code",
   "execution_count": null,
   "id": "ec8a61b3-082b-4cfa-ae82-b43c8c8f5f4a",
   "metadata": {},
   "outputs": [],
   "source": []
  }
 ],
 "metadata": {
  "kernelspec": {
   "display_name": "Python 3",
   "language": "python",
   "name": "python3"
  },
  "language_info": {
   "codemirror_mode": {
    "name": "ipython",
    "version": 3
   },
   "file_extension": ".py",
   "mimetype": "text/x-python",
   "name": "python",
   "nbconvert_exporter": "python",
   "pygments_lexer": "ipython3",
   "version": "3.13.5"
  }
 },
 "nbformat": 4,
 "nbformat_minor": 5
}
