{
 "cells": [
  {
   "cell_type": "code",
   "execution_count": 70,
   "id": "128d932c",
   "metadata": {},
   "outputs": [],
   "source": [
    "import pandas as pd\n",
    "from sklearn.model_selection import train_test_split\n",
    "from sklearn.linear_model import LinearRegression\n",
    "from sklearn.metrics import mean_squared_error\n",
    "import numpy as np\n",
    "from sklearn.preprocessing import StandardScaler\n",
    "import seaborn as sns\n",
    "from sklearn.metrics import r2_score"
   ]
  },
  {
   "cell_type": "code",
   "execution_count": 71,
   "id": "73c95689",
   "metadata": {},
   "outputs": [],
   "source": [
    "# Load the dataset\n",
    "df = pd.read_csv('/Users/jenniferyau/Documents/Deakin unit/2023 T3/SIT782/Case/left_dev_res_bldg-2.csv')\n"
   ]
  },
  {
   "cell_type": "markdown",
   "id": "5e7b33f2",
   "metadata": {},
   "source": [
    "## Data Clean and Pre-processing"
   ]
  },
  {
   "cell_type": "code",
   "execution_count": 72,
   "id": "5b38c2ea",
   "metadata": {},
   "outputs": [],
   "source": [
    "# handle missing column for \"year_completed\" with median\n",
    "df['year_completed'].fillna(df['year_completed'].median(), inplace=True)"
   ]
  },
  {
   "cell_type": "code",
   "execution_count": 73,
   "id": "707686f4",
   "metadata": {},
   "outputs": [],
   "source": [
    "# handle missing column for \"construction_year\" with median\n",
    "df['construction_year'].fillna(df['construction_year'].median(), inplace=True)\n",
    "\n",
    "# handle missing column for \"refurbished_year\" with median\n",
    "df['refurbished_year'].fillna(df['refurbished_year'].median(), inplace=True)"
   ]
  },
  {
   "cell_type": "code",
   "execution_count": 74,
   "id": "7668257e",
   "metadata": {},
   "outputs": [],
   "source": [
    "# drop column \"census_year\", \"dweliing_type\", \"dweliing_number\", \"has_showers\" , \"number_of_floors_above_ground \"\n",
    "df.drop('census_year', axis=1, inplace=True)"
   ]
  },
  {
   "cell_type": "code",
   "execution_count": 75,
   "id": "cffdbafc",
   "metadata": {},
   "outputs": [],
   "source": [
    "df.drop('street_address', axis=1, inplace=True)\n",
    "df.drop('geopoint', axis=1, inplace=True)\n",
    "df.drop('dwelling_type', axis=1, inplace=True)\n",
    "df.drop('dwelling_number', axis=1, inplace=True)\n",
    "df.drop('has_showers', axis=1, inplace=True)\n",
    "df.drop('property_id', axis=1, inplace=True)"
   ]
  },
  {
   "cell_type": "code",
   "execution_count": 76,
   "id": "b1bd9a08",
   "metadata": {},
   "outputs": [],
   "source": [
    "df.drop('number_of_floors_above_ground', axis=1, inplace=True)\n",
    "df.drop('predominant_space_use', axis=1, inplace=True)\n",
    "df.drop('accessibility_type', axis=1, inplace=True)\n",
    "df.drop('accessibility_type_description', axis=1, inplace=True)\n",
    "df.drop('accessibility_rating', axis=1, inplace=True)\n",
    "df.drop('bicycle_spaces', axis=1, inplace=True)"
   ]
  },
  {
   "cell_type": "code",
   "execution_count": 77,
   "id": "cb7bd066",
   "metadata": {},
   "outputs": [],
   "source": [
    "# put column \"clue_small_area\", \"status\" into label encoding\n",
    "from sklearn.preprocessing import LabelEncoder\n",
    "\n",
    "labelencoder = LabelEncoder()\n",
    "df['clue_small_area'] = labelencoder.fit_transform(df['clue_small_area'])\n",
    "df['status'] = labelencoder.fit_transform(df['status'])"
   ]
  },
  {
   "cell_type": "code",
   "execution_count": 78,
   "id": "aa69f518",
   "metadata": {},
   "outputs": [
    {
     "data": {
      "text/html": [
       "<div>\n",
       "<style scoped>\n",
       "    .dataframe tbody tr th:only-of-type {\n",
       "        vertical-align: middle;\n",
       "    }\n",
       "\n",
       "    .dataframe tbody tr th {\n",
       "        vertical-align: top;\n",
       "    }\n",
       "\n",
       "    .dataframe thead th {\n",
       "        text-align: right;\n",
       "    }\n",
       "</style>\n",
       "<table border=\"1\" class=\"dataframe\">\n",
       "  <thead>\n",
       "    <tr style=\"text-align: right;\">\n",
       "      <th></th>\n",
       "      <th>status</th>\n",
       "      <th>year_completed</th>\n",
       "      <th>clue_small_area</th>\n",
       "      <th>clue_block</th>\n",
       "      <th>resi_dwellings</th>\n",
       "      <th>studio_dwe</th>\n",
       "      <th>one_bdrm_dwe</th>\n",
       "      <th>two_bdrm_dwe</th>\n",
       "      <th>three_bdrm_dwe</th>\n",
       "      <th>student_apartments</th>\n",
       "      <th>...</th>\n",
       "      <th>hospital_flr</th>\n",
       "      <th>recreation_flr</th>\n",
       "      <th>publicdispaly_flr</th>\n",
       "      <th>community_flr</th>\n",
       "      <th>car_spaces</th>\n",
       "      <th>bike_spaces</th>\n",
       "      <th>longitude</th>\n",
       "      <th>latitude</th>\n",
       "      <th>construction_year</th>\n",
       "      <th>refurbished_year</th>\n",
       "    </tr>\n",
       "  </thead>\n",
       "  <tbody>\n",
       "    <tr>\n",
       "      <th>0</th>\n",
       "      <td>2</td>\n",
       "      <td>2006.0</td>\n",
       "      <td>6</td>\n",
       "      <td>342</td>\n",
       "      <td>17</td>\n",
       "      <td>0</td>\n",
       "      <td>0</td>\n",
       "      <td>0</td>\n",
       "      <td>0</td>\n",
       "      <td>0</td>\n",
       "      <td>...</td>\n",
       "      <td>0</td>\n",
       "      <td>0</td>\n",
       "      <td>0</td>\n",
       "      <td>0</td>\n",
       "      <td>0</td>\n",
       "      <td>0</td>\n",
       "      <td>144.945030</td>\n",
       "      <td>-37.802822</td>\n",
       "      <td>1890.0</td>\n",
       "      <td>2002.0</td>\n",
       "    </tr>\n",
       "    <tr>\n",
       "      <th>1</th>\n",
       "      <td>2</td>\n",
       "      <td>2005.0</td>\n",
       "      <td>6</td>\n",
       "      <td>333</td>\n",
       "      <td>12</td>\n",
       "      <td>0</td>\n",
       "      <td>0</td>\n",
       "      <td>0</td>\n",
       "      <td>0</td>\n",
       "      <td>0</td>\n",
       "      <td>...</td>\n",
       "      <td>0</td>\n",
       "      <td>0</td>\n",
       "      <td>0</td>\n",
       "      <td>0</td>\n",
       "      <td>0</td>\n",
       "      <td>0</td>\n",
       "      <td>144.945947</td>\n",
       "      <td>-37.802049</td>\n",
       "      <td>2005.0</td>\n",
       "      <td>2002.0</td>\n",
       "    </tr>\n",
       "    <tr>\n",
       "      <th>2</th>\n",
       "      <td>2</td>\n",
       "      <td>2013.0</td>\n",
       "      <td>12</td>\n",
       "      <td>414</td>\n",
       "      <td>3</td>\n",
       "      <td>0</td>\n",
       "      <td>0</td>\n",
       "      <td>0</td>\n",
       "      <td>3</td>\n",
       "      <td>0</td>\n",
       "      <td>...</td>\n",
       "      <td>0</td>\n",
       "      <td>0</td>\n",
       "      <td>0</td>\n",
       "      <td>0</td>\n",
       "      <td>0</td>\n",
       "      <td>0</td>\n",
       "      <td>144.944719</td>\n",
       "      <td>-37.806791</td>\n",
       "      <td>1970.0</td>\n",
       "      <td>2002.0</td>\n",
       "    </tr>\n",
       "    <tr>\n",
       "      <th>3</th>\n",
       "      <td>2</td>\n",
       "      <td>2014.0</td>\n",
       "      <td>12</td>\n",
       "      <td>409</td>\n",
       "      <td>28</td>\n",
       "      <td>0</td>\n",
       "      <td>17</td>\n",
       "      <td>11</td>\n",
       "      <td>0</td>\n",
       "      <td>0</td>\n",
       "      <td>...</td>\n",
       "      <td>0</td>\n",
       "      <td>0</td>\n",
       "      <td>0</td>\n",
       "      <td>0</td>\n",
       "      <td>0</td>\n",
       "      <td>28</td>\n",
       "      <td>144.942096</td>\n",
       "      <td>-37.806072</td>\n",
       "      <td>1888.0</td>\n",
       "      <td>2014.0</td>\n",
       "    </tr>\n",
       "    <tr>\n",
       "      <th>4</th>\n",
       "      <td>2</td>\n",
       "      <td>2007.0</td>\n",
       "      <td>6</td>\n",
       "      <td>1012</td>\n",
       "      <td>0</td>\n",
       "      <td>0</td>\n",
       "      <td>0</td>\n",
       "      <td>0</td>\n",
       "      <td>0</td>\n",
       "      <td>0</td>\n",
       "      <td>...</td>\n",
       "      <td>0</td>\n",
       "      <td>0</td>\n",
       "      <td>0</td>\n",
       "      <td>0</td>\n",
       "      <td>0</td>\n",
       "      <td>0</td>\n",
       "      <td>144.939286</td>\n",
       "      <td>-37.800374</td>\n",
       "      <td>1972.5</td>\n",
       "      <td>2002.0</td>\n",
       "    </tr>\n",
       "    <tr>\n",
       "      <th>...</th>\n",
       "      <td>...</td>\n",
       "      <td>...</td>\n",
       "      <td>...</td>\n",
       "      <td>...</td>\n",
       "      <td>...</td>\n",
       "      <td>...</td>\n",
       "      <td>...</td>\n",
       "      <td>...</td>\n",
       "      <td>...</td>\n",
       "      <td>...</td>\n",
       "      <td>...</td>\n",
       "      <td>...</td>\n",
       "      <td>...</td>\n",
       "      <td>...</td>\n",
       "      <td>...</td>\n",
       "      <td>...</td>\n",
       "      <td>...</td>\n",
       "      <td>...</td>\n",
       "      <td>...</td>\n",
       "      <td>...</td>\n",
       "      <td>...</td>\n",
       "    </tr>\n",
       "    <tr>\n",
       "      <th>1169</th>\n",
       "      <td>3</td>\n",
       "      <td>2012.0</td>\n",
       "      <td>0</td>\n",
       "      <td>245</td>\n",
       "      <td>36</td>\n",
       "      <td>0</td>\n",
       "      <td>0</td>\n",
       "      <td>20</td>\n",
       "      <td>16</td>\n",
       "      <td>0</td>\n",
       "      <td>...</td>\n",
       "      <td>0</td>\n",
       "      <td>0</td>\n",
       "      <td>0</td>\n",
       "      <td>0</td>\n",
       "      <td>56</td>\n",
       "      <td>137</td>\n",
       "      <td>144.964800</td>\n",
       "      <td>-37.802300</td>\n",
       "      <td>1983.0</td>\n",
       "      <td>2002.0</td>\n",
       "    </tr>\n",
       "    <tr>\n",
       "      <th>1170</th>\n",
       "      <td>3</td>\n",
       "      <td>2012.0</td>\n",
       "      <td>2</td>\n",
       "      <td>620</td>\n",
       "      <td>23</td>\n",
       "      <td>0</td>\n",
       "      <td>0</td>\n",
       "      <td>12</td>\n",
       "      <td>11</td>\n",
       "      <td>0</td>\n",
       "      <td>...</td>\n",
       "      <td>0</td>\n",
       "      <td>0</td>\n",
       "      <td>0</td>\n",
       "      <td>0</td>\n",
       "      <td>35</td>\n",
       "      <td>25</td>\n",
       "      <td>144.982577</td>\n",
       "      <td>-37.809940</td>\n",
       "      <td>1972.5</td>\n",
       "      <td>2002.0</td>\n",
       "    </tr>\n",
       "    <tr>\n",
       "      <th>1171</th>\n",
       "      <td>3</td>\n",
       "      <td>2012.0</td>\n",
       "      <td>10</td>\n",
       "      <td>807</td>\n",
       "      <td>372</td>\n",
       "      <td>0</td>\n",
       "      <td>140</td>\n",
       "      <td>161</td>\n",
       "      <td>71</td>\n",
       "      <td>0</td>\n",
       "      <td>...</td>\n",
       "      <td>0</td>\n",
       "      <td>0</td>\n",
       "      <td>0</td>\n",
       "      <td>0</td>\n",
       "      <td>111</td>\n",
       "      <td>153</td>\n",
       "      <td>144.959900</td>\n",
       "      <td>-37.825000</td>\n",
       "      <td>1972.5</td>\n",
       "      <td>2002.0</td>\n",
       "    </tr>\n",
       "    <tr>\n",
       "      <th>1172</th>\n",
       "      <td>3</td>\n",
       "      <td>2012.0</td>\n",
       "      <td>2</td>\n",
       "      <td>621</td>\n",
       "      <td>14</td>\n",
       "      <td>0</td>\n",
       "      <td>0</td>\n",
       "      <td>3</td>\n",
       "      <td>11</td>\n",
       "      <td>0</td>\n",
       "      <td>...</td>\n",
       "      <td>0</td>\n",
       "      <td>0</td>\n",
       "      <td>0</td>\n",
       "      <td>0</td>\n",
       "      <td>58</td>\n",
       "      <td>39</td>\n",
       "      <td>144.978950</td>\n",
       "      <td>-37.809569</td>\n",
       "      <td>1972.5</td>\n",
       "      <td>2002.0</td>\n",
       "    </tr>\n",
       "    <tr>\n",
       "      <th>1173</th>\n",
       "      <td>3</td>\n",
       "      <td>2012.0</td>\n",
       "      <td>6</td>\n",
       "      <td>2383</td>\n",
       "      <td>276</td>\n",
       "      <td>0</td>\n",
       "      <td>102</td>\n",
       "      <td>169</td>\n",
       "      <td>5</td>\n",
       "      <td>0</td>\n",
       "      <td>...</td>\n",
       "      <td>0</td>\n",
       "      <td>0</td>\n",
       "      <td>0</td>\n",
       "      <td>0</td>\n",
       "      <td>234</td>\n",
       "      <td>225</td>\n",
       "      <td>144.939255</td>\n",
       "      <td>-37.790192</td>\n",
       "      <td>1950.0</td>\n",
       "      <td>2002.0</td>\n",
       "    </tr>\n",
       "  </tbody>\n",
       "</table>\n",
       "<p>1174 rows × 33 columns</p>\n",
       "</div>"
      ],
      "text/plain": [
       "      status  year_completed  clue_small_area  clue_block  resi_dwellings  \\\n",
       "0          2          2006.0                6         342              17   \n",
       "1          2          2005.0                6         333              12   \n",
       "2          2          2013.0               12         414               3   \n",
       "3          2          2014.0               12         409              28   \n",
       "4          2          2007.0                6        1012               0   \n",
       "...      ...             ...              ...         ...             ...   \n",
       "1169       3          2012.0                0         245              36   \n",
       "1170       3          2012.0                2         620              23   \n",
       "1171       3          2012.0               10         807             372   \n",
       "1172       3          2012.0                2         621              14   \n",
       "1173       3          2012.0                6        2383             276   \n",
       "\n",
       "      studio_dwe  one_bdrm_dwe  two_bdrm_dwe  three_bdrm_dwe  \\\n",
       "0              0             0             0               0   \n",
       "1              0             0             0               0   \n",
       "2              0             0             0               3   \n",
       "3              0            17            11               0   \n",
       "4              0             0             0               0   \n",
       "...          ...           ...           ...             ...   \n",
       "1169           0             0            20              16   \n",
       "1170           0             0            12              11   \n",
       "1171           0           140           161              71   \n",
       "1172           0             0             3              11   \n",
       "1173           0           102           169               5   \n",
       "\n",
       "      student_apartments  ...  hospital_flr  recreation_flr  \\\n",
       "0                      0  ...             0               0   \n",
       "1                      0  ...             0               0   \n",
       "2                      0  ...             0               0   \n",
       "3                      0  ...             0               0   \n",
       "4                      0  ...             0               0   \n",
       "...                  ...  ...           ...             ...   \n",
       "1169                   0  ...             0               0   \n",
       "1170                   0  ...             0               0   \n",
       "1171                   0  ...             0               0   \n",
       "1172                   0  ...             0               0   \n",
       "1173                   0  ...             0               0   \n",
       "\n",
       "      publicdispaly_flr  community_flr  car_spaces  bike_spaces   longitude  \\\n",
       "0                     0              0           0            0  144.945030   \n",
       "1                     0              0           0            0  144.945947   \n",
       "2                     0              0           0            0  144.944719   \n",
       "3                     0              0           0           28  144.942096   \n",
       "4                     0              0           0            0  144.939286   \n",
       "...                 ...            ...         ...          ...         ...   \n",
       "1169                  0              0          56          137  144.964800   \n",
       "1170                  0              0          35           25  144.982577   \n",
       "1171                  0              0         111          153  144.959900   \n",
       "1172                  0              0          58           39  144.978950   \n",
       "1173                  0              0         234          225  144.939255   \n",
       "\n",
       "       latitude  construction_year  refurbished_year  \n",
       "0    -37.802822             1890.0            2002.0  \n",
       "1    -37.802049             2005.0            2002.0  \n",
       "2    -37.806791             1970.0            2002.0  \n",
       "3    -37.806072             1888.0            2014.0  \n",
       "4    -37.800374             1972.5            2002.0  \n",
       "...         ...                ...               ...  \n",
       "1169 -37.802300             1983.0            2002.0  \n",
       "1170 -37.809940             1972.5            2002.0  \n",
       "1171 -37.825000             1972.5            2002.0  \n",
       "1172 -37.809569             1972.5            2002.0  \n",
       "1173 -37.790192             1950.0            2002.0  \n",
       "\n",
       "[1174 rows x 33 columns]"
      ]
     },
     "execution_count": 78,
     "metadata": {},
     "output_type": "execute_result"
    }
   ],
   "source": [
    "df"
   ]
  },
  {
   "cell_type": "code",
   "execution_count": 79,
   "id": "d0629a00",
   "metadata": {},
   "outputs": [
    {
     "name": "stdout",
     "output_type": "stream",
     "text": [
      "            status  year_completed  clue_small_area   clue_block  \\\n",
      "count  1174.000000     1174.000000      1174.000000  1174.000000   \n",
      "mean      1.830494     2012.412266         4.928450   516.663543   \n",
      "std       0.562594        5.141018         3.591929   476.873074   \n",
      "min       0.000000     2002.000000         0.000000     1.000000   \n",
      "25%       2.000000     2010.000000         2.000000   104.000000   \n",
      "50%       2.000000     2012.000000         4.000000   403.000000   \n",
      "75%       2.000000     2016.000000         7.000000   781.000000   \n",
      "max       3.000000     2023.000000        12.000000  2547.000000   \n",
      "\n",
      "       resi_dwellings   studio_dwe  one_bdrm_dwe  two_bdrm_dwe  \\\n",
      "count     1174.000000  1174.000000   1174.000000   1174.000000   \n",
      "mean        76.191652     1.161840     21.487223     26.979557   \n",
      "std        155.269669     9.596961     60.291034     75.038061   \n",
      "min          0.000000     0.000000      0.000000      0.000000   \n",
      "25%          0.000000     0.000000      0.000000      0.000000   \n",
      "50%          2.000000     0.000000      0.000000      0.000000   \n",
      "75%         75.750000     0.000000      0.000000      3.000000   \n",
      "max       1139.000000   142.000000    537.000000    627.000000   \n",
      "\n",
      "       three_bdrm_dwe  student_apartments  ...  hospital_flr  recreation_flr  \\\n",
      "count     1174.000000         1174.000000  ...   1174.000000     1174.000000   \n",
      "mean         4.614140           14.233390  ...    112.131175       62.219761   \n",
      "std         15.883801           76.772891  ...   2817.457760      552.699099   \n",
      "min          0.000000            0.000000  ...      0.000000        0.000000   \n",
      "25%          0.000000            0.000000  ...      0.000000        0.000000   \n",
      "50%          0.000000            0.000000  ...      0.000000        0.000000   \n",
      "75%          0.000000            0.000000  ...      0.000000        0.000000   \n",
      "max        185.000000          783.000000  ...  94402.000000    10000.000000   \n",
      "\n",
      "       publicdispaly_flr  community_flr   car_spaces  bike_spaces  \\\n",
      "count        1174.000000    1174.000000  1174.000000  1174.000000   \n",
      "mean            4.249574      12.774276    45.810051    47.819421   \n",
      "std            80.003622     153.146641   110.737174   121.730131   \n",
      "min             0.000000       0.000000     0.000000     0.000000   \n",
      "25%             0.000000       0.000000     0.000000     0.000000   \n",
      "50%             0.000000       0.000000     0.000000     0.000000   \n",
      "75%             0.000000       0.000000    34.750000    30.000000   \n",
      "max          2245.000000    3468.000000  1275.000000  2068.000000   \n",
      "\n",
      "         longitude     latitude  construction_year  refurbished_year  \n",
      "count  1174.000000  1174.000000        1174.000000       1174.000000  \n",
      "mean    144.953167   -37.810788        1969.287053       2001.652470  \n",
      "std       0.015843     0.012051          29.890255          4.930567  \n",
      "min     144.901272   -37.849229        1855.000000       1931.000000  \n",
      "25%     144.943217   -37.819897        1972.500000       2002.000000  \n",
      "50%     144.955985   -37.811043        1972.500000       2002.000000  \n",
      "75%     144.963590   -37.802967        1972.500000       2002.000000  \n",
      "max     144.990561   -37.776195        2017.000000       2018.000000  \n",
      "\n",
      "[8 rows x 33 columns]\n"
     ]
    }
   ],
   "source": [
    "print(df.describe())"
   ]
  },
  {
   "cell_type": "markdown",
   "id": "0b4d9473",
   "metadata": {},
   "source": [
    "## Linear regression"
   ]
  },
  {
   "cell_type": "markdown",
   "id": "9ca80d87",
   "metadata": {},
   "source": [
    "Target variable : resi_dwellings"
   ]
  },
  {
   "cell_type": "code",
   "execution_count": 80,
   "id": "4bb8e088",
   "metadata": {},
   "outputs": [],
   "source": [
    "# group by 'year_completed' and calculate the sum of 'resi_dwellings'\n",
    "yearly_sum = df.groupby('year_completed')['resi_dwellings'].sum().reset_index()\n",
    "\n",
    "# rename the column \n",
    "yearly_sum.rename(columns={'resi_dwellings': 'total_resi_dwellings'}, inplace=True)"
   ]
  },
  {
   "cell_type": "code",
   "execution_count": 81,
   "id": "ab24aadd",
   "metadata": {},
   "outputs": [
    {
     "name": "stdout",
     "output_type": "stream",
     "text": [
      "Mean Squared Error: 5074486.20804333\n",
      "[4972.24004425 5068.61827065 5164.99649705 5261.37472345]\n"
     ]
    }
   ],
   "source": [
    "# use 'year_completed' and 'total_resi_dwellings'\n",
    "X = yearly_sum[['year_completed']]\n",
    "y = yearly_sum['total_resi_dwellings']\n",
    "\n",
    "# split data into training and testing sets\n",
    "X_train, X_test, y_train, y_test = train_test_split(X, y, test_size=0.2, random_state=42)\n",
    "\n",
    "# create and train the model\n",
    "model = LinearRegression()\n",
    "model.fit(X_train, y_train)\n",
    "\n",
    "# make predictions\n",
    "y_pred = model.predict(X_test)\n",
    "\n",
    "# evaluate the model\n",
    "mse = mean_squared_error(y_test, y_pred)\n",
    "print(f\"Mean Squared Error: {mse}\")\n",
    "\n",
    "# predict future values\n",
    "future_years = pd.DataFrame({'year_completed': np.arange(2024, 2028)})\n",
    "future_predictions = model.predict(future_years)\n",
    "print(future_predictions)"
   ]
  },
  {
   "cell_type": "code",
   "execution_count": 82,
   "id": "e137fd9d",
   "metadata": {},
   "outputs": [
    {
     "name": "stdout",
     "output_type": "stream",
     "text": [
      "R-squared: 0.127596438214857\n"
     ]
    }
   ],
   "source": [
    "# calculate R-squared \n",
    "r_squared = r2_score(y_test, y_pred)\n",
    "print(f\"R-squared: {r_squared}\")"
   ]
  },
  {
   "cell_type": "markdown",
   "id": "b51ccadd",
   "metadata": {},
   "source": [
    "Target variable : studio_dwe"
   ]
  },
  {
   "cell_type": "code",
   "execution_count": 83,
   "id": "c6cf9be3",
   "metadata": {},
   "outputs": [],
   "source": [
    "# group by 'year_completed' and calculate the sum of 'stuido_dwe'\n",
    "yearly_sum2 = df.groupby('year_completed')['studio_dwe'].sum().reset_index()\n",
    "\n",
    "# rename the column \n",
    "yearly_sum2.rename(columns={'studio_dwe': 'total_studio_dwe'}, inplace=True)"
   ]
  },
  {
   "cell_type": "code",
   "execution_count": 84,
   "id": "1944365d",
   "metadata": {},
   "outputs": [
    {
     "name": "stdout",
     "output_type": "stream",
     "text": [
      "Mean Squared Error: 3857.9033864210883\n",
      "[88.26438053 89.33379425 90.40320796 91.47262168]\n"
     ]
    }
   ],
   "source": [
    "# use 'year_completed' and 'total_studio_dwe' \n",
    "X = yearly_sum2[['year_completed']]\n",
    "y = yearly_sum2['total_studio_dwe']\n",
    "\n",
    "# split data into training and testing sets\n",
    "X_train, X_test, y_train, y_test = train_test_split(X, y, test_size=0.2, random_state=42)\n",
    "\n",
    "# create and train the model\n",
    "model = LinearRegression()\n",
    "model.fit(X_train, y_train)\n",
    "\n",
    "# make predictions\n",
    "y_pred = model.predict(X_test)\n",
    "\n",
    "# evaluate the model\n",
    "mse = mean_squared_error(y_test, y_pred)\n",
    "print(f\"Mean Squared Error: {mse}\")\n",
    "\n",
    "# predict future values\n",
    "future_years = pd.DataFrame({'year_completed': np.arange(2024, 2028)})\n",
    "future_predictions = model.predict(future_years)\n",
    "print(future_predictions)"
   ]
  },
  {
   "cell_type": "code",
   "execution_count": 85,
   "id": "4d85da4e",
   "metadata": {},
   "outputs": [
    {
     "name": "stdout",
     "output_type": "stream",
     "text": [
      "R-squared: -18.0457315680346\n"
     ]
    }
   ],
   "source": [
    "# Calculate R-squared \n",
    "r_squared = r2_score(y_test, y_pred)\n",
    "print(f\"R-squared: {r_squared}\")"
   ]
  },
  {
   "cell_type": "markdown",
   "id": "d6fc816d",
   "metadata": {},
   "source": [
    "Target variable : one_bdrm_dwe"
   ]
  },
  {
   "cell_type": "code",
   "execution_count": 86,
   "id": "8cb06880",
   "metadata": {},
   "outputs": [],
   "source": [
    "# group by 'year_completed' and calculate the sum of 'one_bdrm_dwe'\n",
    "yearly_sum3 = df.groupby('year_completed')['one_bdrm_dwe'].sum().reset_index()\n",
    "\n",
    "# rename the column \n",
    "yearly_sum3.rename(columns={'one_bdrm_dwe': 'total_one_bdrm_dwe'}, inplace=True)"
   ]
  },
  {
   "cell_type": "code",
   "execution_count": 87,
   "id": "ce22c19b",
   "metadata": {},
   "outputs": [
    {
     "name": "stdout",
     "output_type": "stream",
     "text": [
      "Mean Squared Error: 729906.8595935808\n",
      "[2083.65597345 2165.27903761 2246.90210177 2328.52516593]\n"
     ]
    }
   ],
   "source": [
    "# use 'year_completed' and 'total_one_bdrm_dwe' \n",
    "X = yearly_sum3[['year_completed']]\n",
    "y = yearly_sum3['total_one_bdrm_dwe']\n",
    "\n",
    "# split data into training and testing sets\n",
    "X_train, X_test, y_train, y_test = train_test_split(X, y, test_size=0.2, random_state=42)\n",
    "\n",
    "# create and train the model\n",
    "model = LinearRegression()\n",
    "model.fit(X_train, y_train)\n",
    "\n",
    "# make predictions\n",
    "y_pred = model.predict(X_test)\n",
    "\n",
    "# evaluate the model\n",
    "mse = mean_squared_error(y_test, y_pred)\n",
    "print(f\"Mean Squared Error: {mse}\")\n",
    "\n",
    "# predict future values\n",
    "future_years = pd.DataFrame({'year_completed': np.arange(2024, 2028)})\n",
    "future_predictions = model.predict(future_years)\n",
    "print(future_predictions)"
   ]
  },
  {
   "cell_type": "code",
   "execution_count": 88,
   "id": "4f4b9134",
   "metadata": {},
   "outputs": [
    {
     "name": "stdout",
     "output_type": "stream",
     "text": [
      "R-squared: 0.5159747523068796\n"
     ]
    }
   ],
   "source": [
    "# Calculate R-squared \n",
    "r_squared = r2_score(y_test, y_pred)\n",
    "print(f\"R-squared: {r_squared}\")"
   ]
  },
  {
   "cell_type": "markdown",
   "id": "c472c91a",
   "metadata": {},
   "source": [
    "Target variable: two_bdrm_dwe"
   ]
  },
  {
   "cell_type": "code",
   "execution_count": 89,
   "id": "af7149fc",
   "metadata": {},
   "outputs": [],
   "source": [
    "# group by 'year_completed' and calculate the sum of 'two_bdrm_dwe'\n",
    "yearly_sum4 = df.groupby('year_completed')['two_bdrm_dwe'].sum().reset_index()\n",
    "\n",
    "# rename the column \n",
    "yearly_sum4.rename(columns={'two_bdrm_dwe': 'total_two_bdrm_dwe'}, inplace=True)"
   ]
  },
  {
   "cell_type": "code",
   "execution_count": 90,
   "id": "11de0425",
   "metadata": {},
   "outputs": [
    {
     "name": "stdout",
     "output_type": "stream",
     "text": [
      "Mean Squared Error: 1105703.6497176003\n",
      "[2717.70464602 2828.46008481 2939.2155236  3049.97096239]\n"
     ]
    }
   ],
   "source": [
    "# use 'year_completed' and 'total_two_bdrm_dwe'\n",
    "X = yearly_sum4[['year_completed']]\n",
    "y = yearly_sum4['total_two_bdrm_dwe']\n",
    "\n",
    "# split data into training and testing sets\n",
    "X_train, X_test, y_train, y_test = train_test_split(X, y, test_size=0.2, random_state=42)\n",
    "\n",
    "# create and train the model\n",
    "model = LinearRegression()\n",
    "model.fit(X_train, y_train)\n",
    "\n",
    "# make predictions\n",
    "y_pred = model.predict(X_test)\n",
    "\n",
    "# evaluate the model\n",
    "mse = mean_squared_error(y_test, y_pred)\n",
    "print(f\"Mean Squared Error: {mse}\")\n",
    "\n",
    "# predict future values\n",
    "future_years = pd.DataFrame({'year_completed': np.arange(2024, 2028)})\n",
    "future_predictions = model.predict(future_years)\n",
    "print(future_predictions)"
   ]
  },
  {
   "cell_type": "code",
   "execution_count": 91,
   "id": "45654921",
   "metadata": {},
   "outputs": [
    {
     "name": "stdout",
     "output_type": "stream",
     "text": [
      "R-squared: 0.5274014893229759\n"
     ]
    }
   ],
   "source": [
    "# Calculate R-squared \n",
    "r_squared = r2_score(y_test, y_pred)\n",
    "print(f\"R-squared: {r_squared}\")"
   ]
  },
  {
   "cell_type": "markdown",
   "id": "5662995a",
   "metadata": {},
   "source": [
    "Target variable: three_bdrm_dwe"
   ]
  },
  {
   "cell_type": "code",
   "execution_count": 92,
   "id": "5a3bcf69",
   "metadata": {},
   "outputs": [],
   "source": [
    "# group by 'year_completed' and calculate the sum of 'three_bdrm_dwe'\n",
    "yearly_sum5 = df.groupby('year_completed')['three_bdrm_dwe'].sum().reset_index()\n",
    "\n",
    "# rename the column \n",
    "yearly_sum5.rename(columns={'three_bdrm_dwe': 'total_three_bdrm_dwe'}, inplace=True)"
   ]
  },
  {
   "cell_type": "code",
   "execution_count": 93,
   "id": "e998feb6",
   "metadata": {},
   "outputs": [
    {
     "name": "stdout",
     "output_type": "stream",
     "text": [
      "Mean Squared Error: 16535.300111291883\n",
      "[447.4579646  464.18455015 480.91113569 497.63772124]\n"
     ]
    }
   ],
   "source": [
    "# use 'year_completed' and 'total_three_bdrm_dwe' \n",
    "X = yearly_sum5[['year_completed']]\n",
    "y = yearly_sum5['total_three_bdrm_dwe']\n",
    "\n",
    "# split data into training and testing sets\n",
    "X_train, X_test, y_train, y_test = train_test_split(X, y, test_size=0.2, random_state=42)\n",
    "\n",
    "# create and train the model\n",
    "model = LinearRegression()\n",
    "model.fit(X_train, y_train)\n",
    "\n",
    "# make predictions\n",
    "y_pred = model.predict(X_test)\n",
    "\n",
    "# evaluate the model\n",
    "mse = mean_squared_error(y_test, y_pred)\n",
    "print(f\"Mean Squared Error: {mse}\")\n",
    "\n",
    "# predict future values\n",
    "future_years = pd.DataFrame({'year_completed': np.arange(2024, 2028)})\n",
    "future_predictions = model.predict(future_years)\n",
    "print(future_predictions)"
   ]
  },
  {
   "cell_type": "code",
   "execution_count": 94,
   "id": "376d934c",
   "metadata": {},
   "outputs": [
    {
     "name": "stdout",
     "output_type": "stream",
     "text": [
      "R-squared: 0.6028086071556116\n"
     ]
    }
   ],
   "source": [
    "# Calculate R-squared \n",
    "r_squared = r2_score(y_test, y_pred)\n",
    "print(f\"R-squared: {r_squared}\")"
   ]
  },
  {
   "cell_type": "markdown",
   "id": "c19a24c0",
   "metadata": {},
   "source": [
    "Target variable: student_apartments"
   ]
  },
  {
   "cell_type": "code",
   "execution_count": 65,
   "id": "66c5cfc5",
   "metadata": {},
   "outputs": [],
   "source": [
    "# group by 'year_completed' and calculate the sum of 'student_apartments'\n",
    "yearly_sum6 = df.groupby('year_completed')['student_apartments'].sum().reset_index()\n",
    "\n",
    "# rename the column \n",
    "yearly_sum6.rename(columns={'student_apartments': 'total_student_apartments'}, inplace=True)"
   ]
  },
  {
   "cell_type": "code",
   "execution_count": 66,
   "id": "acc3d36b",
   "metadata": {},
   "outputs": [
    {
     "name": "stdout",
     "output_type": "stream",
     "text": [
      "Mean Squared Error: 439357.29221928585\n",
      "[1721.44469027 1797.78668879 1874.12868732 1950.47068584]\n"
     ]
    }
   ],
   "source": [
    "# use 'year_completed' and 'total_student_apartments' \n",
    "X = yearly_sum6[['year_completed']]\n",
    "y = yearly_sum6['total_student_apartments']\n",
    "\n",
    "# split data into training and testing sets\n",
    "X_train, X_test, y_train, y_test = train_test_split(X, y, test_size=0.2, random_state=42)\n",
    "\n",
    "# create and train the model\n",
    "model = LinearRegression()\n",
    "model.fit(X_train, y_train)\n",
    "\n",
    "# make predictions\n",
    "y_pred = model.predict(X_test)\n",
    "\n",
    "# evaluate the model\n",
    "mse = mean_squared_error(y_test, y_pred)\n",
    "print(f\"Mean Squared Error: {mse}\")\n",
    "\n",
    "# predict future values\n",
    "future_years = pd.DataFrame({'year_completed': np.arange(2024, 2028)})\n",
    "future_predictions = model.predict(future_years)\n",
    "print(future_predictions)"
   ]
  },
  {
   "cell_type": "code",
   "execution_count": 69,
   "id": "00d61e23",
   "metadata": {},
   "outputs": [
    {
     "name": "stdout",
     "output_type": "stream",
     "text": [
      "R-squared: -10.727002064283399\n"
     ]
    }
   ],
   "source": [
    "# Calculate R-squared \n",
    "r_squared = r2_score(y_test, y_pred)\n",
    "print(f\"R-squared: {r_squared}\")"
   ]
  },
  {
   "cell_type": "code",
   "execution_count": null,
   "id": "0fd27206",
   "metadata": {},
   "outputs": [],
   "source": []
  },
  {
   "cell_type": "code",
   "execution_count": null,
   "id": "08bbc7bb",
   "metadata": {},
   "outputs": [],
   "source": []
  }
 ],
 "metadata": {
  "kernelspec": {
   "display_name": "Python 3 (ipykernel)",
   "language": "python",
   "name": "python3"
  },
  "language_info": {
   "codemirror_mode": {
    "name": "ipython",
    "version": 3
   },
   "file_extension": ".py",
   "mimetype": "text/x-python",
   "name": "python",
   "nbconvert_exporter": "python",
   "pygments_lexer": "ipython3",
   "version": "3.9.12"
  }
 },
 "nbformat": 4,
 "nbformat_minor": 5
}
