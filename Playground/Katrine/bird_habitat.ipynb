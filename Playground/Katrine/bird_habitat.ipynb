{
 "cells": [
  {
   "cell_type": "markdown",
   "metadata": {},
   "source": [
    "<div class=\"usecase-title\">Bird Habitat Analysis T1 2024</div>\n",
    "\n",
    "<div class=\"usecase-authors\"><b>Authored by: </b>Katrine Chan</div>"
   ]
  },
  {
   "cell_type": "markdown",
   "metadata": {},
   "source": [
    "<div class=\"usecase-duration\"><b>Duration:</b> 90 mins</div>\n",
    "\n",
    "<div class=\"usecase-level-skill\">\n",
    "    <div class=\"usecase-level\"><b>Level: </b>Intermediate</div>\n",
    "    <div class=\"usecase-skill\"><b>Pre-requisite Skills: </b>Python </div>\n",
    "</div>"
   ]
  },
  {
   "cell_type": "markdown",
   "metadata": {},
   "source": [
    "<div class=\"usecase-section-header\"><i><b>Scenario</i></b></div>"
   ]
  },
  {
   "cell_type": "markdown",
   "metadata": {},
   "source": [
    "\n",
    "As a member of the council, I am eager to explore bird habitats within Melbourne city.  Imagine a city without birds, bird habitats are not only a source of beauty and wonder but also a sign of a healty ecosystem, reflecting the quality of air, water and vegetation of a city.  A thorough analysis of bird habitats will enable us to identify critical habitats and biodiverstiy hotspots within Melbourne, guiding conservation priorities and land management decisions.  This investigation aligns closely with the mission to prioritise the environment and biodiversity in the City of Melbourne. Through this analysis, I aim to discover:\n",
    "\n",
    "* The types of birds commonly found in the City of Melbourne\n",
    "* How changes in vegetation may influence bird sightings/activities\n",
    "* Develop a habitat suitability models using machien learning techniuqes based on environmental variables such as vegetation cover \n"
   ]
  },
  {
   "cell_type": "markdown",
   "metadata": {},
   "source": [
    "<div class=\"usecase-section-header\"><i><b>What this use case will teach you</i></b></div>"
   ]
  },
  {
   "cell_type": "markdown",
   "metadata": {},
   "source": [
    "At the end of this use case you will:\n",
    "* Have gained an understanding of using APIs\n",
    "* Have learned how to fetch datasets using APIs\n",
    "* Become familiar with performing data pre-processing\n",
    "* Learned how to visualize real-life data using appropriate visualisation tools\n",
    "* Learned how to work with more than one dataset\n",
    "* Learned what a habitat preference modelling is and how to perform one"
   ]
  },
  {
   "cell_type": "markdown",
   "metadata": {},
   "source": [
    "<div class=\"usecase-section-header\"><i><b>Introduction</i></b></div>"
   ]
  },
  {
   "cell_type": "markdown",
   "metadata": {},
   "source": [
    "To complete our bird habitat analysis, two datasets will be used.  These datasets will include below:\n",
    "\n",
    "* Bird survey result for areas in the city of Melbourne in February and March 2018 - \n",
    "The bird survey contains data from multiple river and wetland sites in Melbourne. Surveys were conducted by Ecology Australia during February and March 2018, recording species richness and numbers. \n",
    "* Tree canopies public realm 2018 (Urban Forest) - \n",
    "Tree canopy within City of Melbourne mapped using 2018 aerial photos and LiDAR. The canopy polygons represent actual tree canopy extents on public property (land managed by the City of Melbourne) across the city. \n",
    "\n",
    "\n"
   ]
  },
  {
   "cell_type": "markdown",
   "metadata": {
    "tags": []
   },
   "source": [
    "<div style=\"color: blue;\"> Self Notes: \n",
    "\n",
    "\n",
    "- Most common bird species, habitat preferences in terms of trees, analysing migration patterns\n",
    "\n",
    "- Speciies observed location, date, etc\n",
    "\n",
    "- vegetation type, land use? \n",
    "\n",
    "- data cleansing, missingn data, formatting \n",
    "\n",
    "- start with EDA using existing data on bird habitat and then forestation. \n",
    "\n",
    "- merging bird watch data with forestation data \n",
    "\n",
    "- visualisation uisng maps, histograms and plots \n",
    "\n",
    "- predictive modelling to help forecast bird distribution based on environmental factors </div>"
   ]
  },
  {
   "cell_type": "markdown",
   "metadata": {
    "tags": []
   },
   "source": [
    "# **Part 1  - Import modules**"
   ]
  },
  {
   "cell_type": "code",
   "execution_count": 1,
   "metadata": {
    "tags": []
   },
   "outputs": [],
   "source": [
    "# importing required modules\n",
    "\n",
    "import requests\n",
    "import pandas as pd\n",
    "from io import StringIO\n",
    "\n",
    "import matplotlib.pyplot as plt\n",
    "\n",
    "import folium"
   ]
  },
  {
   "cell_type": "markdown",
   "metadata": {
    "tags": []
   },
   "source": [
    "# **Part 2  - Fetching Bird Data from Melbourne Open Data**\n",
    "\n"
   ]
  },
  {
   "cell_type": "code",
   "execution_count": 2,
   "metadata": {
    "tags": []
   },
   "outputs": [
    {
     "name": "stdout",
     "output_type": "stream",
     "text": [
      "    sighting_date                   common_name  \\\n",
      "194    2018-02-28        New Holland Honeyeater   \n",
      "490    2018-02-15       White-plumed Honeyeater   \n",
      "253    2018-02-15               Brown Thornbill   \n",
      "279    2018-02-15  Phylidonyris novaehollandiae   \n",
      "94     2018-02-15                 Chestnut Teal   \n",
      "151    2018-02-15            Australasian Grebe   \n",
      "233    2018-02-28                   Magpie-lark   \n",
      "124    2018-03-19              Rainbow Lorikeet   \n",
      "457    2018-02-15                   Silver Gull   \n",
      "211    2018-02-28                Willie Wagtail   \n",
      "\n",
      "                     scientific_name  sighting_count  \\\n",
      "194     Phylidonyris novaehollandiae               0   \n",
      "490       Lichenostomus penicillatus              56   \n",
      "253                Acanthiza pusilla               0   \n",
      "279           New Holland Honeyeater               0   \n",
      "94                     Anas castanea              29   \n",
      "151      Tachybaptus novaehollandiae               4   \n",
      "233              Grallina cyanoleuca               2   \n",
      "124         Trichoglossus haematodus              22   \n",
      "457  Chroicocephalus novaehollandiae               6   \n",
      "211             Rhipidura leucophrys               2   \n",
      "\n",
      "     victorian_biodiversity_atlas_code      lat       lon  \\\n",
      "194                              10631 -37.8038  144.9118   \n",
      "490                              10625 -37.7792  144.9482   \n",
      "253                              10475 -37.8054  144.9364   \n",
      "279                              10631 -37.8054  144.9364   \n",
      "94                               10210 -37.8054  144.9364   \n",
      "151                              10061 -37.7792  144.9482   \n",
      "233                              10415 -37.8028  144.9249   \n",
      "124                              10254 -37.8054  144.9364   \n",
      "457                              10125 -37.8054  144.9364   \n",
      "211                              10364 -37.8038  144.9118   \n",
      "\n",
      "                                             loc1_desc     lat2      lon2  \\\n",
      "194  Dynon Road Tidal Canal Wildlife Sanctuary Down...      NaN       NaN   \n",
      "490  Royal Park un-named drain at Upstream Limit at... -37.7820  144.9403   \n",
      "253  Moonee Ponds Creek Downstream Limit at Dynon Road -37.7891  144.9372   \n",
      "279  Moonee Ponds Creek Downstream Limit at Dynon Road -37.7891  144.9372   \n",
      "94   Moonee Ponds Creek Downstream Limit at Dynon Road -37.7891  144.9372   \n",
      "151  Royal Park un-named drain at Upstream Limit at... -37.7820  144.9403   \n",
      "233              Dynon Road Tidal Canal Upstream Limit      NaN       NaN   \n",
      "124  Moonee Ponds Creek Downstream Limit at Dynon Road -37.7891  144.9372   \n",
      "457  Moonee Ponds Creek Downstream Limit at Dynon Road -37.7891  144.9372   \n",
      "211  Dynon Road Tidal Canal Wildlife Sanctuary Down...      NaN       NaN   \n",
      "\n",
      "                                             loc2_desc  \\\n",
      "194                                                NaN   \n",
      "490  Royal Park un-named drain at Downstream Limit ...   \n",
      "253  Moonee Ponds Creek Upstream Limit at Racecours...   \n",
      "279  Moonee Ponds Creek Upstream Limit at Racecours...   \n",
      "94   Moonee Ponds Creek Upstream Limit at Racecours...   \n",
      "151  Royal Park un-named drain at Downstream Limit ...   \n",
      "233                                                NaN   \n",
      "124  Moonee Ponds Creek Upstream Limit at Racecours...   \n",
      "457  Moonee Ponds Creek Upstream Limit at Racecours...   \n",
      "211                                                NaN   \n",
      "\n",
      "                                     site_name                 location_2  \\\n",
      "194  Dynon Road Tidal Canal Wildlife Sanctuary                        NaN   \n",
      "490                                 Royal Park   POINT (144.9403 -37.782)   \n",
      "253                         Moonee Ponds Creek  POINT (144.9372 -37.7891)   \n",
      "279                         Moonee Ponds Creek  POINT (144.9372 -37.7891)   \n",
      "94                          Moonee Ponds Creek  POINT (144.9372 -37.7891)   \n",
      "151                                 Royal Park   POINT (144.9403 -37.782)   \n",
      "233                     Dynon Road Tidal Drain                        NaN   \n",
      "124                         Moonee Ponds Creek  POINT (144.9372 -37.7891)   \n",
      "457                         Moonee Ponds Creek  POINT (144.9372 -37.7891)   \n",
      "211  Dynon Road Tidal Canal Wildlife Sanctuary                        NaN   \n",
      "\n",
      "             location_1  \n",
      "194  -37.8038, 144.9118  \n",
      "490  -37.7792, 144.9482  \n",
      "253  -37.8054, 144.9364  \n",
      "279  -37.8054, 144.9364  \n",
      "94   -37.8054, 144.9364  \n",
      "151  -37.7792, 144.9482  \n",
      "233  -37.8028, 144.9249  \n",
      "124  -37.8054, 144.9364  \n",
      "457  -37.8054, 144.9364  \n",
      "211  -37.8038, 144.9118  \n"
     ]
    }
   ],
   "source": [
    "\n",
    "# https://data.melbourne.vic.gov.au/explore/dataset/bird-survey-results-for-areas-in-the-city-of-melbourne-february-and-march-2018/information/\n",
    "dataset_id = 'bird-survey-results-for-areas-in-the-city-of-melbourne-february-and-march-2018'\n",
    "\n",
    "base_url = 'https://data.melbourne.vic.gov.au/api/explore/v2.1/catalog/datasets/'\n",
    "# apikey = ''\n",
    "dataset_id = dataset_id\n",
    "format = 'csv'\n",
    "\n",
    "url = f'{base_url}{dataset_id}/exports/{format}'\n",
    "params = {\n",
    "    'select': '*',\n",
    "    'limit': -1, # all records\n",
    "    'lang': 'en',\n",
    "    'timezone': 'UTC'\n",
    "    #'api_key': apikey\n",
    "}\n",
    "\n",
    "#GET request \n",
    "response = requests.get(url, params = params)\n",
    "\n",
    "if response.status_code == 200:\n",
    "    # StringIO to read the CSV data\n",
    "    url_content = response.content.decode('utf-8')\n",
    "    birds_df = pd.read_csv(StringIO(url_content), delimiter= ';')\n",
    "    print(birds_df.sample(10, random_state = 999))\n",
    "else: \n",
    "    print(f'Request failed with status code{response.status_code}')"
   ]
  },
  {
   "cell_type": "code",
   "execution_count": 3,
   "metadata": {
    "tags": []
   },
   "outputs": [
    {
     "name": "stdout",
     "output_type": "stream",
     "text": [
      "Number of observation in the birds_df is: 498\n"
     ]
    },
    {
     "data": {
      "text/html": [
       "<div>\n",
       "<style scoped>\n",
       "    .dataframe tbody tr th:only-of-type {\n",
       "        vertical-align: middle;\n",
       "    }\n",
       "\n",
       "    .dataframe tbody tr th {\n",
       "        vertical-align: top;\n",
       "    }\n",
       "\n",
       "    .dataframe thead th {\n",
       "        text-align: right;\n",
       "    }\n",
       "</style>\n",
       "<table border=\"1\" class=\"dataframe\">\n",
       "  <thead>\n",
       "    <tr style=\"text-align: right;\">\n",
       "      <th></th>\n",
       "      <th>sighting_date</th>\n",
       "      <th>common_name</th>\n",
       "      <th>scientific_name</th>\n",
       "      <th>sighting_count</th>\n",
       "      <th>victorian_biodiversity_atlas_code</th>\n",
       "      <th>lat</th>\n",
       "      <th>lon</th>\n",
       "      <th>loc1_desc</th>\n",
       "      <th>lat2</th>\n",
       "      <th>lon2</th>\n",
       "      <th>loc2_desc</th>\n",
       "      <th>site_name</th>\n",
       "      <th>location_2</th>\n",
       "      <th>location_1</th>\n",
       "    </tr>\n",
       "  </thead>\n",
       "  <tbody>\n",
       "    <tr>\n",
       "      <th>0</th>\n",
       "      <td>2018-03-12</td>\n",
       "      <td>Australian Magpie</td>\n",
       "      <td>Gymnorhina tibicen</td>\n",
       "      <td>2</td>\n",
       "      <td>10705</td>\n",
       "      <td>-37.8038</td>\n",
       "      <td>144.9118</td>\n",
       "      <td>Dynon Road Tidal Canal Wildlife Sanctuary Down...</td>\n",
       "      <td>NaN</td>\n",
       "      <td>NaN</td>\n",
       "      <td>NaN</td>\n",
       "      <td>Dynon Road Tidal Canal Wildlife Sanctuary</td>\n",
       "      <td>NaN</td>\n",
       "      <td>-37.8038, 144.9118</td>\n",
       "    </tr>\n",
       "    <tr>\n",
       "      <th>1</th>\n",
       "      <td>2018-02-28</td>\n",
       "      <td>Australian White Ibis</td>\n",
       "      <td>Threskiornis molucca</td>\n",
       "      <td>141</td>\n",
       "      <td>10179</td>\n",
       "      <td>-37.8038</td>\n",
       "      <td>144.9118</td>\n",
       "      <td>Dynon Road Tidal Canal Wildlife Sanctuary Down...</td>\n",
       "      <td>NaN</td>\n",
       "      <td>NaN</td>\n",
       "      <td>NaN</td>\n",
       "      <td>Dynon Road Tidal Canal Wildlife Sanctuary</td>\n",
       "      <td>NaN</td>\n",
       "      <td>-37.8038, 144.9118</td>\n",
       "    </tr>\n",
       "    <tr>\n",
       "      <th>2</th>\n",
       "      <td>2018-03-12</td>\n",
       "      <td>Australian White Ibis</td>\n",
       "      <td>Threskiornis molucca</td>\n",
       "      <td>83</td>\n",
       "      <td>10179</td>\n",
       "      <td>-37.8038</td>\n",
       "      <td>144.9118</td>\n",
       "      <td>Dynon Road Tidal Canal Wildlife Sanctuary Down...</td>\n",
       "      <td>NaN</td>\n",
       "      <td>NaN</td>\n",
       "      <td>NaN</td>\n",
       "      <td>Dynon Road Tidal Canal Wildlife Sanctuary</td>\n",
       "      <td>NaN</td>\n",
       "      <td>-37.8038, 144.9118</td>\n",
       "    </tr>\n",
       "    <tr>\n",
       "      <th>3</th>\n",
       "      <td>2018-02-28</td>\n",
       "      <td>Chestnut Teal</td>\n",
       "      <td>Anas castanea</td>\n",
       "      <td>7</td>\n",
       "      <td>10210</td>\n",
       "      <td>-37.8038</td>\n",
       "      <td>144.9118</td>\n",
       "      <td>Dynon Road Tidal Canal Wildlife Sanctuary Down...</td>\n",
       "      <td>NaN</td>\n",
       "      <td>NaN</td>\n",
       "      <td>NaN</td>\n",
       "      <td>Dynon Road Tidal Canal Wildlife Sanctuary</td>\n",
       "      <td>NaN</td>\n",
       "      <td>-37.8038, 144.9118</td>\n",
       "    </tr>\n",
       "    <tr>\n",
       "      <th>4</th>\n",
       "      <td>2018-03-12</td>\n",
       "      <td>Chestnut Teal</td>\n",
       "      <td>Anas castanea</td>\n",
       "      <td>5</td>\n",
       "      <td>10210</td>\n",
       "      <td>-37.8038</td>\n",
       "      <td>144.9118</td>\n",
       "      <td>Dynon Road Tidal Canal Wildlife Sanctuary Down...</td>\n",
       "      <td>NaN</td>\n",
       "      <td>NaN</td>\n",
       "      <td>NaN</td>\n",
       "      <td>Dynon Road Tidal Canal Wildlife Sanctuary</td>\n",
       "      <td>NaN</td>\n",
       "      <td>-37.8038, 144.9118</td>\n",
       "    </tr>\n",
       "    <tr>\n",
       "      <th>5</th>\n",
       "      <td>2018-03-06</td>\n",
       "      <td>Common Blackbird</td>\n",
       "      <td>Turdus merula</td>\n",
       "      <td>1</td>\n",
       "      <td>10991</td>\n",
       "      <td>-37.8038</td>\n",
       "      <td>144.9118</td>\n",
       "      <td>Dynon Road Tidal Canal Wildlife Sanctuary Down...</td>\n",
       "      <td>NaN</td>\n",
       "      <td>NaN</td>\n",
       "      <td>NaN</td>\n",
       "      <td>Dynon Road Tidal Canal Wildlife Sanctuary</td>\n",
       "      <td>NaN</td>\n",
       "      <td>-37.8038, 144.9118</td>\n",
       "    </tr>\n",
       "    <tr>\n",
       "      <th>6</th>\n",
       "      <td>2018-03-19</td>\n",
       "      <td>Common Blackbird</td>\n",
       "      <td>Turdus merula</td>\n",
       "      <td>3</td>\n",
       "      <td>10991</td>\n",
       "      <td>-37.8038</td>\n",
       "      <td>144.9118</td>\n",
       "      <td>Dynon Road Tidal Canal Wildlife Sanctuary Down...</td>\n",
       "      <td>NaN</td>\n",
       "      <td>NaN</td>\n",
       "      <td>NaN</td>\n",
       "      <td>Dynon Road Tidal Canal Wildlife Sanctuary</td>\n",
       "      <td>NaN</td>\n",
       "      <td>-37.8038, 144.9118</td>\n",
       "    </tr>\n",
       "    <tr>\n",
       "      <th>7</th>\n",
       "      <td>2018-02-15</td>\n",
       "      <td>Common Myna</td>\n",
       "      <td>Acridotheres tristis</td>\n",
       "      <td>36</td>\n",
       "      <td>10998</td>\n",
       "      <td>-37.8038</td>\n",
       "      <td>144.9118</td>\n",
       "      <td>Dynon Road Tidal Canal Wildlife Sanctuary Down...</td>\n",
       "      <td>NaN</td>\n",
       "      <td>NaN</td>\n",
       "      <td>NaN</td>\n",
       "      <td>Dynon Road Tidal Canal Wildlife Sanctuary</td>\n",
       "      <td>NaN</td>\n",
       "      <td>-37.8038, 144.9118</td>\n",
       "    </tr>\n",
       "    <tr>\n",
       "      <th>8</th>\n",
       "      <td>2018-02-15</td>\n",
       "      <td>Common Starling</td>\n",
       "      <td>Sturnus vulgaris</td>\n",
       "      <td>3</td>\n",
       "      <td>10999</td>\n",
       "      <td>-37.8038</td>\n",
       "      <td>144.9118</td>\n",
       "      <td>Dynon Road Tidal Canal Wildlife Sanctuary Down...</td>\n",
       "      <td>NaN</td>\n",
       "      <td>NaN</td>\n",
       "      <td>NaN</td>\n",
       "      <td>Dynon Road Tidal Canal Wildlife Sanctuary</td>\n",
       "      <td>NaN</td>\n",
       "      <td>-37.8038, 144.9118</td>\n",
       "    </tr>\n",
       "    <tr>\n",
       "      <th>9</th>\n",
       "      <td>2018-03-19</td>\n",
       "      <td>Common Starling</td>\n",
       "      <td>Sturnus vulgaris</td>\n",
       "      <td>0</td>\n",
       "      <td>10999</td>\n",
       "      <td>-37.8038</td>\n",
       "      <td>144.9118</td>\n",
       "      <td>Dynon Road Tidal Canal Wildlife Sanctuary Down...</td>\n",
       "      <td>NaN</td>\n",
       "      <td>NaN</td>\n",
       "      <td>NaN</td>\n",
       "      <td>Dynon Road Tidal Canal Wildlife Sanctuary</td>\n",
       "      <td>NaN</td>\n",
       "      <td>-37.8038, 144.9118</td>\n",
       "    </tr>\n",
       "  </tbody>\n",
       "</table>\n",
       "</div>"
      ],
      "text/plain": [
       "  sighting_date            common_name       scientific_name  sighting_count  \\\n",
       "0    2018-03-12      Australian Magpie    Gymnorhina tibicen               2   \n",
       "1    2018-02-28  Australian White Ibis  Threskiornis molucca             141   \n",
       "2    2018-03-12  Australian White Ibis  Threskiornis molucca              83   \n",
       "3    2018-02-28          Chestnut Teal         Anas castanea               7   \n",
       "4    2018-03-12          Chestnut Teal         Anas castanea               5   \n",
       "5    2018-03-06       Common Blackbird         Turdus merula               1   \n",
       "6    2018-03-19       Common Blackbird         Turdus merula               3   \n",
       "7    2018-02-15            Common Myna  Acridotheres tristis              36   \n",
       "8    2018-02-15        Common Starling      Sturnus vulgaris               3   \n",
       "9    2018-03-19        Common Starling      Sturnus vulgaris               0   \n",
       "\n",
       "   victorian_biodiversity_atlas_code      lat       lon  \\\n",
       "0                              10705 -37.8038  144.9118   \n",
       "1                              10179 -37.8038  144.9118   \n",
       "2                              10179 -37.8038  144.9118   \n",
       "3                              10210 -37.8038  144.9118   \n",
       "4                              10210 -37.8038  144.9118   \n",
       "5                              10991 -37.8038  144.9118   \n",
       "6                              10991 -37.8038  144.9118   \n",
       "7                              10998 -37.8038  144.9118   \n",
       "8                              10999 -37.8038  144.9118   \n",
       "9                              10999 -37.8038  144.9118   \n",
       "\n",
       "                                           loc1_desc  lat2  lon2 loc2_desc  \\\n",
       "0  Dynon Road Tidal Canal Wildlife Sanctuary Down...   NaN   NaN       NaN   \n",
       "1  Dynon Road Tidal Canal Wildlife Sanctuary Down...   NaN   NaN       NaN   \n",
       "2  Dynon Road Tidal Canal Wildlife Sanctuary Down...   NaN   NaN       NaN   \n",
       "3  Dynon Road Tidal Canal Wildlife Sanctuary Down...   NaN   NaN       NaN   \n",
       "4  Dynon Road Tidal Canal Wildlife Sanctuary Down...   NaN   NaN       NaN   \n",
       "5  Dynon Road Tidal Canal Wildlife Sanctuary Down...   NaN   NaN       NaN   \n",
       "6  Dynon Road Tidal Canal Wildlife Sanctuary Down...   NaN   NaN       NaN   \n",
       "7  Dynon Road Tidal Canal Wildlife Sanctuary Down...   NaN   NaN       NaN   \n",
       "8  Dynon Road Tidal Canal Wildlife Sanctuary Down...   NaN   NaN       NaN   \n",
       "9  Dynon Road Tidal Canal Wildlife Sanctuary Down...   NaN   NaN       NaN   \n",
       "\n",
       "                                   site_name location_2          location_1  \n",
       "0  Dynon Road Tidal Canal Wildlife Sanctuary        NaN  -37.8038, 144.9118  \n",
       "1  Dynon Road Tidal Canal Wildlife Sanctuary        NaN  -37.8038, 144.9118  \n",
       "2  Dynon Road Tidal Canal Wildlife Sanctuary        NaN  -37.8038, 144.9118  \n",
       "3  Dynon Road Tidal Canal Wildlife Sanctuary        NaN  -37.8038, 144.9118  \n",
       "4  Dynon Road Tidal Canal Wildlife Sanctuary        NaN  -37.8038, 144.9118  \n",
       "5  Dynon Road Tidal Canal Wildlife Sanctuary        NaN  -37.8038, 144.9118  \n",
       "6  Dynon Road Tidal Canal Wildlife Sanctuary        NaN  -37.8038, 144.9118  \n",
       "7  Dynon Road Tidal Canal Wildlife Sanctuary        NaN  -37.8038, 144.9118  \n",
       "8  Dynon Road Tidal Canal Wildlife Sanctuary        NaN  -37.8038, 144.9118  \n",
       "9  Dynon Road Tidal Canal Wildlife Sanctuary        NaN  -37.8038, 144.9118  "
      ]
     },
     "execution_count": 3,
     "metadata": {},
     "output_type": "execute_result"
    }
   ],
   "source": [
    "# printing out the number of observation in birds dataset \n",
    "print(\"Number of observation in the birds_df is:\", len(birds_df))\n",
    "\n",
    "# printing out the first 10 observations in dataframe\n",
    "birds_df.head(10)"
   ]
  },
  {
   "cell_type": "markdown",
   "metadata": {
    "tags": []
   },
   "source": [
    "# **Part 3  - Pre-processing Bird Data Melbourne Open Data**"
   ]
  },
  {
   "cell_type": "code",
   "execution_count": 4,
   "metadata": {
    "tags": []
   },
   "outputs": [],
   "source": [
    "# Looking at the data above, there are data which can be dropped \n",
    "# these includes lat2 lon2 loc2_desc site_name location_2 location_1\n",
    "# these convey the same messages as other existing data and therefore \n",
    "# will be dropped\n",
    "\n",
    "columns_to_drop = ['lat2', 'lon2', 'loc2_desc', 'site_name', 'location_2', 'location_1']\n",
    "birds_df = birds_df.drop(columns=columns_to_drop)\n"
   ]
  },
  {
   "cell_type": "code",
   "execution_count": 5,
   "metadata": {
    "tags": []
   },
   "outputs": [
    {
     "data": {
      "text/html": [
       "<div>\n",
       "<style scoped>\n",
       "    .dataframe tbody tr th:only-of-type {\n",
       "        vertical-align: middle;\n",
       "    }\n",
       "\n",
       "    .dataframe tbody tr th {\n",
       "        vertical-align: top;\n",
       "    }\n",
       "\n",
       "    .dataframe thead th {\n",
       "        text-align: right;\n",
       "    }\n",
       "</style>\n",
       "<table border=\"1\" class=\"dataframe\">\n",
       "  <thead>\n",
       "    <tr style=\"text-align: right;\">\n",
       "      <th></th>\n",
       "      <th>sighting_date</th>\n",
       "      <th>common_name</th>\n",
       "      <th>scientific_name</th>\n",
       "      <th>sighting_count</th>\n",
       "      <th>victorian_biodiversity_atlas_code</th>\n",
       "      <th>lat</th>\n",
       "      <th>lon</th>\n",
       "      <th>loc1_desc</th>\n",
       "    </tr>\n",
       "  </thead>\n",
       "  <tbody>\n",
       "    <tr>\n",
       "      <th>0</th>\n",
       "      <td>2018-03-12</td>\n",
       "      <td>Australian Magpie</td>\n",
       "      <td>Gymnorhina tibicen</td>\n",
       "      <td>2</td>\n",
       "      <td>10705</td>\n",
       "      <td>-37.8038</td>\n",
       "      <td>144.9118</td>\n",
       "      <td>Dynon Road Tidal Canal Wildlife Sanctuary Down...</td>\n",
       "    </tr>\n",
       "    <tr>\n",
       "      <th>1</th>\n",
       "      <td>2018-02-28</td>\n",
       "      <td>Australian White Ibis</td>\n",
       "      <td>Threskiornis molucca</td>\n",
       "      <td>141</td>\n",
       "      <td>10179</td>\n",
       "      <td>-37.8038</td>\n",
       "      <td>144.9118</td>\n",
       "      <td>Dynon Road Tidal Canal Wildlife Sanctuary Down...</td>\n",
       "    </tr>\n",
       "    <tr>\n",
       "      <th>2</th>\n",
       "      <td>2018-03-12</td>\n",
       "      <td>Australian White Ibis</td>\n",
       "      <td>Threskiornis molucca</td>\n",
       "      <td>83</td>\n",
       "      <td>10179</td>\n",
       "      <td>-37.8038</td>\n",
       "      <td>144.9118</td>\n",
       "      <td>Dynon Road Tidal Canal Wildlife Sanctuary Down...</td>\n",
       "    </tr>\n",
       "    <tr>\n",
       "      <th>3</th>\n",
       "      <td>2018-02-28</td>\n",
       "      <td>Chestnut Teal</td>\n",
       "      <td>Anas castanea</td>\n",
       "      <td>7</td>\n",
       "      <td>10210</td>\n",
       "      <td>-37.8038</td>\n",
       "      <td>144.9118</td>\n",
       "      <td>Dynon Road Tidal Canal Wildlife Sanctuary Down...</td>\n",
       "    </tr>\n",
       "    <tr>\n",
       "      <th>4</th>\n",
       "      <td>2018-03-12</td>\n",
       "      <td>Chestnut Teal</td>\n",
       "      <td>Anas castanea</td>\n",
       "      <td>5</td>\n",
       "      <td>10210</td>\n",
       "      <td>-37.8038</td>\n",
       "      <td>144.9118</td>\n",
       "      <td>Dynon Road Tidal Canal Wildlife Sanctuary Down...</td>\n",
       "    </tr>\n",
       "    <tr>\n",
       "      <th>5</th>\n",
       "      <td>2018-03-06</td>\n",
       "      <td>Common Blackbird</td>\n",
       "      <td>Turdus merula</td>\n",
       "      <td>1</td>\n",
       "      <td>10991</td>\n",
       "      <td>-37.8038</td>\n",
       "      <td>144.9118</td>\n",
       "      <td>Dynon Road Tidal Canal Wildlife Sanctuary Down...</td>\n",
       "    </tr>\n",
       "    <tr>\n",
       "      <th>6</th>\n",
       "      <td>2018-03-19</td>\n",
       "      <td>Common Blackbird</td>\n",
       "      <td>Turdus merula</td>\n",
       "      <td>3</td>\n",
       "      <td>10991</td>\n",
       "      <td>-37.8038</td>\n",
       "      <td>144.9118</td>\n",
       "      <td>Dynon Road Tidal Canal Wildlife Sanctuary Down...</td>\n",
       "    </tr>\n",
       "    <tr>\n",
       "      <th>7</th>\n",
       "      <td>2018-02-15</td>\n",
       "      <td>Common Myna</td>\n",
       "      <td>Acridotheres tristis</td>\n",
       "      <td>36</td>\n",
       "      <td>10998</td>\n",
       "      <td>-37.8038</td>\n",
       "      <td>144.9118</td>\n",
       "      <td>Dynon Road Tidal Canal Wildlife Sanctuary Down...</td>\n",
       "    </tr>\n",
       "    <tr>\n",
       "      <th>8</th>\n",
       "      <td>2018-02-15</td>\n",
       "      <td>Common Starling</td>\n",
       "      <td>Sturnus vulgaris</td>\n",
       "      <td>3</td>\n",
       "      <td>10999</td>\n",
       "      <td>-37.8038</td>\n",
       "      <td>144.9118</td>\n",
       "      <td>Dynon Road Tidal Canal Wildlife Sanctuary Down...</td>\n",
       "    </tr>\n",
       "    <tr>\n",
       "      <th>9</th>\n",
       "      <td>2018-03-19</td>\n",
       "      <td>Common Starling</td>\n",
       "      <td>Sturnus vulgaris</td>\n",
       "      <td>0</td>\n",
       "      <td>10999</td>\n",
       "      <td>-37.8038</td>\n",
       "      <td>144.9118</td>\n",
       "      <td>Dynon Road Tidal Canal Wildlife Sanctuary Down...</td>\n",
       "    </tr>\n",
       "  </tbody>\n",
       "</table>\n",
       "</div>"
      ],
      "text/plain": [
       "  sighting_date            common_name       scientific_name  sighting_count  \\\n",
       "0    2018-03-12      Australian Magpie    Gymnorhina tibicen               2   \n",
       "1    2018-02-28  Australian White Ibis  Threskiornis molucca             141   \n",
       "2    2018-03-12  Australian White Ibis  Threskiornis molucca              83   \n",
       "3    2018-02-28          Chestnut Teal         Anas castanea               7   \n",
       "4    2018-03-12          Chestnut Teal         Anas castanea               5   \n",
       "5    2018-03-06       Common Blackbird         Turdus merula               1   \n",
       "6    2018-03-19       Common Blackbird         Turdus merula               3   \n",
       "7    2018-02-15            Common Myna  Acridotheres tristis              36   \n",
       "8    2018-02-15        Common Starling      Sturnus vulgaris               3   \n",
       "9    2018-03-19        Common Starling      Sturnus vulgaris               0   \n",
       "\n",
       "   victorian_biodiversity_atlas_code      lat       lon  \\\n",
       "0                              10705 -37.8038  144.9118   \n",
       "1                              10179 -37.8038  144.9118   \n",
       "2                              10179 -37.8038  144.9118   \n",
       "3                              10210 -37.8038  144.9118   \n",
       "4                              10210 -37.8038  144.9118   \n",
       "5                              10991 -37.8038  144.9118   \n",
       "6                              10991 -37.8038  144.9118   \n",
       "7                              10998 -37.8038  144.9118   \n",
       "8                              10999 -37.8038  144.9118   \n",
       "9                              10999 -37.8038  144.9118   \n",
       "\n",
       "                                           loc1_desc  \n",
       "0  Dynon Road Tidal Canal Wildlife Sanctuary Down...  \n",
       "1  Dynon Road Tidal Canal Wildlife Sanctuary Down...  \n",
       "2  Dynon Road Tidal Canal Wildlife Sanctuary Down...  \n",
       "3  Dynon Road Tidal Canal Wildlife Sanctuary Down...  \n",
       "4  Dynon Road Tidal Canal Wildlife Sanctuary Down...  \n",
       "5  Dynon Road Tidal Canal Wildlife Sanctuary Down...  \n",
       "6  Dynon Road Tidal Canal Wildlife Sanctuary Down...  \n",
       "7  Dynon Road Tidal Canal Wildlife Sanctuary Down...  \n",
       "8  Dynon Road Tidal Canal Wildlife Sanctuary Down...  \n",
       "9  Dynon Road Tidal Canal Wildlife Sanctuary Down...  "
      ]
     },
     "execution_count": 5,
     "metadata": {},
     "output_type": "execute_result"
    }
   ],
   "source": [
    "birds_df.head(10)"
   ]
  },
  {
   "cell_type": "code",
   "execution_count": 6,
   "metadata": {
    "tags": []
   },
   "outputs": [
    {
     "name": "stdout",
     "output_type": "stream",
     "text": [
      "sighting_date                        0\n",
      "common_name                          0\n",
      "scientific_name                      0\n",
      "sighting_count                       0\n",
      "victorian_biodiversity_atlas_code    0\n",
      "lat                                  0\n",
      "lon                                  0\n",
      "loc1_desc                            0\n",
      "dtype: int64\n"
     ]
    }
   ],
   "source": [
    "# Checking NA is the birds_df \n",
    "\n",
    "missing_values = birds_df.isna().sum()\n",
    "print(missing_values)\n"
   ]
  },
  {
   "cell_type": "markdown",
   "metadata": {},
   "source": [
    "# **Part 4- EDA on birds_df**\n"
   ]
  },
  {
   "cell_type": "code",
   "execution_count": 7,
   "metadata": {
    "tags": []
   },
   "outputs": [
    {
     "name": "stdout",
     "output_type": "stream",
     "text": [
      "Date range for the data:\n",
      "Earliest date: 2018-02-15\n",
      "Latest date: 2018-03-19\n"
     ]
    }
   ],
   "source": [
    "# Finding the date set of the dataset\n",
    "earliest_date = birds_df['sighting_date'].min()\n",
    "latest_date = birds_df['sighting_date'].max()\n",
    "\n",
    "# Display the date range\n",
    "print(\"Date range for the data:\")\n",
    "print(\"Earliest date:\", earliest_date)\n",
    "print(\"Latest date:\", latest_date)\n"
   ]
  },
  {
   "cell_type": "code",
   "execution_count": 8,
   "metadata": {
    "tags": []
   },
   "outputs": [
    {
     "name": "stdout",
     "output_type": "stream",
     "text": [
      "Number of unique birds sighted: 50\n",
      "Unique common bird names:\n",
      "['Australian Magpie' 'Australian White Ibis' 'Chestnut Teal'\n",
      " 'Common Blackbird' 'Common Myna' 'Common Starling' 'Dusky Moorhen'\n",
      " 'Eastern Great Egret' 'Little Pied Cormorant' 'Little Raven'\n",
      " 'Little Wattlebird' 'Magpie-lark' 'Musk Lorikeet' 'Nankeen Night Heron'\n",
      " 'New Holland Honeyeater' 'Pacific Black Duck' 'Rainbow Lorikeet'\n",
      " 'Red Wattlebird' 'Rock Dove' 'Spotted Turtle-Dove' 'Superb Fairy-wren'\n",
      " 'White-plumed Honeyeater' 'Willie Wagtail' 'Clamorous Reed Warbler'\n",
      " 'House Sparrow' 'Noisy Miner' 'White-faced Heron' 'Black Swan'\n",
      " 'Brown Thornbill' 'Darter' 'Eurasian Coot' 'Grey Teal'\n",
      " 'Hoary-headed Grebe' 'Little Black Cormorant'\n",
      " 'Phylidonyris novaehollandiae' 'Silver Gull' 'Welcome Swallow'\n",
      " 'White-browed Scrubwren' 'Hardhead' 'Australasian Grebe' 'Bell Miner'\n",
      " 'Tree Martin' 'Great Cormorant' 'Spotted Pardalote' 'Crested Pigeon'\n",
      " 'Crested Tern' 'European Greenfinch' 'Australian Wood Duck'\n",
      " 'Masked Lapwing' 'Red-rumped Parrot']\n"
     ]
    }
   ],
   "source": [
    "# counting number of unique values in the column \"common_name\"\n",
    "num_unique = birds_df['common_name'].nunique()\n",
    "\n",
    "# Display the number of unique values\n",
    "print(\"Number of unique birds sighted:\", num_unique)\n",
    "\n",
    "# Display the unique values\n",
    "unique_values = birds_df['common_name'].unique()\n",
    "print(\"Unique common bird names:\")\n",
    "print(unique_values)\n"
   ]
  },
  {
   "cell_type": "code",
   "execution_count": 9,
   "metadata": {
    "tags": []
   },
   "outputs": [
    {
     "name": "stdout",
     "output_type": "stream",
     "text": [
      "Total sight count for each unique type of birds:\n",
      "common_name\n",
      "Australasian Grebe                10\n",
      "Australian Magpie                 20\n",
      "Australian White Ibis            471\n",
      "Australian Wood Duck               1\n",
      "Bell Miner                         8\n",
      "Black Swan                         6\n",
      "Brown Thornbill                    6\n",
      "Chestnut Teal                    364\n",
      "Clamorous Reed Warbler            11\n",
      "Common Blackbird                  46\n",
      "Common Myna                      539\n",
      "Common Starling                  141\n",
      "Crested Pigeon                    58\n",
      "Crested Tern                       1\n",
      "Darter                             2\n",
      "Dusky Moorhen                     21\n",
      "Eastern Great Egret                4\n",
      "Eurasian Coot                      9\n",
      "European Greenfinch                1\n",
      "Great Cormorant                   22\n",
      "Grey Teal                         69\n",
      "Hardhead                           7\n",
      "Hoary-headed Grebe                 1\n",
      "House Sparrow                    420\n",
      "Little Black Cormorant            65\n",
      "Little Pied Cormorant             77\n",
      "Little Raven                     165\n",
      "Little Wattlebird                118\n",
      "Magpie-lark                       90\n",
      "Masked Lapwing                     1\n",
      "Musk Lorikeet                     38\n",
      "Nankeen Night Heron               10\n",
      "New Holland Honeyeater            67\n",
      "Noisy Miner                       30\n",
      "Pacific Black Duck                92\n",
      "Phylidonyris novaehollandiae       7\n",
      "Rainbow Lorikeet                  88\n",
      "Red Wattlebird                   104\n",
      "Red-rumped Parrot                  1\n",
      "Rock Dove                       1308\n",
      "Silver Gull                     1311\n",
      "Spotted Pardalote                 13\n",
      "Spotted Turtle-Dove              317\n",
      "Superb Fairy-wren                101\n",
      "Tree Martin                        7\n",
      "Welcome Swallow                   30\n",
      "White-browed Scrubwren             2\n",
      "White-faced Heron                 14\n",
      "White-plumed Honeyeater          370\n",
      "Willie Wagtail                    48\n",
      "Name: sighting_count, dtype: int64\n"
     ]
    }
   ],
   "source": [
    "# calculating the sum of the sight_count of each unique group\n",
    "sight_count_totals = birds_df.groupby('common_name')['sighting_count'].sum()\n",
    "\n",
    "# Displaying the total of each bird\n",
    "print(\"Total sight count for each unique type of birds:\")\n",
    "print(sight_count_totals)\n"
   ]
  },
  {
   "cell_type": "code",
   "execution_count": 10,
   "metadata": {
    "tags": []
   },
   "outputs": [
    {
     "name": "stdout",
     "output_type": "stream",
     "text": [
      "Total sight count for each unique value of 'common_name' (sorted by largest to smallest):\n",
      "common_name\n",
      "Silver Gull                     1311\n",
      "Rock Dove                       1308\n",
      "Common Myna                      539\n",
      "Australian White Ibis            471\n",
      "House Sparrow                    420\n",
      "White-plumed Honeyeater          370\n",
      "Chestnut Teal                    364\n",
      "Spotted Turtle-Dove              317\n",
      "Little Raven                     165\n",
      "Common Starling                  141\n",
      "Little Wattlebird                118\n",
      "Red Wattlebird                   104\n",
      "Superb Fairy-wren                101\n",
      "Pacific Black Duck                92\n",
      "Magpie-lark                       90\n",
      "Rainbow Lorikeet                  88\n",
      "Little Pied Cormorant             77\n",
      "Grey Teal                         69\n",
      "New Holland Honeyeater            67\n",
      "Little Black Cormorant            65\n",
      "Crested Pigeon                    58\n",
      "Willie Wagtail                    48\n",
      "Common Blackbird                  46\n",
      "Musk Lorikeet                     38\n",
      "Noisy Miner                       30\n",
      "Welcome Swallow                   30\n",
      "Great Cormorant                   22\n",
      "Dusky Moorhen                     21\n",
      "Australian Magpie                 20\n",
      "White-faced Heron                 14\n",
      "Spotted Pardalote                 13\n",
      "Clamorous Reed Warbler            11\n",
      "Australasian Grebe                10\n",
      "Nankeen Night Heron               10\n",
      "Eurasian Coot                      9\n",
      "Bell Miner                         8\n",
      "Phylidonyris novaehollandiae       7\n",
      "Hardhead                           7\n",
      "Tree Martin                        7\n",
      "Brown Thornbill                    6\n",
      "Black Swan                         6\n",
      "Eastern Great Egret                4\n",
      "Darter                             2\n",
      "White-browed Scrubwren             2\n",
      "Australian Wood Duck               1\n",
      "Hoary-headed Grebe                 1\n",
      "Red-rumped Parrot                  1\n",
      "Masked Lapwing                     1\n",
      "European Greenfinch                1\n",
      "Crested Tern                       1\n",
      "Name: sighting_count, dtype: int64\n"
     ]
    }
   ],
   "source": [
    "# sort the sight count from largest to smallest\n",
    "sorted_sight_count_totals = sight_count_totals.sort_values(ascending=False)\n",
    "\n",
    "# Printing this sorted list\n",
    "print(\"Total sight count for each unique value of 'common_name' (sorted by largest to smallest):\")\n",
    "print(sorted_sight_count_totals)\n"
   ]
  },
  {
   "cell_type": "code",
   "execution_count": 11,
   "metadata": {
    "tags": []
   },
   "outputs": [
    {
     "data": {
      "image/png": "[encoded data removed]",
      "text/plain": [
       "<Figure size 1000x600 with 1 Axes>"
      ]
     },
     "metadata": {},
     "output_type": "display_data"
    }
   ],
   "source": [
    "\n",
    "# Plotting the sightings from largest to smallest\n",
    "plt.figure(figsize=(10, 6))\n",
    "sorted_sight_count_totals.plot(kind='bar', color='forestgreen')\n",
    "plt.title('Total Sight Count for Each Bird')\n",
    "plt.xlabel('Common Name')\n",
    "plt.ylabel('Total Sightings')\n",
    "plt.xticks(rotation=90)  # Rotate x-axis labels for better readability\n",
    "plt.grid(axis='y')  # Add gridlines for y-axis\n",
    "plt.tight_layout()\n",
    "plt.show()\n"
   ]
  },
  {
   "cell_type": "code",
   "execution_count": 12,
   "metadata": {
    "tags": []
   },
   "outputs": [],
   "source": [
    "# Map to show bird sightings"
   ]
  },
  {
   "cell_type": "markdown",
   "metadata": {
    "tags": []
   },
   "source": [
    "# **Part  - Fetching Urban Vegetation Data**\n"
   ]
  },
  {
   "cell_type": "code",
   "execution_count": null,
   "metadata": {
    "tags": []
   },
   "outputs": [],
   "source": [
    "# https://data.melbourne.vic.gov.au/explore/dataset/tree-canopies-public-realm-2018-urban-forest/information/\n",
    "dataset_id = 'tree-canopies-public-realm-2018-urban-forest'\n",
    "\n",
    "base_url = 'https://data.melbourne.vic.gov.au/api/explore/v2.1/catalog/datasets/'\n",
    "# apikey = ''\n",
    "dataset_id = dataset_id\n",
    "format = 'csv'\n",
    "\n",
    "url = f'{base_url}{dataset_id}/exports/{format}'\n",
    "params = {\n",
    "    'select': '*',\n",
    "    'limit': -1, # all records\n",
    "    'lang': 'en',\n",
    "    'timezone': 'UTC'\n",
    "    #'api_key': apikey\n",
    "}\n",
    "\n",
    "#GET request \n",
    "response = requests.get(url, params = params)\n",
    "\n",
    "if response.status_code == 200:\n",
    "    # StringIO to read the CSV data\n",
    "    url_content = response.content.decode('utf-8')\n",
    "    canopies_df = pd.read_csv(StringIO(url_content), delimiter= ';')\n",
    "    print(canopies_df.sample(10, random_state = 999))\n",
    "else: \n",
    "    print(f'Request failed with status code{response.status_code}')"
   ]
  },
  {
   "cell_type": "code",
   "execution_count": null,
   "metadata": {
    "tags": []
   },
   "outputs": [],
   "source": [
    "print(len(canopies_df))\n",
    "canopies_df.head(10)"
   ]
  },
  {
   "cell_type": "code",
   "execution_count": null,
   "metadata": {
    "tags": []
   },
   "outputs": [],
   "source": [
    "\n"
   ]
  },
  {
   "cell_type": "markdown",
   "metadata": {
    "tags": []
   },
   "source": [
    "# **Part  - Pre-processing Urban Vegetation Data**"
   ]
  },
  {
   "cell_type": "markdown",
   "metadata": {},
   "source": [
    "# **References**\n"
   ]
  },
  {
   "cell_type": "markdown",
   "metadata": {},
   "source": [
    "folium"
   ]
  }
 ],
 "metadata": {
  "kernelspec": {
   "display_name": "Python 3 (ipykernel)",
   "language": "python",
   "name": "python3"
  },
  "language_info": {
   "codemirror_mode": {
    "name": "ipython",
    "version": 3
   },
   "file_extension": ".py",
   "mimetype": "text/x-python",
   "name": "python",
   "nbconvert_exporter": "python",
   "pygments_lexer": "ipython3",
   "version": "3.8.18"
  },
  "vscode": {
   "interpreter": {
    "hash": "369f2c481f4da34e4445cda3fffd2e751bd1c4d706f27375911949ba6bb62e1c"
   }
  }
 },
 "nbformat": 4,
 "nbformat_minor": 4
}
