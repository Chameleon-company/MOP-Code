{
 "cells": [
  {
   "cell_type": "markdown",
   "metadata": {},
   "source": [
    "Code for API v2.1 City of Melburne data collection"
   ]
  },
  {
   "cell_type": "code",
   "execution_count": null,
   "metadata": {},
   "outputs": [],
   "source": [
    "# Import required modules\n",
    "import requests\n",
    "import pandas as pd"
   ]
  },
  {
   "cell_type": "code",
   "execution_count": null,
   "metadata": {},
   "outputs": [],
   "source": [
    "# Function to get data from website using API\n",
    "def get_data(base, data_url, offset=0):    \n",
    "    # Set the filters, limit retrieves 20 rows at a time, offset says where to start data collection\n",
    "    filters = f'records?limit={50}&offset={offset}&timezone=UTC'\n",
    "    # Make the url from base, data url and filters variables stored ouside loop\n",
    "    url = f'{base}{data_url}/{filters}'\n",
    "    # Use the requests function to get the data\n",
    "    result = requests.get(url)\n",
    "    # Check that the request works, error code 200 = successful\n",
    "    if result.status_code == 200:\n",
    "        # Save results as a json file\n",
    "        result_json = result.json()\n",
    "        # Store a variable of max_results with total of dataset\n",
    "        max_results = result_json['total_count']\n",
    "        # Save the results key data to a list variable\n",
    "        records = result_json['results']\n",
    "    else:\n",
    "        # If data is not collected correctly return the error\n",
    "        print(\"ERROR GETTING DATA: \", result.status_code)\n",
    "        max_results = 0\n",
    "        records = []\n",
    "    # At end of function, return the json results in records, max_results count and offset\n",
    "    return [records, max_results, offset]\n",
    "\n",
    "\n",
    "\n",
    "# Collect data from API\n",
    "# Set offset increment\n",
    "# (needs to match offset in get data function)\n",
    "OFFSET_INCREMENT = 50\n",
    "# Base url (this should be the same for all datasets)\n",
    "BASE_URL = 'https://data.melbourne.vic.gov.au/api/explore/v2.1/catalog/datasets/'\n",
    "# Set specific url \n",
    "# (change this variable for the dataset you are working with)\n",
    "SPECIFIC_PATH = 'pre-colonial-plant-list'\n",
    "# Call the get data function, passing in variables above, save to result\n",
    "result = get_data(BASE_URL, SPECIFIC_PATH)\n",
    "# Save the records data returned in the get_data function to records list variable\n",
    "records = result[0]\n",
    "# Save the dataset size data returned in the get_data function to max_results variable\n",
    "max_results = result[1] \n",
    "# Increase the offset returned in the get_data function (result[2]) by the offset increment\n",
    "offset = result[2] + OFFSET_INCREMENT\n",
    "# Check the length of the data returned and compare it against the max_results variable\n",
    "# If the length o fthe data is less than the max_results, run the while loop\n",
    "while len(records) != max_results:\n",
    "    # Call the get data function again, passing in url, specific path and new offset value\n",
    "    data = get_data(BASE_URL, SPECIFIC_PATH, offset)\n",
    "    # Add the data collected to the existing records list\n",
    "    records += data[0]\n",
    "    # Increase the offset by the offset increment\n",
    "    offset += OFFSET_INCREMENT\n",
    "# Convert the records list of dictionaries into a pandas dataframe \n",
    "df = pd.DataFrame(records)\n",
    "# Print the dataframe\n",
    "df\n",
    "\n",
    "    \n",
    "\n",
    "    \n",
    "\n",
    "    "
   ]
  }
 ],
 "metadata": {
  "language_info": {
   "name": "python"
  }
 },
 "nbformat": 4,
 "nbformat_minor": 2
}
