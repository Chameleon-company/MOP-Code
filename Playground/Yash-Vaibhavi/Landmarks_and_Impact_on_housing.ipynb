{
 "cells": [
  {
   "cell_type": "markdown",
   "metadata": {},
   "source": [
    "<div class=\"usecase-title\">Relationship between cost of housing and amenities of a suburb</div>\n",
    "\n",
    "<div class=\"usecase-authors\"><b>Authored by: Yash K Daware and Vaibhavi J Deo </b></div>"
   ]
  },
  {
   "cell_type": "markdown",
   "metadata": {},
   "source": [
    "<div class=\"usecase-duration\"><b>Duration:</b> 240 mins</div>\n",
    "\n",
    "<div class=\"usecase-level-skill\">\n",
    "    <div class=\"usecase-level\"><b>Level: </b>{Intermediate}</div>\n",
    "    <div class=\"usecase-skill\"><b>Pre-requisite Skills: </b>Python, Numpy, Pandas, Seaborn, Plotly, Folium</div>\n",
    "</div>"
   ]
  },
  {
   "cell_type": "markdown",
   "metadata": {},
   "source": [
    "<div class=\"usecase-section-header\">Scenario</div>"
   ]
  },
  {
   "cell_type": "markdown",
   "metadata": {},
   "source": [
    "\n",
    "**Scenario 1: New Home Buyer's Perspective**\n",
    "\n",
    "As a prospective homebuyer in Suburb X, understanding the factors influencing property prices is crucial. By analyzing amenities like hospitals, places of worship, and shopping centers, along with property prices, buyers can make informed decisions. Data analysis reveals that Suburb X's higher property prices are linked to its quality amenities. This insight will help buyers assess the value of properties in the area.\n",
    "\n",
    "**Scenario 2: Builder's Perspective**\n",
    "\n",
    "Builders planning projects in Suburb Y analyze market dynamics and amenities' impact on property demand. By studying recent sales and amenities like hospitals and shopping centers, builders identify prime locations for development. Insights gained help tailor projects to meet buyer preferences, maximizing success and profitability.\n",
    "\n",
    "**Scenario 3: Council's Perspective**\n",
    "\n",
    "Local councils overseeing Suburb Z can use an analysis like this to enhance its appeal and livability. Through data analysis and stakeholder engagement, council can assess existing amenities and identify areas for improvement. Strategic initiatives, such as infrastructure investments and public-private partnerships, boost Suburb Z's attractiveness and stimulate economic development."
   ]
  },
  {
   "cell_type": "markdown",
   "metadata": {},
   "source": [
    "<div class=\"usecase-section-header\">In this usecase we intend to understand what impact does the amenities of a suburb such as hospitals, places of worship, shopping centres, tourist attractions have on the housing market of the suburb.</div>"
   ]
  },
  {
   "cell_type": "markdown",
   "metadata": {},
   "source": [
    "For the usecase, we will be doing correlation analysis and regression analysis, I will begin by analyzing property data to explore how prices vary across different suburbs. Next, I will examine the number and types of landmarks present in each area to determine if their presence correlates with variations in median property prices.\n",
    "\n",
    "The primary objective is to investigate whether the quantity and nature of landmarks have an impact on property prices. By conducting this analysis, I aim to identify which types of landmarks, if any, significantly influence property prices. This initial investigation will provide insights into the relationship between landmarks and property values within the studied suburb. \n",
    "\n",
    "This can help home buyers in understanding how the property prices are driven by the landmarks present in the suburb of their choice, can help real estate agents to do market segmentation and be able to better serve their clients in their budgets and amenety preferences. Can also aid builders in projecting the outcomes of the projects in each area. Also shall help Councils to understand what measures to take to make the area more liveable and identifies areas of improvement. "
   ]
  },
  {
   "cell_type": "markdown",
   "metadata": {},
   "source": []
  }
 ],
 "metadata": {
  "kernelspec": {
   "display_name": "Python 3",
   "language": "python",
   "name": "python3"
  },
  "language_info": {
   "codemirror_mode": {
    "name": "ipython",
    "version": 3
   },
   "file_extension": ".py",
   "mimetype": "text/x-python",
   "name": "python",
   "nbconvert_exporter": "python",
   "pygments_lexer": "ipython3",
   "version": "3.10.6"
  },
  "vscode": {
   "interpreter": {
    "hash": "369f2c481f4da34e4445cda3fffd2e751bd1c4d706f27375911949ba6bb62e1c"
   }
  }
 },
 "nbformat": 4,
 "nbformat_minor": 4
}
