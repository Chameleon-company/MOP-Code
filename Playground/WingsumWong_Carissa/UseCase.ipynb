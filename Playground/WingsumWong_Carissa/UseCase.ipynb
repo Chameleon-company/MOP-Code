{
  "nbformat": 4,
  "nbformat_minor": 0,
  "metadata": {
    "colab": {
      "provenance": []
    },
    "kernelspec": {
      "name": "python3",
      "display_name": "Python 3"
    },
    "language_info": {
      "name": "python"
    }
  },
  "cells": [
    {
      "cell_type": "code",
      "source": [
        "from IPython.core.display import HTML\n",
        "\n",
        "HTML(\n",
        "    \"\"\"\n",
        "    <style>\n",
        "\n",
        "    .usecase-title, .usecase-duration, .usecase-section-header {\n",
        "      padding-left: 15px;\n",
        "      padding-bottom: 10px;\n",
        "      padding-top: 10px;\n",
        "      padding-right: 15px;\n",
        "      background-color: #0f9295;\n",
        "      color: #fff;\n",
        "      }\n",
        "\n",
        "    .usecase-title {\n",
        "      font-size: 1.7em;\n",
        "      font-weight: bold;\n",
        "      }\n",
        "\n",
        "    .usecase-authors, .usecase-level, .usecase-skill {\n",
        "      padding-left: 15px;\n",
        "      padding-bottom: 7px;\n",
        "      padding-top: 7px;\n",
        "      background-color: #baeaeb;\n",
        "      font-size: 1.4em;\n",
        "      color: #121212;\n",
        "      }\n",
        "\n",
        "    .usecase-level-skill {\n",
        "      display: flex;\n",
        "      }\n",
        "\n",
        "    .usecase-level, .usecase-skill {\n",
        "      width: 50%;\n",
        "      }\n",
        "\n",
        "    .usecase-duration, .usecase-skill {\n",
        "      text-align: right;\n",
        "      padding-right: 15px;\n",
        "      padding-bottom: 8px;\n",
        "      font-size: 1.4em;\n",
        "      }\n",
        "\n",
        "    .usecase-section-header {\n",
        "      font-weight: bold;\n",
        "      font-size: 1.5em;\n",
        "      }\n",
        "\n",
        "    .usecase-subsection-header, .usecase-subsection-blurb {\n",
        "      font-weight: bold;\n",
        "      font-size: 1.2em;\n",
        "      color: #121212;\n",
        "      }\n",
        "\n",
        "    .usecase-subsection-blurb {\n",
        "      font-size: 1em;\n",
        "      font-style: italic;\n",
        "      }\n",
        "\n",
        "    </style>\n",
        "    \"\"\")"
      ],
      "metadata": {
        "colab": {
          "base_uri": "https://localhost:8080/",
          "height": 16
        },
        "id": "LUZe49zBNyDN",
        "outputId": "76f5368a-4ba3-4252-9a09-98e749981e71"
      },
      "execution_count": 1,
      "outputs": [
        {
          "output_type": "execute_result",
          "data": {
            "text/plain": [
              "<IPython.core.display.HTML object>"
            ],
            "text/html": [
              "\n",
              "    <style>\n",
              "\n",
              "    .usecase-title, .usecase-duration, .usecase-section-header {\n",
              "      padding-left: 15px;\n",
              "      padding-bottom: 10px;\n",
              "      padding-top: 10px;\n",
              "      padding-right: 15px;\n",
              "      background-color: #0f9295;\n",
              "      color: #fff;\n",
              "      }\n",
              "\n",
              "    .usecase-title {\n",
              "      font-size: 1.7em;\n",
              "      font-weight: bold;\n",
              "      }\n",
              "\n",
              "    .usecase-authors, .usecase-level, .usecase-skill {\n",
              "      padding-left: 15px;\n",
              "      padding-bottom: 7px;\n",
              "      padding-top: 7px;\n",
              "      background-color: #baeaeb;\n",
              "      font-size: 1.4em;\n",
              "      color: #121212;\n",
              "      }\n",
              "\n",
              "    .usecase-level-skill {\n",
              "      display: flex;\n",
              "      }\n",
              "\n",
              "    .usecase-level, .usecase-skill {\n",
              "      width: 50%;\n",
              "      }\n",
              "\n",
              "    .usecase-duration, .usecase-skill {\n",
              "      text-align: right;\n",
              "      padding-right: 15px;\n",
              "      padding-bottom: 8px;\n",
              "      font-size: 1.4em;\n",
              "      }\n",
              "\n",
              "    .usecase-section-header {\n",
              "      font-weight: bold;\n",
              "      font-size: 1.5em;\n",
              "      }\n",
              "\n",
              "    .usecase-subsection-header, .usecase-subsection-blurb {\n",
              "      font-weight: bold;\n",
              "      font-size: 1.2em;\n",
              "      color: #121212;\n",
              "      }\n",
              "\n",
              "    .usecase-subsection-blurb {\n",
              "      font-size: 1em;\n",
              "      font-style: italic;\n",
              "      }\n",
              "\n",
              "    </style>\n",
              "    "
            ]
          },
          "metadata": {},
          "execution_count": 1
        }
      ]
    },
    {
      "cell_type": "markdown",
      "source": [
        "<div class=\"usecase-title\">Customer Service Analysis</div>\n",
        "<div class=\"usecase-authors\"><b>Authored by: </b> Carissa, Wing Sum Wong</div>"
      ],
      "metadata": {
        "id": "qWa-Ornh3SLR"
      }
    },
    {
      "cell_type": "markdown",
      "source": [
        "<div class=\"usecase-duration\"><b>Duration:</b> 90 mins</div>\n",
        "\n",
        "<div class=\"usecase-level-skill\">\n",
        "    <div class=\"usecase-level\"><b>Level: </b>Intermediate</div>\n",
        "    <div class=\"usecase-skill\"><b>Pre-requisite Skills: </b>Python</div>\n",
        "</div>"
      ],
      "metadata": {
        "id": "JZpdPYXmjHy6"
      }
    },
    {
      "cell_type": "markdown",
      "source": [
        "<div class=\"usecase-section-header\">Scenario</div>"
      ],
      "metadata": {
        "id": "sMbY1Bpq3YKw"
      }
    },
    {
      "cell_type": "markdown",
      "source": [
        "As a member of the City council's service delivery team, I aim to gain a deeper understanding of the service requests that are received through our visitor service centers and various communication channels. The intent is to enhance the efficiency and responsiveness of our services. Specifically, I am looking to:\n",
        "\n",
        "*   Analyze the trends and fluctuations in service requests to identify seasonal patterns or unexpected spikes, informing staffing and resource allocation\n",
        "*   Determine which services are in highest demand and might need additional resources or process improvements\n",
        "*   Gain insights into the specific issues that residents face to tailor our services to meet their needs more effectively\n",
        "*   Recognize long-term patterns in service requests over time to evaluate the impact of our policies and interventions\n",
        "*   Investigate the evolution of customers' preferred communication channels, such as live chat, email, or face-to-face interactions, which will guide us in optimizing these channels and potentially integrating new technologies for improved accessibility and satisfaction\n",
        "*    Review the average resolution times across different categories and channels to identify bottlenecks and best practices, aiming to reduce wait times and increase the overall efficiency of our response to service requests"
      ],
      "metadata": {
        "id": "Y4UWz8uF5kep"
      }
    },
    {
      "cell_type": "markdown",
      "source": [
        "<div class=\"usecase-section-header\">What this use case will teach you</div>"
      ],
      "metadata": {
        "id": "xuYXCYmVjQ2J"
      }
    },
    {
      "cell_type": "markdown",
      "source": [
        "At the end of this use case, you will:\n",
        "\n",
        "*   acquire skills in securely fetching datasets using APIs\n",
        "*   develop proficiency in data preprocessing, cleansing, and integration, preparing for handling real-world data complexities\n",
        "*   enhance my expertise in using visualization tools such as Plotly and Matplotlib, allowing me to create insightful and interactive data presentations\n",
        "*   gain comprehensive experience in conducting a data analysis project from inception to conclusion, providing a 360-degree view of the analytical workflow\n",
        "*   cultivate the ability to independently manage an analysis project, from dataset acquisition to the publication of results\n",
        "*   understand the nuances of service request processing times and learn how to extract meaningful patterns from resolution data\n",
        "*   discover the range and distribution of resolution times across various communication channels, offering insights into operational efficiencies\n",
        "*   identify areas requiring operational improvements and formulate data-driven recommendations for service delivery optimization"
      ],
      "metadata": {
        "id": "xJKbbRtOjSUU"
      }
    },
    {
      "cell_type": "markdown",
      "source": [
        "<div class=\"usecase-section-header\">Background</div>"
      ],
      "metadata": {
        "id": "IDt2O24zjWyf"
      }
    },
    {
      "cell_type": "markdown",
      "source": [
        "In today's customer-centric landscape, the capacity to analyze and respond to service request patterns is pivotal for enhancing service delivery. Our analytical endeavour is anchored in dissecting datasets that capture the dynamic interactions between customers and service providers within an urban setting.\n",
        "\n",
        "I have curated three expansive datasets, each spanning different time frames and offering distinct perspectives into the fabric of customer service interactions:\n",
        "\n",
        "1.   [Melbourne Visitor Contact Stats (2014-2018)](https://data.melbourne.vic.gov.au/explore/dataset/melbourne-visitor-contact-stats/information/)\n",
        "\n",
        "      This dataset records visitor engagement with city programs and contact points. While it reveals the popularity and extent of visitor services, the discontinuity of data beyond 2018 poses challenges for a longitudinal analysis.\n",
        "\n",
        "2.   [Customer service requests, with resolution time (2014-2016)](https://data.melbourne.vic.gov.au/explore/dataset/customer-service-requests-with-resolution-time/information/)\n",
        "\n",
        "      This dataset details the lifecycle of service requests from initiation to resolution. Its utility in evaluating operational efficiency is curtailed by a lack of records post-2016, limiting our insight into recent trends and response strategies.\n",
        "\n",
        "3.   [Customer Service Requests (with digital channel information) (2018)](https://data.melbourne.vic.gov.au/explore/dataset/customer-service-requests-with-digital-channel-information/information/)\n",
        "\n",
        "      Providing a detailed account of the digital communication channels used by customers, this dataset's confinement to a single year offers a mere snapshot, rather than a continuous narrative of customer service interactions.\n",
        "\n",
        "Each dataset, while rich in detail, offers only a fragmentary view of the timeline, leading to a disjointed overall picture when combined. Furthermore, missing records and disparate data collection periods necessitate rigorous data cleaning and consolidation to create a coherent dataset that could enable holistic analysis.\n",
        "\n",
        "Additionally, the evolving preferences for customer communication channels and the advent of new digital platforms are not consistently documented, impeding our ability to construct a complete picture of shifts in customer behavior. Such informational voids and inconsistencies pose significant challenges to the depth and reliability of any trend analysis or correlation study aimed at improving service delivery methods.\n",
        "\n",
        "This task is not merely to analyze these datasets but also to construct a bridge across these informational gaps to inform strategic public service management planning. Our endeavours, while retrospective in appraising past service performance, are equally forward-looking, with the goal of equipping urban service frameworks to meet future customer engagement needs."
      ],
      "metadata": {
        "id": "k9t11hfvjZUg"
      }
    }
  ]
}