{
  "nbformat": 4,
  "nbformat_minor": 0,
  "metadata": {
    "colab": {
      "provenance": [],
      "collapsed_sections": [
        "byk3PKTa3TKx"
      ]
    },
    "kernelspec": {
      "name": "python3",
      "display_name": "Python 3"
    },
    "language_info": {
      "name": "python"
    }
  },
  "cells": [
    {
      "cell_type": "markdown",
      "source": [
        "**Focus area:** Business and Activity\n",
        "\n",
        "Obtain a baseline and analysis into the volume of requests and categories. This will be used to assist with service delivery."
      ],
      "metadata": {
        "id": "xQUzE4UyOgaS"
      }
    },
    {
      "cell_type": "markdown",
      "source": [
        "**Dataset**\n",
        "1.   [Melbourne Visitor Contact Stats](https://data.melbourne.vic.gov.au/explore/dataset/melbourne-visitor-contact-stats/information/)\n",
        "2.   [Customer service requests, with resolution time](https://data.melbourne.vic.gov.au/explore/dataset/customer-service-requests-with-resolution-time/information/)\n",
        "3.   [Customer Service Requests (with digital channel information)](https://data.melbourne.vic.gov.au/explore/dataset/customer-service-requests-with-digital-channel-information/information/)"
      ],
      "metadata": {
        "id": "p5tjSBhgOsN6"
      }
    },
    {
      "cell_type": "markdown",
      "source": [
        "# **Import modules & fetch data from Open Data Melbourne**"
      ],
      "metadata": {
        "id": "NQ5FFMzPYV0v"
      }
    },
    {
      "cell_type": "markdown",
      "source": [
        "### *Method #1 - with limited records (<10000)*"
      ],
      "metadata": {
        "id": "byk3PKTa3TKx"
      }
    },
    {
      "cell_type": "code",
      "execution_count": 1,
      "metadata": {
        "id": "I5prRTEURk9K"
      },
      "outputs": [],
      "source": [
        "# import requests\n",
        "# import pandas as pd\n",
        "# import os\n",
        "\n",
        "# # define function to fetch data from website using API\n",
        "\n",
        "# def fetch_data(base_url, dataset, api_key, num_records = 99, offset = 0):\n",
        "#     all_records = []\n",
        "#     max_offset = 9900  # maximum number of requests\n",
        "\n",
        "#     while True:\n",
        "#         # maximum limit check\n",
        "#         if offset > max_offset:\n",
        "#             break\n",
        "\n",
        "#         # create API request URL\n",
        "#         filters = f'{dataset}/records?limit={num_records}&offset={offset}'\n",
        "#         url = f'{base_url}{filters}&api_key={api_key}'\n",
        "\n",
        "#         # start request\n",
        "#         try:\n",
        "#             result = requests.get(url, timeout=10)\n",
        "#             result.raise_for_status()\n",
        "#             records = result.json().get('results')\n",
        "#         except requests.exceptions.RequestException as e:\n",
        "#             raise Exception(f\"API request failed: {e}\")\n",
        "#         if records is None:\n",
        "#             break\n",
        "#         all_records.extend(records)\n",
        "#         if len(records) < num_records:\n",
        "#             break\n",
        "\n",
        "#         # next cycle offset\n",
        "#         offset += num_records\n",
        "\n",
        "#     # dataframe all data\n",
        "#     df = pd.DataFrame(all_records)\n",
        "#     return df\n",
        "\n",
        "# API_KEY = os.environ.get('MELBOURNE_API_KEY', input(\"Please enter your API key: \"))\n",
        "# BASE_URL = 'https://data.melbourne.vic.gov.au/api/explore/v2.1/catalog/datasets/'"
      ]
    },
    {
      "cell_type": "code",
      "source": [
        "# # get data\n",
        "# df_id = 'customer-service-requests-with-resolution-time'\n",
        "\n",
        "# df = fetch_data(BASE_URL, df_id, API_KEY)\n",
        "\n",
        "# print(f'Number of records: {len(df)}')"
      ],
      "metadata": {
        "id": "i8WQAxjkBb5Q"
      },
      "execution_count": 2,
      "outputs": []
    },
    {
      "cell_type": "markdown",
      "source": [
        "### *Method #2 - with unlimited data records (credit to Te's API tutorial)*"
      ],
      "metadata": {
        "id": "KGqcNjkP3gzY"
      }
    },
    {
      "cell_type": "code",
      "source": [
        "from google.colab import drive\n",
        "import requests\n",
        "import os\n",
        "from io import StringIO\n",
        "\n",
        "import pandas as pd\n",
        "import calendar"
      ],
      "metadata": {
        "id": "H57h8LUL3fGL"
      },
      "execution_count": 3,
      "outputs": []
    },
    {
      "cell_type": "code",
      "source": [
        "drive.mount('/content/gdrive')\n",
        "\n",
        "with open('/content/gdrive/My Drive/Colab Notebooks/apiKey.txt', 'r') as file:\n",
        "    api_key = file.read().strip()\n",
        "\n",
        "api_key = os.getenv(api_key)"
      ],
      "metadata": {
        "colab": {
          "base_uri": "https://localhost:8080/"
        },
        "id": "yeckFTQ9366x",
        "outputId": "3fa6b440-e0fb-41f2-900b-10f840af0b47"
      },
      "execution_count": 4,
      "outputs": [
        {
          "output_type": "stream",
          "name": "stdout",
          "text": [
            "Drive already mounted at /content/gdrive; to attempt to forcibly remount, call drive.mount(\"/content/gdrive\", force_remount=True).\n"
          ]
        }
      ]
    },
    {
      "cell_type": "markdown",
      "source": [
        "# **Dataset:** Melbourne Visitor Contact Stats"
      ],
      "metadata": {
        "id": "_djH1SA04FC_"
      }
    },
    {
      "cell_type": "markdown",
      "source": [
        "## Load dataset"
      ],
      "metadata": {
        "id": "geB2AC2j4ZvG"
      }
    },
    {
      "cell_type": "code",
      "source": [
        "# export endpoint\n",
        "\n",
        "# https://data.melbourne.vic.gov.au/explore/dataset/melbourne-visitor-contact-stats/table/\n",
        "dataset1_id = 'melbourne-visitor-contact-stats'\n",
        "\n",
        "base_URL = 'https://data.melbourne.vic.gov.au/api/explore/v2.1/catalog/datasets/'\n",
        "apikey = api_key\n",
        "dataset1_id = dataset1_id\n",
        "format = 'csv'\n",
        "\n",
        "url = f'{base_URL}{dataset1_id}/exports/{format}'\n",
        "params = {\n",
        "    'select': '*',\n",
        "    'limit': -1,  # all records\n",
        "    'lang': 'en',\n",
        "    'timezone': 'UTC',\n",
        "    'api_key': apikey\n",
        "}\n",
        "\n",
        "# GET request\n",
        "response = requests.get(url, params = params)\n",
        "\n",
        "if response.status_code == 200:\n",
        "    # StringIO to read the CSV data\n",
        "    url_content = response.content.decode('utf-8')\n",
        "    MelVisitor_stat = pd.read_csv(StringIO(url_content), delimiter = ';')\n",
        "    print(MelVisitor_stat.sample(3, random_state = 999))    # test\n",
        "else:\n",
        "    print(f'Request failed with status code {response.status_code}')"
      ],
      "metadata": {
        "colab": {
          "base_uri": "https://localhost:8080/"
        },
        "id": "4BYMbUwP4Epg",
        "outputId": "d9464bbe-0859-4402-966a-6491d854e394"
      },
      "execution_count": 5,
      "outputs": [
        {
          "output_type": "stream",
          "name": "stdout",
          "text": [
            "           date  number_of_contacts                     source  year     month\n",
            "258  2016-01-02               27326    Melbourne Visitor Booth  2016  February\n",
            "0    2018-01-12               21661    Melbourne Visitor Booth  2018  December\n",
            "247  2015-01-02                 261  Melbourne Greeter Service  2015  February\n"
          ]
        }
      ]
    },
    {
      "cell_type": "code",
      "source": [
        "# check length in dataset 1 (dataset1_id)\n",
        "\n",
        "print(f'The dataset contains {len(MelVisitor_stat)} records.')"
      ],
      "metadata": {
        "colab": {
          "base_uri": "https://localhost:8080/"
        },
        "id": "m3znpbNm4Tg8",
        "outputId": "a26c10b3-d719-462c-b876-6b724cde4a9a"
      },
      "execution_count": 6,
      "outputs": [
        {
          "output_type": "stream",
          "name": "stdout",
          "text": [
            "The dataset contains 476 records.\n"
          ]
        }
      ]
    },
    {
      "cell_type": "markdown",
      "source": [
        "## Data cleansing"
      ],
      "metadata": {
        "id": "u-ePhS8M4djR"
      }
    },
    {
      "cell_type": "code",
      "source": [
        "print(f'Number of missing values in each column:\\n\\n{MelVisitor_stat.isna().sum()}')"
      ],
      "metadata": {
        "colab": {
          "base_uri": "https://localhost:8080/"
        },
        "id": "tKxIM0nB4jB4",
        "outputId": "c020faa0-5f63-4ec6-8c14-7dec5172ab8c"
      },
      "execution_count": 7,
      "outputs": [
        {
          "output_type": "stream",
          "name": "stdout",
          "text": [
            "Number of missing values in each column:\n",
            "\n",
            "date                  0\n",
            "number_of_contacts    0\n",
            "source                0\n",
            "year                  0\n",
            "month                 0\n",
            "dtype: int64\n"
          ]
        }
      ]
    },
    {
      "cell_type": "code",
      "source": [
        "print(f\"Number of unique sources: {MelVisitor_stat['source'].nunique()}\\n\")\n",
        "print(f\"{MelVisitor_stat['source'].unique()}\")"
      ],
      "metadata": {
        "colab": {
          "base_uri": "https://localhost:8080/"
        },
        "id": "uG9Eq2bX4mZe",
        "outputId": "714bbba1-09e0-4461-ad4e-54c396898120"
      },
      "execution_count": 8,
      "outputs": [
        {
          "output_type": "stream",
          "name": "stdout",
          "text": [
            "Number of unique sources: 12\n",
            "\n",
            "['Melbourne Visitor Booth' 'Melbourne Greeter Service'\n",
            " 'Melbourne Visitor Shuttle' 'Melbourne Visitor Centre'\n",
            " 'City Ambassador Program' 'Inbox email enquiries' 'Inbox email Inquiries'\n",
            " 'Cruise Ship Program' \"Cooks' Cottage\" 'Fitzroy Gardens Visitor Centre'\n",
            " 'Melbourne Visitor Hub at Town Hall' 'Queen Victoria Market Visitor Hub']\n"
          ]
        }
      ]
    },
    {
      "cell_type": "markdown",
      "source": [
        "Based on the analysis of unique values from the 'source' column, and considering the termination and opening of certain visitor service centers as follows, 'Inbox email enquiries' and 'Inbox email Inquiries' have been identified as duplicates representing the same source. To ensure consistency and avoid misleading results, these entries have been consolidated under a single label. Furthermore, while the Melbourne Visitor Hub at Town Hall could be regarded as a continuation or relocation of the Melbourne Visitor Centre, they will be analyzed as separate entities in this analysis due to their distinct locations and potential differences in visitor interactions.\n",
        "\n",
        "Significant dates to note include:\n",
        "*   The Melbourne Visitor Shuttle ceased operations in September 2017\n",
        "*   The Melbourne Visitor Centre was closed on Sunday, 19th of August, 2018\n",
        "*   The Melbourne Visitor Hub at Town Hall opened on Monday, 20th of August, 2018\n",
        "*   The Visitor Hub at Queen Victoria Market opened in late November 2018"
      ],
      "metadata": {
        "id": "nNH2knav4rRV"
      }
    },
    {
      "cell_type": "code",
      "source": [
        "# replacing 'Inbox email Inquiries' with 'Inbox email enquires' to ensure consistency\n",
        "MelVisitor_stat['source'] = MelVisitor_stat['source'].replace(\n",
        "    {'Inbox email Inquiries': 'Inbox email enquiries'})\n",
        "\n",
        "print(f\"Number of unique sources: {MelVisitor_stat['source'].nunique()}\\n\\n{MelVisitor_stat['source'].unique()}\")"
      ],
      "metadata": {
        "colab": {
          "base_uri": "https://localhost:8080/"
        },
        "id": "9DXX3eRY4oS6",
        "outputId": "f538f231-2191-486c-a57a-c3979d75360d"
      },
      "execution_count": 9,
      "outputs": [
        {
          "output_type": "stream",
          "name": "stdout",
          "text": [
            "Number of unique sources: 11\n",
            "\n",
            "['Melbourne Visitor Booth' 'Melbourne Greeter Service'\n",
            " 'Melbourne Visitor Shuttle' 'Melbourne Visitor Centre'\n",
            " 'City Ambassador Program' 'Inbox email enquiries' 'Cruise Ship Program'\n",
            " \"Cooks' Cottage\" 'Fitzroy Gardens Visitor Centre'\n",
            " 'Melbourne Visitor Hub at Town Hall' 'Queen Victoria Market Visitor Hub']\n"
          ]
        }
      ]
    },
    {
      "cell_type": "code",
      "source": [
        "# print(MelVisitor_stat.head(2))"
      ],
      "metadata": {
        "id": "3DWIahKW2LST"
      },
      "execution_count": 10,
      "outputs": []
    },
    {
      "cell_type": "markdown",
      "source": [
        "## Aggregation"
      ],
      "metadata": {
        "id": "x-vals294733"
      }
    },
    {
      "cell_type": "markdown",
      "source": [
        "The aim is to calculate the total number of contacts at Visitor Service Centres, aggregated by year and month, which will help us understand potential trends in visitor engagement over the years, providing insight into how engagement levels have changed over time."
      ],
      "metadata": {
        "id": "rRsPVRkB5SJ4"
      }
    },
    {
      "cell_type": "code",
      "source": [
        "print(MelVisitor_stat.dtypes)"
      ],
      "metadata": {
        "colab": {
          "base_uri": "https://localhost:8080/"
        },
        "id": "zfHQF1zv4oL1",
        "outputId": "6d70b17c-060a-44aa-bd56-13e79c34cc79"
      },
      "execution_count": 11,
      "outputs": [
        {
          "output_type": "stream",
          "name": "stdout",
          "text": [
            "date                  object\n",
            "number_of_contacts     int64\n",
            "source                object\n",
            "year                   int64\n",
            "month                 object\n",
            "dtype: object\n"
          ]
        }
      ]
    },
    {
      "cell_type": "code",
      "source": [
        "# convert column 'date' to date format\n",
        "MelVisitor_stat['date'] = pd.to_datetime(MelVisitor_stat['date'])\n",
        "\n",
        "# convert column 'month' from strings to numbers\n",
        "month_num = {month: index for index, month in enumerate(calendar.month_name) if month}\n",
        "\n",
        "MelVisitor_stat['month'] = MelVisitor_stat['month'].map(month_num)"
      ],
      "metadata": {
        "id": "FfoKeecW4oBz"
      },
      "execution_count": 12,
      "outputs": []
    },
    {
      "cell_type": "code",
      "source": [
        "# print(MelVisitor_stat.dtypes)"
      ],
      "metadata": {
        "id": "aBbJe79i5YFK"
      },
      "execution_count": 13,
      "outputs": []
    },
    {
      "cell_type": "code",
      "source": [
        "# check the first few rows to confirm the conversion\n",
        "print(MelVisitor_stat['date'].head(2))"
      ],
      "metadata": {
        "colab": {
          "base_uri": "https://localhost:8080/"
        },
        "id": "DeLbUHPR5YCr",
        "outputId": "2c6d24e7-75c3-477a-d72e-f7cc8e0271f8"
      },
      "execution_count": 14,
      "outputs": [
        {
          "output_type": "stream",
          "name": "stdout",
          "text": [
            "0   2018-01-12\n",
            "1   2018-01-12\n",
            "Name: date, dtype: datetime64[ns]\n"
          ]
        }
      ]
    },
    {
      "cell_type": "code",
      "source": [
        "sum_contacts = MelVisitor_stat.groupby(['year', 'month'])['number_of_contacts'].sum().reset_index()\n",
        "sum_contacts = sum_contacts.sort_values(by = ['year', 'month'], ascending = [True, True])"
      ],
      "metadata": {
        "id": "66vz_9aK5b3n"
      },
      "execution_count": 15,
      "outputs": []
    },
    {
      "cell_type": "code",
      "source": [
        "print(sum_contacts.head(10))"
      ],
      "metadata": {
        "colab": {
          "base_uri": "https://localhost:8080/"
        },
        "id": "dYtWg-mi5b1Y",
        "outputId": "5b3c1417-dcaa-4238-b799-a3b26746a54e"
      },
      "execution_count": 16,
      "outputs": [
        {
          "output_type": "stream",
          "name": "stdout",
          "text": [
            "   year  month  number_of_contacts\n",
            "0  2014      7              162589\n",
            "1  2014      8              137713\n",
            "2  2014      9              136758\n",
            "3  2014     10              150532\n",
            "4  2014     11              164042\n",
            "5  2014     12              193392\n",
            "6  2015      1              206044\n",
            "7  2015      2              194113\n",
            "8  2015      3              205147\n",
            "9  2015      4              166348\n"
          ]
        }
      ]
    },
    {
      "cell_type": "code",
      "source": [
        "print(type(sum_contacts))"
      ],
      "metadata": {
        "colab": {
          "base_uri": "https://localhost:8080/"
        },
        "id": "0_SNSg-u5g2s",
        "outputId": "41fe77e6-f8b5-4f48-b6af-28ed2d1950c1"
      },
      "execution_count": 17,
      "outputs": [
        {
          "output_type": "stream",
          "name": "stdout",
          "text": [
            "<class 'pandas.core.frame.DataFrame'>\n"
          ]
        }
      ]
    },
    {
      "cell_type": "markdown",
      "source": [
        "## Observations"
      ],
      "metadata": {
        "id": "eazHKnY95hja"
      }
    },
    {
      "cell_type": "code",
      "source": [
        "# create 'date' column formatted as a string \"YYYY-MM\"\n",
        "sum_contacts['date'] = sum_contacts['year'].astype(str) + '-' + sum_contacts['month'].astype(str).str.zfill(2)\n",
        "\n",
        "sum_contacts.head(2)"
      ],
      "metadata": {
        "colab": {
          "base_uri": "https://localhost:8080/",
          "height": 109
        },
        "id": "-S0JtOCt5ovF",
        "outputId": "8df7978b-45cd-46f9-ccda-4a858b9f9400"
      },
      "execution_count": 18,
      "outputs": [
        {
          "output_type": "execute_result",
          "data": {
            "text/plain": [
              "   year  month  number_of_contacts     date\n",
              "0  2014      7              162589  2014-07\n",
              "1  2014      8              137713  2014-08"
            ],
            "text/html": [
              "\n",
              "  <div id=\"df-30bb8317-8df7-492b-9e79-b4a42b569f2e\" class=\"colab-df-container\">\n",
              "    <div>\n",
              "<style scoped>\n",
              "    .dataframe tbody tr th:only-of-type {\n",
              "        vertical-align: middle;\n",
              "    }\n",
              "\n",
              "    .dataframe tbody tr th {\n",
              "        vertical-align: top;\n",
              "    }\n",
              "\n",
              "    .dataframe thead th {\n",
              "        text-align: right;\n",
              "    }\n",
              "</style>\n",
              "<table border=\"1\" class=\"dataframe\">\n",
              "  <thead>\n",
              "    <tr style=\"text-align: right;\">\n",
              "      <th></th>\n",
              "      <th>year</th>\n",
              "      <th>month</th>\n",
              "      <th>number_of_contacts</th>\n",
              "      <th>date</th>\n",
              "    </tr>\n",
              "  </thead>\n",
              "  <tbody>\n",
              "    <tr>\n",
              "      <th>0</th>\n",
              "      <td>2014</td>\n",
              "      <td>7</td>\n",
              "      <td>162589</td>\n",
              "      <td>2014-07</td>\n",
              "    </tr>\n",
              "    <tr>\n",
              "      <th>1</th>\n",
              "      <td>2014</td>\n",
              "      <td>8</td>\n",
              "      <td>137713</td>\n",
              "      <td>2014-08</td>\n",
              "    </tr>\n",
              "  </tbody>\n",
              "</table>\n",
              "</div>\n",
              "    <div class=\"colab-df-buttons\">\n",
              "\n",
              "  <div class=\"colab-df-container\">\n",
              "    <button class=\"colab-df-convert\" onclick=\"convertToInteractive('df-30bb8317-8df7-492b-9e79-b4a42b569f2e')\"\n",
              "            title=\"Convert this dataframe to an interactive table.\"\n",
              "            style=\"display:none;\">\n",
              "\n",
              "  <svg xmlns=\"http://www.w3.org/2000/svg\" height=\"24px\" viewBox=\"0 -960 960 960\">\n",
              "    <path d=\"M120-120v-720h720v720H120Zm60-500h600v-160H180v160Zm220 220h160v-160H400v160Zm0 220h160v-160H400v160ZM180-400h160v-160H180v160Zm440 0h160v-160H620v160ZM180-180h160v-160H180v160Zm440 0h160v-160H620v160Z\"/>\n",
              "  </svg>\n",
              "    </button>\n",
              "\n",
              "  <style>\n",
              "    .colab-df-container {\n",
              "      display:flex;\n",
              "      gap: 12px;\n",
              "    }\n",
              "\n",
              "    .colab-df-convert {\n",
              "      background-color: #E8F0FE;\n",
              "      border: none;\n",
              "      border-radius: 50%;\n",
              "      cursor: pointer;\n",
              "      display: none;\n",
              "      fill: #1967D2;\n",
              "      height: 32px;\n",
              "      padding: 0 0 0 0;\n",
              "      width: 32px;\n",
              "    }\n",
              "\n",
              "    .colab-df-convert:hover {\n",
              "      background-color: #E2EBFA;\n",
              "      box-shadow: 0px 1px 2px rgba(60, 64, 67, 0.3), 0px 1px 3px 1px rgba(60, 64, 67, 0.15);\n",
              "      fill: #174EA6;\n",
              "    }\n",
              "\n",
              "    .colab-df-buttons div {\n",
              "      margin-bottom: 4px;\n",
              "    }\n",
              "\n",
              "    [theme=dark] .colab-df-convert {\n",
              "      background-color: #3B4455;\n",
              "      fill: #D2E3FC;\n",
              "    }\n",
              "\n",
              "    [theme=dark] .colab-df-convert:hover {\n",
              "      background-color: #434B5C;\n",
              "      box-shadow: 0px 1px 3px 1px rgba(0, 0, 0, 0.15);\n",
              "      filter: drop-shadow(0px 1px 2px rgba(0, 0, 0, 0.3));\n",
              "      fill: #FFFFFF;\n",
              "    }\n",
              "  </style>\n",
              "\n",
              "    <script>\n",
              "      const buttonEl =\n",
              "        document.querySelector('#df-30bb8317-8df7-492b-9e79-b4a42b569f2e button.colab-df-convert');\n",
              "      buttonEl.style.display =\n",
              "        google.colab.kernel.accessAllowed ? 'block' : 'none';\n",
              "\n",
              "      async function convertToInteractive(key) {\n",
              "        const element = document.querySelector('#df-30bb8317-8df7-492b-9e79-b4a42b569f2e');\n",
              "        const dataTable =\n",
              "          await google.colab.kernel.invokeFunction('convertToInteractive',\n",
              "                                                    [key], {});\n",
              "        if (!dataTable) return;\n",
              "\n",
              "        const docLinkHtml = 'Like what you see? Visit the ' +\n",
              "          '<a target=\"_blank\" href=https://colab.research.google.com/notebooks/data_table.ipynb>data table notebook</a>'\n",
              "          + ' to learn more about interactive tables.';\n",
              "        element.innerHTML = '';\n",
              "        dataTable['output_type'] = 'display_data';\n",
              "        await google.colab.output.renderOutput(dataTable, element);\n",
              "        const docLink = document.createElement('div');\n",
              "        docLink.innerHTML = docLinkHtml;\n",
              "        element.appendChild(docLink);\n",
              "      }\n",
              "    </script>\n",
              "  </div>\n",
              "\n",
              "\n",
              "<div id=\"df-fc959fcd-965d-4366-b70e-18688baf8df3\">\n",
              "  <button class=\"colab-df-quickchart\" onclick=\"quickchart('df-fc959fcd-965d-4366-b70e-18688baf8df3')\"\n",
              "            title=\"Suggest charts\"\n",
              "            style=\"display:none;\">\n",
              "\n",
              "<svg xmlns=\"http://www.w3.org/2000/svg\" height=\"24px\"viewBox=\"0 0 24 24\"\n",
              "     width=\"24px\">\n",
              "    <g>\n",
              "        <path d=\"M19 3H5c-1.1 0-2 .9-2 2v14c0 1.1.9 2 2 2h14c1.1 0 2-.9 2-2V5c0-1.1-.9-2-2-2zM9 17H7v-7h2v7zm4 0h-2V7h2v10zm4 0h-2v-4h2v4z\"/>\n",
              "    </g>\n",
              "</svg>\n",
              "  </button>\n",
              "\n",
              "<style>\n",
              "  .colab-df-quickchart {\n",
              "      --bg-color: #E8F0FE;\n",
              "      --fill-color: #1967D2;\n",
              "      --hover-bg-color: #E2EBFA;\n",
              "      --hover-fill-color: #174EA6;\n",
              "      --disabled-fill-color: #AAA;\n",
              "      --disabled-bg-color: #DDD;\n",
              "  }\n",
              "\n",
              "  [theme=dark] .colab-df-quickchart {\n",
              "      --bg-color: #3B4455;\n",
              "      --fill-color: #D2E3FC;\n",
              "      --hover-bg-color: #434B5C;\n",
              "      --hover-fill-color: #FFFFFF;\n",
              "      --disabled-bg-color: #3B4455;\n",
              "      --disabled-fill-color: #666;\n",
              "  }\n",
              "\n",
              "  .colab-df-quickchart {\n",
              "    background-color: var(--bg-color);\n",
              "    border: none;\n",
              "    border-radius: 50%;\n",
              "    cursor: pointer;\n",
              "    display: none;\n",
              "    fill: var(--fill-color);\n",
              "    height: 32px;\n",
              "    padding: 0;\n",
              "    width: 32px;\n",
              "  }\n",
              "\n",
              "  .colab-df-quickchart:hover {\n",
              "    background-color: var(--hover-bg-color);\n",
              "    box-shadow: 0 1px 2px rgba(60, 64, 67, 0.3), 0 1px 3px 1px rgba(60, 64, 67, 0.15);\n",
              "    fill: var(--button-hover-fill-color);\n",
              "  }\n",
              "\n",
              "  .colab-df-quickchart-complete:disabled,\n",
              "  .colab-df-quickchart-complete:disabled:hover {\n",
              "    background-color: var(--disabled-bg-color);\n",
              "    fill: var(--disabled-fill-color);\n",
              "    box-shadow: none;\n",
              "  }\n",
              "\n",
              "  .colab-df-spinner {\n",
              "    border: 2px solid var(--fill-color);\n",
              "    border-color: transparent;\n",
              "    border-bottom-color: var(--fill-color);\n",
              "    animation:\n",
              "      spin 1s steps(1) infinite;\n",
              "  }\n",
              "\n",
              "  @keyframes spin {\n",
              "    0% {\n",
              "      border-color: transparent;\n",
              "      border-bottom-color: var(--fill-color);\n",
              "      border-left-color: var(--fill-color);\n",
              "    }\n",
              "    20% {\n",
              "      border-color: transparent;\n",
              "      border-left-color: var(--fill-color);\n",
              "      border-top-color: var(--fill-color);\n",
              "    }\n",
              "    30% {\n",
              "      border-color: transparent;\n",
              "      border-left-color: var(--fill-color);\n",
              "      border-top-color: var(--fill-color);\n",
              "      border-right-color: var(--fill-color);\n",
              "    }\n",
              "    40% {\n",
              "      border-color: transparent;\n",
              "      border-right-color: var(--fill-color);\n",
              "      border-top-color: var(--fill-color);\n",
              "    }\n",
              "    60% {\n",
              "      border-color: transparent;\n",
              "      border-right-color: var(--fill-color);\n",
              "    }\n",
              "    80% {\n",
              "      border-color: transparent;\n",
              "      border-right-color: var(--fill-color);\n",
              "      border-bottom-color: var(--fill-color);\n",
              "    }\n",
              "    90% {\n",
              "      border-color: transparent;\n",
              "      border-bottom-color: var(--fill-color);\n",
              "    }\n",
              "  }\n",
              "</style>\n",
              "\n",
              "  <script>\n",
              "    async function quickchart(key) {\n",
              "      const quickchartButtonEl =\n",
              "        document.querySelector('#' + key + ' button');\n",
              "      quickchartButtonEl.disabled = true;  // To prevent multiple clicks.\n",
              "      quickchartButtonEl.classList.add('colab-df-spinner');\n",
              "      try {\n",
              "        const charts = await google.colab.kernel.invokeFunction(\n",
              "            'suggestCharts', [key], {});\n",
              "      } catch (error) {\n",
              "        console.error('Error during call to suggestCharts:', error);\n",
              "      }\n",
              "      quickchartButtonEl.classList.remove('colab-df-spinner');\n",
              "      quickchartButtonEl.classList.add('colab-df-quickchart-complete');\n",
              "    }\n",
              "    (() => {\n",
              "      let quickchartButtonEl =\n",
              "        document.querySelector('#df-fc959fcd-965d-4366-b70e-18688baf8df3 button');\n",
              "      quickchartButtonEl.style.display =\n",
              "        google.colab.kernel.accessAllowed ? 'block' : 'none';\n",
              "    })();\n",
              "  </script>\n",
              "</div>\n",
              "\n",
              "    </div>\n",
              "  </div>\n"
            ],
            "application/vnd.google.colaboratory.intrinsic+json": {
              "type": "dataframe",
              "variable_name": "sum_contacts",
              "summary": "{\n  \"name\": \"sum_contacts\",\n  \"rows\": 54,\n  \"fields\": [\n    {\n      \"column\": \"year\",\n      \"properties\": {\n        \"dtype\": \"number\",\n        \"std\": 1,\n        \"min\": 2014,\n        \"max\": 2018,\n        \"num_unique_values\": 5,\n        \"samples\": [\n          2015,\n          2018,\n          2016\n        ],\n        \"semantic_type\": \"\",\n        \"description\": \"\"\n      }\n    },\n    {\n      \"column\": \"month\",\n      \"properties\": {\n        \"dtype\": \"number\",\n        \"std\": 3,\n        \"min\": 1,\n        \"max\": 12,\n        \"num_unique_values\": 12,\n        \"samples\": [\n          5,\n          4,\n          7\n        ],\n        \"semantic_type\": \"\",\n        \"description\": \"\"\n      }\n    },\n    {\n      \"column\": \"number_of_contacts\",\n      \"properties\": {\n        \"dtype\": \"number\",\n        \"std\": 34451,\n        \"min\": 68762,\n        \"max\": 209366,\n        \"num_unique_values\": 54,\n        \"samples\": [\n          202290,\n          90307,\n          105188\n        ],\n        \"semantic_type\": \"\",\n        \"description\": \"\"\n      }\n    },\n    {\n      \"column\": \"date\",\n      \"properties\": {\n        \"dtype\": \"object\",\n        \"num_unique_values\": 54,\n        \"samples\": [\n          \"2016-02\",\n          \"2018-08\",\n          \"2018-07\"\n        ],\n        \"semantic_type\": \"\",\n        \"description\": \"\"\n      }\n    }\n  ]\n}"
            }
          },
          "metadata": {},
          "execution_count": 18
        }
      ]
    },
    {
      "cell_type": "code",
      "source": [
        "# !pip install plotly\n",
        "\n",
        "# import matplotlib.pyplot as plt\n",
        "# import seaborn as sns\n",
        "import plotly.express as px"
      ],
      "metadata": {
        "id": "0UMJVC4f5rNp"
      },
      "execution_count": 19,
      "outputs": []
    },
    {
      "cell_type": "code",
      "source": [
        "# create interactive line plot\n",
        "fig_line = px.line(sum_contacts, x = 'date', y = 'number_of_contacts',\n",
        "                               title = 'Total Number of Contacts at Visitor Service Centres Over Time',\n",
        "                               labels = {'date': 'Date', 'number_of_contacts': 'Number of Contacts'})\n",
        "\n",
        "# improve layout\n",
        "fig_line.update_layout(\n",
        "    title = {\n",
        "        'text': 'Total Number of Contacts at Visitor Service Centres Over Time',\n",
        "        'y': 0.9,\n",
        "        'x': 0.5,\n",
        "        'xanchor': 'center',\n",
        "        'yanchor': 'top'\n",
        "        },\n",
        "    hovermode = 'closest',  # show tooltip for the closest point\n",
        "    xaxis = dict(tickmode = 'auto', nticks = 20, dtick = \"M3\", tickformat = \"%Y-%m\")\n",
        ")\n",
        "\n",
        "# show the plot\n",
        "fig_line.show( )\n"
      ],
      "metadata": {
        "colab": {
          "base_uri": "https://localhost:8080/",
          "height": 542
        },
        "id": "qSyjS2lg_32G",
        "outputId": "8b8e6b2d-af1b-42fd-8a66-3d5757977eb8"
      },
      "execution_count": 20,
      "outputs": [
        {
          "output_type": "display_data",
          "data": {
            "text/html": [
              "<html>\n",
              "<head><meta charset=\"utf-8\" /></head>\n",
              "<body>\n",
              "    <div>            <script src=\"https://cdnjs.cloudflare.com/ajax/libs/mathjax/2.7.5/MathJax.js?config=TeX-AMS-MML_SVG\"></script><script type=\"text/javascript\">if (window.MathJax && window.MathJax.Hub && window.MathJax.Hub.Config) {window.MathJax.Hub.Config({SVG: {font: \"STIX-Web\"}});}</script>                <script type=\"text/javascript\">window.PlotlyConfig = {MathJaxConfig: 'local'};</script>\n",
              "        <script charset=\"utf-8\" src=\"https://cdn.plot.ly/plotly-2.24.1.min.js\"></script>                <div id=\"288877df-d6ac-4a2d-860e-10ca127fad1e\" class=\"plotly-graph-div\" style=\"height:525px; width:100%;\"></div>            <script type=\"text/javascript\">                                    window.PLOTLYENV=window.PLOTLYENV || {};                                    if (document.getElementById(\"288877df-d6ac-4a2d-860e-10ca127fad1e\")) {                    Plotly.newPlot(                        \"288877df-d6ac-4a2d-860e-10ca127fad1e\",                        [{\"hovertemplate\":\"Date=%{x}\\u003cbr\\u003eNumber of Contacts=%{y}\\u003cextra\\u003e\\u003c\\u002fextra\\u003e\",\"legendgroup\":\"\",\"line\":{\"color\":\"#636efa\",\"dash\":\"solid\"},\"marker\":{\"symbol\":\"circle\"},\"mode\":\"lines\",\"name\":\"\",\"orientation\":\"v\",\"showlegend\":false,\"x\":[\"2014-07\",\"2014-08\",\"2014-09\",\"2014-10\",\"2014-11\",\"2014-12\",\"2015-01\",\"2015-02\",\"2015-03\",\"2015-04\",\"2015-05\",\"2015-06\",\"2015-07\",\"2015-08\",\"2015-09\",\"2015-10\",\"2015-11\",\"2015-12\",\"2016-01\",\"2016-02\",\"2016-03\",\"2016-04\",\"2016-05\",\"2016-06\",\"2016-07\",\"2016-08\",\"2016-09\",\"2016-10\",\"2016-11\",\"2016-12\",\"2017-01\",\"2017-02\",\"2017-03\",\"2017-04\",\"2017-05\",\"2017-06\",\"2017-07\",\"2017-08\",\"2017-09\",\"2017-10\",\"2017-11\",\"2017-12\",\"2018-01\",\"2018-02\",\"2018-03\",\"2018-04\",\"2018-05\",\"2018-06\",\"2018-07\",\"2018-08\",\"2018-09\",\"2018-10\",\"2018-11\",\"2018-12\"],\"xaxis\":\"x\",\"y\":[162589,137713,136758,150532,164042,193392,206044,194113,205147,166348,126563,130338,170756,145456,146611,160415,185395,183543,209366,202290,180710,149826,118435,111048,153928,116621,134658,162973,163540,176644,196439,161809,160068,146273,109543,110404,128662,115375,111051,137365,149143,163786,153271,141036,137577,118425,88165,84951,105188,90307,68762,92319,95254,137356],\"yaxis\":\"y\",\"type\":\"scatter\"}],                        {\"template\":{\"data\":{\"histogram2dcontour\":[{\"type\":\"histogram2dcontour\",\"colorbar\":{\"outlinewidth\":0,\"ticks\":\"\"},\"colorscale\":[[0.0,\"#0d0887\"],[0.1111111111111111,\"#46039f\"],[0.2222222222222222,\"#7201a8\"],[0.3333333333333333,\"#9c179e\"],[0.4444444444444444,\"#bd3786\"],[0.5555555555555556,\"#d8576b\"],[0.6666666666666666,\"#ed7953\"],[0.7777777777777778,\"#fb9f3a\"],[0.8888888888888888,\"#fdca26\"],[1.0,\"#f0f921\"]]}],\"choropleth\":[{\"type\":\"choropleth\",\"colorbar\":{\"outlinewidth\":0,\"ticks\":\"\"}}],\"histogram2d\":[{\"type\":\"histogram2d\",\"colorbar\":{\"outlinewidth\":0,\"ticks\":\"\"},\"colorscale\":[[0.0,\"#0d0887\"],[0.1111111111111111,\"#46039f\"],[0.2222222222222222,\"#7201a8\"],[0.3333333333333333,\"#9c179e\"],[0.4444444444444444,\"#bd3786\"],[0.5555555555555556,\"#d8576b\"],[0.6666666666666666,\"#ed7953\"],[0.7777777777777778,\"#fb9f3a\"],[0.8888888888888888,\"#fdca26\"],[1.0,\"#f0f921\"]]}],\"heatmap\":[{\"type\":\"heatmap\",\"colorbar\":{\"outlinewidth\":0,\"ticks\":\"\"},\"colorscale\":[[0.0,\"#0d0887\"],[0.1111111111111111,\"#46039f\"],[0.2222222222222222,\"#7201a8\"],[0.3333333333333333,\"#9c179e\"],[0.4444444444444444,\"#bd3786\"],[0.5555555555555556,\"#d8576b\"],[0.6666666666666666,\"#ed7953\"],[0.7777777777777778,\"#fb9f3a\"],[0.8888888888888888,\"#fdca26\"],[1.0,\"#f0f921\"]]}],\"heatmapgl\":[{\"type\":\"heatmapgl\",\"colorbar\":{\"outlinewidth\":0,\"ticks\":\"\"},\"colorscale\":[[0.0,\"#0d0887\"],[0.1111111111111111,\"#46039f\"],[0.2222222222222222,\"#7201a8\"],[0.3333333333333333,\"#9c179e\"],[0.4444444444444444,\"#bd3786\"],[0.5555555555555556,\"#d8576b\"],[0.6666666666666666,\"#ed7953\"],[0.7777777777777778,\"#fb9f3a\"],[0.8888888888888888,\"#fdca26\"],[1.0,\"#f0f921\"]]}],\"contourcarpet\":[{\"type\":\"contourcarpet\",\"colorbar\":{\"outlinewidth\":0,\"ticks\":\"\"}}],\"contour\":[{\"type\":\"contour\",\"colorbar\":{\"outlinewidth\":0,\"ticks\":\"\"},\"colorscale\":[[0.0,\"#0d0887\"],[0.1111111111111111,\"#46039f\"],[0.2222222222222222,\"#7201a8\"],[0.3333333333333333,\"#9c179e\"],[0.4444444444444444,\"#bd3786\"],[0.5555555555555556,\"#d8576b\"],[0.6666666666666666,\"#ed7953\"],[0.7777777777777778,\"#fb9f3a\"],[0.8888888888888888,\"#fdca26\"],[1.0,\"#f0f921\"]]}],\"surface\":[{\"type\":\"surface\",\"colorbar\":{\"outlinewidth\":0,\"ticks\":\"\"},\"colorscale\":[[0.0,\"#0d0887\"],[0.1111111111111111,\"#46039f\"],[0.2222222222222222,\"#7201a8\"],[0.3333333333333333,\"#9c179e\"],[0.4444444444444444,\"#bd3786\"],[0.5555555555555556,\"#d8576b\"],[0.6666666666666666,\"#ed7953\"],[0.7777777777777778,\"#fb9f3a\"],[0.8888888888888888,\"#fdca26\"],[1.0,\"#f0f921\"]]}],\"mesh3d\":[{\"type\":\"mesh3d\",\"colorbar\":{\"outlinewidth\":0,\"ticks\":\"\"}}],\"scatter\":[{\"fillpattern\":{\"fillmode\":\"overlay\",\"size\":10,\"solidity\":0.2},\"type\":\"scatter\"}],\"parcoords\":[{\"type\":\"parcoords\",\"line\":{\"colorbar\":{\"outlinewidth\":0,\"ticks\":\"\"}}}],\"scatterpolargl\":[{\"type\":\"scatterpolargl\",\"marker\":{\"colorbar\":{\"outlinewidth\":0,\"ticks\":\"\"}}}],\"bar\":[{\"error_x\":{\"color\":\"#2a3f5f\"},\"error_y\":{\"color\":\"#2a3f5f\"},\"marker\":{\"line\":{\"color\":\"#E5ECF6\",\"width\":0.5},\"pattern\":{\"fillmode\":\"overlay\",\"size\":10,\"solidity\":0.2}},\"type\":\"bar\"}],\"scattergeo\":[{\"type\":\"scattergeo\",\"marker\":{\"colorbar\":{\"outlinewidth\":0,\"ticks\":\"\"}}}],\"scatterpolar\":[{\"type\":\"scatterpolar\",\"marker\":{\"colorbar\":{\"outlinewidth\":0,\"ticks\":\"\"}}}],\"histogram\":[{\"marker\":{\"pattern\":{\"fillmode\":\"overlay\",\"size\":10,\"solidity\":0.2}},\"type\":\"histogram\"}],\"scattergl\":[{\"type\":\"scattergl\",\"marker\":{\"colorbar\":{\"outlinewidth\":0,\"ticks\":\"\"}}}],\"scatter3d\":[{\"type\":\"scatter3d\",\"line\":{\"colorbar\":{\"outlinewidth\":0,\"ticks\":\"\"}},\"marker\":{\"colorbar\":{\"outlinewidth\":0,\"ticks\":\"\"}}}],\"scattermapbox\":[{\"type\":\"scattermapbox\",\"marker\":{\"colorbar\":{\"outlinewidth\":0,\"ticks\":\"\"}}}],\"scatterternary\":[{\"type\":\"scatterternary\",\"marker\":{\"colorbar\":{\"outlinewidth\":0,\"ticks\":\"\"}}}],\"scattercarpet\":[{\"type\":\"scattercarpet\",\"marker\":{\"colorbar\":{\"outlinewidth\":0,\"ticks\":\"\"}}}],\"carpet\":[{\"aaxis\":{\"endlinecolor\":\"#2a3f5f\",\"gridcolor\":\"white\",\"linecolor\":\"white\",\"minorgridcolor\":\"white\",\"startlinecolor\":\"#2a3f5f\"},\"baxis\":{\"endlinecolor\":\"#2a3f5f\",\"gridcolor\":\"white\",\"linecolor\":\"white\",\"minorgridcolor\":\"white\",\"startlinecolor\":\"#2a3f5f\"},\"type\":\"carpet\"}],\"table\":[{\"cells\":{\"fill\":{\"color\":\"#EBF0F8\"},\"line\":{\"color\":\"white\"}},\"header\":{\"fill\":{\"color\":\"#C8D4E3\"},\"line\":{\"color\":\"white\"}},\"type\":\"table\"}],\"barpolar\":[{\"marker\":{\"line\":{\"color\":\"#E5ECF6\",\"width\":0.5},\"pattern\":{\"fillmode\":\"overlay\",\"size\":10,\"solidity\":0.2}},\"type\":\"barpolar\"}],\"pie\":[{\"automargin\":true,\"type\":\"pie\"}]},\"layout\":{\"autotypenumbers\":\"strict\",\"colorway\":[\"#636efa\",\"#EF553B\",\"#00cc96\",\"#ab63fa\",\"#FFA15A\",\"#19d3f3\",\"#FF6692\",\"#B6E880\",\"#FF97FF\",\"#FECB52\"],\"font\":{\"color\":\"#2a3f5f\"},\"hovermode\":\"closest\",\"hoverlabel\":{\"align\":\"left\"},\"paper_bgcolor\":\"white\",\"plot_bgcolor\":\"#E5ECF6\",\"polar\":{\"bgcolor\":\"#E5ECF6\",\"angularaxis\":{\"gridcolor\":\"white\",\"linecolor\":\"white\",\"ticks\":\"\"},\"radialaxis\":{\"gridcolor\":\"white\",\"linecolor\":\"white\",\"ticks\":\"\"}},\"ternary\":{\"bgcolor\":\"#E5ECF6\",\"aaxis\":{\"gridcolor\":\"white\",\"linecolor\":\"white\",\"ticks\":\"\"},\"baxis\":{\"gridcolor\":\"white\",\"linecolor\":\"white\",\"ticks\":\"\"},\"caxis\":{\"gridcolor\":\"white\",\"linecolor\":\"white\",\"ticks\":\"\"}},\"coloraxis\":{\"colorbar\":{\"outlinewidth\":0,\"ticks\":\"\"}},\"colorscale\":{\"sequential\":[[0.0,\"#0d0887\"],[0.1111111111111111,\"#46039f\"],[0.2222222222222222,\"#7201a8\"],[0.3333333333333333,\"#9c179e\"],[0.4444444444444444,\"#bd3786\"],[0.5555555555555556,\"#d8576b\"],[0.6666666666666666,\"#ed7953\"],[0.7777777777777778,\"#fb9f3a\"],[0.8888888888888888,\"#fdca26\"],[1.0,\"#f0f921\"]],\"sequentialminus\":[[0.0,\"#0d0887\"],[0.1111111111111111,\"#46039f\"],[0.2222222222222222,\"#7201a8\"],[0.3333333333333333,\"#9c179e\"],[0.4444444444444444,\"#bd3786\"],[0.5555555555555556,\"#d8576b\"],[0.6666666666666666,\"#ed7953\"],[0.7777777777777778,\"#fb9f3a\"],[0.8888888888888888,\"#fdca26\"],[1.0,\"#f0f921\"]],\"diverging\":[[0,\"#8e0152\"],[0.1,\"#c51b7d\"],[0.2,\"#de77ae\"],[0.3,\"#f1b6da\"],[0.4,\"#fde0ef\"],[0.5,\"#f7f7f7\"],[0.6,\"#e6f5d0\"],[0.7,\"#b8e186\"],[0.8,\"#7fbc41\"],[0.9,\"#4d9221\"],[1,\"#276419\"]]},\"xaxis\":{\"gridcolor\":\"white\",\"linecolor\":\"white\",\"ticks\":\"\",\"title\":{\"standoff\":15},\"zerolinecolor\":\"white\",\"automargin\":true,\"zerolinewidth\":2},\"yaxis\":{\"gridcolor\":\"white\",\"linecolor\":\"white\",\"ticks\":\"\",\"title\":{\"standoff\":15},\"zerolinecolor\":\"white\",\"automargin\":true,\"zerolinewidth\":2},\"scene\":{\"xaxis\":{\"backgroundcolor\":\"#E5ECF6\",\"gridcolor\":\"white\",\"linecolor\":\"white\",\"showbackground\":true,\"ticks\":\"\",\"zerolinecolor\":\"white\",\"gridwidth\":2},\"yaxis\":{\"backgroundcolor\":\"#E5ECF6\",\"gridcolor\":\"white\",\"linecolor\":\"white\",\"showbackground\":true,\"ticks\":\"\",\"zerolinecolor\":\"white\",\"gridwidth\":2},\"zaxis\":{\"backgroundcolor\":\"#E5ECF6\",\"gridcolor\":\"white\",\"linecolor\":\"white\",\"showbackground\":true,\"ticks\":\"\",\"zerolinecolor\":\"white\",\"gridwidth\":2}},\"shapedefaults\":{\"line\":{\"color\":\"#2a3f5f\"}},\"annotationdefaults\":{\"arrowcolor\":\"#2a3f5f\",\"arrowhead\":0,\"arrowwidth\":1},\"geo\":{\"bgcolor\":\"white\",\"landcolor\":\"#E5ECF6\",\"subunitcolor\":\"white\",\"showland\":true,\"showlakes\":true,\"lakecolor\":\"white\"},\"title\":{\"x\":0.05},\"mapbox\":{\"style\":\"light\"}}},\"xaxis\":{\"anchor\":\"y\",\"domain\":[0.0,1.0],\"title\":{\"text\":\"Date\"},\"tickmode\":\"auto\",\"nticks\":20,\"dtick\":\"M3\",\"tickformat\":\"%Y-%m\"},\"yaxis\":{\"anchor\":\"x\",\"domain\":[0.0,1.0],\"title\":{\"text\":\"Number of Contacts\"}},\"legend\":{\"tracegroupgap\":0},\"title\":{\"text\":\"Total Number of Contacts at Visitor Service Centres Over Time\",\"y\":0.9,\"x\":0.5,\"xanchor\":\"center\",\"yanchor\":\"top\"},\"hovermode\":\"closest\"},                        {\"responsive\": true}                    ).then(function(){\n",
              "                            \n",
              "var gd = document.getElementById('288877df-d6ac-4a2d-860e-10ca127fad1e');\n",
              "var x = new MutationObserver(function (mutations, observer) {{\n",
              "        var display = window.getComputedStyle(gd).display;\n",
              "        if (!display || display === 'none') {{\n",
              "            console.log([gd, 'removed!']);\n",
              "            Plotly.purge(gd);\n",
              "            observer.disconnect();\n",
              "        }}\n",
              "}});\n",
              "\n",
              "// Listen for the removal of the full notebook cells\n",
              "var notebookContainer = gd.closest('#notebook-container');\n",
              "if (notebookContainer) {{\n",
              "    x.observe(notebookContainer, {childList: true});\n",
              "}}\n",
              "\n",
              "// Listen for the clearing of the current output cell\n",
              "var outputEl = gd.closest('.output');\n",
              "if (outputEl) {{\n",
              "    x.observe(outputEl, {childList: true});\n",
              "}}\n",
              "\n",
              "                        })                };                            </script>        </div>\n",
              "</body>\n",
              "</html>"
            ]
          },
          "metadata": {}
        }
      ]
    },
    {
      "cell_type": "markdown",
      "source": [
        "This line chart reveals notable trends in the number of contacts at Visitor Service Centres over time. It is particularly striking that contact volumes peak from December to March each year, while the period from May to September typically experiences the lowest number of visitor contacts. These observations could provide valuable insights for customer service centers, as they may correlate with fluctuations in the volume or nature of customer service requests. To explore this further, additional datasets will be analyzed to examine the relationship between periods of high visitor engagement and increased customer service requests. The integration of these data will allow for a more comprehensive analysis of trends and may reveal actionable correlations between visitor contact stats and customer service requests."
      ],
      "metadata": {
        "id": "4m0RL6vk5uLh"
      }
    },
    {
      "cell_type": "markdown",
      "source": [
        "# **Dataset:** Customer service requests, with resolution time"
      ],
      "metadata": {
        "id": "d2dxUkojWfVD"
      }
    },
    {
      "cell_type": "markdown",
      "source": [
        "## Load dataset"
      ],
      "metadata": {
        "id": "KKgHRgTzf1Bc"
      }
    },
    {
      "cell_type": "code",
      "source": [
        "# export endpoint\n",
        "\n",
        "# https://data.melbourne.vic.gov.au/explore/dataset/customer-service-requests-with-resolution-time/information/\n",
        "dataset2_id = 'customer-service-requests-with-resolution-time'\n",
        "\n",
        "base_URL = 'https://data.melbourne.vic.gov.au/api/explore/v2.1/catalog/datasets/'\n",
        "apikey = api_key\n",
        "dataset2_id = dataset2_id\n",
        "format = 'csv'\n",
        "\n",
        "url = f'{base_URL}{dataset2_id}/exports/{format}'\n",
        "params = {\n",
        "    'select': '*',\n",
        "    'limit': -1,  # all records\n",
        "    'lang': 'en',\n",
        "    'timezone': 'UTC',\n",
        "    'api_key': apikey\n",
        "}\n",
        "\n",
        "# GET request\n",
        "response = requests.get(url, params=params)\n",
        "\n",
        "if response.status_code == 200:\n",
        "    # StringIO to read the CSV data\n",
        "    url_content = response.content.decode('utf-8')\n",
        "    CS_TTR = pd.read_csv(StringIO(url_content), delimiter = ';')\n",
        "    print(CS_TTR.sample(2, random_state = 999))    # test\n",
        "else:\n",
        "    print(f'Request failed with status code {response.status_code}')"
      ],
      "metadata": {
        "id": "yWyagClIeybm",
        "colab": {
          "base_uri": "https://localhost:8080/"
        },
        "outputId": "5f5917bd-a805-4123-d9ab-e2399ca7bf3b"
      },
      "execution_count": 21,
      "outputs": [
        {
          "output_type": "stream",
          "name": "stdout",
          "text": [
            "      request_status date_received date_completed     suburb  \\\n",
            "22471         CLOSED    2016-09-21     2016-09-28  Parkville   \n",
            "4040          CLOSED    2015-08-13     2015-08-26        NaN   \n",
            "\n",
            "                                category               service_desc  \\\n",
            "22471  Waste, Street Cleaning and Litter             Dumped Rubbish   \n",
            "4040   Waste, Street Cleaning and Litter  Waste collection services   \n",
            "\n",
            "       days_to_complete  \n",
            "22471                 7  \n",
            "4040                 13  \n"
          ]
        }
      ]
    },
    {
      "cell_type": "code",
      "source": [
        "# check length in dataset 2 (dataset2_id)\n",
        "\n",
        "print(f'The dataset contains {len(CS_TTR)} records.')"
      ],
      "metadata": {
        "id": "aDW5TJCTkg4u",
        "colab": {
          "base_uri": "https://localhost:8080/"
        },
        "outputId": "dc1864a8-87df-437a-941a-b837f3f1bde1"
      },
      "execution_count": 22,
      "outputs": [
        {
          "output_type": "stream",
          "name": "stdout",
          "text": [
            "The dataset contains 46479 records.\n"
          ]
        }
      ]
    },
    {
      "cell_type": "code",
      "source": [
        "print(f'Number of missing values in each column:\\n\\n{CS_TTR.isna().sum()}')"
      ],
      "metadata": {
        "id": "sQwd9kpOk-u4",
        "colab": {
          "base_uri": "https://localhost:8080/"
        },
        "outputId": "21f0d7b5-581e-4877-840c-34f1e33cf2a0"
      },
      "execution_count": 23,
      "outputs": [
        {
          "output_type": "stream",
          "name": "stdout",
          "text": [
            "Number of missing values in each column:\n",
            "\n",
            "request_status          0\n",
            "date_received           0\n",
            "date_completed        848\n",
            "suburb              24894\n",
            "category                0\n",
            "service_desc            0\n",
            "days_to_complete        0\n",
            "dtype: int64\n"
          ]
        }
      ]
    },
    {
      "cell_type": "markdown",
      "source": [
        "## Data cleansing"
      ],
      "metadata": {
        "id": "nlu4-fMlyjY-"
      }
    },
    {
      "cell_type": "code",
      "source": [
        "print(CS_TTR.dtypes)"
      ],
      "metadata": {
        "id": "rb68biU4yoz6",
        "colab": {
          "base_uri": "https://localhost:8080/"
        },
        "outputId": "6ec7a4c8-6f2d-4dcd-b45f-76e770b3ee28"
      },
      "execution_count": 24,
      "outputs": [
        {
          "output_type": "stream",
          "name": "stdout",
          "text": [
            "request_status      object\n",
            "date_received       object\n",
            "date_completed      object\n",
            "suburb              object\n",
            "category            object\n",
            "service_desc        object\n",
            "days_to_complete     int64\n",
            "dtype: object\n"
          ]
        }
      ]
    },
    {
      "cell_type": "markdown",
      "source": [
        "*Upon reviewing the dataset and its schema, it became clear that the date columns were not in the correct datetime format, a necessary conversion for any time-based calculations in later analysis. The 'suburb' and 'category' columns, which contain categorical data, could potentially be encoded for more efficient processing in subsequent steps. However, I will refrain from encoding at this stage, as these columns may be merged with another dataset to create a more comprehensive analysis later on.*"
      ],
      "metadata": {
        "id": "_e44Q7Ma6Pjn"
      }
    },
    {
      "cell_type": "code",
      "source": [
        "# convert columns 'date_received' and 'date_completed' to datetime object\n",
        "\n",
        "CS_TTR['date_received'] = pd.to_datetime(CS_TTR['date_received'])\n",
        "CS_TTR['date_completed'] = pd.to_datetime(CS_TTR['date_completed'], errors = 'coerce')"
      ],
      "metadata": {
        "id": "_hZsAB5X6PTf"
      },
      "execution_count": 25,
      "outputs": []
    },
    {
      "cell_type": "code",
      "source": [
        "# print(CS_TTR.dtypes)"
      ],
      "metadata": {
        "id": "p8WK6T6a6oRO"
      },
      "execution_count": 26,
      "outputs": []
    },
    {
      "cell_type": "markdown",
      "source": [
        "*I have determined that it is reasonable to presume that some requests may not have been completed at the time the data was collected. Consequently, it is appropriate to maintain these records as 'NaN' instead of imputing artificial completion dates. These rows will be preserved within the 'date_completed' column, as they are indicative of actual service requests, irrespective of their completion status. However, they may need to be excluded from future analyses involving resolution times.*\n",
        "\n",
        "*Previously, I entertained the idea of performing a geographical analysis, but I have since decided against it due to the current lack of sufficient geographical data. Adhering to my initial objectives, which focus on the volume of requests, categories, and resolution times, I deemed the 'suburb' information non-essential. Moreover, given that more than half of the dataset's records lack 'suburb' data, removing these rows could significantly diminish the dataset's size and introduce potential biases.*\n",
        "\n",
        "*Given these considerations, reclassifying the missing 'suburb' data as 'Unknown' or 'Not Applicable' appears to be the most prudent course of action. This will preserve the integrity of the dataset and maintain the option for geographical analysis should it become pertinent in the future.*"
      ],
      "metadata": {
        "id": "hjFPGkQ76WF9"
      }
    },
    {
      "cell_type": "code",
      "source": [
        "# replace the 'NaN' values in 'suburb' column with 'Unknown'\n",
        "\n",
        "CS_TTR['suburb'].fillna('Unknown', inplace = True)"
      ],
      "metadata": {
        "id": "UykhDEnE6YSt"
      },
      "execution_count": 27,
      "outputs": []
    },
    {
      "cell_type": "markdown",
      "source": [
        "# **Dataset:** Customer Service Requests (with digital channel information)"
      ],
      "metadata": {
        "id": "gu7LWSpK681v"
      }
    },
    {
      "cell_type": "markdown",
      "source": [
        "## Load dataset"
      ],
      "metadata": {
        "id": "sB_eBs857Cod"
      }
    },
    {
      "cell_type": "code",
      "source": [
        "# export endpoint\n",
        "\n",
        "# https://data.melbourne.vic.gov.au/explore/dataset/customer-service-requests-with-digital-channel-information/table/\n",
        "dataset3_id = 'customer-service-requests-with-digital-channel-information'\n",
        "\n",
        "base_URL = 'https://data.melbourne.vic.gov.au/api/explore/v2.1/catalog/datasets/'\n",
        "apikey = api_key\n",
        "dataset3_id = dataset3_id\n",
        "format = 'csv'\n",
        "\n",
        "url = f'{base_URL}{dataset3_id}/exports/{format}'\n",
        "params = {\n",
        "    'select': '*',\n",
        "    'limit': -1,  # all records\n",
        "    'lang': 'en',\n",
        "    'timezone': 'UTC',\n",
        "    'api_key': apikey\n",
        "}\n",
        "\n",
        "# GET request\n",
        "response = requests.get(url, params = params)\n",
        "\n",
        "if response.status_code == 200:\n",
        "    # StringIO to read the CSV data\n",
        "    url_content = response.content.decode('utf-8')\n",
        "    CS_digital = pd.read_csv(StringIO(url_content), delimiter = ';')\n",
        "    print(CS_digital.sample(2, random_state = 999))    # test\n",
        "else:\n",
        "    print(f'Request failed with status code {response.status_code}')"
      ],
      "metadata": {
        "id": "dTwp9kC56saP",
        "colab": {
          "base_uri": "https://localhost:8080/"
        },
        "outputId": "2235dd4e-f07b-4b28-f27a-43da4b0c2d76"
      },
      "execution_count": 28,
      "outputs": [
        {
          "output_type": "stream",
          "name": "stdout",
          "text": [
            "                        service_type                date_opened  \\\n",
            "37845  Infringement Review - Parking  2018-05-31T16:57:00+00:00   \n",
            "381      Request for Parking Officer  2018-01-19T16:44:00+00:00   \n",
            "\n",
            "                     date_closed  status case_origin     suburb  \n",
            "37845                        NaN     New       Phone  Melbourne  \n",
            "381    2018-01-19T17:03:00+00:00  Closed       Phone  Southbank  \n"
          ]
        }
      ]
    },
    {
      "cell_type": "code",
      "source": [
        "# check length in dataset 3 (dataset3_id)\n",
        "\n",
        "print(f'The dataset contains {len(CS_digital)} records.')"
      ],
      "metadata": {
        "id": "wdfWUlDF6sT6",
        "colab": {
          "base_uri": "https://localhost:8080/"
        },
        "outputId": "080ec5fe-d28a-49da-f903-310b4d64e7a9"
      },
      "execution_count": 29,
      "outputs": [
        {
          "output_type": "stream",
          "name": "stdout",
          "text": [
            "The dataset contains 42221 records.\n"
          ]
        }
      ]
    },
    {
      "cell_type": "code",
      "source": [
        "print(CS_digital.isna().sum())"
      ],
      "metadata": {
        "id": "CF3DoNv56sJJ",
        "colab": {
          "base_uri": "https://localhost:8080/"
        },
        "outputId": "a24aaffc-c365-4c7a-f3e6-05efff3646ee"
      },
      "execution_count": 30,
      "outputs": [
        {
          "output_type": "stream",
          "name": "stdout",
          "text": [
            "service_type        0\n",
            "date_opened         0\n",
            "date_closed      9491\n",
            "status              0\n",
            "case_origin         0\n",
            "suburb          22618\n",
            "dtype: int64\n"
          ]
        }
      ]
    },
    {
      "cell_type": "code",
      "source": [
        "print(CS_digital.dtypes)"
      ],
      "metadata": {
        "id": "a9L586UN7aOc",
        "colab": {
          "base_uri": "https://localhost:8080/"
        },
        "outputId": "145dc2a4-98ad-4930-d4ef-be75982ffd8d"
      },
      "execution_count": 31,
      "outputs": [
        {
          "output_type": "stream",
          "name": "stdout",
          "text": [
            "service_type    object\n",
            "date_opened     object\n",
            "date_closed     object\n",
            "status          object\n",
            "case_origin     object\n",
            "suburb          object\n",
            "dtype: object\n"
          ]
        }
      ]
    },
    {
      "cell_type": "code",
      "source": [
        "CS_digital['date_opened'] = pd.to_datetime(CS_digital['date_opened'])\n",
        "CS_digital['date_closed'] = pd.to_datetime(CS_digital['date_closed'])"
      ],
      "metadata": {
        "id": "avdeBs3h7idC"
      },
      "execution_count": 32,
      "outputs": []
    },
    {
      "cell_type": "code",
      "source": [
        "# print(CS_digital.dtypes)"
      ],
      "metadata": {
        "id": "3kUTdRxe7mW8"
      },
      "execution_count": 33,
      "outputs": []
    },
    {
      "cell_type": "code",
      "source": [
        "# replace the 'NaN' values in 'suburb' column with 'Unknown'\n",
        "\n",
        "CS_digital['suburb'].fillna('Unknown', inplace = True)"
      ],
      "metadata": {
        "id": "HNoelkqn7qoV"
      },
      "execution_count": 34,
      "outputs": []
    },
    {
      "cell_type": "code",
      "source": [
        "CS_digital_copy = CS_digital.copy()"
      ],
      "metadata": {
        "id": "UxKrFjkD7u2o"
      },
      "execution_count": 35,
      "outputs": []
    },
    {
      "cell_type": "code",
      "source": [
        "# to convert the datetime object contain date values only\n",
        "\n",
        "CS_digital_copy['date_opened'] = pd.to_datetime(CS_digital['date_opened'].dt.date)\n",
        "CS_digital_copy['date_closed'] = pd.to_datetime(CS_digital['date_closed'].dt.date)"
      ],
      "metadata": {
        "id": "NDZ1TZLO73pF"
      },
      "execution_count": 36,
      "outputs": []
    },
    {
      "cell_type": "code",
      "source": [
        "print(CS_digital_copy.head(2))"
      ],
      "metadata": {
        "id": "3pgdmJRw73m5",
        "colab": {
          "base_uri": "https://localhost:8080/"
        },
        "outputId": "00c2aef4-3fb5-433f-c910-54a105527beb"
      },
      "execution_count": 37,
      "outputs": [
        {
          "output_type": "stream",
          "name": "stdout",
          "text": [
            "                    service_type date_opened date_closed  status case_origin  \\\n",
            "0  Infringement Review - Parking  2018-08-29  2018-09-21  Closed         Web   \n",
            "1  Infringement Review - Parking  2018-08-20  2018-08-27  Closed         Web   \n",
            "\n",
            "    suburb  \n",
            "0  Unknown  \n",
            "1  Unknown  \n"
          ]
        }
      ]
    },
    {
      "cell_type": "code",
      "source": [
        "# print(CS_digital_copy.dtypes)"
      ],
      "metadata": {
        "id": "4ewY4Iqv73k9"
      },
      "execution_count": 38,
      "outputs": []
    },
    {
      "cell_type": "markdown",
      "source": [
        "# **Combining datasets**"
      ],
      "metadata": {
        "id": "yRKZborA8W2d"
      }
    },
    {
      "cell_type": "code",
      "source": [
        "# align and rename columns in these two dataset\n",
        "\n",
        "CS_digital_copy = CS_digital_copy.rename(\n",
        "    columns = {\n",
        "        'date_opened': 'date_received',\n",
        "        'date_closed': 'date_completed'\n",
        "    }\n",
        ")\n",
        "\n",
        "CS_TTR = CS_TTR.rename(\n",
        "    columns = {'service_desc': 'service_type','request_status': 'status'}\n",
        ")"
      ],
      "metadata": {
        "id": "P0BYIcsX73Y6"
      },
      "execution_count": 39,
      "outputs": []
    },
    {
      "cell_type": "code",
      "source": [
        "# print(CS_digital_copy.head(2))"
      ],
      "metadata": {
        "id": "e3x8kPcp84YU"
      },
      "execution_count": 40,
      "outputs": []
    },
    {
      "cell_type": "code",
      "source": [
        "# print(CS_TTR.head(2))"
      ],
      "metadata": {
        "id": "QFMfQOBe84Mn"
      },
      "execution_count": 41,
      "outputs": []
    },
    {
      "cell_type": "code",
      "source": [
        "df = pd.concat([CS_TTR, CS_digital_copy], ignore_index = True)"
      ],
      "metadata": {
        "id": "yk_Rsrjs9EGB"
      },
      "execution_count": 42,
      "outputs": []
    },
    {
      "cell_type": "code",
      "source": [
        "print(df.head(2))"
      ],
      "metadata": {
        "id": "FszuF8oB9IM3",
        "colab": {
          "base_uri": "https://localhost:8080/"
        },
        "outputId": "f06b4eba-9ab8-46dc-f4ee-4d5f202b87cd"
      },
      "execution_count": 43,
      "outputs": [
        {
          "output_type": "stream",
          "name": "stdout",
          "text": [
            "   status date_received date_completed   suburb           category  \\\n",
            "0  CLOSED    2015-05-05     2015-05-19  Unknown  Roads and Traffic   \n",
            "1  CLOSED    2015-06-10     2015-06-13  Unknown  Roads and Traffic   \n",
            "\n",
            "         service_type  days_to_complete case_origin  \n",
            "0  Traffic Management              14.0         NaN  \n",
            "1   Drain Maintenance               3.0         NaN  \n"
          ]
        }
      ]
    },
    {
      "cell_type": "code",
      "source": [
        "# check length in the merged dataset\n",
        "\n",
        "print(f'This combined dataset contains {len(df)} records.')"
      ],
      "metadata": {
        "id": "BuhPEv2W9LO4",
        "colab": {
          "base_uri": "https://localhost:8080/"
        },
        "outputId": "b76c53db-b2d3-4ea8-8ddd-ee5738dcead6"
      },
      "execution_count": 44,
      "outputs": [
        {
          "output_type": "stream",
          "name": "stdout",
          "text": [
            "This combined dataset contains 88700 records.\n"
          ]
        }
      ]
    },
    {
      "cell_type": "code",
      "source": [
        "print(df.dtypes)"
      ],
      "metadata": {
        "id": "_Ao_Qig49LLZ",
        "colab": {
          "base_uri": "https://localhost:8080/"
        },
        "outputId": "2a46e9f0-16b0-4011-e3a5-e5a86e75e02b"
      },
      "execution_count": 45,
      "outputs": [
        {
          "output_type": "stream",
          "name": "stdout",
          "text": [
            "status                      object\n",
            "date_received       datetime64[ns]\n",
            "date_completed      datetime64[ns]\n",
            "suburb                      object\n",
            "category                    object\n",
            "service_type                object\n",
            "days_to_complete           float64\n",
            "case_origin                 object\n",
            "dtype: object\n"
          ]
        }
      ]
    },
    {
      "cell_type": "code",
      "source": [
        "print(f'Number of missing values in each column:\\n\\n{df.isna().sum()}')"
      ],
      "metadata": {
        "id": "_geU1Exz9LIH",
        "colab": {
          "base_uri": "https://localhost:8080/"
        },
        "outputId": "d3d8b913-a5f0-4ad5-b82d-fa0ca1a96d0d"
      },
      "execution_count": 46,
      "outputs": [
        {
          "output_type": "stream",
          "name": "stdout",
          "text": [
            "Number of missing values in each column:\n",
            "\n",
            "status                  0\n",
            "date_received           0\n",
            "date_completed      10339\n",
            "suburb                  0\n",
            "category            42221\n",
            "service_type            0\n",
            "days_to_complete    42221\n",
            "case_origin         46479\n",
            "dtype: int64\n"
          ]
        }
      ]
    },
    {
      "cell_type": "code",
      "source": [
        "# filling 'NaN' in 'case_origin' column with 'Unknown'\n",
        "df['case_origin'].fillna('Unknown', inplace = True)"
      ],
      "metadata": {
        "id": "1RRX8o-u9LFW"
      },
      "execution_count": 47,
      "outputs": []
    },
    {
      "cell_type": "code",
      "source": [
        "# print(f'Number of missing values in each column:\\n\\n{df.isna().sum()}')\n",
        "\n",
        "df['case_origin'].isna().sum()"
      ],
      "metadata": {
        "id": "DZCssDdf9rFj",
        "colab": {
          "base_uri": "https://localhost:8080/"
        },
        "outputId": "e92cab74-1b0c-473d-eec0-f882d9608ec2"
      },
      "execution_count": 48,
      "outputs": [
        {
          "output_type": "execute_result",
          "data": {
            "text/plain": [
              "0"
            ]
          },
          "metadata": {},
          "execution_count": 48
        }
      ]
    },
    {
      "cell_type": "code",
      "source": [
        "print(df[df['category'].isna()]['service_type'].unique())"
      ],
      "metadata": {
        "id": "rpW6knQH99Zt",
        "colab": {
          "base_uri": "https://localhost:8080/"
        },
        "outputId": "14ec0c13-2452-4531-d0b2-956e875aa909"
      },
      "execution_count": 49,
      "outputs": [
        {
          "output_type": "stream",
          "name": "stdout",
          "text": [
            "['Infringement Review - Parking' 'Graffiti Removal Request'\n",
            " 'Request for Parking Officer' 'Illegally Dumped Rubbish' 'Rough Sleeping'\n",
            " 'Tree Maintenance Request' 'Abandoned Vehicles'\n",
            " 'Infringement Review - Animal Management'\n",
            " 'Infringement Review - Local Law' 'Syringe Management'\n",
            " 'Infringement Review' 'Ratepayer waste' 'Other' 'General Enquiry']\n"
          ]
        }
      ]
    },
    {
      "cell_type": "code",
      "source": [
        "print(f\"Number of categories: {df['category'].nunique()}\\n\\n{df['category'].unique()}\")"
      ],
      "metadata": {
        "id": "OfbKhrbU__Bh",
        "colab": {
          "base_uri": "https://localhost:8080/"
        },
        "outputId": "d0d2160e-75a5-4e04-a048-88b22ee63c9a"
      },
      "execution_count": 50,
      "outputs": [
        {
          "output_type": "stream",
          "name": "stdout",
          "text": [
            "Number of categories: 6\n",
            "\n",
            "['Roads and Traffic' 'Waste, Street Cleaning and Litter' 'Parking'\n",
            " 'Parks and Trees' 'Asset maintenance' 'Graffiti' nan]\n"
          ]
        }
      ]
    },
    {
      "cell_type": "code",
      "source": [
        "print(f\"Unique values in 'Waste, Street Cleaning and Litter' category: \\n\\n{df[df['category'] == 'Waste, Street Cleaning and Litter']['service_type'].unique()}\")"
      ],
      "metadata": {
        "id": "0S13r3Uz-E5q",
        "colab": {
          "base_uri": "https://localhost:8080/"
        },
        "outputId": "f2598f87-68bc-4327-ff1b-0f2e692b57c4"
      },
      "execution_count": 51,
      "outputs": [
        {
          "output_type": "stream",
          "name": "stdout",
          "text": [
            "Unique values in 'Waste, Street Cleaning and Litter' category: \n",
            "\n",
            "['Damaged Bins' 'Syringe pick-up services' 'Waste collection services'\n",
            " 'Dumped Rubbish' 'Public Litter Bin' 'Street Cleaning services'\n",
            " 'Missed Bin Collection' 'Missing Bin' 'Organic Waste' 'Waste Compactor'\n",
            " 'Waterways']\n"
          ]
        }
      ]
    },
    {
      "cell_type": "code",
      "source": [
        "print(f\"Unique values in 'Graffiti' category: \\n\\n{df[df['category'] == 'Graffiti']['service_type'].unique()}\")"
      ],
      "metadata": {
        "id": "SWh7w6Vv-J7c",
        "colab": {
          "base_uri": "https://localhost:8080/"
        },
        "outputId": "9d2fc0f8-1a58-40b9-fdc8-cdb159987a0f"
      },
      "execution_count": 52,
      "outputs": [
        {
          "output_type": "stream",
          "name": "stdout",
          "text": [
            "Unique values in 'Graffiti' category: \n",
            "\n",
            "['Graffiti Removal']\n"
          ]
        }
      ]
    },
    {
      "cell_type": "code",
      "source": [
        "print(f\"Unique values in 'Roads and Traffic' category: \\n\\n{df[df['category'] == 'Roads and Traffic']['service_type'].unique()}\")"
      ],
      "metadata": {
        "id": "pPWBovXEAX45",
        "colab": {
          "base_uri": "https://localhost:8080/"
        },
        "outputId": "e57d2593-b1ff-45f0-afb1-703ba8bcb2d7"
      },
      "execution_count": 53,
      "outputs": [
        {
          "output_type": "stream",
          "name": "stdout",
          "text": [
            "Unique values in 'Roads and Traffic' category: \n",
            "\n",
            "['Traffic Management' 'Drain Maintenance' 'Road and Footpath Maintenance']\n"
          ]
        }
      ]
    },
    {
      "cell_type": "code",
      "source": [
        "print(f\"Unique values in 'Parking' category:\\n\\n{df[df['category'] == 'Parking']['service_type'].unique()}\")"
      ],
      "metadata": {
        "id": "-UQSJEhAAXpb",
        "colab": {
          "base_uri": "https://localhost:8080/"
        },
        "outputId": "65d5a476-4334-4e14-b0b4-e95cdd65f596"
      },
      "execution_count": 54,
      "outputs": [
        {
          "output_type": "stream",
          "name": "stdout",
          "text": [
            "Unique values in 'Parking' category:\n",
            "\n",
            "['Parking Meter Service' 'Parking Compliance Services']\n"
          ]
        }
      ]
    },
    {
      "cell_type": "code",
      "source": [
        "print(f\"Unique values in 'Parks and Trees' category:\\n\\n{df[df['category'] == 'Parks and Trees']['service_type'].unique()}\")"
      ],
      "metadata": {
        "id": "0v8JO_nCAXjI",
        "colab": {
          "base_uri": "https://localhost:8080/"
        },
        "outputId": "9aafd142-077e-4f70-d14a-6e5589f46a07"
      },
      "execution_count": 55,
      "outputs": [
        {
          "output_type": "stream",
          "name": "stdout",
          "text": [
            "Unique values in 'Parks and Trees' category:\n",
            "\n",
            "['Tree Maintenance Services' 'Park Cleaning' 'Lawns and Irrigation'\n",
            " 'Condition of Assets in Parks' 'Sport and Playground Facilities']\n"
          ]
        }
      ]
    },
    {
      "cell_type": "code",
      "source": [
        "print(f\"Unique values in 'Asset maintenance' category:\\n\\n{df[df['category'] == 'Asset maintenance']['service_type'].unique()}\")"
      ],
      "metadata": {
        "id": "25P9Fmj9AXdx",
        "colab": {
          "base_uri": "https://localhost:8080/"
        },
        "outputId": "ac0e575f-0e66-4656-8b49-77ff508d4beb"
      },
      "execution_count": 56,
      "outputs": [
        {
          "output_type": "stream",
          "name": "stdout",
          "text": [
            "Unique values in 'Asset maintenance' category:\n",
            "\n",
            "['Street Maintenance' 'Street Lighting Maintenance' 'Bridge Maintenance'\n",
            " 'Public Toilets' 'Bike pod services']\n"
          ]
        }
      ]
    },
    {
      "cell_type": "markdown",
      "source": [
        "After examination, each service type will be grouped to:\n",
        "\n",
        "**[Graffiti]**\n",
        "*   Graffiti Removal\n",
        "*   Graffiti Removal Request\n",
        "\n",
        "**[Waste, Street Cleaning and Litter]**\n",
        "*   Missed Bin Collection\n",
        "*   Street Cleaning services\n",
        "*   Damaged Bins\n",
        "*   Public Litter Bin\n",
        "*   Missing Bin\n",
        "*   Waste collection services\n",
        "*   Dumped Rubbish\n",
        "*   Syringe pick-up services\n",
        "*   Organic Waste\n",
        "*   Waste Compactor\n",
        "*   Waterways\n",
        "*   Syringe Management\n",
        "*   Illegally Dumped Rubbish\n",
        "*   Ratepayer waste\n",
        "\n",
        "**[Parks and Trees]**\n",
        "*   Park Cleaning\n",
        "*   Tree Maintenance Services\n",
        "*   Condition of Assets in Parks\n",
        "*   Lawns and Irrigation\n",
        "*   Sport and Playground Facilities\n",
        "*   Tree Maintenance Request\n",
        "*   Rough Sleeping\n",
        "\n",
        "**[Roads and Traffic]**\n",
        "*   Road and Footpath Maintenance\n",
        "*   Traffic Management\n",
        "*   Drain Maintenance\n",
        "\n",
        "**[Asset maintenance]**\n",
        "*   Street Maintenance\n",
        "*   Street Lighting Maintenance\n",
        "*   Public Toilets\n",
        "*   Bridge Maintenance\n",
        "*   Bike pod services\n",
        "\n",
        "**[Parking]**\n",
        "*   Parking Compliance Services\n",
        "*   Parking Meter Service\n",
        "*   Request for Parking Officer\n",
        "*   Abandoned Vehicles\n",
        "\n",
        "**[General]**\n",
        "*   Infringement Review\n",
        "*   Infringement Review - Parking\n",
        "*   Infringement Review - Animal Management\n",
        "*   Infringement Review - Local Law\n",
        "*   General Enquiry\n",
        "*   Other"
      ],
      "metadata": {
        "id": "vm9j7OmP-QY9"
      }
    },
    {
      "cell_type": "code",
      "source": [
        "# define categorization mapping\n",
        "\n",
        "categorization = {\n",
        "    'Infringement Review': 'General',\n",
        "    'Infringement Review - Parking': 'General',\n",
        "    'Infringement Review - Animal Management': 'General',\n",
        "    'Infringement Review - Local Law': 'General',\n",
        "    'General Enquiry': 'General',\n",
        "    'Other': 'General',\n",
        "    'Graffiti Removal Request': 'Graffiti',\n",
        "    'Syringe Management': 'Waste, Street Cleaning and Litter',\n",
        "    'Illegally Dumped Rubbish': 'Waste, Street Cleaning and Litter',\n",
        "    'Ratepayer waste': 'Waste, Street Cleaning and Litter',\n",
        "    'Request for Parking Officer': 'Parking',\n",
        "    'Abandoned Vehicles': 'Parking',\n",
        "    'Tree Maintenance Request': 'Parks and Trees',\n",
        "    'Rough Sleeping': 'Parks and Trees'\n",
        "    }\n",
        "\n",
        "# missing_category = df['category'].isnull()\n",
        "\n",
        "# apply the categorization\n",
        "df.loc[df['category'].isnull(), 'category'] = df[df['category'].isnull()]['service_type'].map(categorization)"
      ],
      "metadata": {
        "id": "apsMWidi-ZIj"
      },
      "execution_count": 57,
      "outputs": []
    },
    {
      "cell_type": "code",
      "source": [
        "# print(df.isna().sum())\n",
        "\n",
        "df['category'].isna().sum()"
      ],
      "metadata": {
        "id": "ZVF51RTZA_s0",
        "colab": {
          "base_uri": "https://localhost:8080/"
        },
        "outputId": "f6dedda8-04cb-40e5-c890-947fefefeede"
      },
      "execution_count": 58,
      "outputs": [
        {
          "output_type": "execute_result",
          "data": {
            "text/plain": [
              "0"
            ]
          },
          "metadata": {},
          "execution_count": 58
        }
      ]
    },
    {
      "cell_type": "code",
      "source": [
        "# address the duplication in service types\n",
        "\n",
        "replacements = {\n",
        "    'Graffiti Removal Request': 'Graffiti Removal',\n",
        "    'Syringe pick-up services': 'Syringe Management',\n",
        "    'Tree Maintenance Request': 'Tree Maintenance Services',\n",
        "    'Infringement Review': 'Infringement Review - Undefined',\n",
        "    'Dumped Rubbish': 'Illegally Dumped Rubbish',}\n",
        "\n",
        "df['service_type'] = df['service_type'].replace(replacements)"
      ],
      "metadata": {
        "id": "TMmwktTfBQ-_"
      },
      "execution_count": 59,
      "outputs": []
    },
    {
      "cell_type": "code",
      "source": [
        "print(f\"All unique service types: {df['service_type'].nunique()}\\n\\n{df['service_type'].unique()}\")"
      ],
      "metadata": {
        "id": "zFSJqN1cIQyi",
        "colab": {
          "base_uri": "https://localhost:8080/"
        },
        "outputId": "c9ddb63c-c4d2-40b3-955d-43d522c2281b"
      },
      "execution_count": 60,
      "outputs": [
        {
          "output_type": "stream",
          "name": "stdout",
          "text": [
            "All unique service types: 37\n",
            "\n",
            "['Traffic Management' 'Drain Maintenance' 'Damaged Bins'\n",
            " 'Parking Meter Service' 'Syringe Management' 'Tree Maintenance Services'\n",
            " 'Waste collection services' 'Parking Compliance Services'\n",
            " 'Street Maintenance' 'Park Cleaning' 'Graffiti Removal'\n",
            " 'Illegally Dumped Rubbish' 'Road and Footpath Maintenance'\n",
            " 'Public Litter Bin' 'Street Cleaning services' 'Missed Bin Collection'\n",
            " 'Street Lighting Maintenance' 'Lawns and Irrigation' 'Missing Bin'\n",
            " 'Condition of Assets in Parks' 'Bridge Maintenance'\n",
            " 'Sport and Playground Facilities' 'Public Toilets' 'Bike pod services'\n",
            " 'Organic Waste' 'Waste Compactor' 'Waterways'\n",
            " 'Infringement Review - Parking' 'Request for Parking Officer'\n",
            " 'Rough Sleeping' 'Abandoned Vehicles'\n",
            " 'Infringement Review - Animal Management'\n",
            " 'Infringement Review - Local Law' 'Infringement Review - Undefined'\n",
            " 'Ratepayer waste' 'Other' 'General Enquiry']\n"
          ]
        }
      ]
    },
    {
      "cell_type": "code",
      "source": [
        "print(f\"All unique status: {df['status'].nunique()}\\n\\n{df['status'].unique()}\")"
      ],
      "metadata": {
        "id": "e-5EdoYzO0KD",
        "colab": {
          "base_uri": "https://localhost:8080/"
        },
        "outputId": "93d5d81a-92e1-4dc2-8c22-44ba33222cb4"
      },
      "execution_count": 61,
      "outputs": [
        {
          "output_type": "stream",
          "name": "stdout",
          "text": [
            "All unique status: 15\n",
            "\n",
            "['CLOSED' 'WIP' 'REASSIGNED' 'NEW' 'ACTIONED' 'Closed'\n",
            " 'Awaiting Customer Information' 'In Progress' 'New' 'Escalated'\n",
            " 'Closed as Duplicate' 'Assigned for Action' 'TL Action' 'Actioned'\n",
            " 'Pending Closure']\n"
          ]
        }
      ]
    },
    {
      "cell_type": "code",
      "source": [
        "# # convert 'status' to lower case to standardize it\n",
        "# df['status'] = df['status'].str.lower()\n",
        "\n",
        "# capitalize only the first letter of each word in 'status'\n",
        "df['status'] = df['status'].str.title()\n",
        "\n",
        "# address the duplication in 'status' column\n",
        "status_replacement = {\n",
        "    'Wip': 'In Progress'\n",
        "}\n",
        "\n",
        "df['status'] = df['status'].replace(status_replacement)"
      ],
      "metadata": {
        "id": "7GYjZqnsYi7H"
      },
      "execution_count": 62,
      "outputs": []
    },
    {
      "cell_type": "code",
      "source": [
        "print(f\"All unique status: {df['status'].nunique()}\\n\\n{df['status'].unique()}\")"
      ],
      "metadata": {
        "id": "8q3UrtY3Qny3",
        "colab": {
          "base_uri": "https://localhost:8080/"
        },
        "outputId": "ca63955c-ca42-43f2-c87c-cc69bcaee2c4"
      },
      "execution_count": 63,
      "outputs": [
        {
          "output_type": "stream",
          "name": "stdout",
          "text": [
            "All unique status: 11\n",
            "\n",
            "['Closed' 'In Progress' 'Reassigned' 'New' 'Actioned'\n",
            " 'Awaiting Customer Information' 'Escalated' 'Closed As Duplicate'\n",
            " 'Assigned For Action' 'Tl Action' 'Pending Closure']\n"
          ]
        }
      ]
    },
    {
      "cell_type": "code",
      "source": [
        "print(f\"All unique suburb: {df['suburb'].nunique()}\\n\\n{df['suburb'].unique()}\")"
      ],
      "metadata": {
        "id": "jAqHEbRsQ2VV",
        "colab": {
          "base_uri": "https://localhost:8080/"
        },
        "outputId": "ee069c0a-5d2c-40a4-9b6a-9d8828408a41"
      },
      "execution_count": 64,
      "outputs": [
        {
          "output_type": "stream",
          "name": "stdout",
          "text": [
            "All unique suburb: 45\n",
            "\n",
            "['Unknown' 'Melbourne' 'North Melbourne' 'Carlton North' 'Carlton'\n",
            " 'South Yarra' 'East Melbourne' 'Parkville' 'West Melbourne' 'Kensington'\n",
            " 'Docklands' 'Southbank' 'Port Melbourne' 'Flemington' 'South Wharf'\n",
            " 'Melb CBD' 'Royal Park' 'Melbourne CBD' 'Richmond' 'Princes Hill'\n",
            " 'Fitzroy' 'West Melb' 'MELBOURNE' 'north melbourne' 'North melbourne'\n",
            " 'carlton' 'Southgate Promenade' 'kensington' 'west melb' 'Batman Ave'\n",
            " 'Kensignton' 'Deer Park' 'melbourne' 'Prahran' 'Nth melbourne'\n",
            " 'EAST MELBOURNE' 'CARLTON' 'South Melbourne' 'west melbourne' 'Reservoir'\n",
            " 'North Adelaide' 'Elizabeth' 'Brunswick' 'Jolimont' 'West melbourne']\n"
          ]
        }
      ]
    },
    {
      "cell_type": "code",
      "source": [
        "# capitalize only the first letter of each word in 'suburb' to standardize it\n",
        "df['suburb'] = df['suburb'].str.title()\n",
        "\n",
        "# address the duplication in 'suburb' column\n",
        "corrections = {\n",
        "    'Nth Melbourne': 'North Melbourne',\n",
        "    'Kensignton': 'Kensington',\n",
        "    'Melbourne Cbd': 'Melbourne CBD',\n",
        "    'Melb Cbd': 'Melbourne CBD',\n",
        "    'West Melb': 'West Melbourne'\n",
        "}\n",
        "\n",
        "df['suburb'] = df['suburb'].replace(corrections)"
      ],
      "metadata": {
        "id": "xzT8Nr4DX1mz"
      },
      "execution_count": 65,
      "outputs": []
    },
    {
      "cell_type": "code",
      "source": [
        "print(f\"All unique suburb: {df['suburb'].nunique()}\\n\\n{df['suburb'].unique()}\")"
      ],
      "metadata": {
        "id": "WJ4PJEQ1dGbf",
        "colab": {
          "base_uri": "https://localhost:8080/"
        },
        "outputId": "89487a90-4a7d-450c-b728-90a8f49d5925"
      },
      "execution_count": 66,
      "outputs": [
        {
          "output_type": "stream",
          "name": "stdout",
          "text": [
            "All unique suburb: 30\n",
            "\n",
            "['Unknown' 'Melbourne' 'North Melbourne' 'Carlton North' 'Carlton'\n",
            " 'South Yarra' 'East Melbourne' 'Parkville' 'West Melbourne' 'Kensington'\n",
            " 'Docklands' 'Southbank' 'Port Melbourne' 'Flemington' 'South Wharf'\n",
            " 'Melbourne CBD' 'Royal Park' 'Richmond' 'Princes Hill' 'Fitzroy'\n",
            " 'Southgate Promenade' 'Batman Ave' 'Deer Park' 'Prahran'\n",
            " 'South Melbourne' 'Reservoir' 'North Adelaide' 'Elizabeth' 'Brunswick'\n",
            " 'Jolimont']\n"
          ]
        }
      ]
    },
    {
      "cell_type": "code",
      "source": [
        "df.head(3)"
      ],
      "metadata": {
        "id": "-yvB95mFI6MD",
        "colab": {
          "base_uri": "https://localhost:8080/",
          "height": 140
        },
        "outputId": "02806f8d-2b91-49cb-94ef-981752c3284d"
      },
      "execution_count": 67,
      "outputs": [
        {
          "output_type": "execute_result",
          "data": {
            "text/plain": [
              "   status date_received date_completed   suburb  \\\n",
              "0  Closed    2015-05-05     2015-05-19  Unknown   \n",
              "1  Closed    2015-06-10     2015-06-13  Unknown   \n",
              "2  Closed    2015-06-16     2015-06-22  Unknown   \n",
              "\n",
              "                            category        service_type  days_to_complete  \\\n",
              "0                  Roads and Traffic  Traffic Management              14.0   \n",
              "1                  Roads and Traffic   Drain Maintenance               3.0   \n",
              "2  Waste, Street Cleaning and Litter        Damaged Bins               6.0   \n",
              "\n",
              "  case_origin  \n",
              "0     Unknown  \n",
              "1     Unknown  \n",
              "2     Unknown  "
            ],
            "text/html": [
              "\n",
              "  <div id=\"df-03e9c037-dbac-4833-ad59-c51ba2c45e62\" class=\"colab-df-container\">\n",
              "    <div>\n",
              "<style scoped>\n",
              "    .dataframe tbody tr th:only-of-type {\n",
              "        vertical-align: middle;\n",
              "    }\n",
              "\n",
              "    .dataframe tbody tr th {\n",
              "        vertical-align: top;\n",
              "    }\n",
              "\n",
              "    .dataframe thead th {\n",
              "        text-align: right;\n",
              "    }\n",
              "</style>\n",
              "<table border=\"1\" class=\"dataframe\">\n",
              "  <thead>\n",
              "    <tr style=\"text-align: right;\">\n",
              "      <th></th>\n",
              "      <th>status</th>\n",
              "      <th>date_received</th>\n",
              "      <th>date_completed</th>\n",
              "      <th>suburb</th>\n",
              "      <th>category</th>\n",
              "      <th>service_type</th>\n",
              "      <th>days_to_complete</th>\n",
              "      <th>case_origin</th>\n",
              "    </tr>\n",
              "  </thead>\n",
              "  <tbody>\n",
              "    <tr>\n",
              "      <th>0</th>\n",
              "      <td>Closed</td>\n",
              "      <td>2015-05-05</td>\n",
              "      <td>2015-05-19</td>\n",
              "      <td>Unknown</td>\n",
              "      <td>Roads and Traffic</td>\n",
              "      <td>Traffic Management</td>\n",
              "      <td>14.0</td>\n",
              "      <td>Unknown</td>\n",
              "    </tr>\n",
              "    <tr>\n",
              "      <th>1</th>\n",
              "      <td>Closed</td>\n",
              "      <td>2015-06-10</td>\n",
              "      <td>2015-06-13</td>\n",
              "      <td>Unknown</td>\n",
              "      <td>Roads and Traffic</td>\n",
              "      <td>Drain Maintenance</td>\n",
              "      <td>3.0</td>\n",
              "      <td>Unknown</td>\n",
              "    </tr>\n",
              "    <tr>\n",
              "      <th>2</th>\n",
              "      <td>Closed</td>\n",
              "      <td>2015-06-16</td>\n",
              "      <td>2015-06-22</td>\n",
              "      <td>Unknown</td>\n",
              "      <td>Waste, Street Cleaning and Litter</td>\n",
              "      <td>Damaged Bins</td>\n",
              "      <td>6.0</td>\n",
              "      <td>Unknown</td>\n",
              "    </tr>\n",
              "  </tbody>\n",
              "</table>\n",
              "</div>\n",
              "    <div class=\"colab-df-buttons\">\n",
              "\n",
              "  <div class=\"colab-df-container\">\n",
              "    <button class=\"colab-df-convert\" onclick=\"convertToInteractive('df-03e9c037-dbac-4833-ad59-c51ba2c45e62')\"\n",
              "            title=\"Convert this dataframe to an interactive table.\"\n",
              "            style=\"display:none;\">\n",
              "\n",
              "  <svg xmlns=\"http://www.w3.org/2000/svg\" height=\"24px\" viewBox=\"0 -960 960 960\">\n",
              "    <path d=\"M120-120v-720h720v720H120Zm60-500h600v-160H180v160Zm220 220h160v-160H400v160Zm0 220h160v-160H400v160ZM180-400h160v-160H180v160Zm440 0h160v-160H620v160ZM180-180h160v-160H180v160Zm440 0h160v-160H620v160Z\"/>\n",
              "  </svg>\n",
              "    </button>\n",
              "\n",
              "  <style>\n",
              "    .colab-df-container {\n",
              "      display:flex;\n",
              "      gap: 12px;\n",
              "    }\n",
              "\n",
              "    .colab-df-convert {\n",
              "      background-color: #E8F0FE;\n",
              "      border: none;\n",
              "      border-radius: 50%;\n",
              "      cursor: pointer;\n",
              "      display: none;\n",
              "      fill: #1967D2;\n",
              "      height: 32px;\n",
              "      padding: 0 0 0 0;\n",
              "      width: 32px;\n",
              "    }\n",
              "\n",
              "    .colab-df-convert:hover {\n",
              "      background-color: #E2EBFA;\n",
              "      box-shadow: 0px 1px 2px rgba(60, 64, 67, 0.3), 0px 1px 3px 1px rgba(60, 64, 67, 0.15);\n",
              "      fill: #174EA6;\n",
              "    }\n",
              "\n",
              "    .colab-df-buttons div {\n",
              "      margin-bottom: 4px;\n",
              "    }\n",
              "\n",
              "    [theme=dark] .colab-df-convert {\n",
              "      background-color: #3B4455;\n",
              "      fill: #D2E3FC;\n",
              "    }\n",
              "\n",
              "    [theme=dark] .colab-df-convert:hover {\n",
              "      background-color: #434B5C;\n",
              "      box-shadow: 0px 1px 3px 1px rgba(0, 0, 0, 0.15);\n",
              "      filter: drop-shadow(0px 1px 2px rgba(0, 0, 0, 0.3));\n",
              "      fill: #FFFFFF;\n",
              "    }\n",
              "  </style>\n",
              "\n",
              "    <script>\n",
              "      const buttonEl =\n",
              "        document.querySelector('#df-03e9c037-dbac-4833-ad59-c51ba2c45e62 button.colab-df-convert');\n",
              "      buttonEl.style.display =\n",
              "        google.colab.kernel.accessAllowed ? 'block' : 'none';\n",
              "\n",
              "      async function convertToInteractive(key) {\n",
              "        const element = document.querySelector('#df-03e9c037-dbac-4833-ad59-c51ba2c45e62');\n",
              "        const dataTable =\n",
              "          await google.colab.kernel.invokeFunction('convertToInteractive',\n",
              "                                                    [key], {});\n",
              "        if (!dataTable) return;\n",
              "\n",
              "        const docLinkHtml = 'Like what you see? Visit the ' +\n",
              "          '<a target=\"_blank\" href=https://colab.research.google.com/notebooks/data_table.ipynb>data table notebook</a>'\n",
              "          + ' to learn more about interactive tables.';\n",
              "        element.innerHTML = '';\n",
              "        dataTable['output_type'] = 'display_data';\n",
              "        await google.colab.output.renderOutput(dataTable, element);\n",
              "        const docLink = document.createElement('div');\n",
              "        docLink.innerHTML = docLinkHtml;\n",
              "        element.appendChild(docLink);\n",
              "      }\n",
              "    </script>\n",
              "  </div>\n",
              "\n",
              "\n",
              "<div id=\"df-ff5a84a4-fae2-4f84-a222-0a1412b153bb\">\n",
              "  <button class=\"colab-df-quickchart\" onclick=\"quickchart('df-ff5a84a4-fae2-4f84-a222-0a1412b153bb')\"\n",
              "            title=\"Suggest charts\"\n",
              "            style=\"display:none;\">\n",
              "\n",
              "<svg xmlns=\"http://www.w3.org/2000/svg\" height=\"24px\"viewBox=\"0 0 24 24\"\n",
              "     width=\"24px\">\n",
              "    <g>\n",
              "        <path d=\"M19 3H5c-1.1 0-2 .9-2 2v14c0 1.1.9 2 2 2h14c1.1 0 2-.9 2-2V5c0-1.1-.9-2-2-2zM9 17H7v-7h2v7zm4 0h-2V7h2v10zm4 0h-2v-4h2v4z\"/>\n",
              "    </g>\n",
              "</svg>\n",
              "  </button>\n",
              "\n",
              "<style>\n",
              "  .colab-df-quickchart {\n",
              "      --bg-color: #E8F0FE;\n",
              "      --fill-color: #1967D2;\n",
              "      --hover-bg-color: #E2EBFA;\n",
              "      --hover-fill-color: #174EA6;\n",
              "      --disabled-fill-color: #AAA;\n",
              "      --disabled-bg-color: #DDD;\n",
              "  }\n",
              "\n",
              "  [theme=dark] .colab-df-quickchart {\n",
              "      --bg-color: #3B4455;\n",
              "      --fill-color: #D2E3FC;\n",
              "      --hover-bg-color: #434B5C;\n",
              "      --hover-fill-color: #FFFFFF;\n",
              "      --disabled-bg-color: #3B4455;\n",
              "      --disabled-fill-color: #666;\n",
              "  }\n",
              "\n",
              "  .colab-df-quickchart {\n",
              "    background-color: var(--bg-color);\n",
              "    border: none;\n",
              "    border-radius: 50%;\n",
              "    cursor: pointer;\n",
              "    display: none;\n",
              "    fill: var(--fill-color);\n",
              "    height: 32px;\n",
              "    padding: 0;\n",
              "    width: 32px;\n",
              "  }\n",
              "\n",
              "  .colab-df-quickchart:hover {\n",
              "    background-color: var(--hover-bg-color);\n",
              "    box-shadow: 0 1px 2px rgba(60, 64, 67, 0.3), 0 1px 3px 1px rgba(60, 64, 67, 0.15);\n",
              "    fill: var(--button-hover-fill-color);\n",
              "  }\n",
              "\n",
              "  .colab-df-quickchart-complete:disabled,\n",
              "  .colab-df-quickchart-complete:disabled:hover {\n",
              "    background-color: var(--disabled-bg-color);\n",
              "    fill: var(--disabled-fill-color);\n",
              "    box-shadow: none;\n",
              "  }\n",
              "\n",
              "  .colab-df-spinner {\n",
              "    border: 2px solid var(--fill-color);\n",
              "    border-color: transparent;\n",
              "    border-bottom-color: var(--fill-color);\n",
              "    animation:\n",
              "      spin 1s steps(1) infinite;\n",
              "  }\n",
              "\n",
              "  @keyframes spin {\n",
              "    0% {\n",
              "      border-color: transparent;\n",
              "      border-bottom-color: var(--fill-color);\n",
              "      border-left-color: var(--fill-color);\n",
              "    }\n",
              "    20% {\n",
              "      border-color: transparent;\n",
              "      border-left-color: var(--fill-color);\n",
              "      border-top-color: var(--fill-color);\n",
              "    }\n",
              "    30% {\n",
              "      border-color: transparent;\n",
              "      border-left-color: var(--fill-color);\n",
              "      border-top-color: var(--fill-color);\n",
              "      border-right-color: var(--fill-color);\n",
              "    }\n",
              "    40% {\n",
              "      border-color: transparent;\n",
              "      border-right-color: var(--fill-color);\n",
              "      border-top-color: var(--fill-color);\n",
              "    }\n",
              "    60% {\n",
              "      border-color: transparent;\n",
              "      border-right-color: var(--fill-color);\n",
              "    }\n",
              "    80% {\n",
              "      border-color: transparent;\n",
              "      border-right-color: var(--fill-color);\n",
              "      border-bottom-color: var(--fill-color);\n",
              "    }\n",
              "    90% {\n",
              "      border-color: transparent;\n",
              "      border-bottom-color: var(--fill-color);\n",
              "    }\n",
              "  }\n",
              "</style>\n",
              "\n",
              "  <script>\n",
              "    async function quickchart(key) {\n",
              "      const quickchartButtonEl =\n",
              "        document.querySelector('#' + key + ' button');\n",
              "      quickchartButtonEl.disabled = true;  // To prevent multiple clicks.\n",
              "      quickchartButtonEl.classList.add('colab-df-spinner');\n",
              "      try {\n",
              "        const charts = await google.colab.kernel.invokeFunction(\n",
              "            'suggestCharts', [key], {});\n",
              "      } catch (error) {\n",
              "        console.error('Error during call to suggestCharts:', error);\n",
              "      }\n",
              "      quickchartButtonEl.classList.remove('colab-df-spinner');\n",
              "      quickchartButtonEl.classList.add('colab-df-quickchart-complete');\n",
              "    }\n",
              "    (() => {\n",
              "      let quickchartButtonEl =\n",
              "        document.querySelector('#df-ff5a84a4-fae2-4f84-a222-0a1412b153bb button');\n",
              "      quickchartButtonEl.style.display =\n",
              "        google.colab.kernel.accessAllowed ? 'block' : 'none';\n",
              "    })();\n",
              "  </script>\n",
              "</div>\n",
              "\n",
              "    </div>\n",
              "  </div>\n"
            ],
            "application/vnd.google.colaboratory.intrinsic+json": {
              "type": "dataframe",
              "variable_name": "df",
              "summary": "{\n  \"name\": \"df\",\n  \"rows\": 88700,\n  \"fields\": [\n    {\n      \"column\": \"status\",\n      \"properties\": {\n        \"dtype\": \"category\",\n        \"num_unique_values\": 11,\n        \"samples\": [\n          \"Awaiting Customer Information\",\n          \"Closed\",\n          \"Tl Action\"\n        ],\n        \"semantic_type\": \"\",\n        \"description\": \"\"\n      }\n    },\n    {\n      \"column\": \"date_received\",\n      \"properties\": {\n        \"dtype\": \"date\",\n        \"min\": \"2014-11-10 00:00:00\",\n        \"max\": \"2018-09-30 00:00:00\",\n        \"num_unique_values\": 1001,\n        \"samples\": [\n          \"2016-03-26 00:00:00\",\n          \"2018-04-27 00:00:00\",\n          \"2018-08-27 00:00:00\"\n        ],\n        \"semantic_type\": \"\",\n        \"description\": \"\"\n      }\n    },\n    {\n      \"column\": \"date_completed\",\n      \"properties\": {\n        \"dtype\": \"date\",\n        \"min\": \"2014-11-10 00:00:00\",\n        \"max\": \"2018-10-17 00:00:00\",\n        \"num_unique_values\": 1012,\n        \"samples\": [\n          \"2016-11-03 00:00:00\",\n          \"2016-09-12 00:00:00\",\n          \"2018-01-11 00:00:00\"\n        ],\n        \"semantic_type\": \"\",\n        \"description\": \"\"\n      }\n    },\n    {\n      \"column\": \"suburb\",\n      \"properties\": {\n        \"dtype\": \"category\",\n        \"num_unique_values\": 30,\n        \"samples\": [\n          \"Elizabeth\",\n          \"Melbourne CBD\",\n          \"Prahran\"\n        ],\n        \"semantic_type\": \"\",\n        \"description\": \"\"\n      }\n    },\n    {\n      \"column\": \"category\",\n      \"properties\": {\n        \"dtype\": \"category\",\n        \"num_unique_values\": 7,\n        \"samples\": [\n          \"Roads and Traffic\",\n          \"Waste, Street Cleaning and Litter\",\n          \"Graffiti\"\n        ],\n        \"semantic_type\": \"\",\n        \"description\": \"\"\n      }\n    },\n    {\n      \"column\": \"service_type\",\n      \"properties\": {\n        \"dtype\": \"category\",\n        \"num_unique_values\": 37,\n        \"samples\": [\n          \"Lawns and Irrigation\",\n          \"Public Litter Bin\",\n          \"Syringe Management\"\n        ],\n        \"semantic_type\": \"\",\n        \"description\": \"\"\n      }\n    },\n    {\n      \"column\": \"days_to_complete\",\n      \"properties\": {\n        \"dtype\": \"number\",\n        \"std\": 39.651448100124156,\n        \"min\": 1.0,\n        \"max\": 724.0,\n        \"num_unique_values\": 450,\n        \"samples\": [\n          475.0,\n          432.0,\n          561.0\n        ],\n        \"semantic_type\": \"\",\n        \"description\": \"\"\n      }\n    },\n    {\n      \"column\": \"case_origin\",\n      \"properties\": {\n        \"dtype\": \"category\",\n        \"num_unique_values\": 10,\n        \"samples\": [\n          \"Live Chat\",\n          \"Web\",\n          \"Email\"\n        ],\n        \"semantic_type\": \"\",\n        \"description\": \"\"\n      }\n    }\n  ]\n}"
            }
          },
          "metadata": {},
          "execution_count": 67
        }
      ]
    },
    {
      "cell_type": "code",
      "source": [
        "print(df.isnull().sum())"
      ],
      "metadata": {
        "id": "F3z3zjzCIoyv",
        "colab": {
          "base_uri": "https://localhost:8080/"
        },
        "outputId": "2ed1ebad-dd4f-47ec-abaf-23132e3b9eef"
      },
      "execution_count": 68,
      "outputs": [
        {
          "output_type": "stream",
          "name": "stdout",
          "text": [
            "status                  0\n",
            "date_received           0\n",
            "date_completed      10339\n",
            "suburb                  0\n",
            "category                0\n",
            "service_type            0\n",
            "days_to_complete    42221\n",
            "case_origin             0\n",
            "dtype: int64\n"
          ]
        }
      ]
    },
    {
      "cell_type": "code",
      "source": [
        "# address the missing values in 'days_to_complete' column\n",
        "# calculate the difference in days\n",
        "\n",
        "df['days_to_complete'] = (df['date_completed'] - df['date_received']).dt.days"
      ],
      "metadata": {
        "id": "Fy3Ra9nZIo8a"
      },
      "execution_count": 69,
      "outputs": []
    },
    {
      "cell_type": "code",
      "source": [
        "# print(df.isnull().sum())\n",
        "\n",
        "df['days_to_complete'].isnull().sum()"
      ],
      "metadata": {
        "id": "p7cUfseahFWr",
        "colab": {
          "base_uri": "https://localhost:8080/"
        },
        "outputId": "c8852ff3-fa80-4eb7-85bf-08cdf42e9386"
      },
      "execution_count": 70,
      "outputs": [
        {
          "output_type": "execute_result",
          "data": {
            "text/plain": [
              "10339"
            ]
          },
          "metadata": {},
          "execution_count": 70
        }
      ]
    },
    {
      "cell_type": "code",
      "source": [
        "print(df.dtypes)"
      ],
      "metadata": {
        "id": "VhSFhYswMRYz",
        "colab": {
          "base_uri": "https://localhost:8080/"
        },
        "outputId": "3af4f67d-7ba1-4211-d037-c852b903c2f0"
      },
      "execution_count": 71,
      "outputs": [
        {
          "output_type": "stream",
          "name": "stdout",
          "text": [
            "status                      object\n",
            "date_received       datetime64[ns]\n",
            "date_completed      datetime64[ns]\n",
            "suburb                      object\n",
            "category                    object\n",
            "service_type                object\n",
            "days_to_complete           float64\n",
            "case_origin                 object\n",
            "dtype: object\n"
          ]
        }
      ]
    },
    {
      "cell_type": "code",
      "source": [
        "# convert 'days_to_complete' to a nullable integer type\n",
        "\n",
        "df['days_to_complete'] = df['days_to_complete'].astype('Int64')"
      ],
      "metadata": {
        "id": "YqXa6y6ZhLlU"
      },
      "execution_count": 72,
      "outputs": []
    },
    {
      "cell_type": "code",
      "source": [
        "# print(df.dt÷ypes)\n",
        "\n",
        "df['days_to_complete'].dtypes"
      ],
      "metadata": {
        "id": "zc7-hNCLhTjn",
        "colab": {
          "base_uri": "https://localhost:8080/"
        },
        "outputId": "13e7bf9f-fc56-485b-cdfb-2d4971c5610f"
      },
      "execution_count": 73,
      "outputs": [
        {
          "output_type": "execute_result",
          "data": {
            "text/plain": [
              "Int64Dtype()"
            ]
          },
          "metadata": {},
          "execution_count": 73
        }
      ]
    },
    {
      "cell_type": "code",
      "source": [
        "df = df.sort_values(by = 'date_received', ascending = True).reset_index(drop = True)"
      ],
      "metadata": {
        "id": "_A7MOUgfIowF"
      },
      "execution_count": 74,
      "outputs": []
    },
    {
      "cell_type": "code",
      "source": [
        "# df"
      ],
      "metadata": {
        "id": "5OI88NMyOmKj"
      },
      "execution_count": 75,
      "outputs": []
    },
    {
      "cell_type": "markdown",
      "source": [
        "## Aggregation"
      ],
      "metadata": {
        "id": "5QiE-TTLvh1d"
      }
    },
    {
      "cell_type": "code",
      "source": [
        "# extract year and month from 'date_received'\n",
        "df['rec_year'] = df['date_received'].dt.year\n",
        "df['rec_month'] = df['date_received'].dt.month"
      ],
      "metadata": {
        "id": "vTAuTrO9tBDf"
      },
      "execution_count": 76,
      "outputs": []
    },
    {
      "cell_type": "code",
      "source": [
        "# df.head(2)"
      ],
      "metadata": {
        "id": "DA7Z4DWkvAgM"
      },
      "execution_count": 77,
      "outputs": []
    },
    {
      "cell_type": "code",
      "source": [
        "len(df[df['suburb'] != 'Unknown'])"
      ],
      "metadata": {
        "colab": {
          "base_uri": "https://localhost:8080/"
        },
        "id": "777bg_l7zwFp",
        "outputId": "d3d7d0bf-265b-4d68-a5cc-4ec6273243eb"
      },
      "execution_count": 78,
      "outputs": [
        {
          "output_type": "execute_result",
          "data": {
            "text/plain": [
              "41188"
            ]
          },
          "metadata": {},
          "execution_count": 78
        }
      ]
    },
    {
      "cell_type": "code",
      "source": [
        "# group by 'category', 'year' and 'month', then count the number of cases\n",
        "mth_sum_category = df.groupby(['category', 'rec_year', 'rec_month']).size().reset_index(name = 'total_cases')\n",
        "\n",
        "# rename columns for better readability\n",
        "mth_sum_category.rename(columns = {'rec_year': 'year', 'rec_month': 'month'}, inplace = True)\n",
        "\n",
        "# sort the results\n",
        "mth_sum_category.sort_values(by = ['year', 'month', 'category'], inplace = True)"
      ],
      "metadata": {
        "id": "Rbz8si2PvIKK"
      },
      "execution_count": 79,
      "outputs": []
    },
    {
      "cell_type": "code",
      "source": [
        "# create 'date' column formatted as a string \"YYYY-MM\"\n",
        "mth_sum_category['date'] = mth_sum_category['year'].astype(str) + '-' + mth_sum_category['month'].astype(str).str.zfill(2)\n",
        "\n",
        "mth_sum_category = mth_sum_category[['category', 'year', 'month', 'date', 'total_cases']]"
      ],
      "metadata": {
        "id": "WQwkxfWieMZP"
      },
      "execution_count": 80,
      "outputs": []
    },
    {
      "cell_type": "code",
      "source": [
        "mth_sum_category.reset_index(drop = True)"
      ],
      "metadata": {
        "colab": {
          "base_uri": "https://localhost:8080/",
          "height": 411
        },
        "id": "Zu-aU_tYiCdW",
        "outputId": "41e87251-00af-4931-f868-5d8051c814fc"
      },
      "execution_count": 81,
      "outputs": [
        {
          "output_type": "execute_result",
          "data": {
            "text/plain": [
              "                              category  year  month     date  total_cases\n",
              "0                    Asset maintenance  2014     11  2014-11           56\n",
              "1                             Graffiti  2014     11  2014-11          120\n",
              "2                              Parking  2014     11  2014-11           57\n",
              "3                      Parks and Trees  2014     11  2014-11          234\n",
              "4                    Roads and Traffic  2014     11  2014-11          124\n",
              "..                                 ...   ...    ...      ...          ...\n",
              "190                            General  2018      9  2018-09         2248\n",
              "191                           Graffiti  2018      9  2018-09          497\n",
              "192                            Parking  2018      9  2018-09         1046\n",
              "193                    Parks and Trees  2018      9  2018-09          327\n",
              "194  Waste, Street Cleaning and Litter  2018      9  2018-09          630\n",
              "\n",
              "[195 rows x 5 columns]"
            ],
            "text/html": [
              "\n",
              "  <div id=\"df-fb9617ce-266d-4e79-b6e4-85074d1c58c3\" class=\"colab-df-container\">\n",
              "    <div>\n",
              "<style scoped>\n",
              "    .dataframe tbody tr th:only-of-type {\n",
              "        vertical-align: middle;\n",
              "    }\n",
              "\n",
              "    .dataframe tbody tr th {\n",
              "        vertical-align: top;\n",
              "    }\n",
              "\n",
              "    .dataframe thead th {\n",
              "        text-align: right;\n",
              "    }\n",
              "</style>\n",
              "<table border=\"1\" class=\"dataframe\">\n",
              "  <thead>\n",
              "    <tr style=\"text-align: right;\">\n",
              "      <th></th>\n",
              "      <th>category</th>\n",
              "      <th>year</th>\n",
              "      <th>month</th>\n",
              "      <th>date</th>\n",
              "      <th>total_cases</th>\n",
              "    </tr>\n",
              "  </thead>\n",
              "  <tbody>\n",
              "    <tr>\n",
              "      <th>0</th>\n",
              "      <td>Asset maintenance</td>\n",
              "      <td>2014</td>\n",
              "      <td>11</td>\n",
              "      <td>2014-11</td>\n",
              "      <td>56</td>\n",
              "    </tr>\n",
              "    <tr>\n",
              "      <th>1</th>\n",
              "      <td>Graffiti</td>\n",
              "      <td>2014</td>\n",
              "      <td>11</td>\n",
              "      <td>2014-11</td>\n",
              "      <td>120</td>\n",
              "    </tr>\n",
              "    <tr>\n",
              "      <th>2</th>\n",
              "      <td>Parking</td>\n",
              "      <td>2014</td>\n",
              "      <td>11</td>\n",
              "      <td>2014-11</td>\n",
              "      <td>57</td>\n",
              "    </tr>\n",
              "    <tr>\n",
              "      <th>3</th>\n",
              "      <td>Parks and Trees</td>\n",
              "      <td>2014</td>\n",
              "      <td>11</td>\n",
              "      <td>2014-11</td>\n",
              "      <td>234</td>\n",
              "    </tr>\n",
              "    <tr>\n",
              "      <th>4</th>\n",
              "      <td>Roads and Traffic</td>\n",
              "      <td>2014</td>\n",
              "      <td>11</td>\n",
              "      <td>2014-11</td>\n",
              "      <td>124</td>\n",
              "    </tr>\n",
              "    <tr>\n",
              "      <th>...</th>\n",
              "      <td>...</td>\n",
              "      <td>...</td>\n",
              "      <td>...</td>\n",
              "      <td>...</td>\n",
              "      <td>...</td>\n",
              "    </tr>\n",
              "    <tr>\n",
              "      <th>190</th>\n",
              "      <td>General</td>\n",
              "      <td>2018</td>\n",
              "      <td>9</td>\n",
              "      <td>2018-09</td>\n",
              "      <td>2248</td>\n",
              "    </tr>\n",
              "    <tr>\n",
              "      <th>191</th>\n",
              "      <td>Graffiti</td>\n",
              "      <td>2018</td>\n",
              "      <td>9</td>\n",
              "      <td>2018-09</td>\n",
              "      <td>497</td>\n",
              "    </tr>\n",
              "    <tr>\n",
              "      <th>192</th>\n",
              "      <td>Parking</td>\n",
              "      <td>2018</td>\n",
              "      <td>9</td>\n",
              "      <td>2018-09</td>\n",
              "      <td>1046</td>\n",
              "    </tr>\n",
              "    <tr>\n",
              "      <th>193</th>\n",
              "      <td>Parks and Trees</td>\n",
              "      <td>2018</td>\n",
              "      <td>9</td>\n",
              "      <td>2018-09</td>\n",
              "      <td>327</td>\n",
              "    </tr>\n",
              "    <tr>\n",
              "      <th>194</th>\n",
              "      <td>Waste, Street Cleaning and Litter</td>\n",
              "      <td>2018</td>\n",
              "      <td>9</td>\n",
              "      <td>2018-09</td>\n",
              "      <td>630</td>\n",
              "    </tr>\n",
              "  </tbody>\n",
              "</table>\n",
              "<p>195 rows × 5 columns</p>\n",
              "</div>\n",
              "    <div class=\"colab-df-buttons\">\n",
              "\n",
              "  <div class=\"colab-df-container\">\n",
              "    <button class=\"colab-df-convert\" onclick=\"convertToInteractive('df-fb9617ce-266d-4e79-b6e4-85074d1c58c3')\"\n",
              "            title=\"Convert this dataframe to an interactive table.\"\n",
              "            style=\"display:none;\">\n",
              "\n",
              "  <svg xmlns=\"http://www.w3.org/2000/svg\" height=\"24px\" viewBox=\"0 -960 960 960\">\n",
              "    <path d=\"M120-120v-720h720v720H120Zm60-500h600v-160H180v160Zm220 220h160v-160H400v160Zm0 220h160v-160H400v160ZM180-400h160v-160H180v160Zm440 0h160v-160H620v160ZM180-180h160v-160H180v160Zm440 0h160v-160H620v160Z\"/>\n",
              "  </svg>\n",
              "    </button>\n",
              "\n",
              "  <style>\n",
              "    .colab-df-container {\n",
              "      display:flex;\n",
              "      gap: 12px;\n",
              "    }\n",
              "\n",
              "    .colab-df-convert {\n",
              "      background-color: #E8F0FE;\n",
              "      border: none;\n",
              "      border-radius: 50%;\n",
              "      cursor: pointer;\n",
              "      display: none;\n",
              "      fill: #1967D2;\n",
              "      height: 32px;\n",
              "      padding: 0 0 0 0;\n",
              "      width: 32px;\n",
              "    }\n",
              "\n",
              "    .colab-df-convert:hover {\n",
              "      background-color: #E2EBFA;\n",
              "      box-shadow: 0px 1px 2px rgba(60, 64, 67, 0.3), 0px 1px 3px 1px rgba(60, 64, 67, 0.15);\n",
              "      fill: #174EA6;\n",
              "    }\n",
              "\n",
              "    .colab-df-buttons div {\n",
              "      margin-bottom: 4px;\n",
              "    }\n",
              "\n",
              "    [theme=dark] .colab-df-convert {\n",
              "      background-color: #3B4455;\n",
              "      fill: #D2E3FC;\n",
              "    }\n",
              "\n",
              "    [theme=dark] .colab-df-convert:hover {\n",
              "      background-color: #434B5C;\n",
              "      box-shadow: 0px 1px 3px 1px rgba(0, 0, 0, 0.15);\n",
              "      filter: drop-shadow(0px 1px 2px rgba(0, 0, 0, 0.3));\n",
              "      fill: #FFFFFF;\n",
              "    }\n",
              "  </style>\n",
              "\n",
              "    <script>\n",
              "      const buttonEl =\n",
              "        document.querySelector('#df-fb9617ce-266d-4e79-b6e4-85074d1c58c3 button.colab-df-convert');\n",
              "      buttonEl.style.display =\n",
              "        google.colab.kernel.accessAllowed ? 'block' : 'none';\n",
              "\n",
              "      async function convertToInteractive(key) {\n",
              "        const element = document.querySelector('#df-fb9617ce-266d-4e79-b6e4-85074d1c58c3');\n",
              "        const dataTable =\n",
              "          await google.colab.kernel.invokeFunction('convertToInteractive',\n",
              "                                                    [key], {});\n",
              "        if (!dataTable) return;\n",
              "\n",
              "        const docLinkHtml = 'Like what you see? Visit the ' +\n",
              "          '<a target=\"_blank\" href=https://colab.research.google.com/notebooks/data_table.ipynb>data table notebook</a>'\n",
              "          + ' to learn more about interactive tables.';\n",
              "        element.innerHTML = '';\n",
              "        dataTable['output_type'] = 'display_data';\n",
              "        await google.colab.output.renderOutput(dataTable, element);\n",
              "        const docLink = document.createElement('div');\n",
              "        docLink.innerHTML = docLinkHtml;\n",
              "        element.appendChild(docLink);\n",
              "      }\n",
              "    </script>\n",
              "  </div>\n",
              "\n",
              "\n",
              "<div id=\"df-78b6d16f-c007-4bf7-aee1-b60381d188bd\">\n",
              "  <button class=\"colab-df-quickchart\" onclick=\"quickchart('df-78b6d16f-c007-4bf7-aee1-b60381d188bd')\"\n",
              "            title=\"Suggest charts\"\n",
              "            style=\"display:none;\">\n",
              "\n",
              "<svg xmlns=\"http://www.w3.org/2000/svg\" height=\"24px\"viewBox=\"0 0 24 24\"\n",
              "     width=\"24px\">\n",
              "    <g>\n",
              "        <path d=\"M19 3H5c-1.1 0-2 .9-2 2v14c0 1.1.9 2 2 2h14c1.1 0 2-.9 2-2V5c0-1.1-.9-2-2-2zM9 17H7v-7h2v7zm4 0h-2V7h2v10zm4 0h-2v-4h2v4z\"/>\n",
              "    </g>\n",
              "</svg>\n",
              "  </button>\n",
              "\n",
              "<style>\n",
              "  .colab-df-quickchart {\n",
              "      --bg-color: #E8F0FE;\n",
              "      --fill-color: #1967D2;\n",
              "      --hover-bg-color: #E2EBFA;\n",
              "      --hover-fill-color: #174EA6;\n",
              "      --disabled-fill-color: #AAA;\n",
              "      --disabled-bg-color: #DDD;\n",
              "  }\n",
              "\n",
              "  [theme=dark] .colab-df-quickchart {\n",
              "      --bg-color: #3B4455;\n",
              "      --fill-color: #D2E3FC;\n",
              "      --hover-bg-color: #434B5C;\n",
              "      --hover-fill-color: #FFFFFF;\n",
              "      --disabled-bg-color: #3B4455;\n",
              "      --disabled-fill-color: #666;\n",
              "  }\n",
              "\n",
              "  .colab-df-quickchart {\n",
              "    background-color: var(--bg-color);\n",
              "    border: none;\n",
              "    border-radius: 50%;\n",
              "    cursor: pointer;\n",
              "    display: none;\n",
              "    fill: var(--fill-color);\n",
              "    height: 32px;\n",
              "    padding: 0;\n",
              "    width: 32px;\n",
              "  }\n",
              "\n",
              "  .colab-df-quickchart:hover {\n",
              "    background-color: var(--hover-bg-color);\n",
              "    box-shadow: 0 1px 2px rgba(60, 64, 67, 0.3), 0 1px 3px 1px rgba(60, 64, 67, 0.15);\n",
              "    fill: var(--button-hover-fill-color);\n",
              "  }\n",
              "\n",
              "  .colab-df-quickchart-complete:disabled,\n",
              "  .colab-df-quickchart-complete:disabled:hover {\n",
              "    background-color: var(--disabled-bg-color);\n",
              "    fill: var(--disabled-fill-color);\n",
              "    box-shadow: none;\n",
              "  }\n",
              "\n",
              "  .colab-df-spinner {\n",
              "    border: 2px solid var(--fill-color);\n",
              "    border-color: transparent;\n",
              "    border-bottom-color: var(--fill-color);\n",
              "    animation:\n",
              "      spin 1s steps(1) infinite;\n",
              "  }\n",
              "\n",
              "  @keyframes spin {\n",
              "    0% {\n",
              "      border-color: transparent;\n",
              "      border-bottom-color: var(--fill-color);\n",
              "      border-left-color: var(--fill-color);\n",
              "    }\n",
              "    20% {\n",
              "      border-color: transparent;\n",
              "      border-left-color: var(--fill-color);\n",
              "      border-top-color: var(--fill-color);\n",
              "    }\n",
              "    30% {\n",
              "      border-color: transparent;\n",
              "      border-left-color: var(--fill-color);\n",
              "      border-top-color: var(--fill-color);\n",
              "      border-right-color: var(--fill-color);\n",
              "    }\n",
              "    40% {\n",
              "      border-color: transparent;\n",
              "      border-right-color: var(--fill-color);\n",
              "      border-top-color: var(--fill-color);\n",
              "    }\n",
              "    60% {\n",
              "      border-color: transparent;\n",
              "      border-right-color: var(--fill-color);\n",
              "    }\n",
              "    80% {\n",
              "      border-color: transparent;\n",
              "      border-right-color: var(--fill-color);\n",
              "      border-bottom-color: var(--fill-color);\n",
              "    }\n",
              "    90% {\n",
              "      border-color: transparent;\n",
              "      border-bottom-color: var(--fill-color);\n",
              "    }\n",
              "  }\n",
              "</style>\n",
              "\n",
              "  <script>\n",
              "    async function quickchart(key) {\n",
              "      const quickchartButtonEl =\n",
              "        document.querySelector('#' + key + ' button');\n",
              "      quickchartButtonEl.disabled = true;  // To prevent multiple clicks.\n",
              "      quickchartButtonEl.classList.add('colab-df-spinner');\n",
              "      try {\n",
              "        const charts = await google.colab.kernel.invokeFunction(\n",
              "            'suggestCharts', [key], {});\n",
              "      } catch (error) {\n",
              "        console.error('Error during call to suggestCharts:', error);\n",
              "      }\n",
              "      quickchartButtonEl.classList.remove('colab-df-spinner');\n",
              "      quickchartButtonEl.classList.add('colab-df-quickchart-complete');\n",
              "    }\n",
              "    (() => {\n",
              "      let quickchartButtonEl =\n",
              "        document.querySelector('#df-78b6d16f-c007-4bf7-aee1-b60381d188bd button');\n",
              "      quickchartButtonEl.style.display =\n",
              "        google.colab.kernel.accessAllowed ? 'block' : 'none';\n",
              "    })();\n",
              "  </script>\n",
              "</div>\n",
              "\n",
              "    </div>\n",
              "  </div>\n"
            ],
            "application/vnd.google.colaboratory.intrinsic+json": {
              "type": "dataframe",
              "summary": "{\n  \"name\": \"mth_sum_category\",\n  \"rows\": 195,\n  \"fields\": [\n    {\n      \"column\": \"category\",\n      \"properties\": {\n        \"dtype\": \"category\",\n        \"num_unique_values\": 7,\n        \"samples\": [\n          \"Asset maintenance\",\n          \"Graffiti\",\n          \"Waste, Street Cleaning and Litter\"\n        ],\n        \"semantic_type\": \"\",\n        \"description\": \"\"\n      }\n    },\n    {\n      \"column\": \"year\",\n      \"properties\": {\n        \"dtype\": \"int32\",\n        \"num_unique_values\": 4,\n        \"samples\": [\n          2015,\n          2018,\n          2014\n        ],\n        \"semantic_type\": \"\",\n        \"description\": \"\"\n      }\n    },\n    {\n      \"column\": \"month\",\n      \"properties\": {\n        \"dtype\": \"int32\",\n        \"num_unique_values\": 12,\n        \"samples\": [\n          9,\n          8,\n          11\n        ],\n        \"semantic_type\": \"\",\n        \"description\": \"\"\n      }\n    },\n    {\n      \"column\": \"date\",\n      \"properties\": {\n        \"dtype\": \"object\",\n        \"num_unique_values\": 34,\n        \"samples\": [\n          \"2016-02\",\n          \"2016-06\",\n          \"2018-03\"\n        ],\n        \"semantic_type\": \"\",\n        \"description\": \"\"\n      }\n    },\n    {\n      \"column\": \"total_cases\",\n      \"properties\": {\n        \"dtype\": \"number\",\n        \"std\": 501,\n        \"min\": 11,\n        \"max\": 2508,\n        \"num_unique_values\": 166,\n        \"samples\": [\n          209,\n          492,\n          91\n        ],\n        \"semantic_type\": \"\",\n        \"description\": \"\"\n      }\n    }\n  ]\n}"
            }
          },
          "metadata": {},
          "execution_count": 81
        }
      ]
    },
    {
      "cell_type": "code",
      "source": [
        "# find the sum of all the cases across each category when the month is 11\n",
        "november_cases_sum = mth_sum_category[mth_sum_category['month'] == 11]['total_cases'].sum()\n",
        "november_cases_sum"
      ],
      "metadata": {
        "colab": {
          "base_uri": "https://localhost:8080/"
        },
        "id": "i_shC7Pt8T3Y",
        "outputId": "bdeadbcd-7e06-4640-ad00-209802e93dd6"
      },
      "execution_count": 82,
      "outputs": [
        {
          "output_type": "execute_result",
          "data": {
            "text/plain": [
              "3520"
            ]
          },
          "metadata": {},
          "execution_count": 82
        }
      ]
    },
    {
      "cell_type": "markdown",
      "source": [
        "# **Observations**"
      ],
      "metadata": {
        "id": "ooPJBKyWM1om"
      }
    },
    {
      "cell_type": "markdown",
      "source": [
        "### Heat map"
      ],
      "metadata": {
        "id": "yIrO3P6uNnQx"
      }
    },
    {
      "cell_type": "code",
      "source": [
        "# use pivot_table to handle potential duplicate entries by aggregating them\n",
        "heatmap_data = mth_sum_category.pivot_table(index = 'category',\n",
        "                                            columns = 'month',\n",
        "                                            values = 'total_cases',\n",
        "                                            aggfunc = 'sum').fillna(0)\n",
        "\n",
        "# create interactive heatmap\n",
        "fig_heatmap = px.imshow(heatmap_data,\n",
        "                        labels = dict(x = \"Month\", y = \"Category\", color = \"Total Cases\"),\n",
        "                        x = [f'mth {i}' for i in range(1, 13)],    # months are numbered from 1 through 12\n",
        "                        y = heatmap_data.index,\n",
        "                        color_continuous_scale = \"deep\")\n",
        "\n",
        "fig_heatmap.update_layout(title = {'text': 'Density of Cases Across Months and Categories',\n",
        "                                   'y': 0.95, 'x': 0.5,\n",
        "                                   'xanchor': 'center',\n",
        "                                   'yanchor': 'top'},\n",
        "                          coloraxis_colorbar = dict(title = dict(side = 'right', text = 'Total Cases'),\n",
        "                                                    yanchor = 'middle',\n",
        "                                                    ticks = 'outside',\n",
        "                                                    ticksuffix = ' '))\n",
        "\n",
        "fig_heatmap.show( )\n"
      ],
      "metadata": {
        "colab": {
          "base_uri": "https://localhost:8080/",
          "height": 542
        },
        "id": "4LeWG_R4Obnq",
        "outputId": "6447cbc6-72d0-4512-d022-dbdc93945048"
      },
      "execution_count": 83,
      "outputs": [
        {
          "output_type": "display_data",
          "data": {
            "text/html": [
              "<html>\n",
              "<head><meta charset=\"utf-8\" /></head>\n",
              "<body>\n",
              "    <div>            <script src=\"https://cdnjs.cloudflare.com/ajax/libs/mathjax/2.7.5/MathJax.js?config=TeX-AMS-MML_SVG\"></script><script type=\"text/javascript\">if (window.MathJax && window.MathJax.Hub && window.MathJax.Hub.Config) {window.MathJax.Hub.Config({SVG: {font: \"STIX-Web\"}});}</script>                <script type=\"text/javascript\">window.PlotlyConfig = {MathJaxConfig: 'local'};</script>\n",
              "        <script charset=\"utf-8\" src=\"https://cdn.plot.ly/plotly-2.24.1.min.js\"></script>                <div id=\"2681fd49-6b21-411a-87fe-6003cfcddb04\" class=\"plotly-graph-div\" style=\"height:525px; width:100%;\"></div>            <script type=\"text/javascript\">                                    window.PLOTLYENV=window.PLOTLYENV || {};                                    if (document.getElementById(\"2681fd49-6b21-411a-87fe-6003cfcddb04\")) {                    Plotly.newPlot(                        \"2681fd49-6b21-411a-87fe-6003cfcddb04\",                        [{\"coloraxis\":\"coloraxis\",\"name\":\"0\",\"x\":[\"mth 1\",\"mth 2\",\"mth 3\",\"mth 4\",\"mth 5\",\"mth 6\",\"mth 7\",\"mth 8\",\"mth 9\",\"mth 10\",\"mth 11\",\"mth 12\"],\"y\":[\"Asset maintenance\",\"General\",\"Graffiti\",\"Parking\",\"Parks and Trees\",\"Roads and Traffic\",\"Waste, Street Cleaning and Litter\"],\"z\":[[112.0,173.0,176.0,160.0,171.0,152.0,162.0,134.0,155.0,130.0,131.0,116.0],[2168.0,2055.0,2291.0,2268.0,2508.0,2295.0,2372.0,2395.0,2248.0,0.0,0.0,0.0],[1065.0,1265.0,1223.0,1337.0,1262.0,1086.0,1446.0,1458.0,1349.0,849.0,549.0,535.0],[1080.0,1245.0,1438.0,1337.0,1412.0,1158.0,1258.0,1434.0,1211.0,172.0,156.0,166.0],[1291.0,1392.0,1265.0,1026.0,1011.0,790.0,970.0,806.0,783.0,635.0,658.0,745.0],[376.0,488.0,466.0,428.0,455.0,407.0,403.0,453.0,474.0,499.0,397.0,386.0],[2164.0,2324.0,2200.0,2063.0,2111.0,2060.0,1982.0,2139.0,2352.0,1622.0,1629.0,1587.0]],\"type\":\"heatmap\",\"xaxis\":\"x\",\"yaxis\":\"y\",\"hovertemplate\":\"Month: %{x}\\u003cbr\\u003eCategory: %{y}\\u003cbr\\u003eTotal Cases: %{z}\\u003cextra\\u003e\\u003c\\u002fextra\\u003e\"}],                        {\"template\":{\"data\":{\"histogram2dcontour\":[{\"type\":\"histogram2dcontour\",\"colorbar\":{\"outlinewidth\":0,\"ticks\":\"\"},\"colorscale\":[[0.0,\"#0d0887\"],[0.1111111111111111,\"#46039f\"],[0.2222222222222222,\"#7201a8\"],[0.3333333333333333,\"#9c179e\"],[0.4444444444444444,\"#bd3786\"],[0.5555555555555556,\"#d8576b\"],[0.6666666666666666,\"#ed7953\"],[0.7777777777777778,\"#fb9f3a\"],[0.8888888888888888,\"#fdca26\"],[1.0,\"#f0f921\"]]}],\"choropleth\":[{\"type\":\"choropleth\",\"colorbar\":{\"outlinewidth\":0,\"ticks\":\"\"}}],\"histogram2d\":[{\"type\":\"histogram2d\",\"colorbar\":{\"outlinewidth\":0,\"ticks\":\"\"},\"colorscale\":[[0.0,\"#0d0887\"],[0.1111111111111111,\"#46039f\"],[0.2222222222222222,\"#7201a8\"],[0.3333333333333333,\"#9c179e\"],[0.4444444444444444,\"#bd3786\"],[0.5555555555555556,\"#d8576b\"],[0.6666666666666666,\"#ed7953\"],[0.7777777777777778,\"#fb9f3a\"],[0.8888888888888888,\"#fdca26\"],[1.0,\"#f0f921\"]]}],\"heatmap\":[{\"type\":\"heatmap\",\"colorbar\":{\"outlinewidth\":0,\"ticks\":\"\"},\"colorscale\":[[0.0,\"#0d0887\"],[0.1111111111111111,\"#46039f\"],[0.2222222222222222,\"#7201a8\"],[0.3333333333333333,\"#9c179e\"],[0.4444444444444444,\"#bd3786\"],[0.5555555555555556,\"#d8576b\"],[0.6666666666666666,\"#ed7953\"],[0.7777777777777778,\"#fb9f3a\"],[0.8888888888888888,\"#fdca26\"],[1.0,\"#f0f921\"]]}],\"heatmapgl\":[{\"type\":\"heatmapgl\",\"colorbar\":{\"outlinewidth\":0,\"ticks\":\"\"},\"colorscale\":[[0.0,\"#0d0887\"],[0.1111111111111111,\"#46039f\"],[0.2222222222222222,\"#7201a8\"],[0.3333333333333333,\"#9c179e\"],[0.4444444444444444,\"#bd3786\"],[0.5555555555555556,\"#d8576b\"],[0.6666666666666666,\"#ed7953\"],[0.7777777777777778,\"#fb9f3a\"],[0.8888888888888888,\"#fdca26\"],[1.0,\"#f0f921\"]]}],\"contourcarpet\":[{\"type\":\"contourcarpet\",\"colorbar\":{\"outlinewidth\":0,\"ticks\":\"\"}}],\"contour\":[{\"type\":\"contour\",\"colorbar\":{\"outlinewidth\":0,\"ticks\":\"\"},\"colorscale\":[[0.0,\"#0d0887\"],[0.1111111111111111,\"#46039f\"],[0.2222222222222222,\"#7201a8\"],[0.3333333333333333,\"#9c179e\"],[0.4444444444444444,\"#bd3786\"],[0.5555555555555556,\"#d8576b\"],[0.6666666666666666,\"#ed7953\"],[0.7777777777777778,\"#fb9f3a\"],[0.8888888888888888,\"#fdca26\"],[1.0,\"#f0f921\"]]}],\"surface\":[{\"type\":\"surface\",\"colorbar\":{\"outlinewidth\":0,\"ticks\":\"\"},\"colorscale\":[[0.0,\"#0d0887\"],[0.1111111111111111,\"#46039f\"],[0.2222222222222222,\"#7201a8\"],[0.3333333333333333,\"#9c179e\"],[0.4444444444444444,\"#bd3786\"],[0.5555555555555556,\"#d8576b\"],[0.6666666666666666,\"#ed7953\"],[0.7777777777777778,\"#fb9f3a\"],[0.8888888888888888,\"#fdca26\"],[1.0,\"#f0f921\"]]}],\"mesh3d\":[{\"type\":\"mesh3d\",\"colorbar\":{\"outlinewidth\":0,\"ticks\":\"\"}}],\"scatter\":[{\"fillpattern\":{\"fillmode\":\"overlay\",\"size\":10,\"solidity\":0.2},\"type\":\"scatter\"}],\"parcoords\":[{\"type\":\"parcoords\",\"line\":{\"colorbar\":{\"outlinewidth\":0,\"ticks\":\"\"}}}],\"scatterpolargl\":[{\"type\":\"scatterpolargl\",\"marker\":{\"colorbar\":{\"outlinewidth\":0,\"ticks\":\"\"}}}],\"bar\":[{\"error_x\":{\"color\":\"#2a3f5f\"},\"error_y\":{\"color\":\"#2a3f5f\"},\"marker\":{\"line\":{\"color\":\"#E5ECF6\",\"width\":0.5},\"pattern\":{\"fillmode\":\"overlay\",\"size\":10,\"solidity\":0.2}},\"type\":\"bar\"}],\"scattergeo\":[{\"type\":\"scattergeo\",\"marker\":{\"colorbar\":{\"outlinewidth\":0,\"ticks\":\"\"}}}],\"scatterpolar\":[{\"type\":\"scatterpolar\",\"marker\":{\"colorbar\":{\"outlinewidth\":0,\"ticks\":\"\"}}}],\"histogram\":[{\"marker\":{\"pattern\":{\"fillmode\":\"overlay\",\"size\":10,\"solidity\":0.2}},\"type\":\"histogram\"}],\"scattergl\":[{\"type\":\"scattergl\",\"marker\":{\"colorbar\":{\"outlinewidth\":0,\"ticks\":\"\"}}}],\"scatter3d\":[{\"type\":\"scatter3d\",\"line\":{\"colorbar\":{\"outlinewidth\":0,\"ticks\":\"\"}},\"marker\":{\"colorbar\":{\"outlinewidth\":0,\"ticks\":\"\"}}}],\"scattermapbox\":[{\"type\":\"scattermapbox\",\"marker\":{\"colorbar\":{\"outlinewidth\":0,\"ticks\":\"\"}}}],\"scatterternary\":[{\"type\":\"scatterternary\",\"marker\":{\"colorbar\":{\"outlinewidth\":0,\"ticks\":\"\"}}}],\"scattercarpet\":[{\"type\":\"scattercarpet\",\"marker\":{\"colorbar\":{\"outlinewidth\":0,\"ticks\":\"\"}}}],\"carpet\":[{\"aaxis\":{\"endlinecolor\":\"#2a3f5f\",\"gridcolor\":\"white\",\"linecolor\":\"white\",\"minorgridcolor\":\"white\",\"startlinecolor\":\"#2a3f5f\"},\"baxis\":{\"endlinecolor\":\"#2a3f5f\",\"gridcolor\":\"white\",\"linecolor\":\"white\",\"minorgridcolor\":\"white\",\"startlinecolor\":\"#2a3f5f\"},\"type\":\"carpet\"}],\"table\":[{\"cells\":{\"fill\":{\"color\":\"#EBF0F8\"},\"line\":{\"color\":\"white\"}},\"header\":{\"fill\":{\"color\":\"#C8D4E3\"},\"line\":{\"color\":\"white\"}},\"type\":\"table\"}],\"barpolar\":[{\"marker\":{\"line\":{\"color\":\"#E5ECF6\",\"width\":0.5},\"pattern\":{\"fillmode\":\"overlay\",\"size\":10,\"solidity\":0.2}},\"type\":\"barpolar\"}],\"pie\":[{\"automargin\":true,\"type\":\"pie\"}]},\"layout\":{\"autotypenumbers\":\"strict\",\"colorway\":[\"#636efa\",\"#EF553B\",\"#00cc96\",\"#ab63fa\",\"#FFA15A\",\"#19d3f3\",\"#FF6692\",\"#B6E880\",\"#FF97FF\",\"#FECB52\"],\"font\":{\"color\":\"#2a3f5f\"},\"hovermode\":\"closest\",\"hoverlabel\":{\"align\":\"left\"},\"paper_bgcolor\":\"white\",\"plot_bgcolor\":\"#E5ECF6\",\"polar\":{\"bgcolor\":\"#E5ECF6\",\"angularaxis\":{\"gridcolor\":\"white\",\"linecolor\":\"white\",\"ticks\":\"\"},\"radialaxis\":{\"gridcolor\":\"white\",\"linecolor\":\"white\",\"ticks\":\"\"}},\"ternary\":{\"bgcolor\":\"#E5ECF6\",\"aaxis\":{\"gridcolor\":\"white\",\"linecolor\":\"white\",\"ticks\":\"\"},\"baxis\":{\"gridcolor\":\"white\",\"linecolor\":\"white\",\"ticks\":\"\"},\"caxis\":{\"gridcolor\":\"white\",\"linecolor\":\"white\",\"ticks\":\"\"}},\"coloraxis\":{\"colorbar\":{\"outlinewidth\":0,\"ticks\":\"\"}},\"colorscale\":{\"sequential\":[[0.0,\"#0d0887\"],[0.1111111111111111,\"#46039f\"],[0.2222222222222222,\"#7201a8\"],[0.3333333333333333,\"#9c179e\"],[0.4444444444444444,\"#bd3786\"],[0.5555555555555556,\"#d8576b\"],[0.6666666666666666,\"#ed7953\"],[0.7777777777777778,\"#fb9f3a\"],[0.8888888888888888,\"#fdca26\"],[1.0,\"#f0f921\"]],\"sequentialminus\":[[0.0,\"#0d0887\"],[0.1111111111111111,\"#46039f\"],[0.2222222222222222,\"#7201a8\"],[0.3333333333333333,\"#9c179e\"],[0.4444444444444444,\"#bd3786\"],[0.5555555555555556,\"#d8576b\"],[0.6666666666666666,\"#ed7953\"],[0.7777777777777778,\"#fb9f3a\"],[0.8888888888888888,\"#fdca26\"],[1.0,\"#f0f921\"]],\"diverging\":[[0,\"#8e0152\"],[0.1,\"#c51b7d\"],[0.2,\"#de77ae\"],[0.3,\"#f1b6da\"],[0.4,\"#fde0ef\"],[0.5,\"#f7f7f7\"],[0.6,\"#e6f5d0\"],[0.7,\"#b8e186\"],[0.8,\"#7fbc41\"],[0.9,\"#4d9221\"],[1,\"#276419\"]]},\"xaxis\":{\"gridcolor\":\"white\",\"linecolor\":\"white\",\"ticks\":\"\",\"title\":{\"standoff\":15},\"zerolinecolor\":\"white\",\"automargin\":true,\"zerolinewidth\":2},\"yaxis\":{\"gridcolor\":\"white\",\"linecolor\":\"white\",\"ticks\":\"\",\"title\":{\"standoff\":15},\"zerolinecolor\":\"white\",\"automargin\":true,\"zerolinewidth\":2},\"scene\":{\"xaxis\":{\"backgroundcolor\":\"#E5ECF6\",\"gridcolor\":\"white\",\"linecolor\":\"white\",\"showbackground\":true,\"ticks\":\"\",\"zerolinecolor\":\"white\",\"gridwidth\":2},\"yaxis\":{\"backgroundcolor\":\"#E5ECF6\",\"gridcolor\":\"white\",\"linecolor\":\"white\",\"showbackground\":true,\"ticks\":\"\",\"zerolinecolor\":\"white\",\"gridwidth\":2},\"zaxis\":{\"backgroundcolor\":\"#E5ECF6\",\"gridcolor\":\"white\",\"linecolor\":\"white\",\"showbackground\":true,\"ticks\":\"\",\"zerolinecolor\":\"white\",\"gridwidth\":2}},\"shapedefaults\":{\"line\":{\"color\":\"#2a3f5f\"}},\"annotationdefaults\":{\"arrowcolor\":\"#2a3f5f\",\"arrowhead\":0,\"arrowwidth\":1},\"geo\":{\"bgcolor\":\"white\",\"landcolor\":\"#E5ECF6\",\"subunitcolor\":\"white\",\"showland\":true,\"showlakes\":true,\"lakecolor\":\"white\"},\"title\":{\"x\":0.05},\"mapbox\":{\"style\":\"light\"}}},\"xaxis\":{\"anchor\":\"y\",\"domain\":[0.0,1.0],\"scaleanchor\":\"y\",\"constrain\":\"domain\",\"title\":{\"text\":\"Month\"}},\"yaxis\":{\"anchor\":\"x\",\"domain\":[0.0,1.0],\"autorange\":\"reversed\",\"constrain\":\"domain\",\"title\":{\"text\":\"Category\"}},\"coloraxis\":{\"colorbar\":{\"title\":{\"text\":\"Total Cases\",\"side\":\"right\"},\"yanchor\":\"middle\",\"ticks\":\"outside\",\"ticksuffix\":\" \"},\"colorscale\":[[0.0,\"rgb(253, 253, 204)\"],[0.09090909090909091,\"rgb(206, 236, 179)\"],[0.18181818181818182,\"rgb(156, 219, 165)\"],[0.2727272727272727,\"rgb(111, 201, 163)\"],[0.36363636363636365,\"rgb(86, 177, 163)\"],[0.45454545454545453,\"rgb(76, 153, 160)\"],[0.5454545454545454,\"rgb(68, 130, 155)\"],[0.6363636363636364,\"rgb(62, 108, 150)\"],[0.7272727272727273,\"rgb(62, 82, 143)\"],[0.8181818181818182,\"rgb(64, 60, 115)\"],[0.9090909090909091,\"rgb(54, 43, 77)\"],[1.0,\"rgb(39, 26, 44)\"]]},\"margin\":{\"t\":60},\"title\":{\"text\":\"Density of Cases Across Months and Categories\",\"y\":0.95,\"x\":0.5,\"xanchor\":\"center\",\"yanchor\":\"top\"}},                        {\"responsive\": true}                    ).then(function(){\n",
              "                            \n",
              "var gd = document.getElementById('2681fd49-6b21-411a-87fe-6003cfcddb04');\n",
              "var x = new MutationObserver(function (mutations, observer) {{\n",
              "        var display = window.getComputedStyle(gd).display;\n",
              "        if (!display || display === 'none') {{\n",
              "            console.log([gd, 'removed!']);\n",
              "            Plotly.purge(gd);\n",
              "            observer.disconnect();\n",
              "        }}\n",
              "}});\n",
              "\n",
              "// Listen for the removal of the full notebook cells\n",
              "var notebookContainer = gd.closest('#notebook-container');\n",
              "if (notebookContainer) {{\n",
              "    x.observe(notebookContainer, {childList: true});\n",
              "}}\n",
              "\n",
              "// Listen for the clearing of the current output cell\n",
              "var outputEl = gd.closest('.output');\n",
              "if (outputEl) {{\n",
              "    x.observe(outputEl, {childList: true});\n",
              "}}\n",
              "\n",
              "                        })                };                            </script>        </div>\n",
              "</body>\n",
              "</html>"
            ]
          },
          "metadata": {}
        }
      ]
    },
    {
      "cell_type": "markdown",
      "source": [
        "*The heatmap of case density across months and categories shows distinct patterns that may suggest seasonal trends and category-specific demand for services. For example, certain categories like 'Waste, Street Cleaning and Litter' show a consistent spread of cases throughout the year, while others like 'Geneal' may exhibit more variability. The heatmap can be leveraged to anticipate service demand, optimize resource allocation, and enhance service delivery efficiency based on the observed patterns. Further analysis might explore the reasons behind high and low case volumes and investigate any anomalies to ensure responsive and effective service management.*"
      ],
      "metadata": {
        "id": "CYqp76Pfai5S"
      }
    },
    {
      "cell_type": "markdown",
      "source": [
        "### Tree map"
      ],
      "metadata": {
        "id": "s-_Bo42pb-mZ"
      }
    },
    {
      "cell_type": "code",
      "source": [
        "# aggregate the data for the treemap\n",
        "treemap_data = df.groupby(['rec_year', 'category', 'service_type']).size().reset_index(name = 'total_cases')\n",
        "\n",
        "# rename column\n",
        "treemap_data.rename(columns = {'rec_year': 'year'}, inplace = True)"
      ],
      "metadata": {
        "id": "_OruRK7IdM2_"
      },
      "execution_count": 84,
      "outputs": []
    },
    {
      "cell_type": "code",
      "source": [
        "# create treemap\n",
        "fig_treemap = px.treemap(treemap_data,\n",
        "                         path = ['category', 'service_type'],   # define hierarchy\n",
        "                         values = 'total_cases',   # size of the grid\n",
        "                         title = 'Distribution of Service Types Across Categories Over Time')\n",
        "\n",
        "fig_treemap.update_layout(\n",
        "    margin = dict(t = 50, l = 25, r = 25, b = 25),\n",
        "    title = {'text': \"Distribution of Service Types Across Categories\",\n",
        "             'y': 0.94,\n",
        "             'x': 0.5,\n",
        "             'xanchor': 'center',\n",
        "             'yanchor': 'top'\n",
        "             }\n",
        "    )\n",
        "\n",
        "# show figure\n",
        "fig_treemap.show( )\n"
      ],
      "metadata": {
        "colab": {
          "base_uri": "https://localhost:8080/",
          "height": 542
        },
        "id": "VHzLHSsZbI09",
        "outputId": "9374d526-1a6d-4826-900a-6fda30c221ca"
      },
      "execution_count": 85,
      "outputs": [
        {
          "output_type": "display_data",
          "data": {
            "text/html": [
              "<html>\n",
              "<head><meta charset=\"utf-8\" /></head>\n",
              "<body>\n",
              "    <div>            <script src=\"https://cdnjs.cloudflare.com/ajax/libs/mathjax/2.7.5/MathJax.js?config=TeX-AMS-MML_SVG\"></script><script type=\"text/javascript\">if (window.MathJax && window.MathJax.Hub && window.MathJax.Hub.Config) {window.MathJax.Hub.Config({SVG: {font: \"STIX-Web\"}});}</script>                <script type=\"text/javascript\">window.PlotlyConfig = {MathJaxConfig: 'local'};</script>\n",
              "        <script charset=\"utf-8\" src=\"https://cdn.plot.ly/plotly-2.24.1.min.js\"></script>                <div id=\"d72ac1b7-962e-4197-a345-7c5b41d1bb42\" class=\"plotly-graph-div\" style=\"height:525px; width:100%;\"></div>            <script type=\"text/javascript\">                                    window.PLOTLYENV=window.PLOTLYENV || {};                                    if (document.getElementById(\"d72ac1b7-962e-4197-a345-7c5b41d1bb42\")) {                    Plotly.newPlot(                        \"d72ac1b7-962e-4197-a345-7c5b41d1bb42\",                        [{\"branchvalues\":\"total\",\"domain\":{\"x\":[0.0,1.0],\"y\":[0.0,1.0]},\"hovertemplate\":\"labels=%{label}\\u003cbr\\u003etotal_cases=%{value}\\u003cbr\\u003eparent=%{parent}\\u003cbr\\u003eid=%{id}\\u003cextra\\u003e\\u003c\\u002fextra\\u003e\",\"ids\":[\"Parking\\u002fAbandoned Vehicles\",\"Asset maintenance\\u002fBike pod services\",\"Asset maintenance\\u002fBridge Maintenance\",\"Parks and Trees\\u002fCondition of Assets in Parks\",\"Waste, Street Cleaning and Litter\\u002fDamaged Bins\",\"Roads and Traffic\\u002fDrain Maintenance\",\"General\\u002fGeneral Enquiry\",\"Graffiti\\u002fGraffiti Removal\",\"Waste, Street Cleaning and Litter\\u002fIllegally Dumped Rubbish\",\"General\\u002fInfringement Review - Animal Management\",\"General\\u002fInfringement Review - Local Law\",\"General\\u002fInfringement Review - Parking\",\"General\\u002fInfringement Review - Undefined\",\"Parks and Trees\\u002fLawns and Irrigation\",\"Waste, Street Cleaning and Litter\\u002fMissed Bin Collection\",\"Waste, Street Cleaning and Litter\\u002fMissing Bin\",\"Waste, Street Cleaning and Litter\\u002fOrganic Waste\",\"General\\u002fOther\",\"Parks and Trees\\u002fPark Cleaning\",\"Parking\\u002fParking Compliance Services\",\"Parking\\u002fParking Meter Service\",\"Waste, Street Cleaning and Litter\\u002fPublic Litter Bin\",\"Asset maintenance\\u002fPublic Toilets\",\"Waste, Street Cleaning and Litter\\u002fRatepayer waste\",\"Parking\\u002fRequest for Parking Officer\",\"Roads and Traffic\\u002fRoad and Footpath Maintenance\",\"Parks and Trees\\u002fRough Sleeping\",\"Parks and Trees\\u002fSport and Playground Facilities\",\"Waste, Street Cleaning and Litter\\u002fStreet Cleaning services\",\"Asset maintenance\\u002fStreet Lighting Maintenance\",\"Asset maintenance\\u002fStreet Maintenance\",\"Waste, Street Cleaning and Litter\\u002fSyringe Management\",\"Roads and Traffic\\u002fTraffic Management\",\"Parks and Trees\\u002fTree Maintenance Services\",\"Waste, Street Cleaning and Litter\\u002fWaste Compactor\",\"Waste, Street Cleaning and Litter\\u002fWaste collection services\",\"Waste, Street Cleaning and Litter\\u002fWaterways\",\"Asset maintenance\",\"General\",\"Graffiti\",\"Parking\",\"Parks and Trees\",\"Roads and Traffic\",\"Waste, Street Cleaning and Litter\"],\"labels\":[\"Abandoned Vehicles\",\"Bike pod services\",\"Bridge Maintenance\",\"Condition of Assets in Parks\",\"Damaged Bins\",\"Drain Maintenance\",\"General Enquiry\",\"Graffiti Removal\",\"Illegally Dumped Rubbish\",\"Infringement Review - Animal Management\",\"Infringement Review - Local Law\",\"Infringement Review - Parking\",\"Infringement Review - Undefined\",\"Lawns and Irrigation\",\"Missed Bin Collection\",\"Missing Bin\",\"Organic Waste\",\"Other\",\"Park Cleaning\",\"Parking Compliance Services\",\"Parking Meter Service\",\"Public Litter Bin\",\"Public Toilets\",\"Ratepayer waste\",\"Request for Parking Officer\",\"Road and Footpath Maintenance\",\"Rough Sleeping\",\"Sport and Playground Facilities\",\"Street Cleaning services\",\"Street Lighting Maintenance\",\"Street Maintenance\",\"Syringe Management\",\"Traffic Management\",\"Tree Maintenance Services\",\"Waste Compactor\",\"Waste collection services\",\"Waterways\",\"Asset maintenance\",\"General\",\"Graffiti\",\"Parking\",\"Parks and Trees\",\"Roads and Traffic\",\"Waste, Street Cleaning and Litter\"],\"name\":\"\",\"parents\":[\"Parking\",\"Asset maintenance\",\"Asset maintenance\",\"Parks and Trees\",\"Waste, Street Cleaning and Litter\",\"Roads and Traffic\",\"General\",\"Graffiti\",\"Waste, Street Cleaning and Litter\",\"General\",\"General\",\"General\",\"General\",\"Parks and Trees\",\"Waste, Street Cleaning and Litter\",\"Waste, Street Cleaning and Litter\",\"Waste, Street Cleaning and Litter\",\"General\",\"Parks and Trees\",\"Parking\",\"Parking\",\"Waste, Street Cleaning and Litter\",\"Asset maintenance\",\"Waste, Street Cleaning and Litter\",\"Parking\",\"Roads and Traffic\",\"Parks and Trees\",\"Parks and Trees\",\"Waste, Street Cleaning and Litter\",\"Asset maintenance\",\"Asset maintenance\",\"Waste, Street Cleaning and Litter\",\"Roads and Traffic\",\"Parks and Trees\",\"Waste, Street Cleaning and Litter\",\"Waste, Street Cleaning and Litter\",\"Waste, Street Cleaning and Litter\",\"\",\"\",\"\",\"\",\"\",\"\",\"\"],\"values\":[586,57,80,1766,2424,793,26,13424,6945,27,129,20133,251,805,4940,2208,18,34,1267,1053,1114,1720,116,316,9314,2603,1771,127,1670,645,874,1412,1836,5636,40,2527,13,1772,20600,13424,12067,11372,5232,24233],\"type\":\"treemap\"}],                        {\"template\":{\"data\":{\"histogram2dcontour\":[{\"type\":\"histogram2dcontour\",\"colorbar\":{\"outlinewidth\":0,\"ticks\":\"\"},\"colorscale\":[[0.0,\"#0d0887\"],[0.1111111111111111,\"#46039f\"],[0.2222222222222222,\"#7201a8\"],[0.3333333333333333,\"#9c179e\"],[0.4444444444444444,\"#bd3786\"],[0.5555555555555556,\"#d8576b\"],[0.6666666666666666,\"#ed7953\"],[0.7777777777777778,\"#fb9f3a\"],[0.8888888888888888,\"#fdca26\"],[1.0,\"#f0f921\"]]}],\"choropleth\":[{\"type\":\"choropleth\",\"colorbar\":{\"outlinewidth\":0,\"ticks\":\"\"}}],\"histogram2d\":[{\"type\":\"histogram2d\",\"colorbar\":{\"outlinewidth\":0,\"ticks\":\"\"},\"colorscale\":[[0.0,\"#0d0887\"],[0.1111111111111111,\"#46039f\"],[0.2222222222222222,\"#7201a8\"],[0.3333333333333333,\"#9c179e\"],[0.4444444444444444,\"#bd3786\"],[0.5555555555555556,\"#d8576b\"],[0.6666666666666666,\"#ed7953\"],[0.7777777777777778,\"#fb9f3a\"],[0.8888888888888888,\"#fdca26\"],[1.0,\"#f0f921\"]]}],\"heatmap\":[{\"type\":\"heatmap\",\"colorbar\":{\"outlinewidth\":0,\"ticks\":\"\"},\"colorscale\":[[0.0,\"#0d0887\"],[0.1111111111111111,\"#46039f\"],[0.2222222222222222,\"#7201a8\"],[0.3333333333333333,\"#9c179e\"],[0.4444444444444444,\"#bd3786\"],[0.5555555555555556,\"#d8576b\"],[0.6666666666666666,\"#ed7953\"],[0.7777777777777778,\"#fb9f3a\"],[0.8888888888888888,\"#fdca26\"],[1.0,\"#f0f921\"]]}],\"heatmapgl\":[{\"type\":\"heatmapgl\",\"colorbar\":{\"outlinewidth\":0,\"ticks\":\"\"},\"colorscale\":[[0.0,\"#0d0887\"],[0.1111111111111111,\"#46039f\"],[0.2222222222222222,\"#7201a8\"],[0.3333333333333333,\"#9c179e\"],[0.4444444444444444,\"#bd3786\"],[0.5555555555555556,\"#d8576b\"],[0.6666666666666666,\"#ed7953\"],[0.7777777777777778,\"#fb9f3a\"],[0.8888888888888888,\"#fdca26\"],[1.0,\"#f0f921\"]]}],\"contourcarpet\":[{\"type\":\"contourcarpet\",\"colorbar\":{\"outlinewidth\":0,\"ticks\":\"\"}}],\"contour\":[{\"type\":\"contour\",\"colorbar\":{\"outlinewidth\":0,\"ticks\":\"\"},\"colorscale\":[[0.0,\"#0d0887\"],[0.1111111111111111,\"#46039f\"],[0.2222222222222222,\"#7201a8\"],[0.3333333333333333,\"#9c179e\"],[0.4444444444444444,\"#bd3786\"],[0.5555555555555556,\"#d8576b\"],[0.6666666666666666,\"#ed7953\"],[0.7777777777777778,\"#fb9f3a\"],[0.8888888888888888,\"#fdca26\"],[1.0,\"#f0f921\"]]}],\"surface\":[{\"type\":\"surface\",\"colorbar\":{\"outlinewidth\":0,\"ticks\":\"\"},\"colorscale\":[[0.0,\"#0d0887\"],[0.1111111111111111,\"#46039f\"],[0.2222222222222222,\"#7201a8\"],[0.3333333333333333,\"#9c179e\"],[0.4444444444444444,\"#bd3786\"],[0.5555555555555556,\"#d8576b\"],[0.6666666666666666,\"#ed7953\"],[0.7777777777777778,\"#fb9f3a\"],[0.8888888888888888,\"#fdca26\"],[1.0,\"#f0f921\"]]}],\"mesh3d\":[{\"type\":\"mesh3d\",\"colorbar\":{\"outlinewidth\":0,\"ticks\":\"\"}}],\"scatter\":[{\"fillpattern\":{\"fillmode\":\"overlay\",\"size\":10,\"solidity\":0.2},\"type\":\"scatter\"}],\"parcoords\":[{\"type\":\"parcoords\",\"line\":{\"colorbar\":{\"outlinewidth\":0,\"ticks\":\"\"}}}],\"scatterpolargl\":[{\"type\":\"scatterpolargl\",\"marker\":{\"colorbar\":{\"outlinewidth\":0,\"ticks\":\"\"}}}],\"bar\":[{\"error_x\":{\"color\":\"#2a3f5f\"},\"error_y\":{\"color\":\"#2a3f5f\"},\"marker\":{\"line\":{\"color\":\"#E5ECF6\",\"width\":0.5},\"pattern\":{\"fillmode\":\"overlay\",\"size\":10,\"solidity\":0.2}},\"type\":\"bar\"}],\"scattergeo\":[{\"type\":\"scattergeo\",\"marker\":{\"colorbar\":{\"outlinewidth\":0,\"ticks\":\"\"}}}],\"scatterpolar\":[{\"type\":\"scatterpolar\",\"marker\":{\"colorbar\":{\"outlinewidth\":0,\"ticks\":\"\"}}}],\"histogram\":[{\"marker\":{\"pattern\":{\"fillmode\":\"overlay\",\"size\":10,\"solidity\":0.2}},\"type\":\"histogram\"}],\"scattergl\":[{\"type\":\"scattergl\",\"marker\":{\"colorbar\":{\"outlinewidth\":0,\"ticks\":\"\"}}}],\"scatter3d\":[{\"type\":\"scatter3d\",\"line\":{\"colorbar\":{\"outlinewidth\":0,\"ticks\":\"\"}},\"marker\":{\"colorbar\":{\"outlinewidth\":0,\"ticks\":\"\"}}}],\"scattermapbox\":[{\"type\":\"scattermapbox\",\"marker\":{\"colorbar\":{\"outlinewidth\":0,\"ticks\":\"\"}}}],\"scatterternary\":[{\"type\":\"scatterternary\",\"marker\":{\"colorbar\":{\"outlinewidth\":0,\"ticks\":\"\"}}}],\"scattercarpet\":[{\"type\":\"scattercarpet\",\"marker\":{\"colorbar\":{\"outlinewidth\":0,\"ticks\":\"\"}}}],\"carpet\":[{\"aaxis\":{\"endlinecolor\":\"#2a3f5f\",\"gridcolor\":\"white\",\"linecolor\":\"white\",\"minorgridcolor\":\"white\",\"startlinecolor\":\"#2a3f5f\"},\"baxis\":{\"endlinecolor\":\"#2a3f5f\",\"gridcolor\":\"white\",\"linecolor\":\"white\",\"minorgridcolor\":\"white\",\"startlinecolor\":\"#2a3f5f\"},\"type\":\"carpet\"}],\"table\":[{\"cells\":{\"fill\":{\"color\":\"#EBF0F8\"},\"line\":{\"color\":\"white\"}},\"header\":{\"fill\":{\"color\":\"#C8D4E3\"},\"line\":{\"color\":\"white\"}},\"type\":\"table\"}],\"barpolar\":[{\"marker\":{\"line\":{\"color\":\"#E5ECF6\",\"width\":0.5},\"pattern\":{\"fillmode\":\"overlay\",\"size\":10,\"solidity\":0.2}},\"type\":\"barpolar\"}],\"pie\":[{\"automargin\":true,\"type\":\"pie\"}]},\"layout\":{\"autotypenumbers\":\"strict\",\"colorway\":[\"#636efa\",\"#EF553B\",\"#00cc96\",\"#ab63fa\",\"#FFA15A\",\"#19d3f3\",\"#FF6692\",\"#B6E880\",\"#FF97FF\",\"#FECB52\"],\"font\":{\"color\":\"#2a3f5f\"},\"hovermode\":\"closest\",\"hoverlabel\":{\"align\":\"left\"},\"paper_bgcolor\":\"white\",\"plot_bgcolor\":\"#E5ECF6\",\"polar\":{\"bgcolor\":\"#E5ECF6\",\"angularaxis\":{\"gridcolor\":\"white\",\"linecolor\":\"white\",\"ticks\":\"\"},\"radialaxis\":{\"gridcolor\":\"white\",\"linecolor\":\"white\",\"ticks\":\"\"}},\"ternary\":{\"bgcolor\":\"#E5ECF6\",\"aaxis\":{\"gridcolor\":\"white\",\"linecolor\":\"white\",\"ticks\":\"\"},\"baxis\":{\"gridcolor\":\"white\",\"linecolor\":\"white\",\"ticks\":\"\"},\"caxis\":{\"gridcolor\":\"white\",\"linecolor\":\"white\",\"ticks\":\"\"}},\"coloraxis\":{\"colorbar\":{\"outlinewidth\":0,\"ticks\":\"\"}},\"colorscale\":{\"sequential\":[[0.0,\"#0d0887\"],[0.1111111111111111,\"#46039f\"],[0.2222222222222222,\"#7201a8\"],[0.3333333333333333,\"#9c179e\"],[0.4444444444444444,\"#bd3786\"],[0.5555555555555556,\"#d8576b\"],[0.6666666666666666,\"#ed7953\"],[0.7777777777777778,\"#fb9f3a\"],[0.8888888888888888,\"#fdca26\"],[1.0,\"#f0f921\"]],\"sequentialminus\":[[0.0,\"#0d0887\"],[0.1111111111111111,\"#46039f\"],[0.2222222222222222,\"#7201a8\"],[0.3333333333333333,\"#9c179e\"],[0.4444444444444444,\"#bd3786\"],[0.5555555555555556,\"#d8576b\"],[0.6666666666666666,\"#ed7953\"],[0.7777777777777778,\"#fb9f3a\"],[0.8888888888888888,\"#fdca26\"],[1.0,\"#f0f921\"]],\"diverging\":[[0,\"#8e0152\"],[0.1,\"#c51b7d\"],[0.2,\"#de77ae\"],[0.3,\"#f1b6da\"],[0.4,\"#fde0ef\"],[0.5,\"#f7f7f7\"],[0.6,\"#e6f5d0\"],[0.7,\"#b8e186\"],[0.8,\"#7fbc41\"],[0.9,\"#4d9221\"],[1,\"#276419\"]]},\"xaxis\":{\"gridcolor\":\"white\",\"linecolor\":\"white\",\"ticks\":\"\",\"title\":{\"standoff\":15},\"zerolinecolor\":\"white\",\"automargin\":true,\"zerolinewidth\":2},\"yaxis\":{\"gridcolor\":\"white\",\"linecolor\":\"white\",\"ticks\":\"\",\"title\":{\"standoff\":15},\"zerolinecolor\":\"white\",\"automargin\":true,\"zerolinewidth\":2},\"scene\":{\"xaxis\":{\"backgroundcolor\":\"#E5ECF6\",\"gridcolor\":\"white\",\"linecolor\":\"white\",\"showbackground\":true,\"ticks\":\"\",\"zerolinecolor\":\"white\",\"gridwidth\":2},\"yaxis\":{\"backgroundcolor\":\"#E5ECF6\",\"gridcolor\":\"white\",\"linecolor\":\"white\",\"showbackground\":true,\"ticks\":\"\",\"zerolinecolor\":\"white\",\"gridwidth\":2},\"zaxis\":{\"backgroundcolor\":\"#E5ECF6\",\"gridcolor\":\"white\",\"linecolor\":\"white\",\"showbackground\":true,\"ticks\":\"\",\"zerolinecolor\":\"white\",\"gridwidth\":2}},\"shapedefaults\":{\"line\":{\"color\":\"#2a3f5f\"}},\"annotationdefaults\":{\"arrowcolor\":\"#2a3f5f\",\"arrowhead\":0,\"arrowwidth\":1},\"geo\":{\"bgcolor\":\"white\",\"landcolor\":\"#E5ECF6\",\"subunitcolor\":\"white\",\"showland\":true,\"showlakes\":true,\"lakecolor\":\"white\"},\"title\":{\"x\":0.05},\"mapbox\":{\"style\":\"light\"}}},\"legend\":{\"tracegroupgap\":0},\"title\":{\"text\":\"Distribution of Service Types Across Categories\",\"y\":0.94,\"x\":0.5,\"xanchor\":\"center\",\"yanchor\":\"top\"},\"margin\":{\"t\":50,\"l\":25,\"r\":25,\"b\":25}},                        {\"responsive\": true}                    ).then(function(){\n",
              "                            \n",
              "var gd = document.getElementById('d72ac1b7-962e-4197-a345-7c5b41d1bb42');\n",
              "var x = new MutationObserver(function (mutations, observer) {{\n",
              "        var display = window.getComputedStyle(gd).display;\n",
              "        if (!display || display === 'none') {{\n",
              "            console.log([gd, 'removed!']);\n",
              "            Plotly.purge(gd);\n",
              "            observer.disconnect();\n",
              "        }}\n",
              "}});\n",
              "\n",
              "// Listen for the removal of the full notebook cells\n",
              "var notebookContainer = gd.closest('#notebook-container');\n",
              "if (notebookContainer) {{\n",
              "    x.observe(notebookContainer, {childList: true});\n",
              "}}\n",
              "\n",
              "// Listen for the clearing of the current output cell\n",
              "var outputEl = gd.closest('.output');\n",
              "if (outputEl) {{\n",
              "    x.observe(outputEl, {childList: true});\n",
              "}}\n",
              "\n",
              "                        })                };                            </script>        </div>\n",
              "</body>\n",
              "</html>"
            ]
          },
          "metadata": {}
        }
      ]
    },
    {
      "cell_type": "markdown",
      "source": [
        "*The treemap provides a revealing snapshot of service demand distribution across various categories. Notably, requests for parking infringement reviews dominate the 'General' category, standing out as the most high-demand service across the board. This significant volume suggests a potential area for policy review or enhanced enforcement measures, as it may reflect widespread parking violations.*\n",
        "\n",
        "*Graffiti removal emerges as the second most sought-after service, highlighting the need for resource allocation to manage this issue effectively. The prominence of these two service types may necessitate a reassessment of current policies and initiatives to address the underlying causes of these frequent requests.*\n",
        "\n",
        "*On the other end of the spectrum, 'Asset maintenance' appears to attract the fewest requests, indicating a lower relative demand or, possibly, higher efficiency in addressing these issues. In contrast, the 'Waste, Street Cleaning, and Litter' category, along with 'General' services, show a higher incidence of requests. This pattern points to waste management and general municipal services as significant areas of public concern. Such insights are invaluable for city planners and service coordinators, offering a data-driven basis for budgeting and staffing decisions to improve services that residents frequently utilize.*"
      ],
      "metadata": {
        "id": "Pqr9IfxUiHcc"
      }
    },
    {
      "cell_type": "markdown",
      "source": [
        "### Stacked area chart"
      ],
      "metadata": {
        "id": "MfIGKcnU8VD7"
      }
    },
    {
      "cell_type": "code",
      "source": [
        "# create a stacked area chart\n",
        "fig_stackedarea = px.area(mth_sum_category, x = 'date', y = 'total_cases', color = 'category')\n",
        "\n",
        "fig_stackedarea.update_layout(\n",
        "    margin = dict(t = 50, l = 25, r = 25, b = 25),\n",
        "    title = {'text': \"Cumulative Count of Service Requests Over Time by Category\",\n",
        "             'y': 0.95,\n",
        "             'x': 0.44,\n",
        "             'xanchor': 'center',\n",
        "             'yanchor': 'top'\n",
        "             })\n",
        "\n",
        "# rename y and x axis label\n",
        "fig_stackedarea.update_layout(yaxis_title = 'Sum of Service Requests Across All Categories', xaxis_title = 'Date')\n",
        "\n",
        "# show figure\n",
        "fig_stackedarea.show( )\n"
      ],
      "metadata": {
        "id": "soVXCBs5akeX",
        "colab": {
          "base_uri": "https://localhost:8080/",
          "height": 542
        },
        "outputId": "0dd02ea1-3c48-45c0-baad-1ab5c59feeb0"
      },
      "execution_count": 86,
      "outputs": [
        {
          "output_type": "display_data",
          "data": {
            "text/html": [
              "<html>\n",
              "<head><meta charset=\"utf-8\" /></head>\n",
              "<body>\n",
              "    <div>            <script src=\"https://cdnjs.cloudflare.com/ajax/libs/mathjax/2.7.5/MathJax.js?config=TeX-AMS-MML_SVG\"></script><script type=\"text/javascript\">if (window.MathJax && window.MathJax.Hub && window.MathJax.Hub.Config) {window.MathJax.Hub.Config({SVG: {font: \"STIX-Web\"}});}</script>                <script type=\"text/javascript\">window.PlotlyConfig = {MathJaxConfig: 'local'};</script>\n",
              "        <script charset=\"utf-8\" src=\"https://cdn.plot.ly/plotly-2.24.1.min.js\"></script>                <div id=\"4b3bf270-67df-4868-9090-088f94e3dccd\" class=\"plotly-graph-div\" style=\"height:525px; width:100%;\"></div>            <script type=\"text/javascript\">                                    window.PLOTLYENV=window.PLOTLYENV || {};                                    if (document.getElementById(\"4b3bf270-67df-4868-9090-088f94e3dccd\")) {                    Plotly.newPlot(                        \"4b3bf270-67df-4868-9090-088f94e3dccd\",                        [{\"fillpattern\":{\"shape\":\"\"},\"hovertemplate\":\"category=Asset maintenance\\u003cbr\\u003edate=%{x}\\u003cbr\\u003etotal_cases=%{y}\\u003cextra\\u003e\\u003c\\u002fextra\\u003e\",\"legendgroup\":\"Asset maintenance\",\"line\":{\"color\":\"#636efa\"},\"marker\":{\"symbol\":\"circle\"},\"mode\":\"lines\",\"name\":\"Asset maintenance\",\"orientation\":\"v\",\"showlegend\":true,\"stackgroup\":\"1\",\"x\":[\"2014-11\",\"2014-12\",\"2015-01\",\"2015-02\",\"2015-03\",\"2015-04\",\"2015-05\",\"2015-06\",\"2015-07\",\"2015-08\",\"2015-09\",\"2015-10\",\"2015-11\",\"2015-12\",\"2016-01\",\"2016-02\",\"2016-03\",\"2016-04\",\"2016-05\",\"2016-06\",\"2016-07\",\"2016-08\",\"2016-09\",\"2016-10\",\"2016-11\"],\"xaxis\":\"x\",\"y\":[56,53,59,82,95,72,85,83,86,72,85,78,62,63,53,91,81,88,86,69,76,62,70,52,13],\"yaxis\":\"y\",\"type\":\"scatter\"},{\"fillpattern\":{\"shape\":\"\"},\"hovertemplate\":\"category=Graffiti\\u003cbr\\u003edate=%{x}\\u003cbr\\u003etotal_cases=%{y}\\u003cextra\\u003e\\u003c\\u002fextra\\u003e\",\"legendgroup\":\"Graffiti\",\"line\":{\"color\":\"#EF553B\"},\"marker\":{\"symbol\":\"circle\"},\"mode\":\"lines\",\"name\":\"Graffiti\",\"orientation\":\"v\",\"showlegend\":true,\"stackgroup\":\"1\",\"x\":[\"2014-11\",\"2014-12\",\"2015-01\",\"2015-02\",\"2015-03\",\"2015-04\",\"2015-05\",\"2015-06\",\"2015-07\",\"2015-08\",\"2015-09\",\"2015-10\",\"2015-11\",\"2015-12\",\"2016-01\",\"2016-02\",\"2016-03\",\"2016-04\",\"2016-05\",\"2016-06\",\"2016-07\",\"2016-08\",\"2016-09\",\"2016-10\",\"2016-11\",\"2018-01\",\"2018-02\",\"2018-03\",\"2018-04\",\"2018-05\",\"2018-06\",\"2018-07\",\"2018-08\",\"2018-09\"],\"xaxis\":\"x\",\"y\":[120,173,196,268,273,247,296,261,420,371,301,393,370,362,413,486,491,655,494,428,500,590,551,456,59,456,511,459,435,472,397,526,497,497],\"yaxis\":\"y\",\"type\":\"scatter\"},{\"fillpattern\":{\"shape\":\"\"},\"hovertemplate\":\"category=Parking\\u003cbr\\u003edate=%{x}\\u003cbr\\u003etotal_cases=%{y}\\u003cextra\\u003e\\u003c\\u002fextra\\u003e\",\"legendgroup\":\"Parking\",\"line\":{\"color\":\"#00cc96\"},\"marker\":{\"symbol\":\"circle\"},\"mode\":\"lines\",\"name\":\"Parking\",\"orientation\":\"v\",\"showlegend\":true,\"stackgroup\":\"1\",\"x\":[\"2014-11\",\"2014-12\",\"2015-01\",\"2015-02\",\"2015-03\",\"2015-04\",\"2015-05\",\"2015-06\",\"2015-07\",\"2015-08\",\"2015-09\",\"2015-10\",\"2015-11\",\"2015-12\",\"2016-01\",\"2016-02\",\"2016-03\",\"2016-04\",\"2016-05\",\"2016-06\",\"2016-07\",\"2016-08\",\"2016-09\",\"2016-10\",\"2016-11\",\"2018-01\",\"2018-02\",\"2018-03\",\"2018-04\",\"2018-05\",\"2018-06\",\"2018-07\",\"2018-08\",\"2018-09\"],\"xaxis\":\"x\",\"y\":[57,73,76,85,92,109,77,88,97,102,102,86,88,93,89,92,104,101,107,90,96,103,63,86,11,915,1068,1242,1127,1228,980,1065,1229,1046],\"yaxis\":\"y\",\"type\":\"scatter\"},{\"fillpattern\":{\"shape\":\"\"},\"hovertemplate\":\"category=Parks and Trees\\u003cbr\\u003edate=%{x}\\u003cbr\\u003etotal_cases=%{y}\\u003cextra\\u003e\\u003c\\u002fextra\\u003e\",\"legendgroup\":\"Parks and Trees\",\"line\":{\"color\":\"#ab63fa\"},\"marker\":{\"symbol\":\"circle\"},\"mode\":\"lines\",\"name\":\"Parks and Trees\",\"orientation\":\"v\",\"showlegend\":true,\"stackgroup\":\"1\",\"x\":[\"2014-11\",\"2014-12\",\"2015-01\",\"2015-02\",\"2015-03\",\"2015-04\",\"2015-05\",\"2015-06\",\"2015-07\",\"2015-08\",\"2015-09\",\"2015-10\",\"2015-11\",\"2015-12\",\"2016-01\",\"2016-02\",\"2016-03\",\"2016-04\",\"2016-05\",\"2016-06\",\"2016-07\",\"2016-08\",\"2016-09\",\"2016-10\",\"2016-11\",\"2018-01\",\"2018-02\",\"2018-03\",\"2018-04\",\"2018-05\",\"2018-06\",\"2018-07\",\"2018-08\",\"2018-09\"],\"xaxis\":\"x\",\"y\":[234,369,401,424,427,294,336,286,354,250,268,334,361,376,371,373,346,275,264,209,216,216,188,301,63,519,595,492,457,411,295,400,340,327],\"yaxis\":\"y\",\"type\":\"scatter\"},{\"fillpattern\":{\"shape\":\"\"},\"hovertemplate\":\"category=Roads and Traffic\\u003cbr\\u003edate=%{x}\\u003cbr\\u003etotal_cases=%{y}\\u003cextra\\u003e\\u003c\\u002fextra\\u003e\",\"legendgroup\":\"Roads and Traffic\",\"line\":{\"color\":\"#FFA15A\"},\"marker\":{\"symbol\":\"circle\"},\"mode\":\"lines\",\"name\":\"Roads and Traffic\",\"orientation\":\"v\",\"showlegend\":true,\"stackgroup\":\"1\",\"x\":[\"2014-11\",\"2014-12\",\"2015-01\",\"2015-02\",\"2015-03\",\"2015-04\",\"2015-05\",\"2015-06\",\"2015-07\",\"2015-08\",\"2015-09\",\"2015-10\",\"2015-11\",\"2015-12\",\"2016-01\",\"2016-02\",\"2016-03\",\"2016-04\",\"2016-05\",\"2016-06\",\"2016-07\",\"2016-08\",\"2016-09\",\"2016-10\",\"2016-11\"],\"xaxis\":\"x\",\"y\":[124,197,185,232,212,203,225,203,172,200,225,206,228,189,191,256,254,225,230,204,231,253,249,293,45],\"yaxis\":\"y\",\"type\":\"scatter\"},{\"fillpattern\":{\"shape\":\"\"},\"hovertemplate\":\"category=Waste, Street Cleaning and Litter\\u003cbr\\u003edate=%{x}\\u003cbr\\u003etotal_cases=%{y}\\u003cextra\\u003e\\u003c\\u002fextra\\u003e\",\"legendgroup\":\"Waste, Street Cleaning and Litter\",\"line\":{\"color\":\"#19d3f3\"},\"marker\":{\"symbol\":\"circle\"},\"mode\":\"lines\",\"name\":\"Waste, Street Cleaning and Litter\",\"orientation\":\"v\",\"showlegend\":true,\"stackgroup\":\"1\",\"x\":[\"2014-11\",\"2014-12\",\"2015-01\",\"2015-02\",\"2015-03\",\"2015-04\",\"2015-05\",\"2015-06\",\"2015-07\",\"2015-08\",\"2015-09\",\"2015-10\",\"2015-11\",\"2015-12\",\"2016-01\",\"2016-02\",\"2016-03\",\"2016-04\",\"2016-05\",\"2016-06\",\"2016-07\",\"2016-08\",\"2016-09\",\"2016-10\",\"2016-11\",\"2018-01\",\"2018-02\",\"2018-03\",\"2018-04\",\"2018-05\",\"2018-06\",\"2018-07\",\"2018-08\",\"2018-09\"],\"xaxis\":\"x\",\"y\":[565,735,786,861,842,735,648,679,770,742,716,810,873,852,955,1010,955,960,1092,1037,894,1072,1006,812,191,423,453,403,368,371,344,318,325,630],\"yaxis\":\"y\",\"type\":\"scatter\"},{\"fillpattern\":{\"shape\":\"\"},\"hovertemplate\":\"category=General\\u003cbr\\u003edate=%{x}\\u003cbr\\u003etotal_cases=%{y}\\u003cextra\\u003e\\u003c\\u002fextra\\u003e\",\"legendgroup\":\"General\",\"line\":{\"color\":\"#FF6692\"},\"marker\":{\"symbol\":\"circle\"},\"mode\":\"lines\",\"name\":\"General\",\"orientation\":\"v\",\"showlegend\":true,\"stackgroup\":\"1\",\"x\":[\"2018-01\",\"2018-02\",\"2018-03\",\"2018-04\",\"2018-05\",\"2018-06\",\"2018-07\",\"2018-08\",\"2018-09\"],\"xaxis\":\"x\",\"y\":[2168,2055,2291,2268,2508,2295,2372,2395,2248],\"yaxis\":\"y\",\"type\":\"scatter\"}],                        {\"template\":{\"data\":{\"histogram2dcontour\":[{\"type\":\"histogram2dcontour\",\"colorbar\":{\"outlinewidth\":0,\"ticks\":\"\"},\"colorscale\":[[0.0,\"#0d0887\"],[0.1111111111111111,\"#46039f\"],[0.2222222222222222,\"#7201a8\"],[0.3333333333333333,\"#9c179e\"],[0.4444444444444444,\"#bd3786\"],[0.5555555555555556,\"#d8576b\"],[0.6666666666666666,\"#ed7953\"],[0.7777777777777778,\"#fb9f3a\"],[0.8888888888888888,\"#fdca26\"],[1.0,\"#f0f921\"]]}],\"choropleth\":[{\"type\":\"choropleth\",\"colorbar\":{\"outlinewidth\":0,\"ticks\":\"\"}}],\"histogram2d\":[{\"type\":\"histogram2d\",\"colorbar\":{\"outlinewidth\":0,\"ticks\":\"\"},\"colorscale\":[[0.0,\"#0d0887\"],[0.1111111111111111,\"#46039f\"],[0.2222222222222222,\"#7201a8\"],[0.3333333333333333,\"#9c179e\"],[0.4444444444444444,\"#bd3786\"],[0.5555555555555556,\"#d8576b\"],[0.6666666666666666,\"#ed7953\"],[0.7777777777777778,\"#fb9f3a\"],[0.8888888888888888,\"#fdca26\"],[1.0,\"#f0f921\"]]}],\"heatmap\":[{\"type\":\"heatmap\",\"colorbar\":{\"outlinewidth\":0,\"ticks\":\"\"},\"colorscale\":[[0.0,\"#0d0887\"],[0.1111111111111111,\"#46039f\"],[0.2222222222222222,\"#7201a8\"],[0.3333333333333333,\"#9c179e\"],[0.4444444444444444,\"#bd3786\"],[0.5555555555555556,\"#d8576b\"],[0.6666666666666666,\"#ed7953\"],[0.7777777777777778,\"#fb9f3a\"],[0.8888888888888888,\"#fdca26\"],[1.0,\"#f0f921\"]]}],\"heatmapgl\":[{\"type\":\"heatmapgl\",\"colorbar\":{\"outlinewidth\":0,\"ticks\":\"\"},\"colorscale\":[[0.0,\"#0d0887\"],[0.1111111111111111,\"#46039f\"],[0.2222222222222222,\"#7201a8\"],[0.3333333333333333,\"#9c179e\"],[0.4444444444444444,\"#bd3786\"],[0.5555555555555556,\"#d8576b\"],[0.6666666666666666,\"#ed7953\"],[0.7777777777777778,\"#fb9f3a\"],[0.8888888888888888,\"#fdca26\"],[1.0,\"#f0f921\"]]}],\"contourcarpet\":[{\"type\":\"contourcarpet\",\"colorbar\":{\"outlinewidth\":0,\"ticks\":\"\"}}],\"contour\":[{\"type\":\"contour\",\"colorbar\":{\"outlinewidth\":0,\"ticks\":\"\"},\"colorscale\":[[0.0,\"#0d0887\"],[0.1111111111111111,\"#46039f\"],[0.2222222222222222,\"#7201a8\"],[0.3333333333333333,\"#9c179e\"],[0.4444444444444444,\"#bd3786\"],[0.5555555555555556,\"#d8576b\"],[0.6666666666666666,\"#ed7953\"],[0.7777777777777778,\"#fb9f3a\"],[0.8888888888888888,\"#fdca26\"],[1.0,\"#f0f921\"]]}],\"surface\":[{\"type\":\"surface\",\"colorbar\":{\"outlinewidth\":0,\"ticks\":\"\"},\"colorscale\":[[0.0,\"#0d0887\"],[0.1111111111111111,\"#46039f\"],[0.2222222222222222,\"#7201a8\"],[0.3333333333333333,\"#9c179e\"],[0.4444444444444444,\"#bd3786\"],[0.5555555555555556,\"#d8576b\"],[0.6666666666666666,\"#ed7953\"],[0.7777777777777778,\"#fb9f3a\"],[0.8888888888888888,\"#fdca26\"],[1.0,\"#f0f921\"]]}],\"mesh3d\":[{\"type\":\"mesh3d\",\"colorbar\":{\"outlinewidth\":0,\"ticks\":\"\"}}],\"scatter\":[{\"fillpattern\":{\"fillmode\":\"overlay\",\"size\":10,\"solidity\":0.2},\"type\":\"scatter\"}],\"parcoords\":[{\"type\":\"parcoords\",\"line\":{\"colorbar\":{\"outlinewidth\":0,\"ticks\":\"\"}}}],\"scatterpolargl\":[{\"type\":\"scatterpolargl\",\"marker\":{\"colorbar\":{\"outlinewidth\":0,\"ticks\":\"\"}}}],\"bar\":[{\"error_x\":{\"color\":\"#2a3f5f\"},\"error_y\":{\"color\":\"#2a3f5f\"},\"marker\":{\"line\":{\"color\":\"#E5ECF6\",\"width\":0.5},\"pattern\":{\"fillmode\":\"overlay\",\"size\":10,\"solidity\":0.2}},\"type\":\"bar\"}],\"scattergeo\":[{\"type\":\"scattergeo\",\"marker\":{\"colorbar\":{\"outlinewidth\":0,\"ticks\":\"\"}}}],\"scatterpolar\":[{\"type\":\"scatterpolar\",\"marker\":{\"colorbar\":{\"outlinewidth\":0,\"ticks\":\"\"}}}],\"histogram\":[{\"marker\":{\"pattern\":{\"fillmode\":\"overlay\",\"size\":10,\"solidity\":0.2}},\"type\":\"histogram\"}],\"scattergl\":[{\"type\":\"scattergl\",\"marker\":{\"colorbar\":{\"outlinewidth\":0,\"ticks\":\"\"}}}],\"scatter3d\":[{\"type\":\"scatter3d\",\"line\":{\"colorbar\":{\"outlinewidth\":0,\"ticks\":\"\"}},\"marker\":{\"colorbar\":{\"outlinewidth\":0,\"ticks\":\"\"}}}],\"scattermapbox\":[{\"type\":\"scattermapbox\",\"marker\":{\"colorbar\":{\"outlinewidth\":0,\"ticks\":\"\"}}}],\"scatterternary\":[{\"type\":\"scatterternary\",\"marker\":{\"colorbar\":{\"outlinewidth\":0,\"ticks\":\"\"}}}],\"scattercarpet\":[{\"type\":\"scattercarpet\",\"marker\":{\"colorbar\":{\"outlinewidth\":0,\"ticks\":\"\"}}}],\"carpet\":[{\"aaxis\":{\"endlinecolor\":\"#2a3f5f\",\"gridcolor\":\"white\",\"linecolor\":\"white\",\"minorgridcolor\":\"white\",\"startlinecolor\":\"#2a3f5f\"},\"baxis\":{\"endlinecolor\":\"#2a3f5f\",\"gridcolor\":\"white\",\"linecolor\":\"white\",\"minorgridcolor\":\"white\",\"startlinecolor\":\"#2a3f5f\"},\"type\":\"carpet\"}],\"table\":[{\"cells\":{\"fill\":{\"color\":\"#EBF0F8\"},\"line\":{\"color\":\"white\"}},\"header\":{\"fill\":{\"color\":\"#C8D4E3\"},\"line\":{\"color\":\"white\"}},\"type\":\"table\"}],\"barpolar\":[{\"marker\":{\"line\":{\"color\":\"#E5ECF6\",\"width\":0.5},\"pattern\":{\"fillmode\":\"overlay\",\"size\":10,\"solidity\":0.2}},\"type\":\"barpolar\"}],\"pie\":[{\"automargin\":true,\"type\":\"pie\"}]},\"layout\":{\"autotypenumbers\":\"strict\",\"colorway\":[\"#636efa\",\"#EF553B\",\"#00cc96\",\"#ab63fa\",\"#FFA15A\",\"#19d3f3\",\"#FF6692\",\"#B6E880\",\"#FF97FF\",\"#FECB52\"],\"font\":{\"color\":\"#2a3f5f\"},\"hovermode\":\"closest\",\"hoverlabel\":{\"align\":\"left\"},\"paper_bgcolor\":\"white\",\"plot_bgcolor\":\"#E5ECF6\",\"polar\":{\"bgcolor\":\"#E5ECF6\",\"angularaxis\":{\"gridcolor\":\"white\",\"linecolor\":\"white\",\"ticks\":\"\"},\"radialaxis\":{\"gridcolor\":\"white\",\"linecolor\":\"white\",\"ticks\":\"\"}},\"ternary\":{\"bgcolor\":\"#E5ECF6\",\"aaxis\":{\"gridcolor\":\"white\",\"linecolor\":\"white\",\"ticks\":\"\"},\"baxis\":{\"gridcolor\":\"white\",\"linecolor\":\"white\",\"ticks\":\"\"},\"caxis\":{\"gridcolor\":\"white\",\"linecolor\":\"white\",\"ticks\":\"\"}},\"coloraxis\":{\"colorbar\":{\"outlinewidth\":0,\"ticks\":\"\"}},\"colorscale\":{\"sequential\":[[0.0,\"#0d0887\"],[0.1111111111111111,\"#46039f\"],[0.2222222222222222,\"#7201a8\"],[0.3333333333333333,\"#9c179e\"],[0.4444444444444444,\"#bd3786\"],[0.5555555555555556,\"#d8576b\"],[0.6666666666666666,\"#ed7953\"],[0.7777777777777778,\"#fb9f3a\"],[0.8888888888888888,\"#fdca26\"],[1.0,\"#f0f921\"]],\"sequentialminus\":[[0.0,\"#0d0887\"],[0.1111111111111111,\"#46039f\"],[0.2222222222222222,\"#7201a8\"],[0.3333333333333333,\"#9c179e\"],[0.4444444444444444,\"#bd3786\"],[0.5555555555555556,\"#d8576b\"],[0.6666666666666666,\"#ed7953\"],[0.7777777777777778,\"#fb9f3a\"],[0.8888888888888888,\"#fdca26\"],[1.0,\"#f0f921\"]],\"diverging\":[[0,\"#8e0152\"],[0.1,\"#c51b7d\"],[0.2,\"#de77ae\"],[0.3,\"#f1b6da\"],[0.4,\"#fde0ef\"],[0.5,\"#f7f7f7\"],[0.6,\"#e6f5d0\"],[0.7,\"#b8e186\"],[0.8,\"#7fbc41\"],[0.9,\"#4d9221\"],[1,\"#276419\"]]},\"xaxis\":{\"gridcolor\":\"white\",\"linecolor\":\"white\",\"ticks\":\"\",\"title\":{\"standoff\":15},\"zerolinecolor\":\"white\",\"automargin\":true,\"zerolinewidth\":2},\"yaxis\":{\"gridcolor\":\"white\",\"linecolor\":\"white\",\"ticks\":\"\",\"title\":{\"standoff\":15},\"zerolinecolor\":\"white\",\"automargin\":true,\"zerolinewidth\":2},\"scene\":{\"xaxis\":{\"backgroundcolor\":\"#E5ECF6\",\"gridcolor\":\"white\",\"linecolor\":\"white\",\"showbackground\":true,\"ticks\":\"\",\"zerolinecolor\":\"white\",\"gridwidth\":2},\"yaxis\":{\"backgroundcolor\":\"#E5ECF6\",\"gridcolor\":\"white\",\"linecolor\":\"white\",\"showbackground\":true,\"ticks\":\"\",\"zerolinecolor\":\"white\",\"gridwidth\":2},\"zaxis\":{\"backgroundcolor\":\"#E5ECF6\",\"gridcolor\":\"white\",\"linecolor\":\"white\",\"showbackground\":true,\"ticks\":\"\",\"zerolinecolor\":\"white\",\"gridwidth\":2}},\"shapedefaults\":{\"line\":{\"color\":\"#2a3f5f\"}},\"annotationdefaults\":{\"arrowcolor\":\"#2a3f5f\",\"arrowhead\":0,\"arrowwidth\":1},\"geo\":{\"bgcolor\":\"white\",\"landcolor\":\"#E5ECF6\",\"subunitcolor\":\"white\",\"showland\":true,\"showlakes\":true,\"lakecolor\":\"white\"},\"title\":{\"x\":0.05},\"mapbox\":{\"style\":\"light\"}}},\"xaxis\":{\"anchor\":\"y\",\"domain\":[0.0,1.0],\"title\":{\"text\":\"Date\"}},\"yaxis\":{\"anchor\":\"x\",\"domain\":[0.0,1.0],\"title\":{\"text\":\"Sum of Service Requests Across All Categories\"}},\"legend\":{\"title\":{\"text\":\"category\"},\"tracegroupgap\":0},\"margin\":{\"t\":50,\"l\":25,\"r\":25,\"b\":25},\"title\":{\"text\":\"Cumulative Count of Service Requests Over Time by Category\",\"y\":0.95,\"x\":0.44,\"xanchor\":\"center\",\"yanchor\":\"top\"}},                        {\"responsive\": true}                    ).then(function(){\n",
              "                            \n",
              "var gd = document.getElementById('4b3bf270-67df-4868-9090-088f94e3dccd');\n",
              "var x = new MutationObserver(function (mutations, observer) {{\n",
              "        var display = window.getComputedStyle(gd).display;\n",
              "        if (!display || display === 'none') {{\n",
              "            console.log([gd, 'removed!']);\n",
              "            Plotly.purge(gd);\n",
              "            observer.disconnect();\n",
              "        }}\n",
              "}});\n",
              "\n",
              "// Listen for the removal of the full notebook cells\n",
              "var notebookContainer = gd.closest('#notebook-container');\n",
              "if (notebookContainer) {{\n",
              "    x.observe(notebookContainer, {childList: true});\n",
              "}}\n",
              "\n",
              "// Listen for the clearing of the current output cell\n",
              "var outputEl = gd.closest('.output');\n",
              "if (outputEl) {{\n",
              "    x.observe(outputEl, {childList: true});\n",
              "}}\n",
              "\n",
              "                        })                };                            </script>        </div>\n",
              "</body>\n",
              "</html>"
            ]
          },
          "metadata": {}
        }
      ]
    },
    {
      "cell_type": "markdown",
      "source": [
        "*The stacked area chart suggests a data recording gap between late 2016 and 2018, as indicated by the service request count dropping to zero. This likely points to an issue in data collection rather than a complete lack of service requests. Following this period, there is a marked resurgence in service requests, with the overall count surpassing 5000 cases from March 2018 onwards. The 'General' category sees an especially sharp increase, accounting for over 2000 requests per month by mid-2018, which may reflect an increased need for these services or a change in how cases are reported. The demand for graffiti removal services appears stable, suggesting a consistent need for this service throughout the time frame. In contrast, the asset maintenance category shows a downward trend, possibly indicating enhanced efficiency in infrastructure upkeep or a shift in service reporting protocols.*"
      ],
      "metadata": {
        "id": "PQrLPLxsnuRm"
      }
    },
    {
      "cell_type": "markdown",
      "source": [
        "### Scatter plot"
      ],
      "metadata": {
        "id": "3maAqOZaBlv8"
      }
    },
    {
      "cell_type": "markdown",
      "source": [
        "Find the relationship between visitor numbers and service requests in the 'Waste, Street Cleaning and Litter' category and visually inspect potential correlations between two quantitative variables using scatter plot."
      ],
      "metadata": {
        "id": "JI2RXVNsDEf6"
      }
    },
    {
      "cell_type": "code",
      "source": [
        "# filter the data\n",
        "cat_waste = df[(df['category'] == 'Waste, Street Cleaning and Litter')]    # & (df['date_completed'].isna())\n",
        "\n",
        "# group 'cat_waste' by year and month and count the number of cases\n",
        "waste_cases_by_month = cat_waste.groupby(['rec_year', 'rec_month']).size().reset_index(name = 'waste_cases')\n",
        "\n",
        "# merge 'sum_contacts' with 'waste_cases_by_month' on year and month\n",
        "waste_cases_by_month = pd.merge(sum_contacts, waste_cases_by_month, left_on = ['year', 'month'], right_on = ['rec_year', 'rec_month'])\n",
        "\n",
        "# drop redunant 'rec_year' and\t'rec_month' columns\n",
        "waste_cases_by_month.drop(['rec_year', 'rec_month'], axis = 1, inplace = True)"
      ],
      "metadata": {
        "id": "aCbhDUClBn15"
      },
      "execution_count": 87,
      "outputs": []
    },
    {
      "cell_type": "code",
      "source": [
        "waste_cases_by_month.head(2)"
      ],
      "metadata": {
        "colab": {
          "base_uri": "https://localhost:8080/",
          "height": 109
        },
        "id": "pwMrfjBEDksv",
        "outputId": "adaf9215-99aa-4a0f-9d41-07cb1673f8c1"
      },
      "execution_count": 88,
      "outputs": [
        {
          "output_type": "execute_result",
          "data": {
            "text/plain": [
              "   year  month  number_of_contacts     date  waste_cases\n",
              "0  2014     11              164042  2014-11          565\n",
              "1  2014     12              193392  2014-12          735"
            ],
            "text/html": [
              "\n",
              "  <div id=\"df-20ea6247-4f64-4b60-8481-1a63bba19c36\" class=\"colab-df-container\">\n",
              "    <div>\n",
              "<style scoped>\n",
              "    .dataframe tbody tr th:only-of-type {\n",
              "        vertical-align: middle;\n",
              "    }\n",
              "\n",
              "    .dataframe tbody tr th {\n",
              "        vertical-align: top;\n",
              "    }\n",
              "\n",
              "    .dataframe thead th {\n",
              "        text-align: right;\n",
              "    }\n",
              "</style>\n",
              "<table border=\"1\" class=\"dataframe\">\n",
              "  <thead>\n",
              "    <tr style=\"text-align: right;\">\n",
              "      <th></th>\n",
              "      <th>year</th>\n",
              "      <th>month</th>\n",
              "      <th>number_of_contacts</th>\n",
              "      <th>date</th>\n",
              "      <th>waste_cases</th>\n",
              "    </tr>\n",
              "  </thead>\n",
              "  <tbody>\n",
              "    <tr>\n",
              "      <th>0</th>\n",
              "      <td>2014</td>\n",
              "      <td>11</td>\n",
              "      <td>164042</td>\n",
              "      <td>2014-11</td>\n",
              "      <td>565</td>\n",
              "    </tr>\n",
              "    <tr>\n",
              "      <th>1</th>\n",
              "      <td>2014</td>\n",
              "      <td>12</td>\n",
              "      <td>193392</td>\n",
              "      <td>2014-12</td>\n",
              "      <td>735</td>\n",
              "    </tr>\n",
              "  </tbody>\n",
              "</table>\n",
              "</div>\n",
              "    <div class=\"colab-df-buttons\">\n",
              "\n",
              "  <div class=\"colab-df-container\">\n",
              "    <button class=\"colab-df-convert\" onclick=\"convertToInteractive('df-20ea6247-4f64-4b60-8481-1a63bba19c36')\"\n",
              "            title=\"Convert this dataframe to an interactive table.\"\n",
              "            style=\"display:none;\">\n",
              "\n",
              "  <svg xmlns=\"http://www.w3.org/2000/svg\" height=\"24px\" viewBox=\"0 -960 960 960\">\n",
              "    <path d=\"M120-120v-720h720v720H120Zm60-500h600v-160H180v160Zm220 220h160v-160H400v160Zm0 220h160v-160H400v160ZM180-400h160v-160H180v160Zm440 0h160v-160H620v160ZM180-180h160v-160H180v160Zm440 0h160v-160H620v160Z\"/>\n",
              "  </svg>\n",
              "    </button>\n",
              "\n",
              "  <style>\n",
              "    .colab-df-container {\n",
              "      display:flex;\n",
              "      gap: 12px;\n",
              "    }\n",
              "\n",
              "    .colab-df-convert {\n",
              "      background-color: #E8F0FE;\n",
              "      border: none;\n",
              "      border-radius: 50%;\n",
              "      cursor: pointer;\n",
              "      display: none;\n",
              "      fill: #1967D2;\n",
              "      height: 32px;\n",
              "      padding: 0 0 0 0;\n",
              "      width: 32px;\n",
              "    }\n",
              "\n",
              "    .colab-df-convert:hover {\n",
              "      background-color: #E2EBFA;\n",
              "      box-shadow: 0px 1px 2px rgba(60, 64, 67, 0.3), 0px 1px 3px 1px rgba(60, 64, 67, 0.15);\n",
              "      fill: #174EA6;\n",
              "    }\n",
              "\n",
              "    .colab-df-buttons div {\n",
              "      margin-bottom: 4px;\n",
              "    }\n",
              "\n",
              "    [theme=dark] .colab-df-convert {\n",
              "      background-color: #3B4455;\n",
              "      fill: #D2E3FC;\n",
              "    }\n",
              "\n",
              "    [theme=dark] .colab-df-convert:hover {\n",
              "      background-color: #434B5C;\n",
              "      box-shadow: 0px 1px 3px 1px rgba(0, 0, 0, 0.15);\n",
              "      filter: drop-shadow(0px 1px 2px rgba(0, 0, 0, 0.3));\n",
              "      fill: #FFFFFF;\n",
              "    }\n",
              "  </style>\n",
              "\n",
              "    <script>\n",
              "      const buttonEl =\n",
              "        document.querySelector('#df-20ea6247-4f64-4b60-8481-1a63bba19c36 button.colab-df-convert');\n",
              "      buttonEl.style.display =\n",
              "        google.colab.kernel.accessAllowed ? 'block' : 'none';\n",
              "\n",
              "      async function convertToInteractive(key) {\n",
              "        const element = document.querySelector('#df-20ea6247-4f64-4b60-8481-1a63bba19c36');\n",
              "        const dataTable =\n",
              "          await google.colab.kernel.invokeFunction('convertToInteractive',\n",
              "                                                    [key], {});\n",
              "        if (!dataTable) return;\n",
              "\n",
              "        const docLinkHtml = 'Like what you see? Visit the ' +\n",
              "          '<a target=\"_blank\" href=https://colab.research.google.com/notebooks/data_table.ipynb>data table notebook</a>'\n",
              "          + ' to learn more about interactive tables.';\n",
              "        element.innerHTML = '';\n",
              "        dataTable['output_type'] = 'display_data';\n",
              "        await google.colab.output.renderOutput(dataTable, element);\n",
              "        const docLink = document.createElement('div');\n",
              "        docLink.innerHTML = docLinkHtml;\n",
              "        element.appendChild(docLink);\n",
              "      }\n",
              "    </script>\n",
              "  </div>\n",
              "\n",
              "\n",
              "<div id=\"df-f924d465-f7d7-47b1-834e-c3f5ad91997c\">\n",
              "  <button class=\"colab-df-quickchart\" onclick=\"quickchart('df-f924d465-f7d7-47b1-834e-c3f5ad91997c')\"\n",
              "            title=\"Suggest charts\"\n",
              "            style=\"display:none;\">\n",
              "\n",
              "<svg xmlns=\"http://www.w3.org/2000/svg\" height=\"24px\"viewBox=\"0 0 24 24\"\n",
              "     width=\"24px\">\n",
              "    <g>\n",
              "        <path d=\"M19 3H5c-1.1 0-2 .9-2 2v14c0 1.1.9 2 2 2h14c1.1 0 2-.9 2-2V5c0-1.1-.9-2-2-2zM9 17H7v-7h2v7zm4 0h-2V7h2v10zm4 0h-2v-4h2v4z\"/>\n",
              "    </g>\n",
              "</svg>\n",
              "  </button>\n",
              "\n",
              "<style>\n",
              "  .colab-df-quickchart {\n",
              "      --bg-color: #E8F0FE;\n",
              "      --fill-color: #1967D2;\n",
              "      --hover-bg-color: #E2EBFA;\n",
              "      --hover-fill-color: #174EA6;\n",
              "      --disabled-fill-color: #AAA;\n",
              "      --disabled-bg-color: #DDD;\n",
              "  }\n",
              "\n",
              "  [theme=dark] .colab-df-quickchart {\n",
              "      --bg-color: #3B4455;\n",
              "      --fill-color: #D2E3FC;\n",
              "      --hover-bg-color: #434B5C;\n",
              "      --hover-fill-color: #FFFFFF;\n",
              "      --disabled-bg-color: #3B4455;\n",
              "      --disabled-fill-color: #666;\n",
              "  }\n",
              "\n",
              "  .colab-df-quickchart {\n",
              "    background-color: var(--bg-color);\n",
              "    border: none;\n",
              "    border-radius: 50%;\n",
              "    cursor: pointer;\n",
              "    display: none;\n",
              "    fill: var(--fill-color);\n",
              "    height: 32px;\n",
              "    padding: 0;\n",
              "    width: 32px;\n",
              "  }\n",
              "\n",
              "  .colab-df-quickchart:hover {\n",
              "    background-color: var(--hover-bg-color);\n",
              "    box-shadow: 0 1px 2px rgba(60, 64, 67, 0.3), 0 1px 3px 1px rgba(60, 64, 67, 0.15);\n",
              "    fill: var(--button-hover-fill-color);\n",
              "  }\n",
              "\n",
              "  .colab-df-quickchart-complete:disabled,\n",
              "  .colab-df-quickchart-complete:disabled:hover {\n",
              "    background-color: var(--disabled-bg-color);\n",
              "    fill: var(--disabled-fill-color);\n",
              "    box-shadow: none;\n",
              "  }\n",
              "\n",
              "  .colab-df-spinner {\n",
              "    border: 2px solid var(--fill-color);\n",
              "    border-color: transparent;\n",
              "    border-bottom-color: var(--fill-color);\n",
              "    animation:\n",
              "      spin 1s steps(1) infinite;\n",
              "  }\n",
              "\n",
              "  @keyframes spin {\n",
              "    0% {\n",
              "      border-color: transparent;\n",
              "      border-bottom-color: var(--fill-color);\n",
              "      border-left-color: var(--fill-color);\n",
              "    }\n",
              "    20% {\n",
              "      border-color: transparent;\n",
              "      border-left-color: var(--fill-color);\n",
              "      border-top-color: var(--fill-color);\n",
              "    }\n",
              "    30% {\n",
              "      border-color: transparent;\n",
              "      border-left-color: var(--fill-color);\n",
              "      border-top-color: var(--fill-color);\n",
              "      border-right-color: var(--fill-color);\n",
              "    }\n",
              "    40% {\n",
              "      border-color: transparent;\n",
              "      border-right-color: var(--fill-color);\n",
              "      border-top-color: var(--fill-color);\n",
              "    }\n",
              "    60% {\n",
              "      border-color: transparent;\n",
              "      border-right-color: var(--fill-color);\n",
              "    }\n",
              "    80% {\n",
              "      border-color: transparent;\n",
              "      border-right-color: var(--fill-color);\n",
              "      border-bottom-color: var(--fill-color);\n",
              "    }\n",
              "    90% {\n",
              "      border-color: transparent;\n",
              "      border-bottom-color: var(--fill-color);\n",
              "    }\n",
              "  }\n",
              "</style>\n",
              "\n",
              "  <script>\n",
              "    async function quickchart(key) {\n",
              "      const quickchartButtonEl =\n",
              "        document.querySelector('#' + key + ' button');\n",
              "      quickchartButtonEl.disabled = true;  // To prevent multiple clicks.\n",
              "      quickchartButtonEl.classList.add('colab-df-spinner');\n",
              "      try {\n",
              "        const charts = await google.colab.kernel.invokeFunction(\n",
              "            'suggestCharts', [key], {});\n",
              "      } catch (error) {\n",
              "        console.error('Error during call to suggestCharts:', error);\n",
              "      }\n",
              "      quickchartButtonEl.classList.remove('colab-df-spinner');\n",
              "      quickchartButtonEl.classList.add('colab-df-quickchart-complete');\n",
              "    }\n",
              "    (() => {\n",
              "      let quickchartButtonEl =\n",
              "        document.querySelector('#df-f924d465-f7d7-47b1-834e-c3f5ad91997c button');\n",
              "      quickchartButtonEl.style.display =\n",
              "        google.colab.kernel.accessAllowed ? 'block' : 'none';\n",
              "    })();\n",
              "  </script>\n",
              "</div>\n",
              "\n",
              "    </div>\n",
              "  </div>\n"
            ],
            "application/vnd.google.colaboratory.intrinsic+json": {
              "type": "dataframe",
              "variable_name": "waste_cases_by_month",
              "summary": "{\n  \"name\": \"waste_cases_by_month\",\n  \"rows\": 34,\n  \"fields\": [\n    {\n      \"column\": \"year\",\n      \"properties\": {\n        \"dtype\": \"number\",\n        \"std\": 1,\n        \"min\": 2014,\n        \"max\": 2018,\n        \"num_unique_values\": 4,\n        \"samples\": [\n          2015,\n          2018,\n          2014\n        ],\n        \"semantic_type\": \"\",\n        \"description\": \"\"\n      }\n    },\n    {\n      \"column\": \"month\",\n      \"properties\": {\n        \"dtype\": \"number\",\n        \"std\": 3,\n        \"min\": 1,\n        \"max\": 12,\n        \"num_unique_values\": 12,\n        \"samples\": [\n          9,\n          8,\n          11\n        ],\n        \"semantic_type\": \"\",\n        \"description\": \"\"\n      }\n    },\n    {\n      \"column\": \"number_of_contacts\",\n      \"properties\": {\n        \"dtype\": \"number\",\n        \"std\": 37832,\n        \"min\": 68762,\n        \"max\": 209366,\n        \"num_unique_values\": 34,\n        \"samples\": [\n          202290,\n          111048,\n          137577\n        ],\n        \"semantic_type\": \"\",\n        \"description\": \"\"\n      }\n    },\n    {\n      \"column\": \"date\",\n      \"properties\": {\n        \"dtype\": \"object\",\n        \"num_unique_values\": 34,\n        \"samples\": [\n          \"2016-02\",\n          \"2016-06\",\n          \"2018-03\"\n        ],\n        \"semantic_type\": \"\",\n        \"description\": \"\"\n      }\n    },\n    {\n      \"column\": \"waste_cases\",\n      \"properties\": {\n        \"dtype\": \"number\",\n        \"std\": 252,\n        \"min\": 191,\n        \"max\": 1092,\n        \"num_unique_values\": 32,\n        \"samples\": [\n          318,\n          960,\n          453\n        ],\n        \"semantic_type\": \"\",\n        \"description\": \"\"\n      }\n    }\n  ]\n}"
            }
          },
          "metadata": {},
          "execution_count": 88
        }
      ]
    },
    {
      "cell_type": "code",
      "source": [
        "# create scatter plot\n",
        "fig_scatter = px.scatter(waste_cases_by_month, x = 'number_of_contacts', y = 'waste_cases',\n",
        "                         labels = {'number_of_contacts': 'Number of Visitors',\n",
        "                                   'waste_cases': 'Waste Service Requests'},\n",
        "                         title = 'Relationship Between Visitor Numbers and Waste Service Requests')\n",
        "\n",
        "fig_scatter.show( )\n"
      ],
      "metadata": {
        "colab": {
          "base_uri": "https://localhost:8080/",
          "height": 542
        },
        "id": "HSVpZAeyMP5b",
        "outputId": "58b9c8be-4250-41c4-f7c1-76a9938af8d0"
      },
      "execution_count": 89,
      "outputs": [
        {
          "output_type": "display_data",
          "data": {
            "text/html": [
              "<html>\n",
              "<head><meta charset=\"utf-8\" /></head>\n",
              "<body>\n",
              "    <div>            <script src=\"https://cdnjs.cloudflare.com/ajax/libs/mathjax/2.7.5/MathJax.js?config=TeX-AMS-MML_SVG\"></script><script type=\"text/javascript\">if (window.MathJax && window.MathJax.Hub && window.MathJax.Hub.Config) {window.MathJax.Hub.Config({SVG: {font: \"STIX-Web\"}});}</script>                <script type=\"text/javascript\">window.PlotlyConfig = {MathJaxConfig: 'local'};</script>\n",
              "        <script charset=\"utf-8\" src=\"https://cdn.plot.ly/plotly-2.24.1.min.js\"></script>                <div id=\"fdf40687-4d29-43dc-a452-118ab2850f64\" class=\"plotly-graph-div\" style=\"height:525px; width:100%;\"></div>            <script type=\"text/javascript\">                                    window.PLOTLYENV=window.PLOTLYENV || {};                                    if (document.getElementById(\"fdf40687-4d29-43dc-a452-118ab2850f64\")) {                    Plotly.newPlot(                        \"fdf40687-4d29-43dc-a452-118ab2850f64\",                        [{\"hovertemplate\":\"Number of Visitors=%{x}\\u003cbr\\u003eWaste Service Requests=%{y}\\u003cextra\\u003e\\u003c\\u002fextra\\u003e\",\"legendgroup\":\"\",\"marker\":{\"color\":\"#636efa\",\"symbol\":\"circle\"},\"mode\":\"markers\",\"name\":\"\",\"orientation\":\"v\",\"showlegend\":false,\"x\":[164042,193392,206044,194113,205147,166348,126563,130338,170756,145456,146611,160415,185395,183543,209366,202290,180710,149826,118435,111048,153928,116621,134658,162973,163540,153271,141036,137577,118425,88165,84951,105188,90307,68762],\"xaxis\":\"x\",\"y\":[565,735,786,861,842,735,648,679,770,742,716,810,873,852,955,1010,955,960,1092,1037,894,1072,1006,812,191,423,453,403,368,371,344,318,325,630],\"yaxis\":\"y\",\"type\":\"scatter\"}],                        {\"template\":{\"data\":{\"histogram2dcontour\":[{\"type\":\"histogram2dcontour\",\"colorbar\":{\"outlinewidth\":0,\"ticks\":\"\"},\"colorscale\":[[0.0,\"#0d0887\"],[0.1111111111111111,\"#46039f\"],[0.2222222222222222,\"#7201a8\"],[0.3333333333333333,\"#9c179e\"],[0.4444444444444444,\"#bd3786\"],[0.5555555555555556,\"#d8576b\"],[0.6666666666666666,\"#ed7953\"],[0.7777777777777778,\"#fb9f3a\"],[0.8888888888888888,\"#fdca26\"],[1.0,\"#f0f921\"]]}],\"choropleth\":[{\"type\":\"choropleth\",\"colorbar\":{\"outlinewidth\":0,\"ticks\":\"\"}}],\"histogram2d\":[{\"type\":\"histogram2d\",\"colorbar\":{\"outlinewidth\":0,\"ticks\":\"\"},\"colorscale\":[[0.0,\"#0d0887\"],[0.1111111111111111,\"#46039f\"],[0.2222222222222222,\"#7201a8\"],[0.3333333333333333,\"#9c179e\"],[0.4444444444444444,\"#bd3786\"],[0.5555555555555556,\"#d8576b\"],[0.6666666666666666,\"#ed7953\"],[0.7777777777777778,\"#fb9f3a\"],[0.8888888888888888,\"#fdca26\"],[1.0,\"#f0f921\"]]}],\"heatmap\":[{\"type\":\"heatmap\",\"colorbar\":{\"outlinewidth\":0,\"ticks\":\"\"},\"colorscale\":[[0.0,\"#0d0887\"],[0.1111111111111111,\"#46039f\"],[0.2222222222222222,\"#7201a8\"],[0.3333333333333333,\"#9c179e\"],[0.4444444444444444,\"#bd3786\"],[0.5555555555555556,\"#d8576b\"],[0.6666666666666666,\"#ed7953\"],[0.7777777777777778,\"#fb9f3a\"],[0.8888888888888888,\"#fdca26\"],[1.0,\"#f0f921\"]]}],\"heatmapgl\":[{\"type\":\"heatmapgl\",\"colorbar\":{\"outlinewidth\":0,\"ticks\":\"\"},\"colorscale\":[[0.0,\"#0d0887\"],[0.1111111111111111,\"#46039f\"],[0.2222222222222222,\"#7201a8\"],[0.3333333333333333,\"#9c179e\"],[0.4444444444444444,\"#bd3786\"],[0.5555555555555556,\"#d8576b\"],[0.6666666666666666,\"#ed7953\"],[0.7777777777777778,\"#fb9f3a\"],[0.8888888888888888,\"#fdca26\"],[1.0,\"#f0f921\"]]}],\"contourcarpet\":[{\"type\":\"contourcarpet\",\"colorbar\":{\"outlinewidth\":0,\"ticks\":\"\"}}],\"contour\":[{\"type\":\"contour\",\"colorbar\":{\"outlinewidth\":0,\"ticks\":\"\"},\"colorscale\":[[0.0,\"#0d0887\"],[0.1111111111111111,\"#46039f\"],[0.2222222222222222,\"#7201a8\"],[0.3333333333333333,\"#9c179e\"],[0.4444444444444444,\"#bd3786\"],[0.5555555555555556,\"#d8576b\"],[0.6666666666666666,\"#ed7953\"],[0.7777777777777778,\"#fb9f3a\"],[0.8888888888888888,\"#fdca26\"],[1.0,\"#f0f921\"]]}],\"surface\":[{\"type\":\"surface\",\"colorbar\":{\"outlinewidth\":0,\"ticks\":\"\"},\"colorscale\":[[0.0,\"#0d0887\"],[0.1111111111111111,\"#46039f\"],[0.2222222222222222,\"#7201a8\"],[0.3333333333333333,\"#9c179e\"],[0.4444444444444444,\"#bd3786\"],[0.5555555555555556,\"#d8576b\"],[0.6666666666666666,\"#ed7953\"],[0.7777777777777778,\"#fb9f3a\"],[0.8888888888888888,\"#fdca26\"],[1.0,\"#f0f921\"]]}],\"mesh3d\":[{\"type\":\"mesh3d\",\"colorbar\":{\"outlinewidth\":0,\"ticks\":\"\"}}],\"scatter\":[{\"fillpattern\":{\"fillmode\":\"overlay\",\"size\":10,\"solidity\":0.2},\"type\":\"scatter\"}],\"parcoords\":[{\"type\":\"parcoords\",\"line\":{\"colorbar\":{\"outlinewidth\":0,\"ticks\":\"\"}}}],\"scatterpolargl\":[{\"type\":\"scatterpolargl\",\"marker\":{\"colorbar\":{\"outlinewidth\":0,\"ticks\":\"\"}}}],\"bar\":[{\"error_x\":{\"color\":\"#2a3f5f\"},\"error_y\":{\"color\":\"#2a3f5f\"},\"marker\":{\"line\":{\"color\":\"#E5ECF6\",\"width\":0.5},\"pattern\":{\"fillmode\":\"overlay\",\"size\":10,\"solidity\":0.2}},\"type\":\"bar\"}],\"scattergeo\":[{\"type\":\"scattergeo\",\"marker\":{\"colorbar\":{\"outlinewidth\":0,\"ticks\":\"\"}}}],\"scatterpolar\":[{\"type\":\"scatterpolar\",\"marker\":{\"colorbar\":{\"outlinewidth\":0,\"ticks\":\"\"}}}],\"histogram\":[{\"marker\":{\"pattern\":{\"fillmode\":\"overlay\",\"size\":10,\"solidity\":0.2}},\"type\":\"histogram\"}],\"scattergl\":[{\"type\":\"scattergl\",\"marker\":{\"colorbar\":{\"outlinewidth\":0,\"ticks\":\"\"}}}],\"scatter3d\":[{\"type\":\"scatter3d\",\"line\":{\"colorbar\":{\"outlinewidth\":0,\"ticks\":\"\"}},\"marker\":{\"colorbar\":{\"outlinewidth\":0,\"ticks\":\"\"}}}],\"scattermapbox\":[{\"type\":\"scattermapbox\",\"marker\":{\"colorbar\":{\"outlinewidth\":0,\"ticks\":\"\"}}}],\"scatterternary\":[{\"type\":\"scatterternary\",\"marker\":{\"colorbar\":{\"outlinewidth\":0,\"ticks\":\"\"}}}],\"scattercarpet\":[{\"type\":\"scattercarpet\",\"marker\":{\"colorbar\":{\"outlinewidth\":0,\"ticks\":\"\"}}}],\"carpet\":[{\"aaxis\":{\"endlinecolor\":\"#2a3f5f\",\"gridcolor\":\"white\",\"linecolor\":\"white\",\"minorgridcolor\":\"white\",\"startlinecolor\":\"#2a3f5f\"},\"baxis\":{\"endlinecolor\":\"#2a3f5f\",\"gridcolor\":\"white\",\"linecolor\":\"white\",\"minorgridcolor\":\"white\",\"startlinecolor\":\"#2a3f5f\"},\"type\":\"carpet\"}],\"table\":[{\"cells\":{\"fill\":{\"color\":\"#EBF0F8\"},\"line\":{\"color\":\"white\"}},\"header\":{\"fill\":{\"color\":\"#C8D4E3\"},\"line\":{\"color\":\"white\"}},\"type\":\"table\"}],\"barpolar\":[{\"marker\":{\"line\":{\"color\":\"#E5ECF6\",\"width\":0.5},\"pattern\":{\"fillmode\":\"overlay\",\"size\":10,\"solidity\":0.2}},\"type\":\"barpolar\"}],\"pie\":[{\"automargin\":true,\"type\":\"pie\"}]},\"layout\":{\"autotypenumbers\":\"strict\",\"colorway\":[\"#636efa\",\"#EF553B\",\"#00cc96\",\"#ab63fa\",\"#FFA15A\",\"#19d3f3\",\"#FF6692\",\"#B6E880\",\"#FF97FF\",\"#FECB52\"],\"font\":{\"color\":\"#2a3f5f\"},\"hovermode\":\"closest\",\"hoverlabel\":{\"align\":\"left\"},\"paper_bgcolor\":\"white\",\"plot_bgcolor\":\"#E5ECF6\",\"polar\":{\"bgcolor\":\"#E5ECF6\",\"angularaxis\":{\"gridcolor\":\"white\",\"linecolor\":\"white\",\"ticks\":\"\"},\"radialaxis\":{\"gridcolor\":\"white\",\"linecolor\":\"white\",\"ticks\":\"\"}},\"ternary\":{\"bgcolor\":\"#E5ECF6\",\"aaxis\":{\"gridcolor\":\"white\",\"linecolor\":\"white\",\"ticks\":\"\"},\"baxis\":{\"gridcolor\":\"white\",\"linecolor\":\"white\",\"ticks\":\"\"},\"caxis\":{\"gridcolor\":\"white\",\"linecolor\":\"white\",\"ticks\":\"\"}},\"coloraxis\":{\"colorbar\":{\"outlinewidth\":0,\"ticks\":\"\"}},\"colorscale\":{\"sequential\":[[0.0,\"#0d0887\"],[0.1111111111111111,\"#46039f\"],[0.2222222222222222,\"#7201a8\"],[0.3333333333333333,\"#9c179e\"],[0.4444444444444444,\"#bd3786\"],[0.5555555555555556,\"#d8576b\"],[0.6666666666666666,\"#ed7953\"],[0.7777777777777778,\"#fb9f3a\"],[0.8888888888888888,\"#fdca26\"],[1.0,\"#f0f921\"]],\"sequentialminus\":[[0.0,\"#0d0887\"],[0.1111111111111111,\"#46039f\"],[0.2222222222222222,\"#7201a8\"],[0.3333333333333333,\"#9c179e\"],[0.4444444444444444,\"#bd3786\"],[0.5555555555555556,\"#d8576b\"],[0.6666666666666666,\"#ed7953\"],[0.7777777777777778,\"#fb9f3a\"],[0.8888888888888888,\"#fdca26\"],[1.0,\"#f0f921\"]],\"diverging\":[[0,\"#8e0152\"],[0.1,\"#c51b7d\"],[0.2,\"#de77ae\"],[0.3,\"#f1b6da\"],[0.4,\"#fde0ef\"],[0.5,\"#f7f7f7\"],[0.6,\"#e6f5d0\"],[0.7,\"#b8e186\"],[0.8,\"#7fbc41\"],[0.9,\"#4d9221\"],[1,\"#276419\"]]},\"xaxis\":{\"gridcolor\":\"white\",\"linecolor\":\"white\",\"ticks\":\"\",\"title\":{\"standoff\":15},\"zerolinecolor\":\"white\",\"automargin\":true,\"zerolinewidth\":2},\"yaxis\":{\"gridcolor\":\"white\",\"linecolor\":\"white\",\"ticks\":\"\",\"title\":{\"standoff\":15},\"zerolinecolor\":\"white\",\"automargin\":true,\"zerolinewidth\":2},\"scene\":{\"xaxis\":{\"backgroundcolor\":\"#E5ECF6\",\"gridcolor\":\"white\",\"linecolor\":\"white\",\"showbackground\":true,\"ticks\":\"\",\"zerolinecolor\":\"white\",\"gridwidth\":2},\"yaxis\":{\"backgroundcolor\":\"#E5ECF6\",\"gridcolor\":\"white\",\"linecolor\":\"white\",\"showbackground\":true,\"ticks\":\"\",\"zerolinecolor\":\"white\",\"gridwidth\":2},\"zaxis\":{\"backgroundcolor\":\"#E5ECF6\",\"gridcolor\":\"white\",\"linecolor\":\"white\",\"showbackground\":true,\"ticks\":\"\",\"zerolinecolor\":\"white\",\"gridwidth\":2}},\"shapedefaults\":{\"line\":{\"color\":\"#2a3f5f\"}},\"annotationdefaults\":{\"arrowcolor\":\"#2a3f5f\",\"arrowhead\":0,\"arrowwidth\":1},\"geo\":{\"bgcolor\":\"white\",\"landcolor\":\"#E5ECF6\",\"subunitcolor\":\"white\",\"showland\":true,\"showlakes\":true,\"lakecolor\":\"white\"},\"title\":{\"x\":0.05},\"mapbox\":{\"style\":\"light\"}}},\"xaxis\":{\"anchor\":\"y\",\"domain\":[0.0,1.0],\"title\":{\"text\":\"Number of Visitors\"}},\"yaxis\":{\"anchor\":\"x\",\"domain\":[0.0,1.0],\"title\":{\"text\":\"Waste Service Requests\"}},\"legend\":{\"tracegroupgap\":0},\"title\":{\"text\":\"Relationship Between Visitor Numbers and Waste Service Requests\"}},                        {\"responsive\": true}                    ).then(function(){\n",
              "                            \n",
              "var gd = document.getElementById('fdf40687-4d29-43dc-a452-118ab2850f64');\n",
              "var x = new MutationObserver(function (mutations, observer) {{\n",
              "        var display = window.getComputedStyle(gd).display;\n",
              "        if (!display || display === 'none') {{\n",
              "            console.log([gd, 'removed!']);\n",
              "            Plotly.purge(gd);\n",
              "            observer.disconnect();\n",
              "        }}\n",
              "}});\n",
              "\n",
              "// Listen for the removal of the full notebook cells\n",
              "var notebookContainer = gd.closest('#notebook-container');\n",
              "if (notebookContainer) {{\n",
              "    x.observe(notebookContainer, {childList: true});\n",
              "}}\n",
              "\n",
              "// Listen for the clearing of the current output cell\n",
              "var outputEl = gd.closest('.output');\n",
              "if (outputEl) {{\n",
              "    x.observe(outputEl, {childList: true});\n",
              "}}\n",
              "\n",
              "                        })                };                            </script>        </div>\n",
              "</body>\n",
              "</html>"
            ]
          },
          "metadata": {}
        }
      ]
    }
  ]
}