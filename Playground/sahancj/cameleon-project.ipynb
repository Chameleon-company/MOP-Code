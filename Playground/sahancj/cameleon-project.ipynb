{
 "cells": [
  {
   "cell_type": "markdown",
   "metadata": {},
   "source": [
    "<div class=\"usecase-title\">Nearby Restaurant Hotspots Analysis in Melbourne</div>\n",
    "<div class=\"usecase-authors\"><b>Authored by: </b> Tharaka Sandamal And Sahan Chamod</div>"
   ]
  },
  {
   "cell_type": "markdown",
   "metadata": {},
   "source": [
    "<div class=\"usecase-duration\"><b>Duration:</b> 90 mins</div>\n",
    "<div class=\"usecase-level-skill\">\n",
    "    <div class=\"usecase-level\"><b>Level: </b>Intermediate</div>\n",
    "    <div class=\"usecase-skill\"><b>Pre-requisite Skills: </b>Python, Data Analysis, Pandas, Data Visualization</div>\n"
   ]
  },
  {
   "cell_type": "markdown",
   "metadata": {},
   "source": [
    "<div class=\"usecase-section-header\">Scenario</div>"
   ]
  },
  {
   "cell_type": "markdown",
   "metadata": {},
   "source": [
    "As office workers in Melbourne, finding a convenient and available place to eat during lunch can be a challenge due to limited seating capacity and high business activity. The goal is to identify areas in Melbourne that need more restaurants, cafes, or bistros based on the current seating capacity and nearby business activity. This analysis will help urban planners and business owners make informed decisions about where to establish new eateries to meet the demand."
   ]
  },
  {
   "cell_type": "markdown",
   "metadata": {},
   "source": [
    "At the end of this use case you will:\n",
    "- Learn how to clean and merge multiple datasets using Pandas.\n",
    "- Perform exploratory data analysis to understand the relationship between seating capacity and business activity.\n",
    "- Use data visualization techniques to identify potential hotspots for new restaurants.\n",
    "- Generate actionable insights to inform decision-making in urban planning and business development."
   ]
  },
  {
   "cell_type": "markdown",
   "metadata": {},
   "source": [
    "Melbourne is a bustling city with a significant number of office workers who frequently visit nearby cafes and restaurants for lunch. However, the availability of seating and the proximity of eateries to business hubs can affect their choices. This analysis aims to determine which areas in Melbourne need more dining options by analyzing datasets related to seating capacity, business activity, and land use. By combining these datasets, we can identify regions with high demand but insufficient seating capacity, guiding new restaurant openings to better serve the community."
   ]
  },
  {
   "cell_type": "markdown",
   "metadata": {},
   "source": [
    "<h1> <div class=\"usecase-section-header\">Project Stages</div>"
   ]
  },
  {
   "cell_type": "markdown",
   "metadata": {},
   "source": [
    "\n",
    "1. **Data Collection**:\n",
    "   Download the necessary datasets.\n",
    "   - [Cafes and Restaurants with Seating Capacity](https://data.melbourne.vic.gov.au/explore/dataset/cafes-and-restaurants-with-seating-capacity/information/)\n",
    "   - [Employment by Block by CLUE Industry](https://data.melbourne.vic.gov.au/explore/dataset/employment-by-block-by-clue-industry/information/)\n",
    "   - [Blocks for Census of Land Use and Employment (CLUE)](https://data.melbourne.vic.gov.au/explore/dataset/blocks-for-census-of-land-use-and-employment-clue/information/?sort=-block_id&location=13,-37.81306,144.94413&basemap=mbs-7a7333)\n",
    "\n",
    "2. **Data Cleaning and Preparation**:\n",
    "   - Load the datasets into Pandas DataFrames.\n",
    "   - Inspect and clean the data.\n",
    "   - Merge the datasets on common fields.\n",
    "\n",
    "3. **Data Analysis**:\n",
    "   - Calculate the total seating capacity of cafes and restaurants per block.\n",
    "   - Analyze the employment data to understand the density of workers per block.\n",
    "\n",
    "4. **Determine Hotspots**:\n",
    "   - Identify blocks with high business activity but low seating capacity.\n",
    "   - Highlight areas with a mismatch between the number of employees and available seating.\n",
    "\n",
    "5. **Visualization**:\n",
    "   - Create visualizations to show areas with high demand for more restaurants/cafes.\n",
    "   - Present findings in a clear and impactful manner.\n",
    "\n",
    "<div class=\"usecase-section-header\">Expected Outcome</div>\n",
    "The expected outcome of this project is to identify specific areas in Melbourne that require additional restaurants, cafes, or bistros based on the analysis of seating capacity, business activity, and possibly pedestrian movement data. This will provide urban planners and business owners with actionable insights to make informed decisions about where to establish new dining options to meet the demand of office workers.\n",
    "\n"
   ]
  },
  {
   "cell_type": "markdown",
   "metadata": {},
   "source": [
    "\n",
    "<div class=\"usecase-section-header\">Dataset Descriptions</div>\n",
    "\n",
    "1. **Cafes and Restaurants with Seating Capacity**:\n",
    "   - This dataset contains information about cafes and restaurants in Melbourne, including their seating capacity.\n",
    "   - [Link to Dataset](https://data.melbourne.vic.gov.au/explore/dataset/cafes-and-restaurants-with-seating-capacity/information/)\n",
    "\n",
    "2. **Employment by Block by CLUE Industry**:\n",
    "   - This dataset provides employment information by block and industry within Melbourne, indicating the density of business activity.\n",
    "   - [Link to Dataset](https://data.melbourne.vic.gov.au/explore/dataset/employment-by-block-by-clue-industry/information/)\n",
    "\n",
    "3. **Blocks for Census of Land Use and Employment (CLUE)**:\n",
    "   - This dataset includes detailed information about blocks in Melbourne, used for the Census of Land Use and Employment.\n",
    "   - [Link to Dataset](https://data.melbourne.vic.gov.au/explore/dataset/blocks-for-census-of-land-use-and-employment-clue/information/?sort=-block_id&location=13,-37.81306,144.94413&basemap=mbs-7a7333)"
   ]
  },
  {
   "cell_type": "markdown",
   "metadata": {},
   "source": [
    "### Package/Library Imports"
   ]
  },
  {
   "cell_type": "code",
   "execution_count": 1,
   "metadata": {},
   "outputs": [
    {
     "name": "stdout",
     "output_type": "stream",
     "text": [
      "Requirement already satisfied: requests in /Users/sahanchamod/Documents/University/python-projects/venv/lib/python3.12/site-packages (2.32.3)\n",
      "Requirement already satisfied: charset-normalizer<4,>=2 in /Users/sahanchamod/Documents/University/python-projects/venv/lib/python3.12/site-packages (from requests) (3.3.2)\n",
      "Requirement already satisfied: idna<4,>=2.5 in /Users/sahanchamod/Documents/University/python-projects/venv/lib/python3.12/site-packages (from requests) (3.7)\n",
      "Requirement already satisfied: urllib3<3,>=1.21.1 in /Users/sahanchamod/Documents/University/python-projects/venv/lib/python3.12/site-packages (from requests) (2.2.2)\n",
      "Requirement already satisfied: certifi>=2017.4.17 in /Users/sahanchamod/Documents/University/python-projects/venv/lib/python3.12/site-packages (from requests) (2024.7.4)\n",
      "\n",
      "\u001b[1m[\u001b[0m\u001b[34;49mnotice\u001b[0m\u001b[1;39;49m]\u001b[0m\u001b[39;49m A new release of pip is available: \u001b[0m\u001b[31;49m24.0\u001b[0m\u001b[39;49m -> \u001b[0m\u001b[32;49m24.2\u001b[0m\n",
      "\u001b[1m[\u001b[0m\u001b[34;49mnotice\u001b[0m\u001b[1;39;49m]\u001b[0m\u001b[39;49m To update, run: \u001b[0m\u001b[32;49mpip install --upgrade pip\u001b[0m\n",
      "Note: you may need to restart the kernel to use updated packages.\n"
     ]
    }
   ],
   "source": [
    "pip install requests\n"
   ]
  },
  {
   "cell_type": "code",
   "execution_count": 20,
   "metadata": {},
   "outputs": [],
   "source": [
    "from config import API_KEY # import API_KEY from config file\n",
    "\n",
    "import numpy as np\n",
    "import pandas as pd\n",
    "import matplotlib.pyplot as plt\n",
    "import requests \n",
    "import pandas as pd \n",
    "from io import StringIO"
   ]
  },
  {
   "cell_type": "markdown",
   "metadata": {},
   "source": [
    "### Read data using API"
   ]
  },
  {
   "cell_type": "code",
   "execution_count": 22,
   "metadata": {},
   "outputs": [],
   "source": [
    "# **Preferred Method**: Export Endpoint\n",
    "\n",
    "#Function to collect data \n",
    "def collect_data(dataset_id):\n",
    "    base_url = 'https://data.melbourne.vic.gov.au/api/explore/v2.1/catalog/datasets/'\n",
    "    dataset_id = dataset_id\n",
    "    format = 'csv'\n",
    "\n",
    "    url = f'{base_url}{dataset_id}/exports/{format}'\n",
    "    params = {\n",
    "    'select': '*',\n",
    "    'limit': -1, # all records\n",
    "    'lang': 'en',\n",
    "    'timezone': 'UTC',\n",
    "    'api_key': API_KEY #use if use datasets require API key permissions\n",
    "    }\n",
    "\n",
    "    # GET request\n",
    "    response = requests.get(url, params=params)\n",
    "    if response.status_code == 200:\n",
    "        # StringIO to read the CSV data\n",
    "        url_content = response.content.decode('utf-8')\n",
    "        dataset = pd.read_csv(StringIO(url_content), delimiter=';')\n",
    "        return dataset \n",
    "    else:\n",
    "        print(f'Request failed with status code {response.status_code}')\n",
    "\n",
    "# Read data using the function\n",
    "cafe_df = collect_data('cafes-and-restaurants-with-seating-capacity')\n",
    "emp_block_df = collect_data('employment-by-block-by-clue-industry')\n",
    "block_df = collect_data('blocks-for-census-of-land-use-and-employment-clue')\n",
    "Small_CLUE_area = collect_data('small-areas-for-census-of-land-use-and-employment-clue')"
   ]
  },
  {
   "cell_type": "code",
   "execution_count": 23,
   "metadata": {},
   "outputs": [
    {
     "name": "stdout",
     "output_type": "stream",
     "text": [
      "Shape of the Small_CLUE_area:\t(13, 5)\n"
     ]
    },
    {
     "data": {
      "text/html": [
       "<div>\n",
       "<style scoped>\n",
       "    .dataframe tbody tr th:only-of-type {\n",
       "        vertical-align: middle;\n",
       "    }\n",
       "\n",
       "    .dataframe tbody tr th {\n",
       "        vertical-align: top;\n",
       "    }\n",
       "\n",
       "    .dataframe thead th {\n",
       "        text-align: right;\n",
       "    }\n",
       "</style>\n",
       "<table border=\"1\" class=\"dataframe\">\n",
       "  <thead>\n",
       "    <tr style=\"text-align: right;\">\n",
       "      <th></th>\n",
       "      <th>geo_point_2d</th>\n",
       "      <th>geo_shape</th>\n",
       "      <th>featurenam</th>\n",
       "      <th>shape_area</th>\n",
       "      <th>shape_len</th>\n",
       "    </tr>\n",
       "  </thead>\n",
       "  <tbody>\n",
       "    <tr>\n",
       "      <th>0</th>\n",
       "      <td>-37.78711656492933, 144.9515603312268</td>\n",
       "      <td>{\"coordinates\": [[[[144.94036533536232, -37.78...</td>\n",
       "      <td>Parkville</td>\n",
       "      <td>4.050997e+06</td>\n",
       "      <td>9224.569397</td>\n",
       "    </tr>\n",
       "    <tr>\n",
       "      <th>1</th>\n",
       "      <td>-37.82529018627908, 144.96176162794978</td>\n",
       "      <td>{\"coordinates\": [[[[144.95599687351128, -37.82...</td>\n",
       "      <td>Southbank</td>\n",
       "      <td>1.596010e+06</td>\n",
       "      <td>6012.377239</td>\n",
       "    </tr>\n",
       "    <tr>\n",
       "      <th>2</th>\n",
       "      <td>-37.83760704949379, 144.98292521995853</td>\n",
       "      <td>{\"coordinates\": [[[[144.98502208625717, -37.84...</td>\n",
       "      <td>South Yarra</td>\n",
       "      <td>1.057773e+06</td>\n",
       "      <td>5424.136446</td>\n",
       "    </tr>\n",
       "    <tr>\n",
       "      <th>3</th>\n",
       "      <td>-37.814581164837946, 144.9825008488323</td>\n",
       "      <td>{\"coordinates\": [[[[144.9732217743585, -37.807...</td>\n",
       "      <td>East Melbourne</td>\n",
       "      <td>1.909073e+06</td>\n",
       "      <td>6557.914249</td>\n",
       "    </tr>\n",
       "    <tr>\n",
       "      <th>4</th>\n",
       "      <td>-37.79152998205382, 144.9204996881507</td>\n",
       "      <td>{\"coordinates\": [[[[144.936867787351, -37.7888...</td>\n",
       "      <td>Kensington</td>\n",
       "      <td>3.808797e+06</td>\n",
       "      <td>9407.055421</td>\n",
       "    </tr>\n",
       "  </tbody>\n",
       "</table>\n",
       "</div>"
      ],
      "text/plain": [
       "                             geo_point_2d  \\\n",
       "0   -37.78711656492933, 144.9515603312268   \n",
       "1  -37.82529018627908, 144.96176162794978   \n",
       "2  -37.83760704949379, 144.98292521995853   \n",
       "3  -37.814581164837946, 144.9825008488323   \n",
       "4   -37.79152998205382, 144.9204996881507   \n",
       "\n",
       "                                           geo_shape      featurenam  \\\n",
       "0  {\"coordinates\": [[[[144.94036533536232, -37.78...       Parkville   \n",
       "1  {\"coordinates\": [[[[144.95599687351128, -37.82...       Southbank   \n",
       "2  {\"coordinates\": [[[[144.98502208625717, -37.84...     South Yarra   \n",
       "3  {\"coordinates\": [[[[144.9732217743585, -37.807...  East Melbourne   \n",
       "4  {\"coordinates\": [[[[144.936867787351, -37.7888...      Kensington   \n",
       "\n",
       "     shape_area    shape_len  \n",
       "0  4.050997e+06  9224.569397  \n",
       "1  1.596010e+06  6012.377239  \n",
       "2  1.057773e+06  5424.136446  \n",
       "3  1.909073e+06  6557.914249  \n",
       "4  3.808797e+06  9407.055421  "
      ]
     },
     "execution_count": 23,
     "metadata": {},
     "output_type": "execute_result"
    }
   ],
   "source": [
    "print(f'Shape of the Small_CLUE_area:\\t{Small_CLUE_area.shape}')\n",
    "Small_CLUE_area.head(5)"
   ]
  },
  {
   "cell_type": "markdown",
   "metadata": {},
   "source": [
    "### Learn and explore the data"
   ]
  },
  {
   "cell_type": "markdown",
   "metadata": {},
   "source": [
    "#### Cafes/Restaurants with seating capacity"
   ]
  },
  {
   "cell_type": "code",
   "execution_count": 4,
   "metadata": {},
   "outputs": [
    {
     "name": "stdout",
     "output_type": "stream",
     "text": [
      "Shape of the cafe_df:\t(60055, 15)\n"
     ]
    },
    {
     "data": {
      "text/html": [
       "<div>\n",
       "<style scoped>\n",
       "    .dataframe tbody tr th:only-of-type {\n",
       "        vertical-align: middle;\n",
       "    }\n",
       "\n",
       "    .dataframe tbody tr th {\n",
       "        vertical-align: top;\n",
       "    }\n",
       "\n",
       "    .dataframe thead th {\n",
       "        text-align: right;\n",
       "    }\n",
       "</style>\n",
       "<table border=\"1\" class=\"dataframe\">\n",
       "  <thead>\n",
       "    <tr style=\"text-align: right;\">\n",
       "      <th></th>\n",
       "      <th>census_year</th>\n",
       "      <th>block_id</th>\n",
       "      <th>property_id</th>\n",
       "      <th>base_property_id</th>\n",
       "      <th>building_address</th>\n",
       "      <th>clue_small_area</th>\n",
       "      <th>trading_name</th>\n",
       "      <th>business_address</th>\n",
       "      <th>industry_anzsic4_code</th>\n",
       "      <th>industry_anzsic4_description</th>\n",
       "      <th>seating_type</th>\n",
       "      <th>number_of_seats</th>\n",
       "      <th>longitude</th>\n",
       "      <th>latitude</th>\n",
       "      <th>location</th>\n",
       "    </tr>\n",
       "  </thead>\n",
       "  <tbody>\n",
       "    <tr>\n",
       "      <th>0</th>\n",
       "      <td>2017</td>\n",
       "      <td>6</td>\n",
       "      <td>578324</td>\n",
       "      <td>573333</td>\n",
       "      <td>2 Swanston Street MELBOURNE 3000</td>\n",
       "      <td>Melbourne (CBD)</td>\n",
       "      <td>Transport Hotel</td>\n",
       "      <td>Tenancy 29, Ground , 2 Swanston Street MELBOUR...</td>\n",
       "      <td>4520</td>\n",
       "      <td>Pubs, Taverns and Bars</td>\n",
       "      <td>Seats - Indoor</td>\n",
       "      <td>230</td>\n",
       "      <td>144.969942</td>\n",
       "      <td>-37.817778</td>\n",
       "      <td>-37.817777826050005, 144.96994164279243</td>\n",
       "    </tr>\n",
       "    <tr>\n",
       "      <th>1</th>\n",
       "      <td>2017</td>\n",
       "      <td>6</td>\n",
       "      <td>578324</td>\n",
       "      <td>573333</td>\n",
       "      <td>2 Swanston Street MELBOURNE 3000</td>\n",
       "      <td>Melbourne (CBD)</td>\n",
       "      <td>Transport Hotel</td>\n",
       "      <td>Tenancy 29, Ground , 2 Swanston Street MELBOUR...</td>\n",
       "      <td>4520</td>\n",
       "      <td>Pubs, Taverns and Bars</td>\n",
       "      <td>Seats - Outdoor</td>\n",
       "      <td>120</td>\n",
       "      <td>144.969942</td>\n",
       "      <td>-37.817778</td>\n",
       "      <td>-37.817777826050005, 144.96994164279243</td>\n",
       "    </tr>\n",
       "    <tr>\n",
       "      <th>2</th>\n",
       "      <td>2017</td>\n",
       "      <td>11</td>\n",
       "      <td>103957</td>\n",
       "      <td>103957</td>\n",
       "      <td>517-537 Flinders Lane MELBOURNE 3000</td>\n",
       "      <td>Melbourne (CBD)</td>\n",
       "      <td>Altius Coffee Brewers</td>\n",
       "      <td>Shop , Ground , 517 Flinders Lane MELBOURNE 3000</td>\n",
       "      <td>4512</td>\n",
       "      <td>Takeaway Food Services</td>\n",
       "      <td>Seats - Outdoor</td>\n",
       "      <td>4</td>\n",
       "      <td>144.956486</td>\n",
       "      <td>-37.819875</td>\n",
       "      <td>-37.819875445799994, 144.95648638781466</td>\n",
       "    </tr>\n",
       "    <tr>\n",
       "      <th>3</th>\n",
       "      <td>2017</td>\n",
       "      <td>11</td>\n",
       "      <td>103957</td>\n",
       "      <td>103957</td>\n",
       "      <td>517-537 Flinders Lane MELBOURNE 3000</td>\n",
       "      <td>Melbourne (CBD)</td>\n",
       "      <td>Five &amp; Dime Bagel</td>\n",
       "      <td>16 Flinders Lane MELBOURNE 3000</td>\n",
       "      <td>1174</td>\n",
       "      <td>Bakery Product Manufacturing (Non-factory based)</td>\n",
       "      <td>Seats - Indoor</td>\n",
       "      <td>14</td>\n",
       "      <td>144.956486</td>\n",
       "      <td>-37.819875</td>\n",
       "      <td>-37.819875445799994, 144.95648638781466</td>\n",
       "    </tr>\n",
       "    <tr>\n",
       "      <th>4</th>\n",
       "      <td>2017</td>\n",
       "      <td>11</td>\n",
       "      <td>103985</td>\n",
       "      <td>103985</td>\n",
       "      <td>562-564 Flinders Street MELBOURNE 3000</td>\n",
       "      <td>Melbourne (CBD)</td>\n",
       "      <td>YHA Melbourne Central</td>\n",
       "      <td>562-564 Flinders Street MELBOURNE 3000</td>\n",
       "      <td>4400</td>\n",
       "      <td>Accommodation</td>\n",
       "      <td>Seats - Indoor</td>\n",
       "      <td>43</td>\n",
       "      <td>144.955635</td>\n",
       "      <td>-37.820595</td>\n",
       "      <td>-37.82059511593975, 144.9556348088</td>\n",
       "    </tr>\n",
       "  </tbody>\n",
       "</table>\n",
       "</div>"
      ],
      "text/plain": [
       "   census_year  block_id  property_id  base_property_id  \\\n",
       "0         2017         6       578324            573333   \n",
       "1         2017         6       578324            573333   \n",
       "2         2017        11       103957            103957   \n",
       "3         2017        11       103957            103957   \n",
       "4         2017        11       103985            103985   \n",
       "\n",
       "                         building_address  clue_small_area  \\\n",
       "0        2 Swanston Street MELBOURNE 3000  Melbourne (CBD)   \n",
       "1        2 Swanston Street MELBOURNE 3000  Melbourne (CBD)   \n",
       "2    517-537 Flinders Lane MELBOURNE 3000  Melbourne (CBD)   \n",
       "3    517-537 Flinders Lane MELBOURNE 3000  Melbourne (CBD)   \n",
       "4  562-564 Flinders Street MELBOURNE 3000  Melbourne (CBD)   \n",
       "\n",
       "            trading_name                                   business_address  \\\n",
       "0        Transport Hotel  Tenancy 29, Ground , 2 Swanston Street MELBOUR...   \n",
       "1        Transport Hotel  Tenancy 29, Ground , 2 Swanston Street MELBOUR...   \n",
       "2  Altius Coffee Brewers   Shop , Ground , 517 Flinders Lane MELBOURNE 3000   \n",
       "3      Five & Dime Bagel                    16 Flinders Lane MELBOURNE 3000   \n",
       "4  YHA Melbourne Central             562-564 Flinders Street MELBOURNE 3000   \n",
       "\n",
       "   industry_anzsic4_code                      industry_anzsic4_description  \\\n",
       "0                   4520                            Pubs, Taverns and Bars   \n",
       "1                   4520                            Pubs, Taverns and Bars   \n",
       "2                   4512                            Takeaway Food Services   \n",
       "3                   1174  Bakery Product Manufacturing (Non-factory based)   \n",
       "4                   4400                                     Accommodation   \n",
       "\n",
       "      seating_type  number_of_seats   longitude   latitude  \\\n",
       "0   Seats - Indoor              230  144.969942 -37.817778   \n",
       "1  Seats - Outdoor              120  144.969942 -37.817778   \n",
       "2  Seats - Outdoor                4  144.956486 -37.819875   \n",
       "3   Seats - Indoor               14  144.956486 -37.819875   \n",
       "4   Seats - Indoor               43  144.955635 -37.820595   \n",
       "\n",
       "                                  location  \n",
       "0  -37.817777826050005, 144.96994164279243  \n",
       "1  -37.817777826050005, 144.96994164279243  \n",
       "2  -37.819875445799994, 144.95648638781466  \n",
       "3  -37.819875445799994, 144.95648638781466  \n",
       "4       -37.82059511593975, 144.9556348088  "
      ]
     },
     "execution_count": 4,
     "metadata": {},
     "output_type": "execute_result"
    }
   ],
   "source": [
    "print(f'Shape of the cafe_df:\\t{cafe_df.shape}')\n",
    "cafe_df.head(5)"
   ]
  },
  {
   "cell_type": "code",
   "execution_count": 5,
   "metadata": {},
   "outputs": [
    {
     "name": "stdout",
     "output_type": "stream",
     "text": [
      "-------------------- cafe_df Info --------------------\n",
      "\n",
      "<class 'pandas.core.frame.DataFrame'>\n",
      "RangeIndex: 60055 entries, 0 to 60054\n",
      "Data columns (total 15 columns):\n",
      " #   Column                        Non-Null Count  Dtype  \n",
      "---  ------                        --------------  -----  \n",
      " 0   census_year                   60055 non-null  int64  \n",
      " 1   block_id                      60055 non-null  int64  \n",
      " 2   property_id                   60055 non-null  int64  \n",
      " 3   base_property_id              60055 non-null  int64  \n",
      " 4   building_address              60055 non-null  object \n",
      " 5   clue_small_area               60055 non-null  object \n",
      " 6   trading_name                  60055 non-null  object \n",
      " 7   business_address              60055 non-null  object \n",
      " 8   industry_anzsic4_code         60055 non-null  int64  \n",
      " 9   industry_anzsic4_description  60055 non-null  object \n",
      " 10  seating_type                  60055 non-null  object \n",
      " 11  number_of_seats               60055 non-null  int64  \n",
      " 12  longitude                     59528 non-null  float64\n",
      " 13  latitude                      59528 non-null  float64\n",
      " 14  location                      59528 non-null  object \n",
      "dtypes: float64(2), int64(6), object(7)\n",
      "memory usage: 6.9+ MB\n",
      "None\n"
     ]
    }
   ],
   "source": [
    "print('-'*20,'cafe_df Info','-'*20)\n",
    "print()\n",
    "# display all columns, non-null count and their data types\n",
    "print(cafe_df.info())"
   ]
  },
  {
   "cell_type": "markdown",
   "metadata": {},
   "source": [
    "According to the above output there are number of null values in the cafe_df need to be addressed."
   ]
  },
  {
   "cell_type": "markdown",
   "metadata": {},
   "source": [
    "#### Employment by block"
   ]
  },
  {
   "cell_type": "code",
   "execution_count": 6,
   "metadata": {},
   "outputs": [
    {
     "name": "stdout",
     "output_type": "stream",
     "text": [
      "Shape of the emp_block_df:\t(12394, 24)\n"
     ]
    },
    {
     "data": {
      "text/html": [
       "<div>\n",
       "<style scoped>\n",
       "    .dataframe tbody tr th:only-of-type {\n",
       "        vertical-align: middle;\n",
       "    }\n",
       "\n",
       "    .dataframe tbody tr th {\n",
       "        vertical-align: top;\n",
       "    }\n",
       "\n",
       "    .dataframe thead th {\n",
       "        text-align: right;\n",
       "    }\n",
       "</style>\n",
       "<table border=\"1\" class=\"dataframe\">\n",
       "  <thead>\n",
       "    <tr style=\"text-align: right;\">\n",
       "      <th></th>\n",
       "      <th>census_year</th>\n",
       "      <th>block_id</th>\n",
       "      <th>clue_small_area</th>\n",
       "      <th>accommodation</th>\n",
       "      <th>admin_and_support_services</th>\n",
       "      <th>agriculture_and_mining</th>\n",
       "      <th>arts_and_recreation_services</th>\n",
       "      <th>business_services</th>\n",
       "      <th>construction</th>\n",
       "      <th>education_and_training</th>\n",
       "      <th>...</th>\n",
       "      <th>information_media_and_telecommunications</th>\n",
       "      <th>manufacturing</th>\n",
       "      <th>other_services</th>\n",
       "      <th>public_administration_and_safety</th>\n",
       "      <th>real_estate_services</th>\n",
       "      <th>rental_and_hiring_services</th>\n",
       "      <th>retail_trade</th>\n",
       "      <th>transport_postal_and_storage</th>\n",
       "      <th>wholesale_trade</th>\n",
       "      <th>total_jobs_in_block</th>\n",
       "    </tr>\n",
       "  </thead>\n",
       "  <tbody>\n",
       "    <tr>\n",
       "      <th>0</th>\n",
       "      <td>2022</td>\n",
       "      <td>4</td>\n",
       "      <td>Melbourne (CBD)</td>\n",
       "      <td>0.0</td>\n",
       "      <td>0.0</td>\n",
       "      <td>0.0</td>\n",
       "      <td>362.0</td>\n",
       "      <td>0.0</td>\n",
       "      <td>0.0</td>\n",
       "      <td>NaN</td>\n",
       "      <td>...</td>\n",
       "      <td>0.0</td>\n",
       "      <td>0.0</td>\n",
       "      <td>NaN</td>\n",
       "      <td>0.0</td>\n",
       "      <td>0.0</td>\n",
       "      <td>0.0</td>\n",
       "      <td>38.0</td>\n",
       "      <td>368.0</td>\n",
       "      <td>0.0</td>\n",
       "      <td>1008.0</td>\n",
       "    </tr>\n",
       "    <tr>\n",
       "      <th>1</th>\n",
       "      <td>2022</td>\n",
       "      <td>5</td>\n",
       "      <td>Melbourne (CBD)</td>\n",
       "      <td>0.0</td>\n",
       "      <td>0.0</td>\n",
       "      <td>0.0</td>\n",
       "      <td>0.0</td>\n",
       "      <td>0.0</td>\n",
       "      <td>0.0</td>\n",
       "      <td>0.0</td>\n",
       "      <td>...</td>\n",
       "      <td>0.0</td>\n",
       "      <td>0.0</td>\n",
       "      <td>0.0</td>\n",
       "      <td>0.0</td>\n",
       "      <td>0.0</td>\n",
       "      <td>0.0</td>\n",
       "      <td>0.0</td>\n",
       "      <td>0.0</td>\n",
       "      <td>0.0</td>\n",
       "      <td>0.0</td>\n",
       "    </tr>\n",
       "    <tr>\n",
       "      <th>2</th>\n",
       "      <td>2022</td>\n",
       "      <td>6</td>\n",
       "      <td>Melbourne (CBD)</td>\n",
       "      <td>0.0</td>\n",
       "      <td>0.0</td>\n",
       "      <td>0.0</td>\n",
       "      <td>203.0</td>\n",
       "      <td>0.0</td>\n",
       "      <td>0.0</td>\n",
       "      <td>0.0</td>\n",
       "      <td>...</td>\n",
       "      <td>NaN</td>\n",
       "      <td>0.0</td>\n",
       "      <td>NaN</td>\n",
       "      <td>0.0</td>\n",
       "      <td>NaN</td>\n",
       "      <td>0.0</td>\n",
       "      <td>47.0</td>\n",
       "      <td>0.0</td>\n",
       "      <td>0.0</td>\n",
       "      <td>647.0</td>\n",
       "    </tr>\n",
       "    <tr>\n",
       "      <th>3</th>\n",
       "      <td>2022</td>\n",
       "      <td>13</td>\n",
       "      <td>Melbourne (CBD)</td>\n",
       "      <td>NaN</td>\n",
       "      <td>520.0</td>\n",
       "      <td>0.0</td>\n",
       "      <td>NaN</td>\n",
       "      <td>496.0</td>\n",
       "      <td>NaN</td>\n",
       "      <td>NaN</td>\n",
       "      <td>...</td>\n",
       "      <td>55.0</td>\n",
       "      <td>NaN</td>\n",
       "      <td>27.0</td>\n",
       "      <td>0.0</td>\n",
       "      <td>0.0</td>\n",
       "      <td>0.0</td>\n",
       "      <td>NaN</td>\n",
       "      <td>NaN</td>\n",
       "      <td>0.0</td>\n",
       "      <td>2379.0</td>\n",
       "    </tr>\n",
       "    <tr>\n",
       "      <th>4</th>\n",
       "      <td>2022</td>\n",
       "      <td>16</td>\n",
       "      <td>Melbourne (CBD)</td>\n",
       "      <td>NaN</td>\n",
       "      <td>NaN</td>\n",
       "      <td>0.0</td>\n",
       "      <td>86.0</td>\n",
       "      <td>382.0</td>\n",
       "      <td>295.0</td>\n",
       "      <td>NaN</td>\n",
       "      <td>...</td>\n",
       "      <td>0.0</td>\n",
       "      <td>0.0</td>\n",
       "      <td>64.0</td>\n",
       "      <td>0.0</td>\n",
       "      <td>NaN</td>\n",
       "      <td>0.0</td>\n",
       "      <td>60.0</td>\n",
       "      <td>0.0</td>\n",
       "      <td>0.0</td>\n",
       "      <td>2404.0</td>\n",
       "    </tr>\n",
       "  </tbody>\n",
       "</table>\n",
       "<p>5 rows × 24 columns</p>\n",
       "</div>"
      ],
      "text/plain": [
       "   census_year  block_id  clue_small_area  accommodation  \\\n",
       "0         2022         4  Melbourne (CBD)            0.0   \n",
       "1         2022         5  Melbourne (CBD)            0.0   \n",
       "2         2022         6  Melbourne (CBD)            0.0   \n",
       "3         2022        13  Melbourne (CBD)            NaN   \n",
       "4         2022        16  Melbourne (CBD)            NaN   \n",
       "\n",
       "   admin_and_support_services  agriculture_and_mining  \\\n",
       "0                         0.0                     0.0   \n",
       "1                         0.0                     0.0   \n",
       "2                         0.0                     0.0   \n",
       "3                       520.0                     0.0   \n",
       "4                         NaN                     0.0   \n",
       "\n",
       "   arts_and_recreation_services  business_services  construction  \\\n",
       "0                         362.0                0.0           0.0   \n",
       "1                           0.0                0.0           0.0   \n",
       "2                         203.0                0.0           0.0   \n",
       "3                           NaN              496.0           NaN   \n",
       "4                          86.0              382.0         295.0   \n",
       "\n",
       "   education_and_training  ...  information_media_and_telecommunications  \\\n",
       "0                     NaN  ...                                       0.0   \n",
       "1                     0.0  ...                                       0.0   \n",
       "2                     0.0  ...                                       NaN   \n",
       "3                     NaN  ...                                      55.0   \n",
       "4                     NaN  ...                                       0.0   \n",
       "\n",
       "   manufacturing  other_services  public_administration_and_safety  \\\n",
       "0            0.0             NaN                               0.0   \n",
       "1            0.0             0.0                               0.0   \n",
       "2            0.0             NaN                               0.0   \n",
       "3            NaN            27.0                               0.0   \n",
       "4            0.0            64.0                               0.0   \n",
       "\n",
       "   real_estate_services  rental_and_hiring_services  retail_trade  \\\n",
       "0                   0.0                         0.0          38.0   \n",
       "1                   0.0                         0.0           0.0   \n",
       "2                   NaN                         0.0          47.0   \n",
       "3                   0.0                         0.0           NaN   \n",
       "4                   NaN                         0.0          60.0   \n",
       "\n",
       "   transport_postal_and_storage  wholesale_trade  total_jobs_in_block  \n",
       "0                         368.0              0.0               1008.0  \n",
       "1                           0.0              0.0                  0.0  \n",
       "2                           0.0              0.0                647.0  \n",
       "3                           NaN              0.0               2379.0  \n",
       "4                           0.0              0.0               2404.0  \n",
       "\n",
       "[5 rows x 24 columns]"
      ]
     },
     "execution_count": 6,
     "metadata": {},
     "output_type": "execute_result"
    }
   ],
   "source": [
    "print(f'Shape of the emp_block_df:\\t{emp_block_df.shape}')\n",
    "emp_block_df.head(5)"
   ]
  },
  {
   "cell_type": "code",
   "execution_count": 7,
   "metadata": {},
   "outputs": [
    {
     "name": "stdout",
     "output_type": "stream",
     "text": [
      "-------------------- emp_block_df Info --------------------\n",
      "\n",
      "<class 'pandas.core.frame.DataFrame'>\n",
      "RangeIndex: 12394 entries, 0 to 12393\n",
      "Data columns (total 24 columns):\n",
      " #   Column                                    Non-Null Count  Dtype  \n",
      "---  ------                                    --------------  -----  \n",
      " 0   census_year                               12394 non-null  int64  \n",
      " 1   block_id                                  12394 non-null  int64  \n",
      " 2   clue_small_area                           12394 non-null  object \n",
      " 3   accommodation                             9986 non-null   float64\n",
      " 4   admin_and_support_services                10375 non-null  float64\n",
      " 5   agriculture_and_mining                    11795 non-null  float64\n",
      " 6   arts_and_recreation_services              8467 non-null   float64\n",
      " 7   business_services                         10519 non-null  float64\n",
      " 8   construction                              10319 non-null  float64\n",
      " 9   education_and_training                    9841 non-null   float64\n",
      " 10  electricity_gas_water_and_waste_services  9926 non-null   float64\n",
      " 11  finance_and_insurance                     10816 non-null  float64\n",
      " 12  food_and_beverage_services                9766 non-null   float64\n",
      " 13  health_care_and_social_assistance         9834 non-null   float64\n",
      " 14  information_media_and_telecommunications  10096 non-null  float64\n",
      " 15  manufacturing                             10085 non-null  float64\n",
      " 16  other_services                            9114 non-null   float64\n",
      " 17  public_administration_and_safety          10542 non-null  float64\n",
      " 18  real_estate_services                      10603 non-null  float64\n",
      " 19  rental_and_hiring_services                11534 non-null  float64\n",
      " 20  retail_trade                              9884 non-null   float64\n",
      " 21  transport_postal_and_storage              10145 non-null  float64\n",
      " 22  wholesale_trade                           9865 non-null   float64\n",
      " 23  total_jobs_in_block                       9708 non-null   float64\n",
      "dtypes: float64(21), int64(2), object(1)\n",
      "memory usage: 2.3+ MB\n",
      "None\n"
     ]
    }
   ],
   "source": [
    "print('-'*20,'emp_block_df Info','-'*20)\n",
    "print()\n",
    "# display all columns, non-null count and their data types\n",
    "print(emp_block_df.info())"
   ]
  },
  {
   "cell_type": "markdown",
   "metadata": {},
   "source": [
    "According to the above output there are number of null values in the emp_block_df need to be addressed."
   ]
  },
  {
   "cell_type": "markdown",
   "metadata": {},
   "source": [
    "#### Blocks info"
   ]
  },
  {
   "cell_type": "code",
   "execution_count": 8,
   "metadata": {},
   "outputs": [
    {
     "name": "stdout",
     "output_type": "stream",
     "text": [
      "Shape of the block_df:\t(606, 4)\n"
     ]
    },
    {
     "data": {
      "text/html": [
       "<div>\n",
       "<style scoped>\n",
       "    .dataframe tbody tr th:only-of-type {\n",
       "        vertical-align: middle;\n",
       "    }\n",
       "\n",
       "    .dataframe tbody tr th {\n",
       "        vertical-align: top;\n",
       "    }\n",
       "\n",
       "    .dataframe thead th {\n",
       "        text-align: right;\n",
       "    }\n",
       "</style>\n",
       "<table border=\"1\" class=\"dataframe\">\n",
       "  <thead>\n",
       "    <tr style=\"text-align: right;\">\n",
       "      <th></th>\n",
       "      <th>geo_point_2d</th>\n",
       "      <th>geo_shape</th>\n",
       "      <th>block_id</th>\n",
       "      <th>clue_area</th>\n",
       "    </tr>\n",
       "  </thead>\n",
       "  <tbody>\n",
       "    <tr>\n",
       "      <th>0</th>\n",
       "      <td>-37.82296169692379, 144.95049282288122</td>\n",
       "      <td>{\"coordinates\": [[[144.9479230372, -37.8233694...</td>\n",
       "      <td>1112</td>\n",
       "      <td>Docklands</td>\n",
       "    </tr>\n",
       "    <tr>\n",
       "      <th>1</th>\n",
       "      <td>-37.78537422996195, 144.94085920366408</td>\n",
       "      <td>{\"coordinates\": [[[144.9426153438, -37.7866287...</td>\n",
       "      <td>927</td>\n",
       "      <td>Parkville</td>\n",
       "    </tr>\n",
       "    <tr>\n",
       "      <th>2</th>\n",
       "      <td>-37.777687358375964, 144.94600024715058</td>\n",
       "      <td>{\"coordinates\": [[[144.9425926939, -37.7787229...</td>\n",
       "      <td>929</td>\n",
       "      <td>Parkville</td>\n",
       "    </tr>\n",
       "    <tr>\n",
       "      <th>3</th>\n",
       "      <td>-37.796701447217345, 144.94361235073427</td>\n",
       "      <td>{\"coordinates\": [[[144.9447165759, -37.7961286...</td>\n",
       "      <td>318</td>\n",
       "      <td>North Melbourne</td>\n",
       "    </tr>\n",
       "    <tr>\n",
       "      <th>4</th>\n",
       "      <td>-37.79293972627454, 144.94371829763847</td>\n",
       "      <td>{\"coordinates\": [[[144.9453910459, -37.7925266...</td>\n",
       "      <td>302</td>\n",
       "      <td>North Melbourne</td>\n",
       "    </tr>\n",
       "  </tbody>\n",
       "</table>\n",
       "</div>"
      ],
      "text/plain": [
       "                              geo_point_2d  \\\n",
       "0   -37.82296169692379, 144.95049282288122   \n",
       "1   -37.78537422996195, 144.94085920366408   \n",
       "2  -37.777687358375964, 144.94600024715058   \n",
       "3  -37.796701447217345, 144.94361235073427   \n",
       "4   -37.79293972627454, 144.94371829763847   \n",
       "\n",
       "                                           geo_shape  block_id  \\\n",
       "0  {\"coordinates\": [[[144.9479230372, -37.8233694...      1112   \n",
       "1  {\"coordinates\": [[[144.9426153438, -37.7866287...       927   \n",
       "2  {\"coordinates\": [[[144.9425926939, -37.7787229...       929   \n",
       "3  {\"coordinates\": [[[144.9447165759, -37.7961286...       318   \n",
       "4  {\"coordinates\": [[[144.9453910459, -37.7925266...       302   \n",
       "\n",
       "         clue_area  \n",
       "0        Docklands  \n",
       "1        Parkville  \n",
       "2        Parkville  \n",
       "3  North Melbourne  \n",
       "4  North Melbourne  "
      ]
     },
     "execution_count": 8,
     "metadata": {},
     "output_type": "execute_result"
    }
   ],
   "source": [
    "print(f'Shape of the block_df:\\t{block_df.shape}')\n",
    "block_df.head(5)"
   ]
  },
  {
   "cell_type": "code",
   "execution_count": 9,
   "metadata": {},
   "outputs": [
    {
     "name": "stdout",
     "output_type": "stream",
     "text": [
      "-------------------- block_df Info --------------------\n",
      "\n",
      "<class 'pandas.core.frame.DataFrame'>\n",
      "RangeIndex: 606 entries, 0 to 605\n",
      "Data columns (total 4 columns):\n",
      " #   Column        Non-Null Count  Dtype \n",
      "---  ------        --------------  ----- \n",
      " 0   geo_point_2d  606 non-null    object\n",
      " 1   geo_shape     606 non-null    object\n",
      " 2   block_id      606 non-null    int64 \n",
      " 3   clue_area     606 non-null    object\n",
      "dtypes: int64(1), object(3)\n",
      "memory usage: 19.1+ KB\n",
      "None\n"
     ]
    }
   ],
   "source": [
    "print('-'*20,'block_df Info','-'*20)\n",
    "print()\n",
    "# display all columns, non-null count and their data types\n",
    "print(block_df.info())"
   ]
  },
  {
   "cell_type": "markdown",
   "metadata": {},
   "source": [
    "According to the above output there is no missing values in the block_df."
   ]
  },
  {
   "cell_type": "markdown",
   "metadata": {},
   "source": [
    "### Data Preprocessing"
   ]
  },
  {
   "cell_type": "markdown",
   "metadata": {},
   "source": [
    "#### Cafes/Restaurants with seating capacity"
   ]
  },
  {
   "cell_type": "code",
   "execution_count": 10,
   "metadata": {},
   "outputs": [
    {
     "name": "stdout",
     "output_type": "stream",
     "text": [
      "-------------------- cafe_df missing values --------------------\n",
      "\n",
      "longitude    527\n",
      "latitude     527\n",
      "location     527\n",
      "dtype: int64\n"
     ]
    }
   ],
   "source": [
    "print('-'*20,'cafe_df missing values','-'*20)\n",
    "print()\n",
    "missing_values = cafe_df.isnull().sum()\n",
    "print(missing_values[missing_values > 0])"
   ]
  },
  {
   "cell_type": "markdown",
   "metadata": {},
   "source": [
    "Based on the above output, the cafe_df contains missing values in the longitude, latitude, and location columns. It is not appropriate to impute these missing values using simple aggregate functions such as mean or median, as these columns represent critical geographical data. \n",
    "\n",
    "Additionally, we cannot drop these records at this stage because we are working with three datasets, and these records may still be valuable when we merge them together later. "
   ]
  },
  {
   "cell_type": "markdown",
   "metadata": {},
   "source": [
    "#### Employment by block"
   ]
  },
  {
   "cell_type": "code",
   "execution_count": 11,
   "metadata": {},
   "outputs": [
    {
     "name": "stdout",
     "output_type": "stream",
     "text": [
      "-------------------- emp_block_df missing values --------------------\n",
      "\n",
      "accommodation                               2408\n",
      "admin_and_support_services                  2019\n",
      "agriculture_and_mining                       599\n",
      "arts_and_recreation_services                3927\n",
      "business_services                           1875\n",
      "construction                                2075\n",
      "education_and_training                      2553\n",
      "electricity_gas_water_and_waste_services    2468\n",
      "finance_and_insurance                       1578\n",
      "food_and_beverage_services                  2628\n",
      "health_care_and_social_assistance           2560\n",
      "information_media_and_telecommunications    2298\n",
      "manufacturing                               2309\n",
      "other_services                              3280\n",
      "public_administration_and_safety            1852\n",
      "real_estate_services                        1791\n",
      "rental_and_hiring_services                   860\n",
      "retail_trade                                2510\n",
      "transport_postal_and_storage                2249\n",
      "wholesale_trade                             2529\n",
      "total_jobs_in_block                         2686\n",
      "dtype: int64\n"
     ]
    }
   ],
   "source": [
    "print('-'*20,'emp_block_df missing values','-'*20)\n",
    "print()\n",
    "missing_values = emp_block_df.isnull().sum()\n",
    "print(missing_values[missing_values > 0])"
   ]
  },
  {
   "cell_type": "code",
   "execution_count": 12,
   "metadata": {},
   "outputs": [
    {
     "data": {
      "image/png": "[encoded data removed]",
      "text/plain": [
       "<Figure size 400x400 with 1 Axes>"
      ]
     },
     "metadata": {},
     "output_type": "display_data"
    }
   ],
   "source": [
    "# Step 1: Count missing and non-missing values\n",
    "missing_total_jobs_count = emp_block_df['total_jobs_in_block'].isnull().sum()\n",
    "non_missing_total_jobs_count = emp_block_df['total_jobs_in_block'].notnull().sum()\n",
    "\n",
    "# Create a dictionary for the counts\n",
    "missing_data = {\n",
    "    'Missing': missing_total_jobs_count,\n",
    "    'Non-Missing': non_missing_total_jobs_count\n",
    "}\n",
    "\n",
    "# Step 2: Create a pie chart\n",
    "labels = list(missing_data.keys())\n",
    "sizes = list(missing_data.values())\n",
    "colors = ['lightcoral', 'lightskyblue']\n",
    "explode = (0.1, 0)  # explode the slice for missing values\n",
    "\n",
    "plt.figure(figsize=(4, 4))\n",
    "plt.pie(sizes, explode=explode, labels=labels, colors=colors,\n",
    "        autopct='%1.1f%%', shadow=True, startangle=140)\n",
    "plt.title('Missing Values in total_jobs_in_block')\n",
    "plt.axis('equal')  # Equal aspect ratio ensures that pie is drawn as a circle.\n",
    "\n",
    "# Display the pie chart\n",
    "plt.show()"
   ]
  },
  {
   "cell_type": "markdown",
   "metadata": {},
   "source": [
    "The above figure illustrates that approximately 21.7% of the values in the total_jobs_in_block column are missing. This is a significant issue that we need to handle properly. Because total number of jobs in each block is a key fact analyzing the hot spot for restaurants. otherwise, it could mislead the findings. \n",
    "\n",
    "The presence of such a substantial portion of missing data can introduce bias, lead to loss of information, and affect the accuracy and reliability of our analysis. Therefore, careful consideration and appropriate imputation methods are necessary to address this issue"
   ]
  },
  {
   "cell_type": "code",
   "execution_count": 13,
   "metadata": {},
   "outputs": [
    {
     "name": "stdout",
     "output_type": "stream",
     "text": [
      "Number of unique block IDs with missing total_jobs_in_block: 207\n"
     ]
    }
   ],
   "source": [
    "# Filter the rows where total_jobs_in_block is missing\n",
    "missing_total_jobs = emp_block_df[emp_block_df['total_jobs_in_block'].isnull()]\n",
    "\n",
    "# Get the count of unique block IDs with missing total_jobs_in_block\n",
    "unique_block_ids_count = missing_total_jobs['block_id'].nunique()\n",
    "\n",
    "print(f\"Number of unique block IDs with missing total_jobs_in_block: {unique_block_ids_count}\")\n"
   ]
  },
  {
   "cell_type": "code",
   "execution_count": 14,
   "metadata": {},
   "outputs": [
    {
     "name": "stdout",
     "output_type": "stream",
     "text": [
      "Number of unique block IDs in the entire dataset: 607\n"
     ]
    }
   ],
   "source": [
    "# Get the count of unique block IDs in the entire dataset\n",
    "unique_block_ids_total = emp_block_df['block_id'].nunique()\n",
    "\n",
    "print(f\"Number of unique block IDs in the entire dataset: {unique_block_ids_total}\")\n"
   ]
  },
  {
   "cell_type": "markdown",
   "metadata": {},
   "source": [
    "Impute missing values in total_jobs_in_block column, by the mean of related block_id group. Still need to improve this metod.\n",
    "\n",
    "WIP . . ."
   ]
  },
  {
   "cell_type": "code",
   "execution_count": 15,
   "metadata": {},
   "outputs": [
    {
     "name": "stdout",
     "output_type": "stream",
     "text": [
      "   census_year  block_id  clue_small_area  accommodation  \\\n",
      "0         2022         4  Melbourne (CBD)            0.0   \n",
      "1         2022         5  Melbourne (CBD)            0.0   \n",
      "2         2022         6  Melbourne (CBD)            0.0   \n",
      "3         2022        13  Melbourne (CBD)            NaN   \n",
      "4         2022        16  Melbourne (CBD)            NaN   \n",
      "\n",
      "   admin_and_support_services  agriculture_and_mining  \\\n",
      "0                         0.0                     0.0   \n",
      "1                         0.0                     0.0   \n",
      "2                         0.0                     0.0   \n",
      "3                       520.0                     0.0   \n",
      "4                         NaN                     0.0   \n",
      "\n",
      "   arts_and_recreation_services  business_services  construction  \\\n",
      "0                         362.0                0.0           0.0   \n",
      "1                           0.0                0.0           0.0   \n",
      "2                         203.0                0.0           0.0   \n",
      "3                           NaN              496.0           NaN   \n",
      "4                          86.0              382.0         295.0   \n",
      "\n",
      "   education_and_training  ...  manufacturing  other_services  \\\n",
      "0                     NaN  ...            0.0             NaN   \n",
      "1                     0.0  ...            0.0             0.0   \n",
      "2                     0.0  ...            0.0             NaN   \n",
      "3                     NaN  ...            NaN            27.0   \n",
      "4                     NaN  ...            0.0            64.0   \n",
      "\n",
      "   public_administration_and_safety  real_estate_services  \\\n",
      "0                               0.0                   0.0   \n",
      "1                               0.0                   0.0   \n",
      "2                               0.0                   NaN   \n",
      "3                               0.0                   0.0   \n",
      "4                               0.0                   NaN   \n",
      "\n",
      "   rental_and_hiring_services  retail_trade  transport_postal_and_storage  \\\n",
      "0                         0.0          38.0                         368.0   \n",
      "1                         0.0           0.0                           0.0   \n",
      "2                         0.0          47.0                           0.0   \n",
      "3                         0.0           NaN                           NaN   \n",
      "4                         0.0          60.0                           0.0   \n",
      "\n",
      "   wholesale_trade  total_jobs_in_block  total_jobs_in_block_imputed  \n",
      "0              0.0               1008.0                  1008.000000  \n",
      "1              0.0                  0.0                    14.761905  \n",
      "2              0.0                647.0                   647.000000  \n",
      "3              0.0               2379.0                  2379.000000  \n",
      "4              0.0               2404.0                  2404.000000  \n",
      "\n",
      "[5 rows x 25 columns]\n"
     ]
    }
   ],
   "source": [
    "# Calculate the mean of total jobs in each block\n",
    "block_mean_jobs = emp_block_df.groupby('block_id')['total_jobs_in_block'].transform('mean')\n",
    "\n",
    "# Create a new column for the imputed total jobs in block\n",
    "emp_block_df['total_jobs_in_block_imputed'] = emp_block_df.apply(\n",
    "    lambda row: row['total_jobs_in_block'] if pd.notnull(row['total_jobs_in_block']) and row['total_jobs_in_block'] != 0\n",
    "    else block_mean_jobs[row.name],\n",
    "    axis=1\n",
    ")\n",
    "\n",
    "print(emp_block_df.head())"
   ]
  },
  {
   "cell_type": "code",
   "execution_count": 18,
   "metadata": {},
   "outputs": [
    {
     "data": {
      "image/png": "[encoded data removed]",
      "text/plain": [
       "<Figure size 800x400 with 1 Axes>"
      ]
     },
     "metadata": {},
     "output_type": "display_data"
    }
   ],
   "source": [
    "# Grouping the data by 'census_year' and summing up the 'total_jobs_in_block'\n",
    "jobs_by_year = emp_block_df.groupby('census_year')['total_jobs_in_block'].sum()\n",
    "\n",
    "# Ensure the job totals are integers\n",
    "jobs_by_year = jobs_by_year.astype(int)\n",
    "\n",
    "# Plotting the data\n",
    "plt.figure(figsize=(8, 4))\n",
    "jobs_by_year.plot(kind='line', marker='o')\n",
    "plt.title('Total Jobs Increment Over the Years')\n",
    "plt.xlabel('Year')\n",
    "plt.ylabel('Total Jobs')\n",
    "\n",
    "# Setting x-ticks to show only some of the years (e.g., every 5 years)\n",
    "plt.xticks(ticks=jobs_by_year.index[::5], labels=[str(year) for year in jobs_by_year.index[::5]])\n",
    "\n",
    "plt.grid(False)  # Disable the grid\n",
    "\n",
    "plt.show()"
   ]
  },
  {
   "cell_type": "code",
   "execution_count": 19,
   "metadata": {},
   "outputs": [
    {
     "data": {
      "image/png": "[encoded data removed]",
      "text/plain": [
       "<Figure size 800x400 with 1 Axes>"
      ]
     },
     "metadata": {},
     "output_type": "display_data"
    }
   ],
   "source": [
    "# Grouping the data by 'census_year' and summing up the 'number_of_seats'\n",
    "seating_by_year = cafe_df.groupby('census_year')['number_of_seats'].sum()\n",
    "\n",
    "# Plotting the data\n",
    "plt.figure(figsize=(8, 4))\n",
    "seating_by_year.plot(kind='line', marker='o', color='orange')\n",
    "plt.title('Restaurant Seating Capacity Over the Years')\n",
    "plt.xlabel('Year')\n",
    "plt.ylabel('Total Seating Capacity')\n",
    "\n",
    "# Setting x-ticks to show only some of the years (e.g., every 5 years)\n",
    "plt.xticks(ticks=seating_by_year.index[::5], labels=[str(year) for year in seating_by_year.index[::5]])\n",
    "\n",
    "plt.grid(False)  # Disable the grid\n",
    "\n",
    "plt.show()\n"
   ]
  }
 ],
 "metadata": {
  "kernelspec": {
   "display_name": "venv",
   "language": "python",
   "name": "python3"
  },
  "language_info": {
   "codemirror_mode": {
    "name": "ipython",
    "version": 3
   },
   "file_extension": ".py",
   "mimetype": "text/x-python",
   "name": "python",
   "nbconvert_exporter": "python",
   "pygments_lexer": "ipython3",
   "version": "3.12.3"
  }
 },
 "nbformat": 4,
 "nbformat_minor": 2
}
