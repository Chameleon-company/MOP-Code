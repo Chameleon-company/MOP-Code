{
  "cells": [
    {
      "cell_type": "markdown",
      "metadata": {
        "id": "rW7RrykiBN9q"
      },
      "source": [
        "<p style=\"font-family: helvetica,arial,sans-serif; font-size:2.0em;color:white; background-color: black\">&emsp;<b>Pedestrian Counting System - Past Hour (counts per minute) </b></p>\n",
        "    \n",
        "<p style=\"font-family: helvetica,arial,sans-serif; font-size:1.6em;color:black; background-color: #DDDDDD; text-align:justify\">&emsp;<b>Authored by: </b> Prathibha Kandawala and Jackson Tran</p>"
      ]
    },
    {
      "cell_type": "markdown",
      "metadata": {
        "id": "a-Cf1ou3BN9s"
      },
      "source": [
        "<p style=\"font-family: helvetica,arial,sans-serif; font-size:1.6em;color:white; background-color: black; text-align:right\"><b>&emsp;</p>\n",
        "\n",
        "<p style=\"font-family: helvetica,arial,sans-serif; font-size:1.6em;color:black; background-color: #DDDDDD; text-align:justify\">&emsp;<b>Level: </b>Intermediate&emsp;&emsp;<b>Pre-requisite Skills:</b>&emsp;&emsp;Python, Data analysis</p>"
      ]
    },
    {
      "cell_type": "markdown",
      "metadata": {
        "id": "dmEDYzePBN9s"
      },
      "source": [
        "<p style=\"font-family: helvetica,arial,sans-serif; font-size:1.6em;color:white; background-color: black\">&emsp;<b>Scenario</b>"
      ]
    },
    {
      "cell_type": "markdown",
      "metadata": {
        "id": "shEjrZUqBN9s"
      },
      "source": [
        "In the heart of Melbourne, one of Australia's most vibrant and bustling cities, a sophisticated Pedestrian Counting System has been deployed. This system utilizes an extensive network of sensors strategically placed across the city to capture real-time data on pedestrian movement. One specific use case of this system is the analysis of past-hour pedestrian counts per minute, providing valuable insights into the dynamic patterns of foot traffic in Melbourne's urban landscape."
      ]
    },
    {
      "cell_type": "markdown",
      "metadata": {
        "id": "s2uzUdtGBN9s"
      },
      "source": [
        "<p style=\"font-family: helvetica,arial,sans-serif; font-size:1.6em;color:white; background-color: black\">&emsp;<b>Objectives </b>"
      ]
    },
    {
      "cell_type": "markdown",
      "metadata": {
        "id": "OvVIilE6BN9t"
      },
      "source": [
        "The primary objective of this use case is to gain a deeper understanding of how pedestrian activity fluctuates on an hourly basis. By examining past-hour counts per minute, the City of Melbourne aims to:\n",
        "\n",
        "**Temporal Analysis:** Study pedestrian behavior throughout the day to identify peak hours, trends, and daily variations.\n",
        "\n",
        "**Event Impact:** Assess the impact of major events, weather conditions, or other external factors on pedestrian flow.\n",
        "\n",
        "**Resource Allocation:** Make informed decisions about the allocation of resources for urban planning, traffic management, and emergency response."
      ]
    },
    {
      "cell_type": "markdown",
      "metadata": {
        "id": "r_D2wBXPBN9t"
      },
      "source": [
        "<p style=\"font-family: helvetica,arial,sans-serif; font-size:1.6em;color:white; background-color: black\">&emsp;<b>Strategic benefits for City of Melbourne\n",
        "</b>"
      ]
    },
    {
      "cell_type": "markdown",
      "metadata": {
        "id": "DZZOFH7MBN9t"
      },
      "source": [
        "This use case offers several strategic benefits to the City of Melbourne and its stakeholders:\n",
        "\n",
        "**Evidence-Based Decision Making:** By leveraging real-time data, the city can make data-driven decisions for urban planning and management, enhancing the overall quality of life for its residents and visitors.\n",
        "\n",
        "**Improved Safety:** The analysis of pedestrian activity patterns supports efforts to enhance pedestrian safety and prioritize safety measures where they are most needed.\n",
        "\n",
        "**Efficient Resource Allocation:** The ability to identify peak pedestrian hours and factors influencing traffic flow aids in optimizing resource allocation, whether for events, transportation, or emergency response.\n",
        "\n",
        "**Economic Impact Assessment:** Understanding pedestrian behavior helps assess the economic impact of foot traffic on local businesses and facilitates strategic decisions related to retail development."
      ]
    },
    {
      "cell_type": "markdown",
      "metadata": {
        "id": "8zwLglfrBN9u"
      },
      "source": [
        "<p style=\"font-family: helvetica,arial,sans-serif; font-size:1.6em;color:white; background-color: black\">&emsp;<b>Background</b>"
      ]
    },
    {
      "cell_type": "markdown",
      "metadata": {
        "id": "jGrjF7jLBN9u"
      },
      "source": [
        "\n",
        " The Pedestrian Counting System in Melbourne is a testament to the city's commitment to creating a safe, vibrant, and dynamic urban environment. It consists of an extensive network of sensors strategically placed across the city, recording multi-directional pedestrian movements around the clock, without compromising individual privacy.\n",
        "\n",
        "These sensors transmit data to a central server, which is then made accessible to the public through an online visualization tool. This tool enables users to analyze and compare pedestrian volume data for different locations and times, including the past-hour counts per minute, offering a wealth of information for various stakeholders.\n",
        "\n",
        "In this use case, we delve into the significance of the \"Pedestrian Counting System - Past Hour (counts per minute)\" data and how it contributes to informed decision-making, safety enhancement, and economic prosperity in the City of Melbourne."
      ]
    },
    {
      "cell_type": "code",
      "execution_count": null,
      "metadata": {
        "vscode": {
          "languageId": "plaintext"
        }
      },
      "outputs": [],
      "source": [
        "import requests\n",
        "import pandas as pd\n",
        "import keys as keys"
      ]
    },
    {
      "cell_type": "code",
      "execution_count": null,
      "metadata": {
        "vscode": {
          "languageId": "plaintext"
        }
      },
      "outputs": [],
      "source": [
        "API_KEY = keys.API_KEY"
      ]
    },
    {
      "cell_type": "code",
      "execution_count": null,
      "metadata": {
        "vscode": {
          "languageId": "plaintext"
        }
      },
      "outputs": [],
      "source": [
        "BASE_URL = 'https://data.melbourne.vic.gov.au/api/explore/v2.1/catalog/datasets/'\n",
        "\n",
        "NUMBER_OF_RECORDS = 100\n",
        "#filter\n",
        "FILTERS = f'records?limit={NUMBER_OF_RECORDS}&offset=0&timezone=UTC'\n",
        "\n",
        "#Dataset name from URL\n",
        "PEDESTRIAN_LOCATION_DATASET = 'pedestrian-counting-system-sensor-locations'\n",
        "MICROCLIMATE_SENSOR_LOCATION_DATASET = 'microclimate-sensor-locations'\n",
        "\n",
        "#Dataset name from excel\n",
        "PEDESTRIAN_COUNTING_DATASET = pd.read_csv('PedestrianSafety/dependencies/pedestrian-counting-system-past-hour-counts-per-minute.csv')\n",
        "MICROCLIMATE_SENSOR_DATASET = pd.read_csv('PedestrianSafety/dependencies/microclimate-sensor-readings.csv')\n",
        "FOOTPATH_STEEPNESS_DATASET = pd.read_csv('PedestrianSafety/dependencies/footpath-steepness.csv')\n",
        "\n",
        "PEDESTRIAN_LOCATION_URL = f'{BASE_URL}{PEDESTRIAN_LOCATION_DATASET}/{FILTERS}'\n",
        "MICROCLIMATE_LOCATION_URL = f'{BASE_URL}{MICROCLIMATE_SENSOR_LOCATION_DATASET}/{FILTERS}'\n"
      ]
    },
    {
      "cell_type": "code",
      "execution_count": null,
      "metadata": {
        "vscode": {
          "languageId": "plaintext"
        }
      },
      "outputs": [],
      "source": [
        "s = requests.Session()"
      ]
    },
    {
      "cell_type": "code",
      "execution_count": null,
      "metadata": {
        "vscode": {
          "languageId": "plaintext"
        }
      },
      "outputs": [],
      "source": [
        "def get_data(base, data_url, size = 0):\n",
        "    filters = f'records?limit={10}&offset={size}&timezone=UTC'\n",
        "    url = f'{base}{data_url}/{filters}'\n",
        "    result=s.get(url +f'&apikey={API_KEY}')\n",
        "    result_json = result.json()\n",
        "    max_results = result_json['total_count']\n",
        "    records = result_json['results']\n",
        "    records_df = pd.json_normalize(records)\n",
        "    \n",
        "    column_names = records_df.columns.values.tolist()\n",
        "    \n",
        "    next_url = None\n",
        "    if size != max_results:\n",
        "        \n",
        "        size = records_df.shape[0]\n",
        "        next_url = f'{base}{data_url}/{filters}'\n",
        "    return [records_df, next_url, column_names]"
      ]
    },
    {
      "cell_type": "code",
      "execution_count": null,
      "metadata": {
        "vscode": {
          "languageId": "plaintext"
        }
      },
      "outputs": [],
      "source": [
        "Pesestrian_df_new, Pedestrian_url_next, Pedestrian_column_names = get_data(BASE_URL,PEDESTRIAN_LOCATION_DATASET)\n",
        "PEDESTRIAN_LOCATION_DF = pd.DataFrame(columns=Pedestrian_column_names)"
      ]
    },
    {
      "cell_type": "code",
      "execution_count": null,
      "metadata": {
        "vscode": {
          "languageId": "plaintext"
        }
      },
      "outputs": [],
      "source": [
        "def add_to_dataframe(dataframe,new_data):\n",
        "    df = pd.concat([dataframe,new_data])\n",
        "    return df"
      ]
    },
    {
      "cell_type": "code",
      "execution_count": null,
      "metadata": {
        "vscode": {
          "languageId": "plaintext"
        }
      },
      "outputs": [],
      "source": [
        "PEDESTRIAN_LOCATION_DF = add_to_dataframe(PEDESTRIAN_LOCATION_DF, Pesestrian_df_new)\n"
      ]
    },
    {
      "cell_type": "code",
      "execution_count": null,
      "metadata": {
        "vscode": {
          "languageId": "plaintext"
        }
      },
      "outputs": [],
      "source": [
        "while Pedestrian_url_next != None:\n",
        "    Pesestrian_df_new, Pedestrian_url_next, Pedestrian_column_names = get_data(BASE_URL, PEDESTRIAN_LOCATION_DATASET,PEDESTRIAN_LOCATION_DF.shape[0])\n",
        "    PEDESTRIAN_LOCATION_DF = add_to_dataframe(PEDESTRIAN_LOCATION_DF, Pesestrian_df_new)\n"
      ]
    },
    {
      "cell_type": "code",
      "execution_count": null,
      "metadata": {
        "vscode": {
          "languageId": "plaintext"
        }
      },
      "outputs": [],
      "source": [
        "PEDESTRIAN_LOCATION_DF.head()"
      ]
    },
    {
      "cell_type": "code",
      "execution_count": null,
      "metadata": {
        "vscode": {
          "languageId": "plaintext"
        }
      },
      "outputs": [],
      "source": [
        "PEDESTRIAN_LOCATION_DF.shape"
      ]
    },
    {
      "cell_type": "code",
      "execution_count": null,
      "metadata": {
        "vscode": {
          "languageId": "plaintext"
        }
      },
      "outputs": [],
      "source": [
        "Microclimate_df_new, Microclimate_url_next, Microclimate_column_names = get_data(BASE_URL,MICROCLIMATE_SENSOR_LOCATION_DATASET)\n",
        "MICROCLIMATE_LOCATION_DF = pd.DataFrame(columns=Microclimate_column_names)"
      ]
    },
    {
      "cell_type": "code",
      "execution_count": null,
      "metadata": {
        "vscode": {
          "languageId": "plaintext"
        }
      },
      "outputs": [],
      "source": [
        "MICROCLIMATE_LOCATION_DF = add_to_dataframe(MICROCLIMATE_LOCATION_DF, Microclimate_df_new)"
      ]
    },
    {
      "cell_type": "code",
      "execution_count": null,
      "metadata": {
        "vscode": {
          "languageId": "plaintext"
        }
      },
      "outputs": [],
      "source": [
        "while Microclimate_url_next != None:\n",
        "    Microclimate_df_new, Microclimate_url_next, Microclimate_column_names = get_data(BASE_URL, MICROCLIMATE_SENSOR_LOCATION_DATASET,MICROCLIMATE_LOCATION_DF.shape[0])\n",
        "    MICROCLIMATE_LOCATION_DF = add_to_dataframe(MICROCLIMATE_LOCATION_DF, Microclimate_df_new)"
      ]
    },
    {
      "cell_type": "code",
      "execution_count": null,
      "metadata": {
        "vscode": {
          "languageId": "plaintext"
        }
      },
      "outputs": [],
      "source": [
        "MICROCLIMATE_LOCATION_DF.head()"
      ]
    },
    {
      "cell_type": "code",
      "execution_count": null,
      "metadata": {
        "vscode": {
          "languageId": "plaintext"
        }
      },
      "outputs": [],
      "source": [
        "MICROCLIMATE_LOCATION_DF.shape"
      ]
    },
    {
      "cell_type": "code",
      "execution_count": null,
      "metadata": {
        "vscode": {
          "languageId": "plaintext"
        }
      },
      "outputs": [],
      "source": [
        "PEDESTRIAN_COUNTING_DATASET.head()"
      ]
    },
    {
      "cell_type": "code",
      "execution_count": null,
      "metadata": {
        "vscode": {
          "languageId": "plaintext"
        }
      },
      "outputs": [],
      "source": [
        "PEDESTRIAN_COUNTING_DATASET.shape"
      ]
    },
    {
      "cell_type": "code",
      "execution_count": null,
      "metadata": {
        "vscode": {
          "languageId": "plaintext"
        }
      },
      "outputs": [],
      "source": [
        "MICROCLIMATE_SENSOR_DATASET.head()"
      ]
    },
    {
      "cell_type": "code",
      "execution_count": null,
      "metadata": {
        "vscode": {
          "languageId": "plaintext"
        }
      },
      "outputs": [],
      "source": [
        "MICROCLIMATE_SENSOR_DATASET.shape"
      ]
    },
    {
      "cell_type": "code",
      "execution_count": null,
      "metadata": {
        "vscode": {
          "languageId": "plaintext"
        }
      },
      "outputs": [],
      "source": [
        "FOOTPATH_STEEPNESS_DATASET.head()"
      ]
    },
    {
      "cell_type": "code",
      "execution_count": null,
      "metadata": {
        "vscode": {
          "languageId": "plaintext"
        }
      },
      "outputs": [],
      "source": [
        "FOOTPATH_STEEPNESS_DATASET.shape"
      ]
    }
  ],
  "metadata": {
    "accelerator": "TPU",
    "colab": {
      "collapsed_sections": [],
      "machine_shape": "hm",
      "provenance": []
    },
    "kernelspec": {
      "display_name": "Python 3",
      "language": "python",
      "name": "python3"
    },
    "language_info": {
      "codemirror_mode": {
        "name": "ipython",
        "version": 3
      },
      "file_extension": ".py",
      "mimetype": "text/x-python",
      "name": "python",
      "nbconvert_exporter": "python",
      "pygments_lexer": "ipython3",
      "version": "3.8.13"
    }
  },
  "nbformat": 4,
  "nbformat_minor": 0
}
