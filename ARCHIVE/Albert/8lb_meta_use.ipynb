{
 "cells": [
  {
   "cell_type": "code",
   "execution_count": 3,
   "metadata": {},
   "outputs": [
    {
     "data": {
      "text/plain": [
       "(1768, 7)"
      ]
     },
     "execution_count": 3,
     "metadata": {},
     "output_type": "execute_result"
    }
   ],
   "source": [
    "import pandas as pd\n",
    "from d2i_tools2 import getMeta\n",
    "import warnings\n",
    "warnings.simplefilter(\"ignore\")\n",
    "warnings.filterwarnings('ignore')  # from LDSA .. try and compare this with above\n",
    "\n",
    "# read my logged meta data into dataframe\n",
    "df = pd.read_csv('mac_/datasets/meta_log.csv')\n",
    "\n",
    "# shape of this dataframe\n",
    "df.shape"
   ]
  },
  {
   "cell_type": "markdown",
   "metadata": {},
   "source": [
    "## [01] Function to get daily log of total page views / downloads for a specific dataset"
   ]
  },
  {
   "cell_type": "code",
   "execution_count": 4,
   "metadata": {},
   "outputs": [
    {
     "name": "stdout",
     "output_type": "stream",
     "text": [
      "Returning daily log of page views and downloads for dataset b2ak-trbp ...\n"
     ]
    },
    {
     "data": {
      "text/html": [
       "<div>\n",
       "<style scoped>\n",
       "    .dataframe tbody tr th:only-of-type {\n",
       "        vertical-align: middle;\n",
       "    }\n",
       "\n",
       "    .dataframe tbody tr th {\n",
       "        vertical-align: top;\n",
       "    }\n",
       "\n",
       "    .dataframe thead th {\n",
       "        text-align: right;\n",
       "    }\n",
       "</style>\n",
       "<table border=\"1\" class=\"dataframe\">\n",
       "  <thead>\n",
       "    <tr style=\"text-align: right;\">\n",
       "      <th></th>\n",
       "      <th>total_pageviews</th>\n",
       "      <th>total_downloads</th>\n",
       "    </tr>\n",
       "    <tr>\n",
       "      <th>date</th>\n",
       "      <th></th>\n",
       "      <th></th>\n",
       "    </tr>\n",
       "  </thead>\n",
       "  <tbody>\n",
       "    <tr>\n",
       "      <th>2021-11-21</th>\n",
       "      <td>73859</td>\n",
       "      <td>8834</td>\n",
       "    </tr>\n",
       "    <tr>\n",
       "      <th>2021-11-22</th>\n",
       "      <td>73870</td>\n",
       "      <td>8834</td>\n",
       "    </tr>\n",
       "    <tr>\n",
       "      <th>2021-11-23</th>\n",
       "      <td>73894</td>\n",
       "      <td>8836</td>\n",
       "    </tr>\n",
       "    <tr>\n",
       "      <th>2021-11-24</th>\n",
       "      <td>73910</td>\n",
       "      <td>8836</td>\n",
       "    </tr>\n",
       "    <tr>\n",
       "      <th>2021-11-25</th>\n",
       "      <td>73925</td>\n",
       "      <td>8837</td>\n",
       "    </tr>\n",
       "  </tbody>\n",
       "</table>\n",
       "</div>"
      ],
      "text/plain": [
       "            total_pageviews  total_downloads\n",
       "date                                        \n",
       "2021-11-21            73859             8834\n",
       "2021-11-22            73870             8834\n",
       "2021-11-23            73894             8836\n",
       "2021-11-24            73910             8836\n",
       "2021-11-25            73925             8837"
      ]
     },
     "execution_count": 4,
     "metadata": {},
     "output_type": "execute_result"
    }
   ],
   "source": [
    "# function returns daily log of total page views and downloads\n",
    "# for the specified dataset between the specified start and end dates\n",
    "\n",
    "def getMetaOneLog(metalogdf, id, start, end):\n",
    "    cols = ['id', 'pv_total', 'download_count', 'log_time']\n",
    "    df1 = metalogdf[cols].copy()\n",
    "    df1['log_time'] = pd.to_datetime(df1['log_time'].str[0:10], format=\"%Y-%m-%d\")  \n",
    "    df1 = df1.rename(columns={'pv_total':'total_pageviews', 'download_count':'total_downloads', 'log_time':'date'})\n",
    "    df1 = df1.set_index(['date'])  # set date index\n",
    "    df1 = df1[start:end]  # get data between start and end dates\n",
    "    df1 = df1[df1['id'] == id].drop(columns=['id'])\n",
    "    print(f'Returning daily log of page views and downloads for dataset {id} ...')\n",
    "    return df1\n",
    "\n",
    "getMetaOneLog(df, 'b2ak-trbp', '2021-11-21', '2021-11-25')"
   ]
  },
  {
   "cell_type": "markdown",
   "metadata": {},
   "source": [
    "## [02] Function to get dataset page views / downloads between specific dates"
   ]
  },
  {
   "cell_type": "code",
   "execution_count": 7,
   "metadata": {},
   "outputs": [],
   "source": [
    "def getMetaTrends(metalogdf, start, end):\n",
    "    # prep meta data log (df1) to extract trends from\n",
    "    cols = ['id', 'pv_total', 'download_count', 'log_time']\n",
    "    df1 = metalogdf[cols].copy()\n",
    "    df1['log_time'] = pd.to_datetime(df1['log_time'].str[0:10], format=\"%Y-%m-%d\")  \n",
    "    df1 = df1.rename(columns={'pv_total':'pv', 'download_count':'dl', 'log_time':'date'})\n",
    "    df1 = df1.set_index(['date'])  # set date index\n",
    "    # for each dataset id, extract pageviews and downloads between 'start' and 'end' dates\n",
    "    # into df2\n",
    "    lid = []\n",
    "    lpv = []\n",
    "    ldl = []\n",
    "    for id in df1['id'].unique():\n",
    "        mask = df1['id'] == id\n",
    "        pv = df1[mask][end:end]['pv'][0] - df1[mask][start:start]['pv'][0]\n",
    "        dl = df1[mask][end:end]['dl'][0] - df1[mask][start:start]['dl'][0]\n",
    "        lid.append(id)\n",
    "        lpv.append(pv)\n",
    "        ldl.append(dl)\n",
    "    df2 = pd.DataFrame({'id':lid, 'pageviews':lpv, 'downloads':ldl})\n",
    "    # read meta dataset id and name (into df3)\n",
    "    df3 = getMeta()[['id','name']]\n",
    "    df4 = df3.merge(df2, on='id')  # df4 is final df\n",
    "    return df4"
   ]
  },
  {
   "cell_type": "markdown",
   "metadata": {},
   "source": [
    "## [03] Between the specified dates, show top n datasets"
   ]
  },
  {
   "cell_type": "code",
   "execution_count": 11,
   "metadata": {},
   "outputs": [
    {
     "name": "stderr",
     "output_type": "stream",
     "text": [
      "WARNING:root:Requests made without an app_token will be subject to strict throttling limits.\n"
     ]
    }
   ],
   "source": [
    "metatrendsdf = getMetaTrends(df,'2021-11-19', '2021-11-23')\n",
    "n = 3"
   ]
  },
  {
   "cell_type": "markdown",
   "metadata": {},
   "source": [
    "### Show top n datasets by page views"
   ]
  },
  {
   "cell_type": "code",
   "execution_count": 12,
   "metadata": {},
   "outputs": [
    {
     "data": {
      "text/html": [
       "<div>\n",
       "<style scoped>\n",
       "    .dataframe tbody tr th:only-of-type {\n",
       "        vertical-align: middle;\n",
       "    }\n",
       "\n",
       "    .dataframe tbody tr th {\n",
       "        vertical-align: top;\n",
       "    }\n",
       "\n",
       "    .dataframe thead th {\n",
       "        text-align: right;\n",
       "    }\n",
       "</style>\n",
       "<table border=\"1\" class=\"dataframe\">\n",
       "  <thead>\n",
       "    <tr style=\"text-align: right;\">\n",
       "      <th></th>\n",
       "      <th>id</th>\n",
       "      <th>name</th>\n",
       "      <th>pageviews</th>\n",
       "      <th>downloads</th>\n",
       "    </tr>\n",
       "  </thead>\n",
       "  <tbody>\n",
       "    <tr>\n",
       "      <th>5</th>\n",
       "      <td>i8px-csib</td>\n",
       "      <td>median house prices - by type and sale year</td>\n",
       "      <td>126</td>\n",
       "      <td>6</td>\n",
       "    </tr>\n",
       "    <tr>\n",
       "      <th>4</th>\n",
       "      <td>7q9g-yyvg</td>\n",
       "      <td>pay stay zones linked to street segments</td>\n",
       "      <td>89</td>\n",
       "      <td>8</td>\n",
       "    </tr>\n",
       "    <tr>\n",
       "      <th>3</th>\n",
       "      <td>vh2v-4nfs</td>\n",
       "      <td>on-street parking bay sensors</td>\n",
       "      <td>74</td>\n",
       "      <td>1192</td>\n",
       "    </tr>\n",
       "  </tbody>\n",
       "</table>\n",
       "</div>"
      ],
      "text/plain": [
       "          id                                         name  pageviews  \\\n",
       "5  i8px-csib  median house prices - by type and sale year        126   \n",
       "4  7q9g-yyvg     pay stay zones linked to street segments         89   \n",
       "3  vh2v-4nfs                on-street parking bay sensors         74   \n",
       "\n",
       "   downloads  \n",
       "5          6  \n",
       "4          8  \n",
       "3       1192  "
      ]
     },
     "execution_count": 12,
     "metadata": {},
     "output_type": "execute_result"
    }
   ],
   "source": [
    "metatrendsdf.sort_values(by='pageviews', ascending=False)[0:n]"
   ]
  },
  {
   "cell_type": "markdown",
   "metadata": {},
   "source": [
    "### Show top n datasets by downloads"
   ]
  },
  {
   "cell_type": "code",
   "execution_count": 13,
   "metadata": {},
   "outputs": [
    {
     "data": {
      "text/html": [
       "<div>\n",
       "<style scoped>\n",
       "    .dataframe tbody tr th:only-of-type {\n",
       "        vertical-align: middle;\n",
       "    }\n",
       "\n",
       "    .dataframe tbody tr th {\n",
       "        vertical-align: top;\n",
       "    }\n",
       "\n",
       "    .dataframe thead th {\n",
       "        text-align: right;\n",
       "    }\n",
       "</style>\n",
       "<table border=\"1\" class=\"dataframe\">\n",
       "  <thead>\n",
       "    <tr style=\"text-align: right;\">\n",
       "      <th></th>\n",
       "      <th>id</th>\n",
       "      <th>name</th>\n",
       "      <th>pageviews</th>\n",
       "      <th>downloads</th>\n",
       "    </tr>\n",
       "  </thead>\n",
       "  <tbody>\n",
       "    <tr>\n",
       "      <th>11</th>\n",
       "      <td>ntht-5rk7</td>\n",
       "      <td>on-street car park bay restrictions</td>\n",
       "      <td>45</td>\n",
       "      <td>1308</td>\n",
       "    </tr>\n",
       "    <tr>\n",
       "      <th>3</th>\n",
       "      <td>vh2v-4nfs</td>\n",
       "      <td>on-street parking bay sensors</td>\n",
       "      <td>74</td>\n",
       "      <td>1192</td>\n",
       "    </tr>\n",
       "    <tr>\n",
       "      <th>28</th>\n",
       "      <td>d6mv-s43h</td>\n",
       "      <td>pedestrian counting system - past hour (counts...</td>\n",
       "      <td>7</td>\n",
       "      <td>97</td>\n",
       "    </tr>\n",
       "  </tbody>\n",
       "</table>\n",
       "</div>"
      ],
      "text/plain": [
       "           id                                               name  pageviews  \\\n",
       "11  ntht-5rk7                on-street car park bay restrictions         45   \n",
       "3   vh2v-4nfs                      on-street parking bay sensors         74   \n",
       "28  d6mv-s43h  pedestrian counting system - past hour (counts...          7   \n",
       "\n",
       "    downloads  \n",
       "11       1308  \n",
       "3        1192  \n",
       "28         97  "
      ]
     },
     "execution_count": 13,
     "metadata": {},
     "output_type": "execute_result"
    }
   ],
   "source": [
    "metatrendsdf.sort_values(by='downloads', ascending=False)[0:n]"
   ]
  },
  {
   "cell_type": "code",
   "execution_count": null,
   "metadata": {},
   "outputs": [],
   "source": []
  }
 ],
 "metadata": {
  "interpreter": {
   "hash": "3dd10ef1dc108bc3f5a21fe2bd1eeac1435d38bb62535d1a3ea3dcda70f078c2"
  },
  "kernelspec": {
   "display_name": "Python 3",
   "language": "python",
   "name": "python3"
  },
  "language_info": {
   "codemirror_mode": {
    "name": "ipython",
    "version": 3
   },
   "file_extension": ".py",
   "mimetype": "text/x-python",
   "name": "python",
   "nbconvert_exporter": "python",
   "pygments_lexer": "ipython3",
   "version": "3.7.12"
  }
 },
 "nbformat": 4,
 "nbformat_minor": 2
}
