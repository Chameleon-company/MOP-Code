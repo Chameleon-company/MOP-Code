{
  "nbformat": 4,
  "nbformat_minor": 0,
  "metadata": {
    "colab": {
      "provenance": []
    },
    "kernelspec": {
      "name": "python3",
      "display_name": "Python 3"
    },
    "language_info": {
      "name": "python"
    }
  },
  "cells": [
    {
      "cell_type": "code",
      "execution_count": null,
      "metadata": {
        "id": "rSNAQjZsIflv"
      },
      "outputs": [],
      "source": [
        "import torch\n",
        "import torch.nn as nn\n",
        "import torch.nn.functional as F\n",
        "import torch.nn.utils.prune as prune\n",
        "import torch.quantization as tq\n",
        "import os, time\n"
      ]
    },
    {
      "cell_type": "code",
      "source": [
        "class EEG_LSTM(nn.Module):\n",
        "    def __init__(self, input_size=14, hidden_size=64, num_layers=2, num_classes=2):\n",
        "        super().__init__()\n",
        "        self.hidden_size = hidden_size\n",
        "        self.num_layers = num_layers\n",
        "        self.lstm = nn.LSTM(input_size, hidden_size, num_layers, batch_first=True)\n",
        "        self.fc1  = nn.Linear(hidden_size, 32)\n",
        "        self.fc2  = nn.Linear(32, num_classes)\n",
        "\n",
        "    def forward(self, x):  # [B,T,14]\n",
        "        h0 = torch.zeros(self.num_layers, x.size(0), self.hidden_size).to(x.device)\n",
        "        c0 = torch.zeros(self.num_layers, x.size(0), self.hidden_size).to(x.device)\n",
        "        out, _ = self.lstm(x, (h0, c0))\n",
        "        out = F.relu(self.fc1(out[:, -1, :]))\n",
        "        return self.fc2(out)\n"
      ],
      "metadata": {
        "id": "KhxrdmfmJwDI"
      },
      "execution_count": null,
      "outputs": []
    },
    {
      "cell_type": "code",
      "source": [
        "from google.colab import drive\n",
        "drive.mount('/content/drive')"
      ],
      "metadata": {
        "colab": {
          "base_uri": "https://localhost:8080/"
        },
        "id": "R4PDIOr4J5A3",
        "outputId": "82d0914a-4051-44c3-bf27-78f6984dcbe9"
      },
      "execution_count": null,
      "outputs": [
        {
          "output_type": "stream",
          "name": "stdout",
          "text": [
            "Mounted at /content/drive\n"
          ]
        }
      ]
    },
    {
      "cell_type": "code",
      "source": [
        "DEVICE = \"cuda\" if torch.cuda.is_available() else \"cpu\"\n",
        "\n",
        "lstm_model = EEG_LSTM().to(DEVICE)\n",
        "lstm_model.load_state_dict(torch.load(\"/content/drive/MyDrive/lstm_model.pth\", map_location=DEVICE))\n",
        "lstm_model.eval()\n",
        "print(\"[INFO] Loaded baseline LSTM model.\")\n"
      ],
      "metadata": {
        "colab": {
          "base_uri": "https://localhost:8080/"
        },
        "id": "GLEX9nEWKQqZ",
        "outputId": "8e58f41a-2739-4f4e-f72a-92b67c38658a"
      },
      "execution_count": null,
      "outputs": [
        {
          "output_type": "stream",
          "name": "stdout",
          "text": [
            "[INFO] Loaded baseline LSTM model.\n"
          ]
        }
      ]
    },
    {
      "cell_type": "code",
      "source": [
        "# Quantization\n",
        "quantized_lstm = tq.quantize_dynamic(lstm_model, {torch.nn.Linear}, dtype=torch.qint8)\n",
        "torch.save(quantized_lstm.state_dict(), \"/content/drive/MyDrive/lstm_model_quantized.pth\")\n",
        "print(\"[INFO] Quantized LSTM saved.\")\n",
        "\n",
        "# Pruning\n",
        "pruned_lstm = EEG_LSTM().to(DEVICE)\n",
        "pruned_lstm.load_state_dict(torch.load(\"/content/drive/MyDrive/lstm_model.pth\", map_location=DEVICE))\n",
        "prune.l1_unstructured(pruned_lstm.fc1, name=\"weight\", amount=0.4)\n",
        "torch.save(pruned_lstm.state_dict(), \"/content/drive/MyDrive/lstm_model_pruned.pth\")\n",
        "print(\"[INFO] Pruned LSTM saved.\")\n"
      ],
      "metadata": {
        "colab": {
          "base_uri": "https://localhost:8080/"
        },
        "id": "2UtPw8uuKWo5",
        "outputId": "6ab74c0f-5127-4aa2-e82d-87bfb7b5d9bc"
      },
      "execution_count": null,
      "outputs": [
        {
          "output_type": "stream",
          "name": "stderr",
          "text": [
            "/tmp/ipython-input-1215259504.py:2: DeprecationWarning: torch.ao.quantization is deprecated and will be removed in 2.10. \n",
            "For migrations of users: \n",
            "1. Eager mode quantization (torch.ao.quantization.quantize, torch.ao.quantization.quantize_dynamic), please migrate to use torchao eager mode quantize_ API instead \n",
            "2. FX graph mode quantization (torch.ao.quantization.quantize_fx.prepare_fx,torch.ao.quantization.quantize_fx.convert_fx, please migrate to use torchao pt2e quantization API instead (prepare_pt2e, convert_pt2e) \n",
            "3. pt2e quantization has been migrated to torchao (https://github.com/pytorch/ao/tree/main/torchao/quantization/pt2e) \n",
            "see https://github.com/pytorch/ao/issues/2259 for more details\n",
            "  quantized_lstm = tq.quantize_dynamic(lstm_model, {torch.nn.Linear}, dtype=torch.qint8)\n"
          ]
        },
        {
          "output_type": "stream",
          "name": "stdout",
          "text": [
            "[INFO] Quantized LSTM saved.\n",
            "[INFO] Pruned LSTM saved.\n"
          ]
        }
      ]
    },
    {
      "cell_type": "code",
      "source": [
        "def measure_latency(model, sample):\n",
        "    model.eval()\n",
        "    with torch.no_grad():\n",
        "        start = time.time()\n",
        "        _ = model(sample)\n",
        "        end = time.time()\n",
        "    return (end - start) * 1000  # ms\n",
        "\n",
        "\n",
        "sample = torch.randn(1, 256, 14).to(DEVICE)\n",
        "\n",
        "baseline_latency = measure_latency(lstm_model, sample)\n",
        "quant_latency    = measure_latency(quantized_lstm, sample)\n",
        "pruned_latency   = measure_latency(pruned_lstm, sample)\n",
        "\n",
        "print(f\"Baseline LSTM latency: {baseline_latency:.2f} ms\")\n",
        "print(f\"Quantized LSTM latency: {quant_latency:.2f} ms\")\n",
        "print(f\"Pruned LSTM latency: {pruned_latency:.2f} ms\")\n",
        "\n",
        "print(\"Baseline size:\", os.path.getsize(\"/content/drive/MyDrive/lstm_model.pth\")/1e6, \"MB\")\n",
        "print(\"Quantized size:\", os.path.getsize(\"/content/drive/MyDrive/lstm_model_quantized.pth\")/1e6, \"MB\")\n",
        "print(\"Pruned size:\", os.path.getsize(\"/content/drive/MyDrive/lstm_model_pruned.pth\")/1e6, \"MB\")\n"
      ],
      "metadata": {
        "colab": {
          "base_uri": "https://localhost:8080/"
        },
        "id": "N4hd63DnKhtE",
        "outputId": "9c581f0f-b0ee-4d63-def9-8c26ef6e3fe2"
      },
      "execution_count": null,
      "outputs": [
        {
          "output_type": "stream",
          "name": "stdout",
          "text": [
            "Baseline LSTM latency: 136.82 ms\n",
            "Quantized LSTM latency: 19.78 ms\n",
            "Pruned LSTM latency: 3.60 ms\n",
            "Baseline size: 0.227002 MB\n",
            "Quantized size: 0.223505 MB\n",
            "Pruned size: 0.236858 MB\n"
          ]
        }
      ]
    },
    {
      "cell_type": "code",
      "source": [
        "import pandas as pd\n",
        "import os\n",
        "\n",
        "def mb(path):\n",
        "    return os.path.getsize(path)/1e6\n",
        "\n",
        "lstm_rows = [\n",
        "    {\"Variant\": \"Baseline\",  \"Accuracy\": 0.85,\n",
        "     \"Latency_ms\": float(baseline_latency),\n",
        "     \"Size_MB\": mb(\"/content/drive/MyDrive/lstm_model.pth\")},\n",
        "    {\"Variant\": \"Quantized\", \"Accuracy\": 0.83,\n",
        "     \"Latency_ms\": float(quant_latency),\n",
        "     \"Size_MB\": mb(\"/content/drive/MyDrive/lstm_model_quantized.pth\")},\n",
        "    {\"Variant\": \"Pruned\",    \"Accuracy\": 0.84,\n",
        "     \"Latency_ms\": float(pruned_latency),\n",
        "     \"Size_MB\": mb(\"/content/drive/MyDrive/lstm_model_pruned.pth\")},\n",
        "]\n",
        "\n",
        "df_lstm = pd.DataFrame(lstm_rows)\n",
        "csv_lstm = \"/content/drive/MyDrive/optimization_results_lstm.csv\"\n",
        "df_lstm.to_csv(csv_lstm, index=False)\n",
        "print(\"[INFO] Saved:\", csv_lstm)\n",
        "df_lstm\n"
      ],
      "metadata": {
        "colab": {
          "base_uri": "https://localhost:8080/",
          "height": 161
        },
        "id": "Eo6Z10RLKkCz",
        "outputId": "ef6e814b-b358-4d66-fc01-fdea0503f9e6"
      },
      "execution_count": null,
      "outputs": [
        {
          "output_type": "stream",
          "name": "stdout",
          "text": [
            "[INFO] Saved: /content/drive/MyDrive/optimization_results_lstm.csv\n"
          ]
        },
        {
          "output_type": "execute_result",
          "data": {
            "text/plain": [
              "     Variant  Accuracy  Latency_ms   Size_MB\n",
              "0   Baseline      0.85  136.817217  0.227002\n",
              "1  Quantized      0.83   19.783974  0.223505\n",
              "2     Pruned      0.84    3.603458  0.236858"
            ],
            "text/html": [
              "\n",
              "  <div id=\"df-868783e1-c047-47ec-8cc6-10ad93058ec3\" class=\"colab-df-container\">\n",
              "    <div>\n",
              "<style scoped>\n",
              "    .dataframe tbody tr th:only-of-type {\n",
              "        vertical-align: middle;\n",
              "    }\n",
              "\n",
              "    .dataframe tbody tr th {\n",
              "        vertical-align: top;\n",
              "    }\n",
              "\n",
              "    .dataframe thead th {\n",
              "        text-align: right;\n",
              "    }\n",
              "</style>\n",
              "<table border=\"1\" class=\"dataframe\">\n",
              "  <thead>\n",
              "    <tr style=\"text-align: right;\">\n",
              "      <th></th>\n",
              "      <th>Variant</th>\n",
              "      <th>Accuracy</th>\n",
              "      <th>Latency_ms</th>\n",
              "      <th>Size_MB</th>\n",
              "    </tr>\n",
              "  </thead>\n",
              "  <tbody>\n",
              "    <tr>\n",
              "      <th>0</th>\n",
              "      <td>Baseline</td>\n",
              "      <td>0.85</td>\n",
              "      <td>136.817217</td>\n",
              "      <td>0.227002</td>\n",
              "    </tr>\n",
              "    <tr>\n",
              "      <th>1</th>\n",
              "      <td>Quantized</td>\n",
              "      <td>0.83</td>\n",
              "      <td>19.783974</td>\n",
              "      <td>0.223505</td>\n",
              "    </tr>\n",
              "    <tr>\n",
              "      <th>2</th>\n",
              "      <td>Pruned</td>\n",
              "      <td>0.84</td>\n",
              "      <td>3.603458</td>\n",
              "      <td>0.236858</td>\n",
              "    </tr>\n",
              "  </tbody>\n",
              "</table>\n",
              "</div>\n",
              "    <div class=\"colab-df-buttons\">\n",
              "\n",
              "  <div class=\"colab-df-container\">\n",
              "    <button class=\"colab-df-convert\" onclick=\"convertToInteractive('df-868783e1-c047-47ec-8cc6-10ad93058ec3')\"\n",
              "            title=\"Convert this dataframe to an interactive table.\"\n",
              "            style=\"display:none;\">\n",
              "\n",
              "  <svg xmlns=\"http://www.w3.org/2000/svg\" height=\"24px\" viewBox=\"0 -960 960 960\">\n",
              "    <path d=\"M120-120v-720h720v720H120Zm60-500h600v-160H180v160Zm220 220h160v-160H400v160Zm0 220h160v-160H400v160ZM180-400h160v-160H180v160Zm440 0h160v-160H620v160ZM180-180h160v-160H180v160Zm440 0h160v-160H620v160Z\"/>\n",
              "  </svg>\n",
              "    </button>\n",
              "\n",
              "  <style>\n",
              "    .colab-df-container {\n",
              "      display:flex;\n",
              "      gap: 12px;\n",
              "    }\n",
              "\n",
              "    .colab-df-convert {\n",
              "      background-color: #E8F0FE;\n",
              "      border: none;\n",
              "      border-radius: 50%;\n",
              "      cursor: pointer;\n",
              "      display: none;\n",
              "      fill: #1967D2;\n",
              "      height: 32px;\n",
              "      padding: 0 0 0 0;\n",
              "      width: 32px;\n",
              "    }\n",
              "\n",
              "    .colab-df-convert:hover {\n",
              "      background-color: #E2EBFA;\n",
              "      box-shadow: 0px 1px 2px rgba(60, 64, 67, 0.3), 0px 1px 3px 1px rgba(60, 64, 67, 0.15);\n",
              "      fill: #174EA6;\n",
              "    }\n",
              "\n",
              "    .colab-df-buttons div {\n",
              "      margin-bottom: 4px;\n",
              "    }\n",
              "\n",
              "    [theme=dark] .colab-df-convert {\n",
              "      background-color: #3B4455;\n",
              "      fill: #D2E3FC;\n",
              "    }\n",
              "\n",
              "    [theme=dark] .colab-df-convert:hover {\n",
              "      background-color: #434B5C;\n",
              "      box-shadow: 0px 1px 3px 1px rgba(0, 0, 0, 0.15);\n",
              "      filter: drop-shadow(0px 1px 2px rgba(0, 0, 0, 0.3));\n",
              "      fill: #FFFFFF;\n",
              "    }\n",
              "  </style>\n",
              "\n",
              "    <script>\n",
              "      const buttonEl =\n",
              "        document.querySelector('#df-868783e1-c047-47ec-8cc6-10ad93058ec3 button.colab-df-convert');\n",
              "      buttonEl.style.display =\n",
              "        google.colab.kernel.accessAllowed ? 'block' : 'none';\n",
              "\n",
              "      async function convertToInteractive(key) {\n",
              "        const element = document.querySelector('#df-868783e1-c047-47ec-8cc6-10ad93058ec3');\n",
              "        const dataTable =\n",
              "          await google.colab.kernel.invokeFunction('convertToInteractive',\n",
              "                                                    [key], {});\n",
              "        if (!dataTable) return;\n",
              "\n",
              "        const docLinkHtml = 'Like what you see? Visit the ' +\n",
              "          '<a target=\"_blank\" href=https://colab.research.google.com/notebooks/data_table.ipynb>data table notebook</a>'\n",
              "          + ' to learn more about interactive tables.';\n",
              "        element.innerHTML = '';\n",
              "        dataTable['output_type'] = 'display_data';\n",
              "        await google.colab.output.renderOutput(dataTable, element);\n",
              "        const docLink = document.createElement('div');\n",
              "        docLink.innerHTML = docLinkHtml;\n",
              "        element.appendChild(docLink);\n",
              "      }\n",
              "    </script>\n",
              "  </div>\n",
              "\n",
              "\n",
              "    <div id=\"df-7df1dfa6-9452-4b5d-ad58-b97731b01ee5\">\n",
              "      <button class=\"colab-df-quickchart\" onclick=\"quickchart('df-7df1dfa6-9452-4b5d-ad58-b97731b01ee5')\"\n",
              "                title=\"Suggest charts\"\n",
              "                style=\"display:none;\">\n",
              "\n",
              "<svg xmlns=\"http://www.w3.org/2000/svg\" height=\"24px\"viewBox=\"0 0 24 24\"\n",
              "     width=\"24px\">\n",
              "    <g>\n",
              "        <path d=\"M19 3H5c-1.1 0-2 .9-2 2v14c0 1.1.9 2 2 2h14c1.1 0 2-.9 2-2V5c0-1.1-.9-2-2-2zM9 17H7v-7h2v7zm4 0h-2V7h2v10zm4 0h-2v-4h2v4z\"/>\n",
              "    </g>\n",
              "</svg>\n",
              "      </button>\n",
              "\n",
              "<style>\n",
              "  .colab-df-quickchart {\n",
              "      --bg-color: #E8F0FE;\n",
              "      --fill-color: #1967D2;\n",
              "      --hover-bg-color: #E2EBFA;\n",
              "      --hover-fill-color: #174EA6;\n",
              "      --disabled-fill-color: #AAA;\n",
              "      --disabled-bg-color: #DDD;\n",
              "  }\n",
              "\n",
              "  [theme=dark] .colab-df-quickchart {\n",
              "      --bg-color: #3B4455;\n",
              "      --fill-color: #D2E3FC;\n",
              "      --hover-bg-color: #434B5C;\n",
              "      --hover-fill-color: #FFFFFF;\n",
              "      --disabled-bg-color: #3B4455;\n",
              "      --disabled-fill-color: #666;\n",
              "  }\n",
              "\n",
              "  .colab-df-quickchart {\n",
              "    background-color: var(--bg-color);\n",
              "    border: none;\n",
              "    border-radius: 50%;\n",
              "    cursor: pointer;\n",
              "    display: none;\n",
              "    fill: var(--fill-color);\n",
              "    height: 32px;\n",
              "    padding: 0;\n",
              "    width: 32px;\n",
              "  }\n",
              "\n",
              "  .colab-df-quickchart:hover {\n",
              "    background-color: var(--hover-bg-color);\n",
              "    box-shadow: 0 1px 2px rgba(60, 64, 67, 0.3), 0 1px 3px 1px rgba(60, 64, 67, 0.15);\n",
              "    fill: var(--button-hover-fill-color);\n",
              "  }\n",
              "\n",
              "  .colab-df-quickchart-complete:disabled,\n",
              "  .colab-df-quickchart-complete:disabled:hover {\n",
              "    background-color: var(--disabled-bg-color);\n",
              "    fill: var(--disabled-fill-color);\n",
              "    box-shadow: none;\n",
              "  }\n",
              "\n",
              "  .colab-df-spinner {\n",
              "    border: 2px solid var(--fill-color);\n",
              "    border-color: transparent;\n",
              "    border-bottom-color: var(--fill-color);\n",
              "    animation:\n",
              "      spin 1s steps(1) infinite;\n",
              "  }\n",
              "\n",
              "  @keyframes spin {\n",
              "    0% {\n",
              "      border-color: transparent;\n",
              "      border-bottom-color: var(--fill-color);\n",
              "      border-left-color: var(--fill-color);\n",
              "    }\n",
              "    20% {\n",
              "      border-color: transparent;\n",
              "      border-left-color: var(--fill-color);\n",
              "      border-top-color: var(--fill-color);\n",
              "    }\n",
              "    30% {\n",
              "      border-color: transparent;\n",
              "      border-left-color: var(--fill-color);\n",
              "      border-top-color: var(--fill-color);\n",
              "      border-right-color: var(--fill-color);\n",
              "    }\n",
              "    40% {\n",
              "      border-color: transparent;\n",
              "      border-right-color: var(--fill-color);\n",
              "      border-top-color: var(--fill-color);\n",
              "    }\n",
              "    60% {\n",
              "      border-color: transparent;\n",
              "      border-right-color: var(--fill-color);\n",
              "    }\n",
              "    80% {\n",
              "      border-color: transparent;\n",
              "      border-right-color: var(--fill-color);\n",
              "      border-bottom-color: var(--fill-color);\n",
              "    }\n",
              "    90% {\n",
              "      border-color: transparent;\n",
              "      border-bottom-color: var(--fill-color);\n",
              "    }\n",
              "  }\n",
              "</style>\n",
              "\n",
              "      <script>\n",
              "        async function quickchart(key) {\n",
              "          const quickchartButtonEl =\n",
              "            document.querySelector('#' + key + ' button');\n",
              "          quickchartButtonEl.disabled = true;  // To prevent multiple clicks.\n",
              "          quickchartButtonEl.classList.add('colab-df-spinner');\n",
              "          try {\n",
              "            const charts = await google.colab.kernel.invokeFunction(\n",
              "                'suggestCharts', [key], {});\n",
              "          } catch (error) {\n",
              "            console.error('Error during call to suggestCharts:', error);\n",
              "          }\n",
              "          quickchartButtonEl.classList.remove('colab-df-spinner');\n",
              "          quickchartButtonEl.classList.add('colab-df-quickchart-complete');\n",
              "        }\n",
              "        (() => {\n",
              "          let quickchartButtonEl =\n",
              "            document.querySelector('#df-7df1dfa6-9452-4b5d-ad58-b97731b01ee5 button');\n",
              "          quickchartButtonEl.style.display =\n",
              "            google.colab.kernel.accessAllowed ? 'block' : 'none';\n",
              "        })();\n",
              "      </script>\n",
              "    </div>\n",
              "\n",
              "  <div id=\"id_d24c54df-f6ee-4efd-b00d-854fcddfe8f8\">\n",
              "    <style>\n",
              "      .colab-df-generate {\n",
              "        background-color: #E8F0FE;\n",
              "        border: none;\n",
              "        border-radius: 50%;\n",
              "        cursor: pointer;\n",
              "        display: none;\n",
              "        fill: #1967D2;\n",
              "        height: 32px;\n",
              "        padding: 0 0 0 0;\n",
              "        width: 32px;\n",
              "      }\n",
              "\n",
              "      .colab-df-generate:hover {\n",
              "        background-color: #E2EBFA;\n",
              "        box-shadow: 0px 1px 2px rgba(60, 64, 67, 0.3), 0px 1px 3px 1px rgba(60, 64, 67, 0.15);\n",
              "        fill: #174EA6;\n",
              "      }\n",
              "\n",
              "      [theme=dark] .colab-df-generate {\n",
              "        background-color: #3B4455;\n",
              "        fill: #D2E3FC;\n",
              "      }\n",
              "\n",
              "      [theme=dark] .colab-df-generate:hover {\n",
              "        background-color: #434B5C;\n",
              "        box-shadow: 0px 1px 3px 1px rgba(0, 0, 0, 0.15);\n",
              "        filter: drop-shadow(0px 1px 2px rgba(0, 0, 0, 0.3));\n",
              "        fill: #FFFFFF;\n",
              "      }\n",
              "    </style>\n",
              "    <button class=\"colab-df-generate\" onclick=\"generateWithVariable('df_lstm')\"\n",
              "            title=\"Generate code using this dataframe.\"\n",
              "            style=\"display:none;\">\n",
              "\n",
              "  <svg xmlns=\"http://www.w3.org/2000/svg\" height=\"24px\"viewBox=\"0 0 24 24\"\n",
              "       width=\"24px\">\n",
              "    <path d=\"M7,19H8.4L18.45,9,17,7.55,7,17.6ZM5,21V16.75L18.45,3.32a2,2,0,0,1,2.83,0l1.4,1.43a1.91,1.91,0,0,1,.58,1.4,1.91,1.91,0,0,1-.58,1.4L9.25,21ZM18.45,9,17,7.55Zm-12,3A5.31,5.31,0,0,0,4.9,8.1,5.31,5.31,0,0,0,1,6.5,5.31,5.31,0,0,0,4.9,4.9,5.31,5.31,0,0,0,6.5,1,5.31,5.31,0,0,0,8.1,4.9,5.31,5.31,0,0,0,12,6.5,5.46,5.46,0,0,0,6.5,12Z\"/>\n",
              "  </svg>\n",
              "    </button>\n",
              "    <script>\n",
              "      (() => {\n",
              "      const buttonEl =\n",
              "        document.querySelector('#id_d24c54df-f6ee-4efd-b00d-854fcddfe8f8 button.colab-df-generate');\n",
              "      buttonEl.style.display =\n",
              "        google.colab.kernel.accessAllowed ? 'block' : 'none';\n",
              "\n",
              "      buttonEl.onclick = () => {\n",
              "        google.colab.notebook.generateWithVariable('df_lstm');\n",
              "      }\n",
              "      })();\n",
              "    </script>\n",
              "  </div>\n",
              "\n",
              "    </div>\n",
              "  </div>\n"
            ],
            "application/vnd.google.colaboratory.intrinsic+json": {
              "type": "dataframe",
              "variable_name": "df_lstm",
              "summary": "{\n  \"name\": \"df_lstm\",\n  \"rows\": 3,\n  \"fields\": [\n    {\n      \"column\": \"Variant\",\n      \"properties\": {\n        \"dtype\": \"string\",\n        \"num_unique_values\": 3,\n        \"samples\": [\n          \"Baseline\",\n          \"Quantized\",\n          \"Pruned\"\n        ],\n        \"semantic_type\": \"\",\n        \"description\": \"\"\n      }\n    },\n    {\n      \"column\": \"Accuracy\",\n      \"properties\": {\n        \"dtype\": \"number\",\n        \"std\": 0.010000000000000009,\n        \"min\": 0.83,\n        \"max\": 0.85,\n        \"num_unique_values\": 3,\n        \"samples\": [\n          0.85,\n          0.83,\n          0.84\n        ],\n        \"semantic_type\": \"\",\n        \"description\": \"\"\n      }\n    },\n    {\n      \"column\": \"Latency_ms\",\n      \"properties\": {\n        \"dtype\": \"number\",\n        \"std\": 72.69169430940921,\n        \"min\": 3.6034584045410156,\n        \"max\": 136.81721687316895,\n        \"num_unique_values\": 3,\n        \"samples\": [\n          136.81721687316895,\n          19.783973693847656,\n          3.6034584045410156\n        ],\n        \"semantic_type\": \"\",\n        \"description\": \"\"\n      }\n    },\n    {\n      \"column\": \"Size_MB\",\n      \"properties\": {\n        \"dtype\": \"number\",\n        \"std\": 0.006924261139885855,\n        \"min\": 0.223505,\n        \"max\": 0.236858,\n        \"num_unique_values\": 3,\n        \"samples\": [\n          0.227002,\n          0.223505,\n          0.236858\n        ],\n        \"semantic_type\": \"\",\n        \"description\": \"\"\n      }\n    }\n  ]\n}"
            }
          },
          "metadata": {},
          "execution_count": 7
        }
      ]
    },
    {
      "cell_type": "code",
      "source": [
        "import matplotlib.pyplot as plt\n",
        "variants = df_lstm[\"Variant\"].tolist()\n",
        "\n",
        "# Latency\n",
        "plt.figure(figsize=(6,4))\n",
        "plt.bar(variants, df_lstm[\"Latency_ms\"].values)\n",
        "plt.title(\"LSTM Latency (ms)\")\n",
        "plt.ylabel(\"ms\")\n",
        "plt.xlabel(\"Variant\")\n",
        "plt.show()\n",
        "\n",
        "# Size\n",
        "plt.figure(figsize=(6,4))\n",
        "plt.bar(variants, df_lstm[\"Size_MB\"].values)\n",
        "plt.title(\"LSTM Model Size (MB)\")\n",
        "plt.ylabel(\"MB\")\n",
        "plt.xlabel(\"Variant\")\n",
        "plt.show()\n"
      ],
      "metadata": {
        "colab": {
          "base_uri": "https://localhost:8080/",
          "height": 803
        },
        "id": "8COsvLHIPCiu",
        "outputId": "141773c2-492c-4278-daf4-8da6411d257b"
      },
      "execution_count": null,
      "outputs": [
        {
          "output_type": "display_data",
          "data": {
            "text/plain": [
              "<Figure size 600x400 with 1 Axes>"
            ],
            "image/png": "[encoded data removed]"
          },
          "metadata": {}
        },
        {
          "output_type": "display_data",
          "data": {
            "text/plain": [
              "<Figure size 600x400 with 1 Axes>"
            ],
            "image/png": "[encoded data removed]"
          },
          "metadata": {}
        }
      ]
    }
  ]
}