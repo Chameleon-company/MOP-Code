{
  "nbformat": 4,
  "nbformat_minor": 0,
  "metadata": {
    "colab": {
      "provenance": [],
      "machine_shape": "hm",
      "gpuType": "L4"
    },
    "kernelspec": {
      "name": "python3",
      "display_name": "Python 3"
    },
    "language_info": {
      "name": "python"
    },
    "accelerator": "GPU"
  },
  "cells": [
    {
      "cell_type": "code",
      "source": [
        "import os, random\n",
        "import numpy as np\n",
        "import torch, torch.nn as nn, torch.nn.functional as F\n",
        "from torch.utils.data import Dataset, DataLoader\n",
        "from sklearn.model_selection import train_test_split\n",
        "from sklearn.metrics import accuracy_score, f1_score, classification_report, confusion_matrix\n",
        "import matplotlib.pyplot as plt\n",
        "import seaborn as sns\n",
        "\n",
        "SEED = 42\n",
        "random.seed(SEED); np.random.seed(SEED); torch.manual_seed(SEED)\n",
        "if torch.cuda.is_available():\n",
        "    torch.cuda.manual_seed(SEED)\n",
        "    torch.backends.cudnn.deterministic = True\n",
        "    torch.backends.cudnn.benchmark = False\n",
        "\n",
        "DEVICE = \"cuda\" if torch.cuda.is_available() else \"cpu\"\n",
        "print(f\"[INFO] Using device: {DEVICE}, Seed: {SEED}\")\n"
      ],
      "metadata": {
        "colab": {
          "base_uri": "https://localhost:8080/"
        },
        "id": "5D7szv5IALsb",
        "outputId": "6b8a0240-5d77-41a0-8c43-436fbcc88cba"
      },
      "execution_count": null,
      "outputs": [
        {
          "output_type": "stream",
          "name": "stdout",
          "text": [
            "[INFO] Using device: cuda, Seed: 42\n"
          ]
        }
      ]
    },
    {
      "cell_type": "code",
      "source": [
        "from google.colab import drive\n",
        "drive.mount('/content/drive')"
      ],
      "metadata": {
        "colab": {
          "base_uri": "https://localhost:8080/"
        },
        "id": "_9bu681ZASLA",
        "outputId": "63220009-d6fe-435d-b4b9-d13f7ee5a8de"
      },
      "execution_count": null,
      "outputs": [
        {
          "output_type": "stream",
          "name": "stdout",
          "text": [
            "Mounted at /content/drive\n"
          ]
        }
      ]
    },
    {
      "cell_type": "code",
      "source": [
        "DRIVE_DIR = \"/content/drive/MyDrive\"\n",
        "\n",
        "X = np.load(os.path.join(DRIVE_DIR, \"DREAMERV_X.npy\"), allow_pickle=True)\n",
        "y = np.load(os.path.join(DRIVE_DIR, \"DREAMERV_y.npy\"), allow_pickle=True)\n",
        "print(f\"[INFO] Loaded X={X.shape}, y={y.shape}, labels={np.unique(y)}\")\n",
        "\n",
        "X_train, X_test, y_train, y_test = train_test_split(\n",
        "    X, y, test_size=0.2, random_state=SEED, stratify=y\n",
        ")\n",
        "print(f\"[INFO] Train={len(X_train)}, Test={len(X_test)}\")\n"
      ],
      "metadata": {
        "colab": {
          "base_uri": "https://localhost:8080/"
        },
        "id": "UaBnSHzzAW8N",
        "outputId": "fd9a8cc9-aa14-4637-e353-fdd24bfc15eb"
      },
      "execution_count": null,
      "outputs": [
        {
          "output_type": "stream",
          "name": "stdout",
          "text": [
            "[INFO] Loaded X=(170246, 14, 256), y=(170246,), labels=[0 1]\n",
            "[INFO] Train=136196, Test=34050\n"
          ]
        }
      ]
    },
    {
      "cell_type": "code",
      "source": [
        "def normalize_data(X):\n",
        "\n",
        "    mean = np.mean(X, axis=2, keepdims=True)\n",
        "    std  = np.std(X, axis=2, keepdims=True)\n",
        "    std[std == 0] = 1\n",
        "    return (X - mean) / std\n",
        "\n",
        "X_train = normalize_data(X_train)\n",
        "X_test  = normalize_data(X_test)\n",
        "print(\"[INFO] Normalization applied (per sample, per channel over time).\")\n"
      ],
      "metadata": {
        "colab": {
          "base_uri": "https://localhost:8080/"
        },
        "id": "cb5TT-chAc3Y",
        "outputId": "9894a00d-6c5a-4c51-b68f-0abb07058811"
      },
      "execution_count": null,
      "outputs": [
        {
          "output_type": "stream",
          "name": "stdout",
          "text": [
            "[INFO] Normalization applied (per sample, per channel over time).\n"
          ]
        }
      ]
    },
    {
      "cell_type": "code",
      "source": [
        "class EvalSet(Dataset):\n",
        "    def __init__(self, X, y):\n",
        "        self.X = np.asarray(X, dtype=np.float32)  # [N, 14, T]\n",
        "        self.y = np.asarray(y, dtype=np.int64)\n",
        "    def __len__(self): return len(self.y)\n",
        "    def __getitem__(self, i): return self.X[i], self.y[i]\n",
        "\n",
        "test_loader = DataLoader(EvalSet(X_test, y_test), batch_size=64, shuffle=False)\n"
      ],
      "metadata": {
        "id": "JlmngLS3AoIw"
      },
      "execution_count": null,
      "outputs": []
    },
    {
      "cell_type": "code",
      "source": [
        "class EEG_LSTM(nn.Module):\n",
        "    def __init__(self, input_size=14, hidden_size=64, num_layers=2, num_classes=2):\n",
        "        super().__init__()\n",
        "        self.hidden_size = hidden_size\n",
        "        self.num_layers = num_layers\n",
        "        self.lstm = nn.LSTM(\n",
        "            input_size=input_size,\n",
        "            hidden_size=hidden_size,\n",
        "            num_layers=num_layers,\n",
        "            batch_first=True\n",
        "        )\n",
        "        self.fc1 = nn.Linear(hidden_size, 32)\n",
        "        self.fc2 = nn.Linear(32, num_classes)\n",
        "\n",
        "    def forward(self, x):  # x: [B, T, 14]\n",
        "        h0 = torch.zeros(self.num_layers, x.size(0), self.hidden_size, device=x.device)\n",
        "        c0 = torch.zeros(self.num_layers, x.size(0), self.hidden_size, device=x.device)\n",
        "        out, _ = self.lstm(x, (h0, c0))\n",
        "        out = out[:, -1, :]\n",
        "        out = F.relu(self.fc1(out))\n",
        "        return self.fc2(out)\n",
        "\n",
        "\n",
        "ckpt_path = \"/content/drive/MyDrive/lstm_model.pth\"\n",
        "\n",
        "\n",
        "model = EEG_LSTM(input_size=14, hidden_size=64, num_layers=2, num_classes=2).to(DEVICE)\n",
        "model.load_state_dict(torch.load(ckpt_path, map_location=DEVICE))\n",
        "model.eval()\n",
        "print(f\"[INFO] Loaded trained model checkpoint: {ckpt_path}\")\n"
      ],
      "metadata": {
        "colab": {
          "base_uri": "https://localhost:8080/"
        },
        "id": "yt22xootA-pZ",
        "outputId": "949ff4a0-fb55-4e55-ed2e-704bf20a20c2"
      },
      "execution_count": null,
      "outputs": [
        {
          "output_type": "stream",
          "name": "stdout",
          "text": [
            "[INFO] Loaded trained model checkpoint: /content/drive/MyDrive/lstm_model.pth\n"
          ]
        }
      ]
    },
    {
      "cell_type": "code",
      "source": [
        "y_true, y_pred = [], []\n",
        "\n",
        "with torch.no_grad():\n",
        "    for Xb, yb in test_loader:\n",
        "\n",
        "        Xb = torch.tensor(Xb, dtype=torch.float32, device=DEVICE)\n",
        "        if Xb.ndim == 3 and Xb.shape[1] == 14:\n",
        "            Xb = Xb.permute(0, 2, 1)  # -> [B, T, 14]\n",
        "        yb = yb.to(DEVICE)\n",
        "\n",
        "        logits = model(Xb)\n",
        "        preds = torch.argmax(logits, dim=1)\n",
        "\n",
        "        y_true.extend(yb.cpu().numpy())\n",
        "        y_pred.extend(preds.cpu().numpy())\n",
        "\n",
        "acc = accuracy_score(y_true, y_pred)\n",
        "f1m = f1_score(y_true, y_pred, average=\"macro\")\n",
        "print(f\"[RESULT] Accuracy: {acc:.4f}\")\n",
        "print(f\"[RESULT] Macro F1: {f1m:.4f}\")\n",
        "print(\"\\nClassification Report:\\n\", classification_report(y_true, y_pred, digits=4))\n",
        "\n",
        "cm = confusion_matrix(y_true, y_pred)\n",
        "plt.figure(figsize=(5,4))\n",
        "sns.heatmap(cm, annot=True, fmt=\"d\", cmap=\"Blues\", xticklabels=[0,1], yticklabels=[0,1])\n",
        "plt.xlabel(\"Predicted\"); plt.ylabel(\"True\"); plt.title(\"LSTM Confusion Matrix\")\n",
        "plt.show()\n"
      ],
      "metadata": {
        "colab": {
          "base_uri": "https://localhost:8080/",
          "height": 690
        },
        "id": "TyFr5HOtBEQz",
        "outputId": "bc92e4a2-a113-4260-959c-57291d724a6b"
      },
      "execution_count": null,
      "outputs": [
        {
          "output_type": "stream",
          "name": "stderr",
          "text": [
            "/tmp/ipython-input-1007691634.py:6: UserWarning: To copy construct from a tensor, it is recommended to use sourceTensor.detach().clone() or sourceTensor.detach().clone().requires_grad_(True), rather than torch.tensor(sourceTensor).\n",
            "  Xb = torch.tensor(Xb, dtype=torch.float32, device=DEVICE)\n"
          ]
        },
        {
          "output_type": "stream",
          "name": "stdout",
          "text": [
            "[RESULT] Accuracy: 0.8510\n",
            "[RESULT] Macro F1: 0.8479\n",
            "\n",
            "Classification Report:\n",
            "               precision    recall  f1-score   support\n",
            "\n",
            "           0     0.8963    0.8447    0.8698     20054\n",
            "           1     0.7945    0.8600    0.8260     13996\n",
            "\n",
            "    accuracy                         0.8510     34050\n",
            "   macro avg     0.8454    0.8524    0.8479     34050\n",
            "weighted avg     0.8545    0.8510    0.8518     34050\n",
            "\n"
          ]
        },
        {
          "output_type": "display_data",
          "data": {
            "text/plain": [
              "<Figure size 500x400 with 2 Axes>"
            ],
            "image/png": "[encoded data removed]"
          },
          "metadata": {}
        }
      ]
    },
    {
      "cell_type": "code",
      "source": [
        "#  LSTM Stability Check\n",
        "from sklearn.model_selection import StratifiedShuffleSplit\n",
        "from sklearn.metrics import accuracy_score, f1_score\n",
        "\n",
        "def eval_loader_lstm(model, loader):\n",
        "    y_true, y_pred = [], []\n",
        "    with torch.no_grad():\n",
        "        for xb, yb in loader:\n",
        "\n",
        "            xb = xb.to(DEVICE, dtype=torch.float32).permute(0, 2, 1)\n",
        "            yb = yb.to(DEVICE)\n",
        "            preds = torch.argmax(model(xb), dim=1)\n",
        "            y_true.extend(yb.cpu().numpy())\n",
        "            y_pred.extend(preds.cpu().numpy())\n",
        "    return np.array(y_true), np.array(y_pred)\n",
        "\n",
        "# --- 1) Bootstrap resampling on test set ---\n",
        "yt_all, yp_all = eval_loader_lstm(model, test_loader)\n",
        "B = 100\n",
        "accs, f1s = [], []\n",
        "for _ in range(B):\n",
        "    idx = np.random.randint(0, len(yt_all), len(yt_all))\n",
        "    accs.append(accuracy_score(yt_all[idx], yp_all[idx]))\n",
        "    f1s.append(f1_score(yt_all[idx], yp_all[idx], average=\"macro\"))\n",
        "\n",
        "print(f\"[Bootstrap] Acc={np.mean(accs):.4f} ±{np.std(accs):.4f}\")\n",
        "print(f\"[Bootstrap] F1 ={np.mean(f1s):.4f} ±{np.std(f1s):.4f}\")\n",
        "\n",
        "# --- 2) Stratified sub-sampling (different splits of test set) ---\n",
        "sss = StratifiedShuffleSplit(n_splits=3, test_size=0.5, random_state=42)\n",
        "for i, (idx_keep, _) in enumerate(sss.split(X_test, y_test), 1):\n",
        "    sub_loader = DataLoader(EvalSet(X_test[idx_keep], y_test[idx_keep]), batch_size=64, shuffle=False)\n",
        "    yt_sub, yp_sub = eval_loader_lstm(model, sub_loader)\n",
        "    print(f\"[Split {i}] Acc={accuracy_score(yt_sub, yp_sub):.4f}, F1={f1_score(yt_sub, yp_sub, average='macro'):.4f}\")\n"
      ],
      "metadata": {
        "colab": {
          "base_uri": "https://localhost:8080/"
        },
        "id": "PTch-U9Ri8lE",
        "outputId": "f47a1fde-d93e-41d9-a06d-50498fbc56e5"
      },
      "execution_count": null,
      "outputs": [
        {
          "output_type": "stream",
          "name": "stdout",
          "text": [
            "[Bootstrap] Acc=0.8512 ±0.0022\n",
            "[Bootstrap] F1 =0.8480 ±0.0023\n",
            "[Split 1] Acc=0.8507, F1=0.8475\n",
            "[Split 2] Acc=0.8521, F1=0.8491\n",
            "[Split 3] Acc=0.8498, F1=0.8467\n"
          ]
        }
      ]
    }
  ]
}