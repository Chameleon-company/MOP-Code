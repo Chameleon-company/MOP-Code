{
  "nbformat": 4,
  "nbformat_minor": 0,
  "metadata": {
    "colab": {
      "provenance": [],
      "machine_shape": "hm",
      "gpuType": "L4"
    },
    "kernelspec": {
      "name": "python3",
      "display_name": "Python 3"
    },
    "language_info": {
      "name": "python"
    },
    "accelerator": "GPU"
  },
  "cells": [
    {
      "cell_type": "code",
      "execution_count": null,
      "metadata": {
        "colab": {
          "base_uri": "https://localhost:8080/"
        },
        "id": "TuLtBHe42PPv",
        "outputId": "6e842cd7-2c05-4ab7-b2c0-952b125e3f04"
      },
      "outputs": [
        {
          "output_type": "stream",
          "name": "stdout",
          "text": [
            "[INFO] Using device: cuda, Seed: 42\n"
          ]
        }
      ],
      "source": [
        "import os, random\n",
        "import numpy as np\n",
        "import torch, torch.nn as nn, torch.nn.functional as F\n",
        "from torch.utils.data import Dataset, DataLoader\n",
        "from sklearn.model_selection import train_test_split\n",
        "from sklearn.metrics import accuracy_score, f1_score, classification_report, confusion_matrix\n",
        "import matplotlib.pyplot as plt\n",
        "import seaborn as sns\n",
        "\n",
        "# Reproducibility\n",
        "SEED = 42\n",
        "random.seed(SEED); np.random.seed(SEED); torch.manual_seed(SEED)\n",
        "if torch.cuda.is_available():\n",
        "    torch.cuda.manual_seed(SEED)\n",
        "    torch.backends.cudnn.deterministic = True\n",
        "    torch.backends.cudnn.benchmark = False\n",
        "\n",
        "DEVICE = \"cuda\" if torch.cuda.is_available() else \"cpu\"\n",
        "print(f\"[INFO] Using device: {DEVICE}, Seed: {SEED}\")\n"
      ]
    },
    {
      "cell_type": "code",
      "source": [
        "from google.colab import drive\n",
        "drive.mount('/content/drive')"
      ],
      "metadata": {
        "colab": {
          "base_uri": "https://localhost:8080/"
        },
        "id": "-qOHM5bi49cy",
        "outputId": "48406ae6-467b-4d3f-e175-c1ff7d64e43c"
      },
      "execution_count": null,
      "outputs": [
        {
          "output_type": "stream",
          "name": "stdout",
          "text": [
            "Mounted at /content/drive\n"
          ]
        }
      ]
    },
    {
      "cell_type": "code",
      "source": [
        "DRIVE_DIR = \"/content/drive/MyDrive\"\n",
        "\n",
        "X = np.load(os.path.join(DRIVE_DIR, \"DREAMERV_X.npy\"), allow_pickle=True)\n",
        "y = np.load(os.path.join(DRIVE_DIR, \"DREAMERV_y.npy\"), allow_pickle=True)\n",
        "print(f\"[INFO] Loaded X={X.shape}, y={y.shape}, labels={np.unique(y)}\")\n",
        "\n",
        "X_train, X_test, y_train, y_test = train_test_split(\n",
        "    X, y, test_size=0.2, random_state=SEED, stratify=y\n",
        ")\n",
        "print(f\"[INFO] Train={len(X_train)}, Test={len(X_test)}\")\n"
      ],
      "metadata": {
        "colab": {
          "base_uri": "https://localhost:8080/"
        },
        "id": "8pNB9pCl5JPO",
        "outputId": "965cfc2c-7887-427b-ba57-416740dc68eb"
      },
      "execution_count": null,
      "outputs": [
        {
          "output_type": "stream",
          "name": "stdout",
          "text": [
            "[INFO] Loaded X=(170246, 14, 256), y=(170246,), labels=[0 1]\n",
            "[INFO] Train=136196, Test=34050\n"
          ]
        }
      ]
    },
    {
      "cell_type": "code",
      "source": [
        "def normalize_data(X):\n",
        "    # Per-sample, per-channel normalization across time axis\n",
        "    mean = np.mean(X, axis=2, keepdims=True)\n",
        "    std = np.std(X, axis=2, keepdims=True)\n",
        "    std[std == 0] = 1\n",
        "    return (X - mean) / std\n",
        "\n",
        "X_train = normalize_data(X_train)\n",
        "X_test  = normalize_data(X_test)\n",
        "print(\"[INFO] Normalization applied (per sample, per channel).\")\n"
      ],
      "metadata": {
        "colab": {
          "base_uri": "https://localhost:8080/"
        },
        "id": "EFYQDku25PAQ",
        "outputId": "b933f725-f550-4a66-cd00-fdb00022c18d"
      },
      "execution_count": null,
      "outputs": [
        {
          "output_type": "stream",
          "name": "stdout",
          "text": [
            "[INFO] Normalization applied (per sample, per channel).\n"
          ]
        }
      ]
    },
    {
      "cell_type": "code",
      "source": [
        "class EvalSet(Dataset):\n",
        "    def __init__(self, X, y):\n",
        "        self.X = np.asarray(X, dtype=np.float32)\n",
        "        self.y = np.asarray(y, dtype=np.int64)\n",
        "    def __len__(self): return len(self.y)\n",
        "    def __getitem__(self, i): return self.X[i], self.y[i]\n",
        "\n",
        "test_loader = DataLoader(EvalSet(X_test, y_test), batch_size=64, shuffle=False)\n"
      ],
      "metadata": {
        "id": "4C1CdteN5tjN"
      },
      "execution_count": null,
      "outputs": []
    },
    {
      "cell_type": "code",
      "source": [
        "class EEG_CNN(nn.Module):\n",
        "    def __init__(self, num_classes=2):\n",
        "        super().__init__()\n",
        "        self.conv1 = nn.Conv1d(14, 32, kernel_size=3)\n",
        "        self.conv2 = nn.Conv1d(32, 64, kernel_size=3)\n",
        "        self.pool = nn.AdaptiveAvgPool1d(1)\n",
        "        self.fc1 = nn.Linear(64, 32)\n",
        "        self.fc2 = nn.Linear(32, num_classes)\n",
        "\n",
        "    def forward(self, x):  # expects [B, 14, T]\n",
        "        x = self.conv1(x)\n",
        "        x = F.relu(self.conv2(x))\n",
        "        x = self.pool(x).squeeze(-1)\n",
        "        x = F.relu(self.fc1(x))\n",
        "        return self.fc2(x)\n",
        "\n",
        "ckpt = os.path.join(DRIVE_DIR, \"cnn_model.pth\")\n",
        "model = EEG_CNN(num_classes=2).to(DEVICE)\n",
        "model.load_state_dict(torch.load(ckpt, map_location=DEVICE))\n",
        "model.eval()\n",
        "print(f\"[INFO] Loaded checkpoint: {ckpt}\")\n"
      ],
      "metadata": {
        "colab": {
          "base_uri": "https://localhost:8080/"
        },
        "id": "vz4CnNx25whk",
        "outputId": "a6fd727c-d283-4c8f-fe44-a680919bb6c0"
      },
      "execution_count": null,
      "outputs": [
        {
          "output_type": "stream",
          "name": "stdout",
          "text": [
            "[INFO] Loaded checkpoint: /content/drive/MyDrive/cnn_model.pth\n"
          ]
        }
      ]
    },
    {
      "cell_type": "code",
      "source": [
        "y_true, y_pred = [], []\n",
        "\n",
        "with torch.no_grad():\n",
        "    for Xb, yb in test_loader:\n",
        "        Xb = torch.tensor(Xb, dtype=torch.float32, device=DEVICE)\n",
        "\n",
        "        yb = yb.to(DEVICE)\n",
        "\n",
        "        preds = torch.argmax(model(Xb), dim=1)\n",
        "        y_true.extend(yb.cpu().numpy())\n",
        "        y_pred.extend(preds.cpu().numpy())\n",
        "\n",
        "acc = accuracy_score(y_true, y_pred)\n",
        "f1m = f1_score(y_true, y_pred, average=\"macro\")\n",
        "print(f\"[RESULT] Accuracy: {acc:.4f}\")\n",
        "print(f\"[RESULT] Macro F1: {f1m:.4f}\")\n",
        "print(\"\\nClassification Report:\\n\", classification_report(y_true, y_pred, digits=4))\n",
        "\n",
        "cm = confusion_matrix(y_true, y_pred)\n",
        "plt.figure(figsize=(5,4))\n",
        "sns.heatmap(cm, annot=True, fmt=\"d\", cmap=\"Blues\", xticklabels=[0,1], yticklabels=[0,1])\n",
        "plt.xlabel(\"Predicted\"); plt.ylabel(\"True\"); plt.title(\"CNN Confusion Matrix\")\n",
        "plt.show()\n"
      ],
      "metadata": {
        "colab": {
          "base_uri": "https://localhost:8080/",
          "height": 690
        },
        "id": "yOrjkm5Y51H4",
        "outputId": "7f5fd8ad-61ee-47d7-d773-081f674dfd0a"
      },
      "execution_count": null,
      "outputs": [
        {
          "output_type": "stream",
          "name": "stderr",
          "text": [
            "/tmp/ipython-input-4079344158.py:5: UserWarning: To copy construct from a tensor, it is recommended to use sourceTensor.detach().clone() or sourceTensor.detach().clone().requires_grad_(True), rather than torch.tensor(sourceTensor).\n",
            "  Xb = torch.tensor(Xb, dtype=torch.float32, device=DEVICE)\n"
          ]
        },
        {
          "output_type": "stream",
          "name": "stdout",
          "text": [
            "[RESULT] Accuracy: 0.8115\n",
            "[RESULT] Macro F1: 0.8018\n",
            "\n",
            "Classification Report:\n",
            "               precision    recall  f1-score   support\n",
            "\n",
            "           0     0.8166    0.8769    0.8457     20054\n",
            "           1     0.8028    0.7178    0.7579     13996\n",
            "\n",
            "    accuracy                         0.8115     34050\n",
            "   macro avg     0.8097    0.7974    0.8018     34050\n",
            "weighted avg     0.8109    0.8115    0.8096     34050\n",
            "\n"
          ]
        },
        {
          "output_type": "display_data",
          "data": {
            "text/plain": [
              "<Figure size 500x400 with 2 Axes>"
            ],
            "image/png": "[encoded data removed]"
          },
          "metadata": {}
        }
      ]
    },
    {
      "cell_type": "code",
      "source": [
        "#  CNN Stability Check\n",
        "from sklearn.model_selection import StratifiedShuffleSplit\n",
        "from sklearn.metrics import accuracy_score, f1_score\n",
        "\n",
        "def eval_loader(model, loader):\n",
        "    y_true, y_pred = [], []\n",
        "    with torch.no_grad():\n",
        "        for xb, yb in loader:\n",
        "            xb = xb.to(device=DEVICE, dtype=torch.float32)\n",
        "            yb = yb.to(DEVICE)\n",
        "            preds = torch.argmax(model(xb), dim=1)\n",
        "            y_true.extend(yb.cpu().numpy())\n",
        "            y_pred.extend(preds.cpu().numpy())\n",
        "    return np.array(y_true), np.array(y_pred)\n",
        "\n",
        "# --- 1) Bootstrap resampling on test set ---\n",
        "yt_all, yp_all = eval_loader(model, test_loader)\n",
        "B = 100  # number of bootstrap samples\n",
        "accs, f1s = [], []\n",
        "for _ in range(B):\n",
        "    idx = np.random.randint(0, len(yt_all), len(yt_all))\n",
        "    accs.append(accuracy_score(yt_all[idx], yp_all[idx]))\n",
        "    f1s.append(f1_score(yt_all[idx], yp_all[idx], average=\"macro\"))\n",
        "\n",
        "print(f\"[Bootstrap] Acc={np.mean(accs):.4f} ±{np.std(accs):.4f}\")\n",
        "print(f\"[Bootstrap] F1 ={np.mean(f1s):.4f} ±{np.std(f1s):.4f}\")\n",
        "\n",
        "# --- 2) Stratified sub-sampling (different splits of test set) ---\n",
        "sss = StratifiedShuffleSplit(n_splits=3, test_size=0.5, random_state=42)\n",
        "for i, (idx_keep, _) in enumerate(sss.split(X_test, y_test), 1):\n",
        "    sub_loader = DataLoader(EvalSet(X_test[idx_keep], y_test[idx_keep]), batch_size=64, shuffle=False)\n",
        "    yt_sub, yp_sub = eval_loader(model, sub_loader)\n",
        "    print(f\"[Split {i}] Acc={accuracy_score(yt_sub, yp_sub):.4f}, F1={f1_score(yt_sub, yp_sub, average='macro'):.4f}\")\n"
      ],
      "metadata": {
        "colab": {
          "base_uri": "https://localhost:8080/"
        },
        "id": "ARf_s4fwdCqG",
        "outputId": "8c43cc55-336d-4b9a-c063-f8747703b2d5"
      },
      "execution_count": null,
      "outputs": [
        {
          "output_type": "stream",
          "name": "stdout",
          "text": [
            "[Bootstrap] Acc=0.8112 ±0.0022\n",
            "[Bootstrap] F1 =0.8015 ±0.0023\n",
            "[Split 1] Acc=0.8113, F1=0.8018\n",
            "[Split 2] Acc=0.8116, F1=0.8021\n",
            "[Split 3] Acc=0.8117, F1=0.8020\n"
          ]
        }
      ]
    }
  ]
}