{
 "cells": [
  {
   "cell_type": "code",
   "execution_count": 11,
   "id": "1985b7f8-04c2-4f2d-be22-e653679cf4b2",
   "metadata": {},
   "outputs": [
    {
     "name": "stdout",
     "output_type": "stream",
     "text": [
      "Original Columns:\n",
      "['Unnamed: 0', 'Situation', 'emotion', 'empathetic_dialogues', 'labels', 'Unnamed: 5', 'Unnamed: 6']\n"
     ]
    }
   ],
   "source": [
    "import pandas as pd\n",
    "\n",
    "# load the original CSV\n",
    "df = pd.read_csv(\"../datasets/raw/emotion-emotion_69k.csv\")\n",
    "\n",
    "# preview columns\n",
    "print(\"Original Columns:\")\n",
    "print(df.columns.tolist())"
   ]
  },
  {
   "cell_type": "code",
   "execution_count": 12,
   "id": "7553e610-c833-4dfd-9ceb-d2f87fb8522f",
   "metadata": {},
   "outputs": [
    {
     "name": "stdout",
     "output_type": "stream",
     "text": [
      "\n",
      " Missing Value Check:\n",
      "sn                      0\n",
      "Situation               0\n",
      "emotion                 1\n",
      "empathetic_dialogues    0\n",
      "labels                  0\n",
      "dtype: int64\n"
     ]
    }
   ],
   "source": [
    "# rename first column to 'sn' if unnamed\n",
    "first_col = df.columns[0]\n",
    "if \"Unnamed\" in first_col or first_col.strip() == \"\":\n",
    "    df.rename(columns={first_col: \"sn\"}, inplace=True)\n",
    "\n",
    "# drop other junk columns, but keep 'sn'\n",
    "df = df.loc[:, ~df.columns.str.contains('^Unnamed') | df.columns.str.contains('sn')]\n",
    "\n",
    "# keep only the needed columns (if they exist)\n",
    "keep_cols = [\"sn\", \"Situation\", \"emotion\", \"empathetic_dialogues\", \"labels\"]\n",
    "df = df[[col for col in keep_cols if col in df.columns]]\n",
    "\n",
    "# removing duplicates from Situation column and keeping first occurence only\n",
    "df = df.drop_duplicates(subset=[\"Situation\"], keep=\"first\")\n",
    "\n",
    "# validation: Check for missing values\n",
    "print(\"\\n Missing Value Check:\")\n",
    "missing_summary = df.isnull().sum()\n",
    "print(missing_summary)\n"
   ]
  },
  {
   "cell_type": "code",
   "execution_count": 13,
   "id": "5ce756f4-8334-4132-b5e4-1537fad402af",
   "metadata": {},
   "outputs": [
    {
     "name": "stdout",
     "output_type": "stream",
     "text": [
      "\n",
      " cleaned dataset: 1 rows with missing values removed\n",
      " Final row count: 19204\n"
     ]
    }
   ],
   "source": [
    "# drop rows with any missing data\n",
    "initial_len = len(df)\n",
    "df.dropna(inplace=True)\n",
    "cleaned_len = len(df)\n",
    "\n",
    "print(f\"\\n cleaned dataset: {initial_len - cleaned_len} rows with missing values removed\")\n",
    "print(f\" Final row count: {cleaned_len}\")"
   ]
  },
  {
   "cell_type": "code",
   "execution_count": 14,
   "id": "632e8bc8-8922-420b-951a-2a6529f2b849",
   "metadata": {},
   "outputs": [
    {
     "name": "stdout",
     "output_type": "stream",
     "text": [
      "\n",
      " Sample Cleaned Data:\n",
      "    sn                                          Situation      emotion  \\\n",
      "0    0  I remember going to the fireworks with my best...  sentimental   \n",
      "5    5                       i used to scare for darkness       afraid   \n",
      "10  10  I showed a guy how to run a good bead in weldi...        proud   \n",
      "\n",
      "                                 empathetic_dialogues  \\\n",
      "0   Customer :I remember going to see the firework...   \n",
      "5   Customer : it feels like hitting to blank wall...   \n",
      "10      Customer :Hi how are you doing today\\nAgent :   \n",
      "\n",
      "                                               labels  \n",
      "0   Was this a friend you were in love with, or ju...  \n",
      "5                       Oh ya? I don't really see how  \n",
      "10                         doing good.. how about you  \n",
      "\n",
      " Saved as 'cleaned_empathetic_dataset.csv'\n"
     ]
    }
   ],
   "source": [
    "# show a few cleaned rows\n",
    "print(\"\\n Sample Cleaned Data:\")\n",
    "print(df.head(3))\n",
    "\n",
    "# save cleaned dataset\n",
    "df.to_csv(\"../datasets/cleaned_empathetic_dataset.csv\", index=False)\n",
    "print(\"\\n Saved as 'cleaned_empathetic_dataset.csv'\")"
   ]
  },
  {
   "cell_type": "code",
   "execution_count": null,
   "id": "67e2b8a8-187f-48fc-9322-3956994a664f",
   "metadata": {},
   "outputs": [],
   "source": []
  }
 ],
 "metadata": {
  "kernelspec": {
   "display_name": "Python 3 (ipykernel)",
   "language": "python",
   "name": "python3"
  },
  "language_info": {
   "codemirror_mode": {
    "name": "ipython",
    "version": 3
   },
   "file_extension": ".py",
   "mimetype": "text/x-python",
   "name": "python",
   "nbconvert_exporter": "python",
   "pygments_lexer": "ipython3",
   "version": "3.9.21"
  }
 },
 "nbformat": 4,
 "nbformat_minor": 5
}
