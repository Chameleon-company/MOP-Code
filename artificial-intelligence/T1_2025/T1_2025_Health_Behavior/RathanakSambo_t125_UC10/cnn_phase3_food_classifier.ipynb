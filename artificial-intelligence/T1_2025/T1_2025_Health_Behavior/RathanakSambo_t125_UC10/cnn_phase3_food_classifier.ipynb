{
  "nbformat": 4,
  "nbformat_minor": 0,
  "metadata": {
    "colab": {
      "provenance": [],
      "gpuType": "T4"
    },
    "kernelspec": {
      "name": "python3",
      "display_name": "Python 3"
    },
    "language_info": {
      "name": "python"
    },
    "accelerator": "GPU"
  },
  "cells": [
    {
      "cell_type": "code",
      "execution_count": null,
      "metadata": {
        "colab": {
          "base_uri": "https://localhost:8080/"
        },
        "id": "5R4fsENzJBbE",
        "outputId": "93824045-27f0-4bef-9fc5-e0d373ba33d0"
      },
      "outputs": [
        {
          "output_type": "stream",
          "name": "stdout",
          "text": [
            "Drive already mounted at /content/drive; to attempt to forcibly remount, call drive.mount(\"/content/drive\", force_remount=True).\n"
          ]
        }
      ],
      "source": [
        "\n",
        "\n",
        "import tensorflow as tf\n",
        "from tensorflow.keras import layers, models, Input\n",
        "from tensorflow.keras.models import load_model\n",
        "from tensorflow.keras.preprocessing.image import ImageDataGenerator\n",
        "import matplotlib.pyplot as plt\n",
        "import os\n",
        "\n",
        "\n",
        "from google.colab import drive\n",
        "drive.mount('/content/drive')\n"
      ]
    },
    {
      "cell_type": "code",
      "source": [
        "#Load Phase 2 model\n",
        "\n",
        "\n",
        "phase2_model_path = \"/content/drive/MyDrive/health_classifier_phase2.keras\"\n",
        "model = load_model(phase2_model_path)\n",
        "print(\"Phase 2 model loaded\")"
      ],
      "metadata": {
        "id": "xNrES5GoJhK2",
        "colab": {
          "base_uri": "https://localhost:8080/"
        },
        "outputId": "073b93ab-21c3-4c7c-b8d0-eb485ad00f75"
      },
      "execution_count": null,
      "outputs": [
        {
          "output_type": "stream",
          "name": "stdout",
          "text": [
            "Phase 2 model loaded\n"
          ]
        },
        {
          "output_type": "stream",
          "name": "stderr",
          "text": [
            "/usr/local/lib/python3.11/dist-packages/keras/src/saving/saving_lib.py:757: UserWarning: Skipping variable loading for optimizer 'adam', because it has 838 variables whereas the saved optimizer has 842 variables. \n",
            "  saveable.load_own_variables(weights_store.get(inner_path))\n"
          ]
        }
      ]
    },
    {
      "cell_type": "code",
      "source": [
        "#Prepare new dataset\n",
        "\n",
        "DATA_DIR = \"/content/drive/MyDrive/Healthy_unhealthy_once\"\n",
        "\n",
        "IMG_HEIGHT = 192\n",
        "IMG_WIDTH = 192\n",
        "BATCH_SIZE = 64\n",
        "\n",
        "train_gen = ImageDataGenerator(\n",
        "    rescale=1./255,\n",
        "    validation_split=0.2,\n",
        "    horizontal_flip=True,\n",
        "    rotation_range=20,\n",
        "    zoom_range=0.2\n",
        ")\n",
        "\n",
        "train_data = train_gen.flow_from_directory(\n",
        "    DATA_DIR,\n",
        "    target_size=(IMG_HEIGHT, IMG_WIDTH),\n",
        "    batch_size=BATCH_SIZE,\n",
        "    class_mode='categorical',\n",
        "    subset='training'\n",
        ")\n",
        "\n",
        "val_data = train_gen.flow_from_directory(\n",
        "    DATA_DIR,\n",
        "    target_size=(IMG_HEIGHT, IMG_WIDTH),\n",
        "    batch_size=BATCH_SIZE,\n",
        "    class_mode='categorical',\n",
        "    subset='validation'\n",
        ")\n"
      ],
      "metadata": {
        "colab": {
          "base_uri": "https://localhost:8080/"
        },
        "id": "_GrdFEALJ625",
        "outputId": "da81d8ef-5cea-46e9-cfb6-21194a16b6f7"
      },
      "execution_count": null,
      "outputs": [
        {
          "output_type": "stream",
          "name": "stdout",
          "text": [
            "Found 15200 images belonging to 3 classes.\n",
            "Found 3800 images belonging to 3 classes.\n"
          ]
        }
      ]
    },
    {
      "cell_type": "code",
      "source": [
        "#Adjust model to have 3 class output\n",
        "\n",
        "\n",
        "#freeze base layers\n",
        "for layer in model.layers[:-1]:\n",
        "    layer.trainable = True\n",
        "\n",
        "#get the previous feature output\n",
        "x = model.layers[-2].output\n",
        "\n",
        "# Create new output layer\n",
        "new_output = layers.Dense(3, activation='softmax')(x)\n",
        "\n",
        "#create new model\n",
        "model3 = tf.keras.Model(inputs=model.input, outputs=new_output)\n"
      ],
      "metadata": {
        "id": "ZzZWGjKTNE7R"
      },
      "execution_count": null,
      "outputs": []
    },
    {
      "cell_type": "code",
      "source": [
        "#Compile Phase 3 model\n",
        "\n",
        "\n",
        "model3.compile(\n",
        "    optimizer=tf.keras.optimizers.Adam(1e-5),\n",
        "    loss='categorical_crossentropy',\n",
        "    metrics=['accuracy']\n",
        ")\n",
        "\n",
        "print(\"Phase 3 model ready\")\n"
      ],
      "metadata": {
        "colab": {
          "base_uri": "https://localhost:8080/"
        },
        "id": "-0iEZ7VBNS7Z",
        "outputId": "42d75763-de23-4c11-8d0c-c64b65d78853"
      },
      "execution_count": null,
      "outputs": [
        {
          "output_type": "stream",
          "name": "stdout",
          "text": [
            "Phase 3 model ready\n"
          ]
        }
      ]
    },
    {
      "cell_type": "code",
      "source": [
        "# Train (Phase 3)\n",
        "\n",
        "\n",
        "earlystop = tf.keras.callbacks.EarlyStopping(patience=5, restore_best_weights=True)\n",
        "reduce_lr = tf.keras.callbacks.ReduceLROnPlateau(patience=3, factor=0.2)\n",
        "\n",
        "history_phase3 = model3.fit(\n",
        "    train_data,\n",
        "    validation_data=val_data,\n",
        "    epochs=20,\n",
        "    callbacks=[earlystop, reduce_lr]\n",
        ")\n",
        "\n",
        "\n",
        "#Save Phase 3 model\n",
        "\n",
        "\n",
        "model3.save('/content/drive/MyDrive/health_classifier_phase3.keras')\n",
        "print(\"Phase 3 model saved to Google Drive\")\n"
      ],
      "metadata": {
        "colab": {
          "base_uri": "https://localhost:8080/"
        },
        "id": "InrMLcs_NZZ9",
        "outputId": "850335a6-b073-4b9c-8a20-ed40fe4decbb"
      },
      "execution_count": null,
      "outputs": [
        {
          "output_type": "stream",
          "name": "stderr",
          "text": [
            "/usr/local/lib/python3.11/dist-packages/keras/src/trainers/data_adapters/py_dataset_adapter.py:121: UserWarning: Your `PyDataset` class should call `super().__init__(**kwargs)` in its constructor. `**kwargs` can include `workers`, `use_multiprocessing`, `max_queue_size`. Do not pass these arguments to `fit()`, as they will be ignored.\n",
            "  self._warn_if_super_not_called()\n"
          ]
        },
        {
          "output_type": "stream",
          "name": "stdout",
          "text": [
            "Epoch 1/20\n",
            "\u001b[1m238/238\u001b[0m \u001b[32m━━━━━━━━━━━━━━━━━━━━\u001b[0m\u001b[37m\u001b[0m \u001b[1m7988s\u001b[0m 33s/step - accuracy: 0.4880 - loss: 0.9955 - val_accuracy: 0.6118 - val_loss: 0.8456 - learning_rate: 1.0000e-05\n",
            "Epoch 2/20\n",
            "\u001b[1m238/238\u001b[0m \u001b[32m━━━━━━━━━━━━━━━━━━━━\u001b[0m\u001b[37m\u001b[0m \u001b[1m256s\u001b[0m 1s/step - accuracy: 0.6563 - loss: 0.7540 - val_accuracy: 0.7008 - val_loss: 0.6618 - learning_rate: 1.0000e-05\n",
            "Epoch 3/20\n",
            "\u001b[1m238/238\u001b[0m \u001b[32m━━━━━━━━━━━━━━━━━━━━\u001b[0m\u001b[37m\u001b[0m \u001b[1m250s\u001b[0m 1s/step - accuracy: 0.6783 - loss: 0.6966 - val_accuracy: 0.6987 - val_loss: 0.6715 - learning_rate: 1.0000e-05\n",
            "Epoch 4/20\n",
            "\u001b[1m238/238\u001b[0m \u001b[32m━━━━━━━━━━━━━━━━━━━━\u001b[0m\u001b[37m\u001b[0m \u001b[1m253s\u001b[0m 1s/step - accuracy: 0.6996 - loss: 0.6618 - val_accuracy: 0.6274 - val_loss: 0.8468 - learning_rate: 1.0000e-05\n",
            "Epoch 5/20\n",
            "\u001b[1m238/238\u001b[0m \u001b[32m━━━━━━━━━━━━━━━━━━━━\u001b[0m\u001b[37m\u001b[0m \u001b[1m250s\u001b[0m 1s/step - accuracy: 0.7080 - loss: 0.6325 - val_accuracy: 0.7118 - val_loss: 0.6439 - learning_rate: 1.0000e-05\n",
            "Epoch 6/20\n",
            "\u001b[1m238/238\u001b[0m \u001b[32m━━━━━━━━━━━━━━━━━━━━\u001b[0m\u001b[37m\u001b[0m \u001b[1m251s\u001b[0m 1s/step - accuracy: 0.7258 - loss: 0.6049 - val_accuracy: 0.7155 - val_loss: 0.6278 - learning_rate: 1.0000e-05\n",
            "Epoch 7/20\n",
            "\u001b[1m238/238\u001b[0m \u001b[32m━━━━━━━━━━━━━━━━━━━━\u001b[0m\u001b[37m\u001b[0m \u001b[1m247s\u001b[0m 1s/step - accuracy: 0.7374 - loss: 0.5769 - val_accuracy: 0.7582 - val_loss: 0.5392 - learning_rate: 1.0000e-05\n",
            "Epoch 8/20\n",
            "\u001b[1m238/238\u001b[0m \u001b[32m━━━━━━━━━━━━━━━━━━━━\u001b[0m\u001b[37m\u001b[0m \u001b[1m249s\u001b[0m 1s/step - accuracy: 0.7480 - loss: 0.5620 - val_accuracy: 0.7482 - val_loss: 0.5399 - learning_rate: 1.0000e-05\n",
            "Epoch 9/20\n",
            "\u001b[1m238/238\u001b[0m \u001b[32m━━━━━━━━━━━━━━━━━━━━\u001b[0m\u001b[37m\u001b[0m \u001b[1m283s\u001b[0m 1s/step - accuracy: 0.7528 - loss: 0.5403 - val_accuracy: 0.7571 - val_loss: 0.5309 - learning_rate: 1.0000e-05\n",
            "Epoch 10/20\n",
            "\u001b[1m238/238\u001b[0m \u001b[32m━━━━━━━━━━━━━━━━━━━━\u001b[0m\u001b[37m\u001b[0m \u001b[1m290s\u001b[0m 1s/step - accuracy: 0.7567 - loss: 0.5312 - val_accuracy: 0.7495 - val_loss: 0.5524 - learning_rate: 1.0000e-05\n",
            "Epoch 11/20\n",
            "\u001b[1m238/238\u001b[0m \u001b[32m━━━━━━━━━━━━━━━━━━━━\u001b[0m\u001b[37m\u001b[0m \u001b[1m248s\u001b[0m 1s/step - accuracy: 0.7577 - loss: 0.5291 - val_accuracy: 0.7761 - val_loss: 0.5080 - learning_rate: 1.0000e-05\n",
            "Epoch 12/20\n",
            "\u001b[1m238/238\u001b[0m \u001b[32m━━━━━━━━━━━━━━━━━━━━\u001b[0m\u001b[37m\u001b[0m \u001b[1m244s\u001b[0m 1s/step - accuracy: 0.7609 - loss: 0.5137 - val_accuracy: 0.7605 - val_loss: 0.5116 - learning_rate: 1.0000e-05\n",
            "Epoch 13/20\n",
            "\u001b[1m238/238\u001b[0m \u001b[32m━━━━━━━━━━━━━━━━━━━━\u001b[0m\u001b[37m\u001b[0m \u001b[1m246s\u001b[0m 1s/step - accuracy: 0.7770 - loss: 0.4790 - val_accuracy: 0.7545 - val_loss: 0.5448 - learning_rate: 1.0000e-05\n",
            "Epoch 14/20\n",
            "\u001b[1m238/238\u001b[0m \u001b[32m━━━━━━━━━━━━━━━━━━━━\u001b[0m\u001b[37m\u001b[0m \u001b[1m246s\u001b[0m 1s/step - accuracy: 0.7856 - loss: 0.4670 - val_accuracy: 0.7745 - val_loss: 0.4964 - learning_rate: 1.0000e-05\n",
            "Epoch 15/20\n",
            "\u001b[1m238/238\u001b[0m \u001b[32m━━━━━━━━━━━━━━━━━━━━\u001b[0m\u001b[37m\u001b[0m \u001b[1m245s\u001b[0m 1s/step - accuracy: 0.7920 - loss: 0.4619 - val_accuracy: 0.7479 - val_loss: 0.5575 - learning_rate: 1.0000e-05\n",
            "Epoch 16/20\n",
            "\u001b[1m238/238\u001b[0m \u001b[32m━━━━━━━━━━━━━━━━━━━━\u001b[0m\u001b[37m\u001b[0m \u001b[1m282s\u001b[0m 1s/step - accuracy: 0.7826 - loss: 0.4620 - val_accuracy: 0.7789 - val_loss: 0.4856 - learning_rate: 1.0000e-05\n",
            "Epoch 17/20\n",
            "\u001b[1m238/238\u001b[0m \u001b[32m━━━━━━━━━━━━━━━━━━━━\u001b[0m\u001b[37m\u001b[0m \u001b[1m249s\u001b[0m 1s/step - accuracy: 0.7916 - loss: 0.4404 - val_accuracy: 0.7779 - val_loss: 0.5052 - learning_rate: 1.0000e-05\n",
            "Epoch 18/20\n",
            "\u001b[1m238/238\u001b[0m \u001b[32m━━━━━━━━━━━━━━━━━━━━\u001b[0m\u001b[37m\u001b[0m \u001b[1m248s\u001b[0m 1s/step - accuracy: 0.7900 - loss: 0.4400 - val_accuracy: 0.7784 - val_loss: 0.4838 - learning_rate: 1.0000e-05\n",
            "Epoch 19/20\n",
            "\u001b[1m238/238\u001b[0m \u001b[32m━━━━━━━━━━━━━━━━━━━━\u001b[0m\u001b[37m\u001b[0m \u001b[1m245s\u001b[0m 1s/step - accuracy: 0.7964 - loss: 0.4340 - val_accuracy: 0.7824 - val_loss: 0.4872 - learning_rate: 1.0000e-05\n",
            "Epoch 20/20\n",
            "\u001b[1m238/238\u001b[0m \u001b[32m━━━━━━━━━━━━━━━━━━━━\u001b[0m\u001b[37m\u001b[0m \u001b[1m251s\u001b[0m 1s/step - accuracy: 0.8027 - loss: 0.4157 - val_accuracy: 0.7784 - val_loss: 0.4964 - learning_rate: 1.0000e-05\n",
            "Phase 3 model saved to Google Drive\n"
          ]
        }
      ]
    },
    {
      "cell_type": "code",
      "source": [
        "from google.colab import files\n",
        "\n",
        "#download\n",
        "files.download('/content/drive/MyDrive/health_classifier_phase3.keras')\n"
      ],
      "metadata": {
        "colab": {
          "base_uri": "https://localhost:8080/",
          "height": 34
        },
        "id": "DaBPiLjgdjJV",
        "outputId": "de3775b6-091e-41ad-87f8-360a0d20281f"
      },
      "execution_count": null,
      "outputs": [
        {
          "output_type": "display_data",
          "data": {
            "text/plain": [
              "<IPython.core.display.Javascript object>"
            ],
            "application/javascript": [
              "\n",
              "    async function download(id, filename, size) {\n",
              "      if (!google.colab.kernel.accessAllowed) {\n",
              "        return;\n",
              "      }\n",
              "      const div = document.createElement('div');\n",
              "      const label = document.createElement('label');\n",
              "      label.textContent = `Downloading \"${filename}\": `;\n",
              "      div.appendChild(label);\n",
              "      const progress = document.createElement('progress');\n",
              "      progress.max = size;\n",
              "      div.appendChild(progress);\n",
              "      document.body.appendChild(div);\n",
              "\n",
              "      const buffers = [];\n",
              "      let downloaded = 0;\n",
              "\n",
              "      const channel = await google.colab.kernel.comms.open(id);\n",
              "      // Send a message to notify the kernel that we're ready.\n",
              "      channel.send({})\n",
              "\n",
              "      for await (const message of channel.messages) {\n",
              "        // Send a message to notify the kernel that we're ready.\n",
              "        channel.send({})\n",
              "        if (message.buffers) {\n",
              "          for (const buffer of message.buffers) {\n",
              "            buffers.push(buffer);\n",
              "            downloaded += buffer.byteLength;\n",
              "            progress.value = downloaded;\n",
              "          }\n",
              "        }\n",
              "      }\n",
              "      const blob = new Blob(buffers, {type: 'application/binary'});\n",
              "      const a = document.createElement('a');\n",
              "      a.href = window.URL.createObjectURL(blob);\n",
              "      a.download = filename;\n",
              "      div.appendChild(a);\n",
              "      a.click();\n",
              "      div.remove();\n",
              "    }\n",
              "  "
            ]
          },
          "metadata": {}
        },
        {
          "output_type": "display_data",
          "data": {
            "text/plain": [
              "<IPython.core.display.Javascript object>"
            ],
            "application/javascript": [
              "download(\"download_b7a9a57d-dd2f-4cb3-8181-06c0d38b21ed\", \"health_classifier_phase3.keras\", 213098256)"
            ]
          },
          "metadata": {}
        }
      ]
    },
    {
      "cell_type": "code",
      "source": [
        "#visualize Accuracy\n",
        "\n",
        "\n",
        "plt.plot(history_phase3.history['accuracy'], label='Train Acc')\n",
        "plt.plot(history_phase3.history['val_accuracy'], label='Val Acc')\n",
        "plt.legend()\n",
        "plt.title(\"Phase 3 Accuracy Curve\")\n",
        "plt.show()"
      ],
      "metadata": {
        "colab": {
          "base_uri": "https://localhost:8080/",
          "height": 452
        },
        "id": "YsBZ23FDNluT",
        "outputId": "72d76039-96e0-47b5-827b-1d45ffef0358"
      },
      "execution_count": null,
      "outputs": [
        {
          "output_type": "display_data",
          "data": {
            "text/plain": [
              "<Figure size 640x480 with 1 Axes>"
            ],
            "image/png": "[encoded data removed]"
          },
          "metadata": {}
        }
      ]
    },
    {
      "cell_type": "code",
      "source": [
        "from tensorflow.keras.models import load_model\n",
        "\n",
        "# Load your trained model from Drive or local path\n",
        "model = load_model(\"/content/drive/MyDrive//health_classifier_phase3.keras\")\n",
        "print(\"Model loaded successfully!\")\n",
        "\n"
      ],
      "metadata": {
        "colab": {
          "base_uri": "https://localhost:8080/"
        },
        "id": "8xsqsHtFoH29",
        "outputId": "12adb05e-83aa-4030-f229-1c852b3bf875"
      },
      "execution_count": null,
      "outputs": [
        {
          "output_type": "stream",
          "name": "stdout",
          "text": [
            "Model loaded successfully!\n"
          ]
        }
      ]
    },
    {
      "cell_type": "code",
      "source": [
        "# Data generator with validation split\n",
        "datagen = ImageDataGenerator(\n",
        "    rescale=1./255,\n",
        "    validation_split=0.2\n",
        ")\n",
        "\n",
        "val_generator = datagen.flow_from_directory(\n",
        "    DATA_DIR,\n",
        "    target_size=(IMG_HEIGHT, IMG_WIDTH),\n",
        "    batch_size=BATCH_SIZE,\n",
        "    class_mode='categorical',\n",
        "    subset='validation',\n",
        "    shuffle=False  # Important for correct y_true vs y_pred matching\n",
        ")"
      ],
      "metadata": {
        "colab": {
          "base_uri": "https://localhost:8080/"
        },
        "id": "irva5qJupTGm",
        "outputId": "b40a2d20-53a6-46da-81b2-8dca07d36cf1"
      },
      "execution_count": null,
      "outputs": [
        {
          "output_type": "stream",
          "name": "stdout",
          "text": [
            "Found 3800 images belonging to 3 classes.\n"
          ]
        }
      ]
    },
    {
      "cell_type": "code",
      "source": [
        "from sklearn.metrics import classification_report, accuracy_score, f1_score\n",
        "import numpy as np\n",
        "#Predict on validation data\n",
        "y_true = val_generator.classes\n",
        "y_pred_probs = model.predict(val_generator, verbose=1)\n",
        "y_pred = np.argmax(y_pred_probs, axis=1)\n",
        "\n",
        "#Get class labels\n",
        "labels = list(val_generator.class_indices.keys())\n",
        "\n",
        "#Print Accuracy and F1 Score\n",
        "acc = accuracy_score(y_true, y_pred)\n",
        "f1 = f1_score(y_true, y_pred, average='macro')\n",
        "\n",
        "print(f\"Accuracy: {acc*100:.2f}%\")\n",
        "print(f\"F1 Score (macro): {f1:.4f}\")\n",
        "\n",
        "#Detailed Report\n",
        "print(\"\\n🔎 Detailed Classification Report:\")\n",
        "print(classification_report(y_true, y_pred, target_names=labels))\n"
      ],
      "metadata": {
        "colab": {
          "base_uri": "https://localhost:8080/"
        },
        "id": "X-_jsmWFn86C",
        "outputId": "7b62e26f-5b5d-46e9-987f-50626c2e1159"
      },
      "execution_count": null,
      "outputs": [
        {
          "output_type": "stream",
          "name": "stdout",
          "text": [
            "\u001b[1m60/60\u001b[0m \u001b[32m━━━━━━━━━━━━━━━━━━━━\u001b[0m\u001b[37m\u001b[0m \u001b[1m859s\u001b[0m 14s/step\n",
            "Accuracy: 77.97%\n",
            "F1 Score (macro): 0.7638\n",
            "\n",
            "🔎 Detailed Classification Report:\n",
            "              precision    recall  f1-score   support\n",
            "\n",
            "    Healthy        0.78      0.85      0.81      1400\n",
            "        Once       0.69      0.60      0.64      1000\n",
            "   Unhealthy       0.84      0.84      0.84      1400\n",
            "\n",
            "    accuracy                           0.78      3800\n",
            "   macro avg       0.77      0.76      0.76      3800\n",
            "weighted avg       0.78      0.78      0.78      3800\n",
            "\n"
          ]
        }
      ]
    }
  ]
}