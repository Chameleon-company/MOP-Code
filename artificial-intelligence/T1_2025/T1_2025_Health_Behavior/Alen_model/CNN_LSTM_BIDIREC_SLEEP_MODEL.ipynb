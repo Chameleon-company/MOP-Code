{
  "nbformat": 4,
  "nbformat_minor": 0,
  "metadata": {
    "colab": {
      "provenance": []
    },
    "kernelspec": {
      "name": "python3",
      "display_name": "Python 3"
    },
    "language_info": {
      "name": "python"
    }
  },
  "cells": [
    {
      "cell_type": "code",
      "source": [
        "!pip install wfdb mne --quiet\n",
        "\n"
      ],
      "metadata": {
        "id": "_yBzMLzAwmOm"
      },
      "execution_count": null,
      "outputs": []
    },
    {
      "cell_type": "code",
      "source": [
        "!mkdir -p sleep-edf\n",
        "\n",
        "# Working URLs (Sleep-EDF Expanded, subject SC4001E0)\n",
        "!wget -O SC4001E0-PSG.edf https://physionet.org/files/sleep-edfx/1.0.0/sleep-cassette/SC4001E0-PSG.edf\n",
        "!wget -O SC4001EC-Hypnogram.edf https://physionet.org/files/sleep-edfx/1.0.0/sleep-cassette/SC4001EC-Hypnogram.edf\n",
        "\n",
        "\n"
      ],
      "metadata": {
        "colab": {
          "base_uri": "https://localhost:8080/"
        },
        "id": "Q-ZXn4XewS9f",
        "outputId": "9d1cdb78-d0d4-4ec9-b80f-0a793c1231e8"
      },
      "execution_count": null,
      "outputs": [
        {
          "output_type": "stream",
          "name": "stdout",
          "text": [
            "--2025-05-15 07:24:47--  https://physionet.org/files/sleep-edfx/1.0.0/sleep-cassette/SC4001E0-PSG.edf\n",
            "Resolving physionet.org (physionet.org)... 18.18.42.54\n",
            "Connecting to physionet.org (physionet.org)|18.18.42.54|:443... connected.\n",
            "HTTP request sent, awaiting response... 200 OK\n",
            "Length: 48338048 (46M) [application/octet-stream]\n",
            "Saving to: ‘SC4001E0-PSG.edf’\n",
            "\n",
            "SC4001E0-PSG.edf    100%[===================>]  46.10M   366KB/s    in 2m 13s  \n",
            "\n",
            "2025-05-15 07:27:00 (356 KB/s) - ‘SC4001E0-PSG.edf’ saved [48338048/48338048]\n",
            "\n",
            "--2025-05-15 07:27:00--  https://physionet.org/files/sleep-edfx/1.0.0/sleep-cassette/SC4001EC-Hypnogram.edf\n",
            "Resolving physionet.org (physionet.org)... 18.18.42.54\n",
            "Connecting to physionet.org (physionet.org)|18.18.42.54|:443... connected.\n",
            "HTTP request sent, awaiting response... 200 OK\n",
            "Length: 4620 (4.5K) [application/octet-stream]\n",
            "Saving to: ‘SC4001EC-Hypnogram.edf’\n",
            "\n",
            "SC4001EC-Hypnogram. 100%[===================>]   4.51K  --.-KB/s    in 0s      \n",
            "\n",
            "2025-05-15 07:27:00 (1.79 GB/s) - ‘SC4001EC-Hypnogram.edf’ saved [4620/4620]\n",
            "\n"
          ]
        }
      ]
    },
    {
      "cell_type": "code",
      "source": [
        "import numpy as np\n",
        "import mne\n",
        "\n",
        "psg_file = \"SC4001E0-PSG.edf\"\n",
        "hypnogram_file = \"SC4001EC-Hypnogram.edf\"\n",
        "\n",
        "raw = mne.io.read_raw_edf(psg_file, preload=True, verbose=False)\n",
        "annotations = mne.read_annotations(hypnogram_file)\n",
        "raw.set_annotations(annotations)\n",
        "raw.pick_channels([\"EEG Fpz-Cz\"])\n",
        "\n",
        "stage_map = {\n",
        "    \"Sleep stage W\": 0,\n",
        "    \"Sleep stage 1\": 1,\n",
        "    \"Sleep stage 2\": 2,\n",
        "    \"Sleep stage 3\": 3,\n",
        "    \"Sleep stage 4\": 3,\n",
        "    \"Sleep stage R\": 4\n",
        "}\n",
        "\n",
        "labels = []\n",
        "for desc in annotations.description:\n",
        "    if desc in stage_map:\n",
        "        labels.append(stage_map[desc])\n",
        "\n",
        "sfreq = int(raw.info['sfreq'])\n",
        "epoch_length = 30 * sfreq\n",
        "eeg_data = raw.get_data()[0]\n",
        "\n",
        "X = []\n",
        "y = []\n",
        "for i in range(len(labels)):\n",
        "    start = i * epoch_length\n",
        "    end = start + epoch_length\n",
        "    if end <= eeg_data.shape[0]:\n",
        "        X.append(eeg_data[start:end])\n",
        "        y.append(labels[i])\n",
        "\n",
        "X = np.array(X)\n",
        "y = np.array(y)\n",
        "\n",
        "print(f\"✅ EEG data shape: {X.shape}\")\n",
        "print(f\"✅ Labels shape: {y.shape}, Class balance: {np.unique(y, return_counts=True)}\")\n",
        "\n"
      ],
      "metadata": {
        "colab": {
          "base_uri": "https://localhost:8080/"
        },
        "id": "0QN6RbcszUQj",
        "outputId": "c699a0c3-499b-44f7-d056-8db9364ebd67"
      },
      "execution_count": null,
      "outputs": [
        {
          "output_type": "stream",
          "name": "stderr",
          "text": [
            "<ipython-input-16-9453cadd80ec>:7: RuntimeWarning: Channels contain different highpass filters. Highest filter setting will be stored.\n",
            "  raw = mne.io.read_raw_edf(psg_file, preload=True, verbose=False)\n",
            "<ipython-input-16-9453cadd80ec>:7: RuntimeWarning: Channels contain different lowpass filters. Lowest filter setting will be stored.\n",
            "  raw = mne.io.read_raw_edf(psg_file, preload=True, verbose=False)\n",
            "<ipython-input-16-9453cadd80ec>:7: RuntimeWarning: Highpass cutoff frequency 16.0 is greater than lowpass cutoff frequency 0.7, setting values to 0 and Nyquist.\n",
            "  raw = mne.io.read_raw_edf(psg_file, preload=True, verbose=False)\n"
          ]
        },
        {
          "output_type": "stream",
          "name": "stdout",
          "text": [
            "NOTE: pick_channels() is a legacy function. New code should use inst.pick(...).\n",
            "✅ EEG data shape: (153, 3000)\n",
            "✅ Labels shape: (153,), Class balance: (array([0, 1, 2, 3, 4]), array([12, 24, 40, 71,  6]))\n"
          ]
        },
        {
          "output_type": "stream",
          "name": "stderr",
          "text": [
            "<ipython-input-16-9453cadd80ec>:9: RuntimeWarning: Limited 1 annotation(s) that were expanding outside the data range.\n",
            "  raw.set_annotations(annotations)\n"
          ]
        }
      ]
    },
    {
      "cell_type": "code",
      "source": [
        "from sklearn.model_selection import train_test_split\n",
        "from tensorflow.keras.utils import to_categorical\n",
        "\n",
        "# Normalize each sample (zero mean, unit variance)\n",
        "X = (X - np.mean(X, axis=1, keepdims=True)) / np.std(X, axis=1, keepdims=True)\n",
        "\n",
        "# Reshape for CNN input: (samples, time_steps, channels)\n",
        "X = X.reshape((X.shape[0], X.shape[1], 1))\n",
        "\n",
        "# One-hot encode labels\n",
        "y_cat = to_categorical(y, num_classes=5)\n",
        "\n",
        "# Train-test split\n",
        "X_train, X_test, y_train, y_test = train_test_split(X, y_cat, test_size=0.2, random_state=42)\n",
        "\n",
        "print(f\"✅ X_train shape: {X_train.shape}, y_train shape: {y_train.shape}\")\n",
        "print(f\"✅ X_test shape: {X_test.shape}, y_test shape: {y_test.shape}\")\n",
        "\n"
      ],
      "metadata": {
        "colab": {
          "base_uri": "https://localhost:8080/"
        },
        "id": "RswqYUM6z04p",
        "outputId": "96f615b8-0462-4535-c6e9-5f67a8bfc839"
      },
      "execution_count": null,
      "outputs": [
        {
          "output_type": "stream",
          "name": "stdout",
          "text": [
            "✅ X_train shape: (122, 3000, 1), y_train shape: (122, 5)\n",
            "✅ X_test shape: (31, 3000, 1), y_test shape: (31, 5)\n"
          ]
        }
      ]
    },
    {
      "cell_type": "code",
      "source": [
        "from tensorflow.keras.models import Sequential\n",
        "from tensorflow.keras.layers import Conv1D, MaxPooling1D, LSTM, Dense, Dropout, Bidirectional\n",
        "from tensorflow.keras.optimizers import Adam\n",
        "from tensorflow.keras.callbacks import EarlyStopping, ReduceLROnPlateau\n",
        "\n",
        "# Define the model\n",
        "def build_cnn_lstm(input_shape=(3000, 1), learning_rate=0.0003):\n",
        "    model = Sequential()\n",
        "    model.add(Conv1D(64, kernel_size=5, activation='relu', input_shape=input_shape))\n",
        "    model.add(MaxPooling1D(pool_size=2))\n",
        "    model.add(Conv1D(64, kernel_size=5, activation='relu'))\n",
        "    model.add(MaxPooling1D(pool_size=2))\n",
        "    model.add(Bidirectional(LSTM(64)))\n",
        "    model.add(Dropout(0.5))\n",
        "    model.add(Dense(64, activation='relu'))\n",
        "    model.add(Dense(5, activation='softmax'))  # 5 classes: W, N1, N2, N3, REM\n",
        "\n",
        "    model.compile(optimizer=Adam(learning_rate=learning_rate),\n",
        "                  loss='categorical_crossentropy',\n",
        "                  metrics=['accuracy'])\n",
        "    return model\n",
        "\n",
        "# Callbacks\n",
        "early_stop = EarlyStopping(monitor='val_loss', patience=5, restore_best_weights=True)\n",
        "lr_reduce = ReduceLROnPlateau(monitor='val_loss', factor=0.5, patience=3)\n",
        "\n",
        "# Build and train\n",
        "model = build_cnn_lstm()\n",
        "history = model.fit(\n",
        "    X_train, y_train,\n",
        "    validation_split=0.2,\n",
        "    epochs=40,\n",
        "    batch_size=32,\n",
        "    callbacks=[early_stop, lr_reduce],\n",
        "    verbose=1\n",
        ")\n"
      ],
      "metadata": {
        "colab": {
          "base_uri": "https://localhost:8080/"
        },
        "id": "BvHjwK_f0YoY",
        "outputId": "23960977-b9e3-4c5b-a79f-538ad9ec7f77"
      },
      "execution_count": null,
      "outputs": [
        {
          "output_type": "stream",
          "name": "stderr",
          "text": [
            "/usr/local/lib/python3.11/dist-packages/keras/src/layers/convolutional/base_conv.py:107: UserWarning: Do not pass an `input_shape`/`input_dim` argument to a layer. When using Sequential models, prefer using an `Input(shape)` object as the first layer in the model instead.\n",
            "  super().__init__(activity_regularizer=activity_regularizer, **kwargs)\n"
          ]
        },
        {
          "output_type": "stream",
          "name": "stdout",
          "text": [
            "Epoch 1/40\n",
            "\u001b[1m4/4\u001b[0m \u001b[32m━━━━━━━━━━━━━━━━━━━━\u001b[0m\u001b[37m\u001b[0m \u001b[1m12s\u001b[0m 1s/step - accuracy: 0.2738 - loss: 1.5970 - val_accuracy: 0.2000 - val_loss: 1.5943 - learning_rate: 3.0000e-04\n",
            "Epoch 2/40\n",
            "\u001b[1m4/4\u001b[0m \u001b[32m━━━━━━━━━━━━━━━━━━━━\u001b[0m\u001b[37m\u001b[0m \u001b[1m5s\u001b[0m 1s/step - accuracy: 0.2988 - loss: 1.5825 - val_accuracy: 0.2000 - val_loss: 1.5775 - learning_rate: 3.0000e-04\n",
            "Epoch 3/40\n",
            "\u001b[1m4/4\u001b[0m \u001b[32m━━━━━━━━━━━━━━━━━━━━\u001b[0m\u001b[37m\u001b[0m \u001b[1m3s\u001b[0m 812ms/step - accuracy: 0.3493 - loss: 1.5688 - val_accuracy: 0.3600 - val_loss: 1.5620 - learning_rate: 3.0000e-04\n",
            "Epoch 4/40\n",
            "\u001b[1m4/4\u001b[0m \u001b[32m━━━━━━━━━━━━━━━━━━━━\u001b[0m\u001b[37m\u001b[0m \u001b[1m5s\u001b[0m 784ms/step - accuracy: 0.3672 - loss: 1.5558 - val_accuracy: 0.4800 - val_loss: 1.5422 - learning_rate: 3.0000e-04\n",
            "Epoch 5/40\n",
            "\u001b[1m4/4\u001b[0m \u001b[32m━━━━━━━━━━━━━━━━━━━━\u001b[0m\u001b[37m\u001b[0m \u001b[1m4s\u001b[0m 1s/step - accuracy: 0.4325 - loss: 1.5326 - val_accuracy: 0.4800 - val_loss: 1.5259 - learning_rate: 3.0000e-04\n",
            "Epoch 6/40\n",
            "\u001b[1m4/4\u001b[0m \u001b[32m━━━━━━━━━━━━━━━━━━━━\u001b[0m\u001b[37m\u001b[0m \u001b[1m3s\u001b[0m 814ms/step - accuracy: 0.3900 - loss: 1.5068 - val_accuracy: 0.4400 - val_loss: 1.5131 - learning_rate: 3.0000e-04\n",
            "Epoch 7/40\n",
            "\u001b[1m4/4\u001b[0m \u001b[32m━━━━━━━━━━━━━━━━━━━━\u001b[0m\u001b[37m\u001b[0m \u001b[1m5s\u001b[0m 768ms/step - accuracy: 0.4367 - loss: 1.4901 - val_accuracy: 0.3600 - val_loss: 1.5012 - learning_rate: 3.0000e-04\n",
            "Epoch 8/40\n",
            "\u001b[1m4/4\u001b[0m \u001b[32m━━━━━━━━━━━━━━━━━━━━\u001b[0m\u001b[37m\u001b[0m \u001b[1m5s\u001b[0m 818ms/step - accuracy: 0.4451 - loss: 1.4627 - val_accuracy: 0.4400 - val_loss: 1.4882 - learning_rate: 3.0000e-04\n",
            "Epoch 9/40\n",
            "\u001b[1m4/4\u001b[0m \u001b[32m━━━━━━━━━━━━━━━━━━━━\u001b[0m\u001b[37m\u001b[0m \u001b[1m5s\u001b[0m 809ms/step - accuracy: 0.4357 - loss: 1.4631 - val_accuracy: 0.4400 - val_loss: 1.4853 - learning_rate: 3.0000e-04\n",
            "Epoch 10/40\n",
            "\u001b[1m4/4\u001b[0m \u001b[32m━━━━━━━━━━━━━━━━━━━━\u001b[0m\u001b[37m\u001b[0m \u001b[1m6s\u001b[0m 899ms/step - accuracy: 0.4025 - loss: 1.4445 - val_accuracy: 0.4800 - val_loss: 1.4811 - learning_rate: 3.0000e-04\n",
            "Epoch 11/40\n",
            "\u001b[1m4/4\u001b[0m \u001b[32m━━━━━━━━━━━━━━━━━━━━\u001b[0m\u001b[37m\u001b[0m \u001b[1m3s\u001b[0m 799ms/step - accuracy: 0.3796 - loss: 1.4445 - val_accuracy: 0.4800 - val_loss: 1.4764 - learning_rate: 3.0000e-04\n",
            "Epoch 12/40\n",
            "\u001b[1m4/4\u001b[0m \u001b[32m━━━━━━━━━━━━━━━━━━━━\u001b[0m\u001b[37m\u001b[0m \u001b[1m5s\u001b[0m 786ms/step - accuracy: 0.4055 - loss: 1.4325 - val_accuracy: 0.4800 - val_loss: 1.4748 - learning_rate: 3.0000e-04\n",
            "Epoch 13/40\n",
            "\u001b[1m4/4\u001b[0m \u001b[32m━━━━━━━━━━━━━━━━━━━━\u001b[0m\u001b[37m\u001b[0m \u001b[1m4s\u001b[0m 975ms/step - accuracy: 0.4617 - loss: 1.3925 - val_accuracy: 0.4800 - val_loss: 1.4708 - learning_rate: 3.0000e-04\n",
            "Epoch 14/40\n",
            "\u001b[1m4/4\u001b[0m \u001b[32m━━━━━━━━━━━━━━━━━━━━\u001b[0m\u001b[37m\u001b[0m \u001b[1m4s\u001b[0m 819ms/step - accuracy: 0.4491 - loss: 1.4057 - val_accuracy: 0.4800 - val_loss: 1.4711 - learning_rate: 3.0000e-04\n",
            "Epoch 15/40\n",
            "\u001b[1m4/4\u001b[0m \u001b[32m━━━━━━━━━━━━━━━━━━━━\u001b[0m\u001b[37m\u001b[0m \u001b[1m6s\u001b[0m 1s/step - accuracy: 0.4304 - loss: 1.4410 - val_accuracy: 0.4800 - val_loss: 1.4682 - learning_rate: 3.0000e-04\n",
            "Epoch 16/40\n",
            "\u001b[1m4/4\u001b[0m \u001b[32m━━━━━━━━━━━━━━━━━━━━\u001b[0m\u001b[37m\u001b[0m \u001b[1m4s\u001b[0m 815ms/step - accuracy: 0.4648 - loss: 1.3570 - val_accuracy: 0.4800 - val_loss: 1.4655 - learning_rate: 3.0000e-04\n",
            "Epoch 17/40\n",
            "\u001b[1m4/4\u001b[0m \u001b[32m━━━━━━━━━━━━━━━━━━━━\u001b[0m\u001b[37m\u001b[0m \u001b[1m3s\u001b[0m 816ms/step - accuracy: 0.4648 - loss: 1.3555 - val_accuracy: 0.4800 - val_loss: 1.4651 - learning_rate: 3.0000e-04\n",
            "Epoch 18/40\n",
            "\u001b[1m4/4\u001b[0m \u001b[32m━━━━━━━━━━━━━━━━━━━━\u001b[0m\u001b[37m\u001b[0m \u001b[1m6s\u001b[0m 1s/step - accuracy: 0.4554 - loss: 1.3858 - val_accuracy: 0.4800 - val_loss: 1.4639 - learning_rate: 3.0000e-04\n",
            "Epoch 19/40\n",
            "\u001b[1m4/4\u001b[0m \u001b[32m━━━━━━━━━━━━━━━━━━━━\u001b[0m\u001b[37m\u001b[0m \u001b[1m4s\u001b[0m 814ms/step - accuracy: 0.4179 - loss: 1.4343 - val_accuracy: 0.4800 - val_loss: 1.4632 - learning_rate: 3.0000e-04\n",
            "Epoch 20/40\n",
            "\u001b[1m4/4\u001b[0m \u001b[32m━━━━━━━━━━━━━━━━━━━━\u001b[0m\u001b[37m\u001b[0m \u001b[1m5s\u001b[0m 772ms/step - accuracy: 0.4169 - loss: 1.4279 - val_accuracy: 0.4800 - val_loss: 1.4599 - learning_rate: 3.0000e-04\n",
            "Epoch 21/40\n",
            "\u001b[1m4/4\u001b[0m \u001b[32m━━━━━━━━━━━━━━━━━━━━\u001b[0m\u001b[37m\u001b[0m \u001b[1m4s\u001b[0m 1s/step - accuracy: 0.4575 - loss: 1.3791 - val_accuracy: 0.4800 - val_loss: 1.4593 - learning_rate: 3.0000e-04\n",
            "Epoch 22/40\n",
            "\u001b[1m4/4\u001b[0m \u001b[32m━━━━━━━━━━━━━━━━━━━━\u001b[0m\u001b[37m\u001b[0m \u001b[1m4s\u001b[0m 818ms/step - accuracy: 0.4273 - loss: 1.4012 - val_accuracy: 0.4800 - val_loss: 1.4657 - learning_rate: 3.0000e-04\n",
            "Epoch 23/40\n",
            "\u001b[1m4/4\u001b[0m \u001b[32m━━━━━━━━━━━━━━━━━━━━\u001b[0m\u001b[37m\u001b[0m \u001b[1m5s\u001b[0m 999ms/step - accuracy: 0.4554 - loss: 1.3197 - val_accuracy: 0.4800 - val_loss: 1.4744 - learning_rate: 3.0000e-04\n",
            "Epoch 24/40\n",
            "\u001b[1m4/4\u001b[0m \u001b[32m━━━━━━━━━━━━━━━━━━━━\u001b[0m\u001b[37m\u001b[0m \u001b[1m5s\u001b[0m 808ms/step - accuracy: 0.4742 - loss: 1.3826 - val_accuracy: 0.4800 - val_loss: 1.4788 - learning_rate: 3.0000e-04\n",
            "Epoch 25/40\n",
            "\u001b[1m4/4\u001b[0m \u001b[32m━━━━━━━━━━━━━━━━━━━━\u001b[0m\u001b[37m\u001b[0m \u001b[1m3s\u001b[0m 771ms/step - accuracy: 0.4762 - loss: 1.3471 - val_accuracy: 0.4400 - val_loss: 1.4810 - learning_rate: 1.5000e-04\n",
            "Epoch 26/40\n",
            "\u001b[1m4/4\u001b[0m \u001b[32m━━━━━━━━━━━━━━━━━━━━\u001b[0m\u001b[37m\u001b[0m \u001b[1m6s\u001b[0m 1s/step - accuracy: 0.4991 - loss: 1.3252 - val_accuracy: 0.4400 - val_loss: 1.4840 - learning_rate: 1.5000e-04\n"
          ]
        }
      ]
    },
    {
      "cell_type": "code",
      "source": [
        "from sklearn.metrics import classification_report, confusion_matrix, f1_score\n",
        "import seaborn as sns\n",
        "import matplotlib.pyplot as plt\n",
        "import numpy as np\n",
        "\n",
        "# Predict\n",
        "y_pred_probs = model.predict(X_test)\n",
        "y_pred = np.argmax(y_pred_probs, axis=1)\n",
        "y_true = np.argmax(y_test, axis=1)\n",
        "\n",
        "# Accuracy and F1\n",
        "test_loss, test_accuracy = model.evaluate(X_test, y_test, verbose=0)\n",
        "f1 = f1_score(y_true, y_pred, average='macro')\n",
        "\n",
        "print(f\"\\n✅ Test Accuracy: {test_accuracy:.2f}\")\n",
        "print(f\"🎯 Macro F1 Score: {f1:.4f}\")\n",
        "\n",
        "# Classification report\n",
        "target_names = [\"W\", \"N1\", \"N2\", \"N3\", \"REM\"]\n",
        "print(\"\\n📋 Classification Report:\")\n",
        "print(classification_report(y_true, y_pred, labels=[0, 1, 2, 3, 4], target_names=target_names))\n",
        "\n",
        "# Confusion Matrix\n",
        "cm = confusion_matrix(y_true, y_pred)\n",
        "plt.figure(figsize=(7, 5))\n",
        "sns.heatmap(cm, annot=True, fmt=\"d\", cmap=\"Blues\",\n",
        "            xticklabels=target_names, yticklabels=target_names)\n",
        "plt.xlabel(\"Predicted\")\n",
        "plt.ylabel(\"True\")\n",
        "plt.title(\"Confusion Matrix\")\n",
        "plt.tight_layout()\n",
        "plt.show()\n",
        "\n"
      ],
      "metadata": {
        "colab": {
          "base_uri": "https://localhost:8080/",
          "height": 1000
        },
        "id": "bBHNvCYPyg29",
        "outputId": "d856d89d-7177-4a30-ba93-ce28c68c38aa"
      },
      "execution_count": null,
      "outputs": [
        {
          "output_type": "stream",
          "name": "stdout",
          "text": [
            "\u001b[1m1/1\u001b[0m \u001b[32m━━━━━━━━━━━━━━━━━━━━\u001b[0m\u001b[37m\u001b[0m \u001b[1m0s\u001b[0m 366ms/step\n",
            "\n",
            "✅ Test Accuracy: 0.52\n",
            "🎯 Macro F1 Score: 0.1702\n",
            "\n",
            "📋 Classification Report:\n",
            "              precision    recall  f1-score   support\n",
            "\n",
            "           W       0.00      0.00      0.00         0\n",
            "          N1       0.00      0.00      0.00         4\n",
            "          N2       0.00      0.00      0.00        10\n",
            "          N3       0.52      1.00      0.68        16\n",
            "         REM       0.00      0.00      0.00         1\n",
            "\n",
            "    accuracy                           0.52        31\n",
            "   macro avg       0.10      0.20      0.14        31\n",
            "weighted avg       0.27      0.52      0.35        31\n",
            "\n"
          ]
        },
        {
          "output_type": "stream",
          "name": "stderr",
          "text": [
            "/usr/local/lib/python3.11/dist-packages/sklearn/metrics/_classification.py:1565: UndefinedMetricWarning: Precision is ill-defined and being set to 0.0 in labels with no predicted samples. Use `zero_division` parameter to control this behavior.\n",
            "  _warn_prf(average, modifier, f\"{metric.capitalize()} is\", len(result))\n",
            "/usr/local/lib/python3.11/dist-packages/sklearn/metrics/_classification.py:1565: UndefinedMetricWarning: Recall is ill-defined and being set to 0.0 in labels with no true samples. Use `zero_division` parameter to control this behavior.\n",
            "  _warn_prf(average, modifier, f\"{metric.capitalize()} is\", len(result))\n",
            "/usr/local/lib/python3.11/dist-packages/sklearn/metrics/_classification.py:1565: UndefinedMetricWarning: F-score is ill-defined and being set to 0.0 in labels with no true nor predicted samples. Use `zero_division` parameter to control this behavior.\n",
            "  _warn_prf(average, modifier, f\"{metric.capitalize()} is\", len(result))\n",
            "/usr/local/lib/python3.11/dist-packages/sklearn/metrics/_classification.py:1565: UndefinedMetricWarning: Precision is ill-defined and being set to 0.0 in labels with no predicted samples. Use `zero_division` parameter to control this behavior.\n",
            "  _warn_prf(average, modifier, f\"{metric.capitalize()} is\", len(result))\n",
            "/usr/local/lib/python3.11/dist-packages/sklearn/metrics/_classification.py:1565: UndefinedMetricWarning: Recall is ill-defined and being set to 0.0 in labels with no true samples. Use `zero_division` parameter to control this behavior.\n",
            "  _warn_prf(average, modifier, f\"{metric.capitalize()} is\", len(result))\n",
            "/usr/local/lib/python3.11/dist-packages/sklearn/metrics/_classification.py:1565: UndefinedMetricWarning: F-score is ill-defined and being set to 0.0 in labels with no true nor predicted samples. Use `zero_division` parameter to control this behavior.\n",
            "  _warn_prf(average, modifier, f\"{metric.capitalize()} is\", len(result))\n",
            "/usr/local/lib/python3.11/dist-packages/sklearn/metrics/_classification.py:1565: UndefinedMetricWarning: Precision is ill-defined and being set to 0.0 in labels with no predicted samples. Use `zero_division` parameter to control this behavior.\n",
            "  _warn_prf(average, modifier, f\"{metric.capitalize()} is\", len(result))\n",
            "/usr/local/lib/python3.11/dist-packages/sklearn/metrics/_classification.py:1565: UndefinedMetricWarning: Recall is ill-defined and being set to 0.0 in labels with no true samples. Use `zero_division` parameter to control this behavior.\n",
            "  _warn_prf(average, modifier, f\"{metric.capitalize()} is\", len(result))\n",
            "/usr/local/lib/python3.11/dist-packages/sklearn/metrics/_classification.py:1565: UndefinedMetricWarning: F-score is ill-defined and being set to 0.0 in labels with no true nor predicted samples. Use `zero_division` parameter to control this behavior.\n",
            "  _warn_prf(average, modifier, f\"{metric.capitalize()} is\", len(result))\n"
          ]
        },
        {
          "output_type": "display_data",
          "data": {
            "text/plain": [
              "<Figure size 700x500 with 2 Axes>"
            ],
            "image/png": "[encoded data removed]"
          },
          "metadata": {}
        }
      ]
    },
    {
      "cell_type": "code",
      "source": [],
      "metadata": {
        "id": "rTEBbN57YylD"
      },
      "execution_count": null,
      "outputs": []
    }
  ]
}