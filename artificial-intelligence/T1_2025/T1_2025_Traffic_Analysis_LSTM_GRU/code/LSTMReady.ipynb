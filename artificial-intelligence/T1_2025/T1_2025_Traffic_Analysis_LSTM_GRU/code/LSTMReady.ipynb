{
 "cells": [
  {
   "cell_type": "code",
   "execution_count": 1,
   "id": "3fc418d9-d150-4709-aa22-6a5b428f3794",
   "metadata": {},
   "outputs": [],
   "source": [
    "import pandas as pd\n",
    "from sklearn.preprocessing import MinMaxScaler\n",
    "\n",
    "# Load the best dataset for LSTM use\n",
    "lstm_df = pd.read_csv(r\"C:\\Users\\USER\\Chameleon\\MOP-Code\\artificial-intelligence\\Traffic Analysis\\Strategic Road Segment Analysis\\dataset\\traffic_volume_analysis_new.csv\")\n",
    "\n",
    "# Convert datetime and sort\n",
    "lstm_df['datetime'] = pd.to_datetime(lstm_df['datetime'])\n",
    "lstm_df = lstm_df.sort_values('datetime')\n",
    "\n",
    "# Create a simplified dataset with useful features for LSTM\n",
    "lstm_ready_df = lstm_df[[\n",
    "    'datetime', 'Total_Traffic_Volume', 'hour', 'day_of_week',\n",
    "    'month', 'year', 'road_name_encoded', 'location_encoded',\n",
    "    'suburb_encoded', 'average_speed', 'maximum_speed',\n",
    "    'Speeding_Incident', 'Speeding_Incident_Avg_Speed'\n",
    "]].copy()\n",
    "\n",
    "# Normalize the target variable\n",
    "scaler = MinMaxScaler()\n",
    "lstm_ready_df['scaled_traffic_volume'] = scaler.fit_transform(lstm_ready_df[['Total_Traffic_Volume']])\n",
    "\n",
    "# Save to CSV\n",
    "output_path = r\"C:\\Users\\USER\\Chameleon AI-IoT\\MOP-Code\\artificial-intelligence\\Traffic Analysis\\LSTM-GRU Vehicle Traffic/lstm_ready_traffic_data.csv\"\n",
    "lstm_ready_df.to_csv(output_path, index=False)\n",
    "\n"
   ]
  },
  {
   "cell_type": "code",
   "execution_count": null,
   "id": "f38048b4-d7bd-4c8c-9772-9eb3236c1091",
   "metadata": {},
   "outputs": [],
   "source": []
  }
 ],
 "metadata": {
  "kernelspec": {
   "display_name": "Python 3 (ipykernel)",
   "language": "python",
   "name": "python3"
  },
  "language_info": {
   "codemirror_mode": {
    "name": "ipython",
    "version": 3
   },
   "file_extension": ".py",
   "mimetype": "text/x-python",
   "name": "python",
   "nbconvert_exporter": "python",
   "pygments_lexer": "ipython3",
   "version": "3.12.4"
  }
 },
 "nbformat": 4,
 "nbformat_minor": 5
}
