{
  "nbformat": 4,
  "nbformat_minor": 0,
  "metadata": {
    "colab": {
      "provenance": []
    },
    "kernelspec": {
      "name": "python3",
      "display_name": "Python 3"
    },
    "language_info": {
      "name": "python"
    }
  },
  "cells": [
    {
      "cell_type": "code",
      "execution_count": null,
      "metadata": {
        "id": "KoCR6cDVVhgX",
        "colab": {
          "base_uri": "https://localhost:8080/"
        },
        "outputId": "b5a4d1ff-28e1-4ff3-bb42-a73fa5daa881"
      },
      "outputs": [
        {
          "output_type": "stream",
          "name": "stdout",
          "text": [
            "Collecting keras-tuner\n",
            "  Downloading keras_tuner-1.4.7-py3-none-any.whl.metadata (5.4 kB)\n",
            "Collecting optuna\n",
            "  Downloading optuna-4.3.0-py3-none-any.whl.metadata (17 kB)\n",
            "Requirement already satisfied: keras in /usr/local/lib/python3.11/dist-packages (from keras-tuner) (3.8.0)\n",
            "Requirement already satisfied: packaging in /usr/local/lib/python3.11/dist-packages (from keras-tuner) (24.2)\n",
            "Requirement already satisfied: requests in /usr/local/lib/python3.11/dist-packages (from keras-tuner) (2.32.3)\n",
            "Collecting kt-legacy (from keras-tuner)\n",
            "  Downloading kt_legacy-1.0.5-py3-none-any.whl.metadata (221 bytes)\n",
            "Collecting alembic>=1.5.0 (from optuna)\n",
            "  Downloading alembic-1.15.2-py3-none-any.whl.metadata (7.3 kB)\n",
            "Collecting colorlog (from optuna)\n",
            "  Downloading colorlog-6.9.0-py3-none-any.whl.metadata (10 kB)\n",
            "Requirement already satisfied: numpy in /usr/local/lib/python3.11/dist-packages (from optuna) (2.0.2)\n",
            "Requirement already satisfied: sqlalchemy>=1.4.2 in /usr/local/lib/python3.11/dist-packages (from optuna) (2.0.40)\n",
            "Requirement already satisfied: tqdm in /usr/local/lib/python3.11/dist-packages (from optuna) (4.67.1)\n",
            "Requirement already satisfied: PyYAML in /usr/local/lib/python3.11/dist-packages (from optuna) (6.0.2)\n",
            "Requirement already satisfied: Mako in /usr/lib/python3/dist-packages (from alembic>=1.5.0->optuna) (1.1.3)\n",
            "Requirement already satisfied: typing-extensions>=4.12 in /usr/local/lib/python3.11/dist-packages (from alembic>=1.5.0->optuna) (4.13.2)\n",
            "Requirement already satisfied: greenlet>=1 in /usr/local/lib/python3.11/dist-packages (from sqlalchemy>=1.4.2->optuna) (3.2.1)\n",
            "Requirement already satisfied: absl-py in /usr/local/lib/python3.11/dist-packages (from keras->keras-tuner) (1.4.0)\n",
            "Requirement already satisfied: rich in /usr/local/lib/python3.11/dist-packages (from keras->keras-tuner) (13.9.4)\n",
            "Requirement already satisfied: namex in /usr/local/lib/python3.11/dist-packages (from keras->keras-tuner) (0.0.9)\n",
            "Requirement already satisfied: h5py in /usr/local/lib/python3.11/dist-packages (from keras->keras-tuner) (3.13.0)\n",
            "Requirement already satisfied: optree in /usr/local/lib/python3.11/dist-packages (from keras->keras-tuner) (0.15.0)\n",
            "Requirement already satisfied: ml-dtypes in /usr/local/lib/python3.11/dist-packages (from keras->keras-tuner) (0.4.1)\n",
            "Requirement already satisfied: charset-normalizer<4,>=2 in /usr/local/lib/python3.11/dist-packages (from requests->keras-tuner) (3.4.1)\n",
            "Requirement already satisfied: idna<4,>=2.5 in /usr/local/lib/python3.11/dist-packages (from requests->keras-tuner) (3.10)\n",
            "Requirement already satisfied: urllib3<3,>=1.21.1 in /usr/local/lib/python3.11/dist-packages (from requests->keras-tuner) (2.4.0)\n",
            "Requirement already satisfied: certifi>=2017.4.17 in /usr/local/lib/python3.11/dist-packages (from requests->keras-tuner) (2025.4.26)\n",
            "Requirement already satisfied: markdown-it-py>=2.2.0 in /usr/local/lib/python3.11/dist-packages (from rich->keras->keras-tuner) (3.0.0)\n",
            "Requirement already satisfied: pygments<3.0.0,>=2.13.0 in /usr/local/lib/python3.11/dist-packages (from rich->keras->keras-tuner) (2.19.1)\n",
            "Requirement already satisfied: mdurl~=0.1 in /usr/local/lib/python3.11/dist-packages (from markdown-it-py>=2.2.0->rich->keras->keras-tuner) (0.1.2)\n",
            "Downloading keras_tuner-1.4.7-py3-none-any.whl (129 kB)\n",
            "\u001b[2K   \u001b[90m━━━━━━━━━━━━━━━━━━━━━━━━━━━━━━━━━━━━━━━━\u001b[0m \u001b[32m129.1/129.1 kB\u001b[0m \u001b[31m3.3 MB/s\u001b[0m eta \u001b[36m0:00:00\u001b[0m\n",
            "\u001b[?25hDownloading optuna-4.3.0-py3-none-any.whl (386 kB)\n",
            "\u001b[2K   \u001b[90m━━━━━━━━━━━━━━━━━━━━━━━━━━━━━━━━━━━━━━━━\u001b[0m \u001b[32m386.6/386.6 kB\u001b[0m \u001b[31m15.9 MB/s\u001b[0m eta \u001b[36m0:00:00\u001b[0m\n",
            "\u001b[?25hDownloading alembic-1.15.2-py3-none-any.whl (231 kB)\n",
            "\u001b[2K   \u001b[90m━━━━━━━━━━━━━━━━━━━━━━━━━━━━━━━━━━━━━━━━\u001b[0m \u001b[32m231.9/231.9 kB\u001b[0m \u001b[31m18.5 MB/s\u001b[0m eta \u001b[36m0:00:00\u001b[0m\n",
            "\u001b[?25hDownloading colorlog-6.9.0-py3-none-any.whl (11 kB)\n",
            "Downloading kt_legacy-1.0.5-py3-none-any.whl (9.6 kB)\n",
            "Installing collected packages: kt-legacy, colorlog, alembic, optuna, keras-tuner\n",
            "Successfully installed alembic-1.15.2 colorlog-6.9.0 keras-tuner-1.4.7 kt-legacy-1.0.5 optuna-4.3.0\n"
          ]
        }
      ],
      "source": [
        "pip install keras-tuner optuna\n"
      ]
    },
    {
      "cell_type": "code",
      "source": [
        "import optuna\n",
        "import numpy as np\n",
        "import pandas as pd\n",
        "from tensorflow.keras.models import Sequential\n",
        "from tensorflow.keras.layers import LSTM, Dense, Dropout\n",
        "from sklearn.metrics import mean_squared_error, mean_absolute_error, r2_score\n",
        "from sklearn.model_selection import train_test_split\n",
        "from sklearn.preprocessing import MinMaxScaler\n",
        "import tensorflow as tf\n",
        "tf.keras.backend.clear_session()\n",
        "\n",
        "# Load and preprocess data\n",
        "df = pd.read_csv(\"lstm_ready_traffic_data.csv\")\n",
        "df['datetime'] = pd.to_datetime(df['datetime'])\n",
        "\n",
        "if df['day_of_week'].dtype == 'object':\n",
        "    df['day_of_week'] = df['day_of_week'].astype('category').cat.codes\n",
        "\n",
        "features = [\n",
        "    'hour', 'day_of_week', 'month', 'year', 'road_name_encoded',\n",
        "    'location_encoded', 'suburb_encoded', 'average_speed',\n",
        "    'maximum_speed', 'Speeding_Incident', 'Speeding_Incident_Avg_Speed'\n",
        "]\n",
        "target = 'Total_Traffic_Volume'\n",
        "scaler = MinMaxScaler()\n",
        "df['scaled_traffic_volume'] = scaler.fit_transform(df[[target]])\n",
        "\n",
        "X = df[features].values.astype('float32')\n",
        "y = df['scaled_traffic_volume'].values.astype('float32')\n",
        "\n",
        "def create_sequences(X, y, time_steps=24):\n",
        "    Xs, ys = [], []\n",
        "    for i in range(len(X) - time_steps):\n",
        "        Xs.append(X[i:i + time_steps])\n",
        "        ys.append(y[i + time_steps])\n",
        "    return np.array(Xs), np.array(ys)\n",
        "\n",
        "X_seq, y_seq = create_sequences(X, y)\n",
        "X_train, X_test, y_train, y_test = train_test_split(X_seq, y_seq, test_size=0.2, shuffle=False)\n"
      ],
      "metadata": {
        "id": "D7EgFedfPgSz"
      },
      "execution_count": null,
      "outputs": []
    },
    {
      "cell_type": "code",
      "source": [
        "def objective(trial):\n",
        "    model = Sequential()\n",
        "    # Layer 1\n",
        "    model.add(LSTM(\n",
        "        units=trial.suggest_int(\"units_1\", 32, 128, step=32),\n",
        "        activation=trial.suggest_categorical(\"activation\", [\"relu\", \"tanh\"]),\n",
        "        return_sequences=True,\n",
        "        input_shape=(X_train.shape[1], X_train.shape[2])\n",
        "    ))\n",
        "    model.add(Dropout(trial.suggest_float(\"dropout_1\", 0.1, 0.5)))\n",
        "\n",
        "    # Layer 2\n",
        "    model.add(LSTM(\n",
        "        units=trial.suggest_int(\"units_2\", 16, 64, step=16),\n",
        "        activation=trial.suggest_categorical(\"activation2\", [\"relu\", \"tanh\"]),\n",
        "        return_sequences=True\n",
        "    ))\n",
        "    model.add(Dropout(trial.suggest_float(\"dropout_2\", 0.1, 0.5)))\n",
        "\n",
        "    # Layer 3\n",
        "    model.add(LSTM(\n",
        "        units=trial.suggest_int(\"units_3\", 8, 32, step=8),\n",
        "        activation=trial.suggest_categorical(\"activation3\", [\"relu\", \"tanh\"]),\n",
        "    ))\n",
        "    model.add(Dropout(trial.suggest_float(\"dropout_3\", 0.1, 0.5)))\n",
        "\n",
        "    model.add(Dense(1))\n",
        "\n",
        "    model.compile(\n",
        "        optimizer=trial.suggest_categorical(\"optimizer\", [\"adam\", \"rmsprop\"]),\n",
        "        loss=\"mse\"\n",
        "    )\n",
        "\n",
        "    model.fit(X_train, y_train, validation_data=(X_test, y_test),\n",
        "              epochs=10, batch_size=64, verbose=0)\n",
        "\n",
        "    return model.evaluate(X_test, y_test, verbose=0)\n"
      ],
      "metadata": {
        "id": "GPWPJoLAt6V_"
      },
      "execution_count": null,
      "outputs": []
    },
    {
      "cell_type": "code",
      "source": [
        "study = optuna.create_study(direction=\"minimize\")\n",
        "study.optimize(objective, n_trials=15)\n",
        "\n",
        "best_params = study.best_params\n",
        "best_value = study.best_value\n",
        "\n",
        "print(\"✅ Best Trial:\")\n",
        "print(\"Params:\", best_params)\n",
        "print(\"Loss:\", best_value)\n"
      ],
      "metadata": {
        "colab": {
          "base_uri": "https://localhost:8080/"
        },
        "id": "xIMDemAIufn_",
        "outputId": "c2fd7277-a8e8-4828-8735-7bf87d0aac12"
      },
      "execution_count": null,
      "outputs": [
        {
          "output_type": "stream",
          "name": "stderr",
          "text": [
            "[I 2025-05-11 14:22:54,422] A new study created in memory with name: no-name-1f6ae168-72a5-482a-8dcc-6874dfcceef2\n",
            "/usr/local/lib/python3.11/dist-packages/keras/src/layers/rnn/rnn.py:200: UserWarning: Do not pass an `input_shape`/`input_dim` argument to a layer. When using Sequential models, prefer using an `Input(shape)` object as the first layer in the model instead.\n",
            "  super().__init__(**kwargs)\n",
            "[I 2025-05-11 14:35:36,161] Trial 0 finished with value: 0.00792195089161396 and parameters: {'units_1': 96, 'activation': 'relu', 'dropout_1': 0.25920262999496535, 'units_2': 64, 'activation2': 'tanh', 'dropout_2': 0.46862628544674323, 'units_3': 24, 'activation3': 'relu', 'dropout_3': 0.4326406038066962, 'optimizer': 'rmsprop'}. Best is trial 0 with value: 0.00792195089161396.\n",
            "[I 2025-05-11 14:44:40,927] Trial 1 finished with value: 0.007825823500752449 and parameters: {'units_1': 64, 'activation': 'tanh', 'dropout_1': 0.11884863435417148, 'units_2': 64, 'activation2': 'tanh', 'dropout_2': 0.4727470149069394, 'units_3': 16, 'activation3': 'tanh', 'dropout_3': 0.14507274603981735, 'optimizer': 'adam'}. Best is trial 1 with value: 0.007825823500752449.\n",
            "[I 2025-05-11 14:51:30,197] Trial 2 finished with value: 0.007881208322942257 and parameters: {'units_1': 64, 'activation': 'tanh', 'dropout_1': 0.4586108658667377, 'units_2': 16, 'activation2': 'tanh', 'dropout_2': 0.41396434420321326, 'units_3': 8, 'activation3': 'relu', 'dropout_3': 0.4976802877400377, 'optimizer': 'adam'}. Best is trial 1 with value: 0.007825823500752449.\n",
            "[I 2025-05-11 14:58:13,534] Trial 3 finished with value: 0.007830162532627583 and parameters: {'units_1': 64, 'activation': 'relu', 'dropout_1': 0.13959080313446687, 'units_2': 64, 'activation2': 'relu', 'dropout_2': 0.18008119669652092, 'units_3': 8, 'activation3': 'relu', 'dropout_3': 0.29328359898324147, 'optimizer': 'rmsprop'}. Best is trial 1 with value: 0.007825823500752449.\n",
            "[I 2025-05-11 15:04:54,543] Trial 4 finished with value: 0.006790131330490112 and parameters: {'units_1': 32, 'activation': 'tanh', 'dropout_1': 0.23949893470775382, 'units_2': 16, 'activation2': 'tanh', 'dropout_2': 0.4056669575910915, 'units_3': 8, 'activation3': 'tanh', 'dropout_3': 0.21174372066086172, 'optimizer': 'rmsprop'}. Best is trial 4 with value: 0.006790131330490112.\n",
            "[I 2025-05-11 15:18:19,279] Trial 5 finished with value: 0.5656301975250244 and parameters: {'units_1': 128, 'activation': 'relu', 'dropout_1': 0.2646002330515641, 'units_2': 64, 'activation2': 'relu', 'dropout_2': 0.3881562977894988, 'units_3': 32, 'activation3': 'relu', 'dropout_3': 0.13400380952993707, 'optimizer': 'adam'}. Best is trial 4 with value: 0.006790131330490112.\n",
            "[I 2025-05-11 15:31:30,705] Trial 6 finished with value: 0.00786877516657114 and parameters: {'units_1': 96, 'activation': 'relu', 'dropout_1': 0.2709240560753504, 'units_2': 64, 'activation2': 'tanh', 'dropout_2': 0.41027189154681143, 'units_3': 32, 'activation3': 'relu', 'dropout_3': 0.3704890779892752, 'optimizer': 'rmsprop'}. Best is trial 4 with value: 0.006790131330490112.\n",
            "[I 2025-05-11 15:38:05,959] Trial 7 finished with value: 0.007828693836927414 and parameters: {'units_1': 64, 'activation': 'tanh', 'dropout_1': 0.32678550445820265, 'units_2': 16, 'activation2': 'relu', 'dropout_2': 0.174377862918148, 'units_3': 8, 'activation3': 'relu', 'dropout_3': 0.14891976083873237, 'optimizer': 'rmsprop'}. Best is trial 4 with value: 0.006790131330490112.\n",
            "[I 2025-05-11 15:44:55,016] Trial 8 finished with value: 9.478105545043945 and parameters: {'units_1': 32, 'activation': 'relu', 'dropout_1': 0.4333126009111733, 'units_2': 32, 'activation2': 'relu', 'dropout_2': 0.4889020165269473, 'units_3': 32, 'activation3': 'relu', 'dropout_3': 0.1963126598764665, 'optimizer': 'adam'}. Best is trial 4 with value: 0.006790131330490112.\n",
            "[I 2025-05-11 15:57:14,548] Trial 9 finished with value: 0.00782135222107172 and parameters: {'units_1': 96, 'activation': 'tanh', 'dropout_1': 0.33042250018397257, 'units_2': 48, 'activation2': 'relu', 'dropout_2': 0.47139976354972624, 'units_3': 16, 'activation3': 'relu', 'dropout_3': 0.11963298203217697, 'optimizer': 'adam'}. Best is trial 4 with value: 0.006790131330490112.\n",
            "[I 2025-05-11 16:03:58,342] Trial 10 finished with value: 0.007817525416612625 and parameters: {'units_1': 32, 'activation': 'tanh', 'dropout_1': 0.1980467279654237, 'units_2': 32, 'activation2': 'tanh', 'dropout_2': 0.2852739888437187, 'units_3': 16, 'activation3': 'tanh', 'dropout_3': 0.26556863880526754, 'optimizer': 'rmsprop'}. Best is trial 4 with value: 0.006790131330490112.\n",
            "[I 2025-05-11 16:09:45,307] Trial 11 finished with value: 0.007831145077943802 and parameters: {'units_1': 32, 'activation': 'tanh', 'dropout_1': 0.18925870496811417, 'units_2': 32, 'activation2': 'tanh', 'dropout_2': 0.2811308003784587, 'units_3': 16, 'activation3': 'tanh', 'dropout_3': 0.23720536807548379, 'optimizer': 'rmsprop'}. Best is trial 4 with value: 0.006790131330490112.\n",
            "[I 2025-05-11 16:16:18,790] Trial 12 finished with value: 0.007790594361722469 and parameters: {'units_1': 32, 'activation': 'tanh', 'dropout_1': 0.18011059440461463, 'units_2': 32, 'activation2': 'tanh', 'dropout_2': 0.29333852381046305, 'units_3': 24, 'activation3': 'tanh', 'dropout_3': 0.27936338536987027, 'optimizer': 'rmsprop'}. Best is trial 4 with value: 0.006790131330490112.\n",
            "[I 2025-05-11 16:22:35,140] Trial 13 finished with value: 0.007858633063733578 and parameters: {'units_1': 32, 'activation': 'tanh', 'dropout_1': 0.19592636760870696, 'units_2': 16, 'activation2': 'tanh', 'dropout_2': 0.3338192767692498, 'units_3': 24, 'activation3': 'tanh', 'dropout_3': 0.36386244287999003, 'optimizer': 'rmsprop'}. Best is trial 4 with value: 0.006790131330490112.\n",
            "[I 2025-05-11 16:29:15,749] Trial 14 finished with value: 0.007836886681616306 and parameters: {'units_1': 32, 'activation': 'tanh', 'dropout_1': 0.37433141132163844, 'units_2': 48, 'activation2': 'tanh', 'dropout_2': 0.10759573498446942, 'units_3': 24, 'activation3': 'tanh', 'dropout_3': 0.22134271130261193, 'optimizer': 'rmsprop'}. Best is trial 4 with value: 0.006790131330490112.\n"
          ]
        },
        {
          "output_type": "stream",
          "name": "stdout",
          "text": [
            "✅ Best Trial:\n",
            "Params: {'units_1': 32, 'activation': 'tanh', 'dropout_1': 0.23949893470775382, 'units_2': 16, 'activation2': 'tanh', 'dropout_2': 0.4056669575910915, 'units_3': 8, 'activation3': 'tanh', 'dropout_3': 0.21174372066086172, 'optimizer': 'rmsprop'}\n",
            "Loss: 0.006790131330490112\n"
          ]
        }
      ]
    },
    {
      "cell_type": "code",
      "source": [
        "# Rebuild using best params\n",
        "model = Sequential()\n",
        "model.add(LSTM(best_params['units_1'], activation=best_params['activation'], return_sequences=True, input_shape=(X_train.shape[1], X_train.shape[2])))\n",
        "model.add(Dropout(best_params['dropout_1']))\n",
        "model.add(LSTM(best_params['units_2'], activation=best_params['activation2'], return_sequences=True))\n",
        "model.add(Dropout(best_params['dropout_2']))\n",
        "model.add(LSTM(best_params['units_3'], activation=best_params['activation3']))\n",
        "model.add(Dropout(best_params['dropout_3']))\n",
        "model.add(Dense(1))\n",
        "model.compile(optimizer=best_params['optimizer'], loss='mse')\n",
        "model.fit(X_train, y_train, validation_data=(X_test, y_test), epochs=20, batch_size=64)\n",
        "\n",
        "# Predict & evaluate\n",
        "y_pred_optuna_tri = model.predict(X_test)\n",
        "rmse = np.sqrt(mean_squared_error(y_test, y_pred_optuna_tri))\n",
        "mae = mean_absolute_error(y_test, y_pred_optuna_tri)\n",
        "r2 = r2_score(y_test, y_pred_optuna_tri)\n",
        "\n",
        "print(\"\\n📊 Tri-LSTM Optuna Evaluation:\")\n",
        "print(f\"RMSE: {rmse:.4f} | MAE: {mae:.4f} | R²: {r2:.4f}\")\n"
      ],
      "metadata": {
        "colab": {
          "base_uri": "https://localhost:8080/"
        },
        "id": "KmwdSMSBujY8",
        "outputId": "cddc04db-3bef-4ee8-a3a3-cda5c4182e1f"
      },
      "execution_count": null,
      "outputs": [
        {
          "output_type": "stream",
          "name": "stdout",
          "text": [
            "Epoch 1/20\n",
            "\u001b[1m789/789\u001b[0m \u001b[32m━━━━━━━━━━━━━━━━━━━━\u001b[0m\u001b[37m\u001b[0m \u001b[1m33s\u001b[0m 35ms/step - loss: 0.0087 - val_loss: 0.0080\n",
            "Epoch 2/20\n",
            "\u001b[1m789/789\u001b[0m \u001b[32m━━━━━━━━━━━━━━━━━━━━\u001b[0m\u001b[37m\u001b[0m \u001b[1m39s\u001b[0m 33ms/step - loss: 0.0069 - val_loss: 0.0078\n",
            "Epoch 3/20\n",
            "\u001b[1m789/789\u001b[0m \u001b[32m━━━━━━━━━━━━━━━━━━━━\u001b[0m\u001b[37m\u001b[0m \u001b[1m41s\u001b[0m 33ms/step - loss: 0.0071 - val_loss: 0.0078\n",
            "Epoch 4/20\n",
            "\u001b[1m789/789\u001b[0m \u001b[32m━━━━━━━━━━━━━━━━━━━━\u001b[0m\u001b[37m\u001b[0m \u001b[1m27s\u001b[0m 34ms/step - loss: 0.0071 - val_loss: 0.0078\n",
            "Epoch 5/20\n",
            "\u001b[1m789/789\u001b[0m \u001b[32m━━━━━━━━━━━━━━━━━━━━\u001b[0m\u001b[37m\u001b[0m \u001b[1m40s\u001b[0m 32ms/step - loss: 0.0069 - val_loss: 0.0079\n",
            "Epoch 6/20\n",
            "\u001b[1m789/789\u001b[0m \u001b[32m━━━━━━━━━━━━━━━━━━━━\u001b[0m\u001b[37m\u001b[0m \u001b[1m41s\u001b[0m 33ms/step - loss: 0.0072 - val_loss: 0.0079\n",
            "Epoch 7/20\n",
            "\u001b[1m789/789\u001b[0m \u001b[32m━━━━━━━━━━━━━━━━━━━━\u001b[0m\u001b[37m\u001b[0m \u001b[1m27s\u001b[0m 34ms/step - loss: 0.0069 - val_loss: 0.0078\n",
            "Epoch 8/20\n",
            "\u001b[1m789/789\u001b[0m \u001b[32m━━━━━━━━━━━━━━━━━━━━\u001b[0m\u001b[37m\u001b[0m \u001b[1m41s\u001b[0m 34ms/step - loss: 0.0072 - val_loss: 0.0078\n",
            "Epoch 9/20\n",
            "\u001b[1m789/789\u001b[0m \u001b[32m━━━━━━━━━━━━━━━━━━━━\u001b[0m\u001b[37m\u001b[0m \u001b[1m41s\u001b[0m 34ms/step - loss: 0.0070 - val_loss: 0.0079\n",
            "Epoch 10/20\n",
            "\u001b[1m789/789\u001b[0m \u001b[32m━━━━━━━━━━━━━━━━━━━━\u001b[0m\u001b[37m\u001b[0m \u001b[1m41s\u001b[0m 34ms/step - loss: 0.0071 - val_loss: 0.0079\n",
            "Epoch 11/20\n",
            "\u001b[1m789/789\u001b[0m \u001b[32m━━━━━━━━━━━━━━━━━━━━\u001b[0m\u001b[37m\u001b[0m \u001b[1m40s\u001b[0m 33ms/step - loss: 0.0073 - val_loss: 0.0079\n",
            "Epoch 12/20\n",
            "\u001b[1m789/789\u001b[0m \u001b[32m━━━━━━━━━━━━━━━━━━━━\u001b[0m\u001b[37m\u001b[0m \u001b[1m27s\u001b[0m 34ms/step - loss: 0.0067 - val_loss: 0.0078\n",
            "Epoch 13/20\n",
            "\u001b[1m789/789\u001b[0m \u001b[32m━━━━━━━━━━━━━━━━━━━━\u001b[0m\u001b[37m\u001b[0m \u001b[1m27s\u001b[0m 34ms/step - loss: 0.0069 - val_loss: 0.0079\n",
            "Epoch 14/20\n",
            "\u001b[1m789/789\u001b[0m \u001b[32m━━━━━━━━━━━━━━━━━━━━\u001b[0m\u001b[37m\u001b[0m \u001b[1m26s\u001b[0m 33ms/step - loss: 0.0071 - val_loss: 0.0078\n",
            "Epoch 15/20\n",
            "\u001b[1m789/789\u001b[0m \u001b[32m━━━━━━━━━━━━━━━━━━━━\u001b[0m\u001b[37m\u001b[0m \u001b[1m42s\u001b[0m 34ms/step - loss: 0.0070 - val_loss: 0.0078\n",
            "Epoch 16/20\n",
            "\u001b[1m789/789\u001b[0m \u001b[32m━━━━━━━━━━━━━━━━━━━━\u001b[0m\u001b[37m\u001b[0m \u001b[1m42s\u001b[0m 34ms/step - loss: 0.0071 - val_loss: 0.0078\n",
            "Epoch 17/20\n",
            "\u001b[1m789/789\u001b[0m \u001b[32m━━━━━━━━━━━━━━━━━━━━\u001b[0m\u001b[37m\u001b[0m \u001b[1m41s\u001b[0m 35ms/step - loss: 0.0069 - val_loss: 0.0078\n",
            "Epoch 18/20\n",
            "\u001b[1m789/789\u001b[0m \u001b[32m━━━━━━━━━━━━━━━━━━━━\u001b[0m\u001b[37m\u001b[0m \u001b[1m41s\u001b[0m 34ms/step - loss: 0.0071 - val_loss: 0.0078\n",
            "Epoch 19/20\n",
            "\u001b[1m789/789\u001b[0m \u001b[32m━━━━━━━━━━━━━━━━━━━━\u001b[0m\u001b[37m\u001b[0m \u001b[1m40s\u001b[0m 34ms/step - loss: 0.0071 - val_loss: 0.0079\n",
            "Epoch 20/20\n",
            "\u001b[1m789/789\u001b[0m \u001b[32m━━━━━━━━━━━━━━━━━━━━\u001b[0m\u001b[37m\u001b[0m \u001b[1m42s\u001b[0m 35ms/step - loss: 0.0071 - val_loss: 0.0078\n",
            "\u001b[1m395/395\u001b[0m \u001b[32m━━━━━━━━━━━━━━━━━━━━\u001b[0m\u001b[37m\u001b[0m \u001b[1m4s\u001b[0m 8ms/step\n",
            "\n",
            "📊 Tri-LSTM Optuna Evaluation:\n",
            "RMSE: 0.0883 | MAE: 0.0532 | R²: -0.0035\n"
          ]
        }
      ]
    },
    {
      "cell_type": "code",
      "source": [
        "import numpy as np\n",
        "\n",
        "np.save(\"y_pred_optuna_tri.npy\", y_pred_optuna_tri)\n"
      ],
      "metadata": {
        "id": "hycOvWtCunFP"
      },
      "execution_count": null,
      "outputs": []
    },
    {
      "cell_type": "code",
      "source": [
        "from google.colab import files\n",
        "\n",
        "files.download(\"y_pred_optuna_tri.npy\")"
      ],
      "metadata": {
        "colab": {
          "base_uri": "https://localhost:8080/",
          "height": 17
        },
        "id": "oPBNPajTvWyg",
        "outputId": "cdf9efa3-68d4-4781-c4ba-7ed2b9aef7b5"
      },
      "execution_count": null,
      "outputs": [
        {
          "output_type": "display_data",
          "data": {
            "text/plain": [
              "<IPython.core.display.Javascript object>"
            ],
            "application/javascript": [
              "\n",
              "    async function download(id, filename, size) {\n",
              "      if (!google.colab.kernel.accessAllowed) {\n",
              "        return;\n",
              "      }\n",
              "      const div = document.createElement('div');\n",
              "      const label = document.createElement('label');\n",
              "      label.textContent = `Downloading \"${filename}\": `;\n",
              "      div.appendChild(label);\n",
              "      const progress = document.createElement('progress');\n",
              "      progress.max = size;\n",
              "      div.appendChild(progress);\n",
              "      document.body.appendChild(div);\n",
              "\n",
              "      const buffers = [];\n",
              "      let downloaded = 0;\n",
              "\n",
              "      const channel = await google.colab.kernel.comms.open(id);\n",
              "      // Send a message to notify the kernel that we're ready.\n",
              "      channel.send({})\n",
              "\n",
              "      for await (const message of channel.messages) {\n",
              "        // Send a message to notify the kernel that we're ready.\n",
              "        channel.send({})\n",
              "        if (message.buffers) {\n",
              "          for (const buffer of message.buffers) {\n",
              "            buffers.push(buffer);\n",
              "            downloaded += buffer.byteLength;\n",
              "            progress.value = downloaded;\n",
              "          }\n",
              "        }\n",
              "      }\n",
              "      const blob = new Blob(buffers, {type: 'application/binary'});\n",
              "      const a = document.createElement('a');\n",
              "      a.href = window.URL.createObjectURL(blob);\n",
              "      a.download = filename;\n",
              "      div.appendChild(a);\n",
              "      a.click();\n",
              "      div.remove();\n",
              "    }\n",
              "  "
            ]
          },
          "metadata": {}
        },
        {
          "output_type": "display_data",
          "data": {
            "text/plain": [
              "<IPython.core.display.Javascript object>"
            ],
            "application/javascript": [
              "download(\"download_06b30984-3c4e-47e5-828a-94f4cbeda2b5\", \"y_pred_optuna_tri.npy\", 50608)"
            ]
          },
          "metadata": {}
        }
      ]
    },
    {
      "cell_type": "code",
      "source": [],
      "metadata": {
        "id": "Ummmodu0vlPe"
      },
      "execution_count": null,
      "outputs": []
    }
  ]
}