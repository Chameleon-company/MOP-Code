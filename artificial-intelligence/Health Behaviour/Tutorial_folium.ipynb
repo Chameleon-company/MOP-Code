{
 "cells": [
  {
   "cell_type": "markdown",
   "id": "282d8219-c3c8-46a8-91d2-7237dcce009c",
   "metadata": {},
   "source": [
    "## Tutorial: Getting Started with the Folium Library"
   ]
  },
  {
   "cell_type": "markdown",
   "id": "f643e3f7-c149-4511-b10f-8a51c876139e",
   "metadata": {},
   "source": [
    "### Overview"
   ]
  },
  {
   "cell_type": "markdown",
   "id": "7cec78a8-9b62-40bc-bc93-370e1325d476",
   "metadata": {},
   "source": [
    "For advanced geospatial data visualisation, Folium is a Python library that can be used to simplify theprocess of creating interactive, web based maps using the Leaflet.js JavaSript library. It can be integrated with Python data analysis tools like Pandas."
   ]
  },
  {
   "cell_type": "markdown",
   "id": "6413f6cf-e5d7-4bdc-8215-31452f2f8bbe",
   "metadata": {},
   "source": [
    "### Key Features:"
   ]
  },
  {
   "cell_type": "markdown",
   "id": "2663cd42-cf7c-4bc6-a937-c4e7dbf86059",
   "metadata": {},
   "source": [
    "- Create interactive maps with zooming and panning\n",
    "- Add markers, popups and tooltips\n",
    "- Visualise geospatial data using choropleth maps, heatmaps and marker clusters\n",
    "- Customise map styles and markers"
   ]
  },
  {
   "cell_type": "markdown",
   "id": "0a9b2584-fb9a-4f60-a170-ad3f264a85d0",
   "metadata": {},
   "source": [
    "### Installation"
   ]
  },
  {
   "cell_type": "markdown",
   "id": "1f972d60-cf0f-4540-9d4b-0946be877406",
   "metadata": {},
   "source": [
    "Ensure the library is installed along with any dependencies. All the dependencies of the Fulium libarry are installed with the following command:\n"
   ]
  },
  {
   "cell_type": "code",
   "execution_count": null,
   "id": "7928eebd-a06a-4b36-99c9-e4c3ee2b8ec2",
   "metadata": {},
   "outputs": [],
   "source": [
    "$ pip install folium"
   ]
  },
  {
   "cell_type": "markdown",
   "id": "f3faa39b-af20-414c-905b-85177ea13b06",
   "metadata": {},
   "source": [
    "## Creating your first map"
   ]
  },
  {
   "cell_type": "markdown",
   "id": "f94b4dee-7e7f-411b-a7fb-fb55507f3b07",
   "metadata": {},
   "source": [
    "1. Import the foilum library "
   ]
  },
  {
   "cell_type": "code",
   "execution_count": 1,
   "id": "e5bf11f8-8b41-4ac1-89ed-7f0ee27c920b",
   "metadata": {},
   "outputs": [],
   "source": [
    "import folium"
   ]
  },
  {
   "cell_type": "markdown",
   "id": "a2421974-8927-4041-aed0-5fef6fc6258b",
   "metadata": {},
   "source": [
    "2. **Create a Base Map.**\n",
    "    The Base map is centered on a specefic location using longitude and latitude coordinates. The zoom features allows us to see how zoomed in or out the map is. A lower zoom_start value means the map will be zoomed out while a higher zoom_start value means the map will be zoomed in.\n",
    "\n",
    "    The map is displayed and saved as a HTML file"
   ]
  },
  {
   "cell_type": "code",
   "execution_count": 2,
   "id": "af54371f-8b67-4848-a89b-f2a6d2119512",
   "metadata": {},
   "outputs": [],
   "source": [
    "# Create a map centered on Melbourne, Australia\n",
    "map = folium.Map(location=[-37.8136, 144.9631], zoom_start=12)\n",
    "\n",
    "# Display the map\n",
    "map.save(\"basic_map.html\")  # Save as an HTML file"
   ]
  },
  {
   "cell_type": "markdown",
   "id": "61824bb2-2607-4eac-a4ea-f98fc2a460f3",
   "metadata": {},
   "source": [
    "3. **Adding Markers**\n",
    "   Add points of interest using markers. Using the **folium.Marker()** method creates a marker, with coordinates of the marker specified under the location parameter.\n",
    "\n",
    "   **popup**: speceifies the text shown on the marker as a small popup window when the marker is clicked.\n",
    "\n",
    "   **tooltip**: the text that appears when the users hover over the marker before clicking\n",
    "\n",
    "   **.add_to(map)**: add marker to the map object\n",
    "\n",
    "   **icon=folium.Icon(color=\"color\")**: specifies icon style for the marker."
   ]
  },
  {
   "cell_type": "code",
   "execution_count": 3,
   "id": "874a7f21-61c9-4782-ab8f-6732a1b5b10a",
   "metadata": {},
   "outputs": [],
   "source": [
    "# Add a marker for Melbourne CBD\n",
    "folium.Marker(\n",
    "    location=[-37.8136, 144.9631],\n",
    "    popup=\"Melbourne CBD\",\n",
    "    tooltip=\"Click for more info\"\n",
    ").add_to(map)\n",
    "\n",
    "# Add a second marker\n",
    "folium.Marker(\n",
    "    location=[-37.798, 144.956],\n",
    "    popup=\"North Melbourne\",\n",
    "    icon=folium.Icon(color=\"green\")\n",
    ").add_to(map)\n",
    "\n",
    "# Save and display the updated map\n",
    "map.save(\"markers_map.html\")"
   ]
  },
  {
   "cell_type": "markdown",
   "id": "0134abfe-5fda-4ebe-8756-83acecd201b9",
   "metadata": {},
   "source": [
    "## Advanced Features"
   ]
  },
  {
   "cell_type": "markdown",
   "id": "c3e6d908-f522-46ae-80bd-5a780ce9bab2",
   "metadata": {},
   "source": [
    "### Adding Tile Layers"
   ]
  },
  {
   "cell_type": "markdown",
   "id": "d86c0225-85f7-465f-9e47-5373f2e304ed",
   "metadata": {},
   "source": [
    "Folium alllows you to switch between different tile styles for different map backgrounds. Some common ones include:\n",
    "\n",
    "- **OpenStreetMap**: defualt layer showing general streets and landmarks\n",
    "- **Stamen Terrain**: A topographic map with terrain features such as hills, valleys, and elevation data\n",
    "- **Stamen Toner**: A black and white high contrast map that emphasizes roads and other features, ideal for printing or emphasizing features in an urban setting\n",
    "\n",
    "- **CartoDB positron**: A clean, light background map ideal for overlaying other infromation without distraction"
   ]
  },
  {
   "cell_type": "code",
   "execution_count": null,
   "id": "04fa87bc-d3cc-4d9d-a643-abbe89261997",
   "metadata": {},
   "outputs": [],
   "source": [
    "import folium\n",
    "\n",
    "# Create a map with OpenStreetMap tile layer (default)\n",
    "osm_map = folium.Map(location=[-37.8136, 144.9631], zoom_start=12)\n",
    "osm_map.save(\"osm_map.html\")\n"
   ]
  },
  {
   "cell_type": "code",
   "execution_count": null,
   "id": "04084bfd-9501-41aa-827e-f19f9fd53033",
   "metadata": {},
   "outputs": [],
   "source": [
    "import folium\n",
    "\n",
    "# Create a map with the 'Stamen Terrain' tile layer\n",
    "terrain_map = folium.Map(location=[-37.8136, 144.9631], zoom_start=12, tiles=\"Stamen Terrain\")\n",
    "terrain_map.save(\"terrain_map.html\")\n"
   ]
  },
  {
   "cell_type": "markdown",
   "id": "d2531008-c52e-42f6-8fe7-bf6ca014f2ad",
   "metadata": {},
   "source": [
    "### Adding Layers and Layer Control"
   ]
  },
  {
   "cell_type": "markdown",
   "id": "168edf86-8c01-4500-bdd9-563e43f76b6f",
   "metadata": {},
   "source": [
    "Multiple layers can be combined and vsisibility can be controlled. \n",
    "\n",
    "**FeatureGroup**: this method creates separate groups/layers on the map. Each layer can contain multiple elements like markers, circles, polygons etc\n",
    "\n",
    "**add_to**: Attaches layers to the map instance\n",
    "\n",
    "**folium.Marker**: Places marker at the specefied location\n",
    "\n",
    "**folium.LayerControl**: Creates UI widget on map, allowing users to toggle the visisbility on each layer independently\n"
   ]
  },
  {
   "cell_type": "code",
   "execution_count": null,
   "id": "c19aa83f-db03-43f6-ace0-4db500490417",
   "metadata": {},
   "outputs": [],
   "source": [
    "# Create two layers\n",
    "layer1 = folium.FeatureGroup(name=\"Layer 1\").add_to(mymap)\n",
    "layer2 = folium.FeatureGroup(name=\"Layer 2\").add_to(mymap)\n",
    "\n",
    "# Add markers to layers\n",
    "folium.Marker([37.77, -122.42], popup=\"Layer 1\").add_to(layer1)\n",
    "folium.Marker([37.78, -122.43], popup=\"Layer 2\").add_to(layer2)\n",
    "\n",
    "# Add layer control to the map\n",
    "folium.LayerControl().add_to(mymap)\n",
    "mymap\n"
   ]
  },
  {
   "cell_type": "markdown",
   "id": "8eb945e9-2be6-4c3e-9ede-5e12f8874864",
   "metadata": {},
   "source": [
    "### Heatmap Visualisation"
   ]
  },
  {
   "cell_type": "markdown",
   "id": "4aee60a6-95a7-491e-bc21-7cd584dfda10",
   "metadata": {},
   "source": [
    "Data density can be visualised with Heatmaps"
   ]
  },
  {
   "cell_type": "code",
   "execution_count": null,
   "id": "981956d8-0470-4a1a-8df3-fb74c22a6ef6",
   "metadata": {},
   "outputs": [],
   "source": [
    "from folium.plugins import HeatMap\n",
    "\n",
    "# Sample data points\n",
    "data_points = [\n",
    "    [37.7749, -122.4194],\n",
    "    [37.7849, -122.4294],\n",
    "    [37.7649, -122.4094]\n",
    "]\n",
    "\n",
    "HeatMap(data_points).add_to(mymap)\n",
    "mymap\n"
   ]
  },
  {
   "cell_type": "markdown",
   "id": "753dfce7-e47d-40bd-9d48-bdb213903184",
   "metadata": {},
   "source": [
    "## Saving and Viewing the Map"
   ]
  },
  {
   "cell_type": "markdown",
   "id": "7f5cd7bc-c1c2-427e-85f1-58575fca1756",
   "metadata": {},
   "source": [
    "The map can be saved to a HTML file and viewed in a web browser."
   ]
  },
  {
   "cell_type": "code",
   "execution_count": null,
   "id": "589fcf1c-d5b7-4c59-9e70-b45f3d029ec0",
   "metadata": {},
   "outputs": [],
   "source": [
    "mymap.save(\"interactive_map.html\")\n"
   ]
  }
 ],
 "metadata": {
  "kernelspec": {
   "display_name": "Python 3 (ipykernel)",
   "language": "python",
   "name": "python3"
  },
  "language_info": {
   "codemirror_mode": {
    "name": "ipython",
    "version": 3
   },
   "file_extension": ".py",
   "mimetype": "text/x-python",
   "name": "python",
   "nbconvert_exporter": "python",
   "pygments_lexer": "ipython3",
   "version": "3.9.19"
  }
 },
 "nbformat": 4,
 "nbformat_minor": 5
}
