{
 "cells": [
  {
   "cell_type": "markdown",
   "metadata": {},
   "source": [
    "### 1. Setup and Imports"
   ]
  },
  {
   "cell_type": "code",
   "execution_count": 3,
   "metadata": {},
   "outputs": [
    {
     "name": "stdout",
     "output_type": "stream",
     "text": [
      "Collecting geopy\n",
      "  Using cached geopy-2.4.1-py3-none-any.whl.metadata (6.8 kB)\n",
      "Collecting geographiclib<3,>=1.52 (from geopy)\n",
      "  Using cached geographiclib-2.0-py3-none-any.whl.metadata (1.4 kB)\n",
      "Using cached geopy-2.4.1-py3-none-any.whl (125 kB)\n",
      "Using cached geographiclib-2.0-py3-none-any.whl (40 kB)\n",
      "Installing collected packages: geographiclib, geopy\n",
      "Successfully installed geographiclib-2.0 geopy-2.4.1\n",
      "Note: you may need to restart the kernel to use updated packages.\n"
     ]
    }
   ],
   "source": [
    "pip install geopy"
   ]
  },
  {
   "cell_type": "code",
   "execution_count": 4,
   "metadata": {},
   "outputs": [],
   "source": [
    "# Import Libraries\n",
    "import os\n",
    "import pandas as pd\n",
    "import requests\n",
    "import matplotlib.pyplot as plt\n",
    "import plotly.express as px\n",
    "from io import StringIO\n",
    "import numpy as np\n",
    "from sklearn.model_selection import train_test_split\n",
    "from sklearn.linear_model import LinearRegression\n",
    "from sklearn.ensemble import RandomForestRegressor\n",
    "from sklearn.metrics import mean_absolute_error, mean_squared_error\n",
    "import pickle\n",
    "import dash\n",
    "from dash import dcc, html, Input, Output\n",
    "import plotly.graph_objs as go\n",
    "from geopy.geocoders import Nominatim\n",
    "import time\n",
    "\n"
   ]
  },
  {
   "cell_type": "markdown",
   "metadata": {},
   "source": [
    "###  2.Fetch Raw Data"
   ]
  },
  {
   "cell_type": "code",
   "execution_count": 5,
   "metadata": {},
   "outputs": [
    {
     "name": "stdout",
     "output_type": "stream",
     "text": [
      "Fetching datasets...\n",
      "Raw data saved to 'data/raw/raw_combined.csv'.\n"
     ]
    }
   ],
   "source": [
    "# Fetch datasets and combine them\n",
    "def fetch_and_combine_datasets(dataset_ids, base_url):\n",
    "    \"\"\"\n",
    "    Fetch and combine datasets from the specified URLs, standardizing schema across years.\n",
    "    \"\"\"\n",
    "    dataframes = []\n",
    "    for dataset_id in dataset_ids:\n",
    "        url = f'{base_url}{dataset_id}/exports/csv'\n",
    "        try:\n",
    "            response = requests.get(url)\n",
    "            response.raise_for_status()\n",
    "            df = pd.read_csv(StringIO(response.content.decode('utf-8')), delimiter=';', on_bad_lines='skip')\n",
    "            if 'respondent_group0' in df.columns:\n",
    "                df.rename(columns={'respondent_group0': 'respondent_group'}, inplace=True)\n",
    "            dataframes.append(df)\n",
    "        except requests.exceptions.RequestException as e:\n",
    "            print(f\"Error fetching dataset {dataset_id}: {e}\")\n",
    "            continue\n",
    "    return pd.concat(dataframes, ignore_index=True) if dataframes else pd.DataFrame()\n",
    "\n",
    "# Constants for dataset fetching\n",
    "BASE_URL = 'https://data.melbourne.vic.gov.au/api/explore/v2.1/catalog/datasets/'\n",
    "DATASET_IDS = [\n",
    "    'social-indicators-for-city-of-melbourne-residents-2023',\n",
    "    'social-indicators-for-city-of-melbourne-residents-2022',\n",
    "    'social-indicators-for-city-of-melbourne-residents-2021',\n",
    "    'social-indicators-for-city-of-melbourne-residents-2020',\n",
    "    'social-indicators-for-city-of-melbourne-residents-2019',\n",
    "    'social-indicators-for-city-of-melbourne-residents-2018'\n",
    "]\n",
    "\n",
    "# Fetch and save raw data\n",
    "print(\"Fetching datasets...\")\n",
    "raw_data = fetch_and_combine_datasets(DATASET_IDS, BASE_URL)\n",
    "if not raw_data.empty:\n",
    "    raw_data.to_csv(\"data/raw/raw_combined.csv\", index=False)\n",
    "    print(\"Raw data saved to 'data/raw/raw_combined.csv'.\")\n",
    "else:\n",
    "    print(\"No datasets fetched.\")\n",
    "\n"
   ]
  },
  {
   "cell_type": "markdown",
   "metadata": {},
   "source": [
    "### 3. Clean and Organize Data"
   ]
  },
  {
   "cell_type": "code",
   "execution_count": 6,
   "metadata": {},
   "outputs": [
    {
     "name": "stdout",
     "output_type": "stream",
     "text": [
      "Cleaning and organizing data...\n",
      "Cleaned data saved to 'data/processed/subjective_wellbeing_cleaned.csv'.\n"
     ]
    }
   ],
   "source": [
    "# Data Cleaning\n",
    "def organize_subjective_wellbeing_data(dataframe):\n",
    "    \"\"\"\n",
    "    Process and organize the 'Subjective wellbeing' dataset:\n",
    "    - Filters data for 'Subjective wellbeing' topics.\n",
    "    - Drops unnecessary columns.\n",
    "    - Adds a 'Category' column based on 'respondent_group' for classification.\n",
    "    - Reorganizes and renames columns for clarity.\n",
    "    \"\"\"\n",
    "    # Step 1: Filter for rows where the topic is 'Subjective wellbeing'\n",
    "    filtered_df = dataframe[dataframe['topic'] == 'Subjective wellbeing']\n",
    "\n",
    "    # Step 2: Drop unnecessary columns (if they exist)\n",
    "    drop_columns = ['indicator', 'topic', 'type', 'response', 'format', 'sample_size']\n",
    "    filtered_df = filtered_df.drop(columns=[col for col in drop_columns if col in filtered_df.columns], errors='ignore')\n",
    "\n",
    "    # Step 3: Add a 'Category' column based on respondent grouping\n",
    "    def categorize_respondent_group(row):\n",
    "        if row.get('respondent_group') in ['Male', 'Female']:\n",
    "            return 'Gender'\n",
    "        elif row.get('respondent_group') in ['18-24 years', '25-34 years', '35-44 years', '45-54 years', '55-64 years', '65+ years']:\n",
    "            return 'Age Group'\n",
    "        elif row.get('respondent_group') in ['18-24', '25-34', '35-44', '45-54', '55-64', '65+']:\n",
    "            return 'Age Group'\n",
    "        else:\n",
    "            return 'Suburb'\n",
    "\n",
    "    filtered_df['Category'] = filtered_df.apply(categorize_respondent_group, axis=1)\n",
    "\n",
    "    # Step 4: Reorganize and rename columns for clarity\n",
    "    reorganized_df = filtered_df[['description', 'Category', 'respondent_group', 'year', 'result']]\n",
    "    reorganized_df = reorganized_df.rename(columns={\n",
    "        'description': 'Subtopics',\n",
    "        'respondent_group': 'Subcategory',\n",
    "        'result': 'Percentage'\n",
    "    })\n",
    "\n",
    "    # Adjust the index to start from 1\n",
    "    reorganized_df.index += 1\n",
    "\n",
    "    # Standardize Subcategory names\n",
    "    corrections = {\n",
    "        '18-24': '18-24 years', '24-34': '24-34 years', '25-34': '25-34 years',\n",
    "        '35-44': '35-44 years', '45-54': '45-54 years', '55-64': '55-64 years',\n",
    "        '65+': '65+ years', 'Kensington/ Flemingon 3031': 'Kensington / Flemington 3031',\n",
    "        'South Yarra 3141 / Melbourne (St Kilda Road) 3004': 'South Yarra 3141 / Melbourne/St Kilda Road 3004',\n",
    "        'Southbank/ South Wharf 3006': 'South Wharf / Southbank 3006'\n",
    "    }\n",
    "    reorganized_df['Subcategory'] = reorganized_df['Subcategory'].replace(corrections)\n",
    "\n",
    "    return reorganized_df\n",
    "\n",
    "# Clean and save processed data\n",
    "print(\"Cleaning and organizing data...\")\n",
    "cleaned_data = organize_subjective_wellbeing_data(raw_data)\n",
    "cleaned_data.to_csv(\"data/processed/subjective_wellbeing_cleaned.csv\", index=False)\n",
    "print(\"Cleaned data saved to 'data/processed/subjective_wellbeing_cleaned.csv'.\")"
   ]
  },
  {
   "cell_type": "markdown",
   "metadata": {},
   "source": [
    "### 4. Generate and Save Visualizations"
   ]
  },
  {
   "cell_type": "code",
   "execution_count": 7,
   "metadata": {},
   "outputs": [
    {
     "name": "stdout",
     "output_type": "stream",
     "text": [
      "Validating cleaned data...\n",
      "Missing values: 0\n",
      "Duplicate rows: 0\n",
      "Validation complete!\n"
     ]
    }
   ],
   "source": [
    "# Validation Script\n",
    "def validate_cleaned_data(dataframe):\n",
    "    \"\"\"\n",
    "    Validate the cleaned dataset for missing values, duplicates, and consistency.\n",
    "    \"\"\"\n",
    "    print(\"Validating cleaned data...\")\n",
    "    missing_values = dataframe.isnull().sum().sum()\n",
    "    duplicates = dataframe.duplicated().sum()\n",
    "    print(f\"Missing values: {missing_values}\")\n",
    "    print(f\"Duplicate rows: {duplicates}\")\n",
    "    print(\"Validation complete!\")\n",
    "\n",
    "# Validate cleaned data\n",
    "validate_cleaned_data(cleaned_data)"
   ]
  },
  {
   "cell_type": "markdown",
   "metadata": {},
   "source": [
    "### 5.Generate and Save Visualizations"
   ]
  },
  {
   "cell_type": "code",
   "execution_count": 8,
   "metadata": {},
   "outputs": [
    {
     "name": "stdout",
     "output_type": "stream",
     "text": [
      "Generating static visualizations...\n"
     ]
    },
    {
     "data": {
      "image/png": "[encoded data removed]",
      "text/plain": [
       "<Figure size 1000x600 with 1 Axes>"
      ]
     },
     "metadata": {},
     "output_type": "display_data"
    },
    {
     "data": {
      "image/png": "[encoded data removed]",
      "text/plain": [
       "<Figure size 800x500 with 1 Axes>"
      ]
     },
     "metadata": {},
     "output_type": "display_data"
    },
    {
     "name": "stdout",
     "output_type": "stream",
     "text": [
      "Static visualizations saved to 'visualizations/static/'.\n"
     ]
    }
   ],
   "source": [
    "# Static Visualizations\n",
    "def generate_static_visualizations(dataframe):\n",
    "    \"\"\"\n",
    "    Generate and save static visualizations.\n",
    "    \"\"\"\n",
    "    # Line plot for trends over years\n",
    "    trends = dataframe.groupby(['year', 'Category'])['Percentage'].mean().unstack()\n",
    "    trends.plot(kind='line', figsize=(10, 6), title='Trends Over Years')\n",
    "    plt.xlabel('Year')\n",
    "    plt.ylabel('Percentage')\n",
    "    plt.savefig('visualizations/static/trends_over_years.png')\n",
    "    plt.show()\n",
    "\n",
    "    # Bar chart for category distributions\n",
    "    category_counts = dataframe['Category'].value_counts()\n",
    "    category_counts.plot(kind='bar', figsize=(8, 5), title='Category Distribution')\n",
    "    plt.xlabel('Category')\n",
    "    plt.ylabel('Count')\n",
    "    plt.savefig('visualizations/static/category_distributions.png')\n",
    "    plt.show()\n",
    "\n",
    "# Generate static visualizations\n",
    "print(\"Generating static visualizations...\")\n",
    "generate_static_visualizations(cleaned_data)\n",
    "print(\"Static visualizations saved to 'visualizations/static/'.\")"
   ]
  },
  {
   "cell_type": "markdown",
   "metadata": {},
   "source": [
    "### 6. Interactive Visualizations"
   ]
  },
  {
   "cell_type": "code",
   "execution_count": 9,
   "metadata": {},
   "outputs": [
    {
     "name": "stdout",
     "output_type": "stream",
     "text": [
      "Generating interactive visualizations...\n",
      "Interactive visualizations saved to 'visualizations/interactive/'.\n"
     ]
    }
   ],
   "source": [
    "# Interactive Visualizations\n",
    "def generate_interactive_visualizations(dataframe):\n",
    "    \"\"\"\n",
    "    Generate and save interactive visualizations.\n",
    "    \"\"\"\n",
    "    # Interactive line chart\n",
    "    fig = px.line(dataframe, x='year', y='Percentage', color='Category',\n",
    "                  title='Interactive Trends Over Years')\n",
    "    fig.write_html(\"visualizations/interactive/trends_over_years.html\")\n",
    "\n",
    "    # Interactive bar chart\n",
    "    fig = px.bar(dataframe, x='Category', y='Percentage', color='Category',\n",
    "                 title='Interactive Category Distribution')\n",
    "    fig.write_html(\"visualizations/interactive/category_distributions.html\")\n",
    "\n",
    "# Generate interactive visualizations\n",
    "print(\"Generating interactive visualizations...\")\n",
    "generate_interactive_visualizations(cleaned_data)\n",
    "print(\"Interactive visualizations saved to 'visualizations/interactive/'.\")"
   ]
  },
  {
   "cell_type": "code",
   "execution_count": 10,
   "metadata": {},
   "outputs": [
    {
     "name": "stdout",
     "output_type": "stream",
     "text": [
      "                              Subtopics   Category   Subcategory  year  \\\n",
      "0  Satisfaction with standard of living  Age Group   35-44 years  2023   \n",
      "1  Satisfaction with standard of living  Age Group   55-64 years  2023   \n",
      "2  Satisfaction with standard of living  Age Group     65+ years  2023   \n",
      "3  Satisfaction with standard of living     Gender        Female  2023   \n",
      "4  Satisfaction with standard of living     Suburb  Carlton 3053  2023   \n",
      "\n",
      "   Percentage  \n",
      "0        73.4  \n",
      "1        79.4  \n",
      "2        85.7  \n",
      "3        74.9  \n",
      "4        68.7  \n"
     ]
    }
   ],
   "source": [
    "# Load Cleaned Data\n",
    "data_path = \"data/processed/subjective_wellbeing_cleaned.csv\"\n",
    "data = pd.read_csv(data_path)\n",
    "\n",
    "# Ensure data is loaded correctly\n",
    "print(data.head())"
   ]
  },
  {
   "cell_type": "markdown",
   "metadata": {},
   "source": [
    "### Preprocess Data"
   ]
  },
  {
   "cell_type": "code",
   "execution_count": 11,
   "metadata": {},
   "outputs": [
    {
     "name": "stdout",
     "output_type": "stream",
     "text": [
      "Training set size: (604, 25)\n",
      "Test set size: (152, 25)\n"
     ]
    }
   ],
   "source": [
    "# Convert categorical columns to numeric using one-hot encoding\n",
    "data_encoded = pd.get_dummies(data, columns=['Category', 'Subcategory', 'Subtopics'], drop_first=True)\n",
    "\n",
    "# Split data into features (X) and target (y)\n",
    "X = data_encoded.drop(columns=['year', 'Percentage'])\n",
    "y = data_encoded['Percentage']\n",
    "\n",
    "# Split into training and test sets\n",
    "X_train, X_test, y_train, y_test = train_test_split(X, y, test_size=0.2, random_state=42)\n",
    "\n",
    "print(f\"Training set size: {X_train.shape}\")\n",
    "print(f\"Test set size: {X_test.shape}\")"
   ]
  },
  {
   "cell_type": "markdown",
   "metadata": {},
   "source": [
    "### Train Models"
   ]
  },
  {
   "cell_type": "code",
   "execution_count": 12,
   "metadata": {},
   "outputs": [
    {
     "data": {
      "text/html": [
       "<style>#sk-container-id-1 {\n",
       "  /* Definition of color scheme common for light and dark mode */\n",
       "  --sklearn-color-text: black;\n",
       "  --sklearn-color-line: gray;\n",
       "  /* Definition of color scheme for unfitted estimators */\n",
       "  --sklearn-color-unfitted-level-0: #fff5e6;\n",
       "  --sklearn-color-unfitted-level-1: #f6e4d2;\n",
       "  --sklearn-color-unfitted-level-2: #ffe0b3;\n",
       "  --sklearn-color-unfitted-level-3: chocolate;\n",
       "  /* Definition of color scheme for fitted estimators */\n",
       "  --sklearn-color-fitted-level-0: #f0f8ff;\n",
       "  --sklearn-color-fitted-level-1: #d4ebff;\n",
       "  --sklearn-color-fitted-level-2: #b3dbfd;\n",
       "  --sklearn-color-fitted-level-3: cornflowerblue;\n",
       "\n",
       "  /* Specific color for light theme */\n",
       "  --sklearn-color-text-on-default-background: var(--sg-text-color, var(--theme-code-foreground, var(--jp-content-font-color1, black)));\n",
       "  --sklearn-color-background: var(--sg-background-color, var(--theme-background, var(--jp-layout-color0, white)));\n",
       "  --sklearn-color-border-box: var(--sg-text-color, var(--theme-code-foreground, var(--jp-content-font-color1, black)));\n",
       "  --sklearn-color-icon: #696969;\n",
       "\n",
       "  @media (prefers-color-scheme: dark) {\n",
       "    /* Redefinition of color scheme for dark theme */\n",
       "    --sklearn-color-text-on-default-background: var(--sg-text-color, var(--theme-code-foreground, var(--jp-content-font-color1, white)));\n",
       "    --sklearn-color-background: var(--sg-background-color, var(--theme-background, var(--jp-layout-color0, #111)));\n",
       "    --sklearn-color-border-box: var(--sg-text-color, var(--theme-code-foreground, var(--jp-content-font-color1, white)));\n",
       "    --sklearn-color-icon: #878787;\n",
       "  }\n",
       "}\n",
       "\n",
       "#sk-container-id-1 {\n",
       "  color: var(--sklearn-color-text);\n",
       "}\n",
       "\n",
       "#sk-container-id-1 pre {\n",
       "  padding: 0;\n",
       "}\n",
       "\n",
       "#sk-container-id-1 input.sk-hidden--visually {\n",
       "  border: 0;\n",
       "  clip: rect(1px 1px 1px 1px);\n",
       "  clip: rect(1px, 1px, 1px, 1px);\n",
       "  height: 1px;\n",
       "  margin: -1px;\n",
       "  overflow: hidden;\n",
       "  padding: 0;\n",
       "  position: absolute;\n",
       "  width: 1px;\n",
       "}\n",
       "\n",
       "#sk-container-id-1 div.sk-dashed-wrapped {\n",
       "  border: 1px dashed var(--sklearn-color-line);\n",
       "  margin: 0 0.4em 0.5em 0.4em;\n",
       "  box-sizing: border-box;\n",
       "  padding-bottom: 0.4em;\n",
       "  background-color: var(--sklearn-color-background);\n",
       "}\n",
       "\n",
       "#sk-container-id-1 div.sk-container {\n",
       "  /* jupyter's `normalize.less` sets `[hidden] { display: none; }`\n",
       "     but bootstrap.min.css set `[hidden] { display: none !important; }`\n",
       "     so we also need the `!important` here to be able to override the\n",
       "     default hidden behavior on the sphinx rendered scikit-learn.org.\n",
       "     See: https://github.com/scikit-learn/scikit-learn/issues/21755 */\n",
       "  display: inline-block !important;\n",
       "  position: relative;\n",
       "}\n",
       "\n",
       "#sk-container-id-1 div.sk-text-repr-fallback {\n",
       "  display: none;\n",
       "}\n",
       "\n",
       "div.sk-parallel-item,\n",
       "div.sk-serial,\n",
       "div.sk-item {\n",
       "  /* draw centered vertical line to link estimators */\n",
       "  background-image: linear-gradient(var(--sklearn-color-text-on-default-background), var(--sklearn-color-text-on-default-background));\n",
       "  background-size: 2px 100%;\n",
       "  background-repeat: no-repeat;\n",
       "  background-position: center center;\n",
       "}\n",
       "\n",
       "/* Parallel-specific style estimator block */\n",
       "\n",
       "#sk-container-id-1 div.sk-parallel-item::after {\n",
       "  content: \"\";\n",
       "  width: 100%;\n",
       "  border-bottom: 2px solid var(--sklearn-color-text-on-default-background);\n",
       "  flex-grow: 1;\n",
       "}\n",
       "\n",
       "#sk-container-id-1 div.sk-parallel {\n",
       "  display: flex;\n",
       "  align-items: stretch;\n",
       "  justify-content: center;\n",
       "  background-color: var(--sklearn-color-background);\n",
       "  position: relative;\n",
       "}\n",
       "\n",
       "#sk-container-id-1 div.sk-parallel-item {\n",
       "  display: flex;\n",
       "  flex-direction: column;\n",
       "}\n",
       "\n",
       "#sk-container-id-1 div.sk-parallel-item:first-child::after {\n",
       "  align-self: flex-end;\n",
       "  width: 50%;\n",
       "}\n",
       "\n",
       "#sk-container-id-1 div.sk-parallel-item:last-child::after {\n",
       "  align-self: flex-start;\n",
       "  width: 50%;\n",
       "}\n",
       "\n",
       "#sk-container-id-1 div.sk-parallel-item:only-child::after {\n",
       "  width: 0;\n",
       "}\n",
       "\n",
       "/* Serial-specific style estimator block */\n",
       "\n",
       "#sk-container-id-1 div.sk-serial {\n",
       "  display: flex;\n",
       "  flex-direction: column;\n",
       "  align-items: center;\n",
       "  background-color: var(--sklearn-color-background);\n",
       "  padding-right: 1em;\n",
       "  padding-left: 1em;\n",
       "}\n",
       "\n",
       "\n",
       "/* Toggleable style: style used for estimator/Pipeline/ColumnTransformer box that is\n",
       "clickable and can be expanded/collapsed.\n",
       "- Pipeline and ColumnTransformer use this feature and define the default style\n",
       "- Estimators will overwrite some part of the style using the `sk-estimator` class\n",
       "*/\n",
       "\n",
       "/* Pipeline and ColumnTransformer style (default) */\n",
       "\n",
       "#sk-container-id-1 div.sk-toggleable {\n",
       "  /* Default theme specific background. It is overwritten whether we have a\n",
       "  specific estimator or a Pipeline/ColumnTransformer */\n",
       "  background-color: var(--sklearn-color-background);\n",
       "}\n",
       "\n",
       "/* Toggleable label */\n",
       "#sk-container-id-1 label.sk-toggleable__label {\n",
       "  cursor: pointer;\n",
       "  display: block;\n",
       "  width: 100%;\n",
       "  margin-bottom: 0;\n",
       "  padding: 0.5em;\n",
       "  box-sizing: border-box;\n",
       "  text-align: center;\n",
       "}\n",
       "\n",
       "#sk-container-id-1 label.sk-toggleable__label-arrow:before {\n",
       "  /* Arrow on the left of the label */\n",
       "  content: \"▸\";\n",
       "  float: left;\n",
       "  margin-right: 0.25em;\n",
       "  color: var(--sklearn-color-icon);\n",
       "}\n",
       "\n",
       "#sk-container-id-1 label.sk-toggleable__label-arrow:hover:before {\n",
       "  color: var(--sklearn-color-text);\n",
       "}\n",
       "\n",
       "/* Toggleable content - dropdown */\n",
       "\n",
       "#sk-container-id-1 div.sk-toggleable__content {\n",
       "  max-height: 0;\n",
       "  max-width: 0;\n",
       "  overflow: hidden;\n",
       "  text-align: left;\n",
       "  /* unfitted */\n",
       "  background-color: var(--sklearn-color-unfitted-level-0);\n",
       "}\n",
       "\n",
       "#sk-container-id-1 div.sk-toggleable__content.fitted {\n",
       "  /* fitted */\n",
       "  background-color: var(--sklearn-color-fitted-level-0);\n",
       "}\n",
       "\n",
       "#sk-container-id-1 div.sk-toggleable__content pre {\n",
       "  margin: 0.2em;\n",
       "  border-radius: 0.25em;\n",
       "  color: var(--sklearn-color-text);\n",
       "  /* unfitted */\n",
       "  background-color: var(--sklearn-color-unfitted-level-0);\n",
       "}\n",
       "\n",
       "#sk-container-id-1 div.sk-toggleable__content.fitted pre {\n",
       "  /* unfitted */\n",
       "  background-color: var(--sklearn-color-fitted-level-0);\n",
       "}\n",
       "\n",
       "#sk-container-id-1 input.sk-toggleable__control:checked~div.sk-toggleable__content {\n",
       "  /* Expand drop-down */\n",
       "  max-height: 200px;\n",
       "  max-width: 100%;\n",
       "  overflow: auto;\n",
       "}\n",
       "\n",
       "#sk-container-id-1 input.sk-toggleable__control:checked~label.sk-toggleable__label-arrow:before {\n",
       "  content: \"▾\";\n",
       "}\n",
       "\n",
       "/* Pipeline/ColumnTransformer-specific style */\n",
       "\n",
       "#sk-container-id-1 div.sk-label input.sk-toggleable__control:checked~label.sk-toggleable__label {\n",
       "  color: var(--sklearn-color-text);\n",
       "  background-color: var(--sklearn-color-unfitted-level-2);\n",
       "}\n",
       "\n",
       "#sk-container-id-1 div.sk-label.fitted input.sk-toggleable__control:checked~label.sk-toggleable__label {\n",
       "  background-color: var(--sklearn-color-fitted-level-2);\n",
       "}\n",
       "\n",
       "/* Estimator-specific style */\n",
       "\n",
       "/* Colorize estimator box */\n",
       "#sk-container-id-1 div.sk-estimator input.sk-toggleable__control:checked~label.sk-toggleable__label {\n",
       "  /* unfitted */\n",
       "  background-color: var(--sklearn-color-unfitted-level-2);\n",
       "}\n",
       "\n",
       "#sk-container-id-1 div.sk-estimator.fitted input.sk-toggleable__control:checked~label.sk-toggleable__label {\n",
       "  /* fitted */\n",
       "  background-color: var(--sklearn-color-fitted-level-2);\n",
       "}\n",
       "\n",
       "#sk-container-id-1 div.sk-label label.sk-toggleable__label,\n",
       "#sk-container-id-1 div.sk-label label {\n",
       "  /* The background is the default theme color */\n",
       "  color: var(--sklearn-color-text-on-default-background);\n",
       "}\n",
       "\n",
       "/* On hover, darken the color of the background */\n",
       "#sk-container-id-1 div.sk-label:hover label.sk-toggleable__label {\n",
       "  color: var(--sklearn-color-text);\n",
       "  background-color: var(--sklearn-color-unfitted-level-2);\n",
       "}\n",
       "\n",
       "/* Label box, darken color on hover, fitted */\n",
       "#sk-container-id-1 div.sk-label.fitted:hover label.sk-toggleable__label.fitted {\n",
       "  color: var(--sklearn-color-text);\n",
       "  background-color: var(--sklearn-color-fitted-level-2);\n",
       "}\n",
       "\n",
       "/* Estimator label */\n",
       "\n",
       "#sk-container-id-1 div.sk-label label {\n",
       "  font-family: monospace;\n",
       "  font-weight: bold;\n",
       "  display: inline-block;\n",
       "  line-height: 1.2em;\n",
       "}\n",
       "\n",
       "#sk-container-id-1 div.sk-label-container {\n",
       "  text-align: center;\n",
       "}\n",
       "\n",
       "/* Estimator-specific */\n",
       "#sk-container-id-1 div.sk-estimator {\n",
       "  font-family: monospace;\n",
       "  border: 1px dotted var(--sklearn-color-border-box);\n",
       "  border-radius: 0.25em;\n",
       "  box-sizing: border-box;\n",
       "  margin-bottom: 0.5em;\n",
       "  /* unfitted */\n",
       "  background-color: var(--sklearn-color-unfitted-level-0);\n",
       "}\n",
       "\n",
       "#sk-container-id-1 div.sk-estimator.fitted {\n",
       "  /* fitted */\n",
       "  background-color: var(--sklearn-color-fitted-level-0);\n",
       "}\n",
       "\n",
       "/* on hover */\n",
       "#sk-container-id-1 div.sk-estimator:hover {\n",
       "  /* unfitted */\n",
       "  background-color: var(--sklearn-color-unfitted-level-2);\n",
       "}\n",
       "\n",
       "#sk-container-id-1 div.sk-estimator.fitted:hover {\n",
       "  /* fitted */\n",
       "  background-color: var(--sklearn-color-fitted-level-2);\n",
       "}\n",
       "\n",
       "/* Specification for estimator info (e.g. \"i\" and \"?\") */\n",
       "\n",
       "/* Common style for \"i\" and \"?\" */\n",
       "\n",
       ".sk-estimator-doc-link,\n",
       "a:link.sk-estimator-doc-link,\n",
       "a:visited.sk-estimator-doc-link {\n",
       "  float: right;\n",
       "  font-size: smaller;\n",
       "  line-height: 1em;\n",
       "  font-family: monospace;\n",
       "  background-color: var(--sklearn-color-background);\n",
       "  border-radius: 1em;\n",
       "  height: 1em;\n",
       "  width: 1em;\n",
       "  text-decoration: none !important;\n",
       "  margin-left: 1ex;\n",
       "  /* unfitted */\n",
       "  border: var(--sklearn-color-unfitted-level-1) 1pt solid;\n",
       "  color: var(--sklearn-color-unfitted-level-1);\n",
       "}\n",
       "\n",
       ".sk-estimator-doc-link.fitted,\n",
       "a:link.sk-estimator-doc-link.fitted,\n",
       "a:visited.sk-estimator-doc-link.fitted {\n",
       "  /* fitted */\n",
       "  border: var(--sklearn-color-fitted-level-1) 1pt solid;\n",
       "  color: var(--sklearn-color-fitted-level-1);\n",
       "}\n",
       "\n",
       "/* On hover */\n",
       "div.sk-estimator:hover .sk-estimator-doc-link:hover,\n",
       ".sk-estimator-doc-link:hover,\n",
       "div.sk-label-container:hover .sk-estimator-doc-link:hover,\n",
       ".sk-estimator-doc-link:hover {\n",
       "  /* unfitted */\n",
       "  background-color: var(--sklearn-color-unfitted-level-3);\n",
       "  color: var(--sklearn-color-background);\n",
       "  text-decoration: none;\n",
       "}\n",
       "\n",
       "div.sk-estimator.fitted:hover .sk-estimator-doc-link.fitted:hover,\n",
       ".sk-estimator-doc-link.fitted:hover,\n",
       "div.sk-label-container:hover .sk-estimator-doc-link.fitted:hover,\n",
       ".sk-estimator-doc-link.fitted:hover {\n",
       "  /* fitted */\n",
       "  background-color: var(--sklearn-color-fitted-level-3);\n",
       "  color: var(--sklearn-color-background);\n",
       "  text-decoration: none;\n",
       "}\n",
       "\n",
       "/* Span, style for the box shown on hovering the info icon */\n",
       ".sk-estimator-doc-link span {\n",
       "  display: none;\n",
       "  z-index: 9999;\n",
       "  position: relative;\n",
       "  font-weight: normal;\n",
       "  right: .2ex;\n",
       "  padding: .5ex;\n",
       "  margin: .5ex;\n",
       "  width: min-content;\n",
       "  min-width: 20ex;\n",
       "  max-width: 50ex;\n",
       "  color: var(--sklearn-color-text);\n",
       "  box-shadow: 2pt 2pt 4pt #999;\n",
       "  /* unfitted */\n",
       "  background: var(--sklearn-color-unfitted-level-0);\n",
       "  border: .5pt solid var(--sklearn-color-unfitted-level-3);\n",
       "}\n",
       "\n",
       ".sk-estimator-doc-link.fitted span {\n",
       "  /* fitted */\n",
       "  background: var(--sklearn-color-fitted-level-0);\n",
       "  border: var(--sklearn-color-fitted-level-3);\n",
       "}\n",
       "\n",
       ".sk-estimator-doc-link:hover span {\n",
       "  display: block;\n",
       "}\n",
       "\n",
       "/* \"?\"-specific style due to the `<a>` HTML tag */\n",
       "\n",
       "#sk-container-id-1 a.estimator_doc_link {\n",
       "  float: right;\n",
       "  font-size: 1rem;\n",
       "  line-height: 1em;\n",
       "  font-family: monospace;\n",
       "  background-color: var(--sklearn-color-background);\n",
       "  border-radius: 1rem;\n",
       "  height: 1rem;\n",
       "  width: 1rem;\n",
       "  text-decoration: none;\n",
       "  /* unfitted */\n",
       "  color: var(--sklearn-color-unfitted-level-1);\n",
       "  border: var(--sklearn-color-unfitted-level-1) 1pt solid;\n",
       "}\n",
       "\n",
       "#sk-container-id-1 a.estimator_doc_link.fitted {\n",
       "  /* fitted */\n",
       "  border: var(--sklearn-color-fitted-level-1) 1pt solid;\n",
       "  color: var(--sklearn-color-fitted-level-1);\n",
       "}\n",
       "\n",
       "/* On hover */\n",
       "#sk-container-id-1 a.estimator_doc_link:hover {\n",
       "  /* unfitted */\n",
       "  background-color: var(--sklearn-color-unfitted-level-3);\n",
       "  color: var(--sklearn-color-background);\n",
       "  text-decoration: none;\n",
       "}\n",
       "\n",
       "#sk-container-id-1 a.estimator_doc_link.fitted:hover {\n",
       "  /* fitted */\n",
       "  background-color: var(--sklearn-color-fitted-level-3);\n",
       "}\n",
       "</style><div id=\"sk-container-id-1\" class=\"sk-top-container\"><div class=\"sk-text-repr-fallback\"><pre>RandomForestRegressor(random_state=42)</pre><b>In a Jupyter environment, please rerun this cell to show the HTML representation or trust the notebook. <br />On GitHub, the HTML representation is unable to render, please try loading this page with nbviewer.org.</b></div><div class=\"sk-container\" hidden><div class=\"sk-item\"><div class=\"sk-estimator fitted sk-toggleable\"><input class=\"sk-toggleable__control sk-hidden--visually\" id=\"sk-estimator-id-1\" type=\"checkbox\" checked><label for=\"sk-estimator-id-1\" class=\"sk-toggleable__label fitted sk-toggleable__label-arrow fitted\">&nbsp;&nbsp;RandomForestRegressor<a class=\"sk-estimator-doc-link fitted\" rel=\"noreferrer\" target=\"_blank\" href=\"https://scikit-learn.org/1.5/modules/generated/sklearn.ensemble.RandomForestRegressor.html\">?<span>Documentation for RandomForestRegressor</span></a><span class=\"sk-estimator-doc-link fitted\">i<span>Fitted</span></span></label><div class=\"sk-toggleable__content fitted\"><pre>RandomForestRegressor(random_state=42)</pre></div> </div></div></div></div>"
      ],
      "text/plain": [
       "RandomForestRegressor(random_state=42)"
      ]
     },
     "execution_count": 12,
     "metadata": {},
     "output_type": "execute_result"
    }
   ],
   "source": [
    "# Train Linear Regression Model\n",
    "linear_model = LinearRegression()\n",
    "linear_model.fit(X_train, y_train)\n",
    "\n",
    "# Train Random Forest Model\n",
    "rf_model = RandomForestRegressor(random_state=42)\n",
    "rf_model.fit(X_train, y_train)\n"
   ]
  },
  {
   "cell_type": "markdown",
   "metadata": {},
   "source": [
    "### Evaluate Models"
   ]
  },
  {
   "cell_type": "code",
   "execution_count": 13,
   "metadata": {},
   "outputs": [
    {
     "name": "stdout",
     "output_type": "stream",
     "text": [
      "Linear Regression - MAE: 17.29201600564567, RMSE: 23.998801925944864\n",
      "Random Forest - MAE: 21.16923823153272, RMSE: 29.763623495519024\n"
     ]
    }
   ],
   "source": [
    "# Evaluate Linear Regression\n",
    "y_pred_linear = linear_model.predict(X_test)\n",
    "mae_linear = mean_absolute_error(y_test, y_pred_linear)\n",
    "rmse_linear = np.sqrt(mean_squared_error(y_test, y_pred_linear))\n",
    "\n",
    "# Evaluate Random Forest\n",
    "y_pred_rf = rf_model.predict(X_test)\n",
    "mae_rf = mean_absolute_error(y_test, y_pred_rf)\n",
    "rmse_rf = np.sqrt(mean_squared_error(y_test, y_pred_rf))\n",
    "\n",
    "print(f\"Linear Regression - MAE: {mae_linear}, RMSE: {rmse_linear}\")\n",
    "print(f\"Random Forest - MAE: {mae_rf}, RMSE: {rmse_rf}\")"
   ]
  },
  {
   "cell_type": "markdown",
   "metadata": {},
   "source": [
    "###  Save the Best Model"
   ]
  },
  {
   "cell_type": "code",
   "execution_count": 14,
   "metadata": {},
   "outputs": [
    {
     "name": "stdout",
     "output_type": "stream",
     "text": [
      "Best model saved to models/wellbeing_model.pkl\n"
     ]
    }
   ],
   "source": [
    "# Save the best-performing model (Random Forest in this case)\n",
    "best_model = rf_model\n",
    "model_path = \"models/wellbeing_model.pkl\"\n",
    "with open(model_path, 'wb') as f:\n",
    "    pickle.dump(best_model, f)\n",
    "\n",
    "print(f\"Best model saved to {model_path}\")"
   ]
  },
  {
   "cell_type": "markdown",
   "metadata": {},
   "source": [
    "### Make Predictions"
   ]
  },
  {
   "cell_type": "code",
   "execution_count": 15,
   "metadata": {},
   "outputs": [
    {
     "name": "stdout",
     "output_type": "stream",
     "text": [
      "Predictions saved to data/predictions/predictions.csv\n"
     ]
    }
   ],
   "source": [
    "# Predict on the entire dataset for insights\n",
    "data['Predicted_Percentage'] = best_model.predict(X)\n",
    "\n",
    "# Save predictions\n",
    "predictions_path = \"data/predictions/predictions.csv\"\n",
    "data.to_csv(predictions_path, index=False)\n",
    "print(f\"Predictions saved to {predictions_path}\")\n"
   ]
  },
  {
   "cell_type": "code",
   "execution_count": 16,
   "metadata": {},
   "outputs": [
    {
     "data": {
      "image/png": "[encoded data removed]",
      "text/plain": [
       "<Figure size 1000x600 with 1 Axes>"
      ]
     },
     "metadata": {},
     "output_type": "display_data"
    },
    {
     "data": {
      "image/png": "[encoded data removed]",
      "text/plain": [
       "<Figure size 1200x600 with 1 Axes>"
      ]
     },
     "metadata": {},
     "output_type": "display_data"
    }
   ],
   "source": [
    "# Plot Actual vs Predicted\n",
    "plt.figure(figsize=(10, 6))\n",
    "plt.scatter(y_test, y_pred_rf, alpha=0.7, label=\"Predicted vs Actual\")\n",
    "plt.plot([y_test.min(), y_test.max()], [y_test.min(), y_test.max()], color='red', linestyle='--', label=\"Perfect Prediction\")\n",
    "plt.xlabel(\"Actual Percentage\")\n",
    "plt.ylabel(\"Predicted Percentage\")\n",
    "plt.title(\"Actual vs Predicted Subjective Wellbeing Percentage\")\n",
    "plt.legend()\n",
    "plt.savefig(\"visualizations/comparison_actual_vs_predicted.png\")\n",
    "plt.show()\n",
    "\n",
    "# Plot Predicted Trends\n",
    "plt.figure(figsize=(12, 6))\n",
    "plt.plot(data['year'], data['Percentage'], label=\"Actual\")\n",
    "plt.plot(data['year'], data['Predicted_Percentage'], label=\"Predicted\", linestyle='--')\n",
    "plt.xlabel(\"year\")\n",
    "plt.ylabel(\"Percentage\")\n",
    "plt.title(\"Predicted Trends Over Time\")\n",
    "plt.legend()\n",
    "plt.savefig(\"visualizations/predicted_trends.png\")\n",
    "plt.show()\n"
   ]
  },
  {
   "cell_type": "code",
   "execution_count": 17,
   "metadata": {},
   "outputs": [
    {
     "name": "stdout",
     "output_type": "stream",
     "text": [
      "Linear Regression - R2 Score: -0.1426159549899486\n",
      "Random Forest - R2 Score: -0.7574896082088569\n",
      "Linear Regression is the best model.\n"
     ]
    }
   ],
   "source": [
    "from sklearn.metrics import r2_score\n",
    "\n",
    "# Evaluate models\n",
    "r2_linear = r2_score(y_test, y_pred_linear)\n",
    "r2_rf = r2_score(y_test, y_pred_rf)\n",
    "\n",
    "print(f\"Linear Regression - R2 Score: {r2_linear}\")\n",
    "print(f\"Random Forest - R2 Score: {r2_rf}\")\n",
    "\n",
    "# Choose the best model based on RMSE and R2\n",
    "if rmse_rf < rmse_linear and r2_rf > r2_linear:\n",
    "    best_model = rf_model\n",
    "    print(\"Random Forest is the best model.\")\n",
    "else:\n",
    "    best_model = linear_model\n",
    "    print(\"Linear Regression is the best model.\")\n"
   ]
  },
  {
   "cell_type": "code",
   "execution_count": 19,
   "metadata": {},
   "outputs": [
    {
     "name": "stdout",
     "output_type": "stream",
     "text": [
      "Geocoding completed. Final data saved to D:/Chathurni/src/data/processed/subjective_wellbeing_cleaned_with_coordinates.csv\n",
      "The following suburbs failed geocoding:\n",
      "['35-44 years', '55-64 years', '65+ years', 'Kensington / Flemington 3031', '35-44 years', '45-54 years', 'South Yarra 3141 / Melbourne/St Kilda Road 3004', '35-44 years', '55-64 years', '65+ years', '18-24 years', '45-54 years', '65+ years', 'North Melbourne 3051 / West Melbourne 3003', '55-64 years', 'Kensington / Flemington 3031', '65+ years', 'Kensington / Flemington 3031', 'South Wharf / Southbank 3006', 'Kensington / Flemington 3031', 'North Melbourne 3051 / West Melbourne 3003', 'South Yarra 3141 / Melbourne/St Kilda Road 3004', '18-24 years', '45-54 years', 'South Yarra 3141 / Melbourne/St Kilda Road 3004', '18-24 years', '25-34 years', '65+ years', 'Kensington / Flemington 3031', '25-34 years', '45-54 years', 'Kensington / Flemington 3031', 'South Yarra 3141 / Melbourne/St Kilda Road 3004', '25-34 years', '35-44 years', 'South Yarra 3141 / Melbourne/St Kilda Road 3004', '45-54 years', '65+ years', 'North Melbourne 3051 / West Melbourne 3003', 'South Yarra 3141 / Melbourne/St Kilda Road 3004', '18-24 years', '35-44 years', '55-64 years', 'North Melbourne 3051 / West Melbourne 3003', 'South Yarra 3141 / Melbourne/St Kilda Road 3004', '18-24 years', '45-54 years', '55-64 years', '65+ years', 'South Wharf / Southbank 3006', '25-34 years', 'North Melbourne 3051 / West Melbourne 3003', 'South Wharf / Southbank 3006', '55-64 years', 'North Melbourne 3051 / West Melbourne 3003', 'South Wharf / Southbank 3006', '18-24 years', 'North Melbourne 3051 / West Melbourne 3003', 'South Wharf / Southbank 3006', '55-64 years', 'Kensington / Flemington 3031', 'South Wharf / Southbank 3006', '18-24 years', '25-34 years', '35-44 years', 'South Wharf / Southbank 3006', '25-34 years', '45-54 years', '25-34 years', '35-44 years', '35-44 years', '55-64 years', '45-54 years', '65+ years', 'North Melbourne 3051 / West Melbourne 3003', 'South Yarra 3141 / Melbourne/St Kilda Road 3004', 'North Melbourne 3051 / West Melbourne 3003', '18-24 years', '25-34 years', '45-54 years', 'South Wharf / Southbank 3006', 'South Yarra 3141 / Melbourne/St Kilda Road 3004', '55-64 years', '65+ years', 'South Wharf / Southbank 3006', '35-44 years', '65+ years', 'North Melbourne 3051 / West Melbourne 3003', '25-34 years', '35-44 years', '55-64 years', '65+ years', '18-24 years', 'Kensington / Flemington 3031', 'North Melbourne 3051 / West Melbourne 3003', '18-24 years', '35-44 years', '25-34 years', '65+ years', 'Kensington / Flemington 3031', 'South Yarra 3141 / Melbourne/St Kilda Road 3004', '35-44 years', '55-64 years', '65+ years', 'Kensington / Flemington 3031', '35-44 years', 'Kensington / Flemington 3031', '45-54 years', '55-64 years', 'South Wharf / Southbank 3006', 'South Yarra 3141 / Melbourne/St Kilda Road 3004', '18-24 years', 'North Melbourne 3051 / West Melbourne 3003', '25-34 years', '45-54 years', '65+ years', 'South Wharf / Southbank 3006', 'South Yarra 3141 / Melbourne/St Kilda Road 3004', '25-34 years', '55-64 years', 'Kensington / Flemington 3031', 'South Wharf / Southbank 3006', '18-24 years', '35-44 years', '45-54 years', '55-64 years', 'South Wharf / Southbank 3006', 'North Melbourne 3051 / West Melbourne 3003', '18-24 years', '25-34 years', '45-54 years', 'North Melbourne 3051 / West Melbourne 3003', 'South Yarra 3141 / Melbourne/St Kilda Road 3004', '18-24 years', '25-34 years', 'Kensington / Flemington 3031', '45-54 years', 'Kensington / Flemington 3031', 'South Wharf / Southbank 3006', 'South Yarra 3141 / Melbourne/St Kilda Road 3004', '65+ years', 'North Melbourne 3051 / West Melbourne 3003', '25-34 years', '45-54 years', '55-64 years', 'Kensington / Flemington 3031', '35-44 years', '65+ years', 'Kensington / Flemington 3031', 'South Wharf / Southbank 3006', '18-24 years', '35-44 years', '45-54 years', 'Kensington / Flemington 3031', 'South Wharf / Southbank 3006', '35-44 years', '55-64 years', 'North Melbourne 3051 / West Melbourne 3003', 'South Yarra 3141 / Melbourne/St Kilda Road 3004', '25-34 years', '35-44 years', '45-54 years', 'South Wharf / Southbank 3006', '25-34 years', '45-54 years', '55-64 years', 'South Wharf / Southbank 3006', '18-24 years', '25-34 years', '35-44 years', 'Kensington / Flemington 3031', 'South Wharf / Southbank 3006', '18-24 years', '65+ years', '18-24 years', 'South Yarra 3141 / Melbourne/St Kilda Road 3004', '25-34 years', '65+ years', 'South Yarra 3141 / Melbourne/St Kilda Road 3004', '25-34 years', '45-54 years', 'South Wharf / Southbank 3006', '18-24 years', '65+ years', 'North Melbourne 3051 / West Melbourne 3003', '18-24 years', 'Kensington / Flemington 3031', 'North Melbourne 3051 / West Melbourne 3003', 'South Yarra 3141 / Melbourne/St Kilda Road 3004', '45-54 years', '55-64 years', 'South Yarra 3141 / Melbourne/St Kilda Road 3004', '35-44 years', 'North Melbourne 3051 / West Melbourne 3003', 'South Wharf / Southbank 3006', 'South Yarra 3141 / Melbourne/St Kilda Road 3004', '25-34 years', '45-54 years', '55-64 years', 'North Melbourne 3051 / West Melbourne 3003', '55-64 years', 'North Melbourne 3051 / West Melbourne 3003', '18-24 years', '65+ years', 'Kensington / Flemington 3031', '55-64 years', 'Kensington / Flemington 3031', 'South Yarra 3141 / Melbourne/St Kilda Road 3004', '35-44 years', '65+ years', '18-24 years', '35-44 years', '45-54 years', '65+ years', 'North Melbourne 3051 / West Melbourne 3003', '35-44 years', '45-54 years', 'North Melbourne 3051 / West Melbourne 3003', '18-24 years', '25-34 years', '55-64 years', '35-44 years', '65+ years', 'Kensington / Flemington 3031', 'South Yarra 3141 / Melbourne/St Kilda Road 3004', '65+ years', 'South Wharf / Southbank 3006', 'South Yarra 3141 / Melbourne/St Kilda Road 3004', '18-24 years', '55-64 years', '65+ years', 'Kensington / Flemington 3031', 'South Wharf / Southbank 3006', 'South Yarra 3141 / Melbourne/St Kilda Road 3004', '25-34 years', '55-64 years', 'Kensington / Flemington 3031', 'South Yarra 3141 / Melbourne/St Kilda Road 3004', '65+ years', 'Kensington / Flemington 3031', 'South Wharf / Southbank 3006', '35-44 years', '55-64 years', '65+ years', 'Kensington / Flemington 3031', 'North Melbourne 3051 / West Melbourne 3003', 'South Wharf / Southbank 3006', '35-44 years', '45-54 years', '65+ years', 'Kensington / Flemington 3031', '18-24 years', '25-34 years', '45-54 years', '55-64 years', 'South Wharf / Southbank 3006', 'Kensington / Flemington 3031', 'North Melbourne 3051 / West Melbourne 3003', '35-44 years', '45-54 years', 'North Melbourne 3051 / West Melbourne 3003', 'South Wharf / Southbank 3006', '18-24 years', '25-34 years', '55-64 years', 'South Yarra 3141 / Melbourne/St Kilda Road 3004', '18-24 years', '25-34 years', '45-54 years', 'South Yarra 3141 / Melbourne/St Kilda Road 3004', 'North Melbourne 3051 / West Melbourne 3003', 'South Wharf / Southbank 3006', 'South Yarra 3141 / Melbourne/St Kilda Road 3004', 'North Melbourne 3051 / West Melbourne 3003', '18-24 years', '25-34 years', '35-44 years', '45-54 years', '55-64 years', '25-34 years', 'Kensington / Flemington 3031', 'North Melbourne 3051 / West Melbourne 3003', '35-44 years', '65+ years', 'North Melbourne 3051 / West Melbourne 3003', 'South Yarra 3141 / Melbourne/St Kilda Road 3004', '35-44 years', '55-64 years', '18-24 years', '35-44 years', 'Kensington / Flemington 3031', 'North Melbourne 3051 / West Melbourne 3003', 'South Yarra 3141 / Melbourne/St Kilda Road 3004', '18-24 years', '35-44 years', '65+ years', '18-24 years', '45-54 years', 'South Wharf / Southbank 3006', '25-34 years', 'North Melbourne 3051 / West Melbourne 3003', 'South Yarra 3141 / Melbourne/St Kilda Road 3004', '25-34 years', '18-24 years', '25-34 years', '45-54 years', 'Kensington / Flemington 3031', 'South Wharf / Southbank 3006', '45-54 years', '65+ years', 'North Melbourne 3051 / West Melbourne 3003', 'South Wharf / Southbank 3006', '25-34 years', '65+ years', 'South Wharf / Southbank 3006', '25-34 years', '45-54 years', '55-64 years', 'North Melbourne 3051 / West Melbourne 3003', 'South Wharf / Southbank 3006', 'South Yarra 3141 / Melbourne/St Kilda Road 3004', '25-34 years', '65+ years', '18-24 years', '45-54 years', '65+ years', 'Kensington / Flemington 3031', 'South Wharf / Southbank 3006', '18-24 years', '55-64 years', 'South Wharf / Southbank 3006', 'South Yarra 3141 / Melbourne/St Kilda Road 3004', '55-64 years', '18-24 years', '25-34 years', 'Kensington / Flemington 3031', 'South Yarra 3141 / Melbourne/St Kilda Road 3004', '45-54 years', '55-64 years', 'Kensington / Flemington 3031', '35-44 years', '55-64 years', 'Kensington / Flemington 3031', 'North Melbourne 3051 / West Melbourne 3003', 'South Yarra 3141 / Melbourne/St Kilda Road 3004', '35-44 years', '55-64 years', '35-44 years', '45-54 years', '65+ years', '18-24 years', '35-44 years', 'South Wharf / Southbank 3006', '18-24 years', '45-54 years', '55-64 years', 'Kensington / Flemington 3031', '18-24 years', 'Kensington / Flemington 3031', 'South Wharf / Southbank 3006', 'South Yarra 3141 / Melbourne/St Kilda Road 3004', '18-24 years', '55-64 years', '65+ years', 'North Melbourne 3051 / West Melbourne 3003', '18-24 years', '25-34 years', '35-44 years', '45-54 years', '25-34 years', '35-44 years', 'Kensington / Flemington 3031', 'South Wharf / Southbank 3006', '25-34 years', '45-54 years', '65+ years', 'Kensington / Flemington 3031', 'South Yarra 3141 / Melbourne/St Kilda Road 3004', 'North Melbourne 3051 / West Melbourne 3003', 'South Wharf / Southbank 3006', 'South Yarra 3141 / Melbourne/St Kilda Road 3004', '45-54 years', '55-64 years', 'North Melbourne 3051 / West Melbourne 3003', 'South Yarra 3141 / Melbourne/St Kilda Road 3004', '25-34 years', '35-44 years', '45-54 years', 'North Melbourne 3051 / West Melbourne 3003', 'South Wharf / Southbank 3006', '25-34 years', '35-44 years', '55-64 years', 'North Melbourne 3051 / West Melbourne 3003', 'South Wharf / Southbank 3006', 'South Yarra 3141 / Melbourne/St Kilda Road 3004', '18-24 years', '45-54 years', '55-64 years', '65+ years', 'North Melbourne 3051 / West Melbourne 3003', 'South Yarra 3141 / Melbourne/St Kilda Road 3004', '55-64 years', 'North Melbourne 3051 / West Melbourne 3003', '25-34 years', '35-44 years', '65+ years', '25-34 years', '35-44 years', '65+ years', '18-24 years', '55-64 years', '65+ years', 'Kensington / Flemington 3031', '45-54 years', 'Kensington / Flemington 3031', 'South Wharf / Southbank 3006', 'South Yarra 3141 / Melbourne/St Kilda Road 3004', '65+ years', 'Kensington / Flemington 3031']\n"
     ]
    }
   ],
   "source": [
    "# Load Data\n",
    "data_path = \"D:/Chathurni/src/data/processed/subjective_wellbeing_cleaned.csv\"\n",
    "data = pd.read_csv(data_path)\n",
    "\n",
    "# Initialize Geolocator\n",
    "geolocator = Nominatim(user_agent=\"health-behaviour-mapper\")\n",
    "\n",
    "# Function to Geocode Suburbs with Error Handling and Delay\n",
    "def geocode_suburb(suburb):\n",
    "    try:\n",
    "        # Add a delay to avoid rate limiting\n",
    "        time.sleep(1)\n",
    "        # Skip invalid entries (e.g., \"years\" or complex combined locations)\n",
    "        if \"years\" in suburb or \"/\" in suburb:\n",
    "            return None, None\n",
    "        # Geocode using Nominatim\n",
    "        location = geolocator.geocode(suburb + \", Melbourne, Australia\", timeout=15)\n",
    "        if location:\n",
    "            return location.latitude, location.longitude\n",
    "        else:\n",
    "            return None, None\n",
    "    except Exception as e:\n",
    "        print(f\"Error geocoding {suburb}: {e}\")\n",
    "        return None, None\n",
    "\n",
    "# List to Track Failed Suburbs\n",
    "failed_suburbs = []\n",
    "\n",
    "# Apply Geocoding\n",
    "def process_geocoding(data):\n",
    "    for idx, row in data.iterrows():\n",
    "        # Skip already geocoded entries\n",
    "        if not pd.isnull(row.get(\"Latitude\")) and not pd.isnull(row.get(\"Longitude\")):\n",
    "            continue\n",
    "        lat, lon = geocode_suburb(row['Subcategory'])\n",
    "        if lat and lon:\n",
    "            data.at[idx, 'Latitude'] = lat\n",
    "            data.at[idx, 'Longitude'] = lon\n",
    "        else:\n",
    "            failed_suburbs.append(row['Subcategory'])\n",
    "        \n",
    "        # Save progress incrementally\n",
    "        data.to_csv(\"D:/Chathurni/src/data/processed/subjective_wellbeing_progress.csv\", index=False)\n",
    "    return data\n",
    "\n",
    "# Ensure Latitude and Longitude Columns Exist\n",
    "if 'Latitude' not in data.columns:\n",
    "    data['Latitude'] = None\n",
    "if 'Longitude' not in data.columns:\n",
    "    data['Longitude'] = None\n",
    "\n",
    "# Process Geocoding\n",
    "updated_data = process_geocoding(data)\n",
    "\n",
    "# Save Final Data\n",
    "final_data_path = \"D:/Chathurni/src/data/processed/subjective_wellbeing_cleaned_with_coordinates.csv\"\n",
    "updated_data.to_csv(final_data_path, index=False)\n",
    "print(f\"Geocoding completed. Final data saved to {final_data_path}\")\n",
    "\n",
    "# Print Failed Suburbs\n",
    "if failed_suburbs:\n",
    "    print(\"The following suburbs failed geocoding:\")\n",
    "    print(failed_suburbs)\n"
   ]
  },
  {
   "cell_type": "code",
   "execution_count": 3,
   "metadata": {},
   "outputs": [
    {
     "name": "stderr",
     "output_type": "stream",
     "text": [
      "<>:7: SyntaxWarning: invalid escape sequence '\\p'\n",
      "<>:7: SyntaxWarning: invalid escape sequence '\\p'\n",
      "C:\\Users\\chath\\AppData\\Local\\Temp\\ipykernel_18140\\3143670047.py:7: SyntaxWarning: invalid escape sequence '\\p'\n",
      "  data = pd.read_csv(\"data\\processed\\subjective_wellbeing_cleaned.csv\")\n"
     ]
    }
   ],
   "source": [
    "import pandas as pd\n",
    "import folium\n",
    "from ipywidgets import widgets\n",
    "from IPython.display import display\n",
    "\n",
    "# Load cleaned data\n",
    "data = pd.read_csv(\"data\\processed\\subjective_wellbeing_cleaned.csv\")\n",
    "\n",
    "# Example suburb locations (latitude and longitude) - Add real data as needed\n",
    "suburb_locations = {\n",
    "    \"East Melbourne 3002\": [-37.8136, 144.9841],\n",
    "    \"Kensington 3031\": [-37.7941, 144.9276],\n",
    "    \"Flemington 3031\": [-37.7891, 144.9210],\n",
    "}\n",
    "\n",
    "# Add geolocation to data\n",
    "data['Latitude'] = data['Subcategory'].map(lambda x: suburb_locations.get(x, [None, None])[0])\n",
    "data['Longitude'] = data['Subcategory'].map(lambda x: suburb_locations.get(x, [None, None])[1])\n",
    "\n",
    "# Filter to valid locations\n",
    "data = data.dropna(subset=['Latitude', 'Longitude'])\n"
   ]
  },
  {
   "cell_type": "code",
   "execution_count": null,
   "metadata": {},
   "outputs": [],
   "source": []
  }
 ],
 "metadata": {
  "kernelspec": {
   "display_name": "base",
   "language": "python",
   "name": "python3"
  },
  "language_info": {
   "codemirror_mode": {
    "name": "ipython",
    "version": 3
   },
   "file_extension": ".py",
   "mimetype": "text/x-python",
   "name": "python",
   "nbconvert_exporter": "python",
   "pygments_lexer": "ipython3",
   "version": "3.12.7"
  }
 },
 "nbformat": 4,
 "nbformat_minor": 2
}
