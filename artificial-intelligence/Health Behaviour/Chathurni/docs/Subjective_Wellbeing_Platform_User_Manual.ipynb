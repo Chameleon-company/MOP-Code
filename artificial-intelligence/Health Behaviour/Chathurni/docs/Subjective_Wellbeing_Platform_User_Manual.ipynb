{
 "cells": [
  {
   "cell_type": "markdown",
   "id": "0d611030",
   "metadata": {},
   "source": [
    "\n",
    "# Subjective Wellbeing Platform: User Manual\n",
    "\n",
    "This platform helps you explore trends in subjective wellbeing indicators like health, community connection, and safety. It has three main features:\n",
    "1. **Dashboard**: Visualize trends and future predictions.\n",
    "2. **Interactive Map**: Explore geographic patterns.\n",
    "3. **Data Viewer**: View and filter raw data.\n",
    "\n",
    "**Steps in this Manual:**\n",
    "- How to set up the platform.\n",
    "- How to use the Dashboard.\n",
    "- How to use the Map.\n",
    "- How to use the Data Viewer.\n",
    "\n",
    "**Note**: This platform runs on Flask and Dash, integrated with Google Colab. Follow the instructions step-by-step.\n"
   ]
  },
  {
   "cell_type": "markdown",
   "id": "0036e2a5",
   "metadata": {},
   "source": [
    "## Step 1: Install Required Libraries"
   ]
  },
  {
   "cell_type": "code",
   "execution_count": null,
   "id": "d12527dc",
   "metadata": {},
   "outputs": [],
   "source": [
    "!pip install flask dash pandas folium plotly dash-bootstrap-components"
   ]
  },
  {
   "cell_type": "markdown",
   "id": "eecc7f3f",
   "metadata": {},
   "source": [
    "## Step 2: Import Required Libraries"
   ]
  },
  {
   "cell_type": "code",
   "execution_count": null,
   "id": "adb6cbf9",
   "metadata": {},
   "outputs": [],
   "source": [
    "\n",
    "from flask import Flask, render_template, request\n",
    "import pandas as pd\n",
    "import numpy as np\n",
    "import dash\n",
    "from dash import dcc, html, Input, Output\n",
    "import dash_bootstrap_components as dbc\n",
    "import folium\n",
    "from folium.plugins import HeatMap, MarkerCluster\n",
    "import plotly.graph_objs as go\n",
    "    "
   ]
  },
  {
   "cell_type": "markdown",
   "id": "30747996",
   "metadata": {},
   "source": [
    "\n",
    "## Step 3: Start the Flask App\n",
    "\n",
    "Run the Flask app to host the platform locally. This app will allow you to:\n",
    "1. View the **Dashboard** for trends.\n",
    "2. Use the **Interactive Map** to explore geographic data.\n",
    "3. Use the **Data Viewer** to browse raw data.\n",
    "\n",
    "The following cell starts the server. Copy the URL provided in the output (e.g., `http://127.0.0.1:2022/`) and open it in your browser.\n",
    "    "
   ]
  },
  {
   "cell_type": "code",
   "execution_count": null,
   "id": "62e86623",
   "metadata": {},
   "outputs": [],
   "source": [
    "\n",
    "from flask import Flask, render_template, request\n",
    "import threading\n",
    "\n",
    "# Flask application setup\n",
    "app = Flask(__name__)\n",
    "\n",
    "@app.route('/')\n",
    "def home():\n",
    "    return '''\n",
    "    <h1>Welcome to the Subjective Wellbeing Platform</h1>\n",
    "    <p>Explore the following:</p>\n",
    "    <ul>\n",
    "        <li><a href=\"/dashboard\">Dashboard</a></li>\n",
    "        <li><a href=\"/map\">Interactive Map</a></li>\n",
    "        <li><a href=\"/data\">Data Viewer</a></li>\n",
    "    </ul>\n",
    "    '''\n",
    "\n",
    "def run_app():\n",
    "    app.run(port=2022)\n",
    "\n",
    "# Run Flask app in a thread\n",
    "thread = threading.Thread(target=run_app)\n",
    "thread.start()\n",
    "    "
   ]
  },
  {
   "cell_type": "markdown",
   "id": "d45c4ead",
   "metadata": {},
   "source": [
    "\n",
    "## Step 4: Using the Dashboard\n",
    "\n",
    "The dashboard allows you to:\n",
    "1. Filter data by subtopics, age groups, genders, and suburbs.\n",
    "2. View trends from 2018–2023.\n",
    "3. See predictions for 2024–2025.\n",
    "\n",
    "### Instructions:\n",
    "1. Open the `/dashboard` link provided by the Flask app (e.g., `http://127.0.0.1:2022/dashboard`).\n",
    "2. Use the dropdown menus to select filters:\n",
    "   - **Subtopic**: Choose a wellbeing indicator like Personal Health.\n",
    "   - **Age Group**: Filter by age group (e.g., 18–24).\n",
    "   - **Gender**: Filter by Male or Female.\n",
    "   - **Suburb**: Narrow the results to specific locations.\n",
    "3. The graph updates automatically based on your filters.\n",
    "4. To reset filters, refresh the page or select \"All\" from the dropdowns.\n",
    "    "
   ]
  },
  {
   "cell_type": "markdown",
   "id": "26c3aa2c",
   "metadata": {},
   "source": [
    "\n",
    "## Step 5: Using the Interactive Map\n",
    "\n",
    "The interactive map displays geographic patterns in subjective wellbeing data.\n",
    "\n",
    "### Instructions:\n",
    "1. Open the `/map` link provided by the Flask app (e.g., `http://127.0.0.1:2022/map`).\n",
    "2. Use the dropdown filters at the top of the page:\n",
    "   - **Subtopic**: Select a wellbeing indicator.\n",
    "   - **Year**: Choose a year or select \"All\" for all years.\n",
    "3. Features:\n",
    "   - **Markers**: Click on markers to view location-specific details.\n",
    "   - **Heatmap**: Highlights regions with higher or lower wellbeing percentages.\n",
    "4. Click \"Update Map\" to apply filters.\n",
    "5. To reset, select \"All\" in the filters or refresh the page.\n",
    "    "
   ]
  },
  {
   "cell_type": "markdown",
   "id": "b37d972f",
   "metadata": {},
   "source": [
    "\n",
    "## Step 6: Using the Data Viewer\n",
    "\n",
    "The Data Viewer allows you to explore the raw dataset and apply filters for specific insights.\n",
    "\n",
    "### Instructions:\n",
    "1. Open the `/data` link provided by the Flask app (e.g., `http://127.0.0.1:2022/data`).\n",
    "2. Use the dropdown filters to narrow down results:\n",
    "   - **Subtopic**: Filter by wellbeing indicators.\n",
    "   - **Category**: Filter by Age Group, Gender, or Suburb.\n",
    "   - **Year**: Choose a specific year.\n",
    "3. View the filtered data in the table below the filters.\n",
    "4. Export or copy data directly from the table (if supported).\n",
    "    "
   ]
  },
  {
   "cell_type": "markdown",
   "id": "d78d094a",
   "metadata": {},
   "source": [
    "\n",
    "## Step 7: Troubleshooting\n",
    "\n",
    "### Common Issues:\n",
    "1. **Page Not Loading**:\n",
    "   - Ensure the Flask server is running.\n",
    "   - Restart the app by running the `run_app()` cell again.\n",
    "\n",
    "2. **Filters Not Working**:\n",
    "   - Refresh the page and reapply your filters.\n",
    "   - Ensure your dropdown selections are valid for the dataset.\n",
    "\n",
    "3. **Slow Loading**:\n",
    "   - Large datasets may take a few seconds to render. Be patient.\n",
    "   - Optimize your data processing scripts if needed.\n",
    "\n",
    "4. **Data Errors**:\n",
    "   - Ensure your data files are correctly formatted and placed in the correct directory.\n",
    "\n",
    "\n",
    "    "
   ]
  }
 ],
 "metadata": {
  "language_info": {
   "name": "python"
  }
 },
 "nbformat": 4,
 "nbformat_minor": 5
}
