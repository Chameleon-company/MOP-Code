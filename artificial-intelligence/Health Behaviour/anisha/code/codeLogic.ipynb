{
 "cells": [
  {
   "cell_type": "markdown",
   "metadata": {},
   "source": [
    "## Importing required packages"
   ]
  },
  {
   "cell_type": "code",
   "execution_count": 31,
   "metadata": {},
   "outputs": [],
   "source": [
    "#importing required packages\n",
    "import requests\n",
    "import pandas as pd\n",
    "import numpy as np\n",
    "import plotly.express as px\n",
    "import ipywidgets as widgets\n",
    "from IPython.display import display, clear_output, HTML\n",
    "import plotly.graph_objects as go\n",
    "import plotly.colors as colors\n",
    "from sklearn.linear_model import LinearRegression\n",
    "from export_functionality import add_export_button"
   ]
  },
  {
   "cell_type": "markdown",
   "metadata": {},
   "source": [
    "## Fetching and Consolidating Food Security Data from Melbourne Open Data API"
   ]
  },
  {
   "cell_type": "code",
   "execution_count": 2,
   "metadata": {},
   "outputs": [
    {
     "name": "stdout",
     "output_type": "stream",
     "text": [
      "Fetching data for social-indicators-for-city-of-melbourne-residents-2023...\n",
      "Fetched 90 records for social-indicators-for-city-of-melbourne-residents-2023.\n",
      "Fetching data for social-indicators-for-city-of-melbourne-residents-2022...\n",
      "Fetched 90 records for social-indicators-for-city-of-melbourne-residents-2022.\n",
      "Fetching data for social-indicators-for-city-of-melbourne-residents-2021...\n",
      "Fetched 72 records for social-indicators-for-city-of-melbourne-residents-2021.\n",
      "Fetching data for social-indicators-for-city-of-melbourne-residents-2020...\n",
      "Fetched 72 records for social-indicators-for-city-of-melbourne-residents-2020.\n",
      "Fetching data for social-indicators-for-city-of-melbourne-residents-2019...\n",
      "Fetched 72 records for social-indicators-for-city-of-melbourne-residents-2019.\n",
      "Fetching data for social-indicators-for-city-of-melbourne-residents-2018...\n",
      "Fetched 72 records for social-indicators-for-city-of-melbourne-residents-2018.\n"
     ]
    }
   ],
   "source": [
    "#the base URL for the Explore API v2\n",
    "url_use = \"https://data.melbourne.vic.gov.au/api/explore/v2.1/catalog/datasets/{dataset_id}/exports/json\"\n",
    "\n",
    "#list of dataset IDs for each year\n",
    "DATASET_IDS = [\n",
    "    \"social-indicators-for-city-of-melbourne-residents-2023\",\n",
    "    \"social-indicators-for-city-of-melbourne-residents-2022\",\n",
    "    \"social-indicators-for-city-of-melbourne-residents-2021\",\n",
    "    \"social-indicators-for-city-of-melbourne-residents-2020\",\n",
    "    \"social-indicators-for-city-of-melbourne-residents-2019\",\n",
    "    \"social-indicators-for-city-of-melbourne-residents-2018\"\n",
    "]\n",
    "\n",
    "#parameters for the api call\n",
    "all_years_data = []  # For storing all records across years\n",
    "\n",
    "#fetching data through each dataset ID\n",
    "for dataset_id in DATASET_IDS:\n",
    "    print(f\"Fetching data for {dataset_id}...\")\n",
    "\n",
    "    #constructing the API request URL\n",
    "    dataset_url = url_use.format(dataset_id=dataset_id)\n",
    "\n",
    "    #apiCall\n",
    "    response = requests.get(dataset_url)\n",
    "    if response.status_code != 200:\n",
    "        print(f\"Error: Unable to fetch data for {dataset_id}. HTTP {response.status_code}\")\n",
    "        continue\n",
    "\n",
    "    #parsing json response\n",
    "    data = response.json()\n",
    "\n",
    "    #checking if response empty\n",
    "    if not data:\n",
    "        print(f\"No data found for dataset {dataset_id}.\")\n",
    "        continue\n",
    "\n",
    "    #converting json into datframe\n",
    "    df = pd.DataFrame(data)\n",
    "\n",
    "    #filtering for \"Food security\" in the topic column as I will be working with those records only\n",
    "    if \"topic\" in df.columns:\n",
    "        df = df[df[\"topic\"].str.contains(\"Food security\", na=False)]\n",
    "\n",
    "    #appending the filtered data to the list\n",
    "    all_years_data.extend(df.to_dict(\"records\"))\n",
    "\n",
    "    print(f\"Fetched {len(df)} records for {dataset_id}.\")"
   ]
  },
  {
   "cell_type": "code",
   "execution_count": 3,
   "metadata": {},
   "outputs": [
    {
     "name": "stdout",
     "output_type": "stream",
     "text": [
      "All data saved to 'food_security_all_years.csv'\n",
      ".\n",
      "Few rows from the combined DataFrame (all_df):\n",
      "  indicator                    type          topic  \\\n",
      "0         6  Council Plan Indicator  Food security   \n",
      "1         6  Council Plan Indicator  Food security   \n",
      "2         6  Council Plan Indicator  Food security   \n",
      "3        6a                   Other  Food security   \n",
      "4        6a                   Other  Food security   \n",
      "\n",
      "                                         description  \\\n",
      "0  Experienced food insecurity (worried food woul...   \n",
      "1  Experienced food insecurity (worried food woul...   \n",
      "2  Experienced food insecurity (worried food woul...   \n",
      "3                         Worried food would run out   \n",
      "4                         Worried food would run out   \n",
      "\n",
      "                     response respondent_group  year  sample_size  result  \\\n",
      "0  Yes, in the last 12 months      55-64 years  2023          115    13.2   \n",
      "1  Yes, in the last 12 months        65+ years  2023          203     5.0   \n",
      "2  Yes, in the last 12 months   Docklands 3008  2023          113    25.7   \n",
      "3  Yes, in the last 12 months      35-44 years  2023          228    19.3   \n",
      "4  Yes, in the last 12 months      55-64 years  2023          115     6.7   \n",
      "\n",
      "     format respondent_group0  \n",
      "0  Per cent               NaN  \n",
      "1  Per cent               NaN  \n",
      "2  Per cent               NaN  \n",
      "3  Per cent               NaN  \n",
      "4  Per cent               NaN  \n"
     ]
    }
   ],
   "source": [
    "#converting the combined data to a DataFrame\n",
    "all_df = pd.DataFrame(all_years_data)\n",
    "\n",
    "#saving the combined dataframe to a csv file\n",
    "all_df.to_csv(\"food_security_all_years.csv\", index=False)\n",
    "print(\"All data saved to 'food_security_all_years.csv'\\n.\")\n",
    "\n",
    "#display\n",
    "print(\"Few rows from the combined DataFrame (all_df):\")\n",
    "print(all_df.head())"
   ]
  },
  {
   "cell_type": "code",
   "execution_count": 4,
   "metadata": {},
   "outputs": [
    {
     "data": {
      "text/html": [
       "<div>\n",
       "<style scoped>\n",
       "    .dataframe tbody tr th:only-of-type {\n",
       "        vertical-align: middle;\n",
       "    }\n",
       "\n",
       "    .dataframe tbody tr th {\n",
       "        vertical-align: top;\n",
       "    }\n",
       "\n",
       "    .dataframe thead th {\n",
       "        text-align: right;\n",
       "    }\n",
       "</style>\n",
       "<table border=\"1\" class=\"dataframe\">\n",
       "  <thead>\n",
       "    <tr style=\"text-align: right;\">\n",
       "      <th></th>\n",
       "      <th>indicator</th>\n",
       "      <th>type</th>\n",
       "      <th>topic</th>\n",
       "      <th>description</th>\n",
       "      <th>response</th>\n",
       "      <th>respondent_group</th>\n",
       "      <th>year</th>\n",
       "      <th>sample_size</th>\n",
       "      <th>result</th>\n",
       "      <th>format</th>\n",
       "      <th>respondent_group0</th>\n",
       "    </tr>\n",
       "  </thead>\n",
       "  <tbody>\n",
       "    <tr>\n",
       "      <th>0</th>\n",
       "      <td>6</td>\n",
       "      <td>Council Plan Indicator</td>\n",
       "      <td>Food security</td>\n",
       "      <td>Experienced food insecurity (worried food woul...</td>\n",
       "      <td>Yes, in the last 12 months</td>\n",
       "      <td>55-64 years</td>\n",
       "      <td>2023</td>\n",
       "      <td>115</td>\n",
       "      <td>13.2</td>\n",
       "      <td>Per cent</td>\n",
       "      <td>NaN</td>\n",
       "    </tr>\n",
       "    <tr>\n",
       "      <th>1</th>\n",
       "      <td>6</td>\n",
       "      <td>Council Plan Indicator</td>\n",
       "      <td>Food security</td>\n",
       "      <td>Experienced food insecurity (worried food woul...</td>\n",
       "      <td>Yes, in the last 12 months</td>\n",
       "      <td>65+ years</td>\n",
       "      <td>2023</td>\n",
       "      <td>203</td>\n",
       "      <td>5.0</td>\n",
       "      <td>Per cent</td>\n",
       "      <td>NaN</td>\n",
       "    </tr>\n",
       "    <tr>\n",
       "      <th>2</th>\n",
       "      <td>6</td>\n",
       "      <td>Council Plan Indicator</td>\n",
       "      <td>Food security</td>\n",
       "      <td>Experienced food insecurity (worried food woul...</td>\n",
       "      <td>Yes, in the last 12 months</td>\n",
       "      <td>Docklands 3008</td>\n",
       "      <td>2023</td>\n",
       "      <td>113</td>\n",
       "      <td>25.7</td>\n",
       "      <td>Per cent</td>\n",
       "      <td>NaN</td>\n",
       "    </tr>\n",
       "    <tr>\n",
       "      <th>3</th>\n",
       "      <td>6a</td>\n",
       "      <td>Other</td>\n",
       "      <td>Food security</td>\n",
       "      <td>Worried food would run out</td>\n",
       "      <td>Yes, in the last 12 months</td>\n",
       "      <td>35-44 years</td>\n",
       "      <td>2023</td>\n",
       "      <td>228</td>\n",
       "      <td>19.3</td>\n",
       "      <td>Per cent</td>\n",
       "      <td>NaN</td>\n",
       "    </tr>\n",
       "    <tr>\n",
       "      <th>4</th>\n",
       "      <td>6a</td>\n",
       "      <td>Other</td>\n",
       "      <td>Food security</td>\n",
       "      <td>Worried food would run out</td>\n",
       "      <td>Yes, in the last 12 months</td>\n",
       "      <td>55-64 years</td>\n",
       "      <td>2023</td>\n",
       "      <td>115</td>\n",
       "      <td>6.7</td>\n",
       "      <td>Per cent</td>\n",
       "      <td>NaN</td>\n",
       "    </tr>\n",
       "  </tbody>\n",
       "</table>\n",
       "</div>"
      ],
      "text/plain": [
       "  indicator                    type          topic  \\\n",
       "0         6  Council Plan Indicator  Food security   \n",
       "1         6  Council Plan Indicator  Food security   \n",
       "2         6  Council Plan Indicator  Food security   \n",
       "3        6a                   Other  Food security   \n",
       "4        6a                   Other  Food security   \n",
       "\n",
       "                                         description  \\\n",
       "0  Experienced food insecurity (worried food woul...   \n",
       "1  Experienced food insecurity (worried food woul...   \n",
       "2  Experienced food insecurity (worried food woul...   \n",
       "3                         Worried food would run out   \n",
       "4                         Worried food would run out   \n",
       "\n",
       "                     response respondent_group  year  sample_size  result  \\\n",
       "0  Yes, in the last 12 months      55-64 years  2023          115    13.2   \n",
       "1  Yes, in the last 12 months        65+ years  2023          203     5.0   \n",
       "2  Yes, in the last 12 months   Docklands 3008  2023          113    25.7   \n",
       "3  Yes, in the last 12 months      35-44 years  2023          228    19.3   \n",
       "4  Yes, in the last 12 months      55-64 years  2023          115     6.7   \n",
       "\n",
       "     format respondent_group0  \n",
       "0  Per cent               NaN  \n",
       "1  Per cent               NaN  \n",
       "2  Per cent               NaN  \n",
       "3  Per cent               NaN  \n",
       "4  Per cent               NaN  "
      ]
     },
     "execution_count": 4,
     "metadata": {},
     "output_type": "execute_result"
    }
   ],
   "source": [
    "all_df.head()"
   ]
  },
  {
   "cell_type": "markdown",
   "metadata": {},
   "source": [
    "## Data Cleaning and Handling Missing Values"
   ]
  },
  {
   "cell_type": "code",
   "execution_count": 5,
   "metadata": {},
   "outputs": [
    {
     "name": "stdout",
     "output_type": "stream",
     "text": [
      "Missing values:\n",
      " indicator              0\n",
      "type                   0\n",
      "topic                  0\n",
      "description            0\n",
      "response               0\n",
      "respondent_group      72\n",
      "year                   0\n",
      "sample_size            0\n",
      "result                 0\n",
      "format                 0\n",
      "respondent_group0    396\n",
      "dtype: int64\n",
      "Data Types:\n",
      " indicator             object\n",
      "type                  object\n",
      "topic                 object\n",
      "description           object\n",
      "response              object\n",
      "respondent_group      object\n",
      "year                  object\n",
      "sample_size            int64\n",
      "result               float64\n",
      "format                object\n",
      "respondent_group0     object\n",
      "dtype: object\n"
     ]
    }
   ],
   "source": [
    "#checking missing values\n",
    "missing_values = all_df.isnull().sum()\n",
    "print(\"Missing values:\\n\", missing_values)\n",
    "\n",
    "#data types\n",
    "data_types = all_df.dtypes\n",
    "print(\"Data Types:\\n\", data_types)"
   ]
  },
  {
   "cell_type": "code",
   "execution_count": 6,
   "metadata": {},
   "outputs": [
    {
     "data": {
      "text/plain": [
       "(468, 11)"
      ]
     },
     "execution_count": 6,
     "metadata": {},
     "output_type": "execute_result"
    }
   ],
   "source": [
    "all_df.shape"
   ]
  },
  {
   "cell_type": "markdown",
   "metadata": {},
   "source": [
    "* respondent_group    72\n",
    "* respondent_group0    396 empty\n",
    "* total record = 468\n",
    "* difference = 72\n",
    "* checked the fetched dataset after merging csv\n",
    "* also print where all the respondent_group0 and respondent_group are empty.\n",
    "* probably for those 72 records missing for respondent_group, the relevant data is in respondent_group"
   ]
  },
  {
   "cell_type": "code",
   "execution_count": 7,
   "metadata": {},
   "outputs": [
    {
     "name": "stdout",
     "output_type": "stream",
     "text": [
      "Number of records where respondent_group is null but respondent_group0 is not: 72\n",
      "Sample records where respondent_group is null but respondent_group0 is not:\n",
      "    indicator                    type          topic  \\\n",
      "180         6  Council Plan Indicator  Food security   \n",
      "181         6  Council Plan Indicator  Food security   \n",
      "182         6  Council Plan Indicator  Food security   \n",
      "183         6  Council Plan Indicator  Food security   \n",
      "184         6  Council Plan Indicator  Food security   \n",
      "\n",
      "                                           description  \\\n",
      "180  Experienced food insecurity (worried food woul...   \n",
      "181  Experienced food insecurity (worried food woul...   \n",
      "182  Experienced food insecurity (worried food woul...   \n",
      "183  Experienced food insecurity (worried food woul...   \n",
      "184  Experienced food insecurity (worried food woul...   \n",
      "\n",
      "                       response respondent_group  year  sample_size  result  \\\n",
      "180  Yes, in the last 12 months              NaN  2021          371    49.5   \n",
      "181  Yes, in the last 12 months              NaN  2021          122    17.9   \n",
      "182  Yes, in the last 12 months              NaN  2021          117     1.9   \n",
      "183  Yes, in the last 12 months              NaN  2021          730    33.5   \n",
      "184  Yes, in the last 12 months              NaN  2021          346    37.0   \n",
      "\n",
      "       format respondent_group0  \n",
      "180  Per cent       18-24 years  \n",
      "181  Per cent       45-54 years  \n",
      "182  Per cent         65+ years  \n",
      "183  Per cent            Female  \n",
      "184  Per cent    Melbourne 3000  \n",
      "\n",
      "************************************\n",
      "\n",
      "Number of records where respondent_group0 is null but respondent_group is not: 396\n",
      "Sample records where respondent_group0 is null but respondent_group is not:\n",
      "  indicator                    type          topic  \\\n",
      "0         6  Council Plan Indicator  Food security   \n",
      "1         6  Council Plan Indicator  Food security   \n",
      "2         6  Council Plan Indicator  Food security   \n",
      "3        6a                   Other  Food security   \n",
      "4        6a                   Other  Food security   \n",
      "\n",
      "                                         description  \\\n",
      "0  Experienced food insecurity (worried food woul...   \n",
      "1  Experienced food insecurity (worried food woul...   \n",
      "2  Experienced food insecurity (worried food woul...   \n",
      "3                         Worried food would run out   \n",
      "4                         Worried food would run out   \n",
      "\n",
      "                     response respondent_group  year  sample_size  result  \\\n",
      "0  Yes, in the last 12 months      55-64 years  2023          115    13.2   \n",
      "1  Yes, in the last 12 months        65+ years  2023          203     5.0   \n",
      "2  Yes, in the last 12 months   Docklands 3008  2023          113    25.7   \n",
      "3  Yes, in the last 12 months      35-44 years  2023          228    19.3   \n",
      "4  Yes, in the last 12 months      55-64 years  2023          115     6.7   \n",
      "\n",
      "     format respondent_group0  \n",
      "0  Per cent               NaN  \n",
      "1  Per cent               NaN  \n",
      "2  Per cent               NaN  \n",
      "3  Per cent               NaN  \n",
      "4  Per cent               NaN  \n"
     ]
    }
   ],
   "source": [
    "#checking where only respondent_group is null\n",
    "respondent_group_null = all_df[all_df['respondent_group'].isnull() & all_df['respondent_group0'].notnull()]\n",
    "print(f\"Number of records where respondent_group is null but respondent_group0 is not: {len(respondent_group_null)}\")\n",
    "if len(respondent_group_null) > 0:\n",
    "    print(\"Sample records where respondent_group is null but respondent_group0 is not:\")\n",
    "    print(respondent_group_null.head())\n",
    "\n",
    "print(\"\\n************************************\\n\")\n",
    "\n",
    "#checking where only respondent_group0 is null\n",
    "respondent_group0_null = all_df[all_df['respondent_group0'].isnull() & all_df['respondent_group'].notnull()]\n",
    "print(f\"Number of records where respondent_group0 is null but respondent_group is not: {len(respondent_group0_null)}\")\n",
    "if len(respondent_group0_null) > 0:\n",
    "    print(\"Sample records where respondent_group0 is null but respondent_group is not:\")\n",
    "    print(respondent_group0_null.head())"
   ]
  },
  {
   "cell_type": "markdown",
   "metadata": {},
   "source": [
    "* from above observed result and cross checking the dataset in a `.csv` format, I can see for `year 2021` dataset, `respondent_group` column is empty (for 72 records).\n",
    "* so, instead the data for those 72 records of `year 2021` is in `respondent_group0` column. And hence other than 72 records, the rest 396 (498-72) records are empty in the case of `respondent_group0`, as those are stored in `respondent_group` column.\n",
    "* so now i will proceed to combine these two column in one unifined column as `respondent_group`"
   ]
  },
  {
   "cell_type": "code",
   "execution_count": 8,
   "metadata": {},
   "outputs": [
    {
     "name": "stdout",
     "output_type": "stream",
     "text": [
      "Missing values:\n",
      " indicator           0\n",
      "type                0\n",
      "topic               0\n",
      "description         0\n",
      "response            0\n",
      "respondent_group    0\n",
      "year                0\n",
      "sample_size         0\n",
      "result              0\n",
      "format              0\n",
      "dtype: int64\n",
      "\n",
      "All data saved to 'food_security_corrected_all_years.csv'.\n",
      "  indicator                    type          topic  \\\n",
      "0         6  Council Plan Indicator  Food security   \n",
      "1         6  Council Plan Indicator  Food security   \n",
      "2         6  Council Plan Indicator  Food security   \n",
      "3        6a                   Other  Food security   \n",
      "4        6a                   Other  Food security   \n",
      "\n",
      "                                         description  \\\n",
      "0  Experienced food insecurity (worried food woul...   \n",
      "1  Experienced food insecurity (worried food woul...   \n",
      "2  Experienced food insecurity (worried food woul...   \n",
      "3                         Worried food would run out   \n",
      "4                         Worried food would run out   \n",
      "\n",
      "                     response respondent_group  year  sample_size  result  \\\n",
      "0  Yes, in the last 12 months      55-64 years  2023          115    13.2   \n",
      "1  Yes, in the last 12 months        65+ years  2023          203     5.0   \n",
      "2  Yes, in the last 12 months   Docklands 3008  2023          113    25.7   \n",
      "3  Yes, in the last 12 months      35-44 years  2023          228    19.3   \n",
      "4  Yes, in the last 12 months      55-64 years  2023          115     6.7   \n",
      "\n",
      "     format  \n",
      "0  Per cent  \n",
      "1  Per cent  \n",
      "2  Per cent  \n",
      "3  Per cent  \n",
      "4  Per cent  \n"
     ]
    }
   ],
   "source": [
    "#combining respondent_group and respondent_group0 into a unified column\n",
    "all_df['respondent_group'] = all_df['respondent_group'].combine_first(all_df['respondent_group0'])\n",
    "\n",
    "#droping the respondent_group0 column as it is not needed now post combination\n",
    "all_df.drop(columns=['respondent_group0'], inplace=True)\n",
    "\n",
    "#verifying \n",
    "missing_values = all_df.isnull().sum()\n",
    "print(\"Missing values:\\n\", missing_values)\n",
    "\n",
    "#saving for comparing and verifying with the previous fetched data \n",
    "all_df.to_csv(\"food_security_corrected_all_years.csv\", index=False)\n",
    "print(\"\\nAll data saved to 'food_security_corrected_all_years.csv'.\")\n",
    "\n",
    "# Preview the updated DataFrame\n",
    "print(all_df.head())"
   ]
  },
  {
   "cell_type": "code",
   "execution_count": 9,
   "metadata": {},
   "outputs": [
    {
     "data": {
      "text/html": [
       "<div>\n",
       "<style scoped>\n",
       "    .dataframe tbody tr th:only-of-type {\n",
       "        vertical-align: middle;\n",
       "    }\n",
       "\n",
       "    .dataframe tbody tr th {\n",
       "        vertical-align: top;\n",
       "    }\n",
       "\n",
       "    .dataframe thead th {\n",
       "        text-align: right;\n",
       "    }\n",
       "</style>\n",
       "<table border=\"1\" class=\"dataframe\">\n",
       "  <thead>\n",
       "    <tr style=\"text-align: right;\">\n",
       "      <th></th>\n",
       "      <th>indicator</th>\n",
       "      <th>type</th>\n",
       "      <th>topic</th>\n",
       "      <th>description</th>\n",
       "      <th>response</th>\n",
       "      <th>respondent_group</th>\n",
       "      <th>year</th>\n",
       "      <th>sample_size</th>\n",
       "      <th>result</th>\n",
       "      <th>format</th>\n",
       "    </tr>\n",
       "  </thead>\n",
       "  <tbody>\n",
       "    <tr>\n",
       "      <th>0</th>\n",
       "      <td>6</td>\n",
       "      <td>Council Plan Indicator</td>\n",
       "      <td>Food security</td>\n",
       "      <td>Experienced food insecurity (worried food woul...</td>\n",
       "      <td>Yes, in the last 12 months</td>\n",
       "      <td>55-64 years</td>\n",
       "      <td>2023</td>\n",
       "      <td>115</td>\n",
       "      <td>13.2</td>\n",
       "      <td>Per cent</td>\n",
       "    </tr>\n",
       "    <tr>\n",
       "      <th>1</th>\n",
       "      <td>6</td>\n",
       "      <td>Council Plan Indicator</td>\n",
       "      <td>Food security</td>\n",
       "      <td>Experienced food insecurity (worried food woul...</td>\n",
       "      <td>Yes, in the last 12 months</td>\n",
       "      <td>65+ years</td>\n",
       "      <td>2023</td>\n",
       "      <td>203</td>\n",
       "      <td>5.0</td>\n",
       "      <td>Per cent</td>\n",
       "    </tr>\n",
       "    <tr>\n",
       "      <th>2</th>\n",
       "      <td>6</td>\n",
       "      <td>Council Plan Indicator</td>\n",
       "      <td>Food security</td>\n",
       "      <td>Experienced food insecurity (worried food woul...</td>\n",
       "      <td>Yes, in the last 12 months</td>\n",
       "      <td>Docklands 3008</td>\n",
       "      <td>2023</td>\n",
       "      <td>113</td>\n",
       "      <td>25.7</td>\n",
       "      <td>Per cent</td>\n",
       "    </tr>\n",
       "    <tr>\n",
       "      <th>3</th>\n",
       "      <td>6a</td>\n",
       "      <td>Other</td>\n",
       "      <td>Food security</td>\n",
       "      <td>Worried food would run out</td>\n",
       "      <td>Yes, in the last 12 months</td>\n",
       "      <td>35-44 years</td>\n",
       "      <td>2023</td>\n",
       "      <td>228</td>\n",
       "      <td>19.3</td>\n",
       "      <td>Per cent</td>\n",
       "    </tr>\n",
       "    <tr>\n",
       "      <th>4</th>\n",
       "      <td>6a</td>\n",
       "      <td>Other</td>\n",
       "      <td>Food security</td>\n",
       "      <td>Worried food would run out</td>\n",
       "      <td>Yes, in the last 12 months</td>\n",
       "      <td>55-64 years</td>\n",
       "      <td>2023</td>\n",
       "      <td>115</td>\n",
       "      <td>6.7</td>\n",
       "      <td>Per cent</td>\n",
       "    </tr>\n",
       "  </tbody>\n",
       "</table>\n",
       "</div>"
      ],
      "text/plain": [
       "  indicator                    type          topic  \\\n",
       "0         6  Council Plan Indicator  Food security   \n",
       "1         6  Council Plan Indicator  Food security   \n",
       "2         6  Council Plan Indicator  Food security   \n",
       "3        6a                   Other  Food security   \n",
       "4        6a                   Other  Food security   \n",
       "\n",
       "                                         description  \\\n",
       "0  Experienced food insecurity (worried food woul...   \n",
       "1  Experienced food insecurity (worried food woul...   \n",
       "2  Experienced food insecurity (worried food woul...   \n",
       "3                         Worried food would run out   \n",
       "4                         Worried food would run out   \n",
       "\n",
       "                     response respondent_group  year  sample_size  result  \\\n",
       "0  Yes, in the last 12 months      55-64 years  2023          115    13.2   \n",
       "1  Yes, in the last 12 months        65+ years  2023          203     5.0   \n",
       "2  Yes, in the last 12 months   Docklands 3008  2023          113    25.7   \n",
       "3  Yes, in the last 12 months      35-44 years  2023          228    19.3   \n",
       "4  Yes, in the last 12 months      55-64 years  2023          115     6.7   \n",
       "\n",
       "     format  \n",
       "0  Per cent  \n",
       "1  Per cent  \n",
       "2  Per cent  \n",
       "3  Per cent  \n",
       "4  Per cent  "
      ]
     },
     "execution_count": 9,
     "metadata": {},
     "output_type": "execute_result"
    }
   ],
   "source": [
    "all_df.head()"
   ]
  },
  {
   "cell_type": "code",
   "execution_count": 10,
   "metadata": {},
   "outputs": [
    {
     "name": "stdout",
     "output_type": "stream",
     "text": [
      "Filtered Data Sample:\n",
      "                                          description respondent_group  year  \\\n",
      "0  Experienced food insecurity (worried food woul...      55-64 years  2023   \n",
      "1  Experienced food insecurity (worried food woul...        65+ years  2023   \n",
      "2  Experienced food insecurity (worried food woul...   Docklands 3008  2023   \n",
      "3                         Worried food would run out      35-44 years  2023   \n",
      "4                         Worried food would run out      55-64 years  2023   \n",
      "\n",
      "   sample_size  result  \n",
      "0          115    13.2  \n",
      "1          203     5.0  \n",
      "2          113    25.7  \n",
      "3          228    19.3  \n",
      "4          115     6.7  \n"
     ]
    }
   ],
   "source": [
    "#dropping uneccessary columns\n",
    "all_df = all_df.drop(columns=['indicator', 'type', 'topic', 'response', 'format'])\n",
    "\n",
    "print(\"Filtered Data Sample:\\n\", all_df.head())"
   ]
  },
  {
   "cell_type": "code",
   "execution_count": 11,
   "metadata": {},
   "outputs": [
    {
     "name": "stdout",
     "output_type": "stream",
     "text": [
      "\n",
      "Counts of unique values in each column:\n",
      " {'description': 6, 'respondent_group': 21, 'year': 6, 'sample_size': 222, 'result': 266}\n"
     ]
    }
   ],
   "source": [
    "#unique values in each columns\n",
    "unique_counts = {col: len(all_df[col].unique()) for col in all_df.columns}\n",
    "print(\"\\nCounts of unique values in each column:\\n\", unique_counts)"
   ]
  },
  {
   "cell_type": "code",
   "execution_count": 12,
   "metadata": {},
   "outputs": [
    {
     "name": "stdout",
     "output_type": "stream",
     "text": [
      "Unique values in DESCRIPTION:\n",
      " ['Experienced food insecurity (worried food would run out and/or skipped meals and/or ran out of food and/or accessed emergency food relief services)'\n",
      " 'Worried food would run out' 'Skipped meals' 'Ran out of food'\n",
      " 'Accessed emergency food relief services'\n",
      " 'Experienced food insecurity (worried food would run out and/or skipped meals and/or ran out of food)']\n",
      "\n",
      "Unique values in YEAR:\n",
      " ['2023' '2022' '2021' '2020' '2019' '2018']\n",
      "\n",
      "Unique values in RESPONDENT GROUP:\n",
      " ['55-64 years' '65+ years' 'Docklands 3008' '35-44 years' 'Female' 'Male'\n",
      " 'South Wharf / Southbank 3006' '45-54 years' 'Carlton 3053'\n",
      " 'City of Melbourne' '25-34 years'\n",
      " 'North Melbourne 3051 / West Melbourne 3003' 'East Melbourne 3002'\n",
      " 'Kensington / Flemington 3031' 'Melbourne 3000' 'Parkville 3052'\n",
      " '18-24 years' 'South Yarra 3141 / Melbourne/St Kilda Road 3004'\n",
      " 'Kensington/ Flemingon 3031' 'Southbank/ South Wharf 3006'\n",
      " 'South Yarra 3141 / Melbourne (St Kilda Road) 3004']\n"
     ]
    }
   ],
   "source": [
    "#checking for decription, year, respondent group\n",
    "unique_descriptions = all_df['description'].unique()\n",
    "unique_years = all_df['year'].unique()\n",
    "unique_respondent_groups = all_df['respondent_group'].unique()\n",
    "\n",
    "print(\"Unique values in DESCRIPTION:\\n\", unique_descriptions)\n",
    "print(\"\\nUnique values in YEAR:\\n\", unique_years)\n",
    "print(\"\\nUnique values in RESPONDENT GROUP:\\n\", unique_respondent_groups)"
   ]
  },
  {
   "cell_type": "code",
   "execution_count": 13,
   "metadata": {},
   "outputs": [
    {
     "name": "stdout",
     "output_type": "stream",
     "text": [
      "Unique values in RESPONDENT GROUP after correction:\n",
      " ['55-64 years' '65+ years' 'Docklands 3008' '35-44 years' 'Female' 'Male'\n",
      " 'South Wharf / Southbank 3006' '45-54 years' 'Carlton 3053'\n",
      " 'City of Melbourne' '25-34 years'\n",
      " 'North Melbourne 3051 / West Melbourne 3003' 'East Melbourne 3002'\n",
      " 'Kensington / Flemington 3031' 'Melbourne 3000' 'Parkville 3052'\n",
      " '18-24 years' 'South Yarra 3141 / Melbourne/St Kilda Road 3004']\n",
      "\n",
      "Count of unique values:  18\n"
     ]
    }
   ],
   "source": [
    "#replacing the inconsistent values\n",
    "#Kensington/ Flemingon 3031 with Kensington / Flemington 3031\n",
    "#Southbank/ South Wharf 3006 with South Wharf / Southbank 3006\n",
    "#South Yarra 3141 / Melbourne (St Kilda Road) 3004 with South Yarra 3141 / Melbourne/St Kilda Road 3004\n",
    "\n",
    "all_df['respondent_group'] = all_df['respondent_group'].replace({\n",
    "    'Kensington/ Flemingon 3031': 'Kensington / Flemington 3031',\n",
    "    'Southbank/ South Wharf 3006': 'South Wharf / Southbank 3006',\n",
    "    'South Yarra 3141 / Melbourne (St Kilda Road) 3004': 'South Yarra 3141 / Melbourne/St Kilda Road 3004'\n",
    "})\n",
    "\n",
    "#lets verify\n",
    "print(\"Unique values in RESPONDENT GROUP after correction:\\n\", all_df['respondent_group'].unique())\n",
    "print(\"\\nCount of unique values: \",len(all_df['respondent_group'].unique()))"
   ]
  },
  {
   "cell_type": "code",
   "execution_count": 14,
   "metadata": {},
   "outputs": [
    {
     "data": {
      "text/html": [
       "<div>\n",
       "<style scoped>\n",
       "    .dataframe tbody tr th:only-of-type {\n",
       "        vertical-align: middle;\n",
       "    }\n",
       "\n",
       "    .dataframe tbody tr th {\n",
       "        vertical-align: top;\n",
       "    }\n",
       "\n",
       "    .dataframe thead th {\n",
       "        text-align: right;\n",
       "    }\n",
       "</style>\n",
       "<table border=\"1\" class=\"dataframe\">\n",
       "  <thead>\n",
       "    <tr style=\"text-align: right;\">\n",
       "      <th></th>\n",
       "      <th>description</th>\n",
       "      <th>respondent_group</th>\n",
       "      <th>year</th>\n",
       "      <th>sample_size</th>\n",
       "      <th>result</th>\n",
       "    </tr>\n",
       "  </thead>\n",
       "  <tbody>\n",
       "    <tr>\n",
       "      <th>0</th>\n",
       "      <td>Experienced food insecurity (worried food woul...</td>\n",
       "      <td>55-64 years</td>\n",
       "      <td>2023</td>\n",
       "      <td>115</td>\n",
       "      <td>13.2</td>\n",
       "    </tr>\n",
       "    <tr>\n",
       "      <th>1</th>\n",
       "      <td>Experienced food insecurity (worried food woul...</td>\n",
       "      <td>65+ years</td>\n",
       "      <td>2023</td>\n",
       "      <td>203</td>\n",
       "      <td>5.0</td>\n",
       "    </tr>\n",
       "    <tr>\n",
       "      <th>2</th>\n",
       "      <td>Experienced food insecurity (worried food woul...</td>\n",
       "      <td>Docklands 3008</td>\n",
       "      <td>2023</td>\n",
       "      <td>113</td>\n",
       "      <td>25.7</td>\n",
       "    </tr>\n",
       "    <tr>\n",
       "      <th>3</th>\n",
       "      <td>Worried food would run out</td>\n",
       "      <td>35-44 years</td>\n",
       "      <td>2023</td>\n",
       "      <td>228</td>\n",
       "      <td>19.3</td>\n",
       "    </tr>\n",
       "    <tr>\n",
       "      <th>4</th>\n",
       "      <td>Worried food would run out</td>\n",
       "      <td>55-64 years</td>\n",
       "      <td>2023</td>\n",
       "      <td>115</td>\n",
       "      <td>6.7</td>\n",
       "    </tr>\n",
       "  </tbody>\n",
       "</table>\n",
       "</div>"
      ],
      "text/plain": [
       "                                         description respondent_group  year  \\\n",
       "0  Experienced food insecurity (worried food woul...      55-64 years  2023   \n",
       "1  Experienced food insecurity (worried food woul...        65+ years  2023   \n",
       "2  Experienced food insecurity (worried food woul...   Docklands 3008  2023   \n",
       "3                         Worried food would run out      35-44 years  2023   \n",
       "4                         Worried food would run out      55-64 years  2023   \n",
       "\n",
       "   sample_size  result  \n",
       "0          115    13.2  \n",
       "1          203     5.0  \n",
       "2          113    25.7  \n",
       "3          228    19.3  \n",
       "4          115     6.7  "
      ]
     },
     "execution_count": 14,
     "metadata": {},
     "output_type": "execute_result"
    }
   ],
   "source": [
    "all_df.head()"
   ]
  },
  {
   "cell_type": "markdown",
   "metadata": {},
   "source": [
    "## Visualization of all the food insecurity types by showing their relative proportions"
   ]
  },
  {
   "cell_type": "code",
   "execution_count": 15,
   "metadata": {},
   "outputs": [
    {
     "data": {
      "application/vnd.plotly.v1+json": {
       "config": {
        "plotlyServerURL": "https://plot.ly"
       },
       "data": [
        {
         "domain": {
          "x": [
           0,
           1
          ],
          "y": [
           0,
           1
          ]
         },
         "hovertemplate": "<b>%{label}</b><br>Count: %{value}<extra></extra>",
         "labels": [
          "Worried food would run out",
          "Skipped meals",
          "Ran out of food",
          "Insecurity (multiple concerns)",
          "Insecurity (multiple concerns + relief)",
          "Accessed food relief services"
         ],
         "legendgroup": "",
         "name": "",
         "showlegend": true,
         "textinfo": "percent",
         "textposition": "inside",
         "type": "pie",
         "values": [
          108,
          108,
          108,
          72,
          36,
          36
         ]
        }
       ],
       "layout": {
        "height": 600,
        "legend": {
         "orientation": "h",
         "tracegroupgap": 0,
         "x": 0.5,
         "xanchor": "center",
         "y": -0.2,
         "yanchor": "bottom"
        },
        "margin": {
         "b": 0,
         "l": 0,
         "r": 0,
         "t": 50
        },
        "template": {
         "data": {
          "bar": [
           {
            "error_x": {
             "color": "#2a3f5f"
            },
            "error_y": {
             "color": "#2a3f5f"
            },
            "marker": {
             "line": {
              "color": "white",
              "width": 0.5
             },
             "pattern": {
              "fillmode": "overlay",
              "size": 10,
              "solidity": 0.2
             }
            },
            "type": "bar"
           }
          ],
          "barpolar": [
           {
            "marker": {
             "line": {
              "color": "white",
              "width": 0.5
             },
             "pattern": {
              "fillmode": "overlay",
              "size": 10,
              "solidity": 0.2
             }
            },
            "type": "barpolar"
           }
          ],
          "carpet": [
           {
            "aaxis": {
             "endlinecolor": "#2a3f5f",
             "gridcolor": "#C8D4E3",
             "linecolor": "#C8D4E3",
             "minorgridcolor": "#C8D4E3",
             "startlinecolor": "#2a3f5f"
            },
            "baxis": {
             "endlinecolor": "#2a3f5f",
             "gridcolor": "#C8D4E3",
             "linecolor": "#C8D4E3",
             "minorgridcolor": "#C8D4E3",
             "startlinecolor": "#2a3f5f"
            },
            "type": "carpet"
           }
          ],
          "choropleth": [
           {
            "colorbar": {
             "outlinewidth": 0,
             "ticks": ""
            },
            "type": "choropleth"
           }
          ],
          "contour": [
           {
            "colorbar": {
             "outlinewidth": 0,
             "ticks": ""
            },
            "colorscale": [
             [
              0,
              "#0d0887"
             ],
             [
              0.1111111111111111,
              "#46039f"
             ],
             [
              0.2222222222222222,
              "#7201a8"
             ],
             [
              0.3333333333333333,
              "#9c179e"
             ],
             [
              0.4444444444444444,
              "#bd3786"
             ],
             [
              0.5555555555555556,
              "#d8576b"
             ],
             [
              0.6666666666666666,
              "#ed7953"
             ],
             [
              0.7777777777777778,
              "#fb9f3a"
             ],
             [
              0.8888888888888888,
              "#fdca26"
             ],
             [
              1,
              "#f0f921"
             ]
            ],
            "type": "contour"
           }
          ],
          "contourcarpet": [
           {
            "colorbar": {
             "outlinewidth": 0,
             "ticks": ""
            },
            "type": "contourcarpet"
           }
          ],
          "heatmap": [
           {
            "colorbar": {
             "outlinewidth": 0,
             "ticks": ""
            },
            "colorscale": [
             [
              0,
              "#0d0887"
             ],
             [
              0.1111111111111111,
              "#46039f"
             ],
             [
              0.2222222222222222,
              "#7201a8"
             ],
             [
              0.3333333333333333,
              "#9c179e"
             ],
             [
              0.4444444444444444,
              "#bd3786"
             ],
             [
              0.5555555555555556,
              "#d8576b"
             ],
             [
              0.6666666666666666,
              "#ed7953"
             ],
             [
              0.7777777777777778,
              "#fb9f3a"
             ],
             [
              0.8888888888888888,
              "#fdca26"
             ],
             [
              1,
              "#f0f921"
             ]
            ],
            "type": "heatmap"
           }
          ],
          "heatmapgl": [
           {
            "colorbar": {
             "outlinewidth": 0,
             "ticks": ""
            },
            "colorscale": [
             [
              0,
              "#0d0887"
             ],
             [
              0.1111111111111111,
              "#46039f"
             ],
             [
              0.2222222222222222,
              "#7201a8"
             ],
             [
              0.3333333333333333,
              "#9c179e"
             ],
             [
              0.4444444444444444,
              "#bd3786"
             ],
             [
              0.5555555555555556,
              "#d8576b"
             ],
             [
              0.6666666666666666,
              "#ed7953"
             ],
             [
              0.7777777777777778,
              "#fb9f3a"
             ],
             [
              0.8888888888888888,
              "#fdca26"
             ],
             [
              1,
              "#f0f921"
             ]
            ],
            "type": "heatmapgl"
           }
          ],
          "histogram": [
           {
            "marker": {
             "pattern": {
              "fillmode": "overlay",
              "size": 10,
              "solidity": 0.2
             }
            },
            "type": "histogram"
           }
          ],
          "histogram2d": [
           {
            "colorbar": {
             "outlinewidth": 0,
             "ticks": ""
            },
            "colorscale": [
             [
              0,
              "#0d0887"
             ],
             [
              0.1111111111111111,
              "#46039f"
             ],
             [
              0.2222222222222222,
              "#7201a8"
             ],
             [
              0.3333333333333333,
              "#9c179e"
             ],
             [
              0.4444444444444444,
              "#bd3786"
             ],
             [
              0.5555555555555556,
              "#d8576b"
             ],
             [
              0.6666666666666666,
              "#ed7953"
             ],
             [
              0.7777777777777778,
              "#fb9f3a"
             ],
             [
              0.8888888888888888,
              "#fdca26"
             ],
             [
              1,
              "#f0f921"
             ]
            ],
            "type": "histogram2d"
           }
          ],
          "histogram2dcontour": [
           {
            "colorbar": {
             "outlinewidth": 0,
             "ticks": ""
            },
            "colorscale": [
             [
              0,
              "#0d0887"
             ],
             [
              0.1111111111111111,
              "#46039f"
             ],
             [
              0.2222222222222222,
              "#7201a8"
             ],
             [
              0.3333333333333333,
              "#9c179e"
             ],
             [
              0.4444444444444444,
              "#bd3786"
             ],
             [
              0.5555555555555556,
              "#d8576b"
             ],
             [
              0.6666666666666666,
              "#ed7953"
             ],
             [
              0.7777777777777778,
              "#fb9f3a"
             ],
             [
              0.8888888888888888,
              "#fdca26"
             ],
             [
              1,
              "#f0f921"
             ]
            ],
            "type": "histogram2dcontour"
           }
          ],
          "mesh3d": [
           {
            "colorbar": {
             "outlinewidth": 0,
             "ticks": ""
            },
            "type": "mesh3d"
           }
          ],
          "parcoords": [
           {
            "line": {
             "colorbar": {
              "outlinewidth": 0,
              "ticks": ""
             }
            },
            "type": "parcoords"
           }
          ],
          "pie": [
           {
            "automargin": true,
            "type": "pie"
           }
          ],
          "scatter": [
           {
            "fillpattern": {
             "fillmode": "overlay",
             "size": 10,
             "solidity": 0.2
            },
            "type": "scatter"
           }
          ],
          "scatter3d": [
           {
            "line": {
             "colorbar": {
              "outlinewidth": 0,
              "ticks": ""
             }
            },
            "marker": {
             "colorbar": {
              "outlinewidth": 0,
              "ticks": ""
             }
            },
            "type": "scatter3d"
           }
          ],
          "scattercarpet": [
           {
            "marker": {
             "colorbar": {
              "outlinewidth": 0,
              "ticks": ""
             }
            },
            "type": "scattercarpet"
           }
          ],
          "scattergeo": [
           {
            "marker": {
             "colorbar": {
              "outlinewidth": 0,
              "ticks": ""
             }
            },
            "type": "scattergeo"
           }
          ],
          "scattergl": [
           {
            "marker": {
             "colorbar": {
              "outlinewidth": 0,
              "ticks": ""
             }
            },
            "type": "scattergl"
           }
          ],
          "scattermapbox": [
           {
            "marker": {
             "colorbar": {
              "outlinewidth": 0,
              "ticks": ""
             }
            },
            "type": "scattermapbox"
           }
          ],
          "scatterpolar": [
           {
            "marker": {
             "colorbar": {
              "outlinewidth": 0,
              "ticks": ""
             }
            },
            "type": "scatterpolar"
           }
          ],
          "scatterpolargl": [
           {
            "marker": {
             "colorbar": {
              "outlinewidth": 0,
              "ticks": ""
             }
            },
            "type": "scatterpolargl"
           }
          ],
          "scatterternary": [
           {
            "marker": {
             "colorbar": {
              "outlinewidth": 0,
              "ticks": ""
             }
            },
            "type": "scatterternary"
           }
          ],
          "surface": [
           {
            "colorbar": {
             "outlinewidth": 0,
             "ticks": ""
            },
            "colorscale": [
             [
              0,
              "#0d0887"
             ],
             [
              0.1111111111111111,
              "#46039f"
             ],
             [
              0.2222222222222222,
              "#7201a8"
             ],
             [
              0.3333333333333333,
              "#9c179e"
             ],
             [
              0.4444444444444444,
              "#bd3786"
             ],
             [
              0.5555555555555556,
              "#d8576b"
             ],
             [
              0.6666666666666666,
              "#ed7953"
             ],
             [
              0.7777777777777778,
              "#fb9f3a"
             ],
             [
              0.8888888888888888,
              "#fdca26"
             ],
             [
              1,
              "#f0f921"
             ]
            ],
            "type": "surface"
           }
          ],
          "table": [
           {
            "cells": {
             "fill": {
              "color": "#EBF0F8"
             },
             "line": {
              "color": "white"
             }
            },
            "header": {
             "fill": {
              "color": "#C8D4E3"
             },
             "line": {
              "color": "white"
             }
            },
            "type": "table"
           }
          ]
         },
         "layout": {
          "annotationdefaults": {
           "arrowcolor": "#2a3f5f",
           "arrowhead": 0,
           "arrowwidth": 1
          },
          "autotypenumbers": "strict",
          "coloraxis": {
           "colorbar": {
            "outlinewidth": 0,
            "ticks": ""
           }
          },
          "colorscale": {
           "diverging": [
            [
             0,
             "#8e0152"
            ],
            [
             0.1,
             "#c51b7d"
            ],
            [
             0.2,
             "#de77ae"
            ],
            [
             0.3,
             "#f1b6da"
            ],
            [
             0.4,
             "#fde0ef"
            ],
            [
             0.5,
             "#f7f7f7"
            ],
            [
             0.6,
             "#e6f5d0"
            ],
            [
             0.7,
             "#b8e186"
            ],
            [
             0.8,
             "#7fbc41"
            ],
            [
             0.9,
             "#4d9221"
            ],
            [
             1,
             "#276419"
            ]
           ],
           "sequential": [
            [
             0,
             "#0d0887"
            ],
            [
             0.1111111111111111,
             "#46039f"
            ],
            [
             0.2222222222222222,
             "#7201a8"
            ],
            [
             0.3333333333333333,
             "#9c179e"
            ],
            [
             0.4444444444444444,
             "#bd3786"
            ],
            [
             0.5555555555555556,
             "#d8576b"
            ],
            [
             0.6666666666666666,
             "#ed7953"
            ],
            [
             0.7777777777777778,
             "#fb9f3a"
            ],
            [
             0.8888888888888888,
             "#fdca26"
            ],
            [
             1,
             "#f0f921"
            ]
           ],
           "sequentialminus": [
            [
             0,
             "#0d0887"
            ],
            [
             0.1111111111111111,
             "#46039f"
            ],
            [
             0.2222222222222222,
             "#7201a8"
            ],
            [
             0.3333333333333333,
             "#9c179e"
            ],
            [
             0.4444444444444444,
             "#bd3786"
            ],
            [
             0.5555555555555556,
             "#d8576b"
            ],
            [
             0.6666666666666666,
             "#ed7953"
            ],
            [
             0.7777777777777778,
             "#fb9f3a"
            ],
            [
             0.8888888888888888,
             "#fdca26"
            ],
            [
             1,
             "#f0f921"
            ]
           ]
          },
          "colorway": [
           "#636efa",
           "#EF553B",
           "#00cc96",
           "#ab63fa",
           "#FFA15A",
           "#19d3f3",
           "#FF6692",
           "#B6E880",
           "#FF97FF",
           "#FECB52"
          ],
          "font": {
           "color": "#2a3f5f"
          },
          "geo": {
           "bgcolor": "white",
           "lakecolor": "white",
           "landcolor": "white",
           "showlakes": true,
           "showland": true,
           "subunitcolor": "#C8D4E3"
          },
          "hoverlabel": {
           "align": "left"
          },
          "hovermode": "closest",
          "mapbox": {
           "style": "light"
          },
          "paper_bgcolor": "white",
          "plot_bgcolor": "white",
          "polar": {
           "angularaxis": {
            "gridcolor": "#EBF0F8",
            "linecolor": "#EBF0F8",
            "ticks": ""
           },
           "bgcolor": "white",
           "radialaxis": {
            "gridcolor": "#EBF0F8",
            "linecolor": "#EBF0F8",
            "ticks": ""
           }
          },
          "scene": {
           "xaxis": {
            "backgroundcolor": "white",
            "gridcolor": "#DFE8F3",
            "gridwidth": 2,
            "linecolor": "#EBF0F8",
            "showbackground": true,
            "ticks": "",
            "zerolinecolor": "#EBF0F8"
           },
           "yaxis": {
            "backgroundcolor": "white",
            "gridcolor": "#DFE8F3",
            "gridwidth": 2,
            "linecolor": "#EBF0F8",
            "showbackground": true,
            "ticks": "",
            "zerolinecolor": "#EBF0F8"
           },
           "zaxis": {
            "backgroundcolor": "white",
            "gridcolor": "#DFE8F3",
            "gridwidth": 2,
            "linecolor": "#EBF0F8",
            "showbackground": true,
            "ticks": "",
            "zerolinecolor": "#EBF0F8"
           }
          },
          "shapedefaults": {
           "line": {
            "color": "#2a3f5f"
           }
          },
          "ternary": {
           "aaxis": {
            "gridcolor": "#DFE8F3",
            "linecolor": "#A2B1C6",
            "ticks": ""
           },
           "baxis": {
            "gridcolor": "#DFE8F3",
            "linecolor": "#A2B1C6",
            "ticks": ""
           },
           "bgcolor": "white",
           "caxis": {
            "gridcolor": "#DFE8F3",
            "linecolor": "#A2B1C6",
            "ticks": ""
           }
          },
          "title": {
           "x": 0.05
          },
          "xaxis": {
           "automargin": true,
           "gridcolor": "#EBF0F8",
           "linecolor": "#EBF0F8",
           "ticks": "",
           "title": {
            "standoff": 15
           },
           "zerolinecolor": "#EBF0F8",
           "zerolinewidth": 2
          },
          "yaxis": {
           "automargin": true,
           "gridcolor": "#EBF0F8",
           "linecolor": "#EBF0F8",
           "ticks": "",
           "title": {
            "standoff": 15
           },
           "zerolinecolor": "#EBF0F8",
           "zerolinewidth": 2
          }
         }
        },
        "title": {
         "text": "Distribution of Food Insecurity:",
         "x": 0.5
        },
        "width": 600
       }
      }
     },
     "metadata": {},
     "output_type": "display_data"
    },
    {
     "data": {
      "application/vnd.jupyter.widget-view+json": {
       "model_id": "c2686ead7f48444cbd9ff8a8ae1e9e07",
       "version_major": 2,
       "version_minor": 0
      },
      "text/plain": [
       "Button(button_style='success', description='Export', icon='download', style=ButtonStyle())"
      ]
     },
     "metadata": {},
     "output_type": "display_data"
    },
    {
     "data": {
      "application/vnd.jupyter.widget-view+json": {
       "model_id": "94f0038ef93c46e9aa53858cb16c25c8",
       "version_major": 2,
       "version_minor": 0
      },
      "text/plain": [
       "HTML(value='')"
      ]
     },
     "metadata": {},
     "output_type": "display_data"
    }
   ],
   "source": [
    "#maping the descriptions to shorter labels for the legend\n",
    "short_labels = {\n",
    "    \"Ran out of food\": \"Ran out of food\",\n",
    "\n",
    "    \"Skipped meals\": \"Skipped meals\",\n",
    "    \n",
    "    \"Worried food would run out\": \"Worried food would run out\",\n",
    "    \n",
    "    \"Experienced food insecurity (worried food would run out and/or skipped meals \"\n",
    "    \"and/or ran out of food)\": \"Insecurity (multiple concerns)\",\n",
    "    \n",
    "    \"Experienced food insecurity (worried food would run out and/or skipped meals \"\n",
    "    \"and/or ran out of food and/or accessed emergency food relief services)\": \"Insecurity (multiple concerns + relief)\",\n",
    "    \n",
    "    \"Accessed emergency food relief services\": \"Accessed food relief services\",\n",
    "}\n",
    "\n",
    "#applying new labels in the DataFrame\n",
    "all_df['food_insecurity'] = all_df['description'].map(short_labels)\n",
    "description_counts = all_df['food_insecurity'].value_counts().reset_index()\n",
    "description_counts.columns = ['food_insecurity', 'Count']\n",
    "\n",
    "#pie chart\n",
    "fig = px.pie(\n",
    "    description_counts, \n",
    "    names='food_insecurity',  \n",
    "    values='Count', \n",
    "    title=\"Distribution of Food Insecurity:\"\n",
    ")\n",
    "\n",
    "#hover and legend layout customizing\n",
    "fig.update_traces(\n",
    "    textposition='inside', \n",
    "    textinfo='percent',  \n",
    "    hovertemplate='<b>%{label}</b><br>Count: %{value}<extra></extra>'\n",
    ")\n",
    "\n",
    "#legend layout to make it more compact\n",
    "\n",
    "fig.update_layout(\n",
    "    width=600,  # Adjust the width\n",
    "    height=600,  # Adjust the height\n",
    "    title_x=0.5,  # Center the title\n",
    "    legend=dict(\n",
    "        orientation=\"h\",  # Horizontal legend\n",
    "        yanchor=\"bottom\",\n",
    "        y=-0.2,  # Position the legend slightly below the chart\n",
    "        xanchor=\"center\",\n",
    "        x=0.5\n",
    "    ),\n",
    "    margin=dict(l=0, r=0, t=50, b=0),  # Center the pie chart by removing side margins\n",
    "    template=\"plotly_white\"\n",
    ")\n",
    "\n",
    "fig.show()\n",
    "\n",
    "# Add export functionality\n",
    "add_export_button(fig, file_name_prefix=\"food_insecurity_pie_chart\")"
   ]
  },
  {
   "cell_type": "code",
   "execution_count": 16,
   "metadata": {},
   "outputs": [
    {
     "data": {
      "text/html": [
       "<div>\n",
       "<style scoped>\n",
       "    .dataframe tbody tr th:only-of-type {\n",
       "        vertical-align: middle;\n",
       "    }\n",
       "\n",
       "    .dataframe tbody tr th {\n",
       "        vertical-align: top;\n",
       "    }\n",
       "\n",
       "    .dataframe thead th {\n",
       "        text-align: right;\n",
       "    }\n",
       "</style>\n",
       "<table border=\"1\" class=\"dataframe\">\n",
       "  <thead>\n",
       "    <tr style=\"text-align: right;\">\n",
       "      <th></th>\n",
       "      <th>description</th>\n",
       "      <th>respondent_group</th>\n",
       "      <th>year</th>\n",
       "      <th>sample_size</th>\n",
       "      <th>result</th>\n",
       "      <th>food_insecurity</th>\n",
       "    </tr>\n",
       "  </thead>\n",
       "  <tbody>\n",
       "    <tr>\n",
       "      <th>0</th>\n",
       "      <td>Experienced food insecurity (worried food woul...</td>\n",
       "      <td>55-64 years</td>\n",
       "      <td>2023</td>\n",
       "      <td>115</td>\n",
       "      <td>13.2</td>\n",
       "      <td>Insecurity (multiple concerns + relief)</td>\n",
       "    </tr>\n",
       "    <tr>\n",
       "      <th>1</th>\n",
       "      <td>Experienced food insecurity (worried food woul...</td>\n",
       "      <td>65+ years</td>\n",
       "      <td>2023</td>\n",
       "      <td>203</td>\n",
       "      <td>5.0</td>\n",
       "      <td>Insecurity (multiple concerns + relief)</td>\n",
       "    </tr>\n",
       "    <tr>\n",
       "      <th>2</th>\n",
       "      <td>Experienced food insecurity (worried food woul...</td>\n",
       "      <td>Docklands 3008</td>\n",
       "      <td>2023</td>\n",
       "      <td>113</td>\n",
       "      <td>25.7</td>\n",
       "      <td>Insecurity (multiple concerns + relief)</td>\n",
       "    </tr>\n",
       "    <tr>\n",
       "      <th>3</th>\n",
       "      <td>Worried food would run out</td>\n",
       "      <td>35-44 years</td>\n",
       "      <td>2023</td>\n",
       "      <td>228</td>\n",
       "      <td>19.3</td>\n",
       "      <td>Worried food would run out</td>\n",
       "    </tr>\n",
       "    <tr>\n",
       "      <th>4</th>\n",
       "      <td>Worried food would run out</td>\n",
       "      <td>55-64 years</td>\n",
       "      <td>2023</td>\n",
       "      <td>115</td>\n",
       "      <td>6.7</td>\n",
       "      <td>Worried food would run out</td>\n",
       "    </tr>\n",
       "  </tbody>\n",
       "</table>\n",
       "</div>"
      ],
      "text/plain": [
       "                                         description respondent_group  year  \\\n",
       "0  Experienced food insecurity (worried food woul...      55-64 years  2023   \n",
       "1  Experienced food insecurity (worried food woul...        65+ years  2023   \n",
       "2  Experienced food insecurity (worried food woul...   Docklands 3008  2023   \n",
       "3                         Worried food would run out      35-44 years  2023   \n",
       "4                         Worried food would run out      55-64 years  2023   \n",
       "\n",
       "   sample_size  result                          food_insecurity  \n",
       "0          115    13.2  Insecurity (multiple concerns + relief)  \n",
       "1          203     5.0  Insecurity (multiple concerns + relief)  \n",
       "2          113    25.7  Insecurity (multiple concerns + relief)  \n",
       "3          228    19.3               Worried food would run out  \n",
       "4          115     6.7               Worried food would run out  "
      ]
     },
     "execution_count": 16,
     "metadata": {},
     "output_type": "execute_result"
    }
   ],
   "source": [
    "all_df.head()"
   ]
  },
  {
   "cell_type": "markdown",
   "metadata": {},
   "source": [
    "## Analyzing Demographic Distributions Across Years"
   ]
  },
  {
   "cell_type": "markdown",
   "metadata": {},
   "source": [
    "* creating new columns (Age, Suburb, Gender) based on the values in respondent_group. these columns classify and separate the demographic information into meaningful groups."
   ]
  },
  {
   "cell_type": "code",
   "execution_count": 17,
   "metadata": {},
   "outputs": [
    {
     "name": "stdout",
     "output_type": "stream",
     "text": [
      "Our dataframe with new columns:\n",
      "   respondent_group          Age          Suburb Gender\n",
      "0      55-64 years  55-64 Years            None   None\n",
      "1        65+ years    65+ Years            None   None\n",
      "2   Docklands 3008         None  Docklands 3008   None\n",
      "3      35-44 years  35-44 Years            None   None\n",
      "4      55-64 years  55-64 Years            None   None\n"
     ]
    }
   ],
   "source": [
    "#functions to classify entries as Age, Suburb, or Gender with basic standardization\n",
    "def classify_age(value):\n",
    "    value = value.strip().title()  #standardize spacing and capitalization\n",
    "    if 'Years' in value:\n",
    "        return value\n",
    "    return None\n",
    "\n",
    "def classify_suburb(value):\n",
    "    value = value.strip().title()\n",
    "    if 'Years' not in value and value not in ['Male', 'Female']:\n",
    "        return value\n",
    "    return None\n",
    "\n",
    "def classify_gender(value):\n",
    "    value = value.strip().title()\n",
    "    if value in ['Male', 'Female']:\n",
    "        return value\n",
    "    return None\n",
    "\n",
    "#applying the functions to create new columns\n",
    "all_df['Age'] = all_df['respondent_group'].apply(classify_age)\n",
    "all_df['Suburb'] = all_df['respondent_group'].apply(classify_suburb)\n",
    "all_df['Gender'] = all_df['respondent_group'].apply(classify_gender)\n",
    "\n",
    "#verifying\n",
    "print(\"Our dataframe with new columns:\\n\", all_df[['respondent_group', 'Age', 'Suburb', 'Gender']].head())"
   ]
  },
  {
   "cell_type": "code",
   "execution_count": 18,
   "metadata": {},
   "outputs": [
    {
     "data": {
      "text/html": [
       "<div>\n",
       "<style scoped>\n",
       "    .dataframe tbody tr th:only-of-type {\n",
       "        vertical-align: middle;\n",
       "    }\n",
       "\n",
       "    .dataframe tbody tr th {\n",
       "        vertical-align: top;\n",
       "    }\n",
       "\n",
       "    .dataframe thead th {\n",
       "        text-align: right;\n",
       "    }\n",
       "</style>\n",
       "<table border=\"1\" class=\"dataframe\">\n",
       "  <thead>\n",
       "    <tr style=\"text-align: right;\">\n",
       "      <th></th>\n",
       "      <th>description</th>\n",
       "      <th>respondent_group</th>\n",
       "      <th>year</th>\n",
       "      <th>sample_size</th>\n",
       "      <th>result</th>\n",
       "      <th>food_insecurity</th>\n",
       "      <th>Age</th>\n",
       "      <th>Suburb</th>\n",
       "      <th>Gender</th>\n",
       "    </tr>\n",
       "  </thead>\n",
       "  <tbody>\n",
       "    <tr>\n",
       "      <th>0</th>\n",
       "      <td>Experienced food insecurity (worried food woul...</td>\n",
       "      <td>55-64 years</td>\n",
       "      <td>2023</td>\n",
       "      <td>115</td>\n",
       "      <td>13.2</td>\n",
       "      <td>Insecurity (multiple concerns + relief)</td>\n",
       "      <td>55-64 Years</td>\n",
       "      <td>None</td>\n",
       "      <td>None</td>\n",
       "    </tr>\n",
       "    <tr>\n",
       "      <th>1</th>\n",
       "      <td>Experienced food insecurity (worried food woul...</td>\n",
       "      <td>65+ years</td>\n",
       "      <td>2023</td>\n",
       "      <td>203</td>\n",
       "      <td>5.0</td>\n",
       "      <td>Insecurity (multiple concerns + relief)</td>\n",
       "      <td>65+ Years</td>\n",
       "      <td>None</td>\n",
       "      <td>None</td>\n",
       "    </tr>\n",
       "    <tr>\n",
       "      <th>2</th>\n",
       "      <td>Experienced food insecurity (worried food woul...</td>\n",
       "      <td>Docklands 3008</td>\n",
       "      <td>2023</td>\n",
       "      <td>113</td>\n",
       "      <td>25.7</td>\n",
       "      <td>Insecurity (multiple concerns + relief)</td>\n",
       "      <td>None</td>\n",
       "      <td>Docklands 3008</td>\n",
       "      <td>None</td>\n",
       "    </tr>\n",
       "    <tr>\n",
       "      <th>3</th>\n",
       "      <td>Worried food would run out</td>\n",
       "      <td>35-44 years</td>\n",
       "      <td>2023</td>\n",
       "      <td>228</td>\n",
       "      <td>19.3</td>\n",
       "      <td>Worried food would run out</td>\n",
       "      <td>35-44 Years</td>\n",
       "      <td>None</td>\n",
       "      <td>None</td>\n",
       "    </tr>\n",
       "    <tr>\n",
       "      <th>4</th>\n",
       "      <td>Worried food would run out</td>\n",
       "      <td>55-64 years</td>\n",
       "      <td>2023</td>\n",
       "      <td>115</td>\n",
       "      <td>6.7</td>\n",
       "      <td>Worried food would run out</td>\n",
       "      <td>55-64 Years</td>\n",
       "      <td>None</td>\n",
       "      <td>None</td>\n",
       "    </tr>\n",
       "    <tr>\n",
       "      <th>5</th>\n",
       "      <td>Worried food would run out</td>\n",
       "      <td>Female</td>\n",
       "      <td>2023</td>\n",
       "      <td>758</td>\n",
       "      <td>24.6</td>\n",
       "      <td>Worried food would run out</td>\n",
       "      <td>None</td>\n",
       "      <td>None</td>\n",
       "      <td>Female</td>\n",
       "    </tr>\n",
       "    <tr>\n",
       "      <th>6</th>\n",
       "      <td>Worried food would run out</td>\n",
       "      <td>Male</td>\n",
       "      <td>2023</td>\n",
       "      <td>572</td>\n",
       "      <td>19.4</td>\n",
       "      <td>Worried food would run out</td>\n",
       "      <td>None</td>\n",
       "      <td>None</td>\n",
       "      <td>Male</td>\n",
       "    </tr>\n",
       "    <tr>\n",
       "      <th>7</th>\n",
       "      <td>Worried food would run out</td>\n",
       "      <td>Docklands 3008</td>\n",
       "      <td>2023</td>\n",
       "      <td>113</td>\n",
       "      <td>14.5</td>\n",
       "      <td>Worried food would run out</td>\n",
       "      <td>None</td>\n",
       "      <td>Docklands 3008</td>\n",
       "      <td>None</td>\n",
       "    </tr>\n",
       "    <tr>\n",
       "      <th>8</th>\n",
       "      <td>Worried food would run out</td>\n",
       "      <td>South Wharf / Southbank 3006</td>\n",
       "      <td>2023</td>\n",
       "      <td>147</td>\n",
       "      <td>16.0</td>\n",
       "      <td>Worried food would run out</td>\n",
       "      <td>None</td>\n",
       "      <td>South Wharf / Southbank 3006</td>\n",
       "      <td>None</td>\n",
       "    </tr>\n",
       "    <tr>\n",
       "      <th>9</th>\n",
       "      <td>Skipped meals</td>\n",
       "      <td>35-44 years</td>\n",
       "      <td>2023</td>\n",
       "      <td>228</td>\n",
       "      <td>16.3</td>\n",
       "      <td>Skipped meals</td>\n",
       "      <td>35-44 Years</td>\n",
       "      <td>None</td>\n",
       "      <td>None</td>\n",
       "    </tr>\n",
       "  </tbody>\n",
       "</table>\n",
       "</div>"
      ],
      "text/plain": [
       "                                         description  \\\n",
       "0  Experienced food insecurity (worried food woul...   \n",
       "1  Experienced food insecurity (worried food woul...   \n",
       "2  Experienced food insecurity (worried food woul...   \n",
       "3                         Worried food would run out   \n",
       "4                         Worried food would run out   \n",
       "5                         Worried food would run out   \n",
       "6                         Worried food would run out   \n",
       "7                         Worried food would run out   \n",
       "8                         Worried food would run out   \n",
       "9                                      Skipped meals   \n",
       "\n",
       "               respondent_group  year  sample_size  result  \\\n",
       "0                   55-64 years  2023          115    13.2   \n",
       "1                     65+ years  2023          203     5.0   \n",
       "2                Docklands 3008  2023          113    25.7   \n",
       "3                   35-44 years  2023          228    19.3   \n",
       "4                   55-64 years  2023          115     6.7   \n",
       "5                        Female  2023          758    24.6   \n",
       "6                          Male  2023          572    19.4   \n",
       "7                Docklands 3008  2023          113    14.5   \n",
       "8  South Wharf / Southbank 3006  2023          147    16.0   \n",
       "9                   35-44 years  2023          228    16.3   \n",
       "\n",
       "                           food_insecurity          Age  \\\n",
       "0  Insecurity (multiple concerns + relief)  55-64 Years   \n",
       "1  Insecurity (multiple concerns + relief)    65+ Years   \n",
       "2  Insecurity (multiple concerns + relief)         None   \n",
       "3               Worried food would run out  35-44 Years   \n",
       "4               Worried food would run out  55-64 Years   \n",
       "5               Worried food would run out         None   \n",
       "6               Worried food would run out         None   \n",
       "7               Worried food would run out         None   \n",
       "8               Worried food would run out         None   \n",
       "9                            Skipped meals  35-44 Years   \n",
       "\n",
       "                         Suburb  Gender  \n",
       "0                          None    None  \n",
       "1                          None    None  \n",
       "2                Docklands 3008    None  \n",
       "3                          None    None  \n",
       "4                          None    None  \n",
       "5                          None  Female  \n",
       "6                          None    Male  \n",
       "7                Docklands 3008    None  \n",
       "8  South Wharf / Southbank 3006    None  \n",
       "9                          None    None  "
      ]
     },
     "execution_count": 18,
     "metadata": {},
     "output_type": "execute_result"
    }
   ],
   "source": [
    "all_df.head(10)"
   ]
  },
  {
   "cell_type": "code",
   "execution_count": null,
   "metadata": {},
   "outputs": [
    {
     "data": {
      "application/vnd.jupyter.widget-view+json": {
       "model_id": "246e5d99382245978b6031a08288c4d9",
       "version_major": 2,
       "version_minor": 0
      },
      "text/plain": [
       "Dropdown(description='Year:', index=4, options=('Select the Year', 2018, 2019, 2020, 2021, 2022, 2023, 'All Ye…"
      ]
     },
     "metadata": {},
     "output_type": "display_data"
    },
    {
     "data": {
      "application/vnd.jupyter.widget-view+json": {
       "model_id": "310dad647da949fd91dc6a0389efe871",
       "version_major": 2,
       "version_minor": 0
      },
      "text/plain": [
       "Dropdown(description='Category:', index=2, layout=Layout(width='400px'), options=('Select Category', 'Age', 'G…"
      ]
     },
     "metadata": {},
     "output_type": "display_data"
    },
    {
     "data": {
      "application/vnd.plotly.v1+json": {
       "config": {
        "plotlyServerURL": "https://plot.ly"
       },
       "data": [
        {
         "alignmentgroup": "True",
         "hovertemplate": "Gender=%{x}<br>Count=%{y}<extra></extra>",
         "legendgroup": "",
         "marker": {
          "color": "#636efa",
          "pattern": {
           "shape": ""
          }
         },
         "name": "",
         "offsetgroup": "",
         "orientation": "v",
         "showlegend": false,
         "textposition": "auto",
         "type": "bar",
         "x": [
          "Female",
          "Male"
         ],
         "xaxis": "x",
         "y": [
          4,
          4
         ],
         "yaxis": "y"
        }
       ],
       "layout": {
        "barmode": "relative",
        "legend": {
         "tracegroupgap": 0
        },
        "template": {
         "data": {
          "bar": [
           {
            "error_x": {
             "color": "#2a3f5f"
            },
            "error_y": {
             "color": "#2a3f5f"
            },
            "marker": {
             "line": {
              "color": "white",
              "width": 0.5
             },
             "pattern": {
              "fillmode": "overlay",
              "size": 10,
              "solidity": 0.2
             }
            },
            "type": "bar"
           }
          ],
          "barpolar": [
           {
            "marker": {
             "line": {
              "color": "white",
              "width": 0.5
             },
             "pattern": {
              "fillmode": "overlay",
              "size": 10,
              "solidity": 0.2
             }
            },
            "type": "barpolar"
           }
          ],
          "carpet": [
           {
            "aaxis": {
             "endlinecolor": "#2a3f5f",
             "gridcolor": "#C8D4E3",
             "linecolor": "#C8D4E3",
             "minorgridcolor": "#C8D4E3",
             "startlinecolor": "#2a3f5f"
            },
            "baxis": {
             "endlinecolor": "#2a3f5f",
             "gridcolor": "#C8D4E3",
             "linecolor": "#C8D4E3",
             "minorgridcolor": "#C8D4E3",
             "startlinecolor": "#2a3f5f"
            },
            "type": "carpet"
           }
          ],
          "choropleth": [
           {
            "colorbar": {
             "outlinewidth": 0,
             "ticks": ""
            },
            "type": "choropleth"
           }
          ],
          "contour": [
           {
            "colorbar": {
             "outlinewidth": 0,
             "ticks": ""
            },
            "colorscale": [
             [
              0,
              "#0d0887"
             ],
             [
              0.1111111111111111,
              "#46039f"
             ],
             [
              0.2222222222222222,
              "#7201a8"
             ],
             [
              0.3333333333333333,
              "#9c179e"
             ],
             [
              0.4444444444444444,
              "#bd3786"
             ],
             [
              0.5555555555555556,
              "#d8576b"
             ],
             [
              0.6666666666666666,
              "#ed7953"
             ],
             [
              0.7777777777777778,
              "#fb9f3a"
             ],
             [
              0.8888888888888888,
              "#fdca26"
             ],
             [
              1,
              "#f0f921"
             ]
            ],
            "type": "contour"
           }
          ],
          "contourcarpet": [
           {
            "colorbar": {
             "outlinewidth": 0,
             "ticks": ""
            },
            "type": "contourcarpet"
           }
          ],
          "heatmap": [
           {
            "colorbar": {
             "outlinewidth": 0,
             "ticks": ""
            },
            "colorscale": [
             [
              0,
              "#0d0887"
             ],
             [
              0.1111111111111111,
              "#46039f"
             ],
             [
              0.2222222222222222,
              "#7201a8"
             ],
             [
              0.3333333333333333,
              "#9c179e"
             ],
             [
              0.4444444444444444,
              "#bd3786"
             ],
             [
              0.5555555555555556,
              "#d8576b"
             ],
             [
              0.6666666666666666,
              "#ed7953"
             ],
             [
              0.7777777777777778,
              "#fb9f3a"
             ],
             [
              0.8888888888888888,
              "#fdca26"
             ],
             [
              1,
              "#f0f921"
             ]
            ],
            "type": "heatmap"
           }
          ],
          "heatmapgl": [
           {
            "colorbar": {
             "outlinewidth": 0,
             "ticks": ""
            },
            "colorscale": [
             [
              0,
              "#0d0887"
             ],
             [
              0.1111111111111111,
              "#46039f"
             ],
             [
              0.2222222222222222,
              "#7201a8"
             ],
             [
              0.3333333333333333,
              "#9c179e"
             ],
             [
              0.4444444444444444,
              "#bd3786"
             ],
             [
              0.5555555555555556,
              "#d8576b"
             ],
             [
              0.6666666666666666,
              "#ed7953"
             ],
             [
              0.7777777777777778,
              "#fb9f3a"
             ],
             [
              0.8888888888888888,
              "#fdca26"
             ],
             [
              1,
              "#f0f921"
             ]
            ],
            "type": "heatmapgl"
           }
          ],
          "histogram": [
           {
            "marker": {
             "pattern": {
              "fillmode": "overlay",
              "size": 10,
              "solidity": 0.2
             }
            },
            "type": "histogram"
           }
          ],
          "histogram2d": [
           {
            "colorbar": {
             "outlinewidth": 0,
             "ticks": ""
            },
            "colorscale": [
             [
              0,
              "#0d0887"
             ],
             [
              0.1111111111111111,
              "#46039f"
             ],
             [
              0.2222222222222222,
              "#7201a8"
             ],
             [
              0.3333333333333333,
              "#9c179e"
             ],
             [
              0.4444444444444444,
              "#bd3786"
             ],
             [
              0.5555555555555556,
              "#d8576b"
             ],
             [
              0.6666666666666666,
              "#ed7953"
             ],
             [
              0.7777777777777778,
              "#fb9f3a"
             ],
             [
              0.8888888888888888,
              "#fdca26"
             ],
             [
              1,
              "#f0f921"
             ]
            ],
            "type": "histogram2d"
           }
          ],
          "histogram2dcontour": [
           {
            "colorbar": {
             "outlinewidth": 0,
             "ticks": ""
            },
            "colorscale": [
             [
              0,
              "#0d0887"
             ],
             [
              0.1111111111111111,
              "#46039f"
             ],
             [
              0.2222222222222222,
              "#7201a8"
             ],
             [
              0.3333333333333333,
              "#9c179e"
             ],
             [
              0.4444444444444444,
              "#bd3786"
             ],
             [
              0.5555555555555556,
              "#d8576b"
             ],
             [
              0.6666666666666666,
              "#ed7953"
             ],
             [
              0.7777777777777778,
              "#fb9f3a"
             ],
             [
              0.8888888888888888,
              "#fdca26"
             ],
             [
              1,
              "#f0f921"
             ]
            ],
            "type": "histogram2dcontour"
           }
          ],
          "mesh3d": [
           {
            "colorbar": {
             "outlinewidth": 0,
             "ticks": ""
            },
            "type": "mesh3d"
           }
          ],
          "parcoords": [
           {
            "line": {
             "colorbar": {
              "outlinewidth": 0,
              "ticks": ""
             }
            },
            "type": "parcoords"
           }
          ],
          "pie": [
           {
            "automargin": true,
            "type": "pie"
           }
          ],
          "scatter": [
           {
            "fillpattern": {
             "fillmode": "overlay",
             "size": 10,
             "solidity": 0.2
            },
            "type": "scatter"
           }
          ],
          "scatter3d": [
           {
            "line": {
             "colorbar": {
              "outlinewidth": 0,
              "ticks": ""
             }
            },
            "marker": {
             "colorbar": {
              "outlinewidth": 0,
              "ticks": ""
             }
            },
            "type": "scatter3d"
           }
          ],
          "scattercarpet": [
           {
            "marker": {
             "colorbar": {
              "outlinewidth": 0,
              "ticks": ""
             }
            },
            "type": "scattercarpet"
           }
          ],
          "scattergeo": [
           {
            "marker": {
             "colorbar": {
              "outlinewidth": 0,
              "ticks": ""
             }
            },
            "type": "scattergeo"
           }
          ],
          "scattergl": [
           {
            "marker": {
             "colorbar": {
              "outlinewidth": 0,
              "ticks": ""
             }
            },
            "type": "scattergl"
           }
          ],
          "scattermapbox": [
           {
            "marker": {
             "colorbar": {
              "outlinewidth": 0,
              "ticks": ""
             }
            },
            "type": "scattermapbox"
           }
          ],
          "scatterpolar": [
           {
            "marker": {
             "colorbar": {
              "outlinewidth": 0,
              "ticks": ""
             }
            },
            "type": "scatterpolar"
           }
          ],
          "scatterpolargl": [
           {
            "marker": {
             "colorbar": {
              "outlinewidth": 0,
              "ticks": ""
             }
            },
            "type": "scatterpolargl"
           }
          ],
          "scatterternary": [
           {
            "marker": {
             "colorbar": {
              "outlinewidth": 0,
              "ticks": ""
             }
            },
            "type": "scatterternary"
           }
          ],
          "surface": [
           {
            "colorbar": {
             "outlinewidth": 0,
             "ticks": ""
            },
            "colorscale": [
             [
              0,
              "#0d0887"
             ],
             [
              0.1111111111111111,
              "#46039f"
             ],
             [
              0.2222222222222222,
              "#7201a8"
             ],
             [
              0.3333333333333333,
              "#9c179e"
             ],
             [
              0.4444444444444444,
              "#bd3786"
             ],
             [
              0.5555555555555556,
              "#d8576b"
             ],
             [
              0.6666666666666666,
              "#ed7953"
             ],
             [
              0.7777777777777778,
              "#fb9f3a"
             ],
             [
              0.8888888888888888,
              "#fdca26"
             ],
             [
              1,
              "#f0f921"
             ]
            ],
            "type": "surface"
           }
          ],
          "table": [
           {
            "cells": {
             "fill": {
              "color": "#EBF0F8"
             },
             "line": {
              "color": "white"
             }
            },
            "header": {
             "fill": {
              "color": "#C8D4E3"
             },
             "line": {
              "color": "white"
             }
            },
            "type": "table"
           }
          ]
         },
         "layout": {
          "annotationdefaults": {
           "arrowcolor": "#2a3f5f",
           "arrowhead": 0,
           "arrowwidth": 1
          },
          "autotypenumbers": "strict",
          "coloraxis": {
           "colorbar": {
            "outlinewidth": 0,
            "ticks": ""
           }
          },
          "colorscale": {
           "diverging": [
            [
             0,
             "#8e0152"
            ],
            [
             0.1,
             "#c51b7d"
            ],
            [
             0.2,
             "#de77ae"
            ],
            [
             0.3,
             "#f1b6da"
            ],
            [
             0.4,
             "#fde0ef"
            ],
            [
             0.5,
             "#f7f7f7"
            ],
            [
             0.6,
             "#e6f5d0"
            ],
            [
             0.7,
             "#b8e186"
            ],
            [
             0.8,
             "#7fbc41"
            ],
            [
             0.9,
             "#4d9221"
            ],
            [
             1,
             "#276419"
            ]
           ],
           "sequential": [
            [
             0,
             "#0d0887"
            ],
            [
             0.1111111111111111,
             "#46039f"
            ],
            [
             0.2222222222222222,
             "#7201a8"
            ],
            [
             0.3333333333333333,
             "#9c179e"
            ],
            [
             0.4444444444444444,
             "#bd3786"
            ],
            [
             0.5555555555555556,
             "#d8576b"
            ],
            [
             0.6666666666666666,
             "#ed7953"
            ],
            [
             0.7777777777777778,
             "#fb9f3a"
            ],
            [
             0.8888888888888888,
             "#fdca26"
            ],
            [
             1,
             "#f0f921"
            ]
           ],
           "sequentialminus": [
            [
             0,
             "#0d0887"
            ],
            [
             0.1111111111111111,
             "#46039f"
            ],
            [
             0.2222222222222222,
             "#7201a8"
            ],
            [
             0.3333333333333333,
             "#9c179e"
            ],
            [
             0.4444444444444444,
             "#bd3786"
            ],
            [
             0.5555555555555556,
             "#d8576b"
            ],
            [
             0.6666666666666666,
             "#ed7953"
            ],
            [
             0.7777777777777778,
             "#fb9f3a"
            ],
            [
             0.8888888888888888,
             "#fdca26"
            ],
            [
             1,
             "#f0f921"
            ]
           ]
          },
          "colorway": [
           "#636efa",
           "#EF553B",
           "#00cc96",
           "#ab63fa",
           "#FFA15A",
           "#19d3f3",
           "#FF6692",
           "#B6E880",
           "#FF97FF",
           "#FECB52"
          ],
          "font": {
           "color": "#2a3f5f"
          },
          "geo": {
           "bgcolor": "white",
           "lakecolor": "white",
           "landcolor": "white",
           "showlakes": true,
           "showland": true,
           "subunitcolor": "#C8D4E3"
          },
          "hoverlabel": {
           "align": "left"
          },
          "hovermode": "closest",
          "mapbox": {
           "style": "light"
          },
          "paper_bgcolor": "white",
          "plot_bgcolor": "white",
          "polar": {
           "angularaxis": {
            "gridcolor": "#EBF0F8",
            "linecolor": "#EBF0F8",
            "ticks": ""
           },
           "bgcolor": "white",
           "radialaxis": {
            "gridcolor": "#EBF0F8",
            "linecolor": "#EBF0F8",
            "ticks": ""
           }
          },
          "scene": {
           "xaxis": {
            "backgroundcolor": "white",
            "gridcolor": "#DFE8F3",
            "gridwidth": 2,
            "linecolor": "#EBF0F8",
            "showbackground": true,
            "ticks": "",
            "zerolinecolor": "#EBF0F8"
           },
           "yaxis": {
            "backgroundcolor": "white",
            "gridcolor": "#DFE8F3",
            "gridwidth": 2,
            "linecolor": "#EBF0F8",
            "showbackground": true,
            "ticks": "",
            "zerolinecolor": "#EBF0F8"
           },
           "zaxis": {
            "backgroundcolor": "white",
            "gridcolor": "#DFE8F3",
            "gridwidth": 2,
            "linecolor": "#EBF0F8",
            "showbackground": true,
            "ticks": "",
            "zerolinecolor": "#EBF0F8"
           }
          },
          "shapedefaults": {
           "line": {
            "color": "#2a3f5f"
           }
          },
          "ternary": {
           "aaxis": {
            "gridcolor": "#DFE8F3",
            "linecolor": "#A2B1C6",
            "ticks": ""
           },
           "baxis": {
            "gridcolor": "#DFE8F3",
            "linecolor": "#A2B1C6",
            "ticks": ""
           },
           "bgcolor": "white",
           "caxis": {
            "gridcolor": "#DFE8F3",
            "linecolor": "#A2B1C6",
            "ticks": ""
           }
          },
          "title": {
           "x": 0.05
          },
          "xaxis": {
           "automargin": true,
           "gridcolor": "#EBF0F8",
           "linecolor": "#EBF0F8",
           "ticks": "",
           "title": {
            "standoff": 15
           },
           "zerolinecolor": "#EBF0F8",
           "zerolinewidth": 2
          },
          "yaxis": {
           "automargin": true,
           "gridcolor": "#EBF0F8",
           "linecolor": "#EBF0F8",
           "ticks": "",
           "title": {
            "standoff": 15
           },
           "zerolinecolor": "#EBF0F8",
           "zerolinewidth": 2
          }
         }
        },
        "title": {
         "text": "Gender Distribution (2021)",
         "x": 0.5
        },
        "xaxis": {
         "anchor": "y",
         "domain": [
          0,
          1
         ],
         "title": {
          "text": "Gender"
         }
        },
        "yaxis": {
         "anchor": "x",
         "domain": [
          0,
          1
         ],
         "title": {
          "text": "Count"
         }
        }
       }
      }
     },
     "metadata": {},
     "output_type": "display_data"
    },
    {
     "data": {
      "application/vnd.jupyter.widget-view+json": {
       "model_id": "b8c6b984539f44bbb98c4c6ae4255b23",
       "version_major": 2,
       "version_minor": 0
      },
      "text/plain": [
       "Button(button_style='success', description='Export', icon='download', style=ButtonStyle())"
      ]
     },
     "metadata": {},
     "output_type": "display_data"
    },
    {
     "data": {
      "application/vnd.jupyter.widget-view+json": {
       "model_id": "675607fee6d848fd8bd93ef00b4b1feb",
       "version_major": 2,
       "version_minor": 0
      },
      "text/plain": [
       "HTML(value='')"
      ]
     },
     "metadata": {},
     "output_type": "display_data"
    }
   ],
   "source": [
    "#dropdowns for interactivity\n",
    "years = ['Select the Year'] + sorted(all_df['year'].unique().tolist()) + ['All Years']\n",
    "category_options = ['Select the Category', 'Age', 'Gender', 'Suburb']\n",
    "\n",
    "#dropdown for year selection\n",
    "year_dropdown = widgets.Dropdown(\n",
    "    options=years,\n",
    "    value='Select the Year',\n",
    "    description='Year:',\n",
    ")\n",
    "\n",
    "#dropdown for category selection\n",
    "category_dropdown = widgets.Dropdown(\n",
    "    options=category_options,\n",
    "    value='Select the Category',\n",
    "    description='Category:',\n",
    ")\n",
    "\n",
    "#defining a function to update the plot based on selections\n",
    "def update_plot(change=None):\n",
    "    clear_output(wait=True)\n",
    "    display(year_dropdown, category_dropdown)\n",
    "    \n",
    "    #getting selected values\n",
    "    selected_year = year_dropdown.value\n",
    "    selected_category = category_dropdown.value\n",
    "    \n",
    "    #checking for valid selections\n",
    "    if selected_year == 'Select the Year' or selected_category == 'Select the Category':\n",
    "        display(HTML(\"<b>Please select both a year and a category to view the distribution.</b>\"))\n",
    "        return\n",
    "    \n",
    "    #filtering data based on year selection\n",
    "    filtered_df = all_df if selected_year == 'All Years' else all_df[all_df['year'] == selected_year]\n",
    "    \n",
    "    #plotting based on selected category\n",
    "    if selected_category == 'Age':\n",
    "        age_counts = filtered_df['Age'].value_counts().reset_index()\n",
    "        age_counts.columns = ['Age', 'Count']\n",
    "        fig = px.bar(age_counts, x='Age', y='Count', title=f\"Age Distribution ({selected_year})\")\n",
    "    elif selected_category == 'Gender':\n",
    "        gender_counts = filtered_df['Gender'].value_counts().reset_index()\n",
    "        gender_counts.columns = ['Gender', 'Count']\n",
    "        fig = px.bar(gender_counts, x='Gender', y='Count', title=f\"Gender Distribution ({selected_year})\")\n",
    "    elif selected_category == 'Suburb':\n",
    "        suburb_counts = filtered_df['Suburb'].value_counts().reset_index()\n",
    "        suburb_counts.columns = ['Suburb', 'Count']\n",
    "        fig = px.bar(suburb_counts, x='Suburb', y='Count', title=f\"Suburb Distribution ({selected_year})\")\n",
    "    \n",
    "    #plot layout\n",
    "    fig.update_layout(\n",
    "        template=\"plotly_white\",\n",
    "        xaxis_title=selected_category,\n",
    "        yaxis_title=\"Count\",\n",
    "        title_x=0.5  # Center the title\n",
    "    )\n",
    "    fig.show()\n",
    "\n",
    "    #export\n",
    "    add_export_button(fig, file_name_prefix=f\"{selected_category}_distribution_{selected_year}\")\n",
    "\n",
    "#linking dropdowns to update function\n",
    "year_dropdown.observe(update_plot, names='value')\n",
    "category_dropdown.observe(update_plot, names='value')\n",
    "\n",
    "#showing the dropdowns with the initial message\n",
    "display(year_dropdown, category_dropdown)\n",
    "display(HTML(\"<b>Please select both a year and a category to view the corresponding distribution.</b>\"))"
   ]
  },
  {
   "cell_type": "markdown",
   "metadata": {},
   "source": [
    "## Visualizing Food Insecurity Across Demographics"
   ]
  },
  {
   "cell_type": "code",
   "execution_count": 20,
   "metadata": {},
   "outputs": [
    {
     "data": {
      "application/vnd.plotly.v1+json": {
       "config": {
        "plotlyServerURL": "https://plot.ly"
       },
       "data": [
        {
         "alignmentgroup": "True",
         "hovertemplate": "food_insecurity=Accessed food relief services<br>Category=Age<br>Category Subgroup=%{x}<br>Number of Responses=%{y}<extra></extra>",
         "legendgroup": "Accessed food relief services",
         "marker": {
          "color": "#636efa",
          "pattern": {
           "shape": ""
          }
         },
         "name": "Accessed food relief services",
         "offsetgroup": "Accessed food relief services",
         "orientation": "v",
         "showlegend": true,
         "textposition": "auto",
         "type": "bar",
         "x": [
          "18-24 Years",
          "25-34 Years",
          "35-44 Years",
          "45-54 Years",
          "55-64 Years",
          "65+ Years"
         ],
         "xaxis": "x3",
         "y": [
          2,
          2,
          2,
          2,
          2,
          2
         ],
         "yaxis": "y3"
        },
        {
         "alignmentgroup": "True",
         "hovertemplate": "food_insecurity=Accessed food relief services<br>Category=Gender<br>Category Subgroup=%{x}<br>Number of Responses=%{y}<extra></extra>",
         "legendgroup": "Accessed food relief services",
         "marker": {
          "color": "#636efa",
          "pattern": {
           "shape": ""
          }
         },
         "name": "Accessed food relief services",
         "offsetgroup": "Accessed food relief services",
         "orientation": "v",
         "showlegend": false,
         "textposition": "auto",
         "type": "bar",
         "x": [
          "Female",
          "Male"
         ],
         "xaxis": "x2",
         "y": [
          2,
          2
         ],
         "yaxis": "y2"
        },
        {
         "alignmentgroup": "True",
         "hovertemplate": "food_insecurity=Accessed food relief services<br>Category=Suburb<br>Category Subgroup=%{x}<br>Number of Responses=%{y}<extra></extra>",
         "legendgroup": "Accessed food relief services",
         "marker": {
          "color": "#636efa",
          "pattern": {
           "shape": ""
          }
         },
         "name": "Accessed food relief services",
         "offsetgroup": "Accessed food relief services",
         "orientation": "v",
         "showlegend": false,
         "textposition": "auto",
         "type": "bar",
         "x": [
          "Carlton 3053",
          "City Of Melbourne",
          "Docklands 3008",
          "East Melbourne 3002",
          "Kensington / Flemington 3031",
          "Melbourne 3000",
          "North Melbourne 3051 / West Melbourne 3003",
          "Parkville 3052",
          "South Wharf / Southbank 3006",
          "South Yarra 3141 / Melbourne/St Kilda Road 3004"
         ],
         "xaxis": "x",
         "y": [
          2,
          2,
          2,
          2,
          2,
          2,
          2,
          2,
          2,
          2
         ],
         "yaxis": "y"
        },
        {
         "alignmentgroup": "True",
         "hovertemplate": "food_insecurity=Insecurity (multiple concerns + relief)<br>Category=Age<br>Category Subgroup=%{x}<br>Number of Responses=%{y}<extra></extra>",
         "legendgroup": "Insecurity (multiple concerns + relief)",
         "marker": {
          "color": "#EF553B",
          "pattern": {
           "shape": ""
          }
         },
         "name": "Insecurity (multiple concerns + relief)",
         "offsetgroup": "Insecurity (multiple concerns + relief)",
         "orientation": "v",
         "showlegend": true,
         "textposition": "auto",
         "type": "bar",
         "x": [
          "18-24 Years",
          "25-34 Years",
          "35-44 Years",
          "45-54 Years",
          "55-64 Years",
          "65+ Years"
         ],
         "xaxis": "x3",
         "y": [
          2,
          2,
          2,
          2,
          2,
          2
         ],
         "yaxis": "y3"
        },
        {
         "alignmentgroup": "True",
         "hovertemplate": "food_insecurity=Insecurity (multiple concerns + relief)<br>Category=Gender<br>Category Subgroup=%{x}<br>Number of Responses=%{y}<extra></extra>",
         "legendgroup": "Insecurity (multiple concerns + relief)",
         "marker": {
          "color": "#EF553B",
          "pattern": {
           "shape": ""
          }
         },
         "name": "Insecurity (multiple concerns + relief)",
         "offsetgroup": "Insecurity (multiple concerns + relief)",
         "orientation": "v",
         "showlegend": false,
         "textposition": "auto",
         "type": "bar",
         "x": [
          "Female",
          "Male"
         ],
         "xaxis": "x2",
         "y": [
          2,
          2
         ],
         "yaxis": "y2"
        },
        {
         "alignmentgroup": "True",
         "hovertemplate": "food_insecurity=Insecurity (multiple concerns + relief)<br>Category=Suburb<br>Category Subgroup=%{x}<br>Number of Responses=%{y}<extra></extra>",
         "legendgroup": "Insecurity (multiple concerns + relief)",
         "marker": {
          "color": "#EF553B",
          "pattern": {
           "shape": ""
          }
         },
         "name": "Insecurity (multiple concerns + relief)",
         "offsetgroup": "Insecurity (multiple concerns + relief)",
         "orientation": "v",
         "showlegend": false,
         "textposition": "auto",
         "type": "bar",
         "x": [
          "Carlton 3053",
          "City Of Melbourne",
          "Docklands 3008",
          "East Melbourne 3002",
          "Kensington / Flemington 3031",
          "Melbourne 3000",
          "North Melbourne 3051 / West Melbourne 3003",
          "Parkville 3052",
          "South Wharf / Southbank 3006",
          "South Yarra 3141 / Melbourne/St Kilda Road 3004"
         ],
         "xaxis": "x",
         "y": [
          2,
          2,
          2,
          2,
          2,
          2,
          2,
          2,
          2,
          2
         ],
         "yaxis": "y"
        },
        {
         "alignmentgroup": "True",
         "hovertemplate": "food_insecurity=Insecurity (multiple concerns)<br>Category=Age<br>Category Subgroup=%{x}<br>Number of Responses=%{y}<extra></extra>",
         "legendgroup": "Insecurity (multiple concerns)",
         "marker": {
          "color": "#00cc96",
          "pattern": {
           "shape": ""
          }
         },
         "name": "Insecurity (multiple concerns)",
         "offsetgroup": "Insecurity (multiple concerns)",
         "orientation": "v",
         "showlegend": true,
         "textposition": "auto",
         "type": "bar",
         "x": [
          "18-24 Years",
          "25-34 Years",
          "35-44 Years",
          "45-54 Years",
          "55-64 Years",
          "65+ Years"
         ],
         "xaxis": "x3",
         "y": [
          4,
          4,
          4,
          4,
          4,
          4
         ],
         "yaxis": "y3"
        },
        {
         "alignmentgroup": "True",
         "hovertemplate": "food_insecurity=Insecurity (multiple concerns)<br>Category=Gender<br>Category Subgroup=%{x}<br>Number of Responses=%{y}<extra></extra>",
         "legendgroup": "Insecurity (multiple concerns)",
         "marker": {
          "color": "#00cc96",
          "pattern": {
           "shape": ""
          }
         },
         "name": "Insecurity (multiple concerns)",
         "offsetgroup": "Insecurity (multiple concerns)",
         "orientation": "v",
         "showlegend": false,
         "textposition": "auto",
         "type": "bar",
         "x": [
          "Female",
          "Male"
         ],
         "xaxis": "x2",
         "y": [
          4,
          4
         ],
         "yaxis": "y2"
        },
        {
         "alignmentgroup": "True",
         "hovertemplate": "food_insecurity=Insecurity (multiple concerns)<br>Category=Suburb<br>Category Subgroup=%{x}<br>Number of Responses=%{y}<extra></extra>",
         "legendgroup": "Insecurity (multiple concerns)",
         "marker": {
          "color": "#00cc96",
          "pattern": {
           "shape": ""
          }
         },
         "name": "Insecurity (multiple concerns)",
         "offsetgroup": "Insecurity (multiple concerns)",
         "orientation": "v",
         "showlegend": false,
         "textposition": "auto",
         "type": "bar",
         "x": [
          "Carlton 3053",
          "City Of Melbourne",
          "Docklands 3008",
          "East Melbourne 3002",
          "Kensington / Flemington 3031",
          "Melbourne 3000",
          "North Melbourne 3051 / West Melbourne 3003",
          "Parkville 3052",
          "South Wharf / Southbank 3006",
          "South Yarra 3141 / Melbourne/St Kilda Road 3004"
         ],
         "xaxis": "x",
         "y": [
          4,
          4,
          4,
          4,
          4,
          4,
          4,
          4,
          4,
          4
         ],
         "yaxis": "y"
        },
        {
         "alignmentgroup": "True",
         "hovertemplate": "food_insecurity=Ran out of food<br>Category=Age<br>Category Subgroup=%{x}<br>Number of Responses=%{y}<extra></extra>",
         "legendgroup": "Ran out of food",
         "marker": {
          "color": "#ab63fa",
          "pattern": {
           "shape": ""
          }
         },
         "name": "Ran out of food",
         "offsetgroup": "Ran out of food",
         "orientation": "v",
         "showlegend": true,
         "textposition": "auto",
         "type": "bar",
         "x": [
          "18-24 Years",
          "25-34 Years",
          "35-44 Years",
          "45-54 Years",
          "55-64 Years",
          "65+ Years"
         ],
         "xaxis": "x3",
         "y": [
          6,
          6,
          6,
          6,
          6,
          6
         ],
         "yaxis": "y3"
        },
        {
         "alignmentgroup": "True",
         "hovertemplate": "food_insecurity=Ran out of food<br>Category=Gender<br>Category Subgroup=%{x}<br>Number of Responses=%{y}<extra></extra>",
         "legendgroup": "Ran out of food",
         "marker": {
          "color": "#ab63fa",
          "pattern": {
           "shape": ""
          }
         },
         "name": "Ran out of food",
         "offsetgroup": "Ran out of food",
         "orientation": "v",
         "showlegend": false,
         "textposition": "auto",
         "type": "bar",
         "x": [
          "Female",
          "Male"
         ],
         "xaxis": "x2",
         "y": [
          6,
          6
         ],
         "yaxis": "y2"
        },
        {
         "alignmentgroup": "True",
         "hovertemplate": "food_insecurity=Ran out of food<br>Category=Suburb<br>Category Subgroup=%{x}<br>Number of Responses=%{y}<extra></extra>",
         "legendgroup": "Ran out of food",
         "marker": {
          "color": "#ab63fa",
          "pattern": {
           "shape": ""
          }
         },
         "name": "Ran out of food",
         "offsetgroup": "Ran out of food",
         "orientation": "v",
         "showlegend": false,
         "textposition": "auto",
         "type": "bar",
         "x": [
          "Carlton 3053",
          "City Of Melbourne",
          "Docklands 3008",
          "East Melbourne 3002",
          "Kensington / Flemington 3031",
          "Melbourne 3000",
          "North Melbourne 3051 / West Melbourne 3003",
          "Parkville 3052",
          "South Wharf / Southbank 3006",
          "South Yarra 3141 / Melbourne/St Kilda Road 3004"
         ],
         "xaxis": "x",
         "y": [
          6,
          6,
          6,
          6,
          6,
          6,
          6,
          6,
          6,
          6
         ],
         "yaxis": "y"
        },
        {
         "alignmentgroup": "True",
         "hovertemplate": "food_insecurity=Skipped meals<br>Category=Age<br>Category Subgroup=%{x}<br>Number of Responses=%{y}<extra></extra>",
         "legendgroup": "Skipped meals",
         "marker": {
          "color": "#FFA15A",
          "pattern": {
           "shape": ""
          }
         },
         "name": "Skipped meals",
         "offsetgroup": "Skipped meals",
         "orientation": "v",
         "showlegend": true,
         "textposition": "auto",
         "type": "bar",
         "x": [
          "18-24 Years",
          "25-34 Years",
          "35-44 Years",
          "45-54 Years",
          "55-64 Years",
          "65+ Years"
         ],
         "xaxis": "x3",
         "y": [
          6,
          6,
          6,
          6,
          6,
          6
         ],
         "yaxis": "y3"
        },
        {
         "alignmentgroup": "True",
         "hovertemplate": "food_insecurity=Skipped meals<br>Category=Gender<br>Category Subgroup=%{x}<br>Number of Responses=%{y}<extra></extra>",
         "legendgroup": "Skipped meals",
         "marker": {
          "color": "#FFA15A",
          "pattern": {
           "shape": ""
          }
         },
         "name": "Skipped meals",
         "offsetgroup": "Skipped meals",
         "orientation": "v",
         "showlegend": false,
         "textposition": "auto",
         "type": "bar",
         "x": [
          "Female",
          "Male"
         ],
         "xaxis": "x2",
         "y": [
          6,
          6
         ],
         "yaxis": "y2"
        },
        {
         "alignmentgroup": "True",
         "hovertemplate": "food_insecurity=Skipped meals<br>Category=Suburb<br>Category Subgroup=%{x}<br>Number of Responses=%{y}<extra></extra>",
         "legendgroup": "Skipped meals",
         "marker": {
          "color": "#FFA15A",
          "pattern": {
           "shape": ""
          }
         },
         "name": "Skipped meals",
         "offsetgroup": "Skipped meals",
         "orientation": "v",
         "showlegend": false,
         "textposition": "auto",
         "type": "bar",
         "x": [
          "Carlton 3053",
          "City Of Melbourne",
          "Docklands 3008",
          "East Melbourne 3002",
          "Kensington / Flemington 3031",
          "Melbourne 3000",
          "North Melbourne 3051 / West Melbourne 3003",
          "Parkville 3052",
          "South Wharf / Southbank 3006",
          "South Yarra 3141 / Melbourne/St Kilda Road 3004"
         ],
         "xaxis": "x",
         "y": [
          6,
          6,
          6,
          6,
          6,
          6,
          6,
          6,
          6,
          6
         ],
         "yaxis": "y"
        },
        {
         "alignmentgroup": "True",
         "hovertemplate": "food_insecurity=Worried food would run out<br>Category=Age<br>Category Subgroup=%{x}<br>Number of Responses=%{y}<extra></extra>",
         "legendgroup": "Worried food would run out",
         "marker": {
          "color": "#19d3f3",
          "pattern": {
           "shape": ""
          }
         },
         "name": "Worried food would run out",
         "offsetgroup": "Worried food would run out",
         "orientation": "v",
         "showlegend": true,
         "textposition": "auto",
         "type": "bar",
         "x": [
          "18-24 Years",
          "25-34 Years",
          "35-44 Years",
          "45-54 Years",
          "55-64 Years",
          "65+ Years"
         ],
         "xaxis": "x3",
         "y": [
          6,
          6,
          6,
          6,
          6,
          6
         ],
         "yaxis": "y3"
        },
        {
         "alignmentgroup": "True",
         "hovertemplate": "food_insecurity=Worried food would run out<br>Category=Gender<br>Category Subgroup=%{x}<br>Number of Responses=%{y}<extra></extra>",
         "legendgroup": "Worried food would run out",
         "marker": {
          "color": "#19d3f3",
          "pattern": {
           "shape": ""
          }
         },
         "name": "Worried food would run out",
         "offsetgroup": "Worried food would run out",
         "orientation": "v",
         "showlegend": false,
         "textposition": "auto",
         "type": "bar",
         "x": [
          "Female",
          "Male"
         ],
         "xaxis": "x2",
         "y": [
          6,
          6
         ],
         "yaxis": "y2"
        },
        {
         "alignmentgroup": "True",
         "hovertemplate": "food_insecurity=Worried food would run out<br>Category=Suburb<br>Category Subgroup=%{x}<br>Number of Responses=%{y}<extra></extra>",
         "legendgroup": "Worried food would run out",
         "marker": {
          "color": "#19d3f3",
          "pattern": {
           "shape": ""
          }
         },
         "name": "Worried food would run out",
         "offsetgroup": "Worried food would run out",
         "orientation": "v",
         "showlegend": false,
         "textposition": "auto",
         "type": "bar",
         "x": [
          "Carlton 3053",
          "City Of Melbourne",
          "Docklands 3008",
          "East Melbourne 3002",
          "Kensington / Flemington 3031",
          "Melbourne 3000",
          "North Melbourne 3051 / West Melbourne 3003",
          "Parkville 3052",
          "South Wharf / Southbank 3006",
          "South Yarra 3141 / Melbourne/St Kilda Road 3004"
         ],
         "xaxis": "x",
         "y": [
          6,
          6,
          6,
          6,
          6,
          6,
          6,
          6,
          6,
          6
         ],
         "yaxis": "y"
        }
       ],
       "layout": {
        "annotations": [
         {
          "font": {},
          "showarrow": false,
          "text": "Suburb",
          "textangle": 90,
          "x": 0.98,
          "xanchor": "left",
          "xref": "paper",
          "y": 0.15666666666666665,
          "yanchor": "middle",
          "yref": "paper"
         },
         {
          "font": {},
          "showarrow": false,
          "text": "Gender",
          "textangle": 90,
          "x": 0.98,
          "xanchor": "left",
          "xref": "paper",
          "y": 0.4999999999999999,
          "yanchor": "middle",
          "yref": "paper"
         },
         {
          "font": {},
          "showarrow": false,
          "text": "Age",
          "textangle": 90,
          "x": 0.98,
          "xanchor": "left",
          "xref": "paper",
          "y": 0.8433333333333332,
          "yanchor": "middle",
          "yref": "paper"
         }
        ],
        "barmode": "relative",
        "height": 1000,
        "legend": {
         "title": {
          "text": "Food Insecurity Type"
         },
         "tracegroupgap": 0
        },
        "template": {
         "data": {
          "bar": [
           {
            "error_x": {
             "color": "#2a3f5f"
            },
            "error_y": {
             "color": "#2a3f5f"
            },
            "marker": {
             "line": {
              "color": "white",
              "width": 0.5
             },
             "pattern": {
              "fillmode": "overlay",
              "size": 10,
              "solidity": 0.2
             }
            },
            "type": "bar"
           }
          ],
          "barpolar": [
           {
            "marker": {
             "line": {
              "color": "white",
              "width": 0.5
             },
             "pattern": {
              "fillmode": "overlay",
              "size": 10,
              "solidity": 0.2
             }
            },
            "type": "barpolar"
           }
          ],
          "carpet": [
           {
            "aaxis": {
             "endlinecolor": "#2a3f5f",
             "gridcolor": "#C8D4E3",
             "linecolor": "#C8D4E3",
             "minorgridcolor": "#C8D4E3",
             "startlinecolor": "#2a3f5f"
            },
            "baxis": {
             "endlinecolor": "#2a3f5f",
             "gridcolor": "#C8D4E3",
             "linecolor": "#C8D4E3",
             "minorgridcolor": "#C8D4E3",
             "startlinecolor": "#2a3f5f"
            },
            "type": "carpet"
           }
          ],
          "choropleth": [
           {
            "colorbar": {
             "outlinewidth": 0,
             "ticks": ""
            },
            "type": "choropleth"
           }
          ],
          "contour": [
           {
            "colorbar": {
             "outlinewidth": 0,
             "ticks": ""
            },
            "colorscale": [
             [
              0,
              "#0d0887"
             ],
             [
              0.1111111111111111,
              "#46039f"
             ],
             [
              0.2222222222222222,
              "#7201a8"
             ],
             [
              0.3333333333333333,
              "#9c179e"
             ],
             [
              0.4444444444444444,
              "#bd3786"
             ],
             [
              0.5555555555555556,
              "#d8576b"
             ],
             [
              0.6666666666666666,
              "#ed7953"
             ],
             [
              0.7777777777777778,
              "#fb9f3a"
             ],
             [
              0.8888888888888888,
              "#fdca26"
             ],
             [
              1,
              "#f0f921"
             ]
            ],
            "type": "contour"
           }
          ],
          "contourcarpet": [
           {
            "colorbar": {
             "outlinewidth": 0,
             "ticks": ""
            },
            "type": "contourcarpet"
           }
          ],
          "heatmap": [
           {
            "colorbar": {
             "outlinewidth": 0,
             "ticks": ""
            },
            "colorscale": [
             [
              0,
              "#0d0887"
             ],
             [
              0.1111111111111111,
              "#46039f"
             ],
             [
              0.2222222222222222,
              "#7201a8"
             ],
             [
              0.3333333333333333,
              "#9c179e"
             ],
             [
              0.4444444444444444,
              "#bd3786"
             ],
             [
              0.5555555555555556,
              "#d8576b"
             ],
             [
              0.6666666666666666,
              "#ed7953"
             ],
             [
              0.7777777777777778,
              "#fb9f3a"
             ],
             [
              0.8888888888888888,
              "#fdca26"
             ],
             [
              1,
              "#f0f921"
             ]
            ],
            "type": "heatmap"
           }
          ],
          "heatmapgl": [
           {
            "colorbar": {
             "outlinewidth": 0,
             "ticks": ""
            },
            "colorscale": [
             [
              0,
              "#0d0887"
             ],
             [
              0.1111111111111111,
              "#46039f"
             ],
             [
              0.2222222222222222,
              "#7201a8"
             ],
             [
              0.3333333333333333,
              "#9c179e"
             ],
             [
              0.4444444444444444,
              "#bd3786"
             ],
             [
              0.5555555555555556,
              "#d8576b"
             ],
             [
              0.6666666666666666,
              "#ed7953"
             ],
             [
              0.7777777777777778,
              "#fb9f3a"
             ],
             [
              0.8888888888888888,
              "#fdca26"
             ],
             [
              1,
              "#f0f921"
             ]
            ],
            "type": "heatmapgl"
           }
          ],
          "histogram": [
           {
            "marker": {
             "pattern": {
              "fillmode": "overlay",
              "size": 10,
              "solidity": 0.2
             }
            },
            "type": "histogram"
           }
          ],
          "histogram2d": [
           {
            "colorbar": {
             "outlinewidth": 0,
             "ticks": ""
            },
            "colorscale": [
             [
              0,
              "#0d0887"
             ],
             [
              0.1111111111111111,
              "#46039f"
             ],
             [
              0.2222222222222222,
              "#7201a8"
             ],
             [
              0.3333333333333333,
              "#9c179e"
             ],
             [
              0.4444444444444444,
              "#bd3786"
             ],
             [
              0.5555555555555556,
              "#d8576b"
             ],
             [
              0.6666666666666666,
              "#ed7953"
             ],
             [
              0.7777777777777778,
              "#fb9f3a"
             ],
             [
              0.8888888888888888,
              "#fdca26"
             ],
             [
              1,
              "#f0f921"
             ]
            ],
            "type": "histogram2d"
           }
          ],
          "histogram2dcontour": [
           {
            "colorbar": {
             "outlinewidth": 0,
             "ticks": ""
            },
            "colorscale": [
             [
              0,
              "#0d0887"
             ],
             [
              0.1111111111111111,
              "#46039f"
             ],
             [
              0.2222222222222222,
              "#7201a8"
             ],
             [
              0.3333333333333333,
              "#9c179e"
             ],
             [
              0.4444444444444444,
              "#bd3786"
             ],
             [
              0.5555555555555556,
              "#d8576b"
             ],
             [
              0.6666666666666666,
              "#ed7953"
             ],
             [
              0.7777777777777778,
              "#fb9f3a"
             ],
             [
              0.8888888888888888,
              "#fdca26"
             ],
             [
              1,
              "#f0f921"
             ]
            ],
            "type": "histogram2dcontour"
           }
          ],
          "mesh3d": [
           {
            "colorbar": {
             "outlinewidth": 0,
             "ticks": ""
            },
            "type": "mesh3d"
           }
          ],
          "parcoords": [
           {
            "line": {
             "colorbar": {
              "outlinewidth": 0,
              "ticks": ""
             }
            },
            "type": "parcoords"
           }
          ],
          "pie": [
           {
            "automargin": true,
            "type": "pie"
           }
          ],
          "scatter": [
           {
            "fillpattern": {
             "fillmode": "overlay",
             "size": 10,
             "solidity": 0.2
            },
            "type": "scatter"
           }
          ],
          "scatter3d": [
           {
            "line": {
             "colorbar": {
              "outlinewidth": 0,
              "ticks": ""
             }
            },
            "marker": {
             "colorbar": {
              "outlinewidth": 0,
              "ticks": ""
             }
            },
            "type": "scatter3d"
           }
          ],
          "scattercarpet": [
           {
            "marker": {
             "colorbar": {
              "outlinewidth": 0,
              "ticks": ""
             }
            },
            "type": "scattercarpet"
           }
          ],
          "scattergeo": [
           {
            "marker": {
             "colorbar": {
              "outlinewidth": 0,
              "ticks": ""
             }
            },
            "type": "scattergeo"
           }
          ],
          "scattergl": [
           {
            "marker": {
             "colorbar": {
              "outlinewidth": 0,
              "ticks": ""
             }
            },
            "type": "scattergl"
           }
          ],
          "scattermapbox": [
           {
            "marker": {
             "colorbar": {
              "outlinewidth": 0,
              "ticks": ""
             }
            },
            "type": "scattermapbox"
           }
          ],
          "scatterpolar": [
           {
            "marker": {
             "colorbar": {
              "outlinewidth": 0,
              "ticks": ""
             }
            },
            "type": "scatterpolar"
           }
          ],
          "scatterpolargl": [
           {
            "marker": {
             "colorbar": {
              "outlinewidth": 0,
              "ticks": ""
             }
            },
            "type": "scatterpolargl"
           }
          ],
          "scatterternary": [
           {
            "marker": {
             "colorbar": {
              "outlinewidth": 0,
              "ticks": ""
             }
            },
            "type": "scatterternary"
           }
          ],
          "surface": [
           {
            "colorbar": {
             "outlinewidth": 0,
             "ticks": ""
            },
            "colorscale": [
             [
              0,
              "#0d0887"
             ],
             [
              0.1111111111111111,
              "#46039f"
             ],
             [
              0.2222222222222222,
              "#7201a8"
             ],
             [
              0.3333333333333333,
              "#9c179e"
             ],
             [
              0.4444444444444444,
              "#bd3786"
             ],
             [
              0.5555555555555556,
              "#d8576b"
             ],
             [
              0.6666666666666666,
              "#ed7953"
             ],
             [
              0.7777777777777778,
              "#fb9f3a"
             ],
             [
              0.8888888888888888,
              "#fdca26"
             ],
             [
              1,
              "#f0f921"
             ]
            ],
            "type": "surface"
           }
          ],
          "table": [
           {
            "cells": {
             "fill": {
              "color": "#EBF0F8"
             },
             "line": {
              "color": "white"
             }
            },
            "header": {
             "fill": {
              "color": "#C8D4E3"
             },
             "line": {
              "color": "white"
             }
            },
            "type": "table"
           }
          ]
         },
         "layout": {
          "annotationdefaults": {
           "arrowcolor": "#2a3f5f",
           "arrowhead": 0,
           "arrowwidth": 1
          },
          "autotypenumbers": "strict",
          "coloraxis": {
           "colorbar": {
            "outlinewidth": 0,
            "ticks": ""
           }
          },
          "colorscale": {
           "diverging": [
            [
             0,
             "#8e0152"
            ],
            [
             0.1,
             "#c51b7d"
            ],
            [
             0.2,
             "#de77ae"
            ],
            [
             0.3,
             "#f1b6da"
            ],
            [
             0.4,
             "#fde0ef"
            ],
            [
             0.5,
             "#f7f7f7"
            ],
            [
             0.6,
             "#e6f5d0"
            ],
            [
             0.7,
             "#b8e186"
            ],
            [
             0.8,
             "#7fbc41"
            ],
            [
             0.9,
             "#4d9221"
            ],
            [
             1,
             "#276419"
            ]
           ],
           "sequential": [
            [
             0,
             "#0d0887"
            ],
            [
             0.1111111111111111,
             "#46039f"
            ],
            [
             0.2222222222222222,
             "#7201a8"
            ],
            [
             0.3333333333333333,
             "#9c179e"
            ],
            [
             0.4444444444444444,
             "#bd3786"
            ],
            [
             0.5555555555555556,
             "#d8576b"
            ],
            [
             0.6666666666666666,
             "#ed7953"
            ],
            [
             0.7777777777777778,
             "#fb9f3a"
            ],
            [
             0.8888888888888888,
             "#fdca26"
            ],
            [
             1,
             "#f0f921"
            ]
           ],
           "sequentialminus": [
            [
             0,
             "#0d0887"
            ],
            [
             0.1111111111111111,
             "#46039f"
            ],
            [
             0.2222222222222222,
             "#7201a8"
            ],
            [
             0.3333333333333333,
             "#9c179e"
            ],
            [
             0.4444444444444444,
             "#bd3786"
            ],
            [
             0.5555555555555556,
             "#d8576b"
            ],
            [
             0.6666666666666666,
             "#ed7953"
            ],
            [
             0.7777777777777778,
             "#fb9f3a"
            ],
            [
             0.8888888888888888,
             "#fdca26"
            ],
            [
             1,
             "#f0f921"
            ]
           ]
          },
          "colorway": [
           "#636efa",
           "#EF553B",
           "#00cc96",
           "#ab63fa",
           "#FFA15A",
           "#19d3f3",
           "#FF6692",
           "#B6E880",
           "#FF97FF",
           "#FECB52"
          ],
          "font": {
           "color": "#2a3f5f"
          },
          "geo": {
           "bgcolor": "white",
           "lakecolor": "white",
           "landcolor": "white",
           "showlakes": true,
           "showland": true,
           "subunitcolor": "#C8D4E3"
          },
          "hoverlabel": {
           "align": "left"
          },
          "hovermode": "closest",
          "mapbox": {
           "style": "light"
          },
          "paper_bgcolor": "white",
          "plot_bgcolor": "white",
          "polar": {
           "angularaxis": {
            "gridcolor": "#EBF0F8",
            "linecolor": "#EBF0F8",
            "ticks": ""
           },
           "bgcolor": "white",
           "radialaxis": {
            "gridcolor": "#EBF0F8",
            "linecolor": "#EBF0F8",
            "ticks": ""
           }
          },
          "scene": {
           "xaxis": {
            "backgroundcolor": "white",
            "gridcolor": "#DFE8F3",
            "gridwidth": 2,
            "linecolor": "#EBF0F8",
            "showbackground": true,
            "ticks": "",
            "zerolinecolor": "#EBF0F8"
           },
           "yaxis": {
            "backgroundcolor": "white",
            "gridcolor": "#DFE8F3",
            "gridwidth": 2,
            "linecolor": "#EBF0F8",
            "showbackground": true,
            "ticks": "",
            "zerolinecolor": "#EBF0F8"
           },
           "zaxis": {
            "backgroundcolor": "white",
            "gridcolor": "#DFE8F3",
            "gridwidth": 2,
            "linecolor": "#EBF0F8",
            "showbackground": true,
            "ticks": "",
            "zerolinecolor": "#EBF0F8"
           }
          },
          "shapedefaults": {
           "line": {
            "color": "#2a3f5f"
           }
          },
          "ternary": {
           "aaxis": {
            "gridcolor": "#DFE8F3",
            "linecolor": "#A2B1C6",
            "ticks": ""
           },
           "baxis": {
            "gridcolor": "#DFE8F3",
            "linecolor": "#A2B1C6",
            "ticks": ""
           },
           "bgcolor": "white",
           "caxis": {
            "gridcolor": "#DFE8F3",
            "linecolor": "#A2B1C6",
            "ticks": ""
           }
          },
          "title": {
           "x": 0.05
          },
          "xaxis": {
           "automargin": true,
           "gridcolor": "#EBF0F8",
           "linecolor": "#EBF0F8",
           "ticks": "",
           "title": {
            "standoff": 15
           },
           "zerolinecolor": "#EBF0F8",
           "zerolinewidth": 2
          },
          "yaxis": {
           "automargin": true,
           "gridcolor": "#EBF0F8",
           "linecolor": "#EBF0F8",
           "ticks": "",
           "title": {
            "standoff": 15
           },
           "zerolinecolor": "#EBF0F8",
           "zerolinewidth": 2
          }
         }
        },
        "title": {
         "text": "Distribution of Food Insecurity Across Demographics:"
        },
        "xaxis": {
         "anchor": "y",
         "domain": [
          0,
          0.98
         ],
         "title": {
          "text": "Category Subgroup"
         }
        },
        "xaxis2": {
         "anchor": "y2",
         "domain": [
          0,
          0.98
         ],
         "matches": "x",
         "showticklabels": false
        },
        "xaxis3": {
         "anchor": "y3",
         "domain": [
          0,
          0.98
         ],
         "matches": "x",
         "showticklabels": false
        },
        "yaxis": {
         "anchor": "x",
         "domain": [
          0,
          0.3133333333333333
         ],
         "title": {
          "text": "Number of Responses"
         }
        },
        "yaxis2": {
         "anchor": "x2",
         "domain": [
          0.34333333333333327,
          0.6566666666666665
         ],
         "matches": "y",
         "title": {
          "text": "Number of Responses"
         }
        },
        "yaxis3": {
         "anchor": "x3",
         "domain": [
          0.6866666666666665,
          0.9999999999999998
         ],
         "matches": "y",
         "title": {
          "text": "Number of Responses"
         }
        }
       }
      }
     },
     "metadata": {},
     "output_type": "display_data"
    },
    {
     "data": {
      "application/vnd.jupyter.widget-view+json": {
       "model_id": "73b862f3ca454b21937dc0fd2a33a9d8",
       "version_major": 2,
       "version_minor": 0
      },
      "text/plain": [
       "Button(button_style='success', description='Export', icon='download', style=ButtonStyle())"
      ]
     },
     "metadata": {},
     "output_type": "display_data"
    },
    {
     "data": {
      "application/vnd.jupyter.widget-view+json": {
       "model_id": "0abaa0b569b3471785ed9c0468c9b7a6",
       "version_major": 2,
       "version_minor": 0
      },
      "text/plain": [
       "HTML(value='')"
      ]
     },
     "metadata": {},
     "output_type": "display_data"
    }
   ],
   "source": [
    "#preparing the melted data for plotting\n",
    "melted_df = pd.melt(\n",
    "    all_df,\n",
    "    id_vars=['food_insecurity'],  #column using\n",
    "    value_vars=['Age', 'Gender', 'Suburb'],  #categories\n",
    "    var_name='Category',\n",
    "    value_name='Category Value'\n",
    ").dropna(subset=['Category Value'])  #combining melting and NaN dropping\n",
    "\n",
    "#group by food insecurity type, category, and demographic value\n",
    "description_counts = melted_df.groupby(\n",
    "    ['food_insecurity', 'Category', 'Category Value']\n",
    ").size().reset_index(name='Count')\n",
    "\n",
    "#creating the bar plot with facets based on Category\n",
    "fig = px.bar(\n",
    "    description_counts,\n",
    "    x='Category Value',\n",
    "    y='Count',\n",
    "    color='food_insecurity',\n",
    "    facet_row='Category',\n",
    "    title=\"Distribution of Food Insecurity Across Demographics:\",\n",
    "    labels={'Count': 'Number of Responses', 'Category Value': 'Category Subgroup'},\n",
    "    category_orders={\"Category\": [\"Age\", \"Gender\", \"Suburb\"]}\n",
    ")\n",
    "\n",
    "#layout for better visualization\n",
    "fig.update_layout(\n",
    "    height=1000,\n",
    "    template=\"plotly_white\",\n",
    "    yaxis_title=\"Number of Responses\",\n",
    "    xaxis_title=\"Category Subgroup\",\n",
    "    legend_title=\"Food Insecurity Type\",\n",
    ")\n",
    "\n",
    "#axis title to each facet row for better visualization and understand\n",
    "fig.for_each_annotation(lambda a: a.update(text=a.text.split(\"=\")[-1]))\n",
    "\n",
    "fig.show()\n",
    "\n",
    "#export\n",
    "add_export_button(fig, file_name_prefix=\"food_insecurity_across_demographics\")"
   ]
  },
  {
   "cell_type": "code",
   "execution_count": 21,
   "metadata": {},
   "outputs": [],
   "source": [
    "# print(\"Melted DataFrame:\")\n",
    "# print(melted_df.head())\n",
    "# melted_df.to_csv(\"melt.csv\", index=False)"
   ]
  },
  {
   "cell_type": "code",
   "execution_count": 22,
   "metadata": {},
   "outputs": [
    {
     "data": {
      "text/html": [
       "<div>\n",
       "<style scoped>\n",
       "    .dataframe tbody tr th:only-of-type {\n",
       "        vertical-align: middle;\n",
       "    }\n",
       "\n",
       "    .dataframe tbody tr th {\n",
       "        vertical-align: top;\n",
       "    }\n",
       "\n",
       "    .dataframe thead th {\n",
       "        text-align: right;\n",
       "    }\n",
       "</style>\n",
       "<table border=\"1\" class=\"dataframe\">\n",
       "  <thead>\n",
       "    <tr style=\"text-align: right;\">\n",
       "      <th></th>\n",
       "      <th>description</th>\n",
       "      <th>respondent_group</th>\n",
       "      <th>year</th>\n",
       "      <th>sample_size</th>\n",
       "      <th>result</th>\n",
       "      <th>food_insecurity</th>\n",
       "      <th>Age</th>\n",
       "      <th>Suburb</th>\n",
       "      <th>Gender</th>\n",
       "    </tr>\n",
       "  </thead>\n",
       "  <tbody>\n",
       "    <tr>\n",
       "      <th>0</th>\n",
       "      <td>Experienced food insecurity (worried food woul...</td>\n",
       "      <td>55-64 years</td>\n",
       "      <td>2023</td>\n",
       "      <td>115</td>\n",
       "      <td>13.2</td>\n",
       "      <td>Insecurity (multiple concerns + relief)</td>\n",
       "      <td>55-64 Years</td>\n",
       "      <td>None</td>\n",
       "      <td>None</td>\n",
       "    </tr>\n",
       "    <tr>\n",
       "      <th>1</th>\n",
       "      <td>Experienced food insecurity (worried food woul...</td>\n",
       "      <td>65+ years</td>\n",
       "      <td>2023</td>\n",
       "      <td>203</td>\n",
       "      <td>5.0</td>\n",
       "      <td>Insecurity (multiple concerns + relief)</td>\n",
       "      <td>65+ Years</td>\n",
       "      <td>None</td>\n",
       "      <td>None</td>\n",
       "    </tr>\n",
       "    <tr>\n",
       "      <th>2</th>\n",
       "      <td>Experienced food insecurity (worried food woul...</td>\n",
       "      <td>Docklands 3008</td>\n",
       "      <td>2023</td>\n",
       "      <td>113</td>\n",
       "      <td>25.7</td>\n",
       "      <td>Insecurity (multiple concerns + relief)</td>\n",
       "      <td>None</td>\n",
       "      <td>Docklands 3008</td>\n",
       "      <td>None</td>\n",
       "    </tr>\n",
       "    <tr>\n",
       "      <th>3</th>\n",
       "      <td>Worried food would run out</td>\n",
       "      <td>35-44 years</td>\n",
       "      <td>2023</td>\n",
       "      <td>228</td>\n",
       "      <td>19.3</td>\n",
       "      <td>Worried food would run out</td>\n",
       "      <td>35-44 Years</td>\n",
       "      <td>None</td>\n",
       "      <td>None</td>\n",
       "    </tr>\n",
       "    <tr>\n",
       "      <th>4</th>\n",
       "      <td>Worried food would run out</td>\n",
       "      <td>55-64 years</td>\n",
       "      <td>2023</td>\n",
       "      <td>115</td>\n",
       "      <td>6.7</td>\n",
       "      <td>Worried food would run out</td>\n",
       "      <td>55-64 Years</td>\n",
       "      <td>None</td>\n",
       "      <td>None</td>\n",
       "    </tr>\n",
       "    <tr>\n",
       "      <th>5</th>\n",
       "      <td>Worried food would run out</td>\n",
       "      <td>Female</td>\n",
       "      <td>2023</td>\n",
       "      <td>758</td>\n",
       "      <td>24.6</td>\n",
       "      <td>Worried food would run out</td>\n",
       "      <td>None</td>\n",
       "      <td>None</td>\n",
       "      <td>Female</td>\n",
       "    </tr>\n",
       "    <tr>\n",
       "      <th>6</th>\n",
       "      <td>Worried food would run out</td>\n",
       "      <td>Male</td>\n",
       "      <td>2023</td>\n",
       "      <td>572</td>\n",
       "      <td>19.4</td>\n",
       "      <td>Worried food would run out</td>\n",
       "      <td>None</td>\n",
       "      <td>None</td>\n",
       "      <td>Male</td>\n",
       "    </tr>\n",
       "    <tr>\n",
       "      <th>7</th>\n",
       "      <td>Worried food would run out</td>\n",
       "      <td>Docklands 3008</td>\n",
       "      <td>2023</td>\n",
       "      <td>113</td>\n",
       "      <td>14.5</td>\n",
       "      <td>Worried food would run out</td>\n",
       "      <td>None</td>\n",
       "      <td>Docklands 3008</td>\n",
       "      <td>None</td>\n",
       "    </tr>\n",
       "    <tr>\n",
       "      <th>8</th>\n",
       "      <td>Worried food would run out</td>\n",
       "      <td>South Wharf / Southbank 3006</td>\n",
       "      <td>2023</td>\n",
       "      <td>147</td>\n",
       "      <td>16.0</td>\n",
       "      <td>Worried food would run out</td>\n",
       "      <td>None</td>\n",
       "      <td>South Wharf / Southbank 3006</td>\n",
       "      <td>None</td>\n",
       "    </tr>\n",
       "    <tr>\n",
       "      <th>9</th>\n",
       "      <td>Skipped meals</td>\n",
       "      <td>35-44 years</td>\n",
       "      <td>2023</td>\n",
       "      <td>228</td>\n",
       "      <td>16.3</td>\n",
       "      <td>Skipped meals</td>\n",
       "      <td>35-44 Years</td>\n",
       "      <td>None</td>\n",
       "      <td>None</td>\n",
       "    </tr>\n",
       "  </tbody>\n",
       "</table>\n",
       "</div>"
      ],
      "text/plain": [
       "                                         description  \\\n",
       "0  Experienced food insecurity (worried food woul...   \n",
       "1  Experienced food insecurity (worried food woul...   \n",
       "2  Experienced food insecurity (worried food woul...   \n",
       "3                         Worried food would run out   \n",
       "4                         Worried food would run out   \n",
       "5                         Worried food would run out   \n",
       "6                         Worried food would run out   \n",
       "7                         Worried food would run out   \n",
       "8                         Worried food would run out   \n",
       "9                                      Skipped meals   \n",
       "\n",
       "               respondent_group  year  sample_size  result  \\\n",
       "0                   55-64 years  2023          115    13.2   \n",
       "1                     65+ years  2023          203     5.0   \n",
       "2                Docklands 3008  2023          113    25.7   \n",
       "3                   35-44 years  2023          228    19.3   \n",
       "4                   55-64 years  2023          115     6.7   \n",
       "5                        Female  2023          758    24.6   \n",
       "6                          Male  2023          572    19.4   \n",
       "7                Docklands 3008  2023          113    14.5   \n",
       "8  South Wharf / Southbank 3006  2023          147    16.0   \n",
       "9                   35-44 years  2023          228    16.3   \n",
       "\n",
       "                           food_insecurity          Age  \\\n",
       "0  Insecurity (multiple concerns + relief)  55-64 Years   \n",
       "1  Insecurity (multiple concerns + relief)    65+ Years   \n",
       "2  Insecurity (multiple concerns + relief)         None   \n",
       "3               Worried food would run out  35-44 Years   \n",
       "4               Worried food would run out  55-64 Years   \n",
       "5               Worried food would run out         None   \n",
       "6               Worried food would run out         None   \n",
       "7               Worried food would run out         None   \n",
       "8               Worried food would run out         None   \n",
       "9                            Skipped meals  35-44 Years   \n",
       "\n",
       "                         Suburb  Gender  \n",
       "0                          None    None  \n",
       "1                          None    None  \n",
       "2                Docklands 3008    None  \n",
       "3                          None    None  \n",
       "4                          None    None  \n",
       "5                          None  Female  \n",
       "6                          None    Male  \n",
       "7                Docklands 3008    None  \n",
       "8  South Wharf / Southbank 3006    None  \n",
       "9                          None    None  "
      ]
     },
     "execution_count": 22,
     "metadata": {},
     "output_type": "execute_result"
    }
   ],
   "source": [
    "all_df.head(10)"
   ]
  },
  {
   "cell_type": "markdown",
   "metadata": {},
   "source": [
    "## Food Security Trend Analysis and prediction by Demographics"
   ]
  },
  {
   "cell_type": "code",
   "execution_count": null,
   "metadata": {},
   "outputs": [
    {
     "data": {
      "application/vnd.jupyter.widget-view+json": {
       "model_id": "5ea55312e6924125ac103238608b2e50",
       "version_major": 2,
       "version_minor": 0
      },
      "text/plain": [
       "Dropdown(description='Category:', index=1, options=('Select the Category', 'Age', 'Gender', 'Suburb'), value='…"
      ]
     },
     "metadata": {},
     "output_type": "display_data"
    },
    {
     "data": {
      "application/vnd.jupyter.widget-view+json": {
       "model_id": "b72a754debf04975aa231d6fcd8c9a97",
       "version_major": 2,
       "version_minor": 0
      },
      "text/plain": [
       "Dropdown(description='Value:', index=4, options=('Select Value', '55-64 Years', '65+ Years', '35-44 Years', '4…"
      ]
     },
     "metadata": {},
     "output_type": "display_data"
    },
    {
     "data": {
      "application/vnd.plotly.v1+json": {
       "config": {
        "plotlyServerURL": "https://plot.ly"
       },
       "data": [
        {
         "line": {
          "color": "blue"
         },
         "mode": "lines+markers",
         "name": "Historical Data",
         "type": "scatter",
         "x": [
          2018,
          2019,
          2020,
          2021,
          2022,
          2023
         ],
         "y": [
          10.075,
          16.075,
          12.825,
          12.7,
          12.16,
          11.319999999999999
         ]
        },
        {
         "marker": {
          "color": "red",
          "size": 10
         },
         "mode": "markers+text",
         "name": "Predictions",
         "text": [
          "11.96%",
          "11.80%"
         ],
         "textposition": "top center",
         "type": "scatter",
         "x": [
          2024,
          2025
         ],
         "y": [
          11.9613333333333,
          11.800047619047632
         ]
        }
       ],
       "layout": {
        "height": 600,
        "legend": {
         "orientation": "h",
         "x": 0.5,
         "xanchor": "center",
         "y": -0.2
        },
        "template": {
         "data": {
          "bar": [
           {
            "error_x": {
             "color": "#2a3f5f"
            },
            "error_y": {
             "color": "#2a3f5f"
            },
            "marker": {
             "line": {
              "color": "white",
              "width": 0.5
             },
             "pattern": {
              "fillmode": "overlay",
              "size": 10,
              "solidity": 0.2
             }
            },
            "type": "bar"
           }
          ],
          "barpolar": [
           {
            "marker": {
             "line": {
              "color": "white",
              "width": 0.5
             },
             "pattern": {
              "fillmode": "overlay",
              "size": 10,
              "solidity": 0.2
             }
            },
            "type": "barpolar"
           }
          ],
          "carpet": [
           {
            "aaxis": {
             "endlinecolor": "#2a3f5f",
             "gridcolor": "#C8D4E3",
             "linecolor": "#C8D4E3",
             "minorgridcolor": "#C8D4E3",
             "startlinecolor": "#2a3f5f"
            },
            "baxis": {
             "endlinecolor": "#2a3f5f",
             "gridcolor": "#C8D4E3",
             "linecolor": "#C8D4E3",
             "minorgridcolor": "#C8D4E3",
             "startlinecolor": "#2a3f5f"
            },
            "type": "carpet"
           }
          ],
          "choropleth": [
           {
            "colorbar": {
             "outlinewidth": 0,
             "ticks": ""
            },
            "type": "choropleth"
           }
          ],
          "contour": [
           {
            "colorbar": {
             "outlinewidth": 0,
             "ticks": ""
            },
            "colorscale": [
             [
              0,
              "#0d0887"
             ],
             [
              0.1111111111111111,
              "#46039f"
             ],
             [
              0.2222222222222222,
              "#7201a8"
             ],
             [
              0.3333333333333333,
              "#9c179e"
             ],
             [
              0.4444444444444444,
              "#bd3786"
             ],
             [
              0.5555555555555556,
              "#d8576b"
             ],
             [
              0.6666666666666666,
              "#ed7953"
             ],
             [
              0.7777777777777778,
              "#fb9f3a"
             ],
             [
              0.8888888888888888,
              "#fdca26"
             ],
             [
              1,
              "#f0f921"
             ]
            ],
            "type": "contour"
           }
          ],
          "contourcarpet": [
           {
            "colorbar": {
             "outlinewidth": 0,
             "ticks": ""
            },
            "type": "contourcarpet"
           }
          ],
          "heatmap": [
           {
            "colorbar": {
             "outlinewidth": 0,
             "ticks": ""
            },
            "colorscale": [
             [
              0,
              "#0d0887"
             ],
             [
              0.1111111111111111,
              "#46039f"
             ],
             [
              0.2222222222222222,
              "#7201a8"
             ],
             [
              0.3333333333333333,
              "#9c179e"
             ],
             [
              0.4444444444444444,
              "#bd3786"
             ],
             [
              0.5555555555555556,
              "#d8576b"
             ],
             [
              0.6666666666666666,
              "#ed7953"
             ],
             [
              0.7777777777777778,
              "#fb9f3a"
             ],
             [
              0.8888888888888888,
              "#fdca26"
             ],
             [
              1,
              "#f0f921"
             ]
            ],
            "type": "heatmap"
           }
          ],
          "heatmapgl": [
           {
            "colorbar": {
             "outlinewidth": 0,
             "ticks": ""
            },
            "colorscale": [
             [
              0,
              "#0d0887"
             ],
             [
              0.1111111111111111,
              "#46039f"
             ],
             [
              0.2222222222222222,
              "#7201a8"
             ],
             [
              0.3333333333333333,
              "#9c179e"
             ],
             [
              0.4444444444444444,
              "#bd3786"
             ],
             [
              0.5555555555555556,
              "#d8576b"
             ],
             [
              0.6666666666666666,
              "#ed7953"
             ],
             [
              0.7777777777777778,
              "#fb9f3a"
             ],
             [
              0.8888888888888888,
              "#fdca26"
             ],
             [
              1,
              "#f0f921"
             ]
            ],
            "type": "heatmapgl"
           }
          ],
          "histogram": [
           {
            "marker": {
             "pattern": {
              "fillmode": "overlay",
              "size": 10,
              "solidity": 0.2
             }
            },
            "type": "histogram"
           }
          ],
          "histogram2d": [
           {
            "colorbar": {
             "outlinewidth": 0,
             "ticks": ""
            },
            "colorscale": [
             [
              0,
              "#0d0887"
             ],
             [
              0.1111111111111111,
              "#46039f"
             ],
             [
              0.2222222222222222,
              "#7201a8"
             ],
             [
              0.3333333333333333,
              "#9c179e"
             ],
             [
              0.4444444444444444,
              "#bd3786"
             ],
             [
              0.5555555555555556,
              "#d8576b"
             ],
             [
              0.6666666666666666,
              "#ed7953"
             ],
             [
              0.7777777777777778,
              "#fb9f3a"
             ],
             [
              0.8888888888888888,
              "#fdca26"
             ],
             [
              1,
              "#f0f921"
             ]
            ],
            "type": "histogram2d"
           }
          ],
          "histogram2dcontour": [
           {
            "colorbar": {
             "outlinewidth": 0,
             "ticks": ""
            },
            "colorscale": [
             [
              0,
              "#0d0887"
             ],
             [
              0.1111111111111111,
              "#46039f"
             ],
             [
              0.2222222222222222,
              "#7201a8"
             ],
             [
              0.3333333333333333,
              "#9c179e"
             ],
             [
              0.4444444444444444,
              "#bd3786"
             ],
             [
              0.5555555555555556,
              "#d8576b"
             ],
             [
              0.6666666666666666,
              "#ed7953"
             ],
             [
              0.7777777777777778,
              "#fb9f3a"
             ],
             [
              0.8888888888888888,
              "#fdca26"
             ],
             [
              1,
              "#f0f921"
             ]
            ],
            "type": "histogram2dcontour"
           }
          ],
          "mesh3d": [
           {
            "colorbar": {
             "outlinewidth": 0,
             "ticks": ""
            },
            "type": "mesh3d"
           }
          ],
          "parcoords": [
           {
            "line": {
             "colorbar": {
              "outlinewidth": 0,
              "ticks": ""
             }
            },
            "type": "parcoords"
           }
          ],
          "pie": [
           {
            "automargin": true,
            "type": "pie"
           }
          ],
          "scatter": [
           {
            "fillpattern": {
             "fillmode": "overlay",
             "size": 10,
             "solidity": 0.2
            },
            "type": "scatter"
           }
          ],
          "scatter3d": [
           {
            "line": {
             "colorbar": {
              "outlinewidth": 0,
              "ticks": ""
             }
            },
            "marker": {
             "colorbar": {
              "outlinewidth": 0,
              "ticks": ""
             }
            },
            "type": "scatter3d"
           }
          ],
          "scattercarpet": [
           {
            "marker": {
             "colorbar": {
              "outlinewidth": 0,
              "ticks": ""
             }
            },
            "type": "scattercarpet"
           }
          ],
          "scattergeo": [
           {
            "marker": {
             "colorbar": {
              "outlinewidth": 0,
              "ticks": ""
             }
            },
            "type": "scattergeo"
           }
          ],
          "scattergl": [
           {
            "marker": {
             "colorbar": {
              "outlinewidth": 0,
              "ticks": ""
             }
            },
            "type": "scattergl"
           }
          ],
          "scattermapbox": [
           {
            "marker": {
             "colorbar": {
              "outlinewidth": 0,
              "ticks": ""
             }
            },
            "type": "scattermapbox"
           }
          ],
          "scatterpolar": [
           {
            "marker": {
             "colorbar": {
              "outlinewidth": 0,
              "ticks": ""
             }
            },
            "type": "scatterpolar"
           }
          ],
          "scatterpolargl": [
           {
            "marker": {
             "colorbar": {
              "outlinewidth": 0,
              "ticks": ""
             }
            },
            "type": "scatterpolargl"
           }
          ],
          "scatterternary": [
           {
            "marker": {
             "colorbar": {
              "outlinewidth": 0,
              "ticks": ""
             }
            },
            "type": "scatterternary"
           }
          ],
          "surface": [
           {
            "colorbar": {
             "outlinewidth": 0,
             "ticks": ""
            },
            "colorscale": [
             [
              0,
              "#0d0887"
             ],
             [
              0.1111111111111111,
              "#46039f"
             ],
             [
              0.2222222222222222,
              "#7201a8"
             ],
             [
              0.3333333333333333,
              "#9c179e"
             ],
             [
              0.4444444444444444,
              "#bd3786"
             ],
             [
              0.5555555555555556,
              "#d8576b"
             ],
             [
              0.6666666666666666,
              "#ed7953"
             ],
             [
              0.7777777777777778,
              "#fb9f3a"
             ],
             [
              0.8888888888888888,
              "#fdca26"
             ],
             [
              1,
              "#f0f921"
             ]
            ],
            "type": "surface"
           }
          ],
          "table": [
           {
            "cells": {
             "fill": {
              "color": "#EBF0F8"
             },
             "line": {
              "color": "white"
             }
            },
            "header": {
             "fill": {
              "color": "#C8D4E3"
             },
             "line": {
              "color": "white"
             }
            },
            "type": "table"
           }
          ]
         },
         "layout": {
          "annotationdefaults": {
           "arrowcolor": "#2a3f5f",
           "arrowhead": 0,
           "arrowwidth": 1
          },
          "autotypenumbers": "strict",
          "coloraxis": {
           "colorbar": {
            "outlinewidth": 0,
            "ticks": ""
           }
          },
          "colorscale": {
           "diverging": [
            [
             0,
             "#8e0152"
            ],
            [
             0.1,
             "#c51b7d"
            ],
            [
             0.2,
             "#de77ae"
            ],
            [
             0.3,
             "#f1b6da"
            ],
            [
             0.4,
             "#fde0ef"
            ],
            [
             0.5,
             "#f7f7f7"
            ],
            [
             0.6,
             "#e6f5d0"
            ],
            [
             0.7,
             "#b8e186"
            ],
            [
             0.8,
             "#7fbc41"
            ],
            [
             0.9,
             "#4d9221"
            ],
            [
             1,
             "#276419"
            ]
           ],
           "sequential": [
            [
             0,
             "#0d0887"
            ],
            [
             0.1111111111111111,
             "#46039f"
            ],
            [
             0.2222222222222222,
             "#7201a8"
            ],
            [
             0.3333333333333333,
             "#9c179e"
            ],
            [
             0.4444444444444444,
             "#bd3786"
            ],
            [
             0.5555555555555556,
             "#d8576b"
            ],
            [
             0.6666666666666666,
             "#ed7953"
            ],
            [
             0.7777777777777778,
             "#fb9f3a"
            ],
            [
             0.8888888888888888,
             "#fdca26"
            ],
            [
             1,
             "#f0f921"
            ]
           ],
           "sequentialminus": [
            [
             0,
             "#0d0887"
            ],
            [
             0.1111111111111111,
             "#46039f"
            ],
            [
             0.2222222222222222,
             "#7201a8"
            ],
            [
             0.3333333333333333,
             "#9c179e"
            ],
            [
             0.4444444444444444,
             "#bd3786"
            ],
            [
             0.5555555555555556,
             "#d8576b"
            ],
            [
             0.6666666666666666,
             "#ed7953"
            ],
            [
             0.7777777777777778,
             "#fb9f3a"
            ],
            [
             0.8888888888888888,
             "#fdca26"
            ],
            [
             1,
             "#f0f921"
            ]
           ]
          },
          "colorway": [
           "#636efa",
           "#EF553B",
           "#00cc96",
           "#ab63fa",
           "#FFA15A",
           "#19d3f3",
           "#FF6692",
           "#B6E880",
           "#FF97FF",
           "#FECB52"
          ],
          "font": {
           "color": "#2a3f5f"
          },
          "geo": {
           "bgcolor": "white",
           "lakecolor": "white",
           "landcolor": "white",
           "showlakes": true,
           "showland": true,
           "subunitcolor": "#C8D4E3"
          },
          "hoverlabel": {
           "align": "left"
          },
          "hovermode": "closest",
          "mapbox": {
           "style": "light"
          },
          "paper_bgcolor": "white",
          "plot_bgcolor": "white",
          "polar": {
           "angularaxis": {
            "gridcolor": "#EBF0F8",
            "linecolor": "#EBF0F8",
            "ticks": ""
           },
           "bgcolor": "white",
           "radialaxis": {
            "gridcolor": "#EBF0F8",
            "linecolor": "#EBF0F8",
            "ticks": ""
           }
          },
          "scene": {
           "xaxis": {
            "backgroundcolor": "white",
            "gridcolor": "#DFE8F3",
            "gridwidth": 2,
            "linecolor": "#EBF0F8",
            "showbackground": true,
            "ticks": "",
            "zerolinecolor": "#EBF0F8"
           },
           "yaxis": {
            "backgroundcolor": "white",
            "gridcolor": "#DFE8F3",
            "gridwidth": 2,
            "linecolor": "#EBF0F8",
            "showbackground": true,
            "ticks": "",
            "zerolinecolor": "#EBF0F8"
           },
           "zaxis": {
            "backgroundcolor": "white",
            "gridcolor": "#DFE8F3",
            "gridwidth": 2,
            "linecolor": "#EBF0F8",
            "showbackground": true,
            "ticks": "",
            "zerolinecolor": "#EBF0F8"
           }
          },
          "shapedefaults": {
           "line": {
            "color": "#2a3f5f"
           }
          },
          "ternary": {
           "aaxis": {
            "gridcolor": "#DFE8F3",
            "linecolor": "#A2B1C6",
            "ticks": ""
           },
           "baxis": {
            "gridcolor": "#DFE8F3",
            "linecolor": "#A2B1C6",
            "ticks": ""
           },
           "bgcolor": "white",
           "caxis": {
            "gridcolor": "#DFE8F3",
            "linecolor": "#A2B1C6",
            "ticks": ""
           }
          },
          "title": {
           "x": 0.05
          },
          "xaxis": {
           "automargin": true,
           "gridcolor": "#EBF0F8",
           "linecolor": "#EBF0F8",
           "ticks": "",
           "title": {
            "standoff": 15
           },
           "zerolinecolor": "#EBF0F8",
           "zerolinewidth": 2
          },
          "yaxis": {
           "automargin": true,
           "gridcolor": "#EBF0F8",
           "linecolor": "#EBF0F8",
           "ticks": "",
           "title": {
            "standoff": 15
           },
           "zerolinecolor": "#EBF0F8",
           "zerolinewidth": 2
          }
         }
        },
        "title": {
         "text": "Food Security Trend for 45-54 Years (Age)"
        },
        "xaxis": {
         "title": {
          "text": "Year"
         }
        },
        "yaxis": {
         "title": {
          "text": "Percentage"
         }
        }
       }
      }
     },
     "metadata": {},
     "output_type": "display_data"
    },
    {
     "data": {
      "application/vnd.jupyter.widget-view+json": {
       "model_id": "e4d09baddbfa41a7990b34cd96701a19",
       "version_major": 2,
       "version_minor": 0
      },
      "text/plain": [
       "Button(button_style='success', description='Export', icon='download', style=ButtonStyle())"
      ]
     },
     "metadata": {},
     "output_type": "display_data"
    },
    {
     "data": {
      "application/vnd.jupyter.widget-view+json": {
       "model_id": "3c098bb788244d41aea5e77d0dcad11d",
       "version_major": 2,
       "version_minor": 0
      },
      "text/plain": [
       "HTML(value='')"
      ]
     },
     "metadata": {},
     "output_type": "display_data"
    }
   ],
   "source": [
    "#year -> numeric\n",
    "all_df['year'] = pd.to_numeric(all_df['year'], errors='coerce')\n",
    "\n",
    "#dropdown for demographic categories\n",
    "category_options = ['Age', 'Gender', 'Suburb']\n",
    "category_dropdown = widgets.Dropdown(\n",
    "    options=['Select Category'] + category_options,\n",
    "    value='Select Category',\n",
    "    description='Category:'\n",
    ")\n",
    "\n",
    "#dropdown for specific values\n",
    "value_dropdown = widgets.Dropdown(\n",
    "    options=['Select Value'],\n",
    "    value='Select Value',\n",
    "    description='Value:'\n",
    ")\n",
    "\n",
    "#method to update the value dropdown\n",
    "def update_value_dropdown(change=None):\n",
    "    selected_category = category_dropdown.value\n",
    "    if selected_category == 'Select Category':\n",
    "        value_dropdown.options = ['Select Value']\n",
    "    else:\n",
    "        value_dropdown.options = ['Select Value'] + all_df[selected_category].dropna().unique().tolist()\n",
    "\n",
    "#method to update the plot\n",
    "def update_plot(change=None):\n",
    "    clear_output(wait=True)\n",
    "    display(category_dropdown, value_dropdown)\n",
    "    \n",
    "    selected_category = category_dropdown.value\n",
    "    selected_value = value_dropdown.value\n",
    "    \n",
    "    if selected_category == 'Select Category' or selected_value == 'Select Value':\n",
    "        display(HTML(\"<b>Please select both a category and a value to proceed.</b>\"))\n",
    "        return\n",
    "    \n",
    "    #filtering data\n",
    "    filtered_df = all_df[all_df[selected_category] == selected_value]\n",
    "    \n",
    "    if filtered_df.empty:\n",
    "        display(HTML(\"<b>No data available for the selected combination.</b>\"))\n",
    "        return\n",
    "    \n",
    "    #aggregating data\n",
    "    aggregated_df = filtered_df.groupby('year', as_index=False).agg({'result': 'mean'})\n",
    "    \n",
    "    #data for the model\n",
    "    X = aggregated_df[['year']].values\n",
    "    y = aggregated_df['result'].values\n",
    "    \n",
    "    #train Linear Regression\n",
    "    model = LinearRegression()\n",
    "    model.fit(X, y)\n",
    "    \n",
    "    #prediction for future years\n",
    "    future_years = np.array([[2024], [2025]])\n",
    "    future_predictions = model.predict(future_years)\n",
    "    \n",
    "    #plotly figure\n",
    "    fig = go.Figure()\n",
    "    \n",
    "    #historical data trace\n",
    "    fig.add_trace(go.Scatter(\n",
    "        x=aggregated_df['year'],\n",
    "        y=aggregated_df['result'],\n",
    "        mode='lines+markers',\n",
    "        name='Historical Data',\n",
    "        line=dict(color='blue')\n",
    "    ))\n",
    "    \n",
    "    #predictions trace\n",
    "    fig.add_trace(go.Scatter(\n",
    "        x=future_years.flatten(),\n",
    "        y=future_predictions,\n",
    "        mode='markers+text',\n",
    "        name='Predictions',\n",
    "        marker=dict(color='red', size=10),\n",
    "        text=[f\"{pred:.2f}%\" for pred in future_predictions],\n",
    "        textposition=\"top center\"\n",
    "    ))\n",
    "    \n",
    "    #layout\n",
    "    fig.update_layout(\n",
    "        title=f\"Food Security Trend for {selected_value} ({selected_category})\",\n",
    "        xaxis_title=\"Year\",\n",
    "        yaxis_title=\"Percentage\",\n",
    "        template=\"plotly_white\",\n",
    "        legend=dict(x=0.5, y=-0.2, xanchor='center', orientation='h'),\n",
    "        height=600\n",
    "    )\n",
    "    \n",
    "    fig.show()\n",
    "    \n",
    "    #export\n",
    "    add_export_button(fig, file_name_prefix=f\"Food_Security_Trend_{selected_category}_{selected_value}\")\n",
    "\n",
    "#linking dropdowns to functions\n",
    "category_dropdown.observe(update_value_dropdown, names='value')\n",
    "value_dropdown.observe(update_plot, names='value')\n",
    "\n",
    "#display\n",
    "display(category_dropdown, value_dropdown)\n",
    "display(HTML(\"<b>Please select both a category and a value to proceed.</b>\"))"
   ]
  },
  {
   "cell_type": "markdown",
   "metadata": {},
   "source": [
    "## Combined Trend Analysis by Demographic Category"
   ]
  },
  {
   "cell_type": "code",
   "execution_count": 30,
   "metadata": {},
   "outputs": [
    {
     "data": {
      "application/vnd.jupyter.widget-view+json": {
       "model_id": "7bd532aff6094fecb48caa8562f81ef4",
       "version_major": 2,
       "version_minor": 0
      },
      "text/plain": [
       "Dropdown(description='Category:', index=3, options=('Select Category', 'Age', 'Gender', 'Suburb'), value='Subu…"
      ]
     },
     "metadata": {},
     "output_type": "display_data"
    },
    {
     "data": {
      "application/vnd.plotly.v1+json": {
       "config": {
        "plotlyServerURL": "https://plot.ly"
       },
       "data": [
        {
         "hovertemplate": "<b>%{fullData.name}</b><br>Percentage: %{y:.2f}%<extra></extra>",
         "legendgroup": "Historical",
         "line": {
          "color": "#636EFA",
          "dash": "solid"
         },
         "marker": {
          "size": 8
         },
         "mode": "lines+markers",
         "name": "Docklands 3008 (Historical)",
         "type": "scatter",
         "x": [
          2018,
          2019,
          2020,
          2021,
          2022,
          2023
         ],
         "y": [
          15.95,
          10.925,
          18.525000000000002,
          25.1,
          15.62,
          14.3
         ]
        },
        {
         "hovertemplate": "<b>%{fullData.name}</b><br>Predicted: %{y:.2f}%<extra></extra>",
         "legendgroup": "Predicted",
         "line": {
          "color": "rgb(102, 197, 204)",
          "dash": "dot"
         },
         "marker": {
          "size": 8
         },
         "mode": "lines+markers",
         "name": "Docklands 3008 (Predicted)",
         "type": "scatter",
         "x": [
          2024,
          2025
         ],
         "y": [
          17.98,
          18.33
         ]
        },
        {
         "hovertemplate": "<b>%{fullData.name}</b><br>Percentage: %{y:.2f}%<extra></extra>",
         "legendgroup": "Historical",
         "line": {
          "color": "#EF553B",
          "dash": "solid"
         },
         "marker": {
          "size": 8
         },
         "mode": "lines+markers",
         "name": "South Wharf / Southbank 3006 (Historical)",
         "type": "scatter",
         "x": [
          2018,
          2019,
          2020,
          2021,
          2022,
          2023
         ],
         "y": [
          16.725,
          13.4,
          21.675,
          18.875,
          14.88,
          12.6
         ]
        },
        {
         "hovertemplate": "<b>%{fullData.name}</b><br>Predicted: %{y:.2f}%<extra></extra>",
         "legendgroup": "Predicted",
         "line": {
          "color": "rgb(246, 207, 113)",
          "dash": "dot"
         },
         "marker": {
          "size": 8
         },
         "mode": "lines+markers",
         "name": "South Wharf / Southbank 3006 (Predicted)",
         "type": "scatter",
         "x": [
          2024,
          2025
         ],
         "y": [
          14.46,
          13.92
         ]
        },
        {
         "hovertemplate": "<b>%{fullData.name}</b><br>Percentage: %{y:.2f}%<extra></extra>",
         "legendgroup": "Historical",
         "line": {
          "color": "#00CC96",
          "dash": "solid"
         },
         "marker": {
          "size": 8
         },
         "mode": "lines+markers",
         "name": "Carlton 3053 (Historical)",
         "type": "scatter",
         "x": [
          2018,
          2019,
          2020,
          2021,
          2022,
          2023
         ],
         "y": [
          23.775000000000002,
          23,
          30.925,
          36.35,
          24.32,
          26.72
         ]
        },
        {
         "hovertemplate": "<b>%{fullData.name}</b><br>Predicted: %{y:.2f}%<extra></extra>",
         "legendgroup": "Predicted",
         "line": {
          "color": "rgb(248, 156, 116)",
          "dash": "dot"
         },
         "marker": {
          "size": 8
         },
         "mode": "lines+markers",
         "name": "Carlton 3053 (Predicted)",
         "type": "scatter",
         "x": [
          2024,
          2025
         ],
         "y": [
          29.93,
          30.61
         ]
        },
        {
         "hovertemplate": "<b>%{fullData.name}</b><br>Percentage: %{y:.2f}%<extra></extra>",
         "legendgroup": "Historical",
         "line": {
          "color": "#AB63FA",
          "dash": "solid"
         },
         "marker": {
          "size": 8
         },
         "mode": "lines+markers",
         "name": "City Of Melbourne (Historical)",
         "type": "scatter",
         "x": [
          2018,
          2019,
          2020,
          2021,
          2022,
          2023
         ],
         "y": [
          18.925,
          18.8,
          23.825,
          25.375,
          18.52,
          18.740000000000002
         ]
        },
        {
         "hovertemplate": "<b>%{fullData.name}</b><br>Predicted: %{y:.2f}%<extra></extra>",
         "legendgroup": "Predicted",
         "line": {
          "color": "rgb(220, 176, 242)",
          "dash": "dot"
         },
         "marker": {
          "size": 8
         },
         "mode": "lines+markers",
         "name": "City Of Melbourne (Predicted)",
         "type": "scatter",
         "x": [
          2024,
          2025
         ],
         "y": [
          20.68,
          20.67
         ]
        },
        {
         "hovertemplate": "<b>%{fullData.name}</b><br>Percentage: %{y:.2f}%<extra></extra>",
         "legendgroup": "Historical",
         "line": {
          "color": "#FFA15A",
          "dash": "solid"
         },
         "marker": {
          "size": 8
         },
         "mode": "lines+markers",
         "name": "North Melbourne 3051 / West Melbourne 3003 (Historical)",
         "type": "scatter",
         "x": [
          2018,
          2019,
          2020,
          2021,
          2022,
          2023
         ],
         "y": [
          20.225,
          18.125,
          19,
          25.05,
          21.92,
          20.419999999999998
         ]
        },
        {
         "hovertemplate": "<b>%{fullData.name}</b><br>Predicted: %{y:.2f}%<extra></extra>",
         "legendgroup": "Predicted",
         "line": {
          "color": "rgb(135, 197, 95)",
          "dash": "dot"
         },
         "marker": {
          "size": 8
         },
         "mode": "lines+markers",
         "name": "North Melbourne 3051 / West Melbourne 3003 (Predicted)",
         "type": "scatter",
         "x": [
          2024,
          2025
         ],
         "y": [
          22.63,
          23.16
         ]
        },
        {
         "hovertemplate": "<b>%{fullData.name}</b><br>Percentage: %{y:.2f}%<extra></extra>",
         "legendgroup": "Historical",
         "line": {
          "color": "#19D3F3",
          "dash": "solid"
         },
         "marker": {
          "size": 8
         },
         "mode": "lines+markers",
         "name": "East Melbourne 3002 (Historical)",
         "type": "scatter",
         "x": [
          2018,
          2019,
          2020,
          2021,
          2022,
          2023
         ],
         "y": [
          25.15,
          15.075,
          13.7,
          18.525,
          6.08,
          11.5
         ]
        },
        {
         "hovertemplate": "<b>%{fullData.name}</b><br>Predicted: %{y:.2f}%<extra></extra>",
         "legendgroup": "Predicted",
         "line": {
          "color": "rgb(158, 185, 243)",
          "dash": "dot"
         },
         "marker": {
          "size": 8
         },
         "mode": "lines+markers",
         "name": "East Melbourne 3002 (Predicted)",
         "type": "scatter",
         "x": [
          2024,
          2025
         ],
         "y": [
          5.96,
          3.38
         ]
        },
        {
         "hovertemplate": "<b>%{fullData.name}</b><br>Percentage: %{y:.2f}%<extra></extra>",
         "legendgroup": "Historical",
         "line": {
          "color": "#FF6692",
          "dash": "solid"
         },
         "marker": {
          "size": 8
         },
         "mode": "lines+markers",
         "name": "Kensington / Flemington 3031 (Historical)",
         "type": "scatter",
         "x": [
          2018,
          2019,
          2020,
          2021,
          2022,
          2023
         ],
         "y": [
          19.375,
          17.900000000000002,
          18.049999999999997,
          16.125,
          7.859999999999999,
          10.92
         ]
        },
        {
         "hovertemplate": "<b>%{fullData.name}</b><br>Predicted: %{y:.2f}%<extra></extra>",
         "legendgroup": "Predicted",
         "line": {
          "color": "rgb(254, 136, 177)",
          "dash": "dot"
         },
         "marker": {
          "size": 8
         },
         "mode": "lines+markers",
         "name": "Kensington / Flemington 3031 (Predicted)",
         "type": "scatter",
         "x": [
          2024,
          2025
         ],
         "y": [
          7.61,
          5.48
         ]
        },
        {
         "hovertemplate": "<b>%{fullData.name}</b><br>Percentage: %{y:.2f}%<extra></extra>",
         "legendgroup": "Historical",
         "line": {
          "color": "#B6E880",
          "dash": "solid"
         },
         "marker": {
          "size": 8
         },
         "mode": "lines+markers",
         "name": "Melbourne 3000 (Historical)",
         "type": "scatter",
         "x": [
          2018,
          2019,
          2020,
          2021,
          2022,
          2023
         ],
         "y": [
          18.775,
          23.125,
          28.9,
          28.5,
          21.3,
          22.2
         ]
        },
        {
         "hovertemplate": "<b>%{fullData.name}</b><br>Predicted: %{y:.2f}%<extra></extra>",
         "legendgroup": "Predicted",
         "line": {
          "color": "rgb(201, 219, 116)",
          "dash": "dot"
         },
         "marker": {
          "size": 8
         },
         "mode": "lines+markers",
         "name": "Melbourne 3000 (Predicted)",
         "type": "scatter",
         "x": [
          2024,
          2025
         ],
         "y": [
          24.92,
          25.25
         ]
        },
        {
         "hovertemplate": "<b>%{fullData.name}</b><br>Percentage: %{y:.2f}%<extra></extra>",
         "legendgroup": "Historical",
         "line": {
          "color": "#FF97FF",
          "dash": "solid"
         },
         "marker": {
          "size": 8
         },
         "mode": "lines+markers",
         "name": "Parkville 3052 (Historical)",
         "type": "scatter",
         "x": [
          2018,
          2019,
          2020,
          2021,
          2022,
          2023
         ],
         "y": [
          12.6,
          13.775,
          22.075,
          23.75,
          21.759999999999998,
          16.68
         ]
        },
        {
         "hovertemplate": "<b>%{fullData.name}</b><br>Predicted: %{y:.2f}%<extra></extra>",
         "legendgroup": "Predicted",
         "line": {
          "color": "rgb(139, 224, 164)",
          "dash": "dot"
         },
         "marker": {
          "size": 8
         },
         "mode": "lines+markers",
         "name": "Parkville 3052 (Predicted)",
         "type": "scatter",
         "x": [
          2024,
          2025
         ],
         "y": [
          23.04,
          24.36
         ]
        },
        {
         "hovertemplate": "<b>%{fullData.name}</b><br>Percentage: %{y:.2f}%<extra></extra>",
         "legendgroup": "Historical",
         "line": {
          "color": "#FECB52",
          "dash": "solid"
         },
         "marker": {
          "size": 8
         },
         "mode": "lines+markers",
         "name": "South Yarra 3141 / Melbourne/St Kilda Road 3004 (Historical)",
         "type": "scatter",
         "x": [
          2018,
          2019,
          2020,
          2021,
          2022,
          2023
         ],
         "y": [
          15.75,
          21.75,
          22.825,
          15.5,
          11.540000000000001,
          20.259999999999998
         ]
        },
        {
         "hovertemplate": "<b>%{fullData.name}</b><br>Predicted: %{y:.2f}%<extra></extra>",
         "legendgroup": "Predicted",
         "line": {
          "color": "rgb(180, 151, 231)",
          "dash": "dot"
         },
         "marker": {
          "size": 8
         },
         "mode": "lines+markers",
         "name": "South Yarra 3141 / Melbourne/St Kilda Road 3004 (Predicted)",
         "type": "scatter",
         "x": [
          2024,
          2025
         ],
         "y": [
          16.4,
          15.96
         ]
        }
       ],
       "layout": {
        "height": 650,
        "hovermode": "x unified",
        "legend": {
         "font": {
          "size": 10
         },
         "orientation": "v",
         "title": {
          "text": ""
         },
         "x": 1.05,
         "y": 1
        },
        "margin": {
         "b": 50,
         "l": 40,
         "r": 250,
         "t": 50
        },
        "template": {
         "data": {
          "bar": [
           {
            "error_x": {
             "color": "#2a3f5f"
            },
            "error_y": {
             "color": "#2a3f5f"
            },
            "marker": {
             "line": {
              "color": "white",
              "width": 0.5
             },
             "pattern": {
              "fillmode": "overlay",
              "size": 10,
              "solidity": 0.2
             }
            },
            "type": "bar"
           }
          ],
          "barpolar": [
           {
            "marker": {
             "line": {
              "color": "white",
              "width": 0.5
             },
             "pattern": {
              "fillmode": "overlay",
              "size": 10,
              "solidity": 0.2
             }
            },
            "type": "barpolar"
           }
          ],
          "carpet": [
           {
            "aaxis": {
             "endlinecolor": "#2a3f5f",
             "gridcolor": "#C8D4E3",
             "linecolor": "#C8D4E3",
             "minorgridcolor": "#C8D4E3",
             "startlinecolor": "#2a3f5f"
            },
            "baxis": {
             "endlinecolor": "#2a3f5f",
             "gridcolor": "#C8D4E3",
             "linecolor": "#C8D4E3",
             "minorgridcolor": "#C8D4E3",
             "startlinecolor": "#2a3f5f"
            },
            "type": "carpet"
           }
          ],
          "choropleth": [
           {
            "colorbar": {
             "outlinewidth": 0,
             "ticks": ""
            },
            "type": "choropleth"
           }
          ],
          "contour": [
           {
            "colorbar": {
             "outlinewidth": 0,
             "ticks": ""
            },
            "colorscale": [
             [
              0,
              "#0d0887"
             ],
             [
              0.1111111111111111,
              "#46039f"
             ],
             [
              0.2222222222222222,
              "#7201a8"
             ],
             [
              0.3333333333333333,
              "#9c179e"
             ],
             [
              0.4444444444444444,
              "#bd3786"
             ],
             [
              0.5555555555555556,
              "#d8576b"
             ],
             [
              0.6666666666666666,
              "#ed7953"
             ],
             [
              0.7777777777777778,
              "#fb9f3a"
             ],
             [
              0.8888888888888888,
              "#fdca26"
             ],
             [
              1,
              "#f0f921"
             ]
            ],
            "type": "contour"
           }
          ],
          "contourcarpet": [
           {
            "colorbar": {
             "outlinewidth": 0,
             "ticks": ""
            },
            "type": "contourcarpet"
           }
          ],
          "heatmap": [
           {
            "colorbar": {
             "outlinewidth": 0,
             "ticks": ""
            },
            "colorscale": [
             [
              0,
              "#0d0887"
             ],
             [
              0.1111111111111111,
              "#46039f"
             ],
             [
              0.2222222222222222,
              "#7201a8"
             ],
             [
              0.3333333333333333,
              "#9c179e"
             ],
             [
              0.4444444444444444,
              "#bd3786"
             ],
             [
              0.5555555555555556,
              "#d8576b"
             ],
             [
              0.6666666666666666,
              "#ed7953"
             ],
             [
              0.7777777777777778,
              "#fb9f3a"
             ],
             [
              0.8888888888888888,
              "#fdca26"
             ],
             [
              1,
              "#f0f921"
             ]
            ],
            "type": "heatmap"
           }
          ],
          "heatmapgl": [
           {
            "colorbar": {
             "outlinewidth": 0,
             "ticks": ""
            },
            "colorscale": [
             [
              0,
              "#0d0887"
             ],
             [
              0.1111111111111111,
              "#46039f"
             ],
             [
              0.2222222222222222,
              "#7201a8"
             ],
             [
              0.3333333333333333,
              "#9c179e"
             ],
             [
              0.4444444444444444,
              "#bd3786"
             ],
             [
              0.5555555555555556,
              "#d8576b"
             ],
             [
              0.6666666666666666,
              "#ed7953"
             ],
             [
              0.7777777777777778,
              "#fb9f3a"
             ],
             [
              0.8888888888888888,
              "#fdca26"
             ],
             [
              1,
              "#f0f921"
             ]
            ],
            "type": "heatmapgl"
           }
          ],
          "histogram": [
           {
            "marker": {
             "pattern": {
              "fillmode": "overlay",
              "size": 10,
              "solidity": 0.2
             }
            },
            "type": "histogram"
           }
          ],
          "histogram2d": [
           {
            "colorbar": {
             "outlinewidth": 0,
             "ticks": ""
            },
            "colorscale": [
             [
              0,
              "#0d0887"
             ],
             [
              0.1111111111111111,
              "#46039f"
             ],
             [
              0.2222222222222222,
              "#7201a8"
             ],
             [
              0.3333333333333333,
              "#9c179e"
             ],
             [
              0.4444444444444444,
              "#bd3786"
             ],
             [
              0.5555555555555556,
              "#d8576b"
             ],
             [
              0.6666666666666666,
              "#ed7953"
             ],
             [
              0.7777777777777778,
              "#fb9f3a"
             ],
             [
              0.8888888888888888,
              "#fdca26"
             ],
             [
              1,
              "#f0f921"
             ]
            ],
            "type": "histogram2d"
           }
          ],
          "histogram2dcontour": [
           {
            "colorbar": {
             "outlinewidth": 0,
             "ticks": ""
            },
            "colorscale": [
             [
              0,
              "#0d0887"
             ],
             [
              0.1111111111111111,
              "#46039f"
             ],
             [
              0.2222222222222222,
              "#7201a8"
             ],
             [
              0.3333333333333333,
              "#9c179e"
             ],
             [
              0.4444444444444444,
              "#bd3786"
             ],
             [
              0.5555555555555556,
              "#d8576b"
             ],
             [
              0.6666666666666666,
              "#ed7953"
             ],
             [
              0.7777777777777778,
              "#fb9f3a"
             ],
             [
              0.8888888888888888,
              "#fdca26"
             ],
             [
              1,
              "#f0f921"
             ]
            ],
            "type": "histogram2dcontour"
           }
          ],
          "mesh3d": [
           {
            "colorbar": {
             "outlinewidth": 0,
             "ticks": ""
            },
            "type": "mesh3d"
           }
          ],
          "parcoords": [
           {
            "line": {
             "colorbar": {
              "outlinewidth": 0,
              "ticks": ""
             }
            },
            "type": "parcoords"
           }
          ],
          "pie": [
           {
            "automargin": true,
            "type": "pie"
           }
          ],
          "scatter": [
           {
            "fillpattern": {
             "fillmode": "overlay",
             "size": 10,
             "solidity": 0.2
            },
            "type": "scatter"
           }
          ],
          "scatter3d": [
           {
            "line": {
             "colorbar": {
              "outlinewidth": 0,
              "ticks": ""
             }
            },
            "marker": {
             "colorbar": {
              "outlinewidth": 0,
              "ticks": ""
             }
            },
            "type": "scatter3d"
           }
          ],
          "scattercarpet": [
           {
            "marker": {
             "colorbar": {
              "outlinewidth": 0,
              "ticks": ""
             }
            },
            "type": "scattercarpet"
           }
          ],
          "scattergeo": [
           {
            "marker": {
             "colorbar": {
              "outlinewidth": 0,
              "ticks": ""
             }
            },
            "type": "scattergeo"
           }
          ],
          "scattergl": [
           {
            "marker": {
             "colorbar": {
              "outlinewidth": 0,
              "ticks": ""
             }
            },
            "type": "scattergl"
           }
          ],
          "scattermapbox": [
           {
            "marker": {
             "colorbar": {
              "outlinewidth": 0,
              "ticks": ""
             }
            },
            "type": "scattermapbox"
           }
          ],
          "scatterpolar": [
           {
            "marker": {
             "colorbar": {
              "outlinewidth": 0,
              "ticks": ""
             }
            },
            "type": "scatterpolar"
           }
          ],
          "scatterpolargl": [
           {
            "marker": {
             "colorbar": {
              "outlinewidth": 0,
              "ticks": ""
             }
            },
            "type": "scatterpolargl"
           }
          ],
          "scatterternary": [
           {
            "marker": {
             "colorbar": {
              "outlinewidth": 0,
              "ticks": ""
             }
            },
            "type": "scatterternary"
           }
          ],
          "surface": [
           {
            "colorbar": {
             "outlinewidth": 0,
             "ticks": ""
            },
            "colorscale": [
             [
              0,
              "#0d0887"
             ],
             [
              0.1111111111111111,
              "#46039f"
             ],
             [
              0.2222222222222222,
              "#7201a8"
             ],
             [
              0.3333333333333333,
              "#9c179e"
             ],
             [
              0.4444444444444444,
              "#bd3786"
             ],
             [
              0.5555555555555556,
              "#d8576b"
             ],
             [
              0.6666666666666666,
              "#ed7953"
             ],
             [
              0.7777777777777778,
              "#fb9f3a"
             ],
             [
              0.8888888888888888,
              "#fdca26"
             ],
             [
              1,
              "#f0f921"
             ]
            ],
            "type": "surface"
           }
          ],
          "table": [
           {
            "cells": {
             "fill": {
              "color": "#EBF0F8"
             },
             "line": {
              "color": "white"
             }
            },
            "header": {
             "fill": {
              "color": "#C8D4E3"
             },
             "line": {
              "color": "white"
             }
            },
            "type": "table"
           }
          ]
         },
         "layout": {
          "annotationdefaults": {
           "arrowcolor": "#2a3f5f",
           "arrowhead": 0,
           "arrowwidth": 1
          },
          "autotypenumbers": "strict",
          "coloraxis": {
           "colorbar": {
            "outlinewidth": 0,
            "ticks": ""
           }
          },
          "colorscale": {
           "diverging": [
            [
             0,
             "#8e0152"
            ],
            [
             0.1,
             "#c51b7d"
            ],
            [
             0.2,
             "#de77ae"
            ],
            [
             0.3,
             "#f1b6da"
            ],
            [
             0.4,
             "#fde0ef"
            ],
            [
             0.5,
             "#f7f7f7"
            ],
            [
             0.6,
             "#e6f5d0"
            ],
            [
             0.7,
             "#b8e186"
            ],
            [
             0.8,
             "#7fbc41"
            ],
            [
             0.9,
             "#4d9221"
            ],
            [
             1,
             "#276419"
            ]
           ],
           "sequential": [
            [
             0,
             "#0d0887"
            ],
            [
             0.1111111111111111,
             "#46039f"
            ],
            [
             0.2222222222222222,
             "#7201a8"
            ],
            [
             0.3333333333333333,
             "#9c179e"
            ],
            [
             0.4444444444444444,
             "#bd3786"
            ],
            [
             0.5555555555555556,
             "#d8576b"
            ],
            [
             0.6666666666666666,
             "#ed7953"
            ],
            [
             0.7777777777777778,
             "#fb9f3a"
            ],
            [
             0.8888888888888888,
             "#fdca26"
            ],
            [
             1,
             "#f0f921"
            ]
           ],
           "sequentialminus": [
            [
             0,
             "#0d0887"
            ],
            [
             0.1111111111111111,
             "#46039f"
            ],
            [
             0.2222222222222222,
             "#7201a8"
            ],
            [
             0.3333333333333333,
             "#9c179e"
            ],
            [
             0.4444444444444444,
             "#bd3786"
            ],
            [
             0.5555555555555556,
             "#d8576b"
            ],
            [
             0.6666666666666666,
             "#ed7953"
            ],
            [
             0.7777777777777778,
             "#fb9f3a"
            ],
            [
             0.8888888888888888,
             "#fdca26"
            ],
            [
             1,
             "#f0f921"
            ]
           ]
          },
          "colorway": [
           "#636efa",
           "#EF553B",
           "#00cc96",
           "#ab63fa",
           "#FFA15A",
           "#19d3f3",
           "#FF6692",
           "#B6E880",
           "#FF97FF",
           "#FECB52"
          ],
          "font": {
           "color": "#2a3f5f"
          },
          "geo": {
           "bgcolor": "white",
           "lakecolor": "white",
           "landcolor": "white",
           "showlakes": true,
           "showland": true,
           "subunitcolor": "#C8D4E3"
          },
          "hoverlabel": {
           "align": "left"
          },
          "hovermode": "closest",
          "mapbox": {
           "style": "light"
          },
          "paper_bgcolor": "white",
          "plot_bgcolor": "white",
          "polar": {
           "angularaxis": {
            "gridcolor": "#EBF0F8",
            "linecolor": "#EBF0F8",
            "ticks": ""
           },
           "bgcolor": "white",
           "radialaxis": {
            "gridcolor": "#EBF0F8",
            "linecolor": "#EBF0F8",
            "ticks": ""
           }
          },
          "scene": {
           "xaxis": {
            "backgroundcolor": "white",
            "gridcolor": "#DFE8F3",
            "gridwidth": 2,
            "linecolor": "#EBF0F8",
            "showbackground": true,
            "ticks": "",
            "zerolinecolor": "#EBF0F8"
           },
           "yaxis": {
            "backgroundcolor": "white",
            "gridcolor": "#DFE8F3",
            "gridwidth": 2,
            "linecolor": "#EBF0F8",
            "showbackground": true,
            "ticks": "",
            "zerolinecolor": "#EBF0F8"
           },
           "zaxis": {
            "backgroundcolor": "white",
            "gridcolor": "#DFE8F3",
            "gridwidth": 2,
            "linecolor": "#EBF0F8",
            "showbackground": true,
            "ticks": "",
            "zerolinecolor": "#EBF0F8"
           }
          },
          "shapedefaults": {
           "line": {
            "color": "#2a3f5f"
           }
          },
          "ternary": {
           "aaxis": {
            "gridcolor": "#DFE8F3",
            "linecolor": "#A2B1C6",
            "ticks": ""
           },
           "baxis": {
            "gridcolor": "#DFE8F3",
            "linecolor": "#A2B1C6",
            "ticks": ""
           },
           "bgcolor": "white",
           "caxis": {
            "gridcolor": "#DFE8F3",
            "linecolor": "#A2B1C6",
            "ticks": ""
           }
          },
          "title": {
           "x": 0.05
          },
          "xaxis": {
           "automargin": true,
           "gridcolor": "#EBF0F8",
           "linecolor": "#EBF0F8",
           "ticks": "",
           "title": {
            "standoff": 15
           },
           "zerolinecolor": "#EBF0F8",
           "zerolinewidth": 2
          },
          "yaxis": {
           "automargin": true,
           "gridcolor": "#EBF0F8",
           "linecolor": "#EBF0F8",
           "ticks": "",
           "title": {
            "standoff": 15
           },
           "zerolinecolor": "#EBF0F8",
           "zerolinewidth": 2
          }
         }
        },
        "title": {
         "text": "Combined Trends by Suburb"
        },
        "width": 1300,
        "xaxis": {
         "title": {
          "text": "Year"
         }
        },
        "yaxis": {
         "title": {
          "text": "Percentage"
         }
        }
       }
      }
     },
     "metadata": {},
     "output_type": "display_data"
    },
    {
     "data": {
      "application/vnd.jupyter.widget-view+json": {
       "model_id": "59444e224f8f4c478e1a10bdccd203c2",
       "version_major": 2,
       "version_minor": 0
      },
      "text/plain": [
       "Button(button_style='success', description='Export', icon='download', style=ButtonStyle())"
      ]
     },
     "metadata": {},
     "output_type": "display_data"
    },
    {
     "data": {
      "application/vnd.jupyter.widget-view+json": {
       "model_id": "2a91fa9067bb475fb2218bb89494469f",
       "version_major": 2,
       "version_minor": 0
      },
      "text/plain": [
       "HTML(value='')"
      ]
     },
     "metadata": {},
     "output_type": "display_data"
    }
   ],
   "source": [
    "#dropdown for category selection\n",
    "category_options = ['Age', 'Gender', 'Suburb']\n",
    "category_dropdown = widgets.Dropdown(\n",
    "    options=['Select Category'] + category_options,\n",
    "    value='Select Category',\n",
    "    description='Category:'\n",
    ")\n",
    "\n",
    "#function to generate the combined plot for all trends in a category\n",
    "def update_plot(change=None):\n",
    "    clear_output(wait=True)\n",
    "    display(category_dropdown)\n",
    "    \n",
    "    selected_category = category_dropdown.value\n",
    "    \n",
    "    if selected_category == 'Select Category':\n",
    "        display(HTML(\"<b>Please select a category to view combined trends.</b>\"))\n",
    "        return\n",
    "    \n",
    "    #getting unique values for the selected category\n",
    "    unique_values = all_df[selected_category].dropna().unique()\n",
    "    \n",
    "    if len(unique_values) == 0:\n",
    "        display(HTML(\"<b>No data available for the selected category.</b>\"))\n",
    "        return\n",
    "    \n",
    "    #plotly figure\n",
    "    fig = go.Figure()\n",
    "    \n",
    "    #separate color palettes for historical and predicted\n",
    "    historical_colors = colors.qualitative.Plotly[:len(unique_values)]\n",
    "    predicted_colors = colors.qualitative.Pastel[:len(unique_values)]\n",
    "    \n",
    "    #looping through each unique value in the category and add to the plot\n",
    "    for idx, value in enumerate(unique_values):\n",
    "        filtered_df = all_df[all_df[selected_category] == value]\n",
    "        if filtered_df.empty:\n",
    "            continue\n",
    "        \n",
    "        #aggregating data by year\n",
    "        aggregated_df = filtered_df.groupby('year', as_index=False).agg({'result': 'mean'})\n",
    "        \n",
    "        #the data for the linear regression model\n",
    "        X = aggregated_df[['year']].values\n",
    "        y = aggregated_df['result'].values\n",
    "        \n",
    "        #training\n",
    "        model = LinearRegression()\n",
    "        model.fit(X, y)\n",
    "        \n",
    "        #prediction\n",
    "        future_years = np.array([[2024], [2025]])\n",
    "        future_predictions = model.predict(future_years)\n",
    "        \n",
    "        #historical\n",
    "        fig.add_trace(go.Scatter(\n",
    "            x=aggregated_df['year'],\n",
    "            y=aggregated_df['result'],\n",
    "            mode='lines+markers',\n",
    "            name=f'{value} (Historical)',\n",
    "            legendgroup='Historical',\n",
    "            line=dict(color=historical_colors[idx], dash='solid'),\n",
    "            marker=dict(size=8),\n",
    "            hovertemplate=\"<b>%{fullData.name}</b><br>Percentage: %{y:.2f}%<extra></extra>\"\n",
    "        ))\n",
    "        \n",
    "        #predictions\n",
    "        fig.add_trace(go.Scatter(\n",
    "            x=future_years.flatten(),\n",
    "            y=[round(pred, 2) for pred in future_predictions],  \n",
    "            mode='lines+markers',\n",
    "            name=f'{value} (Predicted)',\n",
    "            legendgroup='Predicted',\n",
    "            line=dict(color=predicted_colors[idx], dash='dot'),\n",
    "            marker=dict(size=8),\n",
    "            hovertemplate=\"<b>%{fullData.name}</b><br>Predicted: %{y:.2f}%<extra></extra>\"\n",
    "        ))\n",
    "    \n",
    "    #layout\n",
    "    fig.update_layout(\n",
    "        title=f\"Combined Trends by {selected_category}\",\n",
    "        xaxis_title=\"Year\",\n",
    "        yaxis_title=\"Percentage\",\n",
    "        template=\"plotly_white\",\n",
    "        height=650,\n",
    "        width=1300,\n",
    "        legend=dict(\n",
    "            x=1.05,\n",
    "            y=1,\n",
    "            orientation='v',\n",
    "            title_text='',\n",
    "            font=dict(size=10),\n",
    "        ),\n",
    "        margin=dict(l=40, r=250, t=50, b=50),\n",
    "        hovermode=\"x unified\"\n",
    "    )\n",
    "    \n",
    "    fig.show()\n",
    "\n",
    "    #export\n",
    "    add_export_button(fig, file_name_prefix=f\"Combined_Trends_{selected_category}\")\n",
    "\n",
    "#linking dropdown to function\n",
    "category_dropdown.observe(update_plot, names='value')\n",
    "\n",
    "#show\n",
    "display(category_dropdown)\n",
    "display(HTML(\"<b>Please select a category to view combined trends.</b>\"))"
   ]
  },
  {
   "cell_type": "markdown",
   "metadata": {},
   "source": [
    "## Trends by Food Insecurity Type and Demographic Category"
   ]
  },
  {
   "cell_type": "code",
   "execution_count": null,
   "metadata": {},
   "outputs": [
    {
     "data": {
      "application/vnd.jupyter.widget-view+json": {
       "model_id": "80e1cb9da6e14ed683dabc4876515488",
       "version_major": 2,
       "version_minor": 0
      },
      "text/plain": [
       "Dropdown(description='Food Insecurity:', index=2, layout=Layout(width='400px'), options=('Select the type', 'I…"
      ]
     },
     "metadata": {},
     "output_type": "display_data"
    },
    {
     "data": {
      "application/vnd.jupyter.widget-view+json": {
       "model_id": "310dad647da949fd91dc6a0389efe871",
       "version_major": 2,
       "version_minor": 0
      },
      "text/plain": [
       "Dropdown(description='Category:', index=2, layout=Layout(width='400px'), options=('Select Category', 'Age', 'G…"
      ]
     },
     "metadata": {},
     "output_type": "display_data"
    },
    {
     "data": {
      "application/vnd.plotly.v1+json": {
       "config": {
        "plotlyServerURL": "https://plot.ly"
       },
       "data": [
        {
         "line": {
          "dash": "solid"
         },
         "mode": "lines+markers",
         "name": "Female (Historical)",
         "type": "scatter",
         "x": [
          2018,
          2019,
          2020,
          2021,
          2022,
          2023
         ],
         "y": [
          22.2,
          20.2,
          24.5,
          28,
          23.8,
          24.6
         ]
        },
        {
         "line": {
          "dash": "dot"
         },
         "marker": {
          "size": 8
         },
         "mode": "lines+markers",
         "name": "Female (Predicted)",
         "type": "scatter",
         "x": [
          2024,
          2025
         ],
         "y": [
          26.51,
          27.26
         ]
        },
        {
         "line": {
          "dash": "solid"
         },
         "mode": "lines+markers",
         "name": "Male (Historical)",
         "type": "scatter",
         "x": [
          2018,
          2019,
          2020,
          2021,
          2022,
          2023
         ],
         "y": [
          17,
          20.5,
          26.8,
          26.1,
          18.5,
          19.4
         ]
        },
        {
         "line": {
          "dash": "dot"
         },
         "marker": {
          "size": 8
         },
         "mode": "lines+markers",
         "name": "Male (Predicted)",
         "type": "scatter",
         "x": [
          2024,
          2025
         ],
         "y": [
          21.91,
          22.06
         ]
        }
       ],
       "layout": {
        "height": 600,
        "hovermode": "x unified",
        "legend": {
         "orientation": "h",
         "x": 0.5,
         "xanchor": "center",
         "y": -0.2
        },
        "template": {
         "data": {
          "bar": [
           {
            "error_x": {
             "color": "#2a3f5f"
            },
            "error_y": {
             "color": "#2a3f5f"
            },
            "marker": {
             "line": {
              "color": "white",
              "width": 0.5
             },
             "pattern": {
              "fillmode": "overlay",
              "size": 10,
              "solidity": 0.2
             }
            },
            "type": "bar"
           }
          ],
          "barpolar": [
           {
            "marker": {
             "line": {
              "color": "white",
              "width": 0.5
             },
             "pattern": {
              "fillmode": "overlay",
              "size": 10,
              "solidity": 0.2
             }
            },
            "type": "barpolar"
           }
          ],
          "carpet": [
           {
            "aaxis": {
             "endlinecolor": "#2a3f5f",
             "gridcolor": "#C8D4E3",
             "linecolor": "#C8D4E3",
             "minorgridcolor": "#C8D4E3",
             "startlinecolor": "#2a3f5f"
            },
            "baxis": {
             "endlinecolor": "#2a3f5f",
             "gridcolor": "#C8D4E3",
             "linecolor": "#C8D4E3",
             "minorgridcolor": "#C8D4E3",
             "startlinecolor": "#2a3f5f"
            },
            "type": "carpet"
           }
          ],
          "choropleth": [
           {
            "colorbar": {
             "outlinewidth": 0,
             "ticks": ""
            },
            "type": "choropleth"
           }
          ],
          "contour": [
           {
            "colorbar": {
             "outlinewidth": 0,
             "ticks": ""
            },
            "colorscale": [
             [
              0,
              "#0d0887"
             ],
             [
              0.1111111111111111,
              "#46039f"
             ],
             [
              0.2222222222222222,
              "#7201a8"
             ],
             [
              0.3333333333333333,
              "#9c179e"
             ],
             [
              0.4444444444444444,
              "#bd3786"
             ],
             [
              0.5555555555555556,
              "#d8576b"
             ],
             [
              0.6666666666666666,
              "#ed7953"
             ],
             [
              0.7777777777777778,
              "#fb9f3a"
             ],
             [
              0.8888888888888888,
              "#fdca26"
             ],
             [
              1,
              "#f0f921"
             ]
            ],
            "type": "contour"
           }
          ],
          "contourcarpet": [
           {
            "colorbar": {
             "outlinewidth": 0,
             "ticks": ""
            },
            "type": "contourcarpet"
           }
          ],
          "heatmap": [
           {
            "colorbar": {
             "outlinewidth": 0,
             "ticks": ""
            },
            "colorscale": [
             [
              0,
              "#0d0887"
             ],
             [
              0.1111111111111111,
              "#46039f"
             ],
             [
              0.2222222222222222,
              "#7201a8"
             ],
             [
              0.3333333333333333,
              "#9c179e"
             ],
             [
              0.4444444444444444,
              "#bd3786"
             ],
             [
              0.5555555555555556,
              "#d8576b"
             ],
             [
              0.6666666666666666,
              "#ed7953"
             ],
             [
              0.7777777777777778,
              "#fb9f3a"
             ],
             [
              0.8888888888888888,
              "#fdca26"
             ],
             [
              1,
              "#f0f921"
             ]
            ],
            "type": "heatmap"
           }
          ],
          "heatmapgl": [
           {
            "colorbar": {
             "outlinewidth": 0,
             "ticks": ""
            },
            "colorscale": [
             [
              0,
              "#0d0887"
             ],
             [
              0.1111111111111111,
              "#46039f"
             ],
             [
              0.2222222222222222,
              "#7201a8"
             ],
             [
              0.3333333333333333,
              "#9c179e"
             ],
             [
              0.4444444444444444,
              "#bd3786"
             ],
             [
              0.5555555555555556,
              "#d8576b"
             ],
             [
              0.6666666666666666,
              "#ed7953"
             ],
             [
              0.7777777777777778,
              "#fb9f3a"
             ],
             [
              0.8888888888888888,
              "#fdca26"
             ],
             [
              1,
              "#f0f921"
             ]
            ],
            "type": "heatmapgl"
           }
          ],
          "histogram": [
           {
            "marker": {
             "pattern": {
              "fillmode": "overlay",
              "size": 10,
              "solidity": 0.2
             }
            },
            "type": "histogram"
           }
          ],
          "histogram2d": [
           {
            "colorbar": {
             "outlinewidth": 0,
             "ticks": ""
            },
            "colorscale": [
             [
              0,
              "#0d0887"
             ],
             [
              0.1111111111111111,
              "#46039f"
             ],
             [
              0.2222222222222222,
              "#7201a8"
             ],
             [
              0.3333333333333333,
              "#9c179e"
             ],
             [
              0.4444444444444444,
              "#bd3786"
             ],
             [
              0.5555555555555556,
              "#d8576b"
             ],
             [
              0.6666666666666666,
              "#ed7953"
             ],
             [
              0.7777777777777778,
              "#fb9f3a"
             ],
             [
              0.8888888888888888,
              "#fdca26"
             ],
             [
              1,
              "#f0f921"
             ]
            ],
            "type": "histogram2d"
           }
          ],
          "histogram2dcontour": [
           {
            "colorbar": {
             "outlinewidth": 0,
             "ticks": ""
            },
            "colorscale": [
             [
              0,
              "#0d0887"
             ],
             [
              0.1111111111111111,
              "#46039f"
             ],
             [
              0.2222222222222222,
              "#7201a8"
             ],
             [
              0.3333333333333333,
              "#9c179e"
             ],
             [
              0.4444444444444444,
              "#bd3786"
             ],
             [
              0.5555555555555556,
              "#d8576b"
             ],
             [
              0.6666666666666666,
              "#ed7953"
             ],
             [
              0.7777777777777778,
              "#fb9f3a"
             ],
             [
              0.8888888888888888,
              "#fdca26"
             ],
             [
              1,
              "#f0f921"
             ]
            ],
            "type": "histogram2dcontour"
           }
          ],
          "mesh3d": [
           {
            "colorbar": {
             "outlinewidth": 0,
             "ticks": ""
            },
            "type": "mesh3d"
           }
          ],
          "parcoords": [
           {
            "line": {
             "colorbar": {
              "outlinewidth": 0,
              "ticks": ""
             }
            },
            "type": "parcoords"
           }
          ],
          "pie": [
           {
            "automargin": true,
            "type": "pie"
           }
          ],
          "scatter": [
           {
            "fillpattern": {
             "fillmode": "overlay",
             "size": 10,
             "solidity": 0.2
            },
            "type": "scatter"
           }
          ],
          "scatter3d": [
           {
            "line": {
             "colorbar": {
              "outlinewidth": 0,
              "ticks": ""
             }
            },
            "marker": {
             "colorbar": {
              "outlinewidth": 0,
              "ticks": ""
             }
            },
            "type": "scatter3d"
           }
          ],
          "scattercarpet": [
           {
            "marker": {
             "colorbar": {
              "outlinewidth": 0,
              "ticks": ""
             }
            },
            "type": "scattercarpet"
           }
          ],
          "scattergeo": [
           {
            "marker": {
             "colorbar": {
              "outlinewidth": 0,
              "ticks": ""
             }
            },
            "type": "scattergeo"
           }
          ],
          "scattergl": [
           {
            "marker": {
             "colorbar": {
              "outlinewidth": 0,
              "ticks": ""
             }
            },
            "type": "scattergl"
           }
          ],
          "scattermapbox": [
           {
            "marker": {
             "colorbar": {
              "outlinewidth": 0,
              "ticks": ""
             }
            },
            "type": "scattermapbox"
           }
          ],
          "scatterpolar": [
           {
            "marker": {
             "colorbar": {
              "outlinewidth": 0,
              "ticks": ""
             }
            },
            "type": "scatterpolar"
           }
          ],
          "scatterpolargl": [
           {
            "marker": {
             "colorbar": {
              "outlinewidth": 0,
              "ticks": ""
             }
            },
            "type": "scatterpolargl"
           }
          ],
          "scatterternary": [
           {
            "marker": {
             "colorbar": {
              "outlinewidth": 0,
              "ticks": ""
             }
            },
            "type": "scatterternary"
           }
          ],
          "surface": [
           {
            "colorbar": {
             "outlinewidth": 0,
             "ticks": ""
            },
            "colorscale": [
             [
              0,
              "#0d0887"
             ],
             [
              0.1111111111111111,
              "#46039f"
             ],
             [
              0.2222222222222222,
              "#7201a8"
             ],
             [
              0.3333333333333333,
              "#9c179e"
             ],
             [
              0.4444444444444444,
              "#bd3786"
             ],
             [
              0.5555555555555556,
              "#d8576b"
             ],
             [
              0.6666666666666666,
              "#ed7953"
             ],
             [
              0.7777777777777778,
              "#fb9f3a"
             ],
             [
              0.8888888888888888,
              "#fdca26"
             ],
             [
              1,
              "#f0f921"
             ]
            ],
            "type": "surface"
           }
          ],
          "table": [
           {
            "cells": {
             "fill": {
              "color": "#EBF0F8"
             },
             "line": {
              "color": "white"
             }
            },
            "header": {
             "fill": {
              "color": "#C8D4E3"
             },
             "line": {
              "color": "white"
             }
            },
            "type": "table"
           }
          ]
         },
         "layout": {
          "annotationdefaults": {
           "arrowcolor": "#2a3f5f",
           "arrowhead": 0,
           "arrowwidth": 1
          },
          "autotypenumbers": "strict",
          "coloraxis": {
           "colorbar": {
            "outlinewidth": 0,
            "ticks": ""
           }
          },
          "colorscale": {
           "diverging": [
            [
             0,
             "#8e0152"
            ],
            [
             0.1,
             "#c51b7d"
            ],
            [
             0.2,
             "#de77ae"
            ],
            [
             0.3,
             "#f1b6da"
            ],
            [
             0.4,
             "#fde0ef"
            ],
            [
             0.5,
             "#f7f7f7"
            ],
            [
             0.6,
             "#e6f5d0"
            ],
            [
             0.7,
             "#b8e186"
            ],
            [
             0.8,
             "#7fbc41"
            ],
            [
             0.9,
             "#4d9221"
            ],
            [
             1,
             "#276419"
            ]
           ],
           "sequential": [
            [
             0,
             "#0d0887"
            ],
            [
             0.1111111111111111,
             "#46039f"
            ],
            [
             0.2222222222222222,
             "#7201a8"
            ],
            [
             0.3333333333333333,
             "#9c179e"
            ],
            [
             0.4444444444444444,
             "#bd3786"
            ],
            [
             0.5555555555555556,
             "#d8576b"
            ],
            [
             0.6666666666666666,
             "#ed7953"
            ],
            [
             0.7777777777777778,
             "#fb9f3a"
            ],
            [
             0.8888888888888888,
             "#fdca26"
            ],
            [
             1,
             "#f0f921"
            ]
           ],
           "sequentialminus": [
            [
             0,
             "#0d0887"
            ],
            [
             0.1111111111111111,
             "#46039f"
            ],
            [
             0.2222222222222222,
             "#7201a8"
            ],
            [
             0.3333333333333333,
             "#9c179e"
            ],
            [
             0.4444444444444444,
             "#bd3786"
            ],
            [
             0.5555555555555556,
             "#d8576b"
            ],
            [
             0.6666666666666666,
             "#ed7953"
            ],
            [
             0.7777777777777778,
             "#fb9f3a"
            ],
            [
             0.8888888888888888,
             "#fdca26"
            ],
            [
             1,
             "#f0f921"
            ]
           ]
          },
          "colorway": [
           "#636efa",
           "#EF553B",
           "#00cc96",
           "#ab63fa",
           "#FFA15A",
           "#19d3f3",
           "#FF6692",
           "#B6E880",
           "#FF97FF",
           "#FECB52"
          ],
          "font": {
           "color": "#2a3f5f"
          },
          "geo": {
           "bgcolor": "white",
           "lakecolor": "white",
           "landcolor": "white",
           "showlakes": true,
           "showland": true,
           "subunitcolor": "#C8D4E3"
          },
          "hoverlabel": {
           "align": "left"
          },
          "hovermode": "closest",
          "mapbox": {
           "style": "light"
          },
          "paper_bgcolor": "white",
          "plot_bgcolor": "white",
          "polar": {
           "angularaxis": {
            "gridcolor": "#EBF0F8",
            "linecolor": "#EBF0F8",
            "ticks": ""
           },
           "bgcolor": "white",
           "radialaxis": {
            "gridcolor": "#EBF0F8",
            "linecolor": "#EBF0F8",
            "ticks": ""
           }
          },
          "scene": {
           "xaxis": {
            "backgroundcolor": "white",
            "gridcolor": "#DFE8F3",
            "gridwidth": 2,
            "linecolor": "#EBF0F8",
            "showbackground": true,
            "ticks": "",
            "zerolinecolor": "#EBF0F8"
           },
           "yaxis": {
            "backgroundcolor": "white",
            "gridcolor": "#DFE8F3",
            "gridwidth": 2,
            "linecolor": "#EBF0F8",
            "showbackground": true,
            "ticks": "",
            "zerolinecolor": "#EBF0F8"
           },
           "zaxis": {
            "backgroundcolor": "white",
            "gridcolor": "#DFE8F3",
            "gridwidth": 2,
            "linecolor": "#EBF0F8",
            "showbackground": true,
            "ticks": "",
            "zerolinecolor": "#EBF0F8"
           }
          },
          "shapedefaults": {
           "line": {
            "color": "#2a3f5f"
           }
          },
          "ternary": {
           "aaxis": {
            "gridcolor": "#DFE8F3",
            "linecolor": "#A2B1C6",
            "ticks": ""
           },
           "baxis": {
            "gridcolor": "#DFE8F3",
            "linecolor": "#A2B1C6",
            "ticks": ""
           },
           "bgcolor": "white",
           "caxis": {
            "gridcolor": "#DFE8F3",
            "linecolor": "#A2B1C6",
            "ticks": ""
           }
          },
          "title": {
           "x": 0.05
          },
          "xaxis": {
           "automargin": true,
           "gridcolor": "#EBF0F8",
           "linecolor": "#EBF0F8",
           "ticks": "",
           "title": {
            "standoff": 15
           },
           "zerolinecolor": "#EBF0F8",
           "zerolinewidth": 2
          },
          "yaxis": {
           "automargin": true,
           "gridcolor": "#EBF0F8",
           "linecolor": "#EBF0F8",
           "ticks": "",
           "title": {
            "standoff": 15
           },
           "zerolinecolor": "#EBF0F8",
           "zerolinewidth": 2
          }
         }
        },
        "title": {
         "text": "Trends by Gender for 'Worried food would run out'"
        },
        "xaxis": {
         "title": {
          "text": "Year"
         }
        },
        "yaxis": {
         "title": {
          "text": "Percentage"
         }
        }
       }
      }
     },
     "metadata": {},
     "output_type": "display_data"
    },
    {
     "data": {
      "application/vnd.jupyter.widget-view+json": {
       "model_id": "81b1050dbddb4f94bfbfab699dd26cad",
       "version_major": 2,
       "version_minor": 0
      },
      "text/plain": [
       "Button(button_style='success', description='Export', icon='download', style=ButtonStyle())"
      ]
     },
     "metadata": {},
     "output_type": "display_data"
    },
    {
     "data": {
      "application/vnd.jupyter.widget-view+json": {
       "model_id": "a141c6fc94ab434f8bd457f8ef842ae9",
       "version_major": 2,
       "version_minor": 0
      },
      "text/plain": [
       "HTML(value='')"
      ]
     },
     "metadata": {},
     "output_type": "display_data"
    }
   ],
   "source": [
    "#dropdown for category selection\n",
    "category_options = ['Age', 'Gender', 'Suburb']\n",
    "category_dropdown = widgets.Dropdown(\n",
    "    options=['Select Category'] + category_options,\n",
    "    value='Select Category',\n",
    "    description='Category:',\n",
    "    style={'description_width': 'initial'},\n",
    "    layout=widgets.Layout(width='400px')\n",
    ")\n",
    "\n",
    "#dropdown for food insecurity type\n",
    "food_insecurity_options = ['Select the type'] + all_df['food_insecurity'].dropna().unique().tolist()\n",
    "food_insecurity_dropdown = widgets.Dropdown(\n",
    "    options=food_insecurity_options,\n",
    "    value='Select the type',\n",
    "    description='Food Insecurity:',\n",
    "    style={'description_width': 'initial'},\n",
    "    layout=widgets.Layout(width='400px')\n",
    ")\n",
    "\n",
    "#function to update the plot based on the selected filters\n",
    "def update_plot(change=None):\n",
    "    clear_output(wait=True)\n",
    "    display(food_insecurity_dropdown, category_dropdown)\n",
    "    \n",
    "    selected_food_insecurity = food_insecurity_dropdown.value\n",
    "    selected_category = category_dropdown.value\n",
    "    \n",
    "    #checking if both filters are selected\n",
    "    if selected_food_insecurity == 'Select the type' or selected_category == 'Select Category':\n",
    "        display(HTML(\"<b>Please select both Food Insecurity type and a Category to view trends.</b>\"))\n",
    "        return\n",
    "    \n",
    "    #filtering the data based on the selected filters\n",
    "    filtered_df = all_df[\n",
    "        (all_df['food_insecurity'] == selected_food_insecurity) & \n",
    "        (all_df[selected_category].notnull())\n",
    "    ]\n",
    "    \n",
    "    if filtered_df.empty:\n",
    "        display(HTML(\"<b>No data available for the selected combination of filters.</b>\"))\n",
    "        return\n",
    "    \n",
    "    #getting unique values for the selected category\n",
    "    unique_values = filtered_df[selected_category].dropna().unique()\n",
    "    \n",
    "    if len(unique_values) == 0:\n",
    "        display(HTML(\"<b>No data available for the selected category.</b>\"))\n",
    "        return\n",
    "    \n",
    "    #figure\n",
    "    fig = go.Figure()\n",
    "    \n",
    "    #looping through each unique value in the category and add to the plot\n",
    "    for value in unique_values:\n",
    "        category_filtered_df = filtered_df[filtered_df[selected_category] == value]\n",
    "        \n",
    "        #aggregrating data by year\n",
    "        aggregated_df = category_filtered_df.groupby('year', as_index=False).agg({'result': 'mean'})\n",
    "        \n",
    "        #outdata for the linear regression model\n",
    "        X = aggregated_df[['year']].values\n",
    "        y = aggregated_df['result'].values\n",
    "        \n",
    "        #training\n",
    "        model = LinearRegression()\n",
    "        model.fit(X, y)\n",
    "        \n",
    "        #prediction\n",
    "        future_years = np.array([[2024], [2025]])\n",
    "        future_predictions = model.predict(future_years)\n",
    "        future_predictions_rounded = [round(pred, 2) for pred in future_predictions]\n",
    "        \n",
    "        #historical\n",
    "        fig.add_trace(go.Scatter(\n",
    "            x=aggregated_df['year'],\n",
    "            y=aggregated_df['result'],\n",
    "            mode='lines+markers',\n",
    "            name=f'{value} (Historical)',\n",
    "            line=dict(dash='solid')\n",
    "        ))\n",
    "        \n",
    "        #predictions\n",
    "        fig.add_trace(go.Scatter(\n",
    "            x=future_years.flatten(),\n",
    "            y=future_predictions_rounded,\n",
    "            mode='lines+markers',\n",
    "            name=f'{value} (Predicted)',\n",
    "            line=dict(dash='dot'),\n",
    "            marker=dict(size=8),\n",
    "        ))\n",
    "    \n",
    "    #layout\n",
    "    fig.update_layout(\n",
    "        title=f\"Trends by {selected_category} for '{selected_food_insecurity}'\",\n",
    "        xaxis_title=\"Year\",\n",
    "        yaxis_title=\"Percentage\",\n",
    "        template=\"plotly_white\",\n",
    "        height=600,\n",
    "        legend=dict(x=0.5, y=-0.2, xanchor='center', orientation='h'),\n",
    "        hovermode=\"x unified\"\n",
    "    )\n",
    "    \n",
    "    fig.show()\n",
    "\n",
    "    #export\n",
    "    add_export_button(fig, file_name_prefix=f\"Trends_{selected_food_insecurity}_{selected_category}\")\n",
    "\n",
    "#linking dropdowns to the function\n",
    "food_insecurity_dropdown.observe(update_plot, names='value')\n",
    "category_dropdown.observe(update_plot, names='value')\n",
    "\n",
    "#show\n",
    "display(food_insecurity_dropdown, category_dropdown)\n",
    "display(HTML(\"<b>Please select both Food Insecurity type and a Category to view trends.</b>\"))"
   ]
  },
  {
   "cell_type": "code",
   "execution_count": 26,
   "metadata": {},
   "outputs": [
    {
     "data": {
      "text/html": [
       "<div>\n",
       "<style scoped>\n",
       "    .dataframe tbody tr th:only-of-type {\n",
       "        vertical-align: middle;\n",
       "    }\n",
       "\n",
       "    .dataframe tbody tr th {\n",
       "        vertical-align: top;\n",
       "    }\n",
       "\n",
       "    .dataframe thead th {\n",
       "        text-align: right;\n",
       "    }\n",
       "</style>\n",
       "<table border=\"1\" class=\"dataframe\">\n",
       "  <thead>\n",
       "    <tr style=\"text-align: right;\">\n",
       "      <th></th>\n",
       "      <th>description</th>\n",
       "      <th>respondent_group</th>\n",
       "      <th>year</th>\n",
       "      <th>sample_size</th>\n",
       "      <th>result</th>\n",
       "      <th>food_insecurity</th>\n",
       "      <th>Age</th>\n",
       "      <th>Suburb</th>\n",
       "      <th>Gender</th>\n",
       "    </tr>\n",
       "  </thead>\n",
       "  <tbody>\n",
       "    <tr>\n",
       "      <th>0</th>\n",
       "      <td>Experienced food insecurity (worried food woul...</td>\n",
       "      <td>55-64 years</td>\n",
       "      <td>2023</td>\n",
       "      <td>115</td>\n",
       "      <td>13.2</td>\n",
       "      <td>Insecurity (multiple concerns + relief)</td>\n",
       "      <td>55-64 Years</td>\n",
       "      <td>None</td>\n",
       "      <td>None</td>\n",
       "    </tr>\n",
       "    <tr>\n",
       "      <th>1</th>\n",
       "      <td>Experienced food insecurity (worried food woul...</td>\n",
       "      <td>65+ years</td>\n",
       "      <td>2023</td>\n",
       "      <td>203</td>\n",
       "      <td>5.0</td>\n",
       "      <td>Insecurity (multiple concerns + relief)</td>\n",
       "      <td>65+ Years</td>\n",
       "      <td>None</td>\n",
       "      <td>None</td>\n",
       "    </tr>\n",
       "    <tr>\n",
       "      <th>2</th>\n",
       "      <td>Experienced food insecurity (worried food woul...</td>\n",
       "      <td>Docklands 3008</td>\n",
       "      <td>2023</td>\n",
       "      <td>113</td>\n",
       "      <td>25.7</td>\n",
       "      <td>Insecurity (multiple concerns + relief)</td>\n",
       "      <td>None</td>\n",
       "      <td>Docklands 3008</td>\n",
       "      <td>None</td>\n",
       "    </tr>\n",
       "    <tr>\n",
       "      <th>3</th>\n",
       "      <td>Worried food would run out</td>\n",
       "      <td>35-44 years</td>\n",
       "      <td>2023</td>\n",
       "      <td>228</td>\n",
       "      <td>19.3</td>\n",
       "      <td>Worried food would run out</td>\n",
       "      <td>35-44 Years</td>\n",
       "      <td>None</td>\n",
       "      <td>None</td>\n",
       "    </tr>\n",
       "    <tr>\n",
       "      <th>4</th>\n",
       "      <td>Worried food would run out</td>\n",
       "      <td>55-64 years</td>\n",
       "      <td>2023</td>\n",
       "      <td>115</td>\n",
       "      <td>6.7</td>\n",
       "      <td>Worried food would run out</td>\n",
       "      <td>55-64 Years</td>\n",
       "      <td>None</td>\n",
       "      <td>None</td>\n",
       "    </tr>\n",
       "  </tbody>\n",
       "</table>\n",
       "</div>"
      ],
      "text/plain": [
       "                                         description respondent_group  year  \\\n",
       "0  Experienced food insecurity (worried food woul...      55-64 years  2023   \n",
       "1  Experienced food insecurity (worried food woul...        65+ years  2023   \n",
       "2  Experienced food insecurity (worried food woul...   Docklands 3008  2023   \n",
       "3                         Worried food would run out      35-44 years  2023   \n",
       "4                         Worried food would run out      55-64 years  2023   \n",
       "\n",
       "   sample_size  result                          food_insecurity          Age  \\\n",
       "0          115    13.2  Insecurity (multiple concerns + relief)  55-64 Years   \n",
       "1          203     5.0  Insecurity (multiple concerns + relief)    65+ Years   \n",
       "2          113    25.7  Insecurity (multiple concerns + relief)         None   \n",
       "3          228    19.3               Worried food would run out  35-44 Years   \n",
       "4          115     6.7               Worried food would run out  55-64 Years   \n",
       "\n",
       "           Suburb Gender  \n",
       "0            None   None  \n",
       "1            None   None  \n",
       "2  Docklands 3008   None  \n",
       "3            None   None  \n",
       "4            None   None  "
      ]
     },
     "execution_count": 26,
     "metadata": {},
     "output_type": "execute_result"
    }
   ],
   "source": [
    "all_df.head()"
   ]
  },
  {
   "cell_type": "markdown",
   "metadata": {},
   "source": [
    "## Next step:\n",
    "* Create Dashboard for visualizations\n",
    "* Try Flask Injection\n",
    "* Make a short Walk through video of the code\n",
    "* Explore API document done"
   ]
  },
  {
   "cell_type": "code",
   "execution_count": null,
   "metadata": {},
   "outputs": [],
   "source": []
  }
 ],
 "metadata": {
  "kernelspec": {
   "display_name": "3.12",
   "language": "python",
   "name": "python3"
  },
  "language_info": {
   "codemirror_mode": {
    "name": "ipython",
    "version": 3
   },
   "file_extension": ".py",
   "mimetype": "text/x-python",
   "name": "python",
   "nbconvert_exporter": "python",
   "pygments_lexer": "ipython3",
   "version": "3.12.2"
  }
 },
 "nbformat": 4,
 "nbformat_minor": 2
}
