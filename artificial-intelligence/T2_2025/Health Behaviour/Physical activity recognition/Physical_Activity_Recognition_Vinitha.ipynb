{
  "cells": [
    {
      "cell_type": "markdown",
      "source": [
        "Project Setup & Imports\n",
        "\n",
        "This section brings in all required Python libraries (pandas/NumPy for data handling, scikit-learn for ML utilities, and any plotting libraries). Centralizing imports makes the environment reproducible and keeps dependencies clear for anyone running the notebook. Here we load the raw dataset from disk into memory (typically with pandas.read_*). The goal is to create a single, well-named dataframe that the rest of the pipeline can reference without re-reading files."
      ],
      "metadata": {
        "id": "nuxE_vWGmBlj"
      }
    },
    {
      "cell_type": "code",
      "execution_count": null,
      "metadata": {
        "id": "9xEO7mSJlMqn"
      },
      "outputs": [],
      "source": [
        "import pandas as pd\n",
        "import numpy as np\n",
        "import matplotlib.pyplot as plt\n",
        "import seaborn as sns"
      ]
    },
    {
      "cell_type": "code",
      "execution_count": null,
      "metadata": {
        "id": "Zqmi5IKZAavU"
      },
      "outputs": [],
      "source": [
        "from sklearn.model_selection import train_test_split, GridSearchCV\n",
        "from sklearn.preprocessing import StandardScaler, LabelEncoder\n",
        "from sklearn.ensemble import RandomForestClassifier\n",
        "from sklearn.metrics import accuracy_score, classification_report, confusion_matrix"
      ]
    },
    {
      "cell_type": "code",
      "execution_count": null,
      "metadata": {
        "id": "KdqDNXuBlWuU"
      },
      "outputs": [],
      "source": [
        "# Load the dataset\n",
        "file_path = \"/content/train.csv\"\n",
        "df = pd.read_csv(file_path)"
      ]
    },
    {
      "cell_type": "markdown",
      "source": [
        "Data Cleaning & Preparation\n",
        "\n",
        "We inspect structure and quality (missing values, types, duplicates) and apply lightweight fixes like dropping/renaming columns, type conversions, and baseline summarization. This ensures subsequent steps operate on tidy, consistent data."
      ],
      "metadata": {
        "id": "aqblCbQ5mV2H"
      }
    },
    {
      "cell_type": "code",
      "execution_count": null,
      "metadata": {
        "colab": {
          "base_uri": "https://localhost:8080/"
        },
        "id": "Vf1CXU_NAiuf",
        "outputId": "2a3a79b7-7d73-4e8e-ab61-2e241d194188"
      },
      "outputs": [
        {
          "output_type": "stream",
          "name": "stdout",
          "text": [
            "Dataset shape: (7352, 563)\n",
            "\n",
            "Sample rows:\n",
            "   tBodyAcc-mean()-X  tBodyAcc-mean()-Y  tBodyAcc-mean()-Z  tBodyAcc-std()-X  \\\n",
            "0           0.288585          -0.020294          -0.132905         -0.995279   \n",
            "1           0.278419          -0.016411          -0.123520         -0.998245   \n",
            "2           0.279653          -0.019467          -0.113462         -0.995380   \n",
            "3           0.279174          -0.026201          -0.123283         -0.996091   \n",
            "4           0.276629          -0.016570          -0.115362         -0.998139   \n",
            "\n",
            "   tBodyAcc-std()-Y  tBodyAcc-std()-Z  tBodyAcc-mad()-X  tBodyAcc-mad()-Y  \\\n",
            "0         -0.983111         -0.913526         -0.995112         -0.983185   \n",
            "1         -0.975300         -0.960322         -0.998807         -0.974914   \n",
            "2         -0.967187         -0.978944         -0.996520         -0.963668   \n",
            "3         -0.983403         -0.990675         -0.997099         -0.982750   \n",
            "4         -0.980817         -0.990482         -0.998321         -0.979672   \n",
            "\n",
            "   tBodyAcc-mad()-Z  tBodyAcc-max()-X  ...  fBodyBodyGyroJerkMag-kurtosis()  \\\n",
            "0         -0.923527         -0.934724  ...                        -0.710304   \n",
            "1         -0.957686         -0.943068  ...                        -0.861499   \n",
            "2         -0.977469         -0.938692  ...                        -0.760104   \n",
            "3         -0.989302         -0.938692  ...                        -0.482845   \n",
            "4         -0.990441         -0.942469  ...                        -0.699205   \n",
            "\n",
            "   angle(tBodyAccMean,gravity)  angle(tBodyAccJerkMean),gravityMean)  \\\n",
            "0                    -0.112754                              0.030400   \n",
            "1                     0.053477                             -0.007435   \n",
            "2                    -0.118559                              0.177899   \n",
            "3                    -0.036788                             -0.012892   \n",
            "4                     0.123320                              0.122542   \n",
            "\n",
            "   angle(tBodyGyroMean,gravityMean)  angle(tBodyGyroJerkMean,gravityMean)  \\\n",
            "0                         -0.464761                             -0.018446   \n",
            "1                         -0.732626                              0.703511   \n",
            "2                          0.100699                              0.808529   \n",
            "3                          0.640011                             -0.485366   \n",
            "4                          0.693578                             -0.615971   \n",
            "\n",
            "   angle(X,gravityMean)  angle(Y,gravityMean)  angle(Z,gravityMean)  subject  \\\n",
            "0             -0.841247              0.179941             -0.058627        1   \n",
            "1             -0.844788              0.180289             -0.054317        1   \n",
            "2             -0.848933              0.180637             -0.049118        1   \n",
            "3             -0.848649              0.181935             -0.047663        1   \n",
            "4             -0.847865              0.185151             -0.043892        1   \n",
            "\n",
            "   Activity  \n",
            "0  STANDING  \n",
            "1  STANDING  \n",
            "2  STANDING  \n",
            "3  STANDING  \n",
            "4  STANDING  \n",
            "\n",
            "[5 rows x 563 columns]\n",
            "\n",
            "Missing values: 0\n"
          ]
        }
      ],
      "source": [
        "# Basic EDA\n",
        "print(\"Dataset shape:\", df.shape)\n",
        "print(\"\\nSample rows:\")\n",
        "print(df.head())\n",
        "print(\"\\nMissing values:\", df.isnull().sum().sum())"
      ]
    },
    {
      "cell_type": "code",
      "execution_count": null,
      "metadata": {
        "colab": {
          "base_uri": "https://localhost:8080/"
        },
        "id": "ezz96LhMApHZ",
        "outputId": "b3450405-6b3e-4121-8f02-fbe8de283c97"
      },
      "outputs": [
        {
          "output_type": "stream",
          "name": "stdout",
          "text": [
            "\n",
            "Data types summary:\n",
            "float64    561\n",
            "int64        1\n",
            "object       1\n",
            "Name: count, dtype: int64\n"
          ]
        }
      ],
      "source": [
        "# Drop columns if necessary (none needed here), check datatype\n",
        "print(\"\\nData types summary:\")\n",
        "print(df.dtypes.value_counts())"
      ]
    },
    {
      "cell_type": "code",
      "execution_count": null,
      "metadata": {
        "id": "wbATIe3CAr04"
      },
      "outputs": [],
      "source": [
        "# Encode target variable\n",
        "le = LabelEncoder()\n",
        "df['Activity'] = le.fit_transform(df['Activity'])"
      ]
    },
    {
      "cell_type": "code",
      "execution_count": null,
      "metadata": {
        "id": "gpz-1vTbAtYm"
      },
      "outputs": [],
      "source": [
        "# Features and Target\n",
        "X = df.drop(columns=['Activity', 'subject'])  # Drop subject as it's not a model feature\n",
        "y = df['Activity']"
      ]
    },
    {
      "cell_type": "code",
      "execution_count": null,
      "metadata": {
        "id": "Cpoj_-i6AvWA"
      },
      "outputs": [],
      "source": [
        "# Feature scaling\n",
        "scaler = StandardScaler()\n",
        "X_scaled = scaler.fit_transform(X)"
      ]
    },
    {
      "cell_type": "markdown",
      "source": [
        "Feature Engineering & Train/Test Split\n",
        "\n",
        "We transform raw columns into model-ready features (encoding, scaling, column transforms) and create the train/test split. This isolates a hold-out set so model evaluation reflects generalization rather than memorization."
      ],
      "metadata": {
        "id": "mzIqGGf-mgmX"
      }
    },
    {
      "cell_type": "code",
      "execution_count": null,
      "metadata": {
        "id": "W0gFiiZCAxCd"
      },
      "outputs": [],
      "source": [
        "# Train-Test Split (Stratified for class balance)\n",
        "X_train, X_test, y_train, y_test = train_test_split(\n",
        "    X_scaled, y, test_size=0.2, random_state=42\n",
        ")"
      ]
    },
    {
      "cell_type": "markdown",
      "source": [
        "Modeling & Training\n",
        "\n",
        "The model(s) are instantiated and fitted on the training data. If present, tuning utilities (e.g., GridSearchCV/RandomizedSearchCV) search for better hyperparameters while keeping validation strict and comparable."
      ],
      "metadata": {
        "id": "X9CGqslimmvD"
      }
    },
    {
      "cell_type": "code",
      "execution_count": null,
      "metadata": {
        "id": "cyiRSD-wBBWA"
      },
      "outputs": [],
      "source": [
        "# Sprint 2: Model Training and Initial Fine-Tuning\n",
        "\n",
        "# Define baseline model\n",
        "rfc = RandomForestClassifier(random_state=42)"
      ]
    },
    {
      "cell_type": "code",
      "execution_count": null,
      "metadata": {
        "id": "jD2U_JF9BDz1"
      },
      "outputs": [],
      "source": [
        "# Hyperparameter grid for tuning\n",
        "param_grid = {\n",
        "    'n_estimators': [100, 200],\n",
        "    'max_depth': [None, 10, 20],\n",
        "    'min_samples_split': [2, 5],\n",
        "    'min_samples_leaf': [1, 2],\n",
        "    'bootstrap': [True, False]\n",
        "}"
      ]
    },
    {
      "cell_type": "code",
      "execution_count": null,
      "metadata": {
        "colab": {
          "base_uri": "https://localhost:8080/"
        },
        "id": "_YeSwRO3BHI1",
        "outputId": "c4e1be42-01d5-43e2-98fe-134e3103d9f9"
      },
      "outputs": [
        {
          "output_type": "stream",
          "name": "stdout",
          "text": [
            "\n",
            "🔁 Training RandomForest with GridSearch...\n",
            "Fitting 3 folds for each of 48 candidates, totalling 144 fits\n",
            "\n",
            "✅ Best Parameters:\n",
            "{'bootstrap': False, 'max_depth': None, 'min_samples_leaf': 1, 'min_samples_split': 5, 'n_estimators': 200}\n"
          ]
        }
      ],
      "source": [
        "# GridSearch with 3-fold CV\n",
        "grid_search = GridSearchCV(estimator=rfc, param_grid=param_grid,\n",
        "                           cv=3, n_jobs=-1, verbose=1, scoring='accuracy')\n",
        "\n",
        "print(\"\\n🔁 Training RandomForest with GridSearch...\")\n",
        "grid_search.fit(X_train, y_train)\n",
        "\n",
        "best_model = grid_search.best_estimator_\n",
        "print(\"\\n✅ Best Parameters:\")\n",
        "print(grid_search.best_params_)"
      ]
    },
    {
      "cell_type": "code",
      "execution_count": null,
      "metadata": {
        "id": "b6d8359f",
        "colab": {
          "base_uri": "https://localhost:8080/"
        },
        "outputId": "6249c9f0-7bb6-4599-f4ee-6b73682dbfb8"
      },
      "outputs": [
        {
          "output_type": "stream",
          "name": "stdout",
          "text": [
            "Accuracy with best parameters: 0.9850\n",
            "Classification Report with best parameters:\n",
            "                    precision    recall  f1-score   support\n",
            "\n",
            "            LAYING       1.00      1.00      1.00       280\n",
            "           SITTING       0.97      0.97      0.97       262\n",
            "          STANDING       0.97      0.97      0.97       276\n",
            "           WALKING       1.00      1.00      1.00       247\n",
            "WALKING_DOWNSTAIRS       1.00      0.98      0.99       206\n",
            "  WALKING_UPSTAIRS       0.98      0.99      0.99       200\n",
            "\n",
            "          accuracy                           0.99      1471\n",
            "         macro avg       0.99      0.99      0.99      1471\n",
            "      weighted avg       0.99      0.99      0.99      1471\n",
            "\n"
          ]
        }
      ],
      "source": [
        "# Evaluate the best model\n",
        "y_pred_best = best_model.predict(X_test)\n",
        "accuracy_best = accuracy_score(y_test, y_pred_best)\n",
        "\n",
        "# Get unique labels from the test set\n",
        "unique_labels = np.unique(y_test)\n",
        "\n",
        "report_best = classification_report(y_test, y_pred_best, target_names=le.classes_[unique_labels], labels=unique_labels)\n",
        "\n",
        "print(f\"Accuracy with best parameters: {accuracy_best:.4f}\")\n",
        "print(\"Classification Report with best parameters:\")\n",
        "print(report_best)"
      ]
    },
    {
      "cell_type": "code",
      "execution_count": null,
      "metadata": {
        "id": "ikoNI-kvHAjb",
        "colab": {
          "base_uri": "https://localhost:8080/",
          "height": 715
        },
        "outputId": "edf2aef5-7add-4a8a-a90d-1630dd758715"
      },
      "outputs": [
        {
          "output_type": "display_data",
          "data": {
            "text/plain": [
              "<Figure size 1000x600 with 2 Axes>"
            ],
            "image/png": "[encoded data removed]"
          },
          "metadata": {}
        }
      ],
      "source": [
        "# Confusion Matrix\n",
        "conf_matrix = confusion_matrix(y_test, y_pred_best, labels=unique_labels) # Use y_pred_best and unique_labels\n",
        "activity_labels = le.classes_[unique_labels]  # Get original class labels for unique labels\n",
        "plt.figure(figsize=(10, 6))\n",
        "sns.heatmap(conf_matrix, annot=True, fmt='d', cmap='Blues',\n",
        "            xticklabels=activity_labels, yticklabels=activity_labels)\n",
        "plt.title(\"Confusion Matrix (Best Model)\")\n",
        "plt.xlabel(\"Predicted\")\n",
        "plt.ylabel(\"Actual\")\n",
        "plt.show()"
      ]
    },
    {
      "cell_type": "code",
      "execution_count": null,
      "metadata": {
        "id": "197MKR1yKmRM"
      },
      "outputs": [],
      "source": [
        "# Feature Importance Visualization\n",
        "importances = best_model.feature_importances_\n",
        "indices = np.argsort(importances)[-15:]  # Top 15 features"
      ]
    },
    {
      "cell_type": "code",
      "execution_count": null,
      "metadata": {
        "id": "6g0xwmV2KnUI",
        "colab": {
          "base_uri": "https://localhost:8080/",
          "height": 564
        },
        "outputId": "ef5995f1-029d-47e4-bdef-bf10e4ed72e9"
      },
      "outputs": [
        {
          "output_type": "display_data",
          "data": {
            "text/plain": [
              "<Figure size 1000x600 with 1 Axes>"
            ],
            "image/png": "[encoded data removed]"
          },
          "metadata": {}
        }
      ],
      "source": [
        "plt.figure(figsize=(10, 6))\n",
        "plt.title(\"Top 15 Feature Importances\")\n",
        "plt.barh(range(len(indices)), importances[indices], align='center')\n",
        "plt.yticks(range(len(indices)), [df.columns[i] for i in indices])\n",
        "plt.xlabel(\"Relative Importance\")\n",
        "plt.show()"
      ]
    },
    {
      "cell_type": "code",
      "execution_count": null,
      "metadata": {
        "id": "CWHk-HosMScg"
      },
      "outputs": [],
      "source": [
        "from pathlib import Path\n",
        "import json, joblib, numpy as np, pandas as pd\n",
        "from sklearn.model_selection import train_test_split, GridSearchCV\n",
        "from sklearn.preprocessing import StandardScaler, LabelEncoder\n",
        "from sklearn.pipeline import Pipeline\n",
        "from sklearn.metrics import accuracy_score, f1_score, classification_report, confusion_matrix\n",
        "from sklearn.ensemble import RandomForestClassifier\n",
        "import matplotlib.pyplot as plt\n",
        "\n",
        "RANDOM_STATE = 42\n",
        "ARTIFACTS_DIR = Path(\"artifacts\"); ARTIFACTS_DIR.mkdir(parents=True, exist_ok=True)\n",
        "\n",
        "# <<< set these for your dataset >>>\n",
        "CSV_PATH   = \"/content/train.csv\"\n",
        "TARGET_COL = \"Activity\"\n",
        "DROP_IF_PRESENT = [\"subject\"]\n",
        "\n",
        "def build_pipeline():\n",
        "    return Pipeline([\n",
        "        (\"scaler\", StandardScaler(with_mean=True, with_std=True)),\n",
        "        (\"model\", RandomForestClassifier(random_state=RANDOM_STATE)),\n",
        "    ])\n",
        "\n",
        "def plot_cm(cm, title, out_png):\n",
        "    plt.figure(figsize=(6,5)); plt.imshow(cm, interpolation=\"nearest\"); plt.title(title)\n",
        "    plt.colorbar(); ticks = np.arange(cm.shape[0]); plt.xticks(ticks); plt.yticks(ticks)\n",
        "    plt.ylabel(\"True label\"); plt.xlabel(\"Predicted label\"); plt.tight_layout()\n",
        "    plt.savefig(out_png, dpi=160); plt.close()\n"
      ]
    },
    {
      "cell_type": "code",
      "execution_count": null,
      "metadata": {
        "colab": {
          "base_uri": "https://localhost:8080/"
        },
        "id": "ty4M3KU0MdkR",
        "outputId": "81871c69-046b-4edf-babd-ea87867a06bb"
      },
      "outputs": [
        {
          "output_type": "stream",
          "name": "stdout",
          "text": [
            "Fitting 3 folds for each of 72 candidates, totalling 216 fits\n",
            "=== Summary ===\n",
            "Best params: {'model__bootstrap': False, 'model__max_depth': 20, 'model__min_samples_leaf': 1, 'model__min_samples_split': 2, 'model__n_estimators': 400}\n",
            "VAL:  acc=0.9864  f1_macro=0.9872\n",
            "TEST: acc=0.9828  f1_macro=0.9833\n",
            "Artifacts saved in: /content/artifacts\n"
          ]
        }
      ],
      "source": [
        "df = pd.read_csv(CSV_PATH)\n",
        "assert TARGET_COL in df.columns, f\"Target '{TARGET_COL}' not found. Columns={list(df.columns)}\"\n",
        "\n",
        "# encode target if needed\n",
        "y_raw = df[TARGET_COL]\n",
        "label_encoder = None\n",
        "if y_raw.dtype == \"O\" or str(y_raw.dtype).startswith(\"category\"):\n",
        "    label_encoder = LabelEncoder().fit(y_raw)\n",
        "    y = label_encoder.transform(y_raw)\n",
        "    joblib.dump(label_encoder, ARTIFACTS_DIR / \"label_encoder.joblib\")\n",
        "else:\n",
        "    y = y_raw.values\n",
        "\n",
        "X = df.drop(columns=[c for c in [TARGET_COL, *DROP_IF_PRESENT] if c in df.columns])\n",
        "\n",
        "X_tr, X_tmp, y_tr, y_tmp = train_test_split(X, y, test_size=0.30, random_state=RANDOM_STATE, stratify=y)\n",
        "X_val, X_te,  y_val, y_te = train_test_split(X_tmp, y_tmp, test_size=0.50, random_state=RANDOM_STATE, stratify=y_tmp)\n",
        "\n",
        "pipe = build_pipeline()\n",
        "param_grid = {\n",
        "    \"model__n_estimators\": [100, 200, 400],\n",
        "    \"model__max_depth\": [None, 10, 20],\n",
        "    \"model__min_samples_split\": [2, 5],\n",
        "    \"model__min_samples_leaf\": [1, 2],\n",
        "    \"model__bootstrap\": [True, False],\n",
        "}\n",
        "grid = GridSearchCV(pipe, param_grid, scoring=\"f1_macro\", cv=3, n_jobs=-1, refit=True, verbose=1)\n",
        "grid.fit(X_tr, y_tr)\n",
        "best_model = grid.best_estimator_\n",
        "joblib.dump(best_model, ARTIFACTS_DIR / \"best_model.joblib\")\n",
        "\n",
        "# validation metrics\n",
        "y_val_pred = best_model.predict(X_val)\n",
        "val_acc = accuracy_score(y_val, y_val_pred)\n",
        "val_f1  = f1_score(y_val, y_val_pred, average=\"macro\")\n",
        "plot_cm(confusion_matrix(y_val, y_val_pred), \"Confusion Matrix - Validation\", ARTIFACTS_DIR / \"cm_val.png\")\n",
        "\n",
        "# test metrics (locked)\n",
        "y_te_pred = best_model.predict(X_te)\n",
        "test_acc = accuracy_score(y_te, y_te_pred)\n",
        "test_f1  = f1_score(y_te, y_te_pred, average=\"macro\")\n",
        "plot_cm(confusion_matrix(y_te, y_te_pred), \"Confusion Matrix - Test\", ARTIFACTS_DIR / \"cm_test.png\")\n",
        "\n",
        "with open(ARTIFACTS_DIR / \"classification_report_val.txt\",\"w\") as f: f.write(classification_report(y_val, y_val_pred))\n",
        "with open(ARTIFACTS_DIR / \"classification_report_test.txt\",\"w\") as f: f.write(classification_report(y_te, y_te_pred))\n",
        "\n",
        "metrics = {\"best_params\": grid.best_params_,\n",
        "           \"val\": {\"accuracy\": float(val_acc), \"f1_macro\": float(val_f1)},\n",
        "           \"test\": {\"accuracy\": float(test_acc), \"f1_macro\": float(test_f1)}}\n",
        "with open(ARTIFACTS_DIR / \"metrics.json\", \"w\") as f: json.dump(metrics, f, indent=2)\n",
        "\n",
        "print(\"=== Summary ===\")\n",
        "print(\"Best params:\", grid.best_params_)\n",
        "print(f\"VAL:  acc={val_acc:.4f}  f1_macro={val_f1:.4f}\")\n",
        "print(f\"TEST: acc={test_acc:.4f}  f1_macro={test_f1:.4f}\")\n",
        "print(\"Artifacts saved in:\", ARTIFACTS_DIR.resolve())\n"
      ]
    },
    {
      "cell_type": "code",
      "source": [
        "def plot_cm(cm, title, out_path, classes=None, normalize=False):\n",
        "\n",
        "    if normalize:\n",
        "        row_sums = cm.sum(axis=1, keepdims=True)\n",
        "        row_sums[row_sums == 0] = 1\n",
        "        cm_plot = cm.astype(float) / row_sums\n",
        "        fmt = \".2f\"\n",
        "    else:\n",
        "        cm_plot = cm\n",
        "        fmt = \"d\"\n",
        "\n",
        "    plt.figure(figsize=(6, 5))\n",
        "    ax = sns.heatmap(\n",
        "        cm_plot,\n",
        "        annot=True,\n",
        "        fmt=fmt,\n",
        "        cmap=\"plasma\",\n",
        "        cbar=False,\n",
        "        xticklabels=classes if classes is not None else \"auto\",\n",
        "        yticklabels=classes if classes is not None else \"auto\",\n",
        "        annot_kws={\"fontsize\": 10}\n",
        "    )\n",
        "    ax.set_xlabel(\"Predicted\")\n",
        "    ax.set_ylabel(\"Actual\")\n",
        "    ax.set_title(title)\n",
        "    plt.tight_layout()\n",
        "    plt.savefig(out_path, dpi=200)\n",
        "    plt.close()\n"
      ],
      "metadata": {
        "id": "nXtHBLM-LkxN"
      },
      "execution_count": null,
      "outputs": []
    },
    {
      "cell_type": "code",
      "execution_count": null,
      "metadata": {
        "id": "oX5qRtWoXFSj",
        "colab": {
          "base_uri": "https://localhost:8080/"
        },
        "outputId": "96aa5dc5-cbdb-484d-9860-1ec9ead04e36"
      },
      "outputs": [
        {
          "output_type": "stream",
          "name": "stdout",
          "text": [
            "Predictions for first 5 rows: ['STANDING' 'STANDING' 'STANDING' 'STANDING' 'STANDING']\n"
          ]
        }
      ],
      "source": [
        "import joblib, pandas as pd\n",
        "model = joblib.load(ARTIFACTS_DIR / \"best_model.joblib\")\n",
        "\n",
        "raw = pd.read_csv(CSV_PATH).copy()\n",
        "for c in [TARGET_COL, *DROP_IF_PRESENT]:\n",
        "    if c in raw.columns: raw = raw.drop(columns=[c])\n",
        "\n",
        "N = 5\n",
        "preds = model.predict(raw.head(N))\n",
        "\n",
        "le_path = ARTIFACTS_DIR / \"label_encoder.joblib\"\n",
        "if le_path.exists():\n",
        "    preds = joblib.load(le_path).inverse_transform(preds)\n",
        "\n",
        "print(f\"Predictions for first {N} rows:\", preds)\n"
      ]
    },
    {
      "cell_type": "code",
      "execution_count": null,
      "metadata": {
        "id": "99EKzEYgXITx",
        "colab": {
          "base_uri": "https://localhost:8080/"
        },
        "outputId": "fea7da81-3fa7-427d-c2ca-412fdeb3f5e8"
      },
      "outputs": [
        {
          "output_type": "stream",
          "name": "stdout",
          "text": [
            "{'best_params': {'model__bootstrap': False, 'model__max_depth': 20, 'model__min_samples_leaf': 1, 'model__min_samples_split': 2, 'model__n_estimators': 400}, 'val': {'accuracy': 0.986400725294651, 'f1_macro': 0.9871901889980305}, 'test': {'accuracy': 0.9827742520398912, 'f1_macro': 0.9833118718131942}}\n",
            "PASS: test f1_macro 0.983 ≥ 0.75\n"
          ]
        }
      ],
      "source": [
        "MIN_F1 = 0.75  # adjust to your team’s bar\n",
        "with open(ARTIFACTS_DIR / \"metrics.json\") as f:\n",
        "    m = json.load(f)\n",
        "print(m)\n",
        "if m[\"test\"][\"f1_macro\"] < MIN_F1:\n",
        "    raise RuntimeError(f\"FAIL: test f1_macro {m['test']['f1_macro']:.3f} < {MIN_F1}\")\n",
        "else:\n",
        "    print(f\"PASS: test f1_macro {m['test']['f1_macro']:.3f} ≥ {MIN_F1}\")\n"
      ]
    },
    {
      "cell_type": "code",
      "execution_count": null,
      "metadata": {
        "id": "anLGJGpIVL6d"
      },
      "outputs": [],
      "source": [
        "# ==================== WEEK 8 · Setup & Baseline ====================\n",
        "from pathlib import Path\n",
        "import json, time, base64\n",
        "import numpy as np, pandas as pd\n",
        "import joblib, matplotlib.pyplot as plt\n",
        "\n",
        "from sklearn.model_selection import StratifiedKFold, RandomizedSearchCV, train_test_split, learning_curve\n",
        "from sklearn.preprocessing import LabelEncoder, StandardScaler, label_binarize\n",
        "from sklearn.pipeline import Pipeline\n",
        "from sklearn.feature_selection import SelectKBest, mutual_info_classif\n",
        "from sklearn.ensemble import RandomForestClassifier\n",
        "from sklearn.calibration import CalibratedClassifierCV\n",
        "from sklearn.metrics import accuracy_score, f1_score, confusion_matrix, roc_auc_score\n",
        "from sklearn.inspection import permutation_importance\n",
        "from joblib import Memory\n",
        "\n",
        "# ---- safe fallbacks (match earlier cells; don't touch previous artifacts) ----\n",
        "try: ARTIFACTS_DIR\n",
        "except NameError:\n",
        "    ARTIFACTS_DIR = Path(\"artifacts\")\n",
        "ARTIFACTS_DIR.mkdir(parents=True, exist_ok=True)\n",
        "\n",
        "RANDOM_STATE = 42\n",
        "W8 = ARTIFACTS_DIR / \"week8\"\n",
        "W8.mkdir(parents=True, exist_ok=True)\n",
        "\n",
        "# Load prior baseline if exists\n",
        "baseline_metrics = None\n",
        "if (ARTIFACTS_DIR / \"metrics.json\").exists():\n",
        "    with open(ARTIFACTS_DIR / \"metrics.json\") as f:\n",
        "        baseline_metrics = json.load(f)\n",
        "\n",
        "# ---- data & target encoder (reuse saved encoder if present) ----\n",
        "try: CSV_PATH\n",
        "except NameError: CSV_PATH = \"train.csv\"  # adjust if needed\n",
        "try: TARGET_COL\n",
        "except NameError: TARGET_COL = \"Activity\"\n",
        "try: DROP_IF_PRESENT\n",
        "except NameError: DROP_IF_PRESENT = [\"subject\"]\n",
        "\n",
        "df = pd.read_csv(CSV_PATH)\n",
        "assert TARGET_COL in df, f\"Missing target column: {TARGET_COL}\"\n",
        "\n",
        "le_path = ARTIFACTS_DIR / \"label_encoder.joblib\"\n",
        "if le_path.exists():\n",
        "    le: LabelEncoder = joblib.load(le_path)\n",
        "else:\n",
        "    le = LabelEncoder().fit(df[TARGET_COL])\n",
        "    joblib.dump(le, le_path)\n",
        "\n",
        "y = le.transform(df[TARGET_COL])\n",
        "X = df.drop(columns=[c for c in [TARGET_COL, *DROP_IF_PRESENT] if c in df.columns])\n",
        "n_features = X.shape[1]\n",
        "\n",
        "X_tr, X_tmp, y_tr, y_tmp = train_test_split(X, y, test_size=0.30, stratify=y, random_state=RANDOM_STATE)\n",
        "X_val, X_te,  y_val, y_te  = train_test_split(X_tmp, y_tmp, test_size=0.50, stratify=y_tmp, random_state=RANDOM_STATE)\n",
        "\n",
        "def savefig(path):\n",
        "    plt.tight_layout(); plt.savefig(path, dpi=160, bbox_inches=\"tight\"); plt.close()\n",
        "\n",
        "def eval_all(model, X, y):\n",
        "    yp = model.predict(X)\n",
        "    acc = float((yp == y).mean())\n",
        "    f1m = float(f1_score(y, yp, average=\"macro\"))\n",
        "    auc = None\n",
        "    if hasattr(model, \"predict_proba\"):\n",
        "        proba = model.predict_proba(X)\n",
        "        if len(np.unique(y)) > 2:\n",
        "            yb = label_binarize(y, classes=np.arange(len(le.classes_)))\n",
        "            auc = float(roc_auc_score(yb, proba, average=\"macro\", multi_class=\"ovr\"))\n",
        "        else:\n",
        "            auc = float(roc_auc_score(y, proba[:,1]))\n",
        "    return {\"accuracy\": acc, \"f1_macro\": f1m, \"roc_auc_macro\": auc}\n"
      ]
    },
    {
      "cell_type": "code",
      "source": [
        "# ==================== WEEK 8 · Fast Tuning (No CV, fixed) ====================\n",
        "import time, json, joblib, numpy as np, random\n",
        "from sklearn.ensemble import RandomForestClassifier\n",
        "from sklearn.metrics import f1_score, accuracy_score, confusion_matrix\n",
        "from sklearn.calibration import CalibratedClassifierCV\n",
        "from pathlib import Path\n",
        "\n",
        "W8 = (ARTIFACTS_DIR / \"week8\"); W8.mkdir(parents=True, exist_ok=True)\n",
        "\n",
        "def eval_split(model, X, y):\n",
        "    yhat = model.predict(X)\n",
        "    return float(accuracy_score(y, yhat)), float(f1_score(y, yhat, average=\"macro\")), yhat\n",
        "\n",
        "def to_py(obj):\n",
        "    if isinstance(obj, dict):\n",
        "        return {k: to_py(v) for k, v in obj.items()}\n",
        "    elif isinstance(obj, list):\n",
        "        return [to_py(elem) for elem in obj]\n",
        "    elif isinstance(obj, (np.int64, np.int32, np.int16, np.int8)):\n",
        "        return int(obj)\n",
        "    elif isinstance(obj, (np.float64, np.float32, np.float16)):\n",
        "        return float(obj)\n",
        "    else:\n",
        "        return obj\n",
        "\n",
        "rng = np.random.RandomState(RANDOM_STATE)\n",
        "random.seed(RANDOM_STATE)\n",
        "\n",
        "# Use object dtype (or Python's random.choice) to avoid dtype coercion\n",
        "MAX_FEATURES_CHOICES = np.array([\"sqrt\", \"log2\", 0.5], dtype=object)\n",
        "\n",
        "def sample_params():\n",
        "    return {\n",
        "        \"max_depth\": rng.choice([None, 10, 20, 30]),\n",
        "        \"min_samples_split\": rng.choice([2, 5, 10]),\n",
        "        \"min_samples_leaf\": rng.choice([1, 2, 4]),\n",
        "        \"max_features\": rng.choice(MAX_FEATURES_CHOICES),  # stays correct type\n",
        "    }\n",
        "\n",
        "N_TRIALS = 20         # try 10–20 for speed, 30–40 for a bit more quality\n",
        "BASE_TREES = 100\n",
        "ROW_FRACTION = 0.60   # requires sklearn >= 1.1\n",
        "\n",
        "t0 = time.time()\n",
        "best_f1, best_cfg = -1.0, None\n",
        "\n",
        "print(f\"🔎 Fast tuning over {N_TRIALS} configs…\")\n",
        "for i in range(N_TRIALS):\n",
        "    params = sample_params()\n",
        "    rf = RandomForestClassifier(\n",
        "        n_estimators=BASE_TREES,\n",
        "        class_weight=\"balanced\",\n",
        "        random_state=RANDOM_STATE + i,\n",
        "        n_jobs=-1,\n",
        "        bootstrap=True,\n",
        "        max_samples=ROW_FRACTION,\n",
        "        **params\n",
        "    )\n",
        "    rf.fit(X_tr, y_tr)\n",
        "    _, f1_val, _ = eval_split(rf, X_val, y_val)\n",
        "    if f1_val > best_f1:\n",
        "        best_f1, best_cfg = f1_val, params\n",
        "\n",
        "print(f\"✅ Best (validation F1) during search: {best_f1:.4f} with {best_cfg}\")\n",
        "print(f\"Search time: {time.time()-t0:.1f}s\")\n",
        "\n",
        "# Refit winner bigger on full train\n",
        "FINAL_TREES = 300\n",
        "best_model = RandomForestClassifier(\n",
        "    n_estimators=FINAL_TREES,\n",
        "    class_weight=\"balanced\",\n",
        "    random_state=RANDOM_STATE,\n",
        "    n_jobs=-1,\n",
        "    bootstrap=True,\n",
        "    max_samples=None,\n",
        "    **best_cfg\n",
        ")\n",
        "best_model.fit(X_tr, y_tr)\n",
        "\n",
        "# Quick calibration (prefit) using validation set\n",
        "calibrated = CalibratedClassifierCV(best_model, method=\"sigmoid\", cv=\"prefit\")\n",
        "calibrated.fit(X_val, y_val)\n",
        "\n",
        "# Evaluate\n",
        "val_acc, val_f1, y_val_pred = eval_split(calibrated, X_val, y_val)\n",
        "plot_cm(confusion_matrix(y_val, y_val_pred), \"Confusion Matrix - Validation\", ARTIFACTS_DIR / \"cm_val.png\")\n",
        "\n",
        "test_acc, test_f1, y_te_pred = eval_split(calibrated, X_te, y_te)\n",
        "plot_cm(confusion_matrix(y_te, y_te_pred), \"Confusion Matrix - Test\", ARTIFACTS_DIR / \"cm_test.png\")\n",
        "\n",
        "# 6) Save artifacts (week8 keeps previous safe)\n",
        "joblib.dump(calibrated, W8 / \"best_model_week8.joblib\")\n",
        "\n",
        "metrics = {\n",
        "    \"search\": {\"n_trials\": N_TRIALS, \"base_trees\": BASE_TREES, \"row_fraction\": ROW_FRACTION},\n",
        "    \"best_params\": best_cfg,           # may contain numpy types\n",
        "    \"final_trees\": FINAL_TREES,\n",
        "    \"val\": {\"accuracy\": val_acc, \"f1_macro\": val_f1},\n",
        "    \"test\": {\"accuracy\": test_acc, \"f1_macro\": test_f1}\n",
        "}\n",
        "# Sanitize to JSON-safe types\n",
        "metrics = to_py(metrics)\n",
        "\n",
        "with open(W8 / \"metrics_week8.json\", \"w\") as f:\n",
        "    json.dump(metrics, f, indent=2)\n",
        "\n",
        "print(\"=== Week 8 (FAST) Summary ===\")\n",
        "print(\"Best params:\", best_cfg)\n",
        "print(f\"VAL:  acc={val_acc:.4f}  f1_macro={val_f1:.4f}\")\n",
        "print(f\"TEST: acc={test_acc:.4f}  f1_macro={test_f1:.4f}\")\n",
        "print(\"Artifacts:\", W8.resolve())"
      ],
      "metadata": {
        "colab": {
          "base_uri": "https://localhost:8080/"
        },
        "id": "DyAWtNHrebsK",
        "outputId": "47ed61d5-258c-43b3-9fb2-0ffe43375523"
      },
      "execution_count": null,
      "outputs": [
        {
          "output_type": "stream",
          "name": "stdout",
          "text": [
            "🔎 Fast tuning over 20 configs…\n",
            "✅ Best (validation F1) during search: 0.9801 with {'max_depth': None, 'min_samples_split': np.int64(5), 'min_samples_leaf': np.int64(2), 'max_features': 'log2'}\n",
            "Search time: 546.5s\n"
          ]
        },
        {
          "output_type": "stream",
          "name": "stderr",
          "text": [
            "/usr/local/lib/python3.12/dist-packages/sklearn/calibration.py:333: UserWarning: The `cv='prefit'` option is deprecated in 1.6 and will be removed in 1.8. You can use CalibratedClassifierCV(FrozenEstimator(estimator)) instead.\n",
            "  warnings.warn(\n"
          ]
        },
        {
          "output_type": "stream",
          "name": "stdout",
          "text": [
            "=== Week 8 (FAST) Summary ===\n",
            "Best params: {'max_depth': None, 'min_samples_split': np.int64(5), 'min_samples_leaf': np.int64(2), 'max_features': 'log2'}\n",
            "VAL:  acc=0.9819  f1_macro=0.9828\n",
            "TEST: acc=0.9791  f1_macro=0.9796\n",
            "Artifacts: /content/artifacts/week8\n"
          ]
        }
      ]
    },
    {
      "cell_type": "code",
      "source": [
        "# ---- Week 8 Patch (fixed): add latency + light model without using base_estimator ----\n",
        "import json, time, joblib\n",
        "from pathlib import Path\n",
        "from sklearn.ensemble import RandomForestClassifier\n",
        "from sklearn.metrics import accuracy_score, f1_score\n",
        "\n",
        "W8 = ARTIFACTS_DIR / \"week8\"\n",
        "\n",
        "# Load metrics and the calibrated model you saved earlier\n",
        "with open(W8 / \"metrics_week8.json\") as f:\n",
        "    m8 = json.load(f)\n",
        "calibrated = joblib.load(W8 / \"best_model_week8.joblib\")  # CalibratedClassifierCV\n",
        "\n",
        "# 1) Add latency if missing\n",
        "if \"latency_ms_per_sample\" not in m8:\n",
        "    n = min(2000, len(X_te))\n",
        "    t0 = time.time()\n",
        "    _ = calibrated.predict(X_te.iloc[:n])\n",
        "    m8[\"latency_ms_per_sample\"] = round(1000.0 * (time.time() - t0) / n, 4)\n",
        "    print(\"Added latency_ms_per_sample:\", m8[\"latency_ms_per_sample\"])\n",
        "\n",
        "# 2) Add a light model if missing — build it from saved best_params + final_trees\n",
        "if \"light\" not in m8:\n",
        "    best = m8.get(\"best_params\", {})\n",
        "    final_trees = int(m8.get(\"final_trees\", 300))\n",
        "    n_small = max(60, final_trees // 2)   # ~half the trees, at least 60\n",
        "\n",
        "    light = RandomForestClassifier(\n",
        "        n_estimators=n_small,\n",
        "        class_weight=\"balanced\",\n",
        "        random_state=42,\n",
        "        n_jobs=-1,\n",
        "        bootstrap=True,\n",
        "        # carry over tuned knobs if present:\n",
        "        max_depth=best.get(\"max_depth\", None),\n",
        "        min_samples_split=best.get(\"min_samples_split\", 2),\n",
        "        min_samples_leaf=best.get(\"min_samples_leaf\", 1),\n",
        "        max_features=best.get(\"max_features\", \"sqrt\"),\n",
        "    )\n",
        "    light.fit(X_tr, y_tr)\n",
        "    y_pred = light.predict(X_te)\n",
        "    m8[\"light\"] = {\n",
        "        \"n_estimators\": int(n_small),\n",
        "        \"test\": {\n",
        "            \"accuracy\": float(accuracy_score(y_te, y_pred)),\n",
        "            \"f1_macro\": float(f1_score(y_te, y_pred, average=\"macro\")),\n",
        "        },\n",
        "    }\n",
        "    joblib.dump(light, W8 / \"light_model_week8.joblib\")\n",
        "    print(\"Created light_model_week8.joblib with n_estimators:\", n_small)\n",
        "\n",
        "# Save back\n",
        "with open(W8 / \"metrics_week8.json\", \"w\") as f:\n",
        "    json.dump(m8, f, indent=2)\n",
        "\n",
        "print(\"Patched metrics_week8.json ✓\")\n"
      ],
      "metadata": {
        "id": "lsPuQbhbksIB",
        "outputId": "6ad07ebf-5d4f-4767-8eec-28f81fbe17ef",
        "colab": {
          "base_uri": "https://localhost:8080/"
        }
      },
      "execution_count": null,
      "outputs": [
        {
          "output_type": "stream",
          "name": "stdout",
          "text": [
            "Added latency_ms_per_sample: 0.1028\n",
            "Created light_model_week8.joblib with n_estimators: 150\n",
            "Patched metrics_week8.json ✓\n"
          ]
        }
      ]
    },
    {
      "cell_type": "code",
      "source": [
        "# ==================== WEEK 9 · Reporting Interface (robust) ====================\n",
        "from pathlib import Path\n",
        "import base64, json, pandas as pd, joblib\n",
        "\n",
        "W9 = ARTIFACTS_DIR / \"week9\"\n",
        "W9.mkdir(parents=True, exist_ok=True)\n",
        "\n",
        "def _b64(p: Path):\n",
        "    with open(p, \"rb\") as f:\n",
        "        return base64.b64encode(f.read()).decode(\"ascii\")\n",
        "\n",
        "def first_existing(paths):\n",
        "    for p in paths:\n",
        "        p = Path(p)\n",
        "        if p.exists():\n",
        "            return p\n",
        "    return None\n",
        "\n",
        "# Load week8 metrics\n",
        "with open(W8 / \"metrics_week8.json\") as f:\n",
        "    m8 = json.load(f)\n",
        "\n",
        "# Compute deltas vs baseline (if present)\n",
        "baseline_f1 = None\n",
        "if m8.get(\"baseline\") and isinstance(m8[\"baseline\"], dict) and m8[\"baseline\"].get(\"test\"):\n",
        "    baseline_f1 = m8[\"baseline\"][\"test\"].get(\"f1_macro\")\n",
        "delta_f1 = None if baseline_f1 is None else round(m8[\"test\"][\"f1_macro\"] - baseline_f1, 4)\n",
        "\n",
        "# Safe pulls with defaults\n",
        "lat = m8.get(\"latency_ms_per_sample\", \"N/A\")\n",
        "rocauc = m8.get(\"test\", {}).get(\"roc_auc_macro\")\n",
        "light = m8.get(\"light\", {})\n",
        "light_n = light.get(\"n_estimators\", \"N/A\")\n",
        "light_f1 = light.get(\"test\", {}).get(\"f1_macro\", \"N/A\")\n",
        "tuning_time = m8.get(\"tuning_time_sec\", \"N/A\")\n",
        "\n",
        "# Save a flat CSV for dashboards (robust to missing keys)\n",
        "pd.DataFrame([{\n",
        "    \"f1_macro_test\": m8[\"test\"][\"f1_macro\"],\n",
        "    \"accuracy_test\": m8[\"test\"][\"accuracy\"],\n",
        "    \"roc_auc_macro_test\": rocauc,\n",
        "    \"latency_ms_per_sample\": lat,\n",
        "    \"light_n_estimators\": light_n,\n",
        "    \"light_f1_macro_test\": light_f1,\n",
        "    \"delta_f1_vs_baseline\": delta_f1,\n",
        "}]).to_csv(W9 / \"summary_metrics_week9.csv\", index=False)\n",
        "\n",
        "# Locate visuals (with fallbacks)\n",
        "cm_path = first_existing([\n",
        "    W8 / \"confusion_matrix.png\",      # created by the longer Week-8 path\n",
        "    ARTIFACTS_DIR / \"cm_test.png\",    # created by the fast path\n",
        "    ARTIFACTS_DIR / \"cm_val.png\",\n",
        "])\n",
        "lc_path   = first_existing([W8 / \"learning_curve.png\"])\n",
        "perm_path = first_existing([W8 / \"permutation_importances.png\"])\n",
        "\n",
        "def img_or_note(p: Path, alt: str):\n",
        "    if p and Path(p).exists():\n",
        "        return f\"<img src='data:image/png;base64,{_b64(p)}' alt='{alt}'/>\"\n",
        "    return f\"<p style='color:#666'>({alt} not available for this run)</p>\"\n",
        "\n",
        "visuals_html = f\"\"\"\n",
        "<h2>Key Visuals</h2>\n",
        "{img_or_note(cm_path, \"Confusion Matrix\")}\n",
        "{img_or_note(lc_path, \"Learning Curve\")}\n",
        "{img_or_note(perm_path, \"Permutation Importances\")}\n",
        "\"\"\"\n",
        "\n",
        "# Build HTML\n",
        "html = f\"\"\"\n",
        "<!doctype html><html><head><meta charset='utf-8'/>\n",
        "<title>AI & IoT – Week 9 Report</title>\n",
        "<style>\n",
        "body{{font-family:system-ui,Segoe UI,Roboto,Arial;padding:20px}}\n",
        "h1,h2{{margin:0.3rem 0}}\n",
        ".grid{{display:grid;grid-template-columns:repeat(4,minmax(160px,1fr));gap:12px}}\n",
        ".card{{border:1px solid #ddd;border-radius:10px;padding:12px}}\n",
        "table{{border-collapse:collapse;width:100%}}\n",
        "td,th{{border:1px solid #ddd;padding:6px 8px;text-align:left}}\n",
        "img{{max-width:100%;border:1px solid #eee;border-radius:8px}}\n",
        "</style></head><body>\n",
        "<h1>Week 9 – Finalized Reporting Interface</h1>\n",
        "<div class=\"grid\">\n",
        "  <div class=\"card\"><h2>F1 (Test)</h2><p>{m8['test']['f1_macro']:.4f}</p></div>\n",
        "  <div class=\"card\"><h2>Accuracy</h2><p>{m8['test']['accuracy']:.4f}</p></div>\n",
        "  <div class=\"card\"><h2>Δ F1 vs Baseline</h2><p>{'N/A' if delta_f1 is None else f'{delta_f1:+.4f}'}</p></div>\n",
        "  <div class=\"card\"><h2>Latency</h2><p>{lat} ms/sample</p></div>\n",
        "</div>\n",
        "\n",
        "{visuals_html}\n",
        "\n",
        "<h2>Model Details</h2>\n",
        "<table><tbody>\n",
        "<tr><td>Best Params</td><td><pre>{json.dumps(m8.get('best_params', {}), indent=2)}</pre></td></tr>\n",
        "<tr><td>Light Model</td><td>n_estimators: {light_n}, F1 (test): {light_f1}</td></tr>\n",
        "<tr><td>Tuning Time (s)</td><td>{tuning_time}</td></tr>\n",
        "</tbody></table>\n",
        "\n",
        "<h2>Files</h2>\n",
        "<ul>\n",
        "  <li>summary_metrics_week9.csv</li>\n",
        "  <li>best_model_week8.joblib</li>\n",
        "  <li>light_model_week8.joblib</li>\n",
        "</ul>\n",
        "</body></html>\n",
        "\"\"\"\n",
        "\n",
        "with open(W9 / \"week9_report.html\", \"w\", encoding=\"utf-8\") as f:\n",
        "    f.write(html)\n",
        "\n",
        "# Quality gate\n",
        "MIN_F1 = 0.75\n",
        "if m8[\"test\"][\"f1_macro\"] < MIN_F1:\n",
        "    print(f\"QUALITY GATE: FAIL — F1 {m8['test']['f1_macro']:.3f} < {MIN_F1}\")\n",
        "else:\n",
        "    print(f\"QUALITY GATE: PASS — F1 {m8['test']['f1_macro']:.3f} ≥ {MIN_F1}\")\n",
        "\n",
        "print(\"Week 9 report ready:\", (W9 / \"week9_report.html\").resolve())\n"
      ],
      "metadata": {
        "id": "yn8ez0EHj4Cp",
        "outputId": "8c3028cf-08e9-46f1-e932-280801731793",
        "colab": {
          "base_uri": "https://localhost:8080/"
        }
      },
      "execution_count": null,
      "outputs": [
        {
          "output_type": "stream",
          "name": "stdout",
          "text": [
            "QUALITY GATE: PASS — F1 0.980 ≥ 0.75\n",
            "Week 9 report ready: /content/artifacts/week9/week9_report.html\n"
          ]
        }
      ]
    },
    {
      "cell_type": "markdown",
      "source": [
        "Final Reflection\n",
        "\n",
        "Learning from the project\n",
        "\n",
        "*   Gained hands-on experience in Human Activity Recognition (HAR) using machine learning.\n",
        "*   Understood the importance of preprocessing steps like cleaning, encoding, scaling, and stratified splitting.\n",
        "\n",
        "Model building insights\n",
        "\n",
        "*   RandomForest proved effective, especially after hyperparameter tuning with GridSearchCV.\n",
        "*   Feature importance analysis gave clarity on which attributes mattered most.\n",
        "*   Learned how model interpretability helps in validating decisions and guiding future improvements.\n",
        "\n",
        "Challenges faced\n",
        "\n",
        "*   Balancing accuracy with efficiency while keeping models reproducible.\n",
        "*   Human activity data is highly variable — ensuring generalization across subjects was difficult.\n",
        "\n",
        "Key takeaways\n",
        "\n",
        "*   Hyperparameter tuning can significantly improve performance.\n",
        "*   Advanced models like Gradient Boosting, LSTMs, or Transformers may capture temporal patterns better.\n",
        "*   Subject-wise validation and personalization approaches could improve fairness and reliability.\n",
        "\n",
        "Next steps for improvement\n",
        "\n",
        "*   Explore sequence models to capture time-based behavior.\n",
        "*   Apply dimensionality reduction or sensor fusion for efficiency.Strengthen evaluation with unseen individuals to test generalization.\n",
        "*   Consider deployment strategies with monitoring (MLOps) to handle model drift.\n",
        "\n",
        "Responsible AI considerations\n",
        "\n",
        "*   HAR systems deal with personal data — privacy and security must be prioritized.\n",
        "*   Ensure fairness, transparency, and accountability in design and deployment.\n",
        "\n",
        "Overall reflection\n",
        "\n",
        "*   This project was more than just about accuracy — it was about designing a system that is interpretable, ethical, and sustainable.\n",
        "*   It gave us a strong foundation in applying AI responsibly to real-world behavioral data.\n",
        "\n",
        "\n",
        "\n",
        "\n",
        "\n",
        "\n",
        "\n",
        "\n",
        "\n",
        "\n",
        "\n",
        "\n",
        "\n",
        "\n",
        "\n",
        "\n",
        "\n",
        "\n",
        "\n",
        "\n"
      ],
      "metadata": {
        "id": "KGPwoQ9nYnr7"
      }
    }
  ],
  "metadata": {
    "colab": {
      "provenance": []
    },
    "kernelspec": {
      "display_name": "Python 3",
      "name": "python3"
    },
    "language_info": {
      "name": "python"
    }
  },
  "nbformat": 4,
  "nbformat_minor": 0
}