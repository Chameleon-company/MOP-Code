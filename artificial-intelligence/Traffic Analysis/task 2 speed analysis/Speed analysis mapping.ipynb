{
 "cells": [
  {
   "cell_type": "code",
   "execution_count": null,
   "id": "74677c43-807b-41b6-9143-e454b541cb70",
   "metadata": {},
   "outputs": [],
   "source": [
    "import pandas as pd\n",
    "import folium\n",
    "from folium.plugins import MarkerCluster, HeatMap\n",
    "\n",
    "df = pd.read_csv(\"merged_traffic_data.csv\")"
   ]
  },
  {
   "cell_type": "code",
   "execution_count": null,
   "id": "c56b40e2-7f3b-4a07-b085-09c4184c358e",
   "metadata": {},
   "outputs": [],
   "source": [
    "#Create a new column 'is_speeding' to indicate whether speeding occurred\n",
    "df['is_speeding'] = df['maximum_speed'] > df['speed_limit']"
   ]
  },
  {
   "cell_type": "code",
   "execution_count": null,
   "id": "764def50-d499-4af8-afaf-1168e73b8675",
   "metadata": {},
   "outputs": [],
   "source": [
    "#Filtering for speeding values and remove rows with nan in Latitude/Longitude\n",
    "speeding_df = df[df['is_speeding']].dropna(subset=['Latitude', 'Longitude'])\n",
    "\n",
    "#Check if there are any speeding incidents\n",
    "if not speeding_df.empty:\n",
    "    m = folium.Map(\n",
    "        location=[speeding_df['Latitude'].mean(), speeding_df['Longitude'].mean()],\n",
    "        zoom_start=12\n",
    "    )\n",
    "\n",
    "    #Create a marker cluster\n",
    "    marker_cluster = MarkerCluster().add_to(m)\n",
    "\n",
    "    #Add points for each speeding incident to the marker cluster\n",
    "    for _, row in speeding_df.iterrows():\n",
    "        folium.Marker(\n",
    "            location=[row['Latitude'], row['Longitude']],\n",
    "            popup=f\"Max Speed: {row['maximum_speed']} km/h, Limit: {row['speed_limit']} km/h\",\n",
    "            icon=folium.Icon(color='red', icon='exclamation-sign')\n",
    "        ).add_to(marker_cluster)\n",
    "\n",
    "    m.save(\"speeding_incidents_cluster_map.html\")\n",
    "    display(m)\n",
    "else:\n",
    "    print(\"No valid speeding incidents with location data found.\")\n"
   ]
  },
  {
   "cell_type": "code",
   "execution_count": null,
   "id": "2d7dea35-6f95-47c0-b5ed-faa3eecf3edd",
   "metadata": {},
   "outputs": [],
   "source": [
    "#Filter for speeding incidents and remove any rows with NaN in Latitude or Longitude\n",
    "speeding_df = df[df['is_speeding']].dropna(subset=['Latitude', 'Longitude'])\n",
    "\n",
    "#Check if there are any speeding incidents\n",
    "if not speeding_df.empty:\n",
    "    #Create a map centered around the mean latitude and longitude of speeding incidents\n",
    "    m = folium.Map(\n",
    "        location=[speeding_df['Latitude'].mean(), speeding_df['Longitude'].mean()],\n",
    "        zoom_start=12\n",
    "    )\n",
    "\n",
    "    #Add heatmap to map\n",
    "    heat_data = speeding_df[['Latitude', 'Longitude']].values.tolist()\n",
    "\n",
    "    HeatMap(heat_data, radius=10).add_to(m)\n",
    "\n",
    "    m.save(\"speeding_incidents_heatmap.html\")\n",
    "    display(m)\n",
    "else:\n",
    "    print(\"No valid speeding incidents with location data found.\")\n"
   ]
  }
 ],
 "metadata": {
  "kernelspec": {
   "display_name": "Python 3 (ipykernel)",
   "language": "python",
   "name": "python3"
  },
  "language_info": {
   "codemirror_mode": {
    "name": "ipython",
    "version": 3
   },
   "file_extension": ".py",
   "mimetype": "text/x-python",
   "name": "python",
   "nbconvert_exporter": "python",
   "pygments_lexer": "ipython3",
   "version": "3.11.8"
  }
 },
 "nbformat": 4,
 "nbformat_minor": 5
}
