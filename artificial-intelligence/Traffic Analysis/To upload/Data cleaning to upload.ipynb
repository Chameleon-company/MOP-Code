{
 "cells": [
  {
   "cell_type": "code",
   "execution_count": 1,
   "id": "324f2aeb-5eb7-41fe-aef1-db38aa6eb19f",
   "metadata": {},
   "outputs": [],
   "source": [
    "import numpy as np\n",
    "import pandas as pd\n",
    "from sklearn.preprocessing import LabelEncoder\n",
    "\n",
    "df = pd.read_csv(\"traffic-count-vehicle-classification-2014-2017.csv\")\n",
    "\n",
    "#Removing these two columns as they mostly are missing values, only 5k rows with data.\n",
    "#Also checking the db dictionary guide, I don't believe these features provide valuable insights\n",
    "df = df.drop([\"road_segment_1\" , \"road_segment_2\"],axis = 1)"
   ]
  },
  {
   "cell_type": "code",
   "execution_count": 2,
   "id": "75182515-1ad4-4dc3-970b-6f445b6fb5c0",
   "metadata": {},
   "outputs": [
    {
     "name": "stdout",
     "output_type": "stream",
     "text": [
      "        date        road_name                    location      suburb  \\\n",
      "0 2014-10-11  Wolseley Parade  North East of Derby Street  Kensington   \n",
      "1 2014-10-11  Wolseley Parade  North East of Derby Street  Kensington   \n",
      "2 2014-10-11  Wolseley Parade  North East of Derby Street  Kensington   \n",
      "3 2014-11-11  Wolseley Parade  North East of Derby Street  Kensington   \n",
      "5 2014-11-11  Wolseley Parade  North East of Derby Street  Kensington   \n",
      "\n",
      "   speed_limit direction                time  vehicle_class_1  \\\n",
      "0           50         W 1900-01-01 16:00:00             24.0   \n",
      "1           50         W 1900-01-01 17:00:00             42.0   \n",
      "2           50         W 1900-01-01 18:00:00             33.0   \n",
      "3           50         W 1900-01-01 02:00:00              3.0   \n",
      "5           50         W 1900-01-01 05:00:00              1.0   \n",
      "\n",
      "   vehicle_class_2  vehicle_class_3  ...  vehicle_class_10  vehicle_class_11  \\\n",
      "0              0.0              0.0  ...               0.0               0.0   \n",
      "1              0.0              0.0  ...               0.0               0.0   \n",
      "2              0.0              1.0  ...               0.0               0.0   \n",
      "3              0.0              0.0  ...               0.0               0.0   \n",
      "5              0.0              0.0  ...               0.0               0.0   \n",
      "\n",
      "   vehicle_class_12  vehicle_class_13  motorcycle  bike  average_speed  \\\n",
      "0               0.0               0.0         0.0   0.0           35.5   \n",
      "1               0.0               0.0         0.0   0.0           33.8   \n",
      "2               0.0               0.0         0.0   0.0           36.9   \n",
      "3               0.0               0.0         0.0   0.0           30.7   \n",
      "5               0.0               0.0         0.0   0.0           37.0   \n",
      "\n",
      "   85th_percentile_speed  maximum_speed  road_segment  \n",
      "0                   40.4           47.0         21727  \n",
      "1                   40.7           47.0         21727  \n",
      "2                   42.9           47.0         21727  \n",
      "3                   33.7           47.0         21727  \n",
      "5                   37.0           47.0         21727  \n",
      "\n",
      "[5 rows x 26 columns]\n"
     ]
    }
   ],
   "source": [
    "#Remove 112 samples where no vehicle data was captured\n",
    "df1 = df.dropna(subset = [\"vehicle_class_1\"])\n",
    "\n",
    "#Removing 5k rows in speed related columns where there are missing values\n",
    "#Represents removal of about 8% of data. Should we use KNN instead and generate values?\n",
    "df1 = df1.dropna(subset = [\"average_speed\", \"85th_percentile_speed\"])\n",
    "\n",
    "#Replacing nan values in these columns with 0 vehicles\n",
    "df1[[\"motorcycle\", \"bike\"]] = df1[[\"motorcycle\", \"bike\"]].fillna(0)\n",
    "\n",
    "#Convert date and time from str to datetime\n",
    "df1['date'] = pd.to_datetime(df1['date'], format='%Y-%m-%d')\n",
    "df1['time'] = pd.to_datetime(df1['time'], format='%H:%M')\n",
    "\n",
    "#Replacing \"-\" values with nan in max speed\n",
    "df1['maximum_speed'] = df1['maximum_speed'].replace('-', np.nan)\n",
    "\n",
    "#Convert max speed to numeric\n",
    "df1['maximum_speed'] = pd.to_numeric(df1['maximum_speed'])\n",
    "\n",
    "#Replacing nans in maximum speed with the median\n",
    "if 'maximum_speed' in df1.columns:\n",
    "    # Calculate the median of the 'maximum_speed' column\n",
    "    median_average_speed = df1['maximum_speed'].median()\n",
    " \n",
    "    # Replace NaN values in the 'maximum_speed' column with the mean\n",
    "    df1['maximum_speed'] =  df1['maximum_speed'].fillna(median_average_speed)\n",
    " \n",
    "    # Display the updated DataFrame\n",
    "    print(df1.head())\n",
    "else:\n",
    "    print(\"The 'maximum_speed' column does not exist in the DataFrame.\")\n",
    "\n",
    "#Encoding string features into labels\n",
    "df1[[\"road_name\", \"location\", \"suburb\", \"direction\"]] = df1[[\"road_name\", \"location\", \"suburb\", \"direction\"]].apply(LabelEncoder().fit_transform)"
   ]
  },
  {
   "cell_type": "code",
   "execution_count": 4,
   "id": "78f22be6-91f1-46a7-9bc4-3ab119a89328",
   "metadata": {},
   "outputs": [],
   "source": [
    "df1.to_csv(r\"traffic_count_cleaned_data.csv\", index=False)"
   ]
  },
  {
   "cell_type": "code",
   "execution_count": 3,
   "id": "9d43fc87-689e-442a-bf75-7fae9f881606",
   "metadata": {},
   "outputs": [
    {
     "name": "stdout",
     "output_type": "stream",
     "text": [
      "Column: date, Type of first element: <class 'pandas._libs.tslibs.timestamps.Timestamp'>\n",
      "Column: road_name, Type of first element: <class 'numpy.int64'>\n",
      "Column: location, Type of first element: <class 'numpy.int64'>\n",
      "Column: suburb, Type of first element: <class 'numpy.int64'>\n",
      "Column: speed_limit, Type of first element: <class 'numpy.int64'>\n",
      "Column: direction, Type of first element: <class 'numpy.int64'>\n",
      "Column: time, Type of first element: <class 'pandas._libs.tslibs.timestamps.Timestamp'>\n",
      "Column: vehicle_class_1, Type of first element: <class 'numpy.float64'>\n",
      "Column: vehicle_class_2, Type of first element: <class 'numpy.float64'>\n",
      "Column: vehicle_class_3, Type of first element: <class 'numpy.float64'>\n",
      "Column: vehicle_class_4, Type of first element: <class 'numpy.float64'>\n",
      "Column: vehicle_class_5, Type of first element: <class 'numpy.float64'>\n",
      "Column: vehicle_class_6, Type of first element: <class 'numpy.float64'>\n",
      "Column: vehicle_class_7, Type of first element: <class 'numpy.float64'>\n",
      "Column: vehicle_class_8, Type of first element: <class 'numpy.float64'>\n",
      "Column: vehicle_class_9, Type of first element: <class 'numpy.float64'>\n",
      "Column: vehicle_class_10, Type of first element: <class 'numpy.float64'>\n",
      "Column: vehicle_class_11, Type of first element: <class 'numpy.float64'>\n",
      "Column: vehicle_class_12, Type of first element: <class 'numpy.float64'>\n",
      "Column: vehicle_class_13, Type of first element: <class 'numpy.float64'>\n",
      "Column: motorcycle, Type of first element: <class 'numpy.float64'>\n",
      "Column: bike, Type of first element: <class 'numpy.float64'>\n",
      "Column: average_speed, Type of first element: <class 'numpy.float64'>\n",
      "Column: 85th_percentile_speed, Type of first element: <class 'numpy.float64'>\n",
      "Column: maximum_speed, Type of first element: <class 'numpy.float64'>\n",
      "Column: road_segment, Type of first element: <class 'numpy.int64'>\n"
     ]
    }
   ],
   "source": [
    "for column in df1.columns:\n",
    "    print(f\"Column: {column}, Type of first element: {type(df1[column].iloc[0])}\")\n"
   ]
  },
  {
   "cell_type": "code",
   "execution_count": null,
   "id": "93623d7e-da1a-4022-9b16-89555eac5a29",
   "metadata": {},
   "outputs": [],
   "source": []
  }
 ],
 "metadata": {
  "kernelspec": {
   "display_name": "Python 3 (ipykernel)",
   "language": "python",
   "name": "python3"
  },
  "language_info": {
   "codemirror_mode": {
    "name": "ipython",
    "version": 3
   },
   "file_extension": ".py",
   "mimetype": "text/x-python",
   "name": "python",
   "nbconvert_exporter": "python",
   "pygments_lexer": "ipython3",
   "version": "3.11.8"
  }
 },
 "nbformat": 4,
 "nbformat_minor": 5
}
