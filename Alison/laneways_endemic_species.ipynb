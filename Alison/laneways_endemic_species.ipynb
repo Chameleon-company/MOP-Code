{
 "cells": [
  {
   "cell_type": "markdown",
   "metadata": {},
   "source": [
    "<div class=\"usecase-title\">Endemic Species Planting in laneways - User interactive</div>"
   ]
  },
  {
   "cell_type": "markdown",
   "metadata": {},
   "source": [
    "<div class=\"usecase-authors\"><b>Authored by: </b>Alison Collins</div>\n",
    "<div class=\"usecase-duration\"><b>Duration: </b>60 mins</div>\n",
    "<div class=\"usecase-level\"><b>Level: </b>beginner</div>\n",
    "<div class=\"usecase-skill\"><b>Pre-requisite Skills: </b>Python</div>"
   ]
  },
  {
   "cell_type": "markdown",
   "metadata": {},
   "source": [
    "<div class=\"usecase-section-header\">Scenario</div>"
   ]
  },
  {
   "cell_type": "markdown",
   "metadata": {},
   "source": [
    "1. I am a resident living in Melbourne who wishes to take part in the greening Melbourne's laneways program. I want to know the best native species to plant in the laneway near me.\n",
    "\n",
    "2. I am a city planner involved in the Green Your Laneway program and I wish to know which native plants would be suited to the laneway I am considering for planting."
   ]
  },
  {
   "cell_type": "markdown",
   "metadata": {},
   "source": [
    "At the end of this use case you will be able to:\n",
    "* Import data using API v2.1\n",
    "* Preprocess data including mapping categorical data to numerical\n",
    "* Use input function to allow user interaction\n",
    "* Create dynamic graph\n",
    "* Open webpage direct from use case code"
   ]
  },
  {
   "cell_type": "markdown",
   "metadata": {},
   "source": [
    "<div class=\"usecase-section-header\">Why the interest in laneway greenery?<div>"
   ]
  },
  {
   "cell_type": "markdown",
   "metadata": {},
   "source": [
    "##### **The benefits of planting vegetation in cities includes:**\n",
    "- oxygen production for fresh air to breathe\n",
    "- storage of carbon dioxide, helping reduce green house gases\n",
    "- trees absorb water, helping reduce flooding events\n",
    "- evapotranspiration from leaves produces a cooling effect, reducing heat waves\n",
    "- provide habitats for wildlife\n",
    "- trees reduce cortisol in our brains, improving mental health and wellbeing\n",
    "\n",
    "More information:\n",
    "https://www.treesforcities.org/stories/trees-in-our-cities-10-reasons-we-need-to-plant-more\n",
    "\n",
    "##### **Why plant native species?**\n",
    "- these species are naturally homes to native wildlife, so encourging native wildlife numbers\n",
    "- they are adapted to the environment, requiring less time in maintinence\n",
    "- helps prevent biodiversity, reduing species loss and regaining historical species balance\n",
    "\n",
    "More information: https://resources.austplants.com.au/information/gardening-with-native-plants/"
   ]
  },
  {
   "cell_type": "markdown",
   "metadata": {},
   "source": [
    "<div class=\"usecase-section-header\">Relevant datasets<div>"
   ]
  },
  {
   "cell_type": "markdown",
   "metadata": {},
   "source": [
    "[Pre-Colonial Plant List](https://data.melbourne.vic.gov.au/explore/dataset/pre-colonial-plant-list/export/)\n",
    "\n",
    "- The flora of Melbourne species list was compared again histroical observation records and specimens to determine historical occurence of flora in the city. Plant names as well as growing environment can be found in this dataset. The plants have been rated as most likely to be found in each environment. The highest rating is 3.2. Only plants rated 3.2 will be returned in this Use Case (but there is opportunity for the user to adjust this value).\n",
    "\n",
    "[Laneways with Greening Potential](https://data.melbourne.vic.gov.au/explore/dataset/laneways-with-greening-potential/export/)\n",
    "- The City of Melbourne collected data analysing the best potential type of plantings in each of the city laneways; farm plantings, park species, vertically growing species and forest type species. Each type of planting was given a categorical value of potential for types of planting: Highest, Good, Some or Lowest. For analysis these categorical values were converted into numerical values using the following table:\n",
    "<div align = \"center\">\n",
    "\n",
    "| Categorical Value | New Value |\n",
    "|:-----------------:|:---------:|\n",
    "| Highest Potential |     4     |\n",
    "|   Good Potential  |     3     |\n",
    "|   Some Potential  |     2     |\n",
    "| Lowest Potential  |     1     |\n",
    "\n",
    "</div>\n"
   ]
  },
  {
   "cell_type": "markdown",
   "metadata": {},
   "source": [
    "<div class=\"usecase-section-header\">Exploratory data analysis steps</div>"
   ]
  },
  {
   "cell_type": "markdown",
   "metadata": {},
   "source": [
    "1. Import modules\n",
    "2. Access and read in data sets\n",
    "3. Undertake preprocessing\n",
    "4. Working code for use case:\n",
    "    1. User input\n",
    "    2. Dynamic graph\n",
    "    3. Redirection to external webpage\n",
    "    4. Dynamic table"
   ]
  },
  {
   "cell_type": "markdown",
   "metadata": {},
   "source": [
    "##### **Import Modules**"
   ]
  },
  {
   "cell_type": "code",
   "execution_count": 10,
   "metadata": {},
   "outputs": [],
   "source": [
    "# Import required modules\n",
    "import requests\n",
    "import pandas as pd\n",
    "import matplotlib.pyplot as plt\n",
    "import webbrowser\n",
    "from tkinter import *"
   ]
  },
  {
   "cell_type": "markdown",
   "metadata": {},
   "source": [
    "##### **Access and read in datasets**"
   ]
  },
  {
   "cell_type": "code",
   "execution_count": 11,
   "metadata": {},
   "outputs": [],
   "source": [
    "# Function to get data from website using API\n",
    "def get_data_single(base, SPECIFIC_PATH, apikey, offset=0):    \n",
    "    # Set the filters, limit retrieves 20 rows at a time, offset says where to start data collection\n",
    "    filters = f'records?limit={100}&offset={offset}&timezone=UTC'\n",
    "    # Make the url from base, data url and filters variables stored ouside loop\n",
    "    url = f'{base}{SPECIFIC_PATH}/{filters}&apikey={apikey}'\n",
    "    # print(url) - can be used locally to check if code is working if 404 error given\n",
    "    # Use the requests function to get the data\n",
    "    result = requests.get(url)\n",
    "    # Check that the request works, error code 200 = successful\n",
    "    if result.status_code == 200:\n",
    "        # Save results as a json file\n",
    "        result_json = result.json()\n",
    "        # Store a variable of max_results with total of dataset\n",
    "        max_results = result_json['total_count']\n",
    "        # Save the results key data to a list variable\n",
    "        records = result_json['results']\n",
    "    else:\n",
    "        # If data is not collected correctly return the error\n",
    "        print(\"ERROR GETTING DATA: \", result.status_code)\n",
    "        max_results = 0\n",
    "        records = []\n",
    "    # At end of function, return the json results in records, max_results count and offset\n",
    "    return [records, max_results, offset]\n",
    "\n",
    "def fetch_all_data(SPECIFIC_PATH):\n",
    "    # Collect data from API\n",
    "    # Set offset increment\n",
    "    # (needs to match offset in get data function)\n",
    "    OFFSET_INCREMENT = 100\n",
    "    # Base url (this should be the same for all datasets)\n",
    "    base_url = 'https://data.melbourne.vic.gov.au/api/explore/v2.1/catalog/datasets/'\n",
    "    # Set your API key with user entry\n",
    "    apikey = input(\"Please enter your api key\")   \n",
    "    # Call the get data function, passing in variables above, save to result\n",
    "    result = get_data_single(base_url, SPECIFIC_PATH, apikey)\n",
    "    # Save the records data returned in the get_data function to records list variable\n",
    "    records = result[0]\n",
    "    # Save the dataset size data returned in the get_data function to max_results variable\n",
    "    max_results = result[1] \n",
    "    # Increase the offset returned in the get_data function (result[2]) by the offset increment\n",
    "    offset = result[2] + OFFSET_INCREMENT\n",
    "    # Check the length of the data returned and compare it against the max_results variable\n",
    "    # If the length o fthe data is less than the max_results, run the while loop\n",
    "    while len(records) != max_results:\n",
    "        # Call the get data function again, passing in url, specific path and new offset value\n",
    "        data = get_data_single(base_url, SPECIFIC_PATH, apikey, offset)\n",
    "        # Add the data collected to the existing records list\n",
    "        records += data[0]\n",
    "        # Increase the offset by the offset increment\n",
    "        offset += OFFSET_INCREMENT\n",
    "    # Convert the records list of dictionaries into a pandas dataframe \n",
    "    df = pd.DataFrame(records)\n",
    "    # Print the dataframe\n",
    "    return df\n"
   ]
  },
  {
   "cell_type": "code",
   "execution_count": 12,
   "metadata": {},
   "outputs": [],
   "source": [
    "# Import plant dataset\n",
    "# (change this variable for the dataset you are working with)\n",
    "SPECIFIC_PATH = 'pre-colonial-plant-list'\n",
    "plant_df_full = fetch_all_data(SPECIFIC_PATH)  \n",
    "\n",
    "# Import laneways with greening potential dataset\n",
    "SPECIFIC_PATH = 'laneways-with-greening-potential'\n",
    "lane_df_full = fetch_all_data(SPECIFIC_PATH)  "
   ]
  },
  {
   "cell_type": "markdown",
   "metadata": {},
   "source": [
    "##### **Preprocessing**"
   ]
  },
  {
   "cell_type": "code",
   "execution_count": 13,
   "metadata": {},
   "outputs": [
    {
     "data": {
      "text/html": [
       "<div>\n",
       "<style scoped>\n",
       "    .dataframe tbody tr th:only-of-type {\n",
       "        vertical-align: middle;\n",
       "    }\n",
       "\n",
       "    .dataframe tbody tr th {\n",
       "        vertical-align: top;\n",
       "    }\n",
       "\n",
       "    .dataframe thead th {\n",
       "        text-align: right;\n",
       "    }\n",
       "</style>\n",
       "<table border=\"1\" class=\"dataframe\">\n",
       "  <thead>\n",
       "    <tr style=\"text-align: center;\">\n",
       "      <th></th>\n",
       "      <th>Species</th>\n",
       "      <th>Common_name</th>\n",
       "      <th>Forest</th>\n",
       "      <th>Park</th>\n",
       "      <th>Vertical</th>\n",
       "    </tr>\n",
       "  </thead>\n",
       "  <tbody>\n",
       "    <tr>\n",
       "      <th>0</th>\n",
       "      <td>Acacia mucronata var. longifolia</td>\n",
       "      <td>Narrow-leaf Wattle, Variable Sallow Wattle</td>\n",
       "      <td>1.0</td>\n",
       "      <td>0.0</td>\n",
       "      <td>0.0</td>\n",
       "    </tr>\n",
       "    <tr>\n",
       "      <th>1</th>\n",
       "      <td>Acacia pycnantha</td>\n",
       "      <td>Golden Wattle</td>\n",
       "      <td>3.2</td>\n",
       "      <td>3.1</td>\n",
       "      <td>2.1</td>\n",
       "    </tr>\n",
       "    <tr>\n",
       "      <th>2</th>\n",
       "      <td>Acacia verticillata var. verticillata</td>\n",
       "      <td>Prickly Moses</td>\n",
       "      <td>0.0</td>\n",
       "      <td>0.0</td>\n",
       "      <td>0.0</td>\n",
       "    </tr>\n",
       "  </tbody>\n",
       "</table>\n",
       "</div>"
      ],
      "text/plain": [
       "                 Species                                 Common_name                  Forest  Park  Vertical\n",
       "0       Acacia mucronata var. longifolia  Narrow-leaf Wattle, Variable Sallow Wattle    1.0    0.0     0.0  \n",
       "1                       Acacia pycnantha                               Golden Wattle    3.2    3.1     2.1  \n",
       "2  Acacia verticillata var. verticillata                               Prickly Moses    0.0    0.0     0.0  "
      ]
     },
     "execution_count": 13,
     "metadata": {},
     "output_type": "execute_result"
    }
   ],
   "source": [
    "# PLANTNAMES DATASET\n",
    "# Drop columns from plantlist data frame\n",
    "plant_df = plant_df_full[['species','common_name_s','woodlands_and_forests_on_sedimentary_hills_valleys_and_ridges','grasslands_and_woodlands_on_fertile_plains','cliffs_and_escarpments']]\n",
    "# Check if any columns have na values\n",
    "#print(plant_df.isnull().any()) #output shows no na values\n",
    "# Rename columns to match laneways data set\n",
    "plant_df.columns =['Species','Common_name','Forest','Park','Vertical']\n",
    "# Print final plant list dataframe\n",
    "plant_df.head(3)"
   ]
  },
  {
   "cell_type": "code",
   "execution_count": 14,
   "metadata": {},
   "outputs": [
    {
     "data": {
      "text/html": [
       "<div>\n",
       "<style scoped>\n",
       "    .dataframe tbody tr th:only-of-type {\n",
       "        vertical-align: middle;\n",
       "    }\n",
       "\n",
       "    .dataframe tbody tr th {\n",
       "        vertical-align: top;\n",
       "    }\n",
       "\n",
       "    .dataframe thead th {\n",
       "        text-align: right;\n",
       "    }\n",
       "</style>\n",
       "<table border=\"1\" class=\"dataframe\">\n",
       "  <thead>\n",
       "    <tr style=\"text-align: center;\">\n",
       "      <th></th>\n",
       "      <th>Geopoint</th>\n",
       "      <th>Farm</th>\n",
       "      <th>Vertical</th>\n",
       "      <th>Forest</th>\n",
       "      <th>Park</th>\n",
       "      <th>Address</th>\n",
       "    </tr>\n",
       "  </thead>\n",
       "  <tbody>\n",
       "    <tr>\n",
       "      <th>0</th>\n",
       "      <td>{'lon': 144.9623447558369, 'lat': -37.81980050...</td>\n",
       "      <td>4</td>\n",
       "      <td>1</td>\n",
       "      <td>1</td>\n",
       "      <td>4</td>\n",
       "      <td>Banana Alley</td>\n",
       "    </tr>\n",
       "    <tr>\n",
       "      <th>1</th>\n",
       "      <td>{'lon': 144.97170834375964, 'lat': -37.8109763...</td>\n",
       "      <td>1</td>\n",
       "      <td>1</td>\n",
       "      <td>3</td>\n",
       "      <td>1</td>\n",
       "      <td>Harwood Place</td>\n",
       "    </tr>\n",
       "    <tr>\n",
       "      <th>2</th>\n",
       "      <td>{'lon': 144.97244046374837, 'lat': -37.8111115...</td>\n",
       "      <td>1</td>\n",
       "      <td>4</td>\n",
       "      <td>1</td>\n",
       "      <td>1</td>\n",
       "      <td>Turnbull Alley</td>\n",
       "    </tr>\n",
       "  </tbody>\n",
       "</table>\n",
       "</div>"
      ],
      "text/plain": [
       "                       Geopoint                       Farm  Vertical  Forest  Park     Address    \n",
       "0  {'lon': 144.9623447558369, 'lat': -37.81980050...    4       1        1      4     Banana Alley\n",
       "1  {'lon': 144.97170834375964, 'lat': -37.8109763...    1       1        3      1    Harwood Place\n",
       "2  {'lon': 144.97244046374837, 'lat': -37.8111115...    1       4        1      1   Turnbull Alley"
      ]
     },
     "execution_count": 14,
     "metadata": {},
     "output_type": "execute_result"
    }
   ],
   "source": [
    "# LANEWAYS DATASET\n",
    "#PART 1: Drop unnecessesary columns\n",
    "# Drop columns from lane data frame\n",
    "lane_df = lane_df_full[['geo_point_2d','farm_rank','vert_rank','fores_rank','park_rank','mapbase_1']]\n",
    "\n",
    "#PART 2: Remove n/a vlaues\n",
    "# Check if any columns have na values \n",
    "#print(lane_df.isnull().any()) #output shows na values so need to remove\n",
    "# Drop rows that have no data in mapbase_1 column\n",
    "lane_df = lane_df.dropna(subset=['mapbase_1'])\n",
    "# Drop duplicate laneways name columns\n",
    "lane_df = lane_df.drop_duplicates(subset=['mapbase_1'])\n",
    "# Rename the columns\n",
    "lane_df.columns = ['Geopoint', 'Farm', 'Vertical','Forest','Park','Address']\n",
    "\n",
    "#PART3: Convert categorical to numerical values\n",
    "# Iterate through rank columns\n",
    "for col in lane_df[[\"Park\", \"Farm\",\"Vertical\",\"Forest\"]]:\n",
    "    # Convert the srings in the rank columsn to lower case\n",
    "    lane_df[col] = lane_df[col].str.lower()\n",
    "    columnSeriesObj = lane_df[col]\n",
    "    # Print the column name\n",
    "    #print(col)\n",
    "    # Print the unique values in each column (to find what is needed in the replace function below)\n",
    "    #print(columnSeriesObj.unique())\n",
    "# Convert rank columns in categorical data types\n",
    "lane_df.replace(['highest potential', 'good potential', 'some potential','lowest potential'],\n",
    "                        [4, 3, 2, 1 ], inplace=True)\n",
    "\n",
    "# Print final lane dataframe\n",
    "lane_df.head(3)\n",
    "\n"
   ]
  },
  {
   "cell_type": "markdown",
   "metadata": {},
   "source": [
    "##### **Working code**"
   ]
  },
  {
   "cell_type": "markdown",
   "metadata": {},
   "source": [
    "The working code provides user interaction in thise case. This code needs to be used in VS code or Jupyter lab envrionment to have the interactive functions work. The user will first submit their laneway name. This checks against the database. If the laneway name is in the dataset, the user is presented with a graph and is asked to select the type of planting they would like to undertake based on the graph. Higher values indicate more suitability for planting types. After user enters a value, they are given a table of suggested plants for that planting types."
   ]
  },
  {
   "cell_type": "code",
   "execution_count": 9,
   "metadata": {},
   "outputs": [
    {
     "name": "stdout",
     "output_type": "stream",
     "text": [
      "The location you wish to plant is Banana Alley\n",
      "View the graph to decide which type of planting you would like to undertake\n"
     ]
    },
    {
     "data": {
      "image/png": "[encoded data removed]",
      "text/plain": [
       "<Figure size 640x480 with 1 Axes>"
      ]
     },
     "metadata": {},
     "output_type": "display_data"
    },
    {
     "name": "stdout",
     "output_type": "stream",
     "text": [
      "Please enter a number to select the type of planting you would like to do: \n",
      "1 = Farm\n",
      "2 = Vertical\n",
      "3 = Forest\n",
      "4 = Park\n",
      "The table below lists the best endemic species to grow in a Park environment.\n"
     ]
    },
    {
     "data": {
      "text/html": [
       "<div>\n",
       "<style scoped>\n",
       "    .dataframe tbody tr th:only-of-type {\n",
       "        vertical-align: middle;\n",
       "    }\n",
       "\n",
       "    .dataframe tbody tr th {\n",
       "        vertical-align: top;\n",
       "    }\n",
       "\n",
       "    .dataframe thead th {\n",
       "        text-align: right;\n",
       "    }\n",
       "</style>\n",
       "<table border=\"1\" class=\"dataframe\">\n",
       "  <thead>\n",
       "    <tr style=\"text-align: center;\">\n",
       "      <th></th>\n",
       "      <th>Species</th>\n",
       "      <th>Common_name</th>\n",
       "    </tr>\n",
       "  </thead>\n",
       "  <tbody>\n",
       "    <tr>\n",
       "      <th>30</th>\n",
       "      <td>Austrostipa bigeniculata</td>\n",
       "      <td>Kneed Spear-grass, Tall Spear-grass, Plains Grass</td>\n",
       "    </tr>\n",
       "    <tr>\n",
       "      <th>134</th>\n",
       "      <td>Eucalyptus camaldulensis var. camaldulensis</td>\n",
       "      <td>River Red Gum</td>\n",
       "    </tr>\n",
       "    <tr>\n",
       "      <th>141</th>\n",
       "      <td>Exocarpos cupressiformis</td>\n",
       "      <td>Wild Cherry, Cherry Ballart</td>\n",
       "    </tr>\n",
       "    <tr>\n",
       "      <th>233</th>\n",
       "      <td>Oxalis perennans</td>\n",
       "      <td>Grassland Wood-sorrel, Scour Grass</td>\n",
       "    </tr>\n",
       "    <tr>\n",
       "      <th>345</th>\n",
       "      <td>Velleia paradoxa</td>\n",
       "      <td>Spur Velleia</td>\n",
       "    </tr>\n",
       "    <tr>\n",
       "      <th>370</th>\n",
       "      <td>Allocasuarina verticillata</td>\n",
       "      <td>Drooping Sheoak, Coast Sheoak</td>\n",
       "    </tr>\n",
       "    <tr>\n",
       "      <th>424</th>\n",
       "      <td>Calocephalus citreus</td>\n",
       "      <td>Lemon Beauty-heads</td>\n",
       "    </tr>\n",
       "    <tr>\n",
       "      <th>547</th>\n",
       "      <td>Leptorhynchos squamatus subsp. squamatus</td>\n",
       "      <td>Scaly Buttons</td>\n",
       "    </tr>\n",
       "    <tr>\n",
       "      <th>573</th>\n",
       "      <td>Microlaena stipoides var. stipoides</td>\n",
       "      <td>Weeping Grass</td>\n",
       "    </tr>\n",
       "    <tr>\n",
       "      <th>575</th>\n",
       "      <td>Microseris walteri</td>\n",
       "      <td>Yam Daisy, Murnong</td>\n",
       "    </tr>\n",
       "    <tr>\n",
       "      <th>651</th>\n",
       "      <td>Rytidosperma caespitosum</td>\n",
       "      <td>Common Wallaby-grass</td>\n",
       "    </tr>\n",
       "    <tr>\n",
       "      <th>653</th>\n",
       "      <td>Rytidosperma setaceum var. setaceum</td>\n",
       "      <td>Bristly Wallaby-grass</td>\n",
       "    </tr>\n",
       "    <tr>\n",
       "      <th>743</th>\n",
       "      <td>Burchardia umbellata</td>\n",
       "      <td>Milkmaids</td>\n",
       "    </tr>\n",
       "    <tr>\n",
       "      <th>814</th>\n",
       "      <td>Dianella revoluta var. revoluta</td>\n",
       "      <td>Black-anther Flax-lily, Spreading Flax-lily</td>\n",
       "    </tr>\n",
       "    <tr>\n",
       "      <th>1014</th>\n",
       "      <td>Solenogyne dominii</td>\n",
       "      <td>Smooth Solenogyne</td>\n",
       "    </tr>\n",
       "    <tr>\n",
       "      <th>1039</th>\n",
       "      <td>Themeda triandra</td>\n",
       "      <td>Kangaroo Grass</td>\n",
       "    </tr>\n",
       "  </tbody>\n",
       "</table>\n",
       "</div>"
      ],
      "text/plain": [
       "                       Species                                       Common_name                    \n",
       "30                       Austrostipa bigeniculata  Kneed Spear-grass, Tall Spear-grass, Plains Grass\n",
       "134   Eucalyptus camaldulensis var. camaldulensis                                      River Red Gum\n",
       "141                      Exocarpos cupressiformis                        Wild Cherry, Cherry Ballart\n",
       "233                              Oxalis perennans                 Grassland Wood-sorrel, Scour Grass\n",
       "345                              Velleia paradoxa                                       Spur Velleia\n",
       "370                    Allocasuarina verticillata                      Drooping Sheoak, Coast Sheoak\n",
       "424                          Calocephalus citreus                                 Lemon Beauty-heads\n",
       "547      Leptorhynchos squamatus subsp. squamatus                                      Scaly Buttons\n",
       "573           Microlaena stipoides var. stipoides                                      Weeping Grass\n",
       "575                            Microseris walteri                                 Yam Daisy, Murnong\n",
       "651                      Rytidosperma caespitosum                               Common Wallaby-grass\n",
       "653           Rytidosperma setaceum var. setaceum                              Bristly Wallaby-grass\n",
       "743                          Burchardia umbellata                                          Milkmaids\n",
       "814               Dianella revoluta var. revoluta        Black-anther Flax-lily, Spreading Flax-lily\n",
       "1014                           Solenogyne dominii                                  Smooth Solenogyne\n",
       "1039                             Themeda triandra                                     Kangaroo Grass"
      ]
     },
     "metadata": {},
     "output_type": "display_data"
    }
   ],
   "source": [
    "# Make a list of the locations from the lane dataframe\n",
    "database = (lane_df['Address'].to_list())\n",
    "# PART 1: Initial User Input\n",
    "# Ask user to type in name of lane as an input function\n",
    "location = input(\"Please input the name of your lane in the form \\\"Banana Alley\\\"\")\n",
    "# Check if the location is in the database, follow steps if it is\n",
    "if location in database:\n",
    "    # If location is in the dataframe, print a confirmation message\n",
    "    print(f'The location you wish to plant is {location}')\n",
    "    # Make a new interim dataframe from the single location only (1 row in size)\n",
    "    df_interim = lane_df[lane_df['Address'] == location]\n",
    "    # Choose only the rank columns and transpose the dataframe\n",
    "    df_interim = df_interim[['Farm','Vertical','Forest','Park']].T\n",
    "    # Add index column and rename new columns\n",
    "    df_interim = df_interim.reset_index().rename(columns={\"index\":\"type\"})\n",
    "    df_interim = df_interim.rename(columns={df_interim.columns[1]:\"rank\"})\t\n",
    "    # PART 2: Plot a graph of location planting options from user input\n",
    "    # Print a message stating to use graph to shoose a planting type\n",
    "    print(\"View the graph to decide which type of planting you would like to undertake\")\n",
    "    # Plot the interim dataframe as a bar graph\n",
    "    df_interim.plot(x=\"type\", y=[\"rank\"], kind=\"bar\", color=\"#2af598\", legend=None)\n",
    "    plt.title(\"1 = least suitable, 4 = most suitable\")\n",
    "    plt.suptitle(f\"Suitability of possible planting types in {location}\")\n",
    "    plt.xlabel('Possible planting types', style='italic')\n",
    "    plt.ylabel('Suitability of planting type', style='italic')\n",
    "    plt.show()\n",
    "    # PART 3 User makes selection from a list of options\n",
    "    # Function for user selection of planting type\n",
    "    def user_type_selection():\n",
    "        # Set planting type options\n",
    "        options = [\"Farm\", \"Vertical\", \"Forest\",\"Park\"]\n",
    "        # Set instructions for the user\n",
    "        print(\"Please enter a number to select the type of planting you would like to do: \")\n",
    "        # For loop to create list of options for user to view\n",
    "        for idx, element in enumerate(options):\n",
    "            print(\"{} = {}\".format(idx + 1, element))\n",
    "        # Instructions for user input\n",
    "        i = input(\"Make your planting selection by entering a number from 1 to 4: \")\n",
    "        # If statement to check if user input is valid and return the planting type as message\n",
    "        if 0 < int(i) <= len(options):\n",
    "            choice = int(i) - 1\n",
    "            global planting_type \n",
    "            planting_type = options[choice]\n",
    "        # Else statement to get user to recheck input if their option is not valid\n",
    "        else:\n",
    "            print(\"Please choose a number from 1 to 4\")\n",
    "    # Creates variable for user planting selection function and calls method\n",
    "    type_selection = user_type_selection()\n",
    "    type_selection\n",
    "    # PART 4: User is returned a list of suitable endemic plants\n",
    "    # Function to search the plant dataframe for results greater than 3 in the selected planting type and return these\n",
    "    def plant_suggestions():\n",
    "        # If planting type is farm\n",
    "        if planting_type == 'Farm':\n",
    "            print(f'{planting_type} planting is seasonal produce. You will be taken to the Yardwork Melbourne planting guide website.')\n",
    "            # Auto direction to open a new browser window to a seasonal planting guide\n",
    "            root = Tk()\n",
    "            root.title(\"WebBrowsers\")\n",
    "            root.geometry(\"640x480\")\n",
    "            webbrowser.open(\"https://yardwork.com.au/gardening-guides/what-to-plant-now-melbourne/\")\n",
    "        # If planting type is not farm, match to the correct column in the other dataframe\n",
    "        else:\n",
    "            print(f'The table below lists the best endemic species to grow in a {planting_type} environment.')\n",
    "            # Choose values in planting type that are equal to 3.2 (highest) rating\n",
    "            df_interim_plant = plant_df[plant_df[planting_type] == 3.2]\n",
    "            # Set display options for dataframe and print it\n",
    "            pd.set_option('display.max_rows', None)\n",
    "            pd.set_option('display.max_columns', None)\n",
    "            pd.set_option('display.width', 1000)\n",
    "            pd.set_option('display.colheader_justify', 'center')\n",
    "            pd.set_option('display.precision', 3)\n",
    "            display(df_interim_plant[[\"Species\",\"Common_name\"]])\n",
    "    \n",
    "    # Creates variable for plant suggestions function and calls method \n",
    "    plant_list = plant_suggestions()\n",
    "    plant_list\n",
    "\n",
    "# If location is not in database:\n",
    "else:\n",
    "    print(f'Sorry, {location} is not in the data base, please check spelling or input format.')\n",
    "    \n"
   ]
  },
  {
   "cell_type": "code",
   "execution_count": 16,
   "metadata": {},
   "outputs": [
    {
     "name": "stderr",
     "output_type": "stream",
     "text": [
      "[NbConvertApp] Converting notebook laneways_endemic_species.ipynb to html\n",
      "[NbConvertApp] Writing 666503 bytes to laneways_endemic_species.html\n"
     ]
    }
   ],
   "source": [
    "!jupyter nbconvert --to html laneways_endemic_species.ipynb"
   ]
  }
 ],
 "metadata": {
  "kernelspec": {
   "display_name": "Python 3",
   "language": "python",
   "name": "python3"
  },
  "language_info": {
   "codemirror_mode": {
    "name": "ipython",
    "version": 3
   },
   "file_extension": ".py",
   "mimetype": "text/x-python",
   "name": "python",
   "nbconvert_exporter": "python",
   "pygments_lexer": "ipython3",
   "version": "3.10.10"
  },
  "vscode": {
   "interpreter": {
    "hash": "369f2c481f4da34e4445cda3fffd2e751bd1c4d706f27375911949ba6bb62e1c"
   }
  }
 },
 "nbformat": 4,
 "nbformat_minor": 4
}
