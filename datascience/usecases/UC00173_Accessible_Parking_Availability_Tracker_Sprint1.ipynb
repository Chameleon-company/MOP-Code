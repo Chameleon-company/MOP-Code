{
 "cells": [
  {
   "cell_type": "markdown",
   "id": "0b2de345-053d-4f52-a506-75d330de2a43",
   "metadata": {},
   "source": [
    "**Use Case ID**: UC00173\n",
    "\n",
    "**Title**: Real Time Accessible Parking  \n",
    "**Duration**: 1-2 hours to understand the dataset  \n",
    "**Level**: Beginner-Intermediate  \n",
    "**Pre-requisite Skills**:\n",
    "- Basic Python (Pandas, API requests)\n",
    "- Data visualisation using Folium\n",
    "- Understanding of geospatial data (lat/lon)\n"
   ]
  },
  {
   "cell_type": "markdown",
   "id": "6f7c0de0-b75e-4bb7-b1de-7555154c1325",
   "metadata": {},
   "source": [
    "**Datasets used**:\n",
    "- [On-street parking bays](https://data.melbourne.vic.gov.au/Transport/on-street-parking-bays)\n",
    "- [Off-street car parks with capacity and type](https://data.melbourne.vic.gov.au/Transport/off-street-car-parks-with-capacity-and-type)\n",
    "- [On-street car parking meters with location](https://data.melbourne.vic.gov.au/Transport/on-street-car-parking-meters-with-location)\n",
    "- [Parking restrictions](https://data.melbourne.vic.gov.au/Transport/on-street-parking-bays)\n"
   ]
  },
  {
   "cell_type": "markdown",
   "id": "3385e721-75da-4f1b-beac-8e31081a45e5",
   "metadata": {},
   "source": [
    "###  Scenario\n",
    "\n",
    "#### UC00173_Real_Time_Accessible_Parking\n",
    "\n",
    "In the City of Melbourne, accessible parking is a critical resource for residents and visitors living with mobility impairments. However, these designated bays are often difficult to locate in real time, and occupancy can vary dramatically depending on time of day, location, and nearby events.\n",
    "\n",
    "The City of Melbourne has deployed an advanced sensor network that monitors individual parking bays. These sensors, when combined with parking restriction data, provide a powerful foundation to develop a smart, real-time parking availability system targeted specifically at accessible (disabled-only) parking spaces.\n",
    "\n",
    "This use case proposes a live dashboard that identifies the location and occupancy status of disability bays across the municipality. The project leverages existing open datasets to improve urban mobility, reduce the stress of finding suitable parking, and promote more inclusive city infrastructure.\n"
   ]
  },
  {
   "cell_type": "code",
   "execution_count": 40,
   "id": "a421077e-39aa-4221-a8a0-c7e8af52bbb1",
   "metadata": {},
   "outputs": [],
   "source": [
    "import numpy as np \n",
    "import pandas as pd \n",
    "import seaborn as sns\n",
    "import matplotlib.pyplot as plt\n",
    "import requests\n",
    "import os\n",
    "from functools import reduce\n",
    "import folium\n",
    "from folium.plugins import HeatMap\n",
    "from folium.plugins import MarkerCluster\n",
    "from dotenv import load_dotenv\n",
    "from ipywidgets import Tab, VBox, HTML, Output\n"
   ]
  },
  {
   "cell_type": "markdown",
   "id": "8be005e2-e138-4918-82e6-9f2e1895749c",
   "metadata": {},
   "source": [
    "# RT ACCESSIBLE PARKING – 1.1\n",
    "\n",
    "### Visualising On-Street Accessible Parking Bays\n",
    "\n",
    "This visualisation shows where accessible (disability) parking bays are located across Melbourne streets.\n",
    "\n",
    "By using open data provided by the City of Melbourne, we can download a list of all known accessible bays and display them on an interactive map. Each marker shows which street it’s on and when it was last updated.\n",
    "\n",
    "This tool can help residents, planners, and visitors quickly see where accessible parking is available — and identify gaps in coverage.\n"
   ]
  },
  {
   "cell_type": "markdown",
   "id": "0f7a67ef-a760-408a-8d55-68d98f1827bc",
   "metadata": {},
   "source": [
    "## Step 1: Environment setup (dotenv)\n",
    "\n",
    "We install and (if needed) update the `python-dotenv` library to manage environment variables such as API keys securely via a `.env` file.  \n",
    "The output below is just the installation log from `pip` (e.g. “Requirement already satisfied” or the version installed).  \n",
    "No data is loaded in this step — data loading begins in **Step 2**.\n"
   ]
  },
  {
   "cell_type": "code",
   "execution_count": 41,
   "id": "2fddd237-c7e5-4541-808c-d2135399b986",
   "metadata": {},
   "outputs": [],
   "source": [
    "def fetch_parking_dataset(base_url, dataset_id, api_key=None, limit=100, max_pages=100):\n",
    "    \"\"\"\n",
    "    Downloads and aggregates data from City of Melbourne’s Open Data API using paginated requests.\n",
    "    \n",
    "    Parameters:\n",
    "        base_url (str): Base API URL.\n",
    "        dataset_id (str): Dataset endpoint name.\n",
    "        api_key (str): Optional API key. If not provided, will try to use MELBOURNE_API_KEY from environment.\n",
    "        limit (int): Number of records per page (maximum 100).\n",
    "        max_pages (int): Maximum number of pages to fetch to prevent infinite loops.\n",
    "        \n",
    "    Returns:\n",
    "        pd.DataFrame: All records combined into a DataFrame.\n",
    "    \"\"\"\n",
    "    api_key = api_key or os.environ.get(\"MELBOURNE_API_KEY\")\n",
    "    if not api_key:\n",
    "        raise ValueError(\"API key is required. Set MELBOURNE_API_KEY in your environment or pass it directly.\")\n",
    "\n",
    "    all_results = []\n",
    "\n",
    "    for page in range(max_pages):\n",
    "        offset = page * limit\n",
    "        url = f\"{base_url}{dataset_id}/records?limit={limit}&offset={offset}&api_key={api_key}\"\n",
    "\n",
    "        try:\n",
    "            response = requests.get(url, timeout=10)\n",
    "            response.raise_for_status()\n",
    "            data = response.json().get(\"results\", [])\n",
    "        except requests.exceptions.RequestException as e:\n",
    "            print(f\"Page {page + 1} failed: {e}\")\n",
    "            break\n",
    "\n",
    "        if not data:\n",
    "            break  # No more data to fetch\n",
    "\n",
    "        all_results.extend(data)\n",
    "\n",
    "        if len(data) < limit:\n",
    "            break  # Reached the final page\n",
    "\n",
    "    return pd.DataFrame(all_results)\n",
    "\n",
    "\n",
    "# Set up the access details for the data website\n",
    "load_dotenv()\n",
    "API_KEY = os.environ.get(\"MELBOURNE_API_KEY\")  # Gets your private API key from your computer\n",
    "BASE_URL = 'https://data.melbourne.vic.gov.au/api/explore/v2.1/catalog/datasets/'\n"
   ]
  },
  {
   "cell_type": "markdown",
   "id": "1cec7918-c608-4d21-aa4f-8e4211d9185b",
   "metadata": {},
   "source": [
    "## Step 2: Load the Accessible Parking Bay Data\n",
    "\n",
    "This step tells the program which dataset to get. We’re using the one called `on-street-parking-bays`, which lists all bays on Melbourne streets — including info like the street name, type of parking, and restrictions.\n",
    "\n",
    "The table preview shows the first few rows.\n"
   ]
  },
  {
   "cell_type": "code",
   "execution_count": 42,
   "id": "e98f0657-4f54-48bc-bef2-c09c9b93a574",
   "metadata": {},
   "outputs": [
    {
     "name": "stdout",
     "output_type": "stream",
     "text": [
      "Accessible Bays Loaded: (10000, 7)\n"
     ]
    },
    {
     "data": {
      "text/html": [
       "<div>\n",
       "<style scoped>\n",
       "    .dataframe tbody tr th:only-of-type {\n",
       "        vertical-align: middle;\n",
       "    }\n",
       "\n",
       "    .dataframe tbody tr th {\n",
       "        vertical-align: top;\n",
       "    }\n",
       "\n",
       "    .dataframe thead th {\n",
       "        text-align: right;\n",
       "    }\n",
       "</style>\n",
       "<table border=\"1\" class=\"dataframe\">\n",
       "  <thead>\n",
       "    <tr style=\"text-align: right;\">\n",
       "      <th></th>\n",
       "      <th>roadsegmentid</th>\n",
       "      <th>kerbsideid</th>\n",
       "      <th>roadsegmentdescription</th>\n",
       "      <th>latitude</th>\n",
       "      <th>longitude</th>\n",
       "      <th>lastupdated</th>\n",
       "      <th>location</th>\n",
       "    </tr>\n",
       "  </thead>\n",
       "  <tbody>\n",
       "    <tr>\n",
       "      <th>0</th>\n",
       "      <td>23322</td>\n",
       "      <td>None</td>\n",
       "      <td>Docklands Drive between Docklands Drive and We...</td>\n",
       "      <td>-37.816019</td>\n",
       "      <td>144.935552</td>\n",
       "      <td>2023-10-31</td>\n",
       "      <td>{'lon': 144.9355523, 'lat': -37.8160191}</td>\n",
       "    </tr>\n",
       "    <tr>\n",
       "      <th>1</th>\n",
       "      <td>22124</td>\n",
       "      <td>None</td>\n",
       "      <td>Hartley Street between Lorimer Street and West...</td>\n",
       "      <td>-37.824862</td>\n",
       "      <td>144.940270</td>\n",
       "      <td>2023-10-31</td>\n",
       "      <td>{'lon': 144.9402698, 'lat': -37.8248623}</td>\n",
       "    </tr>\n",
       "    <tr>\n",
       "      <th>2</th>\n",
       "      <td>22124</td>\n",
       "      <td>None</td>\n",
       "      <td>Hartley Street between Lorimer Street and West...</td>\n",
       "      <td>-37.824362</td>\n",
       "      <td>144.940408</td>\n",
       "      <td>2023-10-31</td>\n",
       "      <td>{'lon': 144.9404083, 'lat': -37.8243625}</td>\n",
       "    </tr>\n",
       "    <tr>\n",
       "      <th>3</th>\n",
       "      <td>22124</td>\n",
       "      <td>None</td>\n",
       "      <td>Hartley Street between Lorimer Street and West...</td>\n",
       "      <td>-37.824469</td>\n",
       "      <td>144.940379</td>\n",
       "      <td>2023-10-31</td>\n",
       "      <td>{'lon': 144.9403789, 'lat': -37.8244685}</td>\n",
       "    </tr>\n",
       "    <tr>\n",
       "      <th>4</th>\n",
       "      <td>22124</td>\n",
       "      <td>None</td>\n",
       "      <td>Hartley Street between Lorimer Street and West...</td>\n",
       "      <td>-37.824325</td>\n",
       "      <td>144.940188</td>\n",
       "      <td>2023-10-31</td>\n",
       "      <td>{'lon': 144.9401876, 'lat': -37.8243252}</td>\n",
       "    </tr>\n",
       "  </tbody>\n",
       "</table>\n",
       "</div>"
      ],
      "text/plain": [
       "   roadsegmentid kerbsideid  \\\n",
       "0          23322       None   \n",
       "1          22124       None   \n",
       "2          22124       None   \n",
       "3          22124       None   \n",
       "4          22124       None   \n",
       "\n",
       "                              roadsegmentdescription   latitude   longitude  \\\n",
       "0  Docklands Drive between Docklands Drive and We... -37.816019  144.935552   \n",
       "1  Hartley Street between Lorimer Street and West... -37.824862  144.940270   \n",
       "2  Hartley Street between Lorimer Street and West... -37.824362  144.940408   \n",
       "3  Hartley Street between Lorimer Street and West... -37.824469  144.940379   \n",
       "4  Hartley Street between Lorimer Street and West... -37.824325  144.940188   \n",
       "\n",
       "  lastupdated                                  location  \n",
       "0  2023-10-31  {'lon': 144.9355523, 'lat': -37.8160191}  \n",
       "1  2023-10-31  {'lon': 144.9402698, 'lat': -37.8248623}  \n",
       "2  2023-10-31  {'lon': 144.9404083, 'lat': -37.8243625}  \n",
       "3  2023-10-31  {'lon': 144.9403789, 'lat': -37.8244685}  \n",
       "4  2023-10-31  {'lon': 144.9401876, 'lat': -37.8243252}  "
      ]
     },
     "execution_count": 42,
     "metadata": {},
     "output_type": "execute_result"
    }
   ],
   "source": [
    "# Step 2: Define which accessible dataset to download\n",
    "dataset_accessible = 'on-street-parking-bays'\n",
    "\n",
    "# Fetch and load the accessible parking bays dataset\n",
    "df_bays = fetch_parking_dataset(\n",
    "    base_url=BASE_URL,\n",
    "    dataset_id=dataset_accessible,\n",
    "    api_key=API_KEY,\n",
    "    limit=100,               # Max allowed per API\n",
    "    max_pages=100            # Adjust based on size of dataset\n",
    ")\n",
    "\n",
    "# Print the number of accessible parking bays retrieved\n",
    "print(\"Accessible Bays Loaded:\", df_bays.shape)\n",
    "\n",
    "# Display a preview of the data\n",
    "df_bays.head()\n"
   ]
  },
  {
   "cell_type": "markdown",
   "id": "95930e73-1b5a-4be6-b8a8-ffa5f156fe86",
   "metadata": {},
   "source": [
    "This confirms that 10,000 accessible parking bay records were successfully loaded from the dataset. The preview shows key columns including street names, coordinates, and update dates, confirming the dataset is ready for spatial processing.\n"
   ]
  },
  {
   "cell_type": "markdown",
   "id": "b96eebc0-f4fc-4c89-9459-8e44d65e74c3",
   "metadata": {},
   "source": [
    "## Step 3: Prepare Parking Bay Data for Mapping\n",
    "\n",
    "This step keeps only the rows that have valid latitude and longitude values. These are the coordinates we need to show each bay on a map.\n"
   ]
  },
  {
   "cell_type": "code",
   "execution_count": 43,
   "id": "b4a47964-41ff-4c8a-9706-130968e7ad1d",
   "metadata": {},
   "outputs": [
    {
     "data": {
      "text/html": [
       "<div>\n",
       "<style scoped>\n",
       "    .dataframe tbody tr th:only-of-type {\n",
       "        vertical-align: middle;\n",
       "    }\n",
       "\n",
       "    .dataframe tbody tr th {\n",
       "        vertical-align: top;\n",
       "    }\n",
       "\n",
       "    .dataframe thead th {\n",
       "        text-align: right;\n",
       "    }\n",
       "</style>\n",
       "<table border=\"1\" class=\"dataframe\">\n",
       "  <thead>\n",
       "    <tr style=\"text-align: right;\">\n",
       "      <th></th>\n",
       "      <th>roadsegmentdescription</th>\n",
       "      <th>latitude</th>\n",
       "      <th>longitude</th>\n",
       "    </tr>\n",
       "  </thead>\n",
       "  <tbody>\n",
       "    <tr>\n",
       "      <th>0</th>\n",
       "      <td>Docklands Drive between Docklands Drive and We...</td>\n",
       "      <td>-37.816019</td>\n",
       "      <td>144.935552</td>\n",
       "    </tr>\n",
       "    <tr>\n",
       "      <th>1</th>\n",
       "      <td>Hartley Street between Lorimer Street and West...</td>\n",
       "      <td>-37.824862</td>\n",
       "      <td>144.940270</td>\n",
       "    </tr>\n",
       "    <tr>\n",
       "      <th>2</th>\n",
       "      <td>Hartley Street between Lorimer Street and West...</td>\n",
       "      <td>-37.824362</td>\n",
       "      <td>144.940408</td>\n",
       "    </tr>\n",
       "    <tr>\n",
       "      <th>3</th>\n",
       "      <td>Hartley Street between Lorimer Street and West...</td>\n",
       "      <td>-37.824469</td>\n",
       "      <td>144.940379</td>\n",
       "    </tr>\n",
       "    <tr>\n",
       "      <th>4</th>\n",
       "      <td>Hartley Street between Lorimer Street and West...</td>\n",
       "      <td>-37.824325</td>\n",
       "      <td>144.940188</td>\n",
       "    </tr>\n",
       "  </tbody>\n",
       "</table>\n",
       "</div>"
      ],
      "text/plain": [
       "                              roadsegmentdescription   latitude   longitude\n",
       "0  Docklands Drive between Docklands Drive and We... -37.816019  144.935552\n",
       "1  Hartley Street between Lorimer Street and West... -37.824862  144.940270\n",
       "2  Hartley Street between Lorimer Street and West... -37.824362  144.940408\n",
       "3  Hartley Street between Lorimer Street and West... -37.824469  144.940379\n",
       "4  Hartley Street between Lorimer Street and West... -37.824325  144.940188"
      ]
     },
     "execution_count": 43,
     "metadata": {},
     "output_type": "execute_result"
    }
   ],
   "source": [
    "# Only keep rows that have both latitude and longitude values\n",
    "df_bays = df_bays[df_bays['latitude'].notnull() & df_bays['longitude'].notnull()].copy()\n",
    "\n",
    "# Convert coordinates to float just to be sure\n",
    "df_bays['latitude'] = df_bays['latitude'].astype(float)\n",
    "df_bays['longitude'] = df_bays['longitude'].astype(float)\n",
    "\n",
    "# Preview just a few key columns\n",
    "df_bays[['roadsegmentdescription', 'latitude', 'longitude']].head()\n"
   ]
  },
  {
   "cell_type": "markdown",
   "id": "9bd9330a-75f3-4d00-be49-b8d8a7719f73",
   "metadata": {},
   "source": [
    "This output confirms that only valid coordinate data is retained for mapping. By removing null values and converting to float, we ensure clean input for accurate geospatial plotting on the map.\n"
   ]
  },
  {
   "cell_type": "markdown",
   "id": "fdf4f7f1-d785-4386-9f68-ec6dc59b6dc7",
   "metadata": {},
   "source": [
    "## Step 4: Show Accessible Parking Bays on a Map\n",
    "\n",
    "This step displays an interactive map of Melbourne with a marker for each on-street parking bay. \n",
    "\n",
    "When you click a marker, you’ll see the location name and road segment info in a popup. This makes it easy to visually explore where accessible parking is located across the city.\n"
   ]
  },
  {
   "cell_type": "code",
   "execution_count": null,
   "id": "4a4e79af-c960-4e5a-8f65-85fa3e73bfda",
   "metadata": {},
   "outputs": [],
   "source": [
    "# Create a base map centered on Melbourne\n",
    "m = folium.Map(location=[-37.8136, 144.9631], zoom_start=14, tiles=\"CartoDB positron\")\n",
    "\n",
    "# Add clustering so overlapping markers are grouped nicely\n",
    "marker_cluster = MarkerCluster().add_to(m)\n",
    "\n",
    "# Add each bay to the map\n",
    "for _, row in df_bays.iterrows():\n",
    "    popup_info = f\"\"\"\n",
    "    <strong>Location:</strong> {row['roadsegmentdescription']}<br>\n",
    "    <strong>Last Updated:</strong> {row['lastupdated']}\n",
    "    \"\"\"\n",
    "    folium.Marker(\n",
    "        location=[row['latitude'], row['longitude']],\n",
    "        popup=folium.Popup(popup_info, max_width=250),\n",
    "        icon=folium.Icon(color=\"blue\", icon=\"info-sign\")\n",
    "    ).add_to(marker_cluster)\n",
    "\n",
    "# Show the map\n",
    "m\n"
   ]
  },
  {
   "cell_type": "markdown",
   "id": "dcfd7166-7d08-4caf-aa4a-19ff99938849",
   "metadata": {},
   "source": [
    "This interactive map displays each accessible parking bay in Melbourne using a clustered marker. Clicking a marker reveals the street and last update date. The marker clustering improves performance and usability at different zoom levels.\n",
    "\n",
    "\n"
   ]
  },
  {
   "cell_type": "markdown",
   "id": "6f48e100-2f4c-4822-93b3-6f43c6787c5b",
   "metadata": {},
   "source": [
    "# RT ACCESSIBLE PARKING – 1.2\n",
    "\n",
    "### Mapping Off-Street Car Parks with Accessibility Info\n",
    "\n",
    "This visualisation shows all known off-street car parks in Melbourne — including whether they have accessible bays, how many total spaces they offer, and when they’re open.\n",
    "\n",
    "Each car park is shown as a marker on the map. You can click each marker to see important details like the number of accessible bays, total capacity, and street address.\n",
    "\n",
    "This helps highlight which facilities offer inclusive access and where improvements might be needed.\n"
   ]
  },
  {
   "cell_type": "markdown",
   "id": "a4d71e57-295d-4091-ad5f-028fb9bce662",
   "metadata": {},
   "source": [
    "## Step 1: Load Off-Street Car Park Data from the City of Melbourne\n",
    "\n",
    "This step downloads all off-street car park locations in Melbourne — including their capacity, opening hours, and accessible parking features.\n"
   ]
  },
  {
   "cell_type": "code",
   "execution_count": null,
   "id": "26bd59c5-d1ba-4734-8334-eee676cccb08",
   "metadata": {},
   "outputs": [],
   "source": [
    "# Step 1: Define which off-street car park dataset to download\n",
    "dataset_offstreet = 'off-street-car-parks-with-capacity-and-type'\n",
    "\n",
    "# Fetch and load the off-street car park dataset\n",
    "df_offstreet = fetch_parking_dataset(\n",
    "    base_url=BASE_URL,\n",
    "    dataset_id=dataset_offstreet,\n",
    "    api_key=API_KEY,\n",
    "    limit=100,             # Max allowed per API\n",
    "    max_pages=100          # Adjust based on dataset size\n",
    ")\n",
    "\n",
    "# Print the number of off-street car parks retrieved\n",
    "print(\"Off-Street Car Parks Loaded:\", df_offstreet.shape)\n",
    "\n",
    "# Display a preview of the data\n",
    "df_offstreet.head()\n"
   ]
  },
  {
   "cell_type": "markdown",
   "id": "3d3addcd-bcc8-4fb0-aabb-0ff1251b8171",
   "metadata": {},
   "source": [
    "This confirms that 10,000 off-street car park records were successfully retrieved. The preview shows details like address, parking type (residential or private), number of parking spaces, and location coordinates. This gives a clear view of structured off-street parking supply in Melbourne.\n"
   ]
  },
  {
   "cell_type": "markdown",
   "id": "c30ac60f-ee48-4c1b-8969-928cfc83bb61",
   "metadata": {},
   "source": [
    "## Step 2: Prepare Off-Street Car Park Data for Mapping\n",
    "\n",
    "This step keeps only the rows with valid location data (latitude and longitude), and selects the most important columns like address, type, and number of parking spaces.\n",
    "\n",
    "We also make sure the coordinates are stored as numbers (floats) so they work correctly on the map.\n"
   ]
  },
  {
   "cell_type": "code",
   "execution_count": null,
   "id": "671ef235-c8bb-4e43-88f3-66a9d53ffd93",
   "metadata": {},
   "outputs": [],
   "source": [
    "# Remove any entries without valid coordinates\n",
    "df_offstreet = df_offstreet[df_offstreet['latitude'].notnull() & df_offstreet['longitude'].notnull()].copy()\n",
    "\n",
    "# Convert to float (just in case they're stored as text)\n",
    "df_offstreet['latitude'] = df_offstreet['latitude'].astype(float)\n",
    "df_offstreet['longitude'] = df_offstreet['longitude'].astype(float)\n",
    "\n",
    "# Optional: Keep only the columns we care about\n",
    "df_map = df_offstreet[[\n",
    "    'building_address',\n",
    "    'parking_type',\n",
    "    'parking_spaces',\n",
    "    'latitude',\n",
    "    'longitude'\n",
    "]]\n",
    "\n",
    "# Preview cleaned data\n",
    "df_map.head()\n"
   ]
  },
  {
   "cell_type": "markdown",
   "id": "4f39c477-96be-4dd6-9657-bb50bc23ad77",
   "metadata": {},
   "source": [
    "This confirms that only records with valid latitude and longitude values were kept.  \n",
    "The preview shows address, type of car park, and number of spaces alongside coordinates,  \n",
    "meaning the dataset is now ready for mapping.\n"
   ]
  },
  {
   "cell_type": "markdown",
   "id": "57c0c252-76bb-4a49-b1eb-72e64064104c",
   "metadata": {},
   "source": [
    "## Step 3: Show Off-Street Car Parks on a Map\n",
    "\n",
    "This step displays all off-street car parks on a Melbourne map. Each car park is marked with a pin, and clicking the pin shows useful details like the street address, number of parking spaces, and whether it’s private or residential.\n"
   ]
  },
  {
   "cell_type": "code",
   "execution_count": null,
   "id": "6288ef8e-268a-4cb9-9cd3-766d5764b1d3",
   "metadata": {},
   "outputs": [],
   "source": [
    "# Create a map centred on Melbourne\n",
    "m = folium.Map(location=[-37.8136, 144.9631], zoom_start=14, tiles=\"CartoDB positron\")\n",
    "\n",
    "# Add clustering for markers\n",
    "marker_cluster = MarkerCluster().add_to(m)\n",
    "\n",
    "# Add a marker for each car park\n",
    "for _, row in df_map.iterrows():\n",
    "    popup = f\"\"\"\n",
    "    <strong>Address:</strong> {row['building_address']}<br>\n",
    "    <strong>Type:</strong> {row['parking_type']}<br>\n",
    "    <strong>Total Spaces:</strong> {row['parking_spaces']}\n",
    "    \"\"\"\n",
    "    folium.Marker(\n",
    "        location=[row['latitude'], row['longitude']],\n",
    "        popup=folium.Popup(popup, max_width=250),\n",
    "        icon=folium.Icon(color='green', icon='parking', prefix='fa')\n",
    "    ).add_to(marker_cluster)\n",
    "\n",
    "# Show the map\n",
    "m\n"
   ]
  },
  {
   "cell_type": "markdown",
   "id": "93bd018c-ea10-4236-a48f-be966bcdd44a",
   "metadata": {},
   "source": [
    "This interactive map displays all off-street car parks across Melbourne.  \n",
    "Each marker shows details such as address, type of facility, and available spaces.  \n",
    "Clustering makes the map easier to explore without overwhelming the view.\n"
   ]
  },
  {
   "cell_type": "markdown",
   "id": "42f75c37-80c3-408f-ac83-37cf71c82db2",
   "metadata": {},
   "source": [
    "# RT ACCESSIBLE PARKING – 1.3\n",
    "\n",
    "### Mapping Parking Meter Locations and Payment Options\n",
    "\n",
    "This visualisation shows where on-street parking meters are located across the City of Melbourne.\n",
    "\n",
    "Each marker represents a meter, with pop-up information about its location and what kinds of payment it accepts (e.g. credit card or Tap & Go). This helps identify areas where digital or cashless payment options are available — which can be important for planning accessible and inclusive parking.\n",
    "\n",
    "The data comes from the City of Melbourne’s open dataset on on-street parking meters.\n"
   ]
  },
  {
   "cell_type": "markdown",
   "id": "a23f1b3f-8851-4aa8-a4b9-eb962091f08f",
   "metadata": {},
   "source": [
    "## Step 1: Load On-Street Parking Meter Data from the City of Melbourne\n",
    "\n",
    "This dataset contains the locations of parking meters across Melbourne. Each record includes the zone, meter ID, and whether it is single or multi-bay.\n"
   ]
  },
  {
   "cell_type": "code",
   "execution_count": null,
   "id": "43ae46a7-4bf7-4d45-9b56-e23f64c2374c",
   "metadata": {},
   "outputs": [],
   "source": [
    "# Step 1: Define which parking meter dataset to download\n",
    "dataset_meters = 'on-street-car-parking-meters-with-location'\n",
    "\n",
    "# Fetch and load the parking meter dataset\n",
    "df_meters = fetch_parking_dataset(\n",
    "    base_url=BASE_URL,\n",
    "    dataset_id=dataset_meters,\n",
    "    api_key=API_KEY,\n",
    "    limit=100,             # Max allowed per API\n",
    "    max_pages=100          # Adjust based on dataset size\n",
    ")\n",
    "\n",
    "# Print the number of parking meter records retrieved\n",
    "print(\"Parking Meter Records Loaded:\", df_meters.shape)\n",
    "\n",
    "# Display a preview of the data\n",
    "df_meters.head()\n"
   ]
  },
  {
   "cell_type": "markdown",
   "id": "03c81ac3-9d81-409c-bf37-38bced1c1de6",
   "metadata": {},
   "source": [
    "This confirms that 1,296 parking meter records were successfully retrieved.  \n",
    "The preview shows fields such as meter ID, location description, and payment options (e.g. card or tap-and-go).  \n",
    "This gives a snapshot of how parking payments are distributed across Melbourne.\n"
   ]
  },
  {
   "cell_type": "markdown",
   "id": "4616236b-6c32-488e-ae35-799297535fb9",
   "metadata": {},
   "source": [
    "## Step 2: Prepare Parking Meter Data for Mapping\n",
    "\n",
    "We’ll filter out any records missing location data, make sure latitude and longitude are numeric, and keep key columns like zone ID and meter type. This will allow us to show each parking meter clearly on the map.\n"
   ]
  },
  {
   "cell_type": "code",
   "execution_count": null,
   "id": "07541eb9-44cc-469f-bc5e-2b3256afb63c",
   "metadata": {},
   "outputs": [],
   "source": [
    "# Filter rows with valid coordinates\n",
    "df_meters = df_meters[df_meters['latitude'].notnull() & df_meters['longitude'].notnull()].copy()\n",
    "\n",
    "# Convert coordinates to float\n",
    "df_meters['latitude'] = df_meters['latitude'].astype(float)\n",
    "df_meters['longitude'] = df_meters['longitude'].astype(float)\n",
    "\n",
    "# Keep relevant fields for the map\n",
    "df_map_meters = df_meters[[\n",
    "    'meter_id',\n",
    "    'location_description',\n",
    "    'creditcard',\n",
    "    'tapandgo',\n",
    "    'latitude',\n",
    "    'longitude'\n",
    "]]\n",
    "\n",
    "# Preview cleaned data\n",
    "df_map_meters.head()\n"
   ]
  },
  {
   "cell_type": "markdown",
   "id": "9338daa7-51c1-412d-91d9-524a16fc30ec",
   "metadata": {},
   "source": [
    "This confirms that only parking meter records with valid coordinates were kept.  \n",
    "The preview shows meter ID, location details, and payment methods alongside latitude and longitude.  \n",
    "The dataset is now clean and ready to be mapped.\n"
   ]
  },
  {
   "cell_type": "markdown",
   "id": "8f49695c-1d32-4afd-ab65-35696be0bda2",
   "metadata": {},
   "source": [
    "## Step 3: Show On-Street Parking Meters on a Map\n",
    "\n",
    "This step displays all on-street parking meters across Melbourne. Each marker shows the meter ID, the zone it belongs to, and the type of bay (e.g. single or multi-bay).\n"
   ]
  },
  {
   "cell_type": "code",
   "execution_count": null,
   "id": "e47bcc5f-1c2e-4a65-b793-3708bc10b165",
   "metadata": {},
   "outputs": [],
   "source": [
    "# Create base map\n",
    "m = folium.Map(location=[-37.8136, 144.9631], zoom_start=14, tiles=\"CartoDB positron\")\n",
    "marker_cluster = MarkerCluster().add_to(m)\n",
    "\n",
    "# Add each meter to the map\n",
    "for _, row in df_map_meters.iterrows():\n",
    "    popup = f\"\"\"\n",
    "    <strong>Meter ID:</strong> {row['meter_id']}<br>\n",
    "    <strong>Location:</strong> {row['location_description']}<br>\n",
    "    <strong>Credit Card:</strong> {row['creditcard']}<br>\n",
    "    <strong>Tap & Go:</strong> {row['tapandgo']}\n",
    "    \"\"\"\n",
    "    folium.Marker(\n",
    "        location=[row['latitude'], row['longitude']],\n",
    "        popup=folium.Popup(popup, max_width=250),\n",
    "        icon=folium.Icon(color='orange', icon='credit-card', prefix='fa')\n",
    "    ).add_to(marker_cluster)\n",
    "\n",
    "m\n"
   ]
  },
  {
   "cell_type": "markdown",
   "id": "9a85a35d-dd13-487f-af35-8d66d26ee1de",
   "metadata": {},
   "source": [
    "This interactive map displays parking meter locations across Melbourne.  \n",
    "Each clustered marker shows meter ID and payment options when clicked.  \n",
    "Clustering improves readability and makes dense areas easier to explore.\n"
   ]
  },
  {
   "cell_type": "markdown",
   "id": "d0e8c898-6cb2-4f50-89a2-11d79e74b834",
   "metadata": {},
   "source": [
    "# RT ACCESSIBLE PARKING – 1.4\n",
    "\n",
    "### Visualising Parking Restrictions Across Melbourne Streets\n",
    "\n",
    "This section shows a heatmap of all on-street parking bays, based on how restrictive they are.\n",
    "\n",
    "Each bay includes details such as time limits, restrictions, and enforcement rules. The more restrictive the parking bay (e.g. short time limits, tow-away zones), the stronger the colour appears on the map.\n",
    "\n",
    "This helps highlight areas where it may be harder to find flexible or accessible parking — supporting better decision-making for urban planning and disability access improvements.\n"
   ]
  },
  {
   "cell_type": "markdown",
   "id": "14dc661e-2df6-4e49-afaf-0919bb6c7a6d",
   "metadata": {},
   "source": [
    "## Step 1: Load On-Street Parking Bay Data from the City of Melbourne\n",
    "\n",
    "This dataset includes every on-street parking bay in Melbourne, with information about restrictions, time limits, and location.\n",
    "\n",
    "We’ll use it to show which areas are more restrictive than others — for example, shorter maximum stay or strict tow-away zones.\n"
   ]
  },
  {
   "cell_type": "code",
   "execution_count": null,
   "id": "9c7bede4-d7c1-4987-9b28-325be930d0a3",
   "metadata": {},
   "outputs": [],
   "source": [
    "# Step 1: Define which parking bay restriction dataset to download\n",
    "dataset_restrictions = 'on-street-parking-bays'\n",
    "\n",
    "# Fetch and load the parking bay restriction dataset\n",
    "df_restrict = fetch_parking_dataset(\n",
    "    base_url=BASE_URL,\n",
    "    dataset_id=dataset_restrictions,\n",
    "    api_key=API_KEY,\n",
    "    limit=100,             # Max allowed per API\n",
    "    max_pages=100          # Adjust based on dataset size\n",
    ")\n",
    "\n",
    "# Print the number of parking bays retrieved\n",
    "print(\"Parking Bays Loaded:\", df_restrict.shape)\n",
    "\n",
    "# Display a preview of the data\n",
    "df_restrict.head()\n"
   ]
  },
  {
   "cell_type": "markdown",
   "id": "3b45d650-3cf1-4558-b3a7-79f612ed2132",
   "metadata": {},
   "source": [
    "This confirms that 10,000 parking bay restriction records were successfully retrieved.  \n",
    "The preview shows road segment IDs, descriptions, coordinates, and last updated dates.  \n",
    "This gives the base dataset for analysing on-street parking restrictions.\n"
   ]
  },
  {
   "cell_type": "markdown",
   "id": "0c501149-7aac-48e4-a49d-e7d0b9e55ac1",
   "metadata": {},
   "source": [
    "## Step 2: Clean and Prepare Data for Heatmap\n",
    "\n",
    "This step filters out bays without coordinates, converts them to numeric values, and focuses on key columns like restriction type and maximum stay time. \n",
    "\n",
    "We’ll use this to visualise restriction intensity later — for example, short stay bays can be considered more restrictive.\n"
   ]
  },
  {
   "cell_type": "code",
   "execution_count": null,
   "id": "bc7a1126-3891-4f6a-b4ec-2ee6472df331",
   "metadata": {},
   "outputs": [],
   "source": [
    "# Keep only rows with valid coordinates\n",
    "df_restrict = df_restrict[df_restrict['latitude'].notnull() & df_restrict['longitude'].notnull()].copy()\n",
    "\n",
    "# Convert to float\n",
    "df_restrict['latitude'] = df_restrict['latitude'].astype(float)\n",
    "df_restrict['longitude'] = df_restrict['longitude'].astype(float)\n",
    "\n",
    "# Keep only coordinates\n",
    "df_heatmap = df_restrict[['latitude', 'longitude']]\n",
    "df_heatmap.head()\n"
   ]
  },
  {
   "cell_type": "markdown",
   "id": "e36de32d-d233-4954-8d0b-a2dca3280e55",
   "metadata": {},
   "source": [
    "This confirms that only records with valid latitude and longitude were kept.  \n",
    "The preview now shows clean numeric coordinates ready for mapping.  \n",
    "The dataset is prepared for use in the heatmap visualisation.\n"
   ]
  },
  {
   "cell_type": "markdown",
   "id": "797a2146-fe8b-4468-ad21-a285e1b6b380",
   "metadata": {},
   "source": [
    "## Step 3: Visualise Parking Bay Density with a Heatmap\n",
    "\n",
    "This map shows where on-street parking bays are concentrated across Melbourne.\n",
    "\n",
    "The more intense the colour, the more bays exist in that area. This can help highlight areas with heavy parking control or potential congestion — useful when planning accessible or flexible parking spaces.\n"
   ]
  },
  {
   "cell_type": "code",
   "execution_count": null,
   "id": "fa105e06-fcf3-4478-9be4-0dd13201da74",
   "metadata": {},
   "outputs": [],
   "source": [
    "\n",
    "# Create a base map centred on Melbourne\n",
    "m = folium.Map(location=[-37.8136, 144.9631], zoom_start=14, tiles=\"CartoDB positron\")\n",
    "\n",
    "# Convert DataFrame to a list of [lat, lon] pairs\n",
    "heat_data = df_heatmap[['latitude', 'longitude']].values.tolist()\n",
    "\n",
    "# Add heatmap layer\n",
    "HeatMap(heat_data, radius=9, blur=15, max_zoom=13).add_to(m)\n",
    "\n",
    "# Display the map\n",
    "m\n"
   ]
  },
  {
   "cell_type": "markdown",
   "id": "783f324c-e0c5-413c-b5d2-d81f18059645",
   "metadata": {},
   "source": [
    "This interactive heatmap shows where parking bays are most concentrated across Melbourne.  \n",
    "Areas with brighter colours have more bays, while darker areas have fewer.  \n",
    "It provides a clear picture of parking restriction intensity by location.\n"
   ]
  },
  {
   "cell_type": "markdown",
   "id": "87eedb3f-afd1-41e6-bec1-8feea7f7c04a",
   "metadata": {},
   "source": [
    "# RT ACCESSIBLE PARKING – 1.5\n",
    "\n",
    "### Tracking the Growth of Accessible Parking Bays Over Time\n",
    "\n",
    "This visualisation shows how the number of accessible (disability) parking bays has changed over time in Melbourne.\n",
    "\n",
    "By analysing when bays were added or updated, we can track improvements in inclusive access across the city. This helps highlight periods of investment, areas of neglect, or momentum toward accessibility targets.\n",
    "\n",
    "The data comes from the City of Melbourne's open dataset for on-street accessible bays.\n"
   ]
  },
  {
   "cell_type": "markdown",
   "id": "dcb059b7-8044-436a-b262-8e299649394c",
   "metadata": {},
   "source": [
    "## Step 1: Check Date Columns in Accessible Bays Dataset\n",
    "\n",
    "To create a time series chart, we need to know **when** each bay was created or last updated.\n",
    "\n",
    "Let’s see what date-related columns are available in the dataset.\n"
   ]
  },
  {
   "cell_type": "code",
   "execution_count": null,
   "id": "23de2a10-3e9b-403e-a593-84b37f34e6aa",
   "metadata": {},
   "outputs": [],
   "source": [
    "# Preview column names\n",
    "df_bays.columns.tolist()\n",
    "\n",
    "# Preview a few rows to find date fields\n",
    "df_bays.head()\n"
   ]
  },
  {
   "cell_type": "markdown",
   "id": "785cb352-b25b-4df7-9912-4670eaa47fa1",
   "metadata": {},
   "source": [
    "This preview confirms the dataset structure and shows the key date field `lastupdated`.  \n",
    "This field will be converted to proper datetime format for time-series analysis.\n"
   ]
  },
  {
   "cell_type": "markdown",
   "id": "7bfb3f82-ffed-484e-a8f2-08867aff6988",
   "metadata": {},
   "source": [
    "## Step 2: Prepare Date Column and Group Bays by Month\n",
    "\n",
    "This step converts the 'lastupdated' column to a proper date format, then groups the data to show how many bays were added or changed over time.\n"
   ]
  },
  {
   "cell_type": "code",
   "execution_count": null,
   "id": "ad4f17c7-e2a2-496e-8b3a-0cd7175f6034",
   "metadata": {},
   "outputs": [],
   "source": [
    "# Convert lastupdated to datetime\n",
    "df_bays['lastupdated'] = pd.to_datetime(df_bays['lastupdated'], errors='coerce')\n",
    "\n",
    "# Drop rows with invalid dates\n",
    "df_bays = df_bays[df_bays['lastupdated'].notnull()].copy()\n",
    "\n",
    "# Group by month and count entries\n",
    "monthly_counts = df_bays.groupby(df_bays['lastupdated'].dt.to_period('M')).size()\n",
    "\n",
    "# Convert PeriodIndex to datetime for plotting\n",
    "monthly_counts.index = monthly_counts.index.to_timestamp()\n",
    "\n",
    "# Preview\n",
    "monthly_counts.head()\n"
   ]
  },
  {
   "cell_type": "markdown",
   "id": "7dbc26f7-173d-4ccf-93d5-2d8ef5f68cce",
   "metadata": {},
   "source": [
    "This confirms that the `lastupdated` column was converted successfully into datetime format.  \n",
    "The output shows the number of bay records grouped by month, ready for visualisation.\n"
   ]
  },
  {
   "cell_type": "markdown",
   "id": "e0bdb2d0-fe19-4c51-9a9a-cd12f441f7fc",
   "metadata": {},
   "source": [
    "## Step 3: Plot Monthly Growth of Accessible Parking Bays\n",
    "\n",
    "This line chart shows how many accessible bays were added (or last updated) each month.\n",
    "\n",
    "It helps highlight when improvements were made and whether growth has increased, slowed, or remained steady over time.\n"
   ]
  },
  {
   "cell_type": "code",
   "execution_count": null,
   "id": "e3544ab3-dc12-4f0b-a0ae-73c7aaa8b61a",
   "metadata": {},
   "outputs": [],
   "source": [
    "# Plotting\n",
    "plt.figure(figsize=(12, 6))\n",
    "monthly_counts.plot(kind='line', marker='o', linewidth=2)\n",
    "\n",
    "# Labels and title\n",
    "plt.title('Monthly Accessible Parking Bay Updates in Melbourne', fontsize=14)\n",
    "plt.xlabel('Month', fontsize=12)\n",
    "plt.ylabel('Number of Bays Updated', fontsize=12)\n",
    "plt.grid(True)\n",
    "plt.tight_layout()\n",
    "plt.show()\n"
   ]
  },
  {
   "cell_type": "markdown",
   "id": "c8b2ce64-4252-4382-8958-90a57532a5f9",
   "metadata": {},
   "source": [
    "This line chart shows how the number of bay records changes over time.  \n",
    "It highlights periods where new data was added or updated more frequently.\n"
   ]
  },
  {
   "cell_type": "markdown",
   "id": "221e1b90-516f-4c7e-b89e-60872bc00d88",
   "metadata": {},
   "source": [
    "# RT ACCESSIBLE PARKING – 1.6P\n",
    "\n",
    "### Comparing Accessibility Coverage with High-Demand Parking Zones\n",
    "\n",
    "This visualisation overlays two layers:\n",
    "\n",
    "1. Accessible parking bay locations  \n",
    "2. Parking meter density (as a proxy for parking demand)\n",
    "\n",
    "By combining these, we can identify areas where demand is high but accessible infrastructure is missing — helping planners prioritise improvements where they’re most needed.\n"
   ]
  },
  {
   "cell_type": "code",
   "execution_count": null,
   "id": "00756a46-3e79-4b49-8873-c91fece8ac91",
   "metadata": {},
   "outputs": [],
   "source": [
    "# Accessible bays (from df_bays used earlier)\n",
    "accessible_coords = df_bays[['latitude', 'longitude']].dropna()\n",
    "accessible_coords = accessible_coords.astype(float)\n",
    "\n",
    "# Parking meters (from df_map_meters or df_meters)\n",
    "meter_coords = df_meters[['latitude', 'longitude']].dropna()\n",
    "meter_coords = meter_coords.astype(float)\n",
    "\n",
    "print(\"Accessible Bays:\", accessible_coords.shape[0])\n",
    "print(\"Parking Meters:\", meter_coords.shape[0])\n"
   ]
  },
  {
   "cell_type": "markdown",
   "id": "35bb009e-4937-4203-a600-34c9dc7516ef",
   "metadata": {},
   "source": [
    "## Step 2: Display Multi-Layer Map of Accessibility and Demand\n",
    "\n",
    "This map shows two layers:\n",
    "\n",
    "- **Blue markers**: accessible parking bays (individual markers)\n",
    "- **Red heatmap**: areas with a high density of parking meters (demand zones)\n",
    "\n",
    "This lets us visually identify areas with high parking activity but low accessible bay coverage.\n"
   ]
  },
  {
   "cell_type": "code",
   "execution_count": null,
   "id": "eaf292da-92d6-4bd7-bb0b-577a1815b74b",
   "metadata": {},
   "outputs": [],
   "source": [
    "# Create base map\n",
    "m = folium.Map(location=[-37.8136, 144.9631], zoom_start=14, tiles=\"CartoDB positron\")\n",
    "\n",
    "# Add demand heatmap (meter density)\n",
    "heat_data = meter_coords[['latitude', 'longitude']].values.tolist()\n",
    "HeatMap(heat_data, radius=10, blur=15, gradient={0.4: 'orange', 0.7: 'red'}).add_to(m)\n",
    "\n",
    "# Add accessible bay markers\n",
    "for _, row in accessible_coords.iterrows():\n",
    "    folium.CircleMarker(\n",
    "        location=[row['latitude'], row['longitude']],\n",
    "        radius=3,\n",
    "        color='blue',\n",
    "        fill=True,\n",
    "        fill_opacity=0.8\n",
    "    ).add_to(m)\n",
    "\n",
    "# Show map\n",
    "m\n"
   ]
  },
  {
   "cell_type": "markdown",
   "id": "d573316b-de02-4f6a-a59c-1cd0c0487870",
   "metadata": {},
   "source": [
    "## RT ACCESSIBLE PARKING – 1.7P\n",
    "\n",
    "### Exploratory Analysis of Parking Distribution\n",
    "\n",
    "This section provides an early look at how parking bays are distributed across the City of Melbourne. This helps to contextualise where accessibility features are concentrated or lacking.\n"
   ]
  },
  {
   "cell_type": "code",
   "execution_count": null,
   "id": "07332606-cc23-4265-981a-9e739aa2393a",
   "metadata": {},
   "outputs": [],
   "source": [
    "# Count the number of bays per road segment\n",
    "df_bays['roadsegmentdescription'].value_counts()\n"
   ]
  },
  {
   "cell_type": "markdown",
   "id": "40fa161e-ca9b-435d-8508-9308a86869a4",
   "metadata": {},
   "source": [
    "This breakdown shows how parking bays are distributed across road segments in Melbourne. It helps identify which streets have the highest concentration of bays.\n"
   ]
  },
  {
   "cell_type": "code",
   "execution_count": null,
   "id": "b8b38826-687d-45e9-88b2-8f3cea4437cb",
   "metadata": {},
   "outputs": [],
   "source": [
    "# Compare segments across different zones\n",
    "segment_counts = (\n",
    "    df_bays['roadsegmentdescription']\n",
    "      .value_counts()\n",
    "      .rename_axis('roadsegment')\n",
    "      .to_frame('bay_count')\n",
    ")\n",
    "segment_counts.head()\n",
    "\n"
   ]
  },
  {
   "cell_type": "markdown",
   "id": "4eb599d3-c324-4645-ae2c-bca66b993243",
   "metadata": {},
   "source": [
    "This table shows the number of accessible bays per road segment.  \n",
    "It highlights which streets have the highest concentration of disability bays.\n"
   ]
  },
  {
   "cell_type": "code",
   "execution_count": null,
   "id": "83752b72-ad45-490b-a814-132bbaa03c02",
   "metadata": {},
   "outputs": [],
   "source": [
    "# Count bays per kerbside ID (sub-segment of roads)\n",
    "df_bays['kerbsideid'].value_counts()\n"
   ]
  },
  {
   "cell_type": "markdown",
   "id": "9e63d6a3-94ef-4297-9200-a27a4110de58",
   "metadata": {},
   "source": [
    "This count reveals how many bays are located at each kerbside segment. It gives a more detailed look at the parking layout within road segments.\n"
   ]
  },
  {
   "cell_type": "code",
   "execution_count": null,
   "id": "a259cf7a-201c-4614-a92a-6170ae09c2f4",
   "metadata": {},
   "outputs": [],
   "source": [
    "# Get top 10 most common road segments\n",
    "top_segments = df_bays['roadsegmentdescription'].value_counts().head(10)\n",
    "\n",
    "# Create horizontal bar plot\n",
    "plt.figure(figsize=(10, 6))\n",
    "top_segments.plot(kind='barh', color='teal')\n",
    "plt.xlabel('Number of Bays')\n",
    "plt.ylabel('Road Segment')\n",
    "plt.title('Top 10 Road Segments with Most Parking Bays')\n",
    "plt.gca().invert_yaxis()  # optional: highest bar on top\n",
    "plt.grid(axis='x', linestyle='--', alpha=0.7)\n",
    "plt.tight_layout()\n",
    "plt.show()\n"
   ]
  },
  {
   "cell_type": "markdown",
   "id": "b97b8a05-41e7-4487-a6a0-c1a36db922ea",
   "metadata": {},
   "source": [
    "This horizontal bar chart visualises the 10 road segments with the highest number of parking bays. It provides a clearer view of street-level accessibility distribution.\n"
   ]
  },
  {
   "cell_type": "markdown",
   "id": "123c8e9d-ba1b-45a4-84be-ae647e084255",
   "metadata": {},
   "source": [
    "IpyWidgets to come, need to split into part1 and part 2\n"
   ]
  },
  {
   "cell_type": "markdown",
   "id": "61601463-3d77-446e-912b-14aa917ad054",
   "metadata": {},
   "source": [
    "## Step 1: Create an IpyWidgets app layout\n",
    "\n",
    "This sets up the app structure using tabs, so users can switch between each visual - unfinished.\n"
   ]
  },
  {
   "cell_type": "code",
   "execution_count": null,
   "id": "aa95a020-e41e-47fc-a5cd-69d757be5df0",
   "metadata": {},
   "outputs": [],
   "source": [
    "# Create empty output widgets for each tab\n",
    "tab1_out = Output()\n",
    "tab2_out = Output()\n",
    "tab3_out = Output()\n",
    "tab4_out = Output()\n",
    "tab5_out = Output()\n",
    "tab6_out = Output()\n",
    "\n",
    "# Define tabs and assign titles\n",
    "tabs = Tab(children=[tab1_out, tab2_out, tab3_out, tab4_out, tab5_out, tab6_out])\n",
    "tabs.set_title(0, \"1.1P Accessible Bays\")\n",
    "tabs.set_title(1, \"1.2P Off-Street Car Parks\")\n",
    "tabs.set_title(2, \"1.3P Parking Meters\")\n",
    "tabs.set_title(3, \"1.4P Restriction Heatmap\")\n",
    "tabs.set_title(4, \"1.5P Bays Over Time\")\n",
    "tabs.set_title(5, \"1.6P Accessibility vs Demand\")\n",
    "\n",
    "# Display the dashboard title and the tabs\n",
    "display(HTML(\"<h1> RT ACCESSIBLE PARKING Dashboard</h1>\"))\n",
    "display(HTML(\"<p>This dashboard visualises accessible parking across Melbourne using open data.</p>\"))\n",
    "display(tabs)\n"
   ]
  },
  {
   "cell_type": "code",
   "execution_count": null,
   "id": "f3ce0d1f-d81d-4e7a-b686-3f545535bfca",
   "metadata": {},
   "outputs": [],
   "source": [
    "with tab1_out:\n",
    "    display(HTML(\"<h3>1.1P Accessible Bays</h3>\"))\n",
    "\n",
    "    # Example map \n",
    "    bay_map = folium.Map(location=[-37.8136, 144.9631], zoom_start=13)\n",
    "    folium.Marker(location=[-37.8136, 144.9631], popup=\"Example Bay\").add_to(bay_map)\n",
    "\n",
    "    display(bay_map)\n"
   ]
  },
  {
   "cell_type": "code",
   "execution_count": null,
   "id": "d75b87a3-d46b-4191-986b-a7fba6ed48fb",
   "metadata": {},
   "outputs": [],
   "source": [
    "with tab2_out:\n",
    "    display(HTML(\"<h3>1.2P Off-Street Car Parks</h3>\"))\n",
    "\n",
    "    carpark_map = folium.Map(location=[-37.8136, 144.9631], zoom_start=13)\n",
    "\n",
    "    # Example markers \n",
    "    folium.Marker(location=[-37.81, 144.96], popup=\"Car Park A\").add_to(carpark_map)\n",
    "    folium.Marker(location=[-37.82, 144.95], popup=\"Car Park B\").add_to(carpark_map)\n",
    "\n",
    "    display(carpark_map)\n"
   ]
  },
  {
   "cell_type": "code",
   "execution_count": null,
   "id": "7be61634-fd93-4529-8452-20ecde363baf",
   "metadata": {},
   "outputs": [],
   "source": [
    "with tab3_out:\n",
    "    display(HTML(\"<h3>1.3P Parking Meters</h3>\"))\n",
    "\n",
    "    meter_map = folium.Map(location=[-37.8136, 144.9631], zoom_start=13)\n",
    "\n",
    "    # Example marker \n",
    "    folium.Marker(location=[-37.814, 144.965], popup=\"Meter 001\").add_to(meter_map)\n",
    "\n",
    "    display(meter_map)\n"
   ]
  },
  {
   "cell_type": "code",
   "execution_count": null,
   "id": "90fc5363-bfc2-4471-92c7-9aa70f31bc01",
   "metadata": {},
   "outputs": [],
   "source": [
    "with tab4_out:\n",
    "    display(HTML(\"<h3>1.4P Restriction Heatmap</h3>\"))\n",
    "\n",
    "    heat_map = folium.Map(location=[-37.8136, 144.9631], zoom_start=13)\n",
    "\n",
    "    # Example coordinates \n",
    "    heat_data = [[-37.8136, 144.9631], [-37.814, 144.9645], [-37.815, 144.962]]\n",
    "    HeatMap(heat_data).add_to(heat_map)\n",
    "\n",
    "    display(heat_map)\n"
   ]
  },
  {
   "cell_type": "code",
   "execution_count": null,
   "id": "584299c1-9940-4c88-8325-92bdef5d1284",
   "metadata": {},
   "outputs": [],
   "source": [
    "with tab5_out:\n",
    "    display(HTML(\"<h3>1.5P Bays Over Time</h3>\"))\n",
    "\n",
    "    # Example matplotlib plot — replace with your own df timeline analysis\n",
    "    import matplotlib.pyplot as plt\n",
    "\n",
    "    fig, ax = plt.subplots()\n",
    "    ax.plot([1, 2, 3, 4], [100, 130, 150, 180], marker='o')\n",
    "    ax.set_title(\"Accessible Bays Added Over Time\")\n",
    "    ax.set_xlabel(\"Year\")\n",
    "    ax.set_ylabel(\"Bays\")\n",
    "\n",
    "    display(fig)\n",
    "    "
   ]
  },
  {
   "cell_type": "code",
   "execution_count": null,
   "id": "7bee8805-682e-4a95-b3d1-a24aa3427016",
   "metadata": {},
   "outputs": [],
   "source": [
    "with tab6_out:\n",
    "    display(HTML(\"<h3>1.6P Accessibility vs Demand</h3>\"))\n",
    "\n",
    "    # Example bar chart (static) — replace with real accessibility vs usage data\n",
    "    fig, ax = plt.subplots()\n",
    "    categories = ['CBD', 'Docklands', 'Carlton', 'Southbank']\n",
    "    access = [120, 80, 95, 60]\n",
    "    demand = [200, 150, 100, 90]\n",
    "\n",
    "    ax.bar(categories, access, label='Accessible Bays', alpha=0.7)\n",
    "    ax.bar(categories, demand, label='Estimated Demand', alpha=0.7)\n",
    "    ax.set_title(\"Accessibility vs Estimated Demand\")\n",
    "    ax.legend()\n",
    "\n",
    "    display(fig)\n"
   ]
  },
  {
   "cell_type": "code",
   "execution_count": null,
   "id": "0617d8ed-d457-4750-b5ab-a4ef83931037",
   "metadata": {},
   "outputs": [],
   "source": []
  }
 ],
 "metadata": {
  "kernelspec": {
   "display_name": "Python 3 (ipykernel)",
   "language": "python",
   "name": "python3"
  },
  "language_info": {
   "codemirror_mode": {
    "name": "ipython",
    "version": 3
   },
   "file_extension": ".py",
   "mimetype": "text/x-python",
   "name": "python",
   "nbconvert_exporter": "python",
   "pygments_lexer": "ipython3",
   "version": "3.13.1"
  }
 },
 "nbformat": 4,
 "nbformat_minor": 5
}
