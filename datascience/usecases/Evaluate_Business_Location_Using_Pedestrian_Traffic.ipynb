{
 "cells": [
  {
   "cell_type": "markdown",
   "id": "239a2761",
   "metadata": {},
   "source": [
    "<p style=\"font-family: helvetica,arial,sans-serif; font-size:1.8em;color:white; background-color: black; height:28px; \">&emsp;<b>Evaluate Business Location Using Pedestrian Foot Traffic</b></p>\n",
    "    \n",
    "<p style=\"font-family: helvetica,arial,sans-serif; font-size:1.6em;color:black; background-color: #DDDDDD; \">&emsp;<b>Authored by: </b>Barkha Javed, Weiran Kong</p>"
   ]
  },
  {
   "cell_type": "markdown",
   "id": "1546cdd5",
   "metadata": {},
   "source": [
    "<p style=\"font-family: helvetica,arial,sans-serif; font-size:1.6em;color:white; background-color: black; text-align:right\">\n",
    "<b>Duration:</b> 40 mins&emsp;</p>\n",
    "\n",
    "<p style=\"font-family: helvetica,arial,sans-serif; font-size:1.6em;color:black; background-color: #DDDDDD;\">&emsp;<b>Level:</b> Intermediate&emsp;&emsp;&emsp;&emsp;&emsp;&emsp;&emsp;&emsp;<b>Pre-requisite Skills:</b>Python</p>"
   ]
  },
  {
   "cell_type": "markdown",
   "id": "48e38b9f",
   "metadata": {},
   "source": [
    "<p style=\"font-family: helvetica,arial,sans-serif; font-size:1.6em;color:white; background-color: black\">&emsp;<b>Scenario</b>"
   ]
  },
  {
   "cell_type": "markdown",
   "id": "b4594692",
   "metadata": {},
   "source": [
    "**As a business owner, I want to know how much pedestrian foot traffic occurs around me during the day and night, so that I can evaluate the suitability of the location and hours for my business.**\n",
    "\n",
    "Busy foot traffic in a business area may not always mean busy foot traffic at night.\n",
    "\n",
    "**As a business owner, I want to know how much pedestrian foot traffic I get compared to surrounding areas, so that I can assess if it is better to adapt my hours, extend or move locations.**\n",
    "\n",
    "A retailer with an online store presence may also be impacted by foot traffic, high foot traffic may mean increasing staff levels during specific hours. Significantly low foot traffic in comparison to other streets may mean adapting business stretegy or moving location. Duration of steady foot traffic from early morning to mid afternoon only, may indicate adapting business hours to match.\n",
    "\n",
    "\n",
    "**As a new business owner, I would like to know where similar businesses are located and the density of residents and office workers in comparison, so that I can evaluate the suitability of a location for my business.**\n",
    "\n",
    "For example the density of residents may indicate expected foot traffic thresholds, but office workers may also be working from home, some week days may have higher foot traffic than others.\n"
   ]
  },
  {
   "cell_type": "markdown",
   "id": "032867bd",
   "metadata": {},
   "source": [
    "<p style=\"font-family: helvetica,arial,sans-serif; font-size:1.6em;color:white; background-color: black\">&emsp;<b>What this Use Case will teach you</b>"
   ]
  },
  {
   "cell_type": "markdown",
   "id": "e1519038",
   "metadata": {},
   "source": [
    "At the end of this use case you will:\n"
   ]
  },
  {
   "cell_type": "markdown",
   "id": "a78f533b",
   "metadata": {},
   "source": [
    "<p style=\"font-family: helvetica,arial,sans-serif; font-size:1.6em;color:white; background-color: black\">&emsp;<b>A brief introduction to the datasets used</b>"
   ]
  },
  {
   "cell_type": "code",
   "execution_count": null,
   "id": "816cff81",
   "metadata": {},
   "outputs": [],
   "source": []
  },
  {
   "cell_type": "markdown",
   "id": "ac3b46be",
   "metadata": {},
   "source": [
    "<p style=\"font-family: helvetica,arial,sans-serif; font-size:1.6em;color:white; background-color: black\">&emsp;<b>Accessing and Loading data</b>"
   ]
  },
  {
   "cell_type": "code",
   "execution_count": 2,
   "id": "de0186b2",
   "metadata": {},
   "outputs": [
    {
     "name": "stderr",
     "output_type": "stream",
     "text": [
      "WARNING:root:Requests made without an app_token will be subject to strict throttling limits.\n"
     ]
    }
   ],
   "source": [
    "#Libraries to be installed, if using Google Colab for example\n",
    "#!pip install sodapy\n",
    "#!pip install geopandas\n",
    "#https://data.melbourne.vic.gov.au/resource/b2ak-trbp.json\n",
    "\n",
    "#load libraries\n",
    "import os\n",
    "import time\n",
    "\n",
    "from datetime import datetime\n",
    "import numpy as np\n",
    "import pandas as pd\n",
    "from sodapy import Socrata\n",
    "import plotly.graph_objs as go\n",
    "import plotly.express as px\n",
    "\n",
    "#establish connection\n",
    "apptoken = os.environ.get(\"SODAPY_APPTOKEN\") # Anonymous app token\n",
    "domain = \"data.melbourne.vic.gov.au\"\n",
    "client = Socrata(domain, apptoken) # Open Dataset connection"
   ]
  },
  {
   "cell_type": "code",
   "execution_count": 3,
   "id": "f5a31c04",
   "metadata": {},
   "outputs": [
    {
     "name": "stdout",
     "output_type": "stream",
     "text": [
      "The shape of dataset is (4415574, 9).\n",
      "Below are the first few rows of this dataset:\n"
     ]
    },
    {
     "data": {
      "text/html": [
       "<div>\n",
       "<style scoped>\n",
       "    .dataframe tbody tr th:only-of-type {\n",
       "        vertical-align: middle;\n",
       "    }\n",
       "\n",
       "    .dataframe tbody tr th {\n",
       "        vertical-align: top;\n",
       "    }\n",
       "\n",
       "    .dataframe thead th {\n",
       "        text-align: right;\n",
       "    }\n",
       "</style>\n",
       "<table border=\"1\" class=\"dataframe\">\n",
       "  <thead>\n",
       "    <tr style=\"text-align: right;\">\n",
       "      <th></th>\n",
       "      <th>date_time</th>\n",
       "      <th>year</th>\n",
       "      <th>month</th>\n",
       "      <th>mdate</th>\n",
       "      <th>day</th>\n",
       "      <th>time</th>\n",
       "      <th>sensor_id</th>\n",
       "      <th>sensor_name</th>\n",
       "      <th>hourly_counts</th>\n",
       "    </tr>\n",
       "  </thead>\n",
       "  <tbody>\n",
       "    <tr>\n",
       "      <th>0</th>\n",
       "      <td>2019-11-01T17:00:00.000</td>\n",
       "      <td>2019</td>\n",
       "      <td>November</td>\n",
       "      <td>1</td>\n",
       "      <td>Friday</td>\n",
       "      <td>17</td>\n",
       "      <td>34</td>\n",
       "      <td>Flinders St-Spark La</td>\n",
       "      <td>300</td>\n",
       "    </tr>\n",
       "    <tr>\n",
       "      <th>1</th>\n",
       "      <td>2019-11-01T17:00:00.000</td>\n",
       "      <td>2019</td>\n",
       "      <td>November</td>\n",
       "      <td>1</td>\n",
       "      <td>Friday</td>\n",
       "      <td>17</td>\n",
       "      <td>39</td>\n",
       "      <td>Alfred Place</td>\n",
       "      <td>604</td>\n",
       "    </tr>\n",
       "    <tr>\n",
       "      <th>2</th>\n",
       "      <td>2019-11-01T17:00:00.000</td>\n",
       "      <td>2019</td>\n",
       "      <td>November</td>\n",
       "      <td>1</td>\n",
       "      <td>Friday</td>\n",
       "      <td>17</td>\n",
       "      <td>37</td>\n",
       "      <td>Lygon St (East)</td>\n",
       "      <td>216</td>\n",
       "    </tr>\n",
       "    <tr>\n",
       "      <th>3</th>\n",
       "      <td>2019-11-01T17:00:00.000</td>\n",
       "      <td>2019</td>\n",
       "      <td>November</td>\n",
       "      <td>1</td>\n",
       "      <td>Friday</td>\n",
       "      <td>17</td>\n",
       "      <td>40</td>\n",
       "      <td>Lonsdale St-Spring St (West)</td>\n",
       "      <td>627</td>\n",
       "    </tr>\n",
       "    <tr>\n",
       "      <th>4</th>\n",
       "      <td>2019-11-01T17:00:00.000</td>\n",
       "      <td>2019</td>\n",
       "      <td>November</td>\n",
       "      <td>1</td>\n",
       "      <td>Friday</td>\n",
       "      <td>17</td>\n",
       "      <td>36</td>\n",
       "      <td>Queen St (West)</td>\n",
       "      <td>774</td>\n",
       "    </tr>\n",
       "    <tr>\n",
       "      <th>5</th>\n",
       "      <td>2019-11-01T17:00:00.000</td>\n",
       "      <td>2019</td>\n",
       "      <td>November</td>\n",
       "      <td>1</td>\n",
       "      <td>Friday</td>\n",
       "      <td>17</td>\n",
       "      <td>29</td>\n",
       "      <td>St Kilda Rd-Alexandra Gardens</td>\n",
       "      <td>644</td>\n",
       "    </tr>\n",
       "    <tr>\n",
       "      <th>6</th>\n",
       "      <td>2019-11-01T17:00:00.000</td>\n",
       "      <td>2019</td>\n",
       "      <td>November</td>\n",
       "      <td>1</td>\n",
       "      <td>Friday</td>\n",
       "      <td>17</td>\n",
       "      <td>42</td>\n",
       "      <td>Grattan St-Swanston St (West)</td>\n",
       "      <td>453</td>\n",
       "    </tr>\n",
       "    <tr>\n",
       "      <th>7</th>\n",
       "      <td>2019-11-01T17:00:00.000</td>\n",
       "      <td>2019</td>\n",
       "      <td>November</td>\n",
       "      <td>1</td>\n",
       "      <td>Friday</td>\n",
       "      <td>17</td>\n",
       "      <td>43</td>\n",
       "      <td>Monash Rd-Swanston St (West)</td>\n",
       "      <td>387</td>\n",
       "    </tr>\n",
       "    <tr>\n",
       "      <th>8</th>\n",
       "      <td>2019-11-01T17:00:00.000</td>\n",
       "      <td>2019</td>\n",
       "      <td>November</td>\n",
       "      <td>1</td>\n",
       "      <td>Friday</td>\n",
       "      <td>17</td>\n",
       "      <td>44</td>\n",
       "      <td>Tin Alley-Swanston St (West)</td>\n",
       "      <td>27</td>\n",
       "    </tr>\n",
       "    <tr>\n",
       "      <th>9</th>\n",
       "      <td>2019-11-01T17:00:00.000</td>\n",
       "      <td>2019</td>\n",
       "      <td>November</td>\n",
       "      <td>1</td>\n",
       "      <td>Friday</td>\n",
       "      <td>17</td>\n",
       "      <td>35</td>\n",
       "      <td>Southbank</td>\n",
       "      <td>2691</td>\n",
       "    </tr>\n",
       "  </tbody>\n",
       "</table>\n",
       "</div>"
      ],
      "text/plain": [
       "                 date_time  year     month  mdate     day  time  sensor_id  \\\n",
       "0  2019-11-01T17:00:00.000  2019  November      1  Friday    17         34   \n",
       "1  2019-11-01T17:00:00.000  2019  November      1  Friday    17         39   \n",
       "2  2019-11-01T17:00:00.000  2019  November      1  Friday    17         37   \n",
       "3  2019-11-01T17:00:00.000  2019  November      1  Friday    17         40   \n",
       "4  2019-11-01T17:00:00.000  2019  November      1  Friday    17         36   \n",
       "5  2019-11-01T17:00:00.000  2019  November      1  Friday    17         29   \n",
       "6  2019-11-01T17:00:00.000  2019  November      1  Friday    17         42   \n",
       "7  2019-11-01T17:00:00.000  2019  November      1  Friday    17         43   \n",
       "8  2019-11-01T17:00:00.000  2019  November      1  Friday    17         44   \n",
       "9  2019-11-01T17:00:00.000  2019  November      1  Friday    17         35   \n",
       "\n",
       "                     sensor_name  hourly_counts  \n",
       "0           Flinders St-Spark La            300  \n",
       "1                   Alfred Place            604  \n",
       "2                Lygon St (East)            216  \n",
       "3   Lonsdale St-Spring St (West)            627  \n",
       "4                Queen St (West)            774  \n",
       "5  St Kilda Rd-Alexandra Gardens            644  \n",
       "6  Grattan St-Swanston St (West)            453  \n",
       "7   Monash Rd-Swanston St (West)            387  \n",
       "8   Tin Alley-Swanston St (West)             27  \n",
       "9                      Southbank           2691  "
      ]
     },
     "execution_count": 3,
     "metadata": {},
     "output_type": "execute_result"
    }
   ],
   "source": [
    "#Examine data\n",
    "#Use file  retrieved via EDA\n",
    "ds_pft = pd.read_csv('sensor_history.csv')\n",
    "\n",
    "print(f'The shape of dataset is {ds_pft.shape}.')\n",
    "print('Below are the first few rows of this dataset:')\n",
    "\n",
    "ds_pft.head(10)"
   ]
  },
  {
   "cell_type": "code",
   "execution_count": null,
   "id": "6fdab4e0",
   "metadata": {},
   "outputs": [],
   "source": []
  },
  {
   "cell_type": "markdown",
   "id": "16d45a25",
   "metadata": {},
   "source": [
    "<p style=\"font-family: helvetica,arial,sans-serif; font-size:1.6em;color:white; background-color: black\">&emsp;<b>Day Economy</b>"
   ]
  },
  {
   "cell_type": "code",
   "execution_count": null,
   "id": "34d110e9",
   "metadata": {},
   "outputs": [],
   "source": []
  },
  {
   "cell_type": "markdown",
   "id": "724068c2",
   "metadata": {},
   "source": [
    "<p style=\"font-family: helvetica,arial,sans-serif; font-size:1.6em;color:white; background-color: black\">&emsp;<b>Night Economy</b>"
   ]
  },
  {
   "cell_type": "code",
   "execution_count": null,
   "id": "d9538b3f",
   "metadata": {},
   "outputs": [],
   "source": []
  },
  {
   "cell_type": "markdown",
   "id": "085d1441",
   "metadata": {},
   "source": [
    "<p style=\"font-family: helvetica,arial,sans-serif; font-size:1.6em;color:black; background-color: #EEEEEE\">&emsp;<b>Congratulations!</b>"
   ]
  },
  {
   "cell_type": "markdown",
   "id": "4fe1e0ee",
   "metadata": {},
   "source": [
    "You've successfully used Melbourne Open Data to visualise day and night pedestrian traffic in and around the City of Melbourne!<br>"
   ]
  },
  {
   "cell_type": "code",
   "execution_count": 1,
   "id": "b8962a2c",
   "metadata": {},
   "outputs": [
    {
     "name": "stderr",
     "output_type": "stream",
     "text": [
      "[NbConvertApp] Converting notebook Evaluate_Business_Location_Using_Pedestrian_Traffic.ipynb to html\n",
      "[NbConvertApp] Writing 583941 bytes to Evaluate_Business_Location_Using_Pedestrian_Traffic.html\n"
     ]
    }
   ],
   "source": [
    "!jupyter nbconvert --to html Evaluate_Business_Location_Using_Pedestrian_Traffic.ipynb"
   ]
  },
  {
   "cell_type": "markdown",
   "id": "1f593c82",
   "metadata": {},
   "source": [
    "<p style=\"font-family: helvetica,arial,sans-serif; font-size:1.6em;color:white; background-color: black\">&emsp;<b>References</b>"
   ]
  },
  {
   "cell_type": "markdown",
   "id": "cd20afff",
   "metadata": {},
   "source": [
    "City of Melbourne Open Data Team, 2014 - 2021,'Pedestrian Counting System - Monthly (counts per hour)', City of Melbourne, date retrieved 11 Aug 2022, <https://dev.socrata.com/foundry/data.melbourne.vic.gov.au/b2ak-trbp>\n",
    "\n",
    "\n",
    "    \n"
   ]
  },
  {
   "cell_type": "code",
   "execution_count": null,
   "id": "503e90d9",
   "metadata": {},
   "outputs": [],
   "source": []
  }
 ],
 "metadata": {
  "kernelspec": {
   "display_name": "Python 3 (ipykernel)",
   "language": "python",
   "name": "python3"
  },
  "language_info": {
   "codemirror_mode": {
    "name": "ipython",
    "version": 3
   },
   "file_extension": ".py",
   "mimetype": "text/x-python",
   "name": "python",
   "nbconvert_exporter": "python",
   "pygments_lexer": "ipython3",
   "version": "3.8.13"
  }
 },
 "nbformat": 4,
 "nbformat_minor": 5
}
