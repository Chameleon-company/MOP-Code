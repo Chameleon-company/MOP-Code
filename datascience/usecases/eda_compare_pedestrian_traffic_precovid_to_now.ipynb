{
 "cells": [
  {
   "cell_type": "markdown",
   "id": "b78111e4",
   "metadata": {},
   "source": [
    "<p style=\"font-family: helvetica,arial,sans-serif; font-size:2.0em;color:white; background-color: black\">&emsp;<b>EDA: Compare Pedestrian Traffic pre Covid to now</b></p>\n",
    "    \n",
    "<p style=\"font-family: helvetica,arial,sans-serif; font-size:1.6em;color:black; background-color: #DDDDDD; text-align:justify\">&emsp;<b>Authored by: </b> Barkha Javed</p>"
   ]
  },
  {
   "cell_type": "markdown",
   "id": "3a0a7e0f",
   "metadata": {},
   "source": [
    "<p style=\"font-family: helvetica,arial,sans-serif; font-size:1.6em;color:white; background-color: black; text-align:right\"> <b>Duration:</b> 90 mins&emsp;</p>\n",
    "\n",
    "<p style=\"font-family: helvetica,arial,sans-serif; font-size:1.6em;color:black; background-color: #DDDDDD; text-align:justify\">&emsp;<b>Level: </b>Intermediate&emsp;&emsp;&emsp;&emsp;&emsp;&emsp;&emsp;&emsp;<b>Pre-requisite Skills:</b>Python</p>"
   ]
  },
  {
   "cell_type": "markdown",
   "id": "967931fe",
   "metadata": {},
   "source": [
    "import pandas as pd\n",
    "import requests\n",
    "import io"
   ]
  },
  {
   "cell_type": "code",
   "execution_count": 3,
   "id": "c9112882",
   "metadata": {},
   "outputs": [],
   "source": [
    "url = \"https://raw.githubusercontent.com/M3IT/COVID-19_Data/master/Data/COVID_AU_deaths.csv\"\n",
    "download = requests.get(url).content\n",
    "df_deaths= pd.read_csv(io.StringIO(download.decode('utf-8')))"
   ]
  },
  {
   "cell_type": "code",
   "execution_count": 4,
   "id": "cc63cecf",
   "metadata": {},
   "outputs": [],
   "source": [
    "url = \"https://raw.githubusercontent.com/M3IT/COVID-19_Data/master/Data/COVID_AU_state.csv\"\n",
    "download = requests.get(url).content\n",
    "df_cases= pd.read_csv(io.StringIO(download.decode('utf-8')))\n",
    "\n",
    "#https://raw.githubusercontent.com/M3IT/COVID-19_Data/master/Data/COVID_Data_Hub_State.csv"
   ]
  },
  {
   "cell_type": "code",
   "execution_count": 5,
   "id": "97e00547",
   "metadata": {},
   "outputs": [
    {
     "name": "stdout",
     "output_type": "stream",
     "text": [
      "         date state   age age_bracket  gender  dd  state_cumulative\n",
      "0  2020-03-01    WA  78.0       70-79    Male  70                 1\n",
      "1  2020-03-04   NSW  95.0       90-99  Female  90                 1\n",
      "2  2020-03-08   NSW  82.0       80-89    Male  80                 2\n",
      "3  2020-03-13   QLD  77.0       70-79  Female  70                 1\n",
      "4  2020-03-15   NSW  77.0       70-79  Female  70                 3\n"
     ]
    }
   ],
   "source": [
    "print (df_deaths.head())"
   ]
  },
  {
   "cell_type": "code",
   "execution_count": null,
   "id": "1daf0352",
   "metadata": {},
   "outputs": [],
   "source": []
  }
 ],
 "metadata": {
  "kernelspec": {
   "display_name": "Python 3 (ipykernel)",
   "language": "python",
   "name": "python3"
  },
  "language_info": {
   "codemirror_mode": {
    "name": "ipython",
    "version": 3
   },
   "file_extension": ".py",
   "mimetype": "text/x-python",
   "name": "python",
   "nbconvert_exporter": "python",
   "pygments_lexer": "ipython3",
   "version": "3.8.13"
  }
 },
 "nbformat": 4,
 "nbformat_minor": 5
}
