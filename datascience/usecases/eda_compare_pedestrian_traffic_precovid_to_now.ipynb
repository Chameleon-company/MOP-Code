{
 "cells": [
  {
   "cell_type": "markdown",
   "id": "4c5bfa49",
   "metadata": {},
   "source": [
    "<p style=\"font-family: helvetica,arial,sans-serif; font-size:2.0em;color:white; background-color: black;\">&emsp;<b>EDA: Compare Pedestrian Traffic before Covid to now</b></p>\n",
    "    \n",
    "<p style=\"font-family: helvetica,arial,sans-serif; font-size:1.6em;color:black; background-color: #DDDDDD; text-align:justify\">&emsp;<b>Authored by: </b> Barkha Javed</p>"
   ]
  },
  {
   "cell_type": "markdown",
   "id": "d29b4228",
   "metadata": {},
   "source": [
    "<p style=\"font-family: helvetica,arial,sans-serif; font-size:1.6em;color:white; background-color: black; text-align:right\"> <b>Duration:</b> 90 mins&emsp;</p>\n",
    "\n",
    "<p style=\"font-family: helvetica,arial,sans-serif; font-size:1.6em;color:black; background-color: #DDDDDD; text-align:justify\">&emsp;<b>Level: </b>Intermediate&emsp;&emsp;&emsp;&emsp;&emsp;&emsp;&emsp;&emsp;<b>Pre-requisite Skills:</b>Python</p>"
   ]
  },
  {
   "cell_type": "markdown",
   "id": "c3adf799",
   "metadata": {},
   "source": [
    "<p style=\"font-family: helvetica,arial,sans-serif; font-size:1.6em;color:white; background-color: black\">&emsp;<b>Scenario</b>"
   ]
  },
  {
   "cell_type": "markdown",
   "id": "2dbd4c56",
   "metadata": {},
   "source": [
    "# Business & Activity \n",
    "As a small business owner, I want to understand how covid affected foot traffic, and how long it might take to return to normal. I'd also like deeper insights into how different activities can impact pedestrian traffic."
   ]
  },
  {
   "cell_type": "code",
   "execution_count": 13,
   "id": "0604cad9",
   "metadata": {},
   "outputs": [],
   "source": [
    "import pandas as pd\n",
    "import requests\n",
    "import io"
   ]
  },
  {
   "cell_type": "code",
   "execution_count": 15,
   "id": "e9918bf9",
   "metadata": {},
   "outputs": [],
   "source": [
    "url = \"https://raw.githubusercontent.com/M3IT/COVID-19_Data/master/Data/COVID_AU_deaths.csv\"\n",
    "download = requests.get(url).content\n",
    "df_deaths= pd.read_csv(io.StringIO(download.decode('utf-8')))"
   ]
  },
  {
   "cell_type": "code",
   "execution_count": 16,
   "id": "e7da1a78",
   "metadata": {},
   "outputs": [],
   "source": [
    "url = \"https://raw.githubusercontent.com/M3IT/COVID-19_Data/master/Data/COVID_AU_state.csv\"\n",
    "download = requests.get(url).content\n",
    "df_cases= pd.read_csv(io.StringIO(download.decode('utf-8')))"
   ]
  },
  {
   "cell_type": "code",
   "execution_count": 17,
   "id": "3c8d7e1e",
   "metadata": {},
   "outputs": [],
   "source": [
    "url = \"https://raw.githubusercontent.com/M3IT/COVID-19_Data/master/Data/COVID_Data_Hub_State.csv\"\n",
    "download = requests.get(url).content\n",
    "df_hub= pd.read_csv(io.StringIO(download.decode('utf-8')))"
   ]
  },
  {
   "cell_type": "code",
   "execution_count": 5,
   "id": "345fd650",
   "metadata": {},
   "outputs": [
    {
     "name": "stdout",
     "output_type": "stream",
     "text": [
      "         date state   age age_bracket  gender  dd  state_cumulative\n",
      "0  2020-03-01    WA  78.0       70-79    Male  70                 1\n",
      "1  2020-03-04   NSW  95.0       90-99  Female  90                 1\n",
      "2  2020-03-08   NSW  82.0       80-89    Male  80                 2\n",
      "3  2020-03-13   QLD  77.0       70-79  Female  70                 1\n",
      "4  2020-03-15   NSW  77.0       70-79  Female  70                 3\n"
     ]
    }
   ],
   "source": [
    "print (df_deaths.head())"
   ]
  },
  {
   "cell_type": "code",
   "execution_count": 18,
   "id": "061f4a76",
   "metadata": {},
   "outputs": [
    {
     "name": "stdout",
     "output_type": "stream",
     "text": [
      "         date                         state state_abbrev  confirmed  \\\n",
      "0  2020-01-25  Australian Capital Territory          ACT          0   \n",
      "1  2020-01-25               New South Wales          NSW          3   \n",
      "2  2020-01-25            Northern Territory           NT          0   \n",
      "3  2020-01-25                    Queensland          QLD          0   \n",
      "4  2020-01-25               South Australia           SA          0   \n",
      "\n",
      "   confirmed_cum  deaths  deaths_cum  tests  tests_cum  positives  ...  \\\n",
      "0              0       0           0      0          0          0  ...   \n",
      "1              3       0           0      0          0          3  ...   \n",
      "2              0       0           0      0          0          0  ...   \n",
      "3              0       0           0      0          0          0  ...   \n",
      "4              0       0           0      0          0          0  ...   \n",
      "\n",
      "   recovered  recovered_cum  hosp  hosp_cum  icu  icu_cum  vent  vent_cum  \\\n",
      "0          0              0     0         0    0        0     0         0   \n",
      "1          0              0     0         0    0        0     0         0   \n",
      "2          0              0     0         0    0        0     0         0   \n",
      "3          0              0     0         0    0        0     0         0   \n",
      "4          0              0     0         0    0        0     0         0   \n",
      "\n",
      "   vaccines  vaccines_cum  \n",
      "0         0             0  \n",
      "1         0             0  \n",
      "2         0             0  \n",
      "3         0             0  \n",
      "4         0             0  \n",
      "\n",
      "[5 rows x 21 columns]\n"
     ]
    }
   ],
   "source": [
    "print (df_cases.head())"
   ]
  },
  {
   "cell_type": "code",
   "execution_count": 19,
   "id": "75380524",
   "metadata": {},
   "outputs": [
    {
     "name": "stdout",
     "output_type": "stream",
     "text": [
      "         date  confirmed  deaths  tests  positives  recovered  hosp  icu  \\\n",
      "0  2020-01-25          0       0      0          0          0     0    0   \n",
      "1  2020-01-25          3       0      0          0          0     0    0   \n",
      "2  2020-01-25          0       0      0          0          0     0    0   \n",
      "3  2020-01-25          0       0      0          0          0     0    0   \n",
      "4  2020-01-25          0       0      0          0          0     0    0   \n",
      "\n",
      "   vent  vaccines  people_vaccinated  people_fully_vaccinated  population  \\\n",
      "0     0         0                  0                        0      428060   \n",
      "1     0         0                  0                        0     8117976   \n",
      "2     0         0                  0                        0      245562   \n",
      "3     0         0                  0                        0     5115451   \n",
      "4     0         0                  0                        0     1756494   \n",
      "\n",
      "   administrative_area_level administrative_area_level_1  \\\n",
      "0                          2                   Australia   \n",
      "1                          2                   Australia   \n",
      "2                          2                   Australia   \n",
      "3                          2                   Australia   \n",
      "4                          2                   Australia   \n",
      "\n",
      "    administrative_area_level_2  administrative_area_level_3        id  \n",
      "0  Australian Capital Territory                          NaN  f42f23e3  \n",
      "1               New South Wales                          NaN  5c4dd6e0  \n",
      "2            Northern Territory                          NaN  a079fdb2  \n",
      "3                    Queensland                          NaN  36068882  \n",
      "4               South Australia                          NaN  165128d0  \n"
     ]
    }
   ],
   "source": [
    "print (df_hub.head())"
   ]
  },
  {
   "cell_type": "code",
   "execution_count": null,
   "id": "fdc23f47",
   "metadata": {},
   "outputs": [],
   "source": []
  }
 ],
 "metadata": {
  "kernelspec": {
   "display_name": "Python 3 (ipykernel)",
   "language": "python",
   "name": "python3"
  },
  "language_info": {
   "codemirror_mode": {
    "name": "ipython",
    "version": 3
   },
   "file_extension": ".py",
   "mimetype": "text/x-python",
   "name": "python",
   "nbconvert_exporter": "python",
   "pygments_lexer": "ipython3",
   "version": "3.8.13"
  }
 },
 "nbformat": 4,
 "nbformat_minor": 5
}
