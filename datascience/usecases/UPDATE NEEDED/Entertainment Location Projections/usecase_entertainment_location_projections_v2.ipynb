{
 "cells": [
  {
   "cell_type": "markdown",
   "id": "ad4f0a65",
   "metadata": {},
   "source": [
    "<div class=\"usecase-title\">Entertainment Location Projections</div>\n",
    "\n",
    "<div class=\"usecase-authors\"><b>Authored by: </b>Barkha Javed, Jack Pham</div>"
   ]
  },
  {
   "cell_type": "markdown",
   "id": "1546cdd5",
   "metadata": {},
   "source": [
    "<div class=\"usecase-duration\"><b>Duration:</b> 75 mins</div>\n",
    "\n",
    "<div class=\"usecase-level-skill\">\n",
    "    <div class=\"usecase-level\"><b>Level: </b>Intermediate</div>\n",
    "    <div class=\"usecase-skill\"><b>Pre-requisite Skills: </b>Python</div>\n",
    "</div>"
   ]
  },
  {
   "cell_type": "markdown",
   "id": "48e38b9f",
   "metadata": {},
   "source": [
    " <div class=\"usecase-section-header\">Scenario</div>"
   ]
  },
  {
   "cell_type": "markdown",
   "id": "b4594692",
   "metadata": {},
   "source": [
    "**As a City of Melbourne council worker, I want to visualise and provide statistics on upcoming activities and planned works in entertainment and leisure, so that I can understand impact for my local area.**\n",
    "\n",
    "I also want to know which entertainment locations are projected as growth areas. "
   ]
  },
  {
   "cell_type": "markdown",
   "id": "032867bd",
   "metadata": {},
   "source": [
    "<div class=\"usecase-section-header\">What this Use Case will teach you</div>"
   ]
  },
  {
   "cell_type": "markdown",
   "id": "e1519038",
   "metadata": {},
   "source": [
    "At the end of this use case you will understand what entertainment and leisure venues are in a small area, and if the locations is projected as a growth area.\n",
    "\n",
    "This means learning how to:\n",
    "\n",
    "* Load and examine data on seating capacity of cafes, restaurants and pubs\n",
    "* Load and examine data on cafe, bistro, restaurant seats\n",
    "* Load and examine data for city activities and planned works\n",
    "* Load and examine pedestrian traffic to see current volumes for entertainment locations\n",
    "* Visualise information from the datasets\n",
    "* Review growth projections about entertainment locations\n",
    "\n"
   ]
  },
  {
   "cell_type": "markdown",
   "id": "a78f533b",
   "metadata": {},
   "source": [
    "<div class=\"usecase-section-header\">A brief introduction to the datasets used</div>"
   ]
  },
  {
   "cell_type": "markdown",
   "id": "4dff92db",
   "metadata": {},
   "source": [
    "#### Census of Land Use and Employment (CLUE) \n",
    "The City of Melbourne  (COM) conducts a census of all local businesses every two years. The last published survey was in 2020, the next survey results are expected soon.\n",
    "\n",
    "The CLUE datasets contain information on venues:\n",
    "* CLUE Blocks spatial layer\n",
    "* Bar, tavern, pub patron capacity\n",
    "* Cafe, restaurant, bistro seats \n",
    "\n",
    "#### City Activities and Planned Works\n",
    "* Geospatial events data, includes types such as traffic management, sport and recreation, reserved parking, public and  private events\n",
    "\n",
    "#### Other datasets of interest\n",
    "* Hourly pedestrian counts from sensors located across the city \n",
    "* COM population forecasts by small area for 2020-2040\n"
   ]
  },
  {
   "cell_type": "markdown",
   "id": "ac3b46be",
   "metadata": {},
   "source": [
    "<div class=\"usecase-section-header\">Setup</div>"
   ]
  },
  {
   "cell_type": "code",
   "execution_count": 1,
   "id": "f9ffc328",
   "metadata": {},
   "outputs": [
    {
     "name": "stderr",
     "output_type": "stream",
     "text": [
      "\n",
      "[notice] A new release of pip is available: 23.3.1 -> 24.0\n",
      "[notice] To update, run: python.exe -m pip install --upgrade pip\n",
      "\n",
      "[notice] A new release of pip is available: 23.3.1 -> 24.0\n",
      "[notice] To update, run: python.exe -m pip install --upgrade pip\n",
      "\n",
      "[notice] A new release of pip is available: 23.3.1 -> 24.0\n",
      "[notice] To update, run: python.exe -m pip install --upgrade pip\n",
      "\n",
      "[notice] A new release of pip is available: 23.3.1 -> 24.0\n",
      "[notice] To update, run: python.exe -m pip install --upgrade pip\n",
      "\n",
      "[notice] A new release of pip is available: 23.3.1 -> 24.0\n",
      "[notice] To update, run: python.exe -m pip install --upgrade pip\n",
      "\n",
      "[notice] A new release of pip is available: 23.3.1 -> 24.0\n",
      "[notice] To update, run: python.exe -m pip install --upgrade pip\n"
     ]
    },
    {
     "name": "stderr",
     "output_type": "stream",
     "text": [
      "\n",
      "[notice] A new release of pip is available: 23.3.1 -> 24.0\n",
      "[notice] To update, run: python.exe -m pip install --upgrade pip\n",
      "\n",
      "[notice] A new release of pip is available: 23.3.1 -> 24.0\n",
      "[notice] To update, run: python.exe -m pip install --upgrade pip\n",
      "\n",
      "[notice] A new release of pip is available: 23.3.1 -> 24.0\n",
      "[notice] To update, run: python.exe -m pip install --upgrade pip\n",
      "\n",
      "[notice] A new release of pip is available: 23.3.1 -> 24.0\n",
      "[notice] To update, run: python.exe -m pip install --upgrade pip\n",
      "\n",
      "[notice] A new release of pip is available: 23.3.1 -> 24.0\n",
      "[notice] To update, run: python.exe -m pip install --upgrade pip\n",
      "\n",
      "[notice] A new release of pip is available: 23.3.1 -> 24.0\n",
      "[notice] To update, run: python.exe -m pip install --upgrade pip\n",
      "\n",
      "[notice] A new release of pip is available: 23.3.1 -> 24.0\n",
      "[notice] To update, run: python.exe -m pip install --upgrade pip\n",
      "\n",
      "[notice] A new release of pip is available: 23.3.1 -> 24.0\n",
      "[notice] To update, run: python.exe -m pip install --upgrade pip\n"
     ]
    }
   ],
   "source": [
    "#Libraries to be installed\n",
    "##!pip -q is to give less output\n",
    "!pip -q install seaborn\n",
    "!pip -q install pandas\n",
    "!pip -q install matplotlib\n",
    "!pip -q install numpy\n",
    "!pip -q install nbconvert\n",
    "!pip -q install keyboard\n",
    "!pip -q install geopandas\n",
    "!pip -q install requests\n",
    "!pip -q install folium\n",
    "!pip -q install statsmodels\n",
    "!pip -q install tqdm\n",
    "!pip -q install scikit-learn\n",
    "!pip -q install pendulum\n",
    "!pip -q install plotly\n"
   ]
  },
  {
   "cell_type": "code",
   "execution_count": 2,
   "id": "de0186b2",
   "metadata": {},
   "outputs": [],
   "source": [
    "#load libraries\n",
    "import os\n",
    "import io\n",
    "import time\n",
    "import warnings\n",
    "warnings.filterwarnings('ignore')\n",
    "from datetime import datetime\n",
    "import requests\n",
    "import zipfile\n",
    "\n",
    "import numpy as np\n",
    "import pandas as pd\n",
    "\n",
    "from urllib.request import urlopen\n",
    "import json\n",
    "from pandas import json_normalize\n",
    "\n",
    "\n",
    "import statsmodels.api as sm\n",
    "from sklearn.model_selection import train_test_split\n",
    "from sklearn.linear_model import LinearRegression\n",
    "from sklearn.tree import DecisionTreeRegressor\n",
    "from sklearn.ensemble import RandomForestRegressor\n",
    "\n",
    "\n",
    "import folium\n",
    "from folium import Choropleth, Circle, Marker\n",
    "from folium.plugins import HeatMap, MarkerCluster\n",
    "from IPython.core.display import display, HTML\n",
    "import geopandas as gpd\n",
    "\n",
    "\n",
    "import plotly.graph_objects as go\n",
    "import plotly.express as px\n",
    "from shapely.geometry import Polygon, shape, Point, box\n",
    "from shapely.ops import unary_union\n",
    "from shapely.wkt import loads\n",
    "\n",
    "from tqdm import tqdm\n",
    "import seaborn as sns\n",
    "import matplotlib.pyplot as plt\n",
    "%matplotlib inline\n",
    "from matplotlib import style\n",
    "style.use('ggplot')\n",
    "\n",
    "from pylab import rcParams\n",
    "rcParams['figure.figsize'] = 8,4\n"
   ]
  },
  {
   "cell_type": "code",
   "execution_count": 3,
   "id": "f1d5222e",
   "metadata": {},
   "outputs": [],
   "source": [
    "#set default values\n",
    "this_decade = (pd.Timestamp.today().year)-10\n",
    "this_year = pd.Timestamp.today().year\n",
    "y3 = (pd.Timestamp.today().year)-3\n",
    "y2 = (pd.Timestamp.today().year)-2\n",
    "y1 = (pd.Timestamp.today().year)-1\n",
    "\n",
    "\n",
    "#Replacement for socrata\n",
    "domain = 'https://data.melbourne.vic.gov.au/explore/dataset/'\n",
    "baseurl = '/download/?format=json&timezone=Australia/Sydney&lang=en'\n",
    "basegeourl='/download/?format=geojson&timezone=Australia/Sydney&lang=en'"
   ]
  },
  {
   "cell_type": "markdown",
   "id": "02e1ca26",
   "metadata": {},
   "source": [
    "<div class=\"usecase-section-header\">Load and Transform Data</div>"
   ]
  },
  {
   "cell_type": "code",
   "execution_count": 4,
   "id": "1b91d66e",
   "metadata": {},
   "outputs": [],
   "source": [
    "# Dependencies\n",
    "import warnings\n",
    "warnings.filterwarnings(\"ignore\")\n",
    "\n",
    "import requests\n",
    "import numpy as np\n",
    "import pandas as pd\n",
    "pd.set_option('display.max_columns', None)\n",
    "\n",
    "import requests\n",
    "import pandas as pd\n",
    "from io import StringIO\n",
    "\n",
    "#Function to collect data\n",
    "def collect_data(dataset_id):\n",
    "    base_url = 'https://data.melbourne.vic.gov.au/api/explore/v2.1/catalog/datasets/'\n",
    "    #apikey = api_key #use if use datasets API_key permissions\n",
    "    dataset_id = dataset_id\n",
    "    format = 'csv'\n",
    "\n",
    "    url = f'{base_url}{dataset_id}/exports/{format}'\n",
    "    params = {\n",
    "        'select': '*',\n",
    "        'limit': -1,  # all records\n",
    "        'lang': 'en',\n",
    "        'timezone': 'UTC',\n",
    "        #'api_key': apikey  #use if use datasets API_key permissions\n",
    "    }\n",
    "\n",
    "    # GET request\n",
    "    response = requests.get(url, params=params)\n",
    "\n",
    "    if response.status_code == 200:\n",
    "        # StringIO to read the CSV data\n",
    "        url_content = response.content.decode('utf-8')\n",
    "        dataset = pd.read_csv(StringIO(url_content), delimiter=';')\n",
    "        return dataset\n",
    "    else:\n",
    "        print(f'Request failed with status code {response.status_code}')\n",
    "        \n",
    "# Set dataset_id to query for the API call dataset name\n",
    "dataset_id_1 = 'city-activities-and-planned-works'\n",
    "dataset_id_2 = 'bars-and-pubs-with-patron-capacity'\n",
    "dataset_id_3 = 'cafes-and-restaurants-with-seating-capacity'\n",
    "dataset_id_4 = 'pedestrian-counting-system-monthly-counts-per-hour'\n",
    "dataset_id_5 = 'pedestrian-counting-system-sensor-locations'\n",
    "\n",
    "\n",
    "# Save dataset to df varaible\n",
    "df_capw = collect_data(dataset_id_1)\n",
    "df_btp_capacity = collect_data(dataset_id_2)\n",
    "df_crb = collect_data(dataset_id_3)\n",
    "sensor_traffic = collect_data(dataset_id_4)\n",
    "sensor_data = collect_data(dataset_id_5)\n"
   ]
  },
  {
   "cell_type": "markdown",
   "id": "f456626f",
   "metadata": {},
   "source": [
    "## Load small area CLUE blocks"
   ]
  },
  {
   "cell_type": "code",
   "execution_count": 5,
   "id": "18edb53e",
   "metadata": {},
   "outputs": [],
   "source": [
    "#spatial layer used to map CLUE datasets to CLUE blocks\n",
    "\n",
    "dsurl = 'blocks-for-census-of-land-use-and-employment-clue'\n",
    "GeoJSONURL = domain + dsurl + basegeourl\n",
    "#print(GeoJSONURL)\n",
    "\n",
    "clueblocks = requests.get(GeoJSONURL).json()\n",
    "#clueblocks[\"features\"][0]"
   ]
  },
  {
   "cell_type": "markdown",
   "id": "633c7237",
   "metadata": {},
   "source": [
    "## Load Bar, tavern, pub patron capacity"
   ]
  },
  {
   "cell_type": "code",
   "execution_count": 6,
   "id": "7921c778",
   "metadata": {},
   "outputs": [
    {
     "name": "stdout",
     "output_type": "stream",
     "text": [
      "<class 'pandas.core.frame.DataFrame'>\n",
      "RangeIndex: 4696 entries, 0 to 4695\n",
      "Data columns (total 12 columns):\n",
      " #   Column             Non-Null Count  Dtype  \n",
      "---  ------             --------------  -----  \n",
      " 0   census_year        4696 non-null   int64  \n",
      " 1   block_id           4696 non-null   int64  \n",
      " 2   property_id        4696 non-null   int64  \n",
      " 3   base_property_id   4696 non-null   int64  \n",
      " 4   building_address   4696 non-null   object \n",
      " 5   clue_small_area    4696 non-null   object \n",
      " 6   trading_name       4696 non-null   object \n",
      " 7   business_address   4696 non-null   object \n",
      " 8   number_of_patrons  4696 non-null   int64  \n",
      " 9   longitude          4676 non-null   float64\n",
      " 10  latitude           4676 non-null   float64\n",
      " 11  location           4676 non-null   object \n",
      "dtypes: float64(2), int64(5), object(5)\n",
      "memory usage: 440.4+ KB\n"
     ]
    }
   ],
   "source": [
    "df_btp_capacity.info()"
   ]
  },
  {
   "cell_type": "code",
   "execution_count": 7,
   "id": "84f58bef",
   "metadata": {},
   "outputs": [
    {
     "name": "stdout",
     "output_type": "stream",
     "text": [
      "<class 'pandas.core.frame.DataFrame'>\n",
      "Index: 2432 entries, 763 to 4695\n",
      "Data columns (total 13 columns):\n",
      " #   Column             Non-Null Count  Dtype  \n",
      "---  ------             --------------  -----  \n",
      " 0   census_year        2432 non-null   int32  \n",
      " 1   block_id           2432 non-null   int32  \n",
      " 2   property_id        2432 non-null   int32  \n",
      " 3   base_property_id   2432 non-null   int32  \n",
      " 4   building_address   2432 non-null   object \n",
      " 5   clue_small_area    2432 non-null   object \n",
      " 6   trading_name       2432 non-null   object \n",
      " 7   business_address   2432 non-null   object \n",
      " 8   number_of_patrons  2432 non-null   int32  \n",
      " 9   longitude          2419 non-null   float64\n",
      " 10  latitude           2419 non-null   float64\n",
      " 11  location           2419 non-null   object \n",
      " 12  category           2432 non-null   object \n",
      "dtypes: float64(2), int32(5), object(6)\n",
      "memory usage: 218.5+ KB\n"
     ]
    }
   ],
   "source": [
    "#transform\n",
    "integer_columns = ['census_year', 'block_id', 'property_id', 'base_property_id', 'number_of_patrons']\n",
    "str_columns = ['building_address', 'clue_small_area', 'trading_name']\n",
    "float_columns = ['longitude', 'latitude']\n",
    "df_btp_capacity[integer_columns] = df_btp_capacity[integer_columns].astype(int)\n",
    "df_btp_capacity[float_columns] = df_btp_capacity[float_columns].astype(float)\n",
    "df_btp_capacity[str_columns] = df_btp_capacity[str_columns].astype(str)\n",
    "\n",
    "#Add column with description Pubs, Taverns and Bars for grouping\n",
    "df_btp_capacity['category'] = 'Pubs, Taverns and Bars'\n",
    "\n",
    "#limit data to past decade\n",
    "df_btp_capacity=df_btp_capacity.query(\"census_year >= @this_decade\")\n",
    "df_btp_capacity.info()"
   ]
  },
  {
   "cell_type": "markdown",
   "id": "d4b9f06c",
   "metadata": {},
   "source": [
    "## Load Cafe, restaurant, bistro seats "
   ]
  },
  {
   "cell_type": "code",
   "execution_count": 8,
   "id": "b53396d8",
   "metadata": {},
   "outputs": [
    {
     "name": "stdout",
     "output_type": "stream",
     "text": [
      "<class 'pandas.core.frame.DataFrame'>\n",
      "RangeIndex: 60055 entries, 0 to 60054\n",
      "Data columns (total 15 columns):\n",
      " #   Column                        Non-Null Count  Dtype  \n",
      "---  ------                        --------------  -----  \n",
      " 0   census_year                   60055 non-null  int64  \n",
      " 1   block_id                      60055 non-null  int64  \n",
      " 2   property_id                   60055 non-null  int64  \n",
      " 3   base_property_id              60055 non-null  int64  \n",
      " 4   building_address              60055 non-null  object \n",
      " 5   clue_small_area               60055 non-null  object \n",
      " 6   trading_name                  60055 non-null  object \n",
      " 7   business_address              60055 non-null  object \n",
      " 8   industry_anzsic4_code         60055 non-null  int64  \n",
      " 9   industry_anzsic4_description  60055 non-null  object \n",
      " 10  seating_type                  60055 non-null  object \n",
      " 11  number_of_seats               60055 non-null  int64  \n",
      " 12  longitude                     59528 non-null  float64\n",
      " 13  latitude                      59528 non-null  float64\n",
      " 14  location                      59528 non-null  object \n",
      "dtypes: float64(2), int64(6), object(7)\n",
      "memory usage: 6.9+ MB\n"
     ]
    }
   ],
   "source": [
    "df_crb.info()"
   ]
  },
  {
   "cell_type": "code",
   "execution_count": 9,
   "id": "aef43d0e",
   "metadata": {},
   "outputs": [
    {
     "name": "stdout",
     "output_type": "stream",
     "text": [
      "(36713, 16)\n",
      "<class 'pandas.core.frame.DataFrame'>\n",
      "Index: 30455 entries, 0 to 60054\n",
      "Data columns (total 16 columns):\n",
      " #   Column                        Non-Null Count  Dtype  \n",
      "---  ------                        --------------  -----  \n",
      " 0   census_year                   30455 non-null  int32  \n",
      " 1   block_id                      30455 non-null  int32  \n",
      " 2   property_id                   30455 non-null  int32  \n",
      " 3   base_property_id              30455 non-null  int32  \n",
      " 4   building_address              30455 non-null  object \n",
      " 5   clue_small_area               30455 non-null  object \n",
      " 6   trading_name                  30455 non-null  object \n",
      " 7   business_address              30455 non-null  object \n",
      " 8   industry_anzsic4_code         30455 non-null  int64  \n",
      " 9   industry_anzsic4_description  30455 non-null  object \n",
      " 10  seating_type                  30455 non-null  object \n",
      " 11  number_of_seats               30455 non-null  int32  \n",
      " 12  longitude                     30053 non-null  float64\n",
      " 13  latitude                      30053 non-null  float64\n",
      " 14  location                      30053 non-null  object \n",
      " 15  category                      30455 non-null  object \n",
      "dtypes: float64(2), int32(5), int64(1), object(8)\n",
      "memory usage: 3.4+ MB\n"
     ]
    }
   ],
   "source": [
    "#transform\n",
    "integer_columns = ['census_year', 'block_id', 'property_id', 'base_property_id', 'number_of_seats']\n",
    "str_columns = ['clue_small_area', 'trading_name','industry_anzsic4_description','seating_type']\n",
    "df_crb[integer_columns] = df_crb[integer_columns].astype(int)\n",
    "df_crb[str_columns] = df_crb[str_columns].astype(str)\n",
    "\n",
    "#Add column with description for grouping\n",
    "df_crb['category'] = 'Café, Restaurant, Bistro'\n",
    "\n",
    "#drop NaN values\n",
    "df_crb.dropna(subset=['business_address'])\n",
    "df_crb.dropna(subset=['longitude'])\n",
    "df_crb.dropna(subset=['latitude'])\n",
    "\n",
    "#latest decade\n",
    "df_crb = df_crb.query(\"census_year >= 2012\") \n",
    "\n",
    "print(df_crb.shape)\n",
    "df_crb.head(5).T\n",
    "\n",
    "#limit data to past decade\n",
    "df_crb=df_crb.query(\"census_year >= @this_decade\")\n",
    "df_crb.info()"
   ]
  },
  {
   "cell_type": "markdown",
   "id": "a4e6fcdd",
   "metadata": {},
   "source": [
    "### Merge CLUE venue seats, capacity and activities datasets"
   ]
  },
  {
   "cell_type": "code",
   "execution_count": 10,
   "id": "9877708e",
   "metadata": {},
   "outputs": [
    {
     "data": {
      "text/html": [
       "<div>\n",
       "<style scoped>\n",
       "    .dataframe tbody tr th:only-of-type {\n",
       "        vertical-align: middle;\n",
       "    }\n",
       "\n",
       "    .dataframe tbody tr th {\n",
       "        vertical-align: top;\n",
       "    }\n",
       "\n",
       "    .dataframe thead th {\n",
       "        text-align: right;\n",
       "    }\n",
       "</style>\n",
       "<table border=\"1\" class=\"dataframe\">\n",
       "  <thead>\n",
       "    <tr style=\"text-align: right;\">\n",
       "      <th></th>\n",
       "      <th>census_year</th>\n",
       "      <th>block_id</th>\n",
       "      <th>property_id</th>\n",
       "      <th>base_property_id</th>\n",
       "      <th>building_address</th>\n",
       "      <th>clue_small_area</th>\n",
       "      <th>trading_name</th>\n",
       "      <th>business_address</th>\n",
       "      <th>number_of_patrons</th>\n",
       "      <th>longitude</th>\n",
       "      <th>latitude</th>\n",
       "      <th>location</th>\n",
       "      <th>category</th>\n",
       "    </tr>\n",
       "  </thead>\n",
       "  <tbody>\n",
       "    <tr>\n",
       "      <th>763</th>\n",
       "      <td>2014</td>\n",
       "      <td>6</td>\n",
       "      <td>578321</td>\n",
       "      <td>573333</td>\n",
       "      <td>2 Swanston Street MELBOURNE 3000</td>\n",
       "      <td>Melbourne (CBD)</td>\n",
       "      <td>Beer De Luxe</td>\n",
       "      <td>2 Swanston Street MELBOURNE 3000</td>\n",
       "      <td>1000</td>\n",
       "      <td>144.969942</td>\n",
       "      <td>-37.817778</td>\n",
       "      <td>-37.817777826050005, 144.96994164279243</td>\n",
       "      <td>Pubs, Taverns and Bars</td>\n",
       "    </tr>\n",
       "    <tr>\n",
       "      <th>764</th>\n",
       "      <td>2014</td>\n",
       "      <td>6</td>\n",
       "      <td>578324</td>\n",
       "      <td>573333</td>\n",
       "      <td>2 Swanston Street MELBOURNE 3000</td>\n",
       "      <td>Melbourne (CBD)</td>\n",
       "      <td>Transit Cocktail Lounge</td>\n",
       "      <td>Tenancy 29, Level 2, 2 Swanston Street MELBOUR...</td>\n",
       "      <td>200</td>\n",
       "      <td>144.969942</td>\n",
       "      <td>-37.817778</td>\n",
       "      <td>-37.817777826050005, 144.96994164279243</td>\n",
       "      <td>Pubs, Taverns and Bars</td>\n",
       "    </tr>\n",
       "    <tr>\n",
       "      <th>765</th>\n",
       "      <td>2014</td>\n",
       "      <td>11</td>\n",
       "      <td>108971</td>\n",
       "      <td>108971</td>\n",
       "      <td>561-585 Flinders Lane MELBOURNE 3000</td>\n",
       "      <td>Melbourne (CBD)</td>\n",
       "      <td>Holiday Inn On Flinders Melbourne</td>\n",
       "      <td>561-585 Flinders Lane MELBOURNE 3000</td>\n",
       "      <td>100</td>\n",
       "      <td>144.955104</td>\n",
       "      <td>-37.820200</td>\n",
       "      <td>-37.820200051650005, 144.95510422892156</td>\n",
       "      <td>Pubs, Taverns and Bars</td>\n",
       "    </tr>\n",
       "    <tr>\n",
       "      <th>766</th>\n",
       "      <td>2014</td>\n",
       "      <td>14</td>\n",
       "      <td>103165</td>\n",
       "      <td>103165</td>\n",
       "      <td>1-5 Elizabeth Street MELBOURNE 3000</td>\n",
       "      <td>Melbourne (CBD)</td>\n",
       "      <td>Dreams Gentlemen's Club</td>\n",
       "      <td>288 Elizabeth Street MELBOURNE 3000</td>\n",
       "      <td>160</td>\n",
       "      <td>144.964608</td>\n",
       "      <td>-37.818057</td>\n",
       "      <td>-37.8180566348, 144.96460797480603</td>\n",
       "      <td>Pubs, Taverns and Bars</td>\n",
       "    </tr>\n",
       "    <tr>\n",
       "      <th>767</th>\n",
       "      <td>2014</td>\n",
       "      <td>14</td>\n",
       "      <td>103172</td>\n",
       "      <td>103172</td>\n",
       "      <td>31-39 Elizabeth Street MELBOURNE 3000</td>\n",
       "      <td>Melbourne (CBD)</td>\n",
       "      <td>The Joint Bar</td>\n",
       "      <td>Level 1, 35 Elizabeth Street MELBOURNE 3000</td>\n",
       "      <td>329</td>\n",
       "      <td>144.964334</td>\n",
       "      <td>-37.817422</td>\n",
       "      <td>-37.81742176045, 144.96433442319747</td>\n",
       "      <td>Pubs, Taverns and Bars</td>\n",
       "    </tr>\n",
       "  </tbody>\n",
       "</table>\n",
       "</div>"
      ],
      "text/plain": [
       "     census_year  block_id  property_id  base_property_id  \\\n",
       "763         2014         6       578321            573333   \n",
       "764         2014         6       578324            573333   \n",
       "765         2014        11       108971            108971   \n",
       "766         2014        14       103165            103165   \n",
       "767         2014        14       103172            103172   \n",
       "\n",
       "                          building_address  clue_small_area  \\\n",
       "763       2 Swanston Street MELBOURNE 3000  Melbourne (CBD)   \n",
       "764       2 Swanston Street MELBOURNE 3000  Melbourne (CBD)   \n",
       "765   561-585 Flinders Lane MELBOURNE 3000  Melbourne (CBD)   \n",
       "766    1-5 Elizabeth Street MELBOURNE 3000  Melbourne (CBD)   \n",
       "767  31-39 Elizabeth Street MELBOURNE 3000  Melbourne (CBD)   \n",
       "\n",
       "                          trading_name  \\\n",
       "763                       Beer De Luxe   \n",
       "764            Transit Cocktail Lounge   \n",
       "765  Holiday Inn On Flinders Melbourne   \n",
       "766            Dreams Gentlemen's Club   \n",
       "767                      The Joint Bar   \n",
       "\n",
       "                                      business_address  number_of_patrons  \\\n",
       "763                   2 Swanston Street MELBOURNE 3000               1000   \n",
       "764  Tenancy 29, Level 2, 2 Swanston Street MELBOUR...                200   \n",
       "765               561-585 Flinders Lane MELBOURNE 3000                100   \n",
       "766                288 Elizabeth Street MELBOURNE 3000                160   \n",
       "767        Level 1, 35 Elizabeth Street MELBOURNE 3000                329   \n",
       "\n",
       "      longitude   latitude                                 location  \\\n",
       "763  144.969942 -37.817778  -37.817777826050005, 144.96994164279243   \n",
       "764  144.969942 -37.817778  -37.817777826050005, 144.96994164279243   \n",
       "765  144.955104 -37.820200  -37.820200051650005, 144.95510422892156   \n",
       "766  144.964608 -37.818057       -37.8180566348, 144.96460797480603   \n",
       "767  144.964334 -37.817422      -37.81742176045, 144.96433442319747   \n",
       "\n",
       "                   category  \n",
       "763  Pubs, Taverns and Bars  \n",
       "764  Pubs, Taverns and Bars  \n",
       "765  Pubs, Taverns and Bars  \n",
       "766  Pubs, Taverns and Bars  \n",
       "767  Pubs, Taverns and Bars  "
      ]
     },
     "execution_count": 10,
     "metadata": {},
     "output_type": "execute_result"
    }
   ],
   "source": [
    "df_btp_capacity.head()"
   ]
  },
  {
   "cell_type": "code",
   "execution_count": 11,
   "id": "acfb7d40",
   "metadata": {},
   "outputs": [],
   "source": [
    "#Merge CLUE block data\n",
    "clue_venues = df_crb.join(df_btp_capacity, on='property_id', lsuffix='_crb', rsuffix='_btp')\n",
    "\n",
    "#combine data from venue datasets to use seats or patrons values as a capacity measure\n",
    "#similar combination for category created\n",
    "clue_venues['capacity'] = clue_venues[['number_of_seats', 'number_of_patrons']].bfill(axis=1).iloc[:, 0]\n",
    "clue_venues['venue_description'] = clue_venues[['category_crb', 'industry_anzsic4_description']].bfill(axis=1).iloc[:, 0]\n",
    "\n",
    "#rename columns\n",
    "clue_venues.rename(columns={\n",
    "      \"latitude_crb\":\"lat\"\n",
    "    , \"longitude_crb\":\"lon\"\n",
    "},inplace = True)\n",
    "\n",
    "\n",
    "#fill remaining nulls\n",
    "clue_venues.fillna(0, inplace=True)  \n",
    "\n",
    "#clue_venues.head(3).T"
   ]
  },
  {
   "cell_type": "markdown",
   "id": "0872bcce",
   "metadata": {},
   "source": [
    "## Load City Activities and Planned Works \n",
    "\n"
   ]
  },
  {
   "cell_type": "code",
   "execution_count": 12,
   "id": "6e1870c3",
   "metadata": {},
   "outputs": [
    {
     "data": {
      "text/plain": [
       "{'type': 'Feature',\n",
       " 'geometry': {'coordinates': [[[144.9685797842, -37.8134248213],\n",
       "    [144.9688373541, -37.8133508046],\n",
       "    [144.9687076377, -37.8130671474],\n",
       "    [144.9684498427, -37.813142364],\n",
       "    [144.9685797842, -37.8134248213]]],\n",
       "  'type': 'Polygon'},\n",
       " 'properties': {'classification': 'Structures',\n",
       "  'geo_point_2d': [-37.81324619965848, 144.9686437019243],\n",
       "  'end_date': '2022-08-08',\n",
       "  'source_id': 'EHD-2021-93',\n",
       "  'notes': 'Hoarding',\n",
       "  'activity_id': 'SS-1094323-0-108589-EHD-Permit Issued-231120210700-080820221900',\n",
       "  'start_date': '2021-11-23',\n",
       "  'status': 'CONFIRMED',\n",
       "  'location': '124-134 Russell Street\\rMELBOURNE VIC 3000',\n",
       "  'small_area': 'Melbourne (CBD)'}}"
      ]
     },
     "execution_count": 12,
     "metadata": {},
     "output_type": "execute_result"
    }
   ],
   "source": [
    "# spatial layer used to map city activity planned works\n",
    "dsurl = 'city-activities-and-planned-works'\n",
    "GeoJSONURL = domain + dsurl + basegeourl\n",
    "#print(GeoJSONURL)\n",
    "\n",
    "capw = requests.get(GeoJSONURL).json()\n",
    "capw[\"features\"][0]\n"
   ]
  },
  {
   "cell_type": "code",
   "execution_count": 13,
   "id": "bbd6e1ad",
   "metadata": {},
   "outputs": [
    {
     "name": "stdout",
     "output_type": "stream",
     "text": [
      "<class 'pandas.core.frame.DataFrame'>\n",
      "RangeIndex: 605 entries, 0 to 604\n",
      "Data columns (total 12 columns):\n",
      " #   Column                              Non-Null Count  Dtype \n",
      "---  ------                              --------------  ----- \n",
      " 0   classification                      605 non-null    object\n",
      " 1   geo_point_2d                        605 non-null    object\n",
      " 2   end_date                            605 non-null    object\n",
      " 3   source_id                           605 non-null    object\n",
      " 4   notes                               500 non-null    object\n",
      " 5   activity_id                         605 non-null    object\n",
      " 6   start_date                          605 non-null    object\n",
      " 7   status                              605 non-null    object\n",
      " 8   location                            603 non-null    object\n",
      " 9   small_area                          605 non-null    object\n",
      " 10  json_geometry_geometry.coordinates  605 non-null    object\n",
      " 11  json_geometry_geometry.type         605 non-null    object\n",
      "dtypes: object(12)\n",
      "memory usage: 56.8+ KB\n"
     ]
    }
   ],
   "source": [
    "# spatial layer used to map city activity planned works\n",
    "dsurl = 'city-activities-and-planned-works'\n",
    "url = domain + dsurl + baseurl\n",
    "#print(url)\n",
    "\n",
    "data_json = requests.get(url).json()\n",
    "data_json_df = pd.DataFrame.from_dict(data_json)\n",
    "\n",
    "#this flattens the features\n",
    "df_capw=json_normalize(data_json_df['fields'])\n",
    "df_capw.info()"
   ]
  },
  {
   "cell_type": "code",
   "execution_count": 14,
   "id": "7209ea23",
   "metadata": {},
   "outputs": [
    {
     "name": "stdout",
     "output_type": "stream",
     "text": [
      "['Structures' 'Traffic Management' 'Event' 'Public Event'\n",
      " 'Reserved Parking' 'Private Event']\n"
     ]
    }
   ],
   "source": [
    "#look at events that are for entertainment\n",
    "print(df_capw.classification.unique())\n",
    "\n",
    "#Convert to date, add columns\n",
    "df_capw['start_dt'] = pd.to_datetime(df_capw.start_date).dt.date\n",
    "df_capw['start_year'] = pd.to_datetime(df_capw.start_dt).dt.year\n",
    "df_capw['start_month'] = pd.to_datetime(df_capw.start_dt).dt.month\n",
    "#Add column with description for grouping\n",
    "df_crb['seating_type'] = 'Not Provided'\n",
    "\n",
    "#drop columns\n",
    "df_capw = df_capw.drop(['json_geometry_geometry.type'], axis=1)\n",
    "\n",
    "#filter found there are records with value 2921-11-19 00:00:00, exclude these\n",
    "df_capw = df_capw.loc[(df_capw['end_date'] < '2065-01-01')]\n",
    "df_capw['end_dt'] = pd.to_datetime(df_capw.end_date).dt.date\n",
    "df_capw['end_year'] = pd.to_datetime(df_capw.end_dt).dt.year\n",
    "df_capw['end_month'] = pd.to_datetime(df_capw.end_dt).dt.month\n",
    "df_capw_all = df_capw.copy()\n",
    "df_capw = df_capw[(df_capw.classification.isin(['Event','Public Event','Private Event']))]"
   ]
  },
  {
   "cell_type": "code",
   "execution_count": 15,
   "id": "24bbfb42",
   "metadata": {},
   "outputs": [
    {
     "name": "stdout",
     "output_type": "stream",
     "text": [
      "[2022 2018 2019 2023 2020 2021]\n",
      "['Event' 'Public Event' 'Private Event']\n"
     ]
    }
   ],
   "source": [
    "#Range of years\n",
    "print(df_capw.start_year.unique())\n",
    "print(df_capw.classification.unique())"
   ]
  },
  {
   "cell_type": "markdown",
   "id": "54d7451c",
   "metadata": {},
   "source": [
    "## Other datasets of interest\n",
    "\n",
    "The population forecast for the city for the next five years indicates demand due to the increase in population. The pedestrian traffic numbers will be used as an indicator of people potentially using the entertainment venues.\n",
    "\n",
    "The pedestrian traffic will show us what areas people are visiting and during what part of the day. This can be used to evaluate if the entertainment venue capacity is low, sufficient, or high. \n"
   ]
  },
  {
   "cell_type": "markdown",
   "id": "59bd45c4",
   "metadata": {},
   "source": [
    "### Load small area population forecasts"
   ]
  },
  {
   "cell_type": "code",
   "execution_count": 16,
   "id": "3ddfa8b5",
   "metadata": {},
   "outputs": [
    {
     "name": "stdout",
     "output_type": "stream",
     "text": [
      "<class 'pandas.core.frame.DataFrame'>\n",
      "Index: 7308 entries, 0 to 17045\n",
      "Data columns (total 5 columns):\n",
      " #   Column     Non-Null Count  Dtype  \n",
      "---  ------     --------------  -----  \n",
      " 0   geography  7308 non-null   object \n",
      " 1   year       7308 non-null   int32  \n",
      " 2   age        7308 non-null   object \n",
      " 3   value      7281 non-null   float64\n",
      " 4   gender     7308 non-null   object \n",
      "dtypes: float64(1), int32(1), object(3)\n",
      "memory usage: 314.0+ KB\n"
     ]
    }
   ],
   "source": [
    "dsurl = 'city-of-melbourne-population-forecasts-by-small-area-2020-2040'\n",
    "url = domain + dsurl + baseurl\n",
    "#print(url)\n",
    "\n",
    "data_json = requests.get(url).json()\n",
    "data_json_df = pd.DataFrame.from_dict(data_json)\n",
    "\n",
    "#this flattens the features\n",
    "ds=json_normalize(data_json_df['fields'])\n",
    "\n",
    "ds['year']=ds['year'].astype(int)\n",
    "\n",
    "#limit to next 5 years\n",
    "fy = pd.to_numeric((this_year + 5))\n",
    "ds = ds.query(\"year <= @fy\")\n",
    "\n",
    "#Look at total value for city \n",
    "ds_smapop_tot = ds.query(\"age =='Total population' & geography=='City of Melbourne'\")\n",
    "ds_smapop_tot.drop(columns=['gender','age'], inplace=True)\n",
    "ds_pop = ds_smapop_tot.reset_index(drop=True).sort_values(by=['year'], ascending=True)\n",
    "ds.info()\n",
    "\n",
    "#geography\n",
    "ds_smapop_all = ds.query(\"age =='Total population' & geography!='City of Melbourne'\")\n",
    "ds_smapop_all.drop(columns=['gender','age'], inplace=True)\n",
    "ds_pop_all = ds_smapop_all.reset_index(drop=True).sort_values(by=['year'], ascending=True)\n",
    "\n"
   ]
  },
  {
   "cell_type": "code",
   "execution_count": 17,
   "id": "7ee2ae1c",
   "metadata": {},
   "outputs": [
    {
     "data": {
      "application/vnd.plotly.v1+json": {
       "config": {
        "plotlyServerURL": "https://plot.ly"
       },
       "data": [
        {
         "hovertemplate": "geography=Parkville<br>year=%{x}<br>value=%{y}<extra></extra>",
         "legendgroup": "Parkville",
         "line": {
          "color": "#636efa",
          "dash": "solid"
         },
         "marker": {
          "symbol": "circle"
         },
         "mode": "lines",
         "name": "Parkville",
         "orientation": "v",
         "showlegend": true,
         "type": "scatter",
         "x": [
          2021,
          2022,
          2023,
          2024,
          2025,
          2026,
          2027,
          2028,
          2029
         ],
         "xaxis": "x",
         "y": [
          7813,
          7923,
          7948,
          8305,
          8932,
          9339,
          9743,
          10127,
          10510
         ],
         "yaxis": "y"
        },
        {
         "hovertemplate": "geography=Melbourne (Remainder)<br>year=%{x}<br>value=%{y}<extra></extra>",
         "legendgroup": "Melbourne (Remainder)",
         "line": {
          "color": "#EF553B",
          "dash": "solid"
         },
         "marker": {
          "symbol": "circle"
         },
         "mode": "lines",
         "name": "Melbourne (Remainder)",
         "orientation": "v",
         "showlegend": true,
         "type": "scatter",
         "x": [
          2021,
          2022,
          2023,
          2024,
          2025,
          2026,
          2027,
          2028,
          2029
         ],
         "xaxis": "x",
         "y": [
          3121,
          3175,
          3201,
          3381,
          3628,
          3758,
          3887,
          4016,
          4171
         ],
         "yaxis": "y"
        },
        {
         "hovertemplate": "geography=Melbourne (CBD)<br>year=%{x}<br>value=%{y}<extra></extra>",
         "legendgroup": "Melbourne (CBD)",
         "line": {
          "color": "#00cc96",
          "dash": "solid"
         },
         "marker": {
          "symbol": "circle"
         },
         "mode": "lines",
         "name": "Melbourne (CBD)",
         "orientation": "v",
         "showlegend": true,
         "type": "scatter",
         "x": [
          2021,
          2022,
          2023,
          2024,
          2025,
          2026,
          2027,
          2028,
          2029
         ],
         "xaxis": "x",
         "y": [
          43825,
          44607,
          45124,
          48030,
          51532,
          55423,
          59064,
          62256,
          65162
         ],
         "yaxis": "y"
        },
        {
         "hovertemplate": "geography=West Melbourne (Residential)<br>year=%{x}<br>value=%{y}<extra></extra>",
         "legendgroup": "West Melbourne (Residential)",
         "line": {
          "color": "#ab63fa",
          "dash": "solid"
         },
         "marker": {
          "symbol": "circle"
         },
         "mode": "lines",
         "name": "West Melbourne (Residential)",
         "orientation": "v",
         "showlegend": true,
         "type": "scatter",
         "x": [
          2021,
          2022,
          2023,
          2024,
          2025,
          2026,
          2027,
          2028,
          2029
         ],
         "xaxis": "x",
         "y": [
          7935,
          8076,
          8102,
          8345,
          8946,
          9745,
          10451,
          11099,
          11673
         ],
         "yaxis": "y"
        },
        {
         "hovertemplate": "geography=Carlton<br>year=%{x}<br>value=%{y}<extra></extra>",
         "legendgroup": "Carlton",
         "line": {
          "color": "#FFA15A",
          "dash": "solid"
         },
         "marker": {
          "symbol": "circle"
         },
         "mode": "lines",
         "name": "Carlton",
         "orientation": "v",
         "showlegend": true,
         "type": "scatter",
         "x": [
          2021,
          2022,
          2023,
          2024,
          2025,
          2026,
          2027,
          2028,
          2029
         ],
         "xaxis": "x",
         "y": [
          17185,
          17629,
          17840,
          18729,
          20041,
          20743,
          21679,
          22836,
          24142
         ],
         "yaxis": "y"
        },
        {
         "hovertemplate": "geography=Southbank<br>year=%{x}<br>value=%{y}<extra></extra>",
         "legendgroup": "Southbank",
         "line": {
          "color": "#19d3f3",
          "dash": "solid"
         },
         "marker": {
          "symbol": "circle"
         },
         "mode": "lines",
         "name": "Southbank",
         "orientation": "v",
         "showlegend": true,
         "type": "scatter",
         "x": [
          2021,
          2022,
          2023,
          2024,
          2025,
          2026,
          2027,
          2028,
          2029
         ],
         "xaxis": "x",
         "y": [
          22589,
          22999,
          23284,
          24846,
          26649,
          28428,
          30090,
          31602,
          32981
         ],
         "yaxis": "y"
        },
        {
         "hovertemplate": "geography=North Melbourne<br>year=%{x}<br>value=%{y}<extra></extra>",
         "legendgroup": "North Melbourne",
         "line": {
          "color": "#FF6692",
          "dash": "solid"
         },
         "marker": {
          "symbol": "circle"
         },
         "mode": "lines",
         "name": "North Melbourne",
         "orientation": "v",
         "showlegend": true,
         "type": "scatter",
         "x": [
          2021,
          2022,
          2023,
          2024,
          2025,
          2026,
          2027,
          2028,
          2029
         ],
         "xaxis": "x",
         "y": [
          15653,
          15938,
          16035,
          16550,
          17747,
          19379,
          20582,
          21851,
          23008
         ],
         "yaxis": "y"
        },
        {
         "hovertemplate": "geography=Kensington<br>year=%{x}<br>value=%{y}<extra></extra>",
         "legendgroup": "Kensington",
         "line": {
          "color": "#B6E880",
          "dash": "solid"
         },
         "marker": {
          "symbol": "circle"
         },
         "mode": "lines",
         "name": "Kensington",
         "orientation": "v",
         "showlegend": true,
         "type": "scatter",
         "x": [
          2021,
          2022,
          2023,
          2024,
          2025,
          2026,
          2027,
          2028,
          2029
         ],
         "xaxis": "x",
         "y": [
          10933,
          11117,
          11167,
          11509,
          12247,
          12939,
          13614,
          14292,
          14898
         ],
         "yaxis": "y"
        },
        {
         "hovertemplate": "geography=Port Melbourne<br>year=%{x}<br>value=%{y}<extra></extra>",
         "legendgroup": "Port Melbourne",
         "line": {
          "color": "#FF97FF",
          "dash": "solid"
         },
         "marker": {
          "symbol": "circle"
         },
         "mode": "lines",
         "name": "Port Melbourne",
         "orientation": "v",
         "showlegend": true,
         "type": "scatter",
         "x": [
          2021,
          2022,
          2023,
          2024,
          2025,
          2026,
          2027,
          2028,
          2029
         ],
         "xaxis": "x",
         "y": [
          10,
          10,
          10,
          11,
          12,
          413,
          630,
          795,
          931
         ],
         "yaxis": "y"
        },
        {
         "hovertemplate": "geography=Docklands<br>year=%{x}<br>value=%{y}<extra></extra>",
         "legendgroup": "Docklands",
         "line": {
          "color": "#FECB52",
          "dash": "solid"
         },
         "marker": {
          "symbol": "circle"
         },
         "mode": "lines",
         "name": "Docklands",
         "orientation": "v",
         "showlegend": true,
         "type": "scatter",
         "x": [
          2021,
          2022,
          2023,
          2024,
          2025,
          2026,
          2027,
          2028,
          2029
         ],
         "xaxis": "x",
         "y": [
          15926,
          16222,
          16437,
          17581,
          18848,
          19996,
          21252,
          22390,
          23421
         ],
         "yaxis": "y"
        },
        {
         "hovertemplate": "geography=East Melbourne<br>year=%{x}<br>value=%{y}<extra></extra>",
         "legendgroup": "East Melbourne",
         "line": {
          "color": "#636efa",
          "dash": "solid"
         },
         "marker": {
          "symbol": "circle"
         },
         "mode": "lines",
         "name": "East Melbourne",
         "orientation": "v",
         "showlegend": true,
         "type": "scatter",
         "x": [
          2021,
          2022,
          2023,
          2024,
          2025,
          2026,
          2027,
          2028,
          2029
         ],
         "xaxis": "x",
         "y": [
          4968,
          5091,
          5145,
          5454,
          5832,
          6203,
          6527,
          6785,
          7011
         ],
         "yaxis": "y"
        },
        {
         "hovertemplate": "geography=West Melbourne (Industrial)<br>year=%{x}<br>value=%{y}<extra></extra>",
         "legendgroup": "West Melbourne (Industrial)",
         "line": {
          "color": "#EF553B",
          "dash": "solid"
         },
         "marker": {
          "symbol": "circle"
         },
         "mode": "lines",
         "name": "West Melbourne (Industrial)",
         "orientation": "v",
         "showlegend": true,
         "type": "scatter",
         "x": [
          2021,
          2022,
          2023,
          2024,
          2025,
          2026,
          2027,
          2028,
          2029
         ],
         "xaxis": "x",
         "y": [
          0,
          0,
          0,
          0,
          0,
          0,
          0,
          0,
          0
         ],
         "yaxis": "y"
        },
        {
         "hovertemplate": "geography=South Yarra<br>year=%{x}<br>value=%{y}<extra></extra>",
         "legendgroup": "South Yarra",
         "line": {
          "color": "#00cc96",
          "dash": "solid"
         },
         "marker": {
          "symbol": "circle"
         },
         "mode": "lines",
         "name": "South Yarra",
         "orientation": "v",
         "showlegend": true,
         "type": "scatter",
         "x": [
          2021,
          2022,
          2023,
          2024,
          2025,
          2026,
          2027,
          2028,
          2029
         ],
         "xaxis": "x",
         "y": [
          3716,
          3785,
          3832,
          4080,
          4374,
          4614,
          4846,
          4999,
          5156
         ],
         "yaxis": "y"
        }
       ],
       "layout": {
        "legend": {
         "title": {
          "text": "geography"
         },
         "tracegroupgap": 0
        },
        "template": {
         "data": {
          "bar": [
           {
            "error_x": {
             "color": "#2a3f5f"
            },
            "error_y": {
             "color": "#2a3f5f"
            },
            "marker": {
             "line": {
              "color": "#E5ECF6",
              "width": 0.5
             },
             "pattern": {
              "fillmode": "overlay",
              "size": 10,
              "solidity": 0.2
             }
            },
            "type": "bar"
           }
          ],
          "barpolar": [
           {
            "marker": {
             "line": {
              "color": "#E5ECF6",
              "width": 0.5
             },
             "pattern": {
              "fillmode": "overlay",
              "size": 10,
              "solidity": 0.2
             }
            },
            "type": "barpolar"
           }
          ],
          "carpet": [
           {
            "aaxis": {
             "endlinecolor": "#2a3f5f",
             "gridcolor": "white",
             "linecolor": "white",
             "minorgridcolor": "white",
             "startlinecolor": "#2a3f5f"
            },
            "baxis": {
             "endlinecolor": "#2a3f5f",
             "gridcolor": "white",
             "linecolor": "white",
             "minorgridcolor": "white",
             "startlinecolor": "#2a3f5f"
            },
            "type": "carpet"
           }
          ],
          "choropleth": [
           {
            "colorbar": {
             "outlinewidth": 0,
             "ticks": ""
            },
            "type": "choropleth"
           }
          ],
          "contour": [
           {
            "colorbar": {
             "outlinewidth": 0,
             "ticks": ""
            },
            "colorscale": [
             [
              0,
              "#0d0887"
             ],
             [
              0.1111111111111111,
              "#46039f"
             ],
             [
              0.2222222222222222,
              "#7201a8"
             ],
             [
              0.3333333333333333,
              "#9c179e"
             ],
             [
              0.4444444444444444,
              "#bd3786"
             ],
             [
              0.5555555555555556,
              "#d8576b"
             ],
             [
              0.6666666666666666,
              "#ed7953"
             ],
             [
              0.7777777777777778,
              "#fb9f3a"
             ],
             [
              0.8888888888888888,
              "#fdca26"
             ],
             [
              1,
              "#f0f921"
             ]
            ],
            "type": "contour"
           }
          ],
          "contourcarpet": [
           {
            "colorbar": {
             "outlinewidth": 0,
             "ticks": ""
            },
            "type": "contourcarpet"
           }
          ],
          "heatmap": [
           {
            "colorbar": {
             "outlinewidth": 0,
             "ticks": ""
            },
            "colorscale": [
             [
              0,
              "#0d0887"
             ],
             [
              0.1111111111111111,
              "#46039f"
             ],
             [
              0.2222222222222222,
              "#7201a8"
             ],
             [
              0.3333333333333333,
              "#9c179e"
             ],
             [
              0.4444444444444444,
              "#bd3786"
             ],
             [
              0.5555555555555556,
              "#d8576b"
             ],
             [
              0.6666666666666666,
              "#ed7953"
             ],
             [
              0.7777777777777778,
              "#fb9f3a"
             ],
             [
              0.8888888888888888,
              "#fdca26"
             ],
             [
              1,
              "#f0f921"
             ]
            ],
            "type": "heatmap"
           }
          ],
          "heatmapgl": [
           {
            "colorbar": {
             "outlinewidth": 0,
             "ticks": ""
            },
            "colorscale": [
             [
              0,
              "#0d0887"
             ],
             [
              0.1111111111111111,
              "#46039f"
             ],
             [
              0.2222222222222222,
              "#7201a8"
             ],
             [
              0.3333333333333333,
              "#9c179e"
             ],
             [
              0.4444444444444444,
              "#bd3786"
             ],
             [
              0.5555555555555556,
              "#d8576b"
             ],
             [
              0.6666666666666666,
              "#ed7953"
             ],
             [
              0.7777777777777778,
              "#fb9f3a"
             ],
             [
              0.8888888888888888,
              "#fdca26"
             ],
             [
              1,
              "#f0f921"
             ]
            ],
            "type": "heatmapgl"
           }
          ],
          "histogram": [
           {
            "marker": {
             "pattern": {
              "fillmode": "overlay",
              "size": 10,
              "solidity": 0.2
             }
            },
            "type": "histogram"
           }
          ],
          "histogram2d": [
           {
            "colorbar": {
             "outlinewidth": 0,
             "ticks": ""
            },
            "colorscale": [
             [
              0,
              "#0d0887"
             ],
             [
              0.1111111111111111,
              "#46039f"
             ],
             [
              0.2222222222222222,
              "#7201a8"
             ],
             [
              0.3333333333333333,
              "#9c179e"
             ],
             [
              0.4444444444444444,
              "#bd3786"
             ],
             [
              0.5555555555555556,
              "#d8576b"
             ],
             [
              0.6666666666666666,
              "#ed7953"
             ],
             [
              0.7777777777777778,
              "#fb9f3a"
             ],
             [
              0.8888888888888888,
              "#fdca26"
             ],
             [
              1,
              "#f0f921"
             ]
            ],
            "type": "histogram2d"
           }
          ],
          "histogram2dcontour": [
           {
            "colorbar": {
             "outlinewidth": 0,
             "ticks": ""
            },
            "colorscale": [
             [
              0,
              "#0d0887"
             ],
             [
              0.1111111111111111,
              "#46039f"
             ],
             [
              0.2222222222222222,
              "#7201a8"
             ],
             [
              0.3333333333333333,
              "#9c179e"
             ],
             [
              0.4444444444444444,
              "#bd3786"
             ],
             [
              0.5555555555555556,
              "#d8576b"
             ],
             [
              0.6666666666666666,
              "#ed7953"
             ],
             [
              0.7777777777777778,
              "#fb9f3a"
             ],
             [
              0.8888888888888888,
              "#fdca26"
             ],
             [
              1,
              "#f0f921"
             ]
            ],
            "type": "histogram2dcontour"
           }
          ],
          "mesh3d": [
           {
            "colorbar": {
             "outlinewidth": 0,
             "ticks": ""
            },
            "type": "mesh3d"
           }
          ],
          "parcoords": [
           {
            "line": {
             "colorbar": {
              "outlinewidth": 0,
              "ticks": ""
             }
            },
            "type": "parcoords"
           }
          ],
          "pie": [
           {
            "automargin": true,
            "type": "pie"
           }
          ],
          "scatter": [
           {
            "fillpattern": {
             "fillmode": "overlay",
             "size": 10,
             "solidity": 0.2
            },
            "type": "scatter"
           }
          ],
          "scatter3d": [
           {
            "line": {
             "colorbar": {
              "outlinewidth": 0,
              "ticks": ""
             }
            },
            "marker": {
             "colorbar": {
              "outlinewidth": 0,
              "ticks": ""
             }
            },
            "type": "scatter3d"
           }
          ],
          "scattercarpet": [
           {
            "marker": {
             "colorbar": {
              "outlinewidth": 0,
              "ticks": ""
             }
            },
            "type": "scattercarpet"
           }
          ],
          "scattergeo": [
           {
            "marker": {
             "colorbar": {
              "outlinewidth": 0,
              "ticks": ""
             }
            },
            "type": "scattergeo"
           }
          ],
          "scattergl": [
           {
            "marker": {
             "colorbar": {
              "outlinewidth": 0,
              "ticks": ""
             }
            },
            "type": "scattergl"
           }
          ],
          "scattermapbox": [
           {
            "marker": {
             "colorbar": {
              "outlinewidth": 0,
              "ticks": ""
             }
            },
            "type": "scattermapbox"
           }
          ],
          "scatterpolar": [
           {
            "marker": {
             "colorbar": {
              "outlinewidth": 0,
              "ticks": ""
             }
            },
            "type": "scatterpolar"
           }
          ],
          "scatterpolargl": [
           {
            "marker": {
             "colorbar": {
              "outlinewidth": 0,
              "ticks": ""
             }
            },
            "type": "scatterpolargl"
           }
          ],
          "scatterternary": [
           {
            "marker": {
             "colorbar": {
              "outlinewidth": 0,
              "ticks": ""
             }
            },
            "type": "scatterternary"
           }
          ],
          "surface": [
           {
            "colorbar": {
             "outlinewidth": 0,
             "ticks": ""
            },
            "colorscale": [
             [
              0,
              "#0d0887"
             ],
             [
              0.1111111111111111,
              "#46039f"
             ],
             [
              0.2222222222222222,
              "#7201a8"
             ],
             [
              0.3333333333333333,
              "#9c179e"
             ],
             [
              0.4444444444444444,
              "#bd3786"
             ],
             [
              0.5555555555555556,
              "#d8576b"
             ],
             [
              0.6666666666666666,
              "#ed7953"
             ],
             [
              0.7777777777777778,
              "#fb9f3a"
             ],
             [
              0.8888888888888888,
              "#fdca26"
             ],
             [
              1,
              "#f0f921"
             ]
            ],
            "type": "surface"
           }
          ],
          "table": [
           {
            "cells": {
             "fill": {
              "color": "#EBF0F8"
             },
             "line": {
              "color": "white"
             }
            },
            "header": {
             "fill": {
              "color": "#C8D4E3"
             },
             "line": {
              "color": "white"
             }
            },
            "type": "table"
           }
          ]
         },
         "layout": {
          "annotationdefaults": {
           "arrowcolor": "#2a3f5f",
           "arrowhead": 0,
           "arrowwidth": 1
          },
          "autotypenumbers": "strict",
          "coloraxis": {
           "colorbar": {
            "outlinewidth": 0,
            "ticks": ""
           }
          },
          "colorscale": {
           "diverging": [
            [
             0,
             "#8e0152"
            ],
            [
             0.1,
             "#c51b7d"
            ],
            [
             0.2,
             "#de77ae"
            ],
            [
             0.3,
             "#f1b6da"
            ],
            [
             0.4,
             "#fde0ef"
            ],
            [
             0.5,
             "#f7f7f7"
            ],
            [
             0.6,
             "#e6f5d0"
            ],
            [
             0.7,
             "#b8e186"
            ],
            [
             0.8,
             "#7fbc41"
            ],
            [
             0.9,
             "#4d9221"
            ],
            [
             1,
             "#276419"
            ]
           ],
           "sequential": [
            [
             0,
             "#0d0887"
            ],
            [
             0.1111111111111111,
             "#46039f"
            ],
            [
             0.2222222222222222,
             "#7201a8"
            ],
            [
             0.3333333333333333,
             "#9c179e"
            ],
            [
             0.4444444444444444,
             "#bd3786"
            ],
            [
             0.5555555555555556,
             "#d8576b"
            ],
            [
             0.6666666666666666,
             "#ed7953"
            ],
            [
             0.7777777777777778,
             "#fb9f3a"
            ],
            [
             0.8888888888888888,
             "#fdca26"
            ],
            [
             1,
             "#f0f921"
            ]
           ],
           "sequentialminus": [
            [
             0,
             "#0d0887"
            ],
            [
             0.1111111111111111,
             "#46039f"
            ],
            [
             0.2222222222222222,
             "#7201a8"
            ],
            [
             0.3333333333333333,
             "#9c179e"
            ],
            [
             0.4444444444444444,
             "#bd3786"
            ],
            [
             0.5555555555555556,
             "#d8576b"
            ],
            [
             0.6666666666666666,
             "#ed7953"
            ],
            [
             0.7777777777777778,
             "#fb9f3a"
            ],
            [
             0.8888888888888888,
             "#fdca26"
            ],
            [
             1,
             "#f0f921"
            ]
           ]
          },
          "colorway": [
           "#636efa",
           "#EF553B",
           "#00cc96",
           "#ab63fa",
           "#FFA15A",
           "#19d3f3",
           "#FF6692",
           "#B6E880",
           "#FF97FF",
           "#FECB52"
          ],
          "font": {
           "color": "#2a3f5f"
          },
          "geo": {
           "bgcolor": "white",
           "lakecolor": "white",
           "landcolor": "#E5ECF6",
           "showlakes": true,
           "showland": true,
           "subunitcolor": "white"
          },
          "hoverlabel": {
           "align": "left"
          },
          "hovermode": "closest",
          "mapbox": {
           "style": "light"
          },
          "paper_bgcolor": "white",
          "plot_bgcolor": "#E5ECF6",
          "polar": {
           "angularaxis": {
            "gridcolor": "white",
            "linecolor": "white",
            "ticks": ""
           },
           "bgcolor": "#E5ECF6",
           "radialaxis": {
            "gridcolor": "white",
            "linecolor": "white",
            "ticks": ""
           }
          },
          "scene": {
           "xaxis": {
            "backgroundcolor": "#E5ECF6",
            "gridcolor": "white",
            "gridwidth": 2,
            "linecolor": "white",
            "showbackground": true,
            "ticks": "",
            "zerolinecolor": "white"
           },
           "yaxis": {
            "backgroundcolor": "#E5ECF6",
            "gridcolor": "white",
            "gridwidth": 2,
            "linecolor": "white",
            "showbackground": true,
            "ticks": "",
            "zerolinecolor": "white"
           },
           "zaxis": {
            "backgroundcolor": "#E5ECF6",
            "gridcolor": "white",
            "gridwidth": 2,
            "linecolor": "white",
            "showbackground": true,
            "ticks": "",
            "zerolinecolor": "white"
           }
          },
          "shapedefaults": {
           "line": {
            "color": "#2a3f5f"
           }
          },
          "ternary": {
           "aaxis": {
            "gridcolor": "white",
            "linecolor": "white",
            "ticks": ""
           },
           "baxis": {
            "gridcolor": "white",
            "linecolor": "white",
            "ticks": ""
           },
           "bgcolor": "#E5ECF6",
           "caxis": {
            "gridcolor": "white",
            "linecolor": "white",
            "ticks": ""
           }
          },
          "title": {
           "x": 0.05
          },
          "xaxis": {
           "automargin": true,
           "gridcolor": "white",
           "linecolor": "white",
           "ticks": "",
           "title": {
            "standoff": 15
           },
           "zerolinecolor": "white",
           "zerolinewidth": 2
          },
          "yaxis": {
           "automargin": true,
           "gridcolor": "white",
           "linecolor": "white",
           "ticks": "",
           "title": {
            "standoff": 15
           },
           "zerolinecolor": "white",
           "zerolinewidth": 2
          }
         }
        },
        "title": {
         "text": "Population Forecast - City of Melbourne"
        },
        "xaxis": {
         "anchor": "y",
         "domain": [
          0,
          1
         ],
         "title": {
          "text": "year"
         }
        },
        "yaxis": {
         "anchor": "x",
         "domain": [
          0,
          1
         ],
         "title": {
          "text": "value"
         }
        }
       }
      }
     },
     "metadata": {},
     "output_type": "display_data"
    }
   ],
   "source": [
    "#plot population forecast, next 5 years\n",
    "fig = px.line(ds_pop_all, x=\"year\", y=\"value\", title='Population Forecast - City of Melbourne', color='geography')\n",
    "fig.show()\n"
   ]
  },
  {
   "cell_type": "markdown",
   "id": "d6884008",
   "metadata": {},
   "source": [
    "### Load pedestrian sensor locations"
   ]
  },
  {
   "cell_type": "code",
   "execution_count": 18,
   "id": "a573a088",
   "metadata": {},
   "outputs": [],
   "source": [
    "#Pedestrian sensor location data\n",
    "dsurl = 'pedestrian-counting-system-sensor-locations'\n",
    "url = domain + dsurl + baseurl\n",
    "#print(url)\n",
    "\n",
    "data_json = requests.get(url).json()\n",
    "data_json_df = pd.DataFrame.from_dict(data_json)\n",
    "\n",
    "#this flattens the features\n",
    "sensor_data=json_normalize(data_json_df['fields'])"
   ]
  },
  {
   "cell_type": "code",
   "execution_count": 19,
   "id": "2e4f9d83",
   "metadata": {},
   "outputs": [
    {
     "name": "stdout",
     "output_type": "stream",
     "text": [
      "<class 'pandas.core.frame.DataFrame'>\n",
      "RangeIndex: 140 entries, 0 to 139\n",
      "Data columns (total 14 columns):\n",
      " #   Column              Non-Null Count  Dtype  \n",
      "---  ------              --------------  -----  \n",
      " 0   direction_2         97 non-null     object \n",
      " 1   installation_date   138 non-null    object \n",
      " 2   direction_1         97 non-null     object \n",
      " 3   location            140 non-null    object \n",
      " 4   location_id         140 non-null    int64  \n",
      " 5   sensor_name         140 non-null    object \n",
      " 6   longitude           140 non-null    float64\n",
      " 7   status              140 non-null    object \n",
      " 8   sensor_description  140 non-null    object \n",
      " 9   latitude            140 non-null    float64\n",
      " 10  location_type       140 non-null    object \n",
      " 11  note                33 non-null     object \n",
      " 12  lat                 140 non-null    float64\n",
      " 13  lon                 140 non-null    float64\n",
      "dtypes: float64(4), int64(1), object(9)\n",
      "memory usage: 15.4+ KB\n"
     ]
    }
   ],
   "source": [
    "sensor_data[['lat', 'lon']] = sensor_data[['latitude', 'longitude']].astype(float)\n",
    "#sensor_data.head(5).T\n",
    "sensor_data.info()"
   ]
  },
  {
   "cell_type": "markdown",
   "id": "06c06d6b",
   "metadata": {},
   "source": [
    "### Load pedestrian traffic hourly counts data"
   ]
  },
  {
   "cell_type": "code",
   "execution_count": 20,
   "id": "f61d70e0",
   "metadata": {},
   "outputs": [],
   "source": [
    "# #URL / API method will need to be updated\n",
    "# #Pedestrian foot count data zip file\n",
    "# ds_url = \"https://data.melbourne.vic.gov.au/api/datasets/1.0/pedestrian-counting-system-monthly-counts-per-hour/attachments/pedestrian_counting_system_monthly_counts_per_hour_may_2009_to_14_dec_2022_csv_zip/\"\n",
    "# filename = 'pedestrian_counting_system_monthly_counts_per_hour_may_2009_to_14_dec_2022.csv'\n",
    "\n",
    "# r = requests.get(ds_url)\n",
    "# z = zipfile.ZipFile(io.BytesIO(r.content))\n",
    "# z.extractall()\n",
    "\n",
    "# sensor_traffic = pd.read_csv(filename, sep=',')"
   ]
  },
  {
   "cell_type": "code",
   "execution_count": 21,
   "id": "562c868f",
   "metadata": {},
   "outputs": [
    {
     "data": {
      "text/html": [
       "<div>\n",
       "<style scoped>\n",
       "    .dataframe tbody tr th:only-of-type {\n",
       "        vertical-align: middle;\n",
       "    }\n",
       "\n",
       "    .dataframe tbody tr th {\n",
       "        vertical-align: top;\n",
       "    }\n",
       "\n",
       "    .dataframe thead th {\n",
       "        text-align: right;\n",
       "    }\n",
       "</style>\n",
       "<table border=\"1\" class=\"dataframe\">\n",
       "  <thead>\n",
       "    <tr style=\"text-align: right;\">\n",
       "      <th></th>\n",
       "      <th>sensor_name</th>\n",
       "      <th>timestamp</th>\n",
       "      <th>locationid</th>\n",
       "      <th>direction_1</th>\n",
       "      <th>direction_2</th>\n",
       "      <th>total_of_directions</th>\n",
       "      <th>location</th>\n",
       "    </tr>\n",
       "  </thead>\n",
       "  <tbody>\n",
       "    <tr>\n",
       "      <th>0</th>\n",
       "      <td>Fra118_T</td>\n",
       "      <td>2023-06-05T17:00:00+00:00</td>\n",
       "      <td>51</td>\n",
       "      <td>1</td>\n",
       "      <td>4</td>\n",
       "      <td>5</td>\n",
       "      <td>-37.80841815, 144.95906316</td>\n",
       "    </tr>\n",
       "    <tr>\n",
       "      <th>1</th>\n",
       "      <td>Fra118_T</td>\n",
       "      <td>2023-06-05T18:00:00+00:00</td>\n",
       "      <td>51</td>\n",
       "      <td>7</td>\n",
       "      <td>5</td>\n",
       "      <td>12</td>\n",
       "      <td>-37.80841815, 144.95906316</td>\n",
       "    </tr>\n",
       "    <tr>\n",
       "      <th>2</th>\n",
       "      <td>Fra118_T</td>\n",
       "      <td>2023-06-05T20:00:00+00:00</td>\n",
       "      <td>51</td>\n",
       "      <td>10</td>\n",
       "      <td>22</td>\n",
       "      <td>32</td>\n",
       "      <td>-37.80841815, 144.95906316</td>\n",
       "    </tr>\n",
       "    <tr>\n",
       "      <th>3</th>\n",
       "      <td>Fra118_T</td>\n",
       "      <td>2023-06-06T01:00:00+00:00</td>\n",
       "      <td>51</td>\n",
       "      <td>94</td>\n",
       "      <td>136</td>\n",
       "      <td>230</td>\n",
       "      <td>-37.80841815, 144.95906316</td>\n",
       "    </tr>\n",
       "    <tr>\n",
       "      <th>4</th>\n",
       "      <td>Fra118_T</td>\n",
       "      <td>2023-06-06T02:00:00+00:00</td>\n",
       "      <td>51</td>\n",
       "      <td>166</td>\n",
       "      <td>126</td>\n",
       "      <td>292</td>\n",
       "      <td>-37.80841815, 144.95906316</td>\n",
       "    </tr>\n",
       "  </tbody>\n",
       "</table>\n",
       "</div>"
      ],
      "text/plain": [
       "  sensor_name                  timestamp  locationid  direction_1  \\\n",
       "0    Fra118_T  2023-06-05T17:00:00+00:00          51            1   \n",
       "1    Fra118_T  2023-06-05T18:00:00+00:00          51            7   \n",
       "2    Fra118_T  2023-06-05T20:00:00+00:00          51           10   \n",
       "3    Fra118_T  2023-06-06T01:00:00+00:00          51           94   \n",
       "4    Fra118_T  2023-06-06T02:00:00+00:00          51          166   \n",
       "\n",
       "   direction_2  total_of_directions                    location  \n",
       "0            4                    5  -37.80841815, 144.95906316  \n",
       "1            5                   12  -37.80841815, 144.95906316  \n",
       "2           22                   32  -37.80841815, 144.95906316  \n",
       "3          136                  230  -37.80841815, 144.95906316  \n",
       "4          126                  292  -37.80841815, 144.95906316  "
      ]
     },
     "execution_count": 21,
     "metadata": {},
     "output_type": "execute_result"
    }
   ],
   "source": [
    "#sensor_traffic.info()\n",
    "\n",
    "#rename columns\n",
    "sensor_traffic.rename(columns={\"Date_Time\": \"date_time\",\"Year\":\"year\"\n",
    "                        ,\"Month\":\"month\"\n",
    "                        ,\"Mdate\":\"mdate\"\n",
    "                        ,\"Day\":\"day\"\n",
    "                        ,\"Time\": \"time\"\n",
    "                        ,\"Sensor_ID\":\"sensor_id\"\n",
    "                        ,\"Sensor_Name\":\"sensor_name\"\n",
    "                        ,\"Hourly_Counts\":\"hourly_counts\"\n",
    "                        }\n",
    "               ,inplace = True)\n",
    "sensor_traffic.head()"
   ]
  },
  {
   "cell_type": "code",
   "execution_count": 25,
   "id": "cc85304f",
   "metadata": {},
   "outputs": [
    {
     "data": {
      "text/html": [
       "<div>\n",
       "<style scoped>\n",
       "    .dataframe tbody tr th:only-of-type {\n",
       "        vertical-align: middle;\n",
       "    }\n",
       "\n",
       "    .dataframe tbody tr th {\n",
       "        vertical-align: top;\n",
       "    }\n",
       "\n",
       "    .dataframe thead th {\n",
       "        text-align: right;\n",
       "    }\n",
       "</style>\n",
       "<table border=\"1\" class=\"dataframe\">\n",
       "  <thead>\n",
       "    <tr style=\"text-align: right;\">\n",
       "      <th></th>\n",
       "      <th>sensor_name</th>\n",
       "      <th>timestamp</th>\n",
       "      <th>locationid</th>\n",
       "      <th>direction_1</th>\n",
       "      <th>direction_2</th>\n",
       "      <th>total_of_directions</th>\n",
       "      <th>location</th>\n",
       "      <th>date</th>\n",
       "      <th>month_num</th>\n",
       "      <th>dow</th>\n",
       "    </tr>\n",
       "  </thead>\n",
       "  <tbody>\n",
       "    <tr>\n",
       "      <th>0</th>\n",
       "      <td>Fra118_T</td>\n",
       "      <td>2023-06-05 17:00:00+00:00</td>\n",
       "      <td>51</td>\n",
       "      <td>1</td>\n",
       "      <td>4</td>\n",
       "      <td>5</td>\n",
       "      <td>-37.80841815, 144.95906316</td>\n",
       "      <td>2023-06-05</td>\n",
       "      <td>6</td>\n",
       "      <td>0</td>\n",
       "    </tr>\n",
       "    <tr>\n",
       "      <th>1</th>\n",
       "      <td>Fra118_T</td>\n",
       "      <td>2023-06-05 18:00:00+00:00</td>\n",
       "      <td>51</td>\n",
       "      <td>7</td>\n",
       "      <td>5</td>\n",
       "      <td>12</td>\n",
       "      <td>-37.80841815, 144.95906316</td>\n",
       "      <td>2023-06-05</td>\n",
       "      <td>6</td>\n",
       "      <td>0</td>\n",
       "    </tr>\n",
       "    <tr>\n",
       "      <th>2</th>\n",
       "      <td>Fra118_T</td>\n",
       "      <td>2023-06-05 20:00:00+00:00</td>\n",
       "      <td>51</td>\n",
       "      <td>10</td>\n",
       "      <td>22</td>\n",
       "      <td>32</td>\n",
       "      <td>-37.80841815, 144.95906316</td>\n",
       "      <td>2023-06-05</td>\n",
       "      <td>6</td>\n",
       "      <td>0</td>\n",
       "    </tr>\n",
       "    <tr>\n",
       "      <th>3</th>\n",
       "      <td>Fra118_T</td>\n",
       "      <td>2023-06-06 01:00:00+00:00</td>\n",
       "      <td>51</td>\n",
       "      <td>94</td>\n",
       "      <td>136</td>\n",
       "      <td>230</td>\n",
       "      <td>-37.80841815, 144.95906316</td>\n",
       "      <td>2023-06-06</td>\n",
       "      <td>6</td>\n",
       "      <td>1</td>\n",
       "    </tr>\n",
       "    <tr>\n",
       "      <th>4</th>\n",
       "      <td>Fra118_T</td>\n",
       "      <td>2023-06-06 02:00:00+00:00</td>\n",
       "      <td>51</td>\n",
       "      <td>166</td>\n",
       "      <td>126</td>\n",
       "      <td>292</td>\n",
       "      <td>-37.80841815, 144.95906316</td>\n",
       "      <td>2023-06-06</td>\n",
       "      <td>6</td>\n",
       "      <td>1</td>\n",
       "    </tr>\n",
       "  </tbody>\n",
       "</table>\n",
       "</div>"
      ],
      "text/plain": [
       "  sensor_name                 timestamp  locationid  direction_1  direction_2  \\\n",
       "0    Fra118_T 2023-06-05 17:00:00+00:00          51            1            4   \n",
       "1    Fra118_T 2023-06-05 18:00:00+00:00          51            7            5   \n",
       "2    Fra118_T 2023-06-05 20:00:00+00:00          51           10           22   \n",
       "3    Fra118_T 2023-06-06 01:00:00+00:00          51           94          136   \n",
       "4    Fra118_T 2023-06-06 02:00:00+00:00          51          166          126   \n",
       "\n",
       "   total_of_directions                    location        date  month_num  dow  \n",
       "0                    5  -37.80841815, 144.95906316  2023-06-05          6    0  \n",
       "1                   12  -37.80841815, 144.95906316  2023-06-05          6    0  \n",
       "2                   32  -37.80841815, 144.95906316  2023-06-05          6    0  \n",
       "3                  230  -37.80841815, 144.95906316  2023-06-06          6    1  \n",
       "4                  292  -37.80841815, 144.95906316  2023-06-06          6    1  "
      ]
     },
     "execution_count": 25,
     "metadata": {},
     "output_type": "execute_result"
    }
   ],
   "source": [
    "sensor_traffic.head(\n",
    "    \n",
    ")"
   ]
  },
  {
   "cell_type": "code",
   "execution_count": 23,
   "id": "5420c762",
   "metadata": {},
   "outputs": [
    {
     "data": {
      "text/html": [
       "<div>\n",
       "<style scoped>\n",
       "    .dataframe tbody tr th:only-of-type {\n",
       "        vertical-align: middle;\n",
       "    }\n",
       "\n",
       "    .dataframe tbody tr th {\n",
       "        vertical-align: top;\n",
       "    }\n",
       "\n",
       "    .dataframe thead th {\n",
       "        text-align: right;\n",
       "    }\n",
       "</style>\n",
       "<table border=\"1\" class=\"dataframe\">\n",
       "  <thead>\n",
       "    <tr style=\"text-align: right;\">\n",
       "      <th></th>\n",
       "      <th>direction_2</th>\n",
       "      <th>installation_date</th>\n",
       "      <th>direction_1</th>\n",
       "      <th>location</th>\n",
       "      <th>location_id</th>\n",
       "      <th>sensor_name</th>\n",
       "      <th>longitude</th>\n",
       "      <th>status</th>\n",
       "      <th>sensor_description</th>\n",
       "      <th>latitude</th>\n",
       "      <th>location_type</th>\n",
       "      <th>note</th>\n",
       "      <th>lat</th>\n",
       "      <th>lon</th>\n",
       "    </tr>\n",
       "  </thead>\n",
       "  <tbody>\n",
       "    <tr>\n",
       "      <th>0</th>\n",
       "      <td>West</td>\n",
       "      <td>2013-09-02</td>\n",
       "      <td>East</td>\n",
       "      <td>[-37.81887963, 144.95449198]</td>\n",
       "      <td>24</td>\n",
       "      <td>Col620_T</td>\n",
       "      <td>144.954492</td>\n",
       "      <td>A</td>\n",
       "      <td>Spencer St-Collins St (North)</td>\n",
       "      <td>-37.818880</td>\n",
       "      <td>Outdoor</td>\n",
       "      <td>NaN</td>\n",
       "      <td>-37.818880</td>\n",
       "      <td>144.954492</td>\n",
       "    </tr>\n",
       "    <tr>\n",
       "      <th>1</th>\n",
       "      <td>West</td>\n",
       "      <td>2013-08-28</td>\n",
       "      <td>East</td>\n",
       "      <td>[-37.82401776, 144.95604426]</td>\n",
       "      <td>25</td>\n",
       "      <td>MCEC_T</td>\n",
       "      <td>144.956044</td>\n",
       "      <td>A</td>\n",
       "      <td>Melbourne Convention Exhibition Centre</td>\n",
       "      <td>-37.824018</td>\n",
       "      <td>Outdoor</td>\n",
       "      <td>NaN</td>\n",
       "      <td>-37.824018</td>\n",
       "      <td>144.956044</td>\n",
       "    </tr>\n",
       "    <tr>\n",
       "      <th>2</th>\n",
       "      <td>South</td>\n",
       "      <td>2015-01-20</td>\n",
       "      <td>North</td>\n",
       "      <td>[-37.81652527, 144.96121062]</td>\n",
       "      <td>36</td>\n",
       "      <td>Que85_T</td>\n",
       "      <td>144.961211</td>\n",
       "      <td>A</td>\n",
       "      <td>Queen St (West)</td>\n",
       "      <td>-37.816525</td>\n",
       "      <td>Outdoor</td>\n",
       "      <td>Pushbox Upgrade, 03/08/2023</td>\n",
       "      <td>-37.816525</td>\n",
       "      <td>144.961211</td>\n",
       "    </tr>\n",
       "    <tr>\n",
       "      <th>3</th>\n",
       "      <td>South</td>\n",
       "      <td>2015-02-11</td>\n",
       "      <td>North</td>\n",
       "      <td>[-37.80310271, 144.96671451]</td>\n",
       "      <td>37</td>\n",
       "      <td>Lyg260_T</td>\n",
       "      <td>144.966715</td>\n",
       "      <td>A</td>\n",
       "      <td>Lygon St (East)</td>\n",
       "      <td>-37.803103</td>\n",
       "      <td>Outdoor</td>\n",
       "      <td>Pushbox Upgrade, 30/06/2023</td>\n",
       "      <td>-37.803103</td>\n",
       "      <td>144.966715</td>\n",
       "    </tr>\n",
       "    <tr>\n",
       "      <th>4</th>\n",
       "      <td>South</td>\n",
       "      <td>2017-06-29</td>\n",
       "      <td>North</td>\n",
       "      <td>[-37.81668634, 144.96689733]</td>\n",
       "      <td>41</td>\n",
       "      <td>Swa31</td>\n",
       "      <td>144.966897</td>\n",
       "      <td>A</td>\n",
       "      <td>Flinders La-Swanston St (West)</td>\n",
       "      <td>-37.816686</td>\n",
       "      <td>Outdoor</td>\n",
       "      <td>NaN</td>\n",
       "      <td>-37.816686</td>\n",
       "      <td>144.966897</td>\n",
       "    </tr>\n",
       "  </tbody>\n",
       "</table>\n",
       "</div>"
      ],
      "text/plain": [
       "  direction_2 installation_date direction_1                      location  \\\n",
       "0        West        2013-09-02        East  [-37.81887963, 144.95449198]   \n",
       "1        West        2013-08-28        East  [-37.82401776, 144.95604426]   \n",
       "2       South        2015-01-20       North  [-37.81652527, 144.96121062]   \n",
       "3       South        2015-02-11       North  [-37.80310271, 144.96671451]   \n",
       "4       South        2017-06-29       North  [-37.81668634, 144.96689733]   \n",
       "\n",
       "   location_id sensor_name   longitude status  \\\n",
       "0           24    Col620_T  144.954492      A   \n",
       "1           25      MCEC_T  144.956044      A   \n",
       "2           36     Que85_T  144.961211      A   \n",
       "3           37    Lyg260_T  144.966715      A   \n",
       "4           41       Swa31  144.966897      A   \n",
       "\n",
       "                       sensor_description   latitude location_type  \\\n",
       "0           Spencer St-Collins St (North) -37.818880       Outdoor   \n",
       "1  Melbourne Convention Exhibition Centre -37.824018       Outdoor   \n",
       "2                         Queen St (West) -37.816525       Outdoor   \n",
       "3                         Lygon St (East) -37.803103       Outdoor   \n",
       "4          Flinders La-Swanston St (West) -37.816686       Outdoor   \n",
       "\n",
       "                          note        lat         lon  \n",
       "0                          NaN -37.818880  144.954492  \n",
       "1                          NaN -37.824018  144.956044  \n",
       "2  Pushbox Upgrade, 03/08/2023 -37.816525  144.961211  \n",
       "3  Pushbox Upgrade, 30/06/2023 -37.803103  144.966715  \n",
       "4                          NaN -37.816686  144.966897  "
      ]
     },
     "execution_count": 23,
     "metadata": {},
     "output_type": "execute_result"
    }
   ],
   "source": [
    "sensor_data.head()"
   ]
  },
  {
   "cell_type": "code",
   "execution_count": 31,
   "id": "a3ae27cf",
   "metadata": {},
   "outputs": [
    {
     "ename": "KeyError",
     "evalue": "'year'",
     "output_type": "error",
     "traceback": [
      "\u001b[1;31m---------------------------------------------------------------------------\u001b[0m",
      "\u001b[1;31mKeyError\u001b[0m                                  Traceback (most recent call last)",
      "File \u001b[1;32mc:\\Users\\User\\AppData\\Local\\Programs\\Python\\Python310\\lib\\site-packages\\pandas\\core\\indexes\\base.py:3790\u001b[0m, in \u001b[0;36mIndex.get_loc\u001b[1;34m(self, key)\u001b[0m\n\u001b[0;32m   3789\u001b[0m \u001b[38;5;28;01mtry\u001b[39;00m:\n\u001b[1;32m-> 3790\u001b[0m     \u001b[38;5;28;01mreturn\u001b[39;00m \u001b[38;5;28;43mself\u001b[39;49m\u001b[38;5;241;43m.\u001b[39;49m\u001b[43m_engine\u001b[49m\u001b[38;5;241;43m.\u001b[39;49m\u001b[43mget_loc\u001b[49m\u001b[43m(\u001b[49m\u001b[43mcasted_key\u001b[49m\u001b[43m)\u001b[49m\n\u001b[0;32m   3791\u001b[0m \u001b[38;5;28;01mexcept\u001b[39;00m \u001b[38;5;167;01mKeyError\u001b[39;00m \u001b[38;5;28;01mas\u001b[39;00m err:\n",
      "File \u001b[1;32mindex.pyx:152\u001b[0m, in \u001b[0;36mpandas._libs.index.IndexEngine.get_loc\u001b[1;34m()\u001b[0m\n",
      "File \u001b[1;32mindex.pyx:181\u001b[0m, in \u001b[0;36mpandas._libs.index.IndexEngine.get_loc\u001b[1;34m()\u001b[0m\n",
      "File \u001b[1;32mpandas\\_libs\\hashtable_class_helper.pxi:7080\u001b[0m, in \u001b[0;36mpandas._libs.hashtable.PyObjectHashTable.get_item\u001b[1;34m()\u001b[0m\n",
      "File \u001b[1;32mpandas\\_libs\\hashtable_class_helper.pxi:7088\u001b[0m, in \u001b[0;36mpandas._libs.hashtable.PyObjectHashTable.get_item\u001b[1;34m()\u001b[0m\n",
      "\u001b[1;31mKeyError\u001b[0m: 'year'",
      "\nThe above exception was the direct cause of the following exception:\n",
      "\u001b[1;31mKeyError\u001b[0m                                  Traceback (most recent call last)",
      "Cell \u001b[1;32mIn[31], line 23\u001b[0m\n\u001b[0;32m     20\u001b[0m start_year \u001b[38;5;241m=\u001b[39m (current_year \u001b[38;5;241m/\u001b[39m\u001b[38;5;241m/\u001b[39m \u001b[38;5;241m10\u001b[39m) \u001b[38;5;241m*\u001b[39m \u001b[38;5;241m10\u001b[39m\n\u001b[0;32m     22\u001b[0m \u001b[38;5;66;03m# Filter the dataframe to this decade\u001b[39;00m\n\u001b[1;32m---> 23\u001b[0m sensor_traffic \u001b[38;5;241m=\u001b[39m sensor_traffic[\u001b[43msensor_traffic\u001b[49m\u001b[43m[\u001b[49m\u001b[38;5;124;43m'\u001b[39;49m\u001b[38;5;124;43myear\u001b[39;49m\u001b[38;5;124;43m'\u001b[39;49m\u001b[43m]\u001b[49m \u001b[38;5;241m>\u001b[39m\u001b[38;5;241m=\u001b[39m start_year]\n\u001b[0;32m     25\u001b[0m \u001b[38;5;66;03m#Add column for day (5am to 5pm) or night (6pm to 4am) traffic\u001b[39;00m\n\u001b[0;32m     26\u001b[0m sensor_traffic[\u001b[38;5;124m'\u001b[39m\u001b[38;5;124mday_counts\u001b[39m\u001b[38;5;124m'\u001b[39m]   \u001b[38;5;241m=\u001b[39m np\u001b[38;5;241m.\u001b[39mwhere(((sensor_traffic[\u001b[38;5;124m'\u001b[39m\u001b[38;5;124mtime\u001b[39m\u001b[38;5;124m'\u001b[39m]\u001b[38;5;241m>\u001b[39m\u001b[38;5;241m4\u001b[39m) \u001b[38;5;241m&\u001b[39m (sensor_traffic[\u001b[38;5;124m'\u001b[39m\u001b[38;5;124mtime\u001b[39m\u001b[38;5;124m'\u001b[39m]\u001b[38;5;241m<\u001b[39m\u001b[38;5;241m18\u001b[39m)),\n\u001b[0;32m     27\u001b[0m                                           sensor_traffic[\u001b[38;5;124m'\u001b[39m\u001b[38;5;124mhourly_counts\u001b[39m\u001b[38;5;124m'\u001b[39m] , \u001b[38;5;241m0\u001b[39m)\u001b[38;5;241m.\u001b[39mastype(\u001b[38;5;28mint\u001b[39m)\n",
      "File \u001b[1;32mc:\\Users\\User\\AppData\\Local\\Programs\\Python\\Python310\\lib\\site-packages\\pandas\\core\\frame.py:3893\u001b[0m, in \u001b[0;36mDataFrame.__getitem__\u001b[1;34m(self, key)\u001b[0m\n\u001b[0;32m   3891\u001b[0m \u001b[38;5;28;01mif\u001b[39;00m \u001b[38;5;28mself\u001b[39m\u001b[38;5;241m.\u001b[39mcolumns\u001b[38;5;241m.\u001b[39mnlevels \u001b[38;5;241m>\u001b[39m \u001b[38;5;241m1\u001b[39m:\n\u001b[0;32m   3892\u001b[0m     \u001b[38;5;28;01mreturn\u001b[39;00m \u001b[38;5;28mself\u001b[39m\u001b[38;5;241m.\u001b[39m_getitem_multilevel(key)\n\u001b[1;32m-> 3893\u001b[0m indexer \u001b[38;5;241m=\u001b[39m \u001b[38;5;28;43mself\u001b[39;49m\u001b[38;5;241;43m.\u001b[39;49m\u001b[43mcolumns\u001b[49m\u001b[38;5;241;43m.\u001b[39;49m\u001b[43mget_loc\u001b[49m\u001b[43m(\u001b[49m\u001b[43mkey\u001b[49m\u001b[43m)\u001b[49m\n\u001b[0;32m   3894\u001b[0m \u001b[38;5;28;01mif\u001b[39;00m is_integer(indexer):\n\u001b[0;32m   3895\u001b[0m     indexer \u001b[38;5;241m=\u001b[39m [indexer]\n",
      "File \u001b[1;32mc:\\Users\\User\\AppData\\Local\\Programs\\Python\\Python310\\lib\\site-packages\\pandas\\core\\indexes\\base.py:3797\u001b[0m, in \u001b[0;36mIndex.get_loc\u001b[1;34m(self, key)\u001b[0m\n\u001b[0;32m   3792\u001b[0m     \u001b[38;5;28;01mif\u001b[39;00m \u001b[38;5;28misinstance\u001b[39m(casted_key, \u001b[38;5;28mslice\u001b[39m) \u001b[38;5;129;01mor\u001b[39;00m (\n\u001b[0;32m   3793\u001b[0m         \u001b[38;5;28misinstance\u001b[39m(casted_key, abc\u001b[38;5;241m.\u001b[39mIterable)\n\u001b[0;32m   3794\u001b[0m         \u001b[38;5;129;01mand\u001b[39;00m \u001b[38;5;28many\u001b[39m(\u001b[38;5;28misinstance\u001b[39m(x, \u001b[38;5;28mslice\u001b[39m) \u001b[38;5;28;01mfor\u001b[39;00m x \u001b[38;5;129;01min\u001b[39;00m casted_key)\n\u001b[0;32m   3795\u001b[0m     ):\n\u001b[0;32m   3796\u001b[0m         \u001b[38;5;28;01mraise\u001b[39;00m InvalidIndexError(key)\n\u001b[1;32m-> 3797\u001b[0m     \u001b[38;5;28;01mraise\u001b[39;00m \u001b[38;5;167;01mKeyError\u001b[39;00m(key) \u001b[38;5;28;01mfrom\u001b[39;00m \u001b[38;5;21;01merr\u001b[39;00m\n\u001b[0;32m   3798\u001b[0m \u001b[38;5;28;01mexcept\u001b[39;00m \u001b[38;5;167;01mTypeError\u001b[39;00m:\n\u001b[0;32m   3799\u001b[0m     \u001b[38;5;66;03m# If we have a listlike key, _check_indexing_error will raise\u001b[39;00m\n\u001b[0;32m   3800\u001b[0m     \u001b[38;5;66;03m#  InvalidIndexError. Otherwise we fall through and re-raise\u001b[39;00m\n\u001b[0;32m   3801\u001b[0m     \u001b[38;5;66;03m#  the TypeError.\u001b[39;00m\n\u001b[0;32m   3802\u001b[0m     \u001b[38;5;28mself\u001b[39m\u001b[38;5;241m.\u001b[39m_check_indexing_error(key)\n",
      "\u001b[1;31mKeyError\u001b[0m: 'year'"
     ]
    }
   ],
   "source": [
    "# Convert 'timestamp' column to datetime dtype\n",
    "sensor_traffic['timestamp'] = pd.to_datetime(sensor_traffic['timestamp'])\n",
    "\n",
    "# Create 'date' column\n",
    "sensor_traffic['date'] = sensor_traffic['timestamp'].dt.date\n",
    "\n",
    "# Create 'month_num' column\n",
    "sensor_traffic['month_num'] = sensor_traffic['timestamp'].dt.month\n",
    "\n",
    "# Create 'dow' column\n",
    "sensor_traffic['dow'] = sensor_traffic['timestamp'].dt.dayofweek\n",
    "\n",
    "# Mesh pedestrian sensor location and foot traffic datasets\n",
    "sensor_traffic = pd.merge(sensor_traffic, sensor_data, on='sensor_name', how='inner', suffixes=('_traffic', '_location'))\n",
    "\n",
    "# Get the current year\n",
    "current_year = datetime.now().year\n",
    "\n",
    "# Calculate the start year of the decade\n",
    "start_year = (current_year // 10) * 10\n",
    "\n",
    "# Filter the dataframe to this decade\n",
    "sensor_traffic = sensor_traffic[sensor_traffic['year'] >= start_year]\n",
    "\n",
    "#Add column for day (5am to 5pm) or night (6pm to 4am) traffic\n",
    "sensor_traffic['day_counts']   = np.where(((sensor_traffic['time']>4) & (sensor_traffic['time']<18)),\n",
    "                                          sensor_traffic['hourly_counts'] , 0).astype(int)\n",
    "sensor_traffic['night_counts'] = np.where(sensor_traffic['day_counts']==0,sensor_traffic['hourly_counts']\n",
    "                                          , 0).astype(int)\n",
    "sensor_traffic['when'] = np.where((sensor_traffic['day_counts']>0),'day', 'night')"
   ]
  },
  {
   "cell_type": "code",
   "execution_count": null,
   "id": "21546550",
   "metadata": {},
   "outputs": [],
   "source": [
    "sensor_traffic.rename(columns={\"sensor_name_x\": \"sensor_name\"}\n",
    "               ,inplace = True)\n",
    "sensor_traffic.info()"
   ]
  },
  {
   "cell_type": "code",
   "execution_count": null,
   "id": "3f4eb24b",
   "metadata": {},
   "outputs": [],
   "source": [
    "sensor_traffic.year.unique()"
   ]
  },
  {
   "cell_type": "code",
   "execution_count": null,
   "id": "4906f0cf",
   "metadata": {},
   "outputs": [],
   "source": [
    "#group by traffic for past decade 2012 to 2022\n",
    "#average day_counts, night_counts, hourly counts per month, year,all areas\n",
    "\n",
    "this_year = (pd.Timestamp.today().year) \n",
    "sensor_ds=sensor_traffic.query(\"year >= @this_year\")\n",
    "\n",
    "#will use this to show traffic in entertainment locations this year\n",
    "sensor_ds_yearll = sensor_traffic.groupby(['year','sensor_name','lat','lon','when'],as_index=False).agg(\n",
    "    {'hourly_counts': 'mean','day_counts':'mean','night_counts':'mean'})\n",
    "\n",
    "sensor_ds_year = sensor_traffic.groupby(['year','when'],as_index=False).agg(\n",
    "    {'hourly_counts': 'mean','day_counts':'mean','night_counts':'mean'})\n",
    "\n",
    "sensor_ds_ym = sensor_ds.groupby(['year','month_num','when'],as_index=False).agg(\n",
    "    {'hourly_counts': 'mean','day_counts':'mean','night_counts':'mean'})\n",
    "\n",
    "sensor_ds_ymd = sensor_ds.groupby(['year','month_num', 'dow','when'],as_index=False).agg(\n",
    "    {'hourly_counts': 'mean','day_counts':'mean','night_counts':'mean'})\n",
    "\n",
    "sensor_ds_hod = sensor_traffic.groupby(['time','when'],as_index=False).agg(\n",
    "    {'hourly_counts': 'mean','day_counts':'mean','night_counts':'mean'})\n"
   ]
  },
  {
   "cell_type": "code",
   "execution_count": null,
   "id": "ef40197d",
   "metadata": {},
   "outputs": [],
   "source": [
    "#Covid years by date\n",
    "sensor_ds_cy = sensor_traffic.query(\"year >= 2020\")\n",
    "sensor_ds_dt = sensor_ds_cy.groupby(['date'],as_index=False).agg(\n",
    "    {'hourly_counts': 'mean','day_counts':'mean','night_counts':'mean'})\n"
   ]
  },
  {
   "cell_type": "code",
   "execution_count": null,
   "id": "92b26a88",
   "metadata": {},
   "outputs": [],
   "source": [
    "#Traffic by date for past six months\n",
    "sensor_ds_cy['date'] = pd.to_datetime(sensor_ds_cy['date'], format='%Y-%m-%d')\n",
    "\n",
    "sensor_ds_cy = sensor_ds_cy.query(\"date >= '2022-06-01'\")\n",
    "sensor_ds_cy['year_month'] = pd.to_datetime(sensor_ds_cy['date']).dt.to_period('M')\n",
    "sensor_ds_cy.head(5)"
   ]
  },
  {
   "cell_type": "code",
   "execution_count": null,
   "id": "a4e3d5e4",
   "metadata": {},
   "outputs": [],
   "source": [
    "sensor_ds_dt_now = sensor_ds_cy.groupby(['date'],as_index=False).agg(\n",
    "    {'hourly_counts': 'mean','day_counts':'mean','night_counts':'mean'})\n",
    "\n",
    "sensor_ds_dt_month = sensor_ds_cy.query(\"date >= '2022-06-01'\")\n",
    "sensor_ds_dt_month.info()"
   ]
  },
  {
   "cell_type": "markdown",
   "id": "f260aa40",
   "metadata": {},
   "source": [
    "### Combine population, capacity, planned events "
   ]
  },
  {
   "cell_type": "code",
   "execution_count": null,
   "id": "a8d2256a",
   "metadata": {},
   "outputs": [],
   "source": [
    "#Need population total for City of Melbourne, without the decription\n",
    "ds_pop = ds_pop.drop(['geography'], axis=1)"
   ]
  },
  {
   "cell_type": "code",
   "execution_count": null,
   "id": "9c51c1b2",
   "metadata": {},
   "outputs": [],
   "source": [
    "#Clue venues and events\n",
    "ds_cve = clue_venues_capw.groupby(['year'],as_index=False).agg({'capacity': 'sum'})\n",
    "\n",
    "#keep dataset with covid years for use\n",
    "ds_cve_wc = ds_cve.copy()\n",
    "\n",
    "print(ds_cve.info())\n",
    "ds_cve.tail(10).T"
   ]
  },
  {
   "cell_type": "code",
   "execution_count": null,
   "id": "bd56cfbf",
   "metadata": {},
   "outputs": [],
   "source": [
    "ds_pop.rename(columns={\"value\": \"population\"}\n",
    "               ,inplace = True)\n",
    "print(ds_pop.year.unique())\n",
    "ds_cve_pop = pd.merge(ds_pop, ds_cve,  on=['year'], how='outer').sort_values(by='year')\n",
    "\n",
    "print(ds_cve_pop.tail(10).T)"
   ]
  },
  {
   "cell_type": "code",
   "execution_count": null,
   "id": "fdfd7900",
   "metadata": {},
   "outputs": [],
   "source": [
    "ds_pt = sensor_traffic.groupby(['year'],as_index=False).agg(\n",
    "    {'hourly_counts': 'mean','day_counts':'mean','night_counts':'mean'})\n",
    "\n",
    "#keep dataset with covid years for use\n",
    "ds_pt_wc = ds_pt.copy()\n",
    "\n",
    "#merge datasets\n",
    "ds_cve_pop_pt = pd.merge(ds_cve_pop, ds_pt, on=['year'], how='outer')\n",
    "\n",
    "#reset 2020-2022 values for capacity and traffic\n",
    "ds_cve_pop_pt.at[8,'capacity']=np.NaN\n",
    "ds_cve_pop_pt.at[8,'hourly_counts']=np.NaN\n",
    "ds_cve_pop_pt.at[8,'day_counts']=np.NaN\n",
    "ds_cve_pop_pt.at[8,'night_counts']=np.NaN\n",
    "\n",
    "ds_cve_pop_pt.at[9,'capacity']=np.NaN\n",
    "ds_cve_pop_pt.at[9,'hourly_counts']=np.NaN\n",
    "ds_cve_pop_pt.at[9,'day_counts']=np.NaN\n",
    "ds_cve_pop_pt.at[9,'night_counts']=np.NaN\n",
    "\n",
    "ds_cve_pop_pt.at[10,'capacity']=np.NaN\n",
    "ds_cve_pop_pt.at[10,'hourly_counts']=np.NaN\n",
    "ds_cve_pop_pt.at[10,'day_counts']=np.NaN\n",
    "ds_cve_pop_pt.at[10,'night_counts']=np.NaN\n",
    "ds_cve_pop_pt.at[11,'capacity']=np.NaN\n",
    "\n",
    "#Sort data for use in projections, missing values will be imputed later\n",
    "rs_cve_pop_pt  = ds_cve_pop_pt.sort_values(by=['year'], ascending=True)\n",
    "\n",
    "#The combined dataset will be used for projections\n",
    "print(ds_cve_pop_pt.head(20))\n"
   ]
  },
  {
   "cell_type": "code",
   "execution_count": null,
   "id": "3183626b",
   "metadata": {},
   "outputs": [],
   "source": [
    "#keep copy with Covid years\n",
    "rs_cve_pop_pt_wc = rs_cve_pop_pt.copy()\n",
    "\n",
    "rs_wc = rs_cve_pop_pt_wc.query('year>=2020 and year<=2022')"
   ]
  },
  {
   "cell_type": "markdown",
   "id": "0b54565c",
   "metadata": {},
   "source": [
    "<div class=\"usecase-section-header\">Analysis and Statistics</div>"
   ]
  },
  {
   "cell_type": "markdown",
   "id": "ab725a5f",
   "metadata": {},
   "source": [
    "## Entertainment location venue seating and patron capacity\n",
    "\n",
    "Map the number of seats or number of patrons from the CLUE survey responses from venues including bars, pubs and taverns and cafes, bistros and restaurants. The capacity measure is a total of the types of venues."
   ]
  },
  {
   "cell_type": "code",
   "execution_count": null,
   "id": "ae2a2c06",
   "metadata": {},
   "outputs": [],
   "source": [
    "#group data for latest survey response\n",
    "clue_venues_ds = clue_venues_y1.groupby(['census_year', 'clue_small_area','block_id'\n",
    "                                         ,'lon','lat','category_tag','description_tag'],as_index=False).agg(\n",
    "    {'number_of_patrons': 'sum','number_of_seats':'sum','capacity':'sum'})\n",
    "\n",
    "clue_venues_ds = clue_venues_ds.sort_values(by=['capacity'], ascending=False)\n",
    "clue_venues_ds.head(5).T"
   ]
  },
  {
   "cell_type": "code",
   "execution_count": null,
   "id": "24c65be4",
   "metadata": {},
   "outputs": [],
   "source": [
    "# Display the choropleth map\n",
    "fig = px.choropleth_mapbox(\n",
    "    \n",
    "    clue_venues_ds, #dataset\n",
    "    geojson=clueblocks, #CLUE Block spatial data\n",
    "        \n",
    "    locations='block_id', \n",
    "    color='capacity', \n",
    "    color_continuous_scale='sunset', #colour scale ylgn / sunset / geyser\n",
    "    range_color=(0, df_btp_capacity['number_of_patrons'].max()), #range for the colour scale\n",
    "        \n",
    "    featureidkey=\"properties.block_id\",\n",
    "    mapbox_style=\"carto-positron\", #map style \n",
    "    zoom=11.75, #zoom level\n",
    "    \n",
    "    center = {\"lat\": -37.81216592937499, \"lon\": 144.961812290625}, # set the map centre coordinates on Melbourne\n",
    "    opacity=0.7,\n",
    "        \n",
    "    hover_name='clue_small_area', #title of the pop up box\n",
    "    hover_data={'census_year':True, 'block_id':True, 'number_of_patrons':True,\n",
    "                'number_of_seats':True, 'capacity':True, 'description_tag': True,\n",
    "                'lon':False, 'lat':False, 'category_tag':True\n",
    "               }, #values to display in the popup box   \n",
    "    labels={'number_of_patrons':'Number of Patrons','block_id':'Block Id',\n",
    "            'number_of_seats':'Number of Seats',\n",
    "            'capacity':'Capacity','census_year':'Census Year',\n",
    "            'category_tag':'Category','description_tag':'Description'\n",
    "           },\n",
    "    title='Venue Capacity and Planned Activity and Works', #Title for plot\n",
    "    width=950, height=800 #dimensions of plot in pixels\n",
    "\n",
    " )\n",
    "\n",
    "#show year 3\n",
    "fig3 = px.scatter_mapbox(\n",
    "    \n",
    "    clue_venues_y3, lat=\"lat\", lon=\"lon\",\n",
    "    opacity=0.8,\n",
    "    hover_name='clue_small_area', # the title of the hover pop up box\n",
    "    hover_data={'census_year':True,'block_id':True,'number_of_patrons':True,\n",
    "                'number_of_seats':True, 'capacity' : True, 'description_tag': True,\n",
    "                'lat':False,'lon':False}, #values to display in the popup box\n",
    "    color_discrete_sequence=['blue'],   \n",
    "    labels={'capacity':'Capacity','block_id':'Block Id','description_tag':'Description',\n",
    "            'census_year':'Census Year', 'number_of_patrons': 'Number of Patrons',\n",
    "            'number_of_seats':'Number of Seats'\n",
    "           }, #labels\n",
    "    \n",
    ")\n",
    "\n",
    "#show year 2\n",
    "fig2 = px.scatter_mapbox(\n",
    "    \n",
    "    clue_venues_y2, lat=\"lat\", lon=\"lon\",\n",
    "    opacity=0.7,\n",
    "    hover_name='clue_small_area', # the title of the hover pop up box\n",
    "    hover_data={'census_year':True,'block_id':True,'number_of_patrons':True,\n",
    "                'number_of_seats':True, 'capacity' : True, 'description_tag': True,\n",
    "                'lat':False,'lon':False}, #values to display in the popup box\n",
    "    color_discrete_sequence=['cyan'],   \n",
    "    labels={'capacity':'Capacity','block_id':'Block Id','description_tag':'Description',\n",
    "            'census_year':'Census Year', 'number_of_patrons': 'Number of Patrons',\n",
    "            'number_of_seats':'Number of Seats'\n",
    "           }, #labels\n",
    "    \n",
    ")\n",
    "\n",
    "#show year 1\n",
    "fig1 = px.scatter_mapbox(\n",
    "    \n",
    "    clue_venues_y1, lat=\"lat\", lon=\"lon\",\n",
    "    opacity=0.75,\n",
    "    hover_name='clue_small_area', #title of the pop up box\n",
    "    hover_data={'census_year':True,'block_id':True,'number_of_patrons':True,\n",
    "                'number_of_seats':True, 'capacity' : True, 'description_tag': True,\n",
    "                'lat':False,'lon':False}, #values to display in the popup box\n",
    "    color_discrete_sequence=['purple'],   \n",
    "    size_max=20, zoom=10,\n",
    "    labels={'capacity':'Capacity','block_id':'Block Id','description_tag':'Description',\n",
    "            'census_year':'Census Year', 'number_of_patrons': 'Number of Patrons',\n",
    "            'number_of_seats':'Number of Seats'\n",
    "           }, #labels\n",
    "    \n",
    ")\n",
    "\n",
    "#capw\n",
    "fig4 = px.choropleth_mapbox(\n",
    "        \n",
    "    clue_venues_capw, #dataset\n",
    "    geojson=capw,     \n",
    "    \n",
    "    locations='activity_id', \n",
    "    \n",
    "    featureidkey=\"properties.activity_id\", #polygon identifier from the GeoJSON data\n",
    "    \n",
    "    hover_name='small_area', # the title of the hover pop up box\n",
    "    hover_data={'activity_id':False, 'classification':True,\n",
    "                'start_year':True,'end_year':True, 'source_id': True}, #values to display in the popup box\n",
    "    \n",
    "    #defines labels\n",
    "    labels={'source_id':'Source_Id', 'classification':'Classification',\n",
    "            'start_year':'Start Year',\n",
    "            'end_year':'End Year'}\n",
    "\n",
    " )\n",
    "\n",
    "\n",
    "\n",
    "#differentiate recent years for interest\n",
    "fig.add_trace(fig3.data[0])\n",
    "fig.add_trace(fig2.data[0])\n",
    "fig.add_trace(fig1.data[0])\n",
    "fig.add_trace(fig4.data[0])\n",
    "fig.update_geos(fitbounds=\"locations\", visible=True)\n",
    "\n",
    "fig.show()\n"
   ]
  },
  {
   "cell_type": "markdown",
   "id": "f475a347",
   "metadata": {},
   "source": [
    "### What areas have the maximum number of capacity?\n",
    "\n",
    "Assess venue capacity to accommodate both number of seats and number of patrons, based on CLUE survey responses for 2021. \n",
    "\n",
    "From the map above and the chart below, we can see the entertainment venues with maximum capacity are in Melbourne (Remainder), Kensington, East Melbourne, Southbank, Docklands, and Melbourne (CBD). This is venues that can hold large number of people.\n",
    "\n",
    "The largest venues classified as pub, tavern or bar, are in Docklands."
   ]
  },
  {
   "cell_type": "code",
   "execution_count": null,
   "id": "493e5b7f",
   "metadata": {},
   "outputs": [],
   "source": [
    "#group\n",
    "df = clue_venues_y1.groupby(['small_area_tag','category_tag'],as_index=False).agg(\n",
    "    {'capacity':'max'})\n",
    "\n",
    "#filter values\n",
    "df = df.query(\"capacity > 0\")\n",
    "\n",
    "#sort\n",
    "df= df.sort_values(by=['capacity'], ascending=True)\n",
    "\n",
    "#plot\n",
    "fig = px.bar(df, y='small_area_tag', x='capacity', orientation='h',\n",
    "             color='category_tag', title=\"Capacity - Large Venue by area\")\n",
    "fig.show()"
   ]
  },
  {
   "cell_type": "markdown",
   "id": "86fef866",
   "metadata": {},
   "source": [
    "### What areas have the highest total number of seats or patrons?\n",
    "\n",
    "From the chart below, we can see the entertainment venues with highest total capacity are in Melbourne (CBD), Southbank, Docklands, and Carlton. This is total capacity across all venues per area. Please note, that the cafe restaurants and bistro datasets contain supermarkets, florists and variety sub-types of venues."
   ]
  },
  {
   "cell_type": "code",
   "execution_count": null,
   "id": "e5eda92f",
   "metadata": {},
   "outputs": [],
   "source": [
    "#group\n",
    "df = clue_venues_y1.groupby(['small_area_tag','category_tag'],as_index=False).agg(\n",
    "    {'capacity':'sum', 'trading_name':'count'})\n",
    "\n",
    "#filter values\n",
    "df = df.query(\"capacity > 0\")\n",
    "\n",
    "#sort\n",
    "df= df.sort_values(by=['capacity','trading_name'], ascending=True)\n",
    "\n",
    "#plot\n",
    "fig = px.bar(df, y='small_area_tag', x='capacity', \n",
    "             color='category_tag', title=\"Total Capacity - Across Venues per Area\")\n",
    "fig.show()"
   ]
  },
  {
   "cell_type": "markdown",
   "id": "ea483e6f",
   "metadata": {},
   "source": [
    "### What types of seating do these venues have?\n",
    "\n",
    "The most number of total Indoor and Outdoor seats are in Melbourne (CBD), folowed by Docklands and Southbank."
   ]
  },
  {
   "cell_type": "code",
   "execution_count": null,
   "id": "a2966f37",
   "metadata": {},
   "outputs": [],
   "source": [
    "#group\n",
    "df = clue_venues_y1.groupby(['small_area_tag','seating_type','category_tag'],as_index=False).agg(\n",
    "    {'capacity':'sum','trading_name':'count'})\n",
    "\n",
    "#filter values\n",
    "df = df.query(\"capacity > 0\")\n",
    "\n",
    "#sort\n",
    "df= df.sort_values(by=['capacity'], ascending=True)\n",
    "\n",
    "#plot\n",
    "fig = px.bar(df, y='small_area_tag', x='capacity', \n",
    "             color='seating_type', title=\"Total Capacity by Seating Type - Across Venues per Area\")\n",
    "fig.show()"
   ]
  },
  {
   "cell_type": "markdown",
   "id": "45599380",
   "metadata": {},
   "source": [
    "### What type of Events are planned?\n",
    "\n",
    "Many planned events were provided for 2022, this will continue in 2023. The most events are for Melbourne (CBD) and Carlton. "
   ]
  },
  {
   "cell_type": "code",
   "execution_count": null,
   "id": "fce34dce",
   "metadata": {},
   "outputs": [],
   "source": [
    "#group\n",
    "df = df_capw.groupby(['start_year','end_year','small_area','classification','status'],as_index=False).agg(\n",
    "    {'source_id': 'count'})\n",
    "\n",
    "df.rename(columns={\"source_id\":\"num_events\"},inplace = True)\n",
    "df\n",
    "\n",
    "#sort\n",
    "df= df.sort_values(by=['end_year'], ascending=True)\n",
    "\n",
    "#plot\n",
    "fig = px.bar(df, x=['small_area','classification'], y='num_events', \n",
    "             color='end_year', title=\"Planned Activity - End Year per Area\")\n",
    "fig.show()"
   ]
  },
  {
   "cell_type": "markdown",
   "id": "546c239f",
   "metadata": {},
   "source": [
    "#### The charts below shows for each district, how seats and patrons are related to planned activity and works areas"
   ]
  },
  {
   "cell_type": "code",
   "execution_count": null,
   "id": "8a322ca4",
   "metadata": {},
   "outputs": [],
   "source": [
    "def summarize_within(input_gdf, input_summary_gdf, in_fields, out_fields = None, aggfunc='mean'):\n",
    "    '''\n",
    "    Overlays a polygon layer with another layer to calculate attribute field statistics about those features (input_summary_gdf) within the polygons (input_gdf).\n",
    "\n",
    "    Parameters:\n",
    "        input_gdf: Geodataframe of the polygons in which features will be summarized by.\n",
    "        input_summary_gdf: Geodataframe of features that will be summarized\n",
    "        in_fields: name of the fields (in input_summary_gdf) that will be summarized\n",
    "        out_fields: name that the fields will have after they're summarized\n",
    "        aggfunc: function that will be used to summarize\n",
    "    \n",
    "    Returns:\n",
    "        A geodataframe with 'input_gdf' polygons and the attributes of 'input_summary_gdf' summarized by each polygon.\n",
    "\n",
    "    '''\n",
    "    input_gdf = input_gdf.copy()\n",
    "    input_summary_gdf = input_summary_gdf.copy()\n",
    "    print(input_summary_gdf.columns)\n",
    "    if out_fields == None:\n",
    "        out_fields = in_fields\n",
    "    #Merges the dwelling points with the input_polygons. A new column \"index right\" is created. It indicates in what cell the property is within.\n",
    "    merged = gpd.sjoin(input_summary_gdf, input_gdf, how='left')\n",
    "    #Now lets count how many properties are within each cell\n",
    "    dissolve = merged.dissolve(by=\"index_right\", aggfunc=aggfunc) #Dissolve (looks like groupby) by the cell index\n",
    "    for in_field, out_field in zip(in_fields, out_fields):\n",
    "        input_gdf.loc[dissolve.index, out_field] = dissolve[in_field].values #Putting number of properties in input_polygons gdf\n",
    "\n",
    "    return input_gdf.round(2)\n"
   ]
  },
  {
   "cell_type": "code",
   "execution_count": null,
   "id": "3561da01",
   "metadata": {},
   "outputs": [],
   "source": [
    "gdf_capw = gpd.GeoDataFrame(df_capw_all, geometry = df_capw_all['geometry'].apply(lambda wkt: loads(wkt)))\n",
    "\n",
    "df_crb_y3 = df_crb[df_crb['census_year']==2020]\n",
    "df_crb_y3_gdf = gpd.GeoDataFrame(df_crb_y3, geometry = df_crb_y3[['longitude','latitude']].apply(lambda coord : Point(coord[0], coord[1]), axis=1))\n",
    "gdf_capw['Number of seats'] = summarize_within(gdf_capw, df_crb_y3_gdf, ['number_of_seats'], aggfunc='sum').dropna(subset=['number_of_seats'])['number_of_seats']\n",
    "gdf_capw['Number of seats'] = gdf_capw['Number of seats'].fillna(0)\n",
    "\n",
    "df_btp_capacity_y3 = df_btp_capacity[df_btp_capacity['census_year']==2020]\n",
    "df_btp_capacity_y3_gdf = gpd.GeoDataFrame(df_btp_capacity_y3, geometry = df_btp_capacity_y3[['longitude','latitude']].apply(lambda coord : Point(coord[0], coord[1]), axis=1))\n",
    "\n",
    "gdf_capw['Number of patrons'] = summarize_within(gdf_capw, df_btp_capacity_y3_gdf, ['number_of_patrons'], aggfunc='sum').dropna(subset=['number_of_patrons'])['number_of_patrons']\n",
    "gdf_capw['Number of patrons'] = gdf_capw['Number of patrons'].fillna(0)\n"
   ]
  },
  {
   "cell_type": "code",
   "execution_count": null,
   "id": "647bd710",
   "metadata": {},
   "outputs": [],
   "source": [
    "def plot_map(gdf, col1, col2, col3, title):\n",
    "    fig = go.Figure(go.Choroplethmapbox(geojson=gdf.__geo_interface__, locations=gdf.index, z=gdf[col1],\n",
    "                                        colorscale=\"sunset\", zmin=gdf[col1].min(), zmax=gdf[col1].max(),\n",
    "                                        marker_opacity=1, marker_line_width=0, ))\n",
    "\n",
    "\n",
    "\n",
    "    x,y = box(*gdf.total_bounds).centroid.xy\n",
    "    #print(gdf[col1].max())\n",
    "\n",
    "    \n",
    "    fig.update_layout(mapbox_style=\"stamen-terrain\", mapbox_center = {\"lat\": y[0], \"lon\": x[0]}, mapbox_zoom=11.5)\n",
    "\n",
    "    matter_r= [[0.0, '#2f0f3d'], #cmocean colorscale \n",
    "            [0.1, '#4f1552'],\n",
    "            [0.2, '#72195f'],\n",
    "            [0.3, '#931f63'],\n",
    "            [0.4, '#b32e5e'],\n",
    "            [0.5, '#cf4456'],\n",
    "            [0.6, '#e26152'],\n",
    "            [0.7, '#ee845d'],\n",
    "            [0.8, '#f5a672'],\n",
    "            [0.9, '#faca8f'],\n",
    "            [1.0, '#fdedb0']]\n",
    "\n",
    "\n",
    "\n",
    "    button1 = dict(method= 'update',\n",
    "                label=col1,\n",
    "                args=[\n",
    "                        {\"z\": [gdf[col1]],\n",
    "                        \"zmax\":[gdf[col1].max()],\n",
    "                        \"zmin\":[gdf[col1].min()]\n",
    "\n",
    "                        }, #dict for fig.data[0] updates\n",
    "                        {\"coloraxis.colorscale\":\"Viridis\" } #dict for  layout attribute update \n",
    "                    ])\n",
    "\n",
    "    button2 = dict(method= 'update',\n",
    "                label=col2,\n",
    "                args=[\n",
    "                    {\"z\": [gdf[col2]],\n",
    "                    \"zmax\":[gdf[col2].max()],\n",
    "                    \"zmin\":[gdf[col2].min()]\n",
    "\n",
    "                        \n",
    "                    },\n",
    "                    {\"coloraxis.colorscale\": matter_r} #update layout attribute    \n",
    "            ])\n",
    "\n",
    "    button3 = dict(method= 'update',\n",
    "                label=col3,\n",
    "                args=[\n",
    "                    {\"z\": [gdf[col3]],\n",
    "                    \"zmax\":[gdf[col3].max()],\n",
    "                    \"zmin\":[gdf[col3].min()]\n",
    "\n",
    "                        \n",
    "                    },\n",
    "                    {\"coloraxis.colorscale\": matter_r} #update layout attribute    \n",
    "            ])\n",
    "    \n",
    " \n",
    "    fig.update_layout(updatemenus=[dict(active=0,\n",
    "                                        buttons= [button1, button2, button3])]\n",
    "                                        )\n",
    "    fig.update_layout(title_text = title, title_x=0.5)\n",
    "    return fig\n",
    "\n",
    "#gdf_capw = gpd.GeoDataFrame(df_capw, geometry='geometry')\n",
    "plot_map(gdf_capw, 'start_year', 'end_year', 'Number of seats', 'Planned activity and works')\n"
   ]
  },
  {
   "cell_type": "code",
   "execution_count": null,
   "id": "8a149ca3",
   "metadata": {},
   "outputs": [],
   "source": [
    "results_seats = []\n",
    "for small_area in tqdm(df_crb_y3_gdf['clue_small_area'].unique()):\n",
    "    intersection_mask = df_crb_y3_gdf[df_crb_y3_gdf['clue_small_area']==small_area].intersects(unary_union(gdf_capw['geometry']))\n",
    "    seats_within_apw = df_crb_y3_gdf[df_crb_y3_gdf['clue_small_area']==small_area][intersection_mask]['number_of_seats'].sum()\n",
    "    total_seats = df_crb_y3_gdf[df_crb_y3_gdf['clue_small_area']==small_area]['number_of_seats'].sum()\n",
    "    results_seats.append({\"clue_small_area\":small_area, 'number_of_seats':seats_within_apw, 'percentage_of_seats':(seats_within_apw/total_seats)*100})\n",
    "results_seats = pd.DataFrame(results_seats)"
   ]
  },
  {
   "cell_type": "code",
   "execution_count": null,
   "id": "39b1a02a",
   "metadata": {},
   "outputs": [],
   "source": [
    "results_seats = results_seats.sort_values(by=['number_of_seats'], ascending=False)\n",
    "\n",
    "\n",
    "fig = go.Figure()\n",
    "fig.add_trace(\n",
    "    go.Bar(x =results_seats['clue_small_area'], y=results_seats['number_of_seats'])\n",
    ")\n",
    "\n",
    "fig.update_layout(title_text = 'Number of seats of busineses located within planned activity and works area', title_x=0.5)\n",
    "fig.show()"
   ]
  },
  {
   "cell_type": "code",
   "execution_count": null,
   "id": "b72cd082",
   "metadata": {},
   "outputs": [],
   "source": [
    "results_seats = results_seats.sort_values(by=['percentage_of_seats'], ascending=False)\n",
    "\n",
    "fig = go.Figure()\n",
    "fig.add_trace(\n",
    "    go.Bar(x =results_seats['clue_small_area'], y=results_seats['percentage_of_seats'])\n",
    ")\n",
    "\n",
    "fig.update_layout(title_text = 'Percentage of seats located within planned activity and works area', title_x=0.5)\n",
    "fig.show()"
   ]
  },
  {
   "cell_type": "code",
   "execution_count": null,
   "id": "d9621713",
   "metadata": {},
   "outputs": [],
   "source": [
    "results_patrons = []\n",
    "for small_area in tqdm(df_btp_capacity_y3_gdf['clue_small_area'].unique()):\n",
    "    intersection_mask = df_btp_capacity_y3_gdf[df_btp_capacity_y3_gdf['clue_small_area']==small_area].intersects(unary_union(gdf_capw['geometry']))\n",
    "    patrons_within_apw = df_btp_capacity_y3_gdf[df_btp_capacity_y3_gdf['clue_small_area']==small_area][intersection_mask]['number_of_patrons'].sum()\n",
    "    total_patrons = df_btp_capacity_y3_gdf[df_btp_capacity_y3_gdf['clue_small_area']==small_area]['number_of_patrons'].sum()\n",
    "    results_patrons.append({\"clue_small_area\":small_area, 'number_of_patrons':patrons_within_apw, 'percentage_of_patrons':(patrons_within_apw/total_patrons)*100})\n",
    "\n",
    "results_patrons = pd.DataFrame(results_patrons)"
   ]
  },
  {
   "cell_type": "code",
   "execution_count": null,
   "id": "762fdd75",
   "metadata": {},
   "outputs": [],
   "source": [
    "results_patrons = results_patrons.sort_values(by=['number_of_patrons'], ascending=False)\n",
    "\n",
    "fig = go.Figure()\n",
    "fig.add_trace(\n",
    "    go.Bar(x =results_patrons['clue_small_area'], y=results_patrons['number_of_patrons'])\n",
    ")\n",
    "\n",
    "fig.update_layout(title_text = 'Patrons capacity of busineses located within planned activity and works area', title_x=0.5)\n",
    "fig.show()"
   ]
  },
  {
   "cell_type": "code",
   "execution_count": null,
   "id": "48942548",
   "metadata": {},
   "outputs": [],
   "source": [
    "results_patrons = results_patrons.sort_values(by=['percentage_of_patrons'], ascending=False)\n",
    "\n",
    "fig = go.Figure()\n",
    "fig.add_trace(\n",
    "    go.Bar(x =results_patrons['clue_small_area'], y=results_patrons['percentage_of_patrons'])\n",
    ")\n",
    "\n",
    "fig.update_layout(title_text = 'Percentage of patrons capacity located within planned activity and works area', title_x=0.5)\n",
    "fig.show()"
   ]
  },
  {
   "cell_type": "markdown",
   "id": "7ecaecf7",
   "metadata": {},
   "source": [
    "<div class=\"usecase-section-header\">Projections</div>"
   ]
  },
  {
   "cell_type": "markdown",
   "id": "8fa90dd1",
   "metadata": {},
   "source": [
    "In this section we are trying to project the return of pedestrian traffic to the city. The reasoning is that if pedestrian traffic increases it is an indicator of people returning to the city. The time of the day, and where that pedestrian activity occurs is also an indicator of whether the interaction is associated with work or for leisure activities.\n",
    "\n",
    "Specifically we can associate evening or night time activity for entertainment, either to venues such as bars, pubs, taverns, and restaurants, or for events. Apart from night time traffic, we will use the small area population forecast, and venue capacity, to project growth areas. "
   ]
  },
  {
   "cell_type": "code",
   "execution_count": null,
   "id": "75ab49f4",
   "metadata": {},
   "outputs": [],
   "source": [
    "#group\n",
    "df = sensor_ds_year.groupby(['year','when'],as_index=False).agg(\n",
    "    {'hourly_counts':'mean','day_counts':'mean','night_counts':'mean'})\n",
    "\n",
    "#sort\n",
    "df= df.sort_values(by=['year'], ascending=False)\n",
    "\n",
    "#plot\n",
    "fig = px.line(df, x='year', y='hourly_counts', hover_data=[\"day_counts\",\"night_counts\"], \n",
    "             color='when', title=\"Average Pedestrian Traffic By Year, By Day and Night\")\n",
    "fig.show()"
   ]
  },
  {
   "cell_type": "markdown",
   "id": "1c876038",
   "metadata": {},
   "source": [
    "In the chart above, as expectd we can see a marked difference in the pedestrian traffic in 2020. The day and night traffic have increased in 2022. "
   ]
  },
  {
   "cell_type": "code",
   "execution_count": null,
   "id": "26e2485b",
   "metadata": {},
   "outputs": [],
   "source": [
    "#group\n",
    "df = sensor_ds_hod.groupby(['time','when'],as_index=False).agg(\n",
    "    {'hourly_counts':'mean','day_counts':'mean','night_counts':'mean'})\n",
    "\n",
    "#sort\n",
    "df= df.sort_values(by=['hourly_counts'], ascending=True)\n",
    "\n",
    "#plot\n",
    "fig = px.bar(df, x='time', y='hourly_counts', hover_data=[\"day_counts\",\"night_counts\"], \n",
    "             color='when', title=\"Average Pedestrian Traffic By Year, By Time\")\n",
    "fig.show()"
   ]
  },
  {
   "cell_type": "markdown",
   "id": "b852b17d",
   "metadata": {},
   "source": [
    "Will examine the pedestrian traffic before Covid, as we can see in the charts above, there is a sharp drop in traffic in 2020. The years 2020-2022 are removed in the dataset used for the next step."
   ]
  },
  {
   "cell_type": "markdown",
   "id": "93b6aede",
   "metadata": {},
   "source": [
    "### Data Preparation\n",
    "\n",
    "Confirm the data to be used has a linear trend, and remove outliers. Estimate missing values for years based on history.\n",
    "\n",
    "Pedestrian traffic data trends upward once the 2020-2022 year totals are removed. "
   ]
  },
  {
   "cell_type": "code",
   "execution_count": null,
   "id": "fa51a116",
   "metadata": {},
   "outputs": [],
   "source": [
    "df =  rs_cve_pop_pt\n",
    "fig = px.scatter(df,  x=\"year\", y=[\"hourly_counts\",\"day_counts\",\"night_counts\"]\n",
    "                 ,  trendline=\"ols\", title = \"Pedestrian Traffic By Year\"\n",
    "                )\n",
    "fig.show()"
   ]
  },
  {
   "cell_type": "code",
   "execution_count": null,
   "id": "db4e53ea",
   "metadata": {},
   "outputs": [],
   "source": [
    "#Impute missing values for pedestrian traffic\n",
    "df =  rs_cve_pop_pt.query('year < 2020')\n",
    "\n",
    "#hourly_counts\n",
    "y = df['hourly_counts']\n",
    "x = np.array(df['year']).reshape((-1, 1))\n",
    "regressor = LinearRegression()  \n",
    "regressor.fit(x, y) \n",
    "\n",
    "#missing year values\n",
    "mcp = ds_cve_pop_pt\n",
    "mv = np.array(mcp['year']).reshape((-1, 1))\n",
    "y_pred = regressor.predict(mv)\n",
    "\n",
    "#Add estimated value for years with missing\n",
    "mcp['est_hourly_counts'] = y_pred.tolist()\n",
    "\n",
    "\n",
    "#day_counts\n",
    "y = df['day_counts']\n",
    "x = np.array(df['year']).reshape((-1, 1))\n",
    "regressor = LinearRegression()  \n",
    "regressor.fit(x, y) \n",
    "\n",
    "#missing year values\n",
    "mcp = ds_cve_pop_pt\n",
    "mv = np.array(mcp['year']).reshape((-1, 1))\n",
    "y_pred = regressor.predict(mv)\n",
    "\n",
    "#Add estimated value for years with missing\n",
    "mcp['est_day_counts'] = y_pred.tolist()\n",
    "\n",
    "\n",
    "#night_counts\n",
    "y = df['night_counts']\n",
    "x = np.array(df['year']).reshape((-1, 1))\n",
    "regressor = LinearRegression()  \n",
    "regressor.fit(x, y) \n",
    "\n",
    "#missing year values\n",
    "mcp = ds_cve_pop_pt\n",
    "mv = np.array(mcp['year']).reshape((-1, 1))\n",
    "y_pred = regressor.predict(mv)\n",
    "\n",
    "#Add estimated value for years with missing\n",
    "mcp['est_night_counts'] = y_pred.tolist()\n",
    "\n"
   ]
  },
  {
   "cell_type": "markdown",
   "id": "c462c532",
   "metadata": {},
   "source": [
    "Population data has no outliers, but we need to impute values for past years based on the trend."
   ]
  },
  {
   "cell_type": "code",
   "execution_count": null,
   "id": "fe11d184",
   "metadata": {},
   "outputs": [],
   "source": [
    "df =  ds_pop\n",
    "fig = px.scatter(df,  x=\"year\", y=[\"population\"]\n",
    "                 ,  trendline=\"ols\", title = \"Population By Year\"\n",
    "                )\n",
    "fig.show()"
   ]
  },
  {
   "cell_type": "code",
   "execution_count": null,
   "id": "36cb7120",
   "metadata": {},
   "outputs": [],
   "source": [
    "#Impute missing values for population\n",
    "\n",
    "df =  ds_pop\n",
    "y = df['population']\n",
    "x = np.array(df['year']).reshape((-1, 1))\n",
    "regressor = LinearRegression()  \n",
    "regressor.fit(x, y) \n",
    "\n",
    "#missing population year values\n",
    "mcp = ds_cve_pop_pt\n",
    "mv = np.array(mcp['year']).reshape((-1, 1))\n",
    "y_pred = regressor.predict(mv)\n",
    "\n",
    "#Add estimated value for years with missing\n",
    "mcp['est_population'] = y_pred.tolist()\n"
   ]
  },
  {
   "cell_type": "code",
   "execution_count": null,
   "id": "d9b54afc",
   "metadata": {},
   "outputs": [],
   "source": [
    "#view imputed values for population and traffic\n",
    "ds_cve_pop_pt"
   ]
  },
  {
   "cell_type": "markdown",
   "id": "51f4a85c",
   "metadata": {},
   "source": [
    "For capacity data the downwards trend for 2021 - 2023 is removed."
   ]
  },
  {
   "cell_type": "code",
   "execution_count": null,
   "id": "316469f7",
   "metadata": {},
   "outputs": [],
   "source": [
    "#Removed Covid impacted years from here\n",
    "\n",
    "#identify outliers 2020 and 2021 - peak Covid impact\n",
    "out_values = [2020, 2021, 2022, 2023]\n",
    "\n",
    "df =  ds_cve.copy()\n",
    "\n",
    "#drop any rows for outlier values in the year column\n",
    "df = df[df.year.isin(out_values) == False]\n",
    "\n",
    "fig = px.scatter(df,  x=\"year\", y=[\"capacity\"]\n",
    "                 ,  trendline=\"ols\", title = \"Capacity By Year\"\n",
    "                )\n",
    "fig.show()"
   ]
  },
  {
   "cell_type": "code",
   "execution_count": null,
   "id": "3965c3a9",
   "metadata": {},
   "outputs": [],
   "source": [
    "#Impute missing values for capacity\n",
    "df =  ds_cve.copy()\n",
    "\n",
    "y = df['capacity']\n",
    "x = np.array(df['year']).reshape((-1, 1))\n",
    "regressor = LinearRegression()  \n",
    "regressor.fit(x, y) \n",
    "\n",
    "#missing capacity year values\n",
    "mcp = ds_cve_pop_pt\n",
    "mv = np.array(mcp['year']).reshape((-1, 1))\n",
    "y_pred = regressor.predict(mv)\n",
    "\n",
    "#Add estimated value for years with missing\n",
    "mcp['est_capacity'] = y_pred.tolist()"
   ]
  },
  {
   "cell_type": "code",
   "execution_count": null,
   "id": "3946084e",
   "metadata": {},
   "outputs": [],
   "source": [
    "mcp"
   ]
  },
  {
   "cell_type": "code",
   "execution_count": null,
   "id": "fe882511",
   "metadata": {},
   "outputs": [],
   "source": [
    "#Combine data set across columns, replace missings with estimates\n",
    "ds_cve_pop_pt['capacity'] = ds_cve_pop_pt[['capacity', 'est_capacity']].bfill(axis=1).iloc[:, 0]\n",
    "ds_cve_pop_pt['population'] = ds_cve_pop_pt[['population', 'est_population']].bfill(axis=1).iloc[:, 0]\n",
    "ds_cve_pop_pt['hourly_counts'] = ds_cve_pop_pt[['hourly_counts', 'est_hourly_counts']].bfill(axis=1).iloc[:, 0]\n",
    "ds_cve_pop_pt['night_counts'] = ds_cve_pop_pt[['night_counts', 'est_night_counts']].bfill(axis=1).iloc[:, 0]\n",
    "ds_cve_pop_pt['day_counts'] = ds_cve_pop_pt[['day_counts', 'est_day_counts']].bfill(axis=1).iloc[:, 0]"
   ]
  },
  {
   "cell_type": "markdown",
   "id": "a8c8fbc1",
   "metadata": {},
   "source": [
    "We now have estimations and predictions based on non-Covid values. These can be plotted as below."
   ]
  },
  {
   "cell_type": "code",
   "execution_count": null,
   "id": "d4ed1b40",
   "metadata": {},
   "outputs": [],
   "source": [
    "df = ds_cve_pop_pt.sort_values(by=['year'], ascending=True)\n",
    "df.tail(3).T"
   ]
  },
  {
   "cell_type": "code",
   "execution_count": null,
   "id": "7cdf8825",
   "metadata": {},
   "outputs": [],
   "source": [
    "df =  ds_cve_pop_pt.copy()\n",
    "\n",
    "#drop any rows for outlier values in the year column\n",
    "df = df[df.year.isin(out_values) == False]\n",
    "\n",
    "df =  df.sort_values(by=['year'], ascending=True)\n",
    "\n",
    "fig = px.line(df,  x=\"year\", y=[\"capacity\",\"population\",\"hourly_counts\"]\n",
    "                 , title = \"Projection By Year (without Covid)\"\n",
    "                )\n",
    "fig.show()"
   ]
  },
  {
   "cell_type": "markdown",
   "id": "9e565062",
   "metadata": {},
   "source": [
    "We will add the Covid component back in now to focus on Covid and recovery, and predict recovery for 2023."
   ]
  },
  {
   "cell_type": "code",
   "execution_count": null,
   "id": "2f5fdf11",
   "metadata": {},
   "outputs": [],
   "source": [
    "#sort\n",
    "df= sensor_ds_dt.sort_values(by=['date'], ascending=True)\n",
    "print(df.head(10))\n"
   ]
  },
  {
   "cell_type": "code",
   "execution_count": null,
   "id": "46f6f92c",
   "metadata": {},
   "outputs": [],
   "source": [
    "fig = px.line(df,  x=\"date\", y=[\"day_counts\",\"night_counts\",\"hourly_counts\"]\n",
    "                 , title = \"Projection By Year (with Covid traffic values)\"\n",
    "                )\n",
    "fig.show()\n"
   ]
  },
  {
   "cell_type": "markdown",
   "id": "ed6206b1",
   "metadata": {},
   "source": [
    "Will focus on the past six months, as the growth seems to have flattened out looking at the chart above. There seems to be steady fluctuation looking at date alone."
   ]
  },
  {
   "cell_type": "code",
   "execution_count": null,
   "id": "a2350441",
   "metadata": {},
   "outputs": [],
   "source": [
    "df = sensor_ds_dt_month.groupby(['month_num'],as_index=False).agg(\n",
    "    {'hourly_counts': 'mean','day_counts':'mean','night_counts':'mean'})\n",
    "\n",
    "fig = px.scatter(df,  x=\"month_num\", y=[\"day_counts\",\"night_counts\",\"hourly_counts\"]\n",
    "                 ,  trendline=\"ols\", title = \"Pedestrian Traffic By Date - Jun 2022 onwards\"\n",
    "                )\n",
    "fig.show()"
   ]
  },
  {
   "cell_type": "markdown",
   "id": "34b7652b",
   "metadata": {},
   "source": [
    "<div class=\"usecase-section-header\">Congratulations!</div>"
   ]
  },
  {
   "cell_type": "markdown",
   "id": "21226be2",
   "metadata": {},
   "source": [
    "You have successfully used Melbourne Open Data to analyse the CLUE survey response data about the entertainment venues in and around the City of Melbourne!\n",
    "\n",
    "\n",
    "For next steps please explore the City of Melbourne Open Data playground, such as stepping through other the use cases on pedestrain traffic and CLUE datasets.\n"
   ]
  },
  {
   "cell_type": "markdown",
   "id": "e5136dd8",
   "metadata": {},
   "source": [
    "\n"
   ]
  },
  {
   "cell_type": "markdown",
   "id": "9b130608",
   "metadata": {},
   "source": [
    "<div class=\"usecase-section-header\">References</div>"
   ]
  },
  {
   "cell_type": "markdown",
   "id": "cd20afff",
   "metadata": {},
   "source": [
    "City of Melbourne Open Data Team, 2016 - 2022,'Bar, tavern, pub patron capacity 2020', City of Melbourne, date retrieved 26 Nov 2022, <https://data.melbourne.vic.gov.au/explore/dataset/bars-and-pubs-with-patron-capacity/information/>\n",
    "\n",
    "City of Melbourne Open Data Team, 2015 - 2022,'Cafe, restaurant, bistro seats 2020', City of Melbourne, date retrieved 26 Nov 2022, <https://data.melbourne.vic.gov.au/explore/dataset/cafes-and-restaurants-with-seating-capacity/information/>\n",
    "\n",
    "City of Melbourne Open Data Team, 2021 - 2022,'City Activities and Planned Works', City of Melbourne, date retrieved 26 Nov 2022, <https://data.melbourne.vic.gov.au/explore/dataset/city-activities-and-planned-works/information/?disjunctive.classification&disjunctive.small_area>\n",
    "\n",
    "City of Melbourne Open Data Team, 2014 - 2021,'Pedestrian Counting System - Monthly (counts per hour)', City of Melbourne, date retrieved 03 Dec 2022, <https://melbournetestbed.opendatasoft.com/explore/dataset/pedestrian-counting-system-monthly-counts-per-hour/information/>\n",
    "\n",
    "City of Melbourne Open Data Team, 2018 - 2021,'Pedestrian Counting System - Sensor Locations', City of Melbourne, date retrieved 03 Dec 2022, <https://data.melbourne.vic.gov.au/explore/dataset/pedestrian-counting-system-sensor-locations/information/>\n",
    "\n",
    "City of Melbourne Open Data Team, 2021 - 2022,'City of Melbourne Population Forecasts by Small Area 2021-2041', City of Melbourne, date retrieved 15 Dec 2022, <https://data.melbourne.vic.gov.au/explore/dataset/city-of-melbourne-population-forecasts-by-small-area-2020-2040/information/>"
   ]
  }
 ],
 "metadata": {
  "kernelspec": {
   "display_name": "Python 3 (ipykernel)",
   "language": "python",
   "name": "python3"
  },
  "language_info": {
   "codemirror_mode": {
    "name": "ipython",
    "version": 3
   },
   "file_extension": ".py",
   "mimetype": "text/x-python",
   "name": "python",
   "nbconvert_exporter": "python",
   "pygments_lexer": "ipython3",
   "version": "3.10.8"
  }
 },
 "nbformat": 4,
 "nbformat_minor": 5
}
