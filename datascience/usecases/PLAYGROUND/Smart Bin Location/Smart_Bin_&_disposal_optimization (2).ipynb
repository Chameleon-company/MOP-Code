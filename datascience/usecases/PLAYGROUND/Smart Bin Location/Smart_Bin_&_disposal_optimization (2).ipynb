{
  "cells": [
    {
      "cell_type": "markdown",
      "id": "9fb9c182",
      "metadata": {
        "id": "9fb9c182"
      },
      "source": [
        "# SMART CITY USE CASE"
      ]
    },
    {
      "cell_type": "markdown",
      "id": "5bd3881f",
      "metadata": {
        "id": "5bd3881f"
      },
      "source": [
        "Author: Abosede Alli"
      ]
    },
    {
      "cell_type": "markdown",
      "id": "f845471b",
      "metadata": {
        "id": "f845471b"
      },
      "source": [
        "Level: Intermediate  Pre-requisite Skills:  Python, Data engineering and analysis\n"
      ]
    },
    {
      "cell_type": "markdown",
      "id": "aecadafd",
      "metadata": {
        "id": "aecadafd"
      },
      "source": [
        "# User Story"
      ]
    },
    {
      "cell_type": "markdown",
      "id": "e319928b",
      "metadata": {
        "id": "e319928b"
      },
      "source": [
        "1.As a council, we want an easy waste disposal management especially to reduce recurring need of street sweepings, overflowing bins, sighting of rubbish littering on our major roads and streets via a more improved way towards a liveable city of melbourne. "
      ]
    },
    {
      "cell_type": "markdown",
      "id": "5f559df7",
      "metadata": {
        "id": "5f559df7"
      },
      "source": [
        "From the perspective of the strategic planning and Climatic change leadership, we need to understand the dynamics of each environment and suburbs that are prone to ecosytem change. \n",
        "\n",
        "Can there be adverse changes  due to ineffective waste and recycling processes?\n",
        "\n",
        "What impacts does frequency of bin collection and current infrastructure has in achieving a clean environment? \n",
        "\n",
        "What associated challenges does bin overflowing cause and if that include significant revenue loss?\n",
        "\n",
        "Where are the rubbish coming from?\n",
        "\n",
        "What are the causes of road and street littering? \n",
        "\n",
        "Are there impacts towards a better melbourne? \n",
        "\n",
        "\n"
      ]
    },
    {
      "cell_type": "markdown",
      "id": "d7672acf",
      "metadata": {
        "id": "d7672acf"
      },
      "source": [
        "User Story 2\n",
        "\n",
        "\n",
        "As a pedestrian working and living along parliament and flinders street, I want to easily dispose my waste along the street as I usually have a pain of carrying waste bag across to dispose. Are there bins located close to major walkways?. "
      ]
    },
    {
      "cell_type": "markdown",
      "id": "33e74005",
      "metadata": {
        "id": "33e74005"
      },
      "source": [
        "From the perspective of a public bin user, overflowing bins discourages practising a good waste disposal habit. \n",
        "\n",
        "Can there be am improvement in the current number of bins available for the public?\n",
        "\n"
      ]
    },
    {
      "cell_type": "markdown",
      "id": "33c8fef5",
      "metadata": {
        "id": "33c8fef5"
      },
      "source": [
        "With sample data and details on the currently available waste mangemenet processes, a possible deductions can be arrived at thus provide certain considerations which can be made by examining the following questions:\n",
        "\n",
        "\n",
        "1  Are there reasons for incessant street littering and could this be due to routine of collection? Where specifically are these pertinent?\n",
        "\n",
        "2  What does overflowing bins infer?\n",
        "\n",
        "\n",
        "# **Goals for Exploratory data analysis:**\n",
        "1.  Analyse, compare and provide information which could be vital for suggestions to implement a better waste managing platform.\n",
        "\n",
        "2.  Analyse the frequency, and characteristics of waste involved in tonnes within the identified geographical location over a period of time.\n",
        "\n",
        "3.  Predict the future experience if no improvement is made and suggest towards a sustainable and smart city. "
      ]
    },
    {
      "cell_type": "markdown",
      "id": "b5440ee8",
      "metadata": {
        "id": "b5440ee8"
      },
      "source": [
        "# Objectives for the Exploratory Data Analysis\n",
        "Smart bins provide data for councils, individuals and businesses towards efficiencies as well as a benefit on public health. No smart city without a smart bin.Many public utilities have sensors thus enabling connective capability as well as provide details on infrastructural usage.Smart bins unlike traditional waste bins reduced council clean-up costs and actually less usage on power cost. With respect to fill level are quite better as bins are able to hold up to three to five times the capacity of a standard 120-litre bins, the availability of sensors in the bin provide data accesible through a dashboard, via mobile apps that notifies collecting office.\n",
        "\n",
        "Other benefits is less power usage, affords health benefits and council clean-up costs reduction.\n",
        "\n"
      ]
    },
    {
      "cell_type": "markdown",
      "id": "1d554f75",
      "metadata": {
        "id": "1d554f75"
      },
      "source": [
        "# Benefits for City of Melbourne"
      ]
    },
    {
      "cell_type": "markdown",
      "id": "c8524dd9",
      "metadata": {
        "id": "c8524dd9"
      },
      "source": [
        "The use case and exploratory data analysis provides a pathway to support the City of Melbourne in the following ways:\n",
        "\n",
        "1 Support for the ‘Resource efficiency Usage’ which is a Priority 1.5 in Goal 1 of the vision of the city of Melbourne towards its journey in achieveing 'Future Melbourne 2026 Plan'.\n",
        "\n",
        "2 Faciliate a sustainable environment which promote a garbage free roads, corridors and streets responsible for pollution and ecosystem management.\n",
        "\n",
        "3 Support further discovery into the city of Melbourne becomining a leader in smart city innovation. "
      ]
    },
    {
      "cell_type": "markdown",
      "id": "a0528d61",
      "metadata": {
        "id": "a0528d61"
      },
      "source": [
        "#             Background on Waste Bin management in Victoria"
      ]
    },
    {
      "cell_type": "markdown",
      "id": "8a72a64c",
      "metadata": {
        "id": "8a72a64c"
      },
      "source": [
        "Over the years, one of major vision of the city of Melbourne is to become a unique city, driven by innovative way of solving major problems in a more simplied way to accommodate changing needs, improve livability and maintain a leadership in sustainability.Maintaining a pool of dataset is critical to continious improvement towards a smart city goal and this is only achievable with an innovation step in our waste management awareness and processes. Currently, a number of bins are strategically located in Swanston, Bourke and Southbank streets  however pedestrians attitude of dumping litters around the streets and wrong bin usage continues to cause high cost of maintenance and other losses.  \n",
        "\n",
        "According to the taxonomy for IoT waste manegement report by the International Journal of Creative Research Thoughts, effective IoT waste management system is acheivable in platforn with ultrasonic sensors. In other words, infrastructure (the bins, pipes), IoT technology (sensors, GPS/GPRS/Camera and actuators) and Programming software for routing,  scheduling and overall architecture of the system are required. The intelligent system ensures wet waste are seperated from dry waste, plastics are also identified as well provide a real time system. The analysis gives an advantage of sensors in that with GPS, smartbins are located, and google map gives where dustbins are placed.\n"
      ]
    },
    {
      "cell_type": "markdown",
      "id": "755966f1",
      "metadata": {
        "id": "755966f1"
      },
      "source": [
        "#  Exploratory Data Analysis Worflow Steps\n",
        "\n",
        "Document the data considerations and risk assessments\n",
        "\n",
        "Prepare the relevant datasets available via the city of melbourne open dataset and document the unidue token.\n",
        "\n",
        "Access and read-in the datasets via the SOCRATA API\n",
        "\n",
        "Explore the datasets as both a .csv and a geoJSON file. A geoJson makes possible data representation in geometry types such as Point, LineString, Polygon, MultiPoint, MultiLineString, and MultiPolygon.\n",
        "For Mapping in terms of location, select variables for both the longitude and a variable for latitude, both should be floats/decimal data types and should not be integers. \n",
        "\n",
        "Read in the available dataset and give a visual representation. "
      ]
    },
    {
      "cell_type": "code",
      "execution_count": null,
      "id": "15d06d0c",
      "metadata": {
        "id": "15d06d0c"
      },
      "outputs": [],
      "source": [
        "#  Setting Up for Analysis"
      ]
    },
    {
      "cell_type": "code",
      "execution_count": null,
      "id": "94aa9a2e",
      "metadata": {
        "id": "94aa9a2e"
      },
      "outputs": [],
      "source": [
        "import os"
      ]
    },
    {
      "cell_type": "code",
      "source": [
        "import time"
      ],
      "metadata": {
        "id": "dERohZRBGtxf"
      },
      "id": "dERohZRBGtxf",
      "execution_count": null,
      "outputs": []
    },
    {
      "cell_type": "code",
      "source": [
        "from datetime import datetime"
      ],
      "metadata": {
        "id": "epEN3ApPGw9A"
      },
      "id": "epEN3ApPGw9A",
      "execution_count": null,
      "outputs": []
    },
    {
      "cell_type": "code",
      "source": [
        "import numpy as np\n",
        "import pandas as pd\n",
        "from sodapy import Socrata\n",
        "import plotly.graph_objs as go\n",
        "import plotly.express as px"
      ],
      "metadata": {
        "id": "ygOWCSUwG0GP"
      },
      "id": "ygOWCSUwG0GP",
      "execution_count": null,
      "outputs": []
    },
    {
      "cell_type": "code",
      "source": [
        "!pip install sodapy"
      ],
      "metadata": {
        "id": "TS8fQhvvG6xG",
        "outputId": "479cdff1-6ad9-4e95-ad17-e70ddaedabfe",
        "colab": {
          "base_uri": "https://localhost:8080/"
        }
      },
      "id": "TS8fQhvvG6xG",
      "execution_count": null,
      "outputs": [
        {
          "output_type": "stream",
          "name": "stdout",
          "text": [
            "Looking in indexes: https://pypi.org/simple, https://us-python.pkg.dev/colab-wheels/public/simple/\n",
            "Collecting sodapy\n",
            "  Downloading sodapy-2.2.0-py2.py3-none-any.whl (15 kB)\n",
            "Collecting requests>=2.28.1\n",
            "  Downloading requests-2.28.1-py3-none-any.whl (62 kB)\n",
            "\u001b[K     |████████████████████████████████| 62 kB 605 kB/s \n",
            "\u001b[?25hRequirement already satisfied: idna<4,>=2.5 in /usr/local/lib/python3.7/dist-packages (from requests>=2.28.1->sodapy) (2.10)\n",
            "Requirement already satisfied: urllib3<1.27,>=1.21.1 in /usr/local/lib/python3.7/dist-packages (from requests>=2.28.1->sodapy) (1.24.3)\n",
            "Requirement already satisfied: charset-normalizer<3,>=2 in /usr/local/lib/python3.7/dist-packages (from requests>=2.28.1->sodapy) (2.1.1)\n",
            "Requirement already satisfied: certifi>=2017.4.17 in /usr/local/lib/python3.7/dist-packages (from requests>=2.28.1->sodapy) (2022.6.15)\n",
            "Installing collected packages: requests, sodapy\n",
            "  Attempting uninstall: requests\n",
            "    Found existing installation: requests 2.23.0\n",
            "    Uninstalling requests-2.23.0:\n",
            "      Successfully uninstalled requests-2.23.0\n",
            "Successfully installed requests-2.28.1 sodapy-2.2.0\n"
          ]
        }
      ]
    },
    {
      "cell_type": "markdown",
      "source": [
        "Apptoken = os.environ.get(\"SODAPY_APPTOKEN\") # Anonymous app token\n",
        "domain = \"data.melbourne.vic.gov.au\"\n",
        "client = Socrata(domain, apptoken) # Open Dataset connection\n",
        "WARNING:root:Requests made without an app_token will be subject to strict throttling limits."
      ],
      "metadata": {
        "id": "G1ooU2L2WY1r"
      },
      "id": "G1ooU2L2WY1r"
    },
    {
      "cell_type": "markdown",
      "source": [
        "WARNING:root:Requests made without an app_token will be subject to strict throttling limits."
      ],
      "metadata": {
        "id": "_gnLDdN4WniJ"
      },
      "id": "_gnLDdN4WniJ"
    },
    {
      "cell_type": "code",
      "source": [
        "df=pd.read_csv('Waste_collected_per_month (2).csv') \n",
        "df.head()"
      ],
      "metadata": {
        "id": "doQdsNxKSINm",
        "colab": {
          "base_uri": "https://localhost:8080/",
          "height": 357
        },
        "outputId": "05943947-9ab6-4b06-92f9-293df125e7e6"
      },
      "id": "doQdsNxKSINm",
      "execution_count": null,
      "outputs": [
        {
          "output_type": "execute_result",
          "data": {
            "text/plain": [
              "     date  residential  public_litter_bins  dumped_rubbish  street_sweepings  \\\n",
              "0  Feb-15      1867.96              365.13          179.25            307.66   \n",
              "1  May-16      2418.20              326.52          200.66            433.06   \n",
              "2  Jan-15      1958.38              328.79          147.72            345.68   \n",
              "3  Feb-16      2202.28              281.46          151.18            293.00   \n",
              "4  Feb-11      1644.12              300.24          138.70            530.52   \n",
              "\n",
              "   mattresses  commingled_recycling  cardboard  hardwaste_to_landfill  \\\n",
              "0         312                558.96     151.02                  89.50   \n",
              "1         209                702.07     199.68                  19.74   \n",
              "2         501                642.18     132.66                  85.52   \n",
              "3         173                708.31     196.96                  41.72   \n",
              "4         117                512.66     176.48                  23.80   \n",
              "\n",
              "   hardwaste_recovered  hardwaste_total  green_waste     month smart_bin  \n",
              "0                 0.00            89.50         2.70  February        No  \n",
              "1                40.92            60.66         3.08       May       Yes  \n",
              "2                 0.00            85.52         3.52   January        No  \n",
              "3                19.12            60.84         5.56  February        No  \n",
              "4                 0.00            23.80         6.54  February        No  "
            ],
            "text/html": [
              "\n",
              "  <div id=\"df-9a2ddb28-aa70-4358-a591-4b87171f1e73\">\n",
              "    <div class=\"colab-df-container\">\n",
              "      <div>\n",
              "<style scoped>\n",
              "    .dataframe tbody tr th:only-of-type {\n",
              "        vertical-align: middle;\n",
              "    }\n",
              "\n",
              "    .dataframe tbody tr th {\n",
              "        vertical-align: top;\n",
              "    }\n",
              "\n",
              "    .dataframe thead th {\n",
              "        text-align: right;\n",
              "    }\n",
              "</style>\n",
              "<table border=\"1\" class=\"dataframe\">\n",
              "  <thead>\n",
              "    <tr style=\"text-align: right;\">\n",
              "      <th></th>\n",
              "      <th>date</th>\n",
              "      <th>residential</th>\n",
              "      <th>public_litter_bins</th>\n",
              "      <th>dumped_rubbish</th>\n",
              "      <th>street_sweepings</th>\n",
              "      <th>mattresses</th>\n",
              "      <th>commingled_recycling</th>\n",
              "      <th>cardboard</th>\n",
              "      <th>hardwaste_to_landfill</th>\n",
              "      <th>hardwaste_recovered</th>\n",
              "      <th>hardwaste_total</th>\n",
              "      <th>green_waste</th>\n",
              "      <th>month</th>\n",
              "      <th>smart_bin</th>\n",
              "    </tr>\n",
              "  </thead>\n",
              "  <tbody>\n",
              "    <tr>\n",
              "      <th>0</th>\n",
              "      <td>Feb-15</td>\n",
              "      <td>1867.96</td>\n",
              "      <td>365.13</td>\n",
              "      <td>179.25</td>\n",
              "      <td>307.66</td>\n",
              "      <td>312</td>\n",
              "      <td>558.96</td>\n",
              "      <td>151.02</td>\n",
              "      <td>89.50</td>\n",
              "      <td>0.00</td>\n",
              "      <td>89.50</td>\n",
              "      <td>2.70</td>\n",
              "      <td>February</td>\n",
              "      <td>No</td>\n",
              "    </tr>\n",
              "    <tr>\n",
              "      <th>1</th>\n",
              "      <td>May-16</td>\n",
              "      <td>2418.20</td>\n",
              "      <td>326.52</td>\n",
              "      <td>200.66</td>\n",
              "      <td>433.06</td>\n",
              "      <td>209</td>\n",
              "      <td>702.07</td>\n",
              "      <td>199.68</td>\n",
              "      <td>19.74</td>\n",
              "      <td>40.92</td>\n",
              "      <td>60.66</td>\n",
              "      <td>3.08</td>\n",
              "      <td>May</td>\n",
              "      <td>Yes</td>\n",
              "    </tr>\n",
              "    <tr>\n",
              "      <th>2</th>\n",
              "      <td>Jan-15</td>\n",
              "      <td>1958.38</td>\n",
              "      <td>328.79</td>\n",
              "      <td>147.72</td>\n",
              "      <td>345.68</td>\n",
              "      <td>501</td>\n",
              "      <td>642.18</td>\n",
              "      <td>132.66</td>\n",
              "      <td>85.52</td>\n",
              "      <td>0.00</td>\n",
              "      <td>85.52</td>\n",
              "      <td>3.52</td>\n",
              "      <td>January</td>\n",
              "      <td>No</td>\n",
              "    </tr>\n",
              "    <tr>\n",
              "      <th>3</th>\n",
              "      <td>Feb-16</td>\n",
              "      <td>2202.28</td>\n",
              "      <td>281.46</td>\n",
              "      <td>151.18</td>\n",
              "      <td>293.00</td>\n",
              "      <td>173</td>\n",
              "      <td>708.31</td>\n",
              "      <td>196.96</td>\n",
              "      <td>41.72</td>\n",
              "      <td>19.12</td>\n",
              "      <td>60.84</td>\n",
              "      <td>5.56</td>\n",
              "      <td>February</td>\n",
              "      <td>No</td>\n",
              "    </tr>\n",
              "    <tr>\n",
              "      <th>4</th>\n",
              "      <td>Feb-11</td>\n",
              "      <td>1644.12</td>\n",
              "      <td>300.24</td>\n",
              "      <td>138.70</td>\n",
              "      <td>530.52</td>\n",
              "      <td>117</td>\n",
              "      <td>512.66</td>\n",
              "      <td>176.48</td>\n",
              "      <td>23.80</td>\n",
              "      <td>0.00</td>\n",
              "      <td>23.80</td>\n",
              "      <td>6.54</td>\n",
              "      <td>February</td>\n",
              "      <td>No</td>\n",
              "    </tr>\n",
              "  </tbody>\n",
              "</table>\n",
              "</div>\n",
              "      <button class=\"colab-df-convert\" onclick=\"convertToInteractive('df-9a2ddb28-aa70-4358-a591-4b87171f1e73')\"\n",
              "              title=\"Convert this dataframe to an interactive table.\"\n",
              "              style=\"display:none;\">\n",
              "        \n",
              "  <svg xmlns=\"http://www.w3.org/2000/svg\" height=\"24px\"viewBox=\"0 0 24 24\"\n",
              "       width=\"24px\">\n",
              "    <path d=\"M0 0h24v24H0V0z\" fill=\"none\"/>\n",
              "    <path d=\"M18.56 5.44l.94 2.06.94-2.06 2.06-.94-2.06-.94-.94-2.06-.94 2.06-2.06.94zm-11 1L8.5 8.5l.94-2.06 2.06-.94-2.06-.94L8.5 2.5l-.94 2.06-2.06.94zm10 10l.94 2.06.94-2.06 2.06-.94-2.06-.94-.94-2.06-.94 2.06-2.06.94z\"/><path d=\"M17.41 7.96l-1.37-1.37c-.4-.4-.92-.59-1.43-.59-.52 0-1.04.2-1.43.59L10.3 9.45l-7.72 7.72c-.78.78-.78 2.05 0 2.83L4 21.41c.39.39.9.59 1.41.59.51 0 1.02-.2 1.41-.59l7.78-7.78 2.81-2.81c.8-.78.8-2.07 0-2.86zM5.41 20L4 18.59l7.72-7.72 1.47 1.35L5.41 20z\"/>\n",
              "  </svg>\n",
              "      </button>\n",
              "      \n",
              "  <style>\n",
              "    .colab-df-container {\n",
              "      display:flex;\n",
              "      flex-wrap:wrap;\n",
              "      gap: 12px;\n",
              "    }\n",
              "\n",
              "    .colab-df-convert {\n",
              "      background-color: #E8F0FE;\n",
              "      border: none;\n",
              "      border-radius: 50%;\n",
              "      cursor: pointer;\n",
              "      display: none;\n",
              "      fill: #1967D2;\n",
              "      height: 32px;\n",
              "      padding: 0 0 0 0;\n",
              "      width: 32px;\n",
              "    }\n",
              "\n",
              "    .colab-df-convert:hover {\n",
              "      background-color: #E2EBFA;\n",
              "      box-shadow: 0px 1px 2px rgba(60, 64, 67, 0.3), 0px 1px 3px 1px rgba(60, 64, 67, 0.15);\n",
              "      fill: #174EA6;\n",
              "    }\n",
              "\n",
              "    [theme=dark] .colab-df-convert {\n",
              "      background-color: #3B4455;\n",
              "      fill: #D2E3FC;\n",
              "    }\n",
              "\n",
              "    [theme=dark] .colab-df-convert:hover {\n",
              "      background-color: #434B5C;\n",
              "      box-shadow: 0px 1px 3px 1px rgba(0, 0, 0, 0.15);\n",
              "      filter: drop-shadow(0px 1px 2px rgba(0, 0, 0, 0.3));\n",
              "      fill: #FFFFFF;\n",
              "    }\n",
              "  </style>\n",
              "\n",
              "      <script>\n",
              "        const buttonEl =\n",
              "          document.querySelector('#df-9a2ddb28-aa70-4358-a591-4b87171f1e73 button.colab-df-convert');\n",
              "        buttonEl.style.display =\n",
              "          google.colab.kernel.accessAllowed ? 'block' : 'none';\n",
              "\n",
              "        async function convertToInteractive(key) {\n",
              "          const element = document.querySelector('#df-9a2ddb28-aa70-4358-a591-4b87171f1e73');\n",
              "          const dataTable =\n",
              "            await google.colab.kernel.invokeFunction('convertToInteractive',\n",
              "                                                     [key], {});\n",
              "          if (!dataTable) return;\n",
              "\n",
              "          const docLinkHtml = 'Like what you see? Visit the ' +\n",
              "            '<a target=\"_blank\" href=https://colab.research.google.com/notebooks/data_table.ipynb>data table notebook</a>'\n",
              "            + ' to learn more about interactive tables.';\n",
              "          element.innerHTML = '';\n",
              "          dataTable['output_type'] = 'display_data';\n",
              "          await google.colab.output.renderOutput(dataTable, element);\n",
              "          const docLink = document.createElement('div');\n",
              "          docLink.innerHTML = docLinkHtml;\n",
              "          element.appendChild(docLink);\n",
              "        }\n",
              "      </script>\n",
              "    </div>\n",
              "  </div>\n",
              "  "
            ]
          },
          "metadata": {},
          "execution_count": 16
        }
      ]
    },
    {
      "cell_type": "code",
      "source": [
        "import pandas as pd"
      ],
      "metadata": {
        "id": "sBcWctXsS-7i"
      },
      "id": "sBcWctXsS-7i",
      "execution_count": null,
      "outputs": []
    },
    {
      "cell_type": "code",
      "source": [
        "import seaborn as sns\n",
        "import pandas\n",
        "import matplotlib.pyplot as plt\n",
        "\n",
        "\n",
        "sns.set_theme(style='whitegrid')\n",
        "sns.jointplot(data=df,x='public_litter_bins',y='street_sweepings', hue= 'smart_bin', palette='husl')"
      ],
      "metadata": {
        "id": "VDhmFZ3RVNu5",
        "colab": {
          "base_uri": "https://localhost:8080/",
          "height": 454
        },
        "outputId": "d0144312-c324-468e-d2fe-d5eb402dedf8"
      },
      "id": "VDhmFZ3RVNu5",
      "execution_count": null,
      "outputs": [
        {
          "output_type": "execute_result",
          "data": {
            "text/plain": [
              "<seaborn.axisgrid.JointGrid at 0x7fcb84013950>"
            ]
          },
          "metadata": {},
          "execution_count": 17
        },
        {
          "output_type": "display_data",
          "data": {
            "text/plain": [
              "<Figure size 432x432 with 3 Axes>"
            ],
            "image/png": "[encoded data removed]"
          },
          "metadata": {}
        }
      ]
    },
    {
      "cell_type": "markdown",
      "source": [
        "Interpretation\n",
        "\n",
        "x is the independent variable which infers whether smart bin or no smart bin, there will always be public litter bin on the streets/road in the city of melbourne.\n",
        "Y is the dependent variable which means there will only be need for street_sweepings if there are bin overflowing when ordinary public litter bins are used."
      ],
      "metadata": {
        "id": "kDV9r33kawN2"
      },
      "id": "kDV9r33kawN2"
    },
    {
      "cell_type": "code",
      "source": [
        "sns.set_theme(style='darkgrid')\n",
        "sns.jointplot(data=df,x='public_litter_bins',y='dumped_rubbish',hue='smart_bin',palette='flare')"
      ],
      "metadata": {
        "id": "UcJYUQglrTeq",
        "colab": {
          "base_uri": "https://localhost:8080/",
          "height": 454
        },
        "outputId": "c5b7f14a-000c-485c-d44c-1a4873386892"
      },
      "id": "UcJYUQglrTeq",
      "execution_count": null,
      "outputs": [
        {
          "output_type": "execute_result",
          "data": {
            "text/plain": [
              "<seaborn.axisgrid.JointGrid at 0x7fcb83fd9390>"
            ]
          },
          "metadata": {},
          "execution_count": 19
        },
        {
          "output_type": "display_data",
          "data": {
            "text/plain": [
              "<Figure size 432x432 with 3 Axes>"
            ],
            "image/png": "[encoded data removed]"
          },
          "metadata": {}
        }
      ]
    },
    {
      "cell_type": "markdown",
      "source": [
        "**Build Analysis Model**"
      ],
      "metadata": {
        "id": "BmDiqSV7wesc"
      },
      "id": "BmDiqSV7wesc"
    },
    {
      "cell_type": "markdown",
      "source": [
        "**Visualing a sample data set on Bin availability**"
      ],
      "metadata": {
        "id": "rdFzzqSIvl_A"
      },
      "id": "rdFzzqSIvl_A"
    },
    {
      "cell_type": "code",
      "source": [
        "sample=pd.read_csv('sample_datasets.csv') \n",
        "sample.head()"
      ],
      "metadata": {
        "id": "WFfwhUihv9on",
        "colab": {
          "base_uri": "https://localhost:8080/",
          "height": 357
        },
        "outputId": "c79d1249-4d01-453d-bd39-f71759a0655a"
      },
      "id": "WFfwhUihv9on",
      "execution_count": null,
      "outputs": [
        {
          "output_type": "execute_result",
          "data": {
            "text/plain": [
              "     date  residential  public_litter_bins  dumped_rubbish  street_sweepings  \\\n",
              "0  Feb-15      1867.96              365.13          179.25            307.66   \n",
              "1  May-16      2418.20              326.52          200.66            433.06   \n",
              "2  Jan-15      1958.38              328.79          147.72            345.68   \n",
              "3  Feb-16      2202.28              281.46          151.18            293.00   \n",
              "4  Feb-11      1644.12              300.24          138.70            530.52   \n",
              "\n",
              "   mattresses  commingled_recycling  cardboard  hardwaste_to_landfill  \\\n",
              "0       312.0                558.96     151.02                  89.50   \n",
              "1       209.0                702.07     199.68                  19.74   \n",
              "2       501.0                642.18     132.66                  85.52   \n",
              "3       173.0                708.31     196.96                  41.72   \n",
              "4       117.0                512.66     176.48                  23.80   \n",
              "\n",
              "   hardwaste_recovered  hardwaste_total  green_waste     month     str_name  \\\n",
              "0                 0.00            89.50         2.70  February    Elizabeth   \n",
              "1                40.92            60.66         3.08       May      collins   \n",
              "2                 0.00            85.52         3.52   January      LaTrobe   \n",
              "3                19.12            60.84         5.56  February     St.Kilda   \n",
              "4                 0.00            23.80         6.54  February  Race course   \n",
              "\n",
              "   str_code smart_bin  \n",
              "0     101.0        No  \n",
              "1     160.0       Yes  \n",
              "2     162.0        No  \n",
              "3     163.0        No  \n",
              "4     159.0        No  "
            ],
            "text/html": [
              "\n",
              "  <div id=\"df-6539d098-1509-428d-b6c1-9a229081e450\">\n",
              "    <div class=\"colab-df-container\">\n",
              "      <div>\n",
              "<style scoped>\n",
              "    .dataframe tbody tr th:only-of-type {\n",
              "        vertical-align: middle;\n",
              "    }\n",
              "\n",
              "    .dataframe tbody tr th {\n",
              "        vertical-align: top;\n",
              "    }\n",
              "\n",
              "    .dataframe thead th {\n",
              "        text-align: right;\n",
              "    }\n",
              "</style>\n",
              "<table border=\"1\" class=\"dataframe\">\n",
              "  <thead>\n",
              "    <tr style=\"text-align: right;\">\n",
              "      <th></th>\n",
              "      <th>date</th>\n",
              "      <th>residential</th>\n",
              "      <th>public_litter_bins</th>\n",
              "      <th>dumped_rubbish</th>\n",
              "      <th>street_sweepings</th>\n",
              "      <th>mattresses</th>\n",
              "      <th>commingled_recycling</th>\n",
              "      <th>cardboard</th>\n",
              "      <th>hardwaste_to_landfill</th>\n",
              "      <th>hardwaste_recovered</th>\n",
              "      <th>hardwaste_total</th>\n",
              "      <th>green_waste</th>\n",
              "      <th>month</th>\n",
              "      <th>str_name</th>\n",
              "      <th>str_code</th>\n",
              "      <th>smart_bin</th>\n",
              "    </tr>\n",
              "  </thead>\n",
              "  <tbody>\n",
              "    <tr>\n",
              "      <th>0</th>\n",
              "      <td>Feb-15</td>\n",
              "      <td>1867.96</td>\n",
              "      <td>365.13</td>\n",
              "      <td>179.25</td>\n",
              "      <td>307.66</td>\n",
              "      <td>312.0</td>\n",
              "      <td>558.96</td>\n",
              "      <td>151.02</td>\n",
              "      <td>89.50</td>\n",
              "      <td>0.00</td>\n",
              "      <td>89.50</td>\n",
              "      <td>2.70</td>\n",
              "      <td>February</td>\n",
              "      <td>Elizabeth</td>\n",
              "      <td>101.0</td>\n",
              "      <td>No</td>\n",
              "    </tr>\n",
              "    <tr>\n",
              "      <th>1</th>\n",
              "      <td>May-16</td>\n",
              "      <td>2418.20</td>\n",
              "      <td>326.52</td>\n",
              "      <td>200.66</td>\n",
              "      <td>433.06</td>\n",
              "      <td>209.0</td>\n",
              "      <td>702.07</td>\n",
              "      <td>199.68</td>\n",
              "      <td>19.74</td>\n",
              "      <td>40.92</td>\n",
              "      <td>60.66</td>\n",
              "      <td>3.08</td>\n",
              "      <td>May</td>\n",
              "      <td>collins</td>\n",
              "      <td>160.0</td>\n",
              "      <td>Yes</td>\n",
              "    </tr>\n",
              "    <tr>\n",
              "      <th>2</th>\n",
              "      <td>Jan-15</td>\n",
              "      <td>1958.38</td>\n",
              "      <td>328.79</td>\n",
              "      <td>147.72</td>\n",
              "      <td>345.68</td>\n",
              "      <td>501.0</td>\n",
              "      <td>642.18</td>\n",
              "      <td>132.66</td>\n",
              "      <td>85.52</td>\n",
              "      <td>0.00</td>\n",
              "      <td>85.52</td>\n",
              "      <td>3.52</td>\n",
              "      <td>January</td>\n",
              "      <td>LaTrobe</td>\n",
              "      <td>162.0</td>\n",
              "      <td>No</td>\n",
              "    </tr>\n",
              "    <tr>\n",
              "      <th>3</th>\n",
              "      <td>Feb-16</td>\n",
              "      <td>2202.28</td>\n",
              "      <td>281.46</td>\n",
              "      <td>151.18</td>\n",
              "      <td>293.00</td>\n",
              "      <td>173.0</td>\n",
              "      <td>708.31</td>\n",
              "      <td>196.96</td>\n",
              "      <td>41.72</td>\n",
              "      <td>19.12</td>\n",
              "      <td>60.84</td>\n",
              "      <td>5.56</td>\n",
              "      <td>February</td>\n",
              "      <td>St.Kilda</td>\n",
              "      <td>163.0</td>\n",
              "      <td>No</td>\n",
              "    </tr>\n",
              "    <tr>\n",
              "      <th>4</th>\n",
              "      <td>Feb-11</td>\n",
              "      <td>1644.12</td>\n",
              "      <td>300.24</td>\n",
              "      <td>138.70</td>\n",
              "      <td>530.52</td>\n",
              "      <td>117.0</td>\n",
              "      <td>512.66</td>\n",
              "      <td>176.48</td>\n",
              "      <td>23.80</td>\n",
              "      <td>0.00</td>\n",
              "      <td>23.80</td>\n",
              "      <td>6.54</td>\n",
              "      <td>February</td>\n",
              "      <td>Race course</td>\n",
              "      <td>159.0</td>\n",
              "      <td>No</td>\n",
              "    </tr>\n",
              "  </tbody>\n",
              "</table>\n",
              "</div>\n",
              "      <button class=\"colab-df-convert\" onclick=\"convertToInteractive('df-6539d098-1509-428d-b6c1-9a229081e450')\"\n",
              "              title=\"Convert this dataframe to an interactive table.\"\n",
              "              style=\"display:none;\">\n",
              "        \n",
              "  <svg xmlns=\"http://www.w3.org/2000/svg\" height=\"24px\"viewBox=\"0 0 24 24\"\n",
              "       width=\"24px\">\n",
              "    <path d=\"M0 0h24v24H0V0z\" fill=\"none\"/>\n",
              "    <path d=\"M18.56 5.44l.94 2.06.94-2.06 2.06-.94-2.06-.94-.94-2.06-.94 2.06-2.06.94zm-11 1L8.5 8.5l.94-2.06 2.06-.94-2.06-.94L8.5 2.5l-.94 2.06-2.06.94zm10 10l.94 2.06.94-2.06 2.06-.94-2.06-.94-.94-2.06-.94 2.06-2.06.94z\"/><path d=\"M17.41 7.96l-1.37-1.37c-.4-.4-.92-.59-1.43-.59-.52 0-1.04.2-1.43.59L10.3 9.45l-7.72 7.72c-.78.78-.78 2.05 0 2.83L4 21.41c.39.39.9.59 1.41.59.51 0 1.02-.2 1.41-.59l7.78-7.78 2.81-2.81c.8-.78.8-2.07 0-2.86zM5.41 20L4 18.59l7.72-7.72 1.47 1.35L5.41 20z\"/>\n",
              "  </svg>\n",
              "      </button>\n",
              "      \n",
              "  <style>\n",
              "    .colab-df-container {\n",
              "      display:flex;\n",
              "      flex-wrap:wrap;\n",
              "      gap: 12px;\n",
              "    }\n",
              "\n",
              "    .colab-df-convert {\n",
              "      background-color: #E8F0FE;\n",
              "      border: none;\n",
              "      border-radius: 50%;\n",
              "      cursor: pointer;\n",
              "      display: none;\n",
              "      fill: #1967D2;\n",
              "      height: 32px;\n",
              "      padding: 0 0 0 0;\n",
              "      width: 32px;\n",
              "    }\n",
              "\n",
              "    .colab-df-convert:hover {\n",
              "      background-color: #E2EBFA;\n",
              "      box-shadow: 0px 1px 2px rgba(60, 64, 67, 0.3), 0px 1px 3px 1px rgba(60, 64, 67, 0.15);\n",
              "      fill: #174EA6;\n",
              "    }\n",
              "\n",
              "    [theme=dark] .colab-df-convert {\n",
              "      background-color: #3B4455;\n",
              "      fill: #D2E3FC;\n",
              "    }\n",
              "\n",
              "    [theme=dark] .colab-df-convert:hover {\n",
              "      background-color: #434B5C;\n",
              "      box-shadow: 0px 1px 3px 1px rgba(0, 0, 0, 0.15);\n",
              "      filter: drop-shadow(0px 1px 2px rgba(0, 0, 0, 0.3));\n",
              "      fill: #FFFFFF;\n",
              "    }\n",
              "  </style>\n",
              "\n",
              "      <script>\n",
              "        const buttonEl =\n",
              "          document.querySelector('#df-6539d098-1509-428d-b6c1-9a229081e450 button.colab-df-convert');\n",
              "        buttonEl.style.display =\n",
              "          google.colab.kernel.accessAllowed ? 'block' : 'none';\n",
              "\n",
              "        async function convertToInteractive(key) {\n",
              "          const element = document.querySelector('#df-6539d098-1509-428d-b6c1-9a229081e450');\n",
              "          const dataTable =\n",
              "            await google.colab.kernel.invokeFunction('convertToInteractive',\n",
              "                                                     [key], {});\n",
              "          if (!dataTable) return;\n",
              "\n",
              "          const docLinkHtml = 'Like what you see? Visit the ' +\n",
              "            '<a target=\"_blank\" href=https://colab.research.google.com/notebooks/data_table.ipynb>data table notebook</a>'\n",
              "            + ' to learn more about interactive tables.';\n",
              "          element.innerHTML = '';\n",
              "          dataTable['output_type'] = 'display_data';\n",
              "          await google.colab.output.renderOutput(dataTable, element);\n",
              "          const docLink = document.createElement('div');\n",
              "          docLink.innerHTML = docLinkHtml;\n",
              "          element.appendChild(docLink);\n",
              "        }\n",
              "      </script>\n",
              "    </div>\n",
              "  </div>\n",
              "  "
            ]
          },
          "metadata": {},
          "execution_count": 20
        }
      ]
    },
    {
      "cell_type": "code",
      "source": [
        "\n",
        "sns.set_theme(style='whitegrid')\n",
        "sns.jointplot(data=sample,x='public_litter_bins', y='street_sweepings', hue='smart_bin', palette='crest')"
      ],
      "metadata": {
        "colab": {
          "base_uri": "https://localhost:8080/",
          "height": 454
        },
        "id": "6r0iecDHca2Z",
        "outputId": "07e434f6-a013-4396-db8e-0a2218457c2e"
      },
      "id": "6r0iecDHca2Z",
      "execution_count": null,
      "outputs": [
        {
          "output_type": "execute_result",
          "data": {
            "text/plain": [
              "<seaborn.axisgrid.JointGrid at 0x7fcb8103f950>"
            ]
          },
          "metadata": {},
          "execution_count": 21
        },
        {
          "output_type": "display_data",
          "data": {
            "text/plain": [
              "<Figure size 432x432 with 3 Axes>"
            ],
            "image/png": "[encoded data removed]"
          },
          "metadata": {}
        }
      ]
    },
    {
      "cell_type": "markdown",
      "source": [
        "The above signifies a correlation between incease in public litters and street sweepings ion which the x variable, public litter bin is an independent variable and increase in tonnes is subject to usage be it ordinary bin or smart bins however, street sweepings is dependent on usage of ordinary bins in major streets and roads where cafes', food restaurant or pedestrain concentration are huge and no fill level for bin colections are not automated. "
      ],
      "metadata": {
        "id": "CgarjKZIQdGU"
      },
      "id": "CgarjKZIQdGU"
    },
    {
      "cell_type": "markdown",
      "source": [
        "Visualizing the trend to predict the correlation between increase in total waste in tonnes collected via public litter bins, sweep_sweepings, illegal_ dumpings in the increase in factors generating waste. \n",
        "\n",
        "Factors that generate waste has been streamlined to paper cups, food wrappers, cardboard boxes or plastic bottles on the ground that when buyers do not seat to consume their food/coffee in a post covid era, they dump it wherever possible.\n",
        "\n",
        "As events/festivals resumes, influx into the city of melbourne surges having a correlation effect on usage of cafes and food/restaurant services in the city of Melbourne.\n",
        "\n",
        "The more events occur, the more influx of people on the streets and the more they patronize cafe's and eateries/restaurants, the latter which generate huge litters."
      ],
      "metadata": {
        "id": "Rsf6taKBchD0"
      },
      "id": "Rsf6taKBchD0"
    },
    {
      "cell_type": "code",
      "source": [
        "import pandas as pd\n",
        "import numpy as np\n",
        "import seaborn as sns\n",
        "import matplotlib.pyplot as plt\n",
        "import statsmodels.api as sm \n",
        "from sklearn.preprocessing import StandardScaler \n",
        "from sklearn.model_selection import train_test_split\n",
        "from sklearn.linear_model import LinearRegression\n",
        "from sklearn.metrics import mean_squared_error, mean_absolute_error, r2_score\n",
        "%matplotlib inline\n",
        "sns.set_style('darkgrid')"
      ],
      "metadata": {
        "id": "1F-pg_RQgcAJ"
      },
      "id": "1F-pg_RQgcAJ",
      "execution_count": null,
      "outputs": []
    },
    {
      "cell_type": "code",
      "source": [
        "sample = pd.read_csv('sample_datasets.csv')\n",
        "sample.head()"
      ],
      "metadata": {
        "colab": {
          "base_uri": "https://localhost:8080/",
          "height": 357
        },
        "id": "NYycdOQ3gr4c",
        "outputId": "ecdd8709-283a-4695-d15d-c3665daf5c24"
      },
      "id": "NYycdOQ3gr4c",
      "execution_count": null,
      "outputs": [
        {
          "output_type": "execute_result",
          "data": {
            "text/plain": [
              "     date  residential  public_litter_bins  dumped_rubbish  street_sweepings  \\\n",
              "0  Feb-15      1867.96              365.13          179.25            307.66   \n",
              "1  May-16      2418.20              326.52          200.66            433.06   \n",
              "2  Jan-15      1958.38              328.79          147.72            345.68   \n",
              "3  Feb-16      2202.28              281.46          151.18            293.00   \n",
              "4  Feb-11      1644.12              300.24          138.70            530.52   \n",
              "\n",
              "   mattresses  commingled_recycling  cardboard  hardwaste_to_landfill  \\\n",
              "0       312.0                558.96     151.02                  89.50   \n",
              "1       209.0                702.07     199.68                  19.74   \n",
              "2       501.0                642.18     132.66                  85.52   \n",
              "3       173.0                708.31     196.96                  41.72   \n",
              "4       117.0                512.66     176.48                  23.80   \n",
              "\n",
              "   hardwaste_recovered  hardwaste_total  green_waste     month     str_name  \\\n",
              "0                 0.00            89.50         2.70  February    Elizabeth   \n",
              "1                40.92            60.66         3.08       May      collins   \n",
              "2                 0.00            85.52         3.52   January      LaTrobe   \n",
              "3                19.12            60.84         5.56  February     St.Kilda   \n",
              "4                 0.00            23.80         6.54  February  Race course   \n",
              "\n",
              "   str_code smart_bin  \n",
              "0     101.0        No  \n",
              "1     160.0       Yes  \n",
              "2     162.0        No  \n",
              "3     163.0        No  \n",
              "4     159.0        No  "
            ],
            "text/html": [
              "\n",
              "  <div id=\"df-1df1c29b-1b2f-462d-9806-0c5366da5665\">\n",
              "    <div class=\"colab-df-container\">\n",
              "      <div>\n",
              "<style scoped>\n",
              "    .dataframe tbody tr th:only-of-type {\n",
              "        vertical-align: middle;\n",
              "    }\n",
              "\n",
              "    .dataframe tbody tr th {\n",
              "        vertical-align: top;\n",
              "    }\n",
              "\n",
              "    .dataframe thead th {\n",
              "        text-align: right;\n",
              "    }\n",
              "</style>\n",
              "<table border=\"1\" class=\"dataframe\">\n",
              "  <thead>\n",
              "    <tr style=\"text-align: right;\">\n",
              "      <th></th>\n",
              "      <th>date</th>\n",
              "      <th>residential</th>\n",
              "      <th>public_litter_bins</th>\n",
              "      <th>dumped_rubbish</th>\n",
              "      <th>street_sweepings</th>\n",
              "      <th>mattresses</th>\n",
              "      <th>commingled_recycling</th>\n",
              "      <th>cardboard</th>\n",
              "      <th>hardwaste_to_landfill</th>\n",
              "      <th>hardwaste_recovered</th>\n",
              "      <th>hardwaste_total</th>\n",
              "      <th>green_waste</th>\n",
              "      <th>month</th>\n",
              "      <th>str_name</th>\n",
              "      <th>str_code</th>\n",
              "      <th>smart_bin</th>\n",
              "    </tr>\n",
              "  </thead>\n",
              "  <tbody>\n",
              "    <tr>\n",
              "      <th>0</th>\n",
              "      <td>Feb-15</td>\n",
              "      <td>1867.96</td>\n",
              "      <td>365.13</td>\n",
              "      <td>179.25</td>\n",
              "      <td>307.66</td>\n",
              "      <td>312.0</td>\n",
              "      <td>558.96</td>\n",
              "      <td>151.02</td>\n",
              "      <td>89.50</td>\n",
              "      <td>0.00</td>\n",
              "      <td>89.50</td>\n",
              "      <td>2.70</td>\n",
              "      <td>February</td>\n",
              "      <td>Elizabeth</td>\n",
              "      <td>101.0</td>\n",
              "      <td>No</td>\n",
              "    </tr>\n",
              "    <tr>\n",
              "      <th>1</th>\n",
              "      <td>May-16</td>\n",
              "      <td>2418.20</td>\n",
              "      <td>326.52</td>\n",
              "      <td>200.66</td>\n",
              "      <td>433.06</td>\n",
              "      <td>209.0</td>\n",
              "      <td>702.07</td>\n",
              "      <td>199.68</td>\n",
              "      <td>19.74</td>\n",
              "      <td>40.92</td>\n",
              "      <td>60.66</td>\n",
              "      <td>3.08</td>\n",
              "      <td>May</td>\n",
              "      <td>collins</td>\n",
              "      <td>160.0</td>\n",
              "      <td>Yes</td>\n",
              "    </tr>\n",
              "    <tr>\n",
              "      <th>2</th>\n",
              "      <td>Jan-15</td>\n",
              "      <td>1958.38</td>\n",
              "      <td>328.79</td>\n",
              "      <td>147.72</td>\n",
              "      <td>345.68</td>\n",
              "      <td>501.0</td>\n",
              "      <td>642.18</td>\n",
              "      <td>132.66</td>\n",
              "      <td>85.52</td>\n",
              "      <td>0.00</td>\n",
              "      <td>85.52</td>\n",
              "      <td>3.52</td>\n",
              "      <td>January</td>\n",
              "      <td>LaTrobe</td>\n",
              "      <td>162.0</td>\n",
              "      <td>No</td>\n",
              "    </tr>\n",
              "    <tr>\n",
              "      <th>3</th>\n",
              "      <td>Feb-16</td>\n",
              "      <td>2202.28</td>\n",
              "      <td>281.46</td>\n",
              "      <td>151.18</td>\n",
              "      <td>293.00</td>\n",
              "      <td>173.0</td>\n",
              "      <td>708.31</td>\n",
              "      <td>196.96</td>\n",
              "      <td>41.72</td>\n",
              "      <td>19.12</td>\n",
              "      <td>60.84</td>\n",
              "      <td>5.56</td>\n",
              "      <td>February</td>\n",
              "      <td>St.Kilda</td>\n",
              "      <td>163.0</td>\n",
              "      <td>No</td>\n",
              "    </tr>\n",
              "    <tr>\n",
              "      <th>4</th>\n",
              "      <td>Feb-11</td>\n",
              "      <td>1644.12</td>\n",
              "      <td>300.24</td>\n",
              "      <td>138.70</td>\n",
              "      <td>530.52</td>\n",
              "      <td>117.0</td>\n",
              "      <td>512.66</td>\n",
              "      <td>176.48</td>\n",
              "      <td>23.80</td>\n",
              "      <td>0.00</td>\n",
              "      <td>23.80</td>\n",
              "      <td>6.54</td>\n",
              "      <td>February</td>\n",
              "      <td>Race course</td>\n",
              "      <td>159.0</td>\n",
              "      <td>No</td>\n",
              "    </tr>\n",
              "  </tbody>\n",
              "</table>\n",
              "</div>\n",
              "      <button class=\"colab-df-convert\" onclick=\"convertToInteractive('df-1df1c29b-1b2f-462d-9806-0c5366da5665')\"\n",
              "              title=\"Convert this dataframe to an interactive table.\"\n",
              "              style=\"display:none;\">\n",
              "        \n",
              "  <svg xmlns=\"http://www.w3.org/2000/svg\" height=\"24px\"viewBox=\"0 0 24 24\"\n",
              "       width=\"24px\">\n",
              "    <path d=\"M0 0h24v24H0V0z\" fill=\"none\"/>\n",
              "    <path d=\"M18.56 5.44l.94 2.06.94-2.06 2.06-.94-2.06-.94-.94-2.06-.94 2.06-2.06.94zm-11 1L8.5 8.5l.94-2.06 2.06-.94-2.06-.94L8.5 2.5l-.94 2.06-2.06.94zm10 10l.94 2.06.94-2.06 2.06-.94-2.06-.94-.94-2.06-.94 2.06-2.06.94z\"/><path d=\"M17.41 7.96l-1.37-1.37c-.4-.4-.92-.59-1.43-.59-.52 0-1.04.2-1.43.59L10.3 9.45l-7.72 7.72c-.78.78-.78 2.05 0 2.83L4 21.41c.39.39.9.59 1.41.59.51 0 1.02-.2 1.41-.59l7.78-7.78 2.81-2.81c.8-.78.8-2.07 0-2.86zM5.41 20L4 18.59l7.72-7.72 1.47 1.35L5.41 20z\"/>\n",
              "  </svg>\n",
              "      </button>\n",
              "      \n",
              "  <style>\n",
              "    .colab-df-container {\n",
              "      display:flex;\n",
              "      flex-wrap:wrap;\n",
              "      gap: 12px;\n",
              "    }\n",
              "\n",
              "    .colab-df-convert {\n",
              "      background-color: #E8F0FE;\n",
              "      border: none;\n",
              "      border-radius: 50%;\n",
              "      cursor: pointer;\n",
              "      display: none;\n",
              "      fill: #1967D2;\n",
              "      height: 32px;\n",
              "      padding: 0 0 0 0;\n",
              "      width: 32px;\n",
              "    }\n",
              "\n",
              "    .colab-df-convert:hover {\n",
              "      background-color: #E2EBFA;\n",
              "      box-shadow: 0px 1px 2px rgba(60, 64, 67, 0.3), 0px 1px 3px 1px rgba(60, 64, 67, 0.15);\n",
              "      fill: #174EA6;\n",
              "    }\n",
              "\n",
              "    [theme=dark] .colab-df-convert {\n",
              "      background-color: #3B4455;\n",
              "      fill: #D2E3FC;\n",
              "    }\n",
              "\n",
              "    [theme=dark] .colab-df-convert:hover {\n",
              "      background-color: #434B5C;\n",
              "      box-shadow: 0px 1px 3px 1px rgba(0, 0, 0, 0.15);\n",
              "      filter: drop-shadow(0px 1px 2px rgba(0, 0, 0, 0.3));\n",
              "      fill: #FFFFFF;\n",
              "    }\n",
              "  </style>\n",
              "\n",
              "      <script>\n",
              "        const buttonEl =\n",
              "          document.querySelector('#df-1df1c29b-1b2f-462d-9806-0c5366da5665 button.colab-df-convert');\n",
              "        buttonEl.style.display =\n",
              "          google.colab.kernel.accessAllowed ? 'block' : 'none';\n",
              "\n",
              "        async function convertToInteractive(key) {\n",
              "          const element = document.querySelector('#df-1df1c29b-1b2f-462d-9806-0c5366da5665');\n",
              "          const dataTable =\n",
              "            await google.colab.kernel.invokeFunction('convertToInteractive',\n",
              "                                                     [key], {});\n",
              "          if (!dataTable) return;\n",
              "\n",
              "          const docLinkHtml = 'Like what you see? Visit the ' +\n",
              "            '<a target=\"_blank\" href=https://colab.research.google.com/notebooks/data_table.ipynb>data table notebook</a>'\n",
              "            + ' to learn more about interactive tables.';\n",
              "          element.innerHTML = '';\n",
              "          dataTable['output_type'] = 'display_data';\n",
              "          await google.colab.output.renderOutput(dataTable, element);\n",
              "          const docLink = document.createElement('div');\n",
              "          docLink.innerHTML = docLinkHtml;\n",
              "          element.appendChild(docLink);\n",
              "        }\n",
              "      </script>\n",
              "    </div>\n",
              "  </div>\n",
              "  "
            ]
          },
          "metadata": {},
          "execution_count": 23
        }
      ]
    }
  ],
  "metadata": {
    "kernelspec": {
      "display_name": "Python 3 (ipykernel)",
      "language": "python",
      "name": "python3"
    },
    "language_info": {
      "codemirror_mode": {
        "name": "ipython",
        "version": 3
      },
      "file_extension": ".py",
      "mimetype": "text/x-python",
      "name": "python",
      "nbconvert_exporter": "python",
      "pygments_lexer": "ipython3",
      "version": "3.9.12"
    },
    "colab": {
      "provenance": [],
      "collapsed_sections": []
    }
  },
  "nbformat": 4,
  "nbformat_minor": 5
}
