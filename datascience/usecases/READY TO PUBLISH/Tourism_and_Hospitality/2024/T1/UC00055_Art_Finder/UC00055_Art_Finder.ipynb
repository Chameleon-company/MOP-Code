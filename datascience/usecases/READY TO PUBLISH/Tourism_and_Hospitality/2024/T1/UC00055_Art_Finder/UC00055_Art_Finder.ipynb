{
 "cells": [
  {
   "cell_type": "markdown",
   "id": "0d6271d6-d1a5-4327-bcf2-f608992be1a1",
   "metadata": {
    "id": "0d6271d6-d1a5-4327-bcf2-f608992be1a1",
    "tags": []
   },
   "source": [
    "# <div class=\"usecase-title\">Art Finder</div>\n",
    "\n",
    "<div class=\"usecase-authors\"><b>Authored by: </b>Harley Ngo</div>\n",
    "\n",
    "<div class=\"usecase-date\"><b>Date: </b> February 2024</div>"
   ]
  },
  {
   "cell_type": "markdown",
   "id": "85854310-1ab2-4537-b64f-b4ace8111206",
   "metadata": {
    "id": "85854310-1ab2-4537-b64f-b4ace8111206"
   },
   "source": [
    "<div class=\"usecase-duration\"><b>Duration:</b> 30 mins</div>\n",
    "\n",
    "<div class=\"usecase-level-skill\"></div>\n",
    "<div class=\"usecase-level\"><b> Level: </b>Intermediate</div>\n",
    "<div class=\"usecase-skill\"><b> Pre-requisite Skills: </b>Python, map"
   ]
  },
  {
   "cell_type": "markdown",
   "id": "9ed1e45f-49a6-43df-b6e9-ce0577301838",
   "metadata": {
    "id": "9ed1e45f-49a6-43df-b6e9-ce0577301838"
   },
   "source": [
    "<div class=\"usecase-subsection-blurb\">\n",
    "  <i>Dataset 1:</i> Outdoor artworks\n",
    "  <br>\n",
    "  <a href=\"https://data.melbourne.vic.gov.au/explore/dataset/outdoor-artworks/table/\" target=\"_blank\">Dataset Link</a>\n",
    "  <br>\n",
    "</div>\n",
    "<br>\n",
    "\n",
    "<div class=\"usecase-subsection-blurb\">\n",
    "  <i>Dataset 2:</i> Public artworks, fountains and monuments\n",
    "  <br>\n",
    "  <a href=\"https://data.melbourne.vic.gov.au/explore/dataset/public-artworks-fountains-and-monuments/table/\" target=\"_blank\">Dataset Link</a>\n",
    "  <br>\n",
    "</div>\n",
    "<br>\n",
    "\n",
    "<div class=\"usecase-subsection-blurb\">\n",
    "  <i>Dataset 3:</i> Public memorials and sculptures\n",
    "  <br>\n",
    "  <a href=\"https://data.melbourne.vic.gov.au/explore/dataset/public-memorials-and-sculptures/table/\" target=\"_blank\">Dataset Link</a>\n",
    "  <br>\n",
    "</div>\n",
    "<br>\n",
    "\n",
    "<div class=\"usecase-subsection-blurb\">\n",
    "  <i>Dataset 4:</i> Plaques located at the Shrine of Remembrance\n",
    "  <br>\n",
    "  <a href=\"https://data.melbourne.vic.gov.au/explore/dataset/plaques-located-at-the-shrine-of-remembrance/table/\" target=\"_blank\">Dataset Link</a>\n",
    "  <br>\n",
    "</div>\n",
    "<br>"
   ]
  },
  {
   "cell_type": "markdown",
   "id": "3e408811-7436-4e95-b401-21d459a9d199",
   "metadata": {
    "id": "3e408811-7436-4e95-b401-21d459a9d199"
   },
   "source": [
    "# <div class=\"usecase-section-header\"><h4>Project Objective, Overview & Research</h4></div>"
   ]
  },
  {
   "cell_type": "markdown",
   "id": "da2faf95-3815-4c15-8c5c-831f0d7df981",
   "metadata": {
    "id": "da2faf95-3815-4c15-8c5c-831f0d7df981"
   },
   "source": [
    "<div class=\"usecase-subtitle\">\n",
    "<i><b>User Story</b></i>\n",
    "</div>\n",
    "\n",
    "<div class=\"usecase-subsection-blurb\"><i>\"As a citizen deeply invested in the cultural heritage of my city and a visitor eager to explore its artistic offerings, I seek to leverage Art Finder as a comprehensive guide to the diverse array of artworks and sculptures adorning public spaces. Through this digital platform, I aim to navigate the city with ease, discovering and learning about each piece's significance and history.\"</i></div>\n",
    "<br>"
   ]
  },
  {
   "cell_type": "markdown",
   "id": "ad28360e-a266-431c-ad5c-bfce06630866",
   "metadata": {
    "id": "ad28360e-a266-431c-ad5c-bfce06630866"
   },
   "source": [
    "<div class=\"usecase-subtitle\">\n",
    "<i><b>Objective</b></i>\n",
    "\n",
    "<div class=\"usecase-subsection-blurb\">'Art Finder' project contained two components, created over a 12 week investigation period. The objective is to create a map showing artworks and sculptures based on users' interest.</div>\n",
    "<br>\n",
    "\n",
    "<div class=\"usecase-subsection-blurb\"><b>Part 1</b> includes set up, fetching or loading datasets, pre-processing, data cleaning, saving datasets, and merging datasets.</div>\n",
    "\n",
    "<br>\n",
    "\n",
    "<div class=\"usecase-subsection-blurb\"><b>Part 2</b> contains creating map, including data points, artworks history and location description. </div>"
   ]
  },
  {
   "cell_type": "markdown",
   "id": "322c1650-378c-43a7-8654-6350390f730d",
   "metadata": {
    "id": "322c1650-378c-43a7-8654-6350390f730d"
   },
   "source": [
    "# Part 1 (Set up & Pre-processing)\n",
    "*   Set Up\n",
    "*   Pre-processing\n",
    "*   Merge Datasets"
   ]
  },
  {
   "cell_type": "markdown",
   "id": "75fc0b3a-f2d3-4d4d-ad1e-8577dff930ab",
   "metadata": {
    "id": "75fc0b3a-f2d3-4d4d-ad1e-8577dff930ab"
   },
   "source": [
    "## Part 1.1: Set Up\n",
    "*   Import Core Libraries\n",
    "*   Import Dependencies"
   ]
  },
  {
   "cell_type": "code",
   "execution_count": 1,
   "id": "74c39eef-0571-4185-a63e-9ad2f4c75322",
   "metadata": {
    "id": "74c39eef-0571-4185-a63e-9ad2f4c75322",
    "tags": []
   },
   "outputs": [],
   "source": [
    "#Import core libraries\n",
    "import requests\n",
    "import pandas as pd\n",
    "import numpy as np\n",
    "import os\n",
    "\n",
    "import json\n",
    "\n",
    "import folium\n",
    "from geopy.geocoders import Nominatim\n",
    "from ipywidgets import interact, widgets\n",
    "from IPython.display import display, HTML\n",
    "\n",
    "from math import radians, sin, cos, sqrt, atan2\n",
    "\n",
    "from tqdm.auto import tqdm\n",
    "from io import StringIO\n",
    "\n",
    "import matplotlib.pyplot as plt"
   ]
  },
  {
   "cell_type": "code",
   "execution_count": 2,
   "id": "3f5628e5-9e11-44e4-8e00-05e2bd656984",
   "metadata": {
    "id": "3f5628e5-9e11-44e4-8e00-05e2bd656984",
    "tags": []
   },
   "outputs": [],
   "source": [
    "def fetch_data(base_url, dataset, api_key, num_records=99, offset=0):\n",
    "    all_records = []\n",
    "    max_offset = 9900\n",
    "\n",
    "    while True:\n",
    "        if offset > max_offset:\n",
    "            break\n",
    "\n",
    "        filters = f'{dataset}/records?limit={num_records}&offset={offset}'\n",
    "        url = f'{base_url}{filters}&api_key={api_key}'\n",
    "\n",
    "        try:\n",
    "            result = requests.get(url, timeout = 10)\n",
    "            result.raise_for_status()\n",
    "            records = result.json().get('results')\n",
    "        except requests.exceptions.RequestException as e:\n",
    "            raise Exception(f'API request failed: {e}')\n",
    "        if records is None:\n",
    "            break\n",
    "        all_records.extend(records)\n",
    "        if len(records) < num_records:\n",
    "            break\n",
    "\n",
    "        offset += num_records\n",
    "\n",
    "    df = pd.DataFrame(all_records)\n",
    "    return df\n",
    "\n",
    "BASE_URL = 'https://data.melbourne.vic.gov.au/api/explore/v2.1/catalog/datasets/'\n",
    "API_KEY = ''"
   ]
  },
  {
   "cell_type": "markdown",
   "id": "ada7b81e-ccb6-4674-8433-a2fc8b071be0",
   "metadata": {
    "id": "ada7b81e-ccb6-4674-8433-a2fc8b071be0",
    "tags": []
   },
   "source": [
    "## Part 1.2: Pre-Processing\n",
    "*   Fetch each dataset, CoM API or load CSV\n",
    "*   Load data to dataframe\n",
    "*   Data cleaning (duplicates, missing values, data types, etc)\n",
    "*   Save cleaned dataset"
   ]
  },
  {
   "cell_type": "markdown",
   "id": "0fae738f-7675-4ffa-a655-e3a037c8521a",
   "metadata": {
    "id": "0fae738f-7675-4ffa-a655-e3a037c8521a"
   },
   "source": [
    "#### Dataset 1: Outdoor artworks\n",
    "\n",
    "<a href=\"https://data.melbourne.vic.gov.au/explore/dataset/outdoor-artworks/information/\" target=\"_blank\">Dataset Link</a>\n",
    "\n",
    "**Summary:** This dataset contains outdoor artwork such as memorials and sculptures located around the city including the makers behind the artwork and dates the artwork was installed.\n",
    "\n",
    "This data allows residents and owners to explore the City of Melbourne's streets and intimate laneways, parks and waterfront to find inspiring works of art in surprising places."
   ]
  },
  {
   "cell_type": "markdown",
   "id": "b43316b4-d79d-4c43-ba12-75fa59d4569f",
   "metadata": {
    "id": "b43316b4-d79d-4c43-ba12-75fa59d4569f"
   },
   "source": [
    "##### Fetch Data"
   ]
  },
  {
   "cell_type": "code",
   "execution_count": 3,
   "id": "9bcf5bc8-fe44-4e24-b5e9-3c99e0c930e7",
   "metadata": {
    "colab": {
     "base_uri": "https://localhost:8080/",
     "height": 573
    },
    "id": "9bcf5bc8-fe44-4e24-b5e9-3c99e0c930e7",
    "outputId": "1f624c2c-eb73-4749-a342-a9ae3b503b3d",
    "tags": []
   },
   "outputs": [
    {
     "data": {
      "text/html": [
       "<div>\n",
       "<style scoped>\n",
       "    .dataframe tbody tr th:only-of-type {\n",
       "        vertical-align: middle;\n",
       "    }\n",
       "\n",
       "    .dataframe tbody tr th {\n",
       "        vertical-align: top;\n",
       "    }\n",
       "\n",
       "    .dataframe thead th {\n",
       "        text-align: right;\n",
       "    }\n",
       "</style>\n",
       "<table border=\"1\" class=\"dataframe\">\n",
       "  <thead>\n",
       "    <tr style=\"text-align: right;\">\n",
       "      <th></th>\n",
       "      <th>geo_point_2d</th>\n",
       "      <th>geo_shape</th>\n",
       "      <th>road_segment</th>\n",
       "      <th>location</th>\n",
       "      <th>latitude</th>\n",
       "      <th>asset_id</th>\n",
       "      <th>history</th>\n",
       "      <th>owner_type</th>\n",
       "      <th>description</th>\n",
       "      <th>object_type</th>\n",
       "      <th>art_date</th>\n",
       "      <th>inscription</th>\n",
       "      <th>longitude</th>\n",
       "      <th>company</th>\n",
       "      <th>service_manager</th>\n",
       "      <th>makers</th>\n",
       "      <th>property</th>\n",
       "      <th>classification</th>\n",
       "      <th>title</th>\n",
       "    </tr>\n",
       "  </thead>\n",
       "  <tbody>\n",
       "    <tr>\n",
       "      <th>0</th>\n",
       "      <td>{'lon': 144.96706152142454, 'lat': -37.8164236...</td>\n",
       "      <td>{'type': 'Feature', 'geometry': {'coordinates'...</td>\n",
       "      <td>Intersection of Swanston Street and Flinders Lane</td>\n",
       "      <td>Intersection of Swanston Street and Flinders L...</td>\n",
       "      <td>144.967062</td>\n",
       "      <td>1087398</td>\n",
       "      <td>None</td>\n",
       "      <td>Owned</td>\n",
       "      <td>A patinated bronze sculpture, Beyond the Ocean...</td>\n",
       "      <td>Sculpture</td>\n",
       "      <td>1993</td>\n",
       "      <td>None</td>\n",
       "      <td>-37.816424</td>\n",
       "      <td>City of Melbourne</td>\n",
       "      <td>Arts &amp; Culture Branch</td>\n",
       "      <td>Quinn, Loretta</td>\n",
       "      <td>None</td>\n",
       "      <td>Sculpture</td>\n",
       "      <td>Beyond the Ocean of Existence</td>\n",
       "    </tr>\n",
       "    <tr>\n",
       "      <th>1</th>\n",
       "      <td>{'lon': 144.96773271682704, 'lat': -37.8260713...</td>\n",
       "      <td>{'type': 'Feature', 'geometry': {'coordinates'...</td>\n",
       "      <td>None</td>\n",
       "      <td>Malthouse Plaza approximately 33m NW of CitiPo...</td>\n",
       "      <td>144.967733</td>\n",
       "      <td>1086752</td>\n",
       "      <td>None</td>\n",
       "      <td>Owned</td>\n",
       "      <td>Yellow painted welded plate steel sculpture.&lt;b...</td>\n",
       "      <td>Sculpture</td>\n",
       "      <td>1980</td>\n",
       "      <td>None</td>\n",
       "      <td>-37.826071</td>\n",
       "      <td>City of Melbourne</td>\n",
       "      <td>Arts &amp; Culture Branch</td>\n",
       "      <td>Robertson Swann, Ron &lt;br&gt;</td>\n",
       "      <td>Malthouse Plaza</td>\n",
       "      <td>Sculpture</td>\n",
       "      <td>Vault</td>\n",
       "    </tr>\n",
       "    <tr>\n",
       "      <th>2</th>\n",
       "      <td>{'lon': 144.97395547173446, 'lat': -37.8124342...</td>\n",
       "      <td>{'type': 'Feature', 'geometry': {'coordinates'...</td>\n",
       "      <td>None</td>\n",
       "      <td>Gordon Reserve approximately 44m West of Depar...</td>\n",
       "      <td>144.973955</td>\n",
       "      <td>1086576</td>\n",
       "      <td>None</td>\n",
       "      <td>Owned</td>\n",
       "      <td>William Stanford's bluestone fountain features...</td>\n",
       "      <td>Fountain</td>\n",
       "      <td>c1870</td>\n",
       "      <td>STANFORD FOUNTAIN / ERECTED 1871 / THIS FOUNTA...</td>\n",
       "      <td>-37.812434</td>\n",
       "      <td>City of Melbourne</td>\n",
       "      <td>Parks Services Branch</td>\n",
       "      <td>Stanford, William</td>\n",
       "      <td>Gordon Reserve</td>\n",
       "      <td>Sculpture</td>\n",
       "      <td>Stanford Fountain</td>\n",
       "    </tr>\n",
       "    <tr>\n",
       "      <th>3</th>\n",
       "      <td>{'lon': 144.9409520071531, 'lat': -37.82062403...</td>\n",
       "      <td>{'type': 'Feature', 'geometry': {'coordinates'...</td>\n",
       "      <td>None</td>\n",
       "      <td>Buluk Park</td>\n",
       "      <td>144.940952</td>\n",
       "      <td>1638170</td>\n",
       "      <td>&lt;br&gt;</td>\n",
       "      <td>Owned</td>\n",
       "      <td>Shadow Trees is an assemblage construction of ...</td>\n",
       "      <td>Sculpture</td>\n",
       "      <td>2014</td>\n",
       "      <td>None</td>\n",
       "      <td>-37.820624</td>\n",
       "      <td>City of Melbourne</td>\n",
       "      <td>None</td>\n",
       "      <td>Smart, Sally &lt;br&gt;</td>\n",
       "      <td>Buluk Park</td>\n",
       "      <td>Sculpture</td>\n",
       "      <td>Shadow Trees</td>\n",
       "    </tr>\n",
       "    <tr>\n",
       "      <th>4</th>\n",
       "      <td>{'lon': 144.98110223857506, 'lat': -37.8134099...</td>\n",
       "      <td>{'type': 'Feature', 'geometry': {'coordinates'...</td>\n",
       "      <td>None</td>\n",
       "      <td>Fitzroy Gardens approximately 34m SW of The Pa...</td>\n",
       "      <td>144.981102</td>\n",
       "      <td>1086740</td>\n",
       "      <td>None</td>\n",
       "      <td>Owned</td>\n",
       "      <td>Series of carvings on stump of one of the orig...</td>\n",
       "      <td>Sculpture</td>\n",
       "      <td>1934</td>\n",
       "      <td>THE FAIRIES' TREE / CARVED BY OLA COHN, MBE AR...</td>\n",
       "      <td>-37.813410</td>\n",
       "      <td>City of Melbourne</td>\n",
       "      <td>Arts &amp; Culture Branch</td>\n",
       "      <td>COHN, Ola</td>\n",
       "      <td>Fitzroy Gardens</td>\n",
       "      <td>Sculpture</td>\n",
       "      <td>Fairies Tree</td>\n",
       "    </tr>\n",
       "  </tbody>\n",
       "</table>\n",
       "</div>"
      ],
      "text/plain": [
       "                                        geo_point_2d  \\\n",
       "0  {'lon': 144.96706152142454, 'lat': -37.8164236...   \n",
       "1  {'lon': 144.96773271682704, 'lat': -37.8260713...   \n",
       "2  {'lon': 144.97395547173446, 'lat': -37.8124342...   \n",
       "3  {'lon': 144.9409520071531, 'lat': -37.82062403...   \n",
       "4  {'lon': 144.98110223857506, 'lat': -37.8134099...   \n",
       "\n",
       "                                           geo_shape  \\\n",
       "0  {'type': 'Feature', 'geometry': {'coordinates'...   \n",
       "1  {'type': 'Feature', 'geometry': {'coordinates'...   \n",
       "2  {'type': 'Feature', 'geometry': {'coordinates'...   \n",
       "3  {'type': 'Feature', 'geometry': {'coordinates'...   \n",
       "4  {'type': 'Feature', 'geometry': {'coordinates'...   \n",
       "\n",
       "                                        road_segment  \\\n",
       "0  Intersection of Swanston Street and Flinders Lane   \n",
       "1                                               None   \n",
       "2                                               None   \n",
       "3                                               None   \n",
       "4                                               None   \n",
       "\n",
       "                                            location    latitude  asset_id  \\\n",
       "0  Intersection of Swanston Street and Flinders L...  144.967062   1087398   \n",
       "1  Malthouse Plaza approximately 33m NW of CitiPo...  144.967733   1086752   \n",
       "2  Gordon Reserve approximately 44m West of Depar...  144.973955   1086576   \n",
       "3                                         Buluk Park  144.940952   1638170   \n",
       "4  Fitzroy Gardens approximately 34m SW of The Pa...  144.981102   1086740   \n",
       "\n",
       "  history owner_type                                        description  \\\n",
       "0    None      Owned  A patinated bronze sculpture, Beyond the Ocean...   \n",
       "1    None      Owned  Yellow painted welded plate steel sculpture.<b...   \n",
       "2    None      Owned  William Stanford's bluestone fountain features...   \n",
       "3    <br>      Owned  Shadow Trees is an assemblage construction of ...   \n",
       "4    None      Owned  Series of carvings on stump of one of the orig...   \n",
       "\n",
       "  object_type art_date                                        inscription  \\\n",
       "0   Sculpture     1993                                               None   \n",
       "1   Sculpture     1980                                               None   \n",
       "2    Fountain    c1870  STANFORD FOUNTAIN / ERECTED 1871 / THIS FOUNTA...   \n",
       "3   Sculpture     2014                                               None   \n",
       "4   Sculpture     1934  THE FAIRIES' TREE / CARVED BY OLA COHN, MBE AR...   \n",
       "\n",
       "   longitude            company        service_manager  \\\n",
       "0 -37.816424  City of Melbourne  Arts & Culture Branch   \n",
       "1 -37.826071  City of Melbourne  Arts & Culture Branch   \n",
       "2 -37.812434  City of Melbourne  Parks Services Branch   \n",
       "3 -37.820624  City of Melbourne                   None   \n",
       "4 -37.813410  City of Melbourne  Arts & Culture Branch   \n",
       "\n",
       "                      makers         property classification  \\\n",
       "0             Quinn, Loretta             None      Sculpture   \n",
       "1  Robertson Swann, Ron <br>  Malthouse Plaza      Sculpture   \n",
       "2          Stanford, William   Gordon Reserve      Sculpture   \n",
       "3          Smart, Sally <br>       Buluk Park      Sculpture   \n",
       "4                  COHN, Ola  Fitzroy Gardens      Sculpture   \n",
       "\n",
       "                           title  \n",
       "0  Beyond the Ocean of Existence  \n",
       "1                          Vault  \n",
       "2              Stanford Fountain  \n",
       "3                   Shadow Trees  \n",
       "4                   Fairies Tree  "
      ]
     },
     "execution_count": 3,
     "metadata": {},
     "output_type": "execute_result"
    }
   ],
   "source": [
    "SENSOR_DATASET = 'outdoor-artworks'\n",
    "outdoor_artworks = fetch_data(BASE_URL, SENSOR_DATASET, API_KEY)\n",
    "outdoor_artworks.head()"
   ]
  },
  {
   "cell_type": "code",
   "execution_count": 4,
   "id": "0617d29f-8718-4408-a226-ca4e073c82a7",
   "metadata": {
    "tags": []
   },
   "outputs": [
    {
     "data": {
      "text/plain": [
       "Index(['geo_point_2d', 'geo_shape', 'road_segment', 'location', 'latitude',\n",
       "       'asset_id', 'history', 'owner_type', 'description', 'object_type',\n",
       "       'art_date', 'inscription', 'longitude', 'company', 'service_manager',\n",
       "       'makers', 'property', 'classification', 'title'],\n",
       "      dtype='object')"
      ]
     },
     "execution_count": 4,
     "metadata": {},
     "output_type": "execute_result"
    }
   ],
   "source": [
    "outdoor_artworks.columns"
   ]
  },
  {
   "cell_type": "markdown",
   "id": "c2405c2b-1bff-45ba-a5f4-f731baa00f05",
   "metadata": {},
   "source": [
    "##### Replace weird input as None"
   ]
  },
  {
   "cell_type": "code",
   "execution_count": 5,
   "id": "98cbc54b-1c16-4994-9cd0-900dfdcedce6",
   "metadata": {
    "tags": []
   },
   "outputs": [],
   "source": [
    "outdoor_artworks['history'].replace({'<br>':None, '<br> <br><br>':None, '<br><br><br>':None}, inplace=True)"
   ]
  },
  {
   "cell_type": "markdown",
   "id": "aefc5fbd-73fe-4463-bb27-053b9faba1e2",
   "metadata": {},
   "source": [
    "##### Splitting into longitude and latitude"
   ]
  },
  {
   "cell_type": "code",
   "execution_count": 6,
   "id": "52e30d2a-a4a1-4dfd-a914-407a6462c179",
   "metadata": {},
   "outputs": [],
   "source": [
    "# Splitting into longitude and latitude columns\n",
    "outdoor_artworks['longitude'] = outdoor_artworks['geo_point_2d'].apply(lambda x: x['lon'])\n",
    "outdoor_artworks['latitude'] = outdoor_artworks['geo_point_2d'].apply(lambda x: x['lat'])"
   ]
  },
  {
   "cell_type": "markdown",
   "id": "26db1d2f-8cc5-4fb4-b8fc-07fa8d8e115f",
   "metadata": {},
   "source": [
    "##### Drop unnecessary columns"
   ]
  },
  {
   "cell_type": "code",
   "execution_count": 7,
   "id": "f3bb61a3-8c82-499f-aff9-b353da36ad8d",
   "metadata": {
    "tags": []
   },
   "outputs": [],
   "source": [
    "outdoor_artworks.drop(columns=['geo_point_2d', 'geo_shape'], inplace=True)"
   ]
  },
  {
   "cell_type": "markdown",
   "id": "d225be78-1157-430b-b1cc-ef68857ecbea",
   "metadata": {
    "id": "d225be78-1157-430b-b1cc-ef68857ecbea"
   },
   "source": [
    "#### Dataset 2: Public artworks, fountains and monuments\n",
    "\n",
    "<a href=\"https://data.melbourne.vic.gov.au/explore/dataset/public-artworks-fountains-and-monuments/information/\">Dataset Link</a>\n",
    "\n",
    "**Summary:** The City of Melbourne maintains a register of all public artwork, fountains and monuments located within the City. This dataset contains various information regarding the type, category and geographical location of the artwork."
   ]
  },
  {
   "cell_type": "code",
   "execution_count": 8,
   "id": "21fdae0b-73c5-4965-863d-05a848bbef6f",
   "metadata": {
    "colab": {
     "base_uri": "https://localhost:8080/",
     "height": 293
    },
    "id": "21fdae0b-73c5-4965-863d-05a848bbef6f",
    "outputId": "523d0251-697e-4335-b58d-1c6acbb5bb47",
    "tags": []
   },
   "outputs": [
    {
     "data": {
      "text/html": [
       "<div>\n",
       "<style scoped>\n",
       "    .dataframe tbody tr th:only-of-type {\n",
       "        vertical-align: middle;\n",
       "    }\n",
       "\n",
       "    .dataframe tbody tr th {\n",
       "        vertical-align: top;\n",
       "    }\n",
       "\n",
       "    .dataframe thead th {\n",
       "        text-align: right;\n",
       "    }\n",
       "</style>\n",
       "<table border=\"1\" class=\"dataframe\">\n",
       "  <thead>\n",
       "    <tr style=\"text-align: right;\">\n",
       "      <th></th>\n",
       "      <th>asset_type</th>\n",
       "      <th>name</th>\n",
       "      <th>xorg</th>\n",
       "      <th>xsource</th>\n",
       "      <th>address_point</th>\n",
       "      <th>artist</th>\n",
       "      <th>alternate_name</th>\n",
       "      <th>art_date</th>\n",
       "      <th>mel_way_ref</th>\n",
       "      <th>respective_author</th>\n",
       "      <th>structure</th>\n",
       "      <th>co_ordinates</th>\n",
       "      <th>easting</th>\n",
       "      <th>northing</th>\n",
       "    </tr>\n",
       "  </thead>\n",
       "  <tbody>\n",
       "    <tr>\n",
       "      <th>0</th>\n",
       "      <td>Fountain</td>\n",
       "      <td>Coles Fountain</td>\n",
       "      <td>City of Melbourne</td>\n",
       "      <td>MCC - Ortho Image March 2005 - Final</td>\n",
       "      <td>517 Albert Street, EAST MELBOURNE</td>\n",
       "      <td>Robert Woodward</td>\n",
       "      <td>None</td>\n",
       "      <td>1981</td>\n",
       "      <td>2F_J1</td>\n",
       "      <td>City Of Melbourne</td>\n",
       "      <td>Stainless-steel fountain on bluestone paving</td>\n",
       "      <td>{'lon': 144.973483976518, 'lat': -37.809770618...</td>\n",
       "      <td>321609.36000</td>\n",
       "      <td>5.813357e+06</td>\n",
       "    </tr>\n",
       "    <tr>\n",
       "      <th>1</th>\n",
       "      <td>Monument</td>\n",
       "      <td>Black Swan Memorial Drinking Fountain</td>\n",
       "      <td>City of Melbourne</td>\n",
       "      <td>MCC - Ortho Image March 2005 - Final</td>\n",
       "      <td>Alexandra Gardens, St Kilda Road, MELBOURNE</td>\n",
       "      <td>Raymond B. Ewers</td>\n",
       "      <td>None</td>\n",
       "      <td>1974</td>\n",
       "      <td>2F_J6</td>\n",
       "      <td>City Of Melbourne</td>\n",
       "      <td>Bluestone drinking fountain with bronze plaque</td>\n",
       "      <td>{'lon': 144.971824407255, 'lat': -37.819570561...</td>\n",
       "      <td>321486.86700</td>\n",
       "      <td>5.812266e+06</td>\n",
       "    </tr>\n",
       "    <tr>\n",
       "      <th>2</th>\n",
       "      <td>Art</td>\n",
       "      <td>Federation Bells</td>\n",
       "      <td>City of Melbourne</td>\n",
       "      <td>MCC - Ground Ortho Image March 2008</td>\n",
       "      <td>Birrarung Marr, MELBOURNE</td>\n",
       "      <td>Designers Neil McLachlan and Anton Hasell</td>\n",
       "      <td>None</td>\n",
       "      <td>2002</td>\n",
       "      <td>2F_ K6</td>\n",
       "      <td>City of Melbourne</td>\n",
       "      <td>Bronze-alloy bells on galvanised-steel poles</td>\n",
       "      <td>{'lon': 144.974158800684, 'lat': -37.818697331...</td>\n",
       "      <td>321690.25256</td>\n",
       "      <td>5.812367e+06</td>\n",
       "    </tr>\n",
       "    <tr>\n",
       "      <th>3</th>\n",
       "      <td>Art</td>\n",
       "      <td>Federation Bells</td>\n",
       "      <td>City of Melbourne</td>\n",
       "      <td>MCC - Ground Ortho Image March 2008</td>\n",
       "      <td>Birrarung Marr, MELBOURNE</td>\n",
       "      <td>Designers Neil McLachlan and Anton Hasell</td>\n",
       "      <td>None</td>\n",
       "      <td>2002</td>\n",
       "      <td>2F_ K6</td>\n",
       "      <td>City of Melbourne</td>\n",
       "      <td>Bronze-alloy bells on galvanised-steel poles</td>\n",
       "      <td>{'lon': 144.974128540287, 'lat': -37.818688233...</td>\n",
       "      <td>321687.56694</td>\n",
       "      <td>5.812368e+06</td>\n",
       "    </tr>\n",
       "    <tr>\n",
       "      <th>4</th>\n",
       "      <td>Art</td>\n",
       "      <td>Coat of Arms</td>\n",
       "      <td>City of Melbourne</td>\n",
       "      <td>MCC - Ortho Image March 2005 - Final</td>\n",
       "      <td>104 Swanston Street, MELBOURNE</td>\n",
       "      <td>City of Melbourne</td>\n",
       "      <td>None</td>\n",
       "      <td>1992</td>\n",
       "      <td>2F_F4</td>\n",
       "      <td>City Of Melbourne</td>\n",
       "      <td>Brass pavement inlay</td>\n",
       "      <td>{'lon': 144.966444170774, 'lat': -37.815048121...</td>\n",
       "      <td>321002.34200</td>\n",
       "      <td>5.812757e+06</td>\n",
       "    </tr>\n",
       "  </tbody>\n",
       "</table>\n",
       "</div>"
      ],
      "text/plain": [
       "  asset_type                                   name               xorg  \\\n",
       "0   Fountain                         Coles Fountain  City of Melbourne   \n",
       "1   Monument  Black Swan Memorial Drinking Fountain  City of Melbourne   \n",
       "2        Art                       Federation Bells  City of Melbourne   \n",
       "3        Art                       Federation Bells  City of Melbourne   \n",
       "4        Art                           Coat of Arms  City of Melbourne   \n",
       "\n",
       "                                xsource  \\\n",
       "0  MCC - Ortho Image March 2005 - Final   \n",
       "1  MCC - Ortho Image March 2005 - Final   \n",
       "2   MCC - Ground Ortho Image March 2008   \n",
       "3   MCC - Ground Ortho Image March 2008   \n",
       "4  MCC - Ortho Image March 2005 - Final   \n",
       "\n",
       "                                 address_point  \\\n",
       "0            517 Albert Street, EAST MELBOURNE   \n",
       "1  Alexandra Gardens, St Kilda Road, MELBOURNE   \n",
       "2                    Birrarung Marr, MELBOURNE   \n",
       "3                    Birrarung Marr, MELBOURNE   \n",
       "4               104 Swanston Street, MELBOURNE   \n",
       "\n",
       "                                      artist alternate_name art_date  \\\n",
       "0                            Robert Woodward           None     1981   \n",
       "1                           Raymond B. Ewers           None     1974   \n",
       "2  Designers Neil McLachlan and Anton Hasell           None     2002   \n",
       "3  Designers Neil McLachlan and Anton Hasell           None     2002   \n",
       "4                          City of Melbourne           None     1992   \n",
       "\n",
       "  mel_way_ref  respective_author  \\\n",
       "0       2F_J1  City Of Melbourne   \n",
       "1       2F_J6  City Of Melbourne   \n",
       "2      2F_ K6  City of Melbourne   \n",
       "3      2F_ K6  City of Melbourne   \n",
       "4       2F_F4  City Of Melbourne   \n",
       "\n",
       "                                        structure  \\\n",
       "0    Stainless-steel fountain on bluestone paving   \n",
       "1  Bluestone drinking fountain with bronze plaque   \n",
       "2    Bronze-alloy bells on galvanised-steel poles   \n",
       "3    Bronze-alloy bells on galvanised-steel poles   \n",
       "4                            Brass pavement inlay   \n",
       "\n",
       "                                        co_ordinates       easting  \\\n",
       "0  {'lon': 144.973483976518, 'lat': -37.809770618...  321609.36000   \n",
       "1  {'lon': 144.971824407255, 'lat': -37.819570561...  321486.86700   \n",
       "2  {'lon': 144.974158800684, 'lat': -37.818697331...  321690.25256   \n",
       "3  {'lon': 144.974128540287, 'lat': -37.818688233...  321687.56694   \n",
       "4  {'lon': 144.966444170774, 'lat': -37.815048121...  321002.34200   \n",
       "\n",
       "       northing  \n",
       "0  5.813357e+06  \n",
       "1  5.812266e+06  \n",
       "2  5.812367e+06  \n",
       "3  5.812368e+06  \n",
       "4  5.812757e+06  "
      ]
     },
     "execution_count": 8,
     "metadata": {},
     "output_type": "execute_result"
    }
   ],
   "source": [
    "SENSOR_DATASET = 'public-artworks-fountains-and-monuments'\n",
    "fountain_monument = fetch_data(BASE_URL, SENSOR_DATASET, API_KEY)\n",
    "fountain_monument.head()"
   ]
  },
  {
   "cell_type": "markdown",
   "id": "305c5a97-605b-4046-84ca-1b4528103966",
   "metadata": {},
   "source": [
    "##### Splitting into longitude and latitude"
   ]
  },
  {
   "cell_type": "code",
   "execution_count": 9,
   "id": "0845bec2-777b-4bf8-b5ce-86667cc0ee80",
   "metadata": {
    "tags": []
   },
   "outputs": [],
   "source": [
    "# Splitting into longitude and latitude columns\n",
    "fountain_monument['longitude'] = fountain_monument['co_ordinates'].apply(lambda x: x['lon'])\n",
    "fountain_monument['latitude'] = fountain_monument['co_ordinates'].apply(lambda x: x['lat'])"
   ]
  },
  {
   "cell_type": "markdown",
   "id": "c78875e2-d3c7-4ba1-a0c6-0f531c0758b7",
   "metadata": {},
   "source": [
    "##### Replace CoM input"
   ]
  },
  {
   "cell_type": "code",
   "execution_count": 10,
   "id": "ec825d54-198c-4346-8019-1d6c52c959ed",
   "metadata": {
    "tags": []
   },
   "outputs": [
    {
     "data": {
      "text/plain": [
       "array(['City Of Melbourne', 'City of Melbourne', 'VicUrban',\n",
       "       'National Gallery of Victoria', None], dtype=object)"
      ]
     },
     "execution_count": 10,
     "metadata": {},
     "output_type": "execute_result"
    }
   ],
   "source": [
    "fountain_monument['respective_author'].unique()"
   ]
  },
  {
   "cell_type": "code",
   "execution_count": 11,
   "id": "e20c5156-fd06-44c1-b87b-17390450848c",
   "metadata": {
    "tags": []
   },
   "outputs": [
    {
     "data": {
      "text/plain": [
       "array(['City of Melbourne', 'VicUrban', 'National Gallery of Victoria',\n",
       "       None], dtype=object)"
      ]
     },
     "execution_count": 11,
     "metadata": {},
     "output_type": "execute_result"
    }
   ],
   "source": [
    "fountain_monument['respective_author'].replace({'City Of Melbourne': 'City of Melbourne'}, inplace=True)\n",
    "fountain_monument['respective_author'].unique()"
   ]
  },
  {
   "cell_type": "markdown",
   "id": "3ff89fca-5bb7-4faf-b3cc-2cb398fe388c",
   "metadata": {},
   "source": [
    "##### Drop unnecessary columns"
   ]
  },
  {
   "cell_type": "code",
   "execution_count": 12,
   "id": "e5348524-2e2a-42b8-a542-14a942a4e7ad",
   "metadata": {
    "tags": []
   },
   "outputs": [],
   "source": [
    "fountain_monument.drop(columns=['mel_way_ref', 'easting', 'northing'], inplace=True)"
   ]
  },
  {
   "cell_type": "markdown",
   "id": "0b0ba979-c4b4-4640-96c8-ae59d272aa55",
   "metadata": {},
   "source": [
    "#### Dataset 3: Public memorials and sculptures\n",
    "\n",
    "<a href=\"https://data.melbourne.vic.gov.au/explore/dataset/public-memorials-and-sculptures/information/\">Dataset Link</a>\n",
    "\n",
    "**Summary:** The City of Melbourne maintains a register of all of the sculptures and memorials located within the city; this record set contains various details in relation to the artwork and location within the City of Melbourne."
   ]
  },
  {
   "cell_type": "code",
   "execution_count": 13,
   "id": "bd471a19-f927-4f8b-b4d8-99c32fac1fed",
   "metadata": {
    "tags": []
   },
   "outputs": [
    {
     "data": {
      "text/html": [
       "<div>\n",
       "<style scoped>\n",
       "    .dataframe tbody tr th:only-of-type {\n",
       "        vertical-align: middle;\n",
       "    }\n",
       "\n",
       "    .dataframe tbody tr th {\n",
       "        vertical-align: top;\n",
       "    }\n",
       "\n",
       "    .dataframe thead th {\n",
       "        text-align: right;\n",
       "    }\n",
       "</style>\n",
       "<table border=\"1\" class=\"dataframe\">\n",
       "  <thead>\n",
       "    <tr style=\"text-align: right;\">\n",
       "      <th></th>\n",
       "      <th>description</th>\n",
       "      <th>title</th>\n",
       "      <th>co_ordinates</th>\n",
       "    </tr>\n",
       "  </thead>\n",
       "  <tbody>\n",
       "    <tr>\n",
       "      <th>0</th>\n",
       "      <td>Arts &amp; Heritage  - Sculpture - Memorial Sculpture</td>\n",
       "      <td>South African War Memorial (Memorial to Fallen...</td>\n",
       "      <td>{'lon': 144.97185679034, 'lat': -37.8259414540...</td>\n",
       "    </tr>\n",
       "    <tr>\n",
       "      <th>1</th>\n",
       "      <td>Arts &amp; Heritage  - Memorials - Fountain</td>\n",
       "      <td>Macpherson-Robertson Fountain</td>\n",
       "      <td>{'lon': 144.972934260924, 'lat': -37.832377458...</td>\n",
       "    </tr>\n",
       "    <tr>\n",
       "      <th>2</th>\n",
       "      <td>Arts &amp; Heritage  - Memorials - Drinking Fountain</td>\n",
       "      <td>Councillor William Cook Memorial Drinking Foun...</td>\n",
       "      <td>{'lon': 144.966190018508, 'lat': -37.785287472...</td>\n",
       "    </tr>\n",
       "    <tr>\n",
       "      <th>3</th>\n",
       "      <td>Arts &amp; Heritage  - Sculpture - Bust</td>\n",
       "      <td>Sir Samuel Gillott</td>\n",
       "      <td>{'lon': 144.972615422561, 'lat': -37.813725736...</td>\n",
       "    </tr>\n",
       "    <tr>\n",
       "      <th>4</th>\n",
       "      <td>Arts &amp; Heritage  - Sculpture - Monument</td>\n",
       "      <td>Sir William John Clarke</td>\n",
       "      <td>{'lon': 144.974344858809, 'lat': -37.813672953...</td>\n",
       "    </tr>\n",
       "  </tbody>\n",
       "</table>\n",
       "</div>"
      ],
      "text/plain": [
       "                                         description  \\\n",
       "0  Arts & Heritage  - Sculpture - Memorial Sculpture   \n",
       "1            Arts & Heritage  - Memorials - Fountain   \n",
       "2   Arts & Heritage  - Memorials - Drinking Fountain   \n",
       "3                Arts & Heritage  - Sculpture - Bust   \n",
       "4            Arts & Heritage  - Sculpture - Monument   \n",
       "\n",
       "                                               title  \\\n",
       "0  South African War Memorial (Memorial to Fallen...   \n",
       "1                      Macpherson-Robertson Fountain   \n",
       "2  Councillor William Cook Memorial Drinking Foun...   \n",
       "3                                 Sir Samuel Gillott   \n",
       "4                            Sir William John Clarke   \n",
       "\n",
       "                                        co_ordinates  \n",
       "0  {'lon': 144.97185679034, 'lat': -37.8259414540...  \n",
       "1  {'lon': 144.972934260924, 'lat': -37.832377458...  \n",
       "2  {'lon': 144.966190018508, 'lat': -37.785287472...  \n",
       "3  {'lon': 144.972615422561, 'lat': -37.813725736...  \n",
       "4  {'lon': 144.974344858809, 'lat': -37.813672953...  "
      ]
     },
     "execution_count": 13,
     "metadata": {},
     "output_type": "execute_result"
    }
   ],
   "source": [
    "SENSOR_DATASET = 'public-memorials-and-sculptures'\n",
    "memorials_sculptures = fetch_data(BASE_URL, SENSOR_DATASET, API_KEY)\n",
    "memorials_sculptures.head()"
   ]
  },
  {
   "cell_type": "markdown",
   "id": "1cc89a16-6225-4b6a-80e9-05eaa6aa0842",
   "metadata": {},
   "source": [
    "##### Splitting the unique values into three lists"
   ]
  },
  {
   "cell_type": "code",
   "execution_count": 14,
   "id": "0d69dd59-8ea8-4017-b6e7-c8bde849f22f",
   "metadata": {
    "tags": []
   },
   "outputs": [],
   "source": [
    "description_list, asset_type_list, object_type_list, name_list = [], [], [], []\n",
    "\n",
    "for value in memorials_sculptures['description']:\n",
    "    parts = value.split(' - ')\n",
    "    if len(parts) == 4:\n",
    "        description_list.append(parts[0])\n",
    "        asset_type_list.append(parts[1])\n",
    "        object_type_list.append(parts[2])\n",
    "        name_list.append(parts[3])\n",
    "    elif len(parts) == 3:\n",
    "        description_list.append(parts[0])\n",
    "        asset_type_list.append(parts[1])\n",
    "        object_type_list.append(parts[2])\n",
    "        name_list.append('')\n",
    "    elif len(parts) == 2:\n",
    "        description_list.append(parts[0])\n",
    "        asset_type_list.append(parts[1])\n",
    "        object_type_list.append('')\n",
    "        name_list.append('')\n",
    "    elif len(parts) == 1:\n",
    "        description_list.append('')\n",
    "        asset_type_list.append('')\n",
    "        object_type_list.append('')\n",
    "        name_list.append('')\n",
    "\n",
    "# Create a DataFrame from the split data\n",
    "split_df = pd.DataFrame({'description_type': description_list,\n",
    "                            'asset_type': asset_type_list,\n",
    "                             'object_type': object_type_list,\n",
    "                            'name': name_list}, index=memorials_sculptures.index)\n",
    "\n",
    "# Merge split_df to memorials_sculptures DataFrame\n",
    "memorials_sculptures = pd.merge(memorials_sculptures, split_df, left_index=True, right_index=True)"
   ]
  },
  {
   "cell_type": "markdown",
   "id": "ea47d2f5-bbe8-43ef-be0c-6620b2d5dea7",
   "metadata": {},
   "source": [
    "##### Splitting into longitude and latitude columns"
   ]
  },
  {
   "cell_type": "code",
   "execution_count": 15,
   "id": "11febc14-849b-4044-8254-90a9d29502bb",
   "metadata": {
    "tags": []
   },
   "outputs": [],
   "source": [
    "# Splitting into longitude and latitude columns\n",
    "memorials_sculptures['longitude'] = memorials_sculptures['co_ordinates'].apply(lambda x: x['lon'])\n",
    "memorials_sculptures['latitude'] = memorials_sculptures['co_ordinates'].apply(lambda x: x['lat'])"
   ]
  },
  {
   "cell_type": "markdown",
   "id": "f3992e51-3ba0-4f02-baab-42d83d5f2ae5",
   "metadata": {},
   "source": [
    "#### Dataset 4: Plaques located at the Shrine of Remembrance\n",
    "\n",
    "<a href=\"https://data.melbourne.vic.gov.au/explore/dataset/plaques-located-at-the-shrine-of-remembrance/information/\">Dataset Link</a>\n",
    "\n",
    "**Summary:** This dataset contains details on the plaques located at the Shrine of Remembrance of Reserve​. Many of these plaques are located under trees, and where relevant, this dataset also contains details of the tree next to the plaque."
   ]
  },
  {
   "cell_type": "code",
   "execution_count": 16,
   "id": "f9f12ab1-740b-42e0-a5ef-fe1d4caead40",
   "metadata": {
    "tags": []
   },
   "outputs": [
    {
     "data": {
      "text/html": [
       "<div>\n",
       "<style scoped>\n",
       "    .dataframe tbody tr th:only-of-type {\n",
       "        vertical-align: middle;\n",
       "    }\n",
       "\n",
       "    .dataframe tbody tr th {\n",
       "        vertical-align: top;\n",
       "    }\n",
       "\n",
       "    .dataframe thead th {\n",
       "        text-align: right;\n",
       "    }\n",
       "</style>\n",
       "<table border=\"1\" class=\"dataframe\">\n",
       "  <thead>\n",
       "    <tr style=\"text-align: right;\">\n",
       "      <th></th>\n",
       "      <th>asset_number</th>\n",
       "      <th>title_of_plaque</th>\n",
       "      <th>description_of_plaque</th>\n",
       "      <th>tree_common_name</th>\n",
       "      <th>tree_scientific_name</th>\n",
       "      <th>date_of_tree_planted</th>\n",
       "      <th>lon</th>\n",
       "      <th>lat</th>\n",
       "      <th>location</th>\n",
       "    </tr>\n",
       "  </thead>\n",
       "  <tbody>\n",
       "    <tr>\n",
       "      <th>0</th>\n",
       "      <td>1498995</td>\n",
       "      <td>2/4TH LIGHT ANTI-AIRCRAFT REGIMENT 9TH DIVISIO...</td>\n",
       "      <td>2/4TH LIGHT ANTI-AIRCRAFT REGIMENT 9TH DIVISIO...</td>\n",
       "      <td>London Plane</td>\n",
       "      <td>Platanus acerifolia</td>\n",
       "      <td>1998-07-09</td>\n",
       "      <td>-37.831930</td>\n",
       "      <td>144.973212</td>\n",
       "      <td>{'lon': 144.97321170883876, 'lat': -37.8319297...</td>\n",
       "    </tr>\n",
       "    <tr>\n",
       "      <th>1</th>\n",
       "      <td>1499003</td>\n",
       "      <td>THE AUSTRALIAN LEGION OF EX-SERVICEMEN AND WOMEN</td>\n",
       "      <td>1944 1994 FOR ALL WHO SERVE THIS SPOTTED GUM W...</td>\n",
       "      <td>Spotted Gum</td>\n",
       "      <td>Corymbia maculata</td>\n",
       "      <td>1998-07-09</td>\n",
       "      <td>-37.832137</td>\n",
       "      <td>144.972873</td>\n",
       "      <td>{'lon': 144.9728731147446, 'lat': -37.83213732...</td>\n",
       "    </tr>\n",
       "    <tr>\n",
       "      <th>2</th>\n",
       "      <td>1499042</td>\n",
       "      <td>ROYAL AUSTRALIAN ENGINEERS (TRANSPORTATION SER...</td>\n",
       "      <td>ROYAL AUSTRALIAN ENGINEERS (TRANSPORTATION SER...</td>\n",
       "      <td>River Red Gum</td>\n",
       "      <td>Eucalyptus camaldulensis</td>\n",
       "      <td>1998-07-09</td>\n",
       "      <td>-37.831394</td>\n",
       "      <td>144.972049</td>\n",
       "      <td>{'lon': 144.97204947974228, 'lat': -37.8313940...</td>\n",
       "    </tr>\n",
       "    <tr>\n",
       "      <th>3</th>\n",
       "      <td>1499163</td>\n",
       "      <td>2/33 BATTALION</td>\n",
       "      <td>DEDICATED TO THOSE WHO SERVED N THE 2/33 BATTA...</td>\n",
       "      <td>UNKNOWN</td>\n",
       "      <td>UNKNOWN UNKNOWN</td>\n",
       "      <td>2000-01-02</td>\n",
       "      <td>-37.828572</td>\n",
       "      <td>144.971739</td>\n",
       "      <td>{'lon': 144.97173886572406, 'lat': -37.8285718...</td>\n",
       "    </tr>\n",
       "    <tr>\n",
       "      <th>4</th>\n",
       "      <td>1499155</td>\n",
       "      <td>22ND AUSTRALIAN INFANTRY BATTALION</td>\n",
       "      <td>22ND AUSTRALIAN INFANTRY BATTALION 1939-1945</td>\n",
       "      <td>English Elm</td>\n",
       "      <td>Ulmus procera</td>\n",
       "      <td>1998-07-09</td>\n",
       "      <td>-37.828755</td>\n",
       "      <td>144.972360</td>\n",
       "      <td>{'lon': 144.97236009726893, 'lat': -37.8287553...</td>\n",
       "    </tr>\n",
       "  </tbody>\n",
       "</table>\n",
       "</div>"
      ],
      "text/plain": [
       "   asset_number                                    title_of_plaque  \\\n",
       "0       1498995  2/4TH LIGHT ANTI-AIRCRAFT REGIMENT 9TH DIVISIO...   \n",
       "1       1499003   THE AUSTRALIAN LEGION OF EX-SERVICEMEN AND WOMEN   \n",
       "2       1499042  ROYAL AUSTRALIAN ENGINEERS (TRANSPORTATION SER...   \n",
       "3       1499163                                     2/33 BATTALION   \n",
       "4       1499155                 22ND AUSTRALIAN INFANTRY BATTALION   \n",
       "\n",
       "                               description_of_plaque tree_common_name  \\\n",
       "0  2/4TH LIGHT ANTI-AIRCRAFT REGIMENT 9TH DIVISIO...     London Plane   \n",
       "1  1944 1994 FOR ALL WHO SERVE THIS SPOTTED GUM W...      Spotted Gum   \n",
       "2  ROYAL AUSTRALIAN ENGINEERS (TRANSPORTATION SER...    River Red Gum   \n",
       "3  DEDICATED TO THOSE WHO SERVED N THE 2/33 BATTA...          UNKNOWN   \n",
       "4       22ND AUSTRALIAN INFANTRY BATTALION 1939-1945      English Elm   \n",
       "\n",
       "       tree_scientific_name date_of_tree_planted        lon         lat  \\\n",
       "0       Platanus acerifolia           1998-07-09 -37.831930  144.973212   \n",
       "1         Corymbia maculata           1998-07-09 -37.832137  144.972873   \n",
       "2  Eucalyptus camaldulensis           1998-07-09 -37.831394  144.972049   \n",
       "3           UNKNOWN UNKNOWN           2000-01-02 -37.828572  144.971739   \n",
       "4             Ulmus procera           1998-07-09 -37.828755  144.972360   \n",
       "\n",
       "                                            location  \n",
       "0  {'lon': 144.97321170883876, 'lat': -37.8319297...  \n",
       "1  {'lon': 144.9728731147446, 'lat': -37.83213732...  \n",
       "2  {'lon': 144.97204947974228, 'lat': -37.8313940...  \n",
       "3  {'lon': 144.97173886572406, 'lat': -37.8285718...  \n",
       "4  {'lon': 144.97236009726893, 'lat': -37.8287553...  "
      ]
     },
     "execution_count": 16,
     "metadata": {},
     "output_type": "execute_result"
    }
   ],
   "source": [
    "SENSOR_DATASET = 'plaques-located-at-the-shrine-of-remembrance'\n",
    "plaques = fetch_data(BASE_URL, SENSOR_DATASET, API_KEY)\n",
    "plaques.head()"
   ]
  },
  {
   "cell_type": "markdown",
   "id": "518d3192-af8b-4653-b8fc-7b2b5a061b5e",
   "metadata": {},
   "source": [
    "##### Splitting into longitude and latitude columns"
   ]
  },
  {
   "cell_type": "code",
   "execution_count": 17,
   "id": "2fdf3540-91cb-467a-915d-2011fc00f123",
   "metadata": {
    "tags": []
   },
   "outputs": [],
   "source": [
    "# Splitting into longitude and latitude columns\n",
    "plaques['longitude'] = plaques['location'].apply(lambda x: x['lon'])\n",
    "plaques['latitude'] = plaques['location'].apply(lambda x: x['lat'])"
   ]
  },
  {
   "cell_type": "markdown",
   "id": "037f1319-4a1b-4bee-9f62-2656f7128391",
   "metadata": {},
   "source": [
    "##### Drop unnecessary columns"
   ]
  },
  {
   "cell_type": "code",
   "execution_count": 18,
   "id": "7790b051-7043-4644-8d1b-864cb0d71acb",
   "metadata": {
    "tags": []
   },
   "outputs": [],
   "source": [
    "plaques.drop(columns=['asset_number', 'lon', 'lat'], inplace=True)"
   ]
  },
  {
   "cell_type": "markdown",
   "id": "54bb883d-8fd0-4d69-a7a3-985b4f9d2ae5",
   "metadata": {},
   "source": [
    "#### Dataset 5: Off-street car parks with capacity and type\n",
    "\n",
    "<a href=\"https://data.melbourne.vic.gov.au/explore/dataset/off-street-car-parks-with-capacity-and-type/information/\">Dataset Link</a>\n",
    "\n",
    "**Summary:** Data collected as part of the City of Melbourne's Census of Land Use and Employment (CLUE). The data covers the period 2002-2022.\n",
    "The number of off-street car parking spaces per property is recorded in CLUE. Car parking can be classified as:\n",
    "• Commercial: Car parking in a publicly accessible, paid parking facility\n",
    "• Residential: Car parking in a residential building or property\n",
    "• Private: Car parking in a non-residential building that is provided for use by staff, customers or visitors."
   ]
  },
  {
   "cell_type": "code",
   "execution_count": 19,
   "id": "dcc8d07b-4b64-459e-9f01-a8cce4b50ff8",
   "metadata": {
    "tags": []
   },
   "outputs": [
    {
     "data": {
      "text/html": [
       "<div>\n",
       "<style scoped>\n",
       "    .dataframe tbody tr th:only-of-type {\n",
       "        vertical-align: middle;\n",
       "    }\n",
       "\n",
       "    .dataframe tbody tr th {\n",
       "        vertical-align: top;\n",
       "    }\n",
       "\n",
       "    .dataframe thead th {\n",
       "        text-align: right;\n",
       "    }\n",
       "</style>\n",
       "<table border=\"1\" class=\"dataframe\">\n",
       "  <thead>\n",
       "    <tr style=\"text-align: right;\">\n",
       "      <th></th>\n",
       "      <th>census_year</th>\n",
       "      <th>block_id</th>\n",
       "      <th>property_id</th>\n",
       "      <th>base_property_id</th>\n",
       "      <th>building_address</th>\n",
       "      <th>clue_small_area</th>\n",
       "      <th>parking_type</th>\n",
       "      <th>parking_spaces</th>\n",
       "      <th>longitude</th>\n",
       "      <th>latitude</th>\n",
       "      <th>location</th>\n",
       "    </tr>\n",
       "  </thead>\n",
       "  <tbody>\n",
       "    <tr>\n",
       "      <th>0</th>\n",
       "      <td>2011</td>\n",
       "      <td>406</td>\n",
       "      <td>108925</td>\n",
       "      <td>108925</td>\n",
       "      <td>590 Spencer Street WEST MELBOURNE 3003</td>\n",
       "      <td>West Melbourne (Residential)</td>\n",
       "      <td>Residential</td>\n",
       "      <td>1</td>\n",
       "      <td>144.946686</td>\n",
       "      <td>-37.806656</td>\n",
       "      <td>{'lon': 144.94668561434997, 'lat': -37.8066556...</td>\n",
       "    </tr>\n",
       "    <tr>\n",
       "      <th>1</th>\n",
       "      <td>2011</td>\n",
       "      <td>406</td>\n",
       "      <td>108930</td>\n",
       "      <td>108930</td>\n",
       "      <td>582 Spencer Street WEST MELBOURNE 3003</td>\n",
       "      <td>West Melbourne (Residential)</td>\n",
       "      <td>Residential</td>\n",
       "      <td>2</td>\n",
       "      <td>144.946902</td>\n",
       "      <td>-37.806783</td>\n",
       "      <td>{'lon': 144.9469023048, 'lat': -37.80678326824...</td>\n",
       "    </tr>\n",
       "    <tr>\n",
       "      <th>2</th>\n",
       "      <td>2011</td>\n",
       "      <td>409</td>\n",
       "      <td>100440</td>\n",
       "      <td>100440</td>\n",
       "      <td>6-8 Anderson Street WEST MELBOURNE 3003</td>\n",
       "      <td>West Melbourne (Residential)</td>\n",
       "      <td>Residential</td>\n",
       "      <td>1</td>\n",
       "      <td>144.942130</td>\n",
       "      <td>-37.805921</td>\n",
       "      <td>{'lon': 144.94212996079926, 'lat': -37.8059208...</td>\n",
       "    </tr>\n",
       "    <tr>\n",
       "      <th>3</th>\n",
       "      <td>2011</td>\n",
       "      <td>412</td>\n",
       "      <td>100002</td>\n",
       "      <td>100002</td>\n",
       "      <td>17-37 Abbotsford Street WEST MELBOURNE 3003</td>\n",
       "      <td>West Melbourne (Residential)</td>\n",
       "      <td>Private</td>\n",
       "      <td>4</td>\n",
       "      <td>144.943421</td>\n",
       "      <td>-37.807176</td>\n",
       "      <td>{'lon': 144.94342093747295, 'lat': -37.8071761...</td>\n",
       "    </tr>\n",
       "    <tr>\n",
       "      <th>4</th>\n",
       "      <td>2011</td>\n",
       "      <td>413</td>\n",
       "      <td>100004</td>\n",
       "      <td>100004</td>\n",
       "      <td>51-57 Abbotsford Street WEST MELBOURNE 3003</td>\n",
       "      <td>West Melbourne (Residential)</td>\n",
       "      <td>Residential</td>\n",
       "      <td>4</td>\n",
       "      <td>144.944180</td>\n",
       "      <td>-37.806637</td>\n",
       "      <td>{'lon': 144.9441801118706, 'lat': -37.8066369008}</td>\n",
       "    </tr>\n",
       "  </tbody>\n",
       "</table>\n",
       "</div>"
      ],
      "text/plain": [
       "  census_year  block_id property_id base_property_id  \\\n",
       "0        2011       406      108925           108925   \n",
       "1        2011       406      108930           108930   \n",
       "2        2011       409      100440           100440   \n",
       "3        2011       412      100002           100002   \n",
       "4        2011       413      100004           100004   \n",
       "\n",
       "                              building_address               clue_small_area  \\\n",
       "0       590 Spencer Street WEST MELBOURNE 3003  West Melbourne (Residential)   \n",
       "1       582 Spencer Street WEST MELBOURNE 3003  West Melbourne (Residential)   \n",
       "2      6-8 Anderson Street WEST MELBOURNE 3003  West Melbourne (Residential)   \n",
       "3  17-37 Abbotsford Street WEST MELBOURNE 3003  West Melbourne (Residential)   \n",
       "4  51-57 Abbotsford Street WEST MELBOURNE 3003  West Melbourne (Residential)   \n",
       "\n",
       "  parking_type  parking_spaces   longitude   latitude  \\\n",
       "0  Residential               1  144.946686 -37.806656   \n",
       "1  Residential               2  144.946902 -37.806783   \n",
       "2  Residential               1  144.942130 -37.805921   \n",
       "3      Private               4  144.943421 -37.807176   \n",
       "4  Residential               4  144.944180 -37.806637   \n",
       "\n",
       "                                            location  \n",
       "0  {'lon': 144.94668561434997, 'lat': -37.8066556...  \n",
       "1  {'lon': 144.9469023048, 'lat': -37.80678326824...  \n",
       "2  {'lon': 144.94212996079926, 'lat': -37.8059208...  \n",
       "3  {'lon': 144.94342093747295, 'lat': -37.8071761...  \n",
       "4  {'lon': 144.9441801118706, 'lat': -37.8066369008}  "
      ]
     },
     "execution_count": 19,
     "metadata": {},
     "output_type": "execute_result"
    }
   ],
   "source": [
    "SENSOR_DATASET = 'off-street-car-parks-with-capacity-and-type'\n",
    "parking = fetch_data(BASE_URL, SENSOR_DATASET, API_KEY)\n",
    "parking.head()"
   ]
  },
  {
   "cell_type": "markdown",
   "id": "dfd9b330-82bf-42a2-85a1-5fd42b4abd1a",
   "metadata": {},
   "source": [
    "##### Splitting into longitude and latitude columns"
   ]
  },
  {
   "cell_type": "code",
   "execution_count": 20,
   "id": "513fe45a-7c1c-437e-849d-062f67e0dfac",
   "metadata": {
    "tags": []
   },
   "outputs": [],
   "source": [
    "# Splitting into longitude and latitude columns\n",
    "parking['longitude'] = parking['location'].apply(lambda x: x['lon'] if x is not None else None)\n",
    "parking['latitude'] = parking['location'].apply(lambda x: x['lat'] if x is not None else None)"
   ]
  },
  {
   "cell_type": "markdown",
   "id": "32c134ad-9b09-4ff9-809f-75cd95250327",
   "metadata": {},
   "source": [
    "## Part 1.3: Merging datasets"
   ]
  },
  {
   "cell_type": "markdown",
   "id": "9d262181-9f3b-4e81-a6ca-c7df33b0b761",
   "metadata": {
    "tags": []
   },
   "source": [
    "### Fix typo of datasets artworks' titles"
   ]
  },
  {
   "cell_type": "markdown",
   "id": "8a2f07f9-7b9f-424d-b50c-eb63fdfd470b",
   "metadata": {},
   "source": [
    "#### Between outdoor_artworks and memorials_sculptures"
   ]
  },
  {
   "cell_type": "code",
   "execution_count": 21,
   "id": "e4c4c9ce-8d72-4b31-a2ad-f309c4cde771",
   "metadata": {},
   "outputs": [
    {
     "data": {
      "text/plain": [
       "142"
      ]
     },
     "execution_count": 21,
     "metadata": {},
     "output_type": "execute_result"
    }
   ],
   "source": [
    "memorials_sculptures['title'].isin(outdoor_artworks['title']).sum()"
   ]
  },
  {
   "cell_type": "code",
   "execution_count": 22,
   "id": "2e62bf2e-3d6d-43d7-87b4-03cad841e03b",
   "metadata": {
    "tags": []
   },
   "outputs": [
    {
     "name": "stdout",
     "output_type": "stream",
     "text": [
      "Titles unique to memorials_sculptures:\n",
      "World War 1 Memorial\n",
      "Georges Fountain\n",
      "Macpherson-Robertson Fountain\n",
      "Maxims of Behaviour\n",
      "Reynold's Reserve Drinking Fountain\n",
      "King George V\n",
      "Children's Lake Waterfall\n",
      "R.J. & F.G.J. Hardy Memorial Drinking Fountain|Also Know as Hardy Drinking Fountain\n",
      "Grant's Fountain\n",
      "Pioneer Women's Memorial\n",
      "People's Path\n",
      "Larry La Trobe\n",
      "Lynch's Bridge Mosaic Mural\n",
      "Painted Poles\n",
      "Man with the Donkey\n",
      "Dairy Hall Window\n",
      "Sir Edward \"Weary\" Dunlop\n",
      "Dinny O'Hern Fountain\n",
      "Scar: A Stolen Vision\n",
      "Edmund Fitzgibbon Memorial\n",
      "\n",
      "Titles unique to outdoor_artworks:\n",
      "People''''''''s Path\n",
      "The River Runs Through It\n",
      "Dr Sun Yat Sen\n",
      "R.J. & F.G.J. Hardy Memorial Drinking Fountain\n",
      "Continuum\n",
      "Scar - A Stolen Vision\n",
      "Parallax\n",
      "Poise\n",
      "Standing by Tunnerminnerwait and Maulboyheenner\n",
      "Reynold''''s Reserve Drinking Fountain\n",
      "Blue Line\n",
      "Dinny O''''Hearn Fountain\n",
      "Monument Park\n",
      "Looking Glass\n",
      "Walk of Stars\n",
      "Bellair Street Mosaics\n",
      "Anchor\n",
      "Grant''s Fountain\n",
      "IOU\n",
      "Sir Edward ''''''''Weary'''''''' Dunlop\n",
      "Warin the Wombat\n",
      "Macpherson Robertson Fountain\n",
      "Ned and Dan\n",
      "Colony\n",
      "Australian Turkish Friendship Memorial (Seeds of Friendship)\n",
      "Heavy Metal Jam Session\n",
      "Man with the Donkey (aka Private John Simpson and his Little Donkey)\n",
      "Outside Inside Out\n",
      "World Within, World Without (Forgotten Australians)\n",
      "Painted Poles 1 [State Library of Victoria]\n",
      "CH2 Rooftop Landscape\n",
      "Meeting 1\n",
      "Faces\n",
      "Aqualung\n",
      "Parkville Diggers Memorial (WWI Memorial)\n",
      "Photo Art Billboard\n",
      "Art Wall\n",
      "Frog\n",
      "Futurescape\n",
      "Shadow Trees\n",
      "Maltese War Memorial\n",
      "King George V Memorial\n",
      "Children''''s Lake Waterfall\n",
      "Painted Poles 2\n",
      "Lynch''''s Bridge Mosaic Mural\n",
      "Threaded Field\n",
      "The Wave\n",
      "Car Nuggets\n",
      "Field of Play\n",
      "HeartLand\n",
      "Angel\n",
      "Once Upon a Slime\n",
      "Ophelia\n",
      "North Melbourne War Memorial\n",
      "Nearamnew\n",
      "Pioneer Women''''''''s Memorial\n",
      "Eagle\n",
      "Edmund FitzGibbon Memorial\n",
      "Structure of Vortices\n",
      "Red Centre\n"
     ]
    }
   ],
   "source": [
    "unique_titles_df1 = set(memorials_sculptures['title']) - set(outdoor_artworks['title'])\n",
    "unique_titles_df2 = set(outdoor_artworks['title']) - set(memorials_sculptures['title'])\n",
    "\n",
    "# Titles unique to memorials_sculptures\n",
    "print(\"Titles unique to memorials_sculptures:\")\n",
    "for title in unique_titles_df1:\n",
    "    print(title)\n",
    "\n",
    "# Titles unique to outdoor_artworks\n",
    "print(\"\\nTitles unique to outdoor_artworks:\")\n",
    "for title in unique_titles_df2:\n",
    "    print(title)"
   ]
  },
  {
   "cell_type": "markdown",
   "id": "4ecc25a5-2d4d-480f-9cfe-30795f7d91ab",
   "metadata": {},
   "source": [
    "##### Change values for memorials_sculptures"
   ]
  },
  {
   "cell_type": "code",
   "execution_count": 23,
   "id": "ccdc4d6a-60d1-41c4-a243-997316062634",
   "metadata": {
    "tags": []
   },
   "outputs": [],
   "source": [
    "value_map = {'Scar: A Stolen Vision': 'Scar - A Stolen Vision', \n",
    "             'King George V': 'King George V Memorial',\n",
    "             'Macpherson-Robertson Fountain': 'Macpherson Robertson Fountain',\n",
    "             'Man with the Donkey': 'Man with the Donkey (aka Private John Simpson and his Little Donkey)',\n",
    "             'Edmund Fitzgibbon Memorial': 'Edmund FitzGibbon Memorial'}\n",
    "\n",
    "memorials_sculptures['title'] = memorials_sculptures['title'].replace(value_map)"
   ]
  },
  {
   "cell_type": "code",
   "execution_count": 24,
   "id": "46d0c11d-0133-4eb7-a077-5ae6deb97b19",
   "metadata": {
    "tags": []
   },
   "outputs": [],
   "source": [
    "value_map = {\"Pioneer Women''''''''s Memorial\": \"Pioneer Women's Memorial\",\n",
    "             \"Reynold''''s Reserve Drinking Fountain\": \"Reynold's Reserve Drinking Fountain\",\n",
    "             \"Grant''s Fountain\": \"Grant's Fountain\",\n",
    "             \"R.J. & F.G.J. Hardy Memorial Drinking Fountain\": \"R.J. & F.G.J. Hardy Memorial Drinking Fountain|Also Know as Hardy Drinking Fountain\",\n",
    "             \"Sir Edward ''''''''Weary'''''''' Dunlop\": 'Sir Edward \"Weary\" Dunlop',\n",
    "             'Painted Poles 1 [State Library of Victoria]': 'Painted Poles',\n",
    "             \"People''''''''s Path\": \"People's Path\",\n",
    "             \"Children''''s Lake Waterfall\": \"Children's Lake Waterfall\",\n",
    "             \"Lynch''''s Bridge Mosaic Mural\": \"Lynch's Bridge Mosaic Mural\"}\n",
    "\n",
    "outdoor_artworks['title'] = outdoor_artworks['title'].replace(value_map)"
   ]
  },
  {
   "cell_type": "code",
   "execution_count": 25,
   "id": "6fbaafb6-e1c3-4653-9bc2-89c7e05db740",
   "metadata": {},
   "outputs": [
    {
     "data": {
      "text/plain": [
       "157"
      ]
     },
     "execution_count": 25,
     "metadata": {},
     "output_type": "execute_result"
    }
   ],
   "source": [
    "memorials_sculptures['title'].isin(outdoor_artworks['title']).sum()"
   ]
  },
  {
   "cell_type": "markdown",
   "id": "a7bf80a3-38c2-42b4-bf3f-400be9a395ab",
   "metadata": {},
   "source": [
    "### Between outdoor_artworks and fountain_monument"
   ]
  },
  {
   "cell_type": "code",
   "execution_count": 26,
   "id": "426f5b44-6499-4d28-bf96-7e5dbc06a028",
   "metadata": {
    "tags": []
   },
   "outputs": [
    {
     "data": {
      "text/plain": [
       "212"
      ]
     },
     "execution_count": 26,
     "metadata": {},
     "output_type": "execute_result"
    }
   ],
   "source": [
    "fountain_monument['name'].isin(outdoor_artworks['title']).sum()"
   ]
  },
  {
   "cell_type": "code",
   "execution_count": 27,
   "id": "7085a277-1784-460e-ba8a-d65430c3a2ab",
   "metadata": {
    "tags": []
   },
   "outputs": [
    {
     "name": "stdout",
     "output_type": "stream",
     "text": [
      "Titles unique to fountain_monument:\n",
      "A History Apparatus - Vessel, Craft & Beacon\n",
      "Dinny O'Hearn Fountain\n",
      "R.J. & F.G.J. Hardy Memorial Drinking Fountain\n",
      "Georges Fountain\n",
      "Chinese Lion Guardians\n",
      "Bust of Sir Samuel Gillott\n",
      "Motorcycle\n",
      "John Batman Memorial (1)\n",
      "Maxims of Behaviour\n",
      "Parrallax\n",
      "Another View, Site 17\n",
      "John Pascoe Fawkner\n",
      "South African War Memorial\n",
      "William Ievers Senior Memorial Drinking Fountain\n",
      "Feng Shui\n",
      "Australian Hellenic War Memorial\n",
      "Shoal Fly By\n",
      "Nurse Edith Cavell\n",
      "King George V\n",
      "Burke and Wills Cairn\n",
      "Pastor Sir Doug and Lady Gladys Nicholls\n",
      "Hotham Hill Paving Inlay\n",
      "Mockridge Fountain\n",
      "Duke and Duchess of York Memorial\n",
      "Photo art billboard\n",
      "Port Phillip Monument\n",
      "John Batman Memorial (2)\n",
      "Lady Janet Clarke Memorial\n",
      "Three Businessmen Who Brought Their Own Lunch\n",
      "Bust of Dr Louis Smith\n",
      "Webb Bridge\n",
      "Adam Lindsay Gordan Memorial\n",
      "Man with the Donkey\n",
      "Dolphin Fountain\n",
      "Larry LaTrobe\n",
      "William Ievers Junior Memorial Drinking Fountain\n",
      "Fault Line\n",
      "Dairy Hall Window\n",
      "Another View, Site 8\n",
      "Another View, Site 1\n",
      "Miraggio\n",
      "James C. Roberts\n",
      "Edmund Fitzgibbon Memorial\n",
      "Birrarung Wilam\n",
      "\n",
      "Titles unique to outdoor_artworks:\n",
      "Dr Sun Yat Sen\n",
      "Hotham Hill Pavement Inlay\n",
      "John Pascoe Fawkner Memorial\n",
      "Standing by Tunnerminnerwait and Maulboyheenner\n",
      "Sir William Brunton Drinking Fountain\n",
      "Bellair Street Mosaics\n",
      "Australian Turkish Friendship Memorial (Seeds of Friendship)\n",
      "Elliot Drinking Fountain\n",
      "Port Philip Monument\n",
      "Brunton Drinking Fountain West\n",
      "Meeting 1\n",
      "Motorcyclist Harold Parsons Memorial\n",
      "Koorie Mural\n",
      "Boer War Monument\n",
      "Maltese War Memorial\n",
      "William Ievers (Snr) Memorial Drinking Fountain\n",
      "Waterfall Fountain\n",
      "Burke & Wills Cairn\n",
      "Another View Site 17\n",
      "Structure of Vortices\n",
      "Victorian Rowing Association World War 1 Memorial\n",
      "Sir Samuel Gillott\n",
      "Raising the Rattler Pole\n",
      "Parallax\n",
      "Electric Supply Box D\n",
      "Fruition\n",
      "Birrarung Wilam [Common Ground]\n",
      "Blue Line\n",
      "Monument Park\n",
      "Ecophene\n",
      "Looking Glass\n",
      "World Within, World Without (Forgotten Australians)\n",
      "John Batman Memorial\n",
      "Field of Play\n",
      "Janet Lady Clarke Memorial Sculpture\n",
      "Miraggio [also known as Seated Figure]\n",
      "Ophelia\n",
      "Victoria Police Memorial\n",
      "Edmund FitzGibbon Memorial\n",
      "Red Centre\n",
      "The Dolphin Fountain\n",
      "Three Businessmen Who Brought Their Own Lunch: Batman, Swanston & Hoddle\n",
      "Warin the Wombat\n",
      "Argyle Square Piazza\n",
      "James C Roberts Memorial\n",
      "Widow and Children\n",
      "A History Apparatus - Vessel Craft & Beacon\n",
      "CH2 Rooftop Landscape\n",
      "Children's Lake Waterfall\n",
      "Faultline\n",
      "Nurse Edith Cavell Memorial\n",
      "Photo Art Billboard\n",
      "Futurescape\n",
      "Painted Poles 2\n",
      "Dr Louis Smith\n",
      "Nearamnew\n",
      "Pastor Sir Doug Nicholls and Lady Gladys Nicholls\n",
      "William Ievers (Jnr) Memorial Drinking Fountain\n",
      "The River Runs Through It\n",
      "Australian Hellenic Memorial\n",
      "John Mockridge Fountain\n",
      "Mermaid and Fish\n",
      "Dinny O''''Hearn Fountain\n",
      "North Melbourne War Memorial\n",
      "Colony\n",
      "Tianjin Garden Chinese Lion Guardians\n",
      "Heavy Metal Jam Session\n",
      "Man with the Donkey (aka Private John Simpson and his Little Donkey)\n",
      "John Batman Memorial [2]\n",
      "Adam Lindsay Gordon Memorial\n",
      "Brunton Drinking Fountain East\n",
      "Faces\n",
      "R.J. & F.G.J. Hardy Memorial Drinking Fountain|Also Know as Hardy Drinking Fountain\n",
      "Parkville Diggers Memorial (WWI Memorial)\n",
      "Frog\n",
      "Shadow Trees\n",
      "Another View Site 8\n",
      "King George V Memorial\n",
      "Great Petition\n",
      "Another View Site 1\n",
      "Once Upon a Slime\n",
      "South African War Memorial (Memorial to Fallen Soldiers)\n",
      "Duke & Duchess of York Memorial [also known as Temperence]\n"
     ]
    }
   ],
   "source": [
    "unique_titles_df3 = set(fountain_monument['name']) - set(outdoor_artworks['title'])\n",
    "unique_titles_df4 = set(outdoor_artworks['title']) - set(fountain_monument['name'])\n",
    "\n",
    "# Titles unique to fountain_monument\n",
    "print(\"Titles unique to fountain_monument:\")\n",
    "for title in unique_titles_df3:\n",
    "    print(title)\n",
    "\n",
    "# Titles unique to outdoor_artworks\n",
    "print(\"\\nTitles unique to outdoor_artworks:\")\n",
    "for title in unique_titles_df4:\n",
    "    print(title)"
   ]
  },
  {
   "cell_type": "code",
   "execution_count": 28,
   "id": "133e2eba-c8f0-4b46-a589-419d4a0bc2bc",
   "metadata": {
    "tags": []
   },
   "outputs": [],
   "source": [
    "value_map = {'Adam Lindsay Gordan Memorial': 'Adam Lindsay Gordon Memorial',\n",
    "             'Burke and Wills Cairn': 'Burke & Wills Cairn',\n",
    "             'Duke and Duchess of York Memorial': 'Duke & Duchess of York Memorial [also known as Temperence]',\n",
    "             'Edmund Fitzgibbon Memorial': 'Edmund FitzGibbon Memorial',\n",
    "             'Hotham Hill Paving Inlay': 'Hotham Hill Pavement Inlay',\n",
    "             'James C. Roberts': 'James C Roberts Memorial',\n",
    "             'John Pascoe Fawkner': 'John Pascoe Fawkner Memorial',\n",
    "             'King George V': 'King George V Memorial',\n",
    "             'Lady Janet Clarke Memorial': 'Janet Lady Clarke Memorial Sculpture',\n",
    "             'Man with the Donkey': 'Man with the Donkey (aka Private John Simpson and his Little Donkey)',\n",
    "             'Miraggio': 'Miraggio [also known as Seated Figure]',\n",
    "             'Motorcycle': 'Motorcyclist Harold Parsons Memorial',\n",
    "             'Nurse Edith Cavell': 'Nurse Edith Cavell Memorial',\n",
    "             'Parrallax': 'Parallax',\n",
    "             'Pastor Sir Doug and Lady Gladys Nicholls': 'Pastor Sir Doug Nicholls and Lady Gladys Nicholls',\n",
    "             'Photo art billboard': 'Photo Art Billboard',\n",
    "             'R.J. & F.G.J. Hardy Memorial Drinking Fountain': 'R.J. & F.G.J. Hardy Memorial Drinking Fountain|Also Know as Hardy Drinking Fountain',\n",
    "             'South African War Memorial': 'South African War Memorial (Memorial to Fallen Soldiers)',\n",
    "             'Three Businessmen Who Brought Their Own Lunch': 'Three Businessmen Who Brought Their Own Lunch: Batman, Swanston & Hoddle',\n",
    "             'William Ievers Junior Memorial Drinking Fountain': 'William Ievers (Jnr) Memorial Drinking Fountain',\n",
    "             'William Ievers Senior Memorial Drinking Fountain': 'William Ievers (Snr) Memorial Drinking Fountain',\n",
    "             'A History Apparatus - Vessel, Craft & Beacon': 'A History Apparatus - Vessel Craft & Beacon',\n",
    "             'Another View, Site 1': 'Another View Site 1',\n",
    "             'Another View, Site 17': 'Another View Site 17',\n",
    "             'Another View, Site 8': 'Another View Site 8',\n",
    "             'Australian Hellenic War Memorial': 'Australian Hellenic Memorial',\n",
    "             'Birrarung Wilam': 'Birrarung Wilam [Common Ground]',\n",
    "             'Fault Line': 'Faultline',\n",
    "             'John Batman Memorial (1)': 'John Batman Memorial',\n",
    "             'John Batman Memorial (2)': 'John Batman Memorial [2]',\n",
    "             'Port Phillip Monument': 'Port Philip Monument',\n",
    "             'Bust of Sir Samuel Gillott': 'Sir Samuel Gillott',\n",
    "             'Bust of Dr Louis Smith': 'Dr Louis Smith'\n",
    "}\n",
    "\n",
    "fountain_monument['name'] = fountain_monument['name'].replace(value_map)"
   ]
  },
  {
   "cell_type": "code",
   "execution_count": 29,
   "id": "c0b281bd-6b12-4fea-b1e7-a90fac81efb4",
   "metadata": {
    "tags": []
   },
   "outputs": [],
   "source": [
    "value_map = {\"Dinny O''''Hearn Fountain\": \"Dinny O'Hearn Fountain\"}\n",
    "\n",
    "outdoor_artworks['title'] = outdoor_artworks['title'].replace(value_map)"
   ]
  },
  {
   "cell_type": "code",
   "execution_count": 30,
   "id": "803b3ab8-8096-4589-82b4-a02b353d325b",
   "metadata": {
    "tags": []
   },
   "outputs": [
    {
     "data": {
      "text/plain": [
       "251"
      ]
     },
     "execution_count": 30,
     "metadata": {},
     "output_type": "execute_result"
    }
   ],
   "source": [
    "fountain_monument['name'].isin(outdoor_artworks['title']).sum()"
   ]
  },
  {
   "cell_type": "markdown",
   "id": "e658e775-6b4a-4768-a23e-16d25712adb8",
   "metadata": {},
   "source": [
    "### Between fountain_monument and memorials_sculptures"
   ]
  },
  {
   "cell_type": "code",
   "execution_count": 31,
   "id": "d3383b3f-3378-4dd4-8695-94d238773b1c",
   "metadata": {
    "tags": []
   },
   "outputs": [
    {
     "data": {
      "text/plain": [
       "219"
      ]
     },
     "execution_count": 31,
     "metadata": {},
     "output_type": "execute_result"
    }
   ],
   "source": [
    "fountain_monument['name'].isin(memorials_sculptures['title']).sum()"
   ]
  },
  {
   "cell_type": "code",
   "execution_count": 32,
   "id": "ef849031-fbe8-4d70-bea7-462f42f99318",
   "metadata": {
    "tags": []
   },
   "outputs": [
    {
     "name": "stdout",
     "output_type": "stream",
     "text": [
      "Titles unique to fountain_monument:\n",
      "Dinny O'Hearn Fountain\n",
      "Continuum\n",
      "Chinese Lion Guardians\n",
      "Parallax\n",
      "Poise\n",
      "Walk of Stars\n",
      "IOU\n",
      "Ned and Dan\n",
      "Anchor\n",
      "Feng Shui\n",
      "Shoal Fly By\n",
      "Outside Inside Out\n",
      "Aqualung\n",
      "Mockridge Fountain\n",
      "Photo Art Billboard\n",
      "Art Wall\n",
      "Threaded Field\n",
      "Webb Bridge\n",
      "The Wave\n",
      "Car Nuggets\n",
      "HeartLand\n",
      "Angel\n",
      "Dolphin Fountain\n",
      "Larry LaTrobe\n",
      "Eagle\n",
      "\n",
      "Titles unique to memorials_sculptures:\n",
      "The Dolphin Fountain\n",
      "World War 1 Memorial\n",
      "Raising the Rattler Pole\n",
      "John Mockridge Fountain\n",
      "Electric Supply Box D\n",
      "Fruition\n",
      "Mermaid and Fish\n",
      "Sir William Brunton Drinking Fountain\n",
      "Ecophene\n",
      "Argyle Square Piazza\n",
      "Tianjin Garden Chinese Lion Guardians\n",
      "Brunton Drinking Fountain East\n",
      "Widow and Children\n",
      "Elliot Drinking Fountain\n",
      "Brunton Drinking Fountain West\n",
      "Children's Lake Waterfall\n",
      "Koorie Mural\n",
      "Boer War Monument\n",
      "Larry La Trobe\n",
      "Waterfall Fountain\n",
      "Great Petition\n",
      "Victoria Police Memorial\n",
      "Dinny O'Hern Fountain\n",
      "Victorian Rowing Association World War 1 Memorial\n"
     ]
    }
   ],
   "source": [
    "unique_titles_df5 = set(fountain_monument['name']) - set(memorials_sculptures['title'])\n",
    "unique_titles_df6 = set(memorials_sculptures['title']) - set(fountain_monument['name'])\n",
    "\n",
    "# Titles unique to fountain_monument\n",
    "print(\"Titles unique to fountain_monument:\")\n",
    "for title in unique_titles_df5:\n",
    "    print(title)\n",
    "\n",
    "# Titles unique to memorials_sculptures\n",
    "print(\"\\nTitles unique to memorials_sculptures:\")\n",
    "for title in unique_titles_df6:\n",
    "    print(title)"
   ]
  },
  {
   "cell_type": "code",
   "execution_count": 33,
   "id": "f9362738-e957-4e20-899e-66aaf7512568",
   "metadata": {
    "tags": []
   },
   "outputs": [],
   "source": [
    "value_map = {\"Dinny O'Hern Fountain\": \"Dinny O'Hearn Fountain\",\n",
    "             \"Larry La Trobe\": \"Larry LaTrobe\"}\n",
    "\n",
    "memorials_sculptures['title'] = memorials_sculptures['title'].replace(value_map)"
   ]
  },
  {
   "cell_type": "code",
   "execution_count": 34,
   "id": "26f3ba18-0e19-46dc-812f-f975d0b77e55",
   "metadata": {
    "tags": []
   },
   "outputs": [
    {
     "data": {
      "text/plain": [
       "221"
      ]
     },
     "execution_count": 34,
     "metadata": {},
     "output_type": "execute_result"
    }
   ],
   "source": [
    "fountain_monument['name'].isin(memorials_sculptures['title']).sum()"
   ]
  },
  {
   "cell_type": "markdown",
   "id": "ac6dbaea-0802-41cd-bd07-c7fc4b59b914",
   "metadata": {
    "tags": []
   },
   "source": [
    "### Merging datasets"
   ]
  },
  {
   "cell_type": "markdown",
   "id": "fd20c52d-73f0-4ba8-9434-7d37386bccf3",
   "metadata": {},
   "source": [
    "#### Merge outdoor_artworks with memorials_sculptures"
   ]
  },
  {
   "cell_type": "code",
   "execution_count": 35,
   "id": "8e0b5569-b33c-41bd-9d4b-7e4ea4b98572",
   "metadata": {
    "tags": []
   },
   "outputs": [],
   "source": [
    "merged_df = pd.merge(outdoor_artworks, memorials_sculptures, on='title', suffixes=('_df1', '_df2'), how='outer')\n",
    "\n",
    "merged_df['latitude'] = merged_df['latitude_df1'].combine_first(merged_df['latitude_df2'])\n",
    "merged_df['longitude'] = merged_df['longitude_df1'].combine_first(merged_df['longitude_df2'])\n",
    "merged_df['object_type'] = merged_df['object_type_df1'].combine_first(merged_df['asset_type'])\n",
    "\n",
    "merged_df = merged_df[['road_segment', 'location', 'history', 'owner_type', 'description_df1', 'art_date', 'inscription',\n",
    "           'makers', 'property', 'title', 'latitude', 'longitude', 'object_type']]"
   ]
  },
  {
   "cell_type": "markdown",
   "id": "7b452eff-bcc7-4dac-9675-918fe1c68f2d",
   "metadata": {},
   "source": [
    "#### Merge with fountain_monument"
   ]
  },
  {
   "cell_type": "code",
   "execution_count": 36,
   "id": "f218fb8b-5051-4543-a84c-8fa707db2330",
   "metadata": {
    "tags": []
   },
   "outputs": [
    {
     "data": {
      "text/html": [
       "<div>\n",
       "<style scoped>\n",
       "    .dataframe tbody tr th:only-of-type {\n",
       "        vertical-align: middle;\n",
       "    }\n",
       "\n",
       "    .dataframe tbody tr th {\n",
       "        vertical-align: top;\n",
       "    }\n",
       "\n",
       "    .dataframe thead th {\n",
       "        text-align: right;\n",
       "    }\n",
       "</style>\n",
       "<table border=\"1\" class=\"dataframe\">\n",
       "  <thead>\n",
       "    <tr style=\"text-align: right;\">\n",
       "      <th></th>\n",
       "      <th>location</th>\n",
       "      <th>history</th>\n",
       "      <th>owner_type</th>\n",
       "      <th>description_df1</th>\n",
       "      <th>inscription</th>\n",
       "      <th>property</th>\n",
       "      <th>asset_type</th>\n",
       "      <th>address_point</th>\n",
       "      <th>artist</th>\n",
       "      <th>respective_author</th>\n",
       "      <th>structure</th>\n",
       "      <th>latitude</th>\n",
       "      <th>longitude</th>\n",
       "      <th>art_date</th>\n",
       "      <th>title</th>\n",
       "    </tr>\n",
       "  </thead>\n",
       "  <tbody>\n",
       "    <tr>\n",
       "      <th>0</th>\n",
       "      <td>Intersection of Swanston Street and Flinders L...</td>\n",
       "      <td>NaN</td>\n",
       "      <td>Owned</td>\n",
       "      <td>A patinated bronze sculpture, Beyond the Ocean...</td>\n",
       "      <td>NaN</td>\n",
       "      <td>NaN</td>\n",
       "      <td>Sculpture</td>\n",
       "      <td>44 Swanston Street, MELBOURNE</td>\n",
       "      <td>Loretta Quinn</td>\n",
       "      <td>City of Melbourne</td>\n",
       "      <td>Bronze sculpture on granite plinth</td>\n",
       "      <td>-37.816424</td>\n",
       "      <td>144.967062</td>\n",
       "      <td>1993</td>\n",
       "      <td>Beyond the Ocean of Existence</td>\n",
       "    </tr>\n",
       "    <tr>\n",
       "      <th>1</th>\n",
       "      <td>Malthouse Plaza approximately 33m NW of CitiPo...</td>\n",
       "      <td>NaN</td>\n",
       "      <td>Owned</td>\n",
       "      <td>Yellow painted welded plate steel sculpture.&lt;b...</td>\n",
       "      <td>NaN</td>\n",
       "      <td>Malthouse Plaza</td>\n",
       "      <td>Sculpture</td>\n",
       "      <td>51 Grant Street, SOUTHBANK</td>\n",
       "      <td>Ron Roberston-Swann</td>\n",
       "      <td>City of Melbourne</td>\n",
       "      <td>Steel plate sculpture</td>\n",
       "      <td>-37.826071</td>\n",
       "      <td>144.967733</td>\n",
       "      <td>1980</td>\n",
       "      <td>Vault</td>\n",
       "    </tr>\n",
       "    <tr>\n",
       "      <th>2</th>\n",
       "      <td>Gordon Reserve approximately 44m West of Depar...</td>\n",
       "      <td>NaN</td>\n",
       "      <td>Owned</td>\n",
       "      <td>William Stanford's bluestone fountain features...</td>\n",
       "      <td>STANFORD FOUNTAIN / ERECTED 1871 / THIS FOUNTA...</td>\n",
       "      <td>Gordon Reserve</td>\n",
       "      <td>Fountain</td>\n",
       "      <td>88 Spring Street, EAST MELBOURNE</td>\n",
       "      <td>William Stanford</td>\n",
       "      <td>City of Melbourne</td>\n",
       "      <td>Bluestone fountain</td>\n",
       "      <td>-37.812434</td>\n",
       "      <td>144.973955</td>\n",
       "      <td>c. 1870</td>\n",
       "      <td>Stanford Fountain</td>\n",
       "    </tr>\n",
       "    <tr>\n",
       "      <th>3</th>\n",
       "      <td>Buluk Park</td>\n",
       "      <td>NaN</td>\n",
       "      <td>Owned</td>\n",
       "      <td>Shadow Trees is an assemblage construction of ...</td>\n",
       "      <td>NaN</td>\n",
       "      <td>Buluk Park</td>\n",
       "      <td>Sculpture</td>\n",
       "      <td>NaN</td>\n",
       "      <td>Smart, Sally &lt;br&gt;</td>\n",
       "      <td>NaN</td>\n",
       "      <td>NaN</td>\n",
       "      <td>-37.820624</td>\n",
       "      <td>144.940952</td>\n",
       "      <td>2014</td>\n",
       "      <td>Shadow Trees</td>\n",
       "    </tr>\n",
       "    <tr>\n",
       "      <th>4</th>\n",
       "      <td>Fitzroy Gardens approximately 34m SW of The Pa...</td>\n",
       "      <td>NaN</td>\n",
       "      <td>Owned</td>\n",
       "      <td>Series of carvings on stump of one of the orig...</td>\n",
       "      <td>THE FAIRIES' TREE / CARVED BY OLA COHN, MBE AR...</td>\n",
       "      <td>Fitzroy Gardens</td>\n",
       "      <td>Sculpture</td>\n",
       "      <td>88 Clarendon Street, EAST MELBOURNE</td>\n",
       "      <td>Ola Cohn</td>\n",
       "      <td>City of Melbourne</td>\n",
       "      <td>Red Gum carving</td>\n",
       "      <td>-37.813410</td>\n",
       "      <td>144.981102</td>\n",
       "      <td>1934</td>\n",
       "      <td>Fairies Tree</td>\n",
       "    </tr>\n",
       "    <tr>\n",
       "      <th>...</th>\n",
       "      <td>...</td>\n",
       "      <td>...</td>\n",
       "      <td>...</td>\n",
       "      <td>...</td>\n",
       "      <td>...</td>\n",
       "      <td>...</td>\n",
       "      <td>...</td>\n",
       "      <td>...</td>\n",
       "      <td>...</td>\n",
       "      <td>...</td>\n",
       "      <td>...</td>\n",
       "      <td>...</td>\n",
       "      <td>...</td>\n",
       "      <td>...</td>\n",
       "      <td>...</td>\n",
       "    </tr>\n",
       "    <tr>\n",
       "      <th>312</th>\n",
       "      <td>NaN</td>\n",
       "      <td>NaN</td>\n",
       "      <td>NaN</td>\n",
       "      <td>NaN</td>\n",
       "      <td>NaN</td>\n",
       "      <td>NaN</td>\n",
       "      <td>Fountain</td>\n",
       "      <td>City Square, Collins St, MELBOURNE</td>\n",
       "      <td>Ron Jones, Simon Perry and Darryl Cowie</td>\n",
       "      <td>City of Melbourne</td>\n",
       "      <td>Concrete fountain</td>\n",
       "      <td>-37.815522</td>\n",
       "      <td>144.966994</td>\n",
       "      <td>c. 2000</td>\n",
       "      <td>Mockridge Fountain</td>\n",
       "    </tr>\n",
       "    <tr>\n",
       "      <th>313</th>\n",
       "      <td>NaN</td>\n",
       "      <td>NaN</td>\n",
       "      <td>NaN</td>\n",
       "      <td>NaN</td>\n",
       "      <td>NaN</td>\n",
       "      <td>NaN</td>\n",
       "      <td>Art</td>\n",
       "      <td>50 River Esplanade, DOCKLANDS</td>\n",
       "      <td>Robert Owen and Denton Corker Marshall</td>\n",
       "      <td>VicUrban</td>\n",
       "      <td>Pedestrian and cyclist bridge</td>\n",
       "      <td>-37.823976</td>\n",
       "      <td>144.947233</td>\n",
       "      <td>2003</td>\n",
       "      <td>Webb Bridge</td>\n",
       "    </tr>\n",
       "    <tr>\n",
       "      <th>314</th>\n",
       "      <td>NaN</td>\n",
       "      <td>NaN</td>\n",
       "      <td>NaN</td>\n",
       "      <td>NaN</td>\n",
       "      <td>NaN</td>\n",
       "      <td>NaN</td>\n",
       "      <td>Art</td>\n",
       "      <td>698 Collins Street, DOCKLANDS</td>\n",
       "      <td>Guan Wei</td>\n",
       "      <td>VicUrban</td>\n",
       "      <td>Multi-panel painting</td>\n",
       "      <td>-37.819823</td>\n",
       "      <td>144.951105</td>\n",
       "      <td>2003</td>\n",
       "      <td>Feng Shui</td>\n",
       "    </tr>\n",
       "    <tr>\n",
       "      <th>315</th>\n",
       "      <td>NaN</td>\n",
       "      <td>NaN</td>\n",
       "      <td>NaN</td>\n",
       "      <td>NaN</td>\n",
       "      <td>NaN</td>\n",
       "      <td>NaN</td>\n",
       "      <td>Fountain</td>\n",
       "      <td>4 Lansdowne Street, EAST MELBOURNE</td>\n",
       "      <td>June Arnold</td>\n",
       "      <td>City of Melbourne</td>\n",
       "      <td>Bronze and granite fountain</td>\n",
       "      <td>-37.811888</td>\n",
       "      <td>144.980016</td>\n",
       "      <td>1982</td>\n",
       "      <td>Dolphin Fountain</td>\n",
       "    </tr>\n",
       "    <tr>\n",
       "      <th>316</th>\n",
       "      <td>NaN</td>\n",
       "      <td>NaN</td>\n",
       "      <td>NaN</td>\n",
       "      <td>NaN</td>\n",
       "      <td>NaN</td>\n",
       "      <td>NaN</td>\n",
       "      <td>Art</td>\n",
       "      <td>Cohen Pl, CHINATOWN</td>\n",
       "      <td>unknown</td>\n",
       "      <td>City of Melbourne</td>\n",
       "      <td>Marble lions</td>\n",
       "      <td>-37.811254</td>\n",
       "      <td>144.969348</td>\n",
       "      <td>unknown</td>\n",
       "      <td>Chinese Lion Guardians</td>\n",
       "    </tr>\n",
       "  </tbody>\n",
       "</table>\n",
       "<p>317 rows × 15 columns</p>\n",
       "</div>"
      ],
      "text/plain": [
       "                                              location history owner_type  \\\n",
       "0    Intersection of Swanston Street and Flinders L...     NaN      Owned   \n",
       "1    Malthouse Plaza approximately 33m NW of CitiPo...     NaN      Owned   \n",
       "2    Gordon Reserve approximately 44m West of Depar...     NaN      Owned   \n",
       "3                                           Buluk Park     NaN      Owned   \n",
       "4    Fitzroy Gardens approximately 34m SW of The Pa...     NaN      Owned   \n",
       "..                                                 ...     ...        ...   \n",
       "312                                                NaN     NaN        NaN   \n",
       "313                                                NaN     NaN        NaN   \n",
       "314                                                NaN     NaN        NaN   \n",
       "315                                                NaN     NaN        NaN   \n",
       "316                                                NaN     NaN        NaN   \n",
       "\n",
       "                                       description_df1  \\\n",
       "0    A patinated bronze sculpture, Beyond the Ocean...   \n",
       "1    Yellow painted welded plate steel sculpture.<b...   \n",
       "2    William Stanford's bluestone fountain features...   \n",
       "3    Shadow Trees is an assemblage construction of ...   \n",
       "4    Series of carvings on stump of one of the orig...   \n",
       "..                                                 ...   \n",
       "312                                                NaN   \n",
       "313                                                NaN   \n",
       "314                                                NaN   \n",
       "315                                                NaN   \n",
       "316                                                NaN   \n",
       "\n",
       "                                           inscription         property  \\\n",
       "0                                                  NaN              NaN   \n",
       "1                                                  NaN  Malthouse Plaza   \n",
       "2    STANFORD FOUNTAIN / ERECTED 1871 / THIS FOUNTA...   Gordon Reserve   \n",
       "3                                                  NaN       Buluk Park   \n",
       "4    THE FAIRIES' TREE / CARVED BY OLA COHN, MBE AR...  Fitzroy Gardens   \n",
       "..                                                 ...              ...   \n",
       "312                                                NaN              NaN   \n",
       "313                                                NaN              NaN   \n",
       "314                                                NaN              NaN   \n",
       "315                                                NaN              NaN   \n",
       "316                                                NaN              NaN   \n",
       "\n",
       "    asset_type                        address_point  \\\n",
       "0    Sculpture        44 Swanston Street, MELBOURNE   \n",
       "1    Sculpture           51 Grant Street, SOUTHBANK   \n",
       "2     Fountain     88 Spring Street, EAST MELBOURNE   \n",
       "3    Sculpture                                  NaN   \n",
       "4    Sculpture  88 Clarendon Street, EAST MELBOURNE   \n",
       "..         ...                                  ...   \n",
       "312   Fountain   City Square, Collins St, MELBOURNE   \n",
       "313        Art        50 River Esplanade, DOCKLANDS   \n",
       "314        Art        698 Collins Street, DOCKLANDS   \n",
       "315   Fountain   4 Lansdowne Street, EAST MELBOURNE   \n",
       "316        Art                  Cohen Pl, CHINATOWN   \n",
       "\n",
       "                                      artist  respective_author  \\\n",
       "0                              Loretta Quinn  City of Melbourne   \n",
       "1                        Ron Roberston-Swann  City of Melbourne   \n",
       "2                           William Stanford  City of Melbourne   \n",
       "3                          Smart, Sally <br>                NaN   \n",
       "4                                   Ola Cohn  City of Melbourne   \n",
       "..                                       ...                ...   \n",
       "312  Ron Jones, Simon Perry and Darryl Cowie  City of Melbourne   \n",
       "313   Robert Owen and Denton Corker Marshall           VicUrban   \n",
       "314                                 Guan Wei           VicUrban   \n",
       "315                              June Arnold  City of Melbourne   \n",
       "316                                  unknown  City of Melbourne   \n",
       "\n",
       "                              structure   latitude   longitude art_date  \\\n",
       "0    Bronze sculpture on granite plinth -37.816424  144.967062     1993   \n",
       "1                 Steel plate sculpture -37.826071  144.967733     1980   \n",
       "2                    Bluestone fountain -37.812434  144.973955  c. 1870   \n",
       "3                                   NaN -37.820624  144.940952     2014   \n",
       "4                       Red Gum carving -37.813410  144.981102     1934   \n",
       "..                                  ...        ...         ...      ...   \n",
       "312                   Concrete fountain -37.815522  144.966994  c. 2000   \n",
       "313       Pedestrian and cyclist bridge -37.823976  144.947233     2003   \n",
       "314                Multi-panel painting -37.819823  144.951105     2003   \n",
       "315         Bronze and granite fountain -37.811888  144.980016     1982   \n",
       "316                        Marble lions -37.811254  144.969348  unknown   \n",
       "\n",
       "                             title  \n",
       "0    Beyond the Ocean of Existence  \n",
       "1                            Vault  \n",
       "2                Stanford Fountain  \n",
       "3                     Shadow Trees  \n",
       "4                     Fairies Tree  \n",
       "..                             ...  \n",
       "312             Mockridge Fountain  \n",
       "313                    Webb Bridge  \n",
       "314                      Feng Shui  \n",
       "315               Dolphin Fountain  \n",
       "316         Chinese Lion Guardians  \n",
       "\n",
       "[317 rows x 15 columns]"
      ]
     },
     "execution_count": 36,
     "metadata": {},
     "output_type": "execute_result"
    }
   ],
   "source": [
    "fountain_monument.rename(columns={'name':'title'}, inplace=True)\n",
    "\n",
    "merged_df = pd.merge(merged_df, fountain_monument, suffixes=('_df1', '_df2'), on = 'title', how = 'outer')\n",
    "merged_df.fillna(value=np.nan, inplace=True)\n",
    "\n",
    "merged_df['asset_type'] = merged_df['object_type'].combine_first(merged_df['asset_type'])\n",
    "merged_df['latitude'] = merged_df['latitude_df1'].combine_first(merged_df['latitude_df2'])\n",
    "merged_df['longitude'] = merged_df['longitude_df1'].combine_first(merged_df['longitude_df2'])\n",
    "merged_df['artist'] = merged_df['artist'].combine_first(merged_df['makers'])\n",
    "merged_df['location'] = merged_df['location'].combine_first(merged_df['road_segment'])\n",
    "merged_df['art_date'] = merged_df['art_date_df2'].combine_first(merged_df['art_date_df1'])\n",
    "\n",
    "merged_df = merged_df[['location', 'history', 'owner_type', 'description_df1','inscription', 'property', 'asset_type', 'address_point', 'artist', \n",
    "                       'respective_author', 'structure', 'latitude', 'longitude', 'art_date', 'title']]\n",
    "\n",
    "merged_df"
   ]
  },
  {
   "cell_type": "markdown",
   "id": "24e56041-2088-471b-9f94-ba0963af6644",
   "metadata": {},
   "source": [
    "#### Convert art_date to number"
   ]
  },
  {
   "cell_type": "code",
   "execution_count": 37,
   "id": "cc7dc373-57c5-4ad1-88b8-88a1aa4d5c59",
   "metadata": {
    "tags": []
   },
   "outputs": [
    {
     "data": {
      "text/plain": [
       "array(['1993', '1980', 'c. 1870', '2014', '1934', '1912', '1933', '1995',\n",
       "       '1992', '1996', '2003', '1994', '2001', '2005', 'c. 1880',\n",
       "       'various', '1780', '1916', '1938', '2010', 'c. 1970', '1862',\n",
       "       '2007', '1887', '1900-1903', '1936', '1873', '2008', '1988',\n",
       "       '1939', '1920', 'unknown', '2012', '1903', '1982', '2013', '2002',\n",
       "       '2006', '1901', '2004', '1981', '1926', '1999', '1935', '1950',\n",
       "       '1998', '1960', '1952', '1973', '1913', '1978', '1937', '1905',\n",
       "       '1911', '1965', '1923', '1948', '1997', 'c. 1935', 'c1920', '1864',\n",
       "       '1930', '2011', '1904', '1907', 'c. 2000', '1902', 'c. 1850',\n",
       "       '1931', '1925', '1940', 'c. 1900', 'c1936', '1974', '1863', '2000',\n",
       "       '2016', '1910', '1941', '1978-1979', '1914', '1994-1995', '1880',\n",
       "       'c. 1888', '1865', '1970', '1908', '2009', '1964', '1890', '1871',\n",
       "       'c1933', '1915', '1975', '1877', '1992 and 1996', nan],\n",
       "      dtype=object)"
      ]
     },
     "execution_count": 37,
     "metadata": {},
     "output_type": "execute_result"
    }
   ],
   "source": [
    "merged_df['art_date'].unique()"
   ]
  },
  {
   "cell_type": "code",
   "execution_count": 38,
   "id": "ecf96cb0-8773-4036-ba5e-a4cf87bb3936",
   "metadata": {
    "tags": []
   },
   "outputs": [
    {
     "data": {
      "text/plain": [
       "array(['1993', '1980', 1870, '2014', '1934', '1912', '1933', '1995',\n",
       "       '1992', '1996', '2003', '1994', '2001', '2005', 1880, 'various',\n",
       "       '1780', '1916', '1938', '2010', 1970, '1862', '2007', '1887', 1903,\n",
       "       '1936', '1873', '2008', '1988', '1939', '1920', nan, '2012',\n",
       "       '1903', '1982', '2013', '2002', '2006', '1901', '2004', '1981',\n",
       "       '1926', '1999', '1935', '1950', '1998', '1960', '1952', '1973',\n",
       "       '1913', '1978', '1937', '1905', '1911', '1965', '1923', '1948',\n",
       "       '1997', 1935, 1920, '1864', '1930', '2011', '1904', '1907', 2000,\n",
       "       '1902', 1850, '1931', '1925', '1940', 1900, 1936, '1974', '1863',\n",
       "       '2000', '2016', '1910', '1941', 1979, '1914', 1995, '1880', 1888,\n",
       "       '1865', '1970', '1908', '2009', '1964', '1890', '1871', 1933,\n",
       "       '1915', '1975', '1877', 1996], dtype=object)"
      ]
     },
     "execution_count": 38,
     "metadata": {},
     "output_type": "execute_result"
    }
   ],
   "source": [
    "merged_df['art_date'].replace({'c. 1870': 1870, 'c. 1880': 1880,  '1900-1903': 1903, 'unknown': np.nan, 'c. 1970': 1970,\n",
    "                               'c. 1935': 1935, 'c1920': 1920, 'c. 2000': 2000, 'c. 1850': 1850, 'c. 1900': 1900,\n",
    "                               'c1936': 1936, '1978-1979': 1979, '1994-1995': 1995, 'c. 1888': 1888, '1992 and 1996': 1996, 'c1933': 1933}, inplace=True)\n",
    "merged_df['art_date'].unique()"
   ]
  },
  {
   "cell_type": "markdown",
   "id": "33e7505e-23d6-4c04-a3db-283dffaa3841",
   "metadata": {
    "tags": []
   },
   "source": [
    "# Part 2: Overview about Artworks in Melbourne"
   ]
  },
  {
   "cell_type": "markdown",
   "id": "8ac5513a-3148-4c6f-bff3-f1eddef8a542",
   "metadata": {},
   "source": [
    "#### Number of Artworks Over Years"
   ]
  },
  {
   "cell_type": "code",
   "execution_count": 39,
   "id": "e9f0aff2-329c-4072-8c68-321b9342a205",
   "metadata": {
    "tags": []
   },
   "outputs": [
    {
     "data": {
      "image/png": "[encoded data removed]",
      "text/plain": [
       "<Figure size 2000x600 with 1 Axes>"
      ]
     },
     "metadata": {},
     "output_type": "display_data"
    }
   ],
   "source": [
    "# Convert 'art_date' column to datetime, ignoring errors and coercing invalid values to NaT\n",
    "merged_df['art_date'] = pd.to_datetime(merged_df['art_date'], errors='coerce')\n",
    "\n",
    "# Drop rows with NaT values\n",
    "merged_df.dropna(subset=['art_date'], inplace=True)\n",
    "\n",
    "# Group by year and count the number of artworks\n",
    "artworks_per_year = merged_df.groupby(merged_df['art_date'].dt.year).size()\n",
    "\n",
    "# Plotting the line chart\n",
    "plt.figure(figsize=(20, 6))\n",
    "artworks_per_year.plot(kind='line', color='#08af64', linestyle='-')\n",
    "plt.title('Number of Artworks Over Years')\n",
    "plt.xlabel('Year')\n",
    "plt.ylabel('Number of Artworks')\n",
    "plt.grid(True)\n",
    "\n",
    "# Set x-ticks at intervals (every 5 years)\n",
    "plt.xticks(range(min(artworks_per_year.index), max(artworks_per_year.index)+1, 5), rotation=45)\n",
    "\n",
    "plt.tight_layout()\n",
    "plt.show()"
   ]
  },
  {
   "cell_type": "markdown",
   "id": "0a986538-fb04-4f1a-b0f6-320b42fc159d",
   "metadata": {},
   "source": [
    "#### Number of Artworks by Type"
   ]
  },
  {
   "cell_type": "code",
   "execution_count": 40,
   "id": "eabbfa44-e665-4203-9f66-1bb7e3ef00e6",
   "metadata": {
    "tags": []
   },
   "outputs": [
    {
     "data": {
      "image/png": "[encoded data removed]",
      "text/plain": [
       "<Figure size 1000x800 with 1 Axes>"
      ]
     },
     "metadata": {},
     "output_type": "display_data"
    }
   ],
   "source": [
    "# Count the number of rows based on each unique value in the \"asset_type\" column\n",
    "asset_type_counts = merged_df['asset_type'].value_counts()\n",
    "\n",
    "# Plotting the bar chart\n",
    "plt.figure(figsize=(10, 8))\n",
    "asset_type_counts.plot(kind='bar', color='#14a38e')\n",
    "plt.title('Number of Artworks by Asset Type')\n",
    "plt.xlabel('Asset Type')\n",
    "plt.ylabel('')\n",
    "plt.xticks(rotation=45, ha='right')  # Rotate x-axis labels for better readability\n",
    "plt.tight_layout()\n",
    "plt.show()"
   ]
  },
  {
   "cell_type": "markdown",
   "id": "803293c5-b497-4b80-ab0f-f9c3039ab45f",
   "metadata": {},
   "source": [
    "#### Artworks search tool for users"
   ]
  },
  {
   "cell_type": "code",
   "execution_count": 41,
   "id": "8a1db09c-540c-434c-86b0-610edbe179b6",
   "metadata": {
    "tags": []
   },
   "outputs": [
    {
     "name": "stdout",
     "output_type": "stream",
     "text": [
      "\u001b[1mThe Artwork you're looking for is:\u001b[0m Koorie Mural\n",
      "\u001b[1mArtist:\u001b[0m Marie Clark and Sonja Hodge\n",
      "\u001b[1mYear:\u001b[0m 1995\n",
      "\u001b[1mType:\u001b[0m Mural\n",
      "\u001b[1mStructure:\u001b[0m nan\n",
      "\u001b[1mArtwork Description:\u001b[0m Mural in the Carlton Baths.\n",
      "\u001b[1mAddress:\u001b[0m Data not available\n",
      "\u001b[1mLocation Description:\u001b[0m City Baths approximately 27m North of Poolhouse Coffee, 6 Franklin Street, Melbourne, 3000\n",
      "\u001b[1mHistory:\u001b[0m Specifically designed for the Carlton Baths Community Centre\n",
      "\n",
      "\u001b[1mThe Artwork you're looking for is:\u001b[0m Lynch's Bridge Mosaic Mural\n",
      "\u001b[1mArtist:\u001b[0m Elizabeth MacKinnon\n",
      "\u001b[1mYear:\u001b[0m 1998\n",
      "\u001b[1mType:\u001b[0m Mural\n",
      "\u001b[1mStructure:\u001b[0m Ceramic tile mural\n",
      "\u001b[1mArtwork Description:\u001b[0m The mural depicts the stockmen with their horses and dogs, driving sheep and cattle to market as they did for many years. <br><br>In 1992, Elizabeth MacKinnon was commissioned to create a public artwork for the old Newmarket saleyards, transformed into a residential neighbourhood as part of the state government Lynch's Bridge Project. Commissioned at a key juncture in the site's life, the mosaic recollects the saleyards' past and acknowledges its future through its two pictorially distinct parts. The mosaic mural was gifted to the City of Melbourne by the Victorian state government. Before its official unveiling at Epsom Road underpass in 1998, it toured to towns in country Victoria and was displayed at Footscray's Living Museum of the West. <br><br>The Epsom Road underpass was known as `the back gate' during the saleyards' 126-year history. The back gate was where all livestock passed following its auction, each beast counted so a fee could be levied for the City Council. It is here that the mural is sited. <br>During MacKinnon's research for the part known as `In Memory of the Newmarket Saleyards' she consulted with former stockmen and older community members to pay homage to the saleyards and to those whose working lives were structured by it. <br><br>MacKinnon worked closely with members of the new Lynch's Bridge community to devise the 12 panels comprising `To the Future'. This section of the mural expresses a sense of place for residents, ranging over their cultural and migratory heritage and referencing the history of the area's natural environment.<br>\n",
      "\u001b[1mAddress:\u001b[0m Epsom Road Underpass, KENSINGTON\n",
      "\u001b[1mLocation Description:\u001b[0m Epsom Road between Westbourne Road and Smithfield Road approximately 48m North of 2 Coopers Lane, Kensington, 3031\n",
      "\u001b[1mHistory:\u001b[0m Data not available\n",
      "\n"
     ]
    }
   ],
   "source": [
    "def search_by_keyword(keyword):\n",
    "    matches = merged_df[merged_df['title'].str.contains(keyword, case=False)]\n",
    "    \n",
    "    if not matches.empty:\n",
    "        for index, row in matches.iterrows():\n",
    "            print(f\"\\033[1mThe Artwork you're looking for is:\\033[0m {row['title']}\")\n",
    "            print(f\"\\033[1mArtist:\\033[0m {row['artist'] if not pd.isnull(row['artist']) else 'Data not available'}\")\n",
    "            print(f\"\\033[1mYear:\\033[0m {row['art_date'].year if not pd.isnull(row['artist']) else 'Data not available'}\")\n",
    "            print(f\"\\033[1mType:\\033[0m {row['asset_type'] if not pd.isnull(row['asset_type']) else 'Data not available'}\")\n",
    "            print(f\"\\033[1mStructure:\\033[0m {row['structure'] if not pd.isnull(row['asset_type']) else 'Data not available'}\")\n",
    "            print(f\"\\033[1mArtwork Description:\\033[0m {row['description_df1'] if not pd.isnull(row['asset_type']) else 'Data not available'}\")\n",
    "            print(f\"\\033[1mAddress:\\033[0m {row['address_point'] if not pd.isnull(row['address_point']) else 'Data not available'}\")\n",
    "            print(f\"\\033[1mLocation Description:\\033[0m {row['location'] if not pd.isnull(row['location']) else 'Data not available'}\")\n",
    "            print(f\"\\033[1mHistory:\\033[0m {row['history'] if not pd.isnull(row['history']) else 'Data not available'}\")\n",
    "            print()\n",
    "    else:\n",
    "        print(\"No matches found.\")\n",
    "\n",
    "# search_term = input(\"Enter a keyword to search: \")\n",
    "search_term = \"mural\"\n",
    "search_by_keyword(search_term)"
   ]
  },
  {
   "cell_type": "markdown",
   "id": "bb80ea94-b2fe-4159-bf83-458d95ef7fd2",
   "metadata": {
    "tags": []
   },
   "source": [
    "# Part 3: Creating maps"
   ]
  },
  {
   "cell_type": "code",
   "execution_count": 42,
   "id": "5473ed51-5b32-4292-9bd0-d296a42aacaa",
   "metadata": {
    "tags": []
   },
   "outputs": [
    {
     "data": {
      "application/vnd.jupyter.widget-view+json": {
       "model_id": "f04c93852fa640d4b0b773b3d46cd004",
       "version_major": 2,
       "version_minor": 0
      },
      "text/plain": [
       "interactive(children=(Text(value='', description='Location:', placeholder='Search by Location'), Dropdown(desc…"
      ]
     },
     "metadata": {},
     "output_type": "display_data"
    }
   ],
   "source": [
    "melbourne_coords = [-37.8136, 144.9631]\n",
    "\n",
    "# Define function to calculate distance between two coordinates\n",
    "def calculate_distance(lat1, lon1, lat2, lon2):\n",
    "    # Convert latitude and longitude from degrees to radians\n",
    "    lat1, lon1, lat2, lon2 = map(radians, [lat1, lon1, lat2, lon2])\n",
    "    \n",
    "    # Haversine formula to calculate distance\n",
    "    dlon = lon2 - lon1\n",
    "    dlat = lat2 - lat1\n",
    "    a = sin(dlat / 2) ** 2 + cos(lat1) * cos(lat2) * sin(dlon / 2) ** 2\n",
    "    c = 2 * atan2(sqrt(a), sqrt(1 - a))\n",
    "    distance = 6371 * c  # Radius of the Earth in kilometers\n",
    "    \n",
    "    return distance\n",
    "\n",
    "# Define function to find top 5 car parks near artwork\n",
    "def find_nearest_car_parks(artwork_lat, artwork_lon, parking_data):\n",
    "    # Calculate distances to all car parks\n",
    "    distances = []\n",
    "    for index, row in parking_data.iterrows():\n",
    "        distance = calculate_distance(artwork_lat, artwork_lon, row['latitude'], row['longitude'])\n",
    "        distances.append((row['building_address'], distance))\n",
    "    \n",
    "    # Sort distances and return top 5 car parks\n",
    "    sorted_distances = sorted(distances, key=lambda x: x[1])\n",
    "    top_5_car_parks = sorted_distances[:5]\n",
    "    \n",
    "    return top_5_car_parks\n",
    "\n",
    "# Modify add_markers function to include markers for car parks\n",
    "def add_markers(map_obj, data, parking_data):\n",
    "    for index, row in data.iterrows():\n",
    "        folium.Marker(location=[row['latitude'], row['longitude']], popup=row['title']).add_to(map_obj)\n",
    "        \n",
    "        # Find top 5 car parks near artwork\n",
    "        nearest_car_parks = find_nearest_car_parks(row['latitude'], row['longitude'], parking_data)\n",
    "        \n",
    "        # Add markers for car parks in green\n",
    "        for car_park in nearest_car_parks:\n",
    "            folium.Marker(location=parking_data.loc[parking_data['building_address'] == car_park[0], ['latitude', 'longitude']].values[0], \n",
    "                          popup=car_park[0], \n",
    "                          icon=folium.Icon(color='green')).add_to(map_obj)\n",
    "\n",
    "# Define function to update map based on search term and object type\n",
    "def update_map(search_term, object_type):\n",
    "    # Filter data based on search term and object type\n",
    "    if search_term.strip():\n",
    "        filtered_data = outdoor_artworks[outdoor_artworks['location'].str.contains(search_term, case=False)]\n",
    "    else:\n",
    "        filtered_data = outdoor_artworks.copy()\n",
    "    \n",
    "    if object_type != \"All\":\n",
    "        filtered_data = filtered_data[filtered_data['object_type'] == object_type]\n",
    "    \n",
    "    # Create map object\n",
    "    melbourne_map = folium.Map(location=melbourne_coords, zoom_start=12)\n",
    "    \n",
    "    # Add markers to the map\n",
    "    add_markers(melbourne_map, filtered_data, parking)\n",
    "    \n",
    "    # Display the map\n",
    "    display(melbourne_map)\n",
    "\n",
    "# Create interactive widget\n",
    "interactive_map = widgets.interactive(update_map,\n",
    "                                      search_term=widgets.Text(value='', placeholder='Search by Location', description='Location:'),\n",
    "                                      object_type=widgets.Dropdown(options=['All'] + outdoor_artworks['object_type'].unique().tolist(), value='All', description='Object Type:')\n",
    "                                     )\n",
    "\n",
    "# Display the interactive widget\n",
    "display(interactive_map)"
   ]
  }
 ],
 "metadata": {
  "colab": {
   "provenance": [],
   "toc_visible": true
  },
  "kernelspec": {
   "display_name": "Python 3 (ipykernel)",
   "language": "python",
   "name": "python3"
  },
  "language_info": {
   "codemirror_mode": {
    "name": "ipython",
    "version": 3
   },
   "file_extension": ".py",
   "mimetype": "text/x-python",
   "name": "python",
   "nbconvert_exporter": "python",
   "pygments_lexer": "ipython3",
   "version": "3.11.3"
  }
 },
 "nbformat": 4,
 "nbformat_minor": 5
}
