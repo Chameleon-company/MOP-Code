{
 "cells": [
  {
   "cell_type": "markdown",
   "metadata": {
    "id": "uC5mK3RQULFs"
   },
   "source": [
    "<div class=\"usecase-title\">Tourism Impact Analysis</div>\n",
    "\n",
    "<div class=\"usecase-authors\"><b>Authored by: </b> Taehwan Jung</div>"
   ]
  },
  {
   "cell_type": "markdown",
   "metadata": {
    "id": "GYZwnutIULFt"
   },
   "source": [
    "<div class=\"usecase-duration\"><b>Duration:</b> 90 mins</div>\n",
    "\n",
    "<div class=\"usecase-level-skill\">\n",
    "    <div class=\"usecase-level\"><b>Level: </b>Intermediate</div>\n",
    "    <div class=\"usecase-skill\"><b>Pre-requisite Skills: </b>Python, Haversine Distance, Folium Maps </div>\n",
    "</div>"
   ]
  },
  {
   "cell_type": "markdown",
   "metadata": {
    "id": "EczOAMlbULFt"
   },
   "source": [
    "**Scenario**\n",
    "\n",
    "Understanding how tourists impact various regions of the city is important for enhancing tourism strategies and effectively addressing transportation and environmental challenges. The primary objective is to analyze pedestrian data to estimate the influence of tourists in different areas. By quantifying the impact of tourists on pedestrian activity, the city aims to make informed decisions that will improve urban planning, optimize resource allocation, and enhance the overall experience for both residents and visitors."
   ]
  },
  {
   "cell_type": "markdown",
   "metadata": {
    "id": "TjpIAj-BULFu"
   },
   "source": [
    "**User story**\n",
    "\n",
    "As a city planner for Melbourne, I want to understand how tourists impact various regions of the city so that I can improve urban planning and optimize resource allocation needed for maintaining transportation and environmental sustainability."
   ]
  },
  {
   "cell_type": "markdown",
   "metadata": {
    "id": "iGBbnaLkULFv"
   },
   "source": [
    "What this use case will teach me is"
   ]
  },
  {
   "cell_type": "markdown",
   "metadata": {
    "id": "7h32YJqUULFv"
   },
   "source": [
    "At the end of this use case you will:\n",
    "- learn how to load datasets using APIs\n",
    "- learn how to create maps and visualize data\n",
    "- learn how to analyze data relationship using correlation and regression analysis\n",
    "- learn how to analyze data using Arima and clustering techniques\n"
   ]
  },
  {
   "cell_type": "markdown",
   "metadata": {
    "id": "SQP-smlbULFw"
   },
   "source": [
    "**Datasets**"
   ]
  },
  {
   "cell_type": "markdown",
   "metadata": {
    "id": "UByxgjRLULFx"
   },
   "source": [
    "**1. Pedestrian Counting per Hour:**\n",
    "Contains hourly data on the number of pedestrians counted at various sensor locations throughout Melbourne, including sensor IDs, timestamps, and location details.\n",
    "\n",
    "**2. Bus Stops for Melbourne Visitor Shuttles:** Provides information on the locations of bus stops used by the Melbourne Visitor Shuttle service, including stop numbers, names, addresses, and coordinates.\n",
    "\n",
    "**3. Public Artworks, Fountains, and Monuments:** Includes details about public artworks, fountains, and monuments across Melbourne, such as their names, asset types, artist information, and location coordinates.\n",
    "\n",
    "**4. Domestic Visitor:** Contains data on domestic overnight visitors to Melbourne, including the number of visitors to Melbourne and regional Victoria, segmented by year and quarter."
   ]
  },
  {
   "cell_type": "markdown",
   "metadata": {
    "id": "2XkMZIjPInsR"
   },
   "source": [
    "## **Required modules**\n"
   ]
  },
  {
   "cell_type": "code",
   "execution_count": 5,
   "metadata": {
    "id": "coAFsj-ZI0Jc"
   },
   "outputs": [],
   "source": [
    "import requests\n",
    "import pandas as pd\n",
    "import numpy as np\n",
    "from io import StringIO\n",
    "import matplotlib.pyplot as plt\n",
    "import seaborn as sns\n",
    "import folium\n",
    "import geopandas as gpd\n",
    "from folium.plugins import MarkerCluster\n",
    "from folium.plugins import feature_group_sub_group\n",
    "from IPython.display import display\n",
    "from sklearn.model_selection import train_test_split\n",
    "from sklearn.linear_model import LinearRegression\n",
    "from sklearn.metrics import mean_squared_error\n",
    "from sklearn.metrics import mean_absolute_error\n",
    "from statsmodels.tsa.arima.model import ARIMA\n",
    "from statsmodels.tsa.statespace.sarimax import SARIMAX\n",
    "from sklearn.cluster import KMeans\n",
    "from matplotlib.cm import get_cmap\n",
    "import matplotlib.colors as mcolors\n",
    "from sklearn.preprocessing import MinMaxScaler\n",
    "import warnings\n",
    "warnings.filterwarnings('ignore')"
   ]
  },
  {
   "cell_type": "markdown",
   "metadata": {
    "id": "nXzLtXNzs5Pv"
   },
   "source": [
    "## **Data loading**\n"
   ]
  },
  {
   "cell_type": "code",
   "execution_count": 3,
   "metadata": {
    "id": "z6zPS8X0s5fN"
   },
   "outputs": [],
   "source": [
    "# Collect_data function\n",
    "def collect_data(dataset_id):\n",
    "    base_url = 'https://data.melbourne.vic.gov.au/api/explore/v2.1/catalog/datasets/'\n",
    "    dataset_id = dataset_id\n",
    "    format = 'csv'\n",
    "\n",
    "\n",
    "    url = f'{base_url}{dataset_id}/exports/{format}'\n",
    "    params = {\n",
    "        'select': '*',\n",
    "        'limit': -1,\n",
    "        'lang': 'en',\n",
    "        'timezone': 'UTC',\n",
    "    }\n",
    "\n",
    "    response = requests.get(url, params=params)\n",
    "\n",
    "\n",
    "    if response.status_code == 200:\n",
    "        url_content = response.content.decode('utf-8')\n",
    "        dataset = pd.read_csv(StringIO(url_content), delimiter=';')\n",
    "        return dataset\n",
    "    else:\n",
    "        print(f'Request failed with status code {response.status_code}')"
   ]
  },
  {
   "cell_type": "markdown",
   "metadata": {
    "id": "8mTez70FTGKc"
   },
   "source": [
    "Data1 (Pedestrian counting data) loading"
   ]
  },
  {
   "cell_type": "code",
   "execution_count": 4,
   "metadata": {
    "colab": {
     "base_uri": "https://localhost:8080/"
    },
    "id": "gcZtrGkcSH_-",
    "outputId": "a4160ddf-79dc-4a7e-dd7a-d3d72142c1bb"
   },
   "outputs": [
    {
     "data": {
      "text/plain": [
       "(1850393, 9)"
      ]
     },
     "execution_count": 4,
     "metadata": {},
     "output_type": "execute_result"
    }
   ],
   "source": [
    "# Pedestrian counting data\n",
    "dataset_id = 'pedestrian-counting-system-monthly-counts-per-hour'\n",
    "data_1 = collect_data(dataset_id)\n",
    "data_1.shape"
   ]
  },
  {
   "cell_type": "markdown",
   "metadata": {
    "id": "F-8uFZF1vqoy"
   },
   "source": [
    "Data2 (Bus stops for Melbourne Visitor Shuttle) loading"
   ]
  },
  {
   "cell_type": "code",
   "execution_count": 6,
   "metadata": {
    "colab": {
     "base_uri": "https://localhost:8080/"
    },
    "id": "2W7gUIqnv7U-",
    "outputId": "07ac4b5a-216a-4525-ad64-f4eb139254ff"
   },
   "outputs": [
    {
     "data": {
      "text/plain": [
       "(13, 4)"
      ]
     },
     "execution_count": 6,
     "metadata": {},
     "output_type": "execute_result"
    }
   ],
   "source": [
    "# Bus stop for Melbourne visitor shuttle data\n",
    "dataset_id_2 = 'bus-stops-for-melbourne-visitor-shuttle'\n",
    "data_2 = collect_data(dataset_id_2)\n",
    "data_2.shape"
   ]
  },
  {
   "cell_type": "markdown",
   "metadata": {
    "id": "N91xbiq7wcW6"
   },
   "source": [
    "Data3 (Public artworks, fountains, and monuments) loading"
   ]
  },
  {
   "cell_type": "code",
   "execution_count": 7,
   "metadata": {
    "colab": {
     "base_uri": "https://localhost:8080/"
    },
    "id": "NPQy47Lawcf7",
    "outputId": "df8ab43c-6bf3-47d4-93c7-550cd921bb42"
   },
   "outputs": [
    {
     "data": {
      "text/plain": [
       "(261, 14)"
      ]
     },
     "execution_count": 7,
     "metadata": {},
     "output_type": "execute_result"
    }
   ],
   "source": [
    "# Public artworks, fountains, and monuments data\n",
    "dataset_id_3 = 'public-artworks-fountains-and-monuments'\n",
    "data_3 = collect_data(dataset_id_3)\n",
    "data_3.shape"
   ]
  },
  {
   "cell_type": "markdown",
   "metadata": {
    "id": "JEziyVBoTWaT"
   },
   "source": [
    "Data4 (Domestic visitors) loading"
   ]
  },
  {
   "cell_type": "code",
   "execution_count": 8,
   "metadata": {
    "colab": {
     "base_uri": "https://localhost:8080/"
    },
    "id": "R8Wa7ie4TgIm",
    "outputId": "d810bcdf-5273-4b64-87ff-4e026d1446d7"
   },
   "outputs": [
    {
     "data": {
      "text/plain": [
       "(41, 3)"
      ]
     },
     "execution_count": 8,
     "metadata": {},
     "output_type": "execute_result"
    }
   ],
   "source": [
    "# Domestic visitor data from visit victoria\n",
    "#data_4 = pd.read_csv('/content/sample_data/Domestic overnight visitors.csv')\n",
    "data_4 = pd.read_csv('https://raw.githubusercontent.com/Chameleon-company/MOP-Code/taehwan/datascience/usecases/DEPENDENCIES/Domestic_overnight_visitors.csv')\n",
    "data_4.shape"
   ]
  },
  {
   "cell_type": "markdown",
   "metadata": {
    "id": "71fs_zzTfzIL"
   },
   "source": [
    "## **Data preprocessing**"
   ]
  },
  {
   "cell_type": "code",
   "execution_count": 9,
   "metadata": {
    "colab": {
     "base_uri": "https://localhost:8080/",
     "height": 206
    },
    "id": "uG1F-sKFpfKp",
    "outputId": "3da0d4a8-297f-4976-d290-666e0c461576"
   },
   "outputs": [
    {
     "data": {
      "application/vnd.google.colaboratory.intrinsic+json": {
       "summary": "{\n  \"name\": \"data_3_cleaned\",\n  \"rows\": 261,\n  \"fields\": [\n    {\n      \"column\": \"asset_type\",\n      \"properties\": {\n        \"dtype\": \"category\",\n        \"num_unique_values\": 3,\n        \"samples\": [\n          \"Art\",\n          \"Monument\",\n          \"Fountain\"\n        ],\n        \"semantic_type\": \"\",\n        \"description\": \"\"\n      }\n    },\n    {\n      \"column\": \"name\",\n      \"properties\": {\n        \"dtype\": \"string\",\n        \"num_unique_values\": 163,\n        \"samples\": [\n          \"Wind Contrivance\",\n          \"Sir John Monash\",\n          \"Another View, Site 1\"\n        ],\n        \"semantic_type\": \"\",\n        \"description\": \"\"\n      }\n    },\n    {\n      \"column\": \"address_point\",\n      \"properties\": {\n        \"dtype\": \"string\",\n        \"num_unique_values\": 161,\n        \"samples\": [\n          \"7 Waterview Walk, DOCKLANDS\",\n          \"50 River Esplanade, DOCKLANDS\",\n          \"Sidney Myer Music Bowl, Alexandra Avenue, MELBOURNE\"\n        ],\n        \"semantic_type\": \"\",\n        \"description\": \"\"\n      }\n    },\n    {\n      \"column\": \"mel_way_ref\",\n      \"properties\": {\n        \"dtype\": \"category\",\n        \"num_unique_values\": 101,\n        \"samples\": [\n          \"2B_F12\",\n          \"2A_D5\",\n          \"2F_G5\"\n        ],\n        \"semantic_type\": \"\",\n        \"description\": \"\"\n      }\n    },\n    {\n      \"column\": \"co_ordinates\",\n      \"properties\": {\n        \"dtype\": \"string\",\n        \"num_unique_values\": 261,\n        \"samples\": [\n          \"-37.7789311799623, 144.961158146237\",\n          \"-37.8211525582271, 144.964238031747\",\n          \"-37.8152982442351, 144.938823236515\"\n        ],\n        \"semantic_type\": \"\",\n        \"description\": \"\"\n      }\n    }\n  ]\n}",
       "type": "dataframe",
       "variable_name": "data_3_cleaned"
      },
      "text/html": [
       "\n",
       "  <div id=\"df-02a8d585-e5a6-4fdb-acd7-da2cfd8ae199\" class=\"colab-df-container\">\n",
       "    <div>\n",
       "<style scoped>\n",
       "    .dataframe tbody tr th:only-of-type {\n",
       "        vertical-align: middle;\n",
       "    }\n",
       "\n",
       "    .dataframe tbody tr th {\n",
       "        vertical-align: top;\n",
       "    }\n",
       "\n",
       "    .dataframe thead th {\n",
       "        text-align: right;\n",
       "    }\n",
       "</style>\n",
       "<table border=\"1\" class=\"dataframe\">\n",
       "  <thead>\n",
       "    <tr style=\"text-align: right;\">\n",
       "      <th></th>\n",
       "      <th>asset_type</th>\n",
       "      <th>name</th>\n",
       "      <th>address_point</th>\n",
       "      <th>mel_way_ref</th>\n",
       "      <th>co_ordinates</th>\n",
       "    </tr>\n",
       "  </thead>\n",
       "  <tbody>\n",
       "    <tr>\n",
       "      <th>0</th>\n",
       "      <td>Art</td>\n",
       "      <td>Blowhole</td>\n",
       "      <td>13 Harbour Esplanade, DOCKLANDS</td>\n",
       "      <td>2E_G8</td>\n",
       "      <td>-37.8220182164578, 144.946871022845</td>\n",
       "    </tr>\n",
       "    <tr>\n",
       "      <th>1</th>\n",
       "      <td>Art</td>\n",
       "      <td>Bandstand</td>\n",
       "      <td>200 Little Collins Street, MELBOURNE</td>\n",
       "      <td>2F_G3</td>\n",
       "      <td>-37.8140548689972, 144.96733868317</td>\n",
       "    </tr>\n",
       "    <tr>\n",
       "      <th>2</th>\n",
       "      <td>Art</td>\n",
       "      <td>Federation Bells</td>\n",
       "      <td>Birrarung Marr, MELBOURNE</td>\n",
       "      <td>2F_ K6</td>\n",
       "      <td>-37.8186738864394, 144.974167165492</td>\n",
       "    </tr>\n",
       "    <tr>\n",
       "      <th>3</th>\n",
       "      <td>Art</td>\n",
       "      <td>Coat of Arms</td>\n",
       "      <td>98 Swanston Street, MELBOURNE</td>\n",
       "      <td>2F_F4</td>\n",
       "      <td>-37.8151582937289, 144.966495940551</td>\n",
       "    </tr>\n",
       "    <tr>\n",
       "      <th>4</th>\n",
       "      <td>Monument</td>\n",
       "      <td>Edmund Fitzgibbon Memorial</td>\n",
       "      <td>208 St Kilda Road, SOUTHBANK</td>\n",
       "      <td>2F_H9</td>\n",
       "      <td>-37.8236122113264, 144.970418561306</td>\n",
       "    </tr>\n",
       "  </tbody>\n",
       "</table>\n",
       "</div>\n",
       "    <div class=\"colab-df-buttons\">\n",
       "\n",
       "  <div class=\"colab-df-container\">\n",
       "    <button class=\"colab-df-convert\" onclick=\"convertToInteractive('df-02a8d585-e5a6-4fdb-acd7-da2cfd8ae199')\"\n",
       "            title=\"Convert this dataframe to an interactive table.\"\n",
       "            style=\"display:none;\">\n",
       "\n",
       "  <svg xmlns=\"http://www.w3.org/2000/svg\" height=\"24px\" viewBox=\"0 -960 960 960\">\n",
       "    <path d=\"M120-120v-720h720v720H120Zm60-500h600v-160H180v160Zm220 220h160v-160H400v160Zm0 220h160v-160H400v160ZM180-400h160v-160H180v160Zm440 0h160v-160H620v160ZM180-180h160v-160H180v160Zm440 0h160v-160H620v160Z\"/>\n",
       "  </svg>\n",
       "    </button>\n",
       "\n",
       "  <style>\n",
       "    .colab-df-container {\n",
       "      display:flex;\n",
       "      gap: 12px;\n",
       "    }\n",
       "\n",
       "    .colab-df-convert {\n",
       "      background-color: #E8F0FE;\n",
       "      border: none;\n",
       "      border-radius: 50%;\n",
       "      cursor: pointer;\n",
       "      display: none;\n",
       "      fill: #1967D2;\n",
       "      height: 32px;\n",
       "      padding: 0 0 0 0;\n",
       "      width: 32px;\n",
       "    }\n",
       "\n",
       "    .colab-df-convert:hover {\n",
       "      background-color: #E2EBFA;\n",
       "      box-shadow: 0px 1px 2px rgba(60, 64, 67, 0.3), 0px 1px 3px 1px rgba(60, 64, 67, 0.15);\n",
       "      fill: #174EA6;\n",
       "    }\n",
       "\n",
       "    .colab-df-buttons div {\n",
       "      margin-bottom: 4px;\n",
       "    }\n",
       "\n",
       "    [theme=dark] .colab-df-convert {\n",
       "      background-color: #3B4455;\n",
       "      fill: #D2E3FC;\n",
       "    }\n",
       "\n",
       "    [theme=dark] .colab-df-convert:hover {\n",
       "      background-color: #434B5C;\n",
       "      box-shadow: 0px 1px 3px 1px rgba(0, 0, 0, 0.15);\n",
       "      filter: drop-shadow(0px 1px 2px rgba(0, 0, 0, 0.3));\n",
       "      fill: #FFFFFF;\n",
       "    }\n",
       "  </style>\n",
       "\n",
       "    <script>\n",
       "      const buttonEl =\n",
       "        document.querySelector('#df-02a8d585-e5a6-4fdb-acd7-da2cfd8ae199 button.colab-df-convert');\n",
       "      buttonEl.style.display =\n",
       "        google.colab.kernel.accessAllowed ? 'block' : 'none';\n",
       "\n",
       "      async function convertToInteractive(key) {\n",
       "        const element = document.querySelector('#df-02a8d585-e5a6-4fdb-acd7-da2cfd8ae199');\n",
       "        const dataTable =\n",
       "          await google.colab.kernel.invokeFunction('convertToInteractive',\n",
       "                                                    [key], {});\n",
       "        if (!dataTable) return;\n",
       "\n",
       "        const docLinkHtml = 'Like what you see? Visit the ' +\n",
       "          '<a target=\"_blank\" href=https://colab.research.google.com/notebooks/data_table.ipynb>data table notebook</a>'\n",
       "          + ' to learn more about interactive tables.';\n",
       "        element.innerHTML = '';\n",
       "        dataTable['output_type'] = 'display_data';\n",
       "        await google.colab.output.renderOutput(dataTable, element);\n",
       "        const docLink = document.createElement('div');\n",
       "        docLink.innerHTML = docLinkHtml;\n",
       "        element.appendChild(docLink);\n",
       "      }\n",
       "    </script>\n",
       "  </div>\n",
       "\n",
       "\n",
       "<div id=\"df-d5991b73-9feb-48bc-b471-cf267c19aac5\">\n",
       "  <button class=\"colab-df-quickchart\" onclick=\"quickchart('df-d5991b73-9feb-48bc-b471-cf267c19aac5')\"\n",
       "            title=\"Suggest charts\"\n",
       "            style=\"display:none;\">\n",
       "\n",
       "<svg xmlns=\"http://www.w3.org/2000/svg\" height=\"24px\"viewBox=\"0 0 24 24\"\n",
       "     width=\"24px\">\n",
       "    <g>\n",
       "        <path d=\"M19 3H5c-1.1 0-2 .9-2 2v14c0 1.1.9 2 2 2h14c1.1 0 2-.9 2-2V5c0-1.1-.9-2-2-2zM9 17H7v-7h2v7zm4 0h-2V7h2v10zm4 0h-2v-4h2v4z\"/>\n",
       "    </g>\n",
       "</svg>\n",
       "  </button>\n",
       "\n",
       "<style>\n",
       "  .colab-df-quickchart {\n",
       "      --bg-color: #E8F0FE;\n",
       "      --fill-color: #1967D2;\n",
       "      --hover-bg-color: #E2EBFA;\n",
       "      --hover-fill-color: #174EA6;\n",
       "      --disabled-fill-color: #AAA;\n",
       "      --disabled-bg-color: #DDD;\n",
       "  }\n",
       "\n",
       "  [theme=dark] .colab-df-quickchart {\n",
       "      --bg-color: #3B4455;\n",
       "      --fill-color: #D2E3FC;\n",
       "      --hover-bg-color: #434B5C;\n",
       "      --hover-fill-color: #FFFFFF;\n",
       "      --disabled-bg-color: #3B4455;\n",
       "      --disabled-fill-color: #666;\n",
       "  }\n",
       "\n",
       "  .colab-df-quickchart {\n",
       "    background-color: var(--bg-color);\n",
       "    border: none;\n",
       "    border-radius: 50%;\n",
       "    cursor: pointer;\n",
       "    display: none;\n",
       "    fill: var(--fill-color);\n",
       "    height: 32px;\n",
       "    padding: 0;\n",
       "    width: 32px;\n",
       "  }\n",
       "\n",
       "  .colab-df-quickchart:hover {\n",
       "    background-color: var(--hover-bg-color);\n",
       "    box-shadow: 0 1px 2px rgba(60, 64, 67, 0.3), 0 1px 3px 1px rgba(60, 64, 67, 0.15);\n",
       "    fill: var(--button-hover-fill-color);\n",
       "  }\n",
       "\n",
       "  .colab-df-quickchart-complete:disabled,\n",
       "  .colab-df-quickchart-complete:disabled:hover {\n",
       "    background-color: var(--disabled-bg-color);\n",
       "    fill: var(--disabled-fill-color);\n",
       "    box-shadow: none;\n",
       "  }\n",
       "\n",
       "  .colab-df-spinner {\n",
       "    border: 2px solid var(--fill-color);\n",
       "    border-color: transparent;\n",
       "    border-bottom-color: var(--fill-color);\n",
       "    animation:\n",
       "      spin 1s steps(1) infinite;\n",
       "  }\n",
       "\n",
       "  @keyframes spin {\n",
       "    0% {\n",
       "      border-color: transparent;\n",
       "      border-bottom-color: var(--fill-color);\n",
       "      border-left-color: var(--fill-color);\n",
       "    }\n",
       "    20% {\n",
       "      border-color: transparent;\n",
       "      border-left-color: var(--fill-color);\n",
       "      border-top-color: var(--fill-color);\n",
       "    }\n",
       "    30% {\n",
       "      border-color: transparent;\n",
       "      border-left-color: var(--fill-color);\n",
       "      border-top-color: var(--fill-color);\n",
       "      border-right-color: var(--fill-color);\n",
       "    }\n",
       "    40% {\n",
       "      border-color: transparent;\n",
       "      border-right-color: var(--fill-color);\n",
       "      border-top-color: var(--fill-color);\n",
       "    }\n",
       "    60% {\n",
       "      border-color: transparent;\n",
       "      border-right-color: var(--fill-color);\n",
       "    }\n",
       "    80% {\n",
       "      border-color: transparent;\n",
       "      border-right-color: var(--fill-color);\n",
       "      border-bottom-color: var(--fill-color);\n",
       "    }\n",
       "    90% {\n",
       "      border-color: transparent;\n",
       "      border-bottom-color: var(--fill-color);\n",
       "    }\n",
       "  }\n",
       "</style>\n",
       "\n",
       "  <script>\n",
       "    async function quickchart(key) {\n",
       "      const quickchartButtonEl =\n",
       "        document.querySelector('#' + key + ' button');\n",
       "      quickchartButtonEl.disabled = true;  // To prevent multiple clicks.\n",
       "      quickchartButtonEl.classList.add('colab-df-spinner');\n",
       "      try {\n",
       "        const charts = await google.colab.kernel.invokeFunction(\n",
       "            'suggestCharts', [key], {});\n",
       "      } catch (error) {\n",
       "        console.error('Error during call to suggestCharts:', error);\n",
       "      }\n",
       "      quickchartButtonEl.classList.remove('colab-df-spinner');\n",
       "      quickchartButtonEl.classList.add('colab-df-quickchart-complete');\n",
       "    }\n",
       "    (() => {\n",
       "      let quickchartButtonEl =\n",
       "        document.querySelector('#df-d5991b73-9feb-48bc-b471-cf267c19aac5 button');\n",
       "      quickchartButtonEl.style.display =\n",
       "        google.colab.kernel.accessAllowed ? 'block' : 'none';\n",
       "    })();\n",
       "  </script>\n",
       "</div>\n",
       "\n",
       "    </div>\n",
       "  </div>\n"
      ],
      "text/plain": [
       "  asset_type                        name  \\\n",
       "0        Art                    Blowhole   \n",
       "1        Art                   Bandstand   \n",
       "2        Art            Federation Bells   \n",
       "3        Art                Coat of Arms   \n",
       "4   Monument  Edmund Fitzgibbon Memorial   \n",
       "\n",
       "                          address_point mel_way_ref  \\\n",
       "0       13 Harbour Esplanade, DOCKLANDS       2E_G8   \n",
       "1  200 Little Collins Street, MELBOURNE       2F_G3   \n",
       "2             Birrarung Marr, MELBOURNE      2F_ K6   \n",
       "3         98 Swanston Street, MELBOURNE       2F_F4   \n",
       "4          208 St Kilda Road, SOUTHBANK       2F_H9   \n",
       "\n",
       "                          co_ordinates  \n",
       "0  -37.8220182164578, 144.946871022845  \n",
       "1   -37.8140548689972, 144.96733868317  \n",
       "2  -37.8186738864394, 144.974167165492  \n",
       "3  -37.8151582937289, 144.966495940551  \n",
       "4  -37.8236122113264, 144.970418561306  "
      ]
     },
     "execution_count": 9,
     "metadata": {},
     "output_type": "execute_result"
    }
   ],
   "source": [
    "# Drop unnecessary features\n",
    "data_3_cleaned = data_3.drop(columns=['easting', 'northing','xorg','xsource','artist','art_date','respective_author', 'structure', 'alternate_name'])\n",
    "data_3_cleaned.head()"
   ]
  },
  {
   "cell_type": "markdown",
   "metadata": {
    "id": "fA2sSFAWaOjW"
   },
   "source": [
    "Remove unnecessary columns from the tourist spots dataset"
   ]
  },
  {
   "cell_type": "code",
   "execution_count": 10,
   "metadata": {
    "colab": {
     "base_uri": "https://localhost:8080/",
     "height": 178
    },
    "id": "gSshWPFigHG1",
    "outputId": "e033e184-bb83-455a-dbb1-1a7c5cb05dd0"
   },
   "outputs": [
    {
     "data": {
      "text/html": [
       "<div>\n",
       "<style scoped>\n",
       "    .dataframe tbody tr th:only-of-type {\n",
       "        vertical-align: middle;\n",
       "    }\n",
       "\n",
       "    .dataframe tbody tr th {\n",
       "        vertical-align: top;\n",
       "    }\n",
       "\n",
       "    .dataframe thead th {\n",
       "        text-align: right;\n",
       "    }\n",
       "</style>\n",
       "<table border=\"1\" class=\"dataframe\">\n",
       "  <thead>\n",
       "    <tr style=\"text-align: right;\">\n",
       "      <th></th>\n",
       "      <th>0</th>\n",
       "    </tr>\n",
       "  </thead>\n",
       "  <tbody>\n",
       "    <tr>\n",
       "      <th>DateTime</th>\n",
       "      <td>0</td>\n",
       "    </tr>\n",
       "    <tr>\n",
       "      <th>Melbourne</th>\n",
       "      <td>0</td>\n",
       "    </tr>\n",
       "    <tr>\n",
       "      <th>Regional VIC</th>\n",
       "      <td>0</td>\n",
       "    </tr>\n",
       "  </tbody>\n",
       "</table>\n",
       "</div><br><label><b>dtype:</b> int64</label>"
      ],
      "text/plain": [
       "DateTime        0\n",
       "Melbourne       0\n",
       "Regional VIC    0\n",
       "dtype: int64"
      ]
     },
     "execution_count": 10,
     "metadata": {},
     "output_type": "execute_result"
    }
   ],
   "source": [
    "# Na values check\n",
    "data_1.isna().sum()\n",
    "data_2.isna().sum()\n",
    "data_3_cleaned.isna().sum()\n",
    "data_4.isna().sum()"
   ]
  },
  {
   "cell_type": "markdown",
   "metadata": {
    "id": "lnk5ovxaaKL4"
   },
   "source": [
    "Check if there are missing values in each dataset"
   ]
  },
  {
   "cell_type": "code",
   "execution_count": 11,
   "metadata": {
    "colab": {
     "base_uri": "https://localhost:8080/",
     "height": 206
    },
    "id": "q_wXaXSnpk8d",
    "outputId": "26e3b0c5-e252-4968-c79f-b173347d77b1"
   },
   "outputs": [
    {
     "data": {
      "application/vnd.google.colaboratory.intrinsic+json": {
       "summary": "{\n  \"name\": \"data_1_1\",\n  \"rows\": 2847,\n  \"fields\": [\n    {\n      \"column\": \"sensor_name\",\n      \"properties\": {\n        \"dtype\": \"category\",\n        \"num_unique_values\": 88,\n        \"samples\": [\n          \"Swa295_T\",\n          \"261Will_T\",\n          \"Eli250_T\"\n        ],\n        \"semantic_type\": \"\",\n        \"description\": \"\"\n      }\n    },\n    {\n      \"column\": \"year_month\",\n      \"properties\": {\n        \"dtype\": \"date\",\n        \"min\": \"2021-07-31\",\n        \"max\": \"2024-09-30\",\n        \"num_unique_values\": 39,\n        \"samples\": [\n          \"2022-10-31\",\n          \"2021-09-30\",\n          \"2023-06-30\"\n        ],\n        \"semantic_type\": \"\",\n        \"description\": \"\"\n      }\n    },\n    {\n      \"column\": \"location\",\n      \"properties\": {\n        \"dtype\": \"category\",\n        \"num_unique_values\": 89,\n        \"samples\": [\n          \"-37.81441438, 144.94433026\",\n          \"-37.81237202, 144.96550671\",\n          \"-37.80730068, 144.95956055\"\n        ],\n        \"semantic_type\": \"\",\n        \"description\": \"\"\n      }\n    },\n    {\n      \"column\": \"pedestriancount\",\n      \"properties\": {\n        \"dtype\": \"number\",\n        \"std\": 227303,\n        \"min\": 1,\n        \"max\": 1432562,\n        \"num_unique_values\": 2837,\n        \"samples\": [\n          399361,\n          248931,\n          33564\n        ],\n        \"semantic_type\": \"\",\n        \"description\": \"\"\n      }\n    }\n  ]\n}",
       "type": "dataframe",
       "variable_name": "data_1_1"
      },
      "text/html": [
       "\n",
       "  <div id=\"df-33908d67-9a8d-4a1d-bb30-28f59359743d\" class=\"colab-df-container\">\n",
       "    <div>\n",
       "<style scoped>\n",
       "    .dataframe tbody tr th:only-of-type {\n",
       "        vertical-align: middle;\n",
       "    }\n",
       "\n",
       "    .dataframe tbody tr th {\n",
       "        vertical-align: top;\n",
       "    }\n",
       "\n",
       "    .dataframe thead th {\n",
       "        text-align: right;\n",
       "    }\n",
       "</style>\n",
       "<table border=\"1\" class=\"dataframe\">\n",
       "  <thead>\n",
       "    <tr style=\"text-align: right;\">\n",
       "      <th></th>\n",
       "      <th>sensor_name</th>\n",
       "      <th>year_month</th>\n",
       "      <th>location</th>\n",
       "      <th>pedestriancount</th>\n",
       "    </tr>\n",
       "  </thead>\n",
       "  <tbody>\n",
       "    <tr>\n",
       "      <th>0</th>\n",
       "      <td>261Will_T</td>\n",
       "      <td>2022-11-30</td>\n",
       "      <td>-37.81295822, 144.95678789</td>\n",
       "      <td>91518</td>\n",
       "    </tr>\n",
       "    <tr>\n",
       "      <th>1</th>\n",
       "      <td>261Will_T</td>\n",
       "      <td>2022-12-31</td>\n",
       "      <td>-37.81295822, 144.95678789</td>\n",
       "      <td>50214</td>\n",
       "    </tr>\n",
       "    <tr>\n",
       "      <th>2</th>\n",
       "      <td>261Will_T</td>\n",
       "      <td>2023-01-31</td>\n",
       "      <td>-37.81295822, 144.95678789</td>\n",
       "      <td>38818</td>\n",
       "    </tr>\n",
       "    <tr>\n",
       "      <th>3</th>\n",
       "      <td>261Will_T</td>\n",
       "      <td>2023-05-31</td>\n",
       "      <td>-37.81295822, 144.95678789</td>\n",
       "      <td>216910</td>\n",
       "    </tr>\n",
       "    <tr>\n",
       "      <th>4</th>\n",
       "      <td>261Will_T</td>\n",
       "      <td>2023-06-30</td>\n",
       "      <td>-37.81295822, 144.95678789</td>\n",
       "      <td>288651</td>\n",
       "    </tr>\n",
       "  </tbody>\n",
       "</table>\n",
       "</div>\n",
       "    <div class=\"colab-df-buttons\">\n",
       "\n",
       "  <div class=\"colab-df-container\">\n",
       "    <button class=\"colab-df-convert\" onclick=\"convertToInteractive('df-33908d67-9a8d-4a1d-bb30-28f59359743d')\"\n",
       "            title=\"Convert this dataframe to an interactive table.\"\n",
       "            style=\"display:none;\">\n",
       "\n",
       "  <svg xmlns=\"http://www.w3.org/2000/svg\" height=\"24px\" viewBox=\"0 -960 960 960\">\n",
       "    <path d=\"M120-120v-720h720v720H120Zm60-500h600v-160H180v160Zm220 220h160v-160H400v160Zm0 220h160v-160H400v160ZM180-400h160v-160H180v160Zm440 0h160v-160H620v160ZM180-180h160v-160H180v160Zm440 0h160v-160H620v160Z\"/>\n",
       "  </svg>\n",
       "    </button>\n",
       "\n",
       "  <style>\n",
       "    .colab-df-container {\n",
       "      display:flex;\n",
       "      gap: 12px;\n",
       "    }\n",
       "\n",
       "    .colab-df-convert {\n",
       "      background-color: #E8F0FE;\n",
       "      border: none;\n",
       "      border-radius: 50%;\n",
       "      cursor: pointer;\n",
       "      display: none;\n",
       "      fill: #1967D2;\n",
       "      height: 32px;\n",
       "      padding: 0 0 0 0;\n",
       "      width: 32px;\n",
       "    }\n",
       "\n",
       "    .colab-df-convert:hover {\n",
       "      background-color: #E2EBFA;\n",
       "      box-shadow: 0px 1px 2px rgba(60, 64, 67, 0.3), 0px 1px 3px 1px rgba(60, 64, 67, 0.15);\n",
       "      fill: #174EA6;\n",
       "    }\n",
       "\n",
       "    .colab-df-buttons div {\n",
       "      margin-bottom: 4px;\n",
       "    }\n",
       "\n",
       "    [theme=dark] .colab-df-convert {\n",
       "      background-color: #3B4455;\n",
       "      fill: #D2E3FC;\n",
       "    }\n",
       "\n",
       "    [theme=dark] .colab-df-convert:hover {\n",
       "      background-color: #434B5C;\n",
       "      box-shadow: 0px 1px 3px 1px rgba(0, 0, 0, 0.15);\n",
       "      filter: drop-shadow(0px 1px 2px rgba(0, 0, 0, 0.3));\n",
       "      fill: #FFFFFF;\n",
       "    }\n",
       "  </style>\n",
       "\n",
       "    <script>\n",
       "      const buttonEl =\n",
       "        document.querySelector('#df-33908d67-9a8d-4a1d-bb30-28f59359743d button.colab-df-convert');\n",
       "      buttonEl.style.display =\n",
       "        google.colab.kernel.accessAllowed ? 'block' : 'none';\n",
       "\n",
       "      async function convertToInteractive(key) {\n",
       "        const element = document.querySelector('#df-33908d67-9a8d-4a1d-bb30-28f59359743d');\n",
       "        const dataTable =\n",
       "          await google.colab.kernel.invokeFunction('convertToInteractive',\n",
       "                                                    [key], {});\n",
       "        if (!dataTable) return;\n",
       "\n",
       "        const docLinkHtml = 'Like what you see? Visit the ' +\n",
       "          '<a target=\"_blank\" href=https://colab.research.google.com/notebooks/data_table.ipynb>data table notebook</a>'\n",
       "          + ' to learn more about interactive tables.';\n",
       "        element.innerHTML = '';\n",
       "        dataTable['output_type'] = 'display_data';\n",
       "        await google.colab.output.renderOutput(dataTable, element);\n",
       "        const docLink = document.createElement('div');\n",
       "        docLink.innerHTML = docLinkHtml;\n",
       "        element.appendChild(docLink);\n",
       "      }\n",
       "    </script>\n",
       "  </div>\n",
       "\n",
       "\n",
       "<div id=\"df-0f93a96f-8df8-4d98-8619-b99c7ed79700\">\n",
       "  <button class=\"colab-df-quickchart\" onclick=\"quickchart('df-0f93a96f-8df8-4d98-8619-b99c7ed79700')\"\n",
       "            title=\"Suggest charts\"\n",
       "            style=\"display:none;\">\n",
       "\n",
       "<svg xmlns=\"http://www.w3.org/2000/svg\" height=\"24px\"viewBox=\"0 0 24 24\"\n",
       "     width=\"24px\">\n",
       "    <g>\n",
       "        <path d=\"M19 3H5c-1.1 0-2 .9-2 2v14c0 1.1.9 2 2 2h14c1.1 0 2-.9 2-2V5c0-1.1-.9-2-2-2zM9 17H7v-7h2v7zm4 0h-2V7h2v10zm4 0h-2v-4h2v4z\"/>\n",
       "    </g>\n",
       "</svg>\n",
       "  </button>\n",
       "\n",
       "<style>\n",
       "  .colab-df-quickchart {\n",
       "      --bg-color: #E8F0FE;\n",
       "      --fill-color: #1967D2;\n",
       "      --hover-bg-color: #E2EBFA;\n",
       "      --hover-fill-color: #174EA6;\n",
       "      --disabled-fill-color: #AAA;\n",
       "      --disabled-bg-color: #DDD;\n",
       "  }\n",
       "\n",
       "  [theme=dark] .colab-df-quickchart {\n",
       "      --bg-color: #3B4455;\n",
       "      --fill-color: #D2E3FC;\n",
       "      --hover-bg-color: #434B5C;\n",
       "      --hover-fill-color: #FFFFFF;\n",
       "      --disabled-bg-color: #3B4455;\n",
       "      --disabled-fill-color: #666;\n",
       "  }\n",
       "\n",
       "  .colab-df-quickchart {\n",
       "    background-color: var(--bg-color);\n",
       "    border: none;\n",
       "    border-radius: 50%;\n",
       "    cursor: pointer;\n",
       "    display: none;\n",
       "    fill: var(--fill-color);\n",
       "    height: 32px;\n",
       "    padding: 0;\n",
       "    width: 32px;\n",
       "  }\n",
       "\n",
       "  .colab-df-quickchart:hover {\n",
       "    background-color: var(--hover-bg-color);\n",
       "    box-shadow: 0 1px 2px rgba(60, 64, 67, 0.3), 0 1px 3px 1px rgba(60, 64, 67, 0.15);\n",
       "    fill: var(--button-hover-fill-color);\n",
       "  }\n",
       "\n",
       "  .colab-df-quickchart-complete:disabled,\n",
       "  .colab-df-quickchart-complete:disabled:hover {\n",
       "    background-color: var(--disabled-bg-color);\n",
       "    fill: var(--disabled-fill-color);\n",
       "    box-shadow: none;\n",
       "  }\n",
       "\n",
       "  .colab-df-spinner {\n",
       "    border: 2px solid var(--fill-color);\n",
       "    border-color: transparent;\n",
       "    border-bottom-color: var(--fill-color);\n",
       "    animation:\n",
       "      spin 1s steps(1) infinite;\n",
       "  }\n",
       "\n",
       "  @keyframes spin {\n",
       "    0% {\n",
       "      border-color: transparent;\n",
       "      border-bottom-color: var(--fill-color);\n",
       "      border-left-color: var(--fill-color);\n",
       "    }\n",
       "    20% {\n",
       "      border-color: transparent;\n",
       "      border-left-color: var(--fill-color);\n",
       "      border-top-color: var(--fill-color);\n",
       "    }\n",
       "    30% {\n",
       "      border-color: transparent;\n",
       "      border-left-color: var(--fill-color);\n",
       "      border-top-color: var(--fill-color);\n",
       "      border-right-color: var(--fill-color);\n",
       "    }\n",
       "    40% {\n",
       "      border-color: transparent;\n",
       "      border-right-color: var(--fill-color);\n",
       "      border-top-color: var(--fill-color);\n",
       "    }\n",
       "    60% {\n",
       "      border-color: transparent;\n",
       "      border-right-color: var(--fill-color);\n",
       "    }\n",
       "    80% {\n",
       "      border-color: transparent;\n",
       "      border-right-color: var(--fill-color);\n",
       "      border-bottom-color: var(--fill-color);\n",
       "    }\n",
       "    90% {\n",
       "      border-color: transparent;\n",
       "      border-bottom-color: var(--fill-color);\n",
       "    }\n",
       "  }\n",
       "</style>\n",
       "\n",
       "  <script>\n",
       "    async function quickchart(key) {\n",
       "      const quickchartButtonEl =\n",
       "        document.querySelector('#' + key + ' button');\n",
       "      quickchartButtonEl.disabled = true;  // To prevent multiple clicks.\n",
       "      quickchartButtonEl.classList.add('colab-df-spinner');\n",
       "      try {\n",
       "        const charts = await google.colab.kernel.invokeFunction(\n",
       "            'suggestCharts', [key], {});\n",
       "      } catch (error) {\n",
       "        console.error('Error during call to suggestCharts:', error);\n",
       "      }\n",
       "      quickchartButtonEl.classList.remove('colab-df-spinner');\n",
       "      quickchartButtonEl.classList.add('colab-df-quickchart-complete');\n",
       "    }\n",
       "    (() => {\n",
       "      let quickchartButtonEl =\n",
       "        document.querySelector('#df-0f93a96f-8df8-4d98-8619-b99c7ed79700 button');\n",
       "      quickchartButtonEl.style.display =\n",
       "        google.colab.kernel.accessAllowed ? 'block' : 'none';\n",
       "    })();\n",
       "  </script>\n",
       "</div>\n",
       "\n",
       "    </div>\n",
       "  </div>\n"
      ],
      "text/plain": [
       "  sensor_name  year_month                    location  pedestriancount\n",
       "0   261Will_T  2022-11-30  -37.81295822, 144.95678789            91518\n",
       "1   261Will_T  2022-12-31  -37.81295822, 144.95678789            50214\n",
       "2   261Will_T  2023-01-31  -37.81295822, 144.95678789            38818\n",
       "3   261Will_T  2023-05-31  -37.81295822, 144.95678789           216910\n",
       "4   261Will_T  2023-06-30  -37.81295822, 144.95678789           288651"
      ]
     },
     "execution_count": 11,
     "metadata": {},
     "output_type": "execute_result"
    }
   ],
   "source": [
    "# To pandas datetime type\n",
    "data_1_1 = data_1\n",
    "data_1_1['sensing_date'] = pd.to_datetime(data_1['sensing_date'])\n",
    "data_1_1['year_month'] = data_1_1['sensing_date'].dt.to_period('M').dt.end_time.dt.date\n",
    "# Summing 'pedestriancount' by 'sensor_name', 'year_month', and 'location'\n",
    "data_1_1 = data_1_1.groupby(['sensor_name', 'year_month', 'location']).agg({\n",
    "    'pedestriancount': 'sum'\n",
    "}).reset_index()\n",
    "# Checking conversion\n",
    "data_1_1.head()"
   ]
  },
  {
   "cell_type": "markdown",
   "metadata": {
    "id": "vdnTz183cTnS"
   },
   "source": [
    "Convert the date type to a pandas datetime format and aggregate the data on a monthly basis"
   ]
  },
  {
   "cell_type": "code",
   "execution_count": 12,
   "metadata": {
    "colab": {
     "base_uri": "https://localhost:8080/",
     "height": 206
    },
    "id": "QTd3CiXUbAN-",
    "outputId": "941809e7-4f3b-40a6-aa06-f18097ab43ac"
   },
   "outputs": [
    {
     "data": {
      "application/vnd.google.colaboratory.intrinsic+json": {
       "summary": "{\n  \"name\": \"data_1_2\",\n  \"rows\": 13,\n  \"fields\": [\n    {\n      \"column\": \"year_quarter\",\n      \"properties\": {\n        \"dtype\": \"period[Q-DEC]\",\n        \"num_unique_values\": 13,\n        \"samples\": [\n          \"2024Q2\",\n          \"2023Q4\",\n          \"2021Q3\"\n        ],\n        \"semantic_type\": \"\",\n        \"description\": \"\"\n      }\n    },\n    {\n      \"column\": \"pedestriancount\",\n      \"properties\": {\n        \"dtype\": \"number\",\n        \"std\": 14993121,\n        \"min\": 19152943,\n        \"max\": 70728077,\n        \"num_unique_values\": 13,\n        \"samples\": [\n          65273065,\n          70728077,\n          19152943\n        ],\n        \"semantic_type\": \"\",\n        \"description\": \"\"\n      }\n    }\n  ]\n}",
       "type": "dataframe",
       "variable_name": "data_1_2"
      },
      "text/html": [
       "\n",
       "  <div id=\"df-e7104522-75ff-483b-8c4a-b0fec602e887\" class=\"colab-df-container\">\n",
       "    <div>\n",
       "<style scoped>\n",
       "    .dataframe tbody tr th:only-of-type {\n",
       "        vertical-align: middle;\n",
       "    }\n",
       "\n",
       "    .dataframe tbody tr th {\n",
       "        vertical-align: top;\n",
       "    }\n",
       "\n",
       "    .dataframe thead th {\n",
       "        text-align: right;\n",
       "    }\n",
       "</style>\n",
       "<table border=\"1\" class=\"dataframe\">\n",
       "  <thead>\n",
       "    <tr style=\"text-align: right;\">\n",
       "      <th></th>\n",
       "      <th>year_quarter</th>\n",
       "      <th>pedestriancount</th>\n",
       "    </tr>\n",
       "  </thead>\n",
       "  <tbody>\n",
       "    <tr>\n",
       "      <th>0</th>\n",
       "      <td>2021Q3</td>\n",
       "      <td>19152943</td>\n",
       "    </tr>\n",
       "    <tr>\n",
       "      <th>1</th>\n",
       "      <td>2021Q4</td>\n",
       "      <td>33159337</td>\n",
       "    </tr>\n",
       "    <tr>\n",
       "      <th>2</th>\n",
       "      <td>2022Q1</td>\n",
       "      <td>37898480</td>\n",
       "    </tr>\n",
       "    <tr>\n",
       "      <th>3</th>\n",
       "      <td>2022Q2</td>\n",
       "      <td>46924338</td>\n",
       "    </tr>\n",
       "    <tr>\n",
       "      <th>4</th>\n",
       "      <td>2022Q3</td>\n",
       "      <td>48843359</td>\n",
       "    </tr>\n",
       "  </tbody>\n",
       "</table>\n",
       "</div>\n",
       "    <div class=\"colab-df-buttons\">\n",
       "\n",
       "  <div class=\"colab-df-container\">\n",
       "    <button class=\"colab-df-convert\" onclick=\"convertToInteractive('df-e7104522-75ff-483b-8c4a-b0fec602e887')\"\n",
       "            title=\"Convert this dataframe to an interactive table.\"\n",
       "            style=\"display:none;\">\n",
       "\n",
       "  <svg xmlns=\"http://www.w3.org/2000/svg\" height=\"24px\" viewBox=\"0 -960 960 960\">\n",
       "    <path d=\"M120-120v-720h720v720H120Zm60-500h600v-160H180v160Zm220 220h160v-160H400v160Zm0 220h160v-160H400v160ZM180-400h160v-160H180v160Zm440 0h160v-160H620v160ZM180-180h160v-160H180v160Zm440 0h160v-160H620v160Z\"/>\n",
       "  </svg>\n",
       "    </button>\n",
       "\n",
       "  <style>\n",
       "    .colab-df-container {\n",
       "      display:flex;\n",
       "      gap: 12px;\n",
       "    }\n",
       "\n",
       "    .colab-df-convert {\n",
       "      background-color: #E8F0FE;\n",
       "      border: none;\n",
       "      border-radius: 50%;\n",
       "      cursor: pointer;\n",
       "      display: none;\n",
       "      fill: #1967D2;\n",
       "      height: 32px;\n",
       "      padding: 0 0 0 0;\n",
       "      width: 32px;\n",
       "    }\n",
       "\n",
       "    .colab-df-convert:hover {\n",
       "      background-color: #E2EBFA;\n",
       "      box-shadow: 0px 1px 2px rgba(60, 64, 67, 0.3), 0px 1px 3px 1px rgba(60, 64, 67, 0.15);\n",
       "      fill: #174EA6;\n",
       "    }\n",
       "\n",
       "    .colab-df-buttons div {\n",
       "      margin-bottom: 4px;\n",
       "    }\n",
       "\n",
       "    [theme=dark] .colab-df-convert {\n",
       "      background-color: #3B4455;\n",
       "      fill: #D2E3FC;\n",
       "    }\n",
       "\n",
       "    [theme=dark] .colab-df-convert:hover {\n",
       "      background-color: #434B5C;\n",
       "      box-shadow: 0px 1px 3px 1px rgba(0, 0, 0, 0.15);\n",
       "      filter: drop-shadow(0px 1px 2px rgba(0, 0, 0, 0.3));\n",
       "      fill: #FFFFFF;\n",
       "    }\n",
       "  </style>\n",
       "\n",
       "    <script>\n",
       "      const buttonEl =\n",
       "        document.querySelector('#df-e7104522-75ff-483b-8c4a-b0fec602e887 button.colab-df-convert');\n",
       "      buttonEl.style.display =\n",
       "        google.colab.kernel.accessAllowed ? 'block' : 'none';\n",
       "\n",
       "      async function convertToInteractive(key) {\n",
       "        const element = document.querySelector('#df-e7104522-75ff-483b-8c4a-b0fec602e887');\n",
       "        const dataTable =\n",
       "          await google.colab.kernel.invokeFunction('convertToInteractive',\n",
       "                                                    [key], {});\n",
       "        if (!dataTable) return;\n",
       "\n",
       "        const docLinkHtml = 'Like what you see? Visit the ' +\n",
       "          '<a target=\"_blank\" href=https://colab.research.google.com/notebooks/data_table.ipynb>data table notebook</a>'\n",
       "          + ' to learn more about interactive tables.';\n",
       "        element.innerHTML = '';\n",
       "        dataTable['output_type'] = 'display_data';\n",
       "        await google.colab.output.renderOutput(dataTable, element);\n",
       "        const docLink = document.createElement('div');\n",
       "        docLink.innerHTML = docLinkHtml;\n",
       "        element.appendChild(docLink);\n",
       "      }\n",
       "    </script>\n",
       "  </div>\n",
       "\n",
       "\n",
       "<div id=\"df-711ea477-b829-4171-8904-53c0de2afb97\">\n",
       "  <button class=\"colab-df-quickchart\" onclick=\"quickchart('df-711ea477-b829-4171-8904-53c0de2afb97')\"\n",
       "            title=\"Suggest charts\"\n",
       "            style=\"display:none;\">\n",
       "\n",
       "<svg xmlns=\"http://www.w3.org/2000/svg\" height=\"24px\"viewBox=\"0 0 24 24\"\n",
       "     width=\"24px\">\n",
       "    <g>\n",
       "        <path d=\"M19 3H5c-1.1 0-2 .9-2 2v14c0 1.1.9 2 2 2h14c1.1 0 2-.9 2-2V5c0-1.1-.9-2-2-2zM9 17H7v-7h2v7zm4 0h-2V7h2v10zm4 0h-2v-4h2v4z\"/>\n",
       "    </g>\n",
       "</svg>\n",
       "  </button>\n",
       "\n",
       "<style>\n",
       "  .colab-df-quickchart {\n",
       "      --bg-color: #E8F0FE;\n",
       "      --fill-color: #1967D2;\n",
       "      --hover-bg-color: #E2EBFA;\n",
       "      --hover-fill-color: #174EA6;\n",
       "      --disabled-fill-color: #AAA;\n",
       "      --disabled-bg-color: #DDD;\n",
       "  }\n",
       "\n",
       "  [theme=dark] .colab-df-quickchart {\n",
       "      --bg-color: #3B4455;\n",
       "      --fill-color: #D2E3FC;\n",
       "      --hover-bg-color: #434B5C;\n",
       "      --hover-fill-color: #FFFFFF;\n",
       "      --disabled-bg-color: #3B4455;\n",
       "      --disabled-fill-color: #666;\n",
       "  }\n",
       "\n",
       "  .colab-df-quickchart {\n",
       "    background-color: var(--bg-color);\n",
       "    border: none;\n",
       "    border-radius: 50%;\n",
       "    cursor: pointer;\n",
       "    display: none;\n",
       "    fill: var(--fill-color);\n",
       "    height: 32px;\n",
       "    padding: 0;\n",
       "    width: 32px;\n",
       "  }\n",
       "\n",
       "  .colab-df-quickchart:hover {\n",
       "    background-color: var(--hover-bg-color);\n",
       "    box-shadow: 0 1px 2px rgba(60, 64, 67, 0.3), 0 1px 3px 1px rgba(60, 64, 67, 0.15);\n",
       "    fill: var(--button-hover-fill-color);\n",
       "  }\n",
       "\n",
       "  .colab-df-quickchart-complete:disabled,\n",
       "  .colab-df-quickchart-complete:disabled:hover {\n",
       "    background-color: var(--disabled-bg-color);\n",
       "    fill: var(--disabled-fill-color);\n",
       "    box-shadow: none;\n",
       "  }\n",
       "\n",
       "  .colab-df-spinner {\n",
       "    border: 2px solid var(--fill-color);\n",
       "    border-color: transparent;\n",
       "    border-bottom-color: var(--fill-color);\n",
       "    animation:\n",
       "      spin 1s steps(1) infinite;\n",
       "  }\n",
       "\n",
       "  @keyframes spin {\n",
       "    0% {\n",
       "      border-color: transparent;\n",
       "      border-bottom-color: var(--fill-color);\n",
       "      border-left-color: var(--fill-color);\n",
       "    }\n",
       "    20% {\n",
       "      border-color: transparent;\n",
       "      border-left-color: var(--fill-color);\n",
       "      border-top-color: var(--fill-color);\n",
       "    }\n",
       "    30% {\n",
       "      border-color: transparent;\n",
       "      border-left-color: var(--fill-color);\n",
       "      border-top-color: var(--fill-color);\n",
       "      border-right-color: var(--fill-color);\n",
       "    }\n",
       "    40% {\n",
       "      border-color: transparent;\n",
       "      border-right-color: var(--fill-color);\n",
       "      border-top-color: var(--fill-color);\n",
       "    }\n",
       "    60% {\n",
       "      border-color: transparent;\n",
       "      border-right-color: var(--fill-color);\n",
       "    }\n",
       "    80% {\n",
       "      border-color: transparent;\n",
       "      border-right-color: var(--fill-color);\n",
       "      border-bottom-color: var(--fill-color);\n",
       "    }\n",
       "    90% {\n",
       "      border-color: transparent;\n",
       "      border-bottom-color: var(--fill-color);\n",
       "    }\n",
       "  }\n",
       "</style>\n",
       "\n",
       "  <script>\n",
       "    async function quickchart(key) {\n",
       "      const quickchartButtonEl =\n",
       "        document.querySelector('#' + key + ' button');\n",
       "      quickchartButtonEl.disabled = true;  // To prevent multiple clicks.\n",
       "      quickchartButtonEl.classList.add('colab-df-spinner');\n",
       "      try {\n",
       "        const charts = await google.colab.kernel.invokeFunction(\n",
       "            'suggestCharts', [key], {});\n",
       "      } catch (error) {\n",
       "        console.error('Error during call to suggestCharts:', error);\n",
       "      }\n",
       "      quickchartButtonEl.classList.remove('colab-df-spinner');\n",
       "      quickchartButtonEl.classList.add('colab-df-quickchart-complete');\n",
       "    }\n",
       "    (() => {\n",
       "      let quickchartButtonEl =\n",
       "        document.querySelector('#df-711ea477-b829-4171-8904-53c0de2afb97 button');\n",
       "      quickchartButtonEl.style.display =\n",
       "        google.colab.kernel.accessAllowed ? 'block' : 'none';\n",
       "    })();\n",
       "  </script>\n",
       "</div>\n",
       "\n",
       "    </div>\n",
       "  </div>\n"
      ],
      "text/plain": [
       "  year_quarter  pedestriancount\n",
       "0       2021Q3         19152943\n",
       "1       2021Q4         33159337\n",
       "2       2022Q1         37898480\n",
       "3       2022Q2         46924338\n",
       "4       2022Q3         48843359"
      ]
     },
     "execution_count": 12,
     "metadata": {},
     "output_type": "execute_result"
    }
   ],
   "source": [
    "# Data_1 (pedestrian data) filtering for regression analysis\n",
    "data_1_2 = data_1[data_1['sensing_date'].dt.year.isin([2021, 2022, 2023, 2024])]\n",
    "data_1_2.head()\n",
    "# 'sorting 'sensing_date' by quarter\n",
    "data_1_2['year_quarter'] = data_1_2['sensing_date'].dt.to_period('Q')\n",
    "# Summing 'pedestriancount' by 'year_quarter'\n",
    "data_1_2 = data_1_2.groupby(['year_quarter']).agg({\n",
    "    'pedestriancount': 'sum'\n",
    "}).reset_index()\n",
    "# Checking conversion\n",
    "data_1_2.head()"
   ]
  },
  {
   "cell_type": "markdown",
   "metadata": {
    "id": "MiMLxZdecwA3"
   },
   "source": [
    "Aggregate the pedestrian data quarterly. It will be used later in regression analysis"
   ]
  },
  {
   "cell_type": "code",
   "execution_count": 13,
   "metadata": {
    "colab": {
     "base_uri": "https://localhost:8080/",
     "height": 206
    },
    "id": "C_CK31IxbZh1",
    "outputId": "8074549e-6e87-46ef-df5f-b5dd8b774cbb"
   },
   "outputs": [
    {
     "data": {
      "application/vnd.google.colaboratory.intrinsic+json": {
       "summary": "{\n  \"name\": \"data_1_3\",\n  \"rows\": 83586,\n  \"fields\": [\n    {\n      \"column\": \"sensor_name\",\n      \"properties\": {\n        \"dtype\": \"category\",\n        \"num_unique_values\": 88,\n        \"samples\": [\n          \"Swa295_T\",\n          \"261Will_T\",\n          \"Eli250_T\"\n        ],\n        \"semantic_type\": \"\",\n        \"description\": \"\"\n      }\n    },\n    {\n      \"column\": \"year_day\",\n      \"properties\": {\n        \"dtype\": \"date\",\n        \"min\": \"2021-07-01\",\n        \"max\": \"2024-09-17\",\n        \"num_unique_values\": 1175,\n        \"samples\": [\n          \"2023-04-23\",\n          \"2024-05-29\",\n          \"2023-10-07\"\n        ],\n        \"semantic_type\": \"\",\n        \"description\": \"\"\n      }\n    },\n    {\n      \"column\": \"location\",\n      \"properties\": {\n        \"dtype\": \"category\",\n        \"num_unique_values\": 89,\n        \"samples\": [\n          \"-37.81441438, 144.94433026\",\n          \"-37.81237202, 144.96550671\",\n          \"-37.80730068, 144.95956055\"\n        ],\n        \"semantic_type\": \"\",\n        \"description\": \"\"\n      }\n    },\n    {\n      \"column\": \"pedestriancount\",\n      \"properties\": {\n        \"dtype\": \"number\",\n        \"std\": 8032,\n        \"min\": 1,\n        \"max\": 87407,\n        \"num_unique_values\": 23666,\n        \"samples\": [\n          42684,\n          1152,\n          7749\n        ],\n        \"semantic_type\": \"\",\n        \"description\": \"\"\n      }\n    }\n  ]\n}",
       "type": "dataframe",
       "variable_name": "data_1_3"
      },
      "text/html": [
       "\n",
       "  <div id=\"df-1a356e48-9f25-4146-94e2-88309cf4f1be\" class=\"colab-df-container\">\n",
       "    <div>\n",
       "<style scoped>\n",
       "    .dataframe tbody tr th:only-of-type {\n",
       "        vertical-align: middle;\n",
       "    }\n",
       "\n",
       "    .dataframe tbody tr th {\n",
       "        vertical-align: top;\n",
       "    }\n",
       "\n",
       "    .dataframe thead th {\n",
       "        text-align: right;\n",
       "    }\n",
       "</style>\n",
       "<table border=\"1\" class=\"dataframe\">\n",
       "  <thead>\n",
       "    <tr style=\"text-align: right;\">\n",
       "      <th></th>\n",
       "      <th>sensor_name</th>\n",
       "      <th>year_day</th>\n",
       "      <th>location</th>\n",
       "      <th>pedestriancount</th>\n",
       "    </tr>\n",
       "  </thead>\n",
       "  <tbody>\n",
       "    <tr>\n",
       "      <th>0</th>\n",
       "      <td>261Will_T</td>\n",
       "      <td>2022-11-17</td>\n",
       "      <td>-37.81295822, 144.95678789</td>\n",
       "      <td>3993</td>\n",
       "    </tr>\n",
       "    <tr>\n",
       "      <th>1</th>\n",
       "      <td>261Will_T</td>\n",
       "      <td>2022-11-18</td>\n",
       "      <td>-37.81295822, 144.95678789</td>\n",
       "      <td>11594</td>\n",
       "    </tr>\n",
       "    <tr>\n",
       "      <th>2</th>\n",
       "      <td>261Will_T</td>\n",
       "      <td>2022-11-19</td>\n",
       "      <td>-37.81295822, 144.95678789</td>\n",
       "      <td>3200</td>\n",
       "    </tr>\n",
       "    <tr>\n",
       "      <th>3</th>\n",
       "      <td>261Will_T</td>\n",
       "      <td>2022-11-20</td>\n",
       "      <td>-37.81295822, 144.95678789</td>\n",
       "      <td>2855</td>\n",
       "    </tr>\n",
       "    <tr>\n",
       "      <th>4</th>\n",
       "      <td>261Will_T</td>\n",
       "      <td>2022-11-21</td>\n",
       "      <td>-37.81295822, 144.95678789</td>\n",
       "      <td>11506</td>\n",
       "    </tr>\n",
       "  </tbody>\n",
       "</table>\n",
       "</div>\n",
       "    <div class=\"colab-df-buttons\">\n",
       "\n",
       "  <div class=\"colab-df-container\">\n",
       "    <button class=\"colab-df-convert\" onclick=\"convertToInteractive('df-1a356e48-9f25-4146-94e2-88309cf4f1be')\"\n",
       "            title=\"Convert this dataframe to an interactive table.\"\n",
       "            style=\"display:none;\">\n",
       "\n",
       "  <svg xmlns=\"http://www.w3.org/2000/svg\" height=\"24px\" viewBox=\"0 -960 960 960\">\n",
       "    <path d=\"M120-120v-720h720v720H120Zm60-500h600v-160H180v160Zm220 220h160v-160H400v160Zm0 220h160v-160H400v160ZM180-400h160v-160H180v160Zm440 0h160v-160H620v160ZM180-180h160v-160H180v160Zm440 0h160v-160H620v160Z\"/>\n",
       "  </svg>\n",
       "    </button>\n",
       "\n",
       "  <style>\n",
       "    .colab-df-container {\n",
       "      display:flex;\n",
       "      gap: 12px;\n",
       "    }\n",
       "\n",
       "    .colab-df-convert {\n",
       "      background-color: #E8F0FE;\n",
       "      border: none;\n",
       "      border-radius: 50%;\n",
       "      cursor: pointer;\n",
       "      display: none;\n",
       "      fill: #1967D2;\n",
       "      height: 32px;\n",
       "      padding: 0 0 0 0;\n",
       "      width: 32px;\n",
       "    }\n",
       "\n",
       "    .colab-df-convert:hover {\n",
       "      background-color: #E2EBFA;\n",
       "      box-shadow: 0px 1px 2px rgba(60, 64, 67, 0.3), 0px 1px 3px 1px rgba(60, 64, 67, 0.15);\n",
       "      fill: #174EA6;\n",
       "    }\n",
       "\n",
       "    .colab-df-buttons div {\n",
       "      margin-bottom: 4px;\n",
       "    }\n",
       "\n",
       "    [theme=dark] .colab-df-convert {\n",
       "      background-color: #3B4455;\n",
       "      fill: #D2E3FC;\n",
       "    }\n",
       "\n",
       "    [theme=dark] .colab-df-convert:hover {\n",
       "      background-color: #434B5C;\n",
       "      box-shadow: 0px 1px 3px 1px rgba(0, 0, 0, 0.15);\n",
       "      filter: drop-shadow(0px 1px 2px rgba(0, 0, 0, 0.3));\n",
       "      fill: #FFFFFF;\n",
       "    }\n",
       "  </style>\n",
       "\n",
       "    <script>\n",
       "      const buttonEl =\n",
       "        document.querySelector('#df-1a356e48-9f25-4146-94e2-88309cf4f1be button.colab-df-convert');\n",
       "      buttonEl.style.display =\n",
       "        google.colab.kernel.accessAllowed ? 'block' : 'none';\n",
       "\n",
       "      async function convertToInteractive(key) {\n",
       "        const element = document.querySelector('#df-1a356e48-9f25-4146-94e2-88309cf4f1be');\n",
       "        const dataTable =\n",
       "          await google.colab.kernel.invokeFunction('convertToInteractive',\n",
       "                                                    [key], {});\n",
       "        if (!dataTable) return;\n",
       "\n",
       "        const docLinkHtml = 'Like what you see? Visit the ' +\n",
       "          '<a target=\"_blank\" href=https://colab.research.google.com/notebooks/data_table.ipynb>data table notebook</a>'\n",
       "          + ' to learn more about interactive tables.';\n",
       "        element.innerHTML = '';\n",
       "        dataTable['output_type'] = 'display_data';\n",
       "        await google.colab.output.renderOutput(dataTable, element);\n",
       "        const docLink = document.createElement('div');\n",
       "        docLink.innerHTML = docLinkHtml;\n",
       "        element.appendChild(docLink);\n",
       "      }\n",
       "    </script>\n",
       "  </div>\n",
       "\n",
       "\n",
       "<div id=\"df-b31a7392-c33d-472d-a18c-50d05d5e90bf\">\n",
       "  <button class=\"colab-df-quickchart\" onclick=\"quickchart('df-b31a7392-c33d-472d-a18c-50d05d5e90bf')\"\n",
       "            title=\"Suggest charts\"\n",
       "            style=\"display:none;\">\n",
       "\n",
       "<svg xmlns=\"http://www.w3.org/2000/svg\" height=\"24px\"viewBox=\"0 0 24 24\"\n",
       "     width=\"24px\">\n",
       "    <g>\n",
       "        <path d=\"M19 3H5c-1.1 0-2 .9-2 2v14c0 1.1.9 2 2 2h14c1.1 0 2-.9 2-2V5c0-1.1-.9-2-2-2zM9 17H7v-7h2v7zm4 0h-2V7h2v10zm4 0h-2v-4h2v4z\"/>\n",
       "    </g>\n",
       "</svg>\n",
       "  </button>\n",
       "\n",
       "<style>\n",
       "  .colab-df-quickchart {\n",
       "      --bg-color: #E8F0FE;\n",
       "      --fill-color: #1967D2;\n",
       "      --hover-bg-color: #E2EBFA;\n",
       "      --hover-fill-color: #174EA6;\n",
       "      --disabled-fill-color: #AAA;\n",
       "      --disabled-bg-color: #DDD;\n",
       "  }\n",
       "\n",
       "  [theme=dark] .colab-df-quickchart {\n",
       "      --bg-color: #3B4455;\n",
       "      --fill-color: #D2E3FC;\n",
       "      --hover-bg-color: #434B5C;\n",
       "      --hover-fill-color: #FFFFFF;\n",
       "      --disabled-bg-color: #3B4455;\n",
       "      --disabled-fill-color: #666;\n",
       "  }\n",
       "\n",
       "  .colab-df-quickchart {\n",
       "    background-color: var(--bg-color);\n",
       "    border: none;\n",
       "    border-radius: 50%;\n",
       "    cursor: pointer;\n",
       "    display: none;\n",
       "    fill: var(--fill-color);\n",
       "    height: 32px;\n",
       "    padding: 0;\n",
       "    width: 32px;\n",
       "  }\n",
       "\n",
       "  .colab-df-quickchart:hover {\n",
       "    background-color: var(--hover-bg-color);\n",
       "    box-shadow: 0 1px 2px rgba(60, 64, 67, 0.3), 0 1px 3px 1px rgba(60, 64, 67, 0.15);\n",
       "    fill: var(--button-hover-fill-color);\n",
       "  }\n",
       "\n",
       "  .colab-df-quickchart-complete:disabled,\n",
       "  .colab-df-quickchart-complete:disabled:hover {\n",
       "    background-color: var(--disabled-bg-color);\n",
       "    fill: var(--disabled-fill-color);\n",
       "    box-shadow: none;\n",
       "  }\n",
       "\n",
       "  .colab-df-spinner {\n",
       "    border: 2px solid var(--fill-color);\n",
       "    border-color: transparent;\n",
       "    border-bottom-color: var(--fill-color);\n",
       "    animation:\n",
       "      spin 1s steps(1) infinite;\n",
       "  }\n",
       "\n",
       "  @keyframes spin {\n",
       "    0% {\n",
       "      border-color: transparent;\n",
       "      border-bottom-color: var(--fill-color);\n",
       "      border-left-color: var(--fill-color);\n",
       "    }\n",
       "    20% {\n",
       "      border-color: transparent;\n",
       "      border-left-color: var(--fill-color);\n",
       "      border-top-color: var(--fill-color);\n",
       "    }\n",
       "    30% {\n",
       "      border-color: transparent;\n",
       "      border-left-color: var(--fill-color);\n",
       "      border-top-color: var(--fill-color);\n",
       "      border-right-color: var(--fill-color);\n",
       "    }\n",
       "    40% {\n",
       "      border-color: transparent;\n",
       "      border-right-color: var(--fill-color);\n",
       "      border-top-color: var(--fill-color);\n",
       "    }\n",
       "    60% {\n",
       "      border-color: transparent;\n",
       "      border-right-color: var(--fill-color);\n",
       "    }\n",
       "    80% {\n",
       "      border-color: transparent;\n",
       "      border-right-color: var(--fill-color);\n",
       "      border-bottom-color: var(--fill-color);\n",
       "    }\n",
       "    90% {\n",
       "      border-color: transparent;\n",
       "      border-bottom-color: var(--fill-color);\n",
       "    }\n",
       "  }\n",
       "</style>\n",
       "\n",
       "  <script>\n",
       "    async function quickchart(key) {\n",
       "      const quickchartButtonEl =\n",
       "        document.querySelector('#' + key + ' button');\n",
       "      quickchartButtonEl.disabled = true;  // To prevent multiple clicks.\n",
       "      quickchartButtonEl.classList.add('colab-df-spinner');\n",
       "      try {\n",
       "        const charts = await google.colab.kernel.invokeFunction(\n",
       "            'suggestCharts', [key], {});\n",
       "      } catch (error) {\n",
       "        console.error('Error during call to suggestCharts:', error);\n",
       "      }\n",
       "      quickchartButtonEl.classList.remove('colab-df-spinner');\n",
       "      quickchartButtonEl.classList.add('colab-df-quickchart-complete');\n",
       "    }\n",
       "    (() => {\n",
       "      let quickchartButtonEl =\n",
       "        document.querySelector('#df-b31a7392-c33d-472d-a18c-50d05d5e90bf button');\n",
       "      quickchartButtonEl.style.display =\n",
       "        google.colab.kernel.accessAllowed ? 'block' : 'none';\n",
       "    })();\n",
       "  </script>\n",
       "</div>\n",
       "\n",
       "    </div>\n",
       "  </div>\n"
      ],
      "text/plain": [
       "  sensor_name    year_day                    location  pedestriancount\n",
       "0   261Will_T  2022-11-17  -37.81295822, 144.95678789             3993\n",
       "1   261Will_T  2022-11-18  -37.81295822, 144.95678789            11594\n",
       "2   261Will_T  2022-11-19  -37.81295822, 144.95678789             3200\n",
       "3   261Will_T  2022-11-20  -37.81295822, 144.95678789             2855\n",
       "4   261Will_T  2022-11-21  -37.81295822, 144.95678789            11506"
      ]
     },
     "execution_count": 13,
     "metadata": {},
     "output_type": "execute_result"
    }
   ],
   "source": [
    "# Data_1 filtering for Time series\n",
    "data_1_3 = data_1\n",
    "data_1_3['year_day'] = data_1_3['sensing_date'].dt.to_period('D').dt.end_time.dt.date\n",
    "# Summing 'pedestriancount' by 'sensor_name', 'year_month', and 'location'\n",
    "data_1_3 = data_1_3.groupby(['sensor_name', 'year_day', 'location']).agg({\n",
    "    'pedestriancount': 'sum'\n",
    "}).reset_index()\n",
    "data_1_3.head()"
   ]
  },
  {
   "cell_type": "markdown",
   "metadata": {
    "id": "LBh32E3peZzh"
   },
   "source": [
    "Aggregate the pedestrian data daily. It will be used later in Time Series analysis"
   ]
  },
  {
   "cell_type": "code",
   "execution_count": 14,
   "metadata": {
    "colab": {
     "base_uri": "https://localhost:8080/",
     "height": 206
    },
    "id": "A_F9phklhJMj",
    "outputId": "8dc5524c-d645-40ea-cc22-666ca7161e1f"
   },
   "outputs": [
    {
     "data": {
      "application/vnd.google.colaboratory.intrinsic+json": {
       "summary": "{\n  \"name\": \"data_4_filtered\",\n  \"rows\": 13,\n  \"fields\": [\n    {\n      \"column\": \"visitor_count\",\n      \"properties\": {\n        \"dtype\": \"number\",\n        \"std\": 2907435,\n        \"min\": 2593347,\n        \"max\": 10365636,\n        \"num_unique_values\": 13,\n        \"samples\": [\n          10257111,\n          9829835,\n          2593347\n        ],\n        \"semantic_type\": \"\",\n        \"description\": \"\"\n      }\n    },\n    {\n      \"column\": \"year_quarter\",\n      \"properties\": {\n        \"dtype\": \"period[Q-DEC]\",\n        \"num_unique_values\": 13,\n        \"samples\": [\n          \"2023Q4\",\n          \"2023Q2\",\n          \"2021Q1\"\n        ],\n        \"semantic_type\": \"\",\n        \"description\": \"\"\n      }\n    }\n  ]\n}",
       "type": "dataframe",
       "variable_name": "data_4_filtered"
      },
      "text/html": [
       "\n",
       "  <div id=\"df-ea9a4e12-6b16-4b4d-8136-5205a1aeed92\" class=\"colab-df-container\">\n",
       "    <div>\n",
       "<style scoped>\n",
       "    .dataframe tbody tr th:only-of-type {\n",
       "        vertical-align: middle;\n",
       "    }\n",
       "\n",
       "    .dataframe tbody tr th {\n",
       "        vertical-align: top;\n",
       "    }\n",
       "\n",
       "    .dataframe thead th {\n",
       "        text-align: right;\n",
       "    }\n",
       "</style>\n",
       "<table border=\"1\" class=\"dataframe\">\n",
       "  <thead>\n",
       "    <tr style=\"text-align: right;\">\n",
       "      <th></th>\n",
       "      <th>visitor_count</th>\n",
       "      <th>year_quarter</th>\n",
       "    </tr>\n",
       "  </thead>\n",
       "  <tbody>\n",
       "    <tr>\n",
       "      <th>28</th>\n",
       "      <td>2593347</td>\n",
       "      <td>2021Q1</td>\n",
       "    </tr>\n",
       "    <tr>\n",
       "      <th>29</th>\n",
       "      <td>3768841</td>\n",
       "      <td>2021Q2</td>\n",
       "    </tr>\n",
       "    <tr>\n",
       "      <th>30</th>\n",
       "      <td>4040786</td>\n",
       "      <td>2021Q3</td>\n",
       "    </tr>\n",
       "    <tr>\n",
       "      <th>31</th>\n",
       "      <td>4361704</td>\n",
       "      <td>2021Q4</td>\n",
       "    </tr>\n",
       "    <tr>\n",
       "      <th>32</th>\n",
       "      <td>4647179</td>\n",
       "      <td>2022Q1</td>\n",
       "    </tr>\n",
       "  </tbody>\n",
       "</table>\n",
       "</div>\n",
       "    <div class=\"colab-df-buttons\">\n",
       "\n",
       "  <div class=\"colab-df-container\">\n",
       "    <button class=\"colab-df-convert\" onclick=\"convertToInteractive('df-ea9a4e12-6b16-4b4d-8136-5205a1aeed92')\"\n",
       "            title=\"Convert this dataframe to an interactive table.\"\n",
       "            style=\"display:none;\">\n",
       "\n",
       "  <svg xmlns=\"http://www.w3.org/2000/svg\" height=\"24px\" viewBox=\"0 -960 960 960\">\n",
       "    <path d=\"M120-120v-720h720v720H120Zm60-500h600v-160H180v160Zm220 220h160v-160H400v160Zm0 220h160v-160H400v160ZM180-400h160v-160H180v160Zm440 0h160v-160H620v160ZM180-180h160v-160H180v160Zm440 0h160v-160H620v160Z\"/>\n",
       "  </svg>\n",
       "    </button>\n",
       "\n",
       "  <style>\n",
       "    .colab-df-container {\n",
       "      display:flex;\n",
       "      gap: 12px;\n",
       "    }\n",
       "\n",
       "    .colab-df-convert {\n",
       "      background-color: #E8F0FE;\n",
       "      border: none;\n",
       "      border-radius: 50%;\n",
       "      cursor: pointer;\n",
       "      display: none;\n",
       "      fill: #1967D2;\n",
       "      height: 32px;\n",
       "      padding: 0 0 0 0;\n",
       "      width: 32px;\n",
       "    }\n",
       "\n",
       "    .colab-df-convert:hover {\n",
       "      background-color: #E2EBFA;\n",
       "      box-shadow: 0px 1px 2px rgba(60, 64, 67, 0.3), 0px 1px 3px 1px rgba(60, 64, 67, 0.15);\n",
       "      fill: #174EA6;\n",
       "    }\n",
       "\n",
       "    .colab-df-buttons div {\n",
       "      margin-bottom: 4px;\n",
       "    }\n",
       "\n",
       "    [theme=dark] .colab-df-convert {\n",
       "      background-color: #3B4455;\n",
       "      fill: #D2E3FC;\n",
       "    }\n",
       "\n",
       "    [theme=dark] .colab-df-convert:hover {\n",
       "      background-color: #434B5C;\n",
       "      box-shadow: 0px 1px 3px 1px rgba(0, 0, 0, 0.15);\n",
       "      filter: drop-shadow(0px 1px 2px rgba(0, 0, 0, 0.3));\n",
       "      fill: #FFFFFF;\n",
       "    }\n",
       "  </style>\n",
       "\n",
       "    <script>\n",
       "      const buttonEl =\n",
       "        document.querySelector('#df-ea9a4e12-6b16-4b4d-8136-5205a1aeed92 button.colab-df-convert');\n",
       "      buttonEl.style.display =\n",
       "        google.colab.kernel.accessAllowed ? 'block' : 'none';\n",
       "\n",
       "      async function convertToInteractive(key) {\n",
       "        const element = document.querySelector('#df-ea9a4e12-6b16-4b4d-8136-5205a1aeed92');\n",
       "        const dataTable =\n",
       "          await google.colab.kernel.invokeFunction('convertToInteractive',\n",
       "                                                    [key], {});\n",
       "        if (!dataTable) return;\n",
       "\n",
       "        const docLinkHtml = 'Like what you see? Visit the ' +\n",
       "          '<a target=\"_blank\" href=https://colab.research.google.com/notebooks/data_table.ipynb>data table notebook</a>'\n",
       "          + ' to learn more about interactive tables.';\n",
       "        element.innerHTML = '';\n",
       "        dataTable['output_type'] = 'display_data';\n",
       "        await google.colab.output.renderOutput(dataTable, element);\n",
       "        const docLink = document.createElement('div');\n",
       "        docLink.innerHTML = docLinkHtml;\n",
       "        element.appendChild(docLink);\n",
       "      }\n",
       "    </script>\n",
       "  </div>\n",
       "\n",
       "\n",
       "<div id=\"df-a7531b8c-0e86-40d3-aa3b-ffb75863ce67\">\n",
       "  <button class=\"colab-df-quickchart\" onclick=\"quickchart('df-a7531b8c-0e86-40d3-aa3b-ffb75863ce67')\"\n",
       "            title=\"Suggest charts\"\n",
       "            style=\"display:none;\">\n",
       "\n",
       "<svg xmlns=\"http://www.w3.org/2000/svg\" height=\"24px\"viewBox=\"0 0 24 24\"\n",
       "     width=\"24px\">\n",
       "    <g>\n",
       "        <path d=\"M19 3H5c-1.1 0-2 .9-2 2v14c0 1.1.9 2 2 2h14c1.1 0 2-.9 2-2V5c0-1.1-.9-2-2-2zM9 17H7v-7h2v7zm4 0h-2V7h2v10zm4 0h-2v-4h2v4z\"/>\n",
       "    </g>\n",
       "</svg>\n",
       "  </button>\n",
       "\n",
       "<style>\n",
       "  .colab-df-quickchart {\n",
       "      --bg-color: #E8F0FE;\n",
       "      --fill-color: #1967D2;\n",
       "      --hover-bg-color: #E2EBFA;\n",
       "      --hover-fill-color: #174EA6;\n",
       "      --disabled-fill-color: #AAA;\n",
       "      --disabled-bg-color: #DDD;\n",
       "  }\n",
       "\n",
       "  [theme=dark] .colab-df-quickchart {\n",
       "      --bg-color: #3B4455;\n",
       "      --fill-color: #D2E3FC;\n",
       "      --hover-bg-color: #434B5C;\n",
       "      --hover-fill-color: #FFFFFF;\n",
       "      --disabled-bg-color: #3B4455;\n",
       "      --disabled-fill-color: #666;\n",
       "  }\n",
       "\n",
       "  .colab-df-quickchart {\n",
       "    background-color: var(--bg-color);\n",
       "    border: none;\n",
       "    border-radius: 50%;\n",
       "    cursor: pointer;\n",
       "    display: none;\n",
       "    fill: var(--fill-color);\n",
       "    height: 32px;\n",
       "    padding: 0;\n",
       "    width: 32px;\n",
       "  }\n",
       "\n",
       "  .colab-df-quickchart:hover {\n",
       "    background-color: var(--hover-bg-color);\n",
       "    box-shadow: 0 1px 2px rgba(60, 64, 67, 0.3), 0 1px 3px 1px rgba(60, 64, 67, 0.15);\n",
       "    fill: var(--button-hover-fill-color);\n",
       "  }\n",
       "\n",
       "  .colab-df-quickchart-complete:disabled,\n",
       "  .colab-df-quickchart-complete:disabled:hover {\n",
       "    background-color: var(--disabled-bg-color);\n",
       "    fill: var(--disabled-fill-color);\n",
       "    box-shadow: none;\n",
       "  }\n",
       "\n",
       "  .colab-df-spinner {\n",
       "    border: 2px solid var(--fill-color);\n",
       "    border-color: transparent;\n",
       "    border-bottom-color: var(--fill-color);\n",
       "    animation:\n",
       "      spin 1s steps(1) infinite;\n",
       "  }\n",
       "\n",
       "  @keyframes spin {\n",
       "    0% {\n",
       "      border-color: transparent;\n",
       "      border-bottom-color: var(--fill-color);\n",
       "      border-left-color: var(--fill-color);\n",
       "    }\n",
       "    20% {\n",
       "      border-color: transparent;\n",
       "      border-left-color: var(--fill-color);\n",
       "      border-top-color: var(--fill-color);\n",
       "    }\n",
       "    30% {\n",
       "      border-color: transparent;\n",
       "      border-left-color: var(--fill-color);\n",
       "      border-top-color: var(--fill-color);\n",
       "      border-right-color: var(--fill-color);\n",
       "    }\n",
       "    40% {\n",
       "      border-color: transparent;\n",
       "      border-right-color: var(--fill-color);\n",
       "      border-top-color: var(--fill-color);\n",
       "    }\n",
       "    60% {\n",
       "      border-color: transparent;\n",
       "      border-right-color: var(--fill-color);\n",
       "    }\n",
       "    80% {\n",
       "      border-color: transparent;\n",
       "      border-right-color: var(--fill-color);\n",
       "      border-bottom-color: var(--fill-color);\n",
       "    }\n",
       "    90% {\n",
       "      border-color: transparent;\n",
       "      border-bottom-color: var(--fill-color);\n",
       "    }\n",
       "  }\n",
       "</style>\n",
       "\n",
       "  <script>\n",
       "    async function quickchart(key) {\n",
       "      const quickchartButtonEl =\n",
       "        document.querySelector('#' + key + ' button');\n",
       "      quickchartButtonEl.disabled = true;  // To prevent multiple clicks.\n",
       "      quickchartButtonEl.classList.add('colab-df-spinner');\n",
       "      try {\n",
       "        const charts = await google.colab.kernel.invokeFunction(\n",
       "            'suggestCharts', [key], {});\n",
       "      } catch (error) {\n",
       "        console.error('Error during call to suggestCharts:', error);\n",
       "      }\n",
       "      quickchartButtonEl.classList.remove('colab-df-spinner');\n",
       "      quickchartButtonEl.classList.add('colab-df-quickchart-complete');\n",
       "    }\n",
       "    (() => {\n",
       "      let quickchartButtonEl =\n",
       "        document.querySelector('#df-a7531b8c-0e86-40d3-aa3b-ffb75863ce67 button');\n",
       "      quickchartButtonEl.style.display =\n",
       "        google.colab.kernel.accessAllowed ? 'block' : 'none';\n",
       "    })();\n",
       "  </script>\n",
       "</div>\n",
       "\n",
       "    </div>\n",
       "  </div>\n"
      ],
      "text/plain": [
       "    visitor_count year_quarter\n",
       "28        2593347       2021Q1\n",
       "29        3768841       2021Q2\n",
       "30        4040786       2021Q3\n",
       "31        4361704       2021Q4\n",
       "32        4647179       2022Q1"
      ]
     },
     "execution_count": 14,
     "metadata": {},
     "output_type": "execute_result"
    }
   ],
   "source": [
    "# Convert datatype of 'data_4'(visitor_count data)\n",
    "# To pandast datetime type\n",
    "data_4['DateTime'] = pd.to_datetime(data_4['DateTime'])\n",
    "# Data filtering\n",
    "data_4_filtered = data_4[data_4['DateTime'].dt.year.isin([2021, 2022, 2023, 2024])]\n",
    "data_4_filtered['DateTime'] = data_4_filtered['DateTime'].dt.to_period('Q')\n",
    "data_4_filtered['year_quarter'] = data_4_filtered['DateTime']\n",
    "# Dropping unecessary column\n",
    "data_4_filtered = data_4_filtered.drop('DateTime',axis=1)\n",
    "data_4_filtered = data_4_filtered.drop('Regional VIC',axis=1)\n",
    "data_4_filtered = data_4_filtered.rename(columns={'Melbourne': 'visitor_count'})\n",
    "# Checking result\n",
    "data_4_filtered.head()"
   ]
  },
  {
   "cell_type": "markdown",
   "metadata": {
    "id": "pF7MgJkefcc9"
   },
   "source": [
    "Aggregate the tourist data quarterly. It will be used in regression analysis"
   ]
  },
  {
   "cell_type": "code",
   "execution_count": 15,
   "metadata": {
    "colab": {
     "base_uri": "https://localhost:8080/"
    },
    "id": "Y5wl5Kb-qOWN",
    "outputId": "538997d8-b230-4aa1-e7f0-5d402722cc57"
   },
   "outputs": [
    {
     "name": "stdout",
     "output_type": "stream",
     "text": [
      "  sensor_name    year_day                    location  pedestriancount  \\\n",
      "0   261Will_T  2022-11-17  -37.81295822, 144.95678789             3993   \n",
      "1   261Will_T  2022-11-18  -37.81295822, 144.95678789            11594   \n",
      "2   261Will_T  2022-11-19  -37.81295822, 144.95678789             3200   \n",
      "3   261Will_T  2022-11-20  -37.81295822, 144.95678789             2855   \n",
      "4   261Will_T  2022-11-21  -37.81295822, 144.95678789            11506   \n",
      "\n",
      "    latitude   longitude  \n",
      "0 -37.812958  144.956788  \n",
      "1 -37.812958  144.956788  \n",
      "2 -37.812958  144.956788  \n",
      "3 -37.812958  144.956788  \n",
      "4 -37.812958  144.956788  \n"
     ]
    }
   ],
   "source": [
    "# Create columns of 'latitude'and 'longitude' for folium mapping\n",
    "# data_1_1\n",
    "data_1_1[['latitude', 'longitude']] = data_1_1['location'].str.split(',', expand=True)\n",
    "data_1_1['latitude'] = pd.to_numeric(data_1_1['latitude'], errors='coerce')\n",
    "data_1_1['longitude'] = pd.to_numeric(data_1_1['longitude'], errors='coerce')\n",
    "# data_1_3\n",
    "data_1_3[['latitude', 'longitude']] = data_1_3['location'].str.split(',', expand=True)\n",
    "data_1_3['latitude'] = pd.to_numeric(data_1_3['latitude'], errors='coerce')\n",
    "data_1_3['longitude'] = pd.to_numeric(data_1_3['longitude'], errors='coerce')\n",
    "#data_2\n",
    "data_2[['latitude', 'longitude']] = data_2['co_ordinates'].str.split(',', expand=True)\n",
    "data_2['latitude'] = pd.to_numeric(data_2['latitude'], errors='coerce')\n",
    "data_2['longitude'] = pd.to_numeric(data_2['longitude'], errors='coerce')\n",
    "#data_3_cleaned\n",
    "data_3_cleaned[['latitude', 'longitude']] = data_3_cleaned['co_ordinates'].str.split(',', expand=True)\n",
    "data_3_cleaned['latitude'] = pd.to_numeric(data_3_cleaned['latitude'], errors='coerce')\n",
    "data_3_cleaned['longitude'] = pd.to_numeric(data_3_cleaned['longitude'], errors='coerce')\n",
    "data_3_cleaned['latitude'] = data_3_cleaned['latitude'].astype(float)\n",
    "data_3_cleaned['longitude'] = data_3_cleaned['longitude'].astype(float)\n",
    "#Checking results\n",
    "print(data_1_3.head())"
   ]
  },
  {
   "cell_type": "markdown",
   "metadata": {
    "id": "5G_ILnb6f8r2"
   },
   "source": [
    "Create latitude and longitude columns for each dataset"
   ]
  },
  {
   "cell_type": "markdown",
   "metadata": {
    "id": "ZaJuo2JaVS_j"
   },
   "source": [
    "# Data visualization"
   ]
  },
  {
   "cell_type": "code",
   "execution_count": null,
   "metadata": {
    "colab": {
     "base_uri": "https://localhost:8080/",
     "height": 1000
    },
    "id": "DbRMV5PQWAfs",
    "outputId": "e321e6fa-fa12-443f-91eb-415498201c61"
   },
   "outputs": [],
   "source": [
    "# Merge Pedestrian Data and Tourist Attraction Data on a Map\n",
    "# Creating a map\n",
    "map_melbourne = folium.Map(location=[-37.80841814,144.95906317], zoom_start=14, width=1000, height=600, control_scale=True)\n",
    "# Pedestrian data\n",
    "for index, row in data_1_1.iterrows():\n",
    "    folium.CircleMarker(\n",
    "        location=[row['latitude'], row['longitude']],\n",
    "        radius=5,\n",
    "        color='blue',\n",
    "        fill=True,\n",
    "        fill_color='blue',\n",
    "        fill_opacity=0.6,\n",
    "        popup=f\"Location: {row['sensor_name']}<br>Count: {row['pedestriancount']}\",\n",
    "    ).add_to(map_melbourne)\n",
    "\n",
    "# Tourist spots data\n",
    "for index, row in data_3_cleaned.iterrows():\n",
    "    folium.Marker(\n",
    "        location=[row['latitude'], row['longitude']],\n",
    "        popup=f\"Name: {row['name']}<br>Type: {row['asset_type']}\",\n",
    "        icon=folium.Icon(color='green', icon='info-sign')\n",
    "    ).add_to(map_melbourne)\n",
    "\n",
    "# Adding a legend\n",
    "legend_html = '''\n",
    "<div style=\"position: fixed;\n",
    "     top: 10px; left: 10px; width: 150px; height: 90px;\n",
    "     border:2px solid grey; z-index:9999; font-size:14px;\n",
    "     background-color: white; padding: 10px;\">\n",
    "     <b>Legend</b><br>\n",
    "     <i style=\"color:blue;\" class=\"fa fa-circle\"></i> Pedestrian Count Sensor Locations<br>\n",
    "     <i style=\"color:green;\" class=\"fa fa-info-circle\"></i> Tourist Spots</div>\n",
    "'''\n",
    "map_melbourne.get_root().html.add_child(folium.Element(legend_html))\n",
    "\n",
    "# Map displaying\n",
    "map_melbourne.save('melbourne_map.html')\n",
    "display(map_melbourne)"
   ]
  },
  {
   "cell_type": "markdown",
   "metadata": {
    "id": "t3suvVldgVBG"
   },
   "source": [
    "The map above visually represent the correlation between the pedestrian data and tourist spots data"
   ]
  },
  {
   "cell_type": "code",
   "execution_count": 17,
   "metadata": {
    "colab": {
     "base_uri": "https://localhost:8080/",
     "height": 772
    },
    "id": "fI0DxbwZW3Z9",
    "outputId": "3fc63ad6-5f5c-42df-8508-8ca3fac12183"
   },
   "outputs": [
    {
     "name": "stdout",
     "output_type": "stream",
     "text": [
      "   year_quarter  pedestriancount  visitor_count\n",
      "0        2021Q3         19152943        4040786\n",
      "1        2021Q4         33159337        4361704\n",
      "2        2022Q1         37898480        4647179\n",
      "3        2022Q2         46924338        5400025\n",
      "4        2022Q3         48843359        7219067\n",
      "5        2022Q4         54960213        8556485\n",
      "6        2023Q1         57335887        9419538\n",
      "7        2023Q2         58063867        9829835\n",
      "8        2023Q3         63283379       10084297\n",
      "9        2023Q4         70728077       10257111\n",
      "10       2024Q1         69336334       10365636\n"
     ]
    },
    {
     "data": {
      "image/png": "[encoded data removed]",
      "text/plain": [
       "<Figure size 1000x600 with 1 Axes>"
      ]
     },
     "metadata": {},
     "output_type": "display_data"
    }
   ],
   "source": [
    "# Dataset merge for scatter plot\n",
    "merged_data_1 = pd.merge(data_1_2, data_4_filtered, on='year_quarter', how='inner')\n",
    "# Merged_data checking\n",
    "print(merged_data_1)\n",
    "\n",
    "# Scatter plot\n",
    "plt.figure(figsize=(10, 6))\n",
    "plt.scatter(data_1_2['pedestriancount'], data_4_filtered['visitor_count'], color='blue', alpha=0.5)\n",
    "plt.title('Scatter Plot of Pedestrian Count vs Tourist Count')\n",
    "plt.xlabel('Pedestrian Count')\n",
    "plt.ylabel('Tourist Count')\n",
    "plt.show()"
   ]
  },
  {
   "cell_type": "markdown",
   "metadata": {
    "id": "LLGtzK2-hER7"
   },
   "source": [
    "The scatter plot above shows the linear relationship between the pedestrian data and tourist data"
   ]
  },
  {
   "cell_type": "markdown",
   "metadata": {
    "id": "ow711rtQ7lnq"
   },
   "source": [
    "# Data analysis"
   ]
  },
  {
   "cell_type": "markdown",
   "metadata": {
    "id": "QQxDKYXKR1bo"
   },
   "source": [
    "**Pearson Correalation Analysis**"
   ]
  },
  {
   "cell_type": "code",
   "execution_count": 18,
   "metadata": {
    "colab": {
     "base_uri": "https://localhost:8080/"
    },
    "id": "KdOmzwjTVLvZ",
    "outputId": "89690298-0b2a-4339-f35f-bf4235a92047"
   },
   "outputs": [
    {
     "name": "stdout",
     "output_type": "stream",
     "text": [
      "Pearson Correlation Coefficient: 0.9384815117290771\n"
     ]
    }
   ],
   "source": [
    "# Pearson Correlation Analysis(Pedestrian counting dataset and tourist dataset)\n",
    "correlation = merged_data_1['pedestriancount'].corr(merged_data_1['visitor_count'])\n",
    "print(f\"Pearson Correlation Coefficient: {correlation}\")"
   ]
  },
  {
   "cell_type": "markdown",
   "metadata": {
    "id": "DFWVg0k3hxdJ"
   },
   "source": [
    "Conduct a Pearson correlation coefficient analysis on the total pedestrian data and tourist data for the same period. The result is very high, indicating a strong correlation."
   ]
  },
  {
   "cell_type": "markdown",
   "metadata": {
    "id": "7PgE020vRv1p"
   },
   "source": [
    "**Regression Analysis**"
   ]
  },
  {
   "cell_type": "code",
   "execution_count": 19,
   "metadata": {
    "colab": {
     "base_uri": "https://localhost:8080/"
    },
    "id": "N4hrADTK7kzj",
    "outputId": "b5faf3a3-6d29-4231-a537-aa4b0f1fb026"
   },
   "outputs": [
    {
     "name": "stdout",
     "output_type": "stream",
     "text": [
      "   year_quarter  pedestriancount  visitor_count\n",
      "0        2021Q3         19152943        4040786\n",
      "1        2021Q4         33159337        4361704\n",
      "2        2022Q1         37898480        4647179\n",
      "3        2022Q2         46924338        5400025\n",
      "4        2022Q3         48843359        7219067\n",
      "5        2022Q4         54960213        8556485\n",
      "6        2023Q1         57335887        9419538\n",
      "7        2023Q2         58063867        9829835\n",
      "8        2023Q3         63283379       10084297\n",
      "9        2023Q4         70728077       10257111\n",
      "10       2024Q1         69336334       10365636\n",
      "Regression Coefficient: [0.19797284]\n",
      "R-squared: 0.8006500040727327\n",
      "Mean Absolute Error: 1423366.9560733212\n",
      "Mean Squared Error (MSE): 3168240628361.365\n"
     ]
    }
   ],
   "source": [
    "# Regression model\n",
    "# 'fpedestriancount' is independent variable, 'visitor_count' is dependent variable\n",
    "X = merged_data_1[['pedestriancount']]\n",
    "y = merged_data_1['visitor_count']\n",
    "# Dataset split\n",
    "X_train, X_test, y_train, y_test = train_test_split(X, y, test_size=0.2, random_state=42)\n",
    "# Regression model fit\n",
    "model = LinearRegression()\n",
    "model.fit(X_train, y_train)\n",
    "# Regression model predict\n",
    "y_pred = model.predict(X_test)\n",
    "r_squared = model.score(X, y)\n",
    "mae = mean_absolute_error(y_test, y_pred)\n",
    "mse = mean_squared_error(y_test, y_pred)\n",
    "# Regression model results\n",
    "print(merged_data_1)\n",
    "print(f\"Regression Coefficient: {model.coef_}\")\n",
    "print(f\"R-squared: {r_squared}\")\n",
    "print(f\"Mean Absolute Error: {mae}\")\n",
    "print(f\"Mean Squared Error (MSE): {mse}\")"
   ]
  },
  {
   "cell_type": "markdown",
   "metadata": {
    "id": "INbEELCJjcsB"
   },
   "source": [
    "Base on the Pearson correlation coefficient result indicating a strong correlation, conduct a regression analysis of the two datasets. Examine the regression coefficient to determine the relationship between the pedestrian data and tourist data, and review the MAE, MSE, and R-squared results to verify the accuracy of the analysis."
   ]
  },
  {
   "cell_type": "markdown",
   "metadata": {
    "id": "MMbn9SEGR7GQ"
   },
   "source": [
    "**Estimation of Regional Tourist Numbers Using the Regression Coefficient**"
   ]
  },
  {
   "cell_type": "code",
   "execution_count": 20,
   "metadata": {
    "colab": {
     "base_uri": "https://localhost:8080/"
    },
    "id": "Ay0n6D6SSQIY",
    "outputId": "0e612e68-54d3-44d3-c467-466d9fde2d44"
   },
   "outputs": [
    {
     "name": "stdout",
     "output_type": "stream",
     "text": [
      "  sensor_name  year_month                    location  pedestriancount  \\\n",
      "0   261Will_T  2022-11-30  -37.81295822, 144.95678789            91518   \n",
      "1   261Will_T  2022-12-31  -37.81295822, 144.95678789            50214   \n",
      "2   261Will_T  2023-01-31  -37.81295822, 144.95678789            38818   \n",
      "3   261Will_T  2023-05-31  -37.81295822, 144.95678789           216910   \n",
      "4   261Will_T  2023-06-30  -37.81295822, 144.95678789           288651   \n",
      "5   261Will_T  2023-07-31  -37.81295822, 144.95678789           314142   \n",
      "6   261Will_T  2023-08-31  -37.81295822, 144.95678789           343645   \n",
      "7   261Will_T  2023-09-30  -37.81295822, 144.95678789           303683   \n",
      "8   261Will_T  2023-10-31  -37.81295822, 144.95678789           328492   \n",
      "9   261Will_T  2023-11-30  -37.81295822, 144.95678789           316824   \n",
      "\n",
      "    latitude   longitude  estimated_tourist_count  \n",
      "0 -37.812958  144.956788                18120.564  \n",
      "1 -37.812958  144.956788                 9942.372  \n",
      "2 -37.812958  144.956788                 7685.964  \n",
      "3 -37.812958  144.956788                42948.180  \n",
      "4 -37.812958  144.956788                57152.898  \n",
      "5 -37.812958  144.956788                62200.116  \n",
      "6 -37.812958  144.956788                68041.710  \n",
      "7 -37.812958  144.956788                60129.234  \n",
      "8 -37.812958  144.956788                65041.416  \n",
      "9 -37.812958  144.956788                62731.152  \n",
      "(2847, 7)\n"
     ]
    }
   ],
   "source": [
    "# Regression_coefficient\n",
    "regression_coefficient = 0.198\n",
    "# Estimation regional tourists numbers\n",
    "data_1_1_estimation = data_1_1.copy()\n",
    "data_1_1_estimation['estimated_tourist_count'] = data_1_1['pedestriancount'] * regression_coefficient\n",
    "print(data_1_1_estimation.head(10))\n",
    "print(data_1_1_estimation.shape)"
   ]
  },
  {
   "cell_type": "markdown",
   "metadata": {
    "id": "V0s21NwYlF0-"
   },
   "source": [
    "Use the regression coefficient to extract the proportion of tourists for each sensor from the pedestrian data."
   ]
  },
  {
   "cell_type": "markdown",
   "metadata": {
    "id": "g_osOXVOdX24"
   },
   "source": [
    "**Matching the closest pedestrian counting sensor to a tourist spot**"
   ]
  },
  {
   "cell_type": "code",
   "execution_count": 22,
   "metadata": {
    "colab": {
     "base_uri": "https://localhost:8080/"
    },
    "id": "XxknF27gOr-G",
    "outputId": "13f55106-9aeb-4fee-b1a4-ee3d52e42ca9"
   },
   "outputs": [
    {
     "name": "stdout",
     "output_type": "stream",
     "text": [
      "                tourist_location pedestrian_sensor  pedestrian_count  \\\n",
      "0                       Blowhole           WebBN_T             80218   \n",
      "1                      Bandstand          Bou231_T            178078   \n",
      "2               Federation Bells      BirFed1120_T             88316   \n",
      "3                   Coat of Arms          Swa123_T            257070   \n",
      "4     Edmund Fitzgibbon Memorial             VAC_T            378528   \n",
      "..                           ...               ...               ...   \n",
      "256       Dinny O'Hearn Fountain          Lyg309_T            110294   \n",
      "257  Westgarth Drinking Fountain          Spr201_T             68561   \n",
      "258     Pioneer Women's Memorial             VAC_T            378528   \n",
      "259                Painted Poles           SwaCs_T            152538   \n",
      "260                        Angel      BirFed1120_T             88316   \n",
      "\n",
      "     distance_km  tour_latitude  tour_longitude  estimated_tourist_count  \n",
      "0       0.105429     -37.822018      144.946871                15883.164  \n",
      "1       0.095419     -37.814055      144.967339                35259.444  \n",
      "2       0.059180     -37.818674      144.974167                17486.568  \n",
      "3       0.047369     -37.815158      144.966496                50899.860  \n",
      "4       0.294161     -37.823612      144.970419                74948.544  \n",
      "..           ...            ...             ...                      ...  \n",
      "256     0.054349     -37.797599      144.967306                21838.212  \n",
      "257     0.554235     -37.805091      144.973417                13575.078  \n",
      "258     0.767606     -37.825115      144.976076                74948.544  \n",
      "259     0.005837     -37.815741      144.966836                30202.524  \n",
      "260     0.081072     -37.818954      144.972959                17486.568  \n",
      "\n",
      "[261 rows x 7 columns]\n"
     ]
    }
   ],
   "source": [
    "# Calculating the distance between the sensor location and tourist spots location using Haversine\n",
    "def haversine(lat1, lon1, lat2, lon2):\n",
    "    R = 6371.0\n",
    "    phi1 = np.radians(lat1)\n",
    "    phi2 = np.radians(lat2)\n",
    "    delta_phi = np.radians(lat2 - lat1)\n",
    "    delta_lambda = np.radians(lon2 - lon1)\n",
    "\n",
    "    a = np.sin(delta_phi / 2.0) ** 2 + np.cos(phi1) * np.cos(phi2) * np.sin(delta_lambda / 2.0) ** 2\n",
    "    c = 2 * np.arctan2(np.sqrt(a), np.sqrt(1 - a))\n",
    "\n",
    "    return R * c\n",
    "# Matching tourist spots and the neartest sensor location\n",
    "def match_closest_pedestrian_data(tourist_data, pedestrian_data):\n",
    "    matches = []\n",
    "\n",
    "    for _, tour_row in tourist_data.iterrows():\n",
    "        min_distance = float('inf')\n",
    "        closest_pedestrian = None\n",
    "\n",
    "        for _, ped_row in pedestrian_data.iterrows():\n",
    "            distance = haversine(tour_row['latitude'], tour_row['longitude'], ped_row['latitude'], ped_row['longitude'])\n",
    "            if distance < min_distance:\n",
    "                min_distance = distance\n",
    "                closest_pedestrian = ped_row\n",
    "        estimated_tourist_count = closest_pedestrian['pedestriancount'] * regression_coefficient\n",
    "\n",
    "        matches.append({\n",
    "            'tourist_location': tour_row['name'],\n",
    "            'pedestrian_sensor': closest_pedestrian['sensor_name'],\n",
    "            'pedestrian_count': closest_pedestrian['pedestriancount'],\n",
    "            'distance_km': min_distance,\n",
    "            'tour_latitude' : tour_row['latitude'],\n",
    "            'tour_longitude' : tour_row['longitude'],\n",
    "            'estimated_tourist_count' : estimated_tourist_count,\n",
    "            })\n",
    "\n",
    "    return pd.DataFrame(matches)\n",
    "# Matching results\n",
    "matched_data = match_closest_pedestrian_data(data_3_cleaned, data_1_1_estimation)\n",
    "print(matched_data)"
   ]
  },
  {
   "cell_type": "markdown",
   "metadata": {
    "id": "QMHWsLxamNj7"
   },
   "source": [
    "Match each tourist spot with the nearest pedestrian sensor to estimate the number of tourists."
   ]
  },
  {
   "cell_type": "markdown",
   "metadata": {
    "id": "8LPIISq3wAAN"
   },
   "source": [
    "**Time series prediction**"
   ]
  },
  {
   "cell_type": "code",
   "execution_count": 23,
   "metadata": {
    "id": "VvlCcdTGxavl"
   },
   "outputs": [],
   "source": [
    "# Preprocessing for time series prediction\n",
    "data_1_3_estimation = data_1_3.copy()\n",
    "data_1_3_estimation['year_day'] = pd.to_datetime(data_1_3_estimation['year_day'])\n",
    "data_1_3_estimation['estimated_tourist_count'] = data_1_3['pedestriancount'] * regression_coefficient\n",
    "# Drop duplicate sensor 'BirBridge_T'\n",
    "data_1_3_estimation = data_1_3_estimation[data_1_3_estimation['sensor_name'] != 'BirBridge_T']"
   ]
  },
  {
   "cell_type": "code",
   "execution_count": null,
   "metadata": {
    "colab": {
     "base_uri": "https://localhost:8080/",
     "height": 1000
    },
    "id": "W9V_aY5swFLW",
    "outputId": "cb51c674-2e48-4141-bb14-dc8d2771baa1"
   },
   "outputs": [],
   "source": [
    "# ARIMA model\n",
    "results = []\n",
    "sensor_groups = data_1_3_estimation.groupby('sensor_name')\n",
    "# Time serires model fit and forcast for each areas\n",
    "for sensor_name, group in sensor_groups:\n",
    "    if len(group) >= 10:\n",
    "        print(f\"Processing sensor: {sensor_name}\")\n",
    "        ts_data = group.set_index('year_day')['estimated_tourist_count']\n",
    "        ts_data = ts_data.asfreq('D')\n",
    "        ts_data = ts_data.ffill()\n",
    "        ts_data = ts_data.astype(int)\n",
    "\n",
    "        # Data split\n",
    "        train_size = int(len(ts_data) * 0.7)\n",
    "        train, test = ts_data[:train_size], ts_data[train_size:]\n",
    "\n",
    "        # SARIMA\n",
    "        model = SARIMAX(train, order=(2, 1, 2), seasonal_order=(1, 1, 1, 12))\n",
    "        # model = ARIMA(train, order=(3, 1, 2)) Arima model\n",
    "        model_fit = model.fit()\n",
    "\n",
    "        # Prediction for test data\n",
    "        forecast = model_fit.forecast(steps=len(test))\n",
    "\n",
    "        # RMSE\n",
    "        rmse = np.sqrt(mean_squared_error(test, forecast))\n",
    "\n",
    "        # Forcast_increase\n",
    "        forecast_increase = forecast.iloc[-1] - forecast.iloc[0]\n",
    "\n",
    "        # AIC, BIC\n",
    "        aic = model_fit.aic\n",
    "        bic = model_fit.bic\n",
    "        print(f\"AIC for sensor {sensor_name}: {aic}\")\n",
    "        print(f\"BIC for sensor {sensor_name}: {bic}\")\n",
    "\n",
    "        # Results\n",
    "        results.append({\n",
    "            'sensor_name': sensor_name,\n",
    "            'rmse': rmse,\n",
    "            'forecast_increase': forecast_increase,\n",
    "        })\n",
    "\n",
    "        # Results print\n",
    "        print(f\"RMSE for sensor {sensor_name}: {rmse}\")\n",
    "        print(f\"Forecast for sensor {sensor_name}:\\n{forecast}\\n\")\n",
    "        print(f\"Forecast Increase for sensor {sensor_name}: {forecast_increase}\\n\")\n",
    "\n",
    "        # Visualization\n",
    "        plt.figure(figsize=(10, 6))\n",
    "        plt.plot(train.index, train, label='Training Data')\n",
    "        plt.plot(test.index, test, label='Test Data', color='green')\n",
    "        plt.plot(test.index, forecast, label='Forecast', color='red')\n",
    "        plt.title(f'Forecast for Sensor {sensor_name}')\n",
    "        plt.xlabel('Date')\n",
    "        plt.ylabel('Estimated Tourist Count')\n",
    "        plt.legend()\n",
    "        plt.show()\n",
    "\n",
    "\n",
    "    else:\n",
    "        print(f\"Skipping sensor {sensor_name} due to insufficient data.\")\n",
    "\n",
    "# result\n",
    "results_df = pd.DataFrame(results)"
   ]
  },
  {
   "cell_type": "markdown",
   "metadata": {
    "id": "L2rryPMNohgw"
   },
   "source": [
    "Perform time series prediction for each sensor using daily pedestrian data and the estimated tourist data."
   ]
  },
  {
   "cell_type": "code",
   "execution_count": 25,
   "metadata": {
    "colab": {
     "base_uri": "https://localhost:8080/"
    },
    "id": "WD7dO-HI_D0J",
    "outputId": "df83fd5d-1959-4c26-ab2b-014a0e59ec5d"
   },
   "outputs": [
    {
     "name": "stdout",
     "output_type": "stream",
     "text": [
      "   sensor_name         rmse  forecast_increase\n",
      "23    Col700_T  1753.170327        3023.296543\n",
      "63      RMIT_T  1659.274072        2049.594714\n",
      "60       QVN_T  1170.318378        1466.542436\n",
      "21    Col620_T   976.372848        1394.464178\n",
      "76       Swa31  4153.878751        1290.145887\n",
      "24      ElFi_T  1069.836633        1161.107265\n",
      "55      MCEC_T  1379.774349        1106.678755\n",
      "73    Swa123_T  1626.819741        1100.877376\n",
      "25    Eli250_T  1075.237477         964.489569\n",
      "75    Swa295_T  1479.962155         922.407188\n"
     ]
    }
   ],
   "source": [
    "# Filtering the top 10 sensors\n",
    "top_10 = results_df.sort_values(by='rmse').nlargest(10, 'forecast_increase')\n",
    "print(top_10)"
   ]
  },
  {
   "cell_type": "markdown",
   "metadata": {
    "id": "-pk8AvB0yfGa"
   },
   "source": [
    "List the top 10 sensors where the number of tourists is expected to increase the most by calculating the difference between the first and last predicted values."
   ]
  },
  {
   "cell_type": "code",
   "execution_count": 26,
   "metadata": {
    "colab": {
     "base_uri": "https://localhost:8080/"
    },
    "id": "puXVuHdtHnU9",
    "outputId": "4330e6c3-7aea-4824-85f8-07c4be87ee86"
   },
   "outputs": [
    {
     "name": "stdout",
     "output_type": "stream",
     "text": [
      "  sensor_name         rmse  forecast_increase  year_month  \\\n",
      "0    Col700_T  1753.170327        3023.296543  2021-07-31   \n",
      "1      RMIT_T  1659.274072        2049.594714  2021-07-31   \n",
      "2       QVN_T  1170.318378        1466.542436  2021-07-31   \n",
      "3    Col620_T   976.372848        1394.464178  2021-07-31   \n",
      "4       Swa31  4153.878751        1290.145887  2021-07-31   \n",
      "5      ElFi_T  1069.836633        1161.107265  2021-07-31   \n",
      "6      MCEC_T  1379.774349        1106.678755  2021-07-31   \n",
      "7    Swa123_T  1626.819741        1100.877376  2021-07-31   \n",
      "8    Eli250_T  1075.237477         964.489569  2021-07-31   \n",
      "9    Swa295_T  1479.962155         922.407188  2021-07-31   \n",
      "\n",
      "                     location  pedestriancount   latitude   longitude  \\\n",
      "0  -37.81982992, 144.95102555            82497 -37.819830  144.951026   \n",
      "1  -37.80825648, 144.96304859           137066 -37.808256  144.963049   \n",
      "2  -37.81057846, 144.96444294           327068 -37.810578  144.964443   \n",
      "3  -37.81887963, 144.95449198           273023 -37.818880  144.954492   \n",
      "4  -37.81668634, 144.96689733           616339 -37.816686  144.966897   \n",
      "5  -37.81798049, 144.96503383           559801 -37.817980  144.965034   \n",
      "6  -37.82401776, 144.95604426           302050 -37.824018  144.956044   \n",
      "7   -37.81487988, 144.9660878           257070 -37.814880  144.966088   \n",
      "8   -37.81258467, 144.9625775           303623 -37.812585  144.962578   \n",
      "9  -37.81101524, 144.96429485           132637 -37.811015  144.964295   \n",
      "\n",
      "   estimated_tourist_count  \n",
      "0                16334.406  \n",
      "1                27139.068  \n",
      "2                64759.464  \n",
      "3                54058.554  \n",
      "4               122035.122  \n",
      "5               110840.598  \n",
      "6                59805.900  \n",
      "7                50899.860  \n",
      "8                60117.354  \n",
      "9                26262.126  \n"
     ]
    }
   ],
   "source": [
    "# 'top_10_results'\n",
    "data_for_join  = data_1_1_estimation.drop_duplicates(subset=['sensor_name'], keep='first')\n",
    "# 'left join'\n",
    "top_10_results = pd.merge(top_10, data_for_join, on='sensor_name', how='left')\n",
    "print(top_10_results)"
   ]
  },
  {
   "cell_type": "markdown",
   "metadata": {
    "id": "22p2cCUcp9pZ"
   },
   "source": [
    "Rematch the top_10 results with location , the pedestrian couting, and estimated tourist couting data."
   ]
  },
  {
   "cell_type": "code",
   "execution_count": 27,
   "metadata": {
    "colab": {
     "base_uri": "https://localhost:8080/"
    },
    "id": "PEU0EXXCIbF8",
    "outputId": "180b670b-c5b1-437b-de9a-2b4fc7d64470"
   },
   "outputs": [
    {
     "name": "stdout",
     "output_type": "stream",
     "text": [
      "  sensor_name  sensor_latitude  sensor_longitude  \\\n",
      "0    Col700_T       -37.819830        144.951026   \n",
      "1      RMIT_T       -37.808256        144.963049   \n",
      "2       QVN_T       -37.810578        144.964443   \n",
      "3    Col620_T       -37.818880        144.954492   \n",
      "4       Swa31       -37.816686        144.966897   \n",
      "5      ElFi_T       -37.817980        144.965034   \n",
      "6      MCEC_T       -37.824018        144.956044   \n",
      "7    Swa123_T       -37.814880        144.966088   \n",
      "8    Eli250_T       -37.812585        144.962578   \n",
      "9    Swa295_T       -37.811015        144.964295   \n",
      "\n",
      "          closest_tourist_location   arttype  tourist_latitude  \\\n",
      "0                        Feng Shui       Art        -37.819823   \n",
      "1           Architectural Fragment       Art        -37.809828   \n",
      "2                    Painted Poles       Art        -37.810347   \n",
      "3                            Eagle       Art        -37.820725   \n",
      "4    Beyond the Ocean of Existence       Art        -37.816424   \n",
      "5  Captain Matthew Flinders Statue  Monument        -37.816963   \n",
      "6                            Eagle       Art        -37.820725   \n",
      "7                     Coat of Arms       Art        -37.815048   \n",
      "8                 The Public Purse       Art        -37.814098   \n",
      "9                    Resting Place       Art        -37.810372   \n",
      "\n",
      "   tourist_longitude  distance_km  \n",
      "0         144.951105     0.007014  \n",
      "1         144.964046     0.195443  \n",
      "2         144.964281     0.029410  \n",
      "3         144.952391     0.275935  \n",
      "4         144.967062     0.032577  \n",
      "5         144.967488     0.243414  \n",
      "6         144.952391     0.486853  \n",
      "7         144.966444     0.036469  \n",
      "8         144.963401     0.183125  \n",
      "9         144.964077     0.074044  \n"
     ]
    }
   ],
   "source": [
    "# 'Find the closest tourist location for each sensor based on 'top_10_results'\n",
    "matching_results = []\n",
    "\n",
    "# 'top_10_results'\n",
    "for i, row_sensor in top_10_results.iterrows():\n",
    "    min_distance = float('inf')\n",
    "    closest_location = None\n",
    "    closest_arttype = None\n",
    "    closest_lat = None\n",
    "    closest_lon = None\n",
    "\n",
    "    # 'tourist spots'\n",
    "    for j, row_tourist in data_3_cleaned.iterrows():\n",
    "        distance = haversine(row_sensor['latitude'], row_sensor['longitude'],\n",
    "                             row_tourist['latitude'], row_tourist['longitude'])\n",
    "\n",
    "        # updating tourist spots\n",
    "        if distance < min_distance:\n",
    "            min_distance = distance\n",
    "            closest_location = row_tourist['name']\n",
    "            closest_arttype = row_tourist['asset_type']\n",
    "            closest_lat = row_tourist['latitude']\n",
    "            closest_lon = row_tourist['longitude']\n",
    "\n",
    "    # Save results\n",
    "    matching_results.append({\n",
    "        'sensor_name': row_sensor['sensor_name'],\n",
    "        'sensor_latitude': row_sensor['latitude'],\n",
    "        'sensor_longitude': row_sensor['longitude'],\n",
    "        'closest_tourist_location': closest_location,\n",
    "        'arttype': closest_arttype,\n",
    "        'tourist_latitude': closest_lat,\n",
    "        'tourist_longitude': closest_lon,\n",
    "        'distance_km': min_distance\n",
    "    })\n",
    "\n",
    "# Printing result\n",
    "matching_results_df = pd.DataFrame(matching_results)\n",
    "print(matching_results_df)"
   ]
  },
  {
   "cell_type": "markdown",
   "metadata": {
    "id": "qmv38HUzqir9"
   },
   "source": [
    "Match the top_10 sensors with the closest tourist spots."
   ]
  },
  {
   "cell_type": "code",
   "execution_count": null,
   "metadata": {
    "colab": {
     "base_uri": "https://localhost:8080/",
     "height": 1000
    },
    "id": "0cWPi0OFyRmq",
    "outputId": "a9eb65ba-5124-4819-8638-3cc4c6d79936"
   },
   "outputs": [],
   "source": [
    "# color list for matched data\n",
    "colors = ['red', 'blue', 'green', 'purple', 'orange', 'darkred', 'lightred',\n",
    "          'beige', 'darkblue', 'darkgreen']\n",
    "\n",
    "# Creating a map\n",
    "map_top_10 = folium.Map(location=[-37.80841814, 144.95906317], zoom_start=14, width=1000, height=600, control_scale=True)\n",
    "# top_10_results\n",
    "for index, row in matching_results_df.iterrows():\n",
    "    color = colors[index % len(colors)]\n",
    "    # sensor_location\n",
    "    folium.CircleMarker(\n",
    "        location=[row['sensor_latitude'], row['sensor_longitude']],\n",
    "        radius=5,\n",
    "        color=color,\n",
    "        fill=True,\n",
    "        fill_color=color,\n",
    "        fill_opacity=0.6,\n",
    "        popup=f\"Sensor: {row['sensor_name']}<br>Count: {row['distance_km']:.2f} km to closest tourist spot\",\n",
    "    ).add_to(map_top_10)\n",
    "\n",
    "    # tourist spots\n",
    "    folium.Marker(\n",
    "        location=[row['tourist_latitude'], row['tourist_longitude']],\n",
    "        popup=f\"Name: {row['closest_tourist_location']}<br>Type: {row['arttype']}\",\n",
    "        icon=folium.Icon(color=color, icon='info-sign')\n",
    "    ).add_to(map_top_10)\n",
    "\n",
    "\n",
    "# Adding a legend\n",
    "legend_html_2 = '''\n",
    "<div style=\"position: fixed;\n",
    "     top: 10px; left: 10px; width: 150px; height: 90px;\n",
    "     border:2px solid grey; z-index:9999; font-size:14px;\n",
    "     background-color: white; padding: 10px;\">\n",
    "     <b>Legend</b><br>\n",
    "     <i style=\"color:green;\" class=\"fa fa-circle\"></i> Nearest Sensor to Tourist Spot<br>\n",
    "     <i style=\"color:green;\" class=\"fa fa-info-circle\"></i> Top 10 Tourist Spots</div>\n",
    "'''\n",
    "map_top_10.get_root().html.add_child(folium.Element(legend_html_2))\n",
    "\n",
    "# Map save\n",
    "map_top_10.save('map_top_10.html')\n",
    "# Display map\n",
    "display(map_top_10)"
   ]
  },
  {
   "cell_type": "markdown",
   "metadata": {
    "id": "9UxnQvvJqvBA"
   },
   "source": [
    "Visualize the matching of top_10 sensors and tourist spots on a map."
   ]
  },
  {
   "cell_type": "markdown",
   "metadata": {
    "id": "rWrtnwffV739"
   },
   "source": [
    "**K-means clustering**"
   ]
  },
  {
   "cell_type": "code",
   "execution_count": 29,
   "metadata": {
    "colab": {
     "base_uri": "https://localhost:8080/"
    },
    "id": "KF_sYhNFHK3F",
    "outputId": "282eb427-17fa-43d4-c8d2-654c447aa926"
   },
   "outputs": [
    {
     "name": "stdout",
     "output_type": "stream",
     "text": [
      "   sensor_name  pedestriancount  estimated_tourist_count   latitude  \\\n",
      "0    261Will_T          4654198               921531.204 -37.812958   \n",
      "1    280Will_T          2118083               419380.434 -37.812463   \n",
      "2      474Fl_T          1255299               248549.202 -37.819973   \n",
      "3     488Mac_T          1973997               390851.406 -37.794324   \n",
      "4     574Qub_T          1302639               257922.522 -37.803100   \n",
      "..         ...              ...                      ...        ...   \n",
      "83       VAC_T         17932918              3550717.764 -37.821299   \n",
      "84       Vic_T          3242335               641982.330 -37.806069   \n",
      "85    WatCit_T          3109574               615695.652 -37.815650   \n",
      "86     WebBN_T          4883437               966920.526 -37.822935   \n",
      "87    WestWP_T           771742               152804.916 -37.812358   \n",
      "\n",
      "     longitude  \n",
      "0   144.956788  \n",
      "1   144.956902  \n",
      "2   144.958349  \n",
      "3   144.929734  \n",
      "4   144.949081  \n",
      "..         ...  \n",
      "83  144.968793  \n",
      "84  144.956447  \n",
      "85  144.939707  \n",
      "86  144.947175  \n",
      "87  144.971370  \n",
      "\n",
      "[88 rows x 5 columns]\n"
     ]
    }
   ],
   "source": [
    "# Aggregate by sensor_name and calculate the total.\n",
    "data_1_1_estimation_sum = data_1_1_estimation.groupby('sensor_name').agg({\n",
    "    'pedestriancount': 'sum',\n",
    "    'estimated_tourist_count': 'sum',\n",
    "    'latitude': 'first',\n",
    "    'longitude': 'first'\n",
    "}).reset_index()\n",
    "\n",
    "print(data_1_1_estimation_sum)"
   ]
  },
  {
   "cell_type": "code",
   "execution_count": 30,
   "metadata": {
    "id": "MMYas0ryJ4zE"
   },
   "outputs": [],
   "source": [
    "# Min-Max normalization\n",
    "scaler = MinMaxScaler()\n",
    "data_1_1_estimation_sum[['pedestriancount', 'estimated_tourist_count']] = scaler.fit_transform(data_1_1_estimation_sum[['pedestriancount', 'estimated_tourist_count']])"
   ]
  },
  {
   "cell_type": "code",
   "execution_count": 31,
   "metadata": {
    "colab": {
     "base_uri": "https://localhost:8080/",
     "height": 581
    },
    "collapsed": true,
    "id": "Po-sy9PIUrBe",
    "jupyter": {
     "outputs_hidden": true
    },
    "outputId": "6281a2e0-7a6a-469a-89b3-33b70227da4e"
   },
   "outputs": [
    {
     "data": {
      "image/png": "[encoded data removed]",
      "text/plain": [
       "<Figure size 1000x600 with 2 Axes>"
      ]
     },
     "metadata": {},
     "output_type": "display_data"
    },
    {
     "name": "stdout",
     "output_type": "stream",
     "text": [
      "Silhouette Score: 0.58\n"
     ]
    }
   ],
   "source": [
    "data_1_1_estimation_cluster = data_1_1_estimation_sum.copy()\n",
    "X = data_1_1_estimation_cluster[['pedestriancount', 'estimated_tourist_count']]\n",
    "\n",
    "# K-means clustering model\n",
    "kmeans = KMeans(n_clusters=4, random_state=0)\n",
    "data_1_1_estimation_cluster['cluster'] = kmeans.fit_predict(X)\n",
    "\n",
    "# visualization\n",
    "plt.figure(figsize=(10, 6))\n",
    "plt.scatter(data_1_1_estimation_cluster['pedestriancount'], data_1_1_estimation_cluster['estimated_tourist_count'],\n",
    "            c=data_1_1_estimation_cluster['cluster'], cmap='viridis', s=100)\n",
    "plt.xlabel('Pedestrian Count')\n",
    "plt.ylabel('Estimated Tourist Count')\n",
    "plt.title('K-means Clustering of Aggregated Pedestrian and Tourist Counts')\n",
    "plt.colorbar(label='Cluster')\n",
    "plt.show()\n",
    "\n",
    "from sklearn.metrics import silhouette_score\n",
    "score = silhouette_score(X, data_1_1_estimation_cluster['cluster'])\n",
    "print(f'Silhouette Score: {score:.2f}')"
   ]
  },
  {
   "cell_type": "markdown",
   "metadata": {
    "id": "cZQ9UeLWsTZN"
   },
   "source": [
    "Perform K-means clustering to visually identify patterns in the relationship between pedestrian count and estimated tourist count."
   ]
  },
  {
   "cell_type": "code",
   "execution_count": null,
   "metadata": {
    "colab": {
     "base_uri": "https://localhost:8080/",
     "height": 1000
    },
    "id": "69YYcXw5elAu",
    "outputId": "5c657d24-c552-4a38-d104-316d004f9043"
   },
   "outputs": [],
   "source": [
    "# K-means\n",
    "kmeans = KMeans(n_clusters=4, n_init=10, random_state=0)\n",
    "data_1_1_estimation_cluster['cluster'] = kmeans.fit_predict(data_1_1_estimation_cluster[['pedestriancount', 'estimated_tourist_count']])\n",
    "\n",
    "# color list\n",
    "colors = [ 'purple', 'blue', 'green', 'yellow']\n",
    "\n",
    "# Creating a map\n",
    "map_clusters = folium.Map(location=[-37.8136, 144.9631], zoom_start=14, width=1000, height=600, control_scale=True)\n",
    "for index, row in data_1_1_estimation_cluster.iterrows():\n",
    "    color = colors[row['cluster']]\n",
    "\n",
    "    folium.CircleMarker(\n",
    "        location=[row['latitude'], row['longitude']],\n",
    "        radius=7,\n",
    "        color=color,\n",
    "        fill=True,\n",
    "        fill_color=color,\n",
    "        fill_opacity=0.6,\n",
    "        popup=f\"Sensor: {row['sensor_name']}<br>Cluster: {row['cluster']}<br>Pedestrian Count: {row['pedestriancount']}<br>Estimated Tourist Count: {row['estimated_tourist_count']}\"\n",
    "    ).add_to(map_clusters)\n",
    "\n",
    "# Adding a legend\n",
    "legend_html_3 = '''\n",
    "<div style=\"position: fixed;\n",
    "     top: 10px; left: 10px; width: 200px; height: 120px;\n",
    "     border:2px solid grey; z-index:9999; font-size:14px;\n",
    "     background-color: white; padding: 10px;\">\n",
    "     <b>Legend</b><br>\n",
    "     <i style=\"color:yellow;\" class=\"fa fa-circle\"></i> Cluster 0: Most crowded<br>\n",
    "     <i style=\"color:blue;\" class=\"fa fa-circle\"></i> Cluster 1: Second<br>\n",
    "     <i style=\"color:purple;\" class=\"fa fa-circle\"></i> Cluster 2: Third<br>\n",
    "     <i style=\"color:green;\" class=\"fa fa-circle\"></i> Cluster 3: Least\n",
    "</div>\n",
    "'''\n",
    "\n",
    "map_clusters.get_root().html.add_child(folium.Element(legend_html_3))\n",
    "\n",
    "\n",
    "# Displying the map\n",
    "map_clusters.save('map_clusters.html')\n",
    "display(map_clusters)"
   ]
  },
  {
   "cell_type": "markdown",
   "metadata": {
    "id": "yICNFjtZsv4H"
   },
   "source": [
    "Apply K-means clustering on a map to identify patterns in specific areas."
   ]
  },
  {
   "cell_type": "code",
   "execution_count": 34,
   "metadata": {
    "colab": {
     "base_uri": "https://localhost:8080/"
    },
    "id": "K5oF9jSpas_z",
    "outputId": "63adb069-d387-4cfe-d667-34580c4f94cc"
   },
   "outputs": [
    {
     "name": "stdout",
     "output_type": "stream",
     "text": [
      "         estimated_tourist_count\n",
      "cluster                         \n",
      "0                       0.196986\n",
      "1                       0.444419\n",
      "2                       0.057633\n",
      "3                       0.873733\n"
     ]
    }
   ],
   "source": [
    "# Mean value of each cluster\n",
    "cluster_means = data_1_1_estimation_cluster.groupby('cluster')[['estimated_tourist_count']].mean()\n",
    "# Result\n",
    "print(cluster_means)"
   ]
  },
  {
   "cell_type": "markdown",
   "metadata": {
    "id": "RM40m2m2m6IE"
   },
   "source": [
    "The clusters are in the order of yellow, blue, purple, and green, starting from cluster 0. Check the mean values for each cluster to understand their characteristics."
   ]
  },
  {
   "cell_type": "markdown",
   "metadata": {
    "id": "pU2rFa9stT-S"
   },
   "source": [
    "# Conclusion"
   ]
  },
  {
   "cell_type": "markdown",
   "metadata": {
    "id": "CHlkhv5YtW0H"
   },
   "source": [
    "**Findings**\n",
    "\n",
    "\n",
    "\n",
    "  There was a strong correlation between the sum of pedestrian counts from all sensors and the total number of tourists in Melbourne. While this might seem like an expected result, the fact that the ratio is consistently similar is a meaningful finding, especially considering the difficulty of extracting only the tourist numbers from the data.\n",
    "\n",
    "\n",
    "\n",
    "  The time series prediction results indicate that the top 10 areas with the highest expected increase in tourists are mostly around Swanston Street and Flinders Street Station. The clustering results also show that the two clusters with the highest number of tourists are primarily located around Swanston Street, Flinders Street Station, and Southern Cross Station.\n",
    "\n",
    "**Limitations**\n",
    "\n",
    "\n",
    "   To accurately determine the number of tourists in each area, I understand that various factors, such as local events, specific characteristics, and weather conditions, can significantly affect tourist numbers. However, because of the limited availability of such data, I had to rely solely on pedestrian counts from each sensor and the total number of tourists in Melbourne, which introduces clear limitations to the accuracy of our findings.\n",
    "\n",
    "\n",
    "  The definition and scope of 'tourist spots' are somewhat vague. The data includes various fountains, monuments, and other sites in the Melbourne CBD, but we cannot assume that tourists visit these areas only for these attractions. This makes it difficult to determine how much these locations actually attract tourists. Additionally, because tourists may have different reasons or purposes for visiting, the lack of a clear definition of 'tourist spots' makes it hard to understand their true movement patterns.\n",
    "\n"
   ]
  },
  {
   "cell_type": "markdown",
   "metadata": {
    "id": "6dGelg2qevoo"
   },
   "source": [
    "#References"
   ]
  },
  {
   "cell_type": "markdown",
   "metadata": {
    "id": "7tRdqISPex8l"
   },
   "source": [
    "[1] Sheng, Q., Jiao, J., & Pang, T. (2021). Understanding the impact of street patterns on pedestrian distribution: A case study in Tianjin, China. https://link.springer.com/article/10.1007/s40864-021-00152-9#Sec9\n",
    "\n",
    "[2] Fu, L., Yao, Y., Liu, L., & Chen, R. (2024). Study on influencing factors of tourist flow in scenic spots based on big data. https://www.researchsquare.com/article/rs-3201240/v1\n",
    "\n",
    "[3] Visit Victoria. (2024). Visit Victoria. https://www.visitvictoria.com/"
   ]
  }
 ],
 "metadata": {
  "colab": {
   "machine_shape": "hm",
   "provenance": [],
   "toc_visible": true
  },
  "kernelspec": {
   "display_name": "Python 3",
   "language": "python",
   "name": "python3"
  },
  "language_info": {
   "codemirror_mode": {
    "name": "ipython",
    "version": 3
   },
   "file_extension": ".py",
   "mimetype": "text/x-python",
   "name": "python",
   "nbconvert_exporter": "python",
   "pygments_lexer": "ipython3",
   "version": "3.11.7"
  },
  "vscode": {
   "interpreter": {
    "hash": "369f2c481f4da34e4445cda3fffd2e751bd1c4d706f27375911949ba6bb62e1c"
   }
  }
 },
 "nbformat": 4,
 "nbformat_minor": 4
}
