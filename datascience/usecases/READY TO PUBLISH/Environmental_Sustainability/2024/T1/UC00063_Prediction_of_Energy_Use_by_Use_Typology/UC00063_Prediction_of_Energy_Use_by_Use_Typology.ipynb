{
 "cells": [
  {
   "cell_type": "markdown",
   "metadata": {},
   "source": [
    "<div class=\"usecase-title\">Block Energy Prediction Model</div>\n",
    "\n",
    "<div class=\"usecase-authors\"><b>Authored by: </b> Thomas Warren</div>"
   ]
  },
  {
   "cell_type": "markdown",
   "metadata": {},
   "source": [
    "<div class=\"usecase-duration\"><b>Duration:</b> 240 mins</div>\n",
    "\n",
    "<div class=\"usecase-level-skill\">\n",
    "    <div class=\"usecase-level\"><b>Level: </b>Advanced</div>\n",
    "    <div class=\"usecase-skill\"><b>Pre-requisite Skills: </b>Deep Learning, Python, Data Wrangling</div>\n",
    "</div>"
   ]
  },
  {
   "cell_type": "markdown",
   "metadata": {},
   "source": [
    "<div class=\"usecase-section-header\">Scenario</div>"
   ]
  },
  {
   "cell_type": "markdown",
   "metadata": {},
   "source": [
    "I am a CoM Planner who wants to understand the energy consumption of a new development early in the application stages before the concept designs are completed. "
   ]
  },
  {
   "cell_type": "markdown",
   "metadata": {},
   "source": [
    "<div class=\"usecase-section-header\">What this use case will teach you</div>"
   ]
  },
  {
   "cell_type": "markdown",
   "metadata": {},
   "source": [
    "- The utility and limitations of deep learning on block-level data;\n",
    "- Energy approximations for city blocks; and\n",
    "- Future direction for modelling and data collection."
   ]
  },
  {
   "cell_type": "markdown",
   "metadata": {},
   "source": [
    "<div class=\"usecase-section-header\">Block Level Energy Consumption</div>"
   ]
  },
  {
   "cell_type": "markdown",
   "metadata": {},
   "source": [
    "Energy consumption is a key point of interest in the age of the climate crisis. Understanding how cities use energy, especially how differing activities and use typologies affect energy consumption, is critical to design sustainable urban areas. However, this understanding is often obscured by the development process itself. Early stages of design do not provide the granularity needed to accurately predict an individual spaces energy use (e.g. a retail development could include an electronics store, a fast food outlet, or a clothing store). By 'zooming out' and assessing the CoM environment from a macro level, in this case the city block, broad predictions can be made earlier in the process, providing insight during the approval process such as constraints on use or advocacy for specific designs. \n",
    "\n",
    "__Note__: The energy levels used in this model are based on 2015 predictions, not direct readings of the buildings/blocks. As such, this model is not trained off 'ground truth,' and only serves as an example of applications for deep learning in the planning space."
   ]
  },
  {
   "cell_type": "markdown",
   "metadata": {},
   "source": [
    "**Designing Prediction Model**\n",
    "\n",
    "Below is the relevant code for generating the block level energy use within the City of Melbourne. It utilised 3 available datasets:\n",
    "\n",
    " * Block for Census of Land Use and Employment;\n",
    " * Block level energy consumption (modelling on building attributes) - 2021 projection business as usual; and\n",
    " * Floor space per CLUE industry for blocks.\n",
    "\n",
    "The rationale is as the floor space for industry is identified by Block ID, the energy levels are by geospatial data, and the census includes both the Block ID and geospatial coordinates, by joining these three datasets the energy and floor space use can be connected.\n",
    " "
   ]
  },
  {
   "cell_type": "markdown",
   "metadata": {},
   "source": [
    "__Discussion of Results__\n",
    "\n",
    "As noted above, the energy usage is synthetic data, not ground truth. This has a profound impact on the results. Through several iterations of the model, the pattern was determined almost immediately. This is as a result of the simplified model to create the energy data, whereby floor space use and energy use is a linear multiplier. As a result, the model almost determines in the first epoch of training, reducing the loss to near zero. \n",
    "\n",
    "Despite the simplicity of the results, the model remains relevant. Real world readings will not present such a simple relationship and as such the use of a deep learning model remains relevant. These allow mapping of non-linear or obvious relationships within the data. The methodology for assessment, including model complexity, learning rate, and evaluation metrics, are suitable for solving this issue. \n",
    "\n",
    "Primary actionable insights for CoM are:\n",
    "\n",
    "* Integrate capture of energy levels within municipality through outside agencies;\n",
    "* Consider use of deep learning models for planning applications, in particular energy usage as this is 'low hanging fruit' for data modelling due to the ubiquity of the data."
   ]
  },
  {
   "cell_type": "code",
   "execution_count": 1,
   "metadata": {},
   "outputs": [],
   "source": [
    "# Dependencies\n",
    "import warnings\n",
    "warnings.filterwarnings(\"ignore\")\n",
    "\n",
    "import requests\n",
    "import numpy as np\n",
    "import pandas as pd\n",
    "pd.set_option('display.max_columns', None)\n",
    "from io import StringIO\n",
    "import geopandas as gpd\n",
    "from shapely import wkt\n",
    "import matplotlib.pyplot as plt\n",
    "\n",
    "from sklearn.model_selection import train_test_split\n",
    "from sklearn.preprocessing import StandardScaler, RobustScaler, PowerTransformer\n",
    "from tensorflow.keras.models import Sequential\n",
    "from tensorflow.keras.layers import Dense\n",
    "from tensorflow.keras.optimizers import Adam\n",
    "from tensorflow.keras.callbacks import LearningRateScheduler\n",
    "from tensorflow.keras.losses import Huber\n"
   ]
  },
  {
   "cell_type": "code",
   "execution_count": 2,
   "metadata": {},
   "outputs": [],
   "source": [
    "#Function to collect data\n",
    "def collect_data(dataset_id):\n",
    "    base_url = 'https://data.melbourne.vic.gov.au/api/explore/v2.1/catalog/datasets/'\n",
    "    dataset_id = dataset_id\n",
    "    format = 'csv'\n",
    "\n",
    "    url = f'{base_url}{dataset_id}/exports/{format}'\n",
    "    params = {\n",
    "        'select': '*',\n",
    "        'limit': -1,  # all records\n",
    "        'lang': 'en',\n",
    "        'timezone': 'UTC',\n",
    "        #'api_key': apikey  #use if use datasets API_key permissions\n",
    "    }\n",
    "\n",
    "    # GET request\n",
    "    response = requests.get(url, params=params)\n",
    "\n",
    "    if response.status_code == 200:\n",
    "        # StringIO to read the CSV data\n",
    "        url_content = response.content.decode('utf-8')\n",
    "        dataset = pd.read_csv(StringIO(url_content), delimiter=';')\n",
    "        return dataset\n",
    "    else:\n",
    "        print(f'Request failed with status code {response.status_code}')"
   ]
  },
  {
   "cell_type": "code",
   "execution_count": 3,
   "metadata": {},
   "outputs": [
    {
     "name": "stdout",
     "output_type": "stream",
     "text": [
      "The dataset 1 contains 640 records.\n",
      "The dataset 2 contains 606 records.\n",
      "The dataset 3 contains 12394 records.\n"
     ]
    }
   ],
   "source": [
    "# Set dataset_id to query for the API call dataset name\n",
    "dataset_id_1 = 'block-level-energy-consumption-modelled-on-building-attributes-2021-projection-b'\n",
    "dataset_id_2 = 'blocks-for-census-of-land-use-and-employment-clue'\n",
    "dataset_id_3 = 'floor-space-by-block-by-clue-industry'\n",
    "\n",
    "# Save dataset to df varaible\n",
    "energy_df = collect_data(dataset_id_1)\n",
    "block_id_df = collect_data(dataset_id_2)\n",
    "block_use_df = collect_data(dataset_id_3)\n",
    "\n",
    "# Check number of records in df\n",
    "print(f'The dataset 1 contains {len(energy_df)} records.')\n",
    "print(f'The dataset 2 contains {len(block_id_df)} records.')\n",
    "print(f'The dataset 3 contains {len(block_use_df)} records.')"
   ]
  },
  {
   "cell_type": "markdown",
   "metadata": {},
   "source": [
    "**Data Preprocessing**\n",
    "\n",
    "To prepare the data for modelling, several steps needed to be taken:\n",
    "\n",
    "* As the block use dataset includes multiple years, this will be filtered to 2021 (the year of interest for training) only. \n",
    "* The rows with NaN values (data is missing the floor use for each type is assumed to be 0) need to be dealt with. This includes summing total floor space, and dropping rows without floor space information.\n",
    "* The dataframes will then be converted to geodataframes, to allow them to be spatially joined. This allows the block id to accurately reference the energy dataframe.\n",
    "\n",
    "Following data preprocessing, the dataframe is assessed. It is noteworthy that over a hundred rows were missing floor space values which needed to be omitted. Further, the data is highly skewed. This needs to be addressed."
   ]
  },
  {
   "cell_type": "code",
   "execution_count": 4,
   "metadata": {},
   "outputs": [],
   "source": [
    "# Filter for 2021 data only\n",
    "block_use_df = block_use_df[block_use_df['census_year'] == 2021]"
   ]
  },
  {
   "cell_type": "code",
   "execution_count": 5,
   "metadata": {},
   "outputs": [],
   "source": [
    "# Clean empty values\n",
    "block_use_df.fillna(0, inplace=True)"
   ]
  },
  {
   "cell_type": "code",
   "execution_count": 6,
   "metadata": {},
   "outputs": [],
   "source": [
    "# Function to convert DataFrame to GeoDataFrame by converting geo_point_2d to Points\n",
    "def convert_to_geopandas(df, point_column):\n",
    "    # Convert string coordinates to Point geometry\n",
    "    df['geometry'] = df[point_column].apply(lambda x: wkt.loads(f\"POINT({x.split(',')[1]} {x.split(',')[0]})\"))\n",
    "    gdf = gpd.GeoDataFrame(df, geometry='geometry')\n",
    "    return gdf"
   ]
  },
  {
   "cell_type": "code",
   "execution_count": 7,
   "metadata": {},
   "outputs": [],
   "source": [
    "# Convert dataframes to geodataframes\n",
    "gdf_blocks = convert_to_geopandas(block_id_df, 'geo_point_2d')\n",
    "gdf_energy = convert_to_geopandas(energy_df, 'geo_point_2d')"
   ]
  },
  {
   "cell_type": "code",
   "execution_count": 8,
   "metadata": {},
   "outputs": [
    {
     "data": {
      "text/html": [
       "<div>\n",
       "<style scoped>\n",
       "    .dataframe tbody tr th:only-of-type {\n",
       "        vertical-align: middle;\n",
       "    }\n",
       "\n",
       "    .dataframe tbody tr th {\n",
       "        vertical-align: top;\n",
       "    }\n",
       "\n",
       "    .dataframe thead th {\n",
       "        text-align: right;\n",
       "    }\n",
       "</style>\n",
       "<table border=\"1\" class=\"dataframe\">\n",
       "  <thead>\n",
       "    <tr style=\"text-align: right;\">\n",
       "      <th></th>\n",
       "      <th>geo_point_2d</th>\n",
       "      <th>geo_shape</th>\n",
       "      <th>block_id</th>\n",
       "      <th>clue_area</th>\n",
       "      <th>geometry</th>\n",
       "    </tr>\n",
       "  </thead>\n",
       "  <tbody>\n",
       "    <tr>\n",
       "      <th>0</th>\n",
       "      <td>-37.788517214796904, 144.9421522923356</td>\n",
       "      <td>{\"coordinates\": [[[144.9421360326, -37.7875659...</td>\n",
       "      <td>925</td>\n",
       "      <td>Parkville</td>\n",
       "      <td>POINT (144.94215 -37.78852)</td>\n",
       "    </tr>\n",
       "    <tr>\n",
       "      <th>1</th>\n",
       "      <td>-37.78752314475404, 144.9428068448982</td>\n",
       "      <td>{\"coordinates\": [[[144.9421360326, -37.7875659...</td>\n",
       "      <td>924</td>\n",
       "      <td>Parkville</td>\n",
       "      <td>POINT (144.94281 -37.78752)</td>\n",
       "    </tr>\n",
       "    <tr>\n",
       "      <th>2</th>\n",
       "      <td>-37.78035632811396, 144.94536433435934</td>\n",
       "      <td>{\"coordinates\": [[[144.9425926939, -37.7787229...</td>\n",
       "      <td>930</td>\n",
       "      <td>Parkville</td>\n",
       "      <td>POINT (144.94536 -37.78036)</td>\n",
       "    </tr>\n",
       "    <tr>\n",
       "      <th>3</th>\n",
       "      <td>-37.80720183148242, 144.94336441344424</td>\n",
       "      <td>{\"coordinates\": [[[144.9427148261, -37.8073238...</td>\n",
       "      <td>412</td>\n",
       "      <td>West Melbourne (Residential)</td>\n",
       "      <td>POINT (144.94336 -37.80720)</td>\n",
       "    </tr>\n",
       "    <tr>\n",
       "      <th>4</th>\n",
       "      <td>-37.806706331914484, 144.94240782994808</td>\n",
       "      <td>{\"coordinates\": [[[144.9427148261, -37.8073238...</td>\n",
       "      <td>410</td>\n",
       "      <td>West Melbourne (Residential)</td>\n",
       "      <td>POINT (144.94241 -37.80671)</td>\n",
       "    </tr>\n",
       "    <tr>\n",
       "      <th>...</th>\n",
       "      <td>...</td>\n",
       "      <td>...</td>\n",
       "      <td>...</td>\n",
       "      <td>...</td>\n",
       "      <td>...</td>\n",
       "    </tr>\n",
       "    <tr>\n",
       "      <th>601</th>\n",
       "      <td>-37.788167405860435, 144.92542680884995</td>\n",
       "      <td>{\"coordinates\": [[[144.9246397569, -37.7887978...</td>\n",
       "      <td>2502</td>\n",
       "      <td>Kensington</td>\n",
       "      <td>POINT (144.92543 -37.78817)</td>\n",
       "    </tr>\n",
       "    <tr>\n",
       "      <th>602</th>\n",
       "      <td>-37.78839510691857, 144.92690534228524</td>\n",
       "      <td>{\"coordinates\": [[[144.927147239, -37.78853838...</td>\n",
       "      <td>2506</td>\n",
       "      <td>Kensington</td>\n",
       "      <td>POINT (144.92691 -37.78840)</td>\n",
       "    </tr>\n",
       "    <tr>\n",
       "      <th>603</th>\n",
       "      <td>-37.788736986243904, 144.94077827466833</td>\n",
       "      <td>{\"coordinates\": [[[144.9421572489, -37.7893851...</td>\n",
       "      <td>2382</td>\n",
       "      <td>North Melbourne</td>\n",
       "      <td>POINT (144.94078 -37.78874)</td>\n",
       "    </tr>\n",
       "    <tr>\n",
       "      <th>604</th>\n",
       "      <td>-37.79303223759281, 144.9399716568005</td>\n",
       "      <td>{\"coordinates\": [[[144.9394523527, -37.7922270...</td>\n",
       "      <td>2388</td>\n",
       "      <td>North Melbourne</td>\n",
       "      <td>POINT (144.93997 -37.79303)</td>\n",
       "    </tr>\n",
       "    <tr>\n",
       "      <th>605</th>\n",
       "      <td>-37.7891116700483, 144.92574417349726</td>\n",
       "      <td>{\"coordinates\": [[[144.9238239283, -37.7900763...</td>\n",
       "      <td>2548</td>\n",
       "      <td>Kensington</td>\n",
       "      <td>POINT (144.92574 -37.78911)</td>\n",
       "    </tr>\n",
       "  </tbody>\n",
       "</table>\n",
       "<p>606 rows × 5 columns</p>\n",
       "</div>"
      ],
      "text/plain": [
       "                                geo_point_2d  \\\n",
       "0     -37.788517214796904, 144.9421522923356   \n",
       "1      -37.78752314475404, 144.9428068448982   \n",
       "2     -37.78035632811396, 144.94536433435934   \n",
       "3     -37.80720183148242, 144.94336441344424   \n",
       "4    -37.806706331914484, 144.94240782994808   \n",
       "..                                       ...   \n",
       "601  -37.788167405860435, 144.92542680884995   \n",
       "602   -37.78839510691857, 144.92690534228524   \n",
       "603  -37.788736986243904, 144.94077827466833   \n",
       "604    -37.79303223759281, 144.9399716568005   \n",
       "605    -37.7891116700483, 144.92574417349726   \n",
       "\n",
       "                                             geo_shape  block_id  \\\n",
       "0    {\"coordinates\": [[[144.9421360326, -37.7875659...       925   \n",
       "1    {\"coordinates\": [[[144.9421360326, -37.7875659...       924   \n",
       "2    {\"coordinates\": [[[144.9425926939, -37.7787229...       930   \n",
       "3    {\"coordinates\": [[[144.9427148261, -37.8073238...       412   \n",
       "4    {\"coordinates\": [[[144.9427148261, -37.8073238...       410   \n",
       "..                                                 ...       ...   \n",
       "601  {\"coordinates\": [[[144.9246397569, -37.7887978...      2502   \n",
       "602  {\"coordinates\": [[[144.927147239, -37.78853838...      2506   \n",
       "603  {\"coordinates\": [[[144.9421572489, -37.7893851...      2382   \n",
       "604  {\"coordinates\": [[[144.9394523527, -37.7922270...      2388   \n",
       "605  {\"coordinates\": [[[144.9238239283, -37.7900763...      2548   \n",
       "\n",
       "                        clue_area                     geometry  \n",
       "0                       Parkville  POINT (144.94215 -37.78852)  \n",
       "1                       Parkville  POINT (144.94281 -37.78752)  \n",
       "2                       Parkville  POINT (144.94536 -37.78036)  \n",
       "3    West Melbourne (Residential)  POINT (144.94336 -37.80720)  \n",
       "4    West Melbourne (Residential)  POINT (144.94241 -37.80671)  \n",
       "..                            ...                          ...  \n",
       "601                    Kensington  POINT (144.92543 -37.78817)  \n",
       "602                    Kensington  POINT (144.92691 -37.78840)  \n",
       "603               North Melbourne  POINT (144.94078 -37.78874)  \n",
       "604               North Melbourne  POINT (144.93997 -37.79303)  \n",
       "605                    Kensington  POINT (144.92574 -37.78911)  \n",
       "\n",
       "[606 rows x 5 columns]"
      ]
     },
     "execution_count": 8,
     "metadata": {},
     "output_type": "execute_result"
    }
   ],
   "source": [
    "# Set the CRS for both GeoDataFrames to WGS 84\n",
    "gdf_energy.set_crs(epsg=4326, inplace=True)\n",
    "gdf_blocks.set_crs(epsg=4326, inplace=True)"
   ]
  },
  {
   "cell_type": "code",
   "execution_count": 9,
   "metadata": {},
   "outputs": [],
   "source": [
    "# Perform the nearest neighbor join\n",
    "gdf_join_1 = gpd.sjoin_nearest(gdf_energy, gdf_blocks, how='left', distance_col='distance')\n"
   ]
  },
  {
   "cell_type": "code",
   "execution_count": 10,
   "metadata": {},
   "outputs": [],
   "source": [
    "# Merge the block_use_df with the gdf_join_1 for the final dataset with all the information\n",
    "df = pd.merge(gdf_join_1, block_use_df, on='block_id', how='left')"
   ]
  },
  {
   "cell_type": "code",
   "execution_count": 13,
   "metadata": {},
   "outputs": [],
   "source": [
    "# Drop columns with less than three values\n",
    "df = df.loc[:, (df != 0).sum() >= 3]"
   ]
  },
  {
   "cell_type": "code",
   "execution_count": 14,
   "metadata": {},
   "outputs": [],
   "source": [
    "# List of columns from which to sum values\n",
    "columns_to_sum = [\n",
    "    'accommodation', 'admin_and_support_services', 'agriculture_and_mining', 'arts_and_recreation_services',\n",
    "    'business_services', 'construction', 'education_and_training', 'electricity_gas_water_and_waste_services',\n",
    "    'finance_and_insurance', 'food_and_beverage_services', 'health_care_and_social_assistance',\n",
    "    'information_media_and_telecommunications', 'manufacturing', 'other_services',\n",
    "    'public_administration_and_safety', 'real_estate_services', 'rental_and_hiring_services',\n",
    "    'retail_trade', 'transport_postal_and_storage', 'wholesale_trade'\n",
    "]\n",
    "\n",
    "# Calculating the sum of the specified columns and storing in a new column\n",
    "df['sum_of_columns'] = df[columns_to_sum].sum(axis=1)\n",
    "\n",
    "# Replace zeros in 'total_floor_space_in_block' with the sum from 'sum_of_columns'\n",
    "df.loc[df['total_floor_space_in_block'] == 0, 'total_floor_space_in_block'] = df['sum_of_columns']\n",
    "\n",
    "# Drop the 'sum_of_columns' column\n",
    "df.drop('sum_of_columns', axis=1, inplace=True)\n",
    "\n",
    "# Drop rows with 'total_floor_space_in_block' equal to zero after summing other spaces\n",
    "df = df[df['total_floor_space_in_block'] != 0]"
   ]
  },
  {
   "cell_type": "code",
   "execution_count": 16,
   "metadata": {},
   "outputs": [
    {
     "name": "stdout",
     "output_type": "stream",
     "text": [
      "geo_point_2d_left                           453\n",
      "geo_shape_left                              453\n",
      "comm                                        393\n",
      "num_b_prop                                  426\n",
      "resi                                        378\n",
      "total                                       419\n",
      "geometry                                    453\n",
      "index_right                                 453\n",
      "geo_point_2d_right                          453\n",
      "geo_shape_right                             453\n",
      "block_id                                    453\n",
      "clue_area                                   453\n",
      "distance                                    453\n",
      "census_year                                 453\n",
      "clue_small_area                             453\n",
      "accommodation                                51\n",
      "admin_and_support_services                   75\n",
      "agriculture_and_mining                        5\n",
      "arts_and_recreation_services                101\n",
      "business_services                           193\n",
      "construction                                 62\n",
      "education_and_training                       82\n",
      "electricity_gas_water_and_waste_services     26\n",
      "finance_and_insurance                        93\n",
      "food_and_beverage_services                  207\n",
      "health_care_and_social_assistance           128\n",
      "information_media_and_telecommunications     49\n",
      "manufacturing                                47\n",
      "other_services                              177\n",
      "public_administration_and_safety             43\n",
      "real_estate_services                         79\n",
      "rental_and_hiring_services                    6\n",
      "retail_trade                                153\n",
      "transport_postal_and_storage                 44\n",
      "wholesale_trade                              30\n",
      "total_floor_space_in_block                  453\n",
      "dtype: int64\n"
     ]
    }
   ],
   "source": [
    "non_zero_counts = df.astype(bool).sum()\n",
    "print(non_zero_counts)"
   ]
  },
  {
   "cell_type": "code",
   "execution_count": 17,
   "metadata": {},
   "outputs": [],
   "source": [
    "# Drop unnecessary columns\n",
    "df = df.drop(['geo_point_2d_left', 'geo_shape_left', 'comm','num_b_prop','resi','geometry','index_right','geo_point_2d_right', 'geo_shape_right','distance','census_year','clue_area','clue_small_area'], axis=1)\n",
    "\n",
    "# Set 'block_id' as index\n",
    "df.index = df['block_id']\n",
    "df = df.drop('block_id', axis=1)"
   ]
  },
  {
   "cell_type": "code",
   "execution_count": 22,
   "metadata": {},
   "outputs": [
    {
     "data": {
      "text/plain": [
       "(array([197.,  62.,  47.,  27.,  15.,  13.,  13.,  13.,   6.,   4.,   3.,\n",
       "          5.,   7.,   3.,   3.,   2.,   5.,   2.,   4.,   2.,   1.,   1.,\n",
       "          2.,   1.,   2.,   0.,   1.,   2.,   0.,   2.,   1.,   0.,   2.,\n",
       "          0.,   0.,   1.,   0.,   2.,   0.,   0.,   0.,   1.,   0.,   0.,\n",
       "          0.,   0.,   0.,   0.,   0.,   1.]),\n",
       " array([     0.        ,   2065.05475732,   4130.10951464,   6195.16427196,\n",
       "          8260.21902928,  10325.2737866 ,  12390.32854392,  14455.38330124,\n",
       "         16520.43805856,  18585.49281588,  20650.5475732 ,  22715.60233052,\n",
       "         24780.65708784,  26845.71184516,  28910.76660248,  30975.8213598 ,\n",
       "         33040.87611712,  35105.93087444,  37170.98563176,  39236.04038908,\n",
       "         41301.0951464 ,  43366.14990372,  45431.20466104,  47496.25941836,\n",
       "         49561.31417568,  51626.368933  ,  53691.42369032,  55756.47844764,\n",
       "         57821.53320496,  59886.58796228,  61951.6427196 ,  64016.69747692,\n",
       "         66081.75223424,  68146.80699156,  70211.86174888,  72276.9165062 ,\n",
       "         74341.97126352,  76407.02602084,  78472.08077816,  80537.13553548,\n",
       "         82602.1902928 ,  84667.24505012,  86732.29980744,  88797.35456476,\n",
       "         90862.40932208,  92927.4640794 ,  94992.51883672,  97057.57359404,\n",
       "         99122.62835136, 101187.68310868, 103252.737866  ]),\n",
       " <BarContainer object of 50 artists>)"
      ]
     },
     "execution_count": 22,
     "metadata": {},
     "output_type": "execute_result"
    },
    {
     "data": {
      "image/png": "[encoded data removed]",
      "text/plain": [
       "<Figure size 640x480 with 1 Axes>"
      ]
     },
     "metadata": {},
     "output_type": "display_data"
    }
   ],
   "source": [
    "plt.hist(df['total'], bins = 50)"
   ]
  },
  {
   "cell_type": "code",
   "execution_count": 23,
   "metadata": {},
   "outputs": [
    {
     "data": {
      "text/plain": [
       "(array([273.,  86.,  33.,  16.,   4.,   7.,   5.,   2.,   5.,   1.,   4.,\n",
       "          2.,   8.,   0.,   0.,   0.,   1.,   0.,   0.,   0.,   0.,   1.,\n",
       "          0.,   0.,   0.,   0.,   0.,   0.,   0.,   0.,   0.,   0.,   0.,\n",
       "          0.,   0.,   0.,   0.,   0.,   0.,   0.,   0.,   0.,   0.,   0.,\n",
       "          0.,   0.,   0.,   0.,   0.,   2.]),\n",
       " array([2.06000000e+02, 3.98978664e+04, 7.95897328e+04, 1.19281599e+05,\n",
       "        1.58973466e+05, 1.98665332e+05, 2.38357198e+05, 2.78049065e+05,\n",
       "        3.17740931e+05, 3.57432798e+05, 3.97124664e+05, 4.36816530e+05,\n",
       "        4.76508397e+05, 5.16200263e+05, 5.55892130e+05, 5.95583996e+05,\n",
       "        6.35275862e+05, 6.74967729e+05, 7.14659595e+05, 7.54351462e+05,\n",
       "        7.94043328e+05, 8.33735194e+05, 8.73427061e+05, 9.13118927e+05,\n",
       "        9.52810794e+05, 9.92502660e+05, 1.03219453e+06, 1.07188639e+06,\n",
       "        1.11157826e+06, 1.15127013e+06, 1.19096199e+06, 1.23065386e+06,\n",
       "        1.27034572e+06, 1.31003759e+06, 1.34972946e+06, 1.38942132e+06,\n",
       "        1.42911319e+06, 1.46880506e+06, 1.50849692e+06, 1.54818879e+06,\n",
       "        1.58788066e+06, 1.62757252e+06, 1.66726439e+06, 1.70695626e+06,\n",
       "        1.74664812e+06, 1.78633999e+06, 1.82603185e+06, 1.86572372e+06,\n",
       "        1.90541559e+06, 1.94510745e+06, 1.98479932e+06]),\n",
       " <BarContainer object of 50 artists>)"
      ]
     },
     "execution_count": 23,
     "metadata": {},
     "output_type": "execute_result"
    },
    {
     "data": {
      "image/png": "[encoded data removed]",
      "text/plain": [
       "<Figure size 640x480 with 1 Axes>"
      ]
     },
     "metadata": {},
     "output_type": "display_data"
    }
   ],
   "source": [
    "plt.hist(df['total_floor_space_in_block'], bins = 50)"
   ]
  },
  {
   "cell_type": "markdown",
   "metadata": {},
   "source": [
    "## Modelling ##\n",
    "\n",
    "Several points are important to note in the modelling step:\n",
    "\n",
    "* As seen above, the histograms of the energy use and total floor space in block variables revealed a right-skewed distribution. Such distributions can lead to suboptimal performance in machine learning models, which typically assume a normal distribution of input variables. To address this, a logarithmic transformation was applied to the target variable.\n",
    "* Given the presence of outliers, as suggested by the long tail of the histograms, a robust loss function, Huber loss, was chosen. Huber loss is less sensitive to outliers than traditional mean squared error because it treats error as squared only for small values, and linearly for larger errors, thus reducing the influence of outliers.\n",
    "* Machine learning models benefit from feature scaling, which ensures that all features contribute equally to the model's performance. RobustScaler was selected over StandardScaler for its robustness against outliers, as it scales features using statistics that are robust to outliers.\n",
    "* To optimise the training process, a learning rate scheduler was employed. It maintains a higher learning rate for initial epochs to allow for rapid learning and then reduces the learning rate as training progresses to fine-tune the model weights. This helps in converging to a better model by allowing more substantial updates to weights initially and smaller, more precise updates in later training phases.\n",
    "* After the logarithmic transformation, a PowerTransformer was applied to the target variable to make its distribution more Gaussian. This step improves algorithms that are sensitive to the distribution of the data and helps in improving model predictions."
   ]
  },
  {
   "cell_type": "code",
   "execution_count": 21,
   "metadata": {},
   "outputs": [
    {
     "name": "stdout",
     "output_type": "stream",
     "text": [
      "Epoch 1/5\n"
     ]
    },
    {
     "name": "stdout",
     "output_type": "stream",
     "text": [
      "\u001b[1m11/11\u001b[0m \u001b[32m━━━━━━━━━━━━━━━━━━━━\u001b[0m\u001b[37m\u001b[0m \u001b[1m1s\u001b[0m 14ms/step - loss: 48212.4766 - mae: 48212.8789 - val_loss: 0.5560 - val_mae: 0.9653 - learning_rate: 0.1000\n",
      "Epoch 2/5\n",
      "\u001b[1m11/11\u001b[0m \u001b[32m━━━━━━━━━━━━━━━━━━━━\u001b[0m\u001b[37m\u001b[0m \u001b[1m0s\u001b[0m 3ms/step - loss: 0.4014 - mae: 0.7555 - val_loss: 0.4973 - val_mae: 0.8806 - learning_rate: 0.1000\n",
      "Epoch 3/5\n",
      "\u001b[1m11/11\u001b[0m \u001b[32m━━━━━━━━━━━━━━━━━━━━\u001b[0m\u001b[37m\u001b[0m \u001b[1m0s\u001b[0m 3ms/step - loss: 0.4162 - mae: 0.7714 - val_loss: 0.4885 - val_mae: 0.8673 - learning_rate: 0.1000\n",
      "Epoch 4/5\n",
      "\u001b[1m11/11\u001b[0m \u001b[32m━━━━━━━━━━━━━━━━━━━━\u001b[0m\u001b[37m\u001b[0m \u001b[1m0s\u001b[0m 3ms/step - loss: 0.3432 - mae: 0.6867 - val_loss: 0.5007 - val_mae: 0.8858 - learning_rate: 0.1000\n",
      "Epoch 5/5\n",
      "\u001b[1m11/11\u001b[0m \u001b[32m━━━━━━━━━━━━━━━━━━━━\u001b[0m\u001b[37m\u001b[0m \u001b[1m0s\u001b[0m 3ms/step - loss: 0.4242 - mae: 0.7909 - val_loss: 0.4974 - val_mae: 0.8808 - learning_rate: 0.1000\n",
      "2/2 - 0s - 9ms/step - loss: 0.4269 - mae: 0.7848\n",
      "\u001b[1m2/2\u001b[0m \u001b[32m━━━━━━━━━━━━━━━━━━━━\u001b[0m\u001b[37m\u001b[0m \u001b[1m0s\u001b[0m 31ms/step\n"
     ]
    },
    {
     "data": {
      "image/png": "[encoded data removed]",
      "text/plain": [
       "<Figure size 1000x600 with 1 Axes>"
      ]
     },
     "metadata": {},
     "output_type": "display_data"
    }
   ],
   "source": [
    "# Apply a log transformation to the target variable to mitigate skewness\n",
    "y_log_transformed = np.log1p(df['total'])\n",
    "\n",
    "# Initialize PowerTransformer for the target variable\n",
    "power_transformer = PowerTransformer()\n",
    "y_transformed = power_transformer.fit_transform(y_log_transformed.values.reshape(-1, 1)).flatten()\n",
    "\n",
    "# Split the data into features and target\n",
    "X = df.drop('total', axis=1)\n",
    "\n",
    "# Split the data into training and testing sets\n",
    "X_train, X_test, y_train, y_test = train_test_split(X, y_transformed, test_size=0.1, random_state=42)\n",
    "\n",
    "# Initialize RobustScaler for features\n",
    "scaler = RobustScaler()\n",
    "\n",
    "# Fit the scaler on the training data and transform both training and testing data\n",
    "X_train_scaled = scaler.fit_transform(X_train)\n",
    "X_test_scaled = scaler.transform(X_test)\n",
    "\n",
    "# Learning Rate Scheduler function\n",
    "def scheduler(epoch, lr):\n",
    "    if epoch < 10:\n",
    "        return lr\n",
    "    else:\n",
    "        return lr * tf.math.exp(-0.1)\n",
    "\n",
    "# Build the neural network model with increased complexity\n",
    "model = Sequential([\n",
    "    Dense(128, activation='relu', input_shape=(X_train_scaled.shape[1],)),  # Input layer\n",
    "    Dense(64, activation='relu'),                                           # Hidden layer 1\n",
    "    Dense(64, activation='relu'),                                           # Hidden layer 2\n",
    "    Dense(32, activation='relu'),                                           # Hidden layer 3\n",
    "    Dense(1)                                                                # Output layer\n",
    "])\n",
    "\n",
    "# Compile the model with Huber loss, which is robust to outliers\n",
    "model.compile(optimizer=Adam(learning_rate=0.1), loss=Huber(), metrics=['mae'])\n",
    "\n",
    "# Create Learning Rate Scheduler callback\n",
    "lr_scheduler = LearningRateScheduler(scheduler)\n",
    "\n",
    "# Train the model with the learning rate scheduler callback\n",
    "history = model.fit(X_train_scaled, y_train, epochs=5, validation_split=0.2, callbacks=[lr_scheduler], verbose=1)\n",
    "\n",
    "# Evaluate the model on the test set\n",
    "test_results = model.evaluate(X_test_scaled, y_test, verbose=2)\n",
    "\n",
    "# Invert the transformation for evaluation and interpretation of results\n",
    "y_pred_transformed = model.predict(X_test_scaled)\n",
    "y_pred = power_transformer.inverse_transform(y_pred_transformed)\n",
    "y_pred = np.expm1(y_pred)\n",
    "\n",
    "# Plotting the training and validation loss\n",
    "plt.figure(figsize=(10, 6))\n",
    "plt.plot(history.history['loss'], label='Training Loss')\n",
    "plt.plot(history.history['val_loss'], label='Validation Loss')\n",
    "plt.title('Model Loss Over Epochs')\n",
    "plt.ylabel('Loss')\n",
    "plt.xlabel('Epoch')\n",
    "plt.legend()\n",
    "plt.show()"
   ]
  },
  {
   "cell_type": "code",
   "execution_count": null,
   "metadata": {},
   "outputs": [],
   "source": []
  }
 ],
 "metadata": {
  "kernelspec": {
   "display_name": "Python 3",
   "language": "python",
   "name": "python3"
  },
  "language_info": {
   "codemirror_mode": {
    "name": "ipython",
    "version": 3
   },
   "file_extension": ".py",
   "mimetype": "text/x-python",
   "name": "python",
   "nbconvert_exporter": "python",
   "pygments_lexer": "ipython3",
   "version": "3.10.8"
  },
  "vscode": {
   "interpreter": {
    "hash": "369f2c481f4da34e4445cda3fffd2e751bd1c4d706f27375911949ba6bb62e1c"
   }
  }
 },
 "nbformat": 4,
 "nbformat_minor": 4
}
