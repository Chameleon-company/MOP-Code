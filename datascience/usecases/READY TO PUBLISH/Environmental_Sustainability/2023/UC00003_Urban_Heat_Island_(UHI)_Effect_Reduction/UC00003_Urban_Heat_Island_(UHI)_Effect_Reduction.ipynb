{
 "cells": [
  {
   "cell_type": "markdown",
   "metadata": {},
   "source": [
    "<div class=\"usecase-title\">Urban Heat Island Effect Reduction</div>\n",
    "\n",
    "<div class=\"usecase-authors\"><b>Authored by: </b> Amy Tran & Siyu Ai</div>"
   ]
  },
  {
   "cell_type": "markdown",
   "metadata": {},
   "source": [
    "<div class=\"usecase-duration\"><b>Duration:</b> 60 mins</div>\n",
    "\n",
    "<div class=\"usecase-level-skill\">\n",
    "    <div class=\"usecase-level\"><b>Level: </b>Intermediate</div>\n",
    "    <div class=\"usecase-skill\"><b>Pre-requisite Skills: </b>Python</div>\n",
    "</div>"
   ]
  },
  {
   "cell_type": "markdown",
   "metadata": {},
   "source": [
    "<div class=\"usecase-section-header\">Scenario</div>"
   ]
  },
  {
   "cell_type": "markdown",
   "metadata": {},
   "source": [
    "As a city planner, I would like to understand the effect of urban heat island arising from business activities and energy consumption by looking into the distribution of trees vs projected energy consumption across the City of Melbourne.\n",
    "\n",
    "As a city planner, I would like to have a system that could help me identify areas of highest greening priority across the City of Melbourne ."
   ]
  },
  {
   "cell_type": "markdown",
   "metadata": {},
   "source": [
    "<div class=\"usecase-section-header\">What this use case will teach you</div>"
   ]
  },
  {
   "cell_type": "markdown",
   "metadata": {},
   "source": [
    "At the end of this use case you will:\n",
    "- Load relevant datasets required for analysis\n",
    "- Map and calculate the number of trees and total projected energy consumption for each laneways area and its surrounding\n",
    "- Understand how greening priority scores are computed\n",
    "- Visualise greening priority scores of laneways area on a heatmap"
   ]
  },
  {
   "cell_type": "markdown",
   "metadata": {},
   "source": [
    "<div class=\"usecase-section-header\">Python Libraries</div>"
   ]
  },
  {
   "cell_type": "code",
   "execution_count": 2,
   "metadata": {},
   "outputs": [],
   "source": [
    "import pandas as pd\n",
    "import numpy as np\n",
    "import requests\n",
    "from datetime import datetime\n",
    "import plotly.express as px\n",
    "import geopy.distance\n",
    "\n",
    "#pip install plotly==5.8.0\n",
    "#pip install geopy"
   ]
  },
  {
   "cell_type": "markdown",
   "metadata": {},
   "source": [
    "<div class=\"usecase-section-header\">Data Extraction</div>"
   ]
  },
  {
   "cell_type": "code",
   "execution_count": 6,
   "metadata": {},
   "outputs": [],
   "source": [
    "def get_data(base, url, size = 0):\n",
    "    target_filters = f'records?limit={10}&offset={size}&timezone=UTC'\n",
    "    target_url = f'{base}{url}/{target_filters}'\n",
    "    result = session.get(target_url+f'&apikey={API_KEY}')\n",
    "    status_code = result.status_code\n",
    "    if status_code == 200:\n",
    "        result_json = result.json()\n",
    "        max_results = result_json['total_count']\n",
    "        links = result_json['links']\n",
    "        records = result_json['records']\n",
    "        records_df = pd.json_normalize(records)\n",
    "    \n",
    "        #Update column labels\n",
    "        records_df.drop(columns=['links'],inplace=True)\n",
    "        column_names = records_df.columns.values.tolist()\n",
    "\n",
    "        #Replace geolocation.lat & geolocation.lon\n",
    "        column_names = ['_'.join((a.split(\".\")[-2:])) if a.split('.')[-2]=='geolocation' else a for a in column_names]\n",
    "        column_names = [i.split('.')[-1] for i in column_names]\n",
    "        records_df.columns = column_names\n",
    "    \n",
    "        next_url = None\n",
    "             \n",
    "        #Obtain next url\n",
    "        if records_df.shape[0] != max_results:\n",
    "            for l in links:\n",
    "                if l['rel'] == 'next':\n",
    "                    next_url = l['href']\n",
    "    \n",
    "        return[records_df, next_url, column_names, max_results, status_code]\n",
    "    else: return[None, None, None, None, status_code]"
   ]
  },
  {
   "cell_type": "code",
   "execution_count": 11,
   "metadata": {},
   "outputs": [
    {
     "name": "stdout",
     "output_type": "stream",
     "text": [
      "Completed: 246 rows, 26 columns extracted\n"
     ]
    }
   ],
   "source": [
    "#Extract laneways-with-greening-potential data \n",
    "session = requests.Session()\n",
    "base = 'https://data.melbourne.vic.gov.au/api/v2/catalog/datasets/'\n",
    "url = 'laneways-with-greening-potential'\n",
    "\n",
    "target_url = f'{base}{url}/exports/json'\n",
    "result = session.get(target_url)\n",
    "result_json = result.json()\n",
    "data = pd.json_normalize(result_json)\n",
    "laneways = data.copy()\n",
    "#Rename Longitude and Latitude columns\n",
    "laneways = laneways.rename(columns = {'geo_point_2d.lon' : 'lon', 'geo_point_2d.lat' : 'lat'})\n",
    "print('Completed:', laneways.shape[0], 'rows,', laneways.shape[1], 'columns extracted' )"
   ]
  },
  {
   "cell_type": "code",
   "execution_count": 12,
   "metadata": {},
   "outputs": [
    {
     "name": "stdout",
     "output_type": "stream",
     "text": [
      "Completed: 76928 rows, 22 columns extracted\n"
     ]
    }
   ],
   "source": [
    "#Extract urban forest data \n",
    "session = requests.Session()\n",
    "base = 'https://data.melbourne.vic.gov.au/api/v2/catalog/datasets/'\n",
    "url = 'trees-with-species-and-dimensions-urban-forest'\n",
    "\n",
    "target_url = f'{base}{url}/exports/json'\n",
    "result = session.get(target_url)\n",
    "result_json = result.json()\n",
    "data = pd.json_normalize(result_json)\n",
    "uf = data.copy()\n",
    "#Rename Longitude and Latitude columns\n",
    "uf = uf.rename(columns = {'coordinatelocation.lon' : 'lon', 'coordinatelocation.lat' : 'lat'})\n",
    "print('Completed:', uf.shape[0], 'rows,', uf.shape[1], 'columns extracted' )"
   ]
  },
  {
   "cell_type": "code",
   "execution_count": 40,
   "metadata": {},
   "outputs": [
    {
     "name": "stdout",
     "output_type": "stream",
     "text": [
      "Completed: 628 rows, 9 columns extracted\n"
     ]
    }
   ],
   "source": [
    "#Extract energy consumption projection data \n",
    "session = requests.Session()\n",
    "base = 'https://data.melbourne.vic.gov.au/api/v2/catalog/datasets/'\n",
    "url = 'block-level-energy-consumption-modelled-on-building-attributes-2026-projection-b'\n",
    "\n",
    "target_url = f'{base}{url}/exports/json'\n",
    "result = session.get(target_url)\n",
    "result_json = result.json()\n",
    "data = pd.json_normalize(result_json)\n",
    "energy = data.copy()\n",
    "#Rename Longitude and Latitude columns\n",
    "energy = energy.rename(columns = {'geo_point_2d.lon' : 'lon', 'geo_point_2d.lat' : 'lat'})\n",
    "print('Completed:', energy.shape[0], 'rows,', energy.shape[1], 'columns extracted' )"
   ]
  },
  {
   "cell_type": "markdown",
   "metadata": {},
   "source": [
    "<div class=\"usecase-section-header\">Calculate number of trees vs projected energy consumption</div>"
   ]
  },
  {
   "cell_type": "code",
   "execution_count": 15,
   "metadata": {},
   "outputs": [],
   "source": [
    "#Create function to calculate distance between 2 coordinates\n",
    "import geopy.distance\n",
    "def distance(lat1, lon1, lat2, lon2):\n",
    "    coords_1 = (lat1, lon1)\n",
    "    coords_2 = (lat2, lon2)\n",
    "    km = geopy.distance.geodesic(coords_1, coords_2).km\n",
    "    return (km)"
   ]
  },
  {
   "cell_type": "code",
   "execution_count": 16,
   "metadata": {},
   "outputs": [
    {
     "name": "stdout",
     "output_type": "stream",
     "text": [
      "Location: 1 out of 246 , Latitude: -37.81980050254932 , Longitude: 144.9623447558369 , Number of trees: 29 , Total energy consumption projected: 0.0\n",
      "Location: 2 out of 246 , Latitude: -37.81097635318543 , Longitude: 144.97170834375964 , Number of trees: 41 , Total energy consumption projected: 39573.5186276\n",
      "Location: 3 out of 246 , Latitude: -37.81111151578862 , Longitude: 144.97244046374837 , Number of trees: 35 , Total energy consumption projected: 16389.2099678\n",
      "Location: 4 out of 246 , Latitude: -37.81161232134716 , Longitude: 144.97077449834737 , Number of trees: 54 , Total energy consumption projected: 16389.2099678\n",
      "Location: 5 out of 246 , Latitude: -37.8124734926234 , Longitude: 144.9713761243581 , Number of trees: 86 , Total energy consumption projected: 21433.0537357\n",
      "Location: 6 out of 246 , Latitude: -37.81304184241003 , Longitude: 144.97240833983707 , Number of trees: 69 , Total energy consumption projected: 46318.9282513\n",
      "Location: 7 out of 246 , Latitude: -37.81410455066066 , Longitude: 144.9736711005169 , Number of trees: 47 , Total energy consumption projected: 48320.4695801\n",
      "Location: 8 out of 246 , Latitude: -37.81521836330808 , Longitude: 144.97342323779137 , Number of trees: 37 , Total energy consumption projected: 28312.0753967\n",
      "Location: 9 out of 246 , Latitude: -37.81560584167807 , Longitude: 144.9716292036106 , Number of trees: 61 , Total energy consumption projected: 20219.5459825\n",
      "Location: 10 out of 246 , Latitude: -37.81363663807256 , Longitude: 144.97030218968666 , Number of trees: 57 , Total energy consumption projected: 114683.93094739999\n",
      "Location: 11 out of 246 , Latitude: -37.81318089121382 , Longitude: 144.96918657126457 , Number of trees: 24 , Total energy consumption projected: 52217.8144328\n",
      "Location: 12 out of 246 , Latitude: -37.811631479265266 , Longitude: 144.96996732732396 , Number of trees: 36 , Total energy consumption projected: 12843.769694\n",
      "Location: 13 out of 246 , Latitude: -37.81096554046618 , Longitude: 144.9691457959443 , Number of trees: 34 , Total energy consumption projected: 14477.5993291\n",
      "Location: 14 out of 246 , Latitude: -37.81018788400599 , Longitude: 144.9673441983146 , Number of trees: 29 , Total energy consumption projected: 18880.5489048\n",
      "Location: 15 out of 246 , Latitude: -37.808928701105636 , Longitude: 144.96845133042902 , Number of trees: 39 , Total energy consumption projected: 7048.65308545\n",
      "Location: 16 out of 246 , Latitude: -37.811819833149336 , Longitude: 144.9653517247358 , Number of trees: 41 , Total energy consumption projected: 11292.7685665\n",
      "Location: 17 out of 246 , Latitude: -37.81363559321624 , Longitude: 144.9673143038117 , Number of trees: 40 , Total energy consumption projected: 16406.3528704\n",
      "Location: 18 out of 246 , Latitude: -37.81638689912868 , Longitude: 144.9690855012813 , Number of trees: 28 , Total energy consumption projected: 22292.979636\n",
      "Location: 19 out of 246 , Latitude: -37.816437955439866 , Longitude: 144.968922695136 , Number of trees: 26 , Total energy consumption projected: 22292.979636\n",
      "Location: 20 out of 246 , Latitude: -37.816833769769204 , Longitude: 144.96650432144628 , Number of trees: 29 , Total energy consumption projected: 47134.313238899995\n",
      "Location: 21 out of 246 , Latitude: -37.817277292447365 , Longitude: 144.9660029303524 , Number of trees: 3 , Total energy consumption projected: 20539.6982211\n",
      "Location: 22 out of 246 , Latitude: -37.817339881748865 , Longitude: 144.96578935360571 , Number of trees: 7 , Total energy consumption projected: 20539.6982211\n",
      "Location: 23 out of 246 , Latitude: -37.8172843757446 , Longitude: 144.96517912329656 , Number of trees: 11 , Total energy consumption projected: 20539.6982211\n",
      "Location: 24 out of 246 , Latitude: -37.816440023811005 , Longitude: 144.9660849351429 , Number of trees: 39 , Total energy consumption projected: 47134.313238899995\n",
      "Location: 25 out of 246 , Latitude: -37.81531786344816 , Longitude: 144.96412508085777 , Number of trees: 11 , Total energy consumption projected: 24704.2744582\n",
      "Location: 26 out of 246 , Latitude: -37.81524339834998 , Longitude: 144.96455112659987 , Number of trees: 11 , Total energy consumption projected: 38531.9192489\n",
      "Location: 27 out of 246 , Latitude: -37.81496076902029 , Longitude: 144.9655933228601 , Number of trees: 31 , Total energy consumption projected: 24704.2744582\n",
      "Location: 28 out of 246 , Latitude: -37.81283231518697 , Longitude: 144.96485753421675 , Number of trees: 30 , Total energy consumption projected: 0\n",
      "Location: 29 out of 246 , Latitude: -37.8122331277934 , Longitude: 144.96450529272983 , Number of trees: 32 , Total energy consumption projected: 103252.737866\n",
      "Location: 30 out of 246 , Latitude: -37.81120874607432 , Longitude: 144.96385829677484 , Number of trees: 39 , Total energy consumption projected: 103252.737866\n",
      "Location: 31 out of 246 , Latitude: -37.810511430101 , Longitude: 144.96354768190554 , Number of trees: 36 , Total energy consumption projected: 0\n",
      "Location: 32 out of 246 , Latitude: -37.811082793916796 , Longitude: 144.96080159509805 , Number of trees: 22 , Total energy consumption projected: 12809.0284811\n",
      "Location: 33 out of 246 , Latitude: -37.81364143485823 , Longitude: 144.95967769583882 , Number of trees: 48 , Total energy consumption projected: 9658.81161959\n",
      "Location: 34 out of 246 , Latitude: -37.81479726899315 , Longitude: 144.96010852358677 , Number of trees: 36 , Total energy consumption projected: 38700.4178127\n",
      "Location: 35 out of 246 , Latitude: -37.814683887787545 , Longitude: 144.9588906580676 , Number of trees: 33 , Total energy consumption projected: 48359.22943229\n",
      "Location: 36 out of 246 , Latitude: -37.81497705914173 , Longitude: 144.95845989409705 , Number of trees: 50 , Total energy consumption projected: 38700.4178127\n",
      "Location: 37 out of 246 , Latitude: -37.81505553768235 , Longitude: 144.9582828280556 , Number of trees: 53 , Total energy consumption projected: 38700.4178127\n",
      "Location: 38 out of 246 , Latitude: -37.81637435216704 , Longitude: 144.96046496953696 , Number of trees: 46 , Total energy consumption projected: 66825.6290475\n",
      "Location: 39 out of 246 , Latitude: -37.81697722216005 , Longitude: 144.959485810845 , Number of trees: 44 , Total energy consumption projected: 27021.9956094\n",
      "Location: 40 out of 246 , Latitude: -37.81194262812994 , Longitude: 144.9609229814977 , Number of trees: 26 , Total energy consumption projected: 49380.691414600005\n",
      "Location: 41 out of 246 , Latitude: -37.81310137820415 , Longitude: 144.96198155668426 , Number of trees: 34 , Total energy consumption projected: 16378.9103301\n",
      "Location: 42 out of 246 , Latitude: -37.813735162366505 , Longitude: 144.9624979570203 , Number of trees: 27 , Total energy consumption projected: 11247.0959066\n",
      "Location: 43 out of 246 , Latitude: -37.8137809735933 , Longitude: 144.96166455721152 , Number of trees: 16 , Total energy consumption projected: 27626.0062367\n",
      "Location: 44 out of 246 , Latitude: -37.81528156146977 , Longitude: 144.96173953568237 , Number of trees: 36 , Total energy consumption projected: 63799.7964044\n",
      "Location: 45 out of 246 , Latitude: -37.81522401449075 , Longitude: 144.96270583856173 , Number of trees: 20 , Total energy consumption projected: 118140.7238029\n",
      "Location: 46 out of 246 , Latitude: -37.81593175883032 , Longitude: 144.9624004738762 , Number of trees: 31 , Total energy consumption projected: 118140.7238029\n",
      "Location: 47 out of 246 , Latitude: -37.81602777672109 , Longitude: 144.961858207876 , Number of trees: 45 , Total energy consumption projected: 54340.9273985\n",
      "Location: 48 out of 246 , Latitude: -37.817199920431165 , Longitude: 144.96372396866002 , Number of trees: 18 , Total energy consumption projected: 71766.9605111\n",
      "Location: 49 out of 246 , Latitude: -37.81776601260828 , Longitude: 144.9644701544366 , Number of trees: 11 , Total energy consumption projected: 38176.3531247\n",
      "Location: 50 out of 246 , Latitude: -37.81820807553832 , Longitude: 144.96278099354788 , Number of trees: 31 , Total energy consumption projected: 38176.3531247\n",
      "Location: 51 out of 246 , Latitude: -37.817688637627505 , Longitude: 144.96142118297337 , Number of trees: 54 , Total energy consumption projected: 24672.034274600002\n",
      "Location: 52 out of 246 , Latitude: -37.813316564957894 , Longitude: 144.95622231595837 , Number of trees: 22 , Total energy consumption projected: 14913.7937419\n",
      "Location: 53 out of 246 , Latitude: -37.81445067539735 , Longitude: 144.95696234059736 , Number of trees: 39 , Total energy consumption projected: 20824.527398\n",
      "Location: 54 out of 246 , Latitude: -37.81488075904122 , Longitude: 144.95548424957065 , Number of trees: 32 , Total energy consumption projected: 20824.527398\n",
      "Location: 55 out of 246 , Latitude: -37.81676041377433 , Longitude: 144.9565316258329 , Number of trees: 43 , Total energy consumption projected: 30379.0970102\n",
      "Location: 56 out of 246 , Latitude: -37.81734946853748 , Longitude: 144.95821608690858 , Number of trees: 52 , Total energy consumption projected: 38692.042918\n",
      "Location: 57 out of 246 , Latitude: -37.81739031205376 , Longitude: 144.9571657633738 , Number of trees: 44 , Total energy consumption projected: 69071.13992819999\n",
      "Location: 58 out of 246 , Latitude: -37.818984126275495 , Longitude: 144.95739637072802 , Number of trees: 41 , Total energy consumption projected: 47054.4208559\n",
      "Location: 59 out of 246 , Latitude: -37.81963370613525 , Longitude: 144.95802323076245 , Number of trees: 38 , Total energy consumption projected: 30936.3989011\n",
      "Location: 60 out of 246 , Latitude: -37.81954117327879 , Longitude: 144.95814655276035 , Number of trees: 40 , Total energy consumption projected: 30936.3989011\n",
      "Location: 61 out of 246 , Latitude: -37.8200790748199 , Longitude: 144.95689895741233 , Number of trees: 40 , Total energy consumption projected: 15822.3982057\n",
      "Location: 62 out of 246 , Latitude: -37.82011600297684 , Longitude: 144.9565343730053 , Number of trees: 39 , Total energy consumption projected: 15822.3982057\n",
      "Location: 63 out of 246 , Latitude: -37.82027880943805 , Longitude: 144.95574545353142 , Number of trees: 35 , Total energy consumption projected: 15822.3982057\n",
      "Location: 64 out of 246 , Latitude: -37.819764909598696 , Longitude: 144.95678115855074 , Number of trees: 41 , Total energy consumption projected: 15822.3982057\n",
      "Location: 65 out of 246 , Latitude: -37.81604819466985 , Longitude: 144.95454175904922 , Number of trees: 24 , Total energy consumption projected: 17290.9268625\n",
      "Location: 66 out of 246 , Latitude: -37.81336268612127 , Longitude: 144.95366296666123 , Number of trees: 31 , Total energy consumption projected: 9737.11961376\n",
      "Location: 67 out of 246 , Latitude: -37.813098677911036 , Longitude: 144.9537692541663 , Number of trees: 32 , Total energy consumption projected: 9737.11961376\n",
      "Location: 68 out of 246 , Latitude: -37.810100678849565 , Longitude: 144.97061722203512 , Number of trees: 56 , Total energy consumption projected: 84077.7913871\n",
      "Location: 69 out of 246 , Latitude: -37.81109181824087 , Longitude: 144.95686225824505 , Number of trees: 49 , Total energy consumption projected: 14157.5417131\n",
      "Location: 70 out of 246 , Latitude: -37.810461362738046 , Longitude: 144.95794177940672 , Number of trees: 54 , Total energy consumption projected: 11875.8516605\n",
      "Location: 71 out of 246 , Latitude: -37.80804153774292 , Longitude: 144.96757914799085 , Number of trees: 28 , Total energy consumption projected: 11048.7301348\n",
      "Location: 72 out of 246 , Latitude: -37.809574187684454 , Longitude: 144.96249136310982 , Number of trees: 20 , Total energy consumption projected: 14144.2992605\n",
      "Location: 73 out of 246 , Latitude: -37.81477253709165 , Longitude: 144.95568011260008 , Number of trees: 32 , Total energy consumption projected: 20824.527398\n",
      "Location: 74 out of 246 , Latitude: -37.81124523135607 , Longitude: 144.9629516862615 , Number of trees: 25 , Total energy consumption projected: 103252.737866\n",
      "Location: 75 out of 246 , Latitude: -37.81452312073989 , Longitude: 144.966997043321 , Number of trees: 35 , Total energy consumption projected: 33551.610148499996\n",
      "Location: 76 out of 246 , Latitude: -37.81119641212291 , Longitude: 144.97194522260708 , Number of trees: 47 , Total energy consumption projected: 16389.2099678\n",
      "Location: 77 out of 246 , Latitude: -37.80981203103341 , Longitude: 144.9715932336254 , Number of trees: 57 , Total energy consumption projected: 23184.3086598\n",
      "Location: 78 out of 246 , Latitude: -37.81261588548371 , Longitude: 144.967462431471 , Number of trees: 30 , Total energy consumption projected: 14083.3758072\n",
      "Location: 79 out of 246 , Latitude: -37.81332555540913 , Longitude: 144.97243815994796 , Number of trees: 62 , Total energy consumption projected: 24885.8745156\n",
      "Location: 80 out of 246 , Latitude: -37.808798598420246 , Longitude: 144.9616871375218 , Number of trees: 30 , Total energy consumption projected: 32662.1755661\n",
      "Location: 81 out of 246 , Latitude: -37.807613165711366 , Longitude: 144.960765316124 , Number of trees: 34 , Total energy consumption projected: 27888.2975618\n",
      "Location: 82 out of 246 , Latitude: -37.815810557823596 , Longitude: 144.95986079172638 , Number of trees: 36 , Total energy consumption projected: 39803.6334381\n",
      "Location: 83 out of 246 , Latitude: -37.81535672343349 , Longitude: 144.95569265063773 , Number of trees: 39 , Total energy consumption projected: 59890.3837477\n",
      "Location: 84 out of 246 , Latitude: -37.81037958674067 , Longitude: 144.97089952599487 , Number of trees: 59 , Total energy consumption projected: 23184.3086598\n",
      "Location: 85 out of 246 , Latitude: -37.810217121848865 , Longitude: 144.97162762401734 , Number of trees: 53 , Total energy consumption projected: 23184.3086598\n",
      "Location: 86 out of 246 , Latitude: -37.81077581774339 , Longitude: 144.97188375120993 , Number of trees: 41 , Total energy consumption projected: 39573.5186276\n",
      "Location: 87 out of 246 , Latitude: -37.811226042417026 , Longitude: 144.97139352262127 , Number of trees: 47 , Total energy consumption projected: 16389.2099678\n",
      "Location: 88 out of 246 , Latitude: -37.8131805651399 , Longitude: 144.97156163273422 , Number of trees: 73 , Total energy consumption projected: 24885.8745156\n",
      "Location: 89 out of 246 , Latitude: -37.812714034948 , Longitude: 144.9732382331711 , Number of trees: 51 , Total energy consumption projected: 24885.8745156\n",
      "Location: 90 out of 246 , Latitude: -37.815866684899426 , Longitude: 144.97038374615923 , Number of trees: 45 , Total energy consumption projected: 20219.5459825\n",
      "Location: 91 out of 246 , Latitude: -37.816070884780686 , Longitude: 144.97010070091366 , Number of trees: 39 , Total energy consumption projected: 20219.5459825\n",
      "Location: 92 out of 246 , Latitude: -37.815043593615314 , Longitude: 144.9694430083061 , Number of trees: 46 , Total energy consumption projected: 42179.8320745\n",
      "Location: 93 out of 246 , Latitude: -37.814860662335775 , Longitude: 144.97123717171658 , Number of trees: 50 , Total energy consumption projected: 42179.8320745\n",
      "Location: 94 out of 246 , Latitude: -37.81325469434872 , Longitude: 144.96873339216515 , Number of trees: 30 , Total energy consumption projected: 52217.8144328\n",
      "Location: 95 out of 246 , Latitude: -37.8113357078086 , Longitude: 144.96869835348167 , Number of trees: 9 , Total energy consumption projected: 27321.3690231\n",
      "Location: 96 out of 246 , Latitude: -37.81112570199548 , Longitude: 144.96876012887915 , Number of trees: 22 , Total energy consumption projected: 27321.3690231\n",
      "Location: 97 out of 246 , Latitude: -37.81047263684767 , Longitude: 144.96932760907043 , Number of trees: 46 , Total energy consumption projected: 14477.5993291\n",
      "Location: 98 out of 246 , Latitude: -37.809814704774496 , Longitude: 144.9686183570954 , Number of trees: 41 , Total energy consumption projected: 18880.5489048\n",
      "Location: 99 out of 246 , Latitude: -37.808962433086066 , Longitude: 144.9686829724722 , Number of trees: 41 , Total energy consumption projected: 7048.65308545\n",
      "Location: 100 out of 246 , Latitude: -37.80891911143074 , Longitude: 144.96820381786043 , Number of trees: 36 , Total energy consumption projected: 7048.65308545\n",
      "Location: 101 out of 246 , Latitude: -37.80927255305554 , Longitude: 144.96695006791515 , Number of trees: 30 , Total energy consumption projected: 7048.65308545\n",
      "Location: 102 out of 246 , Latitude: -37.811503452175096 , Longitude: 144.96706520083916 , Number of trees: 36 , Total energy consumption projected: 11292.7685665\n",
      "Location: 103 out of 246 , Latitude: -37.81181924077914 , Longitude: 144.9662543134082 , Number of trees: 24 , Total energy consumption projected: 25376.1443737\n",
      "Location: 104 out of 246 , Latitude: -37.81236603080382 , Longitude: 144.96745507745138 , Number of trees: 29 , Total energy consumption projected: 14083.3758072\n",
      "Location: 105 out of 246 , Latitude: -37.81227101185166 , Longitude: 144.9670624811988 , Number of trees: 27 , Total energy consumption projected: 25376.1443737\n",
      "Location: 106 out of 246 , Latitude: -37.8122351726817 , Longitude: 144.9668849462853 , Number of trees: 18 , Total energy consumption projected: 25376.1443737\n",
      "Location: 107 out of 246 , Latitude: -37.815770514528744 , Longitude: 144.96807420840344 , Number of trees: 18 , Total energy consumption projected: 56650.17053829999\n",
      "Location: 108 out of 246 , Latitude: -37.81721251515046 , Longitude: 144.96538877094625 , Number of trees: 11 , Total energy consumption projected: 47134.313238899995\n",
      "Location: 109 out of 246 , Latitude: -37.816552460452876 , Longitude: 144.96545353140812 , Number of trees: 22 , Total energy consumption projected: 47134.313238899995\n",
      "Location: 110 out of 246 , Latitude: -37.81515149775422 , Longitude: 144.9651313656219 , Number of trees: 20 , Total energy consumption projected: 38531.9192489\n",
      "Location: 111 out of 246 , Latitude: -37.814459961312124 , Longitude: 144.96512380211735 , Number of trees: 25 , Total energy consumption projected: 38531.9192489\n",
      "Location: 112 out of 246 , Latitude: -37.81425396234533 , Longitude: 144.96551925271615 , Number of trees: 34 , Total energy consumption projected: 13827.6447907\n",
      "Location: 113 out of 246 , Latitude: -37.81311665324148 , Longitude: 144.96455086424254 , Number of trees: 27 , Total energy consumption projected: 0\n",
      "Location: 114 out of 246 , Latitude: -37.81113906039378 , Longitude: 144.96406312182154 , Number of trees: 44 , Total energy consumption projected: 0\n",
      "Location: 115 out of 246 , Latitude: -37.81100772543578 , Longitude: 144.9637645863644 , Number of trees: 38 , Total energy consumption projected: 0\n",
      "Location: 116 out of 246 , Latitude: -37.811294962572816 , Longitude: 144.96003291730977 , Number of trees: 30 , Total energy consumption projected: 12809.0284811\n",
      "Location: 117 out of 246 , Latitude: -37.81195697118721 , Longitude: 144.95842907268548 , Number of trees: 37 , Total energy consumption projected: 25260.240468480002\n",
      "Location: 118 out of 246 , Latitude: -37.81288655222083 , Longitude: 144.9585839756677 , Number of trees: 41 , Total energy consumption projected: 19432.3129373\n",
      "Location: 119 out of 246 , Latitude: -37.81434588510203 , Longitude: 144.95974778709353 , Number of trees: 37 , Total energy consumption projected: 48359.22943229\n",
      "Location: 120 out of 246 , Latitude: -37.814713446937354 , Longitude: 144.959365686083 , Number of trees: 42 , Total energy consumption projected: 38700.4178127\n",
      "Location: 121 out of 246 , Latitude: -37.81668311746074 , Longitude: 144.95967498096383 , Number of trees: 33 , Total energy consumption projected: 66825.6290475\n",
      "Location: 122 out of 246 , Latitude: -37.81179252091795 , Longitude: 144.96145629110254 , Number of trees: 30 , Total energy consumption projected: 36571.6629335\n",
      "Location: 123 out of 246 , Latitude: -37.8121714527127 , Longitude: 144.9605637989974 , Number of trees: 41 , Total energy consumption projected: 36571.6629335\n",
      "Location: 124 out of 246 , Latitude: -37.81327834872983 , Longitude: 144.9616783818041 , Number of trees: 28 , Total energy consumption projected: 27626.0062367\n",
      "Location: 125 out of 246 , Latitude: -37.813481152611836 , Longitude: 144.96071921330733 , Number of trees: 45 , Total energy consumption projected: 16378.9103301\n",
      "Location: 126 out of 246 , Latitude: -37.81382053335725 , Longitude: 144.9621722247973 , Number of trees: 24 , Total energy consumption projected: 11247.0959066\n",
      "Location: 127 out of 246 , Latitude: -37.81386196353888 , Longitude: 144.96194119821186 , Number of trees: 23 , Total energy consumption projected: 27626.0062367\n",
      "Location: 128 out of 246 , Latitude: -37.814139526354815 , Longitude: 144.9614681922904 , Number of trees: 25 , Total energy consumption projected: 11247.0959066\n",
      "Location: 129 out of 246 , Latitude: -37.81417691097461 , Longitude: 144.96114774652452 , Number of trees: 34 , Total energy consumption projected: 11247.0959066\n",
      "Location: 130 out of 246 , Latitude: -37.817244932826426 , Longitude: 144.96301317553295 , Number of trees: 32 , Total energy consumption projected: 71766.9605111\n",
      "Location: 131 out of 246 , Latitude: -37.81774881340534 , Longitude: 144.96432068731727 , Number of trees: 11 , Total energy consumption projected: 38176.3531247\n",
      "Location: 132 out of 246 , Latitude: -37.817647102746875 , Longitude: 144.9639285753139 , Number of trees: 9 , Total energy consumption projected: 71766.9605111\n",
      "Location: 133 out of 246 , Latitude: -37.81848742506025 , Longitude: 144.96164025970833 , Number of trees: 40 , Total energy consumption projected: 10472.3967823\n",
      "Location: 134 out of 246 , Latitude: -37.81274968140071 , Longitude: 144.95557759699858 , Number of trees: 23 , Total energy consumption projected: 45458.9088283\n",
      "Location: 135 out of 246 , Latitude: -37.81272540384329 , Longitude: 144.9552110178304 , Number of trees: 32 , Total energy consumption projected: 30545.1150864\n",
      "Location: 136 out of 246 , Latitude: -37.81283327377191 , Longitude: 144.95470375589997 , Number of trees: 38 , Total energy consumption projected: 30545.1150864\n",
      "Location: 137 out of 246 , Latitude: -37.8135247555415 , Longitude: 144.95580894305417 , Number of trees: 18 , Total energy consumption projected: 14913.7937419\n",
      "Location: 138 out of 246 , Latitude: -37.813157519841646 , Longitude: 144.956467534624 , Number of trees: 24 , Total energy consumption projected: 14913.7937419\n",
      "Location: 139 out of 246 , Latitude: -37.81654155142347 , Longitude: 144.95728722207423 , Number of trees: 49 , Total energy consumption projected: 30379.0970102\n",
      "Location: 140 out of 246 , Latitude: -37.817468209169334 , Longitude: 144.95766420142033 , Number of trees: 44 , Total energy consumption projected: 38692.042918\n",
      "Location: 141 out of 246 , Latitude: -37.81597970168963 , Longitude: 144.9550350462116 , Number of trees: 28 , Total energy consumption projected: 17290.9268625\n",
      "Location: 142 out of 246 , Latitude: -37.81523292318083 , Longitude: 144.95416746963403 , Number of trees: 12 , Total energy consumption projected: 11455.4381634\n",
      "Location: 143 out of 246 , Latitude: -37.81375860365229 , Longitude: 144.95411623616334 , Number of trees: 28 , Total energy consumption projected: 32545.3575521\n",
      "Location: 144 out of 246 , Latitude: -37.81345477331178 , Longitude: 144.95342725801962 , Number of trees: 24 , Total energy consumption projected: 42282.47716586\n",
      "Location: 145 out of 246 , Latitude: -37.81713959638289 , Longitude: 144.95803438474277 , Number of trees: 53 , Total energy consumption projected: 69071.13992819999\n",
      "Location: 146 out of 246 , Latitude: -37.80766995107844 , Longitude: 144.9680242507245 , Number of trees: 34 , Total energy consumption projected: 11048.7301348\n",
      "Location: 147 out of 246 , Latitude: -37.807874533479186 , Longitude: 144.96719168157594 , Number of trees: 22 , Total energy consumption projected: 12232.87694415\n",
      "Location: 148 out of 246 , Latitude: -37.807868542290684 , Longitude: 144.9667625802273 , Number of trees: 39 , Total energy consumption projected: 12232.87694415\n",
      "Location: 149 out of 246 , Latitude: -37.80825704076604 , Longitude: 144.96229519445652 , Number of trees: 29 , Total energy consumption projected: 18517.8763056\n",
      "Location: 150 out of 246 , Latitude: -37.8092052807982 , Longitude: 144.96224533961347 , Number of trees: 25 , Total energy consumption projected: 32662.1755661\n",
      "Location: 151 out of 246 , Latitude: -37.81059550083191 , Longitude: 144.95911816016283 , Number of trees: 40 , Total energy consumption projected: 25147.5710439\n",
      "Location: 152 out of 246 , Latitude: -37.81532410339944 , Longitude: 144.95738250359312 , Number of trees: 46 , Total energy consumption projected: 59890.3837477\n",
      "Location: 153 out of 246 , Latitude: -37.812892966824165 , Longitude: 144.97243830492508 , Number of trees: 61 , Total energy consumption projected: 46318.9282513\n",
      "Location: 154 out of 246 , Latitude: -37.81593137617615 , Longitude: 144.96023905827192 , Number of trees: 48 , Total energy consumption projected: 66825.6290475\n",
      "Location: 155 out of 246 , Latitude: -37.813761236886755 , Longitude: 144.96151358975985 , Number of trees: 14 , Total energy consumption projected: 27626.0062367\n",
      "Location: 156 out of 246 , Latitude: -37.815212125832595 , Longitude: 144.97267324944883 , Number of trees: 60 , Total energy consumption projected: 28312.0753967\n",
      "Location: 157 out of 246 , Latitude: -37.81289266958999 , Longitude: 144.97338626335969 , Number of trees: 44 , Total energy consumption projected: 24885.8745156\n",
      "Location: 158 out of 246 , Latitude: -37.80875417866908 , Longitude: 144.97090512754946 , Number of trees: 28 , Total energy consumption projected: 63177.133170709996\n",
      "Location: 159 out of 246 , Latitude: -37.80880126515651 , Longitude: 144.97106863634434 , Number of trees: 44 , Total energy consumption projected: 63177.133170709996\n",
      "Location: 160 out of 246 , Latitude: -37.81034170711123 , Longitude: 144.97192733483007 , Number of trees: 45 , Total energy consumption projected: 39573.5186276\n",
      "Location: 161 out of 246 , Latitude: -37.81674801251833 , Longitude: 144.96800192126963 , Number of trees: 29 , Total energy consumption projected: 22292.979636\n",
      "Location: 162 out of 246 , Latitude: -37.808893073302414 , Longitude: 144.96135266168625 , Number of trees: 32 , Total energy consumption projected: 18517.8763056\n",
      "Location: 163 out of 246 , Latitude: -37.80743440633362 , Longitude: 144.96794349212385 , Number of trees: 29 , Total energy consumption projected: 11048.7301348\n",
      "Location: 164 out of 246 , Latitude: -37.811312355458725 , Longitude: 144.97106967426805 , Number of trees: 58 , Total energy consumption projected: 16389.2099678\n",
      "Location: 165 out of 246 , Latitude: -37.812062778388146 , Longitude: 144.9726904738642 , Number of trees: 55 , Total energy consumption projected: 21433.0537357\n",
      "Location: 166 out of 246 , Latitude: -37.812200122969514 , Longitude: 144.9722726519847 , Number of trees: 69 , Total energy consumption projected: 21433.0537357\n",
      "Location: 167 out of 246 , Latitude: -37.81299489178982 , Longitude: 144.97186299342198 , Number of trees: 79 , Total energy consumption projected: 46318.9282513\n",
      "Location: 168 out of 246 , Latitude: -37.81291772360056 , Longitude: 144.97284822191173 , Number of trees: 64 , Total energy consumption projected: 24885.8745156\n",
      "Location: 169 out of 246 , Latitude: -37.81486555746091 , Longitude: 144.9741255712408 , Number of trees: 39 , Total energy consumption projected: 28312.0753967\n",
      "Location: 170 out of 246 , Latitude: -37.81556813104544 , Longitude: 144.9713012962928 , Number of trees: 60 , Total energy consumption projected: 20219.5459825\n",
      "Location: 171 out of 246 , Latitude: -37.81565225265017 , Longitude: 144.97093032525657 , Number of trees: 39 , Total energy consumption projected: 62399.378057\n",
      "Location: 172 out of 246 , Latitude: -37.815010365366625 , Longitude: 144.97026802181446 , Number of trees: 49 , Total energy consumption projected: 42179.8320745\n",
      "Location: 173 out of 246 , Latitude: -37.81450170729136 , Longitude: 144.97128718168483 , Number of trees: 55 , Total energy consumption projected: 42179.8320745\n",
      "Location: 174 out of 246 , Latitude: -37.81388085097895 , Longitude: 144.970002281767 , Number of trees: 36 , Total energy consumption projected: 62466.1165146\n",
      "Location: 175 out of 246 , Latitude: -37.811846184146255 , Longitude: 144.96930164317203 , Number of trees: 22 , Total energy consumption projected: 12843.769694\n",
      "Location: 176 out of 246 , Latitude: -37.81186744205427 , Longitude: 144.9690242022624 , Number of trees: 16 , Total energy consumption projected: 12843.769694\n",
      "Location: 177 out of 246 , Latitude: -37.81164146216171 , Longitude: 144.96873504016077 , Number of trees: 10 , Total energy consumption projected: 27321.3690231\n",
      "Location: 178 out of 246 , Latitude: -37.81203165865674 , Longitude: 144.9686727236111 , Number of trees: 23 , Total energy consumption projected: 12843.769694\n",
      "Location: 179 out of 246 , Latitude: -37.81199395451558 , Longitude: 144.96839736007794 , Number of trees: 24 , Total energy consumption projected: 12843.769694\n",
      "Location: 180 out of 246 , Latitude: -37.81111808221134 , Longitude: 144.96770214537466 , Number of trees: 37 , Total energy consumption projected: 14477.5993291\n",
      "Location: 181 out of 246 , Latitude: -37.81121896258666 , Longitude: 144.96830248372038 , Number of trees: 32 , Total energy consumption projected: 14477.5993291\n",
      "Location: 182 out of 246 , Latitude: -37.809070759197056 , Longitude: 144.96780415838268 , Number of trees: 22 , Total energy consumption projected: 7048.65308545\n",
      "Location: 183 out of 246 , Latitude: -37.8092614609602 , Longitude: 144.96738352989738 , Number of trees: 32 , Total energy consumption projected: 7048.65308545\n",
      "Location: 184 out of 246 , Latitude: -37.811622558943256 , Longitude: 144.96665168266972 , Number of trees: 34 , Total energy consumption projected: 11292.7685665\n",
      "Location: 185 out of 246 , Latitude: -37.8119212879997 , Longitude: 144.965582443831 , Number of trees: 39 , Total energy consumption projected: 11292.7685665\n",
      "Location: 186 out of 246 , Latitude: -37.812182004124956 , Longitude: 144.96554618976265 , Number of trees: 33 , Total energy consumption projected: 11292.7685665\n",
      "Location: 187 out of 246 , Latitude: -37.81255972303171 , Longitude: 144.96663010717896 , Number of trees: 19 , Total energy consumption projected: 25376.1443737\n",
      "Location: 188 out of 246 , Latitude: -37.81265308586931 , Longitude: 144.96570181648684 , Number of trees: 36 , Total energy consumption projected: 14083.3758072\n",
      "Location: 189 out of 246 , Latitude: -37.81375221918104 , Longitude: 144.9668995155727 , Number of trees: 46 , Total energy consumption projected: 16406.3528704\n",
      "Location: 190 out of 246 , Latitude: -37.813998405447016 , Longitude: 144.96631621514925 , Number of trees: 48 , Total energy consumption projected: 16406.3528704\n",
      "Location: 191 out of 246 , Latitude: -37.814540467211934 , Longitude: 144.9674685834403 , Number of trees: 26 , Total energy consumption projected: 33551.610148499996\n",
      "Location: 192 out of 246 , Latitude: -37.81684310938986 , Longitude: 144.9663646628278 , Number of trees: 25 , Total energy consumption projected: 47134.313238899995\n",
      "Location: 193 out of 246 , Latitude: -37.81625729975984 , Longitude: 144.96645933847927 , Number of trees: 41 , Total energy consumption projected: 26594.6150178\n",
      "Location: 194 out of 246 , Latitude: -37.815466618658434 , Longitude: 144.9643638871223 , Number of trees: 17 , Total energy consumption projected: 24704.2744582\n",
      "Location: 195 out of 246 , Latitude: -37.815136745569795 , Longitude: 144.96546528286152 , Number of trees: 29 , Total energy consumption projected: 24704.2744582\n",
      "Location: 196 out of 246 , Latitude: -37.81453505593018 , Longitude: 144.9643264084841 , Number of trees: 9 , Total energy consumption projected: 13827.6447907\n",
      "Location: 197 out of 246 , Latitude: -37.814399761923944 , Longitude: 144.9647515708548 , Number of trees: 16 , Total energy consumption projected: 13827.6447907\n",
      "Location: 198 out of 246 , Latitude: -37.81295591658134 , Longitude: 144.963020448098 , Number of trees: 17 , Total energy consumption projected: 0\n",
      "Location: 199 out of 246 , Latitude: -37.81140603994133 , Longitude: 144.96398614233215 , Number of trees: 44 , Total energy consumption projected: 103252.737866\n",
      "Location: 200 out of 246 , Latitude: -37.81107211875846 , Longitude: 144.96009641017997 , Number of trees: 24 , Total energy consumption projected: 12809.0284811\n",
      "Location: 201 out of 246 , Latitude: -37.81143661165109 , Longitude: 144.96025816014517 , Number of trees: 21 , Total energy consumption projected: 49380.691414600005\n",
      "Location: 202 out of 246 , Latitude: -37.81445017766827 , Longitude: 144.95965312776522 , Number of trees: 35 , Total energy consumption projected: 48359.22943229\n",
      "Location: 203 out of 246 , Latitude: -37.81611345293064 , Longitude: 144.95933810898964 , Number of trees: 33 , Total energy consumption projected: 66825.6290475\n",
      "Location: 204 out of 246 , Latitude: -37.81634100783601 , Longitude: 144.96075701875682 , Number of trees: 50 , Total energy consumption projected: 27021.9956094\n",
      "Location: 205 out of 246 , Latitude: -37.81662436680107 , Longitude: 144.9604014852698 , Number of trees: 48 , Total energy consumption projected: 27021.9956094\n",
      "Location: 206 out of 246 , Latitude: -37.81232803829519 , Longitude: 144.960047985896 , Number of trees: 52 , Total energy consumption projected: 36571.6629335\n",
      "Location: 207 out of 246 , Latitude: -37.8131179768624 , Longitude: 144.96146041692978 , Number of trees: 39 , Total energy consumption projected: 16378.9103301\n",
      "Location: 208 out of 246 , Latitude: -37.81322013799656 , Longitude: 144.96103700163818 , Number of trees: 47 , Total energy consumption projected: 16378.9103301\n",
      "Location: 209 out of 246 , Latitude: -37.81316822185592 , Longitude: 144.96028210934693 , Number of trees: 55 , Total energy consumption projected: 16378.9103301\n",
      "Location: 210 out of 246 , Latitude: -37.815582438708404 , Longitude: 144.9614105114917 , Number of trees: 45 , Total energy consumption projected: 63799.7964044\n",
      "Location: 211 out of 246 , Latitude: -37.81587907634075 , Longitude: 144.96320879536245 , Number of trees: 27 , Total energy consumption projected: 54340.9273985\n",
      "Location: 212 out of 246 , Latitude: -37.81748103944648 , Longitude: 144.96223748479332 , Number of trees: 41 , Total energy consumption projected: 47790.2448787\n",
      "Location: 213 out of 246 , Latitude: -37.81705022724468 , Longitude: 144.96401604954465 , Number of trees: 22 , Total energy consumption projected: 33590.6073864\n",
      "Location: 214 out of 246 , Latitude: -37.81984867154892 , Longitude: 144.9578825986701 , Number of trees: 38 , Total energy consumption projected: 30936.3989011\n",
      "Location: 215 out of 246 , Latitude: -37.818834732192755 , Longitude: 144.96126658202394 , Number of trees: 31 , Total energy consumption projected: 12716.67821779\n",
      "Location: 216 out of 246 , Latitude: -37.81801103424856 , Longitude: 144.9609454968655 , Number of trees: 54 , Total energy consumption projected: 57964.1275842\n",
      "Location: 217 out of 246 , Latitude: -37.81788034313359 , Longitude: 144.961240049609 , Number of trees: 62 , Total energy consumption projected: 24672.034274600002\n",
      "Location: 218 out of 246 , Latitude: -37.81535295029374 , Longitude: 144.96038745128234 , Number of trees: 43 , Total energy consumption projected: 39803.6334381\n",
      "Location: 219 out of 246 , Latitude: -37.81265852382229 , Longitude: 144.9561807421683 , Number of trees: 20 , Total energy consumption projected: 30545.1150864\n",
      "Location: 220 out of 246 , Latitude: -37.81400371191351 , Longitude: 144.95506325236272 , Number of trees: 33 , Total energy consumption projected: 14913.7937419\n",
      "Location: 221 out of 246 , Latitude: -37.81368407590331 , Longitude: 144.95519418764638 , Number of trees: 32 , Total energy consumption projected: 14913.7937419\n",
      "Location: 222 out of 246 , Latitude: -37.814672188989995 , Longitude: 144.95606924108571 , Number of trees: 27 , Total energy consumption projected: 20824.527398\n",
      "Location: 223 out of 246 , Latitude: -37.815444976696476 , Longitude: 144.95698136409075 , Number of trees: 44 , Total energy consumption projected: 59890.3837477\n",
      "Location: 224 out of 246 , Latitude: -37.81556411206914 , Longitude: 144.95651273561546 , Number of trees: 34 , Total energy consumption projected: 59890.3837477\n",
      "Location: 225 out of 246 , Latitude: -37.81675781807964 , Longitude: 144.95677846750684 , Number of trees: 47 , Total energy consumption projected: 30379.0970102\n",
      "Location: 226 out of 246 , Latitude: -37.81705815427994 , Longitude: 144.95829874000657 , Number of trees: 49 , Total energy consumption projected: 38692.042918\n",
      "Location: 227 out of 246 , Latitude: -37.81939019475833 , Longitude: 144.9588910635486 , Number of trees: 47 , Total energy consumption projected: 30936.3989011\n",
      "Location: 228 out of 246 , Latitude: -37.81820110978195 , Longitude: 144.95515581469482 , Number of trees: 43 , Total energy consumption projected: 25413.3038245\n",
      "Location: 229 out of 246 , Latitude: -37.815131053785386 , Longitude: 144.9547019972304 , Number of trees: 24 , Total energy consumption projected: 11455.4381634\n",
      "Location: 230 out of 246 , Latitude: -37.81535738669452 , Longitude: 144.95447646152166 , Number of trees: 21 , Total energy consumption projected: 28746.3650259\n",
      "Location: 231 out of 246 , Latitude: -37.81558625091741 , Longitude: 144.95398767873985 , Number of trees: 4 , Total energy consumption projected: 28746.3650259\n",
      "Location: 232 out of 246 , Latitude: -37.813298814806174 , Longitude: 144.95203267710278 , Number of trees: 24 , Total energy consumption projected: 9737.11961376\n",
      "Location: 233 out of 246 , Latitude: -37.80919327198343 , Longitude: 144.95907535115865 , Number of trees: 62 , Total energy consumption projected: 10065.9143204\n",
      "Location: 234 out of 246 , Latitude: -37.80940546461835 , Longitude: 144.96233864480138 , Number of trees: 21 , Total energy consumption projected: 14144.2992605\n",
      "Location: 235 out of 246 , Latitude: -37.81602860198378 , Longitude: 144.96346829171765 , Number of trees: 32 , Total energy consumption projected: 54340.9273985\n",
      "Location: 236 out of 246 , Latitude: -37.819253504282024 , Longitude: 144.95632912990123 , Number of trees: 45 , Total energy consumption projected: 58222.8407854\n",
      "Location: 237 out of 246 , Latitude: -37.815770743514925 , Longitude: 144.96290788697897 , Number of trees: 27 , Total energy consumption projected: 118140.7238029\n",
      "Location: 238 out of 246 , Latitude: -37.81309137074721 , Longitude: 144.96047108406836 , Number of trees: 55 , Total energy consumption projected: 16378.9103301\n",
      "Location: 239 out of 246 , Latitude: -37.81696435459669 , Longitude: 144.96627899373402 , Number of trees: 20 , Total energy consumption projected: 47134.313238899995\n",
      "Location: 240 out of 246 , Latitude: -37.813170613431005 , Longitude: 144.96406677587515 , Number of trees: 8 , Total energy consumption projected: 0\n",
      "Location: 241 out of 246 , Latitude: -37.81132913888725 , Longitude: 144.97208617369233 , Number of trees: 45 , Total energy consumption projected: 16389.2099678\n",
      "Location: 242 out of 246 , Latitude: -37.808732016172115 , Longitude: 144.9713271143983 , Number of trees: 58 , Total energy consumption projected: 61789.211951327\n",
      "Location: 243 out of 246 , Latitude: -37.811891568883624 , Longitude: 144.96646689470336 , Number of trees: 19 , Total energy consumption projected: 25376.1443737\n",
      "Location: 244 out of 246 , Latitude: -37.80980844948987 , Longitude: 144.96051751381623 , Number of trees: 41 , Total energy consumption projected: 25147.5710439\n",
      "Location: 245 out of 246 , Latitude: -37.807528190248966 , Longitude: 144.96798312015957 , Number of trees: 31 , Total energy consumption projected: 11048.7301348\n",
      "Location: 246 out of 246 , Latitude: -37.8091174792242 , Longitude: 144.97079029463796 , Number of trees: 29 , Total energy consumption projected: 60893.4827273\n",
      "Completed\n"
     ]
    }
   ],
   "source": [
    "#Count number of trees in each greening location and its surrounding within the radius set\n",
    "#Set radius\n",
    "radius = 0.1 #KM\n",
    "location_count = len(laneways)\n",
    "\n",
    "#Filter Urban Forest dataset to include only trees within the bounding box\n",
    "#Create bounding box\n",
    "#Find Min and Max latitude and longitude of greening location\n",
    "max_lon = laneways['lon'].max()\n",
    "max_lat = laneways['lat'].max()\n",
    "min_lon = laneways['lon'].min()\n",
    "min_lat = laneways['lat'].min()\n",
    "\n",
    "#Find coordinate of bounding box \n",
    "b = [45, 135, 225, 315]\n",
    "d = radius\n",
    "\n",
    "#North East (NE) coordinate of bounding box\n",
    "origin = geopy.Point(max_lat, max_lon)\n",
    "destination = geopy.distance.geodesic(kilometers=d).destination(origin, b[0])\n",
    "NE_lat, NE_lon = destination.latitude, destination.longitude\n",
    "\n",
    "#South East (SE) coordinate of bounding box\n",
    "origin = geopy.Point(min_lat, max_lon)\n",
    "destination = geopy.distance.geodesic(kilometers=d).destination(origin, b[1])\n",
    "SE_lat, SE_lon = destination.latitude, destination.longitude\n",
    "\n",
    "#South West (SW) coordinate of bounding box\n",
    "origin = geopy.Point(min_lat, min_lon)\n",
    "destination = geopy.distance.geodesic(kilometers=d).destination(origin, b[2])\n",
    "SW_lat, SW_lon = destination.latitude, destination.longitude\n",
    "\n",
    "#North West (NW) coordinate of bounding box\n",
    "origin = geopy.Point(max_lat, min_lon)\n",
    "destination = geopy.distance.geodesic(kilometers=d).destination(origin, b[3])\n",
    "NW_lat, NW_lon = destination.latitude, destination.longitude\n",
    "\n",
    "#Latitude boundaries\n",
    "max_lat_bound = max(NW_lat, NE_lat)\n",
    "min_lat_bound = min(SW_lat, SE_lat)\n",
    "#Longitude boundaries\n",
    "max_lon_bound = max(NE_lon, SE_lon)\n",
    "min_lon_bound = min(NW_lon, SW_lon)\n",
    "\n",
    "#Filter Urban Forest dataset to include only trees within the bounding box\n",
    "uf_df = uf.loc[(uf['lat'].between(min_lat_bound, max_lat_bound)) & (uf['lon'].between(min_lon_bound, max_lon_bound))]\n",
    "uf_df = uf_df.reset_index()\n",
    "\n",
    "#Filter Energy Consumption Projection dataset to include only sites within the bounding box\n",
    "energy_df = energy.loc[(energy['lat'].between(min_lat_bound, max_lat_bound)) & (energy['lon'].between(min_lon_bound, max_lon_bound))]\n",
    "energy_df = energy_df.reset_index()\n",
    "\n",
    "#Count number of trees and sum up projected energy consumption in each greening location and its surrounding within the radius set\n",
    "for i in range(location_count):\n",
    "#for i in range(2):\n",
    "    #Longitude and Latitude of greening area\n",
    "    green_lon = laneways.loc[i, 'lon']\n",
    "    green_lat = laneways.loc[i, 'lat']\n",
    "    #Count number of trees within set radius\n",
    "    tree_count = 0\n",
    "    for x in range(len(uf_df)):\n",
    "        tree_lon = uf_df.loc[x, 'lon']\n",
    "        tree_lat = uf_df.loc[x, 'lat']\n",
    "        km = distance(tree_lat, tree_lon, green_lat , green_lon)\n",
    "        if abs(km) < radius:\n",
    "            tree_count = tree_count \n",
    "            tree_count = tree_count + 1\n",
    "    laneways.loc[i, 'tree_count'] = tree_count\n",
    "    #Total projected energy consumption within set radius\n",
    "    total_energy = 0\n",
    "    for k in range(len(energy_df)):\n",
    "        site_lon = energy_df.loc[k, 'lon']\n",
    "        site_lat = energy_df.loc[k, 'lat']\n",
    "        site_total = energy_df.loc[k, 'total']\n",
    "        site_km = distance(site_lat, site_lon, green_lat , green_lon)\n",
    "        if abs(site_km) < radius:\n",
    "            total_energy = total_energy\n",
    "            total_energy = total_energy + site_total\n",
    "    laneways.loc[i, 'total_energy'] = total_energy\n",
    "    print('Location:', i + 1, 'out of', location_count, ', Latitude:', green_lat, ', Longitude:', green_lon, ', Number of trees:', tree_count, ', Total energy consumption projected:', total_energy)\n",
    "\n",
    "print('Completed')"
   ]
  },
  {
   "cell_type": "code",
   "execution_count": 26,
   "metadata": {},
   "outputs": [
    {
     "data": {
      "application/vnd.plotly.v1+json": {
       "config": {
        "plotlyServerURL": "https://plot.ly"
       },
       "data": [
        {
         "coloraxis": "coloraxis",
         "customdata": [
          [
           29
          ],
          [
           41
          ],
          [
           35
          ],
          [
           54
          ],
          [
           86
          ],
          [
           69
          ],
          [
           47
          ],
          [
           37
          ],
          [
           61
          ],
          [
           57
          ],
          [
           24
          ],
          [
           36
          ],
          [
           34
          ],
          [
           29
          ],
          [
           39
          ],
          [
           41
          ],
          [
           40
          ],
          [
           28
          ],
          [
           26
          ],
          [
           29
          ],
          [
           3
          ],
          [
           7
          ],
          [
           11
          ],
          [
           39
          ],
          [
           11
          ],
          [
           11
          ],
          [
           31
          ],
          [
           30
          ],
          [
           32
          ],
          [
           39
          ],
          [
           36
          ],
          [
           22
          ],
          [
           48
          ],
          [
           36
          ],
          [
           33
          ],
          [
           50
          ],
          [
           53
          ],
          [
           46
          ],
          [
           44
          ],
          [
           26
          ],
          [
           34
          ],
          [
           27
          ],
          [
           16
          ],
          [
           36
          ],
          [
           20
          ],
          [
           31
          ],
          [
           45
          ],
          [
           18
          ],
          [
           11
          ],
          [
           31
          ],
          [
           54
          ],
          [
           22
          ],
          [
           39
          ],
          [
           32
          ],
          [
           43
          ],
          [
           52
          ],
          [
           44
          ],
          [
           41
          ],
          [
           38
          ],
          [
           40
          ],
          [
           40
          ],
          [
           39
          ],
          [
           35
          ],
          [
           41
          ],
          [
           24
          ],
          [
           31
          ],
          [
           32
          ],
          [
           56
          ],
          [
           49
          ],
          [
           54
          ],
          [
           28
          ],
          [
           20
          ],
          [
           32
          ],
          [
           25
          ],
          [
           35
          ],
          [
           47
          ],
          [
           57
          ],
          [
           30
          ],
          [
           62
          ],
          [
           30
          ],
          [
           34
          ],
          [
           36
          ],
          [
           39
          ],
          [
           59
          ],
          [
           53
          ],
          [
           41
          ],
          [
           47
          ],
          [
           73
          ],
          [
           51
          ],
          [
           45
          ],
          [
           39
          ],
          [
           46
          ],
          [
           50
          ],
          [
           30
          ],
          [
           9
          ],
          [
           22
          ],
          [
           46
          ],
          [
           41
          ],
          [
           41
          ],
          [
           36
          ],
          [
           30
          ],
          [
           36
          ],
          [
           24
          ],
          [
           29
          ],
          [
           27
          ],
          [
           18
          ],
          [
           18
          ],
          [
           11
          ],
          [
           22
          ],
          [
           20
          ],
          [
           25
          ],
          [
           34
          ],
          [
           27
          ],
          [
           44
          ],
          [
           38
          ],
          [
           30
          ],
          [
           37
          ],
          [
           41
          ],
          [
           37
          ],
          [
           42
          ],
          [
           33
          ],
          [
           30
          ],
          [
           41
          ],
          [
           28
          ],
          [
           45
          ],
          [
           24
          ],
          [
           23
          ],
          [
           25
          ],
          [
           34
          ],
          [
           32
          ],
          [
           11
          ],
          [
           9
          ],
          [
           40
          ],
          [
           23
          ],
          [
           32
          ],
          [
           38
          ],
          [
           18
          ],
          [
           24
          ],
          [
           49
          ],
          [
           44
          ],
          [
           28
          ],
          [
           12
          ],
          [
           28
          ],
          [
           24
          ],
          [
           53
          ],
          [
           34
          ],
          [
           22
          ],
          [
           39
          ],
          [
           29
          ],
          [
           25
          ],
          [
           40
          ],
          [
           46
          ],
          [
           61
          ],
          [
           48
          ],
          [
           14
          ],
          [
           60
          ],
          [
           44
          ],
          [
           28
          ],
          [
           44
          ],
          [
           45
          ],
          [
           29
          ],
          [
           32
          ],
          [
           29
          ],
          [
           58
          ],
          [
           55
          ],
          [
           69
          ],
          [
           79
          ],
          [
           64
          ],
          [
           39
          ],
          [
           60
          ],
          [
           39
          ],
          [
           49
          ],
          [
           55
          ],
          [
           36
          ],
          [
           22
          ],
          [
           16
          ],
          [
           10
          ],
          [
           23
          ],
          [
           24
          ],
          [
           37
          ],
          [
           32
          ],
          [
           22
          ],
          [
           32
          ],
          [
           34
          ],
          [
           39
          ],
          [
           33
          ],
          [
           19
          ],
          [
           36
          ],
          [
           46
          ],
          [
           48
          ],
          [
           26
          ],
          [
           25
          ],
          [
           41
          ],
          [
           17
          ],
          [
           29
          ],
          [
           9
          ],
          [
           16
          ],
          [
           17
          ],
          [
           44
          ],
          [
           24
          ],
          [
           21
          ],
          [
           35
          ],
          [
           33
          ],
          [
           50
          ],
          [
           48
          ],
          [
           52
          ],
          [
           39
          ],
          [
           47
          ],
          [
           55
          ],
          [
           45
          ],
          [
           27
          ],
          [
           41
          ],
          [
           22
          ],
          [
           38
          ],
          [
           31
          ],
          [
           54
          ],
          [
           62
          ],
          [
           43
          ],
          [
           20
          ],
          [
           33
          ],
          [
           32
          ],
          [
           27
          ],
          [
           44
          ],
          [
           34
          ],
          [
           47
          ],
          [
           49
          ],
          [
           47
          ],
          [
           43
          ],
          [
           24
          ],
          [
           21
          ],
          [
           4
          ],
          [
           24
          ],
          [
           62
          ],
          [
           21
          ],
          [
           32
          ],
          [
           45
          ],
          [
           27
          ],
          [
           55
          ],
          [
           20
          ],
          [
           8
          ],
          [
           45
          ],
          [
           58
          ],
          [
           19
          ],
          [
           41
          ],
          [
           31
          ],
          [
           29
          ]
         ],
         "hovertemplate": "total_energy=%{z}<br>lat=%{lat}<br>lon=%{lon}<br>tree_count=%{customdata[0]}<extra></extra>",
         "lat": [
          -37.81980050254932,
          -37.81097635318543,
          -37.81111151578862,
          -37.81161232134716,
          -37.8124734926234,
          -37.81304184241003,
          -37.81410455066066,
          -37.81521836330808,
          -37.81560584167807,
          -37.81363663807256,
          -37.81318089121382,
          -37.811631479265266,
          -37.81096554046618,
          -37.81018788400599,
          -37.808928701105636,
          -37.811819833149336,
          -37.81363559321624,
          -37.81638689912868,
          -37.816437955439866,
          -37.816833769769204,
          -37.817277292447365,
          -37.817339881748865,
          -37.8172843757446,
          -37.816440023811005,
          -37.81531786344816,
          -37.81524339834998,
          -37.81496076902029,
          -37.81283231518697,
          -37.8122331277934,
          -37.81120874607432,
          -37.810511430101,
          -37.811082793916796,
          -37.81364143485823,
          -37.81479726899315,
          -37.814683887787545,
          -37.81497705914173,
          -37.81505553768235,
          -37.81637435216704,
          -37.81697722216005,
          -37.81194262812994,
          -37.81310137820415,
          -37.813735162366505,
          -37.8137809735933,
          -37.81528156146977,
          -37.81522401449075,
          -37.81593175883032,
          -37.81602777672109,
          -37.817199920431165,
          -37.81776601260828,
          -37.81820807553832,
          -37.817688637627505,
          -37.813316564957894,
          -37.81445067539735,
          -37.81488075904122,
          -37.81676041377433,
          -37.81734946853748,
          -37.81739031205376,
          -37.818984126275495,
          -37.81963370613525,
          -37.81954117327879,
          -37.8200790748199,
          -37.82011600297684,
          -37.82027880943805,
          -37.819764909598696,
          -37.81604819466985,
          -37.81336268612127,
          -37.813098677911036,
          -37.810100678849565,
          -37.81109181824087,
          -37.810461362738046,
          -37.80804153774292,
          -37.809574187684454,
          -37.81477253709165,
          -37.81124523135607,
          -37.81452312073989,
          -37.81119641212291,
          -37.80981203103341,
          -37.81261588548371,
          -37.81332555540913,
          -37.808798598420246,
          -37.807613165711366,
          -37.815810557823596,
          -37.81535672343349,
          -37.81037958674067,
          -37.810217121848865,
          -37.81077581774339,
          -37.811226042417026,
          -37.8131805651399,
          -37.812714034948,
          -37.815866684899426,
          -37.816070884780686,
          -37.815043593615314,
          -37.814860662335775,
          -37.81325469434872,
          -37.8113357078086,
          -37.81112570199548,
          -37.81047263684767,
          -37.809814704774496,
          -37.808962433086066,
          -37.80891911143074,
          -37.80927255305554,
          -37.811503452175096,
          -37.81181924077914,
          -37.81236603080382,
          -37.81227101185166,
          -37.8122351726817,
          -37.815770514528744,
          -37.81721251515046,
          -37.816552460452876,
          -37.81515149775422,
          -37.814459961312124,
          -37.81425396234533,
          -37.81311665324148,
          -37.81113906039378,
          -37.81100772543578,
          -37.811294962572816,
          -37.81195697118721,
          -37.81288655222083,
          -37.81434588510203,
          -37.814713446937354,
          -37.81668311746074,
          -37.81179252091795,
          -37.8121714527127,
          -37.81327834872983,
          -37.813481152611836,
          -37.81382053335725,
          -37.81386196353888,
          -37.814139526354815,
          -37.81417691097461,
          -37.817244932826426,
          -37.81774881340534,
          -37.817647102746875,
          -37.81848742506025,
          -37.81274968140071,
          -37.81272540384329,
          -37.81283327377191,
          -37.8135247555415,
          -37.813157519841646,
          -37.81654155142347,
          -37.817468209169334,
          -37.81597970168963,
          -37.81523292318083,
          -37.81375860365229,
          -37.81345477331178,
          -37.81713959638289,
          -37.80766995107844,
          -37.807874533479186,
          -37.807868542290684,
          -37.80825704076604,
          -37.8092052807982,
          -37.81059550083191,
          -37.81532410339944,
          -37.812892966824165,
          -37.81593137617615,
          -37.813761236886755,
          -37.815212125832595,
          -37.81289266958999,
          -37.80875417866908,
          -37.80880126515651,
          -37.81034170711123,
          -37.81674801251833,
          -37.808893073302414,
          -37.80743440633362,
          -37.811312355458725,
          -37.812062778388146,
          -37.812200122969514,
          -37.81299489178982,
          -37.81291772360056,
          -37.81486555746091,
          -37.81556813104544,
          -37.81565225265017,
          -37.815010365366625,
          -37.81450170729136,
          -37.81388085097895,
          -37.811846184146255,
          -37.81186744205427,
          -37.81164146216171,
          -37.81203165865674,
          -37.81199395451558,
          -37.81111808221134,
          -37.81121896258666,
          -37.809070759197056,
          -37.8092614609602,
          -37.811622558943256,
          -37.8119212879997,
          -37.812182004124956,
          -37.81255972303171,
          -37.81265308586931,
          -37.81375221918104,
          -37.813998405447016,
          -37.814540467211934,
          -37.81684310938986,
          -37.81625729975984,
          -37.815466618658434,
          -37.815136745569795,
          -37.81453505593018,
          -37.814399761923944,
          -37.81295591658134,
          -37.81140603994133,
          -37.81107211875846,
          -37.81143661165109,
          -37.81445017766827,
          -37.81611345293064,
          -37.81634100783601,
          -37.81662436680107,
          -37.81232803829519,
          -37.8131179768624,
          -37.81322013799656,
          -37.81316822185592,
          -37.815582438708404,
          -37.81587907634075,
          -37.81748103944648,
          -37.81705022724468,
          -37.81984867154892,
          -37.818834732192755,
          -37.81801103424856,
          -37.81788034313359,
          -37.81535295029374,
          -37.81265852382229,
          -37.81400371191351,
          -37.81368407590331,
          -37.814672188989995,
          -37.815444976696476,
          -37.81556411206914,
          -37.81675781807964,
          -37.81705815427994,
          -37.81939019475833,
          -37.81820110978195,
          -37.815131053785386,
          -37.81535738669452,
          -37.81558625091741,
          -37.813298814806174,
          -37.80919327198343,
          -37.80940546461835,
          -37.81602860198378,
          -37.819253504282024,
          -37.815770743514925,
          -37.81309137074721,
          -37.81696435459669,
          -37.813170613431005,
          -37.81132913888725,
          -37.808732016172115,
          -37.811891568883624,
          -37.80980844948987,
          -37.807528190248966,
          -37.8091174792242
         ],
         "lon": [
          144.9623447558369,
          144.97170834375964,
          144.97244046374837,
          144.97077449834737,
          144.9713761243581,
          144.97240833983707,
          144.9736711005169,
          144.97342323779137,
          144.9716292036106,
          144.97030218968666,
          144.96918657126457,
          144.96996732732396,
          144.9691457959443,
          144.9673441983146,
          144.96845133042902,
          144.9653517247358,
          144.9673143038117,
          144.9690855012813,
          144.968922695136,
          144.96650432144628,
          144.9660029303524,
          144.96578935360571,
          144.96517912329656,
          144.9660849351429,
          144.96412508085777,
          144.96455112659987,
          144.9655933228601,
          144.96485753421675,
          144.96450529272983,
          144.96385829677484,
          144.96354768190554,
          144.96080159509805,
          144.95967769583882,
          144.96010852358677,
          144.9588906580676,
          144.95845989409705,
          144.9582828280556,
          144.96046496953696,
          144.959485810845,
          144.9609229814977,
          144.96198155668426,
          144.9624979570203,
          144.96166455721152,
          144.96173953568237,
          144.96270583856173,
          144.9624004738762,
          144.961858207876,
          144.96372396866002,
          144.9644701544366,
          144.96278099354788,
          144.96142118297337,
          144.95622231595837,
          144.95696234059736,
          144.95548424957065,
          144.9565316258329,
          144.95821608690858,
          144.9571657633738,
          144.95739637072802,
          144.95802323076245,
          144.95814655276035,
          144.95689895741233,
          144.9565343730053,
          144.95574545353142,
          144.95678115855074,
          144.95454175904922,
          144.95366296666123,
          144.9537692541663,
          144.97061722203512,
          144.95686225824505,
          144.95794177940672,
          144.96757914799085,
          144.96249136310982,
          144.95568011260008,
          144.9629516862615,
          144.966997043321,
          144.97194522260708,
          144.9715932336254,
          144.967462431471,
          144.97243815994796,
          144.9616871375218,
          144.960765316124,
          144.95986079172638,
          144.95569265063773,
          144.97089952599487,
          144.97162762401734,
          144.97188375120993,
          144.97139352262127,
          144.97156163273422,
          144.9732382331711,
          144.97038374615923,
          144.97010070091366,
          144.9694430083061,
          144.97123717171658,
          144.96873339216515,
          144.96869835348167,
          144.96876012887915,
          144.96932760907043,
          144.9686183570954,
          144.9686829724722,
          144.96820381786043,
          144.96695006791515,
          144.96706520083916,
          144.9662543134082,
          144.96745507745138,
          144.9670624811988,
          144.9668849462853,
          144.96807420840344,
          144.96538877094625,
          144.96545353140812,
          144.9651313656219,
          144.96512380211735,
          144.96551925271615,
          144.96455086424254,
          144.96406312182154,
          144.9637645863644,
          144.96003291730977,
          144.95842907268548,
          144.9585839756677,
          144.95974778709353,
          144.959365686083,
          144.95967498096383,
          144.96145629110254,
          144.9605637989974,
          144.9616783818041,
          144.96071921330733,
          144.9621722247973,
          144.96194119821186,
          144.9614681922904,
          144.96114774652452,
          144.96301317553295,
          144.96432068731727,
          144.9639285753139,
          144.96164025970833,
          144.95557759699858,
          144.9552110178304,
          144.95470375589997,
          144.95580894305417,
          144.956467534624,
          144.95728722207423,
          144.95766420142033,
          144.9550350462116,
          144.95416746963403,
          144.95411623616334,
          144.95342725801962,
          144.95803438474277,
          144.9680242507245,
          144.96719168157594,
          144.9667625802273,
          144.96229519445652,
          144.96224533961347,
          144.95911816016283,
          144.95738250359312,
          144.97243830492508,
          144.96023905827192,
          144.96151358975985,
          144.97267324944883,
          144.97338626335969,
          144.97090512754946,
          144.97106863634434,
          144.97192733483007,
          144.96800192126963,
          144.96135266168625,
          144.96794349212385,
          144.97106967426805,
          144.9726904738642,
          144.9722726519847,
          144.97186299342198,
          144.97284822191173,
          144.9741255712408,
          144.9713012962928,
          144.97093032525657,
          144.97026802181446,
          144.97128718168483,
          144.970002281767,
          144.96930164317203,
          144.9690242022624,
          144.96873504016077,
          144.9686727236111,
          144.96839736007794,
          144.96770214537466,
          144.96830248372038,
          144.96780415838268,
          144.96738352989738,
          144.96665168266972,
          144.965582443831,
          144.96554618976265,
          144.96663010717896,
          144.96570181648684,
          144.9668995155727,
          144.96631621514925,
          144.9674685834403,
          144.9663646628278,
          144.96645933847927,
          144.9643638871223,
          144.96546528286152,
          144.9643264084841,
          144.9647515708548,
          144.963020448098,
          144.96398614233215,
          144.96009641017997,
          144.96025816014517,
          144.95965312776522,
          144.95933810898964,
          144.96075701875682,
          144.9604014852698,
          144.960047985896,
          144.96146041692978,
          144.96103700163818,
          144.96028210934693,
          144.9614105114917,
          144.96320879536245,
          144.96223748479332,
          144.96401604954465,
          144.9578825986701,
          144.96126658202394,
          144.9609454968655,
          144.961240049609,
          144.96038745128234,
          144.9561807421683,
          144.95506325236272,
          144.95519418764638,
          144.95606924108571,
          144.95698136409075,
          144.95651273561546,
          144.95677846750684,
          144.95829874000657,
          144.9588910635486,
          144.95515581469482,
          144.9547019972304,
          144.95447646152166,
          144.95398767873985,
          144.95203267710278,
          144.95907535115865,
          144.96233864480138,
          144.96346829171765,
          144.95632912990123,
          144.96290788697897,
          144.96047108406836,
          144.96627899373402,
          144.96406677587515,
          144.97208617369233,
          144.9713271143983,
          144.96646689470336,
          144.96051751381623,
          144.96798312015957,
          144.97079029463796
         ],
         "name": "",
         "opacity": 0.5,
         "radius": 40,
         "subplot": "mapbox",
         "type": "densitymapbox",
         "z": [
          0,
          39573.5186276,
          16389.2099678,
          16389.2099678,
          21433.0537357,
          46318.9282513,
          48320.4695801,
          28312.0753967,
          20219.5459825,
          114683.93094739999,
          52217.8144328,
          12843.769694,
          14477.5993291,
          18880.5489048,
          7048.65308545,
          11292.7685665,
          16406.3528704,
          22292.979636,
          22292.979636,
          47134.313238899995,
          20539.6982211,
          20539.6982211,
          20539.6982211,
          47134.313238899995,
          24704.2744582,
          38531.9192489,
          24704.2744582,
          0,
          103252.737866,
          103252.737866,
          0,
          12809.0284811,
          9658.81161959,
          38700.4178127,
          48359.22943229,
          38700.4178127,
          38700.4178127,
          66825.6290475,
          27021.9956094,
          49380.691414600005,
          16378.9103301,
          11247.0959066,
          27626.0062367,
          63799.7964044,
          118140.7238029,
          118140.7238029,
          54340.9273985,
          71766.9605111,
          38176.3531247,
          38176.3531247,
          24672.034274600002,
          14913.7937419,
          20824.527398,
          20824.527398,
          30379.0970102,
          38692.042918,
          69071.13992819999,
          47054.4208559,
          30936.3989011,
          30936.3989011,
          15822.3982057,
          15822.3982057,
          15822.3982057,
          15822.3982057,
          17290.9268625,
          9737.11961376,
          9737.11961376,
          84077.7913871,
          14157.5417131,
          11875.8516605,
          11048.7301348,
          14144.2992605,
          20824.527398,
          103252.737866,
          33551.610148499996,
          16389.2099678,
          23184.3086598,
          14083.3758072,
          24885.8745156,
          32662.1755661,
          27888.2975618,
          39803.6334381,
          59890.3837477,
          23184.3086598,
          23184.3086598,
          39573.5186276,
          16389.2099678,
          24885.8745156,
          24885.8745156,
          20219.5459825,
          20219.5459825,
          42179.8320745,
          42179.8320745,
          52217.8144328,
          27321.3690231,
          27321.3690231,
          14477.5993291,
          18880.5489048,
          7048.65308545,
          7048.65308545,
          7048.65308545,
          11292.7685665,
          25376.1443737,
          14083.3758072,
          25376.1443737,
          25376.1443737,
          56650.17053829999,
          47134.313238899995,
          47134.313238899995,
          38531.9192489,
          38531.9192489,
          13827.6447907,
          0,
          0,
          0,
          12809.0284811,
          25260.240468480002,
          19432.3129373,
          48359.22943229,
          38700.4178127,
          66825.6290475,
          36571.6629335,
          36571.6629335,
          27626.0062367,
          16378.9103301,
          11247.0959066,
          27626.0062367,
          11247.0959066,
          11247.0959066,
          71766.9605111,
          38176.3531247,
          71766.9605111,
          10472.3967823,
          45458.9088283,
          30545.1150864,
          30545.1150864,
          14913.7937419,
          14913.7937419,
          30379.0970102,
          38692.042918,
          17290.9268625,
          11455.4381634,
          32545.3575521,
          42282.47716586,
          69071.13992819999,
          11048.7301348,
          12232.87694415,
          12232.87694415,
          18517.8763056,
          32662.1755661,
          25147.5710439,
          59890.3837477,
          46318.9282513,
          66825.6290475,
          27626.0062367,
          28312.0753967,
          24885.8745156,
          63177.133170709996,
          63177.133170709996,
          39573.5186276,
          22292.979636,
          18517.8763056,
          11048.7301348,
          16389.2099678,
          21433.0537357,
          21433.0537357,
          46318.9282513,
          24885.8745156,
          28312.0753967,
          20219.5459825,
          62399.378057,
          42179.8320745,
          42179.8320745,
          62466.1165146,
          12843.769694,
          12843.769694,
          27321.3690231,
          12843.769694,
          12843.769694,
          14477.5993291,
          14477.5993291,
          7048.65308545,
          7048.65308545,
          11292.7685665,
          11292.7685665,
          11292.7685665,
          25376.1443737,
          14083.3758072,
          16406.3528704,
          16406.3528704,
          33551.610148499996,
          47134.313238899995,
          26594.6150178,
          24704.2744582,
          24704.2744582,
          13827.6447907,
          13827.6447907,
          0,
          103252.737866,
          12809.0284811,
          49380.691414600005,
          48359.22943229,
          66825.6290475,
          27021.9956094,
          27021.9956094,
          36571.6629335,
          16378.9103301,
          16378.9103301,
          16378.9103301,
          63799.7964044,
          54340.9273985,
          47790.2448787,
          33590.6073864,
          30936.3989011,
          12716.67821779,
          57964.1275842,
          24672.034274600002,
          39803.6334381,
          30545.1150864,
          14913.7937419,
          14913.7937419,
          20824.527398,
          59890.3837477,
          59890.3837477,
          30379.0970102,
          38692.042918,
          30936.3989011,
          25413.3038245,
          11455.4381634,
          28746.3650259,
          28746.3650259,
          9737.11961376,
          10065.9143204,
          14144.2992605,
          54340.9273985,
          58222.8407854,
          118140.7238029,
          16378.9103301,
          47134.313238899995,
          0,
          16389.2099678,
          61789.211951327,
          25376.1443737,
          25147.5710439,
          11048.7301348,
          60893.4827273
         ]
        }
       ],
       "layout": {
        "coloraxis": {
         "colorbar": {
          "title": {
           "text": "total_energy"
          }
         },
         "colorscale": [
          [
           0,
           "green"
          ],
          [
           0.5,
           "green"
          ],
          [
           0.51,
           "yellow"
          ],
          [
           0.71,
           "yellow"
          ],
          [
           0.72,
           "red"
          ],
          [
           1,
           "red"
          ]
         ]
        },
        "height": 800,
        "legend": {
         "tracegroupgap": 0
        },
        "mapbox": {
         "center": {
          "lat": -37.81373720225536,
          "lon": 144.96378739120695
         },
         "domain": {
          "x": [
           0,
           1
          ],
          "y": [
           0,
           1
          ]
         },
         "style": "stamen-terrain",
         "zoom": 14
        },
        "template": {
         "data": {
          "bar": [
           {
            "error_x": {
             "color": "#2a3f5f"
            },
            "error_y": {
             "color": "#2a3f5f"
            },
            "marker": {
             "line": {
              "color": "#E5ECF6",
              "width": 0.5
             },
             "pattern": {
              "fillmode": "overlay",
              "size": 10,
              "solidity": 0.2
             }
            },
            "type": "bar"
           }
          ],
          "barpolar": [
           {
            "marker": {
             "line": {
              "color": "#E5ECF6",
              "width": 0.5
             },
             "pattern": {
              "fillmode": "overlay",
              "size": 10,
              "solidity": 0.2
             }
            },
            "type": "barpolar"
           }
          ],
          "carpet": [
           {
            "aaxis": {
             "endlinecolor": "#2a3f5f",
             "gridcolor": "white",
             "linecolor": "white",
             "minorgridcolor": "white",
             "startlinecolor": "#2a3f5f"
            },
            "baxis": {
             "endlinecolor": "#2a3f5f",
             "gridcolor": "white",
             "linecolor": "white",
             "minorgridcolor": "white",
             "startlinecolor": "#2a3f5f"
            },
            "type": "carpet"
           }
          ],
          "choropleth": [
           {
            "colorbar": {
             "outlinewidth": 0,
             "ticks": ""
            },
            "type": "choropleth"
           }
          ],
          "contour": [
           {
            "colorbar": {
             "outlinewidth": 0,
             "ticks": ""
            },
            "colorscale": [
             [
              0,
              "#0d0887"
             ],
             [
              0.1111111111111111,
              "#46039f"
             ],
             [
              0.2222222222222222,
              "#7201a8"
             ],
             [
              0.3333333333333333,
              "#9c179e"
             ],
             [
              0.4444444444444444,
              "#bd3786"
             ],
             [
              0.5555555555555556,
              "#d8576b"
             ],
             [
              0.6666666666666666,
              "#ed7953"
             ],
             [
              0.7777777777777778,
              "#fb9f3a"
             ],
             [
              0.8888888888888888,
              "#fdca26"
             ],
             [
              1,
              "#f0f921"
             ]
            ],
            "type": "contour"
           }
          ],
          "contourcarpet": [
           {
            "colorbar": {
             "outlinewidth": 0,
             "ticks": ""
            },
            "type": "contourcarpet"
           }
          ],
          "heatmap": [
           {
            "colorbar": {
             "outlinewidth": 0,
             "ticks": ""
            },
            "colorscale": [
             [
              0,
              "#0d0887"
             ],
             [
              0.1111111111111111,
              "#46039f"
             ],
             [
              0.2222222222222222,
              "#7201a8"
             ],
             [
              0.3333333333333333,
              "#9c179e"
             ],
             [
              0.4444444444444444,
              "#bd3786"
             ],
             [
              0.5555555555555556,
              "#d8576b"
             ],
             [
              0.6666666666666666,
              "#ed7953"
             ],
             [
              0.7777777777777778,
              "#fb9f3a"
             ],
             [
              0.8888888888888888,
              "#fdca26"
             ],
             [
              1,
              "#f0f921"
             ]
            ],
            "type": "heatmap"
           }
          ],
          "heatmapgl": [
           {
            "colorbar": {
             "outlinewidth": 0,
             "ticks": ""
            },
            "colorscale": [
             [
              0,
              "#0d0887"
             ],
             [
              0.1111111111111111,
              "#46039f"
             ],
             [
              0.2222222222222222,
              "#7201a8"
             ],
             [
              0.3333333333333333,
              "#9c179e"
             ],
             [
              0.4444444444444444,
              "#bd3786"
             ],
             [
              0.5555555555555556,
              "#d8576b"
             ],
             [
              0.6666666666666666,
              "#ed7953"
             ],
             [
              0.7777777777777778,
              "#fb9f3a"
             ],
             [
              0.8888888888888888,
              "#fdca26"
             ],
             [
              1,
              "#f0f921"
             ]
            ],
            "type": "heatmapgl"
           }
          ],
          "histogram": [
           {
            "marker": {
             "pattern": {
              "fillmode": "overlay",
              "size": 10,
              "solidity": 0.2
             }
            },
            "type": "histogram"
           }
          ],
          "histogram2d": [
           {
            "colorbar": {
             "outlinewidth": 0,
             "ticks": ""
            },
            "colorscale": [
             [
              0,
              "#0d0887"
             ],
             [
              0.1111111111111111,
              "#46039f"
             ],
             [
              0.2222222222222222,
              "#7201a8"
             ],
             [
              0.3333333333333333,
              "#9c179e"
             ],
             [
              0.4444444444444444,
              "#bd3786"
             ],
             [
              0.5555555555555556,
              "#d8576b"
             ],
             [
              0.6666666666666666,
              "#ed7953"
             ],
             [
              0.7777777777777778,
              "#fb9f3a"
             ],
             [
              0.8888888888888888,
              "#fdca26"
             ],
             [
              1,
              "#f0f921"
             ]
            ],
            "type": "histogram2d"
           }
          ],
          "histogram2dcontour": [
           {
            "colorbar": {
             "outlinewidth": 0,
             "ticks": ""
            },
            "colorscale": [
             [
              0,
              "#0d0887"
             ],
             [
              0.1111111111111111,
              "#46039f"
             ],
             [
              0.2222222222222222,
              "#7201a8"
             ],
             [
              0.3333333333333333,
              "#9c179e"
             ],
             [
              0.4444444444444444,
              "#bd3786"
             ],
             [
              0.5555555555555556,
              "#d8576b"
             ],
             [
              0.6666666666666666,
              "#ed7953"
             ],
             [
              0.7777777777777778,
              "#fb9f3a"
             ],
             [
              0.8888888888888888,
              "#fdca26"
             ],
             [
              1,
              "#f0f921"
             ]
            ],
            "type": "histogram2dcontour"
           }
          ],
          "mesh3d": [
           {
            "colorbar": {
             "outlinewidth": 0,
             "ticks": ""
            },
            "type": "mesh3d"
           }
          ],
          "parcoords": [
           {
            "line": {
             "colorbar": {
              "outlinewidth": 0,
              "ticks": ""
             }
            },
            "type": "parcoords"
           }
          ],
          "pie": [
           {
            "automargin": true,
            "type": "pie"
           }
          ],
          "scatter": [
           {
            "fillpattern": {
             "fillmode": "overlay",
             "size": 10,
             "solidity": 0.2
            },
            "type": "scatter"
           }
          ],
          "scatter3d": [
           {
            "line": {
             "colorbar": {
              "outlinewidth": 0,
              "ticks": ""
             }
            },
            "marker": {
             "colorbar": {
              "outlinewidth": 0,
              "ticks": ""
             }
            },
            "type": "scatter3d"
           }
          ],
          "scattercarpet": [
           {
            "marker": {
             "colorbar": {
              "outlinewidth": 0,
              "ticks": ""
             }
            },
            "type": "scattercarpet"
           }
          ],
          "scattergeo": [
           {
            "marker": {
             "colorbar": {
              "outlinewidth": 0,
              "ticks": ""
             }
            },
            "type": "scattergeo"
           }
          ],
          "scattergl": [
           {
            "marker": {
             "colorbar": {
              "outlinewidth": 0,
              "ticks": ""
             }
            },
            "type": "scattergl"
           }
          ],
          "scattermapbox": [
           {
            "marker": {
             "colorbar": {
              "outlinewidth": 0,
              "ticks": ""
             }
            },
            "type": "scattermapbox"
           }
          ],
          "scatterpolar": [
           {
            "marker": {
             "colorbar": {
              "outlinewidth": 0,
              "ticks": ""
             }
            },
            "type": "scatterpolar"
           }
          ],
          "scatterpolargl": [
           {
            "marker": {
             "colorbar": {
              "outlinewidth": 0,
              "ticks": ""
             }
            },
            "type": "scatterpolargl"
           }
          ],
          "scatterternary": [
           {
            "marker": {
             "colorbar": {
              "outlinewidth": 0,
              "ticks": ""
             }
            },
            "type": "scatterternary"
           }
          ],
          "surface": [
           {
            "colorbar": {
             "outlinewidth": 0,
             "ticks": ""
            },
            "colorscale": [
             [
              0,
              "#0d0887"
             ],
             [
              0.1111111111111111,
              "#46039f"
             ],
             [
              0.2222222222222222,
              "#7201a8"
             ],
             [
              0.3333333333333333,
              "#9c179e"
             ],
             [
              0.4444444444444444,
              "#bd3786"
             ],
             [
              0.5555555555555556,
              "#d8576b"
             ],
             [
              0.6666666666666666,
              "#ed7953"
             ],
             [
              0.7777777777777778,
              "#fb9f3a"
             ],
             [
              0.8888888888888888,
              "#fdca26"
             ],
             [
              1,
              "#f0f921"
             ]
            ],
            "type": "surface"
           }
          ],
          "table": [
           {
            "cells": {
             "fill": {
              "color": "#EBF0F8"
             },
             "line": {
              "color": "white"
             }
            },
            "header": {
             "fill": {
              "color": "#C8D4E3"
             },
             "line": {
              "color": "white"
             }
            },
            "type": "table"
           }
          ]
         },
         "layout": {
          "annotationdefaults": {
           "arrowcolor": "#2a3f5f",
           "arrowhead": 0,
           "arrowwidth": 1
          },
          "autotypenumbers": "strict",
          "coloraxis": {
           "colorbar": {
            "outlinewidth": 0,
            "ticks": ""
           }
          },
          "colorscale": {
           "diverging": [
            [
             0,
             "#8e0152"
            ],
            [
             0.1,
             "#c51b7d"
            ],
            [
             0.2,
             "#de77ae"
            ],
            [
             0.3,
             "#f1b6da"
            ],
            [
             0.4,
             "#fde0ef"
            ],
            [
             0.5,
             "#f7f7f7"
            ],
            [
             0.6,
             "#e6f5d0"
            ],
            [
             0.7,
             "#b8e186"
            ],
            [
             0.8,
             "#7fbc41"
            ],
            [
             0.9,
             "#4d9221"
            ],
            [
             1,
             "#276419"
            ]
           ],
           "sequential": [
            [
             0,
             "#0d0887"
            ],
            [
             0.1111111111111111,
             "#46039f"
            ],
            [
             0.2222222222222222,
             "#7201a8"
            ],
            [
             0.3333333333333333,
             "#9c179e"
            ],
            [
             0.4444444444444444,
             "#bd3786"
            ],
            [
             0.5555555555555556,
             "#d8576b"
            ],
            [
             0.6666666666666666,
             "#ed7953"
            ],
            [
             0.7777777777777778,
             "#fb9f3a"
            ],
            [
             0.8888888888888888,
             "#fdca26"
            ],
            [
             1,
             "#f0f921"
            ]
           ],
           "sequentialminus": [
            [
             0,
             "#0d0887"
            ],
            [
             0.1111111111111111,
             "#46039f"
            ],
            [
             0.2222222222222222,
             "#7201a8"
            ],
            [
             0.3333333333333333,
             "#9c179e"
            ],
            [
             0.4444444444444444,
             "#bd3786"
            ],
            [
             0.5555555555555556,
             "#d8576b"
            ],
            [
             0.6666666666666666,
             "#ed7953"
            ],
            [
             0.7777777777777778,
             "#fb9f3a"
            ],
            [
             0.8888888888888888,
             "#fdca26"
            ],
            [
             1,
             "#f0f921"
            ]
           ]
          },
          "colorway": [
           "#636efa",
           "#EF553B",
           "#00cc96",
           "#ab63fa",
           "#FFA15A",
           "#19d3f3",
           "#FF6692",
           "#B6E880",
           "#FF97FF",
           "#FECB52"
          ],
          "font": {
           "color": "#2a3f5f"
          },
          "geo": {
           "bgcolor": "white",
           "lakecolor": "white",
           "landcolor": "#E5ECF6",
           "showlakes": true,
           "showland": true,
           "subunitcolor": "white"
          },
          "hoverlabel": {
           "align": "left"
          },
          "hovermode": "closest",
          "mapbox": {
           "style": "light"
          },
          "paper_bgcolor": "white",
          "plot_bgcolor": "#E5ECF6",
          "polar": {
           "angularaxis": {
            "gridcolor": "white",
            "linecolor": "white",
            "ticks": ""
           },
           "bgcolor": "#E5ECF6",
           "radialaxis": {
            "gridcolor": "white",
            "linecolor": "white",
            "ticks": ""
           }
          },
          "scene": {
           "xaxis": {
            "backgroundcolor": "#E5ECF6",
            "gridcolor": "white",
            "gridwidth": 2,
            "linecolor": "white",
            "showbackground": true,
            "ticks": "",
            "zerolinecolor": "white"
           },
           "yaxis": {
            "backgroundcolor": "#E5ECF6",
            "gridcolor": "white",
            "gridwidth": 2,
            "linecolor": "white",
            "showbackground": true,
            "ticks": "",
            "zerolinecolor": "white"
           },
           "zaxis": {
            "backgroundcolor": "#E5ECF6",
            "gridcolor": "white",
            "gridwidth": 2,
            "linecolor": "white",
            "showbackground": true,
            "ticks": "",
            "zerolinecolor": "white"
           }
          },
          "shapedefaults": {
           "line": {
            "color": "#2a3f5f"
           }
          },
          "ternary": {
           "aaxis": {
            "gridcolor": "white",
            "linecolor": "white",
            "ticks": ""
           },
           "baxis": {
            "gridcolor": "white",
            "linecolor": "white",
            "ticks": ""
           },
           "bgcolor": "#E5ECF6",
           "caxis": {
            "gridcolor": "white",
            "linecolor": "white",
            "ticks": ""
           }
          },
          "title": {
           "x": 0.05
          },
          "xaxis": {
           "automargin": true,
           "gridcolor": "white",
           "linecolor": "white",
           "ticks": "",
           "title": {
            "standoff": 15
           },
           "zerolinecolor": "white",
           "zerolinewidth": 2
          },
          "yaxis": {
           "automargin": true,
           "gridcolor": "white",
           "linecolor": "white",
           "ticks": "",
           "title": {
            "standoff": 15
           },
           "zerolinecolor": "white",
           "zerolinewidth": 2
          }
         }
        },
        "title": {
         "text": "Heatmap showing projected energy consumption with number of trees (on hover) across City of Melbourne"
        },
        "width": 1000
       }
      },
      "text/html": [
       "<div>                            <div id=\"b0abedcb-154d-41cf-90e4-9250354f0957\" class=\"plotly-graph-div\" style=\"height:800px; width:1000px;\"></div>            <script type=\"text/javascript\">                require([\"plotly\"], function(Plotly) {                    window.PLOTLYENV=window.PLOTLYENV || {};                                    if (document.getElementById(\"b0abedcb-154d-41cf-90e4-9250354f0957\")) {                    Plotly.newPlot(                        \"b0abedcb-154d-41cf-90e4-9250354f0957\",                        [{\"coloraxis\":\"coloraxis\",\"customdata\":[[29.0],[41.0],[35.0],[54.0],[86.0],[69.0],[47.0],[37.0],[61.0],[57.0],[24.0],[36.0],[34.0],[29.0],[39.0],[41.0],[40.0],[28.0],[26.0],[29.0],[3.0],[7.0],[11.0],[39.0],[11.0],[11.0],[31.0],[30.0],[32.0],[39.0],[36.0],[22.0],[48.0],[36.0],[33.0],[50.0],[53.0],[46.0],[44.0],[26.0],[34.0],[27.0],[16.0],[36.0],[20.0],[31.0],[45.0],[18.0],[11.0],[31.0],[54.0],[22.0],[39.0],[32.0],[43.0],[52.0],[44.0],[41.0],[38.0],[40.0],[40.0],[39.0],[35.0],[41.0],[24.0],[31.0],[32.0],[56.0],[49.0],[54.0],[28.0],[20.0],[32.0],[25.0],[35.0],[47.0],[57.0],[30.0],[62.0],[30.0],[34.0],[36.0],[39.0],[59.0],[53.0],[41.0],[47.0],[73.0],[51.0],[45.0],[39.0],[46.0],[50.0],[30.0],[9.0],[22.0],[46.0],[41.0],[41.0],[36.0],[30.0],[36.0],[24.0],[29.0],[27.0],[18.0],[18.0],[11.0],[22.0],[20.0],[25.0],[34.0],[27.0],[44.0],[38.0],[30.0],[37.0],[41.0],[37.0],[42.0],[33.0],[30.0],[41.0],[28.0],[45.0],[24.0],[23.0],[25.0],[34.0],[32.0],[11.0],[9.0],[40.0],[23.0],[32.0],[38.0],[18.0],[24.0],[49.0],[44.0],[28.0],[12.0],[28.0],[24.0],[53.0],[34.0],[22.0],[39.0],[29.0],[25.0],[40.0],[46.0],[61.0],[48.0],[14.0],[60.0],[44.0],[28.0],[44.0],[45.0],[29.0],[32.0],[29.0],[58.0],[55.0],[69.0],[79.0],[64.0],[39.0],[60.0],[39.0],[49.0],[55.0],[36.0],[22.0],[16.0],[10.0],[23.0],[24.0],[37.0],[32.0],[22.0],[32.0],[34.0],[39.0],[33.0],[19.0],[36.0],[46.0],[48.0],[26.0],[25.0],[41.0],[17.0],[29.0],[9.0],[16.0],[17.0],[44.0],[24.0],[21.0],[35.0],[33.0],[50.0],[48.0],[52.0],[39.0],[47.0],[55.0],[45.0],[27.0],[41.0],[22.0],[38.0],[31.0],[54.0],[62.0],[43.0],[20.0],[33.0],[32.0],[27.0],[44.0],[34.0],[47.0],[49.0],[47.0],[43.0],[24.0],[21.0],[4.0],[24.0],[62.0],[21.0],[32.0],[45.0],[27.0],[55.0],[20.0],[8.0],[45.0],[58.0],[19.0],[41.0],[31.0],[29.0]],\"hovertemplate\":\"total_energy=%{z}<br>lat=%{lat}<br>lon=%{lon}<br>tree_count=%{customdata[0]}<extra></extra>\",\"lat\":[-37.81980050254932,-37.81097635318543,-37.81111151578862,-37.81161232134716,-37.8124734926234,-37.81304184241003,-37.81410455066066,-37.81521836330808,-37.81560584167807,-37.81363663807256,-37.81318089121382,-37.811631479265266,-37.81096554046618,-37.81018788400599,-37.808928701105636,-37.811819833149336,-37.81363559321624,-37.81638689912868,-37.816437955439866,-37.816833769769204,-37.817277292447365,-37.817339881748865,-37.8172843757446,-37.816440023811005,-37.81531786344816,-37.81524339834998,-37.81496076902029,-37.81283231518697,-37.8122331277934,-37.81120874607432,-37.810511430101,-37.811082793916796,-37.81364143485823,-37.81479726899315,-37.814683887787545,-37.81497705914173,-37.81505553768235,-37.81637435216704,-37.81697722216005,-37.81194262812994,-37.81310137820415,-37.813735162366505,-37.8137809735933,-37.81528156146977,-37.81522401449075,-37.81593175883032,-37.81602777672109,-37.817199920431165,-37.81776601260828,-37.81820807553832,-37.817688637627505,-37.813316564957894,-37.81445067539735,-37.81488075904122,-37.81676041377433,-37.81734946853748,-37.81739031205376,-37.818984126275495,-37.81963370613525,-37.81954117327879,-37.8200790748199,-37.82011600297684,-37.82027880943805,-37.819764909598696,-37.81604819466985,-37.81336268612127,-37.813098677911036,-37.810100678849565,-37.81109181824087,-37.810461362738046,-37.80804153774292,-37.809574187684454,-37.81477253709165,-37.81124523135607,-37.81452312073989,-37.81119641212291,-37.80981203103341,-37.81261588548371,-37.81332555540913,-37.808798598420246,-37.807613165711366,-37.815810557823596,-37.81535672343349,-37.81037958674067,-37.810217121848865,-37.81077581774339,-37.811226042417026,-37.8131805651399,-37.812714034948,-37.815866684899426,-37.816070884780686,-37.815043593615314,-37.814860662335775,-37.81325469434872,-37.8113357078086,-37.81112570199548,-37.81047263684767,-37.809814704774496,-37.808962433086066,-37.80891911143074,-37.80927255305554,-37.811503452175096,-37.81181924077914,-37.81236603080382,-37.81227101185166,-37.8122351726817,-37.815770514528744,-37.81721251515046,-37.816552460452876,-37.81515149775422,-37.814459961312124,-37.81425396234533,-37.81311665324148,-37.81113906039378,-37.81100772543578,-37.811294962572816,-37.81195697118721,-37.81288655222083,-37.81434588510203,-37.814713446937354,-37.81668311746074,-37.81179252091795,-37.8121714527127,-37.81327834872983,-37.813481152611836,-37.81382053335725,-37.81386196353888,-37.814139526354815,-37.81417691097461,-37.817244932826426,-37.81774881340534,-37.817647102746875,-37.81848742506025,-37.81274968140071,-37.81272540384329,-37.81283327377191,-37.8135247555415,-37.813157519841646,-37.81654155142347,-37.817468209169334,-37.81597970168963,-37.81523292318083,-37.81375860365229,-37.81345477331178,-37.81713959638289,-37.80766995107844,-37.807874533479186,-37.807868542290684,-37.80825704076604,-37.8092052807982,-37.81059550083191,-37.81532410339944,-37.812892966824165,-37.81593137617615,-37.813761236886755,-37.815212125832595,-37.81289266958999,-37.80875417866908,-37.80880126515651,-37.81034170711123,-37.81674801251833,-37.808893073302414,-37.80743440633362,-37.811312355458725,-37.812062778388146,-37.812200122969514,-37.81299489178982,-37.81291772360056,-37.81486555746091,-37.81556813104544,-37.81565225265017,-37.815010365366625,-37.81450170729136,-37.81388085097895,-37.811846184146255,-37.81186744205427,-37.81164146216171,-37.81203165865674,-37.81199395451558,-37.81111808221134,-37.81121896258666,-37.809070759197056,-37.8092614609602,-37.811622558943256,-37.8119212879997,-37.812182004124956,-37.81255972303171,-37.81265308586931,-37.81375221918104,-37.813998405447016,-37.814540467211934,-37.81684310938986,-37.81625729975984,-37.815466618658434,-37.815136745569795,-37.81453505593018,-37.814399761923944,-37.81295591658134,-37.81140603994133,-37.81107211875846,-37.81143661165109,-37.81445017766827,-37.81611345293064,-37.81634100783601,-37.81662436680107,-37.81232803829519,-37.8131179768624,-37.81322013799656,-37.81316822185592,-37.815582438708404,-37.81587907634075,-37.81748103944648,-37.81705022724468,-37.81984867154892,-37.818834732192755,-37.81801103424856,-37.81788034313359,-37.81535295029374,-37.81265852382229,-37.81400371191351,-37.81368407590331,-37.814672188989995,-37.815444976696476,-37.81556411206914,-37.81675781807964,-37.81705815427994,-37.81939019475833,-37.81820110978195,-37.815131053785386,-37.81535738669452,-37.81558625091741,-37.813298814806174,-37.80919327198343,-37.80940546461835,-37.81602860198378,-37.819253504282024,-37.815770743514925,-37.81309137074721,-37.81696435459669,-37.813170613431005,-37.81132913888725,-37.808732016172115,-37.811891568883624,-37.80980844948987,-37.807528190248966,-37.8091174792242],\"lon\":[144.9623447558369,144.97170834375964,144.97244046374837,144.97077449834737,144.9713761243581,144.97240833983707,144.9736711005169,144.97342323779137,144.9716292036106,144.97030218968666,144.96918657126457,144.96996732732396,144.9691457959443,144.9673441983146,144.96845133042902,144.9653517247358,144.9673143038117,144.9690855012813,144.968922695136,144.96650432144628,144.9660029303524,144.96578935360571,144.96517912329656,144.9660849351429,144.96412508085777,144.96455112659987,144.9655933228601,144.96485753421675,144.96450529272983,144.96385829677484,144.96354768190554,144.96080159509805,144.95967769583882,144.96010852358677,144.9588906580676,144.95845989409705,144.9582828280556,144.96046496953696,144.959485810845,144.9609229814977,144.96198155668426,144.9624979570203,144.96166455721152,144.96173953568237,144.96270583856173,144.9624004738762,144.961858207876,144.96372396866002,144.9644701544366,144.96278099354788,144.96142118297337,144.95622231595837,144.95696234059736,144.95548424957065,144.9565316258329,144.95821608690858,144.9571657633738,144.95739637072802,144.95802323076245,144.95814655276035,144.95689895741233,144.9565343730053,144.95574545353142,144.95678115855074,144.95454175904922,144.95366296666123,144.9537692541663,144.97061722203512,144.95686225824505,144.95794177940672,144.96757914799085,144.96249136310982,144.95568011260008,144.9629516862615,144.966997043321,144.97194522260708,144.9715932336254,144.967462431471,144.97243815994796,144.9616871375218,144.960765316124,144.95986079172638,144.95569265063773,144.97089952599487,144.97162762401734,144.97188375120993,144.97139352262127,144.97156163273422,144.9732382331711,144.97038374615923,144.97010070091366,144.9694430083061,144.97123717171658,144.96873339216515,144.96869835348167,144.96876012887915,144.96932760907043,144.9686183570954,144.9686829724722,144.96820381786043,144.96695006791515,144.96706520083916,144.9662543134082,144.96745507745138,144.9670624811988,144.9668849462853,144.96807420840344,144.96538877094625,144.96545353140812,144.9651313656219,144.96512380211735,144.96551925271615,144.96455086424254,144.96406312182154,144.9637645863644,144.96003291730977,144.95842907268548,144.9585839756677,144.95974778709353,144.959365686083,144.95967498096383,144.96145629110254,144.9605637989974,144.9616783818041,144.96071921330733,144.9621722247973,144.96194119821186,144.9614681922904,144.96114774652452,144.96301317553295,144.96432068731727,144.9639285753139,144.96164025970833,144.95557759699858,144.9552110178304,144.95470375589997,144.95580894305417,144.956467534624,144.95728722207423,144.95766420142033,144.9550350462116,144.95416746963403,144.95411623616334,144.95342725801962,144.95803438474277,144.9680242507245,144.96719168157594,144.9667625802273,144.96229519445652,144.96224533961347,144.95911816016283,144.95738250359312,144.97243830492508,144.96023905827192,144.96151358975985,144.97267324944883,144.97338626335969,144.97090512754946,144.97106863634434,144.97192733483007,144.96800192126963,144.96135266168625,144.96794349212385,144.97106967426805,144.9726904738642,144.9722726519847,144.97186299342198,144.97284822191173,144.9741255712408,144.9713012962928,144.97093032525657,144.97026802181446,144.97128718168483,144.970002281767,144.96930164317203,144.9690242022624,144.96873504016077,144.9686727236111,144.96839736007794,144.96770214537466,144.96830248372038,144.96780415838268,144.96738352989738,144.96665168266972,144.965582443831,144.96554618976265,144.96663010717896,144.96570181648684,144.9668995155727,144.96631621514925,144.9674685834403,144.9663646628278,144.96645933847927,144.9643638871223,144.96546528286152,144.9643264084841,144.9647515708548,144.963020448098,144.96398614233215,144.96009641017997,144.96025816014517,144.95965312776522,144.95933810898964,144.96075701875682,144.9604014852698,144.960047985896,144.96146041692978,144.96103700163818,144.96028210934693,144.9614105114917,144.96320879536245,144.96223748479332,144.96401604954465,144.9578825986701,144.96126658202394,144.9609454968655,144.961240049609,144.96038745128234,144.9561807421683,144.95506325236272,144.95519418764638,144.95606924108571,144.95698136409075,144.95651273561546,144.95677846750684,144.95829874000657,144.9588910635486,144.95515581469482,144.9547019972304,144.95447646152166,144.95398767873985,144.95203267710278,144.95907535115865,144.96233864480138,144.96346829171765,144.95632912990123,144.96290788697897,144.96047108406836,144.96627899373402,144.96406677587515,144.97208617369233,144.9713271143983,144.96646689470336,144.96051751381623,144.96798312015957,144.97079029463796],\"name\":\"\",\"opacity\":0.5,\"radius\":40,\"subplot\":\"mapbox\",\"z\":[0.0,39573.5186276,16389.2099678,16389.2099678,21433.0537357,46318.9282513,48320.4695801,28312.0753967,20219.5459825,114683.93094739999,52217.8144328,12843.769694,14477.5993291,18880.5489048,7048.65308545,11292.7685665,16406.3528704,22292.979636,22292.979636,47134.313238899995,20539.6982211,20539.6982211,20539.6982211,47134.313238899995,24704.2744582,38531.9192489,24704.2744582,0.0,103252.737866,103252.737866,0.0,12809.0284811,9658.81161959,38700.4178127,48359.22943229,38700.4178127,38700.4178127,66825.6290475,27021.9956094,49380.691414600005,16378.9103301,11247.0959066,27626.0062367,63799.7964044,118140.7238029,118140.7238029,54340.9273985,71766.9605111,38176.3531247,38176.3531247,24672.034274600002,14913.7937419,20824.527398,20824.527398,30379.0970102,38692.042918,69071.13992819999,47054.4208559,30936.3989011,30936.3989011,15822.3982057,15822.3982057,15822.3982057,15822.3982057,17290.9268625,9737.11961376,9737.11961376,84077.7913871,14157.5417131,11875.8516605,11048.7301348,14144.2992605,20824.527398,103252.737866,33551.610148499996,16389.2099678,23184.3086598,14083.3758072,24885.8745156,32662.1755661,27888.2975618,39803.6334381,59890.3837477,23184.3086598,23184.3086598,39573.5186276,16389.2099678,24885.8745156,24885.8745156,20219.5459825,20219.5459825,42179.8320745,42179.8320745,52217.8144328,27321.3690231,27321.3690231,14477.5993291,18880.5489048,7048.65308545,7048.65308545,7048.65308545,11292.7685665,25376.1443737,14083.3758072,25376.1443737,25376.1443737,56650.17053829999,47134.313238899995,47134.313238899995,38531.9192489,38531.9192489,13827.6447907,0.0,0.0,0.0,12809.0284811,25260.240468480002,19432.3129373,48359.22943229,38700.4178127,66825.6290475,36571.6629335,36571.6629335,27626.0062367,16378.9103301,11247.0959066,27626.0062367,11247.0959066,11247.0959066,71766.9605111,38176.3531247,71766.9605111,10472.3967823,45458.9088283,30545.1150864,30545.1150864,14913.7937419,14913.7937419,30379.0970102,38692.042918,17290.9268625,11455.4381634,32545.3575521,42282.47716586,69071.13992819999,11048.7301348,12232.87694415,12232.87694415,18517.8763056,32662.1755661,25147.5710439,59890.3837477,46318.9282513,66825.6290475,27626.0062367,28312.0753967,24885.8745156,63177.133170709996,63177.133170709996,39573.5186276,22292.979636,18517.8763056,11048.7301348,16389.2099678,21433.0537357,21433.0537357,46318.9282513,24885.8745156,28312.0753967,20219.5459825,62399.378057,42179.8320745,42179.8320745,62466.1165146,12843.769694,12843.769694,27321.3690231,12843.769694,12843.769694,14477.5993291,14477.5993291,7048.65308545,7048.65308545,11292.7685665,11292.7685665,11292.7685665,25376.1443737,14083.3758072,16406.3528704,16406.3528704,33551.610148499996,47134.313238899995,26594.6150178,24704.2744582,24704.2744582,13827.6447907,13827.6447907,0.0,103252.737866,12809.0284811,49380.691414600005,48359.22943229,66825.6290475,27021.9956094,27021.9956094,36571.6629335,16378.9103301,16378.9103301,16378.9103301,63799.7964044,54340.9273985,47790.2448787,33590.6073864,30936.3989011,12716.67821779,57964.1275842,24672.034274600002,39803.6334381,30545.1150864,14913.7937419,14913.7937419,20824.527398,59890.3837477,59890.3837477,30379.0970102,38692.042918,30936.3989011,25413.3038245,11455.4381634,28746.3650259,28746.3650259,9737.11961376,10065.9143204,14144.2992605,54340.9273985,58222.8407854,118140.7238029,16378.9103301,47134.313238899995,0.0,16389.2099678,61789.211951327,25376.1443737,25147.5710439,11048.7301348,60893.4827273],\"type\":\"densitymapbox\"}],                        {\"template\":{\"data\":{\"histogram2dcontour\":[{\"type\":\"histogram2dcontour\",\"colorbar\":{\"outlinewidth\":0,\"ticks\":\"\"},\"colorscale\":[[0.0,\"#0d0887\"],[0.1111111111111111,\"#46039f\"],[0.2222222222222222,\"#7201a8\"],[0.3333333333333333,\"#9c179e\"],[0.4444444444444444,\"#bd3786\"],[0.5555555555555556,\"#d8576b\"],[0.6666666666666666,\"#ed7953\"],[0.7777777777777778,\"#fb9f3a\"],[0.8888888888888888,\"#fdca26\"],[1.0,\"#f0f921\"]]}],\"choropleth\":[{\"type\":\"choropleth\",\"colorbar\":{\"outlinewidth\":0,\"ticks\":\"\"}}],\"histogram2d\":[{\"type\":\"histogram2d\",\"colorbar\":{\"outlinewidth\":0,\"ticks\":\"\"},\"colorscale\":[[0.0,\"#0d0887\"],[0.1111111111111111,\"#46039f\"],[0.2222222222222222,\"#7201a8\"],[0.3333333333333333,\"#9c179e\"],[0.4444444444444444,\"#bd3786\"],[0.5555555555555556,\"#d8576b\"],[0.6666666666666666,\"#ed7953\"],[0.7777777777777778,\"#fb9f3a\"],[0.8888888888888888,\"#fdca26\"],[1.0,\"#f0f921\"]]}],\"heatmap\":[{\"type\":\"heatmap\",\"colorbar\":{\"outlinewidth\":0,\"ticks\":\"\"},\"colorscale\":[[0.0,\"#0d0887\"],[0.1111111111111111,\"#46039f\"],[0.2222222222222222,\"#7201a8\"],[0.3333333333333333,\"#9c179e\"],[0.4444444444444444,\"#bd3786\"],[0.5555555555555556,\"#d8576b\"],[0.6666666666666666,\"#ed7953\"],[0.7777777777777778,\"#fb9f3a\"],[0.8888888888888888,\"#fdca26\"],[1.0,\"#f0f921\"]]}],\"heatmapgl\":[{\"type\":\"heatmapgl\",\"colorbar\":{\"outlinewidth\":0,\"ticks\":\"\"},\"colorscale\":[[0.0,\"#0d0887\"],[0.1111111111111111,\"#46039f\"],[0.2222222222222222,\"#7201a8\"],[0.3333333333333333,\"#9c179e\"],[0.4444444444444444,\"#bd3786\"],[0.5555555555555556,\"#d8576b\"],[0.6666666666666666,\"#ed7953\"],[0.7777777777777778,\"#fb9f3a\"],[0.8888888888888888,\"#fdca26\"],[1.0,\"#f0f921\"]]}],\"contourcarpet\":[{\"type\":\"contourcarpet\",\"colorbar\":{\"outlinewidth\":0,\"ticks\":\"\"}}],\"contour\":[{\"type\":\"contour\",\"colorbar\":{\"outlinewidth\":0,\"ticks\":\"\"},\"colorscale\":[[0.0,\"#0d0887\"],[0.1111111111111111,\"#46039f\"],[0.2222222222222222,\"#7201a8\"],[0.3333333333333333,\"#9c179e\"],[0.4444444444444444,\"#bd3786\"],[0.5555555555555556,\"#d8576b\"],[0.6666666666666666,\"#ed7953\"],[0.7777777777777778,\"#fb9f3a\"],[0.8888888888888888,\"#fdca26\"],[1.0,\"#f0f921\"]]}],\"surface\":[{\"type\":\"surface\",\"colorbar\":{\"outlinewidth\":0,\"ticks\":\"\"},\"colorscale\":[[0.0,\"#0d0887\"],[0.1111111111111111,\"#46039f\"],[0.2222222222222222,\"#7201a8\"],[0.3333333333333333,\"#9c179e\"],[0.4444444444444444,\"#bd3786\"],[0.5555555555555556,\"#d8576b\"],[0.6666666666666666,\"#ed7953\"],[0.7777777777777778,\"#fb9f3a\"],[0.8888888888888888,\"#fdca26\"],[1.0,\"#f0f921\"]]}],\"mesh3d\":[{\"type\":\"mesh3d\",\"colorbar\":{\"outlinewidth\":0,\"ticks\":\"\"}}],\"scatter\":[{\"fillpattern\":{\"fillmode\":\"overlay\",\"size\":10,\"solidity\":0.2},\"type\":\"scatter\"}],\"parcoords\":[{\"type\":\"parcoords\",\"line\":{\"colorbar\":{\"outlinewidth\":0,\"ticks\":\"\"}}}],\"scatterpolargl\":[{\"type\":\"scatterpolargl\",\"marker\":{\"colorbar\":{\"outlinewidth\":0,\"ticks\":\"\"}}}],\"bar\":[{\"error_x\":{\"color\":\"#2a3f5f\"},\"error_y\":{\"color\":\"#2a3f5f\"},\"marker\":{\"line\":{\"color\":\"#E5ECF6\",\"width\":0.5},\"pattern\":{\"fillmode\":\"overlay\",\"size\":10,\"solidity\":0.2}},\"type\":\"bar\"}],\"scattergeo\":[{\"type\":\"scattergeo\",\"marker\":{\"colorbar\":{\"outlinewidth\":0,\"ticks\":\"\"}}}],\"scatterpolar\":[{\"type\":\"scatterpolar\",\"marker\":{\"colorbar\":{\"outlinewidth\":0,\"ticks\":\"\"}}}],\"histogram\":[{\"marker\":{\"pattern\":{\"fillmode\":\"overlay\",\"size\":10,\"solidity\":0.2}},\"type\":\"histogram\"}],\"scattergl\":[{\"type\":\"scattergl\",\"marker\":{\"colorbar\":{\"outlinewidth\":0,\"ticks\":\"\"}}}],\"scatter3d\":[{\"type\":\"scatter3d\",\"line\":{\"colorbar\":{\"outlinewidth\":0,\"ticks\":\"\"}},\"marker\":{\"colorbar\":{\"outlinewidth\":0,\"ticks\":\"\"}}}],\"scattermapbox\":[{\"type\":\"scattermapbox\",\"marker\":{\"colorbar\":{\"outlinewidth\":0,\"ticks\":\"\"}}}],\"scatterternary\":[{\"type\":\"scatterternary\",\"marker\":{\"colorbar\":{\"outlinewidth\":0,\"ticks\":\"\"}}}],\"scattercarpet\":[{\"type\":\"scattercarpet\",\"marker\":{\"colorbar\":{\"outlinewidth\":0,\"ticks\":\"\"}}}],\"carpet\":[{\"aaxis\":{\"endlinecolor\":\"#2a3f5f\",\"gridcolor\":\"white\",\"linecolor\":\"white\",\"minorgridcolor\":\"white\",\"startlinecolor\":\"#2a3f5f\"},\"baxis\":{\"endlinecolor\":\"#2a3f5f\",\"gridcolor\":\"white\",\"linecolor\":\"white\",\"minorgridcolor\":\"white\",\"startlinecolor\":\"#2a3f5f\"},\"type\":\"carpet\"}],\"table\":[{\"cells\":{\"fill\":{\"color\":\"#EBF0F8\"},\"line\":{\"color\":\"white\"}},\"header\":{\"fill\":{\"color\":\"#C8D4E3\"},\"line\":{\"color\":\"white\"}},\"type\":\"table\"}],\"barpolar\":[{\"marker\":{\"line\":{\"color\":\"#E5ECF6\",\"width\":0.5},\"pattern\":{\"fillmode\":\"overlay\",\"size\":10,\"solidity\":0.2}},\"type\":\"barpolar\"}],\"pie\":[{\"automargin\":true,\"type\":\"pie\"}]},\"layout\":{\"autotypenumbers\":\"strict\",\"colorway\":[\"#636efa\",\"#EF553B\",\"#00cc96\",\"#ab63fa\",\"#FFA15A\",\"#19d3f3\",\"#FF6692\",\"#B6E880\",\"#FF97FF\",\"#FECB52\"],\"font\":{\"color\":\"#2a3f5f\"},\"hovermode\":\"closest\",\"hoverlabel\":{\"align\":\"left\"},\"paper_bgcolor\":\"white\",\"plot_bgcolor\":\"#E5ECF6\",\"polar\":{\"bgcolor\":\"#E5ECF6\",\"angularaxis\":{\"gridcolor\":\"white\",\"linecolor\":\"white\",\"ticks\":\"\"},\"radialaxis\":{\"gridcolor\":\"white\",\"linecolor\":\"white\",\"ticks\":\"\"}},\"ternary\":{\"bgcolor\":\"#E5ECF6\",\"aaxis\":{\"gridcolor\":\"white\",\"linecolor\":\"white\",\"ticks\":\"\"},\"baxis\":{\"gridcolor\":\"white\",\"linecolor\":\"white\",\"ticks\":\"\"},\"caxis\":{\"gridcolor\":\"white\",\"linecolor\":\"white\",\"ticks\":\"\"}},\"coloraxis\":{\"colorbar\":{\"outlinewidth\":0,\"ticks\":\"\"}},\"colorscale\":{\"sequential\":[[0.0,\"#0d0887\"],[0.1111111111111111,\"#46039f\"],[0.2222222222222222,\"#7201a8\"],[0.3333333333333333,\"#9c179e\"],[0.4444444444444444,\"#bd3786\"],[0.5555555555555556,\"#d8576b\"],[0.6666666666666666,\"#ed7953\"],[0.7777777777777778,\"#fb9f3a\"],[0.8888888888888888,\"#fdca26\"],[1.0,\"#f0f921\"]],\"sequentialminus\":[[0.0,\"#0d0887\"],[0.1111111111111111,\"#46039f\"],[0.2222222222222222,\"#7201a8\"],[0.3333333333333333,\"#9c179e\"],[0.4444444444444444,\"#bd3786\"],[0.5555555555555556,\"#d8576b\"],[0.6666666666666666,\"#ed7953\"],[0.7777777777777778,\"#fb9f3a\"],[0.8888888888888888,\"#fdca26\"],[1.0,\"#f0f921\"]],\"diverging\":[[0,\"#8e0152\"],[0.1,\"#c51b7d\"],[0.2,\"#de77ae\"],[0.3,\"#f1b6da\"],[0.4,\"#fde0ef\"],[0.5,\"#f7f7f7\"],[0.6,\"#e6f5d0\"],[0.7,\"#b8e186\"],[0.8,\"#7fbc41\"],[0.9,\"#4d9221\"],[1,\"#276419\"]]},\"xaxis\":{\"gridcolor\":\"white\",\"linecolor\":\"white\",\"ticks\":\"\",\"title\":{\"standoff\":15},\"zerolinecolor\":\"white\",\"automargin\":true,\"zerolinewidth\":2},\"yaxis\":{\"gridcolor\":\"white\",\"linecolor\":\"white\",\"ticks\":\"\",\"title\":{\"standoff\":15},\"zerolinecolor\":\"white\",\"automargin\":true,\"zerolinewidth\":2},\"scene\":{\"xaxis\":{\"backgroundcolor\":\"#E5ECF6\",\"gridcolor\":\"white\",\"linecolor\":\"white\",\"showbackground\":true,\"ticks\":\"\",\"zerolinecolor\":\"white\",\"gridwidth\":2},\"yaxis\":{\"backgroundcolor\":\"#E5ECF6\",\"gridcolor\":\"white\",\"linecolor\":\"white\",\"showbackground\":true,\"ticks\":\"\",\"zerolinecolor\":\"white\",\"gridwidth\":2},\"zaxis\":{\"backgroundcolor\":\"#E5ECF6\",\"gridcolor\":\"white\",\"linecolor\":\"white\",\"showbackground\":true,\"ticks\":\"\",\"zerolinecolor\":\"white\",\"gridwidth\":2}},\"shapedefaults\":{\"line\":{\"color\":\"#2a3f5f\"}},\"annotationdefaults\":{\"arrowcolor\":\"#2a3f5f\",\"arrowhead\":0,\"arrowwidth\":1},\"geo\":{\"bgcolor\":\"white\",\"landcolor\":\"#E5ECF6\",\"subunitcolor\":\"white\",\"showland\":true,\"showlakes\":true,\"lakecolor\":\"white\"},\"title\":{\"x\":0.05},\"mapbox\":{\"style\":\"light\"}}},\"mapbox\":{\"domain\":{\"x\":[0.0,1.0],\"y\":[0.0,1.0]},\"center\":{\"lat\":-37.81373720225536,\"lon\":144.96378739120695},\"zoom\":14,\"style\":\"stamen-terrain\"},\"coloraxis\":{\"colorbar\":{\"title\":{\"text\":\"total_energy\"}},\"colorscale\":[[0.0,\"green\"],[0.5,\"green\"],[0.51,\"yellow\"],[0.71,\"yellow\"],[0.72,\"red\"],[1,\"red\"]]},\"legend\":{\"tracegroupgap\":0},\"title\":{\"text\":\"Heatmap showing projected energy consumption with number of trees (on hover) across City of Melbourne\"},\"height\":800,\"width\":1000},                        {\"responsive\": true}                    ).then(function(){\n",
       "                            \n",
       "var gd = document.getElementById('b0abedcb-154d-41cf-90e4-9250354f0957');\n",
       "var x = new MutationObserver(function (mutations, observer) {{\n",
       "        var display = window.getComputedStyle(gd).display;\n",
       "        if (!display || display === 'none') {{\n",
       "            console.log([gd, 'removed!']);\n",
       "            Plotly.purge(gd);\n",
       "            observer.disconnect();\n",
       "        }}\n",
       "}});\n",
       "\n",
       "// Listen for the removal of the full notebook cells\n",
       "var notebookContainer = gd.closest('#notebook-container');\n",
       "if (notebookContainer) {{\n",
       "    x.observe(notebookContainer, {childList: true});\n",
       "}}\n",
       "\n",
       "// Listen for the clearing of the current output cell\n",
       "var outputEl = gd.closest('.output');\n",
       "if (outputEl) {{\n",
       "    x.observe(outputEl, {childList: true});\n",
       "}}\n",
       "\n",
       "                        })                };                });            </script>        </div>"
      ]
     },
     "metadata": {},
     "output_type": "display_data"
    }
   ],
   "source": [
    "# Visualisation 1: Heatmap to show projected energy consumption with number of trees \n",
    "fig = px.density_mapbox(laneways, lat = 'lat', lon = 'lon', z = 'total_energy',mapbox_style=\"stamen-terrain\", radius= 40, opacity = 0.5, \n",
    "        title = 'Heatmap showing projected energy consumption with number of trees (on hover) across City of Melbourne', \n",
    "        width = 1000, height = 800, zoom = 14, hover_data= ['total_energy', 'tree_count'],\n",
    "        color_continuous_scale= [\n",
    "                [0.0, \"green\"],\n",
    "                [0.5, \"green\"],\n",
    "                [0.51, \"yellow\"],\n",
    "                [0.71, \"yellow\"],\n",
    "                [0.72, \"red\"],\n",
    "                [1, \"red\"]])\n",
    "fig"
   ]
  },
  {
   "cell_type": "markdown",
   "metadata": {},
   "source": [
    "<div class=\"usecase-section-header\">Greening Priority Score</div>"
   ]
  },
  {
   "cell_type": "code",
   "execution_count": 33,
   "metadata": {},
   "outputs": [],
   "source": [
    "# Divide total_energy by trees_within_radius to get energy per tree\n",
    "laneways['energy_per_tree'] = laneways['total_energy'] / laneways['tree_count']"
   ]
  },
  {
   "cell_type": "code",
   "execution_count": 34,
   "metadata": {},
   "outputs": [],
   "source": [
    "#Convert potential rank into actual number\n",
    "laneways['farm_rank'] = laneways['farm_rank'].str.lower()\n",
    "laneways['farm_rank'] = laneways['farm_rank'].replace({'lowest potential': 0, \n",
    "                                                       'some potential': 1, \n",
    "                                                       'good potential': 2, \n",
    "                                                       'highest potential': 3})\n",
    "\n",
    "laneways['vert_rank'] = laneways['vert_rank'].str.lower()\n",
    "laneways['vert_rank'] = laneways['vert_rank'].replace({'lowest potential': 0, \n",
    "                                                       'some potential': 1, \n",
    "                                                       'good potential': 2, \n",
    "                                                       'highest potential': 3})\n",
    "\n",
    "\n",
    "laneways['fores_rank'] = laneways['fores_rank'].str.lower()\n",
    "laneways['fores_rank'] = laneways['fores_rank'].replace({'Lowest potential': 0, \n",
    "                                                         'some potential': 1, \n",
    "                                                         'good potential': 2, \n",
    "                                                         'highest potential': 3})\n",
    "\n",
    "laneways['park_rank'] = laneways['park_rank'].str.lower()\n",
    "laneways['park_rank'] = laneways['park_rank'].replace({'lowest potential': 0, \n",
    "                                                       'some potential': 1, \n",
    "                                                       'good potential': 2, \n",
    "                                                       'highest potential': 3})\n",
    "\n",
    "laneways['total_rank'] = laneways[['farm_rank', 'vert_rank', 'fores_rank', 'park_rank']].sum(axis=1)"
   ]
  },
  {
   "cell_type": "code",
   "execution_count": 37,
   "metadata": {},
   "outputs": [],
   "source": [
    "#Compute greening priority and put on 0-100 scale\n",
    "laneways['greening_priority'] = laneways['energy_per_tree']*laneways['total_rank']\n",
    "\n",
    "from sklearn.preprocessing import MinMaxScaler\n",
    "scaler = MinMaxScaler()\n",
    "laneways['greening_priority'] = scaler.fit_transform(laneways['greening_priority'].values.reshape(-1, 1))\n",
    "laneways['greening_priority'] = round(laneways['greening_priority'] * 100,1)"
   ]
  },
  {
   "cell_type": "code",
   "execution_count": 38,
   "metadata": {},
   "outputs": [
    {
     "data": {
      "application/vnd.plotly.v1+json": {
       "config": {
        "plotlyServerURL": "https://plot.ly"
       },
       "data": [
        {
         "coloraxis": "coloraxis",
         "customdata": [
          [
           0,
           29
          ],
          [
           39573.5186276,
           41
          ],
          [
           16389.2099678,
           35
          ],
          [
           16389.2099678,
           54
          ],
          [
           21433.0537357,
           86
          ],
          [
           46318.9282513,
           69
          ],
          [
           48320.4695801,
           47
          ],
          [
           28312.0753967,
           37
          ],
          [
           20219.5459825,
           61
          ],
          [
           114683.93094739999,
           57
          ],
          [
           52217.8144328,
           24
          ],
          [
           12843.769694,
           36
          ],
          [
           14477.5993291,
           34
          ],
          [
           18880.5489048,
           29
          ],
          [
           7048.65308545,
           39
          ],
          [
           11292.7685665,
           41
          ],
          [
           16406.3528704,
           40
          ],
          [
           22292.979636,
           28
          ],
          [
           22292.979636,
           26
          ],
          [
           47134.313238899995,
           29
          ],
          [
           20539.6982211,
           3
          ],
          [
           20539.6982211,
           7
          ],
          [
           20539.6982211,
           11
          ],
          [
           47134.313238899995,
           39
          ],
          [
           24704.2744582,
           11
          ],
          [
           38531.9192489,
           11
          ],
          [
           24704.2744582,
           31
          ],
          [
           0,
           30
          ],
          [
           103252.737866,
           32
          ],
          [
           103252.737866,
           39
          ],
          [
           0,
           36
          ],
          [
           12809.0284811,
           22
          ],
          [
           9658.81161959,
           48
          ],
          [
           38700.4178127,
           36
          ],
          [
           48359.22943229,
           33
          ],
          [
           38700.4178127,
           50
          ],
          [
           38700.4178127,
           53
          ],
          [
           66825.6290475,
           46
          ],
          [
           27021.9956094,
           44
          ],
          [
           49380.691414600005,
           26
          ],
          [
           16378.9103301,
           34
          ],
          [
           11247.0959066,
           27
          ],
          [
           27626.0062367,
           16
          ],
          [
           63799.7964044,
           36
          ],
          [
           118140.7238029,
           20
          ],
          [
           118140.7238029,
           31
          ],
          [
           54340.9273985,
           45
          ],
          [
           71766.9605111,
           18
          ],
          [
           38176.3531247,
           11
          ],
          [
           38176.3531247,
           31
          ],
          [
           24672.034274600002,
           54
          ],
          [
           14913.7937419,
           22
          ],
          [
           20824.527398,
           39
          ],
          [
           20824.527398,
           32
          ],
          [
           30379.0970102,
           43
          ],
          [
           38692.042918,
           52
          ],
          [
           69071.13992819999,
           44
          ],
          [
           47054.4208559,
           41
          ],
          [
           30936.3989011,
           38
          ],
          [
           30936.3989011,
           40
          ],
          [
           15822.3982057,
           40
          ],
          [
           15822.3982057,
           39
          ],
          [
           15822.3982057,
           35
          ],
          [
           15822.3982057,
           41
          ],
          [
           17290.9268625,
           24
          ],
          [
           9737.11961376,
           31
          ],
          [
           9737.11961376,
           32
          ],
          [
           84077.7913871,
           56
          ],
          [
           14157.5417131,
           49
          ],
          [
           11875.8516605,
           54
          ],
          [
           11048.7301348,
           28
          ],
          [
           14144.2992605,
           20
          ],
          [
           20824.527398,
           32
          ],
          [
           103252.737866,
           25
          ],
          [
           33551.610148499996,
           35
          ],
          [
           16389.2099678,
           47
          ],
          [
           23184.3086598,
           57
          ],
          [
           14083.3758072,
           30
          ],
          [
           24885.8745156,
           62
          ],
          [
           32662.1755661,
           30
          ],
          [
           27888.2975618,
           34
          ],
          [
           39803.6334381,
           36
          ],
          [
           59890.3837477,
           39
          ],
          [
           23184.3086598,
           59
          ],
          [
           23184.3086598,
           53
          ],
          [
           39573.5186276,
           41
          ],
          [
           16389.2099678,
           47
          ],
          [
           24885.8745156,
           73
          ],
          [
           24885.8745156,
           51
          ],
          [
           20219.5459825,
           45
          ],
          [
           20219.5459825,
           39
          ],
          [
           42179.8320745,
           46
          ],
          [
           42179.8320745,
           50
          ],
          [
           52217.8144328,
           30
          ],
          [
           27321.3690231,
           9
          ],
          [
           27321.3690231,
           22
          ],
          [
           14477.5993291,
           46
          ],
          [
           18880.5489048,
           41
          ],
          [
           7048.65308545,
           41
          ],
          [
           7048.65308545,
           36
          ],
          [
           7048.65308545,
           30
          ],
          [
           11292.7685665,
           36
          ],
          [
           25376.1443737,
           24
          ],
          [
           14083.3758072,
           29
          ],
          [
           25376.1443737,
           27
          ],
          [
           25376.1443737,
           18
          ],
          [
           56650.17053829999,
           18
          ],
          [
           47134.313238899995,
           11
          ],
          [
           47134.313238899995,
           22
          ],
          [
           38531.9192489,
           20
          ],
          [
           38531.9192489,
           25
          ],
          [
           13827.6447907,
           34
          ],
          [
           0,
           27
          ],
          [
           0,
           44
          ],
          [
           0,
           38
          ],
          [
           12809.0284811,
           30
          ],
          [
           25260.240468480002,
           37
          ],
          [
           19432.3129373,
           41
          ],
          [
           48359.22943229,
           37
          ],
          [
           38700.4178127,
           42
          ],
          [
           66825.6290475,
           33
          ],
          [
           36571.6629335,
           30
          ],
          [
           36571.6629335,
           41
          ],
          [
           27626.0062367,
           28
          ],
          [
           16378.9103301,
           45
          ],
          [
           11247.0959066,
           24
          ],
          [
           27626.0062367,
           23
          ],
          [
           11247.0959066,
           25
          ],
          [
           11247.0959066,
           34
          ],
          [
           71766.9605111,
           32
          ],
          [
           38176.3531247,
           11
          ],
          [
           71766.9605111,
           9
          ],
          [
           10472.3967823,
           40
          ],
          [
           45458.9088283,
           23
          ],
          [
           30545.1150864,
           32
          ],
          [
           30545.1150864,
           38
          ],
          [
           14913.7937419,
           18
          ],
          [
           14913.7937419,
           24
          ],
          [
           30379.0970102,
           49
          ],
          [
           38692.042918,
           44
          ],
          [
           17290.9268625,
           28
          ],
          [
           11455.4381634,
           12
          ],
          [
           32545.3575521,
           28
          ],
          [
           42282.47716586,
           24
          ],
          [
           69071.13992819999,
           53
          ],
          [
           11048.7301348,
           34
          ],
          [
           12232.87694415,
           22
          ],
          [
           12232.87694415,
           39
          ],
          [
           18517.8763056,
           29
          ],
          [
           32662.1755661,
           25
          ],
          [
           25147.5710439,
           40
          ],
          [
           59890.3837477,
           46
          ],
          [
           46318.9282513,
           61
          ],
          [
           66825.6290475,
           48
          ],
          [
           27626.0062367,
           14
          ],
          [
           28312.0753967,
           60
          ],
          [
           24885.8745156,
           44
          ],
          [
           63177.133170709996,
           28
          ],
          [
           63177.133170709996,
           44
          ],
          [
           39573.5186276,
           45
          ],
          [
           22292.979636,
           29
          ],
          [
           18517.8763056,
           32
          ],
          [
           11048.7301348,
           29
          ],
          [
           16389.2099678,
           58
          ],
          [
           21433.0537357,
           55
          ],
          [
           21433.0537357,
           69
          ],
          [
           46318.9282513,
           79
          ],
          [
           24885.8745156,
           64
          ],
          [
           28312.0753967,
           39
          ],
          [
           20219.5459825,
           60
          ],
          [
           62399.378057,
           39
          ],
          [
           42179.8320745,
           49
          ],
          [
           42179.8320745,
           55
          ],
          [
           62466.1165146,
           36
          ],
          [
           12843.769694,
           22
          ],
          [
           12843.769694,
           16
          ],
          [
           27321.3690231,
           10
          ],
          [
           12843.769694,
           23
          ],
          [
           12843.769694,
           24
          ],
          [
           14477.5993291,
           37
          ],
          [
           14477.5993291,
           32
          ],
          [
           7048.65308545,
           22
          ],
          [
           7048.65308545,
           32
          ],
          [
           11292.7685665,
           34
          ],
          [
           11292.7685665,
           39
          ],
          [
           11292.7685665,
           33
          ],
          [
           25376.1443737,
           19
          ],
          [
           14083.3758072,
           36
          ],
          [
           16406.3528704,
           46
          ],
          [
           16406.3528704,
           48
          ],
          [
           33551.610148499996,
           26
          ],
          [
           47134.313238899995,
           25
          ],
          [
           26594.6150178,
           41
          ],
          [
           24704.2744582,
           17
          ],
          [
           24704.2744582,
           29
          ],
          [
           13827.6447907,
           9
          ],
          [
           13827.6447907,
           16
          ],
          [
           0,
           17
          ],
          [
           103252.737866,
           44
          ],
          [
           12809.0284811,
           24
          ],
          [
           49380.691414600005,
           21
          ],
          [
           48359.22943229,
           35
          ],
          [
           66825.6290475,
           33
          ],
          [
           27021.9956094,
           50
          ],
          [
           27021.9956094,
           48
          ],
          [
           36571.6629335,
           52
          ],
          [
           16378.9103301,
           39
          ],
          [
           16378.9103301,
           47
          ],
          [
           16378.9103301,
           55
          ],
          [
           63799.7964044,
           45
          ],
          [
           54340.9273985,
           27
          ],
          [
           47790.2448787,
           41
          ],
          [
           33590.6073864,
           22
          ],
          [
           30936.3989011,
           38
          ],
          [
           12716.67821779,
           31
          ],
          [
           57964.1275842,
           54
          ],
          [
           24672.034274600002,
           62
          ],
          [
           39803.6334381,
           43
          ],
          [
           30545.1150864,
           20
          ],
          [
           14913.7937419,
           33
          ],
          [
           14913.7937419,
           32
          ],
          [
           20824.527398,
           27
          ],
          [
           59890.3837477,
           44
          ],
          [
           59890.3837477,
           34
          ],
          [
           30379.0970102,
           47
          ],
          [
           38692.042918,
           49
          ],
          [
           30936.3989011,
           47
          ],
          [
           25413.3038245,
           43
          ],
          [
           11455.4381634,
           24
          ],
          [
           28746.3650259,
           21
          ],
          [
           28746.3650259,
           4
          ],
          [
           9737.11961376,
           24
          ],
          [
           10065.9143204,
           62
          ],
          [
           14144.2992605,
           21
          ],
          [
           54340.9273985,
           32
          ],
          [
           58222.8407854,
           45
          ],
          [
           118140.7238029,
           27
          ],
          [
           16378.9103301,
           55
          ],
          [
           47134.313238899995,
           20
          ],
          [
           0,
           8
          ],
          [
           16389.2099678,
           45
          ],
          [
           61789.211951327,
           58
          ],
          [
           25376.1443737,
           19
          ],
          [
           25147.5710439,
           41
          ],
          [
           11048.7301348,
           31
          ],
          [
           60893.4827273,
           29
          ]
         ],
         "hovertemplate": "<b>%{hovertext}</b><br><br>greening_priority=%{z}<br>lat=%{lat}<br>lon=%{lon}<br>total_energy=%{customdata[0]}<br>tree_count=%{customdata[1]}<extra></extra>",
         "hovertext": [
          0,
          0,
          5.7,
          0,
          2,
          0,
          8.3,
          6.2,
          5.4,
          24.4,
          35.1,
          0,
          5.2,
          15.8,
          1.5,
          0,
          9.9,
          9.6,
          6.9,
          0,
          55.3,
          71,
          22.6,
          24.4,
          27.2,
          42.4,
          9.6,
          0,
          65.1,
          0,
          0,
          14.1,
          4.1,
          0,
          11.8,
          18.7,
          17.7,
          17.6,
          5,
          15.3,
          3.9,
          5,
          20.9,
          21.5,
          71.5,
          0,
          0,
          32.2,
          84,
          14.9,
          0,
          5.5,
          0,
          0,
          11.4,
          15,
          12.7,
          13.9,
          6.6,
          9.4,
          9.6,
          4.9,
          0,
          9.3,
          17.4,
          7.6,
          2.5,
          30.3,
          2.3,
          2.7,
          4.8,
          11.4,
          15.8,
          100,
          0,
          4.2,
          3.3,
          5.7,
          0,
          8.8,
          9.9,
          13.4,
          37.2,
          3.2,
          8.8,
          11.7,
          8.4,
          2.8,
          9.8,
          5.4,
          4.2,
          11.1,
          13.6,
          42.1,
          24.5,
          10,
          3.8,
          9.3,
          2.8,
          1.6,
          1.9,
          7.6,
          12.8,
          5.9,
          22.8,
          34.1,
          76.2,
          51.9,
          43.2,
          15.5,
          18.7,
          9.8,
          0,
          0,
          0,
          3.4,
          0,
          5.7,
          10.5,
          22.3,
          16.3,
          19.7,
          10.8,
          11.9,
          8.8,
          5.7,
          29.1,
          5.4,
          2.7,
          54.3,
          56,
          96.5,
          2.1,
          47.9,
          19.3,
          6.5,
          0,
          7.5,
          7.5,
          14.2,
          5,
          34.7,
          14.1,
          14.2,
          0,
          7.9,
          0,
          0,
          15.5,
          10.5,
          5.1,
          0,
          6.1,
          0,
          15.9,
          3.8,
          6.8,
          0,
          0,
          0,
          0,
          2.3,
          7.7,
          3.4,
          4.7,
          5,
          4.7,
          0,
          8.8,
          8.2,
          19.4,
          10.4,
          18.6,
          21,
          14.1,
          9.7,
          33.1,
          13.5,
          6.5,
          3.2,
          11,
          0,
          0,
          8,
          2.3,
          8.3,
          32.3,
          3.2,
          4.3,
          2.8,
          10.4,
          15.2,
          0,
          11.7,
          10.3,
          12.4,
          7,
          0,
          28.4,
          4.3,
          19,
          0,
          49,
          4.4,
          6.8,
          0,
          10.2,
          0,
          3.6,
          17.2,
          48.7,
          0,
          12.3,
          6.6,
          6.6,
          8.7,
          4.8,
          0,
          37,
          3.6,
          3.8,
          12.4,
          16.5,
          35.5,
          0,
          0,
          5.3,
          0,
          3.9,
          0,
          87,
          0,
          0,
          5.4,
          41.1,
          0,
          35.3,
          3.6,
          0,
          0,
          1.5,
          25.8,
          32.3,
          0,
          8.6,
          0
         ],
         "lat": [
          -37.81980050254932,
          -37.81097635318543,
          -37.81111151578862,
          -37.81161232134716,
          -37.8124734926234,
          -37.81304184241003,
          -37.81410455066066,
          -37.81521836330808,
          -37.81560584167807,
          -37.81363663807256,
          -37.81318089121382,
          -37.811631479265266,
          -37.81096554046618,
          -37.81018788400599,
          -37.808928701105636,
          -37.811819833149336,
          -37.81363559321624,
          -37.81638689912868,
          -37.816437955439866,
          -37.816833769769204,
          -37.817277292447365,
          -37.817339881748865,
          -37.8172843757446,
          -37.816440023811005,
          -37.81531786344816,
          -37.81524339834998,
          -37.81496076902029,
          -37.81283231518697,
          -37.8122331277934,
          -37.81120874607432,
          -37.810511430101,
          -37.811082793916796,
          -37.81364143485823,
          -37.81479726899315,
          -37.814683887787545,
          -37.81497705914173,
          -37.81505553768235,
          -37.81637435216704,
          -37.81697722216005,
          -37.81194262812994,
          -37.81310137820415,
          -37.813735162366505,
          -37.8137809735933,
          -37.81528156146977,
          -37.81522401449075,
          -37.81593175883032,
          -37.81602777672109,
          -37.817199920431165,
          -37.81776601260828,
          -37.81820807553832,
          -37.817688637627505,
          -37.813316564957894,
          -37.81445067539735,
          -37.81488075904122,
          -37.81676041377433,
          -37.81734946853748,
          -37.81739031205376,
          -37.818984126275495,
          -37.81963370613525,
          -37.81954117327879,
          -37.8200790748199,
          -37.82011600297684,
          -37.82027880943805,
          -37.819764909598696,
          -37.81604819466985,
          -37.81336268612127,
          -37.813098677911036,
          -37.810100678849565,
          -37.81109181824087,
          -37.810461362738046,
          -37.80804153774292,
          -37.809574187684454,
          -37.81477253709165,
          -37.81124523135607,
          -37.81452312073989,
          -37.81119641212291,
          -37.80981203103341,
          -37.81261588548371,
          -37.81332555540913,
          -37.808798598420246,
          -37.807613165711366,
          -37.815810557823596,
          -37.81535672343349,
          -37.81037958674067,
          -37.810217121848865,
          -37.81077581774339,
          -37.811226042417026,
          -37.8131805651399,
          -37.812714034948,
          -37.815866684899426,
          -37.816070884780686,
          -37.815043593615314,
          -37.814860662335775,
          -37.81325469434872,
          -37.8113357078086,
          -37.81112570199548,
          -37.81047263684767,
          -37.809814704774496,
          -37.808962433086066,
          -37.80891911143074,
          -37.80927255305554,
          -37.811503452175096,
          -37.81181924077914,
          -37.81236603080382,
          -37.81227101185166,
          -37.8122351726817,
          -37.815770514528744,
          -37.81721251515046,
          -37.816552460452876,
          -37.81515149775422,
          -37.814459961312124,
          -37.81425396234533,
          -37.81311665324148,
          -37.81113906039378,
          -37.81100772543578,
          -37.811294962572816,
          -37.81195697118721,
          -37.81288655222083,
          -37.81434588510203,
          -37.814713446937354,
          -37.81668311746074,
          -37.81179252091795,
          -37.8121714527127,
          -37.81327834872983,
          -37.813481152611836,
          -37.81382053335725,
          -37.81386196353888,
          -37.814139526354815,
          -37.81417691097461,
          -37.817244932826426,
          -37.81774881340534,
          -37.817647102746875,
          -37.81848742506025,
          -37.81274968140071,
          -37.81272540384329,
          -37.81283327377191,
          -37.8135247555415,
          -37.813157519841646,
          -37.81654155142347,
          -37.817468209169334,
          -37.81597970168963,
          -37.81523292318083,
          -37.81375860365229,
          -37.81345477331178,
          -37.81713959638289,
          -37.80766995107844,
          -37.807874533479186,
          -37.807868542290684,
          -37.80825704076604,
          -37.8092052807982,
          -37.81059550083191,
          -37.81532410339944,
          -37.812892966824165,
          -37.81593137617615,
          -37.813761236886755,
          -37.815212125832595,
          -37.81289266958999,
          -37.80875417866908,
          -37.80880126515651,
          -37.81034170711123,
          -37.81674801251833,
          -37.808893073302414,
          -37.80743440633362,
          -37.811312355458725,
          -37.812062778388146,
          -37.812200122969514,
          -37.81299489178982,
          -37.81291772360056,
          -37.81486555746091,
          -37.81556813104544,
          -37.81565225265017,
          -37.815010365366625,
          -37.81450170729136,
          -37.81388085097895,
          -37.811846184146255,
          -37.81186744205427,
          -37.81164146216171,
          -37.81203165865674,
          -37.81199395451558,
          -37.81111808221134,
          -37.81121896258666,
          -37.809070759197056,
          -37.8092614609602,
          -37.811622558943256,
          -37.8119212879997,
          -37.812182004124956,
          -37.81255972303171,
          -37.81265308586931,
          -37.81375221918104,
          -37.813998405447016,
          -37.814540467211934,
          -37.81684310938986,
          -37.81625729975984,
          -37.815466618658434,
          -37.815136745569795,
          -37.81453505593018,
          -37.814399761923944,
          -37.81295591658134,
          -37.81140603994133,
          -37.81107211875846,
          -37.81143661165109,
          -37.81445017766827,
          -37.81611345293064,
          -37.81634100783601,
          -37.81662436680107,
          -37.81232803829519,
          -37.8131179768624,
          -37.81322013799656,
          -37.81316822185592,
          -37.815582438708404,
          -37.81587907634075,
          -37.81748103944648,
          -37.81705022724468,
          -37.81984867154892,
          -37.818834732192755,
          -37.81801103424856,
          -37.81788034313359,
          -37.81535295029374,
          -37.81265852382229,
          -37.81400371191351,
          -37.81368407590331,
          -37.814672188989995,
          -37.815444976696476,
          -37.81556411206914,
          -37.81675781807964,
          -37.81705815427994,
          -37.81939019475833,
          -37.81820110978195,
          -37.815131053785386,
          -37.81535738669452,
          -37.81558625091741,
          -37.813298814806174,
          -37.80919327198343,
          -37.80940546461835,
          -37.81602860198378,
          -37.819253504282024,
          -37.815770743514925,
          -37.81309137074721,
          -37.81696435459669,
          -37.813170613431005,
          -37.81132913888725,
          -37.808732016172115,
          -37.811891568883624,
          -37.80980844948987,
          -37.807528190248966,
          -37.8091174792242
         ],
         "lon": [
          144.9623447558369,
          144.97170834375964,
          144.97244046374837,
          144.97077449834737,
          144.9713761243581,
          144.97240833983707,
          144.9736711005169,
          144.97342323779137,
          144.9716292036106,
          144.97030218968666,
          144.96918657126457,
          144.96996732732396,
          144.9691457959443,
          144.9673441983146,
          144.96845133042902,
          144.9653517247358,
          144.9673143038117,
          144.9690855012813,
          144.968922695136,
          144.96650432144628,
          144.9660029303524,
          144.96578935360571,
          144.96517912329656,
          144.9660849351429,
          144.96412508085777,
          144.96455112659987,
          144.9655933228601,
          144.96485753421675,
          144.96450529272983,
          144.96385829677484,
          144.96354768190554,
          144.96080159509805,
          144.95967769583882,
          144.96010852358677,
          144.9588906580676,
          144.95845989409705,
          144.9582828280556,
          144.96046496953696,
          144.959485810845,
          144.9609229814977,
          144.96198155668426,
          144.9624979570203,
          144.96166455721152,
          144.96173953568237,
          144.96270583856173,
          144.9624004738762,
          144.961858207876,
          144.96372396866002,
          144.9644701544366,
          144.96278099354788,
          144.96142118297337,
          144.95622231595837,
          144.95696234059736,
          144.95548424957065,
          144.9565316258329,
          144.95821608690858,
          144.9571657633738,
          144.95739637072802,
          144.95802323076245,
          144.95814655276035,
          144.95689895741233,
          144.9565343730053,
          144.95574545353142,
          144.95678115855074,
          144.95454175904922,
          144.95366296666123,
          144.9537692541663,
          144.97061722203512,
          144.95686225824505,
          144.95794177940672,
          144.96757914799085,
          144.96249136310982,
          144.95568011260008,
          144.9629516862615,
          144.966997043321,
          144.97194522260708,
          144.9715932336254,
          144.967462431471,
          144.97243815994796,
          144.9616871375218,
          144.960765316124,
          144.95986079172638,
          144.95569265063773,
          144.97089952599487,
          144.97162762401734,
          144.97188375120993,
          144.97139352262127,
          144.97156163273422,
          144.9732382331711,
          144.97038374615923,
          144.97010070091366,
          144.9694430083061,
          144.97123717171658,
          144.96873339216515,
          144.96869835348167,
          144.96876012887915,
          144.96932760907043,
          144.9686183570954,
          144.9686829724722,
          144.96820381786043,
          144.96695006791515,
          144.96706520083916,
          144.9662543134082,
          144.96745507745138,
          144.9670624811988,
          144.9668849462853,
          144.96807420840344,
          144.96538877094625,
          144.96545353140812,
          144.9651313656219,
          144.96512380211735,
          144.96551925271615,
          144.96455086424254,
          144.96406312182154,
          144.9637645863644,
          144.96003291730977,
          144.95842907268548,
          144.9585839756677,
          144.95974778709353,
          144.959365686083,
          144.95967498096383,
          144.96145629110254,
          144.9605637989974,
          144.9616783818041,
          144.96071921330733,
          144.9621722247973,
          144.96194119821186,
          144.9614681922904,
          144.96114774652452,
          144.96301317553295,
          144.96432068731727,
          144.9639285753139,
          144.96164025970833,
          144.95557759699858,
          144.9552110178304,
          144.95470375589997,
          144.95580894305417,
          144.956467534624,
          144.95728722207423,
          144.95766420142033,
          144.9550350462116,
          144.95416746963403,
          144.95411623616334,
          144.95342725801962,
          144.95803438474277,
          144.9680242507245,
          144.96719168157594,
          144.9667625802273,
          144.96229519445652,
          144.96224533961347,
          144.95911816016283,
          144.95738250359312,
          144.97243830492508,
          144.96023905827192,
          144.96151358975985,
          144.97267324944883,
          144.97338626335969,
          144.97090512754946,
          144.97106863634434,
          144.97192733483007,
          144.96800192126963,
          144.96135266168625,
          144.96794349212385,
          144.97106967426805,
          144.9726904738642,
          144.9722726519847,
          144.97186299342198,
          144.97284822191173,
          144.9741255712408,
          144.9713012962928,
          144.97093032525657,
          144.97026802181446,
          144.97128718168483,
          144.970002281767,
          144.96930164317203,
          144.9690242022624,
          144.96873504016077,
          144.9686727236111,
          144.96839736007794,
          144.96770214537466,
          144.96830248372038,
          144.96780415838268,
          144.96738352989738,
          144.96665168266972,
          144.965582443831,
          144.96554618976265,
          144.96663010717896,
          144.96570181648684,
          144.9668995155727,
          144.96631621514925,
          144.9674685834403,
          144.9663646628278,
          144.96645933847927,
          144.9643638871223,
          144.96546528286152,
          144.9643264084841,
          144.9647515708548,
          144.963020448098,
          144.96398614233215,
          144.96009641017997,
          144.96025816014517,
          144.95965312776522,
          144.95933810898964,
          144.96075701875682,
          144.9604014852698,
          144.960047985896,
          144.96146041692978,
          144.96103700163818,
          144.96028210934693,
          144.9614105114917,
          144.96320879536245,
          144.96223748479332,
          144.96401604954465,
          144.9578825986701,
          144.96126658202394,
          144.9609454968655,
          144.961240049609,
          144.96038745128234,
          144.9561807421683,
          144.95506325236272,
          144.95519418764638,
          144.95606924108571,
          144.95698136409075,
          144.95651273561546,
          144.95677846750684,
          144.95829874000657,
          144.9588910635486,
          144.95515581469482,
          144.9547019972304,
          144.95447646152166,
          144.95398767873985,
          144.95203267710278,
          144.95907535115865,
          144.96233864480138,
          144.96346829171765,
          144.95632912990123,
          144.96290788697897,
          144.96047108406836,
          144.96627899373402,
          144.96406677587515,
          144.97208617369233,
          144.9713271143983,
          144.96646689470336,
          144.96051751381623,
          144.96798312015957,
          144.97079029463796
         ],
         "name": "",
         "opacity": 0.5,
         "radius": 40,
         "subplot": "mapbox",
         "type": "densitymapbox",
         "z": [
          0,
          0,
          5.7,
          0,
          2,
          0,
          8.3,
          6.2,
          5.4,
          24.4,
          35.1,
          0,
          5.2,
          15.8,
          1.5,
          0,
          9.9,
          9.6,
          6.9,
          0,
          55.3,
          71,
          22.6,
          24.4,
          27.2,
          42.4,
          9.6,
          0,
          65.1,
          0,
          0,
          14.1,
          4.1,
          0,
          11.8,
          18.7,
          17.7,
          17.6,
          5,
          15.3,
          3.9,
          5,
          20.9,
          21.5,
          71.5,
          0,
          0,
          32.2,
          84,
          14.9,
          0,
          5.5,
          0,
          0,
          11.4,
          15,
          12.7,
          13.9,
          6.6,
          9.4,
          9.6,
          4.9,
          0,
          9.3,
          17.4,
          7.6,
          2.5,
          30.3,
          2.3,
          2.7,
          4.8,
          11.4,
          15.8,
          100,
          0,
          4.2,
          3.3,
          5.7,
          0,
          8.8,
          9.9,
          13.4,
          37.2,
          3.2,
          8.8,
          11.7,
          8.4,
          2.8,
          9.8,
          5.4,
          4.2,
          11.1,
          13.6,
          42.1,
          24.5,
          10,
          3.8,
          9.3,
          2.8,
          1.6,
          1.9,
          7.6,
          12.8,
          5.9,
          22.8,
          34.1,
          76.2,
          51.9,
          43.2,
          15.5,
          18.7,
          9.8,
          0,
          0,
          0,
          3.4,
          0,
          5.7,
          10.5,
          22.3,
          16.3,
          19.7,
          10.8,
          11.9,
          8.8,
          5.7,
          29.1,
          5.4,
          2.7,
          54.3,
          56,
          96.5,
          2.1,
          47.9,
          19.3,
          6.5,
          0,
          7.5,
          7.5,
          14.2,
          5,
          34.7,
          14.1,
          14.2,
          0,
          7.9,
          0,
          0,
          15.5,
          10.5,
          5.1,
          0,
          6.1,
          0,
          15.9,
          3.8,
          6.8,
          0,
          0,
          0,
          0,
          2.3,
          7.7,
          3.4,
          4.7,
          5,
          4.7,
          0,
          8.8,
          8.2,
          19.4,
          10.4,
          18.6,
          21,
          14.1,
          9.7,
          33.1,
          13.5,
          6.5,
          3.2,
          11,
          0,
          0,
          8,
          2.3,
          8.3,
          32.3,
          3.2,
          4.3,
          2.8,
          10.4,
          15.2,
          0,
          11.7,
          10.3,
          12.4,
          7,
          0,
          28.4,
          4.3,
          19,
          0,
          49,
          4.4,
          6.8,
          0,
          10.2,
          0,
          3.6,
          17.2,
          48.7,
          0,
          12.3,
          6.6,
          6.6,
          8.7,
          4.8,
          0,
          37,
          3.6,
          3.8,
          12.4,
          16.5,
          35.5,
          0,
          0,
          5.3,
          0,
          3.9,
          0,
          87,
          0,
          0,
          5.4,
          41.1,
          0,
          35.3,
          3.6,
          0,
          0,
          1.5,
          25.8,
          32.3,
          0,
          8.6,
          0
         ]
        }
       ],
       "layout": {
        "coloraxis": {
         "colorbar": {
          "title": {
           "text": "greening_priority"
          }
         },
         "colorscale": [
          [
           0,
           "lightgreen"
          ],
          [
           0.2,
           "lightgreen"
          ],
          [
           0.21,
           "green"
          ],
          [
           0.5,
           "green"
          ],
          [
           0.51,
           "darkgreen"
          ],
          [
           1,
           "darkgreen"
          ]
         ]
        },
        "height": 800,
        "legend": {
         "tracegroupgap": 0
        },
        "mapbox": {
         "center": {
          "lat": -37.81373720225536,
          "lon": 144.96378739120695
         },
         "domain": {
          "x": [
           0,
           1
          ],
          "y": [
           0,
           1
          ]
         },
         "style": "stamen-terrain",
         "zoom": 14
        },
        "template": {
         "data": {
          "bar": [
           {
            "error_x": {
             "color": "#2a3f5f"
            },
            "error_y": {
             "color": "#2a3f5f"
            },
            "marker": {
             "line": {
              "color": "#E5ECF6",
              "width": 0.5
             },
             "pattern": {
              "fillmode": "overlay",
              "size": 10,
              "solidity": 0.2
             }
            },
            "type": "bar"
           }
          ],
          "barpolar": [
           {
            "marker": {
             "line": {
              "color": "#E5ECF6",
              "width": 0.5
             },
             "pattern": {
              "fillmode": "overlay",
              "size": 10,
              "solidity": 0.2
             }
            },
            "type": "barpolar"
           }
          ],
          "carpet": [
           {
            "aaxis": {
             "endlinecolor": "#2a3f5f",
             "gridcolor": "white",
             "linecolor": "white",
             "minorgridcolor": "white",
             "startlinecolor": "#2a3f5f"
            },
            "baxis": {
             "endlinecolor": "#2a3f5f",
             "gridcolor": "white",
             "linecolor": "white",
             "minorgridcolor": "white",
             "startlinecolor": "#2a3f5f"
            },
            "type": "carpet"
           }
          ],
          "choropleth": [
           {
            "colorbar": {
             "outlinewidth": 0,
             "ticks": ""
            },
            "type": "choropleth"
           }
          ],
          "contour": [
           {
            "colorbar": {
             "outlinewidth": 0,
             "ticks": ""
            },
            "colorscale": [
             [
              0,
              "#0d0887"
             ],
             [
              0.1111111111111111,
              "#46039f"
             ],
             [
              0.2222222222222222,
              "#7201a8"
             ],
             [
              0.3333333333333333,
              "#9c179e"
             ],
             [
              0.4444444444444444,
              "#bd3786"
             ],
             [
              0.5555555555555556,
              "#d8576b"
             ],
             [
              0.6666666666666666,
              "#ed7953"
             ],
             [
              0.7777777777777778,
              "#fb9f3a"
             ],
             [
              0.8888888888888888,
              "#fdca26"
             ],
             [
              1,
              "#f0f921"
             ]
            ],
            "type": "contour"
           }
          ],
          "contourcarpet": [
           {
            "colorbar": {
             "outlinewidth": 0,
             "ticks": ""
            },
            "type": "contourcarpet"
           }
          ],
          "heatmap": [
           {
            "colorbar": {
             "outlinewidth": 0,
             "ticks": ""
            },
            "colorscale": [
             [
              0,
              "#0d0887"
             ],
             [
              0.1111111111111111,
              "#46039f"
             ],
             [
              0.2222222222222222,
              "#7201a8"
             ],
             [
              0.3333333333333333,
              "#9c179e"
             ],
             [
              0.4444444444444444,
              "#bd3786"
             ],
             [
              0.5555555555555556,
              "#d8576b"
             ],
             [
              0.6666666666666666,
              "#ed7953"
             ],
             [
              0.7777777777777778,
              "#fb9f3a"
             ],
             [
              0.8888888888888888,
              "#fdca26"
             ],
             [
              1,
              "#f0f921"
             ]
            ],
            "type": "heatmap"
           }
          ],
          "heatmapgl": [
           {
            "colorbar": {
             "outlinewidth": 0,
             "ticks": ""
            },
            "colorscale": [
             [
              0,
              "#0d0887"
             ],
             [
              0.1111111111111111,
              "#46039f"
             ],
             [
              0.2222222222222222,
              "#7201a8"
             ],
             [
              0.3333333333333333,
              "#9c179e"
             ],
             [
              0.4444444444444444,
              "#bd3786"
             ],
             [
              0.5555555555555556,
              "#d8576b"
             ],
             [
              0.6666666666666666,
              "#ed7953"
             ],
             [
              0.7777777777777778,
              "#fb9f3a"
             ],
             [
              0.8888888888888888,
              "#fdca26"
             ],
             [
              1,
              "#f0f921"
             ]
            ],
            "type": "heatmapgl"
           }
          ],
          "histogram": [
           {
            "marker": {
             "pattern": {
              "fillmode": "overlay",
              "size": 10,
              "solidity": 0.2
             }
            },
            "type": "histogram"
           }
          ],
          "histogram2d": [
           {
            "colorbar": {
             "outlinewidth": 0,
             "ticks": ""
            },
            "colorscale": [
             [
              0,
              "#0d0887"
             ],
             [
              0.1111111111111111,
              "#46039f"
             ],
             [
              0.2222222222222222,
              "#7201a8"
             ],
             [
              0.3333333333333333,
              "#9c179e"
             ],
             [
              0.4444444444444444,
              "#bd3786"
             ],
             [
              0.5555555555555556,
              "#d8576b"
             ],
             [
              0.6666666666666666,
              "#ed7953"
             ],
             [
              0.7777777777777778,
              "#fb9f3a"
             ],
             [
              0.8888888888888888,
              "#fdca26"
             ],
             [
              1,
              "#f0f921"
             ]
            ],
            "type": "histogram2d"
           }
          ],
          "histogram2dcontour": [
           {
            "colorbar": {
             "outlinewidth": 0,
             "ticks": ""
            },
            "colorscale": [
             [
              0,
              "#0d0887"
             ],
             [
              0.1111111111111111,
              "#46039f"
             ],
             [
              0.2222222222222222,
              "#7201a8"
             ],
             [
              0.3333333333333333,
              "#9c179e"
             ],
             [
              0.4444444444444444,
              "#bd3786"
             ],
             [
              0.5555555555555556,
              "#d8576b"
             ],
             [
              0.6666666666666666,
              "#ed7953"
             ],
             [
              0.7777777777777778,
              "#fb9f3a"
             ],
             [
              0.8888888888888888,
              "#fdca26"
             ],
             [
              1,
              "#f0f921"
             ]
            ],
            "type": "histogram2dcontour"
           }
          ],
          "mesh3d": [
           {
            "colorbar": {
             "outlinewidth": 0,
             "ticks": ""
            },
            "type": "mesh3d"
           }
          ],
          "parcoords": [
           {
            "line": {
             "colorbar": {
              "outlinewidth": 0,
              "ticks": ""
             }
            },
            "type": "parcoords"
           }
          ],
          "pie": [
           {
            "automargin": true,
            "type": "pie"
           }
          ],
          "scatter": [
           {
            "fillpattern": {
             "fillmode": "overlay",
             "size": 10,
             "solidity": 0.2
            },
            "type": "scatter"
           }
          ],
          "scatter3d": [
           {
            "line": {
             "colorbar": {
              "outlinewidth": 0,
              "ticks": ""
             }
            },
            "marker": {
             "colorbar": {
              "outlinewidth": 0,
              "ticks": ""
             }
            },
            "type": "scatter3d"
           }
          ],
          "scattercarpet": [
           {
            "marker": {
             "colorbar": {
              "outlinewidth": 0,
              "ticks": ""
             }
            },
            "type": "scattercarpet"
           }
          ],
          "scattergeo": [
           {
            "marker": {
             "colorbar": {
              "outlinewidth": 0,
              "ticks": ""
             }
            },
            "type": "scattergeo"
           }
          ],
          "scattergl": [
           {
            "marker": {
             "colorbar": {
              "outlinewidth": 0,
              "ticks": ""
             }
            },
            "type": "scattergl"
           }
          ],
          "scattermapbox": [
           {
            "marker": {
             "colorbar": {
              "outlinewidth": 0,
              "ticks": ""
             }
            },
            "type": "scattermapbox"
           }
          ],
          "scatterpolar": [
           {
            "marker": {
             "colorbar": {
              "outlinewidth": 0,
              "ticks": ""
             }
            },
            "type": "scatterpolar"
           }
          ],
          "scatterpolargl": [
           {
            "marker": {
             "colorbar": {
              "outlinewidth": 0,
              "ticks": ""
             }
            },
            "type": "scatterpolargl"
           }
          ],
          "scatterternary": [
           {
            "marker": {
             "colorbar": {
              "outlinewidth": 0,
              "ticks": ""
             }
            },
            "type": "scatterternary"
           }
          ],
          "surface": [
           {
            "colorbar": {
             "outlinewidth": 0,
             "ticks": ""
            },
            "colorscale": [
             [
              0,
              "#0d0887"
             ],
             [
              0.1111111111111111,
              "#46039f"
             ],
             [
              0.2222222222222222,
              "#7201a8"
             ],
             [
              0.3333333333333333,
              "#9c179e"
             ],
             [
              0.4444444444444444,
              "#bd3786"
             ],
             [
              0.5555555555555556,
              "#d8576b"
             ],
             [
              0.6666666666666666,
              "#ed7953"
             ],
             [
              0.7777777777777778,
              "#fb9f3a"
             ],
             [
              0.8888888888888888,
              "#fdca26"
             ],
             [
              1,
              "#f0f921"
             ]
            ],
            "type": "surface"
           }
          ],
          "table": [
           {
            "cells": {
             "fill": {
              "color": "#EBF0F8"
             },
             "line": {
              "color": "white"
             }
            },
            "header": {
             "fill": {
              "color": "#C8D4E3"
             },
             "line": {
              "color": "white"
             }
            },
            "type": "table"
           }
          ]
         },
         "layout": {
          "annotationdefaults": {
           "arrowcolor": "#2a3f5f",
           "arrowhead": 0,
           "arrowwidth": 1
          },
          "autotypenumbers": "strict",
          "coloraxis": {
           "colorbar": {
            "outlinewidth": 0,
            "ticks": ""
           }
          },
          "colorscale": {
           "diverging": [
            [
             0,
             "#8e0152"
            ],
            [
             0.1,
             "#c51b7d"
            ],
            [
             0.2,
             "#de77ae"
            ],
            [
             0.3,
             "#f1b6da"
            ],
            [
             0.4,
             "#fde0ef"
            ],
            [
             0.5,
             "#f7f7f7"
            ],
            [
             0.6,
             "#e6f5d0"
            ],
            [
             0.7,
             "#b8e186"
            ],
            [
             0.8,
             "#7fbc41"
            ],
            [
             0.9,
             "#4d9221"
            ],
            [
             1,
             "#276419"
            ]
           ],
           "sequential": [
            [
             0,
             "#0d0887"
            ],
            [
             0.1111111111111111,
             "#46039f"
            ],
            [
             0.2222222222222222,
             "#7201a8"
            ],
            [
             0.3333333333333333,
             "#9c179e"
            ],
            [
             0.4444444444444444,
             "#bd3786"
            ],
            [
             0.5555555555555556,
             "#d8576b"
            ],
            [
             0.6666666666666666,
             "#ed7953"
            ],
            [
             0.7777777777777778,
             "#fb9f3a"
            ],
            [
             0.8888888888888888,
             "#fdca26"
            ],
            [
             1,
             "#f0f921"
            ]
           ],
           "sequentialminus": [
            [
             0,
             "#0d0887"
            ],
            [
             0.1111111111111111,
             "#46039f"
            ],
            [
             0.2222222222222222,
             "#7201a8"
            ],
            [
             0.3333333333333333,
             "#9c179e"
            ],
            [
             0.4444444444444444,
             "#bd3786"
            ],
            [
             0.5555555555555556,
             "#d8576b"
            ],
            [
             0.6666666666666666,
             "#ed7953"
            ],
            [
             0.7777777777777778,
             "#fb9f3a"
            ],
            [
             0.8888888888888888,
             "#fdca26"
            ],
            [
             1,
             "#f0f921"
            ]
           ]
          },
          "colorway": [
           "#636efa",
           "#EF553B",
           "#00cc96",
           "#ab63fa",
           "#FFA15A",
           "#19d3f3",
           "#FF6692",
           "#B6E880",
           "#FF97FF",
           "#FECB52"
          ],
          "font": {
           "color": "#2a3f5f"
          },
          "geo": {
           "bgcolor": "white",
           "lakecolor": "white",
           "landcolor": "#E5ECF6",
           "showlakes": true,
           "showland": true,
           "subunitcolor": "white"
          },
          "hoverlabel": {
           "align": "left"
          },
          "hovermode": "closest",
          "mapbox": {
           "style": "light"
          },
          "paper_bgcolor": "white",
          "plot_bgcolor": "#E5ECF6",
          "polar": {
           "angularaxis": {
            "gridcolor": "white",
            "linecolor": "white",
            "ticks": ""
           },
           "bgcolor": "#E5ECF6",
           "radialaxis": {
            "gridcolor": "white",
            "linecolor": "white",
            "ticks": ""
           }
          },
          "scene": {
           "xaxis": {
            "backgroundcolor": "#E5ECF6",
            "gridcolor": "white",
            "gridwidth": 2,
            "linecolor": "white",
            "showbackground": true,
            "ticks": "",
            "zerolinecolor": "white"
           },
           "yaxis": {
            "backgroundcolor": "#E5ECF6",
            "gridcolor": "white",
            "gridwidth": 2,
            "linecolor": "white",
            "showbackground": true,
            "ticks": "",
            "zerolinecolor": "white"
           },
           "zaxis": {
            "backgroundcolor": "#E5ECF6",
            "gridcolor": "white",
            "gridwidth": 2,
            "linecolor": "white",
            "showbackground": true,
            "ticks": "",
            "zerolinecolor": "white"
           }
          },
          "shapedefaults": {
           "line": {
            "color": "#2a3f5f"
           }
          },
          "ternary": {
           "aaxis": {
            "gridcolor": "white",
            "linecolor": "white",
            "ticks": ""
           },
           "baxis": {
            "gridcolor": "white",
            "linecolor": "white",
            "ticks": ""
           },
           "bgcolor": "#E5ECF6",
           "caxis": {
            "gridcolor": "white",
            "linecolor": "white",
            "ticks": ""
           }
          },
          "title": {
           "x": 0.05
          },
          "xaxis": {
           "automargin": true,
           "gridcolor": "white",
           "linecolor": "white",
           "ticks": "",
           "title": {
            "standoff": 15
           },
           "zerolinecolor": "white",
           "zerolinewidth": 2
          },
          "yaxis": {
           "automargin": true,
           "gridcolor": "white",
           "linecolor": "white",
           "ticks": "",
           "title": {
            "standoff": 15
           },
           "zerolinecolor": "white",
           "zerolinewidth": 2
          }
         }
        },
        "title": {
         "text": "Heatmap showing laneways with greening priotity across City of Melbourne"
        },
        "width": 1000
       }
      },
      "text/html": [
       "<div>                            <div id=\"b5d06449-1b16-4a2c-b270-c51f025c7eb4\" class=\"plotly-graph-div\" style=\"height:800px; width:1000px;\"></div>            <script type=\"text/javascript\">                require([\"plotly\"], function(Plotly) {                    window.PLOTLYENV=window.PLOTLYENV || {};                                    if (document.getElementById(\"b5d06449-1b16-4a2c-b270-c51f025c7eb4\")) {                    Plotly.newPlot(                        \"b5d06449-1b16-4a2c-b270-c51f025c7eb4\",                        [{\"coloraxis\":\"coloraxis\",\"customdata\":[[0.0,29.0],[39573.5186276,41.0],[16389.2099678,35.0],[16389.2099678,54.0],[21433.0537357,86.0],[46318.9282513,69.0],[48320.4695801,47.0],[28312.0753967,37.0],[20219.5459825,61.0],[114683.93094739999,57.0],[52217.8144328,24.0],[12843.769694,36.0],[14477.5993291,34.0],[18880.5489048,29.0],[7048.65308545,39.0],[11292.7685665,41.0],[16406.3528704,40.0],[22292.979636,28.0],[22292.979636,26.0],[47134.313238899995,29.0],[20539.6982211,3.0],[20539.6982211,7.0],[20539.6982211,11.0],[47134.313238899995,39.0],[24704.2744582,11.0],[38531.9192489,11.0],[24704.2744582,31.0],[0.0,30.0],[103252.737866,32.0],[103252.737866,39.0],[0.0,36.0],[12809.0284811,22.0],[9658.81161959,48.0],[38700.4178127,36.0],[48359.22943229,33.0],[38700.4178127,50.0],[38700.4178127,53.0],[66825.6290475,46.0],[27021.9956094,44.0],[49380.691414600005,26.0],[16378.9103301,34.0],[11247.0959066,27.0],[27626.0062367,16.0],[63799.7964044,36.0],[118140.7238029,20.0],[118140.7238029,31.0],[54340.9273985,45.0],[71766.9605111,18.0],[38176.3531247,11.0],[38176.3531247,31.0],[24672.034274600002,54.0],[14913.7937419,22.0],[20824.527398,39.0],[20824.527398,32.0],[30379.0970102,43.0],[38692.042918,52.0],[69071.13992819999,44.0],[47054.4208559,41.0],[30936.3989011,38.0],[30936.3989011,40.0],[15822.3982057,40.0],[15822.3982057,39.0],[15822.3982057,35.0],[15822.3982057,41.0],[17290.9268625,24.0],[9737.11961376,31.0],[9737.11961376,32.0],[84077.7913871,56.0],[14157.5417131,49.0],[11875.8516605,54.0],[11048.7301348,28.0],[14144.2992605,20.0],[20824.527398,32.0],[103252.737866,25.0],[33551.610148499996,35.0],[16389.2099678,47.0],[23184.3086598,57.0],[14083.3758072,30.0],[24885.8745156,62.0],[32662.1755661,30.0],[27888.2975618,34.0],[39803.6334381,36.0],[59890.3837477,39.0],[23184.3086598,59.0],[23184.3086598,53.0],[39573.5186276,41.0],[16389.2099678,47.0],[24885.8745156,73.0],[24885.8745156,51.0],[20219.5459825,45.0],[20219.5459825,39.0],[42179.8320745,46.0],[42179.8320745,50.0],[52217.8144328,30.0],[27321.3690231,9.0],[27321.3690231,22.0],[14477.5993291,46.0],[18880.5489048,41.0],[7048.65308545,41.0],[7048.65308545,36.0],[7048.65308545,30.0],[11292.7685665,36.0],[25376.1443737,24.0],[14083.3758072,29.0],[25376.1443737,27.0],[25376.1443737,18.0],[56650.17053829999,18.0],[47134.313238899995,11.0],[47134.313238899995,22.0],[38531.9192489,20.0],[38531.9192489,25.0],[13827.6447907,34.0],[0.0,27.0],[0.0,44.0],[0.0,38.0],[12809.0284811,30.0],[25260.240468480002,37.0],[19432.3129373,41.0],[48359.22943229,37.0],[38700.4178127,42.0],[66825.6290475,33.0],[36571.6629335,30.0],[36571.6629335,41.0],[27626.0062367,28.0],[16378.9103301,45.0],[11247.0959066,24.0],[27626.0062367,23.0],[11247.0959066,25.0],[11247.0959066,34.0],[71766.9605111,32.0],[38176.3531247,11.0],[71766.9605111,9.0],[10472.3967823,40.0],[45458.9088283,23.0],[30545.1150864,32.0],[30545.1150864,38.0],[14913.7937419,18.0],[14913.7937419,24.0],[30379.0970102,49.0],[38692.042918,44.0],[17290.9268625,28.0],[11455.4381634,12.0],[32545.3575521,28.0],[42282.47716586,24.0],[69071.13992819999,53.0],[11048.7301348,34.0],[12232.87694415,22.0],[12232.87694415,39.0],[18517.8763056,29.0],[32662.1755661,25.0],[25147.5710439,40.0],[59890.3837477,46.0],[46318.9282513,61.0],[66825.6290475,48.0],[27626.0062367,14.0],[28312.0753967,60.0],[24885.8745156,44.0],[63177.133170709996,28.0],[63177.133170709996,44.0],[39573.5186276,45.0],[22292.979636,29.0],[18517.8763056,32.0],[11048.7301348,29.0],[16389.2099678,58.0],[21433.0537357,55.0],[21433.0537357,69.0],[46318.9282513,79.0],[24885.8745156,64.0],[28312.0753967,39.0],[20219.5459825,60.0],[62399.378057,39.0],[42179.8320745,49.0],[42179.8320745,55.0],[62466.1165146,36.0],[12843.769694,22.0],[12843.769694,16.0],[27321.3690231,10.0],[12843.769694,23.0],[12843.769694,24.0],[14477.5993291,37.0],[14477.5993291,32.0],[7048.65308545,22.0],[7048.65308545,32.0],[11292.7685665,34.0],[11292.7685665,39.0],[11292.7685665,33.0],[25376.1443737,19.0],[14083.3758072,36.0],[16406.3528704,46.0],[16406.3528704,48.0],[33551.610148499996,26.0],[47134.313238899995,25.0],[26594.6150178,41.0],[24704.2744582,17.0],[24704.2744582,29.0],[13827.6447907,9.0],[13827.6447907,16.0],[0.0,17.0],[103252.737866,44.0],[12809.0284811,24.0],[49380.691414600005,21.0],[48359.22943229,35.0],[66825.6290475,33.0],[27021.9956094,50.0],[27021.9956094,48.0],[36571.6629335,52.0],[16378.9103301,39.0],[16378.9103301,47.0],[16378.9103301,55.0],[63799.7964044,45.0],[54340.9273985,27.0],[47790.2448787,41.0],[33590.6073864,22.0],[30936.3989011,38.0],[12716.67821779,31.0],[57964.1275842,54.0],[24672.034274600002,62.0],[39803.6334381,43.0],[30545.1150864,20.0],[14913.7937419,33.0],[14913.7937419,32.0],[20824.527398,27.0],[59890.3837477,44.0],[59890.3837477,34.0],[30379.0970102,47.0],[38692.042918,49.0],[30936.3989011,47.0],[25413.3038245,43.0],[11455.4381634,24.0],[28746.3650259,21.0],[28746.3650259,4.0],[9737.11961376,24.0],[10065.9143204,62.0],[14144.2992605,21.0],[54340.9273985,32.0],[58222.8407854,45.0],[118140.7238029,27.0],[16378.9103301,55.0],[47134.313238899995,20.0],[0.0,8.0],[16389.2099678,45.0],[61789.211951327,58.0],[25376.1443737,19.0],[25147.5710439,41.0],[11048.7301348,31.0],[60893.4827273,29.0]],\"hovertemplate\":\"<b>%{hovertext}</b><br><br>greening_priority=%{z}<br>lat=%{lat}<br>lon=%{lon}<br>total_energy=%{customdata[0]}<br>tree_count=%{customdata[1]}<extra></extra>\",\"hovertext\":[0.0,0.0,5.7,0.0,2.0,0.0,8.3,6.2,5.4,24.4,35.1,0.0,5.2,15.8,1.5,0.0,9.9,9.6,6.9,0.0,55.3,71.0,22.6,24.4,27.2,42.4,9.6,0.0,65.1,0.0,0.0,14.1,4.1,0.0,11.8,18.7,17.7,17.6,5.0,15.3,3.9,5.0,20.9,21.5,71.5,0.0,0.0,32.2,84.0,14.9,0.0,5.5,0.0,0.0,11.4,15.0,12.7,13.9,6.6,9.4,9.6,4.9,0.0,9.3,17.4,7.6,2.5,30.3,2.3,2.7,4.8,11.4,15.8,100.0,0.0,4.2,3.3,5.7,0.0,8.8,9.9,13.4,37.2,3.2,8.8,11.7,8.4,2.8,9.8,5.4,4.2,11.1,13.6,42.1,24.5,10.0,3.8,9.3,2.8,1.6,1.9,7.6,12.8,5.9,22.8,34.1,76.2,51.9,43.2,15.5,18.7,9.8,0.0,0.0,0.0,3.4,0.0,5.7,10.5,22.3,16.3,19.7,10.8,11.9,8.8,5.7,29.1,5.4,2.7,54.3,56.0,96.5,2.1,47.9,19.3,6.5,0.0,7.5,7.5,14.2,5.0,34.7,14.1,14.2,0.0,7.9,0.0,0.0,15.5,10.5,5.1,0.0,6.1,0.0,15.9,3.8,6.8,0.0,0.0,0.0,0.0,2.3,7.7,3.4,4.7,5.0,4.7,0.0,8.8,8.2,19.4,10.4,18.6,21.0,14.1,9.7,33.1,13.5,6.5,3.2,11.0,0.0,0.0,8.0,2.3,8.3,32.3,3.2,4.3,2.8,10.4,15.2,0.0,11.7,10.3,12.4,7.0,0.0,28.4,4.3,19.0,0.0,49.0,4.4,6.8,0.0,10.2,0.0,3.6,17.2,48.7,0.0,12.3,6.6,6.6,8.7,4.8,0.0,37.0,3.6,3.8,12.4,16.5,35.5,0.0,0.0,5.3,0.0,3.9,0.0,87.0,0.0,0.0,5.4,41.1,0.0,35.3,3.6,0.0,0.0,1.5,25.8,32.3,0.0,8.6,0.0],\"lat\":[-37.81980050254932,-37.81097635318543,-37.81111151578862,-37.81161232134716,-37.8124734926234,-37.81304184241003,-37.81410455066066,-37.81521836330808,-37.81560584167807,-37.81363663807256,-37.81318089121382,-37.811631479265266,-37.81096554046618,-37.81018788400599,-37.808928701105636,-37.811819833149336,-37.81363559321624,-37.81638689912868,-37.816437955439866,-37.816833769769204,-37.817277292447365,-37.817339881748865,-37.8172843757446,-37.816440023811005,-37.81531786344816,-37.81524339834998,-37.81496076902029,-37.81283231518697,-37.8122331277934,-37.81120874607432,-37.810511430101,-37.811082793916796,-37.81364143485823,-37.81479726899315,-37.814683887787545,-37.81497705914173,-37.81505553768235,-37.81637435216704,-37.81697722216005,-37.81194262812994,-37.81310137820415,-37.813735162366505,-37.8137809735933,-37.81528156146977,-37.81522401449075,-37.81593175883032,-37.81602777672109,-37.817199920431165,-37.81776601260828,-37.81820807553832,-37.817688637627505,-37.813316564957894,-37.81445067539735,-37.81488075904122,-37.81676041377433,-37.81734946853748,-37.81739031205376,-37.818984126275495,-37.81963370613525,-37.81954117327879,-37.8200790748199,-37.82011600297684,-37.82027880943805,-37.819764909598696,-37.81604819466985,-37.81336268612127,-37.813098677911036,-37.810100678849565,-37.81109181824087,-37.810461362738046,-37.80804153774292,-37.809574187684454,-37.81477253709165,-37.81124523135607,-37.81452312073989,-37.81119641212291,-37.80981203103341,-37.81261588548371,-37.81332555540913,-37.808798598420246,-37.807613165711366,-37.815810557823596,-37.81535672343349,-37.81037958674067,-37.810217121848865,-37.81077581774339,-37.811226042417026,-37.8131805651399,-37.812714034948,-37.815866684899426,-37.816070884780686,-37.815043593615314,-37.814860662335775,-37.81325469434872,-37.8113357078086,-37.81112570199548,-37.81047263684767,-37.809814704774496,-37.808962433086066,-37.80891911143074,-37.80927255305554,-37.811503452175096,-37.81181924077914,-37.81236603080382,-37.81227101185166,-37.8122351726817,-37.815770514528744,-37.81721251515046,-37.816552460452876,-37.81515149775422,-37.814459961312124,-37.81425396234533,-37.81311665324148,-37.81113906039378,-37.81100772543578,-37.811294962572816,-37.81195697118721,-37.81288655222083,-37.81434588510203,-37.814713446937354,-37.81668311746074,-37.81179252091795,-37.8121714527127,-37.81327834872983,-37.813481152611836,-37.81382053335725,-37.81386196353888,-37.814139526354815,-37.81417691097461,-37.817244932826426,-37.81774881340534,-37.817647102746875,-37.81848742506025,-37.81274968140071,-37.81272540384329,-37.81283327377191,-37.8135247555415,-37.813157519841646,-37.81654155142347,-37.817468209169334,-37.81597970168963,-37.81523292318083,-37.81375860365229,-37.81345477331178,-37.81713959638289,-37.80766995107844,-37.807874533479186,-37.807868542290684,-37.80825704076604,-37.8092052807982,-37.81059550083191,-37.81532410339944,-37.812892966824165,-37.81593137617615,-37.813761236886755,-37.815212125832595,-37.81289266958999,-37.80875417866908,-37.80880126515651,-37.81034170711123,-37.81674801251833,-37.808893073302414,-37.80743440633362,-37.811312355458725,-37.812062778388146,-37.812200122969514,-37.81299489178982,-37.81291772360056,-37.81486555746091,-37.81556813104544,-37.81565225265017,-37.815010365366625,-37.81450170729136,-37.81388085097895,-37.811846184146255,-37.81186744205427,-37.81164146216171,-37.81203165865674,-37.81199395451558,-37.81111808221134,-37.81121896258666,-37.809070759197056,-37.8092614609602,-37.811622558943256,-37.8119212879997,-37.812182004124956,-37.81255972303171,-37.81265308586931,-37.81375221918104,-37.813998405447016,-37.814540467211934,-37.81684310938986,-37.81625729975984,-37.815466618658434,-37.815136745569795,-37.81453505593018,-37.814399761923944,-37.81295591658134,-37.81140603994133,-37.81107211875846,-37.81143661165109,-37.81445017766827,-37.81611345293064,-37.81634100783601,-37.81662436680107,-37.81232803829519,-37.8131179768624,-37.81322013799656,-37.81316822185592,-37.815582438708404,-37.81587907634075,-37.81748103944648,-37.81705022724468,-37.81984867154892,-37.818834732192755,-37.81801103424856,-37.81788034313359,-37.81535295029374,-37.81265852382229,-37.81400371191351,-37.81368407590331,-37.814672188989995,-37.815444976696476,-37.81556411206914,-37.81675781807964,-37.81705815427994,-37.81939019475833,-37.81820110978195,-37.815131053785386,-37.81535738669452,-37.81558625091741,-37.813298814806174,-37.80919327198343,-37.80940546461835,-37.81602860198378,-37.819253504282024,-37.815770743514925,-37.81309137074721,-37.81696435459669,-37.813170613431005,-37.81132913888725,-37.808732016172115,-37.811891568883624,-37.80980844948987,-37.807528190248966,-37.8091174792242],\"lon\":[144.9623447558369,144.97170834375964,144.97244046374837,144.97077449834737,144.9713761243581,144.97240833983707,144.9736711005169,144.97342323779137,144.9716292036106,144.97030218968666,144.96918657126457,144.96996732732396,144.9691457959443,144.9673441983146,144.96845133042902,144.9653517247358,144.9673143038117,144.9690855012813,144.968922695136,144.96650432144628,144.9660029303524,144.96578935360571,144.96517912329656,144.9660849351429,144.96412508085777,144.96455112659987,144.9655933228601,144.96485753421675,144.96450529272983,144.96385829677484,144.96354768190554,144.96080159509805,144.95967769583882,144.96010852358677,144.9588906580676,144.95845989409705,144.9582828280556,144.96046496953696,144.959485810845,144.9609229814977,144.96198155668426,144.9624979570203,144.96166455721152,144.96173953568237,144.96270583856173,144.9624004738762,144.961858207876,144.96372396866002,144.9644701544366,144.96278099354788,144.96142118297337,144.95622231595837,144.95696234059736,144.95548424957065,144.9565316258329,144.95821608690858,144.9571657633738,144.95739637072802,144.95802323076245,144.95814655276035,144.95689895741233,144.9565343730053,144.95574545353142,144.95678115855074,144.95454175904922,144.95366296666123,144.9537692541663,144.97061722203512,144.95686225824505,144.95794177940672,144.96757914799085,144.96249136310982,144.95568011260008,144.9629516862615,144.966997043321,144.97194522260708,144.9715932336254,144.967462431471,144.97243815994796,144.9616871375218,144.960765316124,144.95986079172638,144.95569265063773,144.97089952599487,144.97162762401734,144.97188375120993,144.97139352262127,144.97156163273422,144.9732382331711,144.97038374615923,144.97010070091366,144.9694430083061,144.97123717171658,144.96873339216515,144.96869835348167,144.96876012887915,144.96932760907043,144.9686183570954,144.9686829724722,144.96820381786043,144.96695006791515,144.96706520083916,144.9662543134082,144.96745507745138,144.9670624811988,144.9668849462853,144.96807420840344,144.96538877094625,144.96545353140812,144.9651313656219,144.96512380211735,144.96551925271615,144.96455086424254,144.96406312182154,144.9637645863644,144.96003291730977,144.95842907268548,144.9585839756677,144.95974778709353,144.959365686083,144.95967498096383,144.96145629110254,144.9605637989974,144.9616783818041,144.96071921330733,144.9621722247973,144.96194119821186,144.9614681922904,144.96114774652452,144.96301317553295,144.96432068731727,144.9639285753139,144.96164025970833,144.95557759699858,144.9552110178304,144.95470375589997,144.95580894305417,144.956467534624,144.95728722207423,144.95766420142033,144.9550350462116,144.95416746963403,144.95411623616334,144.95342725801962,144.95803438474277,144.9680242507245,144.96719168157594,144.9667625802273,144.96229519445652,144.96224533961347,144.95911816016283,144.95738250359312,144.97243830492508,144.96023905827192,144.96151358975985,144.97267324944883,144.97338626335969,144.97090512754946,144.97106863634434,144.97192733483007,144.96800192126963,144.96135266168625,144.96794349212385,144.97106967426805,144.9726904738642,144.9722726519847,144.97186299342198,144.97284822191173,144.9741255712408,144.9713012962928,144.97093032525657,144.97026802181446,144.97128718168483,144.970002281767,144.96930164317203,144.9690242022624,144.96873504016077,144.9686727236111,144.96839736007794,144.96770214537466,144.96830248372038,144.96780415838268,144.96738352989738,144.96665168266972,144.965582443831,144.96554618976265,144.96663010717896,144.96570181648684,144.9668995155727,144.96631621514925,144.9674685834403,144.9663646628278,144.96645933847927,144.9643638871223,144.96546528286152,144.9643264084841,144.9647515708548,144.963020448098,144.96398614233215,144.96009641017997,144.96025816014517,144.95965312776522,144.95933810898964,144.96075701875682,144.9604014852698,144.960047985896,144.96146041692978,144.96103700163818,144.96028210934693,144.9614105114917,144.96320879536245,144.96223748479332,144.96401604954465,144.9578825986701,144.96126658202394,144.9609454968655,144.961240049609,144.96038745128234,144.9561807421683,144.95506325236272,144.95519418764638,144.95606924108571,144.95698136409075,144.95651273561546,144.95677846750684,144.95829874000657,144.9588910635486,144.95515581469482,144.9547019972304,144.95447646152166,144.95398767873985,144.95203267710278,144.95907535115865,144.96233864480138,144.96346829171765,144.95632912990123,144.96290788697897,144.96047108406836,144.96627899373402,144.96406677587515,144.97208617369233,144.9713271143983,144.96646689470336,144.96051751381623,144.96798312015957,144.97079029463796],\"name\":\"\",\"opacity\":0.5,\"radius\":40,\"subplot\":\"mapbox\",\"z\":[0.0,0.0,5.7,0.0,2.0,0.0,8.3,6.2,5.4,24.4,35.1,0.0,5.2,15.8,1.5,0.0,9.9,9.6,6.9,0.0,55.3,71.0,22.6,24.4,27.2,42.4,9.6,0.0,65.1,0.0,0.0,14.1,4.1,0.0,11.8,18.7,17.7,17.6,5.0,15.3,3.9,5.0,20.9,21.5,71.5,0.0,0.0,32.2,84.0,14.9,0.0,5.5,0.0,0.0,11.4,15.0,12.7,13.9,6.6,9.4,9.6,4.9,0.0,9.3,17.4,7.6,2.5,30.3,2.3,2.7,4.8,11.4,15.8,100.0,0.0,4.2,3.3,5.7,0.0,8.8,9.9,13.4,37.2,3.2,8.8,11.7,8.4,2.8,9.8,5.4,4.2,11.1,13.6,42.1,24.5,10.0,3.8,9.3,2.8,1.6,1.9,7.6,12.8,5.9,22.8,34.1,76.2,51.9,43.2,15.5,18.7,9.8,0.0,0.0,0.0,3.4,0.0,5.7,10.5,22.3,16.3,19.7,10.8,11.9,8.8,5.7,29.1,5.4,2.7,54.3,56.0,96.5,2.1,47.9,19.3,6.5,0.0,7.5,7.5,14.2,5.0,34.7,14.1,14.2,0.0,7.9,0.0,0.0,15.5,10.5,5.1,0.0,6.1,0.0,15.9,3.8,6.8,0.0,0.0,0.0,0.0,2.3,7.7,3.4,4.7,5.0,4.7,0.0,8.8,8.2,19.4,10.4,18.6,21.0,14.1,9.7,33.1,13.5,6.5,3.2,11.0,0.0,0.0,8.0,2.3,8.3,32.3,3.2,4.3,2.8,10.4,15.2,0.0,11.7,10.3,12.4,7.0,0.0,28.4,4.3,19.0,0.0,49.0,4.4,6.8,0.0,10.2,0.0,3.6,17.2,48.7,0.0,12.3,6.6,6.6,8.7,4.8,0.0,37.0,3.6,3.8,12.4,16.5,35.5,0.0,0.0,5.3,0.0,3.9,0.0,87.0,0.0,0.0,5.4,41.1,0.0,35.3,3.6,0.0,0.0,1.5,25.8,32.3,0.0,8.6,0.0],\"type\":\"densitymapbox\"}],                        {\"template\":{\"data\":{\"histogram2dcontour\":[{\"type\":\"histogram2dcontour\",\"colorbar\":{\"outlinewidth\":0,\"ticks\":\"\"},\"colorscale\":[[0.0,\"#0d0887\"],[0.1111111111111111,\"#46039f\"],[0.2222222222222222,\"#7201a8\"],[0.3333333333333333,\"#9c179e\"],[0.4444444444444444,\"#bd3786\"],[0.5555555555555556,\"#d8576b\"],[0.6666666666666666,\"#ed7953\"],[0.7777777777777778,\"#fb9f3a\"],[0.8888888888888888,\"#fdca26\"],[1.0,\"#f0f921\"]]}],\"choropleth\":[{\"type\":\"choropleth\",\"colorbar\":{\"outlinewidth\":0,\"ticks\":\"\"}}],\"histogram2d\":[{\"type\":\"histogram2d\",\"colorbar\":{\"outlinewidth\":0,\"ticks\":\"\"},\"colorscale\":[[0.0,\"#0d0887\"],[0.1111111111111111,\"#46039f\"],[0.2222222222222222,\"#7201a8\"],[0.3333333333333333,\"#9c179e\"],[0.4444444444444444,\"#bd3786\"],[0.5555555555555556,\"#d8576b\"],[0.6666666666666666,\"#ed7953\"],[0.7777777777777778,\"#fb9f3a\"],[0.8888888888888888,\"#fdca26\"],[1.0,\"#f0f921\"]]}],\"heatmap\":[{\"type\":\"heatmap\",\"colorbar\":{\"outlinewidth\":0,\"ticks\":\"\"},\"colorscale\":[[0.0,\"#0d0887\"],[0.1111111111111111,\"#46039f\"],[0.2222222222222222,\"#7201a8\"],[0.3333333333333333,\"#9c179e\"],[0.4444444444444444,\"#bd3786\"],[0.5555555555555556,\"#d8576b\"],[0.6666666666666666,\"#ed7953\"],[0.7777777777777778,\"#fb9f3a\"],[0.8888888888888888,\"#fdca26\"],[1.0,\"#f0f921\"]]}],\"heatmapgl\":[{\"type\":\"heatmapgl\",\"colorbar\":{\"outlinewidth\":0,\"ticks\":\"\"},\"colorscale\":[[0.0,\"#0d0887\"],[0.1111111111111111,\"#46039f\"],[0.2222222222222222,\"#7201a8\"],[0.3333333333333333,\"#9c179e\"],[0.4444444444444444,\"#bd3786\"],[0.5555555555555556,\"#d8576b\"],[0.6666666666666666,\"#ed7953\"],[0.7777777777777778,\"#fb9f3a\"],[0.8888888888888888,\"#fdca26\"],[1.0,\"#f0f921\"]]}],\"contourcarpet\":[{\"type\":\"contourcarpet\",\"colorbar\":{\"outlinewidth\":0,\"ticks\":\"\"}}],\"contour\":[{\"type\":\"contour\",\"colorbar\":{\"outlinewidth\":0,\"ticks\":\"\"},\"colorscale\":[[0.0,\"#0d0887\"],[0.1111111111111111,\"#46039f\"],[0.2222222222222222,\"#7201a8\"],[0.3333333333333333,\"#9c179e\"],[0.4444444444444444,\"#bd3786\"],[0.5555555555555556,\"#d8576b\"],[0.6666666666666666,\"#ed7953\"],[0.7777777777777778,\"#fb9f3a\"],[0.8888888888888888,\"#fdca26\"],[1.0,\"#f0f921\"]]}],\"surface\":[{\"type\":\"surface\",\"colorbar\":{\"outlinewidth\":0,\"ticks\":\"\"},\"colorscale\":[[0.0,\"#0d0887\"],[0.1111111111111111,\"#46039f\"],[0.2222222222222222,\"#7201a8\"],[0.3333333333333333,\"#9c179e\"],[0.4444444444444444,\"#bd3786\"],[0.5555555555555556,\"#d8576b\"],[0.6666666666666666,\"#ed7953\"],[0.7777777777777778,\"#fb9f3a\"],[0.8888888888888888,\"#fdca26\"],[1.0,\"#f0f921\"]]}],\"mesh3d\":[{\"type\":\"mesh3d\",\"colorbar\":{\"outlinewidth\":0,\"ticks\":\"\"}}],\"scatter\":[{\"fillpattern\":{\"fillmode\":\"overlay\",\"size\":10,\"solidity\":0.2},\"type\":\"scatter\"}],\"parcoords\":[{\"type\":\"parcoords\",\"line\":{\"colorbar\":{\"outlinewidth\":0,\"ticks\":\"\"}}}],\"scatterpolargl\":[{\"type\":\"scatterpolargl\",\"marker\":{\"colorbar\":{\"outlinewidth\":0,\"ticks\":\"\"}}}],\"bar\":[{\"error_x\":{\"color\":\"#2a3f5f\"},\"error_y\":{\"color\":\"#2a3f5f\"},\"marker\":{\"line\":{\"color\":\"#E5ECF6\",\"width\":0.5},\"pattern\":{\"fillmode\":\"overlay\",\"size\":10,\"solidity\":0.2}},\"type\":\"bar\"}],\"scattergeo\":[{\"type\":\"scattergeo\",\"marker\":{\"colorbar\":{\"outlinewidth\":0,\"ticks\":\"\"}}}],\"scatterpolar\":[{\"type\":\"scatterpolar\",\"marker\":{\"colorbar\":{\"outlinewidth\":0,\"ticks\":\"\"}}}],\"histogram\":[{\"marker\":{\"pattern\":{\"fillmode\":\"overlay\",\"size\":10,\"solidity\":0.2}},\"type\":\"histogram\"}],\"scattergl\":[{\"type\":\"scattergl\",\"marker\":{\"colorbar\":{\"outlinewidth\":0,\"ticks\":\"\"}}}],\"scatter3d\":[{\"type\":\"scatter3d\",\"line\":{\"colorbar\":{\"outlinewidth\":0,\"ticks\":\"\"}},\"marker\":{\"colorbar\":{\"outlinewidth\":0,\"ticks\":\"\"}}}],\"scattermapbox\":[{\"type\":\"scattermapbox\",\"marker\":{\"colorbar\":{\"outlinewidth\":0,\"ticks\":\"\"}}}],\"scatterternary\":[{\"type\":\"scatterternary\",\"marker\":{\"colorbar\":{\"outlinewidth\":0,\"ticks\":\"\"}}}],\"scattercarpet\":[{\"type\":\"scattercarpet\",\"marker\":{\"colorbar\":{\"outlinewidth\":0,\"ticks\":\"\"}}}],\"carpet\":[{\"aaxis\":{\"endlinecolor\":\"#2a3f5f\",\"gridcolor\":\"white\",\"linecolor\":\"white\",\"minorgridcolor\":\"white\",\"startlinecolor\":\"#2a3f5f\"},\"baxis\":{\"endlinecolor\":\"#2a3f5f\",\"gridcolor\":\"white\",\"linecolor\":\"white\",\"minorgridcolor\":\"white\",\"startlinecolor\":\"#2a3f5f\"},\"type\":\"carpet\"}],\"table\":[{\"cells\":{\"fill\":{\"color\":\"#EBF0F8\"},\"line\":{\"color\":\"white\"}},\"header\":{\"fill\":{\"color\":\"#C8D4E3\"},\"line\":{\"color\":\"white\"}},\"type\":\"table\"}],\"barpolar\":[{\"marker\":{\"line\":{\"color\":\"#E5ECF6\",\"width\":0.5},\"pattern\":{\"fillmode\":\"overlay\",\"size\":10,\"solidity\":0.2}},\"type\":\"barpolar\"}],\"pie\":[{\"automargin\":true,\"type\":\"pie\"}]},\"layout\":{\"autotypenumbers\":\"strict\",\"colorway\":[\"#636efa\",\"#EF553B\",\"#00cc96\",\"#ab63fa\",\"#FFA15A\",\"#19d3f3\",\"#FF6692\",\"#B6E880\",\"#FF97FF\",\"#FECB52\"],\"font\":{\"color\":\"#2a3f5f\"},\"hovermode\":\"closest\",\"hoverlabel\":{\"align\":\"left\"},\"paper_bgcolor\":\"white\",\"plot_bgcolor\":\"#E5ECF6\",\"polar\":{\"bgcolor\":\"#E5ECF6\",\"angularaxis\":{\"gridcolor\":\"white\",\"linecolor\":\"white\",\"ticks\":\"\"},\"radialaxis\":{\"gridcolor\":\"white\",\"linecolor\":\"white\",\"ticks\":\"\"}},\"ternary\":{\"bgcolor\":\"#E5ECF6\",\"aaxis\":{\"gridcolor\":\"white\",\"linecolor\":\"white\",\"ticks\":\"\"},\"baxis\":{\"gridcolor\":\"white\",\"linecolor\":\"white\",\"ticks\":\"\"},\"caxis\":{\"gridcolor\":\"white\",\"linecolor\":\"white\",\"ticks\":\"\"}},\"coloraxis\":{\"colorbar\":{\"outlinewidth\":0,\"ticks\":\"\"}},\"colorscale\":{\"sequential\":[[0.0,\"#0d0887\"],[0.1111111111111111,\"#46039f\"],[0.2222222222222222,\"#7201a8\"],[0.3333333333333333,\"#9c179e\"],[0.4444444444444444,\"#bd3786\"],[0.5555555555555556,\"#d8576b\"],[0.6666666666666666,\"#ed7953\"],[0.7777777777777778,\"#fb9f3a\"],[0.8888888888888888,\"#fdca26\"],[1.0,\"#f0f921\"]],\"sequentialminus\":[[0.0,\"#0d0887\"],[0.1111111111111111,\"#46039f\"],[0.2222222222222222,\"#7201a8\"],[0.3333333333333333,\"#9c179e\"],[0.4444444444444444,\"#bd3786\"],[0.5555555555555556,\"#d8576b\"],[0.6666666666666666,\"#ed7953\"],[0.7777777777777778,\"#fb9f3a\"],[0.8888888888888888,\"#fdca26\"],[1.0,\"#f0f921\"]],\"diverging\":[[0,\"#8e0152\"],[0.1,\"#c51b7d\"],[0.2,\"#de77ae\"],[0.3,\"#f1b6da\"],[0.4,\"#fde0ef\"],[0.5,\"#f7f7f7\"],[0.6,\"#e6f5d0\"],[0.7,\"#b8e186\"],[0.8,\"#7fbc41\"],[0.9,\"#4d9221\"],[1,\"#276419\"]]},\"xaxis\":{\"gridcolor\":\"white\",\"linecolor\":\"white\",\"ticks\":\"\",\"title\":{\"standoff\":15},\"zerolinecolor\":\"white\",\"automargin\":true,\"zerolinewidth\":2},\"yaxis\":{\"gridcolor\":\"white\",\"linecolor\":\"white\",\"ticks\":\"\",\"title\":{\"standoff\":15},\"zerolinecolor\":\"white\",\"automargin\":true,\"zerolinewidth\":2},\"scene\":{\"xaxis\":{\"backgroundcolor\":\"#E5ECF6\",\"gridcolor\":\"white\",\"linecolor\":\"white\",\"showbackground\":true,\"ticks\":\"\",\"zerolinecolor\":\"white\",\"gridwidth\":2},\"yaxis\":{\"backgroundcolor\":\"#E5ECF6\",\"gridcolor\":\"white\",\"linecolor\":\"white\",\"showbackground\":true,\"ticks\":\"\",\"zerolinecolor\":\"white\",\"gridwidth\":2},\"zaxis\":{\"backgroundcolor\":\"#E5ECF6\",\"gridcolor\":\"white\",\"linecolor\":\"white\",\"showbackground\":true,\"ticks\":\"\",\"zerolinecolor\":\"white\",\"gridwidth\":2}},\"shapedefaults\":{\"line\":{\"color\":\"#2a3f5f\"}},\"annotationdefaults\":{\"arrowcolor\":\"#2a3f5f\",\"arrowhead\":0,\"arrowwidth\":1},\"geo\":{\"bgcolor\":\"white\",\"landcolor\":\"#E5ECF6\",\"subunitcolor\":\"white\",\"showland\":true,\"showlakes\":true,\"lakecolor\":\"white\"},\"title\":{\"x\":0.05},\"mapbox\":{\"style\":\"light\"}}},\"mapbox\":{\"domain\":{\"x\":[0.0,1.0],\"y\":[0.0,1.0]},\"center\":{\"lat\":-37.81373720225536,\"lon\":144.96378739120695},\"zoom\":14,\"style\":\"stamen-terrain\"},\"coloraxis\":{\"colorbar\":{\"title\":{\"text\":\"greening_priority\"}},\"colorscale\":[[0.0,\"lightgreen\"],[0.2,\"lightgreen\"],[0.21,\"green\"],[0.5,\"green\"],[0.51,\"darkgreen\"],[1,\"darkgreen\"]]},\"legend\":{\"tracegroupgap\":0},\"title\":{\"text\":\"Heatmap showing laneways with greening priotity across City of Melbourne\"},\"height\":800,\"width\":1000},                        {\"responsive\": true}                    ).then(function(){\n",
       "                            \n",
       "var gd = document.getElementById('b5d06449-1b16-4a2c-b270-c51f025c7eb4');\n",
       "var x = new MutationObserver(function (mutations, observer) {{\n",
       "        var display = window.getComputedStyle(gd).display;\n",
       "        if (!display || display === 'none') {{\n",
       "            console.log([gd, 'removed!']);\n",
       "            Plotly.purge(gd);\n",
       "            observer.disconnect();\n",
       "        }}\n",
       "}});\n",
       "\n",
       "// Listen for the removal of the full notebook cells\n",
       "var notebookContainer = gd.closest('#notebook-container');\n",
       "if (notebookContainer) {{\n",
       "    x.observe(notebookContainer, {childList: true});\n",
       "}}\n",
       "\n",
       "// Listen for the clearing of the current output cell\n",
       "var outputEl = gd.closest('.output');\n",
       "if (outputEl) {{\n",
       "    x.observe(outputEl, {childList: true});\n",
       "}}\n",
       "\n",
       "                        })                };                });            </script>        </div>"
      ]
     },
     "metadata": {},
     "output_type": "display_data"
    }
   ],
   "source": [
    "#Visualisation 2: Heatmap to show laneways with greening priotity\n",
    "fig = px.density_mapbox(laneways, lat = 'lat', lon = 'lon', z = 'greening_priority',mapbox_style=\"stamen-terrain\", radius= 40, opacity = 0.5, \n",
    "        title = 'Heatmap showing laneways with greening priotity across City of Melbourne', \n",
    "        width = 1000, height = 800, zoom = 14, hover_data= ['total_energy', 'tree_count'], hover_name = 'greening_priority',\n",
    "        color_continuous_scale= [\n",
    "                [0.0, \"lightgreen\"],\n",
    "                [0.2, \"lightgreen\"],\n",
    "                [0.21, \"green\"],\n",
    "                [0.50, \"green\"],\n",
    "                [0.51, \"darkgreen\"],\n",
    "                [1, \"darkgreen\"]])\n",
    "fig"
   ]
  },
  {
   "cell_type": "markdown",
   "metadata": {},
   "source": [
    "<div class=\"usecase-section-header\">References</div>"
   ]
  },
  {
   "cell_type": "markdown",
   "metadata": {},
   "source": [
    "City of Melbourne Open Data, 'Laneways with greening potential', City of Melbourne, date retrieved 17 May 2023, https://data.melbourne.vic.gov.au/explore/dataset/laneways-with-greening-potential/\n",
    "\n",
    "City of Melbourne Open Data, 'Trees, with species and dimensions (Urban Forest)', City of Melbourne, date retrieved 17 May 2023, https://melbournetestbed.opendatasoft.com/explore/dataset/trees-with-species-and-dimensions-urban-forest/\n",
    "\n",
    "City of Melbourne Open Data, 'Block level energy consumption (modelled on building attributes) - 2026 projection - business-as-usual scenario', City of Melbourne, date retrieved 17 May 2023, \n",
    "https://data.melbourne.vic.gov.au/explore/dataset/block-level-energy-consumption-modelled-on-building-attributes-2026-projection-b/information/\n"
   ]
  }
 ],
 "metadata": {
  "kernelspec": {
   "display_name": "Python 3",
   "language": "python",
   "name": "python3"
  },
  "language_info": {
   "codemirror_mode": {
    "name": "ipython",
    "version": 3
   },
   "file_extension": ".py",
   "mimetype": "text/x-python",
   "name": "python",
   "nbconvert_exporter": "python",
   "pygments_lexer": "ipython3",
   "version": "3.8.5"
  },
  "vscode": {
   "interpreter": {
    "hash": "369f2c481f4da34e4445cda3fffd2e751bd1c4d706f27375911949ba6bb62e1c"
   }
  }
 },
 "nbformat": 4,
 "nbformat_minor": 4
}
