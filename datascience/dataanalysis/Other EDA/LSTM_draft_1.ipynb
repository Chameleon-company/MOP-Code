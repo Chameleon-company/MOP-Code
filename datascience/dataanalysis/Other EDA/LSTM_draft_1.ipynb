{
 "cells": [
  {
   "cell_type": "code",
   "execution_count": 1,
   "id": "e17402e6",
   "metadata": {},
   "outputs": [],
   "source": [
    "from numpy import array\n",
    "import keras\n",
    "from keras.models import Sequential\n",
    "from keras.layers import LSTM\n",
    "from keras.layers import Dense\n",
    "from keras.layers import Bidirectional\n",
    "from keras.utils import to_categorical\n",
    "from keras.layers import Conv2D\n",
    "from keras.layers import MaxPooling2D\n",
    "from keras.layers import Flatten\n",
    "from keras.layers import Dropout\n",
    "from keras.optimizers import SGD\n",
    "import tensorflow as tf\n",
    "\n",
    "from sklearn.metrics import r2_score\n",
    "import pandas as pd\n",
    "# from sodapy import Socrata\n",
    "\n"
   ]
  },
  {
   "cell_type": "code",
   "execution_count": 2,
   "id": "fa0698cc",
   "metadata": {},
   "outputs": [],
   "source": [
    "#Uncomment the below to open data source, download sensor data, and store it as a csv locally.\n",
    "\n",
    "##Function to get Sensor count history data\n",
    "# def sensor_count():\n",
    "#     client = Socrata('data.melbourne.vic.gov.au', 'nlPM0PQJSjzCsbVqntjPvjB1f', None)\n",
    "#     sensor_data_id = \"b2ak-trbp\"\n",
    "#     results = client.get(sensor_data_id, limit=5000000)\n",
    "#     df = pd.DataFrame.from_records(results)\n",
    "#     df = df[['date_time', 'year', 'month', 'mdate', 'day', 'time', 'sensor_id', 'sensor_name', 'hourly_counts']]\n",
    "#     return df\n",
    "\n",
    "# sensor_history = sensor_count()\n",
    "\n",
    "# sensor_history.to_csv('sensor_history.csv', index=False)"
   ]
  },
  {
   "cell_type": "code",
   "execution_count": 31,
   "id": "de2ec307",
   "metadata": {},
   "outputs": [],
   "source": [
    "sensor_history = pd.read_csv('sensor_history.csv')"
   ]
  },
  {
   "cell_type": "code",
   "execution_count": 32,
   "id": "bc533f45",
   "metadata": {},
   "outputs": [],
   "source": [
    "single_sensor = sensor_history[sensor_history.sensor_id == 4].copy()\n",
    "single_sensor.sort_values('date_time', inplace=True, ascending=True)"
   ]
  },
  {
   "cell_type": "code",
   "execution_count": 33,
   "id": "b191deef",
   "metadata": {},
   "outputs": [],
   "source": [
    "#Make sensor counts range from 0 to 1.\n",
    "maximum = single_sensor.hourly_counts.max()\n",
    "single_sensor['hourly_counts'] = single_sensor['hourly_counts']/maximum"
   ]
  },
  {
   "cell_type": "code",
   "execution_count": 34,
   "id": "0226a0bb",
   "metadata": {},
   "outputs": [],
   "source": [
    "sensor_seq = []\n",
    "for i in range(0, len(single_sensor)):\n",
    "    sensor_seq.append(single_sensor.hourly_counts.iloc[i])"
   ]
  },
  {
   "cell_type": "code",
   "execution_count": 75,
   "id": "3e8a16e6",
   "metadata": {},
   "outputs": [],
   "source": [
    "# split a univariate sequence\n",
    "def split_sequence(sequence, n_steps):\n",
    "    X, y = list(), list()\n",
    "    for i in range(len(sequence)):\n",
    "        # find the end of this pattern\n",
    "        end_ix = i + n_steps\n",
    "        # check if we are beyond the sequence\n",
    "        if end_ix > len(sequence)-1:\n",
    "            break\n",
    "        # gather input and output parts of the pattern\n",
    "        seq_x, seq_y = sequence[i:end_ix], sequence[end_ix]\n",
    "        X.append(seq_x)\n",
    "        y.append(seq_y)\n",
    "    return array(X), array(y)\n",
    "\n",
    "# choose a number of time steps\n",
    "n_steps = 196\n",
    "# split into samples\n",
    "X, y = split_sequence(sensor_seq, n_steps)\n"
   ]
  },
  {
   "cell_type": "code",
   "execution_count": 76,
   "id": "37f71f64",
   "metadata": {},
   "outputs": [],
   "source": [
    "# reshape from [samples, timesteps] into [samples, timesteps, features]\n",
    "n_features = 1\n",
    "X = X.reshape((X.shape[0], X.shape[1], n_features))\n"
   ]
  },
  {
   "cell_type": "code",
   "execution_count": 77,
   "id": "88d05ca7",
   "metadata": {},
   "outputs": [],
   "source": [
    "X_train = X[10001:80000]\n",
    "X_val = X[80001:]\n",
    "X_test = X[:10000]\n",
    "Y_train = y[10001:80000]\n",
    "Y_val = y[80001:]\n",
    "Y_test = y[:10000]"
   ]
  },
  {
   "cell_type": "code",
   "execution_count": 80,
   "id": "49d65fee",
   "metadata": {},
   "outputs": [],
   "source": [
    "epochs = 50\n",
    "learning_rate = 0.00001\n",
    "decay_rate = learning_rate / epochs\n",
    "momentum = 0.8\n",
    "\n",
    "# define model\n",
    "model = Sequential()\n",
    "# model.add(LSTM(168, activation='relu', input_shape=(n_steps, n_features)))\n",
    "# model.add(Dropout(0.2))\n",
    "# model.add(Bidirectional(LSTM(50, activation='relu'), input_shape=(n_steps, n_features)))\n",
    "# model.add(LSTM(24, return_sequences=True, input_shape=(n_steps, n_features)))\n",
    "# model.add(Dropout(0.1))\n",
    "model.add(LSTM(48, return_sequences=True, input_shape=(n_steps, n_features)))\n",
    "model.add(Dropout(0.15))\n",
    "model.add(LSTM(96, return_sequences=True, input_shape=(n_steps, n_features)))\n",
    "model.add(Dropout(0.15))\n",
    "model.add(LSTM(120, input_shape=(n_steps, n_features)))\n",
    "model.add(Dropout(0.15))\n",
    "model.add(Dense(48, kernel_initializer='normal', activation='relu'))\n",
    "model.add(Dropout(0.15))\n",
    "model.add(Dense(1, kernel_initializer='normal', activation='sigmoid'))\n",
    "\n",
    "opt = keras.optimizers.Adam(learning_rate=learning_rate)\n",
    "\n",
    "model.compile(optimizer=opt, loss='mse')\n"
   ]
  },
  {
   "cell_type": "code",
   "execution_count": 81,
   "id": "8008907c",
   "metadata": {},
   "outputs": [
    {
     "name": "stdout",
     "output_type": "stream",
     "text": [
      "Epoch 1/45\n",
      "1094/1094 [==============================] - 562s 514ms/step - loss: 0.0532 - val_loss: 0.0214\n",
      "Epoch 2/45\n",
      "1094/1094 [==============================] - 560s 512ms/step - loss: 0.0258 - val_loss: 0.0223\n",
      "Epoch 3/45\n",
      "1094/1094 [==============================] - 563s 515ms/step - loss: 0.0256 - val_loss: 0.0238\n",
      "Epoch 4/45\n",
      "1094/1094 [==============================] - 569s 520ms/step - loss: 0.0254 - val_loss: 0.0262\n",
      "Epoch 5/45\n",
      "1094/1094 [==============================] - 568s 519ms/step - loss: 0.0162 - val_loss: 0.0060\n",
      "Epoch 6/45\n",
      "1094/1094 [==============================] - 568s 519ms/step - loss: 0.0045 - val_loss: 0.0039\n",
      "Epoch 7/45\n",
      "1094/1094 [==============================] - 562s 513ms/step - loss: 0.0041 - val_loss: 0.0033\n",
      "Epoch 8/45\n",
      "1094/1094 [==============================] - 560s 512ms/step - loss: 0.0039 - val_loss: 0.0032\n",
      "Epoch 9/45\n",
      "1094/1094 [==============================] - 562s 514ms/step - loss: 0.0038 - val_loss: 0.0035\n",
      "Epoch 10/45\n",
      "1094/1094 [==============================] - 562s 514ms/step - loss: 0.0036 - val_loss: 0.0030\n",
      "Epoch 11/45\n",
      "1094/1094 [==============================] - 563s 514ms/step - loss: 0.0035 - val_loss: 0.0033\n",
      "Epoch 12/45\n",
      "1094/1094 [==============================] - 562s 514ms/step - loss: 0.0034 - val_loss: 0.0032\n",
      "Epoch 13/45\n",
      "1094/1094 [==============================] - 562s 513ms/step - loss: 0.0033 - val_loss: 0.0029\n",
      "Epoch 14/45\n",
      "1094/1094 [==============================] - 562s 514ms/step - loss: 0.0033 - val_loss: 0.0028\n",
      "Epoch 15/45\n",
      "1094/1094 [==============================] - 562s 514ms/step - loss: 0.0033 - val_loss: 0.0029\n",
      "Epoch 16/45\n",
      "1094/1094 [==============================] - 562s 513ms/step - loss: 0.0033 - val_loss: 0.0025\n",
      "Epoch 17/45\n",
      "1094/1094 [==============================] - 562s 514ms/step - loss: 0.0032 - val_loss: 0.0025\n",
      "Epoch 18/45\n",
      "1094/1094 [==============================] - 561s 513ms/step - loss: 0.0031 - val_loss: 0.0027\n",
      "Epoch 19/45\n",
      "1094/1094 [==============================] - 561s 513ms/step - loss: 0.0032 - val_loss: 0.0022\n",
      "Epoch 20/45\n",
      "1094/1094 [==============================] - 562s 514ms/step - loss: 0.0032 - val_loss: 0.0025\n",
      "Epoch 21/45\n",
      "1094/1094 [==============================] - 562s 513ms/step - loss: 0.0031 - val_loss: 0.0024\n",
      "Epoch 22/45\n",
      "1094/1094 [==============================] - 562s 514ms/step - loss: 0.0030 - val_loss: 0.0025\n",
      "Epoch 23/45\n",
      "1094/1094 [==============================] - 563s 514ms/step - loss: 0.0030 - val_loss: 0.0023\n",
      "Epoch 24/45\n",
      "1094/1094 [==============================] - 562s 513ms/step - loss: 0.0030 - val_loss: 0.0024\n",
      "Epoch 25/45\n",
      "1094/1094 [==============================] - 562s 513ms/step - loss: 0.0029 - val_loss: 0.0026\n",
      "Epoch 26/45\n",
      "1094/1094 [==============================] - 562s 513ms/step - loss: 0.0029 - val_loss: 0.0025\n",
      "Epoch 27/45\n",
      "1094/1094 [==============================] - 562s 514ms/step - loss: 0.0029 - val_loss: 0.0026\n",
      "Epoch 28/45\n",
      "1094/1094 [==============================] - 561s 513ms/step - loss: 0.0028 - val_loss: 0.0026\n",
      "Epoch 29/45\n",
      "1094/1094 [==============================] - 562s 514ms/step - loss: 0.0028 - val_loss: 0.0026\n",
      "Epoch 30/45\n",
      "1094/1094 [==============================] - 563s 514ms/step - loss: 0.0028 - val_loss: 0.0027\n",
      "Epoch 31/45\n",
      "1094/1094 [==============================] - 562s 514ms/step - loss: 0.0028 - val_loss: 0.0027\n",
      "Epoch 32/45\n",
      "1094/1094 [==============================] - 562s 514ms/step - loss: 0.0028 - val_loss: 0.0027\n",
      "Epoch 33/45\n",
      "1094/1094 [==============================] - 562s 513ms/step - loss: 0.0029 - val_loss: 0.0026\n",
      "Epoch 34/45\n",
      "1094/1094 [==============================] - 562s 513ms/step - loss: 0.0027 - val_loss: 0.0031\n",
      "Epoch 35/45\n",
      "1094/1094 [==============================] - 561s 513ms/step - loss: 0.0027 - val_loss: 0.0027\n",
      "Epoch 36/45\n",
      "1094/1094 [==============================] - 562s 514ms/step - loss: 0.0027 - val_loss: 0.0027\n",
      "Epoch 37/45\n",
      "1094/1094 [==============================] - 561s 513ms/step - loss: 0.0027 - val_loss: 0.0031\n",
      "Epoch 38/45\n",
      "1094/1094 [==============================] - 561s 513ms/step - loss: 0.0027 - val_loss: 0.0028\n",
      "Epoch 39/45\n",
      "1094/1094 [==============================] - 562s 513ms/step - loss: 0.0026 - val_loss: 0.0029\n",
      "Epoch 40/45\n",
      "1094/1094 [==============================] - 562s 513ms/step - loss: 0.0026 - val_loss: 0.0028\n",
      "Epoch 41/45\n",
      "1094/1094 [==============================] - 561s 513ms/step - loss: 0.0027 - val_loss: 0.0030\n",
      "Epoch 42/45\n",
      "1094/1094 [==============================] - 562s 514ms/step - loss: 0.0026 - val_loss: 0.0028\n",
      "Epoch 43/45\n",
      "1094/1094 [==============================] - 561s 513ms/step - loss: 0.0026 - val_loss: 0.0030\n",
      "Epoch 44/45\n",
      "1094/1094 [==============================] - 562s 513ms/step - loss: 0.0025 - val_loss: 0.0029\n",
      "Epoch 45/45\n",
      "1094/1094 [==============================] - 563s 514ms/step - loss: 0.0025 - val_loss: 0.0029\n"
     ]
    },
    {
     "data": {
      "text/plain": [
       "<tensorflow.python.keras.callbacks.History at 0x20b17d58280>"
      ]
     },
     "execution_count": 81,
     "metadata": {},
     "output_type": "execute_result"
    }
   ],
   "source": [
    "# fit model\n",
    "model.fit(X_train, Y_train, validation_data =(X_val, Y_val), epochs=45, verbose=1, batch_size = 64)\n"
   ]
  },
  {
   "cell_type": "code",
   "execution_count": 84,
   "id": "612be277",
   "metadata": {},
   "outputs": [
    {
     "name": "stdout",
     "output_type": "stream",
     "text": [
      "predicted next value:  [[782.87524]]\n",
      "actual next value:  636.0\n"
     ]
    }
   ],
   "source": [
    "# demonstrate prediction\n",
    "x_input = array(sensor_seq[10001:10197])\n",
    "# x_input = x_input/maximum\n",
    "x_input = x_input.reshape((1, n_steps, n_features))\n",
    "yhat = model.predict(x_input, verbose=0)\n",
    "print(\"predicted next value: \", yhat * maximum)\n",
    "print(\"actual next value: \", sensor_seq[10197] * maximum)"
   ]
  },
  {
   "cell_type": "code",
   "execution_count": 85,
   "id": "d11a2b8a",
   "metadata": {},
   "outputs": [
    {
     "name": "stdout",
     "output_type": "stream",
     "text": [
      "predicted next value:  [[2895.828]]\n",
      "actual next value:  3111.0\n"
     ]
    }
   ],
   "source": [
    "# demonstrate prediction\n",
    "x_input = array(sensor_seq[10021:10217])\n",
    "x_input = x_input.reshape((1, n_steps, n_features))\n",
    "yhat = model.predict(x_input, verbose=0)\n",
    "print(\"predicted next value: \", yhat * maximum)\n",
    "print(\"actual next value: \", sensor_seq[10217] * maximum)"
   ]
  },
  {
   "cell_type": "code",
   "execution_count": 82,
   "id": "8dcc31d6",
   "metadata": {},
   "outputs": [],
   "source": [
    "pred = model.predict(X_test)"
   ]
  },
  {
   "cell_type": "code",
   "execution_count": 83,
   "id": "6be64d81",
   "metadata": {},
   "outputs": [
    {
     "data": {
      "text/plain": [
       "0.9189010610843554"
      ]
     },
     "execution_count": 83,
     "metadata": {},
     "output_type": "execute_result"
    }
   ],
   "source": [
    "r2_score(Y_test, pred)"
   ]
  },
  {
   "cell_type": "code",
   "execution_count": 86,
   "id": "65ae012a",
   "metadata": {},
   "outputs": [],
   "source": [
    "# model.save(\"model_2.h5\")"
   ]
  }
 ],
 "metadata": {
  "kernelspec": {
   "display_name": "SIT782_TF",
   "language": "python",
   "name": "sit782_tf"
  },
  "language_info": {
   "codemirror_mode": {
    "name": "ipython",
    "version": 3
   },
   "file_extension": ".py",
   "mimetype": "text/x-python",
   "name": "python",
   "nbconvert_exporter": "python",
   "pygments_lexer": "ipython3",
   "version": "3.8.13"
  }
 },
 "nbformat": 4,
 "nbformat_minor": 5
}
