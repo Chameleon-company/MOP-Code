{
 "cells": [
  {
   "cell_type": "code",
   "execution_count": 22,
   "id": "e17402e6",
   "metadata": {},
   "outputs": [],
   "source": [
    "from numpy import array\n",
    "import keras\n",
    "from keras.models import Sequential\n",
    "from keras.layers import LSTM\n",
    "from keras.layers import Dense\n",
    "from keras.layers import Bidirectional\n",
    "from keras.utils import to_categorical\n",
    "from keras.layers import Conv2D\n",
    "from keras.layers import MaxPooling2D\n",
    "from keras.layers import Flatten\n",
    "from keras.layers import Dropout\n",
    "from keras.optimizers import SGD\n",
    "\n",
    "import pandas as pd\n",
    "from sodapy import Socrata\n",
    "\n"
   ]
  },
  {
   "cell_type": "code",
   "execution_count": 2,
   "id": "fa0698cc",
   "metadata": {},
   "outputs": [],
   "source": [
    "#Uncomment the below to open data source, download sensor data, and store it as a csv locally.\n",
    "\n",
    "##Function to get Sensor count history data\n",
    "# def sensor_count():\n",
    "#     client = Socrata('data.melbourne.vic.gov.au', 'nlPM0PQJSjzCsbVqntjPvjB1f', None)\n",
    "#     sensor_data_id = \"b2ak-trbp\"\n",
    "#     results = client.get(sensor_data_id, limit=5000000)\n",
    "#     df = pd.DataFrame.from_records(results)\n",
    "#     df = df[['date_time', 'year', 'month', 'mdate', 'day', 'time', 'sensor_id', 'sensor_name', 'hourly_counts']]\n",
    "#     return df\n",
    "\n",
    "# sensor_history = sensor_count()\n",
    "\n",
    "# sensor_history.to_csv('sensor_history.csv', index=False)"
   ]
  },
  {
   "cell_type": "code",
   "execution_count": 50,
   "id": "de2ec307",
   "metadata": {},
   "outputs": [],
   "source": [
    "sensor_history = pd.read_csv('sensor_history.csv')"
   ]
  },
  {
   "cell_type": "code",
   "execution_count": 57,
   "id": "bc533f45",
   "metadata": {},
   "outputs": [],
   "source": [
    "single_sensor = sensor_history[sensor_history.sensor_id == 4].copy()"
   ]
  },
  {
   "cell_type": "code",
   "execution_count": 58,
   "id": "b191deef",
   "metadata": {},
   "outputs": [],
   "source": [
    "#Make sensor counts range from 0 to 1.\n",
    "maximum = single_sensor.hourly_counts.max()\n",
    "single_sensor['hourly_counts'] = single_sensor['hourly_counts']/maximum"
   ]
  },
  {
   "cell_type": "code",
   "execution_count": 59,
   "id": "0226a0bb",
   "metadata": {},
   "outputs": [],
   "source": [
    "sensor_seq = []\n",
    "for i in range(0, len(single_sensor)):\n",
    "    sensor_seq.append(single_sensor.hourly_counts.iloc[i])"
   ]
  },
  {
   "cell_type": "code",
   "execution_count": 60,
   "id": "3e8a16e6",
   "metadata": {},
   "outputs": [],
   "source": [
    "# split a univariate sequence\n",
    "def split_sequence(sequence, n_steps):\n",
    "    X, y = list(), list()\n",
    "    for i in range(len(sequence)):\n",
    "        # find the end of this pattern\n",
    "        end_ix = i + n_steps\n",
    "        # check if we are beyond the sequence\n",
    "        if end_ix > len(sequence)-1:\n",
    "            break\n",
    "        # gather input and output parts of the pattern\n",
    "        seq_x, seq_y = sequence[i:end_ix], sequence[end_ix]\n",
    "        X.append(seq_x)\n",
    "        y.append(seq_y)\n",
    "    return array(X), array(y)\n",
    "\n",
    "# choose a number of time steps\n",
    "n_steps = 14\n",
    "# split into samples\n",
    "X, y = split_sequence(sensor_seq, n_steps)\n"
   ]
  },
  {
   "cell_type": "code",
   "execution_count": 61,
   "id": "37f71f64",
   "metadata": {},
   "outputs": [],
   "source": [
    "# reshape from [samples, timesteps] into [samples, timesteps, features]\n",
    "n_features = 1\n",
    "X = X.reshape((X.shape[0], X.shape[1], n_features))\n"
   ]
  },
  {
   "cell_type": "code",
   "execution_count": 62,
   "id": "49d65fee",
   "metadata": {},
   "outputs": [],
   "source": [
    "epochs = 50\n",
    "learning_rate = 0.001\n",
    "decay_rate = learning_rate / epochs\n",
    "momentum = 0.8\n",
    "\n",
    "# define model\n",
    "model = Sequential()\n",
    "# model.add(LSTM(50, activation='relu', input_shape=(n_steps, n_features)))\n",
    "# model.add(Dropout(0.2))\n",
    "# model.add(Bidirectional(LSTM(50, activation='relu'), input_shape=(n_steps, n_features)))\n",
    "model.add(LSTM(100, return_sequences=True, input_shape=(n_steps, n_features)))\n",
    "model.add(LSTM(100, input_shape=(n_steps, n_features)))\n",
    "model.add(Dropout(0.2))\n",
    "model.add(Dense(13, kernel_initializer='normal', activation='relu'))\n",
    "model.add(Dense(1, kernel_initializer='normal', activation='sigmoid'))\n",
    "\n",
    "opt = keras.optimizers.Adam(learning_rate=learning_rate)\n",
    "\n",
    "model.compile(optimizer=opt, loss='mse')\n"
   ]
  },
  {
   "cell_type": "code",
   "execution_count": 63,
   "id": "8008907c",
   "metadata": {},
   "outputs": [
    {
     "name": "stdout",
     "output_type": "stream",
     "text": [
      "Epoch 1/50\n",
      "3368/3368 [==============================] - 50s 15ms/step - loss: 0.0087\n",
      "Epoch 2/50\n",
      "3368/3368 [==============================] - 51s 15ms/step - loss: 0.0011\n",
      "Epoch 3/50\n",
      "3368/3368 [==============================] - 51s 15ms/step - loss: 9.9722e-04\n",
      "Epoch 4/50\n",
      "3368/3368 [==============================] - 50s 15ms/step - loss: 9.0063e-04\n",
      "Epoch 5/50\n",
      "3368/3368 [==============================] - 49s 15ms/step - loss: 8.4081e-04\n",
      "Epoch 6/50\n",
      "3368/3368 [==============================] - 48s 14ms/step - loss: 8.0537e-04\n",
      "Epoch 7/50\n",
      "3368/3368 [==============================] - 48s 14ms/step - loss: 7.8091e-04\n",
      "Epoch 8/50\n",
      "3368/3368 [==============================] - 48s 14ms/step - loss: 7.5872e-04\n",
      "Epoch 9/50\n",
      "3368/3368 [==============================] - 48s 14ms/step - loss: 7.3889e-04\n",
      "Epoch 10/50\n",
      "3368/3368 [==============================] - 48s 14ms/step - loss: 7.2262e-04\n",
      "Epoch 11/50\n",
      "3368/3368 [==============================] - 48s 14ms/step - loss: 7.1033e-04\n",
      "Epoch 12/50\n",
      "3368/3368 [==============================] - 48s 14ms/step - loss: 6.9904e-04\n",
      "Epoch 13/50\n",
      "3368/3368 [==============================] - 48s 14ms/step - loss: 6.8730e-04\n",
      "Epoch 14/50\n",
      "3368/3368 [==============================] - 48s 14ms/step - loss: 6.8035e-04\n",
      "Epoch 15/50\n",
      "3368/3368 [==============================] - 48s 14ms/step - loss: 6.6844e-04\n",
      "Epoch 16/50\n",
      "3368/3368 [==============================] - 48s 14ms/step - loss: 6.5790e-04\n",
      "Epoch 17/50\n",
      "3368/3368 [==============================] - 48s 14ms/step - loss: 6.5017e-04\n",
      "Epoch 18/50\n",
      "3368/3368 [==============================] - 48s 14ms/step - loss: 6.4271e-04\n",
      "Epoch 19/50\n",
      "3368/3368 [==============================] - 48s 14ms/step - loss: 6.3713e-04\n",
      "Epoch 20/50\n",
      "3368/3368 [==============================] - 48s 14ms/step - loss: 6.3537e-04\n",
      "Epoch 21/50\n",
      "3368/3368 [==============================] - 48s 14ms/step - loss: 6.2321e-04\n",
      "Epoch 22/50\n",
      "3368/3368 [==============================] - 48s 14ms/step - loss: 6.2070e-04\n",
      "Epoch 23/50\n",
      "3368/3368 [==============================] - 48s 14ms/step - loss: 6.1088e-04\n",
      "Epoch 24/50\n",
      "3368/3368 [==============================] - 48s 14ms/step - loss: 6.0878e-04\n",
      "Epoch 25/50\n",
      "3368/3368 [==============================] - 48s 14ms/step - loss: 5.9635e-04\n",
      "Epoch 26/50\n",
      "3368/3368 [==============================] - 48s 14ms/step - loss: 5.9894e-04\n",
      "Epoch 27/50\n",
      "3368/3368 [==============================] - 48s 14ms/step - loss: 5.9325e-04\n",
      "Epoch 28/50\n",
      "3368/3368 [==============================] - 48s 14ms/step - loss: 5.8513e-04\n",
      "Epoch 29/50\n",
      "3368/3368 [==============================] - 48s 14ms/step - loss: 5.7927e-04\n",
      "Epoch 30/50\n",
      "3368/3368 [==============================] - 48s 14ms/step - loss: 5.7430e-04\n",
      "Epoch 31/50\n",
      "3368/3368 [==============================] - 48s 14ms/step - loss: 5.7073e-04\n",
      "Epoch 32/50\n",
      "3368/3368 [==============================] - 48s 14ms/step - loss: 5.6487e-04\n",
      "Epoch 33/50\n",
      "3368/3368 [==============================] - 48s 14ms/step - loss: 5.5710e-04\n",
      "Epoch 34/50\n",
      "3368/3368 [==============================] - 48s 14ms/step - loss: 5.4964e-04\n",
      "Epoch 35/50\n",
      "3368/3368 [==============================] - 48s 14ms/step - loss: 5.5328e-04\n",
      "Epoch 36/50\n",
      "3368/3368 [==============================] - 48s 14ms/step - loss: 5.4946e-04\n",
      "Epoch 37/50\n",
      "3368/3368 [==============================] - 48s 14ms/step - loss: 5.4599e-04\n",
      "Epoch 38/50\n",
      "3368/3368 [==============================] - 48s 14ms/step - loss: 5.3836e-04\n",
      "Epoch 39/50\n",
      "3368/3368 [==============================] - 48s 14ms/step - loss: 5.3611e-04\n",
      "Epoch 40/50\n",
      "3368/3368 [==============================] - 48s 14ms/step - loss: 5.2693e-04\n",
      "Epoch 41/50\n",
      "3368/3368 [==============================] - 48s 14ms/step - loss: 5.2899e-04\n",
      "Epoch 42/50\n",
      "3368/3368 [==============================] - 48s 14ms/step - loss: 5.2926e-04\n",
      "Epoch 43/50\n",
      "3368/3368 [==============================] - 48s 14ms/step - loss: 5.2511e-04\n",
      "Epoch 44/50\n",
      "3368/3368 [==============================] - 48s 14ms/step - loss: 5.1571e-04\n",
      "Epoch 45/50\n",
      "3368/3368 [==============================] - 48s 14ms/step - loss: 5.1416e-04\n",
      "Epoch 46/50\n",
      "3368/3368 [==============================] - 48s 14ms/step - loss: 5.1096e-04\n",
      "Epoch 47/50\n",
      "3368/3368 [==============================] - 48s 14ms/step - loss: 5.0954e-04\n",
      "Epoch 48/50\n",
      "3368/3368 [==============================] - 48s 14ms/step - loss: 5.0422e-04\n",
      "Epoch 49/50\n",
      "3368/3368 [==============================] - 48s 14ms/step - loss: 4.9922e-04\n",
      "Epoch 50/50\n",
      "3368/3368 [==============================] - 48s 14ms/step - loss: 5.0027e-04\n"
     ]
    },
    {
     "data": {
      "text/plain": [
       "<tensorflow.python.keras.callbacks.History at 0x2273d895490>"
      ]
     },
     "execution_count": 63,
     "metadata": {},
     "output_type": "execute_result"
    }
   ],
   "source": [
    "# fit model\n",
    "model.fit(X, y, epochs=50, verbose=1)\n"
   ]
  },
  {
   "cell_type": "code",
   "execution_count": 67,
   "id": "612be277",
   "metadata": {},
   "outputs": [
    {
     "name": "stdout",
     "output_type": "stream",
     "text": [
      "predicted next value:  [[561.71326]]\n",
      "actual next value:  404.0\n"
     ]
    }
   ],
   "source": [
    "# demonstrate prediction\n",
    "x_input = array(sensor_seq[1:15])\n",
    "# x_input = x_input/maximum\n",
    "x_input = x_input.reshape((1, n_steps, n_features))\n",
    "yhat = model.predict(x_input, verbose=0)\n",
    "print(\"predicted next value: \", yhat * maximum)\n",
    "print(\"actual next value: \", sensor_seq[15] * maximum)"
   ]
  },
  {
   "cell_type": "code",
   "execution_count": 68,
   "id": "d11a2b8a",
   "metadata": {},
   "outputs": [
    {
     "name": "stdout",
     "output_type": "stream",
     "text": [
      "predicted next value:  [[97.81108]]\n",
      "actual next value:  126.00000000000001\n"
     ]
    }
   ],
   "source": [
    "# demonstrate prediction\n",
    "x_input = array(sensor_seq[21:35])\n",
    "x_input = x_input.reshape((1, n_steps, n_features))\n",
    "yhat = model.predict(x_input, verbose=0)\n",
    "print(\"predicted next value: \", yhat * maximum)\n",
    "print(\"actual next value: \", sensor_seq[35] * maximum)"
   ]
  },
  {
   "cell_type": "code",
   "execution_count": null,
   "id": "8dcc31d6",
   "metadata": {},
   "outputs": [],
   "source": []
  },
  {
   "cell_type": "code",
   "execution_count": null,
   "id": "e69b76f6",
   "metadata": {},
   "outputs": [],
   "source": []
  },
  {
   "cell_type": "code",
   "execution_count": null,
   "id": "6be64d81",
   "metadata": {},
   "outputs": [],
   "source": []
  }
 ],
 "metadata": {
  "kernelspec": {
   "display_name": "SIT782_TF",
   "language": "python",
   "name": "sit782_tf"
  },
  "language_info": {
   "codemirror_mode": {
    "name": "ipython",
    "version": 3
   },
   "file_extension": ".py",
   "mimetype": "text/x-python",
   "name": "python",
   "nbconvert_exporter": "python",
   "pygments_lexer": "ipython3",
   "version": "3.8.13"
  }
 },
 "nbformat": 4,
 "nbformat_minor": 5
}
