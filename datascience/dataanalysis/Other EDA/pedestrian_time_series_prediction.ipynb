{
 "cells": [
  {
   "cell_type": "markdown",
   "id": "4b987efb",
   "metadata": {},
   "source": [
    "## Usecase: Predicting pedestrian numbers in Melbourne CBD\n",
    "<hr>\n",
    "<b>Applying Time Series methods to predict pedestrian numbers using the City of Melbourne's network of pedestrain sensors.</b>\n",
    "\n",
    "\n",
    "This use case will explore different methods for predictive modelling with a time series. It will begin with importing data from the pedestrian sensor network. For simplicity, we'll just focus on one sensor, the one near the Town Hall.\n",
    "\n",
    "These are the methods we will be using for time series analysis in this use case:<br>\n",
    "<list>\n",
    "* Naive approach to establish a baseline\n",
    "* LSTM - univariate\n",
    "* LSTM - multivariate\n",
    "* GRU/LSTM hybrid\n",
    "* Random Forest Regression\n",
    "* TBATS\n",
    "* SARIMAX\n",
    "</list>\n",
    "\n",
    "It is reasonable to assume that external factors can influence the number of pedestrians walking past a sensor at any particular time. So we are going to find some other datasets which look like they could be relevant, and we will incorporate them into our modelling to see if we can improve our results. These datasets will include:<br>\n",
    "<list>\n",
    "* Microclimate sensor data\n",
    "* Event data\n",
    "* Rainfall data\n",
    "* Lockdown data\n",
    "* Holiday data\n",
    "</list>\n"
   ]
  },
  {
   "cell_type": "code",
   "execution_count": 3,
   "id": "e17402e6",
   "metadata": {},
   "outputs": [],
   "source": [
    "#Import all required packages\n",
    "\n",
    "from math import sqrt\n",
    "from numpy import concatenate\n",
    "import numpy as np\n",
    "from numpy import array\n",
    "\n",
    "import keras\n",
    "from keras.models import Sequential\n",
    "from keras.layers import LSTM, BatchNormalization, GRU\n",
    "from keras.layers import Dense\n",
    "from keras.layers import Bidirectional\n",
    "from keras.utils import to_categorical\n",
    "from keras.layers import Conv2D\n",
    "from keras.layers import MaxPooling2D\n",
    "from keras.layers import Flatten\n",
    "from keras.layers import Dropout\n",
    "from keras.optimizers import SGD\n",
    "import tensorflow as tf\n",
    "\n",
    "from sklearn.metrics import r2_score\n",
    "from sklearn.preprocessing import MinMaxScaler\n",
    "from sklearn.preprocessing import LabelEncoder\n",
    "from sklearn.metrics import mean_squared_error\n",
    "\n",
    "import pandas as pd\n",
    "from pandas import read_csv\n",
    "from pandas import DataFrame\n",
    "from pandas import concat\n",
    "from matplotlib import pyplot as plt\n",
    "# from sodapy import Socrata\n",
    "\n",
    "import time\n",
    "from datetime import datetime\n",
    "\n",
    "from statsmodels.tsa.statespace.sarimax import SARIMAX\n",
    "from statsmodels.tsa.seasonal import seasonal_decompose\n",
    "from tbats import BATS, TBATS\n"
   ]
  },
  {
   "cell_type": "markdown",
   "id": "bba40bc7",
   "metadata": {},
   "source": [
    "## Import pedestrian sensor data.\n",
    "<hr>\n",
    "For this example, we will begin by grabbing the dataset. We'll only look at one of the sensors to begin with. This dataset is pretty big, so we have written code below to save it as a csv file once it is downloaded and to store is locally."
   ]
  },
  {
   "cell_type": "code",
   "execution_count": 2,
   "id": "fa0698cc",
   "metadata": {},
   "outputs": [],
   "source": [
    "# # Uncomment the below to open data source, download sensor data, and store it as a csv locally.\n",
    "\n",
    "# #Function to get Sensor count history data\n",
    "# def sensor_count():\n",
    "#     client = Socrata('data.melbourne.vic.gov.au', 'nlPM0PQJSjzCsbVqntjPvjB1f', None)\n",
    "#     sensor_data_id = \"b2ak-trbp\"\n",
    "#     results = client.get(sensor_data_id, limit=5000000)\n",
    "#     df = pd.DataFrame.from_records(results)\n",
    "#     df = df[['date_time', 'year', 'month', 'mdate', 'day', 'time', 'sensor_id', 'sensor_name', 'hourly_counts']]\n",
    "#     return df\n",
    "\n",
    "# sensor_history = sensor_count()\n",
    "\n",
    "# sensor_history.to_csv('sensor_history.csv', index=False)"
   ]
  },
  {
   "cell_type": "code",
   "execution_count": 4,
   "id": "de2ec307",
   "metadata": {},
   "outputs": [],
   "source": [
    "sensor_history = pd.read_csv('sensor_history.csv')"
   ]
  },
  {
   "cell_type": "code",
   "execution_count": 5,
   "id": "bc533f45",
   "metadata": {},
   "outputs": [],
   "source": [
    "single_sensor = sensor_history[sensor_history.sensor_id == 4].copy()\n",
    "single_sensor.sort_values('date_time', inplace=True, ascending=True)"
   ]
  },
  {
   "cell_type": "markdown",
   "id": "554e2534",
   "metadata": {},
   "source": [
    "<b>Let's do a quick visualisation:</b>\n",
    "\n",
    "We create a quick chart here, with the date on the x-axis, and the hourly counts on the y-axis.\n",
    "\n",
    "There are a few immediate observations: \n",
    "Firstly, there is a missing chunk of data around the year 2017.\n",
    "Secondly, the overall pattern has some dramatic changes in early 2020, coinciding with the arrival of Covid-19.\n",
    "Thirdly there are some potential outliers, for example an hourly count of 8000 in the year 2010."
   ]
  },
  {
   "cell_type": "code",
   "execution_count": 6,
   "id": "cf22edba",
   "metadata": {},
   "outputs": [
    {
     "data": {
      "text/plain": [
       "[<matplotlib.lines.Line2D at 0x2e8e0d2c3a0>]"
      ]
     },
     "execution_count": 6,
     "metadata": {},
     "output_type": "execute_result"
    },
    {
     "data": {
      "image/png": "[encoded data removed]",
      "text/plain": [
       "<Figure size 1080x360 with 1 Axes>"
      ]
     },
     "metadata": {
      "needs_background": "light"
     },
     "output_type": "display_data"
    }
   ],
   "source": [
    "subset = single_sensor[['date_time', 'hourly_counts']].copy()\n",
    "subset.date_time = pd.to_datetime(subset.date_time)\n",
    "plt.figure(figsize = (15, 5))\n",
    "plt.plot(subset.date_time, subset.hourly_counts)"
   ]
  },
  {
   "cell_type": "markdown",
   "id": "53a21f5d",
   "metadata": {},
   "source": [
    "<b>Use a Naive approach to create a baseline:</b>\n",
    "\n",
    "Now, it is important to understand that a model that attempts to make predictions on a time series can have reasonably good success by simply copying the value of the previous time step. In most cases, this value will be close to the next value in the sequence - and this can give the appearance of predictive ability where there is actually none.\n",
    "\n",
    "For example, if a sensor has 100 pedestrians recorded between 2am to 3am, then it is likely that the number of pedestrians recorded between 3am and 4am won't be too much more or less than 100. So a model that simply predicted '100' in this case would have reasonable accuracy. \n",
    "\n",
    "So before building models and evaluating them, it is worthwhile setting up a baseline. This is the performance attained by simply copying the hourly count from the previous time step."
   ]
  },
  {
   "cell_type": "code",
   "execution_count": 6,
   "id": "abf6ba66",
   "metadata": {},
   "outputs": [
    {
     "name": "stdout",
     "output_type": "stream",
     "text": [
      "The baseline R-squared score is: 0.8835439180056677\n"
     ]
    }
   ],
   "source": [
    "true_count = single_sensor.hourly_counts.to_numpy()\n",
    "prev_count = true_count[1:true_count.shape[0]]\n",
    "r2_baseline = r2_score(prev_count, true_count[0:true_count.shape[0]-1])   \n",
    "print(\"The baseline R-squared score is:\", r2_baseline)"
   ]
  },
  {
   "cell_type": "markdown",
   "id": "37f6b015",
   "metadata": {},
   "source": [
    "From this example we can see a fairly convincing score (at the time of writing this comment, it was around 0.884). However, we know that the model we just made is useless for our purposes.\n",
    "We need to improve on this score!\n",
    "\n",
    "<b>Preparing the data:</b>\n",
    "\n",
    "The first thing we will do is a simple kind of scaling on the 'hourly_counts'. Later, when we look at multivariate LSTM, we will use different methods of scaling the data."
   ]
  },
  {
   "cell_type": "code",
   "execution_count": 7,
   "id": "71c7717f",
   "metadata": {},
   "outputs": [],
   "source": [
    "#Make sensor counts range from 0 to 1.\n",
    "maximum = single_sensor.hourly_counts.max()\n",
    "single_sensor['hourly_counts'] = single_sensor['hourly_counts']/maximum"
   ]
  },
  {
   "cell_type": "code",
   "execution_count": 8,
   "id": "0226a0bb",
   "metadata": {},
   "outputs": [],
   "source": [
    "sensor_seq = []\n",
    "for i in range(0, len(single_sensor)):\n",
    "    sensor_seq.append(single_sensor.hourly_counts.iloc[i])"
   ]
  },
  {
   "cell_type": "code",
   "execution_count": 9,
   "id": "3e8a16e6",
   "metadata": {},
   "outputs": [],
   "source": [
    "#This code is copied almost verbatim from the website 'Machine Learning Mastery'\n",
    "#which is ne of my favourite sites to learn about machine learning!\n",
    "\n",
    "# split a univariate sequence\n",
    "def split_sequence(sequence, n_steps):\n",
    "    X, y = list(), list()\n",
    "    for i in range(len(sequence)):\n",
    "        # find the end of this pattern\n",
    "        end_ix = i + n_steps\n",
    "        # check if we are beyond the sequence\n",
    "        if end_ix > len(sequence)-1:\n",
    "            break\n",
    "        # gather input and output parts of the pattern\n",
    "        seq_x, seq_y = sequence[i:end_ix], sequence[end_ix]\n",
    "        X.append(seq_x)\n",
    "        y.append(seq_y)\n",
    "    return array(X), array(y)\n",
    "\n",
    "# choose a number of time steps\n",
    "n_steps = 168\n",
    "# split into samples\n",
    "X, y = split_sequence(sensor_seq, n_steps)\n"
   ]
  },
  {
   "cell_type": "code",
   "execution_count": 10,
   "id": "37f71f64",
   "metadata": {},
   "outputs": [],
   "source": [
    "# reshape from [samples, timesteps] into [samples, timesteps, features]\n",
    "n_features = 1\n",
    "X = X.reshape((X.shape[0], X.shape[1], n_features))"
   ]
  },
  {
   "cell_type": "markdown",
   "id": "6c4c67a6",
   "metadata": {},
   "source": [
    "These next three chunks of code use different sections of the dataset.\n",
    "Using the whole dataset takes much longer to train.\n",
    "Using the earliest sections means using data unaffected by coronavirus. This may be\n",
    "more accurate in the long run.\n",
    "Using the latest sections means using data affected by coronavirus. This may be more\n",
    "accurate while coronavirus is still having an impact."
   ]
  },
  {
   "cell_type": "code",
   "execution_count": 11,
   "id": "88d05ca7",
   "metadata": {},
   "outputs": [],
   "source": [
    "#This next code will split the entire dataset. In practice, this took a long time to train.\n",
    "\n",
    "# X_train = X[10001:80000]\n",
    "# X_val = X[80001:]\n",
    "# X_test = X[:10000]\n",
    "# Y_train = y[10001:80000]\n",
    "# Y_val = y[80001:]\n",
    "# Y_test = y[:10000]\n",
    "\n",
    "#This uses a subset of the dataset, from near the beginning of the time series.\n",
    "\n",
    "# X_train = X[15001:25000]\n",
    "# X_val = X[25001:30000]\n",
    "# X_test = X[5000:10000]\n",
    "# Y_train = y[15001:25000]\n",
    "# Y_val = y[25001:30000]\n",
    "# Y_test = y[5000:10000]\n",
    "\n",
    "#This uses a subset of the dataset, from near the end of the time series.\n",
    "\n",
    "X_train = X[85001:105000]\n",
    "X_val = X[75001:85000]\n",
    "X_test = X[65000:75000]\n",
    "Y_train = y[85001:105000]\n",
    "Y_val = y[75001:85000]\n",
    "Y_test = y[65000:75000]"
   ]
  },
  {
   "cell_type": "markdown",
   "id": "750ee5cf",
   "metadata": {},
   "source": [
    "<b>Build our first model</b>\n",
    "\n",
    "Here we build our first model - our univariate LSTM model. It is called univariate because it only uses one variable: the hourly count of pedestrians.<br>"
   ]
  },
  {
   "cell_type": "code",
   "execution_count": 12,
   "id": "49d65fee",
   "metadata": {},
   "outputs": [],
   "source": [
    "learning_rate = 0.00001\n",
    "\n",
    "# define model\n",
    "model = Sequential()\n",
    "model.add(Bidirectional(LSTM(48, return_sequences=True, input_shape=(X_train.shape[1], X_train.shape[2]))))\n",
    "model.add(Dropout(0.2))\n",
    "model.add(BatchNormalization())\n",
    "model.add(LSTM(48, return_sequences=True, input_shape=(n_steps, n_features)))\n",
    "model.add(Dropout(0.2))\n",
    "model.add(LSTM(96, return_sequences=True, input_shape=(n_steps, n_features)))\n",
    "model.add(Dropout(0.2))\n",
    "model.add(LSTM(120, return_sequences=True, input_shape=(n_steps, n_features)))\n",
    "model.add(Dropout(0.2))\n",
    "model.add(LSTM(196, input_shape=(n_steps, n_features)))\n",
    "model.add(Dropout(0.2))\n",
    "model.add(Dense(48, kernel_initializer='normal', activation='relu'))\n",
    "model.add(Dropout(0.2))\n",
    "model.add(Dense(1, kernel_initializer='normal', activation='sigmoid'))\n",
    "\n",
    "opt = keras.optimizers.Adam(learning_rate=learning_rate)\n",
    "model.compile(optimizer=opt, loss='mse')"
   ]
  },
  {
   "cell_type": "code",
   "execution_count": 13,
   "id": "8008907c",
   "metadata": {
    "scrolled": true
   },
   "outputs": [],
   "source": [
    "# fit model\n",
    "history = model.fit(X_train, Y_train, validation_data =(X_val, Y_val), epochs=50, verbose=0, batch_size = 64)"
   ]
  },
  {
   "cell_type": "markdown",
   "id": "284ff318",
   "metadata": {},
   "source": [
    "Let's have a look at how the training went. From the chart below we can see that there was no overfitting. In fact, if we added more epochs we could improve the model even further - however it would take a long time to produce even minimal gains.<br>\n",
    "\n",
    "Increasing the learning rate could make this model converge faster."
   ]
  },
  {
   "cell_type": "code",
   "execution_count": 14,
   "id": "7df11501",
   "metadata": {},
   "outputs": [
    {
     "data": {
      "image/png": "[encoded data removed]",
      "text/plain": [
       "<Figure size 864x576 with 1 Axes>"
      ]
     },
     "metadata": {
      "needs_background": "light"
     },
     "output_type": "display_data"
    }
   ],
   "source": [
    "pd.DataFrame(history.history).plot(figsize=(12,8))\n",
    "plt.grid(True)\n",
    "plt.gca().set_ylim(0, 0.05)\n",
    "plt.show()"
   ]
  },
  {
   "cell_type": "code",
   "execution_count": 15,
   "id": "612be277",
   "metadata": {},
   "outputs": [
    {
     "name": "stdout",
     "output_type": "stream",
     "text": [
      "predicted next value:  [[3048.15]]\n",
      "actual next value:  3115.0\n"
     ]
    }
   ],
   "source": [
    "# demonstrate prediction\n",
    "x_input = array(sensor_seq[1001:1001+n_steps])\n",
    "\n",
    "x_input = x_input.reshape((1, n_steps, n_features))\n",
    "yhat = model.predict(x_input, verbose=0)\n",
    "print(\"predicted next value: \", yhat  * maximum)\n",
    "print(\"actual next value: \", sensor_seq[1001+n_steps] * maximum)"
   ]
  },
  {
   "cell_type": "code",
   "execution_count": 16,
   "id": "d11a2b8a",
   "metadata": {},
   "outputs": [
    {
     "name": "stdout",
     "output_type": "stream",
     "text": [
      "predicted next value:  [[3245.8987]]\n",
      "actual next value:  3338.0\n"
     ]
    }
   ],
   "source": [
    "# demonstrate prediction\n",
    "x_input = array(sensor_seq[80001:80001+n_steps])\n",
    "x_input = x_input.reshape((1, n_steps, n_features))\n",
    "yhat = model.predict(x_input, verbose=0)\n",
    "print(\"predicted next value: \", yhat  * maximum)\n",
    "print(\"actual next value: \", sensor_seq[80001+n_steps] * maximum)"
   ]
  },
  {
   "cell_type": "code",
   "execution_count": 17,
   "id": "8dcc31d6",
   "metadata": {},
   "outputs": [
    {
     "name": "stdout",
     "output_type": "stream",
     "text": [
      "313/313 [==============================] - 10s 31ms/step\n",
      "The first R-squared score we have attained is: 0.9221161848011334\n"
     ]
    }
   ],
   "source": [
    "pred = model.predict(X_test)\n",
    "first_score = r2_score(Y_test, pred)\n",
    "print(\"The first R-squared score we have attained is:\", first_score)"
   ]
  },
  {
   "cell_type": "code",
   "execution_count": 18,
   "id": "a0e6a571",
   "metadata": {},
   "outputs": [
    {
     "data": {
      "image/png": "[encoded data removed]",
      "text/plain": [
       "<Figure size 576x360 with 1 Axes>"
      ]
     },
     "metadata": {
      "needs_background": "light"
     },
     "output_type": "display_data"
    }
   ],
   "source": [
    "#Now let us visualise the predicted values against the actual values:\n",
    "plt.figure(figsize=(8,5))\n",
    "plt.scatter(Y_test, pred)\n",
    "plt.show()"
   ]
  },
  {
   "cell_type": "code",
   "execution_count": 19,
   "id": "927877ae",
   "metadata": {},
   "outputs": [],
   "source": [
    "#Grab a random day and do a 24 hour prediction, and compare it to the actual values\n",
    "\n",
    "pred = np.zeros((24), dtype=int)\n",
    "\n",
    "for i in range (0, len(pred)):\n",
    "    x = array(sensor_seq[i + 104996:i + 104996 + n_steps])\n",
    "    x = x.reshape((1, n_steps, n_features))\n",
    "    inc_pred = model.predict(x, verbose=0)\n",
    "    pred[i] = inc_pred * maximum\n",
    "\n",
    "actual = subset.iloc[104996:105021]\n",
    "actual = actual.to_numpy()"
   ]
  },
  {
   "cell_type": "code",
   "execution_count": 20,
   "id": "769bb1ce",
   "metadata": {},
   "outputs": [
    {
     "data": {
      "text/plain": [
       "<matplotlib.legend.Legend at 0x1bf8bfbea60>"
      ]
     },
     "execution_count": 20,
     "metadata": {},
     "output_type": "execute_result"
    },
    {
     "data": {
      "image/png": "[encoded data removed]",
      "text/plain": [
       "<Figure size 1080x360 with 1 Axes>"
      ]
     },
     "metadata": {
      "needs_background": "light"
     },
     "output_type": "display_data"
    }
   ],
   "source": [
    "font1 = {'family':'serif','color':'blue','size':20}\n",
    "\n",
    "plt.figure(figsize = (15, 5))\n",
    "plt.title(\"Prediction of 24 hours of pedestrian traffic using univariate LSTM\", fontdict = font1)\n",
    "plt.xlabel('hour of the day')\n",
    "plt.ylabel('pedestrian count')\n",
    "\n",
    "plt.plot(pred, label = 'Predicted')\n",
    "plt.plot(actual[0:24,1], label = 'Actual')\n",
    "plt.legend(loc=\"upper left\")"
   ]
  },
  {
   "cell_type": "code",
   "execution_count": 21,
   "id": "5b5b4c38",
   "metadata": {},
   "outputs": [],
   "source": [
    "#Save the model:\n",
    "# model.save(\"LSTM_univariate.h5\")"
   ]
  },
  {
   "cell_type": "markdown",
   "id": "f98a0725",
   "metadata": {},
   "source": [
    "##### In this section, we will look at adding different datasets and performing mulitvariate LSTM"
   ]
  },
  {
   "cell_type": "code",
   "execution_count": 22,
   "id": "42fb7d48",
   "metadata": {},
   "outputs": [],
   "source": [
    "# #Function to get Sensor count history data\n",
    "# def micro_count():\n",
    "#     client = Socrata('data.melbourne.vic.gov.au', 'nlPM0PQJSjzCsbVqntjPvjB1f', None)\n",
    "#     micro_data_id = \"u4vh-84j8\"\n",
    "#     results = client.get(micro_data_id, limit=4000000)\n",
    "#     if results:\n",
    "#         df = pd.DataFrame.from_records(results)\n",
    "#     return df\n",
    "\n",
    "# micro_history = micro_count()\n",
    "\n",
    "# micro_history.to_csv('micro_history.csv', index=False)"
   ]
  },
  {
   "cell_type": "code",
   "execution_count": 23,
   "id": "1dc19c02",
   "metadata": {},
   "outputs": [],
   "source": [
    "micro_history = pd.read_csv('micro_history.csv')\n",
    "\n",
    "micro_history = micro_history[(micro_history.sensor_id == '5a') | (micro_history.sensor_id == '5b') |\n",
    "                             (micro_history.sensor_id == '5c') | (micro_history.sensor_id == '0a') |\n",
    "                             (micro_history.sensor_id == '0b') | (micro_history.sensor_id == '6')]\n",
    "\n",
    "micro_history = micro_history[(micro_history.site_id == 1003) | (micro_history.site_id == 1009)]\n",
    "\n",
    "micro_history = micro_history.drop(['id', 'gateway_hub_id', 'type', 'units'], axis=1)\n",
    "\n",
    "micro_history.loc[micro_history.sensor_id == '5a', 'temp'] = micro_history.value\n",
    "micro_history.loc[micro_history.sensor_id == '5b', 'humidity'] = micro_history.value\n",
    "micro_history.loc[micro_history.sensor_id == '5c', 'pressure'] = micro_history.value\n",
    "micro_history.loc[micro_history.sensor_id == '0a', 'part_2p5'] = micro_history.value\n",
    "micro_history.loc[micro_history.sensor_id == '0b', 'part_10'] = micro_history.value\n",
    "micro_history.loc[micro_history.sensor_id == '6', 'wind'] = micro_history.value\n",
    "\n",
    "micro_history.local_time = pd.to_datetime(micro_history.local_time, format='%Y-%m-%d')\n",
    "micro_history['year'] = micro_history.local_time.dt.year\n",
    "micro_history['month'] = micro_history.local_time.dt.month_name()\n",
    "micro_history['mdate'] = micro_history.local_time.dt.day\n",
    "micro_history['time'] = micro_history.local_time.dt.hour\n",
    "\n",
    "micro_history = micro_history.drop(['site_id', 'sensor_id', 'value', 'local_time'], axis=1)\n",
    "micro_history = micro_history.groupby(by=['year', 'month', 'mdate', 'time']).max()\n",
    "\n",
    "ped_climate = sensor_history.merge(micro_history, on=('year', 'month', 'mdate', 'time'), how='inner')"
   ]
  },
  {
   "cell_type": "code",
   "execution_count": 24,
   "id": "dbd5ab37",
   "metadata": {},
   "outputs": [],
   "source": [
    "single_sensor_climate = ped_climate.loc[ped_climate.sensor_name == 'Town Hall (West)'].copy()"
   ]
  },
  {
   "cell_type": "code",
   "execution_count": 25,
   "id": "a39449bc",
   "metadata": {},
   "outputs": [],
   "source": [
    "single_sensor_climate.fillna(method='ffill', inplace = True)"
   ]
  },
  {
   "cell_type": "code",
   "execution_count": 26,
   "id": "a7fb3ec4",
   "metadata": {},
   "outputs": [
    {
     "data": {
      "text/html": [
       "<div>\n",
       "<style scoped>\n",
       "    .dataframe tbody tr th:only-of-type {\n",
       "        vertical-align: middle;\n",
       "    }\n",
       "\n",
       "    .dataframe tbody tr th {\n",
       "        vertical-align: top;\n",
       "    }\n",
       "\n",
       "    .dataframe thead th {\n",
       "        text-align: right;\n",
       "    }\n",
       "</style>\n",
       "<table border=\"1\" class=\"dataframe\">\n",
       "  <thead>\n",
       "    <tr style=\"text-align: right;\">\n",
       "      <th></th>\n",
       "      <th>date_time</th>\n",
       "      <th>year</th>\n",
       "      <th>month</th>\n",
       "      <th>mdate</th>\n",
       "      <th>day</th>\n",
       "      <th>time</th>\n",
       "      <th>sensor_id</th>\n",
       "      <th>sensor_name</th>\n",
       "      <th>hourly_counts</th>\n",
       "      <th>temp</th>\n",
       "      <th>humidity</th>\n",
       "      <th>pressure</th>\n",
       "      <th>part_2p5</th>\n",
       "      <th>part_10</th>\n",
       "      <th>wind</th>\n",
       "    </tr>\n",
       "  </thead>\n",
       "  <tbody>\n",
       "    <tr>\n",
       "      <th>512</th>\n",
       "      <td>2019-11-15T09:00:00.000</td>\n",
       "      <td>2019</td>\n",
       "      <td>November</td>\n",
       "      <td>15</td>\n",
       "      <td>Friday</td>\n",
       "      <td>9</td>\n",
       "      <td>4</td>\n",
       "      <td>Town Hall (West)</td>\n",
       "      <td>1430</td>\n",
       "      <td>15.41</td>\n",
       "      <td>66.14</td>\n",
       "      <td>1008.0</td>\n",
       "      <td>4.5</td>\n",
       "      <td>18.4</td>\n",
       "      <td>7.92</td>\n",
       "    </tr>\n",
       "    <tr>\n",
       "      <th>567</th>\n",
       "      <td>2019-11-15T10:00:00.000</td>\n",
       "      <td>2019</td>\n",
       "      <td>November</td>\n",
       "      <td>15</td>\n",
       "      <td>Friday</td>\n",
       "      <td>10</td>\n",
       "      <td>4</td>\n",
       "      <td>Town Hall (West)</td>\n",
       "      <td>2101</td>\n",
       "      <td>16.12</td>\n",
       "      <td>59.41</td>\n",
       "      <td>1008.0</td>\n",
       "      <td>4.2</td>\n",
       "      <td>20.0</td>\n",
       "      <td>7.88</td>\n",
       "    </tr>\n",
       "    <tr>\n",
       "      <th>622</th>\n",
       "      <td>2019-11-15T11:00:00.000</td>\n",
       "      <td>2019</td>\n",
       "      <td>November</td>\n",
       "      <td>15</td>\n",
       "      <td>Friday</td>\n",
       "      <td>11</td>\n",
       "      <td>4</td>\n",
       "      <td>Town Hall (West)</td>\n",
       "      <td>2577</td>\n",
       "      <td>16.90</td>\n",
       "      <td>57.53</td>\n",
       "      <td>1007.9</td>\n",
       "      <td>4.1</td>\n",
       "      <td>20.1</td>\n",
       "      <td>7.92</td>\n",
       "    </tr>\n",
       "    <tr>\n",
       "      <th>677</th>\n",
       "      <td>2019-11-15T12:00:00.000</td>\n",
       "      <td>2019</td>\n",
       "      <td>November</td>\n",
       "      <td>15</td>\n",
       "      <td>Friday</td>\n",
       "      <td>12</td>\n",
       "      <td>4</td>\n",
       "      <td>Town Hall (West)</td>\n",
       "      <td>3439</td>\n",
       "      <td>18.73</td>\n",
       "      <td>54.64</td>\n",
       "      <td>1007.5</td>\n",
       "      <td>4.5</td>\n",
       "      <td>23.1</td>\n",
       "      <td>9.68</td>\n",
       "    </tr>\n",
       "    <tr>\n",
       "      <th>732</th>\n",
       "      <td>2019-11-15T13:00:00.000</td>\n",
       "      <td>2019</td>\n",
       "      <td>November</td>\n",
       "      <td>15</td>\n",
       "      <td>Friday</td>\n",
       "      <td>13</td>\n",
       "      <td>4</td>\n",
       "      <td>Town Hall (West)</td>\n",
       "      <td>4043</td>\n",
       "      <td>18.78</td>\n",
       "      <td>51.06</td>\n",
       "      <td>1006.7</td>\n",
       "      <td>4.1</td>\n",
       "      <td>18.7</td>\n",
       "      <td>10.44</td>\n",
       "    </tr>\n",
       "  </tbody>\n",
       "</table>\n",
       "</div>"
      ],
      "text/plain": [
       "                   date_time  year     month  mdate     day  time  sensor_id  \\\n",
       "512  2019-11-15T09:00:00.000  2019  November     15  Friday     9          4   \n",
       "567  2019-11-15T10:00:00.000  2019  November     15  Friday    10          4   \n",
       "622  2019-11-15T11:00:00.000  2019  November     15  Friday    11          4   \n",
       "677  2019-11-15T12:00:00.000  2019  November     15  Friday    12          4   \n",
       "732  2019-11-15T13:00:00.000  2019  November     15  Friday    13          4   \n",
       "\n",
       "          sensor_name  hourly_counts   temp  humidity  pressure  part_2p5  \\\n",
       "512  Town Hall (West)           1430  15.41     66.14    1008.0       4.5   \n",
       "567  Town Hall (West)           2101  16.12     59.41    1008.0       4.2   \n",
       "622  Town Hall (West)           2577  16.90     57.53    1007.9       4.1   \n",
       "677  Town Hall (West)           3439  18.73     54.64    1007.5       4.5   \n",
       "732  Town Hall (West)           4043  18.78     51.06    1006.7       4.1   \n",
       "\n",
       "     part_10   wind  \n",
       "512     18.4   7.92  \n",
       "567     20.0   7.88  \n",
       "622     20.1   7.92  \n",
       "677     23.1   9.68  \n",
       "732     18.7  10.44  "
      ]
     },
     "execution_count": 26,
     "metadata": {},
     "output_type": "execute_result"
    }
   ],
   "source": [
    "single_sensor_climate.head()"
   ]
  },
  {
   "cell_type": "code",
   "execution_count": 27,
   "id": "c02f7075",
   "metadata": {},
   "outputs": [],
   "source": [
    "single_sensor_climate.drop(['date_time', 'year', 'sensor_id', 'sensor_name', 'mdate'], axis = 1, inplace = True)"
   ]
  },
  {
   "cell_type": "code",
   "execution_count": 28,
   "id": "5e29c0ca",
   "metadata": {},
   "outputs": [],
   "source": [
    "month_dict = {'January' : 1, 'February': 2, 'March': 3, 'April': 4, 'May': 5, 'June': 6, 'July': 7,\n",
    "              'August': 8, 'September': 9, 'October': 10, 'November': 11, 'December': 12}\n",
    "day_dict = {'Monday': 1, 'Tuesday': 2, 'Wednesday': 3, 'Thursday': 4, 'Friday': 5, 'Saturday': 6, 'Sunday': 7}"
   ]
  },
  {
   "cell_type": "code",
   "execution_count": 29,
   "id": "8f33840b",
   "metadata": {},
   "outputs": [],
   "source": [
    "single_sensor_climate.replace({'month': month_dict, 'day': day_dict}, inplace = True)"
   ]
  },
  {
   "cell_type": "code",
   "execution_count": 30,
   "id": "6bf08c01",
   "metadata": {},
   "outputs": [
    {
     "data": {
      "text/html": [
       "<div>\n",
       "<style scoped>\n",
       "    .dataframe tbody tr th:only-of-type {\n",
       "        vertical-align: middle;\n",
       "    }\n",
       "\n",
       "    .dataframe tbody tr th {\n",
       "        vertical-align: top;\n",
       "    }\n",
       "\n",
       "    .dataframe thead th {\n",
       "        text-align: right;\n",
       "    }\n",
       "</style>\n",
       "<table border=\"1\" class=\"dataframe\">\n",
       "  <thead>\n",
       "    <tr style=\"text-align: right;\">\n",
       "      <th></th>\n",
       "      <th>month</th>\n",
       "      <th>day</th>\n",
       "      <th>time</th>\n",
       "      <th>hourly_counts</th>\n",
       "      <th>temp</th>\n",
       "      <th>humidity</th>\n",
       "      <th>pressure</th>\n",
       "      <th>part_2p5</th>\n",
       "      <th>part_10</th>\n",
       "      <th>wind</th>\n",
       "    </tr>\n",
       "  </thead>\n",
       "  <tbody>\n",
       "    <tr>\n",
       "      <th>512</th>\n",
       "      <td>11</td>\n",
       "      <td>5</td>\n",
       "      <td>9</td>\n",
       "      <td>1430</td>\n",
       "      <td>15.41</td>\n",
       "      <td>66.14</td>\n",
       "      <td>1008.0</td>\n",
       "      <td>4.5</td>\n",
       "      <td>18.4</td>\n",
       "      <td>7.92</td>\n",
       "    </tr>\n",
       "    <tr>\n",
       "      <th>567</th>\n",
       "      <td>11</td>\n",
       "      <td>5</td>\n",
       "      <td>10</td>\n",
       "      <td>2101</td>\n",
       "      <td>16.12</td>\n",
       "      <td>59.41</td>\n",
       "      <td>1008.0</td>\n",
       "      <td>4.2</td>\n",
       "      <td>20.0</td>\n",
       "      <td>7.88</td>\n",
       "    </tr>\n",
       "    <tr>\n",
       "      <th>622</th>\n",
       "      <td>11</td>\n",
       "      <td>5</td>\n",
       "      <td>11</td>\n",
       "      <td>2577</td>\n",
       "      <td>16.90</td>\n",
       "      <td>57.53</td>\n",
       "      <td>1007.9</td>\n",
       "      <td>4.1</td>\n",
       "      <td>20.1</td>\n",
       "      <td>7.92</td>\n",
       "    </tr>\n",
       "    <tr>\n",
       "      <th>677</th>\n",
       "      <td>11</td>\n",
       "      <td>5</td>\n",
       "      <td>12</td>\n",
       "      <td>3439</td>\n",
       "      <td>18.73</td>\n",
       "      <td>54.64</td>\n",
       "      <td>1007.5</td>\n",
       "      <td>4.5</td>\n",
       "      <td>23.1</td>\n",
       "      <td>9.68</td>\n",
       "    </tr>\n",
       "    <tr>\n",
       "      <th>732</th>\n",
       "      <td>11</td>\n",
       "      <td>5</td>\n",
       "      <td>13</td>\n",
       "      <td>4043</td>\n",
       "      <td>18.78</td>\n",
       "      <td>51.06</td>\n",
       "      <td>1006.7</td>\n",
       "      <td>4.1</td>\n",
       "      <td>18.7</td>\n",
       "      <td>10.44</td>\n",
       "    </tr>\n",
       "  </tbody>\n",
       "</table>\n",
       "</div>"
      ],
      "text/plain": [
       "     month  day  time  hourly_counts   temp  humidity  pressure  part_2p5  \\\n",
       "512     11    5     9           1430  15.41     66.14    1008.0       4.5   \n",
       "567     11    5    10           2101  16.12     59.41    1008.0       4.2   \n",
       "622     11    5    11           2577  16.90     57.53    1007.9       4.1   \n",
       "677     11    5    12           3439  18.73     54.64    1007.5       4.5   \n",
       "732     11    5    13           4043  18.78     51.06    1006.7       4.1   \n",
       "\n",
       "     part_10   wind  \n",
       "512     18.4   7.92  \n",
       "567     20.0   7.88  \n",
       "622     20.1   7.92  \n",
       "677     23.1   9.68  \n",
       "732     18.7  10.44  "
      ]
     },
     "execution_count": 30,
     "metadata": {},
     "output_type": "execute_result"
    }
   ],
   "source": [
    "single_sensor_climate.head()"
   ]
  },
  {
   "cell_type": "code",
   "execution_count": 31,
   "id": "7aeefe0c",
   "metadata": {},
   "outputs": [],
   "source": [
    "scaler = MinMaxScaler()"
   ]
  },
  {
   "cell_type": "code",
   "execution_count": 32,
   "id": "74869965",
   "metadata": {},
   "outputs": [],
   "source": [
    "scaled = scaler.fit_transform(single_sensor_climate)"
   ]
  },
  {
   "cell_type": "code",
   "execution_count": 33,
   "id": "e39073d7",
   "metadata": {},
   "outputs": [],
   "source": [
    "new_sequence = np.zeros((scaled.shape[0], scaled.shape[1]+1), dtype=float)"
   ]
  },
  {
   "cell_type": "code",
   "execution_count": 34,
   "id": "1face35f",
   "metadata": {},
   "outputs": [],
   "source": [
    "for i in range (0, scaled.shape[0]-1):\n",
    "    new_sequence[i][0:9] = scaled[i][0:9]\n",
    "    new_sequence[i][10] = scaled[i+1][3]"
   ]
  },
  {
   "cell_type": "code",
   "execution_count": 35,
   "id": "ae487721",
   "metadata": {},
   "outputs": [],
   "source": [
    "train = new_sequence[0:12000, :]\n",
    "test = new_sequence[12000:15000, :]\n",
    "val = new_sequence[15000:,:]"
   ]
  },
  {
   "cell_type": "code",
   "execution_count": 36,
   "id": "506a4747",
   "metadata": {},
   "outputs": [],
   "source": [
    "train_x, train_y = train[:, :-1], train[:, -1]\n",
    "test_x, test_y = test[:, :-1], test[:, -1]\n",
    "val_x, val_y = val[:, :-1], val[:, -1]"
   ]
  },
  {
   "cell_type": "code",
   "execution_count": 37,
   "id": "e22fbed4",
   "metadata": {},
   "outputs": [],
   "source": [
    "train_x = train_x.reshape((train_x.shape[0], 1, train_x.shape[1]))\n",
    "test_x = test_x.reshape((test_x.shape[0], 1, test_x.shape[1]))\n",
    "val_x = val_x.reshape((val_x.shape[0], 1, val_x.shape[1]))"
   ]
  },
  {
   "cell_type": "code",
   "execution_count": 38,
   "id": "d8cd8753",
   "metadata": {},
   "outputs": [],
   "source": [
    "learning_rate = 0.00001\n",
    "\n",
    "# define model\n",
    "model = Sequential()\n",
    "model.add(Bidirectional(LSTM(48, return_sequences=True, input_shape=(train_x.shape[1], train_x.shape[2]))))\n",
    "model.add(Dropout(0.2))\n",
    "model.add(BatchNormalization())\n",
    "model.add(LSTM(96, return_sequences=True, input_shape=(train_x.shape[1], train_x.shape[2])))\n",
    "model.add(Dropout(0.2))\n",
    "model.add(LSTM(120, return_sequences=True, input_shape=(train_x.shape[1], train_x.shape[2])))\n",
    "model.add(Dropout(0.2))\n",
    "model.add(LSTM(196, input_shape=(train_x.shape[1], train_x.shape[2])))\n",
    "model.add(Dropout(0.2))\n",
    "model.add(Dense(48, kernel_initializer='normal', activation='relu'))\n",
    "model.add(Dropout(0.2))\n",
    "model.add(Dense(1, kernel_initializer='normal', activation='sigmoid'))\n",
    "\n",
    "opt = keras.optimizers.Adam(learning_rate=learning_rate)\n",
    "\n",
    "model.compile(optimizer=opt, loss='mse')"
   ]
  },
  {
   "cell_type": "code",
   "execution_count": 39,
   "id": "6454cd9d",
   "metadata": {
    "scrolled": false
   },
   "outputs": [
    {
     "data": {
      "text/plain": [
       "<keras.callbacks.History at 0x1bf92809e50>"
      ]
     },
     "execution_count": 39,
     "metadata": {},
     "output_type": "execute_result"
    }
   ],
   "source": [
    "model.fit(train_x, train_y, validation_data = (test_x, test_y), epochs=500, verbose=0, batch_size = 64)"
   ]
  },
  {
   "cell_type": "code",
   "execution_count": 40,
   "id": "250496cb",
   "metadata": {},
   "outputs": [
    {
     "name": "stdout",
     "output_type": "stream",
     "text": [
      "89/89 [==============================] - 2s 8ms/step\n",
      "R-squared score: 0.938\n"
     ]
    }
   ],
   "source": [
    "yhat = model.predict(val_x)\n",
    "new_val_x = val_x.reshape((val_x.shape[0], val_x.shape[2]))\n",
    "# invert scaling for forecast\n",
    "inv_yhat = concatenate((yhat, new_val_x[:, 1:]), axis=1)\n",
    "inv_yhat = scaler.inverse_transform(inv_yhat)\n",
    "inv_yhat = inv_yhat[:,0]\n",
    "# invert scaling for actual\n",
    "val_y = val_y.reshape((len(val_y), 1))\n",
    "inv_y = concatenate((val_y, new_val_x[:, 1:]), axis=1)\n",
    "inv_y = scaler.inverse_transform(inv_y)\n",
    "inv_y = inv_y[:,0]\n",
    "\n",
    "r2 = r2_score(inv_y, inv_yhat)\n",
    "print('R-squared score: %.3f' % r2)"
   ]
  },
  {
   "cell_type": "code",
   "execution_count": 41,
   "id": "5f5d5f09",
   "metadata": {},
   "outputs": [],
   "source": [
    "#Save the model:\n",
    "# model.save(\"LSTM_multivariate_1.h5\")"
   ]
  },
  {
   "cell_type": "code",
   "execution_count": 42,
   "id": "579ee920",
   "metadata": {},
   "outputs": [],
   "source": [
    "#What about if we try one hot encoding instead?\n",
    "single_sensor_climate = ped_climate.loc[ped_climate.sensor_name == 'Town Hall (West)'].copy()\n",
    "single_sensor_climate.fillna(method='ffill', inplace = True)\n",
    "\n",
    "month_dummies = pd.get_dummies(single_sensor_climate.month)\n",
    "day_dummies = pd.get_dummies(single_sensor_climate.day)"
   ]
  },
  {
   "cell_type": "code",
   "execution_count": 43,
   "id": "3f8612a6",
   "metadata": {},
   "outputs": [],
   "source": [
    "single_sensor_climate.drop(['date_time', 'month', 'day', 'year', 'sensor_id', 'sensor_name', 'mdate'], axis = 1, inplace = True)"
   ]
  },
  {
   "cell_type": "code",
   "execution_count": 44,
   "id": "b9ba986b",
   "metadata": {},
   "outputs": [],
   "source": [
    "single_sensor_climate = pd.concat([single_sensor_climate, month_dummies, day_dummies], axis = 1)"
   ]
  },
  {
   "cell_type": "code",
   "execution_count": 45,
   "id": "2be672cb",
   "metadata": {},
   "outputs": [],
   "source": [
    "scaler = MinMaxScaler()\n",
    "scaled = scaler.fit_transform(single_sensor_climate)\n",
    "\n",
    "new_sequence = np.zeros((scaled.shape[0], scaled.shape[1]+1), dtype=float)\n",
    "\n",
    "for i in range (0, scaled.shape[0]-1):\n",
    "    new_sequence[i][0:26] = scaled[i][0:26]\n",
    "    new_sequence[i][27] = scaled[i+1][1]  \n"
   ]
  },
  {
   "cell_type": "code",
   "execution_count": 46,
   "id": "ea1c1dd1",
   "metadata": {},
   "outputs": [],
   "source": [
    "train = new_sequence[0:12000, :]\n",
    "test = new_sequence[12000:15000, :]\n",
    "val = new_sequence[15000:,:]\n",
    "\n",
    "train_x, train_y = train[:, :-1], train[:, -1]\n",
    "test_x, test_y = test[:, :-1], test[:, -1]\n",
    "val_x, val_y = val[:, :-1], val[:, -1]\n",
    "\n",
    "train_x = train_x.reshape((train_x.shape[0], 1, train_x.shape[1]))\n",
    "test_x = test_x.reshape((test_x.shape[0], 1, test_x.shape[1]))\n",
    "val_x = val_x.reshape((val_x.shape[0], 1, val_x.shape[1]))"
   ]
  },
  {
   "cell_type": "code",
   "execution_count": 47,
   "id": "c8e70865",
   "metadata": {},
   "outputs": [],
   "source": [
    "learning_rate = 0.00001\n",
    "\n",
    "# define model\n",
    "model = Sequential()\n",
    "model.add(Bidirectional(LSTM(48, return_sequences=True, input_shape=(train_x.shape[1], train_x.shape[2]))))\n",
    "model.add(Dropout(0.2))\n",
    "model.add(BatchNormalization())\n",
    "model.add(LSTM(96, return_sequences=True, input_shape=(train_x.shape[1], train_x.shape[2])))\n",
    "model.add(Dropout(0.2))\n",
    "model.add(LSTM(120, return_sequences=True, input_shape=(train_x.shape[1], train_x.shape[2])))\n",
    "model.add(Dropout(0.2))\n",
    "model.add(LSTM(196, input_shape=(train_x.shape[1], train_x.shape[2])))\n",
    "model.add(Dropout(0.2))\n",
    "model.add(Dense(48, kernel_initializer='normal', activation='relu'))\n",
    "model.add(Dropout(0.2))\n",
    "model.add(Dense(1, kernel_initializer='normal', activation='sigmoid'))\n",
    "\n",
    "opt = keras.optimizers.Adam(learning_rate=learning_rate)\n",
    "\n",
    "model.compile(optimizer=opt, loss='mse')"
   ]
  },
  {
   "cell_type": "code",
   "execution_count": 48,
   "id": "13dfb0f2",
   "metadata": {},
   "outputs": [
    {
     "data": {
      "text/plain": [
       "<keras.callbacks.History at 0x1bf93a18d60>"
      ]
     },
     "execution_count": 48,
     "metadata": {},
     "output_type": "execute_result"
    }
   ],
   "source": [
    "model.fit(train_x, train_y, validation_data =(test_x, test_y), epochs=500, verbose=0, batch_size = 64)"
   ]
  },
  {
   "cell_type": "code",
   "execution_count": 49,
   "id": "752577f7",
   "metadata": {},
   "outputs": [
    {
     "name": "stdout",
     "output_type": "stream",
     "text": [
      "89/89 [==============================] - 2s 6ms/step\n",
      "R-squared score: 0.919\n"
     ]
    }
   ],
   "source": [
    "yhat = model.predict(val_x)\n",
    "new_val_x = val_x.reshape((val_x.shape[0], val_x.shape[2]))\n",
    "# invert scaling for forecast\n",
    "inv_yhat = concatenate((yhat, new_val_x[:, 1:]), axis=1)\n",
    "inv_yhat = scaler.inverse_transform(inv_yhat)\n",
    "inv_yhat = inv_yhat[:,0]\n",
    "# invert scaling for actual\n",
    "val_y = val_y.reshape((len(val_y), 1))\n",
    "inv_y = concatenate((val_y, new_val_x[:, 1:]), axis=1)\n",
    "inv_y = scaler.inverse_transform(inv_y)\n",
    "inv_y = inv_y[:,0]\n",
    "\n",
    "r2 = r2_score(inv_y, inv_yhat)\n",
    "print('R-squared score: %.3f' % r2)"
   ]
  },
  {
   "cell_type": "markdown",
   "id": "96a27ed0",
   "metadata": {},
   "source": [
    "##### That didn't improve the model. Let's try adding more datasets and see if we can improve things. "
   ]
  },
  {
   "cell_type": "code",
   "execution_count": 50,
   "id": "88de6384",
   "metadata": {},
   "outputs": [],
   "source": [
    "#What about if we add more datasets?\n",
    "combined = pd.read_csv('combined.csv')"
   ]
  },
  {
   "cell_type": "code",
   "execution_count": 51,
   "id": "11ec3fb7",
   "metadata": {},
   "outputs": [],
   "source": [
    "combo_climate = ped_climate.merge(combined, on=('year', 'month', 'mdate', 'time', 'sensor_id',\n",
    "                                                'day', 'sensor_name', 'hourly_counts'), how='inner')"
   ]
  },
  {
   "cell_type": "code",
   "execution_count": 52,
   "id": "67cdbbb5",
   "metadata": {},
   "outputs": [],
   "source": [
    "single_sensor_climate = combo_climate.loc[combo_climate.sensor_name == 'Town Hall (West)'].copy()\n",
    "\n",
    "month_dict = {'January' : 1, 'February': 2, 'March': 3, 'April': 4, 'May': 5, 'June': 6, 'July': 7,\n",
    "              'August': 8, 'September': 9, 'October': 10, 'November': 11, 'December': 12}\n",
    "day_dict = {'Monday': 1, 'Tuesday': 2, 'Wednesday': 3, 'Thursday': 4, 'Friday': 5, 'Saturday': 6, 'Sunday': 7}\n",
    "\n",
    "single_sensor_climate.replace({'month': month_dict, 'day': day_dict}, inplace = True)"
   ]
  },
  {
   "cell_type": "code",
   "execution_count": 53,
   "id": "37256722",
   "metadata": {},
   "outputs": [],
   "source": [
    "single_sensor_climate.drop(['date_time_x', 'date_time_y', 'year', 'sensor_id', 'sensor_name'\n",
    "                            , 'lat', 'lon', 'sensor_description', 'mdate'], axis = 1, inplace = True)"
   ]
  },
  {
   "cell_type": "code",
   "execution_count": 54,
   "id": "6faae2b4",
   "metadata": {},
   "outputs": [],
   "source": [
    "single_sensor_climate.fillna(method='ffill', inplace = True)"
   ]
  },
  {
   "cell_type": "code",
   "execution_count": 55,
   "id": "22853060",
   "metadata": {},
   "outputs": [],
   "source": [
    "scaler = MinMaxScaler()\n",
    "scaled = scaler.fit_transform(single_sensor_climate)\n",
    "\n",
    "new_sequence = np.zeros((scaled.shape[0], scaled.shape[1]+1), dtype=float)\n",
    "\n",
    "for i in range (0, scaled.shape[0]-1):\n",
    "    new_sequence[i][0:15] = scaled[i][0:15]\n",
    "    new_sequence[i][16] = scaled[i+1][3]"
   ]
  },
  {
   "cell_type": "code",
   "execution_count": 56,
   "id": "ac803502",
   "metadata": {},
   "outputs": [],
   "source": [
    "train = new_sequence[0:12000, :]\n",
    "test = new_sequence[12000:15000, :]\n",
    "val = new_sequence[15000:,:]\n",
    "\n",
    "train_x, train_y = train[:, :-1], train[:, -1]\n",
    "test_x, test_y = test[:, :-1], test[:, -1]\n",
    "val_x, val_y = val[:, :-1], val[:, -1]\n",
    "\n",
    "train_x = train_x.reshape((train_x.shape[0], 1, train_x.shape[1]))\n",
    "test_x = test_x.reshape((test_x.shape[0], 1, test_x.shape[1]))\n",
    "val_x = val_x.reshape((val_x.shape[0], 1, val_x.shape[1]))"
   ]
  },
  {
   "cell_type": "code",
   "execution_count": 57,
   "id": "f20dac49",
   "metadata": {},
   "outputs": [],
   "source": [
    "learning_rate = 0.00001\n",
    "\n",
    "# define model\n",
    "model = Sequential()\n",
    "model.add(Bidirectional(LSTM(48, return_sequences=True, input_shape=(train_x.shape[1], train_x.shape[2]))))\n",
    "model.add(Dropout(0.2))\n",
    "model.add(BatchNormalization())\n",
    "model.add(LSTM(96, return_sequences=True, input_shape=(train_x.shape[1], train_x.shape[2])))\n",
    "model.add(Dropout(0.2))\n",
    "model.add(LSTM(120, return_sequences=True, input_shape=(train_x.shape[1], train_x.shape[2])))\n",
    "model.add(Dropout(0.2))\n",
    "model.add(LSTM(196, input_shape=(train_x.shape[1], train_x.shape[2])))\n",
    "model.add(Dropout(0.2))\n",
    "model.add(Dense(48, kernel_initializer='normal', activation='relu'))\n",
    "model.add(Dropout(0.2))\n",
    "model.add(Dense(1, kernel_initializer='normal', activation='sigmoid'))\n",
    "\n",
    "opt = keras.optimizers.Adam(learning_rate=learning_rate)\n",
    "\n",
    "model.compile(optimizer=opt, loss='mse')\n"
   ]
  },
  {
   "cell_type": "code",
   "execution_count": 58,
   "id": "918ac1f1",
   "metadata": {},
   "outputs": [
    {
     "data": {
      "text/plain": [
       "<keras.callbacks.History at 0x1c03f7ab400>"
      ]
     },
     "execution_count": 58,
     "metadata": {},
     "output_type": "execute_result"
    }
   ],
   "source": [
    "model.fit(train_x, train_y, validation_data =(test_x, test_y), epochs=500, verbose=0, batch_size = 64)"
   ]
  },
  {
   "cell_type": "code",
   "execution_count": 59,
   "id": "6b5d829c",
   "metadata": {},
   "outputs": [
    {
     "name": "stdout",
     "output_type": "stream",
     "text": [
      "89/89 [==============================] - 4s 26ms/step\n",
      "R-squared score: 0.936\n"
     ]
    }
   ],
   "source": [
    "yhat = model.predict(val_x)\n",
    "new_val_x = val_x.reshape((val_x.shape[0], val_x.shape[2]))\n",
    "# invert scaling for forecast\n",
    "inv_yhat = concatenate((yhat, new_val_x[:, 1:]), axis=1)\n",
    "inv_yhat = scaler.inverse_transform(inv_yhat)\n",
    "inv_yhat = inv_yhat[:,0]\n",
    "# invert scaling for actual\n",
    "val_y = val_y.reshape((len(val_y), 1))\n",
    "inv_y = concatenate((val_y, new_val_x[:, 1:]), axis=1)\n",
    "inv_y = scaler.inverse_transform(inv_y)\n",
    "inv_y = inv_y[:,0]\n",
    "\n",
    "r2 = r2_score(inv_y, inv_yhat)\n",
    "print('R-squared score: %.3f' % r2)"
   ]
  },
  {
   "cell_type": "code",
   "execution_count": 60,
   "id": "cba7c254",
   "metadata": {},
   "outputs": [],
   "source": [
    "#Save the model:\n",
    "model.save(\"LSTM_multivariate_2.h5\")"
   ]
  },
  {
   "cell_type": "markdown",
   "id": "7a793637",
   "metadata": {},
   "source": [
    "##### We still seem to be having trouble trying to break through to a better model. What about adding more data?"
   ]
  },
  {
   "cell_type": "code",
   "execution_count": 61,
   "id": "0558e67e",
   "metadata": {},
   "outputs": [],
   "source": [
    "rainfall_data = pd.read_csv('rainfall.csv')"
   ]
  },
  {
   "cell_type": "code",
   "execution_count": 62,
   "id": "d7416ccf",
   "metadata": {},
   "outputs": [
    {
     "name": "stdout",
     "output_type": "stream",
     "text": [
      "<class 'pandas.core.frame.DataFrame'>\n",
      "RangeIndex: 25675 entries, 0 to 25674\n",
      "Data columns (total 2 columns):\n",
      " #   Column    Non-Null Count  Dtype  \n",
      "---  ------    --------------  -----  \n",
      " 0   datetime  25675 non-null  object \n",
      " 1   rainfall  25675 non-null  float64\n",
      "dtypes: float64(1), object(1)\n",
      "memory usage: 401.3+ KB\n"
     ]
    }
   ],
   "source": [
    "rainfall_data.info()"
   ]
  },
  {
   "cell_type": "code",
   "execution_count": 63,
   "id": "d4748efb",
   "metadata": {},
   "outputs": [],
   "source": [
    "rainfall_data.datetime = pd.to_datetime(rainfall_data.datetime, format='%d/%m/%Y %H:%M')\n",
    "rainfall_data['year'] = rainfall_data.datetime.dt.year\n",
    "rainfall_data['month'] = rainfall_data.datetime.dt.month_name()\n",
    "rainfall_data['mdate'] = rainfall_data.datetime.dt.day\n",
    "rainfall_data['time'] = rainfall_data.datetime.dt.hour"
   ]
  },
  {
   "cell_type": "code",
   "execution_count": 64,
   "id": "f6127621",
   "metadata": {},
   "outputs": [],
   "source": [
    "single_sensor_climate = combo_climate.loc[combo_climate.sensor_name == 'Town Hall (West)'].copy()\n",
    "\n",
    "month_dict = {'January' : 1, 'February': 2, 'March': 3, 'April': 4, 'May': 5, 'June': 6, 'July': 7,\n",
    "              'August': 8, 'September': 9, 'October': 10, 'November': 11, 'December': 12}\n",
    "day_dict = {'Monday': 1, 'Tuesday': 2, 'Wednesday': 3, 'Thursday': 4, 'Friday': 5, 'Saturday': 6, 'Sunday': 7}\n",
    "\n",
    "# single_sensor_climate.replace({'month': month_dict, 'day': day_dict}, inplace = True)"
   ]
  },
  {
   "cell_type": "code",
   "execution_count": 65,
   "id": "59395f8b",
   "metadata": {},
   "outputs": [],
   "source": [
    "rain_combo_single_sensor = single_sensor_climate.merge(rainfall_data, on=('year', 'month'\n",
    "                                                        , 'mdate', 'time',), how='inner')"
   ]
  },
  {
   "cell_type": "code",
   "execution_count": 66,
   "id": "21f49fcb",
   "metadata": {},
   "outputs": [],
   "source": [
    "rain_combo_single_sensor.replace({'month': month_dict, 'day': day_dict}, inplace = True)"
   ]
  },
  {
   "cell_type": "code",
   "execution_count": 67,
   "id": "8069c4ac",
   "metadata": {},
   "outputs": [],
   "source": [
    "rain_combo_single_sensor.drop(['date_time_x', 'date_time_y', 'year', 'sensor_id'\n",
    "                               , 'sensor_name', 'lat', 'lon', 'sensor_description'\n",
    "                               , 'mdate', 'datetime'], axis = 1, inplace = True)"
   ]
  },
  {
   "cell_type": "code",
   "execution_count": 68,
   "id": "9260cee5",
   "metadata": {},
   "outputs": [],
   "source": [
    "rain_combo_single_sensor.fillna(method='ffill', inplace = True)"
   ]
  },
  {
   "cell_type": "code",
   "execution_count": 69,
   "id": "82d0ed73",
   "metadata": {},
   "outputs": [],
   "source": [
    "scaler = MinMaxScaler()\n",
    "scaled = scaler.fit_transform(rain_combo_single_sensor)\n",
    "\n",
    "new_sequence = np.zeros((scaled.shape[0], scaled.shape[1]+1), dtype=float)\n",
    "\n",
    "for i in range (0, scaled.shape[0]-1):\n",
    "    new_sequence[i][0:16] = scaled[i][0:16]\n",
    "    new_sequence[i][17] = scaled[i+1][3]"
   ]
  },
  {
   "cell_type": "code",
   "execution_count": 70,
   "id": "ea442ebb",
   "metadata": {},
   "outputs": [],
   "source": [
    "train = new_sequence[0:12000, :]\n",
    "test = new_sequence[12000:15000, :]\n",
    "val = new_sequence[15000:,:]\n",
    "\n",
    "train_x, train_y = train[:, :-1], train[:, -1]\n",
    "test_x, test_y = test[:, :-1], test[:, -1]\n",
    "val_x, val_y = val[:, :-1], val[:, -1]\n",
    "\n",
    "train_x = train_x.reshape((train_x.shape[0], 1, train_x.shape[1]))\n",
    "test_x = test_x.reshape((test_x.shape[0], 1, test_x.shape[1]))\n",
    "val_x = val_x.reshape((val_x.shape[0], 1, val_x.shape[1]))"
   ]
  },
  {
   "cell_type": "code",
   "execution_count": 71,
   "id": "f319e249",
   "metadata": {},
   "outputs": [],
   "source": [
    "learning_rate = 0.00001\n",
    "\n",
    "# define model\n",
    "model = Sequential()\n",
    "model.add(Bidirectional(LSTM(48, return_sequences=True, input_shape=(train_x.shape[1], train_x.shape[2]))))\n",
    "model.add(Dropout(0.2))\n",
    "model.add(BatchNormalization())\n",
    "model.add(LSTM(96, return_sequences=True, input_shape=(train_x.shape[1], train_x.shape[2])))\n",
    "model.add(Dropout(0.2))\n",
    "model.add(LSTM(120, return_sequences=True, input_shape=(train_x.shape[1], train_x.shape[2])))\n",
    "model.add(Dropout(0.2))\n",
    "model.add(LSTM(196, input_shape=(train_x.shape[1], train_x.shape[2])))\n",
    "model.add(Dropout(0.2))\n",
    "model.add(Dense(48, kernel_initializer='normal', activation='relu'))\n",
    "model.add(Dropout(0.2))\n",
    "model.add(Dense(1, kernel_initializer='normal', activation='sigmoid'))\n",
    "\n",
    "opt = keras.optimizers.Adam(learning_rate=learning_rate)\n",
    "\n",
    "model.compile(optimizer=opt, loss='mse')"
   ]
  },
  {
   "cell_type": "code",
   "execution_count": 72,
   "id": "7444d7fc",
   "metadata": {},
   "outputs": [
    {
     "data": {
      "text/plain": [
       "<keras.callbacks.History at 0x1bfc447ac10>"
      ]
     },
     "execution_count": 72,
     "metadata": {},
     "output_type": "execute_result"
    }
   ],
   "source": [
    "model.fit(train_x, train_y, validation_data =(test_x, test_y), epochs=500, verbose=0, batch_size = 64)"
   ]
  },
  {
   "cell_type": "code",
   "execution_count": 73,
   "id": "ca611488",
   "metadata": {},
   "outputs": [
    {
     "name": "stdout",
     "output_type": "stream",
     "text": [
      "89/89 [==============================] - 2s 6ms/step\n",
      "R-squared score: 0.935\n"
     ]
    }
   ],
   "source": [
    "yhat = model.predict(val_x)\n",
    "new_val_x = val_x.reshape((val_x.shape[0], val_x.shape[2]))\n",
    "# invert scaling for forecast\n",
    "inv_yhat = concatenate((yhat, new_val_x[:, 1:]), axis=1)\n",
    "inv_yhat = scaler.inverse_transform(inv_yhat)\n",
    "inv_yhat = inv_yhat[:,0]\n",
    "# invert scaling for actual\n",
    "val_y = val_y.reshape((len(val_y), 1))\n",
    "inv_y = concatenate((val_y, new_val_x[:, 1:]), axis=1)\n",
    "inv_y = scaler.inverse_transform(inv_y)\n",
    "inv_y = inv_y[:,0]\n",
    "\n",
    "r2 = r2_score(inv_y, inv_yhat)\n",
    "print('R-squared score: %.3f' % r2)"
   ]
  },
  {
   "cell_type": "code",
   "execution_count": 74,
   "id": "b1f1cfe0",
   "metadata": {},
   "outputs": [],
   "source": [
    "#Save the model:\n",
    "model.save(\"LSTM_multivariate_3.h5\")"
   ]
  },
  {
   "cell_type": "code",
   "execution_count": 75,
   "id": "95224b9e",
   "metadata": {},
   "outputs": [],
   "source": [
    "#Lets try adding some more data!\n",
    "#We'll recreate the rainfall dataset...\n",
    "\n",
    "single_sensor_climate = combo_climate.loc[combo_climate.sensor_name == 'Town Hall (West)'].copy()\n",
    "\n",
    "month_dict = {'January' : 1, 'February': 2, 'March': 3, 'April': 4, 'May': 5, 'June': 6, 'July': 7,\n",
    "              'August': 8, 'September': 9, 'October': 10, 'November': 11, 'December': 12}\n",
    "day_dict = {'Monday': 1, 'Tuesday': 2, 'Wednesday': 3, 'Thursday': 4, 'Friday': 5, 'Saturday': 6, 'Sunday': 7}\n",
    "\n",
    "rain_combo_single_sensor = single_sensor_climate.merge(rainfall_data, on=('year', 'month'\n",
    "                                                        , 'mdate', 'time',), how='inner')\n",
    "\n",
    "lockdown_combo = rain_combo_single_sensor.copy()"
   ]
  },
  {
   "cell_type": "code",
   "execution_count": 76,
   "id": "fb882b0f",
   "metadata": {},
   "outputs": [],
   "source": [
    "# https://lockdownstats.melbourne/timeline/\n",
    "lockdowns = (['2020-03-31T23:59', '2020-05-31T23:59'], #lockdown 1\n",
    "            ['2020-07-08T23:59', '2020-10-27T23:59'], #lockdown 2\n",
    "            ['2021-02-12T23:59', '2021-02-17T23:59'], #lockdown 3\n",
    "            ['2021-05-27T23:59', '2021-06-10T23:59'], #lockdown 4\n",
    "            ['2021-07-15T23:59', '2021-07-27T23:59'], #lockdown 5\n",
    "            ['2021-08-05T19:59', '2021-10-21T23:59']) #lockdown 6\n",
    "\n",
    "lockdown_combo[['lockdown']] = 0"
   ]
  },
  {
   "cell_type": "code",
   "execution_count": 77,
   "id": "a19832b1",
   "metadata": {},
   "outputs": [],
   "source": [
    "for i in range (0, len(lockdowns)):\n",
    "    start = lockdowns[i][0]\n",
    "    end = lockdowns[i][1]\n",
    "    lockdown_combo['lockdown'] = np.where((lockdown_combo['date_time_x'] > start)\n",
    "                                               & (lockdown_combo['date_time_x'] < end), 1, 0)"
   ]
  },
  {
   "cell_type": "code",
   "execution_count": 78,
   "id": "11400eb6",
   "metadata": {},
   "outputs": [],
   "source": [
    "lockdown_combo.replace({'month': month_dict, 'day': day_dict}, inplace = True)\n",
    "saved_for_later = lockdown_combo.copy()"
   ]
  },
  {
   "cell_type": "code",
   "execution_count": 79,
   "id": "a83cec21",
   "metadata": {},
   "outputs": [],
   "source": [
    "lockdown_combo.drop(['date_time_x', 'date_time_y', 'year', 'sensor_id', 'datetime'\n",
    "                               , 'sensor_name', 'lat', 'lon', 'sensor_description'\n",
    "                               , 'mdate', 'datetime'], axis = 1, inplace = True)"
   ]
  },
  {
   "cell_type": "code",
   "execution_count": 80,
   "id": "1f80a9ca",
   "metadata": {},
   "outputs": [],
   "source": [
    "lockdown_combo.fillna(method='ffill', inplace = True)"
   ]
  },
  {
   "cell_type": "code",
   "execution_count": 81,
   "id": "76552fb8",
   "metadata": {},
   "outputs": [],
   "source": [
    "scaler = MinMaxScaler()\n",
    "scaled = scaler.fit_transform(lockdown_combo)\n",
    "\n",
    "new_sequence = np.zeros((scaled.shape[0], scaled.shape[1]+1), dtype=float)\n",
    "\n",
    "for i in range (0, scaled.shape[0]-1):\n",
    "    new_sequence[i][0:17] = scaled[i][0:17]\n",
    "    new_sequence[i][18] = scaled[i+1][3]"
   ]
  },
  {
   "cell_type": "code",
   "execution_count": 82,
   "id": "a5efdb52",
   "metadata": {},
   "outputs": [],
   "source": [
    "train = new_sequence[0:12000, :]\n",
    "test = new_sequence[12000:15000, :]\n",
    "val = new_sequence[15000:,:]\n",
    "\n",
    "train_x, train_y = train[:, :-1], train[:, -1]\n",
    "test_x, test_y = test[:, :-1], test[:, -1]\n",
    "val_x, val_y = val[:, :-1], val[:, -1]\n",
    "\n",
    "train_x = train_x.reshape((train_x.shape[0], 1, train_x.shape[1]))\n",
    "test_x = test_x.reshape((test_x.shape[0], 1, test_x.shape[1]))\n",
    "val_x = val_x.reshape((val_x.shape[0], 1, val_x.shape[1]))"
   ]
  },
  {
   "cell_type": "code",
   "execution_count": 83,
   "id": "70178b7c",
   "metadata": {},
   "outputs": [],
   "source": [
    "learning_rate = 0.00001\n",
    "\n",
    "# define model\n",
    "model = Sequential()\n",
    "model.add(Bidirectional(LSTM(48, return_sequences=True, input_shape=(train_x.shape[1], train_x.shape[2]))))\n",
    "model.add(Dropout(0.2))\n",
    "model.add(BatchNormalization())\n",
    "model.add(LSTM(96, return_sequences=True, input_shape=(train_x.shape[1], train_x.shape[2])))\n",
    "model.add(Dropout(0.2))\n",
    "model.add(LSTM(120, return_sequences=True, input_shape=(train_x.shape[1], train_x.shape[2])))\n",
    "model.add(Dropout(0.2))\n",
    "model.add(LSTM(196, input_shape=(train_x.shape[1], train_x.shape[2])))\n",
    "model.add(Dropout(0.2))\n",
    "model.add(Dense(48, kernel_initializer='normal', activation='relu'))\n",
    "model.add(Dropout(0.2))\n",
    "model.add(Dense(1, kernel_initializer='normal', activation='sigmoid'))\n",
    "\n",
    "opt = keras.optimizers.Adam(learning_rate=learning_rate)\n",
    "\n",
    "model.compile(optimizer=opt, loss='mse')"
   ]
  },
  {
   "cell_type": "code",
   "execution_count": 84,
   "id": "572323dc",
   "metadata": {},
   "outputs": [
    {
     "data": {
      "text/plain": [
       "<keras.callbacks.History at 0x1c02bad4f10>"
      ]
     },
     "execution_count": 84,
     "metadata": {},
     "output_type": "execute_result"
    }
   ],
   "source": [
    "model.fit(train_x, train_y, validation_data =(test_x, test_y), epochs=500, verbose=0, batch_size = 64)"
   ]
  },
  {
   "cell_type": "code",
   "execution_count": 85,
   "id": "9f3aa6e7",
   "metadata": {},
   "outputs": [
    {
     "name": "stdout",
     "output_type": "stream",
     "text": [
      "89/89 [==============================] - 3s 6ms/step\n",
      "R-squared score: 0.936\n"
     ]
    }
   ],
   "source": [
    "yhat = model.predict(val_x)\n",
    "new_val_x = val_x.reshape((val_x.shape[0], val_x.shape[2]))\n",
    "# invert scaling for forecast\n",
    "inv_yhat = concatenate((yhat, new_val_x[:, 1:]), axis=1)\n",
    "inv_yhat = scaler.inverse_transform(inv_yhat)\n",
    "inv_yhat = inv_yhat[:,0]\n",
    "# invert scaling for actual\n",
    "val_y = val_y.reshape((len(val_y), 1))\n",
    "inv_y = concatenate((val_y, new_val_x[:, 1:]), axis=1)\n",
    "inv_y = scaler.inverse_transform(inv_y)\n",
    "inv_y = inv_y[:,0]\n",
    "\n",
    "r2 = r2_score(inv_y, inv_yhat)\n",
    "print('R-squared score: %.3f' % r2)"
   ]
  },
  {
   "cell_type": "code",
   "execution_count": 86,
   "id": "1398a95d",
   "metadata": {},
   "outputs": [],
   "source": [
    "#Save the model:\n",
    "model.save(\"LSTM_multivariate_4.h5\")"
   ]
  },
  {
   "cell_type": "code",
   "execution_count": 87,
   "id": "23d7b4b9",
   "metadata": {},
   "outputs": [],
   "source": [
    "#Lets try adding some more data - now we'll add data about holidays.\n",
    "\n",
    "holiday_combo = saved_for_later.copy()\n",
    "\n",
    "# https://www.vic.gov.au/school-term-dates-and-holidays-victoria\n",
    "school_hol = (['2019-04-05T23:59', '2019-04-22T23:59'],\n",
    "            ['2019-06-28T23:59', '2019-07-14T23:59'],\n",
    "            ['2019-09-20T23:59', '2019-10-06T23:59'],\n",
    "            ['2019-12-20T23:59', '2020-01-28T23:59'],\n",
    "            ['2020-03-24T23:59', '2020-04-13T23:59'],\n",
    "            ['2020-06-26T19:59', '2020-07-12T23:59'],              \n",
    "            ['2020-09-18T23:59', '2020-10-04T23:59'],\n",
    "            ['2020-12-18T23:59', '2021-01-27T23:59'],\n",
    "            ['2021-04-01T23:59', '2021-04-18T23:59'],\n",
    "            ['2021-06-25T23:59', '2021-07-11T23:59'],\n",
    "            ['2021-09-17T23:59', '2021-10-03T23:59'],\n",
    "            ['2021-12-17T23:59', '2022-01-30T23:59'],\n",
    "            ['2022-04-08T23:59', '2022-04-25T23:59'],\n",
    "            ['2022-06-24T23:59', '2022-07-10T23:59'],             \n",
    "            ['2022-09-16T23:59', '2022-10-02T23:59'])\n",
    "\n",
    "# https://business.vic.gov.au/business-information/public-holidays/\n",
    "public_hol = (['2018-12-31T23:59', '2019-01-01T23:59'],\n",
    "            ['2019-01-27T23:59', '2019-01-28T23:59'],\n",
    "            ['2019-03-10T23:59', '2019-03-11T23:59'],\n",
    "            ['2019-04-18T23:59', '2019-04-22T23:59'],\n",
    "            ['2019-04-24T23:59', '2019-04-25T23:59'],\n",
    "            ['2019-06-09T23:59', '2019-06-10T23:59'],\n",
    "            ['2019-09-26T23:59', '2019-09-27T23:59'],\n",
    "            ['2019-11-04T23:59', '2019-11-05T23:59'],  \n",
    "            ['2019-12-24T23:59', '2019-12-26T23:59'],  \n",
    "            ['2019-12-31T23:59', '2020-01-01T23:59'],\n",
    "            ['2020-01-26T19:59', '2020-01-27T23:59'],              \n",
    "            ['2020-03-08T23:59', '2020-03-09T23:59'],\n",
    "            ['2020-04-09T23:59', '2020-04-13T23:59'],\n",
    "            ['2020-04-24T19:59', '2020-04-25T23:59'],              \n",
    "            ['2020-06-07T23:59', '2020-06-08T23:59'],              \n",
    "            ['2020-10-22T23:59', '2020-10-23T23:59'],\n",
    "            ['2020-11-02T19:59', '2020-11-03T23:59'],              \n",
    "            ['2020-12-24T23:59', '2020-12-25T23:59'],              \n",
    "            ['2020-12-27T23:59', '2020-12-28T23:59'],              \n",
    "            ['2020-12-31T23:59', '2021-01-01T23:59'],\n",
    "            ['2021-01-25T23:59', '2021-01-26T23:59'],\n",
    "            ['2021-03-07T23:59', '2021-03-08T23:59'],\n",
    "            ['2021-04-01T23:59', '2021-04-05T23:59'],\n",
    "            ['2021-04-24T23:59', '2021-04-25T23:59'],\n",
    "            ['2021-06-13T23:59', '2021-06-14T23:59'],\n",
    "            ['2021-09-23T23:59', '2021-09-24T23:59'],              \n",
    "            ['2021-11-01T23:59', '2021-11-02T23:59'],\n",
    "            ['2021-12-24T23:59', '2021-12-26T23:59'],\n",
    "            ['2022-01-02T23:59', '2022-01-03T23:59'],\n",
    "            ['2022-01-25T23:59', '2022-01-26T23:59'],     \n",
    "            ['2022-03-13T23:59', '2022-03-14T23:59'],\n",
    "            ['2022-04-14T23:59', '2022-04-18T23:59'],\n",
    "            ['2022-04-24T23:59', '2022-04-25T23:59'],\n",
    "            ['2022-06-12T23:59', '2022-06-13T23:59'],\n",
    "            ['2022-09-22T23:59', '2022-09-23T23:59'])\n",
    "\n",
    "holiday_combo[['school_hol', 'public_hol']] = 0\n"
   ]
  },
  {
   "cell_type": "code",
   "execution_count": 88,
   "id": "19a01539",
   "metadata": {},
   "outputs": [],
   "source": [
    "for i in range (0, len(school_hol)):\n",
    "    start = school_hol[i][0]\n",
    "    end = school_hol[i][1]\n",
    "    holiday_combo['school_hol'] = np.where((holiday_combo['date_time_x'] > start)\n",
    "                                               & (holiday_combo['date_time_x'] < end), 1, 0)"
   ]
  },
  {
   "cell_type": "code",
   "execution_count": 89,
   "id": "3eaea4ad",
   "metadata": {},
   "outputs": [],
   "source": [
    "for i in range (0, len(public_hol)):\n",
    "    start = public_hol[i][0]\n",
    "    end = public_hol[i][1]\n",
    "    holiday_combo['public_hol'] = np.where((holiday_combo['date_time_x'] > start)\n",
    "                                               & (holiday_combo['date_time_x'] < end), 1, 0)"
   ]
  },
  {
   "cell_type": "code",
   "execution_count": 90,
   "id": "297091b7",
   "metadata": {},
   "outputs": [],
   "source": [
    "holiday_combo.drop(['date_time_x', 'date_time_y', 'year', 'sensor_id', 'datetime'\n",
    "                               , 'sensor_name', 'lat', 'lon', 'sensor_description'\n",
    "                               , 'mdate', 'datetime'], axis = 1, inplace = True)"
   ]
  },
  {
   "cell_type": "code",
   "execution_count": 91,
   "id": "d5a4039b",
   "metadata": {},
   "outputs": [],
   "source": [
    "holiday_combo.fillna(method='ffill', inplace = True)\n",
    "saved_for_later_v2 = holiday_combo.copy()"
   ]
  },
  {
   "cell_type": "code",
   "execution_count": 92,
   "id": "6ec13a31",
   "metadata": {},
   "outputs": [],
   "source": [
    "scaler = MinMaxScaler()\n",
    "scaled = scaler.fit_transform(holiday_combo)\n",
    "\n",
    "new_sequence = np.zeros((scaled.shape[0], scaled.shape[1]+1), dtype=float)\n",
    "\n",
    "for i in range (0, scaled.shape[0]-1):\n",
    "    new_sequence[i][0:19] = scaled[i][0:19]\n",
    "    new_sequence[i][20] = scaled[i+1][3]"
   ]
  },
  {
   "cell_type": "code",
   "execution_count": 93,
   "id": "83191dce",
   "metadata": {},
   "outputs": [],
   "source": [
    "train = new_sequence[0:12000, :]\n",
    "test = new_sequence[12000:15000, :]\n",
    "val = new_sequence[15000:,:]\n",
    "\n",
    "train_x, train_y = train[:, :-1], train[:, -1]\n",
    "test_x, test_y = test[:, :-1], test[:, -1]\n",
    "val_x, val_y = val[:, :-1], val[:, -1]\n",
    "\n",
    "train_x = train_x.reshape((train_x.shape[0], 1, train_x.shape[1]))\n",
    "test_x = test_x.reshape((test_x.shape[0], 1, test_x.shape[1]))\n",
    "val_x = val_x.reshape((val_x.shape[0], 1, val_x.shape[1]))"
   ]
  },
  {
   "cell_type": "code",
   "execution_count": 94,
   "id": "ee43c483",
   "metadata": {},
   "outputs": [],
   "source": [
    "learning_rate = 0.00001\n",
    "\n",
    "# define model\n",
    "model = Sequential()\n",
    "model.add(Bidirectional(LSTM(48, return_sequences=True, input_shape=(train_x.shape[1], train_x.shape[2]))))\n",
    "model.add(Dropout(0.2))\n",
    "model.add(BatchNormalization())\n",
    "model.add(LSTM(96, return_sequences=True, input_shape=(train_x.shape[1], train_x.shape[2])))\n",
    "model.add(Dropout(0.2))\n",
    "model.add(LSTM(120, return_sequences=True, input_shape=(train_x.shape[1], train_x.shape[2])))\n",
    "model.add(Dropout(0.2))\n",
    "model.add(LSTM(196, input_shape=(train_x.shape[1], train_x.shape[2])))\n",
    "model.add(Dropout(0.2))\n",
    "model.add(Dense(48, kernel_initializer='normal', activation='relu'))\n",
    "model.add(Dropout(0.2))\n",
    "model.add(Dense(1, kernel_initializer='normal', activation='sigmoid'))\n",
    "\n",
    "opt = keras.optimizers.Adam(learning_rate=learning_rate)\n",
    "\n",
    "model.compile(optimizer=opt, loss='mse')"
   ]
  },
  {
   "cell_type": "code",
   "execution_count": 95,
   "id": "4c29e290",
   "metadata": {},
   "outputs": [
    {
     "data": {
      "text/plain": [
       "<keras.callbacks.History at 0x1bfc44484c0>"
      ]
     },
     "execution_count": 95,
     "metadata": {},
     "output_type": "execute_result"
    }
   ],
   "source": [
    "model.fit(train_x, train_y, validation_data =(test_x, test_y), epochs=500, verbose=0, batch_size = 64)"
   ]
  },
  {
   "cell_type": "code",
   "execution_count": 96,
   "id": "c907d330",
   "metadata": {},
   "outputs": [
    {
     "name": "stdout",
     "output_type": "stream",
     "text": [
      "89/89 [==============================] - 2s 6ms/step\n",
      "R-squared score: 0.934\n"
     ]
    }
   ],
   "source": [
    "yhat = model.predict(val_x)\n",
    "new_val_x = val_x.reshape((val_x.shape[0], val_x.shape[2]))\n",
    "# invert scaling for forecast\n",
    "inv_yhat = concatenate((yhat, new_val_x[:, 1:]), axis=1)\n",
    "inv_yhat = scaler.inverse_transform(inv_yhat)\n",
    "inv_yhat = inv_yhat[:,0]\n",
    "# invert scaling for actual\n",
    "val_y = val_y.reshape((len(val_y), 1))\n",
    "inv_y = concatenate((val_y, new_val_x[:, 1:]), axis=1)\n",
    "inv_y = scaler.inverse_transform(inv_y)\n",
    "inv_y = inv_y[:,0]\n",
    "\n",
    "r2 = r2_score(inv_y, inv_yhat)\n",
    "print('R-squared score: %.3f' % r2)"
   ]
  },
  {
   "cell_type": "code",
   "execution_count": 97,
   "id": "68dc9c88",
   "metadata": {},
   "outputs": [],
   "source": [
    "#Save the model:\n",
    "model.save(\"LSTM_multivariate_5.h5\")"
   ]
  },
  {
   "cell_type": "markdown",
   "id": "dbeb2256",
   "metadata": {},
   "source": [
    "##### Now let's try different models:"
   ]
  },
  {
   "cell_type": "code",
   "execution_count": 98,
   "id": "f5498eac",
   "metadata": {},
   "outputs": [],
   "source": [
    "#Now lets compare with other regression models...\n",
    "from sklearn.ensemble import RandomForestRegressor"
   ]
  },
  {
   "cell_type": "code",
   "execution_count": 99,
   "id": "369d1b5d",
   "metadata": {},
   "outputs": [],
   "source": [
    "single_sensor_climate = combo_climate.loc[combo_climate.sensor_name == 'Town Hall (West)'].copy()\n",
    "\n",
    "month_dict = {'January' : 1, 'February': 2, 'March': 3, 'April': 4, 'May': 5, 'June': 6, 'July': 7,\n",
    "              'August': 8, 'September': 9, 'October': 10, 'November': 11, 'December': 12}\n",
    "day_dict = {'Monday': 1, 'Tuesday': 2, 'Wednesday': 3, 'Thursday': 4, 'Friday': 5, 'Saturday': 6, 'Sunday': 7}\n",
    "\n",
    "single_sensor_climate.replace({'month': month_dict, 'day': day_dict}, inplace = True)\n",
    "\n",
    "single_sensor_climate.drop(['date_time_x', 'date_time_y','year', 'sensor_id', 'sensor_name'\n",
    "                            , 'lat', 'lon', 'sensor_description', 'mdate'], axis = 1, inplace = True)\n",
    "\n",
    "single_sensor_climate.fillna(method='ffill', inplace = True)\n",
    "\n",
    "scaler = MinMaxScaler()\n",
    "scaled = scaler.fit_transform(single_sensor_climate)\n",
    "\n",
    "new_sequence = np.zeros((scaled.shape[0], scaled.shape[1]+1), dtype=float)\n",
    "\n",
    "for i in range (0, scaled.shape[0]-1):\n",
    "    new_sequence[i][0:15] = scaled[i][0:15]\n",
    "    new_sequence[i][16] = scaled[i+1][3]"
   ]
  },
  {
   "cell_type": "code",
   "execution_count": 100,
   "id": "d8bd6796",
   "metadata": {},
   "outputs": [],
   "source": [
    "train = new_sequence[0:12000, :]\n",
    "test = new_sequence[12001:,:]\n",
    "\n",
    "train_x, train_y = train[:, :-1], train[:, -1]\n",
    "test_x, test_y = test[:, :-1], test[:, -1]"
   ]
  },
  {
   "cell_type": "code",
   "execution_count": 101,
   "id": "08611b71",
   "metadata": {},
   "outputs": [
    {
     "name": "stdout",
     "output_type": "stream",
     "text": [
      "The Random Forest regressor's R-squared score:  0.8972973048141998\n"
     ]
    }
   ],
   "source": [
    "RFR = RandomForestRegressor(n_estimators=350, min_samples_split = 20, min_samples_leaf = 20, max_depth=100, n_jobs= -1, max_features=50)\n",
    "RFR.fit(train_x, train_y)\n",
    "print(\"The Random Forest regressor's R-squared score: \", RFR.score(test_x, test_y))"
   ]
  },
  {
   "cell_type": "code",
   "execution_count": 102,
   "id": "3d6bcde3",
   "metadata": {},
   "outputs": [],
   "source": [
    "train = new_sequence[0:12000, :]\n",
    "test = new_sequence[12000:15000, :]\n",
    "val = new_sequence[15000:,:]\n",
    "\n",
    "train_x, train_y = train[:, :-1], train[:, -1]\n",
    "test_x, test_y = test[:, :-1], test[:, -1]\n",
    "val_x, val_y = val[:, :-1], val[:, -1]\n",
    "\n",
    "train_x = train_x.reshape((train_x.shape[0], 1, train_x.shape[1]))\n",
    "test_x = test_x.reshape((test_x.shape[0], 1, test_x.shape[1]))\n",
    "val_x = val_x.reshape((val_x.shape[0], 1, val_x.shape[1]))"
   ]
  },
  {
   "cell_type": "code",
   "execution_count": 103,
   "id": "5000acf2",
   "metadata": {},
   "outputs": [],
   "source": [
    "\n",
    "model = Sequential()\n",
    "model.add(Bidirectional(LSTM(48, return_sequences=True, input_shape=(train_x.shape[1], train_x.shape[2]))))\n",
    "model.add(Dropout(0.2))\n",
    "model.add(GRU(units=50, return_sequences=True, input_shape=(train_x.shape[1], train_x.shape[2]), activation='tanh'))\n",
    "model.add(Dropout(0.2))\n",
    "model.add(BatchNormalization())\n",
    "model.add(GRU(units=75, return_sequences=True, input_shape=(train_x.shape[1], train_x.shape[2]), activation='tanh'))\n",
    "model.add(Dropout(0.2))\n",
    "model.add(GRU(units=100, return_sequences=True, input_shape=(train_x.shape[1], train_x.shape[2]), activation='tanh'))\n",
    "model.add(Dropout(0.2))\n",
    "model.add(GRU(units=125, activation='tanh'))\n",
    "\n",
    "model.add(Dense(1))\n",
    "model.compile(optimizer=SGD(learning_rate=0.01, decay=1e-7, momentum=0.95, nesterov=False),loss='mean_squared_error')\n"
   ]
  },
  {
   "cell_type": "code",
   "execution_count": 104,
   "id": "0d87e054",
   "metadata": {},
   "outputs": [
    {
     "name": "stdout",
     "output_type": "stream",
     "text": [
      "Epoch 1/500\n",
      "188/188 [==============================] - 15s 27ms/step - loss: 0.0227 - val_loss: 0.0219\n",
      "Epoch 2/500\n",
      "188/188 [==============================] - 3s 16ms/step - loss: 0.0072 - val_loss: 0.0157\n",
      "Epoch 3/500\n",
      "188/188 [==============================] - 3s 17ms/step - loss: 0.0063 - val_loss: 0.0089\n",
      "Epoch 4/500\n",
      "188/188 [==============================] - 3s 16ms/step - loss: 0.0055 - val_loss: 0.0053\n",
      "Epoch 5/500\n",
      "188/188 [==============================] - 3s 17ms/step - loss: 0.0054 - val_loss: 0.0049\n",
      "Epoch 6/500\n",
      "188/188 [==============================] - 3s 17ms/step - loss: 0.0053 - val_loss: 0.0049\n",
      "Epoch 7/500\n",
      "188/188 [==============================] - 3s 17ms/step - loss: 0.0050 - val_loss: 0.0051\n",
      "Epoch 8/500\n",
      "188/188 [==============================] - 3s 17ms/step - loss: 0.0049 - val_loss: 0.0049\n",
      "Epoch 9/500\n",
      "188/188 [==============================] - 3s 17ms/step - loss: 0.0048 - val_loss: 0.0049\n",
      "Epoch 10/500\n",
      "188/188 [==============================] - 3s 18ms/step - loss: 0.0051 - val_loss: 0.0050\n",
      "Epoch 11/500\n",
      "188/188 [==============================] - 3s 17ms/step - loss: 0.0049 - val_loss: 0.0050\n",
      "Epoch 12/500\n",
      "188/188 [==============================] - 3s 16ms/step - loss: 0.0049 - val_loss: 0.0050\n",
      "Epoch 13/500\n",
      "188/188 [==============================] - 3s 17ms/step - loss: 0.0046 - val_loss: 0.0048\n",
      "Epoch 14/500\n",
      "188/188 [==============================] - 3s 17ms/step - loss: 0.0048 - val_loss: 0.0055\n",
      "Epoch 15/500\n",
      "188/188 [==============================] - 3s 17ms/step - loss: 0.0046 - val_loss: 0.0049\n",
      "Epoch 16/500\n",
      "188/188 [==============================] - 3s 17ms/step - loss: 0.0046 - val_loss: 0.0048\n",
      "Epoch 17/500\n",
      "188/188 [==============================] - 3s 17ms/step - loss: 0.0047 - val_loss: 0.0048\n",
      "Epoch 18/500\n",
      "188/188 [==============================] - 3s 17ms/step - loss: 0.0045 - val_loss: 0.0052\n",
      "Epoch 19/500\n",
      "188/188 [==============================] - 3s 17ms/step - loss: 0.0045 - val_loss: 0.0049\n",
      "Epoch 20/500\n",
      "188/188 [==============================] - 3s 17ms/step - loss: 0.0045 - val_loss: 0.0051\n",
      "Epoch 21/500\n",
      "188/188 [==============================] - 3s 17ms/step - loss: 0.0044 - val_loss: 0.0048\n",
      "Epoch 22/500\n",
      "188/188 [==============================] - 3s 17ms/step - loss: 0.0044 - val_loss: 0.0049\n",
      "Epoch 23/500\n",
      "188/188 [==============================] - 3s 17ms/step - loss: 0.0044 - val_loss: 0.0051\n",
      "Epoch 24/500\n",
      "188/188 [==============================] - 3s 17ms/step - loss: 0.0044 - val_loss: 0.0054\n",
      "Epoch 25/500\n",
      "188/188 [==============================] - 3s 17ms/step - loss: 0.0045 - val_loss: 0.0048\n",
      "Epoch 26/500\n",
      "188/188 [==============================] - 3s 17ms/step - loss: 0.0043 - val_loss: 0.0049\n",
      "Epoch 27/500\n",
      "188/188 [==============================] - 3s 17ms/step - loss: 0.0044 - val_loss: 0.0049\n",
      "Epoch 28/500\n",
      "188/188 [==============================] - 3s 17ms/step - loss: 0.0045 - val_loss: 0.0048\n",
      "Epoch 29/500\n",
      "188/188 [==============================] - 3s 17ms/step - loss: 0.0043 - val_loss: 0.0049\n",
      "Epoch 30/500\n",
      "188/188 [==============================] - 3s 17ms/step - loss: 0.0042 - val_loss: 0.0048\n",
      "Epoch 31/500\n",
      "188/188 [==============================] - 3s 17ms/step - loss: 0.0042 - val_loss: 0.0053\n",
      "Epoch 32/500\n",
      "188/188 [==============================] - 3s 17ms/step - loss: 0.0043 - val_loss: 0.0055\n",
      "Epoch 33/500\n",
      "188/188 [==============================] - 3s 17ms/step - loss: 0.0042 - val_loss: 0.0048\n",
      "Epoch 34/500\n",
      "188/188 [==============================] - 3s 17ms/step - loss: 0.0043 - val_loss: 0.0051\n",
      "Epoch 35/500\n",
      "188/188 [==============================] - 3s 17ms/step - loss: 0.0041 - val_loss: 0.0048\n",
      "Epoch 36/500\n",
      "188/188 [==============================] - 3s 17ms/step - loss: 0.0042 - val_loss: 0.0051\n",
      "Epoch 37/500\n",
      "188/188 [==============================] - 3s 17ms/step - loss: 0.0044 - val_loss: 0.0048\n",
      "Epoch 38/500\n",
      "188/188 [==============================] - 3s 17ms/step - loss: 0.0043 - val_loss: 0.0049\n",
      "Epoch 39/500\n",
      "188/188 [==============================] - 3s 17ms/step - loss: 0.0041 - val_loss: 0.0050\n",
      "Epoch 40/500\n",
      "188/188 [==============================] - 3s 17ms/step - loss: 0.0042 - val_loss: 0.0049\n",
      "Epoch 41/500\n",
      "188/188 [==============================] - 3s 17ms/step - loss: 0.0041 - val_loss: 0.0048\n",
      "Epoch 42/500\n",
      "188/188 [==============================] - 3s 17ms/step - loss: 0.0041 - val_loss: 0.0050\n",
      "Epoch 43/500\n",
      "188/188 [==============================] - 3s 17ms/step - loss: 0.0040 - val_loss: 0.0048\n",
      "Epoch 44/500\n",
      "188/188 [==============================] - 3s 17ms/step - loss: 0.0041 - val_loss: 0.0050\n",
      "Epoch 45/500\n",
      "188/188 [==============================] - 3s 17ms/step - loss: 0.0041 - val_loss: 0.0049\n",
      "Epoch 46/500\n",
      "188/188 [==============================] - 3s 17ms/step - loss: 0.0040 - val_loss: 0.0048\n",
      "Epoch 47/500\n",
      "188/188 [==============================] - 3s 17ms/step - loss: 0.0041 - val_loss: 0.0048\n",
      "Epoch 48/500\n",
      "188/188 [==============================] - 3s 17ms/step - loss: 0.0041 - val_loss: 0.0048\n",
      "Epoch 49/500\n",
      "188/188 [==============================] - 3s 18ms/step - loss: 0.0041 - val_loss: 0.0048\n",
      "Epoch 50/500\n",
      "188/188 [==============================] - 4s 19ms/step - loss: 0.0040 - val_loss: 0.0049\n",
      "Epoch 51/500\n",
      "188/188 [==============================] - 3s 17ms/step - loss: 0.0040 - val_loss: 0.0049\n",
      "Epoch 52/500\n",
      "188/188 [==============================] - 3s 17ms/step - loss: 0.0039 - val_loss: 0.0048\n",
      "Epoch 53/500\n",
      "188/188 [==============================] - 3s 19ms/step - loss: 0.0040 - val_loss: 0.0051\n",
      "Epoch 54/500\n",
      "188/188 [==============================] - 4s 20ms/step - loss: 0.0040 - val_loss: 0.0048\n",
      "Epoch 55/500\n",
      "188/188 [==============================] - 4s 20ms/step - loss: 0.0040 - val_loss: 0.0049\n",
      "Epoch 56/500\n",
      "188/188 [==============================] - 3s 17ms/step - loss: 0.0039 - val_loss: 0.0048\n",
      "Epoch 57/500\n",
      "188/188 [==============================] - 3s 18ms/step - loss: 0.0040 - val_loss: 0.0050\n",
      "Epoch 58/500\n",
      "188/188 [==============================] - 3s 18ms/step - loss: 0.0038 - val_loss: 0.0048\n",
      "Epoch 59/500\n",
      "188/188 [==============================] - 3s 17ms/step - loss: 0.0040 - val_loss: 0.0047\n",
      "Epoch 60/500\n",
      "188/188 [==============================] - 3s 17ms/step - loss: 0.0040 - val_loss: 0.0047\n",
      "Epoch 61/500\n",
      "188/188 [==============================] - 3s 17ms/step - loss: 0.0039 - val_loss: 0.0047\n",
      "Epoch 62/500\n",
      "188/188 [==============================] - 3s 17ms/step - loss: 0.0040 - val_loss: 0.0050\n",
      "Epoch 63/500\n",
      "188/188 [==============================] - 3s 18ms/step - loss: 0.0039 - val_loss: 0.0048\n",
      "Epoch 64/500\n",
      "188/188 [==============================] - 3s 18ms/step - loss: 0.0038 - val_loss: 0.0047\n",
      "Epoch 65/500\n",
      "188/188 [==============================] - 3s 17ms/step - loss: 0.0038 - val_loss: 0.0048\n",
      "Epoch 66/500\n",
      "188/188 [==============================] - 3s 17ms/step - loss: 0.0039 - val_loss: 0.0048\n",
      "Epoch 67/500\n",
      "188/188 [==============================] - 3s 18ms/step - loss: 0.0041 - val_loss: 0.0048\n",
      "Epoch 68/500\n",
      "188/188 [==============================] - 3s 17ms/step - loss: 0.0038 - val_loss: 0.0049\n",
      "Epoch 69/500\n",
      "188/188 [==============================] - 3s 17ms/step - loss: 0.0038 - val_loss: 0.0047\n",
      "Epoch 70/500\n",
      "188/188 [==============================] - 4s 20ms/step - loss: 0.0038 - val_loss: 0.0047\n",
      "Epoch 71/500\n",
      "188/188 [==============================] - 4s 19ms/step - loss: 0.0039 - val_loss: 0.0048\n",
      "Epoch 72/500\n",
      "188/188 [==============================] - 3s 19ms/step - loss: 0.0039 - val_loss: 0.0047\n",
      "Epoch 73/500\n",
      "188/188 [==============================] - 3s 18ms/step - loss: 0.0038 - val_loss: 0.0047\n",
      "Epoch 74/500\n",
      "188/188 [==============================] - 3s 18ms/step - loss: 0.0037 - val_loss: 0.0050\n",
      "Epoch 75/500\n",
      "188/188 [==============================] - 3s 17ms/step - loss: 0.0037 - val_loss: 0.0048\n",
      "Epoch 76/500\n",
      "188/188 [==============================] - 3s 17ms/step - loss: 0.0039 - val_loss: 0.0047\n",
      "Epoch 77/500\n",
      "188/188 [==============================] - 3s 17ms/step - loss: 0.0037 - val_loss: 0.0051\n",
      "Epoch 78/500\n",
      "188/188 [==============================] - 3s 17ms/step - loss: 0.0038 - val_loss: 0.0046\n",
      "Epoch 79/500\n",
      "188/188 [==============================] - 3s 17ms/step - loss: 0.0039 - val_loss: 0.0047\n",
      "Epoch 80/500\n"
     ]
    },
    {
     "name": "stdout",
     "output_type": "stream",
     "text": [
      "188/188 [==============================] - 3s 17ms/step - loss: 0.0037 - val_loss: 0.0050\n",
      "Epoch 81/500\n",
      "188/188 [==============================] - 3s 17ms/step - loss: 0.0039 - val_loss: 0.0047\n",
      "Epoch 82/500\n",
      "188/188 [==============================] - 3s 17ms/step - loss: 0.0040 - val_loss: 0.0046\n",
      "Epoch 83/500\n",
      "188/188 [==============================] - 3s 18ms/step - loss: 0.0038 - val_loss: 0.0046\n",
      "Epoch 84/500\n",
      "188/188 [==============================] - 3s 18ms/step - loss: 0.0037 - val_loss: 0.0047\n",
      "Epoch 85/500\n",
      "188/188 [==============================] - 3s 17ms/step - loss: 0.0037 - val_loss: 0.0048\n",
      "Epoch 86/500\n",
      "188/188 [==============================] - 3s 18ms/step - loss: 0.0037 - val_loss: 0.0052\n",
      "Epoch 87/500\n",
      "188/188 [==============================] - 3s 17ms/step - loss: 0.0037 - val_loss: 0.0047\n",
      "Epoch 88/500\n",
      "188/188 [==============================] - 3s 18ms/step - loss: 0.0037 - val_loss: 0.0047\n",
      "Epoch 89/500\n",
      "188/188 [==============================] - 3s 18ms/step - loss: 0.0037 - val_loss: 0.0047\n",
      "Epoch 90/500\n",
      "188/188 [==============================] - 3s 17ms/step - loss: 0.0038 - val_loss: 0.0047\n",
      "Epoch 91/500\n",
      "188/188 [==============================] - 3s 18ms/step - loss: 0.0037 - val_loss: 0.0048\n",
      "Epoch 92/500\n",
      "188/188 [==============================] - 3s 17ms/step - loss: 0.0037 - val_loss: 0.0050\n",
      "Epoch 93/500\n",
      "188/188 [==============================] - 3s 17ms/step - loss: 0.0037 - val_loss: 0.0051\n",
      "Epoch 94/500\n",
      "188/188 [==============================] - 3s 17ms/step - loss: 0.0036 - val_loss: 0.0047\n",
      "Epoch 95/500\n",
      "188/188 [==============================] - 3s 17ms/step - loss: 0.0037 - val_loss: 0.0047\n",
      "Epoch 96/500\n",
      "188/188 [==============================] - 3s 18ms/step - loss: 0.0037 - val_loss: 0.0048\n",
      "Epoch 97/500\n",
      "188/188 [==============================] - 3s 19ms/step - loss: 0.0036 - val_loss: 0.0047\n",
      "Epoch 98/500\n",
      "188/188 [==============================] - 3s 18ms/step - loss: 0.0037 - val_loss: 0.0047\n",
      "Epoch 99/500\n",
      "188/188 [==============================] - 3s 18ms/step - loss: 0.0036 - val_loss: 0.0046\n",
      "Epoch 100/500\n",
      "188/188 [==============================] - 3s 17ms/step - loss: 0.0037 - val_loss: 0.0046\n",
      "Epoch 101/500\n",
      "188/188 [==============================] - 3s 18ms/step - loss: 0.0037 - val_loss: 0.0047\n",
      "Epoch 102/500\n",
      "188/188 [==============================] - 3s 18ms/step - loss: 0.0036 - val_loss: 0.0049\n",
      "Epoch 103/500\n",
      "188/188 [==============================] - 3s 17ms/step - loss: 0.0037 - val_loss: 0.0048\n",
      "Epoch 104/500\n",
      "188/188 [==============================] - 3s 17ms/step - loss: 0.0035 - val_loss: 0.0048\n",
      "Epoch 105/500\n",
      "188/188 [==============================] - 3s 17ms/step - loss: 0.0039 - val_loss: 0.0048\n",
      "Epoch 106/500\n",
      "188/188 [==============================] - 3s 18ms/step - loss: 0.0037 - val_loss: 0.0046\n",
      "Epoch 107/500\n",
      "188/188 [==============================] - 4s 19ms/step - loss: 0.0037 - val_loss: 0.0047\n",
      "Epoch 108/500\n",
      "188/188 [==============================] - 3s 17ms/step - loss: 0.0037 - val_loss: 0.0048\n",
      "Epoch 109/500\n",
      "188/188 [==============================] - 3s 16ms/step - loss: 0.0036 - val_loss: 0.0046\n",
      "Epoch 110/500\n",
      "188/188 [==============================] - 3s 18ms/step - loss: 0.0037 - val_loss: 0.0048\n",
      "Epoch 111/500\n",
      "188/188 [==============================] - 3s 18ms/step - loss: 0.0037 - val_loss: 0.0047\n",
      "Epoch 112/500\n",
      "188/188 [==============================] - 3s 17ms/step - loss: 0.0035 - val_loss: 0.0048\n",
      "Epoch 113/500\n",
      "188/188 [==============================] - 3s 17ms/step - loss: 0.0036 - val_loss: 0.0046\n",
      "Epoch 114/500\n",
      "188/188 [==============================] - 3s 18ms/step - loss: 0.0037 - val_loss: 0.0047\n",
      "Epoch 115/500\n",
      "188/188 [==============================] - 3s 17ms/step - loss: 0.0036 - val_loss: 0.0047\n",
      "Epoch 116/500\n",
      "188/188 [==============================] - 3s 16ms/step - loss: 0.0036 - val_loss: 0.0045\n",
      "Epoch 117/500\n",
      "188/188 [==============================] - 3s 16ms/step - loss: 0.0036 - val_loss: 0.0045\n",
      "Epoch 118/500\n",
      "188/188 [==============================] - 3s 17ms/step - loss: 0.0035 - val_loss: 0.0048\n",
      "Epoch 119/500\n",
      "188/188 [==============================] - 3s 18ms/step - loss: 0.0036 - val_loss: 0.0047\n",
      "Epoch 120/500\n",
      "188/188 [==============================] - 3s 18ms/step - loss: 0.0036 - val_loss: 0.0048\n",
      "Epoch 121/500\n",
      "188/188 [==============================] - 3s 17ms/step - loss: 0.0036 - val_loss: 0.0047\n",
      "Epoch 122/500\n",
      "188/188 [==============================] - 3s 16ms/step - loss: 0.0036 - val_loss: 0.0048\n",
      "Epoch 123/500\n",
      "188/188 [==============================] - 3s 18ms/step - loss: 0.0035 - val_loss: 0.0047\n",
      "Epoch 124/500\n",
      "188/188 [==============================] - 3s 17ms/step - loss: 0.0037 - val_loss: 0.0047\n",
      "Epoch 125/500\n",
      "188/188 [==============================] - 3s 17ms/step - loss: 0.0035 - val_loss: 0.0048\n",
      "Epoch 126/500\n",
      "188/188 [==============================] - 3s 17ms/step - loss: 0.0037 - val_loss: 0.0046\n",
      "Epoch 127/500\n",
      "188/188 [==============================] - 3s 17ms/step - loss: 0.0036 - val_loss: 0.0051\n",
      "Epoch 128/500\n",
      "188/188 [==============================] - 3s 16ms/step - loss: 0.0034 - val_loss: 0.0046\n",
      "Epoch 129/500\n",
      "188/188 [==============================] - 3s 16ms/step - loss: 0.0036 - val_loss: 0.0054\n",
      "Epoch 130/500\n",
      "188/188 [==============================] - 3s 16ms/step - loss: 0.0036 - val_loss: 0.0050\n",
      "Epoch 131/500\n",
      "188/188 [==============================] - 3s 17ms/step - loss: 0.0035 - val_loss: 0.0047\n",
      "Epoch 132/500\n",
      "188/188 [==============================] - 3s 17ms/step - loss: 0.0035 - val_loss: 0.0047\n",
      "Epoch 133/500\n",
      "188/188 [==============================] - 3s 17ms/step - loss: 0.0036 - val_loss: 0.0048\n",
      "Epoch 134/500\n",
      "188/188 [==============================] - 3s 17ms/step - loss: 0.0035 - val_loss: 0.0046\n",
      "Epoch 135/500\n",
      "188/188 [==============================] - 3s 17ms/step - loss: 0.0035 - val_loss: 0.0048\n",
      "Epoch 136/500\n",
      "188/188 [==============================] - 3s 17ms/step - loss: 0.0036 - val_loss: 0.0047\n",
      "Epoch 137/500\n",
      "188/188 [==============================] - 3s 17ms/step - loss: 0.0035 - val_loss: 0.0046\n",
      "Epoch 138/500\n",
      "188/188 [==============================] - 3s 17ms/step - loss: 0.0034 - val_loss: 0.0047\n",
      "Epoch 139/500\n",
      "188/188 [==============================] - 3s 18ms/step - loss: 0.0035 - val_loss: 0.0046\n",
      "Epoch 140/500\n",
      "188/188 [==============================] - 3s 17ms/step - loss: 0.0036 - val_loss: 0.0049\n",
      "Epoch 141/500\n",
      "188/188 [==============================] - 3s 17ms/step - loss: 0.0034 - val_loss: 0.0048\n",
      "Epoch 142/500\n",
      "188/188 [==============================] - 3s 17ms/step - loss: 0.0035 - val_loss: 0.0046\n",
      "Epoch 143/500\n",
      "188/188 [==============================] - 3s 17ms/step - loss: 0.0037 - val_loss: 0.0046\n",
      "Epoch 144/500\n",
      "188/188 [==============================] - 3s 17ms/step - loss: 0.0035 - val_loss: 0.0048\n",
      "Epoch 145/500\n",
      "188/188 [==============================] - 3s 17ms/step - loss: 0.0036 - val_loss: 0.0048\n",
      "Epoch 146/500\n",
      "188/188 [==============================] - 3s 17ms/step - loss: 0.0034 - val_loss: 0.0045\n",
      "Epoch 147/500\n",
      "188/188 [==============================] - 3s 17ms/step - loss: 0.0035 - val_loss: 0.0047\n",
      "Epoch 148/500\n",
      "188/188 [==============================] - 3s 17ms/step - loss: 0.0035 - val_loss: 0.0048\n",
      "Epoch 149/500\n",
      "188/188 [==============================] - 3s 17ms/step - loss: 0.0035 - val_loss: 0.0047\n",
      "Epoch 150/500\n",
      "188/188 [==============================] - 3s 16ms/step - loss: 0.0036 - val_loss: 0.0048\n",
      "Epoch 151/500\n",
      "188/188 [==============================] - 3s 17ms/step - loss: 0.0037 - val_loss: 0.0048\n",
      "Epoch 152/500\n",
      "188/188 [==============================] - 3s 17ms/step - loss: 0.0035 - val_loss: 0.0049\n",
      "Epoch 153/500\n",
      "188/188 [==============================] - 3s 17ms/step - loss: 0.0034 - val_loss: 0.0050\n",
      "Epoch 154/500\n",
      "188/188 [==============================] - 3s 17ms/step - loss: 0.0037 - val_loss: 0.0046\n",
      "Epoch 155/500\n",
      "188/188 [==============================] - 3s 17ms/step - loss: 0.0036 - val_loss: 0.0046\n",
      "Epoch 156/500\n",
      "188/188 [==============================] - 3s 17ms/step - loss: 0.0035 - val_loss: 0.0047\n",
      "Epoch 157/500\n",
      "188/188 [==============================] - 3s 16ms/step - loss: 0.0036 - val_loss: 0.0047\n",
      "Epoch 158/500\n",
      "188/188 [==============================] - 3s 17ms/step - loss: 0.0035 - val_loss: 0.0048\n",
      "Epoch 159/500\n"
     ]
    },
    {
     "name": "stdout",
     "output_type": "stream",
     "text": [
      "188/188 [==============================] - 3s 17ms/step - loss: 0.0035 - val_loss: 0.0047\n",
      "Epoch 160/500\n",
      "188/188 [==============================] - 3s 17ms/step - loss: 0.0034 - val_loss: 0.0047\n",
      "Epoch 161/500\n",
      "188/188 [==============================] - 3s 16ms/step - loss: 0.0034 - val_loss: 0.0048\n",
      "Epoch 162/500\n",
      "188/188 [==============================] - 3s 17ms/step - loss: 0.0036 - val_loss: 0.0049\n",
      "Epoch 163/500\n",
      "188/188 [==============================] - 3s 17ms/step - loss: 0.0033 - val_loss: 0.0045\n",
      "Epoch 164/500\n",
      "188/188 [==============================] - 3s 17ms/step - loss: 0.0034 - val_loss: 0.0050\n",
      "Epoch 165/500\n",
      "188/188 [==============================] - 3s 17ms/step - loss: 0.0035 - val_loss: 0.0047\n",
      "Epoch 166/500\n",
      "188/188 [==============================] - 3s 16ms/step - loss: 0.0034 - val_loss: 0.0048\n",
      "Epoch 167/500\n",
      "188/188 [==============================] - 3s 17ms/step - loss: 0.0035 - val_loss: 0.0046\n",
      "Epoch 168/500\n",
      "188/188 [==============================] - 3s 17ms/step - loss: 0.0035 - val_loss: 0.0048\n",
      "Epoch 169/500\n",
      "188/188 [==============================] - 3s 16ms/step - loss: 0.0035 - val_loss: 0.0048\n",
      "Epoch 170/500\n",
      "188/188 [==============================] - 3s 16ms/step - loss: 0.0035 - val_loss: 0.0048\n",
      "Epoch 171/500\n",
      "188/188 [==============================] - 3s 17ms/step - loss: 0.0033 - val_loss: 0.0047\n",
      "Epoch 172/500\n",
      "188/188 [==============================] - 3s 17ms/step - loss: 0.0034 - val_loss: 0.0049\n",
      "Epoch 173/500\n",
      "188/188 [==============================] - 3s 16ms/step - loss: 0.0034 - val_loss: 0.0046\n",
      "Epoch 174/500\n",
      "188/188 [==============================] - 3s 17ms/step - loss: 0.0035 - val_loss: 0.0047\n",
      "Epoch 175/500\n",
      "188/188 [==============================] - 3s 17ms/step - loss: 0.0034 - val_loss: 0.0048\n",
      "Epoch 176/500\n",
      "188/188 [==============================] - 3s 16ms/step - loss: 0.0035 - val_loss: 0.0049\n",
      "Epoch 177/500\n",
      "188/188 [==============================] - 3s 17ms/step - loss: 0.0034 - val_loss: 0.0048\n",
      "Epoch 178/500\n",
      "188/188 [==============================] - 3s 16ms/step - loss: 0.0034 - val_loss: 0.0047\n",
      "Epoch 179/500\n",
      "188/188 [==============================] - 3s 17ms/step - loss: 0.0034 - val_loss: 0.0049\n",
      "Epoch 180/500\n",
      "188/188 [==============================] - 3s 17ms/step - loss: 0.0035 - val_loss: 0.0048\n",
      "Epoch 181/500\n",
      "188/188 [==============================] - 3s 16ms/step - loss: 0.0034 - val_loss: 0.0046\n",
      "Epoch 182/500\n",
      "188/188 [==============================] - 3s 17ms/step - loss: 0.0034 - val_loss: 0.0047\n",
      "Epoch 183/500\n",
      "188/188 [==============================] - 3s 16ms/step - loss: 0.0034 - val_loss: 0.0050\n",
      "Epoch 184/500\n",
      "188/188 [==============================] - 3s 16ms/step - loss: 0.0034 - val_loss: 0.0050\n",
      "Epoch 185/500\n",
      "188/188 [==============================] - 3s 17ms/step - loss: 0.0034 - val_loss: 0.0047\n",
      "Epoch 186/500\n",
      "188/188 [==============================] - 3s 17ms/step - loss: 0.0034 - val_loss: 0.0047\n",
      "Epoch 187/500\n",
      "188/188 [==============================] - 3s 16ms/step - loss: 0.0035 - val_loss: 0.0049\n",
      "Epoch 188/500\n",
      "188/188 [==============================] - 3s 16ms/step - loss: 0.0035 - val_loss: 0.0046\n",
      "Epoch 189/500\n",
      "188/188 [==============================] - 3s 16ms/step - loss: 0.0033 - val_loss: 0.0046\n",
      "Epoch 190/500\n",
      "188/188 [==============================] - 3s 16ms/step - loss: 0.0034 - val_loss: 0.0047\n",
      "Epoch 191/500\n",
      "188/188 [==============================] - 3s 17ms/step - loss: 0.0034 - val_loss: 0.0047\n",
      "Epoch 192/500\n",
      "188/188 [==============================] - 3s 16ms/step - loss: 0.0034 - val_loss: 0.0050\n",
      "Epoch 193/500\n",
      "188/188 [==============================] - 3s 16ms/step - loss: 0.0033 - val_loss: 0.0046\n",
      "Epoch 194/500\n",
      "188/188 [==============================] - 3s 16ms/step - loss: 0.0034 - val_loss: 0.0047\n",
      "Epoch 195/500\n",
      "188/188 [==============================] - 3s 16ms/step - loss: 0.0033 - val_loss: 0.0047\n",
      "Epoch 196/500\n",
      "188/188 [==============================] - 3s 16ms/step - loss: 0.0035 - val_loss: 0.0049\n",
      "Epoch 197/500\n",
      "188/188 [==============================] - 3s 17ms/step - loss: 0.0035 - val_loss: 0.0047\n",
      "Epoch 198/500\n",
      "188/188 [==============================] - 3s 16ms/step - loss: 0.0034 - val_loss: 0.0046\n",
      "Epoch 199/500\n",
      "188/188 [==============================] - 3s 16ms/step - loss: 0.0036 - val_loss: 0.0047\n",
      "Epoch 200/500\n",
      "188/188 [==============================] - 3s 16ms/step - loss: 0.0034 - val_loss: 0.0055\n",
      "Epoch 201/500\n",
      "188/188 [==============================] - 3s 17ms/step - loss: 0.0034 - val_loss: 0.0046\n",
      "Epoch 202/500\n",
      "188/188 [==============================] - 3s 16ms/step - loss: 0.0033 - val_loss: 0.0048\n",
      "Epoch 203/500\n",
      "188/188 [==============================] - 3s 17ms/step - loss: 0.0034 - val_loss: 0.0047\n",
      "Epoch 204/500\n",
      "188/188 [==============================] - 3s 17ms/step - loss: 0.0034 - val_loss: 0.0046\n",
      "Epoch 205/500\n",
      "188/188 [==============================] - 3s 16ms/step - loss: 0.0033 - val_loss: 0.0048\n",
      "Epoch 206/500\n",
      "188/188 [==============================] - 3s 16ms/step - loss: 0.0033 - val_loss: 0.0047\n",
      "Epoch 207/500\n",
      "188/188 [==============================] - 3s 17ms/step - loss: 0.0034 - val_loss: 0.0046\n",
      "Epoch 208/500\n",
      "188/188 [==============================] - 3s 16ms/step - loss: 0.0033 - val_loss: 0.0048\n",
      "Epoch 209/500\n",
      "188/188 [==============================] - 3s 16ms/step - loss: 0.0033 - val_loss: 0.0047\n",
      "Epoch 210/500\n",
      "188/188 [==============================] - 3s 16ms/step - loss: 0.0034 - val_loss: 0.0046\n",
      "Epoch 211/500\n",
      "188/188 [==============================] - 3s 16ms/step - loss: 0.0035 - val_loss: 0.0049\n",
      "Epoch 212/500\n",
      "188/188 [==============================] - 3s 17ms/step - loss: 0.0034 - val_loss: 0.0048\n",
      "Epoch 213/500\n",
      "188/188 [==============================] - 3s 16ms/step - loss: 0.0033 - val_loss: 0.0047\n",
      "Epoch 214/500\n",
      "188/188 [==============================] - 3s 16ms/step - loss: 0.0033 - val_loss: 0.0050\n",
      "Epoch 215/500\n",
      "188/188 [==============================] - 3s 16ms/step - loss: 0.0035 - val_loss: 0.0046\n",
      "Epoch 216/500\n",
      "188/188 [==============================] - 3s 17ms/step - loss: 0.0033 - val_loss: 0.0049\n",
      "Epoch 217/500\n",
      "188/188 [==============================] - 3s 16ms/step - loss: 0.0034 - val_loss: 0.0051\n",
      "Epoch 218/500\n",
      "188/188 [==============================] - 3s 17ms/step - loss: 0.0033 - val_loss: 0.0050\n",
      "Epoch 219/500\n",
      "188/188 [==============================] - 3s 16ms/step - loss: 0.0034 - val_loss: 0.0046\n",
      "Epoch 220/500\n",
      "188/188 [==============================] - 3s 16ms/step - loss: 0.0033 - val_loss: 0.0049\n",
      "Epoch 221/500\n",
      "188/188 [==============================] - 3s 16ms/step - loss: 0.0033 - val_loss: 0.0047\n",
      "Epoch 222/500\n",
      "188/188 [==============================] - 3s 17ms/step - loss: 0.0033 - val_loss: 0.0046\n",
      "Epoch 223/500\n",
      "188/188 [==============================] - 3s 17ms/step - loss: 0.0033 - val_loss: 0.0046\n",
      "Epoch 224/500\n",
      "188/188 [==============================] - 3s 16ms/step - loss: 0.0034 - val_loss: 0.0050\n",
      "Epoch 225/500\n",
      "188/188 [==============================] - 3s 16ms/step - loss: 0.0034 - val_loss: 0.0047\n",
      "Epoch 226/500\n",
      "188/188 [==============================] - 3s 16ms/step - loss: 0.0034 - val_loss: 0.0049\n",
      "Epoch 227/500\n",
      "188/188 [==============================] - 3s 16ms/step - loss: 0.0034 - val_loss: 0.0046\n",
      "Epoch 228/500\n",
      "188/188 [==============================] - 3s 16ms/step - loss: 0.0033 - val_loss: 0.0049\n",
      "Epoch 229/500\n",
      "188/188 [==============================] - 3s 16ms/step - loss: 0.0034 - val_loss: 0.0048\n",
      "Epoch 230/500\n",
      "188/188 [==============================] - 3s 16ms/step - loss: 0.0033 - val_loss: 0.0048\n",
      "Epoch 231/500\n",
      "188/188 [==============================] - 3s 17ms/step - loss: 0.0033 - val_loss: 0.0047\n",
      "Epoch 232/500\n",
      "188/188 [==============================] - 3s 17ms/step - loss: 0.0034 - val_loss: 0.0053\n",
      "Epoch 233/500\n",
      "188/188 [==============================] - 3s 17ms/step - loss: 0.0034 - val_loss: 0.0048\n",
      "Epoch 234/500\n",
      "188/188 [==============================] - 3s 17ms/step - loss: 0.0033 - val_loss: 0.0048\n",
      "Epoch 235/500\n",
      "188/188 [==============================] - 3s 16ms/step - loss: 0.0034 - val_loss: 0.0047\n",
      "Epoch 236/500\n",
      "188/188 [==============================] - 3s 17ms/step - loss: 0.0033 - val_loss: 0.0050\n",
      "Epoch 237/500\n",
      "188/188 [==============================] - 3s 17ms/step - loss: 0.0034 - val_loss: 0.0049\n"
     ]
    },
    {
     "name": "stdout",
     "output_type": "stream",
     "text": [
      "Epoch 238/500\n",
      "188/188 [==============================] - 3s 17ms/step - loss: 0.0033 - val_loss: 0.0048\n",
      "Epoch 239/500\n",
      "188/188 [==============================] - 3s 17ms/step - loss: 0.0032 - val_loss: 0.0049\n",
      "Epoch 240/500\n",
      "188/188 [==============================] - 3s 17ms/step - loss: 0.0033 - val_loss: 0.0048\n",
      "Epoch 241/500\n",
      "188/188 [==============================] - 3s 16ms/step - loss: 0.0034 - val_loss: 0.0049\n",
      "Epoch 242/500\n",
      "188/188 [==============================] - 3s 16ms/step - loss: 0.0032 - val_loss: 0.0047\n",
      "Epoch 243/500\n",
      "188/188 [==============================] - 3s 16ms/step - loss: 0.0033 - val_loss: 0.0048\n",
      "Epoch 244/500\n",
      "188/188 [==============================] - 3s 16ms/step - loss: 0.0032 - val_loss: 0.0047\n",
      "Epoch 245/500\n",
      "188/188 [==============================] - 3s 16ms/step - loss: 0.0033 - val_loss: 0.0048\n",
      "Epoch 246/500\n",
      "188/188 [==============================] - 3s 17ms/step - loss: 0.0033 - val_loss: 0.0045\n",
      "Epoch 247/500\n",
      "188/188 [==============================] - 3s 18ms/step - loss: 0.0033 - val_loss: 0.0049\n",
      "Epoch 248/500\n",
      "188/188 [==============================] - 3s 16ms/step - loss: 0.0033 - val_loss: 0.0047\n",
      "Epoch 249/500\n",
      "188/188 [==============================] - 3s 16ms/step - loss: 0.0034 - val_loss: 0.0049\n",
      "Epoch 250/500\n",
      "188/188 [==============================] - 3s 16ms/step - loss: 0.0034 - val_loss: 0.0047\n",
      "Epoch 251/500\n",
      "188/188 [==============================] - 3s 16ms/step - loss: 0.0033 - val_loss: 0.0048\n",
      "Epoch 252/500\n",
      "188/188 [==============================] - 3s 16ms/step - loss: 0.0033 - val_loss: 0.0049\n",
      "Epoch 253/500\n",
      "188/188 [==============================] - 3s 16ms/step - loss: 0.0034 - val_loss: 0.0049\n",
      "Epoch 254/500\n",
      "188/188 [==============================] - 3s 16ms/step - loss: 0.0032 - val_loss: 0.0048\n",
      "Epoch 255/500\n",
      "188/188 [==============================] - 3s 16ms/step - loss: 0.0032 - val_loss: 0.0048\n",
      "Epoch 256/500\n",
      "188/188 [==============================] - 3s 16ms/step - loss: 0.0032 - val_loss: 0.0049\n",
      "Epoch 257/500\n",
      "188/188 [==============================] - 3s 16ms/step - loss: 0.0032 - val_loss: 0.0047\n",
      "Epoch 258/500\n",
      "188/188 [==============================] - 3s 18ms/step - loss: 0.0033 - val_loss: 0.0047\n",
      "Epoch 259/500\n",
      "188/188 [==============================] - 3s 18ms/step - loss: 0.0033 - val_loss: 0.0048\n",
      "Epoch 260/500\n",
      "188/188 [==============================] - 3s 18ms/step - loss: 0.0033 - val_loss: 0.0047\n",
      "Epoch 261/500\n",
      "188/188 [==============================] - 3s 18ms/step - loss: 0.0033 - val_loss: 0.0048\n",
      "Epoch 262/500\n",
      "188/188 [==============================] - 4s 19ms/step - loss: 0.0033 - val_loss: 0.0046\n",
      "Epoch 263/500\n",
      "188/188 [==============================] - 4s 19ms/step - loss: 0.0033 - val_loss: 0.0047\n",
      "Epoch 264/500\n",
      "188/188 [==============================] - 3s 18ms/step - loss: 0.0033 - val_loss: 0.0050\n",
      "Epoch 265/500\n",
      "188/188 [==============================] - 3s 17ms/step - loss: 0.0033 - val_loss: 0.0050\n",
      "Epoch 266/500\n",
      "188/188 [==============================] - 3s 17ms/step - loss: 0.0033 - val_loss: 0.0048\n",
      "Epoch 267/500\n",
      "188/188 [==============================] - 3s 18ms/step - loss: 0.0032 - val_loss: 0.0047\n",
      "Epoch 268/500\n",
      "188/188 [==============================] - 3s 18ms/step - loss: 0.0033 - val_loss: 0.0048\n",
      "Epoch 269/500\n",
      "188/188 [==============================] - 3s 17ms/step - loss: 0.0032 - val_loss: 0.0048\n",
      "Epoch 270/500\n",
      "188/188 [==============================] - 3s 18ms/step - loss: 0.0032 - val_loss: 0.0046\n",
      "Epoch 271/500\n",
      "188/188 [==============================] - 3s 17ms/step - loss: 0.0033 - val_loss: 0.0048\n",
      "Epoch 272/500\n",
      "188/188 [==============================] - 3s 18ms/step - loss: 0.0032 - val_loss: 0.0047\n",
      "Epoch 273/500\n",
      "188/188 [==============================] - 3s 17ms/step - loss: 0.0033 - val_loss: 0.0047\n",
      "Epoch 274/500\n",
      "188/188 [==============================] - 3s 17ms/step - loss: 0.0032 - val_loss: 0.0046\n",
      "Epoch 275/500\n",
      "188/188 [==============================] - 3s 17ms/step - loss: 0.0032 - val_loss: 0.0048\n",
      "Epoch 276/500\n",
      "188/188 [==============================] - 3s 18ms/step - loss: 0.0033 - val_loss: 0.0046\n",
      "Epoch 277/500\n",
      "188/188 [==============================] - 3s 17ms/step - loss: 0.0033 - val_loss: 0.0049\n",
      "Epoch 278/500\n",
      "188/188 [==============================] - 3s 17ms/step - loss: 0.0032 - val_loss: 0.0048\n",
      "Epoch 279/500\n",
      "188/188 [==============================] - 3s 17ms/step - loss: 0.0032 - val_loss: 0.0047\n",
      "Epoch 280/500\n",
      "188/188 [==============================] - 3s 18ms/step - loss: 0.0033 - val_loss: 0.0046\n",
      "Epoch 281/500\n",
      "188/188 [==============================] - 3s 17ms/step - loss: 0.0032 - val_loss: 0.0048\n",
      "Epoch 282/500\n",
      "188/188 [==============================] - 3s 17ms/step - loss: 0.0032 - val_loss: 0.0049\n",
      "Epoch 283/500\n",
      "188/188 [==============================] - 3s 18ms/step - loss: 0.0032 - val_loss: 0.0048\n",
      "Epoch 284/500\n",
      "188/188 [==============================] - 3s 17ms/step - loss: 0.0032 - val_loss: 0.0048\n",
      "Epoch 285/500\n",
      "188/188 [==============================] - 3s 17ms/step - loss: 0.0032 - val_loss: 0.0047\n",
      "Epoch 286/500\n",
      "188/188 [==============================] - 3s 17ms/step - loss: 0.0032 - val_loss: 0.0049\n",
      "Epoch 287/500\n",
      "188/188 [==============================] - 3s 17ms/step - loss: 0.0032 - val_loss: 0.0050\n",
      "Epoch 288/500\n",
      "188/188 [==============================] - 3s 17ms/step - loss: 0.0033 - val_loss: 0.0048\n",
      "Epoch 289/500\n",
      "188/188 [==============================] - 3s 17ms/step - loss: 0.0032 - val_loss: 0.0049\n",
      "Epoch 290/500\n",
      "188/188 [==============================] - 3s 17ms/step - loss: 0.0033 - val_loss: 0.0049\n",
      "Epoch 291/500\n",
      "188/188 [==============================] - 3s 17ms/step - loss: 0.0032 - val_loss: 0.0049\n",
      "Epoch 292/500\n",
      "188/188 [==============================] - 3s 17ms/step - loss: 0.0032 - val_loss: 0.0049\n",
      "Epoch 293/500\n",
      "188/188 [==============================] - 3s 17ms/step - loss: 0.0032 - val_loss: 0.0047\n",
      "Epoch 294/500\n",
      "188/188 [==============================] - 3s 17ms/step - loss: 0.0032 - val_loss: 0.0048\n",
      "Epoch 295/500\n",
      "188/188 [==============================] - 3s 17ms/step - loss: 0.0032 - val_loss: 0.0050\n",
      "Epoch 296/500\n",
      "188/188 [==============================] - 3s 17ms/step - loss: 0.0032 - val_loss: 0.0047\n",
      "Epoch 297/500\n",
      "188/188 [==============================] - 3s 18ms/step - loss: 0.0032 - val_loss: 0.0048\n",
      "Epoch 298/500\n",
      "188/188 [==============================] - 3s 17ms/step - loss: 0.0032 - val_loss: 0.0048\n",
      "Epoch 299/500\n",
      "188/188 [==============================] - 3s 17ms/step - loss: 0.0032 - val_loss: 0.0048\n",
      "Epoch 300/500\n",
      "188/188 [==============================] - 3s 17ms/step - loss: 0.0032 - val_loss: 0.0048\n",
      "Epoch 301/500\n",
      "188/188 [==============================] - 3s 18ms/step - loss: 0.0033 - val_loss: 0.0047\n",
      "Epoch 302/500\n",
      "188/188 [==============================] - 4s 19ms/step - loss: 0.0032 - val_loss: 0.0047\n",
      "Epoch 303/500\n",
      "188/188 [==============================] - 3s 17ms/step - loss: 0.0032 - val_loss: 0.0047\n",
      "Epoch 304/500\n",
      "188/188 [==============================] - 3s 18ms/step - loss: 0.0032 - val_loss: 0.0047\n",
      "Epoch 305/500\n",
      "188/188 [==============================] - 3s 17ms/step - loss: 0.0032 - val_loss: 0.0050\n",
      "Epoch 306/500\n",
      "188/188 [==============================] - 3s 18ms/step - loss: 0.0032 - val_loss: 0.0046\n",
      "Epoch 307/500\n",
      "188/188 [==============================] - 3s 17ms/step - loss: 0.0032 - val_loss: 0.0050\n",
      "Epoch 308/500\n",
      "188/188 [==============================] - 3s 18ms/step - loss: 0.0032 - val_loss: 0.0049\n",
      "Epoch 309/500\n",
      "188/188 [==============================] - 3s 18ms/step - loss: 0.0031 - val_loss: 0.0050\n",
      "Epoch 310/500\n",
      "188/188 [==============================] - 3s 17ms/step - loss: 0.0031 - val_loss: 0.0046\n",
      "Epoch 311/500\n",
      "188/188 [==============================] - 3s 17ms/step - loss: 0.0031 - val_loss: 0.0046\n",
      "Epoch 312/500\n",
      "188/188 [==============================] - 3s 17ms/step - loss: 0.0031 - val_loss: 0.0048\n",
      "Epoch 313/500\n",
      "188/188 [==============================] - 3s 17ms/step - loss: 0.0032 - val_loss: 0.0047\n",
      "Epoch 314/500\n",
      "188/188 [==============================] - 3s 17ms/step - loss: 0.0033 - val_loss: 0.0050\n",
      "Epoch 315/500\n",
      "188/188 [==============================] - 3s 17ms/step - loss: 0.0030 - val_loss: 0.0046\n",
      "Epoch 316/500\n",
      "188/188 [==============================] - 3s 17ms/step - loss: 0.0032 - val_loss: 0.0049\n"
     ]
    },
    {
     "name": "stdout",
     "output_type": "stream",
     "text": [
      "Epoch 317/500\n",
      "188/188 [==============================] - 3s 17ms/step - loss: 0.0031 - val_loss: 0.0049\n",
      "Epoch 318/500\n",
      "188/188 [==============================] - 3s 17ms/step - loss: 0.0031 - val_loss: 0.0049\n",
      "Epoch 319/500\n",
      "188/188 [==============================] - 3s 17ms/step - loss: 0.0032 - val_loss: 0.0046\n",
      "Epoch 320/500\n",
      "188/188 [==============================] - 3s 18ms/step - loss: 0.0032 - val_loss: 0.0046\n",
      "Epoch 321/500\n",
      "188/188 [==============================] - 3s 17ms/step - loss: 0.0032 - val_loss: 0.0050\n",
      "Epoch 322/500\n",
      "188/188 [==============================] - 3s 17ms/step - loss: 0.0032 - val_loss: 0.0047\n",
      "Epoch 323/500\n",
      "188/188 [==============================] - 3s 17ms/step - loss: 0.0032 - val_loss: 0.0048\n",
      "Epoch 324/500\n",
      "188/188 [==============================] - 3s 18ms/step - loss: 0.0032 - val_loss: 0.0047\n",
      "Epoch 325/500\n",
      "188/188 [==============================] - 3s 18ms/step - loss: 0.0032 - val_loss: 0.0047\n",
      "Epoch 326/500\n",
      "188/188 [==============================] - 3s 18ms/step - loss: 0.0031 - val_loss: 0.0048\n",
      "Epoch 327/500\n",
      "188/188 [==============================] - 3s 17ms/step - loss: 0.0031 - val_loss: 0.0046\n",
      "Epoch 328/500\n",
      "188/188 [==============================] - 3s 18ms/step - loss: 0.0032 - val_loss: 0.0047\n",
      "Epoch 329/500\n",
      "188/188 [==============================] - 3s 18ms/step - loss: 0.0031 - val_loss: 0.0049\n",
      "Epoch 330/500\n",
      "188/188 [==============================] - 3s 17ms/step - loss: 0.0032 - val_loss: 0.0047\n",
      "Epoch 331/500\n",
      "188/188 [==============================] - 3s 17ms/step - loss: 0.0032 - val_loss: 0.0046\n",
      "Epoch 332/500\n",
      "188/188 [==============================] - 3s 17ms/step - loss: 0.0031 - val_loss: 0.0047\n",
      "Epoch 333/500\n",
      "188/188 [==============================] - 3s 17ms/step - loss: 0.0031 - val_loss: 0.0050\n",
      "Epoch 334/500\n",
      "188/188 [==============================] - 3s 17ms/step - loss: 0.0032 - val_loss: 0.0048\n",
      "Epoch 335/500\n",
      "188/188 [==============================] - 3s 17ms/step - loss: 0.0032 - val_loss: 0.0050\n",
      "Epoch 336/500\n",
      "188/188 [==============================] - 3s 17ms/step - loss: 0.0032 - val_loss: 0.0047\n",
      "Epoch 337/500\n",
      "188/188 [==============================] - 3s 16ms/step - loss: 0.0031 - val_loss: 0.0047\n",
      "Epoch 338/500\n",
      "188/188 [==============================] - 3s 17ms/step - loss: 0.0031 - val_loss: 0.0046\n",
      "Epoch 339/500\n",
      "188/188 [==============================] - 3s 18ms/step - loss: 0.0031 - val_loss: 0.0046\n",
      "Epoch 340/500\n",
      "188/188 [==============================] - 3s 18ms/step - loss: 0.0031 - val_loss: 0.0047\n",
      "Epoch 341/500\n",
      "188/188 [==============================] - 3s 17ms/step - loss: 0.0031 - val_loss: 0.0049\n",
      "Epoch 342/500\n",
      "188/188 [==============================] - 3s 18ms/step - loss: 0.0032 - val_loss: 0.0048\n",
      "Epoch 343/500\n",
      "188/188 [==============================] - 4s 19ms/step - loss: 0.0032 - val_loss: 0.0048\n",
      "Epoch 344/500\n",
      "188/188 [==============================] - 3s 18ms/step - loss: 0.0031 - val_loss: 0.0047\n",
      "Epoch 345/500\n",
      "188/188 [==============================] - 3s 18ms/step - loss: 0.0031 - val_loss: 0.0049\n",
      "Epoch 346/500\n",
      "188/188 [==============================] - 3s 17ms/step - loss: 0.0031 - val_loss: 0.0045\n",
      "Epoch 347/500\n",
      "188/188 [==============================] - 3s 17ms/step - loss: 0.0031 - val_loss: 0.0049\n",
      "Epoch 348/500\n",
      "188/188 [==============================] - 3s 18ms/step - loss: 0.0032 - val_loss: 0.0048\n",
      "Epoch 349/500\n",
      "188/188 [==============================] - 3s 17ms/step - loss: 0.0032 - val_loss: 0.0048\n",
      "Epoch 350/500\n",
      "188/188 [==============================] - 3s 17ms/step - loss: 0.0032 - val_loss: 0.0049\n",
      "Epoch 351/500\n",
      "188/188 [==============================] - 3s 17ms/step - loss: 0.0030 - val_loss: 0.0049\n",
      "Epoch 352/500\n",
      "188/188 [==============================] - 3s 17ms/step - loss: 0.0031 - val_loss: 0.0048\n",
      "Epoch 353/500\n",
      "188/188 [==============================] - 3s 17ms/step - loss: 0.0031 - val_loss: 0.0047\n",
      "Epoch 354/500\n",
      "188/188 [==============================] - 3s 18ms/step - loss: 0.0030 - val_loss: 0.0048\n",
      "Epoch 355/500\n",
      "188/188 [==============================] - 3s 17ms/step - loss: 0.0031 - val_loss: 0.0047\n",
      "Epoch 356/500\n",
      "188/188 [==============================] - 3s 18ms/step - loss: 0.0031 - val_loss: 0.0046\n",
      "Epoch 357/500\n",
      "188/188 [==============================] - 3s 17ms/step - loss: 0.0031 - val_loss: 0.0046\n",
      "Epoch 358/500\n",
      "188/188 [==============================] - 3s 17ms/step - loss: 0.0031 - val_loss: 0.0046\n",
      "Epoch 359/500\n",
      "188/188 [==============================] - 3s 17ms/step - loss: 0.0031 - val_loss: 0.0049\n",
      "Epoch 360/500\n",
      "188/188 [==============================] - 3s 17ms/step - loss: 0.0031 - val_loss: 0.0048\n",
      "Epoch 361/500\n",
      "188/188 [==============================] - 3s 17ms/step - loss: 0.0031 - val_loss: 0.0047\n",
      "Epoch 362/500\n",
      "188/188 [==============================] - 3s 17ms/step - loss: 0.0031 - val_loss: 0.0046\n",
      "Epoch 363/500\n",
      "188/188 [==============================] - 3s 17ms/step - loss: 0.0032 - val_loss: 0.0047\n",
      "Epoch 364/500\n",
      "188/188 [==============================] - 3s 17ms/step - loss: 0.0031 - val_loss: 0.0046\n",
      "Epoch 365/500\n",
      "188/188 [==============================] - 3s 17ms/step - loss: 0.0031 - val_loss: 0.0046\n",
      "Epoch 366/500\n",
      "188/188 [==============================] - 3s 17ms/step - loss: 0.0031 - val_loss: 0.0048\n",
      "Epoch 367/500\n",
      "188/188 [==============================] - 3s 17ms/step - loss: 0.0031 - val_loss: 0.0047\n",
      "Epoch 368/500\n",
      "188/188 [==============================] - 3s 17ms/step - loss: 0.0031 - val_loss: 0.0048\n",
      "Epoch 369/500\n",
      "188/188 [==============================] - 3s 17ms/step - loss: 0.0031 - val_loss: 0.0048\n",
      "Epoch 370/500\n",
      "188/188 [==============================] - 3s 17ms/step - loss: 0.0031 - val_loss: 0.0050\n",
      "Epoch 371/500\n",
      "188/188 [==============================] - 3s 17ms/step - loss: 0.0031 - val_loss: 0.0046\n",
      "Epoch 372/500\n",
      "188/188 [==============================] - 3s 17ms/step - loss: 0.0030 - val_loss: 0.0047\n",
      "Epoch 373/500\n",
      "188/188 [==============================] - 3s 17ms/step - loss: 0.0030 - val_loss: 0.0048\n",
      "Epoch 374/500\n",
      "188/188 [==============================] - 3s 17ms/step - loss: 0.0031 - val_loss: 0.0047\n",
      "Epoch 375/500\n",
      "188/188 [==============================] - 3s 17ms/step - loss: 0.0031 - val_loss: 0.0046\n",
      "Epoch 376/500\n",
      "188/188 [==============================] - 3s 17ms/step - loss: 0.0030 - val_loss: 0.0048\n",
      "Epoch 377/500\n",
      "188/188 [==============================] - 3s 17ms/step - loss: 0.0031 - val_loss: 0.0048\n",
      "Epoch 378/500\n",
      "188/188 [==============================] - 3s 17ms/step - loss: 0.0030 - val_loss: 0.0047\n",
      "Epoch 379/500\n",
      "188/188 [==============================] - 3s 17ms/step - loss: 0.0031 - val_loss: 0.0045\n",
      "Epoch 380/500\n",
      "188/188 [==============================] - 3s 17ms/step - loss: 0.0031 - val_loss: 0.0045\n",
      "Epoch 381/500\n",
      "188/188 [==============================] - 3s 17ms/step - loss: 0.0032 - val_loss: 0.0049\n",
      "Epoch 382/500\n",
      "188/188 [==============================] - 3s 17ms/step - loss: 0.0030 - val_loss: 0.0046\n",
      "Epoch 383/500\n",
      "188/188 [==============================] - 3s 17ms/step - loss: 0.0030 - val_loss: 0.0046\n",
      "Epoch 384/500\n",
      "188/188 [==============================] - 3s 17ms/step - loss: 0.0031 - val_loss: 0.0046\n",
      "Epoch 385/500\n",
      "188/188 [==============================] - 3s 17ms/step - loss: 0.0030 - val_loss: 0.0046\n",
      "Epoch 386/500\n",
      "188/188 [==============================] - 3s 17ms/step - loss: 0.0031 - val_loss: 0.0048\n",
      "Epoch 387/500\n",
      "188/188 [==============================] - 3s 18ms/step - loss: 0.0031 - val_loss: 0.0048\n",
      "Epoch 388/500\n",
      "188/188 [==============================] - 3s 18ms/step - loss: 0.0031 - val_loss: 0.0046\n",
      "Epoch 389/500\n",
      "188/188 [==============================] - 3s 16ms/step - loss: 0.0031 - val_loss: 0.0047\n",
      "Epoch 390/500\n",
      "188/188 [==============================] - 3s 17ms/step - loss: 0.0031 - val_loss: 0.0049\n",
      "Epoch 391/500\n",
      "188/188 [==============================] - 3s 17ms/step - loss: 0.0031 - val_loss: 0.0047\n",
      "Epoch 392/500\n",
      "188/188 [==============================] - 3s 17ms/step - loss: 0.0031 - val_loss: 0.0048\n",
      "Epoch 393/500\n",
      "188/188 [==============================] - 3s 17ms/step - loss: 0.0030 - val_loss: 0.0047\n",
      "Epoch 394/500\n",
      "188/188 [==============================] - 3s 17ms/step - loss: 0.0031 - val_loss: 0.0048\n",
      "Epoch 395/500\n",
      "188/188 [==============================] - 3s 17ms/step - loss: 0.0031 - val_loss: 0.0047\n"
     ]
    },
    {
     "name": "stdout",
     "output_type": "stream",
     "text": [
      "Epoch 396/500\n",
      "188/188 [==============================] - 3s 17ms/step - loss: 0.0030 - val_loss: 0.0046\n",
      "Epoch 397/500\n",
      "188/188 [==============================] - 3s 17ms/step - loss: 0.0031 - val_loss: 0.0049\n",
      "Epoch 398/500\n",
      "188/188 [==============================] - 3s 17ms/step - loss: 0.0031 - val_loss: 0.0047\n",
      "Epoch 399/500\n",
      "188/188 [==============================] - 3s 17ms/step - loss: 0.0032 - val_loss: 0.0048\n",
      "Epoch 400/500\n",
      "188/188 [==============================] - 3s 17ms/step - loss: 0.0031 - val_loss: 0.0048\n",
      "Epoch 401/500\n",
      "188/188 [==============================] - 3s 17ms/step - loss: 0.0030 - val_loss: 0.0046\n",
      "Epoch 402/500\n",
      "188/188 [==============================] - 3s 17ms/step - loss: 0.0030 - val_loss: 0.0048\n",
      "Epoch 403/500\n",
      "188/188 [==============================] - 3s 17ms/step - loss: 0.0030 - val_loss: 0.0045\n",
      "Epoch 404/500\n",
      "188/188 [==============================] - 3s 17ms/step - loss: 0.0029 - val_loss: 0.0048\n",
      "Epoch 405/500\n",
      "188/188 [==============================] - 3s 17ms/step - loss: 0.0030 - val_loss: 0.0047\n",
      "Epoch 406/500\n",
      "188/188 [==============================] - 3s 17ms/step - loss: 0.0030 - val_loss: 0.0045\n",
      "Epoch 407/500\n",
      "188/188 [==============================] - 3s 17ms/step - loss: 0.0031 - val_loss: 0.0045\n",
      "Epoch 408/500\n",
      "188/188 [==============================] - 3s 17ms/step - loss: 0.0030 - val_loss: 0.0046\n",
      "Epoch 409/500\n",
      "188/188 [==============================] - 3s 17ms/step - loss: 0.0029 - val_loss: 0.0046\n",
      "Epoch 410/500\n",
      "188/188 [==============================] - 3s 18ms/step - loss: 0.0031 - val_loss: 0.0047\n",
      "Epoch 411/500\n",
      "188/188 [==============================] - 3s 18ms/step - loss: 0.0031 - val_loss: 0.0046\n",
      "Epoch 412/500\n",
      "188/188 [==============================] - 3s 18ms/step - loss: 0.0031 - val_loss: 0.0048\n",
      "Epoch 413/500\n",
      "188/188 [==============================] - 3s 18ms/step - loss: 0.0031 - val_loss: 0.0048\n",
      "Epoch 414/500\n",
      "188/188 [==============================] - 3s 18ms/step - loss: 0.0031 - val_loss: 0.0050\n",
      "Epoch 415/500\n",
      "188/188 [==============================] - 3s 16ms/step - loss: 0.0030 - val_loss: 0.0048\n",
      "Epoch 416/500\n",
      "188/188 [==============================] - 3s 16ms/step - loss: 0.0030 - val_loss: 0.0047\n",
      "Epoch 417/500\n",
      "188/188 [==============================] - 3s 16ms/step - loss: 0.0030 - val_loss: 0.0048\n",
      "Epoch 418/500\n",
      "188/188 [==============================] - 3s 16ms/step - loss: 0.0031 - val_loss: 0.0047\n",
      "Epoch 419/500\n",
      "188/188 [==============================] - 3s 16ms/step - loss: 0.0030 - val_loss: 0.0048\n",
      "Epoch 420/500\n",
      "188/188 [==============================] - 3s 16ms/step - loss: 0.0031 - val_loss: 0.0045\n",
      "Epoch 421/500\n",
      "188/188 [==============================] - 3s 17ms/step - loss: 0.0029 - val_loss: 0.0046\n",
      "Epoch 422/500\n",
      "188/188 [==============================] - 3s 17ms/step - loss: 0.0030 - val_loss: 0.0046\n",
      "Epoch 423/500\n",
      "188/188 [==============================] - 3s 17ms/step - loss: 0.0030 - val_loss: 0.0050\n",
      "Epoch 424/500\n",
      "188/188 [==============================] - 3s 17ms/step - loss: 0.0030 - val_loss: 0.0046\n",
      "Epoch 425/500\n",
      "188/188 [==============================] - 3s 17ms/step - loss: 0.0030 - val_loss: 0.0046\n",
      "Epoch 426/500\n",
      "188/188 [==============================] - 3s 18ms/step - loss: 0.0030 - val_loss: 0.0045\n",
      "Epoch 427/500\n",
      "188/188 [==============================] - 3s 18ms/step - loss: 0.0030 - val_loss: 0.0047\n",
      "Epoch 428/500\n",
      "188/188 [==============================] - 3s 17ms/step - loss: 0.0031 - val_loss: 0.0046\n",
      "Epoch 429/500\n",
      "188/188 [==============================] - 3s 17ms/step - loss: 0.0032 - val_loss: 0.0045\n",
      "Epoch 430/500\n",
      "188/188 [==============================] - 3s 17ms/step - loss: 0.0030 - val_loss: 0.0046\n",
      "Epoch 431/500\n",
      "188/188 [==============================] - 3s 17ms/step - loss: 0.0030 - val_loss: 0.0047\n",
      "Epoch 432/500\n",
      "188/188 [==============================] - 3s 18ms/step - loss: 0.0030 - val_loss: 0.0047\n",
      "Epoch 433/500\n",
      "188/188 [==============================] - 3s 17ms/step - loss: 0.0030 - val_loss: 0.0047\n",
      "Epoch 434/500\n",
      "188/188 [==============================] - 3s 17ms/step - loss: 0.0030 - val_loss: 0.0051\n",
      "Epoch 435/500\n",
      "188/188 [==============================] - 3s 17ms/step - loss: 0.0031 - val_loss: 0.0049\n",
      "Epoch 436/500\n",
      "188/188 [==============================] - 3s 17ms/step - loss: 0.0031 - val_loss: 0.0048\n",
      "Epoch 437/500\n",
      "188/188 [==============================] - 3s 17ms/step - loss: 0.0031 - val_loss: 0.0048\n",
      "Epoch 438/500\n",
      "188/188 [==============================] - 3s 18ms/step - loss: 0.0031 - val_loss: 0.0047\n",
      "Epoch 439/500\n",
      "188/188 [==============================] - 3s 18ms/step - loss: 0.0030 - val_loss: 0.0047\n",
      "Epoch 440/500\n",
      "188/188 [==============================] - 3s 18ms/step - loss: 0.0030 - val_loss: 0.0049\n",
      "Epoch 441/500\n",
      "188/188 [==============================] - 3s 18ms/step - loss: 0.0031 - val_loss: 0.0046\n",
      "Epoch 442/500\n",
      "188/188 [==============================] - 3s 18ms/step - loss: 0.0031 - val_loss: 0.0047\n",
      "Epoch 443/500\n",
      "188/188 [==============================] - 3s 17ms/step - loss: 0.0030 - val_loss: 0.0047\n",
      "Epoch 444/500\n",
      "188/188 [==============================] - 3s 17ms/step - loss: 0.0030 - val_loss: 0.0046\n",
      "Epoch 445/500\n",
      "188/188 [==============================] - 3s 17ms/step - loss: 0.0030 - val_loss: 0.0050\n",
      "Epoch 446/500\n",
      "188/188 [==============================] - 3s 18ms/step - loss: 0.0030 - val_loss: 0.0045\n",
      "Epoch 447/500\n",
      "188/188 [==============================] - 3s 18ms/step - loss: 0.0030 - val_loss: 0.0047\n",
      "Epoch 448/500\n",
      "188/188 [==============================] - 3s 17ms/step - loss: 0.0030 - val_loss: 0.0045\n",
      "Epoch 449/500\n",
      "188/188 [==============================] - 3s 16ms/step - loss: 0.0030 - val_loss: 0.0046\n",
      "Epoch 450/500\n",
      "188/188 [==============================] - 3s 17ms/step - loss: 0.0031 - val_loss: 0.0046\n",
      "Epoch 451/500\n",
      "188/188 [==============================] - 3s 16ms/step - loss: 0.0030 - val_loss: 0.0046\n",
      "Epoch 452/500\n",
      "188/188 [==============================] - 3s 17ms/step - loss: 0.0029 - val_loss: 0.0047\n",
      "Epoch 453/500\n",
      "188/188 [==============================] - 3s 17ms/step - loss: 0.0030 - val_loss: 0.0045\n",
      "Epoch 454/500\n",
      "188/188 [==============================] - 3s 17ms/step - loss: 0.0030 - val_loss: 0.0051\n",
      "Epoch 455/500\n",
      "188/188 [==============================] - 3s 17ms/step - loss: 0.0030 - val_loss: 0.0048\n",
      "Epoch 456/500\n",
      "188/188 [==============================] - 3s 17ms/step - loss: 0.0030 - val_loss: 0.0046\n",
      "Epoch 457/500\n",
      "188/188 [==============================] - 3s 17ms/step - loss: 0.0031 - val_loss: 0.0047\n",
      "Epoch 458/500\n",
      "188/188 [==============================] - 3s 18ms/step - loss: 0.0030 - val_loss: 0.0046\n",
      "Epoch 459/500\n",
      "188/188 [==============================] - 3s 18ms/step - loss: 0.0030 - val_loss: 0.0049\n",
      "Epoch 460/500\n",
      "188/188 [==============================] - 3s 18ms/step - loss: 0.0029 - val_loss: 0.0048\n",
      "Epoch 461/500\n",
      "188/188 [==============================] - 3s 17ms/step - loss: 0.0030 - val_loss: 0.0051\n",
      "Epoch 462/500\n",
      "188/188 [==============================] - 3s 17ms/step - loss: 0.0030 - val_loss: 0.0046\n",
      "Epoch 463/500\n",
      "188/188 [==============================] - 3s 17ms/step - loss: 0.0031 - val_loss: 0.0046\n",
      "Epoch 464/500\n",
      "188/188 [==============================] - 3s 17ms/step - loss: 0.0030 - val_loss: 0.0047\n",
      "Epoch 465/500\n",
      "188/188 [==============================] - 3s 17ms/step - loss: 0.0030 - val_loss: 0.0045\n",
      "Epoch 466/500\n",
      "188/188 [==============================] - 3s 18ms/step - loss: 0.0030 - val_loss: 0.0046\n",
      "Epoch 467/500\n",
      "188/188 [==============================] - 3s 18ms/step - loss: 0.0031 - val_loss: 0.0045\n",
      "Epoch 468/500\n",
      "188/188 [==============================] - 3s 17ms/step - loss: 0.0029 - val_loss: 0.0048\n",
      "Epoch 469/500\n",
      "188/188 [==============================] - 3s 17ms/step - loss: 0.0032 - val_loss: 0.0045\n",
      "Epoch 470/500\n",
      "188/188 [==============================] - 3s 17ms/step - loss: 0.0030 - val_loss: 0.0046\n",
      "Epoch 471/500\n",
      "188/188 [==============================] - 3s 18ms/step - loss: 0.0029 - val_loss: 0.0048\n",
      "Epoch 472/500\n",
      "188/188 [==============================] - 3s 18ms/step - loss: 0.0031 - val_loss: 0.0045\n",
      "Epoch 473/500\n",
      "188/188 [==============================] - 3s 18ms/step - loss: 0.0029 - val_loss: 0.0045\n",
      "Epoch 474/500\n"
     ]
    },
    {
     "name": "stdout",
     "output_type": "stream",
     "text": [
      "188/188 [==============================] - 3s 17ms/step - loss: 0.0030 - val_loss: 0.0047\n",
      "Epoch 475/500\n",
      "188/188 [==============================] - 3s 17ms/step - loss: 0.0030 - val_loss: 0.0046\n",
      "Epoch 476/500\n",
      "188/188 [==============================] - 3s 18ms/step - loss: 0.0031 - val_loss: 0.0045\n",
      "Epoch 477/500\n",
      "188/188 [==============================] - 4s 19ms/step - loss: 0.0029 - val_loss: 0.0048\n",
      "Epoch 478/500\n",
      "188/188 [==============================] - 3s 17ms/step - loss: 0.0030 - val_loss: 0.0046\n",
      "Epoch 479/500\n",
      "188/188 [==============================] - 3s 18ms/step - loss: 0.0030 - val_loss: 0.0046\n",
      "Epoch 480/500\n",
      "188/188 [==============================] - 4s 19ms/step - loss: 0.0030 - val_loss: 0.0047\n",
      "Epoch 481/500\n",
      "188/188 [==============================] - 3s 18ms/step - loss: 0.0030 - val_loss: 0.0046\n",
      "Epoch 482/500\n",
      "188/188 [==============================] - 4s 19ms/step - loss: 0.0030 - val_loss: 0.0047\n",
      "Epoch 483/500\n",
      "188/188 [==============================] - 4s 19ms/step - loss: 0.0029 - val_loss: 0.0047\n",
      "Epoch 484/500\n",
      "188/188 [==============================] - 3s 18ms/step - loss: 0.0030 - val_loss: 0.0047\n",
      "Epoch 485/500\n",
      "188/188 [==============================] - 3s 18ms/step - loss: 0.0029 - val_loss: 0.0045\n",
      "Epoch 486/500\n",
      "188/188 [==============================] - 3s 19ms/step - loss: 0.0031 - val_loss: 0.0047\n",
      "Epoch 487/500\n",
      "188/188 [==============================] - 4s 19ms/step - loss: 0.0031 - val_loss: 0.0047\n",
      "Epoch 488/500\n",
      "188/188 [==============================] - 3s 17ms/step - loss: 0.0030 - val_loss: 0.0045\n",
      "Epoch 489/500\n",
      "188/188 [==============================] - 3s 17ms/step - loss: 0.0030 - val_loss: 0.0046\n",
      "Epoch 490/500\n",
      "188/188 [==============================] - 3s 16ms/step - loss: 0.0030 - val_loss: 0.0047\n",
      "Epoch 491/500\n",
      "188/188 [==============================] - 3s 18ms/step - loss: 0.0029 - val_loss: 0.0046\n",
      "Epoch 492/500\n",
      "188/188 [==============================] - 3s 17ms/step - loss: 0.0029 - val_loss: 0.0046\n",
      "Epoch 493/500\n",
      "188/188 [==============================] - 3s 17ms/step - loss: 0.0030 - val_loss: 0.0048\n",
      "Epoch 494/500\n",
      "188/188 [==============================] - 3s 17ms/step - loss: 0.0029 - val_loss: 0.0045\n",
      "Epoch 495/500\n",
      "188/188 [==============================] - 3s 17ms/step - loss: 0.0029 - val_loss: 0.0047\n",
      "Epoch 496/500\n",
      "188/188 [==============================] - 3s 17ms/step - loss: 0.0029 - val_loss: 0.0046\n",
      "Epoch 497/500\n",
      "188/188 [==============================] - 3s 17ms/step - loss: 0.0030 - val_loss: 0.0045\n",
      "Epoch 498/500\n",
      "188/188 [==============================] - 3s 17ms/step - loss: 0.0030 - val_loss: 0.0046\n",
      "Epoch 499/500\n",
      "188/188 [==============================] - 3s 17ms/step - loss: 0.0030 - val_loss: 0.0048\n",
      "Epoch 500/500\n",
      "188/188 [==============================] - 3s 18ms/step - loss: 0.0029 - val_loss: 0.0047\n"
     ]
    },
    {
     "data": {
      "text/plain": [
       "<keras.callbacks.History at 0x1bfc3fb7ca0>"
      ]
     },
     "execution_count": 104,
     "metadata": {},
     "output_type": "execute_result"
    }
   ],
   "source": [
    "model.fit(train_x, train_y, validation_data =(test_x, test_y), epochs=500, verbose=0, batch_size = 64)"
   ]
  },
  {
   "cell_type": "code",
   "execution_count": 105,
   "id": "5fe5b29c",
   "metadata": {},
   "outputs": [
    {
     "name": "stdout",
     "output_type": "stream",
     "text": [
      "89/89 [==============================] - 2s 5ms/step\n",
      "R-squared score: 0.944\n"
     ]
    }
   ],
   "source": [
    "yhat = model.predict(val_x)\n",
    "new_val_x = val_x.reshape((val_x.shape[0], val_x.shape[2]))\n",
    "# invert scaling for forecast\n",
    "inv_yhat = concatenate((yhat, new_val_x[:, 1:]), axis=1)\n",
    "inv_yhat = scaler.inverse_transform(inv_yhat)\n",
    "inv_yhat = inv_yhat[:,0]\n",
    "# invert scaling for actual\n",
    "val_y = val_y.reshape((len(val_y), 1))\n",
    "inv_y = concatenate((val_y, new_val_x[:, 1:]), axis=1)\n",
    "inv_y = scaler.inverse_transform(inv_y)\n",
    "inv_y = inv_y[:,0]\n",
    "\n",
    "r2 = r2_score(inv_y, inv_yhat)\n",
    "print('R-squared score: %.3f' % r2)"
   ]
  },
  {
   "cell_type": "markdown",
   "id": "554abd1b",
   "metadata": {},
   "source": [
    "### For the next method, we'll use TBATS"
   ]
  },
  {
   "cell_type": "code",
   "execution_count": 7,
   "id": "696025c0",
   "metadata": {},
   "outputs": [
    {
     "name": "stdout",
     "output_type": "stream",
     "text": [
      "AIC:  92145.01473380804\n",
      "\n"
     ]
    }
   ],
   "source": [
    "sensor_array = subset['hourly_counts'].to_numpy()\n",
    "\n",
    "# create estimator with 24 hour (one day) and 168 hour (one week) seasonality\n",
    "estimator = TBATS(seasonal_periods=[24, 168], use_arma_errors=True, use_box_cox=False, n_jobs=10 )\n",
    "\n",
    "# Fit model\n",
    "fitted_model = estimator.fit(sensor_array[100000:104996])\n",
    "\n",
    "# forecast for the next 24 hours\n",
    "y_forecasted = fitted_model.forecast(steps=24)\n",
    "\n",
    "# print the AIC metric\n",
    "print(\"AIC: \", fitted_model.aic)\n",
    "print(\"\")\n",
    "\n",
    "y_actual = sensor_array[104996:105020]\n",
    "# plt.plot(y_forecasted)\n",
    "\n",
    "# plt.plot(y_actual)"
   ]
  },
  {
   "cell_type": "code",
   "execution_count": 8,
   "id": "ed4e046b",
   "metadata": {},
   "outputs": [
    {
     "data": {
      "text/plain": [
       "<matplotlib.legend.Legend at 0x2e8e0dbf2e0>"
      ]
     },
     "execution_count": 8,
     "metadata": {},
     "output_type": "execute_result"
    },
    {
     "data": {
      "image/png": "[encoded data removed]",
      "text/plain": [
       "<Figure size 1080x360 with 1 Axes>"
      ]
     },
     "metadata": {
      "needs_background": "light"
     },
     "output_type": "display_data"
    }
   ],
   "source": [
    "font1 = {'family':'serif','color':'blue','size':20}\n",
    "\n",
    "plt.figure(figsize = (15, 5))\n",
    "plt.title(\"Prediction of 24 hours of pedestrian traffic using TBATS method\", fontdict = font1)\n",
    "plt.xlabel('hour of the day')\n",
    "plt.ylabel('pedestrian count')\n",
    "\n",
    "plt.plot(y_forecasted, label = 'Predicted')\n",
    "plt.plot(y_actual, label = 'Actual')\n",
    "plt.legend(loc=\"upper left\")\n"
   ]
  },
  {
   "cell_type": "markdown",
   "id": "a341dbca",
   "metadata": {},
   "source": [
    "### Then we can give Sarimax a try"
   ]
  },
  {
   "cell_type": "code",
   "execution_count": 9,
   "id": "67b92161",
   "metadata": {},
   "outputs": [],
   "source": [
    "sar_set = subset.iloc[100000:104996].copy()\n",
    "\n",
    "sar_set.index = sar_set.date_time\n",
    "sar_set.drop(columns='date_time', inplace=True)"
   ]
  },
  {
   "cell_type": "code",
   "execution_count": 10,
   "id": "cc9bd772",
   "metadata": {},
   "outputs": [],
   "source": [
    "sar_set.index = pd.DatetimeIndex(sar_set.index).to_period('H')"
   ]
  },
  {
   "cell_type": "code",
   "execution_count": 11,
   "id": "c8559ffb",
   "metadata": {},
   "outputs": [],
   "source": [
    "my_order = (1, 1, 1)\n",
    "my_seasonal_order = (1, 1, 1, 24)\n",
    "\n",
    "model = SARIMAX(endog=sar_set, order=my_order, seasonal_order=my_seasonal_order)"
   ]
  },
  {
   "cell_type": "code",
   "execution_count": 12,
   "id": "b4cfe65e",
   "metadata": {},
   "outputs": [],
   "source": [
    "history = model.fit()"
   ]
  },
  {
   "cell_type": "code",
   "execution_count": 13,
   "id": "376e943e",
   "metadata": {},
   "outputs": [
    {
     "data": {
      "text/plain": [
       "<matplotlib.legend.Legend at 0x2e8e12502e0>"
      ]
     },
     "execution_count": 13,
     "metadata": {},
     "output_type": "execute_result"
    },
    {
     "data": {
      "image/png": "[encoded data removed]",
      "text/plain": [
       "<Figure size 1080x360 with 1 Axes>"
      ]
     },
     "metadata": {
      "needs_background": "light"
     },
     "output_type": "display_data"
    }
   ],
   "source": [
    "y_actual = subset.iloc[104996:105021]\n",
    "y_predicted = history.predict(start = 4997, end = 5020)\n",
    "\n",
    "y_predicted = y_predicted.to_numpy()\n",
    "y_actual = y_actual.to_numpy()\n",
    "\n",
    "font1 = {'family':'serif','color':'blue','size':20}\n",
    "\n",
    "plt.figure(figsize = (15, 5))\n",
    "plt.title(\"Prediction of 24 hours of pedestrian traffic using SARIMAX method\", fontdict = font1)\n",
    "plt.xlabel('hour of the day')\n",
    "plt.ylabel('pedestrian count')\n",
    "\n",
    "plt.plot(y_predicted, label = 'Predicted')\n",
    "plt.plot(y_actual[0:24,1], label = 'Actual')\n",
    "plt.legend(loc=\"upper left\")\n",
    "\n",
    "# plt.plot(y_predicted)\n",
    "# plt.plot(y_actual[0:23,1])"
   ]
  },
  {
   "cell_type": "markdown",
   "id": "bc007b4a",
   "metadata": {},
   "source": [
    "##### What about adjusting for seasonality?\n",
    "\n",
    "Adjusting for seasonality can help improve the performance of time series predictions. Let's have a look and see if we can identify clear seasonality in the data."
   ]
  },
  {
   "cell_type": "code",
   "execution_count": 14,
   "id": "1001cfb1",
   "metadata": {},
   "outputs": [
    {
     "data": {
      "text/plain": [
       "[<matplotlib.lines.Line2D at 0x2e8e3e60e20>]"
      ]
     },
     "execution_count": 14,
     "metadata": {},
     "output_type": "execute_result"
    },
    {
     "data": {
      "image/png": "[encoded data removed]",
      "text/plain": [
       "<Figure size 1080x360 with 1 Axes>"
      ]
     },
     "metadata": {
      "needs_background": "light"
     },
     "output_type": "display_data"
    },
    {
     "data": {
      "image/png": "[encoded data removed]",
      "text/plain": [
       "<Figure size 1080x360 with 1 Axes>"
      ]
     },
     "metadata": {
      "needs_background": "light"
     },
     "output_type": "display_data"
    },
    {
     "data": {
      "image/png": "[encoded data removed]",
      "text/plain": [
       "<Figure size 1080x360 with 1 Axes>"
      ]
     },
     "metadata": {
      "needs_background": "light"
     },
     "output_type": "display_data"
    }
   ],
   "source": [
    "#Investigating seasonality\n",
    "subset = single_sensor[['date_time', 'hourly_counts']].copy()\n",
    "subset.date_time = pd.to_datetime(subset.date_time)\n",
    "plt.figure(figsize = (15, 5))\n",
    "plt.plot(subset.date_time, subset.hourly_counts)\n",
    "\n",
    "subset = single_sensor[['date_time', 'hourly_counts']].copy()\n",
    "sub = subset.loc[(subset.date_time > '2021-12-31T23:00:00.000')].copy()\n",
    "sub.date_time = pd.to_datetime(sub.date_time)\n",
    "plt.figure(figsize = (15, 5))\n",
    "plt.plot(sub.date_time, sub.hourly_counts)\n",
    "\n",
    "subset = single_sensor[['date_time', 'hourly_counts']].copy()\n",
    "sub = subset.loc[(subset.date_time > '2022-03-31T23:00:00.000')].copy()\n",
    "sub.date_time = pd.to_datetime(sub.date_time)\n",
    "plt.figure(figsize = (15, 5))\n",
    "plt.plot(sub.date_time, sub.hourly_counts)"
   ]
  },
  {
   "cell_type": "markdown",
   "id": "a867c970",
   "metadata": {},
   "source": [
    "From these charts we can see that there are several seasonal components. There is a clear 24 hour cycle, and there is also a weekly cycle.<br>\n",
    "\n",
    "However, the recent impact of covid is a factor that makes correcting or adjusting for the seasonality more complicated. \n",
    "\n",
    "This seems like a worthwhile avenue for exploration in a future use case!"
   ]
  }
 ],
 "metadata": {
  "kernelspec": {
   "display_name": "SIT799_42",
   "language": "python",
   "name": "sit799_42"
  },
  "language_info": {
   "codemirror_mode": {
    "name": "ipython",
    "version": 3
   },
   "file_extension": ".py",
   "mimetype": "text/x-python",
   "name": "python",
   "nbconvert_exporter": "python",
   "pygments_lexer": "ipython3",
   "version": "3.9.12"
  }
 },
 "nbformat": 4,
 "nbformat_minor": 5
}
