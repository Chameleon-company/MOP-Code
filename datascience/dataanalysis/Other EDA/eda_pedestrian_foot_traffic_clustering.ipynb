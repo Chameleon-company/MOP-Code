{
 "cells": [
  {
   "cell_type": "code",
   "execution_count": 5,
   "id": "ec373c68",
   "metadata": {},
   "outputs": [],
   "source": [
    "#install\n",
    "#!pip install sklearn\n",
    "#!pip install matplotlib"
   ]
  },
  {
   "cell_type": "code",
   "execution_count": 6,
   "id": "655efdbc",
   "metadata": {},
   "outputs": [],
   "source": [
    "from sklearn.cluster import KMeans\n",
    "from sklearn.decomposition import PCA"
   ]
  },
  {
   "cell_type": "code",
   "execution_count": null,
   "id": "df81ee2c",
   "metadata": {},
   "outputs": [],
   "source": [
    "#setup to open data source, download sensor data\n",
    "\n",
    "#Function to get Sensor count history data\n",
    "def foot_traffic():\n",
    "     client = Socrata('data.melbourne.vic.gov.au', '', None)\n",
    "     sensor_data_id = \"b2ak-trbp\"\n",
    "     results = client.get(sensor_data_id, limit=5000000)\n",
    "     df = pd.DataFrame.from_records(results)\n",
    "     df = df[['date_time', 'year', 'month', 'mdate', 'day', 'time', 'sensor_id', 'sensor_name', 'hourly_counts']]\n",
    "     return df\n",
    "\n",
    "sensor_history = sensor_count()\n",
    "\n",
    "sensor_history.to_csv('sensor_history.csv', index=False)"
   ]
  },
  {
   "cell_type": "code",
   "execution_count": null,
   "id": "d4495a08",
   "metadata": {},
   "outputs": [],
   "source": [
    "sensor_history = pd.read_csv('sensor_history.csv')"
   ]
  }
 ],
 "metadata": {
  "kernelspec": {
   "display_name": "Python 3 (ipykernel)",
   "language": "python",
   "name": "python3"
  },
  "language_info": {
   "codemirror_mode": {
    "name": "ipython",
    "version": 3
   },
   "file_extension": ".py",
   "mimetype": "text/x-python",
   "name": "python",
   "nbconvert_exporter": "python",
   "pygments_lexer": "ipython3",
   "version": "3.8.13"
  }
 },
 "nbformat": 4,
 "nbformat_minor": 5
}
