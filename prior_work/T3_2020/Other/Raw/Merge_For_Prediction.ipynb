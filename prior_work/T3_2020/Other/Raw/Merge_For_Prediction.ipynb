{
  "nbformat": 4,
  "nbformat_minor": 0,
  "metadata": {
    "colab": {
      "name": "Pedestrian_Count_dataset.ipynb",
      "provenance": [],
      "collapsed_sections": []
    },
    "kernelspec": {
      "display_name": "Python 3",
      "name": "python3"
    }
  },
  "cells": [
    {
      "cell_type": "code",
      "metadata": {
        "colab": {
          "base_uri": "https://localhost:8080/"
        },
        "id": "uhXyz3430Vc9",
        "outputId": "80a81eea-7d46-4647-92ea-404c44557882"
      },
      "source": [
        "import pandas as pd\n",
        "Rainfall = pd.read_csv('Data_Raw/Rainfall.csv')\n",
        "Rainfall"
      ],
      "execution_count": 242,
      "outputs": [
        {
          "output_type": "execute_result",
          "data": {
            "text/plain": [
              "      Product code  Bureau of Meteorology station number  Year  Month  Day  \\\n",
              "0       IDCJAC0009                                 86232  1964      1    1   \n",
              "1       IDCJAC0009                                 86232  1964      1    2   \n",
              "2       IDCJAC0009                                 86232  1964      1    3   \n",
              "3       IDCJAC0009                                 86232  1964      1    4   \n",
              "4       IDCJAC0009                                 86232  1964      1    5   \n",
              "...            ...                                   ...   ...    ...  ...   \n",
              "20791   IDCJAC0009                                 86232  2020     12    3   \n",
              "20792   IDCJAC0009                                 86232  2020     12    4   \n",
              "20793   IDCJAC0009                                 86232  2020     12    5   \n",
              "20794   IDCJAC0009                                 86232  2020     12    6   \n",
              "20795   IDCJAC0009                                 86232  2020     12    7   \n",
              "\n",
              "       Rainfall amount (millimetres)  \\\n",
              "0                                NaN   \n",
              "1                                NaN   \n",
              "2                                NaN   \n",
              "3                                NaN   \n",
              "4                                NaN   \n",
              "...                              ...   \n",
              "20791                            0.0   \n",
              "20792                            0.0   \n",
              "20793                            0.0   \n",
              "20794                            2.2   \n",
              "20795                            3.0   \n",
              "\n",
              "       Period over which rainfall was measured (days) Quality  \n",
              "0                                                 NaN     NaN  \n",
              "1                                                 NaN     NaN  \n",
              "2                                                 NaN     NaN  \n",
              "3                                                 NaN     NaN  \n",
              "4                                                 NaN     NaN  \n",
              "...                                               ...     ...  \n",
              "20791                                             NaN       N  \n",
              "20792                                             NaN       N  \n",
              "20793                                             NaN       N  \n",
              "20794                                             1.0       N  \n",
              "20795                                             1.0       N  \n",
              "\n",
              "[20796 rows x 8 columns]"
            ],
            "text/html": "<div>\n<style scoped>\n    .dataframe tbody tr th:only-of-type {\n        vertical-align: middle;\n    }\n\n    .dataframe tbody tr th {\n        vertical-align: top;\n    }\n\n    .dataframe thead th {\n        text-align: right;\n    }\n</style>\n<table border=\"1\" class=\"dataframe\">\n  <thead>\n    <tr style=\"text-align: right;\">\n      <th></th>\n      <th>Product code</th>\n      <th>Bureau of Meteorology station number</th>\n      <th>Year</th>\n      <th>Month</th>\n      <th>Day</th>\n      <th>Rainfall amount (millimetres)</th>\n      <th>Period over which rainfall was measured (days)</th>\n      <th>Quality</th>\n    </tr>\n  </thead>\n  <tbody>\n    <tr>\n      <th>0</th>\n      <td>IDCJAC0009</td>\n      <td>86232</td>\n      <td>1964</td>\n      <td>1</td>\n      <td>1</td>\n      <td>NaN</td>\n      <td>NaN</td>\n      <td>NaN</td>\n    </tr>\n    <tr>\n      <th>1</th>\n      <td>IDCJAC0009</td>\n      <td>86232</td>\n      <td>1964</td>\n      <td>1</td>\n      <td>2</td>\n      <td>NaN</td>\n      <td>NaN</td>\n      <td>NaN</td>\n    </tr>\n    <tr>\n      <th>2</th>\n      <td>IDCJAC0009</td>\n      <td>86232</td>\n      <td>1964</td>\n      <td>1</td>\n      <td>3</td>\n      <td>NaN</td>\n      <td>NaN</td>\n      <td>NaN</td>\n    </tr>\n    <tr>\n      <th>3</th>\n      <td>IDCJAC0009</td>\n      <td>86232</td>\n      <td>1964</td>\n      <td>1</td>\n      <td>4</td>\n      <td>NaN</td>\n      <td>NaN</td>\n      <td>NaN</td>\n    </tr>\n    <tr>\n      <th>4</th>\n      <td>IDCJAC0009</td>\n      <td>86232</td>\n      <td>1964</td>\n      <td>1</td>\n      <td>5</td>\n      <td>NaN</td>\n      <td>NaN</td>\n      <td>NaN</td>\n    </tr>\n    <tr>\n      <th>...</th>\n      <td>...</td>\n      <td>...</td>\n      <td>...</td>\n      <td>...</td>\n      <td>...</td>\n      <td>...</td>\n      <td>...</td>\n      <td>...</td>\n    </tr>\n    <tr>\n      <th>20791</th>\n      <td>IDCJAC0009</td>\n      <td>86232</td>\n      <td>2020</td>\n      <td>12</td>\n      <td>3</td>\n      <td>0.0</td>\n      <td>NaN</td>\n      <td>N</td>\n    </tr>\n    <tr>\n      <th>20792</th>\n      <td>IDCJAC0009</td>\n      <td>86232</td>\n      <td>2020</td>\n      <td>12</td>\n      <td>4</td>\n      <td>0.0</td>\n      <td>NaN</td>\n      <td>N</td>\n    </tr>\n    <tr>\n      <th>20793</th>\n      <td>IDCJAC0009</td>\n      <td>86232</td>\n      <td>2020</td>\n      <td>12</td>\n      <td>5</td>\n      <td>0.0</td>\n      <td>NaN</td>\n      <td>N</td>\n    </tr>\n    <tr>\n      <th>20794</th>\n      <td>IDCJAC0009</td>\n      <td>86232</td>\n      <td>2020</td>\n      <td>12</td>\n      <td>6</td>\n      <td>2.2</td>\n      <td>1.0</td>\n      <td>N</td>\n    </tr>\n    <tr>\n      <th>20795</th>\n      <td>IDCJAC0009</td>\n      <td>86232</td>\n      <td>2020</td>\n      <td>12</td>\n      <td>7</td>\n      <td>3.0</td>\n      <td>1.0</td>\n      <td>N</td>\n    </tr>\n  </tbody>\n</table>\n<p>20796 rows × 8 columns</p>\n</div>"
          },
          "metadata": {},
          "execution_count": 242
        }
      ]
    },
    {
      "cell_type": "code",
      "execution_count": 243,
      "metadata": {},
      "outputs": [
        {
          "output_type": "stream",
          "name": "stdout",
          "text": [
            "1277    11.2\n1278    11.2\nName: Rainfall amount (millimetres), dtype: float64\n2678    7.4\n2679    7.4\nName: Rainfall amount (millimetres), dtype: float64\n4147    5.0\n4148    5.0\n4149    5.0\nName: Rainfall amount (millimetres), dtype: float64\n4189    1.2\n4190    1.2\n4191    1.2\nName: Rainfall amount (millimetres), dtype: float64\n4196    2.0\n4197    2.0\n4198    2.0\nName: Rainfall amount (millimetres), dtype: float64\n4497    2.0\n4498    2.0\n4499    2.0\nName: Rainfall amount (millimetres), dtype: float64\n4568    5.0\n4569    5.0\nName: Rainfall amount (millimetres), dtype: float64\n4637    1.2\n4638    1.2\n4639    1.2\nName: Rainfall amount (millimetres), dtype: float64\n4649    0.4\n4650    0.4\nName: Rainfall amount (millimetres), dtype: float64\n4721    0.6\n4722    0.6\n4723    0.6\nName: Rainfall amount (millimetres), dtype: float64\n4728    3.4\n4729    3.4\n4730    3.4\nName: Rainfall amount (millimetres), dtype: float64\n5855    0.8\n5856    0.8\n5857    0.8\nName: Rainfall amount (millimetres), dtype: float64\n5877    16.4\n5878    16.4\n5879    16.4\n5880    16.4\n5881    16.4\n5882    16.4\n5883    16.4\n5884    16.4\n5885    16.4\n5886    16.4\n5887    16.4\n5888    16.4\n5889    16.4\n5890    16.4\nName: Rainfall amount (millimetres), dtype: float64\n6145    11.0\n6146    11.0\nName: Rainfall amount (millimetres), dtype: float64\n7472    2.8\n7473    2.8\n7474    2.8\nName: Rainfall amount (millimetres), dtype: float64\n10014    34.6\n10015    34.6\n10016    34.6\n10017    34.6\n10018    34.6\nName: Rainfall amount (millimetres), dtype: float64\n10019    29.4\n10020    29.4\nName: Rainfall amount (millimetres), dtype: float64\n10720    2.9\n10721    2.9\n10722    2.9\nName: Rainfall amount (millimetres), dtype: float64\n10805    4.0\n10806    4.0\nName: Rainfall amount (millimetres), dtype: float64\n10811    6.0\n10812    6.0\n10813    6.0\nName: Rainfall amount (millimetres), dtype: float64\n10818    21.2\n10819    21.2\n10820    21.2\nName: Rainfall amount (millimetres), dtype: float64\n10825    6.2\n10826    6.2\n10827    6.2\nName: Rainfall amount (millimetres), dtype: float64\n12975    3.0\n12976    3.0\nName: Rainfall amount (millimetres), dtype: float64\n13376    11.4\n13377    11.4\nName: Rainfall amount (millimetres), dtype: float64\n13892    3.2\n13893    3.2\nName: Rainfall amount (millimetres), dtype: float64\n14098    2.0\n14099    2.0\n14100    2.0\nName: Rainfall amount (millimetres), dtype: float64\n14827    6.0\n14828    6.0\nName: Rainfall amount (millimetres), dtype: float64\n17036    9.6\n17037    9.6\n17038    9.6\nName: Rainfall amount (millimetres), dtype: float64\n17045    9.0\n17046    9.0\nName: Rainfall amount (millimetres), dtype: float64\n17201    106.0\n17202    106.0\nName: Rainfall amount (millimetres), dtype: float64\n17267    51.6\n17268    51.6\n17269    51.6\n17270    51.6\nName: Rainfall amount (millimetres), dtype: float64\n17574    2.6\n17575    2.6\nName: Rainfall amount (millimetres), dtype: float64\n17843    3.8\n17844    3.8\nName: Rainfall amount (millimetres), dtype: float64\n18019    4.0\n18020    4.0\n18021    4.0\nName: Rainfall amount (millimetres), dtype: float64\n18542    2.2\n18543    2.2\nName: Rainfall amount (millimetres), dtype: float64\n18691    0.8\n18692    0.8\n18693    0.8\nName: Rainfall amount (millimetres), dtype: float64\n18704    2.4\n18705    2.4\n18706    2.4\n18707    2.4\nName: Rainfall amount (millimetres), dtype: float64\n18711    1.4\n18712    1.4\nName: Rainfall amount (millimetres), dtype: float64\n18732    7.0\n18733    7.0\n18734    7.0\n18735    7.0\nName: Rainfall amount (millimetres), dtype: float64\n18831    2.6\n18832    2.6\n18833    2.6\nName: Rainfall amount (millimetres), dtype: float64\n18887    1.6\n18888    1.6\nName: Rainfall amount (millimetres), dtype: float64\n18921    8.8\n18922    8.8\nName: Rainfall amount (millimetres), dtype: float64\n19040    2.2\n19041    2.2\n19042    2.2\nName: Rainfall amount (millimetres), dtype: float64\n19061    9.6\n19062    9.6\n19063    9.6\nName: Rainfall amount (millimetres), dtype: float64\n19116    0.6\n19117    0.6\n19118    0.6\n19119    0.6\n19120    0.6\nName: Rainfall amount (millimetres), dtype: float64\n19136    3.6\n19137    3.6\nName: Rainfall amount (millimetres), dtype: float64\n19179    28.0\n19180    28.0\n19181    28.0\nName: Rainfall amount (millimetres), dtype: float64\n19268    11.0\n19269    11.0\nName: Rainfall amount (millimetres), dtype: float64\n19270    5.6\n19271    5.6\nName: Rainfall amount (millimetres), dtype: float64\n19320    8.4\n19321    8.4\nName: Rainfall amount (millimetres), dtype: float64\n19587    4.8\n19588    4.8\nName: Rainfall amount (millimetres), dtype: float64\n19606    5.4\n19607    5.4\nName: Rainfall amount (millimetres), dtype: float64\n19608    4.6\n19609    4.6\nName: Rainfall amount (millimetres), dtype: float64\n19865    6.2\n19866    6.2\nName: Rainfall amount (millimetres), dtype: float64\n19871    1.2\n19872    1.2\nName: Rainfall amount (millimetres), dtype: float64\n20513    3.6\n20514    3.6\n20515    3.6\nName: Rainfall amount (millimetres), dtype: float64\n20541    6.4\n20542    6.4\n20543    6.4\nName: Rainfall amount (millimetres), dtype: float64\n"
          ]
        }
      ],
      "source": [
        "# incase the rainfall is counted in multiple day, we get assume the same in those day\n",
        "ids = Rainfall.index[Rainfall['Period over which rainfall was measured (days)'] > 1].tolist()\n",
        "for row in ids:\n",
        "    num_days = Rainfall['Period over which rainfall was measured (days)'][row]\n",
        "    value = Rainfall['Rainfall amount (millimetres)'][row]\n",
        "    begin = row - num_days.astype(int) + 1\n",
        "    end = row\n",
        "    Rainfall['Rainfall amount (millimetres)'].iloc[begin:end + 1] = value\n",
        "    print(Rainfall['Rainfall amount (millimetres)'].iloc[begin:end + 1])\n"
      ]
    },
    {
      "cell_type": "code",
      "metadata": {
        "id": "aCqhJ_1-utJd"
      },
      "source": [
        "import calendar\n",
        "Rainfall['date'] = Rainfall['Year'].astype(str) + '-' + Rainfall['Month'].astype(str) + '-' + Rainfall['Day'].astype(str)"
      ],
      "execution_count": 244,
      "outputs": []
    },
    {
      "cell_type": "code",
      "execution_count": 245,
      "metadata": {},
      "outputs": [
        {
          "output_type": "execute_result",
          "data": {
            "text/plain": [
              "       Rainfall amount (millimetres)       date\n",
              "0                                NaN   1964-1-1\n",
              "1                                NaN   1964-1-2\n",
              "2                                NaN   1964-1-3\n",
              "3                                NaN   1964-1-4\n",
              "4                                NaN   1964-1-5\n",
              "...                              ...        ...\n",
              "20791                            0.0  2020-12-3\n",
              "20792                            0.0  2020-12-4\n",
              "20793                            0.0  2020-12-5\n",
              "20794                            2.2  2020-12-6\n",
              "20795                            3.0  2020-12-7\n",
              "\n",
              "[20796 rows x 2 columns]"
            ],
            "text/html": "<div>\n<style scoped>\n    .dataframe tbody tr th:only-of-type {\n        vertical-align: middle;\n    }\n\n    .dataframe tbody tr th {\n        vertical-align: top;\n    }\n\n    .dataframe thead th {\n        text-align: right;\n    }\n</style>\n<table border=\"1\" class=\"dataframe\">\n  <thead>\n    <tr style=\"text-align: right;\">\n      <th></th>\n      <th>Rainfall amount (millimetres)</th>\n      <th>date</th>\n    </tr>\n  </thead>\n  <tbody>\n    <tr>\n      <th>0</th>\n      <td>NaN</td>\n      <td>1964-1-1</td>\n    </tr>\n    <tr>\n      <th>1</th>\n      <td>NaN</td>\n      <td>1964-1-2</td>\n    </tr>\n    <tr>\n      <th>2</th>\n      <td>NaN</td>\n      <td>1964-1-3</td>\n    </tr>\n    <tr>\n      <th>3</th>\n      <td>NaN</td>\n      <td>1964-1-4</td>\n    </tr>\n    <tr>\n      <th>4</th>\n      <td>NaN</td>\n      <td>1964-1-5</td>\n    </tr>\n    <tr>\n      <th>...</th>\n      <td>...</td>\n      <td>...</td>\n    </tr>\n    <tr>\n      <th>20791</th>\n      <td>0.0</td>\n      <td>2020-12-3</td>\n    </tr>\n    <tr>\n      <th>20792</th>\n      <td>0.0</td>\n      <td>2020-12-4</td>\n    </tr>\n    <tr>\n      <th>20793</th>\n      <td>0.0</td>\n      <td>2020-12-5</td>\n    </tr>\n    <tr>\n      <th>20794</th>\n      <td>2.2</td>\n      <td>2020-12-6</td>\n    </tr>\n    <tr>\n      <th>20795</th>\n      <td>3.0</td>\n      <td>2020-12-7</td>\n    </tr>\n  </tbody>\n</table>\n<p>20796 rows × 2 columns</p>\n</div>"
          },
          "metadata": {},
          "execution_count": 245
        }
      ],
      "source": [
        "Rainfall.drop(columns=['Product code','Bureau of Meteorology station number', \n",
        "                        'Year',\t'Month', 'Day',\t'Period over which rainfall was measured (days)',\n",
        "                        'Quality'], inplace = True)\n",
        "Rainfall"
      ]
    },
    {
      "cell_type": "code",
      "execution_count": 246,
      "metadata": {},
      "outputs": [
        {
          "output_type": "execute_result",
          "data": {
            "text/plain": [
              "     Product code  Bureau of Meteorology station number  Year  Month  Day  \\\n",
              "0      IDCJAC0010                                 86338  2013      1    1   \n",
              "1      IDCJAC0010                                 86338  2013      1    2   \n",
              "2      IDCJAC0010                                 86338  2013      1    3   \n",
              "3      IDCJAC0010                                 86338  2013      1    4   \n",
              "4      IDCJAC0010                                 86338  2013      1    5   \n",
              "...           ...                                   ...   ...    ...  ...   \n",
              "2894   IDCJAC0010                                 86338  2020     12    4   \n",
              "2895   IDCJAC0010                                 86338  2020     12    5   \n",
              "2896   IDCJAC0010                                 86338  2020     12    6   \n",
              "2897   IDCJAC0010                                 86338  2020     12    7   \n",
              "2898   IDCJAC0010                                 86338  2020     12    8   \n",
              "\n",
              "      Maximum temperature (Degree C)  \\\n",
              "0                                NaN   \n",
              "1                                NaN   \n",
              "2                                NaN   \n",
              "3                                NaN   \n",
              "4                                NaN   \n",
              "...                              ...   \n",
              "2894                            22.9   \n",
              "2895                            28.4   \n",
              "2896                            20.5   \n",
              "2897                            17.3   \n",
              "2898                            17.1   \n",
              "\n",
              "      Days of accumulation of maximum temperature Quality  \n",
              "0                                             NaN     NaN  \n",
              "1                                             NaN     NaN  \n",
              "2                                             NaN     NaN  \n",
              "3                                             NaN     NaN  \n",
              "4                                             NaN     NaN  \n",
              "...                                           ...     ...  \n",
              "2894                                          1.0       N  \n",
              "2895                                          1.0       N  \n",
              "2896                                          1.0       N  \n",
              "2897                                          1.0       N  \n",
              "2898                                          1.0       N  \n",
              "\n",
              "[2899 rows x 8 columns]"
            ],
            "text/html": "<div>\n<style scoped>\n    .dataframe tbody tr th:only-of-type {\n        vertical-align: middle;\n    }\n\n    .dataframe tbody tr th {\n        vertical-align: top;\n    }\n\n    .dataframe thead th {\n        text-align: right;\n    }\n</style>\n<table border=\"1\" class=\"dataframe\">\n  <thead>\n    <tr style=\"text-align: right;\">\n      <th></th>\n      <th>Product code</th>\n      <th>Bureau of Meteorology station number</th>\n      <th>Year</th>\n      <th>Month</th>\n      <th>Day</th>\n      <th>Maximum temperature (Degree C)</th>\n      <th>Days of accumulation of maximum temperature</th>\n      <th>Quality</th>\n    </tr>\n  </thead>\n  <tbody>\n    <tr>\n      <th>0</th>\n      <td>IDCJAC0010</td>\n      <td>86338</td>\n      <td>2013</td>\n      <td>1</td>\n      <td>1</td>\n      <td>NaN</td>\n      <td>NaN</td>\n      <td>NaN</td>\n    </tr>\n    <tr>\n      <th>1</th>\n      <td>IDCJAC0010</td>\n      <td>86338</td>\n      <td>2013</td>\n      <td>1</td>\n      <td>2</td>\n      <td>NaN</td>\n      <td>NaN</td>\n      <td>NaN</td>\n    </tr>\n    <tr>\n      <th>2</th>\n      <td>IDCJAC0010</td>\n      <td>86338</td>\n      <td>2013</td>\n      <td>1</td>\n      <td>3</td>\n      <td>NaN</td>\n      <td>NaN</td>\n      <td>NaN</td>\n    </tr>\n    <tr>\n      <th>3</th>\n      <td>IDCJAC0010</td>\n      <td>86338</td>\n      <td>2013</td>\n      <td>1</td>\n      <td>4</td>\n      <td>NaN</td>\n      <td>NaN</td>\n      <td>NaN</td>\n    </tr>\n    <tr>\n      <th>4</th>\n      <td>IDCJAC0010</td>\n      <td>86338</td>\n      <td>2013</td>\n      <td>1</td>\n      <td>5</td>\n      <td>NaN</td>\n      <td>NaN</td>\n      <td>NaN</td>\n    </tr>\n    <tr>\n      <th>...</th>\n      <td>...</td>\n      <td>...</td>\n      <td>...</td>\n      <td>...</td>\n      <td>...</td>\n      <td>...</td>\n      <td>...</td>\n      <td>...</td>\n    </tr>\n    <tr>\n      <th>2894</th>\n      <td>IDCJAC0010</td>\n      <td>86338</td>\n      <td>2020</td>\n      <td>12</td>\n      <td>4</td>\n      <td>22.9</td>\n      <td>1.0</td>\n      <td>N</td>\n    </tr>\n    <tr>\n      <th>2895</th>\n      <td>IDCJAC0010</td>\n      <td>86338</td>\n      <td>2020</td>\n      <td>12</td>\n      <td>5</td>\n      <td>28.4</td>\n      <td>1.0</td>\n      <td>N</td>\n    </tr>\n    <tr>\n      <th>2896</th>\n      <td>IDCJAC0010</td>\n      <td>86338</td>\n      <td>2020</td>\n      <td>12</td>\n      <td>6</td>\n      <td>20.5</td>\n      <td>1.0</td>\n      <td>N</td>\n    </tr>\n    <tr>\n      <th>2897</th>\n      <td>IDCJAC0010</td>\n      <td>86338</td>\n      <td>2020</td>\n      <td>12</td>\n      <td>7</td>\n      <td>17.3</td>\n      <td>1.0</td>\n      <td>N</td>\n    </tr>\n    <tr>\n      <th>2898</th>\n      <td>IDCJAC0010</td>\n      <td>86338</td>\n      <td>2020</td>\n      <td>12</td>\n      <td>8</td>\n      <td>17.1</td>\n      <td>1.0</td>\n      <td>N</td>\n    </tr>\n  </tbody>\n</table>\n<p>2899 rows × 8 columns</p>\n</div>"
          },
          "metadata": {},
          "execution_count": 246
        }
      ],
      "source": [
        "Max_Temp = pd.read_csv('Data_Raw/Max_Temp.csv')\n",
        "Max_Temp"
      ]
    },
    {
      "cell_type": "code",
      "metadata": {
        "colab": {
          "base_uri": "https://localhost:8080/",
          "height": 399
        },
        "id": "qM2L2SbQh2TQ",
        "outputId": "1258dc1a-3fc8-4010-952c-e90425e90523"
      },
      "source": [
        "Max_Temp['date'] = Max_Temp['Year'].astype(str) + '-' + Max_Temp['Month'].astype(str) + '-' + Max_Temp['Day'].astype(str)"
      ],
      "execution_count": 247,
      "outputs": []
    },
    {
      "cell_type": "code",
      "metadata": {
        "colab": {
          "base_uri": "https://localhost:8080/"
        },
        "id": "_V_Z-ynAgQNg",
        "outputId": "489c73cd-1038-4346-fb87-69e63db39dcd"
      },
      "source": [
        "Max_Temp.drop(columns=['Product code','Bureau of Meteorology station number', \n",
        "                        'Year',\t'Month', 'Day',\t'Days of accumulation of maximum temperature',\n",
        "                        'Quality'], inplace = True)\n",
        "Max_Temp"
      ],
      "execution_count": 248,
      "outputs": [
        {
          "output_type": "execute_result",
          "data": {
            "text/plain": [
              "      Maximum temperature (Degree C)       date\n",
              "0                                NaN   2013-1-1\n",
              "1                                NaN   2013-1-2\n",
              "2                                NaN   2013-1-3\n",
              "3                                NaN   2013-1-4\n",
              "4                                NaN   2013-1-5\n",
              "...                              ...        ...\n",
              "2894                            22.9  2020-12-4\n",
              "2895                            28.4  2020-12-5\n",
              "2896                            20.5  2020-12-6\n",
              "2897                            17.3  2020-12-7\n",
              "2898                            17.1  2020-12-8\n",
              "\n",
              "[2899 rows x 2 columns]"
            ],
            "text/html": "<div>\n<style scoped>\n    .dataframe tbody tr th:only-of-type {\n        vertical-align: middle;\n    }\n\n    .dataframe tbody tr th {\n        vertical-align: top;\n    }\n\n    .dataframe thead th {\n        text-align: right;\n    }\n</style>\n<table border=\"1\" class=\"dataframe\">\n  <thead>\n    <tr style=\"text-align: right;\">\n      <th></th>\n      <th>Maximum temperature (Degree C)</th>\n      <th>date</th>\n    </tr>\n  </thead>\n  <tbody>\n    <tr>\n      <th>0</th>\n      <td>NaN</td>\n      <td>2013-1-1</td>\n    </tr>\n    <tr>\n      <th>1</th>\n      <td>NaN</td>\n      <td>2013-1-2</td>\n    </tr>\n    <tr>\n      <th>2</th>\n      <td>NaN</td>\n      <td>2013-1-3</td>\n    </tr>\n    <tr>\n      <th>3</th>\n      <td>NaN</td>\n      <td>2013-1-4</td>\n    </tr>\n    <tr>\n      <th>4</th>\n      <td>NaN</td>\n      <td>2013-1-5</td>\n    </tr>\n    <tr>\n      <th>...</th>\n      <td>...</td>\n      <td>...</td>\n    </tr>\n    <tr>\n      <th>2894</th>\n      <td>22.9</td>\n      <td>2020-12-4</td>\n    </tr>\n    <tr>\n      <th>2895</th>\n      <td>28.4</td>\n      <td>2020-12-5</td>\n    </tr>\n    <tr>\n      <th>2896</th>\n      <td>20.5</td>\n      <td>2020-12-6</td>\n    </tr>\n    <tr>\n      <th>2897</th>\n      <td>17.3</td>\n      <td>2020-12-7</td>\n    </tr>\n    <tr>\n      <th>2898</th>\n      <td>17.1</td>\n      <td>2020-12-8</td>\n    </tr>\n  </tbody>\n</table>\n<p>2899 rows × 2 columns</p>\n</div>"
          },
          "metadata": {},
          "execution_count": 248
        }
      ]
    },
    {
      "cell_type": "code",
      "execution_count": 249,
      "metadata": {},
      "outputs": [
        {
          "output_type": "execute_result",
          "data": {
            "text/plain": [
              "     Product code  Bureau of Meteorology station number  Year  Month  Day  \\\n",
              "0      IDCJAC0011                                 86338  2013      1    1   \n",
              "1      IDCJAC0011                                 86338  2013      1    2   \n",
              "2      IDCJAC0011                                 86338  2013      1    3   \n",
              "3      IDCJAC0011                                 86338  2013      1    4   \n",
              "4      IDCJAC0011                                 86338  2013      1    5   \n",
              "...           ...                                   ...   ...    ...  ...   \n",
              "2895   IDCJAC0011                                 86338  2020     12    5   \n",
              "2896   IDCJAC0011                                 86338  2020     12    6   \n",
              "2897   IDCJAC0011                                 86338  2020     12    7   \n",
              "2898   IDCJAC0011                                 86338  2020     12    8   \n",
              "2899   IDCJAC0011                                 86338  2020     12    9   \n",
              "\n",
              "      Minimum temperature (Degree C)  \\\n",
              "0                                NaN   \n",
              "1                                NaN   \n",
              "2                                NaN   \n",
              "3                                NaN   \n",
              "4                                NaN   \n",
              "...                              ...   \n",
              "2895                            13.9   \n",
              "2896                            12.9   \n",
              "2897                            11.3   \n",
              "2898                            10.6   \n",
              "2899                            11.7   \n",
              "\n",
              "      Days of accumulation of minimum temperature Quality  \n",
              "0                                             NaN     NaN  \n",
              "1                                             NaN     NaN  \n",
              "2                                             NaN     NaN  \n",
              "3                                             NaN     NaN  \n",
              "4                                             NaN     NaN  \n",
              "...                                           ...     ...  \n",
              "2895                                          1.0       N  \n",
              "2896                                          1.0       N  \n",
              "2897                                          1.0       N  \n",
              "2898                                          1.0       N  \n",
              "2899                                          1.0       N  \n",
              "\n",
              "[2900 rows x 8 columns]"
            ],
            "text/html": "<div>\n<style scoped>\n    .dataframe tbody tr th:only-of-type {\n        vertical-align: middle;\n    }\n\n    .dataframe tbody tr th {\n        vertical-align: top;\n    }\n\n    .dataframe thead th {\n        text-align: right;\n    }\n</style>\n<table border=\"1\" class=\"dataframe\">\n  <thead>\n    <tr style=\"text-align: right;\">\n      <th></th>\n      <th>Product code</th>\n      <th>Bureau of Meteorology station number</th>\n      <th>Year</th>\n      <th>Month</th>\n      <th>Day</th>\n      <th>Minimum temperature (Degree C)</th>\n      <th>Days of accumulation of minimum temperature</th>\n      <th>Quality</th>\n    </tr>\n  </thead>\n  <tbody>\n    <tr>\n      <th>0</th>\n      <td>IDCJAC0011</td>\n      <td>86338</td>\n      <td>2013</td>\n      <td>1</td>\n      <td>1</td>\n      <td>NaN</td>\n      <td>NaN</td>\n      <td>NaN</td>\n    </tr>\n    <tr>\n      <th>1</th>\n      <td>IDCJAC0011</td>\n      <td>86338</td>\n      <td>2013</td>\n      <td>1</td>\n      <td>2</td>\n      <td>NaN</td>\n      <td>NaN</td>\n      <td>NaN</td>\n    </tr>\n    <tr>\n      <th>2</th>\n      <td>IDCJAC0011</td>\n      <td>86338</td>\n      <td>2013</td>\n      <td>1</td>\n      <td>3</td>\n      <td>NaN</td>\n      <td>NaN</td>\n      <td>NaN</td>\n    </tr>\n    <tr>\n      <th>3</th>\n      <td>IDCJAC0011</td>\n      <td>86338</td>\n      <td>2013</td>\n      <td>1</td>\n      <td>4</td>\n      <td>NaN</td>\n      <td>NaN</td>\n      <td>NaN</td>\n    </tr>\n    <tr>\n      <th>4</th>\n      <td>IDCJAC0011</td>\n      <td>86338</td>\n      <td>2013</td>\n      <td>1</td>\n      <td>5</td>\n      <td>NaN</td>\n      <td>NaN</td>\n      <td>NaN</td>\n    </tr>\n    <tr>\n      <th>...</th>\n      <td>...</td>\n      <td>...</td>\n      <td>...</td>\n      <td>...</td>\n      <td>...</td>\n      <td>...</td>\n      <td>...</td>\n      <td>...</td>\n    </tr>\n    <tr>\n      <th>2895</th>\n      <td>IDCJAC0011</td>\n      <td>86338</td>\n      <td>2020</td>\n      <td>12</td>\n      <td>5</td>\n      <td>13.9</td>\n      <td>1.0</td>\n      <td>N</td>\n    </tr>\n    <tr>\n      <th>2896</th>\n      <td>IDCJAC0011</td>\n      <td>86338</td>\n      <td>2020</td>\n      <td>12</td>\n      <td>6</td>\n      <td>12.9</td>\n      <td>1.0</td>\n      <td>N</td>\n    </tr>\n    <tr>\n      <th>2897</th>\n      <td>IDCJAC0011</td>\n      <td>86338</td>\n      <td>2020</td>\n      <td>12</td>\n      <td>7</td>\n      <td>11.3</td>\n      <td>1.0</td>\n      <td>N</td>\n    </tr>\n    <tr>\n      <th>2898</th>\n      <td>IDCJAC0011</td>\n      <td>86338</td>\n      <td>2020</td>\n      <td>12</td>\n      <td>8</td>\n      <td>10.6</td>\n      <td>1.0</td>\n      <td>N</td>\n    </tr>\n    <tr>\n      <th>2899</th>\n      <td>IDCJAC0011</td>\n      <td>86338</td>\n      <td>2020</td>\n      <td>12</td>\n      <td>9</td>\n      <td>11.7</td>\n      <td>1.0</td>\n      <td>N</td>\n    </tr>\n  </tbody>\n</table>\n<p>2900 rows × 8 columns</p>\n</div>"
          },
          "metadata": {},
          "execution_count": 249
        }
      ],
      "source": [
        "Min_Temp = pd.read_csv('Data_Raw/Min_Temp.csv')\n",
        "Min_Temp"
      ]
    },
    {
      "cell_type": "code",
      "execution_count": 250,
      "metadata": {},
      "outputs": [
        {
          "output_type": "execute_result",
          "data": {
            "text/plain": [
              "      Minimum temperature (Degree C)       date\n",
              "0                                NaN   2013-1-1\n",
              "1                                NaN   2013-1-2\n",
              "2                                NaN   2013-1-3\n",
              "3                                NaN   2013-1-4\n",
              "4                                NaN   2013-1-5\n",
              "...                              ...        ...\n",
              "2895                            13.9  2020-12-5\n",
              "2896                            12.9  2020-12-6\n",
              "2897                            11.3  2020-12-7\n",
              "2898                            10.6  2020-12-8\n",
              "2899                            11.7  2020-12-9\n",
              "\n",
              "[2900 rows x 2 columns]"
            ],
            "text/html": "<div>\n<style scoped>\n    .dataframe tbody tr th:only-of-type {\n        vertical-align: middle;\n    }\n\n    .dataframe tbody tr th {\n        vertical-align: top;\n    }\n\n    .dataframe thead th {\n        text-align: right;\n    }\n</style>\n<table border=\"1\" class=\"dataframe\">\n  <thead>\n    <tr style=\"text-align: right;\">\n      <th></th>\n      <th>Minimum temperature (Degree C)</th>\n      <th>date</th>\n    </tr>\n  </thead>\n  <tbody>\n    <tr>\n      <th>0</th>\n      <td>NaN</td>\n      <td>2013-1-1</td>\n    </tr>\n    <tr>\n      <th>1</th>\n      <td>NaN</td>\n      <td>2013-1-2</td>\n    </tr>\n    <tr>\n      <th>2</th>\n      <td>NaN</td>\n      <td>2013-1-3</td>\n    </tr>\n    <tr>\n      <th>3</th>\n      <td>NaN</td>\n      <td>2013-1-4</td>\n    </tr>\n    <tr>\n      <th>4</th>\n      <td>NaN</td>\n      <td>2013-1-5</td>\n    </tr>\n    <tr>\n      <th>...</th>\n      <td>...</td>\n      <td>...</td>\n    </tr>\n    <tr>\n      <th>2895</th>\n      <td>13.9</td>\n      <td>2020-12-5</td>\n    </tr>\n    <tr>\n      <th>2896</th>\n      <td>12.9</td>\n      <td>2020-12-6</td>\n    </tr>\n    <tr>\n      <th>2897</th>\n      <td>11.3</td>\n      <td>2020-12-7</td>\n    </tr>\n    <tr>\n      <th>2898</th>\n      <td>10.6</td>\n      <td>2020-12-8</td>\n    </tr>\n    <tr>\n      <th>2899</th>\n      <td>11.7</td>\n      <td>2020-12-9</td>\n    </tr>\n  </tbody>\n</table>\n<p>2900 rows × 2 columns</p>\n</div>"
          },
          "metadata": {},
          "execution_count": 250
        }
      ],
      "source": [
        "Min_Temp['date'] = Min_Temp['Year'].astype(str) + '-' + Min_Temp['Month'].astype(str) + '-' + Min_Temp['Day'].astype(str)\n",
        "Min_Temp.drop(columns=['Product code','Bureau of Meteorology station number', \n",
        "                        'Year',\t'Month', 'Day',\t'Days of accumulation of minimum temperature',\n",
        "                        'Quality'], inplace = True)\n",
        "Min_Temp"
      ]
    },
    {
      "cell_type": "code",
      "execution_count": 251,
      "metadata": {},
      "outputs": [
        {
          "output_type": "execute_result",
          "data": {
            "text/plain": [
              "      Product code  Bureau of Meteorology station number  Year  Month  Day  \\\n",
              "0       IDCJAC0016                                 86232  1990      1    1   \n",
              "1       IDCJAC0016                                 86232  1990      1    2   \n",
              "2       IDCJAC0016                                 86232  1990      1    3   \n",
              "3       IDCJAC0016                                 86232  1990      1    4   \n",
              "4       IDCJAC0016                                 86232  1990      1    5   \n",
              "...            ...                                   ...   ...    ...  ...   \n",
              "11295   IDCJAC0016                                 86232  2020     12    4   \n",
              "11296   IDCJAC0016                                 86232  2020     12    5   \n",
              "11297   IDCJAC0016                                 86232  2020     12    6   \n",
              "11298   IDCJAC0016                                 86232  2020     12    7   \n",
              "11299   IDCJAC0016                                 86232  2020     12    8   \n",
              "\n",
              "       Daily global solar exposure (MJ/m*m)  \n",
              "0                                      32.3  \n",
              "1                                      31.0  \n",
              "2                                       NaN  \n",
              "3                                      31.5  \n",
              "4                                      29.3  \n",
              "...                                     ...  \n",
              "11295                                  31.6  \n",
              "11296                                   7.9  \n",
              "11297                                  15.5  \n",
              "11298                                  20.9  \n",
              "11299                                  13.2  \n",
              "\n",
              "[11300 rows x 6 columns]"
            ],
            "text/html": "<div>\n<style scoped>\n    .dataframe tbody tr th:only-of-type {\n        vertical-align: middle;\n    }\n\n    .dataframe tbody tr th {\n        vertical-align: top;\n    }\n\n    .dataframe thead th {\n        text-align: right;\n    }\n</style>\n<table border=\"1\" class=\"dataframe\">\n  <thead>\n    <tr style=\"text-align: right;\">\n      <th></th>\n      <th>Product code</th>\n      <th>Bureau of Meteorology station number</th>\n      <th>Year</th>\n      <th>Month</th>\n      <th>Day</th>\n      <th>Daily global solar exposure (MJ/m*m)</th>\n    </tr>\n  </thead>\n  <tbody>\n    <tr>\n      <th>0</th>\n      <td>IDCJAC0016</td>\n      <td>86232</td>\n      <td>1990</td>\n      <td>1</td>\n      <td>1</td>\n      <td>32.3</td>\n    </tr>\n    <tr>\n      <th>1</th>\n      <td>IDCJAC0016</td>\n      <td>86232</td>\n      <td>1990</td>\n      <td>1</td>\n      <td>2</td>\n      <td>31.0</td>\n    </tr>\n    <tr>\n      <th>2</th>\n      <td>IDCJAC0016</td>\n      <td>86232</td>\n      <td>1990</td>\n      <td>1</td>\n      <td>3</td>\n      <td>NaN</td>\n    </tr>\n    <tr>\n      <th>3</th>\n      <td>IDCJAC0016</td>\n      <td>86232</td>\n      <td>1990</td>\n      <td>1</td>\n      <td>4</td>\n      <td>31.5</td>\n    </tr>\n    <tr>\n      <th>4</th>\n      <td>IDCJAC0016</td>\n      <td>86232</td>\n      <td>1990</td>\n      <td>1</td>\n      <td>5</td>\n      <td>29.3</td>\n    </tr>\n    <tr>\n      <th>...</th>\n      <td>...</td>\n      <td>...</td>\n      <td>...</td>\n      <td>...</td>\n      <td>...</td>\n      <td>...</td>\n    </tr>\n    <tr>\n      <th>11295</th>\n      <td>IDCJAC0016</td>\n      <td>86232</td>\n      <td>2020</td>\n      <td>12</td>\n      <td>4</td>\n      <td>31.6</td>\n    </tr>\n    <tr>\n      <th>11296</th>\n      <td>IDCJAC0016</td>\n      <td>86232</td>\n      <td>2020</td>\n      <td>12</td>\n      <td>5</td>\n      <td>7.9</td>\n    </tr>\n    <tr>\n      <th>11297</th>\n      <td>IDCJAC0016</td>\n      <td>86232</td>\n      <td>2020</td>\n      <td>12</td>\n      <td>6</td>\n      <td>15.5</td>\n    </tr>\n    <tr>\n      <th>11298</th>\n      <td>IDCJAC0016</td>\n      <td>86232</td>\n      <td>2020</td>\n      <td>12</td>\n      <td>7</td>\n      <td>20.9</td>\n    </tr>\n    <tr>\n      <th>11299</th>\n      <td>IDCJAC0016</td>\n      <td>86232</td>\n      <td>2020</td>\n      <td>12</td>\n      <td>8</td>\n      <td>13.2</td>\n    </tr>\n  </tbody>\n</table>\n<p>11300 rows × 6 columns</p>\n</div>"
          },
          "metadata": {},
          "execution_count": 251
        }
      ],
      "source": [
        "Solar = pd.read_csv('Data_Raw/Solar.csv')\n",
        "Solar"
      ]
    },
    {
      "cell_type": "code",
      "execution_count": 252,
      "metadata": {},
      "outputs": [
        {
          "output_type": "execute_result",
          "data": {
            "text/plain": [
              "       Daily global solar exposure (MJ/m*m)       date\n",
              "0                                      32.3   1990-1-1\n",
              "1                                      31.0   1990-1-2\n",
              "2                                       NaN   1990-1-3\n",
              "3                                      31.5   1990-1-4\n",
              "4                                      29.3   1990-1-5\n",
              "...                                     ...        ...\n",
              "11295                                  31.6  2020-12-4\n",
              "11296                                   7.9  2020-12-5\n",
              "11297                                  15.5  2020-12-6\n",
              "11298                                  20.9  2020-12-7\n",
              "11299                                  13.2  2020-12-8\n",
              "\n",
              "[11300 rows x 2 columns]"
            ],
            "text/html": "<div>\n<style scoped>\n    .dataframe tbody tr th:only-of-type {\n        vertical-align: middle;\n    }\n\n    .dataframe tbody tr th {\n        vertical-align: top;\n    }\n\n    .dataframe thead th {\n        text-align: right;\n    }\n</style>\n<table border=\"1\" class=\"dataframe\">\n  <thead>\n    <tr style=\"text-align: right;\">\n      <th></th>\n      <th>Daily global solar exposure (MJ/m*m)</th>\n      <th>date</th>\n    </tr>\n  </thead>\n  <tbody>\n    <tr>\n      <th>0</th>\n      <td>32.3</td>\n      <td>1990-1-1</td>\n    </tr>\n    <tr>\n      <th>1</th>\n      <td>31.0</td>\n      <td>1990-1-2</td>\n    </tr>\n    <tr>\n      <th>2</th>\n      <td>NaN</td>\n      <td>1990-1-3</td>\n    </tr>\n    <tr>\n      <th>3</th>\n      <td>31.5</td>\n      <td>1990-1-4</td>\n    </tr>\n    <tr>\n      <th>4</th>\n      <td>29.3</td>\n      <td>1990-1-5</td>\n    </tr>\n    <tr>\n      <th>...</th>\n      <td>...</td>\n      <td>...</td>\n    </tr>\n    <tr>\n      <th>11295</th>\n      <td>31.6</td>\n      <td>2020-12-4</td>\n    </tr>\n    <tr>\n      <th>11296</th>\n      <td>7.9</td>\n      <td>2020-12-5</td>\n    </tr>\n    <tr>\n      <th>11297</th>\n      <td>15.5</td>\n      <td>2020-12-6</td>\n    </tr>\n    <tr>\n      <th>11298</th>\n      <td>20.9</td>\n      <td>2020-12-7</td>\n    </tr>\n    <tr>\n      <th>11299</th>\n      <td>13.2</td>\n      <td>2020-12-8</td>\n    </tr>\n  </tbody>\n</table>\n<p>11300 rows × 2 columns</p>\n</div>"
          },
          "metadata": {},
          "execution_count": 252
        }
      ],
      "source": [
        "Solar['date'] = Solar['Year'].astype(str) + '-' + Solar['Month'].astype(str) + '-' + Solar['Day'].astype(str)\n",
        "Solar.drop(columns=['Product code','Bureau of Meteorology station number', \n",
        "                        'Year',\t'Month', 'Day'], inplace = True)\n",
        "Solar"
      ]
    },
    {
      "cell_type": "code",
      "execution_count": 253,
      "metadata": {},
      "outputs": [
        {
          "output_type": "execute_result",
          "data": {
            "text/plain": [
              "           date  Rainfall amount (millimetres)  \\\n",
              "0      2013-1-1                            0.0   \n",
              "1      2013-1-2                            0.0   \n",
              "2      2013-1-3                            0.0   \n",
              "3      2013-1-4                            0.0   \n",
              "4      2013-1-5                            0.0   \n",
              "...         ...                            ...   \n",
              "2893  2020-12-3                            0.0   \n",
              "2894  2020-12-4                            0.0   \n",
              "2895  2020-12-5                            0.0   \n",
              "2896  2020-12-6                            2.2   \n",
              "2897  2020-12-7                            3.0   \n",
              "\n",
              "      Minimum temperature (Degree C)  Maximum temperature (Degree C)  \\\n",
              "0                                NaN                             NaN   \n",
              "1                                NaN                             NaN   \n",
              "2                                NaN                             NaN   \n",
              "3                                NaN                             NaN   \n",
              "4                                NaN                             NaN   \n",
              "...                              ...                             ...   \n",
              "2893                            10.6                            23.7   \n",
              "2894                            11.4                            22.9   \n",
              "2895                            13.9                            28.4   \n",
              "2896                            12.9                            20.5   \n",
              "2897                            11.3                            17.3   \n",
              "\n",
              "      Daily global solar exposure (MJ/m*m)  \n",
              "0                                     31.1  \n",
              "1                                     31.9  \n",
              "2                                     32.8  \n",
              "3                                     33.5  \n",
              "4                                     30.5  \n",
              "...                                    ...  \n",
              "2893                                  31.2  \n",
              "2894                                  31.6  \n",
              "2895                                   7.9  \n",
              "2896                                  15.5  \n",
              "2897                                  20.9  \n",
              "\n",
              "[2898 rows x 5 columns]"
            ],
            "text/html": "<div>\n<style scoped>\n    .dataframe tbody tr th:only-of-type {\n        vertical-align: middle;\n    }\n\n    .dataframe tbody tr th {\n        vertical-align: top;\n    }\n\n    .dataframe thead th {\n        text-align: right;\n    }\n</style>\n<table border=\"1\" class=\"dataframe\">\n  <thead>\n    <tr style=\"text-align: right;\">\n      <th></th>\n      <th>date</th>\n      <th>Rainfall amount (millimetres)</th>\n      <th>Minimum temperature (Degree C)</th>\n      <th>Maximum temperature (Degree C)</th>\n      <th>Daily global solar exposure (MJ/m*m)</th>\n    </tr>\n  </thead>\n  <tbody>\n    <tr>\n      <th>0</th>\n      <td>2013-1-1</td>\n      <td>0.0</td>\n      <td>NaN</td>\n      <td>NaN</td>\n      <td>31.1</td>\n    </tr>\n    <tr>\n      <th>1</th>\n      <td>2013-1-2</td>\n      <td>0.0</td>\n      <td>NaN</td>\n      <td>NaN</td>\n      <td>31.9</td>\n    </tr>\n    <tr>\n      <th>2</th>\n      <td>2013-1-3</td>\n      <td>0.0</td>\n      <td>NaN</td>\n      <td>NaN</td>\n      <td>32.8</td>\n    </tr>\n    <tr>\n      <th>3</th>\n      <td>2013-1-4</td>\n      <td>0.0</td>\n      <td>NaN</td>\n      <td>NaN</td>\n      <td>33.5</td>\n    </tr>\n    <tr>\n      <th>4</th>\n      <td>2013-1-5</td>\n      <td>0.0</td>\n      <td>NaN</td>\n      <td>NaN</td>\n      <td>30.5</td>\n    </tr>\n    <tr>\n      <th>...</th>\n      <td>...</td>\n      <td>...</td>\n      <td>...</td>\n      <td>...</td>\n      <td>...</td>\n    </tr>\n    <tr>\n      <th>2893</th>\n      <td>2020-12-3</td>\n      <td>0.0</td>\n      <td>10.6</td>\n      <td>23.7</td>\n      <td>31.2</td>\n    </tr>\n    <tr>\n      <th>2894</th>\n      <td>2020-12-4</td>\n      <td>0.0</td>\n      <td>11.4</td>\n      <td>22.9</td>\n      <td>31.6</td>\n    </tr>\n    <tr>\n      <th>2895</th>\n      <td>2020-12-5</td>\n      <td>0.0</td>\n      <td>13.9</td>\n      <td>28.4</td>\n      <td>7.9</td>\n    </tr>\n    <tr>\n      <th>2896</th>\n      <td>2020-12-6</td>\n      <td>2.2</td>\n      <td>12.9</td>\n      <td>20.5</td>\n      <td>15.5</td>\n    </tr>\n    <tr>\n      <th>2897</th>\n      <td>2020-12-7</td>\n      <td>3.0</td>\n      <td>11.3</td>\n      <td>17.3</td>\n      <td>20.9</td>\n    </tr>\n  </tbody>\n</table>\n<p>2898 rows × 5 columns</p>\n</div>"
          },
          "metadata": {},
          "execution_count": 253
        }
      ],
      "source": [
        "# merge 4 table\n",
        "from functools import reduce\n",
        "dfs = [Rainfall, Min_Temp, Max_Temp, Solar,]\n",
        "df_final = reduce(lambda left,right: pd.merge(left,right,on='date'), dfs)\n",
        "df_final = df_final[['date', 'Rainfall amount (millimetres)', 'Minimum temperature (Degree C)', 'Maximum temperature (Degree C)', 'Daily global solar exposure (MJ/m*m)']]\n",
        "df_final"
      ]
    },
    {
      "cell_type": "code",
      "metadata": {
        "colab": {
          "base_uri": "https://localhost:8080/",
          "height": 399
        },
        "id": "mRhb5BWHkxzi",
        "outputId": "3d8268a4-2f9e-4994-d9aa-0f8580f75712"
      },
      "source": [
        "#converting date_time feature from object datatypes to date\n",
        "df_final['date'] = df_final['date'].astype('datetime64[ns]')\n",
        "df_final"
      ],
      "execution_count": 254,
      "outputs": [
        {
          "output_type": "execute_result",
          "data": {
            "text/plain": [
              "           date  Rainfall amount (millimetres)  \\\n",
              "0    2013-01-01                            0.0   \n",
              "1    2013-01-02                            0.0   \n",
              "2    2013-01-03                            0.0   \n",
              "3    2013-01-04                            0.0   \n",
              "4    2013-01-05                            0.0   \n",
              "...         ...                            ...   \n",
              "2893 2020-12-03                            0.0   \n",
              "2894 2020-12-04                            0.0   \n",
              "2895 2020-12-05                            0.0   \n",
              "2896 2020-12-06                            2.2   \n",
              "2897 2020-12-07                            3.0   \n",
              "\n",
              "      Minimum temperature (Degree C)  Maximum temperature (Degree C)  \\\n",
              "0                                NaN                             NaN   \n",
              "1                                NaN                             NaN   \n",
              "2                                NaN                             NaN   \n",
              "3                                NaN                             NaN   \n",
              "4                                NaN                             NaN   \n",
              "...                              ...                             ...   \n",
              "2893                            10.6                            23.7   \n",
              "2894                            11.4                            22.9   \n",
              "2895                            13.9                            28.4   \n",
              "2896                            12.9                            20.5   \n",
              "2897                            11.3                            17.3   \n",
              "\n",
              "      Daily global solar exposure (MJ/m*m)  \n",
              "0                                     31.1  \n",
              "1                                     31.9  \n",
              "2                                     32.8  \n",
              "3                                     33.5  \n",
              "4                                     30.5  \n",
              "...                                    ...  \n",
              "2893                                  31.2  \n",
              "2894                                  31.6  \n",
              "2895                                   7.9  \n",
              "2896                                  15.5  \n",
              "2897                                  20.9  \n",
              "\n",
              "[2898 rows x 5 columns]"
            ],
            "text/html": "<div>\n<style scoped>\n    .dataframe tbody tr th:only-of-type {\n        vertical-align: middle;\n    }\n\n    .dataframe tbody tr th {\n        vertical-align: top;\n    }\n\n    .dataframe thead th {\n        text-align: right;\n    }\n</style>\n<table border=\"1\" class=\"dataframe\">\n  <thead>\n    <tr style=\"text-align: right;\">\n      <th></th>\n      <th>date</th>\n      <th>Rainfall amount (millimetres)</th>\n      <th>Minimum temperature (Degree C)</th>\n      <th>Maximum temperature (Degree C)</th>\n      <th>Daily global solar exposure (MJ/m*m)</th>\n    </tr>\n  </thead>\n  <tbody>\n    <tr>\n      <th>0</th>\n      <td>2013-01-01</td>\n      <td>0.0</td>\n      <td>NaN</td>\n      <td>NaN</td>\n      <td>31.1</td>\n    </tr>\n    <tr>\n      <th>1</th>\n      <td>2013-01-02</td>\n      <td>0.0</td>\n      <td>NaN</td>\n      <td>NaN</td>\n      <td>31.9</td>\n    </tr>\n    <tr>\n      <th>2</th>\n      <td>2013-01-03</td>\n      <td>0.0</td>\n      <td>NaN</td>\n      <td>NaN</td>\n      <td>32.8</td>\n    </tr>\n    <tr>\n      <th>3</th>\n      <td>2013-01-04</td>\n      <td>0.0</td>\n      <td>NaN</td>\n      <td>NaN</td>\n      <td>33.5</td>\n    </tr>\n    <tr>\n      <th>4</th>\n      <td>2013-01-05</td>\n      <td>0.0</td>\n      <td>NaN</td>\n      <td>NaN</td>\n      <td>30.5</td>\n    </tr>\n    <tr>\n      <th>...</th>\n      <td>...</td>\n      <td>...</td>\n      <td>...</td>\n      <td>...</td>\n      <td>...</td>\n    </tr>\n    <tr>\n      <th>2893</th>\n      <td>2020-12-03</td>\n      <td>0.0</td>\n      <td>10.6</td>\n      <td>23.7</td>\n      <td>31.2</td>\n    </tr>\n    <tr>\n      <th>2894</th>\n      <td>2020-12-04</td>\n      <td>0.0</td>\n      <td>11.4</td>\n      <td>22.9</td>\n      <td>31.6</td>\n    </tr>\n    <tr>\n      <th>2895</th>\n      <td>2020-12-05</td>\n      <td>0.0</td>\n      <td>13.9</td>\n      <td>28.4</td>\n      <td>7.9</td>\n    </tr>\n    <tr>\n      <th>2896</th>\n      <td>2020-12-06</td>\n      <td>2.2</td>\n      <td>12.9</td>\n      <td>20.5</td>\n      <td>15.5</td>\n    </tr>\n    <tr>\n      <th>2897</th>\n      <td>2020-12-07</td>\n      <td>3.0</td>\n      <td>11.3</td>\n      <td>17.3</td>\n      <td>20.9</td>\n    </tr>\n  </tbody>\n</table>\n<p>2898 rows × 5 columns</p>\n</div>"
          },
          "metadata": {},
          "execution_count": 254
        }
      ]
    },
    {
      "cell_type": "code",
      "metadata": {
        "id": "CrR-Tfy2YbV1"
      },
      "source": [
        "#extracting data from 2015 till date\n",
        "df_final = df_final[(df_final['date'] > '2014-12-31') & (df_final['date'] < '2020-11-1')]\n",
        "df_final"
      ],
      "execution_count": 255,
      "outputs": [
        {
          "output_type": "execute_result",
          "data": {
            "text/plain": [
              "           date  Rainfall amount (millimetres)  \\\n",
              "730  2015-01-01                            0.0   \n",
              "731  2015-01-02                            0.0   \n",
              "732  2015-01-03                            0.0   \n",
              "733  2015-01-04                            4.6   \n",
              "734  2015-01-05                            0.0   \n",
              "...         ...                            ...   \n",
              "2856 2020-10-27                            0.0   \n",
              "2857 2020-10-28                            0.0   \n",
              "2858 2020-10-29                            0.0   \n",
              "2859 2020-10-30                            0.0   \n",
              "2860 2020-10-31                            0.0   \n",
              "\n",
              "      Minimum temperature (Degree C)  Maximum temperature (Degree C)  \\\n",
              "730                             13.3                            26.9   \n",
              "731                             15.4                            38.8   \n",
              "732                             20.0                            38.2   \n",
              "733                             16.3                            21.4   \n",
              "734                             15.0                            22.0   \n",
              "...                              ...                             ...   \n",
              "2856                            11.1                            19.6   \n",
              "2857                             9.5                            20.9   \n",
              "2858                            11.2                            24.3   \n",
              "2859                            12.9                            18.6   \n",
              "2860                            14.2                            16.8   \n",
              "\n",
              "      Daily global solar exposure (MJ/m*m)  \n",
              "730                                   23.6  \n",
              "731                                   26.8  \n",
              "732                                   26.5  \n",
              "733                                   25.2  \n",
              "734                                   30.7  \n",
              "...                                    ...  \n",
              "2856                                  20.1  \n",
              "2857                                  26.7  \n",
              "2858                                  17.1  \n",
              "2859                                  21.0  \n",
              "2860                                  10.0  \n",
              "\n",
              "[2131 rows x 5 columns]"
            ],
            "text/html": "<div>\n<style scoped>\n    .dataframe tbody tr th:only-of-type {\n        vertical-align: middle;\n    }\n\n    .dataframe tbody tr th {\n        vertical-align: top;\n    }\n\n    .dataframe thead th {\n        text-align: right;\n    }\n</style>\n<table border=\"1\" class=\"dataframe\">\n  <thead>\n    <tr style=\"text-align: right;\">\n      <th></th>\n      <th>date</th>\n      <th>Rainfall amount (millimetres)</th>\n      <th>Minimum temperature (Degree C)</th>\n      <th>Maximum temperature (Degree C)</th>\n      <th>Daily global solar exposure (MJ/m*m)</th>\n    </tr>\n  </thead>\n  <tbody>\n    <tr>\n      <th>730</th>\n      <td>2015-01-01</td>\n      <td>0.0</td>\n      <td>13.3</td>\n      <td>26.9</td>\n      <td>23.6</td>\n    </tr>\n    <tr>\n      <th>731</th>\n      <td>2015-01-02</td>\n      <td>0.0</td>\n      <td>15.4</td>\n      <td>38.8</td>\n      <td>26.8</td>\n    </tr>\n    <tr>\n      <th>732</th>\n      <td>2015-01-03</td>\n      <td>0.0</td>\n      <td>20.0</td>\n      <td>38.2</td>\n      <td>26.5</td>\n    </tr>\n    <tr>\n      <th>733</th>\n      <td>2015-01-04</td>\n      <td>4.6</td>\n      <td>16.3</td>\n      <td>21.4</td>\n      <td>25.2</td>\n    </tr>\n    <tr>\n      <th>734</th>\n      <td>2015-01-05</td>\n      <td>0.0</td>\n      <td>15.0</td>\n      <td>22.0</td>\n      <td>30.7</td>\n    </tr>\n    <tr>\n      <th>...</th>\n      <td>...</td>\n      <td>...</td>\n      <td>...</td>\n      <td>...</td>\n      <td>...</td>\n    </tr>\n    <tr>\n      <th>2856</th>\n      <td>2020-10-27</td>\n      <td>0.0</td>\n      <td>11.1</td>\n      <td>19.6</td>\n      <td>20.1</td>\n    </tr>\n    <tr>\n      <th>2857</th>\n      <td>2020-10-28</td>\n      <td>0.0</td>\n      <td>9.5</td>\n      <td>20.9</td>\n      <td>26.7</td>\n    </tr>\n    <tr>\n      <th>2858</th>\n      <td>2020-10-29</td>\n      <td>0.0</td>\n      <td>11.2</td>\n      <td>24.3</td>\n      <td>17.1</td>\n    </tr>\n    <tr>\n      <th>2859</th>\n      <td>2020-10-30</td>\n      <td>0.0</td>\n      <td>12.9</td>\n      <td>18.6</td>\n      <td>21.0</td>\n    </tr>\n    <tr>\n      <th>2860</th>\n      <td>2020-10-31</td>\n      <td>0.0</td>\n      <td>14.2</td>\n      <td>16.8</td>\n      <td>10.0</td>\n    </tr>\n  </tbody>\n</table>\n<p>2131 rows × 5 columns</p>\n</div>"
          },
          "metadata": {},
          "execution_count": 255
        }
      ]
    },
    {
      "cell_type": "code",
      "execution_count": 256,
      "metadata": {},
      "outputs": [
        {
          "output_type": "execute_result",
          "data": {
            "text/plain": [
              "           date  Rainfall amount (millimetres)  \\\n",
              "730  2015-01-01                            0.0   \n",
              "731  2015-01-02                            0.0   \n",
              "732  2015-01-03                            0.0   \n",
              "733  2015-01-04                            4.6   \n",
              "734  2015-01-05                            0.0   \n",
              "...         ...                            ...   \n",
              "2856 2020-10-27                            0.0   \n",
              "2857 2020-10-28                            0.0   \n",
              "2858 2020-10-29                            0.0   \n",
              "2859 2020-10-30                            0.0   \n",
              "2860 2020-10-31                            0.0   \n",
              "\n",
              "      Minimum temperature (Degree C)  Maximum temperature (Degree C)  \\\n",
              "730                             13.3                            26.9   \n",
              "731                             15.4                            38.8   \n",
              "732                             20.0                            38.2   \n",
              "733                             16.3                            21.4   \n",
              "734                             15.0                            22.0   \n",
              "...                              ...                             ...   \n",
              "2856                            11.1                            19.6   \n",
              "2857                             9.5                            20.9   \n",
              "2858                            11.2                            24.3   \n",
              "2859                            12.9                            18.6   \n",
              "2860                            14.2                            16.8   \n",
              "\n",
              "      Daily global solar exposure (MJ/m*m)  \n",
              "730                                   23.6  \n",
              "731                                   26.8  \n",
              "732                                   26.5  \n",
              "733                                   25.2  \n",
              "734                                   30.7  \n",
              "...                                    ...  \n",
              "2856                                  20.1  \n",
              "2857                                  26.7  \n",
              "2858                                  17.1  \n",
              "2859                                  21.0  \n",
              "2860                                  10.0  \n",
              "\n",
              "[2131 rows x 5 columns]"
            ],
            "text/html": "<div>\n<style scoped>\n    .dataframe tbody tr th:only-of-type {\n        vertical-align: middle;\n    }\n\n    .dataframe tbody tr th {\n        vertical-align: top;\n    }\n\n    .dataframe thead th {\n        text-align: right;\n    }\n</style>\n<table border=\"1\" class=\"dataframe\">\n  <thead>\n    <tr style=\"text-align: right;\">\n      <th></th>\n      <th>date</th>\n      <th>Rainfall amount (millimetres)</th>\n      <th>Minimum temperature (Degree C)</th>\n      <th>Maximum temperature (Degree C)</th>\n      <th>Daily global solar exposure (MJ/m*m)</th>\n    </tr>\n  </thead>\n  <tbody>\n    <tr>\n      <th>730</th>\n      <td>2015-01-01</td>\n      <td>0.0</td>\n      <td>13.3</td>\n      <td>26.9</td>\n      <td>23.6</td>\n    </tr>\n    <tr>\n      <th>731</th>\n      <td>2015-01-02</td>\n      <td>0.0</td>\n      <td>15.4</td>\n      <td>38.8</td>\n      <td>26.8</td>\n    </tr>\n    <tr>\n      <th>732</th>\n      <td>2015-01-03</td>\n      <td>0.0</td>\n      <td>20.0</td>\n      <td>38.2</td>\n      <td>26.5</td>\n    </tr>\n    <tr>\n      <th>733</th>\n      <td>2015-01-04</td>\n      <td>4.6</td>\n      <td>16.3</td>\n      <td>21.4</td>\n      <td>25.2</td>\n    </tr>\n    <tr>\n      <th>734</th>\n      <td>2015-01-05</td>\n      <td>0.0</td>\n      <td>15.0</td>\n      <td>22.0</td>\n      <td>30.7</td>\n    </tr>\n    <tr>\n      <th>...</th>\n      <td>...</td>\n      <td>...</td>\n      <td>...</td>\n      <td>...</td>\n      <td>...</td>\n    </tr>\n    <tr>\n      <th>2856</th>\n      <td>2020-10-27</td>\n      <td>0.0</td>\n      <td>11.1</td>\n      <td>19.6</td>\n      <td>20.1</td>\n    </tr>\n    <tr>\n      <th>2857</th>\n      <td>2020-10-28</td>\n      <td>0.0</td>\n      <td>9.5</td>\n      <td>20.9</td>\n      <td>26.7</td>\n    </tr>\n    <tr>\n      <th>2858</th>\n      <td>2020-10-29</td>\n      <td>0.0</td>\n      <td>11.2</td>\n      <td>24.3</td>\n      <td>17.1</td>\n    </tr>\n    <tr>\n      <th>2859</th>\n      <td>2020-10-30</td>\n      <td>0.0</td>\n      <td>12.9</td>\n      <td>18.6</td>\n      <td>21.0</td>\n    </tr>\n    <tr>\n      <th>2860</th>\n      <td>2020-10-31</td>\n      <td>0.0</td>\n      <td>14.2</td>\n      <td>16.8</td>\n      <td>10.0</td>\n    </tr>\n  </tbody>\n</table>\n<p>2131 rows × 5 columns</p>\n</div>"
          },
          "metadata": {},
          "execution_count": 256
        }
      ],
      "source": [
        "\n",
        "#clean\n",
        "df_final.fillna(df_final.mean())"
      ]
    },
    {
      "cell_type": "code",
      "execution_count": 257,
      "metadata": {},
      "outputs": [],
      "source": [
        "df_final.to_csv ('export_df.csv', index = False, header=True)"
      ]
    },
    {
      "cell_type": "code",
      "metadata": {
        "colab": {
          "base_uri": "https://localhost:8080/",
          "height": 643
        },
        "id": "uc_9WPueAXnz",
        "outputId": "c07552f5-9da4-4047-866f-b8433e14a63a"
      },
      "source": [
        "#Visualizing Rainfall\n",
        "df_final.set_index('date')['Rainfall amount (millimetres)'].plot()"
      ],
      "execution_count": 258,
      "outputs": [
        {
          "output_type": "execute_result",
          "data": {
            "text/plain": [
              "<matplotlib.axes._subplots.AxesSubplot at 0x7f896f8c2fd0>"
            ]
          },
          "metadata": {},
          "execution_count": 258
        },
        {
          "output_type": "display_data",
          "data": {
            "text/plain": "<Figure size 432x288 with 1 Axes>",
            "image/svg+xml": "<?xml version=\"1.0\" encoding=\"utf-8\" standalone=\"no\"?>\n<!DOCTYPE svg PUBLIC \"-//W3C//DTD SVG 1.1//EN\"\n  \"http://www.w3.org/Graphics/SVG/1.1/DTD/svg11.dtd\">\n<!-- Created with matplotlib (https://matplotlib.org/) -->\n<svg height=\"265.78812pt\" version=\"1.1\" viewBox=\"0 0 368.925 265.78812\" width=\"368.925pt\" xmlns=\"http://www.w3.org/2000/svg\" xmlns:xlink=\"http://www.w3.org/1999/xlink\">\n <defs>\n  <style type=\"text/css\">\n*{stroke-linecap:butt;stroke-linejoin:round;}\n  </style>\n </defs>\n <g id=\"figure_1\">\n  <g id=\"patch_1\">\n   <path d=\"M -0 265.78812 \nL 368.925 265.78812 \nL 368.925 0 \nL -0 0 \nz\n\" style=\"fill:none;\"/>\n  </g>\n  <g id=\"axes_1\">\n   <g id=\"patch_2\">\n    <path d=\"M 26.925 228.23187 \nL 361.725 228.23187 \nL 361.725 10.79187 \nL 26.925 10.79187 \nz\n\" style=\"fill:#ffffff;\"/>\n   </g>\n   <g id=\"matplotlib.axis_1\">\n    <g id=\"xtick_1\">\n     <g id=\"line2d_1\">\n      <defs>\n       <path d=\"M 0 0 \nL 0 3.5 \n\" id=\"med3359a9bb\" style=\"stroke:#000000;stroke-width:0.8;\"/>\n      </defs>\n      <g>\n       <use style=\"stroke:#000000;stroke-width:0.8;\" x=\"26.925\" xlink:href=\"#med3359a9bb\" y=\"228.23187\"/>\n      </g>\n     </g>\n     <g id=\"text_1\">\n      <!-- 2015 -->\n      <defs>\n       <path d=\"M 19.1875 8.296875 \nL 53.609375 8.296875 \nL 53.609375 0 \nL 7.328125 0 \nL 7.328125 8.296875 \nQ 12.9375 14.109375 22.625 23.890625 \nQ 32.328125 33.6875 34.8125 36.53125 \nQ 39.546875 41.84375 41.421875 45.53125 \nQ 43.3125 49.21875 43.3125 52.78125 \nQ 43.3125 58.59375 39.234375 62.25 \nQ 35.15625 65.921875 28.609375 65.921875 \nQ 23.96875 65.921875 18.8125 64.3125 \nQ 13.671875 62.703125 7.8125 59.421875 \nL 7.8125 69.390625 \nQ 13.765625 71.78125 18.9375 73 \nQ 24.125 74.21875 28.421875 74.21875 \nQ 39.75 74.21875 46.484375 68.546875 \nQ 53.21875 62.890625 53.21875 53.421875 \nQ 53.21875 48.921875 51.53125 44.890625 \nQ 49.859375 40.875 45.40625 35.40625 \nQ 44.1875 33.984375 37.640625 27.21875 \nQ 31.109375 20.453125 19.1875 8.296875 \nz\n\" id=\"DejaVuSans-50\"/>\n       <path d=\"M 31.78125 66.40625 \nQ 24.171875 66.40625 20.328125 58.90625 \nQ 16.5 51.421875 16.5 36.375 \nQ 16.5 21.390625 20.328125 13.890625 \nQ 24.171875 6.390625 31.78125 6.390625 \nQ 39.453125 6.390625 43.28125 13.890625 \nQ 47.125 21.390625 47.125 36.375 \nQ 47.125 51.421875 43.28125 58.90625 \nQ 39.453125 66.40625 31.78125 66.40625 \nz\nM 31.78125 74.21875 \nQ 44.046875 74.21875 50.515625 64.515625 \nQ 56.984375 54.828125 56.984375 36.375 \nQ 56.984375 17.96875 50.515625 8.265625 \nQ 44.046875 -1.421875 31.78125 -1.421875 \nQ 19.53125 -1.421875 13.0625 8.265625 \nQ 6.59375 17.96875 6.59375 36.375 \nQ 6.59375 54.828125 13.0625 64.515625 \nQ 19.53125 74.21875 31.78125 74.21875 \nz\n\" id=\"DejaVuSans-48\"/>\n       <path d=\"M 12.40625 8.296875 \nL 28.515625 8.296875 \nL 28.515625 63.921875 \nL 10.984375 60.40625 \nL 10.984375 69.390625 \nL 28.421875 72.90625 \nL 38.28125 72.90625 \nL 38.28125 8.296875 \nL 54.390625 8.296875 \nL 54.390625 0 \nL 12.40625 0 \nz\n\" id=\"DejaVuSans-49\"/>\n       <path d=\"M 10.796875 72.90625 \nL 49.515625 72.90625 \nL 49.515625 64.59375 \nL 19.828125 64.59375 \nL 19.828125 46.734375 \nQ 21.96875 47.46875 24.109375 47.828125 \nQ 26.265625 48.1875 28.421875 48.1875 \nQ 40.625 48.1875 47.75 41.5 \nQ 54.890625 34.8125 54.890625 23.390625 \nQ 54.890625 11.625 47.5625 5.09375 \nQ 40.234375 -1.421875 26.90625 -1.421875 \nQ 22.3125 -1.421875 17.546875 -0.640625 \nQ 12.796875 0.140625 7.71875 1.703125 \nL 7.71875 11.625 \nQ 12.109375 9.234375 16.796875 8.0625 \nQ 21.484375 6.890625 26.703125 6.890625 \nQ 35.15625 6.890625 40.078125 11.328125 \nQ 45.015625 15.765625 45.015625 23.390625 \nQ 45.015625 31 40.078125 35.4375 \nQ 35.15625 39.890625 26.703125 39.890625 \nQ 22.75 39.890625 18.8125 39.015625 \nQ 14.890625 38.140625 10.796875 36.28125 \nz\n\" id=\"DejaVuSans-53\"/>\n      </defs>\n      <g transform=\"translate(14.2 242.830307)scale(0.1 -0.1)\">\n       <use xlink:href=\"#DejaVuSans-50\"/>\n       <use x=\"63.623047\" xlink:href=\"#DejaVuSans-48\"/>\n       <use x=\"127.246094\" xlink:href=\"#DejaVuSans-49\"/>\n       <use x=\"190.869141\" xlink:href=\"#DejaVuSans-53\"/>\n      </g>\n     </g>\n    </g>\n    <g id=\"xtick_2\">\n     <g id=\"line2d_2\">\n      <g>\n       <use style=\"stroke:#000000;stroke-width:0.8;\" x=\"84.296831\" xlink:href=\"#med3359a9bb\" y=\"228.23187\"/>\n      </g>\n     </g>\n     <g id=\"text_2\">\n      <!-- 2016 -->\n      <defs>\n       <path d=\"M 33.015625 40.375 \nQ 26.375 40.375 22.484375 35.828125 \nQ 18.609375 31.296875 18.609375 23.390625 \nQ 18.609375 15.53125 22.484375 10.953125 \nQ 26.375 6.390625 33.015625 6.390625 \nQ 39.65625 6.390625 43.53125 10.953125 \nQ 47.40625 15.53125 47.40625 23.390625 \nQ 47.40625 31.296875 43.53125 35.828125 \nQ 39.65625 40.375 33.015625 40.375 \nz\nM 52.59375 71.296875 \nL 52.59375 62.3125 \nQ 48.875 64.0625 45.09375 64.984375 \nQ 41.3125 65.921875 37.59375 65.921875 \nQ 27.828125 65.921875 22.671875 59.328125 \nQ 17.53125 52.734375 16.796875 39.40625 \nQ 19.671875 43.65625 24.015625 45.921875 \nQ 28.375 48.1875 33.59375 48.1875 \nQ 44.578125 48.1875 50.953125 41.515625 \nQ 57.328125 34.859375 57.328125 23.390625 \nQ 57.328125 12.15625 50.6875 5.359375 \nQ 44.046875 -1.421875 33.015625 -1.421875 \nQ 20.359375 -1.421875 13.671875 8.265625 \nQ 6.984375 17.96875 6.984375 36.375 \nQ 6.984375 53.65625 15.1875 63.9375 \nQ 23.390625 74.21875 37.203125 74.21875 \nQ 40.921875 74.21875 44.703125 73.484375 \nQ 48.484375 72.75 52.59375 71.296875 \nz\n\" id=\"DejaVuSans-54\"/>\n      </defs>\n      <g transform=\"translate(71.571831 242.830307)scale(0.1 -0.1)\">\n       <use xlink:href=\"#DejaVuSans-50\"/>\n       <use x=\"63.623047\" xlink:href=\"#DejaVuSans-48\"/>\n       <use x=\"127.246094\" xlink:href=\"#DejaVuSans-49\"/>\n       <use x=\"190.869141\" xlink:href=\"#DejaVuSans-54\"/>\n      </g>\n     </g>\n    </g>\n    <g id=\"xtick_3\">\n     <g id=\"line2d_3\">\n      <g>\n       <use style=\"stroke:#000000;stroke-width:0.8;\" x=\"141.825845\" xlink:href=\"#med3359a9bb\" y=\"228.23187\"/>\n      </g>\n     </g>\n     <g id=\"text_3\">\n      <!-- 2017 -->\n      <defs>\n       <path d=\"M 8.203125 72.90625 \nL 55.078125 72.90625 \nL 55.078125 68.703125 \nL 28.609375 0 \nL 18.3125 0 \nL 43.21875 64.59375 \nL 8.203125 64.59375 \nz\n\" id=\"DejaVuSans-55\"/>\n      </defs>\n      <g transform=\"translate(129.100845 242.830307)scale(0.1 -0.1)\">\n       <use xlink:href=\"#DejaVuSans-50\"/>\n       <use x=\"63.623047\" xlink:href=\"#DejaVuSans-48\"/>\n       <use x=\"127.246094\" xlink:href=\"#DejaVuSans-49\"/>\n       <use x=\"190.869141\" xlink:href=\"#DejaVuSans-55\"/>\n      </g>\n     </g>\n    </g>\n    <g id=\"xtick_4\">\n     <g id=\"line2d_4\">\n      <g>\n       <use style=\"stroke:#000000;stroke-width:0.8;\" x=\"199.197676\" xlink:href=\"#med3359a9bb\" y=\"228.23187\"/>\n      </g>\n     </g>\n     <g id=\"text_4\">\n      <!-- 2018 -->\n      <defs>\n       <path d=\"M 31.78125 34.625 \nQ 24.75 34.625 20.71875 30.859375 \nQ 16.703125 27.09375 16.703125 20.515625 \nQ 16.703125 13.921875 20.71875 10.15625 \nQ 24.75 6.390625 31.78125 6.390625 \nQ 38.8125 6.390625 42.859375 10.171875 \nQ 46.921875 13.96875 46.921875 20.515625 \nQ 46.921875 27.09375 42.890625 30.859375 \nQ 38.875 34.625 31.78125 34.625 \nz\nM 21.921875 38.8125 \nQ 15.578125 40.375 12.03125 44.71875 \nQ 8.5 49.078125 8.5 55.328125 \nQ 8.5 64.0625 14.71875 69.140625 \nQ 20.953125 74.21875 31.78125 74.21875 \nQ 42.671875 74.21875 48.875 69.140625 \nQ 55.078125 64.0625 55.078125 55.328125 \nQ 55.078125 49.078125 51.53125 44.71875 \nQ 48 40.375 41.703125 38.8125 \nQ 48.828125 37.15625 52.796875 32.3125 \nQ 56.78125 27.484375 56.78125 20.515625 \nQ 56.78125 9.90625 50.3125 4.234375 \nQ 43.84375 -1.421875 31.78125 -1.421875 \nQ 19.734375 -1.421875 13.25 4.234375 \nQ 6.78125 9.90625 6.78125 20.515625 \nQ 6.78125 27.484375 10.78125 32.3125 \nQ 14.796875 37.15625 21.921875 38.8125 \nz\nM 18.3125 54.390625 \nQ 18.3125 48.734375 21.84375 45.5625 \nQ 25.390625 42.390625 31.78125 42.390625 \nQ 38.140625 42.390625 41.71875 45.5625 \nQ 45.3125 48.734375 45.3125 54.390625 \nQ 45.3125 60.0625 41.71875 63.234375 \nQ 38.140625 66.40625 31.78125 66.40625 \nQ 25.390625 66.40625 21.84375 63.234375 \nQ 18.3125 60.0625 18.3125 54.390625 \nz\n\" id=\"DejaVuSans-56\"/>\n      </defs>\n      <g transform=\"translate(186.472676 242.830307)scale(0.1 -0.1)\">\n       <use xlink:href=\"#DejaVuSans-50\"/>\n       <use x=\"63.623047\" xlink:href=\"#DejaVuSans-48\"/>\n       <use x=\"127.246094\" xlink:href=\"#DejaVuSans-49\"/>\n       <use x=\"190.869141\" xlink:href=\"#DejaVuSans-56\"/>\n      </g>\n     </g>\n    </g>\n    <g id=\"xtick_5\">\n     <g id=\"line2d_5\">\n      <g>\n       <use style=\"stroke:#000000;stroke-width:0.8;\" x=\"256.569507\" xlink:href=\"#med3359a9bb\" y=\"228.23187\"/>\n      </g>\n     </g>\n     <g id=\"text_5\">\n      <!-- 2019 -->\n      <defs>\n       <path d=\"M 10.984375 1.515625 \nL 10.984375 10.5 \nQ 14.703125 8.734375 18.5 7.8125 \nQ 22.3125 6.890625 25.984375 6.890625 \nQ 35.75 6.890625 40.890625 13.453125 \nQ 46.046875 20.015625 46.78125 33.40625 \nQ 43.953125 29.203125 39.59375 26.953125 \nQ 35.25 24.703125 29.984375 24.703125 \nQ 19.046875 24.703125 12.671875 31.3125 \nQ 6.296875 37.9375 6.296875 49.421875 \nQ 6.296875 60.640625 12.9375 67.421875 \nQ 19.578125 74.21875 30.609375 74.21875 \nQ 43.265625 74.21875 49.921875 64.515625 \nQ 56.59375 54.828125 56.59375 36.375 \nQ 56.59375 19.140625 48.40625 8.859375 \nQ 40.234375 -1.421875 26.421875 -1.421875 \nQ 22.703125 -1.421875 18.890625 -0.6875 \nQ 15.09375 0.046875 10.984375 1.515625 \nz\nM 30.609375 32.421875 \nQ 37.25 32.421875 41.125 36.953125 \nQ 45.015625 41.5 45.015625 49.421875 \nQ 45.015625 57.28125 41.125 61.84375 \nQ 37.25 66.40625 30.609375 66.40625 \nQ 23.96875 66.40625 20.09375 61.84375 \nQ 16.21875 57.28125 16.21875 49.421875 \nQ 16.21875 41.5 20.09375 36.953125 \nQ 23.96875 32.421875 30.609375 32.421875 \nz\n\" id=\"DejaVuSans-57\"/>\n      </defs>\n      <g transform=\"translate(243.844507 242.830307)scale(0.1 -0.1)\">\n       <use xlink:href=\"#DejaVuSans-50\"/>\n       <use x=\"63.623047\" xlink:href=\"#DejaVuSans-48\"/>\n       <use x=\"127.246094\" xlink:href=\"#DejaVuSans-49\"/>\n       <use x=\"190.869141\" xlink:href=\"#DejaVuSans-57\"/>\n      </g>\n     </g>\n    </g>\n    <g id=\"xtick_6\">\n     <g id=\"line2d_6\">\n      <g>\n       <use style=\"stroke:#000000;stroke-width:0.8;\" x=\"313.941338\" xlink:href=\"#med3359a9bb\" y=\"228.23187\"/>\n      </g>\n     </g>\n     <g id=\"text_6\">\n      <!-- 2020 -->\n      <g transform=\"translate(301.216338 242.830307)scale(0.1 -0.1)\">\n       <use xlink:href=\"#DejaVuSans-50\"/>\n       <use x=\"63.623047\" xlink:href=\"#DejaVuSans-48\"/>\n       <use x=\"127.246094\" xlink:href=\"#DejaVuSans-50\"/>\n       <use x=\"190.869141\" xlink:href=\"#DejaVuSans-48\"/>\n      </g>\n     </g>\n    </g>\n    <g id=\"xtick_7\">\n     <g id=\"line2d_7\">\n      <g>\n       <use style=\"stroke:#000000;stroke-width:0.8;\" x=\"361.725\" xlink:href=\"#med3359a9bb\" y=\"228.23187\"/>\n      </g>\n     </g>\n    </g>\n    <g id=\"xtick_8\">\n     <g id=\"line2d_8\">\n      <defs>\n       <path d=\"M 0 0 \nL 0 2 \n\" id=\"ma4f943f1d1\" style=\"stroke:#000000;stroke-width:0.6;\"/>\n      </defs>\n      <g>\n       <use style=\"stroke:#000000;stroke-width:0.6;\" x=\"41.071479\" xlink:href=\"#ma4f943f1d1\" y=\"228.23187\"/>\n      </g>\n     </g>\n    </g>\n    <g id=\"xtick_9\">\n     <g id=\"line2d_9\">\n      <g>\n       <use style=\"stroke:#000000;stroke-width:0.6;\" x=\"55.375141\" xlink:href=\"#ma4f943f1d1\" y=\"228.23187\"/>\n      </g>\n     </g>\n    </g>\n    <g id=\"xtick_10\">\n     <g id=\"line2d_10\">\n      <g>\n       <use style=\"stroke:#000000;stroke-width:0.6;\" x=\"69.835986\" xlink:href=\"#ma4f943f1d1\" y=\"228.23187\"/>\n      </g>\n     </g>\n    </g>\n    <g id=\"xtick_11\">\n     <g id=\"line2d_11\">\n      <g>\n       <use style=\"stroke:#000000;stroke-width:0.6;\" x=\"98.600493\" xlink:href=\"#ma4f943f1d1\" y=\"228.23187\"/>\n      </g>\n     </g>\n    </g>\n    <g id=\"xtick_12\">\n     <g id=\"line2d_12\">\n      <g>\n       <use style=\"stroke:#000000;stroke-width:0.6;\" x=\"112.904155\" xlink:href=\"#ma4f943f1d1\" y=\"228.23187\"/>\n      </g>\n     </g>\n    </g>\n    <g id=\"xtick_13\">\n     <g id=\"line2d_13\">\n      <g>\n       <use style=\"stroke:#000000;stroke-width:0.6;\" x=\"127.365\" xlink:href=\"#ma4f943f1d1\" y=\"228.23187\"/>\n      </g>\n     </g>\n    </g>\n    <g id=\"xtick_14\">\n     <g id=\"line2d_14\">\n      <g>\n       <use style=\"stroke:#000000;stroke-width:0.6;\" x=\"155.972324\" xlink:href=\"#ma4f943f1d1\" y=\"228.23187\"/>\n      </g>\n     </g>\n    </g>\n    <g id=\"xtick_15\">\n     <g id=\"line2d_15\">\n      <g>\n       <use style=\"stroke:#000000;stroke-width:0.6;\" x=\"170.275986\" xlink:href=\"#ma4f943f1d1\" y=\"228.23187\"/>\n      </g>\n     </g>\n    </g>\n    <g id=\"xtick_16\">\n     <g id=\"line2d_16\">\n      <g>\n       <use style=\"stroke:#000000;stroke-width:0.6;\" x=\"184.736831\" xlink:href=\"#ma4f943f1d1\" y=\"228.23187\"/>\n      </g>\n     </g>\n    </g>\n    <g id=\"xtick_17\">\n     <g id=\"line2d_17\">\n      <g>\n       <use style=\"stroke:#000000;stroke-width:0.6;\" x=\"213.344155\" xlink:href=\"#ma4f943f1d1\" y=\"228.23187\"/>\n      </g>\n     </g>\n    </g>\n    <g id=\"xtick_18\">\n     <g id=\"line2d_18\">\n      <g>\n       <use style=\"stroke:#000000;stroke-width:0.6;\" x=\"227.647817\" xlink:href=\"#ma4f943f1d1\" y=\"228.23187\"/>\n      </g>\n     </g>\n    </g>\n    <g id=\"xtick_19\">\n     <g id=\"line2d_19\">\n      <g>\n       <use style=\"stroke:#000000;stroke-width:0.6;\" x=\"242.108662\" xlink:href=\"#ma4f943f1d1\" y=\"228.23187\"/>\n      </g>\n     </g>\n    </g>\n    <g id=\"xtick_20\">\n     <g id=\"line2d_20\">\n      <g>\n       <use style=\"stroke:#000000;stroke-width:0.6;\" x=\"270.715986\" xlink:href=\"#ma4f943f1d1\" y=\"228.23187\"/>\n      </g>\n     </g>\n    </g>\n    <g id=\"xtick_21\">\n     <g id=\"line2d_21\">\n      <g>\n       <use style=\"stroke:#000000;stroke-width:0.6;\" x=\"285.019648\" xlink:href=\"#ma4f943f1d1\" y=\"228.23187\"/>\n      </g>\n     </g>\n    </g>\n    <g id=\"xtick_22\">\n     <g id=\"line2d_22\">\n      <g>\n       <use style=\"stroke:#000000;stroke-width:0.6;\" x=\"299.480493\" xlink:href=\"#ma4f943f1d1\" y=\"228.23187\"/>\n      </g>\n     </g>\n    </g>\n    <g id=\"xtick_23\">\n     <g id=\"line2d_23\">\n      <g>\n       <use style=\"stroke:#000000;stroke-width:0.6;\" x=\"328.245\" xlink:href=\"#ma4f943f1d1\" y=\"228.23187\"/>\n      </g>\n     </g>\n    </g>\n    <g id=\"xtick_24\">\n     <g id=\"line2d_24\">\n      <g>\n       <use style=\"stroke:#000000;stroke-width:0.6;\" x=\"342.548662\" xlink:href=\"#ma4f943f1d1\" y=\"228.23187\"/>\n      </g>\n     </g>\n    </g>\n    <g id=\"xtick_25\">\n     <g id=\"line2d_25\">\n      <g>\n       <use style=\"stroke:#000000;stroke-width:0.6;\" x=\"357.009507\" xlink:href=\"#ma4f943f1d1\" y=\"228.23187\"/>\n      </g>\n     </g>\n    </g>\n    <g id=\"text_7\">\n     <!-- date -->\n     <defs>\n      <path d=\"M 45.40625 46.390625 \nL 45.40625 75.984375 \nL 54.390625 75.984375 \nL 54.390625 0 \nL 45.40625 0 \nL 45.40625 8.203125 \nQ 42.578125 3.328125 38.25 0.953125 \nQ 33.9375 -1.421875 27.875 -1.421875 \nQ 17.96875 -1.421875 11.734375 6.484375 \nQ 5.515625 14.40625 5.515625 27.296875 \nQ 5.515625 40.1875 11.734375 48.09375 \nQ 17.96875 56 27.875 56 \nQ 33.9375 56 38.25 53.625 \nQ 42.578125 51.265625 45.40625 46.390625 \nz\nM 14.796875 27.296875 \nQ 14.796875 17.390625 18.875 11.75 \nQ 22.953125 6.109375 30.078125 6.109375 \nQ 37.203125 6.109375 41.296875 11.75 \nQ 45.40625 17.390625 45.40625 27.296875 \nQ 45.40625 37.203125 41.296875 42.84375 \nQ 37.203125 48.484375 30.078125 48.484375 \nQ 22.953125 48.484375 18.875 42.84375 \nQ 14.796875 37.203125 14.796875 27.296875 \nz\n\" id=\"DejaVuSans-100\"/>\n      <path d=\"M 34.28125 27.484375 \nQ 23.390625 27.484375 19.1875 25 \nQ 14.984375 22.515625 14.984375 16.5 \nQ 14.984375 11.71875 18.140625 8.90625 \nQ 21.296875 6.109375 26.703125 6.109375 \nQ 34.1875 6.109375 38.703125 11.40625 \nQ 43.21875 16.703125 43.21875 25.484375 \nL 43.21875 27.484375 \nz\nM 52.203125 31.203125 \nL 52.203125 0 \nL 43.21875 0 \nL 43.21875 8.296875 \nQ 40.140625 3.328125 35.546875 0.953125 \nQ 30.953125 -1.421875 24.3125 -1.421875 \nQ 15.921875 -1.421875 10.953125 3.296875 \nQ 6 8.015625 6 15.921875 \nQ 6 25.140625 12.171875 29.828125 \nQ 18.359375 34.515625 30.609375 34.515625 \nL 43.21875 34.515625 \nL 43.21875 35.40625 \nQ 43.21875 41.609375 39.140625 45 \nQ 35.0625 48.390625 27.6875 48.390625 \nQ 23 48.390625 18.546875 47.265625 \nQ 14.109375 46.140625 10.015625 43.890625 \nL 10.015625 52.203125 \nQ 14.9375 54.109375 19.578125 55.046875 \nQ 24.21875 56 28.609375 56 \nQ 40.484375 56 46.34375 49.84375 \nQ 52.203125 43.703125 52.203125 31.203125 \nz\n\" id=\"DejaVuSans-97\"/>\n      <path d=\"M 18.3125 70.21875 \nL 18.3125 54.6875 \nL 36.8125 54.6875 \nL 36.8125 47.703125 \nL 18.3125 47.703125 \nL 18.3125 18.015625 \nQ 18.3125 11.328125 20.140625 9.421875 \nQ 21.96875 7.515625 27.59375 7.515625 \nL 36.8125 7.515625 \nL 36.8125 0 \nL 27.59375 0 \nQ 17.1875 0 13.234375 3.875 \nQ 9.28125 7.765625 9.28125 18.015625 \nL 9.28125 47.703125 \nL 2.6875 47.703125 \nL 2.6875 54.6875 \nL 9.28125 54.6875 \nL 9.28125 70.21875 \nz\n\" id=\"DejaVuSans-116\"/>\n      <path d=\"M 56.203125 29.59375 \nL 56.203125 25.203125 \nL 14.890625 25.203125 \nQ 15.484375 15.921875 20.484375 11.0625 \nQ 25.484375 6.203125 34.421875 6.203125 \nQ 39.59375 6.203125 44.453125 7.46875 \nQ 49.3125 8.734375 54.109375 11.28125 \nL 54.109375 2.78125 \nQ 49.265625 0.734375 44.1875 -0.34375 \nQ 39.109375 -1.421875 33.890625 -1.421875 \nQ 20.796875 -1.421875 13.15625 6.1875 \nQ 5.515625 13.8125 5.515625 26.8125 \nQ 5.515625 40.234375 12.765625 48.109375 \nQ 20.015625 56 32.328125 56 \nQ 43.359375 56 49.78125 48.890625 \nQ 56.203125 41.796875 56.203125 29.59375 \nz\nM 47.21875 32.234375 \nQ 47.125 39.59375 43.09375 43.984375 \nQ 39.0625 48.390625 32.421875 48.390625 \nQ 24.90625 48.390625 20.390625 44.140625 \nQ 15.875 39.890625 15.1875 32.171875 \nz\n\" id=\"DejaVuSans-101\"/>\n     </defs>\n     <g transform=\"translate(183.05 256.508432)scale(0.1 -0.1)\">\n      <use xlink:href=\"#DejaVuSans-100\"/>\n      <use x=\"63.476562\" xlink:href=\"#DejaVuSans-97\"/>\n      <use x=\"124.755859\" xlink:href=\"#DejaVuSans-116\"/>\n      <use x=\"163.964844\" xlink:href=\"#DejaVuSans-101\"/>\n     </g>\n    </g>\n   </g>\n   <g id=\"matplotlib.axis_2\">\n    <g id=\"ytick_1\">\n     <g id=\"line2d_26\">\n      <defs>\n       <path d=\"M 0 0 \nL -3.5 0 \n\" id=\"m26733d11d9\" style=\"stroke:#000000;stroke-width:0.8;\"/>\n      </defs>\n      <g>\n       <use style=\"stroke:#000000;stroke-width:0.8;\" x=\"26.925\" xlink:href=\"#m26733d11d9\" y=\"218.348233\"/>\n      </g>\n     </g>\n     <g id=\"text_8\">\n      <!-- 0 -->\n      <g transform=\"translate(13.5625 222.147452)scale(0.1 -0.1)\">\n       <use xlink:href=\"#DejaVuSans-48\"/>\n      </g>\n     </g>\n    </g>\n    <g id=\"ytick_2\">\n     <g id=\"line2d_27\">\n      <g>\n       <use style=\"stroke:#000000;stroke-width:0.8;\" x=\"26.925\" xlink:href=\"#m26733d11d9\" y=\"183.790064\"/>\n      </g>\n     </g>\n     <g id=\"text_9\">\n      <!-- 10 -->\n      <g transform=\"translate(7.2 187.589283)scale(0.1 -0.1)\">\n       <use xlink:href=\"#DejaVuSans-49\"/>\n       <use x=\"63.623047\" xlink:href=\"#DejaVuSans-48\"/>\n      </g>\n     </g>\n    </g>\n    <g id=\"ytick_3\">\n     <g id=\"line2d_28\">\n      <g>\n       <use style=\"stroke:#000000;stroke-width:0.8;\" x=\"26.925\" xlink:href=\"#m26733d11d9\" y=\"149.231895\"/>\n      </g>\n     </g>\n     <g id=\"text_10\">\n      <!-- 20 -->\n      <g transform=\"translate(7.2 153.031114)scale(0.1 -0.1)\">\n       <use xlink:href=\"#DejaVuSans-50\"/>\n       <use x=\"63.623047\" xlink:href=\"#DejaVuSans-48\"/>\n      </g>\n     </g>\n    </g>\n    <g id=\"ytick_4\">\n     <g id=\"line2d_29\">\n      <g>\n       <use style=\"stroke:#000000;stroke-width:0.8;\" x=\"26.925\" xlink:href=\"#m26733d11d9\" y=\"114.673726\"/>\n      </g>\n     </g>\n     <g id=\"text_11\">\n      <!-- 30 -->\n      <defs>\n       <path d=\"M 40.578125 39.3125 \nQ 47.65625 37.796875 51.625 33 \nQ 55.609375 28.21875 55.609375 21.1875 \nQ 55.609375 10.40625 48.1875 4.484375 \nQ 40.765625 -1.421875 27.09375 -1.421875 \nQ 22.515625 -1.421875 17.65625 -0.515625 \nQ 12.796875 0.390625 7.625 2.203125 \nL 7.625 11.71875 \nQ 11.71875 9.328125 16.59375 8.109375 \nQ 21.484375 6.890625 26.8125 6.890625 \nQ 36.078125 6.890625 40.9375 10.546875 \nQ 45.796875 14.203125 45.796875 21.1875 \nQ 45.796875 27.640625 41.28125 31.265625 \nQ 36.765625 34.90625 28.71875 34.90625 \nL 20.21875 34.90625 \nL 20.21875 43.015625 \nL 29.109375 43.015625 \nQ 36.375 43.015625 40.234375 45.921875 \nQ 44.09375 48.828125 44.09375 54.296875 \nQ 44.09375 59.90625 40.109375 62.90625 \nQ 36.140625 65.921875 28.71875 65.921875 \nQ 24.65625 65.921875 20.015625 65.03125 \nQ 15.375 64.15625 9.8125 62.3125 \nL 9.8125 71.09375 \nQ 15.4375 72.65625 20.34375 73.4375 \nQ 25.25 74.21875 29.59375 74.21875 \nQ 40.828125 74.21875 47.359375 69.109375 \nQ 53.90625 64.015625 53.90625 55.328125 \nQ 53.90625 49.265625 50.4375 45.09375 \nQ 46.96875 40.921875 40.578125 39.3125 \nz\n\" id=\"DejaVuSans-51\"/>\n      </defs>\n      <g transform=\"translate(7.2 118.472945)scale(0.1 -0.1)\">\n       <use xlink:href=\"#DejaVuSans-51\"/>\n       <use x=\"63.623047\" xlink:href=\"#DejaVuSans-48\"/>\n      </g>\n     </g>\n    </g>\n    <g id=\"ytick_5\">\n     <g id=\"line2d_30\">\n      <g>\n       <use style=\"stroke:#000000;stroke-width:0.8;\" x=\"26.925\" xlink:href=\"#m26733d11d9\" y=\"80.115557\"/>\n      </g>\n     </g>\n     <g id=\"text_12\">\n      <!-- 40 -->\n      <defs>\n       <path d=\"M 37.796875 64.3125 \nL 12.890625 25.390625 \nL 37.796875 25.390625 \nz\nM 35.203125 72.90625 \nL 47.609375 72.90625 \nL 47.609375 25.390625 \nL 58.015625 25.390625 \nL 58.015625 17.1875 \nL 47.609375 17.1875 \nL 47.609375 0 \nL 37.796875 0 \nL 37.796875 17.1875 \nL 4.890625 17.1875 \nL 4.890625 26.703125 \nz\n\" id=\"DejaVuSans-52\"/>\n      </defs>\n      <g transform=\"translate(7.2 83.914776)scale(0.1 -0.1)\">\n       <use xlink:href=\"#DejaVuSans-52\"/>\n       <use x=\"63.623047\" xlink:href=\"#DejaVuSans-48\"/>\n      </g>\n     </g>\n    </g>\n    <g id=\"ytick_6\">\n     <g id=\"line2d_31\">\n      <g>\n       <use style=\"stroke:#000000;stroke-width:0.8;\" x=\"26.925\" xlink:href=\"#m26733d11d9\" y=\"45.557388\"/>\n      </g>\n     </g>\n     <g id=\"text_13\">\n      <!-- 50 -->\n      <g transform=\"translate(7.2 49.356607)scale(0.1 -0.1)\">\n       <use xlink:href=\"#DejaVuSans-53\"/>\n       <use x=\"63.623047\" xlink:href=\"#DejaVuSans-48\"/>\n      </g>\n     </g>\n    </g>\n    <g id=\"ytick_7\">\n     <g id=\"line2d_32\">\n      <g>\n       <use style=\"stroke:#000000;stroke-width:0.8;\" x=\"26.925\" xlink:href=\"#m26733d11d9\" y=\"10.999219\"/>\n      </g>\n     </g>\n     <g id=\"text_14\">\n      <!-- 60 -->\n      <g transform=\"translate(7.2 14.798437)scale(0.1 -0.1)\">\n       <use xlink:href=\"#DejaVuSans-54\"/>\n       <use x=\"63.623047\" xlink:href=\"#DejaVuSans-48\"/>\n      </g>\n     </g>\n    </g>\n   </g>\n   <g id=\"line2d_33\">\n    <path clip-path=\"url(#p72e59ea374)\" d=\"M 26.925 218.348233 \nL 27.239366 218.348233 \nL 27.396549 202.451476 \nL 27.553732 218.348233 \nL 27.868099 218.348233 \nL 28.025282 143.702588 \nL 28.182465 212.127763 \nL 28.339648 192.775188 \nL 28.496831 218.348233 \nL 28.811197 218.348233 \nL 28.96838 156.834692 \nL 29.125563 218.348233 \nL 30.697394 218.348233 \nL 30.854577 207.980783 \nL 31.011761 216.274743 \nL 31.168944 218.348233 \nL 31.640493 218.348233 \nL 31.797676 177.569594 \nL 31.954859 209.363109 \nL 32.112042 218.348233 \nL 33.683873 218.348233 \nL 33.841056 146.467242 \nL 33.998239 216.965907 \nL 34.155423 218.348233 \nL 34.941338 218.348233 \nL 35.098521 210.745436 \nL 35.255704 218.348233 \nL 35.412887 205.907292 \nL 35.57007 218.348233 \nL 36.04162 218.348233 \nL 36.198803 161.672836 \nL 36.355986 216.965907 \nL 36.513169 218.348233 \nL 36.670352 218.348233 \nL 36.827535 215.58358 \nL 37.141901 215.58358 \nL 37.456268 218.348233 \nL 38.713732 218.348233 \nL 38.870915 210.054273 \nL 39.342465 210.054273 \nL 39.499648 218.348233 \nL 39.656831 218.348233 \nL 39.814014 208.671946 \nL 39.971197 213.51009 \nL 40.12838 213.51009 \nL 40.285563 218.348233 \nL 41.071479 218.348233 \nL 41.228662 216.965907 \nL 41.385845 218.348233 \nL 42.014577 218.348233 \nL 42.171761 196.922169 \nL 42.328944 218.348233 \nL 42.957676 218.348233 \nL 43.114859 212.127763 \nL 43.272042 194.157515 \nL 43.743592 194.157515 \nL 43.900775 192.775188 \nL 44.215141 218.348233 \nL 44.843873 218.348233 \nM 45.158239 218.348233 \nL 45.315423 212.127763 \nL 45.472606 218.348233 \nL 45.629789 217.65707 \nL 45.786972 218.348233 \nL 46.101338 218.348233 \nL 46.258521 217.65707 \nL 46.415704 213.51009 \nL 46.572887 212.818926 \nL 46.73007 209.363109 \nL 46.887254 217.65707 \nL 47.044437 218.348233 \nL 47.20162 181.716574 \nL 47.515986 217.65707 \nL 47.673169 196.922169 \nL 48.144718 218.348233 \nL 48.616268 218.348233 \nL 48.930634 194.157515 \nL 49.087817 216.965907 \nL 49.245 218.348233 \nL 49.716549 218.348233 \nL 49.873732 217.65707 \nL 50.030915 218.348233 \nL 50.502465 218.348233 \nL 50.659648 192.775188 \nL 51.131197 218.348233 \nL 51.28838 203.833802 \nL 51.445563 216.965907 \nL 51.602746 218.348233 \nL 51.75993 218.348233 \nM 52.074296 218.348233 \nL 52.231479 218.348233 \nL 52.388662 217.65707 \nL 52.545845 218.348233 \nL 52.860211 218.348233 \nL 53.017394 201.760312 \nL 53.174577 218.348233 \nL 53.331761 214.201253 \nL 53.488944 218.348233 \nL 53.80331 218.348233 \nL 53.960493 217.65707 \nL 54.117676 218.348233 \nL 55.375141 218.348233 \nL 55.532324 215.58358 \nL 55.689507 203.833802 \nL 56.003873 218.348233 \nL 56.161056 209.363109 \nL 56.318239 218.348233 \nL 56.789789 218.348233 \nL 56.946972 216.274743 \nL 57.104155 203.833802 \nL 57.261338 116.056053 \nL 57.418521 203.142639 \nL 57.575704 203.142639 \nL 57.732887 217.65707 \nL 57.89007 209.363109 \nL 58.204437 218.348233 \nL 58.518803 218.348233 \nL 58.833169 209.363109 \nL 59.147535 209.363109 \nL 59.304718 205.907292 \nL 59.619085 218.348233 \nL 60.090634 218.348233 \nL 60.247817 215.58358 \nL 60.405 217.65707 \nL 60.562183 194.848678 \nL 60.719366 218.348233 \nL 61.033732 210.745436 \nL 61.348099 218.348233 \nL 61.505282 218.348233 \nL 61.662465 216.274743 \nL 61.819648 218.348233 \nL 62.605563 218.348233 \nL 62.762746 209.363109 \nL 63.077113 218.348233 \nL 64.177394 218.348233 \nL 64.334577 213.51009 \nL 64.491761 157.525856 \nL 64.648944 207.289619 \nL 64.806127 210.054273 \nL 64.96331 218.348233 \nL 65.277676 218.348233 \nL 65.434859 200.377985 \nL 65.592042 218.348233 \nL 65.906408 218.348233 \nL 66.063592 206.598456 \nL 66.535141 218.348233 \nL 67.163873 218.348233 \nL 67.321056 160.981673 \nL 67.478239 218.348233 \nL 67.635423 212.818926 \nL 67.792606 212.818926 \nL 67.949789 218.348233 \nL 68.264155 218.348233 \nL 68.421338 203.142639 \nL 68.578521 218.348233 \nL 71.250634 218.348233 \nL 71.407817 215.58358 \nL 71.565 215.58358 \nL 71.879366 218.348233 \nL 72.036549 218.348233 \nL 72.193732 217.65707 \nL 72.350915 218.348233 \nL 72.822465 218.348233 \nL 72.979648 187.937045 \nL 73.136831 187.937045 \nL 73.294014 218.348233 \nL 73.60838 218.348233 \nL 73.765563 216.274743 \nL 73.922746 216.965907 \nL 74.07993 218.348233 \nL 74.551479 218.348233 \nL 74.708662 201.760312 \nL 74.865845 218.348233 \nL 75.023028 216.274743 \nL 75.180211 218.348233 \nL 75.494577 154.070039 \nL 75.651761 210.054273 \nL 75.808944 218.348233 \nL 76.12331 218.348233 \nL 76.280493 208.671946 \nL 76.437676 218.348233 \nL 76.594859 216.965907 \nL 76.752042 217.65707 \nL 76.909225 217.65707 \nL 77.066408 218.348233 \nL 77.537958 218.348233 \nL 77.695141 214.892416 \nL 77.852324 206.598456 \nL 78.009507 218.348233 \nL 78.638239 218.348233 \nL 78.795423 216.274743 \nL 78.952606 218.348233 \nL 79.266972 218.348233 \nL 79.424155 212.127763 \nL 79.581338 218.348233 \nL 80.367254 218.348233 \nL 80.524437 214.892416 \nL 80.68162 218.348233 \nL 80.995986 218.348233 \nL 81.153169 210.054273 \nL 81.310352 218.348233 \nL 82.410634 218.348233 \nM 82.725 218.348233 \nL 83.196549 218.348233 \nL 83.353732 119.51187 \nL 83.510915 204.524966 \nL 83.668099 218.348233 \nL 85.868662 218.348233 \nL 86.025845 214.892416 \nL 86.183028 218.348233 \nL 86.340211 218.348233 \nL 86.497394 214.892416 \nL 86.654577 218.348233 \nL 87.126127 218.348233 \nL 87.28331 213.51009 \nL 87.440493 216.965907 \nL 87.597676 214.892416 \nL 87.754859 176.87843 \nL 88.069225 216.965907 \nL 88.226408 218.348233 \nL 88.383592 218.348233 \nL 88.697958 173.422614 \nL 88.855141 214.201253 \nL 89.012324 181.025411 \nL 89.169507 218.348233 \nL 89.32669 218.348233 \nL 89.641056 208.671946 \nL 89.798239 218.348233 \nL 91.37007 218.348233 \nL 91.527254 209.363109 \nL 91.684437 210.745436 \nL 91.998803 210.745436 \nL 92.155986 218.348233 \nL 92.784718 218.348233 \nL 92.941901 216.965907 \nL 93.099085 218.348233 \nL 94.199366 218.348233 \nL 94.356549 212.818926 \nL 94.513732 218.348233 \nL 94.670915 208.671946 \nL 94.828099 217.65707 \nL 94.985282 185.172391 \nL 95.299648 185.172391 \nL 95.456831 218.348233 \nL 96.242746 218.348233 \nL 96.39993 162.363999 \nL 96.714296 218.348233 \nL 97.500211 218.348233 \nL 97.657394 216.965907 \nL 97.814577 213.51009 \nL 97.971761 218.348233 \nL 99.229225 218.348233 \nL 99.386408 174.113777 \nL 99.700775 218.348233 \nL 100.015141 218.348233 \nL 100.172324 217.65707 \nL 100.329507 218.348233 \nL 101.744155 218.348233 \nL 101.901338 145.776078 \nL 102.058521 218.348233 \nL 102.844437 218.348233 \nL 103.00162 217.65707 \nL 103.158803 188.97379 \nL 103.315986 184.481228 \nL 103.473169 216.965907 \nL 103.630352 216.274743 \nL 104.259085 216.274743 \nL 104.416268 194.848678 \nL 104.573451 215.58358 \nL 104.730634 176.187267 \nL 104.887817 216.274743 \nL 105.045 216.965907 \nL 105.202183 216.274743 \nL 105.516549 218.348233 \nL 106.145282 218.348233 \nL 106.302465 214.201253 \nL 106.459648 218.348233 \nL 106.616831 218.348233 \nL 106.774014 205.907292 \nL 106.931197 205.907292 \nL 107.08838 218.348233 \nL 107.245563 171.349123 \nL 107.55993 216.274743 \nL 107.717113 206.598456 \nL 107.874296 218.348233 \nL 108.031479 217.65707 \nL 108.188662 218.348233 \nL 108.503028 218.348233 \nL 108.660211 194.157515 \nL 109.131761 218.348233 \nL 109.288944 212.127763 \nL 109.446127 212.127763 \nL 109.60331 216.965907 \nL 109.760493 209.363109 \nL 110.074859 217.65707 \nL 110.232042 218.348233 \nL 110.546408 218.348233 \nL 110.860775 184.826809 \nL 111.017958 218.348233 \nL 111.175141 190.701698 \nL 111.64669 218.348233 \nL 111.803873 160.290509 \nL 111.961056 207.980783 \nL 112.432606 218.348233 \nL 112.589789 215.58358 \nL 112.746972 218.348233 \nL 112.904155 191.392861 \nL 113.061338 215.58358 \nL 113.218521 218.348233 \nL 113.375704 218.348233 \nL 113.532887 121.58536 \nL 113.847254 121.58536 \nL 114.004437 214.201253 \nL 114.16162 217.65707 \nL 114.318803 217.65707 \nL 114.475986 202.451476 \nL 114.633169 218.348233 \nL 114.790352 216.274743 \nL 114.947535 218.348233 \nL 115.733451 218.348233 \nL 115.890634 212.127763 \nL 116.047817 218.348233 \nL 116.205 190.010535 \nL 116.519366 214.201253 \nL 116.676549 217.65707 \nL 116.833732 199.686822 \nL 116.990915 218.348233 \nL 117.305282 218.348233 \nL 117.462465 210.745436 \nL 117.619648 210.745436 \nL 117.776831 208.671946 \nL 117.934014 163.055163 \nL 118.091197 208.671946 \nL 118.405563 218.348233 \nL 119.191479 218.348233 \nL 119.348662 189.319371 \nL 119.505845 218.348233 \nL 119.663028 210.745436 \nL 119.977394 218.348233 \nL 120.606127 218.348233 \nL 120.76331 173.422614 \nL 120.920493 211.4366 \nL 121.234859 181.025411 \nL 121.392042 218.348233 \nL 121.549225 214.201253 \nL 121.863592 217.65707 \nL 122.020775 218.348233 \nL 122.335141 218.348233 \nL 122.492324 213.51009 \nL 122.649507 218.348233 \nL 122.80669 216.965907 \nL 122.963873 217.65707 \nL 123.121056 217.65707 \nL 123.278239 218.348233 \nL 123.749789 218.348233 \nL 123.906972 216.274743 \nL 124.064155 174.80494 \nL 124.221338 209.363109 \nL 124.378521 209.363109 \nL 124.692887 142.320261 \nL 124.85007 208.671946 \nL 125.007254 165.819816 \nL 125.164437 217.65707 \nL 125.32162 215.58358 \nL 125.478803 217.65707 \nL 125.635986 217.65707 \nL 125.793169 211.4366 \nL 125.950352 212.127763 \nL 126.264718 217.65707 \nL 126.421901 193.466352 \nL 126.579085 214.201253 \nL 126.736268 164.43749 \nL 126.893451 214.201253 \nL 127.050634 210.745436 \nL 127.207817 212.127763 \nL 127.365 218.348233 \nL 127.522183 180.334247 \nL 127.679366 180.334247 \nL 127.836549 198.995659 \nL 127.993732 198.995659 \nL 128.150915 218.348233 \nL 128.622465 218.348233 \nL 128.779648 213.51009 \nL 128.936831 214.201253 \nL 129.094014 218.348233 \nL 129.251197 205.907292 \nL 129.40838 218.348233 \nL 129.722746 218.348233 \nL 129.87993 181.025411 \nL 130.037113 214.892416 \nL 130.194296 205.907292 \nL 130.351479 218.348233 \nL 130.508662 218.348233 \nL 130.665845 151.996549 \nL 130.980211 218.348233 \nL 131.294577 218.348233 \nL 131.451761 216.965907 \nL 131.608944 218.348233 \nL 131.92331 218.348233 \nL 132.080493 212.818926 \nL 132.237676 215.58358 \nL 132.394859 215.58358 \nL 132.552042 218.348233 \nL 133.180775 218.348233 \nL 133.337958 217.65707 \nL 133.495141 218.348233 \nL 133.809507 218.348233 \nL 133.96669 210.745436 \nL 134.123873 210.054273 \nL 134.281056 186.554718 \nL 134.438239 218.348233 \nL 135.381338 218.348233 \nL 135.538521 184.481228 \nL 135.695704 189.319371 \nL 135.852887 189.319371 \nL 136.01007 214.201253 \nL 136.167254 218.348233 \nL 136.324437 215.58358 \nL 136.638803 217.65707 \nL 136.795986 218.348233 \nL 137.424718 218.348233 \nL 137.581901 208.671946 \nL 137.739085 209.363109 \nL 137.896268 218.348233 \nL 138.053451 209.363109 \nL 138.210634 193.466352 \nL 138.367817 216.274743 \nL 138.525 214.201253 \nL 138.682183 218.348233 \nL 139.782465 218.348233 \nL 139.939648 206.598456 \nL 140.096831 218.348233 \nL 140.411197 218.348233 \nL 140.56838 214.546835 \nL 140.725563 218.348233 \nL 140.882746 218.348233 \nL 141.03993 211.4366 \nL 141.197113 213.51009 \nL 141.354296 218.348233 \nL 141.511479 139.555608 \nL 141.668662 218.348233 \nL 141.825845 218.348233 \nL 141.983028 215.58358 \nL 142.297394 218.348233 \nL 143.554859 218.348233 \nL 143.869225 207.289619 \nL 144.026408 218.348233 \nL 144.655141 218.348233 \nL 144.812324 140.246771 \nL 144.969507 216.274743 \nL 145.12669 218.348233 \nL 145.283873 218.348233 \nL 145.441056 215.58358 \nL 145.598239 218.348233 \nL 146.384155 218.348233 \nL 146.541338 207.980783 \nL 146.698521 218.348233 \nL 147.327254 218.348233 \nL 147.484437 85.644864 \nL 147.64162 218.348233 \nL 148.270352 218.348233 \nL 148.427535 210.745436 \nL 148.584718 218.348233 \nL 148.741901 216.965907 \nL 148.899085 218.348233 \nL 149.527817 218.348233 \nL 149.685 203.142639 \nL 149.842183 218.348233 \nL 150.156549 218.348233 \nL 150.313732 212.818926 \nL 150.470915 218.348233 \nL 151.571197 218.348233 \nL 151.72838 216.965907 \nL 151.885563 218.348233 \nL 153.300211 218.348233 \nL 153.457394 210.054273 \nL 153.614577 218.348233 \nL 154.086127 218.348233 \nL 154.400493 182.407738 \nL 154.557676 218.348233 \nL 155.186408 218.348233 \nL 155.343592 198.304495 \nL 155.500775 218.348233 \nL 155.657958 208.671946 \nL 155.815141 208.671946 \nL 155.972324 218.348233 \nL 156.129507 217.65707 \nL 156.28669 218.348233 \nL 157.072606 218.348233 \nL 157.386972 129.87932 \nL 157.701338 218.348233 \nL 158.958803 218.348233 \nL 159.115986 184.481228 \nL 159.273169 199.34124 \nL 159.430352 199.686822 \nL 159.587535 216.965907 \nL 159.744718 122.276523 \nL 160.059085 156.143529 \nL 160.216268 215.58358 \nL 160.373451 218.348233 \nL 160.687817 218.348233 \nL 160.845 208.671946 \nL 161.159366 218.348233 \nL 161.473732 218.348233 \nL 161.788099 209.363109 \nL 162.102465 218.348233 \nL 163.045563 218.348233 \nL 163.202746 216.965907 \nL 163.35993 218.348233 \nL 163.517113 214.892416 \nL 163.674296 217.65707 \nL 163.831479 218.348233 \nL 164.774577 218.348233 \nL 164.931761 190.701698 \nL 165.088944 212.818926 \nL 165.246127 207.980783 \nL 165.40331 198.995659 \nL 165.560493 214.201253 \nL 165.717676 218.348233 \nL 165.874859 214.892416 \nL 166.032042 218.348233 \nL 166.189225 218.348233 \nL 166.346408 196.231005 \nL 166.503592 218.348233 \nL 166.660775 218.348233 \nL 166.817958 210.054273 \nL 166.975141 218.348233 \nL 168.546972 218.348233 \nL 168.704155 214.892416 \nL 169.018521 218.348233 \nL 169.175704 214.201253 \nL 169.332887 217.65707 \nL 169.49007 211.4366 \nL 169.647254 218.348233 \nL 169.96162 218.348233 \nL 170.118803 198.995659 \nL 170.275986 217.65707 \nL 170.433169 218.348233 \nL 170.590352 218.348233 \nL 170.747535 205.907292 \nL 170.904718 218.348233 \nL 171.376268 218.348233 \nL 171.533451 214.892416 \nL 171.690634 218.348233 \nL 171.847817 216.965907 \nL 172.005 218.348233 \nL 172.162183 218.348233 \nL 172.319366 209.363109 \nL 172.476549 218.002652 \nL 172.633732 218.002652 \nL 172.790915 218.348233 \nL 172.948099 218.348233 \nL 173.105282 198.995659 \nL 173.262465 216.274743 \nL 173.419648 206.598456 \nL 173.576831 217.65707 \nL 173.734014 218.348233 \nL 173.891197 181.716574 \nL 174.04838 218.348233 \nL 174.205563 212.818926 \nL 174.362746 214.201253 \nL 174.51993 206.598456 \nL 174.834296 218.348233 \nL 175.463028 218.348233 \nL 175.620211 192.084025 \nL 175.777394 218.348233 \nL 175.934577 217.65707 \nL 176.091761 201.069149 \nL 176.56331 218.348233 \nL 177.034859 218.348233 \nL 177.192042 217.65707 \nL 177.349225 218.348233 \nL 177.506408 213.51009 \nL 177.663592 201.760312 \nL 177.820775 201.760312 \nL 177.977958 194.157515 \nL 178.135141 212.127763 \nL 178.292324 214.201253 \nL 178.449507 210.745436 \nL 178.60669 218.348233 \nL 178.763873 187.937045 \nL 178.921056 218.348233 \nL 179.078239 218.348233 \nM 179.392606 215.58358 \nL 179.549789 218.348233 \nL 179.706972 214.892416 \nL 179.864155 218.348233 \nL 180.021338 218.348233 \nL 180.178521 207.980783 \nL 180.335704 216.965907 \nL 180.492887 218.348233 \nL 180.65007 199.686822 \nL 180.807254 199.686822 \nL 180.964437 202.451476 \nL 181.12162 202.451476 \nL 181.435986 218.348233 \nL 181.593169 218.348233 \nL 181.907535 208.671946 \nL 182.221901 218.348233 \nL 182.379085 142.665843 \nL 182.536268 217.65707 \nL 182.693451 218.348233 \nL 183.636549 218.348233 \nL 183.793732 212.127763 \nL 183.950915 218.348233 \nL 184.265282 218.348233 \nL 184.579648 213.51009 \nL 184.736831 218.348233 \nL 185.365563 218.348233 \nL 185.522746 209.363109 \nL 185.67993 217.65707 \nL 185.837113 218.348233 \nL 185.994296 208.671946 \nL 186.151479 218.348233 \nL 186.308662 218.348233 \nL 186.465845 181.716574 \nL 186.623028 218.348233 \nL 187.72331 218.348233 \nL 187.880493 216.965907 \nL 188.037676 217.65707 \nL 188.194859 217.65707 \nL 188.352042 218.348233 \nL 188.509225 174.80494 \nL 188.666408 218.348233 \nL 188.823592 218.348233 \nL 188.980775 214.892416 \nL 189.137958 218.348233 \nL 189.452324 191.392861 \nL 189.609507 218.348233 \nL 189.76669 218.348233 \nL 189.923873 208.671946 \nL 190.081056 218.348233 \nL 191.81007 218.348233 \nL 191.967254 203.833802 \nL 192.124437 201.069149 \nL 192.28162 216.274743 \nL 192.438803 130.224902 \nL 192.595986 218.348233 \nL 193.067535 218.348233 \nL 193.224718 215.58358 \nL 193.381901 214.892416 \nL 193.539085 202.797057 \nL 193.853451 218.348233 \nL 194.325 218.348233 \nL 194.639366 97.394642 \nL 194.796549 198.304495 \nL 195.110915 218.348233 \nL 195.268099 218.348233 \nL 195.425282 112.600236 \nL 195.582465 218.348233 \nL 197.154296 218.348233 \nL 197.311479 154.070039 \nL 197.468662 218.348233 \nL 200.769507 218.348233 \nL 200.92669 212.127763 \nL 201.083873 194.848678 \nL 201.241056 163.746326 \nL 201.398239 218.348233 \nL 201.555423 216.965907 \nL 201.712606 218.348233 \nL 203.127254 218.348233 \nL 203.284437 194.157515 \nL 203.44162 218.348233 \nL 203.598803 218.348233 \nL 203.755986 73.895087 \nL 203.913169 218.348233 \nL 206.742465 218.348233 \nL 206.899648 214.201253 \nL 207.056831 218.348233 \nL 210.200493 218.348233 \nL 210.357676 208.671946 \nL 210.514859 218.348233 \nL 211.929507 218.348233 \nL 212.08669 216.274743 \nL 212.243873 166.51098 \nL 212.558239 218.348233 \nL 214.758803 218.348233 \nL 214.915986 217.65707 \nL 215.073169 218.348233 \nL 215.230352 218.348233 \nL 215.387535 213.51009 \nL 215.544718 166.51098 \nL 215.701901 212.818926 \nL 216.016268 218.348233 \nL 218.374014 218.348233 \nL 218.531197 193.466352 \nL 218.845563 218.348233 \nL 219.15993 217.311488 \nL 219.317113 218.348233 \nL 219.631479 150.614222 \nL 219.945845 205.561711 \nL 220.103028 218.348233 \nL 220.260211 218.348233 \nL 220.417394 210.745436 \nL 220.574577 218.348233 \nL 220.731761 216.274743 \nL 220.888944 205.907292 \nL 221.046127 217.65707 \nL 221.517676 196.922169 \nL 221.674859 217.65707 \nL 221.832042 218.348233 \nL 222.146408 218.348233 \nL 222.303592 214.201253 \nL 222.460775 214.201253 \nL 222.617958 218.348233 \nL 222.775141 201.069149 \nL 222.932324 218.348233 \nL 223.403873 218.348233 \nL 223.561056 211.4366 \nL 223.718239 218.348233 \nL 223.875423 218.348233 \nL 224.032606 214.892416 \nL 224.189789 204.524966 \nL 224.346972 217.65707 \nL 224.504155 218.348233 \nL 224.661338 215.58358 \nL 224.818521 217.65707 \nL 224.975704 195.539842 \nL 225.29007 210.745436 \nL 225.447254 153.378875 \nL 225.76162 216.274743 \nL 225.918803 218.348233 \nL 227.333451 218.348233 \nL 227.490634 214.201253 \nL 227.805 218.348233 \nL 229.84838 218.348233 \nL 230.005563 216.965907 \nL 230.162746 218.348233 \nL 230.31993 212.818926 \nL 230.477113 218.348233 \nL 230.634296 199.686822 \nL 230.791479 215.58358 \nL 230.948662 218.348233 \nL 231.105845 216.274743 \nL 231.263028 218.348233 \nL 231.420211 192.084025 \nL 231.577394 218.348233 \nL 231.734577 218.348233 \nL 231.891761 215.58358 \nL 232.048944 206.598456 \nL 232.36331 218.348233 \nL 232.520493 213.51009 \nL 232.677676 218.348233 \nL 232.834859 218.348233 \nL 232.992042 210.745436 \nL 233.149225 217.65707 \nL 233.306408 218.348233 \nL 233.463592 218.348233 \nL 233.777958 206.598456 \nL 233.935141 218.348233 \nL 234.092324 183.098901 \nL 234.249507 194.848678 \nL 234.40669 216.965907 \nL 234.563873 218.348233 \nL 234.878239 218.348233 \nL 235.035423 214.892416 \nL 235.192606 216.965907 \nL 235.349789 181.025411 \nL 235.506972 210.054273 \nL 235.978521 218.348233 \nL 236.45007 218.348233 \nL 236.607254 205.907292 \nL 236.764437 218.348233 \nL 237.078803 218.348233 \nL 237.235986 210.054273 \nL 237.550352 206.598456 \nL 237.707535 217.65707 \nL 237.864718 218.348233 \nL 238.021901 218.348233 \nL 238.179085 217.65707 \nL 238.336268 205.907292 \nL 238.493451 218.348233 \nL 238.650634 218.348233 \nL 238.807817 217.65707 \nL 238.965 218.348233 \nL 239.436549 218.348233 \nL 239.593732 216.274743 \nL 239.750915 209.708691 \nL 239.908099 218.348233 \nL 240.065282 218.348233 \nL 240.222465 207.980783 \nL 240.379648 216.965907 \nL 240.536831 218.348233 \nL 240.694014 218.348233 \nL 240.851197 217.65707 \nL 241.00838 218.348233 \nL 241.637113 218.348233 \nL 241.794296 212.473345 \nL 241.951479 218.348233 \nL 243.208944 218.348233 \nL 243.366127 216.965907 \nL 243.52331 206.598456 \nL 243.680493 218.348233 \nL 244.309225 218.348233 \nL 244.466408 216.274743 \nL 244.623592 200.377985 \nL 244.937958 218.348233 \nL 245.095141 183.790064 \nL 245.409507 218.348233 \nL 245.723873 218.348233 \nL 245.881056 217.65707 \nL 246.038239 218.348233 \nL 246.981338 218.348233 \nL 247.138521 216.274743 \nL 247.452887 218.348233 \nL 247.61007 207.980783 \nL 247.767254 218.348233 \nL 247.924437 215.58358 \nL 248.08162 205.216129 \nL 248.238803 218.348233 \nL 248.395986 204.524966 \nL 248.553169 218.348233 \nL 248.867535 218.348233 \nL 249.024718 193.466352 \nL 249.181901 218.348233 \nL 249.967817 218.348233 \nL 250.125 129.87932 \nL 250.282183 194.157515 \nL 250.439366 193.466352 \nL 250.596549 190.010535 \nL 250.753732 215.58358 \nL 251.068099 218.348233 \nL 251.225282 218.348233 \nL 251.382465 214.892416 \nL 251.539648 218.348233 \nL 251.696831 218.348233 \nL 251.854014 176.187267 \nL 252.011197 218.348233 \nL 253.425845 218.348233 \nL 253.583028 145.084915 \nL 253.740211 166.51098 \nL 253.897394 55.924839 \nL 254.054577 202.797057 \nL 254.368944 218.348233 \nL 254.68331 218.348233 \nL 254.840493 214.892416 \nL 254.997676 180.334247 \nL 255.154859 218.348233 \nL 255.940775 218.348233 \nL 256.097958 212.818926 \nL 256.255141 212.818926 \nL 256.412324 217.65707 \nL 256.569507 218.348233 \nL 257.041056 218.348233 \nL 257.355423 212.127763 \nL 257.512606 218.348233 \nL 257.669789 218.348233 \nL 257.826972 216.274743 \nL 257.984155 218.348233 \nL 259.24162 218.348233 \nL 259.398803 207.289619 \nL 259.555986 218.348233 \nL 261.127817 218.348233 \nL 261.285 196.922169 \nL 261.442183 218.348233 \nL 262.228099 218.348233 \nL 262.385282 179.643084 \nL 262.542465 218.348233 \nL 262.699648 201.414731 \nL 262.856831 214.892416 \nL 263.014014 218.348233 \nL 263.171197 218.348233 \nL 263.32838 207.289619 \nL 263.485563 218.348233 \nL 266.472042 218.348233 \nL 266.629225 211.4366 \nL 266.786408 213.51009 \nL 266.943592 218.348233 \nL 267.257958 218.348233 \nL 267.415141 216.965907 \nL 267.572324 218.348233 \nL 267.729507 216.965907 \nL 267.88669 218.348233 \nL 269.144155 218.348233 \nL 269.301338 201.069149 \nL 269.615704 218.348233 \nL 270.244437 218.348233 \nL 270.40162 210.745436 \nL 270.558803 211.4366 \nL 270.715986 217.65707 \nL 270.873169 218.348233 \nL 271.816268 218.348233 \nL 271.973451 210.745436 \nL 272.130634 212.127763 \nL 272.287817 218.348233 \nL 273.230915 218.348233 \nL 273.388099 216.965907 \nL 273.545282 218.348233 \nL 273.859648 218.348233 \nL 274.016831 214.892416 \nL 274.174014 218.348233 \nL 274.645563 218.348233 \nL 274.802746 204.524966 \nL 274.95993 211.4366 \nM 275.431479 218.348233 \nL 275.588662 203.833802 \nL 275.745845 217.65707 \nL 275.903028 216.965907 \nL 276.060211 210.745436 \nL 276.217394 217.65707 \nL 276.374577 218.348233 \nL 276.531761 198.995659 \nL 276.688944 216.274743 \nL 276.846127 188.628208 \nL 277.00331 184.481228 \nL 277.160493 218.002652 \nL 277.317676 218.348233 \nL 278.260775 218.348233 \nL 278.417958 216.274743 \nL 278.575141 216.965907 \nL 278.732324 218.348233 \nL 279.04669 218.348233 \nL 279.203873 210.054273 \nL 279.361056 190.701698 \nL 279.518239 186.554718 \nL 279.675423 218.348233 \nL 279.832606 214.892416 \nL 279.989789 192.084025 \nL 280.146972 210.054273 \nL 280.304155 210.745436 \nL 280.461338 217.65707 \nL 280.618521 158.217019 \nL 280.932887 218.348233 \nL 281.247254 218.348233 \nL 281.404437 218.002652 \nL 281.56162 218.348233 \nL 281.718803 202.451476 \nL 281.875986 218.348233 \nL 282.033169 218.348233 \nL 282.190352 204.524966 \nL 282.347535 210.745436 \nL 282.504718 205.907292 \nL 282.661901 218.348233 \nL 282.819085 213.51009 \nL 282.976268 217.65707 \nL 283.290634 212.127763 \nL 283.447817 203.142639 \nL 283.762183 218.348233 \nL 284.548099 218.348233 \nL 284.705282 214.201253 \nL 284.862465 193.466352 \nL 285.019648 218.348233 \nL 285.64838 218.348233 \nL 285.805563 216.965907 \nL 285.962746 218.348233 \nL 286.11993 196.922169 \nL 286.277113 218.348233 \nL 286.434296 217.65707 \nL 286.591479 191.392861 \nL 286.748662 209.363109 \nL 286.905845 207.980783 \nL 287.063028 213.51009 \nL 287.220211 200.377985 \nL 287.534577 218.348233 \nL 287.848944 213.51009 \nL 288.006127 218.348233 \nL 288.320493 218.348233 \nL 288.477676 210.054273 \nL 288.634859 190.010535 \nL 288.792042 218.348233 \nL 288.949225 218.348233 \nL 289.106408 190.701698 \nL 289.420775 218.348233 \nL 289.577958 214.892416 \nM 289.892324 218.348233 \nL 290.049507 216.274743 \nL 290.20669 217.65707 \nL 290.363873 214.201253 \nL 290.521056 217.65707 \nL 290.678239 218.348233 \nL 290.835423 216.274743 \nL 290.992606 174.80494 \nL 291.149789 210.745436 \nL 291.464155 194.848678 \nL 291.621338 168.58447 \nL 291.778521 218.348233 \nL 291.935704 216.965907 \nL 292.092887 218.348233 \nL 292.25007 216.965907 \nL 292.407254 204.524966 \nL 292.564437 218.002652 \nL 292.72162 203.142639 \nL 292.878803 216.965907 \nL 293.035986 217.65707 \nL 293.193169 212.818926 \nL 293.350352 218.348233 \nL 293.664718 214.201253 \nL 293.821901 218.348233 \nL 294.136268 218.348233 \nL 294.293451 192.775188 \nL 294.450634 218.348233 \nL 294.765 218.348233 \nL 294.922183 210.054273 \nL 295.236549 218.348233 \nL 295.393732 207.289619 \nL 295.550915 207.980783 \nL 295.708099 210.745436 \nL 296.022465 198.304495 \nL 296.336831 218.348233 \nL 296.651197 218.348233 \nL 296.80838 217.65707 \nL 296.965563 211.4366 \nL 297.122746 160.290509 \nL 297.27993 218.348233 \nL 297.751479 218.348233 \nL 297.908662 217.65707 \nL 298.065845 203.142639 \nL 298.537394 218.348233 \nL 299.952042 218.348233 \nL 300.109225 211.091018 \nL 300.266408 218.348233 \nL 300.423592 218.348233 \nL 300.737958 196.922169 \nL 300.895141 216.274743 \nL 301.052324 218.348233 \nL 301.36669 218.348233 \nL 301.523873 216.274743 \nL 301.681056 218.348233 \nL 301.838239 218.348233 \nL 301.995423 203.142639 \nL 302.152606 218.348233 \nL 302.309789 212.818926 \nL 302.624155 218.348233 \nL 303.095704 218.348233 \nL 303.252887 216.274743 \nL 303.41007 204.179384 \nL 303.88162 218.348233 \nL 304.353169 218.348233 \nL 304.510352 183.790064 \nL 304.667535 183.098901 \nL 304.824718 214.201253 \nL 304.981901 179.643084 \nL 305.139085 218.348233 \nL 305.296268 218.348233 \nL 305.453451 194.848678 \nL 305.610634 192.084025 \nL 305.767817 216.965907 \nL 305.925 218.348233 \nL 306.082183 218.348233 \nL 306.239366 213.51009 \nL 306.396549 214.892416 \nL 306.553732 218.348233 \nL 308.125563 218.348233 \nL 308.282746 212.127763 \nL 308.43993 218.348233 \nL 308.754296 218.348233 \nL 308.911479 186.554718 \nL 309.068662 218.348233 \nL 309.225845 205.907292 \nL 309.383028 218.348233 \nL 310.954859 218.348233 \nL 311.112042 217.65707 \nL 311.269225 218.348233 \nL 311.426408 218.348233 \nL 311.583592 216.274743 \nL 311.740775 218.348233 \nL 314.412887 218.348233 \nL 314.57007 197.613332 \nL 314.727254 192.775188 \nL 314.884437 213.51009 \nL 315.04162 218.348233 \nL 315.355986 218.348233 \nL 315.513169 156.143529 \nL 315.670352 218.348233 \nL 316.141901 218.348233 \nL 316.299085 143.011425 \nL 316.456268 218.348233 \nL 316.770634 218.348233 \nL 316.927817 214.892416 \nL 317.085 53.851348 \nL 317.242183 218.348233 \nL 317.399366 132.643974 \nL 317.556549 213.51009 \nL 317.713732 218.348233 \nL 318.656831 218.348233 \nL 318.814014 214.892416 \nL 318.971197 162.363999 \nL 319.12838 217.65707 \nL 319.285563 218.348233 \nL 320.071479 218.348233 \nL 320.228662 214.892416 \nL 320.385845 218.348233 \nL 320.857394 218.348233 \nL 321.014577 196.922169 \nL 321.328944 218.348233 \nL 321.486127 217.65707 \nL 321.64331 85.644864 \nL 321.800493 218.348233 \nL 321.957676 218.348233 \nL 322.114859 217.65707 \nL 322.272042 218.348233 \nL 322.429225 201.760312 \nL 322.586408 201.069149 \nL 322.743592 218.348233 \nL 323.057958 218.348233 \nL 323.215141 205.907292 \nL 323.529507 205.907292 \nL 323.68669 218.348233 \nL 323.843873 218.348233 \nL 324.001056 20.675506 \nL 324.158239 190.010535 \nL 324.315423 215.58358 \nL 324.472606 218.348233 \nL 325.258521 218.348233 \nL 325.415704 214.892416 \nL 325.572887 218.348233 \nL 326.358803 218.348233 \nL 326.515986 216.965907 \nL 326.673169 217.65707 \nL 326.830352 216.965907 \nL 326.987535 218.348233 \nL 327.459085 218.348233 \nL 327.616268 196.231005 \nL 327.930634 196.231005 \nM 328.245 218.348233 \nL 328.402183 133.335137 \nL 328.559366 161.672836 \nL 328.716549 93.938825 \nL 328.873732 218.348233 \nL 329.030915 196.231005 \nL 329.188099 213.51009 \nL 329.345282 214.201253 \nL 329.502465 218.348233 \nL 329.659648 216.965907 \nL 329.816831 207.980783 \nL 329.974014 207.980783 \nL 330.131197 218.348233 \nL 330.28838 215.58358 \nL 330.445563 218.348233 \nL 330.602746 216.965907 \nL 330.75993 218.348233 \nL 331.074296 218.348233 \nL 331.231479 205.216129 \nL 331.388662 218.348233 \nL 331.703028 218.348233 \nL 331.860211 215.58358 \nL 332.017394 218.348233 \nL 332.174577 156.143529 \nL 332.331761 216.274743 \nL 332.488944 218.348233 \nL 332.646127 203.142639 \nL 332.80331 134.026301 \nL 332.960493 194.157515 \nL 333.117676 209.363109 \nL 333.274859 211.4366 \nL 333.432042 216.965907 \nL 333.589225 218.348233 \nL 334.060775 218.348233 \nL 334.217958 192.084025 \nL 334.375141 214.892416 \nL 334.532324 218.348233 \nL 334.689507 218.348233 \nL 334.84669 208.671946 \nL 335.003873 207.980783 \nL 335.161056 218.348233 \nL 335.789789 218.348233 \nL 335.946972 160.290509 \nL 336.261338 174.80494 \nL 336.575704 203.833802 \nL 336.732887 218.348233 \nL 337.518803 218.348233 \nL 337.675986 216.274743 \nL 337.990352 179.643084 \nL 338.147535 216.274743 \nL 338.304718 218.348233 \nL 338.619085 218.348233 \nL 338.776268 216.965907 \nL 338.933451 218.348233 \nL 339.719366 218.348233 \nL 339.876549 198.304495 \nL 340.033732 216.965907 \nL 340.190915 218.348233 \nL 340.348099 216.274743 \nL 340.505282 218.348233 \nL 340.662465 218.348233 \nL 340.819648 211.4366 \nL 340.976831 217.65707 \nL 341.134014 218.348233 \nL 341.291197 208.671946 \nL 341.44838 216.965907 \nL 341.605563 218.348233 \nL 341.762746 214.201253 \nL 341.91993 218.348233 \nL 342.548662 218.348233 \nL 342.705845 214.201253 \nL 342.863028 217.65707 \nL 343.020211 187.937045 \nL 343.334577 214.201253 \nL 343.491761 212.818926 \nL 343.648944 217.65707 \nL 343.806127 218.348233 \nL 343.96331 218.348233 \nL 344.120493 216.965907 \nL 344.277676 197.613332 \nL 344.592042 218.348233 \nL 345.063592 218.348233 \nL 345.220775 216.274743 \nL 345.377958 218.348233 \nL 345.535141 214.892416 \nL 345.692324 215.58358 \nL 345.849507 218.348233 \nL 346.00669 210.054273 \nL 346.163873 218.348233 \nL 346.635423 218.348233 \nL 346.792606 216.965907 \nL 346.949789 218.348233 \nL 347.735704 218.348233 \nL 347.892887 214.201253 \nL 348.05007 218.348233 \nL 348.207254 195.539842 \nL 348.364437 218.348233 \nL 348.52162 187.937045 \nL 348.678803 216.965907 \nL 348.835986 218.348233 \nL 348.993169 218.348233 \nL 349.307535 213.51009 \nL 349.464718 215.58358 \nL 349.621901 205.216129 \nL 349.779085 216.965907 \nL 349.936268 218.348233 \nL 350.093451 216.965907 \nL 350.250634 218.348233 \nL 350.407817 198.304495 \nL 350.565 214.892416 \nL 350.722183 196.231005 \nL 350.879366 136.790954 \nL 351.193732 217.65707 \nL 351.350915 218.348233 \nL 351.508099 218.348233 \nL 351.665282 213.51009 \nL 351.822465 218.348233 \nL 352.765563 218.348233 \nL 352.922746 214.892416 \nL 353.07993 218.348233 \nL 353.865845 218.348233 \nL 354.023028 203.833802 \nL 354.180211 172.73145 \nL 354.337394 218.348233 \nL 354.808944 218.348233 \nL 354.966127 214.892416 \nL 355.12331 218.348233 \nL 355.280493 218.348233 \nL 355.437676 217.65707 \nL 355.594859 218.348233 \nL 355.752042 218.348233 \nL 356.066408 205.907292 \nL 356.223592 218.348233 \nL 356.380775 218.348233 \nL 356.537958 215.58358 \nL 356.695141 218.348233 \nL 356.852324 214.892416 \nL 357.009507 202.451476 \nL 357.16669 218.348233 \nL 357.481056 218.348233 \nL 357.638239 176.187267 \nL 357.795423 212.127763 \nL 358.109789 198.304495 \nL 358.424155 218.348233 \nL 358.738521 218.348233 \nL 358.895704 216.965907 \nL 359.052887 218.348233 \nL 359.21007 218.348233 \nL 359.367254 212.818926 \nL 359.524437 187.245881 \nL 359.68162 216.274743 \nL 359.838803 218.348233 \nL 360.467535 218.348233 \nL 360.624718 93.247661 \nL 360.781901 206.598456 \nL 360.939085 217.65707 \nL 361.096268 218.348233 \nL 361.725 218.348233 \nL 361.725 218.348233 \n\" style=\"fill:none;stroke:#1f77b4;stroke-linecap:square;stroke-width:1.5;\"/>\n   </g>\n   <g id=\"patch_3\">\n    <path d=\"M 26.925 228.23187 \nL 26.925 10.79187 \n\" style=\"fill:none;stroke:#000000;stroke-linecap:square;stroke-linejoin:miter;stroke-width:0.8;\"/>\n   </g>\n   <g id=\"patch_4\">\n    <path d=\"M 361.725 228.23187 \nL 361.725 10.79187 \n\" style=\"fill:none;stroke:#000000;stroke-linecap:square;stroke-linejoin:miter;stroke-width:0.8;\"/>\n   </g>\n   <g id=\"patch_5\">\n    <path d=\"M 26.925 228.23187 \nL 361.725 228.23187 \n\" style=\"fill:none;stroke:#000000;stroke-linecap:square;stroke-linejoin:miter;stroke-width:0.8;\"/>\n   </g>\n   <g id=\"patch_6\">\n    <path d=\"M 26.925 10.79187 \nL 361.725 10.79187 \n\" style=\"fill:none;stroke:#000000;stroke-linecap:square;stroke-linejoin:miter;stroke-width:0.8;\"/>\n   </g>\n  </g>\n </g>\n <defs>\n  <clipPath id=\"p72e59ea374\">\n   <rect height=\"217.44\" width=\"334.8\" x=\"26.925\" y=\"10.79187\"/>\n  </clipPath>\n </defs>\n</svg>\n",
            "image/png": "[encoded data removed]"
          },
          "metadata": {
            "needs_background": "light"
          }
        }
      ]
    },
    {
      "cell_type": "code",
      "execution_count": null,
      "metadata": {},
      "outputs": [],
      "source": []
    }
  ]
}