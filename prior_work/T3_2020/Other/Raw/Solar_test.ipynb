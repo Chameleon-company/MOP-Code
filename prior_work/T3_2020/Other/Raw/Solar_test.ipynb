{
  "nbformat": 4,
  "nbformat_minor": 0,
  "metadata": {
    "colab": {
      "name": "Untitled67.ipynb",
      "provenance": []
    },
    "kernelspec": {
      "name": "python3",
      "display_name": "Python 3",
      "language": "python"
    }
  },
  "cells": [
    {
      "cell_type": "code",
      "metadata": {
        "id": "Z7TDHX1wzcFk"
      },
      "source": [
        "dataset_2 = data"
      ],
      "execution_count": 122,
      "outputs": []
    },
    {
      "cell_type": "code",
      "metadata": {
        "id": "Faz_RKU-DZ2q"
      },
      "source": [
        "import pandas as pd\r\n",
        "import numpy as np"
      ],
      "execution_count": 123,
      "outputs": []
    },
    {
      "cell_type": "code",
      "metadata": {
        "id": "D92ay4TKD1MI"
      },
      "source": [
        "data = pd.read_csv('dataset_with_public_holidays.csv')"
      ],
      "execution_count": 124,
      "outputs": []
    },
    {
      "cell_type": "code",
      "metadata": {
        "id": "5iD-q3ndD7T1"
      },
      "source": [
        "train_data = data[['Date', 'monthly_index', 'Daily global solar exposure (MJ/m*m)']]"
      ],
      "execution_count": 125,
      "outputs": []
    },
    {
      "cell_type": "code",
      "metadata": {
        "colab": {
          "base_uri": "https://localhost:8080/",
          "height": 399
        },
        "id": "2RX8YYYNEHsZ",
        "outputId": "3392b222-fecb-4145-b428-0fbd05958f72"
      },
      "source": [
        "train_data"
      ],
      "execution_count": 126,
      "outputs": [
        {
          "output_type": "execute_result",
          "data": {
            "text/plain": [
              "            Date  monthly_index  Daily global solar exposure (MJ/m*m)\n",
              "0     2015-01-01              1                                  23.6\n",
              "1     2015-01-02              1                                  26.8\n",
              "2     2015-01-03              1                                  26.5\n",
              "3     2015-01-04              1                                  25.2\n",
              "4     2015-01-05              1                                  30.7\n",
              "...          ...            ...                                   ...\n",
              "2127  2020-10-27             10                                  20.1\n",
              "2128  2020-10-28             10                                  26.7\n",
              "2129  2020-10-29             10                                  17.1\n",
              "2130  2020-10-30             10                                  21.0\n",
              "2131  2020-10-31             10                                  10.0\n",
              "\n",
              "[2132 rows x 3 columns]"
            ],
            "text/html": "<div>\n<style scoped>\n    .dataframe tbody tr th:only-of-type {\n        vertical-align: middle;\n    }\n\n    .dataframe tbody tr th {\n        vertical-align: top;\n    }\n\n    .dataframe thead th {\n        text-align: right;\n    }\n</style>\n<table border=\"1\" class=\"dataframe\">\n  <thead>\n    <tr style=\"text-align: right;\">\n      <th></th>\n      <th>Date</th>\n      <th>monthly_index</th>\n      <th>Daily global solar exposure (MJ/m*m)</th>\n    </tr>\n  </thead>\n  <tbody>\n    <tr>\n      <th>0</th>\n      <td>2015-01-01</td>\n      <td>1</td>\n      <td>23.6</td>\n    </tr>\n    <tr>\n      <th>1</th>\n      <td>2015-01-02</td>\n      <td>1</td>\n      <td>26.8</td>\n    </tr>\n    <tr>\n      <th>2</th>\n      <td>2015-01-03</td>\n      <td>1</td>\n      <td>26.5</td>\n    </tr>\n    <tr>\n      <th>3</th>\n      <td>2015-01-04</td>\n      <td>1</td>\n      <td>25.2</td>\n    </tr>\n    <tr>\n      <th>4</th>\n      <td>2015-01-05</td>\n      <td>1</td>\n      <td>30.7</td>\n    </tr>\n    <tr>\n      <th>...</th>\n      <td>...</td>\n      <td>...</td>\n      <td>...</td>\n    </tr>\n    <tr>\n      <th>2127</th>\n      <td>2020-10-27</td>\n      <td>10</td>\n      <td>20.1</td>\n    </tr>\n    <tr>\n      <th>2128</th>\n      <td>2020-10-28</td>\n      <td>10</td>\n      <td>26.7</td>\n    </tr>\n    <tr>\n      <th>2129</th>\n      <td>2020-10-29</td>\n      <td>10</td>\n      <td>17.1</td>\n    </tr>\n    <tr>\n      <th>2130</th>\n      <td>2020-10-30</td>\n      <td>10</td>\n      <td>21.0</td>\n    </tr>\n    <tr>\n      <th>2131</th>\n      <td>2020-10-31</td>\n      <td>10</td>\n      <td>10.0</td>\n    </tr>\n  </tbody>\n</table>\n<p>2132 rows × 3 columns</p>\n</div>"
          },
          "metadata": {},
          "execution_count": 126
        }
      ]
    },
    {
      "cell_type": "code",
      "metadata": {
        "colab": {
          "base_uri": "https://localhost:8080/"
        },
        "id": "Ob0SLJ47EMbK",
        "outputId": "5897751c-171c-4c37-b8ad-f3e1af650b3d"
      },
      "source": [
        "train_data['Date'] = train_data['Date'].astype('datetime64[ns]')"
      ],
      "execution_count": 127,
      "outputs": []
    },
    {
      "cell_type": "code",
      "metadata": {
        "colab": {
          "base_uri": "https://localhost:8080/"
        },
        "id": "Ux0I-Ia7EYTT",
        "outputId": "9e3acd0a-8136-43d7-d998-8a5e21d937a0"
      },
      "source": [
        "train_data['Day'] = train_data.Date.dt.day\r\n",
        "train_data['Year'] = train_data.Date.dt.year\r\n",
        "train_data['day_of_year'] = train_data.Date.dt.dayofyear"
      ],
      "execution_count": 128,
      "outputs": []
    },
    {
      "cell_type": "code",
      "metadata": {
        "id": "55k5eicSFMeA"
      },
      "source": [
        "x_train = train_data[['Year', 'monthly_index', 'Day', 'day_of_year']]\n",
        "y_train = train_data[['Daily global solar exposure (MJ/m*m)']]"
      ],
      "execution_count": 129,
      "outputs": []
    },
    {
      "cell_type": "code",
      "metadata": {
        "colab": {
          "base_uri": "https://localhost:8080/",
          "height": 399
        },
        "id": "wcbFyLDMeJqw",
        "outputId": "222139a5-128f-4b72-bc77-0f3bf8a4b0fc"
      },
      "source": [
        "x_train"
      ],
      "execution_count": 130,
      "outputs": [
        {
          "output_type": "execute_result",
          "data": {
            "text/plain": [
              "      Year  monthly_index  Day  day_of_year\n",
              "0     2015              1    1            1\n",
              "1     2015              1    2            2\n",
              "2     2015              1    3            3\n",
              "3     2015              1    4            4\n",
              "4     2015              1    5            5\n",
              "...    ...            ...  ...          ...\n",
              "2127  2020             10   27          301\n",
              "2128  2020             10   28          302\n",
              "2129  2020             10   29          303\n",
              "2130  2020             10   30          304\n",
              "2131  2020             10   31          305\n",
              "\n",
              "[2132 rows x 4 columns]"
            ],
            "text/html": "<div>\n<style scoped>\n    .dataframe tbody tr th:only-of-type {\n        vertical-align: middle;\n    }\n\n    .dataframe tbody tr th {\n        vertical-align: top;\n    }\n\n    .dataframe thead th {\n        text-align: right;\n    }\n</style>\n<table border=\"1\" class=\"dataframe\">\n  <thead>\n    <tr style=\"text-align: right;\">\n      <th></th>\n      <th>Year</th>\n      <th>monthly_index</th>\n      <th>Day</th>\n      <th>day_of_year</th>\n    </tr>\n  </thead>\n  <tbody>\n    <tr>\n      <th>0</th>\n      <td>2015</td>\n      <td>1</td>\n      <td>1</td>\n      <td>1</td>\n    </tr>\n    <tr>\n      <th>1</th>\n      <td>2015</td>\n      <td>1</td>\n      <td>2</td>\n      <td>2</td>\n    </tr>\n    <tr>\n      <th>2</th>\n      <td>2015</td>\n      <td>1</td>\n      <td>3</td>\n      <td>3</td>\n    </tr>\n    <tr>\n      <th>3</th>\n      <td>2015</td>\n      <td>1</td>\n      <td>4</td>\n      <td>4</td>\n    </tr>\n    <tr>\n      <th>4</th>\n      <td>2015</td>\n      <td>1</td>\n      <td>5</td>\n      <td>5</td>\n    </tr>\n    <tr>\n      <th>...</th>\n      <td>...</td>\n      <td>...</td>\n      <td>...</td>\n      <td>...</td>\n    </tr>\n    <tr>\n      <th>2127</th>\n      <td>2020</td>\n      <td>10</td>\n      <td>27</td>\n      <td>301</td>\n    </tr>\n    <tr>\n      <th>2128</th>\n      <td>2020</td>\n      <td>10</td>\n      <td>28</td>\n      <td>302</td>\n    </tr>\n    <tr>\n      <th>2129</th>\n      <td>2020</td>\n      <td>10</td>\n      <td>29</td>\n      <td>303</td>\n    </tr>\n    <tr>\n      <th>2130</th>\n      <td>2020</td>\n      <td>10</td>\n      <td>30</td>\n      <td>304</td>\n    </tr>\n    <tr>\n      <th>2131</th>\n      <td>2020</td>\n      <td>10</td>\n      <td>31</td>\n      <td>305</td>\n    </tr>\n  </tbody>\n</table>\n<p>2132 rows × 4 columns</p>\n</div>"
          },
          "metadata": {},
          "execution_count": 130
        }
      ]
    },
    {
      "cell_type": "code",
      "metadata": {
        "colab": {
          "base_uri": "https://localhost:8080/"
        },
        "id": "u1shtrSlFja1",
        "outputId": "64a733a7-3de0-4b47-e7ea-6ee58bc4a38e"
      },
      "source": [
        "y_train['Daily global solar exposure (MJ/m*m)'] = y_train['Daily global solar exposure (MJ/m*m)'].fillna(0)"
      ],
      "execution_count": 131,
      "outputs": []
    },
    {
      "cell_type": "code",
      "metadata": {
        "id": "cjeIXbjmGV2X"
      },
      "source": [
        "rng = pd.date_range('2020-11-01', periods=92, freq='D')\n",
        "data2 = pd.DataFrame({ 'Date': rng}) \n",
        "data2"
      ],
      "execution_count": 132,
      "outputs": [
        {
          "output_type": "execute_result",
          "data": {
            "text/plain": [
              "         Date\n",
              "0  2020-11-01\n",
              "1  2020-11-02\n",
              "2  2020-11-03\n",
              "3  2020-11-04\n",
              "4  2020-11-05\n",
              "..        ...\n",
              "87 2021-01-27\n",
              "88 2021-01-28\n",
              "89 2021-01-29\n",
              "90 2021-01-30\n",
              "91 2021-01-31\n",
              "\n",
              "[92 rows x 1 columns]"
            ],
            "text/html": "<div>\n<style scoped>\n    .dataframe tbody tr th:only-of-type {\n        vertical-align: middle;\n    }\n\n    .dataframe tbody tr th {\n        vertical-align: top;\n    }\n\n    .dataframe thead th {\n        text-align: right;\n    }\n</style>\n<table border=\"1\" class=\"dataframe\">\n  <thead>\n    <tr style=\"text-align: right;\">\n      <th></th>\n      <th>Date</th>\n    </tr>\n  </thead>\n  <tbody>\n    <tr>\n      <th>0</th>\n      <td>2020-11-01</td>\n    </tr>\n    <tr>\n      <th>1</th>\n      <td>2020-11-02</td>\n    </tr>\n    <tr>\n      <th>2</th>\n      <td>2020-11-03</td>\n    </tr>\n    <tr>\n      <th>3</th>\n      <td>2020-11-04</td>\n    </tr>\n    <tr>\n      <th>4</th>\n      <td>2020-11-05</td>\n    </tr>\n    <tr>\n      <th>...</th>\n      <td>...</td>\n    </tr>\n    <tr>\n      <th>87</th>\n      <td>2021-01-27</td>\n    </tr>\n    <tr>\n      <th>88</th>\n      <td>2021-01-28</td>\n    </tr>\n    <tr>\n      <th>89</th>\n      <td>2021-01-29</td>\n    </tr>\n    <tr>\n      <th>90</th>\n      <td>2021-01-30</td>\n    </tr>\n    <tr>\n      <th>91</th>\n      <td>2021-01-31</td>\n    </tr>\n  </tbody>\n</table>\n<p>92 rows × 1 columns</p>\n</div>"
          },
          "metadata": {},
          "execution_count": 132
        }
      ]
    },
    {
      "cell_type": "code",
      "metadata": {
        "id": "lPZD3ElOHyFp"
      },
      "source": [
        "data2['Date'] = data2['Date'].astype('datetime64[ns]')"
      ],
      "execution_count": 133,
      "outputs": []
    },
    {
      "cell_type": "code",
      "metadata": {
        "id": "BXnh8GP9IEI2"
      },
      "source": [
        "test_data = data2.copy()\n",
        "test_data['Day'] = data2.Date.dt.day\n",
        "test_data['Year'] = data2.Date.dt.year\n",
        "test_data['day_of_year'] = data2.Date.dt.dayofyear\n",
        "test_data['monthly_index'] = data2.Date.dt.month\n",
        "data2\n"
      ],
      "execution_count": 134,
      "outputs": [
        {
          "output_type": "execute_result",
          "data": {
            "text/plain": [
              "         Date\n",
              "0  2020-11-01\n",
              "1  2020-11-02\n",
              "2  2020-11-03\n",
              "3  2020-11-04\n",
              "4  2020-11-05\n",
              "..        ...\n",
              "87 2021-01-27\n",
              "88 2021-01-28\n",
              "89 2021-01-29\n",
              "90 2021-01-30\n",
              "91 2021-01-31\n",
              "\n",
              "[92 rows x 1 columns]"
            ],
            "text/html": "<div>\n<style scoped>\n    .dataframe tbody tr th:only-of-type {\n        vertical-align: middle;\n    }\n\n    .dataframe tbody tr th {\n        vertical-align: top;\n    }\n\n    .dataframe thead th {\n        text-align: right;\n    }\n</style>\n<table border=\"1\" class=\"dataframe\">\n  <thead>\n    <tr style=\"text-align: right;\">\n      <th></th>\n      <th>Date</th>\n    </tr>\n  </thead>\n  <tbody>\n    <tr>\n      <th>0</th>\n      <td>2020-11-01</td>\n    </tr>\n    <tr>\n      <th>1</th>\n      <td>2020-11-02</td>\n    </tr>\n    <tr>\n      <th>2</th>\n      <td>2020-11-03</td>\n    </tr>\n    <tr>\n      <th>3</th>\n      <td>2020-11-04</td>\n    </tr>\n    <tr>\n      <th>4</th>\n      <td>2020-11-05</td>\n    </tr>\n    <tr>\n      <th>...</th>\n      <td>...</td>\n    </tr>\n    <tr>\n      <th>87</th>\n      <td>2021-01-27</td>\n    </tr>\n    <tr>\n      <th>88</th>\n      <td>2021-01-28</td>\n    </tr>\n    <tr>\n      <th>89</th>\n      <td>2021-01-29</td>\n    </tr>\n    <tr>\n      <th>90</th>\n      <td>2021-01-30</td>\n    </tr>\n    <tr>\n      <th>91</th>\n      <td>2021-01-31</td>\n    </tr>\n  </tbody>\n</table>\n<p>92 rows × 1 columns</p>\n</div>"
          },
          "metadata": {},
          "execution_count": 134
        }
      ]
    },
    {
      "cell_type": "code",
      "metadata": {
        "id": "LKMh8DDzIfBr"
      },
      "source": [
        "test_data.drop(columns=['Date'], inplace = True)"
      ],
      "execution_count": 135,
      "outputs": []
    },
    {
      "cell_type": "code",
      "metadata": {
        "id": "9umkh5Muql-n"
      },
      "source": [
        "test_data = test_data[['Year', 'monthly_index', 'Day', 'day_of_year']]\n",
        "test_data"
      ],
      "execution_count": 136,
      "outputs": [
        {
          "output_type": "execute_result",
          "data": {
            "text/plain": [
              "    Year  monthly_index  Day  day_of_year\n",
              "0   2020             11    1          306\n",
              "1   2020             11    2          307\n",
              "2   2020             11    3          308\n",
              "3   2020             11    4          309\n",
              "4   2020             11    5          310\n",
              "..   ...            ...  ...          ...\n",
              "87  2021              1   27           27\n",
              "88  2021              1   28           28\n",
              "89  2021              1   29           29\n",
              "90  2021              1   30           30\n",
              "91  2021              1   31           31\n",
              "\n",
              "[92 rows x 4 columns]"
            ],
            "text/html": "<div>\n<style scoped>\n    .dataframe tbody tr th:only-of-type {\n        vertical-align: middle;\n    }\n\n    .dataframe tbody tr th {\n        vertical-align: top;\n    }\n\n    .dataframe thead th {\n        text-align: right;\n    }\n</style>\n<table border=\"1\" class=\"dataframe\">\n  <thead>\n    <tr style=\"text-align: right;\">\n      <th></th>\n      <th>Year</th>\n      <th>monthly_index</th>\n      <th>Day</th>\n      <th>day_of_year</th>\n    </tr>\n  </thead>\n  <tbody>\n    <tr>\n      <th>0</th>\n      <td>2020</td>\n      <td>11</td>\n      <td>1</td>\n      <td>306</td>\n    </tr>\n    <tr>\n      <th>1</th>\n      <td>2020</td>\n      <td>11</td>\n      <td>2</td>\n      <td>307</td>\n    </tr>\n    <tr>\n      <th>2</th>\n      <td>2020</td>\n      <td>11</td>\n      <td>3</td>\n      <td>308</td>\n    </tr>\n    <tr>\n      <th>3</th>\n      <td>2020</td>\n      <td>11</td>\n      <td>4</td>\n      <td>309</td>\n    </tr>\n    <tr>\n      <th>4</th>\n      <td>2020</td>\n      <td>11</td>\n      <td>5</td>\n      <td>310</td>\n    </tr>\n    <tr>\n      <th>...</th>\n      <td>...</td>\n      <td>...</td>\n      <td>...</td>\n      <td>...</td>\n    </tr>\n    <tr>\n      <th>87</th>\n      <td>2021</td>\n      <td>1</td>\n      <td>27</td>\n      <td>27</td>\n    </tr>\n    <tr>\n      <th>88</th>\n      <td>2021</td>\n      <td>1</td>\n      <td>28</td>\n      <td>28</td>\n    </tr>\n    <tr>\n      <th>89</th>\n      <td>2021</td>\n      <td>1</td>\n      <td>29</td>\n      <td>29</td>\n    </tr>\n    <tr>\n      <th>90</th>\n      <td>2021</td>\n      <td>1</td>\n      <td>30</td>\n      <td>30</td>\n    </tr>\n    <tr>\n      <th>91</th>\n      <td>2021</td>\n      <td>1</td>\n      <td>31</td>\n      <td>31</td>\n    </tr>\n  </tbody>\n</table>\n<p>92 rows × 4 columns</p>\n</div>"
          },
          "metadata": {},
          "execution_count": 136
        }
      ]
    },
    {
      "cell_type": "code",
      "metadata": {
        "id": "PiQypha6q29F"
      },
      "source": [
        "from sklearn.preprocessing import StandardScaler, MinMaxScaler\r\n",
        "sc = StandardScaler()\r\n",
        "min = MinMaxScaler()"
      ],
      "execution_count": 137,
      "outputs": []
    },
    {
      "cell_type": "code",
      "metadata": {
        "id": "bJuExQdtrJb8"
      },
      "source": [
        "train_data = sc.fit_transform(x_train)\r\n",
        "test_data = sc.fit_transform(test_data)"
      ],
      "execution_count": 138,
      "outputs": []
    },
    {
      "cell_type": "code",
      "metadata": {
        "id": "nUbhQD3VspnV"
      },
      "source": [
        "train_data = min.fit_transform(train_data)\r\n",
        "test_data = min.fit_transform(test_data)"
      ],
      "execution_count": 139,
      "outputs": []
    },
    {
      "cell_type": "code",
      "metadata": {
        "colab": {
          "base_uri": "https://localhost:8080/"
        },
        "id": "z6il_iYEsCIP",
        "outputId": "2c6320a2-fcb2-48ff-d7c1-0cf8caedab4f"
      },
      "source": [
        "test_data"
      ],
      "execution_count": 140,
      "outputs": [
        {
          "output_type": "execute_result",
          "data": {
            "text/plain": [
              "array([[0.        , 0.90909091, 0.        , 0.83561644],\n",
              "       [0.        , 0.90909091, 0.03333333, 0.83835616],\n",
              "       [0.        , 0.90909091, 0.06666667, 0.84109589],\n",
              "       [0.        , 0.90909091, 0.1       , 0.84383562],\n",
              "       [0.        , 0.90909091, 0.13333333, 0.84657534],\n",
              "       [0.        , 0.90909091, 0.16666667, 0.84931507],\n",
              "       [0.        , 0.90909091, 0.2       , 0.85205479],\n",
              "       [0.        , 0.90909091, 0.23333333, 0.85479452],\n",
              "       [0.        , 0.90909091, 0.26666667, 0.85753425],\n",
              "       [0.        , 0.90909091, 0.3       , 0.86027397],\n",
              "       [0.        , 0.90909091, 0.33333333, 0.8630137 ],\n",
              "       [0.        , 0.90909091, 0.36666667, 0.86575342],\n",
              "       [0.        , 0.90909091, 0.4       , 0.86849315],\n",
              "       [0.        , 0.90909091, 0.43333333, 0.87123288],\n",
              "       [0.        , 0.90909091, 0.46666667, 0.8739726 ],\n",
              "       [0.        , 0.90909091, 0.5       , 0.87671233],\n",
              "       [0.        , 0.90909091, 0.53333333, 0.87945205],\n",
              "       [0.        , 0.90909091, 0.56666667, 0.88219178],\n",
              "       [0.        , 0.90909091, 0.6       , 0.88493151],\n",
              "       [0.        , 0.90909091, 0.63333333, 0.88767123],\n",
              "       [0.        , 0.90909091, 0.66666667, 0.89041096],\n",
              "       [0.        , 0.90909091, 0.7       , 0.89315068],\n",
              "       [0.        , 0.90909091, 0.73333333, 0.89589041],\n",
              "       [0.        , 0.90909091, 0.76666667, 0.89863014],\n",
              "       [0.        , 0.90909091, 0.8       , 0.90136986],\n",
              "       [0.        , 0.90909091, 0.83333333, 0.90410959],\n",
              "       [0.        , 0.90909091, 0.86666667, 0.90684932],\n",
              "       [0.        , 0.90909091, 0.9       , 0.90958904],\n",
              "       [0.        , 0.90909091, 0.93333333, 0.91232877],\n",
              "       [0.        , 0.90909091, 0.96666667, 0.91506849],\n",
              "       [0.        , 1.        , 0.        , 0.91780822],\n",
              "       [0.        , 1.        , 0.03333333, 0.92054795],\n",
              "       [0.        , 1.        , 0.06666667, 0.92328767],\n",
              "       [0.        , 1.        , 0.1       , 0.9260274 ],\n",
              "       [0.        , 1.        , 0.13333333, 0.92876712],\n",
              "       [0.        , 1.        , 0.16666667, 0.93150685],\n",
              "       [0.        , 1.        , 0.2       , 0.93424658],\n",
              "       [0.        , 1.        , 0.23333333, 0.9369863 ],\n",
              "       [0.        , 1.        , 0.26666667, 0.93972603],\n",
              "       [0.        , 1.        , 0.3       , 0.94246575],\n",
              "       [0.        , 1.        , 0.33333333, 0.94520548],\n",
              "       [0.        , 1.        , 0.36666667, 0.94794521],\n",
              "       [0.        , 1.        , 0.4       , 0.95068493],\n",
              "       [0.        , 1.        , 0.43333333, 0.95342466],\n",
              "       [0.        , 1.        , 0.46666667, 0.95616438],\n",
              "       [0.        , 1.        , 0.5       , 0.95890411],\n",
              "       [0.        , 1.        , 0.53333333, 0.96164384],\n",
              "       [0.        , 1.        , 0.56666667, 0.96438356],\n",
              "       [0.        , 1.        , 0.6       , 0.96712329],\n",
              "       [0.        , 1.        , 0.63333333, 0.96986301],\n",
              "       [0.        , 1.        , 0.66666667, 0.97260274],\n",
              "       [0.        , 1.        , 0.7       , 0.97534247],\n",
              "       [0.        , 1.        , 0.73333333, 0.97808219],\n",
              "       [0.        , 1.        , 0.76666667, 0.98082192],\n",
              "       [0.        , 1.        , 0.8       , 0.98356164],\n",
              "       [0.        , 1.        , 0.83333333, 0.98630137],\n",
              "       [0.        , 1.        , 0.86666667, 0.9890411 ],\n",
              "       [0.        , 1.        , 0.9       , 0.99178082],\n",
              "       [0.        , 1.        , 0.93333333, 0.99452055],\n",
              "       [0.        , 1.        , 0.96666667, 0.99726027],\n",
              "       [0.        , 1.        , 1.        , 1.        ],\n",
              "       [1.        , 0.        , 0.        , 0.        ],\n",
              "       [1.        , 0.        , 0.03333333, 0.00273973],\n",
              "       [1.        , 0.        , 0.06666667, 0.00547945],\n",
              "       [1.        , 0.        , 0.1       , 0.00821918],\n",
              "       [1.        , 0.        , 0.13333333, 0.0109589 ],\n",
              "       [1.        , 0.        , 0.16666667, 0.01369863],\n",
              "       [1.        , 0.        , 0.2       , 0.01643836],\n",
              "       [1.        , 0.        , 0.23333333, 0.01917808],\n",
              "       [1.        , 0.        , 0.26666667, 0.02191781],\n",
              "       [1.        , 0.        , 0.3       , 0.02465753],\n",
              "       [1.        , 0.        , 0.33333333, 0.02739726],\n",
              "       [1.        , 0.        , 0.36666667, 0.03013699],\n",
              "       [1.        , 0.        , 0.4       , 0.03287671],\n",
              "       [1.        , 0.        , 0.43333333, 0.03561644],\n",
              "       [1.        , 0.        , 0.46666667, 0.03835616],\n",
              "       [1.        , 0.        , 0.5       , 0.04109589],\n",
              "       [1.        , 0.        , 0.53333333, 0.04383562],\n",
              "       [1.        , 0.        , 0.56666667, 0.04657534],\n",
              "       [1.        , 0.        , 0.6       , 0.04931507],\n",
              "       [1.        , 0.        , 0.63333333, 0.05205479],\n",
              "       [1.        , 0.        , 0.66666667, 0.05479452],\n",
              "       [1.        , 0.        , 0.7       , 0.05753425],\n",
              "       [1.        , 0.        , 0.73333333, 0.06027397],\n",
              "       [1.        , 0.        , 0.76666667, 0.0630137 ],\n",
              "       [1.        , 0.        , 0.8       , 0.06575342],\n",
              "       [1.        , 0.        , 0.83333333, 0.06849315],\n",
              "       [1.        , 0.        , 0.86666667, 0.07123288],\n",
              "       [1.        , 0.        , 0.9       , 0.0739726 ],\n",
              "       [1.        , 0.        , 0.93333333, 0.07671233],\n",
              "       [1.        , 0.        , 0.96666667, 0.07945205],\n",
              "       [1.        , 0.        , 1.        , 0.08219178]])"
            ]
          },
          "metadata": {},
          "execution_count": 140
        }
      ]
    },
    {
      "cell_type": "code",
      "metadata": {
        "id": "p88CPoGzIh2I"
      },
      "source": [
        "from sklearn.neighbors import KNeighborsRegressor\r\n",
        "from sklearn.tree import DecisionTreeRegressor\r\n",
        "from sklearn.ensemble import RandomForestRegressor\r\n",
        "from sklearn.neural_network import MLPRegressor\r\n",
        "from sklearn.model_selection import cross_val_score\r\n",
        "from sklearn.model_selection import GridSearchCV"
      ],
      "execution_count": 141,
      "outputs": []
    },
    {
      "cell_type": "code",
      "metadata": {
        "id": "4G7QyxbTI1xT"
      },
      "source": [
        "mlp_reg = MLPRegressor()\r\n",
        "dct = DecisionTreeRegressor(max_depth=None)\r\n",
        "knn = KNeighborsRegressor(n_neighbors=3)\r\n",
        "rf = RandomForestRegressor()"
      ],
      "execution_count": 142,
      "outputs": []
    },
    {
      "cell_type": "code",
      "metadata": {
        "colab": {
          "base_uri": "https://localhost:8080/"
        },
        "id": "DiFYClmJI-Cg",
        "outputId": "95159761-dacc-4607-f193-3f1ca53c94ec"
      },
      "source": [
        "mlp_reg.fit(train_data, y_train)\r\n",
        "dct.fit(train_data, y_train)\r\n",
        "knn.fit(train_data, y_train)\r\n",
        "rf.fit(train_data, y_train)"
      ],
      "execution_count": 143,
      "outputs": [
        {
          "output_type": "execute_result",
          "data": {
            "text/plain": [
              "RandomForestRegressor()"
            ]
          },
          "metadata": {},
          "execution_count": 143
        }
      ]
    },
    {
      "cell_type": "code",
      "metadata": {
        "id": "FraTlj-MvyOo"
      },
      "source": [
        "scores = cross_val_score(dct, train_data, y_train, scoring='neg_mean_squared_error', cv=5)"
      ],
      "execution_count": 144,
      "outputs": []
    },
    {
      "cell_type": "code",
      "metadata": {
        "colab": {
          "base_uri": "https://localhost:8080/"
        },
        "id": "8vYNk-9Av-8u",
        "outputId": "98c2a5eb-6677-487f-9d4a-061d6885554c"
      },
      "source": [
        "scores"
      ],
      "execution_count": 145,
      "outputs": [
        {
          "output_type": "execute_result",
          "data": {
            "text/plain": [
              "array([-60.7265808 , -52.23250585, -50.08830986, -44.25215962,\n",
              "       -53.45507042])"
            ]
          },
          "metadata": {},
          "execution_count": 145
        }
      ]
    },
    {
      "cell_type": "code",
      "metadata": {
        "colab": {
          "base_uri": "https://localhost:8080/"
        },
        "id": "ZF5nY413JEQE",
        "outputId": "efa0fb21-b1c1-475d-c99b-eba14d60a904"
      },
      "source": [
        "mlp_reg.predict(test_data)"
      ],
      "execution_count": 146,
      "outputs": [
        {
          "output_type": "execute_result",
          "data": {
            "text/plain": [
              "array([18.5323971 , 18.56392628, 18.59545546, 18.62235556, 18.64756875,\n",
              "       18.67278193, 18.69799512, 18.7232083 , 18.74842149, 18.77363467,\n",
              "       18.79884786, 18.82406105, 18.84927423, 18.87448742, 18.8997006 ,\n",
              "       18.92491379, 18.95012697, 18.97534016, 19.00055334, 19.02576653,\n",
              "       19.05097971, 19.0761929 , 19.10140609, 19.12661927, 19.15183246,\n",
              "       19.17704564, 19.20225883, 19.22747201, 19.2526852 , 19.27789838,\n",
              "       19.95240625, 19.98393543, 20.01546461, 20.04699378, 20.07715529,\n",
              "       20.10236847, 20.12758166, 20.15279484, 20.17800803, 20.20322121,\n",
              "       20.2284344 , 20.25364758, 20.27886077, 20.30407396, 20.32928714,\n",
              "       20.35450033, 20.37971351, 20.4049267 , 20.43013988, 20.45535307,\n",
              "       20.48056625, 20.50577944, 20.53099262, 20.55620581, 20.581419  ,\n",
              "       20.60663218, 20.63184537, 20.65705855, 20.68227174, 20.70748492,\n",
              "       20.73268485, 22.37122984, 22.30088267, 22.23106023, 22.1612378 ,\n",
              "       22.09318855, 22.02578667, 21.95838479, 21.89098291, 21.82461487,\n",
              "       21.75976401, 21.69585769, 21.63332931, 21.57117135, 21.51129479,\n",
              "       21.45141823, 21.39154167, 21.33203826, 21.27277785, 21.21351743,\n",
              "       21.15425702, 21.0949966 , 21.03573619, 20.97647577, 20.91721536,\n",
              "       20.85795494, 20.79869453, 20.73943411, 20.6801737 , 20.62091328,\n",
              "       20.56165287, 20.50239245])"
            ]
          },
          "metadata": {},
          "execution_count": 146
        }
      ]
    },
    {
      "cell_type": "code",
      "metadata": {
        "id": "jB2XKjWFKhL0",
        "colab": {
          "base_uri": "https://localhost:8080/"
        },
        "outputId": "bf8573e7-5c22-448d-f1f0-677330e246d8"
      },
      "source": [
        "dct.predict(test_data)"
      ],
      "execution_count": 147,
      "outputs": [
        {
          "output_type": "execute_result",
          "data": {
            "text/plain": [
              "array([10. ,  8.2, 19.6, 19.6,  3.7, 25.2, 25.1, 26.4, 26.4,  5.3, 19.2,\n",
              "       19.2, 27.5, 27.6, 27.6, 25.8, 28.8, 20.6, 29.9, 22.1, 19.8, 27.3,\n",
              "       30. , 30. ,  9.3, 23.3, 16.8, 24.4, 31. ,  9.6, 24.4, 32.4, 31.2,\n",
              "       32.2, 13.5, 13.5, 30.8, 11.6, 23.2, 13. , 13. , 28.6, 31.6, 31.6,\n",
              "       30.8, 33.1, 33.1, 31.2, 29.3, 25.4, 32.9, 32.9, 32.4, 33.3, 33.3,\n",
              "       27.6, 33.2, 33.2, 33. , 28.8, 29.6, 31.6, 31.6, 30.7, 22.8,  5.1,\n",
              "        2.7,  7.7, 26.9, 29.8, 10.1, 18.2, 21.9, 28.1, 27.4, 20.8, 18.6,\n",
              "       24.4, 27.2, 23.9,  8.8, 28.4, 12.4, 13.4, 20.6, 30. , 24. , 26.1,\n",
              "       26.5, 29.5, 29.3, 18.3])"
            ]
          },
          "metadata": {},
          "execution_count": 147
        }
      ]
    },
    {
      "cell_type": "code",
      "metadata": {
        "id": "SYAlTi3BzhtH"
      },
      "source": [
        "param_grid = {\"criterion\": [\"mse\",'friedman_mse'],\r\n",
        "              \"min_samples_split\": [2,3],\r\n",
        "              \"max_depth\": [100,200,None]\r\n",
        "              }"
      ],
      "execution_count": 148,
      "outputs": []
    },
    {
      "cell_type": "code",
      "metadata": {
        "id": "poyomlEIzmx4"
      },
      "source": [
        "grid_cv_dtm = GridSearchCV(dct, param_grid, cv=5, scoring = 'neg_mean_absolute_error')"
      ],
      "execution_count": 149,
      "outputs": []
    },
    {
      "cell_type": "code",
      "metadata": {
        "colab": {
          "base_uri": "https://localhost:8080/"
        },
        "id": "OKoDUAtnzpin",
        "outputId": "f4c4ee16-4e37-4312-ad15-97d2e3c43939"
      },
      "source": [
        "grid_cv_dtm.fit(train_data, y_train)"
      ],
      "execution_count": 150,
      "outputs": [
        {
          "output_type": "execute_result",
          "data": {
            "text/plain": [
              "GridSearchCV(cv=5, estimator=DecisionTreeRegressor(),\n",
              "             param_grid={'criterion': ['mse', 'friedman_mse'],\n",
              "                         'max_depth': [100, 200, None],\n",
              "                         'min_samples_split': [2, 3]},\n",
              "             scoring='neg_mean_absolute_error')"
            ]
          },
          "metadata": {},
          "execution_count": 150
        }
      ]
    },
    {
      "cell_type": "code",
      "metadata": {
        "colab": {
          "base_uri": "https://localhost:8080/"
        },
        "id": "eDy9q8mg0Yof",
        "outputId": "9d9f8c60-6589-4881-f795-e59d36729d24"
      },
      "source": [
        "grid_cv_dtm.best_score_"
      ],
      "execution_count": 151,
      "outputs": [
        {
          "output_type": "execute_result",
          "data": {
            "text/plain": [
              "-4.8719769436289875"
            ]
          },
          "metadata": {},
          "execution_count": 151
        }
      ]
    },
    {
      "cell_type": "code",
      "metadata": {
        "colab": {
          "base_uri": "https://localhost:8080/"
        },
        "id": "M48uVxbu0M9O",
        "outputId": "1dd01fc5-2e36-441a-9a7e-6ca0cd8f282e"
      },
      "source": [
        "predict = grid_cv_dtm.predict(test_data)"
      ],
      "execution_count": 152,
      "outputs": []
    },
    {
      "cell_type": "code",
      "execution_count": 153,
      "metadata": {},
      "outputs": [
        {
          "output_type": "execute_result",
          "data": {
            "text/plain": [
              "array([[0.        , 0.90909091, 0.        , 0.83561644],\n",
              "       [0.        , 0.90909091, 0.03333333, 0.83835616],\n",
              "       [0.        , 0.90909091, 0.06666667, 0.84109589],\n",
              "       [0.        , 0.90909091, 0.1       , 0.84383562],\n",
              "       [0.        , 0.90909091, 0.13333333, 0.84657534],\n",
              "       [0.        , 0.90909091, 0.16666667, 0.84931507],\n",
              "       [0.        , 0.90909091, 0.2       , 0.85205479],\n",
              "       [0.        , 0.90909091, 0.23333333, 0.85479452],\n",
              "       [0.        , 0.90909091, 0.26666667, 0.85753425],\n",
              "       [0.        , 0.90909091, 0.3       , 0.86027397],\n",
              "       [0.        , 0.90909091, 0.33333333, 0.8630137 ],\n",
              "       [0.        , 0.90909091, 0.36666667, 0.86575342],\n",
              "       [0.        , 0.90909091, 0.4       , 0.86849315],\n",
              "       [0.        , 0.90909091, 0.43333333, 0.87123288],\n",
              "       [0.        , 0.90909091, 0.46666667, 0.8739726 ],\n",
              "       [0.        , 0.90909091, 0.5       , 0.87671233],\n",
              "       [0.        , 0.90909091, 0.53333333, 0.87945205],\n",
              "       [0.        , 0.90909091, 0.56666667, 0.88219178],\n",
              "       [0.        , 0.90909091, 0.6       , 0.88493151],\n",
              "       [0.        , 0.90909091, 0.63333333, 0.88767123],\n",
              "       [0.        , 0.90909091, 0.66666667, 0.89041096],\n",
              "       [0.        , 0.90909091, 0.7       , 0.89315068],\n",
              "       [0.        , 0.90909091, 0.73333333, 0.89589041],\n",
              "       [0.        , 0.90909091, 0.76666667, 0.89863014],\n",
              "       [0.        , 0.90909091, 0.8       , 0.90136986],\n",
              "       [0.        , 0.90909091, 0.83333333, 0.90410959],\n",
              "       [0.        , 0.90909091, 0.86666667, 0.90684932],\n",
              "       [0.        , 0.90909091, 0.9       , 0.90958904],\n",
              "       [0.        , 0.90909091, 0.93333333, 0.91232877],\n",
              "       [0.        , 0.90909091, 0.96666667, 0.91506849],\n",
              "       [0.        , 1.        , 0.        , 0.91780822],\n",
              "       [0.        , 1.        , 0.03333333, 0.92054795],\n",
              "       [0.        , 1.        , 0.06666667, 0.92328767],\n",
              "       [0.        , 1.        , 0.1       , 0.9260274 ],\n",
              "       [0.        , 1.        , 0.13333333, 0.92876712],\n",
              "       [0.        , 1.        , 0.16666667, 0.93150685],\n",
              "       [0.        , 1.        , 0.2       , 0.93424658],\n",
              "       [0.        , 1.        , 0.23333333, 0.9369863 ],\n",
              "       [0.        , 1.        , 0.26666667, 0.93972603],\n",
              "       [0.        , 1.        , 0.3       , 0.94246575],\n",
              "       [0.        , 1.        , 0.33333333, 0.94520548],\n",
              "       [0.        , 1.        , 0.36666667, 0.94794521],\n",
              "       [0.        , 1.        , 0.4       , 0.95068493],\n",
              "       [0.        , 1.        , 0.43333333, 0.95342466],\n",
              "       [0.        , 1.        , 0.46666667, 0.95616438],\n",
              "       [0.        , 1.        , 0.5       , 0.95890411],\n",
              "       [0.        , 1.        , 0.53333333, 0.96164384],\n",
              "       [0.        , 1.        , 0.56666667, 0.96438356],\n",
              "       [0.        , 1.        , 0.6       , 0.96712329],\n",
              "       [0.        , 1.        , 0.63333333, 0.96986301],\n",
              "       [0.        , 1.        , 0.66666667, 0.97260274],\n",
              "       [0.        , 1.        , 0.7       , 0.97534247],\n",
              "       [0.        , 1.        , 0.73333333, 0.97808219],\n",
              "       [0.        , 1.        , 0.76666667, 0.98082192],\n",
              "       [0.        , 1.        , 0.8       , 0.98356164],\n",
              "       [0.        , 1.        , 0.83333333, 0.98630137],\n",
              "       [0.        , 1.        , 0.86666667, 0.9890411 ],\n",
              "       [0.        , 1.        , 0.9       , 0.99178082],\n",
              "       [0.        , 1.        , 0.93333333, 0.99452055],\n",
              "       [0.        , 1.        , 0.96666667, 0.99726027],\n",
              "       [0.        , 1.        , 1.        , 1.        ],\n",
              "       [1.        , 0.        , 0.        , 0.        ],\n",
              "       [1.        , 0.        , 0.03333333, 0.00273973],\n",
              "       [1.        , 0.        , 0.06666667, 0.00547945],\n",
              "       [1.        , 0.        , 0.1       , 0.00821918],\n",
              "       [1.        , 0.        , 0.13333333, 0.0109589 ],\n",
              "       [1.        , 0.        , 0.16666667, 0.01369863],\n",
              "       [1.        , 0.        , 0.2       , 0.01643836],\n",
              "       [1.        , 0.        , 0.23333333, 0.01917808],\n",
              "       [1.        , 0.        , 0.26666667, 0.02191781],\n",
              "       [1.        , 0.        , 0.3       , 0.02465753],\n",
              "       [1.        , 0.        , 0.33333333, 0.02739726],\n",
              "       [1.        , 0.        , 0.36666667, 0.03013699],\n",
              "       [1.        , 0.        , 0.4       , 0.03287671],\n",
              "       [1.        , 0.        , 0.43333333, 0.03561644],\n",
              "       [1.        , 0.        , 0.46666667, 0.03835616],\n",
              "       [1.        , 0.        , 0.5       , 0.04109589],\n",
              "       [1.        , 0.        , 0.53333333, 0.04383562],\n",
              "       [1.        , 0.        , 0.56666667, 0.04657534],\n",
              "       [1.        , 0.        , 0.6       , 0.04931507],\n",
              "       [1.        , 0.        , 0.63333333, 0.05205479],\n",
              "       [1.        , 0.        , 0.66666667, 0.05479452],\n",
              "       [1.        , 0.        , 0.7       , 0.05753425],\n",
              "       [1.        , 0.        , 0.73333333, 0.06027397],\n",
              "       [1.        , 0.        , 0.76666667, 0.0630137 ],\n",
              "       [1.        , 0.        , 0.8       , 0.06575342],\n",
              "       [1.        , 0.        , 0.83333333, 0.06849315],\n",
              "       [1.        , 0.        , 0.86666667, 0.07123288],\n",
              "       [1.        , 0.        , 0.9       , 0.0739726 ],\n",
              "       [1.        , 0.        , 0.93333333, 0.07671233],\n",
              "       [1.        , 0.        , 0.96666667, 0.07945205],\n",
              "       [1.        , 0.        , 1.        , 0.08219178]])"
            ]
          },
          "metadata": {},
          "execution_count": 153
        }
      ],
      "source": [
        "test_data\n"
      ]
    },
    {
      "cell_type": "code",
      "execution_count": 154,
      "metadata": {},
      "outputs": [
        {
          "output_type": "execute_result",
          "data": {
            "text/plain": [
              "         Date\n",
              "0  2020-11-01\n",
              "1  2020-11-02\n",
              "2  2020-11-03\n",
              "3  2020-11-04\n",
              "4  2020-11-05\n",
              "..        ...\n",
              "87 2021-01-27\n",
              "88 2021-01-28\n",
              "89 2021-01-29\n",
              "90 2021-01-30\n",
              "91 2021-01-31\n",
              "\n",
              "[92 rows x 1 columns]"
            ],
            "text/html": "<div>\n<style scoped>\n    .dataframe tbody tr th:only-of-type {\n        vertical-align: middle;\n    }\n\n    .dataframe tbody tr th {\n        vertical-align: top;\n    }\n\n    .dataframe thead th {\n        text-align: right;\n    }\n</style>\n<table border=\"1\" class=\"dataframe\">\n  <thead>\n    <tr style=\"text-align: right;\">\n      <th></th>\n      <th>Date</th>\n    </tr>\n  </thead>\n  <tbody>\n    <tr>\n      <th>0</th>\n      <td>2020-11-01</td>\n    </tr>\n    <tr>\n      <th>1</th>\n      <td>2020-11-02</td>\n    </tr>\n    <tr>\n      <th>2</th>\n      <td>2020-11-03</td>\n    </tr>\n    <tr>\n      <th>3</th>\n      <td>2020-11-04</td>\n    </tr>\n    <tr>\n      <th>4</th>\n      <td>2020-11-05</td>\n    </tr>\n    <tr>\n      <th>...</th>\n      <td>...</td>\n    </tr>\n    <tr>\n      <th>87</th>\n      <td>2021-01-27</td>\n    </tr>\n    <tr>\n      <th>88</th>\n      <td>2021-01-28</td>\n    </tr>\n    <tr>\n      <th>89</th>\n      <td>2021-01-29</td>\n    </tr>\n    <tr>\n      <th>90</th>\n      <td>2021-01-30</td>\n    </tr>\n    <tr>\n      <th>91</th>\n      <td>2021-01-31</td>\n    </tr>\n  </tbody>\n</table>\n<p>92 rows × 1 columns</p>\n</div>"
          },
          "metadata": {},
          "execution_count": 154
        }
      ],
      "source": [
        "data2"
      ]
    },
    {
      "cell_type": "code",
      "execution_count": 156,
      "metadata": {},
      "outputs": [],
      "source": [
        "data2['day'] = data2.Date.dt.day\n",
        "data2['monthly_index'] = data2.Date.dt.month\n",
        "data2['Daily global solar exposure (MJ/m*m)'] = predict"
      ]
    },
    {
      "cell_type": "code",
      "execution_count": 157,
      "metadata": {},
      "outputs": [
        {
          "output_type": "execute_result",
          "data": {
            "text/plain": [
              "         Date  day  monthly_index  Daily global solar exposure (MJ/m*m)\n",
              "0  2020-11-01    1             11                                 10.00\n",
              "1  2020-11-02    2             11                                  8.20\n",
              "2  2020-11-03    3             11                                 18.00\n",
              "3  2020-11-04    4             11                                 18.00\n",
              "4  2020-11-05    5             11                                  3.70\n",
              "..        ...  ...            ...                                   ...\n",
              "87 2021-01-27   27              1                                 26.30\n",
              "88 2021-01-28   28              1                                 26.30\n",
              "89 2021-01-29   29              1                                 29.40\n",
              "90 2021-01-30   30              1                                 29.40\n",
              "91 2021-01-31   31              1                                 18.35\n",
              "\n",
              "[92 rows x 4 columns]"
            ],
            "text/html": "<div>\n<style scoped>\n    .dataframe tbody tr th:only-of-type {\n        vertical-align: middle;\n    }\n\n    .dataframe tbody tr th {\n        vertical-align: top;\n    }\n\n    .dataframe thead th {\n        text-align: right;\n    }\n</style>\n<table border=\"1\" class=\"dataframe\">\n  <thead>\n    <tr style=\"text-align: right;\">\n      <th></th>\n      <th>Date</th>\n      <th>day</th>\n      <th>monthly_index</th>\n      <th>Daily global solar exposure (MJ/m*m)</th>\n    </tr>\n  </thead>\n  <tbody>\n    <tr>\n      <th>0</th>\n      <td>2020-11-01</td>\n      <td>1</td>\n      <td>11</td>\n      <td>10.00</td>\n    </tr>\n    <tr>\n      <th>1</th>\n      <td>2020-11-02</td>\n      <td>2</td>\n      <td>11</td>\n      <td>8.20</td>\n    </tr>\n    <tr>\n      <th>2</th>\n      <td>2020-11-03</td>\n      <td>3</td>\n      <td>11</td>\n      <td>18.00</td>\n    </tr>\n    <tr>\n      <th>3</th>\n      <td>2020-11-04</td>\n      <td>4</td>\n      <td>11</td>\n      <td>18.00</td>\n    </tr>\n    <tr>\n      <th>4</th>\n      <td>2020-11-05</td>\n      <td>5</td>\n      <td>11</td>\n      <td>3.70</td>\n    </tr>\n    <tr>\n      <th>...</th>\n      <td>...</td>\n      <td>...</td>\n      <td>...</td>\n      <td>...</td>\n    </tr>\n    <tr>\n      <th>87</th>\n      <td>2021-01-27</td>\n      <td>27</td>\n      <td>1</td>\n      <td>26.30</td>\n    </tr>\n    <tr>\n      <th>88</th>\n      <td>2021-01-28</td>\n      <td>28</td>\n      <td>1</td>\n      <td>26.30</td>\n    </tr>\n    <tr>\n      <th>89</th>\n      <td>2021-01-29</td>\n      <td>29</td>\n      <td>1</td>\n      <td>29.40</td>\n    </tr>\n    <tr>\n      <th>90</th>\n      <td>2021-01-30</td>\n      <td>30</td>\n      <td>1</td>\n      <td>29.40</td>\n    </tr>\n    <tr>\n      <th>91</th>\n      <td>2021-01-31</td>\n      <td>31</td>\n      <td>1</td>\n      <td>18.35</td>\n    </tr>\n  </tbody>\n</table>\n<p>92 rows × 4 columns</p>\n</div>"
          },
          "metadata": {},
          "execution_count": 157
        }
      ],
      "source": [
        "data2"
      ]
    },
    {
      "cell_type": "code",
      "execution_count": 158,
      "metadata": {},
      "outputs": [],
      "source": [
        "data2.to_csv ('test_data.csv', index = False, header=True)"
      ]
    },
    {
      "cell_type": "code",
      "execution_count": null,
      "metadata": {},
      "outputs": [],
      "source": []
    }
  ]
}