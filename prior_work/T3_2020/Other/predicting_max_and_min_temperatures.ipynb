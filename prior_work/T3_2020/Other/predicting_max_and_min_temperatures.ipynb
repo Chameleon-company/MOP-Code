{
  "nbformat": 4,
  "nbformat_minor": 0,
  "metadata": {
    "colab": {
      "name": "predicting_max_and_min_temperatures.ipynb",
      "provenance": [],
      "collapsed_sections": []
    },
    "kernelspec": {
      "name": "python3",
      "display_name": "Python 3"
    }
  },
  "cells": [
    {
      "cell_type": "code",
      "metadata": {
        "id": "VPbF12e_373G"
      },
      "source": [
        "from sklearn.neighbors import KNeighborsRegressor\r\n",
        "from sklearn.svm import SVR\r\n",
        "import numpy as np\r\n",
        "import pandas as pd\r\n",
        "from pandas import DataFrame as df, Series as se\r\n",
        "from datetime import datetime, timedelta"
      ],
      "execution_count": 63,
      "outputs": []
    },
    {
      "cell_type": "code",
      "metadata": {
        "id": "QUW41Id-6v3J"
      },
      "source": [
        "dataset_wt_weather_features = pd.read_csv('dataset_wt_weather_features.csv')"
      ],
      "execution_count": 38,
      "outputs": []
    },
    {
      "cell_type": "code",
      "metadata": {
        "colab": {
          "base_uri": "https://localhost:8080/",
          "height": 590
        },
        "id": "1F6AYy7o7DOl",
        "outputId": "0b47793f-fa33-484a-b4af-016e16de0e44"
      },
      "source": [
        "dataset_wt_weather_features"
      ],
      "execution_count": 39,
      "outputs": [
        {
          "output_type": "execute_result",
          "data": {
            "text/html": [
              "<div>\n",
              "<style scoped>\n",
              "    .dataframe tbody tr th:only-of-type {\n",
              "        vertical-align: middle;\n",
              "    }\n",
              "\n",
              "    .dataframe tbody tr th {\n",
              "        vertical-align: top;\n",
              "    }\n",
              "\n",
              "    .dataframe thead th {\n",
              "        text-align: right;\n",
              "    }\n",
              "</style>\n",
              "<table border=\"1\" class=\"dataframe\">\n",
              "  <thead>\n",
              "    <tr style=\"text-align: right;\">\n",
              "      <th></th>\n",
              "      <th>date</th>\n",
              "      <th>Rainfall amount (millimetres)</th>\n",
              "      <th>Minimum temperature (Degree C)</th>\n",
              "      <th>Maximum temperature (Degree C)</th>\n",
              "      <th>Daily global solar exposure (MJ/m*m)</th>\n",
              "      <th>Total_Pedestrian_Count_per_day</th>\n",
              "    </tr>\n",
              "  </thead>\n",
              "  <tbody>\n",
              "    <tr>\n",
              "      <th>0</th>\n",
              "      <td>2015-01-01 00:00:00</td>\n",
              "      <td>0.0</td>\n",
              "      <td>13.3</td>\n",
              "      <td>26.9</td>\n",
              "      <td>23.6</td>\n",
              "      <td>471563</td>\n",
              "    </tr>\n",
              "    <tr>\n",
              "      <th>1</th>\n",
              "      <td>2015-01-02 00:00:00</td>\n",
              "      <td>0.0</td>\n",
              "      <td>15.4</td>\n",
              "      <td>38.8</td>\n",
              "      <td>26.8</td>\n",
              "      <td>389048</td>\n",
              "    </tr>\n",
              "    <tr>\n",
              "      <th>2</th>\n",
              "      <td>2015-01-03 00:00:00</td>\n",
              "      <td>0.0</td>\n",
              "      <td>20.0</td>\n",
              "      <td>38.2</td>\n",
              "      <td>26.5</td>\n",
              "      <td>291761</td>\n",
              "    </tr>\n",
              "    <tr>\n",
              "      <th>3</th>\n",
              "      <td>2015-01-04 00:00:00</td>\n",
              "      <td>4.6</td>\n",
              "      <td>16.3</td>\n",
              "      <td>21.4</td>\n",
              "      <td>25.2</td>\n",
              "      <td>382364</td>\n",
              "    </tr>\n",
              "    <tr>\n",
              "      <th>4</th>\n",
              "      <td>2015-01-05 00:00:00</td>\n",
              "      <td>0.0</td>\n",
              "      <td>15.0</td>\n",
              "      <td>22.0</td>\n",
              "      <td>30.7</td>\n",
              "      <td>487220</td>\n",
              "    </tr>\n",
              "    <tr>\n",
              "      <th>...</th>\n",
              "      <td>...</td>\n",
              "      <td>...</td>\n",
              "      <td>...</td>\n",
              "      <td>...</td>\n",
              "      <td>...</td>\n",
              "      <td>...</td>\n",
              "    </tr>\n",
              "    <tr>\n",
              "      <th>2126</th>\n",
              "      <td>2020-10-27 00:00:00</td>\n",
              "      <td>0.0</td>\n",
              "      <td>11.1</td>\n",
              "      <td>19.6</td>\n",
              "      <td>20.1</td>\n",
              "      <td>177267</td>\n",
              "    </tr>\n",
              "    <tr>\n",
              "      <th>2127</th>\n",
              "      <td>2020-10-28 00:00:00</td>\n",
              "      <td>0.0</td>\n",
              "      <td>9.5</td>\n",
              "      <td>20.9</td>\n",
              "      <td>26.7</td>\n",
              "      <td>311278</td>\n",
              "    </tr>\n",
              "    <tr>\n",
              "      <th>2128</th>\n",
              "      <td>2020-10-29 00:00:00</td>\n",
              "      <td>0.0</td>\n",
              "      <td>11.2</td>\n",
              "      <td>24.3</td>\n",
              "      <td>17.1</td>\n",
              "      <td>263334</td>\n",
              "    </tr>\n",
              "    <tr>\n",
              "      <th>2129</th>\n",
              "      <td>2020-10-30 00:00:00</td>\n",
              "      <td>0.0</td>\n",
              "      <td>12.9</td>\n",
              "      <td>18.6</td>\n",
              "      <td>21.0</td>\n",
              "      <td>313225</td>\n",
              "    </tr>\n",
              "    <tr>\n",
              "      <th>2130</th>\n",
              "      <td>2020-10-31 00:00:00</td>\n",
              "      <td>0.0</td>\n",
              "      <td>14.2</td>\n",
              "      <td>16.8</td>\n",
              "      <td>10.0</td>\n",
              "      <td>370181</td>\n",
              "    </tr>\n",
              "  </tbody>\n",
              "</table>\n",
              "<p>2131 rows × 6 columns</p>\n",
              "</div>"
            ],
            "text/plain": [
              "                     date  ...  Total_Pedestrian_Count_per_day\n",
              "0     2015-01-01 00:00:00  ...                          471563\n",
              "1     2015-01-02 00:00:00  ...                          389048\n",
              "2     2015-01-03 00:00:00  ...                          291761\n",
              "3     2015-01-04 00:00:00  ...                          382364\n",
              "4     2015-01-05 00:00:00  ...                          487220\n",
              "...                   ...  ...                             ...\n",
              "2126  2020-10-27 00:00:00  ...                          177267\n",
              "2127  2020-10-28 00:00:00  ...                          311278\n",
              "2128  2020-10-29 00:00:00  ...                          263334\n",
              "2129  2020-10-30 00:00:00  ...                          313225\n",
              "2130  2020-10-31 00:00:00  ...                          370181\n",
              "\n",
              "[2131 rows x 6 columns]"
            ]
          },
          "metadata": {
            "tags": []
          },
          "execution_count": 39
        }
      ]
    },
    {
      "cell_type": "code",
      "metadata": {
        "id": "mV_K8lw57y6q"
      },
      "source": [
        "dataset_wt_weather_features['Date'] = dataset_wt_weather_features['date'].astype('datetime64[ns]')"
      ],
      "execution_count": 40,
      "outputs": []
    },
    {
      "cell_type": "code",
      "metadata": {
        "id": "xhLSrgb_IEW2"
      },
      "source": [
        "import numpy\r\n",
        "dataset = numpy.zeros(shape=(2193,6))"
      ],
      "execution_count": 41,
      "outputs": []
    },
    {
      "cell_type": "code",
      "metadata": {
        "id": "0ZQKhqWJ-Jk9"
      },
      "source": [
        "dataset = df(train_data)"
      ],
      "execution_count": 42,
      "outputs": []
    },
    {
      "cell_type": "code",
      "metadata": {
        "id": "Q6cPoERo_HqA"
      },
      "source": [
        "dataset.rename(columns = {0:'Year',1:'day_of_year',2:'monthly_index',3:'day_of_week',4:'Minimum temperature (Degree C)',\t5:'Maximum temperature (Degree C)' },inplace = True)"
      ],
      "execution_count": 43,
      "outputs": []
    },
    {
      "cell_type": "code",
      "metadata": {
        "colab": {
          "base_uri": "https://localhost:8080/",
          "height": 407
        },
        "id": "KlTEXI3TAzTW",
        "outputId": "c2acdf83-d346-4419-8691-1caf769c1481"
      },
      "source": [
        "from datetime import datetime, timedelta\r\n",
        "#generating the test data set\r\n",
        "base = datetime.strptime('2015-01-01', '%Y-%m-%d')\r\n",
        "date_list = [base + timedelta(days=x) for x in range(2192)]\r\n",
        "dataset = df(date_list)\r\n",
        "#renaming a column \r\n",
        "dataset.rename(columns = {0:'Date'},inplace = True)\r\n",
        "#Incorporating the monthly index. Representing January as 1 and December as 12.\r\n",
        "dataset['monthly_index'] = dataset.Date.dt.month\r\n",
        "\r\n",
        "#Incorporating the year\r\n",
        "dataset['Year'] = dataset.Date.dt.year\r\n",
        "\r\n",
        "#Incorporating the weekly index. Representing monday as 1 and sunday as 7.\r\n",
        "dataset['day_of_week'] = dataset.Date.dt.dayofweek + 1\r\n",
        "\r\n",
        "#Incorporating the day of the year\r\n",
        "dataset['day_of_year'] = dataset.Date.dt.dayofyear\r\n",
        "\r\n",
        "#rearranging columns for the test dataset\r\n",
        "dataset = dataset[['Year', 'day_of_year', 'monthly_index','day_of_week' ]]\r\n",
        "\r\n",
        "#displaying the test dataset\r\n",
        "dataset"
      ],
      "execution_count": 44,
      "outputs": [
        {
          "output_type": "execute_result",
          "data": {
            "text/html": [
              "<div>\n",
              "<style scoped>\n",
              "    .dataframe tbody tr th:only-of-type {\n",
              "        vertical-align: middle;\n",
              "    }\n",
              "\n",
              "    .dataframe tbody tr th {\n",
              "        vertical-align: top;\n",
              "    }\n",
              "\n",
              "    .dataframe thead th {\n",
              "        text-align: right;\n",
              "    }\n",
              "</style>\n",
              "<table border=\"1\" class=\"dataframe\">\n",
              "  <thead>\n",
              "    <tr style=\"text-align: right;\">\n",
              "      <th></th>\n",
              "      <th>Year</th>\n",
              "      <th>day_of_year</th>\n",
              "      <th>monthly_index</th>\n",
              "      <th>day_of_week</th>\n",
              "    </tr>\n",
              "  </thead>\n",
              "  <tbody>\n",
              "    <tr>\n",
              "      <th>0</th>\n",
              "      <td>2015</td>\n",
              "      <td>1</td>\n",
              "      <td>1</td>\n",
              "      <td>4</td>\n",
              "    </tr>\n",
              "    <tr>\n",
              "      <th>1</th>\n",
              "      <td>2015</td>\n",
              "      <td>2</td>\n",
              "      <td>1</td>\n",
              "      <td>5</td>\n",
              "    </tr>\n",
              "    <tr>\n",
              "      <th>2</th>\n",
              "      <td>2015</td>\n",
              "      <td>3</td>\n",
              "      <td>1</td>\n",
              "      <td>6</td>\n",
              "    </tr>\n",
              "    <tr>\n",
              "      <th>3</th>\n",
              "      <td>2015</td>\n",
              "      <td>4</td>\n",
              "      <td>1</td>\n",
              "      <td>7</td>\n",
              "    </tr>\n",
              "    <tr>\n",
              "      <th>4</th>\n",
              "      <td>2015</td>\n",
              "      <td>5</td>\n",
              "      <td>1</td>\n",
              "      <td>1</td>\n",
              "    </tr>\n",
              "    <tr>\n",
              "      <th>...</th>\n",
              "      <td>...</td>\n",
              "      <td>...</td>\n",
              "      <td>...</td>\n",
              "      <td>...</td>\n",
              "    </tr>\n",
              "    <tr>\n",
              "      <th>2187</th>\n",
              "      <td>2020</td>\n",
              "      <td>362</td>\n",
              "      <td>12</td>\n",
              "      <td>7</td>\n",
              "    </tr>\n",
              "    <tr>\n",
              "      <th>2188</th>\n",
              "      <td>2020</td>\n",
              "      <td>363</td>\n",
              "      <td>12</td>\n",
              "      <td>1</td>\n",
              "    </tr>\n",
              "    <tr>\n",
              "      <th>2189</th>\n",
              "      <td>2020</td>\n",
              "      <td>364</td>\n",
              "      <td>12</td>\n",
              "      <td>2</td>\n",
              "    </tr>\n",
              "    <tr>\n",
              "      <th>2190</th>\n",
              "      <td>2020</td>\n",
              "      <td>365</td>\n",
              "      <td>12</td>\n",
              "      <td>3</td>\n",
              "    </tr>\n",
              "    <tr>\n",
              "      <th>2191</th>\n",
              "      <td>2020</td>\n",
              "      <td>366</td>\n",
              "      <td>12</td>\n",
              "      <td>4</td>\n",
              "    </tr>\n",
              "  </tbody>\n",
              "</table>\n",
              "<p>2192 rows × 4 columns</p>\n",
              "</div>"
            ],
            "text/plain": [
              "      Year  day_of_year  monthly_index  day_of_week\n",
              "0     2015            1              1            4\n",
              "1     2015            2              1            5\n",
              "2     2015            3              1            6\n",
              "3     2015            4              1            7\n",
              "4     2015            5              1            1\n",
              "...    ...          ...            ...          ...\n",
              "2187  2020          362             12            7\n",
              "2188  2020          363             12            1\n",
              "2189  2020          364             12            2\n",
              "2190  2020          365             12            3\n",
              "2191  2020          366             12            4\n",
              "\n",
              "[2192 rows x 4 columns]"
            ]
          },
          "metadata": {
            "tags": []
          },
          "execution_count": 44
        }
      ]
    },
    {
      "cell_type": "code",
      "metadata": {
        "id": "zlK6_X32H33O"
      },
      "source": [
        "from datetime import datetime, timedelta\r\n",
        "dataset['Minimum temperature (Degree C)'] = dataset_wt_weather_features['Minimum temperature (Degree C)']\r\n",
        "dataset['Maximum temperature (Degree C)'] = dataset_wt_weather_features['Maximum temperature (Degree C)']\r\n",
        "\r\n"
      ],
      "execution_count": 45,
      "outputs": []
    },
    {
      "cell_type": "code",
      "metadata": {
        "colab": {
          "base_uri": "https://localhost:8080/",
          "height": 407
        },
        "id": "pAiAs_ESINGg",
        "outputId": "0773463b-2a5b-485d-afca-fbccec02689d"
      },
      "source": [
        "dataset"
      ],
      "execution_count": 46,
      "outputs": [
        {
          "output_type": "execute_result",
          "data": {
            "text/html": [
              "<div>\n",
              "<style scoped>\n",
              "    .dataframe tbody tr th:only-of-type {\n",
              "        vertical-align: middle;\n",
              "    }\n",
              "\n",
              "    .dataframe tbody tr th {\n",
              "        vertical-align: top;\n",
              "    }\n",
              "\n",
              "    .dataframe thead th {\n",
              "        text-align: right;\n",
              "    }\n",
              "</style>\n",
              "<table border=\"1\" class=\"dataframe\">\n",
              "  <thead>\n",
              "    <tr style=\"text-align: right;\">\n",
              "      <th></th>\n",
              "      <th>Year</th>\n",
              "      <th>day_of_year</th>\n",
              "      <th>monthly_index</th>\n",
              "      <th>day_of_week</th>\n",
              "      <th>Minimum temperature (Degree C)</th>\n",
              "      <th>Maximum temperature (Degree C)</th>\n",
              "    </tr>\n",
              "  </thead>\n",
              "  <tbody>\n",
              "    <tr>\n",
              "      <th>0</th>\n",
              "      <td>2015</td>\n",
              "      <td>1</td>\n",
              "      <td>1</td>\n",
              "      <td>4</td>\n",
              "      <td>13.3</td>\n",
              "      <td>26.9</td>\n",
              "    </tr>\n",
              "    <tr>\n",
              "      <th>1</th>\n",
              "      <td>2015</td>\n",
              "      <td>2</td>\n",
              "      <td>1</td>\n",
              "      <td>5</td>\n",
              "      <td>15.4</td>\n",
              "      <td>38.8</td>\n",
              "    </tr>\n",
              "    <tr>\n",
              "      <th>2</th>\n",
              "      <td>2015</td>\n",
              "      <td>3</td>\n",
              "      <td>1</td>\n",
              "      <td>6</td>\n",
              "      <td>20.0</td>\n",
              "      <td>38.2</td>\n",
              "    </tr>\n",
              "    <tr>\n",
              "      <th>3</th>\n",
              "      <td>2015</td>\n",
              "      <td>4</td>\n",
              "      <td>1</td>\n",
              "      <td>7</td>\n",
              "      <td>16.3</td>\n",
              "      <td>21.4</td>\n",
              "    </tr>\n",
              "    <tr>\n",
              "      <th>4</th>\n",
              "      <td>2015</td>\n",
              "      <td>5</td>\n",
              "      <td>1</td>\n",
              "      <td>1</td>\n",
              "      <td>15.0</td>\n",
              "      <td>22.0</td>\n",
              "    </tr>\n",
              "    <tr>\n",
              "      <th>...</th>\n",
              "      <td>...</td>\n",
              "      <td>...</td>\n",
              "      <td>...</td>\n",
              "      <td>...</td>\n",
              "      <td>...</td>\n",
              "      <td>...</td>\n",
              "    </tr>\n",
              "    <tr>\n",
              "      <th>2187</th>\n",
              "      <td>2020</td>\n",
              "      <td>362</td>\n",
              "      <td>12</td>\n",
              "      <td>7</td>\n",
              "      <td>NaN</td>\n",
              "      <td>NaN</td>\n",
              "    </tr>\n",
              "    <tr>\n",
              "      <th>2188</th>\n",
              "      <td>2020</td>\n",
              "      <td>363</td>\n",
              "      <td>12</td>\n",
              "      <td>1</td>\n",
              "      <td>NaN</td>\n",
              "      <td>NaN</td>\n",
              "    </tr>\n",
              "    <tr>\n",
              "      <th>2189</th>\n",
              "      <td>2020</td>\n",
              "      <td>364</td>\n",
              "      <td>12</td>\n",
              "      <td>2</td>\n",
              "      <td>NaN</td>\n",
              "      <td>NaN</td>\n",
              "    </tr>\n",
              "    <tr>\n",
              "      <th>2190</th>\n",
              "      <td>2020</td>\n",
              "      <td>365</td>\n",
              "      <td>12</td>\n",
              "      <td>3</td>\n",
              "      <td>NaN</td>\n",
              "      <td>NaN</td>\n",
              "    </tr>\n",
              "    <tr>\n",
              "      <th>2191</th>\n",
              "      <td>2020</td>\n",
              "      <td>366</td>\n",
              "      <td>12</td>\n",
              "      <td>4</td>\n",
              "      <td>NaN</td>\n",
              "      <td>NaN</td>\n",
              "    </tr>\n",
              "  </tbody>\n",
              "</table>\n",
              "<p>2192 rows × 6 columns</p>\n",
              "</div>"
            ],
            "text/plain": [
              "      Year  ...  Maximum temperature (Degree C)\n",
              "0     2015  ...                            26.9\n",
              "1     2015  ...                            38.8\n",
              "2     2015  ...                            38.2\n",
              "3     2015  ...                            21.4\n",
              "4     2015  ...                            22.0\n",
              "...    ...  ...                             ...\n",
              "2187  2020  ...                             NaN\n",
              "2188  2020  ...                             NaN\n",
              "2189  2020  ...                             NaN\n",
              "2190  2020  ...                             NaN\n",
              "2191  2020  ...                             NaN\n",
              "\n",
              "[2192 rows x 6 columns]"
            ]
          },
          "metadata": {
            "tags": []
          },
          "execution_count": 46
        }
      ]
    },
    {
      "cell_type": "code",
      "metadata": {
        "colab": {
          "base_uri": "https://localhost:8080/"
        },
        "id": "sAG7eVSwD3Qi",
        "outputId": "2aea9186-5b41-4f55-ae67-fdd7fb24b14d"
      },
      "source": [
        "dataset.isnull().sum()"
      ],
      "execution_count": 47,
      "outputs": [
        {
          "output_type": "execute_result",
          "data": {
            "text/plain": [
              "Year                               0\n",
              "day_of_year                        0\n",
              "monthly_index                      0\n",
              "day_of_week                        0\n",
              "Minimum temperature (Degree C)    61\n",
              "Maximum temperature (Degree C)    61\n",
              "dtype: int64"
            ]
          },
          "metadata": {
            "tags": []
          },
          "execution_count": 47
        }
      ]
    },
    {
      "cell_type": "code",
      "metadata": {
        "colab": {
          "base_uri": "https://localhost:8080/",
          "height": 407
        },
        "id": "hS_1ibPNLZEB",
        "outputId": "48b922e7-e61e-444c-e9b2-0acced226630"
      },
      "source": [
        "dataset[2131:2192] \r\n"
      ],
      "execution_count": 48,
      "outputs": [
        {
          "output_type": "execute_result",
          "data": {
            "text/html": [
              "<div>\n",
              "<style scoped>\n",
              "    .dataframe tbody tr th:only-of-type {\n",
              "        vertical-align: middle;\n",
              "    }\n",
              "\n",
              "    .dataframe tbody tr th {\n",
              "        vertical-align: top;\n",
              "    }\n",
              "\n",
              "    .dataframe thead th {\n",
              "        text-align: right;\n",
              "    }\n",
              "</style>\n",
              "<table border=\"1\" class=\"dataframe\">\n",
              "  <thead>\n",
              "    <tr style=\"text-align: right;\">\n",
              "      <th></th>\n",
              "      <th>Year</th>\n",
              "      <th>day_of_year</th>\n",
              "      <th>monthly_index</th>\n",
              "      <th>day_of_week</th>\n",
              "      <th>Minimum temperature (Degree C)</th>\n",
              "      <th>Maximum temperature (Degree C)</th>\n",
              "    </tr>\n",
              "  </thead>\n",
              "  <tbody>\n",
              "    <tr>\n",
              "      <th>2131</th>\n",
              "      <td>2020</td>\n",
              "      <td>306</td>\n",
              "      <td>11</td>\n",
              "      <td>7</td>\n",
              "      <td>NaN</td>\n",
              "      <td>NaN</td>\n",
              "    </tr>\n",
              "    <tr>\n",
              "      <th>2132</th>\n",
              "      <td>2020</td>\n",
              "      <td>307</td>\n",
              "      <td>11</td>\n",
              "      <td>1</td>\n",
              "      <td>NaN</td>\n",
              "      <td>NaN</td>\n",
              "    </tr>\n",
              "    <tr>\n",
              "      <th>2133</th>\n",
              "      <td>2020</td>\n",
              "      <td>308</td>\n",
              "      <td>11</td>\n",
              "      <td>2</td>\n",
              "      <td>NaN</td>\n",
              "      <td>NaN</td>\n",
              "    </tr>\n",
              "    <tr>\n",
              "      <th>2134</th>\n",
              "      <td>2020</td>\n",
              "      <td>309</td>\n",
              "      <td>11</td>\n",
              "      <td>3</td>\n",
              "      <td>NaN</td>\n",
              "      <td>NaN</td>\n",
              "    </tr>\n",
              "    <tr>\n",
              "      <th>2135</th>\n",
              "      <td>2020</td>\n",
              "      <td>310</td>\n",
              "      <td>11</td>\n",
              "      <td>4</td>\n",
              "      <td>NaN</td>\n",
              "      <td>NaN</td>\n",
              "    </tr>\n",
              "    <tr>\n",
              "      <th>...</th>\n",
              "      <td>...</td>\n",
              "      <td>...</td>\n",
              "      <td>...</td>\n",
              "      <td>...</td>\n",
              "      <td>...</td>\n",
              "      <td>...</td>\n",
              "    </tr>\n",
              "    <tr>\n",
              "      <th>2187</th>\n",
              "      <td>2020</td>\n",
              "      <td>362</td>\n",
              "      <td>12</td>\n",
              "      <td>7</td>\n",
              "      <td>NaN</td>\n",
              "      <td>NaN</td>\n",
              "    </tr>\n",
              "    <tr>\n",
              "      <th>2188</th>\n",
              "      <td>2020</td>\n",
              "      <td>363</td>\n",
              "      <td>12</td>\n",
              "      <td>1</td>\n",
              "      <td>NaN</td>\n",
              "      <td>NaN</td>\n",
              "    </tr>\n",
              "    <tr>\n",
              "      <th>2189</th>\n",
              "      <td>2020</td>\n",
              "      <td>364</td>\n",
              "      <td>12</td>\n",
              "      <td>2</td>\n",
              "      <td>NaN</td>\n",
              "      <td>NaN</td>\n",
              "    </tr>\n",
              "    <tr>\n",
              "      <th>2190</th>\n",
              "      <td>2020</td>\n",
              "      <td>365</td>\n",
              "      <td>12</td>\n",
              "      <td>3</td>\n",
              "      <td>NaN</td>\n",
              "      <td>NaN</td>\n",
              "    </tr>\n",
              "    <tr>\n",
              "      <th>2191</th>\n",
              "      <td>2020</td>\n",
              "      <td>366</td>\n",
              "      <td>12</td>\n",
              "      <td>4</td>\n",
              "      <td>NaN</td>\n",
              "      <td>NaN</td>\n",
              "    </tr>\n",
              "  </tbody>\n",
              "</table>\n",
              "<p>61 rows × 6 columns</p>\n",
              "</div>"
            ],
            "text/plain": [
              "      Year  ...  Maximum temperature (Degree C)\n",
              "2131  2020  ...                             NaN\n",
              "2132  2020  ...                             NaN\n",
              "2133  2020  ...                             NaN\n",
              "2134  2020  ...                             NaN\n",
              "2135  2020  ...                             NaN\n",
              "...    ...  ...                             ...\n",
              "2187  2020  ...                             NaN\n",
              "2188  2020  ...                             NaN\n",
              "2189  2020  ...                             NaN\n",
              "2190  2020  ...                             NaN\n",
              "2191  2020  ...                             NaN\n",
              "\n",
              "[61 rows x 6 columns]"
            ]
          },
          "metadata": {
            "tags": []
          },
          "execution_count": 48
        }
      ]
    },
    {
      "cell_type": "code",
      "metadata": {
        "colab": {
          "base_uri": "https://localhost:8080/"
        },
        "id": "F0S8Q9EOB2nu",
        "outputId": "a9ea0ed1-ec7b-4915-a742-88ea23093d23"
      },
      "source": [
        "Test_dataset = pd.read_csv('Test_dataset_updated.csv')\r\n",
        "Test_dataset['Minimum temperature']"
      ],
      "execution_count": 49,
      "outputs": [
        {
          "output_type": "execute_result",
          "data": {
            "text/plain": [
              "0     12.6\n",
              "1      9.6\n",
              "2     12.1\n",
              "3     21.9\n",
              "4     11.1\n",
              "      ... \n",
              "56    16.2\n",
              "57    11.5\n",
              "58     9.0\n",
              "59    13.7\n",
              "60    15.5\n",
              "Name: Minimum temperature, Length: 61, dtype: float64"
            ]
          },
          "metadata": {
            "tags": []
          },
          "execution_count": 49
        }
      ]
    },
    {
      "cell_type": "code",
      "metadata": {
        "colab": {
          "base_uri": "https://localhost:8080/"
        },
        "id": "NfgkcLgAnA_A",
        "outputId": "026a634f-a5cc-453a-d1b6-5704e5b62c90"
      },
      "source": [
        "dataset ['Minimum temperature (Degree C)'][2131:2192] = Test_dataset_updated['Minimum temperature']\r\n",
        "dataset ['Maximum temperature (Degree C)'][2131:2192] = Test_dataset_updated['Maximum Temperature']"
      ],
      "execution_count": 50,
      "outputs": [
        {
          "output_type": "stream",
          "text": [
            "/usr/local/lib/python3.6/dist-packages/ipykernel_launcher.py:1: SettingWithCopyWarning: \n",
            "A value is trying to be set on a copy of a slice from a DataFrame\n",
            "\n",
            "See the caveats in the documentation: https://pandas.pydata.org/pandas-docs/stable/user_guide/indexing.html#returning-a-view-versus-a-copy\n",
            "  \"\"\"Entry point for launching an IPython kernel.\n",
            "/usr/local/lib/python3.6/dist-packages/ipykernel_launcher.py:2: SettingWithCopyWarning: \n",
            "A value is trying to be set on a copy of a slice from a DataFrame\n",
            "\n",
            "See the caveats in the documentation: https://pandas.pydata.org/pandas-docs/stable/user_guide/indexing.html#returning-a-view-versus-a-copy\n",
            "  \n"
          ],
          "name": "stderr"
        }
      ]
    },
    {
      "cell_type": "code",
      "metadata": {
        "colab": {
          "base_uri": "https://localhost:8080/",
          "height": 407
        },
        "id": "LyZY_6M2nA3A",
        "outputId": "b9504198-dae9-4f21-d7b1-056d88f8090a"
      },
      "source": [
        "dataset"
      ],
      "execution_count": 51,
      "outputs": [
        {
          "output_type": "execute_result",
          "data": {
            "text/html": [
              "<div>\n",
              "<style scoped>\n",
              "    .dataframe tbody tr th:only-of-type {\n",
              "        vertical-align: middle;\n",
              "    }\n",
              "\n",
              "    .dataframe tbody tr th {\n",
              "        vertical-align: top;\n",
              "    }\n",
              "\n",
              "    .dataframe thead th {\n",
              "        text-align: right;\n",
              "    }\n",
              "</style>\n",
              "<table border=\"1\" class=\"dataframe\">\n",
              "  <thead>\n",
              "    <tr style=\"text-align: right;\">\n",
              "      <th></th>\n",
              "      <th>Year</th>\n",
              "      <th>day_of_year</th>\n",
              "      <th>monthly_index</th>\n",
              "      <th>day_of_week</th>\n",
              "      <th>Minimum temperature (Degree C)</th>\n",
              "      <th>Maximum temperature (Degree C)</th>\n",
              "    </tr>\n",
              "  </thead>\n",
              "  <tbody>\n",
              "    <tr>\n",
              "      <th>0</th>\n",
              "      <td>2015</td>\n",
              "      <td>1</td>\n",
              "      <td>1</td>\n",
              "      <td>4</td>\n",
              "      <td>13.3</td>\n",
              "      <td>26.9</td>\n",
              "    </tr>\n",
              "    <tr>\n",
              "      <th>1</th>\n",
              "      <td>2015</td>\n",
              "      <td>2</td>\n",
              "      <td>1</td>\n",
              "      <td>5</td>\n",
              "      <td>15.4</td>\n",
              "      <td>38.8</td>\n",
              "    </tr>\n",
              "    <tr>\n",
              "      <th>2</th>\n",
              "      <td>2015</td>\n",
              "      <td>3</td>\n",
              "      <td>1</td>\n",
              "      <td>6</td>\n",
              "      <td>20.0</td>\n",
              "      <td>38.2</td>\n",
              "    </tr>\n",
              "    <tr>\n",
              "      <th>3</th>\n",
              "      <td>2015</td>\n",
              "      <td>4</td>\n",
              "      <td>1</td>\n",
              "      <td>7</td>\n",
              "      <td>16.3</td>\n",
              "      <td>21.4</td>\n",
              "    </tr>\n",
              "    <tr>\n",
              "      <th>4</th>\n",
              "      <td>2015</td>\n",
              "      <td>5</td>\n",
              "      <td>1</td>\n",
              "      <td>1</td>\n",
              "      <td>15.0</td>\n",
              "      <td>22.0</td>\n",
              "    </tr>\n",
              "    <tr>\n",
              "      <th>...</th>\n",
              "      <td>...</td>\n",
              "      <td>...</td>\n",
              "      <td>...</td>\n",
              "      <td>...</td>\n",
              "      <td>...</td>\n",
              "      <td>...</td>\n",
              "    </tr>\n",
              "    <tr>\n",
              "      <th>2187</th>\n",
              "      <td>2020</td>\n",
              "      <td>362</td>\n",
              "      <td>12</td>\n",
              "      <td>7</td>\n",
              "      <td>16.2</td>\n",
              "      <td>31.9</td>\n",
              "    </tr>\n",
              "    <tr>\n",
              "      <th>2188</th>\n",
              "      <td>2020</td>\n",
              "      <td>363</td>\n",
              "      <td>12</td>\n",
              "      <td>1</td>\n",
              "      <td>11.5</td>\n",
              "      <td>17.8</td>\n",
              "    </tr>\n",
              "    <tr>\n",
              "      <th>2189</th>\n",
              "      <td>2020</td>\n",
              "      <td>364</td>\n",
              "      <td>12</td>\n",
              "      <td>2</td>\n",
              "      <td>9.0</td>\n",
              "      <td>21.3</td>\n",
              "    </tr>\n",
              "    <tr>\n",
              "      <th>2190</th>\n",
              "      <td>2020</td>\n",
              "      <td>365</td>\n",
              "      <td>12</td>\n",
              "      <td>3</td>\n",
              "      <td>13.7</td>\n",
              "      <td>21.4</td>\n",
              "    </tr>\n",
              "    <tr>\n",
              "      <th>2191</th>\n",
              "      <td>2020</td>\n",
              "      <td>366</td>\n",
              "      <td>12</td>\n",
              "      <td>4</td>\n",
              "      <td>15.5</td>\n",
              "      <td>21.2</td>\n",
              "    </tr>\n",
              "  </tbody>\n",
              "</table>\n",
              "<p>2192 rows × 6 columns</p>\n",
              "</div>"
            ],
            "text/plain": [
              "      Year  ...  Maximum temperature (Degree C)\n",
              "0     2015  ...                            26.9\n",
              "1     2015  ...                            38.8\n",
              "2     2015  ...                            38.2\n",
              "3     2015  ...                            21.4\n",
              "4     2015  ...                            22.0\n",
              "...    ...  ...                             ...\n",
              "2187  2020  ...                            31.9\n",
              "2188  2020  ...                            17.8\n",
              "2189  2020  ...                            21.3\n",
              "2190  2020  ...                            21.4\n",
              "2191  2020  ...                            21.2\n",
              "\n",
              "[2192 rows x 6 columns]"
            ]
          },
          "metadata": {
            "tags": []
          },
          "execution_count": 51
        }
      ]
    },
    {
      "cell_type": "code",
      "metadata": {
        "colab": {
          "base_uri": "https://localhost:8080/",
          "height": 407
        },
        "id": "DFqeodQRpe2W",
        "outputId": "b3c97839-ccd7-497a-a4f5-9ca6119e6365"
      },
      "source": [
        "X_train = dataset[['Year', 'day_of_year', 'monthly_index','day_of_week' ]]\r\n",
        "X_train"
      ],
      "execution_count": 52,
      "outputs": [
        {
          "output_type": "execute_result",
          "data": {
            "text/html": [
              "<div>\n",
              "<style scoped>\n",
              "    .dataframe tbody tr th:only-of-type {\n",
              "        vertical-align: middle;\n",
              "    }\n",
              "\n",
              "    .dataframe tbody tr th {\n",
              "        vertical-align: top;\n",
              "    }\n",
              "\n",
              "    .dataframe thead th {\n",
              "        text-align: right;\n",
              "    }\n",
              "</style>\n",
              "<table border=\"1\" class=\"dataframe\">\n",
              "  <thead>\n",
              "    <tr style=\"text-align: right;\">\n",
              "      <th></th>\n",
              "      <th>Year</th>\n",
              "      <th>day_of_year</th>\n",
              "      <th>monthly_index</th>\n",
              "      <th>day_of_week</th>\n",
              "    </tr>\n",
              "  </thead>\n",
              "  <tbody>\n",
              "    <tr>\n",
              "      <th>0</th>\n",
              "      <td>2015</td>\n",
              "      <td>1</td>\n",
              "      <td>1</td>\n",
              "      <td>4</td>\n",
              "    </tr>\n",
              "    <tr>\n",
              "      <th>1</th>\n",
              "      <td>2015</td>\n",
              "      <td>2</td>\n",
              "      <td>1</td>\n",
              "      <td>5</td>\n",
              "    </tr>\n",
              "    <tr>\n",
              "      <th>2</th>\n",
              "      <td>2015</td>\n",
              "      <td>3</td>\n",
              "      <td>1</td>\n",
              "      <td>6</td>\n",
              "    </tr>\n",
              "    <tr>\n",
              "      <th>3</th>\n",
              "      <td>2015</td>\n",
              "      <td>4</td>\n",
              "      <td>1</td>\n",
              "      <td>7</td>\n",
              "    </tr>\n",
              "    <tr>\n",
              "      <th>4</th>\n",
              "      <td>2015</td>\n",
              "      <td>5</td>\n",
              "      <td>1</td>\n",
              "      <td>1</td>\n",
              "    </tr>\n",
              "    <tr>\n",
              "      <th>...</th>\n",
              "      <td>...</td>\n",
              "      <td>...</td>\n",
              "      <td>...</td>\n",
              "      <td>...</td>\n",
              "    </tr>\n",
              "    <tr>\n",
              "      <th>2187</th>\n",
              "      <td>2020</td>\n",
              "      <td>362</td>\n",
              "      <td>12</td>\n",
              "      <td>7</td>\n",
              "    </tr>\n",
              "    <tr>\n",
              "      <th>2188</th>\n",
              "      <td>2020</td>\n",
              "      <td>363</td>\n",
              "      <td>12</td>\n",
              "      <td>1</td>\n",
              "    </tr>\n",
              "    <tr>\n",
              "      <th>2189</th>\n",
              "      <td>2020</td>\n",
              "      <td>364</td>\n",
              "      <td>12</td>\n",
              "      <td>2</td>\n",
              "    </tr>\n",
              "    <tr>\n",
              "      <th>2190</th>\n",
              "      <td>2020</td>\n",
              "      <td>365</td>\n",
              "      <td>12</td>\n",
              "      <td>3</td>\n",
              "    </tr>\n",
              "    <tr>\n",
              "      <th>2191</th>\n",
              "      <td>2020</td>\n",
              "      <td>366</td>\n",
              "      <td>12</td>\n",
              "      <td>4</td>\n",
              "    </tr>\n",
              "  </tbody>\n",
              "</table>\n",
              "<p>2192 rows × 4 columns</p>\n",
              "</div>"
            ],
            "text/plain": [
              "      Year  day_of_year  monthly_index  day_of_week\n",
              "0     2015            1              1            4\n",
              "1     2015            2              1            5\n",
              "2     2015            3              1            6\n",
              "3     2015            4              1            7\n",
              "4     2015            5              1            1\n",
              "...    ...          ...            ...          ...\n",
              "2187  2020          362             12            7\n",
              "2188  2020          363             12            1\n",
              "2189  2020          364             12            2\n",
              "2190  2020          365             12            3\n",
              "2191  2020          366             12            4\n",
              "\n",
              "[2192 rows x 4 columns]"
            ]
          },
          "metadata": {
            "tags": []
          },
          "execution_count": 52
        }
      ]
    },
    {
      "cell_type": "code",
      "metadata": {
        "id": "I6NSXSJ3p7TR"
      },
      "source": [
        "Y_train_min_temp =  dataset['Minimum temperature (Degree C)']\r\n",
        "Y_train_max_temp = dataset['Maximum temperature (Degree C)']"
      ],
      "execution_count": 59,
      "outputs": []
    },
    {
      "cell_type": "code",
      "metadata": {
        "colab": {
          "base_uri": "https://localhost:8080/",
          "height": 407
        },
        "id": "_pRbFnlBoNzy",
        "outputId": "f70fb61c-5bb0-48dc-aa90-f651b4cafa3f"
      },
      "source": [
        "from datetime import datetime, timedelta\r\n",
        "#generating the test data set\r\n",
        "base = datetime.strptime('2021-01-01', '%Y-%m-%d')\r\n",
        "date_list = [base + timedelta(days=x) for x in range(90)]\r\n",
        "X_test = df(date_list)\r\n",
        "#renaming a column \r\n",
        "X_test.rename(columns = {0:'Date'},inplace = True)\r\n",
        "#Incorporating the monthly index. Representing January as 1 and December as 12.\r\n",
        "X_test['monthly_index'] = X_test.Date.dt.month\r\n",
        "\r\n",
        "#Incorporating the year\r\n",
        "X_test['Year'] = X_test.Date.dt.year\r\n",
        "\r\n",
        "#Incorporating the weekly index. Representing monday as 1 and sunday as 7.\r\n",
        "X_test['day_of_week'] = X_test.Date.dt.dayofweek + 1\r\n",
        "\r\n",
        "#Incorporating the day of the year\r\n",
        "X_test['day_of_year'] = X_test.Date.dt.dayofyear\r\n",
        "\r\n",
        "#rearranging columns for the test dataset\r\n",
        "X_test = X_test[['Year', 'day_of_year', 'monthly_index','day_of_week' ]]\r\n",
        "\r\n",
        "#displaying the test dataset\r\n",
        "X_test"
      ],
      "execution_count": 53,
      "outputs": [
        {
          "output_type": "execute_result",
          "data": {
            "text/html": [
              "<div>\n",
              "<style scoped>\n",
              "    .dataframe tbody tr th:only-of-type {\n",
              "        vertical-align: middle;\n",
              "    }\n",
              "\n",
              "    .dataframe tbody tr th {\n",
              "        vertical-align: top;\n",
              "    }\n",
              "\n",
              "    .dataframe thead th {\n",
              "        text-align: right;\n",
              "    }\n",
              "</style>\n",
              "<table border=\"1\" class=\"dataframe\">\n",
              "  <thead>\n",
              "    <tr style=\"text-align: right;\">\n",
              "      <th></th>\n",
              "      <th>Year</th>\n",
              "      <th>day_of_year</th>\n",
              "      <th>monthly_index</th>\n",
              "      <th>day_of_week</th>\n",
              "    </tr>\n",
              "  </thead>\n",
              "  <tbody>\n",
              "    <tr>\n",
              "      <th>0</th>\n",
              "      <td>2021</td>\n",
              "      <td>1</td>\n",
              "      <td>1</td>\n",
              "      <td>5</td>\n",
              "    </tr>\n",
              "    <tr>\n",
              "      <th>1</th>\n",
              "      <td>2021</td>\n",
              "      <td>2</td>\n",
              "      <td>1</td>\n",
              "      <td>6</td>\n",
              "    </tr>\n",
              "    <tr>\n",
              "      <th>2</th>\n",
              "      <td>2021</td>\n",
              "      <td>3</td>\n",
              "      <td>1</td>\n",
              "      <td>7</td>\n",
              "    </tr>\n",
              "    <tr>\n",
              "      <th>3</th>\n",
              "      <td>2021</td>\n",
              "      <td>4</td>\n",
              "      <td>1</td>\n",
              "      <td>1</td>\n",
              "    </tr>\n",
              "    <tr>\n",
              "      <th>4</th>\n",
              "      <td>2021</td>\n",
              "      <td>5</td>\n",
              "      <td>1</td>\n",
              "      <td>2</td>\n",
              "    </tr>\n",
              "    <tr>\n",
              "      <th>...</th>\n",
              "      <td>...</td>\n",
              "      <td>...</td>\n",
              "      <td>...</td>\n",
              "      <td>...</td>\n",
              "    </tr>\n",
              "    <tr>\n",
              "      <th>85</th>\n",
              "      <td>2021</td>\n",
              "      <td>86</td>\n",
              "      <td>3</td>\n",
              "      <td>6</td>\n",
              "    </tr>\n",
              "    <tr>\n",
              "      <th>86</th>\n",
              "      <td>2021</td>\n",
              "      <td>87</td>\n",
              "      <td>3</td>\n",
              "      <td>7</td>\n",
              "    </tr>\n",
              "    <tr>\n",
              "      <th>87</th>\n",
              "      <td>2021</td>\n",
              "      <td>88</td>\n",
              "      <td>3</td>\n",
              "      <td>1</td>\n",
              "    </tr>\n",
              "    <tr>\n",
              "      <th>88</th>\n",
              "      <td>2021</td>\n",
              "      <td>89</td>\n",
              "      <td>3</td>\n",
              "      <td>2</td>\n",
              "    </tr>\n",
              "    <tr>\n",
              "      <th>89</th>\n",
              "      <td>2021</td>\n",
              "      <td>90</td>\n",
              "      <td>3</td>\n",
              "      <td>3</td>\n",
              "    </tr>\n",
              "  </tbody>\n",
              "</table>\n",
              "<p>90 rows × 4 columns</p>\n",
              "</div>"
            ],
            "text/plain": [
              "    Year  day_of_year  monthly_index  day_of_week\n",
              "0   2021            1              1            5\n",
              "1   2021            2              1            6\n",
              "2   2021            3              1            7\n",
              "3   2021            4              1            1\n",
              "4   2021            5              1            2\n",
              "..   ...          ...            ...          ...\n",
              "85  2021           86              3            6\n",
              "86  2021           87              3            7\n",
              "87  2021           88              3            1\n",
              "88  2021           89              3            2\n",
              "89  2021           90              3            3\n",
              "\n",
              "[90 rows x 4 columns]"
            ]
          },
          "metadata": {
            "tags": []
          },
          "execution_count": 53
        }
      ]
    },
    {
      "cell_type": "code",
      "metadata": {
        "colab": {
          "base_uri": "https://localhost:8080/",
          "height": 407
        },
        "id": "OTt3JTOapA5e",
        "outputId": "939c267c-2b81-4cb6-edb1-97cb9a0aa86a"
      },
      "source": [
        "X_test"
      ],
      "execution_count": 54,
      "outputs": [
        {
          "output_type": "execute_result",
          "data": {
            "text/html": [
              "<div>\n",
              "<style scoped>\n",
              "    .dataframe tbody tr th:only-of-type {\n",
              "        vertical-align: middle;\n",
              "    }\n",
              "\n",
              "    .dataframe tbody tr th {\n",
              "        vertical-align: top;\n",
              "    }\n",
              "\n",
              "    .dataframe thead th {\n",
              "        text-align: right;\n",
              "    }\n",
              "</style>\n",
              "<table border=\"1\" class=\"dataframe\">\n",
              "  <thead>\n",
              "    <tr style=\"text-align: right;\">\n",
              "      <th></th>\n",
              "      <th>Year</th>\n",
              "      <th>day_of_year</th>\n",
              "      <th>monthly_index</th>\n",
              "      <th>day_of_week</th>\n",
              "    </tr>\n",
              "  </thead>\n",
              "  <tbody>\n",
              "    <tr>\n",
              "      <th>0</th>\n",
              "      <td>2021</td>\n",
              "      <td>1</td>\n",
              "      <td>1</td>\n",
              "      <td>5</td>\n",
              "    </tr>\n",
              "    <tr>\n",
              "      <th>1</th>\n",
              "      <td>2021</td>\n",
              "      <td>2</td>\n",
              "      <td>1</td>\n",
              "      <td>6</td>\n",
              "    </tr>\n",
              "    <tr>\n",
              "      <th>2</th>\n",
              "      <td>2021</td>\n",
              "      <td>3</td>\n",
              "      <td>1</td>\n",
              "      <td>7</td>\n",
              "    </tr>\n",
              "    <tr>\n",
              "      <th>3</th>\n",
              "      <td>2021</td>\n",
              "      <td>4</td>\n",
              "      <td>1</td>\n",
              "      <td>1</td>\n",
              "    </tr>\n",
              "    <tr>\n",
              "      <th>4</th>\n",
              "      <td>2021</td>\n",
              "      <td>5</td>\n",
              "      <td>1</td>\n",
              "      <td>2</td>\n",
              "    </tr>\n",
              "    <tr>\n",
              "      <th>...</th>\n",
              "      <td>...</td>\n",
              "      <td>...</td>\n",
              "      <td>...</td>\n",
              "      <td>...</td>\n",
              "    </tr>\n",
              "    <tr>\n",
              "      <th>85</th>\n",
              "      <td>2021</td>\n",
              "      <td>86</td>\n",
              "      <td>3</td>\n",
              "      <td>6</td>\n",
              "    </tr>\n",
              "    <tr>\n",
              "      <th>86</th>\n",
              "      <td>2021</td>\n",
              "      <td>87</td>\n",
              "      <td>3</td>\n",
              "      <td>7</td>\n",
              "    </tr>\n",
              "    <tr>\n",
              "      <th>87</th>\n",
              "      <td>2021</td>\n",
              "      <td>88</td>\n",
              "      <td>3</td>\n",
              "      <td>1</td>\n",
              "    </tr>\n",
              "    <tr>\n",
              "      <th>88</th>\n",
              "      <td>2021</td>\n",
              "      <td>89</td>\n",
              "      <td>3</td>\n",
              "      <td>2</td>\n",
              "    </tr>\n",
              "    <tr>\n",
              "      <th>89</th>\n",
              "      <td>2021</td>\n",
              "      <td>90</td>\n",
              "      <td>3</td>\n",
              "      <td>3</td>\n",
              "    </tr>\n",
              "  </tbody>\n",
              "</table>\n",
              "<p>90 rows × 4 columns</p>\n",
              "</div>"
            ],
            "text/plain": [
              "    Year  day_of_year  monthly_index  day_of_week\n",
              "0   2021            1              1            5\n",
              "1   2021            2              1            6\n",
              "2   2021            3              1            7\n",
              "3   2021            4              1            1\n",
              "4   2021            5              1            2\n",
              "..   ...          ...            ...          ...\n",
              "85  2021           86              3            6\n",
              "86  2021           87              3            7\n",
              "87  2021           88              3            1\n",
              "88  2021           89              3            2\n",
              "89  2021           90              3            3\n",
              "\n",
              "[90 rows x 4 columns]"
            ]
          },
          "metadata": {
            "tags": []
          },
          "execution_count": 54
        }
      ]
    },
    {
      "cell_type": "code",
      "metadata": {
        "colab": {
          "base_uri": "https://localhost:8080/"
        },
        "id": "eHfEKO899rUY",
        "outputId": "d1909a54-b2fc-478b-a522-4f0bbaff5487"
      },
      "source": [
        "from sklearn.preprocessing import StandardScaler\r\n",
        "\r\n",
        "#using standard scaler\r\n",
        "scaler = StandardScaler()\r\n",
        "#fit get the mean and standard deviation of the train features \r\n",
        "#while tranform applies the standardation formular\r\n",
        "X_train_StandardScaler = scaler.fit_transform(X_train) \r\n",
        "X_train_StandardScaler"
      ],
      "execution_count": 57,
      "outputs": [
        {
          "output_type": "execute_result",
          "data": {
            "text/plain": [
              "array([[-1.46381204, -1.72731051, -1.60102055,  0.        ],\n",
              "       [-1.46381204, -1.7178285 , -1.60102055,  0.50011409],\n",
              "       [-1.46381204, -1.70834648, -1.60102055,  1.00022818],\n",
              "       ...,\n",
              "       [ 1.4632779 ,  1.71466206,  1.58832244, -1.00022818],\n",
              "       [ 1.4632779 ,  1.72414407,  1.58832244, -0.50011409],\n",
              "       [ 1.4632779 ,  1.73362609,  1.58832244,  0.        ]])"
            ]
          },
          "metadata": {
            "tags": []
          },
          "execution_count": 57
        }
      ]
    },
    {
      "cell_type": "code",
      "metadata": {
        "colab": {
          "base_uri": "https://localhost:8080/"
        },
        "id": "10Cs9XsJ8kGC",
        "outputId": "12ab9f1b-1dfa-42a4-d20b-26127e7ea967"
      },
      "source": [
        "#using standard scaler\r\n",
        "scaler_test = StandardScaler()\r\n",
        "#fit get the mean and standard deviation of the train features \r\n",
        "#while tranform applies the standardation formular\r\n",
        "X_test_StandardScaler = scaler_test.fit_transform(X_test) \r\n",
        "X_test_StandardScaler"
      ],
      "execution_count": 58,
      "outputs": [
        {
          "output_type": "execute_result",
          "data": {
            "text/plain": [
              "array([[ 0.        , -1.71291154, -1.20482899,  0.49724516],\n",
              "       [ 0.        , -1.67441914, -1.20482899,  0.99449032],\n",
              "       [ 0.        , -1.63592675, -1.20482899,  1.49173547],\n",
              "       [ 0.        , -1.59743435, -1.20482899, -1.49173547],\n",
              "       [ 0.        , -1.55894196, -1.20482899, -0.99449032],\n",
              "       [ 0.        , -1.52044957, -1.20482899, -0.49724516],\n",
              "       [ 0.        , -1.48195717, -1.20482899,  0.        ],\n",
              "       [ 0.        , -1.44346478, -1.20482899,  0.49724516],\n",
              "       [ 0.        , -1.40497238, -1.20482899,  0.99449032],\n",
              "       [ 0.        , -1.36647999, -1.20482899,  1.49173547],\n",
              "       [ 0.        , -1.3279876 , -1.20482899, -1.49173547],\n",
              "       [ 0.        , -1.2894952 , -1.20482899, -0.99449032],\n",
              "       [ 0.        , -1.25100281, -1.20482899, -0.49724516],\n",
              "       [ 0.        , -1.21251041, -1.20482899,  0.        ],\n",
              "       [ 0.        , -1.17401802, -1.20482899,  0.49724516],\n",
              "       [ 0.        , -1.13552563, -1.20482899,  0.99449032],\n",
              "       [ 0.        , -1.09703323, -1.20482899,  1.49173547],\n",
              "       [ 0.        , -1.05854084, -1.20482899, -1.49173547],\n",
              "       [ 0.        , -1.02004844, -1.20482899, -0.99449032],\n",
              "       [ 0.        , -0.98155605, -1.20482899, -0.49724516],\n",
              "       [ 0.        , -0.94306366, -1.20482899,  0.        ],\n",
              "       [ 0.        , -0.90457126, -1.20482899,  0.49724516],\n",
              "       [ 0.        , -0.86607887, -1.20482899,  0.99449032],\n",
              "       [ 0.        , -0.82758647, -1.20482899,  1.49173547],\n",
              "       [ 0.        , -0.78909408, -1.20482899, -1.49173547],\n",
              "       [ 0.        , -0.75060168, -1.20482899, -0.99449032],\n",
              "       [ 0.        , -0.71210929, -1.20482899, -0.49724516],\n",
              "       [ 0.        , -0.6736169 , -1.20482899,  0.        ],\n",
              "       [ 0.        , -0.6351245 , -1.20482899,  0.49724516],\n",
              "       [ 0.        , -0.59663211, -1.20482899,  0.99449032],\n",
              "       [ 0.        , -0.55813971, -1.20482899,  1.49173547],\n",
              "       [ 0.        , -0.51964732,  0.        , -1.49173547],\n",
              "       [ 0.        , -0.48115493,  0.        , -0.99449032],\n",
              "       [ 0.        , -0.44266253,  0.        , -0.49724516],\n",
              "       [ 0.        , -0.40417014,  0.        ,  0.        ],\n",
              "       [ 0.        , -0.36567774,  0.        ,  0.49724516],\n",
              "       [ 0.        , -0.32718535,  0.        ,  0.99449032],\n",
              "       [ 0.        , -0.28869296,  0.        ,  1.49173547],\n",
              "       [ 0.        , -0.25020056,  0.        , -1.49173547],\n",
              "       [ 0.        , -0.21170817,  0.        , -0.99449032],\n",
              "       [ 0.        , -0.17321577,  0.        , -0.49724516],\n",
              "       [ 0.        , -0.13472338,  0.        ,  0.        ],\n",
              "       [ 0.        , -0.09623099,  0.        ,  0.49724516],\n",
              "       [ 0.        , -0.05773859,  0.        ,  0.99449032],\n",
              "       [ 0.        , -0.0192462 ,  0.        ,  1.49173547],\n",
              "       [ 0.        ,  0.0192462 ,  0.        , -1.49173547],\n",
              "       [ 0.        ,  0.05773859,  0.        , -0.99449032],\n",
              "       [ 0.        ,  0.09623099,  0.        , -0.49724516],\n",
              "       [ 0.        ,  0.13472338,  0.        ,  0.        ],\n",
              "       [ 0.        ,  0.17321577,  0.        ,  0.49724516],\n",
              "       [ 0.        ,  0.21170817,  0.        ,  0.99449032],\n",
              "       [ 0.        ,  0.25020056,  0.        ,  1.49173547],\n",
              "       [ 0.        ,  0.28869296,  0.        , -1.49173547],\n",
              "       [ 0.        ,  0.32718535,  0.        , -0.99449032],\n",
              "       [ 0.        ,  0.36567774,  0.        , -0.49724516],\n",
              "       [ 0.        ,  0.40417014,  0.        ,  0.        ],\n",
              "       [ 0.        ,  0.44266253,  0.        ,  0.49724516],\n",
              "       [ 0.        ,  0.48115493,  0.        ,  0.99449032],\n",
              "       [ 0.        ,  0.51964732,  0.        ,  1.49173547],\n",
              "       [ 0.        ,  0.55813971,  1.20482899, -1.49173547],\n",
              "       [ 0.        ,  0.59663211,  1.20482899, -0.99449032],\n",
              "       [ 0.        ,  0.6351245 ,  1.20482899, -0.49724516],\n",
              "       [ 0.        ,  0.6736169 ,  1.20482899,  0.        ],\n",
              "       [ 0.        ,  0.71210929,  1.20482899,  0.49724516],\n",
              "       [ 0.        ,  0.75060168,  1.20482899,  0.99449032],\n",
              "       [ 0.        ,  0.78909408,  1.20482899,  1.49173547],\n",
              "       [ 0.        ,  0.82758647,  1.20482899, -1.49173547],\n",
              "       [ 0.        ,  0.86607887,  1.20482899, -0.99449032],\n",
              "       [ 0.        ,  0.90457126,  1.20482899, -0.49724516],\n",
              "       [ 0.        ,  0.94306366,  1.20482899,  0.        ],\n",
              "       [ 0.        ,  0.98155605,  1.20482899,  0.49724516],\n",
              "       [ 0.        ,  1.02004844,  1.20482899,  0.99449032],\n",
              "       [ 0.        ,  1.05854084,  1.20482899,  1.49173547],\n",
              "       [ 0.        ,  1.09703323,  1.20482899, -1.49173547],\n",
              "       [ 0.        ,  1.13552563,  1.20482899, -0.99449032],\n",
              "       [ 0.        ,  1.17401802,  1.20482899, -0.49724516],\n",
              "       [ 0.        ,  1.21251041,  1.20482899,  0.        ],\n",
              "       [ 0.        ,  1.25100281,  1.20482899,  0.49724516],\n",
              "       [ 0.        ,  1.2894952 ,  1.20482899,  0.99449032],\n",
              "       [ 0.        ,  1.3279876 ,  1.20482899,  1.49173547],\n",
              "       [ 0.        ,  1.36647999,  1.20482899, -1.49173547],\n",
              "       [ 0.        ,  1.40497238,  1.20482899, -0.99449032],\n",
              "       [ 0.        ,  1.44346478,  1.20482899, -0.49724516],\n",
              "       [ 0.        ,  1.48195717,  1.20482899,  0.        ],\n",
              "       [ 0.        ,  1.52044957,  1.20482899,  0.49724516],\n",
              "       [ 0.        ,  1.55894196,  1.20482899,  0.99449032],\n",
              "       [ 0.        ,  1.59743435,  1.20482899,  1.49173547],\n",
              "       [ 0.        ,  1.63592675,  1.20482899, -1.49173547],\n",
              "       [ 0.        ,  1.67441914,  1.20482899, -0.99449032],\n",
              "       [ 0.        ,  1.71291154,  1.20482899, -0.49724516]])"
            ]
          },
          "metadata": {
            "tags": []
          },
          "execution_count": 58
        }
      ]
    },
    {
      "cell_type": "code",
      "metadata": {
        "colab": {
          "base_uri": "https://localhost:8080/"
        },
        "id": "MLSiXcS74qhN",
        "outputId": "27851efe-ba10-42a3-cc8d-6c123cbb8b31"
      },
      "source": [
        "svr_min =  SVR(kernel = 'linear', gamma = 'auto', degree = 3, C = 2.0)\r\n",
        "svr_min.fit(X_train_StandardScaler, Y_train_min_temp)"
      ],
      "execution_count": 60,
      "outputs": [
        {
          "output_type": "execute_result",
          "data": {
            "text/plain": [
              "SVR(C=2.0, cache_size=200, coef0=0.0, degree=3, epsilon=0.1, gamma='auto',\n",
              "    kernel='linear', max_iter=-1, shrinking=True, tol=0.001, verbose=False)"
            ]
          },
          "metadata": {
            "tags": []
          },
          "execution_count": 60
        }
      ]
    },
    {
      "cell_type": "code",
      "metadata": {
        "id": "EBsLY0Hz4qeN"
      },
      "source": [
        "test_min_temp = svr_min.predict(X_test_StandardScaler)"
      ],
      "execution_count": 70,
      "outputs": []
    },
    {
      "cell_type": "code",
      "metadata": {
        "colab": {
          "base_uri": "https://localhost:8080/"
        },
        "id": "BWzjS5J4uuP3",
        "outputId": "9ade02ec-09c2-41ae-873b-a3c1925cbf46"
      },
      "source": [
        "test_min_temp"
      ],
      "execution_count": 73,
      "outputs": [
        {
          "output_type": "execute_result",
          "data": {
            "text/plain": [
              "array([13.38308442, 13.4191009 , 13.45511738, 13.09212765, 13.12814413,\n",
              "       13.16416061, 13.20017709, 13.23619357, 13.27221005, 13.30822653,\n",
              "       12.9452368 , 12.98125328, 13.01726976, 13.05328624, 13.08930272,\n",
              "       13.1253192 , 13.16133568, 12.79834595, 12.83436243, 12.87037891,\n",
              "       12.90639539, 12.94241187, 12.97842835, 13.01444483, 12.65145511,\n",
              "       12.68747159, 12.72348807, 12.75950455, 12.79552103, 12.83153751,\n",
              "       12.86755399, 11.46716637, 11.50318285, 11.53919933, 11.57521581,\n",
              "       11.61123229, 11.64724877, 11.68326525, 11.32027552, 11.356292  ,\n",
              "       11.39230848, 11.42832496, 11.46434144, 11.50035792, 11.5363744 ,\n",
              "       11.17338468, 11.20940116, 11.24541764, 11.28143412, 11.3174506 ,\n",
              "       11.35346708, 11.38948356, 11.02649383, 11.06251031, 11.09852679,\n",
              "       11.13454327, 11.17055975, 11.20657623, 11.24259271,  9.84220509,\n",
              "        9.87822157,  9.91423805,  9.95025453,  9.98627101, 10.02228749,\n",
              "       10.05830397,  9.69531425,  9.73133073,  9.76734721,  9.80336369,\n",
              "        9.83938017,  9.87539665,  9.91141313,  9.5484234 ,  9.58443988,\n",
              "        9.62045636,  9.65647284,  9.69248932,  9.7285058 ,  9.76452228,\n",
              "        9.40153255,  9.43754903,  9.47356551,  9.50958199,  9.54559847,\n",
              "        9.58161495,  9.61763143,  9.2546417 ,  9.29065818,  9.32667466])"
            ]
          },
          "metadata": {
            "tags": []
          },
          "execution_count": 73
        }
      ]
    },
    {
      "cell_type": "code",
      "metadata": {
        "colab": {
          "base_uri": "https://localhost:8080/"
        },
        "id": "Jw39As5a4qaz",
        "outputId": "dd049f2d-94a6-47c1-ecdd-e4bec38952d8"
      },
      "source": [
        "#obtaining the parameters with the minimun mean square error of the KNN algorithm \r\n",
        "knn_max = KNeighborsRegressor(n_neighbors = 25, leaf_size = 10,  metric = 'manhattan', weights = 'uniform', algorithm = 'auto')\r\n",
        "knn_max.fit(X_train_StandardScaler, Y_train_max_temp)"
      ],
      "execution_count": 64,
      "outputs": [
        {
          "output_type": "execute_result",
          "data": {
            "text/plain": [
              "KNeighborsRegressor(algorithm='auto', leaf_size=10, metric='manhattan',\n",
              "                    metric_params=None, n_jobs=None, n_neighbors=25, p=2,\n",
              "                    weights='uniform')"
            ]
          },
          "metadata": {
            "tags": []
          },
          "execution_count": 64
        }
      ]
    },
    {
      "cell_type": "code",
      "metadata": {
        "id": "GCSC8piy4qAd"
      },
      "source": [
        "test_max_temp = knn_max.predict(X_test_StandardScaler)"
      ],
      "execution_count": 74,
      "outputs": []
    },
    {
      "cell_type": "code",
      "metadata": {
        "colab": {
          "base_uri": "https://localhost:8080/"
        },
        "id": "VC7AjkpbvE4U",
        "outputId": "b487a882-898d-40df-b241-fcbedbdc4de8"
      },
      "source": [
        "test_max_temp"
      ],
      "execution_count": 75,
      "outputs": [
        {
          "output_type": "execute_result",
          "data": {
            "text/plain": [
              "array([26.456, 28.252, 25.808, 25.612, 25.708, 26.952, 26.484, 26.636,\n",
              "       27.312, 25.924, 26.26 , 25.792, 27.568, 26.036, 24.924, 27.028,\n",
              "       25.756, 25.428, 26.108, 27.312, 25.084, 23.992, 25.604, 23.452,\n",
              "       23.572, 24.944, 26.608, 24.424, 23.444, 24.236, 22.372, 16.028,\n",
              "       15.74 , 15.492, 15.552, 15.284, 15.228, 14.984, 15.32 , 15.344,\n",
              "       15.116, 15.052, 14.388, 14.14 , 14.22 , 14.36 , 14.928, 14.644,\n",
              "       14.684, 14.82 , 14.648, 14.984, 14.36 , 14.924, 15.036, 14.808,\n",
              "       14.988, 14.528, 14.58 , 20.732, 20.484, 20.188, 20.316, 20.548,\n",
              "       18.972, 19.752, 22.044, 22.288, 21.108, 21.472, 21.216, 21.104,\n",
              "       20.872, 22.952, 22.616, 21.896, 21.432, 22.244, 22.588, 22.28 ,\n",
              "       24.516, 25.112, 25.288, 24.34 , 24.852, 22.996, 22.108, 24.512,\n",
              "       25.24 , 25.696])"
            ]
          },
          "metadata": {
            "tags": []
          },
          "execution_count": 75
        }
      ]
    },
    {
      "cell_type": "code",
      "metadata": {
        "colab": {
          "base_uri": "https://localhost:8080/",
          "height": 573
        },
        "id": "soZ0EEt-t91s",
        "outputId": "5a3cee43-cdb4-4c44-8ef9-2bb5ab07ae9c"
      },
      "source": [
        "Final_test_dataset = pd.read_csv('Final_test_dataset.csv')\r\n",
        "Final_test_dataset"
      ],
      "execution_count": 66,
      "outputs": [
        {
          "output_type": "execute_result",
          "data": {
            "text/html": [
              "<div>\n",
              "<style scoped>\n",
              "    .dataframe tbody tr th:only-of-type {\n",
              "        vertical-align: middle;\n",
              "    }\n",
              "\n",
              "    .dataframe tbody tr th {\n",
              "        vertical-align: top;\n",
              "    }\n",
              "\n",
              "    .dataframe thead th {\n",
              "        text-align: right;\n",
              "    }\n",
              "</style>\n",
              "<table border=\"1\" class=\"dataframe\">\n",
              "  <thead>\n",
              "    <tr style=\"text-align: right;\">\n",
              "      <th></th>\n",
              "      <th>Date</th>\n",
              "      <th>Day</th>\n",
              "      <th>monthly_index</th>\n",
              "      <th>Public_Holiday</th>\n",
              "      <th>Rainfall amount (millimetres)</th>\n",
              "      <th>Minimum temperature (Degree C)</th>\n",
              "      <th>Maximum temperature (Degree C)</th>\n",
              "      <th>Daily global solar exposure (MJ/m*m)</th>\n",
              "    </tr>\n",
              "  </thead>\n",
              "  <tbody>\n",
              "    <tr>\n",
              "      <th>0</th>\n",
              "      <td>1/11/2020</td>\n",
              "      <td>7</td>\n",
              "      <td>1</td>\n",
              "      <td>Not a public holiday</td>\n",
              "      <td>0.0</td>\n",
              "      <td>12.6</td>\n",
              "      <td>17.0</td>\n",
              "      <td>23.2</td>\n",
              "    </tr>\n",
              "    <tr>\n",
              "      <th>1</th>\n",
              "      <td>2/11/2020</td>\n",
              "      <td>1</td>\n",
              "      <td>2</td>\n",
              "      <td>Not a public holiday</td>\n",
              "      <td>0.0</td>\n",
              "      <td>9.6</td>\n",
              "      <td>29.5</td>\n",
              "      <td>26.8</td>\n",
              "    </tr>\n",
              "    <tr>\n",
              "      <th>2</th>\n",
              "      <td>3/11/2020</td>\n",
              "      <td>2</td>\n",
              "      <td>3</td>\n",
              "      <td>Public Holiday</td>\n",
              "      <td>0.0</td>\n",
              "      <td>12.1</td>\n",
              "      <td>30.4</td>\n",
              "      <td>26.9</td>\n",
              "    </tr>\n",
              "    <tr>\n",
              "      <th>3</th>\n",
              "      <td>4/11/2020</td>\n",
              "      <td>3</td>\n",
              "      <td>4</td>\n",
              "      <td>Not a public holiday</td>\n",
              "      <td>0.0</td>\n",
              "      <td>21.9</td>\n",
              "      <td>22.8</td>\n",
              "      <td>5.5</td>\n",
              "    </tr>\n",
              "    <tr>\n",
              "      <th>4</th>\n",
              "      <td>5/11/2020</td>\n",
              "      <td>4</td>\n",
              "      <td>5</td>\n",
              "      <td>Not a public holiday</td>\n",
              "      <td>2.8</td>\n",
              "      <td>11.1</td>\n",
              "      <td>15.8</td>\n",
              "      <td>23.1</td>\n",
              "    </tr>\n",
              "    <tr>\n",
              "      <th>...</th>\n",
              "      <td>...</td>\n",
              "      <td>...</td>\n",
              "      <td>...</td>\n",
              "      <td>...</td>\n",
              "      <td>...</td>\n",
              "      <td>...</td>\n",
              "      <td>...</td>\n",
              "      <td>...</td>\n",
              "    </tr>\n",
              "    <tr>\n",
              "      <th>146</th>\n",
              "      <td>27/03/2021</td>\n",
              "      <td>6</td>\n",
              "      <td>3</td>\n",
              "      <td>Not a public holiday</td>\n",
              "      <td>0.0</td>\n",
              "      <td>NaN</td>\n",
              "      <td>NaN</td>\n",
              "      <td>NaN</td>\n",
              "    </tr>\n",
              "    <tr>\n",
              "      <th>147</th>\n",
              "      <td>28/03/2021</td>\n",
              "      <td>7</td>\n",
              "      <td>3</td>\n",
              "      <td>Not a public holiday</td>\n",
              "      <td>9.2</td>\n",
              "      <td>NaN</td>\n",
              "      <td>NaN</td>\n",
              "      <td>NaN</td>\n",
              "    </tr>\n",
              "    <tr>\n",
              "      <th>148</th>\n",
              "      <td>29/03/2021</td>\n",
              "      <td>1</td>\n",
              "      <td>3</td>\n",
              "      <td>Not a public holiday</td>\n",
              "      <td>0.2</td>\n",
              "      <td>NaN</td>\n",
              "      <td>NaN</td>\n",
              "      <td>NaN</td>\n",
              "    </tr>\n",
              "    <tr>\n",
              "      <th>149</th>\n",
              "      <td>30/03/2021</td>\n",
              "      <td>2</td>\n",
              "      <td>3</td>\n",
              "      <td>Not a public holiday</td>\n",
              "      <td>0.2</td>\n",
              "      <td>NaN</td>\n",
              "      <td>NaN</td>\n",
              "      <td>NaN</td>\n",
              "    </tr>\n",
              "    <tr>\n",
              "      <th>150</th>\n",
              "      <td>31/03/2021</td>\n",
              "      <td>3</td>\n",
              "      <td>3</td>\n",
              "      <td>Not a public holiday</td>\n",
              "      <td>2.2</td>\n",
              "      <td>NaN</td>\n",
              "      <td>NaN</td>\n",
              "      <td>NaN</td>\n",
              "    </tr>\n",
              "  </tbody>\n",
              "</table>\n",
              "<p>151 rows × 8 columns</p>\n",
              "</div>"
            ],
            "text/plain": [
              "          Date   ...  Daily global solar exposure (MJ/m*m)\n",
              "0     1/11/2020  ...                                  23.2\n",
              "1     2/11/2020  ...                                  26.8\n",
              "2     3/11/2020  ...                                  26.9\n",
              "3     4/11/2020  ...                                   5.5\n",
              "4     5/11/2020  ...                                  23.1\n",
              "..          ...  ...                                   ...\n",
              "146  27/03/2021  ...                                   NaN\n",
              "147  28/03/2021  ...                                   NaN\n",
              "148  29/03/2021  ...                                   NaN\n",
              "149  30/03/2021  ...                                   NaN\n",
              "150  31/03/2021  ...                                   NaN\n",
              "\n",
              "[151 rows x 8 columns]"
            ]
          },
          "metadata": {
            "tags": []
          },
          "execution_count": 66
        }
      ]
    },
    {
      "cell_type": "code",
      "metadata": {
        "colab": {
          "base_uri": "https://localhost:8080/"
        },
        "id": "Fyf7_5uCuK19",
        "outputId": "666f6b41-1876-4acd-f144-d0e555e20d51"
      },
      "source": [
        "Final_test_dataset['Minimum temperature (Degree C)'][61:151] = test_min_temp"
      ],
      "execution_count": 71,
      "outputs": [
        {
          "output_type": "stream",
          "text": [
            "/usr/local/lib/python3.6/dist-packages/ipykernel_launcher.py:1: SettingWithCopyWarning: \n",
            "A value is trying to be set on a copy of a slice from a DataFrame\n",
            "\n",
            "See the caveats in the documentation: https://pandas.pydata.org/pandas-docs/stable/user_guide/indexing.html#returning-a-view-versus-a-copy\n",
            "  \"\"\"Entry point for launching an IPython kernel.\n"
          ],
          "name": "stderr"
        }
      ]
    },
    {
      "cell_type": "code",
      "metadata": {
        "colab": {
          "base_uri": "https://localhost:8080/"
        },
        "id": "n1ijj1s9upWv",
        "outputId": "59222bb9-9ca2-4bcf-b9d0-fd7612c431c0"
      },
      "source": [
        "Final_test_dataset['Minimum temperature (Degree C)'][61:151]"
      ],
      "execution_count": 72,
      "outputs": [
        {
          "output_type": "execute_result",
          "data": {
            "text/plain": [
              "61     13.383084\n",
              "62     13.419101\n",
              "63     13.455117\n",
              "64     13.092128\n",
              "65     13.128144\n",
              "         ...    \n",
              "146     9.581615\n",
              "147     9.617631\n",
              "148     9.254642\n",
              "149     9.290658\n",
              "150     9.326675\n",
              "Name: Minimum temperature (Degree C), Length: 90, dtype: float64"
            ]
          },
          "metadata": {
            "tags": []
          },
          "execution_count": 72
        }
      ]
    },
    {
      "cell_type": "code",
      "metadata": {
        "colab": {
          "base_uri": "https://localhost:8080/"
        },
        "id": "kmJOswPBuzaG",
        "outputId": "75ff9f2d-9fca-44f4-88cb-bf269c6fb2d7"
      },
      "source": [
        "Final_test_dataset['Maximum temperature (Degree C)'][61:151] = test_max_temp"
      ],
      "execution_count": 76,
      "outputs": [
        {
          "output_type": "stream",
          "text": [
            "/usr/local/lib/python3.6/dist-packages/ipykernel_launcher.py:1: SettingWithCopyWarning: \n",
            "A value is trying to be set on a copy of a slice from a DataFrame\n",
            "\n",
            "See the caveats in the documentation: https://pandas.pydata.org/pandas-docs/stable/user_guide/indexing.html#returning-a-view-versus-a-copy\n",
            "  \"\"\"Entry point for launching an IPython kernel.\n"
          ],
          "name": "stderr"
        }
      ]
    },
    {
      "cell_type": "code",
      "metadata": {
        "colab": {
          "base_uri": "https://localhost:8080/",
          "height": 573
        },
        "id": "Af9jicxzvLUl",
        "outputId": "77334b02-7d17-4378-9eb7-f4611ea6950b"
      },
      "source": [
        "Final_test_dataset"
      ],
      "execution_count": 77,
      "outputs": [
        {
          "output_type": "execute_result",
          "data": {
            "text/html": [
              "<div>\n",
              "<style scoped>\n",
              "    .dataframe tbody tr th:only-of-type {\n",
              "        vertical-align: middle;\n",
              "    }\n",
              "\n",
              "    .dataframe tbody tr th {\n",
              "        vertical-align: top;\n",
              "    }\n",
              "\n",
              "    .dataframe thead th {\n",
              "        text-align: right;\n",
              "    }\n",
              "</style>\n",
              "<table border=\"1\" class=\"dataframe\">\n",
              "  <thead>\n",
              "    <tr style=\"text-align: right;\">\n",
              "      <th></th>\n",
              "      <th>Date</th>\n",
              "      <th>Day</th>\n",
              "      <th>monthly_index</th>\n",
              "      <th>Public_Holiday</th>\n",
              "      <th>Rainfall amount (millimetres)</th>\n",
              "      <th>Minimum temperature (Degree C)</th>\n",
              "      <th>Maximum temperature (Degree C)</th>\n",
              "      <th>Daily global solar exposure (MJ/m*m)</th>\n",
              "    </tr>\n",
              "  </thead>\n",
              "  <tbody>\n",
              "    <tr>\n",
              "      <th>0</th>\n",
              "      <td>1/11/2020</td>\n",
              "      <td>7</td>\n",
              "      <td>1</td>\n",
              "      <td>Not a public holiday</td>\n",
              "      <td>0.0</td>\n",
              "      <td>12.600000</td>\n",
              "      <td>17.000</td>\n",
              "      <td>23.2</td>\n",
              "    </tr>\n",
              "    <tr>\n",
              "      <th>1</th>\n",
              "      <td>2/11/2020</td>\n",
              "      <td>1</td>\n",
              "      <td>2</td>\n",
              "      <td>Not a public holiday</td>\n",
              "      <td>0.0</td>\n",
              "      <td>9.600000</td>\n",
              "      <td>29.500</td>\n",
              "      <td>26.8</td>\n",
              "    </tr>\n",
              "    <tr>\n",
              "      <th>2</th>\n",
              "      <td>3/11/2020</td>\n",
              "      <td>2</td>\n",
              "      <td>3</td>\n",
              "      <td>Public Holiday</td>\n",
              "      <td>0.0</td>\n",
              "      <td>12.100000</td>\n",
              "      <td>30.400</td>\n",
              "      <td>26.9</td>\n",
              "    </tr>\n",
              "    <tr>\n",
              "      <th>3</th>\n",
              "      <td>4/11/2020</td>\n",
              "      <td>3</td>\n",
              "      <td>4</td>\n",
              "      <td>Not a public holiday</td>\n",
              "      <td>0.0</td>\n",
              "      <td>21.900000</td>\n",
              "      <td>22.800</td>\n",
              "      <td>5.5</td>\n",
              "    </tr>\n",
              "    <tr>\n",
              "      <th>4</th>\n",
              "      <td>5/11/2020</td>\n",
              "      <td>4</td>\n",
              "      <td>5</td>\n",
              "      <td>Not a public holiday</td>\n",
              "      <td>2.8</td>\n",
              "      <td>11.100000</td>\n",
              "      <td>15.800</td>\n",
              "      <td>23.1</td>\n",
              "    </tr>\n",
              "    <tr>\n",
              "      <th>...</th>\n",
              "      <td>...</td>\n",
              "      <td>...</td>\n",
              "      <td>...</td>\n",
              "      <td>...</td>\n",
              "      <td>...</td>\n",
              "      <td>...</td>\n",
              "      <td>...</td>\n",
              "      <td>...</td>\n",
              "    </tr>\n",
              "    <tr>\n",
              "      <th>146</th>\n",
              "      <td>27/03/2021</td>\n",
              "      <td>6</td>\n",
              "      <td>3</td>\n",
              "      <td>Not a public holiday</td>\n",
              "      <td>0.0</td>\n",
              "      <td>9.581615</td>\n",
              "      <td>22.996</td>\n",
              "      <td>NaN</td>\n",
              "    </tr>\n",
              "    <tr>\n",
              "      <th>147</th>\n",
              "      <td>28/03/2021</td>\n",
              "      <td>7</td>\n",
              "      <td>3</td>\n",
              "      <td>Not a public holiday</td>\n",
              "      <td>9.2</td>\n",
              "      <td>9.617631</td>\n",
              "      <td>22.108</td>\n",
              "      <td>NaN</td>\n",
              "    </tr>\n",
              "    <tr>\n",
              "      <th>148</th>\n",
              "      <td>29/03/2021</td>\n",
              "      <td>1</td>\n",
              "      <td>3</td>\n",
              "      <td>Not a public holiday</td>\n",
              "      <td>0.2</td>\n",
              "      <td>9.254642</td>\n",
              "      <td>24.512</td>\n",
              "      <td>NaN</td>\n",
              "    </tr>\n",
              "    <tr>\n",
              "      <th>149</th>\n",
              "      <td>30/03/2021</td>\n",
              "      <td>2</td>\n",
              "      <td>3</td>\n",
              "      <td>Not a public holiday</td>\n",
              "      <td>0.2</td>\n",
              "      <td>9.290658</td>\n",
              "      <td>25.240</td>\n",
              "      <td>NaN</td>\n",
              "    </tr>\n",
              "    <tr>\n",
              "      <th>150</th>\n",
              "      <td>31/03/2021</td>\n",
              "      <td>3</td>\n",
              "      <td>3</td>\n",
              "      <td>Not a public holiday</td>\n",
              "      <td>2.2</td>\n",
              "      <td>9.326675</td>\n",
              "      <td>25.696</td>\n",
              "      <td>NaN</td>\n",
              "    </tr>\n",
              "  </tbody>\n",
              "</table>\n",
              "<p>151 rows × 8 columns</p>\n",
              "</div>"
            ],
            "text/plain": [
              "          Date   ...  Daily global solar exposure (MJ/m*m)\n",
              "0     1/11/2020  ...                                  23.2\n",
              "1     2/11/2020  ...                                  26.8\n",
              "2     3/11/2020  ...                                  26.9\n",
              "3     4/11/2020  ...                                   5.5\n",
              "4     5/11/2020  ...                                  23.1\n",
              "..          ...  ...                                   ...\n",
              "146  27/03/2021  ...                                   NaN\n",
              "147  28/03/2021  ...                                   NaN\n",
              "148  29/03/2021  ...                                   NaN\n",
              "149  30/03/2021  ...                                   NaN\n",
              "150  31/03/2021  ...                                   NaN\n",
              "\n",
              "[151 rows x 8 columns]"
            ]
          },
          "metadata": {
            "tags": []
          },
          "execution_count": 77
        }
      ]
    },
    {
      "cell_type": "code",
      "metadata": {
        "id": "pIK-atPVvm3y"
      },
      "source": [
        "Final_test_dataset.to_csv('Final_test_dataset.csv')"
      ],
      "execution_count": 79,
      "outputs": []
    }
  ]
}