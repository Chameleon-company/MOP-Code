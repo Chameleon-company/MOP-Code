{
 "cells": [
  {
   "cell_type": "markdown",
   "metadata": {},
   "source": [
    "# Extract and Aggregate Pedestrian Data for Historical Pedestrian Dashboard\n",
    "### Hannah Catri 217569841\n",
    "This workbook extracts the monthly pedestrian data directly from Melbourne Open data and aggregates it, and exports it to a csv to make it more usable for the Tableau visualisations found here https://public.tableau.com/profile/hannah.catri4817#!/vizhome/CityOfMelbournePedestrianData_HistoricalData/CityofMelbourneHistoricalPedestrianDataTrends?publish=yes\n"
   ]
  },
  {
   "cell_type": "code",
   "execution_count": 123,
   "metadata": {},
   "outputs": [],
   "source": [
    "# Import packaged\n",
    "import pandas as pd\n",
    "from sodapy import Socrata"
   ]
  },
  {
   "cell_type": "code",
   "execution_count": 69,
   "metadata": {},
   "outputs": [
    {
     "name": "stdout",
     "output_type": "stream",
     "text": [
      "3482938\n"
     ]
    }
   ],
   "source": [
    "# Get the number of rows in the dataset\n",
    "# Save as a variable in case paging method of data retireval is needed\n",
    "num=pd.read_json(\"https://data.melbourne.vic.gov.au/resource/b2ak-trbp.json?$select=COUNT(date_time)\")\n",
    "maxNumber=num.iloc[0,0]\n",
    "print(maxNumber)"
   ]
  },
  {
   "cell_type": "code",
   "execution_count": 66,
   "metadata": {},
   "outputs": [
    {
     "name": "stderr",
     "output_type": "stream",
     "text": [
      "WARNING:root:Requests made without an app_token will be subject to strict throttling limits.\n"
     ]
    }
   ],
   "source": [
    "# Configure the Socrata client and create the generator that will retrieve the data\n",
    "client = Socrata(\"data.melbourne.vic.gov.au\", None)\n",
    "dataset_gen=client.get_all(\"b2ak-trbp\")"
   ]
  },
  {
   "cell_type": "code",
   "execution_count": 68,
   "metadata": {},
   "outputs": [
    {
     "data": {
      "text/plain": [
       "(3482938, 10)"
      ]
     },
     "execution_count": 68,
     "metadata": {},
     "output_type": "execute_result"
    }
   ],
   "source": [
    "# Extract the dataset, this may take a while.\n",
    "# Use shape to confirm the size matches the rows as per above maxNumber.\n",
    "results_df = pd.DataFrame.from_records(dataset_gen)\n",
    "results_df.shape"
   ]
  },
  {
   "cell_type": "code",
   "execution_count": 70,
   "metadata": {},
   "outputs": [
    {
     "data": {
      "text/html": [
       "<div>\n",
       "<style scoped>\n",
       "    .dataframe tbody tr th:only-of-type {\n",
       "        vertical-align: middle;\n",
       "    }\n",
       "\n",
       "    .dataframe tbody tr th {\n",
       "        vertical-align: top;\n",
       "    }\n",
       "\n",
       "    .dataframe thead th {\n",
       "        text-align: right;\n",
       "    }\n",
       "</style>\n",
       "<table border=\"1\" class=\"dataframe\">\n",
       "  <thead>\n",
       "    <tr style=\"text-align: right;\">\n",
       "      <th></th>\n",
       "      <th>id</th>\n",
       "      <th>date_time</th>\n",
       "      <th>year</th>\n",
       "      <th>month</th>\n",
       "      <th>mdate</th>\n",
       "      <th>day</th>\n",
       "      <th>time</th>\n",
       "      <th>sensor_id</th>\n",
       "      <th>sensor_name</th>\n",
       "      <th>hourly_counts</th>\n",
       "    </tr>\n",
       "  </thead>\n",
       "  <tbody>\n",
       "    <tr>\n",
       "      <td>0</td>\n",
       "      <td>2887628</td>\n",
       "      <td>2019-11-01T17:00:00.000</td>\n",
       "      <td>2019</td>\n",
       "      <td>November</td>\n",
       "      <td>1</td>\n",
       "      <td>Friday</td>\n",
       "      <td>17</td>\n",
       "      <td>34</td>\n",
       "      <td>Flinders St-Spark La</td>\n",
       "      <td>300</td>\n",
       "    </tr>\n",
       "    <tr>\n",
       "      <td>1</td>\n",
       "      <td>2887629</td>\n",
       "      <td>2019-11-01T17:00:00.000</td>\n",
       "      <td>2019</td>\n",
       "      <td>November</td>\n",
       "      <td>1</td>\n",
       "      <td>Friday</td>\n",
       "      <td>17</td>\n",
       "      <td>39</td>\n",
       "      <td>Alfred Place</td>\n",
       "      <td>604</td>\n",
       "    </tr>\n",
       "    <tr>\n",
       "      <td>2</td>\n",
       "      <td>2887630</td>\n",
       "      <td>2019-11-01T17:00:00.000</td>\n",
       "      <td>2019</td>\n",
       "      <td>November</td>\n",
       "      <td>1</td>\n",
       "      <td>Friday</td>\n",
       "      <td>17</td>\n",
       "      <td>37</td>\n",
       "      <td>Lygon St (East)</td>\n",
       "      <td>216</td>\n",
       "    </tr>\n",
       "    <tr>\n",
       "      <td>3</td>\n",
       "      <td>2887631</td>\n",
       "      <td>2019-11-01T17:00:00.000</td>\n",
       "      <td>2019</td>\n",
       "      <td>November</td>\n",
       "      <td>1</td>\n",
       "      <td>Friday</td>\n",
       "      <td>17</td>\n",
       "      <td>40</td>\n",
       "      <td>Lonsdale St-Spring St (West)</td>\n",
       "      <td>627</td>\n",
       "    </tr>\n",
       "    <tr>\n",
       "      <td>4</td>\n",
       "      <td>2887632</td>\n",
       "      <td>2019-11-01T17:00:00.000</td>\n",
       "      <td>2019</td>\n",
       "      <td>November</td>\n",
       "      <td>1</td>\n",
       "      <td>Friday</td>\n",
       "      <td>17</td>\n",
       "      <td>36</td>\n",
       "      <td>Queen St (West)</td>\n",
       "      <td>774</td>\n",
       "    </tr>\n",
       "  </tbody>\n",
       "</table>\n",
       "</div>"
      ],
      "text/plain": [
       "        id                date_time  year     month mdate     day time  \\\n",
       "0  2887628  2019-11-01T17:00:00.000  2019  November     1  Friday   17   \n",
       "1  2887629  2019-11-01T17:00:00.000  2019  November     1  Friday   17   \n",
       "2  2887630  2019-11-01T17:00:00.000  2019  November     1  Friday   17   \n",
       "3  2887631  2019-11-01T17:00:00.000  2019  November     1  Friday   17   \n",
       "4  2887632  2019-11-01T17:00:00.000  2019  November     1  Friday   17   \n",
       "\n",
       "  sensor_id                   sensor_name hourly_counts  \n",
       "0        34          Flinders St-Spark La           300  \n",
       "1        39                  Alfred Place           604  \n",
       "2        37               Lygon St (East)           216  \n",
       "3        40  Lonsdale St-Spring St (West)           627  \n",
       "4        36               Queen St (West)           774  "
      ]
     },
     "execution_count": 70,
     "metadata": {},
     "output_type": "execute_result"
    }
   ],
   "source": [
    "# Preview dataset \n",
    "results_df.head()"
   ]
  },
  {
   "cell_type": "code",
   "execution_count": 83,
   "metadata": {},
   "outputs": [
    {
     "data": {
      "text/plain": [
       "id                       object\n",
       "date_time        datetime64[ns]\n",
       "year                     object\n",
       "month                    object\n",
       "mdate                    object\n",
       "day                      object\n",
       "time                     object\n",
       "sensor_id                object\n",
       "sensor_name              object\n",
       "hourly_counts            object\n",
       "dtype: object"
      ]
     },
     "execution_count": 83,
     "metadata": {},
     "output_type": "execute_result"
    }
   ],
   "source": [
    "#Reformat data types for grouping and analysis\n",
    "#change the 'date_time' field to actual date variable\n",
    "results_df['date_time'] = pd.to_datetime(results_df['date_time'])\n",
    "#change hourly counts to int\n",
    "results_df['hourly_counts']=results_df.hourly_counts.astype(int)\n",
    "# confirm results\n",
    "results_df.dtypes"
   ]
  },
  {
   "cell_type": "code",
   "execution_count": 119,
   "metadata": {},
   "outputs": [
    {
     "data": {
      "text/html": [
       "<div>\n",
       "<style scoped>\n",
       "    .dataframe tbody tr th:only-of-type {\n",
       "        vertical-align: middle;\n",
       "    }\n",
       "\n",
       "    .dataframe tbody tr th {\n",
       "        vertical-align: top;\n",
       "    }\n",
       "\n",
       "    .dataframe thead th {\n",
       "        text-align: right;\n",
       "    }\n",
       "</style>\n",
       "<table border=\"1\" class=\"dataframe\">\n",
       "  <thead>\n",
       "    <tr style=\"text-align: right;\">\n",
       "      <th></th>\n",
       "      <th>hourly_counts</th>\n",
       "    </tr>\n",
       "    <tr>\n",
       "      <th>date_time</th>\n",
       "      <th></th>\n",
       "    </tr>\n",
       "  </thead>\n",
       "  <tbody>\n",
       "    <tr>\n",
       "      <td>2009-05-01 00:00:00</td>\n",
       "      <td>952</td>\n",
       "    </tr>\n",
       "    <tr>\n",
       "      <td>2009-05-01 01:00:00</td>\n",
       "      <td>510</td>\n",
       "    </tr>\n",
       "    <tr>\n",
       "      <td>2009-05-01 02:00:00</td>\n",
       "      <td>222</td>\n",
       "    </tr>\n",
       "    <tr>\n",
       "      <td>2009-05-01 03:00:00</td>\n",
       "      <td>188</td>\n",
       "    </tr>\n",
       "    <tr>\n",
       "      <td>2009-05-01 04:00:00</td>\n",
       "      <td>294</td>\n",
       "    </tr>\n",
       "  </tbody>\n",
       "</table>\n",
       "</div>"
      ],
      "text/plain": [
       "                     hourly_counts\n",
       "date_time                         \n",
       "2009-05-01 00:00:00            952\n",
       "2009-05-01 01:00:00            510\n",
       "2009-05-01 02:00:00            222\n",
       "2009-05-01 03:00:00            188\n",
       "2009-05-01 04:00:00            294"
      ]
     },
     "execution_count": 119,
     "metadata": {},
     "output_type": "execute_result"
    }
   ],
   "source": [
    "#create by day/hour aggregates\n",
    "grouped_by_dayTime = pd.DataFrame(results_df.groupby('date_time').hourly_counts.sum())\n",
    "grouped_by_dayTime.head()"
   ]
  },
  {
   "cell_type": "code",
   "execution_count": 121,
   "metadata": {},
   "outputs": [],
   "source": [
    "#export file to .csv to be picked up Tableau workbook\n",
    "grouped_by_dayTime.to_csv('grouped_by_dayTime.csv', encoding='utf-8')"
   ]
  }
 ],
 "metadata": {
  "kernelspec": {
   "display_name": "Python 3",
   "language": "python",
   "name": "python3"
  },
  "language_info": {
   "codemirror_mode": {
    "name": "ipython",
    "version": 3
   },
   "file_extension": ".py",
   "mimetype": "text/x-python",
   "name": "python",
   "nbconvert_exporter": "python",
   "pygments_lexer": "ipython3",
   "version": "3.7.4"
  }
 },
 "nbformat": 4,
 "nbformat_minor": 2
}
