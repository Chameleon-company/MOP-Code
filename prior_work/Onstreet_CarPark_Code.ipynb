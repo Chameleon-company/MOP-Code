{
 "cells": [
  {
   "cell_type": "code",
   "execution_count": 1,
   "metadata": {},
   "outputs": [],
   "source": [
    "# Import the relevant libraries\n",
    "import pandas as pd\n",
    "import numpy as np"
   ]
  },
  {
   "cell_type": "code",
   "execution_count": 2,
   "metadata": {},
   "outputs": [],
   "source": [
    "# Read the csv files\n",
    "car_parking_data = pd.read_csv(\"On-street_Car_Parking_Sensor_Data_-_2020__Jan_-_May.csv\")"
   ]
  },
  {
   "cell_type": "code",
   "execution_count": 3,
   "metadata": {},
   "outputs": [
    {
     "data": {
      "text/html": [
       "<div>\n",
       "<style scoped>\n",
       "    .dataframe tbody tr th:only-of-type {\n",
       "        vertical-align: middle;\n",
       "    }\n",
       "\n",
       "    .dataframe tbody tr th {\n",
       "        vertical-align: top;\n",
       "    }\n",
       "\n",
       "    .dataframe thead th {\n",
       "        text-align: right;\n",
       "    }\n",
       "</style>\n",
       "<table border=\"1\" class=\"dataframe\">\n",
       "  <thead>\n",
       "    <tr style=\"text-align: right;\">\n",
       "      <th></th>\n",
       "      <th>DeviceId</th>\n",
       "      <th>ArrivalTime</th>\n",
       "      <th>DepartureTime</th>\n",
       "      <th>DurationMinutes</th>\n",
       "      <th>StreetMarker</th>\n",
       "      <th>SignPlateID</th>\n",
       "      <th>Sign</th>\n",
       "      <th>AreaName</th>\n",
       "      <th>StreetId</th>\n",
       "      <th>StreetName</th>\n",
       "      <th>BetweenStreet1ID</th>\n",
       "      <th>BetweenStreet1</th>\n",
       "      <th>BetweenStreet2ID</th>\n",
       "      <th>BetweenStreet2</th>\n",
       "      <th>SideOfStreet</th>\n",
       "      <th>SideName</th>\n",
       "      <th>BayId</th>\n",
       "      <th>InViolation</th>\n",
       "      <th>VehiclePresent</th>\n",
       "    </tr>\n",
       "  </thead>\n",
       "  <tbody>\n",
       "    <tr>\n",
       "      <td>0</td>\n",
       "      <td>17605</td>\n",
       "      <td>01/31/2020 03:08:32 PM</td>\n",
       "      <td>01/31/2020 04:22:54 PM</td>\n",
       "      <td>74</td>\n",
       "      <td>13762E</td>\n",
       "      <td>550.0</td>\n",
       "      <td>Loading Zone 60mins</td>\n",
       "      <td>Docklands</td>\n",
       "      <td>592</td>\n",
       "      <td>DOEPEL WAY</td>\n",
       "      <td>590</td>\n",
       "      <td>DOCKLANDS DRIVE</td>\n",
       "      <td>1048.0</td>\n",
       "      <td>NEWQUAY PROMENADE</td>\n",
       "      <td>2</td>\n",
       "      <td>East</td>\n",
       "      <td>6650</td>\n",
       "      <td>0</td>\n",
       "      <td>0</td>\n",
       "    </tr>\n",
       "    <tr>\n",
       "      <td>1</td>\n",
       "      <td>17585</td>\n",
       "      <td>02/26/2020 05:43:24 AM</td>\n",
       "      <td>02/26/2020 06:52:06 AM</td>\n",
       "      <td>69</td>\n",
       "      <td>13740E</td>\n",
       "      <td>NaN</td>\n",
       "      <td>NaN</td>\n",
       "      <td>Docklands</td>\n",
       "      <td>1097</td>\n",
       "      <td>PEARL RIVER ROAD</td>\n",
       "      <td>590</td>\n",
       "      <td>DOCKLANDS DRIVE</td>\n",
       "      <td>1066.0</td>\n",
       "      <td>OBSERVATION DRIVE</td>\n",
       "      <td>2</td>\n",
       "      <td>East</td>\n",
       "      <td>6513</td>\n",
       "      <td>0</td>\n",
       "      <td>1</td>\n",
       "    </tr>\n",
       "    <tr>\n",
       "      <td>2</td>\n",
       "      <td>17562</td>\n",
       "      <td>01/13/2020 10:55:52 PM</td>\n",
       "      <td>01/13/2020 10:56:09 PM</td>\n",
       "      <td>1</td>\n",
       "      <td>13711W</td>\n",
       "      <td>NaN</td>\n",
       "      <td>NaN</td>\n",
       "      <td>Docklands</td>\n",
       "      <td>1405</td>\n",
       "      <td>WATTLE ROAD</td>\n",
       "      <td>880</td>\n",
       "      <td>LEVEN AVENUE</td>\n",
       "      <td>590.0</td>\n",
       "      <td>DOCKLANDS DRIVE</td>\n",
       "      <td>5</td>\n",
       "      <td>West</td>\n",
       "      <td>6483</td>\n",
       "      <td>0</td>\n",
       "      <td>1</td>\n",
       "    </tr>\n",
       "    <tr>\n",
       "      <td>3</td>\n",
       "      <td>17554</td>\n",
       "      <td>02/06/2020 12:00:00 AM</td>\n",
       "      <td>02/06/2020 07:30:00 AM</td>\n",
       "      <td>450</td>\n",
       "      <td>13697W</td>\n",
       "      <td>NaN</td>\n",
       "      <td>NaN</td>\n",
       "      <td>Docklands</td>\n",
       "      <td>1043</td>\n",
       "      <td>NAVIGATION DRIVE</td>\n",
       "      <td>528</td>\n",
       "      <td>COLLINS STREET</td>\n",
       "      <td>123.0</td>\n",
       "      <td>BOURKE STREET</td>\n",
       "      <td>5</td>\n",
       "      <td>West</td>\n",
       "      <td>6435</td>\n",
       "      <td>0</td>\n",
       "      <td>0</td>\n",
       "    </tr>\n",
       "    <tr>\n",
       "      <td>4</td>\n",
       "      <td>17580</td>\n",
       "      <td>01/08/2020 05:05:43 PM</td>\n",
       "      <td>01/08/2020 05:40:29 PM</td>\n",
       "      <td>35</td>\n",
       "      <td>13730E</td>\n",
       "      <td>196.0</td>\n",
       "      <td>2P MTR M-SAT 7:30-18:30</td>\n",
       "      <td>Docklands</td>\n",
       "      <td>1097</td>\n",
       "      <td>PEARL RIVER ROAD</td>\n",
       "      <td>590</td>\n",
       "      <td>DOCKLANDS DRIVE</td>\n",
       "      <td>1066.0</td>\n",
       "      <td>OBSERVATION DRIVE</td>\n",
       "      <td>2</td>\n",
       "      <td>East</td>\n",
       "      <td>6508</td>\n",
       "      <td>0</td>\n",
       "      <td>0</td>\n",
       "    </tr>\n",
       "  </tbody>\n",
       "</table>\n",
       "</div>"
      ],
      "text/plain": [
       "   DeviceId             ArrivalTime           DepartureTime  DurationMinutes  \\\n",
       "0     17605  01/31/2020 03:08:32 PM  01/31/2020 04:22:54 PM               74   \n",
       "1     17585  02/26/2020 05:43:24 AM  02/26/2020 06:52:06 AM               69   \n",
       "2     17562  01/13/2020 10:55:52 PM  01/13/2020 10:56:09 PM                1   \n",
       "3     17554  02/06/2020 12:00:00 AM  02/06/2020 07:30:00 AM              450   \n",
       "4     17580  01/08/2020 05:05:43 PM  01/08/2020 05:40:29 PM               35   \n",
       "\n",
       "  StreetMarker  SignPlateID                     Sign   AreaName  StreetId  \\\n",
       "0       13762E        550.0      Loading Zone 60mins  Docklands       592   \n",
       "1       13740E          NaN                      NaN  Docklands      1097   \n",
       "2       13711W          NaN                      NaN  Docklands      1405   \n",
       "3       13697W          NaN                      NaN  Docklands      1043   \n",
       "4       13730E        196.0  2P MTR M-SAT 7:30-18:30  Docklands      1097   \n",
       "\n",
       "         StreetName  BetweenStreet1ID   BetweenStreet1  BetweenStreet2ID  \\\n",
       "0        DOEPEL WAY               590  DOCKLANDS DRIVE            1048.0   \n",
       "1  PEARL RIVER ROAD               590  DOCKLANDS DRIVE            1066.0   \n",
       "2       WATTLE ROAD               880     LEVEN AVENUE             590.0   \n",
       "3  NAVIGATION DRIVE               528   COLLINS STREET             123.0   \n",
       "4  PEARL RIVER ROAD               590  DOCKLANDS DRIVE            1066.0   \n",
       "\n",
       "      BetweenStreet2  SideOfStreet SideName  BayId  InViolation  \\\n",
       "0  NEWQUAY PROMENADE             2     East   6650            0   \n",
       "1  OBSERVATION DRIVE             2     East   6513            0   \n",
       "2    DOCKLANDS DRIVE             5     West   6483            0   \n",
       "3      BOURKE STREET             5     West   6435            0   \n",
       "4  OBSERVATION DRIVE             2     East   6508            0   \n",
       "\n",
       "   VehiclePresent  \n",
       "0               0  \n",
       "1               1  \n",
       "2               1  \n",
       "3               0  \n",
       "4               0  "
      ]
     },
     "execution_count": 3,
     "metadata": {},
     "output_type": "execute_result"
    }
   ],
   "source": [
    "# vie the data\n",
    "car_parking_data.head()"
   ]
  },
  {
   "cell_type": "code",
   "execution_count": 4,
   "metadata": {},
   "outputs": [
    {
     "data": {
      "text/plain": [
       "Index(['DeviceId', 'ArrivalTime', 'DepartureTime', 'DurationMinutes',\n",
       "       'StreetMarker', 'SignPlateID', 'Sign', 'AreaName', 'StreetId',\n",
       "       'StreetName', 'BetweenStreet1ID', 'BetweenStreet1', 'BetweenStreet2ID',\n",
       "       'BetweenStreet2', 'SideOfStreet', 'SideName', 'BayId', 'InViolation',\n",
       "       'VehiclePresent'],\n",
       "      dtype='object')"
      ]
     },
     "execution_count": 4,
     "metadata": {},
     "output_type": "execute_result"
    }
   ],
   "source": [
    "car_parking_data.columns"
   ]
  },
  {
   "cell_type": "code",
   "execution_count": 6,
   "metadata": {},
   "outputs": [
    {
     "data": {
      "text/plain": [
       "DeviceId                  0\n",
       "ArrivalTime               0\n",
       "DepartureTime             0\n",
       "DurationMinutes           0\n",
       "StreetMarker              0\n",
       "SignPlateID         4994983\n",
       "Sign                4994983\n",
       "AreaName              37182\n",
       "StreetId                  0\n",
       "StreetName                0\n",
       "BetweenStreet1ID          0\n",
       "BetweenStreet1            0\n",
       "BetweenStreet2ID      25330\n",
       "BetweenStreet2        25330\n",
       "SideOfStreet              0\n",
       "SideName                  0\n",
       "BayId                     0\n",
       "InViolation               0\n",
       "VehiclePresent            0\n",
       "dtype: int64"
      ]
     },
     "execution_count": 6,
     "metadata": {},
     "output_type": "execute_result"
    }
   ],
   "source": [
    "# NUmber of null values in particualr columns\n",
    "car_parking_data.isna().sum()"
   ]
  },
  {
   "cell_type": "code",
   "execution_count": 13,
   "metadata": {},
   "outputs": [],
   "source": [
    "# Drop the records having null values for area , sign plate id and sign\n",
    "sensor_park_data = car_parking_data.dropna(axis=0, subset=['AreaName','SignPlateID','Sign'])"
   ]
  },
  {
   "cell_type": "code",
   "execution_count": 10,
   "metadata": {},
   "outputs": [
    {
     "data": {
      "text/plain": [
       "DeviceId              int64\n",
       "ArrivalTime          object\n",
       "DepartureTime        object\n",
       "DurationMinutes       int64\n",
       "StreetMarker         object\n",
       "SignPlateID         float64\n",
       "Sign                 object\n",
       "AreaName             object\n",
       "StreetId              int64\n",
       "StreetName           object\n",
       "BetweenStreet1ID      int64\n",
       "BetweenStreet1       object\n",
       "BetweenStreet2ID    float64\n",
       "BetweenStreet2       object\n",
       "SideOfStreet          int64\n",
       "SideName             object\n",
       "BayId                 int64\n",
       "InViolation           int64\n",
       "VehiclePresent        int64\n",
       "dtype: object"
      ]
     },
     "execution_count": 10,
     "metadata": {},
     "output_type": "execute_result"
    }
   ],
   "source": [
    "sensor_park_data.dtypes"
   ]
  },
  {
   "cell_type": "code",
   "execution_count": 14,
   "metadata": {},
   "outputs": [
    {
     "data": {
      "text/plain": [
       "9148166"
      ]
     },
     "execution_count": 14,
     "metadata": {},
     "output_type": "execute_result"
    }
   ],
   "source": [
    "len(sensor_park_data)"
   ]
  },
  {
   "cell_type": "code",
   "execution_count": 20,
   "metadata": {},
   "outputs": [
    {
     "name": "stderr",
     "output_type": "stream",
     "text": [
      "C:\\Users\\user\\anaconda\\lib\\site-packages\\ipykernel_launcher.py:2: SettingWithCopyWarning: \n",
      "A value is trying to be set on a copy of a slice from a DataFrame\n",
      "\n",
      "See the caveats in the documentation: http://pandas.pydata.org/pandas-docs/stable/user_guide/indexing.html#returning-a-view-versus-a-copy\n",
      "  \n"
     ]
    }
   ],
   "source": [
    "#  Removing rows with all duplicate values\n",
    "sensor_park_data.drop_duplicates(keep=False,inplace=True) "
   ]
  },
  {
   "cell_type": "code",
   "execution_count": 21,
   "metadata": {},
   "outputs": [
    {
     "data": {
      "text/plain": [
       "9148102"
      ]
     },
     "execution_count": 21,
     "metadata": {},
     "output_type": "execute_result"
    }
   ],
   "source": [
    "len(sensor_park_data)"
   ]
  },
  {
   "cell_type": "code",
   "execution_count": 22,
   "metadata": {},
   "outputs": [
    {
     "name": "stderr",
     "output_type": "stream",
     "text": [
      "C:\\Users\\user\\anaconda\\lib\\site-packages\\ipykernel_launcher.py:1: SettingWithCopyWarning: \n",
      "A value is trying to be set on a copy of a slice from a DataFrame.\n",
      "Try using .loc[row_indexer,col_indexer] = value instead\n",
      "\n",
      "See the caveats in the documentation: http://pandas.pydata.org/pandas-docs/stable/user_guide/indexing.html#returning-a-view-versus-a-copy\n",
      "  \"\"\"Entry point for launching an IPython kernel.\n"
     ]
    }
   ],
   "source": [
    "# Create a separate column for the conversion of string to date time format\n",
    "sensor_park_data['DepartureDateTime'] =  pd.to_datetime(sensor_park_data['DepartureTime'], infer_datetime_format=True)"
   ]
  },
  {
   "cell_type": "code",
   "execution_count": 24,
   "metadata": {},
   "outputs": [
    {
     "name": "stderr",
     "output_type": "stream",
     "text": [
      "C:\\Users\\user\\anaconda\\lib\\site-packages\\ipykernel_launcher.py:1: SettingWithCopyWarning: \n",
      "A value is trying to be set on a copy of a slice from a DataFrame.\n",
      "Try using .loc[row_indexer,col_indexer] = value instead\n",
      "\n",
      "See the caveats in the documentation: http://pandas.pydata.org/pandas-docs/stable/user_guide/indexing.html#returning-a-view-versus-a-copy\n",
      "  \"\"\"Entry point for launching an IPython kernel.\n"
     ]
    }
   ],
   "source": [
    "# Create a separate column for the conversion of string to date time format\n",
    "sensor_park_data['ArrivalDateTime'] =  pd.to_datetime(sensor_park_data['ArrivalTime'], infer_datetime_format=True)"
   ]
  },
  {
   "cell_type": "code",
   "execution_count": 25,
   "metadata": {},
   "outputs": [
    {
     "name": "stderr",
     "output_type": "stream",
     "text": [
      "C:\\Users\\user\\anaconda\\lib\\site-packages\\ipykernel_launcher.py:2: SettingWithCopyWarning: \n",
      "A value is trying to be set on a copy of a slice from a DataFrame.\n",
      "Try using .loc[row_indexer,col_indexer] = value instead\n",
      "\n",
      "See the caveats in the documentation: http://pandas.pydata.org/pandas-docs/stable/user_guide/indexing.html#returning-a-view-versus-a-copy\n",
      "  \n",
      "C:\\Users\\user\\anaconda\\lib\\site-packages\\ipykernel_launcher.py:3: SettingWithCopyWarning: \n",
      "A value is trying to be set on a copy of a slice from a DataFrame.\n",
      "Try using .loc[row_indexer,col_indexer] = value instead\n",
      "\n",
      "See the caveats in the documentation: http://pandas.pydata.org/pandas-docs/stable/user_guide/indexing.html#returning-a-view-versus-a-copy\n",
      "  This is separate from the ipykernel package so we can avoid doing imports until\n",
      "C:\\Users\\user\\anaconda\\lib\\site-packages\\ipykernel_launcher.py:4: SettingWithCopyWarning: \n",
      "A value is trying to be set on a copy of a slice from a DataFrame.\n",
      "Try using .loc[row_indexer,col_indexer] = value instead\n",
      "\n",
      "See the caveats in the documentation: http://pandas.pydata.org/pandas-docs/stable/user_guide/indexing.html#returning-a-view-versus-a-copy\n",
      "  after removing the cwd from sys.path.\n",
      "C:\\Users\\user\\anaconda\\lib\\site-packages\\ipykernel_launcher.py:5: SettingWithCopyWarning: \n",
      "A value is trying to be set on a copy of a slice from a DataFrame.\n",
      "Try using .loc[row_indexer,col_indexer] = value instead\n",
      "\n",
      "See the caveats in the documentation: http://pandas.pydata.org/pandas-docs/stable/user_guide/indexing.html#returning-a-view-versus-a-copy\n",
      "  \"\"\"\n"
     ]
    }
   ],
   "source": [
    "# extract the month and date in separate columns from the conversion columns\n",
    "import datetime as dt\n",
    "sensor_park_data['DepartureMonth'] = sensor_park_data['DepartureDateTime'].dt.month\n",
    "sensor_park_data['ArrivalMonth'] = sensor_park_data['ArrivalDateTime'].dt.month\n",
    "sensor_park_data['DepartureDay'] = sensor_park_data['DepartureDateTime'].dt.day\n",
    "sensor_park_data['ArrivalDay'] = sensor_park_data['ArrivalDateTime'].dt.day"
   ]
  },
  {
   "cell_type": "code",
   "execution_count": 27,
   "metadata": {},
   "outputs": [
    {
     "name": "stderr",
     "output_type": "stream",
     "text": [
      "C:\\Users\\user\\anaconda\\lib\\site-packages\\ipykernel_launcher.py:2: SettingWithCopyWarning: \n",
      "A value is trying to be set on a copy of a slice from a DataFrame.\n",
      "Try using .loc[row_indexer,col_indexer] = value instead\n",
      "\n",
      "See the caveats in the documentation: http://pandas.pydata.org/pandas-docs/stable/user_guide/indexing.html#returning-a-view-versus-a-copy\n",
      "  \n",
      "C:\\Users\\user\\anaconda\\lib\\site-packages\\ipykernel_launcher.py:3: SettingWithCopyWarning: \n",
      "A value is trying to be set on a copy of a slice from a DataFrame.\n",
      "Try using .loc[row_indexer,col_indexer] = value instead\n",
      "\n",
      "See the caveats in the documentation: http://pandas.pydata.org/pandas-docs/stable/user_guide/indexing.html#returning-a-view-versus-a-copy\n",
      "  This is separate from the ipykernel package so we can avoid doing imports until\n"
     ]
    }
   ],
   "source": [
    "# Convert the month datatype to string\n",
    "sensor_park_data['DepartureMonth'] = sensor_park_data['DepartureMonth'].astype(str)\n",
    "sensor_park_data['ArrivalMonth'] = sensor_park_data['ArrivalMonth'].astype(str)"
   ]
  },
  {
   "cell_type": "code",
   "execution_count": 31,
   "metadata": {},
   "outputs": [],
   "source": [
    "# replace the month numeric values to Name of the month\n",
    "sensor_park_data[\"DepartureMonth\"].replace({\"1\": \"January\", \"2\": \"February\",\"3\": \"March\", \"4\": \"April\", \"5\": \"May\"}, \n",
    "                                  inplace = True)"
   ]
  },
  {
   "cell_type": "code",
   "execution_count": 32,
   "metadata": {},
   "outputs": [],
   "source": [
    "# replace the month numeric values to Name of the month\n",
    "sensor_park_data[\"ArrivalMonth\"].replace({\"1\": \"January\", \"2\": \"February\",\"3\": \"March\", \"4\": \"April\", \"5\": \"May\"}, \n",
    "                                  inplace = True)"
   ]
  },
  {
   "cell_type": "code",
   "execution_count": 38,
   "metadata": {},
   "outputs": [
    {
     "data": {
      "text/html": [
       "<div>\n",
       "<style scoped>\n",
       "    .dataframe tbody tr th:only-of-type {\n",
       "        vertical-align: middle;\n",
       "    }\n",
       "\n",
       "    .dataframe tbody tr th {\n",
       "        vertical-align: top;\n",
       "    }\n",
       "\n",
       "    .dataframe thead th {\n",
       "        text-align: right;\n",
       "    }\n",
       "</style>\n",
       "<table border=\"1\" class=\"dataframe\">\n",
       "  <thead>\n",
       "    <tr style=\"text-align: right;\">\n",
       "      <th></th>\n",
       "      <th>DeviceId</th>\n",
       "      <th>ArrivalTime</th>\n",
       "      <th>DepartureTime</th>\n",
       "      <th>DurationMinutes</th>\n",
       "      <th>StreetMarker</th>\n",
       "      <th>SignPlateID</th>\n",
       "      <th>Sign</th>\n",
       "      <th>AreaName</th>\n",
       "      <th>StreetId</th>\n",
       "      <th>StreetName</th>\n",
       "      <th>...</th>\n",
       "      <th>BayId</th>\n",
       "      <th>InViolation</th>\n",
       "      <th>VehiclePresent</th>\n",
       "      <th>DepartureDateTime</th>\n",
       "      <th>ArrivalDateTime</th>\n",
       "      <th>DepartureMonth</th>\n",
       "      <th>ArrivalMonth</th>\n",
       "      <th>DepartureDay</th>\n",
       "      <th>ArrivalDay</th>\n",
       "      <th>hour</th>\n",
       "    </tr>\n",
       "  </thead>\n",
       "  <tbody>\n",
       "    <tr>\n",
       "      <td>0</td>\n",
       "      <td>17605</td>\n",
       "      <td>15:08:32</td>\n",
       "      <td>16:22:54</td>\n",
       "      <td>74</td>\n",
       "      <td>13762E</td>\n",
       "      <td>550.0</td>\n",
       "      <td>Loading Zone 60mins</td>\n",
       "      <td>Docklands</td>\n",
       "      <td>592</td>\n",
       "      <td>DOEPEL WAY</td>\n",
       "      <td>...</td>\n",
       "      <td>6650</td>\n",
       "      <td>0</td>\n",
       "      <td>0</td>\n",
       "      <td>2020-01-31 16:22:54</td>\n",
       "      <td>2020-01-31 15:08:32</td>\n",
       "      <td>January</td>\n",
       "      <td>January</td>\n",
       "      <td>31</td>\n",
       "      <td>31</td>\n",
       "      <td>1.23</td>\n",
       "    </tr>\n",
       "    <tr>\n",
       "      <td>4</td>\n",
       "      <td>17580</td>\n",
       "      <td>17:05:43</td>\n",
       "      <td>17:40:29</td>\n",
       "      <td>35</td>\n",
       "      <td>13730E</td>\n",
       "      <td>196.0</td>\n",
       "      <td>2P MTR M-SAT 7:30-18:30</td>\n",
       "      <td>Docklands</td>\n",
       "      <td>1097</td>\n",
       "      <td>PEARL RIVER ROAD</td>\n",
       "      <td>...</td>\n",
       "      <td>6508</td>\n",
       "      <td>0</td>\n",
       "      <td>0</td>\n",
       "      <td>2020-01-08 17:40:29</td>\n",
       "      <td>2020-01-08 17:05:43</td>\n",
       "      <td>January</td>\n",
       "      <td>January</td>\n",
       "      <td>8</td>\n",
       "      <td>8</td>\n",
       "      <td>0.58</td>\n",
       "    </tr>\n",
       "    <tr>\n",
       "      <td>6</td>\n",
       "      <td>17585</td>\n",
       "      <td>11:17:35</td>\n",
       "      <td>11:17:55</td>\n",
       "      <td>0</td>\n",
       "      <td>13740E</td>\n",
       "      <td>196.0</td>\n",
       "      <td>2P MTR M-SAT 7:30-18:30</td>\n",
       "      <td>Docklands</td>\n",
       "      <td>1097</td>\n",
       "      <td>PEARL RIVER ROAD</td>\n",
       "      <td>...</td>\n",
       "      <td>6513</td>\n",
       "      <td>0</td>\n",
       "      <td>1</td>\n",
       "      <td>2020-03-18 11:17:55</td>\n",
       "      <td>2020-03-18 11:17:35</td>\n",
       "      <td>March</td>\n",
       "      <td>March</td>\n",
       "      <td>18</td>\n",
       "      <td>18</td>\n",
       "      <td>0.00</td>\n",
       "    </tr>\n",
       "    <tr>\n",
       "      <td>8</td>\n",
       "      <td>17538</td>\n",
       "      <td>08:35:23</td>\n",
       "      <td>08:40:17</td>\n",
       "      <td>5</td>\n",
       "      <td>13668E</td>\n",
       "      <td>196.0</td>\n",
       "      <td>2P MTR M-SAT 7:30-18:30</td>\n",
       "      <td>Docklands</td>\n",
       "      <td>826</td>\n",
       "      <td>KARLSRUHE LANE</td>\n",
       "      <td>...</td>\n",
       "      <td>6421</td>\n",
       "      <td>0</td>\n",
       "      <td>1</td>\n",
       "      <td>2020-01-28 08:40:17</td>\n",
       "      <td>2020-01-28 08:35:23</td>\n",
       "      <td>January</td>\n",
       "      <td>January</td>\n",
       "      <td>28</td>\n",
       "      <td>28</td>\n",
       "      <td>0.08</td>\n",
       "    </tr>\n",
       "    <tr>\n",
       "      <td>9</td>\n",
       "      <td>17579</td>\n",
       "      <td>12:29:49</td>\n",
       "      <td>13:34:06</td>\n",
       "      <td>65</td>\n",
       "      <td>13728E</td>\n",
       "      <td>196.0</td>\n",
       "      <td>2P MTR M-SAT 7:30-18:30</td>\n",
       "      <td>Docklands</td>\n",
       "      <td>1097</td>\n",
       "      <td>PEARL RIVER ROAD</td>\n",
       "      <td>...</td>\n",
       "      <td>6507</td>\n",
       "      <td>0</td>\n",
       "      <td>0</td>\n",
       "      <td>2020-01-11 13:34:06</td>\n",
       "      <td>2020-01-11 12:29:49</td>\n",
       "      <td>January</td>\n",
       "      <td>January</td>\n",
       "      <td>11</td>\n",
       "      <td>11</td>\n",
       "      <td>1.08</td>\n",
       "    </tr>\n",
       "  </tbody>\n",
       "</table>\n",
       "<p>5 rows × 26 columns</p>\n",
       "</div>"
      ],
      "text/plain": [
       "   DeviceId ArrivalTime DepartureTime  DurationMinutes StreetMarker  \\\n",
       "0     17605    15:08:32      16:22:54               74       13762E   \n",
       "4     17580    17:05:43      17:40:29               35       13730E   \n",
       "6     17585    11:17:35      11:17:55                0       13740E   \n",
       "8     17538    08:35:23      08:40:17                5       13668E   \n",
       "9     17579    12:29:49      13:34:06               65       13728E   \n",
       "\n",
       "   SignPlateID                     Sign   AreaName  StreetId  \\\n",
       "0        550.0      Loading Zone 60mins  Docklands       592   \n",
       "4        196.0  2P MTR M-SAT 7:30-18:30  Docklands      1097   \n",
       "6        196.0  2P MTR M-SAT 7:30-18:30  Docklands      1097   \n",
       "8        196.0  2P MTR M-SAT 7:30-18:30  Docklands       826   \n",
       "9        196.0  2P MTR M-SAT 7:30-18:30  Docklands      1097   \n",
       "\n",
       "         StreetName  ...  BayId InViolation  VehiclePresent  \\\n",
       "0        DOEPEL WAY  ...   6650           0               0   \n",
       "4  PEARL RIVER ROAD  ...   6508           0               0   \n",
       "6  PEARL RIVER ROAD  ...   6513           0               1   \n",
       "8    KARLSRUHE LANE  ...   6421           0               1   \n",
       "9  PEARL RIVER ROAD  ...   6507           0               0   \n",
       "\n",
       "    DepartureDateTime     ArrivalDateTime DepartureMonth  ArrivalMonth  \\\n",
       "0 2020-01-31 16:22:54 2020-01-31 15:08:32        January       January   \n",
       "4 2020-01-08 17:40:29 2020-01-08 17:05:43        January       January   \n",
       "6 2020-03-18 11:17:55 2020-03-18 11:17:35          March         March   \n",
       "8 2020-01-28 08:40:17 2020-01-28 08:35:23        January       January   \n",
       "9 2020-01-11 13:34:06 2020-01-11 12:29:49        January       January   \n",
       "\n",
       "   DepartureDay  ArrivalDay  hour  \n",
       "0            31          31  1.23  \n",
       "4             8           8  0.58  \n",
       "6            18          18  0.00  \n",
       "8            28          28  0.08  \n",
       "9            11          11  1.08  \n",
       "\n",
       "[5 rows x 26 columns]"
      ]
     },
     "execution_count": 38,
     "metadata": {},
     "output_type": "execute_result"
    }
   ],
   "source": [
    "sensor_park_data.head()"
   ]
  },
  {
   "cell_type": "code",
   "execution_count": 34,
   "metadata": {},
   "outputs": [
    {
     "name": "stderr",
     "output_type": "stream",
     "text": [
      "C:\\Users\\user\\anaconda\\lib\\site-packages\\ipykernel_launcher.py:1: SettingWithCopyWarning: \n",
      "A value is trying to be set on a copy of a slice from a DataFrame.\n",
      "Try using .loc[row_indexer,col_indexer] = value instead\n",
      "\n",
      "See the caveats in the documentation: http://pandas.pydata.org/pandas-docs/stable/user_guide/indexing.html#returning-a-view-versus-a-copy\n",
      "  \"\"\"Entry point for launching an IPython kernel.\n"
     ]
    }
   ],
   "source": [
    "# calculate the hours in separate column\n",
    "sensor_park_data['hour'] = round(sensor_park_data['DurationMinutes'] / 60,2)"
   ]
  },
  {
   "cell_type": "code",
   "execution_count": 35,
   "metadata": {},
   "outputs": [
    {
     "name": "stderr",
     "output_type": "stream",
     "text": [
      "C:\\Users\\user\\anaconda\\lib\\site-packages\\ipykernel_launcher.py:1: SettingWithCopyWarning: \n",
      "A value is trying to be set on a copy of a slice from a DataFrame.\n",
      "Try using .loc[row_indexer,col_indexer] = value instead\n",
      "\n",
      "See the caveats in the documentation: http://pandas.pydata.org/pandas-docs/stable/user_guide/indexing.html#returning-a-view-versus-a-copy\n",
      "  \"\"\"Entry point for launching an IPython kernel.\n",
      "C:\\Users\\user\\anaconda\\lib\\site-packages\\ipykernel_launcher.py:2: SettingWithCopyWarning: \n",
      "A value is trying to be set on a copy of a slice from a DataFrame.\n",
      "Try using .loc[row_indexer,col_indexer] = value instead\n",
      "\n",
      "See the caveats in the documentation: http://pandas.pydata.org/pandas-docs/stable/user_guide/indexing.html#returning-a-view-versus-a-copy\n",
      "  \n"
     ]
    }
   ],
   "source": [
    "# Extract the time in separate columns\n",
    "sensor_park_data['DepartureTime'] = sensor_park_data['DepartureDateTime'].dt.time\n",
    "sensor_park_data['ArrivalTime'] = sensor_park_data['ArrivalDateTime'].dt.time"
   ]
  },
  {
   "cell_type": "code",
   "execution_count": 49,
   "metadata": {},
   "outputs": [
    {
     "data": {
      "text/plain": [
       "array(['January', 'March', 'February', 'April', 'May'], dtype=object)"
      ]
     },
     "execution_count": 49,
     "metadata": {},
     "output_type": "execute_result"
    }
   ],
   "source": [
    "sensor_park_data['ArrivalMonth'].unique()"
   ]
  },
  {
   "cell_type": "code",
   "execution_count": 47,
   "metadata": {},
   "outputs": [],
   "source": [
    "# Delele the garbage records\n",
    "sensor_park_data.drop(sensor_park_data[sensor_park_data['DepartureMonth'] == '9'].index,inplace = True)"
   ]
  },
  {
   "cell_type": "code",
   "execution_count": 50,
   "metadata": {},
   "outputs": [],
   "source": [
    "# load the file into csv format\n",
    "sensor_park_data.to_csv('sensor_park_data.csv', index=False)"
   ]
  }
 ],
 "metadata": {
  "kernelspec": {
   "display_name": "Python 3",
   "language": "python",
   "name": "python3"
  },
  "language_info": {
   "codemirror_mode": {
    "name": "ipython",
    "version": 3
   },
   "file_extension": ".py",
   "mimetype": "text/x-python",
   "name": "python",
   "nbconvert_exporter": "python",
   "pygments_lexer": "ipython3",
   "version": "3.7.4"
  }
 },
 "nbformat": 4,
 "nbformat_minor": 2
}
