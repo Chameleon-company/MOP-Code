{
 "cells": [
  {
   "cell_type": "code",
   "execution_count": 3,
   "metadata": {},
   "outputs": [],
   "source": [
    "import pandas as pd\n",
    "import numpy as np"
   ]
  },
  {
   "cell_type": "code",
   "execution_count": 4,
   "metadata": {},
   "outputs": [],
   "source": [
    "file = 'On-street_Car_Parking_Sensor_Data_-_2020__Jan_-_May_1'"
   ]
  },
  {
   "cell_type": "code",
   "execution_count": 5,
   "metadata": {},
   "outputs": [],
   "source": [
    "df = pd.read_csv(\"C:/Users/ramesh-pc/Desktop/On-street_Car_Parking_Sensor_Data_-_2020__Jan_-_May_1.csv\")"
   ]
  },
  {
   "cell_type": "code",
   "execution_count": 6,
   "metadata": {},
   "outputs": [
    {
     "data": {
      "text/html": [
       "<div>\n",
       "<style scoped>\n",
       "    .dataframe tbody tr th:only-of-type {\n",
       "        vertical-align: middle;\n",
       "    }\n",
       "\n",
       "    .dataframe tbody tr th {\n",
       "        vertical-align: top;\n",
       "    }\n",
       "\n",
       "    .dataframe thead th {\n",
       "        text-align: right;\n",
       "    }\n",
       "</style>\n",
       "<table border=\"1\" class=\"dataframe\">\n",
       "  <thead>\n",
       "    <tr style=\"text-align: right;\">\n",
       "      <th></th>\n",
       "      <th>DeviceId</th>\n",
       "      <th>ArrivalTime</th>\n",
       "      <th>DepartureTime</th>\n",
       "      <th>DurationMinutes</th>\n",
       "      <th>StreetMarker</th>\n",
       "      <th>SignPlateID</th>\n",
       "      <th>Sign</th>\n",
       "      <th>AreaName</th>\n",
       "      <th>StreetId</th>\n",
       "      <th>StreetName</th>\n",
       "      <th>BetweenStreet1ID</th>\n",
       "      <th>BetweenStreet1</th>\n",
       "      <th>BetweenStreet2ID</th>\n",
       "      <th>BetweenStreet2</th>\n",
       "      <th>SideOfStreet</th>\n",
       "      <th>SideName</th>\n",
       "      <th>BayId</th>\n",
       "      <th>InViolation</th>\n",
       "      <th>VehiclePresent</th>\n",
       "    </tr>\n",
       "  </thead>\n",
       "  <tbody>\n",
       "    <tr>\n",
       "      <td>0</td>\n",
       "      <td>17605</td>\n",
       "      <td>01/31/2020 03:08:32 PM</td>\n",
       "      <td>01/31/2020 04:22:54 PM</td>\n",
       "      <td>74</td>\n",
       "      <td>13762E</td>\n",
       "      <td>550.0</td>\n",
       "      <td>Loading Zone 60mins</td>\n",
       "      <td>Docklands</td>\n",
       "      <td>592</td>\n",
       "      <td>DOEPEL WAY</td>\n",
       "      <td>590</td>\n",
       "      <td>DOCKLANDS DRIVE</td>\n",
       "      <td>1048.0</td>\n",
       "      <td>NEWQUAY PROMENADE</td>\n",
       "      <td>2</td>\n",
       "      <td>East</td>\n",
       "      <td>6650</td>\n",
       "      <td>0</td>\n",
       "      <td>0</td>\n",
       "    </tr>\n",
       "    <tr>\n",
       "      <td>1</td>\n",
       "      <td>17585</td>\n",
       "      <td>02/26/2020 05:43:24 AM</td>\n",
       "      <td>02/26/2020 06:52:06 AM</td>\n",
       "      <td>69</td>\n",
       "      <td>13740E</td>\n",
       "      <td>NaN</td>\n",
       "      <td>NaN</td>\n",
       "      <td>Docklands</td>\n",
       "      <td>1097</td>\n",
       "      <td>PEARL RIVER ROAD</td>\n",
       "      <td>590</td>\n",
       "      <td>DOCKLANDS DRIVE</td>\n",
       "      <td>1066.0</td>\n",
       "      <td>OBSERVATION DRIVE</td>\n",
       "      <td>2</td>\n",
       "      <td>East</td>\n",
       "      <td>6513</td>\n",
       "      <td>0</td>\n",
       "      <td>1</td>\n",
       "    </tr>\n",
       "    <tr>\n",
       "      <td>2</td>\n",
       "      <td>17562</td>\n",
       "      <td>01/13/2020 10:55:52 PM</td>\n",
       "      <td>01/13/2020 10:56:09 PM</td>\n",
       "      <td>1</td>\n",
       "      <td>13711W</td>\n",
       "      <td>NaN</td>\n",
       "      <td>NaN</td>\n",
       "      <td>Docklands</td>\n",
       "      <td>1405</td>\n",
       "      <td>WATTLE ROAD</td>\n",
       "      <td>880</td>\n",
       "      <td>LEVEN AVENUE</td>\n",
       "      <td>590.0</td>\n",
       "      <td>DOCKLANDS DRIVE</td>\n",
       "      <td>5</td>\n",
       "      <td>West</td>\n",
       "      <td>6483</td>\n",
       "      <td>0</td>\n",
       "      <td>1</td>\n",
       "    </tr>\n",
       "    <tr>\n",
       "      <td>3</td>\n",
       "      <td>17554</td>\n",
       "      <td>02/06/2020 12:00:00 AM</td>\n",
       "      <td>02/06/2020 07:30:00 AM</td>\n",
       "      <td>450</td>\n",
       "      <td>13697W</td>\n",
       "      <td>NaN</td>\n",
       "      <td>NaN</td>\n",
       "      <td>Docklands</td>\n",
       "      <td>1043</td>\n",
       "      <td>NAVIGATION DRIVE</td>\n",
       "      <td>528</td>\n",
       "      <td>COLLINS STREET</td>\n",
       "      <td>123.0</td>\n",
       "      <td>BOURKE STREET</td>\n",
       "      <td>5</td>\n",
       "      <td>West</td>\n",
       "      <td>6435</td>\n",
       "      <td>0</td>\n",
       "      <td>0</td>\n",
       "    </tr>\n",
       "    <tr>\n",
       "      <td>4</td>\n",
       "      <td>17580</td>\n",
       "      <td>01/08/2020 05:05:43 PM</td>\n",
       "      <td>01/08/2020 05:40:29 PM</td>\n",
       "      <td>35</td>\n",
       "      <td>13730E</td>\n",
       "      <td>196.0</td>\n",
       "      <td>2P MTR M-SAT 7:30-18:30</td>\n",
       "      <td>Docklands</td>\n",
       "      <td>1097</td>\n",
       "      <td>PEARL RIVER ROAD</td>\n",
       "      <td>590</td>\n",
       "      <td>DOCKLANDS DRIVE</td>\n",
       "      <td>1066.0</td>\n",
       "      <td>OBSERVATION DRIVE</td>\n",
       "      <td>2</td>\n",
       "      <td>East</td>\n",
       "      <td>6508</td>\n",
       "      <td>0</td>\n",
       "      <td>0</td>\n",
       "    </tr>\n",
       "    <tr>\n",
       "      <td>...</td>\n",
       "      <td>...</td>\n",
       "      <td>...</td>\n",
       "      <td>...</td>\n",
       "      <td>...</td>\n",
       "      <td>...</td>\n",
       "      <td>...</td>\n",
       "      <td>...</td>\n",
       "      <td>...</td>\n",
       "      <td>...</td>\n",
       "      <td>...</td>\n",
       "      <td>...</td>\n",
       "      <td>...</td>\n",
       "      <td>...</td>\n",
       "      <td>...</td>\n",
       "      <td>...</td>\n",
       "      <td>...</td>\n",
       "      <td>...</td>\n",
       "      <td>...</td>\n",
       "      <td>...</td>\n",
       "    </tr>\n",
       "    <tr>\n",
       "      <td>14165820</td>\n",
       "      <td>29372</td>\n",
       "      <td>05/12/2020 11:06:02 PM</td>\n",
       "      <td>05/13/2020 12:00:00 AM</td>\n",
       "      <td>54</td>\n",
       "      <td>13347W</td>\n",
       "      <td>NaN</td>\n",
       "      <td>NaN</td>\n",
       "      <td>Docklands</td>\n",
       "      <td>79</td>\n",
       "      <td>BATMANS HILL DRIVE</td>\n",
       "      <td>123</td>\n",
       "      <td>BOURKE STREET</td>\n",
       "      <td>1400.0</td>\n",
       "      <td>WATERVIEW WALK</td>\n",
       "      <td>5</td>\n",
       "      <td>West</td>\n",
       "      <td>6272</td>\n",
       "      <td>0</td>\n",
       "      <td>0</td>\n",
       "    </tr>\n",
       "    <tr>\n",
       "      <td>14165821</td>\n",
       "      <td>29447</td>\n",
       "      <td>05/11/2020 03:10:00 PM</td>\n",
       "      <td>05/11/2020 05:11:46 PM</td>\n",
       "      <td>121</td>\n",
       "      <td>11753W</td>\n",
       "      <td>196.0</td>\n",
       "      <td>2P MTR M-SAT 7:30-18:30</td>\n",
       "      <td>Jolimont</td>\n",
       "      <td>706</td>\n",
       "      <td>GISBORNE STREET</td>\n",
       "      <td>16</td>\n",
       "      <td>ALBERT STREET</td>\n",
       "      <td>178.0</td>\n",
       "      <td>CATHEDRAL PLACE</td>\n",
       "      <td>5</td>\n",
       "      <td>West</td>\n",
       "      <td>5409</td>\n",
       "      <td>0</td>\n",
       "      <td>1</td>\n",
       "    </tr>\n",
       "    <tr>\n",
       "      <td>14165822</td>\n",
       "      <td>29447</td>\n",
       "      <td>05/16/2020 12:00:00 AM</td>\n",
       "      <td>05/16/2020 07:30:00 AM</td>\n",
       "      <td>450</td>\n",
       "      <td>11753W</td>\n",
       "      <td>NaN</td>\n",
       "      <td>NaN</td>\n",
       "      <td>Jolimont</td>\n",
       "      <td>706</td>\n",
       "      <td>GISBORNE STREET</td>\n",
       "      <td>16</td>\n",
       "      <td>ALBERT STREET</td>\n",
       "      <td>178.0</td>\n",
       "      <td>CATHEDRAL PLACE</td>\n",
       "      <td>5</td>\n",
       "      <td>West</td>\n",
       "      <td>5409</td>\n",
       "      <td>0</td>\n",
       "      <td>0</td>\n",
       "    </tr>\n",
       "    <tr>\n",
       "      <td>14165823</td>\n",
       "      <td>29451</td>\n",
       "      <td>05/15/2020 04:48:34 AM</td>\n",
       "      <td>05/15/2020 03:34:58 PM</td>\n",
       "      <td>646</td>\n",
       "      <td>11814E</td>\n",
       "      <td>NaN</td>\n",
       "      <td>NaN</td>\n",
       "      <td>Jolimont</td>\n",
       "      <td>869</td>\n",
       "      <td>LANSDOWNE STREET</td>\n",
       "      <td>1290</td>\n",
       "      <td>ST ANDREWS PLACE</td>\n",
       "      <td>1413.0</td>\n",
       "      <td>WELLINGTON PARADE</td>\n",
       "      <td>2</td>\n",
       "      <td>East</td>\n",
       "      <td>5431</td>\n",
       "      <td>0</td>\n",
       "      <td>1</td>\n",
       "    </tr>\n",
       "    <tr>\n",
       "      <td>14165824</td>\n",
       "      <td>29494</td>\n",
       "      <td>05/25/2020 08:36:38 AM</td>\n",
       "      <td>05/25/2020 10:00:00 AM</td>\n",
       "      <td>84</td>\n",
       "      <td>4505W</td>\n",
       "      <td>NaN</td>\n",
       "      <td>NaN</td>\n",
       "      <td>West Melbourne</td>\n",
       "      <td>839</td>\n",
       "      <td>KING STREET</td>\n",
       "      <td>818</td>\n",
       "      <td>JEFFCOTT STREET</td>\n",
       "      <td>856.0</td>\n",
       "      <td>LA TROBE STREET</td>\n",
       "      <td>5</td>\n",
       "      <td>West</td>\n",
       "      <td>5272</td>\n",
       "      <td>0</td>\n",
       "      <td>0</td>\n",
       "    </tr>\n",
       "  </tbody>\n",
       "</table>\n",
       "<p>14165825 rows × 19 columns</p>\n",
       "</div>"
      ],
      "text/plain": [
       "          DeviceId             ArrivalTime           DepartureTime  \\\n",
       "0            17605  01/31/2020 03:08:32 PM  01/31/2020 04:22:54 PM   \n",
       "1            17585  02/26/2020 05:43:24 AM  02/26/2020 06:52:06 AM   \n",
       "2            17562  01/13/2020 10:55:52 PM  01/13/2020 10:56:09 PM   \n",
       "3            17554  02/06/2020 12:00:00 AM  02/06/2020 07:30:00 AM   \n",
       "4            17580  01/08/2020 05:05:43 PM  01/08/2020 05:40:29 PM   \n",
       "...            ...                     ...                     ...   \n",
       "14165820     29372  05/12/2020 11:06:02 PM  05/13/2020 12:00:00 AM   \n",
       "14165821     29447  05/11/2020 03:10:00 PM  05/11/2020 05:11:46 PM   \n",
       "14165822     29447  05/16/2020 12:00:00 AM  05/16/2020 07:30:00 AM   \n",
       "14165823     29451  05/15/2020 04:48:34 AM  05/15/2020 03:34:58 PM   \n",
       "14165824     29494  05/25/2020 08:36:38 AM  05/25/2020 10:00:00 AM   \n",
       "\n",
       "          DurationMinutes StreetMarker  SignPlateID                     Sign  \\\n",
       "0                      74       13762E        550.0      Loading Zone 60mins   \n",
       "1                      69       13740E          NaN                      NaN   \n",
       "2                       1       13711W          NaN                      NaN   \n",
       "3                     450       13697W          NaN                      NaN   \n",
       "4                      35       13730E        196.0  2P MTR M-SAT 7:30-18:30   \n",
       "...                   ...          ...          ...                      ...   \n",
       "14165820               54       13347W          NaN                      NaN   \n",
       "14165821              121       11753W        196.0  2P MTR M-SAT 7:30-18:30   \n",
       "14165822              450       11753W          NaN                      NaN   \n",
       "14165823              646       11814E          NaN                      NaN   \n",
       "14165824               84        4505W          NaN                      NaN   \n",
       "\n",
       "                AreaName  StreetId          StreetName  BetweenStreet1ID  \\\n",
       "0              Docklands       592          DOEPEL WAY               590   \n",
       "1              Docklands      1097    PEARL RIVER ROAD               590   \n",
       "2              Docklands      1405         WATTLE ROAD               880   \n",
       "3              Docklands      1043    NAVIGATION DRIVE               528   \n",
       "4              Docklands      1097    PEARL RIVER ROAD               590   \n",
       "...                  ...       ...                 ...               ...   \n",
       "14165820       Docklands        79  BATMANS HILL DRIVE               123   \n",
       "14165821        Jolimont       706     GISBORNE STREET                16   \n",
       "14165822        Jolimont       706     GISBORNE STREET                16   \n",
       "14165823        Jolimont       869    LANSDOWNE STREET              1290   \n",
       "14165824  West Melbourne       839         KING STREET               818   \n",
       "\n",
       "            BetweenStreet1  BetweenStreet2ID     BetweenStreet2  SideOfStreet  \\\n",
       "0          DOCKLANDS DRIVE            1048.0  NEWQUAY PROMENADE             2   \n",
       "1          DOCKLANDS DRIVE            1066.0  OBSERVATION DRIVE             2   \n",
       "2             LEVEN AVENUE             590.0    DOCKLANDS DRIVE             5   \n",
       "3           COLLINS STREET             123.0      BOURKE STREET             5   \n",
       "4          DOCKLANDS DRIVE            1066.0  OBSERVATION DRIVE             2   \n",
       "...                    ...               ...                ...           ...   \n",
       "14165820     BOURKE STREET            1400.0     WATERVIEW WALK             5   \n",
       "14165821     ALBERT STREET             178.0    CATHEDRAL PLACE             5   \n",
       "14165822     ALBERT STREET             178.0    CATHEDRAL PLACE             5   \n",
       "14165823  ST ANDREWS PLACE            1413.0  WELLINGTON PARADE             2   \n",
       "14165824   JEFFCOTT STREET             856.0    LA TROBE STREET             5   \n",
       "\n",
       "         SideName  BayId  InViolation  VehiclePresent  \n",
       "0            East   6650            0               0  \n",
       "1            East   6513            0               1  \n",
       "2            West   6483            0               1  \n",
       "3            West   6435            0               0  \n",
       "4            East   6508            0               0  \n",
       "...           ...    ...          ...             ...  \n",
       "14165820     West   6272            0               0  \n",
       "14165821     West   5409            0               1  \n",
       "14165822     West   5409            0               0  \n",
       "14165823     East   5431            0               1  \n",
       "14165824     West   5272            0               0  \n",
       "\n",
       "[14165825 rows x 19 columns]"
      ]
     },
     "execution_count": 6,
     "metadata": {},
     "output_type": "execute_result"
    }
   ],
   "source": [
    "df"
   ]
  },
  {
   "cell_type": "code",
   "execution_count": 7,
   "metadata": {},
   "outputs": [
    {
     "data": {
      "text/plain": [
       "Index(['DeviceId', 'ArrivalTime', 'DepartureTime', 'DurationMinutes',\n",
       "       'StreetMarker', 'SignPlateID', 'Sign', 'AreaName', 'StreetId',\n",
       "       'StreetName', 'BetweenStreet1ID', 'BetweenStreet1', 'BetweenStreet2ID',\n",
       "       'BetweenStreet2', 'SideOfStreet', 'SideName', 'BayId', 'InViolation',\n",
       "       'VehiclePresent'],\n",
       "      dtype='object')"
      ]
     },
     "execution_count": 7,
     "metadata": {},
     "output_type": "execute_result"
    }
   ],
   "source": [
    "df.columns   ### name of the columns"
   ]
  },
  {
   "cell_type": "code",
   "execution_count": 8,
   "metadata": {},
   "outputs": [
    {
     "data": {
      "text/plain": [
       "DeviceId            False\n",
       "ArrivalTime         False\n",
       "DepartureTime       False\n",
       "DurationMinutes     False\n",
       "StreetMarker        False\n",
       "SignPlateID          True\n",
       "Sign                 True\n",
       "AreaName             True\n",
       "StreetId            False\n",
       "StreetName          False\n",
       "BetweenStreet1ID    False\n",
       "BetweenStreet1      False\n",
       "BetweenStreet2ID     True\n",
       "BetweenStreet2       True\n",
       "SideOfStreet        False\n",
       "SideName            False\n",
       "BayId               False\n",
       "InViolation         False\n",
       "VehiclePresent      False\n",
       "dtype: bool"
      ]
     },
     "execution_count": 8,
     "metadata": {},
     "output_type": "execute_result"
    }
   ],
   "source": [
    "df.isnull().any()  ####  ull values in each column"
   ]
  },
  {
   "cell_type": "code",
   "execution_count": 9,
   "metadata": {},
   "outputs": [
    {
     "data": {
      "text/plain": [
       "DeviceId                  0\n",
       "ArrivalTime               0\n",
       "DepartureTime             0\n",
       "DurationMinutes           0\n",
       "StreetMarker              0\n",
       "SignPlateID         4994983\n",
       "Sign                4994983\n",
       "AreaName              37182\n",
       "StreetId                  0\n",
       "StreetName                0\n",
       "BetweenStreet1ID          0\n",
       "BetweenStreet1            0\n",
       "BetweenStreet2ID      25330\n",
       "BetweenStreet2        25330\n",
       "SideOfStreet              0\n",
       "SideName                  0\n",
       "BayId                     0\n",
       "InViolation               0\n",
       "VehiclePresent            0\n",
       "dtype: int64"
      ]
     },
     "execution_count": 9,
     "metadata": {},
     "output_type": "execute_result"
    }
   ],
   "source": [
    "df.isnull().sum() ### sum of null values for each column"
   ]
  },
  {
   "cell_type": "code",
   "execution_count": 10,
   "metadata": {},
   "outputs": [
    {
     "data": {
      "text/plain": [
       "10077808"
      ]
     },
     "execution_count": 10,
     "metadata": {},
     "output_type": "execute_result"
    }
   ],
   "source": [
    "df.isnull().sum().sum()   #### sum of all the null values"
   ]
  },
  {
   "cell_type": "code",
   "execution_count": 11,
   "metadata": {},
   "outputs": [
    {
     "data": {
      "text/plain": [
       "(14165825, 19)"
      ]
     },
     "execution_count": 11,
     "metadata": {},
     "output_type": "execute_result"
    }
   ],
   "source": [
    "df.shape  ### data shape"
   ]
  },
  {
   "cell_type": "code",
   "execution_count": 12,
   "metadata": {},
   "outputs": [
    {
     "data": {
      "text/plain": [
       "DeviceId              int64\n",
       "ArrivalTime          object\n",
       "DepartureTime        object\n",
       "DurationMinutes       int64\n",
       "StreetMarker         object\n",
       "SignPlateID         float64\n",
       "Sign                 object\n",
       "AreaName             object\n",
       "StreetId              int64\n",
       "StreetName           object\n",
       "BetweenStreet1ID      int64\n",
       "BetweenStreet1       object\n",
       "BetweenStreet2ID    float64\n",
       "BetweenStreet2       object\n",
       "SideOfStreet          int64\n",
       "SideName             object\n",
       "BayId                 int64\n",
       "InViolation           int64\n",
       "VehiclePresent        int64\n",
       "dtype: object"
      ]
     },
     "execution_count": 12,
     "metadata": {},
     "output_type": "execute_result"
    }
   ],
   "source": [
    "df.dtypes   ### data type for each column"
   ]
  },
  {
   "cell_type": "code",
   "execution_count": 13,
   "metadata": {},
   "outputs": [],
   "source": [
    "df['DepartureDateTime'] =  pd.to_datetime(df['DepartureTime'], infer_datetime_format=True)\n",
    "###converting into date time format"
   ]
  },
  {
   "cell_type": "code",
   "execution_count": 19,
   "metadata": {},
   "outputs": [],
   "source": [
    "df['ArrivalDateTime'] =  pd.to_datetime(df['ArrivalTime'], infer_datetime_format=True)\n",
    "#####cponverting into arrival time format"
   ]
  },
  {
   "cell_type": "code",
   "execution_count": 20,
   "metadata": {},
   "outputs": [
    {
     "data": {
      "text/plain": [
       "0          2020-01-31 15:08:32\n",
       "1          2020-02-26 05:43:24\n",
       "2          2020-01-13 22:55:52\n",
       "3          2020-02-06 00:00:00\n",
       "4          2020-01-08 17:05:43\n",
       "                   ...        \n",
       "14165820   2020-05-12 23:06:02\n",
       "14165821   2020-05-11 15:10:00\n",
       "14165822   2020-05-16 00:00:00\n",
       "14165823   2020-05-15 04:48:34\n",
       "14165824   2020-05-25 08:36:38\n",
       "Name: ArrivalDateTime, Length: 14165825, dtype: datetime64[ns]"
      ]
     },
     "execution_count": 20,
     "metadata": {},
     "output_type": "execute_result"
    }
   ],
   "source": [
    "df['ArrivalDateTime'] ### printing the arrival date time"
   ]
  },
  {
   "cell_type": "code",
   "execution_count": 22,
   "metadata": {},
   "outputs": [],
   "source": [
    "import datetime as dt\n",
    "#######moving the data and month to seperate columns \n",
    "df['DepartureMonth'] = df['DepartureDateTime'].dt.month\n",
    "df['ArrivalMonth'] = df['ArrivalDateTime'].dt.month\n",
    "df['DepartureDay'] = df['DepartureDateTime'].dt.day\n",
    "df['ArrivalDay'] = df['ArrivalDateTime'].dt.day"
   ]
  },
  {
   "cell_type": "code",
   "execution_count": 23,
   "metadata": {},
   "outputs": [],
   "source": [
    "####converting the data type to string\n",
    "df['DepartureMonth'] = df['DepartureMonth'].astype(str) \n",
    "df['ArrivalMonth'] = df['ArrivalMonth'].astype(str)"
   ]
  },
  {
   "cell_type": "code",
   "execution_count": 24,
   "metadata": {},
   "outputs": [],
   "source": [
    "###replacing the numeric values of each month to name of the month(departure)\n",
    "df[\"DepartureMonth\"].replace({\"1\": \"January\", \"2\": \"February\",\"3\": \"March\", \"4\": \"April\", \"5\": \"May\"}, \n",
    "                                  inplace = True)"
   ]
  },
  {
   "cell_type": "code",
   "execution_count": 25,
   "metadata": {},
   "outputs": [],
   "source": [
    "###replacing the numeric values of each month to name of the month(Arrival)\n",
    "df[\"ArrivalMonth\"].replace({\"1\": \"January\", \"2\": \"February\",\"3\": \"March\", \"4\": \"April\", \"5\": \"May\"}, \n",
    "                                  inplace = True)"
   ]
  },
  {
   "cell_type": "code",
   "execution_count": 27,
   "metadata": {},
   "outputs": [],
   "source": [
    "### hourly based ####\n",
    "df['hour'] = round(df['DurationMinutes'] / 60,2)"
   ]
  },
  {
   "cell_type": "code",
   "execution_count": 28,
   "metadata": {},
   "outputs": [
    {
     "data": {
      "text/plain": [
       "0            1.23\n",
       "1            1.15\n",
       "2            0.02\n",
       "3            7.50\n",
       "4            0.58\n",
       "            ...  \n",
       "14165820     0.90\n",
       "14165821     2.02\n",
       "14165822     7.50\n",
       "14165823    10.77\n",
       "14165824     1.40\n",
       "Name: hour, Length: 14165825, dtype: float64"
      ]
     },
     "execution_count": 28,
     "metadata": {},
     "output_type": "execute_result"
    }
   ],
   "source": [
    "df['hour']"
   ]
  },
  {
   "cell_type": "code",
   "execution_count": 30,
   "metadata": {},
   "outputs": [],
   "source": [
    "###### moving time in separate columns\n",
    "df['DepartureTime'] = df['DepartureDateTime'].dt.time\n",
    "df['ArrivalTime'] = df['ArrivalDateTime'].dt.time"
   ]
  },
  {
   "cell_type": "code",
   "execution_count": 31,
   "metadata": {},
   "outputs": [
    {
     "data": {
      "text/plain": [
       "(0           15:08:32\n",
       " 1           05:43:24\n",
       " 2           22:55:52\n",
       " 3           00:00:00\n",
       " 4           17:05:43\n",
       "               ...   \n",
       " 14165820    23:06:02\n",
       " 14165821    15:10:00\n",
       " 14165822    00:00:00\n",
       " 14165823    04:48:34\n",
       " 14165824    08:36:38\n",
       " Name: ArrivalTime, Length: 14165825, dtype: object, 0           16:22:54\n",
       " 1           06:52:06\n",
       " 2           22:56:09\n",
       " 3           07:30:00\n",
       " 4           17:40:29\n",
       "               ...   \n",
       " 14165820    00:00:00\n",
       " 14165821    17:11:46\n",
       " 14165822    07:30:00\n",
       " 14165823    15:34:58\n",
       " 14165824    10:00:00\n",
       " Name: DepartureTime, Length: 14165825, dtype: object)"
      ]
     },
     "execution_count": 31,
     "metadata": {},
     "output_type": "execute_result"
    }
   ],
   "source": [
    "df['ArrivalTime'],df['DepartureTime'] ####printing the arrival time and departure time values for all the records"
   ]
  },
  {
   "cell_type": "code",
   "execution_count": 32,
   "metadata": {},
   "outputs": [
    {
     "data": {
      "text/plain": [
       "array(['January', 'February', 'March', 'April', 'May'], dtype=object)"
      ]
     },
     "execution_count": 32,
     "metadata": {},
     "output_type": "execute_result"
    }
   ],
   "source": [
    "df['ArrivalMonth'].unique() ###showing the data of months we have ###"
   ]
  },
  {
   "cell_type": "code",
   "execution_count": 33,
   "metadata": {},
   "outputs": [],
   "source": [
    "df.drop(df[df['DepartureMonth'] == '9'].index,inplace = True) #####removing the unwanted data ####"
   ]
  },
  {
   "cell_type": "code",
   "execution_count": 34,
   "metadata": {},
   "outputs": [],
   "source": [
    "df.to_csv('onstreet_car_parking_cleaned_data.csv', index=False) ######saving the cleaned data to new csv file"
   ]
  },
  {
   "cell_type": "code",
   "execution_count": 36,
   "metadata": {},
   "outputs": [
    {
     "name": "stdout",
     "output_type": "stream",
     "text": [
      "onstreet_car_parking_cleaned_data is done\n"
     ]
    }
   ],
   "source": [
    "############### cleaning of parking data ###############\n",
    "parking_sensor_data = 'onstreet_car_parking_cleaned_data is done'\n",
    "print(parking_sensor_data)"
   ]
  },
  {
   "cell_type": "code",
   "execution_count": null,
   "metadata": {},
   "outputs": [],
   "source": []
  }
 ],
 "metadata": {
  "kernelspec": {
   "display_name": "Python 3",
   "language": "python",
   "name": "python3"
  },
  "language_info": {
   "codemirror_mode": {
    "name": "ipython",
    "version": 3
   },
   "file_extension": ".py",
   "mimetype": "text/x-python",
   "name": "python",
   "nbconvert_exporter": "python",
   "pygments_lexer": "ipython3",
   "version": "3.7.4"
  }
 },
 "nbformat": 4,
 "nbformat_minor": 2
}
