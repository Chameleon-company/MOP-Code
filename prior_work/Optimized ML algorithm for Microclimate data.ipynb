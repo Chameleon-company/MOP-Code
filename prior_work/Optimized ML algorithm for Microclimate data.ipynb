{
 "cells": [
  {
   "cell_type": "code",
   "execution_count": 1,
   "metadata": {},
   "outputs": [
    {
     "name": "stderr",
     "output_type": "stream",
     "text": [
      "In C:\\Users\\user\\anaconda\\lib\\site-packages\\matplotlib\\mpl-data\\stylelib\\_classic_test.mplstyle: \n",
      "The text.latex.preview rcparam was deprecated in Matplotlib 3.3 and will be removed two minor releases later.\n",
      "In C:\\Users\\user\\anaconda\\lib\\site-packages\\matplotlib\\mpl-data\\stylelib\\_classic_test.mplstyle: \n",
      "The mathtext.fallback_to_cm rcparam was deprecated in Matplotlib 3.3 and will be removed two minor releases later.\n",
      "In C:\\Users\\user\\anaconda\\lib\\site-packages\\matplotlib\\mpl-data\\stylelib\\_classic_test.mplstyle: Support for setting the 'mathtext.fallback_to_cm' rcParam is deprecated since 3.3 and will be removed two minor releases later; use 'mathtext.fallback : 'cm' instead.\n",
      "In C:\\Users\\user\\anaconda\\lib\\site-packages\\matplotlib\\mpl-data\\stylelib\\_classic_test.mplstyle: \n",
      "The validate_bool_maybe_none function was deprecated in Matplotlib 3.3 and will be removed two minor releases later.\n",
      "In C:\\Users\\user\\anaconda\\lib\\site-packages\\matplotlib\\mpl-data\\stylelib\\_classic_test.mplstyle: \n",
      "The savefig.jpeg_quality rcparam was deprecated in Matplotlib 3.3 and will be removed two minor releases later.\n",
      "In C:\\Users\\user\\anaconda\\lib\\site-packages\\matplotlib\\mpl-data\\stylelib\\_classic_test.mplstyle: \n",
      "The keymap.all_axes rcparam was deprecated in Matplotlib 3.3 and will be removed two minor releases later.\n",
      "In C:\\Users\\user\\anaconda\\lib\\site-packages\\matplotlib\\mpl-data\\stylelib\\_classic_test.mplstyle: \n",
      "The animation.avconv_path rcparam was deprecated in Matplotlib 3.3 and will be removed two minor releases later.\n",
      "In C:\\Users\\user\\anaconda\\lib\\site-packages\\matplotlib\\mpl-data\\stylelib\\_classic_test.mplstyle: \n",
      "The animation.avconv_args rcparam was deprecated in Matplotlib 3.3 and will be removed two minor releases later.\n"
     ]
    }
   ],
   "source": [
    "import pandas as pd\n",
    "import numpy as np \n",
    "import datetime as dt\n",
    "from sklearn.linear_model import LinearRegression\n",
    "from sklearn.metrics import mean_absolute_error\n",
    "from sklearn.preprocessing import scale\n",
    "import matplotlib.pyplot as plt\n",
    "from sklearn.metrics import mean_squared_error\n",
    "from sklearn.model_selection import train_test_split"
   ]
  },
  {
   "cell_type": "code",
   "execution_count": 9,
   "metadata": {},
   "outputs": [],
   "source": [
    "microclimate_data = pd.read_csv('precprocess_microclimate_data.csv')"
   ]
  },
  {
   "cell_type": "code",
   "execution_count": 20,
   "metadata": {},
   "outputs": [
    {
     "name": "stdout",
     "output_type": "stream",
     "text": [
      "<class 'pandas.core.frame.DataFrame'>\n",
      "RangeIndex: 6283 entries, 0 to 6282\n",
      "Data columns (total 4 columns):\n",
      "Modified_Date    6283 non-null object\n",
      "Location         6283 non-null int64\n",
      "New_Value        6283 non-null float64\n",
      "Month            6283 non-null int64\n",
      "dtypes: float64(1), int64(2), object(1)\n",
      "memory usage: 196.5+ KB\n"
     ]
    }
   ],
   "source": [
    "microclimate_data.info()"
   ]
  },
  {
   "cell_type": "code",
   "execution_count": 14,
   "metadata": {},
   "outputs": [
    {
     "data": {
      "text/html": [
       "<div>\n",
       "<style scoped>\n",
       "    .dataframe tbody tr th:only-of-type {\n",
       "        vertical-align: middle;\n",
       "    }\n",
       "\n",
       "    .dataframe tbody tr th {\n",
       "        vertical-align: top;\n",
       "    }\n",
       "\n",
       "    .dataframe thead th {\n",
       "        text-align: right;\n",
       "    }\n",
       "</style>\n",
       "<table border=\"1\" class=\"dataframe\">\n",
       "  <thead>\n",
       "    <tr style=\"text-align: right;\">\n",
       "      <th></th>\n",
       "      <th>Modified_Date</th>\n",
       "      <th>Location</th>\n",
       "      <th>New_Value</th>\n",
       "      <th>Month</th>\n",
       "    </tr>\n",
       "  </thead>\n",
       "  <tbody>\n",
       "    <tr>\n",
       "      <td>0</td>\n",
       "      <td>2020-02-13 05:00:00</td>\n",
       "      <td>7</td>\n",
       "      <td>7.2</td>\n",
       "      <td>2</td>\n",
       "    </tr>\n",
       "    <tr>\n",
       "      <td>1</td>\n",
       "      <td>2020-02-13 06:00:00</td>\n",
       "      <td>7</td>\n",
       "      <td>12.5</td>\n",
       "      <td>2</td>\n",
       "    </tr>\n",
       "    <tr>\n",
       "      <td>2</td>\n",
       "      <td>2020-02-13 07:00:00</td>\n",
       "      <td>7</td>\n",
       "      <td>5.9</td>\n",
       "      <td>2</td>\n",
       "    </tr>\n",
       "    <tr>\n",
       "      <td>3</td>\n",
       "      <td>2020-02-13 08:00:00</td>\n",
       "      <td>7</td>\n",
       "      <td>4.0</td>\n",
       "      <td>2</td>\n",
       "    </tr>\n",
       "    <tr>\n",
       "      <td>4</td>\n",
       "      <td>2020-02-13 09:00:00</td>\n",
       "      <td>7</td>\n",
       "      <td>5.3</td>\n",
       "      <td>2</td>\n",
       "    </tr>\n",
       "  </tbody>\n",
       "</table>\n",
       "</div>"
      ],
      "text/plain": [
       "         Modified_Date  Location  New_Value  Month\n",
       "0  2020-02-13 05:00:00         7        7.2      2\n",
       "1  2020-02-13 06:00:00         7       12.5      2\n",
       "2  2020-02-13 07:00:00         7        5.9      2\n",
       "3  2020-02-13 08:00:00         7        4.0      2\n",
       "4  2020-02-13 09:00:00         7        5.3      2"
      ]
     },
     "execution_count": 14,
     "metadata": {},
     "output_type": "execute_result"
    }
   ],
   "source": [
    "microclimate_data.head()"
   ]
  },
  {
   "cell_type": "code",
   "execution_count": 12,
   "metadata": {},
   "outputs": [],
   "source": [
    "microclimate_data.drop('Predictions',axis = 1,inplace = True)"
   ]
  },
  {
   "cell_type": "code",
   "execution_count": 15,
   "metadata": {},
   "outputs": [],
   "source": [
    "mc_data_pred = microclimate_data[microclimate_data['Modified_Date'] <= '2020-09-15']"
   ]
  },
  {
   "cell_type": "code",
   "execution_count": 19,
   "metadata": {},
   "outputs": [
    {
     "name": "stderr",
     "output_type": "stream",
     "text": [
      "C:\\Users\\user\\anaconda\\lib\\site-packages\\ipykernel_launcher.py:1: SettingWithCopyWarning: \n",
      "A value is trying to be set on a copy of a slice from a DataFrame.\n",
      "Try using .loc[row_indexer,col_indexer] = value instead\n",
      "\n",
      "See the caveats in the documentation: http://pandas.pydata.org/pandas-docs/stable/user_guide/indexing.html#returning-a-view-versus-a-copy\n",
      "  \"\"\"Entry point for launching an IPython kernel.\n"
     ]
    }
   ],
   "source": [
    "mc_data_pred['Modified_Date'] =  pd.to_datetime(mc_data_pred['Modified_Date'], infer_datetime_format=True)"
   ]
  },
  {
   "cell_type": "code",
   "execution_count": 23,
   "metadata": {},
   "outputs": [
    {
     "name": "stdout",
     "output_type": "stream",
     "text": [
      "<class 'pandas.core.frame.DataFrame'>\n",
      "Int64Index: 5155 entries, 0 to 5154\n",
      "Data columns (total 8 columns):\n",
      "Modified_Date    5155 non-null datetime64[ns]\n",
      "Location         5155 non-null int64\n",
      "New_Value        5155 non-null float64\n",
      "Month            5155 non-null int64\n",
      "year             5155 non-null int64\n",
      "month            5155 non-null int64\n",
      "day              5155 non-null int64\n",
      "hour             5155 non-null int64\n",
      "dtypes: datetime64[ns](1), float64(1), int64(6)\n",
      "memory usage: 362.5 KB\n"
     ]
    }
   ],
   "source": [
    "mc_data_pred.info()"
   ]
  },
  {
   "cell_type": "code",
   "execution_count": 22,
   "metadata": {},
   "outputs": [
    {
     "name": "stderr",
     "output_type": "stream",
     "text": [
      "C:\\Users\\user\\anaconda\\lib\\site-packages\\ipykernel_launcher.py:3: SettingWithCopyWarning: \n",
      "A value is trying to be set on a copy of a slice from a DataFrame.\n",
      "Try using .loc[row_indexer,col_indexer] = value instead\n",
      "\n",
      "See the caveats in the documentation: http://pandas.pydata.org/pandas-docs/stable/user_guide/indexing.html#returning-a-view-versus-a-copy\n",
      "  This is separate from the ipykernel package so we can avoid doing imports until\n",
      "C:\\Users\\user\\anaconda\\lib\\site-packages\\ipykernel_launcher.py:4: SettingWithCopyWarning: \n",
      "A value is trying to be set on a copy of a slice from a DataFrame.\n",
      "Try using .loc[row_indexer,col_indexer] = value instead\n",
      "\n",
      "See the caveats in the documentation: http://pandas.pydata.org/pandas-docs/stable/user_guide/indexing.html#returning-a-view-versus-a-copy\n",
      "  after removing the cwd from sys.path.\n",
      "C:\\Users\\user\\anaconda\\lib\\site-packages\\ipykernel_launcher.py:5: SettingWithCopyWarning: \n",
      "A value is trying to be set on a copy of a slice from a DataFrame.\n",
      "Try using .loc[row_indexer,col_indexer] = value instead\n",
      "\n",
      "See the caveats in the documentation: http://pandas.pydata.org/pandas-docs/stable/user_guide/indexing.html#returning-a-view-versus-a-copy\n",
      "  \"\"\"\n",
      "C:\\Users\\user\\anaconda\\lib\\site-packages\\ipykernel_launcher.py:6: SettingWithCopyWarning: \n",
      "A value is trying to be set on a copy of a slice from a DataFrame.\n",
      "Try using .loc[row_indexer,col_indexer] = value instead\n",
      "\n",
      "See the caveats in the documentation: http://pandas.pydata.org/pandas-docs/stable/user_guide/indexing.html#returning-a-view-versus-a-copy\n",
      "  \n"
     ]
    }
   ],
   "source": [
    "# extract the month and date in separate columns from the conversion columns\n",
    "import datetime as dt\n",
    "mc_data_pred['year'] = mc_data_pred['Modified_Date'].dt.year\n",
    "mc_data_pred['month'] = mc_data_pred['Modified_Date'].dt.month\n",
    "mc_data_pred['day'] = mc_data_pred['Modified_Date'].dt.day\n",
    "mc_data_pred['hour'] = mc_data_pred['Modified_Date'].dt.hour"
   ]
  },
  {
   "cell_type": "code",
   "execution_count": 25,
   "metadata": {},
   "outputs": [
    {
     "name": "stderr",
     "output_type": "stream",
     "text": [
      "C:\\Users\\user\\anaconda\\lib\\site-packages\\pandas\\core\\frame.py:4102: SettingWithCopyWarning: \n",
      "A value is trying to be set on a copy of a slice from a DataFrame\n",
      "\n",
      "See the caveats in the documentation: http://pandas.pydata.org/pandas-docs/stable/user_guide/indexing.html#returning-a-view-versus-a-copy\n",
      "  errors=errors,\n"
     ]
    }
   ],
   "source": [
    "mc_data_pred.drop(['Modified_Date','Month'],axis = 1,inplace = True)"
   ]
  },
  {
   "cell_type": "code",
   "execution_count": 26,
   "metadata": {},
   "outputs": [
    {
     "name": "stdout",
     "output_type": "stream",
     "text": [
      "<class 'pandas.core.frame.DataFrame'>\n",
      "Int64Index: 5155 entries, 0 to 5154\n",
      "Data columns (total 6 columns):\n",
      "Location     5155 non-null int64\n",
      "New_Value    5155 non-null float64\n",
      "year         5155 non-null int64\n",
      "month        5155 non-null int64\n",
      "day          5155 non-null int64\n",
      "hour         5155 non-null int64\n",
      "dtypes: float64(1), int64(5)\n",
      "memory usage: 281.9 KB\n"
     ]
    }
   ],
   "source": [
    "mc_data_pred.info()"
   ]
  },
  {
   "cell_type": "code",
   "execution_count": 27,
   "metadata": {},
   "outputs": [],
   "source": [
    "Y = mc_data_pred['New_Value'].values\n",
    "X =mc_data_pred.drop('New_Value',axis=1).values"
   ]
  },
  {
   "cell_type": "code",
   "execution_count": 28,
   "metadata": {},
   "outputs": [],
   "source": [
    "# Create training and test sets\n",
    "X_train, X_test, y_train, y_test = train_test_split(X,Y, test_size = 0.2, random_state=42)"
   ]
  },
  {
   "cell_type": "code",
   "execution_count": 29,
   "metadata": {},
   "outputs": [
    {
     "name": "stdout",
     "output_type": "stream",
     "text": [
      "Mean Absolute Error is: 4.342683153898793\n"
     ]
    }
   ],
   "source": [
    "from sklearn.linear_model import LinearRegression\n",
    "from sklearn.metrics import mean_absolute_error\n",
    "from sklearn.model_selection import GridSearchCV\n",
    " \n",
    "# Instantiate Linear Regression\n",
    "linear_model = LinearRegression(normalize = True)\n",
    " \n",
    "# Fit it to the  same split done in the previous part\n",
    "linear_model.fit(X_train,y_train)\n",
    "pred= linear_model.predict(X_test)\n",
    "\n",
    "# Found the best parameters\n",
    "print(\"Mean Absolute Error is:\",mean_absolute_error(y_test,pred))"
   ]
  },
  {
   "cell_type": "code",
   "execution_count": 30,
   "metadata": {},
   "outputs": [
    {
     "name": "stdout",
     "output_type": "stream",
     "text": [
      "Best Parameters:  {'alpha': 0.0001, 'l1_ratio': 0.4}\n",
      "Mean Absolute Error is: 4.268025770809871\n"
     ]
    }
   ],
   "source": [
    "from sklearn.linear_model import ElasticNet\n",
    "from sklearn.model_selection import GridSearchCV\n",
    " \n",
    "# Instantiate the ElasticNet regressor: elastic_net\n",
    "elastic_net = ElasticNet(normalize = True)\n",
    " \n",
    "# Create the hyperparameter grid\n",
    "param_grid = {'alpha':[1e-5,1e-4,1e-3,1e-2,1e-1,1,2,3,4,5], 'l1_ratio':[1e-5,1e-4,1e-3,1e-2,0.1,0.2,0.3,0.4,0.5,0.6,0.7,0.8,0.9]}\n",
    " \n",
    "# Setup the GridSearchCV object: using elastic net\n",
    "gm_cv = GridSearchCV(elastic_net, param_grid, scoring='neg_mean_absolute_error' , cv=10)\n",
    " \n",
    "# Fit it to the  same split done in the previous part\n",
    "gm_cv.fit(X_train,y_train)\n",
    " \n",
    "# Found the best parameters\n",
    "print(\"Best Parameters: \",gm_cv.best_params_)\n",
    "print(\"Mean Absolute Error is:\",-gm_cv.best_score_)"
   ]
  },
  {
   "cell_type": "code",
   "execution_count": 31,
   "metadata": {},
   "outputs": [
    {
     "name": "stdout",
     "output_type": "stream",
     "text": [
      "Best Parameters:  {'alpha': 0.001}\n",
      "Mean Absolute Error is: 4.271227498673565\n"
     ]
    }
   ],
   "source": [
    "from sklearn.linear_model import Lasso\n",
    "from sklearn.model_selection import GridSearchCV\n",
    " \n",
    "# Instantiate the ElasticNet regressor: elastic_net\n",
    "Lasso_reg = Lasso(normalize = True)\n",
    " \n",
    "# Create the hyperparameter grid\n",
    "param_grid = {'alpha':[1e-5,1e-4,1e-3,1e-2,1e-1,1,2,3,4,5,10,15,20]}\n",
    " \n",
    "# Setup the GridSearchCV object: using elastic net\n",
    "gm_cv_lso = GridSearchCV(Lasso_reg, param_grid, scoring='neg_mean_absolute_error' , cv=10)\n",
    " \n",
    "# Fit it to the  same split done in the previous part\n",
    "gm_cv_lso.fit(X_train,y_train)\n",
    " \n",
    "# Found the best parameters\n",
    "print(\"Best Parameters: \",gm_cv_lso.best_params_)\n",
    "print(\"Mean Absolute Error is:\",-gm_cv_lso.best_score_)"
   ]
  }
 ],
 "metadata": {
  "kernelspec": {
   "display_name": "Python 3",
   "language": "python",
   "name": "python3"
  },
  "language_info": {
   "codemirror_mode": {
    "name": "ipython",
    "version": 3
   },
   "file_extension": ".py",
   "mimetype": "text/x-python",
   "name": "python",
   "nbconvert_exporter": "python",
   "pygments_lexer": "ipython3",
   "version": "3.7.4"
  }
 },
 "nbformat": 4,
 "nbformat_minor": 2
}
