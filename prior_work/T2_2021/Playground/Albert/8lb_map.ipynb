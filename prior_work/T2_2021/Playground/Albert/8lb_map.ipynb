{
 "cells": [
  {
   "cell_type": "code",
   "execution_count": 1,
   "metadata": {},
   "outputs": [],
   "source": [
    "# https://plotly.com/python/mapbox-layers/\n",
    "# https://plotly.com/python/discrete-color/"
   ]
  },
  {
   "cell_type": "code",
   "execution_count": 2,
   "metadata": {},
   "outputs": [],
   "source": [
    "import os\n",
    "import pandas as pd\n",
    "import matplotlib.pyplot as plt\n",
    "import geopandas\n",
    "import plotly.express as px\n",
    "from shapely.geometry import Polygon, Point\n",
    "from sodapy import Socrata\n",
    "from d2i_tools import *\n",
    "pd.options.mode.chained_assignment = None  # default='warn'\n",
    "\n",
    "# read live status\n",
    "def read_current_parkingSensors():\n",
    "    cols = [\"st_marker_id\", \"status\", \n",
    "#             \"disabilityext1\",\"duration1\",\"effectiveonph1\",\n",
    "#             \"endtime1\",\"exemption1\",\"fromday1\",\"starttime1\",\"today1\",\"typedesc1\",\n",
    "#             \"description1\", \"description2\",\"description3\",\"description4\",\"description5\",\"description6\",\n",
    "            \"bay_id\"]\n",
    "    \n",
    "    apptoken = os.environ.get(\"SODAPY_APPTOKEN\")\n",
    "    domain = \"data.melbourne.vic.gov.au\"\n",
    "    client = Socrata(domain, apptoken)\n",
    "\n",
    "    r1 = client.get_all('vh2v-4nfs')  # read current parking sensors snapshot available\n",
    "    r2 = client.get_all(\"ntht-5rk7\")  # read parking restrictions records of all bays\n",
    "\n",
    "    df1 = pd.DataFrame.from_dict(r1)\n",
    "    df2 = pd.DataFrame.from_dict(r2)\n",
    "    df = pd.merge(df1, df2, left_on='bay_id', right_on='bayid', how='left')\n",
    "    df = df[cols].rename(columns={'st_marker_id':'marker_id'})\n",
    "    return df\n",
    "\n",
    "def create_fullUpdate(df):\n",
    "    gdf = geopandas.read_file(\"datasets/onStreetParkingBays_baselist_bayCentroid.geojson\")\n",
    "    gdf[\"marker_id\"] = gdf[\"marker_id\"].str.upper()\n",
    "    df[\"marker_id\"] = df[\"marker_id\"].str.upper()\n",
    "    ngdf = gdf.merge(df, how=\"outer\", on=\"marker_id\").drop_duplicates()\n",
    "    ngdf[\"status\"] = ngdf[\"status\"].fillna(\"unknown\")\n",
    "    ngdf = ngdf.drop(columns=[\"rd_seg_id\",\"rd_seg_dsc\"])\n",
    "    print(f\"{ngdf.shape[0]} parking sensors in full base list.\")\n",
    "    return ngdf\n",
    "\n",
    "def plot_map(df,map_height=400,map_zoom=12, marker_max=9):\n",
    "    fig = px.scatter_mapbox(df, lat=\"lati\", lon=\"long\", hover_name=\"marker_id\", #hover_data=[\"description1\",\"description2\",\"description3\",\"description4\",\"description5\",\"description6\"],\n",
    "                                color=\"status\", size=\"area_m2\", size_max=marker_max, zoom=map_zoom, height=map_height,\n",
    "                                color_discrete_map={\n",
    "                                    \"unknown\":\"gray\", \"Unoccupied\":\"green\", \"Present\":\"red\"},\n",
    "                                category_orders={\"status\": [\"unknown\", \"Unoccupied\", \"Present\"]})\n",
    "    # fig.update_layout(mapbox_style=\"open-street-map\")\n",
    "    fig.update_layout(mapbox_style=\"carto-positron\")\n",
    "    fig.update_layout(margin={\"r\":0,\"t\":0,\"l\":0,\"b\":0})\n",
    "    fig.show()"
   ]
  },
  {
   "cell_type": "code",
   "execution_count": null,
   "metadata": {},
   "outputs": [],
   "source": [
    "dfrc = read_current_parkingSensors()\n",
    "ngdf = create_fullUpdate(dfrc)\n",
    "plot_map(ngdf,map_height=500,map_zoom=12, marker_max=9)\n",
    "getCurrentPSstatus(dfrc)"
   ]
  },
  {
   "cell_type": "code",
   "execution_count": null,
   "metadata": {},
   "outputs": [],
   "source": [
    "pin = (-37.812389676018476, 144.95817254056357)  # centre of Little Lonsdale St (btw William St & Queen St)\n",
    "radius_m = 150  # radius in metres\n",
    "\n",
    "gdf_filtered = geoCirClip(ngdf,pin[0],pin[1],radius_m)\n",
    "plot_map(gdf_filtered,map_height=300,map_zoom=15, marker_max=9)"
   ]
  },
  {
   "cell_type": "code",
   "execution_count": null,
   "metadata": {},
   "outputs": [],
   "source": [
    "# set polygon to geo-filter geometries that are within\n",
    "lat1, lon1 = -37.81192120679105, 144.95628148775384\n",
    "lat2, lon2 = -37.81036832849929, 144.9616049327078\n",
    "lat3, lon3 = -37.806134720609734, 144.95972125218563\n",
    "lat4, lon4 = -37.805700253666316, 144.95569649380283\n",
    "lat5, lon5 = -37.80921289191341, 144.95508810009383\n",
    "polygon = Polygon([(lon1, lat1), (lon2, lat2), (lon3, lat3), (lon4, lat4), (lon5, lat5)])\n",
    "\n",
    "gdf_filtered2 = geoPolyClip(ngdf, polygon)\n",
    "plot_map(gdf_filtered2,map_height=300,map_zoom=15, marker_max=10)"
   ]
  },
  {
   "cell_type": "code",
   "execution_count": null,
   "metadata": {},
   "outputs": [],
   "source": [
    "# read bufferred / ETL'd time data\n",
    "dfrh = pd.read_csv(\"datasets/003_vh2v-4nfs__bufferred.csv\", parse_dates=[\"db_read_time\"])\n",
    "print(f\"{dfrh.shape[0]} time records read\")\n",
    "\n",
    "# get the time data for the filtered list of parking sensors\n",
    "dfrh_filtered2 = dfrh[dfrh[\"st_marker_id\"].isin(gdf_filtered2[\"marker_id\"])]\n",
    "\n",
    "# bin specifies resampling frequency (\"15min\", \"1H, \"1D\", \"1W\", \"1M\")\n",
    "# bin_stat specifies resampled statistic for each resampled time interval\n",
    "\n",
    "# hourly over 24 hours\n",
    "startdt = \"2021-09-01 11:00:00\"\n",
    "enddt = \"2021-09-2 11:00:00\"\n",
    "dfts1 = timeIntStats(dfrh_filtered2, startdt, enddt, bin=\"1H\", bin_stat=\"median\")\n",
    "\n",
    "dfts1.Present.plot(kind='bar',color='red', alpha=0.3)\n",
    "dfts1.Unoccupied.plot(kind='bar',alpha=0.3)"
   ]
  },
  {
   "cell_type": "code",
   "execution_count": null,
   "metadata": {},
   "outputs": [],
   "source": [
    "# line plot over many days in 15min intervals\n",
    "startdt = \"2021-08-27 21:00:00\"\n",
    "enddt = \"2021-09-09 11:00:00\"\n",
    "\n",
    "dfts2 = timeIntStats(dfrh, startdt, enddt, bin=\"15min\", bin_stat=\"median\")\n",
    "\n",
    "dfts2.Present.plot(kind='line',color='red', alpha=0.3)\n",
    "dfts2.Unoccupied.plot(kind='line',alpha=0.3)"
   ]
  },
  {
   "cell_type": "code",
   "execution_count": null,
   "metadata": {},
   "outputs": [],
   "source": [
    "# more interactive line plot with display of data when hover over data point\n",
    "dfts2a = dfts2.reset_index(level=0)\n",
    "px.scatter(dfts2a, x=\"time_interval\", y=[\"Unoccupied\",\"Present\"], hover_name=\"time_interval\")"
   ]
  },
  {
   "cell_type": "code",
   "execution_count": null,
   "metadata": {},
   "outputs": [],
   "source": [
    "v# below plotly stacked bar chart is probably the best compared to above, and it's interactive\n",
    "dfts2a = dfts2.reset_index(level=0)\n",
    "px.bar(dfts2a, x=\"time_interval\", y=[\"Unoccupied\",\"Present\"], hover_name=\"time_interval\", \n",
    "       height=300, title=\"Number of parking bays\",\n",
    "       color_discrete_map={\"unknown\":\"gray\", \"Unoccupied\":\"green\", \"Present\":\"red\"},\n",
    "       category_orders={\"status\": [\"unknown\", \"Unoccupied\", \"Present\"]})"
   ]
  },
  {
   "cell_type": "code",
   "execution_count": null,
   "metadata": {},
   "outputs": [],
   "source": [
    "dfrh1 = dfrh[100000:150000]  # sample 50,000 records to animiate\n",
    "dfrh1[\"st_marker_id\"] = dfrh1[\"st_marker_id\"].str.upper()\n",
    "dfrh1 = dfrh1.rename(columns={\"st_marker_id\":\"marker_id\"})\n",
    "ngdf1 = ngdf.drop(columns=[\"status\"])\n",
    "ndfrh = ngdf1.merge(dfrh1, how=\"right\", on=\"marker_id\")\n",
    "print(ndfrh.shape)\n",
    "fig = px.scatter_mapbox(ndfrh, lat=\"lati\", lon=\"long\", hover_name=\"marker_id\",\n",
    "                            animation_frame=ndfrh.db_read_time.astype(str), animation_group=\"status\",\n",
    "                            color=\"status\", size=\"area_m2\", size_max=9, zoom=12, height=500,\n",
    "                            color_discrete_map={ \n",
    "                                \"unknown\":\"gray\", \"Unoccupied\":\"green\", \"Present\":\"red\"},\n",
    "                            category_orders={\"status\": [\"unknown\", \"Unoccupied\", \"Present\"]})\n",
    "# fig.update_layout(mapbox_style=\"open-street-map\")\n",
    "fig.update_layout(mapbox_style=\"carto-positron\")\n",
    "fig.update_layout(margin={\"r\":0,\"t\":0,\"l\":0,\"b\":0})\n",
    "fig.show()"
   ]
  }
 ],
 "metadata": {
  "interpreter": {
   "hash": "fd69f43f58546b570e94fd7eba7b65e6bcc7a5bbc4eab0408017d18902915d69"
  },
  "kernelspec": {
   "display_name": "Python 3",
   "language": "python",
   "name": "python3"
  },
  "language_info": {
   "codemirror_mode": {
    "name": "ipython",
    "version": 3
   },
   "file_extension": ".py",
   "mimetype": "text/x-python",
   "name": "python",
   "nbconvert_exporter": "python",
   "pygments_lexer": "ipython3",
   "version": "3.7.11"
  }
 },
 "nbformat": 4,
 "nbformat_minor": 2
}
