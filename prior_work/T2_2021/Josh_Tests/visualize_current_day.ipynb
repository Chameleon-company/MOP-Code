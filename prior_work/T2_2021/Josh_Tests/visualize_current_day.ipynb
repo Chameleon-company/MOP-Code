{
 "cells": [
  {
   "cell_type": "code",
   "execution_count": 2,
   "source": [
    "import numpy as np\n",
    "import matplotlib.pyplot as plt\n",
    "from matplotlib.pyplot import figure\n",
    "import pandas as pd\n",
    "import seaborn as sns\n",
    "from sodapy import Socrata\n",
    "import boto3\n",
    "import botocore\n",
    "from datetime import datetime"
   ],
   "outputs": [],
   "metadata": {}
  },
  {
   "cell_type": "markdown",
   "source": [
    "Get current parking sensor information"
   ],
   "metadata": {}
  },
  {
   "cell_type": "code",
   "execution_count": 4,
   "source": [
    "def get_live_parking():\n",
    "    # find the parking dataset @ https://data.melbourne.vic.gov.au/Transport/On-street-Parking-Bay-Sensors/vh2v-4nfs\n",
    "    parking_dataset_id = 'vh2v-4nfs'\n",
    "\n",
    "    client = Socrata(\n",
    "        \"data.melbourne.vic.gov.au\",\n",
    "        \"EC65cHicC3xqFXHHvAUICVXEr\", # app token, just used to reduce throttling, not authentication\n",
    "        timeout=120\n",
    "    )\n",
    "\n",
    "    api_results = client.get_all(parking_dataset_id)\n",
    "    parking_sensors = pd.DataFrame.from_dict(api_results)\n",
    "    parking_sensors = parking_sensors[['bay_id','st_marker_id','status','lat','lon']]\n",
    "    parking_sensors = parking_sensors.astype({'lat':'float64', 'lon':'float64'})\n",
    "    parking_sensors = parking_sensors.rename(columns={'st_marker_id':'marker_id'})\n",
    "\n",
    "    parking_sensors = parking_sensors.drop_duplicates()\n",
    "    parking_sensors['status'] = parking_sensors['status'].fillna('Unknown')\n",
    "    parking_sensors['datetime'] = datetime.now()\n",
    "\n",
    "    return parking_sensors"
   ],
   "outputs": [],
   "metadata": {}
  },
  {
   "cell_type": "markdown",
   "source": [
    "Get daily percentage from given dataframe"
   ],
   "metadata": {}
  },
  {
   "cell_type": "code",
   "execution_count": 3,
   "source": [
    "def get_daily_percentage_availability(df):\n",
    "    df['DayOfWeek'] = df['datetime'].dt.day_of_week\n",
    "    DailyParkingCounts = df.groupby('DayOfWeek').status.value_counts()\n",
    "    DailyParkingCounts = DailyParkingCounts.unstack().reset_index()\n",
    "    DailyParkingCounts['Percentage'] = (DailyParkingCounts['Unoccupied'] / (DailyParkingCounts['Unoccupied'] + DailyParkingCounts['Present']))\n",
    "    DailyParkingCounts.reset_index(drop=True)\n",
    "    return DailyParkingCounts[['DayOfWeek', 'Percentage']]"
   ],
   "outputs": [],
   "metadata": {}
  },
  {
   "cell_type": "code",
   "execution_count": 10,
   "source": [
    "result = get_daily_percentage_availability(get_live_parking())\n",
    "\n",
    "result.head()"
   ],
   "outputs": [
    {
     "output_type": "execute_result",
     "data": {
      "text/html": [
       "<div>\n",
       "<style scoped>\n",
       "    .dataframe tbody tr th:only-of-type {\n",
       "        vertical-align: middle;\n",
       "    }\n",
       "\n",
       "    .dataframe tbody tr th {\n",
       "        vertical-align: top;\n",
       "    }\n",
       "\n",
       "    .dataframe thead th {\n",
       "        text-align: right;\n",
       "    }\n",
       "</style>\n",
       "<table border=\"1\" class=\"dataframe\">\n",
       "  <thead>\n",
       "    <tr style=\"text-align: right;\">\n",
       "      <th>status</th>\n",
       "      <th>DayOfWeek</th>\n",
       "      <th>Percentage</th>\n",
       "    </tr>\n",
       "  </thead>\n",
       "  <tbody>\n",
       "    <tr>\n",
       "      <th>0</th>\n",
       "      <td>3</td>\n",
       "      <td>0.355916</td>\n",
       "    </tr>\n",
       "  </tbody>\n",
       "</table>\n",
       "</div>"
      ],
      "text/plain": [
       "status  DayOfWeek  Percentage\n",
       "0               3    0.355916"
      ]
     },
     "metadata": {},
     "execution_count": 10
    }
   ],
   "metadata": {}
  },
  {
   "cell_type": "code",
   "execution_count": 37,
   "source": [
    "df = pd.read_csv('../webapp/data/parkingsensor.csv')\n",
    "\n",
    "df['datetime'] = pd.to_datetime(df['datetime'], infer_datetime_format=True, errors='raise', utc=True)"
   ],
   "outputs": [],
   "metadata": {}
  },
  {
   "cell_type": "code",
   "execution_count": 38,
   "source": [
    "df['datetime'].dt.hour"
   ],
   "outputs": [
    {
     "output_type": "execute_result",
     "data": {
      "text/plain": [
       "0          12\n",
       "1          12\n",
       "2          12\n",
       "3          12\n",
       "4          12\n",
       "           ..\n",
       "2624584     2\n",
       "2624585     2\n",
       "2624586     2\n",
       "2624587     2\n",
       "2624588     2\n",
       "Name: datetime, Length: 2624589, dtype: int64"
      ]
     },
     "metadata": {},
     "execution_count": 38
    }
   ],
   "metadata": {}
  },
  {
   "cell_type": "code",
   "execution_count": 42,
   "source": [
    "df = pd.DataFrame([datetime.now()])\n",
    "\n",
    "series = pd.to_datetime(df[0], utc=True)\n",
    "series.dt.hour"
   ],
   "outputs": [
    {
     "output_type": "execute_result",
     "data": {
      "text/plain": [
       "0    5\n",
       "Name: 0, dtype: int64"
      ]
     },
     "metadata": {},
     "execution_count": 42
    }
   ],
   "metadata": {}
  },
  {
   "cell_type": "code",
   "execution_count": null,
   "source": [],
   "outputs": [],
   "metadata": {}
  }
 ],
 "metadata": {
  "orig_nbformat": 4,
  "language_info": {
   "name": "python",
   "version": "3.7.11",
   "mimetype": "text/x-python",
   "codemirror_mode": {
    "name": "ipython",
    "version": 3
   },
   "pygments_lexer": "ipython3",
   "nbconvert_exporter": "python",
   "file_extension": ".py"
  },
  "kernelspec": {
   "name": "python3",
   "display_name": "Python 3.7.11 64-bit"
  },
  "interpreter": {
   "hash": "4cd7ab41f5fca4b9b44701077e38c5ffd31fe66a6cab21e0214b68d958d0e462"
  }
 },
 "nbformat": 4,
 "nbformat_minor": 2
}