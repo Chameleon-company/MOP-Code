{
 "cells": [
  {
   "cell_type": "code",
   "execution_count": 1,
   "id": "565029c4",
   "metadata": {},
   "outputs": [],
   "source": [
    "import numpy as np\n",
    "import matplotlib.pyplot as plt\n",
    "from matplotlib.pyplot import figure\n",
    "import pandas as pd\n",
    "import seaborn as sns"
   ]
  },
  {
   "cell_type": "code",
   "execution_count": 2,
   "id": "a2294f35",
   "metadata": {},
   "outputs": [
    {
     "data": {
      "text/html": [
       "<div>\n",
       "<style scoped>\n",
       "    .dataframe tbody tr th:only-of-type {\n",
       "        vertical-align: middle;\n",
       "    }\n",
       "\n",
       "    .dataframe tbody tr th {\n",
       "        vertical-align: top;\n",
       "    }\n",
       "\n",
       "    .dataframe thead th {\n",
       "        text-align: right;\n",
       "    }\n",
       "</style>\n",
       "<table border=\"1\" class=\"dataframe\">\n",
       "  <thead>\n",
       "    <tr style=\"text-align: right;\">\n",
       "      <th></th>\n",
       "      <th>Unnamed: 0</th>\n",
       "      <th>Bay_id</th>\n",
       "      <th>Status</th>\n",
       "      <th>Hour</th>\n",
       "      <th>Minutes</th>\n",
       "      <th>DayOfWeek</th>\n",
       "      <th>Date</th>\n",
       "    </tr>\n",
       "  </thead>\n",
       "  <tbody>\n",
       "    <tr>\n",
       "      <th>0</th>\n",
       "      <td>0</td>\n",
       "      <td>1001</td>\n",
       "      <td>Unoccupied</td>\n",
       "      <td>0</td>\n",
       "      <td>0</td>\n",
       "      <td>Wednesday</td>\n",
       "      <td>2021-08-04</td>\n",
       "    </tr>\n",
       "    <tr>\n",
       "      <th>1</th>\n",
       "      <td>1</td>\n",
       "      <td>1002</td>\n",
       "      <td>Present</td>\n",
       "      <td>0</td>\n",
       "      <td>0</td>\n",
       "      <td>Wednesday</td>\n",
       "      <td>2021-08-04</td>\n",
       "    </tr>\n",
       "    <tr>\n",
       "      <th>2</th>\n",
       "      <td>2</td>\n",
       "      <td>1003</td>\n",
       "      <td>Present</td>\n",
       "      <td>0</td>\n",
       "      <td>0</td>\n",
       "      <td>Wednesday</td>\n",
       "      <td>2021-08-04</td>\n",
       "    </tr>\n",
       "    <tr>\n",
       "      <th>3</th>\n",
       "      <td>3</td>\n",
       "      <td>1004</td>\n",
       "      <td>Unoccupied</td>\n",
       "      <td>0</td>\n",
       "      <td>0</td>\n",
       "      <td>Wednesday</td>\n",
       "      <td>2021-08-04</td>\n",
       "    </tr>\n",
       "    <tr>\n",
       "      <th>4</th>\n",
       "      <td>4</td>\n",
       "      <td>1005</td>\n",
       "      <td>Present</td>\n",
       "      <td>0</td>\n",
       "      <td>0</td>\n",
       "      <td>Wednesday</td>\n",
       "      <td>2021-08-04</td>\n",
       "    </tr>\n",
       "  </tbody>\n",
       "</table>\n",
       "</div>"
      ],
      "text/plain": [
       "   Unnamed: 0  Bay_id      Status  Hour  Minutes  DayOfWeek        Date\n",
       "0           0    1001  Unoccupied     0        0  Wednesday  2021-08-04\n",
       "1           1    1002     Present     0        0  Wednesday  2021-08-04\n",
       "2           2    1003     Present     0        0  Wednesday  2021-08-04\n",
       "3           3    1004  Unoccupied     0        0  Wednesday  2021-08-04\n",
       "4           4    1005     Present     0        0  Wednesday  2021-08-04"
      ]
     },
     "execution_count": 2,
     "metadata": {},
     "output_type": "execute_result"
    }
   ],
   "source": [
    "#import dataset from data.csv file\n",
    "df = pd.read_csv('Dummy_Month.csv')\n",
    "df.head()"
   ]
  },
  {
   "cell_type": "code",
   "execution_count": 3,
   "id": "437eb88e",
   "metadata": {},
   "outputs": [
    {
     "name": "stdout",
     "output_type": "stream",
     "text": [
      "The Total Rows in the dataset = 13440\n",
      "The Total Columns in the dataset = 7\n"
     ]
    }
   ],
   "source": [
    "#The amount of observations (rows) and characteristics(columns) in a dataset\n",
    "print ('The Total Rows in the dataset = ' + str(df.shape[0]))\n",
    "print ('The Total Columns in the dataset = ' + str(df.shape[1]))"
   ]
  },
  {
   "cell_type": "code",
   "execution_count": 4,
   "id": "46c9c8cb",
   "metadata": {},
   "outputs": [],
   "source": [
    "Bay_ID = (df['Bay_id'] == 1001)\n",
    "Multiple_Bay_ID = (df['Bay_id'].isin([1001, 1003, 1005]))\n",
    "Parking_Status = (df['Status'] == 'Present')\n",
    "Day_Of_Week = (df['DayOfWeek'] == 'Wednesday')\n",
    "Date = (df['Date'] == '2021-08-04')\n",
    "Hour = (df['Hour'] == 10)"
   ]
  },
  {
   "cell_type": "code",
   "execution_count": 5,
   "id": "af5129b0",
   "metadata": {},
   "outputs": [
    {
     "data": {
      "text/html": [
       "<div>\n",
       "<style scoped>\n",
       "    .dataframe tbody tr th:only-of-type {\n",
       "        vertical-align: middle;\n",
       "    }\n",
       "\n",
       "    .dataframe tbody tr th {\n",
       "        vertical-align: top;\n",
       "    }\n",
       "\n",
       "    .dataframe thead th {\n",
       "        text-align: right;\n",
       "    }\n",
       "</style>\n",
       "<table border=\"1\" class=\"dataframe\">\n",
       "  <thead>\n",
       "    <tr style=\"text-align: right;\">\n",
       "      <th></th>\n",
       "      <th>Day</th>\n",
       "      <th>Mean_Parking_Availabilities</th>\n",
       "    </tr>\n",
       "  </thead>\n",
       "  <tbody>\n",
       "    <tr>\n",
       "      <th>0</th>\n",
       "      <td>Monday</td>\n",
       "      <td>144.0</td>\n",
       "    </tr>\n",
       "    <tr>\n",
       "      <th>1</th>\n",
       "      <td>Tuesday</td>\n",
       "      <td>145.0</td>\n",
       "    </tr>\n",
       "    <tr>\n",
       "      <th>2</th>\n",
       "      <td>Wednesday</td>\n",
       "      <td>145.0</td>\n",
       "    </tr>\n",
       "    <tr>\n",
       "      <th>3</th>\n",
       "      <td>Thursday</td>\n",
       "      <td>149.0</td>\n",
       "    </tr>\n",
       "    <tr>\n",
       "      <th>4</th>\n",
       "      <td>Friday</td>\n",
       "      <td>142.0</td>\n",
       "    </tr>\n",
       "    <tr>\n",
       "      <th>5</th>\n",
       "      <td>Saturday</td>\n",
       "      <td>138.0</td>\n",
       "    </tr>\n",
       "    <tr>\n",
       "      <th>6</th>\n",
       "      <td>Sunday</td>\n",
       "      <td>137.0</td>\n",
       "    </tr>\n",
       "  </tbody>\n",
       "</table>\n",
       "</div>"
      ],
      "text/plain": [
       "         Day  Mean_Parking_Availabilities\n",
       "0     Monday                        144.0\n",
       "1    Tuesday                        145.0\n",
       "2  Wednesday                        145.0\n",
       "3   Thursday                        149.0\n",
       "4     Friday                        142.0\n",
       "5   Saturday                        138.0\n",
       "6     Sunday                        137.0"
      ]
     },
     "execution_count": 5,
     "metadata": {},
     "output_type": "execute_result"
    }
   ],
   "source": [
    "CountStatus = df.loc[Multiple_Bay_ID & Parking_Status].groupby('Status').DayOfWeek.value_counts().unstack(0)\n",
    "\n",
    "CountStatus = CountStatus.reset_index()\n",
    "CountStatus['Present'] = (CountStatus['Present'] / 4).round(0)\n",
    "CountStatus.columns = ['Day', 'Mean_Parking_Availabilities']\n",
    "CountStatus = CountStatus.set_index('Day').reindex(['Monday', 'Tuesday', 'Wednesday', 'Thursday', 'Friday', 'Saturday', 'Sunday']).reset_index()\n",
    "\n",
    "CountStatus"
   ]
  },
  {
   "cell_type": "code",
   "execution_count": 6,
   "id": "a040d1f2",
   "metadata": {},
   "outputs": [
    {
     "data": {
      "text/html": [
       "<div>\n",
       "<style scoped>\n",
       "    .dataframe tbody tr th:only-of-type {\n",
       "        vertical-align: middle;\n",
       "    }\n",
       "\n",
       "    .dataframe tbody tr th {\n",
       "        vertical-align: top;\n",
       "    }\n",
       "\n",
       "    .dataframe thead th {\n",
       "        text-align: right;\n",
       "    }\n",
       "</style>\n",
       "<table border=\"1\" class=\"dataframe\">\n",
       "  <thead>\n",
       "    <tr style=\"text-align: right;\">\n",
       "      <th></th>\n",
       "      <th>Day</th>\n",
       "      <th>Parking_Availabilities</th>\n",
       "    </tr>\n",
       "  </thead>\n",
       "  <tbody>\n",
       "    <tr>\n",
       "      <th>0</th>\n",
       "      <td>Wednesday</td>\n",
       "      <td>139</td>\n",
       "    </tr>\n",
       "  </tbody>\n",
       "</table>\n",
       "</div>"
      ],
      "text/plain": [
       "         Day  Parking_Availabilities\n",
       "0  Wednesday                     139"
      ]
     },
     "execution_count": 6,
     "metadata": {},
     "output_type": "execute_result"
    }
   ],
   "source": [
    "Currentday_Count = df.loc[Multiple_Bay_ID & Parking_Status & Date].groupby('Status').DayOfWeek.value_counts().unstack(0)\n",
    "Currentday_Count = Currentday_Count.reset_index()\n",
    "Currentday_Count.columns = ['Day', 'Parking_Availabilities']\n",
    "\n",
    "Day_of_Choice = Currentday_Count.iloc[0,0]\n",
    "\n",
    "Currentday_Count"
   ]
  },
  {
   "cell_type": "code",
   "execution_count": 7,
   "id": "fbc6e214",
   "metadata": {},
   "outputs": [
    {
     "name": "stdout",
     "output_type": "stream",
     "text": [
      "145.0\n",
      "139\n",
      "-0.041379310344827586\n"
     ]
    }
   ],
   "source": [
    "#Percentage Difference \n",
    "four_wk_avg = CountStatus['Mean_Parking_Availabilities'][CountStatus['Day'] == 'Wednesday'].iloc[0]\n",
    "Today = Currentday_Count['Parking_Availabilities'][Currentday_Count['Day'] == 'Wednesday'].iloc[0]\n",
    "Percent_Diff = (Today - four_wk_avg)/(four_wk_avg)\n",
    "\n",
    "print(four_wk_avg)\n",
    "print(Today)\n",
    "print(Percent_Diff)"
   ]
  },
  {
   "cell_type": "code",
   "execution_count": 8,
   "id": "78b3a00b",
   "metadata": {},
   "outputs": [
    {
     "name": "stdout",
     "output_type": "stream",
     "text": [
      "The parking availabillity is a little less busy\n"
     ]
    }
   ],
   "source": [
    "def popular_times(Percent_Diff):\n",
    "    if (-0.2 >= Percent_Diff):\n",
    "        return (\"The parking availabillity is less busy than usual\")\n",
    "    if (-0.2 < Percent_Diff <= -0.1):\n",
    "        return(\"The parking availabillity is not too busy\")\n",
    "    if (-0.1 < Percent_Diff <= -0.025):\n",
    "        return (\"The parking availabillity is a little less busy\")\n",
    "    if (-0.025 < Percent_Diff < 0.025):\n",
    "        return (\"The parking availabillity is as busy as expected\")    \n",
    "    if (0.025 <= Percent_Diff < 0.1):\n",
    "        return (\"The parking availabillity is a little busy\")   \n",
    "    if (0.1 <= Percent_Diff < 0.2):\n",
    "        return (\"The parking availabillity is much busier than usual\")\n",
    "    if (Percent_Diff >= 0.2):\n",
    "        return (\"The parking availabillity is very busy\")\n",
    "    \n",
    "print(popular_times(Percent_Diff))"
   ]
  },
  {
   "cell_type": "code",
   "execution_count": 11,
   "id": "0e22d97b",
   "metadata": {},
   "outputs": [
    {
     "data": {
      "image/png": "[encoded data removed]",
      "text/plain": [
       "<Figure size 900x450 with 1 Axes>"
      ]
     },
     "metadata": {},
     "output_type": "display_data"
    }
   ],
   "source": [
    "sns.set(font_scale=1.5)\n",
    "figure(figsize=(12, 6), dpi=75)\n",
    "sns.set_style(\"white\")\n",
    "\n",
    "plt.ylabel(\"Parking Availabilities\", labelpad=14)\n",
    "plt.xlabel(\"Day of the Week\", labelpad=14)\n",
    "plt.title(f\"Parking Availability on {Day_of_Choice} vs Other days\", y=1)\n",
    "\n",
    "plt.bar(CountStatus['Day'], CountStatus['Mean_Parking_Availabilities'],alpha=0.4 , label=\"4-Week Average\")\n",
    "plt.bar(Currentday_Count['Day'], Currentday_Count['Parking_Availabilities'],alpha=0.4, label=\"Available Now\")\n",
    "\n",
    "plt.text(-0.45, 45, f\"{popular_times(Percent_Diff)}\", style='italic', \n",
    "         bbox={'facecolor': 'green', 'alpha': 0.25, 'pad': 7.5})\n",
    "\n",
    "plt.legend(loc =\"lower left\", borderaxespad=1)\n",
    "\n",
    "plt.show()"
   ]
  }
 ],
 "metadata": {
  "kernelspec": {
   "display_name": "Python 3",
   "language": "python",
   "name": "python3"
  },
  "language_info": {
   "codemirror_mode": {
    "name": "ipython",
    "version": 3
   },
   "file_extension": ".py",
   "mimetype": "text/x-python",
   "name": "python",
   "nbconvert_exporter": "python",
   "pygments_lexer": "ipython3",
   "version": "3.7.10"
  }
 },
 "nbformat": 4,
 "nbformat_minor": 5
}
