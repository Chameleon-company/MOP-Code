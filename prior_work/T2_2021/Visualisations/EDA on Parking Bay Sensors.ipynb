{
 "cells": [
  {
   "cell_type": "code",
   "execution_count": 1,
   "id": "f070cecf",
   "metadata": {},
   "outputs": [],
   "source": [
    "import pandas as pd\n",
    "import numpy as np\n",
    "import seaborn as sns\n",
    "import matplotlib.pyplot as plt\n",
    "from sodapy import Socrata"
   ]
  },
  {
   "cell_type": "code",
   "execution_count": 2,
   "id": "a83cb522",
   "metadata": {},
   "outputs": [
    {
     "name": "stderr",
     "output_type": "stream",
     "text": [
      "WARNING:root:Requests made without an app_token will be subject to strict throttling limits.\n"
     ]
    }
   ],
   "source": [
    "# Unauthenticated client only works with public data sets. Note 'None'\n",
    "# in place of application token, and no username or password:\n",
    "client = Socrata(\"data.melbourne.vic.gov.au\", None)"
   ]
  },
  {
   "cell_type": "code",
   "execution_count": 3,
   "id": "a7e1168f",
   "metadata": {},
   "outputs": [],
   "source": [
    "results = client.get(\"vh2v-4nfs\", limit=2000)"
   ]
  },
  {
   "cell_type": "code",
   "execution_count": 4,
   "id": "3e5db94b",
   "metadata": {},
   "outputs": [
    {
     "data": {
      "text/html": [
       "<div>\n",
       "<style scoped>\n",
       "    .dataframe tbody tr th:only-of-type {\n",
       "        vertical-align: middle;\n",
       "    }\n",
       "\n",
       "    .dataframe tbody tr th {\n",
       "        vertical-align: top;\n",
       "    }\n",
       "\n",
       "    .dataframe thead th {\n",
       "        text-align: right;\n",
       "    }\n",
       "</style>\n",
       "<table border=\"1\" class=\"dataframe\">\n",
       "  <thead>\n",
       "    <tr style=\"text-align: right;\">\n",
       "      <th></th>\n",
       "      <th>bay_id</th>\n",
       "      <th>st_marker_id</th>\n",
       "      <th>status</th>\n",
       "      <th>location</th>\n",
       "      <th>lat</th>\n",
       "      <th>lon</th>\n",
       "      <th>:@computed_region_evbi_jbp8</th>\n",
       "    </tr>\n",
       "  </thead>\n",
       "  <tbody>\n",
       "    <tr>\n",
       "      <th>0</th>\n",
       "      <td>3696</td>\n",
       "      <td>7660N</td>\n",
       "      <td>Present</td>\n",
       "      <td>{'latitude': '-37.80495487459986', 'longitude'...</td>\n",
       "      <td>-37.80495487459986</td>\n",
       "      <td>144.95670063806824</td>\n",
       "      <td>1</td>\n",
       "    </tr>\n",
       "    <tr>\n",
       "      <th>1</th>\n",
       "      <td>5469</td>\n",
       "      <td>11892E</td>\n",
       "      <td>Unoccupied</td>\n",
       "      <td>{'latitude': '-37.81028160890837', 'longitude'...</td>\n",
       "      <td>-37.81028160890837</td>\n",
       "      <td>144.97836372102498</td>\n",
       "      <td>1</td>\n",
       "    </tr>\n",
       "    <tr>\n",
       "      <th>2</th>\n",
       "      <td>5669</td>\n",
       "      <td>12336N</td>\n",
       "      <td>Present</td>\n",
       "      <td>{'latitude': '-37.80987568569655', 'longitude'...</td>\n",
       "      <td>-37.80987568569655</td>\n",
       "      <td>144.9793561919218</td>\n",
       "      <td>1</td>\n",
       "    </tr>\n",
       "    <tr>\n",
       "      <th>3</th>\n",
       "      <td>5375</td>\n",
       "      <td>11724E</td>\n",
       "      <td>Present</td>\n",
       "      <td>{'latitude': '-37.809919627877356', 'longitude...</td>\n",
       "      <td>-37.809919627877356</td>\n",
       "      <td>144.97298012382748</td>\n",
       "      <td>1</td>\n",
       "    </tr>\n",
       "    <tr>\n",
       "      <th>4</th>\n",
       "      <td>5391</td>\n",
       "      <td>11748E</td>\n",
       "      <td>Unoccupied</td>\n",
       "      <td>{'latitude': '-37.810217965782726', 'longitude...</td>\n",
       "      <td>-37.810217965782726</td>\n",
       "      <td>144.9756724717453</td>\n",
       "      <td>1</td>\n",
       "    </tr>\n",
       "    <tr>\n",
       "      <th>...</th>\n",
       "      <td>...</td>\n",
       "      <td>...</td>\n",
       "      <td>...</td>\n",
       "      <td>...</td>\n",
       "      <td>...</td>\n",
       "      <td>...</td>\n",
       "      <td>...</td>\n",
       "    </tr>\n",
       "    <tr>\n",
       "      <th>1084</th>\n",
       "      <td>2694</td>\n",
       "      <td>10324E</td>\n",
       "      <td>Unoccupied</td>\n",
       "      <td>{'latitude': '-37.80300386158146', 'longitude'...</td>\n",
       "      <td>-37.80300386158146</td>\n",
       "      <td>144.94403243100396</td>\n",
       "      <td>1</td>\n",
       "    </tr>\n",
       "    <tr>\n",
       "      <th>1085</th>\n",
       "      <td>2696</td>\n",
       "      <td>10326E</td>\n",
       "      <td>Present</td>\n",
       "      <td>{'latitude': '-37.80304693129534', 'longitude'...</td>\n",
       "      <td>-37.80304693129534</td>\n",
       "      <td>144.94402475908936</td>\n",
       "      <td>1</td>\n",
       "    </tr>\n",
       "    <tr>\n",
       "      <th>1086</th>\n",
       "      <td>2702</td>\n",
       "      <td>10332E</td>\n",
       "      <td>Present</td>\n",
       "      <td>{'latitude': '-37.80323724450006', 'longitude'...</td>\n",
       "      <td>-37.80323724450006</td>\n",
       "      <td>144.94399118932236</td>\n",
       "      <td>1</td>\n",
       "    </tr>\n",
       "    <tr>\n",
       "      <th>1087</th>\n",
       "      <td>3004</td>\n",
       "      <td>5062E</td>\n",
       "      <td>Unoccupied</td>\n",
       "      <td>{'latitude': '-37.80512292678459', 'longitude'...</td>\n",
       "      <td>-37.80512292678459</td>\n",
       "      <td>144.95805252500634</td>\n",
       "      <td>1</td>\n",
       "    </tr>\n",
       "    <tr>\n",
       "      <th>1088</th>\n",
       "      <td>3019</td>\n",
       "      <td>5100E</td>\n",
       "      <td>Present</td>\n",
       "      <td>{'latitude': '-37.804378178842995', 'longitude...</td>\n",
       "      <td>-37.804378178842995</td>\n",
       "      <td>144.9577120543801</td>\n",
       "      <td>1</td>\n",
       "    </tr>\n",
       "  </tbody>\n",
       "</table>\n",
       "<p>1089 rows × 7 columns</p>\n",
       "</div>"
      ],
      "text/plain": [
       "     bay_id st_marker_id      status  \\\n",
       "0      3696        7660N     Present   \n",
       "1      5469       11892E  Unoccupied   \n",
       "2      5669       12336N     Present   \n",
       "3      5375       11724E     Present   \n",
       "4      5391       11748E  Unoccupied   \n",
       "...     ...          ...         ...   \n",
       "1084   2694       10324E  Unoccupied   \n",
       "1085   2696       10326E     Present   \n",
       "1086   2702       10332E     Present   \n",
       "1087   3004        5062E  Unoccupied   \n",
       "1088   3019        5100E     Present   \n",
       "\n",
       "                                               location                  lat  \\\n",
       "0     {'latitude': '-37.80495487459986', 'longitude'...   -37.80495487459986   \n",
       "1     {'latitude': '-37.81028160890837', 'longitude'...   -37.81028160890837   \n",
       "2     {'latitude': '-37.80987568569655', 'longitude'...   -37.80987568569655   \n",
       "3     {'latitude': '-37.809919627877356', 'longitude...  -37.809919627877356   \n",
       "4     {'latitude': '-37.810217965782726', 'longitude...  -37.810217965782726   \n",
       "...                                                 ...                  ...   \n",
       "1084  {'latitude': '-37.80300386158146', 'longitude'...   -37.80300386158146   \n",
       "1085  {'latitude': '-37.80304693129534', 'longitude'...   -37.80304693129534   \n",
       "1086  {'latitude': '-37.80323724450006', 'longitude'...   -37.80323724450006   \n",
       "1087  {'latitude': '-37.80512292678459', 'longitude'...   -37.80512292678459   \n",
       "1088  {'latitude': '-37.804378178842995', 'longitude...  -37.804378178842995   \n",
       "\n",
       "                     lon :@computed_region_evbi_jbp8  \n",
       "0     144.95670063806824                           1  \n",
       "1     144.97836372102498                           1  \n",
       "2      144.9793561919218                           1  \n",
       "3     144.97298012382748                           1  \n",
       "4      144.9756724717453                           1  \n",
       "...                  ...                         ...  \n",
       "1084  144.94403243100396                           1  \n",
       "1085  144.94402475908936                           1  \n",
       "1086  144.94399118932236                           1  \n",
       "1087  144.95805252500634                           1  \n",
       "1088   144.9577120543801                           1  \n",
       "\n",
       "[1089 rows x 7 columns]"
      ]
     },
     "execution_count": 4,
     "metadata": {},
     "output_type": "execute_result"
    }
   ],
   "source": [
    "# Convert to pandas DataFrame\n",
    "Parking_df = pd.DataFrame.from_records(results)\n",
    "Parking_df"
   ]
  },
  {
   "cell_type": "code",
   "execution_count": 5,
   "id": "0d61997d",
   "metadata": {},
   "outputs": [
    {
     "data": {
      "text/html": [
       "<div>\n",
       "<style scoped>\n",
       "    .dataframe tbody tr th:only-of-type {\n",
       "        vertical-align: middle;\n",
       "    }\n",
       "\n",
       "    .dataframe tbody tr th {\n",
       "        vertical-align: top;\n",
       "    }\n",
       "\n",
       "    .dataframe thead th {\n",
       "        text-align: right;\n",
       "    }\n",
       "</style>\n",
       "<table border=\"1\" class=\"dataframe\">\n",
       "  <thead>\n",
       "    <tr style=\"text-align: right;\">\n",
       "      <th></th>\n",
       "      <th>bay_id</th>\n",
       "      <th>st_marker_id</th>\n",
       "      <th>status</th>\n",
       "      <th>location</th>\n",
       "      <th>lat</th>\n",
       "      <th>lon</th>\n",
       "    </tr>\n",
       "  </thead>\n",
       "  <tbody>\n",
       "    <tr>\n",
       "      <th>0</th>\n",
       "      <td>3696</td>\n",
       "      <td>7660N</td>\n",
       "      <td>Present</td>\n",
       "      <td>{'latitude': '-37.80495487459986', 'longitude'...</td>\n",
       "      <td>-37.80495487459986</td>\n",
       "      <td>144.95670063806824</td>\n",
       "    </tr>\n",
       "    <tr>\n",
       "      <th>1</th>\n",
       "      <td>5469</td>\n",
       "      <td>11892E</td>\n",
       "      <td>Unoccupied</td>\n",
       "      <td>{'latitude': '-37.81028160890837', 'longitude'...</td>\n",
       "      <td>-37.81028160890837</td>\n",
       "      <td>144.97836372102498</td>\n",
       "    </tr>\n",
       "    <tr>\n",
       "      <th>2</th>\n",
       "      <td>5669</td>\n",
       "      <td>12336N</td>\n",
       "      <td>Present</td>\n",
       "      <td>{'latitude': '-37.80987568569655', 'longitude'...</td>\n",
       "      <td>-37.80987568569655</td>\n",
       "      <td>144.9793561919218</td>\n",
       "    </tr>\n",
       "    <tr>\n",
       "      <th>3</th>\n",
       "      <td>5375</td>\n",
       "      <td>11724E</td>\n",
       "      <td>Present</td>\n",
       "      <td>{'latitude': '-37.809919627877356', 'longitude...</td>\n",
       "      <td>-37.809919627877356</td>\n",
       "      <td>144.97298012382748</td>\n",
       "    </tr>\n",
       "    <tr>\n",
       "      <th>4</th>\n",
       "      <td>5391</td>\n",
       "      <td>11748E</td>\n",
       "      <td>Unoccupied</td>\n",
       "      <td>{'latitude': '-37.810217965782726', 'longitude...</td>\n",
       "      <td>-37.810217965782726</td>\n",
       "      <td>144.9756724717453</td>\n",
       "    </tr>\n",
       "    <tr>\n",
       "      <th>...</th>\n",
       "      <td>...</td>\n",
       "      <td>...</td>\n",
       "      <td>...</td>\n",
       "      <td>...</td>\n",
       "      <td>...</td>\n",
       "      <td>...</td>\n",
       "    </tr>\n",
       "    <tr>\n",
       "      <th>1084</th>\n",
       "      <td>2694</td>\n",
       "      <td>10324E</td>\n",
       "      <td>Unoccupied</td>\n",
       "      <td>{'latitude': '-37.80300386158146', 'longitude'...</td>\n",
       "      <td>-37.80300386158146</td>\n",
       "      <td>144.94403243100396</td>\n",
       "    </tr>\n",
       "    <tr>\n",
       "      <th>1085</th>\n",
       "      <td>2696</td>\n",
       "      <td>10326E</td>\n",
       "      <td>Present</td>\n",
       "      <td>{'latitude': '-37.80304693129534', 'longitude'...</td>\n",
       "      <td>-37.80304693129534</td>\n",
       "      <td>144.94402475908936</td>\n",
       "    </tr>\n",
       "    <tr>\n",
       "      <th>1086</th>\n",
       "      <td>2702</td>\n",
       "      <td>10332E</td>\n",
       "      <td>Present</td>\n",
       "      <td>{'latitude': '-37.80323724450006', 'longitude'...</td>\n",
       "      <td>-37.80323724450006</td>\n",
       "      <td>144.94399118932236</td>\n",
       "    </tr>\n",
       "    <tr>\n",
       "      <th>1087</th>\n",
       "      <td>3004</td>\n",
       "      <td>5062E</td>\n",
       "      <td>Unoccupied</td>\n",
       "      <td>{'latitude': '-37.80512292678459', 'longitude'...</td>\n",
       "      <td>-37.80512292678459</td>\n",
       "      <td>144.95805252500634</td>\n",
       "    </tr>\n",
       "    <tr>\n",
       "      <th>1088</th>\n",
       "      <td>3019</td>\n",
       "      <td>5100E</td>\n",
       "      <td>Present</td>\n",
       "      <td>{'latitude': '-37.804378178842995', 'longitude...</td>\n",
       "      <td>-37.804378178842995</td>\n",
       "      <td>144.9577120543801</td>\n",
       "    </tr>\n",
       "  </tbody>\n",
       "</table>\n",
       "<p>1089 rows × 6 columns</p>\n",
       "</div>"
      ],
      "text/plain": [
       "     bay_id st_marker_id      status  \\\n",
       "0      3696        7660N     Present   \n",
       "1      5469       11892E  Unoccupied   \n",
       "2      5669       12336N     Present   \n",
       "3      5375       11724E     Present   \n",
       "4      5391       11748E  Unoccupied   \n",
       "...     ...          ...         ...   \n",
       "1084   2694       10324E  Unoccupied   \n",
       "1085   2696       10326E     Present   \n",
       "1086   2702       10332E     Present   \n",
       "1087   3004        5062E  Unoccupied   \n",
       "1088   3019        5100E     Present   \n",
       "\n",
       "                                               location                  lat  \\\n",
       "0     {'latitude': '-37.80495487459986', 'longitude'...   -37.80495487459986   \n",
       "1     {'latitude': '-37.81028160890837', 'longitude'...   -37.81028160890837   \n",
       "2     {'latitude': '-37.80987568569655', 'longitude'...   -37.80987568569655   \n",
       "3     {'latitude': '-37.809919627877356', 'longitude...  -37.809919627877356   \n",
       "4     {'latitude': '-37.810217965782726', 'longitude...  -37.810217965782726   \n",
       "...                                                 ...                  ...   \n",
       "1084  {'latitude': '-37.80300386158146', 'longitude'...   -37.80300386158146   \n",
       "1085  {'latitude': '-37.80304693129534', 'longitude'...   -37.80304693129534   \n",
       "1086  {'latitude': '-37.80323724450006', 'longitude'...   -37.80323724450006   \n",
       "1087  {'latitude': '-37.80512292678459', 'longitude'...   -37.80512292678459   \n",
       "1088  {'latitude': '-37.804378178842995', 'longitude...  -37.804378178842995   \n",
       "\n",
       "                     lon  \n",
       "0     144.95670063806824  \n",
       "1     144.97836372102498  \n",
       "2      144.9793561919218  \n",
       "3     144.97298012382748  \n",
       "4      144.9756724717453  \n",
       "...                  ...  \n",
       "1084  144.94403243100396  \n",
       "1085  144.94402475908936  \n",
       "1086  144.94399118932236  \n",
       "1087  144.95805252500634  \n",
       "1088   144.9577120543801  \n",
       "\n",
       "[1089 rows x 6 columns]"
      ]
     },
     "execution_count": 5,
     "metadata": {},
     "output_type": "execute_result"
    }
   ],
   "source": [
    "Parking_df = Parking_df.iloc[:,[0,1,2,3,4,5]]\n",
    "Parking_df"
   ]
  },
  {
   "cell_type": "code",
   "execution_count": 6,
   "id": "ac12ada4",
   "metadata": {},
   "outputs": [
    {
     "name": "stdout",
     "output_type": "stream",
     "text": [
      "The Total Rows in the dataset = 1089\n",
      "The Total Columns in the dataset = 6\n"
     ]
    }
   ],
   "source": [
    "#The amount of observations (rows) and characteristics(columns) in a dataset\n",
    "print ('The Total Rows in the dataset = ' + str(Parking_df.shape[0]))\n",
    "print ('The Total Columns in the dataset = ' + str(Parking_df.shape[1]))"
   ]
  },
  {
   "cell_type": "code",
   "execution_count": 7,
   "id": "5d01b49a",
   "metadata": {},
   "outputs": [
    {
     "data": {
      "text/plain": [
       "Index(['bay_id', 'st_marker_id', 'status', 'location', 'lat', 'lon'], dtype='object')"
      ]
     },
     "execution_count": 7,
     "metadata": {},
     "output_type": "execute_result"
    }
   ],
   "source": [
    "#Dataset columns \n",
    "Parking_df.columns"
   ]
  },
  {
   "cell_type": "code",
   "execution_count": 8,
   "id": "dea0ef49",
   "metadata": {},
   "outputs": [
    {
     "data": {
      "text/plain": [
       "bay_id          object\n",
       "st_marker_id    object\n",
       "status          object\n",
       "location        object\n",
       "lat             object\n",
       "lon             object\n",
       "dtype: object"
      ]
     },
     "execution_count": 8,
     "metadata": {},
     "output_type": "execute_result"
    }
   ],
   "source": [
    "# Checking the data type\n",
    "Parking_df.dtypes"
   ]
  },
  {
   "cell_type": "code",
   "execution_count": 9,
   "id": "06be12dd",
   "metadata": {},
   "outputs": [
    {
     "name": "stdout",
     "output_type": "stream",
     "text": [
      "<class 'pandas.core.frame.DataFrame'>\n",
      "RangeIndex: 1089 entries, 0 to 1088\n",
      "Data columns (total 6 columns):\n",
      " #   Column        Non-Null Count  Dtype \n",
      "---  ------        --------------  ----- \n",
      " 0   bay_id        1089 non-null   object\n",
      " 1   st_marker_id  1089 non-null   object\n",
      " 2   status        1089 non-null   object\n",
      " 3   location      1089 non-null   object\n",
      " 4   lat           1089 non-null   object\n",
      " 5   lon           1089 non-null   object\n",
      "dtypes: object(6)\n",
      "memory usage: 51.2+ KB\n"
     ]
    }
   ],
   "source": [
    "#Check if dataset has any null/missing values \n",
    "Parking_df.info()"
   ]
  },
  {
   "cell_type": "code",
   "execution_count": 10,
   "id": "5542218a",
   "metadata": {},
   "outputs": [
    {
     "data": {
      "text/plain": [
       "bay_id          1089\n",
       "st_marker_id    1089\n",
       "status          1089\n",
       "location        1089\n",
       "lat             1089\n",
       "lon             1089\n",
       "dtype: int64"
      ]
     },
     "execution_count": 10,
     "metadata": {},
     "output_type": "execute_result"
    }
   ],
   "source": [
    "# Counting the number of rows in each column\n",
    "Parking_df.count()"
   ]
  },
  {
   "cell_type": "code",
   "execution_count": 11,
   "id": "299700f7",
   "metadata": {},
   "outputs": [
    {
     "data": {
      "text/plain": [
       "bay_id          0\n",
       "st_marker_id    0\n",
       "status          0\n",
       "location        0\n",
       "lat             0\n",
       "lon             0\n",
       "dtype: int64"
      ]
     },
     "execution_count": 11,
     "metadata": {},
     "output_type": "execute_result"
    }
   ],
   "source": [
    "#Check if dataset has any null/missing values \n",
    "Parking_df.isnull().sum()"
   ]
  },
  {
   "cell_type": "code",
   "execution_count": 12,
   "id": "52dea496",
   "metadata": {},
   "outputs": [
    {
     "data": {
      "text/html": [
       "<div>\n",
       "<style scoped>\n",
       "    .dataframe tbody tr th:only-of-type {\n",
       "        vertical-align: middle;\n",
       "    }\n",
       "\n",
       "    .dataframe tbody tr th {\n",
       "        vertical-align: top;\n",
       "    }\n",
       "\n",
       "    .dataframe thead th {\n",
       "        text-align: right;\n",
       "    }\n",
       "</style>\n",
       "<table border=\"1\" class=\"dataframe\">\n",
       "  <thead>\n",
       "    <tr style=\"text-align: right;\">\n",
       "      <th></th>\n",
       "      <th>bay_id</th>\n",
       "      <th>st_marker_id</th>\n",
       "      <th>status</th>\n",
       "      <th>location</th>\n",
       "      <th>lat</th>\n",
       "      <th>lon</th>\n",
       "    </tr>\n",
       "  </thead>\n",
       "  <tbody>\n",
       "    <tr>\n",
       "      <th>0</th>\n",
       "      <td>3696</td>\n",
       "      <td>7660N</td>\n",
       "      <td>Present</td>\n",
       "      <td>{'latitude': '-37.80495487459986', 'longitude'...</td>\n",
       "      <td>-37.80495487459986</td>\n",
       "      <td>144.95670063806824</td>\n",
       "    </tr>\n",
       "    <tr>\n",
       "      <th>1</th>\n",
       "      <td>5469</td>\n",
       "      <td>11892E</td>\n",
       "      <td>Unoccupied</td>\n",
       "      <td>{'latitude': '-37.81028160890837', 'longitude'...</td>\n",
       "      <td>-37.81028160890837</td>\n",
       "      <td>144.97836372102498</td>\n",
       "    </tr>\n",
       "    <tr>\n",
       "      <th>2</th>\n",
       "      <td>5669</td>\n",
       "      <td>12336N</td>\n",
       "      <td>Present</td>\n",
       "      <td>{'latitude': '-37.80987568569655', 'longitude'...</td>\n",
       "      <td>-37.80987568569655</td>\n",
       "      <td>144.9793561919218</td>\n",
       "    </tr>\n",
       "    <tr>\n",
       "      <th>3</th>\n",
       "      <td>5375</td>\n",
       "      <td>11724E</td>\n",
       "      <td>Present</td>\n",
       "      <td>{'latitude': '-37.809919627877356', 'longitude...</td>\n",
       "      <td>-37.809919627877356</td>\n",
       "      <td>144.97298012382748</td>\n",
       "    </tr>\n",
       "    <tr>\n",
       "      <th>4</th>\n",
       "      <td>5391</td>\n",
       "      <td>11748E</td>\n",
       "      <td>Unoccupied</td>\n",
       "      <td>{'latitude': '-37.810217965782726', 'longitude...</td>\n",
       "      <td>-37.810217965782726</td>\n",
       "      <td>144.9756724717453</td>\n",
       "    </tr>\n",
       "  </tbody>\n",
       "</table>\n",
       "</div>"
      ],
      "text/plain": [
       "  bay_id st_marker_id      status  \\\n",
       "0   3696        7660N     Present   \n",
       "1   5469       11892E  Unoccupied   \n",
       "2   5669       12336N     Present   \n",
       "3   5375       11724E     Present   \n",
       "4   5391       11748E  Unoccupied   \n",
       "\n",
       "                                            location                  lat  \\\n",
       "0  {'latitude': '-37.80495487459986', 'longitude'...   -37.80495487459986   \n",
       "1  {'latitude': '-37.81028160890837', 'longitude'...   -37.81028160890837   \n",
       "2  {'latitude': '-37.80987568569655', 'longitude'...   -37.80987568569655   \n",
       "3  {'latitude': '-37.809919627877356', 'longitude...  -37.809919627877356   \n",
       "4  {'latitude': '-37.810217965782726', 'longitude...  -37.810217965782726   \n",
       "\n",
       "                  lon  \n",
       "0  144.95670063806824  \n",
       "1  144.97836372102498  \n",
       "2   144.9793561919218  \n",
       "3  144.97298012382748  \n",
       "4   144.9756724717453  "
      ]
     },
     "execution_count": 12,
     "metadata": {},
     "output_type": "execute_result"
    }
   ],
   "source": [
    "#Check the first 5 values of the dataset\n",
    "Parking_df.head()"
   ]
  },
  {
   "cell_type": "code",
   "execution_count": 13,
   "id": "5d9525d1",
   "metadata": {},
   "outputs": [
    {
     "data": {
      "text/html": [
       "<div>\n",
       "<style scoped>\n",
       "    .dataframe tbody tr th:only-of-type {\n",
       "        vertical-align: middle;\n",
       "    }\n",
       "\n",
       "    .dataframe tbody tr th {\n",
       "        vertical-align: top;\n",
       "    }\n",
       "\n",
       "    .dataframe thead th {\n",
       "        text-align: right;\n",
       "    }\n",
       "</style>\n",
       "<table border=\"1\" class=\"dataframe\">\n",
       "  <thead>\n",
       "    <tr style=\"text-align: right;\">\n",
       "      <th></th>\n",
       "      <th>bay_id</th>\n",
       "      <th>st_marker_id</th>\n",
       "      <th>status</th>\n",
       "      <th>location</th>\n",
       "      <th>lat</th>\n",
       "      <th>lon</th>\n",
       "    </tr>\n",
       "  </thead>\n",
       "  <tbody>\n",
       "    <tr>\n",
       "      <th>1084</th>\n",
       "      <td>2694</td>\n",
       "      <td>10324E</td>\n",
       "      <td>Unoccupied</td>\n",
       "      <td>{'latitude': '-37.80300386158146', 'longitude'...</td>\n",
       "      <td>-37.80300386158146</td>\n",
       "      <td>144.94403243100396</td>\n",
       "    </tr>\n",
       "    <tr>\n",
       "      <th>1085</th>\n",
       "      <td>2696</td>\n",
       "      <td>10326E</td>\n",
       "      <td>Present</td>\n",
       "      <td>{'latitude': '-37.80304693129534', 'longitude'...</td>\n",
       "      <td>-37.80304693129534</td>\n",
       "      <td>144.94402475908936</td>\n",
       "    </tr>\n",
       "    <tr>\n",
       "      <th>1086</th>\n",
       "      <td>2702</td>\n",
       "      <td>10332E</td>\n",
       "      <td>Present</td>\n",
       "      <td>{'latitude': '-37.80323724450006', 'longitude'...</td>\n",
       "      <td>-37.80323724450006</td>\n",
       "      <td>144.94399118932236</td>\n",
       "    </tr>\n",
       "    <tr>\n",
       "      <th>1087</th>\n",
       "      <td>3004</td>\n",
       "      <td>5062E</td>\n",
       "      <td>Unoccupied</td>\n",
       "      <td>{'latitude': '-37.80512292678459', 'longitude'...</td>\n",
       "      <td>-37.80512292678459</td>\n",
       "      <td>144.95805252500634</td>\n",
       "    </tr>\n",
       "    <tr>\n",
       "      <th>1088</th>\n",
       "      <td>3019</td>\n",
       "      <td>5100E</td>\n",
       "      <td>Present</td>\n",
       "      <td>{'latitude': '-37.804378178842995', 'longitude...</td>\n",
       "      <td>-37.804378178842995</td>\n",
       "      <td>144.9577120543801</td>\n",
       "    </tr>\n",
       "  </tbody>\n",
       "</table>\n",
       "</div>"
      ],
      "text/plain": [
       "     bay_id st_marker_id      status  \\\n",
       "1084   2694       10324E  Unoccupied   \n",
       "1085   2696       10326E     Present   \n",
       "1086   2702       10332E     Present   \n",
       "1087   3004        5062E  Unoccupied   \n",
       "1088   3019        5100E     Present   \n",
       "\n",
       "                                               location                  lat  \\\n",
       "1084  {'latitude': '-37.80300386158146', 'longitude'...   -37.80300386158146   \n",
       "1085  {'latitude': '-37.80304693129534', 'longitude'...   -37.80304693129534   \n",
       "1086  {'latitude': '-37.80323724450006', 'longitude'...   -37.80323724450006   \n",
       "1087  {'latitude': '-37.80512292678459', 'longitude'...   -37.80512292678459   \n",
       "1088  {'latitude': '-37.804378178842995', 'longitude...  -37.804378178842995   \n",
       "\n",
       "                     lon  \n",
       "1084  144.94403243100396  \n",
       "1085  144.94402475908936  \n",
       "1086  144.94399118932236  \n",
       "1087  144.95805252500634  \n",
       "1088   144.9577120543801  "
      ]
     },
     "execution_count": 13,
     "metadata": {},
     "output_type": "execute_result"
    }
   ],
   "source": [
    "#Check the last 5 values of the dataset\n",
    "Parking_df.tail(5) "
   ]
  },
  {
   "cell_type": "code",
   "execution_count": 14,
   "id": "01f765e8",
   "metadata": {},
   "outputs": [
    {
     "data": {
      "text/html": [
       "<div>\n",
       "<style scoped>\n",
       "    .dataframe tbody tr th:only-of-type {\n",
       "        vertical-align: middle;\n",
       "    }\n",
       "\n",
       "    .dataframe tbody tr th {\n",
       "        vertical-align: top;\n",
       "    }\n",
       "\n",
       "    .dataframe thead th {\n",
       "        text-align: right;\n",
       "    }\n",
       "</style>\n",
       "<table border=\"1\" class=\"dataframe\">\n",
       "  <thead>\n",
       "    <tr style=\"text-align: right;\">\n",
       "      <th></th>\n",
       "      <th>bay_id</th>\n",
       "      <th>st_marker_id</th>\n",
       "      <th>status</th>\n",
       "      <th>location</th>\n",
       "      <th>lat</th>\n",
       "      <th>lon</th>\n",
       "    </tr>\n",
       "  </thead>\n",
       "  <tbody>\n",
       "    <tr>\n",
       "      <th>count</th>\n",
       "      <td>1089</td>\n",
       "      <td>1089</td>\n",
       "      <td>1089</td>\n",
       "      <td>1089</td>\n",
       "      <td>1089</td>\n",
       "      <td>1089</td>\n",
       "    </tr>\n",
       "    <tr>\n",
       "      <th>unique</th>\n",
       "      <td>1089</td>\n",
       "      <td>1089</td>\n",
       "      <td>2</td>\n",
       "      <td>1089</td>\n",
       "      <td>1089</td>\n",
       "      <td>1089</td>\n",
       "    </tr>\n",
       "    <tr>\n",
       "      <th>top</th>\n",
       "      <td>3696</td>\n",
       "      <td>657W</td>\n",
       "      <td>Unoccupied</td>\n",
       "      <td>{'latitude': '-37.80463775633693', 'longitude'...</td>\n",
       "      <td>-37.80285872182182</td>\n",
       "      <td>144.95415795040003</td>\n",
       "    </tr>\n",
       "    <tr>\n",
       "      <th>freq</th>\n",
       "      <td>1</td>\n",
       "      <td>1</td>\n",
       "      <td>548</td>\n",
       "      <td>1</td>\n",
       "      <td>1</td>\n",
       "      <td>1</td>\n",
       "    </tr>\n",
       "  </tbody>\n",
       "</table>\n",
       "</div>"
      ],
      "text/plain": [
       "       bay_id st_marker_id      status  \\\n",
       "count    1089         1089        1089   \n",
       "unique   1089         1089           2   \n",
       "top      3696         657W  Unoccupied   \n",
       "freq        1            1         548   \n",
       "\n",
       "                                                 location                 lat  \\\n",
       "count                                                1089                1089   \n",
       "unique                                               1089                1089   \n",
       "top     {'latitude': '-37.80463775633693', 'longitude'...  -37.80285872182182   \n",
       "freq                                                    1                   1   \n",
       "\n",
       "                       lon  \n",
       "count                 1089  \n",
       "unique                1089  \n",
       "top     144.95415795040003  \n",
       "freq                     1  "
      ]
     },
     "execution_count": 14,
     "metadata": {},
     "output_type": "execute_result"
    }
   ],
   "source": [
    "#Summary Statistics of dataset\n",
    "Parking_df.describe()"
   ]
  },
  {
   "cell_type": "code",
   "execution_count": 15,
   "id": "5bc14f54",
   "metadata": {},
   "outputs": [
    {
     "data": {
      "text/plain": [
       "Unoccupied    548\n",
       "Present       541\n",
       "Name: status, dtype: int64"
      ]
     },
     "execution_count": 15,
     "metadata": {},
     "output_type": "execute_result"
    }
   ],
   "source": [
    "#Obtain counts for each value in specific column in descending order\n",
    "Parking_df.status.value_counts()"
   ]
  },
  {
   "cell_type": "code",
   "execution_count": 16,
   "id": "acde6acf",
   "metadata": {},
   "outputs": [
    {
     "data": {
      "image/png": "[encoded data removed]",
      "text/plain": [
       "<Figure size 504x432 with 1 Axes>"
      ]
     },
     "metadata": {},
     "output_type": "display_data"
    }
   ],
   "source": [
    "#plot the bar graph of 'status' categories\n",
    "sns.set(font_scale=1.4)\n",
    "Parking_df['status'].value_counts().plot(kind='bar', figsize=(7, 6), rot=0)\n",
    "plt.xlabel(\"Count\", labelpad=14)\n",
    "plt.ylabel(\"Status of Parking bay\", labelpad=14)\n",
    "plt.title(\"Count of Unoccupied or Present Parkings\", y=1.02);"
   ]
  },
  {
   "cell_type": "code",
   "execution_count": 17,
   "id": "e91cfdb5",
   "metadata": {},
   "outputs": [
    {
     "data": {
      "image/png": "[encoded data removed]",
      "text/plain": [
       "<Figure size 504x432 with 1 Axes>"
      ]
     },
     "metadata": {},
     "output_type": "display_data"
    }
   ],
   "source": [
    "#plot the bar graph of 'status' categories NORMALISED\n",
    "sns.set(font_scale=1.4)\n",
    "Parking_df['status'].value_counts(normalize=True).plot(kind='bar', figsize=(7, 6), rot=0)\n",
    "plt.xlabel(\"Percentage\", labelpad=14)\n",
    "plt.ylabel(\"Status of Parking bay\", labelpad=14)\n",
    "plt.title(\"Percentage of Unoccupied or Present Parkings\", y=1.02);"
   ]
  },
  {
   "cell_type": "code",
   "execution_count": 18,
   "id": "cf97c5a3",
   "metadata": {},
   "outputs": [
    {
     "data": {
      "text/plain": [
       "<AxesSubplot:ylabel='status'>"
      ]
     },
     "execution_count": 18,
     "metadata": {},
     "output_type": "execute_result"
    },
    {
     "data": {
      "image/png": "[encoded data removed]",
      "text/plain": [
       "<Figure size 504x432 with 1 Axes>"
      ]
     },
     "metadata": {},
     "output_type": "display_data"
    }
   ],
   "source": [
    "#plot the bar graph of status categories\n",
    "sns.set(font_scale=1.4)\n",
    "Parking_df['status'].value_counts().plot(kind='pie', figsize=(7, 6), rot=0)"
   ]
  }
 ],
 "metadata": {
  "kernelspec": {
   "display_name": "Python 3",
   "language": "python",
   "name": "python3"
  },
  "language_info": {
   "codemirror_mode": {
    "name": "ipython",
    "version": 3
   },
   "file_extension": ".py",
   "mimetype": "text/x-python",
   "name": "python",
   "nbconvert_exporter": "python",
   "pygments_lexer": "ipython3",
   "version": "3.7.10"
  }
 },
 "nbformat": 4,
 "nbformat_minor": 5
}
