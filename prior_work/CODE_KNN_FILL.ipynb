{
 "cells": [
  {
   "cell_type": "code",
   "execution_count": 1,
   "metadata": {},
   "outputs": [],
   "source": [
    "#importing libraries\n",
    "import pandas as pd\n",
    "import numpy as np\n",
    "import matplotlib.pyplot as plt\n",
    "import datetime as dt"
   ]
  },
  {
   "cell_type": "code",
   "execution_count": 2,
   "metadata": {},
   "outputs": [],
   "source": [
    "#importing data set\n",
    "data=pd.read_csv('PCS.csv')"
   ]
  },
  {
   "cell_type": "code",
   "execution_count": 6,
   "metadata": {},
   "outputs": [
    {
     "data": {
      "text/plain": [
       "ID                int64\n",
       "Date_Time        object\n",
       "Year              int64\n",
       "Month            object\n",
       "Mdate             int64\n",
       "Day              object\n",
       "Time              int64\n",
       "Sensor_ID         int64\n",
       "Sensor_Name      object\n",
       "Hourly_Counts    object\n",
       "dtype: object"
      ]
     },
     "execution_count": 6,
     "metadata": {},
     "output_type": "execute_result"
    }
   ],
   "source": [
    "data.dtypes"
   ]
  },
  {
   "cell_type": "code",
   "execution_count": 4,
   "metadata": {},
   "outputs": [],
   "source": [
    "data=data[data.Year==2020]\n",
    "#data.index=range(0,len(data))"
   ]
  },
  {
   "cell_type": "code",
   "execution_count": 5,
   "metadata": {},
   "outputs": [
    {
     "data": {
      "text/html": [
       "<div>\n",
       "<style scoped>\n",
       "    .dataframe tbody tr th:only-of-type {\n",
       "        vertical-align: middle;\n",
       "    }\n",
       "\n",
       "    .dataframe tbody tr th {\n",
       "        vertical-align: top;\n",
       "    }\n",
       "\n",
       "    .dataframe thead th {\n",
       "        text-align: right;\n",
       "    }\n",
       "</style>\n",
       "<table border=\"1\" class=\"dataframe\">\n",
       "  <thead>\n",
       "    <tr style=\"text-align: right;\">\n",
       "      <th></th>\n",
       "      <th>ID</th>\n",
       "      <th>Date_Time</th>\n",
       "      <th>Year</th>\n",
       "      <th>Month</th>\n",
       "      <th>Mdate</th>\n",
       "      <th>Day</th>\n",
       "      <th>Time</th>\n",
       "      <th>Sensor_ID</th>\n",
       "      <th>Sensor_Name</th>\n",
       "      <th>Hourly_Counts</th>\n",
       "    </tr>\n",
       "  </thead>\n",
       "  <tbody>\n",
       "    <tr>\n",
       "      <th>2966838</th>\n",
       "      <td>2966839</td>\n",
       "      <td>01/01/2020 12:00:00 AM</td>\n",
       "      <td>2020</td>\n",
       "      <td>January</td>\n",
       "      <td>1</td>\n",
       "      <td>Wednesday</td>\n",
       "      <td>0</td>\n",
       "      <td>4</td>\n",
       "      <td>Town Hall (West)</td>\n",
       "      <td>3,120</td>\n",
       "    </tr>\n",
       "    <tr>\n",
       "      <th>2966839</th>\n",
       "      <td>2966840</td>\n",
       "      <td>01/01/2020 12:00:00 AM</td>\n",
       "      <td>2020</td>\n",
       "      <td>January</td>\n",
       "      <td>1</td>\n",
       "      <td>Wednesday</td>\n",
       "      <td>0</td>\n",
       "      <td>17</td>\n",
       "      <td>Collins Place (South)</td>\n",
       "      <td>945</td>\n",
       "    </tr>\n",
       "    <tr>\n",
       "      <th>2966840</th>\n",
       "      <td>2966841</td>\n",
       "      <td>01/01/2020 12:00:00 AM</td>\n",
       "      <td>2020</td>\n",
       "      <td>January</td>\n",
       "      <td>1</td>\n",
       "      <td>Wednesday</td>\n",
       "      <td>0</td>\n",
       "      <td>18</td>\n",
       "      <td>Collins Place (North)</td>\n",
       "      <td>464</td>\n",
       "    </tr>\n",
       "    <tr>\n",
       "      <th>2966841</th>\n",
       "      <td>2966842</td>\n",
       "      <td>01/01/2020 12:00:00 AM</td>\n",
       "      <td>2020</td>\n",
       "      <td>January</td>\n",
       "      <td>1</td>\n",
       "      <td>Wednesday</td>\n",
       "      <td>0</td>\n",
       "      <td>53</td>\n",
       "      <td>Collins St (North)</td>\n",
       "      <td>1,590</td>\n",
       "    </tr>\n",
       "    <tr>\n",
       "      <th>2966842</th>\n",
       "      <td>2966843</td>\n",
       "      <td>01/01/2020 12:00:00 AM</td>\n",
       "      <td>2020</td>\n",
       "      <td>January</td>\n",
       "      <td>1</td>\n",
       "      <td>Wednesday</td>\n",
       "      <td>0</td>\n",
       "      <td>2</td>\n",
       "      <td>Bourke Street Mall (South)</td>\n",
       "      <td>725</td>\n",
       "    </tr>\n",
       "    <tr>\n",
       "      <th>...</th>\n",
       "      <td>...</td>\n",
       "      <td>...</td>\n",
       "      <td>...</td>\n",
       "      <td>...</td>\n",
       "      <td>...</td>\n",
       "      <td>...</td>\n",
       "      <td>...</td>\n",
       "      <td>...</td>\n",
       "      <td>...</td>\n",
       "      <td>...</td>\n",
       "    </tr>\n",
       "    <tr>\n",
       "      <th>3260813</th>\n",
       "      <td>3260814</td>\n",
       "      <td>07/31/2020 11:00:00 PM</td>\n",
       "      <td>2020</td>\n",
       "      <td>July</td>\n",
       "      <td>31</td>\n",
       "      <td>Friday</td>\n",
       "      <td>23</td>\n",
       "      <td>61</td>\n",
       "      <td>Swanston St - RMIT Building 14</td>\n",
       "      <td>21</td>\n",
       "    </tr>\n",
       "    <tr>\n",
       "      <th>3260814</th>\n",
       "      <td>3260815</td>\n",
       "      <td>07/31/2020 11:00:00 PM</td>\n",
       "      <td>2020</td>\n",
       "      <td>July</td>\n",
       "      <td>31</td>\n",
       "      <td>Friday</td>\n",
       "      <td>23</td>\n",
       "      <td>63</td>\n",
       "      <td>231 Bourke St</td>\n",
       "      <td>14</td>\n",
       "    </tr>\n",
       "    <tr>\n",
       "      <th>3260815</th>\n",
       "      <td>3260816</td>\n",
       "      <td>07/31/2020 11:00:00 PM</td>\n",
       "      <td>2020</td>\n",
       "      <td>July</td>\n",
       "      <td>31</td>\n",
       "      <td>Friday</td>\n",
       "      <td>23</td>\n",
       "      <td>64</td>\n",
       "      <td>Royal Pde-Grattan St</td>\n",
       "      <td>6</td>\n",
       "    </tr>\n",
       "    <tr>\n",
       "      <th>3260816</th>\n",
       "      <td>3260817</td>\n",
       "      <td>07/31/2020 11:00:00 PM</td>\n",
       "      <td>2020</td>\n",
       "      <td>July</td>\n",
       "      <td>31</td>\n",
       "      <td>Friday</td>\n",
       "      <td>23</td>\n",
       "      <td>65</td>\n",
       "      <td>Swanston St - City Square</td>\n",
       "      <td>7</td>\n",
       "    </tr>\n",
       "    <tr>\n",
       "      <th>3260817</th>\n",
       "      <td>3260818</td>\n",
       "      <td>07/31/2020 11:00:00 PM</td>\n",
       "      <td>2020</td>\n",
       "      <td>July</td>\n",
       "      <td>31</td>\n",
       "      <td>Friday</td>\n",
       "      <td>23</td>\n",
       "      <td>66</td>\n",
       "      <td>State Library-New</td>\n",
       "      <td>25</td>\n",
       "    </tr>\n",
       "  </tbody>\n",
       "</table>\n",
       "<p>293980 rows × 10 columns</p>\n",
       "</div>"
      ],
      "text/plain": [
       "              ID               Date_Time  Year    Month  Mdate        Day  \\\n",
       "2966838  2966839  01/01/2020 12:00:00 AM  2020  January      1  Wednesday   \n",
       "2966839  2966840  01/01/2020 12:00:00 AM  2020  January      1  Wednesday   \n",
       "2966840  2966841  01/01/2020 12:00:00 AM  2020  January      1  Wednesday   \n",
       "2966841  2966842  01/01/2020 12:00:00 AM  2020  January      1  Wednesday   \n",
       "2966842  2966843  01/01/2020 12:00:00 AM  2020  January      1  Wednesday   \n",
       "...          ...                     ...   ...      ...    ...        ...   \n",
       "3260813  3260814  07/31/2020 11:00:00 PM  2020     July     31     Friday   \n",
       "3260814  3260815  07/31/2020 11:00:00 PM  2020     July     31     Friday   \n",
       "3260815  3260816  07/31/2020 11:00:00 PM  2020     July     31     Friday   \n",
       "3260816  3260817  07/31/2020 11:00:00 PM  2020     July     31     Friday   \n",
       "3260817  3260818  07/31/2020 11:00:00 PM  2020     July     31     Friday   \n",
       "\n",
       "         Time  Sensor_ID                     Sensor_Name Hourly_Counts  \n",
       "2966838     0          4                Town Hall (West)         3,120  \n",
       "2966839     0         17           Collins Place (South)           945  \n",
       "2966840     0         18           Collins Place (North)           464  \n",
       "2966841     0         53              Collins St (North)         1,590  \n",
       "2966842     0          2      Bourke Street Mall (South)           725  \n",
       "...       ...        ...                             ...           ...  \n",
       "3260813    23         61  Swanston St - RMIT Building 14            21  \n",
       "3260814    23         63                   231 Bourke St            14  \n",
       "3260815    23         64            Royal Pde-Grattan St             6  \n",
       "3260816    23         65       Swanston St - City Square             7  \n",
       "3260817    23         66               State Library-New            25  \n",
       "\n",
       "[293980 rows x 10 columns]"
      ]
     },
     "execution_count": 5,
     "metadata": {},
     "output_type": "execute_result"
    }
   ],
   "source": [
    "data"
   ]
  },
  {
   "cell_type": "code",
   "execution_count": 67,
   "metadata": {},
   "outputs": [],
   "source": [
    "new_hour=[]\n",
    "for i in range(0,len(data)):\n",
    "    new_hour.append(data.Hourly_Counts[i].replace(',',''))\n",
    "data.Hourly_Counts=new_hour    "
   ]
  },
  {
   "cell_type": "code",
   "execution_count": 71,
   "metadata": {},
   "outputs": [],
   "source": [
    "#functions for generating new set of dates without any missing days\n",
    "def new_dates_set(gap):\n",
    "    date=[]\n",
    "    time=min(data_temp['Date_Time'])\n",
    "    for i in range(0,gap):\n",
    "        date.append(time+dt.timedelta(hours=i))\n",
    "    return(date)   "
   ]
  },
  {
   "cell_type": "code",
   "execution_count": 72,
   "metadata": {},
   "outputs": [],
   "source": [
    "#function to extract months, days, year and time from the new set of generated dates\n",
    "def extract(df):\n",
    "    for i in range(0,len(df)):\n",
    "        df['Year'][i]=date[i].year\n",
    "        df['Month'][i]=date[i].month\n",
    "        df['Mdate'][i]=date[i].day\n",
    "        df['Day'][i]=date[i].weekday()\n",
    "        df['Time'][i]=date[i].hour\n",
    "        print(i)\n",
    "    df['Sensor_ID']=1\n",
    "    return(df)"
   ]
  },
  {
   "cell_type": "code",
   "execution_count": 73,
   "metadata": {},
   "outputs": [],
   "source": [
    "#function to match and fill up the hourly pedestrian count in the newly created data frame from the old one\n",
    "def match(df,data):\n",
    "    k=0\n",
    "    for i in range(0,len(data)):\n",
    "        for j in range(0,100000):\n",
    "            if(df['Date_Time'][i+k]==data['Date_Time'][i]):\n",
    "                df['Hourly_Counts'][i+k]=data['Hourly_Counts'][i]\n",
    "                break\n",
    "            else:\n",
    "                k=k+1"
   ]
  },
  {
   "cell_type": "code",
   "execution_count": 74,
   "metadata": {},
   "outputs": [],
   "source": [
    "# KNN algorithm to fill up missing values\n",
    "def KNN(data,count=3):\n",
    "    from sklearn.metrics.pairwise import euclidean_distances\n",
    "    m=data.isnull().sum()\n",
    "    mis=[]\n",
    "    data1=data.copy()\n",
    "    for i in range(0,data.shape[1]):\n",
    "        if(m[i]>0):\n",
    "            mis.append(data.columns[i]) \n",
    "        if(len(data.iloc[:,i].value_counts())>50 and data.dtypes[i]==\"O\"):\n",
    "            data1.drop(data.columns[i],axis=1,inplace=True)\n",
    "        if(len(data.iloc[:,i].value_counts())<2):\n",
    "            data1.drop(data.columns[i],axis=1,inplace=True)\n",
    "    data1.drop(mis,axis=1,inplace=True)  \n",
    "    print('Number of columns removed for processing is',len(data.columns)-len(data1.columns))\n",
    "    for i in range(0,data1.shape[1]):\n",
    "        if(data1.dtypes[i]=='O'):\n",
    "            data1.iloc[:,i]=data1.iloc[:,i].astype('category')\n",
    "    data1=pd.get_dummies(data1,drop_first=True) \n",
    "    for i in range(data1.shape[1]):\n",
    "        data1.iloc[:,i]=(data1.iloc[:,i]-min(data1.iloc[:,i]))/(max(data1.iloc[:,i])-min(data1.iloc[:,i]))  \n",
    "    for i in mis:\n",
    "        mi=data[data.loc[:,i].isnull()==True].index\n",
    "        nu=data[data.loc[:,i].isnull()==False].index\n",
    "        ary = euclidean_distances(data1.loc[mi,:], data1.loc[nu,:])\n",
    "        ary=pd.DataFrame(ary)\n",
    "        ary.index=mi\n",
    "        ary.columns=nu\n",
    "        n=0\n",
    "        if(data.dtypes[data.columns.get_loc(i)]=='O'):\n",
    "            for j in mi:\n",
    "                cot=ary.loc[j,:].nsmallest(count)\n",
    "                cot=cot.index\n",
    "                val=data.loc[cot,i]\n",
    "                val=val.mode()\n",
    "                val=pd.DataFrame(val)\n",
    "                val=val.iloc[0,0]\n",
    "                data.loc[j,i]=val\n",
    "        else:\n",
    "            for j in mi:\n",
    "                cot=ary.loc[j,:].nsmallest(count)\n",
    "                cot=cot.index\n",
    "                val=data.loc[cot,i]   \n",
    "                val=val.mean()\n",
    "                data.loc[j,i]=val\n",
    "    return(data)  "
   ]
  },
  {
   "cell_type": "code",
   "execution_count": 75,
   "metadata": {},
   "outputs": [],
   "source": [
    "# algorithm to break down a large dataset into smaller dataframes and pass it into KNN and compile than compile all the smaller data frames\n",
    "def div(data):\n",
    "    x=data.shape[0]\n",
    "    quo=(x//30000)-1\n",
    "    quo=quo*30000\n",
    "    data1=[]\n",
    "    data1=pd.DataFrame(data1)\n",
    "    for i in range(0,quo,30000):\n",
    "        print(i/30000)\n",
    "        data2=KNN(data.iloc[i:i+30000,:],3)\n",
    "        data1=pd.concat([data1,data2],axis=0)\n",
    "    data2=KNN(data.iloc[quo:x],3)\n",
    "    data1=pd.concat([data1,data2],axis=0)\n",
    "    return(data1)"
   ]
  },
  {
   "cell_type": "code",
   "execution_count": 91,
   "metadata": {},
   "outputs": [],
   "source": [
    "final_data=pd.DataFrame()"
   ]
  },
  {
   "cell_type": "code",
   "execution_count": 92,
   "metadata": {},
   "outputs": [
    {
     "name": "stdout",
     "output_type": "stream",
     "text": [
      "working on sensor 1\n"
     ]
    },
    {
     "name": "stderr",
     "output_type": "stream",
     "text": [
      "C:\\Users\\ausaf\\anaconda3\\lib\\site-packages\\ipykernel_launcher.py:6: SettingWithCopyWarning: \n",
      "A value is trying to be set on a copy of a slice from a DataFrame.\n",
      "Try using .loc[row_indexer,col_indexer] = value instead\n",
      "\n",
      "See the caveats in the documentation: https://pandas.pydata.org/pandas-docs/stable/user_guide/indexing.html#returning-a-view-versus-a-copy\n",
      "  \n"
     ]
    },
    {
     "name": "stdout",
     "output_type": "stream",
     "text": [
      "1\n",
      "2\n",
      "3\n"
     ]
    },
    {
     "name": "stderr",
     "output_type": "stream",
     "text": [
      "C:\\Users\\ausaf\\anaconda3\\lib\\site-packages\\ipykernel_launcher.py:40: SettingWithCopyWarning: \n",
      "A value is trying to be set on a copy of a slice from a DataFrame\n",
      "\n",
      "See the caveats in the documentation: https://pandas.pydata.org/pandas-docs/stable/user_guide/indexing.html#returning-a-view-versus-a-copy\n"
     ]
    },
    {
     "name": "stdout",
     "output_type": "stream",
     "text": [
      "4\n",
      "Number of columns removed for processing is 1\n",
      "working on sensor 2\n",
      "1\n",
      "2\n",
      "3\n",
      "4\n",
      "Number of columns removed for processing is 1\n",
      "working on sensor 3\n",
      "1\n",
      "2\n",
      "3\n",
      "4\n",
      "Number of columns removed for processing is 1\n",
      "working on sensor 4\n",
      "1\n",
      "2\n",
      "3\n",
      "4\n",
      "Number of columns removed for processing is 1\n",
      "working on sensor 5\n",
      "1\n",
      "2\n",
      "3\n",
      "4\n",
      "Number of columns removed for processing is 1\n",
      "working on sensor 6\n",
      "1\n",
      "2\n",
      "3\n",
      "4\n",
      "Number of columns removed for processing is 1\n",
      "working on sensor 7\n",
      "1\n",
      "2\n",
      "3\n",
      "4\n",
      "Number of columns removed for processing is 1\n",
      "working on sensor 8\n",
      "1\n",
      "2\n",
      "3\n",
      "4\n",
      "Number of columns removed for processing is 1\n",
      "working on sensor 9\n",
      "1\n",
      "2\n",
      "3\n",
      "4\n",
      "Number of columns removed for processing is 1\n",
      "working on sensor 10\n",
      "1\n",
      "2\n",
      "3\n",
      "4\n",
      "Number of columns removed for processing is 1\n",
      "working on sensor 11\n",
      "1\n",
      "2\n",
      "3\n",
      "4\n",
      "Number of columns removed for processing is 1\n",
      "working on sensor 12\n",
      "1\n",
      "2\n",
      "3\n",
      "4\n",
      "Number of columns removed for processing is 1\n",
      "working on sensor 14\n",
      "1\n",
      "2\n",
      "3\n",
      "4\n",
      "Number of columns removed for processing is 2\n",
      "working on sensor 15\n"
     ]
    },
    {
     "name": "stderr",
     "output_type": "stream",
     "text": [
      "C:\\Users\\ausaf\\anaconda3\\lib\\site-packages\\ipykernel_launcher.py:6: SettingWithCopyWarning: \n",
      "A value is trying to be set on a copy of a slice from a DataFrame.\n",
      "Try using .loc[row_indexer,col_indexer] = value instead\n",
      "\n",
      "See the caveats in the documentation: https://pandas.pydata.org/pandas-docs/stable/user_guide/indexing.html#returning-a-view-versus-a-copy\n",
      "  \n"
     ]
    },
    {
     "name": "stdout",
     "output_type": "stream",
     "text": [
      "1\n",
      "2\n",
      "3\n"
     ]
    },
    {
     "name": "stderr",
     "output_type": "stream",
     "text": [
      "C:\\Users\\ausaf\\anaconda3\\lib\\site-packages\\ipykernel_launcher.py:40: SettingWithCopyWarning: \n",
      "A value is trying to be set on a copy of a slice from a DataFrame\n",
      "\n",
      "See the caveats in the documentation: https://pandas.pydata.org/pandas-docs/stable/user_guide/indexing.html#returning-a-view-versus-a-copy\n"
     ]
    },
    {
     "name": "stdout",
     "output_type": "stream",
     "text": [
      "4\n",
      "Number of columns removed for processing is 2\n",
      "working on sensor 17\n"
     ]
    },
    {
     "name": "stderr",
     "output_type": "stream",
     "text": [
      "C:\\Users\\ausaf\\anaconda3\\lib\\site-packages\\ipykernel_launcher.py:6: SettingWithCopyWarning: \n",
      "A value is trying to be set on a copy of a slice from a DataFrame.\n",
      "Try using .loc[row_indexer,col_indexer] = value instead\n",
      "\n",
      "See the caveats in the documentation: https://pandas.pydata.org/pandas-docs/stable/user_guide/indexing.html#returning-a-view-versus-a-copy\n",
      "  \n"
     ]
    },
    {
     "name": "stdout",
     "output_type": "stream",
     "text": [
      "1\n",
      "2\n",
      "3\n"
     ]
    },
    {
     "name": "stderr",
     "output_type": "stream",
     "text": [
      "C:\\Users\\ausaf\\anaconda3\\lib\\site-packages\\ipykernel_launcher.py:40: SettingWithCopyWarning: \n",
      "A value is trying to be set on a copy of a slice from a DataFrame\n",
      "\n",
      "See the caveats in the documentation: https://pandas.pydata.org/pandas-docs/stable/user_guide/indexing.html#returning-a-view-versus-a-copy\n"
     ]
    },
    {
     "name": "stdout",
     "output_type": "stream",
     "text": [
      "4\n",
      "Number of columns removed for processing is 2\n",
      "working on sensor 18\n"
     ]
    },
    {
     "name": "stderr",
     "output_type": "stream",
     "text": [
      "C:\\Users\\ausaf\\anaconda3\\lib\\site-packages\\ipykernel_launcher.py:6: SettingWithCopyWarning: \n",
      "A value is trying to be set on a copy of a slice from a DataFrame.\n",
      "Try using .loc[row_indexer,col_indexer] = value instead\n",
      "\n",
      "See the caveats in the documentation: https://pandas.pydata.org/pandas-docs/stable/user_guide/indexing.html#returning-a-view-versus-a-copy\n",
      "  \n"
     ]
    },
    {
     "name": "stdout",
     "output_type": "stream",
     "text": [
      "1\n",
      "2\n",
      "3\n"
     ]
    },
    {
     "name": "stderr",
     "output_type": "stream",
     "text": [
      "C:\\Users\\ausaf\\anaconda3\\lib\\site-packages\\ipykernel_launcher.py:40: SettingWithCopyWarning: \n",
      "A value is trying to be set on a copy of a slice from a DataFrame\n",
      "\n",
      "See the caveats in the documentation: https://pandas.pydata.org/pandas-docs/stable/user_guide/indexing.html#returning-a-view-versus-a-copy\n"
     ]
    },
    {
     "name": "stdout",
     "output_type": "stream",
     "text": [
      "4\n",
      "Number of columns removed for processing is 1\n",
      "working on sensor 19\n",
      "1\n",
      "2\n",
      "3\n",
      "4\n",
      "Number of columns removed for processing is 1\n",
      "working on sensor 20\n",
      "1\n",
      "2\n",
      "3\n",
      "4\n",
      "Number of columns removed for processing is 1\n",
      "working on sensor 21\n",
      "1\n",
      "2\n",
      "3\n",
      "4\n",
      "Number of columns removed for processing is 2\n",
      "working on sensor 22\n"
     ]
    },
    {
     "name": "stderr",
     "output_type": "stream",
     "text": [
      "C:\\Users\\ausaf\\anaconda3\\lib\\site-packages\\ipykernel_launcher.py:6: SettingWithCopyWarning: \n",
      "A value is trying to be set on a copy of a slice from a DataFrame.\n",
      "Try using .loc[row_indexer,col_indexer] = value instead\n",
      "\n",
      "See the caveats in the documentation: https://pandas.pydata.org/pandas-docs/stable/user_guide/indexing.html#returning-a-view-versus-a-copy\n",
      "  \n"
     ]
    },
    {
     "name": "stdout",
     "output_type": "stream",
     "text": [
      "1\n",
      "2\n",
      "3\n"
     ]
    },
    {
     "name": "stderr",
     "output_type": "stream",
     "text": [
      "C:\\Users\\ausaf\\anaconda3\\lib\\site-packages\\ipykernel_launcher.py:40: SettingWithCopyWarning: \n",
      "A value is trying to be set on a copy of a slice from a DataFrame\n",
      "\n",
      "See the caveats in the documentation: https://pandas.pydata.org/pandas-docs/stable/user_guide/indexing.html#returning-a-view-versus-a-copy\n"
     ]
    },
    {
     "name": "stdout",
     "output_type": "stream",
     "text": [
      "4\n",
      "Number of columns removed for processing is 1\n",
      "working on sensor 23\n",
      "1\n",
      "2\n",
      "3\n",
      "4\n",
      "Number of columns removed for processing is 1\n",
      "working on sensor 24\n",
      "1\n",
      "2\n",
      "3\n",
      "4\n",
      "Number of columns removed for processing is 1\n",
      "working on sensor 25\n",
      "1\n",
      "2\n",
      "3\n",
      "4\n",
      "Number of columns removed for processing is 2\n",
      "working on sensor 26\n"
     ]
    },
    {
     "name": "stderr",
     "output_type": "stream",
     "text": [
      "C:\\Users\\ausaf\\anaconda3\\lib\\site-packages\\ipykernel_launcher.py:6: SettingWithCopyWarning: \n",
      "A value is trying to be set on a copy of a slice from a DataFrame.\n",
      "Try using .loc[row_indexer,col_indexer] = value instead\n",
      "\n",
      "See the caveats in the documentation: https://pandas.pydata.org/pandas-docs/stable/user_guide/indexing.html#returning-a-view-versus-a-copy\n",
      "  \n"
     ]
    },
    {
     "name": "stdout",
     "output_type": "stream",
     "text": [
      "1\n",
      "2\n",
      "3\n"
     ]
    },
    {
     "name": "stderr",
     "output_type": "stream",
     "text": [
      "C:\\Users\\ausaf\\anaconda3\\lib\\site-packages\\ipykernel_launcher.py:40: SettingWithCopyWarning: \n",
      "A value is trying to be set on a copy of a slice from a DataFrame\n",
      "\n",
      "See the caveats in the documentation: https://pandas.pydata.org/pandas-docs/stable/user_guide/indexing.html#returning-a-view-versus-a-copy\n"
     ]
    },
    {
     "name": "stdout",
     "output_type": "stream",
     "text": [
      "4\n",
      "Number of columns removed for processing is 1\n",
      "working on sensor 27\n",
      "1\n",
      "2\n",
      "3\n",
      "4\n",
      "Number of columns removed for processing is 2\n",
      "working on sensor 28\n"
     ]
    },
    {
     "name": "stderr",
     "output_type": "stream",
     "text": [
      "C:\\Users\\ausaf\\anaconda3\\lib\\site-packages\\ipykernel_launcher.py:6: SettingWithCopyWarning: \n",
      "A value is trying to be set on a copy of a slice from a DataFrame.\n",
      "Try using .loc[row_indexer,col_indexer] = value instead\n",
      "\n",
      "See the caveats in the documentation: https://pandas.pydata.org/pandas-docs/stable/user_guide/indexing.html#returning-a-view-versus-a-copy\n",
      "  \n"
     ]
    },
    {
     "name": "stdout",
     "output_type": "stream",
     "text": [
      "1\n",
      "2\n",
      "3\n"
     ]
    },
    {
     "name": "stderr",
     "output_type": "stream",
     "text": [
      "C:\\Users\\ausaf\\anaconda3\\lib\\site-packages\\ipykernel_launcher.py:40: SettingWithCopyWarning: \n",
      "A value is trying to be set on a copy of a slice from a DataFrame\n",
      "\n",
      "See the caveats in the documentation: https://pandas.pydata.org/pandas-docs/stable/user_guide/indexing.html#returning-a-view-versus-a-copy\n"
     ]
    },
    {
     "name": "stdout",
     "output_type": "stream",
     "text": [
      "4\n",
      "Number of columns removed for processing is 2\n",
      "working on sensor 29\n"
     ]
    },
    {
     "name": "stderr",
     "output_type": "stream",
     "text": [
      "C:\\Users\\ausaf\\anaconda3\\lib\\site-packages\\ipykernel_launcher.py:6: SettingWithCopyWarning: \n",
      "A value is trying to be set on a copy of a slice from a DataFrame.\n",
      "Try using .loc[row_indexer,col_indexer] = value instead\n",
      "\n",
      "See the caveats in the documentation: https://pandas.pydata.org/pandas-docs/stable/user_guide/indexing.html#returning-a-view-versus-a-copy\n",
      "  \n"
     ]
    },
    {
     "name": "stdout",
     "output_type": "stream",
     "text": [
      "1\n",
      "2\n",
      "3\n"
     ]
    },
    {
     "name": "stderr",
     "output_type": "stream",
     "text": [
      "C:\\Users\\ausaf\\anaconda3\\lib\\site-packages\\ipykernel_launcher.py:40: SettingWithCopyWarning: \n",
      "A value is trying to be set on a copy of a slice from a DataFrame\n",
      "\n",
      "See the caveats in the documentation: https://pandas.pydata.org/pandas-docs/stable/user_guide/indexing.html#returning-a-view-versus-a-copy\n"
     ]
    },
    {
     "name": "stdout",
     "output_type": "stream",
     "text": [
      "4\n",
      "Number of columns removed for processing is 1\n",
      "working on sensor 30\n",
      "1\n",
      "2\n",
      "3\n",
      "4\n",
      "Number of columns removed for processing is 1\n",
      "working on sensor 31\n",
      "1\n",
      "2\n",
      "3\n",
      "4\n",
      "Number of columns removed for processing is 1\n",
      "working on sensor 34\n",
      "1\n",
      "2\n",
      "3\n",
      "4\n",
      "Number of columns removed for processing is 1\n",
      "working on sensor 35\n",
      "1\n",
      "2\n",
      "3\n",
      "4\n",
      "Number of columns removed for processing is 2\n",
      "working on sensor 36\n"
     ]
    },
    {
     "name": "stderr",
     "output_type": "stream",
     "text": [
      "C:\\Users\\ausaf\\anaconda3\\lib\\site-packages\\ipykernel_launcher.py:6: SettingWithCopyWarning: \n",
      "A value is trying to be set on a copy of a slice from a DataFrame.\n",
      "Try using .loc[row_indexer,col_indexer] = value instead\n",
      "\n",
      "See the caveats in the documentation: https://pandas.pydata.org/pandas-docs/stable/user_guide/indexing.html#returning-a-view-versus-a-copy\n",
      "  \n"
     ]
    },
    {
     "name": "stdout",
     "output_type": "stream",
     "text": [
      "1\n",
      "2\n",
      "3\n"
     ]
    },
    {
     "name": "stderr",
     "output_type": "stream",
     "text": [
      "C:\\Users\\ausaf\\anaconda3\\lib\\site-packages\\ipykernel_launcher.py:40: SettingWithCopyWarning: \n",
      "A value is trying to be set on a copy of a slice from a DataFrame\n",
      "\n",
      "See the caveats in the documentation: https://pandas.pydata.org/pandas-docs/stable/user_guide/indexing.html#returning-a-view-versus-a-copy\n"
     ]
    },
    {
     "name": "stdout",
     "output_type": "stream",
     "text": [
      "4\n",
      "Number of columns removed for processing is 1\n",
      "working on sensor 37\n",
      "1\n",
      "2\n",
      "3\n",
      "4\n",
      "Number of columns removed for processing is 1\n",
      "working on sensor 39\n",
      "1\n",
      "2\n",
      "3\n",
      "4\n",
      "Number of columns removed for processing is 2\n",
      "working on sensor 40\n"
     ]
    },
    {
     "name": "stderr",
     "output_type": "stream",
     "text": [
      "C:\\Users\\ausaf\\anaconda3\\lib\\site-packages\\ipykernel_launcher.py:6: SettingWithCopyWarning: \n",
      "A value is trying to be set on a copy of a slice from a DataFrame.\n",
      "Try using .loc[row_indexer,col_indexer] = value instead\n",
      "\n",
      "See the caveats in the documentation: https://pandas.pydata.org/pandas-docs/stable/user_guide/indexing.html#returning-a-view-versus-a-copy\n",
      "  \n"
     ]
    },
    {
     "name": "stdout",
     "output_type": "stream",
     "text": [
      "1\n",
      "2\n",
      "3\n"
     ]
    },
    {
     "name": "stderr",
     "output_type": "stream",
     "text": [
      "C:\\Users\\ausaf\\anaconda3\\lib\\site-packages\\ipykernel_launcher.py:40: SettingWithCopyWarning: \n",
      "A value is trying to be set on a copy of a slice from a DataFrame\n",
      "\n",
      "See the caveats in the documentation: https://pandas.pydata.org/pandas-docs/stable/user_guide/indexing.html#returning-a-view-versus-a-copy\n"
     ]
    },
    {
     "name": "stdout",
     "output_type": "stream",
     "text": [
      "4\n",
      "Number of columns removed for processing is 1\n",
      "working on sensor 41\n",
      "1\n",
      "2\n",
      "3\n",
      "4\n",
      "Number of columns removed for processing is 1\n",
      "working on sensor 42\n",
      "1\n",
      "2\n",
      "3\n",
      "4\n",
      "Number of columns removed for processing is 2\n",
      "working on sensor 43\n"
     ]
    },
    {
     "name": "stderr",
     "output_type": "stream",
     "text": [
      "C:\\Users\\ausaf\\anaconda3\\lib\\site-packages\\ipykernel_launcher.py:6: SettingWithCopyWarning: \n",
      "A value is trying to be set on a copy of a slice from a DataFrame.\n",
      "Try using .loc[row_indexer,col_indexer] = value instead\n",
      "\n",
      "See the caveats in the documentation: https://pandas.pydata.org/pandas-docs/stable/user_guide/indexing.html#returning-a-view-versus-a-copy\n",
      "  \n"
     ]
    },
    {
     "name": "stdout",
     "output_type": "stream",
     "text": [
      "1\n",
      "2\n",
      "3\n"
     ]
    },
    {
     "name": "stderr",
     "output_type": "stream",
     "text": [
      "C:\\Users\\ausaf\\anaconda3\\lib\\site-packages\\ipykernel_launcher.py:40: SettingWithCopyWarning: \n",
      "A value is trying to be set on a copy of a slice from a DataFrame\n",
      "\n",
      "See the caveats in the documentation: https://pandas.pydata.org/pandas-docs/stable/user_guide/indexing.html#returning-a-view-versus-a-copy\n"
     ]
    },
    {
     "name": "stdout",
     "output_type": "stream",
     "text": [
      "4\n",
      "Number of columns removed for processing is 1\n",
      "working on sensor 44\n",
      "1\n",
      "2\n",
      "3\n",
      "4\n",
      "Number of columns removed for processing is 1\n",
      "working on sensor 45\n",
      "1\n",
      "2\n",
      "3\n",
      "4\n",
      "Number of columns removed for processing is 1\n",
      "working on sensor 46\n",
      "1\n",
      "2\n",
      "3\n",
      "4\n",
      "Number of columns removed for processing is 1\n",
      "working on sensor 47\n",
      "1\n",
      "2\n",
      "3\n",
      "4\n",
      "Number of columns removed for processing is 1\n",
      "working on sensor 48\n",
      "1\n",
      "2\n",
      "3\n",
      "4\n",
      "Number of columns removed for processing is 1\n",
      "working on sensor 49\n",
      "1\n",
      "2\n",
      "3\n",
      "4\n",
      "Number of columns removed for processing is 1\n",
      "working on sensor 50\n",
      "1\n",
      "2\n",
      "3\n",
      "4\n",
      "Number of columns removed for processing is 1\n",
      "working on sensor 51\n",
      "1\n",
      "2\n",
      "3\n",
      "4\n",
      "Number of columns removed for processing is 1\n",
      "working on sensor 52\n",
      "1\n",
      "2\n",
      "3\n",
      "4\n",
      "Number of columns removed for processing is 1\n",
      "working on sensor 53\n",
      "1\n",
      "2\n",
      "3\n",
      "4\n",
      "Number of columns removed for processing is 1\n",
      "working on sensor 54\n",
      "1\n",
      "2\n",
      "3\n",
      "4\n",
      "Number of columns removed for processing is 1\n",
      "working on sensor 55\n",
      "1\n",
      "2\n",
      "3\n",
      "4\n",
      "Number of columns removed for processing is 1\n",
      "working on sensor 56\n",
      "1\n",
      "2\n",
      "3\n",
      "4\n",
      "Number of columns removed for processing is 2\n",
      "working on sensor 57\n"
     ]
    },
    {
     "name": "stderr",
     "output_type": "stream",
     "text": [
      "C:\\Users\\ausaf\\anaconda3\\lib\\site-packages\\ipykernel_launcher.py:6: SettingWithCopyWarning: \n",
      "A value is trying to be set on a copy of a slice from a DataFrame.\n",
      "Try using .loc[row_indexer,col_indexer] = value instead\n",
      "\n",
      "See the caveats in the documentation: https://pandas.pydata.org/pandas-docs/stable/user_guide/indexing.html#returning-a-view-versus-a-copy\n",
      "  \n"
     ]
    },
    {
     "name": "stdout",
     "output_type": "stream",
     "text": [
      "1\n",
      "2\n",
      "3\n"
     ]
    },
    {
     "name": "stderr",
     "output_type": "stream",
     "text": [
      "C:\\Users\\ausaf\\anaconda3\\lib\\site-packages\\ipykernel_launcher.py:40: SettingWithCopyWarning: \n",
      "A value is trying to be set on a copy of a slice from a DataFrame\n",
      "\n",
      "See the caveats in the documentation: https://pandas.pydata.org/pandas-docs/stable/user_guide/indexing.html#returning-a-view-versus-a-copy\n"
     ]
    },
    {
     "name": "stdout",
     "output_type": "stream",
     "text": [
      "4\n",
      "Number of columns removed for processing is 2\n",
      "working on sensor 58\n"
     ]
    },
    {
     "name": "stderr",
     "output_type": "stream",
     "text": [
      "C:\\Users\\ausaf\\anaconda3\\lib\\site-packages\\ipykernel_launcher.py:6: SettingWithCopyWarning: \n",
      "A value is trying to be set on a copy of a slice from a DataFrame.\n",
      "Try using .loc[row_indexer,col_indexer] = value instead\n",
      "\n",
      "See the caveats in the documentation: https://pandas.pydata.org/pandas-docs/stable/user_guide/indexing.html#returning-a-view-versus-a-copy\n",
      "  \n"
     ]
    },
    {
     "name": "stdout",
     "output_type": "stream",
     "text": [
      "1\n",
      "2\n",
      "3\n"
     ]
    },
    {
     "name": "stderr",
     "output_type": "stream",
     "text": [
      "C:\\Users\\ausaf\\anaconda3\\lib\\site-packages\\ipykernel_launcher.py:40: SettingWithCopyWarning: \n",
      "A value is trying to be set on a copy of a slice from a DataFrame\n",
      "\n",
      "See the caveats in the documentation: https://pandas.pydata.org/pandas-docs/stable/user_guide/indexing.html#returning-a-view-versus-a-copy\n"
     ]
    },
    {
     "name": "stdout",
     "output_type": "stream",
     "text": [
      "4\n",
      "Number of columns removed for processing is 1\n",
      "working on sensor 59\n",
      "1\n",
      "2\n",
      "3\n",
      "4\n",
      "Number of columns removed for processing is 2\n",
      "working on sensor 61\n"
     ]
    },
    {
     "name": "stderr",
     "output_type": "stream",
     "text": [
      "C:\\Users\\ausaf\\anaconda3\\lib\\site-packages\\ipykernel_launcher.py:6: SettingWithCopyWarning: \n",
      "A value is trying to be set on a copy of a slice from a DataFrame.\n",
      "Try using .loc[row_indexer,col_indexer] = value instead\n",
      "\n",
      "See the caveats in the documentation: https://pandas.pydata.org/pandas-docs/stable/user_guide/indexing.html#returning-a-view-versus-a-copy\n",
      "  \n"
     ]
    },
    {
     "name": "stdout",
     "output_type": "stream",
     "text": [
      "1\n",
      "2\n",
      "3\n"
     ]
    },
    {
     "name": "stderr",
     "output_type": "stream",
     "text": [
      "C:\\Users\\ausaf\\anaconda3\\lib\\site-packages\\ipykernel_launcher.py:40: SettingWithCopyWarning: \n",
      "A value is trying to be set on a copy of a slice from a DataFrame\n",
      "\n",
      "See the caveats in the documentation: https://pandas.pydata.org/pandas-docs/stable/user_guide/indexing.html#returning-a-view-versus-a-copy\n"
     ]
    },
    {
     "name": "stdout",
     "output_type": "stream",
     "text": [
      "4\n",
      "Number of columns removed for processing is 1\n",
      "working on sensor 62\n",
      "1\n",
      "2\n",
      "3\n",
      "4\n",
      "Number of columns removed for processing is 1\n",
      "working on sensor 63\n",
      "1\n",
      "2\n",
      "3\n",
      "4\n",
      "Number of columns removed for processing is 2\n",
      "working on sensor 64\n"
     ]
    },
    {
     "name": "stderr",
     "output_type": "stream",
     "text": [
      "C:\\Users\\ausaf\\anaconda3\\lib\\site-packages\\ipykernel_launcher.py:6: SettingWithCopyWarning: \n",
      "A value is trying to be set on a copy of a slice from a DataFrame.\n",
      "Try using .loc[row_indexer,col_indexer] = value instead\n",
      "\n",
      "See the caveats in the documentation: https://pandas.pydata.org/pandas-docs/stable/user_guide/indexing.html#returning-a-view-versus-a-copy\n",
      "  \n"
     ]
    },
    {
     "name": "stdout",
     "output_type": "stream",
     "text": [
      "1\n",
      "2\n",
      "3\n"
     ]
    },
    {
     "name": "stderr",
     "output_type": "stream",
     "text": [
      "C:\\Users\\ausaf\\anaconda3\\lib\\site-packages\\ipykernel_launcher.py:40: SettingWithCopyWarning: \n",
      "A value is trying to be set on a copy of a slice from a DataFrame\n",
      "\n",
      "See the caveats in the documentation: https://pandas.pydata.org/pandas-docs/stable/user_guide/indexing.html#returning-a-view-versus-a-copy\n"
     ]
    },
    {
     "name": "stdout",
     "output_type": "stream",
     "text": [
      "4\n",
      "Number of columns removed for processing is 2\n",
      "working on sensor 65\n"
     ]
    },
    {
     "name": "stderr",
     "output_type": "stream",
     "text": [
      "C:\\Users\\ausaf\\anaconda3\\lib\\site-packages\\ipykernel_launcher.py:6: SettingWithCopyWarning: \n",
      "A value is trying to be set on a copy of a slice from a DataFrame.\n",
      "Try using .loc[row_indexer,col_indexer] = value instead\n",
      "\n",
      "See the caveats in the documentation: https://pandas.pydata.org/pandas-docs/stable/user_guide/indexing.html#returning-a-view-versus-a-copy\n",
      "  \n"
     ]
    },
    {
     "name": "stdout",
     "output_type": "stream",
     "text": [
      "1\n",
      "2\n",
      "3\n"
     ]
    },
    {
     "name": "stderr",
     "output_type": "stream",
     "text": [
      "C:\\Users\\ausaf\\anaconda3\\lib\\site-packages\\ipykernel_launcher.py:40: SettingWithCopyWarning: \n",
      "A value is trying to be set on a copy of a slice from a DataFrame\n",
      "\n",
      "See the caveats in the documentation: https://pandas.pydata.org/pandas-docs/stable/user_guide/indexing.html#returning-a-view-versus-a-copy\n"
     ]
    },
    {
     "name": "stdout",
     "output_type": "stream",
     "text": [
      "4\n",
      "Number of columns removed for processing is 1\n",
      "working on sensor 66\n",
      "1\n",
      "2\n",
      "3\n",
      "4\n",
      "Number of columns removed for processing is 1\n"
     ]
    }
   ],
   "source": [
    "# main algorithm to call function and fill the mising values sensor by sensor\n",
    "for i in sorted(data.Sensor_ID.unique()):\n",
    "    print('working on sensor',i)\n",
    "    data_temp=data[data['Sensor_ID']==i]\n",
    "    data_temp.index=range(0,len(data_temp))\n",
    "    data_temp['Date_Time']=pd.to_datetime(data_temp['Date_Time'])\n",
    "    data_temp=data_temp.sort_values(by=['Date_Time'])\n",
    "    data_temp.index=range(0,len(data_temp))\n",
    "    gap=max(data_temp['Date_Time'])-min(data_temp['Date_Time'])\n",
    "    gap=(gap.days*24)+(gap.seconds/3600)\n",
    "    print('1')\n",
    "    date=new_dates_set(int(gap)+1)\n",
    "    df=pd.DataFrame(index=np.arange(0,gap+1),columns=(['Date_Time','Year','Month','Mdate','Day','Time','Sensor_ID','Hourly_Counts'])) \n",
    "    df['Date_Time']=date\n",
    "    print('2')\n",
    "    a=[]\n",
    "    b=[]\n",
    "    c=[]\n",
    "    d=[]\n",
    "    e=[]\n",
    "    for q in range(0,len(df)):\n",
    "        a.append(df.loc[q,'Date_Time'].year)\n",
    "        b.append(df.loc[q,'Date_Time'].month)\n",
    "        c.append(df.loc[q,'Date_Time'].day)\n",
    "        d.append(df.loc[q,'Date_Time'].weekday())\n",
    "        e.append(df.loc[q,'Date_Time'].hour)    \n",
    "    df['Year']=a\n",
    "    df['Month']=b\n",
    "    df['Mdate']=c\n",
    "    df['Day']=d\n",
    "    df['Time']=e    \n",
    "    df['Sensor_ID']=1\n",
    "    data_temp=data_temp.drop_duplicates(subset=['Date_Time'], keep=False)\n",
    "    data_temp.index=range(0,len(data_temp))\n",
    "    print('3')\n",
    "    k=0\n",
    "    for w in range(0,len(data_temp)):\n",
    "        for j in range(0,100000):\n",
    "            if(df['Date_Time'][w+k]==data_temp['Date_Time'][w]):\n",
    "                df['Hourly_Counts'][w+k]=data_temp['Hourly_Counts'][w]\n",
    "                break\n",
    "            else:\n",
    "                k=k+1\n",
    "    df=df.drop(['Date_Time','Sensor_ID'],axis=1)\n",
    "    df=df.astype('O')\n",
    "    df['Hourly_Counts']=df['Hourly_Counts'].astype(float)\n",
    "    print('4')\n",
    "    semi_final_data=div(df)\n",
    "    semi_final_data['Date_Time']=date\n",
    "    semi_final_data['Sensor_ID']=i\n",
    "#   string=('{n}.csv'.format(n=i))\n",
    "#   semi_final_data.to_csv(string,index=False)\n",
    "#   semi_final_data['Hourly_Counts']=semi_final_data['Hourly_Counts'].astype('int64')\n",
    "#   string=('marked:{n}.csv'.format(n=i))\n",
    "#   semi_final_data.to_csv(string,index=False)\n",
    "    final_data=pd.concat([final_data,semi_final_data],axis=0)\n"
   ]
  },
  {
   "cell_type": "code",
   "execution_count": 98,
   "metadata": {},
   "outputs": [],
   "source": [
    "final_data.index=range(0,len(final_data))"
   ]
  },
  {
   "cell_type": "code",
   "execution_count": 100,
   "metadata": {},
   "outputs": [],
   "source": [
    "final_data.to_csv('PCS_cleaned.csv',index=False)"
   ]
  }
 ],
 "metadata": {
  "kernelspec": {
   "display_name": "Python 3",
   "language": "python",
   "name": "python3"
  },
  "language_info": {
   "codemirror_mode": {
    "name": "ipython",
    "version": 3
   },
   "file_extension": ".py",
   "mimetype": "text/x-python",
   "name": "python",
   "nbconvert_exporter": "python",
   "pygments_lexer": "ipython3",
   "version": "3.7.6"
  }
 },
 "nbformat": 4,
 "nbformat_minor": 2
}
