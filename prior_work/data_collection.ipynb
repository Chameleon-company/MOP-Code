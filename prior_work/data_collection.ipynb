{
 "cells": [
  {
   "cell_type": "code",
   "execution_count": 3,
   "metadata": {},
   "outputs": [],
   "source": [
    "#Data for 2020-01-01 to 2020-08-01\n",
    "\n",
    "import webbrowser\n",
    "import os\n",
    "a = \"https://api.openaq.org/v1/measurements?parameter=pm25&date_from=2020-0\"\n",
    "b = \"-01&date_to=2020-0\"\n",
    "c = \"-31&coordinates=-37.808,144.97&radius=20000&format=csv\"\n",
    "\n",
    "\n",
    "for x in range(1,9,1):\n",
    "    webbrowser.open(a+str(x)+b+str(x)+c)"
   ]
  },
  {
   "cell_type": "code",
   "execution_count": null,
   "metadata": {},
   "outputs": [],
   "source": []
  }
 ],
 "metadata": {
  "kernelspec": {
   "display_name": "Python 3",
   "language": "python",
   "name": "python3"
  },
  "language_info": {
   "codemirror_mode": {
    "name": "ipython",
    "version": 3
   },
   "file_extension": ".py",
   "mimetype": "text/x-python",
   "name": "python",
   "nbconvert_exporter": "python",
   "pygments_lexer": "ipython3",
   "version": "3.7.6"
  }
 },
 "nbformat": 4,
 "nbformat_minor": 4
}
