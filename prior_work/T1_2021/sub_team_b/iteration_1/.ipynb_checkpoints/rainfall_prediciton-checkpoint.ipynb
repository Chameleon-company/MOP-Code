{
 "metadata": {
  "language_info": {
   "codemirror_mode": {
    "name": "ipython",
    "version": 3
   },
   "file_extension": ".py",
   "mimetype": "text/x-python",
   "name": "python",
   "nbconvert_exporter": "python",
   "pygments_lexer": "ipython3",
   "version": "3.9.2"
  },
  "orig_nbformat": 2,
  "kernelspec": {
   "name": "python392jvsc74a57bd0edcfe1e97213b713098d27a9bfb28b3c90d79ac08738e2c0433d3780f443c2d3",
   "display_name": "Python 3.9.2 64-bit ('py392': conda)"
  },
  "metadata": {
   "interpreter": {
    "hash": "edcfe1e97213b713098d27a9bfb28b3c90d79ac08738e2c0433d3780f443c2d3"
   }
  }
 },
 "nbformat": 4,
 "nbformat_minor": 2,
 "cells": [
  {
   "cell_type": "code",
   "execution_count": 18,
   "metadata": {},
   "outputs": [],
   "source": [
    "import pandas as pd\n",
    "import numpy as np\n",
    "from matplotlib import pyplot as plt\n",
    "import seaborn as sns\n",
    "import warnings\n",
    "from datetime import datetime, timedelta\n",
    "warnings.filterwarnings(\"ignore\")"
   ]
  },
  {
   "cell_type": "code",
   "execution_count": 19,
   "metadata": {},
   "outputs": [
    {
     "output_type": "execute_result",
     "data": {
      "text/plain": [
       "            date  Year Month day of week  Rainfall amount (millimetres)\n",
       "0     2015-01-01  2015   Jan    Thursday                            0.0\n",
       "1     2015-01-02  2015   Jan      Friday                            0.0\n",
       "2     2015-01-03  2015   Jan    Saturday                            0.0\n",
       "3     2015-01-04  2015   Jan      Sunday                            4.2\n",
       "4     2015-01-05  2015   Jan      Monday                            0.0\n",
       "...          ...   ...   ...         ...                            ...\n",
       "2246  2021-02-24  2021   Feb   Wednesday                            0.0\n",
       "2247  2021-02-25  2021   Feb    Thursday                            0.0\n",
       "2248  2021-02-26  2021   Feb      Friday                            0.4\n",
       "2249  2021-02-27  2021   Feb    Saturday                            0.0\n",
       "2250  2021-02-28  2021   Feb      Sunday                            0.0\n",
       "\n",
       "[2251 rows x 5 columns]"
      ],
      "text/html": "<div>\n<style scoped>\n    .dataframe tbody tr th:only-of-type {\n        vertical-align: middle;\n    }\n\n    .dataframe tbody tr th {\n        vertical-align: top;\n    }\n\n    .dataframe thead th {\n        text-align: right;\n    }\n</style>\n<table border=\"1\" class=\"dataframe\">\n  <thead>\n    <tr style=\"text-align: right;\">\n      <th></th>\n      <th>date</th>\n      <th>Year</th>\n      <th>Month</th>\n      <th>day of week</th>\n      <th>Rainfall amount (millimetres)</th>\n    </tr>\n  </thead>\n  <tbody>\n    <tr>\n      <th>0</th>\n      <td>2015-01-01</td>\n      <td>2015</td>\n      <td>Jan</td>\n      <td>Thursday</td>\n      <td>0.0</td>\n    </tr>\n    <tr>\n      <th>1</th>\n      <td>2015-01-02</td>\n      <td>2015</td>\n      <td>Jan</td>\n      <td>Friday</td>\n      <td>0.0</td>\n    </tr>\n    <tr>\n      <th>2</th>\n      <td>2015-01-03</td>\n      <td>2015</td>\n      <td>Jan</td>\n      <td>Saturday</td>\n      <td>0.0</td>\n    </tr>\n    <tr>\n      <th>3</th>\n      <td>2015-01-04</td>\n      <td>2015</td>\n      <td>Jan</td>\n      <td>Sunday</td>\n      <td>4.2</td>\n    </tr>\n    <tr>\n      <th>4</th>\n      <td>2015-01-05</td>\n      <td>2015</td>\n      <td>Jan</td>\n      <td>Monday</td>\n      <td>0.0</td>\n    </tr>\n    <tr>\n      <th>...</th>\n      <td>...</td>\n      <td>...</td>\n      <td>...</td>\n      <td>...</td>\n      <td>...</td>\n    </tr>\n    <tr>\n      <th>2246</th>\n      <td>2021-02-24</td>\n      <td>2021</td>\n      <td>Feb</td>\n      <td>Wednesday</td>\n      <td>0.0</td>\n    </tr>\n    <tr>\n      <th>2247</th>\n      <td>2021-02-25</td>\n      <td>2021</td>\n      <td>Feb</td>\n      <td>Thursday</td>\n      <td>0.0</td>\n    </tr>\n    <tr>\n      <th>2248</th>\n      <td>2021-02-26</td>\n      <td>2021</td>\n      <td>Feb</td>\n      <td>Friday</td>\n      <td>0.4</td>\n    </tr>\n    <tr>\n      <th>2249</th>\n      <td>2021-02-27</td>\n      <td>2021</td>\n      <td>Feb</td>\n      <td>Saturday</td>\n      <td>0.0</td>\n    </tr>\n    <tr>\n      <th>2250</th>\n      <td>2021-02-28</td>\n      <td>2021</td>\n      <td>Feb</td>\n      <td>Sunday</td>\n      <td>0.0</td>\n    </tr>\n  </tbody>\n</table>\n<p>2251 rows × 5 columns</p>\n</div>"
     },
     "metadata": {},
     "execution_count": 19
    }
   ],
   "source": [
    "rainfall  = pd.read_csv('rainfall_dataset.csv')\n",
    "df = rainfall[['date', 'Rainfall amount (millimetres)']]\n",
    "df['date'] = pd.to_datetime(df['date'], format='%Y-%m-%d')\n",
    "\n",
    "rainfall"
   ]
  },
  {
   "cell_type": "code",
   "execution_count": 20,
   "metadata": {},
   "outputs": [
    {
     "output_type": "execute_result",
     "data": {
      "text/plain": [
       "      dayofyear  dayofweek  month  year  Rainfall amount (millimetres)\n",
       "0             1          4      1  2015                            0.0\n",
       "1             2          5      1  2015                            0.0\n",
       "2             3          6      1  2015                            0.0\n",
       "3             4          7      1  2015                            4.2\n",
       "4             5          1      1  2015                            0.0\n",
       "...         ...        ...    ...   ...                            ...\n",
       "2246         55          3      2  2021                            0.0\n",
       "2247         56          4      2  2021                            0.0\n",
       "2248         57          5      2  2021                            0.4\n",
       "2249         58          6      2  2021                            0.0\n",
       "2250         59          7      2  2021                            0.0\n",
       "\n",
       "[2251 rows x 5 columns]"
      ],
      "text/html": "<div>\n<style scoped>\n    .dataframe tbody tr th:only-of-type {\n        vertical-align: middle;\n    }\n\n    .dataframe tbody tr th {\n        vertical-align: top;\n    }\n\n    .dataframe thead th {\n        text-align: right;\n    }\n</style>\n<table border=\"1\" class=\"dataframe\">\n  <thead>\n    <tr style=\"text-align: right;\">\n      <th></th>\n      <th>dayofyear</th>\n      <th>dayofweek</th>\n      <th>month</th>\n      <th>year</th>\n      <th>Rainfall amount (millimetres)</th>\n    </tr>\n  </thead>\n  <tbody>\n    <tr>\n      <th>0</th>\n      <td>1</td>\n      <td>4</td>\n      <td>1</td>\n      <td>2015</td>\n      <td>0.0</td>\n    </tr>\n    <tr>\n      <th>1</th>\n      <td>2</td>\n      <td>5</td>\n      <td>1</td>\n      <td>2015</td>\n      <td>0.0</td>\n    </tr>\n    <tr>\n      <th>2</th>\n      <td>3</td>\n      <td>6</td>\n      <td>1</td>\n      <td>2015</td>\n      <td>0.0</td>\n    </tr>\n    <tr>\n      <th>3</th>\n      <td>4</td>\n      <td>7</td>\n      <td>1</td>\n      <td>2015</td>\n      <td>4.2</td>\n    </tr>\n    <tr>\n      <th>4</th>\n      <td>5</td>\n      <td>1</td>\n      <td>1</td>\n      <td>2015</td>\n      <td>0.0</td>\n    </tr>\n    <tr>\n      <th>...</th>\n      <td>...</td>\n      <td>...</td>\n      <td>...</td>\n      <td>...</td>\n      <td>...</td>\n    </tr>\n    <tr>\n      <th>2246</th>\n      <td>55</td>\n      <td>3</td>\n      <td>2</td>\n      <td>2021</td>\n      <td>0.0</td>\n    </tr>\n    <tr>\n      <th>2247</th>\n      <td>56</td>\n      <td>4</td>\n      <td>2</td>\n      <td>2021</td>\n      <td>0.0</td>\n    </tr>\n    <tr>\n      <th>2248</th>\n      <td>57</td>\n      <td>5</td>\n      <td>2</td>\n      <td>2021</td>\n      <td>0.4</td>\n    </tr>\n    <tr>\n      <th>2249</th>\n      <td>58</td>\n      <td>6</td>\n      <td>2</td>\n      <td>2021</td>\n      <td>0.0</td>\n    </tr>\n    <tr>\n      <th>2250</th>\n      <td>59</td>\n      <td>7</td>\n      <td>2</td>\n      <td>2021</td>\n      <td>0.0</td>\n    </tr>\n  </tbody>\n</table>\n<p>2251 rows × 5 columns</p>\n</div>"
     },
     "metadata": {},
     "execution_count": 20
    }
   ],
   "source": [
    "#get columns with number value\n",
    "df['month'] = df['date'].dt.month\n",
    "df['dayofweek']= df['date'].dt.dayofweek+1\n",
    "df['dayofyear'] = df['date'].dt.dayofyear\n",
    "df['year'] = df['date'].dt.year\n",
    "\n",
    "#order column\n",
    "col = ['dayofyear','dayofweek', 'month', 'year', 'Rainfall amount (millimetres)']\n",
    "df = df[col]\n",
    "df"
   ]
  },
  {
   "cell_type": "code",
   "execution_count": 21,
   "metadata": {},
   "outputs": [
    {
     "output_type": "execute_result",
     "data": {
      "text/plain": [
       "dayofyear                        0\n",
       "dayofweek                        0\n",
       "month                            0\n",
       "year                             0\n",
       "Rainfall amount (millimetres)    0\n",
       "dtype: int64"
      ]
     },
     "metadata": {},
     "execution_count": 21
    }
   ],
   "source": [
    "#check missing value \n",
    "df.isnull().sum()"
   ]
  },
  {
   "cell_type": "code",
   "execution_count": 22,
   "metadata": {},
   "outputs": [
    {
     "output_type": "execute_result",
     "data": {
      "text/plain": [
       "(2251, 5)"
      ]
     },
     "metadata": {},
     "execution_count": 22
    }
   ],
   "source": [
    "#date shape\n",
    "df.shape"
   ]
  },
  {
   "cell_type": "code",
   "execution_count": 23,
   "metadata": {},
   "outputs": [],
   "source": [
    "#train data range 2015 - 2020\n",
    "#test data in 2021\n",
    "#train_condition = (2015 <= df['year']) & (df['year']< 2021)\n",
    "#test_condition = df['year']>=2021\n",
    "#\n",
    "#train_data = df[train_condition]\n",
    "#test_data = df[test_condition]\n",
    "#X_train = train_data.iloc[:,:-1]\n",
    "#Y_train = train_data.iloc[:,-1]\n",
    "#print(X_train, Y_train)\n",
    "#X_test = test_data.iloc[:,:-1]\n",
    "#Y_test = test_data.iloc[:,-1]"
   ]
  },
  {
   "source": [
    "**split dataset**"
   ],
   "cell_type": "markdown",
   "metadata": {}
  },
  {
   "cell_type": "code",
   "execution_count": 24,
   "metadata": {},
   "outputs": [],
   "source": [
    "from sklearn.model_selection import train_test_split\n",
    "X_train, X_test, y_train, y_test = train_test_split(df.iloc[:,:-1],df.iloc[:,-1],test_size=0.33, random_state=42 )\n"
   ]
  },
  {
   "cell_type": "code",
   "execution_count": 25,
   "metadata": {},
   "outputs": [
    {
     "output_type": "execute_result",
     "data": {
      "text/plain": [
       "      dayofyear  dayofweek  month  year\n",
       "1976        151          6      5  2020\n",
       "265         266          3      9  2015\n",
       "376          12          2      1  2016\n",
       "1352        257          5      9  2018\n",
       "1508         48          7      2  2019\n",
       "...         ...        ...    ...   ...\n",
       "1638        178          4      6  2019\n",
       "1095        365          7     12  2017\n",
       "1130         35          7      2  2018\n",
       "1294        199          3      7  2018\n",
       "860         130          3      5  2017\n",
       "\n",
       "[1508 rows x 4 columns]"
      ],
      "text/html": "<div>\n<style scoped>\n    .dataframe tbody tr th:only-of-type {\n        vertical-align: middle;\n    }\n\n    .dataframe tbody tr th {\n        vertical-align: top;\n    }\n\n    .dataframe thead th {\n        text-align: right;\n    }\n</style>\n<table border=\"1\" class=\"dataframe\">\n  <thead>\n    <tr style=\"text-align: right;\">\n      <th></th>\n      <th>dayofyear</th>\n      <th>dayofweek</th>\n      <th>month</th>\n      <th>year</th>\n    </tr>\n  </thead>\n  <tbody>\n    <tr>\n      <th>1976</th>\n      <td>151</td>\n      <td>6</td>\n      <td>5</td>\n      <td>2020</td>\n    </tr>\n    <tr>\n      <th>265</th>\n      <td>266</td>\n      <td>3</td>\n      <td>9</td>\n      <td>2015</td>\n    </tr>\n    <tr>\n      <th>376</th>\n      <td>12</td>\n      <td>2</td>\n      <td>1</td>\n      <td>2016</td>\n    </tr>\n    <tr>\n      <th>1352</th>\n      <td>257</td>\n      <td>5</td>\n      <td>9</td>\n      <td>2018</td>\n    </tr>\n    <tr>\n      <th>1508</th>\n      <td>48</td>\n      <td>7</td>\n      <td>2</td>\n      <td>2019</td>\n    </tr>\n    <tr>\n      <th>...</th>\n      <td>...</td>\n      <td>...</td>\n      <td>...</td>\n      <td>...</td>\n    </tr>\n    <tr>\n      <th>1638</th>\n      <td>178</td>\n      <td>4</td>\n      <td>6</td>\n      <td>2019</td>\n    </tr>\n    <tr>\n      <th>1095</th>\n      <td>365</td>\n      <td>7</td>\n      <td>12</td>\n      <td>2017</td>\n    </tr>\n    <tr>\n      <th>1130</th>\n      <td>35</td>\n      <td>7</td>\n      <td>2</td>\n      <td>2018</td>\n    </tr>\n    <tr>\n      <th>1294</th>\n      <td>199</td>\n      <td>3</td>\n      <td>7</td>\n      <td>2018</td>\n    </tr>\n    <tr>\n      <th>860</th>\n      <td>130</td>\n      <td>3</td>\n      <td>5</td>\n      <td>2017</td>\n    </tr>\n  </tbody>\n</table>\n<p>1508 rows × 4 columns</p>\n</div>"
     },
     "metadata": {},
     "execution_count": 25
    }
   ],
   "source": [
    "X_train"
   ]
  },
  {
   "cell_type": "code",
   "execution_count": 26,
   "metadata": {},
   "outputs": [
    {
     "output_type": "execute_result",
     "data": {
      "text/plain": [
       "      dayofyear  dayofweek  month  year\n",
       "1666        206          4      7  2019\n",
       "1809        349          7     12  2019\n",
       "582         218          5      8  2016\n",
       "247         248          6      9  2015\n",
       "1820        360          4     12  2019\n",
       "...         ...        ...    ...   ...\n",
       "2             3          6      1  2015\n",
       "2228         37          6      2  2021\n",
       "576         212          6      7  2016\n",
       "1436        341          5     12  2018\n",
       "339         340          7     12  2015\n",
       "\n",
       "[743 rows x 4 columns]"
      ],
      "text/html": "<div>\n<style scoped>\n    .dataframe tbody tr th:only-of-type {\n        vertical-align: middle;\n    }\n\n    .dataframe tbody tr th {\n        vertical-align: top;\n    }\n\n    .dataframe thead th {\n        text-align: right;\n    }\n</style>\n<table border=\"1\" class=\"dataframe\">\n  <thead>\n    <tr style=\"text-align: right;\">\n      <th></th>\n      <th>dayofyear</th>\n      <th>dayofweek</th>\n      <th>month</th>\n      <th>year</th>\n    </tr>\n  </thead>\n  <tbody>\n    <tr>\n      <th>1666</th>\n      <td>206</td>\n      <td>4</td>\n      <td>7</td>\n      <td>2019</td>\n    </tr>\n    <tr>\n      <th>1809</th>\n      <td>349</td>\n      <td>7</td>\n      <td>12</td>\n      <td>2019</td>\n    </tr>\n    <tr>\n      <th>582</th>\n      <td>218</td>\n      <td>5</td>\n      <td>8</td>\n      <td>2016</td>\n    </tr>\n    <tr>\n      <th>247</th>\n      <td>248</td>\n      <td>6</td>\n      <td>9</td>\n      <td>2015</td>\n    </tr>\n    <tr>\n      <th>1820</th>\n      <td>360</td>\n      <td>4</td>\n      <td>12</td>\n      <td>2019</td>\n    </tr>\n    <tr>\n      <th>...</th>\n      <td>...</td>\n      <td>...</td>\n      <td>...</td>\n      <td>...</td>\n    </tr>\n    <tr>\n      <th>2</th>\n      <td>3</td>\n      <td>6</td>\n      <td>1</td>\n      <td>2015</td>\n    </tr>\n    <tr>\n      <th>2228</th>\n      <td>37</td>\n      <td>6</td>\n      <td>2</td>\n      <td>2021</td>\n    </tr>\n    <tr>\n      <th>576</th>\n      <td>212</td>\n      <td>6</td>\n      <td>7</td>\n      <td>2016</td>\n    </tr>\n    <tr>\n      <th>1436</th>\n      <td>341</td>\n      <td>5</td>\n      <td>12</td>\n      <td>2018</td>\n    </tr>\n    <tr>\n      <th>339</th>\n      <td>340</td>\n      <td>7</td>\n      <td>12</td>\n      <td>2015</td>\n    </tr>\n  </tbody>\n</table>\n<p>743 rows × 4 columns</p>\n</div>"
     },
     "metadata": {},
     "execution_count": 26
    }
   ],
   "source": [
    "X_test"
   ]
  },
  {
   "cell_type": "code",
   "execution_count": 27,
   "metadata": {},
   "outputs": [
    {
     "output_type": "execute_result",
     "data": {
      "text/plain": [
       "1976    0.0\n",
       "265     0.0\n",
       "376     0.8\n",
       "1352    0.0\n",
       "1508    0.0\n",
       "       ... \n",
       "1638    0.0\n",
       "1095    0.2\n",
       "1130    0.0\n",
       "1294    1.2\n",
       "860     0.0\n",
       "Name: Rainfall amount (millimetres), Length: 1508, dtype: float64"
      ]
     },
     "metadata": {},
     "execution_count": 27
    }
   ],
   "source": [
    "y_train"
   ]
  },
  {
   "cell_type": "code",
   "execution_count": 28,
   "metadata": {},
   "outputs": [
    {
     "output_type": "execute_result",
     "data": {
      "text/plain": [
       "1666    0.0\n",
       "1809    0.0\n",
       "582     0.0\n",
       "247     0.0\n",
       "1820    0.0\n",
       "       ... \n",
       "2       0.0\n",
       "2228    1.6\n",
       "576     2.4\n",
       "1436    0.0\n",
       "339     0.0\n",
       "Name: Rainfall amount (millimetres), Length: 743, dtype: float64"
      ]
     },
     "metadata": {},
     "execution_count": 28
    }
   ],
   "source": [
    "y_test"
   ]
  },
  {
   "cell_type": "code",
   "execution_count": 29,
   "metadata": {},
   "outputs": [],
   "source": [
    "from sklearn.neighbors import KNeighborsRegressor\n",
    "from sklearn.tree import DecisionTreeRegressor\n",
    "from sklearn.ensemble import RandomForestRegressor\n",
    "from sklearn.neural_network import MLPRegressor\n",
    "from sklearn.svm import SVR\n",
    "from sklearn.model_selection import GridSearchCV\n",
    "from sklearn.preprocessing import StandardScaler\n"
   ]
  },
  {
   "cell_type": "code",
   "execution_count": 30,
   "metadata": {},
   "outputs": [
    {
     "output_type": "execute_result",
     "data": {
      "text/plain": [
       "array([[-0.258987  ,  1.00591117, -0.39424171,  1.36408862],\n",
       "       [ 0.81056091, -0.49846639,  0.74467879, -1.47321571],\n",
       "       [-1.55174491, -0.99992558, -1.53316222, -0.90575484],\n",
       "       ...,\n",
       "       [-1.33783533,  1.50737035, -1.2484321 ,  0.22916689],\n",
       "       [ 0.187433  , -0.49846639,  0.17521854,  0.22916689],\n",
       "       [-0.45429575, -0.49846639, -0.39424171, -0.33829398]])"
      ]
     },
     "metadata": {},
     "execution_count": 30
    }
   ],
   "source": [
    "#using standard scaler\n",
    "scaler = StandardScaler()\n",
    "#fit get the mean and standard deviation of the train features \n",
    "#while tranform applies the standardation formular\n",
    "X_train_StandardScaler = scaler.fit_transform(X_train) \n",
    "X_train_StandardScaler"
   ]
  },
  {
   "cell_type": "code",
   "execution_count": 31,
   "metadata": {},
   "outputs": [
    {
     "output_type": "execute_result",
     "data": {
      "text/plain": [
       "array([[ 0.24798612, -0.01003914,  0.17293131,  0.78510655],\n",
       "       [ 1.60008121,  1.48177702,  1.6133793 ,  0.78510655],\n",
       "       [ 0.36144864,  0.48723291,  0.46102091, -0.87839392],\n",
       "       ...,\n",
       "       [ 0.30471738,  0.98450497,  0.17293131, -0.87839392],\n",
       "       [ 1.52443953,  0.48723291,  1.6133793 ,  0.23060639],\n",
       "       [ 1.51498432,  1.48177702,  1.6133793 , -1.43289408]])"
      ]
     },
     "metadata": {},
     "execution_count": 31
    }
   ],
   "source": [
    "X_test_StandardScaler = scaler.fit_transform(X_test) \n",
    "X_test_StandardScaler"
   ]
  },
  {
   "source": [
    "# KNN"
   ],
   "cell_type": "markdown",
   "metadata": {}
  },
  {
   "cell_type": "code",
   "execution_count": 32,
   "metadata": {},
   "outputs": [
    {
     "output_type": "error",
     "ename": "NameError",
     "evalue": "name 'mean_squared_error' is not defined",
     "traceback": [
      "\u001b[0;31m---------------------------------------------------------------------------\u001b[0m",
      "\u001b[0;31mNameError\u001b[0m                                 Traceback (most recent call last)",
      "\u001b[0;32m<ipython-input-32-2e2cd8ea82e3>\u001b[0m in \u001b[0;36m<module>\u001b[0;34m\u001b[0m\n\u001b[1;32m     22\u001b[0m           \u001b[0mknn_maxi\u001b[0m \u001b[0;34m=\u001b[0m \u001b[0mKNeighborsRegressor\u001b[0m\u001b[0;34m(\u001b[0m\u001b[0mn_neighbors\u001b[0m \u001b[0;34m=\u001b[0m \u001b[0mi\u001b[0m\u001b[0;34m,\u001b[0m \u001b[0mleaf_size\u001b[0m \u001b[0;34m=\u001b[0m \u001b[0mj\u001b[0m\u001b[0;34m,\u001b[0m \u001b[0mmetric\u001b[0m \u001b[0;34m=\u001b[0m \u001b[0mk\u001b[0m\u001b[0;34m,\u001b[0m \u001b[0mweights\u001b[0m \u001b[0;34m=\u001b[0m \u001b[0ml\u001b[0m\u001b[0;34m,\u001b[0m \u001b[0malgorithm\u001b[0m \u001b[0;34m=\u001b[0m \u001b[0mm\u001b[0m\u001b[0;34m)\u001b[0m\u001b[0;34m\u001b[0m\u001b[0;34m\u001b[0m\u001b[0m\n\u001b[1;32m     23\u001b[0m           \u001b[0mknn_maxi\u001b[0m\u001b[0;34m.\u001b[0m\u001b[0mfit\u001b[0m\u001b[0;34m(\u001b[0m\u001b[0mX_train_StandardScaler\u001b[0m\u001b[0;34m,\u001b[0m \u001b[0my_train\u001b[0m\u001b[0;34m)\u001b[0m\u001b[0;34m\u001b[0m\u001b[0;34m\u001b[0m\u001b[0m\n\u001b[0;32m---> 24\u001b[0;31m           \u001b[0mscores_\u001b[0m\u001b[0;34m.\u001b[0m\u001b[0mappend\u001b[0m\u001b[0;34m(\u001b[0m\u001b[0mmean_squared_error\u001b[0m\u001b[0;34m(\u001b[0m\u001b[0my_test\u001b[0m\u001b[0;34m.\u001b[0m\u001b[0mvalues\u001b[0m\u001b[0;34m,\u001b[0m \u001b[0mknn_maxi\u001b[0m\u001b[0;34m.\u001b[0m\u001b[0mpredict\u001b[0m\u001b[0;34m(\u001b[0m\u001b[0mX_test_StandardScaler\u001b[0m\u001b[0;34m)\u001b[0m\u001b[0;34m)\u001b[0m\u001b[0;34m)\u001b[0m\u001b[0;34m\u001b[0m\u001b[0;34m\u001b[0m\u001b[0m\n\u001b[0m\u001b[1;32m     25\u001b[0m \u001b[0;34m\u001b[0m\u001b[0m\n\u001b[1;32m     26\u001b[0m           \u001b[0mneighbor\u001b[0m\u001b[0;34m.\u001b[0m\u001b[0mappend\u001b[0m\u001b[0;34m(\u001b[0m\u001b[0mi\u001b[0m\u001b[0;34m)\u001b[0m\u001b[0;34m\u001b[0m\u001b[0;34m\u001b[0m\u001b[0m\n",
      "\u001b[0;31mNameError\u001b[0m: name 'mean_squared_error' is not defined"
     ]
    }
   ],
   "source": [
    "#KNN parameters\n",
    "n_neighbors = [2,4,5,10,25]\n",
    "leaf_size = [10,20,30,50,100,500]\n",
    "metric = ['euclidean','chebyshev','manhattan']\n",
    "weights = ['uniform', 'distance']\n",
    "algorithm = ['auto', 'ball_tree', 'kd_tree', 'brute'] \n",
    "\n",
    "\n",
    "#declaring parameters for KNN algorithm to determine it performance on the test data\n",
    "scores_ = []\n",
    "neighbor = []\n",
    "leaf_size_ = []\n",
    "metric_ = []\n",
    "weight = []\n",
    "algorithm_ = []\n",
    "\n",
    "for i in n_neighbors:\n",
    "  for j in leaf_size:\n",
    "    for k in metric:\n",
    "      for l in weights:\n",
    "        for m in algorithm:\n",
    "          knn_maxi = KNeighborsRegressor(n_neighbors = i, leaf_size = j, metric = k, weights = l, algorithm = m)\n",
    "          knn_maxi.fit(X_train_StandardScaler, y_train)\n",
    "          scores_.append(mean_squared_error(y_test.values, knn_maxi.predict(X_test_StandardScaler)))\n",
    "          \n",
    "          neighbor.append(i)\n",
    "          leaf_size_.append(j)\n",
    "          metric_.append(k)\n",
    "          weight.append(l)\n",
    "          algorithm_.append(m)\n"
   ]
  },
  {
   "cell_type": "code",
   "execution_count": 16,
   "metadata": {},
   "outputs": [
    {
     "output_type": "execute_result",
     "data": {
      "text/plain": [
       "27.191755365797736"
      ]
     },
     "metadata": {},
     "execution_count": 16
    }
   ],
   "source": [
    "#checking the minimun mean square error of the KNN algorithm used for rainfall prediction\n",
    "min(scores_)"
   ]
  },
  {
   "cell_type": "code",
   "execution_count": 17,
   "metadata": {},
   "outputs": [
    {
     "output_type": "execute_result",
     "data": {
      "text/plain": [
       "585"
      ]
     },
     "metadata": {},
     "execution_count": 17
    }
   ],
   "source": [
    "#getting the index of the minimun mean square error of the KNN algorithm from the list\n",
    "index_max = np.argmin(scores_)\n",
    "index_max"
   ]
  },
  {
   "cell_type": "code",
   "execution_count": 18,
   "metadata": {},
   "outputs": [
    {
     "output_type": "execute_result",
     "data": {
      "text/plain": [
       "[25, 10, 'chebyshev', 'uniform', 'ball_tree']"
      ]
     },
     "metadata": {},
     "execution_count": 18
    }
   ],
   "source": [
    "#obtaining the parameters with the minimun mean square error of the KNN algorithm \n",
    "rainfall_knn_parameters = [neighbor[index_max], leaf_size_[index_max], metric_[index_max], weight[index_max], algorithm_[index_max]]\n",
    "rainfall_knn_parameters"
   ]
  },
  {
   "cell_type": "code",
   "execution_count": 19,
   "metadata": {},
   "outputs": [
    {
     "output_type": "execute_result",
     "data": {
      "text/plain": [
       "KNeighborsRegressor(algorithm='ball_tree', leaf_size=10, metric='chebyshev',\n",
       "                    n_neighbors=25)"
      ]
     },
     "metadata": {},
     "execution_count": 19
    }
   ],
   "source": [
    "#assign best parameter\n",
    "knn_max = KNeighborsRegressor(n_neighbors = neighbor[index_max], leaf_size = leaf_size_[index_max],  metric = metric_[index_max], weights = weight[index_max], algorithm = algorithm_[index_max])\n",
    "knn_max.fit(X_train_StandardScaler, y_train)\n"
   ]
  },
  {
   "cell_type": "code",
   "execution_count": 20,
   "metadata": {},
   "outputs": [
    {
     "output_type": "execute_result",
     "data": {
      "text/plain": [
       "array([1.288, 1.568, 2.128, 0.176, 1.24 ])"
      ]
     },
     "metadata": {},
     "execution_count": 20
    }
   ],
   "source": [
    "knn_max.predict(X_test_StandardScaler)[:5]\n"
   ]
  },
  {
   "cell_type": "code",
   "execution_count": 21,
   "metadata": {},
   "outputs": [
    {
     "output_type": "execute_result",
     "data": {
      "text/plain": [
       "array([[0.   , 1.288],\n",
       "       [0.   , 1.568],\n",
       "       [0.   , 2.128],\n",
       "       ...,\n",
       "       [2.4  , 2.568],\n",
       "       [0.   , 1.84 ],\n",
       "       [0.   , 1.8  ]])"
      ]
     },
     "metadata": {},
     "execution_count": 21
    }
   ],
   "source": [
    "#printing the test data side by side with the predicted data\n",
    "np.concatenate((y_test.values.reshape(len(y_test),1), knn_max.predict(X_test_StandardScaler).reshape(len(y_test),1)),1)"
   ]
  },
  {
   "source": [
    "## MLP"
   ],
   "cell_type": "markdown",
   "metadata": {}
  },
  {
   "cell_type": "code",
   "execution_count": 22,
   "metadata": {},
   "outputs": [],
   "source": [
    "hidden_layer_sizes = []\n",
    "for i in range(1,10):\n",
    "  hidden_layer_sizes.append(((i,i,i)))\n",
    "\n",
    "activation = ['tanh', 'relu', 'logistic', 'identity']\n",
    "solver = ['lbfgs', 'sgd', 'adam']\n",
    "alpha = [0.0001, 0.05, 0.01, .001]\n",
    "learning_rate = ['constant','adaptive', 'invscaling']"
   ]
  },
  {
   "cell_type": "code",
   "execution_count": 24,
   "metadata": {},
   "outputs": [],
   "source": [
    "#MLP for rainfall \n",
    "\n",
    "#declaring parameters for MLP algorithm to determine it performance on the test data\n",
    "scores_mlp_max_rainfall = []\n",
    "hidden_layer_sizes_ = []\n",
    "solver_ = []\n",
    "activation_ = []\n",
    "alpha_ = []\n",
    "learning_rate_ = []\n",
    "\n",
    "\n",
    "for i in hidden_layer_sizes:\n",
    "  for j in activation:\n",
    "    for k in solver:\n",
    "      for l in alpha:\n",
    "        for m in learning_rate:\n",
    "\n",
    "          mlp_maxi = MLPRegressor(hidden_layer_sizes = i, activation = j, solver = k, alpha = l, learning_rate = m)\n",
    "          mlp_maxi.fit(X_train_StandardScaler, y_train)\n",
    "       \n",
    "          scores_mlp_max_rainfall.append(mean_squared_error(y_test.values, knn_maxi.predict(X_test_StandardScaler)))\n",
    "          hidden_layer_sizes_.append(i)\n",
    "          activation_.append(j)\n",
    "          solver_.append(k)\n",
    "          alpha_.append(l)\n",
    "          learning_rate_.append(m)"
   ]
  },
  {
   "cell_type": "code",
   "execution_count": 28,
   "metadata": {},
   "outputs": [
    {
     "output_type": "execute_result",
     "data": {
      "text/plain": [
       "28.080610717110428"
      ]
     },
     "metadata": {},
     "execution_count": 28
    }
   ],
   "source": [
    "#checking the minimun mean square error of the MLP algorithm used for prediction\n",
    "min(scores_mlp_max_rainfall)"
   ]
  },
  {
   "cell_type": "code",
   "execution_count": 29,
   "metadata": {},
   "outputs": [
    {
     "output_type": "execute_result",
     "data": {
      "text/plain": [
       "0"
      ]
     },
     "metadata": {},
     "execution_count": 29
    }
   ],
   "source": [
    "#getting the index of the minimun mean square error of the KNN algorithm from the list\n",
    "index_min = np.argmin(scores_mlp_max_rainfall)\n",
    "index_min"
   ]
  },
  {
   "cell_type": "code",
   "execution_count": 30,
   "metadata": {},
   "outputs": [
    {
     "output_type": "execute_result",
     "data": {
      "text/plain": [
       "[(5, 5, 5), 'tanh', 'lbfgs', 0.001, 'constant']"
      ]
     },
     "metadata": {},
     "execution_count": 30
    }
   ],
   "source": [
    "#obtaining the parameters with the minimun mean square error of the mlp algorithm \n",
    "rainfall_mlp_parameters = [hidden_layer_sizes_[index_max], activation_[index_max], solver_[index_max], alpha_[index_max], learning_rate_[index_max]]\n",
    "rainfall_mlp_parameters"
   ]
  },
  {
   "cell_type": "code",
   "execution_count": 32,
   "metadata": {},
   "outputs": [
    {
     "output_type": "execute_result",
     "data": {
      "text/plain": [
       "MLPRegressor(alpha=0.001, hidden_layer_sizes=(2, 2, 2),\n",
       "             learning_rate='invscaling', solver='sgd')"
      ]
     },
     "metadata": {},
     "execution_count": 32
    }
   ],
   "source": [
    "mlp_max = MLPRegressor(hidden_layer_sizes = (2, 2, 2), activation = 'relu', solver = 'sgd' , alpha = 0.001, learning_rate = 'invscaling')\n",
    "mlp_max.fit(X_train_StandardScaler, y_train)"
   ]
  },
  {
   "cell_type": "code",
   "execution_count": 33,
   "metadata": {},
   "outputs": [
    {
     "output_type": "execute_result",
     "data": {
      "text/plain": [
       "array([[ 0.        , -0.41538732],\n",
       "       [ 0.        , -0.41538732],\n",
       "       [ 0.        , -0.2529807 ],\n",
       "       ...,\n",
       "       [ 2.4       , -0.20335721],\n",
       "       [ 0.        , -0.41538732],\n",
       "       [ 0.        , -0.24241638]])"
      ]
     },
     "metadata": {},
     "execution_count": 33
    }
   ],
   "source": [
    "#printing the test data side by side with the predicted data\n",
    "np.concatenate((y_test.values.reshape(len(y_test),1), mlp_max.predict(X_test_StandardScaler).reshape(len(y_test),1)),1)"
   ]
  },
  {
   "source": [
    "## Decision tree"
   ],
   "cell_type": "markdown",
   "metadata": {}
  },
  {
   "cell_type": "code",
   "execution_count": 34,
   "metadata": {},
   "outputs": [],
   "source": [
    "splitter=['best','random']\n",
    "criterion = ['mse', 'friedman_mse', 'mae']\n",
    "max_depth = [1,2,3,4,5,10,20,30,40]\n",
    "max_features =['auto','sqrt','log2'] \n",
    "min_samples_split= [2,3,4,5,10,20,30,40]\n",
    "random_state= [1,2,3,4,5,6,7,8,9,42]"
   ]
  },
  {
   "cell_type": "code",
   "execution_count": 35,
   "metadata": {},
   "outputs": [],
   "source": [
    "#DT for Maximum Temperature\n",
    "\n",
    "#declaring parameters for DT algorithm to determine it performance on the test data\n",
    "scores_dt_rainfall = []\n",
    "splitter_ = []\n",
    "criterion_ =  []\n",
    "max_depth_ = []\n",
    "max_features_ = []\n",
    "min_samples_split_ = []\n",
    "random_state_ = []\n",
    "\n",
    "\n",
    "for i in splitter:\n",
    "  for j in criterion:\n",
    "    for k in max_depth:\n",
    "      for l in max_features:\n",
    "        for m in min_samples_split:\n",
    "          for n in random_state:\n",
    "            dt_maxi = DecisionTreeRegressor(splitter = i, criterion = j, max_depth = k, max_features = l, min_samples_split = m,random_state = n )\n",
    "            dt_maxi.fit(X_train_StandardScaler, y_train)\n",
    "            \n",
    "            scores_dt_rainfall.append(mean_squared_error(y_test.values, knn_maxi.predict(X_test_StandardScaler)))\n",
    "\n",
    "            splitter_.append(i)\n",
    "            criterion_.append(j)\n",
    "            max_depth_.append(k)\n",
    "            max_features_.append(l)\n",
    "            min_samples_split_.append(m)\n",
    "            random_state_.append(n)"
   ]
  },
  {
   "cell_type": "code",
   "execution_count": 36,
   "metadata": {},
   "outputs": [
    {
     "output_type": "execute_result",
     "data": {
      "text/plain": [
       "28.080610717110428"
      ]
     },
     "metadata": {},
     "execution_count": 36
    }
   ],
   "source": [
    "#checking the minimun mean square error of the dt algorithm used for rainfall prediction\n",
    "min(scores_dt_rainfall)"
   ]
  },
  {
   "cell_type": "code",
   "execution_count": 37,
   "metadata": {},
   "outputs": [
    {
     "output_type": "execute_result",
     "data": {
      "text/plain": [
       "0"
      ]
     },
     "metadata": {},
     "execution_count": 37
    }
   ],
   "source": [
    "#getting the index of the minimun mean square error of the dt algorithm from the list\n",
    "index_max = np.argmin(scores_dt_rainfall)\n",
    "index_max"
   ]
  },
  {
   "cell_type": "code",
   "execution_count": 38,
   "metadata": {},
   "outputs": [
    {
     "output_type": "execute_result",
     "data": {
      "text/plain": [
       "['best', 'mse', 1, 'auto', 2, 1]"
      ]
     },
     "metadata": {},
     "execution_count": 38
    }
   ],
   "source": [
    "#obtaining the parameters with the minimun mean square error of the DT algorithm \n",
    "rainfall_dt_parameters = [splitter_[index_max], criterion_[index_max], max_depth_[index_max], max_features_[index_max], min_samples_split_[index_max],random_state_[index_max]]\n",
    "rainfall_dt_parameters"
   ]
  },
  {
   "cell_type": "code",
   "execution_count": 61,
   "metadata": {},
   "outputs": [
    {
     "output_type": "execute_result",
     "data": {
      "text/plain": [
       "DecisionTreeRegressor(max_depth=10, max_features='auto', min_samples_split=10,\n",
       "                      random_state=1)"
      ]
     },
     "metadata": {},
     "execution_count": 61
    }
   ],
   "source": [
    "dt_max = DecisionTreeRegressor(splitter = splitter_[index_max] , criterion = criterion_[index_max], max_depth = max_depth_[index_max], max_features = max_features_[index_max], min_samples_split = min_samples_split_[index_max],random_state = random_state_[index_max])\n",
    "dt_max.fit(X_train_StandardScaler, y_train)"
   ]
  },
  {
   "cell_type": "code",
   "execution_count": 62,
   "metadata": {},
   "outputs": [
    {
     "output_type": "execute_result",
     "data": {
      "text/plain": [
       "array([[0.        , 1.12171351],\n",
       "       [0.        , 0.        ],\n",
       "       [0.        , 2.30740741],\n",
       "       ...,\n",
       "       [2.4       , 2.30740741],\n",
       "       [0.        , 9.68      ],\n",
       "       [0.        , 5.43333333]])"
      ]
     },
     "metadata": {},
     "execution_count": 62
    }
   ],
   "source": [
    "#printing the test data side by side with the predicted data\n",
    "np.concatenate((y_test.values.reshape(len(y_test),1), dt_max.predict(X_test_StandardScaler).reshape(len(y_test),1)),1)"
   ]
  },
  {
   "source": [],
   "cell_type": "markdown",
   "metadata": {}
  },
  {
   "source": [
    "## Random Forest"
   ],
   "cell_type": "markdown",
   "metadata": {}
  },
  {
   "cell_type": "code",
   "execution_count": 40,
   "metadata": {},
   "outputs": [],
   "source": [
    "criterion = ['mse', 'friedman_mse', 'mae']\n",
    "max_depth = [10,20,30,40]\n",
    "max_features =['auto','sqrt','log2'] \n",
    "min_samples_split= [10,20,30,40]\n",
    "random_state= [1,2,3,42]\n",
    "n_estimators =[10,50,100]"
   ]
  },
  {
   "cell_type": "code",
   "execution_count": 43,
   "metadata": {},
   "outputs": [],
   "source": [
    "#RF for rainfall\n",
    "\n",
    "#declaring parameters for RF algorithm to determine it performance on the test data\n",
    "scores_rf_rainfall = []\n",
    "n_estimators_ = []\n",
    "criterion_ =  []\n",
    "max_depth_ = []\n",
    "max_features_ = []\n",
    "min_samples_split_ = []\n",
    "random_state_ = []\n",
    "\n",
    "\n",
    "for i in n_estimators:\n",
    "  for j in criterion:\n",
    "    for k in max_depth:\n",
    "      for l in max_features:\n",
    "        for m in min_samples_split:\n",
    "          for n in random_state:\n",
    "            rf_maxi = RandomForestRegressor(n_estimators = i, criterion = j, max_depth = k, max_features = l, min_samples_split = m,random_state = n )\n",
    "            rf_maxi.fit(X_train_StandardScaler, y_train)\n",
    "            scores_rf_rainfall.append(mean_squared_error(y_test.values, knn_maxi.predict(X_test_StandardScaler)))\n",
    "\n",
    "            n_estimators_.append(i)\n",
    "            criterion_.append(j)\n",
    "            max_depth_.append(k)\n",
    "            max_features_.append(l)\n",
    "            min_samples_split_.append(m)\n",
    "            random_state_.append(n)"
   ]
  },
  {
   "cell_type": "code",
   "execution_count": 44,
   "metadata": {},
   "outputs": [
    {
     "output_type": "execute_result",
     "data": {
      "text/plain": [
       "28.080610717110428"
      ]
     },
     "metadata": {},
     "execution_count": 44
    }
   ],
   "source": [
    "min(scores_rf_rainfall)"
   ]
  },
  {
   "cell_type": "code",
   "execution_count": 45,
   "metadata": {},
   "outputs": [
    {
     "output_type": "execute_result",
     "data": {
      "text/plain": [
       "0"
      ]
     },
     "metadata": {},
     "execution_count": 45
    }
   ],
   "source": [
    "index_max = np.argmin(scores_rf_rainfall)\n",
    "index_max"
   ]
  },
  {
   "cell_type": "code",
   "execution_count": 46,
   "metadata": {},
   "outputs": [
    {
     "output_type": "execute_result",
     "data": {
      "text/plain": [
       "[10, 'mse', 10, 'auto', 10, 1]"
      ]
     },
     "metadata": {},
     "execution_count": 46
    }
   ],
   "source": [
    "#obtaining the parameters with the minimun mean square error of the RF algorithm \n",
    "scores_rf_rainfall_parameters = [n_estimators_[index_max], criterion_[index_max], max_depth_[index_max], max_features_[index_max],min_samples_split_[index_max],random_state_[index_max] ]\n",
    "scores_rf_rainfall_parameters"
   ]
  },
  {
   "cell_type": "code",
   "execution_count": 47,
   "metadata": {},
   "outputs": [
    {
     "output_type": "execute_result",
     "data": {
      "text/plain": [
       "RandomForestRegressor(max_depth=10, min_samples_split=10, n_estimators=10,\n",
       "                      random_state=1)"
      ]
     },
     "metadata": {},
     "execution_count": 47
    }
   ],
   "source": [
    "rf_max = RandomForestRegressor(n_estimators = n_estimators_[index_max], criterion = criterion_[index_max], max_depth = max_depth_[index_max], max_features =  max_features_[index_max], min_samples_split = min_samples_split_[index_max],random_state = random_state_[index_max])\n",
    "rf_max.fit(X_train_StandardScaler, y_train)"
   ]
  },
  {
   "cell_type": "code",
   "execution_count": 48,
   "metadata": {},
   "outputs": [
    {
     "output_type": "execute_result",
     "data": {
      "text/plain": [
       "array([[0.        , 0.74114733],\n",
       "       [0.        , 1.33595126],\n",
       "       [0.        , 1.71571523],\n",
       "       ...,\n",
       "       [2.4       , 1.07692953],\n",
       "       [0.        , 2.38449852],\n",
       "       [0.        , 2.88757847]])"
      ]
     },
     "metadata": {},
     "execution_count": 48
    }
   ],
   "source": [
    "\n",
    "#printing the test data side by side with the predicted data\n",
    "np.concatenate((y_test.values.reshape(len(y_test),1), rf_max.predict(X_test_StandardScaler).reshape(len(y_test),1)),1)"
   ]
  },
  {
   "source": [
    "## SVR"
   ],
   "cell_type": "markdown",
   "metadata": {}
  },
  {
   "cell_type": "code",
   "execution_count": 51,
   "metadata": {},
   "outputs": [],
   "source": [
    "kernel =['linear', 'poly', 'rbf']\n",
    "gamma = ['auto', 'scale']\n",
    "degree = [3,4,5,10]\n",
    "C = [2.0,3.0,4.0]"
   ]
  },
  {
   "cell_type": "code",
   "execution_count": 52,
   "metadata": {},
   "outputs": [],
   "source": [
    "#SVR for rainfall\n",
    "\n",
    "#declaring parameters for SVR algorithm to determine it performance on the test data\n",
    "scores_svr_rainfall= []\n",
    "kernel_ = []\n",
    "gamma_ =  []\n",
    "degree_ = []\n",
    "C_ = []\n",
    "\n",
    "\n",
    "\n",
    "for i in kernel:\n",
    "  for j in gamma:\n",
    "    for k in degree:\n",
    "      for l in C:\n",
    "            svr_maxi = SVR(kernel = i, gamma = j, degree = k, C = l )\n",
    "            svr_maxi.fit(X_train_StandardScaler, y_train)\n",
    "            scores_svr_rainfall.append(mean_squared_error(y_test.values, knn_maxi.predict(X_test_StandardScaler)))\n",
    "\n",
    "            kernel_.append(i)\n",
    "            gamma_.append(j)\n",
    "            degree_.append(k)\n",
    "            C_.append(l)"
   ]
  },
  {
   "cell_type": "code",
   "execution_count": 53,
   "metadata": {},
   "outputs": [
    {
     "output_type": "execute_result",
     "data": {
      "text/plain": [
       "28.080610717110428"
      ]
     },
     "metadata": {},
     "execution_count": 53
    }
   ],
   "source": [
    "#checking the minimun mean square error of the SVR algorithm used for rainfall prediction\n",
    "min(scores_svr_rainfall)"
   ]
  },
  {
   "cell_type": "code",
   "execution_count": 54,
   "metadata": {},
   "outputs": [
    {
     "output_type": "execute_result",
     "data": {
      "text/plain": [
       "0"
      ]
     },
     "metadata": {},
     "execution_count": 54
    }
   ],
   "source": [
    "#getting the index of the minimun mean square error of the dt algorithm from the list\n",
    "index_max = np.argmin(scores_svr_rainfall)\n",
    "index_max"
   ]
  },
  {
   "cell_type": "code",
   "execution_count": 55,
   "metadata": {},
   "outputs": [
    {
     "output_type": "execute_result",
     "data": {
      "text/plain": [
       "['linear', 'auto', 3, 2.0]"
      ]
     },
     "metadata": {},
     "execution_count": 55
    }
   ],
   "source": [
    "#obtaining the parameters with the minimun mean square error of the KNN algorithm \n",
    "rainfall_svr_parameters = [kernel_[index_max], gamma_[index_max], degree_[index_max], C_[index_max]]\n",
    "rainfall_svr_parameters"
   ]
  },
  {
   "cell_type": "code",
   "execution_count": 56,
   "metadata": {},
   "outputs": [
    {
     "output_type": "execute_result",
     "data": {
      "text/plain": [
       "SVR(C=2.0, gamma='auto', kernel='linear')"
      ]
     },
     "metadata": {},
     "execution_count": 56
    }
   ],
   "source": [
    "svr_max = SVR(kernel = kernel_[index_max], gamma = gamma_[index_max], degree = degree_[index_max], C = C_[index_max])\n",
    "svr_max.fit(X_train_StandardScaler, y_train)\n"
   ]
  },
  {
   "cell_type": "code",
   "execution_count": 57,
   "metadata": {},
   "outputs": [
    {
     "output_type": "execute_result",
     "data": {
      "text/plain": [
       "array([[0.        , 0.10001127],\n",
       "       [0.        , 0.09995554],\n",
       "       [0.        , 0.09995466],\n",
       "       ...,\n",
       "       [2.4       , 0.10021649],\n",
       "       [0.        , 0.09991968],\n",
       "       [0.        , 0.10004557]])"
      ]
     },
     "metadata": {},
     "execution_count": 57
    }
   ],
   "source": [
    "\n",
    "#printing the test data side by side with the predicted data\n",
    "np.concatenate((y_test.values.reshape(len(y_test),1), svr_max.predict(X_test_StandardScaler).reshape(len(y_test),1)),1)"
   ]
  },
  {
   "source": [
    "## Model evaluation "
   ],
   "cell_type": "markdown",
   "metadata": {}
  },
  {
   "cell_type": "code",
   "execution_count": 77,
   "metadata": {},
   "outputs": [],
   "source": [
    "from sklearn.metrics import r2_score, mean_squared_error,mean_absolute_error, explained_variance_score,mean_absolute_percentage_error\n",
    "\n"
   ]
  },
  {
   "cell_type": "code",
   "execution_count": 78,
   "metadata": {},
   "outputs": [],
   "source": [
    "model_name = ['KNN', 'MLP', 'Decision Tree', 'Random Forest', 'SVR']\n",
    "mse_value_list = [mean_squared_error(y_test, knn_max.predict(X_test_StandardScaler), squared= True),\n",
    "                mean_squared_error(y_test, mlp_max.predict(X_test_StandardScaler), squared= True),\n",
    "                mean_squared_error(y_test, dt_max.predict(X_test_StandardScaler), squared= True),\n",
    "                mean_squared_error(y_test, rf_max.predict(X_test_StandardScaler), squared= True),\n",
    "                mean_squared_error(y_test, svr_max.predict(X_test_StandardScaler), squared= True)\n",
    "]\n",
    "\n",
    "rmse_value_list=  [mean_squared_error(y_test, knn_max.predict(X_test_StandardScaler), squared= False),\n",
    "                mean_squared_error(y_test, mlp_max.predict(X_test_StandardScaler), squared= False),\n",
    "                mean_squared_error(y_test, dt_max.predict(X_test_StandardScaler), squared= False),\n",
    "                mean_squared_error(y_test, rf_max.predict(X_test_StandardScaler), squared= False),\n",
    "                mean_squared_error(y_test, svr_max.predict(X_test_StandardScaler), squared= False)\n",
    "]\n",
    "\n",
    "mae_value_list = [mean_absolute_error(y_test, knn_max.predict(X_test_StandardScaler)),\n",
    "                mean_absolute_error(y_test, mlp_max.predict(X_test_StandardScaler)),\n",
    "                mean_absolute_error(y_test, dt_max.predict(X_test_StandardScaler)),\n",
    "                mean_absolute_error(y_test, rf_max.predict(X_test_StandardScaler)),\n",
    "                mean_absolute_error(y_test, svr_max.predict(X_test_StandardScaler))\n",
    "]\n",
    "\n",
    "mape_socre_list = [mean_absolute_percentage_error(y_test, knn_max.predict(X_test_StandardScaler)),\n",
    "                mean_absolute_percentage_error(y_test, mlp_max.predict(X_test_StandardScaler)),\n",
    "                mean_absolute_percentage_error(y_test, dt_max.predict(X_test_StandardScaler)),\n",
    "                mean_absolute_percentage_error(y_test, rf_max.predict(X_test_StandardScaler)),\n",
    "                mean_absolute_percentage_error(y_test, svr_max.predict(X_test_StandardScaler))\n",
    "]\n",
    "\n",
    "r2_socre_list = [r2_score(y_test, knn_max.predict(X_test_StandardScaler)),\n",
    "                r2_score(y_test, mlp_max.predict(X_test_StandardScaler)),\n",
    "                r2_score(y_test, dt_max.predict(X_test_StandardScaler)),\n",
    "                r2_score(y_test, rf_max.predict(X_test_StandardScaler)),\n",
    "                r2_score(y_test, svr_max.predict(X_test_StandardScaler))\n",
    "]\n",
    "\n",
    "model_evl_df = pd.DataFrame({\n",
    "    'Model' : model_name,\n",
    "    'MSE' : mse_value_list,\n",
    "    'RMSE' :rmse_value_list,\n",
    "    'MAE' :mae_value_list,\n",
    "    'MAPE' : mape_socre_list,\n",
    "    'R^2 Score' :r2_socre_list\n",
    "\n",
    "})\n",
    "\n",
    "\n"
   ]
  },
  {
   "cell_type": "code",
   "execution_count": 79,
   "metadata": {},
   "outputs": [
    {
     "output_type": "execute_result",
     "data": {
      "text/plain": [
       "           Model        MSE      RMSE       MAE          MAPE  R^2 Score\n",
       "0            KNN  27.191755  5.214571  2.315638  3.533045e+15  -0.012468\n",
       "1            MLP  31.383389  5.602088  2.131122  1.059306e+15  -0.168541\n",
       "2  Decision Tree  33.405779  5.779773  2.535152  3.979175e+15  -0.243843\n",
       "3  Random Forest  29.798458  5.458796  2.485112  4.152694e+15  -0.109527\n",
       "4            SVR  29.580129  5.438762  1.772664  2.757204e+14  -0.101398"
      ],
      "text/html": "<div>\n<style scoped>\n    .dataframe tbody tr th:only-of-type {\n        vertical-align: middle;\n    }\n\n    .dataframe tbody tr th {\n        vertical-align: top;\n    }\n\n    .dataframe thead th {\n        text-align: right;\n    }\n</style>\n<table border=\"1\" class=\"dataframe\">\n  <thead>\n    <tr style=\"text-align: right;\">\n      <th></th>\n      <th>Model</th>\n      <th>MSE</th>\n      <th>RMSE</th>\n      <th>MAE</th>\n      <th>MAPE</th>\n      <th>R^2 Score</th>\n    </tr>\n  </thead>\n  <tbody>\n    <tr>\n      <th>0</th>\n      <td>KNN</td>\n      <td>27.191755</td>\n      <td>5.214571</td>\n      <td>2.315638</td>\n      <td>3.533045e+15</td>\n      <td>-0.012468</td>\n    </tr>\n    <tr>\n      <th>1</th>\n      <td>MLP</td>\n      <td>31.383389</td>\n      <td>5.602088</td>\n      <td>2.131122</td>\n      <td>1.059306e+15</td>\n      <td>-0.168541</td>\n    </tr>\n    <tr>\n      <th>2</th>\n      <td>Decision Tree</td>\n      <td>33.405779</td>\n      <td>5.779773</td>\n      <td>2.535152</td>\n      <td>3.979175e+15</td>\n      <td>-0.243843</td>\n    </tr>\n    <tr>\n      <th>3</th>\n      <td>Random Forest</td>\n      <td>29.798458</td>\n      <td>5.458796</td>\n      <td>2.485112</td>\n      <td>4.152694e+15</td>\n      <td>-0.109527</td>\n    </tr>\n    <tr>\n      <th>4</th>\n      <td>SVR</td>\n      <td>29.580129</td>\n      <td>5.438762</td>\n      <td>1.772664</td>\n      <td>2.757204e+14</td>\n      <td>-0.101398</td>\n    </tr>\n  </tbody>\n</table>\n</div>"
     },
     "metadata": {},
     "execution_count": 79
    }
   ],
   "source": [
    "model_evl_df"
   ]
  },
  {
   "source": [
    "## CV"
   ],
   "cell_type": "markdown",
   "metadata": {}
  },
  {
   "cell_type": "code",
   "execution_count": 107,
   "metadata": {},
   "outputs": [],
   "source": [
    "from sklearn.model_selection import cross_val_score\n",
    "from sklearn.model_selection import KFold\n",
    "def model_cv_score(model_name):\n",
    "    folds = KFold(n_splits = 5, shuffle = True, random_state = 100)\n",
    "    scores = cross_val_score(model_name, X_train, y_train,cv=folds)\n",
    "    print(\"%0.2f accuracy with a standard deviation of %0.2f\" % (scores.mean(), scores.std()))\n",
    "    return scores.mean(),scores.std()\n"
   ]
  },
  {
   "cell_type": "code",
   "execution_count": 108,
   "metadata": {},
   "outputs": [
    {
     "output_type": "stream",
     "name": "stdout",
     "text": [
      "-0.05 accuracy with a standard deviation of 0.01\n"
     ]
    },
    {
     "output_type": "execute_result",
     "data": {
      "text/plain": [
       "(-0.05019335637608413, 0.006705258588316975)"
      ]
     },
     "metadata": {},
     "execution_count": 108
    }
   ],
   "source": [
    "model_cv_score(knn_max)\n"
   ]
  },
  {
   "cell_type": "code",
   "execution_count": 109,
   "metadata": {},
   "outputs": [
    {
     "output_type": "stream",
     "name": "stdout",
     "text": [
      "-0.24 accuracy with a standard deviation of 0.27\n"
     ]
    },
    {
     "output_type": "execute_result",
     "data": {
      "text/plain": [
       "(-0.2445929610289616, 0.2740743799318033)"
      ]
     },
     "metadata": {},
     "execution_count": 109
    }
   ],
   "source": [
    "model_cv_score(mlp_max)"
   ]
  },
  {
   "cell_type": "code",
   "execution_count": 110,
   "metadata": {},
   "outputs": [
    {
     "output_type": "stream",
     "name": "stdout",
     "text": [
      "-0.46 accuracy with a standard deviation of 0.33\n"
     ]
    },
    {
     "output_type": "execute_result",
     "data": {
      "text/plain": [
       "(-0.458700919828196, 0.3336803832807382)"
      ]
     },
     "metadata": {},
     "execution_count": 110
    }
   ],
   "source": [
    "model_cv_score(dt_max)"
   ]
  },
  {
   "cell_type": "code",
   "execution_count": 111,
   "metadata": {},
   "outputs": [
    {
     "output_type": "stream",
     "name": "stdout",
     "text": [
      "-0.10 accuracy with a standard deviation of 0.05\n"
     ]
    },
    {
     "output_type": "execute_result",
     "data": {
      "text/plain": [
       "(-0.10005743366803888, 0.049667834996746915)"
      ]
     },
     "metadata": {},
     "execution_count": 111
    }
   ],
   "source": [
    "model_cv_score(rf_max)"
   ]
  },
  {
   "cell_type": "code",
   "execution_count": 112,
   "metadata": {},
   "outputs": [
    {
     "output_type": "stream",
     "name": "stdout",
     "text": [
      "-0.11 accuracy with a standard deviation of 0.04\n"
     ]
    },
    {
     "output_type": "execute_result",
     "data": {
      "text/plain": [
       "(-0.11453209958973778, 0.035436674130015666)"
      ]
     },
     "metadata": {},
     "execution_count": 112
    }
   ],
   "source": [
    "model_cv_score(svr_max)"
   ]
  },
  {
   "source": [
    "overall, KNN best fit dataset in this case"
   ],
   "cell_type": "markdown",
   "metadata": {}
  },
  {
   "source": [
    "## Prediciton"
   ],
   "cell_type": "markdown",
   "metadata": {}
  },
  {
   "cell_type": "code",
   "execution_count": 131,
   "metadata": {},
   "outputs": [
    {
     "output_type": "execute_result",
     "data": {
      "text/plain": [
       "KNeighborsRegressor(algorithm='ball_tree', leaf_size=10, metric='chebyshev',\n",
       "                    n_neighbors=25)"
      ]
     },
     "metadata": {},
     "execution_count": 131
    }
   ],
   "source": [
    "knn_max"
   ]
  },
  {
   "cell_type": "code",
   "execution_count": 33,
   "metadata": {},
   "outputs": [
    {
     "output_type": "execute_result",
     "data": {
      "text/plain": [
       "     dayofyear  dayofweek  month  year       date\n",
       "0           60          1      3  2021 2021-03-01\n",
       "1           61          2      3  2021 2021-03-02\n",
       "2           62          3      3  2021 2021-03-03\n",
       "3           63          4      3  2021 2021-03-04\n",
       "4           64          5      3  2021 2021-03-05\n",
       "..         ...        ...    ...   ...        ...\n",
       "180        240          6      8  2021 2021-08-28\n",
       "181        241          7      8  2021 2021-08-29\n",
       "182        242          1      8  2021 2021-08-30\n",
       "183        243          2      8  2021 2021-08-31\n",
       "184        244          3      9  2021 2021-09-01\n",
       "\n",
       "[185 rows x 5 columns]"
      ],
      "text/html": "<div>\n<style scoped>\n    .dataframe tbody tr th:only-of-type {\n        vertical-align: middle;\n    }\n\n    .dataframe tbody tr th {\n        vertical-align: top;\n    }\n\n    .dataframe thead th {\n        text-align: right;\n    }\n</style>\n<table border=\"1\" class=\"dataframe\">\n  <thead>\n    <tr style=\"text-align: right;\">\n      <th></th>\n      <th>dayofyear</th>\n      <th>dayofweek</th>\n      <th>month</th>\n      <th>year</th>\n      <th>date</th>\n    </tr>\n  </thead>\n  <tbody>\n    <tr>\n      <th>0</th>\n      <td>60</td>\n      <td>1</td>\n      <td>3</td>\n      <td>2021</td>\n      <td>2021-03-01</td>\n    </tr>\n    <tr>\n      <th>1</th>\n      <td>61</td>\n      <td>2</td>\n      <td>3</td>\n      <td>2021</td>\n      <td>2021-03-02</td>\n    </tr>\n    <tr>\n      <th>2</th>\n      <td>62</td>\n      <td>3</td>\n      <td>3</td>\n      <td>2021</td>\n      <td>2021-03-03</td>\n    </tr>\n    <tr>\n      <th>3</th>\n      <td>63</td>\n      <td>4</td>\n      <td>3</td>\n      <td>2021</td>\n      <td>2021-03-04</td>\n    </tr>\n    <tr>\n      <th>4</th>\n      <td>64</td>\n      <td>5</td>\n      <td>3</td>\n      <td>2021</td>\n      <td>2021-03-05</td>\n    </tr>\n    <tr>\n      <th>...</th>\n      <td>...</td>\n      <td>...</td>\n      <td>...</td>\n      <td>...</td>\n      <td>...</td>\n    </tr>\n    <tr>\n      <th>180</th>\n      <td>240</td>\n      <td>6</td>\n      <td>8</td>\n      <td>2021</td>\n      <td>2021-08-28</td>\n    </tr>\n    <tr>\n      <th>181</th>\n      <td>241</td>\n      <td>7</td>\n      <td>8</td>\n      <td>2021</td>\n      <td>2021-08-29</td>\n    </tr>\n    <tr>\n      <th>182</th>\n      <td>242</td>\n      <td>1</td>\n      <td>8</td>\n      <td>2021</td>\n      <td>2021-08-30</td>\n    </tr>\n    <tr>\n      <th>183</th>\n      <td>243</td>\n      <td>2</td>\n      <td>8</td>\n      <td>2021</td>\n      <td>2021-08-31</td>\n    </tr>\n    <tr>\n      <th>184</th>\n      <td>244</td>\n      <td>3</td>\n      <td>9</td>\n      <td>2021</td>\n      <td>2021-09-01</td>\n    </tr>\n  </tbody>\n</table>\n<p>185 rows × 5 columns</p>\n</div>"
     },
     "metadata": {},
     "execution_count": 33
    }
   ],
   "source": [
    "#create object\n",
    "\n",
    "predict = pd.DataFrame({'date':pd.date_range(start=\"2021-03-01\",end=\"2021-09-01\")})\n",
    "predict\n",
    "\n",
    "#get columns with number value\n",
    "predict['month'] = predict['date'].dt.month\n",
    "predict['dayofweek']= predict['date'].dt.dayofweek+1\n",
    "predict['dayofyear'] = predict['date'].dt.dayofyear\n",
    "predict['year'] = predict['date'].dt.year\n",
    "\n",
    "#order column\n",
    "col = ['dayofyear','dayofweek', 'month', 'year','date']\n",
    "predict = predict[col]\n",
    "\n",
    "predict"
   ]
  },
  {
   "cell_type": "code",
   "execution_count": 34,
   "metadata": {},
   "outputs": [
    {
     "output_type": "execute_result",
     "data": {
      "text/plain": [
       "array([[-1.72271354, -1.48197707, -1.46118834,  0.        ],\n",
       "       [-1.70398839, -0.98258589, -1.46118834,  0.        ],\n",
       "       [-1.68526324, -0.48319471, -1.46118834,  0.        ],\n",
       "       [-1.6665381 ,  0.01619647, -1.46118834,  0.        ],\n",
       "       [-1.64781295,  0.51558765, -1.46118834,  0.        ],\n",
       "       [-1.6290878 ,  1.01497883, -1.46118834,  0.        ],\n",
       "       [-1.61036266,  1.51437001, -1.46118834,  0.        ],\n",
       "       [-1.59163751, -1.48197707, -1.46118834,  0.        ],\n",
       "       [-1.57291236, -0.98258589, -1.46118834,  0.        ],\n",
       "       [-1.55418721, -0.48319471, -1.46118834,  0.        ]])"
      ]
     },
     "metadata": {},
     "execution_count": 34
    }
   ],
   "source": [
    "X_predict = scaler.fit_transform(predict.iloc[:,:-1]) \n",
    "X_predict[:10]"
   ]
  },
  {
   "cell_type": "code",
   "execution_count": 35,
   "metadata": {},
   "outputs": [
    {
     "output_type": "error",
     "ename": "NameError",
     "evalue": "name 'knn_max' is not defined",
     "traceback": [
      "\u001b[0;31m---------------------------------------------------------------------------\u001b[0m",
      "\u001b[0;31mNameError\u001b[0m                                 Traceback (most recent call last)",
      "\u001b[0;32m<ipython-input-35-80ca0bb105fb>\u001b[0m in \u001b[0;36m<module>\u001b[0;34m\u001b[0m\n\u001b[0;32m----> 1\u001b[0;31m \u001b[0mpredict\u001b[0m\u001b[0;34m[\u001b[0m\u001b[0;34m'predict_rainfall'\u001b[0m\u001b[0;34m]\u001b[0m \u001b[0;34m=\u001b[0m \u001b[0mknn_max\u001b[0m\u001b[0;34m.\u001b[0m\u001b[0mpredict\u001b[0m\u001b[0;34m(\u001b[0m\u001b[0mX_predict\u001b[0m\u001b[0;34m)\u001b[0m\u001b[0;34m\u001b[0m\u001b[0;34m\u001b[0m\u001b[0m\n\u001b[0m",
      "\u001b[0;31mNameError\u001b[0m: name 'knn_max' is not defined"
     ]
    }
   ],
   "source": [
    "predict['predict_rainfall'] = knn_max.predict(X_predict)"
   ]
  },
  {
   "cell_type": "code",
   "execution_count": 135,
   "metadata": {},
   "outputs": [
    {
     "output_type": "execute_result",
     "data": {
      "text/plain": [
       "            dayofyear  dayofweek  month  year  predict_rainfall\n",
       "date                                                           \n",
       "2021-03-01         60          1      3  2021             1.672\n",
       "2021-03-02         61          2      3  2021             0.184\n",
       "2021-03-03         62          3      3  2021             0.016\n",
       "2021-03-04         63          4      3  2021             1.024\n",
       "2021-03-05         64          5      3  2021             1.464\n",
       "...               ...        ...    ...   ...               ...\n",
       "2021-08-28        240          6      8  2021             1.768\n",
       "2021-08-29        241          7      8  2021             2.032\n",
       "2021-08-30        242          1      8  2021             0.320\n",
       "2021-08-31        243          2      8  2021             0.336\n",
       "2021-09-01        244          3      9  2021             0.992\n",
       "\n",
       "[185 rows x 5 columns]"
      ],
      "text/html": "<div>\n<style scoped>\n    .dataframe tbody tr th:only-of-type {\n        vertical-align: middle;\n    }\n\n    .dataframe tbody tr th {\n        vertical-align: top;\n    }\n\n    .dataframe thead th {\n        text-align: right;\n    }\n</style>\n<table border=\"1\" class=\"dataframe\">\n  <thead>\n    <tr style=\"text-align: right;\">\n      <th></th>\n      <th>dayofyear</th>\n      <th>dayofweek</th>\n      <th>month</th>\n      <th>year</th>\n      <th>predict_rainfall</th>\n    </tr>\n    <tr>\n      <th>date</th>\n      <th></th>\n      <th></th>\n      <th></th>\n      <th></th>\n      <th></th>\n    </tr>\n  </thead>\n  <tbody>\n    <tr>\n      <th>2021-03-01</th>\n      <td>60</td>\n      <td>1</td>\n      <td>3</td>\n      <td>2021</td>\n      <td>1.672</td>\n    </tr>\n    <tr>\n      <th>2021-03-02</th>\n      <td>61</td>\n      <td>2</td>\n      <td>3</td>\n      <td>2021</td>\n      <td>0.184</td>\n    </tr>\n    <tr>\n      <th>2021-03-03</th>\n      <td>62</td>\n      <td>3</td>\n      <td>3</td>\n      <td>2021</td>\n      <td>0.016</td>\n    </tr>\n    <tr>\n      <th>2021-03-04</th>\n      <td>63</td>\n      <td>4</td>\n      <td>3</td>\n      <td>2021</td>\n      <td>1.024</td>\n    </tr>\n    <tr>\n      <th>2021-03-05</th>\n      <td>64</td>\n      <td>5</td>\n      <td>3</td>\n      <td>2021</td>\n      <td>1.464</td>\n    </tr>\n    <tr>\n      <th>...</th>\n      <td>...</td>\n      <td>...</td>\n      <td>...</td>\n      <td>...</td>\n      <td>...</td>\n    </tr>\n    <tr>\n      <th>2021-08-28</th>\n      <td>240</td>\n      <td>6</td>\n      <td>8</td>\n      <td>2021</td>\n      <td>1.768</td>\n    </tr>\n    <tr>\n      <th>2021-08-29</th>\n      <td>241</td>\n      <td>7</td>\n      <td>8</td>\n      <td>2021</td>\n      <td>2.032</td>\n    </tr>\n    <tr>\n      <th>2021-08-30</th>\n      <td>242</td>\n      <td>1</td>\n      <td>8</td>\n      <td>2021</td>\n      <td>0.320</td>\n    </tr>\n    <tr>\n      <th>2021-08-31</th>\n      <td>243</td>\n      <td>2</td>\n      <td>8</td>\n      <td>2021</td>\n      <td>0.336</td>\n    </tr>\n    <tr>\n      <th>2021-09-01</th>\n      <td>244</td>\n      <td>3</td>\n      <td>9</td>\n      <td>2021</td>\n      <td>0.992</td>\n    </tr>\n  </tbody>\n</table>\n<p>185 rows × 5 columns</p>\n</div>"
     },
     "metadata": {},
     "execution_count": 135
    }
   ],
   "source": [
    "predict = predict.set_index('date')\n",
    "predict\n"
   ]
  },
  {
   "cell_type": "code",
   "execution_count": 137,
   "metadata": {},
   "outputs": [
    {
     "output_type": "execute_result",
     "data": {
      "text/plain": [
       "1.672    5\n",
       "0.016    5\n",
       "0.184    5\n",
       "1.464    4\n",
       "1.400    3\n",
       "        ..\n",
       "1.944    1\n",
       "2.408    1\n",
       "0.904    1\n",
       "1.208    1\n",
       "2.968    1\n",
       "Name: predict_rainfall, Length: 140, dtype: int64"
      ]
     },
     "metadata": {},
     "execution_count": 137
    }
   ],
   "source": [
    "predict['predict_rainfall'].value_counts()\n"
   ]
  },
  {
   "cell_type": "code",
   "execution_count": 138,
   "metadata": {},
   "outputs": [],
   "source": [
    "#predict.to_csv('rainfall_predicting.csv')"
   ]
  },
  {
   "cell_type": "code",
   "execution_count": 2,
   "metadata": {},
   "outputs": [
    {
     "output_type": "stream",
     "name": "stdout",
     "text": [
      "../iteration_1/rainfall_assocation.ipynb\n../iteration_1/rainfall_EDA.ipynb\n../iteration_1/.DS_Store\n../iteration_1/weights.36.hdf5\n../iteration_1/rainfall_prediciton.ipynb\n../iteration_1/PredictedValueswithNANMINMAX\n../iteration_1/MinMax.ipynb\n../iteration_1/rainfall_dataset_loading.ipynb\n../iteration_1/Min Max Temp.csv\n../iteration_1/OnlyPredictionsMINMAX\n../iteration_1/rainfall_predicting.csv\n../iteration_1/Added dates.csv\n../iteration_1/CurrentandPredictedValuesMINMAX\n../iteration_1/solar_exposure_updated.csv\n../iteration_1/solar_exposure.csv\n../iteration_1/rainfall_dataset.csv\n../iteration_1/Solar_exposure_forecasting (1).ipynb\n../iteration_1/final_solar_exposure_dataset.csv\n"
     ]
    }
   ],
   "source": [
    "import pandas as pd \n",
    "from matplotlib import pyplot as plt\n",
    "import os \n",
    "for dirname, _, filename in os.walk('../iteration_1'):\n",
    "    for f in filename:\n",
    "        print(os.path.join(dirname, f))"
   ]
  },
  {
   "cell_type": "code",
   "execution_count": 36,
   "metadata": {},
   "outputs": [],
   "source": [
    "predict = pd.read_csv('../iteration_1/rainfall_predicting.csv')\n",
    "past = pd.read_csv('../iteration_1/rainfall_dataset.csv')"
   ]
  },
  {
   "cell_type": "code",
   "execution_count": 37,
   "metadata": {},
   "outputs": [
    {
     "output_type": "stream",
     "name": "stdout",
     "text": [
      "Int64Index([2251], dtype='int64')\n"
     ]
    },
    {
     "output_type": "execute_result",
     "data": {
      "text/plain": [
       "            date  Rainfall amount (millimetres)  predict_rainfall\n",
       "0     2015-01-01                            0.0               NaN\n",
       "1     2015-01-02                            0.0               NaN\n",
       "2     2015-01-03                            0.0               NaN\n",
       "3     2015-01-04                            4.2               NaN\n",
       "4     2015-01-05                            0.0               NaN\n",
       "...          ...                            ...               ...\n",
       "2431  2021-08-28                            NaN             1.768\n",
       "2432  2021-08-29                            NaN             2.032\n",
       "2433  2021-08-30                            NaN             0.320\n",
       "2434  2021-08-31                            NaN             0.336\n",
       "2435  2021-09-01                            NaN             0.992\n",
       "\n",
       "[2436 rows x 3 columns]"
      ],
      "text/html": "<div>\n<style scoped>\n    .dataframe tbody tr th:only-of-type {\n        vertical-align: middle;\n    }\n\n    .dataframe tbody tr th {\n        vertical-align: top;\n    }\n\n    .dataframe thead th {\n        text-align: right;\n    }\n</style>\n<table border=\"1\" class=\"dataframe\">\n  <thead>\n    <tr style=\"text-align: right;\">\n      <th></th>\n      <th>date</th>\n      <th>Rainfall amount (millimetres)</th>\n      <th>predict_rainfall</th>\n    </tr>\n  </thead>\n  <tbody>\n    <tr>\n      <th>0</th>\n      <td>2015-01-01</td>\n      <td>0.0</td>\n      <td>NaN</td>\n    </tr>\n    <tr>\n      <th>1</th>\n      <td>2015-01-02</td>\n      <td>0.0</td>\n      <td>NaN</td>\n    </tr>\n    <tr>\n      <th>2</th>\n      <td>2015-01-03</td>\n      <td>0.0</td>\n      <td>NaN</td>\n    </tr>\n    <tr>\n      <th>3</th>\n      <td>2015-01-04</td>\n      <td>4.2</td>\n      <td>NaN</td>\n    </tr>\n    <tr>\n      <th>4</th>\n      <td>2015-01-05</td>\n      <td>0.0</td>\n      <td>NaN</td>\n    </tr>\n    <tr>\n      <th>...</th>\n      <td>...</td>\n      <td>...</td>\n      <td>...</td>\n    </tr>\n    <tr>\n      <th>2431</th>\n      <td>2021-08-28</td>\n      <td>NaN</td>\n      <td>1.768</td>\n    </tr>\n    <tr>\n      <th>2432</th>\n      <td>2021-08-29</td>\n      <td>NaN</td>\n      <td>2.032</td>\n    </tr>\n    <tr>\n      <th>2433</th>\n      <td>2021-08-30</td>\n      <td>NaN</td>\n      <td>0.320</td>\n    </tr>\n    <tr>\n      <th>2434</th>\n      <td>2021-08-31</td>\n      <td>NaN</td>\n      <td>0.336</td>\n    </tr>\n    <tr>\n      <th>2435</th>\n      <td>2021-09-01</td>\n      <td>NaN</td>\n      <td>0.992</td>\n    </tr>\n  </tbody>\n</table>\n<p>2436 rows × 3 columns</p>\n</div>"
     },
     "metadata": {},
     "execution_count": 37
    }
   ],
   "source": [
    "df = pd.concat([past.iloc[:,[0,-1]],predict.iloc[:,[0,-1]] ], ignore_index=True)\n",
    "print(df.index[df['date'] == '2021-03-01'])\n",
    "df"
   ]
  },
  {
   "cell_type": "code",
   "execution_count": 40,
   "metadata": {},
   "outputs": [
    {
     "output_type": "display_data",
     "data": {
      "text/plain": "<Figure size 864x576 with 1 Axes>",
      "image/svg+xml": "<?xml version=\"1.0\" encoding=\"utf-8\" standalone=\"no\"?>\n<!DOCTYPE svg PUBLIC \"-//W3C//DTD SVG 1.1//EN\"\n  \"http://www.w3.org/Graphics/SVG/1.1/DTD/svg11.dtd\">\n<!-- Created with matplotlib (https://matplotlib.org/) -->\n<svg height=\"561.589687pt\" version=\"1.1\" viewBox=\"0 0 703.725 561.589687\" width=\"703.725pt\" xmlns=\"http://www.w3.org/2000/svg\" xmlns:xlink=\"http://www.w3.org/1999/xlink\">\n <metadata>\n  <rdf:RDF xmlns:cc=\"http://creativecommons.org/ns#\" xmlns:dc=\"http://purl.org/dc/elements/1.1/\" xmlns:rdf=\"http://www.w3.org/1999/02/22-rdf-syntax-ns#\">\n   <cc:Work>\n    <dc:type rdf:resource=\"http://purl.org/dc/dcmitype/StillImage\"/>\n    <dc:date>2021-04-25T19:20:31.253215</dc:date>\n    <dc:format>image/svg+xml</dc:format>\n    <dc:creator>\n     <cc:Agent>\n      <dc:title>Matplotlib v3.3.4, https://matplotlib.org/</dc:title>\n     </cc:Agent>\n    </dc:creator>\n   </cc:Work>\n  </rdf:RDF>\n </metadata>\n <defs>\n  <style type=\"text/css\">*{stroke-linecap:butt;stroke-linejoin:round;}</style>\n </defs>\n <g id=\"figure_1\">\n  <g id=\"patch_1\">\n   <path d=\"M 0 561.589687 \nL 703.725 561.589687 \nL 703.725 0 \nL 0 0 \nz\n\" style=\"fill:none;\"/>\n  </g>\n  <g id=\"axes_1\">\n   <g id=\"patch_2\">\n    <path d=\"M 26.925 457.198125 \nL 696.525 457.198125 \nL 696.525 22.318125 \nL 26.925 22.318125 \nz\n\" style=\"fill:#ffffff;\"/>\n   </g>\n   <g id=\"matplotlib.axis_1\">\n    <g id=\"xtick_1\">\n     <g id=\"line2d_1\">\n      <defs>\n       <path d=\"M 0 0 \nL 0 3.5 \n\" id=\"mb98030c709\" style=\"stroke:#000000;stroke-width:0.8;\"/>\n      </defs>\n      <g>\n       <use style=\"stroke:#000000;stroke-width:0.8;\" x=\"57.361364\" xlink:href=\"#mb98030c709\" y=\"457.198125\"/>\n      </g>\n     </g>\n     <g id=\"text_1\">\n      <!-- 2015-01-01 -->\n      <g transform=\"translate(60.672614 533.936875)rotate(-90)scale(0.12 -0.12)\">\n       <defs>\n        <path d=\"M 19.1875 8.296875 \nL 53.609375 8.296875 \nL 53.609375 0 \nL 7.328125 0 \nL 7.328125 8.296875 \nQ 12.9375 14.109375 22.625 23.890625 \nQ 32.328125 33.6875 34.8125 36.53125 \nQ 39.546875 41.84375 41.421875 45.53125 \nQ 43.3125 49.21875 43.3125 52.78125 \nQ 43.3125 58.59375 39.234375 62.25 \nQ 35.15625 65.921875 28.609375 65.921875 \nQ 23.96875 65.921875 18.8125 64.3125 \nQ 13.671875 62.703125 7.8125 59.421875 \nL 7.8125 69.390625 \nQ 13.765625 71.78125 18.9375 73 \nQ 24.125 74.21875 28.421875 74.21875 \nQ 39.75 74.21875 46.484375 68.546875 \nQ 53.21875 62.890625 53.21875 53.421875 \nQ 53.21875 48.921875 51.53125 44.890625 \nQ 49.859375 40.875 45.40625 35.40625 \nQ 44.1875 33.984375 37.640625 27.21875 \nQ 31.109375 20.453125 19.1875 8.296875 \nz\n\" id=\"DejaVuSans-50\"/>\n        <path d=\"M 31.78125 66.40625 \nQ 24.171875 66.40625 20.328125 58.90625 \nQ 16.5 51.421875 16.5 36.375 \nQ 16.5 21.390625 20.328125 13.890625 \nQ 24.171875 6.390625 31.78125 6.390625 \nQ 39.453125 6.390625 43.28125 13.890625 \nQ 47.125 21.390625 47.125 36.375 \nQ 47.125 51.421875 43.28125 58.90625 \nQ 39.453125 66.40625 31.78125 66.40625 \nz\nM 31.78125 74.21875 \nQ 44.046875 74.21875 50.515625 64.515625 \nQ 56.984375 54.828125 56.984375 36.375 \nQ 56.984375 17.96875 50.515625 8.265625 \nQ 44.046875 -1.421875 31.78125 -1.421875 \nQ 19.53125 -1.421875 13.0625 8.265625 \nQ 6.59375 17.96875 6.59375 36.375 \nQ 6.59375 54.828125 13.0625 64.515625 \nQ 19.53125 74.21875 31.78125 74.21875 \nz\n\" id=\"DejaVuSans-48\"/>\n        <path d=\"M 12.40625 8.296875 \nL 28.515625 8.296875 \nL 28.515625 63.921875 \nL 10.984375 60.40625 \nL 10.984375 69.390625 \nL 28.421875 72.90625 \nL 38.28125 72.90625 \nL 38.28125 8.296875 \nL 54.390625 8.296875 \nL 54.390625 0 \nL 12.40625 0 \nz\n\" id=\"DejaVuSans-49\"/>\n        <path d=\"M 10.796875 72.90625 \nL 49.515625 72.90625 \nL 49.515625 64.59375 \nL 19.828125 64.59375 \nL 19.828125 46.734375 \nQ 21.96875 47.46875 24.109375 47.828125 \nQ 26.265625 48.1875 28.421875 48.1875 \nQ 40.625 48.1875 47.75 41.5 \nQ 54.890625 34.8125 54.890625 23.390625 \nQ 54.890625 11.625 47.5625 5.09375 \nQ 40.234375 -1.421875 26.90625 -1.421875 \nQ 22.3125 -1.421875 17.546875 -0.640625 \nQ 12.796875 0.140625 7.71875 1.703125 \nL 7.71875 11.625 \nQ 12.109375 9.234375 16.796875 8.0625 \nQ 21.484375 6.890625 26.703125 6.890625 \nQ 35.15625 6.890625 40.078125 11.328125 \nQ 45.015625 15.765625 45.015625 23.390625 \nQ 45.015625 31 40.078125 35.4375 \nQ 35.15625 39.890625 26.703125 39.890625 \nQ 22.75 39.890625 18.8125 39.015625 \nQ 14.890625 38.140625 10.796875 36.28125 \nz\n\" id=\"DejaVuSans-53\"/>\n        <path d=\"M 4.890625 31.390625 \nL 31.203125 31.390625 \nL 31.203125 23.390625 \nL 4.890625 23.390625 \nz\n\" id=\"DejaVuSans-45\"/>\n       </defs>\n       <use xlink:href=\"#DejaVuSans-50\"/>\n       <use x=\"63.623047\" xlink:href=\"#DejaVuSans-48\"/>\n       <use x=\"127.246094\" xlink:href=\"#DejaVuSans-49\"/>\n       <use x=\"190.869141\" xlink:href=\"#DejaVuSans-53\"/>\n       <use x=\"254.492188\" xlink:href=\"#DejaVuSans-45\"/>\n       <use x=\"290.576172\" xlink:href=\"#DejaVuSans-48\"/>\n       <use x=\"354.199219\" xlink:href=\"#DejaVuSans-49\"/>\n       <use x=\"417.822266\" xlink:href=\"#DejaVuSans-45\"/>\n       <use x=\"453.90625\" xlink:href=\"#DejaVuSans-48\"/>\n       <use x=\"517.529297\" xlink:href=\"#DejaVuSans-49\"/>\n      </g>\n     </g>\n    </g>\n    <g id=\"xtick_2\">\n     <g id=\"line2d_2\">\n      <g>\n       <use style=\"stroke:#000000;stroke-width:0.8;\" x=\"82.36043\" xlink:href=\"#mb98030c709\" y=\"457.198125\"/>\n      </g>\n     </g>\n     <g id=\"text_2\">\n      <!-- 2015-04-11 -->\n      <g transform=\"translate(85.67168 533.936875)rotate(-90)scale(0.12 -0.12)\">\n       <defs>\n        <path d=\"M 37.796875 64.3125 \nL 12.890625 25.390625 \nL 37.796875 25.390625 \nz\nM 35.203125 72.90625 \nL 47.609375 72.90625 \nL 47.609375 25.390625 \nL 58.015625 25.390625 \nL 58.015625 17.1875 \nL 47.609375 17.1875 \nL 47.609375 0 \nL 37.796875 0 \nL 37.796875 17.1875 \nL 4.890625 17.1875 \nL 4.890625 26.703125 \nz\n\" id=\"DejaVuSans-52\"/>\n       </defs>\n       <use xlink:href=\"#DejaVuSans-50\"/>\n       <use x=\"63.623047\" xlink:href=\"#DejaVuSans-48\"/>\n       <use x=\"127.246094\" xlink:href=\"#DejaVuSans-49\"/>\n       <use x=\"190.869141\" xlink:href=\"#DejaVuSans-53\"/>\n       <use x=\"254.492188\" xlink:href=\"#DejaVuSans-45\"/>\n       <use x=\"290.576172\" xlink:href=\"#DejaVuSans-48\"/>\n       <use x=\"354.199219\" xlink:href=\"#DejaVuSans-52\"/>\n       <use x=\"417.822266\" xlink:href=\"#DejaVuSans-45\"/>\n       <use x=\"453.90625\" xlink:href=\"#DejaVuSans-49\"/>\n       <use x=\"517.529297\" xlink:href=\"#DejaVuSans-49\"/>\n      </g>\n     </g>\n    </g>\n    <g id=\"xtick_3\">\n     <g id=\"line2d_3\">\n      <g>\n       <use style=\"stroke:#000000;stroke-width:0.8;\" x=\"107.359497\" xlink:href=\"#mb98030c709\" y=\"457.198125\"/>\n      </g>\n     </g>\n     <g id=\"text_3\">\n      <!-- 2015-07-20 -->\n      <g transform=\"translate(110.670747 533.936875)rotate(-90)scale(0.12 -0.12)\">\n       <defs>\n        <path d=\"M 8.203125 72.90625 \nL 55.078125 72.90625 \nL 55.078125 68.703125 \nL 28.609375 0 \nL 18.3125 0 \nL 43.21875 64.59375 \nL 8.203125 64.59375 \nz\n\" id=\"DejaVuSans-55\"/>\n       </defs>\n       <use xlink:href=\"#DejaVuSans-50\"/>\n       <use x=\"63.623047\" xlink:href=\"#DejaVuSans-48\"/>\n       <use x=\"127.246094\" xlink:href=\"#DejaVuSans-49\"/>\n       <use x=\"190.869141\" xlink:href=\"#DejaVuSans-53\"/>\n       <use x=\"254.492188\" xlink:href=\"#DejaVuSans-45\"/>\n       <use x=\"290.576172\" xlink:href=\"#DejaVuSans-48\"/>\n       <use x=\"354.199219\" xlink:href=\"#DejaVuSans-55\"/>\n       <use x=\"417.822266\" xlink:href=\"#DejaVuSans-45\"/>\n       <use x=\"453.90625\" xlink:href=\"#DejaVuSans-50\"/>\n       <use x=\"517.529297\" xlink:href=\"#DejaVuSans-48\"/>\n      </g>\n     </g>\n    </g>\n    <g id=\"xtick_4\">\n     <g id=\"line2d_4\">\n      <g>\n       <use style=\"stroke:#000000;stroke-width:0.8;\" x=\"132.358564\" xlink:href=\"#mb98030c709\" y=\"457.198125\"/>\n      </g>\n     </g>\n     <g id=\"text_4\">\n      <!-- 2015-10-28 -->\n      <g transform=\"translate(135.669814 533.936875)rotate(-90)scale(0.12 -0.12)\">\n       <defs>\n        <path d=\"M 31.78125 34.625 \nQ 24.75 34.625 20.71875 30.859375 \nQ 16.703125 27.09375 16.703125 20.515625 \nQ 16.703125 13.921875 20.71875 10.15625 \nQ 24.75 6.390625 31.78125 6.390625 \nQ 38.8125 6.390625 42.859375 10.171875 \nQ 46.921875 13.96875 46.921875 20.515625 \nQ 46.921875 27.09375 42.890625 30.859375 \nQ 38.875 34.625 31.78125 34.625 \nz\nM 21.921875 38.8125 \nQ 15.578125 40.375 12.03125 44.71875 \nQ 8.5 49.078125 8.5 55.328125 \nQ 8.5 64.0625 14.71875 69.140625 \nQ 20.953125 74.21875 31.78125 74.21875 \nQ 42.671875 74.21875 48.875 69.140625 \nQ 55.078125 64.0625 55.078125 55.328125 \nQ 55.078125 49.078125 51.53125 44.71875 \nQ 48 40.375 41.703125 38.8125 \nQ 48.828125 37.15625 52.796875 32.3125 \nQ 56.78125 27.484375 56.78125 20.515625 \nQ 56.78125 9.90625 50.3125 4.234375 \nQ 43.84375 -1.421875 31.78125 -1.421875 \nQ 19.734375 -1.421875 13.25 4.234375 \nQ 6.78125 9.90625 6.78125 20.515625 \nQ 6.78125 27.484375 10.78125 32.3125 \nQ 14.796875 37.15625 21.921875 38.8125 \nz\nM 18.3125 54.390625 \nQ 18.3125 48.734375 21.84375 45.5625 \nQ 25.390625 42.390625 31.78125 42.390625 \nQ 38.140625 42.390625 41.71875 45.5625 \nQ 45.3125 48.734375 45.3125 54.390625 \nQ 45.3125 60.0625 41.71875 63.234375 \nQ 38.140625 66.40625 31.78125 66.40625 \nQ 25.390625 66.40625 21.84375 63.234375 \nQ 18.3125 60.0625 18.3125 54.390625 \nz\n\" id=\"DejaVuSans-56\"/>\n       </defs>\n       <use xlink:href=\"#DejaVuSans-50\"/>\n       <use x=\"63.623047\" xlink:href=\"#DejaVuSans-48\"/>\n       <use x=\"127.246094\" xlink:href=\"#DejaVuSans-49\"/>\n       <use x=\"190.869141\" xlink:href=\"#DejaVuSans-53\"/>\n       <use x=\"254.492188\" xlink:href=\"#DejaVuSans-45\"/>\n       <use x=\"290.576172\" xlink:href=\"#DejaVuSans-49\"/>\n       <use x=\"354.199219\" xlink:href=\"#DejaVuSans-48\"/>\n       <use x=\"417.822266\" xlink:href=\"#DejaVuSans-45\"/>\n       <use x=\"453.90625\" xlink:href=\"#DejaVuSans-50\"/>\n       <use x=\"517.529297\" xlink:href=\"#DejaVuSans-56\"/>\n      </g>\n     </g>\n    </g>\n    <g id=\"xtick_5\">\n     <g id=\"line2d_5\">\n      <g>\n       <use style=\"stroke:#000000;stroke-width:0.8;\" x=\"157.35763\" xlink:href=\"#mb98030c709\" y=\"457.198125\"/>\n      </g>\n     </g>\n     <g id=\"text_5\">\n      <!-- 2016-02-05 -->\n      <g transform=\"translate(160.66888 533.936875)rotate(-90)scale(0.12 -0.12)\">\n       <defs>\n        <path d=\"M 33.015625 40.375 \nQ 26.375 40.375 22.484375 35.828125 \nQ 18.609375 31.296875 18.609375 23.390625 \nQ 18.609375 15.53125 22.484375 10.953125 \nQ 26.375 6.390625 33.015625 6.390625 \nQ 39.65625 6.390625 43.53125 10.953125 \nQ 47.40625 15.53125 47.40625 23.390625 \nQ 47.40625 31.296875 43.53125 35.828125 \nQ 39.65625 40.375 33.015625 40.375 \nz\nM 52.59375 71.296875 \nL 52.59375 62.3125 \nQ 48.875 64.0625 45.09375 64.984375 \nQ 41.3125 65.921875 37.59375 65.921875 \nQ 27.828125 65.921875 22.671875 59.328125 \nQ 17.53125 52.734375 16.796875 39.40625 \nQ 19.671875 43.65625 24.015625 45.921875 \nQ 28.375 48.1875 33.59375 48.1875 \nQ 44.578125 48.1875 50.953125 41.515625 \nQ 57.328125 34.859375 57.328125 23.390625 \nQ 57.328125 12.15625 50.6875 5.359375 \nQ 44.046875 -1.421875 33.015625 -1.421875 \nQ 20.359375 -1.421875 13.671875 8.265625 \nQ 6.984375 17.96875 6.984375 36.375 \nQ 6.984375 53.65625 15.1875 63.9375 \nQ 23.390625 74.21875 37.203125 74.21875 \nQ 40.921875 74.21875 44.703125 73.484375 \nQ 48.484375 72.75 52.59375 71.296875 \nz\n\" id=\"DejaVuSans-54\"/>\n       </defs>\n       <use xlink:href=\"#DejaVuSans-50\"/>\n       <use x=\"63.623047\" xlink:href=\"#DejaVuSans-48\"/>\n       <use x=\"127.246094\" xlink:href=\"#DejaVuSans-49\"/>\n       <use x=\"190.869141\" xlink:href=\"#DejaVuSans-54\"/>\n       <use x=\"254.492188\" xlink:href=\"#DejaVuSans-45\"/>\n       <use x=\"290.576172\" xlink:href=\"#DejaVuSans-48\"/>\n       <use x=\"354.199219\" xlink:href=\"#DejaVuSans-50\"/>\n       <use x=\"417.822266\" xlink:href=\"#DejaVuSans-45\"/>\n       <use x=\"453.90625\" xlink:href=\"#DejaVuSans-48\"/>\n       <use x=\"517.529297\" xlink:href=\"#DejaVuSans-53\"/>\n      </g>\n     </g>\n    </g>\n    <g id=\"xtick_6\">\n     <g id=\"line2d_6\">\n      <g>\n       <use style=\"stroke:#000000;stroke-width:0.8;\" x=\"182.356697\" xlink:href=\"#mb98030c709\" y=\"457.198125\"/>\n      </g>\n     </g>\n     <g id=\"text_6\">\n      <!-- 2016-05-15 -->\n      <g transform=\"translate(185.667947 533.936875)rotate(-90)scale(0.12 -0.12)\">\n       <use xlink:href=\"#DejaVuSans-50\"/>\n       <use x=\"63.623047\" xlink:href=\"#DejaVuSans-48\"/>\n       <use x=\"127.246094\" xlink:href=\"#DejaVuSans-49\"/>\n       <use x=\"190.869141\" xlink:href=\"#DejaVuSans-54\"/>\n       <use x=\"254.492188\" xlink:href=\"#DejaVuSans-45\"/>\n       <use x=\"290.576172\" xlink:href=\"#DejaVuSans-48\"/>\n       <use x=\"354.199219\" xlink:href=\"#DejaVuSans-53\"/>\n       <use x=\"417.822266\" xlink:href=\"#DejaVuSans-45\"/>\n       <use x=\"453.90625\" xlink:href=\"#DejaVuSans-49\"/>\n       <use x=\"517.529297\" xlink:href=\"#DejaVuSans-53\"/>\n      </g>\n     </g>\n    </g>\n    <g id=\"xtick_7\">\n     <g id=\"line2d_7\">\n      <g>\n       <use style=\"stroke:#000000;stroke-width:0.8;\" x=\"207.355763\" xlink:href=\"#mb98030c709\" y=\"457.198125\"/>\n      </g>\n     </g>\n     <g id=\"text_7\">\n      <!-- 2016-08-23 -->\n      <g transform=\"translate(210.667013 533.936875)rotate(-90)scale(0.12 -0.12)\">\n       <defs>\n        <path d=\"M 40.578125 39.3125 \nQ 47.65625 37.796875 51.625 33 \nQ 55.609375 28.21875 55.609375 21.1875 \nQ 55.609375 10.40625 48.1875 4.484375 \nQ 40.765625 -1.421875 27.09375 -1.421875 \nQ 22.515625 -1.421875 17.65625 -0.515625 \nQ 12.796875 0.390625 7.625 2.203125 \nL 7.625 11.71875 \nQ 11.71875 9.328125 16.59375 8.109375 \nQ 21.484375 6.890625 26.8125 6.890625 \nQ 36.078125 6.890625 40.9375 10.546875 \nQ 45.796875 14.203125 45.796875 21.1875 \nQ 45.796875 27.640625 41.28125 31.265625 \nQ 36.765625 34.90625 28.71875 34.90625 \nL 20.21875 34.90625 \nL 20.21875 43.015625 \nL 29.109375 43.015625 \nQ 36.375 43.015625 40.234375 45.921875 \nQ 44.09375 48.828125 44.09375 54.296875 \nQ 44.09375 59.90625 40.109375 62.90625 \nQ 36.140625 65.921875 28.71875 65.921875 \nQ 24.65625 65.921875 20.015625 65.03125 \nQ 15.375 64.15625 9.8125 62.3125 \nL 9.8125 71.09375 \nQ 15.4375 72.65625 20.34375 73.4375 \nQ 25.25 74.21875 29.59375 74.21875 \nQ 40.828125 74.21875 47.359375 69.109375 \nQ 53.90625 64.015625 53.90625 55.328125 \nQ 53.90625 49.265625 50.4375 45.09375 \nQ 46.96875 40.921875 40.578125 39.3125 \nz\n\" id=\"DejaVuSans-51\"/>\n       </defs>\n       <use xlink:href=\"#DejaVuSans-50\"/>\n       <use x=\"63.623047\" xlink:href=\"#DejaVuSans-48\"/>\n       <use x=\"127.246094\" xlink:href=\"#DejaVuSans-49\"/>\n       <use x=\"190.869141\" xlink:href=\"#DejaVuSans-54\"/>\n       <use x=\"254.492188\" xlink:href=\"#DejaVuSans-45\"/>\n       <use x=\"290.576172\" xlink:href=\"#DejaVuSans-48\"/>\n       <use x=\"354.199219\" xlink:href=\"#DejaVuSans-56\"/>\n       <use x=\"417.822266\" xlink:href=\"#DejaVuSans-45\"/>\n       <use x=\"453.90625\" xlink:href=\"#DejaVuSans-50\"/>\n       <use x=\"517.529297\" xlink:href=\"#DejaVuSans-51\"/>\n      </g>\n     </g>\n    </g>\n    <g id=\"xtick_8\">\n     <g id=\"line2d_8\">\n      <g>\n       <use style=\"stroke:#000000;stroke-width:0.8;\" x=\"232.35483\" xlink:href=\"#mb98030c709\" y=\"457.198125\"/>\n      </g>\n     </g>\n     <g id=\"text_8\">\n      <!-- 2016-12-01 -->\n      <g transform=\"translate(235.66608 533.936875)rotate(-90)scale(0.12 -0.12)\">\n       <use xlink:href=\"#DejaVuSans-50\"/>\n       <use x=\"63.623047\" xlink:href=\"#DejaVuSans-48\"/>\n       <use x=\"127.246094\" xlink:href=\"#DejaVuSans-49\"/>\n       <use x=\"190.869141\" xlink:href=\"#DejaVuSans-54\"/>\n       <use x=\"254.492188\" xlink:href=\"#DejaVuSans-45\"/>\n       <use x=\"290.576172\" xlink:href=\"#DejaVuSans-49\"/>\n       <use x=\"354.199219\" xlink:href=\"#DejaVuSans-50\"/>\n       <use x=\"417.822266\" xlink:href=\"#DejaVuSans-45\"/>\n       <use x=\"453.90625\" xlink:href=\"#DejaVuSans-48\"/>\n       <use x=\"517.529297\" xlink:href=\"#DejaVuSans-49\"/>\n      </g>\n     </g>\n    </g>\n    <g id=\"xtick_9\">\n     <g id=\"line2d_9\">\n      <g>\n       <use style=\"stroke:#000000;stroke-width:0.8;\" x=\"257.353897\" xlink:href=\"#mb98030c709\" y=\"457.198125\"/>\n      </g>\n     </g>\n     <g id=\"text_9\">\n      <!-- 2017-03-11 -->\n      <g transform=\"translate(260.665147 533.936875)rotate(-90)scale(0.12 -0.12)\">\n       <use xlink:href=\"#DejaVuSans-50\"/>\n       <use x=\"63.623047\" xlink:href=\"#DejaVuSans-48\"/>\n       <use x=\"127.246094\" xlink:href=\"#DejaVuSans-49\"/>\n       <use x=\"190.869141\" xlink:href=\"#DejaVuSans-55\"/>\n       <use x=\"254.492188\" xlink:href=\"#DejaVuSans-45\"/>\n       <use x=\"290.576172\" xlink:href=\"#DejaVuSans-48\"/>\n       <use x=\"354.199219\" xlink:href=\"#DejaVuSans-51\"/>\n       <use x=\"417.822266\" xlink:href=\"#DejaVuSans-45\"/>\n       <use x=\"453.90625\" xlink:href=\"#DejaVuSans-49\"/>\n       <use x=\"517.529297\" xlink:href=\"#DejaVuSans-49\"/>\n      </g>\n     </g>\n    </g>\n    <g id=\"xtick_10\">\n     <g id=\"line2d_10\">\n      <g>\n       <use style=\"stroke:#000000;stroke-width:0.8;\" x=\"282.352963\" xlink:href=\"#mb98030c709\" y=\"457.198125\"/>\n      </g>\n     </g>\n     <g id=\"text_10\">\n      <!-- 2017-06-19 -->\n      <g transform=\"translate(285.664213 533.936875)rotate(-90)scale(0.12 -0.12)\">\n       <defs>\n        <path d=\"M 10.984375 1.515625 \nL 10.984375 10.5 \nQ 14.703125 8.734375 18.5 7.8125 \nQ 22.3125 6.890625 25.984375 6.890625 \nQ 35.75 6.890625 40.890625 13.453125 \nQ 46.046875 20.015625 46.78125 33.40625 \nQ 43.953125 29.203125 39.59375 26.953125 \nQ 35.25 24.703125 29.984375 24.703125 \nQ 19.046875 24.703125 12.671875 31.3125 \nQ 6.296875 37.9375 6.296875 49.421875 \nQ 6.296875 60.640625 12.9375 67.421875 \nQ 19.578125 74.21875 30.609375 74.21875 \nQ 43.265625 74.21875 49.921875 64.515625 \nQ 56.59375 54.828125 56.59375 36.375 \nQ 56.59375 19.140625 48.40625 8.859375 \nQ 40.234375 -1.421875 26.421875 -1.421875 \nQ 22.703125 -1.421875 18.890625 -0.6875 \nQ 15.09375 0.046875 10.984375 1.515625 \nz\nM 30.609375 32.421875 \nQ 37.25 32.421875 41.125 36.953125 \nQ 45.015625 41.5 45.015625 49.421875 \nQ 45.015625 57.28125 41.125 61.84375 \nQ 37.25 66.40625 30.609375 66.40625 \nQ 23.96875 66.40625 20.09375 61.84375 \nQ 16.21875 57.28125 16.21875 49.421875 \nQ 16.21875 41.5 20.09375 36.953125 \nQ 23.96875 32.421875 30.609375 32.421875 \nz\n\" id=\"DejaVuSans-57\"/>\n       </defs>\n       <use xlink:href=\"#DejaVuSans-50\"/>\n       <use x=\"63.623047\" xlink:href=\"#DejaVuSans-48\"/>\n       <use x=\"127.246094\" xlink:href=\"#DejaVuSans-49\"/>\n       <use x=\"190.869141\" xlink:href=\"#DejaVuSans-55\"/>\n       <use x=\"254.492188\" xlink:href=\"#DejaVuSans-45\"/>\n       <use x=\"290.576172\" xlink:href=\"#DejaVuSans-48\"/>\n       <use x=\"354.199219\" xlink:href=\"#DejaVuSans-54\"/>\n       <use x=\"417.822266\" xlink:href=\"#DejaVuSans-45\"/>\n       <use x=\"453.90625\" xlink:href=\"#DejaVuSans-49\"/>\n       <use x=\"517.529297\" xlink:href=\"#DejaVuSans-57\"/>\n      </g>\n     </g>\n    </g>\n    <g id=\"xtick_11\">\n     <g id=\"line2d_11\">\n      <g>\n       <use style=\"stroke:#000000;stroke-width:0.8;\" x=\"307.35203\" xlink:href=\"#mb98030c709\" y=\"457.198125\"/>\n      </g>\n     </g>\n     <g id=\"text_11\">\n      <!-- 2017-09-27 -->\n      <g transform=\"translate(310.66328 533.936875)rotate(-90)scale(0.12 -0.12)\">\n       <use xlink:href=\"#DejaVuSans-50\"/>\n       <use x=\"63.623047\" xlink:href=\"#DejaVuSans-48\"/>\n       <use x=\"127.246094\" xlink:href=\"#DejaVuSans-49\"/>\n       <use x=\"190.869141\" xlink:href=\"#DejaVuSans-55\"/>\n       <use x=\"254.492188\" xlink:href=\"#DejaVuSans-45\"/>\n       <use x=\"290.576172\" xlink:href=\"#DejaVuSans-48\"/>\n       <use x=\"354.199219\" xlink:href=\"#DejaVuSans-57\"/>\n       <use x=\"417.822266\" xlink:href=\"#DejaVuSans-45\"/>\n       <use x=\"453.90625\" xlink:href=\"#DejaVuSans-50\"/>\n       <use x=\"517.529297\" xlink:href=\"#DejaVuSans-55\"/>\n      </g>\n     </g>\n    </g>\n    <g id=\"xtick_12\">\n     <g id=\"line2d_12\">\n      <g>\n       <use style=\"stroke:#000000;stroke-width:0.8;\" x=\"332.351097\" xlink:href=\"#mb98030c709\" y=\"457.198125\"/>\n      </g>\n     </g>\n     <g id=\"text_12\">\n      <!-- 2018-01-05 -->\n      <g transform=\"translate(335.662347 533.936875)rotate(-90)scale(0.12 -0.12)\">\n       <use xlink:href=\"#DejaVuSans-50\"/>\n       <use x=\"63.623047\" xlink:href=\"#DejaVuSans-48\"/>\n       <use x=\"127.246094\" xlink:href=\"#DejaVuSans-49\"/>\n       <use x=\"190.869141\" xlink:href=\"#DejaVuSans-56\"/>\n       <use x=\"254.492188\" xlink:href=\"#DejaVuSans-45\"/>\n       <use x=\"290.576172\" xlink:href=\"#DejaVuSans-48\"/>\n       <use x=\"354.199219\" xlink:href=\"#DejaVuSans-49\"/>\n       <use x=\"417.822266\" xlink:href=\"#DejaVuSans-45\"/>\n       <use x=\"453.90625\" xlink:href=\"#DejaVuSans-48\"/>\n       <use x=\"517.529297\" xlink:href=\"#DejaVuSans-53\"/>\n      </g>\n     </g>\n    </g>\n    <g id=\"xtick_13\">\n     <g id=\"line2d_13\">\n      <g>\n       <use style=\"stroke:#000000;stroke-width:0.8;\" x=\"357.350163\" xlink:href=\"#mb98030c709\" y=\"457.198125\"/>\n      </g>\n     </g>\n     <g id=\"text_13\">\n      <!-- 2018-04-15 -->\n      <g transform=\"translate(360.661413 533.936875)rotate(-90)scale(0.12 -0.12)\">\n       <use xlink:href=\"#DejaVuSans-50\"/>\n       <use x=\"63.623047\" xlink:href=\"#DejaVuSans-48\"/>\n       <use x=\"127.246094\" xlink:href=\"#DejaVuSans-49\"/>\n       <use x=\"190.869141\" xlink:href=\"#DejaVuSans-56\"/>\n       <use x=\"254.492188\" xlink:href=\"#DejaVuSans-45\"/>\n       <use x=\"290.576172\" xlink:href=\"#DejaVuSans-48\"/>\n       <use x=\"354.199219\" xlink:href=\"#DejaVuSans-52\"/>\n       <use x=\"417.822266\" xlink:href=\"#DejaVuSans-45\"/>\n       <use x=\"453.90625\" xlink:href=\"#DejaVuSans-49\"/>\n       <use x=\"517.529297\" xlink:href=\"#DejaVuSans-53\"/>\n      </g>\n     </g>\n    </g>\n    <g id=\"xtick_14\">\n     <g id=\"line2d_14\">\n      <g>\n       <use style=\"stroke:#000000;stroke-width:0.8;\" x=\"382.34923\" xlink:href=\"#mb98030c709\" y=\"457.198125\"/>\n      </g>\n     </g>\n     <g id=\"text_14\">\n      <!-- 2018-07-24 -->\n      <g transform=\"translate(385.66048 533.936875)rotate(-90)scale(0.12 -0.12)\">\n       <use xlink:href=\"#DejaVuSans-50\"/>\n       <use x=\"63.623047\" xlink:href=\"#DejaVuSans-48\"/>\n       <use x=\"127.246094\" xlink:href=\"#DejaVuSans-49\"/>\n       <use x=\"190.869141\" xlink:href=\"#DejaVuSans-56\"/>\n       <use x=\"254.492188\" xlink:href=\"#DejaVuSans-45\"/>\n       <use x=\"290.576172\" xlink:href=\"#DejaVuSans-48\"/>\n       <use x=\"354.199219\" xlink:href=\"#DejaVuSans-55\"/>\n       <use x=\"417.822266\" xlink:href=\"#DejaVuSans-45\"/>\n       <use x=\"453.90625\" xlink:href=\"#DejaVuSans-50\"/>\n       <use x=\"517.529297\" xlink:href=\"#DejaVuSans-52\"/>\n      </g>\n     </g>\n    </g>\n    <g id=\"xtick_15\">\n     <g id=\"line2d_15\">\n      <g>\n       <use style=\"stroke:#000000;stroke-width:0.8;\" x=\"407.348297\" xlink:href=\"#mb98030c709\" y=\"457.198125\"/>\n      </g>\n     </g>\n     <g id=\"text_15\">\n      <!-- 2018-11-01 -->\n      <g transform=\"translate(410.659547 533.936875)rotate(-90)scale(0.12 -0.12)\">\n       <use xlink:href=\"#DejaVuSans-50\"/>\n       <use x=\"63.623047\" xlink:href=\"#DejaVuSans-48\"/>\n       <use x=\"127.246094\" xlink:href=\"#DejaVuSans-49\"/>\n       <use x=\"190.869141\" xlink:href=\"#DejaVuSans-56\"/>\n       <use x=\"254.492188\" xlink:href=\"#DejaVuSans-45\"/>\n       <use x=\"290.576172\" xlink:href=\"#DejaVuSans-49\"/>\n       <use x=\"354.199219\" xlink:href=\"#DejaVuSans-49\"/>\n       <use x=\"417.822266\" xlink:href=\"#DejaVuSans-45\"/>\n       <use x=\"453.90625\" xlink:href=\"#DejaVuSans-48\"/>\n       <use x=\"517.529297\" xlink:href=\"#DejaVuSans-49\"/>\n      </g>\n     </g>\n    </g>\n    <g id=\"xtick_16\">\n     <g id=\"line2d_16\">\n      <g>\n       <use style=\"stroke:#000000;stroke-width:0.8;\" x=\"432.347363\" xlink:href=\"#mb98030c709\" y=\"457.198125\"/>\n      </g>\n     </g>\n     <g id=\"text_16\">\n      <!-- 2019-02-09 -->\n      <g transform=\"translate(435.658613 533.936875)rotate(-90)scale(0.12 -0.12)\">\n       <use xlink:href=\"#DejaVuSans-50\"/>\n       <use x=\"63.623047\" xlink:href=\"#DejaVuSans-48\"/>\n       <use x=\"127.246094\" xlink:href=\"#DejaVuSans-49\"/>\n       <use x=\"190.869141\" xlink:href=\"#DejaVuSans-57\"/>\n       <use x=\"254.492188\" xlink:href=\"#DejaVuSans-45\"/>\n       <use x=\"290.576172\" xlink:href=\"#DejaVuSans-48\"/>\n       <use x=\"354.199219\" xlink:href=\"#DejaVuSans-50\"/>\n       <use x=\"417.822266\" xlink:href=\"#DejaVuSans-45\"/>\n       <use x=\"453.90625\" xlink:href=\"#DejaVuSans-48\"/>\n       <use x=\"517.529297\" xlink:href=\"#DejaVuSans-57\"/>\n      </g>\n     </g>\n    </g>\n    <g id=\"xtick_17\">\n     <g id=\"line2d_17\">\n      <g>\n       <use style=\"stroke:#000000;stroke-width:0.8;\" x=\"457.34643\" xlink:href=\"#mb98030c709\" y=\"457.198125\"/>\n      </g>\n     </g>\n     <g id=\"text_17\">\n      <!-- 2019-05-20 -->\n      <g transform=\"translate(460.65768 533.936875)rotate(-90)scale(0.12 -0.12)\">\n       <use xlink:href=\"#DejaVuSans-50\"/>\n       <use x=\"63.623047\" xlink:href=\"#DejaVuSans-48\"/>\n       <use x=\"127.246094\" xlink:href=\"#DejaVuSans-49\"/>\n       <use x=\"190.869141\" xlink:href=\"#DejaVuSans-57\"/>\n       <use x=\"254.492188\" xlink:href=\"#DejaVuSans-45\"/>\n       <use x=\"290.576172\" xlink:href=\"#DejaVuSans-48\"/>\n       <use x=\"354.199219\" xlink:href=\"#DejaVuSans-53\"/>\n       <use x=\"417.822266\" xlink:href=\"#DejaVuSans-45\"/>\n       <use x=\"453.90625\" xlink:href=\"#DejaVuSans-50\"/>\n       <use x=\"517.529297\" xlink:href=\"#DejaVuSans-48\"/>\n      </g>\n     </g>\n    </g>\n    <g id=\"xtick_18\">\n     <g id=\"line2d_18\">\n      <g>\n       <use style=\"stroke:#000000;stroke-width:0.8;\" x=\"482.345497\" xlink:href=\"#mb98030c709\" y=\"457.198125\"/>\n      </g>\n     </g>\n     <g id=\"text_18\">\n      <!-- 2019-08-28 -->\n      <g transform=\"translate(485.656747 533.936875)rotate(-90)scale(0.12 -0.12)\">\n       <use xlink:href=\"#DejaVuSans-50\"/>\n       <use x=\"63.623047\" xlink:href=\"#DejaVuSans-48\"/>\n       <use x=\"127.246094\" xlink:href=\"#DejaVuSans-49\"/>\n       <use x=\"190.869141\" xlink:href=\"#DejaVuSans-57\"/>\n       <use x=\"254.492188\" xlink:href=\"#DejaVuSans-45\"/>\n       <use x=\"290.576172\" xlink:href=\"#DejaVuSans-48\"/>\n       <use x=\"354.199219\" xlink:href=\"#DejaVuSans-56\"/>\n       <use x=\"417.822266\" xlink:href=\"#DejaVuSans-45\"/>\n       <use x=\"453.90625\" xlink:href=\"#DejaVuSans-50\"/>\n       <use x=\"517.529297\" xlink:href=\"#DejaVuSans-56\"/>\n      </g>\n     </g>\n    </g>\n    <g id=\"xtick_19\">\n     <g id=\"line2d_19\">\n      <g>\n       <use style=\"stroke:#000000;stroke-width:0.8;\" x=\"507.344563\" xlink:href=\"#mb98030c709\" y=\"457.198125\"/>\n      </g>\n     </g>\n     <g id=\"text_19\">\n      <!-- 2019-12-06 -->\n      <g transform=\"translate(510.655813 533.936875)rotate(-90)scale(0.12 -0.12)\">\n       <use xlink:href=\"#DejaVuSans-50\"/>\n       <use x=\"63.623047\" xlink:href=\"#DejaVuSans-48\"/>\n       <use x=\"127.246094\" xlink:href=\"#DejaVuSans-49\"/>\n       <use x=\"190.869141\" xlink:href=\"#DejaVuSans-57\"/>\n       <use x=\"254.492188\" xlink:href=\"#DejaVuSans-45\"/>\n       <use x=\"290.576172\" xlink:href=\"#DejaVuSans-49\"/>\n       <use x=\"354.199219\" xlink:href=\"#DejaVuSans-50\"/>\n       <use x=\"417.822266\" xlink:href=\"#DejaVuSans-45\"/>\n       <use x=\"453.90625\" xlink:href=\"#DejaVuSans-48\"/>\n       <use x=\"517.529297\" xlink:href=\"#DejaVuSans-54\"/>\n      </g>\n     </g>\n    </g>\n    <g id=\"xtick_20\">\n     <g id=\"line2d_20\">\n      <g>\n       <use style=\"stroke:#000000;stroke-width:0.8;\" x=\"532.34363\" xlink:href=\"#mb98030c709\" y=\"457.198125\"/>\n      </g>\n     </g>\n     <g id=\"text_20\">\n      <!-- 2020-03-15 -->\n      <g transform=\"translate(535.65488 533.936875)rotate(-90)scale(0.12 -0.12)\">\n       <use xlink:href=\"#DejaVuSans-50\"/>\n       <use x=\"63.623047\" xlink:href=\"#DejaVuSans-48\"/>\n       <use x=\"127.246094\" xlink:href=\"#DejaVuSans-50\"/>\n       <use x=\"190.869141\" xlink:href=\"#DejaVuSans-48\"/>\n       <use x=\"254.492188\" xlink:href=\"#DejaVuSans-45\"/>\n       <use x=\"290.576172\" xlink:href=\"#DejaVuSans-48\"/>\n       <use x=\"354.199219\" xlink:href=\"#DejaVuSans-51\"/>\n       <use x=\"417.822266\" xlink:href=\"#DejaVuSans-45\"/>\n       <use x=\"453.90625\" xlink:href=\"#DejaVuSans-49\"/>\n       <use x=\"517.529297\" xlink:href=\"#DejaVuSans-53\"/>\n      </g>\n     </g>\n    </g>\n    <g id=\"xtick_21\">\n     <g id=\"line2d_21\">\n      <g>\n       <use style=\"stroke:#000000;stroke-width:0.8;\" x=\"557.342696\" xlink:href=\"#mb98030c709\" y=\"457.198125\"/>\n      </g>\n     </g>\n     <g id=\"text_21\">\n      <!-- 2020-06-23 -->\n      <g transform=\"translate(560.653946 533.936875)rotate(-90)scale(0.12 -0.12)\">\n       <use xlink:href=\"#DejaVuSans-50\"/>\n       <use x=\"63.623047\" xlink:href=\"#DejaVuSans-48\"/>\n       <use x=\"127.246094\" xlink:href=\"#DejaVuSans-50\"/>\n       <use x=\"190.869141\" xlink:href=\"#DejaVuSans-48\"/>\n       <use x=\"254.492188\" xlink:href=\"#DejaVuSans-45\"/>\n       <use x=\"290.576172\" xlink:href=\"#DejaVuSans-48\"/>\n       <use x=\"354.199219\" xlink:href=\"#DejaVuSans-54\"/>\n       <use x=\"417.822266\" xlink:href=\"#DejaVuSans-45\"/>\n       <use x=\"453.90625\" xlink:href=\"#DejaVuSans-50\"/>\n       <use x=\"517.529297\" xlink:href=\"#DejaVuSans-51\"/>\n      </g>\n     </g>\n    </g>\n    <g id=\"xtick_22\">\n     <g id=\"line2d_22\">\n      <g>\n       <use style=\"stroke:#000000;stroke-width:0.8;\" x=\"582.341763\" xlink:href=\"#mb98030c709\" y=\"457.198125\"/>\n      </g>\n     </g>\n     <g id=\"text_22\">\n      <!-- 2020-10-01 -->\n      <g transform=\"translate(585.653013 533.936875)rotate(-90)scale(0.12 -0.12)\">\n       <use xlink:href=\"#DejaVuSans-50\"/>\n       <use x=\"63.623047\" xlink:href=\"#DejaVuSans-48\"/>\n       <use x=\"127.246094\" xlink:href=\"#DejaVuSans-50\"/>\n       <use x=\"190.869141\" xlink:href=\"#DejaVuSans-48\"/>\n       <use x=\"254.492188\" xlink:href=\"#DejaVuSans-45\"/>\n       <use x=\"290.576172\" xlink:href=\"#DejaVuSans-49\"/>\n       <use x=\"354.199219\" xlink:href=\"#DejaVuSans-48\"/>\n       <use x=\"417.822266\" xlink:href=\"#DejaVuSans-45\"/>\n       <use x=\"453.90625\" xlink:href=\"#DejaVuSans-48\"/>\n       <use x=\"517.529297\" xlink:href=\"#DejaVuSans-49\"/>\n      </g>\n     </g>\n    </g>\n    <g id=\"xtick_23\">\n     <g id=\"line2d_23\">\n      <g>\n       <use style=\"stroke:#000000;stroke-width:0.8;\" x=\"607.34083\" xlink:href=\"#mb98030c709\" y=\"457.198125\"/>\n      </g>\n     </g>\n     <g id=\"text_23\">\n      <!-- 2021-01-09 -->\n      <g transform=\"translate(610.65208 533.936875)rotate(-90)scale(0.12 -0.12)\">\n       <use xlink:href=\"#DejaVuSans-50\"/>\n       <use x=\"63.623047\" xlink:href=\"#DejaVuSans-48\"/>\n       <use x=\"127.246094\" xlink:href=\"#DejaVuSans-50\"/>\n       <use x=\"190.869141\" xlink:href=\"#DejaVuSans-49\"/>\n       <use x=\"254.492188\" xlink:href=\"#DejaVuSans-45\"/>\n       <use x=\"290.576172\" xlink:href=\"#DejaVuSans-48\"/>\n       <use x=\"354.199219\" xlink:href=\"#DejaVuSans-49\"/>\n       <use x=\"417.822266\" xlink:href=\"#DejaVuSans-45\"/>\n       <use x=\"453.90625\" xlink:href=\"#DejaVuSans-48\"/>\n       <use x=\"517.529297\" xlink:href=\"#DejaVuSans-57\"/>\n      </g>\n     </g>\n    </g>\n    <g id=\"xtick_24\">\n     <g id=\"line2d_24\">\n      <g>\n       <use style=\"stroke:#000000;stroke-width:0.8;\" x=\"632.339896\" xlink:href=\"#mb98030c709\" y=\"457.198125\"/>\n      </g>\n     </g>\n     <g id=\"text_24\">\n      <!-- 2021-04-19 -->\n      <g transform=\"translate(635.651146 533.936875)rotate(-90)scale(0.12 -0.12)\">\n       <use xlink:href=\"#DejaVuSans-50\"/>\n       <use x=\"63.623047\" xlink:href=\"#DejaVuSans-48\"/>\n       <use x=\"127.246094\" xlink:href=\"#DejaVuSans-50\"/>\n       <use x=\"190.869141\" xlink:href=\"#DejaVuSans-49\"/>\n       <use x=\"254.492188\" xlink:href=\"#DejaVuSans-45\"/>\n       <use x=\"290.576172\" xlink:href=\"#DejaVuSans-48\"/>\n       <use x=\"354.199219\" xlink:href=\"#DejaVuSans-52\"/>\n       <use x=\"417.822266\" xlink:href=\"#DejaVuSans-45\"/>\n       <use x=\"453.90625\" xlink:href=\"#DejaVuSans-49\"/>\n       <use x=\"517.529297\" xlink:href=\"#DejaVuSans-57\"/>\n      </g>\n     </g>\n    </g>\n    <g id=\"xtick_25\">\n     <g id=\"line2d_25\">\n      <g>\n       <use style=\"stroke:#000000;stroke-width:0.8;\" x=\"657.338963\" xlink:href=\"#mb98030c709\" y=\"457.198125\"/>\n      </g>\n     </g>\n     <g id=\"text_25\">\n      <!-- 2021-07-28 -->\n      <g transform=\"translate(660.650213 533.936875)rotate(-90)scale(0.12 -0.12)\">\n       <use xlink:href=\"#DejaVuSans-50\"/>\n       <use x=\"63.623047\" xlink:href=\"#DejaVuSans-48\"/>\n       <use x=\"127.246094\" xlink:href=\"#DejaVuSans-50\"/>\n       <use x=\"190.869141\" xlink:href=\"#DejaVuSans-49\"/>\n       <use x=\"254.492188\" xlink:href=\"#DejaVuSans-45\"/>\n       <use x=\"290.576172\" xlink:href=\"#DejaVuSans-48\"/>\n       <use x=\"354.199219\" xlink:href=\"#DejaVuSans-55\"/>\n       <use x=\"417.822266\" xlink:href=\"#DejaVuSans-45\"/>\n       <use x=\"453.90625\" xlink:href=\"#DejaVuSans-50\"/>\n       <use x=\"517.529297\" xlink:href=\"#DejaVuSans-56\"/>\n      </g>\n     </g>\n    </g>\n    <g id=\"text_26\">\n     <!-- Date -->\n     <g transform=\"translate(341.408672 550.854219)scale(0.17 -0.17)\">\n      <defs>\n       <path d=\"M 19.671875 64.796875 \nL 19.671875 8.109375 \nL 31.59375 8.109375 \nQ 46.6875 8.109375 53.6875 14.9375 \nQ 60.6875 21.78125 60.6875 36.53125 \nQ 60.6875 51.171875 53.6875 57.984375 \nQ 46.6875 64.796875 31.59375 64.796875 \nz\nM 9.8125 72.90625 \nL 30.078125 72.90625 \nQ 51.265625 72.90625 61.171875 64.09375 \nQ 71.09375 55.28125 71.09375 36.53125 \nQ 71.09375 17.671875 61.125 8.828125 \nQ 51.171875 0 30.078125 0 \nL 9.8125 0 \nz\n\" id=\"DejaVuSans-68\"/>\n       <path d=\"M 34.28125 27.484375 \nQ 23.390625 27.484375 19.1875 25 \nQ 14.984375 22.515625 14.984375 16.5 \nQ 14.984375 11.71875 18.140625 8.90625 \nQ 21.296875 6.109375 26.703125 6.109375 \nQ 34.1875 6.109375 38.703125 11.40625 \nQ 43.21875 16.703125 43.21875 25.484375 \nL 43.21875 27.484375 \nz\nM 52.203125 31.203125 \nL 52.203125 0 \nL 43.21875 0 \nL 43.21875 8.296875 \nQ 40.140625 3.328125 35.546875 0.953125 \nQ 30.953125 -1.421875 24.3125 -1.421875 \nQ 15.921875 -1.421875 10.953125 3.296875 \nQ 6 8.015625 6 15.921875 \nQ 6 25.140625 12.171875 29.828125 \nQ 18.359375 34.515625 30.609375 34.515625 \nL 43.21875 34.515625 \nL 43.21875 35.40625 \nQ 43.21875 41.609375 39.140625 45 \nQ 35.0625 48.390625 27.6875 48.390625 \nQ 23 48.390625 18.546875 47.265625 \nQ 14.109375 46.140625 10.015625 43.890625 \nL 10.015625 52.203125 \nQ 14.9375 54.109375 19.578125 55.046875 \nQ 24.21875 56 28.609375 56 \nQ 40.484375 56 46.34375 49.84375 \nQ 52.203125 43.703125 52.203125 31.203125 \nz\n\" id=\"DejaVuSans-97\"/>\n       <path d=\"M 18.3125 70.21875 \nL 18.3125 54.6875 \nL 36.8125 54.6875 \nL 36.8125 47.703125 \nL 18.3125 47.703125 \nL 18.3125 18.015625 \nQ 18.3125 11.328125 20.140625 9.421875 \nQ 21.96875 7.515625 27.59375 7.515625 \nL 36.8125 7.515625 \nL 36.8125 0 \nL 27.59375 0 \nQ 17.1875 0 13.234375 3.875 \nQ 9.28125 7.765625 9.28125 18.015625 \nL 9.28125 47.703125 \nL 2.6875 47.703125 \nL 2.6875 54.6875 \nL 9.28125 54.6875 \nL 9.28125 70.21875 \nz\n\" id=\"DejaVuSans-116\"/>\n       <path d=\"M 56.203125 29.59375 \nL 56.203125 25.203125 \nL 14.890625 25.203125 \nQ 15.484375 15.921875 20.484375 11.0625 \nQ 25.484375 6.203125 34.421875 6.203125 \nQ 39.59375 6.203125 44.453125 7.46875 \nQ 49.3125 8.734375 54.109375 11.28125 \nL 54.109375 2.78125 \nQ 49.265625 0.734375 44.1875 -0.34375 \nQ 39.109375 -1.421875 33.890625 -1.421875 \nQ 20.796875 -1.421875 13.15625 6.1875 \nQ 5.515625 13.8125 5.515625 26.8125 \nQ 5.515625 40.234375 12.765625 48.109375 \nQ 20.015625 56 32.328125 56 \nQ 43.359375 56 49.78125 48.890625 \nQ 56.203125 41.796875 56.203125 29.59375 \nz\nM 47.21875 32.234375 \nQ 47.125 39.59375 43.09375 43.984375 \nQ 39.0625 48.390625 32.421875 48.390625 \nQ 24.90625 48.390625 20.390625 44.140625 \nQ 15.875 39.890625 15.1875 32.171875 \nz\n\" id=\"DejaVuSans-101\"/>\n      </defs>\n      <use xlink:href=\"#DejaVuSans-68\"/>\n      <use x=\"77.001953\" xlink:href=\"#DejaVuSans-97\"/>\n      <use x=\"138.28125\" xlink:href=\"#DejaVuSans-116\"/>\n      <use x=\"177.490234\" xlink:href=\"#DejaVuSans-101\"/>\n     </g>\n    </g>\n   </g>\n   <g id=\"matplotlib.axis_2\">\n    <g id=\"ytick_1\">\n     <g id=\"line2d_26\">\n      <defs>\n       <path d=\"M 0 0 \nL -3.5 0 \n\" id=\"m52c9999095\" style=\"stroke:#000000;stroke-width:0.8;\"/>\n      </defs>\n      <g>\n       <use style=\"stroke:#000000;stroke-width:0.8;\" x=\"26.925\" xlink:href=\"#m52c9999095\" y=\"437.430852\"/>\n      </g>\n     </g>\n     <g id=\"text_27\">\n      <!-- 0 -->\n      <g transform=\"translate(13.5625 441.230071)scale(0.1 -0.1)\">\n       <use xlink:href=\"#DejaVuSans-48\"/>\n      </g>\n     </g>\n    </g>\n    <g id=\"ytick_2\">\n     <g id=\"line2d_27\">\n      <g>\n       <use style=\"stroke:#000000;stroke-width:0.8;\" x=\"26.925\" xlink:href=\"#m52c9999095\" y=\"365.02326\"/>\n      </g>\n     </g>\n     <g id=\"text_28\">\n      <!-- 10 -->\n      <g transform=\"translate(7.2 368.822479)scale(0.1 -0.1)\">\n       <use xlink:href=\"#DejaVuSans-49\"/>\n       <use x=\"63.623047\" xlink:href=\"#DejaVuSans-48\"/>\n      </g>\n     </g>\n    </g>\n    <g id=\"ytick_3\">\n     <g id=\"line2d_28\">\n      <g>\n       <use style=\"stroke:#000000;stroke-width:0.8;\" x=\"26.925\" xlink:href=\"#m52c9999095\" y=\"292.615667\"/>\n      </g>\n     </g>\n     <g id=\"text_29\">\n      <!-- 20 -->\n      <g transform=\"translate(7.2 296.414886)scale(0.1 -0.1)\">\n       <use xlink:href=\"#DejaVuSans-50\"/>\n       <use x=\"63.623047\" xlink:href=\"#DejaVuSans-48\"/>\n      </g>\n     </g>\n    </g>\n    <g id=\"ytick_4\">\n     <g id=\"line2d_29\">\n      <g>\n       <use style=\"stroke:#000000;stroke-width:0.8;\" x=\"26.925\" xlink:href=\"#m52c9999095\" y=\"220.208075\"/>\n      </g>\n     </g>\n     <g id=\"text_30\">\n      <!-- 30 -->\n      <g transform=\"translate(7.2 224.007294)scale(0.1 -0.1)\">\n       <use xlink:href=\"#DejaVuSans-51\"/>\n       <use x=\"63.623047\" xlink:href=\"#DejaVuSans-48\"/>\n      </g>\n     </g>\n    </g>\n    <g id=\"ytick_5\">\n     <g id=\"line2d_30\">\n      <g>\n       <use style=\"stroke:#000000;stroke-width:0.8;\" x=\"26.925\" xlink:href=\"#m52c9999095\" y=\"147.800483\"/>\n      </g>\n     </g>\n     <g id=\"text_31\">\n      <!-- 40 -->\n      <g transform=\"translate(7.2 151.599701)scale(0.1 -0.1)\">\n       <use xlink:href=\"#DejaVuSans-52\"/>\n       <use x=\"63.623047\" xlink:href=\"#DejaVuSans-48\"/>\n      </g>\n     </g>\n    </g>\n    <g id=\"ytick_6\">\n     <g id=\"line2d_31\">\n      <g>\n       <use style=\"stroke:#000000;stroke-width:0.8;\" x=\"26.925\" xlink:href=\"#m52c9999095\" y=\"75.39289\"/>\n      </g>\n     </g>\n     <g id=\"text_32\">\n      <!-- 50 -->\n      <g transform=\"translate(7.2 79.192109)scale(0.1 -0.1)\">\n       <use xlink:href=\"#DejaVuSans-53\"/>\n       <use x=\"63.623047\" xlink:href=\"#DejaVuSans-48\"/>\n      </g>\n     </g>\n    </g>\n   </g>\n   <g id=\"line2d_32\">\n    <path clip-path=\"url(#pb6e48a73b7)\" d=\"M 57.361364 437.430852 \nL 57.861345 437.430852 \nL 58.111336 407.019663 \nL 58.361326 437.430852 \nL 58.861308 437.430852 \nL 59.111298 296.960123 \nL 59.361289 428.741941 \nL 59.61128 399.778904 \nL 59.86127 437.430852 \nL 60.361252 437.430852 \nL 60.611242 323.026856 \nL 60.861233 437.430852 \nL 63.36114 437.430852 \nL 63.61113 430.190093 \nL 63.861121 433.086397 \nL 64.111112 437.430852 \nL 64.861084 437.430852 \nL 65.111074 370.815867 \nL 65.611056 437.430852 \nL 68.110962 437.430852 \nL 68.360953 295.511971 \nL 68.610944 434.534549 \nL 68.860934 437.430852 \nL 70.110888 437.430852 \nL 70.360878 425.845637 \nL 70.610869 437.430852 \nL 70.86086 414.260423 \nL 71.11085 437.430852 \nL 71.860822 437.430852 \nL 72.110813 323.026856 \nL 72.360804 437.430852 \nL 72.860785 437.430852 \nL 73.110776 431.638245 \nL 73.360766 435.9827 \nL 73.610757 435.9827 \nL 73.860748 437.430852 \nL 75.360692 437.430852 \nL 75.610682 421.501182 \nL 75.860673 437.430852 \nL 76.110664 437.430852 \nL 76.360654 427.293789 \nL 76.610645 437.430852 \nL 77.610608 437.430852 \nL 77.860598 427.293789 \nL 78.110589 434.534549 \nL 78.36058 434.534549 \nL 78.860561 437.430852 \nL 79.860524 437.430852 \nL 80.110514 435.9827 \nL 80.360505 437.430852 \nL 81.360468 437.430852 \nL 81.610458 396.882601 \nL 81.860449 437.430852 \nL 82.860412 437.430852 \nL 83.110402 425.845637 \nL 83.360393 420.05303 \nL 83.610384 437.430852 \nL 83.860374 437.430852 \nL 84.360356 391.089993 \nL 84.610346 427.293789 \nL 84.860337 437.430852 \nL 85.610309 437.430852 \nL 86.11029 386.745538 \nL 86.610272 425.845637 \nL 86.860262 437.430852 \nL 88.110216 437.430852 \nL 88.610197 427.293789 \nL 88.860188 421.501182 \nL 89.110178 435.9827 \nL 89.360169 437.430852 \nL 89.61016 375.160323 \nL 89.86015 418.604878 \nL 90.110141 437.430852 \nL 90.360132 388.193689 \nL 91.110104 437.430852 \nL 91.860076 437.430852 \nL 92.110066 420.05303 \nL 92.360057 392.538145 \nL 92.610048 434.534549 \nL 92.860038 437.430852 \nL 94.859964 437.430852 \nL 95.109954 378.056626 \nL 95.609936 431.638245 \nL 95.859926 437.430852 \nL 96.109917 407.019663 \nL 96.359908 435.9827 \nL 96.609898 437.430852 \nL 96.859889 437.430852 \nL 97.10988 408.467815 \nL 97.35987 437.430852 \nL 97.609861 427.784659 \nL 97.859852 437.430852 \nL 98.609824 437.430852 \nL 98.859814 401.227056 \nL 99.109805 437.430852 \nL 99.359796 430.190093 \nL 99.609786 435.9827 \nL 99.859777 437.430852 \nL 102.609674 437.430852 \nL 102.859665 433.086397 \nL 103.109656 418.604878 \nL 103.359646 437.430852 \nL 103.609637 422.949334 \nL 103.859628 425.845637 \nL 104.109618 421.501182 \nL 104.359609 435.9827 \nL 104.6096 437.430852 \nL 104.85959 437.430852 \nL 105.109581 435.9827 \nL 105.359572 425.845637 \nL 105.609562 231.79329 \nL 105.859553 409.915967 \nL 106.109544 411.364119 \nL 106.359534 435.9827 \nL 106.609525 420.05303 \nL 106.859516 434.534549 \nL 107.109506 437.430852 \nL 107.609488 437.430852 \nL 107.859478 425.845637 \nL 108.109469 437.430852 \nL 108.35946 428.741941 \nL 108.60945 431.638245 \nL 108.859441 414.260423 \nL 109.109432 431.638245 \nL 109.359422 437.430852 \nL 109.859404 437.430852 \nL 110.109394 433.086397 \nL 110.359385 435.9827 \nL 110.609376 437.430852 \nL 110.859366 391.089993 \nL 111.109357 437.430852 \nL 111.609338 425.845637 \nL 111.859329 427.293789 \nL 112.10932 434.534549 \nL 112.35931 437.430852 \nL 112.609301 435.9827 \nL 112.859292 431.638245 \nL 113.109282 437.430852 \nL 113.359273 435.9827 \nL 113.609264 437.430852 \nL 113.859254 434.534549 \nL 114.109245 435.9827 \nL 114.359236 420.05303 \nL 114.609226 433.086397 \nL 114.859217 437.430852 \nL 116.359161 437.430852 \nL 116.609152 435.9827 \nL 116.859142 431.638245 \nL 117.109133 311.441641 \nL 117.359124 424.397486 \nL 117.609114 421.501182 \nL 117.859105 437.430852 \nL 118.359086 437.430852 \nL 118.609077 405.571512 \nL 118.859068 437.430852 \nL 119.359049 437.430852 \nL 119.60904 411.364119 \nL 120.109021 437.430852 \nL 121.358974 437.430852 \nL 121.608965 323.026856 \nL 121.858956 437.430852 \nL 122.108946 434.534549 \nL 122.358937 437.430852 \nL 123.108909 437.430852 \nL 123.3589 405.571512 \nL 123.60889 437.430852 \nL 127.858732 437.430852 \nL 128.108722 434.534549 \nL 128.358713 433.086397 \nL 128.608704 434.534549 \nL 128.858694 437.430852 \nL 130.358638 437.430852 \nL 130.608629 420.05303 \nL 130.85862 386.745538 \nL 131.10861 437.430852 \nL 131.608592 437.430852 \nL 131.858582 435.9827 \nL 132.108573 435.9827 \nL 132.358564 437.430852 \nL 132.858545 437.430852 \nL 133.108536 430.190093 \nL 133.358526 405.571512 \nL 133.608517 437.430852 \nL 133.858508 435.9827 \nL 134.108498 437.430852 \nL 134.358489 349.09359 \nL 134.60848 309.99349 \nL 134.85847 428.741941 \nL 135.108461 437.430852 \nL 135.608442 437.430852 \nL 135.858433 422.949334 \nL 136.108424 437.430852 \nL 136.358414 434.534549 \nL 136.608405 435.9827 \nL 137.108386 435.9827 \nL 137.358377 437.430852 \nL 137.858358 437.430852 \nL 138.108349 434.534549 \nL 138.35834 411.364119 \nL 138.60833 437.430852 \nL 139.608293 437.430852 \nL 139.858284 434.534549 \nL 140.108274 437.430852 \nL 140.608256 437.430852 \nL 140.858246 424.397486 \nL 141.108237 437.430852 \nL 142.35819 437.430852 \nL 142.608181 431.638245 \nL 142.858172 437.430852 \nL 143.358153 437.430852 \nL 143.608144 422.949334 \nL 143.858134 437.430852 \nL 145.608069 437.430852 \nL 145.85806 393.986297 \nL 146.10805 437.430852 \nL 146.358041 437.430852 \nL 146.608032 434.534549 \nL 146.858022 437.430852 \nL 147.108013 215.86362 \nL 147.358004 399.778904 \nL 147.607994 437.430852 \nL 151.107864 437.430852 \nL 151.357854 431.638245 \nL 151.607845 435.9827 \nL 151.857836 434.534549 \nL 152.107826 430.190093 \nL 152.357817 437.430852 \nL 153.107789 437.430852 \nL 153.35778 430.190093 \nL 153.60777 431.638245 \nL 153.857761 425.845637 \nL 154.107752 386.745538 \nL 154.357742 399.778904 \nL 154.607733 434.534549 \nL 154.857724 437.430852 \nL 155.107714 437.430852 \nL 155.357705 411.364119 \nL 155.607696 334.612071 \nL 155.857686 428.741941 \nL 156.107677 360.678804 \nL 156.357668 437.430852 \nL 156.607658 437.430852 \nL 156.857649 433.086397 \nL 157.10764 420.05303 \nL 157.35763 437.430852 \nL 159.857537 437.430852 \nL 160.107528 411.364119 \nL 160.357518 433.086397 \nL 160.607509 428.741941 \nL 160.8575 435.9827 \nL 161.10749 437.430852 \nL 162.107453 437.430852 \nL 162.357444 434.534549 \nL 162.607434 437.430852 \nL 163.857388 437.430852 \nL 164.107378 435.9827 \nL 164.357369 435.9827 \nL 164.60736 428.741941 \nL 164.85735 437.430852 \nL 165.107341 414.260423 \nL 165.357332 433.086397 \nL 165.607322 437.430852 \nL 165.857313 433.086397 \nL 166.107304 376.608475 \nL 166.357294 435.9827 \nL 166.607285 437.430852 \nL 167.607248 437.430852 \nL 167.857238 340.404678 \nL 168.35722 435.9827 \nL 168.60721 437.430852 \nL 169.607173 437.430852 \nL 169.857164 434.534549 \nL 170.107154 430.190093 \nL 170.357145 435.9827 \nL 170.607136 437.430852 \nL 172.35707 437.430852 \nL 172.607061 344.749134 \nL 173.107042 437.430852 \nL 173.857014 437.430852 \nL 174.107005 435.9827 \nL 174.356996 435.9827 \nL 174.606986 437.430852 \nL 176.10693 437.430852 \nL 176.356921 434.534549 \nL 176.606912 281.030453 \nL 176.856902 437.430852 \nL 178.106856 437.430852 \nL 178.356846 434.534549 \nL 178.856828 366.471412 \nL 179.106818 434.534549 \nL 179.356809 437.430852 \nL 179.6068 435.9827 \nL 179.85679 437.430852 \nL 180.356772 437.430852 \nL 180.606762 398.330752 \nL 180.856753 431.638245 \nL 181.106744 350.541741 \nL 181.356734 435.9827 \nL 181.606725 435.9827 \nL 181.856716 437.430852 \nL 182.606688 437.430852 \nL 182.856678 435.9827 \nL 183.106669 437.430852 \nL 183.35666 437.430852 \nL 183.60665 424.397486 \nL 183.856641 437.430852 \nL 184.106632 437.430852 \nL 184.356622 421.501182 \nL 184.606613 424.397486 \nL 184.856604 437.430852 \nL 185.106594 347.645438 \nL 185.356585 402.675208 \nL 185.606576 433.086397 \nL 185.856566 407.019663 \nL 186.106557 437.430852 \nL 187.10652 437.430852 \nL 187.35651 392.538145 \nL 187.856492 427.293789 \nL 188.106482 437.430852 \nL 188.356473 428.741941 \nL 188.606464 427.293789 \nL 188.856454 437.430852 \nL 189.106445 415.708575 \nL 189.356436 433.086397 \nL 189.606426 437.430852 \nL 190.356398 437.430852 \nL 190.85638 375.160323 \nL 191.10637 434.534549 \nL 191.356361 411.364119 \nL 191.606352 414.260423 \nL 191.856342 437.430852 \nL 192.106333 433.086397 \nL 192.356324 337.508375 \nL 192.606314 422.949334 \nL 192.856305 435.9827 \nL 193.606277 435.9827 \nL 193.856268 437.430852 \nL 194.106258 391.089993 \nL 194.356249 435.9827 \nL 194.606239 437.430852 \nL 194.85623 437.430852 \nL 195.106221 433.086397 \nL 195.356211 273.789693 \nL 195.606202 409.915967 \nL 195.856193 431.638245 \nL 196.106183 435.9827 \nL 196.356174 437.430852 \nL 196.606165 411.364119 \nL 196.856155 437.430852 \nL 197.106146 434.534549 \nL 197.356137 430.190093 \nL 197.606127 437.430852 \nL 198.60609 437.430852 \nL 198.856081 424.397486 \nL 199.106071 424.397486 \nL 199.356062 380.95293 \nL 199.606053 417.156726 \nL 199.856043 431.638245 \nL 200.106034 437.430852 \nL 200.356025 402.675208 \nL 200.606015 434.534549 \nL 200.856006 437.430852 \nL 201.105997 437.430852 \nL 201.355987 420.05303 \nL 201.605978 422.949334 \nL 201.855969 417.156726 \nL 202.105959 333.163919 \nL 202.35595 417.156726 \nL 202.605941 431.638245 \nL 202.855931 437.430852 \nL 204.105885 437.430852 \nL 204.355875 378.056626 \nL 204.605866 437.430852 \nL 204.855857 425.845637 \nL 205.105847 435.9827 \nL 205.355838 437.430852 \nL 205.605829 437.430852 \nL 205.855819 434.534549 \nL 206.10581 437.430852 \nL 206.355801 435.9827 \nL 206.605791 369.367715 \nL 206.855782 428.741941 \nL 207.355763 357.782501 \nL 207.605754 437.430852 \nL 207.855745 428.741941 \nL 208.355726 437.430852 \nL 209.105698 437.430852 \nL 209.355689 431.638245 \nL 209.605679 437.430852 \nL 209.85567 434.534549 \nL 210.105661 435.9827 \nL 210.355651 435.9827 \nL 210.605642 437.430852 \nL 211.355614 437.430852 \nL 211.605605 433.086397 \nL 211.855595 369.367715 \nL 212.105586 428.741941 \nL 212.355577 425.845637 \nL 212.605567 372.264019 \nL 212.855558 288.271212 \nL 213.105549 422.949334 \nL 213.355539 340.404678 \nL 213.60553 437.430852 \nL 213.855521 434.534549 \nL 214.355502 437.430852 \nL 214.605493 428.741941 \nL 214.855483 428.741941 \nL 215.355465 437.430852 \nL 215.605455 395.434449 \nL 215.855446 433.086397 \nL 216.105437 346.197286 \nL 216.355427 421.501182 \nL 216.605418 424.397486 \nL 216.855409 422.949334 \nL 217.105399 425.845637 \nL 217.35539 437.430852 \nL 217.605381 370.815867 \nL 217.855371 422.949334 \nL 218.105362 417.156726 \nL 218.355353 437.430852 \nL 219.105325 437.430852 \nL 219.605306 427.293789 \nL 219.855297 437.430852 \nL 220.105287 407.019663 \nL 220.355278 435.9827 \nL 220.605269 437.430852 \nL 220.855259 437.430852 \nL 221.10525 366.471412 \nL 221.355241 430.190093 \nL 221.605231 418.604878 \nL 221.855222 437.430852 \nL 222.105213 437.430852 \nL 222.355203 318.682401 \nL 222.855185 434.534549 \nL 223.355166 437.430852 \nL 223.605157 435.9827 \nL 223.855147 437.430852 \nL 224.355129 437.430852 \nL 224.605119 424.397486 \nL 224.85511 434.534549 \nL 225.105101 434.534549 \nL 225.355091 437.430852 \nL 226.355054 437.430852 \nL 226.605045 435.9827 \nL 226.855035 437.430852 \nL 227.355017 437.430852 \nL 227.605007 422.949334 \nL 227.854998 422.949334 \nL 228.104989 375.160323 \nL 228.354979 437.430852 \nL 229.854923 437.430852 \nL 230.104914 375.160323 \nL 230.604895 421.501182 \nL 231.104877 437.430852 \nL 231.354867 434.534549 \nL 231.604858 435.9827 \nL 231.854849 435.9827 \nL 232.104839 437.430852 \nL 233.104802 437.430852 \nL 233.354793 420.05303 \nL 233.604783 437.430852 \nL 233.854774 437.430852 \nL 234.104765 421.501182 \nL 234.354755 389.641841 \nL 234.604746 435.9827 \nL 234.854737 430.190093 \nL 235.104727 437.430852 \nL 236.854662 437.430852 \nL 237.104653 415.708575 \nL 237.354643 435.9827 \nL 237.604634 437.430852 \nL 237.854625 437.430852 \nL 238.104615 431.638245 \nL 238.354606 435.9827 \nL 238.604597 437.430852 \nL 238.854587 425.845637 \nL 239.104578 430.190093 \nL 239.354569 437.430852 \nL 239.604559 289.719364 \nL 239.85455 437.430852 \nL 240.104541 437.430852 \nL 240.354531 434.534549 \nL 240.604522 434.534549 \nL 240.854513 437.430852 \nL 242.854438 437.430852 \nL 243.354419 418.604878 \nL 243.60441 437.430852 \nL 244.604373 437.430852 \nL 244.854363 273.789693 \nL 245.104354 433.086397 \nL 245.354345 437.430852 \nL 245.604335 437.430852 \nL 245.854326 433.086397 \nL 246.104317 437.430852 \nL 247.35427 437.430852 \nL 247.604261 415.708575 \nL 247.854251 437.430852 \nL 248.854214 437.430852 \nL 249.104205 202.830253 \nL 249.354195 437.430852 \nL 250.354158 437.430852 \nL 250.604149 422.949334 \nL 250.854139 437.430852 \nL 251.10413 433.086397 \nL 251.354121 437.430852 \nL 252.354083 437.430852 \nL 252.604074 411.364119 \nL 252.854065 435.9827 \nL 253.104055 437.430852 \nL 253.354046 437.430852 \nL 253.604037 427.293789 \nL 253.854027 437.430852 \nL 255.603962 437.430852 \nL 255.853953 435.9827 \nL 256.103943 437.430852 \nL 257.603887 437.430852 \nL 257.853878 435.9827 \nL 258.103869 437.430852 \nL 258.353859 437.430852 \nL 258.60385 424.397486 \nL 258.853841 437.430852 \nL 259.603813 437.430852 \nL 260.103794 370.815867 \nL 260.353785 437.430852 \nL 261.353747 437.430852 \nL 261.603738 407.019663 \nL 261.853729 435.9827 \nL 262.103719 412.812271 \nL 262.35371 417.156726 \nL 262.603701 437.430852 \nL 262.853691 434.534549 \nL 263.103682 437.430852 \nL 264.353635 437.430852 \nL 264.853617 253.515568 \nL 265.103607 325.92316 \nL 265.353598 437.430852 \nL 267.353523 437.430852 \nL 267.603514 369.367715 \nL 268.103495 437.430852 \nL 268.353486 437.430852 \nL 268.603477 281.030453 \nL 268.853467 292.615667 \nL 269.103458 325.92316 \nL 269.353449 434.534549 \nL 269.85343 437.430852 \nL 270.103421 437.430852 \nL 270.353411 420.05303 \nL 270.603402 431.638245 \nL 270.853393 437.430852 \nL 271.103383 437.430852 \nL 271.353374 435.9827 \nL 271.603365 427.293789 \nL 271.853355 424.397486 \nL 272.103346 425.845637 \nL 272.353337 437.430852 \nL 272.853318 437.430852 \nL 273.103309 435.9827 \nL 273.353299 437.430852 \nL 274.103271 437.430852 \nL 274.353262 431.638245 \nL 274.603253 437.430852 \nL 276.603178 437.430852 \nL 276.853169 388.193689 \nL 277.103159 427.293789 \nL 277.35315 421.501182 \nL 277.603141 398.330752 \nL 277.853131 434.534549 \nL 278.103122 437.430852 \nL 278.853094 437.430852 \nL 279.103085 391.089993 \nL 279.353075 437.430852 \nL 279.603066 437.430852 \nL 279.853057 424.397486 \nL 280.103047 437.430852 \nL 280.353038 435.9827 \nL 280.603029 437.430852 \nL 282.602954 437.430852 \nL 282.852945 433.086397 \nL 283.102935 435.9827 \nL 283.352926 437.430852 \nL 283.602917 427.293789 \nL 283.852907 437.430852 \nL 284.102898 427.293789 \nL 284.352889 437.430852 \nL 284.85287 437.430852 \nL 285.102861 405.571512 \nL 285.352851 437.430852 \nL 285.852833 437.430852 \nL 286.102823 415.708575 \nL 286.352814 437.430852 \nL 287.102786 437.430852 \nL 287.352777 431.638245 \nL 287.602767 437.430852 \nL 287.852758 434.534549 \nL 288.102749 437.430852 \nL 288.352739 437.430852 \nL 288.60273 422.949334 \nL 288.852721 437.430852 \nL 289.352702 437.430852 \nL 289.602693 435.9827 \nL 289.852683 401.227056 \nL 290.102674 433.086397 \nL 290.352665 407.019663 \nL 290.602655 437.430852 \nL 290.852646 437.430852 \nL 291.102637 386.745538 \nL 291.352627 437.430852 \nL 291.602618 420.05303 \nL 291.852609 422.949334 \nL 292.102599 417.156726 \nL 292.35259 437.430852 \nL 293.602543 437.430852 \nL 293.852534 389.641841 \nL 294.102525 437.430852 \nL 294.352515 437.430852 \nL 294.602506 407.019663 \nL 295.102487 437.430852 \nL 295.602469 437.430852 \nL 295.852459 417.156726 \nL 296.10245 422.949334 \nL 296.352441 437.430852 \nL 296.602431 435.9827 \nL 296.852422 431.638245 \nL 297.352403 417.156726 \nL 297.602394 385.297386 \nL 297.852385 422.949334 \nL 298.102375 433.086397 \nL 298.352366 425.845637 \nL 298.602357 437.430852 \nL 298.852347 370.815867 \nL 299.102338 433.086397 \nL 299.352329 437.430852 \nL 299.602319 380.95293 \nL 299.85231 433.086397 \nL 300.102301 437.430852 \nL 300.352291 433.086397 \nL 300.602282 435.9827 \nL 300.852273 437.430852 \nL 301.352254 437.430852 \nL 301.602245 434.534549 \nL 301.852235 435.9827 \nL 302.102226 402.675208 \nL 302.352217 431.638245 \nL 302.602207 414.260423 \nL 302.852198 428.741941 \nL 303.102189 435.9827 \nL 303.352179 437.430852 \nL 303.60217 435.9827 \nL 303.852161 422.949334 \nL 304.102151 427.293789 \nL 304.352142 437.430852 \nL 304.602133 282.478605 \nL 304.852123 435.9827 \nL 305.102114 437.430852 \nL 305.352105 435.9827 \nL 305.602095 437.430852 \nL 306.352067 437.430852 \nL 306.602058 434.534549 \nL 306.852049 425.845637 \nL 307.102039 434.534549 \nL 307.35203 437.430852 \nL 307.852011 437.430852 \nL 308.102002 430.190093 \nL 308.351993 437.430852 \nL 309.351955 437.430852 \nL 309.601946 420.05303 \nL 309.851937 435.9827 \nL 310.101927 437.430852 \nL 310.351918 420.05303 \nL 310.601909 435.9827 \nL 310.851899 437.430852 \nL 311.10189 365.02326 \nL 311.351881 437.430852 \nL 312.851825 437.430852 \nL 313.101815 418.604878 \nL 313.351806 437.430852 \nL 313.851787 437.430852 \nL 314.101778 435.9827 \nL 314.351769 354.886197 \nL 314.601759 435.9827 \nL 314.85175 437.430852 \nL 315.101741 434.534549 \nL 315.351731 437.430852 \nL 315.601722 405.571512 \nL 315.851713 393.986297 \nL 316.101703 434.534549 \nL 316.351694 427.293789 \nL 316.601685 427.293789 \nL 316.851675 434.534549 \nL 317.101666 437.430852 \nL 317.351657 437.430852 \nL 317.601647 412.812271 \nL 317.851638 437.430852 \nL 319.601573 437.430852 \nL 319.851563 411.364119 \nL 320.101554 407.019663 \nL 320.351545 437.430852 \nL 320.601535 257.860023 \nL 320.851526 437.430852 \nL 321.601498 437.430852 \nL 321.851489 430.190093 \nL 322.101479 434.534549 \nL 322.35147 412.812271 \nL 322.851451 435.9827 \nL 323.101442 437.430852 \nL 323.351433 437.430852 \nL 323.601423 424.397486 \nL 324.101405 120.285598 \nL 324.351395 398.330752 \nL 324.601386 424.397486 \nL 324.851377 437.430852 \nL 325.101367 437.430852 \nL 325.351358 254.963719 \nL 325.601349 437.430852 \nL 328.101255 437.430852 \nL 328.351246 288.271212 \nL 328.601237 437.430852 \nL 329.101218 437.430852 \nL 329.351209 434.534549 \nL 329.601199 437.430852 \nL 330.351171 437.430852 \nL 330.601162 435.9827 \nL 330.851153 376.608475 \nL 331.101143 435.9827 \nL 331.351134 437.430852 \nL 331.851115 437.430852 \nL 332.101106 435.9827 \nL 332.351097 437.430852 \nL 333.851041 437.430852 \nL 334.101031 430.190093 \nL 334.601013 328.819464 \nL 334.851003 437.430852 \nL 337.600901 437.430852 \nL 337.850891 412.812271 \nL 338.100882 437.430852 \nL 338.350873 437.430852 \nL 338.600863 156.489394 \nL 338.850854 437.430852 \nL 339.100845 435.9827 \nL 339.350835 437.430852 \nL 343.350686 437.430852 \nL 343.600677 431.638245 \nL 343.850667 437.430852 \nL 344.350649 437.430852 \nL 344.85063 434.534549 \nL 345.100621 437.430852 \nL 345.850593 437.430852 \nL 346.100583 431.638245 \nL 346.600565 437.430852 \nL 348.850481 437.430852 \nL 349.100471 421.501182 \nL 349.350462 437.430852 \nL 350.600415 437.430852 \nL 350.850406 435.9827 \nL 351.100397 437.430852 \nL 351.850369 437.430852 \nL 352.100359 343.300982 \nL 352.35035 399.778904 \nL 352.600341 428.741941 \nL 352.850331 437.430852 \nL 357.100173 437.430852 \nL 357.350163 349.09359 \nL 357.600154 415.708575 \nL 357.850145 433.086397 \nL 358.100135 437.430852 \nL 359.600079 437.430852 \nL 359.85007 433.086397 \nL 360.100061 437.430852 \nL 361.849995 437.430852 \nL 362.099986 392.538145 \nL 362.599967 437.430852 \nL 362.849958 437.430852 \nL 363.099949 435.9827 \nL 363.349939 437.430852 \nL 363.849921 302.75273 \nL 364.099911 376.608475 \nL 364.599893 437.430852 \nL 364.849883 437.430852 \nL 365.099874 422.949334 \nL 365.349865 437.430852 \nL 365.599855 435.9827 \nL 365.849846 418.604878 \nL 366.099837 437.430852 \nL 366.349827 420.05303 \nL 366.599818 437.430852 \nL 366.849809 404.12336 \nL 367.099799 437.430852 \nL 368.099762 437.430852 \nL 368.349753 431.638245 \nL 368.599743 437.430852 \nL 368.849734 401.227056 \nL 369.099725 437.430852 \nL 369.349715 435.9827 \nL 369.599706 437.430852 \nL 369.849697 437.430852 \nL 370.099687 425.845637 \nL 370.349678 434.534549 \nL 370.599669 435.9827 \nL 370.849659 433.086397 \nL 371.09965 415.708575 \nL 371.349641 437.430852 \nL 371.849622 434.534549 \nL 372.099613 437.430852 \nL 372.349603 396.882601 \nL 372.599594 404.12336 \nL 372.849585 421.501182 \nL 373.099575 324.475008 \nL 373.599557 434.534549 \nL 374.099538 437.430852 \nL 375.349491 437.430852 \nL 375.599482 435.9827 \nL 375.849473 437.430852 \nL 376.349454 434.534549 \nL 376.599445 434.534549 \nL 376.849435 437.430852 \nL 377.349417 437.430852 \nL 377.599407 434.534549 \nL 377.849398 437.430852 \nL 378.099389 428.741941 \nL 378.349379 431.638245 \nL 378.59937 428.741941 \nL 378.849361 437.430852 \nL 379.349342 437.430852 \nL 379.599333 435.9827 \nL 379.849323 437.430852 \nL 380.599295 437.430852 \nL 380.849286 428.741941 \nL 381.099277 437.430852 \nL 381.349267 405.571512 \nL 381.599258 435.9827 \nL 381.849249 437.430852 \nL 382.099239 435.9827 \nL 382.34923 433.086397 \nL 382.599221 392.538145 \nL 382.849211 437.430852 \nL 383.349193 437.430852 \nL 383.599183 422.949334 \nL 383.849174 434.534549 \nL 384.099165 437.430852 \nL 384.349155 425.845637 \nL 384.599146 437.430852 \nL 384.849137 437.430852 \nL 385.099127 425.845637 \nL 385.349118 437.430852 \nL 385.849099 437.430852 \nL 386.349081 421.501182 \nL 386.599071 437.430852 \nL 386.849062 362.126956 \nL 387.349043 437.430852 \nL 387.599034 435.9827 \nL 387.849025 437.430852 \nL 388.099015 435.9827 \nL 388.349006 437.430852 \nL 388.598997 421.501182 \nL 388.848987 370.815867 \nL 389.098978 422.949334 \nL 389.348969 428.741941 \nL 389.598959 430.190093 \nL 389.84895 437.430852 \nL 390.598922 437.430852 \nL 390.848913 411.364119 \nL 391.098903 435.9827 \nL 391.348894 437.430852 \nL 391.598885 437.430852 \nL 391.848875 425.845637 \nL 392.348857 415.708575 \nL 392.598847 437.430852 \nL 393.348819 437.430852 \nL 393.59881 412.812271 \nL 393.848801 435.9827 \nL 394.098791 437.430852 \nL 395.348745 437.430852 \nL 395.598735 435.9827 \nL 395.848726 422.949334 \nL 396.098717 437.430852 \nL 396.348707 437.430852 \nL 396.598698 415.708575 \nL 396.848689 431.638245 \nL 397.098679 437.430852 \nL 397.34867 437.430852 \nL 397.598661 435.9827 \nL 397.848651 437.430852 \nL 398.848614 437.430852 \nL 399.098605 428.741941 \nL 399.348595 435.9827 \nL 399.598586 437.430852 \nL 401.348521 437.430852 \nL 401.598511 427.784659 \nL 401.848502 427.784659 \nL 402.098493 437.430852 \nL 403.098455 437.430852 \nL 403.348446 435.9827 \nL 403.598437 399.778904 \nL 404.098418 437.430852 \nL 404.348409 401.227056 \nL 404.598399 396.882601 \nL 404.84839 437.430852 \nL 407.598287 437.430852 \nL 407.848278 435.9827 \nL 408.098269 437.430852 \nL 408.59825 405.571512 \nL 408.848241 178.211671 \nL 409.098231 415.708575 \nL 409.348222 437.430852 \nL 409.598213 437.430852 \nL 409.848203 435.9827 \nL 410.098194 437.430852 \nL 410.348185 437.430852 \nL 410.598175 392.538145 \nL 410.848166 435.9827 \nL 411.098157 437.430852 \nL 412.098119 437.430852 \nL 412.34811 262.204479 \nL 412.598101 392.538145 \nL 412.848091 393.986297 \nL 413.098082 386.745538 \nL 413.348073 431.638245 \nL 413.598063 437.430852 \nL 413.848054 435.9827 \nL 414.098045 437.430852 \nL 414.348035 433.086397 \nL 414.598026 437.430852 \nL 414.848017 437.430852 \nL 415.098007 362.126956 \nL 415.347998 437.430852 \nL 416.597951 437.430852 \nL 416.847942 428.741941 \nL 417.097933 437.430852 \nL 417.597914 437.430852 \nL 417.847905 320.130553 \nL 418.097895 317.234249 \nL 418.347886 139.111572 \nL 418.597877 409.915967 \nL 419.097858 437.430852 \nL 419.597839 437.430852 \nL 419.84783 430.190093 \nL 420.097821 366.471412 \nL 420.347811 437.430852 \nL 421.597765 437.430852 \nL 421.847755 428.741941 \nL 422.097746 433.086397 \nL 422.347737 431.638245 \nL 422.597727 437.430852 \nL 423.347699 437.430852 \nL 423.59769 434.534549 \nL 423.847681 427.293789 \nL 424.097671 437.430852 \nL 424.347662 437.430852 \nL 424.597653 433.086397 \nL 424.847643 437.430852 \nL 426.597578 437.430852 \nL 426.847569 435.9827 \nL 427.097559 422.949334 \nL 427.34755 437.430852 \nL 429.847457 437.430852 \nL 430.097447 389.641841 \nL 430.347438 437.430852 \nL 431.597391 437.430852 \nL 431.847382 357.782501 \nL 432.097373 437.430852 \nL 432.347363 437.430852 \nL 432.597354 402.675208 \nL 432.847345 437.430852 \nL 433.097335 437.430852 \nL 433.347326 417.156726 \nL 433.597317 437.430852 \nL 438.347139 437.430852 \nL 438.59713 425.845637 \nL 438.847121 422.949334 \nL 439.097111 437.430852 \nL 439.597093 437.430852 \nL 439.847083 435.9827 \nL 440.097074 437.430852 \nL 440.347065 437.430852 \nL 440.597055 435.9827 \nL 440.847046 437.430852 \nL 442.596981 437.430852 \nL 442.846971 424.397486 \nL 443.096962 422.949334 \nL 443.346953 435.9827 \nL 443.596943 437.430852 \nL 444.346915 437.430852 \nL 444.596906 424.397486 \nL 444.846897 421.501182 \nL 445.096887 435.9827 \nL 445.346878 437.430852 \nL 446.846822 437.430852 \nL 447.096813 425.845637 \nL 447.346803 427.293789 \nL 447.596794 437.430852 \nL 447.846785 435.9827 \nL 448.096775 437.430852 \nL 450.096701 437.430852 \nL 450.346691 431.638245 \nL 450.596682 437.430852 \nL 451.096663 437.430852 \nL 451.346654 415.708575 \nL 451.596645 437.430852 \nL 452.596607 437.430852 \nL 452.846598 411.364119 \nL 453.096589 435.9827 \nL 453.346579 435.9827 \nL 453.59657 422.949334 \nL 453.846561 435.9827 \nL 454.096551 437.430852 \nL 454.346542 399.778904 \nL 454.596533 433.086397 \nL 454.846523 385.297386 \nL 455.096514 378.056626 \nL 455.346505 437.430852 \nL 456.846449 437.430852 \nL 457.34643 434.534549 \nL 457.596421 434.534549 \nL 457.846411 437.430852 \nL 458.346393 437.430852 \nL 458.596383 425.845637 \nL 458.846374 389.641841 \nL 459.096365 378.056626 \nL 459.346355 435.9827 \nL 459.596346 428.741941 \nL 459.846337 395.434449 \nL 460.096327 427.293789 \nL 460.346318 420.05303 \nL 460.596309 437.430852 \nL 460.846299 325.92316 \nL 461.09629 414.260423 \nL 461.346281 437.430852 \nL 462.346243 437.430852 \nL 462.596234 415.708575 \nL 462.846225 437.430852 \nL 463.096215 433.086397 \nL 463.346206 418.604878 \nL 463.596197 421.501182 \nL 463.846187 418.604878 \nL 464.096178 437.430852 \nL 464.346169 412.812271 \nL 464.596159 437.430852 \nL 465.096141 425.845637 \nL 465.346131 415.708575 \nL 465.596122 434.534549 \nL 465.846113 428.741941 \nL 466.096103 437.430852 \nL 466.346094 437.430852 \nL 466.596085 435.9827 \nL 466.846075 437.430852 \nL 467.096066 437.430852 \nL 467.346057 431.638245 \nL 467.596047 391.089993 \nL 467.846038 437.430852 \nL 469.095991 437.430852 \nL 469.345982 435.9827 \nL 469.595973 399.778904 \nL 469.845963 435.9827 \nL 470.095954 435.9827 \nL 470.345945 391.089993 \nL 470.595935 420.05303 \nL 470.845926 405.571512 \nL 471.095917 431.638245 \nL 471.345907 405.571512 \nL 471.845889 437.430852 \nL 472.095879 434.534549 \nL 472.34587 425.845637 \nL 472.595861 437.430852 \nL 473.095842 437.430852 \nL 473.345833 425.845637 \nL 473.595823 379.504778 \nL 473.845814 437.430852 \nL 474.095805 437.430852 \nL 474.345795 388.193689 \nL 474.595786 437.430852 \nL 474.845777 437.430852 \nL 475.095767 431.638245 \nL 475.345758 437.430852 \nL 475.595749 437.430852 \nL 475.845739 434.534549 \nL 476.09573 437.430852 \nL 476.345721 430.190093 \nL 476.595711 437.430852 \nL 476.845702 434.534549 \nL 477.095693 437.430852 \nL 477.345683 359.230652 \nL 477.595674 422.949334 \nL 478.345646 373.712171 \nL 478.595637 437.430852 \nL 478.845627 435.9827 \nL 479.095618 437.430852 \nL 479.345609 437.430852 \nL 479.595599 409.915967 \nL 479.84559 437.430852 \nL 480.095581 408.467815 \nL 480.345571 434.534549 \nL 480.595562 435.9827 \nL 480.845553 425.845637 \nL 481.095543 437.430852 \nL 481.345534 437.430852 \nL 481.595525 428.741941 \nL 481.845515 437.430852 \nL 482.345497 437.430852 \nL 482.595487 392.538145 \nL 482.845478 435.9827 \nL 483.095469 437.430852 \nL 483.345459 437.430852 \nL 483.59545 420.05303 \nL 483.845441 433.086397 \nL 484.095431 437.430852 \nL 484.345422 412.812271 \nL 484.845403 430.190093 \nL 485.095394 433.086397 \nL 485.345385 396.882601 \nL 485.845366 437.430852 \nL 486.595338 437.430852 \nL 486.845329 425.845637 \nL 487.095319 343.300982 \nL 487.34531 437.430852 \nL 488.345273 437.430852 \nL 488.595263 404.12336 \nL 488.845254 422.949334 \nL 489.095245 427.293789 \nL 489.345235 437.430852 \nL 489.845217 437.430852 \nL 490.095207 435.9827 \nL 490.345198 437.430852 \nL 491.595151 437.430852 \nL 491.845142 424.397486 \nL 492.095133 437.430852 \nL 492.345123 437.430852 \nL 492.845105 395.434449 \nL 493.095095 435.9827 \nL 493.345086 437.430852 \nL 493.845067 437.430852 \nL 494.095058 435.9827 \nL 494.345049 437.430852 \nL 494.595039 437.430852 \nL 494.84503 405.571512 \nL 495.095021 431.638245 \nL 495.595002 431.638245 \nL 495.844993 437.430852 \nL 496.344974 437.430852 \nL 496.594965 435.9827 \nL 496.844955 437.430852 \nL 497.094946 409.915967 \nL 497.344937 428.741941 \nL 497.594927 427.293789 \nL 497.844918 437.430852 \nL 498.59489 437.430852 \nL 498.844881 407.019663 \nL 499.094871 347.645438 \nL 499.344862 428.741941 \nL 499.594853 363.575108 \nL 499.844843 437.430852 \nL 500.094834 437.430852 \nL 500.344825 388.193689 \nL 500.594815 391.089993 \nL 500.844806 435.9827 \nL 501.094797 437.430852 \nL 501.344787 433.086397 \nL 501.594778 425.845637 \nL 502.094759 437.430852 \nL 504.594666 437.430852 \nL 504.844657 422.949334 \nL 505.094647 437.430852 \nL 505.594629 437.430852 \nL 505.844619 379.504778 \nL 506.09461 437.430852 \nL 506.344601 412.812271 \nL 506.594591 434.534549 \nL 506.844582 437.430852 \nL 513.344339 437.430852 \nL 513.59433 420.05303 \nL 513.844321 437.430852 \nL 514.594293 437.430852 \nL 514.844283 421.501182 \nL 515.094274 378.056626 \nL 515.344265 428.741941 \nL 515.594255 437.430852 \nL 516.094237 437.430852 \nL 516.344227 324.475008 \nL 516.594218 437.430852 \nL 517.34419 437.430852 \nL 517.594181 295.511971 \nL 517.844171 437.430852 \nL 518.344153 437.430852 \nL 518.594143 434.534549 \nL 518.844134 118.837446 \nL 519.094125 437.430852 \nL 519.344115 272.341542 \nL 519.594106 428.741941 \nL 519.844097 437.430852 \nL 521.344041 437.430852 \nL 521.594031 431.638245 \nL 521.844022 330.267616 \nL 522.094013 437.430852 \nL 523.593957 437.430852 \nL 523.843947 433.086397 \nL 524.093938 437.430852 \nL 524.84391 437.430852 \nL 525.093901 398.330752 \nL 525.593882 437.430852 \nL 525.843873 437.430852 \nL 526.093863 162.282001 \nL 526.343854 414.260423 \nL 526.593845 417.156726 \nL 526.843835 437.430852 \nL 527.343817 437.430852 \nL 527.593807 411.364119 \nL 527.843798 408.467815 \nL 528.093789 435.9827 \nL 528.343779 437.430852 \nL 528.843761 437.430852 \nL 529.093751 415.708575 \nL 529.343742 437.430852 \nL 529.593732 437.430852 \nL 529.843723 42.085398 \nL 530.093714 386.745538 \nL 530.343704 435.9827 \nL 530.593695 437.430852 \nL 531.843648 437.430852 \nL 532.093639 433.086397 \nL 532.34363 437.430852 \nL 534.093564 437.430852 \nL 534.343555 434.534549 \nL 534.593546 437.430852 \nL 535.843499 437.430852 \nL 536.09349 399.778904 \nL 536.34348 437.430852 \nL 536.593471 437.430852 \nL 536.843462 270.89339 \nL 537.093452 323.026856 \nL 537.343443 182.556127 \nL 537.593434 405.571512 \nL 537.843424 392.538145 \nL 538.093415 427.293789 \nL 538.343406 428.741941 \nL 538.593396 437.430852 \nL 538.843387 435.9827 \nL 539.093378 420.05303 \nL 539.343368 420.05303 \nL 539.593359 437.430852 \nL 539.84335 433.086397 \nL 540.09334 437.430852 \nL 540.343331 435.9827 \nL 540.593322 437.430852 \nL 541.093303 437.430852 \nL 541.343294 412.812271 \nL 541.593284 437.430852 \nL 542.093266 437.430852 \nL 542.343256 434.534549 \nL 542.593247 437.430852 \nL 542.843238 336.060223 \nL 543.093228 433.086397 \nL 543.343219 437.430852 \nL 543.59321 412.812271 \nL 543.8432 266.548934 \nL 544.093191 379.504778 \nL 544.343182 427.293789 \nL 544.593172 424.397486 \nL 544.843163 435.9827 \nL 545.093154 434.534549 \nL 545.343144 437.430852 \nL 545.843126 437.430852 \nL 546.093116 433.086397 \nL 546.343107 386.745538 \nL 546.593098 433.086397 \nL 546.843088 435.9827 \nL 547.34307 417.156726 \nL 547.59306 437.430852 \nL 548.593023 437.430852 \nL 548.843014 324.475008 \nL 549.093004 347.645438 \nL 549.342995 354.886197 \nL 549.592986 437.430852 \nL 549.842976 415.708575 \nL 550.092967 437.430852 \nL 551.592911 437.430852 \nL 552.092892 353.438045 \nL 552.342883 433.086397 \nL 552.592874 437.430852 \nL 553.592836 437.430852 \nL 553.842827 435.9827 \nL 554.092818 437.430852 \nL 554.84279 437.430852 \nL 555.09278 395.434449 \nL 555.342771 437.430852 \nL 555.592762 437.430852 \nL 555.842752 434.534549 \nL 556.092743 437.430852 \nL 556.342734 437.430852 \nL 556.592724 427.293789 \nL 556.842715 437.430852 \nL 557.092706 437.430852 \nL 557.342696 421.501182 \nL 557.592687 434.534549 \nL 557.842678 437.430852 \nL 558.092668 428.741941 \nL 558.342659 437.430852 \nL 558.59265 435.9827 \nL 558.84264 437.430852 \nL 559.342622 437.430852 \nL 559.592612 428.741941 \nL 559.842603 437.430852 \nL 560.092594 380.95293 \nL 560.592575 430.190093 \nL 560.842566 427.293789 \nL 561.092556 437.430852 \nL 561.842528 437.430852 \nL 562.092519 388.193689 \nL 562.5925 437.430852 \nL 562.842491 435.9827 \nL 563.092482 437.430852 \nL 563.842454 437.430852 \nL 564.092444 433.086397 \nL 564.342435 434.534549 \nL 564.592426 437.430852 \nL 564.842416 421.501182 \nL 565.092407 437.430852 \nL 565.842379 437.430852 \nL 566.09237 434.534549 \nL 566.34236 437.430852 \nL 567.592314 437.430852 \nL 567.842304 428.741941 \nL 568.092295 395.434449 \nL 568.342286 431.638245 \nL 568.592276 437.430852 \nL 568.842267 388.193689 \nL 569.092258 435.9827 \nL 569.342248 437.430852 \nL 569.592239 437.430852 \nL 569.84223 431.638245 \nL 570.09222 428.741941 \nL 570.342211 431.638245 \nL 570.592202 417.156726 \nL 570.842192 434.534549 \nL 571.092183 437.430852 \nL 571.342174 435.9827 \nL 571.592164 428.741941 \nL 571.842155 409.915967 \nL 572.092146 434.534549 \nL 572.342136 405.571512 \nL 572.592127 252.067416 \nL 572.842118 417.156726 \nL 573.092108 437.430852 \nL 573.59209 437.430852 \nL 573.84208 427.293789 \nL 574.092071 437.430852 \nL 574.342062 437.430852 \nL 574.592052 430.190093 \nL 574.842043 437.430852 \nL 575.592015 437.430852 \nL 575.842006 435.9827 \nL 576.091996 435.9827 \nL 576.341987 437.430852 \nL 576.591978 437.430852 \nL 576.841968 430.190093 \nL 577.091959 437.430852 \nL 577.34195 437.430852 \nL 577.59194 425.845637 \nL 577.841931 351.989893 \nL 578.091922 437.430852 \nL 578.591903 437.430852 \nL 578.841894 431.638245 \nL 579.091884 437.430852 \nL 580.091847 437.430852 \nL 580.341838 435.9827 \nL 580.841819 414.260423 \nL 581.09181 369.367715 \nL 581.3418 415.708575 \nL 581.591791 437.430852 \nL 581.841782 437.430852 \nL 582.091772 433.086397 \nL 582.341763 424.397486 \nL 582.591754 437.430852 \nL 583.091735 437.430852 \nL 583.341726 344.749134 \nL 583.591716 430.190093 \nL 584.091698 398.330752 \nL 584.341688 428.741941 \nL 584.591679 437.430852 \nL 585.09166 437.430852 \nL 585.341651 435.9827 \nL 585.591642 437.430852 \nL 585.841632 437.430852 \nL 586.091623 427.293789 \nL 586.341614 376.608475 \nL 586.591604 435.9827 \nL 586.841595 437.430852 \nL 587.841558 437.430852 \nL 588.091548 204.278405 \nL 588.341539 391.089993 \nL 588.59153 437.430852 \nL 590.841446 437.430852 \nL 591.091436 417.156726 \nL 591.341427 435.9827 \nL 591.591418 425.845637 \nL 591.841408 437.430852 \nL 592.59138 437.430852 \nL 592.841371 408.467815 \nL 593.091362 437.430852 \nL 593.341352 435.9827 \nL 593.591343 437.430852 \nL 595.341278 437.430852 \nL 595.591268 218.759923 \nL 595.841259 393.986297 \nL 596.09125 437.430852 \nL 596.841222 437.430852 \nL 597.091212 417.156726 \nL 597.591194 437.430852 \nL 597.841184 435.9827 \nL 598.091175 437.430852 \nL 598.591156 437.430852 \nL 599.091138 418.604878 \nL 599.341128 393.986297 \nL 599.591119 437.430852 \nL 599.84111 433.086397 \nL 600.0911 437.430852 \nL 601.591044 437.430852 \nL 601.841035 382.401082 \nL 602.091026 435.9827 \nL 602.341016 437.430852 \nL 602.591007 437.430852 \nL 602.840998 341.85283 \nL 603.340979 430.190093 \nL 603.59097 437.430852 \nL 604.090951 437.430852 \nL 604.340942 414.260423 \nL 604.590932 437.430852 \nL 605.590895 437.430852 \nL 605.840886 346.197286 \nL 606.090876 418.604878 \nL 606.340867 356.334349 \nL 606.590858 428.741941 \nL 606.840848 437.430852 \nL 608.840774 437.430852 \nL 609.090764 418.604878 \nL 609.340755 437.430852 \nL 611.34068 437.430852 \nL 611.590671 360.678804 \nL 611.840662 434.534549 \nL 612.090652 437.430852 \nL 612.340643 411.364119 \nL 612.590634 124.630053 \nL 612.840624 437.430852 \nL 613.840587 437.430852 \nL 614.090578 434.534549 \nL 614.340568 425.845637 \nL 614.590559 424.397486 \nL 614.84055 434.534549 \nL 615.09054 437.430852 \nL 615.590522 437.430852 \nL 615.840512 404.12336 \nL 616.090503 437.430852 \nL 619.090391 437.430852 \nL 619.340382 434.534549 \nL 619.590372 437.430852 \nL 619.840363 437.430852 \nL 619.840363 437.430852 \n\" style=\"fill:none;stroke:#1f77b4;stroke-linecap:square;stroke-width:1.5;\"/>\n   </g>\n   <g id=\"line2d_33\">\n    <path clip-path=\"url(#pb6e48a73b7)\" d=\"M 620.090354 425.324303 \nL 620.340344 436.098553 \nL 620.590335 437.315 \nL 620.840326 430.016315 \nL 621.090316 426.830381 \nL 621.340307 428.799867 \nL 621.590298 429.20535 \nL 621.840288 425.324303 \nL 622.090279 436.098553 \nL 622.34027 437.315 \nL 622.59026 429.900463 \nL 622.840251 426.830381 \nL 623.340232 431.174836 \nL 623.590223 425.324303 \nL 623.840214 436.098553 \nL 624.090204 437.315 \nL 624.340195 429.49498 \nL 624.590186 426.830381 \nL 624.840176 429.20535 \nL 625.340158 425.324303 \nL 625.590148 436.098553 \nL 625.840139 437.315 \nL 626.09013 429.49498 \nL 626.34012 426.830381 \nL 626.590111 429.20535 \nL 627.090092 425.324303 \nL 627.340083 436.098553 \nL 627.590074 437.315 \nL 627.840064 435.750996 \nL 628.090055 436.446109 \nL 628.340046 427.930976 \nL 628.590036 428.046828 \nL 628.840027 416.80917 \nL 629.090018 425.729785 \nL 629.340008 424.455412 \nL 629.589999 429.321202 \nL 630.08998 431.11691 \nL 630.339971 427.641346 \nL 630.589962 412.52264 \nL 630.839952 423.123112 \nL 631.339934 432.043727 \nL 631.589924 430.421797 \nL 631.839915 432.043727 \nL 632.089906 428.915719 \nL 632.339896 421.732886 \nL 632.589887 423.123112 \nL 632.839878 423.702373 \nL 633.089868 429.263276 \nL 633.339859 431.696171 \nL 633.58985 432.217506 \nL 634.089831 422.138369 \nL 634.339822 423.238964 \nL 634.589812 423.702373 \nL 634.839803 429.610832 \nL 635.089794 431.174836 \nL 635.339784 428.799867 \nL 635.589775 428.568163 \nL 635.839766 418.083544 \nL 636.089756 421.848738 \nL 636.339747 423.354816 \nL 637.089719 430.769354 \nL 637.33971 428.741941 \nL 637.5897 423.00726 \nL 637.839691 422.659703 \nL 638.089682 427.930976 \nL 638.339672 425.382229 \nL 638.589663 429.900463 \nL 638.839654 430.421797 \nL 639.089644 429.321202 \nL 639.339635 424.513338 \nL 639.589626 422.196295 \nL 639.839616 426.366972 \nL 640.089607 425.498081 \nL 640.339598 427.235863 \nL 640.589588 430.363871 \nL 640.839579 431.638245 \nL 641.33956 426.656603 \nL 641.589551 420.979847 \nL 641.839542 428.799867 \nL 642.089532 431.290688 \nL 642.339523 429.147424 \nL 642.589514 432.275432 \nL 642.839504 428.799867 \nL 643.089495 431.232762 \nL 643.339486 431.406541 \nL 643.589476 428.394385 \nL 643.839467 429.726684 \nL 644.339448 425.671859 \nL 644.83943 431.174836 \nL 645.08942 430.479723 \nL 645.589402 426.656603 \nL 645.839392 427.293789 \nL 646.089383 426.714529 \nL 646.339374 430.190093 \nL 646.589364 429.379128 \nL 646.839355 431.638245 \nL 647.339336 423.238964 \nL 647.589327 421.617034 \nL 648.089308 430.82728 \nL 648.339299 432.565062 \nL 648.83928 428.741941 \nL 649.089271 423.238964 \nL 649.339262 422.022517 \nL 649.589252 419.995104 \nL 649.839243 431.290688 \nL 650.089234 429.958389 \nL 651.339187 416.577466 \nL 651.589178 434.013214 \nL 651.839168 432.295066 \nL 652.089159 425.981124 \nL 652.33915 425.613933 \nL 652.58914 428.568163 \nL 652.839131 420.168882 \nL 653.339112 433.202249 \nL 653.589103 431.136545 \nL 653.839094 424.590899 \nL 654.339075 430.711428 \nL 654.589066 421.211552 \nL 654.839056 426.309046 \nL 655.089047 433.839436 \nL 655.339038 431.252397 \nL 655.589028 422.911042 \nL 655.839019 428.684015 \nL 656.08901 424.687116 \nL 656.339 425.613933 \nL 656.838982 434.476623 \nL 657.338963 428.935354 \nL 657.588954 428.684015 \nL 657.838944 433.491879 \nL 658.088935 424.687116 \nL 658.338926 423.876151 \nL 658.588916 434.708327 \nL 658.838907 436.118187 \nL 659.088898 428.935354 \nL 659.338888 418.025618 \nL 659.588879 421.906664 \nL 659.83887 423.760299 \nL 660.08886 427.293789 \nL 660.338851 434.476623 \nL 660.588842 436.118187 \nL 660.838832 428.935354 \nL 661.088823 417.967691 \nL 661.338814 415.940279 \nL 661.588804 423.818225 \nL 661.838795 427.293789 \nL 662.088786 434.418696 \nL 662.338776 435.73234 \nL 662.588767 429.147424 \nL 662.838758 416.751244 \nL 663.088748 416.635392 \nL 663.338739 423.818225 \nL 663.58873 421.211552 \nL 663.83872 435.113809 \nL 664.338702 426.424898 \nL 664.588692 417.040874 \nL 664.838683 412.175084 \nL 665.088674 424.62919 \nL 665.338664 422.717629 \nL 665.588655 435.113809 \nL 665.838646 434.997957 \nL 666.088636 430.248019 \nL 666.088636 430.248019 \n\" style=\"fill:none;stroke:#ffa500;stroke-linecap:square;stroke-width:1.5;\"/>\n   </g>\n   <g id=\"patch_3\">\n    <path d=\"M 26.925 457.198125 \nL 26.925 22.318125 \n\" style=\"fill:none;stroke:#000000;stroke-linecap:square;stroke-linejoin:miter;stroke-width:0.8;\"/>\n   </g>\n   <g id=\"patch_4\">\n    <path d=\"M 696.525 457.198125 \nL 696.525 22.318125 \n\" style=\"fill:none;stroke:#000000;stroke-linecap:square;stroke-linejoin:miter;stroke-width:0.8;\"/>\n   </g>\n   <g id=\"patch_5\">\n    <path d=\"M 26.925 457.198125 \nL 696.525 457.198125 \n\" style=\"fill:none;stroke:#000000;stroke-linecap:square;stroke-linejoin:miter;stroke-width:0.8;\"/>\n   </g>\n   <g id=\"patch_6\">\n    <path d=\"M 26.925 22.318125 \nL 696.525 22.318125 \n\" style=\"fill:none;stroke:#000000;stroke-linecap:square;stroke-linejoin:miter;stroke-width:0.8;\"/>\n   </g>\n   <g id=\"text_33\">\n    <!-- Rainfall amount from 2015 - August 2021 -->\n    <g transform=\"translate(237.170625 16.318125)scale(0.12 -0.12)\">\n     <defs>\n      <path d=\"M 44.390625 34.1875 \nQ 47.5625 33.109375 50.5625 29.59375 \nQ 53.5625 26.078125 56.59375 19.921875 \nL 66.609375 0 \nL 56 0 \nL 46.6875 18.703125 \nQ 43.0625 26.03125 39.671875 28.421875 \nQ 36.28125 30.8125 30.421875 30.8125 \nL 19.671875 30.8125 \nL 19.671875 0 \nL 9.8125 0 \nL 9.8125 72.90625 \nL 32.078125 72.90625 \nQ 44.578125 72.90625 50.734375 67.671875 \nQ 56.890625 62.453125 56.890625 51.90625 \nQ 56.890625 45.015625 53.6875 40.46875 \nQ 50.484375 35.9375 44.390625 34.1875 \nz\nM 19.671875 64.796875 \nL 19.671875 38.921875 \nL 32.078125 38.921875 \nQ 39.203125 38.921875 42.84375 42.21875 \nQ 46.484375 45.515625 46.484375 51.90625 \nQ 46.484375 58.296875 42.84375 61.546875 \nQ 39.203125 64.796875 32.078125 64.796875 \nz\n\" id=\"DejaVuSans-82\"/>\n      <path d=\"M 9.421875 54.6875 \nL 18.40625 54.6875 \nL 18.40625 0 \nL 9.421875 0 \nz\nM 9.421875 75.984375 \nL 18.40625 75.984375 \nL 18.40625 64.59375 \nL 9.421875 64.59375 \nz\n\" id=\"DejaVuSans-105\"/>\n      <path d=\"M 54.890625 33.015625 \nL 54.890625 0 \nL 45.90625 0 \nL 45.90625 32.71875 \nQ 45.90625 40.484375 42.875 44.328125 \nQ 39.84375 48.1875 33.796875 48.1875 \nQ 26.515625 48.1875 22.3125 43.546875 \nQ 18.109375 38.921875 18.109375 30.90625 \nL 18.109375 0 \nL 9.078125 0 \nL 9.078125 54.6875 \nL 18.109375 54.6875 \nL 18.109375 46.1875 \nQ 21.34375 51.125 25.703125 53.5625 \nQ 30.078125 56 35.796875 56 \nQ 45.21875 56 50.046875 50.171875 \nQ 54.890625 44.34375 54.890625 33.015625 \nz\n\" id=\"DejaVuSans-110\"/>\n      <path d=\"M 37.109375 75.984375 \nL 37.109375 68.5 \nL 28.515625 68.5 \nQ 23.6875 68.5 21.796875 66.546875 \nQ 19.921875 64.59375 19.921875 59.515625 \nL 19.921875 54.6875 \nL 34.71875 54.6875 \nL 34.71875 47.703125 \nL 19.921875 47.703125 \nL 19.921875 0 \nL 10.890625 0 \nL 10.890625 47.703125 \nL 2.296875 47.703125 \nL 2.296875 54.6875 \nL 10.890625 54.6875 \nL 10.890625 58.5 \nQ 10.890625 67.625 15.140625 71.796875 \nQ 19.390625 75.984375 28.609375 75.984375 \nz\n\" id=\"DejaVuSans-102\"/>\n      <path d=\"M 9.421875 75.984375 \nL 18.40625 75.984375 \nL 18.40625 0 \nL 9.421875 0 \nz\n\" id=\"DejaVuSans-108\"/>\n      <path id=\"DejaVuSans-32\"/>\n      <path d=\"M 52 44.1875 \nQ 55.375 50.25 60.0625 53.125 \nQ 64.75 56 71.09375 56 \nQ 79.640625 56 84.28125 50.015625 \nQ 88.921875 44.046875 88.921875 33.015625 \nL 88.921875 0 \nL 79.890625 0 \nL 79.890625 32.71875 \nQ 79.890625 40.578125 77.09375 44.375 \nQ 74.3125 48.1875 68.609375 48.1875 \nQ 61.625 48.1875 57.5625 43.546875 \nQ 53.515625 38.921875 53.515625 30.90625 \nL 53.515625 0 \nL 44.484375 0 \nL 44.484375 32.71875 \nQ 44.484375 40.625 41.703125 44.40625 \nQ 38.921875 48.1875 33.109375 48.1875 \nQ 26.21875 48.1875 22.15625 43.53125 \nQ 18.109375 38.875 18.109375 30.90625 \nL 18.109375 0 \nL 9.078125 0 \nL 9.078125 54.6875 \nL 18.109375 54.6875 \nL 18.109375 46.1875 \nQ 21.1875 51.21875 25.484375 53.609375 \nQ 29.78125 56 35.6875 56 \nQ 41.65625 56 45.828125 52.96875 \nQ 50 49.953125 52 44.1875 \nz\n\" id=\"DejaVuSans-109\"/>\n      <path d=\"M 30.609375 48.390625 \nQ 23.390625 48.390625 19.1875 42.75 \nQ 14.984375 37.109375 14.984375 27.296875 \nQ 14.984375 17.484375 19.15625 11.84375 \nQ 23.34375 6.203125 30.609375 6.203125 \nQ 37.796875 6.203125 41.984375 11.859375 \nQ 46.1875 17.53125 46.1875 27.296875 \nQ 46.1875 37.015625 41.984375 42.703125 \nQ 37.796875 48.390625 30.609375 48.390625 \nz\nM 30.609375 56 \nQ 42.328125 56 49.015625 48.375 \nQ 55.71875 40.765625 55.71875 27.296875 \nQ 55.71875 13.875 49.015625 6.21875 \nQ 42.328125 -1.421875 30.609375 -1.421875 \nQ 18.84375 -1.421875 12.171875 6.21875 \nQ 5.515625 13.875 5.515625 27.296875 \nQ 5.515625 40.765625 12.171875 48.375 \nQ 18.84375 56 30.609375 56 \nz\n\" id=\"DejaVuSans-111\"/>\n      <path d=\"M 8.5 21.578125 \nL 8.5 54.6875 \nL 17.484375 54.6875 \nL 17.484375 21.921875 \nQ 17.484375 14.15625 20.5 10.265625 \nQ 23.53125 6.390625 29.59375 6.390625 \nQ 36.859375 6.390625 41.078125 11.03125 \nQ 45.3125 15.671875 45.3125 23.6875 \nL 45.3125 54.6875 \nL 54.296875 54.6875 \nL 54.296875 0 \nL 45.3125 0 \nL 45.3125 8.40625 \nQ 42.046875 3.421875 37.71875 1 \nQ 33.40625 -1.421875 27.6875 -1.421875 \nQ 18.265625 -1.421875 13.375 4.4375 \nQ 8.5 10.296875 8.5 21.578125 \nz\nM 31.109375 56 \nz\n\" id=\"DejaVuSans-117\"/>\n      <path d=\"M 41.109375 46.296875 \nQ 39.59375 47.171875 37.8125 47.578125 \nQ 36.03125 48 33.890625 48 \nQ 26.265625 48 22.1875 43.046875 \nQ 18.109375 38.09375 18.109375 28.8125 \nL 18.109375 0 \nL 9.078125 0 \nL 9.078125 54.6875 \nL 18.109375 54.6875 \nL 18.109375 46.1875 \nQ 20.953125 51.171875 25.484375 53.578125 \nQ 30.03125 56 36.53125 56 \nQ 37.453125 56 38.578125 55.875 \nQ 39.703125 55.765625 41.0625 55.515625 \nz\n\" id=\"DejaVuSans-114\"/>\n      <path d=\"M 34.1875 63.1875 \nL 20.796875 26.90625 \nL 47.609375 26.90625 \nz\nM 28.609375 72.90625 \nL 39.796875 72.90625 \nL 67.578125 0 \nL 57.328125 0 \nL 50.6875 18.703125 \nL 17.828125 18.703125 \nL 11.1875 0 \nL 0.78125 0 \nz\n\" id=\"DejaVuSans-65\"/>\n      <path d=\"M 45.40625 27.984375 \nQ 45.40625 37.75 41.375 43.109375 \nQ 37.359375 48.484375 30.078125 48.484375 \nQ 22.859375 48.484375 18.828125 43.109375 \nQ 14.796875 37.75 14.796875 27.984375 \nQ 14.796875 18.265625 18.828125 12.890625 \nQ 22.859375 7.515625 30.078125 7.515625 \nQ 37.359375 7.515625 41.375 12.890625 \nQ 45.40625 18.265625 45.40625 27.984375 \nz\nM 54.390625 6.78125 \nQ 54.390625 -7.171875 48.1875 -13.984375 \nQ 42 -20.796875 29.203125 -20.796875 \nQ 24.46875 -20.796875 20.265625 -20.09375 \nQ 16.0625 -19.390625 12.109375 -17.921875 \nL 12.109375 -9.1875 \nQ 16.0625 -11.328125 19.921875 -12.34375 \nQ 23.78125 -13.375 27.78125 -13.375 \nQ 36.625 -13.375 41.015625 -8.765625 \nQ 45.40625 -4.15625 45.40625 5.171875 \nL 45.40625 9.625 \nQ 42.625 4.78125 38.28125 2.390625 \nQ 33.9375 0 27.875 0 \nQ 17.828125 0 11.671875 7.65625 \nQ 5.515625 15.328125 5.515625 27.984375 \nQ 5.515625 40.671875 11.671875 48.328125 \nQ 17.828125 56 27.875 56 \nQ 33.9375 56 38.28125 53.609375 \nQ 42.625 51.21875 45.40625 46.390625 \nL 45.40625 54.6875 \nL 54.390625 54.6875 \nz\n\" id=\"DejaVuSans-103\"/>\n      <path d=\"M 44.28125 53.078125 \nL 44.28125 44.578125 \nQ 40.484375 46.53125 36.375 47.5 \nQ 32.28125 48.484375 27.875 48.484375 \nQ 21.1875 48.484375 17.84375 46.4375 \nQ 14.5 44.390625 14.5 40.28125 \nQ 14.5 37.15625 16.890625 35.375 \nQ 19.28125 33.59375 26.515625 31.984375 \nL 29.59375 31.296875 \nQ 39.15625 29.25 43.1875 25.515625 \nQ 47.21875 21.78125 47.21875 15.09375 \nQ 47.21875 7.46875 41.1875 3.015625 \nQ 35.15625 -1.421875 24.609375 -1.421875 \nQ 20.21875 -1.421875 15.453125 -0.5625 \nQ 10.6875 0.296875 5.421875 2 \nL 5.421875 11.28125 \nQ 10.40625 8.6875 15.234375 7.390625 \nQ 20.0625 6.109375 24.8125 6.109375 \nQ 31.15625 6.109375 34.5625 8.28125 \nQ 37.984375 10.453125 37.984375 14.40625 \nQ 37.984375 18.0625 35.515625 20.015625 \nQ 33.0625 21.96875 24.703125 23.78125 \nL 21.578125 24.515625 \nQ 13.234375 26.265625 9.515625 29.90625 \nQ 5.8125 33.546875 5.8125 39.890625 \nQ 5.8125 47.609375 11.28125 51.796875 \nQ 16.75 56 26.8125 56 \nQ 31.78125 56 36.171875 55.265625 \nQ 40.578125 54.546875 44.28125 53.078125 \nz\n\" id=\"DejaVuSans-115\"/>\n     </defs>\n     <use xlink:href=\"#DejaVuSans-82\"/>\n     <use x=\"67.232422\" xlink:href=\"#DejaVuSans-97\"/>\n     <use x=\"128.511719\" xlink:href=\"#DejaVuSans-105\"/>\n     <use x=\"156.294922\" xlink:href=\"#DejaVuSans-110\"/>\n     <use x=\"219.673828\" xlink:href=\"#DejaVuSans-102\"/>\n     <use x=\"254.878906\" xlink:href=\"#DejaVuSans-97\"/>\n     <use x=\"316.158203\" xlink:href=\"#DejaVuSans-108\"/>\n     <use x=\"343.941406\" xlink:href=\"#DejaVuSans-108\"/>\n     <use x=\"371.724609\" xlink:href=\"#DejaVuSans-32\"/>\n     <use x=\"403.511719\" xlink:href=\"#DejaVuSans-97\"/>\n     <use x=\"464.791016\" xlink:href=\"#DejaVuSans-109\"/>\n     <use x=\"562.203125\" xlink:href=\"#DejaVuSans-111\"/>\n     <use x=\"623.384766\" xlink:href=\"#DejaVuSans-117\"/>\n     <use x=\"686.763672\" xlink:href=\"#DejaVuSans-110\"/>\n     <use x=\"750.142578\" xlink:href=\"#DejaVuSans-116\"/>\n     <use x=\"789.351562\" xlink:href=\"#DejaVuSans-32\"/>\n     <use x=\"821.138672\" xlink:href=\"#DejaVuSans-102\"/>\n     <use x=\"856.34375\" xlink:href=\"#DejaVuSans-114\"/>\n     <use x=\"895.207031\" xlink:href=\"#DejaVuSans-111\"/>\n     <use x=\"956.388672\" xlink:href=\"#DejaVuSans-109\"/>\n     <use x=\"1053.800781\" xlink:href=\"#DejaVuSans-32\"/>\n     <use x=\"1085.587891\" xlink:href=\"#DejaVuSans-50\"/>\n     <use x=\"1149.210938\" xlink:href=\"#DejaVuSans-48\"/>\n     <use x=\"1212.833984\" xlink:href=\"#DejaVuSans-49\"/>\n     <use x=\"1276.457031\" xlink:href=\"#DejaVuSans-53\"/>\n     <use x=\"1340.080078\" xlink:href=\"#DejaVuSans-32\"/>\n     <use x=\"1371.867188\" xlink:href=\"#DejaVuSans-45\"/>\n     <use x=\"1407.951172\" xlink:href=\"#DejaVuSans-32\"/>\n     <use x=\"1439.738281\" xlink:href=\"#DejaVuSans-65\"/>\n     <use x=\"1508.146484\" xlink:href=\"#DejaVuSans-117\"/>\n     <use x=\"1571.525391\" xlink:href=\"#DejaVuSans-103\"/>\n     <use x=\"1635.001953\" xlink:href=\"#DejaVuSans-117\"/>\n     <use x=\"1698.380859\" xlink:href=\"#DejaVuSans-115\"/>\n     <use x=\"1750.480469\" xlink:href=\"#DejaVuSans-116\"/>\n     <use x=\"1789.689453\" xlink:href=\"#DejaVuSans-32\"/>\n     <use x=\"1821.476562\" xlink:href=\"#DejaVuSans-50\"/>\n     <use x=\"1885.099609\" xlink:href=\"#DejaVuSans-48\"/>\n     <use x=\"1948.722656\" xlink:href=\"#DejaVuSans-50\"/>\n     <use x=\"2012.345703\" xlink:href=\"#DejaVuSans-49\"/>\n    </g>\n   </g>\n  </g>\n </g>\n <defs>\n  <clipPath id=\"pb6e48a73b7\">\n   <rect height=\"434.88\" width=\"669.6\" x=\"26.925\" y=\"22.318125\"/>\n  </clipPath>\n </defs>\n</svg>\n",
      "image/png": "[encoded data removed]"
     },
     "metadata": {
      "needs_background": "light"
     }
    }
   ],
   "source": [
    "plt.figure(figsize=(12,8))\n",
    "ax = plt.subplot()\n",
    "\n",
    "plt.plot(range(2251), df['Rainfall amount (millimetres)'][:2251])\n",
    "plt.plot(range(2251,2436), df['predict_rainfall'][2251:], color = 'orange')\n",
    "\n",
    "ax.set_xticks(list(range(0,len(df),100)))\n",
    "ax.set_xticklabels(df.date[::100], rotation = 90, fontsize = 12)\n",
    "plt.title('Rainfall amount from 2015 - August 2021', fontsize = 12)\n",
    "plt.xlabel('Date', fontsize = 17)\n",
    "\n",
    "plt.show()"
   ]
  },
  {
   "cell_type": "code",
   "execution_count": 44,
   "metadata": {},
   "outputs": [
    {
     "output_type": "stream",
     "name": "stdout",
     "text": [
      "../iteration_1/rainfall_assocation.ipynb\n../iteration_1/rainfall_EDA.ipynb\n../iteration_1/.DS_Store\n../iteration_1/weights.36.hdf5\n../iteration_1/rainfall_prediciton.ipynb\n../iteration_1/PredictedValueswithNANMINMAX\n../iteration_1/MinMax.ipynb\n../iteration_1/rainfall_dataset_loading.ipynb\n../iteration_1/Min Max Temp.csv\n../iteration_1/OnlyPredictionsMINMAX\n../iteration_1/rainfall_predicting.csv\n../iteration_1/Added dates.csv\n../iteration_1/CurrentandPredictedValuesMINMAX\n../iteration_1/solar_exposure_updated.csv\n../iteration_1/solar_exposure.csv\n../iteration_1/rainfall_dataset.csv\n../iteration_1/Solar_exposure_forecasting (1).ipynb\n../iteration_1/final_solar_exposure_dataset.csv\n"
     ]
    }
   ],
   "source": [
    "import pandas as pd \n",
    "from matplotlib import pyplot as plt\n",
    "import os \n",
    "for dirname, _, filename in os.walk('../iteration_1'):\n",
    "    for f in filename:\n",
    "        print(os.path.join(dirname, f))"
   ]
  },
  {
   "cell_type": "code",
   "execution_count": 49,
   "metadata": {},
   "outputs": [
    {
     "output_type": "execute_result",
     "data": {
      "text/plain": [
       "      Unnamed: 0  Year  Month  Day  Day of the Year Day of the Week   Min  \\\n",
       "0              0  2015      1  1.0                1        Thursday  13.3   \n",
       "1              1  2015      1  2.0                2          Friday  15.4   \n",
       "2              2  2015      1  3.0                3        Saturday  20.0   \n",
       "3              3  2015      1  4.0                4          Sunday  16.3   \n",
       "4              4  2015      1  5.0                5          Monday  15.0   \n",
       "...          ...   ...    ...  ...              ...             ...   ...   \n",
       "2430         141     6      8  NaN              239             NaN   6.1   \n",
       "2431         142     6      8  NaN              240             NaN   8.8   \n",
       "2432         143     6      8  NaN              241             NaN   8.5   \n",
       "2433         144     6      8  NaN              242             NaN   9.2   \n",
       "2434         145     6      8  NaN              243             NaN  12.0   \n",
       "\n",
       "       Max  Bool  \n",
       "0     26.9   NaN  \n",
       "1     38.8   NaN  \n",
       "2     38.2   NaN  \n",
       "3     21.4   NaN  \n",
       "4     22.0   NaN  \n",
       "...    ...   ...  \n",
       "2430  14.5  True  \n",
       "2431  20.7  True  \n",
       "2432  17.6  True  \n",
       "2433  19.3  True  \n",
       "2434  19.8  True  \n",
       "\n",
       "[2435 rows x 9 columns]"
      ],
      "text/html": "<div>\n<style scoped>\n    .dataframe tbody tr th:only-of-type {\n        vertical-align: middle;\n    }\n\n    .dataframe tbody tr th {\n        vertical-align: top;\n    }\n\n    .dataframe thead th {\n        text-align: right;\n    }\n</style>\n<table border=\"1\" class=\"dataframe\">\n  <thead>\n    <tr style=\"text-align: right;\">\n      <th></th>\n      <th>Unnamed: 0</th>\n      <th>Year</th>\n      <th>Month</th>\n      <th>Day</th>\n      <th>Day of the Year</th>\n      <th>Day of the Week</th>\n      <th>Min</th>\n      <th>Max</th>\n      <th>Bool</th>\n    </tr>\n  </thead>\n  <tbody>\n    <tr>\n      <th>0</th>\n      <td>0</td>\n      <td>2015</td>\n      <td>1</td>\n      <td>1.0</td>\n      <td>1</td>\n      <td>Thursday</td>\n      <td>13.3</td>\n      <td>26.9</td>\n      <td>NaN</td>\n    </tr>\n    <tr>\n      <th>1</th>\n      <td>1</td>\n      <td>2015</td>\n      <td>1</td>\n      <td>2.0</td>\n      <td>2</td>\n      <td>Friday</td>\n      <td>15.4</td>\n      <td>38.8</td>\n      <td>NaN</td>\n    </tr>\n    <tr>\n      <th>2</th>\n      <td>2</td>\n      <td>2015</td>\n      <td>1</td>\n      <td>3.0</td>\n      <td>3</td>\n      <td>Saturday</td>\n      <td>20.0</td>\n      <td>38.2</td>\n      <td>NaN</td>\n    </tr>\n    <tr>\n      <th>3</th>\n      <td>3</td>\n      <td>2015</td>\n      <td>1</td>\n      <td>4.0</td>\n      <td>4</td>\n      <td>Sunday</td>\n      <td>16.3</td>\n      <td>21.4</td>\n      <td>NaN</td>\n    </tr>\n    <tr>\n      <th>4</th>\n      <td>4</td>\n      <td>2015</td>\n      <td>1</td>\n      <td>5.0</td>\n      <td>5</td>\n      <td>Monday</td>\n      <td>15.0</td>\n      <td>22.0</td>\n      <td>NaN</td>\n    </tr>\n    <tr>\n      <th>...</th>\n      <td>...</td>\n      <td>...</td>\n      <td>...</td>\n      <td>...</td>\n      <td>...</td>\n      <td>...</td>\n      <td>...</td>\n      <td>...</td>\n      <td>...</td>\n    </tr>\n    <tr>\n      <th>2430</th>\n      <td>141</td>\n      <td>6</td>\n      <td>8</td>\n      <td>NaN</td>\n      <td>239</td>\n      <td>NaN</td>\n      <td>6.1</td>\n      <td>14.5</td>\n      <td>True</td>\n    </tr>\n    <tr>\n      <th>2431</th>\n      <td>142</td>\n      <td>6</td>\n      <td>8</td>\n      <td>NaN</td>\n      <td>240</td>\n      <td>NaN</td>\n      <td>8.8</td>\n      <td>20.7</td>\n      <td>True</td>\n    </tr>\n    <tr>\n      <th>2432</th>\n      <td>143</td>\n      <td>6</td>\n      <td>8</td>\n      <td>NaN</td>\n      <td>241</td>\n      <td>NaN</td>\n      <td>8.5</td>\n      <td>17.6</td>\n      <td>True</td>\n    </tr>\n    <tr>\n      <th>2433</th>\n      <td>144</td>\n      <td>6</td>\n      <td>8</td>\n      <td>NaN</td>\n      <td>242</td>\n      <td>NaN</td>\n      <td>9.2</td>\n      <td>19.3</td>\n      <td>True</td>\n    </tr>\n    <tr>\n      <th>2434</th>\n      <td>145</td>\n      <td>6</td>\n      <td>8</td>\n      <td>NaN</td>\n      <td>243</td>\n      <td>NaN</td>\n      <td>12.0</td>\n      <td>19.8</td>\n      <td>True</td>\n    </tr>\n  </tbody>\n</table>\n<p>2435 rows × 9 columns</p>\n</div>"
     },
     "metadata": {},
     "execution_count": 49
    }
   ],
   "source": []
  },
  {
   "cell_type": "code",
   "execution_count": null,
   "metadata": {},
   "outputs": [],
   "source": [
    "\n",
    "num_rows = len(df)\n",
    "for feature in feat_cols:\n",
    "  plt.figure(figsize = (15,4))\n",
    "  plt.plot(range(num_rows), df[feature], label=feature)\n",
    "  plt.xticks(range(0,num_rows,50),df['Date'].loc[::50],rotation=45)\n",
    "  plt.legend()\n",
    "  plt.show()\n",
    "  print('--------------------------------------------------------------------------------------------------------------')"
   ]
  },
  {
   "cell_type": "code",
   "execution_count": 55,
   "metadata": {},
   "outputs": [
    {
     "output_type": "execute_result",
     "data": {
      "text/plain": [
       "78.0"
      ]
     },
     "metadata": {},
     "execution_count": 55
    }
   ],
   "source": []
  }
 ]
}