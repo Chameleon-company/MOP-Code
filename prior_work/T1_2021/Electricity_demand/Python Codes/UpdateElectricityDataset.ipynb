{
  "nbformat": 4,
  "nbformat_minor": 0,
  "metadata": {
    "colab": {
      "name": "UpdateElectricityDataset.ipynb",
      "provenance": [],
      "collapsed_sections": []
    },
    "kernelspec": {
      "name": "python3",
      "display_name": "Python 3"
    },
    "language_info": {
      "name": "python"
    }
  },
  "cells": [
    {
      "cell_type": "code",
      "metadata": {
        "id": "ubwyGD03s5Vm"
      },
      "source": [
        "#Importing packages\n",
        "import numpy as np\n",
        "import pandas as pd\n",
        "import warnings\n",
        "import io\n",
        "warnings.filterwarnings(\"ignore\")\n",
        "from google.colab import files"
      ],
      "execution_count": 1,
      "outputs": []
    },
    {
      "cell_type": "code",
      "metadata": {
        "colab": {
          "resources": {
            "http://localhost:8080/nbextensions/google.colab/files.js": {
              "data": "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",
              "ok": true,
              "headers": [
                [
                  "content-type",
                  "application/javascript"
                ]
              ],
              "status": 200,
              "status_text": ""
            }
          },
          "base_uri": "https://localhost:8080/",
          "height": 73
        },
        "id": "FKRA16rFeCl_",
        "outputId": "0b06b128-2db0-48e8-d3be-abb7238bf623"
      },
      "source": [
        "#Uploading files in colab\n",
        "uploaded = files.upload()"
      ],
      "execution_count": 47,
      "outputs": [
        {
          "output_type": "display_data",
          "data": {
            "text/html": [
              "\n",
              "     <input type=\"file\" id=\"files-7588c420-de92-4563-8042-9565f03d21c5\" name=\"files[]\" multiple disabled\n",
              "        style=\"border:none\" />\n",
              "     <output id=\"result-7588c420-de92-4563-8042-9565f03d21c5\">\n",
              "      Upload widget is only available when the cell has been executed in the\n",
              "      current browser session. Please rerun this cell to enable.\n",
              "      </output>\n",
              "      <script src=\"/nbextensions/google.colab/files.js\"></script> "
            ],
            "text/plain": [
              "<IPython.core.display.HTML object>"
            ]
          },
          "metadata": {
            "tags": []
          }
        },
        {
          "output_type": "stream",
          "text": [
            "Saving PRICE_AND_DEMAND_202102_VIC1.csv to PRICE_AND_DEMAND_202102_VIC1.csv\n"
          ],
          "name": "stdout"
        }
      ]
    },
    {
      "cell_type": "code",
      "metadata": {
        "id": "UvlKf025eIgb"
      },
      "source": [
        "#Fetching data set for rainfall attribute from Bureau of Meteorology\n",
        "datasetrainfall = pd.read_csv(io.BytesIO(uploaded['IDCJAC0009_086338_2020_Data.csv']))"
      ],
      "execution_count": null,
      "outputs": []
    },
    {
      "cell_type": "code",
      "metadata": {
        "id": "2z_hENiwt2Vd"
      },
      "source": [
        "#Fetching data set for solar exposure attribute from Bureau of Meteorology\n",
        "datasetsolarexposure = pd.read_csv(io.BytesIO(uploaded['IDCJAC0016_086338_2020_Data.csv']))"
      ],
      "execution_count": null,
      "outputs": []
    },
    {
      "cell_type": "code",
      "metadata": {
        "id": "Gp1r6LEm2jaq"
      },
      "source": [
        "#Fetching data set for maximum temperature attribute from Bureau of Meteorology\n",
        "datasetmaxtemperature = pd.read_csv(io.BytesIO(uploaded['IDCJAC0010_086338_2020_Data.csv']))"
      ],
      "execution_count": null,
      "outputs": []
    },
    {
      "cell_type": "code",
      "metadata": {
        "id": "hgF6xOYU4yRe"
      },
      "source": [
        "#Manually formed the csv file and integrated data as availability\n",
        "dataschooldays = pd.read_csv(io.BytesIO(uploaded['Schooldata.csv']))"
      ],
      "execution_count": null,
      "outputs": []
    },
    {
      "cell_type": "code",
      "metadata": {
        "id": "PpWv1JY95Rwi"
      },
      "source": [
        "#Data from kaggle data source\n",
        "electricity_demand = pd.read_csv(io.BytesIO(uploaded['electricity_demand.csv']))"
      ],
      "execution_count": null,
      "outputs": []
    },
    {
      "cell_type": "code",
      "metadata": {
        "id": "Fi8VFrC5uPGU"
      },
      "source": [
        "#Manually formed the csv file containing date from 7 October 2020 to 28 February 2021\n",
        "dataset = pd.read_csv(io.BytesIO(uploaded['Missing_Value.csv']))"
      ],
      "execution_count": null,
      "outputs": []
    },
    {
      "cell_type": "code",
      "metadata": {
        "id": "HZrFqz4iyJ2h"
      },
      "source": [
        "#Holiday list is formed using data source https://www.business.vic.gov.au/victorian-public-holidays-and-daylight-saving/victorian-public-holidays-2021\n",
        "holiday_list = ['10/23/2020','11/3/2020','12/25/2020','12/28/2020','1/1/2021','1/26/2021']\n"
      ],
      "execution_count": null,
      "outputs": []
    },
    {
      "cell_type": "code",
      "metadata": {
        "id": "CKuLE5UczE27"
      },
      "source": [
        "#Assigned label 'Y' to all the holidays\n",
        "dataset['holiday'].loc[dataset['date'].isin(holiday_list)] = 'Y'"
      ],
      "execution_count": null,
      "outputs": []
    },
    {
      "cell_type": "code",
      "metadata": {
        "id": "RL_l_JpGEU-K"
      },
      "source": [
        "#Assigned label 'N' to remaining null values\n",
        "dataset['holiday'] = dataset['holiday'].fillna('N')"
      ],
      "execution_count": null,
      "outputs": []
    },
    {
      "cell_type": "code",
      "metadata": {
        "id": "wC6Ml0C90pDQ"
      },
      "source": [
        "#Displaying data\n",
        "dataset.loc[dataset['date'].isin(holiday_list)]"
      ],
      "execution_count": null,
      "outputs": []
    },
    {
      "cell_type": "code",
      "metadata": {
        "colab": {
          "base_uri": "https://localhost:8080/",
          "height": 195
        },
        "id": "ce5zFh5lf7zM",
        "outputId": "22de249d-a804-403c-a4ec-0db44c6180e1"
      },
      "source": [
        "#Display data\n",
        "datasetrainfall.tail()"
      ],
      "execution_count": null,
      "outputs": [
        {
          "output_type": "execute_result",
          "data": {
            "text/html": [
              "<div>\n",
              "<style scoped>\n",
              "    .dataframe tbody tr th:only-of-type {\n",
              "        vertical-align: middle;\n",
              "    }\n",
              "\n",
              "    .dataframe tbody tr th {\n",
              "        vertical-align: top;\n",
              "    }\n",
              "\n",
              "    .dataframe thead th {\n",
              "        text-align: right;\n",
              "    }\n",
              "</style>\n",
              "<table border=\"1\" class=\"dataframe\">\n",
              "  <thead>\n",
              "    <tr style=\"text-align: right;\">\n",
              "      <th></th>\n",
              "      <th>Product code</th>\n",
              "      <th>Bureau of Meteorology station number</th>\n",
              "      <th>Year</th>\n",
              "      <th>Month</th>\n",
              "      <th>Day</th>\n",
              "      <th>Rainfall amount (millimetres)</th>\n",
              "      <th>Period over which rainfall was measured (days)</th>\n",
              "      <th>Quality</th>\n",
              "    </tr>\n",
              "  </thead>\n",
              "  <tbody>\n",
              "    <tr>\n",
              "      <th>140</th>\n",
              "      <td>IDCJAC0009</td>\n",
              "      <td>86338</td>\n",
              "      <td>2021</td>\n",
              "      <td>2</td>\n",
              "      <td>24</td>\n",
              "      <td>0.0</td>\n",
              "      <td>1</td>\n",
              "      <td>N</td>\n",
              "    </tr>\n",
              "    <tr>\n",
              "      <th>141</th>\n",
              "      <td>IDCJAC0009</td>\n",
              "      <td>86338</td>\n",
              "      <td>2021</td>\n",
              "      <td>2</td>\n",
              "      <td>25</td>\n",
              "      <td>0.0</td>\n",
              "      <td>1</td>\n",
              "      <td>N</td>\n",
              "    </tr>\n",
              "    <tr>\n",
              "      <th>142</th>\n",
              "      <td>IDCJAC0009</td>\n",
              "      <td>86338</td>\n",
              "      <td>2021</td>\n",
              "      <td>2</td>\n",
              "      <td>26</td>\n",
              "      <td>0.4</td>\n",
              "      <td>1</td>\n",
              "      <td>N</td>\n",
              "    </tr>\n",
              "    <tr>\n",
              "      <th>143</th>\n",
              "      <td>IDCJAC0009</td>\n",
              "      <td>86338</td>\n",
              "      <td>2021</td>\n",
              "      <td>2</td>\n",
              "      <td>27</td>\n",
              "      <td>0.0</td>\n",
              "      <td>1</td>\n",
              "      <td>N</td>\n",
              "    </tr>\n",
              "    <tr>\n",
              "      <th>144</th>\n",
              "      <td>IDCJAC0009</td>\n",
              "      <td>86338</td>\n",
              "      <td>2021</td>\n",
              "      <td>2</td>\n",
              "      <td>28</td>\n",
              "      <td>0.0</td>\n",
              "      <td>1</td>\n",
              "      <td>N</td>\n",
              "    </tr>\n",
              "  </tbody>\n",
              "</table>\n",
              "</div>"
            ],
            "text/plain": [
              "    Product code  ...  Quality\n",
              "140   IDCJAC0009  ...        N\n",
              "141   IDCJAC0009  ...        N\n",
              "142   IDCJAC0009  ...        N\n",
              "143   IDCJAC0009  ...        N\n",
              "144   IDCJAC0009  ...        N\n",
              "\n",
              "[5 rows x 8 columns]"
            ]
          },
          "metadata": {
            "tags": []
          },
          "execution_count": 42
        }
      ]
    },
    {
      "cell_type": "code",
      "metadata": {
        "id": "84QFDVY0tjR4"
      },
      "source": [
        "#Creating dataframe for solarexposure\n",
        "datasetsolarexposure.head()\n",
        "\n",
        "datasolar = pd.DataFrame(columns=['date','solar_exposure'])\n",
        "\n",
        "datasolar['date'] = datasetsolarexposure['Month'].map(str)+'/'+datasetsolarexposure['Day'].map(str)+'/'+datasetsolarexposure['Year'].map(str)\n",
        "datasolar['solar_exposure'] = datasetsolarexposure['Daily global solar exposure (MJ/m*m)']"
      ],
      "execution_count": null,
      "outputs": []
    },
    {
      "cell_type": "code",
      "metadata": {
        "colab": {
          "base_uri": "https://localhost:8080/",
          "height": 195
        },
        "id": "eOjD4A1Lvj60",
        "outputId": "f38ce835-36ca-4d87-9444-e0da8387ff3e"
      },
      "source": [
        "datasolar.head()"
      ],
      "execution_count": null,
      "outputs": [
        {
          "output_type": "execute_result",
          "data": {
            "text/html": [
              "<div>\n",
              "<style scoped>\n",
              "    .dataframe tbody tr th:only-of-type {\n",
              "        vertical-align: middle;\n",
              "    }\n",
              "\n",
              "    .dataframe tbody tr th {\n",
              "        vertical-align: top;\n",
              "    }\n",
              "\n",
              "    .dataframe thead th {\n",
              "        text-align: right;\n",
              "    }\n",
              "</style>\n",
              "<table border=\"1\" class=\"dataframe\">\n",
              "  <thead>\n",
              "    <tr style=\"text-align: right;\">\n",
              "      <th></th>\n",
              "      <th>date</th>\n",
              "      <th>solar_exposure</th>\n",
              "    </tr>\n",
              "  </thead>\n",
              "  <tbody>\n",
              "    <tr>\n",
              "      <th>0</th>\n",
              "      <td>10/7/2020</td>\n",
              "      <td>8.6</td>\n",
              "    </tr>\n",
              "    <tr>\n",
              "      <th>1</th>\n",
              "      <td>10/8/2020</td>\n",
              "      <td>9.7</td>\n",
              "    </tr>\n",
              "    <tr>\n",
              "      <th>2</th>\n",
              "      <td>10/9/2020</td>\n",
              "      <td>12.1</td>\n",
              "    </tr>\n",
              "    <tr>\n",
              "      <th>3</th>\n",
              "      <td>10/10/2020</td>\n",
              "      <td>17.7</td>\n",
              "    </tr>\n",
              "    <tr>\n",
              "      <th>4</th>\n",
              "      <td>10/11/2020</td>\n",
              "      <td>20.7</td>\n",
              "    </tr>\n",
              "  </tbody>\n",
              "</table>\n",
              "</div>"
            ],
            "text/plain": [
              "         date  solar_exposure\n",
              "0   10/7/2020             8.6\n",
              "1   10/8/2020             9.7\n",
              "2   10/9/2020            12.1\n",
              "3  10/10/2020            17.7\n",
              "4  10/11/2020            20.7"
            ]
          },
          "metadata": {
            "tags": []
          },
          "execution_count": 37
        }
      ]
    },
    {
      "cell_type": "code",
      "metadata": {
        "id": "9NsdBs0Gv4U8"
      },
      "source": [
        "#Updating the data set on the basis of dates for solar exposure attribute\n",
        "dataset.update(datasolar)"
      ],
      "execution_count": null,
      "outputs": []
    },
    {
      "cell_type": "code",
      "metadata": {
        "id": "Pn5OUcZy1AZD"
      },
      "source": [
        "#Creating dataframe for rainfall\n",
        "datarainfall = pd.DataFrame(columns=['date','rainfall'])\n",
        "\n",
        "datarainfall['date'] = datasetrainfall['Month'].map(str)+'/'+datasetrainfall['Day'].map(str)+'/'+datasetrainfall['Year'].map(str)\n",
        "datarainfall['rainfall'] = datasetrainfall['Rainfall amount (millimetres)']"
      ],
      "execution_count": null,
      "outputs": []
    },
    {
      "cell_type": "code",
      "metadata": {
        "id": "JJPqd0DqePB7"
      },
      "source": [
        "#Updating the data set on the basis of dates for rainfall attribute\n",
        "dataset.update(datarainfall)"
      ],
      "execution_count": null,
      "outputs": []
    },
    {
      "cell_type": "code",
      "metadata": {
        "colab": {
          "base_uri": "https://localhost:8080/",
          "height": 215
        },
        "id": "w6rlcSFV1di3",
        "outputId": "de1505d3-2fb3-443a-dd41-42d1bbe8502e"
      },
      "source": [
        "dataset.head()"
      ],
      "execution_count": null,
      "outputs": [
        {
          "output_type": "execute_result",
          "data": {
            "text/html": [
              "<div>\n",
              "<style scoped>\n",
              "    .dataframe tbody tr th:only-of-type {\n",
              "        vertical-align: middle;\n",
              "    }\n",
              "\n",
              "    .dataframe tbody tr th {\n",
              "        vertical-align: top;\n",
              "    }\n",
              "\n",
              "    .dataframe thead th {\n",
              "        text-align: right;\n",
              "    }\n",
              "</style>\n",
              "<table border=\"1\" class=\"dataframe\">\n",
              "  <thead>\n",
              "    <tr style=\"text-align: right;\">\n",
              "      <th></th>\n",
              "      <th>date</th>\n",
              "      <th>demand</th>\n",
              "      <th>RRP</th>\n",
              "      <th>demand_pos_RRP</th>\n",
              "      <th>RRP_positive</th>\n",
              "      <th>demand_neg_RRP</th>\n",
              "      <th>RRP_negative</th>\n",
              "      <th>frac_at_neg_RRP</th>\n",
              "      <th>min_temperature</th>\n",
              "      <th>max_temperature</th>\n",
              "      <th>solar_exposure</th>\n",
              "      <th>rainfall</th>\n",
              "      <th>school_day</th>\n",
              "      <th>holiday</th>\n",
              "    </tr>\n",
              "  </thead>\n",
              "  <tbody>\n",
              "    <tr>\n",
              "      <th>140</th>\n",
              "      <td>2/24/2021</td>\n",
              "      <td>NaN</td>\n",
              "      <td>NaN</td>\n",
              "      <td>NaN</td>\n",
              "      <td>NaN</td>\n",
              "      <td>NaN</td>\n",
              "      <td>NaN</td>\n",
              "      <td>NaN</td>\n",
              "      <td>NaN</td>\n",
              "      <td>20.2</td>\n",
              "      <td>23.3</td>\n",
              "      <td>0.0</td>\n",
              "      <td>Y</td>\n",
              "      <td>N</td>\n",
              "    </tr>\n",
              "    <tr>\n",
              "      <th>141</th>\n",
              "      <td>2/25/2021</td>\n",
              "      <td>NaN</td>\n",
              "      <td>NaN</td>\n",
              "      <td>NaN</td>\n",
              "      <td>NaN</td>\n",
              "      <td>NaN</td>\n",
              "      <td>NaN</td>\n",
              "      <td>NaN</td>\n",
              "      <td>NaN</td>\n",
              "      <td>24.3</td>\n",
              "      <td>18.9</td>\n",
              "      <td>0.0</td>\n",
              "      <td>Y</td>\n",
              "      <td>N</td>\n",
              "    </tr>\n",
              "    <tr>\n",
              "      <th>142</th>\n",
              "      <td>2/26/2021</td>\n",
              "      <td>NaN</td>\n",
              "      <td>NaN</td>\n",
              "      <td>NaN</td>\n",
              "      <td>NaN</td>\n",
              "      <td>NaN</td>\n",
              "      <td>NaN</td>\n",
              "      <td>NaN</td>\n",
              "      <td>NaN</td>\n",
              "      <td>19.7</td>\n",
              "      <td>15.7</td>\n",
              "      <td>0.4</td>\n",
              "      <td>Y</td>\n",
              "      <td>N</td>\n",
              "    </tr>\n",
              "    <tr>\n",
              "      <th>143</th>\n",
              "      <td>2/27/2021</td>\n",
              "      <td>NaN</td>\n",
              "      <td>NaN</td>\n",
              "      <td>NaN</td>\n",
              "      <td>NaN</td>\n",
              "      <td>NaN</td>\n",
              "      <td>NaN</td>\n",
              "      <td>NaN</td>\n",
              "      <td>NaN</td>\n",
              "      <td>18.6</td>\n",
              "      <td>11.8</td>\n",
              "      <td>0.0</td>\n",
              "      <td>N</td>\n",
              "      <td>N</td>\n",
              "    </tr>\n",
              "    <tr>\n",
              "      <th>144</th>\n",
              "      <td>2/28/2021</td>\n",
              "      <td>NaN</td>\n",
              "      <td>NaN</td>\n",
              "      <td>NaN</td>\n",
              "      <td>NaN</td>\n",
              "      <td>NaN</td>\n",
              "      <td>NaN</td>\n",
              "      <td>NaN</td>\n",
              "      <td>NaN</td>\n",
              "      <td>26.7</td>\n",
              "      <td>23.3</td>\n",
              "      <td>0.0</td>\n",
              "      <td>N</td>\n",
              "      <td>N</td>\n",
              "    </tr>\n",
              "  </tbody>\n",
              "</table>\n",
              "</div>"
            ],
            "text/plain": [
              "          date  demand  RRP  ...  rainfall  school_day  holiday\n",
              "140  2/24/2021     NaN  NaN  ...       0.0           Y        N\n",
              "141  2/25/2021     NaN  NaN  ...       0.0           Y        N\n",
              "142  2/26/2021     NaN  NaN  ...       0.4           Y        N\n",
              "143  2/27/2021     NaN  NaN  ...       0.0           N        N\n",
              "144  2/28/2021     NaN  NaN  ...       0.0           N        N\n",
              "\n",
              "[5 rows x 14 columns]"
            ]
          },
          "metadata": {
            "tags": []
          },
          "execution_count": 59
        }
      ]
    },
    {
      "cell_type": "code",
      "metadata": {
        "colab": {
          "base_uri": "https://localhost:8080/",
          "height": 195
        },
        "id": "V8sn4rTd3Nks",
        "outputId": "1e33b8e0-5fd4-467a-da3f-c675596a9f1f"
      },
      "source": [
        "datasetmaxtemperature.head()"
      ],
      "execution_count": null,
      "outputs": [
        {
          "output_type": "execute_result",
          "data": {
            "text/html": [
              "<div>\n",
              "<style scoped>\n",
              "    .dataframe tbody tr th:only-of-type {\n",
              "        vertical-align: middle;\n",
              "    }\n",
              "\n",
              "    .dataframe tbody tr th {\n",
              "        vertical-align: top;\n",
              "    }\n",
              "\n",
              "    .dataframe thead th {\n",
              "        text-align: right;\n",
              "    }\n",
              "</style>\n",
              "<table border=\"1\" class=\"dataframe\">\n",
              "  <thead>\n",
              "    <tr style=\"text-align: right;\">\n",
              "      <th></th>\n",
              "      <th>Product code</th>\n",
              "      <th>Bureau of Meteorology station number</th>\n",
              "      <th>Year</th>\n",
              "      <th>Month</th>\n",
              "      <th>Day</th>\n",
              "      <th>Maximum temperature (Degree C)</th>\n",
              "      <th>Days of accumulation of maximum temperature</th>\n",
              "      <th>Quality</th>\n",
              "    </tr>\n",
              "  </thead>\n",
              "  <tbody>\n",
              "    <tr>\n",
              "      <th>0</th>\n",
              "      <td>IDCJAC0010</td>\n",
              "      <td>86338</td>\n",
              "      <td>2020</td>\n",
              "      <td>10</td>\n",
              "      <td>7</td>\n",
              "      <td>17.2</td>\n",
              "      <td>1</td>\n",
              "      <td>Y</td>\n",
              "    </tr>\n",
              "    <tr>\n",
              "      <th>1</th>\n",
              "      <td>IDCJAC0010</td>\n",
              "      <td>86338</td>\n",
              "      <td>2020</td>\n",
              "      <td>10</td>\n",
              "      <td>8</td>\n",
              "      <td>16.9</td>\n",
              "      <td>1</td>\n",
              "      <td>Y</td>\n",
              "    </tr>\n",
              "    <tr>\n",
              "      <th>2</th>\n",
              "      <td>IDCJAC0010</td>\n",
              "      <td>86338</td>\n",
              "      <td>2020</td>\n",
              "      <td>10</td>\n",
              "      <td>9</td>\n",
              "      <td>16.7</td>\n",
              "      <td>1</td>\n",
              "      <td>Y</td>\n",
              "    </tr>\n",
              "    <tr>\n",
              "      <th>3</th>\n",
              "      <td>IDCJAC0010</td>\n",
              "      <td>86338</td>\n",
              "      <td>2020</td>\n",
              "      <td>10</td>\n",
              "      <td>10</td>\n",
              "      <td>19.4</td>\n",
              "      <td>1</td>\n",
              "      <td>Y</td>\n",
              "    </tr>\n",
              "    <tr>\n",
              "      <th>4</th>\n",
              "      <td>IDCJAC0010</td>\n",
              "      <td>86338</td>\n",
              "      <td>2020</td>\n",
              "      <td>10</td>\n",
              "      <td>11</td>\n",
              "      <td>16.0</td>\n",
              "      <td>1</td>\n",
              "      <td>Y</td>\n",
              "    </tr>\n",
              "  </tbody>\n",
              "</table>\n",
              "</div>"
            ],
            "text/plain": [
              "  Product code  ...  Quality\n",
              "0   IDCJAC0010  ...        Y\n",
              "1   IDCJAC0010  ...        Y\n",
              "2   IDCJAC0010  ...        Y\n",
              "3   IDCJAC0010  ...        Y\n",
              "4   IDCJAC0010  ...        Y\n",
              "\n",
              "[5 rows x 8 columns]"
            ]
          },
          "metadata": {
            "tags": []
          },
          "execution_count": 51
        }
      ]
    },
    {
      "cell_type": "code",
      "metadata": {
        "id": "XxjtteHn1usc"
      },
      "source": [
        "#Creating dataframe for maximum temperature\n",
        "datamaxtemperature = pd.DataFrame(columns=['date','max_temperature'])\n",
        "\n",
        "datamaxtemperature['date'] = datasetmaxtemperature['Month'].map(str)+'/'+datasetmaxtemperature['Day'].map(str)+'/'+datasetmaxtemperature['Year'].map(str)\n",
        "datamaxtemperature['max_temperature'] = datasetmaxtemperature['Maximum temperature (Degree C)']"
      ],
      "execution_count": null,
      "outputs": []
    },
    {
      "cell_type": "code",
      "metadata": {
        "id": "pM4GPoYN3Uxp"
      },
      "source": [
        "#Updating the data set on the basis of dates for maximum temperature attribute\n",
        "dataset.update(datamaxtemperature)"
      ],
      "execution_count": null,
      "outputs": []
    },
    {
      "cell_type": "code",
      "metadata": {
        "id": "gxeEWTEf466v"
      },
      "source": [
        "#Updating the data set on the basis of dates for school day attribute\n",
        "dataset.update(dataschooldays)"
      ],
      "execution_count": null,
      "outputs": []
    },
    {
      "cell_type": "code",
      "metadata": {
        "colab": {
          "base_uri": "https://localhost:8080/",
          "height": 299
        },
        "id": "Ew-yaug65fIz",
        "outputId": "d17cf22a-e915-4772-9bc5-02dfcc123a17"
      },
      "source": [
        "electricity_demand.head()"
      ],
      "execution_count": null,
      "outputs": [
        {
          "output_type": "execute_result",
          "data": {
            "text/html": [
              "<div>\n",
              "<style scoped>\n",
              "    .dataframe tbody tr th:only-of-type {\n",
              "        vertical-align: middle;\n",
              "    }\n",
              "\n",
              "    .dataframe tbody tr th {\n",
              "        vertical-align: top;\n",
              "    }\n",
              "\n",
              "    .dataframe thead th {\n",
              "        text-align: right;\n",
              "    }\n",
              "</style>\n",
              "<table border=\"1\" class=\"dataframe\">\n",
              "  <thead>\n",
              "    <tr style=\"text-align: right;\">\n",
              "      <th></th>\n",
              "      <th>date</th>\n",
              "      <th>demand</th>\n",
              "      <th>RRP</th>\n",
              "      <th>demand_pos_RRP</th>\n",
              "      <th>RRP_positive</th>\n",
              "      <th>demand_neg_RRP</th>\n",
              "      <th>RRP_negative</th>\n",
              "      <th>frac_at_neg_RRP</th>\n",
              "      <th>min_temperature</th>\n",
              "      <th>max_temperature</th>\n",
              "      <th>solar_exposure</th>\n",
              "      <th>rainfall</th>\n",
              "      <th>school_day</th>\n",
              "      <th>holiday</th>\n",
              "    </tr>\n",
              "  </thead>\n",
              "  <tbody>\n",
              "    <tr>\n",
              "      <th>0</th>\n",
              "      <td>2015-01-01</td>\n",
              "      <td>99635.030</td>\n",
              "      <td>25.633696</td>\n",
              "      <td>97319.240</td>\n",
              "      <td>26.415953</td>\n",
              "      <td>2315.790</td>\n",
              "      <td>-7.240000</td>\n",
              "      <td>0.020833</td>\n",
              "      <td>13.3</td>\n",
              "      <td>26.9</td>\n",
              "      <td>23.6</td>\n",
              "      <td>0.0</td>\n",
              "      <td>N</td>\n",
              "      <td>Y</td>\n",
              "    </tr>\n",
              "    <tr>\n",
              "      <th>1</th>\n",
              "      <td>2015-01-02</td>\n",
              "      <td>129606.010</td>\n",
              "      <td>33.138988</td>\n",
              "      <td>121082.015</td>\n",
              "      <td>38.837661</td>\n",
              "      <td>8523.995</td>\n",
              "      <td>-47.809777</td>\n",
              "      <td>0.062500</td>\n",
              "      <td>15.4</td>\n",
              "      <td>38.8</td>\n",
              "      <td>26.8</td>\n",
              "      <td>0.0</td>\n",
              "      <td>N</td>\n",
              "      <td>N</td>\n",
              "    </tr>\n",
              "    <tr>\n",
              "      <th>2</th>\n",
              "      <td>2015-01-03</td>\n",
              "      <td>142300.540</td>\n",
              "      <td>34.564855</td>\n",
              "      <td>142300.540</td>\n",
              "      <td>34.564855</td>\n",
              "      <td>0.000</td>\n",
              "      <td>0.000000</td>\n",
              "      <td>0.000000</td>\n",
              "      <td>20.0</td>\n",
              "      <td>38.2</td>\n",
              "      <td>26.5</td>\n",
              "      <td>0.0</td>\n",
              "      <td>N</td>\n",
              "      <td>N</td>\n",
              "    </tr>\n",
              "    <tr>\n",
              "      <th>3</th>\n",
              "      <td>2015-01-04</td>\n",
              "      <td>104330.715</td>\n",
              "      <td>25.005560</td>\n",
              "      <td>104330.715</td>\n",
              "      <td>25.005560</td>\n",
              "      <td>0.000</td>\n",
              "      <td>0.000000</td>\n",
              "      <td>0.000000</td>\n",
              "      <td>16.3</td>\n",
              "      <td>21.4</td>\n",
              "      <td>25.2</td>\n",
              "      <td>4.2</td>\n",
              "      <td>N</td>\n",
              "      <td>N</td>\n",
              "    </tr>\n",
              "    <tr>\n",
              "      <th>4</th>\n",
              "      <td>2015-01-05</td>\n",
              "      <td>118132.200</td>\n",
              "      <td>26.724176</td>\n",
              "      <td>118132.200</td>\n",
              "      <td>26.724176</td>\n",
              "      <td>0.000</td>\n",
              "      <td>0.000000</td>\n",
              "      <td>0.000000</td>\n",
              "      <td>15.0</td>\n",
              "      <td>22.0</td>\n",
              "      <td>30.7</td>\n",
              "      <td>0.0</td>\n",
              "      <td>N</td>\n",
              "      <td>N</td>\n",
              "    </tr>\n",
              "  </tbody>\n",
              "</table>\n",
              "</div>"
            ],
            "text/plain": [
              "         date      demand        RRP  ...  rainfall  school_day  holiday\n",
              "0  2015-01-01   99635.030  25.633696  ...       0.0           N        Y\n",
              "1  2015-01-02  129606.010  33.138988  ...       0.0           N        N\n",
              "2  2015-01-03  142300.540  34.564855  ...       0.0           N        N\n",
              "3  2015-01-04  104330.715  25.005560  ...       4.2           N        N\n",
              "4  2015-01-05  118132.200  26.724176  ...       0.0           N        N\n",
              "\n",
              "[5 rows x 14 columns]"
            ]
          },
          "metadata": {
            "tags": []
          },
          "execution_count": 62
        }
      ]
    },
    {
      "cell_type": "code",
      "metadata": {
        "id": "ValNWO9D53or"
      },
      "source": [
        "#Concatenating two dataframes\n",
        "listofdf = [electricity_demand,dataset]\n",
        "electricity_demand_updated = pd.concat(listofdf)"
      ],
      "execution_count": null,
      "outputs": []
    },
    {
      "cell_type": "code",
      "metadata": {
        "colab": {
          "base_uri": "https://localhost:8080/",
          "height": 215
        },
        "id": "1w2DxVKu6JtX",
        "outputId": "7c4c9ecb-1d8b-4f45-f656-83111e9ffec9"
      },
      "source": [
        "electricity_demand_updated.tail()"
      ],
      "execution_count": null,
      "outputs": [
        {
          "output_type": "execute_result",
          "data": {
            "text/html": [
              "<div>\n",
              "<style scoped>\n",
              "    .dataframe tbody tr th:only-of-type {\n",
              "        vertical-align: middle;\n",
              "    }\n",
              "\n",
              "    .dataframe tbody tr th {\n",
              "        vertical-align: top;\n",
              "    }\n",
              "\n",
              "    .dataframe thead th {\n",
              "        text-align: right;\n",
              "    }\n",
              "</style>\n",
              "<table border=\"1\" class=\"dataframe\">\n",
              "  <thead>\n",
              "    <tr style=\"text-align: right;\">\n",
              "      <th></th>\n",
              "      <th>date</th>\n",
              "      <th>demand</th>\n",
              "      <th>RRP</th>\n",
              "      <th>demand_pos_RRP</th>\n",
              "      <th>RRP_positive</th>\n",
              "      <th>demand_neg_RRP</th>\n",
              "      <th>RRP_negative</th>\n",
              "      <th>frac_at_neg_RRP</th>\n",
              "      <th>min_temperature</th>\n",
              "      <th>max_temperature</th>\n",
              "      <th>solar_exposure</th>\n",
              "      <th>rainfall</th>\n",
              "      <th>school_day</th>\n",
              "      <th>holiday</th>\n",
              "    </tr>\n",
              "  </thead>\n",
              "  <tbody>\n",
              "    <tr>\n",
              "      <th>140</th>\n",
              "      <td>2/24/2021</td>\n",
              "      <td>NaN</td>\n",
              "      <td>NaN</td>\n",
              "      <td>NaN</td>\n",
              "      <td>NaN</td>\n",
              "      <td>NaN</td>\n",
              "      <td>NaN</td>\n",
              "      <td>NaN</td>\n",
              "      <td>NaN</td>\n",
              "      <td>20.2</td>\n",
              "      <td>23.3</td>\n",
              "      <td>0.0</td>\n",
              "      <td>Y</td>\n",
              "      <td>N</td>\n",
              "    </tr>\n",
              "    <tr>\n",
              "      <th>141</th>\n",
              "      <td>2/25/2021</td>\n",
              "      <td>NaN</td>\n",
              "      <td>NaN</td>\n",
              "      <td>NaN</td>\n",
              "      <td>NaN</td>\n",
              "      <td>NaN</td>\n",
              "      <td>NaN</td>\n",
              "      <td>NaN</td>\n",
              "      <td>NaN</td>\n",
              "      <td>24.3</td>\n",
              "      <td>18.9</td>\n",
              "      <td>0.0</td>\n",
              "      <td>Y</td>\n",
              "      <td>N</td>\n",
              "    </tr>\n",
              "    <tr>\n",
              "      <th>142</th>\n",
              "      <td>2/26/2021</td>\n",
              "      <td>NaN</td>\n",
              "      <td>NaN</td>\n",
              "      <td>NaN</td>\n",
              "      <td>NaN</td>\n",
              "      <td>NaN</td>\n",
              "      <td>NaN</td>\n",
              "      <td>NaN</td>\n",
              "      <td>NaN</td>\n",
              "      <td>19.7</td>\n",
              "      <td>15.7</td>\n",
              "      <td>0.4</td>\n",
              "      <td>Y</td>\n",
              "      <td>N</td>\n",
              "    </tr>\n",
              "    <tr>\n",
              "      <th>143</th>\n",
              "      <td>2/27/2021</td>\n",
              "      <td>NaN</td>\n",
              "      <td>NaN</td>\n",
              "      <td>NaN</td>\n",
              "      <td>NaN</td>\n",
              "      <td>NaN</td>\n",
              "      <td>NaN</td>\n",
              "      <td>NaN</td>\n",
              "      <td>NaN</td>\n",
              "      <td>18.6</td>\n",
              "      <td>11.8</td>\n",
              "      <td>0.0</td>\n",
              "      <td>N</td>\n",
              "      <td>N</td>\n",
              "    </tr>\n",
              "    <tr>\n",
              "      <th>144</th>\n",
              "      <td>2/28/2021</td>\n",
              "      <td>NaN</td>\n",
              "      <td>NaN</td>\n",
              "      <td>NaN</td>\n",
              "      <td>NaN</td>\n",
              "      <td>NaN</td>\n",
              "      <td>NaN</td>\n",
              "      <td>NaN</td>\n",
              "      <td>NaN</td>\n",
              "      <td>26.7</td>\n",
              "      <td>23.3</td>\n",
              "      <td>0.0</td>\n",
              "      <td>N</td>\n",
              "      <td>N</td>\n",
              "    </tr>\n",
              "  </tbody>\n",
              "</table>\n",
              "</div>"
            ],
            "text/plain": [
              "          date  demand  RRP  ...  rainfall  school_day  holiday\n",
              "140  2/24/2021     NaN  NaN  ...       0.0           Y        N\n",
              "141  2/25/2021     NaN  NaN  ...       0.0           Y        N\n",
              "142  2/26/2021     NaN  NaN  ...       0.4           Y        N\n",
              "143  2/27/2021     NaN  NaN  ...       0.0           N        N\n",
              "144  2/28/2021     NaN  NaN  ...       0.0           N        N\n",
              "\n",
              "[5 rows x 14 columns]"
            ]
          },
          "metadata": {
            "tags": []
          },
          "execution_count": 66
        }
      ]
    },
    {
      "cell_type": "code",
      "metadata": {
        "colab": {
          "base_uri": "https://localhost:8080/",
          "height": 17
        },
        "id": "JauFR-236eCH",
        "outputId": "2d2d2161-aa13-465c-e1cc-06b26025eba8"
      },
      "source": [
        "#Converting dataframe to csv file and downloading the file\n",
        "electricity_demand_updated.to_csv('electricity_demand.csv') \n",
        "files.download('electricity_demand.csv')"
      ],
      "execution_count": null,
      "outputs": [
        {
          "output_type": "display_data",
          "data": {
            "application/javascript": [
              "\n",
              "    async function download(id, filename, size) {\n",
              "      if (!google.colab.kernel.accessAllowed) {\n",
              "        return;\n",
              "      }\n",
              "      const div = document.createElement('div');\n",
              "      const label = document.createElement('label');\n",
              "      label.textContent = `Downloading \"${filename}\": `;\n",
              "      div.appendChild(label);\n",
              "      const progress = document.createElement('progress');\n",
              "      progress.max = size;\n",
              "      div.appendChild(progress);\n",
              "      document.body.appendChild(div);\n",
              "\n",
              "      const buffers = [];\n",
              "      let downloaded = 0;\n",
              "\n",
              "      const channel = await google.colab.kernel.comms.open(id);\n",
              "      // Send a message to notify the kernel that we're ready.\n",
              "      channel.send({})\n",
              "\n",
              "      for await (const message of channel.messages) {\n",
              "        // Send a message to notify the kernel that we're ready.\n",
              "        channel.send({})\n",
              "        if (message.buffers) {\n",
              "          for (const buffer of message.buffers) {\n",
              "            buffers.push(buffer);\n",
              "            downloaded += buffer.byteLength;\n",
              "            progress.value = downloaded;\n",
              "          }\n",
              "        }\n",
              "      }\n",
              "      const blob = new Blob(buffers, {type: 'application/binary'});\n",
              "      const a = document.createElement('a');\n",
              "      a.href = window.URL.createObjectURL(blob);\n",
              "      a.download = filename;\n",
              "      div.appendChild(a);\n",
              "      a.click();\n",
              "      div.remove();\n",
              "    }\n",
              "  "
            ],
            "text/plain": [
              "<IPython.core.display.Javascript object>"
            ]
          },
          "metadata": {
            "tags": []
          }
        },
        {
          "output_type": "display_data",
          "data": {
            "application/javascript": [
              "download(\"download_0e7f1bad-cd9f-41fc-95ce-e7cdd4ad74ef\", \"electricity_demand.csv\", 253301)"
            ],
            "text/plain": [
              "<IPython.core.display.Javascript object>"
            ]
          },
          "metadata": {
            "tags": []
          }
        }
      ]
    },
    {
      "cell_type": "code",
      "metadata": {
        "id": "OswcJLbdMU20"
      },
      "source": [
        "#Fetching data set for October month RRP values from Australian Energy Market Operator\n",
        "data_OctoberRRP = pd.read_csv(io.BytesIO(uploaded['PRICE_AND_DEMAND_202010_VIC1.csv']))"
      ],
      "execution_count": 25,
      "outputs": []
    },
    {
      "cell_type": "code",
      "metadata": {
        "colab": {
          "base_uri": "https://localhost:8080/",
          "height": 195
        },
        "id": "BmFa_IYGM6TY",
        "outputId": "d707a24b-e854-4d45-d272-b8da63a65ce9"
      },
      "source": [
        "#Display the top 5 rows of the data set\n",
        "data_OctoberRRP.head()"
      ],
      "execution_count": 23,
      "outputs": [
        {
          "output_type": "execute_result",
          "data": {
            "text/html": [
              "<div>\n",
              "<style scoped>\n",
              "    .dataframe tbody tr th:only-of-type {\n",
              "        vertical-align: middle;\n",
              "    }\n",
              "\n",
              "    .dataframe tbody tr th {\n",
              "        vertical-align: top;\n",
              "    }\n",
              "\n",
              "    .dataframe thead th {\n",
              "        text-align: right;\n",
              "    }\n",
              "</style>\n",
              "<table border=\"1\" class=\"dataframe\">\n",
              "  <thead>\n",
              "    <tr style=\"text-align: right;\">\n",
              "      <th></th>\n",
              "      <th>REGION</th>\n",
              "      <th>SETTLEMENTDATE</th>\n",
              "      <th>TOTALDEMAND</th>\n",
              "      <th>RRP</th>\n",
              "      <th>PERIODTYPE</th>\n",
              "    </tr>\n",
              "  </thead>\n",
              "  <tbody>\n",
              "    <tr>\n",
              "      <th>0</th>\n",
              "      <td>VIC1</td>\n",
              "      <td>2020/10/01 00:30:00</td>\n",
              "      <td>4670.40</td>\n",
              "      <td>39.09</td>\n",
              "      <td>TRADE</td>\n",
              "    </tr>\n",
              "    <tr>\n",
              "      <th>1</th>\n",
              "      <td>VIC1</td>\n",
              "      <td>2020/10/01 01:00:00</td>\n",
              "      <td>4513.84</td>\n",
              "      <td>38.39</td>\n",
              "      <td>TRADE</td>\n",
              "    </tr>\n",
              "    <tr>\n",
              "      <th>2</th>\n",
              "      <td>VIC1</td>\n",
              "      <td>2020/10/01 01:30:00</td>\n",
              "      <td>4329.71</td>\n",
              "      <td>36.46</td>\n",
              "      <td>TRADE</td>\n",
              "    </tr>\n",
              "    <tr>\n",
              "      <th>3</th>\n",
              "      <td>VIC1</td>\n",
              "      <td>2020/10/01 02:00:00</td>\n",
              "      <td>4146.21</td>\n",
              "      <td>35.79</td>\n",
              "      <td>TRADE</td>\n",
              "    </tr>\n",
              "    <tr>\n",
              "      <th>4</th>\n",
              "      <td>VIC1</td>\n",
              "      <td>2020/10/01 02:30:00</td>\n",
              "      <td>4003.90</td>\n",
              "      <td>33.65</td>\n",
              "      <td>TRADE</td>\n",
              "    </tr>\n",
              "  </tbody>\n",
              "</table>\n",
              "</div>"
            ],
            "text/plain": [
              "  REGION       SETTLEMENTDATE  TOTALDEMAND    RRP PERIODTYPE\n",
              "0   VIC1  2020/10/01 00:30:00      4670.40  39.09      TRADE\n",
              "1   VIC1  2020/10/01 01:00:00      4513.84  38.39      TRADE\n",
              "2   VIC1  2020/10/01 01:30:00      4329.71  36.46      TRADE\n",
              "3   VIC1  2020/10/01 02:00:00      4146.21  35.79      TRADE\n",
              "4   VIC1  2020/10/01 02:30:00      4003.90  33.65      TRADE"
            ]
          },
          "metadata": {
            "tags": []
          },
          "execution_count": 23
        }
      ]
    },
    {
      "cell_type": "code",
      "metadata": {
        "id": "CRu2bpvINujr"
      },
      "source": [
        "#Split the column 'SETTLEMENTDATE' to fetch 'DATE'\n",
        "data_OctoberRRP[['DATE','TIME']] = data_OctoberRRP.SETTLEMENTDATE.str.split(\" \",expand=True)"
      ],
      "execution_count": null,
      "outputs": []
    },
    {
      "cell_type": "code",
      "metadata": {
        "colab": {
          "base_uri": "https://localhost:8080/"
        },
        "id": "SM0k5kjAg7DQ",
        "outputId": "0dc1085e-6d34-4b1b-c565-ab60376bd1de"
      },
      "source": [
        "#Fetch the count of rows\n",
        "data_OctoberRRP['DATE'].count()"
      ],
      "execution_count": null,
      "outputs": [
        {
          "output_type": "execute_result",
          "data": {
            "text/plain": [
              "1487"
            ]
          },
          "metadata": {
            "tags": []
          },
          "execution_count": 20
        }
      ]
    },
    {
      "cell_type": "code",
      "metadata": {
        "colab": {
          "base_uri": "https://localhost:8080/",
          "height": 195
        },
        "id": "yJpItn4ivjKr",
        "outputId": "764c9cb5-7f54-454c-9490-3d4da2071ddc"
      },
      "source": [
        "#Select the values belonging to the october month\n",
        "data_OctoberRRP = data_OctoberRRP.iloc[:1487]\n",
        "data_OctoberRRP.tail()"
      ],
      "execution_count": null,
      "outputs": [
        {
          "output_type": "execute_result",
          "data": {
            "text/html": [
              "<div>\n",
              "<style scoped>\n",
              "    .dataframe tbody tr th:only-of-type {\n",
              "        vertical-align: middle;\n",
              "    }\n",
              "\n",
              "    .dataframe tbody tr th {\n",
              "        vertical-align: top;\n",
              "    }\n",
              "\n",
              "    .dataframe thead th {\n",
              "        text-align: right;\n",
              "    }\n",
              "</style>\n",
              "<table border=\"1\" class=\"dataframe\">\n",
              "  <thead>\n",
              "    <tr style=\"text-align: right;\">\n",
              "      <th></th>\n",
              "      <th>REGION</th>\n",
              "      <th>SETTLEMENTDATE</th>\n",
              "      <th>TOTALDEMAND</th>\n",
              "      <th>RRP</th>\n",
              "      <th>PERIODTYPE</th>\n",
              "      <th>DATE</th>\n",
              "      <th>TIME</th>\n",
              "    </tr>\n",
              "  </thead>\n",
              "  <tbody>\n",
              "    <tr>\n",
              "      <th>1482</th>\n",
              "      <td>VIC1</td>\n",
              "      <td>2020/10/31 21:30:00</td>\n",
              "      <td>4469.06</td>\n",
              "      <td>56.90</td>\n",
              "      <td>TRADE</td>\n",
              "      <td>2020/10/31</td>\n",
              "      <td>21:30:00</td>\n",
              "    </tr>\n",
              "    <tr>\n",
              "      <th>1483</th>\n",
              "      <td>VIC1</td>\n",
              "      <td>2020/10/31 22:00:00</td>\n",
              "      <td>4371.16</td>\n",
              "      <td>44.13</td>\n",
              "      <td>TRADE</td>\n",
              "      <td>2020/10/31</td>\n",
              "      <td>22:00:00</td>\n",
              "    </tr>\n",
              "    <tr>\n",
              "      <th>1484</th>\n",
              "      <td>VIC1</td>\n",
              "      <td>2020/10/31 22:30:00</td>\n",
              "      <td>4231.38</td>\n",
              "      <td>45.91</td>\n",
              "      <td>TRADE</td>\n",
              "      <td>2020/10/31</td>\n",
              "      <td>22:30:00</td>\n",
              "    </tr>\n",
              "    <tr>\n",
              "      <th>1485</th>\n",
              "      <td>VIC1</td>\n",
              "      <td>2020/10/31 23:00:00</td>\n",
              "      <td>4200.92</td>\n",
              "      <td>44.14</td>\n",
              "      <td>TRADE</td>\n",
              "      <td>2020/10/31</td>\n",
              "      <td>23:00:00</td>\n",
              "    </tr>\n",
              "    <tr>\n",
              "      <th>1486</th>\n",
              "      <td>VIC1</td>\n",
              "      <td>2020/10/31 23:30:00</td>\n",
              "      <td>4401.31</td>\n",
              "      <td>57.43</td>\n",
              "      <td>TRADE</td>\n",
              "      <td>2020/10/31</td>\n",
              "      <td>23:30:00</td>\n",
              "    </tr>\n",
              "  </tbody>\n",
              "</table>\n",
              "</div>"
            ],
            "text/plain": [
              "     REGION       SETTLEMENTDATE  TOTALDEMAND  ...  PERIODTYPE        DATE      TIME\n",
              "1482   VIC1  2020/10/31 21:30:00      4469.06  ...       TRADE  2020/10/31  21:30:00\n",
              "1483   VIC1  2020/10/31 22:00:00      4371.16  ...       TRADE  2020/10/31  22:00:00\n",
              "1484   VIC1  2020/10/31 22:30:00      4231.38  ...       TRADE  2020/10/31  22:30:00\n",
              "1485   VIC1  2020/10/31 23:00:00      4200.92  ...       TRADE  2020/10/31  23:00:00\n",
              "1486   VIC1  2020/10/31 23:30:00      4401.31  ...       TRADE  2020/10/31  23:30:00\n",
              "\n",
              "[5 rows x 7 columns]"
            ]
          },
          "metadata": {
            "tags": []
          },
          "execution_count": 28
        }
      ]
    },
    {
      "cell_type": "code",
      "metadata": {
        "id": "ySoYCkv_OhqM"
      },
      "source": [
        "#Calculate the average of attributes based on date\n",
        "data_OctoberRRP = data_OctoberRRP.groupby('DATE').mean()"
      ],
      "execution_count": null,
      "outputs": []
    },
    {
      "cell_type": "code",
      "metadata": {
        "id": "yBMxBJmJSaCe"
      },
      "source": [
        "#Drop the average of Total demand\n",
        "data_OctoberRRP = data_OctoberRRP.drop(columns=['TOTALDEMAND'])"
      ],
      "execution_count": null,
      "outputs": []
    },
    {
      "cell_type": "code",
      "metadata": {
        "colab": {
          "base_uri": "https://localhost:8080/",
          "height": 225
        },
        "id": "DkCnS5apTIX1",
        "outputId": "5399058e-b969-47b3-ea98-78204b116456"
      },
      "source": [
        "#Drop the rows from data October 1 to 6 as this data is already available\n",
        "data_OctoberRRP = data_OctoberRRP.iloc[6:]\n",
        "data_OctoberRRP.head()"
      ],
      "execution_count": null,
      "outputs": [
        {
          "output_type": "execute_result",
          "data": {
            "text/html": [
              "<div>\n",
              "<style scoped>\n",
              "    .dataframe tbody tr th:only-of-type {\n",
              "        vertical-align: middle;\n",
              "    }\n",
              "\n",
              "    .dataframe tbody tr th {\n",
              "        vertical-align: top;\n",
              "    }\n",
              "\n",
              "    .dataframe thead th {\n",
              "        text-align: right;\n",
              "    }\n",
              "</style>\n",
              "<table border=\"1\" class=\"dataframe\">\n",
              "  <thead>\n",
              "    <tr style=\"text-align: right;\">\n",
              "      <th></th>\n",
              "      <th>RRP</th>\n",
              "    </tr>\n",
              "    <tr>\n",
              "      <th>DATE</th>\n",
              "      <th></th>\n",
              "    </tr>\n",
              "  </thead>\n",
              "  <tbody>\n",
              "    <tr>\n",
              "      <th>2020/10/07</th>\n",
              "      <td>123.477708</td>\n",
              "    </tr>\n",
              "    <tr>\n",
              "      <th>2020/10/08</th>\n",
              "      <td>23.328750</td>\n",
              "    </tr>\n",
              "    <tr>\n",
              "      <th>2020/10/09</th>\n",
              "      <td>55.744167</td>\n",
              "    </tr>\n",
              "    <tr>\n",
              "      <th>2020/10/10</th>\n",
              "      <td>31.007917</td>\n",
              "    </tr>\n",
              "    <tr>\n",
              "      <th>2020/10/11</th>\n",
              "      <td>53.929792</td>\n",
              "    </tr>\n",
              "  </tbody>\n",
              "</table>\n",
              "</div>"
            ],
            "text/plain": [
              "                   RRP\n",
              "DATE                  \n",
              "2020/10/07  123.477708\n",
              "2020/10/08   23.328750\n",
              "2020/10/09   55.744167\n",
              "2020/10/10   31.007917\n",
              "2020/10/11   53.929792"
            ]
          },
          "metadata": {
            "tags": []
          },
          "execution_count": 31
        }
      ]
    },
    {
      "cell_type": "code",
      "metadata": {
        "id": "Jld12TsbTlIK"
      },
      "source": [
        "#Form a final data set\n",
        "finaldataset = data_OctoberRRP.copy()"
      ],
      "execution_count": null,
      "outputs": []
    },
    {
      "cell_type": "code",
      "metadata": {
        "id": "BOij4D5NUvGm"
      },
      "source": [
        "#Fetching data set for November month RRP values from Australian Energy Market Operator\n",
        "data_NovemberRRP = pd.read_csv(io.BytesIO(uploaded['PRICE_AND_DEMAND_202011_VIC1.csv']))"
      ],
      "execution_count": 39,
      "outputs": []
    },
    {
      "cell_type": "code",
      "metadata": {
        "colab": {
          "base_uri": "https://localhost:8080/"
        },
        "id": "VBHQoJDqw3a-",
        "outputId": "7a526867-b0cf-4740-a8a2-860df28cc5c1"
      },
      "source": [
        "#Fetch the count of rows\n",
        "data_NovemberRRP['SETTLEMENTDATE'].count()"
      ],
      "execution_count": null,
      "outputs": [
        {
          "output_type": "execute_result",
          "data": {
            "text/plain": [
              "1440"
            ]
          },
          "metadata": {
            "tags": []
          },
          "execution_count": 51
        }
      ]
    },
    {
      "cell_type": "code",
      "metadata": {
        "colab": {
          "base_uri": "https://localhost:8080/",
          "height": 195
        },
        "id": "Uo2q_EcyxAd6",
        "outputId": "4638e98f-f7ee-4a85-897e-ed10aeacdd6f"
      },
      "source": [
        "#Select the values belonging to the November month\n",
        "data_NovemberRRP = data_NovemberRRP.iloc[:1439]\n",
        "data_NovemberRRP.tail()"
      ],
      "execution_count": null,
      "outputs": [
        {
          "output_type": "execute_result",
          "data": {
            "text/html": [
              "<div>\n",
              "<style scoped>\n",
              "    .dataframe tbody tr th:only-of-type {\n",
              "        vertical-align: middle;\n",
              "    }\n",
              "\n",
              "    .dataframe tbody tr th {\n",
              "        vertical-align: top;\n",
              "    }\n",
              "\n",
              "    .dataframe thead th {\n",
              "        text-align: right;\n",
              "    }\n",
              "</style>\n",
              "<table border=\"1\" class=\"dataframe\">\n",
              "  <thead>\n",
              "    <tr style=\"text-align: right;\">\n",
              "      <th></th>\n",
              "      <th>REGION</th>\n",
              "      <th>SETTLEMENTDATE</th>\n",
              "      <th>TOTALDEMAND</th>\n",
              "      <th>RRP</th>\n",
              "      <th>PERIODTYPE</th>\n",
              "    </tr>\n",
              "  </thead>\n",
              "  <tbody>\n",
              "    <tr>\n",
              "      <th>1434</th>\n",
              "      <td>VIC1</td>\n",
              "      <td>2020/11/30 21:30:00</td>\n",
              "      <td>5044.41</td>\n",
              "      <td>44.38</td>\n",
              "      <td>TRADE</td>\n",
              "    </tr>\n",
              "    <tr>\n",
              "      <th>1435</th>\n",
              "      <td>VIC1</td>\n",
              "      <td>2020/11/30 22:00:00</td>\n",
              "      <td>4816.41</td>\n",
              "      <td>54.50</td>\n",
              "      <td>TRADE</td>\n",
              "    </tr>\n",
              "    <tr>\n",
              "      <th>1436</th>\n",
              "      <td>VIC1</td>\n",
              "      <td>2020/11/30 22:30:00</td>\n",
              "      <td>4640.49</td>\n",
              "      <td>59.37</td>\n",
              "      <td>TRADE</td>\n",
              "    </tr>\n",
              "    <tr>\n",
              "      <th>1437</th>\n",
              "      <td>VIC1</td>\n",
              "      <td>2020/11/30 23:00:00</td>\n",
              "      <td>4555.52</td>\n",
              "      <td>54.46</td>\n",
              "      <td>TRADE</td>\n",
              "    </tr>\n",
              "    <tr>\n",
              "      <th>1438</th>\n",
              "      <td>VIC1</td>\n",
              "      <td>2020/11/30 23:30:00</td>\n",
              "      <td>4746.52</td>\n",
              "      <td>52.14</td>\n",
              "      <td>TRADE</td>\n",
              "    </tr>\n",
              "  </tbody>\n",
              "</table>\n",
              "</div>"
            ],
            "text/plain": [
              "     REGION       SETTLEMENTDATE  TOTALDEMAND    RRP PERIODTYPE\n",
              "1434   VIC1  2020/11/30 21:30:00      5044.41  44.38      TRADE\n",
              "1435   VIC1  2020/11/30 22:00:00      4816.41  54.50      TRADE\n",
              "1436   VIC1  2020/11/30 22:30:00      4640.49  59.37      TRADE\n",
              "1437   VIC1  2020/11/30 23:00:00      4555.52  54.46      TRADE\n",
              "1438   VIC1  2020/11/30 23:30:00      4746.52  52.14      TRADE"
            ]
          },
          "metadata": {
            "tags": []
          },
          "execution_count": 52
        }
      ]
    },
    {
      "cell_type": "code",
      "metadata": {
        "id": "UC2tX_VYxPxs"
      },
      "source": [
        "#Define the function to calculate the mean of RRP attribute\n",
        "def update_dataset(data):\n",
        "  data[['DATE','TIME']] = data.SETTLEMENTDATE.str.split(\" \",expand=True)\n",
        "  data = data.groupby('DATE').mean()\n",
        "  data = data.drop(columns=['TOTALDEMAND'])\n",
        "  return data"
      ],
      "execution_count": null,
      "outputs": []
    },
    {
      "cell_type": "code",
      "metadata": {
        "colab": {
          "base_uri": "https://localhost:8080/",
          "height": 225
        },
        "id": "GmUasVEbxw3a",
        "outputId": "649816d7-8244-49d7-b826-2b02cc166f20"
      },
      "source": [
        "#Pass the November data set and append the updated data to the final dataset\n",
        "data_NovemberRRP = update_dataset(data_NovemberRRP)\n",
        "finaldataset = finaldataset.append(data_NovemberRRP)\n",
        "finaldataset.tail()"
      ],
      "execution_count": null,
      "outputs": [
        {
          "output_type": "execute_result",
          "data": {
            "text/html": [
              "<div>\n",
              "<style scoped>\n",
              "    .dataframe tbody tr th:only-of-type {\n",
              "        vertical-align: middle;\n",
              "    }\n",
              "\n",
              "    .dataframe tbody tr th {\n",
              "        vertical-align: top;\n",
              "    }\n",
              "\n",
              "    .dataframe thead th {\n",
              "        text-align: right;\n",
              "    }\n",
              "</style>\n",
              "<table border=\"1\" class=\"dataframe\">\n",
              "  <thead>\n",
              "    <tr style=\"text-align: right;\">\n",
              "      <th></th>\n",
              "      <th>RRP</th>\n",
              "    </tr>\n",
              "    <tr>\n",
              "      <th>DATE</th>\n",
              "      <th></th>\n",
              "    </tr>\n",
              "  </thead>\n",
              "  <tbody>\n",
              "    <tr>\n",
              "      <th>2020/11/26</th>\n",
              "      <td>58.193125</td>\n",
              "    </tr>\n",
              "    <tr>\n",
              "      <th>2020/11/27</th>\n",
              "      <td>66.546875</td>\n",
              "    </tr>\n",
              "    <tr>\n",
              "      <th>2020/11/28</th>\n",
              "      <td>53.318542</td>\n",
              "    </tr>\n",
              "    <tr>\n",
              "      <th>2020/11/29</th>\n",
              "      <td>11.382083</td>\n",
              "    </tr>\n",
              "    <tr>\n",
              "      <th>2020/11/30</th>\n",
              "      <td>45.390208</td>\n",
              "    </tr>\n",
              "  </tbody>\n",
              "</table>\n",
              "</div>"
            ],
            "text/plain": [
              "                  RRP\n",
              "DATE                 \n",
              "2020/11/26  58.193125\n",
              "2020/11/27  66.546875\n",
              "2020/11/28  53.318542\n",
              "2020/11/29  11.382083\n",
              "2020/11/30  45.390208"
            ]
          },
          "metadata": {
            "tags": []
          },
          "execution_count": 59
        }
      ]
    },
    {
      "cell_type": "code",
      "metadata": {
        "colab": {
          "base_uri": "https://localhost:8080/"
        },
        "id": "Sd1eTkcl94mw",
        "outputId": "c46b5ab3-74e2-4425-ce1c-3056ee768c7b"
      },
      "source": [
        "#Fetching data set for December month RRP values from Australian Energy Market Operator\n",
        "data_DecemberRRP = pd.read_csv(io.BytesIO(uploaded['PRICE_AND_DEMAND_202012_VIC1.csv']))\n",
        "data_DecemberRRP['SETTLEMENTDATE'].count()"
      ],
      "execution_count": 42,
      "outputs": [
        {
          "output_type": "execute_result",
          "data": {
            "text/plain": [
              "1488"
            ]
          },
          "metadata": {
            "tags": []
          },
          "execution_count": 42
        }
      ]
    },
    {
      "cell_type": "code",
      "metadata": {
        "colab": {
          "base_uri": "https://localhost:8080/",
          "height": 195
        },
        "id": "TpfjXh8q-NY8",
        "outputId": "74e4ecd3-93ff-4cf7-8121-236e1aabfbac"
      },
      "source": [
        "#Fetch the December data values\n",
        "data_DecemberRRP = data_DecemberRRP.iloc[:1487]\n",
        "data_DecemberRRP.tail()"
      ],
      "execution_count": null,
      "outputs": [
        {
          "output_type": "execute_result",
          "data": {
            "text/html": [
              "<div>\n",
              "<style scoped>\n",
              "    .dataframe tbody tr th:only-of-type {\n",
              "        vertical-align: middle;\n",
              "    }\n",
              "\n",
              "    .dataframe tbody tr th {\n",
              "        vertical-align: top;\n",
              "    }\n",
              "\n",
              "    .dataframe thead th {\n",
              "        text-align: right;\n",
              "    }\n",
              "</style>\n",
              "<table border=\"1\" class=\"dataframe\">\n",
              "  <thead>\n",
              "    <tr style=\"text-align: right;\">\n",
              "      <th></th>\n",
              "      <th>REGION</th>\n",
              "      <th>SETTLEMENTDATE</th>\n",
              "      <th>TOTALDEMAND</th>\n",
              "      <th>RRP</th>\n",
              "      <th>PERIODTYPE</th>\n",
              "    </tr>\n",
              "  </thead>\n",
              "  <tbody>\n",
              "    <tr>\n",
              "      <th>1482</th>\n",
              "      <td>VIC1</td>\n",
              "      <td>2020/12/31 21:30:00</td>\n",
              "      <td>4103.51</td>\n",
              "      <td>35.05</td>\n",
              "      <td>TRADE</td>\n",
              "    </tr>\n",
              "    <tr>\n",
              "      <th>1483</th>\n",
              "      <td>VIC1</td>\n",
              "      <td>2020/12/31 22:00:00</td>\n",
              "      <td>4034.28</td>\n",
              "      <td>35.49</td>\n",
              "      <td>TRADE</td>\n",
              "    </tr>\n",
              "    <tr>\n",
              "      <th>1484</th>\n",
              "      <td>VIC1</td>\n",
              "      <td>2020/12/31 22:30:00</td>\n",
              "      <td>4067.00</td>\n",
              "      <td>48.25</td>\n",
              "      <td>TRADE</td>\n",
              "    </tr>\n",
              "    <tr>\n",
              "      <th>1485</th>\n",
              "      <td>VIC1</td>\n",
              "      <td>2020/12/31 23:00:00</td>\n",
              "      <td>4115.25</td>\n",
              "      <td>38.66</td>\n",
              "      <td>TRADE</td>\n",
              "    </tr>\n",
              "    <tr>\n",
              "      <th>1486</th>\n",
              "      <td>VIC1</td>\n",
              "      <td>2020/12/31 23:30:00</td>\n",
              "      <td>4363.19</td>\n",
              "      <td>50.15</td>\n",
              "      <td>TRADE</td>\n",
              "    </tr>\n",
              "  </tbody>\n",
              "</table>\n",
              "</div>"
            ],
            "text/plain": [
              "     REGION       SETTLEMENTDATE  TOTALDEMAND    RRP PERIODTYPE\n",
              "1482   VIC1  2020/12/31 21:30:00      4103.51  35.05      TRADE\n",
              "1483   VIC1  2020/12/31 22:00:00      4034.28  35.49      TRADE\n",
              "1484   VIC1  2020/12/31 22:30:00      4067.00  48.25      TRADE\n",
              "1485   VIC1  2020/12/31 23:00:00      4115.25  38.66      TRADE\n",
              "1486   VIC1  2020/12/31 23:30:00      4363.19  50.15      TRADE"
            ]
          },
          "metadata": {
            "tags": []
          },
          "execution_count": 63
        }
      ]
    },
    {
      "cell_type": "code",
      "metadata": {
        "colab": {
          "base_uri": "https://localhost:8080/",
          "height": 225
        },
        "id": "GHciZjgJ-WSe",
        "outputId": "5d00bd50-e490-4747-ac09-aab60931c1b4"
      },
      "source": [
        "#Pass the December data set and append the updated data to the final dataset\n",
        "data_DecemberRRP = update_dataset(data_DecemberRRP)\n",
        "finaldataset = finaldataset.append(data_DecemberRRP)\n",
        "finaldataset.tail()"
      ],
      "execution_count": null,
      "outputs": [
        {
          "output_type": "execute_result",
          "data": {
            "text/html": [
              "<div>\n",
              "<style scoped>\n",
              "    .dataframe tbody tr th:only-of-type {\n",
              "        vertical-align: middle;\n",
              "    }\n",
              "\n",
              "    .dataframe tbody tr th {\n",
              "        vertical-align: top;\n",
              "    }\n",
              "\n",
              "    .dataframe thead th {\n",
              "        text-align: right;\n",
              "    }\n",
              "</style>\n",
              "<table border=\"1\" class=\"dataframe\">\n",
              "  <thead>\n",
              "    <tr style=\"text-align: right;\">\n",
              "      <th></th>\n",
              "      <th>RRP</th>\n",
              "    </tr>\n",
              "    <tr>\n",
              "      <th>DATE</th>\n",
              "      <th></th>\n",
              "    </tr>\n",
              "  </thead>\n",
              "  <tbody>\n",
              "    <tr>\n",
              "      <th>2020/12/27</th>\n",
              "      <td>6.380417</td>\n",
              "    </tr>\n",
              "    <tr>\n",
              "      <th>2020/12/28</th>\n",
              "      <td>8.254583</td>\n",
              "    </tr>\n",
              "    <tr>\n",
              "      <th>2020/12/29</th>\n",
              "      <td>23.902917</td>\n",
              "    </tr>\n",
              "    <tr>\n",
              "      <th>2020/12/30</th>\n",
              "      <td>29.288958</td>\n",
              "    </tr>\n",
              "    <tr>\n",
              "      <th>2020/12/31</th>\n",
              "      <td>9.647500</td>\n",
              "    </tr>\n",
              "  </tbody>\n",
              "</table>\n",
              "</div>"
            ],
            "text/plain": [
              "                  RRP\n",
              "DATE                 \n",
              "2020/12/27   6.380417\n",
              "2020/12/28   8.254583\n",
              "2020/12/29  23.902917\n",
              "2020/12/30  29.288958\n",
              "2020/12/31   9.647500"
            ]
          },
          "metadata": {
            "tags": []
          },
          "execution_count": 64
        }
      ]
    },
    {
      "cell_type": "code",
      "metadata": {
        "colab": {
          "base_uri": "https://localhost:8080/"
        },
        "id": "pObgkk5C-hwK",
        "outputId": "9685b641-d434-4088-f303-9ff48ca97366"
      },
      "source": [
        "#Fetching data set for January month RRP values from Australian Energy Market Operator\n",
        "data_JanuaryRRP = pd.read_csv(io.BytesIO(uploaded['PRICE_AND_DEMAND_202101_VIC1.csv']))\n",
        "data_JanuaryRRP['SETTLEMENTDATE'].count()"
      ],
      "execution_count": 45,
      "outputs": [
        {
          "output_type": "execute_result",
          "data": {
            "text/plain": [
              "1488"
            ]
          },
          "metadata": {
            "tags": []
          },
          "execution_count": 45
        }
      ]
    },
    {
      "cell_type": "code",
      "metadata": {
        "colab": {
          "base_uri": "https://localhost:8080/",
          "height": 195
        },
        "id": "JXzL53Aq-8eh",
        "outputId": "6a534f49-f5ed-40a8-e2b1-ad1f76d552cc"
      },
      "source": [
        "#Fetch the January data values\n",
        "data_JanuaryRRP = data_JanuaryRRP.iloc[:1487]\n",
        "data_JanuaryRRP.tail()"
      ],
      "execution_count": null,
      "outputs": [
        {
          "output_type": "execute_result",
          "data": {
            "text/html": [
              "<div>\n",
              "<style scoped>\n",
              "    .dataframe tbody tr th:only-of-type {\n",
              "        vertical-align: middle;\n",
              "    }\n",
              "\n",
              "    .dataframe tbody tr th {\n",
              "        vertical-align: top;\n",
              "    }\n",
              "\n",
              "    .dataframe thead th {\n",
              "        text-align: right;\n",
              "    }\n",
              "</style>\n",
              "<table border=\"1\" class=\"dataframe\">\n",
              "  <thead>\n",
              "    <tr style=\"text-align: right;\">\n",
              "      <th></th>\n",
              "      <th>REGION</th>\n",
              "      <th>SETTLEMENTDATE</th>\n",
              "      <th>TOTALDEMAND</th>\n",
              "      <th>RRP</th>\n",
              "      <th>PERIODTYPE</th>\n",
              "    </tr>\n",
              "  </thead>\n",
              "  <tbody>\n",
              "    <tr>\n",
              "      <th>1482</th>\n",
              "      <td>VIC1</td>\n",
              "      <td>2021/01/31 21:30:00</td>\n",
              "      <td>4364.61</td>\n",
              "      <td>30.97</td>\n",
              "      <td>TRADE</td>\n",
              "    </tr>\n",
              "    <tr>\n",
              "      <th>1483</th>\n",
              "      <td>VIC1</td>\n",
              "      <td>2021/01/31 22:00:00</td>\n",
              "      <td>4272.24</td>\n",
              "      <td>29.86</td>\n",
              "      <td>TRADE</td>\n",
              "    </tr>\n",
              "    <tr>\n",
              "      <th>1484</th>\n",
              "      <td>VIC1</td>\n",
              "      <td>2021/01/31 22:30:00</td>\n",
              "      <td>4168.66</td>\n",
              "      <td>29.83</td>\n",
              "      <td>TRADE</td>\n",
              "    </tr>\n",
              "    <tr>\n",
              "      <th>1485</th>\n",
              "      <td>VIC1</td>\n",
              "      <td>2021/01/31 23:00:00</td>\n",
              "      <td>4170.81</td>\n",
              "      <td>31.37</td>\n",
              "      <td>TRADE</td>\n",
              "    </tr>\n",
              "    <tr>\n",
              "      <th>1486</th>\n",
              "      <td>VIC1</td>\n",
              "      <td>2021/01/31 23:30:00</td>\n",
              "      <td>4389.61</td>\n",
              "      <td>30.22</td>\n",
              "      <td>TRADE</td>\n",
              "    </tr>\n",
              "  </tbody>\n",
              "</table>\n",
              "</div>"
            ],
            "text/plain": [
              "     REGION       SETTLEMENTDATE  TOTALDEMAND    RRP PERIODTYPE\n",
              "1482   VIC1  2021/01/31 21:30:00      4364.61  30.97      TRADE\n",
              "1483   VIC1  2021/01/31 22:00:00      4272.24  29.86      TRADE\n",
              "1484   VIC1  2021/01/31 22:30:00      4168.66  29.83      TRADE\n",
              "1485   VIC1  2021/01/31 23:00:00      4170.81  31.37      TRADE\n",
              "1486   VIC1  2021/01/31 23:30:00      4389.61  30.22      TRADE"
            ]
          },
          "metadata": {
            "tags": []
          },
          "execution_count": 69
        }
      ]
    },
    {
      "cell_type": "code",
      "metadata": {
        "colab": {
          "base_uri": "https://localhost:8080/",
          "height": 225
        },
        "id": "Kmrv4Sww_IVn",
        "outputId": "c08323ba-4497-4722-e62e-a67fc45890b1"
      },
      "source": [
        "#Pass the January data set and append the updated data to the final dataset\n",
        "data_JanuaryRRP = update_dataset(data_JanuaryRRP)\n",
        "finaldataset = finaldataset.append(data_JanuaryRRP)\n",
        "finaldataset.tail()"
      ],
      "execution_count": null,
      "outputs": [
        {
          "output_type": "execute_result",
          "data": {
            "text/html": [
              "<div>\n",
              "<style scoped>\n",
              "    .dataframe tbody tr th:only-of-type {\n",
              "        vertical-align: middle;\n",
              "    }\n",
              "\n",
              "    .dataframe tbody tr th {\n",
              "        vertical-align: top;\n",
              "    }\n",
              "\n",
              "    .dataframe thead th {\n",
              "        text-align: right;\n",
              "    }\n",
              "</style>\n",
              "<table border=\"1\" class=\"dataframe\">\n",
              "  <thead>\n",
              "    <tr style=\"text-align: right;\">\n",
              "      <th></th>\n",
              "      <th>RRP</th>\n",
              "    </tr>\n",
              "    <tr>\n",
              "      <th>DATE</th>\n",
              "      <th></th>\n",
              "    </tr>\n",
              "  </thead>\n",
              "  <tbody>\n",
              "    <tr>\n",
              "      <th>2021/01/27</th>\n",
              "      <td>-1.420000</td>\n",
              "    </tr>\n",
              "    <tr>\n",
              "      <th>2021/01/28</th>\n",
              "      <td>26.682292</td>\n",
              "    </tr>\n",
              "    <tr>\n",
              "      <th>2021/01/29</th>\n",
              "      <td>32.459167</td>\n",
              "    </tr>\n",
              "    <tr>\n",
              "      <th>2021/01/30</th>\n",
              "      <td>7.054792</td>\n",
              "    </tr>\n",
              "    <tr>\n",
              "      <th>2021/01/31</th>\n",
              "      <td>14.092083</td>\n",
              "    </tr>\n",
              "  </tbody>\n",
              "</table>\n",
              "</div>"
            ],
            "text/plain": [
              "                  RRP\n",
              "DATE                 \n",
              "2021/01/27  -1.420000\n",
              "2021/01/28  26.682292\n",
              "2021/01/29  32.459167\n",
              "2021/01/30   7.054792\n",
              "2021/01/31  14.092083"
            ]
          },
          "metadata": {
            "tags": []
          },
          "execution_count": 70
        }
      ]
    },
    {
      "cell_type": "code",
      "metadata": {
        "colab": {
          "base_uri": "https://localhost:8080/"
        },
        "id": "6-pMoxg5_QyF",
        "outputId": "cb3a541f-9e48-41cd-f3d9-dac2f93795ee"
      },
      "source": [
        "#Fetching data set for February month RRP values from Australian Energy Market Operator\n",
        "data_FebruaryRRP = pd.read_csv(io.BytesIO(uploaded['PRICE_AND_DEMAND_202102_VIC1.csv']))\n",
        "data_FebruaryRRP['SETTLEMENTDATE'].count()"
      ],
      "execution_count": 48,
      "outputs": [
        {
          "output_type": "execute_result",
          "data": {
            "text/plain": [
              "1344"
            ]
          },
          "metadata": {
            "tags": []
          },
          "execution_count": 48
        }
      ]
    },
    {
      "cell_type": "code",
      "metadata": {
        "colab": {
          "base_uri": "https://localhost:8080/",
          "height": 195
        },
        "id": "4UhYAkI_EZqE",
        "outputId": "b41e7059-3970-47ee-9f0d-fac83da02719"
      },
      "source": [
        "#Fetch the February data values\n",
        "data_FebruaryRRP = data_FebruaryRRP.iloc[:1343]\n",
        "data_FebruaryRRP.tail()"
      ],
      "execution_count": null,
      "outputs": [
        {
          "output_type": "execute_result",
          "data": {
            "text/html": [
              "<div>\n",
              "<style scoped>\n",
              "    .dataframe tbody tr th:only-of-type {\n",
              "        vertical-align: middle;\n",
              "    }\n",
              "\n",
              "    .dataframe tbody tr th {\n",
              "        vertical-align: top;\n",
              "    }\n",
              "\n",
              "    .dataframe thead th {\n",
              "        text-align: right;\n",
              "    }\n",
              "</style>\n",
              "<table border=\"1\" class=\"dataframe\">\n",
              "  <thead>\n",
              "    <tr style=\"text-align: right;\">\n",
              "      <th></th>\n",
              "      <th>REGION</th>\n",
              "      <th>SETTLEMENTDATE</th>\n",
              "      <th>TOTALDEMAND</th>\n",
              "      <th>RRP</th>\n",
              "      <th>PERIODTYPE</th>\n",
              "    </tr>\n",
              "  </thead>\n",
              "  <tbody>\n",
              "    <tr>\n",
              "      <th>1338</th>\n",
              "      <td>VIC1</td>\n",
              "      <td>2021/02/28 21:30:00</td>\n",
              "      <td>4516.92</td>\n",
              "      <td>23.20</td>\n",
              "      <td>TRADE</td>\n",
              "    </tr>\n",
              "    <tr>\n",
              "      <th>1339</th>\n",
              "      <td>VIC1</td>\n",
              "      <td>2021/02/28 22:00:00</td>\n",
              "      <td>4332.51</td>\n",
              "      <td>20.95</td>\n",
              "      <td>TRADE</td>\n",
              "    </tr>\n",
              "    <tr>\n",
              "      <th>1340</th>\n",
              "      <td>VIC1</td>\n",
              "      <td>2021/02/28 22:30:00</td>\n",
              "      <td>4272.33</td>\n",
              "      <td>22.77</td>\n",
              "      <td>TRADE</td>\n",
              "    </tr>\n",
              "    <tr>\n",
              "      <th>1341</th>\n",
              "      <td>VIC1</td>\n",
              "      <td>2021/02/28 23:00:00</td>\n",
              "      <td>4213.54</td>\n",
              "      <td>22.06</td>\n",
              "      <td>TRADE</td>\n",
              "    </tr>\n",
              "    <tr>\n",
              "      <th>1342</th>\n",
              "      <td>VIC1</td>\n",
              "      <td>2021/02/28 23:30:00</td>\n",
              "      <td>4450.41</td>\n",
              "      <td>28.54</td>\n",
              "      <td>TRADE</td>\n",
              "    </tr>\n",
              "  </tbody>\n",
              "</table>\n",
              "</div>"
            ],
            "text/plain": [
              "     REGION       SETTLEMENTDATE  TOTALDEMAND    RRP PERIODTYPE\n",
              "1338   VIC1  2021/02/28 21:30:00      4516.92  23.20      TRADE\n",
              "1339   VIC1  2021/02/28 22:00:00      4332.51  20.95      TRADE\n",
              "1340   VIC1  2021/02/28 22:30:00      4272.33  22.77      TRADE\n",
              "1341   VIC1  2021/02/28 23:00:00      4213.54  22.06      TRADE\n",
              "1342   VIC1  2021/02/28 23:30:00      4450.41  28.54      TRADE"
            ]
          },
          "metadata": {
            "tags": []
          },
          "execution_count": 75
        }
      ]
    },
    {
      "cell_type": "code",
      "metadata": {
        "colab": {
          "base_uri": "https://localhost:8080/",
          "height": 225
        },
        "id": "yRNXwrhVFFzB",
        "outputId": "fde4eb73-1222-4799-c245-f43280af3463"
      },
      "source": [
        "#Pass the February data set and append the updated data to the final dataset\n",
        "data_FebruaryRRP = update_dataset(data_FebruaryRRP)\n",
        "finaldataset = finaldataset.append(data_FebruaryRRP)\n",
        "finaldataset.tail()"
      ],
      "execution_count": null,
      "outputs": [
        {
          "output_type": "execute_result",
          "data": {
            "text/html": [
              "<div>\n",
              "<style scoped>\n",
              "    .dataframe tbody tr th:only-of-type {\n",
              "        vertical-align: middle;\n",
              "    }\n",
              "\n",
              "    .dataframe tbody tr th {\n",
              "        vertical-align: top;\n",
              "    }\n",
              "\n",
              "    .dataframe thead th {\n",
              "        text-align: right;\n",
              "    }\n",
              "</style>\n",
              "<table border=\"1\" class=\"dataframe\">\n",
              "  <thead>\n",
              "    <tr style=\"text-align: right;\">\n",
              "      <th></th>\n",
              "      <th>RRP</th>\n",
              "    </tr>\n",
              "    <tr>\n",
              "      <th>DATE</th>\n",
              "      <th></th>\n",
              "    </tr>\n",
              "  </thead>\n",
              "  <tbody>\n",
              "    <tr>\n",
              "      <th>2021/02/24</th>\n",
              "      <td>25.840417</td>\n",
              "    </tr>\n",
              "    <tr>\n",
              "      <th>2021/02/25</th>\n",
              "      <td>21.205833</td>\n",
              "    </tr>\n",
              "    <tr>\n",
              "      <th>2021/02/26</th>\n",
              "      <td>25.796250</td>\n",
              "    </tr>\n",
              "    <tr>\n",
              "      <th>2021/02/27</th>\n",
              "      <td>29.897083</td>\n",
              "    </tr>\n",
              "    <tr>\n",
              "      <th>2021/02/28</th>\n",
              "      <td>22.412917</td>\n",
              "    </tr>\n",
              "  </tbody>\n",
              "</table>\n",
              "</div>"
            ],
            "text/plain": [
              "                  RRP\n",
              "DATE                 \n",
              "2021/02/24  25.840417\n",
              "2021/02/25  21.205833\n",
              "2021/02/26  25.796250\n",
              "2021/02/27  29.897083\n",
              "2021/02/28  22.412917"
            ]
          },
          "metadata": {
            "tags": []
          },
          "execution_count": 76
        }
      ]
    },
    {
      "cell_type": "code",
      "metadata": {
        "colab": {
          "base_uri": "https://localhost:8080/",
          "height": 17
        },
        "id": "xrIhTLV3FiHS",
        "outputId": "1ef52256-5d42-4e39-82e4-17a22317e485"
      },
      "source": [
        "#Converting dataframe to csv file and downloading the file\n",
        "finaldataset.to_csv('RRP_attribute_data.csv') \n",
        "files.download('RRP_attribute_data.csv')"
      ],
      "execution_count": null,
      "outputs": [
        {
          "output_type": "display_data",
          "data": {
            "application/javascript": [
              "\n",
              "    async function download(id, filename, size) {\n",
              "      if (!google.colab.kernel.accessAllowed) {\n",
              "        return;\n",
              "      }\n",
              "      const div = document.createElement('div');\n",
              "      const label = document.createElement('label');\n",
              "      label.textContent = `Downloading \"${filename}\": `;\n",
              "      div.appendChild(label);\n",
              "      const progress = document.createElement('progress');\n",
              "      progress.max = size;\n",
              "      div.appendChild(progress);\n",
              "      document.body.appendChild(div);\n",
              "\n",
              "      const buffers = [];\n",
              "      let downloaded = 0;\n",
              "\n",
              "      const channel = await google.colab.kernel.comms.open(id);\n",
              "      // Send a message to notify the kernel that we're ready.\n",
              "      channel.send({})\n",
              "\n",
              "      for await (const message of channel.messages) {\n",
              "        // Send a message to notify the kernel that we're ready.\n",
              "        channel.send({})\n",
              "        if (message.buffers) {\n",
              "          for (const buffer of message.buffers) {\n",
              "            buffers.push(buffer);\n",
              "            downloaded += buffer.byteLength;\n",
              "            progress.value = downloaded;\n",
              "          }\n",
              "        }\n",
              "      }\n",
              "      const blob = new Blob(buffers, {type: 'application/binary'});\n",
              "      const a = document.createElement('a');\n",
              "      a.href = window.URL.createObjectURL(blob);\n",
              "      a.download = filename;\n",
              "      div.appendChild(a);\n",
              "      a.click();\n",
              "      div.remove();\n",
              "    }\n",
              "  "
            ],
            "text/plain": [
              "<IPython.core.display.Javascript object>"
            ]
          },
          "metadata": {
            "tags": []
          }
        },
        {
          "output_type": "display_data",
          "data": {
            "application/javascript": [
              "download(\"download_fc734ee9-dc21-42fb-8d5e-f54e9e9d97d2\", \"RRP_attribute_data.csv\", 4185)"
            ],
            "text/plain": [
              "<IPython.core.display.Javascript object>"
            ]
          },
          "metadata": {
            "tags": []
          }
        }
      ]
    },
    {
      "cell_type": "code",
      "metadata": {
        "colab": {
          "base_uri": "https://localhost:8080/",
          "height": 195
        },
        "id": "e30hrkSdHK7-",
        "outputId": "99fc79f1-4205-4cfc-df5a-9a932a8323b3"
      },
      "source": [
        "#Drop the remaining RRP attributes as the column values are redundant (Discussed in squad meeting)\n",
        "electricity_demand = electricity_demand.drop(['demand_pos_RRP', 'RRP_positive','demand_neg_RRP','RRP_negative','frac_at_neg_RRP'], axis = 1)\n",
        "electricity_demand.head()"
      ],
      "execution_count": null,
      "outputs": [
        {
          "output_type": "execute_result",
          "data": {
            "text/html": [
              "<div>\n",
              "<style scoped>\n",
              "    .dataframe tbody tr th:only-of-type {\n",
              "        vertical-align: middle;\n",
              "    }\n",
              "\n",
              "    .dataframe tbody tr th {\n",
              "        vertical-align: top;\n",
              "    }\n",
              "\n",
              "    .dataframe thead th {\n",
              "        text-align: right;\n",
              "    }\n",
              "</style>\n",
              "<table border=\"1\" class=\"dataframe\">\n",
              "  <thead>\n",
              "    <tr style=\"text-align: right;\">\n",
              "      <th></th>\n",
              "      <th>date</th>\n",
              "      <th>demand</th>\n",
              "      <th>RRP</th>\n",
              "      <th>min_temperature</th>\n",
              "      <th>max_temperature</th>\n",
              "      <th>solar_exposure</th>\n",
              "      <th>rainfall</th>\n",
              "      <th>school_day</th>\n",
              "      <th>holiday</th>\n",
              "    </tr>\n",
              "  </thead>\n",
              "  <tbody>\n",
              "    <tr>\n",
              "      <th>0</th>\n",
              "      <td>1/1/2015</td>\n",
              "      <td>99635.030</td>\n",
              "      <td>25.633696</td>\n",
              "      <td>13.3</td>\n",
              "      <td>26.9</td>\n",
              "      <td>23.6</td>\n",
              "      <td>0.0</td>\n",
              "      <td>N</td>\n",
              "      <td>Y</td>\n",
              "    </tr>\n",
              "    <tr>\n",
              "      <th>1</th>\n",
              "      <td>1/2/2015</td>\n",
              "      <td>129606.010</td>\n",
              "      <td>33.138988</td>\n",
              "      <td>15.4</td>\n",
              "      <td>38.8</td>\n",
              "      <td>26.8</td>\n",
              "      <td>0.0</td>\n",
              "      <td>N</td>\n",
              "      <td>N</td>\n",
              "    </tr>\n",
              "    <tr>\n",
              "      <th>2</th>\n",
              "      <td>1/3/2015</td>\n",
              "      <td>142300.540</td>\n",
              "      <td>34.564855</td>\n",
              "      <td>20.0</td>\n",
              "      <td>38.2</td>\n",
              "      <td>26.5</td>\n",
              "      <td>0.0</td>\n",
              "      <td>N</td>\n",
              "      <td>N</td>\n",
              "    </tr>\n",
              "    <tr>\n",
              "      <th>3</th>\n",
              "      <td>1/4/2015</td>\n",
              "      <td>104330.715</td>\n",
              "      <td>25.005560</td>\n",
              "      <td>16.3</td>\n",
              "      <td>21.4</td>\n",
              "      <td>25.2</td>\n",
              "      <td>4.2</td>\n",
              "      <td>N</td>\n",
              "      <td>N</td>\n",
              "    </tr>\n",
              "    <tr>\n",
              "      <th>4</th>\n",
              "      <td>1/5/2015</td>\n",
              "      <td>118132.200</td>\n",
              "      <td>26.724176</td>\n",
              "      <td>15.0</td>\n",
              "      <td>22.0</td>\n",
              "      <td>30.7</td>\n",
              "      <td>0.0</td>\n",
              "      <td>N</td>\n",
              "      <td>N</td>\n",
              "    </tr>\n",
              "  </tbody>\n",
              "</table>\n",
              "</div>"
            ],
            "text/plain": [
              "       date      demand        RRP  ...  rainfall  school_day  holiday\n",
              "0  1/1/2015   99635.030  25.633696  ...       0.0           N        Y\n",
              "1  1/2/2015  129606.010  33.138988  ...       0.0           N        N\n",
              "2  1/3/2015  142300.540  34.564855  ...       0.0           N        N\n",
              "3  1/4/2015  104330.715  25.005560  ...       4.2           N        N\n",
              "4  1/5/2015  118132.200  26.724176  ...       0.0           N        N\n",
              "\n",
              "[5 rows x 9 columns]"
            ]
          },
          "metadata": {
            "tags": []
          },
          "execution_count": 81
        }
      ]
    },
    {
      "cell_type": "code",
      "metadata": {
        "colab": {
          "base_uri": "https://localhost:8080/",
          "height": 17
        },
        "id": "MbUlqfk0Jjy2",
        "outputId": "a6acae95-0f23-4c2a-cc3f-d5440f986cb6"
      },
      "source": [
        "#Converting dataframe to csv file and downloading the file\n",
        "electricity_demand.to_csv('electricity_demand.csv') \n",
        "files.download('electricity_demand.csv')"
      ],
      "execution_count": null,
      "outputs": [
        {
          "output_type": "display_data",
          "data": {
            "application/javascript": [
              "\n",
              "    async function download(id, filename, size) {\n",
              "      if (!google.colab.kernel.accessAllowed) {\n",
              "        return;\n",
              "      }\n",
              "      const div = document.createElement('div');\n",
              "      const label = document.createElement('label');\n",
              "      label.textContent = `Downloading \"${filename}\": `;\n",
              "      div.appendChild(label);\n",
              "      const progress = document.createElement('progress');\n",
              "      progress.max = size;\n",
              "      div.appendChild(progress);\n",
              "      document.body.appendChild(div);\n",
              "\n",
              "      const buffers = [];\n",
              "      let downloaded = 0;\n",
              "\n",
              "      const channel = await google.colab.kernel.comms.open(id);\n",
              "      // Send a message to notify the kernel that we're ready.\n",
              "      channel.send({})\n",
              "\n",
              "      for await (const message of channel.messages) {\n",
              "        // Send a message to notify the kernel that we're ready.\n",
              "        channel.send({})\n",
              "        if (message.buffers) {\n",
              "          for (const buffer of message.buffers) {\n",
              "            buffers.push(buffer);\n",
              "            downloaded += buffer.byteLength;\n",
              "            progress.value = downloaded;\n",
              "          }\n",
              "        }\n",
              "      }\n",
              "      const blob = new Blob(buffers, {type: 'application/binary'});\n",
              "      const a = document.createElement('a');\n",
              "      a.href = window.URL.createObjectURL(blob);\n",
              "      a.download = filename;\n",
              "      div.appendChild(a);\n",
              "      a.click();\n",
              "      div.remove();\n",
              "    }\n",
              "  "
            ],
            "text/plain": [
              "<IPython.core.display.Javascript object>"
            ]
          },
          "metadata": {
            "tags": []
          }
        },
        {
          "output_type": "display_data",
          "data": {
            "application/javascript": [
              "download(\"download_78b99c92-5d5f-4048-bf0d-9695a5a4957b\", \"electricity_demand.csv\", 131209)"
            ],
            "text/plain": [
              "<IPython.core.display.Javascript object>"
            ]
          },
          "metadata": {
            "tags": []
          }
        }
      ]
    },
    {
      "cell_type": "code",
      "metadata": {
        "id": "WEVaanZCCbZ0"
      },
      "source": [
        "#Function to fetch the electricity demand\n",
        "def updateElectricityDemand(data):\n",
        "  #Split the column to form date and time column\n",
        "  data[['DATE','TIME']] = data.SETTLEMENTDATE.str.split(\" \",expand=True)\n",
        "  #Fetch the values of current month\n",
        "  rowcount = data['DATE'].count()\n",
        "  data = data.iloc[:(rowcount-1)]\n",
        "  #Sum the total electricity demand depending on date\n",
        "  data = data.groupby('DATE')['TOTALDEMAND'].sum()\n",
        "  data = data.to_frame()\n",
        "  return data"
      ],
      "execution_count": 36,
      "outputs": []
    },
    {
      "cell_type": "code",
      "metadata": {
        "colab": {
          "base_uri": "https://localhost:8080/",
          "height": 225
        },
        "id": "F1923FGbDQKC",
        "outputId": "133117a4-90f3-4ee3-dad9-99f752e009e8"
      },
      "source": [
        "#Fetch summation of electricity demand for October month\n",
        "data_OctoberRRP = updateElectricityDemand(data_OctoberRRP)\n",
        "data_OctoberRRP = data_OctoberRRP.iloc[6:]\n",
        "finaldataset = data_OctoberRRP.copy()\n",
        "finaldataset.tail()"
      ],
      "execution_count": 37,
      "outputs": [
        {
          "output_type": "execute_result",
          "data": {
            "text/html": [
              "<div>\n",
              "<style scoped>\n",
              "    .dataframe tbody tr th:only-of-type {\n",
              "        vertical-align: middle;\n",
              "    }\n",
              "\n",
              "    .dataframe tbody tr th {\n",
              "        vertical-align: top;\n",
              "    }\n",
              "\n",
              "    .dataframe thead th {\n",
              "        text-align: right;\n",
              "    }\n",
              "</style>\n",
              "<table border=\"1\" class=\"dataframe\">\n",
              "  <thead>\n",
              "    <tr style=\"text-align: right;\">\n",
              "      <th></th>\n",
              "      <th>TOTALDEMAND</th>\n",
              "    </tr>\n",
              "    <tr>\n",
              "      <th>DATE</th>\n",
              "      <th></th>\n",
              "    </tr>\n",
              "  </thead>\n",
              "  <tbody>\n",
              "    <tr>\n",
              "      <th>2020/10/27</th>\n",
              "      <td>214204.62</td>\n",
              "    </tr>\n",
              "    <tr>\n",
              "      <th>2020/10/28</th>\n",
              "      <td>212613.34</td>\n",
              "    </tr>\n",
              "    <tr>\n",
              "      <th>2020/10/29</th>\n",
              "      <td>217505.62</td>\n",
              "    </tr>\n",
              "    <tr>\n",
              "      <th>2020/10/30</th>\n",
              "      <td>204876.43</td>\n",
              "    </tr>\n",
              "    <tr>\n",
              "      <th>2020/10/31</th>\n",
              "      <td>195302.99</td>\n",
              "    </tr>\n",
              "  </tbody>\n",
              "</table>\n",
              "</div>"
            ],
            "text/plain": [
              "            TOTALDEMAND\n",
              "DATE                   \n",
              "2020/10/27    214204.62\n",
              "2020/10/28    212613.34\n",
              "2020/10/29    217505.62\n",
              "2020/10/30    204876.43\n",
              "2020/10/31    195302.99"
            ]
          },
          "metadata": {
            "tags": []
          },
          "execution_count": 37
        }
      ]
    },
    {
      "cell_type": "code",
      "metadata": {
        "colab": {
          "base_uri": "https://localhost:8080/",
          "height": 225
        },
        "id": "PDuvNGliG4Oc",
        "outputId": "8cdba06a-3911-4300-86e9-0a4bb83cb243"
      },
      "source": [
        "#Fetch summation of electricity demand for November month\n",
        "data_NovemberRRP = updateElectricityDemand(data_NovemberRRP)\n",
        "finaldataset = finaldataset.append(data_NovemberRRP)\n",
        "finaldataset.tail()"
      ],
      "execution_count": 40,
      "outputs": [
        {
          "output_type": "execute_result",
          "data": {
            "text/html": [
              "<div>\n",
              "<style scoped>\n",
              "    .dataframe tbody tr th:only-of-type {\n",
              "        vertical-align: middle;\n",
              "    }\n",
              "\n",
              "    .dataframe tbody tr th {\n",
              "        vertical-align: top;\n",
              "    }\n",
              "\n",
              "    .dataframe thead th {\n",
              "        text-align: right;\n",
              "    }\n",
              "</style>\n",
              "<table border=\"1\" class=\"dataframe\">\n",
              "  <thead>\n",
              "    <tr style=\"text-align: right;\">\n",
              "      <th></th>\n",
              "      <th>TOTALDEMAND</th>\n",
              "    </tr>\n",
              "    <tr>\n",
              "      <th>DATE</th>\n",
              "      <th></th>\n",
              "    </tr>\n",
              "  </thead>\n",
              "  <tbody>\n",
              "    <tr>\n",
              "      <th>2020/11/26</th>\n",
              "      <td>223120.72</td>\n",
              "    </tr>\n",
              "    <tr>\n",
              "      <th>2020/11/27</th>\n",
              "      <td>251297.54</td>\n",
              "    </tr>\n",
              "    <tr>\n",
              "      <th>2020/11/28</th>\n",
              "      <td>224941.52</td>\n",
              "    </tr>\n",
              "    <tr>\n",
              "      <th>2020/11/29</th>\n",
              "      <td>187915.29</td>\n",
              "    </tr>\n",
              "    <tr>\n",
              "      <th>2020/11/30</th>\n",
              "      <td>219106.91</td>\n",
              "    </tr>\n",
              "  </tbody>\n",
              "</table>\n",
              "</div>"
            ],
            "text/plain": [
              "            TOTALDEMAND\n",
              "DATE                   \n",
              "2020/11/26    223120.72\n",
              "2020/11/27    251297.54\n",
              "2020/11/28    224941.52\n",
              "2020/11/29    187915.29\n",
              "2020/11/30    219106.91"
            ]
          },
          "metadata": {
            "tags": []
          },
          "execution_count": 40
        }
      ]
    },
    {
      "cell_type": "code",
      "metadata": {
        "colab": {
          "base_uri": "https://localhost:8080/",
          "height": 225
        },
        "id": "VQninwnwIBSE",
        "outputId": "3670214d-9019-447c-e697-8e4aa4e3250f"
      },
      "source": [
        "#Fetch summation of electricity demand for December month\n",
        "data_DecemberRRP = updateElectricityDemand(data_DecemberRRP)\n",
        "finaldataset = finaldataset.append(data_DecemberRRP)\n",
        "finaldataset.tail()"
      ],
      "execution_count": 43,
      "outputs": [
        {
          "output_type": "execute_result",
          "data": {
            "text/html": [
              "<div>\n",
              "<style scoped>\n",
              "    .dataframe tbody tr th:only-of-type {\n",
              "        vertical-align: middle;\n",
              "    }\n",
              "\n",
              "    .dataframe tbody tr th {\n",
              "        vertical-align: top;\n",
              "    }\n",
              "\n",
              "    .dataframe thead th {\n",
              "        text-align: right;\n",
              "    }\n",
              "</style>\n",
              "<table border=\"1\" class=\"dataframe\">\n",
              "  <thead>\n",
              "    <tr style=\"text-align: right;\">\n",
              "      <th></th>\n",
              "      <th>TOTALDEMAND</th>\n",
              "    </tr>\n",
              "    <tr>\n",
              "      <th>DATE</th>\n",
              "      <th></th>\n",
              "    </tr>\n",
              "  </thead>\n",
              "  <tbody>\n",
              "    <tr>\n",
              "      <th>2020/12/27</th>\n",
              "      <td>192275.12</td>\n",
              "    </tr>\n",
              "    <tr>\n",
              "      <th>2020/12/28</th>\n",
              "      <td>171584.18</td>\n",
              "    </tr>\n",
              "    <tr>\n",
              "      <th>2020/12/29</th>\n",
              "      <td>181074.75</td>\n",
              "    </tr>\n",
              "    <tr>\n",
              "      <th>2020/12/30</th>\n",
              "      <td>187464.67</td>\n",
              "    </tr>\n",
              "    <tr>\n",
              "      <th>2020/12/31</th>\n",
              "      <td>189802.40</td>\n",
              "    </tr>\n",
              "  </tbody>\n",
              "</table>\n",
              "</div>"
            ],
            "text/plain": [
              "            TOTALDEMAND\n",
              "DATE                   \n",
              "2020/12/27    192275.12\n",
              "2020/12/28    171584.18\n",
              "2020/12/29    181074.75\n",
              "2020/12/30    187464.67\n",
              "2020/12/31    189802.40"
            ]
          },
          "metadata": {
            "tags": []
          },
          "execution_count": 43
        }
      ]
    },
    {
      "cell_type": "code",
      "metadata": {
        "colab": {
          "base_uri": "https://localhost:8080/",
          "height": 225
        },
        "id": "CsSB8phbIaXX",
        "outputId": "8ff5416b-577e-48c3-cd96-dcc7a5713099"
      },
      "source": [
        "#Fetch summation of electricity demand for January month\n",
        "data_JanuaryRRP = updateElectricityDemand(data_JanuaryRRP)\n",
        "finaldataset = finaldataset.append(data_JanuaryRRP)\n",
        "finaldataset.tail()"
      ],
      "execution_count": 46,
      "outputs": [
        {
          "output_type": "execute_result",
          "data": {
            "text/html": [
              "<div>\n",
              "<style scoped>\n",
              "    .dataframe tbody tr th:only-of-type {\n",
              "        vertical-align: middle;\n",
              "    }\n",
              "\n",
              "    .dataframe tbody tr th {\n",
              "        vertical-align: top;\n",
              "    }\n",
              "\n",
              "    .dataframe thead th {\n",
              "        text-align: right;\n",
              "    }\n",
              "</style>\n",
              "<table border=\"1\" class=\"dataframe\">\n",
              "  <thead>\n",
              "    <tr style=\"text-align: right;\">\n",
              "      <th></th>\n",
              "      <th>TOTALDEMAND</th>\n",
              "    </tr>\n",
              "    <tr>\n",
              "      <th>DATE</th>\n",
              "      <th></th>\n",
              "    </tr>\n",
              "  </thead>\n",
              "  <tbody>\n",
              "    <tr>\n",
              "      <th>2021/01/27</th>\n",
              "      <td>204864.77</td>\n",
              "    </tr>\n",
              "    <tr>\n",
              "      <th>2021/01/28</th>\n",
              "      <td>231448.70</td>\n",
              "    </tr>\n",
              "    <tr>\n",
              "      <th>2021/01/29</th>\n",
              "      <td>238632.71</td>\n",
              "    </tr>\n",
              "    <tr>\n",
              "      <th>2021/01/30</th>\n",
              "      <td>197416.29</td>\n",
              "    </tr>\n",
              "    <tr>\n",
              "      <th>2021/01/31</th>\n",
              "      <td>184446.81</td>\n",
              "    </tr>\n",
              "  </tbody>\n",
              "</table>\n",
              "</div>"
            ],
            "text/plain": [
              "            TOTALDEMAND\n",
              "DATE                   \n",
              "2021/01/27    204864.77\n",
              "2021/01/28    231448.70\n",
              "2021/01/29    238632.71\n",
              "2021/01/30    197416.29\n",
              "2021/01/31    184446.81"
            ]
          },
          "metadata": {
            "tags": []
          },
          "execution_count": 46
        }
      ]
    },
    {
      "cell_type": "code",
      "metadata": {
        "colab": {
          "base_uri": "https://localhost:8080/",
          "height": 225
        },
        "id": "3ME0DUSdIvKj",
        "outputId": "9096b3ad-c2e9-4551-f98a-49e578a25b16"
      },
      "source": [
        "#Fetch summation of electricity demand for February month\n",
        "data_FebruaryRRP = updateElectricityDemand(data_FebruaryRRP)\n",
        "finaldataset = finaldataset.append(data_FebruaryRRP)\n",
        "finaldataset.tail()"
      ],
      "execution_count": 49,
      "outputs": [
        {
          "output_type": "execute_result",
          "data": {
            "text/html": [
              "<div>\n",
              "<style scoped>\n",
              "    .dataframe tbody tr th:only-of-type {\n",
              "        vertical-align: middle;\n",
              "    }\n",
              "\n",
              "    .dataframe tbody tr th {\n",
              "        vertical-align: top;\n",
              "    }\n",
              "\n",
              "    .dataframe thead th {\n",
              "        text-align: right;\n",
              "    }\n",
              "</style>\n",
              "<table border=\"1\" class=\"dataframe\">\n",
              "  <thead>\n",
              "    <tr style=\"text-align: right;\">\n",
              "      <th></th>\n",
              "      <th>TOTALDEMAND</th>\n",
              "    </tr>\n",
              "    <tr>\n",
              "      <th>DATE</th>\n",
              "      <th></th>\n",
              "    </tr>\n",
              "  </thead>\n",
              "  <tbody>\n",
              "    <tr>\n",
              "      <th>2021/02/24</th>\n",
              "      <td>217154.22</td>\n",
              "    </tr>\n",
              "    <tr>\n",
              "      <th>2021/02/25</th>\n",
              "      <td>214912.69</td>\n",
              "    </tr>\n",
              "    <tr>\n",
              "      <th>2021/02/26</th>\n",
              "      <td>215614.00</td>\n",
              "    </tr>\n",
              "    <tr>\n",
              "      <th>2021/02/27</th>\n",
              "      <td>206835.32</td>\n",
              "    </tr>\n",
              "    <tr>\n",
              "      <th>2021/02/28</th>\n",
              "      <td>195102.18</td>\n",
              "    </tr>\n",
              "  </tbody>\n",
              "</table>\n",
              "</div>"
            ],
            "text/plain": [
              "            TOTALDEMAND\n",
              "DATE                   \n",
              "2021/02/24    217154.22\n",
              "2021/02/25    214912.69\n",
              "2021/02/26    215614.00\n",
              "2021/02/27    206835.32\n",
              "2021/02/28    195102.18"
            ]
          },
          "metadata": {
            "tags": []
          },
          "execution_count": 49
        }
      ]
    },
    {
      "cell_type": "code",
      "metadata": {
        "colab": {
          "base_uri": "https://localhost:8080/",
          "height": 17
        },
        "id": "V0Yq4ClhJCIv",
        "outputId": "f4905e6b-4443-47e9-dfd0-522a0ed7aba8"
      },
      "source": [
        "#Converting dataframe to csv file and downloading the file\n",
        "finaldataset.to_csv('electricitydemand_data.csv') \n",
        "files.download('electricitydemand_data.csv')"
      ],
      "execution_count": 50,
      "outputs": [
        {
          "output_type": "display_data",
          "data": {
            "application/javascript": [
              "\n",
              "    async function download(id, filename, size) {\n",
              "      if (!google.colab.kernel.accessAllowed) {\n",
              "        return;\n",
              "      }\n",
              "      const div = document.createElement('div');\n",
              "      const label = document.createElement('label');\n",
              "      label.textContent = `Downloading \"${filename}\": `;\n",
              "      div.appendChild(label);\n",
              "      const progress = document.createElement('progress');\n",
              "      progress.max = size;\n",
              "      div.appendChild(progress);\n",
              "      document.body.appendChild(div);\n",
              "\n",
              "      const buffers = [];\n",
              "      let downloaded = 0;\n",
              "\n",
              "      const channel = await google.colab.kernel.comms.open(id);\n",
              "      // Send a message to notify the kernel that we're ready.\n",
              "      channel.send({})\n",
              "\n",
              "      for await (const message of channel.messages) {\n",
              "        // Send a message to notify the kernel that we're ready.\n",
              "        channel.send({})\n",
              "        if (message.buffers) {\n",
              "          for (const buffer of message.buffers) {\n",
              "            buffers.push(buffer);\n",
              "            downloaded += buffer.byteLength;\n",
              "            progress.value = downloaded;\n",
              "          }\n",
              "        }\n",
              "      }\n",
              "      const blob = new Blob(buffers, {type: 'application/binary'});\n",
              "      const a = document.createElement('a');\n",
              "      a.href = window.URL.createObjectURL(blob);\n",
              "      a.download = filename;\n",
              "      div.appendChild(a);\n",
              "      a.click();\n",
              "      div.remove();\n",
              "    }\n",
              "  "
            ],
            "text/plain": [
              "<IPython.core.display.Javascript object>"
            ]
          },
          "metadata": {
            "tags": []
          }
        },
        {
          "output_type": "display_data",
          "data": {
            "application/javascript": [
              "download(\"download_2fa62c84-a68e-4a69-8416-19ed97def6a8\", \"electricitydemand_data.csv\", 4055)"
            ],
            "text/plain": [
              "<IPython.core.display.Javascript object>"
            ]
          },
          "metadata": {
            "tags": []
          }
        }
      ]
    }
  ]
}