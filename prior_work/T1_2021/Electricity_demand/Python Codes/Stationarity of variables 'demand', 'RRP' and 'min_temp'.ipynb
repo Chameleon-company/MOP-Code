{
 "cells": [
  {
   "cell_type": "code",
   "execution_count": 112,
   "metadata": {},
   "outputs": [],
   "source": [
    "import pandas as pd\n",
    "import numpy as np\n",
    "import matplotlib.pyplot as plt\n",
    "from matplotlib import pyplot\n",
    "from pandas.plotting import lag_plot"
   ]
  },
  {
   "cell_type": "code",
   "execution_count": 76,
   "metadata": {},
   "outputs": [
    {
     "data": {
      "text/html": [
       "<div>\n",
       "<style scoped>\n",
       "    .dataframe tbody tr th:only-of-type {\n",
       "        vertical-align: middle;\n",
       "    }\n",
       "\n",
       "    .dataframe tbody tr th {\n",
       "        vertical-align: top;\n",
       "    }\n",
       "\n",
       "    .dataframe thead th {\n",
       "        text-align: right;\n",
       "    }\n",
       "</style>\n",
       "<table border=\"1\" class=\"dataframe\">\n",
       "  <thead>\n",
       "    <tr style=\"text-align: right;\">\n",
       "      <th></th>\n",
       "      <th>demand</th>\n",
       "      <th>RRP</th>\n",
       "      <th>min_temperature</th>\n",
       "      <th>max_temperature</th>\n",
       "      <th>solar_exposure</th>\n",
       "      <th>rainfall</th>\n",
       "      <th>school_day</th>\n",
       "      <th>holiday</th>\n",
       "    </tr>\n",
       "    <tr>\n",
       "      <th>date</th>\n",
       "      <th></th>\n",
       "      <th></th>\n",
       "      <th></th>\n",
       "      <th></th>\n",
       "      <th></th>\n",
       "      <th></th>\n",
       "      <th></th>\n",
       "      <th></th>\n",
       "    </tr>\n",
       "  </thead>\n",
       "  <tbody>\n",
       "    <tr>\n",
       "      <th>1/01/2015</th>\n",
       "      <td>99635.030</td>\n",
       "      <td>25.633696</td>\n",
       "      <td>13.3</td>\n",
       "      <td>26.9</td>\n",
       "      <td>23.6</td>\n",
       "      <td>0.0</td>\n",
       "      <td>N</td>\n",
       "      <td>Y</td>\n",
       "    </tr>\n",
       "    <tr>\n",
       "      <th>1/02/2015</th>\n",
       "      <td>129606.010</td>\n",
       "      <td>33.138988</td>\n",
       "      <td>15.4</td>\n",
       "      <td>38.8</td>\n",
       "      <td>26.8</td>\n",
       "      <td>0.0</td>\n",
       "      <td>N</td>\n",
       "      <td>N</td>\n",
       "    </tr>\n",
       "    <tr>\n",
       "      <th>1/03/2015</th>\n",
       "      <td>142300.540</td>\n",
       "      <td>34.564855</td>\n",
       "      <td>20.0</td>\n",
       "      <td>38.2</td>\n",
       "      <td>26.5</td>\n",
       "      <td>0.0</td>\n",
       "      <td>N</td>\n",
       "      <td>N</td>\n",
       "    </tr>\n",
       "    <tr>\n",
       "      <th>1/04/2015</th>\n",
       "      <td>104330.715</td>\n",
       "      <td>25.005560</td>\n",
       "      <td>16.3</td>\n",
       "      <td>21.4</td>\n",
       "      <td>25.2</td>\n",
       "      <td>4.2</td>\n",
       "      <td>N</td>\n",
       "      <td>N</td>\n",
       "    </tr>\n",
       "    <tr>\n",
       "      <th>1/05/2015</th>\n",
       "      <td>118132.200</td>\n",
       "      <td>26.724176</td>\n",
       "      <td>15.0</td>\n",
       "      <td>22.0</td>\n",
       "      <td>30.7</td>\n",
       "      <td>0.0</td>\n",
       "      <td>N</td>\n",
       "      <td>N</td>\n",
       "    </tr>\n",
       "    <tr>\n",
       "      <th>...</th>\n",
       "      <td>...</td>\n",
       "      <td>...</td>\n",
       "      <td>...</td>\n",
       "      <td>...</td>\n",
       "      <td>...</td>\n",
       "      <td>...</td>\n",
       "      <td>...</td>\n",
       "      <td>...</td>\n",
       "    </tr>\n",
       "    <tr>\n",
       "      <th>2/24/2021</th>\n",
       "      <td>108577.110</td>\n",
       "      <td>25.840417</td>\n",
       "      <td>11.6</td>\n",
       "      <td>20.2</td>\n",
       "      <td>23.3</td>\n",
       "      <td>0.0</td>\n",
       "      <td>Y</td>\n",
       "      <td>N</td>\n",
       "    </tr>\n",
       "    <tr>\n",
       "      <th>2/25/2021</th>\n",
       "      <td>107456.345</td>\n",
       "      <td>21.205833</td>\n",
       "      <td>10.7</td>\n",
       "      <td>24.3</td>\n",
       "      <td>18.9</td>\n",
       "      <td>0.0</td>\n",
       "      <td>Y</td>\n",
       "      <td>N</td>\n",
       "    </tr>\n",
       "    <tr>\n",
       "      <th>2/26/2021</th>\n",
       "      <td>107807.000</td>\n",
       "      <td>25.796250</td>\n",
       "      <td>12.3</td>\n",
       "      <td>19.7</td>\n",
       "      <td>15.7</td>\n",
       "      <td>0.4</td>\n",
       "      <td>Y</td>\n",
       "      <td>N</td>\n",
       "    </tr>\n",
       "    <tr>\n",
       "      <th>2/27/2021</th>\n",
       "      <td>103417.660</td>\n",
       "      <td>29.897083</td>\n",
       "      <td>11.1</td>\n",
       "      <td>18.6</td>\n",
       "      <td>11.8</td>\n",
       "      <td>0.0</td>\n",
       "      <td>N</td>\n",
       "      <td>N</td>\n",
       "    </tr>\n",
       "    <tr>\n",
       "      <th>2/28/2021</th>\n",
       "      <td>97551.090</td>\n",
       "      <td>22.412917</td>\n",
       "      <td>7.9</td>\n",
       "      <td>26.7</td>\n",
       "      <td>23.3</td>\n",
       "      <td>0.0</td>\n",
       "      <td>N</td>\n",
       "      <td>N</td>\n",
       "    </tr>\n",
       "  </tbody>\n",
       "</table>\n",
       "<p>2251 rows × 8 columns</p>\n",
       "</div>"
      ],
      "text/plain": [
       "               demand        RRP  min_temperature  max_temperature  \\\n",
       "date                                                                 \n",
       "1/01/2015   99635.030  25.633696             13.3             26.9   \n",
       "1/02/2015  129606.010  33.138988             15.4             38.8   \n",
       "1/03/2015  142300.540  34.564855             20.0             38.2   \n",
       "1/04/2015  104330.715  25.005560             16.3             21.4   \n",
       "1/05/2015  118132.200  26.724176             15.0             22.0   \n",
       "...               ...        ...              ...              ...   \n",
       "2/24/2021  108577.110  25.840417             11.6             20.2   \n",
       "2/25/2021  107456.345  21.205833             10.7             24.3   \n",
       "2/26/2021  107807.000  25.796250             12.3             19.7   \n",
       "2/27/2021  103417.660  29.897083             11.1             18.6   \n",
       "2/28/2021   97551.090  22.412917              7.9             26.7   \n",
       "\n",
       "           solar_exposure  rainfall school_day holiday  \n",
       "date                                                    \n",
       "1/01/2015            23.6       0.0          N       Y  \n",
       "1/02/2015            26.8       0.0          N       N  \n",
       "1/03/2015            26.5       0.0          N       N  \n",
       "1/04/2015            25.2       4.2          N       N  \n",
       "1/05/2015            30.7       0.0          N       N  \n",
       "...                   ...       ...        ...     ...  \n",
       "2/24/2021            23.3       0.0          Y       N  \n",
       "2/25/2021            18.9       0.0          Y       N  \n",
       "2/26/2021            15.7       0.4          Y       N  \n",
       "2/27/2021            11.8       0.0          N       N  \n",
       "2/28/2021            23.3       0.0          N       N  \n",
       "\n",
       "[2251 rows x 8 columns]"
      ]
     },
     "execution_count": 76,
     "metadata": {},
     "output_type": "execute_result"
    }
   ],
   "source": [
    "series = pd.read_csv('electricity_demand.csv', header=0, index_col=0)\n",
    "series"
   ]
  },
  {
   "cell_type": "code",
   "execution_count": 78,
   "metadata": {},
   "outputs": [
    {
     "data": {
      "text/html": [
       "<div>\n",
       "<style scoped>\n",
       "    .dataframe tbody tr th:only-of-type {\n",
       "        vertical-align: middle;\n",
       "    }\n",
       "\n",
       "    .dataframe tbody tr th {\n",
       "        vertical-align: top;\n",
       "    }\n",
       "\n",
       "    .dataframe thead th {\n",
       "        text-align: right;\n",
       "    }\n",
       "</style>\n",
       "<table border=\"1\" class=\"dataframe\">\n",
       "  <thead>\n",
       "    <tr style=\"text-align: right;\">\n",
       "      <th></th>\n",
       "      <th>demand</th>\n",
       "      <th>RRP</th>\n",
       "      <th>min_temperature</th>\n",
       "    </tr>\n",
       "    <tr>\n",
       "      <th>date</th>\n",
       "      <th></th>\n",
       "      <th></th>\n",
       "      <th></th>\n",
       "    </tr>\n",
       "  </thead>\n",
       "  <tbody>\n",
       "    <tr>\n",
       "      <th>1/01/2015</th>\n",
       "      <td>99635.030</td>\n",
       "      <td>25.633696</td>\n",
       "      <td>13.3</td>\n",
       "    </tr>\n",
       "    <tr>\n",
       "      <th>1/02/2015</th>\n",
       "      <td>129606.010</td>\n",
       "      <td>33.138988</td>\n",
       "      <td>15.4</td>\n",
       "    </tr>\n",
       "    <tr>\n",
       "      <th>1/03/2015</th>\n",
       "      <td>142300.540</td>\n",
       "      <td>34.564855</td>\n",
       "      <td>20.0</td>\n",
       "    </tr>\n",
       "    <tr>\n",
       "      <th>1/04/2015</th>\n",
       "      <td>104330.715</td>\n",
       "      <td>25.005560</td>\n",
       "      <td>16.3</td>\n",
       "    </tr>\n",
       "    <tr>\n",
       "      <th>1/05/2015</th>\n",
       "      <td>118132.200</td>\n",
       "      <td>26.724176</td>\n",
       "      <td>15.0</td>\n",
       "    </tr>\n",
       "  </tbody>\n",
       "</table>\n",
       "</div>"
      ],
      "text/plain": [
       "               demand        RRP  min_temperature\n",
       "date                                             \n",
       "1/01/2015   99635.030  25.633696             13.3\n",
       "1/02/2015  129606.010  33.138988             15.4\n",
       "1/03/2015  142300.540  34.564855             20.0\n",
       "1/04/2015  104330.715  25.005560             16.3\n",
       "1/05/2015  118132.200  26.724176             15.0"
      ]
     },
     "execution_count": 78,
     "metadata": {},
     "output_type": "execute_result"
    }
   ],
   "source": [
    "#Drop coulmns that are NOT of interest\n",
    "attributes = series.drop(series.columns[[3, 4, 5, 6, 7]], axis=1)\n",
    "attributes.head(5)"
   ]
  },
  {
   "cell_type": "code",
   "execution_count": 127,
   "metadata": {},
   "outputs": [
    {
     "data": {
      "text/html": [
       "<div>\n",
       "<style scoped>\n",
       "    .dataframe tbody tr th:only-of-type {\n",
       "        vertical-align: middle;\n",
       "    }\n",
       "\n",
       "    .dataframe tbody tr th {\n",
       "        vertical-align: top;\n",
       "    }\n",
       "\n",
       "    .dataframe thead th {\n",
       "        text-align: right;\n",
       "    }\n",
       "</style>\n",
       "<table border=\"1\" class=\"dataframe\">\n",
       "  <thead>\n",
       "    <tr style=\"text-align: right;\">\n",
       "      <th></th>\n",
       "      <th>demand</th>\n",
       "    </tr>\n",
       "    <tr>\n",
       "      <th>date</th>\n",
       "      <th></th>\n",
       "    </tr>\n",
       "  </thead>\n",
       "  <tbody>\n",
       "    <tr>\n",
       "      <th>1/01/2015</th>\n",
       "      <td>99635.030</td>\n",
       "    </tr>\n",
       "    <tr>\n",
       "      <th>1/02/2015</th>\n",
       "      <td>129606.010</td>\n",
       "    </tr>\n",
       "    <tr>\n",
       "      <th>1/03/2015</th>\n",
       "      <td>142300.540</td>\n",
       "    </tr>\n",
       "    <tr>\n",
       "      <th>1/04/2015</th>\n",
       "      <td>104330.715</td>\n",
       "    </tr>\n",
       "    <tr>\n",
       "      <th>1/05/2015</th>\n",
       "      <td>118132.200</td>\n",
       "    </tr>\n",
       "  </tbody>\n",
       "</table>\n",
       "</div>"
      ],
      "text/plain": [
       "               demand\n",
       "date                 \n",
       "1/01/2015   99635.030\n",
       "1/02/2015  129606.010\n",
       "1/03/2015  142300.540\n",
       "1/04/2015  104330.715\n",
       "1/05/2015  118132.200"
      ]
     },
     "execution_count": 127,
     "metadata": {},
     "output_type": "execute_result"
    }
   ],
   "source": [
    "#Creating Series for 'demand' attribute\n",
    "demand = attributes.drop(series.columns[[1, 2]], axis=1)\n",
    "demand.head()"
   ]
  },
  {
   "cell_type": "code",
   "execution_count": 128,
   "metadata": {},
   "outputs": [
    {
     "data": {
      "text/html": [
       "<div>\n",
       "<style scoped>\n",
       "    .dataframe tbody tr th:only-of-type {\n",
       "        vertical-align: middle;\n",
       "    }\n",
       "\n",
       "    .dataframe tbody tr th {\n",
       "        vertical-align: top;\n",
       "    }\n",
       "\n",
       "    .dataframe thead th {\n",
       "        text-align: right;\n",
       "    }\n",
       "</style>\n",
       "<table border=\"1\" class=\"dataframe\">\n",
       "  <thead>\n",
       "    <tr style=\"text-align: right;\">\n",
       "      <th></th>\n",
       "      <th>RRP</th>\n",
       "    </tr>\n",
       "    <tr>\n",
       "      <th>date</th>\n",
       "      <th></th>\n",
       "    </tr>\n",
       "  </thead>\n",
       "  <tbody>\n",
       "    <tr>\n",
       "      <th>1/01/2015</th>\n",
       "      <td>25.633696</td>\n",
       "    </tr>\n",
       "    <tr>\n",
       "      <th>1/02/2015</th>\n",
       "      <td>33.138988</td>\n",
       "    </tr>\n",
       "    <tr>\n",
       "      <th>1/03/2015</th>\n",
       "      <td>34.564855</td>\n",
       "    </tr>\n",
       "    <tr>\n",
       "      <th>1/04/2015</th>\n",
       "      <td>25.005560</td>\n",
       "    </tr>\n",
       "    <tr>\n",
       "      <th>1/05/2015</th>\n",
       "      <td>26.724176</td>\n",
       "    </tr>\n",
       "  </tbody>\n",
       "</table>\n",
       "</div>"
      ],
      "text/plain": [
       "                 RRP\n",
       "date                \n",
       "1/01/2015  25.633696\n",
       "1/02/2015  33.138988\n",
       "1/03/2015  34.564855\n",
       "1/04/2015  25.005560\n",
       "1/05/2015  26.724176"
      ]
     },
     "execution_count": 128,
     "metadata": {},
     "output_type": "execute_result"
    }
   ],
   "source": [
    "#Creating Series for 'rrp' attribute\n",
    "rrp = attributes.drop(series.columns[[0, 2]], axis=1)\n",
    "rrp.head()"
   ]
  },
  {
   "cell_type": "code",
   "execution_count": 168,
   "metadata": {},
   "outputs": [
    {
     "data": {
      "text/html": [
       "<div>\n",
       "<style scoped>\n",
       "    .dataframe tbody tr th:only-of-type {\n",
       "        vertical-align: middle;\n",
       "    }\n",
       "\n",
       "    .dataframe tbody tr th {\n",
       "        vertical-align: top;\n",
       "    }\n",
       "\n",
       "    .dataframe thead th {\n",
       "        text-align: right;\n",
       "    }\n",
       "</style>\n",
       "<table border=\"1\" class=\"dataframe\">\n",
       "  <thead>\n",
       "    <tr style=\"text-align: right;\">\n",
       "      <th></th>\n",
       "      <th>RRP</th>\n",
       "    </tr>\n",
       "  </thead>\n",
       "  <tbody>\n",
       "    <tr>\n",
       "      <th>count</th>\n",
       "      <td>2251.000000</td>\n",
       "    </tr>\n",
       "    <tr>\n",
       "      <th>mean</th>\n",
       "      <td>73.232186</td>\n",
       "    </tr>\n",
       "    <tr>\n",
       "      <th>std</th>\n",
       "      <td>126.547741</td>\n",
       "    </tr>\n",
       "    <tr>\n",
       "      <th>min</th>\n",
       "      <td>-31.154792</td>\n",
       "    </tr>\n",
       "    <tr>\n",
       "      <th>25%</th>\n",
       "      <td>37.032358</td>\n",
       "    </tr>\n",
       "    <tr>\n",
       "      <th>50%</th>\n",
       "      <td>61.815156</td>\n",
       "    </tr>\n",
       "    <tr>\n",
       "      <th>75%</th>\n",
       "      <td>93.007392</td>\n",
       "    </tr>\n",
       "    <tr>\n",
       "      <th>max</th>\n",
       "      <td>4549.645105</td>\n",
       "    </tr>\n",
       "  </tbody>\n",
       "</table>\n",
       "</div>"
      ],
      "text/plain": [
       "               RRP\n",
       "count  2251.000000\n",
       "mean     73.232186\n",
       "std     126.547741\n",
       "min     -31.154792\n",
       "25%      37.032358\n",
       "50%      61.815156\n",
       "75%      93.007392\n",
       "max    4549.645105"
      ]
     },
     "execution_count": 168,
     "metadata": {},
     "output_type": "execute_result"
    }
   ],
   "source": [
    "rrp.describe()"
   ]
  },
  {
   "cell_type": "code",
   "execution_count": 129,
   "metadata": {},
   "outputs": [
    {
     "data": {
      "text/html": [
       "<div>\n",
       "<style scoped>\n",
       "    .dataframe tbody tr th:only-of-type {\n",
       "        vertical-align: middle;\n",
       "    }\n",
       "\n",
       "    .dataframe tbody tr th {\n",
       "        vertical-align: top;\n",
       "    }\n",
       "\n",
       "    .dataframe thead th {\n",
       "        text-align: right;\n",
       "    }\n",
       "</style>\n",
       "<table border=\"1\" class=\"dataframe\">\n",
       "  <thead>\n",
       "    <tr style=\"text-align: right;\">\n",
       "      <th></th>\n",
       "      <th>min_temperature</th>\n",
       "    </tr>\n",
       "    <tr>\n",
       "      <th>date</th>\n",
       "      <th></th>\n",
       "    </tr>\n",
       "  </thead>\n",
       "  <tbody>\n",
       "    <tr>\n",
       "      <th>1/01/2015</th>\n",
       "      <td>13.3</td>\n",
       "    </tr>\n",
       "    <tr>\n",
       "      <th>1/02/2015</th>\n",
       "      <td>15.4</td>\n",
       "    </tr>\n",
       "    <tr>\n",
       "      <th>1/03/2015</th>\n",
       "      <td>20.0</td>\n",
       "    </tr>\n",
       "    <tr>\n",
       "      <th>1/04/2015</th>\n",
       "      <td>16.3</td>\n",
       "    </tr>\n",
       "    <tr>\n",
       "      <th>1/05/2015</th>\n",
       "      <td>15.0</td>\n",
       "    </tr>\n",
       "  </tbody>\n",
       "</table>\n",
       "</div>"
      ],
      "text/plain": [
       "           min_temperature\n",
       "date                      \n",
       "1/01/2015             13.3\n",
       "1/02/2015             15.4\n",
       "1/03/2015             20.0\n",
       "1/04/2015             16.3\n",
       "1/05/2015             15.0"
      ]
     },
     "execution_count": 129,
     "metadata": {},
     "output_type": "execute_result"
    }
   ],
   "source": [
    "#Creating Series for 'min_temperature' attribute\n",
    "mintemp = attributes.drop(series.columns[[0, 1]], axis=1)\n",
    "mintemp.head()"
   ]
  },
  {
   "cell_type": "code",
   "execution_count": 132,
   "metadata": {},
   "outputs": [
    {
     "data": {
      "image/png": "[encoded data removed]",
      "text/plain": [
       "<Figure size 432x288 with 1 Axes>"
      ]
     },
     "metadata": {
      "needs_background": "light"
     },
     "output_type": "display_data"
    },
    {
     "data": {
      "image/png": "[encoded data removed]",
      "text/plain": [
       "<Figure size 432x288 with 1 Axes>"
      ]
     },
     "metadata": {
      "needs_background": "light"
     },
     "output_type": "display_data"
    },
    {
     "data": {
      "image/png": "[encoded data removed]",
      "text/plain": [
       "<Figure size 432x288 with 1 Axes>"
      ]
     },
     "metadata": {
      "needs_background": "light"
     },
     "output_type": "display_data"
    }
   ],
   "source": [
    "#PLot Time series and Histogram for variable 'demand'\n",
    "demand.plot()\n",
    "\n",
    "demand.hist(bins=20)\n",
    "pyplot.show()\n",
    "\n",
    "lag_plot(demand)\n",
    "pyplot.show()"
   ]
  },
  {
   "cell_type": "code",
   "execution_count": 134,
   "metadata": {},
   "outputs": [
    {
     "data": {
      "image/png": "[encoded data removed]",
      "text/plain": [
       "<Figure size 432x288 with 1 Axes>"
      ]
     },
     "metadata": {
      "needs_background": "light"
     },
     "output_type": "display_data"
    },
    {
     "data": {
      "image/png": "[encoded data removed]",
      "text/plain": [
       "<Figure size 432x288 with 1 Axes>"
      ]
     },
     "metadata": {
      "needs_background": "light"
     },
     "output_type": "display_data"
    },
    {
     "data": {
      "image/png": "[encoded data removed]",
      "text/plain": [
       "<Figure size 432x288 with 1 Axes>"
      ]
     },
     "metadata": {
      "needs_background": "light"
     },
     "output_type": "display_data"
    }
   ],
   "source": [
    "#PLot Time series and Histogram for variable 'RRP'\n",
    "rrp.plot()\n",
    "\n",
    "rrp.hist(bins=10, range=[0, 5000])\n",
    "pyplot.show()\n",
    "\n",
    "lag_plot(rrp)\n",
    "pyplot.show()"
   ]
  },
  {
   "cell_type": "code",
   "execution_count": 136,
   "metadata": {},
   "outputs": [
    {
     "data": {
      "image/png": "[encoded data removed]",
      "text/plain": [
       "<Figure size 432x288 with 1 Axes>"
      ]
     },
     "metadata": {
      "needs_background": "light"
     },
     "output_type": "display_data"
    },
    {
     "data": {
      "image/png": "[encoded data removed]",
      "text/plain": [
       "<Figure size 432x288 with 1 Axes>"
      ]
     },
     "metadata": {
      "needs_background": "light"
     },
     "output_type": "display_data"
    },
    {
     "data": {
      "image/png": "[encoded data removed]",
      "text/plain": [
       "<Figure size 432x288 with 1 Axes>"
      ]
     },
     "metadata": {
      "needs_background": "light"
     },
     "output_type": "display_data"
    }
   ],
   "source": [
    "#PLot Time series and Histogram for variable 'min_temperature'\n",
    "mintemp.plot()\n",
    "\n",
    "mintemp.hist(bins=20)\n",
    "pyplot.show()\n",
    "\n",
    "lag_plot(mintemp)\n",
    "pyplot.show()"
   ]
  },
  {
   "cell_type": "code",
   "execution_count": 167,
   "metadata": {},
   "outputs": [
    {
     "name": "stdout",
     "output_type": "stream",
     "text": [
      "                RRP\n",
      "date               \n",
      "1/01/2015  3.243908\n",
      "1/02/2015  3.500710\n",
      "1/03/2015  3.542837\n",
      "1/04/2015  3.219098\n",
      "1/05/2015  3.285569\n"
     ]
    },
    {
     "data": {
      "image/png": "[encoded data removed]",
      "text/plain": [
       "<Figure size 432x288 with 1 Axes>"
      ]
     },
     "metadata": {
      "needs_background": "light"
     },
     "output_type": "display_data"
    }
   ],
   "source": [
    "#Log transforming 'rrp' to flatten exponential changes\n",
    "rrpx1 = rrp.apply(np.log)\n",
    "print(rrpx1.head())\n",
    "rrpx1.hist()\n",
    "plt.show()"
   ]
  },
  {
   "cell_type": "code",
   "execution_count": 155,
   "metadata": {},
   "outputs": [
    {
     "name": "stdout",
     "output_type": "stream",
     "text": [
      "mean1=121959.116501, mean2=116442.724347\n",
      "variance1=189713304.803345, variance2=185823365.509108\n"
     ]
    }
   ],
   "source": [
    "#split 'demand' time series into 2 partitions and compare the mean and variance of each group.\n",
    "X = demand.values\n",
    "split = round(len(X) / 2)\n",
    "X1, X2 = X[0:split], X[split:]\n",
    "mean1, mean2 = X1.mean(), X2.mean()\n",
    "var1, var2 = X1.var(), X2.var()\n",
    "print('mean1=%f, mean2=%f' % (mean1, mean2))\n",
    "print('variance1=%f, variance2=%f' % (var1, var2))"
   ]
  },
  {
   "cell_type": "code",
   "execution_count": 156,
   "metadata": {},
   "outputs": [
    {
     "name": "stdout",
     "output_type": "stream",
     "text": [
      "mean1=62.449489, mean2=84.024469\n",
      "variance1=2991.657737, variance2=28801.501244\n"
     ]
    }
   ],
   "source": [
    "#split 'rrp' time series into 2 partitions and compare the mean and variance of each group.\n",
    "X = rrp.values\n",
    "split = round(len(X) / 2)\n",
    "X1, X2 = X[0:split], X[split:]\n",
    "mean1, mean2 = X1.mean(), X2.mean()\n",
    "var1, var2 = X1.var(), X2.var()\n",
    "print('mean1=%f, mean2=%f' % (mean1, mean2))\n",
    "print('variance1=%f, variance2=%f' % (var1, var2))"
   ]
  },
  {
   "cell_type": "code",
   "execution_count": 162,
   "metadata": {},
   "outputs": [
    {
     "name": "stdout",
     "output_type": "stream",
     "text": [
      "mean1=3.937708, mean2=nan\n",
      "variance1=0.368377, variance2=nan\n"
     ]
    }
   ],
   "source": [
    "#split 'rrp' time series AFTER LOG TRANSFORMATION into 2 partitions and compare the mean and variance of each group.\n",
    "X = rrpx1.values\n",
    "split = round(len(X) / 2)\n",
    "X1, X2 = X[0:split], X[split:]\n",
    "mean1, mean2 = X1.mean(), X2.mean()\n",
    "var1, var2 = X1.var(), X2.var()\n",
    "print('mean1=%f, mean2=%f' % (mean1, mean2))\n",
    "print('variance1=%f, variance2=%f' % (var1, var2))"
   ]
  },
  {
   "cell_type": "code",
   "execution_count": 146,
   "metadata": {},
   "outputs": [
    {
     "name": "stdout",
     "output_type": "stream",
     "text": [
      "mean1=62.449489, mean2=84.024469\n",
      "variance1=2991.657737, variance2=28801.501244\n"
     ]
    }
   ],
   "source": [
    "#split 'rrp' time series into 2 partitions and compare the mean and variance of each group.\n",
    "X = rrp.values\n",
    "split = round(len(X) / 2)\n",
    "X1, X2 = X[0:split], X[split:]\n",
    "mean1, mean2 = X1.mean(), X2.mean()\n",
    "var1, var2 = X1.var(), X2.var()\n",
    "print('mean1=%f, mean2=%f' % (mean1, mean2))\n",
    "print('variance1=%f, variance2=%f' % (var1, var2))"
   ]
  },
  {
   "cell_type": "code",
   "execution_count": 86,
   "metadata": {},
   "outputs": [
    {
     "name": "stdout",
     "output_type": "stream",
     "text": [
      "mean1=11.872291, mean2=11.522756\n",
      "variance1=18.999481, variance2=17.311607\n"
     ]
    }
   ],
   "source": [
    "#split 'min_temperature' time series into 2 partitions and compare the mean and variance of each group.\n",
    "X = mintemp.values\n",
    "split = round(len(X) / 2)\n",
    "X1, X2 = X[0:split], X[split:]\n",
    "mean1, mean2 = X1.mean(), X2.mean()\n",
    "var1, var2 = X1.var(), X2.var()\n",
    "print('mean1=%f, mean2=%f' % (mean1, mean2))\n",
    "print('variance1=%f, variance2=%f' % (var1, var2))"
   ]
  },
  {
   "cell_type": "code",
   "execution_count": 100,
   "metadata": {},
   "outputs": [
    {
     "name": "stdout",
     "output_type": "stream",
     "text": [
      "ADF Statistic: -3.606823\n",
      "p-value: 0.005632\n",
      "Critical Values:\n",
      "\t1%: -3.433\n",
      "\t5%: -2.863\n",
      "\t10%: -2.567\n"
     ]
    }
   ],
   "source": [
    "#Use Augmented Dickey-Fuller test for variable 'demand'\n",
    "#This Test determines how strongly a time series is defined by a trend\n",
    "#Null Hypothesis = Time Series is NOT stationary \n",
    "#Alternate Hypothesis = Time series IS stationary \n",
    "#If p-value greater than 0.05, then FAIL to reject Null Hypothesis\n",
    "#IF p-value is eaual to or less than 0.05, then REJECT Null Hypothesis\n",
    "\n",
    "from statsmodels.tsa.stattools import adfuller\n",
    "X = demand.values\n",
    "result = adfuller(X)\n",
    "print('ADF Statistic: %f' % result[0])\n",
    "print('p-value: %f' % result[1])\n",
    "print('Critical Values:')\n",
    "for key, value in result[4].items():\n",
    "\tprint('\\t%s: %.3f' % (key, value))"
   ]
  },
  {
   "cell_type": "code",
   "execution_count": 101,
   "metadata": {},
   "outputs": [
    {
     "name": "stdout",
     "output_type": "stream",
     "text": [
      "ADF Statistic: -11.189233\n",
      "p-value: 0.000000\n",
      "Critical Values:\n",
      "\t1%: -3.433\n",
      "\t5%: -2.863\n",
      "\t10%: -2.567\n"
     ]
    }
   ],
   "source": [
    "#Use Augmented Dickey-Fuller test for variable 'rrp'\n",
    "#This Test determines how strongly a time series is defined by a trend\n",
    "#Null Hypothesis = Time Series is NOT stationary \n",
    "#Alternate Hypothesis = Time series IS stationary \n",
    "#If p-value greater than 0.05, then FAIL to reject Null Hypothesis\n",
    "#IF p-value is eaual to or less than 0.05, then REJECT Null Hypothesis\n",
    "\n",
    "from statsmodels.tsa.stattools import adfuller\n",
    "X = rrp.values\n",
    "result = adfuller(X)\n",
    "print('ADF Statistic: %f' % result[0])\n",
    "print('p-value: %f' % result[1])\n",
    "print('Critical Values:')\n",
    "for key, value in result[4].items():\n",
    "\tprint('\\t%s: %.3f' % (key, value))"
   ]
  },
  {
   "cell_type": "code",
   "execution_count": 164,
   "metadata": {},
   "outputs": [
    {
     "name": "stdout",
     "output_type": "stream",
     "text": [
      "ADF Statistic: -3.400210\n",
      "p-value: 0.010952\n",
      "Critical Values:\n",
      "\t1%: -3.433\n",
      "\t5%: -2.863\n",
      "\t10%: -2.567\n"
     ]
    }
   ],
   "source": [
    "#Use Augmented Dickey-Fuller test for variable 'min_temperature'\n",
    "#This Test determines how strongly a time series is defined by a trend\n",
    "#Null Hypothesis = Time Series is NOT stationary \n",
    "#Alternate Hypothesis = Time series IS stationary \n",
    "#If p-value greater than 0.05, then FAIL to reject Null Hypothesis\n",
    "#IF p-value is eaual to or less than 0.05, then REJECT Null Hypothesis\n",
    "\n",
    "from statsmodels.tsa.stattools import adfuller\n",
    "X = mintemp.values\n",
    "result = adfuller(X)\n",
    "print('ADF Statistic: %f' % result[0])\n",
    "print('p-value: %f' % result[1])\n",
    "print('Critical Values:')\n",
    "for key, value in result[4].items():\n",
    "\tprint('\\t%s: %.3f' % (key, value))"
   ]
  }
 ],
 "metadata": {
  "kernelspec": {
   "display_name": "Python 3",
   "language": "python",
   "name": "python3"
  },
  "language_info": {
   "codemirror_mode": {
    "name": "ipython",
    "version": 3
   },
   "file_extension": ".py",
   "mimetype": "text/x-python",
   "name": "python",
   "nbconvert_exporter": "python",
   "pygments_lexer": "ipython3",
   "version": "3.7.6"
  }
 },
 "nbformat": 4,
 "nbformat_minor": 4
}
