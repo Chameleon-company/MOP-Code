{
 "cells": [
  {
   "cell_type": "markdown",
   "metadata": {},
   "source": [
    "## Background\n",
    "\n",
    "Environment and its changes are the most complex system. It is unarguably accepted that the climatic changes are greately affected by various environmental factors. Microclimate digs deep down to identify the factors that are effecting the COVID - 19 spread. We are usiing PM 2.5 as the key contributor and finding the correlation and predict the future values.\n",
    "\n",
    "##The dataset\n",
    "\n",
    "**Dataset file name:** modified_data_for_prediction.csv\n",
    "\n",
    "\n",
    "**Features and labels:** \n",
    "\n",
    "1.   Date\n",
    "2.   Time\n",
    "3.   Location\n",
    "4.   Value\n",
    "2.   New Value (Float): PM2.5 Values"
   ]
  },
  {
   "cell_type": "code",
   "execution_count": null,
   "metadata": {},
   "outputs": [],
   "source": [
    "import pandas as pd\n",
    "import numpy as np\n",
    "\n",
    "#read the file\n",
    "df = pd.read_csv('modified_data_for_prediction.csv')\n",
    "df.tail()"
   ]
  },
  {
   "cell_type": "code",
   "execution_count": null,
   "metadata": {},
   "outputs": [],
   "source": [
    "# Modifying data for our requirements\n",
    "df[\"Modified_Date\"] = df[\"Date\"] + \" \" + df[\"Time\"]\n",
    "new = df[\"Modified_Date\"].str.split(\"/\",n=1, expand =True)\n",
    "new_1 = new[1].str.split(\"/\",n=1, expand =True)\n",
    "df['Month'] = new_1[0]\n",
    "df['Month'] = df['Month'].astype('int')\n",
    "df.head(5)"
   ]
  },
  {
   "cell_type": "code",
   "execution_count": null,
   "metadata": {},
   "outputs": [],
   "source": [
    "df1 = df[[\"Modified_Date\", \"Location\", \"New_Value\", \"Month\"]]\n",
    "df1['Modified_Date'] = pd.to_datetime(df1.Modified_Date,dayfirst = True)\n",
    "df1.index = df1['Modified_Date']"
   ]
  },
  {
   "cell_type": "code",
   "execution_count": null,
   "metadata": {},
   "outputs": [],
   "source": [
    "# Checking the data types\n",
    "df1.dtypes"
   ]
  },
  {
   "cell_type": "code",
   "execution_count": null,
   "metadata": {},
   "outputs": [],
   "source": [
    "# Plots by month with respect to locations \n",
    "import seaborn as sns\n",
    "sns.factorplot(data = df1, x = \"Month\", y = \"New_Value\",hue = \"Location\",row=\"Location\")"
   ]
  },
  {
   "cell_type": "code",
   "execution_count": null,
   "metadata": {},
   "outputs": [],
   "source": [
    "# Replacing the Locations by numbers\n",
    "labels = df1['Location'].unique().tolist()\n",
    "mapping = dict( zip(labels,range(len(labels))))\n",
    "df1.replace({'Location': mapping},inplace=True)\n",
    "mapping"
   ]
  },
  {
   "cell_type": "code",
   "execution_count": null,
   "metadata": {},
   "outputs": [],
   "source": [
    "#Correlation of features with respect to New_Values\n",
    "df1.corrwith(method=\"pearson\", other=df1[\"New_Value\"])"
   ]
  },
  {
   "cell_type": "code",
   "execution_count": null,
   "metadata": {},
   "outputs": [],
   "source": [
    "# Adding Stages of Lockdown to the data (Future scope)"
   ]
  },
  {
   "cell_type": "code",
   "execution_count": null,
   "metadata": {},
   "outputs": [],
   "source": [
    "# For every location please change the value to \n",
    "#'Brighton': 0\n",
    "#'Footscray': 1\n",
    "#'Box Hill': 2\n",
    "#'Macleod': 3\n",
    "#'Brooklyn': 4\n",
    "#'Alphington': 5\n",
    "#'Melbourne CBD': 6\n",
    "#'Campbellfield': 7\n",
    "\n",
    "df_location = df1[df1['Location']==7]\n",
    "df_location.tail(5)"
   ]
  },
  {
   "cell_type": "code",
   "execution_count": null,
   "metadata": {},
   "outputs": [],
   "source": [
    "#to plot within notebook\n",
    "import matplotlib.pyplot as plt\n",
    "%matplotlib inline\n",
    "\n",
    "#setting figure size\n",
    "from matplotlib.pylab import rcParams\n",
    "rcParams['figure.figsize'] = 20,10\n",
    "\n",
    "\n",
    "plt.style.use('bmh')\n",
    "#plot\n",
    "plt.plot(df_location[\"New_Value\"])"
   ]
  },
  {
   "cell_type": "code",
   "execution_count": null,
   "metadata": {},
   "outputs": [],
   "source": [
    "df_location.dtypes"
   ]
  },
  {
   "cell_type": "code",
   "execution_count": null,
   "metadata": {},
   "outputs": [],
   "source": [
    "#Create a variable to predict 'x' records out into the future (43 days which is 1050 datetime records (24*43))\n",
    "future_days = 1050\n",
    "df = df_location\n",
    "\n",
    "#Create a new column (the target or dependent variable) shifted 'x' records up\n",
    "df['Predictions'] = df[['New_Value']].shift(-future_days)\n",
    "#print the data\n",
    "df.tail(5)"
   ]
  },
  {
   "cell_type": "code",
   "execution_count": null,
   "metadata": {},
   "outputs": [],
   "source": [
    "X = np.array(df.drop(columns=['Predictions','Modified_Date','Location','Month']))[:-future_days]\n",
    "print(X)"
   ]
  },
  {
   "cell_type": "code",
   "execution_count": null,
   "metadata": {},
   "outputs": [],
   "source": [
    "y = np.array(df['Predictions'])[:-future_days]\n",
    "print(y)"
   ]
  },
  {
   "cell_type": "code",
   "execution_count": null,
   "metadata": {},
   "outputs": [],
   "source": [
    "from sklearn.model_selection import train_test_split\n",
    "x_train, x_test, y_train, y_test = train_test_split(X, y, test_size = 0.25)"
   ]
  },
  {
   "cell_type": "code",
   "execution_count": null,
   "metadata": {},
   "outputs": [],
   "source": [
    "#Create the decision tree regressor model\n",
    "from sklearn.tree import DecisionTreeRegressor\n",
    "tree = DecisionTreeRegressor().fit(x_train, y_train)"
   ]
  },
  {
   "cell_type": "code",
   "execution_count": null,
   "metadata": {},
   "outputs": [],
   "source": [
    "#Get the feature data, \n",
    "#AKA all the rows from the original data set except the last 'x' days\n",
    "x_future = df.drop(columns=['Predictions','Modified_Date','Location','Month'])[:-future_days]\n",
    "#Get the last 'x' rows\n",
    "x_future = x_future.tail(future_days) \n",
    "#Convert the data set into a numpy array\n",
    "x_future = np.array(x_future)\n",
    "x_future"
   ]
  },
  {
   "cell_type": "code",
   "execution_count": null,
   "metadata": {},
   "outputs": [],
   "source": [
    "#Show the model tree prediction\n",
    "tree_prediction = tree.predict(x_future)\n",
    "print( tree_prediction )\n",
    "print()"
   ]
  },
  {
   "cell_type": "code",
   "execution_count": null,
   "metadata": {},
   "outputs": [],
   "source": [
    "#Visualize the data\n",
    "predictions = tree_prediction\n",
    "#Plot the data\n",
    "valid =  df[X.shape[0]:]\n",
    "valid['Predictions'] = predictions #Create a new column called 'Predictions' that will hold the predicted prices\n",
    "plt.figure(figsize=(16,8))\n",
    "plt.title('Model')\n",
    "plt.xlabel('Days',fontsize=18)\n",
    "plt.ylabel('PM 2.5 Vlues',fontsize=18)\n",
    "plt.plot(df['New_Value'])\n",
    "plt.plot(valid[['New_Value','Predictions']])\n",
    "plt.legend(['Train', 'Val', 'Predictions' ], loc='lower right')\n",
    "plt.show()"
   ]
  },
  {
   "cell_type": "code",
   "execution_count": null,
   "metadata": {},
   "outputs": [],
   "source": [
    "valid"
   ]
  },
  {
   "cell_type": "code",
   "execution_count": null,
   "metadata": {},
   "outputs": [],
   "source": [
    "df_location"
   ]
  },
  {
   "cell_type": "code",
   "execution_count": null,
   "metadata": {},
   "outputs": [],
   "source": [
    "df_location.to_csv(\"Campbellfield.csv\", index = False)"
   ]
  }
 ],
 "metadata": {
  "kernelspec": {
   "display_name": "Python 3",
   "language": "python",
   "name": "python3"
  },
  "language_info": {
   "codemirror_mode": {
    "name": "ipython",
    "version": 3
   },
   "file_extension": ".py",
   "mimetype": "text/x-python",
   "name": "python",
   "nbconvert_exporter": "python",
   "pygments_lexer": "ipython3",
   "version": "3.7.6"
  }
 },
 "nbformat": 4,
 "nbformat_minor": 4
}
