{
  "nbformat": 4,
  "nbformat_minor": 0,
  "metadata": {
    "colab": {
      "name": "data cleaning_mic.ipynb",
      "provenance": [],
      "collapsed_sections": []
    },
    "kernelspec": {
      "name": "python3",
      "display_name": "Python 3"
    }
  },
  "cells": [
    {
      "cell_type": "code",
      "metadata": {
        "id": "O88FdMNAQOzx",
        "colab_type": "code",
        "colab": {
          "base_uri": "https://localhost:8080/",
          "height": 124
        },
        "outputId": "1a1f3279-658a-464c-d9b9-aa21b7985492"
      },
      "source": [
        "from google.colab import drive\n",
        "drive.mount('/content/drive')"
      ],
      "execution_count": 1,
      "outputs": [
        {
          "output_type": "stream",
          "text": [
            "Go to this URL in a browser: https://accounts.google.com/o/oauth2/auth?client_id=947318989803-6bn6qk8qdgf4n4g3pfee6491hc0brc4i.apps.googleusercontent.com&redirect_uri=urn%3aietf%3awg%3aoauth%3a2.0%3aoob&scope=email%20https%3a%2f%2fwww.googleapis.com%2fauth%2fdocs.test%20https%3a%2f%2fwww.googleapis.com%2fauth%2fdrive%20https%3a%2f%2fwww.googleapis.com%2fauth%2fdrive.photos.readonly%20https%3a%2f%2fwww.googleapis.com%2fauth%2fpeopleapi.readonly&response_type=code\n",
            "\n",
            "Enter your authorization code:\n",
            "··········\n",
            "Mounted at /content/drive\n"
          ],
          "name": "stdout"
        }
      ]
    },
    {
      "cell_type": "code",
      "metadata": {
        "id": "v7m3VgbTJmWC",
        "colab_type": "code",
        "colab": {
          "base_uri": "https://localhost:8080/",
          "height": 72
        },
        "outputId": "3a7357e0-43b6-46ea-d776-2f0318155a36"
      },
      "source": [
        "import pandas as pd\n",
        "import datetime as dt\n",
        "import matplotlib.pyplot as plt \n",
        "import seaborn as sns"
      ],
      "execution_count": 2,
      "outputs": [
        {
          "output_type": "stream",
          "text": [
            "/usr/local/lib/python3.6/dist-packages/statsmodels/tools/_testing.py:19: FutureWarning: pandas.util.testing is deprecated. Use the functions in the public API at pandas.testing instead.\n",
            "  import pandas.util.testing as tm\n"
          ],
          "name": "stderr"
        }
      ]
    },
    {
      "cell_type": "code",
      "metadata": {
        "id": "hAi7pgTWJget",
        "colab_type": "code",
        "colab": {}
      },
      "source": [
        "path = '/content/drive/My Drive/DataSets/project _python/Microclimate_Sensor_Readings.csv'\n",
        "df = pd.read_csv(path)"
      ],
      "execution_count": 3,
      "outputs": []
    },
    {
      "cell_type": "code",
      "metadata": {
        "id": "8ORKphQCJteG",
        "colab_type": "code",
        "colab": {
          "base_uri": "https://localhost:8080/",
          "height": 355
        },
        "outputId": "b226eeb9-53e7-4e84-866d-d0a7b8bc26a0"
      },
      "source": [
        "df.head(10)"
      ],
      "execution_count": 4,
      "outputs": [
        {
          "output_type": "execute_result",
          "data": {
            "text/html": [
              "<div>\n",
              "<style scoped>\n",
              "    .dataframe tbody tr th:only-of-type {\n",
              "        vertical-align: middle;\n",
              "    }\n",
              "\n",
              "    .dataframe tbody tr th {\n",
              "        vertical-align: top;\n",
              "    }\n",
              "\n",
              "    .dataframe thead th {\n",
              "        text-align: right;\n",
              "    }\n",
              "</style>\n",
              "<table border=\"1\" class=\"dataframe\">\n",
              "  <thead>\n",
              "    <tr style=\"text-align: right;\">\n",
              "      <th></th>\n",
              "      <th>id</th>\n",
              "      <th>site_id</th>\n",
              "      <th>sensor_id</th>\n",
              "      <th>value</th>\n",
              "      <th>local_time</th>\n",
              "      <th>type</th>\n",
              "      <th>units</th>\n",
              "    </tr>\n",
              "  </thead>\n",
              "  <tbody>\n",
              "    <tr>\n",
              "      <th>0</th>\n",
              "      <td>1</td>\n",
              "      <td>arc1045</td>\n",
              "      <td>0a.EPA-1h</td>\n",
              "      <td>3.9</td>\n",
              "      <td>2019/11/15 09:00:00 AM</td>\n",
              "      <td>PM2.5-EPA-1h</td>\n",
              "      <td>ug/m^3</td>\n",
              "    </tr>\n",
              "    <tr>\n",
              "      <th>1</th>\n",
              "      <td>2</td>\n",
              "      <td>arc1045</td>\n",
              "      <td>0a.EPA-1h.NOPK</td>\n",
              "      <td>3.9</td>\n",
              "      <td>2019/11/15 09:00:00 AM</td>\n",
              "      <td>PM2.5-EPA-1h-NOPK</td>\n",
              "      <td>ug/m^3</td>\n",
              "    </tr>\n",
              "    <tr>\n",
              "      <th>2</th>\n",
              "      <td>3</td>\n",
              "      <td>arc1045</td>\n",
              "      <td>0a.EPA-1h.NOPK.EPA-24h</td>\n",
              "      <td>5.5</td>\n",
              "      <td>2019/11/15 09:00:00 AM</td>\n",
              "      <td>PM2.5-EPA-1h-NOPK-EPA-24h</td>\n",
              "      <td>ug/m^3</td>\n",
              "    </tr>\n",
              "    <tr>\n",
              "      <th>3</th>\n",
              "      <td>4</td>\n",
              "      <td>arc1045</td>\n",
              "      <td>0a.EPA-1h.PKIND</td>\n",
              "      <td>1.0</td>\n",
              "      <td>2019/11/15 09:00:00 AM</td>\n",
              "      <td>PM2.5-EPA-1h-PKIND</td>\n",
              "      <td>0/1</td>\n",
              "    </tr>\n",
              "    <tr>\n",
              "      <th>4</th>\n",
              "      <td>5</td>\n",
              "      <td>arc1045</td>\n",
              "      <td>0a.EPA-24h</td>\n",
              "      <td>5.5</td>\n",
              "      <td>2019/11/15 09:00:00 AM</td>\n",
              "      <td>PM2.5-EPA-24h</td>\n",
              "      <td>ug/m^3</td>\n",
              "    </tr>\n",
              "    <tr>\n",
              "      <th>5</th>\n",
              "      <td>6</td>\n",
              "      <td>arc1045</td>\n",
              "      <td>0b.EPA-1h</td>\n",
              "      <td>19.5</td>\n",
              "      <td>2019/11/15 09:00:00 AM</td>\n",
              "      <td>PM10-EPA-1h</td>\n",
              "      <td>ug/m^3</td>\n",
              "    </tr>\n",
              "    <tr>\n",
              "      <th>6</th>\n",
              "      <td>7</td>\n",
              "      <td>arc1045</td>\n",
              "      <td>0b.EPA-1h.NOPK</td>\n",
              "      <td>19.5</td>\n",
              "      <td>2019/11/15 09:00:00 AM</td>\n",
              "      <td>PM10-EPA-1h-NOPK</td>\n",
              "      <td>ug/m^3</td>\n",
              "    </tr>\n",
              "    <tr>\n",
              "      <th>7</th>\n",
              "      <td>8</td>\n",
              "      <td>arc1045</td>\n",
              "      <td>0b.EPA-1h.NOPK.EPA-24h</td>\n",
              "      <td>22.9</td>\n",
              "      <td>2019/11/15 09:00:00 AM</td>\n",
              "      <td>PM10-EPA-1h-NOPK-EPA-24h</td>\n",
              "      <td>ug/m^3</td>\n",
              "    </tr>\n",
              "    <tr>\n",
              "      <th>8</th>\n",
              "      <td>9</td>\n",
              "      <td>arc1045</td>\n",
              "      <td>0b.EPA-1h.PKIND</td>\n",
              "      <td>1.0</td>\n",
              "      <td>2019/11/15 09:00:00 AM</td>\n",
              "      <td>PM10-EPA-1h-PKIND</td>\n",
              "      <td>0/1</td>\n",
              "    </tr>\n",
              "    <tr>\n",
              "      <th>9</th>\n",
              "      <td>10</td>\n",
              "      <td>arc1045</td>\n",
              "      <td>0b.EPA-24h</td>\n",
              "      <td>22.9</td>\n",
              "      <td>2019/11/15 09:00:00 AM</td>\n",
              "      <td>PM10-EPA-24h</td>\n",
              "      <td>ug/m^3</td>\n",
              "    </tr>\n",
              "  </tbody>\n",
              "</table>\n",
              "</div>"
            ],
            "text/plain": [
              "   id  site_id  ...                       type   units\n",
              "0   1  arc1045  ...               PM2.5-EPA-1h  ug/m^3\n",
              "1   2  arc1045  ...          PM2.5-EPA-1h-NOPK  ug/m^3\n",
              "2   3  arc1045  ...  PM2.5-EPA-1h-NOPK-EPA-24h  ug/m^3\n",
              "3   4  arc1045  ...         PM2.5-EPA-1h-PKIND     0/1\n",
              "4   5  arc1045  ...              PM2.5-EPA-24h  ug/m^3\n",
              "5   6  arc1045  ...                PM10-EPA-1h  ug/m^3\n",
              "6   7  arc1045  ...           PM10-EPA-1h-NOPK  ug/m^3\n",
              "7   8  arc1045  ...   PM10-EPA-1h-NOPK-EPA-24h  ug/m^3\n",
              "8   9  arc1045  ...          PM10-EPA-1h-PKIND     0/1\n",
              "9  10  arc1045  ...               PM10-EPA-24h  ug/m^3\n",
              "\n",
              "[10 rows x 7 columns]"
            ]
          },
          "metadata": {
            "tags": []
          },
          "execution_count": 4
        }
      ]
    },
    {
      "cell_type": "code",
      "metadata": {
        "id": "9WabbChmJvp3",
        "colab_type": "code",
        "colab": {
          "base_uri": "https://localhost:8080/",
          "height": 260
        },
        "outputId": "88f733e0-c287-4fc6-8f99-9e7446d5ba1b"
      },
      "source": [
        "# checking the data types of the data frame\n",
        "df.info()"
      ],
      "execution_count": 5,
      "outputs": [
        {
          "output_type": "stream",
          "text": [
            "<class 'pandas.core.frame.DataFrame'>\n",
            "RangeIndex: 1039397 entries, 0 to 1039396\n",
            "Data columns (total 7 columns):\n",
            " #   Column      Non-Null Count    Dtype  \n",
            "---  ------      --------------    -----  \n",
            " 0   id          1039397 non-null  int64  \n",
            " 1   site_id     1039397 non-null  object \n",
            " 2   sensor_id   1039397 non-null  object \n",
            " 3   value       1039373 non-null  float64\n",
            " 4   local_time  1039397 non-null  object \n",
            " 5   type        1039397 non-null  object \n",
            " 6   units       1039397 non-null  object \n",
            "dtypes: float64(1), int64(1), object(5)\n",
            "memory usage: 55.5+ MB\n"
          ],
          "name": "stdout"
        }
      ]
    },
    {
      "cell_type": "code",
      "metadata": {
        "id": "eX2EINE5PcLJ",
        "colab_type": "code",
        "colab": {}
      },
      "source": [
        " # convert the 'Date' column to datetime format \n",
        "df['local_time']= pd.to_datetime(df['local_time']) "
      ],
      "execution_count": 6,
      "outputs": []
    },
    {
      "cell_type": "code",
      "metadata": {
        "id": "Tj3OjHAOPmCl",
        "colab_type": "code",
        "colab": {}
      },
      "source": [
        "#df['Year'] = df['local_time'].dt.year\n",
        "#df['Month'] = df['local_time'].dt.month\n",
        "#df['Day'] = df['local_time'].dt.day\n",
        "df['Date'] = df['local_time'].dt.date"
      ],
      "execution_count": 7,
      "outputs": []
    },
    {
      "cell_type": "code",
      "metadata": {
        "id": "6GK_AUIAP_Lg",
        "colab_type": "code",
        "colab": {}
      },
      "source": [
        "df['Time'] = df['local_time'].dt.time\n",
        "#df['Time_hour'] = df['local_time'].dt.hour"
      ],
      "execution_count": 8,
      "outputs": []
    },
    {
      "cell_type": "code",
      "metadata": {
        "id": "Mkm6SZAVP1cD",
        "colab_type": "code",
        "colab": {
          "base_uri": "https://localhost:8080/",
          "height": 529
        },
        "outputId": "5e5110db-dd36-4af2-9083-9449c18bbff1"
      },
      "source": [
        "df.head(10)"
      ],
      "execution_count": 9,
      "outputs": [
        {
          "output_type": "execute_result",
          "data": {
            "text/html": [
              "<div>\n",
              "<style scoped>\n",
              "    .dataframe tbody tr th:only-of-type {\n",
              "        vertical-align: middle;\n",
              "    }\n",
              "\n",
              "    .dataframe tbody tr th {\n",
              "        vertical-align: top;\n",
              "    }\n",
              "\n",
              "    .dataframe thead th {\n",
              "        text-align: right;\n",
              "    }\n",
              "</style>\n",
              "<table border=\"1\" class=\"dataframe\">\n",
              "  <thead>\n",
              "    <tr style=\"text-align: right;\">\n",
              "      <th></th>\n",
              "      <th>id</th>\n",
              "      <th>site_id</th>\n",
              "      <th>sensor_id</th>\n",
              "      <th>value</th>\n",
              "      <th>local_time</th>\n",
              "      <th>type</th>\n",
              "      <th>units</th>\n",
              "      <th>Date</th>\n",
              "      <th>Time</th>\n",
              "    </tr>\n",
              "  </thead>\n",
              "  <tbody>\n",
              "    <tr>\n",
              "      <th>0</th>\n",
              "      <td>1</td>\n",
              "      <td>arc1045</td>\n",
              "      <td>0a.EPA-1h</td>\n",
              "      <td>3.9</td>\n",
              "      <td>2019-11-15 09:00:00</td>\n",
              "      <td>PM2.5-EPA-1h</td>\n",
              "      <td>ug/m^3</td>\n",
              "      <td>2019-11-15</td>\n",
              "      <td>09:00:00</td>\n",
              "    </tr>\n",
              "    <tr>\n",
              "      <th>1</th>\n",
              "      <td>2</td>\n",
              "      <td>arc1045</td>\n",
              "      <td>0a.EPA-1h.NOPK</td>\n",
              "      <td>3.9</td>\n",
              "      <td>2019-11-15 09:00:00</td>\n",
              "      <td>PM2.5-EPA-1h-NOPK</td>\n",
              "      <td>ug/m^3</td>\n",
              "      <td>2019-11-15</td>\n",
              "      <td>09:00:00</td>\n",
              "    </tr>\n",
              "    <tr>\n",
              "      <th>2</th>\n",
              "      <td>3</td>\n",
              "      <td>arc1045</td>\n",
              "      <td>0a.EPA-1h.NOPK.EPA-24h</td>\n",
              "      <td>5.5</td>\n",
              "      <td>2019-11-15 09:00:00</td>\n",
              "      <td>PM2.5-EPA-1h-NOPK-EPA-24h</td>\n",
              "      <td>ug/m^3</td>\n",
              "      <td>2019-11-15</td>\n",
              "      <td>09:00:00</td>\n",
              "    </tr>\n",
              "    <tr>\n",
              "      <th>3</th>\n",
              "      <td>4</td>\n",
              "      <td>arc1045</td>\n",
              "      <td>0a.EPA-1h.PKIND</td>\n",
              "      <td>1.0</td>\n",
              "      <td>2019-11-15 09:00:00</td>\n",
              "      <td>PM2.5-EPA-1h-PKIND</td>\n",
              "      <td>0/1</td>\n",
              "      <td>2019-11-15</td>\n",
              "      <td>09:00:00</td>\n",
              "    </tr>\n",
              "    <tr>\n",
              "      <th>4</th>\n",
              "      <td>5</td>\n",
              "      <td>arc1045</td>\n",
              "      <td>0a.EPA-24h</td>\n",
              "      <td>5.5</td>\n",
              "      <td>2019-11-15 09:00:00</td>\n",
              "      <td>PM2.5-EPA-24h</td>\n",
              "      <td>ug/m^3</td>\n",
              "      <td>2019-11-15</td>\n",
              "      <td>09:00:00</td>\n",
              "    </tr>\n",
              "    <tr>\n",
              "      <th>5</th>\n",
              "      <td>6</td>\n",
              "      <td>arc1045</td>\n",
              "      <td>0b.EPA-1h</td>\n",
              "      <td>19.5</td>\n",
              "      <td>2019-11-15 09:00:00</td>\n",
              "      <td>PM10-EPA-1h</td>\n",
              "      <td>ug/m^3</td>\n",
              "      <td>2019-11-15</td>\n",
              "      <td>09:00:00</td>\n",
              "    </tr>\n",
              "    <tr>\n",
              "      <th>6</th>\n",
              "      <td>7</td>\n",
              "      <td>arc1045</td>\n",
              "      <td>0b.EPA-1h.NOPK</td>\n",
              "      <td>19.5</td>\n",
              "      <td>2019-11-15 09:00:00</td>\n",
              "      <td>PM10-EPA-1h-NOPK</td>\n",
              "      <td>ug/m^3</td>\n",
              "      <td>2019-11-15</td>\n",
              "      <td>09:00:00</td>\n",
              "    </tr>\n",
              "    <tr>\n",
              "      <th>7</th>\n",
              "      <td>8</td>\n",
              "      <td>arc1045</td>\n",
              "      <td>0b.EPA-1h.NOPK.EPA-24h</td>\n",
              "      <td>22.9</td>\n",
              "      <td>2019-11-15 09:00:00</td>\n",
              "      <td>PM10-EPA-1h-NOPK-EPA-24h</td>\n",
              "      <td>ug/m^3</td>\n",
              "      <td>2019-11-15</td>\n",
              "      <td>09:00:00</td>\n",
              "    </tr>\n",
              "    <tr>\n",
              "      <th>8</th>\n",
              "      <td>9</td>\n",
              "      <td>arc1045</td>\n",
              "      <td>0b.EPA-1h.PKIND</td>\n",
              "      <td>1.0</td>\n",
              "      <td>2019-11-15 09:00:00</td>\n",
              "      <td>PM10-EPA-1h-PKIND</td>\n",
              "      <td>0/1</td>\n",
              "      <td>2019-11-15</td>\n",
              "      <td>09:00:00</td>\n",
              "    </tr>\n",
              "    <tr>\n",
              "      <th>9</th>\n",
              "      <td>10</td>\n",
              "      <td>arc1045</td>\n",
              "      <td>0b.EPA-24h</td>\n",
              "      <td>22.9</td>\n",
              "      <td>2019-11-15 09:00:00</td>\n",
              "      <td>PM10-EPA-24h</td>\n",
              "      <td>ug/m^3</td>\n",
              "      <td>2019-11-15</td>\n",
              "      <td>09:00:00</td>\n",
              "    </tr>\n",
              "  </tbody>\n",
              "</table>\n",
              "</div>"
            ],
            "text/plain": [
              "   id  site_id               sensor_id  ...   units        Date      Time\n",
              "0   1  arc1045               0a.EPA-1h  ...  ug/m^3  2019-11-15  09:00:00\n",
              "1   2  arc1045          0a.EPA-1h.NOPK  ...  ug/m^3  2019-11-15  09:00:00\n",
              "2   3  arc1045  0a.EPA-1h.NOPK.EPA-24h  ...  ug/m^3  2019-11-15  09:00:00\n",
              "3   4  arc1045         0a.EPA-1h.PKIND  ...     0/1  2019-11-15  09:00:00\n",
              "4   5  arc1045              0a.EPA-24h  ...  ug/m^3  2019-11-15  09:00:00\n",
              "5   6  arc1045               0b.EPA-1h  ...  ug/m^3  2019-11-15  09:00:00\n",
              "6   7  arc1045          0b.EPA-1h.NOPK  ...  ug/m^3  2019-11-15  09:00:00\n",
              "7   8  arc1045  0b.EPA-1h.NOPK.EPA-24h  ...  ug/m^3  2019-11-15  09:00:00\n",
              "8   9  arc1045         0b.EPA-1h.PKIND  ...     0/1  2019-11-15  09:00:00\n",
              "9  10  arc1045              0b.EPA-24h  ...  ug/m^3  2019-11-15  09:00:00\n",
              "\n",
              "[10 rows x 9 columns]"
            ]
          },
          "metadata": {
            "tags": []
          },
          "execution_count": 9
        }
      ]
    },
    {
      "cell_type": "code",
      "metadata": {
        "id": "awuyyd_SRkUN",
        "colab_type": "code",
        "colab": {
          "base_uri": "https://localhost:8080/",
          "height": 191
        },
        "outputId": "bd8a8370-6ba7-4aa8-9ff1-dfb554279cdc"
      },
      "source": [
        "# finfing null values\n",
        "df.isnull().sum()"
      ],
      "execution_count": 10,
      "outputs": [
        {
          "output_type": "execute_result",
          "data": {
            "text/plain": [
              "id             0\n",
              "site_id        0\n",
              "sensor_id      0\n",
              "value         24\n",
              "local_time     0\n",
              "type           0\n",
              "units          0\n",
              "Date           0\n",
              "Time           0\n",
              "dtype: int64"
            ]
          },
          "metadata": {
            "tags": []
          },
          "execution_count": 10
        }
      ]
    },
    {
      "cell_type": "code",
      "metadata": {
        "id": "rESlNLj76KfR",
        "colab_type": "code",
        "colab": {
          "base_uri": "https://localhost:8080/",
          "height": 121
        },
        "outputId": "5c825e7f-6697-422b-cfff-2d41a19e6b94"
      },
      "source": [
        "df['type'].unique()"
      ],
      "execution_count": 11,
      "outputs": [
        {
          "output_type": "execute_result",
          "data": {
            "text/plain": [
              "array(['PM2.5-EPA-1h', 'PM2.5-EPA-1h-NOPK', 'PM2.5-EPA-1h-NOPK-EPA-24h',\n",
              "       'PM2.5-EPA-1h-PKIND', 'PM2.5-EPA-24h', 'PM10-EPA-1h',\n",
              "       'PM10-EPA-1h-NOPK', 'PM10-EPA-1h-NOPK-EPA-24h',\n",
              "       'PM10-EPA-1h-PKIND', 'PM10-EPA-24h', 'TPH.TEMP-EPA-1h',\n",
              "       'TPH.RH-EPA-1h', 'TPH.TEMP', 'TPH.RH', 'TPH.PRESSURE', 'WS',\n",
              "       'PM2.5', 'PM10'], dtype=object)"
            ]
          },
          "metadata": {
            "tags": []
          },
          "execution_count": 11
        }
      ]
    },
    {
      "cell_type": "code",
      "metadata": {
        "id": "TH8_sLWc3pbL",
        "colab_type": "code",
        "colab": {}
      },
      "source": [
        "df_1 = df[(df['type'] == 'PM2.5')]"
      ],
      "execution_count": 12,
      "outputs": []
    },
    {
      "cell_type": "code",
      "metadata": {
        "id": "AmKeZa8a6eS7",
        "colab_type": "code",
        "colab": {
          "base_uri": "https://localhost:8080/",
          "height": 191
        },
        "outputId": "a1a39f43-f20e-42c9-c02f-2c94c28cc13a"
      },
      "source": [
        "df_1.isnull().sum()"
      ],
      "execution_count": 13,
      "outputs": [
        {
          "output_type": "execute_result",
          "data": {
            "text/plain": [
              "id            0\n",
              "site_id       0\n",
              "sensor_id     0\n",
              "value         4\n",
              "local_time    0\n",
              "type          0\n",
              "units         0\n",
              "Date          0\n",
              "Time          0\n",
              "dtype: int64"
            ]
          },
          "metadata": {
            "tags": []
          },
          "execution_count": 13
        }
      ]
    },
    {
      "cell_type": "code",
      "metadata": {
        "id": "PJb4d1eNK_aS",
        "colab_type": "code",
        "colab": {
          "base_uri": "https://localhost:8080/",
          "height": 171
        },
        "outputId": "48a8c03a-433e-4595-92fa-a43593d6c9b5"
      },
      "source": [
        "df_1[df_1.isnull().any(axis=1)]"
      ],
      "execution_count": 14,
      "outputs": [
        {
          "output_type": "execute_result",
          "data": {
            "text/html": [
              "<div>\n",
              "<style scoped>\n",
              "    .dataframe tbody tr th:only-of-type {\n",
              "        vertical-align: middle;\n",
              "    }\n",
              "\n",
              "    .dataframe tbody tr th {\n",
              "        vertical-align: top;\n",
              "    }\n",
              "\n",
              "    .dataframe thead th {\n",
              "        text-align: right;\n",
              "    }\n",
              "</style>\n",
              "<table border=\"1\" class=\"dataframe\">\n",
              "  <thead>\n",
              "    <tr style=\"text-align: right;\">\n",
              "      <th></th>\n",
              "      <th>id</th>\n",
              "      <th>site_id</th>\n",
              "      <th>sensor_id</th>\n",
              "      <th>value</th>\n",
              "      <th>local_time</th>\n",
              "      <th>type</th>\n",
              "      <th>units</th>\n",
              "      <th>Date</th>\n",
              "      <th>Time</th>\n",
              "    </tr>\n",
              "  </thead>\n",
              "  <tbody>\n",
              "    <tr>\n",
              "      <th>588196</th>\n",
              "      <td>792061</td>\n",
              "      <td>arc1046</td>\n",
              "      <td>0a</td>\n",
              "      <td>NaN</td>\n",
              "      <td>2020-04-05 02:15:00</td>\n",
              "      <td>PM2.5</td>\n",
              "      <td>ug/m^3</td>\n",
              "      <td>2020-04-05</td>\n",
              "      <td>02:15:00</td>\n",
              "    </tr>\n",
              "    <tr>\n",
              "      <th>588200</th>\n",
              "      <td>792065</td>\n",
              "      <td>arc1048</td>\n",
              "      <td>0a</td>\n",
              "      <td>NaN</td>\n",
              "      <td>2020-04-05 02:15:00</td>\n",
              "      <td>PM2.5</td>\n",
              "      <td>ug/m^3</td>\n",
              "      <td>2020-04-05</td>\n",
              "      <td>02:15:00</td>\n",
              "    </tr>\n",
              "    <tr>\n",
              "      <th>588202</th>\n",
              "      <td>792067</td>\n",
              "      <td>arc1050</td>\n",
              "      <td>0a</td>\n",
              "      <td>NaN</td>\n",
              "      <td>2020-04-05 02:15:00</td>\n",
              "      <td>PM2.5</td>\n",
              "      <td>ug/m^3</td>\n",
              "      <td>2020-04-05</td>\n",
              "      <td>02:15:00</td>\n",
              "    </tr>\n",
              "    <tr>\n",
              "      <th>588204</th>\n",
              "      <td>792069</td>\n",
              "      <td>arc1045</td>\n",
              "      <td>0a</td>\n",
              "      <td>NaN</td>\n",
              "      <td>2020-04-05 02:15:00</td>\n",
              "      <td>PM2.5</td>\n",
              "      <td>ug/m^3</td>\n",
              "      <td>2020-04-05</td>\n",
              "      <td>02:15:00</td>\n",
              "    </tr>\n",
              "  </tbody>\n",
              "</table>\n",
              "</div>"
            ],
            "text/plain": [
              "            id  site_id sensor_id  value  ...   type   units        Date      Time\n",
              "588196  792061  arc1046        0a    NaN  ...  PM2.5  ug/m^3  2020-04-05  02:15:00\n",
              "588200  792065  arc1048        0a    NaN  ...  PM2.5  ug/m^3  2020-04-05  02:15:00\n",
              "588202  792067  arc1050        0a    NaN  ...  PM2.5  ug/m^3  2020-04-05  02:15:00\n",
              "588204  792069  arc1045        0a    NaN  ...  PM2.5  ug/m^3  2020-04-05  02:15:00\n",
              "\n",
              "[4 rows x 9 columns]"
            ]
          },
          "metadata": {
            "tags": []
          },
          "execution_count": 14
        }
      ]
    },
    {
      "cell_type": "code",
      "metadata": {
        "id": "hhOcSBWOLkc6",
        "colab_type": "code",
        "colab": {
          "base_uri": "https://localhost:8080/",
          "height": 139
        },
        "outputId": "a628fca1-74b2-4527-eb2a-7d904217400e"
      },
      "source": [
        "df_1.groupby('site_id')['value'].mean()"
      ],
      "execution_count": 15,
      "outputs": [
        {
          "output_type": "execute_result",
          "data": {
            "text/plain": [
              "site_id\n",
              "arc1045    13.939289\n",
              "arc1046    13.920697\n",
              "arc1047    12.685314\n",
              "arc1048    13.711227\n",
              "arc1050    11.659575\n",
              "Name: value, dtype: float64"
            ]
          },
          "metadata": {
            "tags": []
          },
          "execution_count": 15
        }
      ]
    },
    {
      "cell_type": "code",
      "metadata": {
        "id": "jKtXdr_HVO0y",
        "colab_type": "code",
        "colab": {
          "base_uri": "https://localhost:8080/",
          "height": 141
        },
        "outputId": "26c1b3df-f7e3-46a7-bb81-4269bbac494b"
      },
      "source": [
        "df_1['value'] = df_1['value'].fillna(df_1.groupby('site_id')['value'].mean())"
      ],
      "execution_count": 16,
      "outputs": [
        {
          "output_type": "stream",
          "text": [
            "/usr/local/lib/python3.6/dist-packages/ipykernel_launcher.py:1: SettingWithCopyWarning: \n",
            "A value is trying to be set on a copy of a slice from a DataFrame.\n",
            "Try using .loc[row_indexer,col_indexer] = value instead\n",
            "\n",
            "See the caveats in the documentation: https://pandas.pydata.org/pandas-docs/stable/user_guide/indexing.html#returning-a-view-versus-a-copy\n",
            "  \"\"\"Entry point for launching an IPython kernel.\n"
          ],
          "name": "stderr"
        }
      ]
    },
    {
      "cell_type": "markdown",
      "metadata": {
        "id": "Cg8q2K__V1Sq",
        "colab_type": "text"
      },
      "source": [
        "Summary statistics for each site id"
      ]
    },
    {
      "cell_type": "code",
      "metadata": {
        "id": "PbOwRNddMnoO",
        "colab_type": "code",
        "colab": {
          "base_uri": "https://localhost:8080/",
          "height": 173
        },
        "outputId": "515766cc-654d-443d-9a9e-2b01bda41e1c"
      },
      "source": [
        "df_1[df_1['site_id'].isin(['arc1045'])]['value'].describe()"
      ],
      "execution_count": 17,
      "outputs": [
        {
          "output_type": "execute_result",
          "data": {
            "text/plain": [
              "count    23841.000000\n",
              "mean        13.939289\n",
              "std         41.380907\n",
              "min          3.300000\n",
              "25%          5.700000\n",
              "50%          7.100000\n",
              "75%         10.100000\n",
              "max        937.100000\n",
              "Name: value, dtype: float64"
            ]
          },
          "metadata": {
            "tags": []
          },
          "execution_count": 17
        }
      ]
    },
    {
      "cell_type": "code",
      "metadata": {
        "id": "sBKs7p8_LivZ",
        "colab_type": "code",
        "colab": {
          "base_uri": "https://localhost:8080/",
          "height": 173
        },
        "outputId": "1790758f-94c4-4ad8-a346-dc7b69443305"
      },
      "source": [
        "df_1[df_1['site_id'].isin(['arc1046'])]['value'].describe()"
      ],
      "execution_count": 18,
      "outputs": [
        {
          "output_type": "execute_result",
          "data": {
            "text/plain": [
              "count    23825.000000\n",
              "mean        13.920697\n",
              "std         40.019613\n",
              "min          3.300000\n",
              "25%          5.700000\n",
              "50%          7.100000\n",
              "75%         10.200000\n",
              "max        962.400000\n",
              "Name: value, dtype: float64"
            ]
          },
          "metadata": {
            "tags": []
          },
          "execution_count": 18
        }
      ]
    },
    {
      "cell_type": "code",
      "metadata": {
        "id": "aV_QoqnBWAVw",
        "colab_type": "code",
        "colab": {
          "base_uri": "https://localhost:8080/",
          "height": 173
        },
        "outputId": "77b7dfec-cdbf-459a-f85b-0297fec576c7"
      },
      "source": [
        "df_1[df_1['site_id'].isin(['arc1047'])]['value'].describe()"
      ],
      "execution_count": 19,
      "outputs": [
        {
          "output_type": "execute_result",
          "data": {
            "text/plain": [
              "count    25194.000000\n",
              "mean        12.685314\n",
              "std         37.903566\n",
              "min          3.500000\n",
              "25%          5.700000\n",
              "50%          6.600000\n",
              "75%          9.200000\n",
              "max        917.300000\n",
              "Name: value, dtype: float64"
            ]
          },
          "metadata": {
            "tags": []
          },
          "execution_count": 19
        }
      ]
    },
    {
      "cell_type": "code",
      "metadata": {
        "id": "6zExPYdFWBGy",
        "colab_type": "code",
        "colab": {
          "base_uri": "https://localhost:8080/",
          "height": 173
        },
        "outputId": "db2c6cf8-1c3f-4bce-9f34-d6659d3a89a8"
      },
      "source": [
        "df_1[df_1['site_id'].isin(['arc1048'])]['value'].describe()"
      ],
      "execution_count": 20,
      "outputs": [
        {
          "output_type": "execute_result",
          "data": {
            "text/plain": [
              "count    22776.000000\n",
              "mean        13.711227\n",
              "std         40.303955\n",
              "min          3.300000\n",
              "25%          5.900000\n",
              "50%          7.100000\n",
              "75%          9.800000\n",
              "max        920.600000\n",
              "Name: value, dtype: float64"
            ]
          },
          "metadata": {
            "tags": []
          },
          "execution_count": 20
        }
      ]
    },
    {
      "cell_type": "code",
      "metadata": {
        "id": "dbACPJZ4WBop",
        "colab_type": "code",
        "colab": {
          "base_uri": "https://localhost:8080/",
          "height": 173
        },
        "outputId": "5b00cd3e-90db-4044-b8c7-bc300be032d3"
      },
      "source": [
        "df_1[df_1['site_id'].isin(['arc1050'])]['value'].describe()"
      ],
      "execution_count": 21,
      "outputs": [
        {
          "output_type": "execute_result",
          "data": {
            "text/plain": [
              "count    25190.000000\n",
              "mean        11.659575\n",
              "std         36.565044\n",
              "min          3.200000\n",
              "25%          5.000000\n",
              "50%          5.800000\n",
              "75%          8.100000\n",
              "max        878.300000\n",
              "Name: value, dtype: float64"
            ]
          },
          "metadata": {
            "tags": []
          },
          "execution_count": 21
        }
      ]
    },
    {
      "cell_type": "code",
      "metadata": {
        "id": "Ig0lh6vAUk68",
        "colab_type": "code",
        "colab": {}
      },
      "source": [
        "path1 ='/content/drive/My Drive/DataSets/project _python/Microclimate_Sensor_Locations.csv'\n",
        "df_2 = pd.read_csv(path1)"
      ],
      "execution_count": 22,
      "outputs": []
    },
    {
      "cell_type": "code",
      "metadata": {
        "id": "yEt0mFCEVCQm",
        "colab_type": "code",
        "colab": {
          "base_uri": "https://localhost:8080/",
          "height": 289
        },
        "outputId": "3169b300-c689-48cf-a7a0-df298f30dcd1"
      },
      "source": [
        "df_2"
      ],
      "execution_count": 23,
      "outputs": [
        {
          "output_type": "execute_result",
          "data": {
            "text/html": [
              "<div>\n",
              "<style scoped>\n",
              "    .dataframe tbody tr th:only-of-type {\n",
              "        vertical-align: middle;\n",
              "    }\n",
              "\n",
              "    .dataframe tbody tr th {\n",
              "        vertical-align: top;\n",
              "    }\n",
              "\n",
              "    .dataframe thead th {\n",
              "        text-align: right;\n",
              "    }\n",
              "</style>\n",
              "<table border=\"1\" class=\"dataframe\">\n",
              "  <thead>\n",
              "    <tr style=\"text-align: right;\">\n",
              "      <th></th>\n",
              "      <th>site_id</th>\n",
              "      <th>description</th>\n",
              "      <th>last_data</th>\n",
              "      <th>latitude</th>\n",
              "      <th>longitude</th>\n",
              "      <th>location</th>\n",
              "    </tr>\n",
              "  </thead>\n",
              "  <tbody>\n",
              "    <tr>\n",
              "      <th>0</th>\n",
              "      <td>arc1045</td>\n",
              "      <td>Between 87 and 89 Grattan Street, Carlton</td>\n",
              "      <td>2020/08/05 08:00:01 PM</td>\n",
              "      <td>-37.800793</td>\n",
              "      <td>144.966492</td>\n",
              "      <td>POINT (144.966492 -37.800793)</td>\n",
              "    </tr>\n",
              "    <tr>\n",
              "      <th>1</th>\n",
              "      <td>arc1047</td>\n",
              "      <td>Corner of Pelham and Leicester Streets, Carlton</td>\n",
              "      <td>2020/08/05 09:00:01 PM</td>\n",
              "      <td>-37.802300</td>\n",
              "      <td>144.960923</td>\n",
              "      <td>POINT (144.960923 -37.8023)</td>\n",
              "    </tr>\n",
              "    <tr>\n",
              "      <th>2</th>\n",
              "      <td>arc1048</td>\n",
              "      <td>141 Grattan Street, Carlton</td>\n",
              "      <td>2020/08/05 09:00:01 PM</td>\n",
              "      <td>-37.800575</td>\n",
              "      <td>144.964635</td>\n",
              "      <td>POINT (144.964635 -37.800575)</td>\n",
              "    </tr>\n",
              "    <tr>\n",
              "      <th>3</th>\n",
              "      <td>arc1050</td>\n",
              "      <td>3/121 Grattan Street, Carlton</td>\n",
              "      <td>2020/08/05 09:00:01 PM</td>\n",
              "      <td>-37.800629</td>\n",
              "      <td>144.965052</td>\n",
              "      <td>POINT (144.965052 -37.800629)</td>\n",
              "    </tr>\n",
              "    <tr>\n",
              "      <th>4</th>\n",
              "      <td>arc1046</td>\n",
              "      <td>Corner of Swanston and Grattan Streets, Carlton</td>\n",
              "      <td>2020/08/05 08:00:01 PM</td>\n",
              "      <td>-37.800524</td>\n",
              "      <td>144.964122</td>\n",
              "      <td>POINT (144.964122 -37.800524)</td>\n",
              "    </tr>\n",
              "  </tbody>\n",
              "</table>\n",
              "</div>"
            ],
            "text/plain": [
              "   site_id  ...                       location\n",
              "0  arc1045  ...  POINT (144.966492 -37.800793)\n",
              "1  arc1047  ...    POINT (144.960923 -37.8023)\n",
              "2  arc1048  ...  POINT (144.964635 -37.800575)\n",
              "3  arc1050  ...  POINT (144.965052 -37.800629)\n",
              "4  arc1046  ...  POINT (144.964122 -37.800524)\n",
              "\n",
              "[5 rows x 6 columns]"
            ]
          },
          "metadata": {
            "tags": []
          },
          "execution_count": 23
        }
      ]
    },
    {
      "cell_type": "code",
      "metadata": {
        "id": "6Pa2RvGLVC-n",
        "colab_type": "code",
        "colab": {
          "base_uri": "https://localhost:8080/",
          "height": 243
        },
        "outputId": "975901ee-466c-43dd-e5a9-793ddb293979"
      },
      "source": [
        "df_2.info()"
      ],
      "execution_count": 24,
      "outputs": [
        {
          "output_type": "stream",
          "text": [
            "<class 'pandas.core.frame.DataFrame'>\n",
            "RangeIndex: 5 entries, 0 to 4\n",
            "Data columns (total 6 columns):\n",
            " #   Column       Non-Null Count  Dtype  \n",
            "---  ------       --------------  -----  \n",
            " 0   site_id      5 non-null      object \n",
            " 1   description  5 non-null      object \n",
            " 2   last_data    5 non-null      object \n",
            " 3   latitude     5 non-null      float64\n",
            " 4   longitude    5 non-null      float64\n",
            " 5   location     5 non-null      object \n",
            "dtypes: float64(2), object(4)\n",
            "memory usage: 368.0+ bytes\n"
          ],
          "name": "stdout"
        }
      ]
    },
    {
      "cell_type": "code",
      "metadata": {
        "id": "G4VAIfzDWfI6",
        "colab_type": "code",
        "colab": {
          "base_uri": "https://localhost:8080/",
          "height": 139
        },
        "outputId": "ca7ac86d-b3e1-478e-bd97-b7ee47f8c7a0"
      },
      "source": [
        "df_2.isnull().sum()"
      ],
      "execution_count": 25,
      "outputs": [
        {
          "output_type": "execute_result",
          "data": {
            "text/plain": [
              "site_id        0\n",
              "description    0\n",
              "last_data      0\n",
              "latitude       0\n",
              "longitude      0\n",
              "location       0\n",
              "dtype: int64"
            ]
          },
          "metadata": {
            "tags": []
          },
          "execution_count": 25
        }
      ]
    },
    {
      "cell_type": "code",
      "metadata": {
        "id": "WkJKbwk1VH35",
        "colab_type": "code",
        "colab": {}
      },
      "source": [
        "df_final = pd.merge(left=df_1, right=df_2, left_on='site_id', right_on='site_id')"
      ],
      "execution_count": 26,
      "outputs": []
    },
    {
      "cell_type": "code",
      "metadata": {
        "id": "NYbOzE61hbeC",
        "colab_type": "code",
        "colab": {}
      },
      "source": [
        "df_final.to_csv('pm2.5.csv')"
      ],
      "execution_count": 28,
      "outputs": []
    },
    {
      "cell_type": "code",
      "metadata": {
        "id": "PMchj6xlV_ja",
        "colab_type": "code",
        "colab": {
          "base_uri": "https://localhost:8080/",
          "height": 569
        },
        "outputId": "eeafc99d-eecf-428d-fcbb-8aff24579031"
      },
      "source": [
        "df_final.head()"
      ],
      "execution_count": 29,
      "outputs": [
        {
          "output_type": "execute_result",
          "data": {
            "text/html": [
              "<div>\n",
              "<style scoped>\n",
              "    .dataframe tbody tr th:only-of-type {\n",
              "        vertical-align: middle;\n",
              "    }\n",
              "\n",
              "    .dataframe tbody tr th {\n",
              "        vertical-align: top;\n",
              "    }\n",
              "\n",
              "    .dataframe thead th {\n",
              "        text-align: right;\n",
              "    }\n",
              "</style>\n",
              "<table border=\"1\" class=\"dataframe\">\n",
              "  <thead>\n",
              "    <tr style=\"text-align: right;\">\n",
              "      <th></th>\n",
              "      <th>id</th>\n",
              "      <th>site_id</th>\n",
              "      <th>sensor_id</th>\n",
              "      <th>value</th>\n",
              "      <th>local_time</th>\n",
              "      <th>type</th>\n",
              "      <th>units</th>\n",
              "      <th>Date</th>\n",
              "      <th>Time</th>\n",
              "      <th>description</th>\n",
              "      <th>last_data</th>\n",
              "      <th>latitude</th>\n",
              "      <th>longitude</th>\n",
              "      <th>location</th>\n",
              "    </tr>\n",
              "  </thead>\n",
              "  <tbody>\n",
              "    <tr>\n",
              "      <th>0</th>\n",
              "      <td>96</td>\n",
              "      <td>arc1046</td>\n",
              "      <td>0a</td>\n",
              "      <td>3.9</td>\n",
              "      <td>2019-11-15 09:15:00</td>\n",
              "      <td>PM2.5</td>\n",
              "      <td>ug/m^3</td>\n",
              "      <td>2019-11-15</td>\n",
              "      <td>09:15:00</td>\n",
              "      <td>Corner of Swanston and Grattan Streets, Carlton</td>\n",
              "      <td>2020/08/05 08:00:01 PM</td>\n",
              "      <td>-37.800524</td>\n",
              "      <td>144.964122</td>\n",
              "      <td>POINT (144.964122 -37.800524)</td>\n",
              "    </tr>\n",
              "    <tr>\n",
              "      <th>1</th>\n",
              "      <td>143</td>\n",
              "      <td>arc1046</td>\n",
              "      <td>0a</td>\n",
              "      <td>4.5</td>\n",
              "      <td>2019-11-15 09:30:00</td>\n",
              "      <td>PM2.5</td>\n",
              "      <td>ug/m^3</td>\n",
              "      <td>2019-11-15</td>\n",
              "      <td>09:30:00</td>\n",
              "      <td>Corner of Swanston and Grattan Streets, Carlton</td>\n",
              "      <td>2020/08/05 08:00:01 PM</td>\n",
              "      <td>-37.800524</td>\n",
              "      <td>144.964122</td>\n",
              "      <td>POINT (144.964122 -37.800524)</td>\n",
              "    </tr>\n",
              "    <tr>\n",
              "      <th>2</th>\n",
              "      <td>188</td>\n",
              "      <td>arc1046</td>\n",
              "      <td>0a</td>\n",
              "      <td>3.8</td>\n",
              "      <td>2019-11-15 09:45:00</td>\n",
              "      <td>PM2.5</td>\n",
              "      <td>ug/m^3</td>\n",
              "      <td>2019-11-15</td>\n",
              "      <td>09:45:00</td>\n",
              "      <td>Corner of Swanston and Grattan Streets, Carlton</td>\n",
              "      <td>2020/08/05 08:00:01 PM</td>\n",
              "      <td>-37.800524</td>\n",
              "      <td>144.964122</td>\n",
              "      <td>POINT (144.964122 -37.800524)</td>\n",
              "    </tr>\n",
              "    <tr>\n",
              "      <th>3</th>\n",
              "      <td>293</td>\n",
              "      <td>arc1046</td>\n",
              "      <td>0a</td>\n",
              "      <td>5.1</td>\n",
              "      <td>2019-11-15 10:00:00</td>\n",
              "      <td>PM2.5</td>\n",
              "      <td>ug/m^3</td>\n",
              "      <td>2019-11-15</td>\n",
              "      <td>10:00:00</td>\n",
              "      <td>Corner of Swanston and Grattan Streets, Carlton</td>\n",
              "      <td>2020/08/05 08:00:01 PM</td>\n",
              "      <td>-37.800524</td>\n",
              "      <td>144.964122</td>\n",
              "      <td>POINT (144.964122 -37.800524)</td>\n",
              "    </tr>\n",
              "    <tr>\n",
              "      <th>4</th>\n",
              "      <td>343</td>\n",
              "      <td>arc1046</td>\n",
              "      <td>0a</td>\n",
              "      <td>5.3</td>\n",
              "      <td>2019-11-15 10:15:00</td>\n",
              "      <td>PM2.5</td>\n",
              "      <td>ug/m^3</td>\n",
              "      <td>2019-11-15</td>\n",
              "      <td>10:15:00</td>\n",
              "      <td>Corner of Swanston and Grattan Streets, Carlton</td>\n",
              "      <td>2020/08/05 08:00:01 PM</td>\n",
              "      <td>-37.800524</td>\n",
              "      <td>144.964122</td>\n",
              "      <td>POINT (144.964122 -37.800524)</td>\n",
              "    </tr>\n",
              "  </tbody>\n",
              "</table>\n",
              "</div>"
            ],
            "text/plain": [
              "    id  site_id sensor_id  ...   latitude   longitude                       location\n",
              "0   96  arc1046        0a  ... -37.800524  144.964122  POINT (144.964122 -37.800524)\n",
              "1  143  arc1046        0a  ... -37.800524  144.964122  POINT (144.964122 -37.800524)\n",
              "2  188  arc1046        0a  ... -37.800524  144.964122  POINT (144.964122 -37.800524)\n",
              "3  293  arc1046        0a  ... -37.800524  144.964122  POINT (144.964122 -37.800524)\n",
              "4  343  arc1046        0a  ... -37.800524  144.964122  POINT (144.964122 -37.800524)\n",
              "\n",
              "[5 rows x 14 columns]"
            ]
          },
          "metadata": {
            "tags": []
          },
          "execution_count": 29
        }
      ]
    },
    {
      "cell_type": "code",
      "metadata": {
        "id": "zZ26TLWdYPX_",
        "colab_type": "code",
        "colab": {}
      },
      "source": [
        ""
      ],
      "execution_count": null,
      "outputs": []
    }
  ]
}