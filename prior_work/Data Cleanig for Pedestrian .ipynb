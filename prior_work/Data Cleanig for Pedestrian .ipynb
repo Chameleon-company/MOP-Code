{
 "cells": [
  {
   "cell_type": "code",
   "execution_count": 90,
   "metadata": {},
   "outputs": [],
   "source": [
    "import numpy as np\n",
    "import pandas as pd\n",
    "import matplotlib\n",
    "import matplotlib.pyplot as plt\n",
    "import seaborn as sns\n",
    "import sklearn \n",
    "from pandas import datetime\n",
    "\n",
    "%matplotlib inline"
   ]
  },
  {
   "cell_type": "code",
   "execution_count": 91,
   "metadata": {
    "scrolled": true
   },
   "outputs": [
    {
     "data": {
      "text/html": [
       "<div>\n",
       "<style scoped>\n",
       "    .dataframe tbody tr th:only-of-type {\n",
       "        vertical-align: middle;\n",
       "    }\n",
       "\n",
       "    .dataframe tbody tr th {\n",
       "        vertical-align: top;\n",
       "    }\n",
       "\n",
       "    .dataframe thead th {\n",
       "        text-align: right;\n",
       "    }\n",
       "</style>\n",
       "<table border=\"1\" class=\"dataframe\">\n",
       "  <thead>\n",
       "    <tr style=\"text-align: right;\">\n",
       "      <th></th>\n",
       "      <th>ID</th>\n",
       "      <th>Date_Time</th>\n",
       "      <th>Year</th>\n",
       "      <th>Month</th>\n",
       "      <th>Mdate</th>\n",
       "      <th>Day</th>\n",
       "      <th>Time</th>\n",
       "      <th>Sensor_ID</th>\n",
       "      <th>Sensor_Name</th>\n",
       "      <th>Hourly_Counts</th>\n",
       "    </tr>\n",
       "  </thead>\n",
       "  <tbody>\n",
       "    <tr>\n",
       "      <th>0</th>\n",
       "      <td>2887628</td>\n",
       "      <td>11/01/2019 05:00:00 PM</td>\n",
       "      <td>2019</td>\n",
       "      <td>November</td>\n",
       "      <td>1</td>\n",
       "      <td>Friday</td>\n",
       "      <td>17</td>\n",
       "      <td>34</td>\n",
       "      <td>Flinders St-Spark La</td>\n",
       "      <td>300</td>\n",
       "    </tr>\n",
       "    <tr>\n",
       "      <th>1</th>\n",
       "      <td>2887629</td>\n",
       "      <td>11/01/2019 05:00:00 PM</td>\n",
       "      <td>2019</td>\n",
       "      <td>November</td>\n",
       "      <td>1</td>\n",
       "      <td>Friday</td>\n",
       "      <td>17</td>\n",
       "      <td>39</td>\n",
       "      <td>Alfred Place</td>\n",
       "      <td>604</td>\n",
       "    </tr>\n",
       "    <tr>\n",
       "      <th>2</th>\n",
       "      <td>2887630</td>\n",
       "      <td>11/01/2019 05:00:00 PM</td>\n",
       "      <td>2019</td>\n",
       "      <td>November</td>\n",
       "      <td>1</td>\n",
       "      <td>Friday</td>\n",
       "      <td>17</td>\n",
       "      <td>37</td>\n",
       "      <td>Lygon St (East)</td>\n",
       "      <td>216</td>\n",
       "    </tr>\n",
       "    <tr>\n",
       "      <th>3</th>\n",
       "      <td>2887631</td>\n",
       "      <td>11/01/2019 05:00:00 PM</td>\n",
       "      <td>2019</td>\n",
       "      <td>November</td>\n",
       "      <td>1</td>\n",
       "      <td>Friday</td>\n",
       "      <td>17</td>\n",
       "      <td>40</td>\n",
       "      <td>Lonsdale St-Spring St (West)</td>\n",
       "      <td>627</td>\n",
       "    </tr>\n",
       "    <tr>\n",
       "      <th>4</th>\n",
       "      <td>2887632</td>\n",
       "      <td>11/01/2019 05:00:00 PM</td>\n",
       "      <td>2019</td>\n",
       "      <td>November</td>\n",
       "      <td>1</td>\n",
       "      <td>Friday</td>\n",
       "      <td>17</td>\n",
       "      <td>36</td>\n",
       "      <td>Queen St (West)</td>\n",
       "      <td>774</td>\n",
       "    </tr>\n",
       "    <tr>\n",
       "      <th>...</th>\n",
       "      <td>...</td>\n",
       "      <td>...</td>\n",
       "      <td>...</td>\n",
       "      <td>...</td>\n",
       "      <td>...</td>\n",
       "      <td>...</td>\n",
       "      <td>...</td>\n",
       "      <td>...</td>\n",
       "      <td>...</td>\n",
       "      <td>...</td>\n",
       "    </tr>\n",
       "    <tr>\n",
       "      <th>3260813</th>\n",
       "      <td>3260814</td>\n",
       "      <td>07/31/2020 11:00:00 PM</td>\n",
       "      <td>2020</td>\n",
       "      <td>July</td>\n",
       "      <td>31</td>\n",
       "      <td>Friday</td>\n",
       "      <td>23</td>\n",
       "      <td>61</td>\n",
       "      <td>Swanston St - RMIT Building 14</td>\n",
       "      <td>21</td>\n",
       "    </tr>\n",
       "    <tr>\n",
       "      <th>3260814</th>\n",
       "      <td>3260815</td>\n",
       "      <td>07/31/2020 11:00:00 PM</td>\n",
       "      <td>2020</td>\n",
       "      <td>July</td>\n",
       "      <td>31</td>\n",
       "      <td>Friday</td>\n",
       "      <td>23</td>\n",
       "      <td>63</td>\n",
       "      <td>231 Bourke St</td>\n",
       "      <td>14</td>\n",
       "    </tr>\n",
       "    <tr>\n",
       "      <th>3260815</th>\n",
       "      <td>3260816</td>\n",
       "      <td>07/31/2020 11:00:00 PM</td>\n",
       "      <td>2020</td>\n",
       "      <td>July</td>\n",
       "      <td>31</td>\n",
       "      <td>Friday</td>\n",
       "      <td>23</td>\n",
       "      <td>64</td>\n",
       "      <td>Royal Pde-Grattan St</td>\n",
       "      <td>6</td>\n",
       "    </tr>\n",
       "    <tr>\n",
       "      <th>3260816</th>\n",
       "      <td>3260817</td>\n",
       "      <td>07/31/2020 11:00:00 PM</td>\n",
       "      <td>2020</td>\n",
       "      <td>July</td>\n",
       "      <td>31</td>\n",
       "      <td>Friday</td>\n",
       "      <td>23</td>\n",
       "      <td>65</td>\n",
       "      <td>Swanston St - City Square</td>\n",
       "      <td>7</td>\n",
       "    </tr>\n",
       "    <tr>\n",
       "      <th>3260817</th>\n",
       "      <td>3260818</td>\n",
       "      <td>07/31/2020 11:00:00 PM</td>\n",
       "      <td>2020</td>\n",
       "      <td>July</td>\n",
       "      <td>31</td>\n",
       "      <td>Friday</td>\n",
       "      <td>23</td>\n",
       "      <td>66</td>\n",
       "      <td>State Library-New</td>\n",
       "      <td>25</td>\n",
       "    </tr>\n",
       "  </tbody>\n",
       "</table>\n",
       "<p>3260818 rows × 10 columns</p>\n",
       "</div>"
      ],
      "text/plain": [
       "              ID               Date_Time  Year     Month  Mdate     Day  Time  \\\n",
       "0        2887628  11/01/2019 05:00:00 PM  2019  November      1  Friday    17   \n",
       "1        2887629  11/01/2019 05:00:00 PM  2019  November      1  Friday    17   \n",
       "2        2887630  11/01/2019 05:00:00 PM  2019  November      1  Friday    17   \n",
       "3        2887631  11/01/2019 05:00:00 PM  2019  November      1  Friday    17   \n",
       "4        2887632  11/01/2019 05:00:00 PM  2019  November      1  Friday    17   \n",
       "...          ...                     ...   ...       ...    ...     ...   ...   \n",
       "3260813  3260814  07/31/2020 11:00:00 PM  2020      July     31  Friday    23   \n",
       "3260814  3260815  07/31/2020 11:00:00 PM  2020      July     31  Friday    23   \n",
       "3260815  3260816  07/31/2020 11:00:00 PM  2020      July     31  Friday    23   \n",
       "3260816  3260817  07/31/2020 11:00:00 PM  2020      July     31  Friday    23   \n",
       "3260817  3260818  07/31/2020 11:00:00 PM  2020      July     31  Friday    23   \n",
       "\n",
       "         Sensor_ID                     Sensor_Name  Hourly_Counts  \n",
       "0               34            Flinders St-Spark La            300  \n",
       "1               39                    Alfred Place            604  \n",
       "2               37                 Lygon St (East)            216  \n",
       "3               40    Lonsdale St-Spring St (West)            627  \n",
       "4               36                 Queen St (West)            774  \n",
       "...            ...                             ...            ...  \n",
       "3260813         61  Swanston St - RMIT Building 14             21  \n",
       "3260814         63                   231 Bourke St             14  \n",
       "3260815         64            Royal Pde-Grattan St              6  \n",
       "3260816         65       Swanston St - City Square              7  \n",
       "3260817         66               State Library-New             25  \n",
       "\n",
       "[3260818 rows x 10 columns]"
      ]
     },
     "execution_count": 91,
     "metadata": {},
     "output_type": "execute_result"
    }
   ],
   "source": [
    "df = pd.read_csv(\"Pedestrian_Counting_System___2009_to_Present__counts_per_hour_.csv\")\n",
    "df\n",
    "# Displaying the data  "
   ]
  },
  {
   "cell_type": "code",
   "execution_count": 106,
   "metadata": {},
   "outputs": [
    {
     "data": {
      "text/plain": [
       "3260818"
      ]
     },
     "execution_count": 106,
     "metadata": {},
     "output_type": "execute_result"
    }
   ],
   "source": [
    "len(df)"
   ]
  },
  {
   "cell_type": "code",
   "execution_count": 97,
   "metadata": {
    "scrolled": true
   },
   "outputs": [
    {
     "name": "stdout",
     "output_type": "stream",
     "text": [
      "<class 'pandas.core.frame.DataFrame'>\n",
      "RangeIndex: 3260818 entries, 0 to 3260817\n",
      "Data columns (total 10 columns):\n",
      " #   Column         Dtype \n",
      "---  ------         ----- \n",
      " 0   ID             int64 \n",
      " 1   Date_Time      object\n",
      " 2   Year           int64 \n",
      " 3   Month          object\n",
      " 4   Mdate          int64 \n",
      " 5   Day            object\n",
      " 6   Time           int64 \n",
      " 7   Sensor_ID      int64 \n",
      " 8   Sensor_Name    object\n",
      " 9   Hourly_Counts  int64 \n",
      "dtypes: int64(6), object(4)\n",
      "memory usage: 248.8+ MB\n"
     ]
    },
    {
     "data": {
      "text/plain": [
       "Day              3260818\n",
       "Time             3260818\n",
       "Sensor_ID        3260818\n",
       "Sensor_Name      3260818\n",
       "Hourly_Counts    3260818\n",
       "dtype: int64"
      ]
     },
     "execution_count": 97,
     "metadata": {},
     "output_type": "execute_result"
    }
   ],
   "source": [
    "df.info()\n",
    "df.count().tail()"
   ]
  },
  {
   "cell_type": "code",
   "execution_count": 99,
   "metadata": {},
   "outputs": [
    {
     "data": {
      "text/html": [
       "<div>\n",
       "<style scoped>\n",
       "    .dataframe tbody tr th:only-of-type {\n",
       "        vertical-align: middle;\n",
       "    }\n",
       "\n",
       "    .dataframe tbody tr th {\n",
       "        vertical-align: top;\n",
       "    }\n",
       "\n",
       "    .dataframe thead th {\n",
       "        text-align: right;\n",
       "    }\n",
       "</style>\n",
       "<table border=\"1\" class=\"dataframe\">\n",
       "  <thead>\n",
       "    <tr style=\"text-align: right;\">\n",
       "      <th></th>\n",
       "      <th>ID</th>\n",
       "      <th>Date_Time</th>\n",
       "      <th>Year</th>\n",
       "      <th>Month</th>\n",
       "      <th>Mdate</th>\n",
       "      <th>Day</th>\n",
       "      <th>Time</th>\n",
       "      <th>Sensor_ID</th>\n",
       "      <th>Sensor_Name</th>\n",
       "      <th>Hourly_Counts</th>\n",
       "    </tr>\n",
       "  </thead>\n",
       "  <tbody>\n",
       "    <tr>\n",
       "      <th>0</th>\n",
       "      <td>False</td>\n",
       "      <td>False</td>\n",
       "      <td>False</td>\n",
       "      <td>False</td>\n",
       "      <td>False</td>\n",
       "      <td>False</td>\n",
       "      <td>False</td>\n",
       "      <td>False</td>\n",
       "      <td>False</td>\n",
       "      <td>False</td>\n",
       "    </tr>\n",
       "    <tr>\n",
       "      <th>1</th>\n",
       "      <td>False</td>\n",
       "      <td>False</td>\n",
       "      <td>False</td>\n",
       "      <td>False</td>\n",
       "      <td>False</td>\n",
       "      <td>False</td>\n",
       "      <td>False</td>\n",
       "      <td>False</td>\n",
       "      <td>False</td>\n",
       "      <td>False</td>\n",
       "    </tr>\n",
       "    <tr>\n",
       "      <th>2</th>\n",
       "      <td>False</td>\n",
       "      <td>False</td>\n",
       "      <td>False</td>\n",
       "      <td>False</td>\n",
       "      <td>False</td>\n",
       "      <td>False</td>\n",
       "      <td>False</td>\n",
       "      <td>False</td>\n",
       "      <td>False</td>\n",
       "      <td>False</td>\n",
       "    </tr>\n",
       "    <tr>\n",
       "      <th>3</th>\n",
       "      <td>False</td>\n",
       "      <td>False</td>\n",
       "      <td>False</td>\n",
       "      <td>False</td>\n",
       "      <td>False</td>\n",
       "      <td>False</td>\n",
       "      <td>False</td>\n",
       "      <td>False</td>\n",
       "      <td>False</td>\n",
       "      <td>False</td>\n",
       "    </tr>\n",
       "    <tr>\n",
       "      <th>4</th>\n",
       "      <td>False</td>\n",
       "      <td>False</td>\n",
       "      <td>False</td>\n",
       "      <td>False</td>\n",
       "      <td>False</td>\n",
       "      <td>False</td>\n",
       "      <td>False</td>\n",
       "      <td>False</td>\n",
       "      <td>False</td>\n",
       "      <td>False</td>\n",
       "    </tr>\n",
       "    <tr>\n",
       "      <th>...</th>\n",
       "      <td>...</td>\n",
       "      <td>...</td>\n",
       "      <td>...</td>\n",
       "      <td>...</td>\n",
       "      <td>...</td>\n",
       "      <td>...</td>\n",
       "      <td>...</td>\n",
       "      <td>...</td>\n",
       "      <td>...</td>\n",
       "      <td>...</td>\n",
       "    </tr>\n",
       "    <tr>\n",
       "      <th>3260813</th>\n",
       "      <td>False</td>\n",
       "      <td>False</td>\n",
       "      <td>False</td>\n",
       "      <td>False</td>\n",
       "      <td>False</td>\n",
       "      <td>False</td>\n",
       "      <td>False</td>\n",
       "      <td>False</td>\n",
       "      <td>False</td>\n",
       "      <td>False</td>\n",
       "    </tr>\n",
       "    <tr>\n",
       "      <th>3260814</th>\n",
       "      <td>False</td>\n",
       "      <td>False</td>\n",
       "      <td>False</td>\n",
       "      <td>False</td>\n",
       "      <td>False</td>\n",
       "      <td>False</td>\n",
       "      <td>False</td>\n",
       "      <td>False</td>\n",
       "      <td>False</td>\n",
       "      <td>False</td>\n",
       "    </tr>\n",
       "    <tr>\n",
       "      <th>3260815</th>\n",
       "      <td>False</td>\n",
       "      <td>False</td>\n",
       "      <td>False</td>\n",
       "      <td>False</td>\n",
       "      <td>False</td>\n",
       "      <td>False</td>\n",
       "      <td>False</td>\n",
       "      <td>False</td>\n",
       "      <td>False</td>\n",
       "      <td>False</td>\n",
       "    </tr>\n",
       "    <tr>\n",
       "      <th>3260816</th>\n",
       "      <td>False</td>\n",
       "      <td>False</td>\n",
       "      <td>False</td>\n",
       "      <td>False</td>\n",
       "      <td>False</td>\n",
       "      <td>False</td>\n",
       "      <td>False</td>\n",
       "      <td>False</td>\n",
       "      <td>False</td>\n",
       "      <td>False</td>\n",
       "    </tr>\n",
       "    <tr>\n",
       "      <th>3260817</th>\n",
       "      <td>False</td>\n",
       "      <td>False</td>\n",
       "      <td>False</td>\n",
       "      <td>False</td>\n",
       "      <td>False</td>\n",
       "      <td>False</td>\n",
       "      <td>False</td>\n",
       "      <td>False</td>\n",
       "      <td>False</td>\n",
       "      <td>False</td>\n",
       "    </tr>\n",
       "  </tbody>\n",
       "</table>\n",
       "<p>3260818 rows × 10 columns</p>\n",
       "</div>"
      ],
      "text/plain": [
       "            ID  Date_Time   Year  Month  Mdate    Day   Time  Sensor_ID  \\\n",
       "0        False      False  False  False  False  False  False      False   \n",
       "1        False      False  False  False  False  False  False      False   \n",
       "2        False      False  False  False  False  False  False      False   \n",
       "3        False      False  False  False  False  False  False      False   \n",
       "4        False      False  False  False  False  False  False      False   \n",
       "...        ...        ...    ...    ...    ...    ...    ...        ...   \n",
       "3260813  False      False  False  False  False  False  False      False   \n",
       "3260814  False      False  False  False  False  False  False      False   \n",
       "3260815  False      False  False  False  False  False  False      False   \n",
       "3260816  False      False  False  False  False  False  False      False   \n",
       "3260817  False      False  False  False  False  False  False      False   \n",
       "\n",
       "         Sensor_Name  Hourly_Counts  \n",
       "0              False          False  \n",
       "1              False          False  \n",
       "2              False          False  \n",
       "3              False          False  \n",
       "4              False          False  \n",
       "...              ...            ...  \n",
       "3260813        False          False  \n",
       "3260814        False          False  \n",
       "3260815        False          False  \n",
       "3260816        False          False  \n",
       "3260817        False          False  \n",
       "\n",
       "[3260818 rows x 10 columns]"
      ]
     },
     "execution_count": 99,
     "metadata": {},
     "output_type": "execute_result"
    }
   ],
   "source": [
    "df_missing = df.isna()\n",
    "df_missing"
   ]
  },
  {
   "cell_type": "code",
   "execution_count": 103,
   "metadata": {},
   "outputs": [
    {
     "data": {
      "text/plain": [
       "ID               0\n",
       "Date_Time        0\n",
       "Year             0\n",
       "Month            0\n",
       "Mdate            0\n",
       "Day              0\n",
       "Time             0\n",
       "Sensor_ID        0\n",
       "Sensor_Name      0\n",
       "Hourly_Counts    0\n",
       "dtype: int64"
      ]
     },
     "execution_count": 103,
     "metadata": {},
     "output_type": "execute_result"
    }
   ],
   "source": [
    "df[df.isna()== True].count()"
   ]
  },
  {
   "cell_type": "code",
   "execution_count": 104,
   "metadata": {},
   "outputs": [
    {
     "data": {
      "text/plain": [
       "ID               0.0\n",
       "Date_Time        0.0\n",
       "Year             0.0\n",
       "Month            0.0\n",
       "Mdate            0.0\n",
       "Day              0.0\n",
       "Time             0.0\n",
       "Sensor_ID        0.0\n",
       "Sensor_Name      0.0\n",
       "Hourly_Counts    0.0\n",
       "dtype: float64"
      ]
     },
     "execution_count": 104,
     "metadata": {},
     "output_type": "execute_result"
    }
   ],
   "source": [
    "#missing values percent\n",
    "df.isnull().mean() * 100"
   ]
  },
  {
   "cell_type": "code",
   "execution_count": 96,
   "metadata": {},
   "outputs": [
    {
     "data": {
      "text/plain": [
       "0"
      ]
     },
     "execution_count": 96,
     "metadata": {},
     "output_type": "execute_result"
    }
   ],
   "source": [
    "#df['Hourly_Counts'].isnull().any()\n",
    "#df.isnull().sum()\n",
    "#df.isnull().values.any()\n",
    "df.isnull().sum().sum()"
   ]
  },
  {
   "cell_type": "code",
   "execution_count": 78,
   "metadata": {},
   "outputs": [
    {
     "data": {
      "text/plain": [
       "array([34, 39, 37, 40, 36, 29, 42, 43, 44, 35, 45, 46, 47, 48, 49, 50, 51,\n",
       "       52, 54, 55, 56, 57, 58, 59, 61, 62,  4, 17, 18, 53,  2,  1,  3, 15,\n",
       "        9, 10, 12, 11,  8,  7,  5,  6, 14, 26, 24, 23, 25, 21, 20, 19, 22,\n",
       "       27, 28, 31, 30, 41, 13, 16, 32, 33, 38, 60, 63, 64, 65, 66],\n",
       "      dtype=int64)"
      ]
     },
     "execution_count": 78,
     "metadata": {},
     "output_type": "execute_result"
    }
   ],
   "source": [
    "#df.columns\n",
    "#df.index\n",
    "df['Sensor_ID'].unique()"
   ]
  },
  {
   "cell_type": "code",
   "execution_count": 114,
   "metadata": {},
   "outputs": [],
   "source": [
    "df_dup=pd.DataFrame(index=sorted(df['Sensor_ID'].unique()),columns=(['Duplicates']))\n",
    "for i in range(0,66):\n",
    "    data=df[df['Sensor_ID']==i+1]\n",
    "    data_=data.drop_duplicates(subset=['Date_Time'], keep=False)\n",
    "    df.iloc[i,0]=(1-(len(data_)/len(data)))*100\n",
    "   "
   ]
  },
  {
   "cell_type": "code",
   "execution_count": 129,
   "metadata": {},
   "outputs": [
    {
     "data": {
      "text/plain": [
       "Duplicates    0\n",
       "dtype: int64"
      ]
     },
     "execution_count": 129,
     "metadata": {},
     "output_type": "execute_result"
    }
   ],
   "source": [
    " df_dup[df_dup['Duplicates']== True].count()"
   ]
  },
  {
   "cell_type": "code",
   "execution_count": 110,
   "metadata": {},
   "outputs": [
    {
     "data": {
      "text/plain": [
       "(3260818, 10)"
      ]
     },
     "execution_count": 110,
     "metadata": {},
     "output_type": "execute_result"
    }
   ],
   "source": [
    "df_x = df.drop_duplicates()\n",
    "df_x.shape"
   ]
  },
  {
   "cell_type": "code",
   "execution_count": 123,
   "metadata": {},
   "outputs": [
    {
     "data": {
      "text/plain": [
       "3260818"
      ]
     },
     "execution_count": 123,
     "metadata": {},
     "output_type": "execute_result"
    }
   ],
   "source": [
    "yea= ['2009','2010','2011','2012','2013','2014','2015','2016','2017','2018','2019','2020']\n",
    "x_year= df[df['Year'].isin(yea)]\n",
    "len(x_year)"
   ]
  },
  {
   "cell_type": "code",
   "execution_count": 43,
   "metadata": {},
   "outputs": [
    {
     "data": {
      "text/plain": [
       "Index([], dtype='object')"
      ]
     },
     "execution_count": 43,
     "metadata": {},
     "output_type": "execute_result"
    }
   ],
   "source": [
    "#df.columns[df.isna().any().tolist()]\n",
    "#null_columns=df.columns[df.isnull().any()]\n",
    "df[null_columns].notna().sum()"
   ]
  },
  {
   "cell_type": "code",
   "execution_count": 134,
   "metadata": {},
   "outputs": [
    {
     "data": {
      "text/plain": [
       "0"
      ]
     },
     "execution_count": 134,
     "metadata": {},
     "output_type": "execute_result"
    }
   ],
   "source": [
    "r_date=df['Date_Time'].map(type)!=str    \n",
    "len(r_date[r_date == True].index)"
   ]
  },
  {
   "cell_type": "code",
   "execution_count": 137,
   "metadata": {},
   "outputs": [
    {
     "data": {
      "text/plain": [
       "0"
      ]
     },
     "execution_count": 137,
     "metadata": {},
     "output_type": "execute_result"
    }
   ],
   "source": [
    "r_hr=df['Hourly_Counts'].map(type)==str    \n",
    "len(r_hr[r_hr == True].index)"
   ]
  },
  {
   "cell_type": "code",
   "execution_count": 61,
   "metadata": {},
   "outputs": [
    {
     "name": "stdout",
     "output_type": "stream",
     "text": [
      "<class 'pandas.core.frame.DataFrame'>\n",
      "RangeIndex: 3260818 entries, 0 to 3260817\n",
      "Data columns (total 10 columns):\n",
      " #   Column         Dtype \n",
      "---  ------         ----- \n",
      " 0   ID             int64 \n",
      " 1   Date_Time      object\n",
      " 2   Year           int64 \n",
      " 3   Month          object\n",
      " 4   Mdate          int64 \n",
      " 5   Day            object\n",
      " 6   Time           int64 \n",
      " 7   Sensor_ID      int64 \n",
      " 8   Sensor_Name    object\n",
      " 9   Hourly_Counts  int64 \n",
      "dtypes: int64(6), object(4)\n",
      "memory usage: 248.8+ MB\n"
     ]
    }
   ],
   "source": [
    "df.columns\n",
    "df.index\n",
    "df.values\n",
    "type(df)\n",
    "df.shape\n",
    "df.info()"
   ]
  },
  {
   "cell_type": "code",
   "execution_count": 62,
   "metadata": {
    "scrolled": true
   },
   "outputs": [
    {
     "data": {
      "text/plain": [
       "3260818"
      ]
     },
     "execution_count": 62,
     "metadata": {},
     "output_type": "execute_result"
    }
   ],
   "source": [
    "len(df)"
   ]
  },
  {
   "cell_type": "code",
   "execution_count": null,
   "metadata": {},
   "outputs": [],
   "source": []
  }
 ],
 "metadata": {
  "kernelspec": {
   "display_name": "Python 3",
   "language": "python",
   "name": "python3"
  },
  "language_info": {
   "codemirror_mode": {
    "name": "ipython",
    "version": 3
   },
   "file_extension": ".py",
   "mimetype": "text/x-python",
   "name": "python",
   "nbconvert_exporter": "python",
   "pygments_lexer": "ipython3",
   "version": "3.7.6"
  }
 },
 "nbformat": 4,
 "nbformat_minor": 4
}
