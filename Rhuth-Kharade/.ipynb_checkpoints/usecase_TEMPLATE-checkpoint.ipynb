{
 "cells": [
  {
   "cell_type": "code",
   "execution_count": 638,
   "metadata": {},
   "outputs": [
    {
     "data": {
      "text/html": [
       "\n",
       "<style>\n",
       ".usecase-title, .usecase-duration, .usecase-section-header {\n",
       "    padding-left: 15px;\n",
       "    padding-bottom: 10px;\n",
       "    padding-top: 10px;\n",
       "    padding-right: 15px;\n",
       "    background-color: #0f9295;\n",
       "    color: #fff;\n",
       "}\n",
       "\n",
       ".usecase-title {\n",
       "    font-size: 1.7em;\n",
       "    font-weight: bold;\n",
       "}\n",
       "\n",
       ".usecase-authors, .usecase-level, .usecase-skill {\n",
       "    padding-left: 15px;\n",
       "    padding-bottom: 7px;\n",
       "    padding-top: 7px;\n",
       "    background-color: #baeaeb;\n",
       "    font-size: 1.4em;\n",
       "    color: #121212;\n",
       "}\n",
       "\n",
       ".usecase-level-skill  {\n",
       "    display: flex;\n",
       "}\n",
       "\n",
       ".usecase-level, .usecase-skill {\n",
       "    width: 50%;\n",
       "}\n",
       "\n",
       ".usecase-duration, .usecase-skill {\n",
       "    text-align: right;\n",
       "    padding-right: 15px;\n",
       "    padding-bottom: 8px;\n",
       "    font-size: 1.4em;\n",
       "}\n",
       "\n",
       ".usecase-section-header {\n",
       "    font-weight: bold;\n",
       "    font-size: 1.5em;\n",
       "}\n",
       "\n",
       ".usecase-subsection-header, .usecase-subsection-blurb {\n",
       "    font-weight: bold;\n",
       "    font-size: 1.2em;\n",
       "    color: #121212;\n",
       "}\n",
       "\n",
       ".usecase-subsection-blurb {\n",
       "    font-size: 1em;\n",
       "    font-style: italic;\n",
       "}\n",
       "</style>\n"
      ],
      "text/plain": [
       "<IPython.core.display.HTML object>"
      ]
     },
     "execution_count": 638,
     "metadata": {},
     "output_type": "execute_result"
    }
   ],
   "source": [
    "# DELETE BEFORE PUBLISHING\n",
    "# This is just here so you can preview the styling on your local machine\n",
    "\n",
    "from IPython.core.display import HTML\n",
    "HTML(\"\"\"\n",
    "<style>\n",
    ".usecase-title, .usecase-duration, .usecase-section-header {\n",
    "    padding-left: 15px;\n",
    "    padding-bottom: 10px;\n",
    "    padding-top: 10px;\n",
    "    padding-right: 15px;\n",
    "    background-color: #0f9295;\n",
    "    color: #fff;\n",
    "}\n",
    "\n",
    ".usecase-title {\n",
    "    font-size: 1.7em;\n",
    "    font-weight: bold;\n",
    "}\n",
    "\n",
    ".usecase-authors, .usecase-level, .usecase-skill {\n",
    "    padding-left: 15px;\n",
    "    padding-bottom: 7px;\n",
    "    padding-top: 7px;\n",
    "    background-color: #baeaeb;\n",
    "    font-size: 1.4em;\n",
    "    color: #121212;\n",
    "}\n",
    "\n",
    ".usecase-level-skill  {\n",
    "    display: flex;\n",
    "}\n",
    "\n",
    ".usecase-level, .usecase-skill {\n",
    "    width: 50%;\n",
    "}\n",
    "\n",
    ".usecase-duration, .usecase-skill {\n",
    "    text-align: right;\n",
    "    padding-right: 15px;\n",
    "    padding-bottom: 8px;\n",
    "    font-size: 1.4em;\n",
    "}\n",
    "\n",
    ".usecase-section-header {\n",
    "    font-weight: bold;\n",
    "    font-size: 1.5em;\n",
    "}\n",
    "\n",
    ".usecase-subsection-header, .usecase-subsection-blurb {\n",
    "    font-weight: bold;\n",
    "    font-size: 1.2em;\n",
    "    color: #121212;\n",
    "}\n",
    "\n",
    ".usecase-subsection-blurb {\n",
    "    font-size: 1em;\n",
    "    font-style: italic;\n",
    "}\n",
    "</style>\n",
    "\"\"\")"
   ]
  },
  {
   "cell_type": "markdown",
   "metadata": {},
   "source": [
    "<div class=\"usecase-title\">Population and Job forecasting </div>\n",
    "\n",
    "<div class=\"usecase-authors\"><b>Authored by: Rhutuvaruni Kharade and Tharusha Chao</div>"
   ]
  },
  {
   "cell_type": "markdown",
   "metadata": {},
   "source": [
    "<div class=\"usecase-duration\"><b>Duration:</b> 100 mins</div>\n",
    "\n",
    "<div class=\"usecase-level-skill\">\n",
    "    <div class=\"usecase-level\"><b>Level: </b>Intermediate</div>\n",
    "    <div class=\"usecase-skill\"><b>Pre-requisite Skills: </b>Python, PowerBI, Tableau</div>\n",
    "</div>"
   ]
  },
  {
   "cell_type": "markdown",
   "metadata": {},
   "source": [
    "<div class=\"usecase-section-header\">Scenario</div>"
   ]
  },
  {
   "cell_type": "markdown",
   "metadata": {},
   "source": [
    "<b>As a citizen and a job seeker, I want to find a job in the field that currently has a lot of demand in this area. </b>\n",
    "Job seekers are often worried about which jobs are in high demand or in low demand? Which industry will have higher number of jobs in future ? Which areas have highest numbers of jobs based on a particular industry ? Its important for them to know which jobs they should study for and which city has highest concentration of such jobs so they can plan their living and stay in such areas. By understanding the number of jobs based on a cities, job seekers can ensure that they can get a job or live in close vicinity of that job if they live in a particular areas. \n",
    "\n",
    "<b>As a business owner I want to establish my business where there is a high demand for my service. I want to make sure that the city I am planning to establish my business in has a higher population so I can attract more customers and potential candidates to work for my company. </b>\n",
    "Business owners need to know in which city they should establish their company in. This is based on the population of the area. Number of people living in a particular area can motivate business owners to have their business in such locations. This will also attract many job seekers in these places which will help the businesses find the right candidates (employees) to work for them. \n",
    "\n"
   ]
  },
  {
   "cell_type": "markdown",
   "metadata": {},
   "source": [
    "<div class=\"usecase-section-header\">What this use case will teach you</div>"
   ]
  },
  {
   "cell_type": "markdown",
   "metadata": {},
   "source": [
    "At the end of this use case you will - \n",
    "- Learn how to make open the data in the form of pandas dataframe and save it for futher use.\n",
    "- Have learned how to clean, transform, analyze, visualize data and report outcomes (findings) effectively.\n",
    "- Use the data to create effective visualization like scatterplots, heatmaps, histograms, etc to aid an understanding of the data to technical and non-technical readers\n",
    "- using dashboards for effective story telling to both techical and non-technical audiences. \n",
    "- Using version control tools to collaborate and contribute to the project//\n"
   ]
  },
  {
   "cell_type": "markdown",
   "metadata": {},
   "source": [
    "<div class=\"usecase-section-header\">Introduction</div>"
   ]
  },
  {
   "cell_type": "markdown",
   "metadata": {},
   "source": [
    "This project focuses on finding the relationship between jobs and population. Jobs in different industry impact the population in the area. This project will look at this impact and will also give reader a brief idea about how population changes with respect to the number of jobs in a particular area. The data is sourced from City of Melbourne Open Data which is open source and will be used throughout this project. The dataset will be cleaned, transformed, analyzed, visualized and finally relevant insights will be reported and documented. These findings will help stakeholders, policy makers and other readers for futher decision making.  \n"
   ]
  },
  {
   "cell_type": "markdown",
   "metadata": {},
   "source": [
    "<div class=\"usecase-section-header\">Datasets Used </div>"
   ]
  },
  {
   "cell_type": "markdown",
   "metadata": {},
   "source": [
    "<div class=\"usecase-section-header\">Roadmap</div>"
   ]
  },
  {
   "cell_type": "markdown",
   "metadata": {},
   "source": [
    "<div class=\"usecase-section-header\">Importing libraries </div>"
   ]
  },
  {
   "cell_type": "code",
   "execution_count": 639,
   "metadata": {},
   "outputs": [],
   "source": [
    "# importing libraries \n",
    "import pandas as pd \n",
    "import seaborn as sns \n",
    "import numpy as np \n",
    "import requests\n",
    "import os \n",
    "import matplotlib.pyplot as plt \n",
    "import missingno as msno\n",
    "\n"
   ]
  },
  {
   "cell_type": "markdown",
   "metadata": {},
   "source": [
    "<div class=\"usecase-section-header\">Connecting to Dataset and Testing </div>"
   ]
  },
  {
   "cell_type": "code",
   "execution_count": 640,
   "metadata": {},
   "outputs": [],
   "source": [
    "# # aim : api stuff, creating requests and parsing json \n",
    "# # job data - City of Melbourne Jobs Forecasts by Small Area 2021-2041\n",
    "\n",
    "# # Function to get data from website using API\n",
    "# def get_data(base, data_url, offset=0):    \n",
    "#     # Set the filters, limit retrieves 20 rows at a time, offset says where to start data collection\n",
    "#     filters = f'records?limit={50}&offset={offset}&timezone=UTC'\n",
    "#     # Make the url from base, data url and filters variables stored ouside loop\n",
    "#     url = f'{base}{data_url}/{filters}'\n",
    "#     # Use the requests function to get the data\n",
    "#     result = requests.get(url)\n",
    "#     # Check that the request works, error code 200 = successful\n",
    "#     if result.status_code == 200:\n",
    "#         # Save results as a json file\n",
    "#         result_json = result.json()\n",
    "#         # Store a variable of max_results with total of dataset\n",
    "#         max_results = result_json['total_count']\n",
    "#         # Save the results key data to a list variable\n",
    "#         records = result_json['results']\n",
    "#     else:\n",
    "#         # If data is not collected correctly return the error\n",
    "#         print(\"ERROR GETTING DATA: \", result.status_code)\n",
    "#         max_results = 0\n",
    "#         records = []\n",
    "#     # At end of function, return the json results in records, max_results count and offset\n",
    "#     return [records, max_results, offset]\n",
    "\n",
    "\n",
    "# # Collect data from API\n",
    "# # Set offset increment\n",
    "# OFFSET_INCREMENT = 50\n",
    "# # Base url (this should be the same for all datasets)\n",
    "# BASE_URL = 'https://data.melbourne.vic.gov.au/api/explore/v2.1/catalog/datasets/'\n",
    "# # Set specific url \n",
    "# SPECIFIC_PATH = 'city-of-melbourne-jobs-forecasts-by-small-area-2020-2040'\n",
    "# # Call the get data function, passing in variables above, save to result\n",
    "# result = get_data(BASE_URL, SPECIFIC_PATH)\n",
    "# # Save the records data returned in the get_data function to records list variable\n",
    "# records = result[0]\n",
    "# # Save the dataset size data returned in the get_data function to max_results variable\n",
    "# max_results = result[1] \n",
    "# # Increase the offset returned in the get_data function (result[2]) by the offset increment\n",
    "# offset = result[2] + OFFSET_INCREMENT\n",
    "# # Check the length of the data returned and compare it against the max_results variable\n",
    "# # If the length o fthe data is less than the max_results, run the while loop\n",
    "# while len(records) != max_results:\n",
    "#     # Call the get data function again, passing in url, specific path and new offset value\n",
    "#     data = get_data(BASE_URL, SPECIFIC_PATH, offset)\n",
    "#     # Add the data collected to the existing records list\n",
    "#     records += data[0]\n",
    "#     # Increase the offset by the offset increment\n",
    "#     offset += OFFSET_INCREMENT\n",
    "# # Convert the records list of dictionaries into a pandas dataframe \n",
    "# job = pd.DataFrame(records)\n",
    "# job"
   ]
  },
  {
   "cell_type": "code",
   "execution_count": 641,
   "metadata": {},
   "outputs": [],
   "source": [
    "\n",
    "# # Collect data from API\n",
    "# # Set offset increment\n",
    "# OFFSET_INCREMENT = 50\n",
    "# # Base url (this should be the same for all datasets)\n",
    "# BASE_URL = 'https://data.melbourne.vic.gov.au/api/explore/v2.1/catalog/datasets/'\n",
    "# # Set specific url \n",
    "# SPECIFIC_PATH = 'city-of-melbourne-population-forecasts-by-small-area-2020-2040'\n",
    "# # Call the get data function, passing in variables above, save to result\n",
    "# result = get_data(BASE_URL, SPECIFIC_PATH)\n",
    "# # Save the records data returned in the get_data function to records list variable\n",
    "# records = result[0]\n",
    "# # Save the dataset size data returned in the get_data function to max_results variable\n",
    "# max_results = result[1] \n",
    "# # Increase the offset returned in the get_data function (result[2]) by the offset increment\n",
    "# offset = result[2] + OFFSET_INCREMENT\n",
    "# # Check the length of the data returned and compare it against the max_results variable\n",
    "# # If the length o fthe data is less than the max_results, run the while loop\n",
    "# while len(records) != max_results:\n",
    "#     # Call the get data function again, passing in url, specific path and new offset value\n",
    "#     data = get_data(BASE_URL, SPECIFIC_PATH, offset)\n",
    "#     # Add the data collected to the existing records list\n",
    "#     records += data[0]\n",
    "#     # Increase the offset by the offset increment\n",
    "#     offset += OFFSET_INCREMENT\n",
    "# # Convert the records list of dictionaries into a pandas dataframe \n",
    "# pop = pd.DataFrame(records)\n",
    "# pop"
   ]
  },
  {
   "cell_type": "code",
   "execution_count": 642,
   "metadata": {},
   "outputs": [
    {
     "data": {
      "text/html": [
       "<div>\n",
       "<style scoped>\n",
       "    .dataframe tbody tr th:only-of-type {\n",
       "        vertical-align: middle;\n",
       "    }\n",
       "\n",
       "    .dataframe tbody tr th {\n",
       "        vertical-align: top;\n",
       "    }\n",
       "\n",
       "    .dataframe thead th {\n",
       "        text-align: right;\n",
       "    }\n",
       "</style>\n",
       "<table border=\"1\" class=\"dataframe\">\n",
       "  <thead>\n",
       "    <tr style=\"text-align: right;\">\n",
       "      <th></th>\n",
       "      <th>Geography</th>\n",
       "      <th>Year</th>\n",
       "      <th>Category</th>\n",
       "      <th>Industry Space Use</th>\n",
       "      <th>Value</th>\n",
       "    </tr>\n",
       "  </thead>\n",
       "  <tbody>\n",
       "    <tr>\n",
       "      <th>0</th>\n",
       "      <td>City of Melbourne</td>\n",
       "      <td>2023</td>\n",
       "      <td>Jobs by industry</td>\n",
       "      <td>Accommodation</td>\n",
       "      <td>10286</td>\n",
       "    </tr>\n",
       "    <tr>\n",
       "      <th>1</th>\n",
       "      <td>City of Melbourne</td>\n",
       "      <td>2026</td>\n",
       "      <td>Jobs by industry</td>\n",
       "      <td>Accommodation</td>\n",
       "      <td>11631</td>\n",
       "    </tr>\n",
       "    <tr>\n",
       "      <th>2</th>\n",
       "      <td>City of Melbourne</td>\n",
       "      <td>2032</td>\n",
       "      <td>Jobs by industry</td>\n",
       "      <td>Accommodation</td>\n",
       "      <td>13207</td>\n",
       "    </tr>\n",
       "    <tr>\n",
       "      <th>3</th>\n",
       "      <td>City of Melbourne</td>\n",
       "      <td>2034</td>\n",
       "      <td>Jobs by industry</td>\n",
       "      <td>Accommodation</td>\n",
       "      <td>13420</td>\n",
       "    </tr>\n",
       "    <tr>\n",
       "      <th>4</th>\n",
       "      <td>City of Melbourne</td>\n",
       "      <td>2035</td>\n",
       "      <td>Jobs by industry</td>\n",
       "      <td>Accommodation</td>\n",
       "      <td>13529</td>\n",
       "    </tr>\n",
       "    <tr>\n",
       "      <th>...</th>\n",
       "      <td>...</td>\n",
       "      <td>...</td>\n",
       "      <td>...</td>\n",
       "      <td>...</td>\n",
       "      <td>...</td>\n",
       "    </tr>\n",
       "    <tr>\n",
       "      <th>9109</th>\n",
       "      <td>West Melbourne (Residential)</td>\n",
       "      <td>2025</td>\n",
       "      <td>Jobs by space use</td>\n",
       "      <td>Total jobs</td>\n",
       "      <td>5454</td>\n",
       "    </tr>\n",
       "    <tr>\n",
       "      <th>9110</th>\n",
       "      <td>West Melbourne (Residential)</td>\n",
       "      <td>2026</td>\n",
       "      <td>Jobs by space use</td>\n",
       "      <td>Total jobs</td>\n",
       "      <td>5618</td>\n",
       "    </tr>\n",
       "    <tr>\n",
       "      <th>9111</th>\n",
       "      <td>West Melbourne (Residential)</td>\n",
       "      <td>2029</td>\n",
       "      <td>Jobs by space use</td>\n",
       "      <td>Total jobs</td>\n",
       "      <td>6118</td>\n",
       "    </tr>\n",
       "    <tr>\n",
       "      <th>9112</th>\n",
       "      <td>West Melbourne (Residential)</td>\n",
       "      <td>2033</td>\n",
       "      <td>Jobs by space use</td>\n",
       "      <td>Total jobs</td>\n",
       "      <td>6717</td>\n",
       "    </tr>\n",
       "    <tr>\n",
       "      <th>9113</th>\n",
       "      <td>West Melbourne (Residential)</td>\n",
       "      <td>2036</td>\n",
       "      <td>Jobs by space use</td>\n",
       "      <td>Total jobs</td>\n",
       "      <td>7027</td>\n",
       "    </tr>\n",
       "  </tbody>\n",
       "</table>\n",
       "<p>9114 rows × 5 columns</p>\n",
       "</div>"
      ],
      "text/plain": [
       "                         Geography  Year           Category  \\\n",
       "0                City of Melbourne  2023   Jobs by industry   \n",
       "1                City of Melbourne  2026   Jobs by industry   \n",
       "2                City of Melbourne  2032   Jobs by industry   \n",
       "3                City of Melbourne  2034   Jobs by industry   \n",
       "4                City of Melbourne  2035   Jobs by industry   \n",
       "...                            ...   ...                ...   \n",
       "9109  West Melbourne (Residential)  2025  Jobs by space use   \n",
       "9110  West Melbourne (Residential)  2026  Jobs by space use   \n",
       "9111  West Melbourne (Residential)  2029  Jobs by space use   \n",
       "9112  West Melbourne (Residential)  2033  Jobs by space use   \n",
       "9113  West Melbourne (Residential)  2036  Jobs by space use   \n",
       "\n",
       "     Industry Space Use  Value  \n",
       "0         Accommodation  10286  \n",
       "1         Accommodation  11631  \n",
       "2         Accommodation  13207  \n",
       "3         Accommodation  13420  \n",
       "4         Accommodation  13529  \n",
       "...                 ...    ...  \n",
       "9109         Total jobs   5454  \n",
       "9110         Total jobs   5618  \n",
       "9111         Total jobs   6118  \n",
       "9112         Total jobs   6717  \n",
       "9113         Total jobs   7027  \n",
       "\n",
       "[9114 rows x 5 columns]"
      ]
     },
     "execution_count": 642,
     "metadata": {},
     "output_type": "execute_result"
    }
   ],
   "source": [
    "job = pd.read_csv(\"city-of-melbourne-jobs-forecasts-by-small-area-2020-2040.csv\")\n",
    "job"
   ]
  },
  {
   "cell_type": "code",
   "execution_count": 643,
   "metadata": {},
   "outputs": [
    {
     "data": {
      "text/html": [
       "<div>\n",
       "<style scoped>\n",
       "    .dataframe tbody tr th:only-of-type {\n",
       "        vertical-align: middle;\n",
       "    }\n",
       "\n",
       "    .dataframe tbody tr th {\n",
       "        vertical-align: top;\n",
       "    }\n",
       "\n",
       "    .dataframe thead th {\n",
       "        text-align: right;\n",
       "    }\n",
       "</style>\n",
       "<table border=\"1\" class=\"dataframe\">\n",
       "  <thead>\n",
       "    <tr style=\"text-align: right;\">\n",
       "      <th></th>\n",
       "      <th>Geography</th>\n",
       "      <th>Year</th>\n",
       "      <th>Category</th>\n",
       "      <th>Industry Space Use</th>\n",
       "      <th>Value</th>\n",
       "    </tr>\n",
       "  </thead>\n",
       "  <tbody>\n",
       "    <tr>\n",
       "      <th>0</th>\n",
       "      <td>City of Melbourne</td>\n",
       "      <td>2023</td>\n",
       "      <td>Jobs by industry</td>\n",
       "      <td>Accommodation</td>\n",
       "      <td>10286</td>\n",
       "    </tr>\n",
       "    <tr>\n",
       "      <th>1</th>\n",
       "      <td>City of Melbourne</td>\n",
       "      <td>2026</td>\n",
       "      <td>Jobs by industry</td>\n",
       "      <td>Accommodation</td>\n",
       "      <td>11631</td>\n",
       "    </tr>\n",
       "    <tr>\n",
       "      <th>2</th>\n",
       "      <td>City of Melbourne</td>\n",
       "      <td>2032</td>\n",
       "      <td>Jobs by industry</td>\n",
       "      <td>Accommodation</td>\n",
       "      <td>13207</td>\n",
       "    </tr>\n",
       "    <tr>\n",
       "      <th>3</th>\n",
       "      <td>City of Melbourne</td>\n",
       "      <td>2034</td>\n",
       "      <td>Jobs by industry</td>\n",
       "      <td>Accommodation</td>\n",
       "      <td>13420</td>\n",
       "    </tr>\n",
       "    <tr>\n",
       "      <th>4</th>\n",
       "      <td>City of Melbourne</td>\n",
       "      <td>2035</td>\n",
       "      <td>Jobs by industry</td>\n",
       "      <td>Accommodation</td>\n",
       "      <td>13529</td>\n",
       "    </tr>\n",
       "  </tbody>\n",
       "</table>\n",
       "</div>"
      ],
      "text/plain": [
       "           Geography  Year          Category Industry Space Use  Value\n",
       "0  City of Melbourne  2023  Jobs by industry      Accommodation  10286\n",
       "1  City of Melbourne  2026  Jobs by industry      Accommodation  11631\n",
       "2  City of Melbourne  2032  Jobs by industry      Accommodation  13207\n",
       "3  City of Melbourne  2034  Jobs by industry      Accommodation  13420\n",
       "4  City of Melbourne  2035  Jobs by industry      Accommodation  13529"
      ]
     },
     "execution_count": 643,
     "metadata": {},
     "output_type": "execute_result"
    }
   ],
   "source": [
    "job.head()"
   ]
  },
  {
   "cell_type": "code",
   "execution_count": 644,
   "metadata": {},
   "outputs": [
    {
     "name": "stdout",
     "output_type": "stream",
     "text": [
      "<class 'pandas.core.frame.DataFrame'>\n",
      "RangeIndex: 9114 entries, 0 to 9113\n",
      "Data columns (total 5 columns):\n",
      " #   Column              Non-Null Count  Dtype \n",
      "---  ------              --------------  ----- \n",
      " 0   Geography           9114 non-null   object\n",
      " 1   Year                9114 non-null   int64 \n",
      " 2   Category            9114 non-null   object\n",
      " 3   Industry Space Use  9114 non-null   object\n",
      " 4   Value               9114 non-null   int64 \n",
      "dtypes: int64(2), object(3)\n",
      "memory usage: 356.1+ KB\n"
     ]
    }
   ],
   "source": [
    "# to get a basic understanding of variables and null values\n",
    "job.info()"
   ]
  },
  {
   "cell_type": "code",
   "execution_count": 645,
   "metadata": {},
   "outputs": [
    {
     "data": {
      "text/plain": [
       "(9114, 5)"
      ]
     },
     "execution_count": 645,
     "metadata": {},
     "output_type": "execute_result"
    }
   ],
   "source": [
    "# To see total numbers of rows and columns \n",
    "job.shape"
   ]
  },
  {
   "cell_type": "code",
   "execution_count": 646,
   "metadata": {},
   "outputs": [],
   "source": [
    "# Renaming columns for ease, making them all lowercase. \n",
    "job = job.rename(columns = {\"Geography\":\"city\", \"Year\":\"year\", \"Category\":\"category\", \"Industry Space Use\": \"industry_space_use\", \"Value\": \"value\"} )"
   ]
  },
  {
   "cell_type": "code",
   "execution_count": 647,
   "metadata": {},
   "outputs": [
    {
     "data": {
      "text/plain": [
       "array(['City of Melbourne', 'Carlton', 'Docklands', 'East Melbourne',\n",
       "       'Kensington', 'Melbourne (CBD)', 'Melbourne (Remainder)',\n",
       "       'North Melbourne', 'Parkville', 'Port Melbourne', 'South Yarra',\n",
       "       'Southbank', 'West Melbourne (Industrial)',\n",
       "       'West Melbourne (Residential)'], dtype=object)"
      ]
     },
     "execution_count": 647,
     "metadata": {},
     "output_type": "execute_result"
    }
   ],
   "source": [
    "# In geography columns, to see which unique location it consists of\n",
    "job.city.unique()"
   ]
  },
  {
   "cell_type": "code",
   "execution_count": 648,
   "metadata": {},
   "outputs": [
    {
     "data": {
      "text/plain": [
       "array([2023, 2026, 2032, 2034, 2035, 2021, 2025, 2037, 2040, 2027, 2028,\n",
       "       2036, 2041, 2029, 2031, 2038, 2024, 2030, 2039, 2022, 2033],\n",
       "      dtype=int64)"
      ]
     },
     "execution_count": 648,
     "metadata": {},
     "output_type": "execute_result"
    }
   ],
   "source": [
    "# to check unique years this data is from\n",
    "job.year.unique()"
   ]
  },
  {
   "cell_type": "code",
   "execution_count": 649,
   "metadata": {},
   "outputs": [
    {
     "data": {
      "text/plain": [
       "array(['Jobs by industry', 'Jobs by space use'], dtype=object)"
      ]
     },
     "execution_count": 649,
     "metadata": {},
     "output_type": "execute_result"
    }
   ],
   "source": [
    "# to understand uniqe categories in category columns \n",
    "job.category.unique()"
   ]
  },
  {
   "cell_type": "code",
   "execution_count": 650,
   "metadata": {},
   "outputs": [
    {
     "data": {
      "text/plain": [
       "array(['Accommodation', 'Admin and support services',\n",
       "       'Agriculture and mining', 'Arts and recreation services',\n",
       "       'Business services', 'Construction', 'Education and training',\n",
       "       'Other services', 'Electricity, gas, water and waste services',\n",
       "       'Finance and insurance', 'Food and beverage services',\n",
       "       'Health care and social assistance',\n",
       "       'Information media and telecommunications', 'Manufacturing',\n",
       "       'Public administration and safety', 'Real estate services',\n",
       "       'Rental and hiring services', 'Retail trade',\n",
       "       'Transport, postal and storage', 'Wholesale trade',\n",
       "       'Accommodation - Commercial', 'Education',\n",
       "       'Entertainment - Hospitality', 'Entertainment - Other', 'Health',\n",
       "       'Industrial', 'Office', 'Other - Employment', 'Retail',\n",
       "       'Total jobs'], dtype=object)"
      ]
     },
     "execution_count": 650,
     "metadata": {},
     "output_type": "execute_result"
    }
   ],
   "source": [
    "job.industry_space_use.unique()"
   ]
  },
  {
   "cell_type": "markdown",
   "metadata": {},
   "source": [
    "<div class=\"usecase-section-header\">About Jobs Forecast Dataset. </div>"
   ]
  },
  {
   "cell_type": "markdown",
   "metadata": {},
   "source": [
    "This dataset provides jobs forecasts by single year for 2021 to 2041. Prepared by SGS Economics and Planning (Jan-Jun 2022), forecasts are available for the municipality and small areas, as well as by industry and space use type. This dataset has total of 9114 rows which indicates total cases and 5 columns which indicate variables(features). The dataset contains the following variables (features): \n",
    "    <ul>\n",
    "        <li> <b>city:</b> Geographical area (Melbourne LGA or small areas used for the City of Melbourne's CLUE analysis). Small areas mostly correspond to traditional suburb boundaries. This is a categorical variable of type <b>object</b>. This variable takes value from the following list of locations: <b> 'City of Melbourne', 'Carlton', 'Docklands', 'East Melbourne','Kensington', 'Melbourne (CBD)', 'Melbourne (Remainder)','North Melbourne', 'Parkville', 'Port Melbourne', 'South Yarra','Southbank', 'West Melbourne (Industrial)','West Melbourne (Residential)'</b></li><hr>\n",
    "        <li>\n",
    "            <b>year:</b> This variables shows the year the job were created. This is a numerical variable of type <b>object</b>. Year is from <b>2022 to 2040</b>. </li><hr>\n",
    "        <li>\n",
    "            <b>category:</b> This variables shows the category of the job that was created in that particular year. This is a numerical variable of type <b>object</b>. There are two categories in this variables however we will only look at category by industry.  </li><hr>\n",
    "        <li>\n",
    "            <b>industry_space_use:</b> This variables shows the space used by a particular industry that was established in given year. This is a numerical variable of type <b>object</b></li><hr>\n",
    "        <li>\n",
    "            <b>value:</b> This variables shows the number of jobs created by a particular industry that was established in given year. This is a numerical variable of type <b>integer</b>  \n",
    "        </li>\n",
    "    </ul></i><hr>\n",
    "</ul>\n",
    "</p>"
   ]
  },
  {
   "cell_type": "code",
   "execution_count": 651,
   "metadata": {},
   "outputs": [
    {
     "data": {
      "text/html": [
       "<div>\n",
       "<style scoped>\n",
       "    .dataframe tbody tr th:only-of-type {\n",
       "        vertical-align: middle;\n",
       "    }\n",
       "\n",
       "    .dataframe tbody tr th {\n",
       "        vertical-align: top;\n",
       "    }\n",
       "\n",
       "    .dataframe thead th {\n",
       "        text-align: right;\n",
       "    }\n",
       "</style>\n",
       "<table border=\"1\" class=\"dataframe\">\n",
       "  <thead>\n",
       "    <tr style=\"text-align: right;\">\n",
       "      <th></th>\n",
       "      <th>Geography</th>\n",
       "      <th>Year</th>\n",
       "      <th>Gender</th>\n",
       "      <th>Age</th>\n",
       "      <th>Value</th>\n",
       "    </tr>\n",
       "  </thead>\n",
       "  <tbody>\n",
       "    <tr>\n",
       "      <th>0</th>\n",
       "      <td>City of Melbourne</td>\n",
       "      <td>2021</td>\n",
       "      <td>Female</td>\n",
       "      <td>Age 0-4</td>\n",
       "      <td>1943.0</td>\n",
       "    </tr>\n",
       "    <tr>\n",
       "      <th>1</th>\n",
       "      <td>City of Melbourne</td>\n",
       "      <td>2023</td>\n",
       "      <td>Female</td>\n",
       "      <td>Age 0-4</td>\n",
       "      <td>2477.0</td>\n",
       "    </tr>\n",
       "    <tr>\n",
       "      <th>2</th>\n",
       "      <td>City of Melbourne</td>\n",
       "      <td>2026</td>\n",
       "      <td>Female</td>\n",
       "      <td>Age 0-4</td>\n",
       "      <td>3595.0</td>\n",
       "    </tr>\n",
       "    <tr>\n",
       "      <th>3</th>\n",
       "      <td>City of Melbourne</td>\n",
       "      <td>2028</td>\n",
       "      <td>Female</td>\n",
       "      <td>Age 0-4</td>\n",
       "      <td>4083.0</td>\n",
       "    </tr>\n",
       "    <tr>\n",
       "      <th>4</th>\n",
       "      <td>City of Melbourne</td>\n",
       "      <td>2034</td>\n",
       "      <td>Female</td>\n",
       "      <td>Age 0-4</td>\n",
       "      <td>5242.0</td>\n",
       "    </tr>\n",
       "    <tr>\n",
       "      <th>...</th>\n",
       "      <td>...</td>\n",
       "      <td>...</td>\n",
       "      <td>...</td>\n",
       "      <td>...</td>\n",
       "      <td>...</td>\n",
       "    </tr>\n",
       "    <tr>\n",
       "      <th>17047</th>\n",
       "      <td>West Melbourne (Residential)</td>\n",
       "      <td>2033</td>\n",
       "      <td>Not applicable</td>\n",
       "      <td>Total population</td>\n",
       "      <td>13657.0</td>\n",
       "    </tr>\n",
       "    <tr>\n",
       "      <th>17048</th>\n",
       "      <td>West Melbourne (Residential)</td>\n",
       "      <td>2034</td>\n",
       "      <td>Not applicable</td>\n",
       "      <td>Total population</td>\n",
       "      <td>14250.0</td>\n",
       "    </tr>\n",
       "    <tr>\n",
       "      <th>17049</th>\n",
       "      <td>West Melbourne (Residential)</td>\n",
       "      <td>2036</td>\n",
       "      <td>Not applicable</td>\n",
       "      <td>Total population</td>\n",
       "      <td>14832.0</td>\n",
       "    </tr>\n",
       "    <tr>\n",
       "      <th>17050</th>\n",
       "      <td>West Melbourne (Residential)</td>\n",
       "      <td>2037</td>\n",
       "      <td>Not applicable</td>\n",
       "      <td>Total population</td>\n",
       "      <td>14854.0</td>\n",
       "    </tr>\n",
       "    <tr>\n",
       "      <th>17051</th>\n",
       "      <td>West Melbourne (Residential)</td>\n",
       "      <td>2038</td>\n",
       "      <td>Not applicable</td>\n",
       "      <td>Total population</td>\n",
       "      <td>14815.0</td>\n",
       "    </tr>\n",
       "  </tbody>\n",
       "</table>\n",
       "<p>17052 rows × 5 columns</p>\n",
       "</div>"
      ],
      "text/plain": [
       "                          Geography  Year          Gender               Age  \\\n",
       "0                 City of Melbourne  2021          Female           Age 0-4   \n",
       "1                 City of Melbourne  2023          Female           Age 0-4   \n",
       "2                 City of Melbourne  2026          Female           Age 0-4   \n",
       "3                 City of Melbourne  2028          Female           Age 0-4   \n",
       "4                 City of Melbourne  2034          Female           Age 0-4   \n",
       "...                             ...   ...             ...               ...   \n",
       "17047  West Melbourne (Residential)  2033  Not applicable  Total population   \n",
       "17048  West Melbourne (Residential)  2034  Not applicable  Total population   \n",
       "17049  West Melbourne (Residential)  2036  Not applicable  Total population   \n",
       "17050  West Melbourne (Residential)  2037  Not applicable  Total population   \n",
       "17051  West Melbourne (Residential)  2038  Not applicable  Total population   \n",
       "\n",
       "         Value  \n",
       "0       1943.0  \n",
       "1       2477.0  \n",
       "2       3595.0  \n",
       "3       4083.0  \n",
       "4       5242.0  \n",
       "...        ...  \n",
       "17047  13657.0  \n",
       "17048  14250.0  \n",
       "17049  14832.0  \n",
       "17050  14854.0  \n",
       "17051  14815.0  \n",
       "\n",
       "[17052 rows x 5 columns]"
      ]
     },
     "execution_count": 651,
     "metadata": {},
     "output_type": "execute_result"
    }
   ],
   "source": [
    "pop = pd.read_csv(\"city-of-melbourne-population-forecasts-by-small-area-2020-2040.csv\")\n",
    "pop"
   ]
  },
  {
   "cell_type": "code",
   "execution_count": 652,
   "metadata": {},
   "outputs": [
    {
     "data": {
      "text/html": [
       "<div>\n",
       "<style scoped>\n",
       "    .dataframe tbody tr th:only-of-type {\n",
       "        vertical-align: middle;\n",
       "    }\n",
       "\n",
       "    .dataframe tbody tr th {\n",
       "        vertical-align: top;\n",
       "    }\n",
       "\n",
       "    .dataframe thead th {\n",
       "        text-align: right;\n",
       "    }\n",
       "</style>\n",
       "<table border=\"1\" class=\"dataframe\">\n",
       "  <thead>\n",
       "    <tr style=\"text-align: right;\">\n",
       "      <th></th>\n",
       "      <th>Geography</th>\n",
       "      <th>Year</th>\n",
       "      <th>Gender</th>\n",
       "      <th>Age</th>\n",
       "      <th>Value</th>\n",
       "    </tr>\n",
       "  </thead>\n",
       "  <tbody>\n",
       "    <tr>\n",
       "      <th>0</th>\n",
       "      <td>City of Melbourne</td>\n",
       "      <td>2021</td>\n",
       "      <td>Female</td>\n",
       "      <td>Age 0-4</td>\n",
       "      <td>1943.0</td>\n",
       "    </tr>\n",
       "    <tr>\n",
       "      <th>1</th>\n",
       "      <td>City of Melbourne</td>\n",
       "      <td>2023</td>\n",
       "      <td>Female</td>\n",
       "      <td>Age 0-4</td>\n",
       "      <td>2477.0</td>\n",
       "    </tr>\n",
       "    <tr>\n",
       "      <th>2</th>\n",
       "      <td>City of Melbourne</td>\n",
       "      <td>2026</td>\n",
       "      <td>Female</td>\n",
       "      <td>Age 0-4</td>\n",
       "      <td>3595.0</td>\n",
       "    </tr>\n",
       "    <tr>\n",
       "      <th>3</th>\n",
       "      <td>City of Melbourne</td>\n",
       "      <td>2028</td>\n",
       "      <td>Female</td>\n",
       "      <td>Age 0-4</td>\n",
       "      <td>4083.0</td>\n",
       "    </tr>\n",
       "    <tr>\n",
       "      <th>4</th>\n",
       "      <td>City of Melbourne</td>\n",
       "      <td>2034</td>\n",
       "      <td>Female</td>\n",
       "      <td>Age 0-4</td>\n",
       "      <td>5242.0</td>\n",
       "    </tr>\n",
       "  </tbody>\n",
       "</table>\n",
       "</div>"
      ],
      "text/plain": [
       "           Geography  Year  Gender      Age   Value\n",
       "0  City of Melbourne  2021  Female  Age 0-4  1943.0\n",
       "1  City of Melbourne  2023  Female  Age 0-4  2477.0\n",
       "2  City of Melbourne  2026  Female  Age 0-4  3595.0\n",
       "3  City of Melbourne  2028  Female  Age 0-4  4083.0\n",
       "4  City of Melbourne  2034  Female  Age 0-4  5242.0"
      ]
     },
     "execution_count": 652,
     "metadata": {},
     "output_type": "execute_result"
    }
   ],
   "source": [
    "pop.head()"
   ]
  },
  {
   "cell_type": "code",
   "execution_count": 653,
   "metadata": {},
   "outputs": [
    {
     "name": "stdout",
     "output_type": "stream",
     "text": [
      "<class 'pandas.core.frame.DataFrame'>\n",
      "RangeIndex: 17052 entries, 0 to 17051\n",
      "Data columns (total 5 columns):\n",
      " #   Column     Non-Null Count  Dtype  \n",
      "---  ------     --------------  -----  \n",
      " 0   Geography  17052 non-null  object \n",
      " 1   Year       17052 non-null  int64  \n",
      " 2   Gender     17052 non-null  object \n",
      " 3   Age        17052 non-null  object \n",
      " 4   Value      16989 non-null  float64\n",
      "dtypes: float64(1), int64(1), object(3)\n",
      "memory usage: 666.2+ KB\n"
     ]
    }
   ],
   "source": [
    "pop.info()"
   ]
  },
  {
   "cell_type": "code",
   "execution_count": 654,
   "metadata": {},
   "outputs": [
    {
     "data": {
      "text/plain": [
       "(17052, 5)"
      ]
     },
     "execution_count": 654,
     "metadata": {},
     "output_type": "execute_result"
    }
   ],
   "source": [
    "pop.shape"
   ]
  },
  {
   "cell_type": "code",
   "execution_count": 655,
   "metadata": {},
   "outputs": [],
   "source": [
    "# Renaming columns for ease, making them all lowercase. \n",
    "pop = pop.rename(columns = {\"Geography\":\"city\", \"Year\":\"year\", \"Gender\":\"gender\", \"Age\": \"age\", \"Value\": \"value\"} )"
   ]
  },
  {
   "cell_type": "code",
   "execution_count": 656,
   "metadata": {},
   "outputs": [
    {
     "data": {
      "text/plain": [
       "array(['City of Melbourne', 'Carlton', 'Docklands', 'East Melbourne',\n",
       "       'Kensington', 'Melbourne (CBD)', 'Melbourne (Remainder)',\n",
       "       'North Melbourne', 'Parkville', 'Port Melbourne', 'South Yarra',\n",
       "       'Southbank', 'West Melbourne (Industrial)',\n",
       "       'West Melbourne (Residential)'], dtype=object)"
      ]
     },
     "execution_count": 656,
     "metadata": {},
     "output_type": "execute_result"
    }
   ],
   "source": [
    "pop.city.unique()"
   ]
  },
  {
   "cell_type": "code",
   "execution_count": 657,
   "metadata": {},
   "outputs": [
    {
     "data": {
      "text/plain": [
       "array(['Female', 'Male', 'Total', 'Not applicable'], dtype=object)"
      ]
     },
     "execution_count": 657,
     "metadata": {},
     "output_type": "execute_result"
    }
   ],
   "source": [
    "pop.gender.unique()"
   ]
  },
  {
   "cell_type": "code",
   "execution_count": 658,
   "metadata": {},
   "outputs": [
    {
     "data": {
      "text/plain": [
       "array(['Age 0-4', 'Age 5-9', 'Age 10-14', 'Age 15-19', 'Age 20-24',\n",
       "       'Age 25-29', 'Age 30-34', 'Age 35-39', 'Age 40-44', 'Age 45-49',\n",
       "       'Age 50-54', 'Age 55-59', 'Age 60-64', 'Age 65-69', 'Age 70-74',\n",
       "       'Age 75-79', 'Age 80-84', 'Age 85+', 'Average age',\n",
       "       'Total population'], dtype=object)"
      ]
     },
     "execution_count": 658,
     "metadata": {},
     "output_type": "execute_result"
    }
   ],
   "source": [
    "pop.age.unique()"
   ]
  },
  {
   "cell_type": "code",
   "execution_count": 659,
   "metadata": {},
   "outputs": [
    {
     "data": {
      "text/plain": [
       "array([2021, 2023, 2026, 2028, 2034, 2037, 2038, 2024, 2025, 2040, 2031,\n",
       "       2033, 2022, 2032, 2036, 2041, 2027, 2029, 2039, 2035, 2030],\n",
       "      dtype=int64)"
      ]
     },
     "execution_count": 659,
     "metadata": {},
     "output_type": "execute_result"
    }
   ],
   "source": [
    "pop.year.unique()"
   ]
  },
  {
   "cell_type": "code",
   "execution_count": 660,
   "metadata": {},
   "outputs": [
    {
     "data": {
      "text/html": [
       "<div>\n",
       "<style scoped>\n",
       "    .dataframe tbody tr th:only-of-type {\n",
       "        vertical-align: middle;\n",
       "    }\n",
       "\n",
       "    .dataframe tbody tr th {\n",
       "        vertical-align: top;\n",
       "    }\n",
       "\n",
       "    .dataframe thead th {\n",
       "        text-align: right;\n",
       "    }\n",
       "</style>\n",
       "<table border=\"1\" class=\"dataframe\">\n",
       "  <thead>\n",
       "    <tr style=\"text-align: right;\">\n",
       "      <th></th>\n",
       "      <th>city</th>\n",
       "      <th>year</th>\n",
       "      <th>gender</th>\n",
       "      <th>age</th>\n",
       "      <th>value</th>\n",
       "    </tr>\n",
       "  </thead>\n",
       "  <tbody>\n",
       "    <tr>\n",
       "      <th>0</th>\n",
       "      <td>City of Melbourne</td>\n",
       "      <td>2021</td>\n",
       "      <td>Female</td>\n",
       "      <td>Age 0-4</td>\n",
       "      <td>1943.0</td>\n",
       "    </tr>\n",
       "    <tr>\n",
       "      <th>1</th>\n",
       "      <td>City of Melbourne</td>\n",
       "      <td>2023</td>\n",
       "      <td>Female</td>\n",
       "      <td>Age 0-4</td>\n",
       "      <td>2477.0</td>\n",
       "    </tr>\n",
       "    <tr>\n",
       "      <th>2</th>\n",
       "      <td>City of Melbourne</td>\n",
       "      <td>2026</td>\n",
       "      <td>Female</td>\n",
       "      <td>Age 0-4</td>\n",
       "      <td>3595.0</td>\n",
       "    </tr>\n",
       "    <tr>\n",
       "      <th>3</th>\n",
       "      <td>City of Melbourne</td>\n",
       "      <td>2028</td>\n",
       "      <td>Female</td>\n",
       "      <td>Age 0-4</td>\n",
       "      <td>4083.0</td>\n",
       "    </tr>\n",
       "    <tr>\n",
       "      <th>4</th>\n",
       "      <td>City of Melbourne</td>\n",
       "      <td>2034</td>\n",
       "      <td>Female</td>\n",
       "      <td>Age 0-4</td>\n",
       "      <td>5242.0</td>\n",
       "    </tr>\n",
       "    <tr>\n",
       "      <th>...</th>\n",
       "      <td>...</td>\n",
       "      <td>...</td>\n",
       "      <td>...</td>\n",
       "      <td>...</td>\n",
       "      <td>...</td>\n",
       "    </tr>\n",
       "    <tr>\n",
       "      <th>17047</th>\n",
       "      <td>West Melbourne (Residential)</td>\n",
       "      <td>2033</td>\n",
       "      <td>Not applicable</td>\n",
       "      <td>Total population</td>\n",
       "      <td>13657.0</td>\n",
       "    </tr>\n",
       "    <tr>\n",
       "      <th>17048</th>\n",
       "      <td>West Melbourne (Residential)</td>\n",
       "      <td>2034</td>\n",
       "      <td>Not applicable</td>\n",
       "      <td>Total population</td>\n",
       "      <td>14250.0</td>\n",
       "    </tr>\n",
       "    <tr>\n",
       "      <th>17049</th>\n",
       "      <td>West Melbourne (Residential)</td>\n",
       "      <td>2036</td>\n",
       "      <td>Not applicable</td>\n",
       "      <td>Total population</td>\n",
       "      <td>14832.0</td>\n",
       "    </tr>\n",
       "    <tr>\n",
       "      <th>17050</th>\n",
       "      <td>West Melbourne (Residential)</td>\n",
       "      <td>2037</td>\n",
       "      <td>Not applicable</td>\n",
       "      <td>Total population</td>\n",
       "      <td>14854.0</td>\n",
       "    </tr>\n",
       "    <tr>\n",
       "      <th>17051</th>\n",
       "      <td>West Melbourne (Residential)</td>\n",
       "      <td>2038</td>\n",
       "      <td>Not applicable</td>\n",
       "      <td>Total population</td>\n",
       "      <td>14815.0</td>\n",
       "    </tr>\n",
       "  </tbody>\n",
       "</table>\n",
       "<p>17052 rows × 5 columns</p>\n",
       "</div>"
      ],
      "text/plain": [
       "                               city  year          gender               age  \\\n",
       "0                 City of Melbourne  2021          Female           Age 0-4   \n",
       "1                 City of Melbourne  2023          Female           Age 0-4   \n",
       "2                 City of Melbourne  2026          Female           Age 0-4   \n",
       "3                 City of Melbourne  2028          Female           Age 0-4   \n",
       "4                 City of Melbourne  2034          Female           Age 0-4   \n",
       "...                             ...   ...             ...               ...   \n",
       "17047  West Melbourne (Residential)  2033  Not applicable  Total population   \n",
       "17048  West Melbourne (Residential)  2034  Not applicable  Total population   \n",
       "17049  West Melbourne (Residential)  2036  Not applicable  Total population   \n",
       "17050  West Melbourne (Residential)  2037  Not applicable  Total population   \n",
       "17051  West Melbourne (Residential)  2038  Not applicable  Total population   \n",
       "\n",
       "         value  \n",
       "0       1943.0  \n",
       "1       2477.0  \n",
       "2       3595.0  \n",
       "3       4083.0  \n",
       "4       5242.0  \n",
       "...        ...  \n",
       "17047  13657.0  \n",
       "17048  14250.0  \n",
       "17049  14832.0  \n",
       "17050  14854.0  \n",
       "17051  14815.0  \n",
       "\n",
       "[17052 rows x 5 columns]"
      ]
     },
     "execution_count": 660,
     "metadata": {},
     "output_type": "execute_result"
    }
   ],
   "source": [
    "pop"
   ]
  },
  {
   "cell_type": "markdown",
   "metadata": {},
   "source": [
    "<div class=\"usecase-section-header\">About Population Forecast Dataset. </div>"
   ]
  },
  {
   "cell_type": "markdown",
   "metadata": {},
   "source": [
    "This dataset provides Population forecasts by single year for 2021 to 2041. Prepared by SGS Economics and Planning (Jan-Jun 2022), forecasts are available for the municipality and small areas, as well as by industry and space use type. This dataset has total of 17052 rows which indicates total cases and 5 columns which indicate variables(features). The dataset contains the following variables (features): \n",
    "    <ul>\n",
    "        <li> <b>city:</b> Geographical area (Melbourne LGA or small areas used for the City of Melbourne's CLUE analysis). Small areas mostly correspond to traditional suburb boundaries. This is a categorical variable of type <b>object</b>. This variable takes value from the following list of locations: <b> 'City of Melbourne', 'Carlton', 'Docklands', 'East Melbourne','Kensington', 'Melbourne (CBD)', 'Melbourne (Remainder)','North Melbourne', 'Parkville', 'Port Melbourne', 'South Yarra','Southbank', 'West Melbourne (Industrial)','West Melbourne (Residential)'</b></li><hr>\n",
    "        <li>\n",
    "            <b>year:</b> This variables shows the year the job were created. This is a numerical variable of type <b>integer</b>. Year is from <b>2022 to 2040</b>. </li><hr>\n",
    "        <li>\n",
    "            <b>gender:</b> This variables shows the gender of the person who is a part of the overall population. Gender is divided into four categories: Female, Male, Total and not applicable. This is a categorical nominal variable with type <b>object</b>  </li><hr>\n",
    "        <li>\n",
    "            <b>age:</b> This variables shows the age of a person who is a part of the population in this study. This is a numerical variable of type <b>object</b></li><hr>\n",
    "        <li>\n",
    "            <b>value:</b> This variables shows the population of the area for a given year. This is a numerical variable of type <b>float</b>  \n",
    "        </li>\n",
    "    </ul></i><hr>\n",
    "</ul>\n",
    "</p>"
   ]
  },
  {
   "cell_type": "markdown",
   "metadata": {},
   "source": [
    "<div class=\"usecase-section-header\">Checking and Handling missing values. </div>"
   ]
  },
  {
   "cell_type": "markdown",
   "metadata": {},
   "source": [
    "<b>For population dataset</b>"
   ]
  },
  {
   "cell_type": "code",
   "execution_count": 661,
   "metadata": {},
   "outputs": [
    {
     "data": {
      "text/plain": [
       "city      False\n",
       "year      False\n",
       "gender    False\n",
       "age       False\n",
       "value      True\n",
       "dtype: bool"
      ]
     },
     "execution_count": 661,
     "metadata": {},
     "output_type": "execute_result"
    }
   ],
   "source": [
    "# To check if there is any missing values in any columns \n",
    "pop.isnull().any()"
   ]
  },
  {
   "cell_type": "code",
   "execution_count": 662,
   "metadata": {},
   "outputs": [
    {
     "name": "stdout",
     "output_type": "stream",
     "text": [
      "63\n"
     ]
    }
   ],
   "source": [
    "# There are no null values in job dataset. However there is null (missing) values in population dataset in value column. \n",
    "# Lets find out how many null values are there in value column\n",
    "print(pop.value.isnull().sum())"
   ]
  },
  {
   "cell_type": "code",
   "execution_count": 663,
   "metadata": {},
   "outputs": [
    {
     "data": {
      "text/html": [
       "<div>\n",
       "<style scoped>\n",
       "    .dataframe tbody tr th:only-of-type {\n",
       "        vertical-align: middle;\n",
       "    }\n",
       "\n",
       "    .dataframe tbody tr th {\n",
       "        vertical-align: top;\n",
       "    }\n",
       "\n",
       "    .dataframe thead th {\n",
       "        text-align: right;\n",
       "    }\n",
       "</style>\n",
       "<table border=\"1\" class=\"dataframe\">\n",
       "  <thead>\n",
       "    <tr style=\"text-align: right;\">\n",
       "      <th></th>\n",
       "      <th>city</th>\n",
       "      <th>year</th>\n",
       "      <th>gender</th>\n",
       "      <th>age</th>\n",
       "      <th>value</th>\n",
       "    </tr>\n",
       "  </thead>\n",
       "  <tbody>\n",
       "    <tr>\n",
       "      <th>0</th>\n",
       "      <td>City of Melbourne</td>\n",
       "      <td>2021</td>\n",
       "      <td>Female</td>\n",
       "      <td>Age 0-4</td>\n",
       "      <td>1943.0</td>\n",
       "    </tr>\n",
       "    <tr>\n",
       "      <th>1</th>\n",
       "      <td>City of Melbourne</td>\n",
       "      <td>2023</td>\n",
       "      <td>Female</td>\n",
       "      <td>Age 0-4</td>\n",
       "      <td>2477.0</td>\n",
       "    </tr>\n",
       "    <tr>\n",
       "      <th>2</th>\n",
       "      <td>City of Melbourne</td>\n",
       "      <td>2026</td>\n",
       "      <td>Female</td>\n",
       "      <td>Age 0-4</td>\n",
       "      <td>3595.0</td>\n",
       "    </tr>\n",
       "    <tr>\n",
       "      <th>3</th>\n",
       "      <td>City of Melbourne</td>\n",
       "      <td>2028</td>\n",
       "      <td>Female</td>\n",
       "      <td>Age 0-4</td>\n",
       "      <td>4083.0</td>\n",
       "    </tr>\n",
       "    <tr>\n",
       "      <th>4</th>\n",
       "      <td>City of Melbourne</td>\n",
       "      <td>2034</td>\n",
       "      <td>Female</td>\n",
       "      <td>Age 0-4</td>\n",
       "      <td>5242.0</td>\n",
       "    </tr>\n",
       "    <tr>\n",
       "      <th>...</th>\n",
       "      <td>...</td>\n",
       "      <td>...</td>\n",
       "      <td>...</td>\n",
       "      <td>...</td>\n",
       "      <td>...</td>\n",
       "    </tr>\n",
       "    <tr>\n",
       "      <th>17047</th>\n",
       "      <td>West Melbourne (Residential)</td>\n",
       "      <td>2033</td>\n",
       "      <td>Not applicable</td>\n",
       "      <td>Total population</td>\n",
       "      <td>13657.0</td>\n",
       "    </tr>\n",
       "    <tr>\n",
       "      <th>17048</th>\n",
       "      <td>West Melbourne (Residential)</td>\n",
       "      <td>2034</td>\n",
       "      <td>Not applicable</td>\n",
       "      <td>Total population</td>\n",
       "      <td>14250.0</td>\n",
       "    </tr>\n",
       "    <tr>\n",
       "      <th>17049</th>\n",
       "      <td>West Melbourne (Residential)</td>\n",
       "      <td>2036</td>\n",
       "      <td>Not applicable</td>\n",
       "      <td>Total population</td>\n",
       "      <td>14832.0</td>\n",
       "    </tr>\n",
       "    <tr>\n",
       "      <th>17050</th>\n",
       "      <td>West Melbourne (Residential)</td>\n",
       "      <td>2037</td>\n",
       "      <td>Not applicable</td>\n",
       "      <td>Total population</td>\n",
       "      <td>14854.0</td>\n",
       "    </tr>\n",
       "    <tr>\n",
       "      <th>17051</th>\n",
       "      <td>West Melbourne (Residential)</td>\n",
       "      <td>2038</td>\n",
       "      <td>Not applicable</td>\n",
       "      <td>Total population</td>\n",
       "      <td>14815.0</td>\n",
       "    </tr>\n",
       "  </tbody>\n",
       "</table>\n",
       "<p>17052 rows × 5 columns</p>\n",
       "</div>"
      ],
      "text/plain": [
       "                               city  year          gender               age  \\\n",
       "0                 City of Melbourne  2021          Female           Age 0-4   \n",
       "1                 City of Melbourne  2023          Female           Age 0-4   \n",
       "2                 City of Melbourne  2026          Female           Age 0-4   \n",
       "3                 City of Melbourne  2028          Female           Age 0-4   \n",
       "4                 City of Melbourne  2034          Female           Age 0-4   \n",
       "...                             ...   ...             ...               ...   \n",
       "17047  West Melbourne (Residential)  2033  Not applicable  Total population   \n",
       "17048  West Melbourne (Residential)  2034  Not applicable  Total population   \n",
       "17049  West Melbourne (Residential)  2036  Not applicable  Total population   \n",
       "17050  West Melbourne (Residential)  2037  Not applicable  Total population   \n",
       "17051  West Melbourne (Residential)  2038  Not applicable  Total population   \n",
       "\n",
       "         value  \n",
       "0       1943.0  \n",
       "1       2477.0  \n",
       "2       3595.0  \n",
       "3       4083.0  \n",
       "4       5242.0  \n",
       "...        ...  \n",
       "17047  13657.0  \n",
       "17048  14250.0  \n",
       "17049  14832.0  \n",
       "17050  14854.0  \n",
       "17051  14815.0  \n",
       "\n",
       "[17052 rows x 5 columns]"
      ]
     },
     "execution_count": 663,
     "metadata": {},
     "output_type": "execute_result"
    }
   ],
   "source": [
    "pop"
   ]
  },
  {
   "cell_type": "code",
   "execution_count": 664,
   "metadata": {},
   "outputs": [],
   "source": [
    "pop = pop.dropna(axis= \"rows\")"
   ]
  },
  {
   "cell_type": "code",
   "execution_count": 665,
   "metadata": {},
   "outputs": [
    {
     "data": {
      "text/plain": [
       "city      False\n",
       "year      False\n",
       "gender    False\n",
       "age       False\n",
       "value     False\n",
       "dtype: bool"
      ]
     },
     "execution_count": 665,
     "metadata": {},
     "output_type": "execute_result"
    }
   ],
   "source": [
    "pop.isnull().any()"
   ]
  },
  {
   "cell_type": "markdown",
   "metadata": {},
   "source": [
    "<b>All missing values in \"value\" column of population dataset have been removed.  </b>"
   ]
  },
  {
   "cell_type": "code",
   "execution_count": 666,
   "metadata": {},
   "outputs": [],
   "source": [
    "# Choose all data where the gender is not applicable\n",
    "pop = pop.set_index(\"gender\")\n",
    "other_pop = pop.loc[[\"Total\", \"Not applicable\"],:]\n",
    "other_pop                                         # saving total and not applicable data into differnet variable for further use. \n",
    "pop = pop.loc[[\"Female\", \"Male\"],:]               # seperating male and female gender from the whole dataset\n",
    "pop.reset_index(inplace=True)"
   ]
  },
  {
   "cell_type": "markdown",
   "metadata": {},
   "source": [
    "<b>The population dataset now only contains data where the gender is either female or male. Another dataframe has been created to save the data from gender whose value was \"Not applicable\" and \"Total\" for futher analysis. </b>"
   ]
  },
  {
   "cell_type": "code",
   "execution_count": 667,
   "metadata": {
    "scrolled": true
   },
   "outputs": [
    {
     "data": {
      "text/plain": [
       "city                  False\n",
       "year                  False\n",
       "category              False\n",
       "industry_space_use    False\n",
       "value                 False\n",
       "dtype: bool"
      ]
     },
     "execution_count": 667,
     "metadata": {},
     "output_type": "execute_result"
    }
   ],
   "source": [
    "job.isnull().any()"
   ]
  },
  {
   "cell_type": "code",
   "execution_count": 668,
   "metadata": {},
   "outputs": [
    {
     "data": {
      "text/html": [
       "<div>\n",
       "<style scoped>\n",
       "    .dataframe tbody tr th:only-of-type {\n",
       "        vertical-align: middle;\n",
       "    }\n",
       "\n",
       "    .dataframe tbody tr th {\n",
       "        vertical-align: top;\n",
       "    }\n",
       "\n",
       "    .dataframe thead th {\n",
       "        text-align: right;\n",
       "    }\n",
       "</style>\n",
       "<table border=\"1\" class=\"dataframe\">\n",
       "  <thead>\n",
       "    <tr style=\"text-align: right;\">\n",
       "      <th></th>\n",
       "      <th>city</th>\n",
       "      <th>year</th>\n",
       "      <th>category</th>\n",
       "      <th>industry_space_use</th>\n",
       "      <th>value</th>\n",
       "    </tr>\n",
       "  </thead>\n",
       "  <tbody>\n",
       "    <tr>\n",
       "      <th>0</th>\n",
       "      <td>City of Melbourne</td>\n",
       "      <td>2023</td>\n",
       "      <td>Jobs by industry</td>\n",
       "      <td>Accommodation</td>\n",
       "      <td>10286</td>\n",
       "    </tr>\n",
       "    <tr>\n",
       "      <th>1</th>\n",
       "      <td>City of Melbourne</td>\n",
       "      <td>2026</td>\n",
       "      <td>Jobs by industry</td>\n",
       "      <td>Accommodation</td>\n",
       "      <td>11631</td>\n",
       "    </tr>\n",
       "    <tr>\n",
       "      <th>2</th>\n",
       "      <td>City of Melbourne</td>\n",
       "      <td>2032</td>\n",
       "      <td>Jobs by industry</td>\n",
       "      <td>Accommodation</td>\n",
       "      <td>13207</td>\n",
       "    </tr>\n",
       "    <tr>\n",
       "      <th>3</th>\n",
       "      <td>City of Melbourne</td>\n",
       "      <td>2034</td>\n",
       "      <td>Jobs by industry</td>\n",
       "      <td>Accommodation</td>\n",
       "      <td>13420</td>\n",
       "    </tr>\n",
       "    <tr>\n",
       "      <th>4</th>\n",
       "      <td>City of Melbourne</td>\n",
       "      <td>2035</td>\n",
       "      <td>Jobs by industry</td>\n",
       "      <td>Accommodation</td>\n",
       "      <td>13529</td>\n",
       "    </tr>\n",
       "    <tr>\n",
       "      <th>...</th>\n",
       "      <td>...</td>\n",
       "      <td>...</td>\n",
       "      <td>...</td>\n",
       "      <td>...</td>\n",
       "      <td>...</td>\n",
       "    </tr>\n",
       "    <tr>\n",
       "      <th>9109</th>\n",
       "      <td>West Melbourne (Residential)</td>\n",
       "      <td>2025</td>\n",
       "      <td>Jobs by space use</td>\n",
       "      <td>Total jobs</td>\n",
       "      <td>5454</td>\n",
       "    </tr>\n",
       "    <tr>\n",
       "      <th>9110</th>\n",
       "      <td>West Melbourne (Residential)</td>\n",
       "      <td>2026</td>\n",
       "      <td>Jobs by space use</td>\n",
       "      <td>Total jobs</td>\n",
       "      <td>5618</td>\n",
       "    </tr>\n",
       "    <tr>\n",
       "      <th>9111</th>\n",
       "      <td>West Melbourne (Residential)</td>\n",
       "      <td>2029</td>\n",
       "      <td>Jobs by space use</td>\n",
       "      <td>Total jobs</td>\n",
       "      <td>6118</td>\n",
       "    </tr>\n",
       "    <tr>\n",
       "      <th>9112</th>\n",
       "      <td>West Melbourne (Residential)</td>\n",
       "      <td>2033</td>\n",
       "      <td>Jobs by space use</td>\n",
       "      <td>Total jobs</td>\n",
       "      <td>6717</td>\n",
       "    </tr>\n",
       "    <tr>\n",
       "      <th>9113</th>\n",
       "      <td>West Melbourne (Residential)</td>\n",
       "      <td>2036</td>\n",
       "      <td>Jobs by space use</td>\n",
       "      <td>Total jobs</td>\n",
       "      <td>7027</td>\n",
       "    </tr>\n",
       "  </tbody>\n",
       "</table>\n",
       "<p>9114 rows × 5 columns</p>\n",
       "</div>"
      ],
      "text/plain": [
       "                              city  year           category  \\\n",
       "0                City of Melbourne  2023   Jobs by industry   \n",
       "1                City of Melbourne  2026   Jobs by industry   \n",
       "2                City of Melbourne  2032   Jobs by industry   \n",
       "3                City of Melbourne  2034   Jobs by industry   \n",
       "4                City of Melbourne  2035   Jobs by industry   \n",
       "...                            ...   ...                ...   \n",
       "9109  West Melbourne (Residential)  2025  Jobs by space use   \n",
       "9110  West Melbourne (Residential)  2026  Jobs by space use   \n",
       "9111  West Melbourne (Residential)  2029  Jobs by space use   \n",
       "9112  West Melbourne (Residential)  2033  Jobs by space use   \n",
       "9113  West Melbourne (Residential)  2036  Jobs by space use   \n",
       "\n",
       "     industry_space_use  value  \n",
       "0         Accommodation  10286  \n",
       "1         Accommodation  11631  \n",
       "2         Accommodation  13207  \n",
       "3         Accommodation  13420  \n",
       "4         Accommodation  13529  \n",
       "...                 ...    ...  \n",
       "9109         Total jobs   5454  \n",
       "9110         Total jobs   5618  \n",
       "9111         Total jobs   6118  \n",
       "9112         Total jobs   6717  \n",
       "9113         Total jobs   7027  \n",
       "\n",
       "[9114 rows x 5 columns]"
      ]
     },
     "execution_count": 668,
     "metadata": {},
     "output_type": "execute_result"
    }
   ],
   "source": [
    "job"
   ]
  },
  {
   "cell_type": "markdown",
   "metadata": {},
   "source": [
    "<b>There are no missing values in job dataset hence we do not need to perfrom any operations to remove null or missing values. However the industry_space_use column has values where the industry is \"Total jobs\" which is not accurate so we will remove the rows where the column has such values and reserve it in a different variable for later analysis. </b>"
   ]
  },
  {
   "cell_type": "code",
   "execution_count": 669,
   "metadata": {
    "scrolled": true
   },
   "outputs": [
    {
     "data": {
      "text/html": [
       "<div>\n",
       "<style scoped>\n",
       "    .dataframe tbody tr th:only-of-type {\n",
       "        vertical-align: middle;\n",
       "    }\n",
       "\n",
       "    .dataframe tbody tr th {\n",
       "        vertical-align: top;\n",
       "    }\n",
       "\n",
       "    .dataframe thead th {\n",
       "        text-align: right;\n",
       "    }\n",
       "</style>\n",
       "<table border=\"1\" class=\"dataframe\">\n",
       "  <thead>\n",
       "    <tr style=\"text-align: right;\">\n",
       "      <th></th>\n",
       "      <th>city</th>\n",
       "      <th>year</th>\n",
       "      <th>category</th>\n",
       "      <th>value</th>\n",
       "    </tr>\n",
       "    <tr>\n",
       "      <th>industry_space_use</th>\n",
       "      <th></th>\n",
       "      <th></th>\n",
       "      <th></th>\n",
       "      <th></th>\n",
       "    </tr>\n",
       "  </thead>\n",
       "  <tbody>\n",
       "    <tr>\n",
       "      <th>Accommodation</th>\n",
       "      <td>City of Melbourne</td>\n",
       "      <td>2023</td>\n",
       "      <td>Jobs by industry</td>\n",
       "      <td>10286</td>\n",
       "    </tr>\n",
       "    <tr>\n",
       "      <th>Accommodation</th>\n",
       "      <td>City of Melbourne</td>\n",
       "      <td>2026</td>\n",
       "      <td>Jobs by industry</td>\n",
       "      <td>11631</td>\n",
       "    </tr>\n",
       "    <tr>\n",
       "      <th>Accommodation</th>\n",
       "      <td>City of Melbourne</td>\n",
       "      <td>2032</td>\n",
       "      <td>Jobs by industry</td>\n",
       "      <td>13207</td>\n",
       "    </tr>\n",
       "    <tr>\n",
       "      <th>Accommodation</th>\n",
       "      <td>City of Melbourne</td>\n",
       "      <td>2034</td>\n",
       "      <td>Jobs by industry</td>\n",
       "      <td>13420</td>\n",
       "    </tr>\n",
       "    <tr>\n",
       "      <th>Accommodation</th>\n",
       "      <td>City of Melbourne</td>\n",
       "      <td>2035</td>\n",
       "      <td>Jobs by industry</td>\n",
       "      <td>13529</td>\n",
       "    </tr>\n",
       "    <tr>\n",
       "      <th>...</th>\n",
       "      <td>...</td>\n",
       "      <td>...</td>\n",
       "      <td>...</td>\n",
       "      <td>...</td>\n",
       "    </tr>\n",
       "    <tr>\n",
       "      <th>Retail</th>\n",
       "      <td>West Melbourne (Residential)</td>\n",
       "      <td>2028</td>\n",
       "      <td>Jobs by space use</td>\n",
       "      <td>405</td>\n",
       "    </tr>\n",
       "    <tr>\n",
       "      <th>Retail</th>\n",
       "      <td>West Melbourne (Residential)</td>\n",
       "      <td>2031</td>\n",
       "      <td>Jobs by space use</td>\n",
       "      <td>433</td>\n",
       "    </tr>\n",
       "    <tr>\n",
       "      <th>Retail</th>\n",
       "      <td>West Melbourne (Residential)</td>\n",
       "      <td>2032</td>\n",
       "      <td>Jobs by space use</td>\n",
       "      <td>443</td>\n",
       "    </tr>\n",
       "    <tr>\n",
       "      <th>Retail</th>\n",
       "      <td>West Melbourne (Residential)</td>\n",
       "      <td>2033</td>\n",
       "      <td>Jobs by space use</td>\n",
       "      <td>452</td>\n",
       "    </tr>\n",
       "    <tr>\n",
       "      <th>Retail</th>\n",
       "      <td>West Melbourne (Residential)</td>\n",
       "      <td>2035</td>\n",
       "      <td>Jobs by space use</td>\n",
       "      <td>470</td>\n",
       "    </tr>\n",
       "  </tbody>\n",
       "</table>\n",
       "<p>8526 rows × 4 columns</p>\n",
       "</div>"
      ],
      "text/plain": [
       "                                            city  year           category  \\\n",
       "industry_space_use                                                          \n",
       "Accommodation                  City of Melbourne  2023   Jobs by industry   \n",
       "Accommodation                  City of Melbourne  2026   Jobs by industry   \n",
       "Accommodation                  City of Melbourne  2032   Jobs by industry   \n",
       "Accommodation                  City of Melbourne  2034   Jobs by industry   \n",
       "Accommodation                  City of Melbourne  2035   Jobs by industry   \n",
       "...                                          ...   ...                ...   \n",
       "Retail              West Melbourne (Residential)  2028  Jobs by space use   \n",
       "Retail              West Melbourne (Residential)  2031  Jobs by space use   \n",
       "Retail              West Melbourne (Residential)  2032  Jobs by space use   \n",
       "Retail              West Melbourne (Residential)  2033  Jobs by space use   \n",
       "Retail              West Melbourne (Residential)  2035  Jobs by space use   \n",
       "\n",
       "                    value  \n",
       "industry_space_use         \n",
       "Accommodation       10286  \n",
       "Accommodation       11631  \n",
       "Accommodation       13207  \n",
       "Accommodation       13420  \n",
       "Accommodation       13529  \n",
       "...                   ...  \n",
       "Retail                405  \n",
       "Retail                433  \n",
       "Retail                443  \n",
       "Retail                452  \n",
       "Retail                470  \n",
       "\n",
       "[8526 rows x 4 columns]"
      ]
     },
     "execution_count": 669,
     "metadata": {},
     "output_type": "execute_result"
    }
   ],
   "source": [
    "total_job_by_ind_space_use = job.set_index(\"industry_space_use\").loc[['Total jobs'], : ]\n",
    "job = job.set_index(\"industry_space_use\").loc[['Accommodation', 'Admin and support services',\n",
    "       'Agriculture and mining', 'Arts and recreation services',\n",
    "       'Business services', 'Construction', 'Education and training',\n",
    "       'Other services', 'Electricity, gas, water and waste services',\n",
    "       'Finance and insurance', 'Food and beverage services',\n",
    "       'Health care and social assistance',\n",
    "       'Information media and telecommunications', 'Manufacturing',\n",
    "       'Public administration and safety', 'Real estate services',\n",
    "       'Rental and hiring services', 'Retail trade',\n",
    "       'Transport, postal and storage', 'Wholesale trade',\n",
    "       'Accommodation - Commercial', 'Education',\n",
    "       'Entertainment - Hospitality', 'Entertainment - Other', 'Health',\n",
    "       'Industrial', 'Office', 'Other - Employment', 'Retail'],:]\n",
    "job"
   ]
  },
  {
   "cell_type": "markdown",
   "metadata": {},
   "source": [
    "<b>Now we only have job data where each industry belongs to a speceific category and not \"Total jobs\" category. Howevrer, the data from \"total jobs\" category is saved as dataframe for futher analysis. </b>"
   ]
  },
  {
   "cell_type": "code",
   "execution_count": 671,
   "metadata": {},
   "outputs": [
    {
     "data": {
      "text/plain": [
       "(8526, 4)"
      ]
     },
     "execution_count": 671,
     "metadata": {},
     "output_type": "execute_result"
    }
   ],
   "source": [
    "job.shape"
   ]
  },
  {
   "cell_type": "code",
   "execution_count": 672,
   "metadata": {},
   "outputs": [
    {
     "data": {
      "text/plain": [
       "(11130, 5)"
      ]
     },
     "execution_count": 672,
     "metadata": {},
     "output_type": "execute_result"
    }
   ],
   "source": [
    "pop.shape"
   ]
  },
  {
   "cell_type": "markdown",
   "metadata": {},
   "source": [
    "<div class=\"usecase-section-header\">References</div>\n",
    "<ul>\n",
    "    <li> https://pandas.pydata.org/docs/reference/api/pandas.unique.html </li>\n",
    "    <li>https://note.nkmk.me/en/python-pandas-nan-extract/#:~:text=You%20can%20use%20the%20isnull,a%20missing%20value%20or%20not.&text=isnull()%20is%20an%20alias,and%20both%20are%20used%20interchangeably.</li>\n",
    "    <li>https://www.kaggle.com/code/malanep/finding-and-visualizing-missing-data-in-python</li>\n",
    "    <li>https://libraries.io/pypi/missingno</li>\n",
    "    <li>https://pandas.pydata.org/docs/reference/api/pandas.DataFrame.drop.html</li>\n",
    "    <li>https://stackoverflow.com/questions/44869327/find-index-of-all-rows-with-null-values-in-a-particular-column-in-pandas-datafra</li>\n",
    "\n",
    "</ul>"
   ]
  },
  {
   "cell_type": "markdown",
   "metadata": {},
   "source": [
    "<h3> Rhuth's Work Above </h3>\n",
    "<h1>MAIN SECTION </h1> \n",
    "<h3> Tharusha's Work Below </h3>"
   ]
  },
  {
   "cell_type": "markdown",
   "metadata": {},
   "source": []
  },
  {
   "cell_type": "code",
   "execution_count": 670,
   "metadata": {},
   "outputs": [
    {
     "name": "stdout",
     "output_type": "stream",
     "text": [
      "HELLO THIS CHANGE IS FROM THARUSHA CAO , SEE ME\n"
     ]
    }
   ],
   "source": [
    "print(\"HELLO THIS CHANGE IS FROM THARUSHA CAO , SEE ME\")"
   ]
  }
 ],
 "metadata": {
  "kernelspec": {
   "display_name": "Python 3 (ipykernel)",
   "language": "python",
   "name": "python3"
  },
  "language_info": {
   "codemirror_mode": {
    "name": "ipython",
    "version": 3
   },
   "file_extension": ".py",
   "mimetype": "text/x-python",
   "name": "python",
   "nbconvert_exporter": "python",
   "pygments_lexer": "ipython3",
   "version": "3.11.2"
  },
  "vscode": {
   "interpreter": {
    "hash": "ad2bdc8ecc057115af97d19610ffacc2b4e99fae6737bb82f5d7fb13d2f2c186"
   }
  }
 },
 "nbformat": 4,
 "nbformat_minor": 4
}
